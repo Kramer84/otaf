{
 "cells": [
  {
   "cell_type": "markdown",
   "id": "3ac828f3-8d91-4fcb-ac9c-d31c8c334ca3",
   "metadata": {
    "tags": []
   },
   "source": [
    "## Analysis of a 2D Assembly System with 4 Degrees of Freedom Using Manual Construction of Vector Loops, Transformation Matrices, etc.\n",
    "\n",
    "<div>\n",
    "<img src=\"../Pictures/SchemaModeleJeuxTolerance.png\" width=\"750\"/>\n",
    "</div>\n",
    "\n",
    "### **Notebook Overview**\n",
    "This notebook demonstrates the analysis of a 2D assembly system with four degrees of freedom. It involves manually constructing vector loops, transformation matrices, and defining compatibility equations and interface constraints. The process also includes uncertainty quantification and Monte Carlo analysis."
   ]
  },
  {
   "cell_type": "markdown",
   "id": "68448456-7812-42ce-91c2-1ded78d6bb92",
   "metadata": {},
   "source": [
    "#### **Initialization and Imports**"
   ]
  },
  {
   "cell_type": "code",
   "execution_count": 4,
   "id": "6d39483b-87c7-40a1-af11-be7b2c090731",
   "metadata": {
    "tags": []
   },
   "outputs": [],
   "source": [
    "import numpy as np\n",
    "import sympy as sp\n",
    "import openturns as ot\n",
    "import matplotlib.pyplot as plt\n",
    "\n",
    "from IPython.display import display, clear_output, HTML, IFrame\n",
    "from time import time, sleep\n",
    "from scipy.optimize import OptimizeResult, minimize, Bounds, LinearConstraint\n",
    "\n",
    "import otaf\n",
    "\n",
    "# Identity and 180° rotation matrix around z\n",
    "I4 = otaf.I4()\n",
    "J4 = otaf.J4()"
   ]
  },
  {
   "cell_type": "markdown",
   "id": "0df2e9f0-2fb0-4daa-87eb-c0de53897649",
   "metadata": {},
   "source": [
    "#### **Definition of Nominal Dimensions**"
   ]
  },
  {
   "cell_type": "code",
   "execution_count": 5,
   "id": "be2bc724-60c1-4273-aed9-1c6d297693ad",
   "metadata": {
    "tags": []
   },
   "outputs": [],
   "source": [
    "### Different measures of our problem\n",
    "X1 = 99.8  # Nominal Length of the male piece\n",
    "X2 = 100.0  # Nominal Length of the female piece\n",
    "X3 = 10.0  # Nominal width of the pieces\n",
    "j = X2 - X1  # Nominal play between parts.\n",
    "T = 0.2  # Tolerance interval for X1 and X2\n",
    "t_ = T / 2"
   ]
  },
  {
   "cell_type": "markdown",
   "id": "bea9527e-d70a-4b40-90ab-d46dee8171a1",
   "metadata": {
    "tags": []
   },
   "source": [
    "#### **Global Coordinate System (R0)**"
   ]
  },
  {
   "cell_type": "code",
   "execution_count": 6,
   "id": "c98883f1-1bca-47ac-b250-50691dcb4530",
   "metadata": {
    "tags": []
   },
   "outputs": [],
   "source": [
    "R0 = np.array([[1, 0, 0], [0, 1, 0], [0, 0, 1]])\n",
    "x_, y_, z_ = R0[0], R0[1], R0[2]"
   ]
  },
  {
   "cell_type": "markdown",
   "id": "404447fc-9a85-4863-97cb-af5bdb23dfed",
   "metadata": {
    "tags": []
   },
   "source": [
    "#### **Characteristic Points of Each Surface / Feature**"
   ]
  },
  {
   "cell_type": "code",
   "execution_count": 7,
   "id": "15eb1d43-0ba8-43ad-925e-a0bd05dd75b7",
   "metadata": {
    "tags": []
   },
   "outputs": [],
   "source": [
    "# Pièce 1 (male)\n",
    "P1A0, P1A1, P1A2 = (\n",
    "    np.array((0, X3 / 2, 0.0)),\n",
    "    np.array((0, X3, 0.0)),\n",
    "    np.array((0, 0, 0.0)),\n",
    ")\n",
    "P1B0, P1B1, P1B2 = (\n",
    "    np.array((X1, X3 / 2, 0.0)),\n",
    "    np.array((X1, X3, 0.0)),\n",
    "    np.array((X1, 0, 0.0)),\n",
    ")\n",
    "P1C0, P1C1, P1C2 = (\n",
    "    np.array((X1 / 2, 0, 0.0)),\n",
    "    np.array((0, 0, 0.0)),\n",
    "    np.array((X1, 0, 0.0)),\n",
    ")\n",
    "\n",
    "# Pièce 2 (femelle)  # On met les points à hM et pas hF pour qu'ils soient bien opposées! (Besoin??)\n",
    "P2A0, P2A1, P2A2 = (\n",
    "    np.array((0, X3 / 2, 0.0)),\n",
    "    np.array((0, X3, 0.0)),\n",
    "    np.array((0, 0, 0.0)),\n",
    ")\n",
    "P2B0, P2B1, P2B2 = (\n",
    "    np.array((X2, X3 / 2, 0.0)),\n",
    "    np.array((X2, X3, 0.0)),\n",
    "    np.array((X2, 0, 0.0)),\n",
    ")\n",
    "P2C0, P2C1, P2C2 = (\n",
    "    np.array((X2 / 2, 0, 0.0)),\n",
    "    np.array((0, 0, 0.0)),\n",
    "    np.array((X2, 0, 0.0)),\n",
    ")"
   ]
  },
  {
   "cell_type": "markdown",
   "id": "75004d14-8eeb-4200-bfff-03587eeeaa5b",
   "metadata": {},
   "source": [
    "#### **Local Reference Frames for Each (Substitute) Surface**"
   ]
  },
  {
   "cell_type": "code",
   "execution_count": 8,
   "id": "158c0eb4-04ff-4a16-b9eb-4bcad6ed9a1f",
   "metadata": {
    "tags": []
   },
   "outputs": [],
   "source": [
    "# Male Part\n",
    "RP1a = np.array([-1 * x_, -1 * y_, z_])\n",
    "RP1b = R0\n",
    "RP1c = np.array([-y_, x_, z_])\n",
    "\n",
    "# Female Part\n",
    "RP2a = R0\n",
    "RP2b = np.array([-1 * x_, -1 * y_, z_])\n",
    "RP2c = np.array([y_, -1 * x_, z_])"
   ]
  },
  {
   "cell_type": "markdown",
   "id": "3daa4d1a-ee00-4d37-a298-4a515253e7bc",
   "metadata": {},
   "source": [
    "#### **Transformation Matrices and Deviation Matrices**"
   ]
  },
  {
   "cell_type": "code",
   "execution_count": null,
   "id": "f2ac4d56-de83-443b-861a-936115b22a89",
   "metadata": {
    "tags": []
   },
   "outputs": [],
   "source": [
    "# Transformation matrices for each contact point\n",
    "TP1aA0, TP1aA1, TP1aA2 = (\n",
    "    otaf.geometry.tfrt(RP1a, P1A0),\n",
    "    otaf.geometry.tfrt(RP1a, P1A1),\n",
    "    otaf.geometry.tfrt(RP1a, P1A2),\n",
    ")\n",
    "TP1bB0, TP1bB1, TP1bB2 = (\n",
    "    otaf.geometry.tfrt(RP1b, P1B0),\n",
    "    otaf.geometry.tfrt(RP1b, P1B1),\n",
    "    otaf.geometry.tfrt(RP1b, P1B2),\n",
    ")\n",
    "TP1cC0, TP1cC1, TP1cC2 = (\n",
    "    otaf.geometry.tfrt(RP1c, P1C0),\n",
    "    otaf.geometry.tfrt(RP1c, P1C1),\n",
    "    otaf.geometry.tfrt(RP1c, P1C2),\n",
    ")\n",
    "\n",
    "TP2aA0, TP2aA1, TP2aA2 = (\n",
    "    otaf.geometry.tfrt(RP2a, P2A0),\n",
    "    otaf.geometry.tfrt(RP2a, P2A1),\n",
    "    otaf.geometry.tfrt(RP2a, P2A2),\n",
    ")\n",
    "TP2bB0, TP2bB1, TP2bB2 = (\n",
    "    otaf.geometry.tfrt(RP2b, P2B0),\n",
    "    otaf.geometry.tfrt(RP2b, P2B1),\n",
    "    otaf.geometry.tfrt(RP2b, P2B2),\n",
    ")\n",
    "TP2cC0, TP2cC1, TP2cC2 = (\n",
    "    otaf.geometry.tfrt(RP2c, P2C0),\n",
    "    otaf.geometry.tfrt(RP2c, P2C1),\n",
    "    otaf.geometry.tfrt(RP2c, P2C2),\n",
    ")"
   ]
  },
  {
   "cell_type": "code",
   "execution_count": null,
   "id": "e63975e3-462b-4051-8422-ceb748103bf5",
   "metadata": {},
   "outputs": [],
   "source": [
    "# Transformation matrices dictionary\n",
    "TMD = {}\n",
    "TMD[\"T1c1a\"] = otaf.TransformationMatrix(initial=TP1cC0, final=TP1aA0)\n",
    "TMD[\"T2a2c\"] = otaf.TransformationMatrix(initial=TP2aA0, final=TP2cC0)\n",
    "TMD[\"T1c1b\"] = otaf.TransformationMatrix(initial=TP1cC0, final=TP1bB0)\n",
    "TMD[\"T2b2c\"] = otaf.TransformationMatrix(initial=TP2bB0, final=TP2cC0)\n",
    "\n",
    "TMD[\"TP1aA1aA0\"] = otaf.TransformationMatrix(initial=TP1aA1, final=TP1aA0)\n",
    "TMD[\"TP2aA0aA1\"] = otaf.TransformationMatrix(initial=TP2aA0, final=TP2aA1)\n",
    "TMD[\"TP1aA2aA0\"] = otaf.TransformationMatrix(initial=TP1aA2, final=TP1aA0)\n",
    "TMD[\"TP2aA0aA2\"] = otaf.TransformationMatrix(initial=TP2aA0, final=TP2aA2)\n",
    "\n",
    "TMD[\"TP1bB1bB0\"] = otaf.TransformationMatrix(initial=TP1bB1, final=TP1bB0)\n",
    "TMD[\"TP2bB0bB1\"] = otaf.TransformationMatrix(initial=TP2bB0, final=TP2bB1)\n",
    "TMD[\"TP1bB2bB0\"] = otaf.TransformationMatrix(initial=TP1bB2, final=TP1bB0)\n",
    "TMD[\"TP2bB0bB2\"] = otaf.TransformationMatrix(initial=TP2bB0, final=TP2bB2)"
   ]
  },
  {
   "cell_type": "code",
   "execution_count": null,
   "id": "198c46ab-725c-4ade-ab8a-ca96cac4ac87",
   "metadata": {},
   "outputs": [],
   "source": [
    "# Deviation matrix with no defects\n",
    "DI4 = otaf.DeviationMatrix(index=-1, translations=\"\", rotations=\"\")  # Pas de défauts"
   ]
  },
  {
   "cell_type": "markdown",
   "id": "c811ee1b-a7e5-4ee6-90a9-8804613a30e1",
   "metadata": {},
   "source": [
    "#### **Constructing Compatibility Loops**"
   ]
  },
  {
   "cell_type": "markdown",
   "id": "6dbf1d55-2952-46f3-bdcf-f5ec56762ddf",
   "metadata": {},
   "source": [
    "##### **Loop 1: Compatibility (2c -> 1c -> 1a -> 2a)**\n",
    "\n",
    "D2c2c -> GP2cC0P1cC0 -> J4 -> D1c1c -> T1c1a -> D1a1a -> GP1aA0P2aA0 -> J4 -> D2a2a -> T2a2c"
   ]
  },
  {
   "cell_type": "code",
   "execution_count": null,
   "id": "62a9b990-5071-4e25-82e0-5d462bdfe738",
   "metadata": {
    "tags": []
   },
   "outputs": [],
   "source": [
    "# Définissons les matrices :\n",
    "D2c2c = D1c1c = D1a1a = D2a2a = DI4  # Pas de défauts\n",
    "\n",
    "# GAP 0, contact plan-plan, contact bloqué par minimisation\n",
    "GP2cC0P1cC0 = otaf.GapMatrix(index=0, translations_blocked=\"z\", rotations_blocked=\"xy\")\n",
    "# GAP 1, contact plan-plan, tran x et rot z\n",
    "GP1aA0P2aA0 = otaf.GapMatrix(index=1, translations_blocked=\"z\", rotations_blocked=\"xy\")\n",
    "\n",
    "expa_1 = otaf.FirstOrderMatrixExpansion(\n",
    "    [\n",
    "        D2c2c,\n",
    "        GP2cC0P1cC0,\n",
    "        J4,\n",
    "        D1c1c,\n",
    "        TMD[\"T1c1a\"],\n",
    "        D1a1a,\n",
    "        GP1aA0P2aA0,\n",
    "        J4,\n",
    "        D2a2a,\n",
    "        TMD[\"T2a2c\"],\n",
    "    ]\n",
    ").compute_first_order_expansion()\n",
    "expa_1"
   ]
  },
  {
   "cell_type": "markdown",
   "id": "3387ba91-757c-4cb3-8eb7-959b64df75a0",
   "metadata": {
    "tags": []
   },
   "source": [
    "##### **Loop 2: Compatibility (2c -> 1c -> 1b -> 2b)**\n",
    "\n",
    "D2c2c -> GP2cC0P1cC0 -> J4 -> D1c1c -> T1c1b -> D1b1b -> GP1bB0P2bB0 -> J4 -> D2b2b -> T2b2c"
   ]
  },
  {
   "cell_type": "code",
   "execution_count": null,
   "id": "8774add8-0099-4806-b7bf-799cc4a73808",
   "metadata": {},
   "outputs": [],
   "source": [
    "# Définissons les matrices :   # D2c2c -> GP2cC0P1cC0 -> D1c1c ->\n",
    "D1b1b = otaf.DeviationMatrix(index=1, translations=\"x\", rotations=\"z\")  # Défauts plan\n",
    "GP1bB0P2bB0 = otaf.GapMatrix(\n",
    "    index=2, translations_blocked=\"z\", rotations_blocked=\"xy\"\n",
    ")  # GAP 2, jeu plan\n",
    "D2b2b = otaf.DeviationMatrix(\n",
    "    index=2, translations=\"x\", rotations=\"z\", inverse=True\n",
    ")  # Défauts plan #\n",
    "\n",
    "expa_2 = otaf.FirstOrderMatrixExpansion(\n",
    "    [\n",
    "        D2c2c,\n",
    "        GP2cC0P1cC0,\n",
    "        J4,\n",
    "        D1c1c,\n",
    "        TMD[\"T1c1b\"],\n",
    "        D1b1b,\n",
    "        GP1bB0P2bB0,\n",
    "        J4,\n",
    "        D2b2b,\n",
    "        TMD[\"T2b2c\"],\n",
    "    ]\n",
    ").compute_first_order_expansion()\n",
    "expa_2"
   ]
  },
  {
   "cell_type": "code",
   "execution_count": null,
   "id": "e677a90e-e5ef-4252-ae51-4857774f03e4",
   "metadata": {},
   "outputs": [],
   "source": [
    "    expr_compa_1 = otaf.common.get_relevant_expressions(expa_1)\n",
    "    expr_compa_2 = otaf.common.get_relevant_expressions(expa_2)\n",
    "\n",
    "compatibility_expressions = [*expr_compa_1, *expr_compa_2]"
   ]
  },
  {
   "cell_type": "markdown",
   "id": "b1f531ac-4674-40ff-a113-c7c285231a1e",
   "metadata": {},
   "source": [
    "#### **Interface Constraints**\n",
    "\n",
    "Define and compute interface constraints for each contact point."
   ]
  },
  {
   "cell_type": "markdown",
   "id": "0469a4dc-40e3-4397-92b4-2401ed0fbd97",
   "metadata": {},
   "source": [
    "##### **Boucle d'interface 1 côté A :**"
   ]
  },
  {
   "cell_type": "code",
   "execution_count": null,
   "id": "7d612570-bde4-4afb-be07-3075719d592c",
   "metadata": {},
   "outputs": [],
   "source": [
    "# GP1aA1P2aA1 = TP1aA1aA0 GP1aA0P2aA0 J4 TP2aA0aA1 J4\n",
    "expa_f_1 = otaf.FirstOrderMatrixExpansion(\n",
    "    [TMD[\"TP1aA1aA0\"], GP1aA0P2aA0, J4, TMD[\"TP2aA0aA1\"], J4]\n",
    ").compute_first_order_expansion()\n",
    "expa_f_1"
   ]
  },
  {
   "cell_type": "code",
   "execution_count": null,
   "id": "8e08911c-aaab-45f9-bca2-3cab8cb3722d",
   "metadata": {},
   "outputs": [],
   "source": [
    "# GP1aA2P2aA2 = TP1aA2aA0 GP1aA0P2aA0 J4 TP2aA0aA2 J4\n",
    "expa_f_2 = otaf.FirstOrderMatrixExpansion(\n",
    "    [TMD[\"TP1aA2aA0\"], GP1aA0P2aA0, J4, TMD[\"TP2aA0aA2\"], J4]\n",
    ").compute_first_order_expansion()\n",
    "expa_f_2"
   ]
  },
  {
   "cell_type": "markdown",
   "id": "36249036-3ba9-4837-a670-f5d06f711d40",
   "metadata": {},
   "source": [
    "##### **Boucle d'interface 2 côté B :**"
   ]
  },
  {
   "cell_type": "code",
   "execution_count": null,
   "id": "112a2a73-9821-492d-bbfa-c03a7434ba94",
   "metadata": {},
   "outputs": [],
   "source": [
    "# GP1bB1P2bB1 = TP1bB1bB0 GP1bB0P2bB0 J4 TP2bB0bB1 J4\n",
    "expa_f_3 = otaf.FirstOrderMatrixExpansion(\n",
    "    [TMD[\"TP1bB1bB0\"], GP1bB0P2bB0, J4, TMD[\"TP2bB0bB1\"], J4]\n",
    ").compute_first_order_expansion()\n",
    "expa_f_3"
   ]
  },
  {
   "cell_type": "code",
   "execution_count": null,
   "id": "fb92cf03-27ae-4d48-89a8-cf7fe6288b0a",
   "metadata": {},
   "outputs": [],
   "source": [
    "# GP1bB2P2bB2 = TP1bB2bB0 GP1bB0P2bB0 J4 TP2bB0bB2 J4\n",
    "expa_f_4 = otaf.FirstOrderMatrixExpansion(\n",
    "    [TMD[\"TP1bB2bB0\"], GP1bB0P2bB0, J4, TMD[\"TP2bB0bB2\"], J4]\n",
    ").compute_first_order_expansion()\n",
    "expa_f_4"
   ]
  },
  {
   "cell_type": "code",
   "execution_count": null,
   "id": "3e63e63f-164d-4098-b029-84f9632c73f8",
   "metadata": {},
   "outputs": [],
   "source": [
    "mask_matrix = sp.Matrix(\n",
    "    np.array([[0, 0, 0, 1], [0, 0, 0, 0], [0, 0, 0, 0], [0, 0, 0, 0]])\n",
    ")  # Only translation u should be positive so we only need its expression\n",
    "expa_f_1 = expa_f_1.multiply_elementwise(mask_matrix)\n",
    "expa_f_2 = expa_f_2.multiply_elementwise(mask_matrix)\n",
    "expa_f_3 = expa_f_3.multiply_elementwise(mask_matrix)\n",
    "expa_f_4 = expa_f_4.multiply_elementwise(mask_matrix)"
   ]
  },
  {
   "cell_type": "code",
   "execution_count": null,
   "id": "55b14dd0-63c4-4e7a-8f5e-f0bd7e54c06b",
   "metadata": {},
   "outputs": [],
   "source": [
    "expr_fonc_1 = otaf.common.get_relevant_expressions(expa_f_1)\n",
    "expr_fonc_2 = otaf.common.get_relevant_expressions(expa_f_2)\n",
    "expr_fonc_3 = otaf.common.get_relevant_expressions(expa_f_3)\n",
    "expr_fonc_4 = otaf.common.get_relevant_expressions(expa_f_4)\n",
    "\n",
    "interface_constraints = [*expr_fonc_1, *expr_fonc_2, *expr_fonc_3, *expr_fonc_4]"
   ]
  },
  {
   "cell_type": "code",
   "execution_count": null,
   "id": "bae0b2e1-20a5-4340-8edd-06f87233423e",
   "metadata": {},
   "outputs": [],
   "source": [
    "print(\"Compatibility equations:\")\n",
    "for i in range(len(compatibility_expressions)):\n",
    "    display(compatibility_expressions[i])\n",
    "\n",
    "print(\"Interface equations:\")\n",
    "for i in range(len(interface_constraints)):\n",
    "    display(interface_constraints[i])"
   ]
  },
  {
   "cell_type": "code",
   "execution_count": null,
   "id": "6715acb0-ef6c-4f45-9ec0-ddbcbaf44837",
   "metadata": {},
   "outputs": [],
   "source": [
    "SOCAM = otaf.SystemOfConstraintsAssemblyModel(\n",
    "    compatibility_expressions, interface_constraints, verbose=2\n",
    ")\n",
    "\n",
    "SOCAM.embedOptimizationVariable()\n",
    "\n",
    "C_opt = np.array([0, 1, 0, 0, 1, 0, 0, 0, 0])  # None\n",
    "print(SOCAM.deviation_symbols)\n",
    "print(SOCAM.gap_symbols)"
   ]
  },
  {
   "cell_type": "code",
   "execution_count": null,
   "id": "0554fdf5-9a1e-4cfb-859f-b5e382e9e821",
   "metadata": {},
   "outputs": [],
   "source": [
    "# D'abord les variances des lois si leur influence était unique (et nous a environ 95% de conformité)\n",
    "T = 0.2  # Tolerance for X1 and X2. (95% conform)  (= t/2)\n",
    "t_ = T / 2\n",
    "Cm = 0.3\n",
    "sigma_e_pos = T / (6 * Cm)\n",
    "\n",
    "# Le défaut en orientation est piloté par une incertitude sur un angle. On suppose les angles petits << 1 rad\n",
    "theta_max = T / X3\n",
    "sigma_e_theta = (2*theta_max) / (6*Cm) "
   ]
  },
  {
   "cell_type": "code",
   "execution_count": null,
   "id": "10481f94-a419-4a1c-8776-4b23c6c0d6ab",
   "metadata": {},
   "outputs": [],
   "source": [
    "# Let's make our random vector With openturns\n",
    "RandDeviationVect = otaf.uncertainty.get_composed_normal_defect_distribution(\n",
    "    defect_names=SOCAM.deviation_symbols,\n",
    "    sigma_dict = {\"alpha\":sigma_e_theta, \n",
    "                  \"beta\":sigma_e_theta,\n",
    "                  \"gamma\":sigma_e_theta, \n",
    "                  \"u\":sigma_e_pos, \n",
    "                  \"v\":sigma_e_pos, \n",
    "                  \"w\":sigma_e_pos})\n",
    "\n",
    "RandDeviationVect"
   ]
  },
  {
   "cell_type": "markdown",
   "id": "096e5e05-147e-45c4-b453-baa4659c2033",
   "metadata": {},
   "source": [
    "#### **Monte Carlo Simulations for Probability of Failure**\n",
    "\n",
    "##### Using the direct optimization model"
   ]
  },
  {
   "cell_type": "code",
   "execution_count": null,
   "id": "45ddfb1b-8c99-4a8f-8fd1-68be727deb75",
   "metadata": {},
   "outputs": [],
   "source": [
    "# Let's first generate a classic LHS design of expezriment of size 16.\n",
    "D_lambd = len(SOCAM.deviation_symbols)\n",
    "lambda_vect_unconditioned = ot.ComposedDistribution([ot.Uniform(0, 1)] * D_lambd)\n",
    "lambda_vect_unconditioned.setDescription(list(map(str, SOCAM.deviation_symbols)))\n",
    "N_lambda = 200\n",
    "lambda_sample_unconditioned = otaf.uncertainty.generateLHSExperiment(lambda_vect_unconditioned ,N_lambda, 999)\n",
    "#lambda_sample_unconditioned = lambda_sample_unconditioned_generator.generate()\n",
    "lambda_sample_random = lambda_vect_unconditioned.getSample(N_lambda)\n",
    "lambda_sample_conditioned = otaf.uncertainty.condition_lambda_sample(lambda_sample_random, squared_sum=True)\n",
    "print(\", \".join(map(str, SOCAM.gap_symbols)))\n",
    "print(\"\\n\")\n",
    "print(\", \".join(map(str, SOCAM.deviation_symbols)))"
   ]
  },
  {
   "cell_type": "markdown",
   "id": "093608d5-0369-45ff-a638-50ff7190127d",
   "metadata": {},
   "source": [
    "#### Calculating over real model"
   ]
  },
  {
   "cell_type": "code",
   "execution_count": null,
   "id": "ca36e07b-fa62-4481-a0b9-5fa8277cd220",
   "metadata": {
    "scrolled": true
   },
   "outputs": [],
   "source": [
    "bounds = None\n",
    "SEED_MC_PF = 6436431\n",
    "SIZE_MC_PF = int(1e4) #1e4\n",
    "optimizations_array = np.empty((N_lambda, SIZE_MC_PF), dtype=OptimizeResult)\n",
    "failure_probabilities, successes, s_values, statuses = [], [], [], []\n",
    "failed_optimization_points = []\n",
    "\n",
    "start_time = time()  # Record the start time\n",
    "for i in range(N_lambda):\n",
    "    print(f\"Doing iteration {i} of {N_lambda}\")\n",
    "    if i>0:\n",
    "        print(f\"Failure probability, Min: {min(failure_probabilities)}, / Max: {max(failure_probabilities)}\")\n",
    "        print(f\"Failed {(1-successes).sum()} optimizations on { SIZE_MC_PF}\")\n",
    "        print(\"s_mean: \", s_values.mean().round(3), \"s_min: \", np.nanmin(s_values).round(3), \"s_max: \", np.nanmax(s_values).round(3))\n",
    "        print(\"Statuses are:\", np.unique(statuses))\n",
    "    ot.RandomGenerator.SetSeed(SEED_MC_PF)\n",
    "    deviation_samples = np.array(RandDeviationVect.getSample(SIZE_MC_PF)) * np.array(\n",
    "        lambda_sample_conditioned[i]\n",
    "    )\n",
    "    optimizations = otaf.uncertainty.compute_gap_optimizations_on_sample(\n",
    "            SOCAM,\n",
    "            deviation_samples,\n",
    "            bounds=bounds,\n",
    "            n_cpu=-2,\n",
    "            progress_bar=True,\n",
    "        )\n",
    "    successes = np.array([opt.success for opt in optimizations], dtype=bool)\n",
    "    statuses = np.array([opt.status for opt in optimizations], dtype=int)\n",
    "    \n",
    "    if successes.sum() == 0:\n",
    "        print(\"All optimizations failed\")\n",
    "        sleep(0.5)\n",
    "\n",
    "    failed_optimization_points.append(deviation_samples[np.invert(successes), :])\n",
    "    \n",
    "    s_values = np.array([opt.fun for opt in optimizations], dtype=float)\n",
    "    s_values = np.nan_to_num(s_values, nan=np.nanmax(s_values))*-1 # Cause the obj function C is -1*s and failed optimizations count as a negative s\n",
    "    failure_probabilities.append(np.where(s_values < 0, 1, 0).mean())\n",
    "    clear_output(wait=True)\n",
    "print(f\"Done {len (lambda_sample_conditioned)} experiments.\")\n",
    "print(f\"Elapsed time: {time() - start_time:.3f} seconds.\")\n",
    "failed_optimization_points = np.vstack(failed_optimization_points)\n",
    "\n",
    "X = otaf.uncertainty.find_best_worst_quantile(np.array(lambda_sample_conditioned), np.array(failure_probabilities), 0.1)\n",
    "(best_5p_lambda, best_5p_res), (worst_5p_lambda, worst_5p_res) = X"
   ]
  },
  {
   "cell_type": "code",
   "execution_count": null,
   "id": "1b0803fe-1a1a-4177-a43c-88f7617bac99",
   "metadata": {
    "tags": []
   },
   "outputs": [],
   "source": [
    "print(\"Lower probability of failure:\", round(min(failure_probabilities) * 100, 4), \"%\")\n",
    "print(\"Upper probability of failure:\", round(max(failure_probabilities) * 100, 4), \"%\")\n",
    "plt.hist(failure_probabilities)\n",
    "plt.show()"
   ]
  },
  {
   "cell_type": "code",
   "execution_count": null,
   "id": "b78327a4-7915-4858-a789-3de408b8dbc5",
   "metadata": {},
   "outputs": [],
   "source": [
    "otaf.plotting.plot_best_worst_results(best_5p_res, worst_5p_res, figsize=(10,5))\n",
    "\n",
    "variable_labels = [var for var in lambda_sample_conditioned.getDescription()]\n",
    "otaf.plotting.plot_best_worst_input_data(best_5p_lambda, worst_5p_lambda, variable_labels, figsize=(10,5), labels=False)"
   ]
  }
 ],
 "metadata": {
  "kernelspec": {
   "display_name": "Python 3 (ipykernel)",
   "language": "python",
   "name": "python3"
  },
  "language_info": {
   "codemirror_mode": {
    "name": "ipython",
    "version": 3
   },
   "file_extension": ".py",
   "mimetype": "text/x-python",
   "name": "python",
   "nbconvert_exporter": "python",
   "pygments_lexer": "ipython3",
   "version": "3.13.0"
  }
 },
 "nbformat": 4,
 "nbformat_minor": 5
}
