{
 "cells": [
  {
   "cell_type": "markdown",
   "id": "3ac828f3-8d91-4fcb-ac9c-d31c8c334ca3",
   "metadata": {
    "tags": []
   },
   "source": [
    "## Analyse du système minimal en 1.5D avec denavit hartenberg, pour valider méthodo.\n",
    "\n",
    "<div>\n",
    "<img src=\"../Pictures/SchemaModeleJeuxTolerance.png\" width=\"750\"/>\n",
    "</div>"
   ]
  },
  {
   "cell_type": "code",
   "execution_count": 1,
   "id": "6d39483b-87c7-40a1-af11-be7b2c090731",
   "metadata": {
    "tags": []
   },
   "outputs": [],
   "source": [
    "import os\n",
    "import pickle\n",
    "import re\n",
    "import pprint\n",
    "import numpy as np\n",
    "import sympy as sp\n",
    "import scipy\n",
    "import openturns as ot\n",
    "import matplotlib.pyplot as plt\n",
    "import trimesh as tr\n",
    "\n",
    "from math import pi\n",
    "from joblib import Parallel, delayed\n",
    "from importlib import reload\n",
    "from IPython.display import display, clear_output, HTML, IFrame\n",
    "from time import time, sleep\n",
    "from sympy.printing import latex\n",
    "from trimesh import viewer as trview\n",
    "from scipy.optimize import OptimizeResult, minimize, Bounds, LinearConstraint, basinhopping, differential_evolution, brute\n",
    "\n",
    "from efficient_kan import KAN, KANLinear\n",
    "\n",
    "import otaf\n",
    "\n",
    "I4 = otaf.I4()\n",
    "J4 = otaf.J4()"
   ]
  },
  {
   "cell_type": "markdown",
   "id": "0df2e9f0-2fb0-4daa-87eb-c0de53897649",
   "metadata": {},
   "source": [
    "#### **Définition des grandeurs nominales de la pièce**"
   ]
  },
  {
   "cell_type": "code",
   "execution_count": 2,
   "id": "be2bc724-60c1-4273-aed9-1c6d297693ad",
   "metadata": {
    "tags": []
   },
   "outputs": [],
   "source": [
    "### Different measures of our problem\n",
    "X1 = 99.8  # Nominal Length of the male piece\n",
    "X2 = 100.0  # Nominal Length of the female piece\n",
    "X3 = 10.0  # Nominal width of the pieces\n",
    "j = X2 - X1  # Nominal play between pieces.\n",
    "T = 0.2 * np.sqrt(2)  # Tolerance for X1 and X2. (95% conform)  (= t/2)\n",
    "t_ = T / 2"
   ]
  },
  {
   "cell_type": "markdown",
   "id": "bea9527e-d70a-4b40-90ab-d46dee8171a1",
   "metadata": {
    "tags": []
   },
   "source": [
    "#### **Définition du repère global R0 / qui est aussi un repère local de la pièce fixe.**"
   ]
  },
  {
   "cell_type": "code",
   "execution_count": 3,
   "id": "c98883f1-1bca-47ac-b250-50691dcb4530",
   "metadata": {
    "tags": []
   },
   "outputs": [],
   "source": [
    "R0 = np.array([[1, 0, 0], [0, 1, 0], [0, 0, 1]])\n",
    "x_, y_, z_ = R0[0], R0[1], R0[2]"
   ]
  },
  {
   "cell_type": "markdown",
   "id": "404447fc-9a85-4863-97cb-af5bdb23dfed",
   "metadata": {
    "tags": []
   },
   "source": [
    "#### **Définition des coordonnées des points charactéristiques de chaque surface de chaque pièce.**"
   ]
  },
  {
   "cell_type": "code",
   "execution_count": 4,
   "id": "15eb1d43-0ba8-43ad-925e-a0bd05dd75b7",
   "metadata": {
    "tags": []
   },
   "outputs": [],
   "source": [
    "# Pièce 1 (male)\n",
    "P1A0, P1A1, P1A2 = (\n",
    "    np.array((0, X3 / 2, 0.0)),\n",
    "    np.array((0, X3, 0.0)),\n",
    "    np.array((0, 0, 0.0)),\n",
    ")\n",
    "P1B0, P1B1, P1B2 = (\n",
    "    np.array((X1, X3 / 2, 0.0)),\n",
    "    np.array((X1, X3, 0.0)),\n",
    "    np.array((X1, 0, 0.0)),\n",
    ")\n",
    "P1C0, P1C1, P1C2 = (\n",
    "    np.array((X1 / 2, 0, 0.0)),\n",
    "    np.array((0, 0, 0.0)),\n",
    "    np.array((X1, 0, 0.0)),\n",
    ")\n",
    "\n",
    "# Pièce 2 (femelle)  # On met les points à hM et pas hF pour qu'ils soient bien opposées! (Besoin??)\n",
    "P2A0, P2A1, P2A2 = (\n",
    "    np.array((0, X3 / 2, 0.0)),\n",
    "    np.array((0, X3, 0.0)),\n",
    "    np.array((0, 0, 0.0)),\n",
    ")\n",
    "P2B0, P2B1, P2B2 = (\n",
    "    np.array((X2, X3 / 2, 0.0)),\n",
    "    np.array((X2, X3, 0.0)),\n",
    "    np.array((X2, 0, 0.0)),\n",
    ")\n",
    "P2C0, P2C1, P2C2 = (\n",
    "    np.array((X2 / 2, 0, 0.0)),\n",
    "    np.array((0, 0, 0.0)),\n",
    "    np.array((X2, 0, 0.0)),\n",
    ")"
   ]
  },
  {
   "cell_type": "markdown",
   "id": "75004d14-8eeb-4200-bfff-03587eeeaa5b",
   "metadata": {},
   "source": [
    "#### **Définisson les repères locaux de chaque surface substituée.**"
   ]
  },
  {
   "cell_type": "code",
   "execution_count": 5,
   "id": "158c0eb4-04ff-4a16-b9eb-4bcad6ed9a1f",
   "metadata": {
    "tags": []
   },
   "outputs": [],
   "source": [
    "# Pièce1\n",
    "RP1a = np.array([-1 * x_, -1 * y_, z_])\n",
    "RP1b = R0\n",
    "RP1c = np.array([-y_, x_, z_])\n",
    "\n",
    "# Pièce2\n",
    "RP2a = R0\n",
    "RP2b = np.array([-1 * x_, -1 * y_, z_])\n",
    "RP2c = np.array([y_, -1 * x_, z_])"
   ]
  },
  {
   "cell_type": "markdown",
   "id": "3daa4d1a-ee00-4d37-a298-4a515253e7bc",
   "metadata": {},
   "source": [
    "#### **Maintenant construisons les matrices de transformation pour passer du repère global aux repères locaux (et de définition des matrices de déviation et Jeu! )**\n",
    "- tfrt : transformation from rotation translation"
   ]
  },
  {
   "cell_type": "code",
   "execution_count": 6,
   "id": "f2ac4d56-de83-443b-861a-936115b22a89",
   "metadata": {
    "tags": []
   },
   "outputs": [],
   "source": [
    "TP1aA0, TP1aA1, TP1aA2 = (\n",
    "    otaf.geometry.tfrt(RP1a, P1A0),\n",
    "    otaf.geometry.tfrt(RP1a, P1A1),\n",
    "    otaf.geometry.tfrt(RP1a, P1A2),\n",
    ")\n",
    "TP1bB0, TP1bB1, TP1bB2 = (\n",
    "    otaf.geometry.tfrt(RP1b, P1B0),\n",
    "    otaf.geometry.tfrt(RP1b, P1B1),\n",
    "    otaf.geometry.tfrt(RP1b, P1B2),\n",
    ")\n",
    "TP1cC0, TP1cC1, TP1cC2 = (\n",
    "    otaf.geometry.tfrt(RP1c, P1C0),\n",
    "    otaf.geometry.tfrt(RP1c, P1C1),\n",
    "    otaf.geometry.tfrt(RP1c, P1C2),\n",
    ")\n",
    "\n",
    "TP2aA0, TP2aA1, TP2aA2 = (\n",
    "    otaf.geometry.tfrt(RP2a, P2A0),\n",
    "    otaf.geometry.tfrt(RP2a, P2A1),\n",
    "    otaf.geometry.tfrt(RP2a, P2A2),\n",
    ")\n",
    "TP2bB0, TP2bB1, TP2bB2 = (\n",
    "    otaf.geometry.tfrt(RP2b, P2B0),\n",
    "    otaf.geometry.tfrt(RP2b, P2B1),\n",
    "    otaf.geometry.tfrt(RP2b, P2B2),\n",
    ")\n",
    "TP2cC0, TP2cC1, TP2cC2 = (\n",
    "    otaf.geometry.tfrt(RP2c, P2C0),\n",
    "    otaf.geometry.tfrt(RP2c, P2C1),\n",
    "    otaf.geometry.tfrt(RP2c, P2C2),\n",
    ")"
   ]
  },
  {
   "cell_type": "code",
   "execution_count": 7,
   "id": "e63975e3-462b-4051-8422-ceb748103bf5",
   "metadata": {},
   "outputs": [],
   "source": [
    "# Transformation matrices dictionary\n",
    "TMD = {}\n",
    "TMD[\"T1c1a\"] = otaf.TransformationMatrix(initial=TP1cC0, final=TP1aA0)\n",
    "TMD[\"T2a2c\"] = otaf.TransformationMatrix(initial=TP2aA0, final=TP2cC0)\n",
    "TMD[\"T1c1b\"] = otaf.TransformationMatrix(initial=TP1cC0, final=TP1bB0)\n",
    "TMD[\"T2b2c\"] = otaf.TransformationMatrix(initial=TP2bB0, final=TP2cC0)\n",
    "\n",
    "TMD[\"TP1aA1aA0\"] = otaf.TransformationMatrix(initial=TP1aA1, final=TP1aA0)\n",
    "TMD[\"TP2aA0aA1\"] = otaf.TransformationMatrix(initial=TP2aA0, final=TP2aA1)\n",
    "TMD[\"TP1aA2aA0\"] = otaf.TransformationMatrix(initial=TP1aA2, final=TP1aA0)\n",
    "TMD[\"TP2aA0aA2\"] = otaf.TransformationMatrix(initial=TP2aA0, final=TP2aA2)\n",
    "\n",
    "TMD[\"TP1bB1bB0\"] = otaf.TransformationMatrix(initial=TP1bB1, final=TP1bB0)\n",
    "TMD[\"TP2bB0bB1\"] = otaf.TransformationMatrix(initial=TP2bB0, final=TP2bB1)\n",
    "TMD[\"TP1bB2bB0\"] = otaf.TransformationMatrix(initial=TP1bB2, final=TP1bB0)\n",
    "TMD[\"TP2bB0bB2\"] = otaf.TransformationMatrix(initial=TP2bB0, final=TP2bB2)"
   ]
  },
  {
   "cell_type": "code",
   "execution_count": 8,
   "id": "198c46ab-725c-4ade-ab8a-ca96cac4ac87",
   "metadata": {},
   "outputs": [],
   "source": [
    "# Deviation matrix with no defects\n",
    "DI4 = otaf.DeviationMatrix(index=-1, translations=\"\", rotations=\"\")  # Pas de défauts"
   ]
  },
  {
   "cell_type": "markdown",
   "id": "c811ee1b-a7e5-4ee6-90a9-8804613a30e1",
   "metadata": {},
   "source": [
    "### **Construction des boucles pour les équations de compatibilité.** \n",
    "\n",
    "Pour ce système simple, seulement deux boucles sont nécessaires."
   ]
  },
  {
   "cell_type": "markdown",
   "id": "6dbf1d55-2952-46f3-bdcf-f5ec56762ddf",
   "metadata": {},
   "source": [
    "##### **Boucle de compatibilibté 1 : 2c -> 1c -> 1a -> 2a**\n",
    "\n",
    "D2c2c -> GP2cC0P1cC0 -> J4 -> D1c1c -> T1c1a -> D1a1a -> GP1aA0P2aA0 -> J4 -> D2a2a -> T2a2c"
   ]
  },
  {
   "cell_type": "code",
   "execution_count": 9,
   "id": "62a9b990-5071-4e25-82e0-5d462bdfe738",
   "metadata": {
    "tags": []
   },
   "outputs": [
    {
     "data": {
      "text/latex": [
       "$\\displaystyle \\left[\\begin{matrix}1 & - \\gamma_{g 0} - \\gamma_{g 1} & 0 & - \\frac{\\gamma_{g 0}}{10} - 50 \\gamma_{g 1} + u_{g 0} + v_{g 1}\\\\\\gamma_{g 0} + \\gamma_{g 1} & 1 & 0 & 5 \\gamma_{g 1} - u_{g 1} + v_{g 0} + \\frac{1}{10}\\\\0 & 0 & 1 & 0\\\\0 & 0 & 0 & 1\\end{matrix}\\right]$"
      ],
      "text/plain": [
       "Matrix([\n",
       "[                    1, -gamma_g_0 - gamma_g_1, 0, -gamma_g_0/10 - 50*gamma_g_1 + u_g_0 + v_g_1],\n",
       "[gamma_g_0 + gamma_g_1,                      1, 0,           5*gamma_g_1 - u_g_1 + v_g_0 + 1/10],\n",
       "[                    0,                      0, 1,                                            0],\n",
       "[                    0,                      0, 0,                                            1]])"
      ]
     },
     "execution_count": 9,
     "metadata": {},
     "output_type": "execute_result"
    }
   ],
   "source": [
    "# Définissons les matrices :\n",
    "D2c2c = D1c1c = D1a1a = D2a2a = DI4  # Pas de défauts\n",
    "\n",
    "# GAP 0, contact plan-plan, contact bloqué par minimisation\n",
    "GP2cC0P1cC0 = otaf.GapMatrix(index=0, translations_blocked=\"z\", rotations_blocked=\"xy\")\n",
    "# GAP 1, contact plan-plan, tran x et rot z\n",
    "GP1aA0P2aA0 = otaf.GapMatrix(index=1, translations_blocked=\"z\", rotations_blocked=\"xy\")\n",
    "\n",
    "expa_1 = otaf.FirstOrderMatrixExpansion(\n",
    "    [\n",
    "        D2c2c,\n",
    "        GP2cC0P1cC0,\n",
    "        J4,\n",
    "        D1c1c,\n",
    "        TMD[\"T1c1a\"],\n",
    "        D1a1a,\n",
    "        GP1aA0P2aA0,\n",
    "        J4,\n",
    "        D2a2a,\n",
    "        TMD[\"T2a2c\"],\n",
    "    ]\n",
    ").compute_first_order_expansion()\n",
    "expa_1"
   ]
  },
  {
   "cell_type": "markdown",
   "id": "3387ba91-757c-4cb3-8eb7-959b64df75a0",
   "metadata": {
    "tags": []
   },
   "source": [
    "##### **Boucle  de compatibilibté 2 : 2c -> 1c -> 1b -> 2b**\n",
    "\n",
    "D2c2c -> GP2cC0P1cC0 -> J4 -> D1c1c -> T1c1b -> D1b1b -> GP1bB0P2bB0 -> J4 -> D2b2b -> T2b2c"
   ]
  },
  {
   "cell_type": "code",
   "execution_count": 10,
   "id": "8774add8-0099-4806-b7bf-799cc4a73808",
   "metadata": {},
   "outputs": [
    {
     "data": {
      "text/latex": [
       "$\\displaystyle \\left[\\begin{matrix}1 & - \\gamma_{d 1} + \\gamma_{d 2} - \\gamma_{g 0} - \\gamma_{g 2} & 0 & 50 \\gamma_{d 1} - 50 \\gamma_{d 2} + \\frac{\\gamma_{g 0}}{10} + 50 \\gamma_{g 2} + u_{g 0} - v_{g 2}\\\\\\gamma_{d 1} - \\gamma_{d 2} + \\gamma_{g 0} + \\gamma_{g 2} & 1 & 0 & 5 \\gamma_{d 1} - 5 \\gamma_{d 2} + 5 \\gamma_{g 2} + u_{d 1} + u_{d 2} + u_{g 2} + v_{g 0} - \\frac{1}{10}\\\\0 & 0 & 1 & 0\\\\0 & 0 & 0 & 1\\end{matrix}\\right]$"
      ],
      "text/plain": [
       "Matrix([\n",
       "[                                            1, -gamma_d_1 + gamma_d_2 - gamma_g_0 - gamma_g_2, 0,      50*gamma_d_1 - 50*gamma_d_2 + gamma_g_0/10 + 50*gamma_g_2 + u_g_0 - v_g_2],\n",
       "[gamma_d_1 - gamma_d_2 + gamma_g_0 + gamma_g_2,                                              1, 0, 5*gamma_d_1 - 5*gamma_d_2 + 5*gamma_g_2 + u_d_1 + u_d_2 + u_g_2 + v_g_0 - 1/10],\n",
       "[                                            0,                                              0, 1,                                                                              0],\n",
       "[                                            0,                                              0, 0,                                                                              1]])"
      ]
     },
     "execution_count": 10,
     "metadata": {},
     "output_type": "execute_result"
    }
   ],
   "source": [
    "# Définissons les matrices :   # D2c2c -> GP2cC0P1cC0 -> D1c1c ->\n",
    "D1b1b = otaf.DeviationMatrix(index=1, translations=\"x\", rotations=\"z\")  # Défauts plan\n",
    "GP1bB0P2bB0 = otaf.GapMatrix(\n",
    "    index=2, translations_blocked=\"z\", rotations_blocked=\"xy\"\n",
    ")  # GAP 2, jeu plan\n",
    "D2b2b = otaf.DeviationMatrix(\n",
    "    index=2, translations=\"x\", rotations=\"z\", inverse=True\n",
    ")  # Défauts plan #\n",
    "\n",
    "expa_2 = otaf.FirstOrderMatrixExpansion(\n",
    "    [\n",
    "        D2c2c,\n",
    "        GP2cC0P1cC0,\n",
    "        J4,\n",
    "        D1c1c,\n",
    "        TMD[\"T1c1b\"],\n",
    "        D1b1b,\n",
    "        GP1bB0P2bB0,\n",
    "        J4,\n",
    "        D2b2b,\n",
    "        TMD[\"T2b2c\"],\n",
    "    ]\n",
    ").compute_first_order_expansion()\n",
    "expa_2"
   ]
  },
  {
   "cell_type": "code",
   "execution_count": 11,
   "id": "e677a90e-e5ef-4252-ae51-4857774f03e4",
   "metadata": {},
   "outputs": [],
   "source": [
    "    expr_compa_1 = otaf.common.get_relevant_expressions(expa_1)\n",
    "    expr_compa_2 = otaf.common.get_relevant_expressions(expa_2)\n",
    "\n",
    "compatibility_expressions = [*expr_compa_1, *expr_compa_2]"
   ]
  },
  {
   "cell_type": "markdown",
   "id": "b1f531ac-4674-40ff-a113-c7c285231a1e",
   "metadata": {},
   "source": [
    "### **Définition et expression des contraintes d'interface**"
   ]
  },
  {
   "cell_type": "markdown",
   "id": "0469a4dc-40e3-4397-92b4-2401ed0fbd97",
   "metadata": {},
   "source": [
    "##### **Boucle d'interface 1 côté A :**"
   ]
  },
  {
   "cell_type": "code",
   "execution_count": 12,
   "id": "7d612570-bde4-4afb-be07-3075719d592c",
   "metadata": {},
   "outputs": [
    {
     "data": {
      "text/latex": [
       "$\\displaystyle \\left[\\begin{matrix}1 & - \\gamma_{g 1} & 0 & 5 \\gamma_{g 1} + u_{g 1}\\\\\\gamma_{g 1} & 1 & 0 & v_{g 1}\\\\0 & 0 & 1 & 0\\\\0 & 0 & 0 & 1\\end{matrix}\\right]$"
      ],
      "text/plain": [
       "Matrix([\n",
       "[        1, -gamma_g_1, 0, 5*gamma_g_1 + u_g_1],\n",
       "[gamma_g_1,          1, 0,               v_g_1],\n",
       "[        0,          0, 1,                   0],\n",
       "[        0,          0, 0,                   1]])"
      ]
     },
     "execution_count": 12,
     "metadata": {},
     "output_type": "execute_result"
    }
   ],
   "source": [
    "# GP1aA1P2aA1 = TP1aA1aA0 GP1aA0P2aA0 J4 TP2aA0aA1 J4\n",
    "expa_f_1 = otaf.FirstOrderMatrixExpansion(\n",
    "    [TMD[\"TP1aA1aA0\"], GP1aA0P2aA0, J4, TMD[\"TP2aA0aA1\"], J4]\n",
    ").compute_first_order_expansion()\n",
    "expa_f_1"
   ]
  },
  {
   "cell_type": "code",
   "execution_count": 13,
   "id": "8e08911c-aaab-45f9-bca2-3cab8cb3722d",
   "metadata": {},
   "outputs": [
    {
     "data": {
      "text/latex": [
       "$\\displaystyle \\left[\\begin{matrix}1 & - \\gamma_{g 1} & 0 & - 5 \\gamma_{g 1} + u_{g 1}\\\\\\gamma_{g 1} & 1 & 0 & v_{g 1}\\\\0 & 0 & 1 & 0\\\\0 & 0 & 0 & 1\\end{matrix}\\right]$"
      ],
      "text/plain": [
       "Matrix([\n",
       "[        1, -gamma_g_1, 0, -5*gamma_g_1 + u_g_1],\n",
       "[gamma_g_1,          1, 0,                v_g_1],\n",
       "[        0,          0, 1,                    0],\n",
       "[        0,          0, 0,                    1]])"
      ]
     },
     "execution_count": 13,
     "metadata": {},
     "output_type": "execute_result"
    }
   ],
   "source": [
    "# GP1aA2P2aA2 = TP1aA2aA0 GP1aA0P2aA0 J4 TP2aA0aA2 J4\n",
    "expa_f_2 = otaf.FirstOrderMatrixExpansion(\n",
    "    [TMD[\"TP1aA2aA0\"], GP1aA0P2aA0, J4, TMD[\"TP2aA0aA2\"], J4]\n",
    ").compute_first_order_expansion()\n",
    "expa_f_2"
   ]
  },
  {
   "cell_type": "markdown",
   "id": "36249036-3ba9-4837-a670-f5d06f711d40",
   "metadata": {},
   "source": [
    "##### **Boucle d'interface 2 côté B :**"
   ]
  },
  {
   "cell_type": "code",
   "execution_count": 14,
   "id": "112a2a73-9821-492d-bbfa-c03a7434ba94",
   "metadata": {},
   "outputs": [
    {
     "data": {
      "text/latex": [
       "$\\displaystyle \\left[\\begin{matrix}1 & - \\gamma_{g 2} & 0 & - 5 \\gamma_{g 2} + u_{g 2}\\\\\\gamma_{g 2} & 1 & 0 & v_{g 2}\\\\0 & 0 & 1 & 0\\\\0 & 0 & 0 & 1\\end{matrix}\\right]$"
      ],
      "text/plain": [
       "Matrix([\n",
       "[        1, -gamma_g_2, 0, -5*gamma_g_2 + u_g_2],\n",
       "[gamma_g_2,          1, 0,                v_g_2],\n",
       "[        0,          0, 1,                    0],\n",
       "[        0,          0, 0,                    1]])"
      ]
     },
     "execution_count": 14,
     "metadata": {},
     "output_type": "execute_result"
    }
   ],
   "source": [
    "# GP1bB1P2bB1 = TP1bB1bB0 GP1bB0P2bB0 J4 TP2bB0bB1 J4\n",
    "expa_f_3 = otaf.FirstOrderMatrixExpansion(\n",
    "    [TMD[\"TP1bB1bB0\"], GP1bB0P2bB0, J4, TMD[\"TP2bB0bB1\"], J4]\n",
    ").compute_first_order_expansion()\n",
    "expa_f_3"
   ]
  },
  {
   "cell_type": "code",
   "execution_count": 15,
   "id": "fb92cf03-27ae-4d48-89a8-cf7fe6288b0a",
   "metadata": {},
   "outputs": [
    {
     "data": {
      "text/latex": [
       "$\\displaystyle \\left[\\begin{matrix}1 & - \\gamma_{g 2} & 0 & 5 \\gamma_{g 2} + u_{g 2}\\\\\\gamma_{g 2} & 1 & 0 & v_{g 2}\\\\0 & 0 & 1 & 0\\\\0 & 0 & 0 & 1\\end{matrix}\\right]$"
      ],
      "text/plain": [
       "Matrix([\n",
       "[        1, -gamma_g_2, 0, 5*gamma_g_2 + u_g_2],\n",
       "[gamma_g_2,          1, 0,               v_g_2],\n",
       "[        0,          0, 1,                   0],\n",
       "[        0,          0, 0,                   1]])"
      ]
     },
     "execution_count": 15,
     "metadata": {},
     "output_type": "execute_result"
    }
   ],
   "source": [
    "# GP1bB2P2bB2 = TP1bB2bB0 GP1bB0P2bB0 J4 TP2bB0bB2 J4\n",
    "expa_f_4 = otaf.FirstOrderMatrixExpansion(\n",
    "    [TMD[\"TP1bB2bB0\"], GP1bB0P2bB0, J4, TMD[\"TP2bB0bB2\"], J4]\n",
    ").compute_first_order_expansion()\n",
    "expa_f_4"
   ]
  },
  {
   "cell_type": "code",
   "execution_count": 16,
   "id": "3e63e63f-164d-4098-b029-84f9632c73f8",
   "metadata": {},
   "outputs": [],
   "source": [
    "mask_matrix = sp.Matrix(\n",
    "    np.array([[0, 0, 0, 1], [0, 0, 0, 0], [0, 0, 0, 0], [0, 0, 0, 0]])\n",
    ")  # Only translation u should be positive\n",
    "expa_f_1 = expa_f_1.multiply_elementwise(mask_matrix)\n",
    "expa_f_2 = expa_f_2.multiply_elementwise(mask_matrix)\n",
    "expa_f_3 = expa_f_3.multiply_elementwise(mask_matrix)\n",
    "expa_f_4 = expa_f_4.multiply_elementwise(mask_matrix)"
   ]
  },
  {
   "cell_type": "code",
   "execution_count": 17,
   "id": "55b14dd0-63c4-4e7a-8f5e-f0bd7e54c06b",
   "metadata": {},
   "outputs": [],
   "source": [
    "expr_fonc_1 = otaf.common.get_relevant_expressions(expa_f_1)\n",
    "expr_fonc_2 = otaf.common.get_relevant_expressions(expa_f_2)\n",
    "expr_fonc_3 = otaf.common.get_relevant_expressions(expa_f_3)\n",
    "expr_fonc_4 = otaf.common.get_relevant_expressions(expa_f_4)\n",
    "\n",
    "interface_constraints = [*expr_fonc_1, *expr_fonc_2, *expr_fonc_3, *expr_fonc_4]"
   ]
  },
  {
   "cell_type": "code",
   "execution_count": 18,
   "id": "bae0b2e1-20a5-4340-8edd-06f87233423e",
   "metadata": {},
   "outputs": [
    {
     "name": "stdout",
     "output_type": "stream",
     "text": [
      "Compatibility equations:\n"
     ]
    },
    {
     "data": {
      "text/latex": [
       "$\\displaystyle - \\gamma_{g 0} - \\gamma_{g 1}$"
      ],
      "text/plain": [
       "-gamma_g_0 - gamma_g_1"
      ]
     },
     "metadata": {},
     "output_type": "display_data"
    },
    {
     "data": {
      "text/latex": [
       "$\\displaystyle - \\frac{\\gamma_{g 0}}{10} - 50 \\gamma_{g 1} + u_{g 0} + v_{g 1}$"
      ],
      "text/plain": [
       "-gamma_g_0/10 - 50*gamma_g_1 + u_g_0 + v_g_1"
      ]
     },
     "metadata": {},
     "output_type": "display_data"
    },
    {
     "data": {
      "text/latex": [
       "$\\displaystyle 5 \\gamma_{g 1} - u_{g 1} + v_{g 0} + \\frac{1}{10}$"
      ],
      "text/plain": [
       "5*gamma_g_1 - u_g_1 + v_g_0 + 1/10"
      ]
     },
     "metadata": {},
     "output_type": "display_data"
    },
    {
     "data": {
      "text/latex": [
       "$\\displaystyle - \\gamma_{d 1} + \\gamma_{d 2} - \\gamma_{g 0} - \\gamma_{g 2}$"
      ],
      "text/plain": [
       "-gamma_d_1 + gamma_d_2 - gamma_g_0 - gamma_g_2"
      ]
     },
     "metadata": {},
     "output_type": "display_data"
    },
    {
     "data": {
      "text/latex": [
       "$\\displaystyle 50 \\gamma_{d 1} - 50 \\gamma_{d 2} + \\frac{\\gamma_{g 0}}{10} + 50 \\gamma_{g 2} + u_{g 0} - v_{g 2}$"
      ],
      "text/plain": [
       "50*gamma_d_1 - 50*gamma_d_2 + gamma_g_0/10 + 50*gamma_g_2 + u_g_0 - v_g_2"
      ]
     },
     "metadata": {},
     "output_type": "display_data"
    },
    {
     "data": {
      "text/latex": [
       "$\\displaystyle 5 \\gamma_{d 1} - 5 \\gamma_{d 2} + 5 \\gamma_{g 2} + u_{d 1} + u_{d 2} + u_{g 2} + v_{g 0} - \\frac{1}{10}$"
      ],
      "text/plain": [
       "5*gamma_d_1 - 5*gamma_d_2 + 5*gamma_g_2 + u_d_1 + u_d_2 + u_g_2 + v_g_0 - 1/10"
      ]
     },
     "metadata": {},
     "output_type": "display_data"
    },
    {
     "name": "stdout",
     "output_type": "stream",
     "text": [
      "Interface equations:\n"
     ]
    },
    {
     "data": {
      "text/latex": [
       "$\\displaystyle 5 \\gamma_{g 1} + u_{g 1}$"
      ],
      "text/plain": [
       "5*gamma_g_1 + u_g_1"
      ]
     },
     "metadata": {},
     "output_type": "display_data"
    },
    {
     "data": {
      "text/latex": [
       "$\\displaystyle - 5 \\gamma_{g 1} + u_{g 1}$"
      ],
      "text/plain": [
       "-5*gamma_g_1 + u_g_1"
      ]
     },
     "metadata": {},
     "output_type": "display_data"
    },
    {
     "data": {
      "text/latex": [
       "$\\displaystyle - 5 \\gamma_{g 2} + u_{g 2}$"
      ],
      "text/plain": [
       "-5*gamma_g_2 + u_g_2"
      ]
     },
     "metadata": {},
     "output_type": "display_data"
    },
    {
     "data": {
      "text/latex": [
       "$\\displaystyle 5 \\gamma_{g 2} + u_{g 2}$"
      ],
      "text/plain": [
       "5*gamma_g_2 + u_g_2"
      ]
     },
     "metadata": {},
     "output_type": "display_data"
    }
   ],
   "source": [
    "print(\"Compatibility equations:\")\n",
    "for i in range(len(compatibility_expressions)):\n",
    "    display(compatibility_expressions[i])\n",
    "\n",
    "print(\"Interface equations:\")\n",
    "for i in range(len(interface_constraints)):\n",
    "    display(interface_constraints[i])"
   ]
  },
  {
   "cell_type": "code",
   "execution_count": 19,
   "id": "6715acb0-ef6c-4f45-9ec0-ddbcbaf44837",
   "metadata": {},
   "outputs": [
    {
     "name": "stdout",
     "output_type": "stream",
     "text": [
      "[u_d_1, gamma_d_1, u_d_2, gamma_d_2]\n",
      "[u_g_0, v_g_0, gamma_g_0, u_g_1, v_g_1, gamma_g_1, u_g_2, v_g_2, gamma_g_2, s]\n"
     ]
    }
   ],
   "source": [
    "SOCAM = otaf.SystemOfConstraintsAssemblyModel(\n",
    "    compatibility_expressions, interface_constraints, verbose=2\n",
    ")\n",
    "\n",
    "SOCAM.embedOptimizationVariable()\n",
    "\n",
    "C_opt = np.array([0, 1, 0, 0, 1, 0, 0, 0, 0])  # None\n",
    "print(SOCAM.deviation_symbols)\n",
    "print(SOCAM.gap_symbols)"
   ]
  },
  {
   "cell_type": "code",
   "execution_count": 20,
   "id": "0554fdf5-9a1e-4cfb-859f-b5e382e9e821",
   "metadata": {},
   "outputs": [],
   "source": [
    "# D'abord les variances des lois si leur influence était unique (et nous a environ 95% de conformité)\n",
    "T = 0.2 *np.sqrt(2)  # Tolerance for X1 and X2. (95% conform)  (= t/2)\n",
    "t_ = T / 2\n",
    "Cm = 1\n",
    "sigma_e_pos = T / (6 * Cm)\n",
    "\n",
    "# Le défaut en orientation est piloté par une incertitude sur un angle. On suppose les angles petits << 1 rad\n",
    "theta_max = T / X3\n",
    "sigma_e_theta = (2*theta_max) / (6*Cm) "
   ]
  },
  {
   "cell_type": "code",
   "execution_count": 21,
   "id": "10481f94-a419-4a1c-8776-4b23c6c0d6ab",
   "metadata": {},
   "outputs": [
    {
     "data": {
      "text/html": [
       "ComposedDistribution\n",
       "<ul>\n",
       "  <li>name=ComposedDistribution</li>\n",
       "  <li>dimension: 4</li>\n",
       "  <li>description=[u_d_1,gamma_d_1,u_d_2,gamma_d_2]\n",
       "  <li>copula: IndependentCopula(dimension = 4)</li>\n",
       "</ul>\n",
       "\n",
       "<table>\n",
       "  <tr>\n",
       "    <th>Index</th>\n",
       "    <th>Variable</th>\n",
       "    <th>Distribution</th>\n",
       "  </tr>\n",
       "  <tr>\n",
       "    <td>0</td>\n",
       "    <td>u_d_1</td>\n",
       "    <td>Normal(mu = 0, sigma = 0.0471405)</td>\n",
       "  </tr>\n",
       "  <tr>\n",
       "    <td>1</td>\n",
       "    <td>gamma_d_1</td>\n",
       "    <td>Normal(mu = 0, sigma = 0.00942809)</td>\n",
       "  </tr>\n",
       "  <tr>\n",
       "    <td>2</td>\n",
       "    <td>u_d_2</td>\n",
       "    <td>Normal(mu = 0, sigma = 0.0471405)</td>\n",
       "  </tr>\n",
       "  <tr>\n",
       "    <td>3</td>\n",
       "    <td>gamma_d_2</td>\n",
       "    <td>Normal(mu = 0, sigma = 0.00942809)</td>\n",
       "  </tr>\n",
       "</table>\n"
      ],
      "text/plain": [
       "class=ComposedDistribution name=ComposedDistribution dimension=4 copula=class=IndependentCopula name=IndependentCopula dimension=4 marginal[0]=class=Normal name=Normal dimension=1 mean=class=Point name=Unnamed dimension=1 values=[0] sigma=class=Point name=Unnamed dimension=1 values=[0.0471405] correlationMatrix=class=CorrelationMatrix dimension=1 implementation=class=MatrixImplementation name=Unnamed rows=1 columns=1 values=[1] marginal[1]=class=Normal name=Normal dimension=1 mean=class=Point name=Unnamed dimension=1 values=[0] sigma=class=Point name=Unnamed dimension=1 values=[0.00942809] correlationMatrix=class=CorrelationMatrix dimension=1 implementation=class=MatrixImplementation name=Unnamed rows=1 columns=1 values=[1] marginal[2]=class=Normal name=Normal dimension=1 mean=class=Point name=Unnamed dimension=1 values=[0] sigma=class=Point name=Unnamed dimension=1 values=[0.0471405] correlationMatrix=class=CorrelationMatrix dimension=1 implementation=class=MatrixImplementation name=Unnamed rows=1 columns=1 values=[1] marginal[3]=class=Normal name=Normal dimension=1 mean=class=Point name=Unnamed dimension=1 values=[0] sigma=class=Point name=Unnamed dimension=1 values=[0.00942809] correlationMatrix=class=CorrelationMatrix dimension=1 implementation=class=MatrixImplementation name=Unnamed rows=1 columns=1 values=[1]"
      ]
     },
     "execution_count": 21,
     "metadata": {},
     "output_type": "execute_result"
    }
   ],
   "source": [
    "# Let's make our random vector With openturns\n",
    "RandDeviationVect = otaf.uncertainty.get_composed_normal_defect_distribution(\n",
    "    defect_names=SOCAM.deviation_symbols,\n",
    "    sigma_dict = {\"alpha\":sigma_e_theta, \n",
    "                  \"beta\":sigma_e_theta,\n",
    "                  \"gamma\":sigma_e_theta, \n",
    "                  \"u\":sigma_e_pos, \n",
    "                  \"v\":sigma_e_pos, \n",
    "                  \"w\":sigma_e_pos})\n",
    "\n",
    "RandDeviationVect"
   ]
  },
  {
   "cell_type": "markdown",
   "id": "17853927-96a0-4276-955a-f971936deb29",
   "metadata": {},
   "source": [
    "### Some deep learning interlude\n",
    "\n",
    "$$f(x) = \\frac{1}{e^{3 \\cdot \\left( e^{\\frac{x}{|x| + 0.04}} -1 \\right)}}$$"
   ]
  },
  {
   "cell_type": "code",
   "execution_count": 22,
   "id": "8bfb84fb-fc6e-4e47-b25e-ca36f33c3199",
   "metadata": {},
   "outputs": [
    {
     "name": "stderr",
     "output_type": "stream",
     "text": [
      "/home/ksimady/anaconda3/envs/anr-dev/lib/python3.11/site-packages/IPython/core/display.py:431: UserWarning: Consider using IPython.display.IFrame instead\n",
      "  warnings.warn(\"Consider using IPython.display.IFrame instead\")\n"
     ]
    },
    {
     "data": {
      "text/html": [
       "<iframe src=\"https://www.desmos.com/calculator/68wxkdal59?embed\" width=\"500\" height=\"500\" style=\"border: 1px solid #ccc\" frameborder=0></iframe>"
      ],
      "text/plain": [
       "<IPython.core.display.HTML object>"
      ]
     },
     "metadata": {},
     "output_type": "display_data"
    }
   ],
   "source": [
    "desmos_figure = '<iframe src=\"https://www.desmos.com/calculator/68wxkdal59?embed\" width=\"500\" height=\"500\" style=\"border: 1px solid #ccc\" frameborder=0></iframe>'\n",
    "display(HTML(desmos_figure))"
   ]
  },
  {
   "cell_type": "code",
   "execution_count": 23,
   "id": "2f94d737-cccd-4c54-810f-2d8e42d13342",
   "metadata": {
    "scrolled": true
   },
   "outputs": [
    {
     "name": "stdout",
     "output_type": "stream",
     "text": [
      "Using s variable for objective\n"
     ]
    },
    {
     "data": {
      "application/vnd.jupyter.widget-view+json": {
       "model_id": "4e210e5fe41040b1adb246c1c6682a81",
       "version_major": 2,
       "version_minor": 0
      },
      "text/plain": [
       "  0%|          | 0/100000 [00:00<?, ?it/s]"
      ]
     },
     "metadata": {},
     "output_type": "display_data"
    },
    {
     "name": "stdout",
     "output_type": "stream",
     "text": [
      "Generated and saved new sample and results with seed.\n",
      "Ratio of failed simulations in sample : 0.0646\n"
     ]
    }
   ],
   "source": [
    "\n",
    "# Define the seed, sample size, and file paths\n",
    "SEED = 42  # Example seed value\n",
    "sample_size = 100000\n",
    "model_name = \"model1.5d\"\n",
    "sample_filename = f'STORAGE/training_sample_{sample_size}_seed_{SEED}_{model_name}_ai.npy'\n",
    "results_filename = f'STORAGE/training_results_{sample_size}_seed_{SEED}_{model_name}_ai.npy'\n",
    "\n",
    "# Ensure reproducibility by setting the seed\n",
    "np.random.seed(SEED)\n",
    "\n",
    "# Check if the sample and results files already exist\n",
    "if os.path.exists(sample_filename) and os.path.exists(results_filename):\n",
    "    with open(sample_filename, 'rb') as file:\n",
    "        TRAIN_SAMPLE = np.load(file)\n",
    "    with open(results_filename, 'rb') as file:\n",
    "        TRAIN_RESULTS = np.load(file)\n",
    "    print(\"Loaded existing sample and results from file.\")\n",
    "else:\n",
    "    # Generate the sample\n",
    "    dist = otaf.uncertainty.multiply_composed_distribution_with_constant(\n",
    "        RandDeviationVect, 1.15) # We now work with low failure probabilities\n",
    "    #TRAIN_SAMPLE = np.array(otaf.uncertainty.generateLHSExperiment(dist, sample_size))\n",
    "    TRAIN_SAMPLE = np.array(dist.getSample(sample_size),dtype=\"float32\")\n",
    "    # Compute the results\n",
    "    TRAIN_RESULTS = otaf.uncertainty.compute_gap_optimizations_on_sample_batch(\n",
    "        SOCAM,\n",
    "        TRAIN_SAMPLE,\n",
    "        bounds=None,\n",
    "        n_cpu=-2,\n",
    "        progress_bar=True,\n",
    "        batch_size=500,\n",
    "        dtype=\"float32\"\n",
    "    )\n",
    "    #TRAIN_RESULTS = np.array([res.x[-1] for res in TRAIN_RESULTS],dtype=\"float32\") #Only s variable.\n",
    "    \n",
    "    # Save the sample and results\n",
    "    with open(sample_filename, 'wb') as file:\n",
    "        np.save(file, TRAIN_SAMPLE)\n",
    "    with open(results_filename, 'wb') as file:\n",
    "        np.save(file, TRAIN_RESULTS)\n",
    "    print(\"Generated and saved new sample and results with seed.\")\n",
    "\n",
    "# Assign X and y from TRAIN_SAMPLE and TRAIN_RESULTS\n",
    "Xtrain = TRAIN_SAMPLE\n",
    "ytrain = TRAIN_RESULTS\n",
    "print(f\"Ratio of failed simulations in sample : {np.where(ytrain[:,-1]<0,1,0).sum()/sample_size}\")"
   ]
  },
  {
   "cell_type": "code",
   "execution_count": null,
   "id": "e26aaf4b-2074-4efa-aa90-7f14ddc4d6e6",
   "metadata": {},
   "outputs": [],
   "source": []
  },
  {
   "cell_type": "code",
   "execution_count": 24,
   "id": "74f7a7d8-30bd-428b-a69a-6a5f853096aa",
   "metadata": {
    "scrolled": true
   },
   "outputs": [
    {
     "name": "stdout",
     "output_type": "stream",
     "text": [
      "[4, 22, 12, 5, 1]\n",
      "[4, 22, 12, 5, 1]\n"
     ]
    },
    {
     "data": {
      "application/vnd.jupyter.widget-view+json": {
       "model_id": "f4fe257789de4f3abbb011a70139c5b7",
       "version_major": 2,
       "version_minor": 0
      },
      "text/plain": [
       "  0%|          | 0/2 [00:00<?, ?batch/s]"
      ]
     },
     "metadata": {},
     "output_type": "display_data"
    },
    {
     "name": "stdout",
     "output_type": "stream",
     "text": [
      "Epoch 001, Val Loss: 1.052577, Val R2: -699.755188\n"
     ]
    },
    {
     "data": {
      "application/vnd.jupyter.widget-view+json": {
       "model_id": "dc5d013139fc4d6a8f9c192f2178f53e",
       "version_major": 2,
       "version_minor": 0
      },
      "text/plain": [
       "  0%|          | 0/2 [00:00<?, ?batch/s]"
      ]
     },
     "metadata": {},
     "output_type": "display_data"
    },
    {
     "name": "stdout",
     "output_type": "stream",
     "text": [
      "Epoch 002, Val Loss: 1.026038, Val R2: -1229.215698\n"
     ]
    },
    {
     "data": {
      "application/vnd.jupyter.widget-view+json": {
       "model_id": "b552215398004ad9a7e1fcd9059edace",
       "version_major": 2,
       "version_minor": 0
      },
      "text/plain": [
       "  0%|          | 0/2 [00:00<?, ?batch/s]"
      ]
     },
     "metadata": {},
     "output_type": "display_data"
    },
    {
     "name": "stdout",
     "output_type": "stream",
     "text": [
      "Epoch 003, Val Loss: 1.005237, Val R2: -1872.398071\n"
     ]
    },
    {
     "data": {
      "application/vnd.jupyter.widget-view+json": {
       "model_id": "59e0f73147204837bfece339aec3a4a7",
       "version_major": 2,
       "version_minor": 0
      },
      "text/plain": [
       "  0%|          | 0/2 [00:00<?, ?batch/s]"
      ]
     },
     "metadata": {},
     "output_type": "display_data"
    },
    {
     "name": "stdout",
     "output_type": "stream",
     "text": [
      "Epoch 004, Val Loss: 0.987424, Val R2: -2139.757812\n"
     ]
    },
    {
     "data": {
      "application/vnd.jupyter.widget-view+json": {
       "model_id": "e6a11b997e3d479aaf2fdc77403d8fdc",
       "version_major": 2,
       "version_minor": 0
      },
      "text/plain": [
       "  0%|          | 0/2 [00:00<?, ?batch/s]"
      ]
     },
     "metadata": {},
     "output_type": "display_data"
    },
    {
     "name": "stdout",
     "output_type": "stream",
     "text": [
      "Epoch 005, Val Loss: 0.972307, Val R2: -1546.094727\n"
     ]
    },
    {
     "data": {
      "application/vnd.jupyter.widget-view+json": {
       "model_id": "8b72777d58644e71a14a8df4dc53630c",
       "version_major": 2,
       "version_minor": 0
      },
      "text/plain": [
       "  0%|          | 0/2 [00:00<?, ?batch/s]"
      ]
     },
     "metadata": {},
     "output_type": "display_data"
    },
    {
     "name": "stdout",
     "output_type": "stream",
     "text": [
      "Epoch 006, Val Loss: 0.958179, Val R2: -889.369019\n"
     ]
    },
    {
     "data": {
      "application/vnd.jupyter.widget-view+json": {
       "model_id": "48f5e051bc7644e9b068fd7df3a91851",
       "version_major": 2,
       "version_minor": 0
      },
      "text/plain": [
       "  0%|          | 0/2 [00:00<?, ?batch/s]"
      ]
     },
     "metadata": {},
     "output_type": "display_data"
    },
    {
     "name": "stdout",
     "output_type": "stream",
     "text": [
      "Epoch 007, Val Loss: 0.942557, Val R2: -504.871552\n"
     ]
    },
    {
     "data": {
      "application/vnd.jupyter.widget-view+json": {
       "model_id": "751e26126fbf4e69be987200d632b0d9",
       "version_major": 2,
       "version_minor": 0
      },
      "text/plain": [
       "  0%|          | 0/2 [00:00<?, ?batch/s]"
      ]
     },
     "metadata": {},
     "output_type": "display_data"
    },
    {
     "name": "stdout",
     "output_type": "stream",
     "text": [
      "Epoch 008, Val Loss: 0.924015, Val R2: -298.217438\n"
     ]
    },
    {
     "data": {
      "application/vnd.jupyter.widget-view+json": {
       "model_id": "7eeb263e740b4dfdafb49694f059b462",
       "version_major": 2,
       "version_minor": 0
      },
      "text/plain": [
       "  0%|          | 0/2 [00:00<?, ?batch/s]"
      ]
     },
     "metadata": {},
     "output_type": "display_data"
    },
    {
     "name": "stdout",
     "output_type": "stream",
     "text": [
      "Epoch 009, Val Loss: 0.902012, Val R2: -183.170624\n"
     ]
    },
    {
     "data": {
      "application/vnd.jupyter.widget-view+json": {
       "model_id": "82f8cc52efe84bb7a1d30415fc95a811",
       "version_major": 2,
       "version_minor": 0
      },
      "text/plain": [
       "  0%|          | 0/2 [00:00<?, ?batch/s]"
      ]
     },
     "metadata": {},
     "output_type": "display_data"
    },
    {
     "name": "stdout",
     "output_type": "stream",
     "text": [
      "Epoch 010, Val Loss: 0.876476, Val R2: -115.923187\n"
     ]
    },
    {
     "data": {
      "application/vnd.jupyter.widget-view+json": {
       "model_id": "4f9250cebe2c4aceacc8949f468a6109",
       "version_major": 2,
       "version_minor": 0
      },
      "text/plain": [
       "  0%|          | 0/2 [00:00<?, ?batch/s]"
      ]
     },
     "metadata": {},
     "output_type": "display_data"
    },
    {
     "name": "stdout",
     "output_type": "stream",
     "text": [
      "Epoch 011, Val Loss: 0.847407, Val R2: -74.937996\n"
     ]
    },
    {
     "data": {
      "application/vnd.jupyter.widget-view+json": {
       "model_id": "dfcce795e3b64418a6e4a6cc5c664847",
       "version_major": 2,
       "version_minor": 0
      },
      "text/plain": [
       "  0%|          | 0/2 [00:00<?, ?batch/s]"
      ]
     },
     "metadata": {},
     "output_type": "display_data"
    },
    {
     "name": "stdout",
     "output_type": "stream",
     "text": [
      "Epoch 012, Val Loss: 0.814870, Val R2: -49.184223\n"
     ]
    },
    {
     "data": {
      "application/vnd.jupyter.widget-view+json": {
       "model_id": "eed80f0a9126453299cbe239484f69c9",
       "version_major": 2,
       "version_minor": 0
      },
      "text/plain": [
       "  0%|          | 0/2 [00:00<?, ?batch/s]"
      ]
     },
     "metadata": {},
     "output_type": "display_data"
    },
    {
     "name": "stdout",
     "output_type": "stream",
     "text": [
      "Epoch 013, Val Loss: 0.779047, Val R2: -32.627625\n"
     ]
    },
    {
     "data": {
      "application/vnd.jupyter.widget-view+json": {
       "model_id": "f1af3485b84440f7b8fc36f397724de9",
       "version_major": 2,
       "version_minor": 0
      },
      "text/plain": [
       "  0%|          | 0/2 [00:00<?, ?batch/s]"
      ]
     },
     "metadata": {},
     "output_type": "display_data"
    },
    {
     "name": "stdout",
     "output_type": "stream",
     "text": [
      "Epoch 014, Val Loss: 0.739613, Val R2: -21.770618\n"
     ]
    },
    {
     "data": {
      "application/vnd.jupyter.widget-view+json": {
       "model_id": "7c39ed59ba2443458f4af7b2a8d56bec",
       "version_major": 2,
       "version_minor": 0
      },
      "text/plain": [
       "  0%|          | 0/2 [00:00<?, ?batch/s]"
      ]
     },
     "metadata": {},
     "output_type": "display_data"
    },
    {
     "name": "stdout",
     "output_type": "stream",
     "text": [
      "Epoch 015, Val Loss: 0.695912, Val R2: -14.483418\n"
     ]
    },
    {
     "data": {
      "application/vnd.jupyter.widget-view+json": {
       "model_id": "5f4e561effc74f1a86a319b71b32c432",
       "version_major": 2,
       "version_minor": 0
      },
      "text/plain": [
       "  0%|          | 0/2 [00:00<?, ?batch/s]"
      ]
     },
     "metadata": {},
     "output_type": "display_data"
    },
    {
     "name": "stdout",
     "output_type": "stream",
     "text": [
      "Epoch 016, Val Loss: 0.647627, Val R2: -9.499660\n"
     ]
    },
    {
     "data": {
      "application/vnd.jupyter.widget-view+json": {
       "model_id": "0804aa3209fd477da8c0c5ebb367f9d8",
       "version_major": 2,
       "version_minor": 0
      },
      "text/plain": [
       "  0%|          | 0/2 [00:00<?, ?batch/s]"
      ]
     },
     "metadata": {},
     "output_type": "display_data"
    },
    {
     "name": "stdout",
     "output_type": "stream",
     "text": [
      "Epoch 017, Val Loss: 0.594891, Val R2: -6.069576\n"
     ]
    },
    {
     "data": {
      "application/vnd.jupyter.widget-view+json": {
       "model_id": "e73dff95f7da433da6d0861c5a132c43",
       "version_major": 2,
       "version_minor": 0
      },
      "text/plain": [
       "  0%|          | 0/2 [00:00<?, ?batch/s]"
      ]
     },
     "metadata": {},
     "output_type": "display_data"
    },
    {
     "name": "stdout",
     "output_type": "stream",
     "text": [
      "Epoch 018, Val Loss: 0.538432, Val R2: -3.717684\n"
     ]
    },
    {
     "data": {
      "application/vnd.jupyter.widget-view+json": {
       "model_id": "5a0f35716c4f4e37957cb577e8598b88",
       "version_major": 2,
       "version_minor": 0
      },
      "text/plain": [
       "  0%|          | 0/2 [00:00<?, ?batch/s]"
      ]
     },
     "metadata": {},
     "output_type": "display_data"
    },
    {
     "name": "stdout",
     "output_type": "stream",
     "text": [
      "Epoch 019, Val Loss: 0.479446, Val R2: -2.117423\n"
     ]
    },
    {
     "data": {
      "application/vnd.jupyter.widget-view+json": {
       "model_id": "5438b27134d44d1188b3c8c36f3d0e2f",
       "version_major": 2,
       "version_minor": 0
      },
      "text/plain": [
       "  0%|          | 0/2 [00:00<?, ?batch/s]"
      ]
     },
     "metadata": {},
     "output_type": "display_data"
    },
    {
     "name": "stdout",
     "output_type": "stream",
     "text": [
      "Epoch 020, Val Loss: 0.419661, Val R2: -1.040009\n"
     ]
    },
    {
     "data": {
      "application/vnd.jupyter.widget-view+json": {
       "model_id": "6dc68e860c0d43bab2acedfc68fb242c",
       "version_major": 2,
       "version_minor": 0
      },
      "text/plain": [
       "  0%|          | 0/2 [00:00<?, ?batch/s]"
      ]
     },
     "metadata": {},
     "output_type": "display_data"
    },
    {
     "name": "stdout",
     "output_type": "stream",
     "text": [
      "Epoch 021, Val Loss: 0.361392, Val R2: -0.325003\n"
     ]
    },
    {
     "data": {
      "application/vnd.jupyter.widget-view+json": {
       "model_id": "554dcca3f1dc4732a9129b32b50e548b",
       "version_major": 2,
       "version_minor": 0
      },
      "text/plain": [
       "  0%|          | 0/2 [00:00<?, ?batch/s]"
      ]
     },
     "metadata": {},
     "output_type": "display_data"
    },
    {
     "name": "stdout",
     "output_type": "stream",
     "text": [
      "Epoch 022, Val Loss: 0.307585, Val R2: 0.139820\n"
     ]
    },
    {
     "data": {
      "application/vnd.jupyter.widget-view+json": {
       "model_id": "f43a942fe52b48c4a5152d0b3aa42680",
       "version_major": 2,
       "version_minor": 0
      },
      "text/plain": [
       "  0%|          | 0/2 [00:00<?, ?batch/s]"
      ]
     },
     "metadata": {},
     "output_type": "display_data"
    },
    {
     "name": "stdout",
     "output_type": "stream",
     "text": [
      "Epoch 023, Val Loss: 0.261656, Val R2: 0.433388\n"
     ]
    },
    {
     "data": {
      "application/vnd.jupyter.widget-view+json": {
       "model_id": "6fd0864cf1ff41869e686d50b9259e7a",
       "version_major": 2,
       "version_minor": 0
      },
      "text/plain": [
       "  0%|          | 0/2 [00:00<?, ?batch/s]"
      ]
     },
     "metadata": {},
     "output_type": "display_data"
    },
    {
     "name": "stdout",
     "output_type": "stream",
     "text": [
      "Epoch 024, Val Loss: 0.226746, Val R2: 0.611810\n"
     ]
    },
    {
     "data": {
      "application/vnd.jupyter.widget-view+json": {
       "model_id": "ac76029d792b4a04b243f5d4f1c7bfc3",
       "version_major": 2,
       "version_minor": 0
      },
      "text/plain": [
       "  0%|          | 0/2 [00:00<?, ?batch/s]"
      ]
     },
     "metadata": {},
     "output_type": "display_data"
    },
    {
     "name": "stdout",
     "output_type": "stream",
     "text": [
      "Epoch 025, Val Loss: 0.204467, Val R2: 0.715204\n"
     ]
    },
    {
     "data": {
      "application/vnd.jupyter.widget-view+json": {
       "model_id": "c07f6b53c3124c4dac8b983d722adbcb",
       "version_major": 2,
       "version_minor": 0
      },
      "text/plain": [
       "  0%|          | 0/2 [00:00<?, ?batch/s]"
      ]
     },
     "metadata": {},
     "output_type": "display_data"
    },
    {
     "name": "stdout",
     "output_type": "stream",
     "text": [
      "Epoch 026, Val Loss: 0.193201, Val R2: 0.772454\n"
     ]
    },
    {
     "data": {
      "application/vnd.jupyter.widget-view+json": {
       "model_id": "09c66f679215459289f963a40496b860",
       "version_major": 2,
       "version_minor": 0
      },
      "text/plain": [
       "  0%|          | 0/2 [00:00<?, ?batch/s]"
      ]
     },
     "metadata": {},
     "output_type": "display_data"
    },
    {
     "name": "stdout",
     "output_type": "stream",
     "text": [
      "Epoch 027, Val Loss: 0.187441, Val R2: 0.804171\n"
     ]
    },
    {
     "data": {
      "application/vnd.jupyter.widget-view+json": {
       "model_id": "16daae8f80be43f5a6e3cd268b8b461d",
       "version_major": 2,
       "version_minor": 0
      },
      "text/plain": [
       "  0%|          | 0/2 [00:00<?, ?batch/s]"
      ]
     },
     "metadata": {},
     "output_type": "display_data"
    },
    {
     "name": "stdout",
     "output_type": "stream",
     "text": [
      "Epoch 028, Val Loss: 0.180103, Val R2: 0.823998\n"
     ]
    },
    {
     "data": {
      "application/vnd.jupyter.widget-view+json": {
       "model_id": "7b593fa977f64fa38ece5fa902f38f2c",
       "version_major": 2,
       "version_minor": 0
      },
      "text/plain": [
       "  0%|          | 0/2 [00:00<?, ?batch/s]"
      ]
     },
     "metadata": {},
     "output_type": "display_data"
    },
    {
     "name": "stdout",
     "output_type": "stream",
     "text": [
      "Epoch 029, Val Loss: 0.166639, Val R2: 0.839570\n"
     ]
    },
    {
     "data": {
      "application/vnd.jupyter.widget-view+json": {
       "model_id": "4154a0ee867944b791710e1cb6ca93bc",
       "version_major": 2,
       "version_minor": 0
      },
      "text/plain": [
       "  0%|          | 0/2 [00:00<?, ?batch/s]"
      ]
     },
     "metadata": {},
     "output_type": "display_data"
    },
    {
     "name": "stdout",
     "output_type": "stream",
     "text": [
      "Epoch 030, Val Loss: 0.147252, Val R2: 0.853732\n"
     ]
    },
    {
     "data": {
      "application/vnd.jupyter.widget-view+json": {
       "model_id": "a46c7af54d7c48dbb0cf313decfd7a96",
       "version_major": 2,
       "version_minor": 0
      },
      "text/plain": [
       "  0%|          | 0/2 [00:00<?, ?batch/s]"
      ]
     },
     "metadata": {},
     "output_type": "display_data"
    },
    {
     "name": "stdout",
     "output_type": "stream",
     "text": [
      "Epoch 031, Val Loss: 0.126071, Val R2: 0.866068\n"
     ]
    },
    {
     "data": {
      "application/vnd.jupyter.widget-view+json": {
       "model_id": "989b6947aeb14e948e76a0ca0a6a550e",
       "version_major": 2,
       "version_minor": 0
      },
      "text/plain": [
       "  0%|          | 0/2 [00:00<?, ?batch/s]"
      ]
     },
     "metadata": {},
     "output_type": "display_data"
    },
    {
     "name": "stdout",
     "output_type": "stream",
     "text": [
      "Epoch 032, Val Loss: 0.108308, Val R2: 0.874772\n"
     ]
    },
    {
     "data": {
      "application/vnd.jupyter.widget-view+json": {
       "model_id": "a42f8a7ce18f41aeb01485b1e37a29b2",
       "version_major": 2,
       "version_minor": 0
      },
      "text/plain": [
       "  0%|          | 0/2 [00:00<?, ?batch/s]"
      ]
     },
     "metadata": {},
     "output_type": "display_data"
    },
    {
     "name": "stdout",
     "output_type": "stream",
     "text": [
      "Epoch 033, Val Loss: 0.095499, Val R2: 0.880668\n"
     ]
    },
    {
     "data": {
      "application/vnd.jupyter.widget-view+json": {
       "model_id": "672d8ef76216428780026d05eac55fb2",
       "version_major": 2,
       "version_minor": 0
      },
      "text/plain": [
       "  0%|          | 0/2 [00:00<?, ?batch/s]"
      ]
     },
     "metadata": {},
     "output_type": "display_data"
    },
    {
     "name": "stdout",
     "output_type": "stream",
     "text": [
      "Epoch 034, Val Loss: 0.085822, Val R2: 0.887116\n"
     ]
    },
    {
     "data": {
      "application/vnd.jupyter.widget-view+json": {
       "model_id": "ee331b0ba2024e16b043e043b5c1aa78",
       "version_major": 2,
       "version_minor": 0
      },
      "text/plain": [
       "  0%|          | 0/2 [00:00<?, ?batch/s]"
      ]
     },
     "metadata": {},
     "output_type": "display_data"
    },
    {
     "name": "stdout",
     "output_type": "stream",
     "text": [
      "Epoch 035, Val Loss: 0.076691, Val R2: 0.897350\n"
     ]
    },
    {
     "data": {
      "application/vnd.jupyter.widget-view+json": {
       "model_id": "1683e887b3e44a5381330f13cc306723",
       "version_major": 2,
       "version_minor": 0
      },
      "text/plain": [
       "  0%|          | 0/2 [00:00<?, ?batch/s]"
      ]
     },
     "metadata": {},
     "output_type": "display_data"
    },
    {
     "name": "stdout",
     "output_type": "stream",
     "text": [
      "Epoch 036, Val Loss: 0.066587, Val R2: 0.912220\n"
     ]
    },
    {
     "data": {
      "application/vnd.jupyter.widget-view+json": {
       "model_id": "4a867e424af04e9088c5b7c9d681abf3",
       "version_major": 2,
       "version_minor": 0
      },
      "text/plain": [
       "  0%|          | 0/2 [00:00<?, ?batch/s]"
      ]
     },
     "metadata": {},
     "output_type": "display_data"
    },
    {
     "name": "stdout",
     "output_type": "stream",
     "text": [
      "Epoch 037, Val Loss: 0.056266, Val R2: 0.928808\n"
     ]
    },
    {
     "data": {
      "application/vnd.jupyter.widget-view+json": {
       "model_id": "128a46c0078b4de59d0609fab1ff91da",
       "version_major": 2,
       "version_minor": 0
      },
      "text/plain": [
       "  0%|          | 0/2 [00:00<?, ?batch/s]"
      ]
     },
     "metadata": {},
     "output_type": "display_data"
    },
    {
     "name": "stdout",
     "output_type": "stream",
     "text": [
      "Epoch 038, Val Loss: 0.046931, Val R2: 0.943890\n"
     ]
    },
    {
     "data": {
      "application/vnd.jupyter.widget-view+json": {
       "model_id": "14869fba84344f65a3fa143ea2fbd723",
       "version_major": 2,
       "version_minor": 0
      },
      "text/plain": [
       "  0%|          | 0/2 [00:00<?, ?batch/s]"
      ]
     },
     "metadata": {},
     "output_type": "display_data"
    },
    {
     "name": "stdout",
     "output_type": "stream",
     "text": [
      "Epoch 039, Val Loss: 0.039141, Val R2: 0.955954\n"
     ]
    },
    {
     "data": {
      "application/vnd.jupyter.widget-view+json": {
       "model_id": "af6a5c5c7ec8476ba8fb80b95f673dc2",
       "version_major": 2,
       "version_minor": 0
      },
      "text/plain": [
       "  0%|          | 0/2 [00:00<?, ?batch/s]"
      ]
     },
     "metadata": {},
     "output_type": "display_data"
    },
    {
     "name": "stdout",
     "output_type": "stream",
     "text": [
      "Epoch 040, Val Loss: 0.033319, Val R2: 0.964453\n"
     ]
    },
    {
     "data": {
      "application/vnd.jupyter.widget-view+json": {
       "model_id": "76f12076822e41ca978826ac96a7f3de",
       "version_major": 2,
       "version_minor": 0
      },
      "text/plain": [
       "  0%|          | 0/2 [00:00<?, ?batch/s]"
      ]
     },
     "metadata": {},
     "output_type": "display_data"
    },
    {
     "name": "stdout",
     "output_type": "stream",
     "text": [
      "Epoch 041, Val Loss: 0.029062, Val R2: 0.970156\n"
     ]
    },
    {
     "data": {
      "application/vnd.jupyter.widget-view+json": {
       "model_id": "b568cee048024ed9a6c85f37ce61ddf5",
       "version_major": 2,
       "version_minor": 0
      },
      "text/plain": [
       "  0%|          | 0/2 [00:00<?, ?batch/s]"
      ]
     },
     "metadata": {},
     "output_type": "display_data"
    },
    {
     "name": "stdout",
     "output_type": "stream",
     "text": [
      "Epoch 042, Val Loss: 0.025808, Val R2: 0.974041\n"
     ]
    },
    {
     "data": {
      "application/vnd.jupyter.widget-view+json": {
       "model_id": "6635c06f92fa43b7956acb406b98e861",
       "version_major": 2,
       "version_minor": 0
      },
      "text/plain": [
       "  0%|          | 0/2 [00:00<?, ?batch/s]"
      ]
     },
     "metadata": {},
     "output_type": "display_data"
    },
    {
     "name": "stdout",
     "output_type": "stream",
     "text": [
      "Epoch 043, Val Loss: 0.023304, Val R2: 0.976707\n"
     ]
    },
    {
     "data": {
      "application/vnd.jupyter.widget-view+json": {
       "model_id": "9bae749181844ba58dbca6766686794f",
       "version_major": 2,
       "version_minor": 0
      },
      "text/plain": [
       "  0%|          | 0/2 [00:00<?, ?batch/s]"
      ]
     },
     "metadata": {},
     "output_type": "display_data"
    },
    {
     "name": "stdout",
     "output_type": "stream",
     "text": [
      "Epoch 044, Val Loss: 0.021283, Val R2: 0.978673\n"
     ]
    },
    {
     "data": {
      "application/vnd.jupyter.widget-view+json": {
       "model_id": "7ed692c26d7a41cbabd16e2b28ff6541",
       "version_major": 2,
       "version_minor": 0
      },
      "text/plain": [
       "  0%|          | 0/2 [00:00<?, ?batch/s]"
      ]
     },
     "metadata": {},
     "output_type": "display_data"
    },
    {
     "name": "stdout",
     "output_type": "stream",
     "text": [
      "Epoch 045, Val Loss: 0.019760, Val R2: 0.980076\n"
     ]
    },
    {
     "data": {
      "application/vnd.jupyter.widget-view+json": {
       "model_id": "1ca33d60e54e4094bf7e442d416ad543",
       "version_major": 2,
       "version_minor": 0
      },
      "text/plain": [
       "  0%|          | 0/2 [00:00<?, ?batch/s]"
      ]
     },
     "metadata": {},
     "output_type": "display_data"
    },
    {
     "name": "stdout",
     "output_type": "stream",
     "text": [
      "Epoch 046, Val Loss: 0.018613, Val R2: 0.981116\n"
     ]
    },
    {
     "data": {
      "application/vnd.jupyter.widget-view+json": {
       "model_id": "e5fa1236fad84510aa78c356028625c5",
       "version_major": 2,
       "version_minor": 0
      },
      "text/plain": [
       "  0%|          | 0/2 [00:00<?, ?batch/s]"
      ]
     },
     "metadata": {},
     "output_type": "display_data"
    },
    {
     "name": "stdout",
     "output_type": "stream",
     "text": [
      "Epoch 047, Val Loss: 0.017749, Val R2: 0.981944\n"
     ]
    },
    {
     "data": {
      "application/vnd.jupyter.widget-view+json": {
       "model_id": "605fe517ee2948738f8822421b7b2826",
       "version_major": 2,
       "version_minor": 0
      },
      "text/plain": [
       "  0%|          | 0/2 [00:00<?, ?batch/s]"
      ]
     },
     "metadata": {},
     "output_type": "display_data"
    },
    {
     "name": "stdout",
     "output_type": "stream",
     "text": [
      "Epoch 048, Val Loss: 0.017051, Val R2: 0.982707\n"
     ]
    },
    {
     "data": {
      "application/vnd.jupyter.widget-view+json": {
       "model_id": "b8dda07bed234a59a17d33a1caeb23e0",
       "version_major": 2,
       "version_minor": 0
      },
      "text/plain": [
       "  0%|          | 0/2 [00:00<?, ?batch/s]"
      ]
     },
     "metadata": {},
     "output_type": "display_data"
    },
    {
     "name": "stdout",
     "output_type": "stream",
     "text": [
      "Epoch 049, Val Loss: 0.016390, Val R2: 0.983498\n"
     ]
    },
    {
     "data": {
      "application/vnd.jupyter.widget-view+json": {
       "model_id": "48ec0486a04c46e98e59d69a69362d0a",
       "version_major": 2,
       "version_minor": 0
      },
      "text/plain": [
       "  0%|          | 0/2 [00:00<?, ?batch/s]"
      ]
     },
     "metadata": {},
     "output_type": "display_data"
    },
    {
     "name": "stdout",
     "output_type": "stream",
     "text": [
      "Epoch 050, Val Loss: 0.015745, Val R2: 0.984259\n"
     ]
    },
    {
     "data": {
      "application/vnd.jupyter.widget-view+json": {
       "model_id": "75ed333766fe4851995f208caf60a038",
       "version_major": 2,
       "version_minor": 0
      },
      "text/plain": [
       "  0%|          | 0/2 [00:00<?, ?batch/s]"
      ]
     },
     "metadata": {},
     "output_type": "display_data"
    },
    {
     "name": "stdout",
     "output_type": "stream",
     "text": [
      "Epoch 051, Val Loss: 0.015099, Val R2: 0.984960\n"
     ]
    },
    {
     "data": {
      "application/vnd.jupyter.widget-view+json": {
       "model_id": "aab308319d254c18839d34dca3d16ebf",
       "version_major": 2,
       "version_minor": 0
      },
      "text/plain": [
       "  0%|          | 0/2 [00:00<?, ?batch/s]"
      ]
     },
     "metadata": {},
     "output_type": "display_data"
    },
    {
     "name": "stdout",
     "output_type": "stream",
     "text": [
      "Epoch 052, Val Loss: 0.014530, Val R2: 0.985527\n"
     ]
    },
    {
     "data": {
      "application/vnd.jupyter.widget-view+json": {
       "model_id": "02cb3669b767449484fc7e00309c06c2",
       "version_major": 2,
       "version_minor": 0
      },
      "text/plain": [
       "  0%|          | 0/2 [00:00<?, ?batch/s]"
      ]
     },
     "metadata": {},
     "output_type": "display_data"
    },
    {
     "name": "stdout",
     "output_type": "stream",
     "text": [
      "Epoch 053, Val Loss: 0.014056, Val R2: 0.985961\n"
     ]
    },
    {
     "data": {
      "application/vnd.jupyter.widget-view+json": {
       "model_id": "900d9da687a34fd5ad99991a8fcce188",
       "version_major": 2,
       "version_minor": 0
      },
      "text/plain": [
       "  0%|          | 0/2 [00:00<?, ?batch/s]"
      ]
     },
     "metadata": {},
     "output_type": "display_data"
    },
    {
     "name": "stdout",
     "output_type": "stream",
     "text": [
      "Epoch 054, Val Loss: 0.013680, Val R2: 0.986269\n"
     ]
    },
    {
     "data": {
      "application/vnd.jupyter.widget-view+json": {
       "model_id": "25546ada275b43e5b05b0b7f52db8600",
       "version_major": 2,
       "version_minor": 0
      },
      "text/plain": [
       "  0%|          | 0/2 [00:00<?, ?batch/s]"
      ]
     },
     "metadata": {},
     "output_type": "display_data"
    },
    {
     "name": "stdout",
     "output_type": "stream",
     "text": [
      "Epoch 055, Val Loss: 0.013336, Val R2: 0.986527\n"
     ]
    },
    {
     "data": {
      "application/vnd.jupyter.widget-view+json": {
       "model_id": "f436e83642f149af8712003a8b8633d5",
       "version_major": 2,
       "version_minor": 0
      },
      "text/plain": [
       "  0%|          | 0/2 [00:00<?, ?batch/s]"
      ]
     },
     "metadata": {},
     "output_type": "display_data"
    },
    {
     "name": "stdout",
     "output_type": "stream",
     "text": [
      "Epoch 056, Val Loss: 0.013001, Val R2: 0.986789\n"
     ]
    },
    {
     "data": {
      "application/vnd.jupyter.widget-view+json": {
       "model_id": "01a917dc17914e1dba8352b2ba085741",
       "version_major": 2,
       "version_minor": 0
      },
      "text/plain": [
       "  0%|          | 0/2 [00:00<?, ?batch/s]"
      ]
     },
     "metadata": {},
     "output_type": "display_data"
    },
    {
     "name": "stdout",
     "output_type": "stream",
     "text": [
      "Epoch 057, Val Loss: 0.012679, Val R2: 0.987074\n"
     ]
    },
    {
     "data": {
      "application/vnd.jupyter.widget-view+json": {
       "model_id": "05d8af21da0245eb931f68a5308c24d6",
       "version_major": 2,
       "version_minor": 0
      },
      "text/plain": [
       "  0%|          | 0/2 [00:00<?, ?batch/s]"
      ]
     },
     "metadata": {},
     "output_type": "display_data"
    },
    {
     "name": "stdout",
     "output_type": "stream",
     "text": [
      "Epoch 058, Val Loss: 0.012399, Val R2: 0.987346\n"
     ]
    },
    {
     "data": {
      "application/vnd.jupyter.widget-view+json": {
       "model_id": "42db172d739343adaee0d54a7f9e31a3",
       "version_major": 2,
       "version_minor": 0
      },
      "text/plain": [
       "  0%|          | 0/2 [00:00<?, ?batch/s]"
      ]
     },
     "metadata": {},
     "output_type": "display_data"
    },
    {
     "name": "stdout",
     "output_type": "stream",
     "text": [
      "Epoch 059, Val Loss: 0.012152, Val R2: 0.987596\n"
     ]
    },
    {
     "data": {
      "application/vnd.jupyter.widget-view+json": {
       "model_id": "6470c77b282d4e108a62ef47a9dd8d18",
       "version_major": 2,
       "version_minor": 0
      },
      "text/plain": [
       "  0%|          | 0/2 [00:00<?, ?batch/s]"
      ]
     },
     "metadata": {},
     "output_type": "display_data"
    },
    {
     "name": "stdout",
     "output_type": "stream",
     "text": [
      "Epoch 060, Val Loss: 0.011913, Val R2: 0.987844\n"
     ]
    },
    {
     "data": {
      "application/vnd.jupyter.widget-view+json": {
       "model_id": "b3ff4ef41e814c5693e5e3eec882df6a",
       "version_major": 2,
       "version_minor": 0
      },
      "text/plain": [
       "  0%|          | 0/2 [00:00<?, ?batch/s]"
      ]
     },
     "metadata": {},
     "output_type": "display_data"
    },
    {
     "name": "stdout",
     "output_type": "stream",
     "text": [
      "Epoch 061, Val Loss: 0.011664, Val R2: 0.988112\n"
     ]
    },
    {
     "data": {
      "application/vnd.jupyter.widget-view+json": {
       "model_id": "7b634254d2dc483d8e5dbeb949cd3e65",
       "version_major": 2,
       "version_minor": 0
      },
      "text/plain": [
       "  0%|          | 0/2 [00:00<?, ?batch/s]"
      ]
     },
     "metadata": {},
     "output_type": "display_data"
    },
    {
     "name": "stdout",
     "output_type": "stream",
     "text": [
      "Epoch 062, Val Loss: 0.011420, Val R2: 0.988379\n"
     ]
    },
    {
     "data": {
      "application/vnd.jupyter.widget-view+json": {
       "model_id": "f074017719a04499bff747c8be291997",
       "version_major": 2,
       "version_minor": 0
      },
      "text/plain": [
       "  0%|          | 0/2 [00:00<?, ?batch/s]"
      ]
     },
     "metadata": {},
     "output_type": "display_data"
    },
    {
     "name": "stdout",
     "output_type": "stream",
     "text": [
      "Epoch 063, Val Loss: 0.011196, Val R2: 0.988623\n"
     ]
    },
    {
     "data": {
      "application/vnd.jupyter.widget-view+json": {
       "model_id": "2296d51ab97b4695aa92ce02fb6f659c",
       "version_major": 2,
       "version_minor": 0
      },
      "text/plain": [
       "  0%|          | 0/2 [00:00<?, ?batch/s]"
      ]
     },
     "metadata": {},
     "output_type": "display_data"
    },
    {
     "name": "stdout",
     "output_type": "stream",
     "text": [
      "Epoch 064, Val Loss: 0.010990, Val R2: 0.988847\n"
     ]
    },
    {
     "data": {
      "application/vnd.jupyter.widget-view+json": {
       "model_id": "2e64db9c8e174f598eda115e1d601373",
       "version_major": 2,
       "version_minor": 0
      },
      "text/plain": [
       "  0%|          | 0/2 [00:00<?, ?batch/s]"
      ]
     },
     "metadata": {},
     "output_type": "display_data"
    },
    {
     "name": "stdout",
     "output_type": "stream",
     "text": [
      "Epoch 065, Val Loss: 0.010791, Val R2: 0.989071\n"
     ]
    },
    {
     "data": {
      "application/vnd.jupyter.widget-view+json": {
       "model_id": "664d9952264b422ab39b53f5407ee207",
       "version_major": 2,
       "version_minor": 0
      },
      "text/plain": [
       "  0%|          | 0/2 [00:00<?, ?batch/s]"
      ]
     },
     "metadata": {},
     "output_type": "display_data"
    },
    {
     "name": "stdout",
     "output_type": "stream",
     "text": [
      "Epoch 066, Val Loss: 0.010596, Val R2: 0.989290\n"
     ]
    },
    {
     "data": {
      "application/vnd.jupyter.widget-view+json": {
       "model_id": "555ff89e9b734cd484d1718eca3eafe5",
       "version_major": 2,
       "version_minor": 0
      },
      "text/plain": [
       "  0%|          | 0/2 [00:00<?, ?batch/s]"
      ]
     },
     "metadata": {},
     "output_type": "display_data"
    },
    {
     "name": "stdout",
     "output_type": "stream",
     "text": [
      "Epoch 067, Val Loss: 0.010407, Val R2: 0.989495\n"
     ]
    },
    {
     "data": {
      "application/vnd.jupyter.widget-view+json": {
       "model_id": "84e551e7e67a42c3a9e14fee09f30452",
       "version_major": 2,
       "version_minor": 0
      },
      "text/plain": [
       "  0%|          | 0/2 [00:00<?, ?batch/s]"
      ]
     },
     "metadata": {},
     "output_type": "display_data"
    },
    {
     "name": "stdout",
     "output_type": "stream",
     "text": [
      "Epoch 068, Val Loss: 0.010225, Val R2: 0.989685\n"
     ]
    },
    {
     "data": {
      "application/vnd.jupyter.widget-view+json": {
       "model_id": "210047fe949846068385bd933d3e8eff",
       "version_major": 2,
       "version_minor": 0
      },
      "text/plain": [
       "  0%|          | 0/2 [00:00<?, ?batch/s]"
      ]
     },
     "metadata": {},
     "output_type": "display_data"
    },
    {
     "name": "stdout",
     "output_type": "stream",
     "text": [
      "Epoch 069, Val Loss: 0.010048, Val R2: 0.989865\n"
     ]
    },
    {
     "data": {
      "application/vnd.jupyter.widget-view+json": {
       "model_id": "5ff4e542961a44fcb352068c29b40378",
       "version_major": 2,
       "version_minor": 0
      },
      "text/plain": [
       "  0%|          | 0/2 [00:00<?, ?batch/s]"
      ]
     },
     "metadata": {},
     "output_type": "display_data"
    },
    {
     "name": "stdout",
     "output_type": "stream",
     "text": [
      "Epoch 070, Val Loss: 0.009876, Val R2: 0.990035\n"
     ]
    },
    {
     "data": {
      "application/vnd.jupyter.widget-view+json": {
       "model_id": "519b7fed5ad14cab91992358472d617a",
       "version_major": 2,
       "version_minor": 0
      },
      "text/plain": [
       "  0%|          | 0/2 [00:00<?, ?batch/s]"
      ]
     },
     "metadata": {},
     "output_type": "display_data"
    },
    {
     "name": "stdout",
     "output_type": "stream",
     "text": [
      "Epoch 071, Val Loss: 0.009710, Val R2: 0.990195\n"
     ]
    },
    {
     "data": {
      "application/vnd.jupyter.widget-view+json": {
       "model_id": "e6df21d70c614dba954120ca3ea3b68d",
       "version_major": 2,
       "version_minor": 0
      },
      "text/plain": [
       "  0%|          | 0/2 [00:00<?, ?batch/s]"
      ]
     },
     "metadata": {},
     "output_type": "display_data"
    },
    {
     "name": "stdout",
     "output_type": "stream",
     "text": [
      "Epoch 072, Val Loss: 0.009548, Val R2: 0.990354\n"
     ]
    },
    {
     "data": {
      "application/vnd.jupyter.widget-view+json": {
       "model_id": "2f7d7f229fb541bf81c1c8aa164e418c",
       "version_major": 2,
       "version_minor": 0
      },
      "text/plain": [
       "  0%|          | 0/2 [00:00<?, ?batch/s]"
      ]
     },
     "metadata": {},
     "output_type": "display_data"
    },
    {
     "name": "stdout",
     "output_type": "stream",
     "text": [
      "Epoch 073, Val Loss: 0.009387, Val R2: 0.990517\n"
     ]
    },
    {
     "data": {
      "application/vnd.jupyter.widget-view+json": {
       "model_id": "999d6258c2b941b6a354d9709531b838",
       "version_major": 2,
       "version_minor": 0
      },
      "text/plain": [
       "  0%|          | 0/2 [00:00<?, ?batch/s]"
      ]
     },
     "metadata": {},
     "output_type": "display_data"
    },
    {
     "name": "stdout",
     "output_type": "stream",
     "text": [
      "Epoch 074, Val Loss: 0.009230, Val R2: 0.990679\n"
     ]
    },
    {
     "data": {
      "application/vnd.jupyter.widget-view+json": {
       "model_id": "07c1ba2d03e345299198000fa2d453fe",
       "version_major": 2,
       "version_minor": 0
      },
      "text/plain": [
       "  0%|          | 0/2 [00:00<?, ?batch/s]"
      ]
     },
     "metadata": {},
     "output_type": "display_data"
    },
    {
     "name": "stdout",
     "output_type": "stream",
     "text": [
      "Epoch 075, Val Loss: 0.009077, Val R2: 0.990838\n"
     ]
    },
    {
     "data": {
      "application/vnd.jupyter.widget-view+json": {
       "model_id": "aed65aaa9b5844e8ab6ebdfae996367e",
       "version_major": 2,
       "version_minor": 0
      },
      "text/plain": [
       "  0%|          | 0/2 [00:00<?, ?batch/s]"
      ]
     },
     "metadata": {},
     "output_type": "display_data"
    },
    {
     "name": "stdout",
     "output_type": "stream",
     "text": [
      "Epoch 076, Val Loss: 0.008927, Val R2: 0.990994\n"
     ]
    },
    {
     "data": {
      "application/vnd.jupyter.widget-view+json": {
       "model_id": "5cba1d9f92454b6bae87e4cd59cb3ac3",
       "version_major": 2,
       "version_minor": 0
      },
      "text/plain": [
       "  0%|          | 0/2 [00:00<?, ?batch/s]"
      ]
     },
     "metadata": {},
     "output_type": "display_data"
    },
    {
     "name": "stdout",
     "output_type": "stream",
     "text": [
      "Epoch 077, Val Loss: 0.008778, Val R2: 0.991147\n"
     ]
    },
    {
     "data": {
      "application/vnd.jupyter.widget-view+json": {
       "model_id": "459e788228664da5821ace8f78bafa0e",
       "version_major": 2,
       "version_minor": 0
      },
      "text/plain": [
       "  0%|          | 0/2 [00:00<?, ?batch/s]"
      ]
     },
     "metadata": {},
     "output_type": "display_data"
    },
    {
     "name": "stdout",
     "output_type": "stream",
     "text": [
      "Epoch 078, Val Loss: 0.008633, Val R2: 0.991291\n"
     ]
    },
    {
     "data": {
      "application/vnd.jupyter.widget-view+json": {
       "model_id": "e5408472225f41548fcc24e5fc5a88e2",
       "version_major": 2,
       "version_minor": 0
      },
      "text/plain": [
       "  0%|          | 0/2 [00:00<?, ?batch/s]"
      ]
     },
     "metadata": {},
     "output_type": "display_data"
    },
    {
     "name": "stdout",
     "output_type": "stream",
     "text": [
      "Epoch 079, Val Loss: 0.008491, Val R2: 0.991429\n"
     ]
    },
    {
     "data": {
      "application/vnd.jupyter.widget-view+json": {
       "model_id": "b54d4a8d196c41a2877804dd7d2b1b8a",
       "version_major": 2,
       "version_minor": 0
      },
      "text/plain": [
       "  0%|          | 0/2 [00:00<?, ?batch/s]"
      ]
     },
     "metadata": {},
     "output_type": "display_data"
    },
    {
     "name": "stdout",
     "output_type": "stream",
     "text": [
      "Epoch 080, Val Loss: 0.008352, Val R2: 0.991565\n"
     ]
    },
    {
     "data": {
      "application/vnd.jupyter.widget-view+json": {
       "model_id": "a889150f8bad448fa2475d89159b0124",
       "version_major": 2,
       "version_minor": 0
      },
      "text/plain": [
       "  0%|          | 0/2 [00:00<?, ?batch/s]"
      ]
     },
     "metadata": {},
     "output_type": "display_data"
    },
    {
     "name": "stdout",
     "output_type": "stream",
     "text": [
      "Epoch 081, Val Loss: 0.008214, Val R2: 0.991702\n"
     ]
    },
    {
     "data": {
      "application/vnd.jupyter.widget-view+json": {
       "model_id": "37c73a99e61f4f95a9714fc939017eaa",
       "version_major": 2,
       "version_minor": 0
      },
      "text/plain": [
       "  0%|          | 0/2 [00:00<?, ?batch/s]"
      ]
     },
     "metadata": {},
     "output_type": "display_data"
    },
    {
     "name": "stdout",
     "output_type": "stream",
     "text": [
      "Epoch 082, Val Loss: 0.008079, Val R2: 0.991838\n"
     ]
    },
    {
     "data": {
      "application/vnd.jupyter.widget-view+json": {
       "model_id": "09dd91dc1fa945a5a179fcfcc070be2e",
       "version_major": 2,
       "version_minor": 0
      },
      "text/plain": [
       "  0%|          | 0/2 [00:00<?, ?batch/s]"
      ]
     },
     "metadata": {},
     "output_type": "display_data"
    },
    {
     "name": "stdout",
     "output_type": "stream",
     "text": [
      "Epoch 083, Val Loss: 0.007945, Val R2: 0.991977\n"
     ]
    },
    {
     "data": {
      "application/vnd.jupyter.widget-view+json": {
       "model_id": "56687ca8f2754f95ba14b91dfd4699d3",
       "version_major": 2,
       "version_minor": 0
      },
      "text/plain": [
       "  0%|          | 0/2 [00:00<?, ?batch/s]"
      ]
     },
     "metadata": {},
     "output_type": "display_data"
    },
    {
     "name": "stdout",
     "output_type": "stream",
     "text": [
      "Epoch 084, Val Loss: 0.007811, Val R2: 0.992117\n"
     ]
    },
    {
     "data": {
      "application/vnd.jupyter.widget-view+json": {
       "model_id": "a60a7456ec3849fd897e7503e6f00aeb",
       "version_major": 2,
       "version_minor": 0
      },
      "text/plain": [
       "  0%|          | 0/2 [00:00<?, ?batch/s]"
      ]
     },
     "metadata": {},
     "output_type": "display_data"
    },
    {
     "name": "stdout",
     "output_type": "stream",
     "text": [
      "Epoch 085, Val Loss: 0.007679, Val R2: 0.992254\n"
     ]
    },
    {
     "data": {
      "application/vnd.jupyter.widget-view+json": {
       "model_id": "2e2b04b4b0ed42cc84990dc409c25a4c",
       "version_major": 2,
       "version_minor": 0
      },
      "text/plain": [
       "  0%|          | 0/2 [00:00<?, ?batch/s]"
      ]
     },
     "metadata": {},
     "output_type": "display_data"
    },
    {
     "name": "stdout",
     "output_type": "stream",
     "text": [
      "Epoch 086, Val Loss: 0.007550, Val R2: 0.992388\n"
     ]
    },
    {
     "data": {
      "application/vnd.jupyter.widget-view+json": {
       "model_id": "1717f2f599a343dba68a259eddd695d2",
       "version_major": 2,
       "version_minor": 0
      },
      "text/plain": [
       "  0%|          | 0/2 [00:00<?, ?batch/s]"
      ]
     },
     "metadata": {},
     "output_type": "display_data"
    },
    {
     "name": "stdout",
     "output_type": "stream",
     "text": [
      "Epoch 087, Val Loss: 0.007422, Val R2: 0.992518\n"
     ]
    },
    {
     "data": {
      "application/vnd.jupyter.widget-view+json": {
       "model_id": "1b7befef638b45f0a58807f28d6a4fec",
       "version_major": 2,
       "version_minor": 0
      },
      "text/plain": [
       "  0%|          | 0/2 [00:00<?, ?batch/s]"
      ]
     },
     "metadata": {},
     "output_type": "display_data"
    },
    {
     "name": "stdout",
     "output_type": "stream",
     "text": [
      "Epoch 088, Val Loss: 0.007297, Val R2: 0.992644\n"
     ]
    },
    {
     "data": {
      "application/vnd.jupyter.widget-view+json": {
       "model_id": "be435f1a366446bb953c3797167b81af",
       "version_major": 2,
       "version_minor": 0
      },
      "text/plain": [
       "  0%|          | 0/2 [00:00<?, ?batch/s]"
      ]
     },
     "metadata": {},
     "output_type": "display_data"
    },
    {
     "name": "stdout",
     "output_type": "stream",
     "text": [
      "Epoch 089, Val Loss: 0.007174, Val R2: 0.992768\n"
     ]
    },
    {
     "data": {
      "application/vnd.jupyter.widget-view+json": {
       "model_id": "0286d8be815d4359b7fc0217daa82b2a",
       "version_major": 2,
       "version_minor": 0
      },
      "text/plain": [
       "  0%|          | 0/2 [00:00<?, ?batch/s]"
      ]
     },
     "metadata": {},
     "output_type": "display_data"
    },
    {
     "name": "stdout",
     "output_type": "stream",
     "text": [
      "Epoch 090, Val Loss: 0.007052, Val R2: 0.992890\n"
     ]
    },
    {
     "data": {
      "application/vnd.jupyter.widget-view+json": {
       "model_id": "8ae2f90ef0a64f34b80bd262eaa44310",
       "version_major": 2,
       "version_minor": 0
      },
      "text/plain": [
       "  0%|          | 0/2 [00:00<?, ?batch/s]"
      ]
     },
     "metadata": {},
     "output_type": "display_data"
    },
    {
     "name": "stdout",
     "output_type": "stream",
     "text": [
      "Epoch 091, Val Loss: 0.006932, Val R2: 0.993012\n"
     ]
    },
    {
     "data": {
      "application/vnd.jupyter.widget-view+json": {
       "model_id": "6f58f23979d544338989bef93c1e7863",
       "version_major": 2,
       "version_minor": 0
      },
      "text/plain": [
       "  0%|          | 0/2 [00:00<?, ?batch/s]"
      ]
     },
     "metadata": {},
     "output_type": "display_data"
    },
    {
     "name": "stdout",
     "output_type": "stream",
     "text": [
      "Epoch 092, Val Loss: 0.006813, Val R2: 0.993133\n"
     ]
    },
    {
     "data": {
      "application/vnd.jupyter.widget-view+json": {
       "model_id": "c23c3536907545c68764a6692f507a09",
       "version_major": 2,
       "version_minor": 0
      },
      "text/plain": [
       "  0%|          | 0/2 [00:00<?, ?batch/s]"
      ]
     },
     "metadata": {},
     "output_type": "display_data"
    },
    {
     "name": "stdout",
     "output_type": "stream",
     "text": [
      "Epoch 093, Val Loss: 0.006695, Val R2: 0.993254\n"
     ]
    },
    {
     "data": {
      "application/vnd.jupyter.widget-view+json": {
       "model_id": "ee4c232372e94f83ad990bdda5cb24fd",
       "version_major": 2,
       "version_minor": 0
      },
      "text/plain": [
       "  0%|          | 0/2 [00:00<?, ?batch/s]"
      ]
     },
     "metadata": {},
     "output_type": "display_data"
    },
    {
     "name": "stdout",
     "output_type": "stream",
     "text": [
      "Epoch 094, Val Loss: 0.006579, Val R2: 0.993372\n"
     ]
    },
    {
     "data": {
      "application/vnd.jupyter.widget-view+json": {
       "model_id": "59e787cd67d14b7dbcd40858ba3f75e3",
       "version_major": 2,
       "version_minor": 0
      },
      "text/plain": [
       "  0%|          | 0/2 [00:00<?, ?batch/s]"
      ]
     },
     "metadata": {},
     "output_type": "display_data"
    },
    {
     "name": "stdout",
     "output_type": "stream",
     "text": [
      "Epoch 095, Val Loss: 0.006464, Val R2: 0.993489\n"
     ]
    },
    {
     "data": {
      "application/vnd.jupyter.widget-view+json": {
       "model_id": "40cbddc3416640808baa6d389dfb8949",
       "version_major": 2,
       "version_minor": 0
      },
      "text/plain": [
       "  0%|          | 0/2 [00:00<?, ?batch/s]"
      ]
     },
     "metadata": {},
     "output_type": "display_data"
    },
    {
     "name": "stdout",
     "output_type": "stream",
     "text": [
      "Epoch 096, Val Loss: 0.006351, Val R2: 0.993603\n"
     ]
    },
    {
     "data": {
      "application/vnd.jupyter.widget-view+json": {
       "model_id": "c104938b16554634bf0073953cf19c55",
       "version_major": 2,
       "version_minor": 0
      },
      "text/plain": [
       "  0%|          | 0/2 [00:00<?, ?batch/s]"
      ]
     },
     "metadata": {},
     "output_type": "display_data"
    },
    {
     "name": "stdout",
     "output_type": "stream",
     "text": [
      "Epoch 097, Val Loss: 0.006240, Val R2: 0.993716\n"
     ]
    },
    {
     "data": {
      "application/vnd.jupyter.widget-view+json": {
       "model_id": "e153f3ac608847f5b3eafd626e0a8eb9",
       "version_major": 2,
       "version_minor": 0
      },
      "text/plain": [
       "  0%|          | 0/2 [00:00<?, ?batch/s]"
      ]
     },
     "metadata": {},
     "output_type": "display_data"
    },
    {
     "name": "stdout",
     "output_type": "stream",
     "text": [
      "Epoch 098, Val Loss: 0.006129, Val R2: 0.993827\n"
     ]
    },
    {
     "data": {
      "application/vnd.jupyter.widget-view+json": {
       "model_id": "7567aa976aa247929641e457debd837f",
       "version_major": 2,
       "version_minor": 0
      },
      "text/plain": [
       "  0%|          | 0/2 [00:00<?, ?batch/s]"
      ]
     },
     "metadata": {},
     "output_type": "display_data"
    },
    {
     "name": "stdout",
     "output_type": "stream",
     "text": [
      "Epoch 099, Val Loss: 0.006020, Val R2: 0.993938\n"
     ]
    },
    {
     "data": {
      "application/vnd.jupyter.widget-view+json": {
       "model_id": "9251fe3bfa7d43d691e925e6dea239f0",
       "version_major": 2,
       "version_minor": 0
      },
      "text/plain": [
       "  0%|          | 0/2 [00:00<?, ?batch/s]"
      ]
     },
     "metadata": {},
     "output_type": "display_data"
    },
    {
     "name": "stdout",
     "output_type": "stream",
     "text": [
      "Epoch 100, Val Loss: 0.005912, Val R2: 0.994047\n"
     ]
    },
    {
     "data": {
      "application/vnd.jupyter.widget-view+json": {
       "model_id": "7fc82bc358f5400a98451ca330f732f3",
       "version_major": 2,
       "version_minor": 0
      },
      "text/plain": [
       "  0%|          | 0/2 [00:00<?, ?batch/s]"
      ]
     },
     "metadata": {},
     "output_type": "display_data"
    },
    {
     "name": "stdout",
     "output_type": "stream",
     "text": [
      "Epoch 101, Val Loss: 0.005805, Val R2: 0.994156\n"
     ]
    },
    {
     "data": {
      "application/vnd.jupyter.widget-view+json": {
       "model_id": "42976632761a42f3b1a51fbae8f1ade4",
       "version_major": 2,
       "version_minor": 0
      },
      "text/plain": [
       "  0%|          | 0/2 [00:00<?, ?batch/s]"
      ]
     },
     "metadata": {},
     "output_type": "display_data"
    },
    {
     "name": "stdout",
     "output_type": "stream",
     "text": [
      "Epoch 102, Val Loss: 0.005699, Val R2: 0.994263\n"
     ]
    },
    {
     "data": {
      "application/vnd.jupyter.widget-view+json": {
       "model_id": "4b8c0eaa6a3f43a49360d1e98d05d1bb",
       "version_major": 2,
       "version_minor": 0
      },
      "text/plain": [
       "  0%|          | 0/2 [00:00<?, ?batch/s]"
      ]
     },
     "metadata": {},
     "output_type": "display_data"
    },
    {
     "name": "stdout",
     "output_type": "stream",
     "text": [
      "Epoch 103, Val Loss: 0.005594, Val R2: 0.994370\n"
     ]
    },
    {
     "data": {
      "application/vnd.jupyter.widget-view+json": {
       "model_id": "73729053b1214509bf7333e0a11f7fde",
       "version_major": 2,
       "version_minor": 0
      },
      "text/plain": [
       "  0%|          | 0/2 [00:00<?, ?batch/s]"
      ]
     },
     "metadata": {},
     "output_type": "display_data"
    },
    {
     "name": "stdout",
     "output_type": "stream",
     "text": [
      "Epoch 104, Val Loss: 0.005490, Val R2: 0.994476\n"
     ]
    },
    {
     "data": {
      "application/vnd.jupyter.widget-view+json": {
       "model_id": "eb3fa2f9e68342b7b8b00966b181b151",
       "version_major": 2,
       "version_minor": 0
      },
      "text/plain": [
       "  0%|          | 0/2 [00:00<?, ?batch/s]"
      ]
     },
     "metadata": {},
     "output_type": "display_data"
    },
    {
     "name": "stdout",
     "output_type": "stream",
     "text": [
      "Epoch 105, Val Loss: 0.005386, Val R2: 0.994581\n"
     ]
    },
    {
     "data": {
      "application/vnd.jupyter.widget-view+json": {
       "model_id": "f32f9bd453344f7ca6c3a490848e321c",
       "version_major": 2,
       "version_minor": 0
      },
      "text/plain": [
       "  0%|          | 0/2 [00:00<?, ?batch/s]"
      ]
     },
     "metadata": {},
     "output_type": "display_data"
    },
    {
     "name": "stdout",
     "output_type": "stream",
     "text": [
      "Epoch 106, Val Loss: 0.005283, Val R2: 0.994685\n"
     ]
    },
    {
     "data": {
      "application/vnd.jupyter.widget-view+json": {
       "model_id": "386fca5a222d4136aea5d72f1103d58a",
       "version_major": 2,
       "version_minor": 0
      },
      "text/plain": [
       "  0%|          | 0/2 [00:00<?, ?batch/s]"
      ]
     },
     "metadata": {},
     "output_type": "display_data"
    },
    {
     "name": "stdout",
     "output_type": "stream",
     "text": [
      "Epoch 107, Val Loss: 0.005180, Val R2: 0.994789\n"
     ]
    },
    {
     "data": {
      "application/vnd.jupyter.widget-view+json": {
       "model_id": "39eb01358adb4cccbd2aab723719f231",
       "version_major": 2,
       "version_minor": 0
      },
      "text/plain": [
       "  0%|          | 0/2 [00:00<?, ?batch/s]"
      ]
     },
     "metadata": {},
     "output_type": "display_data"
    },
    {
     "name": "stdout",
     "output_type": "stream",
     "text": [
      "Epoch 108, Val Loss: 0.005077, Val R2: 0.994893\n"
     ]
    },
    {
     "data": {
      "application/vnd.jupyter.widget-view+json": {
       "model_id": "6c170ebd1a974e6da2eafb18b64a16e0",
       "version_major": 2,
       "version_minor": 0
      },
      "text/plain": [
       "  0%|          | 0/2 [00:00<?, ?batch/s]"
      ]
     },
     "metadata": {},
     "output_type": "display_data"
    },
    {
     "name": "stdout",
     "output_type": "stream",
     "text": [
      "Epoch 109, Val Loss: 0.004975, Val R2: 0.994997\n"
     ]
    },
    {
     "data": {
      "application/vnd.jupyter.widget-view+json": {
       "model_id": "9a43a86a577e4669aead84b253b8b2ce",
       "version_major": 2,
       "version_minor": 0
      },
      "text/plain": [
       "  0%|          | 0/2 [00:00<?, ?batch/s]"
      ]
     },
     "metadata": {},
     "output_type": "display_data"
    },
    {
     "name": "stdout",
     "output_type": "stream",
     "text": [
      "Epoch 110, Val Loss: 0.004872, Val R2: 0.995101\n"
     ]
    },
    {
     "data": {
      "application/vnd.jupyter.widget-view+json": {
       "model_id": "afa5b21504634709ae58813bc394d5aa",
       "version_major": 2,
       "version_minor": 0
      },
      "text/plain": [
       "  0%|          | 0/2 [00:00<?, ?batch/s]"
      ]
     },
     "metadata": {},
     "output_type": "display_data"
    },
    {
     "name": "stdout",
     "output_type": "stream",
     "text": [
      "Epoch 111, Val Loss: 0.004770, Val R2: 0.995203\n"
     ]
    },
    {
     "data": {
      "application/vnd.jupyter.widget-view+json": {
       "model_id": "6528a017247d4fb7b22f2f11b518b1fe",
       "version_major": 2,
       "version_minor": 0
      },
      "text/plain": [
       "  0%|          | 0/2 [00:00<?, ?batch/s]"
      ]
     },
     "metadata": {},
     "output_type": "display_data"
    },
    {
     "name": "stdout",
     "output_type": "stream",
     "text": [
      "Epoch 112, Val Loss: 0.004669, Val R2: 0.995306\n"
     ]
    },
    {
     "data": {
      "application/vnd.jupyter.widget-view+json": {
       "model_id": "415546163e574981b8f6b5a06f3e82d6",
       "version_major": 2,
       "version_minor": 0
      },
      "text/plain": [
       "  0%|          | 0/2 [00:00<?, ?batch/s]"
      ]
     },
     "metadata": {},
     "output_type": "display_data"
    },
    {
     "name": "stdout",
     "output_type": "stream",
     "text": [
      "Epoch 113, Val Loss: 0.004568, Val R2: 0.995407\n"
     ]
    },
    {
     "data": {
      "application/vnd.jupyter.widget-view+json": {
       "model_id": "9f2752d8f5144632b6f3c3deeaa6f575",
       "version_major": 2,
       "version_minor": 0
      },
      "text/plain": [
       "  0%|          | 0/2 [00:00<?, ?batch/s]"
      ]
     },
     "metadata": {},
     "output_type": "display_data"
    },
    {
     "name": "stdout",
     "output_type": "stream",
     "text": [
      "Epoch 114, Val Loss: 0.004468, Val R2: 0.995508\n"
     ]
    },
    {
     "data": {
      "application/vnd.jupyter.widget-view+json": {
       "model_id": "5c114ee7169a4ae6be877632d122d719",
       "version_major": 2,
       "version_minor": 0
      },
      "text/plain": [
       "  0%|          | 0/2 [00:00<?, ?batch/s]"
      ]
     },
     "metadata": {},
     "output_type": "display_data"
    },
    {
     "name": "stdout",
     "output_type": "stream",
     "text": [
      "Epoch 115, Val Loss: 0.004369, Val R2: 0.995607\n"
     ]
    },
    {
     "data": {
      "application/vnd.jupyter.widget-view+json": {
       "model_id": "bd37c5d832564cf1bb5ec9b7b3f935e2",
       "version_major": 2,
       "version_minor": 0
      },
      "text/plain": [
       "  0%|          | 0/2 [00:00<?, ?batch/s]"
      ]
     },
     "metadata": {},
     "output_type": "display_data"
    },
    {
     "name": "stdout",
     "output_type": "stream",
     "text": [
      "Epoch 116, Val Loss: 0.004270, Val R2: 0.995706\n"
     ]
    },
    {
     "data": {
      "application/vnd.jupyter.widget-view+json": {
       "model_id": "d09bbea171dd4e4da47c0b3017ceebf0",
       "version_major": 2,
       "version_minor": 0
      },
      "text/plain": [
       "  0%|          | 0/2 [00:00<?, ?batch/s]"
      ]
     },
     "metadata": {},
     "output_type": "display_data"
    },
    {
     "name": "stdout",
     "output_type": "stream",
     "text": [
      "Epoch 117, Val Loss: 0.004172, Val R2: 0.995804\n"
     ]
    },
    {
     "data": {
      "application/vnd.jupyter.widget-view+json": {
       "model_id": "1275f05a9150492d9c54672b8556292b",
       "version_major": 2,
       "version_minor": 0
      },
      "text/plain": [
       "  0%|          | 0/2 [00:00<?, ?batch/s]"
      ]
     },
     "metadata": {},
     "output_type": "display_data"
    },
    {
     "name": "stdout",
     "output_type": "stream",
     "text": [
      "Epoch 118, Val Loss: 0.004076, Val R2: 0.995902\n"
     ]
    },
    {
     "data": {
      "application/vnd.jupyter.widget-view+json": {
       "model_id": "cb8fca8a0828455b9ed350db731ba6c7",
       "version_major": 2,
       "version_minor": 0
      },
      "text/plain": [
       "  0%|          | 0/2 [00:00<?, ?batch/s]"
      ]
     },
     "metadata": {},
     "output_type": "display_data"
    },
    {
     "name": "stdout",
     "output_type": "stream",
     "text": [
      "Epoch 119, Val Loss: 0.003981, Val R2: 0.995997\n"
     ]
    },
    {
     "data": {
      "application/vnd.jupyter.widget-view+json": {
       "model_id": "adebce74ec10459f86d542a37a89310a",
       "version_major": 2,
       "version_minor": 0
      },
      "text/plain": [
       "  0%|          | 0/2 [00:00<?, ?batch/s]"
      ]
     },
     "metadata": {},
     "output_type": "display_data"
    },
    {
     "name": "stdout",
     "output_type": "stream",
     "text": [
      "Epoch 120, Val Loss: 0.003889, Val R2: 0.996091\n"
     ]
    },
    {
     "data": {
      "application/vnd.jupyter.widget-view+json": {
       "model_id": "b62c1bf4fedc4cdd98fa6ed440609f55",
       "version_major": 2,
       "version_minor": 0
      },
      "text/plain": [
       "  0%|          | 0/2 [00:00<?, ?batch/s]"
      ]
     },
     "metadata": {},
     "output_type": "display_data"
    },
    {
     "name": "stdout",
     "output_type": "stream",
     "text": [
      "Epoch 121, Val Loss: 0.003799, Val R2: 0.996182\n"
     ]
    },
    {
     "data": {
      "application/vnd.jupyter.widget-view+json": {
       "model_id": "c29c0f7d9c2f44bc9217010ff2bead34",
       "version_major": 2,
       "version_minor": 0
      },
      "text/plain": [
       "  0%|          | 0/2 [00:00<?, ?batch/s]"
      ]
     },
     "metadata": {},
     "output_type": "display_data"
    },
    {
     "name": "stdout",
     "output_type": "stream",
     "text": [
      "Epoch 122, Val Loss: 0.003712, Val R2: 0.996270\n"
     ]
    },
    {
     "data": {
      "application/vnd.jupyter.widget-view+json": {
       "model_id": "26c7857b07ca4a3f891f5692988456cc",
       "version_major": 2,
       "version_minor": 0
      },
      "text/plain": [
       "  0%|          | 0/2 [00:00<?, ?batch/s]"
      ]
     },
     "metadata": {},
     "output_type": "display_data"
    },
    {
     "name": "stdout",
     "output_type": "stream",
     "text": [
      "Epoch 123, Val Loss: 0.003627, Val R2: 0.996356\n"
     ]
    },
    {
     "data": {
      "application/vnd.jupyter.widget-view+json": {
       "model_id": "0acf9efa3fde4d7991af3732a78490ff",
       "version_major": 2,
       "version_minor": 0
      },
      "text/plain": [
       "  0%|          | 0/2 [00:00<?, ?batch/s]"
      ]
     },
     "metadata": {},
     "output_type": "display_data"
    },
    {
     "name": "stdout",
     "output_type": "stream",
     "text": [
      "Epoch 124, Val Loss: 0.003545, Val R2: 0.996439\n"
     ]
    },
    {
     "data": {
      "application/vnd.jupyter.widget-view+json": {
       "model_id": "06bd1f01bd2d4325bef99ee157d4a047",
       "version_major": 2,
       "version_minor": 0
      },
      "text/plain": [
       "  0%|          | 0/2 [00:00<?, ?batch/s]"
      ]
     },
     "metadata": {},
     "output_type": "display_data"
    },
    {
     "name": "stdout",
     "output_type": "stream",
     "text": [
      "Epoch 125, Val Loss: 0.003466, Val R2: 0.996520\n"
     ]
    },
    {
     "data": {
      "application/vnd.jupyter.widget-view+json": {
       "model_id": "0cd2709902594e5cb0a6e74a3c2bd0f3",
       "version_major": 2,
       "version_minor": 0
      },
      "text/plain": [
       "  0%|          | 0/2 [00:00<?, ?batch/s]"
      ]
     },
     "metadata": {},
     "output_type": "display_data"
    },
    {
     "name": "stdout",
     "output_type": "stream",
     "text": [
      "Epoch 126, Val Loss: 0.003388, Val R2: 0.996598\n"
     ]
    },
    {
     "data": {
      "application/vnd.jupyter.widget-view+json": {
       "model_id": "602916f28db64dbc886c0f42143ea52b",
       "version_major": 2,
       "version_minor": 0
      },
      "text/plain": [
       "  0%|          | 0/2 [00:00<?, ?batch/s]"
      ]
     },
     "metadata": {},
     "output_type": "display_data"
    },
    {
     "name": "stdout",
     "output_type": "stream",
     "text": [
      "Epoch 127, Val Loss: 0.003313, Val R2: 0.996674\n"
     ]
    },
    {
     "data": {
      "application/vnd.jupyter.widget-view+json": {
       "model_id": "d1737366623945deae4abe8cf6d79bc3",
       "version_major": 2,
       "version_minor": 0
      },
      "text/plain": [
       "  0%|          | 0/2 [00:00<?, ?batch/s]"
      ]
     },
     "metadata": {},
     "output_type": "display_data"
    },
    {
     "name": "stdout",
     "output_type": "stream",
     "text": [
      "Epoch 128, Val Loss: 0.003240, Val R2: 0.996749\n"
     ]
    },
    {
     "data": {
      "application/vnd.jupyter.widget-view+json": {
       "model_id": "091939943409496384b16129d8de3c33",
       "version_major": 2,
       "version_minor": 0
      },
      "text/plain": [
       "  0%|          | 0/2 [00:00<?, ?batch/s]"
      ]
     },
     "metadata": {},
     "output_type": "display_data"
    },
    {
     "name": "stdout",
     "output_type": "stream",
     "text": [
      "Epoch 129, Val Loss: 0.003168, Val R2: 0.996821\n"
     ]
    },
    {
     "data": {
      "application/vnd.jupyter.widget-view+json": {
       "model_id": "1a9ee0e6baac428798e1fba3e983a051",
       "version_major": 2,
       "version_minor": 0
      },
      "text/plain": [
       "  0%|          | 0/2 [00:00<?, ?batch/s]"
      ]
     },
     "metadata": {},
     "output_type": "display_data"
    },
    {
     "name": "stdout",
     "output_type": "stream",
     "text": [
      "Epoch 130, Val Loss: 0.003099, Val R2: 0.996891\n"
     ]
    },
    {
     "data": {
      "application/vnd.jupyter.widget-view+json": {
       "model_id": "2f399e39c2e248ddac38ad29ca667ca3",
       "version_major": 2,
       "version_minor": 0
      },
      "text/plain": [
       "  0%|          | 0/2 [00:00<?, ?batch/s]"
      ]
     },
     "metadata": {},
     "output_type": "display_data"
    },
    {
     "name": "stdout",
     "output_type": "stream",
     "text": [
      "Epoch 131, Val Loss: 0.003032, Val R2: 0.996958\n"
     ]
    },
    {
     "data": {
      "application/vnd.jupyter.widget-view+json": {
       "model_id": "a46424c8d0a04f969cd4d33588ea5c9c",
       "version_major": 2,
       "version_minor": 0
      },
      "text/plain": [
       "  0%|          | 0/2 [00:00<?, ?batch/s]"
      ]
     },
     "metadata": {},
     "output_type": "display_data"
    },
    {
     "name": "stdout",
     "output_type": "stream",
     "text": [
      "Epoch 132, Val Loss: 0.002967, Val R2: 0.997024\n"
     ]
    },
    {
     "data": {
      "application/vnd.jupyter.widget-view+json": {
       "model_id": "d7dfb597815e4adb8e81763e694dbcd9",
       "version_major": 2,
       "version_minor": 0
      },
      "text/plain": [
       "  0%|          | 0/2 [00:00<?, ?batch/s]"
      ]
     },
     "metadata": {},
     "output_type": "display_data"
    },
    {
     "name": "stdout",
     "output_type": "stream",
     "text": [
      "Epoch 133, Val Loss: 0.002903, Val R2: 0.997088\n"
     ]
    },
    {
     "data": {
      "application/vnd.jupyter.widget-view+json": {
       "model_id": "2184bb0e3d1f47ef9dc644d533f334a2",
       "version_major": 2,
       "version_minor": 0
      },
      "text/plain": [
       "  0%|          | 0/2 [00:00<?, ?batch/s]"
      ]
     },
     "metadata": {},
     "output_type": "display_data"
    },
    {
     "name": "stdout",
     "output_type": "stream",
     "text": [
      "Epoch 134, Val Loss: 0.002841, Val R2: 0.997151\n"
     ]
    },
    {
     "data": {
      "application/vnd.jupyter.widget-view+json": {
       "model_id": "1e3fd80581da4376847a6f492a3a7163",
       "version_major": 2,
       "version_minor": 0
      },
      "text/plain": [
       "  0%|          | 0/2 [00:00<?, ?batch/s]"
      ]
     },
     "metadata": {},
     "output_type": "display_data"
    },
    {
     "name": "stdout",
     "output_type": "stream",
     "text": [
      "Epoch 135, Val Loss: 0.002781, Val R2: 0.997211\n"
     ]
    },
    {
     "data": {
      "application/vnd.jupyter.widget-view+json": {
       "model_id": "eee957379ecb43abbc00ac9e7f541ae6",
       "version_major": 2,
       "version_minor": 0
      },
      "text/plain": [
       "  0%|          | 0/2 [00:00<?, ?batch/s]"
      ]
     },
     "metadata": {},
     "output_type": "display_data"
    },
    {
     "name": "stdout",
     "output_type": "stream",
     "text": [
      "Epoch 136, Val Loss: 0.002723, Val R2: 0.997270\n"
     ]
    },
    {
     "data": {
      "application/vnd.jupyter.widget-view+json": {
       "model_id": "66cd38c483694a63a79711a9c7d45482",
       "version_major": 2,
       "version_minor": 0
      },
      "text/plain": [
       "  0%|          | 0/2 [00:00<?, ?batch/s]"
      ]
     },
     "metadata": {},
     "output_type": "display_data"
    },
    {
     "name": "stdout",
     "output_type": "stream",
     "text": [
      "Epoch 137, Val Loss: 0.002666, Val R2: 0.997328\n"
     ]
    },
    {
     "data": {
      "application/vnd.jupyter.widget-view+json": {
       "model_id": "3d84205bb6684aa88225bc0b09706e55",
       "version_major": 2,
       "version_minor": 0
      },
      "text/plain": [
       "  0%|          | 0/2 [00:00<?, ?batch/s]"
      ]
     },
     "metadata": {},
     "output_type": "display_data"
    },
    {
     "name": "stdout",
     "output_type": "stream",
     "text": [
      "Epoch 138, Val Loss: 0.002611, Val R2: 0.997383\n"
     ]
    },
    {
     "data": {
      "application/vnd.jupyter.widget-view+json": {
       "model_id": "3943af3bfaf04e1ea520a6ac31e43244",
       "version_major": 2,
       "version_minor": 0
      },
      "text/plain": [
       "  0%|          | 0/2 [00:00<?, ?batch/s]"
      ]
     },
     "metadata": {},
     "output_type": "display_data"
    },
    {
     "name": "stdout",
     "output_type": "stream",
     "text": [
      "Epoch 139, Val Loss: 0.002558, Val R2: 0.997437\n"
     ]
    },
    {
     "data": {
      "application/vnd.jupyter.widget-view+json": {
       "model_id": "f9b13e9edf794199b1227df410b43a54",
       "version_major": 2,
       "version_minor": 0
      },
      "text/plain": [
       "  0%|          | 0/2 [00:00<?, ?batch/s]"
      ]
     },
     "metadata": {},
     "output_type": "display_data"
    },
    {
     "name": "stdout",
     "output_type": "stream",
     "text": [
      "Epoch 140, Val Loss: 0.002506, Val R2: 0.997489\n"
     ]
    },
    {
     "data": {
      "application/vnd.jupyter.widget-view+json": {
       "model_id": "26c25a4f78eb4bdbad981298aa37a2c9",
       "version_major": 2,
       "version_minor": 0
      },
      "text/plain": [
       "  0%|          | 0/2 [00:00<?, ?batch/s]"
      ]
     },
     "metadata": {},
     "output_type": "display_data"
    },
    {
     "name": "stdout",
     "output_type": "stream",
     "text": [
      "Epoch 141, Val Loss: 0.002456, Val R2: 0.997539\n"
     ]
    },
    {
     "data": {
      "application/vnd.jupyter.widget-view+json": {
       "model_id": "b4fef33c091a40baaf1bf661fe0ecbc3",
       "version_major": 2,
       "version_minor": 0
      },
      "text/plain": [
       "  0%|          | 0/2 [00:00<?, ?batch/s]"
      ]
     },
     "metadata": {},
     "output_type": "display_data"
    },
    {
     "name": "stdout",
     "output_type": "stream",
     "text": [
      "Epoch 142, Val Loss: 0.002407, Val R2: 0.997588\n"
     ]
    },
    {
     "data": {
      "application/vnd.jupyter.widget-view+json": {
       "model_id": "5d6114f06aaa4e9bb06209c222bc5bd6",
       "version_major": 2,
       "version_minor": 0
      },
      "text/plain": [
       "  0%|          | 0/2 [00:00<?, ?batch/s]"
      ]
     },
     "metadata": {},
     "output_type": "display_data"
    },
    {
     "name": "stdout",
     "output_type": "stream",
     "text": [
      "Epoch 143, Val Loss: 0.002360, Val R2: 0.997635\n"
     ]
    },
    {
     "data": {
      "application/vnd.jupyter.widget-view+json": {
       "model_id": "d46167146d8b4a5990e0f6d2cce172fb",
       "version_major": 2,
       "version_minor": 0
      },
      "text/plain": [
       "  0%|          | 0/2 [00:00<?, ?batch/s]"
      ]
     },
     "metadata": {},
     "output_type": "display_data"
    },
    {
     "name": "stdout",
     "output_type": "stream",
     "text": [
      "Epoch 144, Val Loss: 0.002314, Val R2: 0.997682\n"
     ]
    },
    {
     "data": {
      "application/vnd.jupyter.widget-view+json": {
       "model_id": "b8e1a4230c46479aa5a1a6db48d49c60",
       "version_major": 2,
       "version_minor": 0
      },
      "text/plain": [
       "  0%|          | 0/2 [00:00<?, ?batch/s]"
      ]
     },
     "metadata": {},
     "output_type": "display_data"
    },
    {
     "name": "stdout",
     "output_type": "stream",
     "text": [
      "Epoch 145, Val Loss: 0.002270, Val R2: 0.997726\n"
     ]
    },
    {
     "data": {
      "application/vnd.jupyter.widget-view+json": {
       "model_id": "5a78d38bf69b4435a1c54d2a7a1a1896",
       "version_major": 2,
       "version_minor": 0
      },
      "text/plain": [
       "  0%|          | 0/2 [00:00<?, ?batch/s]"
      ]
     },
     "metadata": {},
     "output_type": "display_data"
    },
    {
     "name": "stdout",
     "output_type": "stream",
     "text": [
      "Epoch 146, Val Loss: 0.002227, Val R2: 0.997769\n"
     ]
    },
    {
     "data": {
      "application/vnd.jupyter.widget-view+json": {
       "model_id": "9c653d8517e14301978078e3c02e8acf",
       "version_major": 2,
       "version_minor": 0
      },
      "text/plain": [
       "  0%|          | 0/2 [00:00<?, ?batch/s]"
      ]
     },
     "metadata": {},
     "output_type": "display_data"
    },
    {
     "name": "stdout",
     "output_type": "stream",
     "text": [
      "Epoch 147, Val Loss: 0.002186, Val R2: 0.997811\n"
     ]
    },
    {
     "data": {
      "application/vnd.jupyter.widget-view+json": {
       "model_id": "bcd55d46b4414b83841460fa0c779d9a",
       "version_major": 2,
       "version_minor": 0
      },
      "text/plain": [
       "  0%|          | 0/2 [00:00<?, ?batch/s]"
      ]
     },
     "metadata": {},
     "output_type": "display_data"
    },
    {
     "name": "stdout",
     "output_type": "stream",
     "text": [
      "Epoch 148, Val Loss: 0.002146, Val R2: 0.997852\n"
     ]
    },
    {
     "data": {
      "application/vnd.jupyter.widget-view+json": {
       "model_id": "718fa1f7d58c480db5f54d533af7ff82",
       "version_major": 2,
       "version_minor": 0
      },
      "text/plain": [
       "  0%|          | 0/2 [00:00<?, ?batch/s]"
      ]
     },
     "metadata": {},
     "output_type": "display_data"
    },
    {
     "name": "stdout",
     "output_type": "stream",
     "text": [
      "Epoch 149, Val Loss: 0.002107, Val R2: 0.997891\n"
     ]
    },
    {
     "data": {
      "application/vnd.jupyter.widget-view+json": {
       "model_id": "2ff1c39ad2f641b28d1f72575d7ec469",
       "version_major": 2,
       "version_minor": 0
      },
      "text/plain": [
       "  0%|          | 0/2 [00:00<?, ?batch/s]"
      ]
     },
     "metadata": {},
     "output_type": "display_data"
    },
    {
     "name": "stdout",
     "output_type": "stream",
     "text": [
      "Epoch 150, Val Loss: 0.002070, Val R2: 0.997928\n"
     ]
    },
    {
     "data": {
      "application/vnd.jupyter.widget-view+json": {
       "model_id": "6b9bd3b43b4e4d15aaeafd61c70a71d0",
       "version_major": 2,
       "version_minor": 0
      },
      "text/plain": [
       "  0%|          | 0/2 [00:00<?, ?batch/s]"
      ]
     },
     "metadata": {},
     "output_type": "display_data"
    },
    {
     "name": "stdout",
     "output_type": "stream",
     "text": [
      "Epoch 151, Val Loss: 0.002033, Val R2: 0.997965\n"
     ]
    },
    {
     "data": {
      "application/vnd.jupyter.widget-view+json": {
       "model_id": "649b8a57eee743d28802e2dbe8fcaab7",
       "version_major": 2,
       "version_minor": 0
      },
      "text/plain": [
       "  0%|          | 0/2 [00:00<?, ?batch/s]"
      ]
     },
     "metadata": {},
     "output_type": "display_data"
    },
    {
     "name": "stdout",
     "output_type": "stream",
     "text": [
      "Epoch 152, Val Loss: 0.001998, Val R2: 0.998001\n"
     ]
    },
    {
     "data": {
      "application/vnd.jupyter.widget-view+json": {
       "model_id": "92fc39458a4e44649630235522a9ad20",
       "version_major": 2,
       "version_minor": 0
      },
      "text/plain": [
       "  0%|          | 0/2 [00:00<?, ?batch/s]"
      ]
     },
     "metadata": {},
     "output_type": "display_data"
    },
    {
     "name": "stdout",
     "output_type": "stream",
     "text": [
      "Epoch 153, Val Loss: 0.001963, Val R2: 0.998036\n"
     ]
    },
    {
     "data": {
      "application/vnd.jupyter.widget-view+json": {
       "model_id": "4718bf58481e4937b68b03660141c842",
       "version_major": 2,
       "version_minor": 0
      },
      "text/plain": [
       "  0%|          | 0/2 [00:00<?, ?batch/s]"
      ]
     },
     "metadata": {},
     "output_type": "display_data"
    },
    {
     "name": "stdout",
     "output_type": "stream",
     "text": [
      "Epoch 154, Val Loss: 0.001930, Val R2: 0.998070\n"
     ]
    },
    {
     "data": {
      "application/vnd.jupyter.widget-view+json": {
       "model_id": "abd2142bb207424987235c0fef7e9b78",
       "version_major": 2,
       "version_minor": 0
      },
      "text/plain": [
       "  0%|          | 0/2 [00:00<?, ?batch/s]"
      ]
     },
     "metadata": {},
     "output_type": "display_data"
    },
    {
     "name": "stdout",
     "output_type": "stream",
     "text": [
      "Epoch 155, Val Loss: 0.001897, Val R2: 0.998102\n"
     ]
    },
    {
     "data": {
      "application/vnd.jupyter.widget-view+json": {
       "model_id": "33f7e08f47fa4dd1b6b2ae753ded1213",
       "version_major": 2,
       "version_minor": 0
      },
      "text/plain": [
       "  0%|          | 0/2 [00:00<?, ?batch/s]"
      ]
     },
     "metadata": {},
     "output_type": "display_data"
    },
    {
     "name": "stdout",
     "output_type": "stream",
     "text": [
      "Epoch 156, Val Loss: 0.001865, Val R2: 0.998134\n"
     ]
    },
    {
     "data": {
      "application/vnd.jupyter.widget-view+json": {
       "model_id": "658cee9eaf244807a42897c761f03321",
       "version_major": 2,
       "version_minor": 0
      },
      "text/plain": [
       "  0%|          | 0/2 [00:00<?, ?batch/s]"
      ]
     },
     "metadata": {},
     "output_type": "display_data"
    },
    {
     "name": "stdout",
     "output_type": "stream",
     "text": [
      "Epoch 157, Val Loss: 0.001834, Val R2: 0.998165\n"
     ]
    },
    {
     "data": {
      "application/vnd.jupyter.widget-view+json": {
       "model_id": "42b9c915084448ae94503cf00bb66c77",
       "version_major": 2,
       "version_minor": 0
      },
      "text/plain": [
       "  0%|          | 0/2 [00:00<?, ?batch/s]"
      ]
     },
     "metadata": {},
     "output_type": "display_data"
    },
    {
     "name": "stdout",
     "output_type": "stream",
     "text": [
      "Epoch 158, Val Loss: 0.001804, Val R2: 0.998196\n"
     ]
    },
    {
     "data": {
      "application/vnd.jupyter.widget-view+json": {
       "model_id": "b8cf4fbe8a8a4262b2c8161f63cb90de",
       "version_major": 2,
       "version_minor": 0
      },
      "text/plain": [
       "  0%|          | 0/2 [00:00<?, ?batch/s]"
      ]
     },
     "metadata": {},
     "output_type": "display_data"
    },
    {
     "name": "stdout",
     "output_type": "stream",
     "text": [
      "Epoch 159, Val Loss: 0.001774, Val R2: 0.998226\n"
     ]
    },
    {
     "data": {
      "application/vnd.jupyter.widget-view+json": {
       "model_id": "dd0cee94280e4cb79c3d49bfb4c80ebb",
       "version_major": 2,
       "version_minor": 0
      },
      "text/plain": [
       "  0%|          | 0/2 [00:00<?, ?batch/s]"
      ]
     },
     "metadata": {},
     "output_type": "display_data"
    },
    {
     "name": "stdout",
     "output_type": "stream",
     "text": [
      "Epoch 160, Val Loss: 0.001745, Val R2: 0.998255\n"
     ]
    },
    {
     "data": {
      "application/vnd.jupyter.widget-view+json": {
       "model_id": "89cdf6a6f175463f9d14f40b9ffc2802",
       "version_major": 2,
       "version_minor": 0
      },
      "text/plain": [
       "  0%|          | 0/2 [00:00<?, ?batch/s]"
      ]
     },
     "metadata": {},
     "output_type": "display_data"
    },
    {
     "name": "stdout",
     "output_type": "stream",
     "text": [
      "Epoch 161, Val Loss: 0.001717, Val R2: 0.998283\n"
     ]
    },
    {
     "data": {
      "application/vnd.jupyter.widget-view+json": {
       "model_id": "feadb2e99ed34c499cffda9699fde22e",
       "version_major": 2,
       "version_minor": 0
      },
      "text/plain": [
       "  0%|          | 0/2 [00:00<?, ?batch/s]"
      ]
     },
     "metadata": {},
     "output_type": "display_data"
    },
    {
     "name": "stdout",
     "output_type": "stream",
     "text": [
      "Epoch 162, Val Loss: 0.001689, Val R2: 0.998311\n"
     ]
    },
    {
     "data": {
      "application/vnd.jupyter.widget-view+json": {
       "model_id": "61272b3937204688afa3970a7cc41d46",
       "version_major": 2,
       "version_minor": 0
      },
      "text/plain": [
       "  0%|          | 0/2 [00:00<?, ?batch/s]"
      ]
     },
     "metadata": {},
     "output_type": "display_data"
    },
    {
     "name": "stdout",
     "output_type": "stream",
     "text": [
      "Epoch 163, Val Loss: 0.001662, Val R2: 0.998338\n"
     ]
    },
    {
     "data": {
      "application/vnd.jupyter.widget-view+json": {
       "model_id": "7a905e4d996244b5b8d26955cd250d17",
       "version_major": 2,
       "version_minor": 0
      },
      "text/plain": [
       "  0%|          | 0/2 [00:00<?, ?batch/s]"
      ]
     },
     "metadata": {},
     "output_type": "display_data"
    },
    {
     "name": "stdout",
     "output_type": "stream",
     "text": [
      "Epoch 164, Val Loss: 0.001635, Val R2: 0.998365\n"
     ]
    },
    {
     "data": {
      "application/vnd.jupyter.widget-view+json": {
       "model_id": "518209047d0f4040ac6024e767dc48c9",
       "version_major": 2,
       "version_minor": 0
      },
      "text/plain": [
       "  0%|          | 0/2 [00:00<?, ?batch/s]"
      ]
     },
     "metadata": {},
     "output_type": "display_data"
    },
    {
     "name": "stdout",
     "output_type": "stream",
     "text": [
      "Epoch 165, Val Loss: 0.001610, Val R2: 0.998391\n"
     ]
    },
    {
     "data": {
      "application/vnd.jupyter.widget-view+json": {
       "model_id": "d7aca755da2e411f98088a6560943e96",
       "version_major": 2,
       "version_minor": 0
      },
      "text/plain": [
       "  0%|          | 0/2 [00:00<?, ?batch/s]"
      ]
     },
     "metadata": {},
     "output_type": "display_data"
    },
    {
     "name": "stdout",
     "output_type": "stream",
     "text": [
      "Epoch 166, Val Loss: 0.001584, Val R2: 0.998416\n"
     ]
    },
    {
     "data": {
      "application/vnd.jupyter.widget-view+json": {
       "model_id": "36c2c16c175f47b5898e3edf22c73947",
       "version_major": 2,
       "version_minor": 0
      },
      "text/plain": [
       "  0%|          | 0/2 [00:00<?, ?batch/s]"
      ]
     },
     "metadata": {},
     "output_type": "display_data"
    },
    {
     "name": "stdout",
     "output_type": "stream",
     "text": [
      "Epoch 167, Val Loss: 0.001560, Val R2: 0.998441\n"
     ]
    },
    {
     "data": {
      "application/vnd.jupyter.widget-view+json": {
       "model_id": "8c5f95c8fcac4590a0403fa781e66946",
       "version_major": 2,
       "version_minor": 0
      },
      "text/plain": [
       "  0%|          | 0/2 [00:00<?, ?batch/s]"
      ]
     },
     "metadata": {},
     "output_type": "display_data"
    },
    {
     "name": "stdout",
     "output_type": "stream",
     "text": [
      "Epoch 168, Val Loss: 0.001536, Val R2: 0.998465\n"
     ]
    },
    {
     "data": {
      "application/vnd.jupyter.widget-view+json": {
       "model_id": "0697f12523fb4cdfa9f61d46bc6acb78",
       "version_major": 2,
       "version_minor": 0
      },
      "text/plain": [
       "  0%|          | 0/2 [00:00<?, ?batch/s]"
      ]
     },
     "metadata": {},
     "output_type": "display_data"
    },
    {
     "name": "stdout",
     "output_type": "stream",
     "text": [
      "Epoch 169, Val Loss: 0.001512, Val R2: 0.998489\n"
     ]
    },
    {
     "data": {
      "application/vnd.jupyter.widget-view+json": {
       "model_id": "45b73c8bf5444e8e8e47e0de7a910985",
       "version_major": 2,
       "version_minor": 0
      },
      "text/plain": [
       "  0%|          | 0/2 [00:00<?, ?batch/s]"
      ]
     },
     "metadata": {},
     "output_type": "display_data"
    },
    {
     "name": "stdout",
     "output_type": "stream",
     "text": [
      "Epoch 170, Val Loss: 0.001489, Val R2: 0.998512\n"
     ]
    },
    {
     "data": {
      "application/vnd.jupyter.widget-view+json": {
       "model_id": "a073dbe9c2b3472d8b866ecd5262b468",
       "version_major": 2,
       "version_minor": 0
      },
      "text/plain": [
       "  0%|          | 0/2 [00:00<?, ?batch/s]"
      ]
     },
     "metadata": {},
     "output_type": "display_data"
    },
    {
     "name": "stdout",
     "output_type": "stream",
     "text": [
      "Epoch 171, Val Loss: 0.001466, Val R2: 0.998535\n"
     ]
    },
    {
     "data": {
      "application/vnd.jupyter.widget-view+json": {
       "model_id": "76514fca112f4a57951601db5a65e8a3",
       "version_major": 2,
       "version_minor": 0
      },
      "text/plain": [
       "  0%|          | 0/2 [00:00<?, ?batch/s]"
      ]
     },
     "metadata": {},
     "output_type": "display_data"
    },
    {
     "name": "stdout",
     "output_type": "stream",
     "text": [
      "Epoch 172, Val Loss: 0.001444, Val R2: 0.998557\n"
     ]
    },
    {
     "data": {
      "application/vnd.jupyter.widget-view+json": {
       "model_id": "511d73a5b9324d0e808d061658ecedd7",
       "version_major": 2,
       "version_minor": 0
      },
      "text/plain": [
       "  0%|          | 0/2 [00:00<?, ?batch/s]"
      ]
     },
     "metadata": {},
     "output_type": "display_data"
    },
    {
     "name": "stdout",
     "output_type": "stream",
     "text": [
      "Epoch 173, Val Loss: 0.001423, Val R2: 0.998578\n"
     ]
    },
    {
     "data": {
      "application/vnd.jupyter.widget-view+json": {
       "model_id": "86d932b6fd124dcf87f2b7712e091c2a",
       "version_major": 2,
       "version_minor": 0
      },
      "text/plain": [
       "  0%|          | 0/2 [00:00<?, ?batch/s]"
      ]
     },
     "metadata": {},
     "output_type": "display_data"
    },
    {
     "name": "stdout",
     "output_type": "stream",
     "text": [
      "Epoch 174, Val Loss: 0.001401, Val R2: 0.998600\n"
     ]
    },
    {
     "data": {
      "application/vnd.jupyter.widget-view+json": {
       "model_id": "13d51901f0304241962a9c9fa40d0315",
       "version_major": 2,
       "version_minor": 0
      },
      "text/plain": [
       "  0%|          | 0/2 [00:00<?, ?batch/s]"
      ]
     },
     "metadata": {},
     "output_type": "display_data"
    },
    {
     "name": "stdout",
     "output_type": "stream",
     "text": [
      "Epoch 175, Val Loss: 0.001381, Val R2: 0.998620\n"
     ]
    },
    {
     "data": {
      "application/vnd.jupyter.widget-view+json": {
       "model_id": "69cb62932a144185bcd52b6bccc3d033",
       "version_major": 2,
       "version_minor": 0
      },
      "text/plain": [
       "  0%|          | 0/2 [00:00<?, ?batch/s]"
      ]
     },
     "metadata": {},
     "output_type": "display_data"
    },
    {
     "name": "stdout",
     "output_type": "stream",
     "text": [
      "Epoch 176, Val Loss: 0.001361, Val R2: 0.998641\n"
     ]
    },
    {
     "data": {
      "application/vnd.jupyter.widget-view+json": {
       "model_id": "84842f54b5f3448582f49662951a9f18",
       "version_major": 2,
       "version_minor": 0
      },
      "text/plain": [
       "  0%|          | 0/2 [00:00<?, ?batch/s]"
      ]
     },
     "metadata": {},
     "output_type": "display_data"
    },
    {
     "name": "stdout",
     "output_type": "stream",
     "text": [
      "Epoch 177, Val Loss: 0.001341, Val R2: 0.998661\n"
     ]
    },
    {
     "data": {
      "application/vnd.jupyter.widget-view+json": {
       "model_id": "9ecedc8a532c4f949b469162cb613e72",
       "version_major": 2,
       "version_minor": 0
      },
      "text/plain": [
       "  0%|          | 0/2 [00:00<?, ?batch/s]"
      ]
     },
     "metadata": {},
     "output_type": "display_data"
    },
    {
     "name": "stdout",
     "output_type": "stream",
     "text": [
      "Epoch 178, Val Loss: 0.001321, Val R2: 0.998680\n"
     ]
    },
    {
     "data": {
      "application/vnd.jupyter.widget-view+json": {
       "model_id": "e0296f2fb0a547ecb716f9ad80ab719f",
       "version_major": 2,
       "version_minor": 0
      },
      "text/plain": [
       "  0%|          | 0/2 [00:00<?, ?batch/s]"
      ]
     },
     "metadata": {},
     "output_type": "display_data"
    },
    {
     "name": "stdout",
     "output_type": "stream",
     "text": [
      "Epoch 179, Val Loss: 0.001302, Val R2: 0.998699\n"
     ]
    },
    {
     "data": {
      "application/vnd.jupyter.widget-view+json": {
       "model_id": "ab16d5ac7a1f442089a6182fd26ddbda",
       "version_major": 2,
       "version_minor": 0
      },
      "text/plain": [
       "  0%|          | 0/2 [00:00<?, ?batch/s]"
      ]
     },
     "metadata": {},
     "output_type": "display_data"
    },
    {
     "name": "stdout",
     "output_type": "stream",
     "text": [
      "Epoch 180, Val Loss: 0.001284, Val R2: 0.998718\n"
     ]
    },
    {
     "data": {
      "application/vnd.jupyter.widget-view+json": {
       "model_id": "b8fbe3eb24324c28a3a6ffa5082c02aa",
       "version_major": 2,
       "version_minor": 0
      },
      "text/plain": [
       "  0%|          | 0/2 [00:00<?, ?batch/s]"
      ]
     },
     "metadata": {},
     "output_type": "display_data"
    },
    {
     "name": "stdout",
     "output_type": "stream",
     "text": [
      "Epoch 181, Val Loss: 0.001265, Val R2: 0.998736\n"
     ]
    },
    {
     "data": {
      "application/vnd.jupyter.widget-view+json": {
       "model_id": "9dbc3394b97d42168407e2c4bd985808",
       "version_major": 2,
       "version_minor": 0
      },
      "text/plain": [
       "  0%|          | 0/2 [00:00<?, ?batch/s]"
      ]
     },
     "metadata": {},
     "output_type": "display_data"
    },
    {
     "name": "stdout",
     "output_type": "stream",
     "text": [
      "Epoch 182, Val Loss: 0.001248, Val R2: 0.998754\n"
     ]
    },
    {
     "data": {
      "application/vnd.jupyter.widget-view+json": {
       "model_id": "c9d45ce7d58547f3a5e54c3adf3f34f8",
       "version_major": 2,
       "version_minor": 0
      },
      "text/plain": [
       "  0%|          | 0/2 [00:00<?, ?batch/s]"
      ]
     },
     "metadata": {},
     "output_type": "display_data"
    },
    {
     "name": "stdout",
     "output_type": "stream",
     "text": [
      "Epoch 183, Val Loss: 0.001230, Val R2: 0.998771\n"
     ]
    },
    {
     "data": {
      "application/vnd.jupyter.widget-view+json": {
       "model_id": "5b7cbd55cb2c474c843da149d79bc05b",
       "version_major": 2,
       "version_minor": 0
      },
      "text/plain": [
       "  0%|          | 0/2 [00:00<?, ?batch/s]"
      ]
     },
     "metadata": {},
     "output_type": "display_data"
    },
    {
     "name": "stdout",
     "output_type": "stream",
     "text": [
      "Epoch 184, Val Loss: 0.001213, Val R2: 0.998789\n"
     ]
    },
    {
     "data": {
      "application/vnd.jupyter.widget-view+json": {
       "model_id": "a47963108ea74c68a492ee0e68e7b681",
       "version_major": 2,
       "version_minor": 0
      },
      "text/plain": [
       "  0%|          | 0/2 [00:00<?, ?batch/s]"
      ]
     },
     "metadata": {},
     "output_type": "display_data"
    },
    {
     "name": "stdout",
     "output_type": "stream",
     "text": [
      "Epoch 185, Val Loss: 0.001196, Val R2: 0.998805\n"
     ]
    },
    {
     "data": {
      "application/vnd.jupyter.widget-view+json": {
       "model_id": "7b16c72d601742508c802d088c1b69d1",
       "version_major": 2,
       "version_minor": 0
      },
      "text/plain": [
       "  0%|          | 0/2 [00:00<?, ?batch/s]"
      ]
     },
     "metadata": {},
     "output_type": "display_data"
    },
    {
     "name": "stdout",
     "output_type": "stream",
     "text": [
      "Epoch 186, Val Loss: 0.001180, Val R2: 0.998822\n"
     ]
    },
    {
     "data": {
      "application/vnd.jupyter.widget-view+json": {
       "model_id": "83f23e60d1114a85a1576cd558873016",
       "version_major": 2,
       "version_minor": 0
      },
      "text/plain": [
       "  0%|          | 0/2 [00:00<?, ?batch/s]"
      ]
     },
     "metadata": {},
     "output_type": "display_data"
    },
    {
     "name": "stdout",
     "output_type": "stream",
     "text": [
      "Epoch 187, Val Loss: 0.001164, Val R2: 0.998838\n"
     ]
    },
    {
     "data": {
      "application/vnd.jupyter.widget-view+json": {
       "model_id": "6129f94b966b4537af5455c7b84fc1ec",
       "version_major": 2,
       "version_minor": 0
      },
      "text/plain": [
       "  0%|          | 0/2 [00:00<?, ?batch/s]"
      ]
     },
     "metadata": {},
     "output_type": "display_data"
    },
    {
     "name": "stdout",
     "output_type": "stream",
     "text": [
      "Epoch 188, Val Loss: 0.001148, Val R2: 0.998854\n"
     ]
    },
    {
     "data": {
      "application/vnd.jupyter.widget-view+json": {
       "model_id": "402123cc00e841e791730f6741318414",
       "version_major": 2,
       "version_minor": 0
      },
      "text/plain": [
       "  0%|          | 0/2 [00:00<?, ?batch/s]"
      ]
     },
     "metadata": {},
     "output_type": "display_data"
    },
    {
     "name": "stdout",
     "output_type": "stream",
     "text": [
      "Epoch 189, Val Loss: 0.001133, Val R2: 0.998869\n"
     ]
    },
    {
     "data": {
      "application/vnd.jupyter.widget-view+json": {
       "model_id": "ae57d198ceb24430ac4741eaa4bdfcec",
       "version_major": 2,
       "version_minor": 0
      },
      "text/plain": [
       "  0%|          | 0/2 [00:00<?, ?batch/s]"
      ]
     },
     "metadata": {},
     "output_type": "display_data"
    },
    {
     "name": "stdout",
     "output_type": "stream",
     "text": [
      "Epoch 190, Val Loss: 0.001118, Val R2: 0.998884\n"
     ]
    },
    {
     "data": {
      "application/vnd.jupyter.widget-view+json": {
       "model_id": "a260384cbd384b90b06e87010df68767",
       "version_major": 2,
       "version_minor": 0
      },
      "text/plain": [
       "  0%|          | 0/2 [00:00<?, ?batch/s]"
      ]
     },
     "metadata": {},
     "output_type": "display_data"
    },
    {
     "name": "stdout",
     "output_type": "stream",
     "text": [
      "Epoch 191, Val Loss: 0.001103, Val R2: 0.998899\n"
     ]
    },
    {
     "data": {
      "application/vnd.jupyter.widget-view+json": {
       "model_id": "9660b261856c462284fa3ef728a4c9e8",
       "version_major": 2,
       "version_minor": 0
      },
      "text/plain": [
       "  0%|          | 0/2 [00:00<?, ?batch/s]"
      ]
     },
     "metadata": {},
     "output_type": "display_data"
    },
    {
     "name": "stdout",
     "output_type": "stream",
     "text": [
      "Epoch 192, Val Loss: 0.001088, Val R2: 0.998913\n"
     ]
    },
    {
     "data": {
      "application/vnd.jupyter.widget-view+json": {
       "model_id": "d4773440cf324a1f9aca0e25c8da9176",
       "version_major": 2,
       "version_minor": 0
      },
      "text/plain": [
       "  0%|          | 0/2 [00:00<?, ?batch/s]"
      ]
     },
     "metadata": {},
     "output_type": "display_data"
    },
    {
     "name": "stdout",
     "output_type": "stream",
     "text": [
      "Epoch 193, Val Loss: 0.001074, Val R2: 0.998928\n"
     ]
    },
    {
     "data": {
      "application/vnd.jupyter.widget-view+json": {
       "model_id": "6a9393af4c1b413ead2e8aadc0aac935",
       "version_major": 2,
       "version_minor": 0
      },
      "text/plain": [
       "  0%|          | 0/2 [00:00<?, ?batch/s]"
      ]
     },
     "metadata": {},
     "output_type": "display_data"
    },
    {
     "name": "stdout",
     "output_type": "stream",
     "text": [
      "Epoch 194, Val Loss: 0.001060, Val R2: 0.998942\n"
     ]
    },
    {
     "data": {
      "application/vnd.jupyter.widget-view+json": {
       "model_id": "cae3c44ddb17452b9261a785bb82b158",
       "version_major": 2,
       "version_minor": 0
      },
      "text/plain": [
       "  0%|          | 0/2 [00:00<?, ?batch/s]"
      ]
     },
     "metadata": {},
     "output_type": "display_data"
    },
    {
     "name": "stdout",
     "output_type": "stream",
     "text": [
      "Epoch 195, Val Loss: 0.001047, Val R2: 0.998955\n"
     ]
    },
    {
     "data": {
      "application/vnd.jupyter.widget-view+json": {
       "model_id": "ef57c7a6a62c47f68a7cf620744ef643",
       "version_major": 2,
       "version_minor": 0
      },
      "text/plain": [
       "  0%|          | 0/2 [00:00<?, ?batch/s]"
      ]
     },
     "metadata": {},
     "output_type": "display_data"
    },
    {
     "name": "stdout",
     "output_type": "stream",
     "text": [
      "Epoch 196, Val Loss: 0.001033, Val R2: 0.998969\n"
     ]
    },
    {
     "data": {
      "application/vnd.jupyter.widget-view+json": {
       "model_id": "1a6ee033a41b415183b3ff6717ce3f0b",
       "version_major": 2,
       "version_minor": 0
      },
      "text/plain": [
       "  0%|          | 0/2 [00:00<?, ?batch/s]"
      ]
     },
     "metadata": {},
     "output_type": "display_data"
    },
    {
     "name": "stdout",
     "output_type": "stream",
     "text": [
      "Epoch 197, Val Loss: 0.001020, Val R2: 0.998982\n"
     ]
    },
    {
     "data": {
      "application/vnd.jupyter.widget-view+json": {
       "model_id": "f8f5091f10dc4da3b5d6227f711afb51",
       "version_major": 2,
       "version_minor": 0
      },
      "text/plain": [
       "  0%|          | 0/2 [00:00<?, ?batch/s]"
      ]
     },
     "metadata": {},
     "output_type": "display_data"
    },
    {
     "name": "stdout",
     "output_type": "stream",
     "text": [
      "Epoch 198, Val Loss: 0.001007, Val R2: 0.998995\n"
     ]
    },
    {
     "data": {
      "application/vnd.jupyter.widget-view+json": {
       "model_id": "585a9575b408477286b91b41363d011c",
       "version_major": 2,
       "version_minor": 0
      },
      "text/plain": [
       "  0%|          | 0/2 [00:00<?, ?batch/s]"
      ]
     },
     "metadata": {},
     "output_type": "display_data"
    },
    {
     "name": "stdout",
     "output_type": "stream",
     "text": [
      "Epoch 199, Val Loss: 0.000995, Val R2: 0.999007\n",
      "Stopping: R2 score is high enough.\n",
      "Finished training at epoch 199 with best loss 0.000995 and R2 of 0.999007\n"
     ]
    },
    {
     "data": {
      "image/png": "[encoded data removed]",
      "text/plain": [
       "<Figure size 640x480 with 2 Axes>"
      ]
     },
     "metadata": {},
     "output_type": "display_data"
    }
   ],
   "source": [
    "save_path = 'STORAGE/AI_MODEL_1.5D_DIM4.pth'\n",
    "load = False\n",
    "dim = int(RandDeviationVect.getDimension())\n",
    "neural_model = otaf.surrogate.NeuralRegressorNetwork(\n",
    "    dim, 1,\n",
    "    Xtrain, ytrain[:,-1], \n",
    "    clamping=True, \n",
    "    finish_critertion_epoch=5,\n",
    "    loss_finish=1e-6, \n",
    "    metric_finish=0.999, \n",
    "    max_epochs=200, \n",
    "    batch_size=30000, \n",
    "    compile_model=False, \n",
    "    train_size=0.6, \n",
    "    save_path = save_path,\n",
    "    input_description=RandDeviationVect.getDescription(),\n",
    "    display_progress_disable=False)\n",
    "\n",
    "lr=0.003\n",
    "\n",
    "neural_model.model = otaf.surrogate.get_base_relu_mlp_model(dim, 1, False)\n",
    "\n",
    "neural_model.optimizer = otaf.torch.optim.AdamW(neural_model.parameters(), lr=lr, weight_decay=1e-4)\n",
    "otaf.surrogate.initialize_model_weights(neural_model)\n",
    "neural_model.scheduler =  otaf.torch.optim.lr_scheduler.ExponentialLR(neural_model.optimizer, 1.0001)\n",
    "neural_model.loss_fn = otaf.torch.nn.MSELoss()\n",
    "#neural_model.loss_fn = otaf.uncertainty.LimitSpaceFocusedLoss(0.0001, 2, square=True) # otaf.uncertainty.PositiveLimitSpaceFocusedLoss(0.0001, 2, 4, square=False)\n",
    "\n",
    "if os.path.exists(save_path) and load:\n",
    "    neural_model.load_model()\n",
    "else :\n",
    "    neural_model.train_model()\n",
    "    neural_model.plot_results()\n",
    "    neural_model.save_model()"
   ]
  },
  {
   "cell_type": "markdown",
   "id": "ab298a09-d49a-407f-a9f2-be3bee4558ff",
   "metadata": {},
   "source": [
    "- Clamping = True\n",
    "    - R2 with MSE = 0.989309\n",
    "    - R2 with LimitSpaceFocusedLoss(0.0001, 2, square=True) = 0.85885\n",
    "    - R2 with LimitSpaceFocusedLoss(0.0001, 2, square=False) = 0.772992\n",
    "    - R2 with LimitSpaceFocusedLoss(0.00001, 1.55, square=True) = 0.961802\n",
    "    - R2 with PositiveLimitSpaceFocusedLoss(0.00001, 1.55, 3, square=True)) = 0.909175\n",
    "\n",
    "- Clamping = False\n",
    "    - R2 with MSE = 0.967931\n",
    "    - R2 with LimitSpaceFocusedLoss(0.0001, 2, square=True) = 0.959862\n",
    "    - R2 with LimitSpaceFocusedLoss(0.0001, 2, square=False) = 0.892209\n",
    "    - R2 with LimitSpaceFocusedLoss(0.00001, 1.55, square=True) = 0.975688\n",
    "    - R2 with PositiveLimitSpaceFocusedLoss(0.00001, 1.55, 3, square=True)) = 0.859898\n",
    "    - R2 with PositiveLimitSpaceFocusedLoss(0.0001, 2, 4 square=False) =  0.897341"
   ]
  },
  {
   "cell_type": "code",
   "execution_count": 25,
   "id": "68dedf8b-e55c-4c7a-9c7c-a97c0273bde1",
   "metadata": {},
   "outputs": [],
   "source": [
    "def neural_model_size_param_optimizer_function(X, Xtrain=Xtrain, ytrain=ytrain):\n",
    "    # Function to use with scipy optimize to find best model shape.\n",
    "    neural_model = otaf.uncertainty.NeuralRegressorNetwork(\n",
    "        len(SOCAM.deviation_symbols), \n",
    "        Xtrain, ytrain, \n",
    "        clamping=False, \n",
    "        finish_critertion_epoch=150,\n",
    "        mse_finish_tol=1e-6, \n",
    "        grad_finish_tol=1e-3, \n",
    "        max_epochs=150, \n",
    "        batch_size=1000, \n",
    "        lr=0.0005,\n",
    "        compile_model=False, \n",
    "        train_size=0.5, \n",
    "        display_progress_disable=True)\n",
    "    #neural_model.init_model_relu()\n",
    "    neural_model.model = neural_model.construct_variable_size_sequential_linear_model(\n",
    "        relative_max_layer_size = X[0],\n",
    "        relative_max_layer_depth = X[1], \n",
    "        relative_layer_number = X[2]\n",
    "    )\n",
    "    #neural_model.loss_fn = otaf.uncertainty.LimitSpaceFocusedLoss(0.0001, 2, square=True)\n",
    "    #neural_model.loss_fn = otaf.uncertainty.PositiveLimitSpaceFocusedLoss(0.0001, 2, 4, square=False)\n",
    "    neural_model.weights_init_uniform_rule()\n",
    "    neural_model.init_optimizer()\n",
    "    neural_model.train()\n",
    "    R2 = neural_model.best_R2\n",
    "    return -1/(1-1*R2) # We want to maximize R2 (so minimize -R2)"
   ]
  },
  {
   "cell_type": "code",
   "execution_count": 26,
   "id": "5001fb6d-0a80-4a7f-81ef-74209678b915",
   "metadata": {
    "scrolled": true
   },
   "outputs": [],
   "source": [
    "def opt_callback(xk):\n",
    "    print(f\"Opt params are : {xk.round(4)}\")\n",
    "#neur_mini_res = minimize(\n",
    "#    neural_model_size_param_optimizer_function, \n",
    "#    [4.2314, 3/7, 2/5], \n",
    "#    (Xtrain, ytrain,), \n",
    "#    bounds=((2., 8.),(1/10, 9/10), (1/5, 2.)), \n",
    "#    callback=opt_callback,\n",
    "#    options={\"disp\":True, \"maxiter\":150, \"ftol\":1e-5,\"finite_diff_rel_step\":0.2, \"eps\":1e-1},  )\n",
    "\n",
    "if False :\n",
    "    neur_mini_res = differential_evolution(\n",
    "        neural_model_size_param_optimizer_function, \n",
    "        ((2., 8.),(1/10, 9/10), (1/5, 2.)),\n",
    "        (Xtrain, ytrain,),\n",
    "        x0 = [4.2314, 3/7, 2/5], #worst_5p_lambda[-4]**2,\n",
    "        disp=True,\n",
    "        init=\"latinhypercube\",\n",
    "        polish=False,\n",
    "        tol=0.1,\n",
    "        recombination=0.7,\n",
    "        maxiter=500,\n",
    "        strategy='best1bin')\n",
    "    display(neur_mini_res)"
   ]
  },
  {
   "cell_type": "markdown",
   "id": "096e5e05-147e-45c4-b453-baa4659c2033",
   "metadata": {},
   "source": [
    "# Calculating probability of failure in the whole imprecise space\n",
    "\n",
    "### Using the neural network surrogate model"
   ]
  },
  {
   "cell_type": "code",
   "execution_count": 42,
   "id": "45ddfb1b-8c99-4a8f-8fd1-68be727deb75",
   "metadata": {},
   "outputs": [
    {
     "name": "stdout",
     "output_type": "stream",
     "text": [
      "u_g_0, v_g_0, gamma_g_0, u_g_1, v_g_1, gamma_g_1, u_g_2, v_g_2, gamma_g_2, s\n",
      "\n",
      "\n",
      "u_d_1, gamma_d_1, u_d_2, gamma_d_2\n"
     ]
    }
   ],
   "source": [
    "# Let's first generate a classic LHS design of expezriment of size 16.\n",
    "D_lambd = len(SOCAM.deviation_symbols)\n",
    "lambda_vect_unconditioned = ot.ComposedDistribution([ot.Uniform(0, 1)] * D_lambd)\n",
    "lambda_vect_unconditioned.setDescription(list(map(str, SOCAM.deviation_symbols)))\n",
    "N_lambda = 800\n",
    "lambda_sample_unconditioned = otaf.uncertainty.generateLHSExperiment(lambda_vect_unconditioned ,N_lambda, 999)\n",
    "#lambda_sample_unconditioned = lambda_sample_unconditioned_generator.generate()\n",
    "lambda_sample_random = lambda_vect_unconditioned.getSample(N_lambda)\n",
    "lambda_sample_conditioned = otaf.uncertainty.condition_lambda_sample(lambda_sample_random, squared_sum=True)\n",
    "print(\", \".join(map(str, SOCAM.gap_symbols)))\n",
    "print(\"\\n\")\n",
    "print(\", \".join(map(str, SOCAM.deviation_symbols)))"
   ]
  },
  {
   "cell_type": "markdown",
   "id": "f9f83674-b162-4dbf-9274-e6302d4139ba",
   "metadata": {},
   "source": [
    "#### Calculating over surrogate model"
   ]
  },
  {
   "cell_type": "code",
   "execution_count": 44,
   "id": "f62de2ba-f4fa-4331-a21e-967edcd4745f",
   "metadata": {
    "scrolled": true
   },
   "outputs": [
    {
     "name": "stdout",
     "output_type": "stream",
     "text": [
      "Done 800 experiments.\n",
      "Elapsed time: 425.786 seconds.\n"
     ]
    }
   ],
   "source": [
    "bounds = None\n",
    "SIZE_MC_PF = int(1e7) #1e4\n",
    "failure_probabilities = []\n",
    "\n",
    "start_time = time()  # Record the start time\n",
    "for i in range(N_lambda):\n",
    "    print(f\"Doing iteration {i+1:03d} of {N_lambda}\")\n",
    "    if i>0:\n",
    "        print(f\"Failure probability {failure_probabilities[i-1]:.3E}, Min: {min(failure_probabilities):.3E}, / Max: {max(failure_probabilities):.3E}\")\n",
    "    composed_dist = otaf.uncertainty.multiply_composed_distribution_standard_with_constants(\n",
    "        RandDeviationVect, \n",
    "        lambda_sample_conditioned[i])\n",
    "    pf = neural_model.pf_monte_carlo_bruteforce(composed_dist,\n",
    "            N_MC_MAX=int(1e9),\n",
    "            N_GEN_MAX=int(1e7),\n",
    "            batch_size=1000000,\n",
    "            PF_STAB=1e-7,\n",
    "            threshold=0.0,)\n",
    "    failure_probabilities.append(pf)\n",
    "    clear_output(wait=True)\n",
    "print(f\"Done {len (lambda_sample_conditioned)} experiments.\")\n",
    "print(f\"Elapsed time: {time() - start_time:.3f} seconds.\")\n",
    "\n",
    "X = otaf.uncertainty.find_best_worst_quantile(np.array(lambda_sample_conditioned)**2, np.array(failure_probabilities), 0.1)\n",
    "(best_5p_lambda, best_5p_res), (worst_5p_lambda, worst_5p_res) = X"
   ]
  },
  {
   "cell_type": "code",
   "execution_count": 46,
   "id": "401b1212-94dd-4d9f-a61c-39a7049fe6c0",
   "metadata": {},
   "outputs": [
    {
     "data": {
      "text/plain": [
       "[<matplotlib.lines.Line2D at 0x7c260c5a3110>]"
      ]
     },
     "execution_count": 46,
     "metadata": {},
     "output_type": "execute_result"
    },
    {
     "data": {
      "image/png": "[encoded data removed]",
      "text/plain": [
       "<Figure size 640x480 with 1 Axes>"
      ]
     },
     "metadata": {},
     "output_type": "display_data"
    }
   ],
   "source": [
    "plt.plot((np.array(lambda_sample_conditioned)**2)[:,1], failure_probabilities, 'o')"
   ]
  },
  {
   "cell_type": "code",
   "execution_count": 47,
   "id": "4bcedb2e-fea2-4210-989a-94841821dfff",
   "metadata": {
    "tags": []
   },
   "outputs": [
    {
     "name": "stdout",
     "output_type": "stream",
     "text": [
      "Lower probability of failure: 0.2112 %\n",
      "Upper probability of failure: 0.3039 %\n"
     ]
    },
    {
     "data": {
      "image/png": "[encoded data removed]",
      "text/plain": [
       "<Figure size 640x480 with 1 Axes>"
      ]
     },
     "metadata": {},
     "output_type": "display_data"
    }
   ],
   "source": [
    "print(\"Lower probability of failure:\", round(min(failure_probabilities) * 100, 4), \"%\")\n",
    "print(\"Upper probability of failure:\", round(max(failure_probabilities) * 100, 4), \"%\")\n",
    "plt.hist(failure_probabilities)\n",
    "plt.show()"
   ]
  },
  {
   "cell_type": "code",
   "execution_count": 48,
   "id": "be254317-5223-4317-b8e0-a748486f3949",
   "metadata": {},
   "outputs": [
    {
     "data": {
      "image/png": "[encoded data removed]",
      "text/plain": [
       "<Figure size 1000x500 with 1 Axes>"
      ]
     },
     "metadata": {},
     "output_type": "display_data"
    },
    {
     "data": {
      "image/png": "[encoded data removed]",
      "text/plain": [
       "<Figure size 1000x500 with 1 Axes>"
      ]
     },
     "metadata": {},
     "output_type": "display_data"
    },
    {
     "data": {
      "image/png": "[encoded data removed]",
      "text/plain": [
       "<Figure size 1000x500 with 1 Axes>"
      ]
     },
     "metadata": {},
     "output_type": "display_data"
    }
   ],
   "source": [
    "otaf.plotting.plot_best_worst_results(best_5p_res, worst_5p_res, figsize=(10,5))\n",
    "\n",
    "variable_labels = [var for var in lambda_sample_conditioned.getDescription()]\n",
    "otaf.plotting.plot_best_worst_input_data(best_5p_lambda, worst_5p_lambda, variable_labels, figsize=(10,5), labels=False)"
   ]
  },
  {
   "cell_type": "markdown",
   "id": "761c7f57-91a3-4000-ab05-6cb5afbe0064",
   "metadata": {},
   "source": [
    "# Using the score function aproach on the neural surrogate."
   ]
  },
  {
   "cell_type": "code",
   "execution_count": null,
   "id": "dfdf5214-1c5a-43bc-a607-6ab124db205b",
   "metadata": {},
   "outputs": [],
   "source": [
    "N_SAMPLE_MINI = int(1e6)\n",
    "standards = [RandDeviationVect.getParameter()[i] for i , param in enumerate(RandDeviationVect.getParameterDescription()) if \"sigma\" in param] \n",
    "means = [RandDeviationVect.getParameter()[i] for i , param in enumerate(RandDeviationVect.getParameterDescription()) if \"mu\" in param] \n",
    "sample = np.array(RandDeviationVect.getSample(N_SAMPLE_MINI))\n",
    "threshold = 0 \n",
    "def model(x):\n",
    "    return np.squeeze(neural_model.evaluate_model_non_standard_space(x).detach().numpy())\n",
    "\n",
    "def optimization_function_maxi(x): \n",
    "    res = otaf.uncertainty.monte_carlo_non_compliancy_rate_w_gradient(\n",
    "        threshold, sample, means, standards, model)(x)\n",
    "    return res[0], res[1]\n",
    "\n",
    "def optimization_function_mini(x): \n",
    "    res = otaf.uncertainty.monte_carlo_non_compliancy_rate_w_gradient(\n",
    "        threshold, sample, means, standards, model)(x)\n",
    "    return -1*res[0], -1*res[1]\n"
   ]
  },
  {
   "cell_type": "code",
   "execution_count": null,
   "id": "f940bc15-44a0-4ab1-9b95-18f0fa61931b",
   "metadata": {},
   "outputs": [],
   "source": [
    "cons, linearConstraint = otaf.uncertainty.lambda_constraint_dict_from_composed_distribution(RandDeviationVect)\n",
    "bounds_lambda = otaf.uncertainty.bounds_from_composed_distribution(RandDeviationVect)"
   ]
  },
  {
   "cell_type": "code",
   "execution_count": null,
   "id": "a228e623-ce98-4589-b3e3-996c25517075",
   "metadata": {},
   "outputs": [],
   "source": [
    "\n"
   ]
  },
  {
   "cell_type": "code",
   "execution_count": null,
   "id": "0dfa5eaf-e4fb-4ffd-a7fa-1d93dffe3f40",
   "metadata": {},
   "outputs": [],
   "source": [
    "optimization_function_maxi([0,1, 0, 1876])"
   ]
  },
  {
   "cell_type": "code",
   "execution_count": null,
   "id": "7a76a2d7-cb8a-4d21-894f-5bc2a9269d53",
   "metadata": {},
   "outputs": [],
   "source": [
    "res = minimize(optimization_function_maxi,[1,1,1,1], \n",
    "         jac=True, method=\"SLSQP\", \n",
    "         options={\"disp\":True, \"maxiter\":100, \"ftol\":1e-9},      \n",
    "         bounds=bounds_lambda, constraints=cons, callback=print_callback)\n",
    "\n",
    "display(res)"
   ]
  },
  {
   "cell_type": "code",
   "execution_count": null,
   "id": "14d774ec-59d0-48ae-946f-cea29695d017",
   "metadata": {},
   "outputs": [],
   "source": [
    "res = minimize(optimization_function_mini,[0.8,0.2,0.8,0.2], \n",
    "         jac=True, method=\"SLSQP\", \n",
    "         options={\"disp\":True, \"maxiter\":100, \"ftol\":1e-8,\"finite_diff_rel_step\":0.1, \"eps\":1e-6},\n",
    "         bounds=bounds_lambda, constraints=cons, callback=print_callback)\n",
    "\n",
    "display(res)"
   ]
  },
  {
   "cell_type": "code",
   "execution_count": null,
   "id": "605ddf9e-4269-4d26-a622-f9948900ae47",
   "metadata": {},
   "outputs": [],
   "source": []
  },
  {
   "cell_type": "code",
   "execution_count": null,
   "id": "c480cf14-7688-4b0d-9174-a3f2b2a0ea24",
   "metadata": {},
   "outputs": [],
   "source": []
  },
  {
   "cell_type": "code",
   "execution_count": null,
   "id": "7bc70228-f6d0-4f8a-abe9-85aa0bea0e86",
   "metadata": {},
   "outputs": [],
   "source": []
  }
 ],
 "metadata": {
  "kernelspec": {
   "display_name": "Python 3 (ipykernel)",
   "language": "python",
   "name": "python3"
  },
  "language_info": {
   "codemirror_mode": {
    "name": "ipython",
    "version": 3
   },
   "file_extension": ".py",
   "mimetype": "text/x-python",
   "name": "python",
   "nbconvert_exporter": "python",
   "pygments_lexer": "ipython3",
   "version": "3.13.0"
  }
 },
 "nbformat": 4,
 "nbformat_minor": 5
}
