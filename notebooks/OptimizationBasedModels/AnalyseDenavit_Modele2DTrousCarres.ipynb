{
 "cells": [
  {
   "cell_type": "code",
   "execution_count": 1,
   "id": "d9f8bea9",
   "metadata": {
    "tags": []
   },
   "outputs": [],
   "source": [
    "from importlib import reload\n",
    "from IPython.display import display\n",
    "import re\n",
    "from pprint import pprint\n",
    "import pickle\n",
    "from time import time\n",
    "from joblib import Parallel, delayed\n",
    "import openturns as ot\n",
    "import numpy as np\n",
    "import matplotlib.pyplot as plt\n",
    "from scipy.optimize import linprog\n",
    "import sympy\n",
    "from sympy import simplify\n",
    "\n",
    "import iota\n",
    "\n",
    "ar = np.array"
   ]
  },
  {
   "cell_type": "markdown",
   "id": "5a46e0f5",
   "metadata": {
    "tags": []
   },
   "source": [
    "# **Dans ce Notebook, on analysera le système simple hyperstatique 2D en utlisant la méthode basée sur une représentation matricielle du mécanisme**\n",
    "\n",
    "### On doit d'abord définir les différentes matrices de notre chaine.\n",
    "Avec les classes définies dans ```matrix_construction_assembly```, l'on peut facilement définir nos matrices à partir de quelques informations élémentaires sur notre système. \n",
    "Nous avons trois types de matrices de transformations. \n",
    "\n",
    "Les matrices T :\n",
    " - Elles représentent les transformations internes aux pièces nominales. Pour leur construction, on nécessite un point de départ et d'arrivée, et un repère de départ et d'arrivée. Les repères sont définis dans un repère global. \n",
    " \n",
    " "
   ]
  },
  {
   "cell_type": "markdown",
   "id": "b6f6a44b-7c46-4362-8511-105ed5f4ccbe",
   "metadata": {
    "tags": []
   },
   "source": [
    "#### **Définition des grandeurs nominales de la pièce**"
   ]
  },
  {
   "cell_type": "code",
   "execution_count": 2,
   "id": "dc8105ce-8679-49c9-afbe-4833cf886309",
   "metadata": {
    "tags": []
   },
   "outputs": [],
   "source": [
    "hM = 10  # hauteur male\n",
    "hF = 10.2  # hauteur femelle\n",
    "L1 = 30\n",
    "L2 = 70\n",
    "L3 = L1\n",
    "lM = 10  # largeur male\n",
    "lF = 10.2  # largeur femelle"
   ]
  },
  {
   "cell_type": "markdown",
   "id": "6745eac1-1b9f-494d-887b-80d1e188b783",
   "metadata": {},
   "source": [
    "#### **Définition du repère global R0 / qui est aussi un repère local de la pièce fixe.**"
   ]
  },
  {
   "cell_type": "markdown",
   "id": "fb8e351d-939c-4ddb-9a0d-fb3632b29f23",
   "metadata": {},
   "source": [
    "#### **Définisson les coordonnées des points charactéristiques de chaque surface de chaque pièce.**"
   ]
  },
  {
   "cell_type": "code",
   "execution_count": 3,
   "id": "77bb19e8-77b9-49cc-a6a7-d8fd4434a68d",
   "metadata": {
    "tags": []
   },
   "outputs": [],
   "source": [
    "# Pièce 1 (male)\n",
    "P1A0, P1A1, P1A2 = (\n",
    "    ar((L1 - lM / 2, hM / 2, 0.0)),\n",
    "    ar((L1 - lM / 2, 0, 0.0)),\n",
    "    ar((L1 - lM / 2, hM, 0.0)),\n",
    ")\n",
    "P1B0, P1B1, P1B2 = (\n",
    "    ar((L1 + lM / 2, hM / 2, 0.0)),\n",
    "    ar((L1 + lM / 2, 0, 0.0)),\n",
    "    ar((L1 + lM / 2, hM, 0.0)),\n",
    ")\n",
    "P1C0, P1C1, P1C2 = (\n",
    "    ar((L1 + L2 - lM / 2, hM / 2, 0.0)),\n",
    "    ar((L1 + L2 - lM / 2, 0, 0.0)),\n",
    "    ar((L1 + L2 - lM / 2, hM, 0.0)),\n",
    ")\n",
    "P1D0, P1D1, P1D2 = (\n",
    "    ar((L1 + L2 + lM / 2, hM / 2, 0.0)),\n",
    "    ar((L1 + L2 + lM / 2, 0, 0.0)),\n",
    "    ar((L1 + L2 + lM / 2, hM, 0.0)),\n",
    ")\n",
    "P1E0, P1E1 = ar((0.0, 0.0, 0.0)), ar((L1 + L2 + L3, 0.0, 0.0))\n",
    "\n",
    "# Pièce 2 (femelle)  # On met les points à hM et pas hF pour qu'ils soient bien oposées! (Besoin??)\n",
    "P2A0, P2A1, P2A2 = (\n",
    "    ar((L1 - lF / 2, hF / 2, 0.0)),\n",
    "    ar((L1 - lF / 2, 0, 0.0)),\n",
    "    ar((L1 - lF / 2, hF, 0.0)),\n",
    ")\n",
    "P2B0, P2B1, P2B2 = (\n",
    "    ar((L1 + lF / 2, hF / 2, 0.0)),\n",
    "    ar((L1 + lF / 2, 0, 0.0)),\n",
    "    ar((L1 + lF / 2, hF, 0.0)),\n",
    ")\n",
    "P2C0, P2C1, P2C2 = (\n",
    "    ar((L1 + L2 - lF / 2, hF / 2, 0.0)),\n",
    "    ar((L1 + L2 - lF / 2, 0, 0.0)),\n",
    "    ar((L1 + L2 - lF / 2, hF, 0.0)),\n",
    ")\n",
    "P2D0, P2D1, P2D2 = (\n",
    "    ar((L1 + L2 + lF / 2, hF / 2, 0.0)),\n",
    "    ar((L1 + L2 + lF / 2, 0, 0.0)),\n",
    "    ar((L1 + L2 + lF / 2, hF, 0.0)),\n",
    ")\n",
    "P2E0, P2E1 = ar((0.0, 0.0, 0.0)), ar((L1 + L2 + L3, 0.0, 0.0))"
   ]
  },
  {
   "cell_type": "markdown",
   "id": "cb74715c-f16f-4ea0-9e76-d3cff5be052f",
   "metadata": {},
   "source": [
    "#### **Définisson les repères locaux de chaque surface substituée.**"
   ]
  },
  {
   "cell_type": "code",
   "execution_count": 4,
   "id": "ad07825c-1660-4418-b0ef-7a7f6b4b4c25",
   "metadata": {
    "tags": []
   },
   "outputs": [],
   "source": [
    "R0 = ar([[1, 0, 0], [0, 1, 0], [0, 0, 1]])\n",
    "x_, y_, z_ = R0[0], R0[1], R0[2]\n",
    "\n",
    "# Pièce1\n",
    "RP1b = RP1d = R0\n",
    "RP1a = RP1c = ar([-x_, -y_, z_]).T\n",
    "RP1e = ar([y_, -x_, z_]).T\n",
    "\n",
    "# Pièce2\n",
    "RP2a = RP2c = R0\n",
    "RP2b = RP2d = ar([-x_, -y_, z_]).T\n",
    "RP2e = ar([-y_, x_, z_]).T"
   ]
  },
  {
   "cell_type": "markdown",
   "id": "7a2158da-633e-4839-9540-591cfe109fee",
   "metadata": {},
   "source": [
    "#### **Maintenant construisons les matrices de transformation pour passer du repère global aux repères locaux (et de définition des matrices de déviation et Jeu! )**\n",
    "- tfrt : transformation from rotation translation"
   ]
  },
  {
   "cell_type": "code",
   "execution_count": 5,
   "id": "ece01a2e",
   "metadata": {},
   "outputs": [],
   "source": [
    "TP1cC0, TP1cC1, TP1cC2 = (\n",
    "    iota.tfrt(RP1c, P1C0),\n",
    "    iota.tfrt(RP1c, P1C1),\n",
    "    iota.tfrt(RP1c, P1C2),\n",
    ")\n",
    "TP1aA0, TP1aA1, TP1aA2 = (\n",
    "    iota.tfrt(RP1a, P1A0),\n",
    "    iota.tfrt(RP1a, P1A1),\n",
    "    iota.tfrt(RP1a, P1A2),\n",
    ")\n",
    "TP1bB0, TP1bB1, TP1bB2 = (\n",
    "    iota.tfrt(RP1b, P1B0),\n",
    "    iota.tfrt(RP1b, P1B1),\n",
    "    iota.tfrt(RP1b, P1B2),\n",
    ")\n",
    "TP1dD0, TP1dD1, TP1dD2 = (\n",
    "    iota.tfrt(RP1d, P1D0),\n",
    "    iota.tfrt(RP1d, P1D1),\n",
    "    iota.tfrt(RP1d, P1D2),\n",
    ")\n",
    "TP1eE0, TP1eE1 = iota.tfrt(RP1e, P1E0), iota.tfrt(RP1e, P1E1)\n",
    "TP2aA0, TP2aA1, TP2aA2 = (\n",
    "    iota.tfrt(RP2a, P2A0),\n",
    "    iota.tfrt(RP2a, P2A1),\n",
    "    iota.tfrt(RP2a, P2A2),\n",
    ")\n",
    "TP2cC0, TP2cC1, TP2cC2 = (\n",
    "    iota.tfrt(RP2c, P2C0),\n",
    "    iota.tfrt(RP2c, P2C1),\n",
    "    iota.tfrt(RP2c, P2C2),\n",
    ")\n",
    "TP2bB0, TP2bB1, TP2bB2 = (\n",
    "    iota.tfrt(RP2b, P2B0),\n",
    "    iota.tfrt(RP2b, P2B1),\n",
    "    iota.tfrt(RP2b, P2B2),\n",
    ")\n",
    "TP2dD0, TP2dD1, TP2dD2 = (\n",
    "    iota.tfrt(RP2d, P2D0),\n",
    "    iota.tfrt(RP2d, P2D1),\n",
    "    iota.tfrt(RP2d, P2D2),\n",
    ")\n",
    "TP2eE0, TP2eE1 = iota.tfrt(RP2e, P2E0), iota.tfrt(RP2e, P2E1)"
   ]
  },
  {
   "cell_type": "code",
   "execution_count": 6,
   "id": "101fb45a-dd74-48df-bb19-1df4d3adc3fe",
   "metadata": {
    "tags": []
   },
   "outputs": [],
   "source": [
    "TMD = {}\n",
    "TMD[\"T2e2a\"] = iota.TransformationMatrix(initial=TP2eE0, final=TP2aA0)\n",
    "TMD[\"T1a1e\"] = iota.TransformationMatrix(initial=TP1aA0, final=TP1eE0)\n",
    "TMD[\"T2e2d\"] = iota.TransformationMatrix(initial=TP2eE0, final=TP2dD0)\n",
    "TMD[\"T1d1e\"] = iota.TransformationMatrix(initial=TP1dD0, final=TP1eE0)\n",
    "TMD[\"T2c2b\"] = iota.TransformationMatrix(initial=TP2cC0, final=TP2bB0)\n",
    "TMD[\"T1b1c\"] = iota.TransformationMatrix(initial=TP1bB0, final=TP1cC0)\n",
    "TMD[\"T2b2a\"] = iota.TransformationMatrix(initial=TP2bB0, final=TP2aA0)\n",
    "TMD[\"T1a1b\"] = iota.TransformationMatrix(initial=TP1aA0, final=TP1bB0)\n",
    "\n",
    "TMD[\"TP1eE1eE0\"] = iota.TransformationMatrix(initial=TP1eE1, final=TP1eE0)\n",
    "TMD[\"TP2eE0eE1\"] = iota.TransformationMatrix(initial=TP2eE0, final=TP2eE1)\n",
    "\n",
    "TMD[\"TP2aA1aA0\"] = iota.TransformationMatrix(initial=TP2aA1, final=TP2aA0)\n",
    "TMD[\"TP1aA0aA1\"] = iota.TransformationMatrix(initial=TP1aA0, final=TP1aA1)\n",
    "TMD[\"TP2aA2aA0\"] = iota.TransformationMatrix(initial=TP2aA2, final=TP2aA0)\n",
    "TMD[\"TP1aA0aA2\"] = iota.TransformationMatrix(initial=TP1aA0, final=TP1aA2)\n",
    "\n",
    "TMD[\"TP2bB1bB0\"] = iota.TransformationMatrix(initial=TP2bB1, final=TP2bB0)\n",
    "TMD[\"TP1bB0bB1\"] = iota.TransformationMatrix(initial=TP1bB0, final=TP1bB1)\n",
    "TMD[\"TP2bB2bB0\"] = iota.TransformationMatrix(initial=TP2bB2, final=TP2bB0)\n",
    "TMD[\"TP1bB0bB2\"] = iota.TransformationMatrix(initial=TP1bB0, final=TP1bB2)\n",
    "\n",
    "TMD[\"TP2cC1cC0\"] = iota.TransformationMatrix(initial=TP2cC1, final=TP2cC0)\n",
    "TMD[\"TP1cC0cC1\"] = iota.TransformationMatrix(initial=TP1cC0, final=TP1cC1)\n",
    "TMD[\"TP2cC2cC0\"] = iota.TransformationMatrix(initial=TP2cC2, final=TP2cC0)\n",
    "TMD[\"TP1cC0cC2\"] = iota.TransformationMatrix(initial=TP1cC0, final=TP1cC2)\n",
    "\n",
    "TMD[\"TP2dD1dD0\"] = iota.TransformationMatrix(initial=TP2dD1, final=TP2dD0)\n",
    "TMD[\"TP1dD0dD1\"] = iota.TransformationMatrix(initial=TP1dD0, final=TP1dD1)\n",
    "TMD[\"TP2dD2dD0\"] = iota.TransformationMatrix(initial=TP2dD2, final=TP2dD0)\n",
    "TMD[\"TP1dD0dD2\"] = iota.TransformationMatrix(initial=TP1dD0, final=TP1dD2)"
   ]
  },
  {
   "cell_type": "code",
   "execution_count": 7,
   "id": "e3c25621-7b6c-4639-86c3-e2a151931925",
   "metadata": {},
   "outputs": [],
   "source": [
    "# Deviation matrix with no defects\n",
    "I4, J4 = iota.I4(), iota.J4()\n",
    "DI4 = iota.DeviationMatrix(index=-1, translations=\"\", rotations=\"\")  # Pas de défauts"
   ]
  },
  {
   "cell_type": "markdown",
   "id": "8af8e7d3",
   "metadata": {},
   "source": [
    "_d\",\n",
    "                      \"VARIABLE_G\": \"u_## **Construisons maintenant les suites de matrices pour calculer les équations de compatibilité**\n",
    "\n",
    "    - Pour calculer les matrices de transformation entre deux repères locaux, nous devons nous servir des matrices de transformation entre le repère global et les locaux\n",
    "    - Pour définir les matrices de jeu (gap), il nous faut préciser les degrés de liberté qui sont bloqués.\n",
    "    - Pour définir les matrices de défaut (deviation), il nous faut préciser les degrés de liberté de du défaut (déduit du type de surface) \n",
    "   \n",
    "En rappel, le schema du modèle 1.5D avec les notations. \n",
    "![schema](../SCHEMAS/Juin01/SchemaModele2DMethodeTorseurs.png)\n",
    "\n",
    "Données longueurs:\n",
    "\n",
    "    - hM = 10 #hauteur male\n",
    "    - hF = 10.2 #hauteur femelle\n",
    "    - L1 = 30 \n",
    "    - L2 = 70\n",
    "    - lM = 10 #largeur male\n",
    "    - lF = 10.2 #largeur femelle\n",
    "\n",
    "\n",
    "Pour ce système nous avons besoin de 4 \"boucles de côtes\" LO:\n",
    " \n",
    "    - 1e -> 2e -> 2a -> 1a\n",
    "    - 1e -> 2e -> 2d -> 1d\n",
    "    - 1c -> 2c -> 2b -> 1b\n",
    "    - 1b -> 2b -> 2a -> 1a\n",
    "\n",
    "\n",
    "Nous allons utiliser une \"case\" par chaine. \n",
    "\n",
    "#### Hypothèses : \n",
    "\n",
    "- Le problème est 2D, et la normale globale du problème l'axe Z.\n",
    "    - Pas de translations hors plan : Tz     = 0 \n",
    "    - Pas de rotations hors plan :    Rx, Ry = 0\n",
    "- Il n'y a pas de défauts sur la surface e, et le contact entre les deux pièces parfait.  \n",
    "- Les erreurs de type plan, dans leur repère local, n'admettent que 3 degrés de liberté (2 en 2D ici): Tx, Rz\n",
    "- Les jeux entre les surfaces e vont avoir tout les degrés de liberté bloqués, sauf Ty \n",
    "- Les jeux entre les surfaces *a*, *b*, *c* et *d* vont avoir tout de bloqués, sauf Tx, Rz"
   ]
  },
  {
   "cell_type": "markdown",
   "id": "70a0f16d-fd3d-41c3-8d82-c883a55a5c4a",
   "metadata": {},
   "source": [
    "## Définition des matrices de transformation, jeu et défaut et construction des boucles représentant les équations de compatibilité. "
   ]
  },
  {
   "cell_type": "code",
   "execution_count": 8,
   "id": "ba191ee5-b31b-4994-baaf-6d2bb5158563",
   "metadata": {},
   "outputs": [],
   "source": [
    "expr_compa_l = []"
   ]
  },
  {
   "cell_type": "code",
   "execution_count": 9,
   "id": "73246e3a",
   "metadata": {},
   "outputs": [
    {
     "data": {
      "text/latex": [
       "$\\displaystyle \\left[\\begin{matrix}1 & - \\gamma_{d 0} + \\gamma_{d 1} - \\gamma_{g 1} & 0 & - 25 \\gamma_{d 0} + 25 \\gamma_{d 1} - 25 \\gamma_{g 1} + v_{g 1} + \\frac{1}{10}\\\\\\gamma_{d 0} - \\gamma_{d 1} + \\gamma_{g 1} & 1 & 0 & - 5 \\gamma_{d 0} + 5 \\gamma_{d 1} - 5 \\gamma_{g 1} - u_{d 0} - u_{d 1} - u_{g 1} + v_{g 0} + \\frac{1}{10}\\\\0 & 0 & 1 & 0\\\\0 & 0 & 0 & 1\\end{matrix}\\right]$"
      ],
      "text/plain": [
       "Matrix([\n",
       "[                                1, -gamma_d_0 + gamma_d_1 - gamma_g_1, 0,                      -25*gamma_d_0 + 25*gamma_d_1 - 25*gamma_g_1 + v_g_1 + 1/10],\n",
       "[gamma_d_0 - gamma_d_1 + gamma_g_1,                                  1, 0, -5*gamma_d_0 + 5*gamma_d_1 - 5*gamma_g_1 - u_d_0 - u_d_1 - u_g_1 + v_g_0 + 1/10],\n",
       "[                                0,                                  0, 1,                                                                               0],\n",
       "[                                0,                                  0, 0,                                                                               1]])"
      ]
     },
     "execution_count": 9,
     "metadata": {},
     "output_type": "execute_result"
    }
   ],
   "source": [
    "# Commencons par la boucle 1. Dans la définition du dessus, les jeux et erreurs manquent.\n",
    "# Boucle 1 : 1e -> 2e -> 2a -> 1a\n",
    "# Définissons les matrices :\n",
    "D1e1e = Di2e2e = DI4\n",
    "GP1eE0P2eE0 = iota.GapMatrix(\n",
    "    index=0, translations_blocked=\"zx\", rotations_blocked=\"xyz\"\n",
    ")  ## GAP 0 GP1eE0P2eE0\n",
    "D2a2a = iota.DeviationMatrix(index=0, translations=\"x\", rotations=\"z\")  # Erreur plan\n",
    "GP2aA0P1aA0 = iota.GapMatrix(\n",
    "    index=1, translations_blocked=\"z\", rotations_blocked=\"xy\"\n",
    ")  ## GAP 1 GP2aA0P1aA0\n",
    "Di1a1a = iota.DeviationMatrix(index=1, translations=\"x\", rotations=\"z\", inverse=True)\n",
    "\n",
    "expr_compa_l.append(\n",
    "    iota.FirstOrderMatrixExpansion(\n",
    "        [\n",
    "            D1e1e,\n",
    "            GP1eE0P2eE0,\n",
    "            J4,\n",
    "            Di2e2e,\n",
    "            TMD[\"T2e2a\"],\n",
    "            D2a2a,\n",
    "            GP2aA0P1aA0,\n",
    "            J4,\n",
    "            Di1a1a,\n",
    "            TMD[\"T1a1e\"],\n",
    "        ]\n",
    "    ).compute_first_order_expansion()\n",
    ")\n",
    "expr_compa_l[0]"
   ]
  },
  {
   "cell_type": "code",
   "execution_count": 10,
   "id": "99ff31fa",
   "metadata": {},
   "outputs": [
    {
     "data": {
      "text/latex": [
       "$\\displaystyle \\left[\\begin{matrix}1 & - \\gamma_{d 2} + \\gamma_{d 3} - \\gamma_{g 2} & 0 & - 105 \\gamma_{d 2} + 105 \\gamma_{d 3} - 105 \\gamma_{g 2} - v_{g 2} + \\frac{1}{10}\\\\\\gamma_{d 2} - \\gamma_{d 3} + \\gamma_{g 2} & 1 & 0 & - 5 \\gamma_{d 2} + 5 \\gamma_{d 3} - 5 \\gamma_{g 2} + u_{d 2} + u_{d 3} + u_{g 2} + v_{g 0} - \\frac{1}{10}\\\\0 & 0 & 1 & 0\\\\0 & 0 & 0 & 1\\end{matrix}\\right]$"
      ],
      "text/plain": [
       "Matrix([\n",
       "[                                1, -gamma_d_2 + gamma_d_3 - gamma_g_2, 0,                   -105*gamma_d_2 + 105*gamma_d_3 - 105*gamma_g_2 - v_g_2 + 1/10],\n",
       "[gamma_d_2 - gamma_d_3 + gamma_g_2,                                  1, 0, -5*gamma_d_2 + 5*gamma_d_3 - 5*gamma_g_2 + u_d_2 + u_d_3 + u_g_2 + v_g_0 - 1/10],\n",
       "[                                0,                                  0, 1,                                                                               0],\n",
       "[                                0,                                  0, 0,                                                                               1]])"
      ]
     },
     "execution_count": 10,
     "metadata": {},
     "output_type": "execute_result"
    }
   ],
   "source": [
    "# Boucle 2 : 1e -> 2e -> 2d -> 1d\n",
    "# D1e1e, G1e2e, D2e2e already defined\n",
    "\n",
    "D2d2d = iota.DeviationMatrix(index=2, translations=\"x\", rotations=\"z\")  # Erreur plan\n",
    "GP2dD0P1dD0 = iota.GapMatrix(\n",
    "    index=2, translations_blocked=\"z\", rotations_blocked=\"xy\"\n",
    ")  ## GAP 2 GP2dD0P1dD0\n",
    "Di1d1d = iota.DeviationMatrix(index=3, translations=\"x\", rotations=\"z\", inverse=True)\n",
    "\n",
    "expr_compa_l.append(\n",
    "    iota.FirstOrderMatrixExpansion(\n",
    "        [\n",
    "            D1e1e,\n",
    "            GP1eE0P2eE0,\n",
    "            J4,\n",
    "            Di2e2e,\n",
    "            TMD[\"T2e2d\"],\n",
    "            D2d2d,\n",
    "            GP2dD0P1dD0,\n",
    "            J4,\n",
    "            Di1d1d,\n",
    "            TMD[\"T1d1e\"],\n",
    "        ]\n",
    "    ).compute_first_order_expansion()\n",
    ")\n",
    "expr_compa_l[1]"
   ]
  },
  {
   "cell_type": "code",
   "execution_count": 11,
   "id": "4ee26b70",
   "metadata": {},
   "outputs": [
    {
     "data": {
      "text/latex": [
       "$\\displaystyle \\left[\\begin{matrix}1 & - \\gamma_{d 4} + \\gamma_{d 5} - \\gamma_{d 6} + \\gamma_{d 7} - \\gamma_{g 3} - \\gamma_{g 4} & 0 & u_{d 4} + u_{d 5} + u_{d 6} + u_{d 7} + u_{g 3} + u_{g 4} - \\frac{1}{5}\\\\\\gamma_{d 4} - \\gamma_{d 5} + \\gamma_{d 6} - \\gamma_{d 7} + \\gamma_{g 3} + \\gamma_{g 4} & 1 & 0 & - \\frac{\\gamma_{d 4}}{5} + \\frac{\\gamma_{d 5}}{5} - 60 \\gamma_{d 6} + 60 \\gamma_{d 7} - \\frac{\\gamma_{g 3}}{5} - 60 \\gamma_{g 4} + v_{g 3} + v_{g 4}\\\\0 & 0 & 1 & 0\\\\0 & 0 & 0 & 1\\end{matrix}\\right]$"
      ],
      "text/plain": [
       "Matrix([\n",
       "[                                                                    1, -gamma_d_4 + gamma_d_5 - gamma_d_6 + gamma_d_7 - gamma_g_3 - gamma_g_4, 0,                                                   u_d_4 + u_d_5 + u_d_6 + u_d_7 + u_g_3 + u_g_4 - 1/5],\n",
       "[gamma_d_4 - gamma_d_5 + gamma_d_6 - gamma_d_7 + gamma_g_3 + gamma_g_4,                                                                      1, 0, -gamma_d_4/5 + gamma_d_5/5 - 60*gamma_d_6 + 60*gamma_d_7 - gamma_g_3/5 - 60*gamma_g_4 + v_g_3 + v_g_4],\n",
       "[                                                                    0,                                                                      0, 1,                                                                                                     0],\n",
       "[                                                                    0,                                                                      0, 0,                                                                                                     1]])"
      ]
     },
     "execution_count": 11,
     "metadata": {},
     "output_type": "execute_result"
    }
   ],
   "source": [
    "# Boucle 3 : 1c -> 2c -> 2b -> 1b\n",
    "D1c1c = iota.DeviationMatrix(index=4, translations=\"x\", rotations=\"z\")  # Erreur plan\n",
    "GP1cC0P2cC0 = iota.GapMatrix(\n",
    "    index=3, translations_blocked=\"z\", rotations_blocked=\"xy\"\n",
    ")  ### GAP 3 GP1cC0P2cC0\n",
    "Di2c2c = iota.DeviationMatrix(index=5, translations=\"x\", rotations=\"z\", inverse=True)\n",
    "\n",
    "D2b2b = iota.DeviationMatrix(index=6, translations=\"x\", rotations=\"z\")  # Erreur plan\n",
    "GP2bB0P1bB0 = iota.GapMatrix(\n",
    "    index=4, translations_blocked=\"z\", rotations_blocked=\"xy\"\n",
    ")  ### GAP 4 GP2bB0P1bB0\n",
    "Di1b1b = iota.DeviationMatrix(index=7, translations=\"x\", rotations=\"z\", inverse=True)\n",
    "\n",
    "expr_compa_l.append(\n",
    "    iota.FirstOrderMatrixExpansion(\n",
    "        [\n",
    "            D1c1c,\n",
    "            GP1cC0P2cC0,\n",
    "            J4,\n",
    "            Di2c2c,\n",
    "            TMD[\"T2c2b\"],\n",
    "            D2b2b,\n",
    "            GP2bB0P1bB0,\n",
    "            J4,\n",
    "            Di1b1b,\n",
    "            TMD[\"T1b1c\"],\n",
    "        ]\n",
    "    ).compute_first_order_expansion()\n",
    ")\n",
    "expr_compa_l[2]"
   ]
  },
  {
   "cell_type": "code",
   "execution_count": 12,
   "id": "e772366a",
   "metadata": {},
   "outputs": [
    {
     "data": {
      "text/latex": [
       "$\\displaystyle \\left[\\begin{matrix}1 & - \\gamma_{d 0} + \\gamma_{d 1} + \\gamma_{d 6} - \\gamma_{d 7} - \\gamma_{g 1} + \\gamma_{g 4} & 0 & u_{d 0} + u_{d 1} + u_{d 6} + u_{d 7} + u_{g 1} + u_{g 4} - \\frac{1}{5}\\\\\\gamma_{d 0} - \\gamma_{d 1} - \\gamma_{d 6} + \\gamma_{d 7} + \\gamma_{g 1} - \\gamma_{g 4} & 1 & 0 & 10 \\gamma_{d 0} - 10 \\gamma_{d 1} + \\frac{\\gamma_{d 6}}{5} - \\frac{\\gamma_{d 7}}{5} + 10 \\gamma_{g 1} + \\frac{\\gamma_{g 4}}{5} + v_{g 1} + v_{g 4}\\\\0 & 0 & 1 & 0\\\\0 & 0 & 0 & 1\\end{matrix}\\right]$"
      ],
      "text/plain": [
       "Matrix([\n",
       "[                                                                    1, -gamma_d_0 + gamma_d_1 + gamma_d_6 - gamma_d_7 - gamma_g_1 + gamma_g_4, 0,                                                  u_d_0 + u_d_1 + u_d_6 + u_d_7 + u_g_1 + u_g_4 - 1/5],\n",
       "[gamma_d_0 - gamma_d_1 - gamma_d_6 + gamma_d_7 + gamma_g_1 - gamma_g_4,                                                                      1, 0, 10*gamma_d_0 - 10*gamma_d_1 + gamma_d_6/5 - gamma_d_7/5 + 10*gamma_g_1 + gamma_g_4/5 + v_g_1 + v_g_4],\n",
       "[                                                                    0,                                                                      0, 1,                                                                                                    0],\n",
       "[                                                                    0,                                                                      0, 0,                                                                                                    1]])"
      ]
     },
     "execution_count": 12,
     "metadata": {},
     "output_type": "execute_result"
    }
   ],
   "source": [
    "# Boucle 4 : 1b -> 2b -> 2a -> 1a\n",
    "D1b1b = Di1b1b.get_inverse()\n",
    "GP1bB0P2bB0 = GP2bB0P1bB0.get_inverse()  # INVERT J4 !!!\n",
    "Di2b2b = D2b2b.get_inverse()\n",
    "\n",
    "expr_compa_l.append(\n",
    "    iota.FirstOrderMatrixExpansion(\n",
    "        [\n",
    "            D1b1b,\n",
    "            J4,\n",
    "            GP1bB0P2bB0,\n",
    "            Di2b2b,\n",
    "            TMD[\"T2b2a\"],\n",
    "            D2a2a,\n",
    "            GP2aA0P1aA0,\n",
    "            J4,\n",
    "            Di1a1a,\n",
    "            TMD[\"T1a1b\"],\n",
    "        ]\n",
    "    ).compute_first_order_expansion()\n",
    ")\n",
    "expr_compa_l[3]"
   ]
  },
  {
   "cell_type": "code",
   "execution_count": 13,
   "id": "29c77be0",
   "metadata": {},
   "outputs": [],
   "source": [
    "compatibility_expressions = [\n",
    "    x for expr_f in expr_compa_l for x in iota.get_relevant_expressions(expr_f)\n",
    "]"
   ]
  },
  {
   "cell_type": "code",
   "execution_count": 14,
   "id": "9cb2888d",
   "metadata": {},
   "outputs": [
    {
     "name": "stdout",
     "output_type": "stream",
     "text": [
      "[u_d_0, gamma_d_0, u_d_1, gamma_d_1, u_d_2, gamma_d_2, u_d_3, gamma_d_3, u_d_4, gamma_d_4, u_d_5, gamma_d_5, u_d_6, gamma_d_6, u_d_7, gamma_d_7]\n",
      "[v_g_0, u_g_1, v_g_1, gamma_g_1, u_g_2, v_g_2, gamma_g_2, u_g_3, v_g_3, gamma_g_3, u_g_4, v_g_4, gamma_g_4]\n"
     ]
    }
   ],
   "source": [
    "symbols_deviation, symbols_gap = iota.get_symbols_in_expressions(\n",
    "    compatibility_expressions\n",
    ")\n",
    "print(symbols_deviation)\n",
    "print(symbols_gap)"
   ]
  },
  {
   "cell_type": "markdown",
   "id": "dd6bd471",
   "metadata": {},
   "source": [
    "The free symbols we have above are all the free variables from our compatibility expressions. For our system, only the variables with *_g* (representing the play) have to be used. The deviations varialbes (with *_d*) will be fixed. \n",
    "\n",
    "For this we will use a function that for a given set of fixed deviations returns us the linear system to resolve. "
   ]
  },
  {
   "cell_type": "markdown",
   "id": "bd1a5762",
   "metadata": {},
   "source": [
    "## Définition et expression des contraintes d'interface\n",
    "\n",
    "Pour caractériser la non interpénétration de matière entre deux surfaces, Il nous faut définir des contraintes d'interface.\n",
    "\n",
    "Ces contraintes d'interface ne vont pas introduire de nouvelles variables, mais résulter de l'expressions des jeux à de nouveaux points. \n",
    "\n",
    "Pour l'instant nous travaillons seulement avec des surfaces planes parfaitement alignées.\n",
    "\n",
    "Une contrainte d'inégalitée entre le jeu définit au nouveau point doit être introduite, signifiant la positivitée du jeu. \n",
    "\n",
    "Comme nous sommes en 2D, pour chaque paire de surface en contact nous allons introduire 2 contraintes d'interface. Donc 8 équations au total. \n",
    "Pour la surface **a** les nouveaux points sont **A1** et **A2**, pour **b** **B1** et **B2** etc. \n",
    "\n",
    "L'idée est de réexprimer le jeu aux points charactéristiques des surfaces, en se basant sur le jeu qui a déja été éxprimé en leur centre pour les équations de compatibilité. Ensuite on applique une contraite de positivité sur certaines composantes de ce vecteur jeu. "
   ]
  },
  {
   "cell_type": "code",
   "execution_count": 15,
   "id": "ea73a1c3-4723-4e87-ae62-495a77157bba",
   "metadata": {},
   "outputs": [],
   "source": [
    "expr_inter_l = []"
   ]
  },
  {
   "cell_type": "code",
   "execution_count": 16,
   "id": "63a07a5c",
   "metadata": {},
   "outputs": [
    {
     "data": {
      "text/latex": [
       "$\\displaystyle 5 \\gamma_{g 1} + u_{g 1}$"
      ],
      "text/plain": [
       "5*gamma_g_1 + u_g_1"
      ]
     },
     "execution_count": 16,
     "metadata": {},
     "output_type": "execute_result"
    }
   ],
   "source": [
    "# C'est le vecteur translation du jeu projeté sur la normale de la surface dont ilest issu qui doit être positif.\n",
    "# Contrainte d'interface 0 :\n",
    "# GP2aA1P1aA1 = TP2aA1aA0 J4 GP2aA0P1aA0 TP1aA0aA1 J4 # J1b\n",
    "\n",
    "expr_inter_l.append(\n",
    "    iota.FirstOrderMatrixExpansion(\n",
    "        [TMD[\"TP2aA1aA0\"], GP2aA0P1aA0, J4, TMD[\"TP1aA0aA1\"], J4]\n",
    "    ).compute_first_order_expansion()\n",
    ")\n",
    "expr_inter_l[0][0, 3]"
   ]
  },
  {
   "cell_type": "code",
   "execution_count": 17,
   "id": "93a37a78",
   "metadata": {},
   "outputs": [
    {
     "data": {
      "text/latex": [
       "$\\displaystyle - 5 \\gamma_{g 1} + u_{g 1}$"
      ],
      "text/plain": [
       "-5*gamma_g_1 + u_g_1"
      ]
     },
     "execution_count": 17,
     "metadata": {},
     "output_type": "execute_result"
    }
   ],
   "source": [
    "# Contrainte d'interface 1 :\n",
    "# GP2aA2P1aA2 = TP2aA2aA0 J4 GP2aA0P1aA0 TP1aA0aA2 J4 # J1h\n",
    "\n",
    "expr_inter_l.append(\n",
    "    iota.FirstOrderMatrixExpansion(\n",
    "        [TMD[\"TP2aA2aA0\"], GP2aA0P1aA0, J4, TMD[\"TP1aA0aA2\"], J4]\n",
    "    ).compute_first_order_expansion()\n",
    ")\n",
    "expr_inter_l[1][0, 3]"
   ]
  },
  {
   "cell_type": "code",
   "execution_count": 18,
   "id": "ba41ff09",
   "metadata": {},
   "outputs": [
    {
     "data": {
      "text/latex": [
       "$\\displaystyle - 5 \\gamma_{g 4} + u_{g 4}$"
      ],
      "text/plain": [
       "-5*gamma_g_4 + u_g_4"
      ]
     },
     "execution_count": 18,
     "metadata": {},
     "output_type": "execute_result"
    }
   ],
   "source": [
    "# Contrainte d'interface 2:\n",
    "# GP2bB1P1bB1 = TP2bB1bB0 J4 GP2bB0P1bB0 TP1bB0bB1 J4  # J2b\n",
    "\n",
    "expr_inter_l.append(\n",
    "    iota.FirstOrderMatrixExpansion(\n",
    "        [TMD[\"TP2bB1bB0\"], GP2bB0P1bB0, J4, TMD[\"TP1bB0bB1\"], J4]\n",
    "    ).compute_first_order_expansion()\n",
    ")\n",
    "expr_inter_l[2][0, 3]"
   ]
  },
  {
   "cell_type": "code",
   "execution_count": 19,
   "id": "df5c561d",
   "metadata": {},
   "outputs": [
    {
     "data": {
      "text/latex": [
       "$\\displaystyle 5 \\gamma_{g 4} + u_{g 4}$"
      ],
      "text/plain": [
       "5*gamma_g_4 + u_g_4"
      ]
     },
     "execution_count": 19,
     "metadata": {},
     "output_type": "execute_result"
    }
   ],
   "source": [
    "# Contrainte d'interface 3 :\n",
    "# GP2bB2P1bB2 = TP2bB2bB0 J4 GP2bB0P1bB0 TP1bB0bB2 # J2h\n",
    "\n",
    "expr_inter_l.append(\n",
    "    iota.FirstOrderMatrixExpansion(\n",
    "        [TMD[\"TP2bB2bB0\"], GP2bB0P1bB0, J4, TMD[\"TP1bB0bB2\"], J4]\n",
    "    ).compute_first_order_expansion()\n",
    ")\n",
    "expr_inter_l[3][0, 3]"
   ]
  },
  {
   "cell_type": "code",
   "execution_count": 20,
   "id": "73f36d54",
   "metadata": {},
   "outputs": [
    {
     "data": {
      "text/latex": [
       "$\\displaystyle - 5 \\gamma_{g 3} + u_{g 3}$"
      ],
      "text/plain": [
       "-5*gamma_g_3 + u_g_3"
      ]
     },
     "execution_count": 20,
     "metadata": {},
     "output_type": "execute_result"
    }
   ],
   "source": [
    "# Contrainte d'interface 4 :\n",
    "# GP2cC1P1cC1 = TP2cC1cC0 J4 GP2cC0P1cC0 TP1cC0cC1 J4 # J3b\n",
    "GP2cC0P1cC0 = GP1cC0P2cC0.get_inverse()\n",
    "\n",
    "expr_inter_l.append(\n",
    "    iota.FirstOrderMatrixExpansion(\n",
    "        [TMD[\"TP2cC1cC0\"], J4, GP2cC0P1cC0, TMD[\"TP1cC0cC1\"], J4]\n",
    "    ).compute_first_order_expansion()\n",
    ")\n",
    "expr_inter_l[4][0, 3]"
   ]
  },
  {
   "cell_type": "code",
   "execution_count": 21,
   "id": "0e16da74-fba8-45be-bb00-20b27e104b46",
   "metadata": {},
   "outputs": [
    {
     "data": {
      "text/latex": [
       "$\\displaystyle \\left[\\begin{matrix}1 & - \\gamma_{g 3} & 0 & - \\frac{51 \\gamma_{g 3}}{10} + u_{g 3}\\\\\\gamma_{g 3} & 1 & 0 & v_{g 3} + \\frac{1}{10}\\\\0 & 0 & 1 & 0\\\\0 & 0 & 0 & 1\\end{matrix}\\right]$"
      ],
      "text/plain": [
       "Matrix([\n",
       "[        1, -gamma_g_3, 0, -51*gamma_g_3/10 + u_g_3],\n",
       "[gamma_g_3,          1, 0,             v_g_3 + 1/10],\n",
       "[        0,          0, 1,                        0],\n",
       "[        0,          0, 0,                        1]])"
      ]
     },
     "execution_count": 21,
     "metadata": {},
     "output_type": "execute_result"
    }
   ],
   "source": [
    "# Contrainte d'interface 4 :\n",
    "# GP2cC1P1cC1 = TP2cC1cC0 J4 GP2cC0P1cC0 TP1cC0cC1 J4 # J3b\n",
    "\n",
    "iota.FirstOrderMatrixExpansion(\n",
    "    [TMD[\"TP1cC0cC1\"].get_inverse(), GP1cC0P2cC0, J4, TMD[\"TP2cC1cC0\"].get_inverse(), J4]\n",
    ").compute_first_order_expansion()\n"
   ]
  },
  {
   "cell_type": "code",
   "execution_count": 22,
   "id": "c8d3b437-97e2-4546-8321-7d7ea7f2e3c0",
   "metadata": {},
   "outputs": [
    {
     "data": {
      "text/plain": [
       "TransformationMatrix with index -1 and values:\n",
       "Matrix([\n",
       "[1.0,   0,   0,   0],\n",
       "[  0, 1.0,   0, 5.1],\n",
       "[  0,   0, 1.0,   0],\n",
       "[  0,   0,   0, 1.0]]) and name : "
      ]
     },
     "execution_count": 22,
     "metadata": {},
     "output_type": "execute_result"
    }
   ],
   "source": [
    "TMD[\"TP2cC1cC0\"]"
   ]
  },
  {
   "cell_type": "code",
   "execution_count": 23,
   "id": "890fc093-9fb1-433e-a64b-62d356acd57f",
   "metadata": {},
   "outputs": [
    {
     "data": {
      "text/plain": [
       "TransformationMatrix with index -1 and values:\n",
       "Matrix([\n",
       "[1.0,   0,   0,   0],\n",
       "[  0, 1.0,   0, 5.0],\n",
       "[  0,   0, 1.0,   0],\n",
       "[  0,   0,   0, 1.0]]) and name : "
      ]
     },
     "execution_count": 23,
     "metadata": {},
     "output_type": "execute_result"
    }
   ],
   "source": [
    "TMD[\"TP1cC0cC1\"]"
   ]
  },
  {
   "cell_type": "code",
   "execution_count": 24,
   "id": "b6758849",
   "metadata": {},
   "outputs": [
    {
     "data": {
      "text/latex": [
       "$\\displaystyle 5 \\gamma_{g 3} + u_{g 3}$"
      ],
      "text/plain": [
       "5*gamma_g_3 + u_g_3"
      ]
     },
     "execution_count": 24,
     "metadata": {},
     "output_type": "execute_result"
    }
   ],
   "source": [
    "# Contrainte d'interface 5 :\n",
    "# GP2cC2P1cC2 = TP2cC2cC0 J4 GP2cC0P1cC0 TP1cC0cC2 J4 # J3h\n",
    "\n",
    "expr_inter_l.append(\n",
    "    iota.FirstOrderMatrixExpansion(\n",
    "        [TMD[\"TP2cC2cC0\"], J4, GP2cC0P1cC0, TMD[\"TP1cC0cC2\"], J4]\n",
    "    ).compute_first_order_expansion()\n",
    ")\n",
    "expr_inter_l[5][0, 3]"
   ]
  },
  {
   "cell_type": "code",
   "execution_count": 25,
   "id": "c67540cd",
   "metadata": {},
   "outputs": [
    {
     "data": {
      "text/latex": [
       "$\\displaystyle - 5 \\gamma_{g 2} + u_{g 2}$"
      ],
      "text/plain": [
       "-5*gamma_g_2 + u_g_2"
      ]
     },
     "execution_count": 25,
     "metadata": {},
     "output_type": "execute_result"
    }
   ],
   "source": [
    "# Contrainte d'interface 6 :\n",
    "# GP2dD1P1dD1 = TP2dD1dD0 J4 GP2dD0P1dD0 TP1dD0dD1 J4 # J4b\n",
    "\n",
    "expr_inter_l.append(\n",
    "    iota.FirstOrderMatrixExpansion(\n",
    "        [TMD[\"TP2dD1dD0\"], GP2dD0P1dD0, J4, TMD[\"TP1dD0dD1\"], J4]\n",
    "    ).compute_first_order_expansion()\n",
    ")\n",
    "expr_inter_l[6][0, 3]"
   ]
  },
  {
   "cell_type": "code",
   "execution_count": 26,
   "id": "771e236a",
   "metadata": {},
   "outputs": [
    {
     "data": {
      "text/latex": [
       "$\\displaystyle 5 \\gamma_{g 2} + u_{g 2}$"
      ],
      "text/plain": [
       "5*gamma_g_2 + u_g_2"
      ]
     },
     "execution_count": 26,
     "metadata": {},
     "output_type": "execute_result"
    }
   ],
   "source": [
    "# Contrainte d'interface 7 :\n",
    "# GP2dD2P1dD2 = TP2dD2dD0 J4 GP2dD0P1dD0 TP1dD0dD2 J4 # J4h\n",
    "\n",
    "expr_inter_l.append(\n",
    "    iota.FirstOrderMatrixExpansion(\n",
    "        [TMD[\"TP2dD2dD0\"], GP2dD0P1dD0, J4, TMD[\"TP1dD0dD2\"], J4]\n",
    "    ).compute_first_order_expansion()\n",
    ")\n",
    "expr_inter_l[7][0, 3]"
   ]
  },
  {
   "cell_type": "code",
   "execution_count": 27,
   "id": "d2d7e098-316d-465f-b787-b42d34f5b623",
   "metadata": {},
   "outputs": [
    {
     "data": {
      "text/latex": [
       "$\\displaystyle 0$"
      ],
      "text/plain": [
       "0"
      ]
     },
     "execution_count": 27,
     "metadata": {},
     "output_type": "execute_result"
    }
   ],
   "source": [
    "# Contrainte d'interface 8 :\n",
    "# GP1eE1P2eE1 = TP1eE1eE0 J4 GP1eE0P2eE0 TP2eE0eE1 J4\n",
    "\n",
    "expr_inter_l.append(\n",
    "    iota.FirstOrderMatrixExpansion(\n",
    "        [TMD[\"TP1eE1eE0\"], GP1eE0P2eE0, J4, TMD[\"TP2eE0eE1\"], J4]\n",
    "    ).compute_first_order_expansion()\n",
    ")\n",
    "expr_inter_l[8][0, 3]"
   ]
  },
  {
   "cell_type": "code",
   "execution_count": 28,
   "id": "7d974e45-6aa3-4bd9-b7b3-b22a0fd99099",
   "metadata": {},
   "outputs": [
    {
     "data": {
      "text/latex": [
       "$\\displaystyle \\left[\\begin{matrix}1 & - \\gamma_{g 1} & 0 & 5 \\gamma_{g 1} + u_{g 1}\\\\\\gamma_{g 1} & 1 & 0 & v_{g 1} + \\frac{1}{10}\\\\0 & 0 & 1 & 0\\\\0 & 0 & 0 & 1\\end{matrix}\\right]$"
      ],
      "text/plain": [
       "Matrix([\n",
       "[        1, -gamma_g_1, 0, 5*gamma_g_1 + u_g_1],\n",
       "[gamma_g_1,          1, 0,        v_g_1 + 1/10],\n",
       "[        0,          0, 1,                   0],\n",
       "[        0,          0, 0,                   1]])"
      ]
     },
     "metadata": {},
     "output_type": "display_data"
    },
    {
     "data": {
      "text/latex": [
       "$\\displaystyle \\left[\\begin{matrix}1 & - \\gamma_{g 1} & 0 & - 5 \\gamma_{g 1} + u_{g 1}\\\\\\gamma_{g 1} & 1 & 0 & v_{g 1} - \\frac{1}{10}\\\\0 & 0 & 1 & 0\\\\0 & 0 & 0 & 1\\end{matrix}\\right]$"
      ],
      "text/plain": [
       "Matrix([\n",
       "[        1, -gamma_g_1, 0, -5*gamma_g_1 + u_g_1],\n",
       "[gamma_g_1,          1, 0,         v_g_1 - 1/10],\n",
       "[        0,          0, 1,                    0],\n",
       "[        0,          0, 0,                    1]])"
      ]
     },
     "metadata": {},
     "output_type": "display_data"
    },
    {
     "data": {
      "text/latex": [
       "$\\displaystyle \\left[\\begin{matrix}1 & - \\gamma_{g 4} & 0 & - 5 \\gamma_{g 4} + u_{g 4}\\\\\\gamma_{g 4} & 1 & 0 & v_{g 4} - \\frac{1}{10}\\\\0 & 0 & 1 & 0\\\\0 & 0 & 0 & 1\\end{matrix}\\right]$"
      ],
      "text/plain": [
       "Matrix([\n",
       "[        1, -gamma_g_4, 0, -5*gamma_g_4 + u_g_4],\n",
       "[gamma_g_4,          1, 0,         v_g_4 - 1/10],\n",
       "[        0,          0, 1,                    0],\n",
       "[        0,          0, 0,                    1]])"
      ]
     },
     "metadata": {},
     "output_type": "display_data"
    },
    {
     "data": {
      "text/latex": [
       "$\\displaystyle \\left[\\begin{matrix}1 & - \\gamma_{g 4} & 0 & 5 \\gamma_{g 4} + u_{g 4}\\\\\\gamma_{g 4} & 1 & 0 & v_{g 4} + \\frac{1}{10}\\\\0 & 0 & 1 & 0\\\\0 & 0 & 0 & 1\\end{matrix}\\right]$"
      ],
      "text/plain": [
       "Matrix([\n",
       "[        1, -gamma_g_4, 0, 5*gamma_g_4 + u_g_4],\n",
       "[gamma_g_4,          1, 0,        v_g_4 + 1/10],\n",
       "[        0,          0, 1,                   0],\n",
       "[        0,          0, 0,                   1]])"
      ]
     },
     "metadata": {},
     "output_type": "display_data"
    },
    {
     "data": {
      "text/latex": [
       "$\\displaystyle \\left[\\begin{matrix}1 & \\gamma_{g 3} & 0 & - 5 \\gamma_{g 3} + u_{g 3}\\\\- \\gamma_{g 3} & 1 & 0 & v_{g 3} + \\frac{1}{10}\\\\0 & 0 & 1 & 0\\\\0 & 0 & 0 & 1\\end{matrix}\\right]$"
      ],
      "text/plain": [
       "Matrix([\n",
       "[         1, gamma_g_3, 0, -5*gamma_g_3 + u_g_3],\n",
       "[-gamma_g_3,         1, 0,         v_g_3 + 1/10],\n",
       "[         0,         0, 1,                    0],\n",
       "[         0,         0, 0,                    1]])"
      ]
     },
     "metadata": {},
     "output_type": "display_data"
    },
    {
     "data": {
      "text/latex": [
       "$\\displaystyle \\left[\\begin{matrix}1 & \\gamma_{g 3} & 0 & 5 \\gamma_{g 3} + u_{g 3}\\\\- \\gamma_{g 3} & 1 & 0 & v_{g 3} - \\frac{1}{10}\\\\0 & 0 & 1 & 0\\\\0 & 0 & 0 & 1\\end{matrix}\\right]$"
      ],
      "text/plain": [
       "Matrix([\n",
       "[         1, gamma_g_3, 0, 5*gamma_g_3 + u_g_3],\n",
       "[-gamma_g_3,         1, 0,        v_g_3 - 1/10],\n",
       "[         0,         0, 1,                   0],\n",
       "[         0,         0, 0,                   1]])"
      ]
     },
     "metadata": {},
     "output_type": "display_data"
    },
    {
     "data": {
      "text/latex": [
       "$\\displaystyle \\left[\\begin{matrix}1 & - \\gamma_{g 2} & 0 & - 5 \\gamma_{g 2} + u_{g 2}\\\\\\gamma_{g 2} & 1 & 0 & v_{g 2} - \\frac{1}{10}\\\\0 & 0 & 1 & 0\\\\0 & 0 & 0 & 1\\end{matrix}\\right]$"
      ],
      "text/plain": [
       "Matrix([\n",
       "[        1, -gamma_g_2, 0, -5*gamma_g_2 + u_g_2],\n",
       "[gamma_g_2,          1, 0,         v_g_2 - 1/10],\n",
       "[        0,          0, 1,                    0],\n",
       "[        0,          0, 0,                    1]])"
      ]
     },
     "metadata": {},
     "output_type": "display_data"
    },
    {
     "data": {
      "text/latex": [
       "$\\displaystyle \\left[\\begin{matrix}1 & - \\gamma_{g 2} & 0 & 5 \\gamma_{g 2} + u_{g 2}\\\\\\gamma_{g 2} & 1 & 0 & v_{g 2} + \\frac{1}{10}\\\\0 & 0 & 1 & 0\\\\0 & 0 & 0 & 1\\end{matrix}\\right]$"
      ],
      "text/plain": [
       "Matrix([\n",
       "[        1, -gamma_g_2, 0, 5*gamma_g_2 + u_g_2],\n",
       "[gamma_g_2,          1, 0,        v_g_2 + 1/10],\n",
       "[        0,          0, 1,                   0],\n",
       "[        0,          0, 0,                   1]])"
      ]
     },
     "metadata": {},
     "output_type": "display_data"
    },
    {
     "data": {
      "text/latex": [
       "$\\displaystyle \\left[\\begin{matrix}1 & 0 & 0 & 0\\\\0 & 1 & 0 & v_{g 0}\\\\0 & 0 & 1 & 0\\\\0 & 0 & 0 & 1\\end{matrix}\\right]$"
      ],
      "text/plain": [
       "Matrix([\n",
       "[1, 0, 0,     0],\n",
       "[0, 1, 0, v_g_0],\n",
       "[0, 0, 1,     0],\n",
       "[0, 0, 0,     1]])"
      ]
     },
     "metadata": {},
     "output_type": "display_data"
    }
   ],
   "source": [
    "for thing in expr_inter_l:\n",
    "    display(thing)"
   ]
  },
  {
   "cell_type": "markdown",
   "id": "c55494e0",
   "metadata": {},
   "source": [
    "Maintenant que nous avons toutes les expressions des Contrainte d'interface sous forme de matrice de transformation, nous avons plus qu'a garder ce qui nous intéresse, c'ezst à dire la composante de translation selon x (la meme pour tous les jeux). "
   ]
  },
  {
   "cell_type": "code",
   "execution_count": 29,
   "id": "e24798d3",
   "metadata": {},
   "outputs": [],
   "source": [
    "mask_matrix = sympy.Matrix(\n",
    "    np.array([[0, 0, 0, 1], [0, 0, 0, 0], [0, 0, 0, 0], [0, 0, 0, 0]])\n",
    ")\n",
    "expr_inter_l = [expa_f.multiply_elementwise(mask_matrix) for expa_f in expr_inter_l]\n",
    "interface_constraints = [\n",
    "    x for expr_f in expr_inter_l for x in iota.get_relevant_expressions(expr_f)\n",
    "]"
   ]
  },
  {
   "cell_type": "code",
   "execution_count": 30,
   "id": "279f903c-665e-4b34-a002-a05d40883d49",
   "metadata": {
    "tags": []
   },
   "outputs": [
    {
     "name": "stdout",
     "output_type": "stream",
     "text": [
      "### Compatibility equations : ###\n"
     ]
    },
    {
     "data": {
      "text/latex": [
       "$\\displaystyle - \\gamma_{d 0} + \\gamma_{d 1} - \\gamma_{g 1}$"
      ],
      "text/plain": [
       "-gamma_d_0 + gamma_d_1 - gamma_g_1"
      ]
     },
     "metadata": {},
     "output_type": "display_data"
    },
    {
     "data": {
      "text/latex": [
       "$\\displaystyle - 25 \\gamma_{d 0} + 25 \\gamma_{d 1} - 25 \\gamma_{g 1} + v_{g 1} + \\frac{1}{10}$"
      ],
      "text/plain": [
       "-25*gamma_d_0 + 25*gamma_d_1 - 25*gamma_g_1 + v_g_1 + 1/10"
      ]
     },
     "metadata": {},
     "output_type": "display_data"
    },
    {
     "data": {
      "text/latex": [
       "$\\displaystyle - 5 \\gamma_{d 0} + 5 \\gamma_{d 1} - 5 \\gamma_{g 1} - u_{d 0} - u_{d 1} - u_{g 1} + v_{g 0} + \\frac{1}{10}$"
      ],
      "text/plain": [
       "-5*gamma_d_0 + 5*gamma_d_1 - 5*gamma_g_1 - u_d_0 - u_d_1 - u_g_1 + v_g_0 + 1/10"
      ]
     },
     "metadata": {},
     "output_type": "display_data"
    },
    {
     "data": {
      "text/latex": [
       "$\\displaystyle - \\gamma_{d 2} + \\gamma_{d 3} - \\gamma_{g 2}$"
      ],
      "text/plain": [
       "-gamma_d_2 + gamma_d_3 - gamma_g_2"
      ]
     },
     "metadata": {},
     "output_type": "display_data"
    },
    {
     "data": {
      "text/latex": [
       "$\\displaystyle - 105 \\gamma_{d 2} + 105 \\gamma_{d 3} - 105 \\gamma_{g 2} - v_{g 2} + \\frac{1}{10}$"
      ],
      "text/plain": [
       "-105*gamma_d_2 + 105*gamma_d_3 - 105*gamma_g_2 - v_g_2 + 1/10"
      ]
     },
     "metadata": {},
     "output_type": "display_data"
    },
    {
     "data": {
      "text/latex": [
       "$\\displaystyle - 5 \\gamma_{d 2} + 5 \\gamma_{d 3} - 5 \\gamma_{g 2} + u_{d 2} + u_{d 3} + u_{g 2} + v_{g 0} - \\frac{1}{10}$"
      ],
      "text/plain": [
       "-5*gamma_d_2 + 5*gamma_d_3 - 5*gamma_g_2 + u_d_2 + u_d_3 + u_g_2 + v_g_0 - 1/10"
      ]
     },
     "metadata": {},
     "output_type": "display_data"
    },
    {
     "data": {
      "text/latex": [
       "$\\displaystyle - \\gamma_{d 4} + \\gamma_{d 5} - \\gamma_{d 6} + \\gamma_{d 7} - \\gamma_{g 3} - \\gamma_{g 4}$"
      ],
      "text/plain": [
       "-gamma_d_4 + gamma_d_5 - gamma_d_6 + gamma_d_7 - gamma_g_3 - gamma_g_4"
      ]
     },
     "metadata": {},
     "output_type": "display_data"
    },
    {
     "data": {
      "text/latex": [
       "$\\displaystyle u_{d 4} + u_{d 5} + u_{d 6} + u_{d 7} + u_{g 3} + u_{g 4} - \\frac{1}{5}$"
      ],
      "text/plain": [
       "u_d_4 + u_d_5 + u_d_6 + u_d_7 + u_g_3 + u_g_4 - 1/5"
      ]
     },
     "metadata": {},
     "output_type": "display_data"
    },
    {
     "data": {
      "text/latex": [
       "$\\displaystyle - \\frac{\\gamma_{d 4}}{5} + \\frac{\\gamma_{d 5}}{5} - 60 \\gamma_{d 6} + 60 \\gamma_{d 7} - \\frac{\\gamma_{g 3}}{5} - 60 \\gamma_{g 4} + v_{g 3} + v_{g 4}$"
      ],
      "text/plain": [
       "-gamma_d_4/5 + gamma_d_5/5 - 60*gamma_d_6 + 60*gamma_d_7 - gamma_g_3/5 - 60*gamma_g_4 + v_g_3 + v_g_4"
      ]
     },
     "metadata": {},
     "output_type": "display_data"
    },
    {
     "data": {
      "text/latex": [
       "$\\displaystyle - \\gamma_{d 0} + \\gamma_{d 1} + \\gamma_{d 6} - \\gamma_{d 7} - \\gamma_{g 1} + \\gamma_{g 4}$"
      ],
      "text/plain": [
       "-gamma_d_0 + gamma_d_1 + gamma_d_6 - gamma_d_7 - gamma_g_1 + gamma_g_4"
      ]
     },
     "metadata": {},
     "output_type": "display_data"
    },
    {
     "data": {
      "text/latex": [
       "$\\displaystyle u_{d 0} + u_{d 1} + u_{d 6} + u_{d 7} + u_{g 1} + u_{g 4} - \\frac{1}{5}$"
      ],
      "text/plain": [
       "u_d_0 + u_d_1 + u_d_6 + u_d_7 + u_g_1 + u_g_4 - 1/5"
      ]
     },
     "metadata": {},
     "output_type": "display_data"
    },
    {
     "data": {
      "text/latex": [
       "$\\displaystyle 10 \\gamma_{d 0} - 10 \\gamma_{d 1} + \\frac{\\gamma_{d 6}}{5} - \\frac{\\gamma_{d 7}}{5} + 10 \\gamma_{g 1} + \\frac{\\gamma_{g 4}}{5} + v_{g 1} + v_{g 4}$"
      ],
      "text/plain": [
       "10*gamma_d_0 - 10*gamma_d_1 + gamma_d_6/5 - gamma_d_7/5 + 10*gamma_g_1 + gamma_g_4/5 + v_g_1 + v_g_4"
      ]
     },
     "metadata": {},
     "output_type": "display_data"
    },
    {
     "name": "stdout",
     "output_type": "stream",
     "text": [
      "\n",
      "### Interface equations : ###\n"
     ]
    },
    {
     "data": {
      "text/latex": [
       "$\\displaystyle 5 \\gamma_{g 1} + u_{g 1}$"
      ],
      "text/plain": [
       "5*gamma_g_1 + u_g_1"
      ]
     },
     "metadata": {},
     "output_type": "display_data"
    },
    {
     "data": {
      "text/latex": [
       "$\\displaystyle - 5 \\gamma_{g 1} + u_{g 1}$"
      ],
      "text/plain": [
       "-5*gamma_g_1 + u_g_1"
      ]
     },
     "metadata": {},
     "output_type": "display_data"
    },
    {
     "data": {
      "text/latex": [
       "$\\displaystyle - 5 \\gamma_{g 4} + u_{g 4}$"
      ],
      "text/plain": [
       "-5*gamma_g_4 + u_g_4"
      ]
     },
     "metadata": {},
     "output_type": "display_data"
    },
    {
     "data": {
      "text/latex": [
       "$\\displaystyle 5 \\gamma_{g 4} + u_{g 4}$"
      ],
      "text/plain": [
       "5*gamma_g_4 + u_g_4"
      ]
     },
     "metadata": {},
     "output_type": "display_data"
    },
    {
     "data": {
      "text/latex": [
       "$\\displaystyle - 5 \\gamma_{g 3} + u_{g 3}$"
      ],
      "text/plain": [
       "-5*gamma_g_3 + u_g_3"
      ]
     },
     "metadata": {},
     "output_type": "display_data"
    },
    {
     "data": {
      "text/latex": [
       "$\\displaystyle 5 \\gamma_{g 3} + u_{g 3}$"
      ],
      "text/plain": [
       "5*gamma_g_3 + u_g_3"
      ]
     },
     "metadata": {},
     "output_type": "display_data"
    },
    {
     "data": {
      "text/latex": [
       "$\\displaystyle - 5 \\gamma_{g 2} + u_{g 2}$"
      ],
      "text/plain": [
       "-5*gamma_g_2 + u_g_2"
      ]
     },
     "metadata": {},
     "output_type": "display_data"
    },
    {
     "data": {
      "text/latex": [
       "$\\displaystyle 5 \\gamma_{g 2} + u_{g 2}$"
      ],
      "text/plain": [
       "5*gamma_g_2 + u_g_2"
      ]
     },
     "metadata": {},
     "output_type": "display_data"
    }
   ],
   "source": [
    "print(\"### Compatibility equations : ###\")\n",
    "for i in range(len(compatibility_expressions)):\n",
    "    display(simplify(compatibility_expressions[i]))\n",
    "\n",
    "print(\"\\n### Interface equations : ###\")\n",
    "for i in range(len(interface_constraints)):\n",
    "    display(interface_constraints[i])"
   ]
  },
  {
   "cell_type": "markdown",
   "id": "ea2ddfd0",
   "metadata": {},
   "source": [
    "## Construction du système d'équations linéaires\n",
    "\n",
    "\n",
    "Maintenant que nous avons les équations de compatibilité et les contraintes d'interface, nous devons créer une fonction qui, a partir d'un ensemble de défauts fixés nous renvoie un système sympy à résoudre. Plus exactement, il devra nous rennoyer les différentes matrices qui serviroint à initialiser le système. \n",
    "\n",
    "\n",
    "L'on peut essayer de créer une fonction qui prend en entrée les équations de compatibilité et fonctionelles, et nous renvoie une fonction qui peut prendre les défauts en entrée et qui renvoie les matrices du système."
   ]
  },
  {
   "cell_type": "code",
   "execution_count": 31,
   "id": "02b5e3f1",
   "metadata": {},
   "outputs": [],
   "source": [
    "SOCAM = iota.SystemOfConstraintsAssemblyModel(\n",
    "    compatibility_expressions, interface_constraints\n",
    ")\n",
    "\n",
    "with open(\"tamp_2_D.pkl\", \"wb\") as outp:\n",
    "    pickle.dump(SOCAM, outp, pickle.HIGHEST_PROTOCOL)"
   ]
  },
  {
   "cell_type": "markdown",
   "id": "0ab01a46",
   "metadata": {},
   "source": [
    "# Estimation de la probabilité de défaillance par Monte-Carlo\n",
    "\n",
    "Les codes permettant de simuler le système mécanique ayant été définis, nous allons valider leur fonctionalité en éffectuant une étude similaire au notebook \"Analyse_Preli_Trou_Carre_2D\", et en comparant les résultats. \n",
    "\n",
    "Commencons d'abord en définissant les tolérances et en calculant leur effet sur la variance des différents défauts élémentaires. \n",
    "\n",
    "Ensuite nous pourrons créer le plan d'experience, en y introduisant aussi l'imprécision par l'intermédaire d'un coefficient d'allocation du défaut. "
   ]
  },
  {
   "cell_type": "code",
   "execution_count": 32,
   "id": "658c7869",
   "metadata": {},
   "outputs": [],
   "source": [
    "# Tiré du notebook \"ReferenceParameterization\"\n",
    "tol = 0.1\n",
    "\n",
    "Cm = 0.3  # Process capability\n",
    "\n",
    "# Defining the uncertainties on the position and orientation uncertainties.\n",
    "# The values for the stds is choosen in case where only one defect is present\n",
    "sigma_e_pos = tol / (6 * Cm)\n",
    "\n",
    "theta_max = tol / hM\n",
    "sigma_e_theta = (2 * theta_max) / (6 * Cm)\n",
    "\n",
    "SIZE_MC = int(1e3)  # Size of the DOE (Design of experiment)"
   ]
  },
  {
   "cell_type": "markdown",
   "id": "3ab14bd1",
   "metadata": {},
   "source": [
    "To drive the monte carlo simulation, it would be easier to have a generator object that can produce deviations in s controllable manner. \n",
    "For this effect, the openTURNS library offers probabilistic tools useful for our task. \n",
    "\n",
    "The informations we need to construct this model are :\n",
    " - The deviation parameter names and types (rotation/translation...)\n",
    " - The maximal standard deviation of each elementary defect taken separatly\n",
    " - The allocation of the defect between the deviations of a same feature. \n",
    "\n",
    "We'll add some more methods to the deviation fixer class, to be able to set the standard deviations of each parameter. \n",
    "\n",
    "Then we'll add an other method which will take as an input a set of lambda variables and return the generator object. The difficulty here is that the number of lambdas depends on the degrees of freedom of the feature. For N DOF there are N lambda parameters (even if in pract-ice only N-1 are necessary) The lambdas are positive and their sum equals to 1.\n",
    "\n",
    "As for each variable in iota.deviation_symbols, the index defining it garanties that it belongs to only one feature. So by counting the number of variables with the same integers we can set our lambdas. Also the index links the variable to the feature (and its characteristics)"
   ]
  },
  {
   "cell_type": "markdown",
   "id": "b3e4f210",
   "metadata": {},
   "source": [
    "\n",
    "\n",
    "\n",
    "\n"
   ]
  },
  {
   "cell_type": "markdown",
   "id": "5ca57907",
   "metadata": {},
   "source": [
    "For now we'll make some bold assumptions. Cause there is no time to formalize/generalize it further. \n",
    "First of all, all surfaces have the same defects for the respective DOF. That's enough for now, the lambdas will be generated through an LHS. "
   ]
  },
  {
   "cell_type": "code",
   "execution_count": 33,
   "id": "482f9ddb",
   "metadata": {},
   "outputs": [],
   "source": [
    "RandDeviationVect = iota.get_composed_distribution(\n",
    "    defect_names=SOCAM.deviation_symbols,\n",
    "    sigma_e_theta=sigma_e_theta,\n",
    "    sigma_e_pos=sigma_e_pos,\n",
    ")"
   ]
  },
  {
   "cell_type": "markdown",
   "id": "536fc648",
   "metadata": {},
   "source": [
    "Now we have a function that can generate defects in the range authorized by the deviation domains (if each DOF would be taken individually). We now need to introduce a new step to control the imprecision, or rather the allocations between the degrees of freedom of the defects. As in this case for each feature we only have 2 DOF, we need one parameter per feature to control the allocation.\n",
    "We have 8 features with defects, and 2 degrees of freedom per feature, so we will need 16 parameters. \n",
    "\n",
    "Our first approach for generating the lambdas will have 2 steps, and be the following:\n",
    "\n",
    "- We first generate a sample following a LHS sampling scheme.Each parameter followinf an uniform law between 0 and 1. \n",
    "\n",
    "- Then for each set of parameters belonging to the same feature, we set the value of one parameter as the ratio between its value and the sum of all variables belonging to the same feature"
   ]
  },
  {
   "cell_type": "code",
   "execution_count": 34,
   "id": "c30e3946",
   "metadata": {},
   "outputs": [
    {
     "name": "stdout",
     "output_type": "stream",
     "text": [
      "v_g_0, u_g_1, v_g_1, gamma_g_1, u_g_2, v_g_2, gamma_g_2, u_g_3, v_g_3, gamma_g_3, u_g_4, v_g_4, gamma_g_4\n"
     ]
    }
   ],
   "source": [
    "# Let's first generate a classic LHS design of expezriment of size 16.\n",
    "D_lambd = len(SOCAM.deviation_symbols)\n",
    "lambda_vect_unconditioned = ot.ComposedDistribution([ot.Uniform(0, 1)] * D_lambd)\n",
    "lambda_vect_unconditioned.setDescription(list(map(str, SOCAM.deviation_symbols)))\n",
    "\n",
    "ot.RandomGenerator.SetSeed(999)\n",
    "N_lambda = 200\n",
    "lambda_sample_unconditioned_generator = ot.LHSExperiment(\n",
    "    lambda_vect_unconditioned, N_lambda\n",
    ")\n",
    "lambda_sample_unconditioned_generator.setAlwaysShuffle(False)  # randomized\n",
    "# Defining space fillings\n",
    "spaceFilling = ot.SpaceFillingC2()\n",
    "# Geometric profile\n",
    "geomProfile = ot.GeometricProfile(1.0, 0.95573, 2000)\n",
    "# Simulated Annealing LHS with geometric temperature profile, C2 optimization\n",
    "optimalLHSAlgorithm = ot.SimulatedAnnealingLHS(\n",
    "    lambda_sample_unconditioned_generator, spaceFilling, geomProfile\n",
    ")\n",
    "\n",
    "lambda_sample_unconditioned = optimalLHSAlgorithm.generate()\n",
    "lambda_sample_random = lambda_vect_unconditioned.getSample(N_lambda)\n",
    "lambda_sample_conditioned = iota.condition_lambda_sample(lambda_sample_random)\n",
    "print(\", \".join(map(str, SOCAM.gap_symbols)))"
   ]
  },
  {
   "cell_type": "markdown",
   "id": "beb9e7e5",
   "metadata": {},
   "source": [
    "Each point of this sample represents a different configuration of defects where the individual influence of DOF for a feauture has a different effect. For each one of these points, we generate a random monte carlo sample for the defects, multiply it with the lambdas, and then solve the optimization problem for each point in the Monte Carlo DOE to get the probability of non assembly."
   ]
  },
  {
   "cell_type": "code",
   "execution_count": 35,
   "id": "30478785",
   "metadata": {
    "scrolled": true,
    "tags": []
   },
   "outputs": [],
   "source": [
    "C_opt = None  # np.array([1,0,0,1,0,0,0,0,0,0,0,0,0,0,0])\n",
    "bounds = None  # np.array([[0, 0], [-2, 2], [-0, 0], [0, 2], [-2, 2], [-np.pi, np.pi], [0, 2], [-2, 2], [-np.pi, np.pi], [0, 2], [-2, 2], [-np.pi, np.pi], [0, 2], [-2, 2], [-np.pi, np.pi]])\n",
    "SEED_MC_PF = 6436431\n",
    "SIZE_MC_PF = int(1e4)  # Size of the DOE (Design of experiment)"
   ]
  },
  {
   "cell_type": "code",
   "execution_count": 36,
   "id": "15b9f806-abc8-4f51-9e77-5b98c4a5c7cf",
   "metadata": {},
   "outputs": [
    {
     "name": "stdout",
     "output_type": "stream",
     "text": [
      "Done 200 experiments.\n",
      "Elapsed time: 51.565 seconds.\n"
     ]
    }
   ],
   "source": [
    "def parallel_function(lambda_sample, SIZE_MC_PF, SEED_MC_PF, SOCAM, C_opt, bounds):\n",
    "    ot.RandomGenerator.SetSeed(SEED_MC_PF)\n",
    "    deviation_samples = np.array(RandDeviationVect.getSample(SIZE_MC_PF)) * np.array(\n",
    "        lambda_sample\n",
    "    )\n",
    "    return iota.compute_adaptive_failure_probability(\n",
    "        SOCAM,\n",
    "        deviation_samples,\n",
    "        C=C_opt,\n",
    "        bounds=bounds,\n",
    "        epsilon_pf=0.004,\n",
    "        epsilon_std=0.003,\n",
    "        verbose=0,\n",
    "    )\n",
    "\n",
    "\n",
    "if __name__ == \"__main__\":\n",
    "    start_time = time()  # Record the start time\n",
    "    results = np.array(\n",
    "        Parallel(n_jobs=-2)(\n",
    "            delayed(parallel_function)(\n",
    "                lambda_sample_conditioned[i],\n",
    "                SIZE_MC_PF,\n",
    "                SEED_MC_PF,\n",
    "                SOCAM,\n",
    "                C_opt,\n",
    "                bounds,\n",
    "            )\n",
    "            for i in range(len(lambda_sample_conditioned))\n",
    "        ),\n",
    "        dtype=float,\n",
    "    )\n",
    "\n",
    "    print(f\"Done {len(lambda_sample_conditioned)} experiments.\")\n",
    "    print(f\"Elapsed time: {time() - start_time:.3f} seconds.\")"
   ]
  },
  {
   "cell_type": "code",
   "execution_count": 37,
   "id": "e131fabc-bea9-4d31-8c69-1cb8a6ce6bdd",
   "metadata": {
    "tags": []
   },
   "outputs": [
    {
     "name": "stdout",
     "output_type": "stream",
     "text": [
      "Lower probability of failure: 6.6253 %\n",
      "Upper probability of failure: 20.8054 %\n"
     ]
    }
   ],
   "source": [
    "print(\"Lower probability of failure:\", round(min(results) * 100, 4), \"%\")\n",
    "print(\"Upper probability of failure:\", round(max(results) * 100, 4), \"%\")"
   ]
  },
  {
   "cell_type": "code",
   "execution_count": 38,
   "id": "d96b9d45-aaf7-4b17-8763-02e09dc28284",
   "metadata": {},
   "outputs": [
    {
     "data": {
      "image/png": "[encoded data removed]",
      "text/plain": [
       "<Figure size 640x480 with 1 Axes>"
      ]
     },
     "metadata": {},
     "output_type": "display_data"
    }
   ],
   "source": [
    "plt.hist(results)\n",
    "plt.show()"
   ]
  },
  {
   "cell_type": "code",
   "execution_count": null,
   "id": "847d1f32-be32-40d1-ab19-e509282612fd",
   "metadata": {},
   "outputs": [],
   "source": []
  }
 ],
 "metadata": {
  "kernelspec": {
   "display_name": "Python 3 (ipykernel)",
   "language": "python",
   "name": "python3"
  },
  "language_info": {
   "codemirror_mode": {
    "name": "ipython",
    "version": 3
   },
   "file_extension": ".py",
   "mimetype": "text/x-python",
   "name": "python",
   "nbconvert_exporter": "python",
   "pygments_lexer": "ipython3",
   "version": "3.11.9"
  }
 },
 "nbformat": 4,
 "nbformat_minor": 5
}
