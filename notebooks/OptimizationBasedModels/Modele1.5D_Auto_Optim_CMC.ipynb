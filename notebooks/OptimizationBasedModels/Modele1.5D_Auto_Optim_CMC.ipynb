{
 "cells": [
  {
   "cell_type": "markdown",
   "id": "1ecb329a-8614-42a5-82a8-78a3d5dacada",
   "metadata": {},
   "source": [
    "# Tolerance analysis of simple 1.5D model, automatic dictionary construction, crude monte carlo, optimizaiton on epistemic space of uncertainty."
   ]
  },
  {
   "cell_type": "code",
   "execution_count": 1,
   "id": "bd254d60-fd5b-4c8e-9f4a-1de5de524e2b",
   "metadata": {},
   "outputs": [],
   "source": [
    "import os\n",
    "import pickle\n",
    "import re\n",
    "import pprint\n",
    "import numpy as np\n",
    "import sympy as sp\n",
    "import scipy\n",
    "import openturns as ot\n",
    "import matplotlib.pyplot as plt\n",
    "import trimesh as tr\n",
    "\n",
    "from math import pi, sqrt\n",
    "from joblib import Parallel, delayed\n",
    "from importlib import reload\n",
    "from IPython.display import display, clear_output, HTML, IFrame\n",
    "from time import time, sleep\n",
    "from sympy.printing import latex\n",
    "from trimesh import viewer as trview\n",
    "from scipy.optimize import OptimizeResult, minimize, basinhopping, \\\n",
    "                           differential_evolution, brute, shgo, check_grad, \\\n",
    "                           approx_fprime, fsolve, NonlinearConstraint, Bounds, approx_fprime\n",
    "import otaf\n",
    "\n",
    "from gldpy import GLD\n",
    "\n",
    "ot.Log.Show(ot.Log.NONE)\n",
    "np.set_printoptions(suppress=True)\n",
    "ar = np.array"
   ]
  },
  {
   "cell_type": "code",
   "execution_count": 2,
   "id": "8275252e-374d-44e2-b204-8764502e12cd",
   "metadata": {},
   "outputs": [],
   "source": [
    "### Different measures of our problem\n",
    "X1 = 99.8   # Nominal Length of the male piece\n",
    "X2 = 100.0  # Nominal Length of the female piece\n",
    "X3 = 10.0   # Nominal height of the pieces\n",
    "t = 0.2*sqrt(2)    # Tolerance for X1 and X2. (95% conform)  (= t/2)"
   ]
  },
  {
   "cell_type": "markdown",
   "id": "2a2d5ac3-79f9-47d1-8329-ba5dce619632",
   "metadata": {},
   "source": [
    "## Coordinates, points, feature definitions."
   ]
  },
  {
   "cell_type": "code",
   "execution_count": 3,
   "id": "c637ce58-ba04-4d7d-a03f-441b1d8e60d9",
   "metadata": {},
   "outputs": [],
   "source": [
    "# Global coordinate system\n",
    "R0 = np.array([[1, 0, 0], [0, 1, 0], [0, 0, 1]])\n",
    "x_, y_, z_ = R0[0], R0[1], R0[2]\n",
    "\n",
    "# Important points\n",
    "# Pièce 1 (male)\n",
    "P1A0, P1A1, P1A2 = (\n",
    "    np.array((0, X3 / 2, 0.0)),\n",
    "    np.array((0, X3, 0.0)),\n",
    "    np.array((0, 0, 0.0)),\n",
    ")\n",
    "P1B0, P1B1, P1B2 = (\n",
    "    np.array((X1, X3 / 2, 0.0)),\n",
    "    np.array((X1, X3, 0.0)),\n",
    "    np.array((X1, 0, 0.0)),\n",
    ")\n",
    "P1C0, P1C1, P1C2 = (\n",
    "    np.array((X1 / 2, 0, 0.0)),\n",
    "    np.array((0, 0, 0.0)),\n",
    "    np.array((X1, 0, 0.0)),\n",
    ")\n",
    "\n",
    "# Pièce 2 (femelle)  # On met les points à hM et pas hF pour qu'ils soient bien opposées! (Besoin??)\n",
    "P2A0, P2A1, P2A2 = (\n",
    "    np.array((0, X3 / 2, 0.0)),\n",
    "    np.array((0, X3, 0.0)),\n",
    "    np.array((0, 0, 0.0)),\n",
    ")\n",
    "P2B0, P2B1, P2B2 = (\n",
    "    np.array((X2, X3 / 2, 0.0)),\n",
    "    np.array((X2, X3, 0.0)),\n",
    "    np.array((X2, 0, 0.0)),\n",
    ")\n",
    "P2C0, P2C1, P2C2 = (\n",
    "    np.array((X2 / 2, 0, 0.0)),\n",
    "    np.array((0, 0, 0.0)),\n",
    "    np.array((X2, 0, 0.0)),\n",
    ")\n",
    "\n",
    "# Local coordinate systems\n",
    "# Pièce1\n",
    "RP1a = np.array([-1 * x_, -1 * y_, z_])\n",
    "RP1b = R0\n",
    "RP1c = np.array([-y_, x_, z_])\n",
    "\n",
    "# Pièce2\n",
    "RP2a = R0\n",
    "RP2b = np.array([-1 * x_, -1 * y_, z_])\n",
    "RP2c = np.array([y_, -1 * x_, z_])"
   ]
  },
  {
   "cell_type": "markdown",
   "id": "f5ed640e-40fc-48fe-ab9a-b46b5fd97b61",
   "metadata": {},
   "source": [
    "### Construction of the augmented system data dictionary."
   ]
  },
  {
   "cell_type": "code",
   "execution_count": 4,
   "id": "8e1248a3-5053-4030-b165-c48863d8d2b9",
   "metadata": {},
   "outputs": [],
   "source": [
    "system_data = {\n",
    "    \"PARTS\" : {\n",
    "        '1' : {\n",
    "            \"a\" : {\n",
    "                \"FRAME\": RP1a,\n",
    "                \"POINTS\": {'A0' : P1A0, 'A1' : P1A1, 'A2' : P1A2},\n",
    "                \"TYPE\": \"plane\",\n",
    "                \"INTERACTIONS\": ['P2a'],\n",
    "                \"CONSTRAINTS_D\": [\"PERFECT\"], # In this modelization, only defects on the right side\n",
    "                \"CONSTRAINTS_G\": [\"FLOATING\"],            \n",
    "            },\n",
    "            \"b\" : {\n",
    "                \"FRAME\": RP1b,\n",
    "                \"POINTS\": {'B0' : P1B0, 'B1' : P1B1, 'B2' : P1B2},\n",
    "                \"TYPE\": \"plane\",\n",
    "                \"INTERACTIONS\": ['P2b'],\n",
    "                \"CONSTRAINTS_D\": [\"NONE\"],\n",
    "                \"CONSTRAINTS_G\": [\"FLOATING\"],            \n",
    "            },\n",
    "            \"c\" : {\n",
    "                \"FRAME\": RP1c,\n",
    "                \"POINTS\": {'C0' : P1C0, 'C1' : P1C1, 'C2' : P1C2},\n",
    "                \"TYPE\": \"plane\",\n",
    "                \"INTERACTIONS\": ['P2c'],\n",
    "                \"CONSTRAINTS_D\": [\"PERFECT\"],\n",
    "                \"CONSTRAINTS_G\": [\"SLIDING\"],            \n",
    "            },\n",
    "        },\n",
    "        '2' : {\n",
    "            \"a\" : {\n",
    "                \"FRAME\": RP2a,\n",
    "                \"POINTS\": {'A0' : P2A0, 'A1' : P2A1, 'A2' : P2A2},\n",
    "                \"TYPE\": \"plane\",\n",
    "                \"INTERACTIONS\": ['P1a'],\n",
    "                \"CONSTRAINTS_D\": [\"PERFECT\"], # In this modelization, only defects on the right side\n",
    "                \"CONSTRAINTS_G\": [\"FLOATING\"],            \n",
    "            },\n",
    "            \"b\" : {\n",
    "                \"FRAME\": RP2b,\n",
    "                \"POINTS\": {'B0' : P2B0, 'B1' : P2B1, 'B2' : P2B2},\n",
    "                \"TYPE\": \"plane\",\n",
    "                \"INTERACTIONS\": ['P1b'],\n",
    "                \"CONSTRAINTS_D\": [\"NONE\"],\n",
    "                \"CONSTRAINTS_G\": [\"FLOATING\"],            \n",
    "            },\n",
    "            \"c\" : {\n",
    "                \"FRAME\": RP2c,\n",
    "                \"POINTS\": {'C0' : P2C0, 'C1' : P2C1, 'C2' : P2C2},\n",
    "                \"TYPE\": \"plane\",\n",
    "                \"INTERACTIONS\": ['P1c'],\n",
    "                \"CONSTRAINTS_D\": [\"PERFECT\"],\n",
    "                \"CONSTRAINTS_G\": [\"SLIDING\"],            \n",
    "            },\n",
    "        }  \n",
    "    },\n",
    "    \"LOOPS\": {\n",
    "        \"COMPATIBILITY\": {\n",
    "            \"L0\": \"P1cC0 -> P2cC0 -> P2aA0 -> P1aA0\",\n",
    "            \"L1\": \"P1cC0 -> P2cC0 -> P2bB0 -> P1bB0\",\n",
    "        },\n",
    "    },\n",
    "    \"GLOBAL_CONSTRAINTS\": \"2D_NZ\",\n",
    "}"
   ]
  },
  {
   "cell_type": "code",
   "execution_count": 5,
   "id": "eda4b960-047d-47fa-a3ae-0a131bef54a3",
   "metadata": {},
   "outputs": [],
   "source": [
    "SDA = otaf.AssemblyDataProcessor(system_data)\n",
    "SDA.generate_expanded_loops()"
   ]
  },
  {
   "cell_type": "code",
   "execution_count": 6,
   "id": "57d0b7ba-4d97-410f-8ebc-84eacfc537b7",
   "metadata": {},
   "outputs": [],
   "source": [
    "CLH = otaf.CompatibilityLoopHandling(SDA)\n",
    "compatibility_expressions = CLH.get_compatibility_expression_from_FO_matrices()"
   ]
  },
  {
   "cell_type": "code",
   "execution_count": 7,
   "id": "5b3e9b9d-0911-47ac-b5d2-156b71cd9de6",
   "metadata": {},
   "outputs": [],
   "source": [
    "ILH = otaf.InterfaceLoopHandling(SDA, CLH, circle_resolution=20)\n",
    "interface_constraints = ILH.get_interface_loop_expressions()"
   ]
  },
  {
   "cell_type": "code",
   "execution_count": 8,
   "id": "355ab7b1-7614-43b7-b413-d0f60c7eec6e",
   "metadata": {},
   "outputs": [
    {
     "name": "stdout",
     "output_type": "stream",
     "text": [
      "4 [u_d_4, gamma_d_4, u_d_5, gamma_d_5]\n"
     ]
    }
   ],
   "source": [
    "SOCAM = otaf.SystemOfConstraintsAssemblyModel(\n",
    "    compatibility_expressions, interface_constraints\n",
    ")\n",
    "\n",
    "SOCAM.embedOptimizationVariable()\n",
    "\n",
    "print(len(SOCAM.deviation_symbols), SOCAM.deviation_symbols)"
   ]
  },
  {
   "cell_type": "markdown",
   "id": "ba18adf2-2501-4ab0-a3d4-d02d6ff30ed5",
   "metadata": {},
   "source": [
    "## Construction of the stochastic model of the defects. (old lambda approach)"
   ]
  },
  {
   "cell_type": "code",
   "execution_count": 9,
   "id": "296e3160-d1fe-4f84-ab1b-804aac69c5bb",
   "metadata": {},
   "outputs": [],
   "source": [
    "Cm = 1.0\n",
    "sigma_e_pos = t / (6 * Cm)\n",
    "\n",
    "# Le défaut en orientation est piloté par une incertitude sur un angle. On suppose les angles petits << 1 rad\n",
    "theta_max = t / X3\n",
    "sigma_e_theta = (2*theta_max) / (6*Cm) "
   ]
  },
  {
   "cell_type": "code",
   "execution_count": 10,
   "id": "f9ba9590-7460-496d-8c15-f1979d39e388",
   "metadata": {},
   "outputs": [],
   "source": [
    "RandDeviationVect = otaf.distribution.get_composed_normal_defect_distribution(\n",
    "    defect_names=SOCAM.deviation_symbols,\n",
    "    sigma_dict = {\"alpha\":sigma_e_theta, \n",
    "                  \"beta\":sigma_e_theta,\n",
    "                  \"gamma\":sigma_e_theta, \n",
    "                  \"u\":sigma_e_pos, \n",
    "                  \"v\":sigma_e_pos, \n",
    "                  \"w\":sigma_e_pos})\n",
    "NDim_Defects = int(RandDeviationVect.getDimension())"
   ]
  },
  {
   "cell_type": "markdown",
   "id": "6aa6e791-e715-454a-b51b-27cf1704b1e0",
   "metadata": {},
   "source": [
    "## Construction of a neural network based surrogate \n",
    "(could be omitted but makes things faster)"
   ]
  },
  {
   "cell_type": "markdown",
   "id": "1846e592-66b5-4f84-8220-e6b6818dd844",
   "metadata": {},
   "source": [
    "#### First generate the training sample :"
   ]
  },
  {
   "cell_type": "code",
   "execution_count": 11,
   "id": "661bb8f1-85e1-4386-8e2a-a95e5645a2ac",
   "metadata": {},
   "outputs": [
    {
     "data": {
      "application/vnd.jupyter.widget-view+json": {
       "model_id": "5a02b67b555a424ebb721521f6ae362c",
       "version_major": 2,
       "version_minor": 0
      },
      "text/plain": [
       "  0%|          | 0/100000 [00:00<?, ?it/s]"
      ]
     },
     "metadata": {},
     "output_type": "display_data"
    },
    {
     "name": "stdout",
     "output_type": "stream",
     "text": [
      "Ratio of failed simulations in sample : 0.08898\n"
     ]
    }
   ],
   "source": [
    "# Define the seed, sample size, and file paths\n",
    "SEED = 420  # Example seed value\n",
    "sample_size = 100000\n",
    "\n",
    "# Ensure reproducibility by setting the seed\n",
    "np.random.seed(SEED)\n",
    "\n",
    "# Generate the sample\n",
    "dist = otaf.distribution.multiply_composed_distribution_with_constant(\n",
    "    RandDeviationVect, 1.25) # We now work with low failure probabilities so we increase the dispresion to have more failed parts for the training\n",
    "#TRAIN_SAMPLE = np.array(otaf.uncertainty.generateLHSExperiment(dist, sample_size))\n",
    "TRAIN_SAMPLE = np.array(dist.getSample(sample_size),dtype=\"float32\")\n",
    "# Compute the results\n",
    "TRAIN_RESULTS = otaf.uncertainty.compute_gap_optimizations_on_sample_batch(\n",
    "    SOCAM,\n",
    "    TRAIN_SAMPLE,\n",
    "    bounds=None,\n",
    "    n_cpu=-2,\n",
    "    progress_bar=True,\n",
    "    batch_size=500,\n",
    "    dtype=\"float32\"\n",
    ")\n",
    "\n",
    "# Assign X and y from TRAIN_SAMPLE and TRAIN_RESULTS\n",
    "Xtrain = TRAIN_SAMPLE\n",
    "ytrain = TRAIN_RESULTS\n",
    "print(f\"Ratio of failed simulations in sample : {np.where(ytrain[:,-1]<0,1,0).sum()/sample_size}\")"
   ]
  },
  {
   "cell_type": "markdown",
   "id": "82716e8f-1d74-4ace-ab6c-7baded11854b",
   "metadata": {},
   "source": [
    "#### Then train the NN model."
   ]
  },
  {
   "cell_type": "code",
   "execution_count": 12,
   "id": "b954e704-8bfd-4f23-96ba-44692ecac705",
   "metadata": {
    "scrolled": true
   },
   "outputs": [
    {
     "name": "stdout",
     "output_type": "stream",
     "text": [
      "[4, 22, 12, 5, 1]\n"
     ]
    },
    {
     "data": {
      "application/vnd.jupyter.widget-view+json": {
       "model_id": "0bc1a49443974253a3eb822c5c11f595",
       "version_major": 2,
       "version_minor": 0
      },
      "text/plain": [
       "  0%|          | 0/2 [00:00<?, ?batch/s]"
      ]
     },
     "metadata": {},
     "output_type": "display_data"
    },
    {
     "name": "stdout",
     "output_type": "stream",
     "text": [
      "Epoch 001, Val Loss: 0.886517, Val R2: -160.986435\n"
     ]
    },
    {
     "data": {
      "application/vnd.jupyter.widget-view+json": {
       "model_id": "fabc8c5955e14a12ae5143c1f07d1995",
       "version_major": 2,
       "version_minor": 0
      },
      "text/plain": [
       "  0%|          | 0/2 [00:00<?, ?batch/s]"
      ]
     },
     "metadata": {},
     "output_type": "display_data"
    },
    {
     "name": "stdout",
     "output_type": "stream",
     "text": [
      "Epoch 002, Val Loss: 0.735602, Val R2: -23.947536\n"
     ]
    },
    {
     "data": {
      "application/vnd.jupyter.widget-view+json": {
       "model_id": "1a9d4e7664ce4ea1ac2ecc7ec05e0572",
       "version_major": 2,
       "version_minor": 0
      },
      "text/plain": [
       "  0%|          | 0/2 [00:00<?, ?batch/s]"
      ]
     },
     "metadata": {},
     "output_type": "display_data"
    },
    {
     "name": "stdout",
     "output_type": "stream",
     "text": [
      "Epoch 003, Val Loss: 0.530287, Val R2: -3.873053\n"
     ]
    },
    {
     "data": {
      "application/vnd.jupyter.widget-view+json": {
       "model_id": "90a0d6d8da17480ead985166367b4270",
       "version_major": 2,
       "version_minor": 0
      },
      "text/plain": [
       "  0%|          | 0/2 [00:00<?, ?batch/s]"
      ]
     },
     "metadata": {},
     "output_type": "display_data"
    },
    {
     "name": "stdout",
     "output_type": "stream",
     "text": [
      "Epoch 004, Val Loss: 0.305537, Val R2: 0.081771\n"
     ]
    },
    {
     "data": {
      "application/vnd.jupyter.widget-view+json": {
       "model_id": "ac0eb4acd7684a788b014a149ed28f99",
       "version_major": 2,
       "version_minor": 0
      },
      "text/plain": [
       "  0%|          | 0/2 [00:00<?, ?batch/s]"
      ]
     },
     "metadata": {},
     "output_type": "display_data"
    },
    {
     "name": "stdout",
     "output_type": "stream",
     "text": [
      "Epoch 005, Val Loss: 0.186151, Val R2: 0.781940\n"
     ]
    },
    {
     "data": {
      "application/vnd.jupyter.widget-view+json": {
       "model_id": "ad8d467157e04e699fe6e33cfb3d91a3",
       "version_major": 2,
       "version_minor": 0
      },
      "text/plain": [
       "  0%|          | 0/2 [00:00<?, ?batch/s]"
      ]
     },
     "metadata": {},
     "output_type": "display_data"
    },
    {
     "name": "stdout",
     "output_type": "stream",
     "text": [
      "Epoch 006, Val Loss: 0.241545, Val R2: 0.833655\n"
     ]
    },
    {
     "data": {
      "application/vnd.jupyter.widget-view+json": {
       "model_id": "9fed945c8be247f59ac7804c3f4bac8d",
       "version_major": 2,
       "version_minor": 0
      },
      "text/plain": [
       "  0%|          | 0/2 [00:00<?, ?batch/s]"
      ]
     },
     "metadata": {},
     "output_type": "display_data"
    },
    {
     "name": "stdout",
     "output_type": "stream",
     "text": [
      "Epoch 007, Val Loss: 0.197223, Val R2: 0.861502\n"
     ]
    },
    {
     "data": {
      "application/vnd.jupyter.widget-view+json": {
       "model_id": "7b3b3ef161bb4d33af88a2277d355ad0",
       "version_major": 2,
       "version_minor": 0
      },
      "text/plain": [
       "  0%|          | 0/2 [00:00<?, ?batch/s]"
      ]
     },
     "metadata": {},
     "output_type": "display_data"
    },
    {
     "name": "stdout",
     "output_type": "stream",
     "text": [
      "Epoch 008, Val Loss: 0.110709, Val R2: 0.897770\n"
     ]
    },
    {
     "data": {
      "application/vnd.jupyter.widget-view+json": {
       "model_id": "6993c9cbd345415097a5a3df9d61a4ea",
       "version_major": 2,
       "version_minor": 0
      },
      "text/plain": [
       "  0%|          | 0/2 [00:00<?, ?batch/s]"
      ]
     },
     "metadata": {},
     "output_type": "display_data"
    },
    {
     "name": "stdout",
     "output_type": "stream",
     "text": [
      "Epoch 009, Val Loss: 0.080514, Val R2: 0.898840\n"
     ]
    },
    {
     "data": {
      "application/vnd.jupyter.widget-view+json": {
       "model_id": "bd2e69fc619449558bd25f865256b5fe",
       "version_major": 2,
       "version_minor": 0
      },
      "text/plain": [
       "  0%|          | 0/2 [00:00<?, ?batch/s]"
      ]
     },
     "metadata": {},
     "output_type": "display_data"
    },
    {
     "name": "stdout",
     "output_type": "stream",
     "text": [
      "Epoch 010, Val Loss: 0.080453, Val R2: 0.876444\n"
     ]
    },
    {
     "data": {
      "application/vnd.jupyter.widget-view+json": {
       "model_id": "5b75c162ee004eaf94a5f7b46743d80a",
       "version_major": 2,
       "version_minor": 0
      },
      "text/plain": [
       "  0%|          | 0/2 [00:00<?, ?batch/s]"
      ]
     },
     "metadata": {},
     "output_type": "display_data"
    },
    {
     "name": "stdout",
     "output_type": "stream",
     "text": [
      "Epoch 011, Val Loss: 0.074277, Val R2: 0.881347\n"
     ]
    },
    {
     "data": {
      "application/vnd.jupyter.widget-view+json": {
       "model_id": "15de9e94007449c6a243b908451fa984",
       "version_major": 2,
       "version_minor": 0
      },
      "text/plain": [
       "  0%|          | 0/2 [00:00<?, ?batch/s]"
      ]
     },
     "metadata": {},
     "output_type": "display_data"
    },
    {
     "name": "stdout",
     "output_type": "stream",
     "text": [
      "Epoch 012, Val Loss: 0.055448, Val R2: 0.920178\n"
     ]
    },
    {
     "data": {
      "application/vnd.jupyter.widget-view+json": {
       "model_id": "c44e92c0365c4dc8b53aac27a56ab41a",
       "version_major": 2,
       "version_minor": 0
      },
      "text/plain": [
       "  0%|          | 0/2 [00:00<?, ?batch/s]"
      ]
     },
     "metadata": {},
     "output_type": "display_data"
    },
    {
     "name": "stdout",
     "output_type": "stream",
     "text": [
      "Epoch 013, Val Loss: 0.036476, Val R2: 0.956574\n"
     ]
    },
    {
     "data": {
      "application/vnd.jupyter.widget-view+json": {
       "model_id": "1673e2b0f0d24cae9587cafc9a71d72d",
       "version_major": 2,
       "version_minor": 0
      },
      "text/plain": [
       "  0%|          | 0/2 [00:00<?, ?batch/s]"
      ]
     },
     "metadata": {},
     "output_type": "display_data"
    },
    {
     "name": "stdout",
     "output_type": "stream",
     "text": [
      "Epoch 014, Val Loss: 0.031903, Val R2: 0.968924\n"
     ]
    },
    {
     "data": {
      "application/vnd.jupyter.widget-view+json": {
       "model_id": "3cebcb2b31e24955bf881df15ceb3684",
       "version_major": 2,
       "version_minor": 0
      },
      "text/plain": [
       "  0%|          | 0/2 [00:00<?, ?batch/s]"
      ]
     },
     "metadata": {},
     "output_type": "display_data"
    },
    {
     "name": "stdout",
     "output_type": "stream",
     "text": [
      "Epoch 015, Val Loss: 0.038729, Val R2: 0.967079\n"
     ]
    },
    {
     "data": {
      "application/vnd.jupyter.widget-view+json": {
       "model_id": "687e4488bb934cb49797b5c1c970514f",
       "version_major": 2,
       "version_minor": 0
      },
      "text/plain": [
       "  0%|          | 0/2 [00:00<?, ?batch/s]"
      ]
     },
     "metadata": {},
     "output_type": "display_data"
    },
    {
     "name": "stdout",
     "output_type": "stream",
     "text": [
      "Epoch 016, Val Loss: 0.039948, Val R2: 0.967078\n"
     ]
    },
    {
     "data": {
      "application/vnd.jupyter.widget-view+json": {
       "model_id": "12479a8a9569402c8fcc433f11effb89",
       "version_major": 2,
       "version_minor": 0
      },
      "text/plain": [
       "  0%|          | 0/2 [00:00<?, ?batch/s]"
      ]
     },
     "metadata": {},
     "output_type": "display_data"
    },
    {
     "name": "stdout",
     "output_type": "stream",
     "text": [
      "Epoch 017, Val Loss: 0.033370, Val R2: 0.970741\n"
     ]
    },
    {
     "data": {
      "application/vnd.jupyter.widget-view+json": {
       "model_id": "32acf067ea504e15b2a3abe75373c554",
       "version_major": 2,
       "version_minor": 0
      },
      "text/plain": [
       "  0%|          | 0/2 [00:00<?, ?batch/s]"
      ]
     },
     "metadata": {},
     "output_type": "display_data"
    },
    {
     "name": "stdout",
     "output_type": "stream",
     "text": [
      "Epoch 018, Val Loss: 0.028172, Val R2: 0.972467\n"
     ]
    },
    {
     "data": {
      "application/vnd.jupyter.widget-view+json": {
       "model_id": "50ed83068cd340c0824288f7c08a21bf",
       "version_major": 2,
       "version_minor": 0
      },
      "text/plain": [
       "  0%|          | 0/2 [00:00<?, ?batch/s]"
      ]
     },
     "metadata": {},
     "output_type": "display_data"
    },
    {
     "name": "stdout",
     "output_type": "stream",
     "text": [
      "Epoch 019, Val Loss: 0.026921, Val R2: 0.970903\n"
     ]
    },
    {
     "data": {
      "application/vnd.jupyter.widget-view+json": {
       "model_id": "5b9ad6ffb28d4293a2a53484933d810c",
       "version_major": 2,
       "version_minor": 0
      },
      "text/plain": [
       "  0%|          | 0/2 [00:00<?, ?batch/s]"
      ]
     },
     "metadata": {},
     "output_type": "display_data"
    },
    {
     "name": "stdout",
     "output_type": "stream",
     "text": [
      "Epoch 020, Val Loss: 0.026279, Val R2: 0.970052\n"
     ]
    },
    {
     "data": {
      "application/vnd.jupyter.widget-view+json": {
       "model_id": "844ee5cbf92f4454812c580b8ee3d867",
       "version_major": 2,
       "version_minor": 0
      },
      "text/plain": [
       "  0%|          | 0/2 [00:00<?, ?batch/s]"
      ]
     },
     "metadata": {},
     "output_type": "display_data"
    },
    {
     "name": "stdout",
     "output_type": "stream",
     "text": [
      "Epoch 021, Val Loss: 0.023858, Val R2: 0.973001\n"
     ]
    },
    {
     "data": {
      "application/vnd.jupyter.widget-view+json": {
       "model_id": "45b3062579124667a85849f4c201274c",
       "version_major": 2,
       "version_minor": 0
      },
      "text/plain": [
       "  0%|          | 0/2 [00:00<?, ?batch/s]"
      ]
     },
     "metadata": {},
     "output_type": "display_data"
    },
    {
     "name": "stdout",
     "output_type": "stream",
     "text": [
      "Epoch 022, Val Loss: 0.020753, Val R2: 0.977712\n"
     ]
    },
    {
     "data": {
      "application/vnd.jupyter.widget-view+json": {
       "model_id": "1897cbd4dcee4bd49d4b793947c8a4a1",
       "version_major": 2,
       "version_minor": 0
      },
      "text/plain": [
       "  0%|          | 0/2 [00:00<?, ?batch/s]"
      ]
     },
     "metadata": {},
     "output_type": "display_data"
    },
    {
     "name": "stdout",
     "output_type": "stream",
     "text": [
      "Epoch 023, Val Loss: 0.019214, Val R2: 0.980688\n"
     ]
    },
    {
     "data": {
      "application/vnd.jupyter.widget-view+json": {
       "model_id": "073d0fb9aaba4249b0a8550dd7d5c50d",
       "version_major": 2,
       "version_minor": 0
      },
      "text/plain": [
       "  0%|          | 0/2 [00:00<?, ?batch/s]"
      ]
     },
     "metadata": {},
     "output_type": "display_data"
    },
    {
     "name": "stdout",
     "output_type": "stream",
     "text": [
      "Epoch 024, Val Loss: 0.019055, Val R2: 0.981732\n"
     ]
    },
    {
     "data": {
      "application/vnd.jupyter.widget-view+json": {
       "model_id": "3061e0273f9d4d21b550cbed9c799079",
       "version_major": 2,
       "version_minor": 0
      },
      "text/plain": [
       "  0%|          | 0/2 [00:00<?, ?batch/s]"
      ]
     },
     "metadata": {},
     "output_type": "display_data"
    },
    {
     "name": "stdout",
     "output_type": "stream",
     "text": [
      "Epoch 025, Val Loss: 0.018275, Val R2: 0.982634\n"
     ]
    },
    {
     "data": {
      "application/vnd.jupyter.widget-view+json": {
       "model_id": "c26e81364e4446939d969cece1455748",
       "version_major": 2,
       "version_minor": 0
      },
      "text/plain": [
       "  0%|          | 0/2 [00:00<?, ?batch/s]"
      ]
     },
     "metadata": {},
     "output_type": "display_data"
    },
    {
     "name": "stdout",
     "output_type": "stream",
     "text": [
      "Epoch 026, Val Loss: 0.016675, Val R2: 0.983719\n"
     ]
    },
    {
     "data": {
      "application/vnd.jupyter.widget-view+json": {
       "model_id": "42ffd85f702e49abb7a59dadf70204ba",
       "version_major": 2,
       "version_minor": 0
      },
      "text/plain": [
       "  0%|          | 0/2 [00:00<?, ?batch/s]"
      ]
     },
     "metadata": {},
     "output_type": "display_data"
    },
    {
     "name": "stdout",
     "output_type": "stream",
     "text": [
      "Epoch 027, Val Loss: 0.015658, Val R2: 0.984041\n"
     ]
    },
    {
     "data": {
      "application/vnd.jupyter.widget-view+json": {
       "model_id": "d4494af502d440dbb8d8a673912173c3",
       "version_major": 2,
       "version_minor": 0
      },
      "text/plain": [
       "  0%|          | 0/2 [00:00<?, ?batch/s]"
      ]
     },
     "metadata": {},
     "output_type": "display_data"
    },
    {
     "name": "stdout",
     "output_type": "stream",
     "text": [
      "Epoch 028, Val Loss: 0.015405, Val R2: 0.983758\n"
     ]
    },
    {
     "data": {
      "application/vnd.jupyter.widget-view+json": {
       "model_id": "054669ab94f14b77ac0e01dd18edcdf6",
       "version_major": 2,
       "version_minor": 0
      },
      "text/plain": [
       "  0%|          | 0/2 [00:00<?, ?batch/s]"
      ]
     },
     "metadata": {},
     "output_type": "display_data"
    },
    {
     "name": "stdout",
     "output_type": "stream",
     "text": [
      "Epoch 029, Val Loss: 0.014835, Val R2: 0.984229\n"
     ]
    },
    {
     "data": {
      "application/vnd.jupyter.widget-view+json": {
       "model_id": "548dc3318ab645cfa22e7536caad7c24",
       "version_major": 2,
       "version_minor": 0
      },
      "text/plain": [
       "  0%|          | 0/2 [00:00<?, ?batch/s]"
      ]
     },
     "metadata": {},
     "output_type": "display_data"
    },
    {
     "name": "stdout",
     "output_type": "stream",
     "text": [
      "Epoch 030, Val Loss: 0.013640, Val R2: 0.985766\n"
     ]
    },
    {
     "data": {
      "application/vnd.jupyter.widget-view+json": {
       "model_id": "e5cb281c81be4f5980d10288e6c7ee2a",
       "version_major": 2,
       "version_minor": 0
      },
      "text/plain": [
       "  0%|          | 0/2 [00:00<?, ?batch/s]"
      ]
     },
     "metadata": {},
     "output_type": "display_data"
    },
    {
     "name": "stdout",
     "output_type": "stream",
     "text": [
      "Epoch 031, Val Loss: 0.012649, Val R2: 0.987221\n"
     ]
    },
    {
     "data": {
      "application/vnd.jupyter.widget-view+json": {
       "model_id": "66326c33e4ba4c3b85979cbd1fefdb85",
       "version_major": 2,
       "version_minor": 0
      },
      "text/plain": [
       "  0%|          | 0/2 [00:00<?, ?batch/s]"
      ]
     },
     "metadata": {},
     "output_type": "display_data"
    },
    {
     "name": "stdout",
     "output_type": "stream",
     "text": [
      "Epoch 032, Val Loss: 0.012239, Val R2: 0.987965\n"
     ]
    },
    {
     "data": {
      "application/vnd.jupyter.widget-view+json": {
       "model_id": "e6471841ce5e4bd7981d2a954d3446b3",
       "version_major": 2,
       "version_minor": 0
      },
      "text/plain": [
       "  0%|          | 0/2 [00:00<?, ?batch/s]"
      ]
     },
     "metadata": {},
     "output_type": "display_data"
    },
    {
     "name": "stdout",
     "output_type": "stream",
     "text": [
      "Epoch 033, Val Loss: 0.011784, Val R2: 0.988501\n"
     ]
    },
    {
     "data": {
      "application/vnd.jupyter.widget-view+json": {
       "model_id": "b9586ce7c1924c1cac002b190d7612d7",
       "version_major": 2,
       "version_minor": 0
      },
      "text/plain": [
       "  0%|          | 0/2 [00:00<?, ?batch/s]"
      ]
     },
     "metadata": {},
     "output_type": "display_data"
    },
    {
     "name": "stdout",
     "output_type": "stream",
     "text": [
      "Epoch 034, Val Loss: 0.011013, Val R2: 0.989119\n"
     ]
    },
    {
     "data": {
      "application/vnd.jupyter.widget-view+json": {
       "model_id": "a5c715e25dfd4f3bbcdf046528738d50",
       "version_major": 2,
       "version_minor": 0
      },
      "text/plain": [
       "  0%|          | 0/2 [00:00<?, ?batch/s]"
      ]
     },
     "metadata": {},
     "output_type": "display_data"
    },
    {
     "name": "stdout",
     "output_type": "stream",
     "text": [
      "Epoch 035, Val Loss: 0.010405, Val R2: 0.989500\n"
     ]
    },
    {
     "data": {
      "application/vnd.jupyter.widget-view+json": {
       "model_id": "a30d5c15b7124948aeabb7148c308583",
       "version_major": 2,
       "version_minor": 0
      },
      "text/plain": [
       "  0%|          | 0/2 [00:00<?, ?batch/s]"
      ]
     },
     "metadata": {},
     "output_type": "display_data"
    },
    {
     "name": "stdout",
     "output_type": "stream",
     "text": [
      "Epoch 036, Val Loss: 0.010071, Val R2: 0.989686\n"
     ]
    },
    {
     "data": {
      "application/vnd.jupyter.widget-view+json": {
       "model_id": "3bbc934b5a314f80af6e4b0a01baa289",
       "version_major": 2,
       "version_minor": 0
      },
      "text/plain": [
       "  0%|          | 0/2 [00:00<?, ?batch/s]"
      ]
     },
     "metadata": {},
     "output_type": "display_data"
    },
    {
     "name": "stdout",
     "output_type": "stream",
     "text": [
      "Epoch 037, Val Loss: 0.009628, Val R2: 0.990142\n"
     ]
    },
    {
     "data": {
      "application/vnd.jupyter.widget-view+json": {
       "model_id": "ec582bff9b454dd29427947e8eb7a9a6",
       "version_major": 2,
       "version_minor": 0
      },
      "text/plain": [
       "  0%|          | 0/2 [00:00<?, ?batch/s]"
      ]
     },
     "metadata": {},
     "output_type": "display_data"
    },
    {
     "name": "stdout",
     "output_type": "stream",
     "text": [
      "Epoch 038, Val Loss: 0.009017, Val R2: 0.990884\n"
     ]
    },
    {
     "data": {
      "application/vnd.jupyter.widget-view+json": {
       "model_id": "f7add99c4f634b58b2bc73df58dabb07",
       "version_major": 2,
       "version_minor": 0
      },
      "text/plain": [
       "  0%|          | 0/2 [00:00<?, ?batch/s]"
      ]
     },
     "metadata": {},
     "output_type": "display_data"
    },
    {
     "name": "stdout",
     "output_type": "stream",
     "text": [
      "Epoch 039, Val Loss: 0.008509, Val R2: 0.991525\n"
     ]
    },
    {
     "data": {
      "application/vnd.jupyter.widget-view+json": {
       "model_id": "e707f817024141cfb33131592931de8d",
       "version_major": 2,
       "version_minor": 0
      },
      "text/plain": [
       "  0%|          | 0/2 [00:00<?, ?batch/s]"
      ]
     },
     "metadata": {},
     "output_type": "display_data"
    },
    {
     "name": "stdout",
     "output_type": "stream",
     "text": [
      "Epoch 040, Val Loss: 0.008128, Val R2: 0.991958\n"
     ]
    },
    {
     "data": {
      "application/vnd.jupyter.widget-view+json": {
       "model_id": "949aab5c8b5844329284c515de9e48d7",
       "version_major": 2,
       "version_minor": 0
      },
      "text/plain": [
       "  0%|          | 0/2 [00:00<?, ?batch/s]"
      ]
     },
     "metadata": {},
     "output_type": "display_data"
    },
    {
     "name": "stdout",
     "output_type": "stream",
     "text": [
      "Epoch 041, Val Loss: 0.007716, Val R2: 0.992333\n"
     ]
    },
    {
     "data": {
      "application/vnd.jupyter.widget-view+json": {
       "model_id": "51b91533525b4682af87eb011d80f434",
       "version_major": 2,
       "version_minor": 0
      },
      "text/plain": [
       "  0%|          | 0/2 [00:00<?, ?batch/s]"
      ]
     },
     "metadata": {},
     "output_type": "display_data"
    },
    {
     "name": "stdout",
     "output_type": "stream",
     "text": [
      "Epoch 042, Val Loss: 0.007285, Val R2: 0.992686\n"
     ]
    },
    {
     "data": {
      "application/vnd.jupyter.widget-view+json": {
       "model_id": "abaa43303c0a4716b47fe3409ad1a45f",
       "version_major": 2,
       "version_minor": 0
      },
      "text/plain": [
       "  0%|          | 0/2 [00:00<?, ?batch/s]"
      ]
     },
     "metadata": {},
     "output_type": "display_data"
    },
    {
     "name": "stdout",
     "output_type": "stream",
     "text": [
      "Epoch 043, Val Loss: 0.006892, Val R2: 0.993031\n"
     ]
    },
    {
     "data": {
      "application/vnd.jupyter.widget-view+json": {
       "model_id": "a79050c59a834ec98d5e960d5c171046",
       "version_major": 2,
       "version_minor": 0
      },
      "text/plain": [
       "  0%|          | 0/2 [00:00<?, ?batch/s]"
      ]
     },
     "metadata": {},
     "output_type": "display_data"
    },
    {
     "name": "stdout",
     "output_type": "stream",
     "text": [
      "Epoch 044, Val Loss: 0.006487, Val R2: 0.993447\n"
     ]
    },
    {
     "data": {
      "application/vnd.jupyter.widget-view+json": {
       "model_id": "6e1282c9677946b583725d88521c182a",
       "version_major": 2,
       "version_minor": 0
      },
      "text/plain": [
       "  0%|          | 0/2 [00:00<?, ?batch/s]"
      ]
     },
     "metadata": {},
     "output_type": "display_data"
    },
    {
     "name": "stdout",
     "output_type": "stream",
     "text": [
      "Epoch 045, Val Loss: 0.006074, Val R2: 0.993912\n"
     ]
    },
    {
     "data": {
      "application/vnd.jupyter.widget-view+json": {
       "model_id": "3e2310a92ecb4f81a5bf19cc50c0d045",
       "version_major": 2,
       "version_minor": 0
      },
      "text/plain": [
       "  0%|          | 0/2 [00:00<?, ?batch/s]"
      ]
     },
     "metadata": {},
     "output_type": "display_data"
    },
    {
     "name": "stdout",
     "output_type": "stream",
     "text": [
      "Epoch 046, Val Loss: 0.005700, Val R2: 0.994330\n"
     ]
    },
    {
     "data": {
      "application/vnd.jupyter.widget-view+json": {
       "model_id": "d8714b924d254730a41acc444bd0aacf",
       "version_major": 2,
       "version_minor": 0
      },
      "text/plain": [
       "  0%|          | 0/2 [00:00<?, ?batch/s]"
      ]
     },
     "metadata": {},
     "output_type": "display_data"
    },
    {
     "name": "stdout",
     "output_type": "stream",
     "text": [
      "Epoch 047, Val Loss: 0.005356, Val R2: 0.994683\n"
     ]
    },
    {
     "data": {
      "application/vnd.jupyter.widget-view+json": {
       "model_id": "a94f8f278bd34fbe83533fc7706ff329",
       "version_major": 2,
       "version_minor": 0
      },
      "text/plain": [
       "  0%|          | 0/2 [00:00<?, ?batch/s]"
      ]
     },
     "metadata": {},
     "output_type": "display_data"
    },
    {
     "name": "stdout",
     "output_type": "stream",
     "text": [
      "Epoch 048, Val Loss: 0.005022, Val R2: 0.994994\n"
     ]
    },
    {
     "data": {
      "application/vnd.jupyter.widget-view+json": {
       "model_id": "8c4f457ab8494607b5d49e76030e5c4b",
       "version_major": 2,
       "version_minor": 0
      },
      "text/plain": [
       "  0%|          | 0/2 [00:00<?, ?batch/s]"
      ]
     },
     "metadata": {},
     "output_type": "display_data"
    },
    {
     "name": "stdout",
     "output_type": "stream",
     "text": [
      "Epoch 049, Val Loss: 0.004711, Val R2: 0.995277\n"
     ]
    },
    {
     "data": {
      "application/vnd.jupyter.widget-view+json": {
       "model_id": "0d2f41f400ac4706a57cf45a37134753",
       "version_major": 2,
       "version_minor": 0
      },
      "text/plain": [
       "  0%|          | 0/2 [00:00<?, ?batch/s]"
      ]
     },
     "metadata": {},
     "output_type": "display_data"
    },
    {
     "name": "stdout",
     "output_type": "stream",
     "text": [
      "Epoch 050, Val Loss: 0.004414, Val R2: 0.995565\n"
     ]
    },
    {
     "data": {
      "application/vnd.jupyter.widget-view+json": {
       "model_id": "26b738941d0842d395725ddebf16f9d2",
       "version_major": 2,
       "version_minor": 0
      },
      "text/plain": [
       "  0%|          | 0/2 [00:00<?, ?batch/s]"
      ]
     },
     "metadata": {},
     "output_type": "display_data"
    },
    {
     "name": "stdout",
     "output_type": "stream",
     "text": [
      "Epoch 051, Val Loss: 0.004120, Val R2: 0.995873\n"
     ]
    },
    {
     "data": {
      "application/vnd.jupyter.widget-view+json": {
       "model_id": "71f01c2c05fa47c2b9c046281732159d",
       "version_major": 2,
       "version_minor": 0
      },
      "text/plain": [
       "  0%|          | 0/2 [00:00<?, ?batch/s]"
      ]
     },
     "metadata": {},
     "output_type": "display_data"
    },
    {
     "name": "stdout",
     "output_type": "stream",
     "text": [
      "Epoch 052, Val Loss: 0.003846, Val R2: 0.996166\n"
     ]
    },
    {
     "data": {
      "application/vnd.jupyter.widget-view+json": {
       "model_id": "01fd7ce8db424f52bd4227d921e51c79",
       "version_major": 2,
       "version_minor": 0
      },
      "text/plain": [
       "  0%|          | 0/2 [00:00<?, ?batch/s]"
      ]
     },
     "metadata": {},
     "output_type": "display_data"
    },
    {
     "name": "stdout",
     "output_type": "stream",
     "text": [
      "Epoch 053, Val Loss: 0.003604, Val R2: 0.996418\n"
     ]
    },
    {
     "data": {
      "application/vnd.jupyter.widget-view+json": {
       "model_id": "3a0f2c5d943745559b8eb243827dc8c3",
       "version_major": 2,
       "version_minor": 0
      },
      "text/plain": [
       "  0%|          | 0/2 [00:00<?, ?batch/s]"
      ]
     },
     "metadata": {},
     "output_type": "display_data"
    },
    {
     "name": "stdout",
     "output_type": "stream",
     "text": [
      "Epoch 054, Val Loss: 0.003381, Val R2: 0.996635\n"
     ]
    },
    {
     "data": {
      "application/vnd.jupyter.widget-view+json": {
       "model_id": "a00d2b600de8401db9f3fddaa35f4d25",
       "version_major": 2,
       "version_minor": 0
      },
      "text/plain": [
       "  0%|          | 0/2 [00:00<?, ?batch/s]"
      ]
     },
     "metadata": {},
     "output_type": "display_data"
    },
    {
     "name": "stdout",
     "output_type": "stream",
     "text": [
      "Epoch 055, Val Loss: 0.003176, Val R2: 0.996829\n"
     ]
    },
    {
     "data": {
      "application/vnd.jupyter.widget-view+json": {
       "model_id": "038ad9cf89294492bb86ec82b6bebc09",
       "version_major": 2,
       "version_minor": 0
      },
      "text/plain": [
       "  0%|          | 0/2 [00:00<?, ?batch/s]"
      ]
     },
     "metadata": {},
     "output_type": "display_data"
    },
    {
     "name": "stdout",
     "output_type": "stream",
     "text": [
      "Epoch 056, Val Loss: 0.002992, Val R2: 0.997008\n"
     ]
    },
    {
     "data": {
      "application/vnd.jupyter.widget-view+json": {
       "model_id": "e02e086b11834aa29705a1921c0125cd",
       "version_major": 2,
       "version_minor": 0
      },
      "text/plain": [
       "  0%|          | 0/2 [00:00<?, ?batch/s]"
      ]
     },
     "metadata": {},
     "output_type": "display_data"
    },
    {
     "name": "stdout",
     "output_type": "stream",
     "text": [
      "Epoch 057, Val Loss: 0.002826, Val R2: 0.997177\n"
     ]
    },
    {
     "data": {
      "application/vnd.jupyter.widget-view+json": {
       "model_id": "6adff47444024b2c995b4f8691b51afc",
       "version_major": 2,
       "version_minor": 0
      },
      "text/plain": [
       "  0%|          | 0/2 [00:00<?, ?batch/s]"
      ]
     },
     "metadata": {},
     "output_type": "display_data"
    },
    {
     "name": "stdout",
     "output_type": "stream",
     "text": [
      "Epoch 058, Val Loss: 0.002676, Val R2: 0.997333\n"
     ]
    },
    {
     "data": {
      "application/vnd.jupyter.widget-view+json": {
       "model_id": "db9c3f1c15ea4223a65e7cdd542ed2b4",
       "version_major": 2,
       "version_minor": 0
      },
      "text/plain": [
       "  0%|          | 0/2 [00:00<?, ?batch/s]"
      ]
     },
     "metadata": {},
     "output_type": "display_data"
    },
    {
     "name": "stdout",
     "output_type": "stream",
     "text": [
      "Epoch 059, Val Loss: 0.002544, Val R2: 0.997468\n"
     ]
    },
    {
     "data": {
      "application/vnd.jupyter.widget-view+json": {
       "model_id": "ce5b05db3173477aa240fc39b2dd2942",
       "version_major": 2,
       "version_minor": 0
      },
      "text/plain": [
       "  0%|          | 0/2 [00:00<?, ?batch/s]"
      ]
     },
     "metadata": {},
     "output_type": "display_data"
    },
    {
     "name": "stdout",
     "output_type": "stream",
     "text": [
      "Epoch 060, Val Loss: 0.002428, Val R2: 0.997582\n"
     ]
    },
    {
     "data": {
      "application/vnd.jupyter.widget-view+json": {
       "model_id": "9546e6c154224e859d7c86b22f514456",
       "version_major": 2,
       "version_minor": 0
      },
      "text/plain": [
       "  0%|          | 0/2 [00:00<?, ?batch/s]"
      ]
     },
     "metadata": {},
     "output_type": "display_data"
    },
    {
     "name": "stdout",
     "output_type": "stream",
     "text": [
      "Epoch 061, Val Loss: 0.002326, Val R2: 0.997681\n"
     ]
    },
    {
     "data": {
      "application/vnd.jupyter.widget-view+json": {
       "model_id": "98090627408845da878523f131efec13",
       "version_major": 2,
       "version_minor": 0
      },
      "text/plain": [
       "  0%|          | 0/2 [00:00<?, ?batch/s]"
      ]
     },
     "metadata": {},
     "output_type": "display_data"
    },
    {
     "name": "stdout",
     "output_type": "stream",
     "text": [
      "Epoch 062, Val Loss: 0.002235, Val R2: 0.997771\n"
     ]
    },
    {
     "data": {
      "application/vnd.jupyter.widget-view+json": {
       "model_id": "310c4ef79c754c298e0c6eb1033893e7",
       "version_major": 2,
       "version_minor": 0
      },
      "text/plain": [
       "  0%|          | 0/2 [00:00<?, ?batch/s]"
      ]
     },
     "metadata": {},
     "output_type": "display_data"
    },
    {
     "name": "stdout",
     "output_type": "stream",
     "text": [
      "Epoch 063, Val Loss: 0.002153, Val R2: 0.997854\n"
     ]
    },
    {
     "data": {
      "application/vnd.jupyter.widget-view+json": {
       "model_id": "88984ae57ade4a7c9d03e078e1494b06",
       "version_major": 2,
       "version_minor": 0
      },
      "text/plain": [
       "  0%|          | 0/2 [00:00<?, ?batch/s]"
      ]
     },
     "metadata": {},
     "output_type": "display_data"
    },
    {
     "name": "stdout",
     "output_type": "stream",
     "text": [
      "Epoch 064, Val Loss: 0.002079, Val R2: 0.997930\n"
     ]
    },
    {
     "data": {
      "application/vnd.jupyter.widget-view+json": {
       "model_id": "6851efb4f11c4d479d226b76b5335c77",
       "version_major": 2,
       "version_minor": 0
      },
      "text/plain": [
       "  0%|          | 0/2 [00:00<?, ?batch/s]"
      ]
     },
     "metadata": {},
     "output_type": "display_data"
    },
    {
     "name": "stdout",
     "output_type": "stream",
     "text": [
      "Epoch 065, Val Loss: 0.002014, Val R2: 0.997996\n"
     ]
    },
    {
     "data": {
      "application/vnd.jupyter.widget-view+json": {
       "model_id": "07e61295887b4e72a776156040305591",
       "version_major": 2,
       "version_minor": 0
      },
      "text/plain": [
       "  0%|          | 0/2 [00:00<?, ?batch/s]"
      ]
     },
     "metadata": {},
     "output_type": "display_data"
    },
    {
     "name": "stdout",
     "output_type": "stream",
     "text": [
      "Epoch 066, Val Loss: 0.001955, Val R2: 0.998053\n"
     ]
    },
    {
     "data": {
      "application/vnd.jupyter.widget-view+json": {
       "model_id": "95c821858287490abe94f098af6bf024",
       "version_major": 2,
       "version_minor": 0
      },
      "text/plain": [
       "  0%|          | 0/2 [00:00<?, ?batch/s]"
      ]
     },
     "metadata": {},
     "output_type": "display_data"
    },
    {
     "name": "stdout",
     "output_type": "stream",
     "text": [
      "Epoch 067, Val Loss: 0.001901, Val R2: 0.998106\n"
     ]
    },
    {
     "data": {
      "application/vnd.jupyter.widget-view+json": {
       "model_id": "9cd9a25e3afc4ffa9bd40153ba9caa26",
       "version_major": 2,
       "version_minor": 0
      },
      "text/plain": [
       "  0%|          | 0/2 [00:00<?, ?batch/s]"
      ]
     },
     "metadata": {},
     "output_type": "display_data"
    },
    {
     "name": "stdout",
     "output_type": "stream",
     "text": [
      "Epoch 068, Val Loss: 0.001851, Val R2: 0.998156\n"
     ]
    },
    {
     "data": {
      "application/vnd.jupyter.widget-view+json": {
       "model_id": "35466e8cdba7485b9d3bc9b196fbf72d",
       "version_major": 2,
       "version_minor": 0
      },
      "text/plain": [
       "  0%|          | 0/2 [00:00<?, ?batch/s]"
      ]
     },
     "metadata": {},
     "output_type": "display_data"
    },
    {
     "name": "stdout",
     "output_type": "stream",
     "text": [
      "Epoch 069, Val Loss: 0.001804, Val R2: 0.998204\n"
     ]
    },
    {
     "data": {
      "application/vnd.jupyter.widget-view+json": {
       "model_id": "c8fcb80a524a44d19021ccaa724f3f94",
       "version_major": 2,
       "version_minor": 0
      },
      "text/plain": [
       "  0%|          | 0/2 [00:00<?, ?batch/s]"
      ]
     },
     "metadata": {},
     "output_type": "display_data"
    },
    {
     "name": "stdout",
     "output_type": "stream",
     "text": [
      "Epoch 070, Val Loss: 0.001760, Val R2: 0.998249\n"
     ]
    },
    {
     "data": {
      "application/vnd.jupyter.widget-view+json": {
       "model_id": "57c06c2764cc408ba795dc648419c511",
       "version_major": 2,
       "version_minor": 0
      },
      "text/plain": [
       "  0%|          | 0/2 [00:00<?, ?batch/s]"
      ]
     },
     "metadata": {},
     "output_type": "display_data"
    },
    {
     "name": "stdout",
     "output_type": "stream",
     "text": [
      "Epoch 071, Val Loss: 0.001718, Val R2: 0.998290\n"
     ]
    },
    {
     "data": {
      "application/vnd.jupyter.widget-view+json": {
       "model_id": "1e5418339c654931a40093aad50bdf44",
       "version_major": 2,
       "version_minor": 0
      },
      "text/plain": [
       "  0%|          | 0/2 [00:00<?, ?batch/s]"
      ]
     },
     "metadata": {},
     "output_type": "display_data"
    },
    {
     "name": "stdout",
     "output_type": "stream",
     "text": [
      "Epoch 072, Val Loss: 0.001678, Val R2: 0.998330\n"
     ]
    },
    {
     "data": {
      "application/vnd.jupyter.widget-view+json": {
       "model_id": "1055e3df060945358fd5478695b95a81",
       "version_major": 2,
       "version_minor": 0
      },
      "text/plain": [
       "  0%|          | 0/2 [00:00<?, ?batch/s]"
      ]
     },
     "metadata": {},
     "output_type": "display_data"
    },
    {
     "name": "stdout",
     "output_type": "stream",
     "text": [
      "Epoch 073, Val Loss: 0.001640, Val R2: 0.998368\n"
     ]
    },
    {
     "data": {
      "application/vnd.jupyter.widget-view+json": {
       "model_id": "8ddda1ea51184eb78bde43201a158593",
       "version_major": 2,
       "version_minor": 0
      },
      "text/plain": [
       "  0%|          | 0/2 [00:00<?, ?batch/s]"
      ]
     },
     "metadata": {},
     "output_type": "display_data"
    },
    {
     "name": "stdout",
     "output_type": "stream",
     "text": [
      "Epoch 074, Val Loss: 0.001602, Val R2: 0.998405\n"
     ]
    },
    {
     "data": {
      "application/vnd.jupyter.widget-view+json": {
       "model_id": "5540506044c74643b923fed1c7604cd9",
       "version_major": 2,
       "version_minor": 0
      },
      "text/plain": [
       "  0%|          | 0/2 [00:00<?, ?batch/s]"
      ]
     },
     "metadata": {},
     "output_type": "display_data"
    },
    {
     "name": "stdout",
     "output_type": "stream",
     "text": [
      "Epoch 075, Val Loss: 0.001566, Val R2: 0.998442\n"
     ]
    },
    {
     "data": {
      "application/vnd.jupyter.widget-view+json": {
       "model_id": "028b3997be164368b2ad5026fb7e093f",
       "version_major": 2,
       "version_minor": 0
      },
      "text/plain": [
       "  0%|          | 0/2 [00:00<?, ?batch/s]"
      ]
     },
     "metadata": {},
     "output_type": "display_data"
    },
    {
     "name": "stdout",
     "output_type": "stream",
     "text": [
      "Epoch 076, Val Loss: 0.001531, Val R2: 0.998477\n"
     ]
    },
    {
     "data": {
      "application/vnd.jupyter.widget-view+json": {
       "model_id": "e638ad6a15f74c59a48ead3a20f8585e",
       "version_major": 2,
       "version_minor": 0
      },
      "text/plain": [
       "  0%|          | 0/2 [00:00<?, ?batch/s]"
      ]
     },
     "metadata": {},
     "output_type": "display_data"
    },
    {
     "name": "stdout",
     "output_type": "stream",
     "text": [
      "Epoch 077, Val Loss: 0.001498, Val R2: 0.998509\n"
     ]
    },
    {
     "data": {
      "application/vnd.jupyter.widget-view+json": {
       "model_id": "3a33a55b36eb46c9ba4bdb14027992c9",
       "version_major": 2,
       "version_minor": 0
      },
      "text/plain": [
       "  0%|          | 0/2 [00:00<?, ?batch/s]"
      ]
     },
     "metadata": {},
     "output_type": "display_data"
    },
    {
     "name": "stdout",
     "output_type": "stream",
     "text": [
      "Epoch 078, Val Loss: 0.001466, Val R2: 0.998541\n"
     ]
    },
    {
     "data": {
      "application/vnd.jupyter.widget-view+json": {
       "model_id": "cf46af56f9594ababf6cade432cad843",
       "version_major": 2,
       "version_minor": 0
      },
      "text/plain": [
       "  0%|          | 0/2 [00:00<?, ?batch/s]"
      ]
     },
     "metadata": {},
     "output_type": "display_data"
    },
    {
     "name": "stdout",
     "output_type": "stream",
     "text": [
      "Epoch 079, Val Loss: 0.001435, Val R2: 0.998573\n"
     ]
    },
    {
     "data": {
      "application/vnd.jupyter.widget-view+json": {
       "model_id": "9858bf894ddf4772958a9b691bd42bb3",
       "version_major": 2,
       "version_minor": 0
      },
      "text/plain": [
       "  0%|          | 0/2 [00:00<?, ?batch/s]"
      ]
     },
     "metadata": {},
     "output_type": "display_data"
    },
    {
     "name": "stdout",
     "output_type": "stream",
     "text": [
      "Epoch 080, Val Loss: 0.001404, Val R2: 0.998603\n"
     ]
    },
    {
     "data": {
      "application/vnd.jupyter.widget-view+json": {
       "model_id": "a19cf05171ac4144b9d3ec02950dda11",
       "version_major": 2,
       "version_minor": 0
      },
      "text/plain": [
       "  0%|          | 0/2 [00:00<?, ?batch/s]"
      ]
     },
     "metadata": {},
     "output_type": "display_data"
    },
    {
     "name": "stdout",
     "output_type": "stream",
     "text": [
      "Epoch 081, Val Loss: 0.001375, Val R2: 0.998632\n"
     ]
    },
    {
     "data": {
      "application/vnd.jupyter.widget-view+json": {
       "model_id": "de5085a6ff0244f992f18b24095298b6",
       "version_major": 2,
       "version_minor": 0
      },
      "text/plain": [
       "  0%|          | 0/2 [00:00<?, ?batch/s]"
      ]
     },
     "metadata": {},
     "output_type": "display_data"
    },
    {
     "name": "stdout",
     "output_type": "stream",
     "text": [
      "Epoch 082, Val Loss: 0.001346, Val R2: 0.998661\n"
     ]
    },
    {
     "data": {
      "application/vnd.jupyter.widget-view+json": {
       "model_id": "bf586b7e08424d40b42c0bb6c51c1324",
       "version_major": 2,
       "version_minor": 0
      },
      "text/plain": [
       "  0%|          | 0/2 [00:00<?, ?batch/s]"
      ]
     },
     "metadata": {},
     "output_type": "display_data"
    },
    {
     "name": "stdout",
     "output_type": "stream",
     "text": [
      "Epoch 083, Val Loss: 0.001319, Val R2: 0.998688\n"
     ]
    },
    {
     "data": {
      "application/vnd.jupyter.widget-view+json": {
       "model_id": "7bd02af42ea44872940fd14933e2ae20",
       "version_major": 2,
       "version_minor": 0
      },
      "text/plain": [
       "  0%|          | 0/2 [00:00<?, ?batch/s]"
      ]
     },
     "metadata": {},
     "output_type": "display_data"
    },
    {
     "name": "stdout",
     "output_type": "stream",
     "text": [
      "Epoch 084, Val Loss: 0.001292, Val R2: 0.998715\n"
     ]
    },
    {
     "data": {
      "application/vnd.jupyter.widget-view+json": {
       "model_id": "397fc1bf7e3b40769565ae100176af9e",
       "version_major": 2,
       "version_minor": 0
      },
      "text/plain": [
       "  0%|          | 0/2 [00:00<?, ?batch/s]"
      ]
     },
     "metadata": {},
     "output_type": "display_data"
    },
    {
     "name": "stdout",
     "output_type": "stream",
     "text": [
      "Epoch 085, Val Loss: 0.001266, Val R2: 0.998740\n"
     ]
    },
    {
     "data": {
      "application/vnd.jupyter.widget-view+json": {
       "model_id": "690ed3e8a5c647bc839e81da22af5953",
       "version_major": 2,
       "version_minor": 0
      },
      "text/plain": [
       "  0%|          | 0/2 [00:00<?, ?batch/s]"
      ]
     },
     "metadata": {},
     "output_type": "display_data"
    },
    {
     "name": "stdout",
     "output_type": "stream",
     "text": [
      "Epoch 086, Val Loss: 0.001241, Val R2: 0.998765\n"
     ]
    },
    {
     "data": {
      "application/vnd.jupyter.widget-view+json": {
       "model_id": "20c4231217bf4fab829d1380d6eee769",
       "version_major": 2,
       "version_minor": 0
      },
      "text/plain": [
       "  0%|          | 0/2 [00:00<?, ?batch/s]"
      ]
     },
     "metadata": {},
     "output_type": "display_data"
    },
    {
     "name": "stdout",
     "output_type": "stream",
     "text": [
      "Epoch 087, Val Loss: 0.001217, Val R2: 0.998790\n"
     ]
    },
    {
     "data": {
      "application/vnd.jupyter.widget-view+json": {
       "model_id": "552ae50bda7445918053e639c165f2b6",
       "version_major": 2,
       "version_minor": 0
      },
      "text/plain": [
       "  0%|          | 0/2 [00:00<?, ?batch/s]"
      ]
     },
     "metadata": {},
     "output_type": "display_data"
    },
    {
     "name": "stdout",
     "output_type": "stream",
     "text": [
      "Epoch 088, Val Loss: 0.001193, Val R2: 0.998813\n"
     ]
    },
    {
     "data": {
      "application/vnd.jupyter.widget-view+json": {
       "model_id": "83fc785ba58e4139817e270221414ea1",
       "version_major": 2,
       "version_minor": 0
      },
      "text/plain": [
       "  0%|          | 0/2 [00:00<?, ?batch/s]"
      ]
     },
     "metadata": {},
     "output_type": "display_data"
    },
    {
     "name": "stdout",
     "output_type": "stream",
     "text": [
      "Epoch 089, Val Loss: 0.001171, Val R2: 0.998836\n"
     ]
    },
    {
     "data": {
      "application/vnd.jupyter.widget-view+json": {
       "model_id": "d2fbbaa7249448169a587e70ad62d1a4",
       "version_major": 2,
       "version_minor": 0
      },
      "text/plain": [
       "  0%|          | 0/2 [00:00<?, ?batch/s]"
      ]
     },
     "metadata": {},
     "output_type": "display_data"
    },
    {
     "name": "stdout",
     "output_type": "stream",
     "text": [
      "Epoch 090, Val Loss: 0.001148, Val R2: 0.998858\n"
     ]
    },
    {
     "data": {
      "application/vnd.jupyter.widget-view+json": {
       "model_id": "b0a73bdc09c04263af8c424d43e8d749",
       "version_major": 2,
       "version_minor": 0
      },
      "text/plain": [
       "  0%|          | 0/2 [00:00<?, ?batch/s]"
      ]
     },
     "metadata": {},
     "output_type": "display_data"
    },
    {
     "name": "stdout",
     "output_type": "stream",
     "text": [
      "Epoch 091, Val Loss: 0.001127, Val R2: 0.998879\n"
     ]
    },
    {
     "data": {
      "application/vnd.jupyter.widget-view+json": {
       "model_id": "ffcf4ae36edd4006b2cbd37048c0cb57",
       "version_major": 2,
       "version_minor": 0
      },
      "text/plain": [
       "  0%|          | 0/2 [00:00<?, ?batch/s]"
      ]
     },
     "metadata": {},
     "output_type": "display_data"
    },
    {
     "name": "stdout",
     "output_type": "stream",
     "text": [
      "Epoch 092, Val Loss: 0.001106, Val R2: 0.998900\n"
     ]
    },
    {
     "data": {
      "application/vnd.jupyter.widget-view+json": {
       "model_id": "3680c85d6dff4d2e9899ea53050a7383",
       "version_major": 2,
       "version_minor": 0
      },
      "text/plain": [
       "  0%|          | 0/2 [00:00<?, ?batch/s]"
      ]
     },
     "metadata": {},
     "output_type": "display_data"
    },
    {
     "name": "stdout",
     "output_type": "stream",
     "text": [
      "Epoch 093, Val Loss: 0.001086, Val R2: 0.998920\n"
     ]
    },
    {
     "data": {
      "application/vnd.jupyter.widget-view+json": {
       "model_id": "8902121b470044beb42c23e87b70201f",
       "version_major": 2,
       "version_minor": 0
      },
      "text/plain": [
       "  0%|          | 0/2 [00:00<?, ?batch/s]"
      ]
     },
     "metadata": {},
     "output_type": "display_data"
    },
    {
     "name": "stdout",
     "output_type": "stream",
     "text": [
      "Epoch 094, Val Loss: 0.001066, Val R2: 0.998940\n"
     ]
    },
    {
     "data": {
      "application/vnd.jupyter.widget-view+json": {
       "model_id": "114ecb8ff70c4d4899b2bb2d81808d61",
       "version_major": 2,
       "version_minor": 0
      },
      "text/plain": [
       "  0%|          | 0/2 [00:00<?, ?batch/s]"
      ]
     },
     "metadata": {},
     "output_type": "display_data"
    },
    {
     "name": "stdout",
     "output_type": "stream",
     "text": [
      "Epoch 095, Val Loss: 0.001047, Val R2: 0.998959\n"
     ]
    },
    {
     "data": {
      "application/vnd.jupyter.widget-view+json": {
       "model_id": "394fbcdda6b3486d87bc1ee5b10b6f1d",
       "version_major": 2,
       "version_minor": 0
      },
      "text/plain": [
       "  0%|          | 0/2 [00:00<?, ?batch/s]"
      ]
     },
     "metadata": {},
     "output_type": "display_data"
    },
    {
     "name": "stdout",
     "output_type": "stream",
     "text": [
      "Epoch 096, Val Loss: 0.001029, Val R2: 0.998977\n"
     ]
    },
    {
     "data": {
      "application/vnd.jupyter.widget-view+json": {
       "model_id": "c627d5ce050a41ba9a050e9efb349078",
       "version_major": 2,
       "version_minor": 0
      },
      "text/plain": [
       "  0%|          | 0/2 [00:00<?, ?batch/s]"
      ]
     },
     "metadata": {},
     "output_type": "display_data"
    },
    {
     "name": "stdout",
     "output_type": "stream",
     "text": [
      "Epoch 097, Val Loss: 0.001010, Val R2: 0.998995\n"
     ]
    },
    {
     "data": {
      "application/vnd.jupyter.widget-view+json": {
       "model_id": "ab6863f4b0f84560b6950c4bedced670",
       "version_major": 2,
       "version_minor": 0
      },
      "text/plain": [
       "  0%|          | 0/2 [00:00<?, ?batch/s]"
      ]
     },
     "metadata": {},
     "output_type": "display_data"
    },
    {
     "name": "stdout",
     "output_type": "stream",
     "text": [
      "Epoch 098, Val Loss: 0.000993, Val R2: 0.999013\n"
     ]
    },
    {
     "data": {
      "application/vnd.jupyter.widget-view+json": {
       "model_id": "661d6db249564f5ab87fbdc9f51ae523",
       "version_major": 2,
       "version_minor": 0
      },
      "text/plain": [
       "  0%|          | 0/2 [00:00<?, ?batch/s]"
      ]
     },
     "metadata": {},
     "output_type": "display_data"
    },
    {
     "name": "stdout",
     "output_type": "stream",
     "text": [
      "Epoch 099, Val Loss: 0.000976, Val R2: 0.999030\n"
     ]
    },
    {
     "data": {
      "application/vnd.jupyter.widget-view+json": {
       "model_id": "f3dc345255df49c7be4d66bc671124ef",
       "version_major": 2,
       "version_minor": 0
      },
      "text/plain": [
       "  0%|          | 0/2 [00:00<?, ?batch/s]"
      ]
     },
     "metadata": {},
     "output_type": "display_data"
    },
    {
     "name": "stdout",
     "output_type": "stream",
     "text": [
      "Epoch 100, Val Loss: 0.000959, Val R2: 0.999046\n"
     ]
    },
    {
     "data": {
      "application/vnd.jupyter.widget-view+json": {
       "model_id": "e6e22571d2714164bc89e50210491cd3",
       "version_major": 2,
       "version_minor": 0
      },
      "text/plain": [
       "  0%|          | 0/2 [00:00<?, ?batch/s]"
      ]
     },
     "metadata": {},
     "output_type": "display_data"
    },
    {
     "name": "stdout",
     "output_type": "stream",
     "text": [
      "Epoch 101, Val Loss: 0.000943, Val R2: 0.999062\n"
     ]
    },
    {
     "data": {
      "application/vnd.jupyter.widget-view+json": {
       "model_id": "d48a50a02d1b4659a4db6fc741195abd",
       "version_major": 2,
       "version_minor": 0
      },
      "text/plain": [
       "  0%|          | 0/2 [00:00<?, ?batch/s]"
      ]
     },
     "metadata": {},
     "output_type": "display_data"
    },
    {
     "name": "stdout",
     "output_type": "stream",
     "text": [
      "Epoch 102, Val Loss: 0.000927, Val R2: 0.999078\n"
     ]
    },
    {
     "data": {
      "application/vnd.jupyter.widget-view+json": {
       "model_id": "73f5715e598f4ab084566f9de2bd0786",
       "version_major": 2,
       "version_minor": 0
      },
      "text/plain": [
       "  0%|          | 0/2 [00:00<?, ?batch/s]"
      ]
     },
     "metadata": {},
     "output_type": "display_data"
    },
    {
     "name": "stdout",
     "output_type": "stream",
     "text": [
      "Epoch 103, Val Loss: 0.000912, Val R2: 0.999093\n"
     ]
    },
    {
     "data": {
      "application/vnd.jupyter.widget-view+json": {
       "model_id": "a46e856a2e0a46dd930f307244a91293",
       "version_major": 2,
       "version_minor": 0
      },
      "text/plain": [
       "  0%|          | 0/2 [00:00<?, ?batch/s]"
      ]
     },
     "metadata": {},
     "output_type": "display_data"
    },
    {
     "name": "stdout",
     "output_type": "stream",
     "text": [
      "Epoch 104, Val Loss: 0.000897, Val R2: 0.999108\n"
     ]
    },
    {
     "data": {
      "application/vnd.jupyter.widget-view+json": {
       "model_id": "299c3e9dbbed423a8a57f1d67a8ab064",
       "version_major": 2,
       "version_minor": 0
      },
      "text/plain": [
       "  0%|          | 0/2 [00:00<?, ?batch/s]"
      ]
     },
     "metadata": {},
     "output_type": "display_data"
    },
    {
     "name": "stdout",
     "output_type": "stream",
     "text": [
      "Epoch 105, Val Loss: 0.000883, Val R2: 0.999123\n"
     ]
    },
    {
     "data": {
      "application/vnd.jupyter.widget-view+json": {
       "model_id": "8a66166a24244fd4b995afe8632b34ca",
       "version_major": 2,
       "version_minor": 0
      },
      "text/plain": [
       "  0%|          | 0/2 [00:00<?, ?batch/s]"
      ]
     },
     "metadata": {},
     "output_type": "display_data"
    },
    {
     "name": "stdout",
     "output_type": "stream",
     "text": [
      "Epoch 106, Val Loss: 0.000868, Val R2: 0.999137\n"
     ]
    },
    {
     "data": {
      "application/vnd.jupyter.widget-view+json": {
       "model_id": "a79c2d8d806b44c5a0ed2a178f39f751",
       "version_major": 2,
       "version_minor": 0
      },
      "text/plain": [
       "  0%|          | 0/2 [00:00<?, ?batch/s]"
      ]
     },
     "metadata": {},
     "output_type": "display_data"
    },
    {
     "name": "stdout",
     "output_type": "stream",
     "text": [
      "Epoch 107, Val Loss: 0.000855, Val R2: 0.999150\n"
     ]
    },
    {
     "data": {
      "application/vnd.jupyter.widget-view+json": {
       "model_id": "56902453792349519ea6f44d1d57a34b",
       "version_major": 2,
       "version_minor": 0
      },
      "text/plain": [
       "  0%|          | 0/2 [00:00<?, ?batch/s]"
      ]
     },
     "metadata": {},
     "output_type": "display_data"
    },
    {
     "name": "stdout",
     "output_type": "stream",
     "text": [
      "Epoch 108, Val Loss: 0.000841, Val R2: 0.999164\n"
     ]
    },
    {
     "data": {
      "application/vnd.jupyter.widget-view+json": {
       "model_id": "99c1db99bd524c098269cf61e81cdbca",
       "version_major": 2,
       "version_minor": 0
      },
      "text/plain": [
       "  0%|          | 0/2 [00:00<?, ?batch/s]"
      ]
     },
     "metadata": {},
     "output_type": "display_data"
    },
    {
     "name": "stdout",
     "output_type": "stream",
     "text": [
      "Epoch 109, Val Loss: 0.000828, Val R2: 0.999177\n"
     ]
    },
    {
     "data": {
      "application/vnd.jupyter.widget-view+json": {
       "model_id": "712ad9abe1bc41749c21a661cf2c144f",
       "version_major": 2,
       "version_minor": 0
      },
      "text/plain": [
       "  0%|          | 0/2 [00:00<?, ?batch/s]"
      ]
     },
     "metadata": {},
     "output_type": "display_data"
    },
    {
     "name": "stdout",
     "output_type": "stream",
     "text": [
      "Epoch 110, Val Loss: 0.000815, Val R2: 0.999189\n"
     ]
    },
    {
     "data": {
      "application/vnd.jupyter.widget-view+json": {
       "model_id": "3cf3b256b7ce43f9be51f161184a32d5",
       "version_major": 2,
       "version_minor": 0
      },
      "text/plain": [
       "  0%|          | 0/2 [00:00<?, ?batch/s]"
      ]
     },
     "metadata": {},
     "output_type": "display_data"
    },
    {
     "name": "stdout",
     "output_type": "stream",
     "text": [
      "Epoch 111, Val Loss: 0.000803, Val R2: 0.999202\n"
     ]
    },
    {
     "data": {
      "application/vnd.jupyter.widget-view+json": {
       "model_id": "a0558d8c9d404ae6bb434f701d8d35e1",
       "version_major": 2,
       "version_minor": 0
      },
      "text/plain": [
       "  0%|          | 0/2 [00:00<?, ?batch/s]"
      ]
     },
     "metadata": {},
     "output_type": "display_data"
    },
    {
     "name": "stdout",
     "output_type": "stream",
     "text": [
      "Epoch 112, Val Loss: 0.000791, Val R2: 0.999214\n"
     ]
    },
    {
     "data": {
      "application/vnd.jupyter.widget-view+json": {
       "model_id": "b142059d4f8c49dabcae15787872b521",
       "version_major": 2,
       "version_minor": 0
      },
      "text/plain": [
       "  0%|          | 0/2 [00:00<?, ?batch/s]"
      ]
     },
     "metadata": {},
     "output_type": "display_data"
    },
    {
     "name": "stdout",
     "output_type": "stream",
     "text": [
      "Epoch 113, Val Loss: 0.000779, Val R2: 0.999226\n"
     ]
    },
    {
     "data": {
      "application/vnd.jupyter.widget-view+json": {
       "model_id": "c3f388072bc64bb5aa6e7694bc9317d5",
       "version_major": 2,
       "version_minor": 0
      },
      "text/plain": [
       "  0%|          | 0/2 [00:00<?, ?batch/s]"
      ]
     },
     "metadata": {},
     "output_type": "display_data"
    },
    {
     "name": "stdout",
     "output_type": "stream",
     "text": [
      "Epoch 114, Val Loss: 0.000767, Val R2: 0.999237\n"
     ]
    },
    {
     "data": {
      "application/vnd.jupyter.widget-view+json": {
       "model_id": "739116c61c7c4c1590afc936c3854859",
       "version_major": 2,
       "version_minor": 0
      },
      "text/plain": [
       "  0%|          | 0/2 [00:00<?, ?batch/s]"
      ]
     },
     "metadata": {},
     "output_type": "display_data"
    },
    {
     "name": "stdout",
     "output_type": "stream",
     "text": [
      "Epoch 115, Val Loss: 0.000756, Val R2: 0.999249\n"
     ]
    },
    {
     "data": {
      "application/vnd.jupyter.widget-view+json": {
       "model_id": "4245a24977b14f77a3eb5e19b67eb502",
       "version_major": 2,
       "version_minor": 0
      },
      "text/plain": [
       "  0%|          | 0/2 [00:00<?, ?batch/s]"
      ]
     },
     "metadata": {},
     "output_type": "display_data"
    },
    {
     "name": "stdout",
     "output_type": "stream",
     "text": [
      "Epoch 116, Val Loss: 0.000745, Val R2: 0.999260\n"
     ]
    },
    {
     "data": {
      "application/vnd.jupyter.widget-view+json": {
       "model_id": "d58de75058764a11a282ef500efe4355",
       "version_major": 2,
       "version_minor": 0
      },
      "text/plain": [
       "  0%|          | 0/2 [00:00<?, ?batch/s]"
      ]
     },
     "metadata": {},
     "output_type": "display_data"
    },
    {
     "name": "stdout",
     "output_type": "stream",
     "text": [
      "Epoch 117, Val Loss: 0.000734, Val R2: 0.999270\n"
     ]
    },
    {
     "data": {
      "application/vnd.jupyter.widget-view+json": {
       "model_id": "272ae315e6524751971cc53c2aecd1f5",
       "version_major": 2,
       "version_minor": 0
      },
      "text/plain": [
       "  0%|          | 0/2 [00:00<?, ?batch/s]"
      ]
     },
     "metadata": {},
     "output_type": "display_data"
    },
    {
     "name": "stdout",
     "output_type": "stream",
     "text": [
      "Epoch 118, Val Loss: 0.000723, Val R2: 0.999281\n"
     ]
    },
    {
     "data": {
      "application/vnd.jupyter.widget-view+json": {
       "model_id": "39ffcef18441474987b968925f0069f9",
       "version_major": 2,
       "version_minor": 0
      },
      "text/plain": [
       "  0%|          | 0/2 [00:00<?, ?batch/s]"
      ]
     },
     "metadata": {},
     "output_type": "display_data"
    },
    {
     "name": "stdout",
     "output_type": "stream",
     "text": [
      "Epoch 119, Val Loss: 0.000713, Val R2: 0.999291\n"
     ]
    },
    {
     "data": {
      "application/vnd.jupyter.widget-view+json": {
       "model_id": "5333e338d3b14780be0ddbdf75456044",
       "version_major": 2,
       "version_minor": 0
      },
      "text/plain": [
       "  0%|          | 0/2 [00:00<?, ?batch/s]"
      ]
     },
     "metadata": {},
     "output_type": "display_data"
    },
    {
     "name": "stdout",
     "output_type": "stream",
     "text": [
      "Epoch 120, Val Loss: 0.000703, Val R2: 0.999301\n"
     ]
    },
    {
     "data": {
      "application/vnd.jupyter.widget-view+json": {
       "model_id": "b5e63762194e4c908ff160a6f797c8b0",
       "version_major": 2,
       "version_minor": 0
      },
      "text/plain": [
       "  0%|          | 0/2 [00:00<?, ?batch/s]"
      ]
     },
     "metadata": {},
     "output_type": "display_data"
    },
    {
     "name": "stdout",
     "output_type": "stream",
     "text": [
      "Epoch 121, Val Loss: 0.000693, Val R2: 0.999311\n"
     ]
    },
    {
     "data": {
      "application/vnd.jupyter.widget-view+json": {
       "model_id": "c09351638fc14eb5a6a44eaa53e75ac1",
       "version_major": 2,
       "version_minor": 0
      },
      "text/plain": [
       "  0%|          | 0/2 [00:00<?, ?batch/s]"
      ]
     },
     "metadata": {},
     "output_type": "display_data"
    },
    {
     "name": "stdout",
     "output_type": "stream",
     "text": [
      "Epoch 122, Val Loss: 0.000683, Val R2: 0.999321\n"
     ]
    },
    {
     "data": {
      "application/vnd.jupyter.widget-view+json": {
       "model_id": "ef3ee32f118541b99a73b669fccd98d2",
       "version_major": 2,
       "version_minor": 0
      },
      "text/plain": [
       "  0%|          | 0/2 [00:00<?, ?batch/s]"
      ]
     },
     "metadata": {},
     "output_type": "display_data"
    },
    {
     "name": "stdout",
     "output_type": "stream",
     "text": [
      "Epoch 123, Val Loss: 0.000674, Val R2: 0.999330\n"
     ]
    },
    {
     "data": {
      "application/vnd.jupyter.widget-view+json": {
       "model_id": "c792693bf30546d3aab354ad9e36968f",
       "version_major": 2,
       "version_minor": 0
      },
      "text/plain": [
       "  0%|          | 0/2 [00:00<?, ?batch/s]"
      ]
     },
     "metadata": {},
     "output_type": "display_data"
    },
    {
     "name": "stdout",
     "output_type": "stream",
     "text": [
      "Epoch 124, Val Loss: 0.000664, Val R2: 0.999340\n"
     ]
    },
    {
     "data": {
      "application/vnd.jupyter.widget-view+json": {
       "model_id": "7e3bd8c7d25e47d7bda6d44f86103d71",
       "version_major": 2,
       "version_minor": 0
      },
      "text/plain": [
       "  0%|          | 0/2 [00:00<?, ?batch/s]"
      ]
     },
     "metadata": {},
     "output_type": "display_data"
    },
    {
     "name": "stdout",
     "output_type": "stream",
     "text": [
      "Epoch 125, Val Loss: 0.000655, Val R2: 0.999349\n"
     ]
    },
    {
     "data": {
      "application/vnd.jupyter.widget-view+json": {
       "model_id": "2f22d5381af242939010cc90f0d5a76c",
       "version_major": 2,
       "version_minor": 0
      },
      "text/plain": [
       "  0%|          | 0/2 [00:00<?, ?batch/s]"
      ]
     },
     "metadata": {},
     "output_type": "display_data"
    },
    {
     "name": "stdout",
     "output_type": "stream",
     "text": [
      "Epoch 126, Val Loss: 0.000646, Val R2: 0.999358\n"
     ]
    },
    {
     "data": {
      "application/vnd.jupyter.widget-view+json": {
       "model_id": "5910f6221c2249c7ab05497b072f2397",
       "version_major": 2,
       "version_minor": 0
      },
      "text/plain": [
       "  0%|          | 0/2 [00:00<?, ?batch/s]"
      ]
     },
     "metadata": {},
     "output_type": "display_data"
    },
    {
     "name": "stdout",
     "output_type": "stream",
     "text": [
      "Epoch 127, Val Loss: 0.000638, Val R2: 0.999366\n"
     ]
    },
    {
     "data": {
      "application/vnd.jupyter.widget-view+json": {
       "model_id": "4ab075221b6a4fedad950d98661b5251",
       "version_major": 2,
       "version_minor": 0
      },
      "text/plain": [
       "  0%|          | 0/2 [00:00<?, ?batch/s]"
      ]
     },
     "metadata": {},
     "output_type": "display_data"
    },
    {
     "name": "stdout",
     "output_type": "stream",
     "text": [
      "Epoch 128, Val Loss: 0.000629, Val R2: 0.999375\n"
     ]
    },
    {
     "data": {
      "application/vnd.jupyter.widget-view+json": {
       "model_id": "18f96a9cdfc741c7b602ecf0fb6bd461",
       "version_major": 2,
       "version_minor": 0
      },
      "text/plain": [
       "  0%|          | 0/2 [00:00<?, ?batch/s]"
      ]
     },
     "metadata": {},
     "output_type": "display_data"
    },
    {
     "name": "stdout",
     "output_type": "stream",
     "text": [
      "Epoch 129, Val Loss: 0.000621, Val R2: 0.999383\n"
     ]
    },
    {
     "data": {
      "application/vnd.jupyter.widget-view+json": {
       "model_id": "588d26cf4ccb4ad9888d11687c083b33",
       "version_major": 2,
       "version_minor": 0
      },
      "text/plain": [
       "  0%|          | 0/2 [00:00<?, ?batch/s]"
      ]
     },
     "metadata": {},
     "output_type": "display_data"
    },
    {
     "name": "stdout",
     "output_type": "stream",
     "text": [
      "Epoch 130, Val Loss: 0.000612, Val R2: 0.999391\n"
     ]
    },
    {
     "data": {
      "application/vnd.jupyter.widget-view+json": {
       "model_id": "76f3497db84f40d19f0a1f14c19e1077",
       "version_major": 2,
       "version_minor": 0
      },
      "text/plain": [
       "  0%|          | 0/2 [00:00<?, ?batch/s]"
      ]
     },
     "metadata": {},
     "output_type": "display_data"
    },
    {
     "name": "stdout",
     "output_type": "stream",
     "text": [
      "Epoch 131, Val Loss: 0.000604, Val R2: 0.999400\n"
     ]
    },
    {
     "data": {
      "application/vnd.jupyter.widget-view+json": {
       "model_id": "a8989d5873574ea383c1756e753ec621",
       "version_major": 2,
       "version_minor": 0
      },
      "text/plain": [
       "  0%|          | 0/2 [00:00<?, ?batch/s]"
      ]
     },
     "metadata": {},
     "output_type": "display_data"
    },
    {
     "name": "stdout",
     "output_type": "stream",
     "text": [
      "Epoch 132, Val Loss: 0.000596, Val R2: 0.999408\n"
     ]
    },
    {
     "data": {
      "application/vnd.jupyter.widget-view+json": {
       "model_id": "898951b76639480eb114656fa37e73f8",
       "version_major": 2,
       "version_minor": 0
      },
      "text/plain": [
       "  0%|          | 0/2 [00:00<?, ?batch/s]"
      ]
     },
     "metadata": {},
     "output_type": "display_data"
    },
    {
     "name": "stdout",
     "output_type": "stream",
     "text": [
      "Epoch 133, Val Loss: 0.000588, Val R2: 0.999415\n"
     ]
    },
    {
     "data": {
      "application/vnd.jupyter.widget-view+json": {
       "model_id": "707598242b604f0f9066cc0ef5a993cb",
       "version_major": 2,
       "version_minor": 0
      },
      "text/plain": [
       "  0%|          | 0/2 [00:00<?, ?batch/s]"
      ]
     },
     "metadata": {},
     "output_type": "display_data"
    },
    {
     "name": "stdout",
     "output_type": "stream",
     "text": [
      "Epoch 134, Val Loss: 0.000581, Val R2: 0.999423\n"
     ]
    },
    {
     "data": {
      "application/vnd.jupyter.widget-view+json": {
       "model_id": "6e3efac4e48e41acab41b20322c1f204",
       "version_major": 2,
       "version_minor": 0
      },
      "text/plain": [
       "  0%|          | 0/2 [00:00<?, ?batch/s]"
      ]
     },
     "metadata": {},
     "output_type": "display_data"
    },
    {
     "name": "stdout",
     "output_type": "stream",
     "text": [
      "Epoch 135, Val Loss: 0.000573, Val R2: 0.999430\n"
     ]
    },
    {
     "data": {
      "application/vnd.jupyter.widget-view+json": {
       "model_id": "9110a0a6a9264f2dafdfc86d5bd36247",
       "version_major": 2,
       "version_minor": 0
      },
      "text/plain": [
       "  0%|          | 0/2 [00:00<?, ?batch/s]"
      ]
     },
     "metadata": {},
     "output_type": "display_data"
    },
    {
     "name": "stdout",
     "output_type": "stream",
     "text": [
      "Epoch 136, Val Loss: 0.000566, Val R2: 0.999438\n"
     ]
    },
    {
     "data": {
      "application/vnd.jupyter.widget-view+json": {
       "model_id": "b632f3d1c46a4537b74d065d7471ae5c",
       "version_major": 2,
       "version_minor": 0
      },
      "text/plain": [
       "  0%|          | 0/2 [00:00<?, ?batch/s]"
      ]
     },
     "metadata": {},
     "output_type": "display_data"
    },
    {
     "name": "stdout",
     "output_type": "stream",
     "text": [
      "Epoch 137, Val Loss: 0.000558, Val R2: 0.999445\n"
     ]
    },
    {
     "data": {
      "application/vnd.jupyter.widget-view+json": {
       "model_id": "aa5f6a411a0d43ee9c7d0b4542008341",
       "version_major": 2,
       "version_minor": 0
      },
      "text/plain": [
       "  0%|          | 0/2 [00:00<?, ?batch/s]"
      ]
     },
     "metadata": {},
     "output_type": "display_data"
    },
    {
     "name": "stdout",
     "output_type": "stream",
     "text": [
      "Epoch 138, Val Loss: 0.000551, Val R2: 0.999452\n"
     ]
    },
    {
     "data": {
      "application/vnd.jupyter.widget-view+json": {
       "model_id": "5ea3e047f35a4a84a4ddeb441f401c0b",
       "version_major": 2,
       "version_minor": 0
      },
      "text/plain": [
       "  0%|          | 0/2 [00:00<?, ?batch/s]"
      ]
     },
     "metadata": {},
     "output_type": "display_data"
    },
    {
     "name": "stdout",
     "output_type": "stream",
     "text": [
      "Epoch 139, Val Loss: 0.000544, Val R2: 0.999459\n"
     ]
    },
    {
     "data": {
      "application/vnd.jupyter.widget-view+json": {
       "model_id": "d6f7985fd62346faaf6b42e8de31798e",
       "version_major": 2,
       "version_minor": 0
      },
      "text/plain": [
       "  0%|          | 0/2 [00:00<?, ?batch/s]"
      ]
     },
     "metadata": {},
     "output_type": "display_data"
    },
    {
     "name": "stdout",
     "output_type": "stream",
     "text": [
      "Epoch 140, Val Loss: 0.000537, Val R2: 0.999466\n"
     ]
    },
    {
     "data": {
      "application/vnd.jupyter.widget-view+json": {
       "model_id": "1788dcc9d13244978621782f36e749b9",
       "version_major": 2,
       "version_minor": 0
      },
      "text/plain": [
       "  0%|          | 0/2 [00:00<?, ?batch/s]"
      ]
     },
     "metadata": {},
     "output_type": "display_data"
    },
    {
     "name": "stdout",
     "output_type": "stream",
     "text": [
      "Epoch 141, Val Loss: 0.000530, Val R2: 0.999473\n"
     ]
    },
    {
     "data": {
      "application/vnd.jupyter.widget-view+json": {
       "model_id": "45329acdf36e4cf3836863732c49b216",
       "version_major": 2,
       "version_minor": 0
      },
      "text/plain": [
       "  0%|          | 0/2 [00:00<?, ?batch/s]"
      ]
     },
     "metadata": {},
     "output_type": "display_data"
    },
    {
     "name": "stdout",
     "output_type": "stream",
     "text": [
      "Epoch 142, Val Loss: 0.000524, Val R2: 0.999480\n"
     ]
    },
    {
     "data": {
      "application/vnd.jupyter.widget-view+json": {
       "model_id": "5ed7c8d8e1bb4429aaef42f87c29c69b",
       "version_major": 2,
       "version_minor": 0
      },
      "text/plain": [
       "  0%|          | 0/2 [00:00<?, ?batch/s]"
      ]
     },
     "metadata": {},
     "output_type": "display_data"
    },
    {
     "name": "stdout",
     "output_type": "stream",
     "text": [
      "Epoch 143, Val Loss: 0.000517, Val R2: 0.999486\n"
     ]
    },
    {
     "data": {
      "application/vnd.jupyter.widget-view+json": {
       "model_id": "3d3220d41d2849b6a8c6d19b21aeef2b",
       "version_major": 2,
       "version_minor": 0
      },
      "text/plain": [
       "  0%|          | 0/2 [00:00<?, ?batch/s]"
      ]
     },
     "metadata": {},
     "output_type": "display_data"
    },
    {
     "name": "stdout",
     "output_type": "stream",
     "text": [
      "Epoch 144, Val Loss: 0.000511, Val R2: 0.999493\n"
     ]
    },
    {
     "data": {
      "application/vnd.jupyter.widget-view+json": {
       "model_id": "d904aa3294994435bcd56cdf3ddf882e",
       "version_major": 2,
       "version_minor": 0
      },
      "text/plain": [
       "  0%|          | 0/2 [00:00<?, ?batch/s]"
      ]
     },
     "metadata": {},
     "output_type": "display_data"
    },
    {
     "name": "stdout",
     "output_type": "stream",
     "text": [
      "Epoch 145, Val Loss: 0.000504, Val R2: 0.999499\n"
     ]
    },
    {
     "data": {
      "application/vnd.jupyter.widget-view+json": {
       "model_id": "9006f8440e304e83937838292673a4c9",
       "version_major": 2,
       "version_minor": 0
      },
      "text/plain": [
       "  0%|          | 0/2 [00:00<?, ?batch/s]"
      ]
     },
     "metadata": {},
     "output_type": "display_data"
    },
    {
     "name": "stdout",
     "output_type": "stream",
     "text": [
      "Epoch 146, Val Loss: 0.000498, Val R2: 0.999505\n"
     ]
    },
    {
     "data": {
      "application/vnd.jupyter.widget-view+json": {
       "model_id": "8c3c950251784f84b533bd5ce781a748",
       "version_major": 2,
       "version_minor": 0
      },
      "text/plain": [
       "  0%|          | 0/2 [00:00<?, ?batch/s]"
      ]
     },
     "metadata": {},
     "output_type": "display_data"
    },
    {
     "name": "stdout",
     "output_type": "stream",
     "text": [
      "Epoch 147, Val Loss: 0.000492, Val R2: 0.999511\n"
     ]
    },
    {
     "data": {
      "application/vnd.jupyter.widget-view+json": {
       "model_id": "8d78efd4efa74e1ca96bf7aff386bd61",
       "version_major": 2,
       "version_minor": 0
      },
      "text/plain": [
       "  0%|          | 0/2 [00:00<?, ?batch/s]"
      ]
     },
     "metadata": {},
     "output_type": "display_data"
    },
    {
     "name": "stdout",
     "output_type": "stream",
     "text": [
      "Epoch 148, Val Loss: 0.000486, Val R2: 0.999517\n"
     ]
    },
    {
     "data": {
      "application/vnd.jupyter.widget-view+json": {
       "model_id": "cfdcc722b0ad4002aa139c9a88f68927",
       "version_major": 2,
       "version_minor": 0
      },
      "text/plain": [
       "  0%|          | 0/2 [00:00<?, ?batch/s]"
      ]
     },
     "metadata": {},
     "output_type": "display_data"
    },
    {
     "name": "stdout",
     "output_type": "stream",
     "text": [
      "Epoch 149, Val Loss: 0.000480, Val R2: 0.999523\n"
     ]
    },
    {
     "data": {
      "application/vnd.jupyter.widget-view+json": {
       "model_id": "13bb10b2783a436f81a568c9aa621e47",
       "version_major": 2,
       "version_minor": 0
      },
      "text/plain": [
       "  0%|          | 0/2 [00:00<?, ?batch/s]"
      ]
     },
     "metadata": {},
     "output_type": "display_data"
    },
    {
     "name": "stdout",
     "output_type": "stream",
     "text": [
      "Epoch 150, Val Loss: 0.000474, Val R2: 0.999529\n"
     ]
    },
    {
     "data": {
      "application/vnd.jupyter.widget-view+json": {
       "model_id": "568034b2200b49f48608a4e84df0ca94",
       "version_major": 2,
       "version_minor": 0
      },
      "text/plain": [
       "  0%|          | 0/2 [00:00<?, ?batch/s]"
      ]
     },
     "metadata": {},
     "output_type": "display_data"
    },
    {
     "name": "stdout",
     "output_type": "stream",
     "text": [
      "Epoch 151, Val Loss: 0.000468, Val R2: 0.999535\n"
     ]
    },
    {
     "data": {
      "application/vnd.jupyter.widget-view+json": {
       "model_id": "70ee305340a14d2d944af2261a186bdb",
       "version_major": 2,
       "version_minor": 0
      },
      "text/plain": [
       "  0%|          | 0/2 [00:00<?, ?batch/s]"
      ]
     },
     "metadata": {},
     "output_type": "display_data"
    },
    {
     "name": "stdout",
     "output_type": "stream",
     "text": [
      "Epoch 152, Val Loss: 0.000462, Val R2: 0.999541\n"
     ]
    },
    {
     "data": {
      "application/vnd.jupyter.widget-view+json": {
       "model_id": "b9723fcdda9648b4bb8afd0f6984d602",
       "version_major": 2,
       "version_minor": 0
      },
      "text/plain": [
       "  0%|          | 0/2 [00:00<?, ?batch/s]"
      ]
     },
     "metadata": {},
     "output_type": "display_data"
    },
    {
     "name": "stdout",
     "output_type": "stream",
     "text": [
      "Epoch 153, Val Loss: 0.000457, Val R2: 0.999546\n"
     ]
    },
    {
     "data": {
      "application/vnd.jupyter.widget-view+json": {
       "model_id": "da41077ad69a498f8b41062bfc084461",
       "version_major": 2,
       "version_minor": 0
      },
      "text/plain": [
       "  0%|          | 0/2 [00:00<?, ?batch/s]"
      ]
     },
     "metadata": {},
     "output_type": "display_data"
    },
    {
     "name": "stdout",
     "output_type": "stream",
     "text": [
      "Epoch 154, Val Loss: 0.000451, Val R2: 0.999552\n"
     ]
    },
    {
     "data": {
      "application/vnd.jupyter.widget-view+json": {
       "model_id": "365beb9efa7d423fb7e36f3bc77ea1cb",
       "version_major": 2,
       "version_minor": 0
      },
      "text/plain": [
       "  0%|          | 0/2 [00:00<?, ?batch/s]"
      ]
     },
     "metadata": {},
     "output_type": "display_data"
    },
    {
     "name": "stdout",
     "output_type": "stream",
     "text": [
      "Epoch 155, Val Loss: 0.000446, Val R2: 0.999557\n"
     ]
    },
    {
     "data": {
      "application/vnd.jupyter.widget-view+json": {
       "model_id": "01647755265f41d3b8a7808e45ce29fd",
       "version_major": 2,
       "version_minor": 0
      },
      "text/plain": [
       "  0%|          | 0/2 [00:00<?, ?batch/s]"
      ]
     },
     "metadata": {},
     "output_type": "display_data"
    },
    {
     "name": "stdout",
     "output_type": "stream",
     "text": [
      "Epoch 156, Val Loss: 0.000440, Val R2: 0.999563\n"
     ]
    },
    {
     "data": {
      "application/vnd.jupyter.widget-view+json": {
       "model_id": "7c3a4ba2dd164b2d8aabcc2ceb32f9f0",
       "version_major": 2,
       "version_minor": 0
      },
      "text/plain": [
       "  0%|          | 0/2 [00:00<?, ?batch/s]"
      ]
     },
     "metadata": {},
     "output_type": "display_data"
    },
    {
     "name": "stdout",
     "output_type": "stream",
     "text": [
      "Epoch 157, Val Loss: 0.000435, Val R2: 0.999568\n"
     ]
    },
    {
     "data": {
      "application/vnd.jupyter.widget-view+json": {
       "model_id": "aa203f458a424a238b8b909851f24901",
       "version_major": 2,
       "version_minor": 0
      },
      "text/plain": [
       "  0%|          | 0/2 [00:00<?, ?batch/s]"
      ]
     },
     "metadata": {},
     "output_type": "display_data"
    },
    {
     "name": "stdout",
     "output_type": "stream",
     "text": [
      "Epoch 158, Val Loss: 0.000430, Val R2: 0.999573\n"
     ]
    },
    {
     "data": {
      "application/vnd.jupyter.widget-view+json": {
       "model_id": "1ad83f1455a844928b923aeeab7189e4",
       "version_major": 2,
       "version_minor": 0
      },
      "text/plain": [
       "  0%|          | 0/2 [00:00<?, ?batch/s]"
      ]
     },
     "metadata": {},
     "output_type": "display_data"
    },
    {
     "name": "stdout",
     "output_type": "stream",
     "text": [
      "Epoch 159, Val Loss: 0.000425, Val R2: 0.999578\n"
     ]
    },
    {
     "data": {
      "application/vnd.jupyter.widget-view+json": {
       "model_id": "4a1d6d6b4a8947a99df017535dfa96b6",
       "version_major": 2,
       "version_minor": 0
      },
      "text/plain": [
       "  0%|          | 0/2 [00:00<?, ?batch/s]"
      ]
     },
     "metadata": {},
     "output_type": "display_data"
    },
    {
     "name": "stdout",
     "output_type": "stream",
     "text": [
      "Epoch 160, Val Loss: 0.000420, Val R2: 0.999583\n"
     ]
    },
    {
     "data": {
      "application/vnd.jupyter.widget-view+json": {
       "model_id": "05e027f12a5c42b182715568d6448af8",
       "version_major": 2,
       "version_minor": 0
      },
      "text/plain": [
       "  0%|          | 0/2 [00:00<?, ?batch/s]"
      ]
     },
     "metadata": {},
     "output_type": "display_data"
    },
    {
     "name": "stdout",
     "output_type": "stream",
     "text": [
      "Epoch 161, Val Loss: 0.000415, Val R2: 0.999588\n"
     ]
    },
    {
     "data": {
      "application/vnd.jupyter.widget-view+json": {
       "model_id": "049bc043631b4a04bd4c03d7a6ddea19",
       "version_major": 2,
       "version_minor": 0
      },
      "text/plain": [
       "  0%|          | 0/2 [00:00<?, ?batch/s]"
      ]
     },
     "metadata": {},
     "output_type": "display_data"
    },
    {
     "name": "stdout",
     "output_type": "stream",
     "text": [
      "Epoch 162, Val Loss: 0.000410, Val R2: 0.999593\n"
     ]
    },
    {
     "data": {
      "application/vnd.jupyter.widget-view+json": {
       "model_id": "0d53c305871a42eb822526191f5fc4c6",
       "version_major": 2,
       "version_minor": 0
      },
      "text/plain": [
       "  0%|          | 0/2 [00:00<?, ?batch/s]"
      ]
     },
     "metadata": {},
     "output_type": "display_data"
    },
    {
     "name": "stdout",
     "output_type": "stream",
     "text": [
      "Epoch 163, Val Loss: 0.000405, Val R2: 0.999597\n"
     ]
    },
    {
     "data": {
      "application/vnd.jupyter.widget-view+json": {
       "model_id": "aa9ac131fa98491d8dd60ad961adc2ac",
       "version_major": 2,
       "version_minor": 0
      },
      "text/plain": [
       "  0%|          | 0/2 [00:00<?, ?batch/s]"
      ]
     },
     "metadata": {},
     "output_type": "display_data"
    },
    {
     "name": "stdout",
     "output_type": "stream",
     "text": [
      "Epoch 164, Val Loss: 0.000401, Val R2: 0.999602\n"
     ]
    },
    {
     "data": {
      "application/vnd.jupyter.widget-view+json": {
       "model_id": "8e2e781ac1104506a2971a1a7f6f04f3",
       "version_major": 2,
       "version_minor": 0
      },
      "text/plain": [
       "  0%|          | 0/2 [00:00<?, ?batch/s]"
      ]
     },
     "metadata": {},
     "output_type": "display_data"
    },
    {
     "name": "stdout",
     "output_type": "stream",
     "text": [
      "Epoch 165, Val Loss: 0.000396, Val R2: 0.999607\n"
     ]
    },
    {
     "data": {
      "application/vnd.jupyter.widget-view+json": {
       "model_id": "4f3c64519a0f40319b4562e351f4a36d",
       "version_major": 2,
       "version_minor": 0
      },
      "text/plain": [
       "  0%|          | 0/2 [00:00<?, ?batch/s]"
      ]
     },
     "metadata": {},
     "output_type": "display_data"
    },
    {
     "name": "stdout",
     "output_type": "stream",
     "text": [
      "Epoch 166, Val Loss: 0.000391, Val R2: 0.999611\n"
     ]
    },
    {
     "data": {
      "application/vnd.jupyter.widget-view+json": {
       "model_id": "590976d08451485c945c8cff47b43eee",
       "version_major": 2,
       "version_minor": 0
      },
      "text/plain": [
       "  0%|          | 0/2 [00:00<?, ?batch/s]"
      ]
     },
     "metadata": {},
     "output_type": "display_data"
    },
    {
     "name": "stdout",
     "output_type": "stream",
     "text": [
      "Epoch 167, Val Loss: 0.000387, Val R2: 0.999616\n"
     ]
    },
    {
     "data": {
      "application/vnd.jupyter.widget-view+json": {
       "model_id": "6b3c6fd718a444208921e5bf5af245ae",
       "version_major": 2,
       "version_minor": 0
      },
      "text/plain": [
       "  0%|          | 0/2 [00:00<?, ?batch/s]"
      ]
     },
     "metadata": {},
     "output_type": "display_data"
    },
    {
     "name": "stdout",
     "output_type": "stream",
     "text": [
      "Epoch 168, Val Loss: 0.000382, Val R2: 0.999620\n"
     ]
    },
    {
     "data": {
      "application/vnd.jupyter.widget-view+json": {
       "model_id": "3ad7077f83fd44a9973067df47f40d5e",
       "version_major": 2,
       "version_minor": 0
      },
      "text/plain": [
       "  0%|          | 0/2 [00:00<?, ?batch/s]"
      ]
     },
     "metadata": {},
     "output_type": "display_data"
    },
    {
     "name": "stdout",
     "output_type": "stream",
     "text": [
      "Epoch 169, Val Loss: 0.000378, Val R2: 0.999624\n"
     ]
    },
    {
     "data": {
      "application/vnd.jupyter.widget-view+json": {
       "model_id": "5b46c549b37a4ace9c3d25416f682584",
       "version_major": 2,
       "version_minor": 0
      },
      "text/plain": [
       "  0%|          | 0/2 [00:00<?, ?batch/s]"
      ]
     },
     "metadata": {},
     "output_type": "display_data"
    },
    {
     "name": "stdout",
     "output_type": "stream",
     "text": [
      "Epoch 170, Val Loss: 0.000374, Val R2: 0.999629\n"
     ]
    },
    {
     "data": {
      "application/vnd.jupyter.widget-view+json": {
       "model_id": "de61f5f1f45b4ca1a1c05ef4c0721261",
       "version_major": 2,
       "version_minor": 0
      },
      "text/plain": [
       "  0%|          | 0/2 [00:00<?, ?batch/s]"
      ]
     },
     "metadata": {},
     "output_type": "display_data"
    },
    {
     "name": "stdout",
     "output_type": "stream",
     "text": [
      "Epoch 171, Val Loss: 0.000370, Val R2: 0.999633\n"
     ]
    },
    {
     "data": {
      "application/vnd.jupyter.widget-view+json": {
       "model_id": "966a0a55b8cb453e8edccd5b17c9445a",
       "version_major": 2,
       "version_minor": 0
      },
      "text/plain": [
       "  0%|          | 0/2 [00:00<?, ?batch/s]"
      ]
     },
     "metadata": {},
     "output_type": "display_data"
    },
    {
     "name": "stdout",
     "output_type": "stream",
     "text": [
      "Epoch 172, Val Loss: 0.000366, Val R2: 0.999637\n"
     ]
    },
    {
     "data": {
      "application/vnd.jupyter.widget-view+json": {
       "model_id": "46338267956743ae85dd975f01e4736f",
       "version_major": 2,
       "version_minor": 0
      },
      "text/plain": [
       "  0%|          | 0/2 [00:00<?, ?batch/s]"
      ]
     },
     "metadata": {},
     "output_type": "display_data"
    },
    {
     "name": "stdout",
     "output_type": "stream",
     "text": [
      "Epoch 173, Val Loss: 0.000362, Val R2: 0.999641\n"
     ]
    },
    {
     "data": {
      "application/vnd.jupyter.widget-view+json": {
       "model_id": "166dc99e34fc41daa8f8b6103c6eb85b",
       "version_major": 2,
       "version_minor": 0
      },
      "text/plain": [
       "  0%|          | 0/2 [00:00<?, ?batch/s]"
      ]
     },
     "metadata": {},
     "output_type": "display_data"
    },
    {
     "name": "stdout",
     "output_type": "stream",
     "text": [
      "Epoch 174, Val Loss: 0.000358, Val R2: 0.999645\n"
     ]
    },
    {
     "data": {
      "application/vnd.jupyter.widget-view+json": {
       "model_id": "a3d363c029d548059c0f217bc16e380a",
       "version_major": 2,
       "version_minor": 0
      },
      "text/plain": [
       "  0%|          | 0/2 [00:00<?, ?batch/s]"
      ]
     },
     "metadata": {},
     "output_type": "display_data"
    },
    {
     "name": "stdout",
     "output_type": "stream",
     "text": [
      "Epoch 175, Val Loss: 0.000354, Val R2: 0.999649\n"
     ]
    },
    {
     "data": {
      "application/vnd.jupyter.widget-view+json": {
       "model_id": "e263acb504fb4fa090b321f285b931e4",
       "version_major": 2,
       "version_minor": 0
      },
      "text/plain": [
       "  0%|          | 0/2 [00:00<?, ?batch/s]"
      ]
     },
     "metadata": {},
     "output_type": "display_data"
    },
    {
     "name": "stdout",
     "output_type": "stream",
     "text": [
      "Epoch 176, Val Loss: 0.000350, Val R2: 0.999653\n"
     ]
    },
    {
     "data": {
      "application/vnd.jupyter.widget-view+json": {
       "model_id": "09829f59f2e5477d9b357d669245f450",
       "version_major": 2,
       "version_minor": 0
      },
      "text/plain": [
       "  0%|          | 0/2 [00:00<?, ?batch/s]"
      ]
     },
     "metadata": {},
     "output_type": "display_data"
    },
    {
     "name": "stdout",
     "output_type": "stream",
     "text": [
      "Epoch 177, Val Loss: 0.000346, Val R2: 0.999656\n"
     ]
    },
    {
     "data": {
      "application/vnd.jupyter.widget-view+json": {
       "model_id": "4bb6feffc4294ef0b2e733c0c7221300",
       "version_major": 2,
       "version_minor": 0
      },
      "text/plain": [
       "  0%|          | 0/2 [00:00<?, ?batch/s]"
      ]
     },
     "metadata": {},
     "output_type": "display_data"
    },
    {
     "name": "stdout",
     "output_type": "stream",
     "text": [
      "Epoch 178, Val Loss: 0.000342, Val R2: 0.999660\n"
     ]
    },
    {
     "data": {
      "application/vnd.jupyter.widget-view+json": {
       "model_id": "1a80b620e3984d1694074068f6df6d58",
       "version_major": 2,
       "version_minor": 0
      },
      "text/plain": [
       "  0%|          | 0/2 [00:00<?, ?batch/s]"
      ]
     },
     "metadata": {},
     "output_type": "display_data"
    },
    {
     "name": "stdout",
     "output_type": "stream",
     "text": [
      "Epoch 179, Val Loss: 0.000339, Val R2: 0.999664\n"
     ]
    },
    {
     "data": {
      "application/vnd.jupyter.widget-view+json": {
       "model_id": "b6aa7871cb764c8fbb605158774a0888",
       "version_major": 2,
       "version_minor": 0
      },
      "text/plain": [
       "  0%|          | 0/2 [00:00<?, ?batch/s]"
      ]
     },
     "metadata": {},
     "output_type": "display_data"
    },
    {
     "name": "stdout",
     "output_type": "stream",
     "text": [
      "Epoch 180, Val Loss: 0.000335, Val R2: 0.999667\n"
     ]
    },
    {
     "data": {
      "application/vnd.jupyter.widget-view+json": {
       "model_id": "3c5301fd31d343619c7083538aa427df",
       "version_major": 2,
       "version_minor": 0
      },
      "text/plain": [
       "  0%|          | 0/2 [00:00<?, ?batch/s]"
      ]
     },
     "metadata": {},
     "output_type": "display_data"
    },
    {
     "name": "stdout",
     "output_type": "stream",
     "text": [
      "Epoch 181, Val Loss: 0.000331, Val R2: 0.999671\n"
     ]
    },
    {
     "data": {
      "application/vnd.jupyter.widget-view+json": {
       "model_id": "fa4da607e1d04064b90dc591be32d09e",
       "version_major": 2,
       "version_minor": 0
      },
      "text/plain": [
       "  0%|          | 0/2 [00:00<?, ?batch/s]"
      ]
     },
     "metadata": {},
     "output_type": "display_data"
    },
    {
     "name": "stdout",
     "output_type": "stream",
     "text": [
      "Epoch 182, Val Loss: 0.000328, Val R2: 0.999674\n"
     ]
    },
    {
     "data": {
      "application/vnd.jupyter.widget-view+json": {
       "model_id": "a85cb71e8b814302bf3d0186b94bc2da",
       "version_major": 2,
       "version_minor": 0
      },
      "text/plain": [
       "  0%|          | 0/2 [00:00<?, ?batch/s]"
      ]
     },
     "metadata": {},
     "output_type": "display_data"
    },
    {
     "name": "stdout",
     "output_type": "stream",
     "text": [
      "Epoch 183, Val Loss: 0.000324, Val R2: 0.999678\n"
     ]
    },
    {
     "data": {
      "application/vnd.jupyter.widget-view+json": {
       "model_id": "f5e86f5b1a264a7d9cca5b32cd948267",
       "version_major": 2,
       "version_minor": 0
      },
      "text/plain": [
       "  0%|          | 0/2 [00:00<?, ?batch/s]"
      ]
     },
     "metadata": {},
     "output_type": "display_data"
    },
    {
     "name": "stdout",
     "output_type": "stream",
     "text": [
      "Epoch 184, Val Loss: 0.000321, Val R2: 0.999681\n"
     ]
    },
    {
     "data": {
      "application/vnd.jupyter.widget-view+json": {
       "model_id": "3e05870de197468b97d869e1badf5914",
       "version_major": 2,
       "version_minor": 0
      },
      "text/plain": [
       "  0%|          | 0/2 [00:00<?, ?batch/s]"
      ]
     },
     "metadata": {},
     "output_type": "display_data"
    },
    {
     "name": "stdout",
     "output_type": "stream",
     "text": [
      "Epoch 185, Val Loss: 0.000318, Val R2: 0.999684\n"
     ]
    },
    {
     "data": {
      "application/vnd.jupyter.widget-view+json": {
       "model_id": "d080c4c592714d31aea9e662d7126293",
       "version_major": 2,
       "version_minor": 0
      },
      "text/plain": [
       "  0%|          | 0/2 [00:00<?, ?batch/s]"
      ]
     },
     "metadata": {},
     "output_type": "display_data"
    },
    {
     "name": "stdout",
     "output_type": "stream",
     "text": [
      "Epoch 186, Val Loss: 0.000314, Val R2: 0.999688\n"
     ]
    },
    {
     "data": {
      "application/vnd.jupyter.widget-view+json": {
       "model_id": "1cfd54f6474245c0b67b90881d993aa1",
       "version_major": 2,
       "version_minor": 0
      },
      "text/plain": [
       "  0%|          | 0/2 [00:00<?, ?batch/s]"
      ]
     },
     "metadata": {},
     "output_type": "display_data"
    },
    {
     "name": "stdout",
     "output_type": "stream",
     "text": [
      "Epoch 187, Val Loss: 0.000311, Val R2: 0.999691\n"
     ]
    },
    {
     "data": {
      "application/vnd.jupyter.widget-view+json": {
       "model_id": "20fb9cab36794df896986737a9050777",
       "version_major": 2,
       "version_minor": 0
      },
      "text/plain": [
       "  0%|          | 0/2 [00:00<?, ?batch/s]"
      ]
     },
     "metadata": {},
     "output_type": "display_data"
    },
    {
     "name": "stdout",
     "output_type": "stream",
     "text": [
      "Epoch 188, Val Loss: 0.000308, Val R2: 0.999694\n"
     ]
    },
    {
     "data": {
      "application/vnd.jupyter.widget-view+json": {
       "model_id": "81b2825e31ac4b4ca6424e58518aae50",
       "version_major": 2,
       "version_minor": 0
      },
      "text/plain": [
       "  0%|          | 0/2 [00:00<?, ?batch/s]"
      ]
     },
     "metadata": {},
     "output_type": "display_data"
    },
    {
     "name": "stdout",
     "output_type": "stream",
     "text": [
      "Epoch 189, Val Loss: 0.000305, Val R2: 0.999697\n"
     ]
    },
    {
     "data": {
      "application/vnd.jupyter.widget-view+json": {
       "model_id": "6d1396759bc2418e8941f9252ba9d360",
       "version_major": 2,
       "version_minor": 0
      },
      "text/plain": [
       "  0%|          | 0/2 [00:00<?, ?batch/s]"
      ]
     },
     "metadata": {},
     "output_type": "display_data"
    },
    {
     "name": "stdout",
     "output_type": "stream",
     "text": [
      "Epoch 190, Val Loss: 0.000302, Val R2: 0.999700\n"
     ]
    },
    {
     "data": {
      "application/vnd.jupyter.widget-view+json": {
       "model_id": "650d83111f2a46a4b994c83cb3d2767f",
       "version_major": 2,
       "version_minor": 0
      },
      "text/plain": [
       "  0%|          | 0/2 [00:00<?, ?batch/s]"
      ]
     },
     "metadata": {},
     "output_type": "display_data"
    },
    {
     "name": "stdout",
     "output_type": "stream",
     "text": [
      "Epoch 191, Val Loss: 0.000299, Val R2: 0.999703\n"
     ]
    },
    {
     "data": {
      "application/vnd.jupyter.widget-view+json": {
       "model_id": "063e1d40a94049b9b1f3f042700f54ff",
       "version_major": 2,
       "version_minor": 0
      },
      "text/plain": [
       "  0%|          | 0/2 [00:00<?, ?batch/s]"
      ]
     },
     "metadata": {},
     "output_type": "display_data"
    },
    {
     "name": "stdout",
     "output_type": "stream",
     "text": [
      "Epoch 192, Val Loss: 0.000296, Val R2: 0.999706\n"
     ]
    },
    {
     "data": {
      "application/vnd.jupyter.widget-view+json": {
       "model_id": "252341e8fa294cffaf6db1e7646ef0f5",
       "version_major": 2,
       "version_minor": 0
      },
      "text/plain": [
       "  0%|          | 0/2 [00:00<?, ?batch/s]"
      ]
     },
     "metadata": {},
     "output_type": "display_data"
    },
    {
     "name": "stdout",
     "output_type": "stream",
     "text": [
      "Epoch 193, Val Loss: 0.000293, Val R2: 0.999709\n"
     ]
    },
    {
     "data": {
      "application/vnd.jupyter.widget-view+json": {
       "model_id": "b6120c3898d04e0db52888c949d0ee19",
       "version_major": 2,
       "version_minor": 0
      },
      "text/plain": [
       "  0%|          | 0/2 [00:00<?, ?batch/s]"
      ]
     },
     "metadata": {},
     "output_type": "display_data"
    },
    {
     "name": "stdout",
     "output_type": "stream",
     "text": [
      "Epoch 194, Val Loss: 0.000290, Val R2: 0.999712\n"
     ]
    },
    {
     "data": {
      "application/vnd.jupyter.widget-view+json": {
       "model_id": "929b8ca0317d4693935a47572ee90b29",
       "version_major": 2,
       "version_minor": 0
      },
      "text/plain": [
       "  0%|          | 0/2 [00:00<?, ?batch/s]"
      ]
     },
     "metadata": {},
     "output_type": "display_data"
    },
    {
     "name": "stdout",
     "output_type": "stream",
     "text": [
      "Epoch 195, Val Loss: 0.000287, Val R2: 0.999715\n"
     ]
    },
    {
     "data": {
      "application/vnd.jupyter.widget-view+json": {
       "model_id": "978f35688ad24a2ea027eaeaaa562b88",
       "version_major": 2,
       "version_minor": 0
      },
      "text/plain": [
       "  0%|          | 0/2 [00:00<?, ?batch/s]"
      ]
     },
     "metadata": {},
     "output_type": "display_data"
    },
    {
     "name": "stdout",
     "output_type": "stream",
     "text": [
      "Epoch 196, Val Loss: 0.000284, Val R2: 0.999718\n"
     ]
    },
    {
     "data": {
      "application/vnd.jupyter.widget-view+json": {
       "model_id": "4a54379c82ab40c7a7c0853f380a603d",
       "version_major": 2,
       "version_minor": 0
      },
      "text/plain": [
       "  0%|          | 0/2 [00:00<?, ?batch/s]"
      ]
     },
     "metadata": {},
     "output_type": "display_data"
    },
    {
     "name": "stdout",
     "output_type": "stream",
     "text": [
      "Epoch 197, Val Loss: 0.000282, Val R2: 0.999720\n"
     ]
    },
    {
     "data": {
      "application/vnd.jupyter.widget-view+json": {
       "model_id": "5b5c6c9f0ee142a985afecfae4a09524",
       "version_major": 2,
       "version_minor": 0
      },
      "text/plain": [
       "  0%|          | 0/2 [00:00<?, ?batch/s]"
      ]
     },
     "metadata": {},
     "output_type": "display_data"
    },
    {
     "name": "stdout",
     "output_type": "stream",
     "text": [
      "Epoch 198, Val Loss: 0.000279, Val R2: 0.999723\n"
     ]
    },
    {
     "data": {
      "application/vnd.jupyter.widget-view+json": {
       "model_id": "472419893d0b41078d033f93b01684d6",
       "version_major": 2,
       "version_minor": 0
      },
      "text/plain": [
       "  0%|          | 0/2 [00:00<?, ?batch/s]"
      ]
     },
     "metadata": {},
     "output_type": "display_data"
    },
    {
     "name": "stdout",
     "output_type": "stream",
     "text": [
      "Epoch 199, Val Loss: 0.000276, Val R2: 0.999726\n"
     ]
    },
    {
     "data": {
      "application/vnd.jupyter.widget-view+json": {
       "model_id": "dd4d89844996472eba8a505025d4a0c6",
       "version_major": 2,
       "version_minor": 0
      },
      "text/plain": [
       "  0%|          | 0/2 [00:00<?, ?batch/s]"
      ]
     },
     "metadata": {},
     "output_type": "display_data"
    },
    {
     "name": "stdout",
     "output_type": "stream",
     "text": [
      "Epoch 200, Val Loss: 0.000274, Val R2: 0.999728\n"
     ]
    },
    {
     "data": {
      "application/vnd.jupyter.widget-view+json": {
       "model_id": "b974b115c3e44c02a9e7defd0b298d0f",
       "version_major": 2,
       "version_minor": 0
      },
      "text/plain": [
       "  0%|          | 0/2 [00:00<?, ?batch/s]"
      ]
     },
     "metadata": {},
     "output_type": "display_data"
    },
    {
     "name": "stdout",
     "output_type": "stream",
     "text": [
      "Epoch 201, Val Loss: 0.000271, Val R2: 0.999731\n"
     ]
    },
    {
     "data": {
      "application/vnd.jupyter.widget-view+json": {
       "model_id": "2cf43855b2c14c1ba09bf13b7c675f1f",
       "version_major": 2,
       "version_minor": 0
      },
      "text/plain": [
       "  0%|          | 0/2 [00:00<?, ?batch/s]"
      ]
     },
     "metadata": {},
     "output_type": "display_data"
    },
    {
     "name": "stdout",
     "output_type": "stream",
     "text": [
      "Epoch 202, Val Loss: 0.000269, Val R2: 0.999733\n"
     ]
    },
    {
     "data": {
      "application/vnd.jupyter.widget-view+json": {
       "model_id": "31c94cb551ec46c28f11d340ab616876",
       "version_major": 2,
       "version_minor": 0
      },
      "text/plain": [
       "  0%|          | 0/2 [00:00<?, ?batch/s]"
      ]
     },
     "metadata": {},
     "output_type": "display_data"
    },
    {
     "name": "stdout",
     "output_type": "stream",
     "text": [
      "Epoch 203, Val Loss: 0.000266, Val R2: 0.999736\n"
     ]
    },
    {
     "data": {
      "application/vnd.jupyter.widget-view+json": {
       "model_id": "5f455e1b38f74cfc98c302badc30bc90",
       "version_major": 2,
       "version_minor": 0
      },
      "text/plain": [
       "  0%|          | 0/2 [00:00<?, ?batch/s]"
      ]
     },
     "metadata": {},
     "output_type": "display_data"
    },
    {
     "name": "stdout",
     "output_type": "stream",
     "text": [
      "Epoch 204, Val Loss: 0.000264, Val R2: 0.999738\n"
     ]
    },
    {
     "data": {
      "application/vnd.jupyter.widget-view+json": {
       "model_id": "35185f06b60943f9b0bbbe1c588e9006",
       "version_major": 2,
       "version_minor": 0
      },
      "text/plain": [
       "  0%|          | 0/2 [00:00<?, ?batch/s]"
      ]
     },
     "metadata": {},
     "output_type": "display_data"
    },
    {
     "name": "stdout",
     "output_type": "stream",
     "text": [
      "Epoch 205, Val Loss: 0.000261, Val R2: 0.999741\n"
     ]
    },
    {
     "data": {
      "application/vnd.jupyter.widget-view+json": {
       "model_id": "2fc5440ac40e47a6b2d29366caf4c8a4",
       "version_major": 2,
       "version_minor": 0
      },
      "text/plain": [
       "  0%|          | 0/2 [00:00<?, ?batch/s]"
      ]
     },
     "metadata": {},
     "output_type": "display_data"
    },
    {
     "name": "stdout",
     "output_type": "stream",
     "text": [
      "Epoch 206, Val Loss: 0.000259, Val R2: 0.999743\n"
     ]
    },
    {
     "data": {
      "application/vnd.jupyter.widget-view+json": {
       "model_id": "e1a077f788eb46a1a3092c507fea4ad0",
       "version_major": 2,
       "version_minor": 0
      },
      "text/plain": [
       "  0%|          | 0/2 [00:00<?, ?batch/s]"
      ]
     },
     "metadata": {},
     "output_type": "display_data"
    },
    {
     "name": "stdout",
     "output_type": "stream",
     "text": [
      "Epoch 207, Val Loss: 0.000257, Val R2: 0.999745\n"
     ]
    },
    {
     "data": {
      "application/vnd.jupyter.widget-view+json": {
       "model_id": "4cd4b07c714d46aeb6e85131bcf618a5",
       "version_major": 2,
       "version_minor": 0
      },
      "text/plain": [
       "  0%|          | 0/2 [00:00<?, ?batch/s]"
      ]
     },
     "metadata": {},
     "output_type": "display_data"
    },
    {
     "name": "stdout",
     "output_type": "stream",
     "text": [
      "Epoch 208, Val Loss: 0.000254, Val R2: 0.999748\n"
     ]
    },
    {
     "data": {
      "application/vnd.jupyter.widget-view+json": {
       "model_id": "2a5ccdd3de0f4a6da543eabaed9c7d83",
       "version_major": 2,
       "version_minor": 0
      },
      "text/plain": [
       "  0%|          | 0/2 [00:00<?, ?batch/s]"
      ]
     },
     "metadata": {},
     "output_type": "display_data"
    },
    {
     "name": "stdout",
     "output_type": "stream",
     "text": [
      "Epoch 209, Val Loss: 0.000252, Val R2: 0.999750\n"
     ]
    },
    {
     "data": {
      "application/vnd.jupyter.widget-view+json": {
       "model_id": "9c28434510cc4e8c8bc1d887d0a660f8",
       "version_major": 2,
       "version_minor": 0
      },
      "text/plain": [
       "  0%|          | 0/2 [00:00<?, ?batch/s]"
      ]
     },
     "metadata": {},
     "output_type": "display_data"
    },
    {
     "name": "stdout",
     "output_type": "stream",
     "text": [
      "Epoch 210, Val Loss: 0.000250, Val R2: 0.999752\n"
     ]
    },
    {
     "data": {
      "application/vnd.jupyter.widget-view+json": {
       "model_id": "899828ea9c9c46e6851133083e37119c",
       "version_major": 2,
       "version_minor": 0
      },
      "text/plain": [
       "  0%|          | 0/2 [00:00<?, ?batch/s]"
      ]
     },
     "metadata": {},
     "output_type": "display_data"
    },
    {
     "name": "stdout",
     "output_type": "stream",
     "text": [
      "Epoch 211, Val Loss: 0.000248, Val R2: 0.999754\n"
     ]
    },
    {
     "data": {
      "application/vnd.jupyter.widget-view+json": {
       "model_id": "52c831c7738144ffa2805a15d8fb683b",
       "version_major": 2,
       "version_minor": 0
      },
      "text/plain": [
       "  0%|          | 0/2 [00:00<?, ?batch/s]"
      ]
     },
     "metadata": {},
     "output_type": "display_data"
    },
    {
     "name": "stdout",
     "output_type": "stream",
     "text": [
      "Epoch 212, Val Loss: 0.000245, Val R2: 0.999756\n"
     ]
    },
    {
     "data": {
      "application/vnd.jupyter.widget-view+json": {
       "model_id": "396a278bb86d48a5b28d357dca829691",
       "version_major": 2,
       "version_minor": 0
      },
      "text/plain": [
       "  0%|          | 0/2 [00:00<?, ?batch/s]"
      ]
     },
     "metadata": {},
     "output_type": "display_data"
    },
    {
     "name": "stdout",
     "output_type": "stream",
     "text": [
      "Epoch 213, Val Loss: 0.000243, Val R2: 0.999758\n"
     ]
    },
    {
     "data": {
      "application/vnd.jupyter.widget-view+json": {
       "model_id": "c42430b6abea42aca4d270b89cb6810a",
       "version_major": 2,
       "version_minor": 0
      },
      "text/plain": [
       "  0%|          | 0/2 [00:00<?, ?batch/s]"
      ]
     },
     "metadata": {},
     "output_type": "display_data"
    },
    {
     "name": "stdout",
     "output_type": "stream",
     "text": [
      "Epoch 214, Val Loss: 0.000241, Val R2: 0.999761\n"
     ]
    },
    {
     "data": {
      "application/vnd.jupyter.widget-view+json": {
       "model_id": "bcc3d26da9c64d94893e7d7d8d15da01",
       "version_major": 2,
       "version_minor": 0
      },
      "text/plain": [
       "  0%|          | 0/2 [00:00<?, ?batch/s]"
      ]
     },
     "metadata": {},
     "output_type": "display_data"
    },
    {
     "name": "stdout",
     "output_type": "stream",
     "text": [
      "Epoch 215, Val Loss: 0.000239, Val R2: 0.999763\n"
     ]
    },
    {
     "data": {
      "application/vnd.jupyter.widget-view+json": {
       "model_id": "2caf60b228044283a6fe3e4674cab2aa",
       "version_major": 2,
       "version_minor": 0
      },
      "text/plain": [
       "  0%|          | 0/2 [00:00<?, ?batch/s]"
      ]
     },
     "metadata": {},
     "output_type": "display_data"
    },
    {
     "name": "stdout",
     "output_type": "stream",
     "text": [
      "Epoch 216, Val Loss: 0.000237, Val R2: 0.999765\n"
     ]
    },
    {
     "data": {
      "application/vnd.jupyter.widget-view+json": {
       "model_id": "8ed39b0f80c248ce8476476a38fb4fdf",
       "version_major": 2,
       "version_minor": 0
      },
      "text/plain": [
       "  0%|          | 0/2 [00:00<?, ?batch/s]"
      ]
     },
     "metadata": {},
     "output_type": "display_data"
    },
    {
     "name": "stdout",
     "output_type": "stream",
     "text": [
      "Epoch 217, Val Loss: 0.000235, Val R2: 0.999767\n"
     ]
    },
    {
     "data": {
      "application/vnd.jupyter.widget-view+json": {
       "model_id": "dad44cf50cd945b2a0d9e685da767355",
       "version_major": 2,
       "version_minor": 0
      },
      "text/plain": [
       "  0%|          | 0/2 [00:00<?, ?batch/s]"
      ]
     },
     "metadata": {},
     "output_type": "display_data"
    },
    {
     "name": "stdout",
     "output_type": "stream",
     "text": [
      "Epoch 218, Val Loss: 0.000233, Val R2: 0.999769\n"
     ]
    },
    {
     "data": {
      "application/vnd.jupyter.widget-view+json": {
       "model_id": "209ea6fc91094c1d866bc8798b1562b0",
       "version_major": 2,
       "version_minor": 0
      },
      "text/plain": [
       "  0%|          | 0/2 [00:00<?, ?batch/s]"
      ]
     },
     "metadata": {},
     "output_type": "display_data"
    },
    {
     "name": "stdout",
     "output_type": "stream",
     "text": [
      "Epoch 219, Val Loss: 0.000231, Val R2: 0.999771\n"
     ]
    },
    {
     "data": {
      "application/vnd.jupyter.widget-view+json": {
       "model_id": "43daf8a094414f5ba4d309bdde2205f8",
       "version_major": 2,
       "version_minor": 0
      },
      "text/plain": [
       "  0%|          | 0/2 [00:00<?, ?batch/s]"
      ]
     },
     "metadata": {},
     "output_type": "display_data"
    },
    {
     "name": "stdout",
     "output_type": "stream",
     "text": [
      "Epoch 220, Val Loss: 0.000229, Val R2: 0.999772\n"
     ]
    },
    {
     "data": {
      "application/vnd.jupyter.widget-view+json": {
       "model_id": "ad3ca6f32ff6406cb35961b6fc941cc3",
       "version_major": 2,
       "version_minor": 0
      },
      "text/plain": [
       "  0%|          | 0/2 [00:00<?, ?batch/s]"
      ]
     },
     "metadata": {},
     "output_type": "display_data"
    },
    {
     "name": "stdout",
     "output_type": "stream",
     "text": [
      "Epoch 221, Val Loss: 0.000227, Val R2: 0.999774\n"
     ]
    },
    {
     "data": {
      "application/vnd.jupyter.widget-view+json": {
       "model_id": "fc52fbc2a5704307a6bd668cafb18335",
       "version_major": 2,
       "version_minor": 0
      },
      "text/plain": [
       "  0%|          | 0/2 [00:00<?, ?batch/s]"
      ]
     },
     "metadata": {},
     "output_type": "display_data"
    },
    {
     "name": "stdout",
     "output_type": "stream",
     "text": [
      "Epoch 222, Val Loss: 0.000225, Val R2: 0.999776\n"
     ]
    },
    {
     "data": {
      "application/vnd.jupyter.widget-view+json": {
       "model_id": "b585862798344d33a2ab18935e3ed585",
       "version_major": 2,
       "version_minor": 0
      },
      "text/plain": [
       "  0%|          | 0/2 [00:00<?, ?batch/s]"
      ]
     },
     "metadata": {},
     "output_type": "display_data"
    },
    {
     "name": "stdout",
     "output_type": "stream",
     "text": [
      "Epoch 223, Val Loss: 0.000224, Val R2: 0.999778\n"
     ]
    },
    {
     "data": {
      "application/vnd.jupyter.widget-view+json": {
       "model_id": "b794a776aa05405b84613e8e6b8d7862",
       "version_major": 2,
       "version_minor": 0
      },
      "text/plain": [
       "  0%|          | 0/2 [00:00<?, ?batch/s]"
      ]
     },
     "metadata": {},
     "output_type": "display_data"
    },
    {
     "name": "stdout",
     "output_type": "stream",
     "text": [
      "Epoch 224, Val Loss: 0.000222, Val R2: 0.999780\n"
     ]
    },
    {
     "data": {
      "application/vnd.jupyter.widget-view+json": {
       "model_id": "7783212b8bca48bfa9a23fede01c5e9b",
       "version_major": 2,
       "version_minor": 0
      },
      "text/plain": [
       "  0%|          | 0/2 [00:00<?, ?batch/s]"
      ]
     },
     "metadata": {},
     "output_type": "display_data"
    },
    {
     "name": "stdout",
     "output_type": "stream",
     "text": [
      "Epoch 225, Val Loss: 0.000220, Val R2: 0.999782\n"
     ]
    },
    {
     "data": {
      "application/vnd.jupyter.widget-view+json": {
       "model_id": "7f3a41a642c246acac0a1be131230e75",
       "version_major": 2,
       "version_minor": 0
      },
      "text/plain": [
       "  0%|          | 0/2 [00:00<?, ?batch/s]"
      ]
     },
     "metadata": {},
     "output_type": "display_data"
    },
    {
     "name": "stdout",
     "output_type": "stream",
     "text": [
      "Epoch 226, Val Loss: 0.000218, Val R2: 0.999783\n"
     ]
    },
    {
     "data": {
      "application/vnd.jupyter.widget-view+json": {
       "model_id": "8ce43ec9b2d64a268e0791a28fc293c0",
       "version_major": 2,
       "version_minor": 0
      },
      "text/plain": [
       "  0%|          | 0/2 [00:00<?, ?batch/s]"
      ]
     },
     "metadata": {},
     "output_type": "display_data"
    },
    {
     "name": "stdout",
     "output_type": "stream",
     "text": [
      "Epoch 227, Val Loss: 0.000216, Val R2: 0.999785\n"
     ]
    },
    {
     "data": {
      "application/vnd.jupyter.widget-view+json": {
       "model_id": "ead5b84cbdba485e9766f18413ffc89d",
       "version_major": 2,
       "version_minor": 0
      },
      "text/plain": [
       "  0%|          | 0/2 [00:00<?, ?batch/s]"
      ]
     },
     "metadata": {},
     "output_type": "display_data"
    },
    {
     "name": "stdout",
     "output_type": "stream",
     "text": [
      "Epoch 228, Val Loss: 0.000215, Val R2: 0.999787\n"
     ]
    },
    {
     "data": {
      "application/vnd.jupyter.widget-view+json": {
       "model_id": "ca521c4b3b2d4cdca0a1d86dfbfd75b0",
       "version_major": 2,
       "version_minor": 0
      },
      "text/plain": [
       "  0%|          | 0/2 [00:00<?, ?batch/s]"
      ]
     },
     "metadata": {},
     "output_type": "display_data"
    },
    {
     "name": "stdout",
     "output_type": "stream",
     "text": [
      "Epoch 229, Val Loss: 0.000213, Val R2: 0.999789\n"
     ]
    },
    {
     "data": {
      "application/vnd.jupyter.widget-view+json": {
       "model_id": "e880787f0fe7484a9a2f25b27d7df832",
       "version_major": 2,
       "version_minor": 0
      },
      "text/plain": [
       "  0%|          | 0/2 [00:00<?, ?batch/s]"
      ]
     },
     "metadata": {},
     "output_type": "display_data"
    },
    {
     "name": "stdout",
     "output_type": "stream",
     "text": [
      "Epoch 230, Val Loss: 0.000211, Val R2: 0.999790\n"
     ]
    },
    {
     "data": {
      "application/vnd.jupyter.widget-view+json": {
       "model_id": "9c777bd920db49cbaca22c2a785f25ce",
       "version_major": 2,
       "version_minor": 0
      },
      "text/plain": [
       "  0%|          | 0/2 [00:00<?, ?batch/s]"
      ]
     },
     "metadata": {},
     "output_type": "display_data"
    },
    {
     "name": "stdout",
     "output_type": "stream",
     "text": [
      "Epoch 231, Val Loss: 0.000210, Val R2: 0.999792\n"
     ]
    },
    {
     "data": {
      "application/vnd.jupyter.widget-view+json": {
       "model_id": "89ae50d133ff417584f654e87b67cdcd",
       "version_major": 2,
       "version_minor": 0
      },
      "text/plain": [
       "  0%|          | 0/2 [00:00<?, ?batch/s]"
      ]
     },
     "metadata": {},
     "output_type": "display_data"
    },
    {
     "name": "stdout",
     "output_type": "stream",
     "text": [
      "Epoch 232, Val Loss: 0.000208, Val R2: 0.999793\n"
     ]
    },
    {
     "data": {
      "application/vnd.jupyter.widget-view+json": {
       "model_id": "d95df8ac9a7445d29d0ed68da25adb86",
       "version_major": 2,
       "version_minor": 0
      },
      "text/plain": [
       "  0%|          | 0/2 [00:00<?, ?batch/s]"
      ]
     },
     "metadata": {},
     "output_type": "display_data"
    },
    {
     "name": "stdout",
     "output_type": "stream",
     "text": [
      "Epoch 233, Val Loss: 0.000206, Val R2: 0.999795\n"
     ]
    },
    {
     "data": {
      "application/vnd.jupyter.widget-view+json": {
       "model_id": "7b200bd2416c46d295a6eff35cb60e1c",
       "version_major": 2,
       "version_minor": 0
      },
      "text/plain": [
       "  0%|          | 0/2 [00:00<?, ?batch/s]"
      ]
     },
     "metadata": {},
     "output_type": "display_data"
    },
    {
     "name": "stdout",
     "output_type": "stream",
     "text": [
      "Epoch 234, Val Loss: 0.000205, Val R2: 0.999797\n"
     ]
    },
    {
     "data": {
      "application/vnd.jupyter.widget-view+json": {
       "model_id": "d66cfd006c604004846b69d14e31a77a",
       "version_major": 2,
       "version_minor": 0
      },
      "text/plain": [
       "  0%|          | 0/2 [00:00<?, ?batch/s]"
      ]
     },
     "metadata": {},
     "output_type": "display_data"
    },
    {
     "name": "stdout",
     "output_type": "stream",
     "text": [
      "Epoch 235, Val Loss: 0.000203, Val R2: 0.999798\n"
     ]
    },
    {
     "data": {
      "application/vnd.jupyter.widget-view+json": {
       "model_id": "9aca8ca3f30143068f8def65469fb6aa",
       "version_major": 2,
       "version_minor": 0
      },
      "text/plain": [
       "  0%|          | 0/2 [00:00<?, ?batch/s]"
      ]
     },
     "metadata": {},
     "output_type": "display_data"
    },
    {
     "name": "stdout",
     "output_type": "stream",
     "text": [
      "Epoch 236, Val Loss: 0.000202, Val R2: 0.999800\n"
     ]
    },
    {
     "data": {
      "application/vnd.jupyter.widget-view+json": {
       "model_id": "235e4c71cf504e80a2aaf003329080b7",
       "version_major": 2,
       "version_minor": 0
      },
      "text/plain": [
       "  0%|          | 0/2 [00:00<?, ?batch/s]"
      ]
     },
     "metadata": {},
     "output_type": "display_data"
    },
    {
     "name": "stdout",
     "output_type": "stream",
     "text": [
      "Epoch 237, Val Loss: 0.000200, Val R2: 0.999801\n"
     ]
    },
    {
     "data": {
      "application/vnd.jupyter.widget-view+json": {
       "model_id": "857b8b7e74644fde8d18a235733aaa36",
       "version_major": 2,
       "version_minor": 0
      },
      "text/plain": [
       "  0%|          | 0/2 [00:00<?, ?batch/s]"
      ]
     },
     "metadata": {},
     "output_type": "display_data"
    },
    {
     "name": "stdout",
     "output_type": "stream",
     "text": [
      "Epoch 238, Val Loss: 0.000199, Val R2: 0.999803\n"
     ]
    },
    {
     "data": {
      "application/vnd.jupyter.widget-view+json": {
       "model_id": "6e42f3fc01f54c0da463d018edcf4169",
       "version_major": 2,
       "version_minor": 0
      },
      "text/plain": [
       "  0%|          | 0/2 [00:00<?, ?batch/s]"
      ]
     },
     "metadata": {},
     "output_type": "display_data"
    },
    {
     "name": "stdout",
     "output_type": "stream",
     "text": [
      "Epoch 239, Val Loss: 0.000197, Val R2: 0.999804\n"
     ]
    },
    {
     "data": {
      "application/vnd.jupyter.widget-view+json": {
       "model_id": "ecb0d8a9f2c245769f6f6703c1272aa6",
       "version_major": 2,
       "version_minor": 0
      },
      "text/plain": [
       "  0%|          | 0/2 [00:00<?, ?batch/s]"
      ]
     },
     "metadata": {},
     "output_type": "display_data"
    },
    {
     "name": "stdout",
     "output_type": "stream",
     "text": [
      "Epoch 240, Val Loss: 0.000196, Val R2: 0.999806\n"
     ]
    },
    {
     "data": {
      "application/vnd.jupyter.widget-view+json": {
       "model_id": "8161e1f9fe454b48b46ea1ec823246fd",
       "version_major": 2,
       "version_minor": 0
      },
      "text/plain": [
       "  0%|          | 0/2 [00:00<?, ?batch/s]"
      ]
     },
     "metadata": {},
     "output_type": "display_data"
    },
    {
     "name": "stdout",
     "output_type": "stream",
     "text": [
      "Epoch 241, Val Loss: 0.000194, Val R2: 0.999807\n"
     ]
    },
    {
     "data": {
      "application/vnd.jupyter.widget-view+json": {
       "model_id": "68b6233734694236a7caed0681ff8484",
       "version_major": 2,
       "version_minor": 0
      },
      "text/plain": [
       "  0%|          | 0/2 [00:00<?, ?batch/s]"
      ]
     },
     "metadata": {},
     "output_type": "display_data"
    },
    {
     "name": "stdout",
     "output_type": "stream",
     "text": [
      "Epoch 242, Val Loss: 0.000193, Val R2: 0.999808\n"
     ]
    },
    {
     "data": {
      "application/vnd.jupyter.widget-view+json": {
       "model_id": "6ec0fb7c32804d84a877e5e9a64534ea",
       "version_major": 2,
       "version_minor": 0
      },
      "text/plain": [
       "  0%|          | 0/2 [00:00<?, ?batch/s]"
      ]
     },
     "metadata": {},
     "output_type": "display_data"
    },
    {
     "name": "stdout",
     "output_type": "stream",
     "text": [
      "Epoch 243, Val Loss: 0.000192, Val R2: 0.999810\n"
     ]
    },
    {
     "data": {
      "application/vnd.jupyter.widget-view+json": {
       "model_id": "a169de81d1764920bc2d62fe6d2b546f",
       "version_major": 2,
       "version_minor": 0
      },
      "text/plain": [
       "  0%|          | 0/2 [00:00<?, ?batch/s]"
      ]
     },
     "metadata": {},
     "output_type": "display_data"
    },
    {
     "name": "stdout",
     "output_type": "stream",
     "text": [
      "Epoch 244, Val Loss: 0.000190, Val R2: 0.999811\n"
     ]
    },
    {
     "data": {
      "application/vnd.jupyter.widget-view+json": {
       "model_id": "836e386242d04bf0bb6ad8064418ac47",
       "version_major": 2,
       "version_minor": 0
      },
      "text/plain": [
       "  0%|          | 0/2 [00:00<?, ?batch/s]"
      ]
     },
     "metadata": {},
     "output_type": "display_data"
    },
    {
     "name": "stdout",
     "output_type": "stream",
     "text": [
      "Epoch 245, Val Loss: 0.000189, Val R2: 0.999813\n"
     ]
    },
    {
     "data": {
      "application/vnd.jupyter.widget-view+json": {
       "model_id": "5fe3f9eb1d2343519a45c1bdaed684ca",
       "version_major": 2,
       "version_minor": 0
      },
      "text/plain": [
       "  0%|          | 0/2 [00:00<?, ?batch/s]"
      ]
     },
     "metadata": {},
     "output_type": "display_data"
    },
    {
     "name": "stdout",
     "output_type": "stream",
     "text": [
      "Epoch 246, Val Loss: 0.000187, Val R2: 0.999814\n"
     ]
    },
    {
     "data": {
      "application/vnd.jupyter.widget-view+json": {
       "model_id": "ed73ed28b70a4bb89fc5a9c26693a82a",
       "version_major": 2,
       "version_minor": 0
      },
      "text/plain": [
       "  0%|          | 0/2 [00:00<?, ?batch/s]"
      ]
     },
     "metadata": {},
     "output_type": "display_data"
    },
    {
     "name": "stdout",
     "output_type": "stream",
     "text": [
      "Epoch 247, Val Loss: 0.000186, Val R2: 0.999815\n"
     ]
    },
    {
     "data": {
      "application/vnd.jupyter.widget-view+json": {
       "model_id": "52bcd97998794db59b34635930517651",
       "version_major": 2,
       "version_minor": 0
      },
      "text/plain": [
       "  0%|          | 0/2 [00:00<?, ?batch/s]"
      ]
     },
     "metadata": {},
     "output_type": "display_data"
    },
    {
     "name": "stdout",
     "output_type": "stream",
     "text": [
      "Epoch 248, Val Loss: 0.000185, Val R2: 0.999817\n"
     ]
    },
    {
     "data": {
      "application/vnd.jupyter.widget-view+json": {
       "model_id": "ad953518446d4be39d775726747d28b2",
       "version_major": 2,
       "version_minor": 0
      },
      "text/plain": [
       "  0%|          | 0/2 [00:00<?, ?batch/s]"
      ]
     },
     "metadata": {},
     "output_type": "display_data"
    },
    {
     "name": "stdout",
     "output_type": "stream",
     "text": [
      "Epoch 249, Val Loss: 0.000184, Val R2: 0.999818\n"
     ]
    },
    {
     "data": {
      "application/vnd.jupyter.widget-view+json": {
       "model_id": "a53d59da78934bab9517872e4d3ffece",
       "version_major": 2,
       "version_minor": 0
      },
      "text/plain": [
       "  0%|          | 0/2 [00:00<?, ?batch/s]"
      ]
     },
     "metadata": {},
     "output_type": "display_data"
    },
    {
     "name": "stdout",
     "output_type": "stream",
     "text": [
      "Epoch 250, Val Loss: 0.000182, Val R2: 0.999819\n"
     ]
    },
    {
     "data": {
      "application/vnd.jupyter.widget-view+json": {
       "model_id": "f9d04bdc581849f2bafede2da0872d12",
       "version_major": 2,
       "version_minor": 0
      },
      "text/plain": [
       "  0%|          | 0/2 [00:00<?, ?batch/s]"
      ]
     },
     "metadata": {},
     "output_type": "display_data"
    },
    {
     "name": "stdout",
     "output_type": "stream",
     "text": [
      "Epoch 251, Val Loss: 0.000181, Val R2: 0.999820\n"
     ]
    },
    {
     "data": {
      "application/vnd.jupyter.widget-view+json": {
       "model_id": "906c26a7a5d448ed8d20d2d8b0b8bcec",
       "version_major": 2,
       "version_minor": 0
      },
      "text/plain": [
       "  0%|          | 0/2 [00:00<?, ?batch/s]"
      ]
     },
     "metadata": {},
     "output_type": "display_data"
    },
    {
     "name": "stdout",
     "output_type": "stream",
     "text": [
      "Epoch 252, Val Loss: 0.000180, Val R2: 0.999822\n"
     ]
    },
    {
     "data": {
      "application/vnd.jupyter.widget-view+json": {
       "model_id": "516b92813ce8449ead8b2c2bd74b3c8f",
       "version_major": 2,
       "version_minor": 0
      },
      "text/plain": [
       "  0%|          | 0/2 [00:00<?, ?batch/s]"
      ]
     },
     "metadata": {},
     "output_type": "display_data"
    },
    {
     "name": "stdout",
     "output_type": "stream",
     "text": [
      "Epoch 253, Val Loss: 0.000178, Val R2: 0.999823\n"
     ]
    },
    {
     "data": {
      "application/vnd.jupyter.widget-view+json": {
       "model_id": "b79fb90c606244bc8cb413bb895f2515",
       "version_major": 2,
       "version_minor": 0
      },
      "text/plain": [
       "  0%|          | 0/2 [00:00<?, ?batch/s]"
      ]
     },
     "metadata": {},
     "output_type": "display_data"
    },
    {
     "name": "stdout",
     "output_type": "stream",
     "text": [
      "Epoch 254, Val Loss: 0.000177, Val R2: 0.999824\n"
     ]
    },
    {
     "data": {
      "application/vnd.jupyter.widget-view+json": {
       "model_id": "978bea8666844762af376c5e0407b3fb",
       "version_major": 2,
       "version_minor": 0
      },
      "text/plain": [
       "  0%|          | 0/2 [00:00<?, ?batch/s]"
      ]
     },
     "metadata": {},
     "output_type": "display_data"
    },
    {
     "name": "stdout",
     "output_type": "stream",
     "text": [
      "Epoch 255, Val Loss: 0.000176, Val R2: 0.999825\n"
     ]
    },
    {
     "data": {
      "application/vnd.jupyter.widget-view+json": {
       "model_id": "c1fac216da8746dabb19708c092b3d66",
       "version_major": 2,
       "version_minor": 0
      },
      "text/plain": [
       "  0%|          | 0/2 [00:00<?, ?batch/s]"
      ]
     },
     "metadata": {},
     "output_type": "display_data"
    },
    {
     "name": "stdout",
     "output_type": "stream",
     "text": [
      "Epoch 256, Val Loss: 0.000175, Val R2: 0.999826\n"
     ]
    },
    {
     "data": {
      "application/vnd.jupyter.widget-view+json": {
       "model_id": "857d4d8f373341cab642660fee7ce2e1",
       "version_major": 2,
       "version_minor": 0
      },
      "text/plain": [
       "  0%|          | 0/2 [00:00<?, ?batch/s]"
      ]
     },
     "metadata": {},
     "output_type": "display_data"
    },
    {
     "name": "stdout",
     "output_type": "stream",
     "text": [
      "Epoch 257, Val Loss: 0.000174, Val R2: 0.999828\n"
     ]
    },
    {
     "data": {
      "application/vnd.jupyter.widget-view+json": {
       "model_id": "0d9401dd8c8545bfb2a4047c385aaf2d",
       "version_major": 2,
       "version_minor": 0
      },
      "text/plain": [
       "  0%|          | 0/2 [00:00<?, ?batch/s]"
      ]
     },
     "metadata": {},
     "output_type": "display_data"
    },
    {
     "name": "stdout",
     "output_type": "stream",
     "text": [
      "Epoch 258, Val Loss: 0.000173, Val R2: 0.999829\n"
     ]
    },
    {
     "data": {
      "application/vnd.jupyter.widget-view+json": {
       "model_id": "f8003990dfd74401817ef8cbd8dcc8ec",
       "version_major": 2,
       "version_minor": 0
      },
      "text/plain": [
       "  0%|          | 0/2 [00:00<?, ?batch/s]"
      ]
     },
     "metadata": {},
     "output_type": "display_data"
    },
    {
     "name": "stdout",
     "output_type": "stream",
     "text": [
      "Epoch 259, Val Loss: 0.000171, Val R2: 0.999830\n"
     ]
    },
    {
     "data": {
      "application/vnd.jupyter.widget-view+json": {
       "model_id": "17ef965f10b14bb681e23af06596dab7",
       "version_major": 2,
       "version_minor": 0
      },
      "text/plain": [
       "  0%|          | 0/2 [00:00<?, ?batch/s]"
      ]
     },
     "metadata": {},
     "output_type": "display_data"
    },
    {
     "name": "stdout",
     "output_type": "stream",
     "text": [
      "Epoch 260, Val Loss: 0.000170, Val R2: 0.999831\n"
     ]
    },
    {
     "data": {
      "application/vnd.jupyter.widget-view+json": {
       "model_id": "045f05ee3dbf416cb8ade7e313519aa4",
       "version_major": 2,
       "version_minor": 0
      },
      "text/plain": [
       "  0%|          | 0/2 [00:00<?, ?batch/s]"
      ]
     },
     "metadata": {},
     "output_type": "display_data"
    },
    {
     "name": "stdout",
     "output_type": "stream",
     "text": [
      "Epoch 261, Val Loss: 0.000169, Val R2: 0.999832\n"
     ]
    },
    {
     "data": {
      "application/vnd.jupyter.widget-view+json": {
       "model_id": "d6eb30929c8649e795d2623ea1000f8a",
       "version_major": 2,
       "version_minor": 0
      },
      "text/plain": [
       "  0%|          | 0/2 [00:00<?, ?batch/s]"
      ]
     },
     "metadata": {},
     "output_type": "display_data"
    },
    {
     "name": "stdout",
     "output_type": "stream",
     "text": [
      "Epoch 262, Val Loss: 0.000168, Val R2: 0.999833\n"
     ]
    },
    {
     "data": {
      "application/vnd.jupyter.widget-view+json": {
       "model_id": "90ff814964db4e34966c631bcea21b70",
       "version_major": 2,
       "version_minor": 0
      },
      "text/plain": [
       "  0%|          | 0/2 [00:00<?, ?batch/s]"
      ]
     },
     "metadata": {},
     "output_type": "display_data"
    },
    {
     "name": "stdout",
     "output_type": "stream",
     "text": [
      "Epoch 263, Val Loss: 0.000167, Val R2: 0.999834\n"
     ]
    },
    {
     "data": {
      "application/vnd.jupyter.widget-view+json": {
       "model_id": "74e96ed5e3114c50b7b7a33d31ad54f9",
       "version_major": 2,
       "version_minor": 0
      },
      "text/plain": [
       "  0%|          | 0/2 [00:00<?, ?batch/s]"
      ]
     },
     "metadata": {},
     "output_type": "display_data"
    },
    {
     "name": "stdout",
     "output_type": "stream",
     "text": [
      "Epoch 264, Val Loss: 0.000166, Val R2: 0.999835\n"
     ]
    },
    {
     "data": {
      "application/vnd.jupyter.widget-view+json": {
       "model_id": "a39e541da8af4ddc8b50e98ab90a8e4e",
       "version_major": 2,
       "version_minor": 0
      },
      "text/plain": [
       "  0%|          | 0/2 [00:00<?, ?batch/s]"
      ]
     },
     "metadata": {},
     "output_type": "display_data"
    },
    {
     "name": "stdout",
     "output_type": "stream",
     "text": [
      "Epoch 265, Val Loss: 0.000165, Val R2: 0.999836\n"
     ]
    },
    {
     "data": {
      "application/vnd.jupyter.widget-view+json": {
       "model_id": "63b118a7d35d42dfaa6b8c6e962b2c1c",
       "version_major": 2,
       "version_minor": 0
      },
      "text/plain": [
       "  0%|          | 0/2 [00:00<?, ?batch/s]"
      ]
     },
     "metadata": {},
     "output_type": "display_data"
    },
    {
     "name": "stdout",
     "output_type": "stream",
     "text": [
      "Epoch 266, Val Loss: 0.000164, Val R2: 0.999837\n"
     ]
    },
    {
     "data": {
      "application/vnd.jupyter.widget-view+json": {
       "model_id": "44d95b57d1834052a40e9b3134578643",
       "version_major": 2,
       "version_minor": 0
      },
      "text/plain": [
       "  0%|          | 0/2 [00:00<?, ?batch/s]"
      ]
     },
     "metadata": {},
     "output_type": "display_data"
    },
    {
     "name": "stdout",
     "output_type": "stream",
     "text": [
      "Epoch 267, Val Loss: 0.000163, Val R2: 0.999839\n"
     ]
    },
    {
     "data": {
      "application/vnd.jupyter.widget-view+json": {
       "model_id": "55af68febe6341bd8546e4b8949ee98f",
       "version_major": 2,
       "version_minor": 0
      },
      "text/plain": [
       "  0%|          | 0/2 [00:00<?, ?batch/s]"
      ]
     },
     "metadata": {},
     "output_type": "display_data"
    },
    {
     "name": "stdout",
     "output_type": "stream",
     "text": [
      "Epoch 268, Val Loss: 0.000162, Val R2: 0.999840\n"
     ]
    },
    {
     "data": {
      "application/vnd.jupyter.widget-view+json": {
       "model_id": "890fbdf4310248f081eaa1c8a9867d50",
       "version_major": 2,
       "version_minor": 0
      },
      "text/plain": [
       "  0%|          | 0/2 [00:00<?, ?batch/s]"
      ]
     },
     "metadata": {},
     "output_type": "display_data"
    },
    {
     "name": "stdout",
     "output_type": "stream",
     "text": [
      "Epoch 269, Val Loss: 0.000161, Val R2: 0.999841\n"
     ]
    },
    {
     "data": {
      "application/vnd.jupyter.widget-view+json": {
       "model_id": "59b13c6aa006474c99f4e99038b0cc33",
       "version_major": 2,
       "version_minor": 0
      },
      "text/plain": [
       "  0%|          | 0/2 [00:00<?, ?batch/s]"
      ]
     },
     "metadata": {},
     "output_type": "display_data"
    },
    {
     "name": "stdout",
     "output_type": "stream",
     "text": [
      "Epoch 270, Val Loss: 0.000160, Val R2: 0.999842\n"
     ]
    },
    {
     "data": {
      "application/vnd.jupyter.widget-view+json": {
       "model_id": "f5b53d25c3df41eca33acc629a18065e",
       "version_major": 2,
       "version_minor": 0
      },
      "text/plain": [
       "  0%|          | 0/2 [00:00<?, ?batch/s]"
      ]
     },
     "metadata": {},
     "output_type": "display_data"
    },
    {
     "name": "stdout",
     "output_type": "stream",
     "text": [
      "Epoch 271, Val Loss: 0.000159, Val R2: 0.999843\n"
     ]
    },
    {
     "data": {
      "application/vnd.jupyter.widget-view+json": {
       "model_id": "6be83f3730444759add7522823fb7ff0",
       "version_major": 2,
       "version_minor": 0
      },
      "text/plain": [
       "  0%|          | 0/2 [00:00<?, ?batch/s]"
      ]
     },
     "metadata": {},
     "output_type": "display_data"
    },
    {
     "name": "stdout",
     "output_type": "stream",
     "text": [
      "Epoch 272, Val Loss: 0.000158, Val R2: 0.999844\n"
     ]
    },
    {
     "data": {
      "application/vnd.jupyter.widget-view+json": {
       "model_id": "91e59ffc814248688043ae2e76e38a90",
       "version_major": 2,
       "version_minor": 0
      },
      "text/plain": [
       "  0%|          | 0/2 [00:00<?, ?batch/s]"
      ]
     },
     "metadata": {},
     "output_type": "display_data"
    },
    {
     "name": "stdout",
     "output_type": "stream",
     "text": [
      "Epoch 273, Val Loss: 0.000157, Val R2: 0.999844\n"
     ]
    },
    {
     "data": {
      "application/vnd.jupyter.widget-view+json": {
       "model_id": "3fd7261e73ff4394bbd047807297c47d",
       "version_major": 2,
       "version_minor": 0
      },
      "text/plain": [
       "  0%|          | 0/2 [00:00<?, ?batch/s]"
      ]
     },
     "metadata": {},
     "output_type": "display_data"
    },
    {
     "name": "stdout",
     "output_type": "stream",
     "text": [
      "Epoch 274, Val Loss: 0.000156, Val R2: 0.999845\n"
     ]
    },
    {
     "data": {
      "application/vnd.jupyter.widget-view+json": {
       "model_id": "ec96357f29a544a69320f9897da7e1e4",
       "version_major": 2,
       "version_minor": 0
      },
      "text/plain": [
       "  0%|          | 0/2 [00:00<?, ?batch/s]"
      ]
     },
     "metadata": {},
     "output_type": "display_data"
    },
    {
     "name": "stdout",
     "output_type": "stream",
     "text": [
      "Epoch 275, Val Loss: 0.000155, Val R2: 0.999846\n"
     ]
    },
    {
     "data": {
      "application/vnd.jupyter.widget-view+json": {
       "model_id": "97397e2fdc624d8b822a8421884afde9",
       "version_major": 2,
       "version_minor": 0
      },
      "text/plain": [
       "  0%|          | 0/2 [00:00<?, ?batch/s]"
      ]
     },
     "metadata": {},
     "output_type": "display_data"
    },
    {
     "name": "stdout",
     "output_type": "stream",
     "text": [
      "Epoch 276, Val Loss: 0.000154, Val R2: 0.999847\n"
     ]
    },
    {
     "data": {
      "application/vnd.jupyter.widget-view+json": {
       "model_id": "d9b2c9bcd6f14c1aab1260ab1167142f",
       "version_major": 2,
       "version_minor": 0
      },
      "text/plain": [
       "  0%|          | 0/2 [00:00<?, ?batch/s]"
      ]
     },
     "metadata": {},
     "output_type": "display_data"
    },
    {
     "name": "stdout",
     "output_type": "stream",
     "text": [
      "Epoch 277, Val Loss: 0.000153, Val R2: 0.999848\n"
     ]
    },
    {
     "data": {
      "application/vnd.jupyter.widget-view+json": {
       "model_id": "38ea87fe13a44e309b5b92607c9556eb",
       "version_major": 2,
       "version_minor": 0
      },
      "text/plain": [
       "  0%|          | 0/2 [00:00<?, ?batch/s]"
      ]
     },
     "metadata": {},
     "output_type": "display_data"
    },
    {
     "name": "stdout",
     "output_type": "stream",
     "text": [
      "Epoch 278, Val Loss: 0.000152, Val R2: 0.999849\n"
     ]
    },
    {
     "data": {
      "application/vnd.jupyter.widget-view+json": {
       "model_id": "904fa25899254d67bda7aad962a37b28",
       "version_major": 2,
       "version_minor": 0
      },
      "text/plain": [
       "  0%|          | 0/2 [00:00<?, ?batch/s]"
      ]
     },
     "metadata": {},
     "output_type": "display_data"
    },
    {
     "name": "stdout",
     "output_type": "stream",
     "text": [
      "Epoch 279, Val Loss: 0.000151, Val R2: 0.999850\n"
     ]
    },
    {
     "data": {
      "application/vnd.jupyter.widget-view+json": {
       "model_id": "cfe15701392b47258c68a63b76b19518",
       "version_major": 2,
       "version_minor": 0
      },
      "text/plain": [
       "  0%|          | 0/2 [00:00<?, ?batch/s]"
      ]
     },
     "metadata": {},
     "output_type": "display_data"
    },
    {
     "name": "stdout",
     "output_type": "stream",
     "text": [
      "Epoch 280, Val Loss: 0.000150, Val R2: 0.999851\n"
     ]
    },
    {
     "data": {
      "application/vnd.jupyter.widget-view+json": {
       "model_id": "174221975b994d019871af984cf0dcc7",
       "version_major": 2,
       "version_minor": 0
      },
      "text/plain": [
       "  0%|          | 0/2 [00:00<?, ?batch/s]"
      ]
     },
     "metadata": {},
     "output_type": "display_data"
    },
    {
     "name": "stdout",
     "output_type": "stream",
     "text": [
      "Epoch 281, Val Loss: 0.000149, Val R2: 0.999852\n"
     ]
    },
    {
     "data": {
      "application/vnd.jupyter.widget-view+json": {
       "model_id": "d8610be270fb4d758edffa73db3b7e6e",
       "version_major": 2,
       "version_minor": 0
      },
      "text/plain": [
       "  0%|          | 0/2 [00:00<?, ?batch/s]"
      ]
     },
     "metadata": {},
     "output_type": "display_data"
    },
    {
     "name": "stdout",
     "output_type": "stream",
     "text": [
      "Epoch 282, Val Loss: 0.000148, Val R2: 0.999853\n"
     ]
    },
    {
     "data": {
      "application/vnd.jupyter.widget-view+json": {
       "model_id": "d142e67bb08f473a92eca1455863425e",
       "version_major": 2,
       "version_minor": 0
      },
      "text/plain": [
       "  0%|          | 0/2 [00:00<?, ?batch/s]"
      ]
     },
     "metadata": {},
     "output_type": "display_data"
    },
    {
     "name": "stdout",
     "output_type": "stream",
     "text": [
      "Epoch 283, Val Loss: 0.000147, Val R2: 0.999854\n"
     ]
    },
    {
     "data": {
      "application/vnd.jupyter.widget-view+json": {
       "model_id": "7f0ae43992814daab41eb1b4fbab0e7c",
       "version_major": 2,
       "version_minor": 0
      },
      "text/plain": [
       "  0%|          | 0/2 [00:00<?, ?batch/s]"
      ]
     },
     "metadata": {},
     "output_type": "display_data"
    },
    {
     "name": "stdout",
     "output_type": "stream",
     "text": [
      "Epoch 284, Val Loss: 0.000147, Val R2: 0.999855\n"
     ]
    },
    {
     "data": {
      "application/vnd.jupyter.widget-view+json": {
       "model_id": "54819c8fb6bf46f1a8232b5672a3df6f",
       "version_major": 2,
       "version_minor": 0
      },
      "text/plain": [
       "  0%|          | 0/2 [00:00<?, ?batch/s]"
      ]
     },
     "metadata": {},
     "output_type": "display_data"
    },
    {
     "name": "stdout",
     "output_type": "stream",
     "text": [
      "Epoch 285, Val Loss: 0.000146, Val R2: 0.999855\n"
     ]
    },
    {
     "data": {
      "application/vnd.jupyter.widget-view+json": {
       "model_id": "011d7a52510f470ebc37028cd1a9b083",
       "version_major": 2,
       "version_minor": 0
      },
      "text/plain": [
       "  0%|          | 0/2 [00:00<?, ?batch/s]"
      ]
     },
     "metadata": {},
     "output_type": "display_data"
    },
    {
     "name": "stdout",
     "output_type": "stream",
     "text": [
      "Epoch 286, Val Loss: 0.000145, Val R2: 0.999856\n"
     ]
    },
    {
     "data": {
      "application/vnd.jupyter.widget-view+json": {
       "model_id": "057b94b32e51470996827c02ec55ee6b",
       "version_major": 2,
       "version_minor": 0
      },
      "text/plain": [
       "  0%|          | 0/2 [00:00<?, ?batch/s]"
      ]
     },
     "metadata": {},
     "output_type": "display_data"
    },
    {
     "name": "stdout",
     "output_type": "stream",
     "text": [
      "Epoch 287, Val Loss: 0.000144, Val R2: 0.999857\n"
     ]
    },
    {
     "data": {
      "application/vnd.jupyter.widget-view+json": {
       "model_id": "7f1b84f94c6544c3b33445058362e8b7",
       "version_major": 2,
       "version_minor": 0
      },
      "text/plain": [
       "  0%|          | 0/2 [00:00<?, ?batch/s]"
      ]
     },
     "metadata": {},
     "output_type": "display_data"
    },
    {
     "name": "stdout",
     "output_type": "stream",
     "text": [
      "Epoch 288, Val Loss: 0.000143, Val R2: 0.999858\n"
     ]
    },
    {
     "data": {
      "application/vnd.jupyter.widget-view+json": {
       "model_id": "aa9f2f02aa6543fc909b16530ff129cd",
       "version_major": 2,
       "version_minor": 0
      },
      "text/plain": [
       "  0%|          | 0/2 [00:00<?, ?batch/s]"
      ]
     },
     "metadata": {},
     "output_type": "display_data"
    },
    {
     "name": "stdout",
     "output_type": "stream",
     "text": [
      "Epoch 289, Val Loss: 0.000142, Val R2: 0.999859\n"
     ]
    },
    {
     "data": {
      "application/vnd.jupyter.widget-view+json": {
       "model_id": "1b673a0a188b4c5685c539c78d7e47a9",
       "version_major": 2,
       "version_minor": 0
      },
      "text/plain": [
       "  0%|          | 0/2 [00:00<?, ?batch/s]"
      ]
     },
     "metadata": {},
     "output_type": "display_data"
    },
    {
     "name": "stdout",
     "output_type": "stream",
     "text": [
      "Epoch 290, Val Loss: 0.000142, Val R2: 0.999859\n"
     ]
    },
    {
     "data": {
      "application/vnd.jupyter.widget-view+json": {
       "model_id": "d7d5f0d21e2943479a092e213275f677",
       "version_major": 2,
       "version_minor": 0
      },
      "text/plain": [
       "  0%|          | 0/2 [00:00<?, ?batch/s]"
      ]
     },
     "metadata": {},
     "output_type": "display_data"
    },
    {
     "name": "stdout",
     "output_type": "stream",
     "text": [
      "Epoch 291, Val Loss: 0.000141, Val R2: 0.999860\n"
     ]
    },
    {
     "data": {
      "application/vnd.jupyter.widget-view+json": {
       "model_id": "d4caaeef7dd745a6b95081b826202ba1",
       "version_major": 2,
       "version_minor": 0
      },
      "text/plain": [
       "  0%|          | 0/2 [00:00<?, ?batch/s]"
      ]
     },
     "metadata": {},
     "output_type": "display_data"
    },
    {
     "name": "stdout",
     "output_type": "stream",
     "text": [
      "Epoch 292, Val Loss: 0.000140, Val R2: 0.999861\n"
     ]
    },
    {
     "data": {
      "application/vnd.jupyter.widget-view+json": {
       "model_id": "7b868299f5324d5bb1b4263e85b4d719",
       "version_major": 2,
       "version_minor": 0
      },
      "text/plain": [
       "  0%|          | 0/2 [00:00<?, ?batch/s]"
      ]
     },
     "metadata": {},
     "output_type": "display_data"
    },
    {
     "name": "stdout",
     "output_type": "stream",
     "text": [
      "Epoch 293, Val Loss: 0.000139, Val R2: 0.999862\n"
     ]
    },
    {
     "data": {
      "application/vnd.jupyter.widget-view+json": {
       "model_id": "a6f0300e27414fbda43e300c106f2c45",
       "version_major": 2,
       "version_minor": 0
      },
      "text/plain": [
       "  0%|          | 0/2 [00:00<?, ?batch/s]"
      ]
     },
     "metadata": {},
     "output_type": "display_data"
    },
    {
     "name": "stdout",
     "output_type": "stream",
     "text": [
      "Epoch 294, Val Loss: 0.000138, Val R2: 0.999863\n"
     ]
    },
    {
     "data": {
      "application/vnd.jupyter.widget-view+json": {
       "model_id": "5fc4fe5e8e91464abba95549e8878aaa",
       "version_major": 2,
       "version_minor": 0
      },
      "text/plain": [
       "  0%|          | 0/2 [00:00<?, ?batch/s]"
      ]
     },
     "metadata": {},
     "output_type": "display_data"
    },
    {
     "name": "stdout",
     "output_type": "stream",
     "text": [
      "Epoch 295, Val Loss: 0.000138, Val R2: 0.999863\n"
     ]
    },
    {
     "data": {
      "application/vnd.jupyter.widget-view+json": {
       "model_id": "d1baaa1d344a4aa2b1fbc3a670e87e83",
       "version_major": 2,
       "version_minor": 0
      },
      "text/plain": [
       "  0%|          | 0/2 [00:00<?, ?batch/s]"
      ]
     },
     "metadata": {},
     "output_type": "display_data"
    },
    {
     "name": "stdout",
     "output_type": "stream",
     "text": [
      "Epoch 296, Val Loss: 0.000137, Val R2: 0.999864\n"
     ]
    },
    {
     "data": {
      "application/vnd.jupyter.widget-view+json": {
       "model_id": "8e1ffaa3acef4242bd7ece200c1bd37f",
       "version_major": 2,
       "version_minor": 0
      },
      "text/plain": [
       "  0%|          | 0/2 [00:00<?, ?batch/s]"
      ]
     },
     "metadata": {},
     "output_type": "display_data"
    },
    {
     "name": "stdout",
     "output_type": "stream",
     "text": [
      "Epoch 297, Val Loss: 0.000136, Val R2: 0.999865\n"
     ]
    },
    {
     "data": {
      "application/vnd.jupyter.widget-view+json": {
       "model_id": "82a01c55408f4bbaad7ba87c780c6b01",
       "version_major": 2,
       "version_minor": 0
      },
      "text/plain": [
       "  0%|          | 0/2 [00:00<?, ?batch/s]"
      ]
     },
     "metadata": {},
     "output_type": "display_data"
    },
    {
     "name": "stdout",
     "output_type": "stream",
     "text": [
      "Epoch 298, Val Loss: 0.000135, Val R2: 0.999866\n"
     ]
    },
    {
     "data": {
      "application/vnd.jupyter.widget-view+json": {
       "model_id": "beb01c203c6a4dc293ea891778db037d",
       "version_major": 2,
       "version_minor": 0
      },
      "text/plain": [
       "  0%|          | 0/2 [00:00<?, ?batch/s]"
      ]
     },
     "metadata": {},
     "output_type": "display_data"
    },
    {
     "name": "stdout",
     "output_type": "stream",
     "text": [
      "Epoch 299, Val Loss: 0.000135, Val R2: 0.999866\n"
     ]
    },
    {
     "data": {
      "application/vnd.jupyter.widget-view+json": {
       "model_id": "88e79659b6ab402b994a5a7f60826f89",
       "version_major": 2,
       "version_minor": 0
      },
      "text/plain": [
       "  0%|          | 0/2 [00:00<?, ?batch/s]"
      ]
     },
     "metadata": {},
     "output_type": "display_data"
    },
    {
     "name": "stdout",
     "output_type": "stream",
     "text": [
      "Epoch 300, Val Loss: 0.000134, Val R2: 0.999867\n"
     ]
    },
    {
     "data": {
      "application/vnd.jupyter.widget-view+json": {
       "model_id": "dcb9fb8cbf714443a490799c8c9cacba",
       "version_major": 2,
       "version_minor": 0
      },
      "text/plain": [
       "  0%|          | 0/2 [00:00<?, ?batch/s]"
      ]
     },
     "metadata": {},
     "output_type": "display_data"
    },
    {
     "name": "stdout",
     "output_type": "stream",
     "text": [
      "Epoch 301, Val Loss: 0.000133, Val R2: 0.999868\n"
     ]
    },
    {
     "data": {
      "application/vnd.jupyter.widget-view+json": {
       "model_id": "3ef5c4df1d774739b243d3b34f53fb5c",
       "version_major": 2,
       "version_minor": 0
      },
      "text/plain": [
       "  0%|          | 0/2 [00:00<?, ?batch/s]"
      ]
     },
     "metadata": {},
     "output_type": "display_data"
    },
    {
     "name": "stdout",
     "output_type": "stream",
     "text": [
      "Epoch 302, Val Loss: 0.000132, Val R2: 0.999869\n"
     ]
    },
    {
     "data": {
      "application/vnd.jupyter.widget-view+json": {
       "model_id": "d32940763afc47d5b42243bf33063156",
       "version_major": 2,
       "version_minor": 0
      },
      "text/plain": [
       "  0%|          | 0/2 [00:00<?, ?batch/s]"
      ]
     },
     "metadata": {},
     "output_type": "display_data"
    },
    {
     "name": "stdout",
     "output_type": "stream",
     "text": [
      "Epoch 303, Val Loss: 0.000132, Val R2: 0.999869\n"
     ]
    },
    {
     "data": {
      "application/vnd.jupyter.widget-view+json": {
       "model_id": "64cf5e058e504793a61327cfe24ee5f4",
       "version_major": 2,
       "version_minor": 0
      },
      "text/plain": [
       "  0%|          | 0/2 [00:00<?, ?batch/s]"
      ]
     },
     "metadata": {},
     "output_type": "display_data"
    },
    {
     "name": "stdout",
     "output_type": "stream",
     "text": [
      "Epoch 304, Val Loss: 0.000131, Val R2: 0.999870\n"
     ]
    },
    {
     "data": {
      "application/vnd.jupyter.widget-view+json": {
       "model_id": "387e36c563384866bd256aa7e8e60ccb",
       "version_major": 2,
       "version_minor": 0
      },
      "text/plain": [
       "  0%|          | 0/2 [00:00<?, ?batch/s]"
      ]
     },
     "metadata": {},
     "output_type": "display_data"
    },
    {
     "name": "stdout",
     "output_type": "stream",
     "text": [
      "Epoch 305, Val Loss: 0.000130, Val R2: 0.999871\n"
     ]
    },
    {
     "data": {
      "application/vnd.jupyter.widget-view+json": {
       "model_id": "9102953ef19341989e2ef6789071eeb5",
       "version_major": 2,
       "version_minor": 0
      },
      "text/plain": [
       "  0%|          | 0/2 [00:00<?, ?batch/s]"
      ]
     },
     "metadata": {},
     "output_type": "display_data"
    },
    {
     "name": "stdout",
     "output_type": "stream",
     "text": [
      "Epoch 306, Val Loss: 0.000130, Val R2: 0.999871\n"
     ]
    },
    {
     "data": {
      "application/vnd.jupyter.widget-view+json": {
       "model_id": "a84251b4d1844edcab6c47886d3aa852",
       "version_major": 2,
       "version_minor": 0
      },
      "text/plain": [
       "  0%|          | 0/2 [00:00<?, ?batch/s]"
      ]
     },
     "metadata": {},
     "output_type": "display_data"
    },
    {
     "name": "stdout",
     "output_type": "stream",
     "text": [
      "Epoch 307, Val Loss: 0.000129, Val R2: 0.999872\n"
     ]
    },
    {
     "data": {
      "application/vnd.jupyter.widget-view+json": {
       "model_id": "e8880a75c0d34411aad45bfcae46f912",
       "version_major": 2,
       "version_minor": 0
      },
      "text/plain": [
       "  0%|          | 0/2 [00:00<?, ?batch/s]"
      ]
     },
     "metadata": {},
     "output_type": "display_data"
    },
    {
     "name": "stdout",
     "output_type": "stream",
     "text": [
      "Epoch 308, Val Loss: 0.000128, Val R2: 0.999873\n"
     ]
    },
    {
     "data": {
      "application/vnd.jupyter.widget-view+json": {
       "model_id": "3c6d222f756148f385899c11ebf5e511",
       "version_major": 2,
       "version_minor": 0
      },
      "text/plain": [
       "  0%|          | 0/2 [00:00<?, ?batch/s]"
      ]
     },
     "metadata": {},
     "output_type": "display_data"
    },
    {
     "name": "stdout",
     "output_type": "stream",
     "text": [
      "Epoch 309, Val Loss: 0.000128, Val R2: 0.999873\n"
     ]
    },
    {
     "data": {
      "application/vnd.jupyter.widget-view+json": {
       "model_id": "759244f5810343b980264ddecd6e866d",
       "version_major": 2,
       "version_minor": 0
      },
      "text/plain": [
       "  0%|          | 0/2 [00:00<?, ?batch/s]"
      ]
     },
     "metadata": {},
     "output_type": "display_data"
    },
    {
     "name": "stdout",
     "output_type": "stream",
     "text": [
      "Epoch 310, Val Loss: 0.000127, Val R2: 0.999874\n"
     ]
    },
    {
     "data": {
      "application/vnd.jupyter.widget-view+json": {
       "model_id": "986245de3f2c46f4a731e6b911cca16f",
       "version_major": 2,
       "version_minor": 0
      },
      "text/plain": [
       "  0%|          | 0/2 [00:00<?, ?batch/s]"
      ]
     },
     "metadata": {},
     "output_type": "display_data"
    },
    {
     "name": "stdout",
     "output_type": "stream",
     "text": [
      "Epoch 311, Val Loss: 0.000126, Val R2: 0.999875\n"
     ]
    },
    {
     "data": {
      "application/vnd.jupyter.widget-view+json": {
       "model_id": "aa46a778e00d4a3a8e2501cbc47f3f58",
       "version_major": 2,
       "version_minor": 0
      },
      "text/plain": [
       "  0%|          | 0/2 [00:00<?, ?batch/s]"
      ]
     },
     "metadata": {},
     "output_type": "display_data"
    },
    {
     "name": "stdout",
     "output_type": "stream",
     "text": [
      "Epoch 312, Val Loss: 0.000126, Val R2: 0.999875\n"
     ]
    },
    {
     "data": {
      "application/vnd.jupyter.widget-view+json": {
       "model_id": "425f201080824bc0bee6f74fd632e660",
       "version_major": 2,
       "version_minor": 0
      },
      "text/plain": [
       "  0%|          | 0/2 [00:00<?, ?batch/s]"
      ]
     },
     "metadata": {},
     "output_type": "display_data"
    },
    {
     "name": "stdout",
     "output_type": "stream",
     "text": [
      "Epoch 313, Val Loss: 0.000125, Val R2: 0.999876\n"
     ]
    },
    {
     "data": {
      "application/vnd.jupyter.widget-view+json": {
       "model_id": "5a08bb3757e741a68cb91a40ccabbf40",
       "version_major": 2,
       "version_minor": 0
      },
      "text/plain": [
       "  0%|          | 0/2 [00:00<?, ?batch/s]"
      ]
     },
     "metadata": {},
     "output_type": "display_data"
    },
    {
     "name": "stdout",
     "output_type": "stream",
     "text": [
      "Epoch 314, Val Loss: 0.000124, Val R2: 0.999877\n"
     ]
    },
    {
     "data": {
      "application/vnd.jupyter.widget-view+json": {
       "model_id": "b9fcfdf00958428fb3f79d7264df6252",
       "version_major": 2,
       "version_minor": 0
      },
      "text/plain": [
       "  0%|          | 0/2 [00:00<?, ?batch/s]"
      ]
     },
     "metadata": {},
     "output_type": "display_data"
    },
    {
     "name": "stdout",
     "output_type": "stream",
     "text": [
      "Epoch 315, Val Loss: 0.000124, Val R2: 0.999877\n"
     ]
    },
    {
     "data": {
      "application/vnd.jupyter.widget-view+json": {
       "model_id": "32b0c1d48c534e738a1a387cd1155150",
       "version_major": 2,
       "version_minor": 0
      },
      "text/plain": [
       "  0%|          | 0/2 [00:00<?, ?batch/s]"
      ]
     },
     "metadata": {},
     "output_type": "display_data"
    },
    {
     "name": "stdout",
     "output_type": "stream",
     "text": [
      "Epoch 316, Val Loss: 0.000123, Val R2: 0.999878\n"
     ]
    },
    {
     "data": {
      "application/vnd.jupyter.widget-view+json": {
       "model_id": "6fc9981093a341faa55cd1393108d04a",
       "version_major": 2,
       "version_minor": 0
      },
      "text/plain": [
       "  0%|          | 0/2 [00:00<?, ?batch/s]"
      ]
     },
     "metadata": {},
     "output_type": "display_data"
    },
    {
     "name": "stdout",
     "output_type": "stream",
     "text": [
      "Epoch 317, Val Loss: 0.000122, Val R2: 0.999879\n"
     ]
    },
    {
     "data": {
      "application/vnd.jupyter.widget-view+json": {
       "model_id": "57f9b904ee1245c89962efa95218a398",
       "version_major": 2,
       "version_minor": 0
      },
      "text/plain": [
       "  0%|          | 0/2 [00:00<?, ?batch/s]"
      ]
     },
     "metadata": {},
     "output_type": "display_data"
    },
    {
     "name": "stdout",
     "output_type": "stream",
     "text": [
      "Epoch 318, Val Loss: 0.000122, Val R2: 0.999879\n"
     ]
    },
    {
     "data": {
      "application/vnd.jupyter.widget-view+json": {
       "model_id": "3f263402c0e64a54859601cf4ac270d0",
       "version_major": 2,
       "version_minor": 0
      },
      "text/plain": [
       "  0%|          | 0/2 [00:00<?, ?batch/s]"
      ]
     },
     "metadata": {},
     "output_type": "display_data"
    },
    {
     "name": "stdout",
     "output_type": "stream",
     "text": [
      "Epoch 319, Val Loss: 0.000121, Val R2: 0.999880\n"
     ]
    },
    {
     "data": {
      "application/vnd.jupyter.widget-view+json": {
       "model_id": "ff98c4b271f3433398276dd5f5d7cc30",
       "version_major": 2,
       "version_minor": 0
      },
      "text/plain": [
       "  0%|          | 0/2 [00:00<?, ?batch/s]"
      ]
     },
     "metadata": {},
     "output_type": "display_data"
    },
    {
     "name": "stdout",
     "output_type": "stream",
     "text": [
      "Epoch 320, Val Loss: 0.000120, Val R2: 0.999880\n"
     ]
    },
    {
     "data": {
      "application/vnd.jupyter.widget-view+json": {
       "model_id": "8bcb890b7d7c403da1429f46794a88f4",
       "version_major": 2,
       "version_minor": 0
      },
      "text/plain": [
       "  0%|          | 0/2 [00:00<?, ?batch/s]"
      ]
     },
     "metadata": {},
     "output_type": "display_data"
    },
    {
     "name": "stdout",
     "output_type": "stream",
     "text": [
      "Epoch 321, Val Loss: 0.000120, Val R2: 0.999881\n"
     ]
    },
    {
     "data": {
      "application/vnd.jupyter.widget-view+json": {
       "model_id": "fa438d2fd6164c16b3cc11d0e73c76d5",
       "version_major": 2,
       "version_minor": 0
      },
      "text/plain": [
       "  0%|          | 0/2 [00:00<?, ?batch/s]"
      ]
     },
     "metadata": {},
     "output_type": "display_data"
    },
    {
     "name": "stdout",
     "output_type": "stream",
     "text": [
      "Epoch 322, Val Loss: 0.000119, Val R2: 0.999882\n"
     ]
    },
    {
     "data": {
      "application/vnd.jupyter.widget-view+json": {
       "model_id": "2ee5224d21c84792b1a9780138ab611b",
       "version_major": 2,
       "version_minor": 0
      },
      "text/plain": [
       "  0%|          | 0/2 [00:00<?, ?batch/s]"
      ]
     },
     "metadata": {},
     "output_type": "display_data"
    },
    {
     "name": "stdout",
     "output_type": "stream",
     "text": [
      "Epoch 323, Val Loss: 0.000119, Val R2: 0.999882\n"
     ]
    },
    {
     "data": {
      "application/vnd.jupyter.widget-view+json": {
       "model_id": "806ca1e425b04bbc9293861f67b2306f",
       "version_major": 2,
       "version_minor": 0
      },
      "text/plain": [
       "  0%|          | 0/2 [00:00<?, ?batch/s]"
      ]
     },
     "metadata": {},
     "output_type": "display_data"
    },
    {
     "name": "stdout",
     "output_type": "stream",
     "text": [
      "Epoch 324, Val Loss: 0.000118, Val R2: 0.999883\n"
     ]
    },
    {
     "data": {
      "application/vnd.jupyter.widget-view+json": {
       "model_id": "cb9c240a2b884d5c8450d0fec62fc48f",
       "version_major": 2,
       "version_minor": 0
      },
      "text/plain": [
       "  0%|          | 0/2 [00:00<?, ?batch/s]"
      ]
     },
     "metadata": {},
     "output_type": "display_data"
    },
    {
     "name": "stdout",
     "output_type": "stream",
     "text": [
      "Epoch 325, Val Loss: 0.000118, Val R2: 0.999883\n"
     ]
    },
    {
     "data": {
      "application/vnd.jupyter.widget-view+json": {
       "model_id": "9714a17fc853439d90c80554573206bd",
       "version_major": 2,
       "version_minor": 0
      },
      "text/plain": [
       "  0%|          | 0/2 [00:00<?, ?batch/s]"
      ]
     },
     "metadata": {},
     "output_type": "display_data"
    },
    {
     "name": "stdout",
     "output_type": "stream",
     "text": [
      "Epoch 326, Val Loss: 0.000117, Val R2: 0.999884\n"
     ]
    },
    {
     "data": {
      "application/vnd.jupyter.widget-view+json": {
       "model_id": "7fd5cb18c22b47239ec83db3f88c191f",
       "version_major": 2,
       "version_minor": 0
      },
      "text/plain": [
       "  0%|          | 0/2 [00:00<?, ?batch/s]"
      ]
     },
     "metadata": {},
     "output_type": "display_data"
    },
    {
     "name": "stdout",
     "output_type": "stream",
     "text": [
      "Epoch 327, Val Loss: 0.000116, Val R2: 0.999884\n"
     ]
    },
    {
     "data": {
      "application/vnd.jupyter.widget-view+json": {
       "model_id": "4c769efdbddd447780c8452ae6e8d8e1",
       "version_major": 2,
       "version_minor": 0
      },
      "text/plain": [
       "  0%|          | 0/2 [00:00<?, ?batch/s]"
      ]
     },
     "metadata": {},
     "output_type": "display_data"
    },
    {
     "name": "stdout",
     "output_type": "stream",
     "text": [
      "Epoch 328, Val Loss: 0.000116, Val R2: 0.999885\n"
     ]
    },
    {
     "data": {
      "application/vnd.jupyter.widget-view+json": {
       "model_id": "5271b8d76ae344e394d5454e7cf0cb0a",
       "version_major": 2,
       "version_minor": 0
      },
      "text/plain": [
       "  0%|          | 0/2 [00:00<?, ?batch/s]"
      ]
     },
     "metadata": {},
     "output_type": "display_data"
    },
    {
     "name": "stdout",
     "output_type": "stream",
     "text": [
      "Epoch 329, Val Loss: 0.000115, Val R2: 0.999886\n"
     ]
    },
    {
     "data": {
      "application/vnd.jupyter.widget-view+json": {
       "model_id": "12c504a5c0364b699512e6717ea2ad34",
       "version_major": 2,
       "version_minor": 0
      },
      "text/plain": [
       "  0%|          | 0/2 [00:00<?, ?batch/s]"
      ]
     },
     "metadata": {},
     "output_type": "display_data"
    },
    {
     "name": "stdout",
     "output_type": "stream",
     "text": [
      "Epoch 330, Val Loss: 0.000115, Val R2: 0.999886\n"
     ]
    },
    {
     "data": {
      "application/vnd.jupyter.widget-view+json": {
       "model_id": "7798ce12d3bd41d8be22e8ca7ebd6cda",
       "version_major": 2,
       "version_minor": 0
      },
      "text/plain": [
       "  0%|          | 0/2 [00:00<?, ?batch/s]"
      ]
     },
     "metadata": {},
     "output_type": "display_data"
    },
    {
     "name": "stdout",
     "output_type": "stream",
     "text": [
      "Epoch 331, Val Loss: 0.000114, Val R2: 0.999887\n"
     ]
    },
    {
     "data": {
      "application/vnd.jupyter.widget-view+json": {
       "model_id": "df1fb07a62eb4780966c457e4ba5854f",
       "version_major": 2,
       "version_minor": 0
      },
      "text/plain": [
       "  0%|          | 0/2 [00:00<?, ?batch/s]"
      ]
     },
     "metadata": {},
     "output_type": "display_data"
    },
    {
     "name": "stdout",
     "output_type": "stream",
     "text": [
      "Epoch 332, Val Loss: 0.000114, Val R2: 0.999887\n"
     ]
    },
    {
     "data": {
      "application/vnd.jupyter.widget-view+json": {
       "model_id": "60bebbd85a2344f49333a78e700c3e5f",
       "version_major": 2,
       "version_minor": 0
      },
      "text/plain": [
       "  0%|          | 0/2 [00:00<?, ?batch/s]"
      ]
     },
     "metadata": {},
     "output_type": "display_data"
    },
    {
     "name": "stdout",
     "output_type": "stream",
     "text": [
      "Epoch 333, Val Loss: 0.000113, Val R2: 0.999888\n"
     ]
    },
    {
     "data": {
      "application/vnd.jupyter.widget-view+json": {
       "model_id": "f82638fb92754b56ab65354833563d81",
       "version_major": 2,
       "version_minor": 0
      },
      "text/plain": [
       "  0%|          | 0/2 [00:00<?, ?batch/s]"
      ]
     },
     "metadata": {},
     "output_type": "display_data"
    },
    {
     "name": "stdout",
     "output_type": "stream",
     "text": [
      "Epoch 334, Val Loss: 0.000112, Val R2: 0.999888\n"
     ]
    },
    {
     "data": {
      "application/vnd.jupyter.widget-view+json": {
       "model_id": "227d3e74ee0e4f998190705f972d796f",
       "version_major": 2,
       "version_minor": 0
      },
      "text/plain": [
       "  0%|          | 0/2 [00:00<?, ?batch/s]"
      ]
     },
     "metadata": {},
     "output_type": "display_data"
    },
    {
     "name": "stdout",
     "output_type": "stream",
     "text": [
      "Epoch 335, Val Loss: 0.000112, Val R2: 0.999889\n"
     ]
    },
    {
     "data": {
      "application/vnd.jupyter.widget-view+json": {
       "model_id": "96fe0c1f249d46208e0214d22dc9b573",
       "version_major": 2,
       "version_minor": 0
      },
      "text/plain": [
       "  0%|          | 0/2 [00:00<?, ?batch/s]"
      ]
     },
     "metadata": {},
     "output_type": "display_data"
    },
    {
     "name": "stdout",
     "output_type": "stream",
     "text": [
      "Epoch 336, Val Loss: 0.000111, Val R2: 0.999889\n"
     ]
    },
    {
     "data": {
      "application/vnd.jupyter.widget-view+json": {
       "model_id": "8d4a7a2059e54674bc5551eed46a051f",
       "version_major": 2,
       "version_minor": 0
      },
      "text/plain": [
       "  0%|          | 0/2 [00:00<?, ?batch/s]"
      ]
     },
     "metadata": {},
     "output_type": "display_data"
    },
    {
     "name": "stdout",
     "output_type": "stream",
     "text": [
      "Epoch 337, Val Loss: 0.000111, Val R2: 0.999890\n"
     ]
    },
    {
     "data": {
      "application/vnd.jupyter.widget-view+json": {
       "model_id": "e77ddee34dba46bd87a098ede7621e6b",
       "version_major": 2,
       "version_minor": 0
      },
      "text/plain": [
       "  0%|          | 0/2 [00:00<?, ?batch/s]"
      ]
     },
     "metadata": {},
     "output_type": "display_data"
    },
    {
     "name": "stdout",
     "output_type": "stream",
     "text": [
      "Epoch 338, Val Loss: 0.000110, Val R2: 0.999891\n"
     ]
    },
    {
     "data": {
      "application/vnd.jupyter.widget-view+json": {
       "model_id": "9f8cdbeff747405c831ea3826baa70f9",
       "version_major": 2,
       "version_minor": 0
      },
      "text/plain": [
       "  0%|          | 0/2 [00:00<?, ?batch/s]"
      ]
     },
     "metadata": {},
     "output_type": "display_data"
    },
    {
     "name": "stdout",
     "output_type": "stream",
     "text": [
      "Epoch 339, Val Loss: 0.000110, Val R2: 0.999891\n"
     ]
    },
    {
     "data": {
      "application/vnd.jupyter.widget-view+json": {
       "model_id": "fd021fcd49b7493083879881f708ebf9",
       "version_major": 2,
       "version_minor": 0
      },
      "text/plain": [
       "  0%|          | 0/2 [00:00<?, ?batch/s]"
      ]
     },
     "metadata": {},
     "output_type": "display_data"
    },
    {
     "name": "stdout",
     "output_type": "stream",
     "text": [
      "Epoch 340, Val Loss: 0.000109, Val R2: 0.999892\n"
     ]
    },
    {
     "data": {
      "application/vnd.jupyter.widget-view+json": {
       "model_id": "ca73e06a32054be5bf35fd098155b473",
       "version_major": 2,
       "version_minor": 0
      },
      "text/plain": [
       "  0%|          | 0/2 [00:00<?, ?batch/s]"
      ]
     },
     "metadata": {},
     "output_type": "display_data"
    },
    {
     "name": "stdout",
     "output_type": "stream",
     "text": [
      "Epoch 341, Val Loss: 0.000109, Val R2: 0.999892\n"
     ]
    },
    {
     "data": {
      "application/vnd.jupyter.widget-view+json": {
       "model_id": "370c5cc86a96461fbbad80d20bf94995",
       "version_major": 2,
       "version_minor": 0
      },
      "text/plain": [
       "  0%|          | 0/2 [00:00<?, ?batch/s]"
      ]
     },
     "metadata": {},
     "output_type": "display_data"
    },
    {
     "name": "stdout",
     "output_type": "stream",
     "text": [
      "Epoch 342, Val Loss: 0.000108, Val R2: 0.999893\n"
     ]
    },
    {
     "data": {
      "application/vnd.jupyter.widget-view+json": {
       "model_id": "367debf76f3c4f1d94d97bcbd6d5ed3d",
       "version_major": 2,
       "version_minor": 0
      },
      "text/plain": [
       "  0%|          | 0/2 [00:00<?, ?batch/s]"
      ]
     },
     "metadata": {},
     "output_type": "display_data"
    },
    {
     "name": "stdout",
     "output_type": "stream",
     "text": [
      "Epoch 343, Val Loss: 0.000108, Val R2: 0.999893\n"
     ]
    },
    {
     "data": {
      "application/vnd.jupyter.widget-view+json": {
       "model_id": "055554368fdc4f2f89330be64d31c3d7",
       "version_major": 2,
       "version_minor": 0
      },
      "text/plain": [
       "  0%|          | 0/2 [00:00<?, ?batch/s]"
      ]
     },
     "metadata": {},
     "output_type": "display_data"
    },
    {
     "name": "stdout",
     "output_type": "stream",
     "text": [
      "Epoch 344, Val Loss: 0.000107, Val R2: 0.999894\n"
     ]
    },
    {
     "data": {
      "application/vnd.jupyter.widget-view+json": {
       "model_id": "ebb88cc5b54445319ba3e444f9d48bda",
       "version_major": 2,
       "version_minor": 0
      },
      "text/plain": [
       "  0%|          | 0/2 [00:00<?, ?batch/s]"
      ]
     },
     "metadata": {},
     "output_type": "display_data"
    },
    {
     "name": "stdout",
     "output_type": "stream",
     "text": [
      "Epoch 345, Val Loss: 0.000107, Val R2: 0.999894\n"
     ]
    },
    {
     "data": {
      "application/vnd.jupyter.widget-view+json": {
       "model_id": "6dedb726fede4286b205017942a662a7",
       "version_major": 2,
       "version_minor": 0
      },
      "text/plain": [
       "  0%|          | 0/2 [00:00<?, ?batch/s]"
      ]
     },
     "metadata": {},
     "output_type": "display_data"
    },
    {
     "name": "stdout",
     "output_type": "stream",
     "text": [
      "Epoch 346, Val Loss: 0.000106, Val R2: 0.999894\n"
     ]
    },
    {
     "data": {
      "application/vnd.jupyter.widget-view+json": {
       "model_id": "796f3fef547845ba8fe418deb91a530d",
       "version_major": 2,
       "version_minor": 0
      },
      "text/plain": [
       "  0%|          | 0/2 [00:00<?, ?batch/s]"
      ]
     },
     "metadata": {},
     "output_type": "display_data"
    },
    {
     "name": "stdout",
     "output_type": "stream",
     "text": [
      "Epoch 347, Val Loss: 0.000106, Val R2: 0.999895\n"
     ]
    },
    {
     "data": {
      "application/vnd.jupyter.widget-view+json": {
       "model_id": "129a36f7ff3542c8a89057aad9312505",
       "version_major": 2,
       "version_minor": 0
      },
      "text/plain": [
       "  0%|          | 0/2 [00:00<?, ?batch/s]"
      ]
     },
     "metadata": {},
     "output_type": "display_data"
    },
    {
     "name": "stdout",
     "output_type": "stream",
     "text": [
      "Epoch 348, Val Loss: 0.000105, Val R2: 0.999895\n"
     ]
    },
    {
     "data": {
      "application/vnd.jupyter.widget-view+json": {
       "model_id": "9e67b485ceb24cac8069116fc5466f05",
       "version_major": 2,
       "version_minor": 0
      },
      "text/plain": [
       "  0%|          | 0/2 [00:00<?, ?batch/s]"
      ]
     },
     "metadata": {},
     "output_type": "display_data"
    },
    {
     "name": "stdout",
     "output_type": "stream",
     "text": [
      "Epoch 349, Val Loss: 0.000105, Val R2: 0.999896\n"
     ]
    },
    {
     "data": {
      "application/vnd.jupyter.widget-view+json": {
       "model_id": "e7807bd2382044f0891461965fadf7ad",
       "version_major": 2,
       "version_minor": 0
      },
      "text/plain": [
       "  0%|          | 0/2 [00:00<?, ?batch/s]"
      ]
     },
     "metadata": {},
     "output_type": "display_data"
    },
    {
     "name": "stdout",
     "output_type": "stream",
     "text": [
      "Epoch 350, Val Loss: 0.000104, Val R2: 0.999896\n"
     ]
    },
    {
     "data": {
      "application/vnd.jupyter.widget-view+json": {
       "model_id": "b9604a37cdbb48e1afb577f8664c784b",
       "version_major": 2,
       "version_minor": 0
      },
      "text/plain": [
       "  0%|          | 0/2 [00:00<?, ?batch/s]"
      ]
     },
     "metadata": {},
     "output_type": "display_data"
    },
    {
     "name": "stdout",
     "output_type": "stream",
     "text": [
      "Epoch 351, Val Loss: 0.000104, Val R2: 0.999897\n"
     ]
    },
    {
     "data": {
      "application/vnd.jupyter.widget-view+json": {
       "model_id": "d2987535fa814265953b67dccd3a4499",
       "version_major": 2,
       "version_minor": 0
      },
      "text/plain": [
       "  0%|          | 0/2 [00:00<?, ?batch/s]"
      ]
     },
     "metadata": {},
     "output_type": "display_data"
    },
    {
     "name": "stdout",
     "output_type": "stream",
     "text": [
      "Epoch 352, Val Loss: 0.000103, Val R2: 0.999897\n"
     ]
    },
    {
     "data": {
      "application/vnd.jupyter.widget-view+json": {
       "model_id": "41d22920673740b7a3d9047b30c270bc",
       "version_major": 2,
       "version_minor": 0
      },
      "text/plain": [
       "  0%|          | 0/2 [00:00<?, ?batch/s]"
      ]
     },
     "metadata": {},
     "output_type": "display_data"
    },
    {
     "name": "stdout",
     "output_type": "stream",
     "text": [
      "Epoch 353, Val Loss: 0.000103, Val R2: 0.999898\n"
     ]
    },
    {
     "data": {
      "application/vnd.jupyter.widget-view+json": {
       "model_id": "a88de640d6ca444eb3ce8562cabd4a8c",
       "version_major": 2,
       "version_minor": 0
      },
      "text/plain": [
       "  0%|          | 0/2 [00:00<?, ?batch/s]"
      ]
     },
     "metadata": {},
     "output_type": "display_data"
    },
    {
     "name": "stdout",
     "output_type": "stream",
     "text": [
      "Epoch 354, Val Loss: 0.000102, Val R2: 0.999898\n"
     ]
    },
    {
     "data": {
      "application/vnd.jupyter.widget-view+json": {
       "model_id": "2b5a8bfb822c49d1aaa56a075b3bcb6c",
       "version_major": 2,
       "version_minor": 0
      },
      "text/plain": [
       "  0%|          | 0/2 [00:00<?, ?batch/s]"
      ]
     },
     "metadata": {},
     "output_type": "display_data"
    },
    {
     "name": "stdout",
     "output_type": "stream",
     "text": [
      "Epoch 355, Val Loss: 0.000102, Val R2: 0.999899\n"
     ]
    },
    {
     "data": {
      "application/vnd.jupyter.widget-view+json": {
       "model_id": "9f6d8a0a3ce2455ca212e2596f681f84",
       "version_major": 2,
       "version_minor": 0
      },
      "text/plain": [
       "  0%|          | 0/2 [00:00<?, ?batch/s]"
      ]
     },
     "metadata": {},
     "output_type": "display_data"
    },
    {
     "name": "stdout",
     "output_type": "stream",
     "text": [
      "Epoch 356, Val Loss: 0.000102, Val R2: 0.999899\n"
     ]
    },
    {
     "data": {
      "application/vnd.jupyter.widget-view+json": {
       "model_id": "9a4042004f31486182b953f27a2b20c3",
       "version_major": 2,
       "version_minor": 0
      },
      "text/plain": [
       "  0%|          | 0/2 [00:00<?, ?batch/s]"
      ]
     },
     "metadata": {},
     "output_type": "display_data"
    },
    {
     "name": "stdout",
     "output_type": "stream",
     "text": [
      "Epoch 357, Val Loss: 0.000101, Val R2: 0.999900\n"
     ]
    },
    {
     "data": {
      "application/vnd.jupyter.widget-view+json": {
       "model_id": "7421e6c7c04a4e2e92b800557c084a52",
       "version_major": 2,
       "version_minor": 0
      },
      "text/plain": [
       "  0%|          | 0/2 [00:00<?, ?batch/s]"
      ]
     },
     "metadata": {},
     "output_type": "display_data"
    },
    {
     "name": "stdout",
     "output_type": "stream",
     "text": [
      "Epoch 358, Val Loss: 0.000101, Val R2: 0.999900\n"
     ]
    },
    {
     "data": {
      "application/vnd.jupyter.widget-view+json": {
       "model_id": "18e920bbed8b4e7eac06ad9abb4a6216",
       "version_major": 2,
       "version_minor": 0
      },
      "text/plain": [
       "  0%|          | 0/2 [00:00<?, ?batch/s]"
      ]
     },
     "metadata": {},
     "output_type": "display_data"
    },
    {
     "name": "stdout",
     "output_type": "stream",
     "text": [
      "Epoch 359, Val Loss: 0.000100, Val R2: 0.999901\n"
     ]
    },
    {
     "data": {
      "application/vnd.jupyter.widget-view+json": {
       "model_id": "afdc0c3d6a4041628f7192a3d0929416",
       "version_major": 2,
       "version_minor": 0
      },
      "text/plain": [
       "  0%|          | 0/2 [00:00<?, ?batch/s]"
      ]
     },
     "metadata": {},
     "output_type": "display_data"
    },
    {
     "name": "stdout",
     "output_type": "stream",
     "text": [
      "Epoch 360, Val Loss: 0.000100, Val R2: 0.999901\n"
     ]
    },
    {
     "data": {
      "application/vnd.jupyter.widget-view+json": {
       "model_id": "9621e83d44994dc4bbfa05bb41cca201",
       "version_major": 2,
       "version_minor": 0
      },
      "text/plain": [
       "  0%|          | 0/2 [00:00<?, ?batch/s]"
      ]
     },
     "metadata": {},
     "output_type": "display_data"
    },
    {
     "name": "stdout",
     "output_type": "stream",
     "text": [
      "Epoch 361, Val Loss: 0.000099, Val R2: 0.999901\n"
     ]
    },
    {
     "data": {
      "application/vnd.jupyter.widget-view+json": {
       "model_id": "6b84f3d53fe34501bafb4e90b3aaed6a",
       "version_major": 2,
       "version_minor": 0
      },
      "text/plain": [
       "  0%|          | 0/2 [00:00<?, ?batch/s]"
      ]
     },
     "metadata": {},
     "output_type": "display_data"
    },
    {
     "name": "stdout",
     "output_type": "stream",
     "text": [
      "Epoch 362, Val Loss: 0.000099, Val R2: 0.999902\n"
     ]
    },
    {
     "data": {
      "application/vnd.jupyter.widget-view+json": {
       "model_id": "79b334b4334d4156aee8a03d79abb5ad",
       "version_major": 2,
       "version_minor": 0
      },
      "text/plain": [
       "  0%|          | 0/2 [00:00<?, ?batch/s]"
      ]
     },
     "metadata": {},
     "output_type": "display_data"
    },
    {
     "name": "stdout",
     "output_type": "stream",
     "text": [
      "Epoch 363, Val Loss: 0.000098, Val R2: 0.999902\n"
     ]
    },
    {
     "data": {
      "application/vnd.jupyter.widget-view+json": {
       "model_id": "e1ceb682febb45f98eba334b9f00a1d9",
       "version_major": 2,
       "version_minor": 0
      },
      "text/plain": [
       "  0%|          | 0/2 [00:00<?, ?batch/s]"
      ]
     },
     "metadata": {},
     "output_type": "display_data"
    },
    {
     "name": "stdout",
     "output_type": "stream",
     "text": [
      "Epoch 364, Val Loss: 0.000098, Val R2: 0.999903\n"
     ]
    },
    {
     "data": {
      "application/vnd.jupyter.widget-view+json": {
       "model_id": "9e9fd335fbad4e4089075b275395ca22",
       "version_major": 2,
       "version_minor": 0
      },
      "text/plain": [
       "  0%|          | 0/2 [00:00<?, ?batch/s]"
      ]
     },
     "metadata": {},
     "output_type": "display_data"
    },
    {
     "name": "stdout",
     "output_type": "stream",
     "text": [
      "Epoch 365, Val Loss: 0.000098, Val R2: 0.999903\n"
     ]
    },
    {
     "data": {
      "application/vnd.jupyter.widget-view+json": {
       "model_id": "3c385e27eeca4b94bd490c2d1baff1a3",
       "version_major": 2,
       "version_minor": 0
      },
      "text/plain": [
       "  0%|          | 0/2 [00:00<?, ?batch/s]"
      ]
     },
     "metadata": {},
     "output_type": "display_data"
    },
    {
     "name": "stdout",
     "output_type": "stream",
     "text": [
      "Epoch 366, Val Loss: 0.000097, Val R2: 0.999904\n"
     ]
    },
    {
     "data": {
      "application/vnd.jupyter.widget-view+json": {
       "model_id": "5750013989ec474aa8a3e8a1ffc9905d",
       "version_major": 2,
       "version_minor": 0
      },
      "text/plain": [
       "  0%|          | 0/2 [00:00<?, ?batch/s]"
      ]
     },
     "metadata": {},
     "output_type": "display_data"
    },
    {
     "name": "stdout",
     "output_type": "stream",
     "text": [
      "Epoch 367, Val Loss: 0.000097, Val R2: 0.999904\n"
     ]
    },
    {
     "data": {
      "application/vnd.jupyter.widget-view+json": {
       "model_id": "592b57be581244cfa8c92287410d07d5",
       "version_major": 2,
       "version_minor": 0
      },
      "text/plain": [
       "  0%|          | 0/2 [00:00<?, ?batch/s]"
      ]
     },
     "metadata": {},
     "output_type": "display_data"
    },
    {
     "name": "stdout",
     "output_type": "stream",
     "text": [
      "Epoch 368, Val Loss: 0.000096, Val R2: 0.999904\n"
     ]
    },
    {
     "data": {
      "application/vnd.jupyter.widget-view+json": {
       "model_id": "75c0c9690096456a93e2bd5b9d9edf26",
       "version_major": 2,
       "version_minor": 0
      },
      "text/plain": [
       "  0%|          | 0/2 [00:00<?, ?batch/s]"
      ]
     },
     "metadata": {},
     "output_type": "display_data"
    },
    {
     "name": "stdout",
     "output_type": "stream",
     "text": [
      "Epoch 369, Val Loss: 0.000096, Val R2: 0.999905\n"
     ]
    },
    {
     "data": {
      "application/vnd.jupyter.widget-view+json": {
       "model_id": "01589f8a26d540e88966af9974b880a0",
       "version_major": 2,
       "version_minor": 0
      },
      "text/plain": [
       "  0%|          | 0/2 [00:00<?, ?batch/s]"
      ]
     },
     "metadata": {},
     "output_type": "display_data"
    },
    {
     "name": "stdout",
     "output_type": "stream",
     "text": [
      "Epoch 370, Val Loss: 0.000096, Val R2: 0.999905\n"
     ]
    },
    {
     "data": {
      "application/vnd.jupyter.widget-view+json": {
       "model_id": "a7236e246be14990bd1adbbe211ab7e2",
       "version_major": 2,
       "version_minor": 0
      },
      "text/plain": [
       "  0%|          | 0/2 [00:00<?, ?batch/s]"
      ]
     },
     "metadata": {},
     "output_type": "display_data"
    },
    {
     "name": "stdout",
     "output_type": "stream",
     "text": [
      "Epoch 371, Val Loss: 0.000095, Val R2: 0.999906\n"
     ]
    },
    {
     "data": {
      "application/vnd.jupyter.widget-view+json": {
       "model_id": "de16531aa6104efcba2fbdef0e081242",
       "version_major": 2,
       "version_minor": 0
      },
      "text/plain": [
       "  0%|          | 0/2 [00:00<?, ?batch/s]"
      ]
     },
     "metadata": {},
     "output_type": "display_data"
    },
    {
     "name": "stdout",
     "output_type": "stream",
     "text": [
      "Epoch 372, Val Loss: 0.000095, Val R2: 0.999906\n"
     ]
    },
    {
     "data": {
      "application/vnd.jupyter.widget-view+json": {
       "model_id": "2bd81550b9714a93a1b7bfae997d1aff",
       "version_major": 2,
       "version_minor": 0
      },
      "text/plain": [
       "  0%|          | 0/2 [00:00<?, ?batch/s]"
      ]
     },
     "metadata": {},
     "output_type": "display_data"
    },
    {
     "name": "stdout",
     "output_type": "stream",
     "text": [
      "Epoch 373, Val Loss: 0.000094, Val R2: 0.999906\n"
     ]
    },
    {
     "data": {
      "application/vnd.jupyter.widget-view+json": {
       "model_id": "40b292141ef74bf9ad811a0339808d1d",
       "version_major": 2,
       "version_minor": 0
      },
      "text/plain": [
       "  0%|          | 0/2 [00:00<?, ?batch/s]"
      ]
     },
     "metadata": {},
     "output_type": "display_data"
    },
    {
     "name": "stdout",
     "output_type": "stream",
     "text": [
      "Epoch 374, Val Loss: 0.000094, Val R2: 0.999907\n"
     ]
    },
    {
     "data": {
      "application/vnd.jupyter.widget-view+json": {
       "model_id": "cc861a1ed86f40aba6a8846c1e3b2f0e",
       "version_major": 2,
       "version_minor": 0
      },
      "text/plain": [
       "  0%|          | 0/2 [00:00<?, ?batch/s]"
      ]
     },
     "metadata": {},
     "output_type": "display_data"
    },
    {
     "name": "stdout",
     "output_type": "stream",
     "text": [
      "Epoch 375, Val Loss: 0.000094, Val R2: 0.999907\n"
     ]
    },
    {
     "data": {
      "application/vnd.jupyter.widget-view+json": {
       "model_id": "38f19f381da249129bb24bda4534154a",
       "version_major": 2,
       "version_minor": 0
      },
      "text/plain": [
       "  0%|          | 0/2 [00:00<?, ?batch/s]"
      ]
     },
     "metadata": {},
     "output_type": "display_data"
    },
    {
     "name": "stdout",
     "output_type": "stream",
     "text": [
      "Epoch 376, Val Loss: 0.000093, Val R2: 0.999908\n"
     ]
    },
    {
     "data": {
      "application/vnd.jupyter.widget-view+json": {
       "model_id": "b68b45700f35484b939310707c6833d1",
       "version_major": 2,
       "version_minor": 0
      },
      "text/plain": [
       "  0%|          | 0/2 [00:00<?, ?batch/s]"
      ]
     },
     "metadata": {},
     "output_type": "display_data"
    },
    {
     "name": "stdout",
     "output_type": "stream",
     "text": [
      "Epoch 377, Val Loss: 0.000093, Val R2: 0.999908\n"
     ]
    },
    {
     "data": {
      "application/vnd.jupyter.widget-view+json": {
       "model_id": "d614054ba1da4118a70eae3ff7a3e4ab",
       "version_major": 2,
       "version_minor": 0
      },
      "text/plain": [
       "  0%|          | 0/2 [00:00<?, ?batch/s]"
      ]
     },
     "metadata": {},
     "output_type": "display_data"
    },
    {
     "name": "stdout",
     "output_type": "stream",
     "text": [
      "Epoch 378, Val Loss: 0.000092, Val R2: 0.999908\n"
     ]
    },
    {
     "data": {
      "application/vnd.jupyter.widget-view+json": {
       "model_id": "eb7103ad2f1f488b9c65c8baafc25628",
       "version_major": 2,
       "version_minor": 0
      },
      "text/plain": [
       "  0%|          | 0/2 [00:00<?, ?batch/s]"
      ]
     },
     "metadata": {},
     "output_type": "display_data"
    },
    {
     "name": "stdout",
     "output_type": "stream",
     "text": [
      "Epoch 379, Val Loss: 0.000092, Val R2: 0.999909\n"
     ]
    },
    {
     "data": {
      "application/vnd.jupyter.widget-view+json": {
       "model_id": "005eded2d7b64cb2a39e05f1765a7814",
       "version_major": 2,
       "version_minor": 0
      },
      "text/plain": [
       "  0%|          | 0/2 [00:00<?, ?batch/s]"
      ]
     },
     "metadata": {},
     "output_type": "display_data"
    },
    {
     "name": "stdout",
     "output_type": "stream",
     "text": [
      "Epoch 380, Val Loss: 0.000092, Val R2: 0.999909\n"
     ]
    },
    {
     "data": {
      "application/vnd.jupyter.widget-view+json": {
       "model_id": "3884e871092740bc9d8a5b9985af8762",
       "version_major": 2,
       "version_minor": 0
      },
      "text/plain": [
       "  0%|          | 0/2 [00:00<?, ?batch/s]"
      ]
     },
     "metadata": {},
     "output_type": "display_data"
    },
    {
     "name": "stdout",
     "output_type": "stream",
     "text": [
      "Epoch 381, Val Loss: 0.000091, Val R2: 0.999909\n"
     ]
    },
    {
     "data": {
      "application/vnd.jupyter.widget-view+json": {
       "model_id": "090f829eac8743cdae188bf5c0f0c0ed",
       "version_major": 2,
       "version_minor": 0
      },
      "text/plain": [
       "  0%|          | 0/2 [00:00<?, ?batch/s]"
      ]
     },
     "metadata": {},
     "output_type": "display_data"
    },
    {
     "name": "stdout",
     "output_type": "stream",
     "text": [
      "Epoch 382, Val Loss: 0.000091, Val R2: 0.999910\n"
     ]
    },
    {
     "data": {
      "application/vnd.jupyter.widget-view+json": {
       "model_id": "88ea72c1dd674e7bb299c1965c8bdeea",
       "version_major": 2,
       "version_minor": 0
      },
      "text/plain": [
       "  0%|          | 0/2 [00:00<?, ?batch/s]"
      ]
     },
     "metadata": {},
     "output_type": "display_data"
    },
    {
     "name": "stdout",
     "output_type": "stream",
     "text": [
      "Epoch 383, Val Loss: 0.000090, Val R2: 0.999910\n"
     ]
    },
    {
     "data": {
      "application/vnd.jupyter.widget-view+json": {
       "model_id": "58f3952cdc914be6b2682064faf604e2",
       "version_major": 2,
       "version_minor": 0
      },
      "text/plain": [
       "  0%|          | 0/2 [00:00<?, ?batch/s]"
      ]
     },
     "metadata": {},
     "output_type": "display_data"
    },
    {
     "name": "stdout",
     "output_type": "stream",
     "text": [
      "Epoch 384, Val Loss: 0.000090, Val R2: 0.999911\n"
     ]
    },
    {
     "data": {
      "application/vnd.jupyter.widget-view+json": {
       "model_id": "60434f97209c475794f3b8d873d34cbb",
       "version_major": 2,
       "version_minor": 0
      },
      "text/plain": [
       "  0%|          | 0/2 [00:00<?, ?batch/s]"
      ]
     },
     "metadata": {},
     "output_type": "display_data"
    },
    {
     "name": "stdout",
     "output_type": "stream",
     "text": [
      "Epoch 385, Val Loss: 0.000090, Val R2: 0.999911\n"
     ]
    },
    {
     "data": {
      "application/vnd.jupyter.widget-view+json": {
       "model_id": "440f2a8b7aa84f058a8bcb41000d5790",
       "version_major": 2,
       "version_minor": 0
      },
      "text/plain": [
       "  0%|          | 0/2 [00:00<?, ?batch/s]"
      ]
     },
     "metadata": {},
     "output_type": "display_data"
    },
    {
     "name": "stdout",
     "output_type": "stream",
     "text": [
      "Epoch 386, Val Loss: 0.000089, Val R2: 0.999911\n"
     ]
    },
    {
     "data": {
      "application/vnd.jupyter.widget-view+json": {
       "model_id": "a8af69c4c64341cc82ec7744cb3e4d1d",
       "version_major": 2,
       "version_minor": 0
      },
      "text/plain": [
       "  0%|          | 0/2 [00:00<?, ?batch/s]"
      ]
     },
     "metadata": {},
     "output_type": "display_data"
    },
    {
     "name": "stdout",
     "output_type": "stream",
     "text": [
      "Epoch 387, Val Loss: 0.000089, Val R2: 0.999912\n"
     ]
    },
    {
     "data": {
      "application/vnd.jupyter.widget-view+json": {
       "model_id": "005dda0a836644469ff5fdbdaa06c854",
       "version_major": 2,
       "version_minor": 0
      },
      "text/plain": [
       "  0%|          | 0/2 [00:00<?, ?batch/s]"
      ]
     },
     "metadata": {},
     "output_type": "display_data"
    },
    {
     "name": "stdout",
     "output_type": "stream",
     "text": [
      "Epoch 388, Val Loss: 0.000089, Val R2: 0.999912\n"
     ]
    },
    {
     "data": {
      "application/vnd.jupyter.widget-view+json": {
       "model_id": "15572ed7ad2f4e03ab173833d2f9e6f7",
       "version_major": 2,
       "version_minor": 0
      },
      "text/plain": [
       "  0%|          | 0/2 [00:00<?, ?batch/s]"
      ]
     },
     "metadata": {},
     "output_type": "display_data"
    },
    {
     "name": "stdout",
     "output_type": "stream",
     "text": [
      "Epoch 389, Val Loss: 0.000088, Val R2: 0.999912\n"
     ]
    },
    {
     "data": {
      "application/vnd.jupyter.widget-view+json": {
       "model_id": "c4a9dd68ba6a4899aeff92de3a60c323",
       "version_major": 2,
       "version_minor": 0
      },
      "text/plain": [
       "  0%|          | 0/2 [00:00<?, ?batch/s]"
      ]
     },
     "metadata": {},
     "output_type": "display_data"
    },
    {
     "name": "stdout",
     "output_type": "stream",
     "text": [
      "Epoch 390, Val Loss: 0.000088, Val R2: 0.999913\n"
     ]
    },
    {
     "data": {
      "application/vnd.jupyter.widget-view+json": {
       "model_id": "a2164d64e3054131814155232dc058cd",
       "version_major": 2,
       "version_minor": 0
      },
      "text/plain": [
       "  0%|          | 0/2 [00:00<?, ?batch/s]"
      ]
     },
     "metadata": {},
     "output_type": "display_data"
    },
    {
     "name": "stdout",
     "output_type": "stream",
     "text": [
      "Epoch 391, Val Loss: 0.000088, Val R2: 0.999913\n"
     ]
    },
    {
     "data": {
      "application/vnd.jupyter.widget-view+json": {
       "model_id": "d1039c8876e54cff8041ea91320b0325",
       "version_major": 2,
       "version_minor": 0
      },
      "text/plain": [
       "  0%|          | 0/2 [00:00<?, ?batch/s]"
      ]
     },
     "metadata": {},
     "output_type": "display_data"
    },
    {
     "name": "stdout",
     "output_type": "stream",
     "text": [
      "Epoch 392, Val Loss: 0.000087, Val R2: 0.999913\n"
     ]
    },
    {
     "data": {
      "application/vnd.jupyter.widget-view+json": {
       "model_id": "4b7291f2ecd346b1acf8579ae24ecae5",
       "version_major": 2,
       "version_minor": 0
      },
      "text/plain": [
       "  0%|          | 0/2 [00:00<?, ?batch/s]"
      ]
     },
     "metadata": {},
     "output_type": "display_data"
    },
    {
     "name": "stdout",
     "output_type": "stream",
     "text": [
      "Epoch 393, Val Loss: 0.000087, Val R2: 0.999914\n"
     ]
    },
    {
     "data": {
      "application/vnd.jupyter.widget-view+json": {
       "model_id": "fcd0ce28331140e3be3fe197362f5de6",
       "version_major": 2,
       "version_minor": 0
      },
      "text/plain": [
       "  0%|          | 0/2 [00:00<?, ?batch/s]"
      ]
     },
     "metadata": {},
     "output_type": "display_data"
    },
    {
     "name": "stdout",
     "output_type": "stream",
     "text": [
      "Epoch 394, Val Loss: 0.000086, Val R2: 0.999914\n"
     ]
    },
    {
     "data": {
      "application/vnd.jupyter.widget-view+json": {
       "model_id": "ec778ed2783f4e069de3ede35b020654",
       "version_major": 2,
       "version_minor": 0
      },
      "text/plain": [
       "  0%|          | 0/2 [00:00<?, ?batch/s]"
      ]
     },
     "metadata": {},
     "output_type": "display_data"
    },
    {
     "name": "stdout",
     "output_type": "stream",
     "text": [
      "Epoch 395, Val Loss: 0.000086, Val R2: 0.999915\n"
     ]
    },
    {
     "data": {
      "application/vnd.jupyter.widget-view+json": {
       "model_id": "6b76895bf1bd4ce2a9d585352395d21d",
       "version_major": 2,
       "version_minor": 0
      },
      "text/plain": [
       "  0%|          | 0/2 [00:00<?, ?batch/s]"
      ]
     },
     "metadata": {},
     "output_type": "display_data"
    },
    {
     "name": "stdout",
     "output_type": "stream",
     "text": [
      "Epoch 396, Val Loss: 0.000086, Val R2: 0.999915\n"
     ]
    },
    {
     "data": {
      "application/vnd.jupyter.widget-view+json": {
       "model_id": "5ab1bc99e7fd4fa6b8ed9d84a2ce3173",
       "version_major": 2,
       "version_minor": 0
      },
      "text/plain": [
       "  0%|          | 0/2 [00:00<?, ?batch/s]"
      ]
     },
     "metadata": {},
     "output_type": "display_data"
    },
    {
     "name": "stdout",
     "output_type": "stream",
     "text": [
      "Epoch 397, Val Loss: 0.000085, Val R2: 0.999915\n"
     ]
    },
    {
     "data": {
      "application/vnd.jupyter.widget-view+json": {
       "model_id": "eac981c783fa4e8c92b1532ea9f12982",
       "version_major": 2,
       "version_minor": 0
      },
      "text/plain": [
       "  0%|          | 0/2 [00:00<?, ?batch/s]"
      ]
     },
     "metadata": {},
     "output_type": "display_data"
    },
    {
     "name": "stdout",
     "output_type": "stream",
     "text": [
      "Epoch 398, Val Loss: 0.000085, Val R2: 0.999916\n"
     ]
    },
    {
     "data": {
      "application/vnd.jupyter.widget-view+json": {
       "model_id": "0dc2fe1c308c45489b3d2514f6ddba18",
       "version_major": 2,
       "version_minor": 0
      },
      "text/plain": [
       "  0%|          | 0/2 [00:00<?, ?batch/s]"
      ]
     },
     "metadata": {},
     "output_type": "display_data"
    },
    {
     "name": "stdout",
     "output_type": "stream",
     "text": [
      "Epoch 399, Val Loss: 0.000085, Val R2: 0.999916\n"
     ]
    },
    {
     "data": {
      "application/vnd.jupyter.widget-view+json": {
       "model_id": "8d57768ad8594d3488e9ae2841c86c7f",
       "version_major": 2,
       "version_minor": 0
      },
      "text/plain": [
       "  0%|          | 0/2 [00:00<?, ?batch/s]"
      ]
     },
     "metadata": {},
     "output_type": "display_data"
    },
    {
     "name": "stdout",
     "output_type": "stream",
     "text": [
      "Epoch 400, Val Loss: 0.000084, Val R2: 0.999916\n"
     ]
    },
    {
     "data": {
      "application/vnd.jupyter.widget-view+json": {
       "model_id": "41baf4096e684ed2b358715c7cbe688a",
       "version_major": 2,
       "version_minor": 0
      },
      "text/plain": [
       "  0%|          | 0/2 [00:00<?, ?batch/s]"
      ]
     },
     "metadata": {},
     "output_type": "display_data"
    },
    {
     "name": "stdout",
     "output_type": "stream",
     "text": [
      "Epoch 401, Val Loss: 0.000084, Val R2: 0.999916\n"
     ]
    },
    {
     "data": {
      "application/vnd.jupyter.widget-view+json": {
       "model_id": "0d13342d874047dc8bd2e0728376fcf7",
       "version_major": 2,
       "version_minor": 0
      },
      "text/plain": [
       "  0%|          | 0/2 [00:00<?, ?batch/s]"
      ]
     },
     "metadata": {},
     "output_type": "display_data"
    },
    {
     "name": "stdout",
     "output_type": "stream",
     "text": [
      "Epoch 402, Val Loss: 0.000084, Val R2: 0.999917\n"
     ]
    },
    {
     "data": {
      "application/vnd.jupyter.widget-view+json": {
       "model_id": "8646362d49a647789d2e6c6a9de99d30",
       "version_major": 2,
       "version_minor": 0
      },
      "text/plain": [
       "  0%|          | 0/2 [00:00<?, ?batch/s]"
      ]
     },
     "metadata": {},
     "output_type": "display_data"
    },
    {
     "name": "stdout",
     "output_type": "stream",
     "text": [
      "Epoch 403, Val Loss: 0.000083, Val R2: 0.999917\n"
     ]
    },
    {
     "data": {
      "application/vnd.jupyter.widget-view+json": {
       "model_id": "418d45b8ddb7400fafc34cfb01fec52e",
       "version_major": 2,
       "version_minor": 0
      },
      "text/plain": [
       "  0%|          | 0/2 [00:00<?, ?batch/s]"
      ]
     },
     "metadata": {},
     "output_type": "display_data"
    },
    {
     "name": "stdout",
     "output_type": "stream",
     "text": [
      "Epoch 404, Val Loss: 0.000083, Val R2: 0.999918\n"
     ]
    },
    {
     "data": {
      "application/vnd.jupyter.widget-view+json": {
       "model_id": "e22d6bcf2212435ab5ac5a58941900e4",
       "version_major": 2,
       "version_minor": 0
      },
      "text/plain": [
       "  0%|          | 0/2 [00:00<?, ?batch/s]"
      ]
     },
     "metadata": {},
     "output_type": "display_data"
    },
    {
     "name": "stdout",
     "output_type": "stream",
     "text": [
      "Epoch 405, Val Loss: 0.000083, Val R2: 0.999918\n"
     ]
    },
    {
     "data": {
      "application/vnd.jupyter.widget-view+json": {
       "model_id": "21598c2277884076a88871a13aecadca",
       "version_major": 2,
       "version_minor": 0
      },
      "text/plain": [
       "  0%|          | 0/2 [00:00<?, ?batch/s]"
      ]
     },
     "metadata": {},
     "output_type": "display_data"
    },
    {
     "name": "stdout",
     "output_type": "stream",
     "text": [
      "Epoch 406, Val Loss: 0.000082, Val R2: 0.999918\n"
     ]
    },
    {
     "data": {
      "application/vnd.jupyter.widget-view+json": {
       "model_id": "b3628317f93d40bf96117d92060eee34",
       "version_major": 2,
       "version_minor": 0
      },
      "text/plain": [
       "  0%|          | 0/2 [00:00<?, ?batch/s]"
      ]
     },
     "metadata": {},
     "output_type": "display_data"
    },
    {
     "name": "stdout",
     "output_type": "stream",
     "text": [
      "Epoch 407, Val Loss: 0.000082, Val R2: 0.999918\n"
     ]
    },
    {
     "data": {
      "application/vnd.jupyter.widget-view+json": {
       "model_id": "8f8947f6b3b14ea78c6230fd055803eb",
       "version_major": 2,
       "version_minor": 0
      },
      "text/plain": [
       "  0%|          | 0/2 [00:00<?, ?batch/s]"
      ]
     },
     "metadata": {},
     "output_type": "display_data"
    },
    {
     "name": "stdout",
     "output_type": "stream",
     "text": [
      "Epoch 408, Val Loss: 0.000082, Val R2: 0.999919\n"
     ]
    },
    {
     "data": {
      "application/vnd.jupyter.widget-view+json": {
       "model_id": "49b6a063fb534397b051d98f25970b7d",
       "version_major": 2,
       "version_minor": 0
      },
      "text/plain": [
       "  0%|          | 0/2 [00:00<?, ?batch/s]"
      ]
     },
     "metadata": {},
     "output_type": "display_data"
    },
    {
     "name": "stdout",
     "output_type": "stream",
     "text": [
      "Epoch 409, Val Loss: 0.000082, Val R2: 0.999919\n"
     ]
    },
    {
     "data": {
      "application/vnd.jupyter.widget-view+json": {
       "model_id": "7accf04106c9492f8a7761096cd8cb3e",
       "version_major": 2,
       "version_minor": 0
      },
      "text/plain": [
       "  0%|          | 0/2 [00:00<?, ?batch/s]"
      ]
     },
     "metadata": {},
     "output_type": "display_data"
    },
    {
     "name": "stdout",
     "output_type": "stream",
     "text": [
      "Epoch 410, Val Loss: 0.000081, Val R2: 0.999919\n"
     ]
    },
    {
     "data": {
      "application/vnd.jupyter.widget-view+json": {
       "model_id": "57d144682cce4fc6ae681e0537a6c459",
       "version_major": 2,
       "version_minor": 0
      },
      "text/plain": [
       "  0%|          | 0/2 [00:00<?, ?batch/s]"
      ]
     },
     "metadata": {},
     "output_type": "display_data"
    },
    {
     "name": "stdout",
     "output_type": "stream",
     "text": [
      "Epoch 411, Val Loss: 0.000081, Val R2: 0.999920\n"
     ]
    },
    {
     "data": {
      "application/vnd.jupyter.widget-view+json": {
       "model_id": "9ed9e36fc8d54fb982ef76c8aff54a46",
       "version_major": 2,
       "version_minor": 0
      },
      "text/plain": [
       "  0%|          | 0/2 [00:00<?, ?batch/s]"
      ]
     },
     "metadata": {},
     "output_type": "display_data"
    },
    {
     "name": "stdout",
     "output_type": "stream",
     "text": [
      "Epoch 412, Val Loss: 0.000081, Val R2: 0.999920\n"
     ]
    },
    {
     "data": {
      "application/vnd.jupyter.widget-view+json": {
       "model_id": "209219c891a0409abc83bcc2d084e201",
       "version_major": 2,
       "version_minor": 0
      },
      "text/plain": [
       "  0%|          | 0/2 [00:00<?, ?batch/s]"
      ]
     },
     "metadata": {},
     "output_type": "display_data"
    },
    {
     "name": "stdout",
     "output_type": "stream",
     "text": [
      "Epoch 413, Val Loss: 0.000080, Val R2: 0.999920\n"
     ]
    },
    {
     "data": {
      "application/vnd.jupyter.widget-view+json": {
       "model_id": "a4735f28fe4c4a15a0e63347b06c21bd",
       "version_major": 2,
       "version_minor": 0
      },
      "text/plain": [
       "  0%|          | 0/2 [00:00<?, ?batch/s]"
      ]
     },
     "metadata": {},
     "output_type": "display_data"
    },
    {
     "name": "stdout",
     "output_type": "stream",
     "text": [
      "Epoch 414, Val Loss: 0.000080, Val R2: 0.999921\n"
     ]
    },
    {
     "data": {
      "application/vnd.jupyter.widget-view+json": {
       "model_id": "6dca249441024d408c64ff1f380b06be",
       "version_major": 2,
       "version_minor": 0
      },
      "text/plain": [
       "  0%|          | 0/2 [00:00<?, ?batch/s]"
      ]
     },
     "metadata": {},
     "output_type": "display_data"
    },
    {
     "name": "stdout",
     "output_type": "stream",
     "text": [
      "Epoch 415, Val Loss: 0.000080, Val R2: 0.999921\n"
     ]
    },
    {
     "data": {
      "application/vnd.jupyter.widget-view+json": {
       "model_id": "1bdd40609b1e4a0c86c9f9494e2d82e5",
       "version_major": 2,
       "version_minor": 0
      },
      "text/plain": [
       "  0%|          | 0/2 [00:00<?, ?batch/s]"
      ]
     },
     "metadata": {},
     "output_type": "display_data"
    },
    {
     "name": "stdout",
     "output_type": "stream",
     "text": [
      "Epoch 416, Val Loss: 0.000079, Val R2: 0.999921\n"
     ]
    },
    {
     "data": {
      "application/vnd.jupyter.widget-view+json": {
       "model_id": "f716ca4c1e094d7188d0a53a7785029e",
       "version_major": 2,
       "version_minor": 0
      },
      "text/plain": [
       "  0%|          | 0/2 [00:00<?, ?batch/s]"
      ]
     },
     "metadata": {},
     "output_type": "display_data"
    },
    {
     "name": "stdout",
     "output_type": "stream",
     "text": [
      "Epoch 417, Val Loss: 0.000079, Val R2: 0.999922\n"
     ]
    },
    {
     "data": {
      "application/vnd.jupyter.widget-view+json": {
       "model_id": "b4be051eaa3e4413a37e7855d2519cbd",
       "version_major": 2,
       "version_minor": 0
      },
      "text/plain": [
       "  0%|          | 0/2 [00:00<?, ?batch/s]"
      ]
     },
     "metadata": {},
     "output_type": "display_data"
    },
    {
     "name": "stdout",
     "output_type": "stream",
     "text": [
      "Epoch 418, Val Loss: 0.000079, Val R2: 0.999922\n"
     ]
    },
    {
     "data": {
      "application/vnd.jupyter.widget-view+json": {
       "model_id": "c7ccda0b891b4be69a7d9f6d7dda1c62",
       "version_major": 2,
       "version_minor": 0
      },
      "text/plain": [
       "  0%|          | 0/2 [00:00<?, ?batch/s]"
      ]
     },
     "metadata": {},
     "output_type": "display_data"
    },
    {
     "name": "stdout",
     "output_type": "stream",
     "text": [
      "Epoch 419, Val Loss: 0.000079, Val R2: 0.999922\n"
     ]
    },
    {
     "data": {
      "application/vnd.jupyter.widget-view+json": {
       "model_id": "ac3806a2e66f477a94cc95c078c159bf",
       "version_major": 2,
       "version_minor": 0
      },
      "text/plain": [
       "  0%|          | 0/2 [00:00<?, ?batch/s]"
      ]
     },
     "metadata": {},
     "output_type": "display_data"
    },
    {
     "name": "stdout",
     "output_type": "stream",
     "text": [
      "Epoch 420, Val Loss: 0.000078, Val R2: 0.999922\n"
     ]
    },
    {
     "data": {
      "application/vnd.jupyter.widget-view+json": {
       "model_id": "8a95647078e04329874cf7e43d7a2aff",
       "version_major": 2,
       "version_minor": 0
      },
      "text/plain": [
       "  0%|          | 0/2 [00:00<?, ?batch/s]"
      ]
     },
     "metadata": {},
     "output_type": "display_data"
    },
    {
     "name": "stdout",
     "output_type": "stream",
     "text": [
      "Epoch 421, Val Loss: 0.000078, Val R2: 0.999922\n"
     ]
    },
    {
     "data": {
      "application/vnd.jupyter.widget-view+json": {
       "model_id": "1deb7cd113d14d7093842f14cd60087b",
       "version_major": 2,
       "version_minor": 0
      },
      "text/plain": [
       "  0%|          | 0/2 [00:00<?, ?batch/s]"
      ]
     },
     "metadata": {},
     "output_type": "display_data"
    },
    {
     "name": "stdout",
     "output_type": "stream",
     "text": [
      "Epoch 422, Val Loss: 0.000079, Val R2: 0.999922\n"
     ]
    },
    {
     "data": {
      "application/vnd.jupyter.widget-view+json": {
       "model_id": "49aadb5837594c5cba8edfdb313819c5",
       "version_major": 2,
       "version_minor": 0
      },
      "text/plain": [
       "  0%|          | 0/2 [00:00<?, ?batch/s]"
      ]
     },
     "metadata": {},
     "output_type": "display_data"
    },
    {
     "name": "stdout",
     "output_type": "stream",
     "text": [
      "Epoch 423, Val Loss: 0.000080, Val R2: 0.999921\n"
     ]
    },
    {
     "data": {
      "application/vnd.jupyter.widget-view+json": {
       "model_id": "851b937d0091412d9aa66ba32280ec0a",
       "version_major": 2,
       "version_minor": 0
      },
      "text/plain": [
       "  0%|          | 0/2 [00:00<?, ?batch/s]"
      ]
     },
     "metadata": {},
     "output_type": "display_data"
    },
    {
     "name": "stdout",
     "output_type": "stream",
     "text": [
      "Epoch 424, Val Loss: 0.000083, Val R2: 0.999918\n"
     ]
    },
    {
     "data": {
      "application/vnd.jupyter.widget-view+json": {
       "model_id": "31653e1435d94391b3255664f83218c4",
       "version_major": 2,
       "version_minor": 0
      },
      "text/plain": [
       "  0%|          | 0/2 [00:00<?, ?batch/s]"
      ]
     },
     "metadata": {},
     "output_type": "display_data"
    },
    {
     "name": "stdout",
     "output_type": "stream",
     "text": [
      "Epoch 425, Val Loss: 0.000089, Val R2: 0.999912\n"
     ]
    },
    {
     "data": {
      "application/vnd.jupyter.widget-view+json": {
       "model_id": "c5b93be5e04144499574a72dbbd67d47",
       "version_major": 2,
       "version_minor": 0
      },
      "text/plain": [
       "  0%|          | 0/2 [00:00<?, ?batch/s]"
      ]
     },
     "metadata": {},
     "output_type": "display_data"
    },
    {
     "name": "stdout",
     "output_type": "stream",
     "text": [
      "Epoch 426, Val Loss: 0.000099, Val R2: 0.999902\n"
     ]
    },
    {
     "data": {
      "application/vnd.jupyter.widget-view+json": {
       "model_id": "585b366cc98f49d28b3ff24750bdf896",
       "version_major": 2,
       "version_minor": 0
      },
      "text/plain": [
       "  0%|          | 0/2 [00:00<?, ?batch/s]"
      ]
     },
     "metadata": {},
     "output_type": "display_data"
    },
    {
     "name": "stdout",
     "output_type": "stream",
     "text": [
      "Epoch 427, Val Loss: 0.000107, Val R2: 0.999894\n"
     ]
    },
    {
     "data": {
      "application/vnd.jupyter.widget-view+json": {
       "model_id": "7df274a740ff4bf58346e86af8f4e944",
       "version_major": 2,
       "version_minor": 0
      },
      "text/plain": [
       "  0%|          | 0/2 [00:00<?, ?batch/s]"
      ]
     },
     "metadata": {},
     "output_type": "display_data"
    },
    {
     "name": "stdout",
     "output_type": "stream",
     "text": [
      "Epoch 428, Val Loss: 0.000097, Val R2: 0.999903\n"
     ]
    },
    {
     "data": {
      "application/vnd.jupyter.widget-view+json": {
       "model_id": "4fe0cf9632d943f2a6966053d97dc8a5",
       "version_major": 2,
       "version_minor": 0
      },
      "text/plain": [
       "  0%|          | 0/2 [00:00<?, ?batch/s]"
      ]
     },
     "metadata": {},
     "output_type": "display_data"
    },
    {
     "name": "stdout",
     "output_type": "stream",
     "text": [
      "Epoch 429, Val Loss: 0.000079, Val R2: 0.999922\n"
     ]
    },
    {
     "data": {
      "application/vnd.jupyter.widget-view+json": {
       "model_id": "4c5428577d1549729004a6f08001fd0a",
       "version_major": 2,
       "version_minor": 0
      },
      "text/plain": [
       "  0%|          | 0/2 [00:00<?, ?batch/s]"
      ]
     },
     "metadata": {},
     "output_type": "display_data"
    },
    {
     "name": "stdout",
     "output_type": "stream",
     "text": [
      "Epoch 430, Val Loss: 0.000078, Val R2: 0.999922\n"
     ]
    },
    {
     "data": {
      "application/vnd.jupyter.widget-view+json": {
       "model_id": "61eb26722e0d4b328ebe510934ccf916",
       "version_major": 2,
       "version_minor": 0
      },
      "text/plain": [
       "  0%|          | 0/2 [00:00<?, ?batch/s]"
      ]
     },
     "metadata": {},
     "output_type": "display_data"
    },
    {
     "name": "stdout",
     "output_type": "stream",
     "text": [
      "Epoch 431, Val Loss: 0.000088, Val R2: 0.999913\n"
     ]
    },
    {
     "data": {
      "application/vnd.jupyter.widget-view+json": {
       "model_id": "89f79a35717348a38a7ffd794b84b16d",
       "version_major": 2,
       "version_minor": 0
      },
      "text/plain": [
       "  0%|          | 0/2 [00:00<?, ?batch/s]"
      ]
     },
     "metadata": {},
     "output_type": "display_data"
    },
    {
     "name": "stdout",
     "output_type": "stream",
     "text": [
      "Epoch 432, Val Loss: 0.000085, Val R2: 0.999916\n"
     ]
    },
    {
     "data": {
      "application/vnd.jupyter.widget-view+json": {
       "model_id": "b4190511db5c4efdb0a14a5e80fbc014",
       "version_major": 2,
       "version_minor": 0
      },
      "text/plain": [
       "  0%|          | 0/2 [00:00<?, ?batch/s]"
      ]
     },
     "metadata": {},
     "output_type": "display_data"
    },
    {
     "name": "stdout",
     "output_type": "stream",
     "text": [
      "Epoch 433, Val Loss: 0.000076, Val R2: 0.999925\n"
     ]
    },
    {
     "data": {
      "application/vnd.jupyter.widget-view+json": {
       "model_id": "ccd050ca9fd94cfea561f28ec965fec8",
       "version_major": 2,
       "version_minor": 0
      },
      "text/plain": [
       "  0%|          | 0/2 [00:00<?, ?batch/s]"
      ]
     },
     "metadata": {},
     "output_type": "display_data"
    },
    {
     "name": "stdout",
     "output_type": "stream",
     "text": [
      "Epoch 434, Val Loss: 0.000076, Val R2: 0.999924\n"
     ]
    },
    {
     "data": {
      "application/vnd.jupyter.widget-view+json": {
       "model_id": "492c053cf3b840dea46c5cf16251a64b",
       "version_major": 2,
       "version_minor": 0
      },
      "text/plain": [
       "  0%|          | 0/2 [00:00<?, ?batch/s]"
      ]
     },
     "metadata": {},
     "output_type": "display_data"
    },
    {
     "name": "stdout",
     "output_type": "stream",
     "text": [
      "Epoch 435, Val Loss: 0.000080, Val R2: 0.999921\n"
     ]
    },
    {
     "data": {
      "application/vnd.jupyter.widget-view+json": {
       "model_id": "fc2d737075734607bd5448c99837a4c7",
       "version_major": 2,
       "version_minor": 0
      },
      "text/plain": [
       "  0%|          | 0/2 [00:00<?, ?batch/s]"
      ]
     },
     "metadata": {},
     "output_type": "display_data"
    },
    {
     "name": "stdout",
     "output_type": "stream",
     "text": [
      "Epoch 436, Val Loss: 0.000077, Val R2: 0.999923\n"
     ]
    },
    {
     "data": {
      "application/vnd.jupyter.widget-view+json": {
       "model_id": "c3d9d695da8b43509ff97d4cec3cfb4f",
       "version_major": 2,
       "version_minor": 0
      },
      "text/plain": [
       "  0%|          | 0/2 [00:00<?, ?batch/s]"
      ]
     },
     "metadata": {},
     "output_type": "display_data"
    },
    {
     "name": "stdout",
     "output_type": "stream",
     "text": [
      "Epoch 437, Val Loss: 0.000074, Val R2: 0.999927\n"
     ]
    },
    {
     "data": {
      "application/vnd.jupyter.widget-view+json": {
       "model_id": "aef1082d757045559e2f1bb7246af42b",
       "version_major": 2,
       "version_minor": 0
      },
      "text/plain": [
       "  0%|          | 0/2 [00:00<?, ?batch/s]"
      ]
     },
     "metadata": {},
     "output_type": "display_data"
    },
    {
     "name": "stdout",
     "output_type": "stream",
     "text": [
      "Epoch 438, Val Loss: 0.000075, Val R2: 0.999926\n"
     ]
    },
    {
     "data": {
      "application/vnd.jupyter.widget-view+json": {
       "model_id": "265d4f65423048f8bb5114572a9feada",
       "version_major": 2,
       "version_minor": 0
      },
      "text/plain": [
       "  0%|          | 0/2 [00:00<?, ?batch/s]"
      ]
     },
     "metadata": {},
     "output_type": "display_data"
    },
    {
     "name": "stdout",
     "output_type": "stream",
     "text": [
      "Epoch 439, Val Loss: 0.000076, Val R2: 0.999924\n"
     ]
    },
    {
     "data": {
      "application/vnd.jupyter.widget-view+json": {
       "model_id": "2722babf040b4a5686f8fa419f8ce05c",
       "version_major": 2,
       "version_minor": 0
      },
      "text/plain": [
       "  0%|          | 0/2 [00:00<?, ?batch/s]"
      ]
     },
     "metadata": {},
     "output_type": "display_data"
    },
    {
     "name": "stdout",
     "output_type": "stream",
     "text": [
      "Epoch 440, Val Loss: 0.000075, Val R2: 0.999926\n"
     ]
    },
    {
     "data": {
      "application/vnd.jupyter.widget-view+json": {
       "model_id": "a9e11cd9328a4a5aa4e0202195de36b6",
       "version_major": 2,
       "version_minor": 0
      },
      "text/plain": [
       "  0%|          | 0/2 [00:00<?, ?batch/s]"
      ]
     },
     "metadata": {},
     "output_type": "display_data"
    },
    {
     "name": "stdout",
     "output_type": "stream",
     "text": [
      "Epoch 441, Val Loss: 0.000073, Val R2: 0.999928\n"
     ]
    },
    {
     "data": {
      "application/vnd.jupyter.widget-view+json": {
       "model_id": "bf8ef24f24f14c689a72e71bf5e62f61",
       "version_major": 2,
       "version_minor": 0
      },
      "text/plain": [
       "  0%|          | 0/2 [00:00<?, ?batch/s]"
      ]
     },
     "metadata": {},
     "output_type": "display_data"
    },
    {
     "name": "stdout",
     "output_type": "stream",
     "text": [
      "Epoch 442, Val Loss: 0.000073, Val R2: 0.999928\n"
     ]
    },
    {
     "data": {
      "application/vnd.jupyter.widget-view+json": {
       "model_id": "1c3650eb539a41f0aba9c8acc0fcf801",
       "version_major": 2,
       "version_minor": 0
      },
      "text/plain": [
       "  0%|          | 0/2 [00:00<?, ?batch/s]"
      ]
     },
     "metadata": {},
     "output_type": "display_data"
    },
    {
     "name": "stdout",
     "output_type": "stream",
     "text": [
      "Epoch 443, Val Loss: 0.000073, Val R2: 0.999927\n"
     ]
    },
    {
     "data": {
      "application/vnd.jupyter.widget-view+json": {
       "model_id": "f0a3508d8c584628ac5801c75ad62e82",
       "version_major": 2,
       "version_minor": 0
      },
      "text/plain": [
       "  0%|          | 0/2 [00:00<?, ?batch/s]"
      ]
     },
     "metadata": {},
     "output_type": "display_data"
    },
    {
     "name": "stdout",
     "output_type": "stream",
     "text": [
      "Epoch 444, Val Loss: 0.000073, Val R2: 0.999928\n"
     ]
    },
    {
     "data": {
      "application/vnd.jupyter.widget-view+json": {
       "model_id": "9144435af2bd4260a3bab9b327dd479e",
       "version_major": 2,
       "version_minor": 0
      },
      "text/plain": [
       "  0%|          | 0/2 [00:00<?, ?batch/s]"
      ]
     },
     "metadata": {},
     "output_type": "display_data"
    },
    {
     "name": "stdout",
     "output_type": "stream",
     "text": [
      "Epoch 445, Val Loss: 0.000072, Val R2: 0.999929\n"
     ]
    },
    {
     "data": {
      "application/vnd.jupyter.widget-view+json": {
       "model_id": "7c5fbd36fff14af8bf460952b64dcfdd",
       "version_major": 2,
       "version_minor": 0
      },
      "text/plain": [
       "  0%|          | 0/2 [00:00<?, ?batch/s]"
      ]
     },
     "metadata": {},
     "output_type": "display_data"
    },
    {
     "name": "stdout",
     "output_type": "stream",
     "text": [
      "Epoch 446, Val Loss: 0.000071, Val R2: 0.999929\n"
     ]
    },
    {
     "data": {
      "application/vnd.jupyter.widget-view+json": {
       "model_id": "9142ced717714c518fd477a4290ccd08",
       "version_major": 2,
       "version_minor": 0
      },
      "text/plain": [
       "  0%|          | 0/2 [00:00<?, ?batch/s]"
      ]
     },
     "metadata": {},
     "output_type": "display_data"
    },
    {
     "name": "stdout",
     "output_type": "stream",
     "text": [
      "Epoch 447, Val Loss: 0.000071, Val R2: 0.999929\n"
     ]
    },
    {
     "data": {
      "application/vnd.jupyter.widget-view+json": {
       "model_id": "6edec5da44c04e0ca713d1288787b7a0",
       "version_major": 2,
       "version_minor": 0
      },
      "text/plain": [
       "  0%|          | 0/2 [00:00<?, ?batch/s]"
      ]
     },
     "metadata": {},
     "output_type": "display_data"
    },
    {
     "name": "stdout",
     "output_type": "stream",
     "text": [
      "Epoch 448, Val Loss: 0.000071, Val R2: 0.999929\n"
     ]
    },
    {
     "data": {
      "application/vnd.jupyter.widget-view+json": {
       "model_id": "77ec6e0dc8934266a069236e47bbc304",
       "version_major": 2,
       "version_minor": 0
      },
      "text/plain": [
       "  0%|          | 0/2 [00:00<?, ?batch/s]"
      ]
     },
     "metadata": {},
     "output_type": "display_data"
    },
    {
     "name": "stdout",
     "output_type": "stream",
     "text": [
      "Epoch 449, Val Loss: 0.000071, Val R2: 0.999929\n"
     ]
    },
    {
     "data": {
      "application/vnd.jupyter.widget-view+json": {
       "model_id": "f9314b437b7b4263be7f6a984db2d597",
       "version_major": 2,
       "version_minor": 0
      },
      "text/plain": [
       "  0%|          | 0/2 [00:00<?, ?batch/s]"
      ]
     },
     "metadata": {},
     "output_type": "display_data"
    },
    {
     "name": "stdout",
     "output_type": "stream",
     "text": [
      "Epoch 450, Val Loss: 0.000071, Val R2: 0.999930\n"
     ]
    },
    {
     "data": {
      "application/vnd.jupyter.widget-view+json": {
       "model_id": "70ec67df760646909432350bfc9dc92c",
       "version_major": 2,
       "version_minor": 0
      },
      "text/plain": [
       "  0%|          | 0/2 [00:00<?, ?batch/s]"
      ]
     },
     "metadata": {},
     "output_type": "display_data"
    },
    {
     "name": "stdout",
     "output_type": "stream",
     "text": [
      "Epoch 451, Val Loss: 0.000070, Val R2: 0.999930\n"
     ]
    },
    {
     "data": {
      "application/vnd.jupyter.widget-view+json": {
       "model_id": "8a53157dfc2047f1b5a109f63fdd1311",
       "version_major": 2,
       "version_minor": 0
      },
      "text/plain": [
       "  0%|          | 0/2 [00:00<?, ?batch/s]"
      ]
     },
     "metadata": {},
     "output_type": "display_data"
    },
    {
     "name": "stdout",
     "output_type": "stream",
     "text": [
      "Epoch 452, Val Loss: 0.000070, Val R2: 0.999931\n"
     ]
    },
    {
     "data": {
      "application/vnd.jupyter.widget-view+json": {
       "model_id": "80294a443f424d1b84b1cbef2b2d1cbe",
       "version_major": 2,
       "version_minor": 0
      },
      "text/plain": [
       "  0%|          | 0/2 [00:00<?, ?batch/s]"
      ]
     },
     "metadata": {},
     "output_type": "display_data"
    },
    {
     "name": "stdout",
     "output_type": "stream",
     "text": [
      "Epoch 453, Val Loss: 0.000069, Val R2: 0.999931\n"
     ]
    },
    {
     "data": {
      "application/vnd.jupyter.widget-view+json": {
       "model_id": "2ea153a160794da495732a3dd96bdb40",
       "version_major": 2,
       "version_minor": 0
      },
      "text/plain": [
       "  0%|          | 0/2 [00:00<?, ?batch/s]"
      ]
     },
     "metadata": {},
     "output_type": "display_data"
    },
    {
     "name": "stdout",
     "output_type": "stream",
     "text": [
      "Epoch 454, Val Loss: 0.000069, Val R2: 0.999931\n"
     ]
    },
    {
     "data": {
      "application/vnd.jupyter.widget-view+json": {
       "model_id": "d9aced5a3fef4f4e9eb7991f00d10fb6",
       "version_major": 2,
       "version_minor": 0
      },
      "text/plain": [
       "  0%|          | 0/2 [00:00<?, ?batch/s]"
      ]
     },
     "metadata": {},
     "output_type": "display_data"
    },
    {
     "name": "stdout",
     "output_type": "stream",
     "text": [
      "Epoch 455, Val Loss: 0.000069, Val R2: 0.999931\n"
     ]
    },
    {
     "data": {
      "application/vnd.jupyter.widget-view+json": {
       "model_id": "f49856a8b8944f6187de7975efd37c56",
       "version_major": 2,
       "version_minor": 0
      },
      "text/plain": [
       "  0%|          | 0/2 [00:00<?, ?batch/s]"
      ]
     },
     "metadata": {},
     "output_type": "display_data"
    },
    {
     "name": "stdout",
     "output_type": "stream",
     "text": [
      "Epoch 456, Val Loss: 0.000069, Val R2: 0.999932\n"
     ]
    },
    {
     "data": {
      "application/vnd.jupyter.widget-view+json": {
       "model_id": "2439b2661bc944d8be306dd5f2fa7c93",
       "version_major": 2,
       "version_minor": 0
      },
      "text/plain": [
       "  0%|          | 0/2 [00:00<?, ?batch/s]"
      ]
     },
     "metadata": {},
     "output_type": "display_data"
    },
    {
     "name": "stdout",
     "output_type": "stream",
     "text": [
      "Epoch 457, Val Loss: 0.000069, Val R2: 0.999932\n"
     ]
    },
    {
     "data": {
      "application/vnd.jupyter.widget-view+json": {
       "model_id": "df4d92396fb24b3ab4215492dfb7218e",
       "version_major": 2,
       "version_minor": 0
      },
      "text/plain": [
       "  0%|          | 0/2 [00:00<?, ?batch/s]"
      ]
     },
     "metadata": {},
     "output_type": "display_data"
    },
    {
     "name": "stdout",
     "output_type": "stream",
     "text": [
      "Epoch 458, Val Loss: 0.000069, Val R2: 0.999931\n"
     ]
    },
    {
     "data": {
      "application/vnd.jupyter.widget-view+json": {
       "model_id": "e7c4b44899f04e71ac6aad235cc3faaa",
       "version_major": 2,
       "version_minor": 0
      },
      "text/plain": [
       "  0%|          | 0/2 [00:00<?, ?batch/s]"
      ]
     },
     "metadata": {},
     "output_type": "display_data"
    },
    {
     "name": "stdout",
     "output_type": "stream",
     "text": [
      "Epoch 459, Val Loss: 0.000070, Val R2: 0.999931\n"
     ]
    },
    {
     "data": {
      "application/vnd.jupyter.widget-view+json": {
       "model_id": "258ea3047db74a7ca022305bde692863",
       "version_major": 2,
       "version_minor": 0
      },
      "text/plain": [
       "  0%|          | 0/2 [00:00<?, ?batch/s]"
      ]
     },
     "metadata": {},
     "output_type": "display_data"
    },
    {
     "name": "stdout",
     "output_type": "stream",
     "text": [
      "Epoch 460, Val Loss: 0.000071, Val R2: 0.999930\n"
     ]
    },
    {
     "data": {
      "application/vnd.jupyter.widget-view+json": {
       "model_id": "2fe6ea8b11c94dd0806f06c8466e3210",
       "version_major": 2,
       "version_minor": 0
      },
      "text/plain": [
       "  0%|          | 0/2 [00:00<?, ?batch/s]"
      ]
     },
     "metadata": {},
     "output_type": "display_data"
    },
    {
     "name": "stdout",
     "output_type": "stream",
     "text": [
      "Epoch 461, Val Loss: 0.000074, Val R2: 0.999926\n"
     ]
    },
    {
     "data": {
      "application/vnd.jupyter.widget-view+json": {
       "model_id": "6231f451cf37412ba4ae3e743c416907",
       "version_major": 2,
       "version_minor": 0
      },
      "text/plain": [
       "  0%|          | 0/2 [00:00<?, ?batch/s]"
      ]
     },
     "metadata": {},
     "output_type": "display_data"
    },
    {
     "name": "stdout",
     "output_type": "stream",
     "text": [
      "Epoch 462, Val Loss: 0.000081, Val R2: 0.999920\n"
     ]
    },
    {
     "data": {
      "application/vnd.jupyter.widget-view+json": {
       "model_id": "84695870ffff489ba6cffeab7ca961a0",
       "version_major": 2,
       "version_minor": 0
      },
      "text/plain": [
       "  0%|          | 0/2 [00:00<?, ?batch/s]"
      ]
     },
     "metadata": {},
     "output_type": "display_data"
    },
    {
     "name": "stdout",
     "output_type": "stream",
     "text": [
      "Epoch 463, Val Loss: 0.000095, Val R2: 0.999906\n"
     ]
    },
    {
     "data": {
      "application/vnd.jupyter.widget-view+json": {
       "model_id": "7db5a98cbdad4b9f816a61d6a2f5e7ba",
       "version_major": 2,
       "version_minor": 0
      },
      "text/plain": [
       "  0%|          | 0/2 [00:00<?, ?batch/s]"
      ]
     },
     "metadata": {},
     "output_type": "display_data"
    },
    {
     "name": "stdout",
     "output_type": "stream",
     "text": [
      "Epoch 464, Val Loss: 0.000111, Val R2: 0.999890\n"
     ]
    },
    {
     "data": {
      "application/vnd.jupyter.widget-view+json": {
       "model_id": "cf1361ff92374659981d02a28f34968f",
       "version_major": 2,
       "version_minor": 0
      },
      "text/plain": [
       "  0%|          | 0/2 [00:00<?, ?batch/s]"
      ]
     },
     "metadata": {},
     "output_type": "display_data"
    },
    {
     "name": "stdout",
     "output_type": "stream",
     "text": [
      "Epoch 465, Val Loss: 0.000112, Val R2: 0.999889\n"
     ]
    },
    {
     "data": {
      "application/vnd.jupyter.widget-view+json": {
       "model_id": "a5aa4ca930624a6d85c1f2132f328bd4",
       "version_major": 2,
       "version_minor": 0
      },
      "text/plain": [
       "  0%|          | 0/2 [00:00<?, ?batch/s]"
      ]
     },
     "metadata": {},
     "output_type": "display_data"
    },
    {
     "name": "stdout",
     "output_type": "stream",
     "text": [
      "Epoch 466, Val Loss: 0.000085, Val R2: 0.999916\n"
     ]
    },
    {
     "data": {
      "application/vnd.jupyter.widget-view+json": {
       "model_id": "bdfac139b50b4de08b4939995ec5492b",
       "version_major": 2,
       "version_minor": 0
      },
      "text/plain": [
       "  0%|          | 0/2 [00:00<?, ?batch/s]"
      ]
     },
     "metadata": {},
     "output_type": "display_data"
    },
    {
     "name": "stdout",
     "output_type": "stream",
     "text": [
      "Epoch 467, Val Loss: 0.000066, Val R2: 0.999934\n"
     ]
    },
    {
     "data": {
      "application/vnd.jupyter.widget-view+json": {
       "model_id": "d54223333158408b9830def29bdc1b36",
       "version_major": 2,
       "version_minor": 0
      },
      "text/plain": [
       "  0%|          | 0/2 [00:00<?, ?batch/s]"
      ]
     },
     "metadata": {},
     "output_type": "display_data"
    },
    {
     "name": "stdout",
     "output_type": "stream",
     "text": [
      "Epoch 468, Val Loss: 0.000078, Val R2: 0.999923\n"
     ]
    },
    {
     "data": {
      "application/vnd.jupyter.widget-view+json": {
       "model_id": "c12d487fb6714aeb9742fb09d86b32ad",
       "version_major": 2,
       "version_minor": 0
      },
      "text/plain": [
       "  0%|          | 0/2 [00:00<?, ?batch/s]"
      ]
     },
     "metadata": {},
     "output_type": "display_data"
    },
    {
     "name": "stdout",
     "output_type": "stream",
     "text": [
      "Epoch 469, Val Loss: 0.000086, Val R2: 0.999914\n"
     ]
    },
    {
     "data": {
      "application/vnd.jupyter.widget-view+json": {
       "model_id": "60d03e694aa64510a2f7f2ee39e3e678",
       "version_major": 2,
       "version_minor": 0
      },
      "text/plain": [
       "  0%|          | 0/2 [00:00<?, ?batch/s]"
      ]
     },
     "metadata": {},
     "output_type": "display_data"
    },
    {
     "name": "stdout",
     "output_type": "stream",
     "text": [
      "Epoch 470, Val Loss: 0.000074, Val R2: 0.999926\n"
     ]
    },
    {
     "data": {
      "application/vnd.jupyter.widget-view+json": {
       "model_id": "6d012957cabd4c97b495e28f4b322504",
       "version_major": 2,
       "version_minor": 0
      },
      "text/plain": [
       "  0%|          | 0/2 [00:00<?, ?batch/s]"
      ]
     },
     "metadata": {},
     "output_type": "display_data"
    },
    {
     "name": "stdout",
     "output_type": "stream",
     "text": [
      "Epoch 471, Val Loss: 0.000065, Val R2: 0.999935\n"
     ]
    },
    {
     "data": {
      "application/vnd.jupyter.widget-view+json": {
       "model_id": "3306a346a6674b91a8c51d2b0e6bbb09",
       "version_major": 2,
       "version_minor": 0
      },
      "text/plain": [
       "  0%|          | 0/2 [00:00<?, ?batch/s]"
      ]
     },
     "metadata": {},
     "output_type": "display_data"
    },
    {
     "name": "stdout",
     "output_type": "stream",
     "text": [
      "Epoch 472, Val Loss: 0.000071, Val R2: 0.999929\n"
     ]
    },
    {
     "data": {
      "application/vnd.jupyter.widget-view+json": {
       "model_id": "7a66bebc8e694d0c84fd241c517c4a3d",
       "version_major": 2,
       "version_minor": 0
      },
      "text/plain": [
       "  0%|          | 0/2 [00:00<?, ?batch/s]"
      ]
     },
     "metadata": {},
     "output_type": "display_data"
    },
    {
     "name": "stdout",
     "output_type": "stream",
     "text": [
      "Epoch 473, Val Loss: 0.000073, Val R2: 0.999927\n"
     ]
    },
    {
     "data": {
      "application/vnd.jupyter.widget-view+json": {
       "model_id": "fa3655c0bde64969a6154b3135498282",
       "version_major": 2,
       "version_minor": 0
      },
      "text/plain": [
       "  0%|          | 0/2 [00:00<?, ?batch/s]"
      ]
     },
     "metadata": {},
     "output_type": "display_data"
    },
    {
     "name": "stdout",
     "output_type": "stream",
     "text": [
      "Epoch 474, Val Loss: 0.000067, Val R2: 0.999933\n"
     ]
    },
    {
     "data": {
      "application/vnd.jupyter.widget-view+json": {
       "model_id": "d8c443f2a7984e29bc57f228f162362e",
       "version_major": 2,
       "version_minor": 0
      },
      "text/plain": [
       "  0%|          | 0/2 [00:00<?, ?batch/s]"
      ]
     },
     "metadata": {},
     "output_type": "display_data"
    },
    {
     "name": "stdout",
     "output_type": "stream",
     "text": [
      "Epoch 475, Val Loss: 0.000065, Val R2: 0.999936\n"
     ]
    },
    {
     "data": {
      "application/vnd.jupyter.widget-view+json": {
       "model_id": "05e0c22f791549568a2abc93c917dc56",
       "version_major": 2,
       "version_minor": 0
      },
      "text/plain": [
       "  0%|          | 0/2 [00:00<?, ?batch/s]"
      ]
     },
     "metadata": {},
     "output_type": "display_data"
    },
    {
     "name": "stdout",
     "output_type": "stream",
     "text": [
      "Epoch 476, Val Loss: 0.000068, Val R2: 0.999932\n"
     ]
    },
    {
     "data": {
      "application/vnd.jupyter.widget-view+json": {
       "model_id": "108bc8284f014708abe746a7c5e60199",
       "version_major": 2,
       "version_minor": 0
      },
      "text/plain": [
       "  0%|          | 0/2 [00:00<?, ?batch/s]"
      ]
     },
     "metadata": {},
     "output_type": "display_data"
    },
    {
     "name": "stdout",
     "output_type": "stream",
     "text": [
      "Epoch 477, Val Loss: 0.000069, Val R2: 0.999932\n"
     ]
    },
    {
     "data": {
      "application/vnd.jupyter.widget-view+json": {
       "model_id": "844b5ee626c94479b0d864c5792f6af5",
       "version_major": 2,
       "version_minor": 0
      },
      "text/plain": [
       "  0%|          | 0/2 [00:00<?, ?batch/s]"
      ]
     },
     "metadata": {},
     "output_type": "display_data"
    },
    {
     "name": "stdout",
     "output_type": "stream",
     "text": [
      "Epoch 478, Val Loss: 0.000065, Val R2: 0.999935\n"
     ]
    },
    {
     "data": {
      "application/vnd.jupyter.widget-view+json": {
       "model_id": "2c1e0fc6796f437a89079380ef3ad0a7",
       "version_major": 2,
       "version_minor": 0
      },
      "text/plain": [
       "  0%|          | 0/2 [00:00<?, ?batch/s]"
      ]
     },
     "metadata": {},
     "output_type": "display_data"
    },
    {
     "name": "stdout",
     "output_type": "stream",
     "text": [
      "Epoch 479, Val Loss: 0.000064, Val R2: 0.999937\n"
     ]
    },
    {
     "data": {
      "application/vnd.jupyter.widget-view+json": {
       "model_id": "092a69183bbe4bc1af1abd10e7263463",
       "version_major": 2,
       "version_minor": 0
      },
      "text/plain": [
       "  0%|          | 0/2 [00:00<?, ?batch/s]"
      ]
     },
     "metadata": {},
     "output_type": "display_data"
    },
    {
     "name": "stdout",
     "output_type": "stream",
     "text": [
      "Epoch 480, Val Loss: 0.000065, Val R2: 0.999936\n"
     ]
    },
    {
     "data": {
      "application/vnd.jupyter.widget-view+json": {
       "model_id": "f2d6fb1df27c40d68043d33ea4ba0027",
       "version_major": 2,
       "version_minor": 0
      },
      "text/plain": [
       "  0%|          | 0/2 [00:00<?, ?batch/s]"
      ]
     },
     "metadata": {},
     "output_type": "display_data"
    },
    {
     "name": "stdout",
     "output_type": "stream",
     "text": [
      "Epoch 481, Val Loss: 0.000065, Val R2: 0.999935\n"
     ]
    },
    {
     "data": {
      "application/vnd.jupyter.widget-view+json": {
       "model_id": "da7c094634e7428a9bc14d927e5dbbda",
       "version_major": 2,
       "version_minor": 0
      },
      "text/plain": [
       "  0%|          | 0/2 [00:00<?, ?batch/s]"
      ]
     },
     "metadata": {},
     "output_type": "display_data"
    },
    {
     "name": "stdout",
     "output_type": "stream",
     "text": [
      "Epoch 482, Val Loss: 0.000064, Val R2: 0.999936\n"
     ]
    },
    {
     "data": {
      "application/vnd.jupyter.widget-view+json": {
       "model_id": "b4d8e7a7fe224f279d47702673a82874",
       "version_major": 2,
       "version_minor": 0
      },
      "text/plain": [
       "  0%|          | 0/2 [00:00<?, ?batch/s]"
      ]
     },
     "metadata": {},
     "output_type": "display_data"
    },
    {
     "name": "stdout",
     "output_type": "stream",
     "text": [
      "Epoch 483, Val Loss: 0.000063, Val R2: 0.999938\n"
     ]
    },
    {
     "data": {
      "application/vnd.jupyter.widget-view+json": {
       "model_id": "ff537c80b2fc412eab2b4aee1cfd56f5",
       "version_major": 2,
       "version_minor": 0
      },
      "text/plain": [
       "  0%|          | 0/2 [00:00<?, ?batch/s]"
      ]
     },
     "metadata": {},
     "output_type": "display_data"
    },
    {
     "name": "stdout",
     "output_type": "stream",
     "text": [
      "Epoch 484, Val Loss: 0.000063, Val R2: 0.999938\n"
     ]
    },
    {
     "data": {
      "application/vnd.jupyter.widget-view+json": {
       "model_id": "4920268f62fd49adac1fb2a213902b1d",
       "version_major": 2,
       "version_minor": 0
      },
      "text/plain": [
       "  0%|          | 0/2 [00:00<?, ?batch/s]"
      ]
     },
     "metadata": {},
     "output_type": "display_data"
    },
    {
     "name": "stdout",
     "output_type": "stream",
     "text": [
      "Epoch 485, Val Loss: 0.000063, Val R2: 0.999937\n"
     ]
    },
    {
     "data": {
      "application/vnd.jupyter.widget-view+json": {
       "model_id": "72cd1f9f21ed44d1af05c3b82bb3b23f",
       "version_major": 2,
       "version_minor": 0
      },
      "text/plain": [
       "  0%|          | 0/2 [00:00<?, ?batch/s]"
      ]
     },
     "metadata": {},
     "output_type": "display_data"
    },
    {
     "name": "stdout",
     "output_type": "stream",
     "text": [
      "Epoch 486, Val Loss: 0.000063, Val R2: 0.999937\n"
     ]
    },
    {
     "data": {
      "application/vnd.jupyter.widget-view+json": {
       "model_id": "0659bca247d74190bfd7d03fb14ce20d",
       "version_major": 2,
       "version_minor": 0
      },
      "text/plain": [
       "  0%|          | 0/2 [00:00<?, ?batch/s]"
      ]
     },
     "metadata": {},
     "output_type": "display_data"
    },
    {
     "name": "stdout",
     "output_type": "stream",
     "text": [
      "Epoch 487, Val Loss: 0.000063, Val R2: 0.999938\n"
     ]
    },
    {
     "data": {
      "application/vnd.jupyter.widget-view+json": {
       "model_id": "e9ab6b2c01ff4b4faf08dfef301e8c60",
       "version_major": 2,
       "version_minor": 0
      },
      "text/plain": [
       "  0%|          | 0/2 [00:00<?, ?batch/s]"
      ]
     },
     "metadata": {},
     "output_type": "display_data"
    },
    {
     "name": "stdout",
     "output_type": "stream",
     "text": [
      "Epoch 488, Val Loss: 0.000062, Val R2: 0.999938\n"
     ]
    },
    {
     "data": {
      "application/vnd.jupyter.widget-view+json": {
       "model_id": "ffc5e4b0f2ce4d2e8ac3cbc48f23b995",
       "version_major": 2,
       "version_minor": 0
      },
      "text/plain": [
       "  0%|          | 0/2 [00:00<?, ?batch/s]"
      ]
     },
     "metadata": {},
     "output_type": "display_data"
    },
    {
     "name": "stdout",
     "output_type": "stream",
     "text": [
      "Epoch 489, Val Loss: 0.000062, Val R2: 0.999939\n"
     ]
    },
    {
     "data": {
      "application/vnd.jupyter.widget-view+json": {
       "model_id": "83a4b1e3f8a84301aeb393737e9239dd",
       "version_major": 2,
       "version_minor": 0
      },
      "text/plain": [
       "  0%|          | 0/2 [00:00<?, ?batch/s]"
      ]
     },
     "metadata": {},
     "output_type": "display_data"
    },
    {
     "name": "stdout",
     "output_type": "stream",
     "text": [
      "Epoch 490, Val Loss: 0.000061, Val R2: 0.999939\n"
     ]
    },
    {
     "data": {
      "application/vnd.jupyter.widget-view+json": {
       "model_id": "88484368d5b844568777cef70016049c",
       "version_major": 2,
       "version_minor": 0
      },
      "text/plain": [
       "  0%|          | 0/2 [00:00<?, ?batch/s]"
      ]
     },
     "metadata": {},
     "output_type": "display_data"
    },
    {
     "name": "stdout",
     "output_type": "stream",
     "text": [
      "Epoch 491, Val Loss: 0.000061, Val R2: 0.999939\n"
     ]
    },
    {
     "data": {
      "application/vnd.jupyter.widget-view+json": {
       "model_id": "27ea944f7f9e49fea9c0165b23514027",
       "version_major": 2,
       "version_minor": 0
      },
      "text/plain": [
       "  0%|          | 0/2 [00:00<?, ?batch/s]"
      ]
     },
     "metadata": {},
     "output_type": "display_data"
    },
    {
     "name": "stdout",
     "output_type": "stream",
     "text": [
      "Epoch 492, Val Loss: 0.000061, Val R2: 0.999939\n"
     ]
    },
    {
     "data": {
      "application/vnd.jupyter.widget-view+json": {
       "model_id": "03d2a210f1304ef99e415c19f22b0c67",
       "version_major": 2,
       "version_minor": 0
      },
      "text/plain": [
       "  0%|          | 0/2 [00:00<?, ?batch/s]"
      ]
     },
     "metadata": {},
     "output_type": "display_data"
    },
    {
     "name": "stdout",
     "output_type": "stream",
     "text": [
      "Epoch 493, Val Loss: 0.000061, Val R2: 0.999939\n"
     ]
    },
    {
     "data": {
      "application/vnd.jupyter.widget-view+json": {
       "model_id": "9dc6a365513d46edb38a94e6276ff4c1",
       "version_major": 2,
       "version_minor": 0
      },
      "text/plain": [
       "  0%|          | 0/2 [00:00<?, ?batch/s]"
      ]
     },
     "metadata": {},
     "output_type": "display_data"
    },
    {
     "name": "stdout",
     "output_type": "stream",
     "text": [
      "Epoch 494, Val Loss: 0.000061, Val R2: 0.999940\n"
     ]
    },
    {
     "data": {
      "application/vnd.jupyter.widget-view+json": {
       "model_id": "4b426bf9bbfe42159460edd2e43e095e",
       "version_major": 2,
       "version_minor": 0
      },
      "text/plain": [
       "  0%|          | 0/2 [00:00<?, ?batch/s]"
      ]
     },
     "metadata": {},
     "output_type": "display_data"
    },
    {
     "name": "stdout",
     "output_type": "stream",
     "text": [
      "Epoch 495, Val Loss: 0.000061, Val R2: 0.999940\n"
     ]
    },
    {
     "data": {
      "application/vnd.jupyter.widget-view+json": {
       "model_id": "dd13edbbae0e479293434fca94cc48f6",
       "version_major": 2,
       "version_minor": 0
      },
      "text/plain": [
       "  0%|          | 0/2 [00:00<?, ?batch/s]"
      ]
     },
     "metadata": {},
     "output_type": "display_data"
    },
    {
     "name": "stdout",
     "output_type": "stream",
     "text": [
      "Epoch 496, Val Loss: 0.000061, Val R2: 0.999940\n"
     ]
    },
    {
     "data": {
      "application/vnd.jupyter.widget-view+json": {
       "model_id": "bd55d18324ed41d69b35297c4034d379",
       "version_major": 2,
       "version_minor": 0
      },
      "text/plain": [
       "  0%|          | 0/2 [00:00<?, ?batch/s]"
      ]
     },
     "metadata": {},
     "output_type": "display_data"
    },
    {
     "name": "stdout",
     "output_type": "stream",
     "text": [
      "Epoch 497, Val Loss: 0.000061, Val R2: 0.999940\n"
     ]
    },
    {
     "data": {
      "application/vnd.jupyter.widget-view+json": {
       "model_id": "37daf55a884d4513ba7252605bc5cecc",
       "version_major": 2,
       "version_minor": 0
      },
      "text/plain": [
       "  0%|          | 0/2 [00:00<?, ?batch/s]"
      ]
     },
     "metadata": {},
     "output_type": "display_data"
    },
    {
     "name": "stdout",
     "output_type": "stream",
     "text": [
      "Epoch 498, Val Loss: 0.000061, Val R2: 0.999940\n"
     ]
    },
    {
     "data": {
      "application/vnd.jupyter.widget-view+json": {
       "model_id": "bd9f1c8710c6452685a9ce09697ab204",
       "version_major": 2,
       "version_minor": 0
      },
      "text/plain": [
       "  0%|          | 0/2 [00:00<?, ?batch/s]"
      ]
     },
     "metadata": {},
     "output_type": "display_data"
    },
    {
     "name": "stdout",
     "output_type": "stream",
     "text": [
      "Epoch 499, Val Loss: 0.000061, Val R2: 0.999939\n"
     ]
    },
    {
     "data": {
      "application/vnd.jupyter.widget-view+json": {
       "model_id": "9b9b127145784e408774bfb001aed195",
       "version_major": 2,
       "version_minor": 0
      },
      "text/plain": [
       "  0%|          | 0/2 [00:00<?, ?batch/s]"
      ]
     },
     "metadata": {},
     "output_type": "display_data"
    },
    {
     "name": "stdout",
     "output_type": "stream",
     "text": [
      "Epoch 500, Val Loss: 0.000062, Val R2: 0.999938\n",
      "Finished training at epoch 500 with best loss 0.000061 and R2 of 0.999940\n"
     ]
    },
    {
     "data": {
      "image/png": "[encoded data removed]",
      "text/plain": [
       "<Figure size 640x480 with 2 Axes>"
      ]
     },
     "metadata": {},
     "output_type": "display_data"
    }
   ],
   "source": [
    "dim = int(RandDeviationVect.getDimension())\n",
    "neural_model = otaf.surrogate.NeuralRegressorNetwork(\n",
    "    dim, 1,\n",
    "    Xtrain, ytrain[:,-1], \n",
    "    clamping=True, \n",
    "    finish_critertion_epoch=5,\n",
    "    loss_finish=1e-6, \n",
    "    metric_finish=0.99999, \n",
    "    max_epochs=500, \n",
    "    batch_size=30000, \n",
    "    compile_model=False, \n",
    "    train_size=0.6, \n",
    "    input_description=RandDeviationVect.getDescription(),\n",
    "    display_progress_disable=False)\n",
    "\n",
    "lr=0.003\n",
    "\n",
    "#neural_model.model = KAN([dim, 8, 4, 1])  #otaf.surrogate.get_base_relu_mlp_model(dim, 1, False)\n",
    "\n",
    "neural_model.model = otaf.torch.nn.Sequential(\n",
    "    *otaf.surrogate.get_custom_mlp_layers([dim, 100, 70, 30, 1], activation_class=otaf.torch.nn.GELU)\n",
    ")\n",
    "\n",
    "neural_model.optimizer = otaf.torch.optim.AdamW(neural_model.parameters(), lr=lr, weight_decay=1e-4)\n",
    "otaf.surrogate.initialize_model_weights(neural_model)\n",
    "neural_model.scheduler =  otaf.torch.optim.lr_scheduler.ExponentialLR(neural_model.optimizer, 1.0001)\n",
    "neural_model.loss_fn = otaf.torch.nn.MSELoss()\n",
    "#neural_model.loss_fn = otaf.uncertainty.LimitSpaceFocusedLoss(0.0001, 2, square=True) # otaf.uncertainty.PositiveLimitSpaceFocusedLoss(0.0001, 2, 4, square=False)\n",
    "\n",
    "\n",
    "neural_model.train_model()\n",
    "neural_model.plot_results()"
   ]
  },
  {
   "cell_type": "markdown",
   "id": "69344ac5-4131-45b1-afb5-700e3cee16ee",
   "metadata": {},
   "source": [
    "## Optimization on the imprecise space of defects, to get upper and lower probability of failure given the constraints on the defect parameters."
   ]
  },
  {
   "cell_type": "code",
   "execution_count": 13,
   "id": "b7931fd9-0536-4ab4-81c8-cebb80edc302",
   "metadata": {},
   "outputs": [],
   "source": [
    "SIZE_MC_PF = 150000 #int(1e6) #1e4\n",
    "\n",
    "sample_gld = otaf.sampling.generate_and_transform_sequence(NDim_Defects, SIZE_MC_PF, RandDeviationVect) \n",
    "scale_factor = 1.0\n",
    "GLD_parameters = [] # We need the parameters of the generalized lambda distribution.\n",
    "\n",
    "result_list = [] # Will be list of lists, where each sub list is a list of the input vector x and one for the gld paramters\n",
    "\n",
    "# Generalized lambda distribution object for fitting\n",
    "gld = GLD('VSL')\n",
    "\n",
    "def model(x, sample=sample_gld):\n",
    "    # Direct model without ai\n",
    "    x = sample * x[np.newaxis, :]\n",
    "    gap_variable_array = otaf.uncertainty.compute_gap_optimizations_on_sample_batch(\n",
    "        SOCAM, x, n_cpu=-1, progress_bar=True\n",
    "    )\n",
    "    slack_variable = gap_variable_array[:, -1]\n",
    "    return slack_variable\n",
    "\n",
    "def model2(x, sample=sample_gld): \n",
    "    # Surrogate ai model\n",
    "    x = sample * x[np.newaxis, :]\n",
    "    return np.squeeze(neural_model.evaluate_model_non_standard_space(x).detach().numpy())\n",
    "\n",
    "@otaf.optimization.scaling(scale_factor)\n",
    "def optimization_function_mini(x, model=model2):\n",
    "    # Here we search the minimal probability of failure\n",
    "    slack = model(x)\n",
    "    gld_params = gld.fit_LMM(slack, disp_fit=False, disp_optimizer=False)\n",
    "    if np.any(np.isnan(gld_params)):\n",
    "        failure_probability = np.where(slack<0,1,0).mean()\n",
    "    else :\n",
    "        print(\"gld_params:\", gld_params)\n",
    "        failure_probability = gld.CDF_num(0, gld_params)\n",
    "    return failure_probability\n",
    "\n",
    "@otaf.optimization.scaling(scale_factor)\n",
    "def optimization_function_maxi(x, model=model2):\n",
    "    # Here we search the maximal probability of failure so negative output\n",
    "    slack = model(x)\n",
    "    gld_params = gld.fit_LMM(slack, disp_fit=False, disp_optimizer=False)\n",
    "    if np.any(np.isnan(gld_params)):\n",
    "        failure_probability = np.where(slack<0,1,0).mean()\n",
    "    else :\n",
    "        print(\"gld_params:\", gld_params)\n",
    "        failure_probability = gld.CDF_num(0, gld_params)\n",
    "    return failure_probability*-1"
   ]
  },
  {
   "cell_type": "markdown",
   "id": "1b3dc012-2dfc-4e89-8b95-7c457173587e",
   "metadata": {},
   "source": [
    "### Variance (std) based parameter constraint function"
   ]
  },
  {
   "cell_type": "code",
   "execution_count": 14,
   "id": "1fd42d5f-3761-4b53-8c84-8ea6f487aab8",
   "metadata": {},
   "outputs": [],
   "source": [
    "midof_funcs = otaf.tolerances.MiSdofToleranceZones()\n",
    "\n",
    "feature_constraint_list = []\n",
    "\n",
    "# We know that all features are parallel lines, with same values/dimensions\n",
    "for i in range(2):\n",
    "    fconst = otaf.tolerances.FeatureLevelStatisticalConstraint(\n",
    "        midof_funcs.two_parallel_straight_lines,\n",
    "        mif_args = (t, X3),\n",
    "        n_dof = 2,\n",
    "        n_sample = 100000,\n",
    "        target = \"std\", #\"prob\",\n",
    "        target_val = sigma_e_pos*np.sqrt(1-(2/np.pi)), #To be folded normal variance!\n",
    "        isNormal = True, #The component distributions are normal\n",
    "        normalizeOutput = True, #Normalize constraint\n",
    "    )\n",
    "    feature_constraint_list.append(fconst)\n",
    "\n",
    "# The input of this object would be a list of parameters (their real value)\n",
    "composed_assembly_constraint = otaf.tolerances.ComposedAssemblyLevelStatisticalConstraint(feature_constraint_list)"
   ]
  },
  {
   "cell_type": "code",
   "execution_count": 15,
   "id": "fb600b47-44ad-45fd-93da-f5a29efba012",
   "metadata": {},
   "outputs": [],
   "source": [
    "param_bounds_one_feature = [[0.0,0.0], [0.0, sigma_e_pos], #u, mean std\n",
    "                            [0.0,0.0], [0.0, sigma_e_theta] # alpha, mean std\n",
    "                           ]\n",
    "param_bounds = [param_bounds_one_feature] * 2 #We have 2 identical features wth defects\n",
    "\n",
    "# The input of this object is a list of normalized parameters (between 0 and 1)\n",
    "normalized_assembly_constraint = otaf.tolerances.NormalizedAssemblyLevelConstraint(\n",
    "    composed_assembly_constraint,\n",
    "    param_val_bounds=param_bounds)"
   ]
  },
  {
   "cell_type": "code",
   "execution_count": 16,
   "id": "eec57d95-46e9-47b3-b057-b68a31b31d87",
   "metadata": {},
   "outputs": [],
   "source": [
    "def assembly_constraint_no_mean(param_list, scale_out=False):\n",
    "    \"\"\" The functions takes directly the concatenated list of all normalized parameters, and reconstructs the right object.\n",
    "    There should be 32 variables for the standard deviations, we just add the mean values in the vector so the input is correct \n",
    "    for the constraint object\n",
    "    \"\"\"\n",
    "    assert len(param_list)==4, \"problem with input.\"\n",
    "    zer = np.zeros(2) # These are the mean values (all 0)\n",
    "    pl = np.array(param_list)\n",
    "    params_for_assembly = []\n",
    "    for i in range(2):\n",
    "        params = param_list[i*2:i*2+2]\n",
    "        pa = [item for pair in zip(zer, params) for item in pair]\n",
    "        params_for_assembly.append(pa)\n",
    "    res =  normalized_assembly_constraint(params_for_assembly)\n",
    "    if scale_out :\n",
    "        return res * 100\n",
    "    else :\n",
    "        return res"
   ]
  },
  {
   "cell_type": "code",
   "execution_count": 17,
   "id": "efbacdf4-8ee7-4ad2-8aa6-b408c566d0c3",
   "metadata": {},
   "outputs": [],
   "source": [
    "# Define the nonlinear constraint with the updated vector-valued function and Jacobian\n",
    "nonLinearConstraint = NonlinearConstraint(\n",
    "    fun=assembly_constraint_no_mean,\n",
    "    lb = -1e-8 * np.ones((2,)),\n",
    "    ub = 1e-8 * np.ones((2,)),\n",
    "    keep_feasible=True,\n",
    ")"
   ]
  },
  {
   "cell_type": "markdown",
   "id": "701e5c11-de56-4437-99f5-9019839cc18a",
   "metadata": {},
   "source": [
    "# Optimizations to find the paramter values that maximize and minimize the rejection rate.\n",
    "\n",
    "## First maximize Pf"
   ]
  },
  {
   "cell_type": "code",
   "execution_count": 18,
   "id": "64ab39a3-dd76-40a4-84c1-b3c03f5fe866",
   "metadata": {
    "scrolled": true
   },
   "outputs": [
    {
     "name": "stdout",
     "output_type": "stream",
     "text": [
      "Starting the optimization procedure.\n",
      "Initial trust-region radius: 4.47213595499958.\n",
      "Final trust-region radius: 1e-06.\n",
      "Maximum number of function evaluations: 4000.\n",
      "Maximum number of iterations: 1000.\n",
      "\n",
      "gld_params: [0.0886143  0.02652299 0.45832813 0.13470445]\n",
      "wrapper([ 5.000e-01  5.000e-01  5.000e-01  5.000e-01]) = -5.9608609865491405e-06\n",
      "assembly_constraint_no_mean([ 5.000e-01  5.000e-01  5.000e-01  5.000e-01]) = [-2.931e-01 -2.931e-01]\n",
      "gld_params: [0.08755356 0.03873461 0.48708794 0.13908584]\n",
      "wrapper([ 1.000e+00  5.000e-01  5.000e-01  5.000e-01]) = -0.0010834396872662503\n",
      "assembly_constraint_no_mean([ 1.000e+00  5.000e-01  5.000e-01  5.000e-01]) = [ 1.177e-01 -2.931e-01]\n",
      "gld_params: [0.08434779 0.03091899 0.40163055 0.12609545]\n",
      "wrapper([ 5.000e-01  1.000e+00  5.000e-01  5.000e-01]) = -0.0011312152621619916\n",
      "assembly_constraint_no_mean([ 5.000e-01  1.000e+00  5.000e-01  5.000e-01]) = [ 1.177e-01 -2.931e-01]\n",
      "gld_params: [0.08757296 0.03871862 0.48683166 0.13918598]\n",
      "wrapper([ 5.000e-01  5.000e-01  1.000e+00  5.000e-01]) = -0.001078226825584539\n",
      "assembly_constraint_no_mean([ 5.000e-01  5.000e-01  1.000e+00  5.000e-01]) = [-2.931e-01  1.177e-01]\n",
      "gld_params: [0.08437179 0.03090732 0.40115978 0.12549862]\n",
      "wrapper([ 5.000e-01  5.000e-01  5.000e-01  1.000e+00]) = -0.0011538497070933667\n",
      "assembly_constraint_no_mean([ 5.000e-01  5.000e-01  5.000e-01  1.000e+00]) = [-2.931e-01  1.177e-01]\n",
      "gld_params: [0.08977436 0.02092711 0.41601245 0.13002545]\n",
      "wrapper([ 0.000e+00  5.000e-01  5.000e-01  5.000e-01]) = -5.9608609865491405e-06\n",
      "assembly_constraint_no_mean([ 0.000e+00  5.000e-01  5.000e-01  5.000e-01]) = [-5.001e-01 -2.931e-01]\n",
      "gld_params: [0.09141961 0.02481243 0.48052858 0.13854984]\n",
      "wrapper([ 5.000e-01  0.000e+00  5.000e-01  5.000e-01]) = -5.9608609865491405e-06\n",
      "assembly_constraint_no_mean([ 5.000e-01  0.000e+00  5.000e-01  5.000e-01]) = [-5.001e-01 -2.931e-01]\n",
      "gld_params: [0.08975957 0.02092705 0.41629467 0.1298582 ]\n",
      "wrapper([ 5.000e-01  5.000e-01  0.000e+00  5.000e-01]) = -5.9608609865491405e-06\n",
      "assembly_constraint_no_mean([ 5.000e-01  5.000e-01  0.000e+00  5.000e-01]) = [-2.931e-01 -5.001e-01]\n",
      "gld_params: [0.09141235 0.02483094 0.48052628 0.1389715 ]\n",
      "wrapper([ 5.000e-01  5.000e-01  5.000e-01  0.000e+00]) = -5.9608609865491405e-06\n",
      "assembly_constraint_no_mean([ 5.000e-01  5.000e-01  5.000e-01  0.000e+00]) = [-2.931e-01 -5.001e-01]\n",
      "gld_params: [0.0834562  0.03238818 0.3334335  0.12558023]\n",
      "wrapper([ 5.123e-01  9.621e-01  3.094e-01  1.000e+00]) = -0.005011421092384912\n",
      "assembly_constraint_no_mean([ 5.123e-01  9.621e-01  3.094e-01  1.000e+00]) = [ 8.970e-02  4.653e-02]\n",
      "gld_params: [0.08417716 0.03316698 0.43355314 0.12936499]\n",
      "wrapper([ 5.062e-01  7.310e-01  6.547e-01  7.500e-01]) = -0.0012309173923408293\n",
      "assembly_constraint_no_mean([ 5.062e-01  7.310e-01  6.547e-01  7.500e-01]) = [-1.111e-01 -4.716e-03]\n",
      "\n",
      "New trust-region radius: 0.05.\n",
      "Number of function evaluations: 11.\n",
      "Number of iterations: 7.\n",
      "Least value of wrapper: -0.005011421092384912.\n",
      "Maximum constraint violation: 0.0897028894341283.\n",
      "Corresponding point: [ 5.123e-01  9.621e-01  3.094e-01  1.000e+00].\n",
      "\n",
      "gld_params: [0.0868539  0.03002285 0.24214427 0.14831756]\n",
      "wrapper([ 3.210e-01  1.000e+00  1.954e-01  1.000e+00]) = -0.0035776379392794097\n",
      "assembly_constraint_no_mean([ 3.210e-01  1.000e+00  1.954e-01  1.000e+00]) = [ 5.000e-02  1.870e-02]\n",
      "gld_params: [0.08453212 0.03014575 0.34091664 0.12522947]\n",
      "wrapper([ 5.103e-01  8.849e-01  2.577e-01  9.164e-01]) = -0.0022912512469514456\n",
      "assembly_constraint_no_mean([ 5.103e-01  8.849e-01  2.577e-01  9.164e-01]) = [ 2.117e-02 -4.823e-02]\n",
      "gld_params: [0.08777737 0.02958863 0.22211825 0.15671775]\n",
      "wrapper([ 2.332e-01  1.000e+00  2.370e-01  9.857e-01]) = -0.002991689598075549\n",
      "assembly_constraint_no_mean([ 2.332e-01  1.000e+00  2.370e-01  9.857e-01]) = [ 2.661e-02  1.356e-02]\n",
      "gld_params: [0.08691704 0.02930812 0.25008392 0.14566604]\n",
      "wrapper([ 1.175e-01  1.000e+00  3.634e-01  9.422e-01]) = -0.0027578071984469617\n",
      "assembly_constraint_no_mean([ 1.175e-01  1.000e+00  3.634e-01  9.422e-01]) = [ 6.683e-03  9.620e-03]\n",
      "gld_params: [0.08410909 0.03099881 0.34056876 0.12526658]\n",
      "wrapper([ 5.079e-02  1.000e+00  5.848e-01  8.473e-01]) = -0.0030687906268339637\n",
      "assembly_constraint_no_mean([ 5.079e-02  1.000e+00  5.848e-01  8.473e-01]) = [ 1.108e-03  2.923e-02]\n",
      "gld_params: [0.08498297 0.03106682 0.28821762 0.13369569]\n",
      "wrapper([ 9.646e-02  1.000e+00  4.722e-01  1.000e+00]) = -0.00452673186340818\n",
      "assembly_constraint_no_mean([ 9.646e-02  1.000e+00  4.722e-01  1.000e+00]) = [ 4.449e-03  1.056e-01]\n",
      "gld_params: [0.08583671 0.02941557 0.28608734 0.13454756]\n",
      "wrapper([ 1.561e-01  9.875e-01  4.244e-01  9.078e-01]) = -0.0026404565337671427\n",
      "assembly_constraint_no_mean([ 1.561e-01  9.875e-01  4.244e-01  9.078e-01]) = [-4.003e-04  1.834e-03]\n",
      "gld_params: [0.08452392 0.03040883 0.32893043 0.1262233 ]\n",
      "wrapper([ 3.122e-01  9.630e-01  4.564e-01  8.919e-01]) = -0.0028400356594218785\n",
      "assembly_constraint_no_mean([ 3.122e-01  9.630e-01  4.564e-01  8.919e-01]) = [ 1.209e-02  1.638e-03]\n",
      "gld_params: [0.08619484 0.02840723 0.29201125 0.13335297]\n",
      "wrapper([ 1.455e-01  9.074e-01  4.235e-01  9.125e-01]) = -0.001733390194116251\n",
      "assembly_constraint_no_mean([ 1.455e-01  9.074e-01  4.235e-01  9.125e-01]) = [-8.121e-02  5.757e-03]\n",
      "gld_params: [0.08522323 0.02975831 0.30617637 0.12992986]\n",
      "wrapper([ 2.346e-01  9.754e-01  4.378e-01  8.998e-01]) = -0.002690600935691547\n",
      "assembly_constraint_no_mean([ 2.346e-01  9.754e-01  4.378e-01  8.998e-01]) = [ 3.052e-03  3.336e-04]\n",
      "gld_params: [0.08626415 0.02865921 0.28371461 0.13542216]\n",
      "wrapper([ 1.549e-01  9.868e-01  4.077e-01  8.607e-01]) = -0.0019920650417528793\n",
      "assembly_constraint_no_mean([ 1.549e-01  9.868e-01  4.077e-01  8.607e-01]) = [-1.338e-03 -4.789e-02]\n",
      "gld_params: [0.08531708 0.0296806  0.3034924  0.13050889]\n",
      "wrapper([ 1.973e-01  9.814e-01  4.487e-01  8.945e-01]) = -0.0026586310122061266\n",
      "assembly_constraint_no_mean([ 1.973e-01  9.814e-01  4.487e-01  8.945e-01]) = [ 7.723e-04  4.996e-04]\n",
      "gld_params: [0.08515224 0.02979511 0.30886538 0.12939332]\n",
      "wrapper([ 2.629e-01  9.675e-01  4.283e-01  9.041e-01]) = -0.00268038059124894\n",
      "assembly_constraint_no_mean([ 2.629e-01  9.675e-01  4.283e-01  9.041e-01]) = [ 2.329e-03  2.011e-04]\n",
      "gld_params: [0.08581613 0.02946331 0.28587463 0.13455381]\n",
      "wrapper([ 2.050e-01  9.853e-01  4.035e-01  9.140e-01]) = -0.0026919246831703476\n",
      "assembly_constraint_no_mean([ 2.050e-01  9.853e-01  4.035e-01  9.140e-01]) = [ 6.211e-03 -1.154e-03]\n",
      "gld_params: [0.08505713 0.02985208 0.31261324 0.12873408]\n",
      "wrapper([ 2.462e-01  9.708e-01  4.476e-01  8.945e-01]) = -0.002663659753806194\n",
      "assembly_constraint_no_mean([ 2.462e-01  9.708e-01  4.476e-01  8.945e-01]) = [ 1.336e-03 -4.587e-05]\n",
      "gld_params: [0.08464398 0.0307544  0.31046769 0.128972  ]\n",
      "wrapper([ 2.047e-01  1.000e+00  4.801e-01  9.278e-01]) = -0.0036588269351061574\n",
      "assembly_constraint_no_mean([ 2.047e-01  1.000e+00  4.801e-01  9.278e-01]) = [ 2.052e-02  4.442e-02]\n",
      "gld_params: [0.08485619 0.03001585 0.32005585 0.12759542]\n",
      "wrapper([ 1.904e-01  9.819e-01  4.928e-01  8.720e-01]) = -0.0026611283467714484\n",
      "assembly_constraint_no_mean([ 1.904e-01  9.819e-01  4.928e-01  8.720e-01]) = [-4.548e-05  1.313e-03]\n",
      "\n",
      "New trust-region radius: 0.005000000000000001.\n",
      "Number of function evaluations: 28.\n",
      "Number of iterations: 19.\n",
      "Least value of wrapper: -0.0026586310122061266.\n",
      "Maximum constraint violation: 0.00077233217443403.\n",
      "Corresponding point: [ 1.973e-01  9.814e-01  4.487e-01  8.945e-01].\n",
      "\n",
      "gld_params: [0.08507199 0.02983477 0.3123742  0.1288114 ]\n",
      "wrapper([ 2.169e-01  9.766e-01  4.617e-01  8.875e-01]) = -0.002649404677440081\n",
      "assembly_constraint_no_mean([ 2.169e-01  9.766e-01  4.617e-01  8.875e-01]) = [ 2.220e-04  1.005e-04]\n",
      "gld_params: [0.08501456 0.02987753 0.31432887 0.12843714]\n",
      "wrapper([ 2.491e-01  9.693e-01  4.504e-01  8.932e-01]) = -0.0026547636914494195\n",
      "assembly_constraint_no_mean([ 2.491e-01  9.693e-01  4.504e-01  8.932e-01]) = [ 5.669e-04  6.317e-05]\n",
      "gld_params: [0.08511535 0.02970585 0.31362795 0.12861094]\n",
      "wrapper([ 2.133e-01  9.605e-01  4.636e-01  8.932e-01]) = -0.0025083597405438896\n",
      "assembly_constraint_no_mean([ 2.133e-01  9.605e-01  4.636e-01  8.932e-01]) = [-1.636e-02  6.130e-03]\n",
      "gld_params: [0.08501245 0.0298762  0.31455285 0.12841748]\n",
      "wrapper([ 2.338e-01  9.727e-01  4.589e-01  8.888e-01]) = -0.00264784204724309\n",
      "assembly_constraint_no_mean([ 2.338e-01  9.727e-01  4.589e-01  8.888e-01]) = [ 1.545e-04  4.861e-06]\n",
      "gld_params: [0.08495438 0.02992063 0.31660487 0.12805262]\n",
      "wrapper([ 2.569e-01  9.670e-01  4.520e-01  8.924e-01]) = -0.0026505311378173546\n",
      "assembly_constraint_no_mean([ 2.569e-01  9.670e-01  4.520e-01  8.924e-01]) = [ 2.806e-04  2.976e-05]\n",
      "gld_params: [0.08516261 0.02960741 0.31372789 0.12861767]\n",
      "wrapper([ 2.320e-01  9.666e-01  4.529e-01  8.799e-01]) = -0.0024186322141089463\n",
      "assembly_constraint_no_mean([ 2.320e-01  9.666e-01  4.529e-01  8.799e-01]) = [-6.189e-03 -1.067e-02]\n",
      "gld_params: [0.08497485 0.02990344 0.31593259 0.12817486]\n",
      "wrapper([ 2.456e-01  9.697e-01  4.564e-01  8.901e-01]) = -0.002647057350068608\n",
      "assembly_constraint_no_mean([ 2.456e-01  9.697e-01  4.564e-01  8.901e-01]) = [ 7.436e-05  3.873e-06]\n",
      "gld_params: [0.0849462  0.02992539 0.31694305 0.12799373]\n",
      "wrapper([ 2.614e-01  9.656e-01  4.502e-01  8.932e-01]) = -0.00264848651809858\n",
      "assembly_constraint_no_mean([ 2.614e-01  9.656e-01  4.502e-01  8.932e-01]) = [ 1.328e-04  2.329e-05]\n",
      "gld_params: [0.08491656 0.02991916 0.31906463 0.12768076]\n",
      "wrapper([ 2.462e-01  9.650e-01  4.633e-01  8.875e-01]) = -0.0025984200322843967\n",
      "assembly_constraint_no_mean([ 2.462e-01  9.650e-01  4.633e-01  8.875e-01]) = [-4.353e-03  8.943e-04]\n",
      "gld_params: [0.08496167 0.02991275 0.31641652 0.1280873 ]\n",
      "wrapper([ 2.535e-01  9.676e-01  4.533e-01  8.917e-01]) = -0.0026467081546669036\n",
      "assembly_constraint_no_mean([ 2.535e-01  9.676e-01  4.533e-01  8.917e-01]) = [ 3.341e-05  5.644e-06]\n",
      "gld_params: [0.08498668 0.0298928  0.31547885 0.12823231]\n",
      "wrapper([ 2.623e-01  9.653e-01  4.457e-01  8.955e-01]) = -0.0026475092642049194\n",
      "assembly_constraint_no_mean([ 2.623e-01  9.653e-01  4.457e-01  8.955e-01]) = [ 4.231e-05  3.681e-05]\n",
      "gld_params: [0.08502001 0.02980421 0.31621774 0.12814217]\n",
      "wrapper([ 2.524e-01  9.643e-01  4.513e-01  8.887e-01]) = -0.0025505493170077326\n",
      "assembly_constraint_no_mean([ 2.524e-01  9.643e-01  4.513e-01  8.887e-01]) = [-3.463e-03 -3.533e-03]\n",
      "gld_params: [0.08496344 0.02991077 0.31635421 0.12809332]\n",
      "wrapper([ 2.575e-01  9.665e-01  4.508e-01  8.929e-01]) = -0.002646446444349455\n",
      "assembly_constraint_no_mean([ 2.575e-01  9.665e-01  4.508e-01  8.929e-01]) = [ 8.932e-06  3.551e-06]\n",
      "gld_params: [0.08496235 0.02991126 0.31638371 0.12808276]\n",
      "wrapper([ 2.634e-01  9.650e-01  4.475e-01  8.946e-01]) = -0.002646758117843305\n",
      "assembly_constraint_no_mean([ 2.634e-01  9.650e-01  4.475e-01  8.946e-01]) = [ 1.790e-05  6.925e-06]\n",
      "gld_params: [0.08497382 0.02992396 0.31532235 0.12825288]\n",
      "wrapper([ 2.555e-01  9.658e-01  4.500e-01  8.973e-01]) = -0.0026796533741289563\n",
      "assembly_constraint_no_mean([ 2.555e-01  9.658e-01  4.500e-01  8.973e-01]) = [-1.165e-03  3.549e-03]\n",
      "gld_params: [0.0849658  0.02990858 0.31626263 0.12810432]\n",
      "wrapper([ 2.615e-01  9.654e-01  4.483e-01  8.942e-01]) = -0.0026465510089370924\n",
      "assembly_constraint_no_mean([ 2.615e-01  9.654e-01  4.483e-01  8.942e-01]) = [ 8.453e-06  4.027e-06]\n",
      "gld_params: [0.08496743 0.02990695 0.31619235 0.12811051]\n",
      "wrapper([ 2.672e-01  9.639e-01  4.448e-01  8.959e-01]) = -0.0026468605946551858\n",
      "assembly_constraint_no_mean([ 2.672e-01  9.639e-01  4.448e-01  8.959e-01]) = [ 1.720e-05  7.870e-06]\n",
      "gld_params: [0.0849131  0.03001252 0.31626184 0.12808373]\n",
      "wrapper([ 2.626e-01  9.693e-01  4.498e-01  8.969e-01]) = -0.002746334082000258\n",
      "assembly_constraint_no_mean([ 2.626e-01  9.693e-01  4.498e-01  8.969e-01]) = [ 3.965e-03  3.057e-03]\n",
      "gld_params: [0.08496171 0.02991146 0.31640733 0.1280767 ]\n",
      "wrapper([ 2.658e-01  9.643e-01  4.462e-01  8.952e-01]) = -0.002646646331048324\n",
      "assembly_constraint_no_mean([ 2.658e-01  9.643e-01  4.462e-01  8.952e-01]) = [ 9.747e-06  2.884e-06]\n",
      "gld_params: [0.08495957 0.0298985  0.31694806 0.12799788]\n",
      "wrapper([ 2.658e-01  9.652e-01  4.471e-01  8.919e-01]) = -0.0026234700747627964\n",
      "assembly_constraint_no_mean([ 2.658e-01  9.652e-01  4.471e-01  8.919e-01]) = [ 8.665e-04 -2.524e-03]\n",
      "gld_params: [0.08496628 0.02990788 0.31624013 0.12810419]\n",
      "wrapper([ 2.655e-01  9.643e-01  4.459e-01  8.954e-01]) = -0.0026466471922889662\n",
      "assembly_constraint_no_mean([ 2.655e-01  9.643e-01  4.459e-01  8.954e-01]) = [ 8.772e-06  3.735e-06]\n",
      "gld_params: [0.08500406 0.02988597 0.31466211 0.12837445]\n",
      "wrapper([ 2.604e-01  9.688e-01  4.449e-01  8.934e-01]) = -0.002656685832380463\n",
      "assembly_constraint_no_mean([ 2.604e-01  9.688e-01  4.449e-01  8.934e-01]) = [ 2.969e-03 -2.214e-03]\n",
      "gld_params: [0.08491931 0.02994572 0.31797441 0.12782914]\n",
      "wrapper([ 2.618e-01  9.654e-01  4.528e-01  8.919e-01]) = -0.002646402899403168\n",
      "assembly_constraint_no_mean([ 2.618e-01  9.654e-01  4.528e-01  8.919e-01]) = [-3.043e-07  1.267e-05]\n",
      "\n",
      "New trust-region radius: 0.0005000000000000001.\n",
      "Number of function evaluations: 51.\n",
      "Number of iterations: 34.\n",
      "Least value of wrapper: -0.0026466471922889662.\n",
      "Maximum constraint violation: 8.762146300110771e-06.\n",
      "Corresponding point: [ 2.655e-01  9.643e-01  4.459e-01  8.954e-01].\n",
      "\n",
      "gld_params: [0.08496772 0.02990683 0.31619244 0.12811397]\n",
      "wrapper([ 2.634e-01  9.649e-01  4.470e-01  8.948e-01]) = -0.002646471015881552\n",
      "assembly_constraint_no_mean([ 2.634e-01  9.649e-01  4.470e-01  8.948e-01]) = [ 2.029e-06  1.114e-06]\n",
      "gld_params: [0.08498152 0.02989591 0.31568386 0.12819574]\n",
      "wrapper([ 2.654e-01  9.644e-01  4.444e-01  8.961e-01]) = -0.0026465682396371914\n",
      "assembly_constraint_no_mean([ 2.654e-01  9.644e-01  4.444e-01  8.961e-01]) = [ 2.078e-06  4.045e-06]\n",
      "gld_params: [0.08495483 0.02992279 0.31648079 0.12806217]\n",
      "wrapper([ 2.636e-01  9.640e-01  4.479e-01  8.961e-01]) = -0.002655763817507297\n",
      "assembly_constraint_no_mean([ 2.636e-01  9.640e-01  4.479e-01  8.961e-01]) = [-8.268e-04  1.493e-03]\n",
      "gld_params: [0.08497382 0.02990195 0.315968   0.12814978]\n",
      "wrapper([ 2.645e-01  9.646e-01  4.457e-01  8.955e-01]) = -0.0026464815926002636\n",
      "assembly_constraint_no_mean([ 2.645e-01  9.646e-01  4.457e-01  8.955e-01]) = [ 6.263e-07  9.787e-07]\n",
      "gld_params: [0.08498175 0.02989564 0.31567491 0.12819668]\n",
      "wrapper([ 2.660e-01  9.642e-01  4.440e-01  8.963e-01]) = -0.002646545536297335\n",
      "assembly_constraint_no_mean([ 2.660e-01  9.642e-01  4.440e-01  8.963e-01]) = [ 1.300e-06  1.847e-06]\n",
      "gld_params: [0.08497458 0.02991198 0.31561621 0.12820512]\n",
      "wrapper([ 2.641e-01  9.656e-01  4.454e-01  8.960e-01]) = -0.0026628224738715414\n",
      "assembly_constraint_no_mean([ 2.641e-01  9.656e-01  4.454e-01  8.960e-01]) = [ 8.089e-04  3.728e-04]\n",
      "gld_params: [0.08496864 0.02990591 0.31615651 0.12811776]\n",
      "wrapper([ 2.657e-01  9.643e-01  4.455e-01  8.956e-01]) = -0.0026464943839530396\n",
      "assembly_constraint_no_mean([ 2.657e-01  9.643e-01  4.455e-01  8.956e-01]) = [ 9.139e-07  6.712e-08]\n",
      "gld_params: [0.08497074 0.02990416 0.31607776 0.12812948]\n",
      "wrapper([ 2.670e-01  9.639e-01  4.445e-01  8.961e-01]) = -0.0026465355431229006\n",
      "assembly_constraint_no_mean([ 2.670e-01  9.639e-01  4.445e-01  8.961e-01]) = [ 9.405e-07  5.961e-07]\n",
      "gld_params: [0.08497891 0.02988675 0.31612261 0.12812724]\n",
      "wrapper([ 2.655e-01  9.637e-01  4.452e-01  8.950e-01]) = -0.0026293308970634574\n",
      "assembly_constraint_no_mean([ 2.655e-01  9.637e-01  4.452e-01  8.950e-01]) = [-6.334e-04 -6.088e-04]\n",
      "gld_params: [0.08497276 0.02990263 0.31600501 0.12814221]\n",
      "wrapper([ 2.661e-01  9.642e-01  4.449e-01  8.959e-01]) = -0.0026465031119476817\n",
      "assembly_constraint_no_mean([ 2.661e-01  9.642e-01  4.449e-01  8.959e-01]) = [ 1.137e-07  2.850e-07]\n",
      "gld_params: [0.0849756  0.02990036 0.31590031 0.12815867]\n",
      "wrapper([ 2.670e-01  9.639e-01  4.441e-01  8.963e-01]) = -0.002646526586809565\n",
      "assembly_constraint_no_mean([ 2.670e-01  9.639e-01  4.441e-01  8.963e-01]) = [ 3.969e-07  3.957e-07]\n",
      "gld_params: [0.08497168 0.02990351 0.31604241 0.12813533]\n",
      "wrapper([ 2.660e-01  9.638e-01  4.450e-01  8.962e-01]) = -0.002646621800118027\n",
      "assembly_constraint_no_mean([ 2.660e-01  9.638e-01  4.450e-01  8.962e-01]) = [-3.501e-04  3.570e-04]\n",
      "gld_params: [0.08497226 0.02990299 0.31602291 0.12813889]\n",
      "wrapper([ 2.666e-01  9.641e-01  4.447e-01  8.960e-01]) = -0.002646508181981615\n",
      "assembly_constraint_no_mean([ 2.666e-01  9.641e-01  4.447e-01  8.960e-01]) = [ 1.082e-07  3.681e-08]\n",
      "gld_params: [0.08496981 0.02990487 0.31611211 0.12812367]\n",
      "wrapper([ 2.672e-01  9.639e-01  4.445e-01  8.961e-01]) = -0.0026465195693752817\n",
      "assembly_constraint_no_mean([ 2.672e-01  9.639e-01  4.445e-01  8.961e-01]) = [ 3.434e-07  5.164e-08]\n",
      "gld_params: [0.08497672 0.02989371 0.31603722 0.12813827]\n",
      "wrapper([ 2.664e-01  9.636e-01  4.446e-01  8.958e-01]) = -0.0026375900040512663\n",
      "assembly_constraint_no_mean([ 2.664e-01  9.636e-01  4.446e-01  8.958e-01]) = [-4.664e-04 -1.796e-04]\n",
      "gld_params: [0.08497289 0.02990248 0.31599986 0.12814234]\n",
      "wrapper([ 2.669e-01  9.640e-01  4.444e-01  8.961e-01]) = -0.002646514647689286\n",
      "assembly_constraint_no_mean([ 2.669e-01  9.640e-01  4.444e-01  8.961e-01]) = [ 1.824e-07  8.764e-08]\n",
      "gld_params: [0.08497326 0.02990224 0.31598571 0.12814572]\n",
      "wrapper([ 2.667e-01  9.644e-01  4.445e-01  8.957e-01]) = -0.002646506041247528\n",
      "assembly_constraint_no_mean([ 2.667e-01  9.644e-01  4.445e-01  8.957e-01]) = [ 3.545e-04 -3.525e-04]\n",
      "gld_params: [0.08496852 0.02990588 0.31615927 0.1281161 ]\n",
      "wrapper([ 2.670e-01  9.639e-01  4.447e-01  8.960e-01]) = -0.0026465153749589865\n",
      "assembly_constraint_no_mean([ 2.670e-01  9.639e-01  4.447e-01  8.960e-01]) = [ 2.285e-07  4.153e-08]\n",
      "gld_params: [0.084967   0.02990709 0.31621568 0.12810713]\n",
      "wrapper([ 2.667e-01  9.640e-01  4.451e-01  8.958e-01]) = -0.002646494240997902\n",
      "assembly_constraint_no_mean([ 2.667e-01  9.640e-01  4.451e-01  8.958e-01]) = [ 5.086e-08 -6.533e-07]\n",
      "gld_params: [0.08497026 0.02990451 0.31609526 0.1281266 ]\n",
      "wrapper([ 2.670e-01  9.639e-01  4.446e-01  8.960e-01]) = -0.0026465195531461734\n",
      "assembly_constraint_no_mean([ 2.670e-01  9.639e-01  4.446e-01  8.960e-01]) = [ 2.284e-07  4.155e-08]\n",
      "\n",
      "New trust-region radius: 5.0000000000000016e-05.\n",
      "Number of function evaluations: 71.\n",
      "Number of iterations: 48.\n",
      "Least value of wrapper: -0.002646545536297335.\n",
      "Maximum constraint violation: 1.8367155588259605e-06.\n",
      "Corresponding point: [ 2.660e-01  9.642e-01  4.440e-01  8.963e-01].\n",
      "\n",
      "gld_params: [0.08497117 0.02990383 0.31606286 0.12813212]\n",
      "wrapper([ 2.668e-01  9.640e-01  4.446e-01  8.960e-01]) = -0.002646510905327752\n",
      "assembly_constraint_no_mean([ 2.668e-01  9.640e-01  4.446e-01  8.960e-01]) = [ 1.387e-07  3.755e-08]\n",
      "gld_params: [0.0849736  0.02990195 0.31597399 0.12814699]\n",
      "wrapper([ 2.665e-01  9.641e-01  4.446e-01  8.960e-01]) = -0.00264651065679672\n",
      "assembly_constraint_no_mean([ 2.665e-01  9.641e-01  4.446e-01  8.960e-01]) = [ 2.589e-07  2.606e-07]\n",
      "gld_params: [0.08497161 0.0299035  0.31604716 0.1281348 ]\n",
      "wrapper([ 2.667e-01  9.640e-01  4.447e-01  8.960e-01]) = -0.002646506058941524\n",
      "assembly_constraint_no_mean([ 2.667e-01  9.640e-01  4.447e-01  8.960e-01]) = [ 1.160e-07  3.684e-08]\n",
      "gld_params: [0.0849719  0.02990361 0.3160261  0.12813819]\n",
      "wrapper([ 2.666e-01  9.640e-01  4.447e-01  8.960e-01]) = -0.0026470264262069072\n",
      "assembly_constraint_no_mean([ 2.666e-01  9.640e-01  4.447e-01  8.960e-01]) = [-1.103e-05  4.877e-05]\n",
      "gld_params: [0.08497185 0.02990332 0.31603826 0.12813637]\n",
      "wrapper([ 2.666e-01  9.641e-01  4.447e-01  8.960e-01]) = -0.0026465048929692667\n",
      "assembly_constraint_no_mean([ 2.666e-01  9.641e-01  4.447e-01  8.960e-01]) = [ 1.082e-07  3.805e-08]\n",
      "gld_params: [0.08497269 0.02990266 0.31600757 0.1281414 ]\n",
      "wrapper([ 2.666e-01  9.641e-01  4.446e-01  8.960e-01]) = -0.0026465051748810284\n",
      "assembly_constraint_no_mean([ 2.666e-01  9.641e-01  4.446e-01  8.960e-01]) = [ 1.082e-07  3.805e-08]\n",
      "gld_params: [0.08497261 0.02990272 0.31601    0.12814105]\n",
      "wrapper([ 2.665e-01  9.641e-01  4.447e-01  8.960e-01]) = -0.0026465076415013\n",
      "assembly_constraint_no_mean([ 2.665e-01  9.641e-01  4.447e-01  8.960e-01]) = [ 1.094e-07  3.684e-08]\n",
      "gld_params: [0.08497267 0.02990212 0.31602472 0.12813875]\n",
      "wrapper([ 2.665e-01  9.640e-01  4.447e-01  8.960e-01]) = -0.002645662718084995\n",
      "assembly_constraint_no_mean([ 2.665e-01  9.640e-01  4.447e-01  8.960e-01]) = [-4.820e-05 -1.283e-05]\n",
      "gld_params: [0.0849718  0.02990334 0.31603959 0.12813611]\n",
      "wrapper([ 2.666e-01  9.640e-01  4.447e-01  8.960e-01]) = -0.002646507897392445\n",
      "assembly_constraint_no_mean([ 2.666e-01  9.640e-01  4.447e-01  8.960e-01]) = [ 1.092e-07  3.704e-08]\n",
      "gld_params: [0.08497245 0.02990274 0.31601925 0.1281396 ]\n",
      "wrapper([ 2.666e-01  9.641e-01  4.446e-01  8.960e-01]) = -0.0026463450520495127\n",
      "assembly_constraint_no_mean([ 2.666e-01  9.641e-01  4.446e-01  8.960e-01]) = [ 2.921e-05 -4.061e-05]\n",
      "gld_params: [0.08497274 0.02990261 0.31600522 0.12814183]\n",
      "wrapper([ 2.665e-01  9.641e-01  4.446e-01  8.960e-01]) = -0.0026465075978445453\n",
      "assembly_constraint_no_mean([ 2.665e-01  9.641e-01  4.446e-01  8.960e-01]) = [ 1.091e-07  3.715e-08]\n",
      "\n",
      "New trust-region radius: 7.071067811865476e-06.\n",
      "Number of function evaluations: 82.\n",
      "Number of iterations: 55.\n",
      "Least value of wrapper: -0.002646508181981615.\n",
      "Maximum constraint violation: 9.819745284023831e-08.\n",
      "Corresponding point: [ 2.666e-01  9.641e-01  4.447e-01  8.960e-01].\n",
      "\n",
      "gld_params: [0.08497219 0.02990304 0.31602533 0.12813849]\n",
      "wrapper([ 2.666e-01  9.641e-01  4.447e-01  8.960e-01]) = -0.0026465073518730886\n",
      "assembly_constraint_no_mean([ 2.666e-01  9.641e-01  4.447e-01  8.960e-01]) = [ 1.082e-07  3.681e-08]\n",
      "gld_params: [0.08497237 0.02990275 0.31602323 0.12813888]\n",
      "wrapper([ 2.666e-01  9.640e-01  4.447e-01  8.960e-01]) = -0.0026462803392394347\n",
      "assembly_constraint_no_mean([ 2.666e-01  9.640e-01  4.447e-01  8.960e-01]) = [-1.130e-05 -5.057e-06]\n",
      "gld_params: [0.08497235 0.02990292 0.31601972 0.12813942]\n",
      "wrapper([ 2.665e-01  9.641e-01  4.447e-01  8.960e-01]) = -0.0026465071869489084\n",
      "assembly_constraint_no_mean([ 2.665e-01  9.641e-01  4.447e-01  8.960e-01]) = [ 1.083e-07  3.681e-08]\n",
      "gld_params: [0.08497233 0.02990294 0.31602041 0.1281393 ]\n",
      "wrapper([ 2.666e-01  9.641e-01  4.447e-01  8.960e-01]) = -0.002646506454846928\n",
      "assembly_constraint_no_mean([ 2.666e-01  9.641e-01  4.447e-01  8.960e-01]) = [ 1.082e-07  3.682e-08]\n",
      "gld_params: [0.08497226 0.02990299 0.31602298 0.12813888]\n",
      "wrapper([ 2.666e-01  9.641e-01  4.447e-01  8.960e-01]) = -0.0026465063958792164\n",
      "assembly_constraint_no_mean([ 2.666e-01  9.641e-01  4.447e-01  8.960e-01]) = [ 1.082e-07  3.682e-08]\n",
      "gld_params: [0.0849723  0.02990293 0.31602242 0.12813899]\n",
      "wrapper([ 2.666e-01  9.641e-01  4.447e-01  8.960e-01]) = -0.002646460215518716\n",
      "assembly_constraint_no_mean([ 2.666e-01  9.641e-01  4.447e-01  8.960e-01]) = [ 3.139e-06 -6.350e-06]\n",
      "gld_params: [0.08497228 0.02990297 0.31602198 0.12813904]\n",
      "wrapper([ 2.666e-01  9.641e-01  4.447e-01  8.960e-01]) = -0.0026465078296679136\n",
      "assembly_constraint_no_mean([ 2.666e-01  9.641e-01  4.447e-01  8.960e-01]) = [ 1.082e-07  3.683e-08]\n",
      "gld_params: [0.08497221 0.02990308 0.31602336 0.12813879]\n",
      "wrapper([ 2.666e-01  9.641e-01  4.447e-01  8.960e-01]) = -0.0026465804166475957\n",
      "assembly_constraint_no_mean([ 2.666e-01  9.641e-01  4.447e-01  8.960e-01]) = [-1.467e-06  6.928e-06]\n",
      "gld_params: [0.08497224 0.029903   0.31602356 0.12813878]\n",
      "wrapper([ 2.666e-01  9.641e-01  4.447e-01  8.960e-01]) = -0.0026465071837739633\n",
      "assembly_constraint_no_mean([ 2.666e-01  9.641e-01  4.447e-01  8.960e-01]) = [ 1.082e-07  3.681e-08]\n",
      "\n",
      "New trust-region radius: 1e-06.\n",
      "Number of function evaluations: 91.\n",
      "Number of iterations: 60.\n",
      "Least value of wrapper: -0.002646508181981615.\n",
      "Maximum constraint violation: 9.819745284023831e-08.\n",
      "Corresponding point: [ 2.666e-01  9.641e-01  4.447e-01  8.960e-01].\n",
      "\n",
      "gld_params: [0.08497222 0.02990302 0.3160243  0.12813866]\n",
      "wrapper([ 2.666e-01  9.641e-01  4.447e-01  8.960e-01]) = -0.0026465065040292995\n",
      "assembly_constraint_no_mean([ 2.666e-01  9.641e-01  4.447e-01  8.960e-01]) = [ 1.082e-07  3.682e-08]\n",
      "gld_params: [0.08497228 0.02990296 0.31602297 0.12813889]\n",
      "wrapper([ 2.666e-01  9.641e-01  4.447e-01  8.960e-01]) = -0.002646474749978632\n",
      "assembly_constraint_no_mean([ 2.666e-01  9.641e-01  4.447e-01  8.960e-01]) = [-1.561e-06 -5.431e-07]\n",
      "gld_params: [0.08497228 0.02990298 0.31602236 0.12813898]\n",
      "wrapper([ 2.666e-01  9.641e-01  4.447e-01  8.960e-01]) = -0.0026465055716617994\n",
      "assembly_constraint_no_mean([ 2.666e-01  9.641e-01  4.447e-01  8.960e-01]) = [ 1.082e-07  3.681e-08]\n",
      "gld_params: [0.08497226 0.02990299 0.31602292 0.12813889]\n",
      "wrapper([ 2.666e-01  9.641e-01  4.447e-01  8.960e-01]) = -0.002646508111239126\n",
      "assembly_constraint_no_mean([ 2.666e-01  9.641e-01  4.447e-01  8.960e-01]) = [ 1.082e-07  3.681e-08]\n",
      "gld_params: [0.08497226 0.029903   0.31602326 0.12813883]\n",
      "wrapper([ 2.666e-01  9.641e-01  4.447e-01  8.960e-01]) = -0.002646505689757882\n",
      "assembly_constraint_no_mean([ 2.666e-01  9.641e-01  4.447e-01  8.960e-01]) = [ 1.082e-07  3.681e-08]\n",
      "gld_params: [0.08497226 0.02990298 0.31602284 0.1281389 ]\n",
      "wrapper([ 2.666e-01  9.641e-01  4.447e-01  8.960e-01]) = -0.0026464994630743203\n",
      "assembly_constraint_no_mean([ 2.666e-01  9.641e-01  4.447e-01  8.960e-01]) = [ 4.456e-07 -9.043e-07]\n",
      "gld_params: [0.08497227 0.02990298 0.31602255 0.12813895]\n",
      "wrapper([ 2.666e-01  9.641e-01  4.447e-01  8.960e-01]) = -0.002646506377770041\n",
      "assembly_constraint_no_mean([ 2.666e-01  9.641e-01  4.447e-01  8.960e-01]) = [ 1.082e-07  3.681e-08]\n",
      "gld_params: [0.08497225 0.029903   0.31602298 0.12813888]\n",
      "wrapper([ 2.666e-01  9.641e-01  4.447e-01  8.960e-01]) = -0.0026465178097549347\n",
      "assembly_constraint_no_mean([ 2.666e-01  9.641e-01  4.447e-01  8.960e-01]) = [-1.574e-07  1.001e-06]\n",
      "gld_params: [0.08497226 0.02990299 0.31602318 0.12813885]\n",
      "wrapper([ 2.666e-01  9.641e-01  4.447e-01  8.960e-01]) = -0.0026465052943509225\n",
      "assembly_constraint_no_mean([ 2.666e-01  9.641e-01  4.447e-01  8.960e-01]) = [ 1.082e-07  3.681e-08]\n",
      "\n",
      "The lower bound for the trust-region radius has been reached.\n",
      "Number of function evaluations: 100.\n",
      "Number of iterations: 65.\n",
      "Least value of wrapper: -0.002646508181981615.\n",
      "Maximum constraint violation: 9.819745284023831e-08.\n",
      "Corresponding point: [ 2.666e-01  9.641e-01  4.447e-01  8.960e-01].\n",
      "Maximization Result with COBYQA:\n",
      " message: The lower bound for the trust-region radius has been reached\n",
      " success: False\n",
      "  status: 0\n",
      "     fun: -0.002646508181981615\n",
      "       x: [ 2.666e-01  9.641e-01  4.447e-01  8.960e-01]\n",
      "     nit: 65\n",
      "   maxcv: 9.819745284023831e-08\n",
      "    nfev: 100\n"
     ]
    }
   ],
   "source": [
    "# Initial guess\n",
    "x0_maxi = [0.5] * NDim_Defects  # Initial guess\n",
    "\n",
    "# Perform the local optimization using COBYQA directly\n",
    "res_maxi = minimize(\n",
    "    optimization_function_maxi, \n",
    "    x0_maxi, \n",
    "    method=\"COBYQA\", \n",
    "    jac=None, \n",
    "    bounds=Bounds(0.0, 1.0, keep_feasible=True),\n",
    "    constraints = nonLinearConstraint,\n",
    "    options={\n",
    "        \"f_target\": -0.1, \n",
    "        \"maxiter\": 1000,\n",
    "        \"maxfev\": 4000,\n",
    "        \"feasibility_tol\": 1e-9,\n",
    "        \"initial_tr_radius\": np.sqrt(2*10),\n",
    "        \"final_tr_radius\": 1e-6,\n",
    "        \"disp\": True,\n",
    "        \"scale\": False #True\n",
    "    }\n",
    ")\n",
    "\n",
    "print(\"Maximization Result with COBYQA:\")\n",
    "print(res_maxi)"
   ]
  },
  {
   "cell_type": "markdown",
   "id": "1bc5f7a7-35e6-4ea0-9fbf-c56734166961",
   "metadata": {},
   "source": [
    "## Then minimize Pf"
   ]
  },
  {
   "cell_type": "code",
   "execution_count": 21,
   "id": "fd7617ce-fc9c-4df9-9a40-e6c48f777287",
   "metadata": {
    "scrolled": true
   },
   "outputs": [
    {
     "name": "stdout",
     "output_type": "stream",
     "text": [
      "Starting the optimization procedure.\n",
      "Initial trust-region radius: 4.47213595499958.\n",
      "Final trust-region radius: 1e-06.\n",
      "Maximum number of function evaluations: 4000.\n",
      "Maximum number of iterations: 1000.\n",
      "\n",
      "gld_params: [0.0886143  0.02652299 0.45832813 0.13470445]\n",
      "wrapper([ 5.000e-01  5.000e-01  5.000e-01  5.000e-01]) = 5.9608609865491405e-06\n",
      "assembly_constraint_no_mean([ 5.000e-01  5.000e-01  5.000e-01  5.000e-01]) = [-2.931e-01 -2.931e-01]\n",
      "gld_params: [0.08755356 0.03873461 0.48708794 0.13908584]\n",
      "wrapper([ 1.000e+00  5.000e-01  5.000e-01  5.000e-01]) = 0.0010834396872662503\n",
      "assembly_constraint_no_mean([ 1.000e+00  5.000e-01  5.000e-01  5.000e-01]) = [ 1.177e-01 -2.931e-01]\n",
      "gld_params: [0.08434779 0.03091899 0.40163055 0.12609545]\n",
      "wrapper([ 5.000e-01  1.000e+00  5.000e-01  5.000e-01]) = 0.0011312152621619916\n",
      "assembly_constraint_no_mean([ 5.000e-01  1.000e+00  5.000e-01  5.000e-01]) = [ 1.177e-01 -2.931e-01]\n",
      "gld_params: [0.08757296 0.03871862 0.48683166 0.13918598]\n",
      "wrapper([ 5.000e-01  5.000e-01  1.000e+00  5.000e-01]) = 0.001078226825584539\n",
      "assembly_constraint_no_mean([ 5.000e-01  5.000e-01  1.000e+00  5.000e-01]) = [-2.931e-01  1.177e-01]\n",
      "gld_params: [0.08437179 0.03090732 0.40115978 0.12549862]\n",
      "wrapper([ 5.000e-01  5.000e-01  5.000e-01  1.000e+00]) = 0.0011538497070933667\n",
      "assembly_constraint_no_mean([ 5.000e-01  5.000e-01  5.000e-01  1.000e+00]) = [-2.931e-01  1.177e-01]\n",
      "gld_params: [0.08977436 0.02092711 0.41601245 0.13002545]\n",
      "wrapper([ 0.000e+00  5.000e-01  5.000e-01  5.000e-01]) = 5.9608609865491405e-06\n",
      "assembly_constraint_no_mean([ 0.000e+00  5.000e-01  5.000e-01  5.000e-01]) = [-5.001e-01 -2.931e-01]\n",
      "gld_params: [0.09141961 0.02481243 0.48052858 0.13854984]\n",
      "wrapper([ 5.000e-01  0.000e+00  5.000e-01  5.000e-01]) = 5.9608609865491405e-06\n",
      "assembly_constraint_no_mean([ 5.000e-01  0.000e+00  5.000e-01  5.000e-01]) = [-5.001e-01 -2.931e-01]\n",
      "gld_params: [0.08975957 0.02092705 0.41629467 0.1298582 ]\n",
      "wrapper([ 5.000e-01  5.000e-01  0.000e+00  5.000e-01]) = 5.9608609865491405e-06\n",
      "assembly_constraint_no_mean([ 5.000e-01  5.000e-01  0.000e+00  5.000e-01]) = [-2.931e-01 -5.001e-01]\n",
      "gld_params: [0.09141235 0.02483094 0.48052628 0.1389715 ]\n",
      "wrapper([ 5.000e-01  5.000e-01  5.000e-01  0.000e+00]) = 5.9608609865491405e-06\n",
      "assembly_constraint_no_mean([ 5.000e-01  5.000e-01  5.000e-01  0.000e+00]) = [-2.931e-01 -5.001e-01]\n",
      "gld_params: [0.08436136 0.04046695 0.47388827 0.13672674]\n",
      "wrapper([ 7.497e-01  7.247e-01  8.361e-01  5.814e-01]) = 0.00329911397752351\n",
      "assembly_constraint_no_mean([ 7.497e-01  7.247e-01  8.361e-01  5.814e-01]) = [ 4.241e-02  1.814e-02]\n",
      "gld_params: [0.08241922 0.0415476  0.46183236 0.13398175]\n",
      "wrapper([ 1.000e+00  4.136e-01  4.964e-01  1.000e+00]) = 0.006140296083271901\n",
      "assembly_constraint_no_mean([ 1.000e+00  4.136e-01  4.964e-01  1.000e+00]) = [ 8.189e-02  1.161e-01]\n",
      "gld_params: [0.0900933  0.04708267 0.49719343 0.14085388]\n",
      "wrapper([ 1.000e+00  4.165e-01  1.000e+00  3.415e-01]) = 0.004249768397222138\n",
      "assembly_constraint_no_mean([ 1.000e+00  4.165e-01  1.000e+00  3.415e-01]) = [ 8.302e-02  5.647e-02]\n",
      "\n",
      "New trust-region radius: 0.05.\n",
      "Number of function evaluations: 12.\n",
      "Number of iterations: 4.\n",
      "Least value of wrapper: 0.00329911397752351.\n",
      "Maximum constraint violation: 0.042408925502213736.\n",
      "Corresponding point: [ 7.497e-01  7.247e-01  8.361e-01  5.814e-01].\n",
      "\n",
      "gld_params: [0.0831006  0.03719683 0.4481709  0.13195257]\n",
      "wrapper([ 5.619e-01  8.713e-01  7.828e-01  6.355e-01]) = 0.003043111365691962\n",
      "assembly_constraint_no_mean([ 5.619e-01  8.713e-01  7.828e-01  6.355e-01]) = [ 3.653e-02  7.952e-03]\n",
      "gld_params: [0.08343283 0.03649831 0.44838471 0.13200909]\n",
      "wrapper([ 5.455e-01  8.433e-01  7.730e-01  6.365e-01]) = 0.002468621663298907\n",
      "assembly_constraint_no_mean([ 5.455e-01  8.433e-01  7.730e-01  6.365e-01]) = [ 4.089e-03  1.035e-03]\n",
      "gld_params: [0.08325366 0.03480259 0.43041919 0.12893933]\n",
      "wrapper([ 5.125e-01  8.496e-01  6.917e-01  7.254e-01]) = 0.0023514727605035597\n",
      "assembly_constraint_no_mean([ 5.125e-01  8.496e-01  6.917e-01  7.254e-01]) = [-8.053e-03  2.078e-03]\n",
      "gld_params: [0.08329541 0.03495288 0.43302431 0.12927337]\n",
      "wrapper([ 5.456e-01  8.200e-01  6.785e-01  7.441e-01]) = 0.0023164796576867013\n",
      "assembly_constraint_no_mean([ 5.456e-01  8.200e-01  6.785e-01  7.441e-01]) = [-1.535e-02  6.672e-03]\n",
      "gld_params: [0.08339437 0.03614811 0.44533354 0.13149434]\n",
      "wrapper([ 5.032e-01  8.656e-01  7.815e-01  6.246e-01]) = 0.0024170349751255686\n",
      "assembly_constraint_no_mean([ 5.032e-01  8.656e-01  7.815e-01  6.246e-01]) = [ 9.874e-04  1.540e-04]\n",
      "gld_params: [0.0830768  0.03708673 0.44705627 0.1317194 ]\n",
      "wrapper([ 4.979e-01  8.607e-01  8.185e-01  6.575e-01]) = 0.003038090450455495\n",
      "assembly_constraint_no_mean([ 4.979e-01  8.607e-01  8.185e-01  6.575e-01]) = [-5.912e-03  4.955e-02]\n",
      "gld_params: [0.08356335 0.0367672  0.45194414 0.13266574]\n",
      "wrapper([ 5.178e-01  8.563e-01  8.106e-01  5.877e-01]) = 0.002414581982399916\n",
      "assembly_constraint_no_mean([ 5.178e-01  8.563e-01  8.106e-01  5.877e-01]) = [ 4.227e-04  9.926e-04]\n",
      "gld_params: [0.08338542 0.0359365  0.44361849 0.13122784]\n",
      "wrapper([ 5.022e-01  8.974e-01  7.707e-01  5.875e-01]) = 0.0023743033149089842\n",
      "assembly_constraint_no_mean([ 5.022e-01  8.974e-01  7.707e-01  5.875e-01]) = [ 2.813e-02 -3.113e-02]\n",
      "gld_params: [0.08390154 0.0349853  0.44487327 0.13148968]\n",
      "wrapper([ 5.053e-01  8.375e-01  7.430e-01  6.097e-01]) = 0.0016843632197989123\n",
      "assembly_constraint_no_mean([ 5.053e-01  8.375e-01  7.430e-01  6.097e-01]) = [-2.217e-02 -3.911e-02]\n",
      "gld_params: [0.08342674 0.0362423  0.44653424 0.13170528]\n",
      "wrapper([ 4.891e-01  8.727e-01  7.967e-01  6.053e-01]) = 0.0024059770035415027\n",
      "assembly_constraint_no_mean([ 4.891e-01  8.727e-01  7.967e-01  6.053e-01]) = [ 1.165e-04  3.167e-04]\n",
      "gld_params: [0.08347577 0.03676468 0.4507548  0.1324253 ]\n",
      "wrapper([ 4.819e-01  8.798e-01  8.290e-01  5.685e-01]) = 0.0024992665468541054\n",
      "assembly_constraint_no_mean([ 4.819e-01  8.798e-01  8.290e-01  5.685e-01]) = [ 2.828e-03  4.868e-03]\n",
      "\n",
      "New trust-region radius: 0.005000000000000001.\n",
      "Number of function evaluations: 23.\n",
      "Number of iterations: 17.\n",
      "Least value of wrapper: 0.0024059770035415027.\n",
      "Maximum constraint violation: 0.0003166568171036138.\n",
      "Corresponding point: [ 4.891e-01  8.727e-01  7.967e-01  6.053e-01].\n",
      "\n",
      "gld_params: [0.08347511 0.03640818 0.44841829 0.13203583]\n",
      "wrapper([ 4.942e-01  8.697e-01  8.040e-01  5.952e-01]) = 0.0023996113022424865\n",
      "assembly_constraint_no_mean([ 4.942e-01  8.697e-01  8.040e-01  5.952e-01]) = [ 7.256e-06  7.888e-05]\n",
      "gld_params: [0.08352589 0.0365866  0.45032126 0.13237074]\n",
      "wrapper([ 4.967e-01  8.682e-01  8.135e-01  5.823e-01]) = 0.0023983755817579585\n",
      "assembly_constraint_no_mean([ 4.967e-01  8.682e-01  8.135e-01  5.823e-01]) = [-5.548e-06  1.219e-04]\n",
      "gld_params: [0.08350855 0.03652678 0.44969979 0.13225332]\n",
      "wrapper([ 4.840e-01  8.755e-01  8.175e-01  5.765e-01]) = 0.002398588441584281\n",
      "assembly_constraint_no_mean([ 4.840e-01  8.755e-01  8.175e-01  5.765e-01]) = [ 8.991e-05  1.646e-05]\n",
      "gld_params: [0.08355452 0.03667786 0.4513006  0.13253599]\n",
      "wrapper([ 4.882e-01  8.730e-01  8.242e-01  5.669e-01]) = 0.002396882809916388\n",
      "assembly_constraint_no_mean([ 4.882e-01  8.730e-01  8.242e-01  5.669e-01]) = [-1.635e-07  6.304e-05]\n",
      "gld_params: [0.08359738 0.03681462 0.45269601 0.13279152]\n",
      "wrapper([ 5.004e-01  8.662e-01  8.251e-01  5.654e-01]) = 0.002396673156625942\n",
      "assembly_constraint_no_mean([ 5.004e-01  8.662e-01  8.251e-01  5.654e-01]) = [ 1.038e-04  3.693e-06]\n",
      "gld_params: [0.08365422 0.03654643 0.45185106 0.13264323]\n",
      "wrapper([ 4.825e-01  8.632e-01  8.252e-01  5.677e-01]) = 0.0022679090362185544\n",
      "assembly_constraint_no_mean([ 4.825e-01  8.632e-01  8.252e-01  5.677e-01]) = [-1.139e-02  1.324e-03]\n",
      "gld_params: [0.08359321 0.03679999 0.45255626 0.13276482]\n",
      "wrapper([ 4.979e-01  8.676e-01  8.258e-01  5.645e-01]) = 0.0023961997213356313\n",
      "assembly_constraint_no_mean([ 4.979e-01  8.676e-01  8.258e-01  5.645e-01]) = [ 6.147e-05  4.418e-06]\n",
      "gld_params: [0.08361344 0.03685901 0.453168   0.13287515]\n",
      "wrapper([ 5.007e-01  8.660e-01  8.277e-01  5.616e-01]) = 0.0023943029512070533\n",
      "assembly_constraint_no_mean([ 5.007e-01  8.660e-01  8.277e-01  5.616e-01]) = [ 5.390e-06  5.872e-06]\n",
      "gld_params: [0.08364291 0.03694708 0.45405512 0.13303174]\n",
      "wrapper([ 5.007e-01  8.659e-01  8.330e-01  5.538e-01]) = 0.002394242867598887\n",
      "assembly_constraint_no_mean([ 5.007e-01  8.659e-01  8.330e-01  5.538e-01]) = [-9.583e-07  4.518e-05]\n",
      "gld_params: [0.08366404 0.03672627 0.45305879 0.1328631 ]\n",
      "wrapper([ 4.996e-01  8.642e-01  8.240e-01  5.590e-01]) = 0.0023072497461036606\n",
      "assembly_constraint_no_mean([ 4.996e-01  8.642e-01  8.240e-01  5.590e-01]) = [-2.088e-03 -4.533e-03]\n",
      "gld_params: [0.08363168 0.03691325 0.45371453 0.13297539]\n",
      "wrapper([ 5.048e-01  8.635e-01  8.285e-01  5.605e-01]) = 0.00239485384956634\n",
      "assembly_constraint_no_mean([ 5.048e-01  8.635e-01  8.285e-01  5.605e-01]) = [ 1.128e-05  1.026e-06]\n",
      "gld_params: [0.08359578 0.03680784 0.45263856 0.13278178]\n",
      "wrapper([ 5.021e-01  8.685e-01  8.237e-01  5.624e-01]) = 0.0023959252853746364\n",
      "assembly_constraint_no_mean([ 5.021e-01  8.685e-01  8.237e-01  5.624e-01]) = [ 2.903e-03 -2.852e-03]\n",
      "gld_params: [0.08361275 0.03685684 0.45314939 0.13286883]\n",
      "wrapper([ 4.974e-01  8.678e-01  8.296e-01  5.589e-01]) = 0.0023943056662103827\n",
      "assembly_constraint_no_mean([ 4.974e-01  8.678e-01  8.296e-01  5.589e-01]) = [ 6.944e-06  5.447e-06]\n",
      "gld_params: [0.08365019 0.03681382 0.45338132 0.13291697]\n",
      "wrapper([ 4.985e-01  8.617e-01  8.283e-01  5.629e-01]) = 0.002349392961192463\n",
      "assembly_constraint_no_mean([ 4.985e-01  8.617e-01  8.283e-01  5.629e-01]) = [-4.785e-03  1.174e-03]\n",
      "gld_params: [0.08363354 0.03691855 0.45377084 0.13298318]\n",
      "wrapper([ 5.024e-01  8.649e-01  8.303e-01  5.578e-01]) = 0.0023948039085086303\n",
      "assembly_constraint_no_mean([ 5.024e-01  8.649e-01  8.303e-01  5.578e-01]) = [ 1.979e-06  1.045e-05]\n",
      "\n",
      "New trust-region radius: 0.0005000000000000001.\n",
      "Number of function evaluations: 38.\n",
      "Number of iterations: 28.\n",
      "Least value of wrapper: 0.0023072497461036606.\n",
      "Maximum constraint violation: 0.004532685538969387.\n",
      "Corresponding point: [ 4.996e-01  8.642e-01  8.240e-01  5.590e-01].\n",
      "\n",
      "gld_params: [0.0836137  0.03685953 0.45317305 0.13287746]\n",
      "wrapper([ 5.023e-01  8.650e-01  8.268e-01  5.630e-01]) = 0.00239499808511419\n",
      "assembly_constraint_no_mean([ 5.023e-01  8.650e-01  8.268e-01  5.630e-01]) = [ 1.715e-06  1.390e-06]\n",
      "gld_params: [0.08361584 0.03686594 0.45324005 0.13288759]\n",
      "wrapper([ 5.004e-01  8.661e-01  8.284e-01  5.607e-01]) = 0.002394985455461939\n",
      "assembly_constraint_no_mean([ 5.004e-01  8.661e-01  8.284e-01  5.607e-01]) = [ 2.422e-06  3.808e-06]\n",
      "gld_params: [0.08361826 0.03687267 0.45330811 0.13290261]\n",
      "wrapper([ 5.039e-01  8.644e-01  8.266e-01  5.627e-01]) = 0.002394757693755529\n",
      "assembly_constraint_no_mean([ 5.039e-01  8.644e-01  8.266e-01  5.627e-01]) = [ 3.064e-04 -3.163e-04]\n",
      "gld_params: [0.08361352 0.03685882 0.45316745 0.13287547]\n",
      "wrapper([ 5.011e-01  8.657e-01  8.275e-01  5.620e-01]) = 0.002394969094353251\n",
      "assembly_constraint_no_mean([ 5.011e-01  8.657e-01  8.275e-01  5.620e-01]) = [ 8.746e-07  6.741e-07]\n",
      "gld_params: [0.08362073 0.03688034 0.4533858  0.13291464]\n",
      "wrapper([ 5.018e-01  8.653e-01  8.283e-01  5.607e-01]) = 0.002394857799950995\n",
      "assembly_constraint_no_mean([ 5.018e-01  8.653e-01  8.283e-01  5.607e-01]) = [ 3.256e-07  1.218e-06]\n",
      "gld_params: [0.08362282 0.03683508 0.4531513  0.13287393]\n",
      "wrapper([ 5.009e-01  8.653e-01  8.268e-01  5.616e-01]) = 0.002379342783850016\n",
      "assembly_constraint_no_mean([ 5.009e-01  8.653e-01  8.268e-01  5.616e-01]) = [-4.343e-04 -7.683e-04]\n",
      "gld_params: [0.08361717 0.03686971 0.45327822 0.13289537]\n",
      "wrapper([ 5.015e-01  8.655e-01  8.279e-01  5.614e-01]) = 0.0023948990734674797\n",
      "assembly_constraint_no_mean([ 5.015e-01  8.655e-01  8.279e-01  5.614e-01]) = [ 8.758e-08  2.812e-07]\n",
      "gld_params: [0.08362194 0.03688391 0.45342229 0.13292109]\n",
      "wrapper([ 5.018e-01  8.653e-01  8.286e-01  5.604e-01]) = 0.0023948284078611913\n",
      "assembly_constraint_no_mean([ 5.018e-01  8.653e-01  8.286e-01  5.604e-01]) = [ 5.854e-08  7.027e-07]\n",
      "gld_params: [0.08361442 0.03687077 0.45324902 0.13288998]\n",
      "wrapper([ 5.017e-01  8.658e-01  8.277e-01  5.613e-01]) = 0.002397755435867842\n",
      "assembly_constraint_no_mean([ 5.017e-01  8.658e-01  8.277e-01  5.613e-01]) = [ 4.444e-04 -2.287e-04]\n",
      "gld_params: [0.08361929 0.03687602 0.45334217 0.13290691]\n",
      "wrapper([ 5.018e-01  8.653e-01  8.281e-01  5.611e-01]) = 0.0023948628551670567\n",
      "assembly_constraint_no_mean([ 5.018e-01  8.653e-01  8.281e-01  5.611e-01]) = [ 4.234e-08  6.267e-08]\n",
      "gld_params: [0.08362229 0.03688494 0.45343249 0.13292322]\n",
      "wrapper([ 5.022e-01  8.651e-01  8.284e-01  5.606e-01]) = 0.0023948203867402403\n",
      "assembly_constraint_no_mean([ 5.022e-01  8.651e-01  8.284e-01  5.606e-01]) = [ 9.386e-08  1.361e-07]\n",
      "gld_params: [0.08362    0.03687981 0.45337284 0.13291228]\n",
      "wrapper([ 5.016e-01  8.650e-01  8.284e-01  5.613e-01]) = 0.0023949216843807634\n",
      "assembly_constraint_no_mean([ 5.016e-01  8.650e-01  8.284e-01  5.613e-01]) = [-3.327e-04  3.730e-04]\n",
      "gld_params: [0.0836214  0.03688232 0.45340602 0.13291843]\n",
      "wrapper([ 5.021e-01  8.651e-01  8.283e-01  5.608e-01]) = 0.0023948331120422924\n",
      "assembly_constraint_no_mean([ 5.021e-01  8.651e-01  8.283e-01  5.608e-01]) = [ 4.073e-08  6.426e-08]\n",
      "gld_params: [0.08362433 0.036891   0.45349384 0.13293421]\n",
      "wrapper([ 5.024e-01  8.650e-01  8.287e-01  5.602e-01]) = 0.0023947912457475727\n",
      "assembly_constraint_no_mean([ 5.024e-01  8.650e-01  8.287e-01  5.602e-01]) = [ 5.032e-08  1.797e-07]\n",
      "gld_params: [0.08361612 0.03689116 0.4533883  0.13291475]\n",
      "wrapper([ 5.023e-01  8.653e-01  8.284e-01  5.611e-01]) = 0.0024023810189194974\n",
      "assembly_constraint_no_mean([ 5.023e-01  8.653e-01  8.284e-01  5.611e-01]) = [ 2.879e-04  2.866e-04]\n",
      "gld_params: [0.08362354 0.03688864 0.45346991 0.13292998]\n",
      "wrapper([ 5.024e-01  8.650e-01  8.285e-01  5.605e-01]) = 0.0023947991611393336\n",
      "assembly_constraint_no_mean([ 5.024e-01  8.650e-01  8.285e-01  5.605e-01]) = [ 4.808e-08  5.682e-08]\n",
      "gld_params: [0.08362648 0.03689735 0.45355777 0.13294596]\n",
      "wrapper([ 5.029e-01  8.647e-01  8.287e-01  5.601e-01]) = 0.0023947602684064387\n",
      "assembly_constraint_no_mean([ 5.029e-01  8.647e-01  8.287e-01  5.601e-01]) = [ 1.625e-07  6.751e-08]\n",
      "gld_params: [0.08361913 0.03690135 0.45348582 0.13293214]\n",
      "wrapper([ 5.024e-01  8.651e-01  8.289e-01  5.607e-01]) = 0.0024027318490721654\n",
      "assembly_constraint_no_mean([ 5.024e-01  8.651e-01  8.289e-01  5.607e-01]) = [ 1.187e-04  4.856e-04]\n",
      "gld_params: [0.08362527 0.0368938  0.45352185 0.13293954]\n",
      "wrapper([ 5.028e-01  8.647e-01  8.286e-01  5.604e-01]) = 0.0023947778049090407\n",
      "assembly_constraint_no_mean([ 5.028e-01  8.647e-01  8.286e-01  5.604e-01]) = [ 1.100e-07 -4.900e-09]\n",
      "gld_params: [0.0836272  0.03688514 0.45349681 0.1329351 ]\n",
      "wrapper([ 5.021e-01  8.645e-01  8.286e-01  5.605e-01]) = 0.002391154412288507\n",
      "assembly_constraint_no_mean([ 5.021e-01  8.645e-01  8.286e-01  5.605e-01]) = [-4.790e-04  1.428e-04]\n",
      "gld_params: [0.08362565 0.0368949  0.45353312 0.13294145]\n",
      "wrapper([ 5.027e-01  8.648e-01  8.287e-01  5.602e-01]) = 0.0023947699533279064\n",
      "assembly_constraint_no_mean([ 5.027e-01  8.648e-01  8.287e-01  5.602e-01]) = [ 6.531e-08  3.968e-08]\n",
      "gld_params: [0.08362853 0.03690342 0.45361892 0.1329571 ]\n",
      "wrapper([ 5.032e-01  8.645e-01  8.289e-01  5.599e-01]) = 0.0023947334728507907\n",
      "assembly_constraint_no_mean([ 5.032e-01  8.645e-01  8.289e-01  5.599e-01]) = [ 1.808e-07  4.916e-08]\n",
      "gld_params: [0.08363026 0.03689035 0.45356656 0.13294804]\n",
      "wrapper([ 5.029e-01  8.646e-01  8.285e-01  5.598e-01]) = 0.0023885482488968457\n",
      "assembly_constraint_no_mean([ 5.029e-01  8.646e-01  8.285e-01  5.598e-01]) = [-8.374e-05 -3.432e-04]\n",
      "gld_params: [0.08362775 0.03690111 0.45359571 0.13295283]\n",
      "wrapper([ 5.031e-01  8.646e-01  8.289e-01  5.599e-01]) = 0.002394740535804557\n",
      "assembly_constraint_no_mean([ 5.031e-01  8.646e-01  8.289e-01  5.599e-01]) = [ 7.178e-08  3.320e-08]\n",
      "gld_params: [0.08363063 0.03690961 0.45368153 0.13296824]\n",
      "wrapper([ 5.033e-01  8.644e-01  8.292e-01  5.594e-01]) = 0.002394702156815536\n",
      "assembly_constraint_no_mean([ 5.033e-01  8.644e-01  8.292e-01  5.594e-01]) = [ 3.589e-08  1.941e-07]\n",
      "gld_params: [0.08362215 0.03691122 0.45358153 0.13294964]\n",
      "wrapper([ 5.033e-01  8.650e-01  8.290e-01  5.600e-01]) = 0.0024029513446995857\n",
      "assembly_constraint_no_mean([ 5.033e-01  8.650e-01  8.290e-01  5.600e-01]) = [ 4.773e-04  1.487e-04]\n",
      "gld_params: [0.08362984 0.03690727 0.45365789 0.13296402]\n",
      "wrapper([ 5.033e-01  8.644e-01  8.291e-01  5.596e-01]) = 0.002394711828794914\n",
      "assembly_constraint_no_mean([ 5.033e-01  8.644e-01  8.291e-01  5.596e-01]) = [ 2.219e-08  8.280e-08]\n",
      "gld_params: [0.08363267 0.03691557 0.45374174 0.13297905]\n",
      "wrapper([ 5.035e-01  8.643e-01  8.295e-01  5.590e-01]) = 0.0023946729397689953\n",
      "assembly_constraint_no_mean([ 5.035e-01  8.643e-01  8.295e-01  5.590e-01]) = [ 2.447e-08  2.055e-07]\n",
      "gld_params: [0.08362412 0.03691803 0.45364593 0.1329612 ]\n",
      "wrapper([ 5.035e-01  8.648e-01  8.293e-01  5.597e-01]) = 0.0024032294221408242\n",
      "assembly_constraint_no_mean([ 5.035e-01  8.648e-01  8.293e-01  5.597e-01]) = [ 4.643e-04  1.852e-04]\n",
      "gld_params: [0.08363131 0.03691159 0.45370175 0.13297175]\n",
      "wrapper([ 5.033e-01  8.645e-01  8.294e-01  5.592e-01]) = 0.0023946907227853256\n",
      "assembly_constraint_no_mean([ 5.033e-01  8.645e-01  8.294e-01  5.592e-01]) = [-9.553e-09  1.145e-07]\n",
      "gld_params: [0.08362947 0.03691555 0.4536998  0.13297143]\n",
      "wrapper([ 5.035e-01  8.642e-01  8.294e-01  5.599e-01]) = 0.0023976458197664126\n",
      "assembly_constraint_no_mean([ 5.035e-01  8.642e-01  8.294e-01  5.599e-01]) = [-1.442e-04  3.662e-04]\n",
      "gld_params: [0.0836315  0.03691216 0.45370699 0.13297308]\n",
      "wrapper([ 5.037e-01  8.642e-01  8.291e-01  5.595e-01]) = 0.002394692460569006\n",
      "assembly_constraint_no_mean([ 5.037e-01  8.642e-01  8.291e-01  5.595e-01]) = [ 1.129e-07 -7.757e-09]\n",
      "\n",
      "New trust-region radius: 5.0000000000000016e-05.\n",
      "Number of function evaluations: 70.\n",
      "Number of iterations: 50.\n",
      "Least value of wrapper: 0.0023946907227853256.\n",
      "Maximum constraint violation: 1.0454039119632154e-07.\n",
      "Corresponding point: [ 5.033e-01  8.645e-01  8.294e-01  5.592e-01].\n",
      "\n",
      "gld_params: [0.08363081 0.03691012 0.45368706 0.13296897]\n",
      "wrapper([ 5.030e-01  8.646e-01  8.294e-01  5.591e-01]) = 0.0023946949534734492\n",
      "assembly_constraint_no_mean([ 5.030e-01  8.646e-01  8.294e-01  5.591e-01]) = [ 1.897e-08 -7.114e-09]\n",
      "gld_params: [0.08363258 0.03691045 0.45371161 0.13297362]\n",
      "wrapper([ 5.032e-01  8.644e-01  8.294e-01  5.591e-01]) = 0.0023932088045931542\n",
      "assembly_constraint_no_mean([ 5.032e-01  8.644e-01  8.294e-01  5.591e-01]) = [-8.207e-05 -3.257e-05]\n",
      "gld_params: [0.08363184 0.03691315 0.45371751 0.13297461]\n",
      "wrapper([ 5.033e-01  8.644e-01  8.294e-01  5.591e-01]) = 0.0023946826641438996\n",
      "assembly_constraint_no_mean([ 5.033e-01  8.644e-01  8.294e-01  5.591e-01]) = [-5.374e-09 -6.819e-09]\n",
      "gld_params: [0.08363257 0.03691529 0.45373894 0.13297852]\n",
      "wrapper([ 5.035e-01  8.643e-01  8.295e-01  5.590e-01]) = 0.0023946707045956195\n",
      "assembly_constraint_no_mean([ 5.035e-01  8.643e-01  8.295e-01  5.590e-01]) = [ 1.978e-09 -6.518e-09]\n",
      "gld_params: [0.08363359 0.03691825 0.45376876 0.13298397]\n",
      "wrapper([ 5.037e-01  8.642e-01  8.295e-01  5.589e-01]) = 0.0023946556379274425\n",
      "assembly_constraint_no_mean([ 5.037e-01  8.642e-01  8.295e-01  5.589e-01]) = [ 1.491e-08 -3.666e-09]\n",
      "gld_params: [0.08363433 0.03692046 0.45379105 0.1329879 ]\n",
      "wrapper([ 5.037e-01  8.642e-01  8.297e-01  5.587e-01]) = 0.0023946491288832413\n",
      "assembly_constraint_no_mean([ 5.037e-01  8.642e-01  8.297e-01  5.587e-01]) = [-9.951e-09  2.120e-08]\n",
      "gld_params: [0.0836353  0.03692327 0.45381931 0.13299308]\n",
      "wrapper([ 5.039e-01  8.641e-01  8.297e-01  5.587e-01]) = 0.0023946353770244516\n",
      "assembly_constraint_no_mean([ 5.039e-01  8.641e-01  8.297e-01  5.587e-01]) = [ 1.765e-08 -6.403e-09]\n",
      "gld_params: [0.0836365  0.0369268  0.45385467 0.13299962]\n",
      "wrapper([ 5.042e-01  8.639e-01  8.298e-01  5.586e-01]) = 0.0023946225032428084\n",
      "assembly_constraint_no_mean([ 5.042e-01  8.639e-01  8.298e-01  5.586e-01]) = [ 5.099e-08 -8.506e-09]\n",
      "gld_params: [0.083638   0.03693118 0.45389875 0.13300756]\n",
      "wrapper([ 5.043e-01  8.638e-01  8.299e-01  5.584e-01]) = 0.0023946024184197234\n",
      "assembly_constraint_no_mean([ 5.043e-01  8.638e-01  8.299e-01  5.584e-01]) = [ 7.975e-09  3.451e-08]\n",
      "gld_params: [0.08364013 0.03693736 0.45396084 0.13301876]\n",
      "wrapper([ 5.046e-01  8.637e-01  8.302e-01  5.580e-01]) = 0.0023945720391248377\n",
      "assembly_constraint_no_mean([ 5.046e-01  8.637e-01  8.302e-01  5.580e-01]) = [ 2.439e-08  8.060e-08]\n",
      "gld_params: [0.08364309 0.03694594 0.45404703 0.13303427]\n",
      "wrapper([ 5.048e-01  8.635e-01  8.305e-01  5.575e-01]) = 0.0023945321364232186\n",
      "assembly_constraint_no_mean([ 5.048e-01  8.635e-01  8.305e-01  5.575e-01]) = [ 4.332e-08  1.867e-07]\n",
      "gld_params: [0.08364735 0.03695832 0.45417093 0.13305685]\n",
      "wrapper([ 5.055e-01  8.631e-01  8.308e-01  5.570e-01]) = 0.0023944863211835424\n",
      "assembly_constraint_no_mean([ 5.055e-01  8.631e-01  8.308e-01  5.570e-01]) = [ 3.205e-07  1.594e-07]\n",
      "gld_params: [0.08365163 0.03697063 0.45429415 0.13307908]\n",
      "wrapper([ 5.060e-01  8.629e-01  8.313e-01  5.563e-01]) = 0.002394431409245409\n",
      "assembly_constraint_no_mean([ 5.060e-01  8.629e-01  8.313e-01  5.563e-01]) = [ 1.220e-07  3.579e-07]\n",
      "gld_params: [0.08365782 0.03698836 0.45447111 0.13311114]\n",
      "wrapper([ 5.067e-01  8.624e-01  8.319e-01  5.554e-01]) = 0.0023943624680888443\n",
      "assembly_constraint_no_mean([ 5.067e-01  8.624e-01  8.319e-01  5.554e-01]) = [ 3.622e-07  6.177e-07]\n",
      "gld_params: [0.08365844 0.03699009 0.45448966 0.13311334]\n",
      "wrapper([ 5.056e-01  8.631e-01  8.327e-01  5.541e-01]) = 0.0023943570282711946\n",
      "assembly_constraint_no_mean([ 5.056e-01  8.631e-01  8.327e-01  5.541e-01]) = [ 9.049e-07  1.076e-06]\n",
      "gld_params: [0.08366859 0.03697011 0.45450474 0.13311839]\n",
      "wrapper([ 5.062e-01  8.616e-01  8.318e-01  5.553e-01]) = 0.002379137485600181\n",
      "assembly_constraint_no_mean([ 5.062e-01  8.616e-01  8.318e-01  5.553e-01]) = [-9.808e-04 -1.913e-04]\n",
      "gld_params: [0.08366192 0.03700006 0.45458799 0.13313217]\n",
      "wrapper([ 5.070e-01  8.622e-01  8.324e-01  5.546e-01]) = 0.0023943118463149956\n",
      "assembly_constraint_no_mean([ 5.070e-01  8.622e-01  8.324e-01  5.546e-01]) = [ 6.032e-08  4.197e-07]\n",
      "gld_params: [0.08366813 0.03701763 0.45476238 0.13316402]\n",
      "wrapper([ 5.080e-01  8.617e-01  8.329e-01  5.539e-01]) = 0.002394248714234096\n",
      "assembly_constraint_no_mean([ 5.080e-01  8.617e-01  8.329e-01  5.539e-01]) = [ 6.276e-07  3.525e-07]\n",
      "gld_params: [0.08367486 0.03703665 0.45494992 0.13319892]\n",
      "wrapper([ 5.097e-01  8.606e-01  8.330e-01  5.537e-01]) = 0.0023941993910373306\n",
      "assembly_constraint_no_mean([ 5.097e-01  8.606e-01  8.330e-01  5.537e-01]) = [ 1.973e-06  6.811e-09]\n",
      "gld_params: [0.08367572 0.03703912 0.45497289 0.13320422]\n",
      "wrapper([ 5.111e-01  8.598e-01  8.323e-01  5.548e-01]) = 0.0023942021051586173\n",
      "assembly_constraint_no_mean([ 5.111e-01  8.598e-01  8.323e-01  5.548e-01]) = [ 1.225e-06  7.541e-07]\n",
      "gld_params: [0.08367017 0.03706028 0.4550192  0.13321152]\n",
      "wrapper([ 5.110e-01  8.598e-01  8.332e-01  5.553e-01]) = 0.002405863936168889\n",
      "assembly_constraint_no_mean([ 5.110e-01  8.598e-01  8.332e-01  5.553e-01]) = [-1.035e-04  9.950e-04]\n",
      "gld_params: [0.08368024 0.03705165 0.45509705 0.1332269 ]\n",
      "wrapper([ 5.117e-01  8.595e-01  8.327e-01  5.542e-01]) = 0.002394135611619491\n",
      "assembly_constraint_no_mean([ 5.117e-01  8.595e-01  8.327e-01  5.542e-01]) = [ 2.692e-07  2.094e-07]\n",
      "gld_params: [0.08368663 0.03706946 0.45527269 0.13325897]\n",
      "wrapper([ 5.126e-01  8.589e-01  8.332e-01  5.534e-01]) = 0.0023940822413451614\n",
      "assembly_constraint_no_mean([ 5.126e-01  8.589e-01  8.332e-01  5.534e-01]) = [ 5.099e-07  4.703e-07]\n",
      "gld_params: [0.08369534 0.03709357 0.45550925 0.13330248]\n",
      "wrapper([ 5.141e-01  8.580e-01  8.338e-01  5.526e-01]) = 0.0023940191719325236\n",
      "assembly_constraint_no_mean([ 5.141e-01  8.580e-01  8.338e-01  5.526e-01]) = [ 1.516e-06  4.631e-07]\n",
      "gld_params: [0.08370498 0.03712004 0.45576709 0.13335067]\n",
      "wrapper([ 5.165e-01  8.566e-01  8.339e-01  5.524e-01]) = 0.0023939748239395005\n",
      "assembly_constraint_no_mean([ 5.165e-01  8.566e-01  8.339e-01  5.524e-01]) = [ 3.971e-06  8.583e-09]\n",
      "gld_params: [0.08370986 0.03707055 0.45556232 0.13331363]\n",
      "wrapper([ 5.134e-01  8.568e-01  8.337e-01  5.525e-01]) = 0.0023740578269376552\n",
      "assembly_constraint_no_mean([ 5.134e-01  8.568e-01  8.337e-01  5.525e-01]) = [-1.406e-03 -1.302e-04]\n",
      "gld_params: [0.0837     0.03710623 0.45563447 0.13332481]\n",
      "wrapper([ 5.141e-01  8.581e-01  8.346e-01  5.514e-01]) = 0.0023939569914146076\n",
      "assembly_constraint_no_mean([ 5.141e-01  8.581e-01  8.346e-01  5.514e-01]) = [-1.033e-08  9.900e-07]\n",
      "gld_params: [0.08370923 0.0371314  0.45588059 0.13336982]\n",
      "wrapper([ 5.153e-01  8.573e-01  8.354e-01  5.502e-01]) = 0.0023938942339675473\n",
      "assembly_constraint_no_mean([ 5.153e-01  8.573e-01  8.354e-01  5.502e-01]) = [ 9.516e-07  1.029e-06]\n",
      "gld_params: [0.08371935 0.03715871 0.45614666 0.13341876]\n",
      "wrapper([ 5.168e-01  8.564e-01  8.361e-01  5.491e-01]) = 0.002393825674484501\n",
      "assembly_constraint_no_mean([ 5.168e-01  8.564e-01  8.361e-01  5.491e-01]) = [ 1.609e-06  8.134e-07]\n",
      "gld_params: [0.08373052 0.03718867 0.45643571 0.1334729 ]\n",
      "wrapper([ 5.195e-01  8.548e-01  8.362e-01  5.489e-01]) = 0.0023937897025393478\n",
      "assembly_constraint_no_mean([ 5.195e-01  8.548e-01  8.362e-01  5.489e-01]) = [ 4.854e-06  3.047e-08]\n",
      "gld_params: [0.08374072 0.03712305 0.45621448 0.13343342]\n",
      "wrapper([ 5.158e-01  8.547e-01  8.358e-01  5.489e-01]) = 0.0023631838488104417\n",
      "assembly_constraint_no_mean([ 5.158e-01  8.547e-01  8.358e-01  5.489e-01]) = [-1.970e-03 -3.306e-04]\n",
      "gld_params: [0.08372853 0.03718322 0.45638515 0.13346223]\n",
      "wrapper([ 5.177e-01  8.559e-01  8.370e-01  5.477e-01]) = 0.0023937522590043486\n",
      "assembly_constraint_no_mean([ 5.177e-01  8.559e-01  8.370e-01  5.477e-01]) = [ 5.369e-07  1.443e-06]\n",
      "gld_params: [0.08373672 0.03720483 0.45659471 0.13350063]\n",
      "wrapper([ 5.187e-01  8.553e-01  8.377e-01  5.466e-01]) = 0.0023936861969784565\n",
      "assembly_constraint_no_mean([ 5.187e-01  8.553e-01  8.377e-01  5.466e-01]) = [ 6.232e-07  8.493e-07]\n",
      "gld_params: [0.08375239 0.03724611 0.45699119 0.13357409]\n",
      "wrapper([ 5.213e-01  8.537e-01  8.386e-01  5.453e-01]) = 0.002393657108808645\n",
      "assembly_constraint_no_mean([ 5.213e-01  8.537e-01  8.386e-01  5.453e-01]) = [ 4.673e-06  1.274e-06]\n",
      "gld_params: [0.08372948 0.03723795 0.45667934 0.13351445]\n",
      "wrapper([ 5.185e-01  8.550e-01  8.391e-01  5.475e-01]) = 0.0024108411621964706\n",
      "assembly_constraint_no_mean([ 5.185e-01  8.550e-01  8.391e-01  5.475e-01]) = [-3.774e-04  1.686e-03]\n",
      "gld_params: [0.0837449  0.03722638 0.45680265 0.13353893]\n",
      "wrapper([ 5.198e-01  8.546e-01  8.383e-01  5.457e-01]) = 0.002393640840336348\n",
      "assembly_constraint_no_mean([ 5.198e-01  8.546e-01  8.383e-01  5.457e-01]) = [ 8.697e-07  6.026e-07]\n",
      "gld_params: [0.08375348 0.03724885 0.45701757 0.13357938]\n",
      "wrapper([ 5.219e-01  8.533e-01  8.384e-01  5.456e-01]) = 0.0023936185590021403\n",
      "assembly_constraint_no_mean([ 5.219e-01  8.533e-01  8.384e-01  5.456e-01]) = [ 2.968e-06 -4.127e-09]\n",
      "gld_params: [0.08375797 0.03720436 0.45684279 0.13354768]\n",
      "wrapper([ 5.192e-01  8.536e-01  8.381e-01  5.456e-01]) = 0.0023753132881463124\n",
      "assembly_constraint_no_mean([ 5.192e-01  8.536e-01  8.381e-01  5.456e-01]) = [-1.202e-03 -2.080e-04]\n",
      "gld_params: [0.08374921 0.03723764 0.45691069 0.13355926]\n",
      "wrapper([ 5.209e-01  8.540e-01  8.383e-01  5.456e-01]) = 0.0023936093152960823\n",
      "assembly_constraint_no_mean([ 5.209e-01  8.540e-01  8.383e-01  5.456e-01]) = [ 7.341e-07 -7.923e-09]\n",
      "gld_params: [0.08375749 0.03725915 0.45711754 0.13359719]\n",
      "wrapper([ 5.218e-01  8.534e-01  8.391e-01  5.445e-01]) = 0.0023935704091544276\n",
      "assembly_constraint_no_mean([ 5.218e-01  8.534e-01  8.391e-01  5.445e-01]) = [ 5.469e-07  9.253e-07]\n",
      "gld_params: [0.08376736 0.03728471 0.45736119 0.13364281]\n",
      "wrapper([ 5.238e-01  8.522e-01  8.394e-01  5.441e-01]) = 0.002393551706200734\n",
      "assembly_constraint_no_mean([ 5.238e-01  8.522e-01  8.394e-01  5.441e-01]) = [ 2.844e-06  1.202e-07]\n",
      "gld_params: [0.08374459 0.03728063 0.45707689 0.13358837]\n",
      "wrapper([ 5.224e-01  8.544e-01  8.392e-01  5.446e-01]) = 0.0024116954769328436\n",
      "assembly_constraint_no_mean([ 5.224e-01  8.544e-01  8.392e-01  5.446e-01]) = [ 1.209e-03  1.776e-04]\n",
      "gld_params: [0.08376239 0.03727181 0.45723868 0.1336198 ]\n",
      "wrapper([ 5.227e-01  8.528e-01  8.393e-01  5.442e-01]) = 0.002393539392626128\n",
      "assembly_constraint_no_mean([ 5.227e-01  8.528e-01  8.393e-01  5.442e-01]) = [ 5.970e-07  4.653e-08]\n",
      "gld_params: [0.08376658 0.03728262 0.45734175 0.13363912]\n",
      "wrapper([ 5.236e-01  8.523e-01  8.394e-01  5.440e-01]) = 0.002393523078336719\n",
      "assembly_constraint_no_mean([ 5.236e-01  8.523e-01  8.394e-01  5.440e-01]) = [ 5.152e-07  1.035e-08]\n",
      "gld_params: [0.08376939 0.03728983 0.45741009 0.13365217]\n",
      "wrapper([ 5.244e-01  8.518e-01  8.393e-01  5.442e-01]) = 0.0023935128232510645\n",
      "assembly_constraint_no_mean([ 5.244e-01  8.518e-01  8.393e-01  5.442e-01]) = [ 4.788e-07  4.288e-09]\n",
      "gld_params: [0.0837712  0.03729445 0.45745426 0.13366036]\n",
      "wrapper([ 5.247e-01  8.516e-01  8.394e-01  5.440e-01]) = 0.0023934998997419197\n",
      "assembly_constraint_no_mean([ 5.247e-01  8.516e-01  8.394e-01  5.440e-01]) = [ 4.185e-08  1.059e-08]\n",
      "gld_params: [0.08377476 0.03730359 0.45754133 0.13367652]\n",
      "wrapper([ 5.252e-01  8.513e-01  8.396e-01  5.437e-01]) = 0.0023934898683479595\n",
      "assembly_constraint_no_mean([ 5.252e-01  8.513e-01  8.396e-01  5.437e-01]) = [ 2.073e-07  6.004e-08]\n",
      "gld_params: [0.08377961 0.03731593 0.45765861 0.13369838]\n",
      "wrapper([ 5.261e-01  8.507e-01  8.398e-01  5.434e-01]) = 0.002393474431972225\n",
      "assembly_constraint_no_mean([ 5.261e-01  8.507e-01  8.398e-01  5.434e-01]) = [ 4.825e-07  7.150e-08]\n",
      "gld_params: [0.08378603 0.03733225 0.45781318 0.13372733]\n",
      "wrapper([ 5.273e-01  8.500e-01  8.400e-01  5.430e-01]) = 0.0023934629522494\n",
      "assembly_constraint_no_mean([ 5.273e-01  8.500e-01  8.400e-01  5.430e-01]) = [ 1.067e-06  6.201e-08]\n",
      "gld_params: [0.08377566 0.03733182 0.45769224 0.13370376]\n",
      "wrapper([ 5.260e-01  8.507e-01  8.405e-01  5.438e-01]) = 0.0024021525963448358\n",
      "assembly_constraint_no_mean([ 5.260e-01  8.507e-01  8.405e-01  5.438e-01]) = [-9.009e-05  7.523e-04]\n",
      "gld_params: [0.08378244 0.03732308 0.45772704 0.13371073]\n",
      "wrapper([ 5.261e-01  8.507e-01  8.402e-01  5.427e-01]) = 0.002393454776316971\n",
      "assembly_constraint_no_mean([ 5.261e-01  8.507e-01  8.402e-01  5.427e-01]) = [-1.032e-08  2.763e-07]\n",
      "gld_params: [0.08378564 0.03733119 0.4578039  0.13372514]\n",
      "wrapper([ 5.268e-01  8.503e-01  8.403e-01  5.426e-01]) = 0.002393446494641776\n",
      "assembly_constraint_no_mean([ 5.268e-01  8.503e-01  8.403e-01  5.426e-01]) = [ 2.594e-07  7.174e-09]\n",
      "gld_params: [0.08378887 0.03733934 0.45788103 0.13373958]\n",
      "wrapper([ 5.274e-01  8.500e-01  8.404e-01  5.424e-01]) = 0.0023934353649967093\n",
      "assembly_constraint_no_mean([ 5.274e-01  8.500e-01  8.404e-01  5.424e-01]) = [ 2.511e-07  1.002e-08]\n",
      "gld_params: [0.08379248 0.03734848 0.45796709 0.1337559 ]\n",
      "wrapper([ 5.283e-01  8.494e-01  8.404e-01  5.424e-01]) = 0.002393433665360929\n",
      "assembly_constraint_no_mean([ 5.283e-01  8.494e-01  8.404e-01  5.424e-01]) = [ 5.641e-07 -9.365e-09]\n",
      "gld_params: [0.0837832  0.03734877 0.45786324 0.13373571]\n",
      "wrapper([ 5.277e-01  8.504e-01  8.405e-01  5.424e-01]) = 0.0024013809867711082\n",
      "assembly_constraint_no_mean([ 5.277e-01  8.504e-01  8.405e-01  5.424e-01]) = [ 5.304e-04  7.723e-05]\n",
      "gld_params: [0.08379055 0.03734358 0.45792156 0.13374683]\n",
      "wrapper([ 5.273e-01  8.500e-01  8.407e-01  5.419e-01]) = 0.002393426796271393\n",
      "assembly_constraint_no_mean([ 5.273e-01  8.500e-01  8.407e-01  5.419e-01]) = [-8.430e-09  1.321e-07]\n",
      "gld_params: [0.08379321 0.03735024 0.45798471 0.13375853]\n",
      "wrapper([ 5.277e-01  8.498e-01  8.409e-01  5.417e-01]) = 0.0023934152369177665\n",
      "assembly_constraint_no_mean([ 5.277e-01  8.498e-01  8.409e-01  5.417e-01]) = [ 7.713e-08  4.647e-08]\n",
      "gld_params: [0.08379697 0.03735968 0.45807398 0.13377506]\n",
      "wrapper([ 5.282e-01  8.495e-01  8.412e-01  5.413e-01]) = 0.0023934050969557767\n",
      "assembly_constraint_no_mean([ 5.282e-01  8.495e-01  8.412e-01  5.413e-01]) = [ 1.619e-07  1.052e-07]\n",
      "gld_params: [0.08380004 0.03736736 0.45814673 0.13378844]\n",
      "wrapper([ 5.285e-01  8.493e-01  8.415e-01  5.408e-01]) = 0.0023933940750793287\n",
      "assembly_constraint_no_mean([ 5.285e-01  8.493e-01  8.415e-01  5.408e-01]) = [ 5.156e-08  1.236e-07]\n",
      "gld_params: [0.08380333 0.03737554 0.45822452 0.13380234]\n",
      "wrapper([ 5.284e-01  8.493e-01  8.420e-01  5.399e-01]) = 0.0023933820933108104\n",
      "assembly_constraint_no_mean([ 5.284e-01  8.493e-01  8.420e-01  5.399e-01]) = [ 3.168e-11  5.542e-07]\n",
      "gld_params: [0.08380755 0.03738601 0.45832371 0.13382043]\n",
      "wrapper([ 5.286e-01  8.492e-01  8.425e-01  5.392e-01]) = 0.00239336501964919\n",
      "assembly_constraint_no_mean([ 5.286e-01  8.492e-01  8.425e-01  5.392e-01]) = [ 2.886e-08  4.001e-07]\n",
      "gld_params: [0.08381345 0.03740061 0.45846137 0.13384574]\n",
      "wrapper([ 5.291e-01  8.489e-01  8.431e-01  5.383e-01]) = 0.0023933520067545033\n",
      "assembly_constraint_no_mean([ 5.291e-01  8.489e-01  8.431e-01  5.383e-01]) = [ 1.903e-07  5.094e-07]\n",
      "gld_params: [0.0838165  0.0374081  0.45853224 0.13385862]\n",
      "wrapper([ 5.293e-01  8.488e-01  8.434e-01  5.377e-01]) = 0.0023933352061966274\n",
      "assembly_constraint_no_mean([ 5.293e-01  8.488e-01  8.434e-01  5.377e-01]) = [ 3.431e-12  2.407e-07]\n",
      "gld_params: [0.08382086 0.03741881 0.45863331 0.13387691]\n",
      "wrapper([ 5.293e-01  8.487e-01  8.441e-01  5.368e-01]) = 0.0023933233526025736\n",
      "assembly_constraint_no_mean([ 5.293e-01  8.487e-01  8.441e-01  5.368e-01]) = [-5.972e-09  6.197e-07]\n",
      "gld_params: [0.08382389 0.03742619 0.45870284 0.13388958]\n",
      "wrapper([ 5.295e-01  8.486e-01  8.444e-01  5.362e-01]) = 0.0023933078822959276\n",
      "assembly_constraint_no_mean([ 5.295e-01  8.486e-01  8.444e-01  5.362e-01]) = [ 5.079e-09  2.103e-07]\n",
      "gld_params: [0.08383026 0.03744173 0.45884867 0.13391626]\n",
      "wrapper([ 5.299e-01  8.484e-01  8.451e-01  5.351e-01]) = 0.0023932982749010193\n",
      "assembly_constraint_no_mean([ 5.299e-01  8.484e-01  8.451e-01  5.351e-01]) = [ 1.040e-07  8.162e-07]\n",
      "gld_params: [0.08382306 0.03742037 0.45866592 0.13388299]\n",
      "wrapper([ 5.297e-01  8.490e-01  8.440e-01  5.359e-01]) = 0.002391053702174066\n",
      "assembly_constraint_no_mean([ 5.297e-01  8.490e-01  8.440e-01  5.359e-01]) = [ 4.326e-04 -5.314e-04]\n",
      "gld_params: [0.08382694 0.03743363 0.45877282 0.13390234]\n",
      "wrapper([ 5.296e-01  8.486e-01  8.448e-01  5.356e-01]) = 0.002393298424762807\n",
      "assembly_constraint_no_mean([ 5.296e-01  8.486e-01  8.448e-01  5.356e-01]) = [ 7.005e-09  2.081e-07]\n",
      "gld_params: [0.08383133 0.03744434 0.45887269 0.13392111]\n",
      "wrapper([ 5.304e-01  8.481e-01  8.449e-01  5.354e-01]) = 0.00239329460336691\n",
      "assembly_constraint_no_mean([ 5.304e-01  8.481e-01  8.449e-01  5.354e-01]) = [ 4.187e-07  3.124e-08]\n",
      "gld_params: [0.0838326  0.03742187 0.45877911 0.1339042 ]\n",
      "wrapper([ 5.294e-01  8.482e-01  8.445e-01  5.355e-01]) = 0.0023859653439461843\n",
      "assembly_constraint_no_mean([ 5.294e-01  8.482e-01  8.445e-01  5.355e-01]) = [-4.145e-04 -2.511e-04]\n",
      "gld_params: [0.08382938 0.03743957 0.45882855 0.13391262]\n",
      "wrapper([ 5.299e-01  8.484e-01  8.450e-01  5.353e-01]) = 0.0023932928379572114\n",
      "assembly_constraint_no_mean([ 5.299e-01  8.484e-01  8.450e-01  5.353e-01]) = [ 2.874e-08  6.883e-08]\n",
      "gld_params: [0.08382903 0.03743871 0.45882099 0.13391081]\n",
      "wrapper([ 5.294e-01  8.487e-01  8.452e-01  5.349e-01]) = 0.002393289444259334\n",
      "assembly_constraint_no_mean([ 5.294e-01  8.487e-01  8.452e-01  5.349e-01]) = [ 1.309e-07  8.414e-08]\n",
      "gld_params: [0.08383178 0.03743584 0.45883739 0.13391406]\n",
      "wrapper([ 5.292e-01  8.484e-01  8.453e-01  5.350e-01]) = 0.002390290652565024\n",
      "assembly_constraint_no_mean([ 5.292e-01  8.484e-01  8.453e-01  5.350e-01]) = [-3.323e-04  8.379e-05]\n",
      "gld_params: [0.08382744 0.03743483 0.45878473 0.13390401]\n",
      "wrapper([ 5.291e-01  8.489e-01  8.451e-01  5.350e-01]) = 0.0023932914849413376\n",
      "assembly_constraint_no_mean([ 5.291e-01  8.489e-01  8.451e-01  5.350e-01]) = [ 4.160e-08 -2.802e-09]\n",
      "gld_params: [0.08382863 0.03743074 0.45877835 0.13390305]\n",
      "wrapper([ 5.291e-01  8.488e-01  8.450e-01  5.350e-01]) = 0.0023920976917604173\n",
      "assembly_constraint_no_mean([ 5.291e-01  8.488e-01  8.450e-01  5.350e-01]) = [-1.109e-05 -1.710e-04]\n",
      "gld_params: [0.08382806 0.03743632 0.45879878 0.13390654]\n",
      "wrapper([ 5.291e-01  8.489e-01  8.452e-01  5.349e-01]) = 0.002393285172203899\n",
      "assembly_constraint_no_mean([ 5.291e-01  8.489e-01  8.452e-01  5.349e-01]) = [-1.001e-08  4.711e-09]\n",
      "gld_params: [0.08382878 0.03743809 0.45881551 0.13390952]\n",
      "wrapper([ 5.291e-01  8.489e-01  8.454e-01  5.347e-01]) = 0.0023932860156233877\n",
      "assembly_constraint_no_mean([ 5.291e-01  8.489e-01  8.454e-01  5.347e-01]) = [-9.287e-09  1.867e-08]\n",
      "gld_params: [0.08382665 0.0374394  0.45879792 0.1339062 ]\n",
      "wrapper([ 5.292e-01  8.489e-01  8.453e-01  5.349e-01]) = 0.0023950559456799745\n",
      "assembly_constraint_no_mean([ 5.292e-01  8.489e-01  8.453e-01  5.349e-01]) = [ 9.609e-05  7.385e-05]\n",
      "gld_params: [0.08382812 0.03743649 0.45880048 0.13390678]\n",
      "wrapper([ 5.291e-01  8.489e-01  8.453e-01  5.348e-01]) = 0.0023932881057486454\n",
      "assembly_constraint_no_mean([ 5.291e-01  8.489e-01  8.453e-01  5.348e-01]) = [-7.169e-09 -5.493e-09]\n",
      "gld_params: [0.08382791 0.03743595 0.45879539 0.13390589]\n",
      "wrapper([ 5.291e-01  8.489e-01  8.452e-01  5.349e-01]) = 0.002393287307152997\n",
      "assembly_constraint_no_mean([ 5.291e-01  8.489e-01  8.452e-01  5.349e-01]) = [-2.235e-08 -7.193e-09]\n",
      "gld_params: [0.08382831 0.03743692 0.45880446 0.1339076 ]\n",
      "wrapper([ 5.292e-01  8.488e-01  8.452e-01  5.349e-01]) = 0.0023932848601328953\n",
      "assembly_constraint_no_mean([ 5.292e-01  8.488e-01  8.452e-01  5.349e-01]) = [-9.117e-09 -9.642e-09]\n",
      "gld_params: [0.08382821 0.03743669 0.45880219 0.13390721]\n",
      "wrapper([ 5.292e-01  8.488e-01  8.452e-01  5.349e-01]) = 0.0023932871863622963\n",
      "assembly_constraint_no_mean([ 5.292e-01  8.488e-01  8.452e-01  5.349e-01]) = [-9.818e-09 -8.933e-09]\n",
      "gld_params: [0.08382851 0.03743705 0.45880723 0.13390811]\n",
      "wrapper([ 5.292e-01  8.488e-01  8.453e-01  5.349e-01]) = 0.002393168388133469\n",
      "assembly_constraint_no_mean([ 5.292e-01  8.488e-01  8.453e-01  5.349e-01]) = [-3.961e-05  3.049e-05]\n",
      "gld_params: [0.08382836 0.03743708 0.45880592 0.13390784]\n",
      "wrapper([ 5.292e-01  8.488e-01  8.453e-01  5.348e-01]) = 0.0023932881465165865\n",
      "assembly_constraint_no_mean([ 5.292e-01  8.488e-01  8.453e-01  5.348e-01]) = [-9.672e-09 -9.078e-09]\n",
      "gld_params: [0.0838288  0.03743559 0.4588034  0.13390747]\n",
      "wrapper([ 5.292e-01  8.488e-01  8.452e-01  5.349e-01]) = 0.0023919488174251576\n",
      "assembly_constraint_no_mean([ 5.292e-01  8.488e-01  8.452e-01  5.349e-01]) = [-1.948e-05 -4.605e-05]\n",
      "gld_params: [0.08382856 0.03743753 0.45881012 0.13390865]\n",
      "wrapper([ 5.292e-01  8.488e-01  8.453e-01  5.349e-01]) = 0.0023932844055393437\n",
      "assembly_constraint_no_mean([ 5.292e-01  8.488e-01  8.453e-01  5.349e-01]) = [-9.098e-09 -9.652e-09]\n",
      "gld_params: [0.08382881 0.03743815 0.45881595 0.13390973]\n",
      "wrapper([ 5.292e-01  8.488e-01  8.453e-01  5.348e-01]) = 0.0023932860442140817\n",
      "assembly_constraint_no_mean([ 5.292e-01  8.488e-01  8.453e-01  5.348e-01]) = [-9.382e-09 -9.368e-09]\n",
      "gld_params: [0.08382798 0.03743884 0.45881    0.13390855]\n",
      "wrapper([ 5.292e-01  8.488e-01  8.453e-01  5.349e-01]) = 0.0023941963081155152\n",
      "assembly_constraint_no_mean([ 5.292e-01  8.488e-01  8.453e-01  5.349e-01]) = [ 3.699e-05  3.360e-05]\n",
      "gld_params: [0.08382872 0.0374379  0.45881353 0.13390931]\n",
      "wrapper([ 5.293e-01  8.488e-01  8.453e-01  5.349e-01]) = 0.0023932824038972837\n",
      "assembly_constraint_no_mean([ 5.293e-01  8.488e-01  8.453e-01  5.349e-01]) = [-8.780e-09 -9.970e-09]\n",
      "gld_params: [0.08382895 0.03743852 0.45881932 0.13391041]\n",
      "wrapper([ 5.293e-01  8.487e-01  8.453e-01  5.349e-01]) = 0.0023932874866018482\n",
      "assembly_constraint_no_mean([ 5.293e-01  8.487e-01  8.453e-01  5.349e-01]) = [-7.500e-09 -1.000e-08]\n",
      "gld_params: [0.08382876 0.0374372  0.45881088 0.13390885]\n",
      "wrapper([ 5.293e-01  8.488e-01  8.452e-01  5.348e-01]) = 0.002393003573277143\n",
      "assembly_constraint_no_mean([ 5.293e-01  8.488e-01  8.452e-01  5.348e-01]) = [ 2.271e-05 -4.453e-05]\n",
      "gld_params: [0.08382895 0.03743852 0.45881935 0.13391039]\n",
      "wrapper([ 5.293e-01  8.488e-01  8.453e-01  5.348e-01]) = 0.0023932878776476677\n",
      "assembly_constraint_no_mean([ 5.293e-01  8.488e-01  8.453e-01  5.348e-01]) = [-9.327e-09 -9.423e-09]\n",
      "gld_params: [0.083829   0.03743778 0.45881618 0.13390981]\n",
      "wrapper([ 5.292e-01  8.487e-01  8.453e-01  5.349e-01]) = 0.00239300758785121\n",
      "assembly_constraint_no_mean([ 5.292e-01  8.487e-01  8.453e-01  5.349e-01]) = [-4.451e-05  2.275e-05]\n",
      "gld_params: [0.08382856 0.03743754 0.45881014 0.13390871]\n",
      "wrapper([ 5.293e-01  8.488e-01  8.452e-01  5.349e-01]) = 0.0023932857307152585\n",
      "assembly_constraint_no_mean([ 5.293e-01  8.488e-01  8.452e-01  5.349e-01]) = [-9.964e-09 -8.786e-09]\n",
      "\n",
      "New trust-region radius: 7.071067811865476e-06.\n",
      "Number of function evaluations: 164.\n",
      "Number of iterations: 124.\n",
      "Least value of wrapper: 0.0023932824038972837.\n",
      "Maximum constraint violation: 0.0.\n",
      "Corresponding point: [ 5.293e-01  8.488e-01  8.453e-01  5.349e-01].\n",
      "\n",
      "gld_params: [0.08382869 0.03743786 0.45881321 0.13390925]\n",
      "wrapper([ 5.293e-01  8.488e-01  8.453e-01  5.349e-01]) = 0.00239328554263683\n",
      "assembly_constraint_no_mean([ 5.293e-01  8.488e-01  8.453e-01  5.349e-01]) = [-1.000e-08 -9.989e-09]\n",
      "gld_params: [0.08382874 0.03743799 0.45881439 0.13390947]\n",
      "wrapper([ 5.293e-01  8.488e-01  8.453e-01  5.349e-01]) = 0.0023932857802601163\n",
      "assembly_constraint_no_mean([ 5.293e-01  8.488e-01  8.453e-01  5.349e-01]) = [-8.319e-09 -1.004e-08]\n",
      "gld_params: [0.08382874 0.03743797 0.45881422 0.13390943]\n",
      "wrapper([ 5.293e-01  8.488e-01  8.453e-01  5.349e-01]) = 0.0023932850433514177\n",
      "assembly_constraint_no_mean([ 5.293e-01  8.488e-01  8.453e-01  5.349e-01]) = [-9.993e-09 -9.929e-09]\n",
      "gld_params: [0.08382861 0.03743808 0.45881353 0.1339093 ]\n",
      "wrapper([ 5.293e-01  8.488e-01  8.453e-01  5.349e-01]) = 0.002393417650771452\n",
      "assembly_constraint_no_mean([ 5.293e-01  8.488e-01  8.453e-01  5.349e-01]) = [ 5.013e-06  4.965e-06]\n",
      "gld_params: [0.08382868 0.03743785 0.45881312 0.13390923]\n",
      "wrapper([ 5.293e-01  8.488e-01  8.453e-01  5.349e-01]) = 0.002393286901225088\n",
      "assembly_constraint_no_mean([ 5.293e-01  8.488e-01  8.453e-01  5.349e-01]) = [-9.977e-09 -9.998e-09]\n",
      "gld_params: [0.08382874 0.03743799 0.45881436 0.13390946]\n",
      "wrapper([ 5.293e-01  8.488e-01  8.453e-01  5.349e-01]) = 0.002393284914360525\n",
      "assembly_constraint_no_mean([ 5.293e-01  8.488e-01  8.453e-01  5.349e-01]) = [-8.939e-09 -9.963e-09]\n",
      "gld_params: [0.08382869 0.03743785 0.45881314 0.13390924]\n",
      "wrapper([ 5.293e-01  8.488e-01  8.453e-01  5.349e-01]) = 0.0023932823732160024\n",
      "assembly_constraint_no_mean([ 5.293e-01  8.488e-01  8.453e-01  5.349e-01]) = [ 4.854e-06 -5.141e-06]\n",
      "gld_params: [0.08382873 0.03743791 0.45881393 0.13390938]\n",
      "wrapper([ 5.293e-01  8.488e-01  8.453e-01  5.349e-01]) = 0.0023932692797452625\n",
      "assembly_constraint_no_mean([ 5.293e-01  8.488e-01  8.453e-01  5.349e-01]) = [-5.636e-06  4.269e-06]\n",
      "\n",
      "New trust-region radius: 1e-06.\n",
      "Number of function evaluations: 172.\n",
      "Number of iterations: 132.\n",
      "Least value of wrapper: 0.0023932824038972837.\n",
      "Maximum constraint violation: 0.0.\n",
      "Corresponding point: [ 5.293e-01  8.488e-01  8.453e-01  5.349e-01].\n",
      "\n",
      "gld_params: [0.08382871 0.03743793 0.45881381 0.13390936]\n",
      "wrapper([ 5.293e-01  8.488e-01  8.453e-01  5.349e-01]) = 0.002393287670140831\n",
      "assembly_constraint_no_mean([ 5.293e-01  8.488e-01  8.453e-01  5.349e-01]) = [-9.997e-09 -1.000e-08]\n",
      "gld_params: [0.08382871 0.03743791 0.45881365 0.13390933]\n",
      "wrapper([ 5.293e-01  8.488e-01  8.453e-01  5.349e-01]) = 0.0023932856425600956\n",
      "assembly_constraint_no_mean([ 5.293e-01  8.488e-01  8.453e-01  5.349e-01]) = [-8.322e-09 -9.958e-09]\n",
      "gld_params: [0.0838287  0.03743788 0.45881333 0.13390927]\n",
      "wrapper([ 5.293e-01  8.488e-01  8.453e-01  5.349e-01]) = 0.002393284669391385\n",
      "assembly_constraint_no_mean([ 5.293e-01  8.488e-01  8.453e-01  5.349e-01]) = [-9.999e-09 -9.999e-09]\n",
      "gld_params: [0.08382871 0.03743789 0.45881347 0.1339093 ]\n",
      "wrapper([ 5.293e-01  8.488e-01  8.453e-01  5.349e-01]) = 0.002393284681897271\n",
      "assembly_constraint_no_mean([ 5.293e-01  8.488e-01  8.453e-01  5.349e-01]) = [-8.952e-09 -9.975e-09]\n",
      "gld_params: [0.08382871 0.03743789 0.45881348 0.1339093 ]\n",
      "wrapper([ 5.293e-01  8.488e-01  8.453e-01  5.349e-01]) = 0.002393284833249027\n",
      "assembly_constraint_no_mean([ 5.293e-01  8.488e-01  8.453e-01  5.349e-01]) = [-1.000e-08 -1.000e-08]\n",
      "gld_params: [0.08382871 0.03743789 0.45881348 0.1339093 ]\n",
      "wrapper([ 5.293e-01  8.488e-01  8.453e-01  5.349e-01]) = 0.0023932833770945825\n",
      "assembly_constraint_no_mean([ 5.293e-01  8.488e-01  8.453e-01  5.349e-01]) = [ 6.283e-07 -7.804e-07]\n",
      "gld_params: [0.08382871 0.03743791 0.45881365 0.13390933]\n",
      "wrapper([ 5.293e-01  8.488e-01  8.453e-01  5.349e-01]) = 0.002393285444519949\n",
      "assembly_constraint_no_mean([ 5.293e-01  8.488e-01  8.453e-01  5.349e-01]) = [-1.000e-08 -1.000e-08]\n",
      "gld_params: [0.08382872 0.03743788 0.45881356 0.13390932]\n",
      "wrapper([ 5.293e-01  8.488e-01  8.453e-01  5.349e-01]) = 0.0023932694223287028\n",
      "assembly_constraint_no_mean([ 5.293e-01  8.488e-01  8.453e-01  5.349e-01]) = [-9.954e-07 -1.714e-07]\n",
      "gld_params: [0.0838287  0.03743789 0.45881342 0.13390929]\n",
      "wrapper([ 5.293e-01  8.488e-01  8.453e-01  5.349e-01]) = 0.0023932871111274393\n",
      "assembly_constraint_no_mean([ 5.293e-01  8.488e-01  8.453e-01  5.349e-01]) = [-1.000e-08 -1.000e-08]\n",
      "gld_params: [0.0838287  0.03743792 0.45881353 0.13390931]\n",
      "wrapper([ 5.293e-01  8.488e-01  8.453e-01  5.349e-01]) = 0.002393302932843857\n",
      "assembly_constraint_no_mean([ 5.293e-01  8.488e-01  8.453e-01  5.349e-01]) = [ 7.014e-07  6.937e-07]\n",
      "\n",
      "The lower bound for the trust-region radius has been reached.\n",
      "Number of function evaluations: 182.\n",
      "Number of iterations: 142.\n",
      "Least value of wrapper: 0.0023932824038972837.\n",
      "Maximum constraint violation: 0.0.\n",
      "Corresponding point: [ 5.293e-01  8.488e-01  8.453e-01  5.349e-01].\n",
      "minimization Result with COBYQA:\n",
      " message: The lower bound for the trust-region radius has been reached\n",
      " success: True\n",
      "  status: 0\n",
      "     fun: 0.0023932824038972837\n",
      "       x: [ 5.293e-01  8.488e-01  8.453e-01  5.349e-01]\n",
      "     nit: 142\n",
      "   maxcv: 0.0\n",
      "    nfev: 182\n"
     ]
    }
   ],
   "source": [
    "# Initial guess\n",
    "x0_mini = [0.5] * NDim_Defects  # Initial guess\n",
    "\n",
    "# Perform the local optimization using COBYQA directly\n",
    "res_mini = minimize(\n",
    "    optimization_function_mini, \n",
    "    x0_mini, \n",
    "    method=\"COBYQA\", \n",
    "    jac=None, \n",
    "    bounds=Bounds(0.0, 1.0, keep_feasible=True),\n",
    "    constraints = nonLinearConstraint,\n",
    "    options={\n",
    "        \"f_target\": -0.01, #Has to be  \n",
    "        \"maxiter\": 1000,\n",
    "        \"maxfev\": 4000,\n",
    "        \"feasibility_tol\": 1e-9,\n",
    "        \"initial_tr_radius\": np.sqrt(2*10),\n",
    "        \"final_tr_radius\": 1e-6,\n",
    "        \"disp\": True,\n",
    "        \"scale\": False #True\n",
    "    }\n",
    ")\n",
    "\n",
    "print(\"minimization Result with COBYQA:\")\n",
    "print(res_mini)"
   ]
  },
  {
   "cell_type": "markdown",
   "id": "aaf770bf-8939-455f-9053-cd553e9bae4a",
   "metadata": {},
   "source": [
    "upper gld_params: [0.08497226 0.02990299 0.31602318 0.12813885]\n",
    "lower gld_params: [0.0838287  0.03743792 0.45881353 0.13390931]"
   ]
  },
  {
   "cell_type": "code",
   "execution_count": 22,
   "id": "8c59c14d-0910-4fae-bc80-7e7d40d54ac0",
   "metadata": {
    "scrolled": true
   },
   "outputs": [
    {
     "data": {
      "text/plain": [
       "array([-0.1       , -0.0995996 , -0.0991992 , -0.0987988 , -0.0983984 ,\n",
       "       -0.097998  , -0.0975976 , -0.0971972 , -0.0967968 , -0.0963964 ,\n",
       "       -0.095996  , -0.0955956 , -0.0951952 , -0.09479479, -0.09439439,\n",
       "       -0.09399399, -0.09359359, -0.09319319, -0.09279279, -0.09239239,\n",
       "       -0.09199199, -0.09159159, -0.09119119, -0.09079079, -0.09039039,\n",
       "       -0.08998999, -0.08958959, -0.08918919, -0.08878879, -0.08838839,\n",
       "       -0.08798799, -0.08758759, -0.08718719, -0.08678679, -0.08638639,\n",
       "       -0.08598599, -0.08558559, -0.08518519, -0.08478478, -0.08438438,\n",
       "       -0.08398398, -0.08358358, -0.08318318, -0.08278278, -0.08238238,\n",
       "       -0.08198198, -0.08158158, -0.08118118, -0.08078078, -0.08038038,\n",
       "       -0.07997998, -0.07957958, -0.07917918, -0.07877878, -0.07837838,\n",
       "       -0.07797798, -0.07757758, -0.07717718, -0.07677678, -0.07637638,\n",
       "       -0.07597598, -0.07557558, -0.07517518, -0.07477477, -0.07437437,\n",
       "       -0.07397397, -0.07357357, -0.07317317, -0.07277277, -0.07237237,\n",
       "       -0.07197197, -0.07157157, -0.07117117, -0.07077077, -0.07037037,\n",
       "       -0.06996997, -0.06956957, -0.06916917, -0.06876877, -0.06836837,\n",
       "       -0.06796797, -0.06756757, -0.06716717, -0.06676677, -0.06636637,\n",
       "       -0.06596597, -0.06556557, -0.06516517, -0.06476476, -0.06436436,\n",
       "       -0.06396396, -0.06356356, -0.06316316, -0.06276276, -0.06236236,\n",
       "       -0.06196196, -0.06156156, -0.06116116, -0.06076076, -0.06036036,\n",
       "       -0.05995996, -0.05955956, -0.05915916, -0.05875876, -0.05835836,\n",
       "       -0.05795796, -0.05755756, -0.05715716, -0.05675676, -0.05635636,\n",
       "       -0.05595596, -0.05555556, -0.05515516, -0.05475475, -0.05435435,\n",
       "       -0.05395395, -0.05355355, -0.05315315, -0.05275275, -0.05235235,\n",
       "       -0.05195195, -0.05155155, -0.05115115, -0.05075075, -0.05035035,\n",
       "       -0.04994995, -0.04954955, -0.04914915, -0.04874875, -0.04834835,\n",
       "       -0.04794795, -0.04754755, -0.04714715, -0.04674675, -0.04634635,\n",
       "       -0.04594595, -0.04554555, -0.04514515, -0.04474474, -0.04434434,\n",
       "       -0.04394394, -0.04354354, -0.04314314, -0.04274274, -0.04234234,\n",
       "       -0.04194194, -0.04154154, -0.04114114, -0.04074074, -0.04034034,\n",
       "       -0.03993994, -0.03953954, -0.03913914, -0.03873874, -0.03833834,\n",
       "       -0.03793794, -0.03753754, -0.03713714, -0.03673674, -0.03633634,\n",
       "       -0.03593594, -0.03553554, -0.03513514, -0.03473473, -0.03433433,\n",
       "       -0.03393393, -0.03353353, -0.03313313, -0.03273273, -0.03233233,\n",
       "       -0.03193193, -0.03153153, -0.03113113, -0.03073073, -0.03033033,\n",
       "       -0.02992993, -0.02952953, -0.02912913, -0.02872873, -0.02832833,\n",
       "       -0.02792793, -0.02752753, -0.02712713, -0.02672673, -0.02632633,\n",
       "       -0.02592593, -0.02552553, -0.02512513, -0.02472472, -0.02432432,\n",
       "       -0.02392392, -0.02352352, -0.02312312, -0.02272272, -0.02232232,\n",
       "       -0.02192192, -0.02152152, -0.02112112, -0.02072072, -0.02032032,\n",
       "       -0.01991992, -0.01951952, -0.01911912, -0.01871872, -0.01831832,\n",
       "       -0.01791792, -0.01751752, -0.01711712, -0.01671672, -0.01631632,\n",
       "       -0.01591592, -0.01551552, -0.01511512, -0.01471471, -0.01431431,\n",
       "       -0.01391391, -0.01351351, -0.01311311, -0.01271271, -0.01231231,\n",
       "       -0.01191191, -0.01151151, -0.01111111, -0.01071071, -0.01031031,\n",
       "       -0.00990991, -0.00950951, -0.00910911, -0.00870871, -0.00830831,\n",
       "       -0.00790791, -0.00750751, -0.00710711, -0.00670671, -0.00630631,\n",
       "       -0.00590591, -0.00550551, -0.00510511, -0.0047047 , -0.0043043 ,\n",
       "       -0.0039039 , -0.0035035 , -0.0031031 , -0.0027027 , -0.0023023 ,\n",
       "       -0.0019019 , -0.0015015 , -0.0011011 , -0.0007007 , -0.0003003 ,\n",
       "        0.0001001 ,  0.0005005 ,  0.0009009 ,  0.0013013 ,  0.0017017 ,\n",
       "        0.0021021 ,  0.0025025 ,  0.0029029 ,  0.0033033 ,  0.0037037 ,\n",
       "        0.0041041 ,  0.0045045 ,  0.0049049 ,  0.00530531,  0.00570571,\n",
       "        0.00610611,  0.00650651,  0.00690691,  0.00730731,  0.00770771,\n",
       "        0.00810811,  0.00850851,  0.00890891,  0.00930931,  0.00970971,\n",
       "        0.01011011,  0.01051051,  0.01091091,  0.01131131,  0.01171171,\n",
       "        0.01211211,  0.01251251,  0.01291291,  0.01331331,  0.01371371,\n",
       "        0.01411411,  0.01451451,  0.01491491,  0.01531532,  0.01571572,\n",
       "        0.01611612,  0.01651652,  0.01691692,  0.01731732,  0.01771772,\n",
       "        0.01811812,  0.01851852,  0.01891892,  0.01931932,  0.01971972,\n",
       "        0.02012012,  0.02052052,  0.02092092,  0.02132132,  0.02172172,\n",
       "        0.02212212,  0.02252252,  0.02292292,  0.02332332,  0.02372372,\n",
       "        0.02412412,  0.02452452,  0.02492492,  0.02532533,  0.02572573,\n",
       "        0.02612613,  0.02652653,  0.02692693,  0.02732733,  0.02772773,\n",
       "        0.02812813,  0.02852853,  0.02892893,  0.02932933,  0.02972973,\n",
       "        0.03013013,  0.03053053,  0.03093093,  0.03133133,  0.03173173,\n",
       "        0.03213213,  0.03253253,  0.03293293,  0.03333333,  0.03373373,\n",
       "        0.03413413,  0.03453453,  0.03493493,  0.03533534,  0.03573574,\n",
       "        0.03613614,  0.03653654,  0.03693694,  0.03733734,  0.03773774,\n",
       "        0.03813814,  0.03853854,  0.03893894,  0.03933934,  0.03973974,\n",
       "        0.04014014,  0.04054054,  0.04094094,  0.04134134,  0.04174174,\n",
       "        0.04214214,  0.04254254,  0.04294294,  0.04334334,  0.04374374,\n",
       "        0.04414414,  0.04454454,  0.04494494,  0.04534535,  0.04574575,\n",
       "        0.04614615,  0.04654655,  0.04694695,  0.04734735,  0.04774775,\n",
       "        0.04814815,  0.04854855,  0.04894895,  0.04934935,  0.04974975,\n",
       "        0.05015015,  0.05055055,  0.05095095,  0.05135135,  0.05175175,\n",
       "        0.05215215,  0.05255255,  0.05295295,  0.05335335,  0.05375375,\n",
       "        0.05415415,  0.05455455,  0.05495495,  0.05535536,  0.05575576,\n",
       "        0.05615616,  0.05655656,  0.05695696,  0.05735736,  0.05775776,\n",
       "        0.05815816,  0.05855856,  0.05895896,  0.05935936,  0.05975976,\n",
       "        0.06016016,  0.06056056,  0.06096096,  0.06136136,  0.06176176,\n",
       "        0.06216216,  0.06256256,  0.06296296,  0.06336336,  0.06376376,\n",
       "        0.06416416,  0.06456456,  0.06496496,  0.06536537,  0.06576577,\n",
       "        0.06616617,  0.06656657,  0.06696697,  0.06736737,  0.06776777,\n",
       "        0.06816817,  0.06856857,  0.06896897,  0.06936937,  0.06976977,\n",
       "        0.07017017,  0.07057057,  0.07097097,  0.07137137,  0.07177177,\n",
       "        0.07217217,  0.07257257,  0.07297297,  0.07337337,  0.07377377,\n",
       "        0.07417417,  0.07457457,  0.07497497,  0.07537538,  0.07577578,\n",
       "        0.07617618,  0.07657658,  0.07697698,  0.07737738,  0.07777778,\n",
       "        0.07817818,  0.07857858,  0.07897898,  0.07937938,  0.07977978,\n",
       "        0.08018018,  0.08058058,  0.08098098,  0.08138138,  0.08178178,\n",
       "        0.08218218,  0.08258258,  0.08298298,  0.08338338,  0.08378378,\n",
       "        0.08418418,  0.08458458,  0.08498498,  0.08538539,  0.08578579,\n",
       "        0.08618619,  0.08658659,  0.08698699,  0.08738739,  0.08778779,\n",
       "        0.08818819,  0.08858859,  0.08898899,  0.08938939,  0.08978979,\n",
       "        0.09019019,  0.09059059,  0.09099099,  0.09139139,  0.09179179,\n",
       "        0.09219219,  0.09259259,  0.09299299,  0.09339339,  0.09379379,\n",
       "        0.09419419,  0.09459459,  0.09499499,  0.0953954 ,  0.0957958 ,\n",
       "        0.0961962 ,  0.0965966 ,  0.096997  ,  0.0973974 ,  0.0977978 ,\n",
       "        0.0981982 ,  0.0985986 ,  0.098999  ,  0.0993994 ,  0.0997998 ,\n",
       "        0.1002002 ,  0.1006006 ,  0.101001  ,  0.1014014 ,  0.1018018 ,\n",
       "        0.1022022 ,  0.1026026 ,  0.103003  ,  0.1034034 ,  0.1038038 ,\n",
       "        0.1042042 ,  0.1046046 ,  0.10500501,  0.10540541,  0.10580581,\n",
       "        0.10620621,  0.10660661,  0.10700701,  0.10740741,  0.10780781,\n",
       "        0.10820821,  0.10860861,  0.10900901,  0.10940941,  0.10980981,\n",
       "        0.11021021,  0.11061061,  0.11101101,  0.11141141,  0.11181181,\n",
       "        0.11221221,  0.11261261,  0.11301301,  0.11341341,  0.11381381,\n",
       "        0.11421421,  0.11461461,  0.11501502,  0.11541542,  0.11581582,\n",
       "        0.11621622,  0.11661662,  0.11701702,  0.11741742,  0.11781782,\n",
       "        0.11821822,  0.11861862,  0.11901902,  0.11941942,  0.11981982,\n",
       "        0.12022022,  0.12062062,  0.12102102,  0.12142142,  0.12182182,\n",
       "        0.12222222,  0.12262262,  0.12302302,  0.12342342,  0.12382382,\n",
       "        0.12422422,  0.12462462,  0.12502503,  0.12542543,  0.12582583,\n",
       "        0.12622623,  0.12662663,  0.12702703,  0.12742743,  0.12782783,\n",
       "        0.12822823,  0.12862863,  0.12902903,  0.12942943,  0.12982983,\n",
       "        0.13023023,  0.13063063,  0.13103103,  0.13143143,  0.13183183,\n",
       "        0.13223223,  0.13263263,  0.13303303,  0.13343343,  0.13383383,\n",
       "        0.13423423,  0.13463463,  0.13503504,  0.13543544,  0.13583584,\n",
       "        0.13623624,  0.13663664,  0.13703704,  0.13743744,  0.13783784,\n",
       "        0.13823824,  0.13863864,  0.13903904,  0.13943944,  0.13983984,\n",
       "        0.14024024,  0.14064064,  0.14104104,  0.14144144,  0.14184184,\n",
       "        0.14224224,  0.14264264,  0.14304304,  0.14344344,  0.14384384,\n",
       "        0.14424424,  0.14464464,  0.14504505,  0.14544545,  0.14584585,\n",
       "        0.14624625,  0.14664665,  0.14704705,  0.14744745,  0.14784785,\n",
       "        0.14824825,  0.14864865,  0.14904905,  0.14944945,  0.14984985,\n",
       "        0.15025025,  0.15065065,  0.15105105,  0.15145145,  0.15185185,\n",
       "        0.15225225,  0.15265265,  0.15305305,  0.15345345,  0.15385385,\n",
       "        0.15425425,  0.15465465,  0.15505506,  0.15545546,  0.15585586,\n",
       "        0.15625626,  0.15665666,  0.15705706,  0.15745746,  0.15785786,\n",
       "        0.15825826,  0.15865866,  0.15905906,  0.15945946,  0.15985986,\n",
       "        0.16026026,  0.16066066,  0.16106106,  0.16146146,  0.16186186,\n",
       "        0.16226226,  0.16266266,  0.16306306,  0.16346346,  0.16386386,\n",
       "        0.16426426,  0.16466466,  0.16506507,  0.16546547,  0.16586587,\n",
       "        0.16626627,  0.16666667,  0.16706707,  0.16746747,  0.16786787,\n",
       "        0.16826827,  0.16866867,  0.16906907,  0.16946947,  0.16986987,\n",
       "        0.17027027,  0.17067067,  0.17107107,  0.17147147,  0.17187187,\n",
       "        0.17227227,  0.17267267,  0.17307307,  0.17347347,  0.17387387,\n",
       "        0.17427427,  0.17467467,  0.17507508,  0.17547548,  0.17587588,\n",
       "        0.17627628,  0.17667668,  0.17707708,  0.17747748,  0.17787788,\n",
       "        0.17827828,  0.17867868,  0.17907908,  0.17947948,  0.17987988,\n",
       "        0.18028028,  0.18068068,  0.18108108,  0.18148148,  0.18188188,\n",
       "        0.18228228,  0.18268268,  0.18308308,  0.18348348,  0.18388388,\n",
       "        0.18428428,  0.18468468,  0.18508509,  0.18548549,  0.18588589,\n",
       "        0.18628629,  0.18668669,  0.18708709,  0.18748749,  0.18788789,\n",
       "        0.18828829,  0.18868869,  0.18908909,  0.18948949,  0.18988989,\n",
       "        0.19029029,  0.19069069,  0.19109109,  0.19149149,  0.19189189,\n",
       "        0.19229229,  0.19269269,  0.19309309,  0.19349349,  0.19389389,\n",
       "        0.19429429,  0.19469469,  0.1950951 ,  0.1954955 ,  0.1958959 ,\n",
       "        0.1962963 ,  0.1966967 ,  0.1970971 ,  0.1974975 ,  0.1978979 ,\n",
       "        0.1982983 ,  0.1986987 ,  0.1990991 ,  0.1994995 ,  0.1998999 ,\n",
       "        0.2003003 ,  0.2007007 ,  0.2011011 ,  0.2015015 ,  0.2019019 ,\n",
       "        0.2023023 ,  0.2027027 ,  0.2031031 ,  0.2035035 ,  0.2039039 ,\n",
       "        0.2043043 ,  0.2047047 ,  0.20510511,  0.20550551,  0.20590591,\n",
       "        0.20630631,  0.20670671,  0.20710711,  0.20750751,  0.20790791,\n",
       "        0.20830831,  0.20870871,  0.20910911,  0.20950951,  0.20990991,\n",
       "        0.21031031,  0.21071071,  0.21111111,  0.21151151,  0.21191191,\n",
       "        0.21231231,  0.21271271,  0.21311311,  0.21351351,  0.21391391,\n",
       "        0.21431431,  0.21471471,  0.21511512,  0.21551552,  0.21591592,\n",
       "        0.21631632,  0.21671672,  0.21711712,  0.21751752,  0.21791792,\n",
       "        0.21831832,  0.21871872,  0.21911912,  0.21951952,  0.21991992,\n",
       "        0.22032032,  0.22072072,  0.22112112,  0.22152152,  0.22192192,\n",
       "        0.22232232,  0.22272272,  0.22312312,  0.22352352,  0.22392392,\n",
       "        0.22432432,  0.22472472,  0.22512513,  0.22552553,  0.22592593,\n",
       "        0.22632633,  0.22672673,  0.22712713,  0.22752753,  0.22792793,\n",
       "        0.22832833,  0.22872873,  0.22912913,  0.22952953,  0.22992993,\n",
       "        0.23033033,  0.23073073,  0.23113113,  0.23153153,  0.23193193,\n",
       "        0.23233233,  0.23273273,  0.23313313,  0.23353353,  0.23393393,\n",
       "        0.23433433,  0.23473473,  0.23513514,  0.23553554,  0.23593594,\n",
       "        0.23633634,  0.23673674,  0.23713714,  0.23753754,  0.23793794,\n",
       "        0.23833834,  0.23873874,  0.23913914,  0.23953954,  0.23993994,\n",
       "        0.24034034,  0.24074074,  0.24114114,  0.24154154,  0.24194194,\n",
       "        0.24234234,  0.24274274,  0.24314314,  0.24354354,  0.24394394,\n",
       "        0.24434434,  0.24474474,  0.24514515,  0.24554555,  0.24594595,\n",
       "        0.24634635,  0.24674675,  0.24714715,  0.24754755,  0.24794795,\n",
       "        0.24834835,  0.24874875,  0.24914915,  0.24954955,  0.24994995,\n",
       "        0.25035035,  0.25075075,  0.25115115,  0.25155155,  0.25195195,\n",
       "        0.25235235,  0.25275275,  0.25315315,  0.25355355,  0.25395395,\n",
       "        0.25435435,  0.25475475,  0.25515516,  0.25555556,  0.25595596,\n",
       "        0.25635636,  0.25675676,  0.25715716,  0.25755756,  0.25795796,\n",
       "        0.25835836,  0.25875876,  0.25915916,  0.25955956,  0.25995996,\n",
       "        0.26036036,  0.26076076,  0.26116116,  0.26156156,  0.26196196,\n",
       "        0.26236236,  0.26276276,  0.26316316,  0.26356356,  0.26396396,\n",
       "        0.26436436,  0.26476476,  0.26516517,  0.26556557,  0.26596597,\n",
       "        0.26636637,  0.26676677,  0.26716717,  0.26756757,  0.26796797,\n",
       "        0.26836837,  0.26876877,  0.26916917,  0.26956957,  0.26996997,\n",
       "        0.27037037,  0.27077077,  0.27117117,  0.27157157,  0.27197197,\n",
       "        0.27237237,  0.27277277,  0.27317317,  0.27357357,  0.27397397,\n",
       "        0.27437437,  0.27477477,  0.27517518,  0.27557558,  0.27597598,\n",
       "        0.27637638,  0.27677678,  0.27717718,  0.27757758,  0.27797798,\n",
       "        0.27837838,  0.27877878,  0.27917918,  0.27957958,  0.27997998,\n",
       "        0.28038038,  0.28078078,  0.28118118,  0.28158158,  0.28198198,\n",
       "        0.28238238,  0.28278278,  0.28318318,  0.28358358,  0.28398398,\n",
       "        0.28438438,  0.28478478,  0.28518519,  0.28558559,  0.28598599,\n",
       "        0.28638639,  0.28678679,  0.28718719,  0.28758759,  0.28798799,\n",
       "        0.28838839,  0.28878879,  0.28918919,  0.28958959,  0.28998999,\n",
       "        0.29039039,  0.29079079,  0.29119119,  0.29159159,  0.29199199,\n",
       "        0.29239239,  0.29279279,  0.29319319,  0.29359359,  0.29399399,\n",
       "        0.29439439,  0.29479479,  0.2951952 ,  0.2955956 ,  0.295996  ,\n",
       "        0.2963964 ,  0.2967968 ,  0.2971972 ,  0.2975976 ,  0.297998  ,\n",
       "        0.2983984 ,  0.2987988 ,  0.2991992 ,  0.2995996 ,  0.3       ])"
      ]
     },
     "execution_count": 22,
     "metadata": {},
     "output_type": "execute_result"
    }
   ],
   "source": [
    "np.linspace(-0.1,0.3,1000)"
   ]
  },
  {
   "cell_type": "code",
   "execution_count": 24,
   "id": "bd188c18-6e06-4000-83c1-fdaa2e3fc3fd",
   "metadata": {},
   "outputs": [
    {
     "data": {
      "image/png": "[encoded data removed]",
      "text/plain": [
       "<Figure size 960x720 with 1 Axes>"
      ]
     },
     "metadata": {},
     "output_type": "display_data"
    }
   ],
   "source": [
    "gld_up = [0.08497226, 0.02990299, 0.31602318, 0.12813885]\n",
    "gld_low = [0.0838287, 0.03743792, 0.45881353, 0.13390931]\n",
    "otaf.plotting.plot_gld_pbox_cdf(gld, gld_low, gld_up, np.linspace(-0.05,0.2,1000))"
   ]
  },
  {
   "cell_type": "code",
   "execution_count": null,
   "id": "1067f1c5-a93d-48e8-bf47-7d7340fa4831",
   "metadata": {},
   "outputs": [],
   "source": []
  }
 ],
 "metadata": {
  "kernelspec": {
   "display_name": "Python 3 (ipykernel)",
   "language": "python",
   "name": "python3"
  },
  "language_info": {
   "codemirror_mode": {
    "name": "ipython",
    "version": 3
   },
   "file_extension": ".py",
   "mimetype": "text/x-python",
   "name": "python",
   "nbconvert_exporter": "python",
   "pygments_lexer": "ipython3",
   "version": "3.12.8"
  }
 },
 "nbformat": 4,
 "nbformat_minor": 5
}
