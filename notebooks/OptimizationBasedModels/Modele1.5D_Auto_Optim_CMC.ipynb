{
 "cells": [
  {
   "cell_type": "markdown",
   "id": "1ecb329a-8614-42a5-82a8-78a3d5dacada",
   "metadata": {},
   "source": [
    "# Tolerance analysis of simple 1.5D model, automatic dictionary construction, crude monte carlo, optimizaiton on epistemic space of uncertainty."
   ]
  },
  {
   "cell_type": "code",
   "execution_count": 1,
   "id": "bd254d60-fd5b-4c8e-9f4a-1de5de524e2b",
   "metadata": {},
   "outputs": [],
   "source": [
    "import os\n",
    "import pickle\n",
    "import re\n",
    "import pprint\n",
    "import numpy as np\n",
    "import sympy as sp\n",
    "import scipy\n",
    "import openturns as ot\n",
    "import matplotlib.pyplot as plt\n",
    "import trimesh as tr\n",
    "\n",
    "from math import pi, sqrt\n",
    "from joblib import Parallel, delayed\n",
    "from importlib import reload\n",
    "from IPython.display import display, clear_output, HTML, IFrame\n",
    "from time import time, sleep\n",
    "from sympy.printing import latex\n",
    "from trimesh import viewer as trview\n",
    "from scipy.optimize import OptimizeResult, minimize, basinhopping, \\\n",
    "                           differential_evolution, brute, shgo, check_grad, \\\n",
    "                           approx_fprime, fsolve, NonlinearConstraint, Bounds, approx_fprime\n",
    "import otaf\n",
    "\n",
    "from gldpy import GLD\n",
    "\n",
    "ot.Log.Show(ot.Log.NONE)\n",
    "np.set_printoptions(suppress=True)\n",
    "ar = np.array"
   ]
  },
  {
   "cell_type": "code",
   "execution_count": 2,
   "id": "8275252e-374d-44e2-b204-8764502e12cd",
   "metadata": {},
   "outputs": [],
   "source": [
    "### Different measures of our problem\n",
    "X1 = 99.8   # Nominal Length of the male piece\n",
    "X2 = 100.0  # Nominal Length of the female piece\n",
    "X3 = 10.0   # Nominal height of the pieces\n",
    "t = 0.2*sqrt(2)    # Tolerance for X1 and X2. (95% conform)  (= t/2)"
   ]
  },
  {
   "cell_type": "markdown",
   "id": "2a2d5ac3-79f9-47d1-8329-ba5dce619632",
   "metadata": {},
   "source": [
    "## Coordinates, points, feature definitions."
   ]
  },
  {
   "cell_type": "code",
   "execution_count": 3,
   "id": "c637ce58-ba04-4d7d-a03f-441b1d8e60d9",
   "metadata": {},
   "outputs": [],
   "source": [
    "# Global coordinate system\n",
    "R0 = np.array([[1, 0, 0], [0, 1, 0], [0, 0, 1]])\n",
    "x_, y_, z_ = R0[0], R0[1], R0[2]\n",
    "\n",
    "# Important points\n",
    "# Pièce 1 (male)\n",
    "P1A0, P1A1, P1A2 = (\n",
    "    np.array((0, X3 / 2, 0.0)),\n",
    "    np.array((0, X3, 0.0)),\n",
    "    np.array((0, 0, 0.0)),\n",
    ")\n",
    "P1B0, P1B1, P1B2 = (\n",
    "    np.array((X1, X3 / 2, 0.0)),\n",
    "    np.array((X1, X3, 0.0)),\n",
    "    np.array((X1, 0, 0.0)),\n",
    ")\n",
    "P1C0, P1C1, P1C2 = (\n",
    "    np.array((X1 / 2, 0, 0.0)),\n",
    "    np.array((0, 0, 0.0)),\n",
    "    np.array((X1, 0, 0.0)),\n",
    ")\n",
    "\n",
    "# Pièce 2 (femelle)  # On met les points à hM et pas hF pour qu'ils soient bien opposées! (Besoin??)\n",
    "P2A0, P2A1, P2A2 = (\n",
    "    np.array((0, X3 / 2, 0.0)),\n",
    "    np.array((0, X3, 0.0)),\n",
    "    np.array((0, 0, 0.0)),\n",
    ")\n",
    "P2B0, P2B1, P2B2 = (\n",
    "    np.array((X2, X3 / 2, 0.0)),\n",
    "    np.array((X2, X3, 0.0)),\n",
    "    np.array((X2, 0, 0.0)),\n",
    ")\n",
    "P2C0, P2C1, P2C2 = (\n",
    "    np.array((X2 / 2, 0, 0.0)),\n",
    "    np.array((0, 0, 0.0)),\n",
    "    np.array((X2, 0, 0.0)),\n",
    ")\n",
    "\n",
    "# Local coordinate systems\n",
    "# Pièce1\n",
    "RP1a = np.array([-1 * x_, -1 * y_, z_])\n",
    "RP1b = R0\n",
    "RP1c = np.array([-y_, x_, z_])\n",
    "\n",
    "# Pièce2\n",
    "RP2a = R0\n",
    "RP2b = np.array([-1 * x_, -1 * y_, z_])\n",
    "RP2c = np.array([y_, -1 * x_, z_])"
   ]
  },
  {
   "cell_type": "markdown",
   "id": "f5ed640e-40fc-48fe-ab9a-b46b5fd97b61",
   "metadata": {},
   "source": [
    "### Construction of the augmented system data dictionary."
   ]
  },
  {
   "cell_type": "code",
   "execution_count": 4,
   "id": "8e1248a3-5053-4030-b165-c48863d8d2b9",
   "metadata": {},
   "outputs": [],
   "source": [
    "system_data = {\n",
    "    \"PARTS\" : {\n",
    "        '1' : {\n",
    "            \"a\" : {\n",
    "                \"FRAME\": RP1a,\n",
    "                \"POINTS\": {'A0' : P1A0, 'A1' : P1A1, 'A2' : P1A2},\n",
    "                \"TYPE\": \"plane\",\n",
    "                \"INTERACTIONS\": ['P2a'],\n",
    "                \"CONSTRAINTS_D\": [\"PERFECT\"], # In this modelization, only defects on the right side\n",
    "                \"CONSTRAINTS_G\": [\"FLOATING\"],            \n",
    "            },\n",
    "            \"b\" : {\n",
    "                \"FRAME\": RP1b,\n",
    "                \"POINTS\": {'B0' : P1B0, 'B1' : P1B1, 'B2' : P1B2},\n",
    "                \"TYPE\": \"plane\",\n",
    "                \"INTERACTIONS\": ['P2b'],\n",
    "                \"CONSTRAINTS_D\": [\"NONE\"],\n",
    "                \"CONSTRAINTS_G\": [\"FLOATING\"],            \n",
    "            },\n",
    "            \"c\" : {\n",
    "                \"FRAME\": RP1c,\n",
    "                \"POINTS\": {'C0' : P1C0, 'C1' : P1C1, 'C2' : P1C2},\n",
    "                \"TYPE\": \"plane\",\n",
    "                \"INTERACTIONS\": ['P2c'],\n",
    "                \"CONSTRAINTS_D\": [\"PERFECT\"],\n",
    "                \"CONSTRAINTS_G\": [\"SLIDING\"],            \n",
    "            },\n",
    "        },\n",
    "        '2' : {\n",
    "            \"a\" : {\n",
    "                \"FRAME\": RP2a,\n",
    "                \"POINTS\": {'A0' : P2A0, 'A1' : P2A1, 'A2' : P2A2},\n",
    "                \"TYPE\": \"plane\",\n",
    "                \"INTERACTIONS\": ['P1a'],\n",
    "                \"CONSTRAINTS_D\": [\"PERFECT\"], # In this modelization, only defects on the right side\n",
    "                \"CONSTRAINTS_G\": [\"FLOATING\"],            \n",
    "            },\n",
    "            \"b\" : {\n",
    "                \"FRAME\": RP2b,\n",
    "                \"POINTS\": {'B0' : P2B0, 'B1' : P2B1, 'B2' : P2B2},\n",
    "                \"TYPE\": \"plane\",\n",
    "                \"INTERACTIONS\": ['P1b'],\n",
    "                \"CONSTRAINTS_D\": [\"NONE\"],\n",
    "                \"CONSTRAINTS_G\": [\"FLOATING\"],            \n",
    "            },\n",
    "            \"c\" : {\n",
    "                \"FRAME\": RP2c,\n",
    "                \"POINTS\": {'C0' : P2C0, 'C1' : P2C1, 'C2' : P2C2},\n",
    "                \"TYPE\": \"plane\",\n",
    "                \"INTERACTIONS\": ['P1c'],\n",
    "                \"CONSTRAINTS_D\": [\"PERFECT\"],\n",
    "                \"CONSTRAINTS_G\": [\"SLIDING\"],            \n",
    "            },\n",
    "        }  \n",
    "    },\n",
    "    \"LOOPS\": {\n",
    "        \"COMPATIBILITY\": {\n",
    "            \"L0\": \"P1cC0 -> P2cC0 -> P2aA0 -> P1aA0\",\n",
    "            \"L1\": \"P1cC0 -> P2cC0 -> P2bB0 -> P1bB0\",\n",
    "        },\n",
    "    },\n",
    "    \"GLOBAL_CONSTRAINTS\": \"2D_NZ\",\n",
    "}"
   ]
  },
  {
   "cell_type": "code",
   "execution_count": 5,
   "id": "eda4b960-047d-47fa-a3ae-0a131bef54a3",
   "metadata": {},
   "outputs": [],
   "source": [
    "SDA = otaf.AssemblyDataProcessor(system_data)\n",
    "SDA.generate_expanded_loops()"
   ]
  },
  {
   "cell_type": "code",
   "execution_count": 6,
   "id": "57d0b7ba-4d97-410f-8ebc-84eacfc537b7",
   "metadata": {},
   "outputs": [],
   "source": [
    "CLH = otaf.CompatibilityLoopHandling(SDA)\n",
    "compatibility_expressions = CLH.get_compatibility_expression_from_FO_matrices()"
   ]
  },
  {
   "cell_type": "code",
   "execution_count": 7,
   "id": "5b3e9b9d-0911-47ac-b5d2-156b71cd9de6",
   "metadata": {},
   "outputs": [],
   "source": [
    "ILH = otaf.InterfaceLoopHandling(SDA, CLH, circle_resolution=20)\n",
    "interface_constraints = ILH.get_interface_loop_expressions()"
   ]
  },
  {
   "cell_type": "code",
   "execution_count": 8,
   "id": "355ab7b1-7614-43b7-b413-d0f60c7eec6e",
   "metadata": {},
   "outputs": [
    {
     "name": "stdout",
     "output_type": "stream",
     "text": [
      "4 [u_d_4, gamma_d_4, u_d_5, gamma_d_5]\n"
     ]
    }
   ],
   "source": [
    "SOCAM = otaf.SystemOfConstraintsAssemblyModel(\n",
    "    compatibility_expressions, interface_constraints\n",
    ")\n",
    "\n",
    "SOCAM.embedOptimizationVariable()\n",
    "\n",
    "print(len(SOCAM.deviation_symbols), SOCAM.deviation_symbols)"
   ]
  },
  {
   "cell_type": "markdown",
   "id": "ba18adf2-2501-4ab0-a3d4-d02d6ff30ed5",
   "metadata": {},
   "source": [
    "## Construction of the stochastic model of the defects. (old lambda approach)"
   ]
  },
  {
   "cell_type": "code",
   "execution_count": 9,
   "id": "296e3160-d1fe-4f84-ab1b-804aac69c5bb",
   "metadata": {},
   "outputs": [],
   "source": [
    "Cm = 1.0\n",
    "sigma_e_pos = t / (6 * Cm)\n",
    "\n",
    "# Le défaut en orientation est piloté par une incertitude sur un angle. On suppose les angles petits << 1 rad\n",
    "theta_max = t / X3\n",
    "sigma_e_theta = (2*theta_max) / (6*Cm) "
   ]
  },
  {
   "cell_type": "code",
   "execution_count": 10,
   "id": "f9ba9590-7460-496d-8c15-f1979d39e388",
   "metadata": {},
   "outputs": [],
   "source": [
    "RandDeviationVect = otaf.distribution.get_composed_normal_defect_distribution(\n",
    "    defect_names=SOCAM.deviation_symbols,\n",
    "    sigma_dict = {\"alpha\":sigma_e_theta, \n",
    "                  \"beta\":sigma_e_theta,\n",
    "                  \"gamma\":sigma_e_theta, \n",
    "                  \"u\":sigma_e_pos, \n",
    "                  \"v\":sigma_e_pos, \n",
    "                  \"w\":sigma_e_pos})\n",
    "NDim_Defects = int(RandDeviationVect.getDimension())"
   ]
  },
  {
   "cell_type": "markdown",
   "id": "6aa6e791-e715-454a-b51b-27cf1704b1e0",
   "metadata": {},
   "source": [
    "## Construction of a neural network based surrogate \n",
    "(could be omitted but makes things faster)"
   ]
  },
  {
   "cell_type": "markdown",
   "id": "1846e592-66b5-4f84-8220-e6b6818dd844",
   "metadata": {},
   "source": [
    "#### First generate the training sample :"
   ]
  },
  {
   "cell_type": "code",
   "execution_count": 11,
   "id": "661bb8f1-85e1-4386-8e2a-a95e5645a2ac",
   "metadata": {},
   "outputs": [
    {
     "data": {
      "application/vnd.jupyter.widget-view+json": {
       "model_id": "b1f25cfe581c4c5c9dcbe8a3e907fa12",
       "version_major": 2,
       "version_minor": 0
      },
      "text/plain": [
       "  0%|          | 0/100000 [00:00<?, ?it/s]"
      ]
     },
     "metadata": {},
     "output_type": "display_data"
    },
    {
     "name": "stdout",
     "output_type": "stream",
     "text": [
      "Ratio of failed simulations in sample : 0.08898\n"
     ]
    }
   ],
   "source": [
    "# Define the seed, sample size, and file paths\n",
    "SEED = 420  # Example seed value\n",
    "sample_size = 100000\n",
    "\n",
    "# Ensure reproducibility by setting the seed\n",
    "np.random.seed(SEED)\n",
    "\n",
    "# Generate the sample\n",
    "dist = otaf.distribution.multiply_composed_distribution_with_constant(\n",
    "    RandDeviationVect, 1.25) # We now work with low failure probabilities so we increase the dispresion to have more failed parts for the training\n",
    "#TRAIN_SAMPLE = np.array(otaf.uncertainty.generateLHSExperiment(dist, sample_size))\n",
    "TRAIN_SAMPLE = np.array(dist.getSample(sample_size),dtype=\"float32\")\n",
    "# Compute the results\n",
    "TRAIN_RESULTS = otaf.uncertainty.compute_gap_optimizations_on_sample_batch(\n",
    "    SOCAM,\n",
    "    TRAIN_SAMPLE,\n",
    "    bounds=None,\n",
    "    n_cpu=-2,\n",
    "    progress_bar=True,\n",
    "    batch_size=500,\n",
    "    dtype=\"float32\"\n",
    ")\n",
    "\n",
    "# Assign X and y from TRAIN_SAMPLE and TRAIN_RESULTS\n",
    "Xtrain = TRAIN_SAMPLE\n",
    "ytrain = TRAIN_RESULTS\n",
    "print(f\"Ratio of failed simulations in sample : {np.where(ytrain[:,-1]<0,1,0).sum()/sample_size}\")"
   ]
  },
  {
   "cell_type": "markdown",
   "id": "82716e8f-1d74-4ace-ab6c-7baded11854b",
   "metadata": {},
   "source": [
    "#### Then train the NN model."
   ]
  },
  {
   "cell_type": "code",
   "execution_count": 12,
   "id": "b954e704-8bfd-4f23-96ba-44692ecac705",
   "metadata": {
    "scrolled": true
   },
   "outputs": [
    {
     "name": "stdout",
     "output_type": "stream",
     "text": [
      "[4, 22, 12, 5, 1]\n"
     ]
    },
    {
     "data": {
      "application/vnd.jupyter.widget-view+json": {
       "model_id": "7ce1e95475ab4fb6ab9fe8c505fae2db",
       "version_major": 2,
       "version_minor": 0
      },
      "text/plain": [
       "  0%|          | 0/2 [00:00<?, ?batch/s]"
      ]
     },
     "metadata": {},
     "output_type": "display_data"
    },
    {
     "name": "stdout",
     "output_type": "stream",
     "text": [
      "Epoch 001, Val Loss: 0.899182, Val R2: -197.021622\n"
     ]
    },
    {
     "data": {
      "application/vnd.jupyter.widget-view+json": {
       "model_id": "142e3206329246fab3e152380cf3ed25",
       "version_major": 2,
       "version_minor": 0
      },
      "text/plain": [
       "  0%|          | 0/2 [00:00<?, ?batch/s]"
      ]
     },
     "metadata": {},
     "output_type": "display_data"
    },
    {
     "name": "stdout",
     "output_type": "stream",
     "text": [
      "Epoch 002, Val Loss: 0.741777, Val R2: -25.099323\n"
     ]
    },
    {
     "data": {
      "application/vnd.jupyter.widget-view+json": {
       "model_id": "eb90fc8997a9448cbfb2aff80842b162",
       "version_major": 2,
       "version_minor": 0
      },
      "text/plain": [
       "  0%|          | 0/2 [00:00<?, ?batch/s]"
      ]
     },
     "metadata": {},
     "output_type": "display_data"
    },
    {
     "name": "stdout",
     "output_type": "stream",
     "text": [
      "Epoch 003, Val Loss: 0.535739, Val R2: -4.048430\n"
     ]
    },
    {
     "data": {
      "application/vnd.jupyter.widget-view+json": {
       "model_id": "c3801e8ab1a14f09a86dd345374b9d09",
       "version_major": 2,
       "version_minor": 0
      },
      "text/plain": [
       "  0%|          | 0/2 [00:00<?, ?batch/s]"
      ]
     },
     "metadata": {},
     "output_type": "display_data"
    },
    {
     "name": "stdout",
     "output_type": "stream",
     "text": [
      "Epoch 004, Val Loss: 0.313879, Val R2: 0.010610\n"
     ]
    },
    {
     "data": {
      "application/vnd.jupyter.widget-view+json": {
       "model_id": "c03572a2d3e74cf4b77b554b6fc9debc",
       "version_major": 2,
       "version_minor": 0
      },
      "text/plain": [
       "  0%|          | 0/2 [00:00<?, ?batch/s]"
      ]
     },
     "metadata": {},
     "output_type": "display_data"
    },
    {
     "name": "stdout",
     "output_type": "stream",
     "text": [
      "Epoch 005, Val Loss: 0.182804, Val R2: 0.769803\n"
     ]
    },
    {
     "data": {
      "application/vnd.jupyter.widget-view+json": {
       "model_id": "eab2d51ae5aa4ce08296a4d95b286f52",
       "version_major": 2,
       "version_minor": 0
      },
      "text/plain": [
       "  0%|          | 0/2 [00:00<?, ?batch/s]"
      ]
     },
     "metadata": {},
     "output_type": "display_data"
    },
    {
     "name": "stdout",
     "output_type": "stream",
     "text": [
      "Epoch 006, Val Loss: 0.221701, Val R2: 0.842461\n"
     ]
    },
    {
     "data": {
      "application/vnd.jupyter.widget-view+json": {
       "model_id": "a9472356f6f74f3395b1e08cb28f5fb1",
       "version_major": 2,
       "version_minor": 0
      },
      "text/plain": [
       "  0%|          | 0/2 [00:00<?, ?batch/s]"
      ]
     },
     "metadata": {},
     "output_type": "display_data"
    },
    {
     "name": "stdout",
     "output_type": "stream",
     "text": [
      "Epoch 007, Val Loss: 0.203482, Val R2: 0.863530\n"
     ]
    },
    {
     "data": {
      "application/vnd.jupyter.widget-view+json": {
       "model_id": "b8fcca307489460eb933ff59ef15fc73",
       "version_major": 2,
       "version_minor": 0
      },
      "text/plain": [
       "  0%|          | 0/2 [00:00<?, ?batch/s]"
      ]
     },
     "metadata": {},
     "output_type": "display_data"
    },
    {
     "name": "stdout",
     "output_type": "stream",
     "text": [
      "Epoch 008, Val Loss: 0.111048, Val R2: 0.906003\n"
     ]
    },
    {
     "data": {
      "application/vnd.jupyter.widget-view+json": {
       "model_id": "5068099af1474c0eb2c5b6c8972e233e",
       "version_major": 2,
       "version_minor": 0
      },
      "text/plain": [
       "  0%|          | 0/2 [00:00<?, ?batch/s]"
      ]
     },
     "metadata": {},
     "output_type": "display_data"
    },
    {
     "name": "stdout",
     "output_type": "stream",
     "text": [
      "Epoch 009, Val Loss: 0.066934, Val R2: 0.922886\n"
     ]
    },
    {
     "data": {
      "application/vnd.jupyter.widget-view+json": {
       "model_id": "b71fb02d91754950bed8f4aa4ffee249",
       "version_major": 2,
       "version_minor": 0
      },
      "text/plain": [
       "  0%|          | 0/2 [00:00<?, ?batch/s]"
      ]
     },
     "metadata": {},
     "output_type": "display_data"
    },
    {
     "name": "stdout",
     "output_type": "stream",
     "text": [
      "Epoch 010, Val Loss: 0.066434, Val R2: 0.903425\n"
     ]
    },
    {
     "data": {
      "application/vnd.jupyter.widget-view+json": {
       "model_id": "6caee6a0d4144dc1a05bc6f435e610ad",
       "version_major": 2,
       "version_minor": 0
      },
      "text/plain": [
       "  0%|          | 0/2 [00:00<?, ?batch/s]"
      ]
     },
     "metadata": {},
     "output_type": "display_data"
    },
    {
     "name": "stdout",
     "output_type": "stream",
     "text": [
      "Epoch 011, Val Loss: 0.066538, Val R2: 0.895341\n"
     ]
    },
    {
     "data": {
      "application/vnd.jupyter.widget-view+json": {
       "model_id": "763e55732f784734a836355286b71165",
       "version_major": 2,
       "version_minor": 0
      },
      "text/plain": [
       "  0%|          | 0/2 [00:00<?, ?batch/s]"
      ]
     },
     "metadata": {},
     "output_type": "display_data"
    },
    {
     "name": "stdout",
     "output_type": "stream",
     "text": [
      "Epoch 012, Val Loss: 0.053608, Val R2: 0.921545\n"
     ]
    },
    {
     "data": {
      "application/vnd.jupyter.widget-view+json": {
       "model_id": "3dbc8fa555224821a64ec8d571f95256",
       "version_major": 2,
       "version_minor": 0
      },
      "text/plain": [
       "  0%|          | 0/2 [00:00<?, ?batch/s]"
      ]
     },
     "metadata": {},
     "output_type": "display_data"
    },
    {
     "name": "stdout",
     "output_type": "stream",
     "text": [
      "Epoch 013, Val Loss: 0.036841, Val R2: 0.954558\n"
     ]
    },
    {
     "data": {
      "application/vnd.jupyter.widget-view+json": {
       "model_id": "f6adea17547c45c19a136e7f67a288ea",
       "version_major": 2,
       "version_minor": 0
      },
      "text/plain": [
       "  0%|          | 0/2 [00:00<?, ?batch/s]"
      ]
     },
     "metadata": {},
     "output_type": "display_data"
    },
    {
     "name": "stdout",
     "output_type": "stream",
     "text": [
      "Epoch 014, Val Loss: 0.029307, Val R2: 0.970374\n"
     ]
    },
    {
     "data": {
      "application/vnd.jupyter.widget-view+json": {
       "model_id": "463e0a8536754fb4ac396a7c06e731f3",
       "version_major": 2,
       "version_minor": 0
      },
      "text/plain": [
       "  0%|          | 0/2 [00:00<?, ?batch/s]"
      ]
     },
     "metadata": {},
     "output_type": "display_data"
    },
    {
     "name": "stdout",
     "output_type": "stream",
     "text": [
      "Epoch 015, Val Loss: 0.034220, Val R2: 0.970460\n"
     ]
    },
    {
     "data": {
      "application/vnd.jupyter.widget-view+json": {
       "model_id": "d2ad15b8c7c4402b82440a79f121bdee",
       "version_major": 2,
       "version_minor": 0
      },
      "text/plain": [
       "  0%|          | 0/2 [00:00<?, ?batch/s]"
      ]
     },
     "metadata": {},
     "output_type": "display_data"
    },
    {
     "name": "stdout",
     "output_type": "stream",
     "text": [
      "Epoch 016, Val Loss: 0.040020, Val R2: 0.967688\n"
     ]
    },
    {
     "data": {
      "application/vnd.jupyter.widget-view+json": {
       "model_id": "af94021c3cd8476295f5fcea3d2cae59",
       "version_major": 2,
       "version_minor": 0
      },
      "text/plain": [
       "  0%|          | 0/2 [00:00<?, ?batch/s]"
      ]
     },
     "metadata": {},
     "output_type": "display_data"
    },
    {
     "name": "stdout",
     "output_type": "stream",
     "text": [
      "Epoch 017, Val Loss: 0.034963, Val R2: 0.970769\n"
     ]
    },
    {
     "data": {
      "application/vnd.jupyter.widget-view+json": {
       "model_id": "661ae60fb21d4ca3ab9d1e1faef1d7bc",
       "version_major": 2,
       "version_minor": 0
      },
      "text/plain": [
       "  0%|          | 0/2 [00:00<?, ?batch/s]"
      ]
     },
     "metadata": {},
     "output_type": "display_data"
    },
    {
     "name": "stdout",
     "output_type": "stream",
     "text": [
      "Epoch 018, Val Loss: 0.025372, Val R2: 0.976496\n"
     ]
    },
    {
     "data": {
      "application/vnd.jupyter.widget-view+json": {
       "model_id": "5ec5878f00ba4296a7d024bdbcc36d38",
       "version_major": 2,
       "version_minor": 0
      },
      "text/plain": [
       "  0%|          | 0/2 [00:00<?, ?batch/s]"
      ]
     },
     "metadata": {},
     "output_type": "display_data"
    },
    {
     "name": "stdout",
     "output_type": "stream",
     "text": [
      "Epoch 019, Val Loss: 0.021171, Val R2: 0.977981\n"
     ]
    },
    {
     "data": {
      "application/vnd.jupyter.widget-view+json": {
       "model_id": "78d987951ef84fdf8a9db1372c34c0ae",
       "version_major": 2,
       "version_minor": 0
      },
      "text/plain": [
       "  0%|          | 0/2 [00:00<?, ?batch/s]"
      ]
     },
     "metadata": {},
     "output_type": "display_data"
    },
    {
     "name": "stdout",
     "output_type": "stream",
     "text": [
      "Epoch 020, Val Loss: 0.021835, Val R2: 0.975349\n"
     ]
    },
    {
     "data": {
      "application/vnd.jupyter.widget-view+json": {
       "model_id": "733d6da4942349be978f51cf16989c00",
       "version_major": 2,
       "version_minor": 0
      },
      "text/plain": [
       "  0%|          | 0/2 [00:00<?, ?batch/s]"
      ]
     },
     "metadata": {},
     "output_type": "display_data"
    },
    {
     "name": "stdout",
     "output_type": "stream",
     "text": [
      "Epoch 021, Val Loss: 0.022231, Val R2: 0.974263\n"
     ]
    },
    {
     "data": {
      "application/vnd.jupyter.widget-view+json": {
       "model_id": "4f49b707ab2244b0b25bd6dbe1fd8c18",
       "version_major": 2,
       "version_minor": 0
      },
      "text/plain": [
       "  0%|          | 0/2 [00:00<?, ?batch/s]"
      ]
     },
     "metadata": {},
     "output_type": "display_data"
    },
    {
     "name": "stdout",
     "output_type": "stream",
     "text": [
      "Epoch 022, Val Loss: 0.020218, Val R2: 0.977266\n"
     ]
    },
    {
     "data": {
      "application/vnd.jupyter.widget-view+json": {
       "model_id": "2c409052444b41b991c6be99de8f10c2",
       "version_major": 2,
       "version_minor": 0
      },
      "text/plain": [
       "  0%|          | 0/2 [00:00<?, ?batch/s]"
      ]
     },
     "metadata": {},
     "output_type": "display_data"
    },
    {
     "name": "stdout",
     "output_type": "stream",
     "text": [
      "Epoch 023, Val Loss: 0.017530, Val R2: 0.981476\n"
     ]
    },
    {
     "data": {
      "application/vnd.jupyter.widget-view+json": {
       "model_id": "42c87ccce9ea4975b7a25480f716d61c",
       "version_major": 2,
       "version_minor": 0
      },
      "text/plain": [
       "  0%|          | 0/2 [00:00<?, ?batch/s]"
      ]
     },
     "metadata": {},
     "output_type": "display_data"
    },
    {
     "name": "stdout",
     "output_type": "stream",
     "text": [
      "Epoch 024, Val Loss: 0.016552, Val R2: 0.983617\n"
     ]
    },
    {
     "data": {
      "application/vnd.jupyter.widget-view+json": {
       "model_id": "0373f58939604b13923bc5b83eb3084f",
       "version_major": 2,
       "version_minor": 0
      },
      "text/plain": [
       "  0%|          | 0/2 [00:00<?, ?batch/s]"
      ]
     },
     "metadata": {},
     "output_type": "display_data"
    },
    {
     "name": "stdout",
     "output_type": "stream",
     "text": [
      "Epoch 025, Val Loss: 0.017065, Val R2: 0.983801\n"
     ]
    },
    {
     "data": {
      "application/vnd.jupyter.widget-view+json": {
       "model_id": "c5c586db9b914c00b8f8dbd19bb54113",
       "version_major": 2,
       "version_minor": 0
      },
      "text/plain": [
       "  0%|          | 0/2 [00:00<?, ?batch/s]"
      ]
     },
     "metadata": {},
     "output_type": "display_data"
    },
    {
     "name": "stdout",
     "output_type": "stream",
     "text": [
      "Epoch 026, Val Loss: 0.016809, Val R2: 0.984112\n"
     ]
    },
    {
     "data": {
      "application/vnd.jupyter.widget-view+json": {
       "model_id": "a114322b7ce54ad09ff0769c3f130b15",
       "version_major": 2,
       "version_minor": 0
      },
      "text/plain": [
       "  0%|          | 0/2 [00:00<?, ?batch/s]"
      ]
     },
     "metadata": {},
     "output_type": "display_data"
    },
    {
     "name": "stdout",
     "output_type": "stream",
     "text": [
      "Epoch 027, Val Loss: 0.015163, Val R2: 0.985254\n"
     ]
    },
    {
     "data": {
      "application/vnd.jupyter.widget-view+json": {
       "model_id": "5b448399343b4644a03e73c083c6423a",
       "version_major": 2,
       "version_minor": 0
      },
      "text/plain": [
       "  0%|          | 0/2 [00:00<?, ?batch/s]"
      ]
     },
     "metadata": {},
     "output_type": "display_data"
    },
    {
     "name": "stdout",
     "output_type": "stream",
     "text": [
      "Epoch 028, Val Loss: 0.013716, Val R2: 0.986091\n"
     ]
    },
    {
     "data": {
      "application/vnd.jupyter.widget-view+json": {
       "model_id": "26fa377a417e431ba3db0b3f879ff47c",
       "version_major": 2,
       "version_minor": 0
      },
      "text/plain": [
       "  0%|          | 0/2 [00:00<?, ?batch/s]"
      ]
     },
     "metadata": {},
     "output_type": "display_data"
    },
    {
     "name": "stdout",
     "output_type": "stream",
     "text": [
      "Epoch 029, Val Loss: 0.013291, Val R2: 0.986068\n"
     ]
    },
    {
     "data": {
      "application/vnd.jupyter.widget-view+json": {
       "model_id": "a6040ffc09db403f995face351ea2c9c",
       "version_major": 2,
       "version_minor": 0
      },
      "text/plain": [
       "  0%|          | 0/2 [00:00<?, ?batch/s]"
      ]
     },
     "metadata": {},
     "output_type": "display_data"
    },
    {
     "name": "stdout",
     "output_type": "stream",
     "text": [
      "Epoch 030, Val Loss: 0.013074, Val R2: 0.986152\n"
     ]
    },
    {
     "data": {
      "application/vnd.jupyter.widget-view+json": {
       "model_id": "c4fe48f04c30423d977996eb86834e50",
       "version_major": 2,
       "version_minor": 0
      },
      "text/plain": [
       "  0%|          | 0/2 [00:00<?, ?batch/s]"
      ]
     },
     "metadata": {},
     "output_type": "display_data"
    },
    {
     "name": "stdout",
     "output_type": "stream",
     "text": [
      "Epoch 031, Val Loss: 0.012325, Val R2: 0.987117\n"
     ]
    },
    {
     "data": {
      "application/vnd.jupyter.widget-view+json": {
       "model_id": "70975e2bd82d47f89c23bddd79387c2b",
       "version_major": 2,
       "version_minor": 0
      },
      "text/plain": [
       "  0%|          | 0/2 [00:00<?, ?batch/s]"
      ]
     },
     "metadata": {},
     "output_type": "display_data"
    },
    {
     "name": "stdout",
     "output_type": "stream",
     "text": [
      "Epoch 032, Val Loss: 0.011396, Val R2: 0.988413\n"
     ]
    },
    {
     "data": {
      "application/vnd.jupyter.widget-view+json": {
       "model_id": "318fe3494c8d435ebcb0a338d506b425",
       "version_major": 2,
       "version_minor": 0
      },
      "text/plain": [
       "  0%|          | 0/2 [00:00<?, ?batch/s]"
      ]
     },
     "metadata": {},
     "output_type": "display_data"
    },
    {
     "name": "stdout",
     "output_type": "stream",
     "text": [
      "Epoch 033, Val Loss: 0.010913, Val R2: 0.989207\n"
     ]
    },
    {
     "data": {
      "application/vnd.jupyter.widget-view+json": {
       "model_id": "78b6bceac4744096ac570a02001d4a32",
       "version_major": 2,
       "version_minor": 0
      },
      "text/plain": [
       "  0%|          | 0/2 [00:00<?, ?batch/s]"
      ]
     },
     "metadata": {},
     "output_type": "display_data"
    },
    {
     "name": "stdout",
     "output_type": "stream",
     "text": [
      "Epoch 034, Val Loss: 0.010707, Val R2: 0.989568\n"
     ]
    },
    {
     "data": {
      "application/vnd.jupyter.widget-view+json": {
       "model_id": "c66c823b5beb475ab52ed1ae2483b1d2",
       "version_major": 2,
       "version_minor": 0
      },
      "text/plain": [
       "  0%|          | 0/2 [00:00<?, ?batch/s]"
      ]
     },
     "metadata": {},
     "output_type": "display_data"
    },
    {
     "name": "stdout",
     "output_type": "stream",
     "text": [
      "Epoch 035, Val Loss: 0.010239, Val R2: 0.989992\n"
     ]
    },
    {
     "data": {
      "application/vnd.jupyter.widget-view+json": {
       "model_id": "497b92348e3b45cebc19d494e3e278be",
       "version_major": 2,
       "version_minor": 0
      },
      "text/plain": [
       "  0%|          | 0/2 [00:00<?, ?batch/s]"
      ]
     },
     "metadata": {},
     "output_type": "display_data"
    },
    {
     "name": "stdout",
     "output_type": "stream",
     "text": [
      "Epoch 036, Val Loss: 0.009587, Val R2: 0.990472\n"
     ]
    },
    {
     "data": {
      "application/vnd.jupyter.widget-view+json": {
       "model_id": "34461919782447f69d94fb6408f66a62",
       "version_major": 2,
       "version_minor": 0
      },
      "text/plain": [
       "  0%|          | 0/2 [00:00<?, ?batch/s]"
      ]
     },
     "metadata": {},
     "output_type": "display_data"
    },
    {
     "name": "stdout",
     "output_type": "stream",
     "text": [
      "Epoch 037, Val Loss: 0.009149, Val R2: 0.990735\n"
     ]
    },
    {
     "data": {
      "application/vnd.jupyter.widget-view+json": {
       "model_id": "86a7b70c47da4947ae923fc21c82b63f",
       "version_major": 2,
       "version_minor": 0
      },
      "text/plain": [
       "  0%|          | 0/2 [00:00<?, ?batch/s]"
      ]
     },
     "metadata": {},
     "output_type": "display_data"
    },
    {
     "name": "stdout",
     "output_type": "stream",
     "text": [
      "Epoch 038, Val Loss: 0.008862, Val R2: 0.990929\n"
     ]
    },
    {
     "data": {
      "application/vnd.jupyter.widget-view+json": {
       "model_id": "f7269dc0a60c4704ac6324a449015c79",
       "version_major": 2,
       "version_minor": 0
      },
      "text/plain": [
       "  0%|          | 0/2 [00:00<?, ?batch/s]"
      ]
     },
     "metadata": {},
     "output_type": "display_data"
    },
    {
     "name": "stdout",
     "output_type": "stream",
     "text": [
      "Epoch 039, Val Loss: 0.008452, Val R2: 0.991366\n"
     ]
    },
    {
     "data": {
      "application/vnd.jupyter.widget-view+json": {
       "model_id": "f40a5467dd0749728845d01eb4b3d313",
       "version_major": 2,
       "version_minor": 0
      },
      "text/plain": [
       "  0%|          | 0/2 [00:00<?, ?batch/s]"
      ]
     },
     "metadata": {},
     "output_type": "display_data"
    },
    {
     "name": "stdout",
     "output_type": "stream",
     "text": [
      "Epoch 040, Val Loss: 0.007968, Val R2: 0.991953\n"
     ]
    },
    {
     "data": {
      "application/vnd.jupyter.widget-view+json": {
       "model_id": "2f8a6fe70b8842c293ec2355a5ec7ecb",
       "version_major": 2,
       "version_minor": 0
      },
      "text/plain": [
       "  0%|          | 0/2 [00:00<?, ?batch/s]"
      ]
     },
     "metadata": {},
     "output_type": "display_data"
    },
    {
     "name": "stdout",
     "output_type": "stream",
     "text": [
      "Epoch 041, Val Loss: 0.007606, Val R2: 0.992421\n"
     ]
    },
    {
     "data": {
      "application/vnd.jupyter.widget-view+json": {
       "model_id": "ad210e8ca88b40838f83edadc3c8ee75",
       "version_major": 2,
       "version_minor": 0
      },
      "text/plain": [
       "  0%|          | 0/2 [00:00<?, ?batch/s]"
      ]
     },
     "metadata": {},
     "output_type": "display_data"
    },
    {
     "name": "stdout",
     "output_type": "stream",
     "text": [
      "Epoch 042, Val Loss: 0.007313, Val R2: 0.992767\n"
     ]
    },
    {
     "data": {
      "application/vnd.jupyter.widget-view+json": {
       "model_id": "b5ad5d7fba354ad6996453fc0cdcc443",
       "version_major": 2,
       "version_minor": 0
      },
      "text/plain": [
       "  0%|          | 0/2 [00:00<?, ?batch/s]"
      ]
     },
     "metadata": {},
     "output_type": "display_data"
    },
    {
     "name": "stdout",
     "output_type": "stream",
     "text": [
      "Epoch 043, Val Loss: 0.006955, Val R2: 0.993112\n"
     ]
    },
    {
     "data": {
      "application/vnd.jupyter.widget-view+json": {
       "model_id": "c75aeed6e4aa4e2a95df46dc46728651",
       "version_major": 2,
       "version_minor": 0
      },
      "text/plain": [
       "  0%|          | 0/2 [00:00<?, ?batch/s]"
      ]
     },
     "metadata": {},
     "output_type": "display_data"
    },
    {
     "name": "stdout",
     "output_type": "stream",
     "text": [
      "Epoch 044, Val Loss: 0.006584, Val R2: 0.993428\n"
     ]
    },
    {
     "data": {
      "application/vnd.jupyter.widget-view+json": {
       "model_id": "991c2f55a07a42b28218e7f34c6ae306",
       "version_major": 2,
       "version_minor": 0
      },
      "text/plain": [
       "  0%|          | 0/2 [00:00<?, ?batch/s]"
      ]
     },
     "metadata": {},
     "output_type": "display_data"
    },
    {
     "name": "stdout",
     "output_type": "stream",
     "text": [
      "Epoch 045, Val Loss: 0.006274, Val R2: 0.993687\n"
     ]
    },
    {
     "data": {
      "application/vnd.jupyter.widget-view+json": {
       "model_id": "b355541415ef4a438dfc360ba7adb142",
       "version_major": 2,
       "version_minor": 0
      },
      "text/plain": [
       "  0%|          | 0/2 [00:00<?, ?batch/s]"
      ]
     },
     "metadata": {},
     "output_type": "display_data"
    },
    {
     "name": "stdout",
     "output_type": "stream",
     "text": [
      "Epoch 046, Val Loss: 0.005973, Val R2: 0.993972\n"
     ]
    },
    {
     "data": {
      "application/vnd.jupyter.widget-view+json": {
       "model_id": "a13a49820b8540c7afc471697675fb7f",
       "version_major": 2,
       "version_minor": 0
      },
      "text/plain": [
       "  0%|          | 0/2 [00:00<?, ?batch/s]"
      ]
     },
     "metadata": {},
     "output_type": "display_data"
    },
    {
     "name": "stdout",
     "output_type": "stream",
     "text": [
      "Epoch 047, Val Loss: 0.005650, Val R2: 0.994319\n"
     ]
    },
    {
     "data": {
      "application/vnd.jupyter.widget-view+json": {
       "model_id": "dc963304f89e4e1ca62ccca094e2fda3",
       "version_major": 2,
       "version_minor": 0
      },
      "text/plain": [
       "  0%|          | 0/2 [00:00<?, ?batch/s]"
      ]
     },
     "metadata": {},
     "output_type": "display_data"
    },
    {
     "name": "stdout",
     "output_type": "stream",
     "text": [
      "Epoch 048, Val Loss: 0.005351, Val R2: 0.994657\n"
     ]
    },
    {
     "data": {
      "application/vnd.jupyter.widget-view+json": {
       "model_id": "827b4ab4a1d94295a034077237519018",
       "version_major": 2,
       "version_minor": 0
      },
      "text/plain": [
       "  0%|          | 0/2 [00:00<?, ?batch/s]"
      ]
     },
     "metadata": {},
     "output_type": "display_data"
    },
    {
     "name": "stdout",
     "output_type": "stream",
     "text": [
      "Epoch 049, Val Loss: 0.005093, Val R2: 0.994944\n"
     ]
    },
    {
     "data": {
      "application/vnd.jupyter.widget-view+json": {
       "model_id": "de2ce7b244a24d1d80969c755eb1b056",
       "version_major": 2,
       "version_minor": 0
      },
      "text/plain": [
       "  0%|          | 0/2 [00:00<?, ?batch/s]"
      ]
     },
     "metadata": {},
     "output_type": "display_data"
    },
    {
     "name": "stdout",
     "output_type": "stream",
     "text": [
      "Epoch 050, Val Loss: 0.004841, Val R2: 0.995200\n"
     ]
    },
    {
     "data": {
      "application/vnd.jupyter.widget-view+json": {
       "model_id": "6c8db501f17f4183ae2275c2ffe3d9cb",
       "version_major": 2,
       "version_minor": 0
      },
      "text/plain": [
       "  0%|          | 0/2 [00:00<?, ?batch/s]"
      ]
     },
     "metadata": {},
     "output_type": "display_data"
    },
    {
     "name": "stdout",
     "output_type": "stream",
     "text": [
      "Epoch 051, Val Loss: 0.004591, Val R2: 0.995432\n"
     ]
    },
    {
     "data": {
      "application/vnd.jupyter.widget-view+json": {
       "model_id": "346997395e144e00b7b3bdeb92cc9611",
       "version_major": 2,
       "version_minor": 0
      },
      "text/plain": [
       "  0%|          | 0/2 [00:00<?, ?batch/s]"
      ]
     },
     "metadata": {},
     "output_type": "display_data"
    },
    {
     "name": "stdout",
     "output_type": "stream",
     "text": [
      "Epoch 052, Val Loss: 0.004366, Val R2: 0.995635\n"
     ]
    },
    {
     "data": {
      "application/vnd.jupyter.widget-view+json": {
       "model_id": "9b0d20d3087e4b5387c911e4ff06f787",
       "version_major": 2,
       "version_minor": 0
      },
      "text/plain": [
       "  0%|          | 0/2 [00:00<?, ?batch/s]"
      ]
     },
     "metadata": {},
     "output_type": "display_data"
    },
    {
     "name": "stdout",
     "output_type": "stream",
     "text": [
      "Epoch 053, Val Loss: 0.004160, Val R2: 0.995830\n"
     ]
    },
    {
     "data": {
      "application/vnd.jupyter.widget-view+json": {
       "model_id": "575d110bdd514dfc9bafba43c474c261",
       "version_major": 2,
       "version_minor": 0
      },
      "text/plain": [
       "  0%|          | 0/2 [00:00<?, ?batch/s]"
      ]
     },
     "metadata": {},
     "output_type": "display_data"
    },
    {
     "name": "stdout",
     "output_type": "stream",
     "text": [
      "Epoch 054, Val Loss: 0.003962, Val R2: 0.996034\n"
     ]
    },
    {
     "data": {
      "application/vnd.jupyter.widget-view+json": {
       "model_id": "95ee11dc2412475387ac1c8bb4472b9c",
       "version_major": 2,
       "version_minor": 0
      },
      "text/plain": [
       "  0%|          | 0/2 [00:00<?, ?batch/s]"
      ]
     },
     "metadata": {},
     "output_type": "display_data"
    },
    {
     "name": "stdout",
     "output_type": "stream",
     "text": [
      "Epoch 055, Val Loss: 0.003780, Val R2: 0.996230\n"
     ]
    },
    {
     "data": {
      "application/vnd.jupyter.widget-view+json": {
       "model_id": "9fbac6f2d443438784e3f50a56e4fa4f",
       "version_major": 2,
       "version_minor": 0
      },
      "text/plain": [
       "  0%|          | 0/2 [00:00<?, ?batch/s]"
      ]
     },
     "metadata": {},
     "output_type": "display_data"
    },
    {
     "name": "stdout",
     "output_type": "stream",
     "text": [
      "Epoch 056, Val Loss: 0.003620, Val R2: 0.996401\n"
     ]
    },
    {
     "data": {
      "application/vnd.jupyter.widget-view+json": {
       "model_id": "6e00d5d9cc674b0a93f1f545764dd397",
       "version_major": 2,
       "version_minor": 0
      },
      "text/plain": [
       "  0%|          | 0/2 [00:00<?, ?batch/s]"
      ]
     },
     "metadata": {},
     "output_type": "display_data"
    },
    {
     "name": "stdout",
     "output_type": "stream",
     "text": [
      "Epoch 057, Val Loss: 0.003470, Val R2: 0.996551\n"
     ]
    },
    {
     "data": {
      "application/vnd.jupyter.widget-view+json": {
       "model_id": "8473d62c7cf04607919e20165e2a0537",
       "version_major": 2,
       "version_minor": 0
      },
      "text/plain": [
       "  0%|          | 0/2 [00:00<?, ?batch/s]"
      ]
     },
     "metadata": {},
     "output_type": "display_data"
    },
    {
     "name": "stdout",
     "output_type": "stream",
     "text": [
      "Epoch 058, Val Loss: 0.003329, Val R2: 0.996684\n"
     ]
    },
    {
     "data": {
      "application/vnd.jupyter.widget-view+json": {
       "model_id": "84d56f077c504c0e999948a56c030318",
       "version_major": 2,
       "version_minor": 0
      },
      "text/plain": [
       "  0%|          | 0/2 [00:00<?, ?batch/s]"
      ]
     },
     "metadata": {},
     "output_type": "display_data"
    },
    {
     "name": "stdout",
     "output_type": "stream",
     "text": [
      "Epoch 059, Val Loss: 0.003203, Val R2: 0.996801\n"
     ]
    },
    {
     "data": {
      "application/vnd.jupyter.widget-view+json": {
       "model_id": "532fd61484884f2691bcbc96e862f437",
       "version_major": 2,
       "version_minor": 0
      },
      "text/plain": [
       "  0%|          | 0/2 [00:00<?, ?batch/s]"
      ]
     },
     "metadata": {},
     "output_type": "display_data"
    },
    {
     "name": "stdout",
     "output_type": "stream",
     "text": [
      "Epoch 060, Val Loss: 0.003087, Val R2: 0.996915\n"
     ]
    },
    {
     "data": {
      "application/vnd.jupyter.widget-view+json": {
       "model_id": "6318f770818242fc95f7dde3a6e46b43",
       "version_major": 2,
       "version_minor": 0
      },
      "text/plain": [
       "  0%|          | 0/2 [00:00<?, ?batch/s]"
      ]
     },
     "metadata": {},
     "output_type": "display_data"
    },
    {
     "name": "stdout",
     "output_type": "stream",
     "text": [
      "Epoch 061, Val Loss: 0.002978, Val R2: 0.997029\n"
     ]
    },
    {
     "data": {
      "application/vnd.jupyter.widget-view+json": {
       "model_id": "7d424ce2898d495ba1df6bd21bc64814",
       "version_major": 2,
       "version_minor": 0
      },
      "text/plain": [
       "  0%|          | 0/2 [00:00<?, ?batch/s]"
      ]
     },
     "metadata": {},
     "output_type": "display_data"
    },
    {
     "name": "stdout",
     "output_type": "stream",
     "text": [
      "Epoch 062, Val Loss: 0.002878, Val R2: 0.997135\n"
     ]
    },
    {
     "data": {
      "application/vnd.jupyter.widget-view+json": {
       "model_id": "d2f4069469e8426b97c9af4e34350b06",
       "version_major": 2,
       "version_minor": 0
      },
      "text/plain": [
       "  0%|          | 0/2 [00:00<?, ?batch/s]"
      ]
     },
     "metadata": {},
     "output_type": "display_data"
    },
    {
     "name": "stdout",
     "output_type": "stream",
     "text": [
      "Epoch 063, Val Loss: 0.002786, Val R2: 0.997229\n"
     ]
    },
    {
     "data": {
      "application/vnd.jupyter.widget-view+json": {
       "model_id": "9c78547a0d00435dab21066c58a77fa2",
       "version_major": 2,
       "version_minor": 0
      },
      "text/plain": [
       "  0%|          | 0/2 [00:00<?, ?batch/s]"
      ]
     },
     "metadata": {},
     "output_type": "display_data"
    },
    {
     "name": "stdout",
     "output_type": "stream",
     "text": [
      "Epoch 064, Val Loss: 0.002699, Val R2: 0.997314\n"
     ]
    },
    {
     "data": {
      "application/vnd.jupyter.widget-view+json": {
       "model_id": "73df397ee9c7469ea0569191fcf66113",
       "version_major": 2,
       "version_minor": 0
      },
      "text/plain": [
       "  0%|          | 0/2 [00:00<?, ?batch/s]"
      ]
     },
     "metadata": {},
     "output_type": "display_data"
    },
    {
     "name": "stdout",
     "output_type": "stream",
     "text": [
      "Epoch 065, Val Loss: 0.002617, Val R2: 0.997391\n"
     ]
    },
    {
     "data": {
      "application/vnd.jupyter.widget-view+json": {
       "model_id": "99c840ec17c342bd8d7beb907d9da522",
       "version_major": 2,
       "version_minor": 0
      },
      "text/plain": [
       "  0%|          | 0/2 [00:00<?, ?batch/s]"
      ]
     },
     "metadata": {},
     "output_type": "display_data"
    },
    {
     "name": "stdout",
     "output_type": "stream",
     "text": [
      "Epoch 066, Val Loss: 0.002540, Val R2: 0.997466\n"
     ]
    },
    {
     "data": {
      "application/vnd.jupyter.widget-view+json": {
       "model_id": "f087c0755f284480ae20dc0d96113c49",
       "version_major": 2,
       "version_minor": 0
      },
      "text/plain": [
       "  0%|          | 0/2 [00:00<?, ?batch/s]"
      ]
     },
     "metadata": {},
     "output_type": "display_data"
    },
    {
     "name": "stdout",
     "output_type": "stream",
     "text": [
      "Epoch 067, Val Loss: 0.002466, Val R2: 0.997542\n"
     ]
    },
    {
     "data": {
      "application/vnd.jupyter.widget-view+json": {
       "model_id": "37dbd7511dff4723851301c36e5383ed",
       "version_major": 2,
       "version_minor": 0
      },
      "text/plain": [
       "  0%|          | 0/2 [00:00<?, ?batch/s]"
      ]
     },
     "metadata": {},
     "output_type": "display_data"
    },
    {
     "name": "stdout",
     "output_type": "stream",
     "text": [
      "Epoch 068, Val Loss: 0.002395, Val R2: 0.997615\n"
     ]
    },
    {
     "data": {
      "application/vnd.jupyter.widget-view+json": {
       "model_id": "1915fe7ddf5149059984be7f6ba3e8be",
       "version_major": 2,
       "version_minor": 0
      },
      "text/plain": [
       "  0%|          | 0/2 [00:00<?, ?batch/s]"
      ]
     },
     "metadata": {},
     "output_type": "display_data"
    },
    {
     "name": "stdout",
     "output_type": "stream",
     "text": [
      "Epoch 069, Val Loss: 0.002327, Val R2: 0.997685\n"
     ]
    },
    {
     "data": {
      "application/vnd.jupyter.widget-view+json": {
       "model_id": "9aa1ec4e33ab4ab7822d8a85be9d977b",
       "version_major": 2,
       "version_minor": 0
      },
      "text/plain": [
       "  0%|          | 0/2 [00:00<?, ?batch/s]"
      ]
     },
     "metadata": {},
     "output_type": "display_data"
    },
    {
     "name": "stdout",
     "output_type": "stream",
     "text": [
      "Epoch 070, Val Loss: 0.002261, Val R2: 0.997750\n"
     ]
    },
    {
     "data": {
      "application/vnd.jupyter.widget-view+json": {
       "model_id": "c493ba5a4ab54692a9eadf7707fe354b",
       "version_major": 2,
       "version_minor": 0
      },
      "text/plain": [
       "  0%|          | 0/2 [00:00<?, ?batch/s]"
      ]
     },
     "metadata": {},
     "output_type": "display_data"
    },
    {
     "name": "stdout",
     "output_type": "stream",
     "text": [
      "Epoch 071, Val Loss: 0.002197, Val R2: 0.997812\n"
     ]
    },
    {
     "data": {
      "application/vnd.jupyter.widget-view+json": {
       "model_id": "83ec0d179a674b4eb48cc09a1525517b",
       "version_major": 2,
       "version_minor": 0
      },
      "text/plain": [
       "  0%|          | 0/2 [00:00<?, ?batch/s]"
      ]
     },
     "metadata": {},
     "output_type": "display_data"
    },
    {
     "name": "stdout",
     "output_type": "stream",
     "text": [
      "Epoch 072, Val Loss: 0.002135, Val R2: 0.997873\n"
     ]
    },
    {
     "data": {
      "application/vnd.jupyter.widget-view+json": {
       "model_id": "a45723dcc5c34d17aa35daa80f9e5937",
       "version_major": 2,
       "version_minor": 0
      },
      "text/plain": [
       "  0%|          | 0/2 [00:00<?, ?batch/s]"
      ]
     },
     "metadata": {},
     "output_type": "display_data"
    },
    {
     "name": "stdout",
     "output_type": "stream",
     "text": [
      "Epoch 073, Val Loss: 0.002074, Val R2: 0.997934\n"
     ]
    },
    {
     "data": {
      "application/vnd.jupyter.widget-view+json": {
       "model_id": "507d0227922d413895291f0191891225",
       "version_major": 2,
       "version_minor": 0
      },
      "text/plain": [
       "  0%|          | 0/2 [00:00<?, ?batch/s]"
      ]
     },
     "metadata": {},
     "output_type": "display_data"
    },
    {
     "name": "stdout",
     "output_type": "stream",
     "text": [
      "Epoch 074, Val Loss: 0.002014, Val R2: 0.997994\n"
     ]
    },
    {
     "data": {
      "application/vnd.jupyter.widget-view+json": {
       "model_id": "7488500fd98f4811bf283979df0ac86b",
       "version_major": 2,
       "version_minor": 0
      },
      "text/plain": [
       "  0%|          | 0/2 [00:00<?, ?batch/s]"
      ]
     },
     "metadata": {},
     "output_type": "display_data"
    },
    {
     "name": "stdout",
     "output_type": "stream",
     "text": [
      "Epoch 075, Val Loss: 0.001957, Val R2: 0.998053\n"
     ]
    },
    {
     "data": {
      "application/vnd.jupyter.widget-view+json": {
       "model_id": "441a649b220f45d5be50c836b40ca04a",
       "version_major": 2,
       "version_minor": 0
      },
      "text/plain": [
       "  0%|          | 0/2 [00:00<?, ?batch/s]"
      ]
     },
     "metadata": {},
     "output_type": "display_data"
    },
    {
     "name": "stdout",
     "output_type": "stream",
     "text": [
      "Epoch 076, Val Loss: 0.001900, Val R2: 0.998109\n"
     ]
    },
    {
     "data": {
      "application/vnd.jupyter.widget-view+json": {
       "model_id": "0b1cc999cceb497aacbf55adcd55f01c",
       "version_major": 2,
       "version_minor": 0
      },
      "text/plain": [
       "  0%|          | 0/2 [00:00<?, ?batch/s]"
      ]
     },
     "metadata": {},
     "output_type": "display_data"
    },
    {
     "name": "stdout",
     "output_type": "stream",
     "text": [
      "Epoch 077, Val Loss: 0.001845, Val R2: 0.998163\n"
     ]
    },
    {
     "data": {
      "application/vnd.jupyter.widget-view+json": {
       "model_id": "40a44f1d7e804e5da62e29a65cb1d86e",
       "version_major": 2,
       "version_minor": 0
      },
      "text/plain": [
       "  0%|          | 0/2 [00:00<?, ?batch/s]"
      ]
     },
     "metadata": {},
     "output_type": "display_data"
    },
    {
     "name": "stdout",
     "output_type": "stream",
     "text": [
      "Epoch 078, Val Loss: 0.001792, Val R2: 0.998215\n"
     ]
    },
    {
     "data": {
      "application/vnd.jupyter.widget-view+json": {
       "model_id": "e95f9a81cea44c1cafe12f85671ffdd6",
       "version_major": 2,
       "version_minor": 0
      },
      "text/plain": [
       "  0%|          | 0/2 [00:00<?, ?batch/s]"
      ]
     },
     "metadata": {},
     "output_type": "display_data"
    },
    {
     "name": "stdout",
     "output_type": "stream",
     "text": [
      "Epoch 079, Val Loss: 0.001740, Val R2: 0.998267\n"
     ]
    },
    {
     "data": {
      "application/vnd.jupyter.widget-view+json": {
       "model_id": "26d581464f3a42649c7ab9b33ba3e00e",
       "version_major": 2,
       "version_minor": 0
      },
      "text/plain": [
       "  0%|          | 0/2 [00:00<?, ?batch/s]"
      ]
     },
     "metadata": {},
     "output_type": "display_data"
    },
    {
     "name": "stdout",
     "output_type": "stream",
     "text": [
      "Epoch 080, Val Loss: 0.001689, Val R2: 0.998319\n"
     ]
    },
    {
     "data": {
      "application/vnd.jupyter.widget-view+json": {
       "model_id": "18d06b90f29848ac8bb3af07d9a32c46",
       "version_major": 2,
       "version_minor": 0
      },
      "text/plain": [
       "  0%|          | 0/2 [00:00<?, ?batch/s]"
      ]
     },
     "metadata": {},
     "output_type": "display_data"
    },
    {
     "name": "stdout",
     "output_type": "stream",
     "text": [
      "Epoch 081, Val Loss: 0.001640, Val R2: 0.998368\n"
     ]
    },
    {
     "data": {
      "application/vnd.jupyter.widget-view+json": {
       "model_id": "bbe33deb852b4cd7b2deeee70b3ccf70",
       "version_major": 2,
       "version_minor": 0
      },
      "text/plain": [
       "  0%|          | 0/2 [00:00<?, ?batch/s]"
      ]
     },
     "metadata": {},
     "output_type": "display_data"
    },
    {
     "name": "stdout",
     "output_type": "stream",
     "text": [
      "Epoch 082, Val Loss: 0.001592, Val R2: 0.998415\n"
     ]
    },
    {
     "data": {
      "application/vnd.jupyter.widget-view+json": {
       "model_id": "9aee2fe70c3f4bc1b065477b59bb57e2",
       "version_major": 2,
       "version_minor": 0
      },
      "text/plain": [
       "  0%|          | 0/2 [00:00<?, ?batch/s]"
      ]
     },
     "metadata": {},
     "output_type": "display_data"
    },
    {
     "name": "stdout",
     "output_type": "stream",
     "text": [
      "Epoch 083, Val Loss: 0.001546, Val R2: 0.998461\n"
     ]
    },
    {
     "data": {
      "application/vnd.jupyter.widget-view+json": {
       "model_id": "9d91570bdb26481da68c7d516ee40291",
       "version_major": 2,
       "version_minor": 0
      },
      "text/plain": [
       "  0%|          | 0/2 [00:00<?, ?batch/s]"
      ]
     },
     "metadata": {},
     "output_type": "display_data"
    },
    {
     "name": "stdout",
     "output_type": "stream",
     "text": [
      "Epoch 084, Val Loss: 0.001501, Val R2: 0.998505\n"
     ]
    },
    {
     "data": {
      "application/vnd.jupyter.widget-view+json": {
       "model_id": "de57648cd460431696a728fe7f0471d5",
       "version_major": 2,
       "version_minor": 0
      },
      "text/plain": [
       "  0%|          | 0/2 [00:00<?, ?batch/s]"
      ]
     },
     "metadata": {},
     "output_type": "display_data"
    },
    {
     "name": "stdout",
     "output_type": "stream",
     "text": [
      "Epoch 085, Val Loss: 0.001458, Val R2: 0.998549\n"
     ]
    },
    {
     "data": {
      "application/vnd.jupyter.widget-view+json": {
       "model_id": "de90effc8509464a98137b9957b3bf47",
       "version_major": 2,
       "version_minor": 0
      },
      "text/plain": [
       "  0%|          | 0/2 [00:00<?, ?batch/s]"
      ]
     },
     "metadata": {},
     "output_type": "display_data"
    },
    {
     "name": "stdout",
     "output_type": "stream",
     "text": [
      "Epoch 086, Val Loss: 0.001416, Val R2: 0.998591\n"
     ]
    },
    {
     "data": {
      "application/vnd.jupyter.widget-view+json": {
       "model_id": "94af3af190e9401894ee2fbfb23d3aaf",
       "version_major": 2,
       "version_minor": 0
      },
      "text/plain": [
       "  0%|          | 0/2 [00:00<?, ?batch/s]"
      ]
     },
     "metadata": {},
     "output_type": "display_data"
    },
    {
     "name": "stdout",
     "output_type": "stream",
     "text": [
      "Epoch 087, Val Loss: 0.001375, Val R2: 0.998632\n"
     ]
    },
    {
     "data": {
      "application/vnd.jupyter.widget-view+json": {
       "model_id": "b07c8df337304c848028746d599961bf",
       "version_major": 2,
       "version_minor": 0
      },
      "text/plain": [
       "  0%|          | 0/2 [00:00<?, ?batch/s]"
      ]
     },
     "metadata": {},
     "output_type": "display_data"
    },
    {
     "name": "stdout",
     "output_type": "stream",
     "text": [
      "Epoch 088, Val Loss: 0.001336, Val R2: 0.998671\n"
     ]
    },
    {
     "data": {
      "application/vnd.jupyter.widget-view+json": {
       "model_id": "476df317f19c4e34a48d886e0e0b7f6d",
       "version_major": 2,
       "version_minor": 0
      },
      "text/plain": [
       "  0%|          | 0/2 [00:00<?, ?batch/s]"
      ]
     },
     "metadata": {},
     "output_type": "display_data"
    },
    {
     "name": "stdout",
     "output_type": "stream",
     "text": [
      "Epoch 089, Val Loss: 0.001298, Val R2: 0.998708\n"
     ]
    },
    {
     "data": {
      "application/vnd.jupyter.widget-view+json": {
       "model_id": "6154d89ad51d4bf784daee79fc5b6456",
       "version_major": 2,
       "version_minor": 0
      },
      "text/plain": [
       "  0%|          | 0/2 [00:00<?, ?batch/s]"
      ]
     },
     "metadata": {},
     "output_type": "display_data"
    },
    {
     "name": "stdout",
     "output_type": "stream",
     "text": [
      "Epoch 090, Val Loss: 0.001261, Val R2: 0.998745\n"
     ]
    },
    {
     "data": {
      "application/vnd.jupyter.widget-view+json": {
       "model_id": "7866270826fa4c91bf5f93b55e292ef6",
       "version_major": 2,
       "version_minor": 0
      },
      "text/plain": [
       "  0%|          | 0/2 [00:00<?, ?batch/s]"
      ]
     },
     "metadata": {},
     "output_type": "display_data"
    },
    {
     "name": "stdout",
     "output_type": "stream",
     "text": [
      "Epoch 091, Val Loss: 0.001226, Val R2: 0.998780\n"
     ]
    },
    {
     "data": {
      "application/vnd.jupyter.widget-view+json": {
       "model_id": "e8faa65f16714c3793193c9bfc52d887",
       "version_major": 2,
       "version_minor": 0
      },
      "text/plain": [
       "  0%|          | 0/2 [00:00<?, ?batch/s]"
      ]
     },
     "metadata": {},
     "output_type": "display_data"
    },
    {
     "name": "stdout",
     "output_type": "stream",
     "text": [
      "Epoch 092, Val Loss: 0.001192, Val R2: 0.998814\n"
     ]
    },
    {
     "data": {
      "application/vnd.jupyter.widget-view+json": {
       "model_id": "780e886a18444d1fa740afb78391cf98",
       "version_major": 2,
       "version_minor": 0
      },
      "text/plain": [
       "  0%|          | 0/2 [00:00<?, ?batch/s]"
      ]
     },
     "metadata": {},
     "output_type": "display_data"
    },
    {
     "name": "stdout",
     "output_type": "stream",
     "text": [
      "Epoch 093, Val Loss: 0.001159, Val R2: 0.998847\n"
     ]
    },
    {
     "data": {
      "application/vnd.jupyter.widget-view+json": {
       "model_id": "d4c8750c00cd4cb7b1eacea1a9507ba0",
       "version_major": 2,
       "version_minor": 0
      },
      "text/plain": [
       "  0%|          | 0/2 [00:00<?, ?batch/s]"
      ]
     },
     "metadata": {},
     "output_type": "display_data"
    },
    {
     "name": "stdout",
     "output_type": "stream",
     "text": [
      "Epoch 094, Val Loss: 0.001128, Val R2: 0.998878\n"
     ]
    },
    {
     "data": {
      "application/vnd.jupyter.widget-view+json": {
       "model_id": "42b9c74834bc43efa9a9be4ed1536051",
       "version_major": 2,
       "version_minor": 0
      },
      "text/plain": [
       "  0%|          | 0/2 [00:00<?, ?batch/s]"
      ]
     },
     "metadata": {},
     "output_type": "display_data"
    },
    {
     "name": "stdout",
     "output_type": "stream",
     "text": [
      "Epoch 095, Val Loss: 0.001097, Val R2: 0.998909\n"
     ]
    },
    {
     "data": {
      "application/vnd.jupyter.widget-view+json": {
       "model_id": "51f83239a647497abbfc7093b6bdf8c8",
       "version_major": 2,
       "version_minor": 0
      },
      "text/plain": [
       "  0%|          | 0/2 [00:00<?, ?batch/s]"
      ]
     },
     "metadata": {},
     "output_type": "display_data"
    },
    {
     "name": "stdout",
     "output_type": "stream",
     "text": [
      "Epoch 096, Val Loss: 0.001068, Val R2: 0.998938\n"
     ]
    },
    {
     "data": {
      "application/vnd.jupyter.widget-view+json": {
       "model_id": "17fa8142e9454868a60490a33a344fc3",
       "version_major": 2,
       "version_minor": 0
      },
      "text/plain": [
       "  0%|          | 0/2 [00:00<?, ?batch/s]"
      ]
     },
     "metadata": {},
     "output_type": "display_data"
    },
    {
     "name": "stdout",
     "output_type": "stream",
     "text": [
      "Epoch 097, Val Loss: 0.001040, Val R2: 0.998966\n"
     ]
    },
    {
     "data": {
      "application/vnd.jupyter.widget-view+json": {
       "model_id": "f3d9229eadb54eb78befbf11c4826cf8",
       "version_major": 2,
       "version_minor": 0
      },
      "text/plain": [
       "  0%|          | 0/2 [00:00<?, ?batch/s]"
      ]
     },
     "metadata": {},
     "output_type": "display_data"
    },
    {
     "name": "stdout",
     "output_type": "stream",
     "text": [
      "Epoch 098, Val Loss: 0.001013, Val R2: 0.998993\n"
     ]
    },
    {
     "data": {
      "application/vnd.jupyter.widget-view+json": {
       "model_id": "140a08558062483d88e3aec575da56db",
       "version_major": 2,
       "version_minor": 0
      },
      "text/plain": [
       "  0%|          | 0/2 [00:00<?, ?batch/s]"
      ]
     },
     "metadata": {},
     "output_type": "display_data"
    },
    {
     "name": "stdout",
     "output_type": "stream",
     "text": [
      "Epoch 099, Val Loss: 0.000987, Val R2: 0.999019\n"
     ]
    },
    {
     "data": {
      "application/vnd.jupyter.widget-view+json": {
       "model_id": "e6407ba357a545799355793b4a20057d",
       "version_major": 2,
       "version_minor": 0
      },
      "text/plain": [
       "  0%|          | 0/2 [00:00<?, ?batch/s]"
      ]
     },
     "metadata": {},
     "output_type": "display_data"
    },
    {
     "name": "stdout",
     "output_type": "stream",
     "text": [
      "Epoch 100, Val Loss: 0.000961, Val R2: 0.999044\n"
     ]
    },
    {
     "data": {
      "application/vnd.jupyter.widget-view+json": {
       "model_id": "c8461a1b03274b4cbe6f34ac04adf9b5",
       "version_major": 2,
       "version_minor": 0
      },
      "text/plain": [
       "  0%|          | 0/2 [00:00<?, ?batch/s]"
      ]
     },
     "metadata": {},
     "output_type": "display_data"
    },
    {
     "name": "stdout",
     "output_type": "stream",
     "text": [
      "Epoch 101, Val Loss: 0.000937, Val R2: 0.999068\n"
     ]
    },
    {
     "data": {
      "application/vnd.jupyter.widget-view+json": {
       "model_id": "9fca231ed54c47c9a787d68b8ae0fe17",
       "version_major": 2,
       "version_minor": 0
      },
      "text/plain": [
       "  0%|          | 0/2 [00:00<?, ?batch/s]"
      ]
     },
     "metadata": {},
     "output_type": "display_data"
    },
    {
     "name": "stdout",
     "output_type": "stream",
     "text": [
      "Epoch 102, Val Loss: 0.000914, Val R2: 0.999091\n"
     ]
    },
    {
     "data": {
      "application/vnd.jupyter.widget-view+json": {
       "model_id": "f5db4ddb52464ae8b1cccd83a611a234",
       "version_major": 2,
       "version_minor": 0
      },
      "text/plain": [
       "  0%|          | 0/2 [00:00<?, ?batch/s]"
      ]
     },
     "metadata": {},
     "output_type": "display_data"
    },
    {
     "name": "stdout",
     "output_type": "stream",
     "text": [
      "Epoch 103, Val Loss: 0.000892, Val R2: 0.999114\n"
     ]
    },
    {
     "data": {
      "application/vnd.jupyter.widget-view+json": {
       "model_id": "75f87e249387450c93f82c50a1e8c475",
       "version_major": 2,
       "version_minor": 0
      },
      "text/plain": [
       "  0%|          | 0/2 [00:00<?, ?batch/s]"
      ]
     },
     "metadata": {},
     "output_type": "display_data"
    },
    {
     "name": "stdout",
     "output_type": "stream",
     "text": [
      "Epoch 104, Val Loss: 0.000870, Val R2: 0.999135\n"
     ]
    },
    {
     "data": {
      "application/vnd.jupyter.widget-view+json": {
       "model_id": "dccfde55330248379cca3ee712542f53",
       "version_major": 2,
       "version_minor": 0
      },
      "text/plain": [
       "  0%|          | 0/2 [00:00<?, ?batch/s]"
      ]
     },
     "metadata": {},
     "output_type": "display_data"
    },
    {
     "name": "stdout",
     "output_type": "stream",
     "text": [
      "Epoch 105, Val Loss: 0.000849, Val R2: 0.999156\n"
     ]
    },
    {
     "data": {
      "application/vnd.jupyter.widget-view+json": {
       "model_id": "ef504906d54242e88ee213db5c402b42",
       "version_major": 2,
       "version_minor": 0
      },
      "text/plain": [
       "  0%|          | 0/2 [00:00<?, ?batch/s]"
      ]
     },
     "metadata": {},
     "output_type": "display_data"
    },
    {
     "name": "stdout",
     "output_type": "stream",
     "text": [
      "Epoch 106, Val Loss: 0.000829, Val R2: 0.999176\n"
     ]
    },
    {
     "data": {
      "application/vnd.jupyter.widget-view+json": {
       "model_id": "df0fd6d9438d4f589ee5390ecbb7eafb",
       "version_major": 2,
       "version_minor": 0
      },
      "text/plain": [
       "  0%|          | 0/2 [00:00<?, ?batch/s]"
      ]
     },
     "metadata": {},
     "output_type": "display_data"
    },
    {
     "name": "stdout",
     "output_type": "stream",
     "text": [
      "Epoch 107, Val Loss: 0.000810, Val R2: 0.999195\n"
     ]
    },
    {
     "data": {
      "application/vnd.jupyter.widget-view+json": {
       "model_id": "34940e0e180b4ef09b9c6058596b7a8f",
       "version_major": 2,
       "version_minor": 0
      },
      "text/plain": [
       "  0%|          | 0/2 [00:00<?, ?batch/s]"
      ]
     },
     "metadata": {},
     "output_type": "display_data"
    },
    {
     "name": "stdout",
     "output_type": "stream",
     "text": [
      "Epoch 108, Val Loss: 0.000791, Val R2: 0.999214\n"
     ]
    },
    {
     "data": {
      "application/vnd.jupyter.widget-view+json": {
       "model_id": "ec2788508ffd4882b20af83d5abdbfb2",
       "version_major": 2,
       "version_minor": 0
      },
      "text/plain": [
       "  0%|          | 0/2 [00:00<?, ?batch/s]"
      ]
     },
     "metadata": {},
     "output_type": "display_data"
    },
    {
     "name": "stdout",
     "output_type": "stream",
     "text": [
      "Epoch 109, Val Loss: 0.000773, Val R2: 0.999232\n"
     ]
    },
    {
     "data": {
      "application/vnd.jupyter.widget-view+json": {
       "model_id": "1c81b78f7ede4443b3e005ef8381885f",
       "version_major": 2,
       "version_minor": 0
      },
      "text/plain": [
       "  0%|          | 0/2 [00:00<?, ?batch/s]"
      ]
     },
     "metadata": {},
     "output_type": "display_data"
    },
    {
     "name": "stdout",
     "output_type": "stream",
     "text": [
      "Epoch 110, Val Loss: 0.000756, Val R2: 0.999249\n"
     ]
    },
    {
     "data": {
      "application/vnd.jupyter.widget-view+json": {
       "model_id": "55b2d1f0e1924b05986bcdb233759de2",
       "version_major": 2,
       "version_minor": 0
      },
      "text/plain": [
       "  0%|          | 0/2 [00:00<?, ?batch/s]"
      ]
     },
     "metadata": {},
     "output_type": "display_data"
    },
    {
     "name": "stdout",
     "output_type": "stream",
     "text": [
      "Epoch 111, Val Loss: 0.000739, Val R2: 0.999266\n"
     ]
    },
    {
     "data": {
      "application/vnd.jupyter.widget-view+json": {
       "model_id": "5002cd80a33f4e8ab7265a3578dd83da",
       "version_major": 2,
       "version_minor": 0
      },
      "text/plain": [
       "  0%|          | 0/2 [00:00<?, ?batch/s]"
      ]
     },
     "metadata": {},
     "output_type": "display_data"
    },
    {
     "name": "stdout",
     "output_type": "stream",
     "text": [
      "Epoch 112, Val Loss: 0.000722, Val R2: 0.999282\n"
     ]
    },
    {
     "data": {
      "application/vnd.jupyter.widget-view+json": {
       "model_id": "2633f979f02c496a98e315341f46274f",
       "version_major": 2,
       "version_minor": 0
      },
      "text/plain": [
       "  0%|          | 0/2 [00:00<?, ?batch/s]"
      ]
     },
     "metadata": {},
     "output_type": "display_data"
    },
    {
     "name": "stdout",
     "output_type": "stream",
     "text": [
      "Epoch 113, Val Loss: 0.000707, Val R2: 0.999298\n"
     ]
    },
    {
     "data": {
      "application/vnd.jupyter.widget-view+json": {
       "model_id": "f3540c0a46964ce7959b41000a8eacc1",
       "version_major": 2,
       "version_minor": 0
      },
      "text/plain": [
       "  0%|          | 0/2 [00:00<?, ?batch/s]"
      ]
     },
     "metadata": {},
     "output_type": "display_data"
    },
    {
     "name": "stdout",
     "output_type": "stream",
     "text": [
      "Epoch 114, Val Loss: 0.000691, Val R2: 0.999313\n"
     ]
    },
    {
     "data": {
      "application/vnd.jupyter.widget-view+json": {
       "model_id": "78910f6a2fb24846b837e05fcaa3b79c",
       "version_major": 2,
       "version_minor": 0
      },
      "text/plain": [
       "  0%|          | 0/2 [00:00<?, ?batch/s]"
      ]
     },
     "metadata": {},
     "output_type": "display_data"
    },
    {
     "name": "stdout",
     "output_type": "stream",
     "text": [
      "Epoch 115, Val Loss: 0.000677, Val R2: 0.999327\n"
     ]
    },
    {
     "data": {
      "application/vnd.jupyter.widget-view+json": {
       "model_id": "bc85567c4e694ae3b28f7d9aa0c484f0",
       "version_major": 2,
       "version_minor": 0
      },
      "text/plain": [
       "  0%|          | 0/2 [00:00<?, ?batch/s]"
      ]
     },
     "metadata": {},
     "output_type": "display_data"
    },
    {
     "name": "stdout",
     "output_type": "stream",
     "text": [
      "Epoch 116, Val Loss: 0.000662, Val R2: 0.999342\n"
     ]
    },
    {
     "data": {
      "application/vnd.jupyter.widget-view+json": {
       "model_id": "1f636294095c4ef38b010c4eee2dd238",
       "version_major": 2,
       "version_minor": 0
      },
      "text/plain": [
       "  0%|          | 0/2 [00:00<?, ?batch/s]"
      ]
     },
     "metadata": {},
     "output_type": "display_data"
    },
    {
     "name": "stdout",
     "output_type": "stream",
     "text": [
      "Epoch 117, Val Loss: 0.000649, Val R2: 0.999355\n"
     ]
    },
    {
     "data": {
      "application/vnd.jupyter.widget-view+json": {
       "model_id": "cb1cca5b55534673b91b8da0de26f986",
       "version_major": 2,
       "version_minor": 0
      },
      "text/plain": [
       "  0%|          | 0/2 [00:00<?, ?batch/s]"
      ]
     },
     "metadata": {},
     "output_type": "display_data"
    },
    {
     "name": "stdout",
     "output_type": "stream",
     "text": [
      "Epoch 118, Val Loss: 0.000635, Val R2: 0.999369\n"
     ]
    },
    {
     "data": {
      "application/vnd.jupyter.widget-view+json": {
       "model_id": "b8d389bd317a4dab8a20ac00bec00cbe",
       "version_major": 2,
       "version_minor": 0
      },
      "text/plain": [
       "  0%|          | 0/2 [00:00<?, ?batch/s]"
      ]
     },
     "metadata": {},
     "output_type": "display_data"
    },
    {
     "name": "stdout",
     "output_type": "stream",
     "text": [
      "Epoch 119, Val Loss: 0.000622, Val R2: 0.999382\n"
     ]
    },
    {
     "data": {
      "application/vnd.jupyter.widget-view+json": {
       "model_id": "6b0c75bb0cab4bea98af5fa474cb16fa",
       "version_major": 2,
       "version_minor": 0
      },
      "text/plain": [
       "  0%|          | 0/2 [00:00<?, ?batch/s]"
      ]
     },
     "metadata": {},
     "output_type": "display_data"
    },
    {
     "name": "stdout",
     "output_type": "stream",
     "text": [
      "Epoch 120, Val Loss: 0.000610, Val R2: 0.999394\n"
     ]
    },
    {
     "data": {
      "application/vnd.jupyter.widget-view+json": {
       "model_id": "4d6bc47111cb41fda75477dee54cd046",
       "version_major": 2,
       "version_minor": 0
      },
      "text/plain": [
       "  0%|          | 0/2 [00:00<?, ?batch/s]"
      ]
     },
     "metadata": {},
     "output_type": "display_data"
    },
    {
     "name": "stdout",
     "output_type": "stream",
     "text": [
      "Epoch 121, Val Loss: 0.000598, Val R2: 0.999406\n"
     ]
    },
    {
     "data": {
      "application/vnd.jupyter.widget-view+json": {
       "model_id": "f28e67a1e6414df49ed220c5b2820835",
       "version_major": 2,
       "version_minor": 0
      },
      "text/plain": [
       "  0%|          | 0/2 [00:00<?, ?batch/s]"
      ]
     },
     "metadata": {},
     "output_type": "display_data"
    },
    {
     "name": "stdout",
     "output_type": "stream",
     "text": [
      "Epoch 122, Val Loss: 0.000586, Val R2: 0.999418\n"
     ]
    },
    {
     "data": {
      "application/vnd.jupyter.widget-view+json": {
       "model_id": "7e147ed6dc5d43fab00532f1f04f81f9",
       "version_major": 2,
       "version_minor": 0
      },
      "text/plain": [
       "  0%|          | 0/2 [00:00<?, ?batch/s]"
      ]
     },
     "metadata": {},
     "output_type": "display_data"
    },
    {
     "name": "stdout",
     "output_type": "stream",
     "text": [
      "Epoch 123, Val Loss: 0.000574, Val R2: 0.999429\n"
     ]
    },
    {
     "data": {
      "application/vnd.jupyter.widget-view+json": {
       "model_id": "a94e32bef6b64fb0b759d4f8e4824c95",
       "version_major": 2,
       "version_minor": 0
      },
      "text/plain": [
       "  0%|          | 0/2 [00:00<?, ?batch/s]"
      ]
     },
     "metadata": {},
     "output_type": "display_data"
    },
    {
     "name": "stdout",
     "output_type": "stream",
     "text": [
      "Epoch 124, Val Loss: 0.000563, Val R2: 0.999440\n"
     ]
    },
    {
     "data": {
      "application/vnd.jupyter.widget-view+json": {
       "model_id": "4ebf3b9495f24e0abf097f02bb072b13",
       "version_major": 2,
       "version_minor": 0
      },
      "text/plain": [
       "  0%|          | 0/2 [00:00<?, ?batch/s]"
      ]
     },
     "metadata": {},
     "output_type": "display_data"
    },
    {
     "name": "stdout",
     "output_type": "stream",
     "text": [
      "Epoch 125, Val Loss: 0.000552, Val R2: 0.999451\n"
     ]
    },
    {
     "data": {
      "application/vnd.jupyter.widget-view+json": {
       "model_id": "8bd7fc3d13054debb9844da65f2e30bf",
       "version_major": 2,
       "version_minor": 0
      },
      "text/plain": [
       "  0%|          | 0/2 [00:00<?, ?batch/s]"
      ]
     },
     "metadata": {},
     "output_type": "display_data"
    },
    {
     "name": "stdout",
     "output_type": "stream",
     "text": [
      "Epoch 126, Val Loss: 0.000542, Val R2: 0.999461\n"
     ]
    },
    {
     "data": {
      "application/vnd.jupyter.widget-view+json": {
       "model_id": "3fb3704bd9984df1bcb89303f4aa43bc",
       "version_major": 2,
       "version_minor": 0
      },
      "text/plain": [
       "  0%|          | 0/2 [00:00<?, ?batch/s]"
      ]
     },
     "metadata": {},
     "output_type": "display_data"
    },
    {
     "name": "stdout",
     "output_type": "stream",
     "text": [
      "Epoch 127, Val Loss: 0.000532, Val R2: 0.999472\n"
     ]
    },
    {
     "data": {
      "application/vnd.jupyter.widget-view+json": {
       "model_id": "8d4ffa0ed3bc46c798e82a8561e5eec5",
       "version_major": 2,
       "version_minor": 0
      },
      "text/plain": [
       "  0%|          | 0/2 [00:00<?, ?batch/s]"
      ]
     },
     "metadata": {},
     "output_type": "display_data"
    },
    {
     "name": "stdout",
     "output_type": "stream",
     "text": [
      "Epoch 128, Val Loss: 0.000522, Val R2: 0.999481\n"
     ]
    },
    {
     "data": {
      "application/vnd.jupyter.widget-view+json": {
       "model_id": "3e1e4cc143814362a14705fc6e8de6cb",
       "version_major": 2,
       "version_minor": 0
      },
      "text/plain": [
       "  0%|          | 0/2 [00:00<?, ?batch/s]"
      ]
     },
     "metadata": {},
     "output_type": "display_data"
    },
    {
     "name": "stdout",
     "output_type": "stream",
     "text": [
      "Epoch 129, Val Loss: 0.000513, Val R2: 0.999491\n"
     ]
    },
    {
     "data": {
      "application/vnd.jupyter.widget-view+json": {
       "model_id": "d14669b9b43841ec9b72d36b4d09777e",
       "version_major": 2,
       "version_minor": 0
      },
      "text/plain": [
       "  0%|          | 0/2 [00:00<?, ?batch/s]"
      ]
     },
     "metadata": {},
     "output_type": "display_data"
    },
    {
     "name": "stdout",
     "output_type": "stream",
     "text": [
      "Epoch 130, Val Loss: 0.000503, Val R2: 0.999500\n"
     ]
    },
    {
     "data": {
      "application/vnd.jupyter.widget-view+json": {
       "model_id": "169aceb22e594b19bf7a92e3d12e91d7",
       "version_major": 2,
       "version_minor": 0
      },
      "text/plain": [
       "  0%|          | 0/2 [00:00<?, ?batch/s]"
      ]
     },
     "metadata": {},
     "output_type": "display_data"
    },
    {
     "name": "stdout",
     "output_type": "stream",
     "text": [
      "Epoch 131, Val Loss: 0.000494, Val R2: 0.999509\n"
     ]
    },
    {
     "data": {
      "application/vnd.jupyter.widget-view+json": {
       "model_id": "ce98de6532ef4b4fb40fc7a32b1dcda8",
       "version_major": 2,
       "version_minor": 0
      },
      "text/plain": [
       "  0%|          | 0/2 [00:00<?, ?batch/s]"
      ]
     },
     "metadata": {},
     "output_type": "display_data"
    },
    {
     "name": "stdout",
     "output_type": "stream",
     "text": [
      "Epoch 132, Val Loss: 0.000486, Val R2: 0.999517\n"
     ]
    },
    {
     "data": {
      "application/vnd.jupyter.widget-view+json": {
       "model_id": "584786e2784744de991fe8d6c3d3bce1",
       "version_major": 2,
       "version_minor": 0
      },
      "text/plain": [
       "  0%|          | 0/2 [00:00<?, ?batch/s]"
      ]
     },
     "metadata": {},
     "output_type": "display_data"
    },
    {
     "name": "stdout",
     "output_type": "stream",
     "text": [
      "Epoch 133, Val Loss: 0.000477, Val R2: 0.999526\n"
     ]
    },
    {
     "data": {
      "application/vnd.jupyter.widget-view+json": {
       "model_id": "bfebaf148a3b4702803b6c68bfdb5548",
       "version_major": 2,
       "version_minor": 0
      },
      "text/plain": [
       "  0%|          | 0/2 [00:00<?, ?batch/s]"
      ]
     },
     "metadata": {},
     "output_type": "display_data"
    },
    {
     "name": "stdout",
     "output_type": "stream",
     "text": [
      "Epoch 134, Val Loss: 0.000469, Val R2: 0.999534\n"
     ]
    },
    {
     "data": {
      "application/vnd.jupyter.widget-view+json": {
       "model_id": "b40f8d17cbbe409a9e83db61f506441b",
       "version_major": 2,
       "version_minor": 0
      },
      "text/plain": [
       "  0%|          | 0/2 [00:00<?, ?batch/s]"
      ]
     },
     "metadata": {},
     "output_type": "display_data"
    },
    {
     "name": "stdout",
     "output_type": "stream",
     "text": [
      "Epoch 135, Val Loss: 0.000461, Val R2: 0.999542\n"
     ]
    },
    {
     "data": {
      "application/vnd.jupyter.widget-view+json": {
       "model_id": "fd5c78f084734abdad80d51457ef5a1a",
       "version_major": 2,
       "version_minor": 0
      },
      "text/plain": [
       "  0%|          | 0/2 [00:00<?, ?batch/s]"
      ]
     },
     "metadata": {},
     "output_type": "display_data"
    },
    {
     "name": "stdout",
     "output_type": "stream",
     "text": [
      "Epoch 136, Val Loss: 0.000453, Val R2: 0.999550\n"
     ]
    },
    {
     "data": {
      "application/vnd.jupyter.widget-view+json": {
       "model_id": "3480724350044e5689baff6e08920d7f",
       "version_major": 2,
       "version_minor": 0
      },
      "text/plain": [
       "  0%|          | 0/2 [00:00<?, ?batch/s]"
      ]
     },
     "metadata": {},
     "output_type": "display_data"
    },
    {
     "name": "stdout",
     "output_type": "stream",
     "text": [
      "Epoch 137, Val Loss: 0.000446, Val R2: 0.999557\n"
     ]
    },
    {
     "data": {
      "application/vnd.jupyter.widget-view+json": {
       "model_id": "740384ca5cfa473eaef799f0aa70548c",
       "version_major": 2,
       "version_minor": 0
      },
      "text/plain": [
       "  0%|          | 0/2 [00:00<?, ?batch/s]"
      ]
     },
     "metadata": {},
     "output_type": "display_data"
    },
    {
     "name": "stdout",
     "output_type": "stream",
     "text": [
      "Epoch 138, Val Loss: 0.000439, Val R2: 0.999564\n"
     ]
    },
    {
     "data": {
      "application/vnd.jupyter.widget-view+json": {
       "model_id": "ebafa2f453924fffbe27c542d0b11455",
       "version_major": 2,
       "version_minor": 0
      },
      "text/plain": [
       "  0%|          | 0/2 [00:00<?, ?batch/s]"
      ]
     },
     "metadata": {},
     "output_type": "display_data"
    },
    {
     "name": "stdout",
     "output_type": "stream",
     "text": [
      "Epoch 139, Val Loss: 0.000432, Val R2: 0.999571\n"
     ]
    },
    {
     "data": {
      "application/vnd.jupyter.widget-view+json": {
       "model_id": "7f8c7b317e5d401b81de9a825bd0ded3",
       "version_major": 2,
       "version_minor": 0
      },
      "text/plain": [
       "  0%|          | 0/2 [00:00<?, ?batch/s]"
      ]
     },
     "metadata": {},
     "output_type": "display_data"
    },
    {
     "name": "stdout",
     "output_type": "stream",
     "text": [
      "Epoch 140, Val Loss: 0.000425, Val R2: 0.999578\n"
     ]
    },
    {
     "data": {
      "application/vnd.jupyter.widget-view+json": {
       "model_id": "a69d9438735344ba99dd4f86612afaa4",
       "version_major": 2,
       "version_minor": 0
      },
      "text/plain": [
       "  0%|          | 0/2 [00:00<?, ?batch/s]"
      ]
     },
     "metadata": {},
     "output_type": "display_data"
    },
    {
     "name": "stdout",
     "output_type": "stream",
     "text": [
      "Epoch 141, Val Loss: 0.000418, Val R2: 0.999585\n"
     ]
    },
    {
     "data": {
      "application/vnd.jupyter.widget-view+json": {
       "model_id": "3e95342b1e654d26bc275b5d87343bb5",
       "version_major": 2,
       "version_minor": 0
      },
      "text/plain": [
       "  0%|          | 0/2 [00:00<?, ?batch/s]"
      ]
     },
     "metadata": {},
     "output_type": "display_data"
    },
    {
     "name": "stdout",
     "output_type": "stream",
     "text": [
      "Epoch 142, Val Loss: 0.000412, Val R2: 0.999591\n"
     ]
    },
    {
     "data": {
      "application/vnd.jupyter.widget-view+json": {
       "model_id": "1d1631b88cae44578b1e453bf5bd8df9",
       "version_major": 2,
       "version_minor": 0
      },
      "text/plain": [
       "  0%|          | 0/2 [00:00<?, ?batch/s]"
      ]
     },
     "metadata": {},
     "output_type": "display_data"
    },
    {
     "name": "stdout",
     "output_type": "stream",
     "text": [
      "Epoch 143, Val Loss: 0.000405, Val R2: 0.999597\n"
     ]
    },
    {
     "data": {
      "application/vnd.jupyter.widget-view+json": {
       "model_id": "844dc7e5144046efb5c85f48cb56d4bc",
       "version_major": 2,
       "version_minor": 0
      },
      "text/plain": [
       "  0%|          | 0/2 [00:00<?, ?batch/s]"
      ]
     },
     "metadata": {},
     "output_type": "display_data"
    },
    {
     "name": "stdout",
     "output_type": "stream",
     "text": [
      "Epoch 144, Val Loss: 0.000399, Val R2: 0.999603\n"
     ]
    },
    {
     "data": {
      "application/vnd.jupyter.widget-view+json": {
       "model_id": "a0b2755bf24c46de84830164bd3c6096",
       "version_major": 2,
       "version_minor": 0
      },
      "text/plain": [
       "  0%|          | 0/2 [00:00<?, ?batch/s]"
      ]
     },
     "metadata": {},
     "output_type": "display_data"
    },
    {
     "name": "stdout",
     "output_type": "stream",
     "text": [
      "Epoch 145, Val Loss: 0.000393, Val R2: 0.999609\n"
     ]
    },
    {
     "data": {
      "application/vnd.jupyter.widget-view+json": {
       "model_id": "6f827678baf84936ba00badada3e4f62",
       "version_major": 2,
       "version_minor": 0
      },
      "text/plain": [
       "  0%|          | 0/2 [00:00<?, ?batch/s]"
      ]
     },
     "metadata": {},
     "output_type": "display_data"
    },
    {
     "name": "stdout",
     "output_type": "stream",
     "text": [
      "Epoch 146, Val Loss: 0.000388, Val R2: 0.999615\n"
     ]
    },
    {
     "data": {
      "application/vnd.jupyter.widget-view+json": {
       "model_id": "390d808c7083402b88030df839cfbf50",
       "version_major": 2,
       "version_minor": 0
      },
      "text/plain": [
       "  0%|          | 0/2 [00:00<?, ?batch/s]"
      ]
     },
     "metadata": {},
     "output_type": "display_data"
    },
    {
     "name": "stdout",
     "output_type": "stream",
     "text": [
      "Epoch 147, Val Loss: 0.000382, Val R2: 0.999621\n"
     ]
    },
    {
     "data": {
      "application/vnd.jupyter.widget-view+json": {
       "model_id": "73b43c1769494bf9a149d6941d965639",
       "version_major": 2,
       "version_minor": 0
      },
      "text/plain": [
       "  0%|          | 0/2 [00:00<?, ?batch/s]"
      ]
     },
     "metadata": {},
     "output_type": "display_data"
    },
    {
     "name": "stdout",
     "output_type": "stream",
     "text": [
      "Epoch 148, Val Loss: 0.000377, Val R2: 0.999626\n"
     ]
    },
    {
     "data": {
      "application/vnd.jupyter.widget-view+json": {
       "model_id": "9e1685f37a5a4c739cc9137980dfd9a4",
       "version_major": 2,
       "version_minor": 0
      },
      "text/plain": [
       "  0%|          | 0/2 [00:00<?, ?batch/s]"
      ]
     },
     "metadata": {},
     "output_type": "display_data"
    },
    {
     "name": "stdout",
     "output_type": "stream",
     "text": [
      "Epoch 149, Val Loss: 0.000371, Val R2: 0.999631\n"
     ]
    },
    {
     "data": {
      "application/vnd.jupyter.widget-view+json": {
       "model_id": "ec6d1e0c21b0444ebcc32770dab8af06",
       "version_major": 2,
       "version_minor": 0
      },
      "text/plain": [
       "  0%|          | 0/2 [00:00<?, ?batch/s]"
      ]
     },
     "metadata": {},
     "output_type": "display_data"
    },
    {
     "name": "stdout",
     "output_type": "stream",
     "text": [
      "Epoch 150, Val Loss: 0.000366, Val R2: 0.999636\n"
     ]
    },
    {
     "data": {
      "application/vnd.jupyter.widget-view+json": {
       "model_id": "408c158afcb144c78bf9f9650a1d134a",
       "version_major": 2,
       "version_minor": 0
      },
      "text/plain": [
       "  0%|          | 0/2 [00:00<?, ?batch/s]"
      ]
     },
     "metadata": {},
     "output_type": "display_data"
    },
    {
     "name": "stdout",
     "output_type": "stream",
     "text": [
      "Epoch 151, Val Loss: 0.000361, Val R2: 0.999641\n"
     ]
    },
    {
     "data": {
      "application/vnd.jupyter.widget-view+json": {
       "model_id": "9c558fc2e02942f997fbf152832dc135",
       "version_major": 2,
       "version_minor": 0
      },
      "text/plain": [
       "  0%|          | 0/2 [00:00<?, ?batch/s]"
      ]
     },
     "metadata": {},
     "output_type": "display_data"
    },
    {
     "name": "stdout",
     "output_type": "stream",
     "text": [
      "Epoch 152, Val Loss: 0.000356, Val R2: 0.999646\n"
     ]
    },
    {
     "data": {
      "application/vnd.jupyter.widget-view+json": {
       "model_id": "883346c3fe4e4db99e4ceeef208c2161",
       "version_major": 2,
       "version_minor": 0
      },
      "text/plain": [
       "  0%|          | 0/2 [00:00<?, ?batch/s]"
      ]
     },
     "metadata": {},
     "output_type": "display_data"
    },
    {
     "name": "stdout",
     "output_type": "stream",
     "text": [
      "Epoch 153, Val Loss: 0.000351, Val R2: 0.999651\n"
     ]
    },
    {
     "data": {
      "application/vnd.jupyter.widget-view+json": {
       "model_id": "0426bd0b2bb947a599de6b48600db29d",
       "version_major": 2,
       "version_minor": 0
      },
      "text/plain": [
       "  0%|          | 0/2 [00:00<?, ?batch/s]"
      ]
     },
     "metadata": {},
     "output_type": "display_data"
    },
    {
     "name": "stdout",
     "output_type": "stream",
     "text": [
      "Epoch 154, Val Loss: 0.000347, Val R2: 0.999656\n"
     ]
    },
    {
     "data": {
      "application/vnd.jupyter.widget-view+json": {
       "model_id": "ca61fcad23734a58a7c1344094dc8225",
       "version_major": 2,
       "version_minor": 0
      },
      "text/plain": [
       "  0%|          | 0/2 [00:00<?, ?batch/s]"
      ]
     },
     "metadata": {},
     "output_type": "display_data"
    },
    {
     "name": "stdout",
     "output_type": "stream",
     "text": [
      "Epoch 155, Val Loss: 0.000342, Val R2: 0.999660\n"
     ]
    },
    {
     "data": {
      "application/vnd.jupyter.widget-view+json": {
       "model_id": "4bb9a9e29f854dabae043aa51ab88676",
       "version_major": 2,
       "version_minor": 0
      },
      "text/plain": [
       "  0%|          | 0/2 [00:00<?, ?batch/s]"
      ]
     },
     "metadata": {},
     "output_type": "display_data"
    },
    {
     "name": "stdout",
     "output_type": "stream",
     "text": [
      "Epoch 156, Val Loss: 0.000338, Val R2: 0.999664\n"
     ]
    },
    {
     "data": {
      "application/vnd.jupyter.widget-view+json": {
       "model_id": "352f32f1fcbd497381b0e6942a15f1cc",
       "version_major": 2,
       "version_minor": 0
      },
      "text/plain": [
       "  0%|          | 0/2 [00:00<?, ?batch/s]"
      ]
     },
     "metadata": {},
     "output_type": "display_data"
    },
    {
     "name": "stdout",
     "output_type": "stream",
     "text": [
      "Epoch 157, Val Loss: 0.000334, Val R2: 0.999669\n"
     ]
    },
    {
     "data": {
      "application/vnd.jupyter.widget-view+json": {
       "model_id": "35d3bddb358648009475c8130b62ae1f",
       "version_major": 2,
       "version_minor": 0
      },
      "text/plain": [
       "  0%|          | 0/2 [00:00<?, ?batch/s]"
      ]
     },
     "metadata": {},
     "output_type": "display_data"
    },
    {
     "name": "stdout",
     "output_type": "stream",
     "text": [
      "Epoch 158, Val Loss: 0.000329, Val R2: 0.999673\n"
     ]
    },
    {
     "data": {
      "application/vnd.jupyter.widget-view+json": {
       "model_id": "7d2efec1c249426999954fa8fb774105",
       "version_major": 2,
       "version_minor": 0
      },
      "text/plain": [
       "  0%|          | 0/2 [00:00<?, ?batch/s]"
      ]
     },
     "metadata": {},
     "output_type": "display_data"
    },
    {
     "name": "stdout",
     "output_type": "stream",
     "text": [
      "Epoch 159, Val Loss: 0.000325, Val R2: 0.999677\n"
     ]
    },
    {
     "data": {
      "application/vnd.jupyter.widget-view+json": {
       "model_id": "8185740dc1d8481eb06f99f9edcdac3b",
       "version_major": 2,
       "version_minor": 0
      },
      "text/plain": [
       "  0%|          | 0/2 [00:00<?, ?batch/s]"
      ]
     },
     "metadata": {},
     "output_type": "display_data"
    },
    {
     "name": "stdout",
     "output_type": "stream",
     "text": [
      "Epoch 160, Val Loss: 0.000321, Val R2: 0.999681\n"
     ]
    },
    {
     "data": {
      "application/vnd.jupyter.widget-view+json": {
       "model_id": "3fa4807761304e88ad22283b0a98d068",
       "version_major": 2,
       "version_minor": 0
      },
      "text/plain": [
       "  0%|          | 0/2 [00:00<?, ?batch/s]"
      ]
     },
     "metadata": {},
     "output_type": "display_data"
    },
    {
     "name": "stdout",
     "output_type": "stream",
     "text": [
      "Epoch 161, Val Loss: 0.000317, Val R2: 0.999685\n"
     ]
    },
    {
     "data": {
      "application/vnd.jupyter.widget-view+json": {
       "model_id": "6018f409b0d74f92858c5beb87b45707",
       "version_major": 2,
       "version_minor": 0
      },
      "text/plain": [
       "  0%|          | 0/2 [00:00<?, ?batch/s]"
      ]
     },
     "metadata": {},
     "output_type": "display_data"
    },
    {
     "name": "stdout",
     "output_type": "stream",
     "text": [
      "Epoch 162, Val Loss: 0.000314, Val R2: 0.999689\n"
     ]
    },
    {
     "data": {
      "application/vnd.jupyter.widget-view+json": {
       "model_id": "07f5f8d4ded04c31a5bc45b3166feb66",
       "version_major": 2,
       "version_minor": 0
      },
      "text/plain": [
       "  0%|          | 0/2 [00:00<?, ?batch/s]"
      ]
     },
     "metadata": {},
     "output_type": "display_data"
    },
    {
     "name": "stdout",
     "output_type": "stream",
     "text": [
      "Epoch 163, Val Loss: 0.000310, Val R2: 0.999692\n"
     ]
    },
    {
     "data": {
      "application/vnd.jupyter.widget-view+json": {
       "model_id": "608e62871dd641d889306ad9227fd3f0",
       "version_major": 2,
       "version_minor": 0
      },
      "text/plain": [
       "  0%|          | 0/2 [00:00<?, ?batch/s]"
      ]
     },
     "metadata": {},
     "output_type": "display_data"
    },
    {
     "name": "stdout",
     "output_type": "stream",
     "text": [
      "Epoch 164, Val Loss: 0.000306, Val R2: 0.999696\n"
     ]
    },
    {
     "data": {
      "application/vnd.jupyter.widget-view+json": {
       "model_id": "9a5ff010916c462caf12a78f38fbc52e",
       "version_major": 2,
       "version_minor": 0
      },
      "text/plain": [
       "  0%|          | 0/2 [00:00<?, ?batch/s]"
      ]
     },
     "metadata": {},
     "output_type": "display_data"
    },
    {
     "name": "stdout",
     "output_type": "stream",
     "text": [
      "Epoch 165, Val Loss: 0.000303, Val R2: 0.999699\n"
     ]
    },
    {
     "data": {
      "application/vnd.jupyter.widget-view+json": {
       "model_id": "7448724eee3845569381009f507338d5",
       "version_major": 2,
       "version_minor": 0
      },
      "text/plain": [
       "  0%|          | 0/2 [00:00<?, ?batch/s]"
      ]
     },
     "metadata": {},
     "output_type": "display_data"
    },
    {
     "name": "stdout",
     "output_type": "stream",
     "text": [
      "Epoch 166, Val Loss: 0.000299, Val R2: 0.999703\n"
     ]
    },
    {
     "data": {
      "application/vnd.jupyter.widget-view+json": {
       "model_id": "82a9da9c1db7452483c32482299ef469",
       "version_major": 2,
       "version_minor": 0
      },
      "text/plain": [
       "  0%|          | 0/2 [00:00<?, ?batch/s]"
      ]
     },
     "metadata": {},
     "output_type": "display_data"
    },
    {
     "name": "stdout",
     "output_type": "stream",
     "text": [
      "Epoch 167, Val Loss: 0.000296, Val R2: 0.999706\n"
     ]
    },
    {
     "data": {
      "application/vnd.jupyter.widget-view+json": {
       "model_id": "f54d52f5bab24018becf85b0a496e31c",
       "version_major": 2,
       "version_minor": 0
      },
      "text/plain": [
       "  0%|          | 0/2 [00:00<?, ?batch/s]"
      ]
     },
     "metadata": {},
     "output_type": "display_data"
    },
    {
     "name": "stdout",
     "output_type": "stream",
     "text": [
      "Epoch 168, Val Loss: 0.000293, Val R2: 0.999709\n"
     ]
    },
    {
     "data": {
      "application/vnd.jupyter.widget-view+json": {
       "model_id": "e6d88598a2be497599f2ab04d92ee509",
       "version_major": 2,
       "version_minor": 0
      },
      "text/plain": [
       "  0%|          | 0/2 [00:00<?, ?batch/s]"
      ]
     },
     "metadata": {},
     "output_type": "display_data"
    },
    {
     "name": "stdout",
     "output_type": "stream",
     "text": [
      "Epoch 169, Val Loss: 0.000289, Val R2: 0.999713\n"
     ]
    },
    {
     "data": {
      "application/vnd.jupyter.widget-view+json": {
       "model_id": "4a59458128634667b6636f2cd603e5dd",
       "version_major": 2,
       "version_minor": 0
      },
      "text/plain": [
       "  0%|          | 0/2 [00:00<?, ?batch/s]"
      ]
     },
     "metadata": {},
     "output_type": "display_data"
    },
    {
     "name": "stdout",
     "output_type": "stream",
     "text": [
      "Epoch 170, Val Loss: 0.000286, Val R2: 0.999716\n"
     ]
    },
    {
     "data": {
      "application/vnd.jupyter.widget-view+json": {
       "model_id": "9badcd13d02a4bf0b5ce10489c517cf4",
       "version_major": 2,
       "version_minor": 0
      },
      "text/plain": [
       "  0%|          | 0/2 [00:00<?, ?batch/s]"
      ]
     },
     "metadata": {},
     "output_type": "display_data"
    },
    {
     "name": "stdout",
     "output_type": "stream",
     "text": [
      "Epoch 171, Val Loss: 0.000283, Val R2: 0.999719\n"
     ]
    },
    {
     "data": {
      "application/vnd.jupyter.widget-view+json": {
       "model_id": "cfd58fcea789447a8b4440016b1d75b7",
       "version_major": 2,
       "version_minor": 0
      },
      "text/plain": [
       "  0%|          | 0/2 [00:00<?, ?batch/s]"
      ]
     },
     "metadata": {},
     "output_type": "display_data"
    },
    {
     "name": "stdout",
     "output_type": "stream",
     "text": [
      "Epoch 172, Val Loss: 0.000280, Val R2: 0.999722\n"
     ]
    },
    {
     "data": {
      "application/vnd.jupyter.widget-view+json": {
       "model_id": "783d4d6076874147b52e286dc588b391",
       "version_major": 2,
       "version_minor": 0
      },
      "text/plain": [
       "  0%|          | 0/2 [00:00<?, ?batch/s]"
      ]
     },
     "metadata": {},
     "output_type": "display_data"
    },
    {
     "name": "stdout",
     "output_type": "stream",
     "text": [
      "Epoch 173, Val Loss: 0.000277, Val R2: 0.999725\n"
     ]
    },
    {
     "data": {
      "application/vnd.jupyter.widget-view+json": {
       "model_id": "ac451811832b42fd8a4fe5394bcb3935",
       "version_major": 2,
       "version_minor": 0
      },
      "text/plain": [
       "  0%|          | 0/2 [00:00<?, ?batch/s]"
      ]
     },
     "metadata": {},
     "output_type": "display_data"
    },
    {
     "name": "stdout",
     "output_type": "stream",
     "text": [
      "Epoch 174, Val Loss: 0.000274, Val R2: 0.999728\n"
     ]
    },
    {
     "data": {
      "application/vnd.jupyter.widget-view+json": {
       "model_id": "074b0f5eade04d1e83272476b604b67e",
       "version_major": 2,
       "version_minor": 0
      },
      "text/plain": [
       "  0%|          | 0/2 [00:00<?, ?batch/s]"
      ]
     },
     "metadata": {},
     "output_type": "display_data"
    },
    {
     "name": "stdout",
     "output_type": "stream",
     "text": [
      "Epoch 175, Val Loss: 0.000271, Val R2: 0.999731\n"
     ]
    },
    {
     "data": {
      "application/vnd.jupyter.widget-view+json": {
       "model_id": "10e01ea1561342bdbd0e38739bc619fa",
       "version_major": 2,
       "version_minor": 0
      },
      "text/plain": [
       "  0%|          | 0/2 [00:00<?, ?batch/s]"
      ]
     },
     "metadata": {},
     "output_type": "display_data"
    },
    {
     "name": "stdout",
     "output_type": "stream",
     "text": [
      "Epoch 176, Val Loss: 0.000268, Val R2: 0.999733\n"
     ]
    },
    {
     "data": {
      "application/vnd.jupyter.widget-view+json": {
       "model_id": "a5ec8019dfc24c60860b688fdc888b56",
       "version_major": 2,
       "version_minor": 0
      },
      "text/plain": [
       "  0%|          | 0/2 [00:00<?, ?batch/s]"
      ]
     },
     "metadata": {},
     "output_type": "display_data"
    },
    {
     "name": "stdout",
     "output_type": "stream",
     "text": [
      "Epoch 177, Val Loss: 0.000266, Val R2: 0.999736\n"
     ]
    },
    {
     "data": {
      "application/vnd.jupyter.widget-view+json": {
       "model_id": "c4f851a1b1f84077b81ecf95694885bc",
       "version_major": 2,
       "version_minor": 0
      },
      "text/plain": [
       "  0%|          | 0/2 [00:00<?, ?batch/s]"
      ]
     },
     "metadata": {},
     "output_type": "display_data"
    },
    {
     "name": "stdout",
     "output_type": "stream",
     "text": [
      "Epoch 178, Val Loss: 0.000263, Val R2: 0.999739\n"
     ]
    },
    {
     "data": {
      "application/vnd.jupyter.widget-view+json": {
       "model_id": "2415620e373146cd8075ebc38ae328ad",
       "version_major": 2,
       "version_minor": 0
      },
      "text/plain": [
       "  0%|          | 0/2 [00:00<?, ?batch/s]"
      ]
     },
     "metadata": {},
     "output_type": "display_data"
    },
    {
     "name": "stdout",
     "output_type": "stream",
     "text": [
      "Epoch 179, Val Loss: 0.000260, Val R2: 0.999741\n"
     ]
    },
    {
     "data": {
      "application/vnd.jupyter.widget-view+json": {
       "model_id": "2b416e8d1b154bc99d034f25293c10d3",
       "version_major": 2,
       "version_minor": 0
      },
      "text/plain": [
       "  0%|          | 0/2 [00:00<?, ?batch/s]"
      ]
     },
     "metadata": {},
     "output_type": "display_data"
    },
    {
     "name": "stdout",
     "output_type": "stream",
     "text": [
      "Epoch 180, Val Loss: 0.000258, Val R2: 0.999744\n"
     ]
    },
    {
     "data": {
      "application/vnd.jupyter.widget-view+json": {
       "model_id": "cb0b32fd52894ab29313509d05a56c1c",
       "version_major": 2,
       "version_minor": 0
      },
      "text/plain": [
       "  0%|          | 0/2 [00:00<?, ?batch/s]"
      ]
     },
     "metadata": {},
     "output_type": "display_data"
    },
    {
     "name": "stdout",
     "output_type": "stream",
     "text": [
      "Epoch 181, Val Loss: 0.000255, Val R2: 0.999746\n"
     ]
    },
    {
     "data": {
      "application/vnd.jupyter.widget-view+json": {
       "model_id": "d9f024ee123c4bcdbfe4af7b7bb447b1",
       "version_major": 2,
       "version_minor": 0
      },
      "text/plain": [
       "  0%|          | 0/2 [00:00<?, ?batch/s]"
      ]
     },
     "metadata": {},
     "output_type": "display_data"
    },
    {
     "name": "stdout",
     "output_type": "stream",
     "text": [
      "Epoch 182, Val Loss: 0.000253, Val R2: 0.999749\n"
     ]
    },
    {
     "data": {
      "application/vnd.jupyter.widget-view+json": {
       "model_id": "f4dcc32caf0d411e96f966cadf9924fb",
       "version_major": 2,
       "version_minor": 0
      },
      "text/plain": [
       "  0%|          | 0/2 [00:00<?, ?batch/s]"
      ]
     },
     "metadata": {},
     "output_type": "display_data"
    },
    {
     "name": "stdout",
     "output_type": "stream",
     "text": [
      "Epoch 183, Val Loss: 0.000250, Val R2: 0.999751\n"
     ]
    },
    {
     "data": {
      "application/vnd.jupyter.widget-view+json": {
       "model_id": "abc5bc0a90124106bc0e45d722384d11",
       "version_major": 2,
       "version_minor": 0
      },
      "text/plain": [
       "  0%|          | 0/2 [00:00<?, ?batch/s]"
      ]
     },
     "metadata": {},
     "output_type": "display_data"
    },
    {
     "name": "stdout",
     "output_type": "stream",
     "text": [
      "Epoch 184, Val Loss: 0.000248, Val R2: 0.999754\n"
     ]
    },
    {
     "data": {
      "application/vnd.jupyter.widget-view+json": {
       "model_id": "c1d2acfc065440b38d84d97c532f212e",
       "version_major": 2,
       "version_minor": 0
      },
      "text/plain": [
       "  0%|          | 0/2 [00:00<?, ?batch/s]"
      ]
     },
     "metadata": {},
     "output_type": "display_data"
    },
    {
     "name": "stdout",
     "output_type": "stream",
     "text": [
      "Epoch 185, Val Loss: 0.000246, Val R2: 0.999756\n"
     ]
    },
    {
     "data": {
      "application/vnd.jupyter.widget-view+json": {
       "model_id": "0a1d9c342d7549e8ac7c9f198ce93d0a",
       "version_major": 2,
       "version_minor": 0
      },
      "text/plain": [
       "  0%|          | 0/2 [00:00<?, ?batch/s]"
      ]
     },
     "metadata": {},
     "output_type": "display_data"
    },
    {
     "name": "stdout",
     "output_type": "stream",
     "text": [
      "Epoch 186, Val Loss: 0.000243, Val R2: 0.999758\n"
     ]
    },
    {
     "data": {
      "application/vnd.jupyter.widget-view+json": {
       "model_id": "b39c3625205a4f13b774d88ecbff4747",
       "version_major": 2,
       "version_minor": 0
      },
      "text/plain": [
       "  0%|          | 0/2 [00:00<?, ?batch/s]"
      ]
     },
     "metadata": {},
     "output_type": "display_data"
    },
    {
     "name": "stdout",
     "output_type": "stream",
     "text": [
      "Epoch 187, Val Loss: 0.000241, Val R2: 0.999761\n"
     ]
    },
    {
     "data": {
      "application/vnd.jupyter.widget-view+json": {
       "model_id": "e2673f0af88e4ca6920c5806580dadd2",
       "version_major": 2,
       "version_minor": 0
      },
      "text/plain": [
       "  0%|          | 0/2 [00:00<?, ?batch/s]"
      ]
     },
     "metadata": {},
     "output_type": "display_data"
    },
    {
     "name": "stdout",
     "output_type": "stream",
     "text": [
      "Epoch 188, Val Loss: 0.000239, Val R2: 0.999763\n"
     ]
    },
    {
     "data": {
      "application/vnd.jupyter.widget-view+json": {
       "model_id": "fbffb2866336454bbdf53a83cb81b6f0",
       "version_major": 2,
       "version_minor": 0
      },
      "text/plain": [
       "  0%|          | 0/2 [00:00<?, ?batch/s]"
      ]
     },
     "metadata": {},
     "output_type": "display_data"
    },
    {
     "name": "stdout",
     "output_type": "stream",
     "text": [
      "Epoch 189, Val Loss: 0.000237, Val R2: 0.999765\n"
     ]
    },
    {
     "data": {
      "application/vnd.jupyter.widget-view+json": {
       "model_id": "c42e2c9c89f341bab15273b361d177df",
       "version_major": 2,
       "version_minor": 0
      },
      "text/plain": [
       "  0%|          | 0/2 [00:00<?, ?batch/s]"
      ]
     },
     "metadata": {},
     "output_type": "display_data"
    },
    {
     "name": "stdout",
     "output_type": "stream",
     "text": [
      "Epoch 190, Val Loss: 0.000235, Val R2: 0.999767\n"
     ]
    },
    {
     "data": {
      "application/vnd.jupyter.widget-view+json": {
       "model_id": "e8d9bfb18f244dc5904052f8acafbd6c",
       "version_major": 2,
       "version_minor": 0
      },
      "text/plain": [
       "  0%|          | 0/2 [00:00<?, ?batch/s]"
      ]
     },
     "metadata": {},
     "output_type": "display_data"
    },
    {
     "name": "stdout",
     "output_type": "stream",
     "text": [
      "Epoch 191, Val Loss: 0.000232, Val R2: 0.999769\n"
     ]
    },
    {
     "data": {
      "application/vnd.jupyter.widget-view+json": {
       "model_id": "486c9089808b4f4796a017bbad2cff34",
       "version_major": 2,
       "version_minor": 0
      },
      "text/plain": [
       "  0%|          | 0/2 [00:00<?, ?batch/s]"
      ]
     },
     "metadata": {},
     "output_type": "display_data"
    },
    {
     "name": "stdout",
     "output_type": "stream",
     "text": [
      "Epoch 192, Val Loss: 0.000230, Val R2: 0.999771\n"
     ]
    },
    {
     "data": {
      "application/vnd.jupyter.widget-view+json": {
       "model_id": "16743d01563c40e7a3161f00a4443db3",
       "version_major": 2,
       "version_minor": 0
      },
      "text/plain": [
       "  0%|          | 0/2 [00:00<?, ?batch/s]"
      ]
     },
     "metadata": {},
     "output_type": "display_data"
    },
    {
     "name": "stdout",
     "output_type": "stream",
     "text": [
      "Epoch 193, Val Loss: 0.000228, Val R2: 0.999773\n"
     ]
    },
    {
     "data": {
      "application/vnd.jupyter.widget-view+json": {
       "model_id": "45a838a553f944768b8b08b242ed402e",
       "version_major": 2,
       "version_minor": 0
      },
      "text/plain": [
       "  0%|          | 0/2 [00:00<?, ?batch/s]"
      ]
     },
     "metadata": {},
     "output_type": "display_data"
    },
    {
     "name": "stdout",
     "output_type": "stream",
     "text": [
      "Epoch 194, Val Loss: 0.000226, Val R2: 0.999775\n"
     ]
    },
    {
     "data": {
      "application/vnd.jupyter.widget-view+json": {
       "model_id": "9fb04c95c8e84889bbeab12c5c69c879",
       "version_major": 2,
       "version_minor": 0
      },
      "text/plain": [
       "  0%|          | 0/2 [00:00<?, ?batch/s]"
      ]
     },
     "metadata": {},
     "output_type": "display_data"
    },
    {
     "name": "stdout",
     "output_type": "stream",
     "text": [
      "Epoch 195, Val Loss: 0.000224, Val R2: 0.999777\n"
     ]
    },
    {
     "data": {
      "application/vnd.jupyter.widget-view+json": {
       "model_id": "6eae911b4abc4a72b20ac9830b8efc36",
       "version_major": 2,
       "version_minor": 0
      },
      "text/plain": [
       "  0%|          | 0/2 [00:00<?, ?batch/s]"
      ]
     },
     "metadata": {},
     "output_type": "display_data"
    },
    {
     "name": "stdout",
     "output_type": "stream",
     "text": [
      "Epoch 196, Val Loss: 0.000222, Val R2: 0.999779\n"
     ]
    },
    {
     "data": {
      "application/vnd.jupyter.widget-view+json": {
       "model_id": "e5989896ae8c4951a58ab608b2e88e9f",
       "version_major": 2,
       "version_minor": 0
      },
      "text/plain": [
       "  0%|          | 0/2 [00:00<?, ?batch/s]"
      ]
     },
     "metadata": {},
     "output_type": "display_data"
    },
    {
     "name": "stdout",
     "output_type": "stream",
     "text": [
      "Epoch 197, Val Loss: 0.000221, Val R2: 0.999781\n"
     ]
    },
    {
     "data": {
      "application/vnd.jupyter.widget-view+json": {
       "model_id": "e37d6a485d314327b51b58cfcbf1dd9e",
       "version_major": 2,
       "version_minor": 0
      },
      "text/plain": [
       "  0%|          | 0/2 [00:00<?, ?batch/s]"
      ]
     },
     "metadata": {},
     "output_type": "display_data"
    },
    {
     "name": "stdout",
     "output_type": "stream",
     "text": [
      "Epoch 198, Val Loss: 0.000219, Val R2: 0.999783\n"
     ]
    },
    {
     "data": {
      "application/vnd.jupyter.widget-view+json": {
       "model_id": "f92836e4be534636aa0bc982778acd31",
       "version_major": 2,
       "version_minor": 0
      },
      "text/plain": [
       "  0%|          | 0/2 [00:00<?, ?batch/s]"
      ]
     },
     "metadata": {},
     "output_type": "display_data"
    },
    {
     "name": "stdout",
     "output_type": "stream",
     "text": [
      "Epoch 199, Val Loss: 0.000217, Val R2: 0.999785\n"
     ]
    },
    {
     "data": {
      "application/vnd.jupyter.widget-view+json": {
       "model_id": "0b2bce7f1ce04589af94059c8294c953",
       "version_major": 2,
       "version_minor": 0
      },
      "text/plain": [
       "  0%|          | 0/2 [00:00<?, ?batch/s]"
      ]
     },
     "metadata": {},
     "output_type": "display_data"
    },
    {
     "name": "stdout",
     "output_type": "stream",
     "text": [
      "Epoch 200, Val Loss: 0.000215, Val R2: 0.999786\n"
     ]
    },
    {
     "data": {
      "application/vnd.jupyter.widget-view+json": {
       "model_id": "2e835f7601334c089c87d00b24a6cc2c",
       "version_major": 2,
       "version_minor": 0
      },
      "text/plain": [
       "  0%|          | 0/2 [00:00<?, ?batch/s]"
      ]
     },
     "metadata": {},
     "output_type": "display_data"
    },
    {
     "name": "stdout",
     "output_type": "stream",
     "text": [
      "Epoch 201, Val Loss: 0.000213, Val R2: 0.999788\n"
     ]
    },
    {
     "data": {
      "application/vnd.jupyter.widget-view+json": {
       "model_id": "5f4344bf9798463bbcb5da782cc1ec3e",
       "version_major": 2,
       "version_minor": 0
      },
      "text/plain": [
       "  0%|          | 0/2 [00:00<?, ?batch/s]"
      ]
     },
     "metadata": {},
     "output_type": "display_data"
    },
    {
     "name": "stdout",
     "output_type": "stream",
     "text": [
      "Epoch 202, Val Loss: 0.000212, Val R2: 0.999790\n"
     ]
    },
    {
     "data": {
      "application/vnd.jupyter.widget-view+json": {
       "model_id": "4dc50602046f40b19bbb837b53f70540",
       "version_major": 2,
       "version_minor": 0
      },
      "text/plain": [
       "  0%|          | 0/2 [00:00<?, ?batch/s]"
      ]
     },
     "metadata": {},
     "output_type": "display_data"
    },
    {
     "name": "stdout",
     "output_type": "stream",
     "text": [
      "Epoch 203, Val Loss: 0.000210, Val R2: 0.999792\n"
     ]
    },
    {
     "data": {
      "application/vnd.jupyter.widget-view+json": {
       "model_id": "14ce1f681fd34b8b8ffc52eb0c288041",
       "version_major": 2,
       "version_minor": 0
      },
      "text/plain": [
       "  0%|          | 0/2 [00:00<?, ?batch/s]"
      ]
     },
     "metadata": {},
     "output_type": "display_data"
    },
    {
     "name": "stdout",
     "output_type": "stream",
     "text": [
      "Epoch 204, Val Loss: 0.000208, Val R2: 0.999793\n"
     ]
    },
    {
     "data": {
      "application/vnd.jupyter.widget-view+json": {
       "model_id": "90be23f782e64b53b68643c6d1522a91",
       "version_major": 2,
       "version_minor": 0
      },
      "text/plain": [
       "  0%|          | 0/2 [00:00<?, ?batch/s]"
      ]
     },
     "metadata": {},
     "output_type": "display_data"
    },
    {
     "name": "stdout",
     "output_type": "stream",
     "text": [
      "Epoch 205, Val Loss: 0.000206, Val R2: 0.999795\n"
     ]
    },
    {
     "data": {
      "application/vnd.jupyter.widget-view+json": {
       "model_id": "09c92d158ae54eab92718b2ded155e97",
       "version_major": 2,
       "version_minor": 0
      },
      "text/plain": [
       "  0%|          | 0/2 [00:00<?, ?batch/s]"
      ]
     },
     "metadata": {},
     "output_type": "display_data"
    },
    {
     "name": "stdout",
     "output_type": "stream",
     "text": [
      "Epoch 206, Val Loss: 0.000205, Val R2: 0.999797\n"
     ]
    },
    {
     "data": {
      "application/vnd.jupyter.widget-view+json": {
       "model_id": "6942132b8b1448fab74fc2cf7d4aab98",
       "version_major": 2,
       "version_minor": 0
      },
      "text/plain": [
       "  0%|          | 0/2 [00:00<?, ?batch/s]"
      ]
     },
     "metadata": {},
     "output_type": "display_data"
    },
    {
     "name": "stdout",
     "output_type": "stream",
     "text": [
      "Epoch 207, Val Loss: 0.000203, Val R2: 0.999798\n"
     ]
    },
    {
     "data": {
      "application/vnd.jupyter.widget-view+json": {
       "model_id": "d0b363f52a504b12a294140d541c08ff",
       "version_major": 2,
       "version_minor": 0
      },
      "text/plain": [
       "  0%|          | 0/2 [00:00<?, ?batch/s]"
      ]
     },
     "metadata": {},
     "output_type": "display_data"
    },
    {
     "name": "stdout",
     "output_type": "stream",
     "text": [
      "Epoch 208, Val Loss: 0.000202, Val R2: 0.999800\n"
     ]
    },
    {
     "data": {
      "application/vnd.jupyter.widget-view+json": {
       "model_id": "36268b989aa44e57849d4fb21a75003f",
       "version_major": 2,
       "version_minor": 0
      },
      "text/plain": [
       "  0%|          | 0/2 [00:00<?, ?batch/s]"
      ]
     },
     "metadata": {},
     "output_type": "display_data"
    },
    {
     "name": "stdout",
     "output_type": "stream",
     "text": [
      "Epoch 209, Val Loss: 0.000200, Val R2: 0.999801\n"
     ]
    },
    {
     "data": {
      "application/vnd.jupyter.widget-view+json": {
       "model_id": "9e39bf92b472418181397afe6efc4a05",
       "version_major": 2,
       "version_minor": 0
      },
      "text/plain": [
       "  0%|          | 0/2 [00:00<?, ?batch/s]"
      ]
     },
     "metadata": {},
     "output_type": "display_data"
    },
    {
     "name": "stdout",
     "output_type": "stream",
     "text": [
      "Epoch 210, Val Loss: 0.000198, Val R2: 0.999803\n"
     ]
    },
    {
     "data": {
      "application/vnd.jupyter.widget-view+json": {
       "model_id": "ed04c0fdccbb4aa188cc6a08c24a0e8b",
       "version_major": 2,
       "version_minor": 0
      },
      "text/plain": [
       "  0%|          | 0/2 [00:00<?, ?batch/s]"
      ]
     },
     "metadata": {},
     "output_type": "display_data"
    },
    {
     "name": "stdout",
     "output_type": "stream",
     "text": [
      "Epoch 211, Val Loss: 0.000197, Val R2: 0.999804\n"
     ]
    },
    {
     "data": {
      "application/vnd.jupyter.widget-view+json": {
       "model_id": "6dd9c1ca206046e481e8e81a030d5639",
       "version_major": 2,
       "version_minor": 0
      },
      "text/plain": [
       "  0%|          | 0/2 [00:00<?, ?batch/s]"
      ]
     },
     "metadata": {},
     "output_type": "display_data"
    },
    {
     "name": "stdout",
     "output_type": "stream",
     "text": [
      "Epoch 212, Val Loss: 0.000195, Val R2: 0.999806\n"
     ]
    },
    {
     "data": {
      "application/vnd.jupyter.widget-view+json": {
       "model_id": "8342a9cfedcd404bbf3c108eb3cea71b",
       "version_major": 2,
       "version_minor": 0
      },
      "text/plain": [
       "  0%|          | 0/2 [00:00<?, ?batch/s]"
      ]
     },
     "metadata": {},
     "output_type": "display_data"
    },
    {
     "name": "stdout",
     "output_type": "stream",
     "text": [
      "Epoch 213, Val Loss: 0.000194, Val R2: 0.999807\n"
     ]
    },
    {
     "data": {
      "application/vnd.jupyter.widget-view+json": {
       "model_id": "dce6f2a35a6f4a90bc3900f15acfbffd",
       "version_major": 2,
       "version_minor": 0
      },
      "text/plain": [
       "  0%|          | 0/2 [00:00<?, ?batch/s]"
      ]
     },
     "metadata": {},
     "output_type": "display_data"
    },
    {
     "name": "stdout",
     "output_type": "stream",
     "text": [
      "Epoch 214, Val Loss: 0.000192, Val R2: 0.999809\n"
     ]
    },
    {
     "data": {
      "application/vnd.jupyter.widget-view+json": {
       "model_id": "605c08d1cf344d90be5bbccad7779690",
       "version_major": 2,
       "version_minor": 0
      },
      "text/plain": [
       "  0%|          | 0/2 [00:00<?, ?batch/s]"
      ]
     },
     "metadata": {},
     "output_type": "display_data"
    },
    {
     "name": "stdout",
     "output_type": "stream",
     "text": [
      "Epoch 215, Val Loss: 0.000191, Val R2: 0.999810\n"
     ]
    },
    {
     "data": {
      "application/vnd.jupyter.widget-view+json": {
       "model_id": "0d211a8bd19a405eb18cca0f7ef960f5",
       "version_major": 2,
       "version_minor": 0
      },
      "text/plain": [
       "  0%|          | 0/2 [00:00<?, ?batch/s]"
      ]
     },
     "metadata": {},
     "output_type": "display_data"
    },
    {
     "name": "stdout",
     "output_type": "stream",
     "text": [
      "Epoch 216, Val Loss: 0.000190, Val R2: 0.999812\n"
     ]
    },
    {
     "data": {
      "application/vnd.jupyter.widget-view+json": {
       "model_id": "d7ff3be996c744bbb2f8e84c454bd3f8",
       "version_major": 2,
       "version_minor": 0
      },
      "text/plain": [
       "  0%|          | 0/2 [00:00<?, ?batch/s]"
      ]
     },
     "metadata": {},
     "output_type": "display_data"
    },
    {
     "name": "stdout",
     "output_type": "stream",
     "text": [
      "Epoch 217, Val Loss: 0.000188, Val R2: 0.999813\n"
     ]
    },
    {
     "data": {
      "application/vnd.jupyter.widget-view+json": {
       "model_id": "c2c223a1070848d2a084c0e066ac7b7e",
       "version_major": 2,
       "version_minor": 0
      },
      "text/plain": [
       "  0%|          | 0/2 [00:00<?, ?batch/s]"
      ]
     },
     "metadata": {},
     "output_type": "display_data"
    },
    {
     "name": "stdout",
     "output_type": "stream",
     "text": [
      "Epoch 218, Val Loss: 0.000187, Val R2: 0.999815\n"
     ]
    },
    {
     "data": {
      "application/vnd.jupyter.widget-view+json": {
       "model_id": "fbad4d0b57c54aa8b6765a17e85427cf",
       "version_major": 2,
       "version_minor": 0
      },
      "text/plain": [
       "  0%|          | 0/2 [00:00<?, ?batch/s]"
      ]
     },
     "metadata": {},
     "output_type": "display_data"
    },
    {
     "name": "stdout",
     "output_type": "stream",
     "text": [
      "Epoch 219, Val Loss: 0.000185, Val R2: 0.999816\n"
     ]
    },
    {
     "data": {
      "application/vnd.jupyter.widget-view+json": {
       "model_id": "ed4c63fa5f974b03b148911c41fa6d38",
       "version_major": 2,
       "version_minor": 0
      },
      "text/plain": [
       "  0%|          | 0/2 [00:00<?, ?batch/s]"
      ]
     },
     "metadata": {},
     "output_type": "display_data"
    },
    {
     "name": "stdout",
     "output_type": "stream",
     "text": [
      "Epoch 220, Val Loss: 0.000184, Val R2: 0.999817\n"
     ]
    },
    {
     "data": {
      "application/vnd.jupyter.widget-view+json": {
       "model_id": "83bf10143db9418384eae9abfaa0c4c8",
       "version_major": 2,
       "version_minor": 0
      },
      "text/plain": [
       "  0%|          | 0/2 [00:00<?, ?batch/s]"
      ]
     },
     "metadata": {},
     "output_type": "display_data"
    },
    {
     "name": "stdout",
     "output_type": "stream",
     "text": [
      "Epoch 221, Val Loss: 0.000183, Val R2: 0.999819\n"
     ]
    },
    {
     "data": {
      "application/vnd.jupyter.widget-view+json": {
       "model_id": "d6cd85530bde4c44b64267c58c9ef238",
       "version_major": 2,
       "version_minor": 0
      },
      "text/plain": [
       "  0%|          | 0/2 [00:00<?, ?batch/s]"
      ]
     },
     "metadata": {},
     "output_type": "display_data"
    },
    {
     "name": "stdout",
     "output_type": "stream",
     "text": [
      "Epoch 222, Val Loss: 0.000181, Val R2: 0.999820\n"
     ]
    },
    {
     "data": {
      "application/vnd.jupyter.widget-view+json": {
       "model_id": "6bff463fafdc46ef930756fae771c566",
       "version_major": 2,
       "version_minor": 0
      },
      "text/plain": [
       "  0%|          | 0/2 [00:00<?, ?batch/s]"
      ]
     },
     "metadata": {},
     "output_type": "display_data"
    },
    {
     "name": "stdout",
     "output_type": "stream",
     "text": [
      "Epoch 223, Val Loss: 0.000180, Val R2: 0.999821\n"
     ]
    },
    {
     "data": {
      "application/vnd.jupyter.widget-view+json": {
       "model_id": "73e9a98c2710433d88b1a7b7f0745da8",
       "version_major": 2,
       "version_minor": 0
      },
      "text/plain": [
       "  0%|          | 0/2 [00:00<?, ?batch/s]"
      ]
     },
     "metadata": {},
     "output_type": "display_data"
    },
    {
     "name": "stdout",
     "output_type": "stream",
     "text": [
      "Epoch 224, Val Loss: 0.000179, Val R2: 0.999823\n"
     ]
    },
    {
     "data": {
      "application/vnd.jupyter.widget-view+json": {
       "model_id": "da17cbbe96614fe6a6f72ee6e2102967",
       "version_major": 2,
       "version_minor": 0
      },
      "text/plain": [
       "  0%|          | 0/2 [00:00<?, ?batch/s]"
      ]
     },
     "metadata": {},
     "output_type": "display_data"
    },
    {
     "name": "stdout",
     "output_type": "stream",
     "text": [
      "Epoch 225, Val Loss: 0.000177, Val R2: 0.999824\n"
     ]
    },
    {
     "data": {
      "application/vnd.jupyter.widget-view+json": {
       "model_id": "8d62ce11fb6642aa92a84f7525cb3a31",
       "version_major": 2,
       "version_minor": 0
      },
      "text/plain": [
       "  0%|          | 0/2 [00:00<?, ?batch/s]"
      ]
     },
     "metadata": {},
     "output_type": "display_data"
    },
    {
     "name": "stdout",
     "output_type": "stream",
     "text": [
      "Epoch 226, Val Loss: 0.000176, Val R2: 0.999825\n"
     ]
    },
    {
     "data": {
      "application/vnd.jupyter.widget-view+json": {
       "model_id": "282f1b5e45894aea8cff3093f364b1db",
       "version_major": 2,
       "version_minor": 0
      },
      "text/plain": [
       "  0%|          | 0/2 [00:00<?, ?batch/s]"
      ]
     },
     "metadata": {},
     "output_type": "display_data"
    },
    {
     "name": "stdout",
     "output_type": "stream",
     "text": [
      "Epoch 227, Val Loss: 0.000175, Val R2: 0.999826\n"
     ]
    },
    {
     "data": {
      "application/vnd.jupyter.widget-view+json": {
       "model_id": "68d76f1604bd430783aa7b8411e9ea0a",
       "version_major": 2,
       "version_minor": 0
      },
      "text/plain": [
       "  0%|          | 0/2 [00:00<?, ?batch/s]"
      ]
     },
     "metadata": {},
     "output_type": "display_data"
    },
    {
     "name": "stdout",
     "output_type": "stream",
     "text": [
      "Epoch 228, Val Loss: 0.000174, Val R2: 0.999828\n"
     ]
    },
    {
     "data": {
      "application/vnd.jupyter.widget-view+json": {
       "model_id": "f3a678b946fa4d9189a7ebc31d6dfa48",
       "version_major": 2,
       "version_minor": 0
      },
      "text/plain": [
       "  0%|          | 0/2 [00:00<?, ?batch/s]"
      ]
     },
     "metadata": {},
     "output_type": "display_data"
    },
    {
     "name": "stdout",
     "output_type": "stream",
     "text": [
      "Epoch 229, Val Loss: 0.000172, Val R2: 0.999829\n"
     ]
    },
    {
     "data": {
      "application/vnd.jupyter.widget-view+json": {
       "model_id": "284bdd92afff47dfa494e811726905c3",
       "version_major": 2,
       "version_minor": 0
      },
      "text/plain": [
       "  0%|          | 0/2 [00:00<?, ?batch/s]"
      ]
     },
     "metadata": {},
     "output_type": "display_data"
    },
    {
     "name": "stdout",
     "output_type": "stream",
     "text": [
      "Epoch 230, Val Loss: 0.000171, Val R2: 0.999830\n"
     ]
    },
    {
     "data": {
      "application/vnd.jupyter.widget-view+json": {
       "model_id": "6dfb7f66479f418f8186a2bde6edbf57",
       "version_major": 2,
       "version_minor": 0
      },
      "text/plain": [
       "  0%|          | 0/2 [00:00<?, ?batch/s]"
      ]
     },
     "metadata": {},
     "output_type": "display_data"
    },
    {
     "name": "stdout",
     "output_type": "stream",
     "text": [
      "Epoch 231, Val Loss: 0.000170, Val R2: 0.999831\n"
     ]
    },
    {
     "data": {
      "application/vnd.jupyter.widget-view+json": {
       "model_id": "5a10d8358c53481c90f0abbce0a1dbee",
       "version_major": 2,
       "version_minor": 0
      },
      "text/plain": [
       "  0%|          | 0/2 [00:00<?, ?batch/s]"
      ]
     },
     "metadata": {},
     "output_type": "display_data"
    },
    {
     "name": "stdout",
     "output_type": "stream",
     "text": [
      "Epoch 232, Val Loss: 0.000169, Val R2: 0.999832\n"
     ]
    },
    {
     "data": {
      "application/vnd.jupyter.widget-view+json": {
       "model_id": "5a325471c1ba44fb9d6b01bc021330bb",
       "version_major": 2,
       "version_minor": 0
      },
      "text/plain": [
       "  0%|          | 0/2 [00:00<?, ?batch/s]"
      ]
     },
     "metadata": {},
     "output_type": "display_data"
    },
    {
     "name": "stdout",
     "output_type": "stream",
     "text": [
      "Epoch 233, Val Loss: 0.000168, Val R2: 0.999834\n"
     ]
    },
    {
     "data": {
      "application/vnd.jupyter.widget-view+json": {
       "model_id": "af5c9ab6314d4710b56970a82d7a883f",
       "version_major": 2,
       "version_minor": 0
      },
      "text/plain": [
       "  0%|          | 0/2 [00:00<?, ?batch/s]"
      ]
     },
     "metadata": {},
     "output_type": "display_data"
    },
    {
     "name": "stdout",
     "output_type": "stream",
     "text": [
      "Epoch 234, Val Loss: 0.000167, Val R2: 0.999835\n"
     ]
    },
    {
     "data": {
      "application/vnd.jupyter.widget-view+json": {
       "model_id": "32cd54af5ec1442aa3d659f7b1c31639",
       "version_major": 2,
       "version_minor": 0
      },
      "text/plain": [
       "  0%|          | 0/2 [00:00<?, ?batch/s]"
      ]
     },
     "metadata": {},
     "output_type": "display_data"
    },
    {
     "name": "stdout",
     "output_type": "stream",
     "text": [
      "Epoch 235, Val Loss: 0.000165, Val R2: 0.999836\n"
     ]
    },
    {
     "data": {
      "application/vnd.jupyter.widget-view+json": {
       "model_id": "071804019d7c4c38b4a04dc6e5691813",
       "version_major": 2,
       "version_minor": 0
      },
      "text/plain": [
       "  0%|          | 0/2 [00:00<?, ?batch/s]"
      ]
     },
     "metadata": {},
     "output_type": "display_data"
    },
    {
     "name": "stdout",
     "output_type": "stream",
     "text": [
      "Epoch 236, Val Loss: 0.000164, Val R2: 0.999837\n"
     ]
    },
    {
     "data": {
      "application/vnd.jupyter.widget-view+json": {
       "model_id": "d65681594ede48709a32d8ab33216509",
       "version_major": 2,
       "version_minor": 0
      },
      "text/plain": [
       "  0%|          | 0/2 [00:00<?, ?batch/s]"
      ]
     },
     "metadata": {},
     "output_type": "display_data"
    },
    {
     "name": "stdout",
     "output_type": "stream",
     "text": [
      "Epoch 237, Val Loss: 0.000163, Val R2: 0.999838\n"
     ]
    },
    {
     "data": {
      "application/vnd.jupyter.widget-view+json": {
       "model_id": "d0dc715ccd57414ebdece9c76e39529e",
       "version_major": 2,
       "version_minor": 0
      },
      "text/plain": [
       "  0%|          | 0/2 [00:00<?, ?batch/s]"
      ]
     },
     "metadata": {},
     "output_type": "display_data"
    },
    {
     "name": "stdout",
     "output_type": "stream",
     "text": [
      "Epoch 238, Val Loss: 0.000162, Val R2: 0.999839\n"
     ]
    },
    {
     "data": {
      "application/vnd.jupyter.widget-view+json": {
       "model_id": "6f88ed52556848f69679b5d33ffd11fd",
       "version_major": 2,
       "version_minor": 0
      },
      "text/plain": [
       "  0%|          | 0/2 [00:00<?, ?batch/s]"
      ]
     },
     "metadata": {},
     "output_type": "display_data"
    },
    {
     "name": "stdout",
     "output_type": "stream",
     "text": [
      "Epoch 239, Val Loss: 0.000161, Val R2: 0.999840\n"
     ]
    },
    {
     "data": {
      "application/vnd.jupyter.widget-view+json": {
       "model_id": "9ccebc0ecb0941b9ad6a1d91af024872",
       "version_major": 2,
       "version_minor": 0
      },
      "text/plain": [
       "  0%|          | 0/2 [00:00<?, ?batch/s]"
      ]
     },
     "metadata": {},
     "output_type": "display_data"
    },
    {
     "name": "stdout",
     "output_type": "stream",
     "text": [
      "Epoch 240, Val Loss: 0.000160, Val R2: 0.999841\n"
     ]
    },
    {
     "data": {
      "application/vnd.jupyter.widget-view+json": {
       "model_id": "5bf2e6fd38e44874bf04a5b212bf903c",
       "version_major": 2,
       "version_minor": 0
      },
      "text/plain": [
       "  0%|          | 0/2 [00:00<?, ?batch/s]"
      ]
     },
     "metadata": {},
     "output_type": "display_data"
    },
    {
     "name": "stdout",
     "output_type": "stream",
     "text": [
      "Epoch 241, Val Loss: 0.000159, Val R2: 0.999842\n"
     ]
    },
    {
     "data": {
      "application/vnd.jupyter.widget-view+json": {
       "model_id": "6af373a6ba8d4113bde616dfba38f881",
       "version_major": 2,
       "version_minor": 0
      },
      "text/plain": [
       "  0%|          | 0/2 [00:00<?, ?batch/s]"
      ]
     },
     "metadata": {},
     "output_type": "display_data"
    },
    {
     "name": "stdout",
     "output_type": "stream",
     "text": [
      "Epoch 242, Val Loss: 0.000158, Val R2: 0.999843\n"
     ]
    },
    {
     "data": {
      "application/vnd.jupyter.widget-view+json": {
       "model_id": "e7dfad7718f64feaa0d70bd5e3c3546e",
       "version_major": 2,
       "version_minor": 0
      },
      "text/plain": [
       "  0%|          | 0/2 [00:00<?, ?batch/s]"
      ]
     },
     "metadata": {},
     "output_type": "display_data"
    },
    {
     "name": "stdout",
     "output_type": "stream",
     "text": [
      "Epoch 243, Val Loss: 0.000157, Val R2: 0.999845\n"
     ]
    },
    {
     "data": {
      "application/vnd.jupyter.widget-view+json": {
       "model_id": "da4850d34d94413ba017725994820d06",
       "version_major": 2,
       "version_minor": 0
      },
      "text/plain": [
       "  0%|          | 0/2 [00:00<?, ?batch/s]"
      ]
     },
     "metadata": {},
     "output_type": "display_data"
    },
    {
     "name": "stdout",
     "output_type": "stream",
     "text": [
      "Epoch 244, Val Loss: 0.000156, Val R2: 0.999846\n"
     ]
    },
    {
     "data": {
      "application/vnd.jupyter.widget-view+json": {
       "model_id": "868b73a582ac44e5aaa60335a2248c45",
       "version_major": 2,
       "version_minor": 0
      },
      "text/plain": [
       "  0%|          | 0/2 [00:00<?, ?batch/s]"
      ]
     },
     "metadata": {},
     "output_type": "display_data"
    },
    {
     "name": "stdout",
     "output_type": "stream",
     "text": [
      "Epoch 245, Val Loss: 0.000154, Val R2: 0.999847\n"
     ]
    },
    {
     "data": {
      "application/vnd.jupyter.widget-view+json": {
       "model_id": "471bf36f8abf4e1da1f87211dd452945",
       "version_major": 2,
       "version_minor": 0
      },
      "text/plain": [
       "  0%|          | 0/2 [00:00<?, ?batch/s]"
      ]
     },
     "metadata": {},
     "output_type": "display_data"
    },
    {
     "name": "stdout",
     "output_type": "stream",
     "text": [
      "Epoch 246, Val Loss: 0.000153, Val R2: 0.999848\n"
     ]
    },
    {
     "data": {
      "application/vnd.jupyter.widget-view+json": {
       "model_id": "0cd1ff42fc1c4018ad922822ed98c49b",
       "version_major": 2,
       "version_minor": 0
      },
      "text/plain": [
       "  0%|          | 0/2 [00:00<?, ?batch/s]"
      ]
     },
     "metadata": {},
     "output_type": "display_data"
    },
    {
     "name": "stdout",
     "output_type": "stream",
     "text": [
      "Epoch 247, Val Loss: 0.000152, Val R2: 0.999849\n"
     ]
    },
    {
     "data": {
      "application/vnd.jupyter.widget-view+json": {
       "model_id": "0d6f4ce5e5ee43ba90e36fcddb81e70e",
       "version_major": 2,
       "version_minor": 0
      },
      "text/plain": [
       "  0%|          | 0/2 [00:00<?, ?batch/s]"
      ]
     },
     "metadata": {},
     "output_type": "display_data"
    },
    {
     "name": "stdout",
     "output_type": "stream",
     "text": [
      "Epoch 248, Val Loss: 0.000151, Val R2: 0.999850\n"
     ]
    },
    {
     "data": {
      "application/vnd.jupyter.widget-view+json": {
       "model_id": "8c1a360cbcde4f1f93c8d0a5b0d9b9d6",
       "version_major": 2,
       "version_minor": 0
      },
      "text/plain": [
       "  0%|          | 0/2 [00:00<?, ?batch/s]"
      ]
     },
     "metadata": {},
     "output_type": "display_data"
    },
    {
     "name": "stdout",
     "output_type": "stream",
     "text": [
      "Epoch 249, Val Loss: 0.000150, Val R2: 0.999851\n"
     ]
    },
    {
     "data": {
      "application/vnd.jupyter.widget-view+json": {
       "model_id": "401d3a5a865c4c3fa1d044c3d6a82114",
       "version_major": 2,
       "version_minor": 0
      },
      "text/plain": [
       "  0%|          | 0/2 [00:00<?, ?batch/s]"
      ]
     },
     "metadata": {},
     "output_type": "display_data"
    },
    {
     "name": "stdout",
     "output_type": "stream",
     "text": [
      "Epoch 250, Val Loss: 0.000149, Val R2: 0.999852\n"
     ]
    },
    {
     "data": {
      "application/vnd.jupyter.widget-view+json": {
       "model_id": "b60fddb7a2994d2d8b0426b617e578a7",
       "version_major": 2,
       "version_minor": 0
      },
      "text/plain": [
       "  0%|          | 0/2 [00:00<?, ?batch/s]"
      ]
     },
     "metadata": {},
     "output_type": "display_data"
    },
    {
     "name": "stdout",
     "output_type": "stream",
     "text": [
      "Epoch 251, Val Loss: 0.000148, Val R2: 0.999853\n"
     ]
    },
    {
     "data": {
      "application/vnd.jupyter.widget-view+json": {
       "model_id": "2d772d82fd5a44169db4c36b82c59d01",
       "version_major": 2,
       "version_minor": 0
      },
      "text/plain": [
       "  0%|          | 0/2 [00:00<?, ?batch/s]"
      ]
     },
     "metadata": {},
     "output_type": "display_data"
    },
    {
     "name": "stdout",
     "output_type": "stream",
     "text": [
      "Epoch 252, Val Loss: 0.000147, Val R2: 0.999854\n"
     ]
    },
    {
     "data": {
      "application/vnd.jupyter.widget-view+json": {
       "model_id": "7015870f99df47a2912b53d8bd5f894f",
       "version_major": 2,
       "version_minor": 0
      },
      "text/plain": [
       "  0%|          | 0/2 [00:00<?, ?batch/s]"
      ]
     },
     "metadata": {},
     "output_type": "display_data"
    },
    {
     "name": "stdout",
     "output_type": "stream",
     "text": [
      "Epoch 253, Val Loss: 0.000146, Val R2: 0.999855\n"
     ]
    },
    {
     "data": {
      "application/vnd.jupyter.widget-view+json": {
       "model_id": "5180758bc4d64e62a2a2d1ff930aeaf3",
       "version_major": 2,
       "version_minor": 0
      },
      "text/plain": [
       "  0%|          | 0/2 [00:00<?, ?batch/s]"
      ]
     },
     "metadata": {},
     "output_type": "display_data"
    },
    {
     "name": "stdout",
     "output_type": "stream",
     "text": [
      "Epoch 254, Val Loss: 0.000146, Val R2: 0.999856\n"
     ]
    },
    {
     "data": {
      "application/vnd.jupyter.widget-view+json": {
       "model_id": "bbe1a088fd1a499fa4e2e85189f92bdc",
       "version_major": 2,
       "version_minor": 0
      },
      "text/plain": [
       "  0%|          | 0/2 [00:00<?, ?batch/s]"
      ]
     },
     "metadata": {},
     "output_type": "display_data"
    },
    {
     "name": "stdout",
     "output_type": "stream",
     "text": [
      "Epoch 255, Val Loss: 0.000145, Val R2: 0.999856\n"
     ]
    },
    {
     "data": {
      "application/vnd.jupyter.widget-view+json": {
       "model_id": "c00d871293744cec832399df2b25e9fa",
       "version_major": 2,
       "version_minor": 0
      },
      "text/plain": [
       "  0%|          | 0/2 [00:00<?, ?batch/s]"
      ]
     },
     "metadata": {},
     "output_type": "display_data"
    },
    {
     "name": "stdout",
     "output_type": "stream",
     "text": [
      "Epoch 256, Val Loss: 0.000144, Val R2: 0.999857\n"
     ]
    },
    {
     "data": {
      "application/vnd.jupyter.widget-view+json": {
       "model_id": "08b96e2a05e3416bbfede511cfbfcd5c",
       "version_major": 2,
       "version_minor": 0
      },
      "text/plain": [
       "  0%|          | 0/2 [00:00<?, ?batch/s]"
      ]
     },
     "metadata": {},
     "output_type": "display_data"
    },
    {
     "name": "stdout",
     "output_type": "stream",
     "text": [
      "Epoch 257, Val Loss: 0.000143, Val R2: 0.999858\n"
     ]
    },
    {
     "data": {
      "application/vnd.jupyter.widget-view+json": {
       "model_id": "4c2067192cb24d83a082e288e7c84bc1",
       "version_major": 2,
       "version_minor": 0
      },
      "text/plain": [
       "  0%|          | 0/2 [00:00<?, ?batch/s]"
      ]
     },
     "metadata": {},
     "output_type": "display_data"
    },
    {
     "name": "stdout",
     "output_type": "stream",
     "text": [
      "Epoch 258, Val Loss: 0.000142, Val R2: 0.999859\n"
     ]
    },
    {
     "data": {
      "application/vnd.jupyter.widget-view+json": {
       "model_id": "53da0e3856bc4688ae2d22c09f82a8a1",
       "version_major": 2,
       "version_minor": 0
      },
      "text/plain": [
       "  0%|          | 0/2 [00:00<?, ?batch/s]"
      ]
     },
     "metadata": {},
     "output_type": "display_data"
    },
    {
     "name": "stdout",
     "output_type": "stream",
     "text": [
      "Epoch 259, Val Loss: 0.000141, Val R2: 0.999860\n"
     ]
    },
    {
     "data": {
      "application/vnd.jupyter.widget-view+json": {
       "model_id": "7484a2ec833b4f7c875cbf5d7ad91e95",
       "version_major": 2,
       "version_minor": 0
      },
      "text/plain": [
       "  0%|          | 0/2 [00:00<?, ?batch/s]"
      ]
     },
     "metadata": {},
     "output_type": "display_data"
    },
    {
     "name": "stdout",
     "output_type": "stream",
     "text": [
      "Epoch 260, Val Loss: 0.000140, Val R2: 0.999861\n"
     ]
    },
    {
     "data": {
      "application/vnd.jupyter.widget-view+json": {
       "model_id": "1cb58642d3a64b72a9b9125336d48a8d",
       "version_major": 2,
       "version_minor": 0
      },
      "text/plain": [
       "  0%|          | 0/2 [00:00<?, ?batch/s]"
      ]
     },
     "metadata": {},
     "output_type": "display_data"
    },
    {
     "name": "stdout",
     "output_type": "stream",
     "text": [
      "Epoch 261, Val Loss: 0.000139, Val R2: 0.999862\n"
     ]
    },
    {
     "data": {
      "application/vnd.jupyter.widget-view+json": {
       "model_id": "fc41c44564fe4fd08df6f0e4760e969f",
       "version_major": 2,
       "version_minor": 0
      },
      "text/plain": [
       "  0%|          | 0/2 [00:00<?, ?batch/s]"
      ]
     },
     "metadata": {},
     "output_type": "display_data"
    },
    {
     "name": "stdout",
     "output_type": "stream",
     "text": [
      "Epoch 262, Val Loss: 0.000138, Val R2: 0.999863\n"
     ]
    },
    {
     "data": {
      "application/vnd.jupyter.widget-view+json": {
       "model_id": "0a04fa5190154d308e04f6e99cee0d91",
       "version_major": 2,
       "version_minor": 0
      },
      "text/plain": [
       "  0%|          | 0/2 [00:00<?, ?batch/s]"
      ]
     },
     "metadata": {},
     "output_type": "display_data"
    },
    {
     "name": "stdout",
     "output_type": "stream",
     "text": [
      "Epoch 263, Val Loss: 0.000137, Val R2: 0.999864\n"
     ]
    },
    {
     "data": {
      "application/vnd.jupyter.widget-view+json": {
       "model_id": "a77b87fb18544980928718161caba0ab",
       "version_major": 2,
       "version_minor": 0
      },
      "text/plain": [
       "  0%|          | 0/2 [00:00<?, ?batch/s]"
      ]
     },
     "metadata": {},
     "output_type": "display_data"
    },
    {
     "name": "stdout",
     "output_type": "stream",
     "text": [
      "Epoch 264, Val Loss: 0.000136, Val R2: 0.999865\n"
     ]
    },
    {
     "data": {
      "application/vnd.jupyter.widget-view+json": {
       "model_id": "309d3b41e2184126b46af6997bf1e2c9",
       "version_major": 2,
       "version_minor": 0
      },
      "text/plain": [
       "  0%|          | 0/2 [00:00<?, ?batch/s]"
      ]
     },
     "metadata": {},
     "output_type": "display_data"
    },
    {
     "name": "stdout",
     "output_type": "stream",
     "text": [
      "Epoch 265, Val Loss: 0.000135, Val R2: 0.999866\n"
     ]
    },
    {
     "data": {
      "application/vnd.jupyter.widget-view+json": {
       "model_id": "bb9d83fe49344a0891c927656dab0806",
       "version_major": 2,
       "version_minor": 0
      },
      "text/plain": [
       "  0%|          | 0/2 [00:00<?, ?batch/s]"
      ]
     },
     "metadata": {},
     "output_type": "display_data"
    },
    {
     "name": "stdout",
     "output_type": "stream",
     "text": [
      "Epoch 266, Val Loss: 0.000135, Val R2: 0.999866\n"
     ]
    },
    {
     "data": {
      "application/vnd.jupyter.widget-view+json": {
       "model_id": "923d0d327a6342328d09d35b98ce5393",
       "version_major": 2,
       "version_minor": 0
      },
      "text/plain": [
       "  0%|          | 0/2 [00:00<?, ?batch/s]"
      ]
     },
     "metadata": {},
     "output_type": "display_data"
    },
    {
     "name": "stdout",
     "output_type": "stream",
     "text": [
      "Epoch 267, Val Loss: 0.000134, Val R2: 0.999867\n"
     ]
    },
    {
     "data": {
      "application/vnd.jupyter.widget-view+json": {
       "model_id": "e30b50a8563c4e8aa46120fefc64b5cd",
       "version_major": 2,
       "version_minor": 0
      },
      "text/plain": [
       "  0%|          | 0/2 [00:00<?, ?batch/s]"
      ]
     },
     "metadata": {},
     "output_type": "display_data"
    },
    {
     "name": "stdout",
     "output_type": "stream",
     "text": [
      "Epoch 268, Val Loss: 0.000133, Val R2: 0.999868\n"
     ]
    },
    {
     "data": {
      "application/vnd.jupyter.widget-view+json": {
       "model_id": "ac9f7200454a49a2baca298eb466f9df",
       "version_major": 2,
       "version_minor": 0
      },
      "text/plain": [
       "  0%|          | 0/2 [00:00<?, ?batch/s]"
      ]
     },
     "metadata": {},
     "output_type": "display_data"
    },
    {
     "name": "stdout",
     "output_type": "stream",
     "text": [
      "Epoch 269, Val Loss: 0.000132, Val R2: 0.999869\n"
     ]
    },
    {
     "data": {
      "application/vnd.jupyter.widget-view+json": {
       "model_id": "171733f00ec44db1a304a8efc882bec5",
       "version_major": 2,
       "version_minor": 0
      },
      "text/plain": [
       "  0%|          | 0/2 [00:00<?, ?batch/s]"
      ]
     },
     "metadata": {},
     "output_type": "display_data"
    },
    {
     "name": "stdout",
     "output_type": "stream",
     "text": [
      "Epoch 270, Val Loss: 0.000131, Val R2: 0.999870\n"
     ]
    },
    {
     "data": {
      "application/vnd.jupyter.widget-view+json": {
       "model_id": "b7159da1a97647499a7a87af9ba7d353",
       "version_major": 2,
       "version_minor": 0
      },
      "text/plain": [
       "  0%|          | 0/2 [00:00<?, ?batch/s]"
      ]
     },
     "metadata": {},
     "output_type": "display_data"
    },
    {
     "name": "stdout",
     "output_type": "stream",
     "text": [
      "Epoch 271, Val Loss: 0.000130, Val R2: 0.999871\n"
     ]
    },
    {
     "data": {
      "application/vnd.jupyter.widget-view+json": {
       "model_id": "a7101ec9322b48eba466838c897f232e",
       "version_major": 2,
       "version_minor": 0
      },
      "text/plain": [
       "  0%|          | 0/2 [00:00<?, ?batch/s]"
      ]
     },
     "metadata": {},
     "output_type": "display_data"
    },
    {
     "name": "stdout",
     "output_type": "stream",
     "text": [
      "Epoch 272, Val Loss: 0.000129, Val R2: 0.999871\n"
     ]
    },
    {
     "data": {
      "application/vnd.jupyter.widget-view+json": {
       "model_id": "03283b3e699e40538826583a818f54d8",
       "version_major": 2,
       "version_minor": 0
      },
      "text/plain": [
       "  0%|          | 0/2 [00:00<?, ?batch/s]"
      ]
     },
     "metadata": {},
     "output_type": "display_data"
    },
    {
     "name": "stdout",
     "output_type": "stream",
     "text": [
      "Epoch 273, Val Loss: 0.000129, Val R2: 0.999872\n"
     ]
    },
    {
     "data": {
      "application/vnd.jupyter.widget-view+json": {
       "model_id": "01f04495613b4c53aab470c0f77827d1",
       "version_major": 2,
       "version_minor": 0
      },
      "text/plain": [
       "  0%|          | 0/2 [00:00<?, ?batch/s]"
      ]
     },
     "metadata": {},
     "output_type": "display_data"
    },
    {
     "name": "stdout",
     "output_type": "stream",
     "text": [
      "Epoch 274, Val Loss: 0.000128, Val R2: 0.999873\n"
     ]
    },
    {
     "data": {
      "application/vnd.jupyter.widget-view+json": {
       "model_id": "f986a9082a564ee389f4ef9a1a9c268e",
       "version_major": 2,
       "version_minor": 0
      },
      "text/plain": [
       "  0%|          | 0/2 [00:00<?, ?batch/s]"
      ]
     },
     "metadata": {},
     "output_type": "display_data"
    },
    {
     "name": "stdout",
     "output_type": "stream",
     "text": [
      "Epoch 275, Val Loss: 0.000127, Val R2: 0.999874\n"
     ]
    },
    {
     "data": {
      "application/vnd.jupyter.widget-view+json": {
       "model_id": "8ce1ee7f095b49adae01cbb55d7003bf",
       "version_major": 2,
       "version_minor": 0
      },
      "text/plain": [
       "  0%|          | 0/2 [00:00<?, ?batch/s]"
      ]
     },
     "metadata": {},
     "output_type": "display_data"
    },
    {
     "name": "stdout",
     "output_type": "stream",
     "text": [
      "Epoch 276, Val Loss: 0.000126, Val R2: 0.999875\n"
     ]
    },
    {
     "data": {
      "application/vnd.jupyter.widget-view+json": {
       "model_id": "1532606383a64a0d82a1dfdecb07e544",
       "version_major": 2,
       "version_minor": 0
      },
      "text/plain": [
       "  0%|          | 0/2 [00:00<?, ?batch/s]"
      ]
     },
     "metadata": {},
     "output_type": "display_data"
    },
    {
     "name": "stdout",
     "output_type": "stream",
     "text": [
      "Epoch 277, Val Loss: 0.000125, Val R2: 0.999875\n"
     ]
    },
    {
     "data": {
      "application/vnd.jupyter.widget-view+json": {
       "model_id": "ebd714c7639640a4a11caaa8f4789596",
       "version_major": 2,
       "version_minor": 0
      },
      "text/plain": [
       "  0%|          | 0/2 [00:00<?, ?batch/s]"
      ]
     },
     "metadata": {},
     "output_type": "display_data"
    },
    {
     "name": "stdout",
     "output_type": "stream",
     "text": [
      "Epoch 278, Val Loss: 0.000125, Val R2: 0.999876\n"
     ]
    },
    {
     "data": {
      "application/vnd.jupyter.widget-view+json": {
       "model_id": "c616c460669e4bdcb11cb0b470e0f759",
       "version_major": 2,
       "version_minor": 0
      },
      "text/plain": [
       "  0%|          | 0/2 [00:00<?, ?batch/s]"
      ]
     },
     "metadata": {},
     "output_type": "display_data"
    },
    {
     "name": "stdout",
     "output_type": "stream",
     "text": [
      "Epoch 279, Val Loss: 0.000124, Val R2: 0.999877\n"
     ]
    },
    {
     "data": {
      "application/vnd.jupyter.widget-view+json": {
       "model_id": "e08ebf6386ae40b78ece065494b8d736",
       "version_major": 2,
       "version_minor": 0
      },
      "text/plain": [
       "  0%|          | 0/2 [00:00<?, ?batch/s]"
      ]
     },
     "metadata": {},
     "output_type": "display_data"
    },
    {
     "name": "stdout",
     "output_type": "stream",
     "text": [
      "Epoch 280, Val Loss: 0.000123, Val R2: 0.999878\n"
     ]
    },
    {
     "data": {
      "application/vnd.jupyter.widget-view+json": {
       "model_id": "ca0565baa9ca4ad08d40b551522cadb1",
       "version_major": 2,
       "version_minor": 0
      },
      "text/plain": [
       "  0%|          | 0/2 [00:00<?, ?batch/s]"
      ]
     },
     "metadata": {},
     "output_type": "display_data"
    },
    {
     "name": "stdout",
     "output_type": "stream",
     "text": [
      "Epoch 281, Val Loss: 0.000122, Val R2: 0.999879\n"
     ]
    },
    {
     "data": {
      "application/vnd.jupyter.widget-view+json": {
       "model_id": "7d14fc0148f54c6a85cf1dac6f8d5028",
       "version_major": 2,
       "version_minor": 0
      },
      "text/plain": [
       "  0%|          | 0/2 [00:00<?, ?batch/s]"
      ]
     },
     "metadata": {},
     "output_type": "display_data"
    },
    {
     "name": "stdout",
     "output_type": "stream",
     "text": [
      "Epoch 282, Val Loss: 0.000122, Val R2: 0.999879\n"
     ]
    },
    {
     "data": {
      "application/vnd.jupyter.widget-view+json": {
       "model_id": "26088c2f61bd4b2ab2c8f3421b63382d",
       "version_major": 2,
       "version_minor": 0
      },
      "text/plain": [
       "  0%|          | 0/2 [00:00<?, ?batch/s]"
      ]
     },
     "metadata": {},
     "output_type": "display_data"
    },
    {
     "name": "stdout",
     "output_type": "stream",
     "text": [
      "Epoch 283, Val Loss: 0.000121, Val R2: 0.999880\n"
     ]
    },
    {
     "data": {
      "application/vnd.jupyter.widget-view+json": {
       "model_id": "8f95fd6fa1044ed2a22fdb01f41a138b",
       "version_major": 2,
       "version_minor": 0
      },
      "text/plain": [
       "  0%|          | 0/2 [00:00<?, ?batch/s]"
      ]
     },
     "metadata": {},
     "output_type": "display_data"
    },
    {
     "name": "stdout",
     "output_type": "stream",
     "text": [
      "Epoch 284, Val Loss: 0.000120, Val R2: 0.999881\n"
     ]
    },
    {
     "data": {
      "application/vnd.jupyter.widget-view+json": {
       "model_id": "5f18a2a61e4a416396a232eee61c8d1d",
       "version_major": 2,
       "version_minor": 0
      },
      "text/plain": [
       "  0%|          | 0/2 [00:00<?, ?batch/s]"
      ]
     },
     "metadata": {},
     "output_type": "display_data"
    },
    {
     "name": "stdout",
     "output_type": "stream",
     "text": [
      "Epoch 285, Val Loss: 0.000119, Val R2: 0.999882\n"
     ]
    },
    {
     "data": {
      "application/vnd.jupyter.widget-view+json": {
       "model_id": "9cae0765efb8460190e00bdb7b738a9f",
       "version_major": 2,
       "version_minor": 0
      },
      "text/plain": [
       "  0%|          | 0/2 [00:00<?, ?batch/s]"
      ]
     },
     "metadata": {},
     "output_type": "display_data"
    },
    {
     "name": "stdout",
     "output_type": "stream",
     "text": [
      "Epoch 286, Val Loss: 0.000119, Val R2: 0.999882\n"
     ]
    },
    {
     "data": {
      "application/vnd.jupyter.widget-view+json": {
       "model_id": "d4b06d603a6a4371b523890efb8a1852",
       "version_major": 2,
       "version_minor": 0
      },
      "text/plain": [
       "  0%|          | 0/2 [00:00<?, ?batch/s]"
      ]
     },
     "metadata": {},
     "output_type": "display_data"
    },
    {
     "name": "stdout",
     "output_type": "stream",
     "text": [
      "Epoch 287, Val Loss: 0.000118, Val R2: 0.999883\n"
     ]
    },
    {
     "data": {
      "application/vnd.jupyter.widget-view+json": {
       "model_id": "4d5a1a83c58a4c49a1ab26688947dbbe",
       "version_major": 2,
       "version_minor": 0
      },
      "text/plain": [
       "  0%|          | 0/2 [00:00<?, ?batch/s]"
      ]
     },
     "metadata": {},
     "output_type": "display_data"
    },
    {
     "name": "stdout",
     "output_type": "stream",
     "text": [
      "Epoch 288, Val Loss: 0.000117, Val R2: 0.999884\n"
     ]
    },
    {
     "data": {
      "application/vnd.jupyter.widget-view+json": {
       "model_id": "19917cc152e940f4994be6d0de00599f",
       "version_major": 2,
       "version_minor": 0
      },
      "text/plain": [
       "  0%|          | 0/2 [00:00<?, ?batch/s]"
      ]
     },
     "metadata": {},
     "output_type": "display_data"
    },
    {
     "name": "stdout",
     "output_type": "stream",
     "text": [
      "Epoch 289, Val Loss: 0.000116, Val R2: 0.999885\n"
     ]
    },
    {
     "data": {
      "application/vnd.jupyter.widget-view+json": {
       "model_id": "14c620844512424189a5f797c10b568d",
       "version_major": 2,
       "version_minor": 0
      },
      "text/plain": [
       "  0%|          | 0/2 [00:00<?, ?batch/s]"
      ]
     },
     "metadata": {},
     "output_type": "display_data"
    },
    {
     "name": "stdout",
     "output_type": "stream",
     "text": [
      "Epoch 290, Val Loss: 0.000116, Val R2: 0.999885\n"
     ]
    },
    {
     "data": {
      "application/vnd.jupyter.widget-view+json": {
       "model_id": "97079008e9bd4b6fb71fcad605ecc7b3",
       "version_major": 2,
       "version_minor": 0
      },
      "text/plain": [
       "  0%|          | 0/2 [00:00<?, ?batch/s]"
      ]
     },
     "metadata": {},
     "output_type": "display_data"
    },
    {
     "name": "stdout",
     "output_type": "stream",
     "text": [
      "Epoch 291, Val Loss: 0.000115, Val R2: 0.999886\n"
     ]
    },
    {
     "data": {
      "application/vnd.jupyter.widget-view+json": {
       "model_id": "685c5b7a13b8428a9598ebd87ea2ce97",
       "version_major": 2,
       "version_minor": 0
      },
      "text/plain": [
       "  0%|          | 0/2 [00:00<?, ?batch/s]"
      ]
     },
     "metadata": {},
     "output_type": "display_data"
    },
    {
     "name": "stdout",
     "output_type": "stream",
     "text": [
      "Epoch 292, Val Loss: 0.000114, Val R2: 0.999887\n"
     ]
    },
    {
     "data": {
      "application/vnd.jupyter.widget-view+json": {
       "model_id": "4128b5b70e4b4c96b19c564e9df7d207",
       "version_major": 2,
       "version_minor": 0
      },
      "text/plain": [
       "  0%|          | 0/2 [00:00<?, ?batch/s]"
      ]
     },
     "metadata": {},
     "output_type": "display_data"
    },
    {
     "name": "stdout",
     "output_type": "stream",
     "text": [
      "Epoch 293, Val Loss: 0.000113, Val R2: 0.999887\n"
     ]
    },
    {
     "data": {
      "application/vnd.jupyter.widget-view+json": {
       "model_id": "868269e60c57442580b71d66ea199696",
       "version_major": 2,
       "version_minor": 0
      },
      "text/plain": [
       "  0%|          | 0/2 [00:00<?, ?batch/s]"
      ]
     },
     "metadata": {},
     "output_type": "display_data"
    },
    {
     "name": "stdout",
     "output_type": "stream",
     "text": [
      "Epoch 294, Val Loss: 0.000113, Val R2: 0.999888\n"
     ]
    },
    {
     "data": {
      "application/vnd.jupyter.widget-view+json": {
       "model_id": "03b3a9fd7adc4ee18c8c3c2c439dc769",
       "version_major": 2,
       "version_minor": 0
      },
      "text/plain": [
       "  0%|          | 0/2 [00:00<?, ?batch/s]"
      ]
     },
     "metadata": {},
     "output_type": "display_data"
    },
    {
     "name": "stdout",
     "output_type": "stream",
     "text": [
      "Epoch 295, Val Loss: 0.000112, Val R2: 0.999889\n"
     ]
    },
    {
     "data": {
      "application/vnd.jupyter.widget-view+json": {
       "model_id": "780efc1ce59e4456a052ef88762044f9",
       "version_major": 2,
       "version_minor": 0
      },
      "text/plain": [
       "  0%|          | 0/2 [00:00<?, ?batch/s]"
      ]
     },
     "metadata": {},
     "output_type": "display_data"
    },
    {
     "name": "stdout",
     "output_type": "stream",
     "text": [
      "Epoch 296, Val Loss: 0.000111, Val R2: 0.999889\n"
     ]
    },
    {
     "data": {
      "application/vnd.jupyter.widget-view+json": {
       "model_id": "694350e19c01408e89cdaa61bd18cc7c",
       "version_major": 2,
       "version_minor": 0
      },
      "text/plain": [
       "  0%|          | 0/2 [00:00<?, ?batch/s]"
      ]
     },
     "metadata": {},
     "output_type": "display_data"
    },
    {
     "name": "stdout",
     "output_type": "stream",
     "text": [
      "Epoch 297, Val Loss: 0.000111, Val R2: 0.999890\n"
     ]
    },
    {
     "data": {
      "application/vnd.jupyter.widget-view+json": {
       "model_id": "a08fc83122d04927bab01a0f27d34fc4",
       "version_major": 2,
       "version_minor": 0
      },
      "text/plain": [
       "  0%|          | 0/2 [00:00<?, ?batch/s]"
      ]
     },
     "metadata": {},
     "output_type": "display_data"
    },
    {
     "name": "stdout",
     "output_type": "stream",
     "text": [
      "Epoch 298, Val Loss: 0.000110, Val R2: 0.999891\n"
     ]
    },
    {
     "data": {
      "application/vnd.jupyter.widget-view+json": {
       "model_id": "3faa23f1aa0344dcb3c56471e59e97fb",
       "version_major": 2,
       "version_minor": 0
      },
      "text/plain": [
       "  0%|          | 0/2 [00:00<?, ?batch/s]"
      ]
     },
     "metadata": {},
     "output_type": "display_data"
    },
    {
     "name": "stdout",
     "output_type": "stream",
     "text": [
      "Epoch 299, Val Loss: 0.000109, Val R2: 0.999891\n"
     ]
    },
    {
     "data": {
      "application/vnd.jupyter.widget-view+json": {
       "model_id": "9e22daa1911a402395ee5b74123acb08",
       "version_major": 2,
       "version_minor": 0
      },
      "text/plain": [
       "  0%|          | 0/2 [00:00<?, ?batch/s]"
      ]
     },
     "metadata": {},
     "output_type": "display_data"
    },
    {
     "name": "stdout",
     "output_type": "stream",
     "text": [
      "Epoch 300, Val Loss: 0.000109, Val R2: 0.999892\n"
     ]
    },
    {
     "data": {
      "application/vnd.jupyter.widget-view+json": {
       "model_id": "714073f95b7242bb8fe552c80733b3e2",
       "version_major": 2,
       "version_minor": 0
      },
      "text/plain": [
       "  0%|          | 0/2 [00:00<?, ?batch/s]"
      ]
     },
     "metadata": {},
     "output_type": "display_data"
    },
    {
     "name": "stdout",
     "output_type": "stream",
     "text": [
      "Epoch 301, Val Loss: 0.000108, Val R2: 0.999893\n"
     ]
    },
    {
     "data": {
      "application/vnd.jupyter.widget-view+json": {
       "model_id": "10607b4604e64e6cbe68d88f91bf59cb",
       "version_major": 2,
       "version_minor": 0
      },
      "text/plain": [
       "  0%|          | 0/2 [00:00<?, ?batch/s]"
      ]
     },
     "metadata": {},
     "output_type": "display_data"
    },
    {
     "name": "stdout",
     "output_type": "stream",
     "text": [
      "Epoch 302, Val Loss: 0.000107, Val R2: 0.999893\n"
     ]
    },
    {
     "data": {
      "application/vnd.jupyter.widget-view+json": {
       "model_id": "3bbe2f01fda84862899a75232f658462",
       "version_major": 2,
       "version_minor": 0
      },
      "text/plain": [
       "  0%|          | 0/2 [00:00<?, ?batch/s]"
      ]
     },
     "metadata": {},
     "output_type": "display_data"
    },
    {
     "name": "stdout",
     "output_type": "stream",
     "text": [
      "Epoch 303, Val Loss: 0.000107, Val R2: 0.999894\n"
     ]
    },
    {
     "data": {
      "application/vnd.jupyter.widget-view+json": {
       "model_id": "3d84c607df2841b791738d46b06cb8d4",
       "version_major": 2,
       "version_minor": 0
      },
      "text/plain": [
       "  0%|          | 0/2 [00:00<?, ?batch/s]"
      ]
     },
     "metadata": {},
     "output_type": "display_data"
    },
    {
     "name": "stdout",
     "output_type": "stream",
     "text": [
      "Epoch 304, Val Loss: 0.000106, Val R2: 0.999895\n"
     ]
    },
    {
     "data": {
      "application/vnd.jupyter.widget-view+json": {
       "model_id": "a099656564964e32b2a72f6f2689bce3",
       "version_major": 2,
       "version_minor": 0
      },
      "text/plain": [
       "  0%|          | 0/2 [00:00<?, ?batch/s]"
      ]
     },
     "metadata": {},
     "output_type": "display_data"
    },
    {
     "name": "stdout",
     "output_type": "stream",
     "text": [
      "Epoch 305, Val Loss: 0.000105, Val R2: 0.999895\n"
     ]
    },
    {
     "data": {
      "application/vnd.jupyter.widget-view+json": {
       "model_id": "cde2c396554446ae86d94f664da125d8",
       "version_major": 2,
       "version_minor": 0
      },
      "text/plain": [
       "  0%|          | 0/2 [00:00<?, ?batch/s]"
      ]
     },
     "metadata": {},
     "output_type": "display_data"
    },
    {
     "name": "stdout",
     "output_type": "stream",
     "text": [
      "Epoch 306, Val Loss: 0.000105, Val R2: 0.999896\n"
     ]
    },
    {
     "data": {
      "application/vnd.jupyter.widget-view+json": {
       "model_id": "16e05cf6f6b147c69aacbd73ab144458",
       "version_major": 2,
       "version_minor": 0
      },
      "text/plain": [
       "  0%|          | 0/2 [00:00<?, ?batch/s]"
      ]
     },
     "metadata": {},
     "output_type": "display_data"
    },
    {
     "name": "stdout",
     "output_type": "stream",
     "text": [
      "Epoch 307, Val Loss: 0.000104, Val R2: 0.999897\n"
     ]
    },
    {
     "data": {
      "application/vnd.jupyter.widget-view+json": {
       "model_id": "6f43b56073074556bbe9f63406603103",
       "version_major": 2,
       "version_minor": 0
      },
      "text/plain": [
       "  0%|          | 0/2 [00:00<?, ?batch/s]"
      ]
     },
     "metadata": {},
     "output_type": "display_data"
    },
    {
     "name": "stdout",
     "output_type": "stream",
     "text": [
      "Epoch 308, Val Loss: 0.000104, Val R2: 0.999897\n"
     ]
    },
    {
     "data": {
      "application/vnd.jupyter.widget-view+json": {
       "model_id": "87c45b60e06944afbdc66ac3b812a5db",
       "version_major": 2,
       "version_minor": 0
      },
      "text/plain": [
       "  0%|          | 0/2 [00:00<?, ?batch/s]"
      ]
     },
     "metadata": {},
     "output_type": "display_data"
    },
    {
     "name": "stdout",
     "output_type": "stream",
     "text": [
      "Epoch 309, Val Loss: 0.000103, Val R2: 0.999898\n"
     ]
    },
    {
     "data": {
      "application/vnd.jupyter.widget-view+json": {
       "model_id": "9d1f62eeab5f427f9d3a9570b891e08e",
       "version_major": 2,
       "version_minor": 0
      },
      "text/plain": [
       "  0%|          | 0/2 [00:00<?, ?batch/s]"
      ]
     },
     "metadata": {},
     "output_type": "display_data"
    },
    {
     "name": "stdout",
     "output_type": "stream",
     "text": [
      "Epoch 310, Val Loss: 0.000102, Val R2: 0.999898\n"
     ]
    },
    {
     "data": {
      "application/vnd.jupyter.widget-view+json": {
       "model_id": "faa63f2a34fd472990c4843b250dcf13",
       "version_major": 2,
       "version_minor": 0
      },
      "text/plain": [
       "  0%|          | 0/2 [00:00<?, ?batch/s]"
      ]
     },
     "metadata": {},
     "output_type": "display_data"
    },
    {
     "name": "stdout",
     "output_type": "stream",
     "text": [
      "Epoch 311, Val Loss: 0.000102, Val R2: 0.999899\n"
     ]
    },
    {
     "data": {
      "application/vnd.jupyter.widget-view+json": {
       "model_id": "35ff3d6c7ea14852a5b042c6c4668643",
       "version_major": 2,
       "version_minor": 0
      },
      "text/plain": [
       "  0%|          | 0/2 [00:00<?, ?batch/s]"
      ]
     },
     "metadata": {},
     "output_type": "display_data"
    },
    {
     "name": "stdout",
     "output_type": "stream",
     "text": [
      "Epoch 312, Val Loss: 0.000101, Val R2: 0.999900\n"
     ]
    },
    {
     "data": {
      "application/vnd.jupyter.widget-view+json": {
       "model_id": "9c6a0f32d4c248379f599eceaf9a214b",
       "version_major": 2,
       "version_minor": 0
      },
      "text/plain": [
       "  0%|          | 0/2 [00:00<?, ?batch/s]"
      ]
     },
     "metadata": {},
     "output_type": "display_data"
    },
    {
     "name": "stdout",
     "output_type": "stream",
     "text": [
      "Epoch 313, Val Loss: 0.000100, Val R2: 0.999900\n"
     ]
    },
    {
     "data": {
      "application/vnd.jupyter.widget-view+json": {
       "model_id": "6ecdb77e69e64417bb46569f6750ab45",
       "version_major": 2,
       "version_minor": 0
      },
      "text/plain": [
       "  0%|          | 0/2 [00:00<?, ?batch/s]"
      ]
     },
     "metadata": {},
     "output_type": "display_data"
    },
    {
     "name": "stdout",
     "output_type": "stream",
     "text": [
      "Epoch 314, Val Loss: 0.000100, Val R2: 0.999901\n"
     ]
    },
    {
     "data": {
      "application/vnd.jupyter.widget-view+json": {
       "model_id": "8c389ac1f6e24549aa4806d80658de97",
       "version_major": 2,
       "version_minor": 0
      },
      "text/plain": [
       "  0%|          | 0/2 [00:00<?, ?batch/s]"
      ]
     },
     "metadata": {},
     "output_type": "display_data"
    },
    {
     "name": "stdout",
     "output_type": "stream",
     "text": [
      "Epoch 315, Val Loss: 0.000099, Val R2: 0.999901\n"
     ]
    },
    {
     "data": {
      "application/vnd.jupyter.widget-view+json": {
       "model_id": "e58c970b7cd4491197463bef3754bf21",
       "version_major": 2,
       "version_minor": 0
      },
      "text/plain": [
       "  0%|          | 0/2 [00:00<?, ?batch/s]"
      ]
     },
     "metadata": {},
     "output_type": "display_data"
    },
    {
     "name": "stdout",
     "output_type": "stream",
     "text": [
      "Epoch 316, Val Loss: 0.000099, Val R2: 0.999902\n"
     ]
    },
    {
     "data": {
      "application/vnd.jupyter.widget-view+json": {
       "model_id": "b19ea88245f24c4b9290cf3dfbd5ca89",
       "version_major": 2,
       "version_minor": 0
      },
      "text/plain": [
       "  0%|          | 0/2 [00:00<?, ?batch/s]"
      ]
     },
     "metadata": {},
     "output_type": "display_data"
    },
    {
     "name": "stdout",
     "output_type": "stream",
     "text": [
      "Epoch 317, Val Loss: 0.000098, Val R2: 0.999903\n"
     ]
    },
    {
     "data": {
      "application/vnd.jupyter.widget-view+json": {
       "model_id": "531c1e5adac94af689b488ca943f4354",
       "version_major": 2,
       "version_minor": 0
      },
      "text/plain": [
       "  0%|          | 0/2 [00:00<?, ?batch/s]"
      ]
     },
     "metadata": {},
     "output_type": "display_data"
    },
    {
     "name": "stdout",
     "output_type": "stream",
     "text": [
      "Epoch 318, Val Loss: 0.000098, Val R2: 0.999903\n"
     ]
    },
    {
     "data": {
      "application/vnd.jupyter.widget-view+json": {
       "model_id": "29051b43f7b64e6b80c3b284a5eb378e",
       "version_major": 2,
       "version_minor": 0
      },
      "text/plain": [
       "  0%|          | 0/2 [00:00<?, ?batch/s]"
      ]
     },
     "metadata": {},
     "output_type": "display_data"
    },
    {
     "name": "stdout",
     "output_type": "stream",
     "text": [
      "Epoch 319, Val Loss: 0.000097, Val R2: 0.999904\n"
     ]
    },
    {
     "data": {
      "application/vnd.jupyter.widget-view+json": {
       "model_id": "369870f617d246bc96fa4cc3d4473a5f",
       "version_major": 2,
       "version_minor": 0
      },
      "text/plain": [
       "  0%|          | 0/2 [00:00<?, ?batch/s]"
      ]
     },
     "metadata": {},
     "output_type": "display_data"
    },
    {
     "name": "stdout",
     "output_type": "stream",
     "text": [
      "Epoch 320, Val Loss: 0.000096, Val R2: 0.999904\n"
     ]
    },
    {
     "data": {
      "application/vnd.jupyter.widget-view+json": {
       "model_id": "2e677d95406440d183eb2e70766d9012",
       "version_major": 2,
       "version_minor": 0
      },
      "text/plain": [
       "  0%|          | 0/2 [00:00<?, ?batch/s]"
      ]
     },
     "metadata": {},
     "output_type": "display_data"
    },
    {
     "name": "stdout",
     "output_type": "stream",
     "text": [
      "Epoch 321, Val Loss: 0.000096, Val R2: 0.999905\n"
     ]
    },
    {
     "data": {
      "application/vnd.jupyter.widget-view+json": {
       "model_id": "1f6e540b94f34a8c9be8f3c6d6cb6da0",
       "version_major": 2,
       "version_minor": 0
      },
      "text/plain": [
       "  0%|          | 0/2 [00:00<?, ?batch/s]"
      ]
     },
     "metadata": {},
     "output_type": "display_data"
    },
    {
     "name": "stdout",
     "output_type": "stream",
     "text": [
      "Epoch 322, Val Loss: 0.000095, Val R2: 0.999905\n"
     ]
    },
    {
     "data": {
      "application/vnd.jupyter.widget-view+json": {
       "model_id": "0e71697b4edd463c98c93cb47a6d5858",
       "version_major": 2,
       "version_minor": 0
      },
      "text/plain": [
       "  0%|          | 0/2 [00:00<?, ?batch/s]"
      ]
     },
     "metadata": {},
     "output_type": "display_data"
    },
    {
     "name": "stdout",
     "output_type": "stream",
     "text": [
      "Epoch 323, Val Loss: 0.000095, Val R2: 0.999906\n"
     ]
    },
    {
     "data": {
      "application/vnd.jupyter.widget-view+json": {
       "model_id": "238a299af08f449ea615438f82925dff",
       "version_major": 2,
       "version_minor": 0
      },
      "text/plain": [
       "  0%|          | 0/2 [00:00<?, ?batch/s]"
      ]
     },
     "metadata": {},
     "output_type": "display_data"
    },
    {
     "name": "stdout",
     "output_type": "stream",
     "text": [
      "Epoch 324, Val Loss: 0.000094, Val R2: 0.999906\n"
     ]
    },
    {
     "data": {
      "application/vnd.jupyter.widget-view+json": {
       "model_id": "3fb1d10a1e3e4680813546417dee0cf9",
       "version_major": 2,
       "version_minor": 0
      },
      "text/plain": [
       "  0%|          | 0/2 [00:00<?, ?batch/s]"
      ]
     },
     "metadata": {},
     "output_type": "display_data"
    },
    {
     "name": "stdout",
     "output_type": "stream",
     "text": [
      "Epoch 325, Val Loss: 0.000094, Val R2: 0.999907\n"
     ]
    },
    {
     "data": {
      "application/vnd.jupyter.widget-view+json": {
       "model_id": "ef8ab80119ab423fa956bdd1817e6115",
       "version_major": 2,
       "version_minor": 0
      },
      "text/plain": [
       "  0%|          | 0/2 [00:00<?, ?batch/s]"
      ]
     },
     "metadata": {},
     "output_type": "display_data"
    },
    {
     "name": "stdout",
     "output_type": "stream",
     "text": [
      "Epoch 326, Val Loss: 0.000093, Val R2: 0.999908\n"
     ]
    },
    {
     "data": {
      "application/vnd.jupyter.widget-view+json": {
       "model_id": "2e87c1a222af496d9215680bfcffad1f",
       "version_major": 2,
       "version_minor": 0
      },
      "text/plain": [
       "  0%|          | 0/2 [00:00<?, ?batch/s]"
      ]
     },
     "metadata": {},
     "output_type": "display_data"
    },
    {
     "name": "stdout",
     "output_type": "stream",
     "text": [
      "Epoch 327, Val Loss: 0.000093, Val R2: 0.999908\n"
     ]
    },
    {
     "data": {
      "application/vnd.jupyter.widget-view+json": {
       "model_id": "e4ed59ae47c648c4b6e0dff0ec1e4b73",
       "version_major": 2,
       "version_minor": 0
      },
      "text/plain": [
       "  0%|          | 0/2 [00:00<?, ?batch/s]"
      ]
     },
     "metadata": {},
     "output_type": "display_data"
    },
    {
     "name": "stdout",
     "output_type": "stream",
     "text": [
      "Epoch 328, Val Loss: 0.000092, Val R2: 0.999909\n"
     ]
    },
    {
     "data": {
      "application/vnd.jupyter.widget-view+json": {
       "model_id": "a5e50716c26b4258ae26b25d8f8fdafd",
       "version_major": 2,
       "version_minor": 0
      },
      "text/plain": [
       "  0%|          | 0/2 [00:00<?, ?batch/s]"
      ]
     },
     "metadata": {},
     "output_type": "display_data"
    },
    {
     "name": "stdout",
     "output_type": "stream",
     "text": [
      "Epoch 329, Val Loss: 0.000092, Val R2: 0.999909\n"
     ]
    },
    {
     "data": {
      "application/vnd.jupyter.widget-view+json": {
       "model_id": "c4c10580cf4d4518b9fa3de2a29a4a8d",
       "version_major": 2,
       "version_minor": 0
      },
      "text/plain": [
       "  0%|          | 0/2 [00:00<?, ?batch/s]"
      ]
     },
     "metadata": {},
     "output_type": "display_data"
    },
    {
     "name": "stdout",
     "output_type": "stream",
     "text": [
      "Epoch 330, Val Loss: 0.000091, Val R2: 0.999910\n"
     ]
    },
    {
     "data": {
      "application/vnd.jupyter.widget-view+json": {
       "model_id": "7fa00e40012e44e486f067b29033a242",
       "version_major": 2,
       "version_minor": 0
      },
      "text/plain": [
       "  0%|          | 0/2 [00:00<?, ?batch/s]"
      ]
     },
     "metadata": {},
     "output_type": "display_data"
    },
    {
     "name": "stdout",
     "output_type": "stream",
     "text": [
      "Epoch 331, Val Loss: 0.000090, Val R2: 0.999910\n"
     ]
    },
    {
     "data": {
      "application/vnd.jupyter.widget-view+json": {
       "model_id": "98caeb078c39456f81e69cd7f18d2a93",
       "version_major": 2,
       "version_minor": 0
      },
      "text/plain": [
       "  0%|          | 0/2 [00:00<?, ?batch/s]"
      ]
     },
     "metadata": {},
     "output_type": "display_data"
    },
    {
     "name": "stdout",
     "output_type": "stream",
     "text": [
      "Epoch 332, Val Loss: 0.000090, Val R2: 0.999911\n"
     ]
    },
    {
     "data": {
      "application/vnd.jupyter.widget-view+json": {
       "model_id": "bed6cdc18db3468fbc9f30c6f378d29b",
       "version_major": 2,
       "version_minor": 0
      },
      "text/plain": [
       "  0%|          | 0/2 [00:00<?, ?batch/s]"
      ]
     },
     "metadata": {},
     "output_type": "display_data"
    },
    {
     "name": "stdout",
     "output_type": "stream",
     "text": [
      "Epoch 333, Val Loss: 0.000089, Val R2: 0.999911\n"
     ]
    },
    {
     "data": {
      "application/vnd.jupyter.widget-view+json": {
       "model_id": "d3edc160fa17465ea50df53a7e499bb5",
       "version_major": 2,
       "version_minor": 0
      },
      "text/plain": [
       "  0%|          | 0/2 [00:00<?, ?batch/s]"
      ]
     },
     "metadata": {},
     "output_type": "display_data"
    },
    {
     "name": "stdout",
     "output_type": "stream",
     "text": [
      "Epoch 334, Val Loss: 0.000089, Val R2: 0.999912\n"
     ]
    },
    {
     "data": {
      "application/vnd.jupyter.widget-view+json": {
       "model_id": "8765a5e9e63d47f5ba332dbab1ff71e7",
       "version_major": 2,
       "version_minor": 0
      },
      "text/plain": [
       "  0%|          | 0/2 [00:00<?, ?batch/s]"
      ]
     },
     "metadata": {},
     "output_type": "display_data"
    },
    {
     "name": "stdout",
     "output_type": "stream",
     "text": [
      "Epoch 335, Val Loss: 0.000088, Val R2: 0.999912\n"
     ]
    },
    {
     "data": {
      "application/vnd.jupyter.widget-view+json": {
       "model_id": "7a97fa176bb6431a812b2500d14a4726",
       "version_major": 2,
       "version_minor": 0
      },
      "text/plain": [
       "  0%|          | 0/2 [00:00<?, ?batch/s]"
      ]
     },
     "metadata": {},
     "output_type": "display_data"
    },
    {
     "name": "stdout",
     "output_type": "stream",
     "text": [
      "Epoch 336, Val Loss: 0.000088, Val R2: 0.999913\n"
     ]
    },
    {
     "data": {
      "application/vnd.jupyter.widget-view+json": {
       "model_id": "e840d5c3d49b4cd3ba3cdeb6bbe126f0",
       "version_major": 2,
       "version_minor": 0
      },
      "text/plain": [
       "  0%|          | 0/2 [00:00<?, ?batch/s]"
      ]
     },
     "metadata": {},
     "output_type": "display_data"
    },
    {
     "name": "stdout",
     "output_type": "stream",
     "text": [
      "Epoch 337, Val Loss: 0.000087, Val R2: 0.999913\n"
     ]
    },
    {
     "data": {
      "application/vnd.jupyter.widget-view+json": {
       "model_id": "86d6e1613a1e4698bb4d7b61e62df48c",
       "version_major": 2,
       "version_minor": 0
      },
      "text/plain": [
       "  0%|          | 0/2 [00:00<?, ?batch/s]"
      ]
     },
     "metadata": {},
     "output_type": "display_data"
    },
    {
     "name": "stdout",
     "output_type": "stream",
     "text": [
      "Epoch 338, Val Loss: 0.000087, Val R2: 0.999914\n"
     ]
    },
    {
     "data": {
      "application/vnd.jupyter.widget-view+json": {
       "model_id": "acffc7f662d647eb91eef5b497755246",
       "version_major": 2,
       "version_minor": 0
      },
      "text/plain": [
       "  0%|          | 0/2 [00:00<?, ?batch/s]"
      ]
     },
     "metadata": {},
     "output_type": "display_data"
    },
    {
     "name": "stdout",
     "output_type": "stream",
     "text": [
      "Epoch 339, Val Loss: 0.000086, Val R2: 0.999914\n"
     ]
    },
    {
     "data": {
      "application/vnd.jupyter.widget-view+json": {
       "model_id": "69de7e11b725403d9a25b42e6b588e7f",
       "version_major": 2,
       "version_minor": 0
      },
      "text/plain": [
       "  0%|          | 0/2 [00:00<?, ?batch/s]"
      ]
     },
     "metadata": {},
     "output_type": "display_data"
    },
    {
     "name": "stdout",
     "output_type": "stream",
     "text": [
      "Epoch 340, Val Loss: 0.000086, Val R2: 0.999915\n"
     ]
    },
    {
     "data": {
      "application/vnd.jupyter.widget-view+json": {
       "model_id": "e84e5cf6b42c457bbf960c4e83bb91a7",
       "version_major": 2,
       "version_minor": 0
      },
      "text/plain": [
       "  0%|          | 0/2 [00:00<?, ?batch/s]"
      ]
     },
     "metadata": {},
     "output_type": "display_data"
    },
    {
     "name": "stdout",
     "output_type": "stream",
     "text": [
      "Epoch 341, Val Loss: 0.000086, Val R2: 0.999915\n"
     ]
    },
    {
     "data": {
      "application/vnd.jupyter.widget-view+json": {
       "model_id": "5f04dbd401a945c494c8804d54cd8ca3",
       "version_major": 2,
       "version_minor": 0
      },
      "text/plain": [
       "  0%|          | 0/2 [00:00<?, ?batch/s]"
      ]
     },
     "metadata": {},
     "output_type": "display_data"
    },
    {
     "name": "stdout",
     "output_type": "stream",
     "text": [
      "Epoch 342, Val Loss: 0.000085, Val R2: 0.999916\n"
     ]
    },
    {
     "data": {
      "application/vnd.jupyter.widget-view+json": {
       "model_id": "73405d29ff6146f18e98c5329109c8eb",
       "version_major": 2,
       "version_minor": 0
      },
      "text/plain": [
       "  0%|          | 0/2 [00:00<?, ?batch/s]"
      ]
     },
     "metadata": {},
     "output_type": "display_data"
    },
    {
     "name": "stdout",
     "output_type": "stream",
     "text": [
      "Epoch 343, Val Loss: 0.000085, Val R2: 0.999916\n"
     ]
    },
    {
     "data": {
      "application/vnd.jupyter.widget-view+json": {
       "model_id": "ad5c7d17bdd34140be9d5e913f415284",
       "version_major": 2,
       "version_minor": 0
      },
      "text/plain": [
       "  0%|          | 0/2 [00:00<?, ?batch/s]"
      ]
     },
     "metadata": {},
     "output_type": "display_data"
    },
    {
     "name": "stdout",
     "output_type": "stream",
     "text": [
      "Epoch 344, Val Loss: 0.000084, Val R2: 0.999916\n"
     ]
    },
    {
     "data": {
      "application/vnd.jupyter.widget-view+json": {
       "model_id": "7b4ab644687a43bd84305fc6df894f06",
       "version_major": 2,
       "version_minor": 0
      },
      "text/plain": [
       "  0%|          | 0/2 [00:00<?, ?batch/s]"
      ]
     },
     "metadata": {},
     "output_type": "display_data"
    },
    {
     "name": "stdout",
     "output_type": "stream",
     "text": [
      "Epoch 345, Val Loss: 0.000084, Val R2: 0.999917\n"
     ]
    },
    {
     "data": {
      "application/vnd.jupyter.widget-view+json": {
       "model_id": "2c824be2833b49e0a20ef52ebe7b40bc",
       "version_major": 2,
       "version_minor": 0
      },
      "text/plain": [
       "  0%|          | 0/2 [00:00<?, ?batch/s]"
      ]
     },
     "metadata": {},
     "output_type": "display_data"
    },
    {
     "name": "stdout",
     "output_type": "stream",
     "text": [
      "Epoch 346, Val Loss: 0.000083, Val R2: 0.999917\n"
     ]
    },
    {
     "data": {
      "application/vnd.jupyter.widget-view+json": {
       "model_id": "215eee96b1c745fb9c680a5528b80c47",
       "version_major": 2,
       "version_minor": 0
      },
      "text/plain": [
       "  0%|          | 0/2 [00:00<?, ?batch/s]"
      ]
     },
     "metadata": {},
     "output_type": "display_data"
    },
    {
     "name": "stdout",
     "output_type": "stream",
     "text": [
      "Epoch 347, Val Loss: 0.000083, Val R2: 0.999918\n"
     ]
    },
    {
     "data": {
      "application/vnd.jupyter.widget-view+json": {
       "model_id": "8c66bcd5f3d742208d176795100eedab",
       "version_major": 2,
       "version_minor": 0
      },
      "text/plain": [
       "  0%|          | 0/2 [00:00<?, ?batch/s]"
      ]
     },
     "metadata": {},
     "output_type": "display_data"
    },
    {
     "name": "stdout",
     "output_type": "stream",
     "text": [
      "Epoch 348, Val Loss: 0.000082, Val R2: 0.999918\n"
     ]
    },
    {
     "data": {
      "application/vnd.jupyter.widget-view+json": {
       "model_id": "2cd467990d234b8fa0d95865118c921b",
       "version_major": 2,
       "version_minor": 0
      },
      "text/plain": [
       "  0%|          | 0/2 [00:00<?, ?batch/s]"
      ]
     },
     "metadata": {},
     "output_type": "display_data"
    },
    {
     "name": "stdout",
     "output_type": "stream",
     "text": [
      "Epoch 349, Val Loss: 0.000082, Val R2: 0.999919\n"
     ]
    },
    {
     "data": {
      "application/vnd.jupyter.widget-view+json": {
       "model_id": "a236340c8b974ba093f0cebfad8ecd99",
       "version_major": 2,
       "version_minor": 0
      },
      "text/plain": [
       "  0%|          | 0/2 [00:00<?, ?batch/s]"
      ]
     },
     "metadata": {},
     "output_type": "display_data"
    },
    {
     "name": "stdout",
     "output_type": "stream",
     "text": [
      "Epoch 350, Val Loss: 0.000081, Val R2: 0.999919\n"
     ]
    },
    {
     "data": {
      "application/vnd.jupyter.widget-view+json": {
       "model_id": "a0ba5d69f35747ccb92daf27e847caa7",
       "version_major": 2,
       "version_minor": 0
      },
      "text/plain": [
       "  0%|          | 0/2 [00:00<?, ?batch/s]"
      ]
     },
     "metadata": {},
     "output_type": "display_data"
    },
    {
     "name": "stdout",
     "output_type": "stream",
     "text": [
      "Epoch 351, Val Loss: 0.000081, Val R2: 0.999920\n"
     ]
    },
    {
     "data": {
      "application/vnd.jupyter.widget-view+json": {
       "model_id": "e5bb3e5295524a1c9ffcebe574bfdaa3",
       "version_major": 2,
       "version_minor": 0
      },
      "text/plain": [
       "  0%|          | 0/2 [00:00<?, ?batch/s]"
      ]
     },
     "metadata": {},
     "output_type": "display_data"
    },
    {
     "name": "stdout",
     "output_type": "stream",
     "text": [
      "Epoch 352, Val Loss: 0.000081, Val R2: 0.999920\n"
     ]
    },
    {
     "data": {
      "application/vnd.jupyter.widget-view+json": {
       "model_id": "0a79dc832ffc41cd95f6a0f3acda2bd8",
       "version_major": 2,
       "version_minor": 0
      },
      "text/plain": [
       "  0%|          | 0/2 [00:00<?, ?batch/s]"
      ]
     },
     "metadata": {},
     "output_type": "display_data"
    },
    {
     "name": "stdout",
     "output_type": "stream",
     "text": [
      "Epoch 353, Val Loss: 0.000080, Val R2: 0.999920\n"
     ]
    },
    {
     "data": {
      "application/vnd.jupyter.widget-view+json": {
       "model_id": "9960a5761a0a4149b021d8b64fb532b3",
       "version_major": 2,
       "version_minor": 0
      },
      "text/plain": [
       "  0%|          | 0/2 [00:00<?, ?batch/s]"
      ]
     },
     "metadata": {},
     "output_type": "display_data"
    },
    {
     "name": "stdout",
     "output_type": "stream",
     "text": [
      "Epoch 354, Val Loss: 0.000080, Val R2: 0.999921\n"
     ]
    },
    {
     "data": {
      "application/vnd.jupyter.widget-view+json": {
       "model_id": "9e1b43a81f0d44308c3399f6f364e14a",
       "version_major": 2,
       "version_minor": 0
      },
      "text/plain": [
       "  0%|          | 0/2 [00:00<?, ?batch/s]"
      ]
     },
     "metadata": {},
     "output_type": "display_data"
    },
    {
     "name": "stdout",
     "output_type": "stream",
     "text": [
      "Epoch 355, Val Loss: 0.000079, Val R2: 0.999921\n"
     ]
    },
    {
     "data": {
      "application/vnd.jupyter.widget-view+json": {
       "model_id": "2f63a10617c043679b08bcf6c56ba4e7",
       "version_major": 2,
       "version_minor": 0
      },
      "text/plain": [
       "  0%|          | 0/2 [00:00<?, ?batch/s]"
      ]
     },
     "metadata": {},
     "output_type": "display_data"
    },
    {
     "name": "stdout",
     "output_type": "stream",
     "text": [
      "Epoch 356, Val Loss: 0.000079, Val R2: 0.999922\n"
     ]
    },
    {
     "data": {
      "application/vnd.jupyter.widget-view+json": {
       "model_id": "57104bd8496d44c399970ca2eb918086",
       "version_major": 2,
       "version_minor": 0
      },
      "text/plain": [
       "  0%|          | 0/2 [00:00<?, ?batch/s]"
      ]
     },
     "metadata": {},
     "output_type": "display_data"
    },
    {
     "name": "stdout",
     "output_type": "stream",
     "text": [
      "Epoch 357, Val Loss: 0.000078, Val R2: 0.999922\n"
     ]
    },
    {
     "data": {
      "application/vnd.jupyter.widget-view+json": {
       "model_id": "d539064b72a14df4abfa2eb871603d07",
       "version_major": 2,
       "version_minor": 0
      },
      "text/plain": [
       "  0%|          | 0/2 [00:00<?, ?batch/s]"
      ]
     },
     "metadata": {},
     "output_type": "display_data"
    },
    {
     "name": "stdout",
     "output_type": "stream",
     "text": [
      "Epoch 358, Val Loss: 0.000078, Val R2: 0.999923\n"
     ]
    },
    {
     "data": {
      "application/vnd.jupyter.widget-view+json": {
       "model_id": "a7a321ce520c4aaba09dc98da2022113",
       "version_major": 2,
       "version_minor": 0
      },
      "text/plain": [
       "  0%|          | 0/2 [00:00<?, ?batch/s]"
      ]
     },
     "metadata": {},
     "output_type": "display_data"
    },
    {
     "name": "stdout",
     "output_type": "stream",
     "text": [
      "Epoch 359, Val Loss: 0.000078, Val R2: 0.999923\n"
     ]
    },
    {
     "data": {
      "application/vnd.jupyter.widget-view+json": {
       "model_id": "ba7002b19c8640f8a895701456a7032b",
       "version_major": 2,
       "version_minor": 0
      },
      "text/plain": [
       "  0%|          | 0/2 [00:00<?, ?batch/s]"
      ]
     },
     "metadata": {},
     "output_type": "display_data"
    },
    {
     "name": "stdout",
     "output_type": "stream",
     "text": [
      "Epoch 360, Val Loss: 0.000077, Val R2: 0.999923\n"
     ]
    },
    {
     "data": {
      "application/vnd.jupyter.widget-view+json": {
       "model_id": "380c7ec339634c8582519240c632c2a4",
       "version_major": 2,
       "version_minor": 0
      },
      "text/plain": [
       "  0%|          | 0/2 [00:00<?, ?batch/s]"
      ]
     },
     "metadata": {},
     "output_type": "display_data"
    },
    {
     "name": "stdout",
     "output_type": "stream",
     "text": [
      "Epoch 361, Val Loss: 0.000077, Val R2: 0.999924\n"
     ]
    },
    {
     "data": {
      "application/vnd.jupyter.widget-view+json": {
       "model_id": "cca455077b42481c894bf37e800597d5",
       "version_major": 2,
       "version_minor": 0
      },
      "text/plain": [
       "  0%|          | 0/2 [00:00<?, ?batch/s]"
      ]
     },
     "metadata": {},
     "output_type": "display_data"
    },
    {
     "name": "stdout",
     "output_type": "stream",
     "text": [
      "Epoch 362, Val Loss: 0.000076, Val R2: 0.999924\n"
     ]
    },
    {
     "data": {
      "application/vnd.jupyter.widget-view+json": {
       "model_id": "34fead51fa744db68f1a6c96f30edd64",
       "version_major": 2,
       "version_minor": 0
      },
      "text/plain": [
       "  0%|          | 0/2 [00:00<?, ?batch/s]"
      ]
     },
     "metadata": {},
     "output_type": "display_data"
    },
    {
     "name": "stdout",
     "output_type": "stream",
     "text": [
      "Epoch 363, Val Loss: 0.000076, Val R2: 0.999925\n"
     ]
    },
    {
     "data": {
      "application/vnd.jupyter.widget-view+json": {
       "model_id": "9f488a9c2b5b4a0596c2fe3cab108a1d",
       "version_major": 2,
       "version_minor": 0
      },
      "text/plain": [
       "  0%|          | 0/2 [00:00<?, ?batch/s]"
      ]
     },
     "metadata": {},
     "output_type": "display_data"
    },
    {
     "name": "stdout",
     "output_type": "stream",
     "text": [
      "Epoch 364, Val Loss: 0.000076, Val R2: 0.999925\n"
     ]
    },
    {
     "data": {
      "application/vnd.jupyter.widget-view+json": {
       "model_id": "d6fed6b9ff484b89a949fec8856c1a4d",
       "version_major": 2,
       "version_minor": 0
      },
      "text/plain": [
       "  0%|          | 0/2 [00:00<?, ?batch/s]"
      ]
     },
     "metadata": {},
     "output_type": "display_data"
    },
    {
     "name": "stdout",
     "output_type": "stream",
     "text": [
      "Epoch 365, Val Loss: 0.000075, Val R2: 0.999925\n"
     ]
    },
    {
     "data": {
      "application/vnd.jupyter.widget-view+json": {
       "model_id": "0bb413912afc46ddacbdd4ccd2f82c22",
       "version_major": 2,
       "version_minor": 0
      },
      "text/plain": [
       "  0%|          | 0/2 [00:00<?, ?batch/s]"
      ]
     },
     "metadata": {},
     "output_type": "display_data"
    },
    {
     "name": "stdout",
     "output_type": "stream",
     "text": [
      "Epoch 366, Val Loss: 0.000075, Val R2: 0.999926\n"
     ]
    },
    {
     "data": {
      "application/vnd.jupyter.widget-view+json": {
       "model_id": "33ff42ef55324436a424ffacdf865a6d",
       "version_major": 2,
       "version_minor": 0
      },
      "text/plain": [
       "  0%|          | 0/2 [00:00<?, ?batch/s]"
      ]
     },
     "metadata": {},
     "output_type": "display_data"
    },
    {
     "name": "stdout",
     "output_type": "stream",
     "text": [
      "Epoch 367, Val Loss: 0.000074, Val R2: 0.999926\n"
     ]
    },
    {
     "data": {
      "application/vnd.jupyter.widget-view+json": {
       "model_id": "13ab61d0f6164d9fb310caf5989d3022",
       "version_major": 2,
       "version_minor": 0
      },
      "text/plain": [
       "  0%|          | 0/2 [00:00<?, ?batch/s]"
      ]
     },
     "metadata": {},
     "output_type": "display_data"
    },
    {
     "name": "stdout",
     "output_type": "stream",
     "text": [
      "Epoch 368, Val Loss: 0.000074, Val R2: 0.999927\n"
     ]
    },
    {
     "data": {
      "application/vnd.jupyter.widget-view+json": {
       "model_id": "4e3c7a27d63b4f73bbfb23ef29770457",
       "version_major": 2,
       "version_minor": 0
      },
      "text/plain": [
       "  0%|          | 0/2 [00:00<?, ?batch/s]"
      ]
     },
     "metadata": {},
     "output_type": "display_data"
    },
    {
     "name": "stdout",
     "output_type": "stream",
     "text": [
      "Epoch 369, Val Loss: 0.000074, Val R2: 0.999927\n"
     ]
    },
    {
     "data": {
      "application/vnd.jupyter.widget-view+json": {
       "model_id": "3b6083058b2a4f3aa40f43ba077ce521",
       "version_major": 2,
       "version_minor": 0
      },
      "text/plain": [
       "  0%|          | 0/2 [00:00<?, ?batch/s]"
      ]
     },
     "metadata": {},
     "output_type": "display_data"
    },
    {
     "name": "stdout",
     "output_type": "stream",
     "text": [
      "Epoch 370, Val Loss: 0.000073, Val R2: 0.999927\n"
     ]
    },
    {
     "data": {
      "application/vnd.jupyter.widget-view+json": {
       "model_id": "55f001c59c104b1bbb06ab1863397de0",
       "version_major": 2,
       "version_minor": 0
      },
      "text/plain": [
       "  0%|          | 0/2 [00:00<?, ?batch/s]"
      ]
     },
     "metadata": {},
     "output_type": "display_data"
    },
    {
     "name": "stdout",
     "output_type": "stream",
     "text": [
      "Epoch 371, Val Loss: 0.000073, Val R2: 0.999928\n"
     ]
    },
    {
     "data": {
      "application/vnd.jupyter.widget-view+json": {
       "model_id": "7e84c99053324dba9d9674c8fb337484",
       "version_major": 2,
       "version_minor": 0
      },
      "text/plain": [
       "  0%|          | 0/2 [00:00<?, ?batch/s]"
      ]
     },
     "metadata": {},
     "output_type": "display_data"
    },
    {
     "name": "stdout",
     "output_type": "stream",
     "text": [
      "Epoch 372, Val Loss: 0.000072, Val R2: 0.999928\n"
     ]
    },
    {
     "data": {
      "application/vnd.jupyter.widget-view+json": {
       "model_id": "77b65aa0b92a427d9980dfe8c601cd9f",
       "version_major": 2,
       "version_minor": 0
      },
      "text/plain": [
       "  0%|          | 0/2 [00:00<?, ?batch/s]"
      ]
     },
     "metadata": {},
     "output_type": "display_data"
    },
    {
     "name": "stdout",
     "output_type": "stream",
     "text": [
      "Epoch 373, Val Loss: 0.000072, Val R2: 0.999928\n"
     ]
    },
    {
     "data": {
      "application/vnd.jupyter.widget-view+json": {
       "model_id": "a00e608457a74e1a8cbced1b6467c297",
       "version_major": 2,
       "version_minor": 0
      },
      "text/plain": [
       "  0%|          | 0/2 [00:00<?, ?batch/s]"
      ]
     },
     "metadata": {},
     "output_type": "display_data"
    },
    {
     "name": "stdout",
     "output_type": "stream",
     "text": [
      "Epoch 374, Val Loss: 0.000072, Val R2: 0.999929\n"
     ]
    },
    {
     "data": {
      "application/vnd.jupyter.widget-view+json": {
       "model_id": "c626f0c53649401892715531abd0cf92",
       "version_major": 2,
       "version_minor": 0
      },
      "text/plain": [
       "  0%|          | 0/2 [00:00<?, ?batch/s]"
      ]
     },
     "metadata": {},
     "output_type": "display_data"
    },
    {
     "name": "stdout",
     "output_type": "stream",
     "text": [
      "Epoch 375, Val Loss: 0.000071, Val R2: 0.999929\n"
     ]
    },
    {
     "data": {
      "application/vnd.jupyter.widget-view+json": {
       "model_id": "8d1a393bde734553905f6aa8609faa93",
       "version_major": 2,
       "version_minor": 0
      },
      "text/plain": [
       "  0%|          | 0/2 [00:00<?, ?batch/s]"
      ]
     },
     "metadata": {},
     "output_type": "display_data"
    },
    {
     "name": "stdout",
     "output_type": "stream",
     "text": [
      "Epoch 376, Val Loss: 0.000071, Val R2: 0.999930\n"
     ]
    },
    {
     "data": {
      "application/vnd.jupyter.widget-view+json": {
       "model_id": "4e642f64e4a147b791f1d020b438dd08",
       "version_major": 2,
       "version_minor": 0
      },
      "text/plain": [
       "  0%|          | 0/2 [00:00<?, ?batch/s]"
      ]
     },
     "metadata": {},
     "output_type": "display_data"
    },
    {
     "name": "stdout",
     "output_type": "stream",
     "text": [
      "Epoch 377, Val Loss: 0.000071, Val R2: 0.999930\n"
     ]
    },
    {
     "data": {
      "application/vnd.jupyter.widget-view+json": {
       "model_id": "64405611b06a4b298f7eca7b4e58bc31",
       "version_major": 2,
       "version_minor": 0
      },
      "text/plain": [
       "  0%|          | 0/2 [00:00<?, ?batch/s]"
      ]
     },
     "metadata": {},
     "output_type": "display_data"
    },
    {
     "name": "stdout",
     "output_type": "stream",
     "text": [
      "Epoch 378, Val Loss: 0.000070, Val R2: 0.999930\n"
     ]
    },
    {
     "data": {
      "application/vnd.jupyter.widget-view+json": {
       "model_id": "bcd54898bde44bcf905626e34e62c89f",
       "version_major": 2,
       "version_minor": 0
      },
      "text/plain": [
       "  0%|          | 0/2 [00:00<?, ?batch/s]"
      ]
     },
     "metadata": {},
     "output_type": "display_data"
    },
    {
     "name": "stdout",
     "output_type": "stream",
     "text": [
      "Epoch 379, Val Loss: 0.000070, Val R2: 0.999931\n"
     ]
    },
    {
     "data": {
      "application/vnd.jupyter.widget-view+json": {
       "model_id": "d7cb0291c7a54bc8bf48d8e8d604dd89",
       "version_major": 2,
       "version_minor": 0
      },
      "text/plain": [
       "  0%|          | 0/2 [00:00<?, ?batch/s]"
      ]
     },
     "metadata": {},
     "output_type": "display_data"
    },
    {
     "name": "stdout",
     "output_type": "stream",
     "text": [
      "Epoch 380, Val Loss: 0.000070, Val R2: 0.999931\n"
     ]
    },
    {
     "data": {
      "application/vnd.jupyter.widget-view+json": {
       "model_id": "fed727709e544e0fb3cb520d9c665a91",
       "version_major": 2,
       "version_minor": 0
      },
      "text/plain": [
       "  0%|          | 0/2 [00:00<?, ?batch/s]"
      ]
     },
     "metadata": {},
     "output_type": "display_data"
    },
    {
     "name": "stdout",
     "output_type": "stream",
     "text": [
      "Epoch 381, Val Loss: 0.000069, Val R2: 0.999931\n"
     ]
    },
    {
     "data": {
      "application/vnd.jupyter.widget-view+json": {
       "model_id": "e3b4df6ca30a42c9b28830b3f852f79c",
       "version_major": 2,
       "version_minor": 0
      },
      "text/plain": [
       "  0%|          | 0/2 [00:00<?, ?batch/s]"
      ]
     },
     "metadata": {},
     "output_type": "display_data"
    },
    {
     "name": "stdout",
     "output_type": "stream",
     "text": [
      "Epoch 382, Val Loss: 0.000069, Val R2: 0.999932\n"
     ]
    },
    {
     "data": {
      "application/vnd.jupyter.widget-view+json": {
       "model_id": "7bcf02ffed6f423589df41f517a3db02",
       "version_major": 2,
       "version_minor": 0
      },
      "text/plain": [
       "  0%|          | 0/2 [00:00<?, ?batch/s]"
      ]
     },
     "metadata": {},
     "output_type": "display_data"
    },
    {
     "name": "stdout",
     "output_type": "stream",
     "text": [
      "Epoch 383, Val Loss: 0.000068, Val R2: 0.999932\n"
     ]
    },
    {
     "data": {
      "application/vnd.jupyter.widget-view+json": {
       "model_id": "5a5246ceb2d8432f9ce3730b3c9185b1",
       "version_major": 2,
       "version_minor": 0
      },
      "text/plain": [
       "  0%|          | 0/2 [00:00<?, ?batch/s]"
      ]
     },
     "metadata": {},
     "output_type": "display_data"
    },
    {
     "name": "stdout",
     "output_type": "stream",
     "text": [
      "Epoch 384, Val Loss: 0.000068, Val R2: 0.999932\n"
     ]
    },
    {
     "data": {
      "application/vnd.jupyter.widget-view+json": {
       "model_id": "3dff3fa4e8f5492881a128a907b31fc5",
       "version_major": 2,
       "version_minor": 0
      },
      "text/plain": [
       "  0%|          | 0/2 [00:00<?, ?batch/s]"
      ]
     },
     "metadata": {},
     "output_type": "display_data"
    },
    {
     "name": "stdout",
     "output_type": "stream",
     "text": [
      "Epoch 385, Val Loss: 0.000068, Val R2: 0.999933\n"
     ]
    },
    {
     "data": {
      "application/vnd.jupyter.widget-view+json": {
       "model_id": "e7ab4d4ed19f42fdb577134d36bfaedb",
       "version_major": 2,
       "version_minor": 0
      },
      "text/plain": [
       "  0%|          | 0/2 [00:00<?, ?batch/s]"
      ]
     },
     "metadata": {},
     "output_type": "display_data"
    },
    {
     "name": "stdout",
     "output_type": "stream",
     "text": [
      "Epoch 386, Val Loss: 0.000067, Val R2: 0.999933\n"
     ]
    },
    {
     "data": {
      "application/vnd.jupyter.widget-view+json": {
       "model_id": "04e43ee2dfd34b70b23148db47283631",
       "version_major": 2,
       "version_minor": 0
      },
      "text/plain": [
       "  0%|          | 0/2 [00:00<?, ?batch/s]"
      ]
     },
     "metadata": {},
     "output_type": "display_data"
    },
    {
     "name": "stdout",
     "output_type": "stream",
     "text": [
      "Epoch 387, Val Loss: 0.000067, Val R2: 0.999933\n"
     ]
    },
    {
     "data": {
      "application/vnd.jupyter.widget-view+json": {
       "model_id": "509def18bd0641c6893ce3c1b97882a9",
       "version_major": 2,
       "version_minor": 0
      },
      "text/plain": [
       "  0%|          | 0/2 [00:00<?, ?batch/s]"
      ]
     },
     "metadata": {},
     "output_type": "display_data"
    },
    {
     "name": "stdout",
     "output_type": "stream",
     "text": [
      "Epoch 388, Val Loss: 0.000067, Val R2: 0.999934\n"
     ]
    },
    {
     "data": {
      "application/vnd.jupyter.widget-view+json": {
       "model_id": "3d34e47046034fa6b64baa5e7618514c",
       "version_major": 2,
       "version_minor": 0
      },
      "text/plain": [
       "  0%|          | 0/2 [00:00<?, ?batch/s]"
      ]
     },
     "metadata": {},
     "output_type": "display_data"
    },
    {
     "name": "stdout",
     "output_type": "stream",
     "text": [
      "Epoch 389, Val Loss: 0.000066, Val R2: 0.999934\n"
     ]
    },
    {
     "data": {
      "application/vnd.jupyter.widget-view+json": {
       "model_id": "3d2f1bed1dcd4b0a8e4207cae6a0324c",
       "version_major": 2,
       "version_minor": 0
      },
      "text/plain": [
       "  0%|          | 0/2 [00:00<?, ?batch/s]"
      ]
     },
     "metadata": {},
     "output_type": "display_data"
    },
    {
     "name": "stdout",
     "output_type": "stream",
     "text": [
      "Epoch 390, Val Loss: 0.000066, Val R2: 0.999934\n"
     ]
    },
    {
     "data": {
      "application/vnd.jupyter.widget-view+json": {
       "model_id": "f991d20e6a554467abd1d31b9bc0c7fc",
       "version_major": 2,
       "version_minor": 0
      },
      "text/plain": [
       "  0%|          | 0/2 [00:00<?, ?batch/s]"
      ]
     },
     "metadata": {},
     "output_type": "display_data"
    },
    {
     "name": "stdout",
     "output_type": "stream",
     "text": [
      "Epoch 391, Val Loss: 0.000066, Val R2: 0.999935\n"
     ]
    },
    {
     "data": {
      "application/vnd.jupyter.widget-view+json": {
       "model_id": "6f80a28d9abf4874b57678faa912b20c",
       "version_major": 2,
       "version_minor": 0
      },
      "text/plain": [
       "  0%|          | 0/2 [00:00<?, ?batch/s]"
      ]
     },
     "metadata": {},
     "output_type": "display_data"
    },
    {
     "name": "stdout",
     "output_type": "stream",
     "text": [
      "Epoch 392, Val Loss: 0.000065, Val R2: 0.999935\n"
     ]
    },
    {
     "data": {
      "application/vnd.jupyter.widget-view+json": {
       "model_id": "65428b31c7784774b85e41339cc8c4b0",
       "version_major": 2,
       "version_minor": 0
      },
      "text/plain": [
       "  0%|          | 0/2 [00:00<?, ?batch/s]"
      ]
     },
     "metadata": {},
     "output_type": "display_data"
    },
    {
     "name": "stdout",
     "output_type": "stream",
     "text": [
      "Epoch 393, Val Loss: 0.000065, Val R2: 0.999935\n"
     ]
    },
    {
     "data": {
      "application/vnd.jupyter.widget-view+json": {
       "model_id": "3b0e2ffbf67249519bf7d1c8458995c8",
       "version_major": 2,
       "version_minor": 0
      },
      "text/plain": [
       "  0%|          | 0/2 [00:00<?, ?batch/s]"
      ]
     },
     "metadata": {},
     "output_type": "display_data"
    },
    {
     "name": "stdout",
     "output_type": "stream",
     "text": [
      "Epoch 394, Val Loss: 0.000065, Val R2: 0.999936\n"
     ]
    },
    {
     "data": {
      "application/vnd.jupyter.widget-view+json": {
       "model_id": "01171779e326431580beb08d0d2c1192",
       "version_major": 2,
       "version_minor": 0
      },
      "text/plain": [
       "  0%|          | 0/2 [00:00<?, ?batch/s]"
      ]
     },
     "metadata": {},
     "output_type": "display_data"
    },
    {
     "name": "stdout",
     "output_type": "stream",
     "text": [
      "Epoch 395, Val Loss: 0.000065, Val R2: 0.999936\n"
     ]
    },
    {
     "data": {
      "application/vnd.jupyter.widget-view+json": {
       "model_id": "54dcabf52ce6442faf6377cabc5ed286",
       "version_major": 2,
       "version_minor": 0
      },
      "text/plain": [
       "  0%|          | 0/2 [00:00<?, ?batch/s]"
      ]
     },
     "metadata": {},
     "output_type": "display_data"
    },
    {
     "name": "stdout",
     "output_type": "stream",
     "text": [
      "Epoch 396, Val Loss: 0.000064, Val R2: 0.999936\n"
     ]
    },
    {
     "data": {
      "application/vnd.jupyter.widget-view+json": {
       "model_id": "d2859b653a5343448c6062e051d0f6eb",
       "version_major": 2,
       "version_minor": 0
      },
      "text/plain": [
       "  0%|          | 0/2 [00:00<?, ?batch/s]"
      ]
     },
     "metadata": {},
     "output_type": "display_data"
    },
    {
     "name": "stdout",
     "output_type": "stream",
     "text": [
      "Epoch 397, Val Loss: 0.000064, Val R2: 0.999937\n"
     ]
    },
    {
     "data": {
      "application/vnd.jupyter.widget-view+json": {
       "model_id": "2d28aa7bf8e0405d87a0c811b7dc9b41",
       "version_major": 2,
       "version_minor": 0
      },
      "text/plain": [
       "  0%|          | 0/2 [00:00<?, ?batch/s]"
      ]
     },
     "metadata": {},
     "output_type": "display_data"
    },
    {
     "name": "stdout",
     "output_type": "stream",
     "text": [
      "Epoch 398, Val Loss: 0.000064, Val R2: 0.999937\n"
     ]
    },
    {
     "data": {
      "application/vnd.jupyter.widget-view+json": {
       "model_id": "cd88c889f77e498987df9dcfc5841f9c",
       "version_major": 2,
       "version_minor": 0
      },
      "text/plain": [
       "  0%|          | 0/2 [00:00<?, ?batch/s]"
      ]
     },
     "metadata": {},
     "output_type": "display_data"
    },
    {
     "name": "stdout",
     "output_type": "stream",
     "text": [
      "Epoch 399, Val Loss: 0.000063, Val R2: 0.999937\n"
     ]
    },
    {
     "data": {
      "application/vnd.jupyter.widget-view+json": {
       "model_id": "366e0f55b5fc4edc99a7c3ad65b839a7",
       "version_major": 2,
       "version_minor": 0
      },
      "text/plain": [
       "  0%|          | 0/2 [00:00<?, ?batch/s]"
      ]
     },
     "metadata": {},
     "output_type": "display_data"
    },
    {
     "name": "stdout",
     "output_type": "stream",
     "text": [
      "Epoch 400, Val Loss: 0.000063, Val R2: 0.999937\n"
     ]
    },
    {
     "data": {
      "application/vnd.jupyter.widget-view+json": {
       "model_id": "5361078cb6e84d63a962312b7db1e245",
       "version_major": 2,
       "version_minor": 0
      },
      "text/plain": [
       "  0%|          | 0/2 [00:00<?, ?batch/s]"
      ]
     },
     "metadata": {},
     "output_type": "display_data"
    },
    {
     "name": "stdout",
     "output_type": "stream",
     "text": [
      "Epoch 401, Val Loss: 0.000063, Val R2: 0.999938\n"
     ]
    },
    {
     "data": {
      "application/vnd.jupyter.widget-view+json": {
       "model_id": "453707cda10a4d2aab979e8fcd08822e",
       "version_major": 2,
       "version_minor": 0
      },
      "text/plain": [
       "  0%|          | 0/2 [00:00<?, ?batch/s]"
      ]
     },
     "metadata": {},
     "output_type": "display_data"
    },
    {
     "name": "stdout",
     "output_type": "stream",
     "text": [
      "Epoch 402, Val Loss: 0.000062, Val R2: 0.999938\n"
     ]
    },
    {
     "data": {
      "application/vnd.jupyter.widget-view+json": {
       "model_id": "e4de7a70d78341ddaa8a2819aaf23080",
       "version_major": 2,
       "version_minor": 0
      },
      "text/plain": [
       "  0%|          | 0/2 [00:00<?, ?batch/s]"
      ]
     },
     "metadata": {},
     "output_type": "display_data"
    },
    {
     "name": "stdout",
     "output_type": "stream",
     "text": [
      "Epoch 403, Val Loss: 0.000062, Val R2: 0.999938\n"
     ]
    },
    {
     "data": {
      "application/vnd.jupyter.widget-view+json": {
       "model_id": "8e0fdf1cec064658950b350f08c5930e",
       "version_major": 2,
       "version_minor": 0
      },
      "text/plain": [
       "  0%|          | 0/2 [00:00<?, ?batch/s]"
      ]
     },
     "metadata": {},
     "output_type": "display_data"
    },
    {
     "name": "stdout",
     "output_type": "stream",
     "text": [
      "Epoch 404, Val Loss: 0.000062, Val R2: 0.999939\n"
     ]
    },
    {
     "data": {
      "application/vnd.jupyter.widget-view+json": {
       "model_id": "b4fe537a07be4248bc4c3cb1d9777f8b",
       "version_major": 2,
       "version_minor": 0
      },
      "text/plain": [
       "  0%|          | 0/2 [00:00<?, ?batch/s]"
      ]
     },
     "metadata": {},
     "output_type": "display_data"
    },
    {
     "name": "stdout",
     "output_type": "stream",
     "text": [
      "Epoch 405, Val Loss: 0.000061, Val R2: 0.999939\n"
     ]
    },
    {
     "data": {
      "application/vnd.jupyter.widget-view+json": {
       "model_id": "4cfb710afc9747dfbabe874404cd4298",
       "version_major": 2,
       "version_minor": 0
      },
      "text/plain": [
       "  0%|          | 0/2 [00:00<?, ?batch/s]"
      ]
     },
     "metadata": {},
     "output_type": "display_data"
    },
    {
     "name": "stdout",
     "output_type": "stream",
     "text": [
      "Epoch 406, Val Loss: 0.000061, Val R2: 0.999939\n"
     ]
    },
    {
     "data": {
      "application/vnd.jupyter.widget-view+json": {
       "model_id": "3e734e8d7dc5428bb950895c51afcb9f",
       "version_major": 2,
       "version_minor": 0
      },
      "text/plain": [
       "  0%|          | 0/2 [00:00<?, ?batch/s]"
      ]
     },
     "metadata": {},
     "output_type": "display_data"
    },
    {
     "name": "stdout",
     "output_type": "stream",
     "text": [
      "Epoch 407, Val Loss: 0.000061, Val R2: 0.999940\n"
     ]
    },
    {
     "data": {
      "application/vnd.jupyter.widget-view+json": {
       "model_id": "6e12dc334e254981b26d5a1a3e29e2cc",
       "version_major": 2,
       "version_minor": 0
      },
      "text/plain": [
       "  0%|          | 0/2 [00:00<?, ?batch/s]"
      ]
     },
     "metadata": {},
     "output_type": "display_data"
    },
    {
     "name": "stdout",
     "output_type": "stream",
     "text": [
      "Epoch 408, Val Loss: 0.000061, Val R2: 0.999940\n"
     ]
    },
    {
     "data": {
      "application/vnd.jupyter.widget-view+json": {
       "model_id": "10b23175eccd4ea7bbb757fb2d19ba38",
       "version_major": 2,
       "version_minor": 0
      },
      "text/plain": [
       "  0%|          | 0/2 [00:00<?, ?batch/s]"
      ]
     },
     "metadata": {},
     "output_type": "display_data"
    },
    {
     "name": "stdout",
     "output_type": "stream",
     "text": [
      "Epoch 409, Val Loss: 0.000060, Val R2: 0.999940\n"
     ]
    },
    {
     "data": {
      "application/vnd.jupyter.widget-view+json": {
       "model_id": "be6cfc06bd42426abff97393ae4681db",
       "version_major": 2,
       "version_minor": 0
      },
      "text/plain": [
       "  0%|          | 0/2 [00:00<?, ?batch/s]"
      ]
     },
     "metadata": {},
     "output_type": "display_data"
    },
    {
     "name": "stdout",
     "output_type": "stream",
     "text": [
      "Epoch 410, Val Loss: 0.000060, Val R2: 0.999940\n"
     ]
    },
    {
     "data": {
      "application/vnd.jupyter.widget-view+json": {
       "model_id": "bc24306a573b41f5bea65046a0f2dac3",
       "version_major": 2,
       "version_minor": 0
      },
      "text/plain": [
       "  0%|          | 0/2 [00:00<?, ?batch/s]"
      ]
     },
     "metadata": {},
     "output_type": "display_data"
    },
    {
     "name": "stdout",
     "output_type": "stream",
     "text": [
      "Epoch 411, Val Loss: 0.000060, Val R2: 0.999941\n"
     ]
    },
    {
     "data": {
      "application/vnd.jupyter.widget-view+json": {
       "model_id": "987a02b8b20046efa9b4fc03567e195a",
       "version_major": 2,
       "version_minor": 0
      },
      "text/plain": [
       "  0%|          | 0/2 [00:00<?, ?batch/s]"
      ]
     },
     "metadata": {},
     "output_type": "display_data"
    },
    {
     "name": "stdout",
     "output_type": "stream",
     "text": [
      "Epoch 412, Val Loss: 0.000060, Val R2: 0.999941\n"
     ]
    },
    {
     "data": {
      "application/vnd.jupyter.widget-view+json": {
       "model_id": "ec118690a75d493ab6ac96ab6ed87a36",
       "version_major": 2,
       "version_minor": 0
      },
      "text/plain": [
       "  0%|          | 0/2 [00:00<?, ?batch/s]"
      ]
     },
     "metadata": {},
     "output_type": "display_data"
    },
    {
     "name": "stdout",
     "output_type": "stream",
     "text": [
      "Epoch 413, Val Loss: 0.000059, Val R2: 0.999941\n"
     ]
    },
    {
     "data": {
      "application/vnd.jupyter.widget-view+json": {
       "model_id": "1981f92457064b4fbaafcfe6119beb24",
       "version_major": 2,
       "version_minor": 0
      },
      "text/plain": [
       "  0%|          | 0/2 [00:00<?, ?batch/s]"
      ]
     },
     "metadata": {},
     "output_type": "display_data"
    },
    {
     "name": "stdout",
     "output_type": "stream",
     "text": [
      "Epoch 414, Val Loss: 0.000059, Val R2: 0.999941\n"
     ]
    },
    {
     "data": {
      "application/vnd.jupyter.widget-view+json": {
       "model_id": "fc608264e8a34670b222722584d88ebb",
       "version_major": 2,
       "version_minor": 0
      },
      "text/plain": [
       "  0%|          | 0/2 [00:00<?, ?batch/s]"
      ]
     },
     "metadata": {},
     "output_type": "display_data"
    },
    {
     "name": "stdout",
     "output_type": "stream",
     "text": [
      "Epoch 415, Val Loss: 0.000059, Val R2: 0.999942\n"
     ]
    },
    {
     "data": {
      "application/vnd.jupyter.widget-view+json": {
       "model_id": "87f8f30dfef845a3a758c3bac115ebcc",
       "version_major": 2,
       "version_minor": 0
      },
      "text/plain": [
       "  0%|          | 0/2 [00:00<?, ?batch/s]"
      ]
     },
     "metadata": {},
     "output_type": "display_data"
    },
    {
     "name": "stdout",
     "output_type": "stream",
     "text": [
      "Epoch 416, Val Loss: 0.000058, Val R2: 0.999942\n"
     ]
    },
    {
     "data": {
      "application/vnd.jupyter.widget-view+json": {
       "model_id": "93afcb654ea6439d97b7df5b015ab2e5",
       "version_major": 2,
       "version_minor": 0
      },
      "text/plain": [
       "  0%|          | 0/2 [00:00<?, ?batch/s]"
      ]
     },
     "metadata": {},
     "output_type": "display_data"
    },
    {
     "name": "stdout",
     "output_type": "stream",
     "text": [
      "Epoch 417, Val Loss: 0.000058, Val R2: 0.999942\n"
     ]
    },
    {
     "data": {
      "application/vnd.jupyter.widget-view+json": {
       "model_id": "4213130072bd4288926453d6c550b334",
       "version_major": 2,
       "version_minor": 0
      },
      "text/plain": [
       "  0%|          | 0/2 [00:00<?, ?batch/s]"
      ]
     },
     "metadata": {},
     "output_type": "display_data"
    },
    {
     "name": "stdout",
     "output_type": "stream",
     "text": [
      "Epoch 418, Val Loss: 0.000058, Val R2: 0.999943\n"
     ]
    },
    {
     "data": {
      "application/vnd.jupyter.widget-view+json": {
       "model_id": "7763497291f6490a8a06ae5c689633cd",
       "version_major": 2,
       "version_minor": 0
      },
      "text/plain": [
       "  0%|          | 0/2 [00:00<?, ?batch/s]"
      ]
     },
     "metadata": {},
     "output_type": "display_data"
    },
    {
     "name": "stdout",
     "output_type": "stream",
     "text": [
      "Epoch 419, Val Loss: 0.000058, Val R2: 0.999943\n"
     ]
    },
    {
     "data": {
      "application/vnd.jupyter.widget-view+json": {
       "model_id": "1265a9de094043c98164a59126fd137e",
       "version_major": 2,
       "version_minor": 0
      },
      "text/plain": [
       "  0%|          | 0/2 [00:00<?, ?batch/s]"
      ]
     },
     "metadata": {},
     "output_type": "display_data"
    },
    {
     "name": "stdout",
     "output_type": "stream",
     "text": [
      "Epoch 420, Val Loss: 0.000057, Val R2: 0.999943\n"
     ]
    },
    {
     "data": {
      "application/vnd.jupyter.widget-view+json": {
       "model_id": "409a19823e2a4bb98f5b5affa1fcae6c",
       "version_major": 2,
       "version_minor": 0
      },
      "text/plain": [
       "  0%|          | 0/2 [00:00<?, ?batch/s]"
      ]
     },
     "metadata": {},
     "output_type": "display_data"
    },
    {
     "name": "stdout",
     "output_type": "stream",
     "text": [
      "Epoch 421, Val Loss: 0.000057, Val R2: 0.999943\n"
     ]
    },
    {
     "data": {
      "application/vnd.jupyter.widget-view+json": {
       "model_id": "1e204d84695c479388fc12457fe4ed3c",
       "version_major": 2,
       "version_minor": 0
      },
      "text/plain": [
       "  0%|          | 0/2 [00:00<?, ?batch/s]"
      ]
     },
     "metadata": {},
     "output_type": "display_data"
    },
    {
     "name": "stdout",
     "output_type": "stream",
     "text": [
      "Epoch 422, Val Loss: 0.000057, Val R2: 0.999944\n"
     ]
    },
    {
     "data": {
      "application/vnd.jupyter.widget-view+json": {
       "model_id": "48ca2d3e21a84c39bbe555d35265dfa9",
       "version_major": 2,
       "version_minor": 0
      },
      "text/plain": [
       "  0%|          | 0/2 [00:00<?, ?batch/s]"
      ]
     },
     "metadata": {},
     "output_type": "display_data"
    },
    {
     "name": "stdout",
     "output_type": "stream",
     "text": [
      "Epoch 423, Val Loss: 0.000057, Val R2: 0.999944\n"
     ]
    },
    {
     "data": {
      "application/vnd.jupyter.widget-view+json": {
       "model_id": "7beafd70e35e4b8b867415e100e93220",
       "version_major": 2,
       "version_minor": 0
      },
      "text/plain": [
       "  0%|          | 0/2 [00:00<?, ?batch/s]"
      ]
     },
     "metadata": {},
     "output_type": "display_data"
    },
    {
     "name": "stdout",
     "output_type": "stream",
     "text": [
      "Epoch 424, Val Loss: 0.000056, Val R2: 0.999944\n"
     ]
    },
    {
     "data": {
      "application/vnd.jupyter.widget-view+json": {
       "model_id": "5c570873956f409d9b805d43120718aa",
       "version_major": 2,
       "version_minor": 0
      },
      "text/plain": [
       "  0%|          | 0/2 [00:00<?, ?batch/s]"
      ]
     },
     "metadata": {},
     "output_type": "display_data"
    },
    {
     "name": "stdout",
     "output_type": "stream",
     "text": [
      "Epoch 425, Val Loss: 0.000056, Val R2: 0.999944\n"
     ]
    },
    {
     "data": {
      "application/vnd.jupyter.widget-view+json": {
       "model_id": "45c4b13635974d96ba0250c03a2eb1b0",
       "version_major": 2,
       "version_minor": 0
      },
      "text/plain": [
       "  0%|          | 0/2 [00:00<?, ?batch/s]"
      ]
     },
     "metadata": {},
     "output_type": "display_data"
    },
    {
     "name": "stdout",
     "output_type": "stream",
     "text": [
      "Epoch 426, Val Loss: 0.000056, Val R2: 0.999945\n"
     ]
    },
    {
     "data": {
      "application/vnd.jupyter.widget-view+json": {
       "model_id": "5991672d7434464baa25323f7136aee1",
       "version_major": 2,
       "version_minor": 0
      },
      "text/plain": [
       "  0%|          | 0/2 [00:00<?, ?batch/s]"
      ]
     },
     "metadata": {},
     "output_type": "display_data"
    },
    {
     "name": "stdout",
     "output_type": "stream",
     "text": [
      "Epoch 427, Val Loss: 0.000056, Val R2: 0.999945\n"
     ]
    },
    {
     "data": {
      "application/vnd.jupyter.widget-view+json": {
       "model_id": "faa72d520db44a4ba646849e7c472b96",
       "version_major": 2,
       "version_minor": 0
      },
      "text/plain": [
       "  0%|          | 0/2 [00:00<?, ?batch/s]"
      ]
     },
     "metadata": {},
     "output_type": "display_data"
    },
    {
     "name": "stdout",
     "output_type": "stream",
     "text": [
      "Epoch 428, Val Loss: 0.000055, Val R2: 0.999945\n"
     ]
    },
    {
     "data": {
      "application/vnd.jupyter.widget-view+json": {
       "model_id": "0cc16aa5b41f4e8da258b3b17dc1ca02",
       "version_major": 2,
       "version_minor": 0
      },
      "text/plain": [
       "  0%|          | 0/2 [00:00<?, ?batch/s]"
      ]
     },
     "metadata": {},
     "output_type": "display_data"
    },
    {
     "name": "stdout",
     "output_type": "stream",
     "text": [
      "Epoch 429, Val Loss: 0.000055, Val R2: 0.999945\n"
     ]
    },
    {
     "data": {
      "application/vnd.jupyter.widget-view+json": {
       "model_id": "bec3bd412d954aca81c63bb40ca003dc",
       "version_major": 2,
       "version_minor": 0
      },
      "text/plain": [
       "  0%|          | 0/2 [00:00<?, ?batch/s]"
      ]
     },
     "metadata": {},
     "output_type": "display_data"
    },
    {
     "name": "stdout",
     "output_type": "stream",
     "text": [
      "Epoch 430, Val Loss: 0.000055, Val R2: 0.999946\n"
     ]
    },
    {
     "data": {
      "application/vnd.jupyter.widget-view+json": {
       "model_id": "9c1f6c45a36b4af78f9c6c9b82aa9518",
       "version_major": 2,
       "version_minor": 0
      },
      "text/plain": [
       "  0%|          | 0/2 [00:00<?, ?batch/s]"
      ]
     },
     "metadata": {},
     "output_type": "display_data"
    },
    {
     "name": "stdout",
     "output_type": "stream",
     "text": [
      "Epoch 431, Val Loss: 0.000055, Val R2: 0.999946\n"
     ]
    },
    {
     "data": {
      "application/vnd.jupyter.widget-view+json": {
       "model_id": "4b1294a32dd146159396247ab07308f0",
       "version_major": 2,
       "version_minor": 0
      },
      "text/plain": [
       "  0%|          | 0/2 [00:00<?, ?batch/s]"
      ]
     },
     "metadata": {},
     "output_type": "display_data"
    },
    {
     "name": "stdout",
     "output_type": "stream",
     "text": [
      "Epoch 432, Val Loss: 0.000054, Val R2: 0.999946\n"
     ]
    },
    {
     "data": {
      "application/vnd.jupyter.widget-view+json": {
       "model_id": "cf5f437770734d2997fe78cfed239946",
       "version_major": 2,
       "version_minor": 0
      },
      "text/plain": [
       "  0%|          | 0/2 [00:00<?, ?batch/s]"
      ]
     },
     "metadata": {},
     "output_type": "display_data"
    },
    {
     "name": "stdout",
     "output_type": "stream",
     "text": [
      "Epoch 433, Val Loss: 0.000054, Val R2: 0.999946\n"
     ]
    },
    {
     "data": {
      "application/vnd.jupyter.widget-view+json": {
       "model_id": "bf8e91f095ce429b84c2a0284dfeb7be",
       "version_major": 2,
       "version_minor": 0
      },
      "text/plain": [
       "  0%|          | 0/2 [00:00<?, ?batch/s]"
      ]
     },
     "metadata": {},
     "output_type": "display_data"
    },
    {
     "name": "stdout",
     "output_type": "stream",
     "text": [
      "Epoch 434, Val Loss: 0.000054, Val R2: 0.999947\n"
     ]
    },
    {
     "data": {
      "application/vnd.jupyter.widget-view+json": {
       "model_id": "b12e9f5016db434d98b1edd6455a42a7",
       "version_major": 2,
       "version_minor": 0
      },
      "text/plain": [
       "  0%|          | 0/2 [00:00<?, ?batch/s]"
      ]
     },
     "metadata": {},
     "output_type": "display_data"
    },
    {
     "name": "stdout",
     "output_type": "stream",
     "text": [
      "Epoch 435, Val Loss: 0.000054, Val R2: 0.999947\n"
     ]
    },
    {
     "data": {
      "application/vnd.jupyter.widget-view+json": {
       "model_id": "afe24fa08ce74f1eb8083286d49499f8",
       "version_major": 2,
       "version_minor": 0
      },
      "text/plain": [
       "  0%|          | 0/2 [00:00<?, ?batch/s]"
      ]
     },
     "metadata": {},
     "output_type": "display_data"
    },
    {
     "name": "stdout",
     "output_type": "stream",
     "text": [
      "Epoch 436, Val Loss: 0.000053, Val R2: 0.999947\n"
     ]
    },
    {
     "data": {
      "application/vnd.jupyter.widget-view+json": {
       "model_id": "fba34820bdff42179e66a0992af69c57",
       "version_major": 2,
       "version_minor": 0
      },
      "text/plain": [
       "  0%|          | 0/2 [00:00<?, ?batch/s]"
      ]
     },
     "metadata": {},
     "output_type": "display_data"
    },
    {
     "name": "stdout",
     "output_type": "stream",
     "text": [
      "Epoch 437, Val Loss: 0.000053, Val R2: 0.999947\n"
     ]
    },
    {
     "data": {
      "application/vnd.jupyter.widget-view+json": {
       "model_id": "9d0567d5e7ed4664aabe490894b6099f",
       "version_major": 2,
       "version_minor": 0
      },
      "text/plain": [
       "  0%|          | 0/2 [00:00<?, ?batch/s]"
      ]
     },
     "metadata": {},
     "output_type": "display_data"
    },
    {
     "name": "stdout",
     "output_type": "stream",
     "text": [
      "Epoch 438, Val Loss: 0.000053, Val R2: 0.999947\n"
     ]
    },
    {
     "data": {
      "application/vnd.jupyter.widget-view+json": {
       "model_id": "be103a219e394addbb12de59737ce5ec",
       "version_major": 2,
       "version_minor": 0
      },
      "text/plain": [
       "  0%|          | 0/2 [00:00<?, ?batch/s]"
      ]
     },
     "metadata": {},
     "output_type": "display_data"
    },
    {
     "name": "stdout",
     "output_type": "stream",
     "text": [
      "Epoch 439, Val Loss: 0.000053, Val R2: 0.999948\n"
     ]
    },
    {
     "data": {
      "application/vnd.jupyter.widget-view+json": {
       "model_id": "6325ed9e45564133832aeefa5f093aff",
       "version_major": 2,
       "version_minor": 0
      },
      "text/plain": [
       "  0%|          | 0/2 [00:00<?, ?batch/s]"
      ]
     },
     "metadata": {},
     "output_type": "display_data"
    },
    {
     "name": "stdout",
     "output_type": "stream",
     "text": [
      "Epoch 440, Val Loss: 0.000052, Val R2: 0.999948\n"
     ]
    },
    {
     "data": {
      "application/vnd.jupyter.widget-view+json": {
       "model_id": "61ff3e0e526b4c6d8352309b1be4286d",
       "version_major": 2,
       "version_minor": 0
      },
      "text/plain": [
       "  0%|          | 0/2 [00:00<?, ?batch/s]"
      ]
     },
     "metadata": {},
     "output_type": "display_data"
    },
    {
     "name": "stdout",
     "output_type": "stream",
     "text": [
      "Epoch 441, Val Loss: 0.000052, Val R2: 0.999948\n"
     ]
    },
    {
     "data": {
      "application/vnd.jupyter.widget-view+json": {
       "model_id": "65904fd767014310891e42a041312b05",
       "version_major": 2,
       "version_minor": 0
      },
      "text/plain": [
       "  0%|          | 0/2 [00:00<?, ?batch/s]"
      ]
     },
     "metadata": {},
     "output_type": "display_data"
    },
    {
     "name": "stdout",
     "output_type": "stream",
     "text": [
      "Epoch 442, Val Loss: 0.000052, Val R2: 0.999948\n"
     ]
    },
    {
     "data": {
      "application/vnd.jupyter.widget-view+json": {
       "model_id": "e67d14be46e8429c81083ec7ff36b556",
       "version_major": 2,
       "version_minor": 0
      },
      "text/plain": [
       "  0%|          | 0/2 [00:00<?, ?batch/s]"
      ]
     },
     "metadata": {},
     "output_type": "display_data"
    },
    {
     "name": "stdout",
     "output_type": "stream",
     "text": [
      "Epoch 443, Val Loss: 0.000052, Val R2: 0.999949\n"
     ]
    },
    {
     "data": {
      "application/vnd.jupyter.widget-view+json": {
       "model_id": "14c7beed04bf4410bc98eecd8655bccb",
       "version_major": 2,
       "version_minor": 0
      },
      "text/plain": [
       "  0%|          | 0/2 [00:00<?, ?batch/s]"
      ]
     },
     "metadata": {},
     "output_type": "display_data"
    },
    {
     "name": "stdout",
     "output_type": "stream",
     "text": [
      "Epoch 444, Val Loss: 0.000052, Val R2: 0.999949\n"
     ]
    },
    {
     "data": {
      "application/vnd.jupyter.widget-view+json": {
       "model_id": "fa408958935c45ea85bc7c699d6afb4e",
       "version_major": 2,
       "version_minor": 0
      },
      "text/plain": [
       "  0%|          | 0/2 [00:00<?, ?batch/s]"
      ]
     },
     "metadata": {},
     "output_type": "display_data"
    },
    {
     "name": "stdout",
     "output_type": "stream",
     "text": [
      "Epoch 445, Val Loss: 0.000051, Val R2: 0.999949\n"
     ]
    },
    {
     "data": {
      "application/vnd.jupyter.widget-view+json": {
       "model_id": "fcf9e9fd81f4429f912a3e6a3c82e48e",
       "version_major": 2,
       "version_minor": 0
      },
      "text/plain": [
       "  0%|          | 0/2 [00:00<?, ?batch/s]"
      ]
     },
     "metadata": {},
     "output_type": "display_data"
    },
    {
     "name": "stdout",
     "output_type": "stream",
     "text": [
      "Epoch 446, Val Loss: 0.000051, Val R2: 0.999949\n"
     ]
    },
    {
     "data": {
      "application/vnd.jupyter.widget-view+json": {
       "model_id": "b706a10f36fa4b90bb0db3a831b15a25",
       "version_major": 2,
       "version_minor": 0
      },
      "text/plain": [
       "  0%|          | 0/2 [00:00<?, ?batch/s]"
      ]
     },
     "metadata": {},
     "output_type": "display_data"
    },
    {
     "name": "stdout",
     "output_type": "stream",
     "text": [
      "Epoch 447, Val Loss: 0.000051, Val R2: 0.999949\n"
     ]
    },
    {
     "data": {
      "application/vnd.jupyter.widget-view+json": {
       "model_id": "262966015c034548b92b87ae72d2a384",
       "version_major": 2,
       "version_minor": 0
      },
      "text/plain": [
       "  0%|          | 0/2 [00:00<?, ?batch/s]"
      ]
     },
     "metadata": {},
     "output_type": "display_data"
    },
    {
     "name": "stdout",
     "output_type": "stream",
     "text": [
      "Epoch 448, Val Loss: 0.000051, Val R2: 0.999950\n"
     ]
    },
    {
     "data": {
      "application/vnd.jupyter.widget-view+json": {
       "model_id": "c7a255f12b394dd2b9a3aba46c8a9661",
       "version_major": 2,
       "version_minor": 0
      },
      "text/plain": [
       "  0%|          | 0/2 [00:00<?, ?batch/s]"
      ]
     },
     "metadata": {},
     "output_type": "display_data"
    },
    {
     "name": "stdout",
     "output_type": "stream",
     "text": [
      "Epoch 449, Val Loss: 0.000050, Val R2: 0.999950\n"
     ]
    },
    {
     "data": {
      "application/vnd.jupyter.widget-view+json": {
       "model_id": "248e6395c9634e7b93e8f28902fa5f83",
       "version_major": 2,
       "version_minor": 0
      },
      "text/plain": [
       "  0%|          | 0/2 [00:00<?, ?batch/s]"
      ]
     },
     "metadata": {},
     "output_type": "display_data"
    },
    {
     "name": "stdout",
     "output_type": "stream",
     "text": [
      "Epoch 450, Val Loss: 0.000050, Val R2: 0.999950\n"
     ]
    },
    {
     "data": {
      "application/vnd.jupyter.widget-view+json": {
       "model_id": "135f890b0d7347058e496fe4395ad88f",
       "version_major": 2,
       "version_minor": 0
      },
      "text/plain": [
       "  0%|          | 0/2 [00:00<?, ?batch/s]"
      ]
     },
     "metadata": {},
     "output_type": "display_data"
    },
    {
     "name": "stdout",
     "output_type": "stream",
     "text": [
      "Epoch 451, Val Loss: 0.000050, Val R2: 0.999950\n"
     ]
    },
    {
     "data": {
      "application/vnd.jupyter.widget-view+json": {
       "model_id": "12fa1c61e67a47048655e7bee19631ee",
       "version_major": 2,
       "version_minor": 0
      },
      "text/plain": [
       "  0%|          | 0/2 [00:00<?, ?batch/s]"
      ]
     },
     "metadata": {},
     "output_type": "display_data"
    },
    {
     "name": "stdout",
     "output_type": "stream",
     "text": [
      "Epoch 452, Val Loss: 0.000050, Val R2: 0.999951\n"
     ]
    },
    {
     "data": {
      "application/vnd.jupyter.widget-view+json": {
       "model_id": "b81b84d0c5fd49a6b8c6d60a247eec72",
       "version_major": 2,
       "version_minor": 0
      },
      "text/plain": [
       "  0%|          | 0/2 [00:00<?, ?batch/s]"
      ]
     },
     "metadata": {},
     "output_type": "display_data"
    },
    {
     "name": "stdout",
     "output_type": "stream",
     "text": [
      "Epoch 453, Val Loss: 0.000050, Val R2: 0.999951\n"
     ]
    },
    {
     "data": {
      "application/vnd.jupyter.widget-view+json": {
       "model_id": "8547ed29385e4d66a57453eefd350b0e",
       "version_major": 2,
       "version_minor": 0
      },
      "text/plain": [
       "  0%|          | 0/2 [00:00<?, ?batch/s]"
      ]
     },
     "metadata": {},
     "output_type": "display_data"
    },
    {
     "name": "stdout",
     "output_type": "stream",
     "text": [
      "Epoch 454, Val Loss: 0.000049, Val R2: 0.999951\n"
     ]
    },
    {
     "data": {
      "application/vnd.jupyter.widget-view+json": {
       "model_id": "8f21cd112b974282b05c46b26e56dcb1",
       "version_major": 2,
       "version_minor": 0
      },
      "text/plain": [
       "  0%|          | 0/2 [00:00<?, ?batch/s]"
      ]
     },
     "metadata": {},
     "output_type": "display_data"
    },
    {
     "name": "stdout",
     "output_type": "stream",
     "text": [
      "Epoch 455, Val Loss: 0.000049, Val R2: 0.999951\n"
     ]
    },
    {
     "data": {
      "application/vnd.jupyter.widget-view+json": {
       "model_id": "85001045221b4cf1943a8e2dc2167802",
       "version_major": 2,
       "version_minor": 0
      },
      "text/plain": [
       "  0%|          | 0/2 [00:00<?, ?batch/s]"
      ]
     },
     "metadata": {},
     "output_type": "display_data"
    },
    {
     "name": "stdout",
     "output_type": "stream",
     "text": [
      "Epoch 456, Val Loss: 0.000049, Val R2: 0.999951\n"
     ]
    },
    {
     "data": {
      "application/vnd.jupyter.widget-view+json": {
       "model_id": "4ea262892b604fa780d54cc04bc22e97",
       "version_major": 2,
       "version_minor": 0
      },
      "text/plain": [
       "  0%|          | 0/2 [00:00<?, ?batch/s]"
      ]
     },
     "metadata": {},
     "output_type": "display_data"
    },
    {
     "name": "stdout",
     "output_type": "stream",
     "text": [
      "Epoch 457, Val Loss: 0.000049, Val R2: 0.999952\n"
     ]
    },
    {
     "data": {
      "application/vnd.jupyter.widget-view+json": {
       "model_id": "b9a962ce55da4c5caf8cb47a501efb12",
       "version_major": 2,
       "version_minor": 0
      },
      "text/plain": [
       "  0%|          | 0/2 [00:00<?, ?batch/s]"
      ]
     },
     "metadata": {},
     "output_type": "display_data"
    },
    {
     "name": "stdout",
     "output_type": "stream",
     "text": [
      "Epoch 458, Val Loss: 0.000049, Val R2: 0.999952\n"
     ]
    },
    {
     "data": {
      "application/vnd.jupyter.widget-view+json": {
       "model_id": "75e41bf0976b4d82bfe611f8b1efb87a",
       "version_major": 2,
       "version_minor": 0
      },
      "text/plain": [
       "  0%|          | 0/2 [00:00<?, ?batch/s]"
      ]
     },
     "metadata": {},
     "output_type": "display_data"
    },
    {
     "name": "stdout",
     "output_type": "stream",
     "text": [
      "Epoch 459, Val Loss: 0.000048, Val R2: 0.999952\n"
     ]
    },
    {
     "data": {
      "application/vnd.jupyter.widget-view+json": {
       "model_id": "228e008e9d8349a88ce264adce08f4bb",
       "version_major": 2,
       "version_minor": 0
      },
      "text/plain": [
       "  0%|          | 0/2 [00:00<?, ?batch/s]"
      ]
     },
     "metadata": {},
     "output_type": "display_data"
    },
    {
     "name": "stdout",
     "output_type": "stream",
     "text": [
      "Epoch 460, Val Loss: 0.000048, Val R2: 0.999952\n"
     ]
    },
    {
     "data": {
      "application/vnd.jupyter.widget-view+json": {
       "model_id": "7d2117b9c93644d9a0a5ee2c100aab50",
       "version_major": 2,
       "version_minor": 0
      },
      "text/plain": [
       "  0%|          | 0/2 [00:00<?, ?batch/s]"
      ]
     },
     "metadata": {},
     "output_type": "display_data"
    },
    {
     "name": "stdout",
     "output_type": "stream",
     "text": [
      "Epoch 461, Val Loss: 0.000048, Val R2: 0.999952\n"
     ]
    },
    {
     "data": {
      "application/vnd.jupyter.widget-view+json": {
       "model_id": "5bb4affbc8ab4fc18c7844661704cbc7",
       "version_major": 2,
       "version_minor": 0
      },
      "text/plain": [
       "  0%|          | 0/2 [00:00<?, ?batch/s]"
      ]
     },
     "metadata": {},
     "output_type": "display_data"
    },
    {
     "name": "stdout",
     "output_type": "stream",
     "text": [
      "Epoch 462, Val Loss: 0.000048, Val R2: 0.999953\n"
     ]
    },
    {
     "data": {
      "application/vnd.jupyter.widget-view+json": {
       "model_id": "b3493e2793444feb811b1f1eb8a56608",
       "version_major": 2,
       "version_minor": 0
      },
      "text/plain": [
       "  0%|          | 0/2 [00:00<?, ?batch/s]"
      ]
     },
     "metadata": {},
     "output_type": "display_data"
    },
    {
     "name": "stdout",
     "output_type": "stream",
     "text": [
      "Epoch 463, Val Loss: 0.000048, Val R2: 0.999953\n"
     ]
    },
    {
     "data": {
      "application/vnd.jupyter.widget-view+json": {
       "model_id": "571e12c0dfcb4d4b9d05456291e94dba",
       "version_major": 2,
       "version_minor": 0
      },
      "text/plain": [
       "  0%|          | 0/2 [00:00<?, ?batch/s]"
      ]
     },
     "metadata": {},
     "output_type": "display_data"
    },
    {
     "name": "stdout",
     "output_type": "stream",
     "text": [
      "Epoch 464, Val Loss: 0.000047, Val R2: 0.999953\n"
     ]
    },
    {
     "data": {
      "application/vnd.jupyter.widget-view+json": {
       "model_id": "0f42e1357d1e41369257d1ca4ea68d10",
       "version_major": 2,
       "version_minor": 0
      },
      "text/plain": [
       "  0%|          | 0/2 [00:00<?, ?batch/s]"
      ]
     },
     "metadata": {},
     "output_type": "display_data"
    },
    {
     "name": "stdout",
     "output_type": "stream",
     "text": [
      "Epoch 465, Val Loss: 0.000047, Val R2: 0.999953\n"
     ]
    },
    {
     "data": {
      "application/vnd.jupyter.widget-view+json": {
       "model_id": "8156560c73b0419ba4402a5e68914f0f",
       "version_major": 2,
       "version_minor": 0
      },
      "text/plain": [
       "  0%|          | 0/2 [00:00<?, ?batch/s]"
      ]
     },
     "metadata": {},
     "output_type": "display_data"
    },
    {
     "name": "stdout",
     "output_type": "stream",
     "text": [
      "Epoch 466, Val Loss: 0.000047, Val R2: 0.999953\n"
     ]
    },
    {
     "data": {
      "application/vnd.jupyter.widget-view+json": {
       "model_id": "cb51f24d44414f1787eecb9a1930d507",
       "version_major": 2,
       "version_minor": 0
      },
      "text/plain": [
       "  0%|          | 0/2 [00:00<?, ?batch/s]"
      ]
     },
     "metadata": {},
     "output_type": "display_data"
    },
    {
     "name": "stdout",
     "output_type": "stream",
     "text": [
      "Epoch 467, Val Loss: 0.000047, Val R2: 0.999954\n"
     ]
    },
    {
     "data": {
      "application/vnd.jupyter.widget-view+json": {
       "model_id": "85bc55bfd4214dad858d89ee328cde95",
       "version_major": 2,
       "version_minor": 0
      },
      "text/plain": [
       "  0%|          | 0/2 [00:00<?, ?batch/s]"
      ]
     },
     "metadata": {},
     "output_type": "display_data"
    },
    {
     "name": "stdout",
     "output_type": "stream",
     "text": [
      "Epoch 468, Val Loss: 0.000047, Val R2: 0.999954\n"
     ]
    },
    {
     "data": {
      "application/vnd.jupyter.widget-view+json": {
       "model_id": "0f13c9b7c7fd4c868f97d3a16a66dacb",
       "version_major": 2,
       "version_minor": 0
      },
      "text/plain": [
       "  0%|          | 0/2 [00:00<?, ?batch/s]"
      ]
     },
     "metadata": {},
     "output_type": "display_data"
    },
    {
     "name": "stdout",
     "output_type": "stream",
     "text": [
      "Epoch 469, Val Loss: 0.000047, Val R2: 0.999954\n"
     ]
    },
    {
     "data": {
      "application/vnd.jupyter.widget-view+json": {
       "model_id": "29ec799737a64dff84fca10a83ffbe01",
       "version_major": 2,
       "version_minor": 0
      },
      "text/plain": [
       "  0%|          | 0/2 [00:00<?, ?batch/s]"
      ]
     },
     "metadata": {},
     "output_type": "display_data"
    },
    {
     "name": "stdout",
     "output_type": "stream",
     "text": [
      "Epoch 470, Val Loss: 0.000046, Val R2: 0.999954\n"
     ]
    },
    {
     "data": {
      "application/vnd.jupyter.widget-view+json": {
       "model_id": "3bbfc77441f4401f95cdba99d1545aca",
       "version_major": 2,
       "version_minor": 0
      },
      "text/plain": [
       "  0%|          | 0/2 [00:00<?, ?batch/s]"
      ]
     },
     "metadata": {},
     "output_type": "display_data"
    },
    {
     "name": "stdout",
     "output_type": "stream",
     "text": [
      "Epoch 471, Val Loss: 0.000046, Val R2: 0.999954\n"
     ]
    },
    {
     "data": {
      "application/vnd.jupyter.widget-view+json": {
       "model_id": "28921022a31f4b78b89380c7076c8d4d",
       "version_major": 2,
       "version_minor": 0
      },
      "text/plain": [
       "  0%|          | 0/2 [00:00<?, ?batch/s]"
      ]
     },
     "metadata": {},
     "output_type": "display_data"
    },
    {
     "name": "stdout",
     "output_type": "stream",
     "text": [
      "Epoch 472, Val Loss: 0.000046, Val R2: 0.999954\n"
     ]
    },
    {
     "data": {
      "application/vnd.jupyter.widget-view+json": {
       "model_id": "14d1ee17999241518da8df515d9a96b4",
       "version_major": 2,
       "version_minor": 0
      },
      "text/plain": [
       "  0%|          | 0/2 [00:00<?, ?batch/s]"
      ]
     },
     "metadata": {},
     "output_type": "display_data"
    },
    {
     "name": "stdout",
     "output_type": "stream",
     "text": [
      "Epoch 473, Val Loss: 0.000046, Val R2: 0.999955\n"
     ]
    },
    {
     "data": {
      "application/vnd.jupyter.widget-view+json": {
       "model_id": "2aebc27c7898490499f8cc3bbe809983",
       "version_major": 2,
       "version_minor": 0
      },
      "text/plain": [
       "  0%|          | 0/2 [00:00<?, ?batch/s]"
      ]
     },
     "metadata": {},
     "output_type": "display_data"
    },
    {
     "name": "stdout",
     "output_type": "stream",
     "text": [
      "Epoch 474, Val Loss: 0.000046, Val R2: 0.999955\n"
     ]
    },
    {
     "data": {
      "application/vnd.jupyter.widget-view+json": {
       "model_id": "c9dc4b114fc6407b889de882a9fde3bd",
       "version_major": 2,
       "version_minor": 0
      },
      "text/plain": [
       "  0%|          | 0/2 [00:00<?, ?batch/s]"
      ]
     },
     "metadata": {},
     "output_type": "display_data"
    },
    {
     "name": "stdout",
     "output_type": "stream",
     "text": [
      "Epoch 475, Val Loss: 0.000045, Val R2: 0.999955\n"
     ]
    },
    {
     "data": {
      "application/vnd.jupyter.widget-view+json": {
       "model_id": "78d208d7ca944265ae0d1c151c6baceb",
       "version_major": 2,
       "version_minor": 0
      },
      "text/plain": [
       "  0%|          | 0/2 [00:00<?, ?batch/s]"
      ]
     },
     "metadata": {},
     "output_type": "display_data"
    },
    {
     "name": "stdout",
     "output_type": "stream",
     "text": [
      "Epoch 476, Val Loss: 0.000045, Val R2: 0.999955\n"
     ]
    },
    {
     "data": {
      "application/vnd.jupyter.widget-view+json": {
       "model_id": "d4716db691ed4ae699fc72f113b3ec45",
       "version_major": 2,
       "version_minor": 0
      },
      "text/plain": [
       "  0%|          | 0/2 [00:00<?, ?batch/s]"
      ]
     },
     "metadata": {},
     "output_type": "display_data"
    },
    {
     "name": "stdout",
     "output_type": "stream",
     "text": [
      "Epoch 477, Val Loss: 0.000045, Val R2: 0.999955\n"
     ]
    },
    {
     "data": {
      "application/vnd.jupyter.widget-view+json": {
       "model_id": "992e08f416d945c98a118016fb84f7a8",
       "version_major": 2,
       "version_minor": 0
      },
      "text/plain": [
       "  0%|          | 0/2 [00:00<?, ?batch/s]"
      ]
     },
     "metadata": {},
     "output_type": "display_data"
    },
    {
     "name": "stdout",
     "output_type": "stream",
     "text": [
      "Epoch 478, Val Loss: 0.000045, Val R2: 0.999955\n"
     ]
    },
    {
     "data": {
      "application/vnd.jupyter.widget-view+json": {
       "model_id": "2940c2e641f04c4d8d7735cb4a27ca42",
       "version_major": 2,
       "version_minor": 0
      },
      "text/plain": [
       "  0%|          | 0/2 [00:00<?, ?batch/s]"
      ]
     },
     "metadata": {},
     "output_type": "display_data"
    },
    {
     "name": "stdout",
     "output_type": "stream",
     "text": [
      "Epoch 479, Val Loss: 0.000045, Val R2: 0.999956\n"
     ]
    },
    {
     "data": {
      "application/vnd.jupyter.widget-view+json": {
       "model_id": "489b85ecb0b84f31b0d53289e3cb768e",
       "version_major": 2,
       "version_minor": 0
      },
      "text/plain": [
       "  0%|          | 0/2 [00:00<?, ?batch/s]"
      ]
     },
     "metadata": {},
     "output_type": "display_data"
    },
    {
     "name": "stdout",
     "output_type": "stream",
     "text": [
      "Epoch 480, Val Loss: 0.000045, Val R2: 0.999956\n"
     ]
    },
    {
     "data": {
      "application/vnd.jupyter.widget-view+json": {
       "model_id": "97b209cee2184817ac424952e0caaa69",
       "version_major": 2,
       "version_minor": 0
      },
      "text/plain": [
       "  0%|          | 0/2 [00:00<?, ?batch/s]"
      ]
     },
     "metadata": {},
     "output_type": "display_data"
    },
    {
     "name": "stdout",
     "output_type": "stream",
     "text": [
      "Epoch 481, Val Loss: 0.000044, Val R2: 0.999956\n"
     ]
    },
    {
     "data": {
      "application/vnd.jupyter.widget-view+json": {
       "model_id": "128ad5c0b828431ebe9319d7fc36d794",
       "version_major": 2,
       "version_minor": 0
      },
      "text/plain": [
       "  0%|          | 0/2 [00:00<?, ?batch/s]"
      ]
     },
     "metadata": {},
     "output_type": "display_data"
    },
    {
     "name": "stdout",
     "output_type": "stream",
     "text": [
      "Epoch 482, Val Loss: 0.000044, Val R2: 0.999956\n"
     ]
    },
    {
     "data": {
      "application/vnd.jupyter.widget-view+json": {
       "model_id": "0bb83c2381984956b64710ac95b773ef",
       "version_major": 2,
       "version_minor": 0
      },
      "text/plain": [
       "  0%|          | 0/2 [00:00<?, ?batch/s]"
      ]
     },
     "metadata": {},
     "output_type": "display_data"
    },
    {
     "name": "stdout",
     "output_type": "stream",
     "text": [
      "Epoch 483, Val Loss: 0.000044, Val R2: 0.999956\n"
     ]
    },
    {
     "data": {
      "application/vnd.jupyter.widget-view+json": {
       "model_id": "bf352ce210114188b1a327e7db70426e",
       "version_major": 2,
       "version_minor": 0
      },
      "text/plain": [
       "  0%|          | 0/2 [00:00<?, ?batch/s]"
      ]
     },
     "metadata": {},
     "output_type": "display_data"
    },
    {
     "name": "stdout",
     "output_type": "stream",
     "text": [
      "Epoch 484, Val Loss: 0.000044, Val R2: 0.999956\n"
     ]
    },
    {
     "data": {
      "application/vnd.jupyter.widget-view+json": {
       "model_id": "d33ac7990da94e5cb4584c374997838a",
       "version_major": 2,
       "version_minor": 0
      },
      "text/plain": [
       "  0%|          | 0/2 [00:00<?, ?batch/s]"
      ]
     },
     "metadata": {},
     "output_type": "display_data"
    },
    {
     "name": "stdout",
     "output_type": "stream",
     "text": [
      "Epoch 485, Val Loss: 0.000044, Val R2: 0.999957\n"
     ]
    },
    {
     "data": {
      "application/vnd.jupyter.widget-view+json": {
       "model_id": "f8ba48b3d14a439fa830ae2e1779363c",
       "version_major": 2,
       "version_minor": 0
      },
      "text/plain": [
       "  0%|          | 0/2 [00:00<?, ?batch/s]"
      ]
     },
     "metadata": {},
     "output_type": "display_data"
    },
    {
     "name": "stdout",
     "output_type": "stream",
     "text": [
      "Epoch 486, Val Loss: 0.000044, Val R2: 0.999957\n"
     ]
    },
    {
     "data": {
      "application/vnd.jupyter.widget-view+json": {
       "model_id": "25e9abe7118f4f54aa2bf209d4867cda",
       "version_major": 2,
       "version_minor": 0
      },
      "text/plain": [
       "  0%|          | 0/2 [00:00<?, ?batch/s]"
      ]
     },
     "metadata": {},
     "output_type": "display_data"
    },
    {
     "name": "stdout",
     "output_type": "stream",
     "text": [
      "Epoch 487, Val Loss: 0.000043, Val R2: 0.999957\n"
     ]
    },
    {
     "data": {
      "application/vnd.jupyter.widget-view+json": {
       "model_id": "c961713f41204f7ca0878c70aeeed7e5",
       "version_major": 2,
       "version_minor": 0
      },
      "text/plain": [
       "  0%|          | 0/2 [00:00<?, ?batch/s]"
      ]
     },
     "metadata": {},
     "output_type": "display_data"
    },
    {
     "name": "stdout",
     "output_type": "stream",
     "text": [
      "Epoch 488, Val Loss: 0.000043, Val R2: 0.999957\n"
     ]
    },
    {
     "data": {
      "application/vnd.jupyter.widget-view+json": {
       "model_id": "d45348d58b0243a79936ea5b0581d691",
       "version_major": 2,
       "version_minor": 0
      },
      "text/plain": [
       "  0%|          | 0/2 [00:00<?, ?batch/s]"
      ]
     },
     "metadata": {},
     "output_type": "display_data"
    },
    {
     "name": "stdout",
     "output_type": "stream",
     "text": [
      "Epoch 489, Val Loss: 0.000043, Val R2: 0.999957\n"
     ]
    },
    {
     "data": {
      "application/vnd.jupyter.widget-view+json": {
       "model_id": "175c010d2f564defbe0ec054e96f3ac3",
       "version_major": 2,
       "version_minor": 0
      },
      "text/plain": [
       "  0%|          | 0/2 [00:00<?, ?batch/s]"
      ]
     },
     "metadata": {},
     "output_type": "display_data"
    },
    {
     "name": "stdout",
     "output_type": "stream",
     "text": [
      "Epoch 490, Val Loss: 0.000043, Val R2: 0.999957\n"
     ]
    },
    {
     "data": {
      "application/vnd.jupyter.widget-view+json": {
       "model_id": "1d2ac46f4fd44b7fbdf64978999a46f6",
       "version_major": 2,
       "version_minor": 0
      },
      "text/plain": [
       "  0%|          | 0/2 [00:00<?, ?batch/s]"
      ]
     },
     "metadata": {},
     "output_type": "display_data"
    },
    {
     "name": "stdout",
     "output_type": "stream",
     "text": [
      "Epoch 491, Val Loss: 0.000043, Val R2: 0.999957\n"
     ]
    },
    {
     "data": {
      "application/vnd.jupyter.widget-view+json": {
       "model_id": "71737099e8de455089337346bbda165c",
       "version_major": 2,
       "version_minor": 0
      },
      "text/plain": [
       "  0%|          | 0/2 [00:00<?, ?batch/s]"
      ]
     },
     "metadata": {},
     "output_type": "display_data"
    },
    {
     "name": "stdout",
     "output_type": "stream",
     "text": [
      "Epoch 492, Val Loss: 0.000043, Val R2: 0.999958\n"
     ]
    },
    {
     "data": {
      "application/vnd.jupyter.widget-view+json": {
       "model_id": "aeac9c61904d4d37abc03bc8b0ac1195",
       "version_major": 2,
       "version_minor": 0
      },
      "text/plain": [
       "  0%|          | 0/2 [00:00<?, ?batch/s]"
      ]
     },
     "metadata": {},
     "output_type": "display_data"
    },
    {
     "name": "stdout",
     "output_type": "stream",
     "text": [
      "Epoch 493, Val Loss: 0.000043, Val R2: 0.999958\n"
     ]
    },
    {
     "data": {
      "application/vnd.jupyter.widget-view+json": {
       "model_id": "0b40743a20654cf5b4401d56ed27822b",
       "version_major": 2,
       "version_minor": 0
      },
      "text/plain": [
       "  0%|          | 0/2 [00:00<?, ?batch/s]"
      ]
     },
     "metadata": {},
     "output_type": "display_data"
    },
    {
     "name": "stdout",
     "output_type": "stream",
     "text": [
      "Epoch 494, Val Loss: 0.000042, Val R2: 0.999958\n"
     ]
    },
    {
     "data": {
      "application/vnd.jupyter.widget-view+json": {
       "model_id": "9d6d6aa8a8154101bcc3438edc0c6b90",
       "version_major": 2,
       "version_minor": 0
      },
      "text/plain": [
       "  0%|          | 0/2 [00:00<?, ?batch/s]"
      ]
     },
     "metadata": {},
     "output_type": "display_data"
    },
    {
     "name": "stdout",
     "output_type": "stream",
     "text": [
      "Epoch 495, Val Loss: 0.000042, Val R2: 0.999958\n"
     ]
    },
    {
     "data": {
      "application/vnd.jupyter.widget-view+json": {
       "model_id": "f9ac053287414457b8caf197b7d99159",
       "version_major": 2,
       "version_minor": 0
      },
      "text/plain": [
       "  0%|          | 0/2 [00:00<?, ?batch/s]"
      ]
     },
     "metadata": {},
     "output_type": "display_data"
    },
    {
     "name": "stdout",
     "output_type": "stream",
     "text": [
      "Epoch 496, Val Loss: 0.000042, Val R2: 0.999958\n"
     ]
    },
    {
     "data": {
      "application/vnd.jupyter.widget-view+json": {
       "model_id": "82970faf75614dec94aae50131f9b908",
       "version_major": 2,
       "version_minor": 0
      },
      "text/plain": [
       "  0%|          | 0/2 [00:00<?, ?batch/s]"
      ]
     },
     "metadata": {},
     "output_type": "display_data"
    },
    {
     "name": "stdout",
     "output_type": "stream",
     "text": [
      "Epoch 497, Val Loss: 0.000042, Val R2: 0.999958\n"
     ]
    },
    {
     "data": {
      "application/vnd.jupyter.widget-view+json": {
       "model_id": "473cf0782f4245cba8758c63975db4c3",
       "version_major": 2,
       "version_minor": 0
      },
      "text/plain": [
       "  0%|          | 0/2 [00:00<?, ?batch/s]"
      ]
     },
     "metadata": {},
     "output_type": "display_data"
    },
    {
     "name": "stdout",
     "output_type": "stream",
     "text": [
      "Epoch 498, Val Loss: 0.000042, Val R2: 0.999958\n"
     ]
    },
    {
     "data": {
      "application/vnd.jupyter.widget-view+json": {
       "model_id": "e8b6e05720ea43c9b0364c41d8064501",
       "version_major": 2,
       "version_minor": 0
      },
      "text/plain": [
       "  0%|          | 0/2 [00:00<?, ?batch/s]"
      ]
     },
     "metadata": {},
     "output_type": "display_data"
    },
    {
     "name": "stdout",
     "output_type": "stream",
     "text": [
      "Epoch 499, Val Loss: 0.000042, Val R2: 0.999958\n"
     ]
    },
    {
     "data": {
      "application/vnd.jupyter.widget-view+json": {
       "model_id": "0bdc9df97b9d4178873c5c4f9fc1efc9",
       "version_major": 2,
       "version_minor": 0
      },
      "text/plain": [
       "  0%|          | 0/2 [00:00<?, ?batch/s]"
      ]
     },
     "metadata": {},
     "output_type": "display_data"
    },
    {
     "name": "stdout",
     "output_type": "stream",
     "text": [
      "Epoch 500, Val Loss: 0.000042, Val R2: 0.999959\n",
      "Finished training at epoch 500 with best loss 0.000042 and R2 of 0.999959\n"
     ]
    },
    {
     "data": {
      "image/png": "[encoded data removed]",
      "text/plain": [
       "<Figure size 640x480 with 2 Axes>"
      ]
     },
     "metadata": {},
     "output_type": "display_data"
    }
   ],
   "source": [
    "dim = int(RandDeviationVect.getDimension())\n",
    "neural_model = otaf.surrogate.NeuralRegressorNetwork(\n",
    "    dim, 1,\n",
    "    Xtrain, ytrain[:,-1], \n",
    "    clamping=True, \n",
    "    finish_critertion_epoch=5,\n",
    "    loss_finish=1e-6, \n",
    "    metric_finish=0.99999, \n",
    "    max_epochs=500, \n",
    "    batch_size=30000, \n",
    "    compile_model=False, \n",
    "    train_size=0.6, \n",
    "    input_description=RandDeviationVect.getDescription(),\n",
    "    display_progress_disable=False)\n",
    "\n",
    "lr=0.003\n",
    "\n",
    "#neural_model.model = KAN([dim, 8, 4, 1])  #otaf.surrogate.get_base_relu_mlp_model(dim, 1, False)\n",
    "\n",
    "neural_model.model = otaf.torch.nn.Sequential(\n",
    "    *otaf.surrogate.get_custom_mlp_layers([dim, 100, 70, 30, 1], activation_class=otaf.torch.nn.GELU)\n",
    ")\n",
    "\n",
    "neural_model.optimizer = otaf.torch.optim.AdamW(neural_model.parameters(), lr=lr, weight_decay=1e-4)\n",
    "otaf.surrogate.initialize_model_weights(neural_model)\n",
    "neural_model.scheduler =  otaf.torch.optim.lr_scheduler.ExponentialLR(neural_model.optimizer, 1.0001)\n",
    "neural_model.loss_fn = otaf.torch.nn.MSELoss()\n",
    "#neural_model.loss_fn = otaf.uncertainty.LimitSpaceFocusedLoss(0.0001, 2, square=True) # otaf.uncertainty.PositiveLimitSpaceFocusedLoss(0.0001, 2, 4, square=False)\n",
    "\n",
    "\n",
    "neural_model.train_model()\n",
    "neural_model.plot_results()"
   ]
  },
  {
   "cell_type": "markdown",
   "id": "69344ac5-4131-45b1-afb5-700e3cee16ee",
   "metadata": {},
   "source": [
    "## Optimization on the imprecise space of defects, to get upper and lower probability of failure given the constraints on the defect parameters."
   ]
  },
  {
   "cell_type": "code",
   "execution_count": 13,
   "id": "f318bc00-42e7-4b24-a3c5-addfbd847565",
   "metadata": {},
   "outputs": [],
   "source": [
    "#Function to store results\n",
    "\n",
    "result_dict={}\n",
    "\n",
    "def store_results(x, fp_gld, fp_slack, gld_params, experiment_key=None, result_dict=result_dict):\n",
    "    x_key = otaf.common.bidirectional_string_to_array_conversion(x)\n",
    "    x_dict = {\"FP_GLD\": fp_gld, \"FP_SLACK\":fp_slack, \"GLD_PARAMS\": gld_params}\n",
    "    if experiment_key is None:\n",
    "        if x_key in result_dict.keys():\n",
    "            result_dict[x_key].update(x_dict)\n",
    "        else :\n",
    "            result_dict[x_key] = x_dict\n",
    "    else : \n",
    "        if experiment_key not in result_dict:\n",
    "            result_dict[experiment_key] = {}\n",
    "        if x_key in result_dict[experiment_key].keys():\n",
    "            result_dict[experiment_key][x_key].update(x_dict)\n",
    "        else:\n",
    "            result_dict[experiment_key][x_key] = x_dict\n",
    "    "
   ]
  },
  {
   "cell_type": "code",
   "execution_count": 14,
   "id": "b7931fd9-0536-4ab4-81c8-cebb80edc302",
   "metadata": {},
   "outputs": [],
   "source": [
    "SIZE_MC_PF = 100000 #int(1e6) #1e4\n",
    "\n",
    "sample_gld = otaf.sampling.generate_and_transform_sequence(NDim_Defects, SIZE_MC_PF, RandDeviationVect) \n",
    "scale_factor = 1.0\n",
    "\n",
    "# Generalized lambda distribution object for fitting\n",
    "gld = GLD('VSL')\n",
    "\n",
    "def model(x, sample=sample_gld):\n",
    "    # Direct model without ai\n",
    "    x = sample * x[np.newaxis, :]\n",
    "    gap_variable_array = otaf.uncertainty.compute_gap_optimizations_on_sample_batch(\n",
    "        SOCAM, x, n_cpu=-1, progress_bar=True\n",
    "    )\n",
    "    slack_variable = gap_variable_array[:, -1]\n",
    "    return slack_variable\n",
    "\n",
    "def model2(x, sample=sample_gld): \n",
    "    # Surrogate ai model\n",
    "    x = sample * x[np.newaxis, :]\n",
    "    return np.squeeze(neural_model.evaluate_model_non_standard_space(x).detach().numpy())\n",
    "\n",
    "@otaf.optimization.scaling(scale_factor)\n",
    "def optimization_function_mini(x, failure_slack=0.0, model=model2, experiment_key=None, result_dict=result_dict):\n",
    "    # Here we search the minimal probability of failure\n",
    "    slack = model(x)\n",
    "    gld_params = gld.fit_LMM(slack,  disp_fit=False, disp_optimizer=False)\n",
    "    fp_slack = np.where(slack<failure_slack,1,0).mean()\n",
    "    fp_gld = np.nan\n",
    "    if np.any(np.isnan(gld_params)):\n",
    "        fp_out = fp_slack\n",
    "    else :\n",
    "        print(\"\\tgld_params:\", gld_params)\n",
    "        fp_gld = gld.CDF_num(failure_slack, gld_params)\n",
    "        fp_out = fp_gld\n",
    "    \n",
    "    store_results(x, fp_gld, fp_slack, gld_params, experiment_key, result_dict)\n",
    "    return fp_out\n",
    "\n",
    "\n",
    "@otaf.optimization.scaling(scale_factor)\n",
    "def optimization_function_maxi(x, failure_slack=0.0, model=model2, experiment_key=None, result_dict=result_dict):\n",
    "    # Here we search the maximal probability of failure so negative output\n",
    "    slack = model(x)\n",
    "    gld_params = gld.fit_LMM(slack, disp_fit=False, disp_optimizer=False)\n",
    "    fp_slack = np.where(slack<failure_slack,1,0).mean()\n",
    "    fp_gld = np.nan\n",
    "    if np.any(np.isnan(gld_params)):\n",
    "        fp_out = fp_slack\n",
    "    else :\n",
    "        print(\"\\tgld_params:\", gld_params)\n",
    "        fp_gld = gld.CDF_num(failure_slack, gld_params)\n",
    "        fp_out = fp_gld\n",
    "    \n",
    "    store_results(x, fp_gld, fp_slack, gld_params, experiment_key, result_dict)\n",
    "\n",
    "    return fp_out*-1"
   ]
  },
  {
   "cell_type": "markdown",
   "id": "1b3dc012-2dfc-4e89-8b95-7c457173587e",
   "metadata": {},
   "source": [
    "# Definition of the FLDPCF constraint function\n",
    "\n",
    "Variance (std) based parameter constraint function"
   ]
  },
  {
   "cell_type": "code",
   "execution_count": 15,
   "id": "1fd42d5f-3761-4b53-8c84-8ea6f487aab8",
   "metadata": {},
   "outputs": [],
   "source": [
    "midof_funcs = otaf.tolerances.MiSdofToleranceZones()\n",
    "\n",
    "feature_constraint_list = []\n",
    "\n",
    "# We know that all features are parallel lines, with same values/dimensions\n",
    "for i in range(2):\n",
    "    fconst = otaf.tolerances.FeatureLevelStatisticalConstraint(\n",
    "        midof_funcs.two_parallel_straight_lines,\n",
    "        mif_args = (t, X3),\n",
    "        n_dof = 2,\n",
    "        n_sample = 40000,\n",
    "        target = \"std\", #\"prob\",\n",
    "        target_val = sigma_e_pos*np.sqrt(1-(2/np.pi)), #To be folded normal variance!\n",
    "        isNormal = True, #The component distributions are normal\n",
    "        normalizeOutput = True, #Normalize constraint\n",
    "    )\n",
    "    feature_constraint_list.append(fconst)\n",
    "\n",
    "# The input of this object would be a list of parameters (their real value)\n",
    "composed_assembly_constraint = otaf.tolerances.ComposedAssemblyLevelStatisticalConstraint(feature_constraint_list)"
   ]
  },
  {
   "cell_type": "code",
   "execution_count": 16,
   "id": "fb600b47-44ad-45fd-93da-f5a29efba012",
   "metadata": {},
   "outputs": [],
   "source": [
    "param_bounds_one_feature = [[0.0,0.0], [0.0, sigma_e_pos], #u, mean std\n",
    "                            [0.0,0.0], [0.0, sigma_e_theta] # alpha, mean std\n",
    "                           ]\n",
    "param_bounds = [param_bounds_one_feature] * 2 #We have 2 identical features wth defects\n",
    "\n",
    "# The input of this object is a list of normalized parameters (between 0 and 1)\n",
    "normalized_assembly_constraint = otaf.tolerances.NormalizedAssemblyLevelConstraint(\n",
    "    composed_assembly_constraint,\n",
    "    param_val_bounds=param_bounds)"
   ]
  },
  {
   "cell_type": "code",
   "execution_count": 17,
   "id": "eec57d95-46e9-47b3-b057-b68a31b31d87",
   "metadata": {},
   "outputs": [],
   "source": [
    "def assembly_constraint_no_mean(x, scale_factor=1.0, result_dict=result_dict, experiment_key=None):\n",
    "    \"\"\" The functions takes directly the concatenated list of all normalized parameters (between 0 and 1), \n",
    "    and reconstructs the statistical constraint violation for each feature.\n",
    "    \"\"\"\n",
    "    assert len(x)==4, \"problem with input.\"\n",
    "    zer = np.zeros(2) # These are the mean values (all 0)\n",
    "    x = np.array(x)\n",
    "    params_for_assembly = []\n",
    "    for i in range(2):\n",
    "        params = x[i*2:i*2+2]\n",
    "        pa = [item for pair in zip(zer, params) for item in pair]\n",
    "        params_for_assembly.append(pa)\n",
    "    constraint_array =  normalized_assembly_constraint(params_for_assembly)\n",
    "    \n",
    "    # Storing data\n",
    "    x_key = otaf.common.bidirectional_string_to_array_conversion(x)\n",
    "    data = {\"CONST\":constraint_array}\n",
    "    if experiment_key is not None:\n",
    "        if x_key in result_dict[experiment_key].keys():\n",
    "            result_dict[experiment_key][x_key].update(data)\n",
    "        else:\n",
    "            result_dict[experiment_key][x_key] = data\n",
    "    else :\n",
    "        if x_key in result_dict.keys():\n",
    "            result_dict[x_key].update(data)\n",
    "        else :\n",
    "            result_dict[x_key] = data\n",
    "            \n",
    "    return constraint_array * scale_factor"
   ]
  },
  {
   "cell_type": "code",
   "execution_count": 18,
   "id": "efbacdf4-8ee7-4ad2-8aa6-b408c566d0c3",
   "metadata": {},
   "outputs": [],
   "source": [
    "# Define the nonlinear constraint with the updated vector-valued function and Jacobian\n",
    "nonLinearConstraint = NonlinearConstraint(\n",
    "    fun=assembly_constraint_no_mean,\n",
    "    lb = -0.005 * np.ones((2,)),\n",
    "    ub = 0.005 * np.ones((2,)),\n",
    "    keep_feasible=True,\n",
    ")"
   ]
  },
  {
   "cell_type": "markdown",
   "id": "701e5c11-de56-4437-99f5-9019839cc18a",
   "metadata": {},
   "source": [
    "# Optimizations to find the paramter values that maximize and minimize the rejection rate."
   ]
  },
  {
   "cell_type": "code",
   "execution_count": null,
   "id": "63241638-cc40-480a-9692-8e4dc7c9859b",
   "metadata": {},
   "outputs": [],
   "source": [
    "def pf_min_max_optimizer(failure_slack=0.0):\n",
    "    # Initial guess\n",
    "    x0 = [0.5] * NDim_Defects  # Initial guess\n",
    "    \n",
    "    # Perform the local optimization using COBYQA directly\n",
    "    res_maxi = minimize(\n",
    "        optimization_function_maxi, x0,\n",
    "        args=(failure_slack),\n",
    "        method=\"COBYQA\", \n",
    "        jac=None, \n",
    "        bounds=Bounds(0.0, 1.0, keep_feasible=True),\n",
    "        constraints = nonLinearConstraint,\n",
    "        options={\n",
    "            \"f_target\": -0.1, \n",
    "            \"maxiter\": 1000,\n",
    "            \"maxfev\": 4000,\n",
    "            \"feasibility_tol\": 1e-9,\n",
    "            \"initial_tr_radius\": np.sqrt(2*10),\n",
    "            \"final_tr_radius\": 1e-5,\n",
    "            \"disp\": True,\n",
    "            \"scale\": False #True\n",
    "        }\n",
    "    )\n",
    "\n",
    "    # Perform the local optimization using COBYQA directly\n",
    "    res_mini = minimize(\n",
    "        optimization_function_mini, x0, \n",
    "        args=(failure_slack),\n",
    "        method=\"COBYQA\", \n",
    "        jac=None, \n",
    "        bounds=Bounds(0.0, 1.0, keep_feasible=True),\n",
    "        constraints = nonLinearConstraint,\n",
    "        options={\n",
    "            \"f_target\": -0.01,\n",
    "            \"maxiter\": 1000,\n",
    "            \"maxfev\": 4000,\n",
    "            \"feasibility_tol\": 1e-9,\n",
    "            \"initial_tr_radius\": np.sqrt(2*10),\n",
    "            \"final_tr_radius\": 1e-5,\n",
    "            \"disp\": True,\n",
    "            \"scale\": False #True\n",
    "        }\n",
    "    )\n"
   ]
  },
  {
   "cell_type": "markdown",
   "id": "5cb89faf-31a3-42f5-860c-043667015974",
   "metadata": {},
   "source": [
    "## First maximize Pf"
   ]
  },
  {
   "cell_type": "code",
   "execution_count": 24,
   "id": "64ab39a3-dd76-40a4-84c1-b3c03f5fe866",
   "metadata": {
    "scrolled": true
   },
   "outputs": [
    {
     "name": "stdout",
     "output_type": "stream",
     "text": [
      "Starting the optimization procedure.\n",
      "Initial trust-region radius: 4.47213595499958.\n",
      "Final trust-region radius: 1e-05.\n",
      "Maximum number of function evaluations: 4000.\n",
      "Maximum number of iterations: 1000.\n",
      "\n",
      "\tgld_params: [0.08856811 0.0264701  0.45903768 0.13346703]\n",
      "wrapper([ 5.000e-01  5.000e-01  5.000e-01  5.000e-01]) = -0.033927266907030997\n",
      "assembly_constraint_no_mean([ 5.000e-01  5.000e-01  5.000e-01  5.000e-01]) = [-2.931e-01 -2.931e-01]\n",
      "\tgld_params: [0.08752506 0.03866473 0.48742986 0.13775182]\n",
      "wrapper([ 1.000e+00  5.000e-01  5.000e-01  5.000e-01]) = -0.09764607848560232\n",
      "assembly_constraint_no_mean([ 1.000e+00  5.000e-01  5.000e-01  5.000e-01]) = [ 1.177e-01 -2.931e-01]\n",
      "\tgld_params: [0.08436175 0.03085305 0.40106453 0.12431918]\n",
      "wrapper([ 5.000e-01  1.000e+00  5.000e-01  5.000e-01]) = -0.10913415154202188\n",
      "assembly_constraint_no_mean([ 5.000e-01  1.000e+00  5.000e-01  5.000e-01]) = [ 1.177e-01 -2.931e-01]\n",
      "\tgld_params: [0.08753964 0.03867727 0.48721254 0.13802956]\n",
      "wrapper([ 5.000e-01  5.000e-01  1.000e+00  5.000e-01]) = -0.09766470061470622\n",
      "assembly_constraint_no_mean([ 5.000e-01  5.000e-01  1.000e+00  5.000e-01]) = [-2.931e-01  1.177e-01]\n",
      "\tgld_params: [0.08437671 0.03085232 0.40093431 0.12439195]\n",
      "wrapper([ 5.000e-01  5.000e-01  5.000e-01  1.000e+00]) = -0.10906155291673056\n",
      "assembly_constraint_no_mean([ 5.000e-01  5.000e-01  5.000e-01  1.000e+00]) = [-2.931e-01  1.177e-01]\n",
      "\tgld_params: [0.08967651 0.02083146 0.41806825 0.12711943]\n",
      "wrapper([ 0.000e+00  5.000e-01  5.000e-01  5.000e-01]) = -0.014270226760975011\n",
      "assembly_constraint_no_mean([ 0.000e+00  5.000e-01  5.000e-01  5.000e-01]) = [-5.001e-01 -2.931e-01]\n",
      "\tgld_params: [0.09133843 0.02480558 0.48196721 0.13807622]\n",
      "wrapper([ 5.000e-01  0.000e+00  5.000e-01  5.000e-01]) = -0.013885033666695076\n",
      "assembly_constraint_no_mean([ 5.000e-01  0.000e+00  5.000e-01  5.000e-01]) = [-5.001e-01 -2.931e-01]\n",
      "\tgld_params: [0.08970124 0.02083417 0.41735596 0.1275254 ]\n",
      "wrapper([ 5.000e-01  5.000e-01  0.000e+00  5.000e-01]) = -0.01426643892428051\n",
      "assembly_constraint_no_mean([ 5.000e-01  5.000e-01  0.000e+00  5.000e-01]) = [-2.931e-01 -5.001e-01]\n",
      "\tgld_params: [0.09131748 0.0248174  0.48218133 0.13820367]\n",
      "wrapper([ 5.000e-01  5.000e-01  5.000e-01  0.000e+00]) = -0.0139101507986577\n",
      "assembly_constraint_no_mean([ 5.000e-01  5.000e-01  5.000e-01  0.000e+00]) = [-2.931e-01 -5.001e-01]\n",
      "\tgld_params: [0.08343812 0.03251063 0.33183918 0.12493704]\n",
      "wrapper([ 3.175e-01  1.000e+00  5.090e-01  9.735e-01]) = -0.16234118145100673\n",
      "assembly_constraint_no_mean([ 3.175e-01  1.000e+00  5.090e-01  9.735e-01]) = [ 4.895e-02  9.823e-02]\n",
      "\tgld_params: [0.08412456 0.03323388 0.43325086 0.12863352]\n",
      "wrapper([ 6.588e-01  7.500e-01  5.045e-01  7.367e-01]) = -0.11281327615724521\n",
      "assembly_constraint_no_mean([ 6.588e-01  7.500e-01  5.045e-01  7.367e-01]) = [-2.051e-03 -1.073e-01]\n",
      "\n",
      "New trust-region radius: 0.05.\n",
      "Number of function evaluations: 11.\n",
      "Number of iterations: 7.\n",
      "Least value of wrapper: -0.16234118145100673.\n",
      "Maximum constraint violation: 0.09322781203357818.\n",
      "Corresponding point: [ 3.175e-01  1.000e+00  5.090e-01  9.735e-01].\n",
      "\n",
      "\tgld_params: [0.08661489 0.03010624 0.24812589 0.14475869]\n",
      "wrapper([ 2.129e-01  1.000e+00  3.285e-01  1.000e+00]) = -0.1478751629891274\n",
      "assembly_constraint_no_mean([ 2.129e-01  1.000e+00  3.285e-01  1.000e+00]) = [ 2.219e-02  5.231e-02]\n",
      "\tgld_params: [0.08490397 0.03037733 0.30683583 0.1284636 ]\n",
      "wrapper([ 2.046e-01  1.000e+00  4.684e-01  9.124e-01]) = -0.14227859080037294\n",
      "assembly_constraint_no_mean([ 2.046e-01  1.000e+00  4.684e-01  9.124e-01]) = [ 2.050e-02  2.533e-02]\n",
      "\tgld_params: [0.08489488 0.03046442 0.30552438 0.12907575]\n",
      "wrapper([ 4.003e-01  9.467e-01  3.158e-01  9.755e-01]) = -0.14357915112259984\n",
      "assembly_constraint_no_mean([ 4.003e-01  9.467e-01  3.158e-01  9.755e-01]) = [ 2.757e-02  2.506e-02]\n",
      "\tgld_params: [0.08354906 0.03251115 0.32371266 0.12575923]\n",
      "wrapper([ 1.105e-01  1.000e+00  5.723e-01  1.000e+00]) = -0.1651925825730108\n",
      "assembly_constraint_no_mean([ 1.105e-01  1.000e+00  5.723e-01  1.000e+00]) = [ 5.886e-03  1.519e-01]\n",
      "\tgld_params: [0.08397751 0.03112605 0.34791298 0.12316523]\n",
      "wrapper([ 1.348e-01  1.000e+00  5.921e-01  8.277e-01]) = -0.13878305623814668\n",
      "assembly_constraint_no_mean([ 1.348e-01  1.000e+00  5.921e-01  8.277e-01]) = [ 8.842e-03  1.741e-02]\n",
      "\tgld_params: [0.0829366  0.03376441 0.40406745 0.12388252]\n",
      "wrapper([ 1.019e-01  1.000e+00  7.739e-01  6.843e-01]) = -0.1410636818599415\n",
      "assembly_constraint_no_mean([ 1.019e-01  1.000e+00  7.739e-01  6.843e-01]) = [ 4.989e-03  3.274e-02]\n",
      "\tgld_params: [0.08427508 0.0304719  0.35548305 0.12284014]\n",
      "wrapper([ 2.006e-01  9.100e-01  5.755e-01  8.587e-01]) = -0.12749231384164927\n",
      "assembly_constraint_no_mean([ 2.006e-01  9.100e-01  5.755e-01  8.587e-01]) = [-6.840e-02  3.347e-02]\n",
      "\tgld_params: [0.08347098 0.03205545 0.37679614 0.12243937]\n",
      "wrapper([ 1.076e-01  1.000e+00  6.766e-01  7.516e-01]) = -0.1370954832161272\n",
      "assembly_constraint_no_mean([ 1.076e-01  1.000e+00  6.766e-01  7.516e-01]) = [ 5.581e-03  1.105e-02]\n",
      "\tgld_params: [0.08299421 0.03400227 0.41187215 0.12460106]\n",
      "wrapper([ 1.094e-01  1.000e+00  7.955e-01  6.368e-01]) = -0.13832730453274455\n",
      "assembly_constraint_no_mean([ 1.094e-01  1.000e+00  7.955e-01  6.368e-01]) = [ 5.769e-03  1.870e-02]\n",
      "\tgld_params: [0.08390964 0.03113926 0.36904465 0.12228272]\n",
      "wrapper([ 3.188e-02  1.000e+00  6.493e-01  7.329e-01]) = -0.12984442634162857\n",
      "assembly_constraint_no_mean([ 3.188e-02  1.000e+00  6.493e-01  7.329e-01]) = [ 3.325e-04 -2.108e-02]\n",
      "\tgld_params: [0.08340416 0.03227252 0.38299834 0.12269338]\n",
      "wrapper([ 1.832e-01  9.923e-01  6.783e-01  7.404e-01]) = -0.13633625937658403\n",
      "assembly_constraint_no_mean([ 1.832e-01  9.923e-01  6.783e-01  7.404e-01]) = [ 8.840e-03  3.809e-03]\n",
      "\tgld_params: [0.08388639 0.03123204 0.35536096 0.12282961]\n",
      "wrapper([ 1.946e-01  9.866e-01  5.933e-01  8.196e-01]) = -0.13701945115989944\n",
      "assembly_constraint_no_mean([ 1.946e-01  9.866e-01  5.933e-01  8.196e-01]) = [ 5.372e-03  1.151e-02]\n",
      "\tgld_params: [0.0828627  0.0334399  0.38809205 0.1230041 ]\n",
      "wrapper([ 2.024e-01  1.000e+00  7.106e-01  7.724e-01]) = -0.1473478742646864\n",
      "assembly_constraint_no_mean([ 2.024e-01  1.000e+00  7.106e-01  7.724e-01]) = [ 2.006e-02  4.926e-02]\n",
      "\tgld_params: [0.08361537 0.0317381  0.3711931  0.12247983]\n",
      "wrapper([ 1.795e-01  9.892e-01  6.423e-01  7.747e-01]) = -0.1360207253415547\n",
      "assembly_constraint_no_mean([ 1.795e-01  9.892e-01  6.423e-01  7.747e-01]) = [ 5.134e-03  6.073e-03]\n",
      "\tgld_params: [0.08343526 0.03217793 0.38107648 0.12256247]\n",
      "wrapper([ 1.351e-01  9.972e-01  6.834e-01  7.390e-01]) = -0.1362870931517538\n",
      "assembly_constraint_no_mean([ 1.351e-01  9.972e-01  6.834e-01  7.390e-01]) = [ 6.147e-03  6.268e-03]\n",
      "\tgld_params: [0.0841863  0.03060418 0.36738078 0.12243367]\n",
      "wrapper([ 1.789e-01  9.744e-01  6.100e-01  7.396e-01]) = -0.12400743612413835\n",
      "assembly_constraint_no_mean([ 1.789e-01  9.744e-01  6.100e-01  7.396e-01]) = [-9.548e-03 -4.160e-02]\n",
      "\tgld_params: [0.08345446 0.03213478 0.38048368 0.1225803 ]\n",
      "wrapper([ 1.580e-01  9.930e-01  6.762e-01  7.452e-01]) = -0.1360675144501454\n",
      "assembly_constraint_no_mean([ 1.580e-01  9.930e-01  6.762e-01  7.452e-01]) = [ 5.254e-03  6.030e-03]\n",
      "\tgld_params: [0.08336809 0.03239599 0.3863619  0.12274538]\n",
      "wrapper([ 1.340e-01  9.965e-01  6.996e-01  7.227e-01]) = -0.13597584432182244\n",
      "assembly_constraint_no_mean([ 1.340e-01  9.965e-01  6.996e-01  7.227e-01]) = [ 5.289e-03  5.514e-03]\n",
      "\tgld_params: [0.0835781  0.03214431 0.39351081 0.1231431 ]\n",
      "wrapper([ 1.306e-01  9.479e-01  7.095e-01  7.280e-01]) = -0.1288348141623647\n",
      "assembly_constraint_no_mean([ 1.306e-01  9.479e-01  7.095e-01  7.280e-01]) = [-4.330e-02  1.628e-02]\n",
      "\tgld_params: [0.08335706 0.0324415  0.38742834 0.12283113]\n",
      "wrapper([ 1.598e-01  9.928e-01  6.974e-01  7.240e-01]) = -0.13588882197033997\n",
      "assembly_constraint_no_mean([ 1.598e-01  9.928e-01  6.974e-01  7.240e-01]) = [ 5.361e-03  4.996e-03]\n",
      "\tgld_params: [0.0835358  0.03192199 0.37563104 0.12248099]\n",
      "wrapper([ 1.573e-01  9.928e-01  6.614e-01  7.587e-01]) = -0.13604433343382957\n",
      "assembly_constraint_no_mean([ 1.573e-01  9.928e-01  6.614e-01  7.587e-01]) = [ 4.992e-03  6.239e-03]\n",
      "\n",
      "New trust-region radius: 0.005000000000000001.\n",
      "Number of function evaluations: 32.\n",
      "Number of iterations: 23.\n",
      "Least value of wrapper: -0.13597584432182244.\n",
      "Maximum constraint violation: 0.000514397669423166.\n",
      "Corresponding point: [ 1.340e-01  9.965e-01  6.996e-01  7.227e-01].\n",
      "\n",
      "\tgld_params: [0.08345893 0.03212594 0.38067194 0.12255064]\n",
      "wrapper([ 1.355e-01  9.960e-01  6.813e-01  7.396e-01]) = -0.1358787506230691\n",
      "assembly_constraint_no_mean([ 1.355e-01  9.960e-01  6.813e-01  7.396e-01]) = [ 4.991e-03  5.319e-03]\n",
      "\tgld_params: [0.08338717 0.0323414  0.38520925 0.12275326]\n",
      "wrapper([ 1.692e-01  9.915e-01  6.882e-01  7.329e-01]) = -0.13594317052597113\n",
      "assembly_constraint_no_mean([ 1.692e-01  9.915e-01  6.882e-01  7.329e-01]) = [ 5.588e-03  5.037e-03]\n",
      "\tgld_params: [0.08365912 0.0317098  0.37897559 0.12247936]\n",
      "wrapper([ 1.329e-01  9.921e-01  6.691e-01  7.277e-01]) = -0.1317727040158735\n",
      "assembly_constraint_no_mean([ 1.329e-01  9.921e-01  6.691e-01  7.277e-01]) = [ 7.679e-04 -1.170e-02]\n",
      "\tgld_params: [0.08342102 0.03223886 0.38318994 0.12265132]\n",
      "wrapper([ 1.519e-01  9.938e-01  6.857e-01  7.352e-01]) = -0.1358527577692463\n",
      "assembly_constraint_no_mean([ 1.519e-01  9.938e-01  6.857e-01  7.352e-01]) = [ 5.146e-03  5.014e-03]\n",
      "\tgld_params: [0.08339785 0.03230994 0.38477134 0.12269957]\n",
      "wrapper([ 1.463e-01  9.945e-01  6.918e-01  7.294e-01]) = -0.13583228379353407\n",
      "assembly_constraint_no_mean([ 1.463e-01  9.945e-01  6.918e-01  7.294e-01]) = [ 5.021e-03  5.033e-03]\n",
      "\tgld_params: [0.08340832 0.03227876 0.38401877 0.12270042]\n",
      "wrapper([ 1.643e-01  9.919e-01  6.854e-01  7.354e-01]) = -0.13586189204348545\n",
      "assembly_constraint_no_mean([ 1.643e-01  9.919e-01  6.854e-01  7.354e-01]) = [ 5.168e-03  5.037e-03]\n",
      "\tgld_params: [0.08328182 0.03254938 0.38533755 0.12273655]\n",
      "wrapper([ 1.468e-01  9.982e-01  6.982e-01  7.363e-01]) = -0.13837463927678964\n",
      "assembly_constraint_no_mean([ 1.468e-01  9.982e-01  6.982e-01  7.363e-01]) = [ 8.731e-03  1.445e-02]\n",
      "\tgld_params: [0.08340816 0.03227916 0.38409669 0.12268768]\n",
      "wrapper([ 1.547e-01  9.933e-01  6.878e-01  7.332e-01]) = -0.13583214086591225\n",
      "assembly_constraint_no_mean([ 1.547e-01  9.933e-01  6.878e-01  7.332e-01]) = [ 5.037e-03  5.014e-03]\n",
      "\tgld_params: [0.08341184 0.03229516 0.38547636 0.12273084]\n",
      "wrapper([ 1.457e-01  9.899e-01  6.931e-01  7.306e-01]) = -0.13525799419902007\n",
      "assembly_constraint_no_mean([ 1.457e-01  9.899e-01  6.931e-01  7.306e-01]) = [ 3.290e-04  6.749e-03]\n",
      "\tgld_params: [0.0834048  0.03228924 0.38433481 0.12268926]\n",
      "wrapper([ 1.502e-01  9.939e-01  6.896e-01  7.315e-01]) = -0.13582449794374246\n",
      "assembly_constraint_no_mean([ 1.502e-01  9.939e-01  6.896e-01  7.315e-01]) = [ 5.008e-03  5.005e-03]\n",
      "\tgld_params: [0.08340468 0.03229049 0.38434654 0.1227003 ]\n",
      "wrapper([ 1.569e-01  9.929e-01  6.881e-01  7.329e-01]) = -0.13582699930043743\n",
      "assembly_constraint_no_mean([ 1.569e-01  9.929e-01  6.881e-01  7.329e-01]) = [ 5.023e-03  5.002e-03]\n",
      "\tgld_params: [0.08346187 0.03217088 0.38400048 0.12266968]\n",
      "wrapper([ 1.499e-01  9.923e-01  6.863e-01  7.281e-01]) = -0.13459470319911968\n",
      "assembly_constraint_no_mean([ 1.499e-01  9.923e-01  6.863e-01  7.281e-01]) = [ 3.369e-03  2.829e-04]\n",
      "\n",
      "The target objective function value has been reached.\n",
      "Number of function evaluations: 44.\n",
      "Number of iterations: 31.\n",
      "Least value of wrapper: -0.13459470319911968.\n",
      "Maximum constraint violation: 0.0.\n",
      "Corresponding point: [ 1.499e-01  9.923e-01  6.863e-01  7.281e-01].\n",
      "Maximization Result with COBYQA:\n",
      " message: The target objective function value has been reached\n",
      " success: True\n",
      "  status: 1\n",
      "     fun: -0.13459470319911968\n",
      "       x: [ 1.499e-01  9.923e-01  6.863e-01  7.281e-01]\n",
      "     nit: 31\n",
      "   maxcv: 0.0\n",
      "    nfev: 44\n"
     ]
    }
   ],
   "source": [
    "\n",
    "print(\"Maximization Result with COBYQA:\")\n",
    "print(res_maxi)"
   ]
  },
  {
   "cell_type": "markdown",
   "id": "1bc5f7a7-35e6-4ea0-9fbf-c56734166961",
   "metadata": {},
   "source": [
    "## Then minimize Pf"
   ]
  },
  {
   "cell_type": "code",
   "execution_count": 25,
   "id": "fd7617ce-fc9c-4df9-9a40-e6c48f777287",
   "metadata": {
    "scrolled": true
   },
   "outputs": [
    {
     "name": "stdout",
     "output_type": "stream",
     "text": [
      "Starting the optimization procedure.\n",
      "Initial trust-region radius: 4.47213595499958.\n",
      "Final trust-region radius: 1e-05.\n",
      "Maximum number of function evaluations: 4000.\n",
      "Maximum number of iterations: 1000.\n",
      "\n",
      "\tgld_params: [0.08856811 0.0264701  0.45903768 0.13346703]\n",
      "wrapper([ 5.000e-01  5.000e-01  5.000e-01  5.000e-01]) = 0.033927266907030997\n",
      "assembly_constraint_no_mean([ 5.000e-01  5.000e-01  5.000e-01  5.000e-01]) = [-2.931e-01 -2.931e-01]\n",
      "\tgld_params: [0.08752506 0.03866473 0.48742986 0.13775182]\n",
      "wrapper([ 1.000e+00  5.000e-01  5.000e-01  5.000e-01]) = 0.09764607848560232\n",
      "assembly_constraint_no_mean([ 1.000e+00  5.000e-01  5.000e-01  5.000e-01]) = [ 1.177e-01 -2.931e-01]\n",
      "\tgld_params: [0.08436175 0.03085305 0.40106453 0.12431918]\n",
      "wrapper([ 5.000e-01  1.000e+00  5.000e-01  5.000e-01]) = 0.10913415154202188\n",
      "assembly_constraint_no_mean([ 5.000e-01  1.000e+00  5.000e-01  5.000e-01]) = [ 1.177e-01 -2.931e-01]\n",
      "\tgld_params: [0.08753964 0.03867727 0.48721254 0.13802956]\n",
      "wrapper([ 5.000e-01  5.000e-01  1.000e+00  5.000e-01]) = 0.09766470061470622\n",
      "assembly_constraint_no_mean([ 5.000e-01  5.000e-01  1.000e+00  5.000e-01]) = [-2.931e-01  1.177e-01]\n",
      "\tgld_params: [0.08437671 0.03085232 0.40093431 0.12439195]\n",
      "wrapper([ 5.000e-01  5.000e-01  5.000e-01  1.000e+00]) = 0.10906155291673056\n",
      "assembly_constraint_no_mean([ 5.000e-01  5.000e-01  5.000e-01  1.000e+00]) = [-2.931e-01  1.177e-01]\n",
      "\tgld_params: [0.08967651 0.02083146 0.41806825 0.12711943]\n",
      "wrapper([ 0.000e+00  5.000e-01  5.000e-01  5.000e-01]) = 0.014270226760975011\n",
      "assembly_constraint_no_mean([ 0.000e+00  5.000e-01  5.000e-01  5.000e-01]) = [-5.001e-01 -2.931e-01]\n",
      "\tgld_params: [0.09133843 0.02480558 0.48196721 0.13807622]\n",
      "wrapper([ 5.000e-01  0.000e+00  5.000e-01  5.000e-01]) = 0.013885033666695076\n",
      "assembly_constraint_no_mean([ 5.000e-01  0.000e+00  5.000e-01  5.000e-01]) = [-5.001e-01 -2.931e-01]\n",
      "\tgld_params: [0.08970124 0.02083417 0.41735596 0.1275254 ]\n",
      "wrapper([ 5.000e-01  5.000e-01  0.000e+00  5.000e-01]) = 0.01426643892428051\n",
      "assembly_constraint_no_mean([ 5.000e-01  5.000e-01  0.000e+00  5.000e-01]) = [-2.931e-01 -5.001e-01]\n",
      "\tgld_params: [0.09131748 0.0248174  0.48218133 0.13820367]\n",
      "wrapper([ 5.000e-01  5.000e-01  5.000e-01  0.000e+00]) = 0.0139101507986577\n",
      "assembly_constraint_no_mean([ 5.000e-01  5.000e-01  5.000e-01  0.000e+00]) = [-2.931e-01 -5.001e-01]\n",
      "\tgld_params: [0.08618451 0.04269816 0.48666199 0.1383369 ]\n",
      "wrapper([ 8.726e-01  5.128e-01  8.700e-01  5.963e-01]) = 0.1294129410072102\n",
      "assembly_constraint_no_mean([ 8.726e-01  5.128e-01  8.700e-01  5.963e-01]) = [ 1.185e-02  5.445e-02]\n",
      "\n",
      "New trust-region radius: 0.05.\n",
      "Number of function evaluations: 10.\n",
      "Number of iterations: 8.\n",
      "Least value of wrapper: 0.033927266907030997.\n",
      "Maximum constraint violation: 0.2880940889621689.\n",
      "Corresponding point: [ 5.000e-01  5.000e-01  5.000e-01  5.000e-01].\n",
      "\n",
      "\tgld_params: [0.08684441 0.04157593 0.48777835 0.13851269]\n",
      "wrapper([ 8.626e-01  5.031e-01  8.402e-01  5.502e-01]) = 0.11815788011011913\n",
      "assembly_constraint_no_mean([ 8.626e-01  5.031e-01  8.402e-01  5.502e-01]) = [-1.699e-03  4.070e-03]\n",
      "\tgld_params: [0.08810265 0.04214171 0.49200377 0.1392155 ]\n",
      "wrapper([ 8.665e-01  4.826e-01  8.849e-01  4.541e-01]) = 0.11110865362739124\n",
      "assembly_constraint_no_mean([ 8.665e-01  4.826e-01  8.849e-01  4.541e-01]) = [-8.384e-03 -5.662e-03]\n",
      "\tgld_params: [0.09021708 0.0439497  0.49687497 0.14001727]\n",
      "wrapper([ 8.982e-01  4.347e-01  9.631e-01  3.064e-01]) = 0.10566613678625665\n",
      "assembly_constraint_no_mean([ 8.982e-01  4.347e-01  9.631e-01  3.064e-01]) = [-2.371e-03  1.045e-02]\n",
      "\tgld_params: [0.09406131 0.04571048 0.50053356 0.14099396]\n",
      "wrapper([ 9.737e-01  2.876e-01  1.000e+00  1.222e-01]) = 0.09201506486011567\n",
      "assembly_constraint_no_mean([ 9.737e-01  2.876e-01  1.000e+00  1.222e-01]) = [ 1.502e-02  7.254e-03]\n",
      "\tgld_params: [0.09688488 0.04595135 0.50125208 0.14146175]\n",
      "wrapper([ 1.000e+00  1.456e-01  1.000e+00  2.514e-02]) = 0.07946382983049509\n",
      "assembly_constraint_no_mean([ 1.000e+00  1.456e-01  1.000e+00  2.514e-02]) = [ 1.035e-02  1.554e-04]\n",
      "\tgld_params: [0.09801056 0.04569175 0.5011718  0.14144381]\n",
      "wrapper([ 1.000e+00  4.978e-02  9.942e-01  1.041e-17]) = 0.0735029577464085\n",
      "assembly_constraint_no_mean([ 1.000e+00  4.978e-02  9.942e-01  1.041e-17]) = [ 1.071e-03 -5.930e-03]\n",
      "\tgld_params: [0.09818072 0.0455989  0.50113508 0.14144151]\n",
      "wrapper([ 9.962e-01  0.000e+00  9.948e-01  0.000e+00]) = 0.0724024636909565\n",
      "assembly_constraint_no_mean([ 9.962e-01  0.000e+00  9.948e-01  0.000e+00]) = [-3.986e-03 -5.384e-03]\n",
      "\tgld_params: [0.09806134 0.04495827 0.50119748 0.14134865]\n",
      "wrapper([ 9.964e-01  2.897e-02  9.661e-01  2.897e-02]) = 0.0700827732733002\n",
      "assembly_constraint_no_mean([ 9.964e-01  2.897e-02  9.661e-01  2.897e-02]) = [-3.350e-03 -3.362e-02]\n",
      "\tgld_params: [0.09806104 0.04496708 0.50121217 0.14152879]\n",
      "wrapper([ 9.674e-01  2.894e-02  9.951e-01  2.894e-02]) = 0.07007072752002476\n",
      "assembly_constraint_no_mean([ 9.674e-01  2.894e-02  9.951e-01  2.894e-02]) = [-3.227e-02 -4.668e-03]\n",
      "\tgld_params: [0.09817211 0.04408063 0.50124587 0.14149183]\n",
      "wrapper([ 9.508e-01  0.000e+00  9.737e-01  0.000e+00]) = 0.06574326651917042\n",
      "assembly_constraint_no_mean([ 9.508e-01  0.000e+00  9.737e-01  0.000e+00]) = [-4.933e-02 -2.644e-02]\n",
      "\n",
      "New trust-region radius: 0.005000000000000001.\n",
      "Number of function evaluations: 20.\n",
      "Number of iterations: 20.\n",
      "Least value of wrapper: 0.0724024636909565.\n",
      "Maximum constraint violation: 0.00038398595601948915.\n",
      "Corresponding point: [ 9.962e-01  0.000e+00  9.948e-01  0.000e+00].\n",
      "\n",
      "\tgld_params: [0.09817999 0.04547803 0.50114494 0.14145365]\n",
      "wrapper([ 9.912e-01  0.000e+00  9.945e-01  0.000e+00]) = 0.07186835578690667\n",
      "assembly_constraint_no_mean([ 9.912e-01  0.000e+00  9.945e-01  0.000e+00]) = [-8.975e-03 -5.689e-03]\n",
      "\tgld_params: [0.09818129 0.04571058 0.50112885 0.1414597 ]\n",
      "wrapper([ 9.960e-01  0.000e+00  9.998e-01  0.000e+00]) = 0.07288765186433943\n",
      "assembly_constraint_no_mean([ 9.960e-01  0.000e+00  9.998e-01  0.000e+00]) = [-4.160e-03 -3.878e-04]\n",
      "\tgld_params: [0.09817916 0.04553421 0.50114076 0.14144937]\n",
      "wrapper([ 9.933e-01  2.894e-03  9.948e-01  2.894e-03]) = 0.07212090297723656\n",
      "assembly_constraint_no_mean([ 9.933e-01  2.894e-03  9.948e-01  2.894e-03]) = [-6.854e-03 -5.350e-03]\n",
      "\tgld_params: [0.09817957 0.04558469 0.50113671 0.14144572]\n",
      "wrapper([ 9.952e-01  0.000e+00  9.952e-01  3.892e-03]) = 0.07234318994291312\n",
      "assembly_constraint_no_mean([ 9.952e-01  0.000e+00  9.952e-01  3.892e-03]) = [-5.003e-03 -4.992e-03]\n",
      "\tgld_params: [0.09818063 0.04558475 0.5011365  0.14144559]\n",
      "wrapper([ 9.952e-01  1.419e-04  9.952e-01  0.000e+00]) = 0.07233914641939694\n",
      "assembly_constraint_no_mean([ 9.952e-01  1.419e-04  9.952e-01  0.000e+00]) = [-5.001e-03 -4.994e-03]\n",
      "\tgld_params: [0.09817982 0.04543888 0.50114571 0.14143294]\n",
      "wrapper([ 9.936e-01  0.000e+00  9.904e-01  0.000e+00]) = 0.07170236638883264\n",
      "assembly_constraint_no_mean([ 9.936e-01  0.000e+00  9.904e-01  0.000e+00]) = [-6.594e-03 -9.730e-03]\n",
      "\tgld_params: [0.09817885 0.04559385 0.50113621 0.14144414]\n",
      "wrapper([ 9.956e-01  5.117e-03  9.951e-01  0.000e+00]) = 0.07238695519022005\n",
      "assembly_constraint_no_mean([ 9.956e-01  5.117e-03  9.951e-01  0.000e+00]) = [-4.503e-03 -5.088e-03]\n",
      "\tgld_params: [0.09818016 0.04559004 0.50113616 0.14144465]\n",
      "wrapper([ 9.954e-01  2.661e-03  9.951e-01  0.000e+00]) = 0.07236471474286992\n",
      "assembly_constraint_no_mean([ 9.954e-01  2.661e-03  9.951e-01  0.000e+00]) = [-4.708e-03 -5.053e-03]\n",
      "\n",
      "New trust-region radius: 0.0005000000000000001.\n",
      "Number of function evaluations: 28.\n",
      "Number of iterations: 29.\n",
      "Least value of wrapper: 0.07233914641939694.\n",
      "Maximum constraint violation: 9.223572858887974e-07.\n",
      "Corresponding point: [ 9.952e-01  1.419e-04  9.952e-01  0.000e+00].\n",
      "\n",
      "\tgld_params: [0.09818056 0.04557083 0.50113735 0.14144417]\n",
      "wrapper([ 9.950e-01  1.441e-04  9.947e-01  0.000e+00]) = 0.07227842538456544\n",
      "assembly_constraint_no_mean([ 9.950e-01  1.441e-04  9.947e-01  0.000e+00]) = [-5.118e-03 -5.480e-03]\n",
      "\tgld_params: [0.0981806  0.04558572 0.50113642 0.14144543]\n",
      "wrapper([ 9.952e-01  6.393e-04  9.952e-01  0.000e+00]) = 0.07234359579029687\n",
      "assembly_constraint_no_mean([ 9.952e-01  6.393e-04  9.952e-01  0.000e+00]) = [-4.951e-03 -5.002e-03]\n",
      "\tgld_params: [0.09818069 0.04559976 0.50113553 0.14144673]\n",
      "wrapper([ 9.953e-01  1.300e-04  9.956e-01  0.000e+00]) = 0.07240484177048645\n",
      "assembly_constraint_no_mean([ 9.953e-01  1.300e-04  9.956e-01  0.000e+00]) = [-4.812e-03 -4.531e-03]\n",
      "\tgld_params: [0.09818056 0.04557902 0.50113695 0.141446  ]\n",
      "wrapper([ 9.949e-01  4.533e-04  9.951e-01  3.275e-04]) = 0.07231400499655828\n",
      "assembly_constraint_no_mean([ 9.949e-01  4.533e-04  9.951e-01  3.275e-04]) = [-5.211e-03 -5.035e-03]\n",
      "\tgld_params: [0.09818056 0.04557707 0.50113722 0.14144734]\n",
      "wrapper([ 9.947e-01  1.916e-04  9.953e-01  0.000e+00]) = 0.07230501248655138\n",
      "assembly_constraint_no_mean([ 9.947e-01  1.916e-04  9.953e-01  0.000e+00]) = [-5.479e-03 -4.855e-03]\n",
      "\n",
      "New trust-region radius: 7.071067811865477e-05.\n",
      "Number of function evaluations: 33.\n",
      "Number of iterations: 35.\n",
      "Least value of wrapper: 0.07233914641939694.\n",
      "Maximum constraint violation: 9.223572858887974e-07.\n",
      "Corresponding point: [ 9.952e-01  1.419e-04  9.952e-01  0.000e+00].\n",
      "\n",
      "\tgld_params: [0.09818063 0.04558463 0.5011365  0.14144556]\n",
      "wrapper([ 9.952e-01  0.000e+00  9.952e-01  0.000e+00]) = 0.0723386291150756\n",
      "assembly_constraint_no_mean([ 9.952e-01  0.000e+00  9.952e-01  0.000e+00]) = [-5.000e-03 -5.000e-03]\n",
      "\tgld_params: [0.09818063 0.04558463 0.5011365  0.14144556]\n",
      "wrapper([ 9.952e-01  4.298e-05  9.952e-01  0.000e+00]) = 0.07233862905745218\n",
      "assembly_constraint_no_mean([ 9.952e-01  4.298e-05  9.952e-01  0.000e+00]) = [-5.000e-03 -5.000e-03]\n",
      "\tgld_params: [0.09818061 0.04558322 0.50113662 0.14144567]\n",
      "wrapper([ 9.951e-01  1.458e-04  9.951e-01  8.205e-05]) = 0.07233247281328864\n",
      "assembly_constraint_no_mean([ 9.951e-01  1.458e-04  9.951e-01  8.205e-05]) = [-5.053e-03 -5.009e-03]\n",
      "\tgld_params: [0.09818063 0.04558463 0.5011365  0.14144556]\n",
      "wrapper([ 9.952e-01  0.000e+00  9.952e-01  0.000e+00]) = 0.07233862816427768\n",
      "assembly_constraint_no_mean([ 9.952e-01  0.000e+00  9.952e-01  0.000e+00]) = [-5.000e-03 -5.000e-03]\n",
      "\tgld_params: [0.09818063 0.04558563 0.5011364  0.1414453 ]\n",
      "wrapper([ 9.952e-01  0.000e+00  9.951e-01  0.000e+00]) = 0.07234315028035336\n",
      "assembly_constraint_no_mean([ 9.952e-01  0.000e+00  9.951e-01  0.000e+00]) = [-4.933e-03 -5.023e-03]\n",
      "\tgld_params: [0.09818063 0.04558688 0.50113635 0.14144567]\n",
      "wrapper([ 9.952e-01  0.000e+00  9.952e-01  0.000e+00]) = 0.07234853115625366\n",
      "assembly_constraint_no_mean([ 9.952e-01  0.000e+00  9.952e-01  0.000e+00]) = [-4.961e-03 -4.941e-03]\n",
      "\n",
      "New trust-region radius: 1e-05.\n",
      "Number of function evaluations: 39.\n",
      "Number of iterations: 41.\n",
      "Least value of wrapper: 0.07233862816427768.\n",
      "Maximum constraint violation: 4.475049063951131e-11.\n",
      "Corresponding point: [ 9.952e-01  0.000e+00  9.952e-01  0.000e+00].\n",
      "\n",
      "\tgld_params: [0.09818063 0.04558454 0.50113651 0.1414456 ]\n",
      "wrapper([ 9.951e-01  0.000e+00  9.952e-01  0.000e+00]) = 0.07233820570032395\n",
      "assembly_constraint_no_mean([ 9.951e-01  0.000e+00  9.952e-01  0.000e+00]) = [-5.009e-03 -4.995e-03]\n",
      "\tgld_params: [0.09818063 0.04558455 0.50113651 0.14144557]\n",
      "wrapper([ 9.952e-01  8.300e-06  9.952e-01  4.671e-06]) = 0.07233827394693795\n",
      "assembly_constraint_no_mean([ 9.952e-01  8.300e-06  9.952e-01  4.671e-06]) = [-5.003e-03 -5.000e-03]\n",
      "\tgld_params: [0.09818062 0.04558432 0.50113652 0.14144554]\n",
      "wrapper([ 9.951e-01  0.000e+00  9.951e-01  0.000e+00]) = 0.07233730668502472\n",
      "assembly_constraint_no_mean([ 9.951e-01  0.000e+00  9.951e-01  0.000e+00]) = [-5.004e-03 -5.009e-03]\n",
      "\tgld_params: [0.09818064 0.04558463 0.5011365  0.14144556]\n",
      "wrapper([ 9.952e-01  2.491e-07  9.952e-01  9.997e-06]) = 0.07233859718464995\n",
      "assembly_constraint_no_mean([ 9.952e-01  2.491e-07  9.952e-01  9.997e-06]) = [-5.000e-03 -5.000e-03]\n",
      "\tgld_params: [0.09818064 0.04558463 0.5011365  0.14144556]\n",
      "wrapper([ 9.952e-01  0.000e+00  9.952e-01  2.414e-05]) = 0.07233859762697252\n",
      "assembly_constraint_no_mean([ 9.952e-01  0.000e+00  9.952e-01  2.414e-05]) = [-5.000e-03 -5.000e-03]\n",
      "\tgld_params: [0.09818063 0.04558471 0.50113649 0.14144552]\n",
      "wrapper([ 9.952e-01  2.745e-06  9.951e-01  9.984e-06]) = 0.07233903217264578\n",
      "assembly_constraint_no_mean([ 9.952e-01  2.745e-06  9.951e-01  9.984e-06]) = [-4.992e-03 -5.005e-03]\n",
      "\tgld_params: [0.09818064 0.04558463 0.5011365  0.14144556]\n",
      "wrapper([ 9.952e-01  0.000e+00  9.952e-01  1.675e-05]) = 0.07233859746933857\n",
      "assembly_constraint_no_mean([ 9.952e-01  0.000e+00  9.952e-01  1.675e-05]) = [-5.000e-03 -5.000e-03]\n",
      "\tgld_params: [0.09818063 0.04558493 0.50113649 0.14144558]\n",
      "wrapper([ 9.952e-01  2.345e-06  9.952e-01  1.002e-05]) = 0.0723399837167371\n",
      "assembly_constraint_no_mean([ 9.952e-01  2.345e-06  9.952e-01  1.002e-05]) = [-4.996e-03 -4.991e-03]\n",
      "\tgld_params: [0.09818063 0.04558461 0.50113651 0.14144556]\n",
      "wrapper([ 9.952e-01  4.797e-06  9.952e-01  1.009e-05]) = 0.07233854692341729\n",
      "assembly_constraint_no_mean([ 9.952e-01  4.797e-06  9.952e-01  1.009e-05]) = [-5.001e-03 -5.000e-03]\n",
      "\n",
      "The lower bound for the trust-region radius has been reached.\n",
      "Number of function evaluations: 48.\n",
      "Number of iterations: 50.\n",
      "Least value of wrapper: 0.07233859718464995.\n",
      "Maximum constraint violation: 9.489006802532174e-13.\n",
      "Corresponding point: [ 9.952e-01  2.491e-07  9.952e-01  9.997e-06].\n",
      "minimization Result with COBYQA:\n",
      " message: The lower bound for the trust-region radius has been reached\n",
      " success: True\n",
      "  status: 0\n",
      "     fun: 0.07233859718464995\n",
      "       x: [ 9.952e-01  2.491e-07  9.952e-01  9.997e-06]\n",
      "     nit: 50\n",
      "   maxcv: 9.489006802532174e-13\n",
      "    nfev: 48\n"
     ]
    }
   ],
   "source": [
    "# Initial guess\n",
    "x0_mini = [0.5] * NDim_Defects  # Initial guess\n",
    "\n",
    "\n",
    "\n",
    "print(\"minimization Result with COBYQA:\")\n",
    "print(res_mini)"
   ]
  },
  {
   "cell_type": "markdown",
   "id": "aaf770bf-8939-455f-9053-cd553e9bae4a",
   "metadata": {},
   "source": [
    "upper gld_params: [0.08497226 0.02990299 0.31602318 0.12813885]\n",
    "lower gld_params: [0.0838287  0.03743792 0.45881353 0.13390931]"
   ]
  },
  {
   "cell_type": "code",
   "execution_count": 21,
   "id": "8c59c14d-0910-4fae-bc80-7e7d40d54ac0",
   "metadata": {
    "scrolled": true
   },
   "outputs": [
    {
     "data": {
      "text/plain": [
       "array([-0.00016764, -0.00016764])"
      ]
     },
     "execution_count": 21,
     "metadata": {},
     "output_type": "execute_result"
    }
   ],
   "source": [
    "assembly_constraint_no_mean(np.array([0.0,1.0,0.0,1.0]))"
   ]
  },
  {
   "cell_type": "code",
   "execution_count": 22,
   "id": "b5b68022-e923-4674-86b4-b2702cdc0994",
   "metadata": {},
   "outputs": [
    {
     "data": {
      "text/plain": [
       "array([-0.00015442, -0.00015442])"
      ]
     },
     "execution_count": 22,
     "metadata": {},
     "output_type": "execute_result"
    }
   ],
   "source": [
    "assembly_constraint_no_mean(np.array([1.0,0.0,1.0,0.0]))"
   ]
  },
  {
   "cell_type": "code",
   "execution_count": 23,
   "id": "bd188c18-6e06-4000-83c1-fdaa2e3fc3fd",
   "metadata": {},
   "outputs": [
    {
     "data": {
      "image/png": "[encoded data removed]",
      "text/plain": [
       "<Figure size 960x720 with 1 Axes>"
      ]
     },
     "metadata": {},
     "output_type": "display_data"
    }
   ],
   "source": [
    "gld_up = [0.08497226, 0.02990299, 0.31602318, 0.12813885] # [0.0849884  0.02996678 0.31315515 0.12725982]\n",
    "gld_low = [0.0838287, 0.03743792, 0.45881353, 0.13390931] # [0.08413621 0.03772115 0.4633074  0.13374675]\n",
    "otaf.plotting.plot_gld_pbox_cdf(gld, gld_low, gld_up, np.linspace(-0.05,0.2,1000))"
   ]
  },
  {
   "cell_type": "code",
   "execution_count": 26,
   "id": "bdc342f4-9b7f-4082-9ccf-2727c61ae483",
   "metadata": {},
   "outputs": [
    {
     "data": {
      "image/png": "[encoded data removed]",
      "text/plain": [
       "<Figure size 960x720 with 1 Axes>"
      ]
     },
     "metadata": {},
     "output_type": "display_data"
    }
   ],
   "source": [
    "# When max/min-imizing Pf at 0.05 value for X\n",
    "gld_up = [0.08346187, 0.03217088, 0.38400048, 0.12266968]\n",
    "gld_low = [0.09818063, 0.04558461, 0.50113651, 0.14144556]\n",
    "otaf.plotting.plot_gld_pbox_cdf(gld, gld_low, gld_up, np.linspace(-0.05,0.2,1000))"
   ]
  },
  {
   "cell_type": "code",
   "execution_count": 27,
   "id": "b03b6d50-5466-40f7-bfa8-680c583690df",
   "metadata": {
    "scrolled": true
   },
   "outputs": [
    {
     "data": {
      "text/plain": [
       "{'[0.500000 0.500000 0.500000 0.500000]': {'FP_GLD': array([0.03392727]),\n",
       "  'FP_SLACK': np.float64(0.033578),\n",
       "  'GLD_PARAMS': array([0.08856811, 0.0264701 , 0.45903768, 0.13346703]),\n",
       "  'CONST': array([-0.29309409, -0.29309409])},\n",
       " '[1.000000 0.500000 0.500000 0.500000]': {'FP_GLD': array([0.09764608]),\n",
       "  'FP_SLACK': np.float64(0.097386),\n",
       "  'GLD_PARAMS': array([0.08752506, 0.03866473, 0.48742986, 0.13775182]),\n",
       "  'CONST': array([ 0.11774833, -0.29309409])},\n",
       " '[0.500000 1.000000 0.500000 0.500000]': {'FP_GLD': array([0.10913415]),\n",
       "  'FP_SLACK': np.float64(0.108586),\n",
       "  'GLD_PARAMS': array([0.08436175, 0.03085305, 0.40106453, 0.12431918]),\n",
       "  'CONST': array([ 0.11773947, -0.29309409])},\n",
       " '[0.500000 0.500000 1.000000 0.500000]': {'FP_GLD': array([0.0976647]),\n",
       "  'FP_SLACK': np.float64(0.097276),\n",
       "  'GLD_PARAMS': array([0.08753964, 0.03867727, 0.48721254, 0.13802956]),\n",
       "  'CONST': array([-0.29309409,  0.11774833])},\n",
       " '[0.500000 0.500000 0.500000 1.000000]': {'FP_GLD': array([0.10906155]),\n",
       "  'FP_SLACK': np.float64(0.10871),\n",
       "  'GLD_PARAMS': array([0.08437671, 0.03085232, 0.40093431, 0.12439195]),\n",
       "  'CONST': array([-0.29309409,  0.11773947])},\n",
       " '[0.000000 0.500000 0.500000 0.500000]': {'FP_GLD': array([0.01427023]),\n",
       "  'FP_SLACK': np.float64(0.01437),\n",
       "  'GLD_PARAMS': array([0.08967651, 0.02083146, 0.41806825, 0.12711943]),\n",
       "  'CONST': array([-0.50008382, -0.29309409])},\n",
       " '[0.500000 0.000000 0.500000 0.500000]': {'FP_GLD': array([0.01388503]),\n",
       "  'FP_SLACK': np.float64(0.013956),\n",
       "  'GLD_PARAMS': array([0.09133843, 0.02480558, 0.48196721, 0.13807622]),\n",
       "  'CONST': array([-0.50007721, -0.29309409])},\n",
       " '[0.500000 0.500000 0.000000 0.500000]': {'FP_GLD': array([0.01426644]),\n",
       "  'FP_SLACK': np.float64(0.014274),\n",
       "  'GLD_PARAMS': array([0.08970124, 0.02083417, 0.41735596, 0.1275254 ]),\n",
       "  'CONST': array([-0.29309409, -0.50008382])},\n",
       " '[0.500000 0.500000 0.500000 0.000000]': {'FP_GLD': array([0.01391015]),\n",
       "  'FP_SLACK': np.float64(0.013946),\n",
       "  'GLD_PARAMS': array([0.09131748, 0.0248174 , 0.48218133, 0.13820367]),\n",
       "  'CONST': array([-0.29309409, -0.50007721])},\n",
       " '[0.317524 1.000000 0.509031 0.973464]': {'FP_GLD': array([0.16234118]),\n",
       "  'FP_SLACK': np.float64(0.16281),\n",
       "  'GLD_PARAMS': array([0.08343812, 0.03251063, 0.33183918, 0.12493704]),\n",
       "  'CONST': array([0.04895135, 0.09822781])},\n",
       " '[0.658762 0.750000 0.504516 0.736732]': {'FP_GLD': array([0.11281328]),\n",
       "  'FP_SLACK': np.float64(0.11231),\n",
       "  'GLD_PARAMS': array([0.08412456, 0.03323388, 0.43325086, 0.12863352]),\n",
       "  'CONST': array([-0.00205123, -0.10732596])},\n",
       " '[0.212880 1.000000 0.328471 1.000000]': {'FP_GLD': array([0.14787516]),\n",
       "  'FP_SLACK': np.float64(0.14857),\n",
       "  'GLD_PARAMS': array([0.08661489, 0.03010624, 0.24812589, 0.14475869]),\n",
       "  'CONST': array([0.02218585, 0.05231321])},\n",
       " '[0.265185 0.917583 0.507543 0.895421]': {'FP_GLD': array([0.00248711]),\n",
       "  'FP_SLACK': np.float64(0.002528),\n",
       "  'GLD_PARAMS': array([0.08450463, 0.03023612, 0.33914947, 0.12400659]),\n",
       "  'CONST': array([-0.04508786,  0.02898314])},\n",
       " '[0.375043 0.936599 0.445356 0.906503]': {'FP_GLD': array([0.00294137]),\n",
       "  'FP_SLACK': np.float64(0.00301),\n",
       "  'GLD_PARAMS': array([0.08424838, 0.03075018, 0.33916993, 0.12422811]),\n",
       "  'CONST': array([0.00864477, 0.00972943])},\n",
       " '[0.220969 0.992154 0.504192 0.875471]': {'FP_GLD': array([0.00308585]),\n",
       "  'FP_SLACK': np.float64(0.003092),\n",
       "  'GLD_PARAMS': array([0.08453151, 0.03049509, 0.32554034, 0.1254611 ]),\n",
       "  'CONST': array([0.01624053, 0.01000344])},\n",
       " '[0.396643 0.979578 0.374972 0.883162]': {'FP_GLD': array([0.00295104]),\n",
       "  'FP_SLACK': np.float64(0.003008),\n",
       "  'GLD_PARAMS': array([0.0846208 , 0.0303575 , 0.32453971, 0.12589638]),\n",
       "  'CONST': array([ 0.05656907, -0.04077567])},\n",
       " '[0.406090 0.921873 0.370309 0.938121]': {'FP_GLD': array([0.00290643]),\n",
       "  'FP_SLACK': np.float64(0.002984),\n",
       "  'GLD_PARAMS': array([0.08459426, 0.03036384, 0.32638399, 0.12571992]),\n",
       "  'CONST': array([0.00709422, 0.00831073])},\n",
       " '[0.485701 0.884517 0.286647 0.967993]': {'FP_GLD': array([0.00293513]),\n",
       "  'FP_SLACK': np.float64(0.002954),\n",
       "  'GLD_PARAMS': array([0.0844318 , 0.03055398, 0.3319416 , 0.12522676]),\n",
       "  'CONST': array([0.00882545, 0.00930736])},\n",
       " '[0.376266 0.896793 0.361228 0.968104]': {'FP_GLD': array([0.00278092]),\n",
       "  'FP_SLACK': np.float64(0.002854),\n",
       "  'GLD_PARAMS': array([0.08495081, 0.02997577, 0.31564399, 0.12723276]),\n",
       "  'CONST': array([-0.02771734,  0.0330462 ])},\n",
       " '[0.363366 0.938525 0.387471 0.927980]': {'FP_GLD': array([0.00285982]),\n",
       "  'FP_SLACK': np.float64(0.002918),\n",
       "  'GLD_PARAMS': array([0.08481467, 0.03013034, 0.31915724, 0.12662838]),\n",
       "  'CONST': array([0.00616106, 0.0053699 ])},\n",
       " '[0.311058 0.957409 0.427555 0.910648]': {'FP_GLD': array([0.00287445]),\n",
       "  'FP_SLACK': np.float64(0.002912),\n",
       "  'GLD_PARAMS': array([0.08483895, 0.03011141, 0.31804462, 0.12668042]),\n",
       "  'CONST': array([0.00643222, 0.00576174])},\n",
       " '[0.351882 0.967142 0.372492 0.964378]': {'FP_GLD': array([0.00366682]),\n",
       "  'FP_SLACK': np.float64(0.003682),\n",
       "  'GLD_PARAMS': array([0.08481995, 0.030609  , 0.30559215, 0.12895894]),\n",
       "  'CONST': array([0.02891511, 0.0335586 ])},\n",
       " '[0.326748 0.951423 0.416391 0.915477]': {'FP_GLD': array([0.00285831]),\n",
       "  'FP_SLACK': np.float64(0.002898),\n",
       "  'GLD_PARAMS': array([0.08483732, 0.03010509, 0.3183908 , 0.12665997]),\n",
       "  'CONST': array([0.00572424, 0.00546334])},\n",
       " '[0.338327 0.967031 0.441491 0.954107]': {'FP_GLD': array([0.00389101]),\n",
       "  'FP_SLACK': np.float64(0.003914),\n",
       "  'GLD_PARAMS': array([0.08424286, 0.03116943, 0.32247707, 0.12611017]),\n",
       "  'CONST': array([0.0242576 , 0.05102908])},\n",
       " '[0.303855 0.958533 0.433769 0.907074]': {'FP_GLD': array([0.00285003]),\n",
       "  'FP_SLACK': np.float64(0.00288),\n",
       "  'GLD_PARAMS': array([0.08483644, 0.03009788, 0.31860316, 0.12657913]),\n",
       "  'CONST': array([0.00530246, 0.00519192])},\n",
       " '[0.274016 0.967677 0.468942 0.890076]': {'FP_GLD': array([0.00286149]),\n",
       "  'FP_SLACK': np.float64(0.002874),\n",
       "  'GLD_PARAMS': array([0.08468114, 0.03023785, 0.3241837 , 0.12571567]),\n",
       "  'CONST': array([0.00549326, 0.00578496])},\n",
       " '[0.268775 0.938811 0.416436 0.931157]': {'FP_GLD': array([0.00265037]),\n",
       "  'FP_SLACK': np.float64(0.002682),\n",
       "  'GLD_PARAMS': array([0.08530639, 0.02961751, 0.30540852, 0.12880642]),\n",
       "  'CONST': array([-0.02369894,  0.01977318])},\n",
       " '[0.278899 0.966123 0.436781 0.905362]': {'FP_GLD': array([0.00284958]),\n",
       "  'FP_SLACK': np.float64(0.00289),\n",
       "  'GLD_PARAMS': array([0.08497003, 0.02998852, 0.31376942, 0.12731063]),\n",
       "  'CONST': array([0.00534016, 0.00495245])},\n",
       " '[0.274648 0.967031 0.391943 0.927056]': {'FP_GLD': array([0.002856]),\n",
       "  'FP_SLACK': np.float64(0.002896),\n",
       "  'GLD_PARAMS': array([0.08546994, 0.02967673, 0.29613344, 0.13075202]),\n",
       "  'CONST': array([0.00504365, 0.00624939])},\n",
       " '[0.238364 0.960348 0.431428 0.877169]': {'FP_GLD': array([0.00226348]),\n",
       "  'FP_SLACK': np.float64(0.002292),\n",
       "  'GLD_PARAMS': array([0.08546591, 0.02920863, 0.30752014, 0.12834037]),\n",
       "  'CONST': array([-0.01073412, -0.02273157])},\n",
       " '[0.249431 0.974248 0.472452 0.888241]': {'FP_GLD': array([0.00286434]),\n",
       "  'FP_SLACK': np.float64(0.002888),\n",
       "  'GLD_PARAMS': array([0.08477974, 0.03014892, 0.3204757 , 0.12620305]),\n",
       "  'CONST': array([0.0054436 , 0.00580529])},\n",
       " '[0.237451 0.976825 0.452864 0.897788]': {'FP_GLD': array([0.00285249]),\n",
       "  'FP_SLACK': np.float64(0.00288),\n",
       "  'GLD_PARAMS': array([0.08505264, 0.02992561, 0.31078514, 0.12776018]),\n",
       "  'CONST': array([0.00504641, 0.00527347])},\n",
       " '[0.216452 0.981857 0.464000 0.891898]': {'FP_GLD': array([0.00285374]),\n",
       "  'FP_SLACK': np.float64(0.002894),\n",
       "  'GLD_PARAMS': array([0.08504447, 0.02993056, 0.31107155, 0.12768031]),\n",
       "  'CONST': array([0.00521239, 0.00510738])},\n",
       " '[0.193235 0.986756 0.487205 0.879711]': {'FP_GLD': array([0.00285944]),\n",
       "  'FP_SLACK': np.float64(0.002874),\n",
       "  'GLD_PARAMS': array([0.08489851, 0.03004297, 0.31625208, 0.12677832]),\n",
       "  'CONST': array([0.00528389, 0.00534386])},\n",
       " '[0.217502 0.998171 0.457490 0.890206]': {'FP_GLD': array([0.00302514]),\n",
       "  'FP_SLACK': np.float64(0.003054),\n",
       "  'GLD_PARAMS': array([0.08506148, 0.03003412, 0.30740776, 0.12834922]),\n",
       "  'CONST': array([0.02137009, 0.00061647])},\n",
       " '[0.204755 0.984212 0.475523 0.885785]': {'FP_GLD': array([0.00285211]),\n",
       "  'FP_SLACK': np.float64(0.002878),\n",
       "  'GLD_PARAMS': array([0.08497613, 0.02997894, 0.31356509, 0.1272347 ]),\n",
       "  'CONST': array([0.0050673 , 0.00508518])},\n",
       " '[0.187416 0.987749 0.491043 0.877359]': {'FP_GLD': array([0.00285504]),\n",
       "  'FP_SLACK': np.float64(0.002872),\n",
       "  'GLD_PARAMS': array([0.08488278, 0.03005245, 0.31691186, 0.12666593]),\n",
       "  'CONST': array([0.00515881, 0.00515546])},\n",
       " '[0.207916 0.996224 0.476673 0.886586]': {'FP_GLD': array([0.003055]),\n",
       "  'FP_SLACK': np.float64(0.003056),\n",
       "  'GLD_PARAMS': array([0.0848891 , 0.03017323, 0.31304538, 0.12733129]),\n",
       "  'CONST': array([0.01746888, 0.00633478])},\n",
       " '[0.195752 0.986014 0.482957 0.881699]': {'FP_GLD': array([0.00285142]),\n",
       "  'FP_SLACK': np.float64(0.002856),\n",
       "  'GLD_PARAMS': array([0.08493624, 0.03000844, 0.31502801, 0.12697986]),\n",
       "  'CONST': array([0.005042  , 0.00503593])},\n",
       " '[0.179252 0.989243 0.487728 0.879042]': {'FP_GLD': array([0.00285336]),\n",
       "  'FP_SLACK': np.float64(0.002874),\n",
       "  'GLD_PARAMS': array([0.08495346, 0.02999517, 0.31437818, 0.12706793]),\n",
       "  'CONST': array([0.00514083, 0.00501238])},\n",
       " '[0.195222 0.985487 0.486724 0.889659]': {'FP_GLD': array([0.00296963]),\n",
       "  'FP_SLACK': np.float64(0.002982),\n",
       "  'GLD_PARAMS': array([0.08486156, 0.03014216, 0.31552662, 0.12690545]),\n",
       "  'CONST': array([0.00442284, 0.01382561])},\n",
       " '[0.187081 0.987691 0.482623 0.881840]': {'FP_GLD': array([0.00285134]),\n",
       "  'FP_SLACK': np.float64(0.002872),\n",
       "  'GLD_PARAMS': array([0.08497794, 0.02997579, 0.31352611, 0.12721976]),\n",
       "  'CONST': array([0.00503897, 0.00500012])},\n",
       " '[0.175443 0.989853 0.486146 0.879913]': {'FP_GLD': array([0.00285245]),\n",
       "  'FP_SLACK': np.float64(0.002872),\n",
       "  'GLD_PARAMS': array([0.08498701, 0.02996888, 0.31318585, 0.12726409]),\n",
       "  'CONST': array([0.00507002, 0.00500855])},\n",
       " '[0.186203 0.982774 0.482827 0.881969]': {'FP_GLD': array([0.00278103]),\n",
       "  'FP_SLACK': np.float64(0.002798),\n",
       "  'GLD_PARAMS': array([0.08500024, 0.02991416, 0.31400254, 0.12713744]),\n",
       "  'CONST': array([0.0000461 , 0.00521078])},\n",
       " '[0.182191 0.988576 0.483104 0.881577]': {'FP_GLD': array([0.00285117]),\n",
       "  'FP_SLACK': np.float64(0.002872),\n",
       "  'GLD_PARAMS': array([0.08499354, 0.02996364, 0.31297013, 0.12730847]),\n",
       "  'CONST': array([0.00501225, 0.00500018])},\n",
       " '[0.175387 0.989816 0.484397 0.880869]': {'FP_GLD': array([0.00285164]),\n",
       "  'FP_SLACK': np.float64(0.00287),\n",
       "  'GLD_PARAMS': array([0.08500721, 0.02995332, 0.31247374, 0.12738583]),\n",
       "  'CONST': array([0.00502382, 0.00500106])},\n",
       " '[0.181329 0.983787 0.483610 0.882608]': {'FP_GLD': array([0.00279764]),\n",
       "  'FP_SLACK': np.float64(0.002806),\n",
       "  'GLD_PARAMS': array([0.08500762, 0.02991815, 0.31345552, 0.12722475]),\n",
       "  'CONST': array([0.00014711, 0.00614764])},\n",
       " '[0.177641 0.989401 0.484773 0.880662]': {'FP_GLD': array([0.00285139]),\n",
       "  'FP_SLACK': np.float64(0.002872),\n",
       "  'GLD_PARAMS': array([0.08499374, 0.02996329, 0.31296088, 0.12730487]),\n",
       "  'CONST': array([0.00501064, 0.00500179])},\n",
       " '[0.171360 0.990517 0.487445 0.879190]': {'FP_GLD': array([0.00285185]),\n",
       "  'FP_SLACK': np.float64(0.00288),\n",
       "  'GLD_PARAMS': array([0.08498898, 0.02996675, 0.31312863, 0.12726926]),\n",
       "  'CONST': array([0.00502034, 0.0050045 ])},\n",
       " '[0.178003 0.991326 0.487034 0.884669]': {'FP_GLD': array([0.00294536]),\n",
       "  'FP_SLACK': np.float64(0.002958),\n",
       "  'GLD_PARAMS': array([0.08493846, 0.03006666, 0.31320169, 0.12726926]),\n",
       "  'CONST': array([0.00696908, 0.00960058])},\n",
       " '[0.173887 0.990063 0.487607 0.879101]': {'FP_GLD': array([0.00285156]),\n",
       "  'FP_SLACK': np.float64(0.002874),\n",
       "  'GLD_PARAMS': array([0.08497714, 0.02997563, 0.31355914, 0.12719909]),\n",
       "  'CONST': array([0.00500722, 0.00500523])},\n",
       " '[0.166926 0.991277 0.487364 0.879230]': {'FP_GLD': array([0.00285202]),\n",
       "  'FP_SLACK': np.float64(0.002884),\n",
       "  'GLD_PARAMS': array([0.0850073 , 0.02995292, 0.31246823, 0.12737743]),\n",
       "  'CONST': array([0.00502483, 0.00500005])},\n",
       " '[0.174708 0.994873 0.487025 0.878174]': {'FP_GLD': array([0.00290458]),\n",
       "  'FP_SLACK': np.float64(0.002926),\n",
       "  'GLD_PARAMS': array([0.08496389, 0.03002129, 0.31302197, 0.12729123]),\n",
       "  'CONST': array([0.0098849 , 0.00391265])},\n",
       " '[0.168962 0.990920 0.487671 0.879060]': {'FP_GLD': array([0.00285176]),\n",
       "  'FP_SLACK': np.float64(0.00288),\n",
       "  'GLD_PARAMS': array([0.08499594, 0.02996134, 0.31288105, 0.12730883]),\n",
       "  'CONST': array([0.00501243, 0.00500001])},\n",
       " '[0.173325 0.986249 0.489133 0.881895]': {'FP_GLD': array([0.00284185]),\n",
       "  'FP_SLACK': np.float64(0.002858),\n",
       "  'GLD_PARAMS': array([0.08496517, 0.02997862, 0.31416986, 0.12709794]),\n",
       "  'CONST': array([0.00115402, 0.00818793])},\n",
       " '[0.168989 0.990915 0.488069 0.878839]': {'FP_GLD': array([0.00285178]),\n",
       "  'FP_SLACK': np.float64(0.002882),\n",
       "  'GLD_PARAMS': array([0.08499129, 0.02996479, 0.31304726, 0.1272805 ]),\n",
       "  'CONST': array([0.00501229, 0.00500015])},\n",
       " '[0.171717 0.990437 0.488639 0.878522]': {'FP_GLD': array([0.00285152]),\n",
       "  'FP_SLACK': np.float64(0.00288),\n",
       "  'GLD_PARAMS': array([0.0849742 , 0.02997769, 0.31366757, 0.12717839]),\n",
       "  'CONST': array([0.00500241, 0.0050007 ])},\n",
       " '[0.168233 0.991037 0.488630 0.878527]': {'FP_GLD': array([0.00285172]),\n",
       "  'FP_SLACK': np.float64(0.002882),\n",
       "  'GLD_PARAMS': array([0.08498794, 0.02996723, 0.31317043, 0.1272587 ]),\n",
       "  'CONST': array([0.00500621, 0.00500001])},\n",
       " '[0.171844 0.991209 0.489404 0.879911]': {'FP_GLD': array([0.00288285]),\n",
       "  'FP_SLACK': np.float64(0.002918),\n",
       "  'GLD_PARAMS': array([0.08495481, 0.03001458, 0.31373311, 0.12716926]),\n",
       "  'CONST': array([0.00578487, 0.00658533])},\n",
       " '[0.169977 0.990736 0.488567 0.878562]': {'FP_GLD': array([0.00285157]),\n",
       "  'FP_SLACK': np.float64(0.002882),\n",
       "  'GLD_PARAMS': array([0.08498187, 0.02997182, 0.31339081, 0.12722322]),\n",
       "  'CONST': array([0.00500155, 0.005     ])},\n",
       " '[0.167519 0.991155 0.488408 0.878651]': {'FP_GLD': array([0.0028517]),\n",
       "  'FP_SLACK': np.float64(0.00288),\n",
       "  'GLD_PARAMS': array([0.08499325, 0.0299632 , 0.31297988, 0.12729038]),\n",
       "  'CONST': array([0.00500309, 0.00500002])},\n",
       " '[0.169909 0.990752 0.489666 0.877971]': {'FP_GLD': array([0.0028519]),\n",
       "  'FP_SLACK': np.float64(0.00288),\n",
       "  'GLD_PARAMS': array([0.08496965, 0.02998126, 0.31382574, 0.1271498 ]),\n",
       "  'CONST': array([0.00500621, 0.00501793])},\n",
       " '[0.168960 0.990908 0.489184 0.878219]': {'FP_GLD': array([0.00285161]),\n",
       "  'FP_SLACK': np.float64(0.002884),\n",
       "  'GLD_PARAMS': array([0.08497886, 0.02997403, 0.31349882, 0.12720383]),\n",
       "  'CONST': array([0.00500053, 0.00500025])},\n",
       " '[0.167365 0.991179 0.488563 0.878565]': {'FP_GLD': array([0.00285169]),\n",
       "  'FP_SLACK': np.float64(0.00288),\n",
       "  'GLD_PARAMS': array([0.08499208, 0.02996404, 0.31302171, 0.12728308]),\n",
       "  'CONST': array([0.0050013 , 0.00500026])},\n",
       " '[0.168818 0.990088 0.489331 0.878477]': {'FP_GLD': array([0.0028438]),\n",
       "  'FP_SLACK': np.float64(0.002872),\n",
       "  'GLD_PARAMS': array([0.08498008, 0.02996809, 0.31359809, 0.127187  ]),\n",
       "  'CONST': array([0.00416832, 0.00529745])},\n",
       " '[0.168116 0.991051 0.488993 0.878325]': {'FP_GLD': array([0.00285164]),\n",
       "  'FP_SLACK': np.float64(0.002886),\n",
       "  'GLD_PARAMS': array([0.08498431, 0.0299699 , 0.31330255, 0.12723614]),\n",
       "  'CONST': array([0.00500036, 0.00500003])},\n",
       " '[0.167211 0.991204 0.489735 0.877912]': {'FP_GLD': array([0.00285169]),\n",
       "  'FP_SLACK': np.float64(0.002884),\n",
       "  'GLD_PARAMS': array([0.08497943, 0.02997354, 0.31347832, 0.12720538]),\n",
       "  'CONST': array([0.00500042, 0.00500035])},\n",
       " '[0.168060 0.990726 0.488811 0.877997]': {'FP_GLD': array([0.00284136]),\n",
       "  'FP_SLACK': np.float64(0.002866),\n",
       "  'GLD_PARAMS': array([0.08498965, 0.02995924, 0.31329887, 0.12723625]),\n",
       "  'CONST': array([0.00467   , 0.00462487])},\n",
       " '[0.167628 0.991134 0.489057 0.878290]': {'FP_GLD': array([0.00285166]),\n",
       "  'FP_SLACK': np.float64(0.002882),\n",
       "  'GLD_PARAMS': array([0.08498547, 0.02996899, 0.31326018, 0.1272428 ]),\n",
       "  'CONST': array([0.00500012, 0.005     ])},\n",
       " '[0.166931 0.991251 0.489076 0.878279]': {'FP_GLD': array([0.00285169]),\n",
       "  'FP_SLACK': np.float64(0.002884),\n",
       "  'GLD_PARAMS': array([0.08498795, 0.02996712, 0.31317101, 0.12725718]),\n",
       "  'CONST': array([0.00500037, 0.005     ])},\n",
       " '[0.167553 0.990693 0.488947 0.878094]': {'FP_GLD': array([0.00284188]),\n",
       "  'FP_SLACK': np.float64(0.002874),\n",
       "  'GLD_PARAMS': array([0.08498991, 0.02995934, 0.31327962, 0.12723908]),\n",
       "  'CONST': array([0.00455326, 0.00477594])},\n",
       " '[0.167136 0.991217 0.489078 0.878277]': {'FP_GLD': array([0.00285168]),\n",
       "  'FP_SLACK': np.float64(0.002882),\n",
       "  'GLD_PARAMS': array([0.08498714, 0.02996773, 0.31320025, 0.12725244]),\n",
       "  'CONST': array([0.00500025, 0.005     ])},\n",
       " '[0.167591 0.990913 0.489274 0.878681]': {'FP_GLD': array([0.00285491]),\n",
       "  'FP_SLACK': np.float64(0.002886),\n",
       "  'GLD_PARAMS': array([0.0849822 , 0.02997357, 0.31331863, 0.12723323]),\n",
       "  'CONST': array([0.0047767 , 0.00544717])},\n",
       " '[0.167135 0.991217 0.489065 0.878285]': {'FP_GLD': array([0.00285168]),\n",
       "  'FP_SLACK': np.float64(0.002882),\n",
       "  'GLD_PARAMS': array([0.08498729, 0.02996762, 0.31319485, 0.12725335]),\n",
       "  'CONST': array([0.00500025, 0.005     ])},\n",
       " '[0.167838 0.991097 0.489452 0.878070]': {'FP_GLD': array([0.00285163]),\n",
       "  'FP_SLACK': np.float64(0.002884),\n",
       "  'GLD_PARAMS': array([0.08498023, 0.02997296, 0.31345066, 0.12721075]),\n",
       "  'CONST': array([0.00499923, 0.00500003])},\n",
       " '[0.167346 0.991181 0.489428 0.878083]': {'FP_GLD': array([0.00285167]),\n",
       "  'FP_SLACK': np.float64(0.002884),\n",
       "  'GLD_PARAMS': array([0.08498238, 0.02997132, 0.3133723 , 0.12722347]),\n",
       "  'CONST': array([0.00500012, 0.00500003])},\n",
       " '[0.166889 0.991258 0.489048 0.878294]': {'FP_GLD': array([0.00285169]),\n",
       "  'FP_SLACK': np.float64(0.002884),\n",
       "  'GLD_PARAMS': array([0.08498842, 0.02996675, 0.31315381, 0.12726006]),\n",
       "  'CONST': array([0.00500003, 0.005     ])},\n",
       " '[0.166579 0.991310 0.489190 0.878215]': {'FP_GLD': array([0.0028517]),\n",
       "  'FP_SLACK': np.float64(0.002882),\n",
       "  'GLD_PARAMS': array([0.08498801, 0.02996705, 0.31316861, 0.12725721]),\n",
       "  'CONST': array([0.00500008, 0.00500001])},\n",
       " '[0.166912 0.991394 0.489102 0.878391]': {'FP_GLD': array([0.00285531]),\n",
       "  'FP_SLACK': np.float64(0.002886),\n",
       "  'GLD_PARAMS': array([0.08498666, 0.02997043, 0.31315141, 0.12726064]),\n",
       "  'CONST': array([0.0051374, 0.0051112])},\n",
       " '[0.166716 0.991287 0.489034 0.878302]': {'FP_GLD': array([0.00285169]),\n",
       "  'FP_SLACK': np.float64(0.002882),\n",
       "  'GLD_PARAMS': array([0.08498927, 0.02996612, 0.31312379, 0.12726498]),\n",
       "  'CONST': array([0.00500005, 0.005     ])},\n",
       " '[0.166882 0.991215 0.489075 0.878343]': {'FP_GLD': array([0.00285186]),\n",
       "  'FP_SLACK': np.float64(0.002884),\n",
       "  'GLD_PARAMS': array([0.08498809, 0.02996711, 0.3131625 , 0.12725862]),\n",
       "  'CONST': array([0.00495643, 0.00505564])},\n",
       " '[0.166853 0.991264 0.489101 0.878265]': {'FP_GLD': array([0.00285169]),\n",
       "  'FP_SLACK': np.float64(0.002884),\n",
       "  'GLD_PARAMS': array([0.08498798, 0.02996709, 0.31317026, 0.12725723]),\n",
       "  'CONST': array([0.00500003, 0.005     ])},\n",
       " '[0.166880 0.991203 0.489027 0.878256]': {'FP_GLD': array([0.00285024]),\n",
       "  'FP_SLACK': np.float64(0.002878),\n",
       "  'GLD_PARAMS': array([0.08498913, 0.02996529, 0.3131549 , 0.12725981]),\n",
       "  'CONST': array([0.00494451, 0.00495624])},\n",
       " '[0.166883 0.991259 0.488987 0.878328]': {'FP_GLD': array([0.00285169]),\n",
       "  'FP_SLACK': np.float64(0.002884),\n",
       "  'GLD_PARAMS': array([0.08498915, 0.02996621, 0.31312779, 0.12726448]),\n",
       "  'CONST': array([0.00500003, 0.005     ])},\n",
       " '[0.166896 0.991257 0.489110 0.878260]': {'FP_GLD': array([0.00285169]),\n",
       "  'FP_SLACK': np.float64(0.002884),\n",
       "  'GLD_PARAMS': array([0.08498771, 0.02996729, 0.31317983, 0.12725565]),\n",
       "  'CONST': array([0.00500003, 0.005     ])},\n",
       " '[0.166824 0.991269 0.489027 0.878306]': {'FP_GLD': array([0.00285169]),\n",
       "  'FP_SLACK': np.float64(0.002882),\n",
       "  'GLD_PARAMS': array([0.08498893, 0.02996637, 0.31313584, 0.12726305]),\n",
       "  'CONST': array([0.00500003, 0.005     ])},\n",
       " '[0.166959 0.991246 0.489043 0.878297]': {'FP_GLD': array([0.00285168]),\n",
       "  'FP_SLACK': np.float64(0.002884),\n",
       "  'GLD_PARAMS': array([0.08498823, 0.02996691, 0.31316108, 0.1272589 ]),\n",
       "  'CONST': array([0.0050001 , 0.00500001])},\n",
       " '[0.166852 0.991264 0.489029 0.878305]': {'FP_GLD': array([0.00285168]),\n",
       "  'FP_SLACK': np.float64(0.002884),\n",
       "  'GLD_PARAMS': array([0.08498881, 0.02996647, 0.31314058, 0.12726227]),\n",
       "  'CONST': array([0.00500003, 0.005     ])},\n",
       " '[0.166898 0.991313 0.489070 0.878332]': {'FP_GLD': array([0.00285314]),\n",
       "  'FP_SLACK': np.float64(0.002884),\n",
       "  'GLD_PARAMS': array([0.08498771, 0.02996822, 0.31315273, 0.12726031]),\n",
       "  'CONST': array([0.00505555, 0.00504376])},\n",
       " '[0.166921 0.991253 0.488993 0.878325]': {'FP_GLD': array([0.00285169]),\n",
       "  'FP_SLACK': np.float64(0.002884),\n",
       "  'GLD_PARAMS': array([0.08498892, 0.02996638, 0.31313573, 0.12726318]),\n",
       "  'CONST': array([0.00500003, 0.005     ])},\n",
       " '[0.166901 0.991256 0.489042 0.878298]': {'FP_GLD': array([0.00285169]),\n",
       "  'FP_SLACK': np.float64(0.002884),\n",
       "  'GLD_PARAMS': array([0.08498845, 0.02996673, 0.31315294, 0.12726023]),\n",
       "  'CONST': array([0.00500003, 0.005     ])},\n",
       " '[0.166891 0.991272 0.489054 0.878304]': {'FP_GLD': array([0.00285205]),\n",
       "  'FP_SLACK': np.float64(0.002884),\n",
       "  'GLD_PARAMS': array([0.08498825, 0.02996712, 0.31315354, 0.12726013]),\n",
       "  'CONST': array([0.00501394, 0.0050109 ])},\n",
       " '[0.166891 0.991258 0.489064 0.878285]': {'FP_GLD': array([0.00285168]),\n",
       "  'FP_SLACK': np.float64(0.002884),\n",
       "  'GLD_PARAMS': array([0.08498825, 0.02996689, 0.31316031, 0.12725896]),\n",
       "  'CONST': array([0.00500003, 0.005     ])},\n",
       " '[0.166888 0.991250 0.489045 0.878289]': {'FP_GLD': array([0.00285148]),\n",
       "  'FP_SLACK': np.float64(0.002882),\n",
       "  'GLD_PARAMS': array([0.08498853, 0.02996654, 0.31315396, 0.12726003]),\n",
       "  'CONST': array([0.00499222, 0.00499376])},\n",
       " '[0.166879 0.991260 0.489048 0.878294]': {'FP_GLD': array([0.00285169]),\n",
       "  'FP_SLACK': np.float64(0.002884),\n",
       "  'GLD_PARAMS': array([0.08498846, 0.02996672, 0.31315245, 0.12726028]),\n",
       "  'CONST': array([0.00500003, 0.005     ])},\n",
       " '[0.166883 0.991259 0.489041 0.878298]': {'FP_GLD': array([0.00285168]),\n",
       "  'FP_SLACK': np.float64(0.002884),\n",
       "  'GLD_PARAMS': array([0.08498854, 0.02996667, 0.3131498 , 0.12726074]),\n",
       "  'CONST': array([0.00500003, 0.00500003])},\n",
       " '[0.166870 0.991261 0.489051 0.878292]': {'FP_GLD': array([0.00285169]),\n",
       "  'FP_SLACK': np.float64(0.002884),\n",
       "  'GLD_PARAMS': array([0.08498847, 0.02996672, 0.31315233, 0.1272603 ]),\n",
       "  'CONST': array([0.00500003, 0.005     ])},\n",
       " '[0.166878 0.991254 0.489052 0.878301]': {'FP_GLD': array([0.00285171]),\n",
       "  'FP_SLACK': np.float64(0.002884),\n",
       "  'GLD_PARAMS': array([0.08498842, 0.02996677, 0.31315369, 0.12726008]),\n",
       "  'CONST': array([0.00499382, 0.00500783])},\n",
       " '[0.166888 0.991258 0.489052 0.878292]': {'FP_GLD': array([0.00285168]),\n",
       "  'FP_SLACK': np.float64(0.002884),\n",
       "  'GLD_PARAMS': array([0.08498839, 0.02996678, 0.31315518, 0.12725983]),\n",
       "  'CONST': array([0.00500003, 0.005     ])},\n",
       " '[0.166872 0.991261 0.489043 0.878297]': {'FP_GLD': array([0.00285168]),\n",
       "  'FP_SLACK': np.float64(0.002884),\n",
       "  'GLD_PARAMS': array([0.08498857, 0.02996665, 0.31314915, 0.12726084]),\n",
       "  'CONST': array([0.00500003, 0.005     ])},\n",
       " '[0.166889 0.991258 0.489046 0.878296]': {'FP_GLD': array([0.00285169]),\n",
       "  'FP_SLACK': np.float64(0.002884),\n",
       "  'GLD_PARAMS': array([0.08498846, 0.02996673, 0.31315263, 0.12726026]),\n",
       "  'CONST': array([0.00500003, 0.005     ])},\n",
       " '[0.166881 0.991267 0.489051 0.878299]': {'FP_GLD': array([0.00285189]),\n",
       "  'FP_SLACK': np.float64(0.002884),\n",
       "  'GLD_PARAMS': array([0.08498837, 0.02996693, 0.3131523 , 0.12726032]),\n",
       "  'CONST': array([0.00500788, 0.00500619])},\n",
       " '[0.166875 0.991260 0.489056 0.878290]': {'FP_GLD': array([0.00285168]),\n",
       "  'FP_SLACK': np.float64(0.002884),\n",
       "  'GLD_PARAMS': array([0.0849884 , 0.02996678, 0.31315515, 0.12725982]),\n",
       "  'CONST': array([0.00500003, 0.005     ])},\n",
       " '[0.752087 0.714217 0.823900 0.593635]': {'FP_GLD': array([0.00319688]),\n",
       "  'FP_SLACK': np.float64(0.003562),\n",
       "  'GLD_PARAMS': array([0.08438523, 0.04020913, 0.47343488, 0.13584886]),\n",
       "  'CONST': array([0.03688491, 0.01520667])},\n",
       " '[1.000000 0.402759 0.482489 1.000000]': {'FP_GLD': array([0.00588718]),\n",
       "  'FP_SLACK': np.float64(0.006056),\n",
       "  'GLD_PARAMS': array([0.08247308, 0.04129097, 0.46200755, 0.13337675]),\n",
       "  'CONST': array([0.07780043, 0.11002309])},\n",
       " '[0.999198 0.406106 1.000000 0.341362]': {'FP_GLD': array([0.00418603]),\n",
       "  'FP_SLACK': np.float64(0.004376),\n",
       "  'GLD_PARAMS': array([0.0902078 , 0.04700895, 0.49755057, 0.14010754]),\n",
       "  'CONST': array([0.07831153, 0.05641485])},\n",
       " '[0.565822 0.862691 0.766072 0.648988]': {'FP_GLD': array([0.00295042]),\n",
       "  'FP_SLACK': np.float64(0.00321),\n",
       "  'GLD_PARAMS': array([0.0831503 , 0.03684887, 0.44651228, 0.13057302]),\n",
       "  'CONST': array([0.03140758, 0.00373483])},\n",
       " '[0.552916 0.833956 0.794852 0.605605]': {'FP_GLD': array([0.00243324]),\n",
       "  'FP_SLACK': np.float64(0.002712),\n",
       "  'GLD_PARAMS': array([0.0836292 , 0.03682035, 0.45318385, 0.13172484]),\n",
       "  'CONST': array([ 0.00032265, -0.0010045 ])},\n",
       " '[0.512378 0.846675 0.862681 0.508750]': {'FP_GLD': array([0.00232163]),\n",
       "  'FP_SLACK': np.float64(0.00263),\n",
       "  'GLD_PARAMS': array([0.083989  , 0.03741923, 0.46063793, 0.13294798]),\n",
       "  'CONST': array([-0.01062899,  0.00125547])},\n",
       " '[0.511512 0.822419 0.837306 0.473155]': {'FP_GLD': array([0.00162154]),\n",
       "  'FP_SLACK': np.float64(0.001908),\n",
       "  'GLD_PARAMS': array([0.08454886, 0.03643981, 0.46223877, 0.13326913]),\n",
       "  'CONST': array([-0.03175213, -0.03850649])},\n",
       " '[0.551011 0.828554 0.810890 0.578189]': {'FP_GLD': array([0.00231514]),\n",
       "  'FP_SLACK': np.float64(0.002592),\n",
       "  'GLD_PARAMS': array([0.08381361, 0.03697377, 0.45637623, 0.13229225]),\n",
       "  'CONST': array([-0.00523027, -0.00435997])},\n",
       " '[0.564212 0.821043 0.753636 0.583091]': {'FP_GLD': array([0.00182372]),\n",
       "  'FP_SLACK': np.float64(0.00211),\n",
       "  'GLD_PARAMS': array([0.0840224 , 0.03584589, 0.45270537, 0.13167175]),\n",
       "  'CONST': array([-0.00406081, -0.04739506])},\n",
       " '[0.591433 0.802515 0.792963 0.600676]': {'FP_GLD': array([0.00232124]),\n",
       "  'FP_SLACK': np.float64(0.002618),\n",
       "  'GLD_PARAMS': array([0.08387267, 0.03715679, 0.45795925, 0.13269104]),\n",
       "  'CONST': array([-0.00337295, -0.00548902])},\n",
       " '[0.520804 0.797706 0.793704 0.617987]': {'FP_GLD': array([0.00193408]),\n",
       "  'FP_SLACK': np.float64(0.00221),\n",
       "  'GLD_PARAMS': array([0.08396379, 0.03608403, 0.45333488, 0.1317223 ]),\n",
       "  'CONST': array([-0.04759825,  0.00563955])},\n",
       " '[0.591258 0.802114 0.791981 0.602822]': {'FP_GLD': array([0.0023225]),\n",
       "  'FP_SLACK': np.float64(0.002614),\n",
       "  'GLD_PARAMS': array([0.0838648 , 0.03714027, 0.45778448, 0.1326597 ]),\n",
       "  'CONST': array([-0.00379894, -0.00497293])},\n",
       " '[0.641425 0.763584 0.772806 0.627943]': {'FP_GLD': array([0.00233494]),\n",
       "  'FP_SLACK': np.float64(0.002624),\n",
       "  'GLD_PARAMS': array([0.08398063, 0.03746802, 0.46059125, 0.13329669]),\n",
       "  'CONST': array([-0.00304345, -0.00451677])},\n",
       " '[0.620282 0.807481 0.819834 0.573615]': {'FP_GLD': array([0.00268845]),\n",
       "  'FP_SLACK': np.float64(0.002974),\n",
       "  'GLD_PARAMS': array([0.08386672, 0.03816199, 0.46246822, 0.13355981]),\n",
       "  'CONST': array([0.01793475, 0.00030561])},\n",
       " '[0.600123 0.834544 0.796752 0.639523]': {'FP_GLD': array([0.00315473]),\n",
       "  'FP_SLACK': np.float64(0.003386),\n",
       "  'GLD_PARAMS': array([0.08325977, 0.03784178, 0.45414383, 0.13199923]),\n",
       "  'CONST': array([0.0276286 , 0.02138138])},\n",
       " '[0.628411 0.773284 0.802131 0.589202]': {'FP_GLD': array([0.00231851]),\n",
       "  'FP_SLACK': np.float64(0.002604),\n",
       "  'GLD_PARAMS': array([0.08412731, 0.0377428 , 0.46330118, 0.13376329]),\n",
       "  'CONST': array([-0.00385378, -0.00499998])},\n",
       " '[0.618093 0.757483 0.847085 0.600293]': {'FP_GLD': array([0.00265871]),\n",
       "  'FP_SLACK': np.float64(0.00294),\n",
       "  'GLD_PARAMS': array([0.08409541, 0.0385505 , 0.4661037 , 0.13427946]),\n",
       "  'CONST': array([-0.02261619,  0.03793609])},\n",
       " '[0.632165 0.768744 0.799371 0.592965]': {'FP_GLD': array([0.00230598]),\n",
       "  'FP_SLACK': np.float64(0.002586),\n",
       "  'GLD_PARAMS': array([0.08414325, 0.0377362 , 0.46342674, 0.13379738]),\n",
       "  'CONST': array([-0.00499315, -0.00498618])},\n",
       " '[0.623329 0.775993 0.805175 0.585114]': {'FP_GLD': array([0.00230453]),\n",
       "  'FP_SLACK': np.float64(0.002584),\n",
       "  'GLD_PARAMS': array([0.08413365, 0.03771886, 0.4632699 , 0.13374597]),\n",
       "  'CONST': array([-0.00494036, -0.00495297])},\n",
       " '[0.614947 0.782622 0.798919 0.593636]': {'FP_GLD': array([0.00230462]),\n",
       "  'FP_SLACK': np.float64(0.002598),\n",
       "  'GLD_PARAMS': array([0.08404232, 0.03752004, 0.46150135, 0.13340022]),\n",
       "  'CONST': array([-0.00496325, -0.00494853])},\n",
       " '[0.623478 0.776622 0.799118 0.580712]': {'FP_GLD': array([0.00221838]),\n",
       "  'FP_SLACK': np.float64(0.002528),\n",
       "  'GLD_PARAMS': array([0.0841771 , 0.03756507, 0.46306969, 0.13370822]),\n",
       "  'CONST': array([-0.00435629, -0.01243892])},\n",
       " '[0.623674 0.775639 0.809545 0.579019]': {'FP_GLD': array([0.00230362]),\n",
       "  'FP_SLACK': np.float64(0.002584),\n",
       "  'GLD_PARAMS': array([0.08416935, 0.03779041, 0.46391191, 0.13386482]),\n",
       "  'CONST': array([-0.00500002, -0.00497197])},\n",
       " '[0.618405 0.779877 0.807688 0.581569]': {'FP_GLD': array([0.00230386]),\n",
       "  'FP_SLACK': np.float64(0.002588),\n",
       "  'GLD_PARAMS': array([0.084125  , 0.03769775, 0.46310213, 0.13370239]),\n",
       "  'CONST': array([-0.00497581, -0.00499446])},\n",
       " '[0.623082 0.773714 0.813526 0.581275]': {'FP_GLD': array([0.00234101]),\n",
       "  'FP_SLACK': np.float64(0.002628),\n",
       "  'GLD_PARAMS': array([0.08416185, 0.03786952, 0.46415277, 0.13391049]),\n",
       "  'CONST': array([-0.00687075, -0.00042217])},\n",
       " '[0.626072 0.773710 0.809011 0.579717]': {'FP_GLD': array([0.00230649]),\n",
       "  'FP_SLACK': np.float64(0.002582),\n",
       "  'GLD_PARAMS': array([0.08417975, 0.037811  , 0.4640927 , 0.13390424]),\n",
       "  'CONST': array([-0.00499529, -0.00499963])},\n",
       " '[0.626688 0.779314 0.810749 0.579999]': {'FP_GLD': array([0.00238757]),\n",
       "  'FP_SLACK': np.float64(0.00266),\n",
       "  'GLD_PARAMS': array([0.08411533, 0.03790174, 0.46383436, 0.13385191]),\n",
       "  'CONST': array([-0.00024864, -0.0034232 ])},\n",
       " '[0.621513 0.777377 0.811942 0.575618]': {'FP_GLD': array([0.00230362]),\n",
       "  'FP_SLACK': np.float64(0.002584),\n",
       "  'GLD_PARAMS': array([0.08417508, 0.03780157, 0.46401483, 0.13387807]),\n",
       "  'CONST': array([-0.00499605, -0.00499138])},\n",
       " '[0.625964 0.774152 0.811505 0.575317]': {'FP_GLD': array([0.00230323]),\n",
       "  'FP_SLACK': np.float64(0.002586),\n",
       "  'GLD_PARAMS': array([0.08420137, 0.03784635, 0.46444186, 0.1339677 ]),\n",
       "  'CONST': array([-0.00472043, -0.00552185])},\n",
       " '[0.621196 0.777631 0.807446 0.581906]': {'FP_GLD': array([0.00230343]),\n",
       "  'FP_SLACK': np.float64(0.00258),\n",
       "  'GLD_PARAMS': array([0.0841394 , 0.03772752, 0.46336502, 0.13375796]),\n",
       "  'CONST': array([-0.00499503, -0.00499378])},\n",
       " '[0.622536 0.776555 0.807799 0.581406]': {'FP_GLD': array([0.00230657]),\n",
       "  'FP_SLACK': np.float64(0.002582),\n",
       "  'GLD_PARAMS': array([0.0841499 , 0.03774915, 0.46355567, 0.13379644]),\n",
       "  'CONST': array([-0.00499855, -0.00499986])},\n",
       " '[0.621314 0.777773 0.806431 0.581200]': {'FP_GLD': array([0.00229301]),\n",
       "  'FP_SLACK': np.float64(0.00257),\n",
       "  'GLD_PARAMS': array([0.08414588, 0.03770372, 0.46333191, 0.13375183]),\n",
       "  'CONST': array([-0.00481103, -0.00622965])},\n",
       " '[0.620719 0.778006 0.806802 0.582790]': {'FP_GLD': array([0.00230662]),\n",
       "  'FP_SLACK': np.float64(0.002584),\n",
       "  'GLD_PARAMS': array([0.08413202, 0.03771161, 0.46322683, 0.13373136]),\n",
       "  'CONST': array([-0.00499982, -0.0049994 ])},\n",
       " '[0.620901 0.777261 0.807577 0.582001]': {'FP_GLD': array([0.0023025]),\n",
       "  'FP_SLACK': np.float64(0.002576),\n",
       "  'GLD_PARAMS': array([0.08414266, 0.03772323, 0.46337951, 0.13376052]),\n",
       "  'CONST': array([-0.00546808, -0.0048323 ])},\n",
       " '[0.620942 0.777828 0.807664 0.581592]': {'FP_GLD': array([0.00230663]),\n",
       "  'FP_SLACK': np.float64(0.002582),\n",
       "  'GLD_PARAMS': array([0.08413971, 0.03772775, 0.46336925, 0.13375807]),\n",
       "  'CONST': array([-0.00499995, -0.00499993])},\n",
       " '[0.621453 0.777955 0.807677 0.582065]': {'FP_GLD': array([0.00231299]),\n",
       "  'FP_SLACK': np.float64(0.00259),\n",
       "  'GLD_PARAMS': array([0.08413377, 0.03774042, 0.4633622 , 0.13375756]),\n",
       "  'CONST': array([-0.00458133, -0.00471332])},\n",
       " '[0.621542 0.777348 0.807310 0.582084]': {'FP_GLD': array([0.00230659]),\n",
       "  'FP_SLACK': np.float64(0.00258),\n",
       "  'GLD_PARAMS': array([0.08414054, 0.03772949, 0.46338387, 0.13376232]),\n",
       "  'CONST': array([-0.0049999 , -0.00499997])},\n",
       " '[0.621387 0.777481 0.807703 0.581553]': {'FP_GLD': array([0.00230349]),\n",
       "  'FP_SLACK': np.float64(0.00258),\n",
       "  'GLD_PARAMS': array([0.08414238, 0.03773388, 0.46342018, 0.13376858]),\n",
       "  'CONST': array([-0.004993 , -0.0049912])},\n",
       " '[0.621494 0.777387 0.807627 0.581644]': {'FP_GLD': array([0.00230661]),\n",
       "  'FP_SLACK': np.float64(0.002578),\n",
       "  'GLD_PARAMS': array([0.08414259, 0.03773385, 0.46342238, 0.13376926]),\n",
       "  'CONST': array([-0.00499993, -0.00499995])},\n",
       " '[0.620953 0.777825 0.807214 0.582222]': {'FP_GLD': array([0.00230339]),\n",
       "  'FP_SLACK': np.float64(0.00258),\n",
       "  'GLD_PARAMS': array([0.08413635, 0.03772093, 0.46330774, 0.13374681]),\n",
       "  'CONST': array([-0.00499453, -0.00499766])},\n",
       " '[0.621115 0.777689 0.806947 0.582588]': {'FP_GLD': array([0.0023066]),\n",
       "  'FP_SLACK': np.float64(0.002582),\n",
       "  'GLD_PARAMS': array([0.08413539, 0.03771866, 0.46328877, 0.13374376]),\n",
       "  'CONST': array([-0.00499998, -0.0049999 ])},\n",
       " '[0.621004 0.777873 0.806814 0.581930]': {'FP_GLD': array([0.00230087]),\n",
       "  'FP_SLACK': np.float64(0.002576),\n",
       "  'GLD_PARAMS': array([0.08413905, 0.03771149, 0.46329612, 0.13374467]),\n",
       "  'CONST': array([-0.00492581, -0.00549268])},\n",
       " '[0.621075 0.777721 0.807322 0.582067]': {'FP_GLD': array([0.00230661]),\n",
       "  'FP_SLACK': np.float64(0.002578),\n",
       "  'GLD_PARAMS': array([0.08413794, 0.03772403, 0.46333626, 0.13375237]),\n",
       "  'CONST': array([-0.00499999, -0.00499998])},\n",
       " '[0.620878 0.777892 0.807256 0.582160]': {'FP_GLD': array([0.00230344]),\n",
       "  'FP_SLACK': np.float64(0.002578),\n",
       "  'GLD_PARAMS': array([0.08413617, 0.03772071, 0.46330533, 0.13374617]),\n",
       "  'CONST': array([-0.00498985, -0.00499918])},\n",
       " '[0.620883 0.777875 0.807158 0.582294]': {'FP_GLD': array([0.00230662]),\n",
       "  'FP_SLACK': np.float64(0.002582),\n",
       "  'GLD_PARAMS': array([0.08413563, 0.03771915, 0.46329342, 0.13374401]),\n",
       "  'CONST': array([-0.005, -0.005])},\n",
       " '[0.621007 0.777808 0.807189 0.582255]': {'FP_GLD': array([0.00230365]),\n",
       "  'FP_SLACK': np.float64(0.002582),\n",
       "  'GLD_PARAMS': array([0.08413622, 0.03772138, 0.46330831, 0.13374703]),\n",
       "  'CONST': array([-0.00497455, -0.00499802])},\n",
       " '[0.620960 0.777824 0.807284 0.582219]': {'FP_GLD': array([0.00230419]),\n",
       "  'FP_SLACK': np.float64(0.00258),\n",
       "  'GLD_PARAMS': array([0.08413616, 0.03772264, 0.46331291, 0.13374778]),\n",
       "  'CONST': array([-0.00499145, -0.00494201])},\n",
       " '[0.620916 0.777766 0.807214 0.582231]': {'FP_GLD': array([0.00230585]),\n",
       "  'FP_SLACK': np.float64(0.002578),\n",
       "  'GLD_PARAMS': array([0.08413693, 0.03771992, 0.46330947, 0.13374713]),\n",
       "  'CONST': array([-0.00506416, -0.00499148])},\n",
       " '[0.620989 0.777879 0.807228 0.582197]': {'FP_GLD': array([0.00230424]),\n",
       "  'FP_SLACK': np.float64(0.002582),\n",
       "  'GLD_PARAMS': array([0.08413585, 0.03772215, 0.46330807, 0.13374687]),\n",
       "  'CONST': array([-0.00493024, -0.005     ])},\n",
       " '[0.620951 0.777822 0.807157 0.582180]': {'FP_GLD': array([0.0023057]),\n",
       "  'FP_SLACK': np.float64(0.002578),\n",
       "  'GLD_PARAMS': array([0.08413684, 0.03771936, 0.46330636, 0.13374655]),\n",
       "  'CONST': array([-0.00499833, -0.00506825])},\n",
       " '[0.620945 0.777825 0.807253 0.582163]': {'FP_GLD': array([0.00230661]),\n",
       "  'FP_SLACK': np.float64(0.002578),\n",
       "  'GLD_PARAMS': array([0.08413669, 0.03772138, 0.463313  , 0.13374776]),\n",
       "  'CONST': array([-0.005, -0.005])},\n",
       " '[0.620951 0.777849 0.807225 0.582245]': {'FP_GLD': array([0.00230393]),\n",
       "  'FP_SLACK': np.float64(0.002582),\n",
       "  'GLD_PARAMS': array([0.08413591, 0.03772143, 0.46330547, 0.13374637]),\n",
       "  'CONST': array([-0.00497767, -0.00497469])},\n",
       " '[0.620938 0.777834 0.807214 0.582219]': {'FP_GLD': array([0.00230665]),\n",
       "  'FP_SLACK': np.float64(0.002578),\n",
       "  'GLD_PARAMS': array([0.08413631, 0.0377207 , 0.46330655, 0.13374656]),\n",
       "  'CONST': array([-0.00499765, -0.00499947])},\n",
       " '[0.620967 0.777816 0.807219 0.582221]': {'FP_GLD': array([0.00230345]),\n",
       "  'FP_SLACK': np.float64(0.00258),\n",
       "  'GLD_PARAMS': array([0.08413639, 0.03772122, 0.46330949, 0.13374717]),\n",
       "  'CONST': array([-0.00499365, -0.0049941 ])},\n",
       " '[0.620954 0.777825 0.807205 0.582216]': {'FP_GLD': array([0.00230659]),\n",
       "  'FP_SLACK': np.float64(0.002578),\n",
       "  'GLD_PARAMS': array([0.08413639, 0.03772073, 0.46330757, 0.13374678]),\n",
       "  'CONST': array([-0.00499437, -0.00500756])},\n",
       " '[0.620955 0.777824 0.807219 0.582230]': {'FP_GLD': array([0.00230351]),\n",
       "  'FP_SLACK': np.float64(0.00258),\n",
       "  'GLD_PARAMS': array([0.08413627, 0.03772111, 0.4633079 , 0.13374685]),\n",
       "  'CONST': array([-0.0049949 , -0.00498865])},\n",
       " '[0.620959 0.777834 0.807213 0.582220]': {'FP_GLD': array([0.00230351]),\n",
       "  'FP_SLACK': np.float64(0.00258),\n",
       "  'GLD_PARAMS': array([0.08413625, 0.03772107, 0.46330749, 0.13374677]),\n",
       "  'CONST': array([-0.00498469, -0.00499854])},\n",
       " '[0.620953 0.777824 0.807222 0.582217]': {'FP_GLD': array([0.00230343]),\n",
       "  'FP_SLACK': np.float64(0.00258),\n",
       "  'GLD_PARAMS': array([0.08413635, 0.03772109, 0.46330863, 0.13374698]),\n",
       "  'CONST': array([-0.00499605, -0.00499337])},\n",
       " '[0.620948 0.777817 0.807212 0.582222]': {'FP_GLD': array([0.00230658]),\n",
       "  'FP_SLACK': np.float64(0.002578),\n",
       "  'GLD_PARAMS': array([0.08413643, 0.03772076, 0.46330795, 0.13374685]),\n",
       "  'CONST': array([-0.00500435, -0.00499834])},\n",
       " '[0.620956 0.777832 0.807218 0.582228]': {'FP_GLD': array([0.00230357]),\n",
       "  'FP_SLACK': np.float64(0.00258),\n",
       "  'GLD_PARAMS': array([0.08413621, 0.03772115, 0.4633074 , 0.13374675]),\n",
       "  'CONST': array([-0.00498806, -0.00499066])},\n",
       " '[0.000000 1.000000 0.000000 1.000000]': {'CONST': array([-0.00016764, -0.00016764])},\n",
       " '[1.000000 0.000000 1.000000 0.000000]': {'CONST': array([-0.00015442, -0.00015442])},\n",
       " '[0.204640 1.000000 0.468444 0.912372]': {'FP_GLD': array([0.14227859]),\n",
       "  'FP_SLACK': np.float64(0.142972),\n",
       "  'GLD_PARAMS': array([0.08490397, 0.03037733, 0.30683583, 0.1284636 ]),\n",
       "  'CONST': array([0.02050409, 0.02533169])},\n",
       " '[0.400255 0.946697 0.315781 0.975463]': {'FP_GLD': array([0.14357915]),\n",
       "  'FP_SLACK': np.float64(0.144014),\n",
       "  'GLD_PARAMS': array([0.08489488, 0.03046442, 0.30552438, 0.12907575]),\n",
       "  'CONST': array([0.027571  , 0.02505805])},\n",
       " '[0.110450 1.000000 0.572312 1.000000]': {'FP_GLD': array([0.16519258]),\n",
       "  'FP_SLACK': np.float64(0.1657),\n",
       "  'GLD_PARAMS': array([0.08354906, 0.03251115, 0.32371266, 0.12575923]),\n",
       "  'CONST': array([0.0058856, 0.1518779])},\n",
       " '[0.134792 1.000000 0.592110 0.827714]': {'FP_GLD': array([0.13878306]),\n",
       "  'FP_SLACK': np.float64(0.139174),\n",
       "  'GLD_PARAMS': array([0.08397751, 0.03112605, 0.34791298, 0.12316523]),\n",
       "  'CONST': array([0.00884175, 0.01741121])},\n",
       " '[0.101936 1.000000 0.773865 0.684315]': {'FP_GLD': array([0.14106368]),\n",
       "  'FP_SLACK': np.float64(0.140746),\n",
       "  'GLD_PARAMS': array([0.0829366 , 0.03376441, 0.40406745, 0.12388252]),\n",
       "  'CONST': array([0.00498871, 0.03273956])},\n",
       " '[0.200557 0.909962 0.575523 0.858739]': {'FP_GLD': array([0.12749231]),\n",
       "  'FP_SLACK': np.float64(0.127586),\n",
       "  'GLD_PARAMS': array([0.08427508, 0.0304719 , 0.35548305, 0.12284014]),\n",
       "  'CONST': array([-0.06840214,  0.03347283])},\n",
       " '[0.107632 1.000000 0.676639 0.751644]': {'FP_GLD': array([0.13709548]),\n",
       "  'FP_SLACK': np.float64(0.136954),\n",
       "  'GLD_PARAMS': array([0.08347098, 0.03205545, 0.37679614, 0.12243937]),\n",
       "  'CONST': array([0.00558085, 0.01105286])},\n",
       " '[0.109377 1.000000 0.795532 0.636751]': {'FP_GLD': array([0.1383273]),\n",
       "  'FP_SLACK': np.float64(0.137958),\n",
       "  'GLD_PARAMS': array([0.08299421, 0.03400227, 0.41187215, 0.12460106]),\n",
       "  'CONST': array([0.00576863, 0.0186963 ])},\n",
       " '[0.031879 1.000000 0.649314 0.732948]': {'FP_GLD': array([0.12984443]),\n",
       "  'FP_SLACK': np.float64(0.129804),\n",
       "  'GLD_PARAMS': array([0.08390964, 0.03113926, 0.36904465, 0.12228272]),\n",
       "  'CONST': array([ 0.00033245, -0.0210839 ])},\n",
       " '[0.183203 0.992282 0.678286 0.740360]': {'FP_GLD': array([0.13633626]),\n",
       "  'FP_SLACK': np.float64(0.136232),\n",
       "  'GLD_PARAMS': array([0.08340416, 0.03227252, 0.38299834, 0.12269338]),\n",
       "  'CONST': array([0.00883978, 0.0038085 ])},\n",
       " '[0.194614 0.986575 0.593274 0.819604]': {'FP_GLD': array([0.13701945]),\n",
       "  'FP_SLACK': np.float64(0.137342),\n",
       "  'GLD_PARAMS': array([0.08388639, 0.03123204, 0.35536096, 0.12282961]),\n",
       "  'CONST': array([0.00537193, 0.01150928])},\n",
       " '[0.202418 1.000000 0.710562 0.772445]': {'FP_GLD': array([0.14734787]),\n",
       "  'FP_SLACK': np.float64(0.14718),\n",
       "  'GLD_PARAMS': array([0.0828627 , 0.0334399 , 0.38809205, 0.1230041 ]),\n",
       "  'CONST': array([0.02006159, 0.04925865])},\n",
       " '[0.179541 0.989183 0.642295 0.774735]': {'FP_GLD': array([0.13602073]),\n",
       "  'FP_SLACK': np.float64(0.136056),\n",
       "  'GLD_PARAMS': array([0.08361537, 0.0317381 , 0.3711931 , 0.12247983]),\n",
       "  'CONST': array([0.00513356, 0.00607295])},\n",
       " '[0.135115 0.997237 0.683363 0.739030]': {'FP_GLD': array([0.13628709]),\n",
       "  'FP_SLACK': np.float64(0.136192),\n",
       "  'GLD_PARAMS': array([0.08343526, 0.03217793, 0.38107648, 0.12256247]),\n",
       "  'CONST': array([0.00614746, 0.00626791])},\n",
       " '[0.178853 0.974382 0.609955 0.739598]': {'FP_GLD': array([0.12400744]),\n",
       "  'FP_SLACK': np.float64(0.124064),\n",
       "  'GLD_PARAMS': array([0.0841863 , 0.03060418, 0.36738078, 0.12243367]),\n",
       "  'CONST': array([-0.00954843, -0.04160026])},\n",
       " '[0.157971 0.992973 0.676221 0.745250]': {'FP_GLD': array([0.13606751]),\n",
       "  'FP_SLACK': np.float64(0.135856),\n",
       "  'GLD_PARAMS': array([0.08345446, 0.03213478, 0.38048368, 0.1225803 ]),\n",
       "  'CONST': array([0.00525402, 0.00603037])},\n",
       " '[0.133953 0.996527 0.699570 0.722659]': {'FP_GLD': array([0.13597584]),\n",
       "  'FP_SLACK': np.float64(0.135728),\n",
       "  'GLD_PARAMS': array([0.08336809, 0.03239599, 0.3863619 , 0.12274538]),\n",
       "  'CONST': array([0.00528886, 0.0055144 ])},\n",
       " '[0.130620 0.947933 0.709517 0.728007]': {'FP_GLD': array([0.12883481]),\n",
       "  'FP_SLACK': np.float64(0.128642),\n",
       "  'GLD_PARAMS': array([0.0835781 , 0.03214431, 0.39351081, 0.1231431 ]),\n",
       "  'CONST': array([-0.04330155,  0.01627791])},\n",
       " '[0.159832 0.992785 0.697401 0.724033]': {'FP_GLD': array([0.13588882]),\n",
       "  'FP_SLACK': np.float64(0.135798),\n",
       "  'GLD_PARAMS': array([0.08335706, 0.0324415 , 0.38742834, 0.12283113]),\n",
       "  'CONST': array([0.00536147, 0.00499628])},\n",
       " '[0.157343 0.992808 0.661436 0.758679]': {'FP_GLD': array([0.13604433]),\n",
       "  'FP_SLACK': np.float64(0.135982),\n",
       "  'GLD_PARAMS': array([0.0835358 , 0.03192199, 0.37563104, 0.12248099]),\n",
       "  'CONST': array([0.00499202, 0.00623906])},\n",
       " '[0.135473 0.996022 0.681297 0.739645]': {'FP_GLD': array([0.13587875]),\n",
       "  'FP_SLACK': np.float64(0.13581),\n",
       "  'GLD_PARAMS': array([0.08345893, 0.03212594, 0.38067194, 0.12255064]),\n",
       "  'CONST': array([0.00499138, 0.00531854])},\n",
       " '[0.169172 0.991468 0.688189 0.732851]': {'FP_GLD': array([0.13594317]),\n",
       "  'FP_SLACK': np.float64(0.135832),\n",
       "  'GLD_PARAMS': array([0.08338717, 0.0323414 , 0.38520925, 0.12275326]),\n",
       "  'CONST': array([0.00558808, 0.00503732])},\n",
       " '[0.132933 0.992102 0.669132 0.727699]': {'FP_GLD': array([0.1317727]),\n",
       "  'FP_SLACK': np.float64(0.131696),\n",
       "  'GLD_PARAMS': array([0.08365912, 0.0317098 , 0.37897559, 0.12247936]),\n",
       "  'CONST': array([ 0.00076789, -0.0117041 ])},\n",
       " '[0.151869 0.993814 0.685653 0.735192]': {'FP_GLD': array([0.13585276]),\n",
       "  'FP_SLACK': np.float64(0.135632),\n",
       "  'GLD_PARAMS': array([0.08342102, 0.03223886, 0.38318994, 0.12265132]),\n",
       "  'CONST': array([0.00514602, 0.0050139 ])},\n",
       " '[0.146280 0.994524 0.691797 0.729440]': {'FP_GLD': array([0.13583228]),\n",
       "  'FP_SLACK': np.float64(0.13565),\n",
       "  'GLD_PARAMS': array([0.08339785, 0.03230994, 0.38477134, 0.12269957]),\n",
       "  'CONST': array([0.00502069, 0.00503281])},\n",
       " '[0.164348 0.991852 0.685419 0.735442]': {'FP_GLD': array([0.13586189]),\n",
       "  'FP_SLACK': np.float64(0.135794),\n",
       "  'GLD_PARAMS': array([0.08340832, 0.03227876, 0.38401877, 0.12270042]),\n",
       "  'CONST': array([0.00516766, 0.0050374 ])},\n",
       " '[0.146842 0.998192 0.698227 0.736328]': {'FP_GLD': array([0.13837464]),\n",
       "  'FP_SLACK': np.float64(0.13817),\n",
       "  'GLD_PARAMS': array([0.08328182, 0.03254938, 0.38533755, 0.12273655]),\n",
       "  'CONST': array([0.0087307 , 0.01445343])},\n",
       " '[0.154734 0.993263 0.687832 0.733154]': {'FP_GLD': array([0.13583214]),\n",
       "  'FP_SLACK': np.float64(0.135636),\n",
       "  'GLD_PARAMS': array([0.08340816, 0.03227916, 0.38409669, 0.12268768]),\n",
       "  'CONST': array([0.00503692, 0.00501442])},\n",
       " '[0.145713 0.989865 0.693075 0.730594]': {'FP_GLD': array([0.13525799]),\n",
       "  'FP_SLACK': np.float64(0.135102),\n",
       "  'GLD_PARAMS': array([0.08341184, 0.03229516, 0.38547636, 0.12273084]),\n",
       "  'CONST': array([0.00032904, 0.00674936])},\n",
       " '[0.150203 0.993927 0.689567 0.731509]': {'FP_GLD': array([0.1358245]),\n",
       "  'FP_SLACK': np.float64(0.135614),\n",
       "  'GLD_PARAMS': array([0.0834048 , 0.03228924, 0.38433481, 0.12268926]),\n",
       "  'CONST': array([0.00500779, 0.00500463])},\n",
       " '[0.156913 0.992907 0.688121 0.732866]': {'FP_GLD': array([0.135827]),\n",
       "  'FP_SLACK': np.float64(0.135662),\n",
       "  'GLD_PARAMS': array([0.08340468, 0.03229049, 0.38434654, 0.1227003 ]),\n",
       "  'CONST': array([0.00502294, 0.00500198])},\n",
       " '[0.149903 0.992315 0.686286 0.728112]': {'FP_GLD': array([0.1345947]),\n",
       "  'FP_SLACK': np.float64(0.13445),\n",
       "  'GLD_PARAMS': array([0.08346187, 0.03217088, 0.38400048, 0.12266968]),\n",
       "  'CONST': array([0.0033692 , 0.00028289])},\n",
       " '[0.872577 0.512833 0.870016 0.596284]': {'FP_GLD': array([0.12941294]),\n",
       "  'FP_SLACK': np.float64(0.128988),\n",
       "  'GLD_PARAMS': array([0.08618451, 0.04269816, 0.48666199, 0.1383369 ]),\n",
       "  'CONST': array([0.01185242, 0.05445495])},\n",
       " '[0.862568 0.503100 0.840196 0.550249]': {'FP_GLD': array([0.11815788]),\n",
       "  'FP_SLACK': np.float64(0.11779),\n",
       "  'GLD_PARAMS': array([0.08684441, 0.04157593, 0.48777835, 0.13851269]),\n",
       "  'CONST': array([-0.00169926,  0.00407026])},\n",
       " '[0.866540 0.482625 0.884866 0.454123]': {'FP_GLD': array([0.11110865]),\n",
       "  'FP_SLACK': np.float64(0.110762),\n",
       "  'GLD_PARAMS': array([0.08810265, 0.04214171, 0.49200377, 0.1392155 ]),\n",
       "  'CONST': array([-0.00838369, -0.00566245])},\n",
       " '[0.898210 0.434727 0.963124 0.306377]': {'FP_GLD': array([0.10566614]),\n",
       "  'FP_SLACK': np.float64(0.105248),\n",
       "  'GLD_PARAMS': array([0.09021708, 0.0439497 , 0.49687497, 0.14001727]),\n",
       "  'CONST': array([-0.00237059,  0.01045098])},\n",
       " '[0.973651 0.287639 1.000000 0.122206]': {'FP_GLD': array([0.09201506]),\n",
       "  'FP_SLACK': np.float64(0.091582),\n",
       "  'GLD_PARAMS': array([0.09406131, 0.04571048, 0.50053356, 0.14099396]),\n",
       "  'CONST': array([0.01502461, 0.00725392])},\n",
       " '[1.000000 0.145585 1.000000 0.025142]': {'FP_GLD': array([0.07946383]),\n",
       "  'FP_SLACK': np.float64(0.07912),\n",
       "  'GLD_PARAMS': array([0.09688488, 0.04595135, 0.50125208, 0.14146175]),\n",
       "  'CONST': array([0.01035019, 0.00015535])},\n",
       " '[1.000000 0.049782 0.994224 0.000000]': {'FP_GLD': array([0.07350296]),\n",
       "  'FP_SLACK': np.float64(0.073014),\n",
       "  'GLD_PARAMS': array([0.09801056, 0.04569175, 0.5011718 , 0.14144381]),\n",
       "  'CONST': array([ 0.00107145, -0.00592973])},\n",
       " '[0.996168 0.000000 0.994770 0.000000]': {'FP_GLD': array([0.07240246]),\n",
       "  'FP_SLACK': np.float64(0.071892),\n",
       "  'GLD_PARAMS': array([0.09818072, 0.0455989 , 0.50113508, 0.14144151]),\n",
       "  'CONST': array([-0.00398559, -0.00538399])},\n",
       " '[0.996390 0.028968 0.966105 0.028968]': {'FP_GLD': array([0.07008277]),\n",
       "  'FP_SLACK': np.float64(0.069692),\n",
       "  'GLD_PARAMS': array([0.09806134, 0.04495827, 0.50119748, 0.14134865]),\n",
       "  'CONST': array([-0.00334983, -0.03361743])},\n",
       " '[0.967449 0.028941 0.995072 0.028941]': {'FP_GLD': array([0.07007073]),\n",
       "  'FP_SLACK': np.float64(0.069614),\n",
       "  'GLD_PARAMS': array([0.09806104, 0.04496708, 0.50121217, 0.14152879]),\n",
       "  'CONST': array([-0.03227451, -0.00466772])},\n",
       " '[0.950818 0.000000 0.973713 0.000000]': {'FP_GLD': array([0.06574327]),\n",
       "  'FP_SLACK': np.float64(0.065302),\n",
       "  'GLD_PARAMS': array([0.09817211, 0.04408063, 0.50124587, 0.14149183]),\n",
       "  'CONST': array([-0.0493286 , -0.02643725])},\n",
       " '[0.991178 0.000000 0.994464 0.000000]': {'FP_GLD': array([0.07186836]),\n",
       "  'FP_SLACK': np.float64(0.071408),\n",
       "  'GLD_PARAMS': array([0.09817999, 0.04547803, 0.50114494, 0.14145365]),\n",
       "  'CONST': array([-0.0089755 , -0.00568915])},\n",
       " '[0.995994 0.000000 0.999767 0.000000]': {'FP_GLD': array([0.07288765]),\n",
       "  'FP_SLACK': np.float64(0.072408),\n",
       "  'GLD_PARAMS': array([0.09818129, 0.04571058, 0.50112885, 0.1414597 ]),\n",
       "  'CONST': array([-0.00415998, -0.0003878 ])},\n",
       " '[0.993296 0.002894 0.994800 0.002894]': {'FP_GLD': array([0.0721209]),\n",
       "  'FP_SLACK': np.float64(0.07165),\n",
       "  'GLD_PARAMS': array([0.09817916, 0.04553421, 0.50114076, 0.14144937]),\n",
       "  'CONST': array([-0.00685354, -0.00535022])},\n",
       " '[0.995150 0.000000 0.995155 0.003892]': {'FP_GLD': array([0.07234319]),\n",
       "  'FP_SLACK': np.float64(0.07186),\n",
       "  'GLD_PARAMS': array([0.09817957, 0.04558469, 0.50113671, 0.14144572]),\n",
       "  'CONST': array([-0.0050033 , -0.00499231])},\n",
       " '[0.995153 0.000142 0.995160 0.000000]': {'FP_GLD': array([0.07233915]),\n",
       "  'FP_SLACK': np.float64(0.071852),\n",
       "  'GLD_PARAMS': array([0.09818063, 0.04558475, 0.5011365 , 0.14144559]),\n",
       "  'CONST': array([-0.00500092, -0.00499396])},\n",
       " '[0.993559 0.000000 0.990422 0.000000]': {'FP_GLD': array([0.07170237]),\n",
       "  'FP_SLACK': np.float64(0.071236),\n",
       "  'GLD_PARAMS': array([0.09817982, 0.04543888, 0.50114571, 0.14143294]),\n",
       "  'CONST': array([-0.00659394, -0.00973046])},\n",
       " '[0.995639 0.005117 0.995066 0.000000]': {'FP_GLD': array([0.07238696]),\n",
       "  'FP_SLACK': np.float64(0.071896),\n",
       "  'GLD_PARAMS': array([0.09817885, 0.04559385, 0.50113621, 0.14144414]),\n",
       "  'CONST': array([-0.00450324, -0.00508776])},\n",
       " '[0.995443 0.002661 0.995100 0.000000]': {'FP_GLD': array([0.07236471]),\n",
       "  'FP_SLACK': np.float64(0.071876),\n",
       "  'GLD_PARAMS': array([0.09818016, 0.04559004, 0.50113616, 0.14144465]),\n",
       "  'CONST': array([-0.00470792, -0.00505343])},\n",
       " '[0.995036 0.000144 0.994674 0.000000]': {'FP_GLD': array([0.07227843]),\n",
       "  'FP_SLACK': np.float64(0.07179),\n",
       "  'GLD_PARAMS': array([0.09818056, 0.04557083, 0.50113735, 0.14144417]),\n",
       "  'CONST': array([-0.00511808, -0.00547996])},\n",
       " '[0.995203 0.000639 0.995152 0.000000]': {'FP_GLD': array([0.0723436]),\n",
       "  'FP_SLACK': np.float64(0.07186),\n",
       "  'GLD_PARAMS': array([0.0981806 , 0.04558572, 0.50113642, 0.14144543]),\n",
       "  'CONST': array([-0.00495056, -0.00500189])},\n",
       " '[0.995341 0.000130 0.995623 0.000000]': {'FP_GLD': array([0.07240484]),\n",
       "  'FP_SLACK': np.float64(0.071922),\n",
       "  'GLD_PARAMS': array([0.09818069, 0.04559976, 0.50113553, 0.14144673]),\n",
       "  'CONST': array([-0.00481234, -0.00453112])},\n",
       " '[0.994943 0.000453 0.995119 0.000327]': {'FP_GLD': array([0.072314]),\n",
       "  'FP_SLACK': np.float64(0.07183),\n",
       "  'GLD_PARAMS': array([0.09818056, 0.04557902, 0.50113695, 0.141446  ]),\n",
       "  'CONST': array([-0.00521093, -0.0050347 ])},\n",
       " '[0.994675 0.000192 0.995299 0.000000]': {'FP_GLD': array([0.07230501]),\n",
       "  'FP_SLACK': np.float64(0.07184),\n",
       "  'GLD_PARAMS': array([0.09818056, 0.04557707, 0.50113722, 0.14144734]),\n",
       "  'CONST': array([-0.00547856, -0.00485497])},\n",
       " '[0.995154 0.000000 0.995154 0.000000]': {'FP_GLD': array([0.07233863]),\n",
       "  'FP_SLACK': np.float64(0.071848),\n",
       "  'GLD_PARAMS': array([0.09818063, 0.04558463, 0.5011365 , 0.14144556]),\n",
       "  'CONST': array([-0.005, -0.005])},\n",
       " '[0.995154 0.000043 0.995154 0.000000]': {'FP_GLD': array([0.07233863]),\n",
       "  'FP_SLACK': np.float64(0.07185),\n",
       "  'GLD_PARAMS': array([0.09818063, 0.04558463, 0.5011365 , 0.14144556]),\n",
       "  'CONST': array([-0.005, -0.005])},\n",
       " '[0.995101 0.000146 0.995145 0.000082]': {'FP_GLD': array([0.07233247]),\n",
       "  'FP_SLACK': np.float64(0.071844),\n",
       "  'GLD_PARAMS': array([0.09818061, 0.04558322, 0.50113662, 0.14144567]),\n",
       "  'CONST': array([-0.00505287, -0.0050087 ])},\n",
       " '[0.995221 0.000000 0.995131 0.000000]': {'FP_GLD': array([0.07234315]),\n",
       "  'FP_SLACK': np.float64(0.071856),\n",
       "  'GLD_PARAMS': array([0.09818063, 0.04558563, 0.5011364 , 0.1414453 ]),\n",
       "  'CONST': array([-0.00493301, -0.00502261])},\n",
       " '[0.995192 0.000000 0.995213 0.000000]': {'FP_GLD': array([0.07234853]),\n",
       "  'FP_SLACK': np.float64(0.07187),\n",
       "  'GLD_PARAMS': array([0.09818063, 0.04558688, 0.50113635, 0.14144567]),\n",
       "  'CONST': array([-0.00496148, -0.00494072])},\n",
       " '[0.995145 0.000000 0.995158 0.000000]': {'FP_GLD': array([0.07233821]),\n",
       "  'FP_SLACK': np.float64(0.071846),\n",
       "  'GLD_PARAMS': array([0.09818063, 0.04558454, 0.50113651, 0.1414456 ]),\n",
       "  'CONST': array([-0.00500884, -0.00499533])},\n",
       " '[0.995151 0.000008 0.995153 0.000005]': {'FP_GLD': array([0.07233827]),\n",
       "  'FP_SLACK': np.float64(0.071848),\n",
       "  'GLD_PARAMS': array([0.09818063, 0.04558455, 0.50113651, 0.14144557]),\n",
       "  'CONST': array([-0.00500301, -0.0050005 ])},\n",
       " '[0.995149 0.000000 0.995145 0.000000]': {'FP_GLD': array([0.07233731]),\n",
       "  'FP_SLACK': np.float64(0.071848),\n",
       "  'GLD_PARAMS': array([0.09818062, 0.04558432, 0.50113652, 0.14144554]),\n",
       "  'CONST': array([-0.00500444, -0.00500896])},\n",
       " '[0.995154 0.000000 0.995154 0.000010]': {'FP_GLD': array([0.0723386]),\n",
       "  'FP_SLACK': np.float64(0.071848),\n",
       "  'GLD_PARAMS': array([0.09818064, 0.04558463, 0.5011365 , 0.14144556]),\n",
       "  'CONST': array([-0.005, -0.005])},\n",
       " '[0.995154 0.000000 0.995154 0.000024]': {'FP_GLD': array([0.0723386]),\n",
       "  'FP_SLACK': np.float64(0.071848),\n",
       "  'GLD_PARAMS': array([0.09818064, 0.04558463, 0.5011365 , 0.14144556]),\n",
       "  'CONST': array([-0.005, -0.005])},\n",
       " '[0.995162 0.000003 0.995149 0.000010]': {'FP_GLD': array([0.07233903]),\n",
       "  'FP_SLACK': np.float64(0.07185),\n",
       "  'GLD_PARAMS': array([0.09818063, 0.04558471, 0.50113649, 0.14144552]),\n",
       "  'CONST': array([-0.00499157, -0.00500475])},\n",
       " '[0.995154 0.000000 0.995154 0.000017]': {'FP_GLD': array([0.0723386]),\n",
       "  'FP_SLACK': np.float64(0.071848),\n",
       "  'GLD_PARAMS': array([0.09818064, 0.04558463, 0.5011365 , 0.14144556]),\n",
       "  'CONST': array([-0.005, -0.005])},\n",
       " '[0.995158 0.000002 0.995162 0.000010]': {'FP_GLD': array([0.07233998]),\n",
       "  'FP_SLACK': np.float64(0.071852),\n",
       "  'GLD_PARAMS': array([0.09818063, 0.04558493, 0.50113649, 0.14144558]),\n",
       "  'CONST': array([-0.00499561, -0.00499127])},\n",
       " '[0.995153 0.000005 0.995154 0.000010]': {'FP_GLD': array([0.07233855]),\n",
       "  'FP_SLACK': np.float64(0.071848),\n",
       "  'GLD_PARAMS': array([0.09818063, 0.04558461, 0.50113651, 0.14144556]),\n",
       "  'CONST': array([-0.00500063, -0.00500017])}}"
      ]
     },
     "execution_count": 27,
     "metadata": {},
     "output_type": "execute_result"
    }
   ],
   "source": [
    "result_dict"
   ]
  },
  {
   "cell_type": "markdown",
   "id": "c8f2875c-dfed-46c6-9498-164c48b645f3",
   "metadata": {},
   "source": [
    "Let's clean up the result dictionary by removing the points where constraints are not respected (0.5% max deviation)"
   ]
  },
  {
   "cell_type": "code",
   "execution_count": 34,
   "id": "ed8c2b7a-86ee-457a-8105-1422184d926f",
   "metadata": {},
   "outputs": [],
   "source": [
    "result_dict_clean = {key:val for key,val in result_dict.items() if ((np.abs(val['CONST'])<=0.005).all() and 'GLD_PARAMS' in val.keys())}\n",
    "gld_param_list = [val['GLD_PARAMS'] for key,val in result_dict_clean.items()]"
   ]
  },
  {
   "cell_type": "code",
   "execution_count": 35,
   "id": "44559899-500c-4926-8186-102f1ee0db58",
   "metadata": {},
   "outputs": [
    {
     "data": {
      "image/png": "[encoded data removed]",
      "text/plain": [
       "<Figure size 960x720 with 1 Axes>"
      ]
     },
     "metadata": {},
     "output_type": "display_data"
    }
   ],
   "source": [
    "otaf.plotting.plot_gld_pbox_cdf2(gld, gld_param_list,np.linspace(-0.05,0.2,1000) )"
   ]
  },
  {
   "cell_type": "code",
   "execution_count": 40,
   "id": "7a673a4d-dfef-4e55-8f61-36fd6b02ed9e",
   "metadata": {},
   "outputs": [
    {
     "name": "stdout",
     "output_type": "stream",
     "text": [
      "\tgld_params: [0.09818191 0.0458073  0.50112086 0.14145006]\n",
      "[0.00133705]\n",
      "\tgld_params: [0.09499342 0.03096709 0.06325466 0.25066254]\n",
      "[0.00104826]\n"
     ]
    }
   ],
   "source": [
    "print(optimization_function_mini(np.array([1,0,1,0.0])))\n",
    "print(optimization_function_mini(np.array([0.0,1.0,0.0,1.0])))"
   ]
  },
  {
   "cell_type": "code",
   "execution_count": 42,
   "id": "d3b6b0bd-6be1-412b-85d1-46100d921e5a",
   "metadata": {},
   "outputs": [
    {
     "name": "stdout",
     "output_type": "stream",
     "text": [
      "[-0.00015442 -0.00015442]\n",
      "[-0.00016764 -0.00016764]\n"
     ]
    }
   ],
   "source": [
    "print(assembly_constraint_no_mean(np.array([1,0,1,0.0])))\n",
    "print(assembly_constraint_no_mean(np.array([0.0,1.0,0.0,1.0])))"
   ]
  },
  {
   "cell_type": "code",
   "execution_count": 39,
   "id": "9ac4d232-51df-47a2-be6f-cef3432991be",
   "metadata": {},
   "outputs": [
    {
     "data": {
      "image/png": "[encoded data removed]",
      "text/plain": [
       "<Figure size 960x720 with 1 Axes>"
      ]
     },
     "metadata": {},
     "output_type": "display_data"
    }
   ],
   "source": [
    "g1=[0.09499342, 0.03096709, 0.06325466, 0.25066254]\n",
    "g2=[0.09818191, 0.0458073,  0.50112086, 0.14145006]\n",
    "otaf.plotting.plot_gld_pbox_cdf(gld, g2, g1, np.linspace(-0.05,0.2,1000))"
   ]
  },
  {
   "cell_type": "code",
   "execution_count": null,
   "id": "5bd5aeeb-1f6c-467d-b662-9ae356706e2b",
   "metadata": {},
   "outputs": [],
   "source": []
  }
 ],
 "metadata": {
  "kernelspec": {
   "display_name": "Python 3 (ipykernel)",
   "language": "python",
   "name": "python3"
  },
  "language_info": {
   "codemirror_mode": {
    "name": "ipython",
    "version": 3
   },
   "file_extension": ".py",
   "mimetype": "text/x-python",
   "name": "python",
   "nbconvert_exporter": "python",
   "pygments_lexer": "ipython3",
   "version": "3.12.8"
  }
 },
 "nbformat": 4,
 "nbformat_minor": 5
}
