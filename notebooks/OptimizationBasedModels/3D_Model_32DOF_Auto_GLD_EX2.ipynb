{
 "cells": [
  {
   "cell_type": "code",
   "execution_count": 1,
   "id": "872744ae-a8b8-4796-9eff-ecbae30ae4c4",
   "metadata": {},
   "outputs": [],
   "source": [
    "import os\n",
    "import pickle\n",
    "import re\n",
    "import pprint\n",
    "import numpy as np\n",
    "import sympy as sp\n",
    "import openturns as ot\n",
    "# Display the final graph\n",
    "import openturns.viewer as viewer\n",
    "import matplotlib.pyplot as plt\n",
    "import trimesh as tr\n",
    "from importlib import reload\n",
    "from functools import partial\n",
    "\n",
    "from math import pi\n",
    "from joblib import Parallel, delayed\n",
    "from importlib import reload\n",
    "from IPython.display import display, clear_output\n",
    "from time import time\n",
    "from sympy.printing import latex\n",
    "from trimesh import viewer as trview\n",
    "import sklearn\n",
    "\n",
    "from scipy.optimize import OptimizeResult, minimize, basinhopping, differential_evolution, brute, shgo, check_grad, approx_fprime, fsolve, NonlinearConstraint, Bounds\n",
    "\n",
    "import tqdm\n",
    "import otaf\n",
    "\n",
    "from gldpy import GLD\n",
    "\n",
    "ot.Log.Show(ot.Log.NONE)\n",
    "np.set_printoptions(suppress=True)\n",
    "ar = np.array"
   ]
  },
  {
   "cell_type": "markdown",
   "id": "4817c72a-0818-4d16-a347-bc57ef3cf4d7",
   "metadata": {},
   "source": [
    "# Notebook for the analysis of a system comprised of N + 2 parts, 2 plates with N = N1 x N2 holes, and N pins. "
   ]
  },
  {
   "cell_type": "markdown",
   "id": "dd3f3fc3-09ea-4e9a-bca2-0a532e8398eb",
   "metadata": {},
   "source": [
    "### Defintion on global descriptive parameters"
   ]
  },
  {
   "cell_type": "code",
   "execution_count": 2,
   "id": "91253f14-bf22-495a-b2da-aa89d49d970d",
   "metadata": {},
   "outputs": [],
   "source": [
    "NX = 2 ## Number of holes on x axis\n",
    "NY = 2 ## Number of holes on y axis\n",
    "Dext = 20 ## Diameter of holes in mm\n",
    "Dint = 19.8 ## Diameter of pins in mm\n",
    "EH = 50 ## Distance between the hole axises\n",
    "LB = 25 # Distance between border holes axis and edge.\n",
    "hPlate = 30 #Height of the plates in mm\n",
    "hPin = 60 #Height of the pins in mm\n",
    "\n",
    "CIRCLE_RESOLUTION = 16 # NUmber of points to model the contour of the outer holes"
   ]
  },
  {
   "cell_type": "markdown",
   "id": "57fa6a57-ff00-4438-9487-0304ddcf7cd9",
   "metadata": {},
   "source": [
    "### Defining and constructing the system data dictionary\n",
    "\n",
    "The plates have NX * NY + 1 surfaces. The lower left point has coordinate 0,0,0\n",
    "\n",
    "We only model the surfaces that are touching. "
   ]
  },
  {
   "cell_type": "code",
   "execution_count": 3,
   "id": "9be0ccd7-a39e-4eef-83c8-ff9d759040bd",
   "metadata": {},
   "outputs": [],
   "source": [
    "N_PARTS = NX * NY * 2\n",
    "LX = (NX - 1) * EH + 2*LB\n",
    "LY = (NY - 1) * EH + 2*LB\n",
    "\n",
    "contour_points = ar([[0,0,0],[LX,0,0],[LX,LY,0],[0,LY,0]])\n",
    "\n",
    "R0 = ar([[1, 0, 0], [0, 1, 0], [0, 0, 1]])\n",
    "x_, y_, z_ = R0[0], R0[1], R0[2]\n",
    "\n",
    "Frame1 = ar([z_,y_,-x_])\n",
    "Frame2 = ar([-z_,y_,x_])"
   ]
  },
  {
   "cell_type": "markdown",
   "id": "42692f0e-e845-4efa-9470-805dc0d65b3b",
   "metadata": {},
   "source": [
    "First we define the base part dictionaries for the upper and lower plate, without holes"
   ]
  },
  {
   "cell_type": "code",
   "execution_count": 4,
   "id": "35a1bb46-a7f6-4d9d-82f0-07ceccb9ed9d",
   "metadata": {},
   "outputs": [],
   "source": [
    "system_data = {\n",
    "    \"PARTS\" : {\n",
    "        '0' : {\n",
    "            \"a\" : {\n",
    "                \"FRAME\": Frame1,\n",
    "                \"POINTS\": {'A0' : ar([0,0,0]),\n",
    "                           'A1' : ar([LX,0,0]),\n",
    "                           'A2' : ar([LX,LY,0]),\n",
    "                           'A3' : ar([0,LY,0]),\n",
    "                        },\n",
    "                \"TYPE\": \"plane\",\n",
    "                \"INTERACTIONS\": ['P1a'],\n",
    "                \"CONSTRAINTS_D\": [\"PERFECT\"],\n",
    "                \"CONSTRAINTS_G\": [\"SLIDING\"],            \n",
    "            }\n",
    "        },\n",
    "        '1' : {\n",
    "            \"a\" : {\n",
    "                \"FRAME\": Frame2,\n",
    "                \"POINTS\": {'A0' : ar([0,0,0]),\n",
    "                           'A1' : ar([LX,0,0]),\n",
    "                           'A2' : ar([LX,LY,0]),\n",
    "                           'A3' : ar([0,LY,0]),\n",
    "                        },\n",
    "                \"TYPE\": \"plane\",\n",
    "                \"INTERACTIONS\": ['P0a'],\n",
    "                \"CONSTRAINTS_D\": [\"PERFECT\"],\n",
    "                \"CONSTRAINTS_G\": [\"SLIDING\"],            \n",
    "            }\n",
    "        }  \n",
    "    },\n",
    "    \"LOOPS\": {\n",
    "        \"COMPATIBILITY\": {\n",
    "        },\n",
    "    },\n",
    "    \"GLOBAL_CONSTRAINTS\": \"3D\",\n",
    "}"
   ]
  },
  {
   "cell_type": "markdown",
   "id": "e1e81a47-6214-4774-ab58-8d16bd43ac9b",
   "metadata": {},
   "source": [
    "Then we iterate over the pin dimensions NX and NY, and create the corresponding holes and pins. At the same time there is 1 loop per pin"
   ]
  },
  {
   "cell_type": "code",
   "execution_count": 5,
   "id": "29491ebe-37b5-4879-a740-64db3434d62e",
   "metadata": {},
   "outputs": [],
   "source": [
    "alpha_gen = otaf.common.alphabet_generator()\n",
    "next(alpha_gen) # skipping 'a' as it has already been used above\n",
    "part_id = 2 # Start part index for pins\n",
    "for i in range(NX):\n",
    "    for j in range(NY):\n",
    "        pcor = ar([LB+i*EH, LB+j*EH, 0]) # Point coordinate for hole / pins\n",
    "        slab = next(alpha_gen) # Surface label, same for each mating pin so its easeir to track\n",
    "        # Creating pin\n",
    "        system_data[\"PARTS\"][str(part_id)] = {}\n",
    "        system_data[\"PARTS\"][str(part_id)][slab] = {\n",
    "            \"FRAME\": Frame1, # Frame doesn't really matter, as long as x is aligned on the axis\n",
    "            \"ORIGIN\": pcor, \n",
    "            \"TYPE\": \"cylinder\",\n",
    "            \"RADIUS\": Dint / 2,\n",
    "            \"EXTENT_LOCAL\": {\"x_max\": hPin/2, \"x_min\": -hPin/2},\n",
    "            \"INTERACTIONS\": [f\"P0{slab}\", f\"P1{slab}\"], \n",
    "            \"SURFACE_DIRECTION\": \"centrifugal\",\n",
    "            \"CONSTRAINTS_D\": [\"PERFECT\"], # No defects on the pins\n",
    "            \"BLOCK_ROTATIONS_G\": 'x', # The pins do not rotate around their axis\n",
    "            \"BLOCK_TRANSLATIONS_G\": 'x', # The pins do not slide along their axis\n",
    "        }\n",
    "        # Adding hole to part 0\n",
    "        system_data[\"PARTS\"][\"0\"][slab] = {\n",
    "            \"FRAME\": Frame1,\n",
    "            \"ORIGIN\": pcor, \n",
    "            \"TYPE\": \"cylinder\",\n",
    "            \"RADIUS\": Dext / 2,\n",
    "            \"EXTENT_LOCAL\": {\"x_max\": hPin/2, \"x_min\": -hPin/2},\n",
    "            \"INTERACTIONS\": [f\"P{part_id}{slab}\"], \n",
    "            \"SURFACE_DIRECTION\": \"centripetal\",\n",
    "        }\n",
    "        # Adding hole to part 1\n",
    "        system_data[\"PARTS\"][\"1\"][slab] = {\n",
    "            \"FRAME\": Frame2,\n",
    "            \"ORIGIN\": pcor, \n",
    "            \"TYPE\": \"cylinder\",\n",
    "            \"RADIUS\": Dext / 2,\n",
    "            \"EXTENT_LOCAL\": {\"x_max\": hPin/2, \"x_min\": -hPin/2},\n",
    "            \"INTERACTIONS\": [f\"P{part_id}{slab}\"],\n",
    "            \"SURFACE_DIRECTION\": \"centripetal\",\n",
    "        }\n",
    "        # Construct Compatibility loop\n",
    "        loop_id = f\"L{part_id-1}\"\n",
    "        formater = lambda i,l : f\"P{i}{l}{l.upper()}0\" \n",
    "        system_data[\"LOOPS\"][\"COMPATIBILITY\"][loop_id] = f\"P0aA0 -> {formater(0,slab)} -> {formater(part_id,slab)} -> {formater(1,slab)} -> P1aA0\"\n",
    "        part_id += 1  "
   ]
  },
  {
   "cell_type": "code",
   "execution_count": 6,
   "id": "293f981a-efe3-4b44-b9f3-b7a580cf3829",
   "metadata": {},
   "outputs": [],
   "source": [
    "SDA = otaf.AssemblyDataProcessor(system_data)\n",
    "SDA.generate_expanded_loops()"
   ]
  },
  {
   "cell_type": "code",
   "execution_count": 7,
   "id": "e3e26ae8-3e27-496d-ac65-9f4385d89105",
   "metadata": {},
   "outputs": [],
   "source": [
    "CLH = otaf.CompatibilityLoopHandling(SDA)\n",
    "compatibility_expressions = CLH.get_compatibility_expression_from_FO_matrices()"
   ]
  },
  {
   "cell_type": "code",
   "execution_count": 8,
   "id": "87736588-7cec-4360-b748-2dfc7666461e",
   "metadata": {
    "scrolled": true
   },
   "outputs": [
    {
     "name": "stdout",
     "output_type": "stream",
     "text": [
      "Processing part 0, surface b for cylinder-to-cylinder interactions.\n",
      "usedGMatDat [['0', 'b', 'B0', '2', 'b', 'B0']]\n",
      "Found 1 used gap matrices.\n",
      "unusedGMatDat [['0', 'b', 'B2', '2', 'b', 'B2'], ['0', 'b', 'B1', '2', 'b', 'B1']]\n",
      "Found 2 unused gap matrices.\n",
      "Matching used and unused gap matrices: GP0bB0P2bB0 with GP0bB2P2bB2\n",
      "Matching used and unused gap matrices: GP0bB0P2bB0 with GP0bB1P2bB1\n",
      "Generated 32 interaction equations for current matching.\n",
      "Total interaction equations generated: 32\n",
      "Processing part 0, surface c for cylinder-to-cylinder interactions.\n",
      "usedGMatDat [['0', 'c', 'C0', '3', 'c', 'C0']]\n",
      "Found 1 used gap matrices.\n",
      "unusedGMatDat [['0', 'c', 'C2', '3', 'c', 'C2'], ['0', 'c', 'C1', '3', 'c', 'C1']]\n",
      "Found 2 unused gap matrices.\n",
      "Matching used and unused gap matrices: GP0cC0P3cC0 with GP0cC2P3cC2\n",
      "Matching used and unused gap matrices: GP0cC0P3cC0 with GP0cC1P3cC1\n",
      "Generated 32 interaction equations for current matching.\n",
      "Total interaction equations generated: 32\n",
      "Processing part 0, surface d for cylinder-to-cylinder interactions.\n",
      "usedGMatDat [['0', 'd', 'D0', '4', 'd', 'D0']]\n",
      "Found 1 used gap matrices.\n",
      "unusedGMatDat [['0', 'd', 'D1', '4', 'd', 'D1'], ['0', 'd', 'D2', '4', 'd', 'D2']]\n",
      "Found 2 unused gap matrices.\n",
      "Matching used and unused gap matrices: GP0dD0P4dD0 with GP0dD1P4dD1\n",
      "Matching used and unused gap matrices: GP0dD0P4dD0 with GP0dD2P4dD2\n",
      "Generated 32 interaction equations for current matching.\n",
      "Total interaction equations generated: 32\n",
      "Processing part 0, surface e for cylinder-to-cylinder interactions.\n",
      "usedGMatDat [['0', 'e', 'E0', '5', 'e', 'E0']]\n",
      "Found 1 used gap matrices.\n",
      "unusedGMatDat [['0', 'e', 'E2', '5', 'e', 'E2'], ['0', 'e', 'E1', '5', 'e', 'E1']]\n",
      "Found 2 unused gap matrices.\n",
      "Matching used and unused gap matrices: GP0eE0P5eE0 with GP0eE2P5eE2\n",
      "Matching used and unused gap matrices: GP0eE0P5eE0 with GP0eE1P5eE1\n",
      "Generated 32 interaction equations for current matching.\n",
      "Total interaction equations generated: 32\n",
      "Processing part 1, surface a for plane-to-plane interactions.\n",
      "usedGMatDat [['1', 'a', 'A0', '0', 'a', 'A0']]\n",
      "Found 1 used gap matrices.\n",
      "unusedGMatDat [['1', 'a', 'A2', '0', 'a', 'A2'], ['1', 'a', 'A3', '0', 'a', 'A3'], ['1', 'a', 'A1', '0', 'a', 'A1']]\n",
      "Found 3 unused gap matrices.\n",
      "Generated 3 interaction matrix loops for current matching.\n",
      "Processing part 2, surface b for cylinder-to-cylinder interactions.\n",
      "usedGMatDat [['2', 'b', 'B0', '1', 'b', 'B0']]\n",
      "Found 1 used gap matrices.\n",
      "unusedGMatDat [['2', 'b', 'B2', '1', 'b', 'B1'], ['2', 'b', 'B1', '0', 'b', 'B1'], ['2', 'b', 'B0', '0', 'b', 'B0'], ['2', 'b', 'B1', '1', 'b', 'B2'], ['2', 'b', 'B2', '0', 'b', 'B2']]\n",
      "Found 5 unused gap matrices.\n",
      "Matching used and unused gap matrices: GP2bB0P1bB0 with GP2bB2P1bB1\n",
      "Matching used and unused gap matrices: GP2bB0P1bB0 with GP2bB1P1bB2\n",
      "Generated 32 interaction equations for current matching.\n",
      "Total interaction equations generated: 32\n",
      "Processing part 3, surface c for cylinder-to-cylinder interactions.\n",
      "usedGMatDat [['3', 'c', 'C0', '1', 'c', 'C0']]\n",
      "Found 1 used gap matrices.\n",
      "unusedGMatDat [['3', 'c', 'C1', '0', 'c', 'C1'], ['3', 'c', 'C0', '0', 'c', 'C0'], ['3', 'c', 'C2', '0', 'c', 'C2'], ['3', 'c', 'C1', '1', 'c', 'C2'], ['3', 'c', 'C2', '1', 'c', 'C1']]\n",
      "Found 5 unused gap matrices.\n",
      "Matching used and unused gap matrices: GP3cC0P1cC0 with GP3cC1P1cC2\n",
      "Matching used and unused gap matrices: GP3cC0P1cC0 with GP3cC2P1cC1\n",
      "Generated 32 interaction equations for current matching.\n",
      "Total interaction equations generated: 32\n",
      "Processing part 4, surface d for cylinder-to-cylinder interactions.\n",
      "usedGMatDat [['4', 'd', 'D0', '1', 'd', 'D0']]\n",
      "Found 1 used gap matrices.\n",
      "unusedGMatDat [['4', 'd', 'D0', '0', 'd', 'D0'], ['4', 'd', 'D2', '0', 'd', 'D2'], ['4', 'd', 'D1', '0', 'd', 'D1'], ['4', 'd', 'D1', '1', 'd', 'D2'], ['4', 'd', 'D2', '1', 'd', 'D1']]\n",
      "Found 5 unused gap matrices.\n",
      "Matching used and unused gap matrices: GP4dD0P1dD0 with GP4dD1P1dD2\n",
      "Matching used and unused gap matrices: GP4dD0P1dD0 with GP4dD2P1dD1\n",
      "Generated 32 interaction equations for current matching.\n",
      "Total interaction equations generated: 32\n",
      "Processing part 5, surface e for cylinder-to-cylinder interactions.\n",
      "usedGMatDat [['5', 'e', 'E0', '1', 'e', 'E0']]\n",
      "Found 1 used gap matrices.\n",
      "unusedGMatDat [['5', 'e', 'E2', '0', 'e', 'E2'], ['5', 'e', 'E1', '0', 'e', 'E1'], ['5', 'e', 'E0', '0', 'e', 'E0'], ['5', 'e', 'E1', '1', 'e', 'E2'], ['5', 'e', 'E2', '1', 'e', 'E1']]\n",
      "Found 5 unused gap matrices.\n",
      "Matching used and unused gap matrices: GP5eE0P1eE0 with GP5eE1P1eE2\n",
      "Matching used and unused gap matrices: GP5eE0P1eE0 with GP5eE2P1eE1\n",
      "Generated 32 interaction equations for current matching.\n",
      "Total interaction equations generated: 32\n"
     ]
    }
   ],
   "source": [
    "ILH = otaf.InterfaceLoopHandling(SDA, CLH, circle_resolution=CIRCLE_RESOLUTION)\n",
    "interface_constraints = ILH.get_interface_loop_expressions()"
   ]
  },
  {
   "cell_type": "code",
   "execution_count": 9,
   "id": "31d2f4ba-f4bd-425a-ba0c-50cabc500272",
   "metadata": {},
   "outputs": [
    {
     "name": "stdout",
     "output_type": "stream",
     "text": [
      "32 [v_d_0, w_d_0, beta_d_0, gamma_d_0, v_d_2, w_d_2, beta_d_2, gamma_d_2, v_d_5, w_d_5, beta_d_5, gamma_d_5, v_d_7, w_d_7, beta_d_7, gamma_d_7, v_d_8, w_d_8, beta_d_8, gamma_d_8, v_d_10, w_d_10, beta_d_10, gamma_d_10, v_d_11, w_d_11, beta_d_11, gamma_d_11, v_d_13, w_d_13, beta_d_13, gamma_d_13]\n"
     ]
    }
   ],
   "source": [
    "SOCAM = otaf.SystemOfConstraintsAssemblyModel(\n",
    "    compatibility_expressions, interface_constraints\n",
    ")\n",
    "\n",
    "SOCAM.embedOptimizationVariable()\n",
    "\n",
    "print(len(SOCAM.deviation_symbols), SOCAM.deviation_symbols)"
   ]
  },
  {
   "cell_type": "markdown",
   "id": "e1be834b-fc7d-4fc3-85eb-2d8768c446ed",
   "metadata": {},
   "source": [
    "## Construction of the stochastic model of the defects.\n",
    "\n",
    "These are the max variances. "
   ]
  },
  {
   "cell_type": "code",
   "execution_count": 10,
   "id": "31049a41-8b2a-49c0-8142-2819f94c51ee",
   "metadata": {},
   "outputs": [],
   "source": [
    "tol = 0.1 * np.sqrt(2)\n",
    "Cm = 1  # Process capability\n",
    "\n",
    "# Defining the uncertainties on the position and orientation uncertainties.\n",
    "sigma_e_pos = tol / (6 * Cm)\n",
    "theta_max = tol / hPlate\n",
    "sigma_e_theta = (2 * theta_max) / (6 * Cm)"
   ]
  },
  {
   "cell_type": "code",
   "execution_count": 11,
   "id": "449f3658-2055-4cd6-a9bb-0ef7d520204f",
   "metadata": {},
   "outputs": [],
   "source": [
    "RandDeviationVect = otaf.distribution.get_composed_normal_defect_distribution(\n",
    "    defect_names=SOCAM.deviation_symbols,\n",
    "    sigma_dict = {\"alpha\":sigma_e_theta, \n",
    "                  \"beta\":sigma_e_theta,\n",
    "                  \"gamma\":sigma_e_theta, \n",
    "                  \"u\":sigma_e_pos, \n",
    "                  \"v\":sigma_e_pos, \n",
    "                  \"w\":sigma_e_pos})\n",
    "dim_devs = int(RandDeviationVect.getDimension())"
   ]
  },
  {
   "cell_type": "markdown",
   "id": "e58a0a59-111e-461e-b796-afacf7adce72",
   "metadata": {},
   "source": [
    "## Estimating the bounds on the probability of failure of the model.\n",
    "\n",
    "- First by exploring the whle parameter space, by generating a LHS in the (normalized) parameter space and doing a double loop montecarlo\n",
    "- By using the parameter constraint function to guide an optimization algorithm to find the bounds on the probability of failure"
   ]
  },
  {
   "cell_type": "markdown",
   "id": "f55b207f-7a0c-4bdd-96d3-12d235ee3202",
   "metadata": {},
   "source": [
    "## Now lets first to a double loop monte-carlo to explore the full space of the parameters (using the intermediate lambda space) and the stochastic space, to be able to draw the full P-Box of the slack"
   ]
  },
  {
   "cell_type": "markdown",
   "id": "60040ec1-5d78-428e-ba44-6b6adb01de5f",
   "metadata": {},
   "source": [
    "### Explicit constraint function on the 4 degrees of freedom of the cylindrical tolerance zone :\n",
    "\n",
    "$$λu2​+λv2​+λα2​+λβ2​+2(λu​λα​+λv​λβ​)−1=0$$\n",
    "\n",
    "This the constraint on the multipliers of the max standard deviation for each component of the DOFs. The defects are normal, centered and independent"
   ]
  },
  {
   "cell_type": "code",
   "execution_count": 12,
   "id": "640d99d7-56c6-4b9f-a4de-d28268b35398",
   "metadata": {},
   "outputs": [
    {
     "ename": "NameError",
     "evalue": "name 'STOP' is not defined",
     "output_type": "error",
     "traceback": [
      "\u001b[0;31m---------------------------------------------------------------------------\u001b[0m",
      "\u001b[0;31mNameError\u001b[0m                                 Traceback (most recent call last)",
      "Cell \u001b[0;32mIn[12], line 1\u001b[0m\n\u001b[0;32m----> 1\u001b[0m \u001b[43mSTOP\u001b[49m\n",
      "\u001b[0;31mNameError\u001b[0m: name 'STOP' is not defined"
     ]
    }
   ],
   "source": [
    "STOP"
   ]
  },
  {
   "cell_type": "code",
   "execution_count": null,
   "id": "3a94e1fe-9ae9-4000-96d5-1c1a896f28ab",
   "metadata": {
    "scrolled": true
   },
   "outputs": [],
   "source": [
    "bounds = None\n",
    "SEED_MC_PF = 6436431\n",
    "SIZE_MC_PF = 20000 #int(1e6) #1e4\n",
    "s_values = np.zeros((N_lambda, SIZE_MC_PF)) # For each MC point we have a s value\n",
    "GLD_parameters = [] # We need the parameters of the generalized lambda distribution.\n",
    "failure_probabilities = []\n",
    "# Generalized lambda distribution object for fitting\n",
    "gld = GLD('VSL')\n",
    "\n",
    "start_time = time()  # Record the start time\n",
    "for i in range(N_lambda):\n",
    "    print(f\"Doing iteration {i} of {N_lambda}\")\n",
    "    if i>0:\n",
    "        fp = failure_probabilities\n",
    "        print(f\"Failure probability i-1 : {fp[i-1]}, Min: {min(fp)}, / Max: {max(fp)}\")\n",
    "        print(\"s_mean: \", s_values.mean().round(3), \"s_min: \", np.nanmin(s_values).round(3), \"s_max: \", np.nanmax(s_values).round(3))\n",
    "\n",
    "    ot.RandomGenerator.SetSeed(SEED_MC_PF)\n",
    "    deviation_samples = np.array(RandDeviationVect.getSample(SIZE_MC_PF)) * np.array(\n",
    "        lambda_sample_conditioned[i]\n",
    "    )\n",
    "    optimizations = otaf.uncertainty.compute_gap_optimizations_on_sample(\n",
    "            SOCAM,\n",
    "            deviation_samples,\n",
    "            bounds=bounds,\n",
    "            n_cpu=-1,\n",
    "            progress_bar=True,\n",
    "        )\n",
    "    \n",
    "    slack = np.array([opt.fun for opt in optimizations], dtype=float)*-1 #Normally there aren\"t any nans.\n",
    "    s_values[i,:] = slack\n",
    "    GLD_parameters.append(gld.fit_LMM(slack, disp_fit=False, disp_optimizer=False))\n",
    "    failure_probabilities.append(gld.CDF_num(0, GLD_parameters[i]))\n",
    "\n",
    "\n",
    "print(f\"Done {len (lambda_sample_conditioned)} experiments.\")\n",
    "print(f\"Elapsed time: {time() - start_time:.3f} seconds.\")"
   ]
  },
  {
   "cell_type": "code",
   "execution_count": null,
   "id": "116d7e37-a5a0-4371-983b-aad3fb8ba30f",
   "metadata": {},
   "outputs": [],
   "source": [
    "X = otaf.sampling.find_best_worst_quantile(np.array(lambda_sample_conditioned), np.array(failure_probabilities), 0.1)\n",
    "(best_5p_lambda, best_5p_res), (worst_5p_lambda, worst_5p_res) = X"
   ]
  },
  {
   "cell_type": "code",
   "execution_count": null,
   "id": "4ef201d9-f0c7-4d9a-8431-da3f26fab7e7",
   "metadata": {},
   "outputs": [],
   "source": [
    "distributions = [ot.UserDefined(ot.Sample(s[:,np.newaxis])) for s in s_values]\n",
    "x_min, x_max = -0.03, 0.11\n",
    "sup_data, inf_data = otaf.distribution.compute_sup_inf_distributions(distributions, x_min, x_max)"
   ]
  },
  {
   "cell_type": "code",
   "execution_count": null,
   "id": "42d09b7e-a700-4d30-9e13-4d7cd8c71c34",
   "metadata": {},
   "outputs": [],
   "source": [
    "# Initialize colors and legends for each lambda sample\n",
    "colors = [[\"grey\"]] * lambda_sample_conditioned.getSize()\n",
    "legends = [\"\"] * lambda_sample_conditioned.getSize()\n",
    "\n",
    "# Plot the combined CDF with additional curves for the envelopes\n",
    "graph_full = otaf.plotting.plot_combined_CDF(distributions, x_min, x_max, colors, legends)\n",
    "graph_full = otaf.plotting.set_graph_legends(\n",
    "    graph_full,\n",
    "    x_title=\"j\",\n",
    "    y_title=\"P\",\n",
    "    title=\"Slack P-BOX 32 dimensions\",\n",
    "    legends=legends\n",
    ")\n",
    "\n",
    "# Add the upper and lower envelopes to the graph\n",
    "graph_full.add(ot.Curve(inf_data, \"blue\", \"solid\", 1.5, \"lower envelope\"))\n",
    "graph_full.add(ot.Curve(sup_data, \"red\", \"solid\", 1.5, \"upper envelope\"))\n",
    "view = viewer.View(graph_full, pixelsize=(1100, 750))"
   ]
  },
  {
   "cell_type": "code",
   "execution_count": null,
   "id": "59e9ac3f-503d-4d98-804a-507201a7e55a",
   "metadata": {},
   "outputs": [],
   "source": [
    "min(failure_probabilities)"
   ]
  },
  {
   "cell_type": "markdown",
   "id": "b175ab42-9b8b-4e48-abd4-55fb64a25d79",
   "metadata": {},
   "source": [
    "# Now we'll use the other lambda modelization, a bit more difficutl to sample"
   ]
  },
  {
   "cell_type": "code",
   "execution_count": null,
   "id": "7cc29a0a-6b65-47e8-9c0d-6ce3ca604abb",
   "metadata": {},
   "outputs": [],
   "source": [
    "lambda_limit_sample = otaf.sampling.generate_imprecise_probabilistic_samples([4]*8, -1, discretization=1)\n",
    "lambda_limit_sample_sub_choice = [next(lambda_limit_sample) for _ in range(60000)]\n",
    "lambda_limit_sample_sub_choice = np.stack(lambda_limit_sample_sub_choice)\n",
    "print(lambda_limit_sample_sub_choice.shape)"
   ]
  },
  {
   "cell_type": "code",
   "execution_count": null,
   "id": "cc7a0477-968f-4b75-8450-316b000245cf",
   "metadata": {},
   "outputs": [],
   "source": [
    "def solve_for_lambda_beta(lambda_u, lambda_v, lambda_alpha):\n",
    "    \"\"\"\n",
    "    Solve the equation for lambda_beta given lambda_u, lambda_v, and lambda_alpha.\n",
    "    \"\"\"\n",
    "    def equation(lambda_beta):\n",
    "        return (lambda_u**2 + lambda_v**2 + lambda_alpha**2 + lambda_beta**2 +\n",
    "                2 * (lambda_u * lambda_alpha + lambda_v * lambda_beta) - 1)\n",
    "    \n",
    "    # Use a root-finding method to solve for lambda_beta\n",
    "    lambda_beta_initial_guess = 0.5\n",
    "    lambda_beta_solution = fsolve(equation, lambda_beta_initial_guess)[0]\n",
    "    \n",
    "    return lambda_beta_solution\n",
    "\n",
    "def generate_points_on_surface(num_points=1000):\n",
    "    \"\"\"\n",
    "    Generate points on the surface by solving for lambda_beta\n",
    "    given random values for lambda_u, lambda_v, and lambda_alpha.\n",
    "    \n",
    "    Returns:\n",
    "    - A numpy array of shape (num_valid_points, 4) where each row is \n",
    "      (lambda_u, lambda_v, lambda_alpha, lambda_beta).\n",
    "    \"\"\"\n",
    "    # Generate random values for lambda_u, lambda_v, lambda_alpha in [0, 1]\n",
    "    lambda_u = np.random.rand(num_points)\n",
    "    lambda_v = np.random.rand(num_points)\n",
    "    lambda_alpha = np.random.rand(num_points)\n",
    "    \n",
    "    # Assume lambda_beta = 0 and check if the inequality is satisfied\n",
    "    inequality_values = lambda_u**2 + lambda_v**2 + lambda_alpha**2 + 2 * (lambda_u * lambda_alpha)\n",
    "\n",
    "    # Filter valid points where inequality holds\n",
    "    valid_mask = inequality_values <= 1\n",
    "    lambda_u_valid = lambda_u[valid_mask]\n",
    "    lambda_v_valid = lambda_v[valid_mask]\n",
    "    lambda_alpha_valid = lambda_alpha[valid_mask]\n",
    "    \n",
    "    # Solve for lambda_beta for valid points\n",
    "    lambda_beta_valid = np.array([solve_for_lambda_beta(u, v, a) \n",
    "                                  for u, v, a in zip(lambda_u_valid, lambda_v_valid, lambda_alpha_valid)])\n",
    "\n",
    "    # Only keep points where the solved lambda_beta is between 0 and 1\n",
    "    final_mask = (lambda_beta_valid >= 0) & (lambda_beta_valid <= 1)\n",
    "    final_points = np.vstack((lambda_u_valid[final_mask],\n",
    "                              lambda_v_valid[final_mask],\n",
    "                              lambda_alpha_valid[final_mask],\n",
    "                              lambda_beta_valid[final_mask])).T\n",
    "    \n",
    "    return final_points\n",
    "\n",
    "# Generate the points on the surface\n",
    "points = generate_points_on_surface(num_points=20000)\n",
    "\n",
    "# Call the pair_plot function (assuming it's already defined)\n",
    "labels = ['lambda_u', 'lambda_v', 'lambda_alpha', 'lambda_beta']\n",
    "#otaf.plotting.pair_plot(points, labels)"
   ]
  },
  {
   "cell_type": "code",
   "execution_count": null,
   "id": "dbec9b31-167f-41ab-a3d2-38000577a48e",
   "metadata": {},
   "outputs": [],
   "source": [
    "random_lambda_sample = [points[np.random.choice(points.shape[0], 200, replace=False)] for _ in range(8)]\n",
    "random_lambda_sample = np.hstack(random_lambda_sample)"
   ]
  },
  {
   "cell_type": "code",
   "execution_count": null,
   "id": "2d2a858d-1a85-48cd-841e-205c10da8e16",
   "metadata": {
    "scrolled": true
   },
   "outputs": [],
   "source": [
    "N_lambda = random_lambda_sample.shape[0]\n",
    "bounds = None\n",
    "SEED_MC_PF = 6436431\n",
    "SIZE_MC_PF = 10000 #int(1e6) #1e4\n",
    "s_values = np.zeros((N_lambda, SIZE_MC_PF)) # For each MC point we have a s value\n",
    "GLD_parameters = [] # We need the parameters of the generalized lambda distribution.\n",
    "failure_probabilities = []\n",
    "# Generalized lambda distribution object for fitting\n",
    "gld = GLD('VSL')\n",
    "\n",
    "start_time = time()  # Record the start time\n",
    "for i in range(N_lambda):\n",
    "    print(f\"Doing iteration {i} of {N_lambda}\")\n",
    "    if i>0:\n",
    "        fp = failure_probabilities\n",
    "        print(f\"Failure probability i-1 : {fp[i-1]}, Min: {min(fp)}, / Max: {max(fp)}\")\n",
    "        print(\"s_mean: \", s_values.mean().round(3), \"s_min: \", np.nanmin(s_values).round(3), \"s_max: \", np.nanmax(s_values).round(3))\n",
    "\n",
    "    ot.RandomGenerator.SetSeed(SEED_MC_PF)\n",
    "    deviation_samples = np.array(RandDeviationVect.getSample(SIZE_MC_PF)) * random_lambda_sample[i]\n",
    "    optimizations = otaf.uncertainty.compute_gap_optimizations_on_sample(\n",
    "            SOCAM,\n",
    "            deviation_samples,\n",
    "            bounds=bounds,\n",
    "            n_cpu=-1,\n",
    "            progress_bar=True,\n",
    "        )\n",
    "    \n",
    "    slack = np.array([opt.fun for opt in optimizations], dtype=float)*-1 #Normally there aren\"t any nans.\n",
    "    s_values[i,:] = slack\n",
    "    GLD_parameters.append(gld.fit_LMM(slack, disp_fit=False, disp_optimizer=False))\n",
    "    failure_probabilities.append(gld.CDF_num(0, GLD_parameters[i]))\n",
    "\n",
    "\n",
    "print(f\"Done {N_lambda} experiments.\")\n",
    "print(f\"Elapsed time: {time() - start_time:.3f} seconds.\")"
   ]
  },
  {
   "cell_type": "code",
   "execution_count": null,
   "id": "48ba797e-b00f-4523-8476-b97e5b4c132e",
   "metadata": {},
   "outputs": [],
   "source": [
    "X = otaf.sampling.find_best_worst_quantile(np.array(lambda_sample_conditioned), np.array(failure_probabilities), 0.1)\n",
    "(best_5p_lambda, best_5p_res), (worst_5p_lambda, worst_5p_res) = X"
   ]
  },
  {
   "cell_type": "code",
   "execution_count": null,
   "id": "ca6d1b15-9131-4741-a4cb-b4217637c2eb",
   "metadata": {},
   "outputs": [],
   "source": [
    "distributions = [ot.UserDefined(ot.Sample(s[:,np.newaxis])) for s in s_values]\n",
    "x_min, x_max = -0.03, 0.11\n",
    "sup_data, inf_data = otaf.distribution.compute_sup_inf_distributions(distributions, x_min, x_max)"
   ]
  },
  {
   "cell_type": "code",
   "execution_count": null,
   "id": "3527d338-2d2b-43c0-9e76-8e03c57d6240",
   "metadata": {
    "scrolled": true
   },
   "outputs": [],
   "source": [
    "%matplotlib inline"
   ]
  },
  {
   "cell_type": "code",
   "execution_count": null,
   "id": "3a3f384b-26ca-4aa0-8ec1-1471f2884d4f",
   "metadata": {},
   "outputs": [],
   "source": [
    "# Initialize colors and legends for each lambda sample\n",
    "colors = [[\"grey\"]] * N_lambda\n",
    "legends = [\"\"] * N_lambda\n",
    "\n",
    "# Plot the combined CDF with additional curves for the envelopes\n",
    "graph_full = otaf.plotting.plot_combined_CDF(distributions, x_min, x_max, colors, legends)\n",
    "graph_full = otaf.plotting.set_graph_legends(\n",
    "    graph_full,\n",
    "    x_title=\"slack\",\n",
    "    y_title=\"$P_{slack}$\",\n",
    "    title=\"Slack P-BOX 32 dimensions\",\n",
    "    legends=legends\n",
    ")\n",
    "\n",
    "# Add the upper and lower envelopes to the graph\n",
    "graph_full.add(ot.Curve(inf_data, \"blue\", \"solid\", 1.5, \"lower envelope\"))\n",
    "graph_full.add(ot.Curve(sup_data, \"red\", \"solid\", 1.5, \"upper envelope\"))\n",
    "view = viewer.View(graph_full, pixelsize=(1100, 750))"
   ]
  },
  {
   "cell_type": "code",
   "execution_count": null,
   "id": "b9723baf-f91d-4ce9-ad5b-7fcfd88c1bc9",
   "metadata": {},
   "outputs": [],
   "source": [
    "# %matplotlib qt\n",
    "fig = plt.figure(dpi=150)\n",
    "\n",
    "ax = fig.add_subplot(1, 1, 1)\n",
    "ax.plot(sup_data[:, 0], sup_data[:, 1], color=\"tab:orange\", label=\"upper envelope\")\n",
    "ax.plot(inf_data[:, 0], inf_data[:, 1], color=\"tab:blue\", label=\"lower envelope\")\n",
    "ax.grid(True)\n",
    "ax.fill_between(\n",
    "    inf_data[:, 0], inf_data[:, 1], sup_data[:, 1], color=\"gray\", alpha=0.3\n",
    ")\n",
    "ax.set_xlabel(\"slack\")\n",
    "ax.set_ylabel(\"$P_{slack}$\")\n",
    "ax.legend()\n",
    "ax.set_title(\"Slack P-Box 3D Assembly 32D\")"
   ]
  },
  {
   "cell_type": "code",
   "execution_count": null,
   "id": "b176e60a-1b48-467c-bbd8-a654452c511c",
   "metadata": {},
   "outputs": [],
   "source": [
    "print(f\"Minimum failure probability: {np.min(failure_probabilities):.5e}, Maximum failure probability: {np.max(failure_probabilities):.5e}\")"
   ]
  },
  {
   "cell_type": "code",
   "execution_count": null,
   "id": "060f9521-d4fd-483e-a4da-bb5617225b15",
   "metadata": {},
   "outputs": [],
   "source": [
    "STOP"
   ]
  },
  {
   "cell_type": "markdown",
   "id": "26ab91c6-d998-41d1-8739-502140b07ef4",
   "metadata": {},
   "source": [
    "## Global optimization basinhopping with GLD"
   ]
  },
  {
   "cell_type": "markdown",
   "id": "73b659ba-59be-4385-a1a4-d2b2aebc6f5f",
   "metadata": {},
   "source": [
    "### First we define the optimization functions "
   ]
  },
  {
   "cell_type": "code",
   "execution_count": 13,
   "id": "b2b3fbdc-2bc3-4e79-a1b3-2dacfa491e45",
   "metadata": {},
   "outputs": [],
   "source": [
    "SIZE_MC_PF = 10000 #int(1e6) #1e4\n",
    "sample_gld = np.array(RandDeviationVect.getSample(SIZE_MC_PF))\n",
    "scale_factor = 1.0\n",
    "GLD_parameters = [] # We need the parameters of the generalized lambda distribution.\n",
    "\n",
    "# Generalized lambda distribution object for fitting\n",
    "gld = GLD('VSL')\n",
    "\n",
    "def model_base(x, sample=sample_gld):\n",
    "    # Model without surrogate, to get slack\n",
    "    x = sample * np.sqrt(x[np.newaxis, :])\n",
    "    optimization_variables = otaf.uncertainty.compute_gap_optimizations_on_sample_batch(\n",
    "        constraint_matrix_generator=SOCAM,\n",
    "        deviation_array=x,\n",
    "        batch_size=500,\n",
    "        n_cpu=-1,\n",
    "        progress_bar=True,\n",
    "        verbose=0,\n",
    "        dtype=\"float32\",\n",
    "    )\n",
    "    slack_values = optimization_variables[:,-1]\n",
    "    return slack_values\n",
    "\n",
    "@otaf.optimization.scaling(scale_factor)\n",
    "def optimization_function_mini(x, model=model_base):\n",
    "    # Here we search the minimal probability of failure\n",
    "    slack = model(x)\n",
    "    gld_params = gld.fit_LMM(slack, disp_fit=False, disp_optimizer=False)\n",
    "    if np.any(np.isnan(gld_params)):\n",
    "        failure_probability = np.where(slack<0,1,0).mean()\n",
    "    else :\n",
    "        print(\"gld_params:\", gld_params)\n",
    "        failure_probability = gld.CDF_num(0, gld_params)\n",
    "    return failure_probability\n",
    "\n",
    "@otaf.optimization.scaling(scale_factor)\n",
    "def optimization_function_maxi(x, model=model_base):\n",
    "    # Here we search the maximal probability of failure so negative output\n",
    "    slack = model(x)\n",
    "    gld_params = gld.fit_LMM(slack, disp_fit=False, disp_optimizer=False)\n",
    "    if np.any(np.isnan(gld_params)):\n",
    "        failure_probability = np.where(slack<0,1,0).mean()\n",
    "    else :\n",
    "        print(\"gld_params:\", gld_params)\n",
    "        failure_probability = gld.CDF_num(0, gld_params)\n",
    "    return failure_probability*-1"
   ]
  },
  {
   "cell_type": "markdown",
   "id": "dca4216b-dcef-4762-9bb1-613b46c5f111",
   "metadata": {},
   "source": [
    "### Explicit parameter feature constraints (not ideal)"
   ]
  },
  {
   "cell_type": "code",
   "execution_count": 14,
   "id": "f8f63ca8-0615-4769-bdb3-1ca1c71470d3",
   "metadata": {},
   "outputs": [],
   "source": [
    "def cylinder_feature_constraint(la):\n",
    "    \"\"\"Evaluates the cylinder constraint for a given lambda array.\"\"\"\n",
    "    sum_squares = np.dot(la, la)  # Equivalent to la[0]**2 + la[1]**2 + la[2]**2 + la[3]**2\n",
    "    cross_terms = 2 * (la[0] * la[2] + la[1] * la[3])\n",
    "    return sum_squares + cross_terms - 1\n",
    "\n",
    "def cylinder_feature_constraint_jacobian(la):\n",
    "    \"\"\"Computes the analytical Jacobian of the cylinder feature constraint.\"\"\"\n",
    "    u, v, alpha, beta = la\n",
    "    return np.array([\n",
    "        2 * u + 2 * alpha,  # df/du\n",
    "        2 * v + 2 * beta,   # df/dv\n",
    "        2 * alpha + 2 * u,  # df/dalpha\n",
    "        2 * beta + 2 * v    # df/dbeta\n",
    "    ])\n",
    "\n",
    "def assembly_feature_constraint(la8):\n",
    "    \"\"\"Applies the cylinder constraint to each 4-element slice of the lambda array, returning a vector of constraints.\"\"\"\n",
    "    return np.array([cylinder_feature_constraint(la8[i : i + 4]) for i in range(0, len(la8), 4)])\n",
    "\n",
    "def assembly_feature_constraint_jacobian(la8):\n",
    "    \"\"\"Constructs the Jacobian matrix for the vector of constraints, with each row representing the Jacobian of one cylinder constraint.\"\"\"\n",
    "    # Initialize a list to hold each constraint's Jacobian as a row in the matrix\n",
    "    jacobian = []\n",
    "    # Compute Jacobian for each 4-element segment in the lambda array\n",
    "    for i in range(0, len(la8), 4):\n",
    "        row_jacobian = np.zeros(len(la8))  # Create a zeroed row of the appropriate length\n",
    "        row_jacobian[i:i+4] = cylinder_feature_constraint_jacobian(la8[i:i+4])\n",
    "        jacobian.append(row_jacobian)\n",
    "    return np.array(jacobian)\n",
    "\n",
    "\n",
    "def cylinder_feature_constraint_hessian(la):\n",
    "    \"\"\"Computes the Hessian of the cylinder constraint for a given 4-element lambda array.\"\"\"\n",
    "    # Extract variables for readability\n",
    "    u, v, alpha, beta = la\n",
    "    # The Hessian matrix is symmetric, so we only need to define the unique elements\n",
    "    hessian = np.array([\n",
    "        [2, 0, 2, 0],  # d^2f/du^2, d^2f/du dv, d^2f/du dalpha, d^2f/du dbeta\n",
    "        [0, 2, 0, 2],  # d^2f/dv du, d^2f/dv^2, d^2f/dv dalpha, d^2f/dv dbeta\n",
    "        [2, 0, 2, 0],  # d^2f/dalpha du, d^2f/dalpha dv, d^2f/dalpha^2, d^2f/dalpha dbeta\n",
    "        [0, 2, 0, 2]   # d^2f/dbeta du, d^2f/dbeta dv, d^2f/dbeta dalpha, d^2f/dbeta^2\n",
    "    ])\n",
    "    return hessian\n",
    "\n",
    "def assembly_feature_constraint_hessian(la8):\n",
    "    \"\"\"Constructs the full Hessian matrix for the vector of constraints in the assembly.\"\"\"\n",
    "    n_constraints = len(la8) // 4\n",
    "    hessian_blocks = []\n",
    "    \n",
    "    # Build the Hessian by iterating over each 4-element segment\n",
    "    for i in range(n_constraints):\n",
    "        block_hessian = cylinder_feature_constraint_hessian(la8[i*4:i*4+4])\n",
    "        # Place the block into the full Hessian matrix for the constraint function\n",
    "        block_hessian_expanded = np.zeros((len(la8), len(la8)))\n",
    "        block_hessian_expanded[i*4:i*4+4, i*4:i*4+4] = block_hessian\n",
    "        hessian_blocks.append(block_hessian_expanded)\n",
    "    \n",
    "    # Sum the block Hessians to form the full Hessian matrix\n",
    "    full_hessian = np.sum(hessian_blocks, axis=0)\n",
    "    return full_hessian"
   ]
  },
  {
   "cell_type": "markdown",
   "id": "c805656b-91b6-4e12-bd5b-a8f2b984eea6",
   "metadata": {},
   "source": [
    "### Implicit parameter constrants (new version)"
   ]
  },
  {
   "cell_type": "code",
   "execution_count": 40,
   "id": "a0c5ac89-cf9f-44bc-a7bb-7628704e4cea",
   "metadata": {},
   "outputs": [],
   "source": [
    "midof_funcs = otaf.tolerances.MiSdofToleranceZones()\n",
    "\n",
    "feature_constraint_list = []\n",
    "\n",
    "# We know that all features are cylindrical, with same values/dimensions\n",
    "for i in range(8):\n",
    "    fconst = otaf.tolerances.FeatureLevelStatisticalConstraint(\n",
    "        midof_funcs.cylindrical_zone,\n",
    "        mif_args = (tol, hPlate),\n",
    "        n_dof = 4,\n",
    "        n_sample = 100000,\n",
    "        target = \"std\", #\"prob\",\n",
    "        target_val = sigma_e_pos*np.sqrt(1-(2/np.pi)), #0.002699, #\n",
    "        isNormal = True,\n",
    "        normalizeOutput = True,\n",
    "    )\n",
    "    feature_constraint_list.append(fconst)\n",
    "\n",
    "composed_assembly_constraint = otaf.tolerances.ComposedAssemblyLevelStatisticalConstraint(feature_constraint_list)"
   ]
  },
  {
   "cell_type": "code",
   "execution_count": 16,
   "id": "fa8c2424-bc79-4379-bc24-6ca62a8a1e21",
   "metadata": {},
   "outputs": [],
   "source": [
    "param_bounds_one_feature = [[0.0,0.0], [1e-8, sigma_e_pos], #u, mean std\n",
    "                            [0.0,0.0], [1e-8, sigma_e_pos], #v, mean std\n",
    "                            [0.0,0.0], [1e-8, sigma_e_theta], #alpha, mean std\n",
    "                            [0.0,0.0], [1e-8, sigma_e_theta] # beta, mean std\n",
    "                           ]\n",
    "param_bounds = [param_bounds_one_feature] * 8 #We have 8 identical features\n",
    "\n",
    "normalized_assembly_constraint = otaf.tolerances.NormalizedAssemblyLevelConstraint(\n",
    "    composed_assembly_constraint,\n",
    "    param_val_bounds=param_bounds)"
   ]
  },
  {
   "cell_type": "markdown",
   "id": "5836b5ec-5be9-4f70-a69a-4a8e88ea6714",
   "metadata": {},
   "source": [
    "#### The assembly constraint takes as an input the list of list of paramters for all the features. But as the distriutions (normals) are suppposed to be centered, we only need to have the standard deviations as inputs so we construct a little intermediary class that takes as an input only the standard deviations and not the means, and completes the means with 0 to pass it to the assembly constraint. "
   ]
  },
  {
   "cell_type": "code",
   "execution_count": 26,
   "id": "eb8e9f22-18a2-45b1-8385-bd611fc3b614",
   "metadata": {},
   "outputs": [],
   "source": [
    "def assembly_constraint_no_mean(param_list, scale_out=True):\n",
    "    \"\"\" The functions takes directly the concatenated list of all parameters, and reconstructs the right object.\n",
    "    There should be 32 variables\n",
    "    \"\"\"\n",
    "    assert len(param_list)==32, \"problem with input.\"\n",
    "    zer = np.zeros(4)\n",
    "    pl = np.array(param_list)\n",
    "    params_for_assembly = []\n",
    "    for i in range(8):\n",
    "        params = param_list[i*4:i*4+4]\n",
    "        pa = [item for pair in zip(zer, params) for item in pair]\n",
    "        params_for_assembly.append(pa)\n",
    "    res =  normalized_assembly_constraint(params_for_assembly)\n",
    "    if scale_out :\n",
    "        return res * 10\n",
    "    else :\n",
    "        return res"
   ]
  },
  {
   "cell_type": "code",
   "execution_count": 34,
   "id": "d5e8c2cb-7aa3-4dc4-96be-7e244d4a6b32",
   "metadata": {},
   "outputs": [
    {
     "data": {
      "text/plain": [
       "np.float64(0.002988496904058555)"
      ]
     },
     "execution_count": 34,
     "metadata": {},
     "output_type": "execute_result"
    }
   ],
   "source": [
    "feature_constraint_list[0]([0.0,sigma_e_pos,0.0,1e-9,0.0,1e-9,0.0,1e-9])"
   ]
  },
  {
   "cell_type": "code",
   "execution_count": null,
   "id": "f21fdedd-cc75-4448-b4ae-42a90ccc5d1e",
   "metadata": {},
   "outputs": [],
   "source": [
    "feature_constraint_list[0]([0.0,1e-6,0.0,1e-6,0.0,0.9*sigma_e_theta,0.0,0.9*sigma_e_theta])"
   ]
  },
  {
   "cell_type": "code",
   "execution_count": 39,
   "id": "5f288747-0f05-47f2-bab5-7e805d549d74",
   "metadata": {},
   "outputs": [
    {
     "data": {
      "text/plain": [
       "array([0.5840232 , 0.57720244, 0.5783545 , 0.58021113, 0.57844011,\n",
       "       0.57428983, 0.57835682, 0.57940781])"
      ]
     },
     "execution_count": 39,
     "metadata": {},
     "output_type": "execute_result"
    }
   ],
   "source": [
    "assembly_constraint_no_mean([1.0,1.0,1.1,1]*8, False)"
   ]
  },
  {
   "cell_type": "code",
   "execution_count": 25,
   "id": "43ff1a6d-0856-47e6-b73f-50b4d27af09b",
   "metadata": {},
   "outputs": [
    {
     "data": {
      "text/plain": [
       "array([0.        , 0.00760885, 0.91991677, 0.93165432, 0.        ,\n",
       "       0.        , 0.9327543 , 0.9127048 , 0.        , 0.03773971,\n",
       "       0.97309694, 0.85515023, 0.03031756, 0.04031468, 0.96612756,\n",
       "       0.87290057, 0.        , 0.        , 0.90296788, 0.94796433,\n",
       "       0.02421836, 0.04292465, 0.87507517, 0.9742377 , 0.00812866,\n",
       "       0.        , 0.94891017, 0.89691434, 0.        , 0.        ,\n",
       "       0.9531809 , 0.89642531])"
      ]
     },
     "execution_count": 25,
     "metadata": {},
     "output_type": "execute_result"
    }
   ],
   "source": [
    "res_maxi.x"
   ]
  },
  {
   "cell_type": "markdown",
   "id": "78aa290c-0362-4a63-83cb-d154d98b52f2",
   "metadata": {},
   "source": [
    "#### Now we create the assembly constraint for the optimization (so a non linear constraint)"
   ]
  },
  {
   "cell_type": "code",
   "execution_count": 19,
   "id": "b38aadcb-2449-4f63-848a-8e040c286905",
   "metadata": {},
   "outputs": [],
   "source": [
    "# Define the nonlinear constraint with the updated vector-valued function and Jacobian\n",
    "nonLinearConstraint = NonlinearConstraint(\n",
    "    fun=assembly_constraint_no_mean,\n",
    "    lb = -0.05 * np.ones((8,)),\n",
    "    ub = 0.05 * np.ones((8,)),\n",
    "    jac = \"3-point\",\n",
    "    keep_feasible=True,\n",
    ")"
   ]
  },
  {
   "cell_type": "code",
   "execution_count": 20,
   "id": "443b9a4c-a5b7-4f29-add9-b0e2bfaac476",
   "metadata": {
    "scrolled": true
   },
   "outputs": [
    {
     "name": "stdout",
     "output_type": "stream",
     "text": [
      "Starting the optimization procedure.\n",
      "Initial trust-region radius: 5.656854249492381.\n",
      "Final trust-region radius: 0.01.\n",
      "Maximum number of function evaluations: 4000.\n",
      "Maximum number of iterations: 1000.\n",
      "\n"
     ]
    },
    {
     "data": {
      "application/vnd.jupyter.widget-view+json": {
       "model_id": "2bac26cabf214666b1a5fb0ce14b23a4",
       "version_major": 2,
       "version_minor": 0
      },
      "text/plain": [
       "  0%|          | 0/10000 [00:00<?, ?it/s]"
      ]
     },
     "metadata": {},
     "output_type": "display_data"
    },
    {
     "name": "stdout",
     "output_type": "stream",
     "text": [
      "wrapper([ 0.000e+00  0.000e+00 ...  0.000e+00  0.000e+00]) = -0.0\n",
      "assembly_constraint_no_mean([ 0.000e+00  0.000e+00 ...  0.000e+00  0.000e+00]) = [-1.000e+01 -1.000e+01 ... -1.000e+01 -1.000e+01]\n"
     ]
    },
    {
     "name": "stderr",
     "output_type": "stream",
     "text": [
      "/home/kramer84/anaconda3/envs/otaf_env/lib/python3.12/site-packages/gldpy/_gld_module.py:1026: RuntimeWarning: invalid value encountered in scalar divide\n",
      "  return l1,l2,l3/l2,l4/l2\n",
      "/home/kramer84/anaconda3/envs/otaf_env/lib/python3.12/site-packages/gldpy/_gld_module.py:1026: RuntimeWarning: divide by zero encountered in scalar divide\n",
      "  return l1,l2,l3/l2,l4/l2\n",
      "/home/kramer84/anaconda3/envs/otaf_env/lib/python3.12/site-packages/gldpy/_gld_module.py:1095: RuntimeWarning: invalid value encountered in scalar add\n",
      "  if a4**2+98*a4 +1 <0:\n",
      "/home/kramer84/anaconda3/envs/otaf_env/lib/python3.12/site-packages/gldpy/_gld_module.py:1097: RuntimeWarning: invalid value encountered in scalar add\n",
      "  p4 = np.array([(3+7*a4 + np.sqrt(a4**2+98*a4 +1))/(2*(1-a4)), (3+7*a4 - np.sqrt(a4**2+98*a4 +1))/(2*(1-a4))])\n"
     ]
    },
    {
     "data": {
      "application/vnd.jupyter.widget-view+json": {
       "model_id": "899394d047d34339927a91dc084b7d29",
       "version_major": 2,
       "version_minor": 0
      },
      "text/plain": [
       "  0%|          | 0/10000 [00:00<?, ?it/s]"
      ]
     },
     "metadata": {},
     "output_type": "display_data"
    },
    {
     "name": "stdout",
     "output_type": "stream",
     "text": [
      "gld_params: [0.09929732 0.00381863 0.07525445 0.23759931]\n",
      "wrapper([ 5.000e-01  0.000e+00 ...  0.000e+00  0.000e+00]) = -0.0\n",
      "assembly_constraint_no_mean([ 5.000e-01  0.000e+00 ...  0.000e+00  0.000e+00]) = [-4.985e+00 -1.000e+01 ... -1.000e+01 -1.000e+01]\n"
     ]
    },
    {
     "data": {
      "application/vnd.jupyter.widget-view+json": {
       "model_id": "b650fdffdc26488abd9f59cd49c7c951",
       "version_major": 2,
       "version_minor": 0
      },
      "text/plain": [
       "  0%|          | 0/10000 [00:00<?, ?it/s]"
      ]
     },
     "metadata": {},
     "output_type": "display_data"
    },
    {
     "name": "stdout",
     "output_type": "stream",
     "text": [
      "gld_params: [0.09927496 0.00389404 0.07778244 0.25712574]\n",
      "wrapper([ 0.000e+00  5.000e-01 ...  0.000e+00  0.000e+00]) = -0.0\n",
      "assembly_constraint_no_mean([ 0.000e+00  5.000e-01 ...  0.000e+00  0.000e+00]) = [-5.000e+00 -1.000e+01 ... -1.000e+01 -1.000e+01]\n"
     ]
    },
    {
     "data": {
      "application/vnd.jupyter.widget-view+json": {
       "model_id": "a28c344cbaef49d480c0077698798bd9",
       "version_major": 2,
       "version_minor": 0
      },
      "text/plain": [
       "  0%|          | 0/10000 [00:00<?, ?it/s]"
      ]
     },
     "metadata": {},
     "output_type": "display_data"
    },
    {
     "name": "stdout",
     "output_type": "stream",
     "text": [
      "gld_params: [0.09720028 0.01555786 0.07337423 0.24697373]\n",
      "wrapper([ 0.000e+00  0.000e+00 ...  0.000e+00  0.000e+00]) = -0.0\n",
      "assembly_constraint_no_mean([ 0.000e+00  0.000e+00 ...  0.000e+00  0.000e+00]) = [-5.005e+00 -1.000e+01 ... -1.000e+01 -1.000e+01]\n"
     ]
    },
    {
     "data": {
      "application/vnd.jupyter.widget-view+json": {
       "model_id": "b0bba7f5520942a883bdfea616f00ccf",
       "version_major": 2,
       "version_minor": 0
      },
      "text/plain": [
       "  0%|          | 0/10000 [00:00<?, ?it/s]"
      ]
     },
     "metadata": {},
     "output_type": "display_data"
    },
    {
     "name": "stdout",
     "output_type": "stream",
     "text": [
      "gld_params: [0.09697353 0.01528969 0.08169807 0.23466592]\n",
      "wrapper([ 0.000e+00  0.000e+00 ...  0.000e+00  0.000e+00]) = -0.0\n",
      "assembly_constraint_no_mean([ 0.000e+00  0.000e+00 ...  0.000e+00  0.000e+00]) = [-4.993e+00 -1.000e+01 ... -1.000e+01 -1.000e+01]\n"
     ]
    },
    {
     "data": {
      "application/vnd.jupyter.widget-view+json": {
       "model_id": "0d8a88c8ef97487484e51f13f0531f39",
       "version_major": 2,
       "version_minor": 0
      },
      "text/plain": [
       "  0%|          | 0/10000 [00:00<?, ?it/s]"
      ]
     },
     "metadata": {},
     "output_type": "display_data"
    },
    {
     "name": "stdout",
     "output_type": "stream",
     "text": [
      "gld_params: [0.09935849 0.00383695 0.06924095 0.2441472 ]\n",
      "wrapper([ 0.000e+00  0.000e+00 ...  0.000e+00  0.000e+00]) = -0.0\n",
      "assembly_constraint_no_mean([ 0.000e+00  0.000e+00 ...  0.000e+00  0.000e+00]) = [-1.000e+01 -5.013e+00 ... -1.000e+01 -1.000e+01]\n"
     ]
    },
    {
     "data": {
      "application/vnd.jupyter.widget-view+json": {
       "model_id": "ea50354f8b77453cbd848eaa672779e1",
       "version_major": 2,
       "version_minor": 0
      },
      "text/plain": [
       "  0%|          | 0/10000 [00:00<?, ?it/s]"
      ]
     },
     "metadata": {},
     "output_type": "display_data"
    },
    {
     "name": "stdout",
     "output_type": "stream",
     "text": [
      "gld_params: [0.09929181 0.00384891 0.0771262  0.23726184]\n",
      "wrapper([ 0.000e+00  0.000e+00 ...  0.000e+00  0.000e+00]) = -0.0\n",
      "assembly_constraint_no_mean([ 0.000e+00  0.000e+00 ...  0.000e+00  0.000e+00]) = [-1.000e+01 -5.004e+00 ... -1.000e+01 -1.000e+01]\n"
     ]
    },
    {
     "data": {
      "application/vnd.jupyter.widget-view+json": {
       "model_id": "8fc5280869fe41d09f6de65fb15182d2",
       "version_major": 2,
       "version_minor": 0
      },
      "text/plain": [
       "  0%|          | 0/10000 [00:00<?, ?it/s]"
      ]
     },
     "metadata": {},
     "output_type": "display_data"
    },
    {
     "name": "stdout",
     "output_type": "stream",
     "text": [
      "gld_params: [0.09650112 0.01487485 0.09506155 0.21921928]\n",
      "wrapper([ 0.000e+00  0.000e+00 ...  0.000e+00  0.000e+00]) = -0.0\n",
      "assembly_constraint_no_mean([ 0.000e+00  0.000e+00 ...  0.000e+00  0.000e+00]) = [-1.000e+01 -5.000e+00 ... -1.000e+01 -1.000e+01]\n"
     ]
    },
    {
     "data": {
      "application/vnd.jupyter.widget-view+json": {
       "model_id": "fa64709b88a0488a9c036dd49bb6eac3",
       "version_major": 2,
       "version_minor": 0
      },
      "text/plain": [
       "  0%|          | 0/10000 [00:00<?, ?it/s]"
      ]
     },
     "metadata": {},
     "output_type": "display_data"
    },
    {
     "name": "stdout",
     "output_type": "stream",
     "text": [
      "gld_params: [0.09647522 0.01471375 0.0941655  0.2178902 ]\n",
      "wrapper([ 0.000e+00  0.000e+00 ...  0.000e+00  0.000e+00]) = -0.0\n",
      "assembly_constraint_no_mean([ 0.000e+00  0.000e+00 ...  0.000e+00  0.000e+00]) = [-1.000e+01 -4.994e+00 ... -1.000e+01 -1.000e+01]\n"
     ]
    },
    {
     "data": {
      "application/vnd.jupyter.widget-view+json": {
       "model_id": "9956cb5002314c559f3234910a7a32f7",
       "version_major": 2,
       "version_minor": 0
      },
      "text/plain": [
       "  0%|          | 0/10000 [00:00<?, ?it/s]"
      ]
     },
     "metadata": {},
     "output_type": "display_data"
    },
    {
     "name": "stdout",
     "output_type": "stream",
     "text": [
      "gld_params: [0.09929389 0.00378835 0.07656362 0.2314408 ]\n",
      "wrapper([ 0.000e+00  0.000e+00 ...  0.000e+00  0.000e+00]) = -0.0\n",
      "assembly_constraint_no_mean([ 0.000e+00  0.000e+00 ...  0.000e+00  0.000e+00]) = [-1.000e+01 -1.000e+01 ... -1.000e+01 -1.000e+01]\n"
     ]
    },
    {
     "data": {
      "application/vnd.jupyter.widget-view+json": {
       "model_id": "16b8924e8e9d407c9240fca998b7c87b",
       "version_major": 2,
       "version_minor": 0
      },
      "text/plain": [
       "  0%|          | 0/10000 [00:00<?, ?it/s]"
      ]
     },
     "metadata": {},
     "output_type": "display_data"
    },
    {
     "name": "stdout",
     "output_type": "stream",
     "text": [
      "gld_params: [0.09926069 0.00378957 0.07702665 0.21796406]\n",
      "wrapper([ 0.000e+00  0.000e+00 ...  0.000e+00  0.000e+00]) = -0.0\n",
      "assembly_constraint_no_mean([ 0.000e+00  0.000e+00 ...  0.000e+00  0.000e+00]) = [-1.000e+01 -1.000e+01 ... -1.000e+01 -1.000e+01]\n"
     ]
    },
    {
     "data": {
      "application/vnd.jupyter.widget-view+json": {
       "model_id": "9052b847483d4d6bbfbef2b61bb5cdfe",
       "version_major": 2,
       "version_minor": 0
      },
      "text/plain": [
       "  0%|          | 0/10000 [00:00<?, ?it/s]"
      ]
     },
     "metadata": {},
     "output_type": "display_data"
    },
    {
     "name": "stdout",
     "output_type": "stream",
     "text": [
      "gld_params: [0.09739644 0.01583376 0.07060053 0.25672765]\n",
      "wrapper([ 0.000e+00  0.000e+00 ...  0.000e+00  0.000e+00]) = -0.0\n",
      "assembly_constraint_no_mean([ 0.000e+00  0.000e+00 ...  0.000e+00  0.000e+00]) = [-1.000e+01 -1.000e+01 ... -1.000e+01 -1.000e+01]\n"
     ]
    },
    {
     "data": {
      "application/vnd.jupyter.widget-view+json": {
       "model_id": "8e50b9825c704c9e9dc6d33ef1b81bbd",
       "version_major": 2,
       "version_minor": 0
      },
      "text/plain": [
       "  0%|          | 0/10000 [00:00<?, ?it/s]"
      ]
     },
     "metadata": {},
     "output_type": "display_data"
    },
    {
     "name": "stdout",
     "output_type": "stream",
     "text": [
      "gld_params: [0.09741274 0.01562419 0.07012692 0.24602406]\n",
      "wrapper([ 0.000e+00  0.000e+00 ...  0.000e+00  0.000e+00]) = -0.0\n",
      "assembly_constraint_no_mean([ 0.000e+00  0.000e+00 ...  0.000e+00  0.000e+00]) = [-1.000e+01 -1.000e+01 ... -1.000e+01 -1.000e+01]\n"
     ]
    },
    {
     "data": {
      "application/vnd.jupyter.widget-view+json": {
       "model_id": "6fb8d8bcfd404358894e8c3f398b984c",
       "version_major": 2,
       "version_minor": 0
      },
      "text/plain": [
       "  0%|          | 0/10000 [00:00<?, ?it/s]"
      ]
     },
     "metadata": {},
     "output_type": "display_data"
    },
    {
     "name": "stdout",
     "output_type": "stream",
     "text": [
      "gld_params: [0.09921315 0.00372459 0.0835795  0.21912195]\n",
      "wrapper([ 0.000e+00  0.000e+00 ...  0.000e+00  0.000e+00]) = -0.0\n",
      "assembly_constraint_no_mean([ 0.000e+00  0.000e+00 ...  0.000e+00  0.000e+00]) = [-1.000e+01 -1.000e+01 ... -1.000e+01 -1.000e+01]\n"
     ]
    },
    {
     "data": {
      "application/vnd.jupyter.widget-view+json": {
       "model_id": "2beae80f5fb048038481e71b7ef9673e",
       "version_major": 2,
       "version_minor": 0
      },
      "text/plain": [
       "  0%|          | 0/10000 [00:00<?, ?it/s]"
      ]
     },
     "metadata": {},
     "output_type": "display_data"
    },
    {
     "name": "stdout",
     "output_type": "stream",
     "text": [
      "gld_params: [0.09936892 0.00375718 0.06765317 0.23024567]\n",
      "wrapper([ 0.000e+00  0.000e+00 ...  0.000e+00  0.000e+00]) = -0.0\n",
      "assembly_constraint_no_mean([ 0.000e+00  0.000e+00 ...  0.000e+00  0.000e+00]) = [-1.000e+01 -1.000e+01 ... -1.000e+01 -1.000e+01]\n"
     ]
    },
    {
     "data": {
      "application/vnd.jupyter.widget-view+json": {
       "model_id": "e4fe0ea2df4a4b89914fb0154c5b3958",
       "version_major": 2,
       "version_minor": 0
      },
      "text/plain": [
       "  0%|          | 0/10000 [00:00<?, ?it/s]"
      ]
     },
     "metadata": {},
     "output_type": "display_data"
    },
    {
     "name": "stdout",
     "output_type": "stream",
     "text": [
      "gld_params: [0.09672044 0.01473592 0.08669893 0.21767493]\n",
      "wrapper([ 0.000e+00  0.000e+00 ...  0.000e+00  0.000e+00]) = -0.0\n",
      "assembly_constraint_no_mean([ 0.000e+00  0.000e+00 ...  0.000e+00  0.000e+00]) = [-1.000e+01 -1.000e+01 ... -1.000e+01 -1.000e+01]\n"
     ]
    },
    {
     "data": {
      "application/vnd.jupyter.widget-view+json": {
       "model_id": "8485686f5f0045d59b4eb596762f9e3d",
       "version_major": 2,
       "version_minor": 0
      },
      "text/plain": [
       "  0%|          | 0/10000 [00:00<?, ?it/s]"
      ]
     },
     "metadata": {},
     "output_type": "display_data"
    },
    {
     "name": "stdout",
     "output_type": "stream",
     "text": [
      "gld_params: [0.09703846 0.01499595 0.08034656 0.23253205]\n",
      "wrapper([ 0.000e+00  0.000e+00 ...  0.000e+00  0.000e+00]) = -0.0\n",
      "assembly_constraint_no_mean([ 0.000e+00  0.000e+00 ...  0.000e+00  0.000e+00]) = [-1.000e+01 -1.000e+01 ... -1.000e+01 -1.000e+01]\n"
     ]
    },
    {
     "data": {
      "application/vnd.jupyter.widget-view+json": {
       "model_id": "016530e8bc914b7fb3dc7a9caf5fcd6c",
       "version_major": 2,
       "version_minor": 0
      },
      "text/plain": [
       "  0%|          | 0/10000 [00:00<?, ?it/s]"
      ]
     },
     "metadata": {},
     "output_type": "display_data"
    },
    {
     "name": "stdout",
     "output_type": "stream",
     "text": [
      "gld_params: [0.09921602 0.00375486 0.08414247 0.22134194]\n",
      "wrapper([ 0.000e+00  0.000e+00 ...  0.000e+00  0.000e+00]) = -0.0\n",
      "assembly_constraint_no_mean([ 0.000e+00  0.000e+00 ...  0.000e+00  0.000e+00]) = [-1.000e+01 -1.000e+01 ... -1.000e+01 -1.000e+01]\n"
     ]
    },
    {
     "data": {
      "application/vnd.jupyter.widget-view+json": {
       "model_id": "d71e940c78144ff88d87a696f8a34117",
       "version_major": 2,
       "version_minor": 0
      },
      "text/plain": [
       "  0%|          | 0/10000 [00:00<?, ?it/s]"
      ]
     },
     "metadata": {},
     "output_type": "display_data"
    },
    {
     "name": "stdout",
     "output_type": "stream",
     "text": [
      "gld_params: [0.09936038 0.003844   0.06982565 0.24538111]\n",
      "wrapper([ 0.000e+00  0.000e+00 ...  0.000e+00  0.000e+00]) = -0.0\n",
      "assembly_constraint_no_mean([ 0.000e+00  0.000e+00 ...  0.000e+00  0.000e+00]) = [-1.000e+01 -1.000e+01 ... -1.000e+01 -1.000e+01]\n"
     ]
    },
    {
     "data": {
      "application/vnd.jupyter.widget-view+json": {
       "model_id": "4b7a094d8ae84cbcb72c637a46f3025a",
       "version_major": 2,
       "version_minor": 0
      },
      "text/plain": [
       "  0%|          | 0/10000 [00:00<?, ?it/s]"
      ]
     },
     "metadata": {},
     "output_type": "display_data"
    },
    {
     "name": "stdout",
     "output_type": "stream",
     "text": [
      "gld_params: [0.09679236 0.01489555 0.08818633 0.22669757]\n",
      "wrapper([ 0.000e+00  0.000e+00 ...  0.000e+00  0.000e+00]) = -0.0\n",
      "assembly_constraint_no_mean([ 0.000e+00  0.000e+00 ...  0.000e+00  0.000e+00]) = [-1.000e+01 -1.000e+01 ... -1.000e+01 -1.000e+01]\n"
     ]
    },
    {
     "data": {
      "application/vnd.jupyter.widget-view+json": {
       "model_id": "ca19292020e744f78e113287493b00f3",
       "version_major": 2,
       "version_minor": 0
      },
      "text/plain": [
       "  0%|          | 0/10000 [00:00<?, ?it/s]"
      ]
     },
     "metadata": {},
     "output_type": "display_data"
    },
    {
     "name": "stdout",
     "output_type": "stream",
     "text": [
      "gld_params: [0.09716835 0.01525367 0.07888288 0.24666182]\n",
      "wrapper([ 0.000e+00  0.000e+00 ...  0.000e+00  0.000e+00]) = -0.0\n",
      "assembly_constraint_no_mean([ 0.000e+00  0.000e+00 ...  0.000e+00  0.000e+00]) = [-1.000e+01 -1.000e+01 ... -1.000e+01 -1.000e+01]\n"
     ]
    },
    {
     "data": {
      "application/vnd.jupyter.widget-view+json": {
       "model_id": "04566a32cf644015bf7fb12394783cd4",
       "version_major": 2,
       "version_minor": 0
      },
      "text/plain": [
       "  0%|          | 0/10000 [00:00<?, ?it/s]"
      ]
     },
     "metadata": {},
     "output_type": "display_data"
    },
    {
     "name": "stdout",
     "output_type": "stream",
     "text": [
      "gld_params: [0.09914263 0.00369457 0.09100849 0.21531538]\n",
      "wrapper([ 0.000e+00  0.000e+00 ...  0.000e+00  0.000e+00]) = -0.0\n",
      "assembly_constraint_no_mean([ 0.000e+00  0.000e+00 ...  0.000e+00  0.000e+00]) = [-1.000e+01 -1.000e+01 ... -1.000e+01 -1.000e+01]\n"
     ]
    },
    {
     "data": {
      "application/vnd.jupyter.widget-view+json": {
       "model_id": "27ae2509044949089a54ec0419cf0d2d",
       "version_major": 2,
       "version_minor": 0
      },
      "text/plain": [
       "  0%|          | 0/10000 [00:00<?, ?it/s]"
      ]
     },
     "metadata": {},
     "output_type": "display_data"
    },
    {
     "name": "stdout",
     "output_type": "stream",
     "text": [
      "gld_params: [0.09924432 0.00376564 0.08295892 0.22959111]\n",
      "wrapper([ 0.000e+00  0.000e+00 ...  0.000e+00  0.000e+00]) = -0.0\n",
      "assembly_constraint_no_mean([ 0.000e+00  0.000e+00 ...  0.000e+00  0.000e+00]) = [-1.000e+01 -1.000e+01 ... -1.000e+01 -1.000e+01]\n"
     ]
    },
    {
     "data": {
      "application/vnd.jupyter.widget-view+json": {
       "model_id": "1e82a50e9a4b4fa88977299a602f58c3",
       "version_major": 2,
       "version_minor": 0
      },
      "text/plain": [
       "  0%|          | 0/10000 [00:00<?, ?it/s]"
      ]
     },
     "metadata": {},
     "output_type": "display_data"
    },
    {
     "name": "stdout",
     "output_type": "stream",
     "text": [
      "gld_params: [0.09705926 0.01549311 0.07885252 0.24330829]\n",
      "wrapper([ 0.000e+00  0.000e+00 ...  0.000e+00  0.000e+00]) = -0.0\n",
      "assembly_constraint_no_mean([ 0.000e+00  0.000e+00 ...  0.000e+00  0.000e+00]) = [-1.000e+01 -1.000e+01 ... -1.000e+01 -1.000e+01]\n"
     ]
    },
    {
     "data": {
      "application/vnd.jupyter.widget-view+json": {
       "model_id": "a388c8898a364b7db5e75ff00c1ecc62",
       "version_major": 2,
       "version_minor": 0
      },
      "text/plain": [
       "  0%|          | 0/10000 [00:00<?, ?it/s]"
      ]
     },
     "metadata": {},
     "output_type": "display_data"
    },
    {
     "name": "stdout",
     "output_type": "stream",
     "text": [
      "gld_params: [0.09684736 0.01493195 0.08538009 0.22074961]\n",
      "wrapper([ 0.000e+00  0.000e+00 ...  0.000e+00  0.000e+00]) = -0.0\n",
      "assembly_constraint_no_mean([ 0.000e+00  0.000e+00 ...  0.000e+00  0.000e+00]) = [-1.000e+01 -1.000e+01 ... -1.000e+01 -1.000e+01]\n"
     ]
    },
    {
     "data": {
      "application/vnd.jupyter.widget-view+json": {
       "model_id": "772cc1afd0d14d729ae6ca5d4f2c4daf",
       "version_major": 2,
       "version_minor": 0
      },
      "text/plain": [
       "  0%|          | 0/10000 [00:00<?, ?it/s]"
      ]
     },
     "metadata": {},
     "output_type": "display_data"
    },
    {
     "name": "stdout",
     "output_type": "stream",
     "text": [
      "gld_params: [0.09924265 0.00373734 0.08086978 0.22721386]\n",
      "wrapper([ 0.000e+00  0.000e+00 ...  0.000e+00  0.000e+00]) = -0.0\n",
      "assembly_constraint_no_mean([ 0.000e+00  0.000e+00 ...  0.000e+00  0.000e+00]) = [-1.000e+01 -1.000e+01 ... -4.981e+00 -1.000e+01]\n"
     ]
    },
    {
     "data": {
      "application/vnd.jupyter.widget-view+json": {
       "model_id": "5f84da7f98f040c0ad4dca9d597ed8e4",
       "version_major": 2,
       "version_minor": 0
      },
      "text/plain": [
       "  0%|          | 0/10000 [00:00<?, ?it/s]"
      ]
     },
     "metadata": {},
     "output_type": "display_data"
    },
    {
     "name": "stdout",
     "output_type": "stream",
     "text": [
      "gld_params: [0.09930929 0.00384255 0.07353087 0.25218754]\n",
      "wrapper([ 0.000e+00  0.000e+00 ...  0.000e+00  0.000e+00]) = -0.0\n",
      "assembly_constraint_no_mean([ 0.000e+00  0.000e+00 ...  0.000e+00  0.000e+00]) = [-1.000e+01 -1.000e+01 ... -5.003e+00 -1.000e+01]\n"
     ]
    },
    {
     "data": {
      "application/vnd.jupyter.widget-view+json": {
       "model_id": "07d373aecddd428a86ab5685fa322dd1",
       "version_major": 2,
       "version_minor": 0
      },
      "text/plain": [
       "  0%|          | 0/10000 [00:00<?, ?it/s]"
      ]
     },
     "metadata": {},
     "output_type": "display_data"
    },
    {
     "name": "stdout",
     "output_type": "stream",
     "text": [
      "gld_params: [0.09712311 0.01556854 0.0760251  0.24838943]\n",
      "wrapper([ 0.000e+00  0.000e+00 ...  0.000e+00  0.000e+00]) = -0.0\n",
      "assembly_constraint_no_mean([ 0.000e+00  0.000e+00 ...  0.000e+00  0.000e+00]) = [-1.000e+01 -1.000e+01 ... -5.006e+00 -1.000e+01]\n"
     ]
    },
    {
     "data": {
      "application/vnd.jupyter.widget-view+json": {
       "model_id": "983a446e4fe04b17897bd95d87abe1d6",
       "version_major": 2,
       "version_minor": 0
      },
      "text/plain": [
       "  0%|          | 0/10000 [00:00<?, ?it/s]"
      ]
     },
     "metadata": {},
     "output_type": "display_data"
    },
    {
     "name": "stdout",
     "output_type": "stream",
     "text": [
      "gld_params: [0.09747573 0.01560017 0.06934626 0.24915851]\n",
      "wrapper([ 0.000e+00  0.000e+00 ...  0.000e+00  0.000e+00]) = -0.0\n",
      "assembly_constraint_no_mean([ 0.000e+00  0.000e+00 ...  0.000e+00  0.000e+00]) = [-1.000e+01 -1.000e+01 ... -4.993e+00 -1.000e+01]\n"
     ]
    },
    {
     "data": {
      "application/vnd.jupyter.widget-view+json": {
       "model_id": "7e4395180e6546afa6f50fbef46d52ac",
       "version_major": 2,
       "version_minor": 0
      },
      "text/plain": [
       "  0%|          | 0/10000 [00:00<?, ?it/s]"
      ]
     },
     "metadata": {},
     "output_type": "display_data"
    },
    {
     "name": "stdout",
     "output_type": "stream",
     "text": [
      "gld_params: [0.09916794 0.00379289 0.09066893 0.24372705]\n",
      "wrapper([ 0.000e+00  0.000e+00 ...  0.000e+00  0.000e+00]) = -0.0\n",
      "assembly_constraint_no_mean([ 0.000e+00  0.000e+00 ...  0.000e+00  0.000e+00]) = [-1.000e+01 -1.000e+01 ... -1.000e+01 -4.989e+00]\n"
     ]
    },
    {
     "data": {
      "application/vnd.jupyter.widget-view+json": {
       "model_id": "0095193231b3409e9fbd120f38448927",
       "version_major": 2,
       "version_minor": 0
      },
      "text/plain": [
       "  0%|          | 0/10000 [00:00<?, ?it/s]"
      ]
     },
     "metadata": {},
     "output_type": "display_data"
    },
    {
     "name": "stdout",
     "output_type": "stream",
     "text": [
      "gld_params: [0.09917317 0.00381529 0.0920603  0.25100082]\n",
      "wrapper([ 0.000e+00  0.000e+00 ...  0.000e+00  0.000e+00]) = -0.0\n",
      "assembly_constraint_no_mean([ 0.000e+00  0.000e+00 ...  0.000e+00  0.000e+00]) = [-1.000e+01 -1.000e+01 ... -1.000e+01 -5.016e+00]\n"
     ]
    },
    {
     "data": {
      "application/vnd.jupyter.widget-view+json": {
       "model_id": "649cd04bc9c34095a9652feb2669338c",
       "version_major": 2,
       "version_minor": 0
      },
      "text/plain": [
       "  0%|          | 0/10000 [00:00<?, ?it/s]"
      ]
     },
     "metadata": {},
     "output_type": "display_data"
    },
    {
     "name": "stdout",
     "output_type": "stream",
     "text": [
      "gld_params: [0.09725135 0.01552287 0.07376755 0.2457094 ]\n",
      "wrapper([ 0.000e+00  0.000e+00 ...  5.000e-01  0.000e+00]) = -0.0\n",
      "assembly_constraint_no_mean([ 0.000e+00  0.000e+00 ...  5.000e-01  0.000e+00]) = [-1.000e+01 -1.000e+01 ... -1.000e+01 -5.031e+00]\n"
     ]
    },
    {
     "data": {
      "application/vnd.jupyter.widget-view+json": {
       "model_id": "2f2697d8d9544442afbb20ef7d8421c3",
       "version_major": 2,
       "version_minor": 0
      },
      "text/plain": [
       "  0%|          | 0/10000 [00:00<?, ?it/s]"
      ]
     },
     "metadata": {},
     "output_type": "display_data"
    },
    {
     "name": "stdout",
     "output_type": "stream",
     "text": [
      "gld_params: [0.09721094 0.01552031 0.07655557 0.25868845]\n",
      "wrapper([ 0.000e+00  0.000e+00 ...  0.000e+00  5.000e-01]) = -0.0\n",
      "assembly_constraint_no_mean([ 0.000e+00  0.000e+00 ...  0.000e+00  5.000e-01]) = [-1.000e+01 -1.000e+01 ... -1.000e+01 -4.966e+00]\n"
     ]
    },
    {
     "data": {
      "application/vnd.jupyter.widget-view+json": {
       "model_id": "826b020e1de04c74913d87d0fa7cb304",
       "version_major": 2,
       "version_minor": 0
      },
      "text/plain": [
       "  0%|          | 0/10000 [00:00<?, ?it/s]"
      ]
     },
     "metadata": {},
     "output_type": "display_data"
    },
    {
     "name": "stdout",
     "output_type": "stream",
     "text": [
      "gld_params: [0.09900626 0.00540036 0.0752545  0.23759925]\n",
      "wrapper([ 1.000e+00  0.000e+00 ...  0.000e+00  0.000e+00]) = -0.0\n",
      "assembly_constraint_no_mean([ 1.000e+00  0.000e+00 ...  0.000e+00  0.000e+00]) = [ 2.988e-02 -1.000e+01 ... -1.000e+01 -1.000e+01]\n"
     ]
    },
    {
     "data": {
      "application/vnd.jupyter.widget-view+json": {
       "model_id": "38cde19a66f843a1bb8eb83f5a492000",
       "version_major": 2,
       "version_minor": 0
      },
      "text/plain": [
       "  0%|          | 0/10000 [00:00<?, ?it/s]"
      ]
     },
     "metadata": {},
     "output_type": "display_data"
    },
    {
     "name": "stdout",
     "output_type": "stream",
     "text": [
      "gld_params: [0.09897465 0.005507   0.07778245 0.25712574]\n",
      "wrapper([ 0.000e+00  1.000e+00 ...  0.000e+00  0.000e+00]) = -0.0\n",
      "assembly_constraint_no_mean([ 0.000e+00  1.000e+00 ...  0.000e+00  0.000e+00]) = [-2.602e-04 -1.000e+01 ... -1.000e+01 -1.000e+01]\n"
     ]
    },
    {
     "data": {
      "application/vnd.jupyter.widget-view+json": {
       "model_id": "b8dea60d79e24b5ab01a46d2d815eca8",
       "version_major": 2,
       "version_minor": 0
      },
      "text/plain": [
       "  0%|          | 0/10000 [00:00<?, ?it/s]"
      ]
     },
     "metadata": {},
     "output_type": "display_data"
    },
    {
     "name": "stdout",
     "output_type": "stream",
     "text": [
      "gld_params: [0.09604062 0.02200213 0.07337423 0.24697374]\n",
      "wrapper([ 0.000e+00  0.000e+00 ...  0.000e+00  0.000e+00]) = -0.0\n",
      "assembly_constraint_no_mean([ 0.000e+00  0.000e+00 ...  0.000e+00  0.000e+00]) = [-1.001e-02 -1.000e+01 ... -1.000e+01 -1.000e+01]\n"
     ]
    },
    {
     "data": {
      "application/vnd.jupyter.widget-view+json": {
       "model_id": "55f352512b8e444c8811b07843c114db",
       "version_major": 2,
       "version_minor": 0
      },
      "text/plain": [
       "  0%|          | 0/10000 [00:00<?, ?it/s]"
      ]
     },
     "metadata": {},
     "output_type": "display_data"
    },
    {
     "name": "stdout",
     "output_type": "stream",
     "text": [
      "gld_params: [0.09571993 0.02162288 0.08169805 0.23466593]\n",
      "wrapper([ 0.000e+00  0.000e+00 ...  0.000e+00  0.000e+00]) = -0.0\n",
      "assembly_constraint_no_mean([ 0.000e+00  0.000e+00 ...  0.000e+00  0.000e+00]) = [ 1.416e-02 -1.000e+01 ... -1.000e+01 -1.000e+01]\n"
     ]
    },
    {
     "data": {
      "application/vnd.jupyter.widget-view+json": {
       "model_id": "efb90e4275f14ca3b6cfe4920f132b80",
       "version_major": 2,
       "version_minor": 0
      },
      "text/plain": [
       "  0%|          | 0/10000 [00:00<?, ?it/s]"
      ]
     },
     "metadata": {},
     "output_type": "display_data"
    },
    {
     "name": "stdout",
     "output_type": "stream",
     "text": [
      "gld_params: [0.09909277 0.00542627 0.06924095 0.24414719]\n",
      "wrapper([ 0.000e+00  0.000e+00 ...  0.000e+00  0.000e+00]) = -0.0\n",
      "assembly_constraint_no_mean([ 0.000e+00  0.000e+00 ...  0.000e+00  0.000e+00]) = [-1.000e+01 -2.577e-02 ... -1.000e+01 -1.000e+01]\n"
     ]
    },
    {
     "data": {
      "application/vnd.jupyter.widget-view+json": {
       "model_id": "1b96db6f8fe44e1abc4c962bb5a9c46d",
       "version_major": 2,
       "version_minor": 0
      },
      "text/plain": [
       "  0%|          | 0/10000 [00:00<?, ?it/s]"
      ]
     },
     "metadata": {},
     "output_type": "display_data"
    },
    {
     "name": "stdout",
     "output_type": "stream",
     "text": [
      "gld_params: [0.09899847 0.00544319 0.07712616 0.23726181]\n",
      "wrapper([ 0.000e+00  0.000e+00 ...  0.000e+00  0.000e+00]) = -0.0\n",
      "assembly_constraint_no_mean([ 0.000e+00  0.000e+00 ...  0.000e+00  0.000e+00]) = [-1.000e+01 -7.598e-03 ... -1.000e+01 -1.000e+01]\n"
     ]
    },
    {
     "data": {
      "application/vnd.jupyter.widget-view+json": {
       "model_id": "6a30725579904fdbb7f21ee4c9aaa33e",
       "version_major": 2,
       "version_minor": 0
      },
      "text/plain": [
       "  0%|          | 0/10000 [00:00<?, ?it/s]"
      ]
     },
     "metadata": {},
     "output_type": "display_data"
    },
    {
     "name": "stdout",
     "output_type": "stream",
     "text": [
      "gld_params: [0.09505183 0.02103622 0.09506154 0.21921928]\n",
      "wrapper([ 0.000e+00  0.000e+00 ...  0.000e+00  0.000e+00]) = -0.0\n",
      "assembly_constraint_no_mean([ 0.000e+00  0.000e+00 ...  0.000e+00  0.000e+00]) = [-1.000e+01 -4.562e-04 ... -1.000e+01 -1.000e+01]\n"
     ]
    },
    {
     "data": {
      "application/vnd.jupyter.widget-view+json": {
       "model_id": "98cf8d27b721402ab7cda0da5b3d4c38",
       "version_major": 2,
       "version_minor": 0
      },
      "text/plain": [
       "  0%|          | 0/10000 [00:00<?, ?it/s]"
      ]
     },
     "metadata": {},
     "output_type": "display_data"
    },
    {
     "name": "stdout",
     "output_type": "stream",
     "text": [
      "gld_params: [0.09501522 0.02080838 0.0941655  0.2178902 ]\n",
      "wrapper([ 0.000e+00  0.000e+00 ...  0.000e+00  0.000e+00]) = -0.0\n",
      "assembly_constraint_no_mean([ 0.000e+00  0.000e+00 ...  0.000e+00  0.000e+00]) = [-1.000e+01  1.098e-02 ... -1.000e+01 -1.000e+01]\n"
     ]
    },
    {
     "data": {
      "application/vnd.jupyter.widget-view+json": {
       "model_id": "4b04f3ff13a642ef844160ccc38b8572",
       "version_major": 2,
       "version_minor": 0
      },
      "text/plain": [
       "  0%|          | 0/10000 [00:00<?, ?it/s]"
      ]
     },
     "metadata": {},
     "output_type": "display_data"
    },
    {
     "name": "stdout",
     "output_type": "stream",
     "text": [
      "gld_params: [0.09900142 0.00535753 0.07656369 0.23144076]\n",
      "wrapper([ 0.000e+00  0.000e+00 ...  0.000e+00  0.000e+00]) = -0.0\n",
      "assembly_constraint_no_mean([ 0.000e+00  0.000e+00 ...  0.000e+00  0.000e+00]) = [-1.000e+01 -1.000e+01 ... -1.000e+01 -1.000e+01]\n"
     ]
    },
    {
     "data": {
      "application/vnd.jupyter.widget-view+json": {
       "model_id": "c6d0dcdb291f4a65ab6c39314a25105b",
       "version_major": 2,
       "version_minor": 0
      },
      "text/plain": [
       "  0%|          | 0/10000 [00:00<?, ?it/s]"
      ]
     },
     "metadata": {},
     "output_type": "display_data"
    },
    {
     "name": "stdout",
     "output_type": "stream",
     "text": [
      "gld_params: [0.09895446 0.00535926 0.07702666 0.21796402]\n",
      "wrapper([ 0.000e+00  0.000e+00 ...  0.000e+00  0.000e+00]) = -0.0\n",
      "assembly_constraint_no_mean([ 0.000e+00  0.000e+00 ...  0.000e+00  0.000e+00]) = [-1.000e+01 -1.000e+01 ... -1.000e+01 -1.000e+01]\n"
     ]
    },
    {
     "data": {
      "application/vnd.jupyter.widget-view+json": {
       "model_id": "9d5f4fc0c7b94d95a7cc038b55313560",
       "version_major": 2,
       "version_minor": 0
      },
      "text/plain": [
       "  0%|          | 0/10000 [00:00<?, ?it/s]"
      ]
     },
     "metadata": {},
     "output_type": "display_data"
    },
    {
     "name": "stdout",
     "output_type": "stream",
     "text": [
      "gld_params: [0.09631801 0.02239231 0.07060053 0.25672765]\n",
      "wrapper([ 0.000e+00  0.000e+00 ...  0.000e+00  0.000e+00]) = -0.0\n",
      "assembly_constraint_no_mean([ 0.000e+00  0.000e+00 ...  0.000e+00  0.000e+00]) = [-1.000e+01 -1.000e+01 ... -1.000e+01 -1.000e+01]\n"
     ]
    },
    {
     "data": {
      "application/vnd.jupyter.widget-view+json": {
       "model_id": "d7477e37f939472390bd7359688737dc",
       "version_major": 2,
       "version_minor": 0
      },
      "text/plain": [
       "  0%|          | 0/10000 [00:00<?, ?it/s]"
      ]
     },
     "metadata": {},
     "output_type": "display_data"
    },
    {
     "name": "stdout",
     "output_type": "stream",
     "text": [
      "gld_params: [0.09634107 0.02209594 0.07012693 0.24602406]\n",
      "wrapper([ 0.000e+00  0.000e+00 ...  0.000e+00  0.000e+00]) = -0.0\n",
      "assembly_constraint_no_mean([ 0.000e+00  0.000e+00 ...  0.000e+00  0.000e+00]) = [-1.000e+01 -1.000e+01 ... -1.000e+01 -1.000e+01]\n"
     ]
    },
    {
     "data": {
      "application/vnd.jupyter.widget-view+json": {
       "model_id": "0bde16965a084eddb4d2ba8255099c17",
       "version_major": 2,
       "version_minor": 0
      },
      "text/plain": [
       "  0%|          | 0/10000 [00:00<?, ?it/s]"
      ]
     },
     "metadata": {},
     "output_type": "display_data"
    },
    {
     "name": "stdout",
     "output_type": "stream",
     "text": [
      "gld_params: [0.09888722 0.00526736 0.08357949 0.21912192]\n",
      "wrapper([ 0.000e+00  0.000e+00 ...  0.000e+00  0.000e+00]) = -0.0\n",
      "assembly_constraint_no_mean([ 0.000e+00  0.000e+00 ...  0.000e+00  0.000e+00]) = [-1.000e+01 -1.000e+01 ... -1.000e+01 -1.000e+01]\n"
     ]
    },
    {
     "data": {
      "application/vnd.jupyter.widget-view+json": {
       "model_id": "b225897519dc41f582acf2276af5a3e0",
       "version_major": 2,
       "version_minor": 0
      },
      "text/plain": [
       "  0%|          | 0/10000 [00:00<?, ?it/s]"
      ]
     },
     "metadata": {},
     "output_type": "display_data"
    },
    {
     "name": "stdout",
     "output_type": "stream",
     "text": [
      "gld_params: [0.09910752 0.00531346 0.06765316 0.23024566]\n",
      "wrapper([ 0.000e+00  0.000e+00 ...  0.000e+00  0.000e+00]) = -0.0\n",
      "assembly_constraint_no_mean([ 0.000e+00  0.000e+00 ...  0.000e+00  0.000e+00]) = [-1.000e+01 -1.000e+01 ... -1.000e+01 -1.000e+01]\n"
     ]
    },
    {
     "data": {
      "application/vnd.jupyter.widget-view+json": {
       "model_id": "3f687b80b08d4cce9e35647bc4eba236",
       "version_major": 2,
       "version_minor": 0
      },
      "text/plain": [
       "  0%|          | 0/10000 [00:00<?, ?it/s]"
      ]
     },
     "metadata": {},
     "output_type": "display_data"
    },
    {
     "name": "stdout",
     "output_type": "stream",
     "text": [
      "gld_params: [0.095362   0.02083974 0.08669892 0.21767494]\n",
      "wrapper([ 0.000e+00  0.000e+00 ...  0.000e+00  0.000e+00]) = -0.0\n",
      "assembly_constraint_no_mean([ 0.000e+00  0.000e+00 ...  0.000e+00  0.000e+00]) = [-1.000e+01 -1.000e+01 ... -1.000e+01 -1.000e+01]\n"
     ]
    },
    {
     "data": {
      "application/vnd.jupyter.widget-view+json": {
       "model_id": "bdb7623b3e2a48bbbed1305484e38aad",
       "version_major": 2,
       "version_minor": 0
      },
      "text/plain": [
       "  0%|          | 0/10000 [00:00<?, ?it/s]"
      ]
     },
     "metadata": {},
     "output_type": "display_data"
    },
    {
     "name": "stdout",
     "output_type": "stream",
     "text": [
      "gld_params: [0.09581176 0.02120747 0.08034655 0.23253206]\n",
      "wrapper([ 0.000e+00  0.000e+00 ...  0.000e+00  0.000e+00]) = -0.0\n",
      "assembly_constraint_no_mean([ 0.000e+00  0.000e+00 ...  0.000e+00  0.000e+00]) = [-1.000e+01 -1.000e+01 ... -1.000e+01 -1.000e+01]\n"
     ]
    },
    {
     "data": {
      "application/vnd.jupyter.widget-view+json": {
       "model_id": "6b91afe500b04d5c8413382c9ab46d17",
       "version_major": 2,
       "version_minor": 0
      },
      "text/plain": [
       "  0%|          | 0/10000 [00:00<?, ?it/s]"
      ]
     },
     "metadata": {},
     "output_type": "display_data"
    },
    {
     "name": "stdout",
     "output_type": "stream",
     "text": [
      "gld_params: [0.09889129 0.00531017 0.08414248 0.22134194]\n",
      "wrapper([ 0.000e+00  0.000e+00 ...  0.000e+00  0.000e+00]) = -0.0\n",
      "assembly_constraint_no_mean([ 0.000e+00  0.000e+00 ...  0.000e+00  0.000e+00]) = [-1.000e+01 -1.000e+01 ... -1.000e+01 -1.000e+01]\n"
     ]
    },
    {
     "data": {
      "application/vnd.jupyter.widget-view+json": {
       "model_id": "d2ca9e7ae55847828b2b1cb77f498d97",
       "version_major": 2,
       "version_minor": 0
      },
      "text/plain": [
       "  0%|          | 0/10000 [00:00<?, ?it/s]"
      ]
     },
     "metadata": {},
     "output_type": "display_data"
    },
    {
     "name": "stdout",
     "output_type": "stream",
     "text": [
      "gld_params: [0.09909545 0.00543624 0.06982564 0.24538113]\n",
      "wrapper([ 0.000e+00  0.000e+00 ...  0.000e+00  0.000e+00]) = -0.0\n",
      "assembly_constraint_no_mean([ 0.000e+00  0.000e+00 ...  0.000e+00  0.000e+00]) = [-1.000e+01 -1.000e+01 ... -1.000e+01 -1.000e+01]\n"
     ]
    },
    {
     "data": {
      "application/vnd.jupyter.widget-view+json": {
       "model_id": "508ea013840f445ba3e4f2a7ccac1f17",
       "version_major": 2,
       "version_minor": 0
      },
      "text/plain": [
       "  0%|          | 0/10000 [00:00<?, ?it/s]"
      ]
     },
     "metadata": {},
     "output_type": "display_data"
    },
    {
     "name": "stdout",
     "output_type": "stream",
     "text": [
      "gld_params: [0.09546371 0.02106549 0.08818634 0.22669756]\n",
      "wrapper([ 0.000e+00  0.000e+00 ...  0.000e+00  0.000e+00]) = -0.0\n",
      "assembly_constraint_no_mean([ 0.000e+00  0.000e+00 ...  0.000e+00  0.000e+00]) = [-1.000e+01 -1.000e+01 ... -1.000e+01 -1.000e+01]\n"
     ]
    },
    {
     "data": {
      "application/vnd.jupyter.widget-view+json": {
       "model_id": "2748a33a53eb40f796a88a7b80581e2a",
       "version_major": 2,
       "version_minor": 0
      },
      "text/plain": [
       "  0%|          | 0/10000 [00:00<?, ?it/s]"
      ]
     },
     "metadata": {},
     "output_type": "display_data"
    },
    {
     "name": "stdout",
     "output_type": "stream",
     "text": [
      "gld_params: [0.09599543 0.02157195 0.07888288 0.24666182]\n",
      "wrapper([ 0.000e+00  0.000e+00 ...  0.000e+00  0.000e+00]) = -0.0\n",
      "assembly_constraint_no_mean([ 0.000e+00  0.000e+00 ...  0.000e+00  0.000e+00]) = [-1.000e+01 -1.000e+01 ... -1.000e+01 -1.000e+01]\n"
     ]
    },
    {
     "data": {
      "application/vnd.jupyter.widget-view+json": {
       "model_id": "c3a9f2ceea534d7fab891071b1844a88",
       "version_major": 2,
       "version_minor": 0
      },
      "text/plain": [
       "  0%|          | 0/10000 [00:00<?, ?it/s]"
      ]
     },
     "metadata": {},
     "output_type": "display_data"
    },
    {
     "name": "stdout",
     "output_type": "stream",
     "text": [
      "gld_params: [0.09878751 0.0052249  0.09100853 0.21531531]\n",
      "wrapper([ 0.000e+00  0.000e+00 ...  0.000e+00  0.000e+00]) = -0.0\n",
      "assembly_constraint_no_mean([ 0.000e+00  0.000e+00 ...  0.000e+00  0.000e+00]) = [-1.000e+01 -1.000e+01 ... -1.000e+01 -1.000e+01]\n"
     ]
    },
    {
     "data": {
      "application/vnd.jupyter.widget-view+json": {
       "model_id": "61e118aa1f5f446a81293ff41ee74226",
       "version_major": 2,
       "version_minor": 0
      },
      "text/plain": [
       "  0%|          | 0/10000 [00:00<?, ?it/s]"
      ]
     },
     "metadata": {},
     "output_type": "display_data"
    },
    {
     "name": "stdout",
     "output_type": "stream",
     "text": [
      "gld_params: [0.09893131 0.00532542 0.08295895 0.22959108]\n",
      "wrapper([ 0.000e+00  0.000e+00 ...  0.000e+00  0.000e+00]) = -0.0\n",
      "assembly_constraint_no_mean([ 0.000e+00  0.000e+00 ...  0.000e+00  0.000e+00]) = [-1.000e+01 -1.000e+01 ... -1.000e+01 -1.000e+01]\n"
     ]
    },
    {
     "data": {
      "application/vnd.jupyter.widget-view+json": {
       "model_id": "9efeec3064fa4dedbbb2ebffe33ec2f2",
       "version_major": 2,
       "version_minor": 0
      },
      "text/plain": [
       "  0%|          | 0/10000 [00:00<?, ?it/s]"
      ]
     },
     "metadata": {},
     "output_type": "display_data"
    },
    {
     "name": "stdout",
     "output_type": "stream",
     "text": [
      "gld_params: [0.09584117 0.02191057 0.07885252 0.24330829]\n",
      "wrapper([ 0.000e+00  0.000e+00 ...  0.000e+00  0.000e+00]) = -0.0\n",
      "assembly_constraint_no_mean([ 0.000e+00  0.000e+00 ...  0.000e+00  0.000e+00]) = [-1.000e+01 -1.000e+01 ... -1.000e+01 -1.000e+01]\n"
     ]
    },
    {
     "data": {
      "application/vnd.jupyter.widget-view+json": {
       "model_id": "475a6d73626e40b3bf02103db186fde6",
       "version_major": 2,
       "version_minor": 0
      },
      "text/plain": [
       "  0%|          | 0/10000 [00:00<?, ?it/s]"
      ]
     },
     "metadata": {},
     "output_type": "display_data"
    },
    {
     "name": "stdout",
     "output_type": "stream",
     "text": [
      "gld_params: [0.09554149 0.02111697 0.08538009 0.22074961]\n",
      "wrapper([ 0.000e+00  0.000e+00 ...  0.000e+00  0.000e+00]) = -0.0\n",
      "assembly_constraint_no_mean([ 0.000e+00  0.000e+00 ...  0.000e+00  0.000e+00]) = [-1.000e+01 -1.000e+01 ... -1.000e+01 -1.000e+01]\n"
     ]
    },
    {
     "data": {
      "application/vnd.jupyter.widget-view+json": {
       "model_id": "7a9e1277eb6745f89283e7d3f2c1c0cd",
       "version_major": 2,
       "version_minor": 0
      },
      "text/plain": [
       "  0%|          | 0/10000 [00:00<?, ?it/s]"
      ]
     },
     "metadata": {},
     "output_type": "display_data"
    },
    {
     "name": "stdout",
     "output_type": "stream",
     "text": [
      "gld_params: [0.09892895 0.0052854  0.0808698  0.22721384]\n",
      "wrapper([ 0.000e+00  0.000e+00 ...  0.000e+00  0.000e+00]) = -0.0\n",
      "assembly_constraint_no_mean([ 0.000e+00  0.000e+00 ...  0.000e+00  0.000e+00]) = [-1.000e+01 -1.000e+01 ...  3.700e-02 -1.000e+01]\n"
     ]
    },
    {
     "data": {
      "application/vnd.jupyter.widget-view+json": {
       "model_id": "b49c1bdcfaa84a29b8c39220a3ee2203",
       "version_major": 2,
       "version_minor": 0
      },
      "text/plain": [
       "  0%|          | 0/10000 [00:00<?, ?it/s]"
      ]
     },
     "metadata": {},
     "output_type": "display_data"
    },
    {
     "name": "stdout",
     "output_type": "stream",
     "text": [
      "gld_params: [0.0990232  0.00543418 0.0735309  0.25218752]\n",
      "wrapper([ 0.000e+00  0.000e+00 ...  0.000e+00  0.000e+00]) = -0.0\n",
      "assembly_constraint_no_mean([ 0.000e+00  0.000e+00 ...  0.000e+00  0.000e+00]) = [-1.000e+01 -1.000e+01 ... -5.048e-03 -1.000e+01]\n"
     ]
    },
    {
     "data": {
      "application/vnd.jupyter.widget-view+json": {
       "model_id": "8640f0fba4f44a3ca2de902312f35223",
       "version_major": 2,
       "version_minor": 0
      },
      "text/plain": [
       "  0%|          | 0/10000 [00:00<?, ?it/s]"
      ]
     },
     "metadata": {},
     "output_type": "display_data"
    },
    {
     "name": "stdout",
     "output_type": "stream",
     "text": [
      "gld_params: [0.09593147 0.02201725 0.0760251  0.24838943]\n",
      "wrapper([ 0.000e+00  0.000e+00 ...  0.000e+00  0.000e+00]) = -0.0\n",
      "assembly_constraint_no_mean([ 0.000e+00  0.000e+00 ...  0.000e+00  0.000e+00]) = [-1.000e+01 -1.000e+01 ... -1.200e-02 -1.000e+01]\n"
     ]
    },
    {
     "data": {
      "application/vnd.jupyter.widget-view+json": {
       "model_id": "03c13c2fd11a442c9af8a86270b869aa",
       "version_major": 2,
       "version_minor": 0
      },
      "text/plain": [
       "  0%|          | 0/10000 [00:00<?, ?it/s]"
      ]
     },
     "metadata": {},
     "output_type": "display_data"
    },
    {
     "name": "stdout",
     "output_type": "stream",
     "text": [
      "gld_params: [0.09643014 0.02206197 0.06934626 0.24915851]\n",
      "wrapper([ 0.000e+00  0.000e+00 ...  0.000e+00  0.000e+00]) = -0.0\n",
      "assembly_constraint_no_mean([ 0.000e+00  0.000e+00 ...  0.000e+00  0.000e+00]) = [-1.000e+01 -1.000e+01 ...  1.466e-02 -1.000e+01]\n"
     ]
    },
    {
     "data": {
      "application/vnd.jupyter.widget-view+json": {
       "model_id": "65bb272b76814f0b94700de2cf015e97",
       "version_major": 2,
       "version_minor": 0
      },
      "text/plain": [
       "  0%|          | 0/10000 [00:00<?, ?it/s]"
      ]
     },
     "metadata": {},
     "output_type": "display_data"
    },
    {
     "name": "stdout",
     "output_type": "stream",
     "text": [
      "gld_params: [0.09882329 0.00536395 0.09066892 0.24372709]\n",
      "wrapper([ 0.000e+00  0.000e+00 ...  0.000e+00  0.000e+00]) = -0.0\n",
      "assembly_constraint_no_mean([ 0.000e+00  0.000e+00 ...  0.000e+00  0.000e+00]) = [-1.000e+01 -1.000e+01 ... -1.000e+01  2.296e-02]\n"
     ]
    },
    {
     "data": {
      "application/vnd.jupyter.widget-view+json": {
       "model_id": "ffdbae3fa3ae4186b220e28b6eba70b1",
       "version_major": 2,
       "version_minor": 0
      },
      "text/plain": [
       "  0%|          | 0/10000 [00:00<?, ?it/s]"
      ]
     },
     "metadata": {},
     "output_type": "display_data"
    },
    {
     "name": "stdout",
     "output_type": "stream",
     "text": [
      "gld_params: [0.09883068 0.00539564 0.09206029 0.25100085]\n",
      "wrapper([ 0.000e+00  0.000e+00 ...  0.000e+00  0.000e+00]) = -0.0\n",
      "assembly_constraint_no_mean([ 0.000e+00  0.000e+00 ...  0.000e+00  0.000e+00]) = [-1.000e+01 -1.000e+01 ... -1.000e+01 -3.130e-02]\n"
     ]
    },
    {
     "data": {
      "application/vnd.jupyter.widget-view+json": {
       "model_id": "615ceac1168445a5836bd2c846383932",
       "version_major": 2,
       "version_minor": 0
      },
      "text/plain": [
       "  0%|          | 0/10000 [00:00<?, ?it/s]"
      ]
     },
     "metadata": {},
     "output_type": "display_data"
    },
    {
     "name": "stdout",
     "output_type": "stream",
     "text": [
      "gld_params: [0.09611283 0.02195265 0.07376755 0.24570939]\n",
      "wrapper([ 0.000e+00  0.000e+00 ...  1.000e+00  0.000e+00]) = -0.0\n",
      "assembly_constraint_no_mean([ 0.000e+00  0.000e+00 ...  1.000e+00  0.000e+00]) = [-1.000e+01 -1.000e+01 ... -1.000e+01 -6.164e-02]\n"
     ]
    },
    {
     "data": {
      "application/vnd.jupyter.widget-view+json": {
       "model_id": "27b637f1068a4f7e9a84f5c1225cd1ae",
       "version_major": 2,
       "version_minor": 0
      },
      "text/plain": [
       "  0%|          | 0/10000 [00:00<?, ?it/s]"
      ]
     },
     "metadata": {},
     "output_type": "display_data"
    },
    {
     "name": "stdout",
     "output_type": "stream",
     "text": [
      "gld_params: [0.09605566 0.02194903 0.07655558 0.25868844]\n",
      "wrapper([ 0.000e+00  0.000e+00 ...  0.000e+00  1.000e+00]) = -0.0\n",
      "assembly_constraint_no_mean([ 0.000e+00  0.000e+00 ...  0.000e+00  1.000e+00]) = [-1.000e+01 -1.000e+01 ... -1.000e+01  6.785e-02]\n"
     ]
    },
    {
     "data": {
      "application/vnd.jupyter.widget-view+json": {
       "model_id": "cc433a8c739044f5af8a80ee05bf42cf",
       "version_major": 2,
       "version_minor": 0
      },
      "text/plain": [
       "  0%|          | 0/10000 [00:00<?, ?it/s]"
      ]
     },
     "metadata": {},
     "output_type": "display_data"
    },
    {
     "name": "stdout",
     "output_type": "stream",
     "text": [
      "gld_params: [0.09697619 0.00449576 0.17402982 0.14412643]\n",
      "wrapper([ 2.500e-01  0.000e+00 ...  0.000e+00  0.000e+00]) = -0.0\n",
      "assembly_constraint_no_mean([ 2.500e-01  0.000e+00 ...  0.000e+00  0.000e+00]) = [-7.493e+00 -1.000e+01 ... -1.000e+01 -1.000e+01]\n"
     ]
    },
    {
     "data": {
      "application/vnd.jupyter.widget-view+json": {
       "model_id": "6dfcafd186be45d4a07df5efa3205981",
       "version_major": 2,
       "version_minor": 0
      },
      "text/plain": [
       "  0%|          | 0/10000 [00:00<?, ?it/s]"
      ]
     },
     "metadata": {},
     "output_type": "display_data"
    },
    {
     "name": "stdout",
     "output_type": "stream",
     "text": [
      "gld_params: [0.09588398 0.00545172 0.19902747 0.14641259]\n",
      "wrapper([ 6.297e-01  0.000e+00 ...  3.487e-31  0.000e+00]) = -0.0\n",
      "assembly_constraint_no_mean([ 6.297e-01  0.000e+00 ...  3.487e-31  0.000e+00]) = [-3.685e+00 -1.000e+01 ... -1.000e+01 -1.000e+01]\n"
     ]
    },
    {
     "data": {
      "application/vnd.jupyter.widget-view+json": {
       "model_id": "f58f2ff6746843159444e0f65a98dfed",
       "version_major": 2,
       "version_minor": 0
      },
      "text/plain": [
       "  0%|          | 0/10000 [00:00<?, ?it/s]"
      ]
     },
     "metadata": {},
     "output_type": "display_data"
    },
    {
     "name": "stdout",
     "output_type": "stream",
     "text": [
      "gld_params: [0.0821695  0.00707082 0.32091607 0.10772573]\n",
      "wrapper([ 6.898e-01  0.000e+00 ...  1.488e-01  0.000e+00]) = -0.0\n",
      "assembly_constraint_no_mean([ 6.898e-01  0.000e+00 ...  1.488e-01  0.000e+00]) = [-3.163e+00 -7.917e+00 ... -7.965e+00 -7.960e+00]\n"
     ]
    },
    {
     "data": {
      "application/vnd.jupyter.widget-view+json": {
       "model_id": "df1190e51aa64139a3887878300753e9",
       "version_major": 2,
       "version_minor": 0
      },
      "text/plain": [
       "  0%|          | 0/10000 [00:00<?, ?it/s]"
      ]
     },
     "metadata": {},
     "output_type": "display_data"
    },
    {
     "name": "stdout",
     "output_type": "stream",
     "text": [
      "gld_params: [0.07321128 0.009742   0.32180345 0.09689337]\n",
      "wrapper([ 7.323e-01  1.204e-16 ...  3.233e-01  3.239e-17]) = -0.0\n",
      "assembly_constraint_no_mean([ 7.323e-01  1.204e-16 ...  3.233e-01  3.239e-17]) = [-2.927e+00 -7.118e+00 ... -5.869e+00 -5.567e+00]\n"
     ]
    },
    {
     "data": {
      "application/vnd.jupyter.widget-view+json": {
       "model_id": "ac37103433484a5e8dacee1fb0c2e91b",
       "version_major": 2,
       "version_minor": 0
      },
      "text/plain": [
       "  0%|          | 0/10000 [00:00<?, ?it/s]"
      ]
     },
     "metadata": {},
     "output_type": "display_data"
    },
    {
     "name": "stdout",
     "output_type": "stream",
     "text": [
      "gld_params: [0.06213966 0.01341605 0.33898134 0.12822356]\n",
      "wrapper([ 4.930e-01  2.163e-01 ...  3.711e-01  4.144e-01]) = -5.9608609865491405e-06\n",
      "assembly_constraint_no_mean([ 4.930e-01  2.163e-01 ...  3.711e-01  4.144e-01]) = [-4.945e+00 -3.660e+00 ... -3.360e+00 -4.087e+00]\n"
     ]
    },
    {
     "data": {
      "application/vnd.jupyter.widget-view+json": {
       "model_id": "2745515e408e43eba7b64634ded9dbf1",
       "version_major": 2,
       "version_minor": 0
      },
      "text/plain": [
       "  0%|          | 0/10000 [00:00<?, ?it/s]"
      ]
     },
     "metadata": {},
     "output_type": "display_data"
    },
    {
     "name": "stdout",
     "output_type": "stream",
     "text": [
      "gld_params: [0.04719841 0.01951325 0.32889861 0.11682722]\n",
      "wrapper([ 0.000e+00  9.655e-01 ...  4.722e-01  1.000e+00]) = -0.0092208427206204\n",
      "assembly_constraint_no_mean([ 0.000e+00  9.655e-01 ...  4.722e-01  1.000e+00]) = [ 1.255e+00  3.022e+00 ...  1.549e-01  5.164e-01]\n"
     ]
    },
    {
     "data": {
      "application/vnd.jupyter.widget-view+json": {
       "model_id": "c82e5007699b4020b6efc23e52ad5870",
       "version_major": 2,
       "version_minor": 0
      },
      "text/plain": [
       "  0%|          | 0/10000 [00:00<?, ?it/s]"
      ]
     },
     "metadata": {},
     "output_type": "display_data"
    },
    {
     "name": "stdout",
     "output_type": "stream",
     "text": [
      "gld_params: [0.0433874  0.02128602 0.33128116 0.12179962]\n",
      "wrapper([ 1.553e-16  1.000e+00 ...  5.071e-01  1.000e+00]) = -0.02177270966223161\n",
      "assembly_constraint_no_mean([ 1.553e-16  1.000e+00 ...  5.071e-01  1.000e+00]) = [ 2.706e+00  5.227e+00 ...  3.675e+00  1.585e+00]\n"
     ]
    },
    {
     "data": {
      "application/vnd.jupyter.widget-view+json": {
       "model_id": "cb450300ff974121af15051a4a96209f",
       "version_major": 2,
       "version_minor": 0
      },
      "text/plain": [
       "  0%|          | 0/10000 [00:00<?, ?it/s]"
      ]
     },
     "metadata": {},
     "output_type": "display_data"
    },
    {
     "name": "stdout",
     "output_type": "stream",
     "text": [
      "gld_params: [0.04558768 0.02028257 0.32979073 0.12799427]\n",
      "wrapper([ 0.000e+00  5.377e-01 ...  7.532e-01  1.000e+00]) = -0.01237459217764731\n",
      "assembly_constraint_no_mean([ 0.000e+00  5.377e-01 ...  7.532e-01  1.000e+00]) = [-3.603e+00  3.901e+00 ...  3.585e+00  2.384e+00]\n"
     ]
    },
    {
     "data": {
      "application/vnd.jupyter.widget-view+json": {
       "model_id": "f2f3862c5c79482097b581985d358820",
       "version_major": 2,
       "version_minor": 0
      },
      "text/plain": [
       "  0%|          | 0/10000 [00:00<?, ?it/s]"
      ]
     },
     "metadata": {},
     "output_type": "display_data"
    },
    {
     "name": "stdout",
     "output_type": "stream",
     "text": [
      "gld_params: [0.04198443 0.02077362 0.34191404 0.12232059]\n",
      "wrapper([ 4.146e-01  9.425e-01 ...  6.505e-01  1.000e+00]) = -0.020887690021855813\n",
      "assembly_constraint_no_mean([ 4.146e-01  9.425e-01 ...  6.505e-01  1.000e+00]) = [ 1.460e+00  5.367e+00 ...  3.021e+00  2.271e+00]\n"
     ]
    },
    {
     "data": {
      "application/vnd.jupyter.widget-view+json": {
       "model_id": "d3ef6b604c3845729fae00ac4f785699",
       "version_major": 2,
       "version_minor": 0
      },
      "text/plain": [
       "  0%|          | 0/10000 [00:00<?, ?it/s]"
      ]
     },
     "metadata": {},
     "output_type": "display_data"
    },
    {
     "name": "stdout",
     "output_type": "stream",
     "text": [
      "gld_params: [0.04500488 0.02026794 0.32943395 0.11442906]\n",
      "wrapper([ 0.000e+00  1.000e+00 ...  5.711e-01  1.000e+00]) = -0.01538177207382769\n",
      "assembly_constraint_no_mean([ 0.000e+00  1.000e+00 ...  5.711e-01  1.000e+00]) = [ 2.802e+00  3.806e+00 ...  1.564e+00  9.887e-01]\n"
     ]
    },
    {
     "data": {
      "application/vnd.jupyter.widget-view+json": {
       "model_id": "4d7baa48d3dc443fbe27cd54cfbcfc01",
       "version_major": 2,
       "version_minor": 0
      },
      "text/plain": [
       "  0%|          | 0/10000 [00:00<?, ?it/s]"
      ]
     },
     "metadata": {},
     "output_type": "display_data"
    },
    {
     "name": "stdout",
     "output_type": "stream",
     "text": [
      "gld_params: [0.04987674 0.0187398  0.32078687 0.11226409]\n",
      "wrapper([ 1.693e-01  7.406e-01 ...  4.199e-01  1.000e+00]) = -0.005694812343553545\n",
      "assembly_constraint_no_mean([ 1.693e-01  7.406e-01 ...  4.199e-01  1.000e+00]) = [-2.241e-01  1.465e+00 ...  9.287e-02  3.174e-01]\n"
     ]
    },
    {
     "data": {
      "application/vnd.jupyter.widget-view+json": {
       "model_id": "5714c207b2994234b0e489129abfee1d",
       "version_major": 2,
       "version_minor": 0
      },
      "text/plain": [
       "  0%|          | 0/10000 [00:00<?, ?it/s]"
      ]
     },
     "metadata": {},
     "output_type": "display_data"
    },
    {
     "name": "stdout",
     "output_type": "stream",
     "text": [
      "gld_params: [0.04502098 0.01966128 0.33440718 0.10983093]\n",
      "wrapper([ 0.000e+00  7.813e-01 ...  6.393e-01  8.986e-01]) = -0.013146724563188378\n",
      "assembly_constraint_no_mean([ 0.000e+00  7.813e-01 ...  6.393e-01  8.986e-01]) = [ 2.015e+00  3.147e+00 ...  1.313e+00  1.457e+00]\n"
     ]
    },
    {
     "data": {
      "application/vnd.jupyter.widget-view+json": {
       "model_id": "e9ad0049db3a4911ac1de512cd8213d7",
       "version_major": 2,
       "version_minor": 0
      },
      "text/plain": [
       "  0%|          | 0/10000 [00:00<?, ?it/s]"
      ]
     },
     "metadata": {},
     "output_type": "display_data"
    },
    {
     "name": "stdout",
     "output_type": "stream",
     "text": [
      "gld_params: [0.04942514 0.01877661 0.3286901  0.11485802]\n",
      "wrapper([ 1.541e-01  7.052e-01 ...  3.817e-01  1.000e+00]) = -0.005429879299355687\n",
      "assembly_constraint_no_mean([ 1.541e-01  7.052e-01 ...  3.817e-01  1.000e+00]) = [-2.692e-01  5.888e-01 ...  1.714e+00  3.008e-01]\n"
     ]
    },
    {
     "data": {
      "application/vnd.jupyter.widget-view+json": {
       "model_id": "26dc4c3e9fa04b53a1c59ae7e052e295",
       "version_major": 2,
       "version_minor": 0
      },
      "text/plain": [
       "  0%|          | 0/10000 [00:00<?, ?it/s]"
      ]
     },
     "metadata": {},
     "output_type": "display_data"
    },
    {
     "name": "stdout",
     "output_type": "stream",
     "text": [
      "gld_params: [0.04890155 0.01862674 0.33170286 0.11567012]\n",
      "wrapper([ 1.085e-01  7.541e-01 ...  4.982e-01  1.000e+00]) = -0.005286694668965695\n",
      "assembly_constraint_no_mean([ 1.085e-01  7.541e-01 ...  4.982e-01  1.000e+00]) = [-1.908e-01  2.434e+00 ... -5.951e-02  5.474e-01]\n"
     ]
    },
    {
     "data": {
      "application/vnd.jupyter.widget-view+json": {
       "model_id": "53e1db8c52d54656bceae62a2eb72b99",
       "version_major": 2,
       "version_minor": 0
      },
      "text/plain": [
       "  0%|          | 0/10000 [00:00<?, ?it/s]"
      ]
     },
     "metadata": {},
     "output_type": "display_data"
    },
    {
     "name": "stdout",
     "output_type": "stream",
     "text": [
      "gld_params: [0.04944739 0.01895846 0.31969625 0.11603843]\n",
      "wrapper([ 1.189e-01  6.907e-01 ...  3.176e-01  1.000e+00]) = -0.006235950125785219\n",
      "assembly_constraint_no_mean([ 1.189e-01  6.907e-01 ...  3.176e-01  1.000e+00]) = [ 3.192e-02 -3.442e-01 ...  2.568e-01  1.731e-01]\n"
     ]
    },
    {
     "data": {
      "application/vnd.jupyter.widget-view+json": {
       "model_id": "dce2edeebcc6420baa18ad5208ee3303",
       "version_major": 2,
       "version_minor": 0
      },
      "text/plain": [
       "  0%|          | 0/10000 [00:00<?, ?it/s]"
      ]
     },
     "metadata": {},
     "output_type": "display_data"
    },
    {
     "name": "stdout",
     "output_type": "stream",
     "text": [
      "gld_params: [0.0497812  0.01854374 0.32590039 0.11709349]\n",
      "wrapper([ 7.612e-02  7.874e-01 ...  3.944e-01  8.753e-01]) = -0.004668846883838565\n",
      "assembly_constraint_no_mean([ 7.612e-02  7.874e-01 ...  3.944e-01  8.753e-01]) = [-2.816e-01  9.873e-01 ...  2.155e-01 -3.779e-01]\n"
     ]
    },
    {
     "data": {
      "application/vnd.jupyter.widget-view+json": {
       "model_id": "fc8155eb9c2f40369b1052b8feebc872",
       "version_major": 2,
       "version_minor": 0
      },
      "text/plain": [
       "  0%|          | 0/10000 [00:00<?, ?it/s]"
      ]
     },
     "metadata": {},
     "output_type": "display_data"
    },
    {
     "name": "stdout",
     "output_type": "stream",
     "text": [
      "gld_params: [0.04911235 0.01856969 0.3331382  0.11947043]\n",
      "wrapper([ 1.388e-17  7.081e-01 ...  5.537e-01  8.705e-01]) = -0.004612822243060887\n",
      "assembly_constraint_no_mean([ 1.388e-17  7.081e-01 ...  5.537e-01  8.705e-01]) = [-2.883e-02  6.477e-01 ... -5.467e-01 -4.531e-01]\n"
     ]
    },
    {
     "data": {
      "application/vnd.jupyter.widget-view+json": {
       "model_id": "781546e194f34805941f04c12250063b",
       "version_major": 2,
       "version_minor": 0
      },
      "text/plain": [
       "  0%|          | 0/10000 [00:00<?, ?it/s]"
      ]
     },
     "metadata": {},
     "output_type": "display_data"
    },
    {
     "name": "stdout",
     "output_type": "stream",
     "text": [
      "gld_params: [0.04894399 0.01875684 0.334939   0.1205285 ]\n",
      "wrapper([ 5.293e-02  8.057e-01 ...  8.233e-01  8.742e-01]) = -0.004904030706317476\n",
      "assembly_constraint_no_mean([ 5.293e-02  8.057e-01 ...  8.233e-01  8.742e-01]) = [-1.741e-01  3.764e-01 ...  4.654e-02  1.047e+00]\n"
     ]
    },
    {
     "data": {
      "application/vnd.jupyter.widget-view+json": {
       "model_id": "5e326418a9fa432e8dd7470359b12c2a",
       "version_major": 2,
       "version_minor": 0
      },
      "text/plain": [
       "  0%|          | 0/10000 [00:00<?, ?it/s]"
      ]
     },
     "metadata": {},
     "output_type": "display_data"
    },
    {
     "name": "stdout",
     "output_type": "stream",
     "text": [
      "gld_params: [0.04912492 0.01868755 0.3296878  0.1202195 ]\n",
      "wrapper([ 1.292e-01  7.758e-01 ...  4.128e-01  8.018e-01]) = -0.0049474816930205915\n",
      "assembly_constraint_no_mean([ 1.292e-01  7.758e-01 ...  4.128e-01  8.018e-01]) = [-4.058e-01  6.790e-01 ... -5.544e-01 -3.210e-01]\n"
     ]
    },
    {
     "data": {
      "application/vnd.jupyter.widget-view+json": {
       "model_id": "14ba821491e846f39439476cccec65a9",
       "version_major": 2,
       "version_minor": 0
      },
      "text/plain": [
       "  0%|          | 0/10000 [00:00<?, ?it/s]"
      ]
     },
     "metadata": {},
     "output_type": "display_data"
    },
    {
     "name": "stdout",
     "output_type": "stream",
     "text": [
      "gld_params: [0.04933279 0.01872211 0.3227158  0.11099635]\n",
      "wrapper([ 4.064e-01  8.894e-01 ...  3.857e-01  8.594e-01]) = -0.006106928061316829\n",
      "assembly_constraint_no_mean([ 4.064e-01  8.894e-01 ...  3.857e-01  8.594e-01]) = [ 1.889e+00  9.122e-01 ...  4.081e-01 -4.525e-01]\n"
     ]
    },
    {
     "data": {
      "application/vnd.jupyter.widget-view+json": {
       "model_id": "c74d5b5b792b409bbed7495fd53a70ab",
       "version_major": 2,
       "version_minor": 0
      },
      "text/plain": [
       "  0%|          | 0/10000 [00:00<?, ?it/s]"
      ]
     },
     "metadata": {},
     "output_type": "display_data"
    },
    {
     "name": "stdout",
     "output_type": "stream",
     "text": [
      "gld_params: [0.04786106 0.01897968 0.33422247 0.11903997]\n",
      "wrapper([ 2.149e-01  7.188e-01 ...  5.080e-01  9.722e-01]) = -0.006463052864420016\n",
      "assembly_constraint_no_mean([ 2.149e-01  7.188e-01 ...  5.080e-01  9.722e-01]) = [ 1.833e-01  2.201e-01 ...  1.204e+00  4.356e-01]\n"
     ]
    },
    {
     "data": {
      "application/vnd.jupyter.widget-view+json": {
       "model_id": "87cccdafc8f64e03bdc42e2712d617bd",
       "version_major": 2,
       "version_minor": 0
      },
      "text/plain": [
       "  0%|          | 0/10000 [00:00<?, ?it/s]"
      ]
     },
     "metadata": {},
     "output_type": "display_data"
    },
    {
     "name": "stdout",
     "output_type": "stream",
     "text": [
      "gld_params: [0.05000917 0.01847921 0.32549078 0.11653862]\n",
      "wrapper([ 4.882e-02  8.056e-01 ...  3.838e-01  8.883e-01]) = -0.0044597991438396056\n",
      "assembly_constraint_no_mean([ 4.882e-02  8.056e-01 ...  3.838e-01  8.883e-01]) = [-1.335e-01  4.180e-01 ...  1.054e-02 -4.195e-01]\n"
     ]
    },
    {
     "data": {
      "application/vnd.jupyter.widget-view+json": {
       "model_id": "b66840e9c611455ca661961638c17c41",
       "version_major": 2,
       "version_minor": 0
      },
      "text/plain": [
       "  0%|          | 0/10000 [00:00<?, ?it/s]"
      ]
     },
     "metadata": {},
     "output_type": "display_data"
    },
    {
     "name": "stdout",
     "output_type": "stream",
     "text": [
      "gld_params: [0.04927582 0.01860843 0.32727261 0.11347281]\n",
      "wrapper([ 9.547e-02  7.354e-01 ...  5.064e-01  8.168e-01]) = -0.005407097259185346\n",
      "assembly_constraint_no_mean([ 9.547e-02  7.354e-01 ...  5.064e-01  8.168e-01]) = [ 2.175e-01 -1.619e-01 ...  6.410e-01 -3.198e-01]\n"
     ]
    },
    {
     "data": {
      "application/vnd.jupyter.widget-view+json": {
       "model_id": "d7bfef06197c4855857941e3f0d4a291",
       "version_major": 2,
       "version_minor": 0
      },
      "text/plain": [
       "  0%|          | 0/10000 [00:00<?, ?it/s]"
      ]
     },
     "metadata": {},
     "output_type": "display_data"
    },
    {
     "name": "stdout",
     "output_type": "stream",
     "text": [
      "gld_params: [0.05163171 0.01797768 0.32326843 0.10583791]\n",
      "wrapper([ 0.000e+00  5.624e-01 ...  6.048e-01  8.159e-01]) = -0.0035621930923185807\n",
      "assembly_constraint_no_mean([ 0.000e+00  5.624e-01 ...  6.048e-01  8.159e-01]) = [ 3.092e-01 -8.913e-01 ...  9.472e-01 -4.836e-01]\n"
     ]
    },
    {
     "data": {
      "application/vnd.jupyter.widget-view+json": {
       "model_id": "a41a1b9b989f4fc391ef4aa6ff111d47",
       "version_major": 2,
       "version_minor": 0
      },
      "text/plain": [
       "  0%|          | 0/10000 [00:00<?, ?it/s]"
      ]
     },
     "metadata": {},
     "output_type": "display_data"
    },
    {
     "name": "stdout",
     "output_type": "stream",
     "text": [
      "gld_params: [0.04959359 0.0184657  0.32448721 0.11074156]\n",
      "wrapper([ 6.058e-02  7.332e-01 ...  4.958e-01  7.908e-01]) = -0.0052748485871833\n",
      "assembly_constraint_no_mean([ 6.058e-02  7.332e-01 ...  4.958e-01  7.908e-01]) = [ 4.132e-01 -2.006e-01 ...  4.310e-01 -3.289e-01]\n"
     ]
    },
    {
     "data": {
      "application/vnd.jupyter.widget-view+json": {
       "model_id": "f5d46a2eb0e7411fa831a9ea721608ed",
       "version_major": 2,
       "version_minor": 0
      },
      "text/plain": [
       "  0%|          | 0/10000 [00:00<?, ?it/s]"
      ]
     },
     "metadata": {},
     "output_type": "display_data"
    },
    {
     "name": "stdout",
     "output_type": "stream",
     "text": [
      "gld_params: [0.04838062 0.01904962 0.33388772 0.12231438]\n",
      "wrapper([ 2.229e-01  8.217e-01 ...  6.429e-01  8.005e-01]) = -0.005857778920155073\n",
      "assembly_constraint_no_mean([ 2.229e-01  8.217e-01 ...  6.429e-01  8.005e-01]) = [ 4.544e-01  2.811e-01 ...  4.464e-01  7.561e-02]\n"
     ]
    },
    {
     "data": {
      "application/vnd.jupyter.widget-view+json": {
       "model_id": "b3acc4529c024f1c90b7dfe3639001db",
       "version_major": 2,
       "version_minor": 0
      },
      "text/plain": [
       "  0%|          | 0/10000 [00:00<?, ?it/s]"
      ]
     },
     "metadata": {},
     "output_type": "display_data"
    },
    {
     "name": "stdout",
     "output_type": "stream",
     "text": [
      "gld_params: [0.04656421 0.0198913  0.33385585 0.12623697]\n",
      "wrapper([ 5.036e-01  9.522e-01 ...  8.923e-01  7.727e-01]) = -0.009532694465029965\n",
      "assembly_constraint_no_mean([ 5.036e-01  9.522e-01 ...  8.923e-01  7.727e-01]) = [ 1.509e+00  1.147e+00 ...  1.647e+00  1.114e+00]\n"
     ]
    },
    {
     "data": {
      "application/vnd.jupyter.widget-view+json": {
       "model_id": "228973b003df468d845a5b8f8c282872",
       "version_major": 2,
       "version_minor": 0
      },
      "text/plain": [
       "  0%|          | 0/10000 [00:00<?, ?it/s]"
      ]
     },
     "metadata": {},
     "output_type": "display_data"
    },
    {
     "name": "stdout",
     "output_type": "stream",
     "text": [
      "gld_params: [0.04903525 0.01889238 0.32932773 0.12068634]\n",
      "wrapper([ 2.807e-01  7.913e-01 ...  6.325e-01  6.768e-01]) = -0.005407668116002335\n",
      "assembly_constraint_no_mean([ 2.807e-01  7.913e-01 ...  6.325e-01  6.768e-01]) = [ 4.807e-01  5.671e-01 ...  3.341e-01 -2.522e-01]\n"
     ]
    },
    {
     "data": {
      "application/vnd.jupyter.widget-view+json": {
       "model_id": "cc9ecefe49a648ceb1fd5e2b501b06b2",
       "version_major": 2,
       "version_minor": 0
      },
      "text/plain": [
       "  0%|          | 0/10000 [00:00<?, ?it/s]"
      ]
     },
     "metadata": {},
     "output_type": "display_data"
    },
    {
     "name": "stdout",
     "output_type": "stream",
     "text": [
      "gld_params: [0.04844242 0.01926774 0.33431888 0.12595258]\n",
      "wrapper([ 2.934e-01  8.064e-01 ...  6.536e-01  8.428e-01]) = -0.005903772173792226\n",
      "assembly_constraint_no_mean([ 2.934e-01  8.064e-01 ...  6.536e-01  8.428e-01]) = [-1.075e-01 -4.992e-02 ...  1.493e-01  1.476e-01]\n"
     ]
    },
    {
     "data": {
      "application/vnd.jupyter.widget-view+json": {
       "model_id": "b0d27c6046764513be8ffab64adc1adc",
       "version_major": 2,
       "version_minor": 0
      },
      "text/plain": [
       "  0%|          | 0/10000 [00:00<?, ?it/s]"
      ]
     },
     "metadata": {},
     "output_type": "display_data"
    },
    {
     "name": "stdout",
     "output_type": "stream",
     "text": [
      "gld_params: [0.04666606 0.01989145 0.3365246  0.12886458]\n",
      "wrapper([ 5.021e-01  7.658e-01 ...  7.467e-01  8.636e-01]) = -0.008845288304441706\n",
      "assembly_constraint_no_mean([ 5.021e-01  7.658e-01 ...  7.467e-01  8.636e-01]) = [-1.746e-01  2.359e-01 ...  1.098e+00  9.421e-01]\n"
     ]
    },
    {
     "data": {
      "application/vnd.jupyter.widget-view+json": {
       "model_id": "caf19f01037640c9a42e834b41ca3d14",
       "version_major": 2,
       "version_minor": 0
      },
      "text/plain": [
       "  0%|          | 0/10000 [00:00<?, ?it/s]"
      ]
     },
     "metadata": {},
     "output_type": "display_data"
    },
    {
     "name": "stdout",
     "output_type": "stream",
     "text": [
      "gld_params: [0.04858604 0.01931132 0.3332259  0.12579017]\n",
      "wrapper([ 2.836e-01  8.318e-01 ...  6.434e-01  9.343e-01]) = -0.005959586966176003\n",
      "assembly_constraint_no_mean([ 2.836e-01  8.318e-01 ...  6.434e-01  9.343e-01]) = [ 8.358e-02 -1.321e-01 ... -8.055e-01  2.154e+00]\n"
     ]
    },
    {
     "data": {
      "application/vnd.jupyter.widget-view+json": {
       "model_id": "a461e46b52e14e93ad57e0ecef4d73f8",
       "version_major": 2,
       "version_minor": 0
      },
      "text/plain": [
       "  0%|          | 0/10000 [00:00<?, ?it/s]"
      ]
     },
     "metadata": {},
     "output_type": "display_data"
    },
    {
     "name": "stdout",
     "output_type": "stream",
     "text": [
      "gld_params: [0.04801245 0.01971424 0.33313378 0.13201062]\n",
      "wrapper([ 3.910e-01  8.061e-01 ...  6.700e-01  8.171e-01]) = -0.006800071632336394\n",
      "assembly_constraint_no_mean([ 3.910e-01  8.061e-01 ...  6.700e-01  8.171e-01]) = [-3.184e-02  5.248e-01 ...  3.486e-01  4.335e-01]\n"
     ]
    },
    {
     "data": {
      "application/vnd.jupyter.widget-view+json": {
       "model_id": "1815bd880a204e579456db14fb5c8d40",
       "version_major": 2,
       "version_minor": 0
      },
      "text/plain": [
       "  0%|          | 0/10000 [00:00<?, ?it/s]"
      ]
     },
     "metadata": {},
     "output_type": "display_data"
    },
    {
     "name": "stdout",
     "output_type": "stream",
     "text": [
      "gld_params: [0.04867364 0.01932444 0.32897435 0.11921285]\n",
      "wrapper([ 3.091e-01  8.586e-01 ...  6.041e-01  7.064e-01]) = -0.006857034753176971\n",
      "assembly_constraint_no_mean([ 3.091e-01  8.586e-01 ...  6.041e-01  7.064e-01]) = [ 1.258e+00 -9.232e-02 ... -1.565e+00 -7.406e-01]\n"
     ]
    },
    {
     "data": {
      "application/vnd.jupyter.widget-view+json": {
       "model_id": "8b2812c59ffe47d8be3a1c8794e218c5",
       "version_major": 2,
       "version_minor": 0
      },
      "text/plain": [
       "  0%|          | 0/10000 [00:00<?, ?it/s]"
      ]
     },
     "metadata": {},
     "output_type": "display_data"
    },
    {
     "name": "stdout",
     "output_type": "stream",
     "text": [
      "gld_params: [0.04793765 0.0195666  0.3375099  0.12458339]\n",
      "wrapper([ 4.008e-01  7.922e-01 ...  6.103e-01  8.921e-01]) = -0.006989912809905133\n",
      "assembly_constraint_no_mean([ 4.008e-01  7.922e-01 ...  6.103e-01  8.921e-01]) = [ 2.402e-01 -8.071e-01 ... -5.381e-01  9.916e-02]\n"
     ]
    },
    {
     "data": {
      "application/vnd.jupyter.widget-view+json": {
       "model_id": "d4bc341cade741f3be8cd72eba3d2c2d",
       "version_major": 2,
       "version_minor": 0
      },
      "text/plain": [
       "  0%|          | 0/10000 [00:00<?, ?it/s]"
      ]
     },
     "metadata": {},
     "output_type": "display_data"
    },
    {
     "name": "stdout",
     "output_type": "stream",
     "text": [
      "gld_params: [0.04865297 0.01900683 0.33823655 0.1297391 ]\n",
      "wrapper([ 2.861e-01  8.438e-01 ...  6.541e-01  7.953e-01]) = -0.0046275259898547255\n",
      "assembly_constraint_no_mean([ 2.861e-01  8.438e-01 ...  6.541e-01  7.953e-01]) = [ 3.896e-01  1.258e+00 ...  1.304e-01 -1.240e-01]\n"
     ]
    },
    {
     "data": {
      "application/vnd.jupyter.widget-view+json": {
       "model_id": "2d584183e8f04e35ad1534a84eeb97cf",
       "version_major": 2,
       "version_minor": 0
      },
      "text/plain": [
       "  0%|          | 0/10000 [00:00<?, ?it/s]"
      ]
     },
     "metadata": {},
     "output_type": "display_data"
    },
    {
     "name": "stdout",
     "output_type": "stream",
     "text": [
      "gld_params: [0.0471749  0.0198046  0.33954948 0.12328976]\n",
      "wrapper([ 3.258e-01  7.729e-01 ...  6.468e-01  8.992e-01]) = -0.008409570345411772\n",
      "assembly_constraint_no_mean([ 3.258e-01  7.729e-01 ...  6.468e-01  8.992e-01]) = [-6.987e-02 -8.236e-02 ... -2.690e-01  4.198e-01]\n"
     ]
    },
    {
     "data": {
      "application/vnd.jupyter.widget-view+json": {
       "model_id": "89559d6f09b0410bbfb15eb27cda2696",
       "version_major": 2,
       "version_minor": 0
      },
      "text/plain": [
       "  0%|          | 0/10000 [00:00<?, ?it/s]"
      ]
     },
     "metadata": {},
     "output_type": "display_data"
    },
    {
     "name": "stdout",
     "output_type": "stream",
     "text": [
      "gld_params: [0.04926458 0.01879526 0.33408712 0.12400642]\n",
      "wrapper([ 3.062e-01  8.266e-01 ...  6.328e-01  7.718e-01]) = -0.004496493992847638\n",
      "assembly_constraint_no_mean([ 3.062e-01  8.266e-01 ...  6.328e-01  7.718e-01]) = [-1.302e-01 -1.339e-01 ...  4.227e-01  1.208e+00]\n"
     ]
    },
    {
     "data": {
      "application/vnd.jupyter.widget-view+json": {
       "model_id": "b76a21b06d6648baa3a703b690e9b2b7",
       "version_major": 2,
       "version_minor": 0
      },
      "text/plain": [
       "  0%|          | 0/10000 [00:00<?, ?it/s]"
      ]
     },
     "metadata": {},
     "output_type": "display_data"
    },
    {
     "name": "stdout",
     "output_type": "stream",
     "text": [
      "gld_params: [0.04667906 0.02003933 0.33973033 0.12456869]\n",
      "wrapper([ 3.378e-01  7.729e-01 ...  6.627e-01  9.461e-01]) = -0.009507018323116533\n",
      "assembly_constraint_no_mean([ 3.378e-01  7.729e-01 ...  6.627e-01  9.461e-01]) = [ 4.128e-02  2.286e-02 ... -1.513e-02  3.414e-01]\n"
     ]
    },
    {
     "data": {
      "application/vnd.jupyter.widget-view+json": {
       "model_id": "fd8951e944cb44de8a7cbbd83cc59d53",
       "version_major": 2,
       "version_minor": 0
      },
      "text/plain": [
       "  0%|          | 0/10000 [00:00<?, ?it/s]"
      ]
     },
     "metadata": {},
     "output_type": "display_data"
    },
    {
     "name": "stdout",
     "output_type": "stream",
     "text": [
      "gld_params: [0.04583163 0.02073087 0.3417408  0.12481596]\n",
      "wrapper([ 4.400e-01  6.729e-01 ...  6.392e-01  1.000e+00]) = -0.012718283085785318\n",
      "assembly_constraint_no_mean([ 4.400e-01  6.729e-01 ...  6.392e-01  1.000e+00]) = [-4.271e-02  4.954e-01 ...  3.199e-01  1.464e-01]\n"
     ]
    },
    {
     "data": {
      "application/vnd.jupyter.widget-view+json": {
       "model_id": "b77dd65d92414d3893c4b3083dec55e2",
       "version_major": 2,
       "version_minor": 0
      },
      "text/plain": [
       "  0%|          | 0/10000 [00:00<?, ?it/s]"
      ]
     },
     "metadata": {},
     "output_type": "display_data"
    },
    {
     "name": "stdout",
     "output_type": "stream",
     "text": [
      "gld_params: [0.04751074 0.01929046 0.34384807 0.11946654]\n",
      "wrapper([ 3.611e-01  7.194e-01 ...  6.385e-01  1.000e+00]) = -0.006828093671044824\n",
      "assembly_constraint_no_mean([ 3.611e-01  7.194e-01 ...  6.385e-01  1.000e+00]) = [-4.035e-01 -5.081e-01 ... -6.067e-01  1.147e+00]\n"
     ]
    },
    {
     "data": {
      "application/vnd.jupyter.widget-view+json": {
       "model_id": "636468f8e14e47c192356363611d066d",
       "version_major": 2,
       "version_minor": 0
      },
      "text/plain": [
       "  0%|          | 0/10000 [00:00<?, ?it/s]"
      ]
     },
     "metadata": {},
     "output_type": "display_data"
    },
    {
     "name": "stdout",
     "output_type": "stream",
     "text": [
      "gld_params: [0.04614368 0.02062717 0.33930993 0.12438542]\n",
      "wrapper([ 3.599e-01  7.400e-01 ...  7.152e-01  1.000e+00]) = -0.012201016889950041\n",
      "assembly_constraint_no_mean([ 3.599e-01  7.400e-01 ...  7.152e-01  1.000e+00]) = [-1.516e-01  1.651e-01 ... -2.403e-02  5.151e-01]\n"
     ]
    },
    {
     "data": {
      "application/vnd.jupyter.widget-view+json": {
       "model_id": "486ee2696caa475f930cb76b90413d15",
       "version_major": 2,
       "version_minor": 0
      },
      "text/plain": [
       "  0%|          | 0/10000 [00:00<?, ?it/s]"
      ]
     },
     "metadata": {},
     "output_type": "display_data"
    },
    {
     "name": "stdout",
     "output_type": "stream",
     "text": [
      "gld_params: [0.04690926 0.020033   0.33794834 0.12632147]\n",
      "wrapper([ 4.157e-01  7.855e-01 ...  6.597e-01  8.382e-01]) = -0.0091412027894434\n",
      "assembly_constraint_no_mean([ 4.157e-01  7.855e-01 ...  6.597e-01  8.382e-01]) = [ 3.039e-01 -2.873e-01 ...  5.682e-01 -6.515e-01]\n"
     ]
    },
    {
     "data": {
      "application/vnd.jupyter.widget-view+json": {
       "model_id": "75cd93a32692457795976e2d71feb446",
       "version_major": 2,
       "version_minor": 0
      },
      "text/plain": [
       "  0%|          | 0/10000 [00:00<?, ?it/s]"
      ]
     },
     "metadata": {},
     "output_type": "display_data"
    },
    {
     "name": "stdout",
     "output_type": "stream",
     "text": [
      "gld_params: [0.04620747 0.02062111 0.33919333 0.12484981]\n",
      "wrapper([ 3.621e-01  7.580e-01 ...  6.830e-01  9.839e-01]) = -0.012030030261236084\n",
      "assembly_constraint_no_mean([ 3.621e-01  7.580e-01 ...  6.830e-01  9.839e-01]) = [ 2.594e-02  1.888e-01 ...  1.514e-01  2.107e-01]\n"
     ]
    },
    {
     "data": {
      "application/vnd.jupyter.widget-view+json": {
       "model_id": "7c8bbd2f23494badb134a8e06d865234",
       "version_major": 2,
       "version_minor": 0
      },
      "text/plain": [
       "  0%|          | 0/10000 [00:00<?, ?it/s]"
      ]
     },
     "metadata": {},
     "output_type": "display_data"
    },
    {
     "name": "stdout",
     "output_type": "stream",
     "text": [
      "gld_params: [0.04586454 0.02083093 0.33908002 0.13019641]\n",
      "wrapper([ 3.307e-01  6.927e-01 ...  6.750e-01  9.444e-01]) = -0.012535275537752105\n",
      "assembly_constraint_no_mean([ 3.307e-01  6.927e-01 ...  6.750e-01  9.444e-01]) = [ 1.403e-02 -1.827e-02 ...  6.785e-01  4.020e-01]\n"
     ]
    },
    {
     "data": {
      "application/vnd.jupyter.widget-view+json": {
       "model_id": "e980a9ca63044ec2992acb990ba3d8fe",
       "version_major": 2,
       "version_minor": 0
      },
      "text/plain": [
       "  0%|          | 0/10000 [00:00<?, ?it/s]"
      ]
     },
     "metadata": {},
     "output_type": "display_data"
    },
    {
     "name": "stdout",
     "output_type": "stream",
     "text": [
      "gld_params: [0.04513893 0.02121813 0.33974213 0.1278871 ]\n",
      "wrapper([ 3.403e-01  6.778e-01 ...  7.099e-01  9.618e-01]) = -0.015502747434820637\n",
      "assembly_constraint_no_mean([ 3.403e-01  6.778e-01 ...  7.099e-01  9.618e-01]) = [ 2.560e-01  2.577e-01 ...  1.770e-01  2.986e-01]\n"
     ]
    },
    {
     "data": {
      "application/vnd.jupyter.widget-view+json": {
       "model_id": "16e729048eca443fb278aebd3ea257ec",
       "version_major": 2,
       "version_minor": 0
      },
      "text/plain": [
       "  0%|          | 0/10000 [00:00<?, ?it/s]"
      ]
     },
     "metadata": {},
     "output_type": "display_data"
    },
    {
     "name": "stdout",
     "output_type": "stream",
     "text": [
      "gld_params: [0.04657498 0.02007265 0.34307204 0.12590223]\n",
      "wrapper([ 3.151e-01  7.181e-01 ...  6.823e-01  9.681e-01]) = -0.009270319766886496\n",
      "assembly_constraint_no_mean([ 3.151e-01  7.181e-01 ...  6.823e-01  9.681e-01]) = [ 8.979e-02 -1.133e-01 ...  1.630e+00  7.429e-01]\n"
     ]
    },
    {
     "data": {
      "application/vnd.jupyter.widget-view+json": {
       "model_id": "c1c2f2ee5c5840b28ec720b84b1d1483",
       "version_major": 2,
       "version_minor": 0
      },
      "text/plain": [
       "  0%|          | 0/10000 [00:00<?, ?it/s]"
      ]
     },
     "metadata": {},
     "output_type": "display_data"
    },
    {
     "name": "stdout",
     "output_type": "stream",
     "text": [
      "gld_params: [0.04550548 0.02107197 0.33959151 0.12701717]\n",
      "wrapper([ 3.446e-01  6.445e-01 ...  6.894e-01  9.512e-01]) = -0.014429963331620865\n",
      "assembly_constraint_no_mean([ 3.446e-01  6.445e-01 ...  6.894e-01  9.512e-01]) = [ 1.688e-01  9.715e-02 ...  2.429e-01  1.935e-01]\n"
     ]
    },
    {
     "data": {
      "application/vnd.jupyter.widget-view+json": {
       "model_id": "44db85f7e1bf42b98155e19f0a8a1eea",
       "version_major": 2,
       "version_minor": 0
      },
      "text/plain": [
       "  0%|          | 0/10000 [00:00<?, ?it/s]"
      ]
     },
     "metadata": {},
     "output_type": "display_data"
    },
    {
     "name": "stdout",
     "output_type": "stream",
     "text": [
      "gld_params: [0.04499283 0.0220048  0.33930353 0.12890428]\n",
      "wrapper([ 2.669e-01  5.886e-01 ...  7.775e-01  9.444e-01]) = -0.018961859518023746\n",
      "assembly_constraint_no_mean([ 2.669e-01  5.886e-01 ...  7.775e-01  9.444e-01]) = [-2.292e-01  5.433e-01 ...  3.765e-01  1.474e-01]\n"
     ]
    },
    {
     "data": {
      "application/vnd.jupyter.widget-view+json": {
       "model_id": "d7eeb775d3f7443098b7260f89e289df",
       "version_major": 2,
       "version_minor": 0
      },
      "text/plain": [
       "  0%|          | 0/10000 [00:00<?, ?it/s]"
      ]
     },
     "metadata": {},
     "output_type": "display_data"
    },
    {
     "name": "stdout",
     "output_type": "stream",
     "text": [
      "gld_params: [0.04603183 0.02085952 0.33693566 0.12616691]\n",
      "wrapper([ 3.881e-01  9.111e-01 ...  6.644e-01  9.474e-01]) = -0.013196962992243383\n",
      "assembly_constraint_no_mean([ 3.881e-01  9.111e-01 ...  6.644e-01  9.474e-01]) = [ 4.172e-01  7.110e-01 ...  3.207e-01  8.101e-02]\n"
     ]
    },
    {
     "data": {
      "application/vnd.jupyter.widget-view+json": {
       "model_id": "a377fdd70c0e42c4b59d8923263be41d",
       "version_major": 2,
       "version_minor": 0
      },
      "text/plain": [
       "  0%|          | 0/10000 [00:00<?, ?it/s]"
      ]
     },
     "metadata": {},
     "output_type": "display_data"
    },
    {
     "name": "stdout",
     "output_type": "stream",
     "text": [
      "gld_params: [0.04504585 0.02174438 0.33971054 0.12737641]\n",
      "wrapper([ 3.605e-01  5.033e-01 ...  7.163e-01  9.940e-01]) = -0.01793196884505294\n",
      "assembly_constraint_no_mean([ 3.605e-01  5.033e-01 ...  7.163e-01  9.940e-01]) = [ 5.002e-01 -7.208e-02 ...  1.183e-01  3.270e-01]\n"
     ]
    },
    {
     "data": {
      "application/vnd.jupyter.widget-view+json": {
       "model_id": "614255c1f722499bbae0223b5179b72e",
       "version_major": 2,
       "version_minor": 0
      },
      "text/plain": [
       "  0%|          | 0/10000 [00:00<?, ?it/s]"
      ]
     },
     "metadata": {},
     "output_type": "display_data"
    },
    {
     "name": "stdout",
     "output_type": "stream",
     "text": [
      "gld_params: [0.04654374 0.02066087 0.33442295 0.12200011]\n",
      "wrapper([ 4.253e-01  6.831e-01 ...  6.970e-01  9.365e-01]) = -0.012571098881632046\n",
      "assembly_constraint_no_mean([ 4.253e-01  6.831e-01 ...  6.970e-01  9.365e-01]) = [-2.351e-01 -1.413e+00 ... -1.833e-01  2.637e-01]\n"
     ]
    },
    {
     "data": {
      "application/vnd.jupyter.widget-view+json": {
       "model_id": "b0888ca96e4e4160aa9190e9711f121f",
       "version_major": 2,
       "version_minor": 0
      },
      "text/plain": [
       "  0%|          | 0/10000 [00:00<?, ?it/s]"
      ]
     },
     "metadata": {},
     "output_type": "display_data"
    },
    {
     "name": "stdout",
     "output_type": "stream",
     "text": [
      "gld_params: [0.04519818 0.0217195  0.33936723 0.12793063]\n",
      "wrapper([ 3.642e-01  4.958e-01 ...  7.189e-01  9.636e-01]) = -0.017474558465708927\n",
      "assembly_constraint_no_mean([ 3.642e-01  4.958e-01 ...  7.189e-01  9.636e-01]) = [ 4.074e-01  1.036e-01 ...  6.709e-02  1.746e-01]\n"
     ]
    },
    {
     "data": {
      "application/vnd.jupyter.widget-view+json": {
       "model_id": "3e651a753255482695065d26c1316010",
       "version_major": 2,
       "version_minor": 0
      },
      "text/plain": [
       "  0%|          | 0/10000 [00:00<?, ?it/s]"
      ]
     },
     "metadata": {},
     "output_type": "display_data"
    },
    {
     "name": "stdout",
     "output_type": "stream",
     "text": [
      "gld_params: [0.04673161 0.02059514 0.33695517 0.12364804]\n",
      "wrapper([ 2.999e-01  9.120e-01 ...  6.731e-01  9.885e-01]) = -0.011565482857256814\n",
      "assembly_constraint_no_mean([ 2.999e-01  9.120e-01 ...  6.731e-01  9.885e-01]) = [ 1.465e+00 -1.845e-01 ...  1.526e-01  1.773e-01]\n"
     ]
    },
    {
     "data": {
      "application/vnd.jupyter.widget-view+json": {
       "model_id": "c7c691f4a0334f1b9f92cc6e900b25a5",
       "version_major": 2,
       "version_minor": 0
      },
      "text/plain": [
       "  0%|          | 0/10000 [00:00<?, ?it/s]"
      ]
     },
     "metadata": {},
     "output_type": "display_data"
    },
    {
     "name": "stdout",
     "output_type": "stream",
     "text": [
      "gld_params: [0.04506718 0.0217529  0.33985989 0.12788396]\n",
      "wrapper([ 2.798e-01  5.097e-01 ...  7.490e-01  9.585e-01]) = -0.0178168722354994\n",
      "assembly_constraint_no_mean([ 2.798e-01  5.097e-01 ...  7.490e-01  9.585e-01]) = [ 2.566e-01  2.787e-03 ...  2.799e-02  1.618e-01]\n"
     ]
    },
    {
     "data": {
      "application/vnd.jupyter.widget-view+json": {
       "model_id": "f85eb90e0a4d49a982edea9110e9109f",
       "version_major": 2,
       "version_minor": 0
      },
      "text/plain": [
       "  0%|          | 0/10000 [00:00<?, ?it/s]"
      ]
     },
     "metadata": {},
     "output_type": "display_data"
    },
    {
     "name": "stdout",
     "output_type": "stream",
     "text": [
      "gld_params: [0.04511314 0.02244471 0.33879788 0.12847843]\n",
      "wrapper([ 0.000e+00  4.840e-01 ...  8.208e-01  9.877e-01]) = -0.02081378539432271\n",
      "assembly_constraint_no_mean([ 0.000e+00  4.840e-01 ...  8.208e-01  9.877e-01]) = [ 2.053e-01  3.747e-01 ...  2.431e-01  2.891e-01]\n"
     ]
    },
    {
     "data": {
      "application/vnd.jupyter.widget-view+json": {
       "model_id": "2c76e4d19a5942a49f5936da51f89e3b",
       "version_major": 2,
       "version_minor": 0
      },
      "text/plain": [
       "  0%|          | 0/10000 [00:00<?, ?it/s]"
      ]
     },
     "metadata": {},
     "output_type": "display_data"
    },
    {
     "name": "stdout",
     "output_type": "stream",
     "text": [
      "gld_params: [0.04725611 0.02117292 0.33254628 0.12854432]\n",
      "wrapper([ 3.513e-01  4.272e-01 ...  6.060e-01  8.762e-01]) = -0.012503764610939475\n",
      "assembly_constraint_no_mean([ 3.513e-01  4.272e-01 ...  6.060e-01  8.762e-01]) = [-7.803e-01 -6.533e-02 ... -1.878e+00 -1.110e+00]\n"
     ]
    },
    {
     "data": {
      "application/vnd.jupyter.widget-view+json": {
       "model_id": "04beb3c6620a4dfbbbb2e27d126a5964",
       "version_major": 2,
       "version_minor": 0
      },
      "text/plain": [
       "  0%|          | 0/10000 [00:00<?, ?it/s]"
      ]
     },
     "metadata": {},
     "output_type": "display_data"
    },
    {
     "name": "stdout",
     "output_type": "stream",
     "text": [
      "gld_params: [0.04514243 0.02215914 0.33903834 0.1263047 ]\n",
      "wrapper([ 4.779e-02  5.227e-01 ...  8.511e-01  9.126e-01]) = -0.0198187390690681\n",
      "assembly_constraint_no_mean([ 4.779e-02  5.227e-01 ...  8.511e-01  9.126e-01]) = [ 1.987e-01  1.740e-01 ...  3.479e-01  1.221e-01]\n"
     ]
    },
    {
     "data": {
      "application/vnd.jupyter.widget-view+json": {
       "model_id": "f92d12f2830a45379862b81e912ea9a3",
       "version_major": 2,
       "version_minor": 0
      },
      "text/plain": [
       "  0%|          | 0/10000 [00:00<?, ?it/s]"
      ]
     },
     "metadata": {},
     "output_type": "display_data"
    },
    {
     "name": "stdout",
     "output_type": "stream",
     "text": [
      "gld_params: [0.04673375 0.02116367 0.33812496 0.12787602]\n",
      "wrapper([ 1.682e-01  5.650e-01 ...  6.329e-01  9.657e-01]) = -0.012762611272372458\n",
      "assembly_constraint_no_mean([ 1.682e-01  5.650e-01 ...  6.329e-01  9.657e-01]) = [-5.656e-01 -1.219e+00 ...  1.054e-01 -3.312e-01]\n"
     ]
    },
    {
     "data": {
      "application/vnd.jupyter.widget-view+json": {
       "model_id": "3c22d7ce1cd4422a9f47e2a994def745",
       "version_major": 2,
       "version_minor": 0
      },
      "text/plain": [
       "  0%|          | 0/10000 [00:00<?, ?it/s]"
      ]
     },
     "metadata": {},
     "output_type": "display_data"
    },
    {
     "name": "stdout",
     "output_type": "stream",
     "text": [
      "gld_params: [0.04497979 0.02235404 0.33812437 0.12902478]\n",
      "wrapper([ 3.255e-01  4.019e-01 ...  8.314e-01  9.499e-01]) = -0.020707994754024666\n",
      "assembly_constraint_no_mean([ 3.255e-01  4.019e-01 ...  8.314e-01  9.499e-01]) = [ 1.042e-01  1.867e-01 ...  3.132e-01  2.114e-01]\n"
     ]
    },
    {
     "data": {
      "application/vnd.jupyter.widget-view+json": {
       "model_id": "2fb6df45a74e48b094d41716b21436a5",
       "version_major": 2,
       "version_minor": 0
      },
      "text/plain": [
       "  0%|          | 0/10000 [00:00<?, ?it/s]"
      ]
     },
     "metadata": {},
     "output_type": "display_data"
    },
    {
     "name": "stdout",
     "output_type": "stream",
     "text": [
      "gld_params: [0.04529947 0.02164197 0.33672001 0.12589168]\n",
      "wrapper([ 1.541e-01  5.227e-01 ...  7.194e-01  1.000e+00]) = -0.017653452395180007\n",
      "assembly_constraint_no_mean([ 1.541e-01  5.227e-01 ...  7.194e-01  1.000e+00]) = [-1.159e-01  1.230e+00 ... -8.039e-01  5.661e-01]\n"
     ]
    },
    {
     "data": {
      "application/vnd.jupyter.widget-view+json": {
       "model_id": "f386cea553ac48e29276822aed7f533c",
       "version_major": 2,
       "version_minor": 0
      },
      "text/plain": [
       "  0%|          | 0/10000 [00:00<?, ?it/s]"
      ]
     },
     "metadata": {},
     "output_type": "display_data"
    },
    {
     "name": "stdout",
     "output_type": "stream",
     "text": [
      "gld_params: [0.04501881 0.02232858 0.33831703 0.13029318]\n",
      "wrapper([ 2.668e-01  4.388e-01 ...  8.082e-01  9.436e-01]) = -0.02024566633587113\n",
      "assembly_constraint_no_mean([ 2.668e-01  4.388e-01 ...  8.082e-01  9.436e-01]) = [ 1.236e-01  2.803e-01 ...  1.377e-01  1.571e-01]\n"
     ]
    },
    {
     "data": {
      "application/vnd.jupyter.widget-view+json": {
       "model_id": "821e52f852ed453faa54e8598d3a602d",
       "version_major": 2,
       "version_minor": 0
      },
      "text/plain": [
       "  0%|          | 0/10000 [00:00<?, ?it/s]"
      ]
     },
     "metadata": {},
     "output_type": "display_data"
    },
    {
     "name": "stdout",
     "output_type": "stream",
     "text": [
      "gld_params: [0.04522499 0.02133062 0.3421655  0.12029707]\n",
      "wrapper([ 3.428e-01  5.336e-01 ...  7.184e-01  9.547e-01]) = -0.016701929207196632\n",
      "assembly_constraint_no_mean([ 3.428e-01  5.336e-01 ...  7.184e-01  9.547e-01]) = [ 1.292e+00  5.928e-01 ...  1.258e-01  9.636e-02]\n"
     ]
    },
    {
     "data": {
      "application/vnd.jupyter.widget-view+json": {
       "model_id": "0a040cce2e1647e38c1353e08fa591d3",
       "version_major": 2,
       "version_minor": 0
      },
      "text/plain": [
       "  0%|          | 0/10000 [00:00<?, ?it/s]"
      ]
     },
     "metadata": {},
     "output_type": "display_data"
    },
    {
     "name": "stdout",
     "output_type": "stream",
     "text": [
      "gld_params: [0.04506456 0.02222084 0.33734996 0.12759241]\n",
      "wrapper([ 3.075e-01  4.280e-01 ...  7.874e-01  9.773e-01]) = -0.020292656510745716\n",
      "assembly_constraint_no_mean([ 3.075e-01  4.280e-01 ...  7.874e-01  9.773e-01]) = [ 2.071e-01  9.887e-02 ...  2.337e-01  2.210e-01]\n"
     ]
    },
    {
     "data": {
      "application/vnd.jupyter.widget-view+json": {
       "model_id": "5e10c4bf4f3542f7a6694dcfd6bca54d",
       "version_major": 2,
       "version_minor": 0
      },
      "text/plain": [
       "  0%|          | 0/10000 [00:00<?, ?it/s]"
      ]
     },
     "metadata": {},
     "output_type": "display_data"
    },
    {
     "name": "stdout",
     "output_type": "stream",
     "text": [
      "gld_params: [0.04616774 0.02169225 0.33223176 0.12418161]\n",
      "wrapper([ 2.820e-01  6.528e-01 ...  7.709e-01  9.960e-01]) = -0.01705485193600697\n",
      "assembly_constraint_no_mean([ 2.820e-01  6.528e-01 ...  7.709e-01  9.960e-01]) = [ 7.796e-01  2.042e-02 ... -1.036e+00  5.374e-01]\n"
     ]
    },
    {
     "data": {
      "application/vnd.jupyter.widget-view+json": {
       "model_id": "f568eb36b89149faa7607aff0ddee2f9",
       "version_major": 2,
       "version_minor": 0
      },
      "text/plain": [
       "  0%|          | 0/10000 [00:00<?, ?it/s]"
      ]
     },
     "metadata": {},
     "output_type": "display_data"
    },
    {
     "name": "stdout",
     "output_type": "stream",
     "text": [
      "gld_params: [0.04488164 0.02232934 0.34027723 0.13025758]\n",
      "wrapper([ 3.141e-01  4.098e-01 ...  8.705e-01  9.214e-01]) = -0.02026120422316701\n",
      "assembly_constraint_no_mean([ 3.141e-01  4.098e-01 ...  8.705e-01  9.214e-01]) = [ 8.638e-02  4.501e-02 ...  2.069e-01  1.835e-01]\n"
     ]
    },
    {
     "data": {
      "application/vnd.jupyter.widget-view+json": {
       "model_id": "92e367c6544a4fc5af66a4af4ede0b56",
       "version_major": 2,
       "version_minor": 0
      },
      "text/plain": [
       "  0%|          | 0/10000 [00:00<?, ?it/s]"
      ]
     },
     "metadata": {},
     "output_type": "display_data"
    },
    {
     "name": "stdout",
     "output_type": "stream",
     "text": [
      "gld_params: [0.04551523 0.02249396 0.34014423 0.12745752]\n",
      "wrapper([ 0.000e+00  3.285e-01 ...  8.827e-01  8.500e-01]) = -0.0201161166484007\n",
      "assembly_constraint_no_mean([ 0.000e+00  3.285e-01 ...  8.827e-01  8.500e-01]) = [ 1.198e-01  5.025e-01 ... -4.919e-01 -5.047e-02]\n"
     ]
    },
    {
     "data": {
      "application/vnd.jupyter.widget-view+json": {
       "model_id": "94f0bd6a86ad4a089c764ce9f7a6be5f",
       "version_major": 2,
       "version_minor": 0
      },
      "text/plain": [
       "  0%|          | 0/10000 [00:00<?, ?it/s]"
      ]
     },
     "metadata": {},
     "output_type": "display_data"
    },
    {
     "name": "stdout",
     "output_type": "stream",
     "text": [
      "gld_params: [0.0473926  0.02136947 0.33211082 0.12568464]\n",
      "wrapper([ 3.631e-01  4.468e-01 ...  7.895e-01  8.176e-01]) = -0.013444544046068143\n",
      "assembly_constraint_no_mean([ 3.631e-01  4.468e-01 ...  7.895e-01  8.176e-01]) = [-6.831e-01 -7.192e-01 ...  6.869e-02 -8.517e-01]\n"
     ]
    },
    {
     "data": {
      "application/vnd.jupyter.widget-view+json": {
       "model_id": "6f9e4e6bdff14fec81990afdfc071cb8",
       "version_major": 2,
       "version_minor": 0
      },
      "text/plain": [
       "  0%|          | 0/10000 [00:00<?, ?it/s]"
      ]
     },
     "metadata": {},
     "output_type": "display_data"
    },
    {
     "name": "stdout",
     "output_type": "stream",
     "text": [
      "gld_params: [0.04432111 0.02301441 0.34119902 0.13432414]\n",
      "wrapper([ 3.459e-01  3.101e-01 ...  9.158e-01  9.689e-01]) = -0.023921814768079704\n",
      "assembly_constraint_no_mean([ 3.459e-01  3.101e-01 ...  9.158e-01  9.689e-01]) = [-1.563e-01  4.907e-01 ... -1.175e-02  3.370e-01]\n"
     ]
    },
    {
     "data": {
      "application/vnd.jupyter.widget-view+json": {
       "model_id": "4e0bb9d696fb42c0a782375154f4ce43",
       "version_major": 2,
       "version_minor": 0
      },
      "text/plain": [
       "  0%|          | 0/10000 [00:00<?, ?it/s]"
      ]
     },
     "metadata": {},
     "output_type": "display_data"
    },
    {
     "name": "stdout",
     "output_type": "stream",
     "text": [
      "gld_params: [0.04533751 0.02223325 0.33853198 0.12840631]\n",
      "wrapper([ 2.240e-01  3.509e-01 ...  8.697e-01  9.518e-01]) = -0.019427134570169292\n",
      "assembly_constraint_no_mean([ 2.240e-01  3.509e-01 ...  8.697e-01  9.518e-01]) = [-1.892e+00  7.213e-01 ...  5.710e-01  3.533e-01]\n"
     ]
    },
    {
     "data": {
      "application/vnd.jupyter.widget-view+json": {
       "model_id": "76665413dd1a410e826ee2b2b8830c73",
       "version_major": 2,
       "version_minor": 0
      },
      "text/plain": [
       "  0%|          | 0/10000 [00:00<?, ?it/s]"
      ]
     },
     "metadata": {},
     "output_type": "display_data"
    },
    {
     "name": "stdout",
     "output_type": "stream",
     "text": [
      "gld_params: [0.04459691 0.02291971 0.3417321  0.13377771]\n",
      "wrapper([ 3.509e-01  2.960e-01 ...  9.353e-01  9.469e-01]) = -0.022784536149775585\n",
      "assembly_constraint_no_mean([ 3.509e-01  2.960e-01 ...  9.353e-01  9.469e-01]) = [-2.001e-01  2.775e-01 ...  1.852e-01  3.257e-01]\n"
     ]
    },
    {
     "data": {
      "application/vnd.jupyter.widget-view+json": {
       "model_id": "6d4786a0cf33493fa354b202769f2061",
       "version_major": 2,
       "version_minor": 0
      },
      "text/plain": [
       "  0%|          | 0/10000 [00:00<?, ?it/s]"
      ]
     },
     "metadata": {},
     "output_type": "display_data"
    },
    {
     "name": "stdout",
     "output_type": "stream",
     "text": [
      "gld_params: [0.04584352 0.02201021 0.33379956 0.13109822]\n",
      "wrapper([ 2.755e-01  3.557e-01 ...  7.527e-01  5.530e-01]) = -0.01763208644601162\n",
      "assembly_constraint_no_mean([ 2.755e-01  3.557e-01 ...  7.527e-01  5.530e-01]) = [-5.740e-02 -4.462e-03 ...  7.048e-01 -2.086e+00]\n"
     ]
    },
    {
     "data": {
      "application/vnd.jupyter.widget-view+json": {
       "model_id": "d916f6bfe60e4417b96f544946130e54",
       "version_major": 2,
       "version_minor": 0
      },
      "text/plain": [
       "  0%|          | 0/10000 [00:00<?, ?it/s]"
      ]
     },
     "metadata": {},
     "output_type": "display_data"
    },
    {
     "name": "stdout",
     "output_type": "stream",
     "text": [
      "gld_params: [0.04451541 0.0229005  0.34145054 0.13314495]\n",
      "wrapper([ 3.413e-01  2.660e-01 ...  8.747e-01  9.172e-01]) = -0.02306256066566549\n",
      "assembly_constraint_no_mean([ 3.413e-01  2.660e-01 ...  8.747e-01  9.172e-01]) = [ 4.121e-02  2.342e-01 ...  2.082e-01 -4.747e-02]\n"
     ]
    },
    {
     "data": {
      "application/vnd.jupyter.widget-view+json": {
       "model_id": "ed6d5f3e421a4b918b789d3b1f88f090",
       "version_major": 2,
       "version_minor": 0
      },
      "text/plain": [
       "  0%|          | 0/10000 [00:00<?, ?it/s]"
      ]
     },
     "metadata": {},
     "output_type": "display_data"
    },
    {
     "name": "stdout",
     "output_type": "stream",
     "text": [
      "gld_params: [0.04606912 0.02173368 0.33736649 0.12727143]\n",
      "wrapper([ 4.018e-01  3.646e-01 ...  8.948e-01  9.103e-01]) = -0.016216216633340514\n",
      "assembly_constraint_no_mean([ 4.018e-01  3.646e-01 ...  8.948e-01  9.103e-01]) = [-3.942e-01  5.738e-01 ...  1.050e-01  2.450e-02]\n"
     ]
    },
    {
     "data": {
      "application/vnd.jupyter.widget-view+json": {
       "model_id": "1935976c83f649bca3f468e6a0abd186",
       "version_major": 2,
       "version_minor": 0
      },
      "text/plain": [
       "  0%|          | 0/10000 [00:00<?, ?it/s]"
      ]
     },
     "metadata": {},
     "output_type": "display_data"
    },
    {
     "name": "stdout",
     "output_type": "stream",
     "text": [
      "gld_params: [0.04446563 0.0229056  0.34213246 0.13383063]\n",
      "wrapper([ 3.025e-01  2.952e-01 ...  9.103e-01  9.164e-01]) = -0.022963547097580465\n",
      "assembly_constraint_no_mean([ 3.025e-01  2.952e-01 ...  9.103e-01  9.164e-01]) = [-4.947e-02  1.338e-01 ...  1.453e-01  1.409e-01]\n"
     ]
    },
    {
     "data": {
      "application/vnd.jupyter.widget-view+json": {
       "model_id": "b7450af8d6b244b5b8572e64835fa238",
       "version_major": 2,
       "version_minor": 0
      },
      "text/plain": [
       "  0%|          | 0/10000 [00:00<?, ?it/s]"
      ]
     },
     "metadata": {},
     "output_type": "display_data"
    },
    {
     "name": "stdout",
     "output_type": "stream",
     "text": [
      "gld_params: [0.04649956 0.02175415 0.33637524 0.12792656]\n",
      "wrapper([ 3.146e-01  4.516e-01 ...  7.637e-01  8.779e-01]) = -0.015527862717927443\n",
      "assembly_constraint_no_mean([ 3.146e-01  4.516e-01 ...  7.637e-01  8.779e-01]) = [-1.111e+00 -7.555e-01 ... -1.117e+00 -3.802e-01]\n"
     ]
    },
    {
     "data": {
      "application/vnd.jupyter.widget-view+json": {
       "model_id": "0c35c3cdc1fb460190c4c4f6a66c3583",
       "version_major": 2,
       "version_minor": 0
      },
      "text/plain": [
       "  0%|          | 0/10000 [00:00<?, ?it/s]"
      ]
     },
     "metadata": {},
     "output_type": "display_data"
    },
    {
     "name": "stdout",
     "output_type": "stream",
     "text": [
      "gld_params: [0.04449254 0.02289851 0.34168918 0.1337196 ]\n",
      "wrapper([ 3.172e-01  2.962e-01 ...  9.043e-01  9.283e-01]) = -0.022959075007520403\n",
      "assembly_constraint_no_mean([ 3.172e-01  2.962e-01 ...  9.043e-01  9.283e-01]) = [ 5.272e-02  2.082e-01 ...  1.092e-01  1.519e-01]\n"
     ]
    },
    {
     "data": {
      "application/vnd.jupyter.widget-view+json": {
       "model_id": "1cf1bdb3ee384a42b0b8bc0b9617301a",
       "version_major": 2,
       "version_minor": 0
      },
      "text/plain": [
       "  0%|          | 0/10000 [00:00<?, ?it/s]"
      ]
     },
     "metadata": {},
     "output_type": "display_data"
    },
    {
     "name": "stdout",
     "output_type": "stream",
     "text": [
      "gld_params: [0.0443246  0.02314518 0.34257508 0.1319316 ]\n",
      "wrapper([ 7.577e-01  3.058e-02 ...  8.394e-01  9.674e-01]) = -0.02478512911556827\n",
      "assembly_constraint_no_mean([ 7.577e-01  3.058e-02 ...  8.394e-01  9.674e-01]) = [ 1.127e+00  3.262e-01 ... -2.624e-02 -5.699e-02]\n"
     ]
    },
    {
     "data": {
      "application/vnd.jupyter.widget-view+json": {
       "model_id": "676fdbe9af0e4d37b14280d8201ed209",
       "version_major": 2,
       "version_minor": 0
      },
      "text/plain": [
       "  0%|          | 0/10000 [00:00<?, ?it/s]"
      ]
     },
     "metadata": {},
     "output_type": "display_data"
    },
    {
     "name": "stdout",
     "output_type": "stream",
     "text": [
      "gld_params: [0.0456592  0.02272408 0.33536349 0.13479581]\n",
      "wrapper([ 3.463e-01  3.087e-01 ...  8.679e-01  9.153e-01]) = -0.020233371373546805\n",
      "assembly_constraint_no_mean([ 3.463e-01  3.087e-01 ...  8.679e-01  9.153e-01]) = [ 5.327e-01  4.826e-01 ... -1.853e-01 -1.927e-02]\n"
     ]
    },
    {
     "data": {
      "application/vnd.jupyter.widget-view+json": {
       "model_id": "9460f218af9e4f50865143de179d1ef8",
       "version_major": 2,
       "version_minor": 0
      },
      "text/plain": [
       "  0%|          | 0/10000 [00:00<?, ?it/s]"
      ]
     },
     "metadata": {},
     "output_type": "display_data"
    },
    {
     "name": "stdout",
     "output_type": "stream",
     "text": [
      "gld_params: [0.04464601 0.02325635 0.3454984  0.13674776]\n",
      "wrapper([ 1.471e-01  1.797e-01 ...  1.000e+00  9.259e-01]) = -0.02306342210673054\n",
      "assembly_constraint_no_mean([ 1.471e-01  1.797e-01 ...  1.000e+00  9.259e-01]) = [ 4.460e-01 -6.787e-02 ...  5.813e-02  4.728e-01]\n"
     ]
    },
    {
     "data": {
      "application/vnd.jupyter.widget-view+json": {
       "model_id": "c4a4d070fe6e479abd74be47e8a18e08",
       "version_major": 2,
       "version_minor": 0
      },
      "text/plain": [
       "  0%|          | 0/10000 [00:00<?, ?it/s]"
      ]
     },
     "metadata": {},
     "output_type": "display_data"
    },
    {
     "name": "stdout",
     "output_type": "stream",
     "text": [
      "gld_params: [0.04444998 0.02289622 0.33876268 0.13875542]\n",
      "wrapper([ 4.112e-01  3.542e-01 ...  9.296e-01  8.981e-01]) = -0.022584489528676362\n",
      "assembly_constraint_no_mean([ 4.112e-01  3.542e-01 ...  9.296e-01  8.981e-01]) = [ 4.024e-03 -6.930e-01 ...  1.193e+00 -2.091e-02]\n"
     ]
    },
    {
     "data": {
      "application/vnd.jupyter.widget-view+json": {
       "model_id": "45cfc8f8b6654d1daddfa01da11a75db",
       "version_major": 2,
       "version_minor": 0
      },
      "text/plain": [
       "  0%|          | 0/10000 [00:00<?, ?it/s]"
      ]
     },
     "metadata": {},
     "output_type": "display_data"
    },
    {
     "name": "stdout",
     "output_type": "stream",
     "text": [
      "gld_params: [0.04460016 0.02302624 0.34234023 0.13471295]\n",
      "wrapper([ 6.325e-01  1.467e-01 ...  9.232e-01  9.137e-01]) = -0.023005775727169685\n",
      "assembly_constraint_no_mean([ 6.325e-01  1.467e-01 ...  9.232e-01  9.137e-01]) = [ 3.118e-01  1.728e-01 ...  1.587e-01  6.524e-02]\n"
     ]
    },
    {
     "data": {
      "application/vnd.jupyter.widget-view+json": {
       "model_id": "f156f794ccb34c1dbf36a5bac902bf7d",
       "version_major": 2,
       "version_minor": 0
      },
      "text/plain": [
       "  0%|          | 0/10000 [00:00<?, ?it/s]"
      ]
     },
     "metadata": {},
     "output_type": "display_data"
    },
    {
     "name": "stdout",
     "output_type": "stream",
     "text": [
      "gld_params: [0.04505647 0.02276774 0.34256953 0.13880884]\n",
      "wrapper([ 3.399e-01  3.664e-01 ...  1.000e+00  7.977e-01]) = -0.019931418158102426\n",
      "assembly_constraint_no_mean([ 3.399e-01  3.664e-01 ...  1.000e+00  7.977e-01]) = [ 1.337e-01 -4.942e-01 ...  1.043e+00 -2.375e-02]\n"
     ]
    },
    {
     "data": {
      "application/vnd.jupyter.widget-view+json": {
       "model_id": "62056bc1befe4d749b987ca9cd20819c",
       "version_major": 2,
       "version_minor": 0
      },
      "text/plain": [
       "  0%|          | 0/10000 [00:00<?, ?it/s]"
      ]
     },
     "metadata": {},
     "output_type": "display_data"
    },
    {
     "name": "stdout",
     "output_type": "stream",
     "text": [
      "gld_params: [0.04413866 0.02337527 0.34547744 0.13626779]\n",
      "wrapper([ 3.173e-01  1.448e-01 ...  8.164e-01  1.000e+00]) = -0.025043854233367076\n",
      "assembly_constraint_no_mean([ 3.173e-01  1.448e-01 ...  8.164e-01  1.000e+00]) = [ 9.426e-03  3.283e-01 ...  2.695e-01  3.334e-02]\n"
     ]
    },
    {
     "data": {
      "application/vnd.jupyter.widget-view+json": {
       "model_id": "ca9b7cc5375c427196bcc6d7f6c3861e",
       "version_major": 2,
       "version_minor": 0
      },
      "text/plain": [
       "  0%|          | 0/10000 [00:00<?, ?it/s]"
      ]
     },
     "metadata": {},
     "output_type": "display_data"
    },
    {
     "name": "stdout",
     "output_type": "stream",
     "text": [
      "gld_params: [0.04611181 0.0219721  0.34424574 0.13222087]\n",
      "wrapper([ 3.440e-01  1.909e-01 ...  8.958e-01  9.337e-01]) = -0.015372706944573706\n",
      "assembly_constraint_no_mean([ 3.440e-01  1.909e-01 ...  8.958e-01  9.337e-01]) = [-6.215e-01 -1.155e-01 ...  4.454e-02  1.444e-01]\n"
     ]
    },
    {
     "data": {
      "application/vnd.jupyter.widget-view+json": {
       "model_id": "f0483b0553604b5eb031333ca0edff5a",
       "version_major": 2,
       "version_minor": 0
      },
      "text/plain": [
       "  0%|          | 0/10000 [00:00<?, ?it/s]"
      ]
     },
     "metadata": {},
     "output_type": "display_data"
    },
    {
     "name": "stdout",
     "output_type": "stream",
     "text": [
      "gld_params: [0.04405209 0.02353825 0.34574237 0.13847731]\n",
      "wrapper([ 2.116e-01  2.678e-01 ...  8.110e-01  1.000e+00]) = -0.025604938892082547\n",
      "assembly_constraint_no_mean([ 2.116e-01  2.678e-01 ...  8.110e-01  1.000e+00]) = [ 7.190e-02  3.407e-01 ...  3.121e-01  2.406e-02]\n"
     ]
    },
    {
     "data": {
      "application/vnd.jupyter.widget-view+json": {
       "model_id": "a969e1feac644d19a1b522c001441337",
       "version_major": 2,
       "version_minor": 0
      },
      "text/plain": [
       "  0%|          | 0/10000 [00:00<?, ?it/s]"
      ]
     },
     "metadata": {},
     "output_type": "display_data"
    },
    {
     "name": "stdout",
     "output_type": "stream",
     "text": [
      "gld_params: [0.04237951 0.02347275 0.34238511 0.1339281 ]\n",
      "wrapper([ 3.446e-01  3.955e-01 ...  1.000e+00  1.000e+00]) = -0.0317708632143084\n",
      "assembly_constraint_no_mean([ 3.446e-01  3.955e-01 ...  1.000e+00  1.000e+00]) = [ 1.352e+00  6.236e-01 ...  1.504e+00  1.198e+00]\n"
     ]
    },
    {
     "data": {
      "application/vnd.jupyter.widget-view+json": {
       "model_id": "74d78ead1b694817b42b35ba36094c3c",
       "version_major": 2,
       "version_minor": 0
      },
      "text/plain": [
       "  0%|          | 0/10000 [00:00<?, ?it/s]"
      ]
     },
     "metadata": {},
     "output_type": "display_data"
    },
    {
     "name": "stdout",
     "output_type": "stream",
     "text": [
      "gld_params: [0.04402968 0.0235048  0.3454637  0.14040427]\n",
      "wrapper([ 2.688e-01  2.359e-01 ...  8.622e-01  9.684e-01]) = -0.02516252294575123\n",
      "assembly_constraint_no_mean([ 2.688e-01  2.359e-01 ...  8.622e-01  9.684e-01]) = [ 1.559e-01  3.978e-01 ...  3.967e-01  1.401e-02]\n"
     ]
    },
    {
     "data": {
      "application/vnd.jupyter.widget-view+json": {
       "model_id": "623247d246024ca59a3bd5bb578206d7",
       "version_major": 2,
       "version_minor": 0
      },
      "text/plain": [
       "  0%|          | 0/10000 [00:00<?, ?it/s]"
      ]
     },
     "metadata": {},
     "output_type": "display_data"
    },
    {
     "name": "stdout",
     "output_type": "stream",
     "text": [
      "gld_params: [0.04445086 0.02292995 0.33815445 0.13380231]\n",
      "wrapper([ 2.026e-01  2.164e-01 ...  8.778e-01  8.424e-01]) = -0.023805033788634154\n",
      "assembly_constraint_no_mean([ 2.026e-01  2.164e-01 ...  8.778e-01  8.424e-01]) = [-1.919e-01 -8.856e-01 ...  3.140e-01 -5.177e-01]\n"
     ]
    },
    {
     "data": {
      "application/vnd.jupyter.widget-view+json": {
       "model_id": "2dac8f34bc1e4cabb470647f3a519cc9",
       "version_major": 2,
       "version_minor": 0
      },
      "text/plain": [
       "  0%|          | 0/10000 [00:00<?, ?it/s]"
      ]
     },
     "metadata": {},
     "output_type": "display_data"
    },
    {
     "name": "stdout",
     "output_type": "stream",
     "text": [
      "gld_params: [0.04406837 0.02342446 0.34566599 0.13742576]\n",
      "wrapper([ 1.820e-01  2.261e-01 ...  8.489e-01  1.000e+00]) = -0.025212556254876166\n",
      "assembly_constraint_no_mean([ 1.820e-01  2.261e-01 ...  8.489e-01  1.000e+00]) = [ 8.639e-02  1.451e-01 ...  1.584e-01  1.580e-01]\n"
     ]
    },
    {
     "data": {
      "application/vnd.jupyter.widget-view+json": {
       "model_id": "3ebfd4d7eee64d13bbf0eb430e66d412",
       "version_major": 2,
       "version_minor": 0
      },
      "text/plain": [
       "  0%|          | 0/10000 [00:00<?, ?it/s]"
      ]
     },
     "metadata": {},
     "output_type": "display_data"
    },
    {
     "name": "stdout",
     "output_type": "stream",
     "text": [
      "gld_params: [0.04346992 0.02363346 0.34636281 0.1375072 ]\n",
      "wrapper([ 0.000e+00  9.486e-02 ...  8.082e-01  1.000e+00]) = -0.02779827317098273\n",
      "assembly_constraint_no_mean([ 0.000e+00  9.486e-02 ...  8.082e-01  1.000e+00]) = [ 3.083e-01  2.466e-02 ...  7.207e-01  3.067e-03]\n"
     ]
    },
    {
     "data": {
      "application/vnd.jupyter.widget-view+json": {
       "model_id": "8290dde108e84abfb7c53f50fd91446f",
       "version_major": 2,
       "version_minor": 0
      },
      "text/plain": [
       "  0%|          | 0/10000 [00:00<?, ?it/s]"
      ]
     },
     "metadata": {},
     "output_type": "display_data"
    },
    {
     "name": "stdout",
     "output_type": "stream",
     "text": [
      "gld_params: [0.04621036 0.02275534 0.34134809 0.13586874]\n",
      "wrapper([ 2.124e-01  2.417e-01 ...  9.118e-01  1.000e+00]) = -0.018104701493898933\n",
      "assembly_constraint_no_mean([ 2.124e-01  2.417e-01 ...  9.118e-01  1.000e+00]) = [-7.486e-01 -1.944e+00 ... -1.527e+00  4.281e-01]\n"
     ]
    },
    {
     "data": {
      "application/vnd.jupyter.widget-view+json": {
       "model_id": "567071279c5c4beeae311971a1ffa1b8",
       "version_major": 2,
       "version_minor": 0
      },
      "text/plain": [
       "  0%|          | 0/10000 [00:00<?, ?it/s]"
      ]
     },
     "metadata": {},
     "output_type": "display_data"
    },
    {
     "name": "stdout",
     "output_type": "stream",
     "text": [
      "gld_params: [0.04405096 0.02358772 0.34922983 0.13823345]\n",
      "wrapper([ 1.304e-01  1.591e-01 ...  7.785e-01  1.000e+00]) = -0.02526406036822774\n",
      "assembly_constraint_no_mean([ 1.304e-01  1.591e-01 ...  7.785e-01  1.000e+00]) = [ 1.139e-01  3.166e-02 ...  6.086e-01 -9.975e-02]\n"
     ]
    },
    {
     "data": {
      "application/vnd.jupyter.widget-view+json": {
       "model_id": "03c63e12122b432c81d0f379b39a3dfb",
       "version_major": 2,
       "version_minor": 0
      },
      "text/plain": [
       "  0%|          | 0/10000 [00:00<?, ?it/s]"
      ]
     },
     "metadata": {},
     "output_type": "display_data"
    },
    {
     "name": "stdout",
     "output_type": "stream",
     "text": [
      "gld_params: [0.0439199  0.02324269 0.34504618 0.13268279]\n",
      "wrapper([ 2.409e-01  3.346e-01 ...  9.854e-01  1.000e+00]) = -0.02575054428193632\n",
      "assembly_constraint_no_mean([ 2.409e-01  3.346e-01 ...  9.854e-01  1.000e+00]) = [ 2.889e-01  6.854e-01 ... -5.122e-01  7.870e-01]\n"
     ]
    },
    {
     "data": {
      "application/vnd.jupyter.widget-view+json": {
       "model_id": "da95cbe9d82f4cf78d1aca00c6e99174",
       "version_major": 2,
       "version_minor": 0
      },
      "text/plain": [
       "  0%|          | 0/10000 [00:00<?, ?it/s]"
      ]
     },
     "metadata": {},
     "output_type": "display_data"
    },
    {
     "name": "stdout",
     "output_type": "stream",
     "text": [
      "gld_params: [0.04407698 0.02338062 0.34667031 0.13611258]\n",
      "wrapper([ 0.000e+00  2.567e-01 ...  8.388e-01  1.000e+00]) = -0.02504879114991488\n",
      "assembly_constraint_no_mean([ 0.000e+00  2.567e-01 ...  8.388e-01  1.000e+00]) = [ 2.992e-01 -5.648e-02 ...  3.758e-01  1.184e-01]\n"
     ]
    },
    {
     "data": {
      "application/vnd.jupyter.widget-view+json": {
       "model_id": "7809c96aec354662a96bec3f2875ce92",
       "version_major": 2,
       "version_minor": 0
      },
      "text/plain": [
       "  0%|          | 0/10000 [00:00<?, ?it/s]"
      ]
     },
     "metadata": {},
     "output_type": "display_data"
    },
    {
     "name": "stdout",
     "output_type": "stream",
     "text": [
      "gld_params: [0.04482427 0.0232408  0.34018352 0.13617998]\n",
      "wrapper([ 1.145e-01  2.346e-01 ...  8.289e-01  1.000e+00]) = -0.023567826963689188\n",
      "assembly_constraint_no_mean([ 1.145e-01  2.346e-01 ...  8.289e-01  1.000e+00]) = [-3.661e-02 -1.274e+00 ...  5.121e-01  1.226e-01]\n"
     ]
    },
    {
     "data": {
      "application/vnd.jupyter.widget-view+json": {
       "model_id": "f6f8bb11faff40918d38d900b463d6f9",
       "version_major": 2,
       "version_minor": 0
      },
      "text/plain": [
       "  0%|          | 0/10000 [00:00<?, ?it/s]"
      ]
     },
     "metadata": {},
     "output_type": "display_data"
    },
    {
     "name": "stdout",
     "output_type": "stream",
     "text": [
      "gld_params: [0.04400224 0.02350792 0.34487793 0.13471009]\n",
      "wrapper([ 1.771e-01  1.171e-01 ...  8.336e-01  1.000e+00]) = -0.026504753098890034\n",
      "assembly_constraint_no_mean([ 1.771e-01  1.171e-01 ...  8.336e-01  1.000e+00]) = [ 7.646e-02  9.645e-02 ...  3.647e-01  9.809e-02]\n"
     ]
    },
    {
     "data": {
      "application/vnd.jupyter.widget-view+json": {
       "model_id": "e16da80ad87541afb444466050ac4b87",
       "version_major": 2,
       "version_minor": 0
      },
      "text/plain": [
       "  0%|          | 0/10000 [00:00<?, ?it/s]"
      ]
     },
     "metadata": {},
     "output_type": "display_data"
    },
    {
     "name": "stdout",
     "output_type": "stream",
     "text": [
      "gld_params: [0.04411476 0.0233853  0.34364401 0.13577151]\n",
      "wrapper([ 4.787e-02  0.000e+00 ...  9.741e-01  1.000e+00]) = -0.02558975621942234\n",
      "assembly_constraint_no_mean([ 4.787e-02  0.000e+00 ...  9.741e-01  1.000e+00]) = [-5.573e-01  7.500e-01 ... -8.708e-01  7.291e-01]\n"
     ]
    },
    {
     "data": {
      "application/vnd.jupyter.widget-view+json": {
       "model_id": "c475961e5f184344958590b501d21be7",
       "version_major": 2,
       "version_minor": 0
      },
      "text/plain": [
       "  0%|          | 0/10000 [00:00<?, ?it/s]"
      ]
     },
     "metadata": {},
     "output_type": "display_data"
    },
    {
     "name": "stdout",
     "output_type": "stream",
     "text": [
      "gld_params: [0.04398857 0.02348196 0.34562118 0.13467169]\n",
      "wrapper([ 1.862e-01  6.235e-02 ...  8.336e-01  1.000e+00]) = -0.026277920576849863\n",
      "assembly_constraint_no_mean([ 1.862e-01  6.235e-02 ...  8.336e-01  1.000e+00]) = [ 8.079e-02  8.599e-02 ...  1.968e-01  9.792e-02]\n"
     ]
    },
    {
     "data": {
      "application/vnd.jupyter.widget-view+json": {
       "model_id": "418c1ba8ceaa4a8f882a662962129032",
       "version_major": 2,
       "version_minor": 0
      },
      "text/plain": [
       "  0%|          | 0/10000 [00:00<?, ?it/s]"
      ]
     },
     "metadata": {},
     "output_type": "display_data"
    },
    {
     "name": "stdout",
     "output_type": "stream",
     "text": [
      "gld_params: [0.04307053 0.02397904 0.34698547 0.14127745]\n",
      "wrapper([ 1.867e-01  3.614e-01 ...  1.000e+00  1.000e+00]) = -0.029929115313540356\n",
      "assembly_constraint_no_mean([ 1.867e-01  3.614e-01 ...  1.000e+00  1.000e+00]) = [ 1.058e+00 -3.326e-01 ...  1.887e-01  8.635e-01]\n"
     ]
    },
    {
     "data": {
      "application/vnd.jupyter.widget-view+json": {
       "model_id": "40d033f7ea3348d9b93306eb27a86d0c",
       "version_major": 2,
       "version_minor": 0
      },
      "text/plain": [
       "  0%|          | 0/10000 [00:00<?, ?it/s]"
      ]
     },
     "metadata": {},
     "output_type": "display_data"
    },
    {
     "name": "stdout",
     "output_type": "stream",
     "text": [
      "gld_params: [0.0436596  0.02366335 0.34600216 0.13765541]\n",
      "wrapper([ 1.751e-01  2.048e-01 ...  9.319e-01  9.385e-01]) = -0.027455857530698718\n",
      "assembly_constraint_no_mean([ 1.751e-01  2.048e-01 ...  9.319e-01  9.385e-01]) = [ 1.823e-01  2.258e-01 ...  1.619e-01  1.609e-01]\n"
     ]
    },
    {
     "data": {
      "application/vnd.jupyter.widget-view+json": {
       "model_id": "6a2d54d7725b4f82a7a61450f2808dca",
       "version_major": 2,
       "version_minor": 0
      },
      "text/plain": [
       "  0%|          | 0/10000 [00:00<?, ?it/s]"
      ]
     },
     "metadata": {},
     "output_type": "display_data"
    },
    {
     "name": "stdout",
     "output_type": "stream",
     "text": [
      "gld_params: [0.04448542 0.02356747 0.34457682 0.13753749]\n",
      "wrapper([ 1.833e-01  0.000e+00 ...  1.000e+00  1.000e+00]) = -0.024997328947210826\n",
      "assembly_constraint_no_mean([ 1.833e-01  0.000e+00 ...  1.000e+00  1.000e+00]) = [-1.525e+00 -8.352e-03 ...  3.026e-01  8.635e-01]\n"
     ]
    },
    {
     "data": {
      "application/vnd.jupyter.widget-view+json": {
       "model_id": "36d5f3ca30b94a0bacbafe04923512b6",
       "version_major": 2,
       "version_minor": 0
      },
      "text/plain": [
       "  0%|          | 0/10000 [00:00<?, ?it/s]"
      ]
     },
     "metadata": {},
     "output_type": "display_data"
    },
    {
     "name": "stdout",
     "output_type": "stream",
     "text": [
      "gld_params: [0.04386526 0.02374616 0.34733203 0.13803998]\n",
      "wrapper([ 1.816e-01  1.201e-01 ...  8.693e-01  9.763e-01]) = -0.026970863441924196\n",
      "assembly_constraint_no_mean([ 1.816e-01  1.201e-01 ...  8.693e-01  9.763e-01]) = [-3.739e-02  9.077e-02 ...  3.713e-01  8.741e-02]\n"
     ]
    },
    {
     "data": {
      "application/vnd.jupyter.widget-view+json": {
       "model_id": "2cb99f352c5d4c659c65f74bf11c90be",
       "version_major": 2,
       "version_minor": 0
      },
      "text/plain": [
       "  0%|          | 0/10000 [00:00<?, ?it/s]"
      ]
     },
     "metadata": {},
     "output_type": "display_data"
    },
    {
     "name": "stdout",
     "output_type": "stream",
     "text": [
      "gld_params: [0.04499739 0.02268485 0.34239552 0.13070685]\n",
      "wrapper([ 9.006e-02  1.319e-01 ...  7.988e-01  1.000e+00]) = -0.021198085448761096\n",
      "assembly_constraint_no_mean([ 9.006e-02  1.319e-01 ...  7.988e-01  1.000e+00]) = [ 1.275e-01  3.135e-01 ... -9.341e-01  5.087e-02]\n"
     ]
    },
    {
     "data": {
      "application/vnd.jupyter.widget-view+json": {
       "model_id": "3a847242674f427ebe561cb6fc0bbcbc",
       "version_major": 2,
       "version_minor": 0
      },
      "text/plain": [
       "  0%|          | 0/10000 [00:00<?, ?it/s]"
      ]
     },
     "metadata": {},
     "output_type": "display_data"
    },
    {
     "name": "stdout",
     "output_type": "stream",
     "text": [
      "gld_params: [0.0438125  0.02376199 0.34724248 0.13814373]\n",
      "wrapper([ 1.554e-01  1.212e-01 ...  8.579e-01  9.852e-01]) = -0.027196434507656044\n",
      "assembly_constraint_no_mean([ 1.554e-01  1.212e-01 ...  8.579e-01  9.852e-01]) = [ 2.834e-02  1.604e-01 ...  2.771e-01  9.865e-02]\n"
     ]
    },
    {
     "data": {
      "application/vnd.jupyter.widget-view+json": {
       "model_id": "a2c74573edec49bc9274ccc8e1ed8311",
       "version_major": 2,
       "version_minor": 0
      },
      "text/plain": [
       "  0%|          | 0/10000 [00:00<?, ?it/s]"
      ]
     },
     "metadata": {},
     "output_type": "display_data"
    },
    {
     "name": "stdout",
     "output_type": "stream",
     "text": [
      "gld_params: [0.04534788 0.02300939 0.33745212 0.13095321]\n",
      "wrapper([ 2.367e-01  1.976e-01 ...  6.915e-01  1.000e+00]) = -0.022640887820222978\n",
      "assembly_constraint_no_mean([ 2.367e-01  1.976e-01 ...  6.915e-01  1.000e+00]) = [ 9.967e-01  6.626e-01 ...  2.001e-01 -3.374e-01]\n"
     ]
    },
    {
     "data": {
      "application/vnd.jupyter.widget-view+json": {
       "model_id": "0a090cc3baa54b6aab359a76c7479e34",
       "version_major": 2,
       "version_minor": 0
      },
      "text/plain": [
       "  0%|          | 0/10000 [00:00<?, ?it/s]"
      ]
     },
     "metadata": {},
     "output_type": "display_data"
    },
    {
     "name": "stdout",
     "output_type": "stream",
     "text": [
      "gld_params: [0.04386099 0.02370335 0.34535567 0.1380095 ]\n",
      "wrapper([ 1.309e-01  7.806e-02 ...  8.272e-01  1.000e+00]) = -0.027144193234653766\n",
      "assembly_constraint_no_mean([ 1.309e-01  7.806e-02 ...  8.272e-01  1.000e+00]) = [ 1.116e-01  1.747e-01 ...  3.163e-01  8.246e-02]\n"
     ]
    },
    {
     "data": {
      "application/vnd.jupyter.widget-view+json": {
       "model_id": "e70caa72bd854fb8ba87e8021f292b53",
       "version_major": 2,
       "version_minor": 0
      },
      "text/plain": [
       "  0%|          | 0/10000 [00:00<?, ?it/s]"
      ]
     },
     "metadata": {},
     "output_type": "display_data"
    },
    {
     "name": "stdout",
     "output_type": "stream",
     "text": [
      "gld_params: [0.04530522 0.0226955  0.33709093 0.12726811]\n",
      "wrapper([ 1.842e-01  3.035e-01 ...  8.456e-01  1.000e+00]) = -0.02202211977651038\n",
      "assembly_constraint_no_mean([ 1.842e-01  3.035e-01 ...  8.456e-01  1.000e+00]) = [-8.928e-02 -5.125e-02 ... -1.825e+00  2.198e-01]\n"
     ]
    },
    {
     "data": {
      "application/vnd.jupyter.widget-view+json": {
       "model_id": "e58a0453c5524d07a4c32368c3776864",
       "version_major": 2,
       "version_minor": 0
      },
      "text/plain": [
       "  0%|          | 0/10000 [00:00<?, ?it/s]"
      ]
     },
     "metadata": {},
     "output_type": "display_data"
    },
    {
     "name": "stdout",
     "output_type": "stream",
     "text": [
      "gld_params: [0.04376612 0.02373421 0.34672931 0.13799727]\n",
      "wrapper([ 1.236e-01  1.661e-01 ...  8.620e-01  1.000e+00]) = -0.027314132891093728\n",
      "assembly_constraint_no_mean([ 1.236e-01  1.661e-01 ...  8.620e-01  1.000e+00]) = [ 1.292e-01  2.228e-01 ...  3.117e-01  2.200e-01]\n"
     ]
    },
    {
     "data": {
      "application/vnd.jupyter.widget-view+json": {
       "model_id": "0aaca7e77fca4efe8df4c03106404d41",
       "version_major": 2,
       "version_minor": 0
      },
      "text/plain": [
       "  0%|          | 0/10000 [00:00<?, ?it/s]"
      ]
     },
     "metadata": {},
     "output_type": "display_data"
    },
    {
     "name": "stdout",
     "output_type": "stream",
     "text": [
      "gld_params: [0.04477114 0.02322909 0.33713504 0.1304581 ]\n",
      "wrapper([ 2.140e-01  2.687e-01 ...  6.487e-01  1.000e+00]) = -0.025300409601053606\n",
      "assembly_constraint_no_mean([ 2.140e-01  2.687e-01 ...  6.487e-01  1.000e+00]) = [ 8.423e-01  8.187e-01 ... -2.147e+00 -4.426e-01]\n"
     ]
    },
    {
     "data": {
      "application/vnd.jupyter.widget-view+json": {
       "model_id": "ea3d72b9b3ce4aa4bf22030d5251036d",
       "version_major": 2,
       "version_minor": 0
      },
      "text/plain": [
       "  0%|          | 0/10000 [00:00<?, ?it/s]"
      ]
     },
     "metadata": {},
     "output_type": "display_data"
    },
    {
     "name": "stdout",
     "output_type": "stream",
     "text": [
      "gld_params: [0.04381174 0.02377604 0.3476938  0.1371884 ]\n",
      "wrapper([ 1.178e-01  1.468e-01 ...  8.175e-01  1.000e+00]) = -0.027383764303363124\n",
      "assembly_constraint_no_mean([ 1.178e-01  1.468e-01 ...  8.175e-01  1.000e+00]) = [ 1.165e-01  1.998e-01 ...  2.597e-01  4.502e-02]\n"
     ]
    },
    {
     "data": {
      "application/vnd.jupyter.widget-view+json": {
       "model_id": "3394f96be1c1439184b01f63cae2fb46",
       "version_major": 2,
       "version_minor": 0
      },
      "text/plain": [
       "  0%|          | 0/10000 [00:00<?, ?it/s]"
      ]
     },
     "metadata": {},
     "output_type": "display_data"
    },
    {
     "name": "stdout",
     "output_type": "stream",
     "text": [
      "gld_params: [0.04547996 0.02268162 0.33909117 0.13330252]\n",
      "wrapper([ 2.680e-01  3.608e-01 ...  5.690e-01  1.000e+00]) = -0.020137082659458443\n",
      "assembly_constraint_no_mean([ 2.680e-01  3.608e-01 ...  5.690e-01  1.000e+00]) = [-1.543e-01 -1.623e+00 ...  3.087e-01 -5.545e-01]\n"
     ]
    },
    {
     "data": {
      "application/vnd.jupyter.widget-view+json": {
       "model_id": "8d7a4e3ed0644f8787fa6a9ffbe11c25",
       "version_major": 2,
       "version_minor": 0
      },
      "text/plain": [
       "  0%|          | 0/10000 [00:00<?, ?it/s]"
      ]
     },
     "metadata": {},
     "output_type": "display_data"
    },
    {
     "name": "stdout",
     "output_type": "stream",
     "text": [
      "gld_params: [0.04376982 0.02375783 0.34689256 0.1383341 ]\n",
      "wrapper([ 1.617e-01  1.321e-01 ...  8.241e-01  1.000e+00]) = -0.027326195742497512\n",
      "assembly_constraint_no_mean([ 1.617e-01  1.321e-01 ...  8.241e-01  1.000e+00]) = [ 6.716e-02  1.719e-01 ...  2.149e-01  6.859e-02]\n"
     ]
    },
    {
     "data": {
      "application/vnd.jupyter.widget-view+json": {
       "model_id": "9aac3b18293f45df8f51f5c63f572347",
       "version_major": 2,
       "version_minor": 0
      },
      "text/plain": [
       "  0%|          | 0/10000 [00:00<?, ?it/s]"
      ]
     },
     "metadata": {},
     "output_type": "display_data"
    },
    {
     "name": "stdout",
     "output_type": "stream",
     "text": [
      "gld_params: [0.04480148 0.02314597 0.34392231 0.13789869]\n",
      "wrapper([ 9.962e-02  1.851e-01 ...  7.892e-01  1.000e+00]) = -0.022206866319394853\n",
      "assembly_constraint_no_mean([ 9.962e-02  1.851e-01 ...  7.892e-01  1.000e+00]) = [-1.289e+00  1.275e-01 ...  2.386e-01  2.336e-01]\n"
     ]
    },
    {
     "data": {
      "application/vnd.jupyter.widget-view+json": {
       "model_id": "d77f8f3122264c3a93f0ae430db993c3",
       "version_major": 2,
       "version_minor": 0
      },
      "text/plain": [
       "  0%|          | 0/10000 [00:00<?, ?it/s]"
      ]
     },
     "metadata": {},
     "output_type": "display_data"
    },
    {
     "name": "stdout",
     "output_type": "stream",
     "text": [
      "gld_params: [0.04374598 0.02380609 0.34819939 0.13851856]\n",
      "wrapper([ 1.571e-01  1.526e-01 ...  8.257e-01  1.000e+00]) = -0.027355301666831058\n",
      "assembly_constraint_no_mean([ 1.571e-01  1.526e-01 ...  8.257e-01  1.000e+00]) = [-7.497e-02  1.726e-01 ...  2.402e-01  8.801e-02]\n"
     ]
    },
    {
     "data": {
      "application/vnd.jupyter.widget-view+json": {
       "model_id": "ede32ffb96ca431eb49d18a10870db5a",
       "version_major": 2,
       "version_minor": 0
      },
      "text/plain": [
       "  0%|          | 0/10000 [00:00<?, ?it/s]"
      ]
     },
     "metadata": {},
     "output_type": "display_data"
    },
    {
     "name": "stdout",
     "output_type": "stream",
     "text": [
      "gld_params: [0.04378842 0.02339805 0.34464442 0.13742201]\n",
      "wrapper([ 8.442e-02  3.143e-01 ...  1.000e+00  1.000e+00]) = -0.026023772548034264\n",
      "assembly_constraint_no_mean([ 8.442e-02  3.143e-01 ...  1.000e+00  1.000e+00]) = [ 1.216e-01  3.443e-01 ...  1.498e+00  8.903e-01]\n"
     ]
    },
    {
     "data": {
      "application/vnd.jupyter.widget-view+json": {
       "model_id": "4c969ae32f794784afd8c046b2fc20c9",
       "version_major": 2,
       "version_minor": 0
      },
      "text/plain": [
       "  0%|          | 0/10000 [00:00<?, ?it/s]"
      ]
     },
     "metadata": {},
     "output_type": "display_data"
    },
    {
     "name": "stdout",
     "output_type": "stream",
     "text": [
      "gld_params: [0.04374298 0.02382588 0.34760259 0.13903962]\n",
      "wrapper([ 7.549e-02  1.617e-01 ...  9.246e-01  9.346e-01]) = -0.027471817332835578\n",
      "assembly_constraint_no_mean([ 7.549e-02  1.617e-01 ...  9.246e-01  9.346e-01]) = [ 6.367e-02  1.878e-01 ...  2.534e-01  1.030e-01]\n"
     ]
    },
    {
     "data": {
      "application/vnd.jupyter.widget-view+json": {
       "model_id": "01821c87f6fa4f31a335f9ef0ffce5fc",
       "version_major": 2,
       "version_minor": 0
      },
      "text/plain": [
       "  0%|          | 0/10000 [00:00<?, ?it/s]"
      ]
     },
     "metadata": {},
     "output_type": "display_data"
    },
    {
     "name": "stdout",
     "output_type": "stream",
     "text": [
      "gld_params: [0.04426467 0.02320679 0.3440772  0.13714452]\n",
      "wrapper([ 1.240e-01  3.878e-01 ...  7.271e-01  1.000e+00]) = -0.023958506651358274\n",
      "assembly_constraint_no_mean([ 1.240e-01  3.878e-01 ...  7.271e-01  1.000e+00]) = [-1.382e-01  6.844e-01 ...  5.769e-01 -2.567e-01]\n"
     ]
    },
    {
     "data": {
      "application/vnd.jupyter.widget-view+json": {
       "model_id": "ceed6fa892e943e28ce82d93ff950cba",
       "version_major": 2,
       "version_minor": 0
      },
      "text/plain": [
       "  0%|          | 0/10000 [00:00<?, ?it/s]"
      ]
     },
     "metadata": {},
     "output_type": "display_data"
    },
    {
     "name": "stdout",
     "output_type": "stream",
     "text": [
      "gld_params: [0.04373897 0.02382355 0.34803015 0.13833935]\n",
      "wrapper([ 1.079e-01  1.399e-01 ...  8.822e-01  9.640e-01]) = -0.0275326295196905\n",
      "assembly_constraint_no_mean([ 1.079e-01  1.399e-01 ...  8.822e-01  9.640e-01]) = [ 1.342e-01  1.995e-01 ...  2.835e-01  8.953e-02]\n"
     ]
    },
    {
     "data": {
      "application/vnd.jupyter.widget-view+json": {
       "model_id": "7a08860be0c649b993a3fea8eee73a15",
       "version_major": 2,
       "version_minor": 0
      },
      "text/plain": [
       "  0%|          | 0/10000 [00:00<?, ?it/s]"
      ]
     },
     "metadata": {},
     "output_type": "display_data"
    },
    {
     "name": "stdout",
     "output_type": "stream",
     "text": [
      "gld_params: [0.04515116 0.02308667 0.34208644 0.13973252]\n",
      "wrapper([ 2.174e-01  1.350e-01 ...  7.852e-01  1.000e+00]) = -0.02105950181338424\n",
      "assembly_constraint_no_mean([ 2.174e-01  1.350e-01 ...  7.852e-01  1.000e+00]) = [-9.659e-01 -8.352e-02 ...  8.525e-01 -7.715e-02]\n"
     ]
    },
    {
     "data": {
      "application/vnd.jupyter.widget-view+json": {
       "model_id": "10e0ced94b104e38a139fd9c09e5667b",
       "version_major": 2,
       "version_minor": 0
      },
      "text/plain": [
       "  0%|          | 0/10000 [00:00<?, ?it/s]"
      ]
     },
     "metadata": {},
     "output_type": "display_data"
    },
    {
     "name": "stdout",
     "output_type": "stream",
     "text": [
      "gld_params: [0.04372182 0.02383326 0.34812942 0.13826578]\n",
      "wrapper([ 9.997e-02  1.437e-01 ...  9.063e-01  9.489e-01]) = -0.027628150356352285\n",
      "assembly_constraint_no_mean([ 9.997e-02  1.437e-01 ...  9.063e-01  9.489e-01]) = [ 1.286e-01  2.090e-01 ...  2.673e-01  1.223e-01]\n"
     ]
    },
    {
     "data": {
      "application/vnd.jupyter.widget-view+json": {
       "model_id": "b045e566dccd46528518935dabdbba8a",
       "version_major": 2,
       "version_minor": 0
      },
      "text/plain": [
       "  0%|          | 0/10000 [00:00<?, ?it/s]"
      ]
     },
     "metadata": {},
     "output_type": "display_data"
    },
    {
     "name": "stdout",
     "output_type": "stream",
     "text": [
      "gld_params: [0.04513164 0.02287752 0.34074111 0.13677964]\n",
      "wrapper([ 2.821e-01  3.817e-01 ...  7.609e-01  1.000e+00]) = -0.020914102286248105\n",
      "assembly_constraint_no_mean([ 2.821e-01  3.817e-01 ...  7.609e-01  1.000e+00]) = [ 3.818e-01  6.580e-01 ... -3.178e-01 -1.566e-01]\n"
     ]
    },
    {
     "data": {
      "application/vnd.jupyter.widget-view+json": {
       "model_id": "eb3cf0c0fe494ba1b9352de1f4908b1e",
       "version_major": 2,
       "version_minor": 0
      },
      "text/plain": [
       "  0%|          | 0/10000 [00:00<?, ?it/s]"
      ]
     },
     "metadata": {},
     "output_type": "display_data"
    },
    {
     "name": "stdout",
     "output_type": "stream",
     "text": [
      "gld_params: [0.04375583 0.02381049 0.34831736 0.13775223]\n",
      "wrapper([ 1.114e-01  1.141e-01 ...  8.305e-01  1.000e+00]) = -0.027481928509306523\n",
      "assembly_constraint_no_mean([ 1.114e-01  1.141e-01 ...  8.305e-01  1.000e+00]) = [ 1.286e-01  1.998e-01 ...  3.041e-01  1.113e-01]\n"
     ]
    },
    {
     "data": {
      "application/vnd.jupyter.widget-view+json": {
       "model_id": "90512463e9f14124b9885054e5e96e4a",
       "version_major": 2,
       "version_minor": 0
      },
      "text/plain": [
       "  0%|          | 0/10000 [00:00<?, ?it/s]"
      ]
     },
     "metadata": {},
     "output_type": "display_data"
    },
    {
     "name": "stdout",
     "output_type": "stream",
     "text": [
      "gld_params: [0.04310964 0.02385202 0.3471257  0.1401731 ]\n",
      "wrapper([ 3.622e-01  3.340e-01 ...  9.567e-01  1.000e+00]) = -0.029322387475621717\n",
      "assembly_constraint_no_mean([ 3.622e-01  3.340e-01 ...  9.567e-01  1.000e+00]) = [ 3.438e-01  4.134e-02 ...  3.822e-01  6.622e-01]\n"
     ]
    },
    {
     "data": {
      "application/vnd.jupyter.widget-view+json": {
       "model_id": "179561a044ab4bb3a2c77f5b7703e4f2",
       "version_major": 2,
       "version_minor": 0
      },
      "text/plain": [
       "  0%|          | 0/10000 [00:00<?, ?it/s]"
      ]
     },
     "metadata": {},
     "output_type": "display_data"
    },
    {
     "name": "stdout",
     "output_type": "stream",
     "text": [
      "gld_params: [0.04371496 0.02383123 0.34843644 0.13823647]\n",
      "wrapper([ 1.314e-01  1.293e-01 ...  9.240e-01  9.337e-01]) = -0.027583525407047987\n",
      "assembly_constraint_no_mean([ 1.314e-01  1.293e-01 ...  9.240e-01  9.337e-01]) = [ 1.073e-01  1.834e-01 ...  2.911e-01  1.128e-01]\n"
     ]
    },
    {
     "data": {
      "application/vnd.jupyter.widget-view+json": {
       "model_id": "6b3a5391776a44f8b6cc13e0017c3c46",
       "version_major": 2,
       "version_minor": 0
      },
      "text/plain": [
       "  0%|          | 0/10000 [00:00<?, ?it/s]"
      ]
     },
     "metadata": {},
     "output_type": "display_data"
    },
    {
     "name": "stdout",
     "output_type": "stream",
     "text": [
      "gld_params: [0.04411554 0.02346404 0.34091295 0.13720706]\n",
      "wrapper([ 1.914e-01  3.206e-01 ...  1.000e+00  1.000e+00]) = -0.02620299070336807\n",
      "assembly_constraint_no_mean([ 1.914e-01  3.206e-01 ...  1.000e+00  1.000e+00]) = [ 7.395e-01  3.783e-01 ...  5.613e-01  1.014e+00]\n"
     ]
    },
    {
     "data": {
      "application/vnd.jupyter.widget-view+json": {
       "model_id": "d5ad08d0af644f54b1e96f64a96a7f9f",
       "version_major": 2,
       "version_minor": 0
      },
      "text/plain": [
       "  0%|          | 0/10000 [00:00<?, ?it/s]"
      ]
     },
     "metadata": {},
     "output_type": "display_data"
    },
    {
     "name": "stdout",
     "output_type": "stream",
     "text": [
      "gld_params: [0.04375081 0.02382327 0.34804735 0.13824173]\n",
      "wrapper([ 1.126e-01  1.335e-01 ...  8.970e-01  9.489e-01]) = -0.02751425967416312\n",
      "assembly_constraint_no_mean([ 1.126e-01  1.335e-01 ...  8.970e-01  9.489e-01]) = [ 1.166e-01  2.018e-01 ...  2.885e-01  7.817e-02]\n"
     ]
    },
    {
     "data": {
      "application/vnd.jupyter.widget-view+json": {
       "model_id": "34acbea4bdd643ea9ec049b33c725fbc",
       "version_major": 2,
       "version_minor": 0
      },
      "text/plain": [
       "  0%|          | 0/10000 [00:00<?, ?it/s]"
      ]
     },
     "metadata": {},
     "output_type": "display_data"
    },
    {
     "name": "stdout",
     "output_type": "stream",
     "text": [
      "gld_params: [0.04457033 0.0232578  0.34376777 0.14126259]\n",
      "wrapper([ 2.917e-01  6.600e-02 ...  8.592e-01  1.000e+00]) = -0.022686790467056447\n",
      "assembly_constraint_no_mean([ 2.917e-01  6.600e-02 ...  8.592e-01  1.000e+00]) = [-9.336e-02 -8.412e-01 ...  4.427e-01  1.997e-01]\n"
     ]
    },
    {
     "data": {
      "application/vnd.jupyter.widget-view+json": {
       "model_id": "ac990fa20f8f45548ce6dd9369d0a502",
       "version_major": 2,
       "version_minor": 0
      },
      "text/plain": [
       "  0%|          | 0/10000 [00:00<?, ?it/s]"
      ]
     },
     "metadata": {},
     "output_type": "display_data"
    },
    {
     "name": "stdout",
     "output_type": "stream",
     "text": [
      "gld_params: [0.04379369 0.02378491 0.3475034  0.137176  ]\n",
      "wrapper([ 1.101e-01  1.441e-01 ...  8.249e-01  1.000e+00]) = -0.027517014398425816\n",
      "assembly_constraint_no_mean([ 1.101e-01  1.441e-01 ...  8.249e-01  1.000e+00]) = [ 1.130e-01  2.254e-01 ...  2.837e-01  8.992e-02]\n"
     ]
    },
    {
     "data": {
      "application/vnd.jupyter.widget-view+json": {
       "model_id": "a3a1cac2c2024185b0c38589893ce51c",
       "version_major": 2,
       "version_minor": 0
      },
      "text/plain": [
       "  0%|          | 0/10000 [00:00<?, ?it/s]"
      ]
     },
     "metadata": {},
     "output_type": "display_data"
    },
    {
     "name": "stdout",
     "output_type": "stream",
     "text": [
      "gld_params: [0.04501761 0.02304859 0.34230479 0.13722214]\n",
      "wrapper([ 1.016e-01  3.295e-01 ...  8.759e-01  1.000e+00]) = -0.02163224026422475\n",
      "assembly_constraint_no_mean([ 1.016e-01  3.295e-01 ...  8.759e-01  1.000e+00]) = [ 2.416e-01 -9.058e-02 ...  5.118e-01  3.840e-01]\n"
     ]
    },
    {
     "data": {
      "application/vnd.jupyter.widget-view+json": {
       "model_id": "627a961cdc884f6b920c25ecbad9892c",
       "version_major": 2,
       "version_minor": 0
      },
      "text/plain": [
       "  0%|          | 0/10000 [00:00<?, ?it/s]"
      ]
     },
     "metadata": {},
     "output_type": "display_data"
    },
    {
     "name": "stdout",
     "output_type": "stream",
     "text": [
      "gld_params: [0.04373342 0.02382847 0.34847537 0.13760833]\n",
      "wrapper([ 1.349e-01  1.383e-01 ...  9.064e-01  9.462e-01]) = -0.027638548688221506\n",
      "assembly_constraint_no_mean([ 1.349e-01  1.383e-01 ...  9.064e-01  9.462e-01]) = [ 1.141e-01  1.961e-01 ...  2.880e-01  8.148e-02]\n"
     ]
    },
    {
     "data": {
      "application/vnd.jupyter.widget-view+json": {
       "model_id": "fd12532f422849b188aea38d2db77e1e",
       "version_major": 2,
       "version_minor": 0
      },
      "text/plain": [
       "  0%|          | 0/10000 [00:00<?, ?it/s]"
      ]
     },
     "metadata": {},
     "output_type": "display_data"
    },
    {
     "name": "stdout",
     "output_type": "stream",
     "text": [
      "gld_params: [0.04527487 0.02290805 0.3456126  0.13494413]\n",
      "wrapper([ 2.099e-01  3.944e-01 ...  8.511e-01  1.000e+00]) = -0.020289911672827773\n",
      "assembly_constraint_no_mean([ 2.099e-01  3.944e-01 ...  8.511e-01  1.000e+00]) = [ 1.410e+00 -5.666e-01 ... -1.737e-01  1.670e-01]\n"
     ]
    },
    {
     "data": {
      "application/vnd.jupyter.widget-view+json": {
       "model_id": "539e4c47d5974d508b80462790e23203",
       "version_major": 2,
       "version_minor": 0
      },
      "text/plain": [
       "  0%|          | 0/10000 [00:00<?, ?it/s]"
      ]
     },
     "metadata": {},
     "output_type": "display_data"
    },
    {
     "name": "stdout",
     "output_type": "stream",
     "text": [
      "gld_params: [0.04376081 0.0238012  0.34769243 0.13741191]\n",
      "wrapper([ 1.384e-01  1.405e-01 ...  8.956e-01  9.515e-01]) = -0.027610339891976393\n",
      "assembly_constraint_no_mean([ 1.384e-01  1.405e-01 ...  8.956e-01  9.515e-01]) = [ 1.152e-01  2.320e-01 ...  2.528e-01  7.007e-02]\n"
     ]
    },
    {
     "data": {
      "application/vnd.jupyter.widget-view+json": {
       "model_id": "080d4bd86d1f43578242c1075e5b14ab",
       "version_major": 2,
       "version_minor": 0
      },
      "text/plain": [
       "  0%|          | 0/10000 [00:00<?, ?it/s]"
      ]
     },
     "metadata": {},
     "output_type": "display_data"
    },
    {
     "name": "stdout",
     "output_type": "stream",
     "text": [
      "gld_params: [0.04434479 0.02302611 0.34487249 0.13429808]\n",
      "wrapper([ 2.489e-01  1.700e-01 ...  7.896e-01  1.000e+00]) = -0.02328882947905761\n",
      "assembly_constraint_no_mean([ 2.489e-01  1.700e-01 ...  7.896e-01  1.000e+00]) = [ 4.148e-01 -7.369e-01 ...  1.010e-01  4.239e-02]\n"
     ]
    },
    {
     "data": {
      "application/vnd.jupyter.widget-view+json": {
       "model_id": "89a36a6928304018ab8a582fb534796e",
       "version_major": 2,
       "version_minor": 0
      },
      "text/plain": [
       "  0%|          | 0/10000 [00:00<?, ?it/s]"
      ]
     },
     "metadata": {},
     "output_type": "display_data"
    },
    {
     "name": "stdout",
     "output_type": "stream",
     "text": [
      "gld_params: [0.04374089 0.02381199 0.34830463 0.13753696]\n",
      "wrapper([ 1.450e-01  1.361e-01 ...  9.041e-01  9.482e-01]) = -0.027578970045718187\n",
      "assembly_constraint_no_mean([ 1.450e-01  1.361e-01 ...  9.041e-01  9.482e-01]) = [ 1.149e-01  2.018e-01 ...  2.862e-01  8.422e-02]\n"
     ]
    },
    {
     "data": {
      "application/vnd.jupyter.widget-view+json": {
       "model_id": "66f7d2f8f84946e089a30f3fc7cc44b8",
       "version_major": 2,
       "version_minor": 0
      },
      "text/plain": [
       "  0%|          | 0/10000 [00:00<?, ?it/s]"
      ]
     },
     "metadata": {},
     "output_type": "display_data"
    },
    {
     "name": "stdout",
     "output_type": "stream",
     "text": [
      "gld_params: [0.04416643 0.02340892 0.3376516  0.13377336]\n",
      "wrapper([ 3.379e-01  3.097e-01 ...  9.715e-01  1.000e+00]) = -0.027081298133115966\n",
      "assembly_constraint_no_mean([ 3.379e-01  3.097e-01 ...  9.715e-01  1.000e+00]) = [ 9.178e-01 -7.439e-02 ...  6.197e-01  7.158e-01]\n"
     ]
    },
    {
     "data": {
      "application/vnd.jupyter.widget-view+json": {
       "model_id": "370ae244df944649956a6a91d784ad12",
       "version_major": 2,
       "version_minor": 0
      },
      "text/plain": [
       "  0%|          | 0/10000 [00:00<?, ?it/s]"
      ]
     },
     "metadata": {},
     "output_type": "display_data"
    },
    {
     "name": "stdout",
     "output_type": "stream",
     "text": [
      "gld_params: [0.04379996 0.02377907 0.34682108 0.13744614]\n",
      "wrapper([ 1.523e-01  1.408e-01 ...  8.771e-01  9.626e-01]) = -0.027544895019040158\n",
      "assembly_constraint_no_mean([ 1.523e-01  1.408e-01 ...  8.771e-01  9.626e-01]) = [ 1.052e-01  2.343e-01 ...  2.610e-01  5.560e-02]\n"
     ]
    },
    {
     "data": {
      "application/vnd.jupyter.widget-view+json": {
       "model_id": "981c03fe989c44599aebb05f8139f80b",
       "version_major": 2,
       "version_minor": 0
      },
      "text/plain": [
       "  0%|          | 0/10000 [00:00<?, ?it/s]"
      ]
     },
     "metadata": {},
     "output_type": "display_data"
    },
    {
     "name": "stdout",
     "output_type": "stream",
     "text": [
      "gld_params: [0.04543413 0.02277999 0.33773166 0.13381367]\n",
      "wrapper([ 1.665e-01  2.897e-01 ...  7.531e-01  1.000e+00]) = -0.020800706232617972\n",
      "assembly_constraint_no_mean([ 1.665e-01  2.897e-01 ...  7.531e-01  1.000e+00]) = [ 3.139e-01 -1.752e-01 ...  2.397e-01 -1.808e-01]\n"
     ]
    },
    {
     "data": {
      "application/vnd.jupyter.widget-view+json": {
       "model_id": "631855964bb840679c6fb5764a214c7f",
       "version_major": 2,
       "version_minor": 0
      },
      "text/plain": [
       "  0%|          | 0/10000 [00:00<?, ?it/s]"
      ]
     },
     "metadata": {},
     "output_type": "display_data"
    },
    {
     "name": "stdout",
     "output_type": "stream",
     "text": [
      "gld_params: [0.04379807 0.02377923 0.34674876 0.13731963]\n",
      "wrapper([ 1.524e-01  1.438e-01 ...  8.775e-01  9.641e-01]) = -0.027591124948860773\n",
      "assembly_constraint_no_mean([ 1.524e-01  1.438e-01 ...  8.775e-01  9.641e-01]) = [ 1.079e-01  2.604e-01 ...  2.643e-01  6.692e-02]\n"
     ]
    },
    {
     "data": {
      "application/vnd.jupyter.widget-view+json": {
       "model_id": "d37e660970d442e39354580949867a6a",
       "version_major": 2,
       "version_minor": 0
      },
      "text/plain": [
       "  0%|          | 0/10000 [00:00<?, ?it/s]"
      ]
     },
     "metadata": {},
     "output_type": "display_data"
    },
    {
     "name": "stdout",
     "output_type": "stream",
     "text": [
      "gld_params: [0.04410089 0.02338002 0.34692758 0.13428553]\n",
      "wrapper([ 9.741e-02  1.762e-01 ...  8.045e-01  1.000e+00]) = -0.025298076189815995\n",
      "assembly_constraint_no_mean([ 9.741e-02  1.762e-01 ...  8.045e-01  1.000e+00]) = [ 4.833e-01  5.102e-01 ... -4.466e-01 -9.207e-03]\n"
     ]
    },
    {
     "data": {
      "application/vnd.jupyter.widget-view+json": {
       "model_id": "a6b3d489e38a43bd992fb2bb72cd20c9",
       "version_major": 2,
       "version_minor": 0
      },
      "text/plain": [
       "  0%|          | 0/10000 [00:00<?, ?it/s]"
      ]
     },
     "metadata": {},
     "output_type": "display_data"
    },
    {
     "name": "stdout",
     "output_type": "stream",
     "text": [
      "gld_params: [0.0437659  0.02379741 0.34770572 0.13764455]\n",
      "wrapper([ 1.686e-01  1.425e-01 ...  8.923e-01  9.551e-01]) = -0.027525558728207843\n",
      "assembly_constraint_no_mean([ 1.686e-01  1.425e-01 ...  8.923e-01  9.551e-01]) = [ 9.802e-02  2.469e-01 ...  2.927e-01  7.263e-02]\n",
      "\n",
      "New trust-region radius: 0.07071067811865475.\n",
      "Number of function evaluations: 205.\n",
      "Number of iterations: 80.\n",
      "Least value of wrapper: -0.02751425967416312.\n",
      "Maximum constraint violation: 0.2384640986616976.\n",
      "Corresponding point: [ 1.126e-01  1.335e-01 ...  8.970e-01  9.489e-01].\n",
      "\n"
     ]
    },
    {
     "data": {
      "application/vnd.jupyter.widget-view+json": {
       "model_id": "7db81c04c45848838a06e1880e0317de",
       "version_major": 2,
       "version_minor": 0
      },
      "text/plain": [
       "  0%|          | 0/10000 [00:00<?, ?it/s]"
      ]
     },
     "metadata": {},
     "output_type": "display_data"
    },
    {
     "name": "stdout",
     "output_type": "stream",
     "text": [
      "gld_params: [0.04384763 0.02388546 0.35049138 0.13778271]\n",
      "wrapper([ 1.133e-01  9.200e-02 ...  9.331e-01  9.153e-01]) = -0.02718620793719869\n",
      "assembly_constraint_no_mean([ 1.133e-01  9.200e-02 ...  9.331e-01  9.153e-01]) = [ 4.692e-02  3.014e-02 ...  1.368e-01  8.033e-02]\n"
     ]
    },
    {
     "data": {
      "application/vnd.jupyter.widget-view+json": {
       "model_id": "93edf1aae5204a8784c90cc71abfe96a",
       "version_major": 2,
       "version_minor": 0
      },
      "text/plain": [
       "  0%|          | 0/10000 [00:00<?, ?it/s]"
      ]
     },
     "metadata": {},
     "output_type": "display_data"
    },
    {
     "name": "stdout",
     "output_type": "stream",
     "text": [
      "gld_params: [0.04393976 0.02376902 0.34752886 0.13842906]\n",
      "wrapper([ 2.054e-01  3.295e-01 ...  9.220e-01  9.453e-01]) = -0.02676429918357629\n",
      "assembly_constraint_no_mean([ 2.054e-01  3.295e-01 ...  9.220e-01  9.453e-01]) = [ 2.914e-01  7.278e-02 ...  2.716e-01  1.551e-01]\n"
     ]
    },
    {
     "data": {
      "application/vnd.jupyter.widget-view+json": {
       "model_id": "1cf9cbfc68ec44128e96b2a2c2bdd112",
       "version_major": 2,
       "version_minor": 0
      },
      "text/plain": [
       "  0%|          | 0/10000 [00:00<?, ?it/s]"
      ]
     },
     "metadata": {},
     "output_type": "display_data"
    },
    {
     "name": "stdout",
     "output_type": "stream",
     "text": [
      "gld_params: [0.04388049 0.02383012 0.34970812 0.13784251]\n",
      "wrapper([ 1.127e-01  9.311e-02 ...  9.288e-01  9.057e-01]) = -0.026947630847572235\n",
      "assembly_constraint_no_mean([ 1.127e-01  9.311e-02 ...  9.288e-01  9.057e-01]) = [ 7.383e-02  3.033e-02 ...  1.370e-01  2.635e-03]\n"
     ]
    },
    {
     "data": {
      "application/vnd.jupyter.widget-view+json": {
       "model_id": "116e57a251f64f6b937e7d46a9f3f7a8",
       "version_major": 2,
       "version_minor": 0
      },
      "text/plain": [
       "  0%|          | 0/10000 [00:00<?, ?it/s]"
      ]
     },
     "metadata": {},
     "output_type": "display_data"
    },
    {
     "name": "stdout",
     "output_type": "stream",
     "text": [
      "gld_params: [0.04387291 0.02380726 0.3501836  0.13719956]\n",
      "wrapper([ 1.074e-01  2.430e-02 ...  8.982e-01  9.333e-01]) = -0.026891672156892497\n",
      "assembly_constraint_no_mean([ 1.074e-01  2.430e-02 ...  8.982e-01  9.333e-01]) = [ 1.134e-01  5.708e-02 ...  1.467e-01  2.442e-02]\n"
     ]
    },
    {
     "data": {
      "application/vnd.jupyter.widget-view+json": {
       "model_id": "fcadaf9e24134938b82f2ba9ce3d619f",
       "version_major": 2,
       "version_minor": 0
      },
      "text/plain": [
       "  0%|          | 0/10000 [00:00<?, ?it/s]"
      ]
     },
     "metadata": {},
     "output_type": "display_data"
    },
    {
     "name": "stdout",
     "output_type": "stream",
     "text": [
      "gld_params: [0.04393094 0.02383095 0.34950227 0.13815714]\n",
      "wrapper([ 1.086e-01  9.051e-02 ...  8.891e-01  8.638e-01]) = -0.026786635950799588\n",
      "assembly_constraint_no_mean([ 1.086e-01  9.051e-02 ...  8.891e-01  8.638e-01]) = [ 5.334e-02  2.419e-02 ...  1.007e-01 -4.475e-01]\n"
     ]
    },
    {
     "data": {
      "application/vnd.jupyter.widget-view+json": {
       "model_id": "53d4671ea82945cba71be499f52efc77",
       "version_major": 2,
       "version_minor": 0
      },
      "text/plain": [
       "  0%|          | 0/10000 [00:00<?, ?it/s]"
      ]
     },
     "metadata": {},
     "output_type": "display_data"
    },
    {
     "name": "stdout",
     "output_type": "stream",
     "text": [
      "gld_params: [0.04394851 0.02383417 0.35015214 0.13788835]\n",
      "wrapper([ 1.098e-01  6.666e-02 ...  9.280e-01  9.162e-01]) = -0.026686200053932015\n",
      "assembly_constraint_no_mean([ 1.098e-01  6.666e-02 ...  9.280e-01  9.162e-01]) = [ 5.243e-02  4.730e-02 ...  7.870e-02  4.014e-02]\n"
     ]
    },
    {
     "data": {
      "application/vnd.jupyter.widget-view+json": {
       "model_id": "466ac227b6844fd183773599b08b1c66",
       "version_major": 2,
       "version_minor": 0
      },
      "text/plain": [
       "  0%|          | 0/10000 [00:00<?, ?it/s]"
      ]
     },
     "metadata": {},
     "output_type": "display_data"
    },
    {
     "name": "stdout",
     "output_type": "stream",
     "text": [
      "gld_params: [0.04392391 0.023843   0.35015975 0.13814382]\n",
      "wrapper([ 1.096e-01  3.979e-02 ...  9.310e-01  9.141e-01]) = -0.02674540807369076\n",
      "assembly_constraint_no_mean([ 1.096e-01  3.979e-02 ...  9.310e-01  9.141e-01]) = [ 5.672e-02  7.211e-02 ...  7.058e-02  5.197e-02]\n"
     ]
    },
    {
     "data": {
      "application/vnd.jupyter.widget-view+json": {
       "model_id": "53877eb261ef49a784115e47411eb0f4",
       "version_major": 2,
       "version_minor": 0
      },
      "text/plain": [
       "  0%|          | 0/10000 [00:00<?, ?it/s]"
      ]
     },
     "metadata": {},
     "output_type": "display_data"
    },
    {
     "name": "stdout",
     "output_type": "stream",
     "text": [
      "gld_params: [0.04391261 0.02387098 0.35148652 0.13706631]\n",
      "wrapper([ 1.050e-01  7.541e-02 ...  9.360e-01  9.153e-01]) = -0.02688603511938267\n",
      "assembly_constraint_no_mean([ 1.050e-01  7.541e-02 ...  9.360e-01  9.153e-01]) = [ 5.248e-02  3.614e-02 ... -2.123e-02  8.460e-02]\n"
     ]
    },
    {
     "data": {
      "application/vnd.jupyter.widget-view+json": {
       "model_id": "028f46072a9f48089bf5bd04975a5e97",
       "version_major": 2,
       "version_minor": 0
      },
      "text/plain": [
       "  0%|          | 0/10000 [00:00<?, ?it/s]"
      ]
     },
     "metadata": {},
     "output_type": "display_data"
    },
    {
     "name": "stdout",
     "output_type": "stream",
     "text": [
      "gld_params: [0.04377759 0.02389582 0.35000613 0.13825031]\n",
      "wrapper([ 9.387e-02  4.323e-02 ...  9.355e-01  9.251e-01]) = -0.02743806150954895\n",
      "assembly_constraint_no_mean([ 9.387e-02  4.323e-02 ...  9.355e-01  9.251e-01]) = [-5.294e-03  1.481e-01 ...  6.846e-02  1.360e-01]\n"
     ]
    },
    {
     "data": {
      "application/vnd.jupyter.widget-view+json": {
       "model_id": "9e2bb05078fa4cc38eabfafd34fb3ed5",
       "version_major": 2,
       "version_minor": 0
      },
      "text/plain": [
       "  0%|          | 0/10000 [00:00<?, ?it/s]"
      ]
     },
     "metadata": {},
     "output_type": "display_data"
    },
    {
     "name": "stdout",
     "output_type": "stream",
     "text": [
      "gld_params: [0.0439287  0.02384053 0.35051171 0.13753798]\n",
      "wrapper([ 1.079e-01  5.624e-02 ...  9.299e-01  9.156e-01]) = -0.02677566091953958\n",
      "assembly_constraint_no_mean([ 1.079e-01  5.624e-02 ...  9.299e-01  9.156e-01]) = [ 3.937e-02  5.939e-02 ...  5.617e-02  5.552e-02]\n"
     ]
    },
    {
     "data": {
      "application/vnd.jupyter.widget-view+json": {
       "model_id": "4d4e7f85f544431cbf7c51061cd605d3",
       "version_major": 2,
       "version_minor": 0
      },
      "text/plain": [
       "  0%|          | 0/10000 [00:00<?, ?it/s]"
      ]
     },
     "metadata": {},
     "output_type": "display_data"
    },
    {
     "name": "stdout",
     "output_type": "stream",
     "text": [
      "gld_params: [0.04386797 0.0238905  0.35220435 0.13746637]\n",
      "wrapper([ 7.151e-02  6.620e-02 ...  9.590e-01  8.917e-01]) = -0.02689134681862221\n",
      "assembly_constraint_no_mean([ 7.151e-02  6.620e-02 ...  9.590e-01  8.917e-01]) = [ 7.891e-02  4.118e-02 ... -6.481e-03  9.386e-02]\n"
     ]
    },
    {
     "data": {
      "application/vnd.jupyter.widget-view+json": {
       "model_id": "933d5eab4cb9491dada7053cf72d5972",
       "version_major": 2,
       "version_minor": 0
      },
      "text/plain": [
       "  0%|          | 0/10000 [00:00<?, ?it/s]"
      ]
     },
     "metadata": {},
     "output_type": "display_data"
    },
    {
     "name": "stdout",
     "output_type": "stream",
     "text": [
      "gld_params: [0.04370936 0.02392011 0.35056609 0.13747286]\n",
      "wrapper([ 1.208e-01  3.604e-02 ...  9.451e-01  9.248e-01]) = -0.02780693826020556\n",
      "assembly_constraint_no_mean([ 1.208e-01  3.604e-02 ...  9.451e-01  9.248e-01]) = [ 1.541e-02  6.840e-02 ...  6.495e-02  1.960e-01]\n"
     ]
    },
    {
     "data": {
      "application/vnd.jupyter.widget-view+json": {
       "model_id": "0b961df94b524e7492f49b1683c124f2",
       "version_major": 2,
       "version_minor": 0
      },
      "text/plain": [
       "  0%|          | 0/10000 [00:00<?, ?it/s]"
      ]
     },
     "metadata": {},
     "output_type": "display_data"
    },
    {
     "name": "stdout",
     "output_type": "stream",
     "text": [
      "gld_params: [0.04387193 0.02387621 0.35173705 0.13736454]\n",
      "wrapper([ 8.604e-02  5.191e-02 ...  9.489e-01  8.944e-01]) = -0.02691739807394305\n",
      "assembly_constraint_no_mean([ 8.604e-02  5.191e-02 ...  9.489e-01  8.944e-01]) = [ 5.248e-02  5.072e-02 ...  5.121e-02  4.475e-02]\n"
     ]
    },
    {
     "data": {
      "application/vnd.jupyter.widget-view+json": {
       "model_id": "658779314cc047ffa873bd2bd055266d",
       "version_major": 2,
       "version_minor": 0
      },
      "text/plain": [
       "  0%|          | 0/10000 [00:00<?, ?it/s]"
      ]
     },
     "metadata": {},
     "output_type": "display_data"
    },
    {
     "name": "stdout",
     "output_type": "stream",
     "text": [
      "gld_params: [0.04381074 0.02391449 0.35287779 0.13695904]\n",
      "wrapper([ 5.573e-02  3.280e-02 ...  9.866e-01  8.589e-01]) = -0.027148162333832014\n",
      "assembly_constraint_no_mean([ 5.573e-02  3.280e-02 ...  9.866e-01  8.589e-01]) = [ 5.952e-02  5.750e-02 ...  6.564e-02  9.034e-02]\n"
     ]
    },
    {
     "data": {
      "application/vnd.jupyter.widget-view+json": {
       "model_id": "f35d664e84f849f2a82f0c430713ee93",
       "version_major": 2,
       "version_minor": 0
      },
      "text/plain": [
       "  0%|          | 0/10000 [00:00<?, ?it/s]"
      ]
     },
     "metadata": {},
     "output_type": "display_data"
    },
    {
     "name": "stdout",
     "output_type": "stream",
     "text": [
      "gld_params: [0.04381519 0.02387353 0.35173959 0.13708382]\n",
      "wrapper([ 9.436e-02  4.616e-02 ...  9.393e-01  8.936e-01]) = -0.02711874870077197\n",
      "assembly_constraint_no_mean([ 9.436e-02  4.616e-02 ...  9.393e-01  8.936e-01]) = [ 2.247e-01  9.781e-03 ...  1.163e-01 -1.924e-02]\n"
     ]
    },
    {
     "data": {
      "application/vnd.jupyter.widget-view+json": {
       "model_id": "94dc5e0d9daa447e911e1a16b366aa87",
       "version_major": 2,
       "version_minor": 0
      },
      "text/plain": [
       "  0%|          | 0/10000 [00:00<?, ?it/s]"
      ]
     },
     "metadata": {},
     "output_type": "display_data"
    },
    {
     "name": "stdout",
     "output_type": "stream",
     "text": [
      "gld_params: [0.04382254 0.02390449 0.35219526 0.13751391]\n",
      "wrapper([ 7.641e-02  2.601e-02 ...  9.560e-01  8.898e-01]) = -0.02708180716330434\n",
      "assembly_constraint_no_mean([ 7.641e-02  2.601e-02 ...  9.560e-01  8.898e-01]) = [ 5.606e-02  6.704e-02 ...  3.534e-02  4.890e-02]\n"
     ]
    },
    {
     "data": {
      "application/vnd.jupyter.widget-view+json": {
       "model_id": "e7e6f61b0f8a493a96c5513dc465ec51",
       "version_major": 2,
       "version_minor": 0
      },
      "text/plain": [
       "  0%|          | 0/10000 [00:00<?, ?it/s]"
      ]
     },
     "metadata": {},
     "output_type": "display_data"
    },
    {
     "name": "stdout",
     "output_type": "stream",
     "text": [
      "gld_params: [0.04373306 0.02393071 0.35126504 0.13768444]\n",
      "wrapper([ 9.641e-02  4.837e-02 ...  9.702e-01  8.915e-01]) = -0.0276145285111875\n",
      "assembly_constraint_no_mean([ 9.641e-02  4.837e-02 ...  9.702e-01  8.915e-01]) = [ 1.003e-01  2.870e-02 ... -6.778e-03  1.517e-01]\n"
     ]
    },
    {
     "data": {
      "application/vnd.jupyter.widget-view+json": {
       "model_id": "42d8239fb8fb45b8a44b1429223d025b",
       "version_major": 2,
       "version_minor": 0
      },
      "text/plain": [
       "  0%|          | 0/10000 [00:00<?, ?it/s]"
      ]
     },
     "metadata": {},
     "output_type": "display_data"
    },
    {
     "name": "stdout",
     "output_type": "stream",
     "text": [
      "gld_params: [0.0438381  0.02391521 0.35224079 0.13772597]\n",
      "wrapper([ 6.623e-02  3.557e-02 ...  9.633e-01  8.821e-01]) = -0.027041238989607367\n",
      "assembly_constraint_no_mean([ 6.623e-02  3.557e-02 ...  9.633e-01  8.821e-01]) = [ 5.621e-02  4.411e-02 ...  6.542e-02  5.253e-02]\n"
     ]
    },
    {
     "data": {
      "application/vnd.jupyter.widget-view+json": {
       "model_id": "f676b44e55e04d7898b60b0749d91532",
       "version_major": 2,
       "version_minor": 0
      },
      "text/plain": [
       "  0%|          | 0/10000 [00:00<?, ?it/s]"
      ]
     },
     "metadata": {},
     "output_type": "display_data"
    },
    {
     "name": "stdout",
     "output_type": "stream",
     "text": [
      "gld_params: [0.04376764 0.02395693 0.35341773 0.13820071]\n",
      "wrapper([ 6.582e-02  0.000e+00 ...  9.872e-01  8.617e-01]) = -0.02712909900710583\n",
      "assembly_constraint_no_mean([ 6.582e-02  0.000e+00 ...  9.872e-01  8.617e-01]) = [ 3.716e-02  4.125e-02 ...  7.905e-02  9.213e-02]\n"
     ]
    },
    {
     "data": {
      "application/vnd.jupyter.widget-view+json": {
       "model_id": "1ccc568a253f47069cec7e03bc81bfda",
       "version_major": 2,
       "version_minor": 0
      },
      "text/plain": [
       "  0%|          | 0/10000 [00:00<?, ?it/s]"
      ]
     },
     "metadata": {},
     "output_type": "display_data"
    },
    {
     "name": "stdout",
     "output_type": "stream",
     "text": [
      "gld_params: [0.04402706 0.02382565 0.35214819 0.13764627]\n",
      "wrapper([ 5.657e-02  4.089e-02 ...  9.497e-01  8.752e-01]) = -0.026098096194986667\n",
      "assembly_constraint_no_mean([ 5.657e-02  4.089e-02 ...  9.497e-01  8.752e-01]) = [-3.646e-02  1.406e-01 ... -2.201e-02 -5.660e-02]\n"
     ]
    },
    {
     "data": {
      "application/vnd.jupyter.widget-view+json": {
       "model_id": "a97cb59dc9fc4636a16d01013e879f22",
       "version_major": 2,
       "version_minor": 0
      },
      "text/plain": [
       "  0%|          | 0/10000 [00:00<?, ?it/s]"
      ]
     },
     "metadata": {},
     "output_type": "display_data"
    },
    {
     "name": "stdout",
     "output_type": "stream",
     "text": [
      "gld_params: [0.04381394 0.02393127 0.35288287 0.13764578]\n",
      "wrapper([ 4.419e-02  2.083e-03 ...  9.708e-01  8.725e-01]) = -0.027084093863373862\n",
      "assembly_constraint_no_mean([ 4.419e-02  2.083e-03 ...  9.708e-01  8.725e-01]) = [ 5.810e-02  5.481e-02 ...  4.935e-02  4.688e-02]\n"
     ]
    },
    {
     "data": {
      "application/vnd.jupyter.widget-view+json": {
       "model_id": "f07632501dc946b0b4452599a7006643",
       "version_major": 2,
       "version_minor": 0
      },
      "text/plain": [
       "  0%|          | 0/10000 [00:00<?, ?it/s]"
      ]
     },
     "metadata": {},
     "output_type": "display_data"
    },
    {
     "name": "stdout",
     "output_type": "stream",
     "text": [
      "gld_params: [0.04376735 0.02392471 0.3533759  0.13735031]\n",
      "wrapper([ 6.685e-02  0.000e+00 ...  9.956e-01  8.454e-01]) = -0.027146399088993137\n",
      "assembly_constraint_no_mean([ 6.685e-02  0.000e+00 ...  9.956e-01  8.454e-01]) = [ 4.058e-02  6.417e-02 ...  6.342e-02  7.717e-02]\n"
     ]
    },
    {
     "data": {
      "application/vnd.jupyter.widget-view+json": {
       "model_id": "a88aaa8c6c1b4eab9d7a06d51bd12718",
       "version_major": 2,
       "version_minor": 0
      },
      "text/plain": [
       "  0%|          | 0/10000 [00:00<?, ?it/s]"
      ]
     },
     "metadata": {},
     "output_type": "display_data"
    },
    {
     "name": "stdout",
     "output_type": "stream",
     "text": [
      "gld_params: [0.04382717 0.02393927 0.35248167 0.13748927]\n",
      "wrapper([ 4.118e-02  1.618e-03 ...  9.831e-01  8.651e-01]) = -0.027197260602990627\n",
      "assembly_constraint_no_mean([ 4.118e-02  1.618e-03 ...  9.831e-01  8.651e-01]) = [ 2.956e-02 -3.040e-02 ... -5.070e-03  8.444e-02]\n"
     ]
    },
    {
     "data": {
      "application/vnd.jupyter.widget-view+json": {
       "model_id": "9f0a17abedc64d4cbd8c8c3d4f57c124",
       "version_major": 2,
       "version_minor": 0
      },
      "text/plain": [
       "  0%|          | 0/10000 [00:00<?, ?it/s]"
      ]
     },
     "metadata": {},
     "output_type": "display_data"
    },
    {
     "name": "stdout",
     "output_type": "stream",
     "text": [
      "gld_params: [0.04379844 0.02394002 0.35298132 0.13779238]\n",
      "wrapper([ 6.645e-02  0.000e+00 ...  9.651e-01  8.803e-01]) = -0.027123498568084426\n",
      "assembly_constraint_no_mean([ 6.645e-02  0.000e+00 ...  9.651e-01  8.803e-01]) = [ 4.296e-02  7.088e-02 ...  7.889e-02  5.695e-02]\n"
     ]
    },
    {
     "data": {
      "application/vnd.jupyter.widget-view+json": {
       "model_id": "78064423dbfc46d6bc7e496b76959e99",
       "version_major": 2,
       "version_minor": 0
      },
      "text/plain": [
       "  0%|          | 0/10000 [00:00<?, ?it/s]"
      ]
     },
     "metadata": {},
     "output_type": "display_data"
    },
    {
     "name": "stdout",
     "output_type": "stream",
     "text": [
      "gld_params: [0.04361112 0.02400833 0.35325099 0.13747823]\n",
      "wrapper([ 3.704e-02  1.702e-02 ...  9.793e-01  8.914e-01]) = -0.02802179321132386\n",
      "assembly_constraint_no_mean([ 3.704e-02  1.702e-02 ...  9.793e-01  8.914e-01]) = [ 1.438e-01  1.812e-01 ... -1.142e-01  1.868e-01]\n"
     ]
    },
    {
     "data": {
      "application/vnd.jupyter.widget-view+json": {
       "model_id": "7ee7300822144511bf4ee74957f62dd9",
       "version_major": 2,
       "version_minor": 0
      },
      "text/plain": [
       "  0%|          | 0/10000 [00:00<?, ?it/s]"
      ]
     },
     "metadata": {},
     "output_type": "display_data"
    },
    {
     "name": "stdout",
     "output_type": "stream",
     "text": [
      "gld_params: [0.04380772 0.02393477 0.35306819 0.13764308]\n",
      "wrapper([ 6.207e-02  0.000e+00 ...  9.553e-01  8.892e-01]) = -0.02708433893116007\n",
      "assembly_constraint_no_mean([ 6.207e-02  0.000e+00 ...  9.553e-01  8.892e-01]) = [ 5.008e-02  5.586e-02 ...  5.750e-02  3.937e-02]\n"
     ]
    },
    {
     "data": {
      "application/vnd.jupyter.widget-view+json": {
       "model_id": "82c872a81214426abee85d9dc0bd3004",
       "version_major": 2,
       "version_minor": 0
      },
      "text/plain": [
       "  0%|          | 0/10000 [00:00<?, ?it/s]"
      ]
     },
     "metadata": {},
     "output_type": "display_data"
    },
    {
     "name": "stdout",
     "output_type": "stream",
     "text": [
      "gld_params: [0.04377302 0.02392605 0.35335795 0.13769024]\n",
      "wrapper([ 8.209e-02  5.392e-19 ...  9.051e-01  9.445e-01]) = -0.027071458957924247\n",
      "assembly_constraint_no_mean([ 8.209e-02  5.392e-19 ...  9.051e-01  9.445e-01]) = [ 4.437e-02  5.510e-02 ...  3.317e-02  6.683e-02]\n"
     ]
    },
    {
     "data": {
      "application/vnd.jupyter.widget-view+json": {
       "model_id": "be6bca4033404273a204e83f2c739f6a",
       "version_major": 2,
       "version_minor": 0
      },
      "text/plain": [
       "  0%|          | 0/10000 [00:00<?, ?it/s]"
      ]
     },
     "metadata": {},
     "output_type": "display_data"
    },
    {
     "name": "stdout",
     "output_type": "stream",
     "text": [
      "gld_params: [0.0438635  0.02392394 0.3521129  0.13740968]\n",
      "wrapper([ 5.700e-02  0.000e+00 ...  9.794e-01  8.856e-01]) = -0.02710409551471044\n",
      "assembly_constraint_no_mean([ 5.700e-02  0.000e+00 ...  9.794e-01  8.856e-01]) = [-1.114e-02 -6.823e-03 ...  5.578e-02  1.656e-01]\n"
     ]
    },
    {
     "data": {
      "application/vnd.jupyter.widget-view+json": {
       "model_id": "b2ca559ef1bd41ebb67c2cfdc19e3d59",
       "version_major": 2,
       "version_minor": 0
      },
      "text/plain": [
       "  0%|          | 0/10000 [00:00<?, ?it/s]"
      ]
     },
     "metadata": {},
     "output_type": "display_data"
    },
    {
     "name": "stdout",
     "output_type": "stream",
     "text": [
      "gld_params: [0.0437871  0.02395676 0.35321312 0.13786943]\n",
      "wrapper([ 7.661e-02  2.083e-18 ...  9.584e-01  8.944e-01]) = -0.02718076440155059\n",
      "assembly_constraint_no_mean([ 7.661e-02  2.083e-18 ...  9.584e-01  8.944e-01]) = [ 5.248e-02  5.376e-02 ...  5.007e-02  7.808e-02]\n"
     ]
    },
    {
     "data": {
      "application/vnd.jupyter.widget-view+json": {
       "model_id": "fbec7fcb04894543ba40a2efacacb97f",
       "version_major": 2,
       "version_minor": 0
      },
      "text/plain": [
       "  0%|          | 0/10000 [00:00<?, ?it/s]"
      ]
     },
     "metadata": {},
     "output_type": "display_data"
    },
    {
     "name": "stdout",
     "output_type": "stream",
     "text": [
      "gld_params: [0.04369878 0.02397774 0.35290969 0.13707257]\n",
      "wrapper([ 2.660e-02  0.000e+00 ...  9.570e-01  8.860e-01]) = -0.027761977337943933\n",
      "assembly_constraint_no_mean([ 2.660e-02  0.000e+00 ...  9.570e-01  8.860e-01]) = [ 5.503e-02  8.269e-02 ...  4.295e-02  3.098e-02]\n"
     ]
    },
    {
     "data": {
      "application/vnd.jupyter.widget-view+json": {
       "model_id": "17f3f752899c4fa7b0e8c82896bbbeee",
       "version_major": 2,
       "version_minor": 0
      },
      "text/plain": [
       "  0%|          | 0/10000 [00:00<?, ?it/s]"
      ]
     },
     "metadata": {},
     "output_type": "display_data"
    },
    {
     "name": "stdout",
     "output_type": "stream",
     "text": [
      "gld_params: [0.04376288 0.02395391 0.35406292 0.13744299]\n",
      "wrapper([ 7.066e-02  3.679e-18 ...  9.495e-01  8.945e-01]) = -0.02715727264739363\n",
      "assembly_constraint_no_mean([ 7.066e-02  3.679e-18 ...  9.495e-01  8.945e-01]) = [ 5.522e-02  6.328e-02 ...  5.515e-02  2.864e-02]\n"
     ]
    },
    {
     "data": {
      "application/vnd.jupyter.widget-view+json": {
       "model_id": "aacca6ac43904dae81098666f42e7546",
       "version_major": 2,
       "version_minor": 0
      },
      "text/plain": [
       "  0%|          | 0/10000 [00:00<?, ?it/s]"
      ]
     },
     "metadata": {},
     "output_type": "display_data"
    },
    {
     "name": "stdout",
     "output_type": "stream",
     "text": [
      "gld_params: [0.04359592 0.02406113 0.35320321 0.13866161]\n",
      "wrapper([ 4.531e-02  0.000e+00 ...  9.564e-01  8.956e-01]) = -0.028105864054655785\n",
      "assembly_constraint_no_mean([ 4.531e-02  0.000e+00 ...  9.564e-01  8.956e-01]) = [ 5.260e-02  2.506e-02 ...  4.277e-01  8.008e-02]\n"
     ]
    },
    {
     "data": {
      "application/vnd.jupyter.widget-view+json": {
       "model_id": "bd3f550fe8d047e6b21da27a2f134e95",
       "version_major": 2,
       "version_minor": 0
      },
      "text/plain": [
       "  0%|          | 0/10000 [00:00<?, ?it/s]"
      ]
     },
     "metadata": {},
     "output_type": "display_data"
    },
    {
     "name": "stdout",
     "output_type": "stream",
     "text": [
      "gld_params: [0.04375993 0.02395975 0.35404248 0.13754453]\n",
      "wrapper([ 4.961e-02  4.572e-18 ...  9.452e-01  9.017e-01]) = -0.027178674659837514\n",
      "assembly_constraint_no_mean([ 4.961e-02  4.572e-18 ...  9.452e-01  9.017e-01]) = [ 5.238e-02  6.025e-02 ...  6.335e-02  4.212e-02]\n"
     ]
    },
    {
     "data": {
      "application/vnd.jupyter.widget-view+json": {
       "model_id": "7fe9b762f74a4502912bb2ffc2f4dc15",
       "version_major": 2,
       "version_minor": 0
      },
      "text/plain": [
       "  0%|          | 0/10000 [00:00<?, ?it/s]"
      ]
     },
     "metadata": {},
     "output_type": "display_data"
    },
    {
     "name": "stdout",
     "output_type": "stream",
     "text": [
      "gld_params: [0.04377364 0.02396803 0.35486354 0.136665  ]\n",
      "wrapper([ 4.578e-02  7.167e-18 ...  9.813e-01  8.627e-01]) = -0.027206491759521154\n",
      "assembly_constraint_no_mean([ 4.578e-02  7.167e-18 ...  9.813e-01  8.627e-01]) = [ 5.050e-02  5.228e-02 ...  6.438e-02  5.999e-02]\n"
     ]
    },
    {
     "data": {
      "application/vnd.jupyter.widget-view+json": {
       "model_id": "770f714b9dc34401a11a7eb274e72666",
       "version_major": 2,
       "version_minor": 0
      },
      "text/plain": [
       "  0%|          | 0/10000 [00:00<?, ?it/s]"
      ]
     },
     "metadata": {},
     "output_type": "display_data"
    },
    {
     "name": "stdout",
     "output_type": "stream",
     "text": [
      "gld_params: [0.04368022 0.02402326 0.35414851 0.13826263]\n",
      "wrapper([ 5.831e-02  0.000e+00 ...  9.275e-01  9.006e-01]) = -0.027563310312627844\n",
      "assembly_constraint_no_mean([ 5.831e-02  0.000e+00 ...  9.275e-01  9.006e-01]) = [ 6.061e-02  1.194e-01 ...  3.043e-01 -6.601e-02]\n"
     ]
    },
    {
     "data": {
      "application/vnd.jupyter.widget-view+json": {
       "model_id": "95c4e2107d8d4b65b4bce9f0383af2d6",
       "version_major": 2,
       "version_minor": 0
      },
      "text/plain": [
       "  0%|          | 0/10000 [00:00<?, ?it/s]"
      ]
     },
     "metadata": {},
     "output_type": "display_data"
    },
    {
     "name": "stdout",
     "output_type": "stream",
     "text": [
      "gld_params: [0.04373897 0.02398104 0.3551378  0.13732436]\n",
      "wrapper([ 3.631e-02  1.255e-18 ...  9.581e-01  8.869e-01]) = -0.027179992635277365\n",
      "assembly_constraint_no_mean([ 3.631e-02  1.255e-18 ...  9.581e-01  8.869e-01]) = [ 5.486e-02  5.110e-02 ...  6.764e-02  3.510e-02]\n"
     ]
    },
    {
     "data": {
      "application/vnd.jupyter.widget-view+json": {
       "model_id": "38bdbe775c254cbf97d9516bb32f4e3e",
       "version_major": 2,
       "version_minor": 0
      },
      "text/plain": [
       "  0%|          | 0/10000 [00:00<?, ?it/s]"
      ]
     },
     "metadata": {},
     "output_type": "display_data"
    },
    {
     "name": "stdout",
     "output_type": "stream",
     "text": [
      "gld_params: [0.04380241 0.02393162 0.35343359 0.13792407]\n",
      "wrapper([ 5.804e-02  1.659e-02 ...  9.278e-01  9.119e-01]) = -0.026955504887838263\n",
      "assembly_constraint_no_mean([ 5.804e-02  1.659e-02 ...  9.278e-01  9.119e-01]) = [ 4.915e-02  1.058e-02 ...  4.914e-02 -9.388e-04]\n"
     ]
    },
    {
     "data": {
      "application/vnd.jupyter.widget-view+json": {
       "model_id": "2122d2ecccb74ad6a20ea8c0422a093f",
       "version_major": 2,
       "version_minor": 0
      },
      "text/plain": [
       "  0%|          | 0/10000 [00:00<?, ?it/s]"
      ]
     },
     "metadata": {},
     "output_type": "display_data"
    },
    {
     "name": "stdout",
     "output_type": "stream",
     "text": [
      "gld_params: [0.04371299 0.02399557 0.35487457 0.13807837]\n",
      "wrapper([ 3.951e-02  4.946e-03 ...  9.485e-01  8.997e-01]) = -0.027227110039747655\n",
      "assembly_constraint_no_mean([ 3.951e-02  4.946e-03 ...  9.485e-01  8.997e-01]) = [ 5.344e-02  5.294e-02 ...  4.371e-02  4.629e-02]\n"
     ]
    },
    {
     "data": {
      "application/vnd.jupyter.widget-view+json": {
       "model_id": "ca4d0cd6bab64c6ebe067514b2c37f52",
       "version_major": 2,
       "version_minor": 0
      },
      "text/plain": [
       "  0%|          | 0/10000 [00:00<?, ?it/s]"
      ]
     },
     "metadata": {},
     "output_type": "display_data"
    },
    {
     "name": "stdout",
     "output_type": "stream",
     "text": [
      "gld_params: [0.04367009 0.02404988 0.3552058  0.13851403]\n",
      "wrapper([ 2.514e-02  3.495e-03 ...  9.547e-01  8.944e-01]) = -0.027474512964722014\n",
      "assembly_constraint_no_mean([ 2.514e-02  3.495e-03 ...  9.547e-01  8.944e-01]) = [ 6.923e-02  1.183e-01 ...  5.091e-02  5.263e-02]\n"
     ]
    },
    {
     "data": {
      "application/vnd.jupyter.widget-view+json": {
       "model_id": "693709da29004ad58b8191b735d134a7",
       "version_major": 2,
       "version_minor": 0
      },
      "text/plain": [
       "  0%|          | 0/10000 [00:00<?, ?it/s]"
      ]
     },
     "metadata": {},
     "output_type": "display_data"
    },
    {
     "name": "stdout",
     "output_type": "stream",
     "text": [
      "gld_params: [0.04375964 0.02398805 0.35486955 0.13834346]\n",
      "wrapper([ 2.715e-02  1.643e-02 ...  9.485e-01  9.107e-01]) = -0.027001707312035182\n",
      "assembly_constraint_no_mean([ 2.715e-02  1.643e-02 ...  9.485e-01  9.107e-01]) = [-2.871e-01  2.549e-01 ...  2.348e-02  1.061e-01]\n"
     ]
    },
    {
     "data": {
      "application/vnd.jupyter.widget-view+json": {
       "model_id": "7558ff63a783430c914e6fea6683e14a",
       "version_major": 2,
       "version_minor": 0
      },
      "text/plain": [
       "  0%|          | 0/10000 [00:00<?, ?it/s]"
      ]
     },
     "metadata": {},
     "output_type": "display_data"
    },
    {
     "name": "stdout",
     "output_type": "stream",
     "text": [
      "gld_params: [0.04366096 0.02403058 0.3554237  0.13843673]\n",
      "wrapper([ 2.589e-02  2.211e-02 ...  9.484e-01  9.016e-01]) = -0.027374223542821284\n",
      "assembly_constraint_no_mean([ 2.589e-02  2.211e-02 ...  9.484e-01  9.016e-01]) = [ 5.212e-02  7.754e-02 ...  7.065e-02  5.818e-02]\n"
     ]
    },
    {
     "data": {
      "application/vnd.jupyter.widget-view+json": {
       "model_id": "f4de3749358f42239dcfdb07f9516f82",
       "version_major": 2,
       "version_minor": 0
      },
      "text/plain": [
       "  0%|          | 0/10000 [00:00<?, ?it/s]"
      ]
     },
     "metadata": {},
     "output_type": "display_data"
    },
    {
     "name": "stdout",
     "output_type": "stream",
     "text": [
      "gld_params: [0.04369567 0.02401635 0.35495582 0.13883965]\n",
      "wrapper([ 2.912e-02  1.703e-02 ...  9.627e-01  9.024e-01]) = -0.02721093197614297\n",
      "assembly_constraint_no_mean([ 2.912e-02  1.703e-02 ...  9.627e-01  9.024e-01]) = [ 2.066e-01 -1.129e-01 ...  7.633e-02  1.422e-01]\n"
     ]
    },
    {
     "data": {
      "application/vnd.jupyter.widget-view+json": {
       "model_id": "c34b9b75b2b34f29a6522839b67dba3e",
       "version_major": 2,
       "version_minor": 0
      },
      "text/plain": [
       "  0%|          | 0/10000 [00:00<?, ?it/s]"
      ]
     },
     "metadata": {},
     "output_type": "display_data"
    },
    {
     "name": "stdout",
     "output_type": "stream",
     "text": [
      "gld_params: [0.04367066 0.02402214 0.35550921 0.13818772]\n",
      "wrapper([ 1.051e-02  0.000e+00 ...  9.512e-01  8.991e-01]) = -0.027337738753199906\n",
      "assembly_constraint_no_mean([ 1.051e-02  0.000e+00 ...  9.512e-01  8.991e-01]) = [ 5.776e-02  6.850e-02 ...  4.018e-02  6.052e-02]\n"
     ]
    },
    {
     "data": {
      "application/vnd.jupyter.widget-view+json": {
       "model_id": "f910cbcfe4d94c64ab7f38d8796b55ad",
       "version_major": 2,
       "version_minor": 0
      },
      "text/plain": [
       "  0%|          | 0/10000 [00:00<?, ?it/s]"
      ]
     },
     "metadata": {},
     "output_type": "display_data"
    },
    {
     "name": "stdout",
     "output_type": "stream",
     "text": [
      "gld_params: [0.04339923 0.02410885 0.35523329 0.13750497]\n",
      "wrapper([ 2.607e-02  8.674e-19 ...  9.479e-01  9.024e-01]) = -0.02876628982728947\n",
      "assembly_constraint_no_mean([ 2.607e-02  8.674e-19 ...  9.479e-01  9.024e-01]) = [ 1.023e-01  3.879e-01 ...  4.753e-02  5.642e-02]\n"
     ]
    },
    {
     "data": {
      "application/vnd.jupyter.widget-view+json": {
       "model_id": "854de64a3f504e5f9f32729da52d6742",
       "version_major": 2,
       "version_minor": 0
      },
      "text/plain": [
       "  0%|          | 0/10000 [00:00<?, ?it/s]"
      ]
     },
     "metadata": {},
     "output_type": "display_data"
    },
    {
     "name": "stdout",
     "output_type": "stream",
     "text": [
      "gld_params: [0.04367467 0.02402301 0.35545068 0.13813838]\n",
      "wrapper([ 1.724e-02  1.999e-02 ...  9.600e-01  8.881e-01]) = -0.027352371824793102\n",
      "assembly_constraint_no_mean([ 1.724e-02  1.999e-02 ...  9.600e-01  8.881e-01]) = [ 5.642e-02  6.402e-02 ...  4.995e-02  5.226e-02]\n"
     ]
    },
    {
     "data": {
      "application/vnd.jupyter.widget-view+json": {
       "model_id": "6ce3eef85a994de7a11cf9f2fce20211",
       "version_major": 2,
       "version_minor": 0
      },
      "text/plain": [
       "  0%|          | 0/10000 [00:00<?, ?it/s]"
      ]
     },
     "metadata": {},
     "output_type": "display_data"
    },
    {
     "name": "stdout",
     "output_type": "stream",
     "text": [
      "gld_params: [0.04368002 0.02404098 0.35530853 0.13866992]\n",
      "wrapper([ 0.000e+00  2.819e-02 ...  9.609e-01  8.868e-01]) = -0.027348283746002063\n",
      "assembly_constraint_no_mean([ 0.000e+00  2.819e-02 ...  9.609e-01  8.868e-01]) = [ 7.080e-02  6.442e-02 ...  4.600e-02  4.886e-02]\n"
     ]
    },
    {
     "data": {
      "application/vnd.jupyter.widget-view+json": {
       "model_id": "41224cb252bc4d509fd997724c39be13",
       "version_major": 2,
       "version_minor": 0
      },
      "text/plain": [
       "  0%|          | 0/10000 [00:00<?, ?it/s]"
      ]
     },
     "metadata": {},
     "output_type": "display_data"
    },
    {
     "name": "stdout",
     "output_type": "stream",
     "text": [
      "gld_params: [0.04368211 0.02401011 0.35459456 0.13787558]\n",
      "wrapper([ 1.893e-02  2.178e-02 ...  9.670e-01  8.795e-01]) = -0.027482458141233346\n",
      "assembly_constraint_no_mean([ 1.893e-02  2.178e-02 ...  9.670e-01  8.795e-01]) = [ 1.027e-01  3.144e-01 ...  2.115e-02  5.235e-02]\n"
     ]
    },
    {
     "data": {
      "application/vnd.jupyter.widget-view+json": {
       "model_id": "d94d2f8fdcba4157a9067d0c011e8f20",
       "version_major": 2,
       "version_minor": 0
      },
      "text/plain": [
       "  0%|          | 0/10000 [00:00<?, ?it/s]"
      ]
     },
     "metadata": {},
     "output_type": "display_data"
    },
    {
     "name": "stdout",
     "output_type": "stream",
     "text": [
      "gld_params: [0.04369072 0.02403496 0.35504942 0.13856585]\n",
      "wrapper([ 0.000e+00  1.794e-02 ...  9.648e-01  8.814e-01]) = -0.02735883072585981\n",
      "assembly_constraint_no_mean([ 0.000e+00  1.794e-02 ...  9.648e-01  8.814e-01]) = [ 4.654e-02  6.642e-02 ...  5.882e-02  4.644e-02]\n"
     ]
    },
    {
     "data": {
      "application/vnd.jupyter.widget-view+json": {
       "model_id": "f23a93e861284cc0b6b8274ff700ed3b",
       "version_major": 2,
       "version_minor": 0
      },
      "text/plain": [
       "  0%|          | 0/10000 [00:00<?, ?it/s]"
      ]
     },
     "metadata": {},
     "output_type": "display_data"
    },
    {
     "name": "stdout",
     "output_type": "stream",
     "text": [
      "gld_params: [0.04379335 0.02394867 0.35464212 0.13754153]\n",
      "wrapper([ 2.907e-02  5.811e-02 ...  9.509e-01  9.058e-01]) = -0.02691367991609321\n",
      "assembly_constraint_no_mean([ 2.907e-02  5.811e-02 ...  9.509e-01  9.058e-01]) = [ 5.734e-02  1.189e-01 ...  2.995e-02  8.838e-02]\n"
     ]
    },
    {
     "data": {
      "application/vnd.jupyter.widget-view+json": {
       "model_id": "912689c44d4f40fa9074aea6afdda1c4",
       "version_major": 2,
       "version_minor": 0
      },
      "text/plain": [
       "  0%|          | 0/10000 [00:00<?, ?it/s]"
      ]
     },
     "metadata": {},
     "output_type": "display_data"
    },
    {
     "name": "stdout",
     "output_type": "stream",
     "text": [
      "gld_params: [0.04371518 0.02403314 0.35500421 0.13843196]\n",
      "wrapper([ 0.000e+00  2.556e-02 ...  9.681e-01  8.799e-01]) = -0.027316496080976572\n",
      "assembly_constraint_no_mean([ 0.000e+00  2.556e-02 ...  9.681e-01  8.799e-01]) = [ 4.803e-02  4.824e-02 ...  5.123e-02  5.823e-02]\n"
     ]
    },
    {
     "data": {
      "application/vnd.jupyter.widget-view+json": {
       "model_id": "1200e0c76d5d40cdb839a098a567f93c",
       "version_major": 2,
       "version_minor": 0
      },
      "text/plain": [
       "  0%|          | 0/10000 [00:00<?, ?it/s]"
      ]
     },
     "metadata": {},
     "output_type": "display_data"
    },
    {
     "name": "stdout",
     "output_type": "stream",
     "text": [
      "gld_params: [0.04368854 0.02407091 0.35501585 0.13936723]\n",
      "wrapper([ 1.546e-19  3.489e-02 ...  9.618e-01  8.833e-01]) = -0.027392092924147123\n",
      "assembly_constraint_no_mean([ 1.546e-19  3.489e-02 ...  9.618e-01  8.833e-01]) = [ 8.300e-02  1.028e-01 ...  4.713e-02  3.830e-02]\n"
     ]
    },
    {
     "data": {
      "application/vnd.jupyter.widget-view+json": {
       "model_id": "b4ef0706eaa74c5385ea9c4015e2c5d4",
       "version_major": 2,
       "version_minor": 0
      },
      "text/plain": [
       "  0%|          | 0/10000 [00:00<?, ?it/s]"
      ]
     },
     "metadata": {},
     "output_type": "display_data"
    },
    {
     "name": "stdout",
     "output_type": "stream",
     "text": [
      "gld_params: [0.04371495 0.02403597 0.3543925  0.13927528]\n",
      "wrapper([ 0.000e+00  2.776e-02 ...  9.805e-01  8.722e-01]) = -0.02727754065040293\n",
      "assembly_constraint_no_mean([ 0.000e+00  2.776e-02 ...  9.805e-01  8.722e-01]) = [-3.909e-02 -8.754e-02 ... -2.786e-02  9.831e-02]\n"
     ]
    },
    {
     "data": {
      "application/vnd.jupyter.widget-view+json": {
       "model_id": "7a786d789b284eae896faa61d149b6f3",
       "version_major": 2,
       "version_minor": 0
      },
      "text/plain": [
       "  0%|          | 0/10000 [00:00<?, ?it/s]"
      ]
     },
     "metadata": {},
     "output_type": "display_data"
    },
    {
     "name": "stdout",
     "output_type": "stream",
     "text": [
      "gld_params: [0.04367518 0.02404869 0.35505007 0.1392439 ]\n",
      "wrapper([ 1.860e-02  3.887e-02 ...  9.644e-01  8.825e-01]) = -0.027334145620687627\n",
      "assembly_constraint_no_mean([ 1.860e-02  3.887e-02 ...  9.644e-01  8.825e-01]) = [ 5.923e-02  4.859e-02 ...  5.557e-02  5.033e-02]\n"
     ]
    },
    {
     "data": {
      "application/vnd.jupyter.widget-view+json": {
       "model_id": "af2fc8bd56344f28bf8ec9649599486e",
       "version_major": 2,
       "version_minor": 0
      },
      "text/plain": [
       "  0%|          | 0/10000 [00:00<?, ?it/s]"
      ]
     },
     "metadata": {},
     "output_type": "display_data"
    },
    {
     "name": "stdout",
     "output_type": "stream",
     "text": [
      "gld_params: [0.04383263 0.02397743 0.35489649 0.1382361 ]\n",
      "wrapper([ 0.000e+00  2.452e-02 ...  9.505e-01  8.341e-01]) = -0.02676059981808261\n",
      "assembly_constraint_no_mean([ 0.000e+00  2.452e-02 ...  9.505e-01  8.341e-01]) = [ 3.184e-02  2.129e-01 ... -5.599e-02 -2.637e-01]\n"
     ]
    },
    {
     "data": {
      "application/vnd.jupyter.widget-view+json": {
       "model_id": "62664d07b49c4296a761cc6bb224f7db",
       "version_major": 2,
       "version_minor": 0
      },
      "text/plain": [
       "  0%|          | 0/10000 [00:00<?, ?it/s]"
      ]
     },
     "metadata": {},
     "output_type": "display_data"
    },
    {
     "name": "stdout",
     "output_type": "stream",
     "text": [
      "gld_params: [0.04370667 0.0240501  0.35491513 0.13886165]\n",
      "wrapper([ 3.243e-18  3.590e-02 ...  9.678e-01  8.775e-01]) = -0.027357010988181114\n",
      "assembly_constraint_no_mean([ 3.243e-18  3.590e-02 ...  9.678e-01  8.775e-01]) = [ 4.336e-02  7.562e-02 ...  4.669e-02  4.601e-02]\n"
     ]
    },
    {
     "data": {
      "application/vnd.jupyter.widget-view+json": {
       "model_id": "11c2ee03fd6d4a03ba42298ce7d26464",
       "version_major": 2,
       "version_minor": 0
      },
      "text/plain": [
       "  0%|          | 0/10000 [00:00<?, ?it/s]"
      ]
     },
     "metadata": {},
     "output_type": "display_data"
    },
    {
     "name": "stdout",
     "output_type": "stream",
     "text": [
      "gld_params: [0.04407187 0.02388882 0.35439311 0.13830734]\n",
      "wrapper([ 0.000e+00  8.232e-03 ...  9.699e-01  8.742e-01]) = -0.02573880532549504\n",
      "assembly_constraint_no_mean([ 0.000e+00  8.232e-03 ...  9.699e-01  8.742e-01]) = [-1.152e-01 -1.716e-01 ... -1.041e-01  4.372e-02]\n"
     ]
    },
    {
     "data": {
      "application/vnd.jupyter.widget-view+json": {
       "model_id": "9eb436139ad24c8d917d1386c15941ae",
       "version_major": 2,
       "version_minor": 0
      },
      "text/plain": [
       "  0%|          | 0/10000 [00:00<?, ?it/s]"
      ]
     },
     "metadata": {},
     "output_type": "display_data"
    },
    {
     "name": "stdout",
     "output_type": "stream",
     "text": [
      "gld_params: [0.04369761 0.02406008 0.35514734 0.13901666]\n",
      "wrapper([ 0.000e+00  2.235e-02 ...  9.689e-01  8.765e-01]) = -0.027356953573454676\n",
      "assembly_constraint_no_mean([ 0.000e+00  2.235e-02 ...  9.689e-01  8.765e-01]) = [ 5.188e-02  7.635e-02 ...  5.502e-02  4.775e-02]\n"
     ]
    },
    {
     "data": {
      "application/vnd.jupyter.widget-view+json": {
       "model_id": "faa92e1f1f43429aa9de6d5f7232b415",
       "version_major": 2,
       "version_minor": 0
      },
      "text/plain": [
       "  0%|          | 0/10000 [00:00<?, ?it/s]"
      ]
     },
     "metadata": {},
     "output_type": "display_data"
    },
    {
     "name": "stdout",
     "output_type": "stream",
     "text": [
      "gld_params: [0.04387691 0.02393884 0.35455755 0.13750777]\n",
      "wrapper([ 0.000e+00  3.237e-02 ...  9.648e-01  8.656e-01]) = -0.026655658939158194\n",
      "assembly_constraint_no_mean([ 0.000e+00  3.237e-02 ...  9.648e-01  8.656e-01]) = [-9.490e-02  1.381e-01 ... -2.306e-01 -2.896e-02]\n"
     ]
    },
    {
     "data": {
      "application/vnd.jupyter.widget-view+json": {
       "model_id": "b32b3e661f00458d828e2b056ab5205e",
       "version_major": 2,
       "version_minor": 0
      },
      "text/plain": [
       "  0%|          | 0/10000 [00:00<?, ?it/s]"
      ]
     },
     "metadata": {},
     "output_type": "display_data"
    },
    {
     "name": "stdout",
     "output_type": "stream",
     "text": [
      "gld_params: [0.04369139 0.02405351 0.35504029 0.13897103]\n",
      "wrapper([ 0.000e+00  2.378e-02 ...  9.641e-01  8.833e-01]) = -0.02737103095004074\n",
      "assembly_constraint_no_mean([ 0.000e+00  2.378e-02 ...  9.641e-01  8.833e-01]) = [ 5.988e-02  5.276e-02 ...  5.077e-02  5.064e-02]\n"
     ]
    },
    {
     "data": {
      "application/vnd.jupyter.widget-view+json": {
       "model_id": "bcc1f478edb14af4ba04156f68023de1",
       "version_major": 2,
       "version_minor": 0
      },
      "text/plain": [
       "  0%|          | 0/10000 [00:00<?, ?it/s]"
      ]
     },
     "metadata": {},
     "output_type": "display_data"
    },
    {
     "name": "stdout",
     "output_type": "stream",
     "text": [
      "gld_params: [0.04375137 0.0240231  0.35428182 0.13832759]\n",
      "wrapper([ 0.000e+00  4.432e-02 ...  9.692e-01  8.770e-01]) = -0.027324470277531276\n",
      "assembly_constraint_no_mean([ 0.000e+00  4.432e-02 ...  9.692e-01  8.770e-01]) = [-7.550e-02  2.378e-01 ... -2.360e-02  5.249e-02]\n"
     ]
    },
    {
     "data": {
      "application/vnd.jupyter.widget-view+json": {
       "model_id": "d59b5109e79c4c4db588693617b1e265",
       "version_major": 2,
       "version_minor": 0
      },
      "text/plain": [
       "  0%|          | 0/10000 [00:00<?, ?it/s]"
      ]
     },
     "metadata": {},
     "output_type": "display_data"
    },
    {
     "name": "stdout",
     "output_type": "stream",
     "text": [
      "gld_params: [0.04369049 0.02405795 0.35507089 0.13909049]\n",
      "wrapper([ 2.312e-17  2.143e-02 ...  9.604e-01  8.872e-01]) = -0.02736594083625756\n",
      "assembly_constraint_no_mean([ 2.312e-17  2.143e-02 ...  9.604e-01  8.872e-01]) = [ 5.563e-02  6.539e-02 ...  5.136e-02  4.796e-02]\n"
     ]
    },
    {
     "data": {
      "application/vnd.jupyter.widget-view+json": {
       "model_id": "940d64bb907c41fea7a5f9d2ed44355f",
       "version_major": 2,
       "version_minor": 0
      },
      "text/plain": [
       "  0%|          | 0/10000 [00:00<?, ?it/s]"
      ]
     },
     "metadata": {},
     "output_type": "display_data"
    },
    {
     "name": "stdout",
     "output_type": "stream",
     "text": [
      "gld_params: [0.04378317 0.02400562 0.35468682 0.13897936]\n",
      "wrapper([ 0.000e+00  1.330e-02 ...  9.523e-01  8.980e-01]) = -0.02693104181372843\n",
      "assembly_constraint_no_mean([ 0.000e+00  1.330e-02 ...  9.523e-01  8.980e-01]) = [-9.713e-02  6.045e-02 ...  3.773e-02  5.538e-02]\n"
     ]
    },
    {
     "data": {
      "application/vnd.jupyter.widget-view+json": {
       "model_id": "ca1298fd7e0a4a47ad32902da8aaa2a8",
       "version_major": 2,
       "version_minor": 0
      },
      "text/plain": [
       "  0%|          | 0/10000 [00:00<?, ?it/s]"
      ]
     },
     "metadata": {},
     "output_type": "display_data"
    },
    {
     "name": "stdout",
     "output_type": "stream",
     "text": [
      "gld_params: [0.04370813 0.02405275 0.35506332 0.13877018]\n",
      "wrapper([ 2.003e-18  1.818e-02 ...  9.605e-01  8.876e-01]) = -0.02735642485867779\n",
      "assembly_constraint_no_mean([ 2.003e-18  1.818e-02 ...  9.605e-01  8.876e-01]) = [ 5.645e-02  6.352e-02 ...  5.077e-02  5.087e-02]\n"
     ]
    },
    {
     "data": {
      "application/vnd.jupyter.widget-view+json": {
       "model_id": "0dab390497f947a298cd3605c5d066f6",
       "version_major": 2,
       "version_minor": 0
      },
      "text/plain": [
       "  0%|          | 0/10000 [00:00<?, ?it/s]"
      ]
     },
     "metadata": {},
     "output_type": "display_data"
    },
    {
     "name": "stdout",
     "output_type": "stream",
     "text": [
      "gld_params: [0.04378142 0.02401806 0.35470399 0.1386942 ]\n",
      "wrapper([ 0.000e+00  3.751e-02 ...  9.899e-01  8.789e-01]) = -0.027054381483939405\n",
      "assembly_constraint_no_mean([ 0.000e+00  3.751e-02 ...  9.899e-01  8.789e-01]) = [-6.450e-02  1.078e-02 ...  1.695e-01  1.863e-01]\n"
     ]
    },
    {
     "data": {
      "application/vnd.jupyter.widget-view+json": {
       "model_id": "746518c3f60e488fbb44c00812106e39",
       "version_major": 2,
       "version_minor": 0
      },
      "text/plain": [
       "  0%|          | 0/10000 [00:00<?, ?it/s]"
      ]
     },
     "metadata": {},
     "output_type": "display_data"
    },
    {
     "name": "stdout",
     "output_type": "stream",
     "text": [
      "gld_params: [0.0436699  0.0240588  0.35548665 0.13897592]\n",
      "wrapper([ 3.200e-19  2.071e-02 ...  9.650e-01  8.820e-01]) = -0.027371147108082215\n",
      "assembly_constraint_no_mean([ 3.200e-19  2.071e-02 ...  9.650e-01  8.820e-01]) = [ 5.319e-02  6.042e-02 ...  5.256e-02  4.963e-02]\n"
     ]
    },
    {
     "data": {
      "application/vnd.jupyter.widget-view+json": {
       "model_id": "f2ef0c12e0f4420e9829f8a1f6d5e8ef",
       "version_major": 2,
       "version_minor": 0
      },
      "text/plain": [
       "  0%|          | 0/10000 [00:00<?, ?it/s]"
      ]
     },
     "metadata": {},
     "output_type": "display_data"
    },
    {
     "name": "stdout",
     "output_type": "stream",
     "text": [
      "gld_params: [0.04364069 0.02405366 0.35527317 0.13923367]\n",
      "wrapper([ 3.626e-18  1.806e-02 ...  9.289e-01  9.262e-01]) = -0.02741633216851177\n",
      "assembly_constraint_no_mean([ 3.626e-18  1.806e-02 ...  9.289e-01  9.262e-01]) = [ 5.728e-02  3.569e-02 ...  5.091e-02  7.602e-02]\n"
     ]
    },
    {
     "data": {
      "application/vnd.jupyter.widget-view+json": {
       "model_id": "8c136255301a467c94bb0ac4ea593d27",
       "version_major": 2,
       "version_minor": 0
      },
      "text/plain": [
       "  0%|          | 0/10000 [00:00<?, ?it/s]"
      ]
     },
     "metadata": {},
     "output_type": "display_data"
    },
    {
     "name": "stdout",
     "output_type": "stream",
     "text": [
      "gld_params: [0.04360335 0.02409593 0.35470367 0.13938561]\n",
      "wrapper([ 0.000e+00  2.985e-02 ...  9.678e-01  8.820e-01]) = -0.02781949588754247\n",
      "assembly_constraint_no_mean([ 0.000e+00  2.985e-02 ...  9.678e-01  8.820e-01]) = [ 2.038e-01  2.340e-03 ...  2.637e-02  6.645e-02]\n"
     ]
    },
    {
     "data": {
      "application/vnd.jupyter.widget-view+json": {
       "model_id": "cf2435b1d8cb429f91b227e58eab25e4",
       "version_major": 2,
       "version_minor": 0
      },
      "text/plain": [
       "  0%|          | 0/10000 [00:00<?, ?it/s]"
      ]
     },
     "metadata": {},
     "output_type": "display_data"
    },
    {
     "name": "stdout",
     "output_type": "stream",
     "text": [
      "gld_params: [0.04369493 0.02406738 0.35497458 0.13928783]\n",
      "wrapper([ 3.561e-18  7.212e-03 ...  9.702e-01  8.760e-01]) = -0.027380142933264826\n",
      "assembly_constraint_no_mean([ 3.561e-18  7.212e-03 ...  9.702e-01  8.760e-01]) = [ 6.653e-02  3.873e-02 ...  4.866e-02  5.204e-02]\n"
     ]
    },
    {
     "data": {
      "application/vnd.jupyter.widget-view+json": {
       "model_id": "50ad45b167414c61966503b0ae61570b",
       "version_major": 2,
       "version_minor": 0
      },
      "text/plain": [
       "  0%|          | 0/10000 [00:00<?, ?it/s]"
      ]
     },
     "metadata": {},
     "output_type": "display_data"
    },
    {
     "name": "stdout",
     "output_type": "stream",
     "text": [
      "gld_params: [0.043779   0.02404499 0.35522802 0.13963063]\n",
      "wrapper([ 0.000e+00  4.140e-02 ...  9.469e-01  8.917e-01]) = -0.02690624123035419\n",
      "assembly_constraint_no_mean([ 0.000e+00  4.140e-02 ...  9.469e-01  8.917e-01]) = [ 6.692e-02 -5.722e-02 ... -5.865e-02 -8.335e-03]\n"
     ]
    },
    {
     "data": {
      "application/vnd.jupyter.widget-view+json": {
       "model_id": "56bdfcdcfbff4916a6f39e7496337587",
       "version_major": 2,
       "version_minor": 0
      },
      "text/plain": [
       "  0%|          | 0/10000 [00:00<?, ?it/s]"
      ]
     },
     "metadata": {},
     "output_type": "display_data"
    },
    {
     "name": "stdout",
     "output_type": "stream",
     "text": [
      "gld_params: [0.04364307 0.02405364 0.35523117 0.13934978]\n",
      "wrapper([ 3.367e-18  2.615e-03 ...  9.453e-01  9.047e-01]) = -0.027393805410916204\n",
      "assembly_constraint_no_mean([ 3.367e-18  2.615e-03 ...  9.453e-01  9.047e-01]) = [ 5.185e-02  5.131e-02 ...  5.245e-02  5.010e-02]\n"
     ]
    },
    {
     "data": {
      "application/vnd.jupyter.widget-view+json": {
       "model_id": "94bdc22ce6ee4805af88638199e3cff2",
       "version_major": 2,
       "version_minor": 0
      },
      "text/plain": [
       "  0%|          | 0/10000 [00:00<?, ?it/s]"
      ]
     },
     "metadata": {},
     "output_type": "display_data"
    },
    {
     "name": "stdout",
     "output_type": "stream",
     "text": [
      "gld_params: [0.04358971 0.02409954 0.35460264 0.13906095]\n",
      "wrapper([ 0.000e+00  1.559e-02 ...  9.518e-01  8.796e-01]) = -0.027964797008812478\n",
      "assembly_constraint_no_mean([ 0.000e+00  1.559e-02 ...  9.518e-01  8.796e-01]) = [ 9.462e-02  3.482e-02 ...  1.427e-01 -4.032e-02]\n"
     ]
    },
    {
     "data": {
      "application/vnd.jupyter.widget-view+json": {
       "model_id": "7ad342e7a3534953ae2363dbebf200f2",
       "version_major": 2,
       "version_minor": 0
      },
      "text/plain": [
       "  0%|          | 0/10000 [00:00<?, ?it/s]"
      ]
     },
     "metadata": {},
     "output_type": "display_data"
    },
    {
     "name": "stdout",
     "output_type": "stream",
     "text": [
      "gld_params: [0.04368454 0.02406066 0.354403   0.13991292]\n",
      "wrapper([ 4.456e-03  1.588e-02 ...  9.534e-01  8.966e-01]) = -0.027357942658338165\n",
      "assembly_constraint_no_mean([ 4.456e-03  1.588e-02 ...  9.534e-01  8.966e-01]) = [ 5.217e-02  5.318e-02 ...  4.955e-02  5.415e-02]\n"
     ]
    },
    {
     "data": {
      "application/vnd.jupyter.widget-view+json": {
       "model_id": "1218133d0aa344a3b2a2b7a1ef69ea42",
       "version_major": 2,
       "version_minor": 0
      },
      "text/plain": [
       "  0%|          | 0/10000 [00:00<?, ?it/s]"
      ]
     },
     "metadata": {},
     "output_type": "display_data"
    },
    {
     "name": "stdout",
     "output_type": "stream",
     "text": [
      "gld_params: [0.04368205 0.02406027 0.35438852 0.13998845]\n",
      "wrapper([ 1.370e-02  1.823e-02 ...  9.652e-01  8.826e-01]) = -0.027350282391141005\n",
      "assembly_constraint_no_mean([ 1.370e-02  1.823e-02 ...  9.652e-01  8.826e-01]) = [ 5.451e-02  5.647e-02 ...  5.440e-02  5.390e-02]\n"
     ]
    },
    {
     "data": {
      "application/vnd.jupyter.widget-view+json": {
       "model_id": "19b01a6578b744d69a04095606ca2679",
       "version_major": 2,
       "version_minor": 0
      },
      "text/plain": [
       "  0%|          | 0/10000 [00:00<?, ?it/s]"
      ]
     },
     "metadata": {},
     "output_type": "display_data"
    },
    {
     "name": "stdout",
     "output_type": "stream",
     "text": [
      "gld_params: [0.04358972 0.02408908 0.35405441 0.13977378]\n",
      "wrapper([ 1.738e-02  4.086e-02 ...  9.635e-01  8.993e-01]) = -0.02787072107489395\n",
      "assembly_constraint_no_mean([ 1.738e-02  4.086e-02 ...  9.635e-01  8.993e-01]) = [ 5.599e-02 -2.675e-02 ...  1.762e-02  1.278e-01]\n"
     ]
    },
    {
     "data": {
      "application/vnd.jupyter.widget-view+json": {
       "model_id": "ecf059da3a5140baa998c3f4c755bd64",
       "version_major": 2,
       "version_minor": 0
      },
      "text/plain": [
       "  0%|          | 0/10000 [00:00<?, ?it/s]"
      ]
     },
     "metadata": {},
     "output_type": "display_data"
    },
    {
     "name": "stdout",
     "output_type": "stream",
     "text": [
      "gld_params: [0.0436642  0.0240516  0.35515691 0.13922155]\n",
      "wrapper([ 1.405e-02  2.423e-02 ...  9.552e-01  8.939e-01]) = -0.027364078872456836\n",
      "assembly_constraint_no_mean([ 1.405e-02  2.423e-02 ...  9.552e-01  8.939e-01]) = [ 4.857e-02  5.452e-02 ...  5.354e-02  5.102e-02]\n"
     ]
    },
    {
     "data": {
      "application/vnd.jupyter.widget-view+json": {
       "model_id": "8ea6b5ac21174e769ff9d941e71975d2",
       "version_major": 2,
       "version_minor": 0
      },
      "text/plain": [
       "  0%|          | 0/10000 [00:00<?, ?it/s]"
      ]
     },
     "metadata": {},
     "output_type": "display_data"
    },
    {
     "name": "stdout",
     "output_type": "stream",
     "text": [
      "gld_params: [0.04366025 0.02403338 0.35478929 0.13923658]\n",
      "wrapper([ 9.512e-02  3.490e-02 ...  9.533e-01  8.982e-01]) = -0.027349953443506894\n",
      "assembly_constraint_no_mean([ 9.512e-02  3.490e-02 ...  9.533e-01  8.982e-01]) = [ 7.557e-02  6.124e-02 ...  4.214e-02  6.207e-02]\n"
     ]
    },
    {
     "data": {
      "application/vnd.jupyter.widget-view+json": {
       "model_id": "5ab4f7a0ab7742208fb37857e4a2f1f9",
       "version_major": 2,
       "version_minor": 0
      },
      "text/plain": [
       "  0%|          | 0/10000 [00:00<?, ?it/s]"
      ]
     },
     "metadata": {},
     "output_type": "display_data"
    },
    {
     "name": "stdout",
     "output_type": "stream",
     "text": [
      "gld_params: [0.04363495 0.02404101 0.35478332 0.13869278]\n",
      "wrapper([ 6.948e-03  3.344e-02 ...  9.873e-01  9.124e-01]) = -0.027571342929281355\n",
      "assembly_constraint_no_mean([ 6.948e-03  3.344e-02 ...  9.873e-01  9.124e-01]) = [ 1.563e-01 -3.963e-02 ... -1.545e-01  3.324e-01]\n"
     ]
    },
    {
     "data": {
      "application/vnd.jupyter.widget-view+json": {
       "model_id": "14064e29e4664f29a4160b6f02f3f932",
       "version_major": 2,
       "version_minor": 0
      },
      "text/plain": [
       "  0%|          | 0/10000 [00:00<?, ?it/s]"
      ]
     },
     "metadata": {},
     "output_type": "display_data"
    },
    {
     "name": "stdout",
     "output_type": "stream",
     "text": [
      "gld_params: [0.04363938 0.02407377 0.35538058 0.13972491]\n",
      "wrapper([ 5.204e-18  2.598e-02 ...  9.509e-01  8.981e-01]) = -0.027401728954617628\n",
      "assembly_constraint_no_mean([ 5.204e-18  2.598e-02 ...  9.509e-01  8.981e-01]) = [ 8.629e-02  3.936e-02 ...  5.058e-02  4.841e-02]\n"
     ]
    },
    {
     "data": {
      "application/vnd.jupyter.widget-view+json": {
       "model_id": "ccc98e515e9c458e8369e575276c3dad",
       "version_major": 2,
       "version_minor": 0
      },
      "text/plain": [
       "  0%|          | 0/10000 [00:00<?, ?it/s]"
      ]
     },
     "metadata": {},
     "output_type": "display_data"
    },
    {
     "name": "stdout",
     "output_type": "stream",
     "text": [
      "gld_params: [0.0438301  0.02397851 0.35434743 0.13906228]\n",
      "wrapper([ 1.356e-02  2.368e-02 ...  9.473e-01  8.925e-01]) = -0.02671080900432104\n",
      "assembly_constraint_no_mean([ 1.356e-02  2.368e-02 ...  9.473e-01  8.925e-01]) = [ 2.086e-01  1.267e-01 ...  1.079e-01 -1.554e-03]\n"
     ]
    },
    {
     "data": {
      "application/vnd.jupyter.widget-view+json": {
       "model_id": "8b879657c1934e87a92525cadb1314ce",
       "version_major": 2,
       "version_minor": 0
      },
      "text/plain": [
       "  0%|          | 0/10000 [00:00<?, ?it/s]"
      ]
     },
     "metadata": {},
     "output_type": "display_data"
    },
    {
     "name": "stdout",
     "output_type": "stream",
     "text": [
      "gld_params: [0.043647   0.02406838 0.3550748  0.13986053]\n",
      "wrapper([ 1.735e-18  2.808e-02 ...  9.532e-01  8.962e-01]) = -0.02738410147096474\n",
      "assembly_constraint_no_mean([ 1.735e-18  2.808e-02 ...  9.532e-01  8.962e-01]) = [ 6.275e-02  4.977e-02 ...  5.159e-02  5.176e-02]\n"
     ]
    },
    {
     "data": {
      "application/vnd.jupyter.widget-view+json": {
       "model_id": "da60f0944d2e417093355f3142a22803",
       "version_major": 2,
       "version_minor": 0
      },
      "text/plain": [
       "  0%|          | 0/10000 [00:00<?, ?it/s]"
      ]
     },
     "metadata": {},
     "output_type": "display_data"
    },
    {
     "name": "stdout",
     "output_type": "stream",
     "text": [
      "gld_params: [0.04366697 0.02405344 0.35489433 0.13935402]\n",
      "wrapper([ 2.626e-02  1.276e-02 ...  9.596e-01  9.028e-01]) = -0.027389724110588518\n",
      "assembly_constraint_no_mean([ 2.626e-02  1.276e-02 ...  9.596e-01  9.028e-01]) = [-7.219e-02  2.412e-01 ...  3.613e-02  1.244e-01]\n"
     ]
    },
    {
     "data": {
      "application/vnd.jupyter.widget-view+json": {
       "model_id": "40587f82c59048e08d32c15a2c9b0c76",
       "version_major": 2,
       "version_minor": 0
      },
      "text/plain": [
       "  0%|          | 0/10000 [00:00<?, ?it/s]"
      ]
     },
     "metadata": {},
     "output_type": "display_data"
    },
    {
     "name": "stdout",
     "output_type": "stream",
     "text": [
      "gld_params: [0.04365058 0.02406905 0.35515287 0.13969673]\n",
      "wrapper([ 3.469e-18  1.333e-02 ...  9.508e-01  8.990e-01]) = -0.027395835528465015\n",
      "assembly_constraint_no_mean([ 3.469e-18  1.333e-02 ...  9.508e-01  8.990e-01]) = [ 6.886e-02  4.612e-02 ...  4.961e-02  5.203e-02]\n"
     ]
    },
    {
     "data": {
      "application/vnd.jupyter.widget-view+json": {
       "model_id": "5cf7d7bd6f0948cc9cfbf95720dbbe3e",
       "version_major": 2,
       "version_minor": 0
      },
      "text/plain": [
       "  0%|          | 0/10000 [00:00<?, ?it/s]"
      ]
     },
     "metadata": {},
     "output_type": "display_data"
    },
    {
     "name": "stdout",
     "output_type": "stream",
     "text": [
      "gld_params: [0.04354065 0.02413217 0.35488632 0.14025512]\n",
      "wrapper([ 1.417e-02  4.435e-02 ...  9.613e-01  8.982e-01]) = -0.027972748765325538\n",
      "assembly_constraint_no_mean([ 1.417e-02  4.435e-02 ...  9.613e-01  8.982e-01]) = [-8.662e-02  2.085e-01 ...  2.428e-01  1.078e-01]\n"
     ]
    },
    {
     "data": {
      "application/vnd.jupyter.widget-view+json": {
       "model_id": "384c4a494a1e4aab9acc98aa2db846d0",
       "version_major": 2,
       "version_minor": 0
      },
      "text/plain": [
       "  0%|          | 0/10000 [00:00<?, ?it/s]"
      ]
     },
     "metadata": {},
     "output_type": "display_data"
    },
    {
     "name": "stdout",
     "output_type": "stream",
     "text": [
      "gld_params: [0.04366765 0.02406362 0.35496348 0.13951708]\n",
      "wrapper([ 1.735e-18  7.609e-03 ...  9.532e-01  8.964e-01]) = -0.027393227562574195\n",
      "assembly_constraint_no_mean([ 1.735e-18  7.609e-03 ...  9.532e-01  8.964e-01]) = [ 5.819e-02  4.701e-02 ...  5.133e-02  5.215e-02]\n"
     ]
    },
    {
     "data": {
      "application/vnd.jupyter.widget-view+json": {
       "model_id": "636dc05a9a614ec5a61cbab861b7aa90",
       "version_major": 2,
       "version_minor": 0
      },
      "text/plain": [
       "  0%|          | 0/10000 [00:00<?, ?it/s]"
      ]
     },
     "metadata": {},
     "output_type": "display_data"
    },
    {
     "name": "stdout",
     "output_type": "stream",
     "text": [
      "gld_params: [0.04370916 0.02405521 0.3551872  0.13996414]\n",
      "wrapper([ 7.891e-03  2.342e-02 ...  9.505e-01  8.878e-01]) = -0.027094404076765274\n",
      "assembly_constraint_no_mean([ 7.891e-03  2.342e-02 ...  9.505e-01  8.878e-01]) = [-8.066e-02 -9.525e-02 ...  2.076e-01 -1.256e-03]\n"
     ]
    },
    {
     "data": {
      "application/vnd.jupyter.widget-view+json": {
       "model_id": "8cda4f58497e44daae661a4f6350966d",
       "version_major": 2,
       "version_minor": 0
      },
      "text/plain": [
       "  0%|          | 0/10000 [00:00<?, ?it/s]"
      ]
     },
     "metadata": {},
     "output_type": "display_data"
    },
    {
     "name": "stdout",
     "output_type": "stream",
     "text": [
      "gld_params: [0.04365199 0.02407506 0.35533621 0.1396388 ]\n",
      "wrapper([ 0.000e+00  0.000e+00 ...  9.499e-01  8.999e-01]) = -0.02739888125199302\n",
      "assembly_constraint_no_mean([ 0.000e+00  0.000e+00 ...  9.499e-01  8.999e-01]) = [ 7.023e-02  4.683e-02 ...  5.043e-02  5.162e-02]\n"
     ]
    },
    {
     "data": {
      "application/vnd.jupyter.widget-view+json": {
       "model_id": "ac7975d7c95e477dbf5351a19cc0ff17",
       "version_major": 2,
       "version_minor": 0
      },
      "text/plain": [
       "  0%|          | 0/10000 [00:00<?, ?it/s]"
      ]
     },
     "metadata": {},
     "output_type": "display_data"
    },
    {
     "name": "stdout",
     "output_type": "stream",
     "text": [
      "gld_params: [0.04379269 0.02404875 0.35497448 0.14045592]\n",
      "wrapper([ 2.946e-02  4.717e-02 ...  9.684e-01  8.821e-01]) = -0.02676763764206165\n",
      "assembly_constraint_no_mean([ 2.946e-02  4.717e-02 ...  9.684e-01  8.821e-01]) = [-1.839e-02 -9.792e-02 ...  1.055e-01  7.071e-02]\n"
     ]
    },
    {
     "data": {
      "application/vnd.jupyter.widget-view+json": {
       "model_id": "e19c2320afe041f68bad6f2cf1a0d8aa",
       "version_major": 2,
       "version_minor": 0
      },
      "text/plain": [
       "  0%|          | 0/10000 [00:00<?, ?it/s]"
      ]
     },
     "metadata": {},
     "output_type": "display_data"
    },
    {
     "name": "stdout",
     "output_type": "stream",
     "text": [
      "gld_params: [0.04364786 0.02407878 0.35543655 0.13967155]\n",
      "wrapper([ 0.000e+00  0.000e+00 ...  9.501e-01  8.996e-01]) = -0.027403471187295067\n",
      "assembly_constraint_no_mean([ 0.000e+00  0.000e+00 ...  9.501e-01  8.996e-01]) = [ 6.987e-02  4.810e-02 ...  5.034e-02  5.138e-02]\n"
     ]
    },
    {
     "data": {
      "application/vnd.jupyter.widget-view+json": {
       "model_id": "8ba4c95523f44816a79ff8309d6f34a1",
       "version_major": 2,
       "version_minor": 0
      },
      "text/plain": [
       "  0%|          | 0/10000 [00:00<?, ?it/s]"
      ]
     },
     "metadata": {},
     "output_type": "display_data"
    },
    {
     "name": "stdout",
     "output_type": "stream",
     "text": [
      "gld_params: [0.04371883 0.02401856 0.35545989 0.13949703]\n",
      "wrapper([ 1.747e-02  3.029e-02 ...  9.648e-01  9.136e-01]) = -0.026922558758191096\n",
      "assembly_constraint_no_mean([ 1.747e-02  3.029e-02 ...  9.648e-01  9.136e-01]) = [-2.092e-03  1.410e-01 ...  1.393e-02  2.062e-01]\n"
     ]
    },
    {
     "data": {
      "application/vnd.jupyter.widget-view+json": {
       "model_id": "ceec5e498942438c85f3fd7e934bd296",
       "version_major": 2,
       "version_minor": 0
      },
      "text/plain": [
       "  0%|          | 0/10000 [00:00<?, ?it/s]"
      ]
     },
     "metadata": {},
     "output_type": "display_data"
    },
    {
     "name": "stdout",
     "output_type": "stream",
     "text": [
      "gld_params: [0.04364274 0.02408536 0.35538932 0.13993917]\n",
      "wrapper([ 0.000e+00  9.275e-03 ...  9.505e-01  8.993e-01]) = -0.027406138062154264\n",
      "assembly_constraint_no_mean([ 0.000e+00  9.275e-03 ...  9.505e-01  8.993e-01]) = [ 7.083e-02  4.869e-02 ...  4.869e-02  5.142e-02]\n"
     ]
    },
    {
     "data": {
      "application/vnd.jupyter.widget-view+json": {
       "model_id": "d6284706fd8b4548a37cab642a578461",
       "version_major": 2,
       "version_minor": 0
      },
      "text/plain": [
       "  0%|          | 0/10000 [00:00<?, ?it/s]"
      ]
     },
     "metadata": {},
     "output_type": "display_data"
    },
    {
     "name": "stdout",
     "output_type": "stream",
     "text": [
      "gld_params: [0.04328676 0.02420697 0.35505195 0.13920627]\n",
      "wrapper([ 1.149e-02  3.258e-02 ...  9.515e-01  8.929e-01]) = -0.029300425636934642\n",
      "assembly_constraint_no_mean([ 1.149e-02  3.258e-02 ...  9.515e-01  8.929e-01]) = [ 3.458e-01  8.824e-02 ...  1.182e-01  2.434e-02]\n"
     ]
    },
    {
     "data": {
      "application/vnd.jupyter.widget-view+json": {
       "model_id": "9a5a716158b545fa9965410ed6cc0452",
       "version_major": 2,
       "version_minor": 0
      },
      "text/plain": [
       "  0%|          | 0/10000 [00:00<?, ?it/s]"
      ]
     },
     "metadata": {},
     "output_type": "display_data"
    },
    {
     "name": "stdout",
     "output_type": "stream",
     "text": [
      "gld_params: [0.04363796 0.02408059 0.35540216 0.13986943]\n",
      "wrapper([ 0.000e+00  1.042e-02 ...  9.499e-01  8.999e-01]) = -0.027406986068776475\n",
      "assembly_constraint_no_mean([ 0.000e+00  1.042e-02 ...  9.499e-01  8.999e-01]) = [ 7.083e-02  4.907e-02 ...  5.073e-02  5.113e-02]\n"
     ]
    },
    {
     "data": {
      "application/vnd.jupyter.widget-view+json": {
       "model_id": "d22dce84ca99476f84577bb438716441",
       "version_major": 2,
       "version_minor": 0
      },
      "text/plain": [
       "  0%|          | 0/10000 [00:00<?, ?it/s]"
      ]
     },
     "metadata": {},
     "output_type": "display_data"
    },
    {
     "name": "stdout",
     "output_type": "stream",
     "text": [
      "gld_params: [0.04370572 0.02402878 0.35525576 0.1392067 ]\n",
      "wrapper([ 9.160e-03  2.236e-02 ...  9.384e-01  8.967e-01]) = -0.027110397401374182\n",
      "assembly_constraint_no_mean([ 9.160e-03  2.236e-02 ...  9.384e-01  8.967e-01]) = [ 1.895e-01 -1.033e-01 ...  8.492e-02 -3.049e-02]\n"
     ]
    },
    {
     "data": {
      "application/vnd.jupyter.widget-view+json": {
       "model_id": "3f4700de87a24ae191b5e4550a9a087a",
       "version_major": 2,
       "version_minor": 0
      },
      "text/plain": [
       "  0%|          | 0/10000 [00:00<?, ?it/s]"
      ]
     },
     "metadata": {},
     "output_type": "display_data"
    },
    {
     "name": "stdout",
     "output_type": "stream",
     "text": [
      "gld_params: [0.04364528 0.02408385 0.35550167 0.13974266]\n",
      "wrapper([ 8.888e-05  9.834e-03 ...  9.496e-01  9.003e-01]) = -0.027409565616077523\n",
      "assembly_constraint_no_mean([ 8.888e-05  9.834e-03 ...  9.496e-01  9.003e-01]) = [ 6.241e-02  4.858e-02 ...  4.968e-02  5.175e-02]\n"
     ]
    },
    {
     "data": {
      "application/vnd.jupyter.widget-view+json": {
       "model_id": "66751b489b2f4a37b6e6443bd536b165",
       "version_major": 2,
       "version_minor": 0
      },
      "text/plain": [
       "  0%|          | 0/10000 [00:00<?, ?it/s]"
      ]
     },
     "metadata": {},
     "output_type": "display_data"
    },
    {
     "name": "stdout",
     "output_type": "stream",
     "text": [
      "gld_params: [0.04378864 0.02396761 0.3549471  0.13852249]\n",
      "wrapper([ 3.109e-02  3.356e-02 ...  9.311e-01  8.934e-01]) = -0.026765116194714576\n",
      "assembly_constraint_no_mean([ 3.109e-02  3.356e-02 ...  9.311e-01  8.934e-01]) = [ 7.712e-02 -2.633e-02 ... -4.052e-02 -8.168e-02]\n"
     ]
    },
    {
     "data": {
      "application/vnd.jupyter.widget-view+json": {
       "model_id": "d51e8107592e4ce59695f3a1e2b65c89",
       "version_major": 2,
       "version_minor": 0
      },
      "text/plain": [
       "  0%|          | 0/10000 [00:00<?, ?it/s]"
      ]
     },
     "metadata": {},
     "output_type": "display_data"
    },
    {
     "name": "stdout",
     "output_type": "stream",
     "text": [
      "gld_params: [0.04364742 0.0240846  0.35535836 0.13987035]\n",
      "wrapper([ 1.336e-03  1.280e-02 ...  9.502e-01  8.997e-01]) = -0.02740913167546025\n",
      "assembly_constraint_no_mean([ 1.336e-03  1.280e-02 ...  9.502e-01  8.997e-01]) = [ 6.836e-02  4.905e-02 ...  4.998e-02  5.170e-02]\n"
     ]
    },
    {
     "data": {
      "application/vnd.jupyter.widget-view+json": {
       "model_id": "342756ef12c3479d9a09886dee70f819",
       "version_major": 2,
       "version_minor": 0
      },
      "text/plain": [
       "  0%|          | 0/10000 [00:00<?, ?it/s]"
      ]
     },
     "metadata": {},
     "output_type": "display_data"
    },
    {
     "name": "stdout",
     "output_type": "stream",
     "text": [
      "gld_params: [0.04357803 0.02406788 0.35509221 0.13855131]\n",
      "wrapper([ 0.000e+00  2.893e-02 ...  9.759e-01  8.777e-01]) = -0.02784233633820473\n",
      "assembly_constraint_no_mean([ 0.000e+00  2.893e-02 ...  9.759e-01  8.777e-01]) = [ 2.952e-03  1.993e-01 ...  1.311e-01  9.991e-02]\n"
     ]
    },
    {
     "data": {
      "application/vnd.jupyter.widget-view+json": {
       "model_id": "f30fcaae41a0448da01bd2cc664342b8",
       "version_major": 2,
       "version_minor": 0
      },
      "text/plain": [
       "  0%|          | 0/10000 [00:00<?, ?it/s]"
      ]
     },
     "metadata": {},
     "output_type": "display_data"
    },
    {
     "name": "stdout",
     "output_type": "stream",
     "text": [
      "gld_params: [0.04364277 0.02408671 0.35542397 0.13993462]\n",
      "wrapper([ 4.547e-03  7.732e-03 ...  9.498e-01  9.001e-01]) = -0.027407147020777498\n",
      "assembly_constraint_no_mean([ 4.547e-03  7.732e-03 ...  9.498e-01  9.001e-01]) = [ 7.204e-02  4.890e-02 ...  4.941e-02  5.184e-02]\n"
     ]
    },
    {
     "data": {
      "application/vnd.jupyter.widget-view+json": {
       "model_id": "61344cc80d67446ab99d338dfb9583df",
       "version_major": 2,
       "version_minor": 0
      },
      "text/plain": [
       "  0%|          | 0/10000 [00:00<?, ?it/s]"
      ]
     },
     "metadata": {},
     "output_type": "display_data"
    },
    {
     "name": "stdout",
     "output_type": "stream",
     "text": [
      "gld_params: [0.04377713 0.02400373 0.3555164  0.13958969]\n",
      "wrapper([ 2.504e-02  1.038e-02 ...  9.621e-01  8.498e-01]) = -0.026655521109751782\n",
      "assembly_constraint_no_mean([ 2.504e-02  1.038e-02 ...  9.621e-01  8.498e-01]) = [ 1.025e-01 -5.851e-02 ...  1.616e-01 -1.203e-01]\n"
     ]
    },
    {
     "data": {
      "application/vnd.jupyter.widget-view+json": {
       "model_id": "9e842ca530384c0cbfdd89ba653ec03c",
       "version_major": 2,
       "version_minor": 0
      },
      "text/plain": [
       "  0%|          | 0/10000 [00:00<?, ?it/s]"
      ]
     },
     "metadata": {},
     "output_type": "display_data"
    },
    {
     "name": "stdout",
     "output_type": "stream",
     "text": [
      "gld_params: [0.04364125 0.02408382 0.35547002 0.13984531]\n",
      "wrapper([ 1.165e-03  7.432e-03 ...  9.496e-01  9.003e-01]) = -0.027405948942761903\n",
      "assembly_constraint_no_mean([ 1.165e-03  7.432e-03 ...  9.496e-01  9.003e-01]) = [ 7.317e-02  4.859e-02 ...  4.962e-02  5.175e-02]\n"
     ]
    },
    {
     "data": {
      "application/vnd.jupyter.widget-view+json": {
       "model_id": "12a54b0902a34178a4a4f780aaf94623",
       "version_major": 2,
       "version_minor": 0
      },
      "text/plain": [
       "  0%|          | 0/10000 [00:00<?, ?it/s]"
      ]
     },
     "metadata": {},
     "output_type": "display_data"
    },
    {
     "name": "stdout",
     "output_type": "stream",
     "text": [
      "gld_params: [0.04374115 0.02401664 0.35471908 0.13906475]\n",
      "wrapper([ 1.840e-02  3.718e-02 ...  9.484e-01  9.032e-01]) = -0.027081525194292837\n",
      "assembly_constraint_no_mean([ 1.840e-02  3.718e-02 ...  9.484e-01  9.032e-01]) = [ 2.019e-02 -1.262e-01 ...  2.438e-01  6.332e-02]\n"
     ]
    },
    {
     "data": {
      "application/vnd.jupyter.widget-view+json": {
       "model_id": "27be39e2ff4d46108fd05c7890bac177",
       "version_major": 2,
       "version_minor": 0
      },
      "text/plain": [
       "  0%|          | 0/10000 [00:00<?, ?it/s]"
      ]
     },
     "metadata": {},
     "output_type": "display_data"
    },
    {
     "name": "stdout",
     "output_type": "stream",
     "text": [
      "gld_params: [0.04363981 0.02408349 0.35547501 0.13985589]\n",
      "wrapper([ 5.825e-03  7.124e-03 ...  9.494e-01  9.005e-01]) = -0.0274052198328619\n",
      "assembly_constraint_no_mean([ 5.825e-03  7.124e-03 ...  9.494e-01  9.005e-01]) = [ 7.446e-02  4.896e-02 ...  4.951e-02  5.147e-02]\n"
     ]
    },
    {
     "data": {
      "application/vnd.jupyter.widget-view+json": {
       "model_id": "f697765d4a534e22bc2ef0a0b67284ac",
       "version_major": 2,
       "version_minor": 0
      },
      "text/plain": [
       "  0%|          | 0/10000 [00:00<?, ?it/s]"
      ]
     },
     "metadata": {},
     "output_type": "display_data"
    },
    {
     "name": "stdout",
     "output_type": "stream",
     "text": [
      "gld_params: [0.04379589 0.02396579 0.35585993 0.13861545]\n",
      "wrapper([ 5.182e-03  1.927e-02 ...  9.539e-01  8.853e-01]) = -0.02654105296319342\n",
      "assembly_constraint_no_mean([ 5.182e-03  1.927e-02 ...  9.539e-01  8.853e-01]) = [ 7.323e-02  4.437e-02 ... -1.416e-01  4.173e-04]\n"
     ]
    },
    {
     "data": {
      "application/vnd.jupyter.widget-view+json": {
       "model_id": "1b2261c98359428b886db97f9d36c8d1",
       "version_major": 2,
       "version_minor": 0
      },
      "text/plain": [
       "  0%|          | 0/10000 [00:00<?, ?it/s]"
      ]
     },
     "metadata": {},
     "output_type": "display_data"
    },
    {
     "name": "stdout",
     "output_type": "stream",
     "text": [
      "gld_params: [0.04363835 0.02407926 0.35555769 0.13969112]\n",
      "wrapper([ 0.000e+00  6.285e-03 ...  9.516e-01  8.981e-01]) = -0.027405251806339986\n",
      "assembly_constraint_no_mean([ 0.000e+00  6.285e-03 ...  9.516e-01  8.981e-01]) = [ 7.524e-02  4.822e-02 ...  4.965e-02  5.122e-02]\n"
     ]
    },
    {
     "data": {
      "application/vnd.jupyter.widget-view+json": {
       "model_id": "b6b65dba64e34592839f8f3cb64fe4ac",
       "version_major": 2,
       "version_minor": 0
      },
      "text/plain": [
       "  0%|          | 0/10000 [00:00<?, ?it/s]"
      ]
     },
     "metadata": {},
     "output_type": "display_data"
    },
    {
     "name": "stdout",
     "output_type": "stream",
     "text": [
      "gld_params: [0.04364134 0.02403841 0.3546347  0.13875656]\n",
      "wrapper([ 2.226e-02  2.166e-02 ...  9.638e-01  8.930e-01]) = -0.02755560834567656\n",
      "assembly_constraint_no_mean([ 2.226e-02  2.166e-02 ...  9.638e-01  8.930e-01]) = [ 7.592e-02  6.986e-02 ... -1.261e-02  9.802e-02]\n"
     ]
    },
    {
     "data": {
      "application/vnd.jupyter.widget-view+json": {
       "model_id": "31af811f76064020b4945df4c95be7c7",
       "version_major": 2,
       "version_minor": 0
      },
      "text/plain": [
       "  0%|          | 0/10000 [00:00<?, ?it/s]"
      ]
     },
     "metadata": {},
     "output_type": "display_data"
    },
    {
     "name": "stdout",
     "output_type": "stream",
     "text": [
      "gld_params: [0.04363848 0.02407722 0.35560851 0.13959498]\n",
      "wrapper([ 0.000e+00  5.738e-03 ...  9.525e-01  8.970e-01]) = -0.027404246773415214\n",
      "assembly_constraint_no_mean([ 0.000e+00  5.738e-03 ...  9.525e-01  8.970e-01]) = [ 7.359e-02  4.804e-02 ...  4.967e-02  5.131e-02]\n"
     ]
    },
    {
     "data": {
      "application/vnd.jupyter.widget-view+json": {
       "model_id": "67cbbd506f7e494cbb67e6b2dae00b9e",
       "version_major": 2,
       "version_minor": 0
      },
      "text/plain": [
       "  0%|          | 0/10000 [00:00<?, ?it/s]"
      ]
     },
     "metadata": {},
     "output_type": "display_data"
    },
    {
     "name": "stdout",
     "output_type": "stream",
     "text": [
      "gld_params: [0.04364499 0.02405248 0.35505757 0.13894476]\n",
      "wrapper([ 0.000e+00  5.908e-02 ...  9.669e-01  8.871e-01]) = -0.027496396734218873\n",
      "assembly_constraint_no_mean([ 0.000e+00  5.908e-02 ...  9.669e-01  8.871e-01]) = [ 6.119e-02  4.412e-02 ...  6.821e-02  8.583e-02]\n"
     ]
    },
    {
     "data": {
      "application/vnd.jupyter.widget-view+json": {
       "model_id": "69086704374941f0ab9df34861105743",
       "version_major": 2,
       "version_minor": 0
      },
      "text/plain": [
       "  0%|          | 0/10000 [00:00<?, ?it/s]"
      ]
     },
     "metadata": {},
     "output_type": "display_data"
    },
    {
     "name": "stdout",
     "output_type": "stream",
     "text": [
      "gld_params: [0.04363666 0.02407707 0.35565383 0.13957474]\n",
      "wrapper([ 0.000e+00  1.085e-03 ...  9.526e-01  8.968e-01]) = -0.02740393321298593\n",
      "assembly_constraint_no_mean([ 0.000e+00  1.085e-03 ...  9.526e-01  8.968e-01]) = [ 7.438e-02  4.814e-02 ...  4.990e-02  5.087e-02]\n"
     ]
    },
    {
     "data": {
      "application/vnd.jupyter.widget-view+json": {
       "model_id": "20babb92dcd74c849850292957712b4d",
       "version_major": 2,
       "version_minor": 0
      },
      "text/plain": [
       "  0%|          | 0/10000 [00:00<?, ?it/s]"
      ]
     },
     "metadata": {},
     "output_type": "display_data"
    },
    {
     "name": "stdout",
     "output_type": "stream",
     "text": [
      "gld_params: [0.04375551 0.02401756 0.35446718 0.13901188]\n",
      "wrapper([ 1.508e-02  2.623e-02 ...  9.464e-01  8.865e-01]) = -0.027105412347573753\n",
      "assembly_constraint_no_mean([ 1.508e-02  2.623e-02 ...  9.464e-01  8.865e-01]) = [-1.614e-01 -8.683e-02 ...  1.932e-01 -3.739e-02]\n"
     ]
    },
    {
     "data": {
      "application/vnd.jupyter.widget-view+json": {
       "model_id": "0d65ac178d424117b29173e201d4a8d0",
       "version_major": 2,
       "version_minor": 0
      },
      "text/plain": [
       "  0%|          | 0/10000 [00:00<?, ?it/s]"
      ]
     },
     "metadata": {},
     "output_type": "display_data"
    },
    {
     "name": "stdout",
     "output_type": "stream",
     "text": [
      "gld_params: [0.04364263 0.02407216 0.35557617 0.13943204]\n",
      "wrapper([ 0.000e+00  1.015e-03 ...  9.509e-01  8.989e-01]) = -0.027406206606513325\n",
      "assembly_constraint_no_mean([ 0.000e+00  1.015e-03 ...  9.509e-01  8.989e-01]) = [ 7.083e-02  4.819e-02 ...  5.016e-02  5.201e-02]\n"
     ]
    },
    {
     "data": {
      "application/vnd.jupyter.widget-view+json": {
       "model_id": "46ea51c0f4cb48bfb3d3c304353160c2",
       "version_major": 2,
       "version_minor": 0
      },
      "text/plain": [
       "  0%|          | 0/10000 [00:00<?, ?it/s]"
      ]
     },
     "metadata": {},
     "output_type": "display_data"
    },
    {
     "name": "stdout",
     "output_type": "stream",
     "text": [
      "gld_params: [0.04347855 0.02409236 0.3553056  0.13860666]\n",
      "wrapper([ 1.305e-02  2.019e-02 ...  9.399e-01  8.980e-01]) = -0.028203767044558625\n",
      "assembly_constraint_no_mean([ 1.305e-02  2.019e-02 ...  9.399e-01  8.980e-01]) = [-5.199e-03  2.197e-01 ...  3.841e-02 -1.524e-02]\n"
     ]
    },
    {
     "data": {
      "application/vnd.jupyter.widget-view+json": {
       "model_id": "035db787febb405999a37695778cf5ff",
       "version_major": 2,
       "version_minor": 0
      },
      "text/plain": [
       "  0%|          | 0/10000 [00:00<?, ?it/s]"
      ]
     },
     "metadata": {},
     "output_type": "display_data"
    },
    {
     "name": "stdout",
     "output_type": "stream",
     "text": [
      "gld_params: [0.04364277 0.02407437 0.35556642 0.13949561]\n",
      "wrapper([ 0.000e+00  1.325e-03 ...  9.514e-01  8.982e-01]) = -0.027406039353766457\n",
      "assembly_constraint_no_mean([ 0.000e+00  1.325e-03 ...  9.514e-01  8.982e-01]) = [ 7.031e-02  4.809e-02 ...  4.933e-02  5.124e-02]\n"
     ]
    },
    {
     "data": {
      "application/vnd.jupyter.widget-view+json": {
       "model_id": "987c39377d694a68b26bbb1e2d442376",
       "version_major": 2,
       "version_minor": 0
      },
      "text/plain": [
       "  0%|          | 0/10000 [00:00<?, ?it/s]"
      ]
     },
     "metadata": {},
     "output_type": "display_data"
    },
    {
     "name": "stdout",
     "output_type": "stream",
     "text": [
      "gld_params: [0.0434392  0.02411598 0.35537173 0.13849313]\n",
      "wrapper([ 2.031e-02  2.463e-02 ...  9.740e-01  8.966e-01]) = -0.02845281327090881\n",
      "assembly_constraint_no_mean([ 2.031e-02  2.463e-02 ...  9.740e-01  8.966e-01]) = [ 4.689e-01  6.328e-02 ...  1.527e-01  1.763e-01]\n"
     ]
    },
    {
     "data": {
      "application/vnd.jupyter.widget-view+json": {
       "model_id": "8d558160fe9b46318889033387c28ef0",
       "version_major": 2,
       "version_minor": 0
      },
      "text/plain": [
       "  0%|          | 0/10000 [00:00<?, ?it/s]"
      ]
     },
     "metadata": {},
     "output_type": "display_data"
    },
    {
     "name": "stdout",
     "output_type": "stream",
     "text": [
      "gld_params: [0.04364186 0.02407404 0.35559272 0.13948002]\n",
      "wrapper([ 0.000e+00  1.346e-04 ...  9.522e-01  8.973e-01]) = -0.02740498706217379\n",
      "assembly_constraint_no_mean([ 0.000e+00  1.346e-04 ...  9.522e-01  8.973e-01]) = [ 7.152e-02  4.793e-02 ...  4.923e-02  5.103e-02]\n"
     ]
    },
    {
     "data": {
      "application/vnd.jupyter.widget-view+json": {
       "model_id": "130bc0bdf95d43d687ec29e17e080fb0",
       "version_major": 2,
       "version_minor": 0
      },
      "text/plain": [
       "  0%|          | 0/10000 [00:00<?, ?it/s]"
      ]
     },
     "metadata": {},
     "output_type": "display_data"
    },
    {
     "name": "stdout",
     "output_type": "stream",
     "text": [
      "gld_params: [0.04360931 0.02410155 0.355097   0.14032259]\n",
      "wrapper([ 2.493e-02  3.957e-03 ...  9.628e-01  9.140e-01]) = -0.02756027933221316\n",
      "assembly_constraint_no_mean([ 2.493e-02  3.957e-03 ...  9.628e-01  9.140e-01]) = [ 5.087e-02 -1.142e-01 ...  1.328e-01  1.975e-01]\n"
     ]
    },
    {
     "data": {
      "application/vnd.jupyter.widget-view+json": {
       "model_id": "9fffce26f1cc4193901b1e71ef21fe39",
       "version_major": 2,
       "version_minor": 0
      },
      "text/plain": [
       "  0%|          | 0/10000 [00:00<?, ?it/s]"
      ]
     },
     "metadata": {},
     "output_type": "display_data"
    },
    {
     "name": "stdout",
     "output_type": "stream",
     "text": [
      "gld_params: [0.04364007 0.0240732  0.35562074 0.13946409]\n",
      "wrapper([ 0.000e+00  0.000e+00 ...  9.528e-01  8.966e-01]) = -0.027403544841180613\n",
      "assembly_constraint_no_mean([ 0.000e+00  0.000e+00 ...  9.528e-01  8.966e-01]) = [ 7.282e-02  4.777e-02 ...  4.921e-02  5.082e-02]\n",
      "\n",
      "New trust-region radius: 0.01.\n",
      "Number of function evaluations: 321.\n",
      "Number of iterations: 146.\n",
      "Least value of wrapper: -0.027364078872456836.\n",
      "Maximum constraint violation: 0.004520876725417594.\n",
      "Corresponding point: [ 1.405e-02  2.423e-02 ...  9.552e-01  8.939e-01].\n",
      "\n"
     ]
    },
    {
     "data": {
      "application/vnd.jupyter.widget-view+json": {
       "model_id": "4630f130844d4ac2870984ace56f6fb4",
       "version_major": 2,
       "version_minor": 0
      },
      "text/plain": [
       "  0%|          | 0/10000 [00:00<?, ?it/s]"
      ]
     },
     "metadata": {},
     "output_type": "display_data"
    },
    {
     "name": "stdout",
     "output_type": "stream",
     "text": [
      "gld_params: [0.0436562  0.02406241 0.35536879 0.13935302]\n",
      "wrapper([ 5.446e-03  1.223e-02 ...  9.526e-01  8.968e-01]) = -0.0273740983523662\n",
      "assembly_constraint_no_mean([ 5.446e-03  1.223e-02 ...  9.526e-01  8.968e-01]) = [ 5.261e-02  4.919e-02 ...  4.976e-02  5.082e-02]\n"
     ]
    },
    {
     "data": {
      "application/vnd.jupyter.widget-view+json": {
       "model_id": "b2ebc29b37fb40bebb27f7a8da3c4162",
       "version_major": 2,
       "version_minor": 0
      },
      "text/plain": [
       "  0%|          | 0/10000 [00:00<?, ?it/s]"
      ]
     },
     "metadata": {},
     "output_type": "display_data"
    },
    {
     "name": "stdout",
     "output_type": "stream",
     "text": [
      "gld_params: [0.04365193 0.02404769 0.355409   0.13889589]\n",
      "wrapper([ 4.532e-03  1.735e-18 ...  9.515e-01  8.978e-01]) = -0.027396566294255846\n",
      "assembly_constraint_no_mean([ 4.532e-03  1.735e-18 ...  9.515e-01  8.978e-01]) = [ 5.411e-02  6.571e-02 ...  5.117e-02  4.979e-02]\n"
     ]
    },
    {
     "data": {
      "application/vnd.jupyter.widget-view+json": {
       "model_id": "9167749eadf74e1b9b4dfd18e1a3945f",
       "version_major": 2,
       "version_minor": 0
      },
      "text/plain": [
       "  0%|          | 0/10000 [00:00<?, ?it/s]"
      ]
     },
     "metadata": {},
     "output_type": "display_data"
    },
    {
     "name": "stdout",
     "output_type": "stream",
     "text": [
      "gld_params: [0.04368568 0.0240522  0.35532862 0.13943131]\n",
      "wrapper([ 0.000e+00  1.056e-02 ...  9.498e-01  8.922e-01]) = -0.027229597755230112\n",
      "assembly_constraint_no_mean([ 0.000e+00  1.056e-02 ...  9.498e-01  8.922e-01]) = [ 8.303e-02  1.005e-02 ...  6.432e-02  1.116e-02]\n"
     ]
    },
    {
     "data": {
      "application/vnd.jupyter.widget-view+json": {
       "model_id": "bd3549ff4c1441aaa3d7dd3a6bf2980c",
       "version_major": 2,
       "version_minor": 0
      },
      "text/plain": [
       "  0%|          | 0/10000 [00:00<?, ?it/s]"
      ]
     },
     "metadata": {},
     "output_type": "display_data"
    },
    {
     "name": "stdout",
     "output_type": "stream",
     "text": [
      "gld_params: [0.04365669 0.02405949 0.35541312 0.13921235]\n",
      "wrapper([ 0.000e+00  8.613e-03 ...  9.529e-01  8.963e-01]) = -0.027377945874633963\n",
      "assembly_constraint_no_mean([ 0.000e+00  8.613e-03 ...  9.529e-01  8.963e-01]) = [ 5.102e-02  5.181e-02 ...  5.037e-02  5.002e-02]\n"
     ]
    },
    {
     "data": {
      "application/vnd.jupyter.widget-view+json": {
       "model_id": "998c3f02daf64c20b6a09f799db006da",
       "version_major": 2,
       "version_minor": 0
      },
      "text/plain": [
       "  0%|          | 0/10000 [00:00<?, ?it/s]"
      ]
     },
     "metadata": {},
     "output_type": "display_data"
    },
    {
     "name": "stdout",
     "output_type": "stream",
     "text": [
      "gld_params: [0.04364682 0.02405655 0.35545371 0.13923641]\n",
      "wrapper([ 9.978e-03  5.224e-03 ...  9.487e-01  9.010e-01]) = -0.027377951915224956\n",
      "assembly_constraint_no_mean([ 9.978e-03  5.224e-03 ...  9.487e-01  9.010e-01]) = [ 5.024e-02  5.005e-02 ...  5.018e-02  4.994e-02]\n"
     ]
    },
    {
     "data": {
      "application/vnd.jupyter.widget-view+json": {
       "model_id": "4408eb33d9f6400d9eba81ba47b4da47",
       "version_major": 2,
       "version_minor": 0
      },
      "text/plain": [
       "  0%|          | 0/10000 [00:00<?, ?it/s]"
      ]
     },
     "metadata": {},
     "output_type": "display_data"
    },
    {
     "name": "stdout",
     "output_type": "stream",
     "text": [
      "gld_params: [0.043667   0.02405299 0.35535171 0.13925783]\n",
      "wrapper([ 0.000e+00  4.740e-03 ...  9.510e-01  8.940e-01]) = -0.02731782147259049\n",
      "assembly_constraint_no_mean([ 0.000e+00  4.740e-03 ...  9.510e-01  8.940e-01]) = [ 6.238e-02  4.738e-02 ...  4.073e-02  2.725e-02]\n"
     ]
    },
    {
     "data": {
      "application/vnd.jupyter.widget-view+json": {
       "model_id": "c05654ca63b9447586a821f9b16543b2",
       "version_major": 2,
       "version_minor": 0
      },
      "text/plain": [
       "  0%|          | 0/10000 [00:00<?, ?it/s]"
      ]
     },
     "metadata": {},
     "output_type": "display_data"
    },
    {
     "name": "stdout",
     "output_type": "stream",
     "text": [
      "gld_params: [0.04366205 0.02405972 0.35539755 0.13917832]\n",
      "wrapper([ 7.045e-03  7.020e-03 ...  9.507e-01  8.988e-01]) = -0.027373942276000374\n",
      "assembly_constraint_no_mean([ 7.045e-03  7.020e-03 ...  9.507e-01  8.988e-01]) = [ 5.082e-02  5.053e-02 ...  5.005e-02  5.001e-02]\n"
     ]
    },
    {
     "data": {
      "application/vnd.jupyter.widget-view+json": {
       "model_id": "b52974deef4f4b7fb706f220980d4353",
       "version_major": 2,
       "version_minor": 0
      },
      "text/plain": [
       "  0%|          | 0/10000 [00:00<?, ?it/s]"
      ]
     },
     "metadata": {},
     "output_type": "display_data"
    },
    {
     "name": "stdout",
     "output_type": "stream",
     "text": [
      "gld_params: [0.04364962 0.0240669  0.35542459 0.13950211]\n",
      "wrapper([ 6.058e-03  1.005e-02 ...  9.509e-01  8.984e-01]) = -0.027374418562832452\n",
      "assembly_constraint_no_mean([ 6.058e-03  1.005e-02 ...  9.509e-01  8.984e-01]) = [ 5.047e-02  5.009e-02 ...  4.957e-02  4.927e-02]\n"
     ]
    },
    {
     "data": {
      "application/vnd.jupyter.widget-view+json": {
       "model_id": "141c43ab63dd45778cb2589ae34b0bcd",
       "version_major": 2,
       "version_minor": 0
      },
      "text/plain": [
       "  0%|          | 0/10000 [00:00<?, ?it/s]"
      ]
     },
     "metadata": {},
     "output_type": "display_data"
    },
    {
     "name": "stdout",
     "output_type": "stream",
     "text": [
      "gld_params: [0.04368334 0.02404656 0.35535701 0.13905259]\n",
      "wrapper([ 9.318e-03  7.296e-03 ...  9.517e-01  8.967e-01]) = -0.027279495905828562\n",
      "assembly_constraint_no_mean([ 9.318e-03  7.296e-03 ...  9.517e-01  8.967e-01]) = [ 3.538e-02  5.687e-02 ...  5.313e-03  4.508e-02]\n"
     ]
    },
    {
     "data": {
      "application/vnd.jupyter.widget-view+json": {
       "model_id": "027c985be5024ce1ba8f133c784f0c47",
       "version_major": 2,
       "version_minor": 0
      },
      "text/plain": [
       "  0%|          | 0/10000 [00:00<?, ?it/s]"
      ]
     },
     "metadata": {},
     "output_type": "display_data"
    },
    {
     "name": "stdout",
     "output_type": "stream",
     "text": [
      "gld_params: [0.04365645 0.02406336 0.35543445 0.13931908]\n",
      "wrapper([ 8.277e-03  7.090e-03 ...  9.505e-01  8.990e-01]) = -0.02737246383006766\n",
      "assembly_constraint_no_mean([ 8.277e-03  7.090e-03 ...  9.505e-01  8.990e-01]) = [ 4.992e-02  4.991e-02 ...  5.014e-02  4.993e-02]\n"
     ]
    },
    {
     "data": {
      "application/vnd.jupyter.widget-view+json": {
       "model_id": "a9daec12e565400a975ab97765ae6d71",
       "version_major": 2,
       "version_minor": 0
      },
      "text/plain": [
       "  0%|          | 0/10000 [00:00<?, ?it/s]"
      ]
     },
     "metadata": {},
     "output_type": "display_data"
    },
    {
     "name": "stdout",
     "output_type": "stream",
     "text": [
      "gld_params: [0.04366671 0.02406679 0.35527514 0.13941887]\n",
      "wrapper([ 1.021e-02  1.063e-02 ...  9.536e-01  8.955e-01]) = -0.027371594182697415\n",
      "assembly_constraint_no_mean([ 1.021e-02  1.063e-02 ...  9.536e-01  8.955e-01]) = [ 5.024e-02  5.099e-02 ...  4.952e-02  5.017e-02]\n"
     ]
    },
    {
     "data": {
      "application/vnd.jupyter.widget-view+json": {
       "model_id": "08bd6d485290451cab10b78ee1e51479",
       "version_major": 2,
       "version_minor": 0
      },
      "text/plain": [
       "  0%|          | 0/10000 [00:00<?, ?it/s]"
      ]
     },
     "metadata": {},
     "output_type": "display_data"
    },
    {
     "name": "stdout",
     "output_type": "stream",
     "text": [
      "gld_params: [0.04367977 0.02405723 0.35529082 0.1394254 ]\n",
      "wrapper([ 8.742e-03  6.072e-03 ...  9.529e-01  9.005e-01]) = -0.027280838764107376\n",
      "assembly_constraint_no_mean([ 8.742e-03  6.072e-03 ...  9.529e-01  9.005e-01]) = [ 3.950e-02  1.480e-02 ...  3.963e-02  7.155e-02]\n"
     ]
    },
    {
     "data": {
      "application/vnd.jupyter.widget-view+json": {
       "model_id": "9164ed6502d3424dbbe4e837a92a59fb",
       "version_major": 2,
       "version_minor": 0
      },
      "text/plain": [
       "  0%|          | 0/10000 [00:00<?, ?it/s]"
      ]
     },
     "metadata": {},
     "output_type": "display_data"
    },
    {
     "name": "stdout",
     "output_type": "stream",
     "text": [
      "gld_params: [0.04365083 0.02405855 0.35554775 0.13916082]\n",
      "wrapper([ 6.452e-03  8.566e-03 ...  9.458e-01  9.043e-01]) = -0.027374053036666148\n",
      "assembly_constraint_no_mean([ 6.452e-03  8.566e-03 ...  9.458e-01  9.043e-01]) = [ 5.039e-02  5.026e-02 ...  4.998e-02  5.069e-02]\n"
     ]
    },
    {
     "data": {
      "application/vnd.jupyter.widget-view+json": {
       "model_id": "f4129d4a14694767b565262602143e18",
       "version_major": 2,
       "version_minor": 0
      },
      "text/plain": [
       "  0%|          | 0/10000 [00:00<?, ?it/s]"
      ]
     },
     "metadata": {},
     "output_type": "display_data"
    },
    {
     "name": "stdout",
     "output_type": "stream",
     "text": [
      "gld_params: [0.04363537 0.02407306 0.35543474 0.13937957]\n",
      "wrapper([ 6.895e-03  7.309e-03 ...  9.532e-01  9.026e-01]) = -0.027470024753665483\n",
      "assembly_constraint_no_mean([ 6.895e-03  7.309e-03 ...  9.532e-01  9.026e-01]) = [ 5.351e-02  4.260e-02 ...  7.232e-02  8.335e-02]\n"
     ]
    },
    {
     "data": {
      "application/vnd.jupyter.widget-view+json": {
       "model_id": "c1448db08e40450994265d8a254e4a2c",
       "version_major": 2,
       "version_minor": 0
      },
      "text/plain": [
       "  0%|          | 0/10000 [00:00<?, ?it/s]"
      ]
     },
     "metadata": {},
     "output_type": "display_data"
    },
    {
     "name": "stdout",
     "output_type": "stream",
     "text": [
      "gld_params: [0.04365008 0.02405953 0.35559398 0.13915822]\n",
      "wrapper([ 6.876e-03  1.777e-03 ...  9.499e-01  8.997e-01]) = -0.027372759533742647\n",
      "assembly_constraint_no_mean([ 6.876e-03  1.777e-03 ...  9.499e-01  8.997e-01]) = [ 5.018e-02  5.037e-02 ...  5.005e-02  5.018e-02]\n"
     ]
    },
    {
     "data": {
      "application/vnd.jupyter.widget-view+json": {
       "model_id": "4e1470ccf8d74ac0a0004700c7acca47",
       "version_major": 2,
       "version_minor": 0
      },
      "text/plain": [
       "  0%|          | 0/10000 [00:00<?, ?it/s]"
      ]
     },
     "metadata": {},
     "output_type": "display_data"
    },
    {
     "name": "stdout",
     "output_type": "stream",
     "text": [
      "gld_params: [0.04365082 0.02405705 0.35561014 0.13905732]\n",
      "wrapper([ 6.968e-03  3.912e-03 ...  9.482e-01  9.015e-01]) = -0.027375436235676686\n",
      "assembly_constraint_no_mean([ 6.968e-03  3.912e-03 ...  9.482e-01  9.015e-01]) = [ 5.026e-02  5.012e-02 ...  5.018e-02  5.015e-02]\n"
     ]
    },
    {
     "data": {
      "application/vnd.jupyter.widget-view+json": {
       "model_id": "2590c085ac4c4fd99850d432348c9310",
       "version_major": 2,
       "version_minor": 0
      },
      "text/plain": [
       "  0%|          | 0/10000 [00:00<?, ?it/s]"
      ]
     },
     "metadata": {},
     "output_type": "display_data"
    },
    {
     "name": "stdout",
     "output_type": "stream",
     "text": [
      "gld_params: [0.04364851 0.02406045 0.35558638 0.13919029]\n",
      "wrapper([ 5.083e-03  2.392e-03 ...  9.500e-01  8.982e-01]) = -0.027376827721970465\n",
      "assembly_constraint_no_mean([ 5.083e-03  2.392e-03 ...  9.500e-01  8.982e-01]) = [ 7.667e-02  5.288e-02 ...  6.288e-02  4.338e-02]\n"
     ]
    },
    {
     "data": {
      "application/vnd.jupyter.widget-view+json": {
       "model_id": "26c96c12d91c4f0cb985d1f46d7bd5d5",
       "version_major": 2,
       "version_minor": 0
      },
      "text/plain": [
       "  0%|          | 0/10000 [00:00<?, ?it/s]"
      ]
     },
     "metadata": {},
     "output_type": "display_data"
    },
    {
     "name": "stdout",
     "output_type": "stream",
     "text": [
      "gld_params: [0.04365169 0.02405762 0.35560259 0.13907686]\n",
      "wrapper([ 8.130e-03  4.521e-03 ...  9.481e-01  9.016e-01]) = -0.027373384660943533\n",
      "assembly_constraint_no_mean([ 8.130e-03  4.521e-03 ...  9.481e-01  9.016e-01]) = [ 5.008e-02  4.984e-02 ...  5.000e-02  4.999e-02]\n"
     ]
    },
    {
     "data": {
      "application/vnd.jupyter.widget-view+json": {
       "model_id": "bd222072c13944f58d20d01c3e7ad77c",
       "version_major": 2,
       "version_minor": 0
      },
      "text/plain": [
       "  0%|          | 0/10000 [00:00<?, ?it/s]"
      ]
     },
     "metadata": {},
     "output_type": "display_data"
    },
    {
     "name": "stdout",
     "output_type": "stream",
     "text": [
      "gld_params: [0.04365162 0.02406134 0.3556219  0.13914647]\n",
      "wrapper([ 6.978e-03  4.073e-03 ...  9.558e-01  8.932e-01]) = -0.027374635602512697\n",
      "assembly_constraint_no_mean([ 6.978e-03  4.073e-03 ...  9.558e-01  8.932e-01]) = [ 5.018e-02  5.012e-02 ...  4.992e-02  5.066e-02]\n"
     ]
    },
    {
     "data": {
      "application/vnd.jupyter.widget-view+json": {
       "model_id": "5b2e89445d724808b738405d5fdab183",
       "version_major": 2,
       "version_minor": 0
      },
      "text/plain": [
       "  0%|          | 0/10000 [00:00<?, ?it/s]"
      ]
     },
     "metadata": {},
     "output_type": "display_data"
    },
    {
     "name": "stdout",
     "output_type": "stream",
     "text": [
      "gld_params: [0.04366395 0.02405139 0.35554891 0.13902917]\n",
      "wrapper([ 8.845e-03  5.495e-03 ...  9.509e-01  9.032e-01]) = -0.02732671071192769\n",
      "assembly_constraint_no_mean([ 8.845e-03  5.495e-03 ...  9.509e-01  9.032e-01]) = [ 4.639e-02  4.037e-02 ...  5.023e-02  7.390e-02]\n"
     ]
    },
    {
     "data": {
      "application/vnd.jupyter.widget-view+json": {
       "model_id": "55fa6f3cfada4aa0b2832b0da54d5c89",
       "version_major": 2,
       "version_minor": 0
      },
      "text/plain": [
       "  0%|          | 0/10000 [00:00<?, ?it/s]"
      ]
     },
     "metadata": {},
     "output_type": "display_data"
    },
    {
     "name": "stdout",
     "output_type": "stream",
     "text": [
      "gld_params: [0.04365138 0.02405758 0.35564952 0.13903549]\n",
      "wrapper([ 7.452e-03  6.130e-03 ...  9.533e-01  8.959e-01]) = -0.027373349061417803\n",
      "assembly_constraint_no_mean([ 7.452e-03  6.130e-03 ...  9.533e-01  8.959e-01]) = [ 5.007e-02  5.014e-02 ...  4.994e-02  5.006e-02]\n"
     ]
    },
    {
     "data": {
      "application/vnd.jupyter.widget-view+json": {
       "model_id": "8de0a04cee184a0b885e2e73d080e53c",
       "version_major": 2,
       "version_minor": 0
      },
      "text/plain": [
       "  0%|          | 0/10000 [00:00<?, ?it/s]"
      ]
     },
     "metadata": {},
     "output_type": "display_data"
    },
    {
     "name": "stdout",
     "output_type": "stream",
     "text": [
      "gld_params: [0.04364473 0.02405859 0.35567996 0.13911981]\n",
      "wrapper([ 7.377e-03  5.945e-03 ...  9.520e-01  8.973e-01]) = -0.027374179256742293\n",
      "assembly_constraint_no_mean([ 7.377e-03  5.945e-03 ...  9.520e-01  8.973e-01]) = [ 4.990e-02  5.001e-02 ...  5.017e-02  4.969e-02]\n"
     ]
    },
    {
     "data": {
      "application/vnd.jupyter.widget-view+json": {
       "model_id": "cbf251830d9e486aa72cdc2439d110fd",
       "version_major": 2,
       "version_minor": 0
      },
      "text/plain": [
       "  0%|          | 0/10000 [00:00<?, ?it/s]"
      ]
     },
     "metadata": {},
     "output_type": "display_data"
    },
    {
     "name": "stdout",
     "output_type": "stream",
     "text": [
      "gld_params: [0.0436613  0.02405043 0.3556679  0.13901136]\n",
      "wrapper([ 5.505e-03  6.292e-03 ...  9.528e-01  8.957e-01]) = -0.02730975155716953\n",
      "assembly_constraint_no_mean([ 5.505e-03  6.292e-03 ...  9.528e-01  8.957e-01]) = [ 5.143e-02  3.671e-02 ...  4.518e-02  4.643e-02]\n"
     ]
    },
    {
     "data": {
      "application/vnd.jupyter.widget-view+json": {
       "model_id": "32dde13291f84975a11d91cf6fe1bef5",
       "version_major": 2,
       "version_minor": 0
      },
      "text/plain": [
       "  0%|          | 0/10000 [00:00<?, ?it/s]"
      ]
     },
     "metadata": {},
     "output_type": "display_data"
    },
    {
     "name": "stdout",
     "output_type": "stream",
     "text": [
      "gld_params: [0.04364649 0.02405799 0.35564757 0.13911454]\n",
      "wrapper([ 8.942e-03  6.068e-03 ...  9.512e-01  8.982e-01]) = -0.027373526999842326\n",
      "assembly_constraint_no_mean([ 8.942e-03  6.068e-03 ...  9.512e-01  8.982e-01]) = [ 5.009e-02  4.993e-02 ...  5.018e-02  4.979e-02]\n"
     ]
    },
    {
     "data": {
      "application/vnd.jupyter.widget-view+json": {
       "model_id": "f8cb3ce10a6549c98de9ef8ddebc1962",
       "version_major": 2,
       "version_minor": 0
      },
      "text/plain": [
       "  0%|          | 0/10000 [00:00<?, ?it/s]"
      ]
     },
     "metadata": {},
     "output_type": "display_data"
    },
    {
     "name": "stdout",
     "output_type": "stream",
     "text": [
      "gld_params: [0.04365286 0.02405717 0.35560092 0.1390614 ]\n",
      "wrapper([ 7.601e-03  5.405e-03 ...  9.542e-01  8.959e-01]) = -0.02737126264949215\n",
      "assembly_constraint_no_mean([ 7.601e-03  5.405e-03 ...  9.542e-01  8.959e-01]) = [ 4.870e-02  3.896e-02 ...  5.456e-02  5.556e-02]\n"
     ]
    },
    {
     "data": {
      "application/vnd.jupyter.widget-view+json": {
       "model_id": "8c7a01dbff524f7681d7ceb424c8dcf1",
       "version_major": 2,
       "version_minor": 0
      },
      "text/plain": [
       "  0%|          | 0/10000 [00:00<?, ?it/s]"
      ]
     },
     "metadata": {},
     "output_type": "display_data"
    },
    {
     "name": "stdout",
     "output_type": "stream",
     "text": [
      "gld_params: [0.04365202 0.02405814 0.35569484 0.1389924 ]\n",
      "wrapper([ 7.412e-03  5.298e-03 ...  9.523e-01  8.970e-01]) = -0.027374442222952513\n",
      "assembly_constraint_no_mean([ 7.412e-03  5.298e-03 ...  9.523e-01  8.970e-01]) = [ 5.006e-02  5.002e-02 ...  5.058e-02  4.983e-02]\n"
     ]
    },
    {
     "data": {
      "application/vnd.jupyter.widget-view+json": {
       "model_id": "2f220ffbfc5246dca7a25f9cd5b703b0",
       "version_major": 2,
       "version_minor": 0
      },
      "text/plain": [
       "  0%|          | 0/10000 [00:00<?, ?it/s]"
      ]
     },
     "metadata": {},
     "output_type": "display_data"
    },
    {
     "name": "stdout",
     "output_type": "stream",
     "text": [
      "gld_params: [0.04366024 0.02405627 0.35564995 0.13913876]\n",
      "wrapper([ 8.177e-03  7.016e-03 ...  9.496e-01  8.924e-01]) = -0.027320129588711578\n",
      "assembly_constraint_no_mean([ 8.177e-03  7.016e-03 ...  9.496e-01  8.924e-01]) = [ 2.284e-02  7.099e-02 ...  8.238e-02  1.133e-02]\n"
     ]
    },
    {
     "data": {
      "application/vnd.jupyter.widget-view+json": {
       "model_id": "91686df68c4441f7adb63f30c1a3dd14",
       "version_major": 2,
       "version_minor": 0
      },
      "text/plain": [
       "  0%|          | 0/10000 [00:00<?, ?it/s]"
      ]
     },
     "metadata": {},
     "output_type": "display_data"
    },
    {
     "name": "stdout",
     "output_type": "stream",
     "text": [
      "gld_params: [0.0436513  0.02405768 0.3557096  0.13897824]\n",
      "wrapper([ 8.404e-03  3.594e-03 ...  9.525e-01  8.968e-01]) = -0.027374174073315286\n",
      "assembly_constraint_no_mean([ 8.404e-03  3.594e-03 ...  9.525e-01  8.968e-01]) = [ 5.002e-02  5.006e-02 ...  5.029e-02  5.004e-02]\n"
     ]
    },
    {
     "data": {
      "application/vnd.jupyter.widget-view+json": {
       "model_id": "48740a41cc0e4f449056d687e87f9b0c",
       "version_major": 2,
       "version_minor": 0
      },
      "text/plain": [
       "  0%|          | 0/10000 [00:00<?, ?it/s]"
      ]
     },
     "metadata": {},
     "output_type": "display_data"
    },
    {
     "name": "stdout",
     "output_type": "stream",
     "text": [
      "gld_params: [0.04365862 0.02405744 0.35571855 0.13886109]\n",
      "wrapper([ 1.119e-02  3.104e-03 ...  9.527e-01  8.966e-01]) = -0.027374462875516956\n",
      "assembly_constraint_no_mean([ 1.119e-02  3.104e-03 ...  9.527e-01  8.966e-01]) = [ 5.002e-02  4.996e-02 ...  4.988e-02  4.996e-02]\n"
     ]
    },
    {
     "data": {
      "application/vnd.jupyter.widget-view+json": {
       "model_id": "42efdc27bf3747ebadf1077cbc83369f",
       "version_major": 2,
       "version_minor": 0
      },
      "text/plain": [
       "  0%|          | 0/10000 [00:00<?, ?it/s]"
      ]
     },
     "metadata": {},
     "output_type": "display_data"
    },
    {
     "name": "stdout",
     "output_type": "stream",
     "text": [
      "gld_params: [0.04364247 0.02406427 0.35571352 0.13902561]\n",
      "wrapper([ 8.080e-03  3.245e-03 ...  9.530e-01  8.968e-01]) = -0.027422773366372395\n",
      "assembly_constraint_no_mean([ 8.080e-03  3.245e-03 ...  9.530e-01  8.968e-01]) = [ 4.338e-02  3.793e-02 ...  3.434e-02  5.308e-02]\n"
     ]
    },
    {
     "data": {
      "application/vnd.jupyter.widget-view+json": {
       "model_id": "ab560c07837b4e2689ca5fef69dd2cb6",
       "version_major": 2,
       "version_minor": 0
      },
      "text/plain": [
       "  0%|          | 0/10000 [00:00<?, ?it/s]"
      ]
     },
     "metadata": {},
     "output_type": "display_data"
    },
    {
     "name": "stdout",
     "output_type": "stream",
     "text": [
      "gld_params: [0.04364674 0.02406152 0.35573398 0.13911133]\n",
      "wrapper([ 9.604e-03  5.865e-03 ...  9.525e-01  8.967e-01]) = -0.027374744269849947\n",
      "assembly_constraint_no_mean([ 9.604e-03  5.865e-03 ...  9.525e-01  8.967e-01]) = [ 5.002e-02  4.998e-02 ...  5.007e-02  4.988e-02]\n"
     ]
    },
    {
     "data": {
      "application/vnd.jupyter.widget-view+json": {
       "model_id": "0ef20e86dbc747989add651328848c24",
       "version_major": 2,
       "version_minor": 0
      },
      "text/plain": [
       "  0%|          | 0/10000 [00:00<?, ?it/s]"
      ]
     },
     "metadata": {},
     "output_type": "display_data"
    },
    {
     "name": "stdout",
     "output_type": "stream",
     "text": [
      "gld_params: [0.04359978 0.02407554 0.35567962 0.13886878]\n",
      "wrapper([ 7.560e-03  3.544e-03 ...  9.532e-01  8.982e-01]) = -0.027638462476832423\n",
      "assembly_constraint_no_mean([ 7.560e-03  3.544e-03 ...  9.532e-01  8.982e-01]) = [ 7.594e-02  1.050e-01 ...  4.221e-02  6.149e-02]\n"
     ]
    },
    {
     "data": {
      "application/vnd.jupyter.widget-view+json": {
       "model_id": "783747d80fd94593a04ec9fff36f13f9",
       "version_major": 2,
       "version_minor": 0
      },
      "text/plain": [
       "  0%|          | 0/10000 [00:00<?, ?it/s]"
      ]
     },
     "metadata": {},
     "output_type": "display_data"
    },
    {
     "name": "stdout",
     "output_type": "stream",
     "text": [
      "gld_params: [0.04364894 0.02406122 0.35576737 0.13904365]\n",
      "wrapper([ 1.101e-02  5.807e-03 ...  9.521e-01  8.973e-01]) = -0.027374361246357868\n",
      "assembly_constraint_no_mean([ 1.101e-02  5.807e-03 ...  9.521e-01  8.973e-01]) = [ 5.011e-02  4.996e-02 ...  4.996e-02  5.004e-02]\n"
     ]
    },
    {
     "data": {
      "application/vnd.jupyter.widget-view+json": {
       "model_id": "632874e634ef4f048b5c172dabfa24c4",
       "version_major": 2,
       "version_minor": 0
      },
      "text/plain": [
       "  0%|          | 0/10000 [00:00<?, ?it/s]"
      ]
     },
     "metadata": {},
     "output_type": "display_data"
    },
    {
     "name": "stdout",
     "output_type": "stream",
     "text": [
      "gld_params: [0.04366774 0.02405175 0.35569139 0.13901383]\n",
      "wrapper([ 9.145e-03  2.510e-03 ...  9.511e-01  8.981e-01]) = -0.02729318725565174\n",
      "assembly_constraint_no_mean([ 9.145e-03  2.510e-03 ...  9.511e-01  8.981e-01]) = [ 1.472e-02  5.815e-02 ...  4.312e-02  4.890e-02]\n"
     ]
    },
    {
     "data": {
      "application/vnd.jupyter.widget-view+json": {
       "model_id": "2aefb2d4534a422b870d5f50a247ec88",
       "version_major": 2,
       "version_minor": 0
      },
      "text/plain": [
       "  0%|          | 0/10000 [00:00<?, ?it/s]"
      ]
     },
     "metadata": {},
     "output_type": "display_data"
    },
    {
     "name": "stdout",
     "output_type": "stream",
     "text": [
      "gld_params: [0.04364997 0.02406098 0.35574265 0.13904348]\n",
      "wrapper([ 9.347e-03  3.468e-03 ...  9.518e-01  8.976e-01]) = -0.02737505837713391\n",
      "assembly_constraint_no_mean([ 9.347e-03  3.468e-03 ...  9.518e-01  8.976e-01]) = [ 5.013e-02  5.001e-02 ...  4.996e-02  5.003e-02]\n"
     ]
    },
    {
     "data": {
      "application/vnd.jupyter.widget-view+json": {
       "model_id": "66a053fb3e1a49c682913fd9b30d21b3",
       "version_major": 2,
       "version_minor": 0
      },
      "text/plain": [
       "  0%|          | 0/10000 [00:00<?, ?it/s]"
      ]
     },
     "metadata": {},
     "output_type": "display_data"
    },
    {
     "name": "stdout",
     "output_type": "stream",
     "text": [
      "gld_params: [0.04364758 0.02406143 0.355642   0.13902329]\n",
      "wrapper([ 9.905e-03  3.047e-03 ...  9.539e-01  8.978e-01]) = -0.027408034623588123\n",
      "assembly_constraint_no_mean([ 9.905e-03  3.047e-03 ...  9.539e-01  8.978e-01]) = [ 1.418e-02  4.590e-02 ...  5.686e-02  6.342e-02]\n"
     ]
    },
    {
     "data": {
      "application/vnd.jupyter.widget-view+json": {
       "model_id": "1114ee67ab1144afb8a02cf705d9d9e4",
       "version_major": 2,
       "version_minor": 0
      },
      "text/plain": [
       "  0%|          | 0/10000 [00:00<?, ?it/s]"
      ]
     },
     "metadata": {},
     "output_type": "display_data"
    },
    {
     "name": "stdout",
     "output_type": "stream",
     "text": [
      "gld_params: [0.04364795 0.02406104 0.35576829 0.13905079]\n",
      "wrapper([ 1.052e-02  4.894e-03 ...  9.520e-01  8.973e-01]) = -0.027374620479256595\n",
      "assembly_constraint_no_mean([ 1.052e-02  4.894e-03 ...  9.520e-01  8.973e-01]) = [ 5.007e-02  4.998e-02 ...  5.007e-02  5.000e-02]\n"
     ]
    },
    {
     "data": {
      "application/vnd.jupyter.widget-view+json": {
       "model_id": "2cfcdb6b45e24543845a08f07dcbd632",
       "version_major": 2,
       "version_minor": 0
      },
      "text/plain": [
       "  0%|          | 0/10000 [00:00<?, ?it/s]"
      ]
     },
     "metadata": {},
     "output_type": "display_data"
    },
    {
     "name": "stdout",
     "output_type": "stream",
     "text": [
      "gld_params: [0.04364954 0.02406358 0.35570973 0.13910481]\n",
      "wrapper([ 7.872e-03  3.526e-03 ...  9.542e-01  8.970e-01]) = -0.02738351094445516\n",
      "assembly_constraint_no_mean([ 7.872e-03  3.526e-03 ...  9.542e-01  8.970e-01]) = [ 2.883e-02  6.944e-02 ...  5.794e-02  6.108e-02]\n"
     ]
    },
    {
     "data": {
      "application/vnd.jupyter.widget-view+json": {
       "model_id": "b7ff05955a524ea68d2e0eca1ca2aea1",
       "version_major": 2,
       "version_minor": 0
      },
      "text/plain": [
       "  0%|          | 0/10000 [00:00<?, ?it/s]"
      ]
     },
     "metadata": {},
     "output_type": "display_data"
    },
    {
     "name": "stdout",
     "output_type": "stream",
     "text": [
      "gld_params: [0.04365014 0.02405954 0.35575559 0.13899014]\n",
      "wrapper([ 6.884e-03  2.356e-03 ...  9.514e-01  8.980e-01]) = -0.02737559349968401\n",
      "assembly_constraint_no_mean([ 6.884e-03  2.356e-03 ...  9.514e-01  8.980e-01]) = [ 5.018e-02  4.993e-02 ...  4.998e-02  4.998e-02]\n"
     ]
    },
    {
     "data": {
      "application/vnd.jupyter.widget-view+json": {
       "model_id": "ddc6f8e680f740cb85ea18327b413f79",
       "version_major": 2,
       "version_minor": 0
      },
      "text/plain": [
       "  0%|          | 0/10000 [00:00<?, ?it/s]"
      ]
     },
     "metadata": {},
     "output_type": "display_data"
    },
    {
     "name": "stdout",
     "output_type": "stream",
     "text": [
      "gld_params: [0.04365204 0.02406218 0.35576772 0.13901209]\n",
      "wrapper([ 4.510e-03  0.000e+00 ...  9.487e-01  9.010e-01]) = -0.02737692285271179\n",
      "assembly_constraint_no_mean([ 4.510e-03  0.000e+00 ...  9.487e-01  9.010e-01]) = [ 5.008e-02  5.067e-02 ...  4.994e-02  4.997e-02]\n"
     ]
    },
    {
     "data": {
      "application/vnd.jupyter.widget-view+json": {
       "model_id": "a83c0b39745845338ff4230e07f4cf29",
       "version_major": 2,
       "version_minor": 0
      },
      "text/plain": [
       "  0%|          | 0/10000 [00:00<?, ?it/s]"
      ]
     },
     "metadata": {},
     "output_type": "display_data"
    },
    {
     "name": "stdout",
     "output_type": "stream",
     "text": [
      "gld_params: [0.04364989 0.02406227 0.35562725 0.13908503]\n",
      "wrapper([ 6.962e-03  2.911e-03 ...  9.505e-01  8.975e-01]) = -0.02739595674411977\n",
      "assembly_constraint_no_mean([ 6.962e-03  2.911e-03 ...  9.505e-01  8.975e-01]) = [ 4.739e-02  3.750e-02 ...  4.925e-02  4.217e-02]\n"
     ]
    },
    {
     "data": {
      "application/vnd.jupyter.widget-view+json": {
       "model_id": "ceee2379df9c41faac5b62ae17b3cc13",
       "version_major": 2,
       "version_minor": 0
      },
      "text/plain": [
       "  0%|          | 0/10000 [00:00<?, ?it/s]"
      ]
     },
     "metadata": {},
     "output_type": "display_data"
    },
    {
     "name": "stdout",
     "output_type": "stream",
     "text": [
      "gld_params: [0.04365222 0.0240605  0.35569509 0.13903374]\n",
      "wrapper([ 5.906e-03  1.995e-03 ...  9.509e-01  8.986e-01]) = -0.02737751143883321\n",
      "assembly_constraint_no_mean([ 5.906e-03  1.995e-03 ...  9.509e-01  8.986e-01]) = [ 5.002e-02  4.997e-02 ...  5.007e-02  4.997e-02]\n"
     ]
    },
    {
     "data": {
      "application/vnd.jupyter.widget-view+json": {
       "model_id": "64aa8ebbedbe4ddf9176f9e931c66260",
       "version_major": 2,
       "version_minor": 0
      },
      "text/plain": [
       "  0%|          | 0/10000 [00:00<?, ?it/s]"
      ]
     },
     "metadata": {},
     "output_type": "display_data"
    },
    {
     "name": "stdout",
     "output_type": "stream",
     "text": [
      "gld_params: [0.04365246 0.02405844 0.35570955 0.13896116]\n",
      "wrapper([ 5.863e-03  3.707e-04 ...  9.513e-01  8.981e-01]) = -0.027378315674810645\n",
      "assembly_constraint_no_mean([ 5.863e-03  3.707e-04 ...  9.513e-01  8.981e-01]) = [ 5.009e-02  5.002e-02 ...  5.057e-02  5.001e-02]\n"
     ]
    },
    {
     "data": {
      "application/vnd.jupyter.widget-view+json": {
       "model_id": "aba50c74836147b698954de9033fa0c9",
       "version_major": 2,
       "version_minor": 0
      },
      "text/plain": [
       "  0%|          | 0/10000 [00:00<?, ?it/s]"
      ]
     },
     "metadata": {},
     "output_type": "display_data"
    },
    {
     "name": "stdout",
     "output_type": "stream",
     "text": [
      "gld_params: [0.04363261 0.02407042 0.35559925 0.13909984]\n",
      "wrapper([ 9.281e-03  1.445e-03 ...  9.525e-01  8.987e-01]) = -0.027486347218152768\n",
      "assembly_constraint_no_mean([ 9.281e-03  1.445e-03 ...  9.525e-01  8.987e-01]) = [ 4.201e-02  6.474e-02 ...  6.478e-02  5.951e-02]\n"
     ]
    },
    {
     "data": {
      "application/vnd.jupyter.widget-view+json": {
       "model_id": "610b3a2cb5d44d8dadb6241effecc206",
       "version_major": 2,
       "version_minor": 0
      },
      "text/plain": [
       "  0%|          | 0/10000 [00:00<?, ?it/s]"
      ]
     },
     "metadata": {},
     "output_type": "display_data"
    },
    {
     "name": "stdout",
     "output_type": "stream",
     "text": [
      "gld_params: [0.04365204 0.02406111 0.3557257  0.13902541]\n",
      "wrapper([ 2.565e-03  2.447e-03 ...  9.492e-01  9.004e-01]) = -0.027376884959039154\n",
      "assembly_constraint_no_mean([ 2.565e-03  2.447e-03 ...  9.492e-01  9.004e-01]) = [ 5.013e-02  5.002e-02 ...  5.011e-02  4.999e-02]\n"
     ]
    },
    {
     "data": {
      "application/vnd.jupyter.widget-view+json": {
       "model_id": "ec8d815e28cf4851a475b5d6512a2097",
       "version_major": 2,
       "version_minor": 0
      },
      "text/plain": [
       "  0%|          | 0/10000 [00:00<?, ?it/s]"
      ]
     },
     "metadata": {},
     "output_type": "display_data"
    },
    {
     "name": "stdout",
     "output_type": "stream",
     "text": [
      "gld_params: [0.04364015 0.02406216 0.3557801  0.13890512]\n",
      "wrapper([ 3.268e-03  2.095e-03 ...  9.543e-01  8.977e-01]) = -0.02743025326388751\n",
      "assembly_constraint_no_mean([ 3.268e-03  2.095e-03 ...  9.543e-01  8.977e-01]) = [ 2.716e-02  5.575e-02 ...  4.205e-02  6.584e-02]\n"
     ]
    },
    {
     "data": {
      "application/vnd.jupyter.widget-view+json": {
       "model_id": "d0af48b977cf40728905339c5016dac1",
       "version_major": 2,
       "version_minor": 0
      },
      "text/plain": [
       "  0%|          | 0/10000 [00:00<?, ?it/s]"
      ]
     },
     "metadata": {},
     "output_type": "display_data"
    },
    {
     "name": "stdout",
     "output_type": "stream",
     "text": [
      "gld_params: [0.04364652 0.02405873 0.35587964 0.13888691]\n",
      "wrapper([ 1.575e-03  1.010e-03 ...  9.534e-01  8.958e-01]) = -0.02737867433332417\n",
      "assembly_constraint_no_mean([ 1.575e-03  1.010e-03 ...  9.534e-01  8.958e-01]) = [ 5.000e-02  4.993e-02 ...  4.999e-02  5.008e-02]\n"
     ]
    },
    {
     "data": {
      "application/vnd.jupyter.widget-view+json": {
       "model_id": "fa8ffce5f37f4b3a8dae70e7635574b6",
       "version_major": 2,
       "version_minor": 0
      },
      "text/plain": [
       "  0%|          | 0/10000 [00:00<?, ?it/s]"
      ]
     },
     "metadata": {},
     "output_type": "display_data"
    },
    {
     "name": "stdout",
     "output_type": "stream",
     "text": [
      "gld_params: [0.0436442  0.02405562 0.35600484 0.1387231 ]\n",
      "wrapper([ 2.168e-19  0.000e+00 ...  9.535e-01  8.955e-01]) = -0.02737849210380656\n",
      "assembly_constraint_no_mean([ 2.168e-19  0.000e+00 ...  9.535e-01  8.955e-01]) = [ 5.000e-02  5.003e-02 ...  4.989e-02  5.022e-02]\n"
     ]
    },
    {
     "data": {
      "application/vnd.jupyter.widget-view+json": {
       "model_id": "dbdd2510fdbe42a19134a6f78cb9126e",
       "version_major": 2,
       "version_minor": 0
      },
      "text/plain": [
       "  0%|          | 0/10000 [00:00<?, ?it/s]"
      ]
     },
     "metadata": {},
     "output_type": "display_data"
    },
    {
     "name": "stdout",
     "output_type": "stream",
     "text": [
      "gld_params: [0.04364743 0.02406136 0.35585916 0.13895618]\n",
      "wrapper([ 0.000e+00  0.000e+00 ...  9.537e-01  8.966e-01]) = -0.027379446332799092\n",
      "assembly_constraint_no_mean([ 0.000e+00  0.000e+00 ...  9.537e-01  8.966e-01]) = [ 7.013e-02  4.141e-02 ...  3.042e-02  5.636e-02]\n"
     ]
    },
    {
     "data": {
      "application/vnd.jupyter.widget-view+json": {
       "model_id": "48adcc55bfcb42ffabdc8c9bb51f5e32",
       "version_major": 2,
       "version_minor": 0
      },
      "text/plain": [
       "  0%|          | 0/10000 [00:00<?, ?it/s]"
      ]
     },
     "metadata": {},
     "output_type": "display_data"
    },
    {
     "name": "stdout",
     "output_type": "stream",
     "text": [
      "gld_params: [0.0436464  0.02405825 0.35587013 0.13888673]\n",
      "wrapper([ 1.689e-03  6.689e-04 ...  9.534e-01  8.957e-01]) = -0.02737844918912082\n",
      "assembly_constraint_no_mean([ 1.689e-03  6.689e-04 ...  9.534e-01  8.957e-01]) = [ 5.003e-02  5.003e-02 ...  5.014e-02  5.003e-02]\n"
     ]
    },
    {
     "data": {
      "application/vnd.jupyter.widget-view+json": {
       "model_id": "1ea3c5f1e8e44d78956371bc8bfe1073",
       "version_major": 2,
       "version_minor": 0
      },
      "text/plain": [
       "  0%|          | 0/10000 [00:00<?, ?it/s]"
      ]
     },
     "metadata": {},
     "output_type": "display_data"
    },
    {
     "name": "stdout",
     "output_type": "stream",
     "text": [
      "gld_params: [0.0436348  0.02406704 0.35590033 0.13896117]\n",
      "wrapper([ 1.112e-03  2.546e-03 ...  9.541e-01  8.936e-01]) = -0.027435580575050866\n",
      "assembly_constraint_no_mean([ 1.112e-03  2.546e-03 ...  9.541e-01  8.936e-01]) = [ 3.990e-02  6.568e-02 ...  5.353e-02  4.305e-02]\n"
     ]
    },
    {
     "data": {
      "application/vnd.jupyter.widget-view+json": {
       "model_id": "3cb56349a5d54457992962bf23e64774",
       "version_major": 2,
       "version_minor": 0
      },
      "text/plain": [
       "  0%|          | 0/10000 [00:00<?, ?it/s]"
      ]
     },
     "metadata": {},
     "output_type": "display_data"
    },
    {
     "name": "stdout",
     "output_type": "stream",
     "text": [
      "gld_params: [0.04364305 0.02405915 0.35594412 0.13888324]\n",
      "wrapper([ 7.192e-05  9.289e-04 ...  9.564e-01  8.924e-01]) = -0.027378916444357092\n",
      "assembly_constraint_no_mean([ 7.192e-05  9.289e-04 ...  9.564e-01  8.924e-01]) = [ 4.996e-02  5.001e-02 ...  5.023e-02  5.021e-02]\n"
     ]
    },
    {
     "data": {
      "application/vnd.jupyter.widget-view+json": {
       "model_id": "2525bd01585d4151b54510a251e6b2f5",
       "version_major": 2,
       "version_minor": 0
      },
      "text/plain": [
       "  0%|          | 0/10000 [00:00<?, ?it/s]"
      ]
     },
     "metadata": {},
     "output_type": "display_data"
    },
    {
     "name": "stdout",
     "output_type": "stream",
     "text": [
      "gld_params: [0.04364678 0.02405946 0.35583908 0.13891119]\n",
      "wrapper([ 2.511e-03  1.671e-03 ...  9.521e-01  8.949e-01]) = -0.027384668581858018\n",
      "assembly_constraint_no_mean([ 2.511e-03  1.671e-03 ...  9.521e-01  8.949e-01]) = [ 7.563e-02  5.000e-02 ...  5.642e-02  3.866e-02]\n"
     ]
    },
    {
     "data": {
      "application/vnd.jupyter.widget-view+json": {
       "model_id": "9b2e42f2493d41d6a043585b6befd446",
       "version_major": 2,
       "version_minor": 0
      },
      "text/plain": [
       "  0%|          | 0/10000 [00:00<?, ?it/s]"
      ]
     },
     "metadata": {},
     "output_type": "display_data"
    },
    {
     "name": "stdout",
     "output_type": "stream",
     "text": [
      "gld_params: [0.04364761 0.02405565 0.35588268 0.13879327]\n",
      "wrapper([ 0.000e+00  2.636e-03 ...  9.552e-01  8.937e-01]) = -0.02737839424297861\n",
      "assembly_constraint_no_mean([ 0.000e+00  2.636e-03 ...  9.552e-01  8.937e-01]) = [ 5.070e-02  5.007e-02 ...  5.011e-02  5.011e-02]\n"
     ]
    },
    {
     "data": {
      "application/vnd.jupyter.widget-view+json": {
       "model_id": "3e49693ae23f41d7b7b21e82d765b7d6",
       "version_major": 2,
       "version_minor": 0
      },
      "text/plain": [
       "  0%|          | 0/10000 [00:00<?, ?it/s]"
      ]
     },
     "metadata": {},
     "output_type": "display_data"
    },
    {
     "name": "stdout",
     "output_type": "stream",
     "text": [
      "gld_params: [0.04363288 0.02406661 0.35584673 0.13891882]\n",
      "wrapper([ 2.221e-03  4.079e-03 ...  9.558e-01  8.949e-01]) = -0.02745801905582918\n",
      "assembly_constraint_no_mean([ 2.221e-03  4.079e-03 ...  9.558e-01  8.949e-01]) = [ 6.346e-02  4.890e-02 ...  7.970e-02  5.941e-02]\n"
     ]
    },
    {
     "data": {
      "application/vnd.jupyter.widget-view+json": {
       "model_id": "a4e5d1b00e324320aebaf1435ef6a539",
       "version_major": 2,
       "version_minor": 0
      },
      "text/plain": [
       "  0%|          | 0/10000 [00:00<?, ?it/s]"
      ]
     },
     "metadata": {},
     "output_type": "display_data"
    },
    {
     "name": "stdout",
     "output_type": "stream",
     "text": [
      "gld_params: [0.04364453 0.02406112 0.35590107 0.13895326]\n",
      "wrapper([ 6.575e-04  2.168e-19 ...  9.537e-01  8.954e-01]) = -0.027378837611957467\n",
      "assembly_constraint_no_mean([ 6.575e-04  2.168e-19 ...  9.537e-01  8.954e-01]) = [ 5.025e-02  5.009e-02 ...  5.004e-02  4.997e-02]\n"
     ]
    },
    {
     "data": {
      "application/vnd.jupyter.widget-view+json": {
       "model_id": "91cef76ea2d34c31b139631b471a3304",
       "version_major": 2,
       "version_minor": 0
      },
      "text/plain": [
       "  0%|          | 0/10000 [00:00<?, ?it/s]"
      ]
     },
     "metadata": {},
     "output_type": "display_data"
    },
    {
     "name": "stdout",
     "output_type": "stream",
     "text": [
      "gld_params: [0.04366018 0.02405395 0.35575928 0.13882819]\n",
      "wrapper([ 1.182e-03  4.838e-03 ...  9.539e-01  8.970e-01]) = -0.02735088516907065\n",
      "assembly_constraint_no_mean([ 1.182e-03  4.838e-03 ...  9.539e-01  8.970e-01]) = [ 1.798e-02  5.620e-02 ...  4.720e-02  5.903e-02]\n"
     ]
    },
    {
     "data": {
      "application/vnd.jupyter.widget-view+json": {
       "model_id": "8393472cab6d47658e2b5edc5cb04805",
       "version_major": 2,
       "version_minor": 0
      },
      "text/plain": [
       "  0%|          | 0/10000 [00:00<?, ?it/s]"
      ]
     },
     "metadata": {},
     "output_type": "display_data"
    },
    {
     "name": "stdout",
     "output_type": "stream",
     "text": [
      "gld_params: [0.04364173 0.02406154 0.35593736 0.13896783]\n",
      "wrapper([ 1.183e-03  2.168e-19 ...  9.532e-01  8.959e-01]) = -0.027378865220453463\n",
      "assembly_constraint_no_mean([ 1.183e-03  2.168e-19 ...  9.532e-01  8.959e-01]) = [ 5.031e-02  5.004e-02 ...  5.012e-02  5.002e-02]\n"
     ]
    },
    {
     "data": {
      "application/vnd.jupyter.widget-view+json": {
       "model_id": "602221ef49fb4fe1a1012133846354cc",
       "version_major": 2,
       "version_minor": 0
      },
      "text/plain": [
       "  0%|          | 0/10000 [00:00<?, ?it/s]"
      ]
     },
     "metadata": {},
     "output_type": "display_data"
    },
    {
     "name": "stdout",
     "output_type": "stream",
     "text": [
      "gld_params: [0.04362812 0.02406924 0.3558109  0.13891466]\n",
      "wrapper([ 3.072e-03  2.168e-19 ...  9.585e-01  8.965e-01]) = -0.027489734667155725\n",
      "assembly_constraint_no_mean([ 3.072e-03  2.168e-19 ...  9.585e-01  8.965e-01]) = [ 3.680e-02  5.556e-02 ...  4.271e-02  8.376e-02]\n"
     ]
    },
    {
     "data": {
      "application/vnd.jupyter.widget-view+json": {
       "model_id": "63886b1022434863944c0073f9eacbdb",
       "version_major": 2,
       "version_minor": 0
      },
      "text/plain": [
       "  0%|          | 0/10000 [00:00<?, ?it/s]"
      ]
     },
     "metadata": {},
     "output_type": "display_data"
    },
    {
     "name": "stdout",
     "output_type": "stream",
     "text": [
      "gld_params: [0.04364649 0.02405689 0.35590048 0.13882778]\n",
      "wrapper([ 0.000e+00  3.013e-04 ...  9.526e-01  8.965e-01]) = -0.027377421888183883\n",
      "assembly_constraint_no_mean([ 0.000e+00  3.013e-04 ...  9.526e-01  8.965e-01]) = [ 5.006e-02  5.008e-02 ...  5.019e-02  5.002e-02]\n"
     ]
    },
    {
     "data": {
      "application/vnd.jupyter.widget-view+json": {
       "model_id": "21bbcddd77854af083c9c44c2fa95127",
       "version_major": 2,
       "version_minor": 0
      },
      "text/plain": [
       "  0%|          | 0/10000 [00:00<?, ?it/s]"
      ]
     },
     "metadata": {},
     "output_type": "display_data"
    },
    {
     "name": "stdout",
     "output_type": "stream",
     "text": [
      "gld_params: [0.04362173 0.02406798 0.3558729  0.13889533]\n",
      "wrapper([ 3.887e-04  4.007e-03 ...  9.552e-01  8.987e-01]) = -0.027493231233198474\n",
      "assembly_constraint_no_mean([ 3.887e-04  4.007e-03 ...  9.552e-01  8.987e-01]) = [ 5.319e-02  5.131e-02 ...  5.740e-02  7.549e-02]\n"
     ]
    },
    {
     "data": {
      "application/vnd.jupyter.widget-view+json": {
       "model_id": "0c5c3ab980084650a81fac7f4df6f2a0",
       "version_major": 2,
       "version_minor": 0
      },
      "text/plain": [
       "  0%|          | 0/10000 [00:00<?, ?it/s]"
      ]
     },
     "metadata": {},
     "output_type": "display_data"
    },
    {
     "name": "stdout",
     "output_type": "stream",
     "text": [
      "gld_params: [0.04364337 0.02406151 0.35590033 0.13897275]\n",
      "wrapper([ 9.313e-04  3.127e-03 ...  9.532e-01  8.959e-01]) = -0.027380300867009866\n",
      "assembly_constraint_no_mean([ 9.313e-04  3.127e-03 ...  9.532e-01  8.959e-01]) = [ 5.020e-02  5.028e-02 ...  5.013e-02  5.001e-02]\n"
     ]
    },
    {
     "data": {
      "application/vnd.jupyter.widget-view+json": {
       "model_id": "4b382527439b43098b8a4b080e804ce1",
       "version_major": 2,
       "version_minor": 0
      },
      "text/plain": [
       "  0%|          | 0/10000 [00:00<?, ?it/s]"
      ]
     },
     "metadata": {},
     "output_type": "display_data"
    },
    {
     "name": "stdout",
     "output_type": "stream",
     "text": [
      "gld_params: [0.04365787 0.02405801 0.35579515 0.13899955]\n",
      "wrapper([ 2.535e-03  6.387e-04 ...  9.536e-01  8.959e-01]) = -0.02733610133608128\n",
      "assembly_constraint_no_mean([ 2.535e-03  6.387e-04 ...  9.536e-01  8.959e-01]) = [ 4.181e-02  4.920e-02 ...  2.819e-02  5.195e-02]\n"
     ]
    },
    {
     "data": {
      "application/vnd.jupyter.widget-view+json": {
       "model_id": "125a3aabbaed4d3a80e77af476681253",
       "version_major": 2,
       "version_minor": 0
      },
      "text/plain": [
       "  0%|          | 0/10000 [00:00<?, ?it/s]"
      ]
     },
     "metadata": {},
     "output_type": "display_data"
    },
    {
     "name": "stdout",
     "output_type": "stream",
     "text": [
      "gld_params: [0.04364209 0.0240618  0.3559264  0.1389723 ]\n",
      "wrapper([ 0.000e+00  3.060e-03 ...  9.532e-01  8.959e-01]) = -0.02738040445897411\n",
      "assembly_constraint_no_mean([ 0.000e+00  3.060e-03 ...  9.532e-01  8.959e-01]) = [ 5.028e-02  5.030e-02 ...  4.998e-02  5.000e-02]\n"
     ]
    },
    {
     "data": {
      "application/vnd.jupyter.widget-view+json": {
       "model_id": "bda852606ba54c54bbc398f9658f6d6f",
       "version_major": 2,
       "version_minor": 0
      },
      "text/plain": [
       "  0%|          | 0/10000 [00:00<?, ?it/s]"
      ]
     },
     "metadata": {},
     "output_type": "display_data"
    },
    {
     "name": "stdout",
     "output_type": "stream",
     "text": [
      "gld_params: [0.0436793  0.02405345 0.35586803 0.13908983]\n",
      "wrapper([ 1.393e-03  0.000e+00 ...  9.542e-01  8.961e-01]) = -0.027219112546315875\n",
      "assembly_constraint_no_mean([ 1.393e-03  0.000e+00 ...  9.542e-01  8.961e-01]) = [ 2.124e-02  1.691e-02 ...  8.502e-02  5.611e-02]\n"
     ]
    },
    {
     "data": {
      "application/vnd.jupyter.widget-view+json": {
       "model_id": "9d7c390a1f434d30ae56094b13bae7d5",
       "version_major": 2,
       "version_minor": 0
      },
      "text/plain": [
       "  0%|          | 0/10000 [00:00<?, ?it/s]"
      ]
     },
     "metadata": {},
     "output_type": "display_data"
    },
    {
     "name": "stdout",
     "output_type": "stream",
     "text": [
      "gld_params: [0.04364182 0.02405942 0.3559096  0.13893327]\n",
      "wrapper([ 0.000e+00  5.470e-03 ...  9.529e-01  8.962e-01]) = -0.027380241486916347\n",
      "assembly_constraint_no_mean([ 0.000e+00  5.470e-03 ...  9.529e-01  8.962e-01]) = [ 5.019e-02  5.018e-02 ...  5.005e-02  5.001e-02]\n"
     ]
    },
    {
     "data": {
      "application/vnd.jupyter.widget-view+json": {
       "model_id": "89c57de476a3475c8e1523577b89070e",
       "version_major": 2,
       "version_minor": 0
      },
      "text/plain": [
       "  0%|          | 0/10000 [00:00<?, ?it/s]"
      ]
     },
     "metadata": {},
     "output_type": "display_data"
    },
    {
     "name": "stdout",
     "output_type": "stream",
     "text": [
      "gld_params: [0.04363227 0.02406004 0.3560286  0.13896174]\n",
      "wrapper([ 2.233e-18  5.439e-03 ...  9.527e-01  8.964e-01]) = -0.027381420899921363\n",
      "assembly_constraint_no_mean([ 2.233e-18  5.439e-03 ...  9.527e-01  8.964e-01]) = [ 5.005e-02  5.009e-02 ...  5.002e-02  4.993e-02]\n"
     ]
    },
    {
     "data": {
      "application/vnd.jupyter.widget-view+json": {
       "model_id": "3b4d019c6d384ca9918e3924a325c711",
       "version_major": 2,
       "version_minor": 0
      },
      "text/plain": [
       "  0%|          | 0/10000 [00:00<?, ?it/s]"
      ]
     },
     "metadata": {},
     "output_type": "display_data"
    },
    {
     "name": "stdout",
     "output_type": "stream",
     "text": [
      "gld_params: [0.0436712  0.02404502 0.35583385 0.13889025]\n",
      "wrapper([ 0.000e+00  5.411e-03 ...  9.516e-01  8.935e-01]) = -0.02724634287358483\n",
      "assembly_constraint_no_mean([ 0.000e+00  5.411e-03 ...  9.516e-01  8.935e-01]) = [ 4.106e-02  6.256e-02 ...  3.667e-02  2.877e-02]\n"
     ]
    },
    {
     "data": {
      "application/vnd.jupyter.widget-view+json": {
       "model_id": "1b1aa34cfe194a9088fad1d244de1d17",
       "version_major": 2,
       "version_minor": 0
      },
      "text/plain": [
       "  0%|          | 0/10000 [00:00<?, ?it/s]"
      ]
     },
     "metadata": {},
     "output_type": "display_data"
    },
    {
     "name": "stdout",
     "output_type": "stream",
     "text": [
      "gld_params: [0.04363537 0.02405997 0.3560167  0.13893606]\n",
      "wrapper([ 0.000e+00  4.569e-03 ...  9.507e-01  8.987e-01]) = -0.027379913117915433\n",
      "assembly_constraint_no_mean([ 0.000e+00  4.569e-03 ...  9.507e-01  8.987e-01]) = [ 4.987e-02  5.002e-02 ...  5.005e-02  5.008e-02]\n"
     ]
    },
    {
     "data": {
      "application/vnd.jupyter.widget-view+json": {
       "model_id": "fbfcd7865cf84215b67d120cbb2bceca",
       "version_major": 2,
       "version_minor": 0
      },
      "text/plain": [
       "  0%|          | 0/10000 [00:00<?, ?it/s]"
      ]
     },
     "metadata": {},
     "output_type": "display_data"
    },
    {
     "name": "stdout",
     "output_type": "stream",
     "text": [
      "gld_params: [0.04361692 0.0240687  0.35591749 0.13889733]\n",
      "wrapper([ 0.000e+00  5.699e-03 ...  9.530e-01  8.961e-01]) = -0.027501537086751588\n",
      "assembly_constraint_no_mean([ 0.000e+00  5.699e-03 ...  9.530e-01  8.961e-01]) = [ 5.885e-02  6.071e-02 ...  8.498e-02  4.983e-02]\n"
     ]
    },
    {
     "data": {
      "application/vnd.jupyter.widget-view+json": {
       "model_id": "3285e67f221742ffb7d2bbe71eff7870",
       "version_major": 2,
       "version_minor": 0
      },
      "text/plain": [
       "  0%|          | 0/10000 [00:00<?, ?it/s]"
      ]
     },
     "metadata": {},
     "output_type": "display_data"
    },
    {
     "name": "stdout",
     "output_type": "stream",
     "text": [
      "gld_params: [0.04363721 0.02406369 0.35599729 0.13902148]\n",
      "wrapper([ 3.080e-19  8.271e-03 ...  9.525e-01  8.967e-01]) = -0.02738007663042024\n",
      "assembly_constraint_no_mean([ 3.080e-19  8.271e-03 ...  9.525e-01  8.967e-01]) = [ 4.996e-02  5.007e-02 ...  4.991e-02  5.002e-02]\n"
     ]
    },
    {
     "data": {
      "application/vnd.jupyter.widget-view+json": {
       "model_id": "e65e76ebc612478b983e436fec109297",
       "version_major": 2,
       "version_minor": 0
      },
      "text/plain": [
       "  0%|          | 0/10000 [00:00<?, ?it/s]"
      ]
     },
     "metadata": {},
     "output_type": "display_data"
    },
    {
     "name": "stdout",
     "output_type": "stream",
     "text": [
      "gld_params: [0.04363053 0.0240674  0.35583675 0.13905885]\n",
      "wrapper([ 0.000e+00  3.951e-03 ...  9.514e-01  8.951e-01]) = -0.027441919157275403\n",
      "assembly_constraint_no_mean([ 0.000e+00  3.951e-03 ...  9.514e-01  8.951e-01]) = [ 3.274e-02  5.648e-02 ...  7.128e-02  3.575e-02]\n"
     ]
    },
    {
     "data": {
      "application/vnd.jupyter.widget-view+json": {
       "model_id": "0dc22133b23d4a469ac2f7eff61e58fc",
       "version_major": 2,
       "version_minor": 0
      },
      "text/plain": [
       "  0%|          | 0/10000 [00:00<?, ?it/s]"
      ]
     },
     "metadata": {},
     "output_type": "display_data"
    },
    {
     "name": "stdout",
     "output_type": "stream",
     "text": [
      "gld_params: [0.04363736 0.02405999 0.3559305  0.13898623]\n",
      "wrapper([ 3.962e-20  4.075e-03 ...  9.520e-01  8.972e-01]) = -0.027380880918800025\n",
      "assembly_constraint_no_mean([ 3.962e-20  4.075e-03 ...  9.520e-01  8.972e-01]) = [ 5.004e-02  4.999e-02 ...  5.011e-02  5.004e-02]\n"
     ]
    },
    {
     "data": {
      "application/vnd.jupyter.widget-view+json": {
       "model_id": "95cd898f2e7b4e62be9df3e01673eeb3",
       "version_major": 2,
       "version_minor": 0
      },
      "text/plain": [
       "  0%|          | 0/10000 [00:00<?, ?it/s]"
      ]
     },
     "metadata": {},
     "output_type": "display_data"
    },
    {
     "name": "stdout",
     "output_type": "stream",
     "text": [
      "gld_params: [0.04364176 0.02405756 0.35586245 0.13890107]\n",
      "wrapper([ 0.000e+00  3.533e-03 ...  9.531e-01  8.945e-01]) = -0.02738668738306115\n",
      "assembly_constraint_no_mean([ 0.000e+00  3.533e-03 ...  9.531e-01  8.945e-01]) = [ 4.700e-02  5.597e-02 ...  5.691e-02  4.269e-02]\n"
     ]
    },
    {
     "data": {
      "application/vnd.jupyter.widget-view+json": {
       "model_id": "56f747765d184d199547498a7890a232",
       "version_major": 2,
       "version_minor": 0
      },
      "text/plain": [
       "  0%|          | 0/10000 [00:00<?, ?it/s]"
      ]
     },
     "metadata": {},
     "output_type": "display_data"
    },
    {
     "name": "stdout",
     "output_type": "stream",
     "text": [
      "gld_params: [0.04363685 0.02405922 0.35592758 0.13898017]\n",
      "wrapper([ 5.813e-19  4.665e-03 ...  9.521e-01  8.972e-01]) = -0.027380146736595164\n",
      "assembly_constraint_no_mean([ 5.813e-19  4.665e-03 ...  9.521e-01  8.972e-01]) = [ 4.999e-02  5.003e-02 ...  5.012e-02  5.003e-02]\n"
     ]
    },
    {
     "data": {
      "application/vnd.jupyter.widget-view+json": {
       "model_id": "e0265f0275004acba96003b4b5039103",
       "version_major": 2,
       "version_minor": 0
      },
      "text/plain": [
       "  0%|          | 0/10000 [00:00<?, ?it/s]"
      ]
     },
     "metadata": {},
     "output_type": "display_data"
    },
    {
     "name": "stdout",
     "output_type": "stream",
     "text": [
      "gld_params: [0.0436509  0.02405874 0.3558383  0.13909828]\n",
      "wrapper([ 0.000e+00  5.552e-03 ...  9.516e-01  8.956e-01]) = -0.027330888912778174\n",
      "assembly_constraint_no_mean([ 0.000e+00  5.552e-03 ...  9.516e-01  8.956e-01]) = [ 4.533e-02  4.218e-02 ...  5.069e-02  3.973e-02]\n"
     ]
    },
    {
     "data": {
      "application/vnd.jupyter.widget-view+json": {
       "model_id": "105caa8f76c04456a62ed3793e3138fe",
       "version_major": 2,
       "version_minor": 0
      },
      "text/plain": [
       "  0%|          | 0/10000 [00:00<?, ?it/s]"
      ]
     },
     "metadata": {},
     "output_type": "display_data"
    },
    {
     "name": "stdout",
     "output_type": "stream",
     "text": [
      "gld_params: [0.04363829 0.02405977 0.35598527 0.13891972]\n",
      "wrapper([ 0.000e+00  5.608e-03 ...  9.516e-01  8.977e-01]) = -0.027380068797956476\n",
      "assembly_constraint_no_mean([ 0.000e+00  5.608e-03 ...  9.516e-01  8.977e-01]) = [ 5.002e-02  4.998e-02 ...  5.006e-02  4.999e-02]\n"
     ]
    },
    {
     "data": {
      "application/vnd.jupyter.widget-view+json": {
       "model_id": "af9844ddc2c149e6ae715f4e61b9a1f7",
       "version_major": 2,
       "version_minor": 0
      },
      "text/plain": [
       "  0%|          | 0/10000 [00:00<?, ?it/s]"
      ]
     },
     "metadata": {},
     "output_type": "display_data"
    },
    {
     "name": "stdout",
     "output_type": "stream",
     "text": [
      "gld_params: [0.0436339  0.02405862 0.35602928 0.13890537]\n",
      "wrapper([ 3.848e-19  3.272e-03 ...  9.535e-01  8.955e-01]) = -0.027380921200598624\n",
      "assembly_constraint_no_mean([ 3.848e-19  3.272e-03 ...  9.535e-01  8.955e-01]) = [ 5.008e-02  5.012e-02 ...  4.996e-02  5.008e-02]\n"
     ]
    },
    {
     "data": {
      "application/vnd.jupyter.widget-view+json": {
       "model_id": "7124d3aa289d43b6be29ed3077c613be",
       "version_major": 2,
       "version_minor": 0
      },
      "text/plain": [
       "  0%|          | 0/10000 [00:00<?, ?it/s]"
      ]
     },
     "metadata": {},
     "output_type": "display_data"
    },
    {
     "name": "stdout",
     "output_type": "stream",
     "text": [
      "gld_params: [0.04363562 0.02405718 0.35594976 0.1389205 ]\n",
      "wrapper([ 0.000e+00  9.819e-03 ...  9.512e-01  8.987e-01]) = -0.02738107165037334\n",
      "assembly_constraint_no_mean([ 0.000e+00  9.819e-03 ...  9.512e-01  8.987e-01]) = [ 5.470e-02  4.271e-02 ...  3.958e-02  5.230e-02]\n"
     ]
    },
    {
     "data": {
      "application/vnd.jupyter.widget-view+json": {
       "model_id": "834885dd7a514ef3ba50c136238a0aa9",
       "version_major": 2,
       "version_minor": 0
      },
      "text/plain": [
       "  0%|          | 0/10000 [00:00<?, ?it/s]"
      ]
     },
     "metadata": {},
     "output_type": "display_data"
    },
    {
     "name": "stdout",
     "output_type": "stream",
     "text": [
      "gld_params: [0.04364217 0.02405913 0.35595924 0.1388742 ]\n",
      "wrapper([ 7.554e-19  4.425e-03 ...  9.522e-01  8.971e-01]) = -0.027380173016769215\n",
      "assembly_constraint_no_mean([ 7.554e-19  4.425e-03 ...  9.522e-01  8.971e-01]) = [ 5.007e-02  5.001e-02 ...  4.997e-02  5.000e-02]\n"
     ]
    },
    {
     "data": {
      "application/vnd.jupyter.widget-view+json": {
       "model_id": "35ca35dc05b1498d80ca50042089be71",
       "version_major": 2,
       "version_minor": 0
      },
      "text/plain": [
       "  0%|          | 0/10000 [00:00<?, ?it/s]"
      ]
     },
     "metadata": {},
     "output_type": "display_data"
    },
    {
     "name": "stdout",
     "output_type": "stream",
     "text": [
      "gld_params: [0.04364828 0.02405596 0.35585182 0.13894844]\n",
      "wrapper([ 0.000e+00  5.406e-03 ...  9.514e-01  8.960e-01]) = -0.02735223471963241\n",
      "assembly_constraint_no_mean([ 0.000e+00  5.406e-03 ...  9.514e-01  8.960e-01]) = [ 6.782e-02  2.149e-02 ...  3.972e-02  3.982e-02]\n"
     ]
    },
    {
     "data": {
      "application/vnd.jupyter.widget-view+json": {
       "model_id": "8b3be14f5f984cc2b26dc15e064dfe6f",
       "version_major": 2,
       "version_minor": 0
      },
      "text/plain": [
       "  0%|          | 0/10000 [00:00<?, ?it/s]"
      ]
     },
     "metadata": {},
     "output_type": "display_data"
    },
    {
     "name": "stdout",
     "output_type": "stream",
     "text": [
      "gld_params: [0.04363243 0.02406199 0.35602653 0.13901731]\n",
      "wrapper([ 0.000e+00  3.929e-03 ...  9.520e-01  8.973e-01]) = -0.027379992318748277\n",
      "assembly_constraint_no_mean([ 0.000e+00  3.929e-03 ...  9.520e-01  8.973e-01]) = [ 5.000e-02  5.007e-02 ...  5.009e-02  5.000e-02]\n"
     ]
    },
    {
     "data": {
      "application/vnd.jupyter.widget-view+json": {
       "model_id": "7a7f0df4f3044ef991ce791f33af53b6",
       "version_major": 2,
       "version_minor": 0
      },
      "text/plain": [
       "  0%|          | 0/10000 [00:00<?, ?it/s]"
      ]
     },
     "metadata": {},
     "output_type": "display_data"
    },
    {
     "name": "stdout",
     "output_type": "stream",
     "text": [
      "gld_params: [0.04363577 0.02405945 0.35589262 0.13897   ]\n",
      "wrapper([ 0.000e+00  7.302e-03 ...  9.544e-01  8.999e-01]) = -0.027393360777289915\n",
      "assembly_constraint_no_mean([ 0.000e+00  7.302e-03 ...  9.544e-01  8.999e-01]) = [ 4.466e-02  7.662e-02 ...  4.850e-02  7.717e-02]\n"
     ]
    },
    {
     "data": {
      "application/vnd.jupyter.widget-view+json": {
       "model_id": "12f88fe9bc404e5aa2bcb01bf3b62b02",
       "version_major": 2,
       "version_minor": 0
      },
      "text/plain": [
       "  0%|          | 0/10000 [00:00<?, ?it/s]"
      ]
     },
     "metadata": {},
     "output_type": "display_data"
    },
    {
     "name": "stdout",
     "output_type": "stream",
     "text": [
      "gld_params: [0.04363902 0.02406127 0.35593378 0.13899484]\n",
      "wrapper([ 4.261e-21  2.598e-03 ...  9.550e-01  8.939e-01]) = -0.027380328999386246\n",
      "assembly_constraint_no_mean([ 4.261e-21  2.598e-03 ...  9.550e-01  8.939e-01]) = [ 5.001e-02  5.002e-02 ...  5.001e-02  5.019e-02]\n"
     ]
    },
    {
     "data": {
      "application/vnd.jupyter.widget-view+json": {
       "model_id": "c784e536386c4e719c2de71c0d3f564d",
       "version_major": 2,
       "version_minor": 0
      },
      "text/plain": [
       "  0%|          | 0/10000 [00:00<?, ?it/s]"
      ]
     },
     "metadata": {},
     "output_type": "display_data"
    },
    {
     "name": "stdout",
     "output_type": "stream",
     "text": [
      "gld_params: [0.04363843 0.02405965 0.35587923 0.13893627]\n",
      "wrapper([ 0.000e+00  5.379e-03 ...  9.517e-01  9.006e-01]) = -0.0273963563732476\n",
      "assembly_constraint_no_mean([ 0.000e+00  5.379e-03 ...  9.517e-01  9.006e-01]) = [ 5.118e-02  5.052e-02 ...  3.785e-02  6.496e-02]\n"
     ]
    },
    {
     "data": {
      "application/vnd.jupyter.widget-view+json": {
       "model_id": "98d21184b4064eba8f76e3a087860075",
       "version_major": 2,
       "version_minor": 0
      },
      "text/plain": [
       "  0%|          | 0/10000 [00:00<?, ?it/s]"
      ]
     },
     "metadata": {},
     "output_type": "display_data"
    },
    {
     "name": "stdout",
     "output_type": "stream",
     "text": [
      "gld_params: [0.04363712 0.02405779 0.35593174 0.13893494]\n",
      "wrapper([ 1.122e-19  3.398e-03 ...  9.512e-01  8.983e-01]) = -0.027380510746808313\n",
      "assembly_constraint_no_mean([ 1.122e-19  3.398e-03 ...  9.512e-01  8.983e-01]) = [ 5.004e-02  5.011e-02 ...  5.002e-02  5.003e-02]\n"
     ]
    },
    {
     "data": {
      "application/vnd.jupyter.widget-view+json": {
       "model_id": "f57688d72aab4f308d270c7ae668a835",
       "version_major": 2,
       "version_minor": 0
      },
      "text/plain": [
       "  0%|          | 0/10000 [00:00<?, ?it/s]"
      ]
     },
     "metadata": {},
     "output_type": "display_data"
    },
    {
     "name": "stdout",
     "output_type": "stream",
     "text": [
      "gld_params: [0.04363859 0.02405882 0.3559445  0.13893109]\n",
      "wrapper([ 6.975e-20  3.621e-03 ...  9.517e-01  8.976e-01]) = -0.027379909721559327\n",
      "assembly_constraint_no_mean([ 6.975e-20  3.621e-03 ...  9.517e-01  8.976e-01]) = [ 4.997e-02  5.010e-02 ...  5.004e-02  5.002e-02]\n"
     ]
    },
    {
     "data": {
      "application/vnd.jupyter.widget-view+json": {
       "model_id": "64e33bd6ca404e99822dd74e508a7eeb",
       "version_major": 2,
       "version_minor": 0
      },
      "text/plain": [
       "  0%|          | 0/10000 [00:00<?, ?it/s]"
      ]
     },
     "metadata": {},
     "output_type": "display_data"
    },
    {
     "name": "stdout",
     "output_type": "stream",
     "text": [
      "gld_params: [0.04363236 0.02406417 0.35587049 0.13909264]\n",
      "wrapper([ 0.000e+00  3.091e-03 ...  9.528e-01  8.983e-01]) = -0.027406478008537443\n",
      "assembly_constraint_no_mean([ 0.000e+00  3.091e-03 ...  9.528e-01  8.983e-01]) = [ 4.068e-02  4.476e-02 ...  6.066e-02  5.965e-02]\n"
     ]
    },
    {
     "data": {
      "application/vnd.jupyter.widget-view+json": {
       "model_id": "dd6c2729061d434684666f8c6602a6f6",
       "version_major": 2,
       "version_minor": 0
      },
      "text/plain": [
       "  0%|          | 0/10000 [00:00<?, ?it/s]"
      ]
     },
     "metadata": {},
     "output_type": "display_data"
    },
    {
     "name": "stdout",
     "output_type": "stream",
     "text": [
      "gld_params: [0.04363725 0.02405729 0.35588561 0.13896864]\n",
      "wrapper([ 0.000e+00  2.051e-03 ...  9.518e-01  8.975e-01]) = -0.027379647729633343\n",
      "assembly_constraint_no_mean([ 0.000e+00  2.051e-03 ...  9.518e-01  8.975e-01]) = [ 5.003e-02  5.005e-02 ...  5.003e-02  5.008e-02]\n"
     ]
    },
    {
     "data": {
      "application/vnd.jupyter.widget-view+json": {
       "model_id": "0c60971f30e94f3984f26509ddd9fd02",
       "version_major": 2,
       "version_minor": 0
      },
      "text/plain": [
       "  0%|          | 0/10000 [00:00<?, ?it/s]"
      ]
     },
     "metadata": {},
     "output_type": "display_data"
    },
    {
     "name": "stdout",
     "output_type": "stream",
     "text": [
      "gld_params: [0.043626   0.02406306 0.35599186 0.138948  ]\n",
      "wrapper([ 0.000e+00  1.092e-03 ...  9.511e-01  8.991e-01]) = -0.027424866047596145\n",
      "assembly_constraint_no_mean([ 0.000e+00  1.092e-03 ...  9.511e-01  8.991e-01]) = [ 4.351e-02  8.894e-02 ...  6.333e-02  5.419e-02]\n"
     ]
    },
    {
     "data": {
      "application/vnd.jupyter.widget-view+json": {
       "model_id": "aef6979c8ffe4c7f9883c717989675fc",
       "version_major": 2,
       "version_minor": 0
      },
      "text/plain": [
       "  0%|          | 0/10000 [00:00<?, ?it/s]"
      ]
     },
     "metadata": {},
     "output_type": "display_data"
    },
    {
     "name": "stdout",
     "output_type": "stream",
     "text": [
      "gld_params: [0.04363381 0.02405686 0.35601563 0.13888532]\n",
      "wrapper([ 1.297e-19  4.050e-03 ...  9.527e-01  8.965e-01]) = -0.027378913441007985\n",
      "assembly_constraint_no_mean([ 1.297e-19  4.050e-03 ...  9.527e-01  8.965e-01]) = [ 4.997e-02  4.997e-02 ...  5.005e-02  5.005e-02]\n"
     ]
    },
    {
     "data": {
      "application/vnd.jupyter.widget-view+json": {
       "model_id": "55cecc8193564a76891833904e9904dc",
       "version_major": 2,
       "version_minor": 0
      },
      "text/plain": [
       "  0%|          | 0/10000 [00:00<?, ?it/s]"
      ]
     },
     "metadata": {},
     "output_type": "display_data"
    },
    {
     "name": "stdout",
     "output_type": "stream",
     "text": [
      "gld_params: [0.04364974 0.02404621 0.35586566 0.13880753]\n",
      "wrapper([ 0.000e+00  3.680e-03 ...  9.500e-01  8.965e-01]) = -0.02732412517631582\n",
      "assembly_constraint_no_mean([ 0.000e+00  3.680e-03 ...  9.500e-01  8.965e-01]) = [ 5.414e-02  6.551e-02 ...  3.111e-02  3.471e-02]\n"
     ]
    },
    {
     "data": {
      "application/vnd.jupyter.widget-view+json": {
       "model_id": "082b874784b941568aebcee8fb164152",
       "version_major": 2,
       "version_minor": 0
      },
      "text/plain": [
       "  0%|          | 0/10000 [00:00<?, ?it/s]"
      ]
     },
     "metadata": {},
     "output_type": "display_data"
    },
    {
     "name": "stdout",
     "output_type": "stream",
     "text": [
      "gld_params: [0.04363658 0.02406264 0.35588456 0.13911212]\n",
      "wrapper([ 1.523e-19  3.115e-03 ...  9.528e-01  8.965e-01]) = -0.027379806441806067\n",
      "assembly_constraint_no_mean([ 1.523e-19  3.115e-03 ...  9.528e-01  8.965e-01]) = [ 5.006e-02  5.009e-02 ...  5.004e-02  4.994e-02]\n"
     ]
    },
    {
     "data": {
      "application/vnd.jupyter.widget-view+json": {
       "model_id": "59e0ff13034e4cf9901150b8248a6347",
       "version_major": 2,
       "version_minor": 0
      },
      "text/plain": [
       "  0%|          | 0/10000 [00:00<?, ?it/s]"
      ]
     },
     "metadata": {},
     "output_type": "display_data"
    },
    {
     "name": "stdout",
     "output_type": "stream",
     "text": [
      "gld_params: [0.04365144 0.02404622 0.35597319 0.13882754]\n",
      "wrapper([ 0.000e+00  2.778e-03 ...  9.500e-01  8.968e-01]) = -0.027294259814533605\n",
      "assembly_constraint_no_mean([ 0.000e+00  2.778e-03 ...  9.500e-01  8.968e-01]) = [ 7.327e-02  6.482e-02 ...  4.577e-02  3.625e-02]\n"
     ]
    },
    {
     "data": {
      "application/vnd.jupyter.widget-view+json": {
       "model_id": "c6030b5cd7a74d4fb1fc797a0db6bfa1",
       "version_major": 2,
       "version_minor": 0
      },
      "text/plain": [
       "  0%|          | 0/10000 [00:00<?, ?it/s]"
      ]
     },
     "metadata": {},
     "output_type": "display_data"
    },
    {
     "name": "stdout",
     "output_type": "stream",
     "text": [
      "gld_params: [0.04363744 0.0240619  0.3559502  0.13902126]\n",
      "wrapper([ 1.321e-19  0.000e+00 ...  9.516e-01  8.978e-01]) = -0.027379443997819032\n",
      "assembly_constraint_no_mean([ 1.321e-19  0.000e+00 ...  9.516e-01  8.978e-01]) = [ 5.014e-02  4.996e-02 ...  5.003e-02  5.003e-02]\n"
     ]
    },
    {
     "data": {
      "application/vnd.jupyter.widget-view+json": {
       "model_id": "b70e72fcb1f245f1a6015e9e1d92b931",
       "version_major": 2,
       "version_minor": 0
      },
      "text/plain": [
       "  0%|          | 0/10000 [00:00<?, ?it/s]"
      ]
     },
     "metadata": {},
     "output_type": "display_data"
    },
    {
     "name": "stdout",
     "output_type": "stream",
     "text": [
      "gld_params: [0.04363992 0.02406049 0.3558051  0.13902528]\n",
      "wrapper([ 0.000e+00  6.092e-03 ...  9.518e-01  8.988e-01]) = -0.02739263673165405\n",
      "assembly_constraint_no_mean([ 0.000e+00  6.092e-03 ...  9.518e-01  8.988e-01]) = [ 4.171e-02  4.837e-02 ...  5.680e-02  5.593e-02]\n"
     ]
    },
    {
     "data": {
      "application/vnd.jupyter.widget-view+json": {
       "model_id": "4dc1a9d15b644da6b286f61059e0a72c",
       "version_major": 2,
       "version_minor": 0
      },
      "text/plain": [
       "  0%|          | 0/10000 [00:00<?, ?it/s]"
      ]
     },
     "metadata": {},
     "output_type": "display_data"
    },
    {
     "name": "stdout",
     "output_type": "stream",
     "text": [
      "gld_params: [0.04363793 0.02406029 0.35590538 0.13901831]\n",
      "wrapper([ 0.000e+00  7.702e-03 ...  9.527e-01  8.965e-01]) = -0.02737910156126123\n",
      "assembly_constraint_no_mean([ 0.000e+00  7.702e-03 ...  9.527e-01  8.965e-01]) = [ 5.008e-02  5.008e-02 ...  5.013e-02  5.007e-02]\n"
     ]
    },
    {
     "data": {
      "application/vnd.jupyter.widget-view+json": {
       "model_id": "3b32fdd3610646d89c686d53ac8c050e",
       "version_major": 2,
       "version_minor": 0
      },
      "text/plain": [
       "  0%|          | 0/10000 [00:00<?, ?it/s]"
      ]
     },
     "metadata": {},
     "output_type": "display_data"
    },
    {
     "name": "stdout",
     "output_type": "stream",
     "text": [
      "gld_params: [0.04363277 0.02406402 0.35583984 0.13900519]\n",
      "wrapper([ 0.000e+00  2.660e-03 ...  9.538e-01  9.025e-01]) = -0.027428530626025762\n",
      "assembly_constraint_no_mean([ 0.000e+00  2.660e-03 ...  9.538e-01  9.025e-01]) = [ 2.630e-02  3.535e-02 ...  7.257e-02  8.694e-02]\n"
     ]
    },
    {
     "data": {
      "application/vnd.jupyter.widget-view+json": {
       "model_id": "2cb854431b47420aaf38fd96380d5514",
       "version_major": 2,
       "version_minor": 0
      },
      "text/plain": [
       "  0%|          | 0/10000 [00:00<?, ?it/s]"
      ]
     },
     "metadata": {},
     "output_type": "display_data"
    },
    {
     "name": "stdout",
     "output_type": "stream",
     "text": [
      "gld_params: [0.0436336  0.02405559 0.35598898 0.13887873]\n",
      "wrapper([ 3.244e-19  3.697e-03 ...  9.515e-01  8.978e-01]) = -0.027379556512809808\n",
      "assembly_constraint_no_mean([ 3.244e-19  3.697e-03 ...  9.515e-01  8.978e-01]) = [ 5.005e-02  5.015e-02 ...  5.007e-02  5.001e-02]\n"
     ]
    },
    {
     "data": {
      "application/vnd.jupyter.widget-view+json": {
       "model_id": "1e8d29d7f5fc43fe805aadb108cc9623",
       "version_major": 2,
       "version_minor": 0
      },
      "text/plain": [
       "  0%|          | 0/10000 [00:00<?, ?it/s]"
      ]
     },
     "metadata": {},
     "output_type": "display_data"
    },
    {
     "name": "stdout",
     "output_type": "stream",
     "text": [
      "gld_params: [0.043616   0.02406311 0.35593384 0.13893539]\n",
      "wrapper([ 0.000e+00  4.642e-03 ...  9.498e-01  8.974e-01]) = -0.027467567711794365\n",
      "assembly_constraint_no_mean([ 0.000e+00  4.642e-03 ...  9.498e-01  8.974e-01]) = [ 6.210e-02  5.372e-02 ...  7.995e-02  3.823e-02]\n"
     ]
    },
    {
     "data": {
      "application/vnd.jupyter.widget-view+json": {
       "model_id": "3d10b50cef044623a5026e88eb5fe994",
       "version_major": 2,
       "version_minor": 0
      },
      "text/plain": [
       "  0%|          | 0/10000 [00:00<?, ?it/s]"
      ]
     },
     "metadata": {},
     "output_type": "display_data"
    },
    {
     "name": "stdout",
     "output_type": "stream",
     "text": [
      "gld_params: [0.04363671 0.0240615  0.35600829 0.13895748]\n",
      "wrapper([ 9.952e-20  2.334e-03 ...  9.518e-01  8.975e-01]) = -0.027381214843412712\n",
      "assembly_constraint_no_mean([ 9.952e-20  2.334e-03 ...  9.518e-01  8.975e-01]) = [ 5.009e-02  5.019e-02 ...  5.002e-02  5.001e-02]\n"
     ]
    },
    {
     "data": {
      "application/vnd.jupyter.widget-view+json": {
       "model_id": "5fb8a003aabe48c3ad1960eb7ad472b9",
       "version_major": 2,
       "version_minor": 0
      },
      "text/plain": [
       "  0%|          | 0/10000 [00:00<?, ?it/s]"
      ]
     },
     "metadata": {},
     "output_type": "display_data"
    },
    {
     "name": "stdout",
     "output_type": "stream",
     "text": [
      "gld_params: [0.04363404 0.02406369 0.35608187 0.13898914]\n",
      "wrapper([ 4.659e-19  9.642e-04 ...  9.521e-01  8.971e-01]) = -0.02737914942544928\n",
      "assembly_constraint_no_mean([ 4.659e-19  9.642e-04 ...  9.521e-01  8.971e-01]) = [ 5.000e-02  5.006e-02 ...  5.003e-02  4.998e-02]\n"
     ]
    },
    {
     "data": {
      "application/vnd.jupyter.widget-view+json": {
       "model_id": "fa46ecc58af245d1b1f098e2198c54a8",
       "version_major": 2,
       "version_minor": 0
      },
      "text/plain": [
       "  0%|          | 0/10000 [00:00<?, ?it/s]"
      ]
     },
     "metadata": {},
     "output_type": "display_data"
    },
    {
     "name": "stdout",
     "output_type": "stream",
     "text": [
      "gld_params: [0.04366139 0.02404735 0.35611239 0.13895816]\n",
      "wrapper([ 0.000e+00  7.753e-04 ...  9.496e-01  8.974e-01]) = -0.027217897726549898\n",
      "assembly_constraint_no_mean([ 0.000e+00  7.753e-04 ...  9.496e-01  8.974e-01]) = [ 4.036e-02  2.551e-02 ...  2.343e-02  3.758e-02]\n"
     ]
    },
    {
     "data": {
      "application/vnd.jupyter.widget-view+json": {
       "model_id": "2e8142cac1904fcb84fa8b989aad3f1d",
       "version_major": 2,
       "version_minor": 0
      },
      "text/plain": [
       "  0%|          | 0/10000 [00:00<?, ?it/s]"
      ]
     },
     "metadata": {},
     "output_type": "display_data"
    },
    {
     "name": "stdout",
     "output_type": "stream",
     "text": [
      "gld_params: [0.04363925 0.02406094 0.35595397 0.13896394]\n",
      "wrapper([ 4.829e-19  1.818e-03 ...  9.498e-01  8.998e-01]) = -0.027380403224525344\n",
      "assembly_constraint_no_mean([ 4.829e-19  1.818e-03 ...  9.498e-01  8.998e-01]) = [ 5.002e-02  5.007e-02 ...  5.004e-02  5.009e-02]\n"
     ]
    },
    {
     "data": {
      "application/vnd.jupyter.widget-view+json": {
       "model_id": "f19253c89777438d98a6e4441492507e",
       "version_major": 2,
       "version_minor": 0
      },
      "text/plain": [
       "  0%|          | 0/10000 [00:00<?, ?it/s]"
      ]
     },
     "metadata": {},
     "output_type": "display_data"
    },
    {
     "name": "stdout",
     "output_type": "stream",
     "text": [
      "gld_params: [0.04364934 0.02405357 0.35608267 0.13887267]\n",
      "wrapper([ 0.000e+00  2.032e-03 ...  9.546e-01  8.973e-01]) = -0.027307355956519168\n",
      "assembly_constraint_no_mean([ 0.000e+00  2.032e-03 ...  9.546e-01  8.973e-01]) = [ 6.897e-02  5.458e-02 ...  3.321e-02  6.497e-02]\n"
     ]
    },
    {
     "data": {
      "application/vnd.jupyter.widget-view+json": {
       "model_id": "513e0126719141a6984487f26be3eedf",
       "version_major": 2,
       "version_minor": 0
      },
      "text/plain": [
       "  0%|          | 0/10000 [00:00<?, ?it/s]"
      ]
     },
     "metadata": {},
     "output_type": "display_data"
    },
    {
     "name": "stdout",
     "output_type": "stream",
     "text": [
      "gld_params: [0.04363831 0.0240607  0.35594212 0.13898259]\n",
      "wrapper([ 3.798e-22  3.123e-03 ...  9.515e-01  8.978e-01]) = -0.0273803174989945\n",
      "assembly_constraint_no_mean([ 3.798e-22  3.123e-03 ...  9.515e-01  8.978e-01]) = [ 4.999e-02  5.001e-02 ...  5.000e-02  4.999e-02]\n"
     ]
    },
    {
     "data": {
      "application/vnd.jupyter.widget-view+json": {
       "model_id": "f5b50d9602ce4ecd92bc3c2785cc713b",
       "version_major": 2,
       "version_minor": 0
      },
      "text/plain": [
       "  0%|          | 0/10000 [00:00<?, ?it/s]"
      ]
     },
     "metadata": {},
     "output_type": "display_data"
    },
    {
     "name": "stdout",
     "output_type": "stream",
     "text": [
      "gld_params: [0.04363738 0.02405764 0.35596119 0.13889706]\n",
      "wrapper([ 6.741e-19  1.553e-03 ...  9.497e-01  8.998e-01]) = -0.02738100199693824\n",
      "assembly_constraint_no_mean([ 6.741e-19  1.553e-03 ...  9.497e-01  8.998e-01]) = [ 5.009e-02  4.999e-02 ...  5.036e-02  5.009e-02]\n"
     ]
    },
    {
     "data": {
      "application/vnd.jupyter.widget-view+json": {
       "model_id": "fda60e726e204343a0c503ec6e9e347e",
       "version_major": 2,
       "version_minor": 0
      },
      "text/plain": [
       "  0%|          | 0/10000 [00:00<?, ?it/s]"
      ]
     },
     "metadata": {},
     "output_type": "display_data"
    },
    {
     "name": "stdout",
     "output_type": "stream",
     "text": [
      "gld_params: [0.04366948 0.02405006 0.35591766 0.13906012]\n",
      "wrapper([ 0.000e+00  6.258e-03 ...  9.493e-01  8.931e-01]) = -0.02722590254753871\n",
      "assembly_constraint_no_mean([ 0.000e+00  6.258e-03 ...  9.493e-01  8.931e-01]) = [ 2.226e-02  4.868e-02 ...  5.634e-02  1.289e-02]\n"
     ]
    },
    {
     "data": {
      "application/vnd.jupyter.widget-view+json": {
       "model_id": "5c54d1f72385460f869911cd5d8c87cf",
       "version_major": 2,
       "version_minor": 0
      },
      "text/plain": [
       "  0%|          | 0/10000 [00:00<?, ?it/s]"
      ]
     },
     "metadata": {},
     "output_type": "display_data"
    },
    {
     "name": "stdout",
     "output_type": "stream",
     "text": [
      "gld_params: [0.04363739 0.02405654 0.3559541  0.13887545]\n",
      "wrapper([ 1.172e-20  0.000e+00 ...  9.499e-01  8.996e-01]) = -0.027381159980515966\n",
      "assembly_constraint_no_mean([ 1.172e-20  0.000e+00 ...  9.499e-01  8.996e-01]) = [ 5.011e-02  5.002e-02 ...  5.002e-02  5.005e-02]\n"
     ]
    },
    {
     "data": {
      "application/vnd.jupyter.widget-view+json": {
       "model_id": "0cac569994fd41c3ac90d419422dd167",
       "version_major": 2,
       "version_minor": 0
      },
      "text/plain": [
       "  0%|          | 0/10000 [00:00<?, ?it/s]"
      ]
     },
     "metadata": {},
     "output_type": "display_data"
    },
    {
     "name": "stdout",
     "output_type": "stream",
     "text": [
      "gld_params: [0.04364612 0.02405808 0.35597506 0.13907609]\n",
      "wrapper([ 0.000e+00  4.047e-03 ...  9.491e-01  8.974e-01]) = -0.027318964136364865\n",
      "assembly_constraint_no_mean([ 0.000e+00  4.047e-03 ...  9.491e-01  8.974e-01]) = [ 4.938e-02  4.523e-02 ...  5.844e-02  3.370e-02]\n"
     ]
    },
    {
     "data": {
      "application/vnd.jupyter.widget-view+json": {
       "model_id": "d5f964955fb044dbb6c4b5e29c3e8d05",
       "version_major": 2,
       "version_minor": 0
      },
      "text/plain": [
       "  0%|          | 0/10000 [00:00<?, ?it/s]"
      ]
     },
     "metadata": {},
     "output_type": "display_data"
    },
    {
     "name": "stdout",
     "output_type": "stream",
     "text": [
      "gld_params: [0.04363749 0.02405656 0.3559409  0.13888711]\n",
      "wrapper([ 2.178e-19  0.000e+00 ...  9.495e-01  9.001e-01]) = -0.027381155592414913\n",
      "assembly_constraint_no_mean([ 2.178e-19  0.000e+00 ...  9.495e-01  9.001e-01]) = [ 5.008e-02  5.000e-02 ...  5.009e-02  5.007e-02]\n"
     ]
    },
    {
     "data": {
      "application/vnd.jupyter.widget-view+json": {
       "model_id": "651f3c8778484c1da7a8db37721dca67",
       "version_major": 2,
       "version_minor": 0
      },
      "text/plain": [
       "  0%|          | 0/10000 [00:00<?, ?it/s]"
      ]
     },
     "metadata": {},
     "output_type": "display_data"
    },
    {
     "name": "stdout",
     "output_type": "stream",
     "text": [
      "gld_params: [0.04365896 0.02405389 0.35594405 0.13901298]\n",
      "wrapper([ 0.000e+00  1.823e-03 ...  9.511e-01  8.998e-01]) = -0.027279980967551312\n",
      "assembly_constraint_no_mean([ 0.000e+00  1.823e-03 ...  9.511e-01  8.998e-01]) = [ 6.286e-02  3.555e-02 ...  3.018e-02  5.713e-02]\n"
     ]
    },
    {
     "data": {
      "application/vnd.jupyter.widget-view+json": {
       "model_id": "23a61bfce5a349c5976ca9d0d5f67b62",
       "version_major": 2,
       "version_minor": 0
      },
      "text/plain": [
       "  0%|          | 0/10000 [00:00<?, ?it/s]"
      ]
     },
     "metadata": {},
     "output_type": "display_data"
    },
    {
     "name": "stdout",
     "output_type": "stream",
     "text": [
      "gld_params: [0.04363703 0.02405725 0.35595651 0.13889558]\n",
      "wrapper([ 4.049e-19  4.337e-19 ...  9.493e-01  9.003e-01]) = -0.02738121326500219\n",
      "assembly_constraint_no_mean([ 4.049e-19  4.337e-19 ...  9.493e-01  9.003e-01]) = [ 5.011e-02  5.001e-02 ...  5.007e-02  5.009e-02]\n"
     ]
    },
    {
     "data": {
      "application/vnd.jupyter.widget-view+json": {
       "model_id": "b60e0d80f8c84636955d8099cc9aea3a",
       "version_major": 2,
       "version_minor": 0
      },
      "text/plain": [
       "  0%|          | 0/10000 [00:00<?, ?it/s]"
      ]
     },
     "metadata": {},
     "output_type": "display_data"
    },
    {
     "name": "stdout",
     "output_type": "stream",
     "text": [
      "gld_params: [0.04362769 0.02406241 0.35591435 0.13896153]\n",
      "wrapper([ 0.000e+00  3.442e-03 ...  9.496e-01  8.970e-01]) = -0.027429101026661788\n",
      "assembly_constraint_no_mean([ 0.000e+00  3.442e-03 ...  9.496e-01  8.970e-01]) = [ 6.496e-02  6.742e-02 ...  6.149e-02  3.452e-02]\n"
     ]
    },
    {
     "data": {
      "application/vnd.jupyter.widget-view+json": {
       "model_id": "4ac1b23077b441c28f8fb5e8f6265ef9",
       "version_major": 2,
       "version_minor": 0
      },
      "text/plain": [
       "  0%|          | 0/10000 [00:00<?, ?it/s]"
      ]
     },
     "metadata": {},
     "output_type": "display_data"
    },
    {
     "name": "stdout",
     "output_type": "stream",
     "text": [
      "gld_params: [0.04363742 0.02405699 0.3559473  0.13889289]\n",
      "wrapper([ 1.507e-18  0.000e+00 ...  9.493e-01  9.003e-01]) = -0.027381149003493466\n",
      "assembly_constraint_no_mean([ 1.507e-18  0.000e+00 ...  9.493e-01  9.003e-01]) = [ 5.011e-02  5.000e-02 ...  5.008e-02  5.008e-02]\n",
      "\n",
      "The lower bound for the trust-region radius has been reached.\n",
      "Number of function evaluations: 436.\n",
      "Number of iterations: 212.\n",
      "Least value of wrapper: -0.027393227562574195.\n",
      "Maximum constraint violation: 0.008185556931123841.\n",
      "Corresponding point: [ 1.735e-18  7.609e-03 ...  9.532e-01  8.964e-01].\n",
      "Maximization Result with COBYQA:\n",
      " message: The lower bound for the trust-region radius has been reached\n",
      " success: True\n",
      "  status: 0\n",
      "     fun: -0.027393227562574195\n",
      "       x: [ 1.735e-18  7.609e-03 ...  9.532e-01  8.964e-01]\n",
      "     nit: 212\n",
      "   maxcv: 0.008185556931123841\n",
      "    nfev: 436\n"
     ]
    }
   ],
   "source": [
    "# Initial guess\n",
    "x0_maxi = [0.25] * RandDeviationVect.getDimension()  # Initial guess\n",
    "\n",
    "# Perform the local optimization using COBYQA directly\n",
    "res_maxi = minimize(\n",
    "    optimization_function_maxi, \n",
    "    x0_maxi, \n",
    "    method=\"COBYQA\", \n",
    "    jac=False, \n",
    "    bounds=Bounds(0.0, 1.0, keep_feasible=True),\n",
    "    constraints = nonLinearConstraint,\n",
    "    options={\n",
    "        \"f_target\": -0.2, \n",
    "        \"maxiter\": 1000,\n",
    "        \"maxfev\": 4000,\n",
    "        \"feasibility_tol\": 1e-2,\n",
    "        \"initial_tr_radius\": np.sqrt(32),\n",
    "        \"final_tr_radius\": 0.01,\n",
    "        \"disp\": True\n",
    "    }\n",
    ")\n",
    "\n",
    "print(\"Maximization Result with COBYQA:\")\n",
    "print(res_maxi)"
   ]
  },
  {
   "cell_type": "code",
   "execution_count": null,
   "id": "34bb5870-0875-4677-9efe-c2bee9e9f7e1",
   "metadata": {
    "scrolled": true
   },
   "outputs": [],
   "source": [
    "# Basinhopping for the maximization function using COBYQA\n",
    "x0_maxi = [0.25] * RandDeviationVect.getDimension()  # Initial guess\n",
    "\n",
    "# Update minimizer_kwargs_maxi to use COBYQA\n",
    "minimizer_kwargs_maxi = {\n",
    "    \"method\": \"COBYQA\",   # Use COBYQA method\n",
    "    \"jac\": False,         # COBYQA doesn't use Jacobians\n",
    "    \"args\": (model_base,),     # Update args to match COBYQA requirements\n",
    "    \"constraints\": nonLinearConstraint,\n",
    "    \"bounds\": Bounds(lb=0.0,ub=1.0),\n",
    "    \"options\": {\n",
    "        \"f_target\": -0.2, \n",
    "        \"maxiter\": 1000,\n",
    "        \"maxfev\": 4000,\n",
    "        \"feasibility_tol\": 1e-2,\n",
    "        \"initial_tr_radius\": np.sqrt(32)*0.5,\n",
    "        \"final_tr_radius\": 0.33,\n",
    "        \"disp\": True\n",
    "    }\n",
    "}\n",
    "\n",
    "# Running basinhopping with COBYQA as the local optimizer\n",
    "res_maxi = basinhopping(\n",
    "    optimization_function_maxi, x0_maxi,\n",
    "    niter=5,\n",
    "    T=1,\n",
    "    stepsize=3.0,\n",
    "    niter_success=19,\n",
    "    interval=5,\n",
    "    minimizer_kwargs=minimizer_kwargs_maxi,\n",
    "    disp=True,\n",
    "    #take_step=step_taking,\n",
    "    #accept_test=accept_test,\n",
    "    #callback=callback\n",
    ")\n",
    "\n",
    "print(\"Maximization Result with COBYQA:\")\n",
    "print(res_maxi)"
   ]
  },
  {
   "cell_type": "code",
   "execution_count": null,
   "id": "57e3c1a4-7d8f-441d-a59d-6be0897b7cf8",
   "metadata": {},
   "outputs": [],
   "source": [
    "res_maxi.x"
   ]
  },
  {
   "cell_type": "code",
   "execution_count": null,
   "id": "150b8b05-65b6-426c-b60d-bf23b5b19b53",
   "metadata": {},
   "outputs": [],
   "source": [
    "optimization_function_maxi(np.array([0,0,1,0]*8))"
   ]
  },
  {
   "cell_type": "code",
   "execution_count": null,
   "id": "1687ab1e-cb51-4d88-8aac-39655110c711",
   "metadata": {},
   "outputs": [],
   "source": []
  },
  {
   "cell_type": "code",
   "execution_count": null,
   "id": "e6fea5b5-191c-4ee7-be87-e7cc47a123f3",
   "metadata": {},
   "outputs": [],
   "source": [
    "N = ot.Normal()\n",
    "func = ot.SymbolicFunction([\"x\"], [\"abs(x)\"])"
   ]
  },
  {
   "cell_type": "code",
   "execution_count": null,
   "id": "31cd7a4a-8080-492e-bcd3-f818072e212e",
   "metadata": {},
   "outputs": [],
   "source": []
  }
 ],
 "metadata": {
  "kernelspec": {
   "display_name": "Python 3 (ipykernel)",
   "language": "python",
   "name": "python3"
  },
  "language_info": {
   "codemirror_mode": {
    "name": "ipython",
    "version": 3
   },
   "file_extension": ".py",
   "mimetype": "text/x-python",
   "name": "python",
   "nbconvert_exporter": "python",
   "pygments_lexer": "ipython3",
   "version": "3.12.8"
  }
 },
 "nbformat": 4,
 "nbformat_minor": 5
}
