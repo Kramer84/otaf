{
 "cells": [
  {
   "cell_type": "code",
   "execution_count": 1,
   "id": "872744ae-a8b8-4796-9eff-ecbae30ae4c4",
   "metadata": {},
   "outputs": [],
   "source": [
    "import os\n",
    "import pickle\n",
    "import re\n",
    "import pprint\n",
    "import numpy as np\n",
    "import sympy as sp\n",
    "import openturns as ot\n",
    "# Display the final graph\n",
    "import openturns.viewer as viewer\n",
    "import matplotlib.pyplot as plt\n",
    "import trimesh as tr\n",
    "from importlib import reload\n",
    "from functools import partial\n",
    "\n",
    "from math import pi\n",
    "from joblib import Parallel, delayed\n",
    "from importlib import reload\n",
    "from IPython.display import display, clear_output\n",
    "from time import time\n",
    "from sympy.printing import latex\n",
    "from trimesh import viewer as trview\n",
    "import sklearn\n",
    "\n",
    "from scipy.optimize import OptimizeResult, minimize, basinhopping, \\\n",
    "                           differential_evolution, brute, shgo, check_grad, \\\n",
    "                           approx_fprime, fsolve, NonlinearConstraint, Bounds, approx_fprime\n",
    "\n",
    "import tqdm\n",
    "import otaf\n",
    "\n",
    "from gldpy import GLD\n",
    "\n",
    "ot.Log.Show(ot.Log.NONE)\n",
    "np.set_printoptions(suppress=True)\n",
    "ar = np.array"
   ]
  },
  {
   "cell_type": "markdown",
   "id": "4817c72a-0818-4d16-a347-bc57ef3cf4d7",
   "metadata": {},
   "source": [
    "# Notebook for the analysis of a system comprised of N + 2 parts, 2 plates with N = N1 x N2 holes, and N pins. "
   ]
  },
  {
   "cell_type": "markdown",
   "id": "dd3f3fc3-09ea-4e9a-bca2-0a532e8398eb",
   "metadata": {},
   "source": [
    "### Defintion on global descriptive parameters"
   ]
  },
  {
   "cell_type": "code",
   "execution_count": 2,
   "id": "91253f14-bf22-495a-b2da-aa89d49d970d",
   "metadata": {},
   "outputs": [],
   "source": [
    "NX = 2 ## Number of holes on x axis\n",
    "NY = 2 ## Number of holes on y axis\n",
    "Dext = 20 ## Diameter of holes in mm\n",
    "Dint = 19.8 ## Diameter of pins in mm\n",
    "EH = 50 ## Distance between the hole axises\n",
    "LB = 25 # Distance between border holes axis and edge.\n",
    "hPlate = 30 #Height of the plates in mm\n",
    "hPin = 60 #Height of the pins in mm\n",
    "\n",
    "CIRCLE_RESOLUTION = 16 # NUmber of points to model the contour of the outer holes"
   ]
  },
  {
   "cell_type": "markdown",
   "id": "57fa6a57-ff00-4438-9487-0304ddcf7cd9",
   "metadata": {},
   "source": [
    "### Defining and constructing the system data dictionary\n",
    "\n",
    "The plates have NX * NY + 1 surfaces. The lower left point has coordinate 0,0,0\n",
    "\n",
    "We only model the surfaces that are touching. "
   ]
  },
  {
   "cell_type": "code",
   "execution_count": 3,
   "id": "9be0ccd7-a39e-4eef-83c8-ff9d759040bd",
   "metadata": {},
   "outputs": [],
   "source": [
    "N_PARTS = NX * NY * 2\n",
    "LX = (NX - 1) * EH + 2*LB\n",
    "LY = (NY - 1) * EH + 2*LB\n",
    "\n",
    "contour_points = ar([[0,0,0],[LX,0,0],[LX,LY,0],[0,LY,0]])\n",
    "\n",
    "R0 = ar([[1, 0, 0], [0, 1, 0], [0, 0, 1]])\n",
    "x_, y_, z_ = R0[0], R0[1], R0[2]\n",
    "\n",
    "Frame1 = ar([z_,y_,-x_])\n",
    "Frame2 = ar([-z_,y_,x_])"
   ]
  },
  {
   "cell_type": "markdown",
   "id": "42692f0e-e845-4efa-9470-805dc0d65b3b",
   "metadata": {},
   "source": [
    "First we define the base part dictionaries for the upper and lower plate, without holes"
   ]
  },
  {
   "cell_type": "code",
   "execution_count": 4,
   "id": "35a1bb46-a7f6-4d9d-82f0-07ceccb9ed9d",
   "metadata": {},
   "outputs": [],
   "source": [
    "system_data = {\n",
    "    \"PARTS\" : {\n",
    "        '0' : {\n",
    "            \"a\" : {\n",
    "                \"FRAME\": Frame1,\n",
    "                \"POINTS\": {'A0' : ar([0,0,0]),\n",
    "                           'A1' : ar([LX,0,0]),\n",
    "                           'A2' : ar([LX,LY,0]),\n",
    "                           'A3' : ar([0,LY,0]),\n",
    "                        },\n",
    "                \"TYPE\": \"plane\",\n",
    "                \"INTERACTIONS\": ['P1a'],\n",
    "                \"CONSTRAINTS_D\": [\"PERFECT\"],\n",
    "                \"CONSTRAINTS_G\": [\"SLIDING\"],            \n",
    "            }\n",
    "        },\n",
    "        '1' : {\n",
    "            \"a\" : {\n",
    "                \"FRAME\": Frame2,\n",
    "                \"POINTS\": {'A0' : ar([0,0,0]),\n",
    "                           'A1' : ar([LX,0,0]),\n",
    "                           'A2' : ar([LX,LY,0]),\n",
    "                           'A3' : ar([0,LY,0]),\n",
    "                        },\n",
    "                \"TYPE\": \"plane\",\n",
    "                \"INTERACTIONS\": ['P0a'],\n",
    "                \"CONSTRAINTS_D\": [\"PERFECT\"],\n",
    "                \"CONSTRAINTS_G\": [\"SLIDING\"],            \n",
    "            }\n",
    "        }  \n",
    "    },\n",
    "    \"LOOPS\": {\n",
    "        \"COMPATIBILITY\": {\n",
    "        },\n",
    "    },\n",
    "    \"GLOBAL_CONSTRAINTS\": \"3D\",\n",
    "}"
   ]
  },
  {
   "cell_type": "markdown",
   "id": "e1e81a47-6214-4774-ab58-8d16bd43ac9b",
   "metadata": {},
   "source": [
    "Then we iterate over the pin dimensions NX and NY, and create the corresponding holes and pins. At the same time there is 1 loop per pin"
   ]
  },
  {
   "cell_type": "code",
   "execution_count": 5,
   "id": "29491ebe-37b5-4879-a740-64db3434d62e",
   "metadata": {},
   "outputs": [],
   "source": [
    "alpha_gen = otaf.common.alphabet_generator()\n",
    "next(alpha_gen) # skipping 'a' as it has already been used above\n",
    "part_id = 2 # Start part index for pins\n",
    "for i in range(NX):\n",
    "    for j in range(NY):\n",
    "        pcor = ar([LB+i*EH, LB+j*EH, 0]) # Point coordinate for hole / pins\n",
    "        slab = next(alpha_gen) # Surface label, same for each mating pin so its easeir to track\n",
    "        # Creating pin\n",
    "        system_data[\"PARTS\"][str(part_id)] = {}\n",
    "        system_data[\"PARTS\"][str(part_id)][slab] = {\n",
    "            \"FRAME\": Frame1, # Frame doesn't really matter, as long as x is aligned on the axis\n",
    "            \"ORIGIN\": pcor, \n",
    "            \"TYPE\": \"cylinder\",\n",
    "            \"RADIUS\": Dint / 2,\n",
    "            \"EXTENT_LOCAL\": {\"x_max\": hPin/2, \"x_min\": -hPin/2},\n",
    "            \"INTERACTIONS\": [f\"P0{slab}\", f\"P1{slab}\"], \n",
    "            \"SURFACE_DIRECTION\": \"centrifugal\",\n",
    "            \"CONSTRAINTS_D\": [\"PERFECT\"], # No defects on the pins\n",
    "            \"BLOCK_ROTATIONS_G\": 'x', # The pins do not rotate around their axis\n",
    "            \"BLOCK_TRANSLATIONS_G\": 'x', # The pins do not slide along their axis\n",
    "        }\n",
    "        # Adding hole to part 0\n",
    "        system_data[\"PARTS\"][\"0\"][slab] = {\n",
    "            \"FRAME\": Frame1,\n",
    "            \"ORIGIN\": pcor, \n",
    "            \"TYPE\": \"cylinder\",\n",
    "            \"RADIUS\": Dext / 2,\n",
    "            \"EXTENT_LOCAL\": {\"x_max\": hPin/2, \"x_min\": -hPin/2},\n",
    "            \"INTERACTIONS\": [f\"P{part_id}{slab}\"], \n",
    "            \"SURFACE_DIRECTION\": \"centripetal\",\n",
    "        }\n",
    "        # Adding hole to part 1\n",
    "        system_data[\"PARTS\"][\"1\"][slab] = {\n",
    "            \"FRAME\": Frame2,\n",
    "            \"ORIGIN\": pcor, \n",
    "            \"TYPE\": \"cylinder\",\n",
    "            \"RADIUS\": Dext / 2,\n",
    "            \"EXTENT_LOCAL\": {\"x_max\": hPin/2, \"x_min\": -hPin/2},\n",
    "            \"INTERACTIONS\": [f\"P{part_id}{slab}\"],\n",
    "            \"SURFACE_DIRECTION\": \"centripetal\",\n",
    "        }\n",
    "        # Construct Compatibility loop\n",
    "        loop_id = f\"L{part_id-1}\"\n",
    "        formater = lambda i,l : f\"P{i}{l}{l.upper()}0\" \n",
    "        system_data[\"LOOPS\"][\"COMPATIBILITY\"][loop_id] = f\"P0aA0 -> {formater(0,slab)} -> {formater(part_id,slab)} -> {formater(1,slab)} -> P1aA0\"\n",
    "        part_id += 1  "
   ]
  },
  {
   "cell_type": "code",
   "execution_count": 6,
   "id": "293f981a-efe3-4b44-b9f3-b7a580cf3829",
   "metadata": {},
   "outputs": [],
   "source": [
    "SDA = otaf.AssemblyDataProcessor(system_data)\n",
    "SDA.generate_expanded_loops()"
   ]
  },
  {
   "cell_type": "code",
   "execution_count": 7,
   "id": "e3e26ae8-3e27-496d-ac65-9f4385d89105",
   "metadata": {},
   "outputs": [],
   "source": [
    "CLH = otaf.CompatibilityLoopHandling(SDA)\n",
    "compatibility_expressions = CLH.get_compatibility_expression_from_FO_matrices()"
   ]
  },
  {
   "cell_type": "code",
   "execution_count": 8,
   "id": "87736588-7cec-4360-b748-2dfc7666461e",
   "metadata": {
    "scrolled": true
   },
   "outputs": [
    {
     "name": "stdout",
     "output_type": "stream",
     "text": [
      "Processing part 0, surface b for cylinder-to-cylinder interactions.\n",
      "usedGMatDat [['0', 'b', 'B0', '2', 'b', 'B0']]\n",
      "Found 1 used gap matrices.\n",
      "unusedGMatDat [['0', 'b', 'B2', '2', 'b', 'B2'], ['0', 'b', 'B1', '2', 'b', 'B1']]\n",
      "Found 2 unused gap matrices.\n",
      "Matching used and unused gap matrices: GP0bB0P2bB0 with GP0bB2P2bB2\n",
      "Matching used and unused gap matrices: GP0bB0P2bB0 with GP0bB1P2bB1\n",
      "Generated 32 interaction equations for current matching.\n",
      "Total interaction equations generated: 32\n",
      "Processing part 0, surface c for cylinder-to-cylinder interactions.\n",
      "usedGMatDat [['0', 'c', 'C0', '3', 'c', 'C0']]\n",
      "Found 1 used gap matrices.\n",
      "unusedGMatDat [['0', 'c', 'C1', '3', 'c', 'C1'], ['0', 'c', 'C2', '3', 'c', 'C2']]\n",
      "Found 2 unused gap matrices.\n",
      "Matching used and unused gap matrices: GP0cC0P3cC0 with GP0cC1P3cC1\n",
      "Matching used and unused gap matrices: GP0cC0P3cC0 with GP0cC2P3cC2\n",
      "Generated 32 interaction equations for current matching.\n",
      "Total interaction equations generated: 32\n",
      "Processing part 0, surface d for cylinder-to-cylinder interactions.\n",
      "usedGMatDat [['0', 'd', 'D0', '4', 'd', 'D0']]\n",
      "Found 1 used gap matrices.\n",
      "unusedGMatDat [['0', 'd', 'D2', '4', 'd', 'D2'], ['0', 'd', 'D1', '4', 'd', 'D1']]\n",
      "Found 2 unused gap matrices.\n",
      "Matching used and unused gap matrices: GP0dD0P4dD0 with GP0dD2P4dD2\n",
      "Matching used and unused gap matrices: GP0dD0P4dD0 with GP0dD1P4dD1\n",
      "Generated 32 interaction equations for current matching.\n",
      "Total interaction equations generated: 32\n",
      "Processing part 0, surface e for cylinder-to-cylinder interactions.\n",
      "usedGMatDat [['0', 'e', 'E0', '5', 'e', 'E0']]\n",
      "Found 1 used gap matrices.\n",
      "unusedGMatDat [['0', 'e', 'E2', '5', 'e', 'E2'], ['0', 'e', 'E1', '5', 'e', 'E1']]\n",
      "Found 2 unused gap matrices.\n",
      "Matching used and unused gap matrices: GP0eE0P5eE0 with GP0eE2P5eE2\n",
      "Matching used and unused gap matrices: GP0eE0P5eE0 with GP0eE1P5eE1\n",
      "Generated 32 interaction equations for current matching.\n",
      "Total interaction equations generated: 32\n",
      "Processing part 1, surface a for plane-to-plane interactions.\n",
      "usedGMatDat [['1', 'a', 'A0', '0', 'a', 'A0']]\n",
      "Found 1 used gap matrices.\n",
      "unusedGMatDat [['1', 'a', 'A2', '0', 'a', 'A2'], ['1', 'a', 'A1', '0', 'a', 'A1'], ['1', 'a', 'A3', '0', 'a', 'A3']]\n",
      "Found 3 unused gap matrices.\n",
      "Generated 3 interaction matrix loops for current matching.\n",
      "Processing part 2, surface b for cylinder-to-cylinder interactions.\n",
      "usedGMatDat [['2', 'b', 'B0', '1', 'b', 'B0']]\n",
      "Found 1 used gap matrices.\n",
      "unusedGMatDat [['2', 'b', 'B2', '1', 'b', 'B1'], ['2', 'b', 'B1', '0', 'b', 'B1'], ['2', 'b', 'B0', '0', 'b', 'B0'], ['2', 'b', 'B1', '1', 'b', 'B2'], ['2', 'b', 'B2', '0', 'b', 'B2']]\n",
      "Found 5 unused gap matrices.\n",
      "Matching used and unused gap matrices: GP2bB0P1bB0 with GP2bB2P1bB1\n",
      "Matching used and unused gap matrices: GP2bB0P1bB0 with GP2bB1P1bB2\n",
      "Generated 32 interaction equations for current matching.\n",
      "Total interaction equations generated: 32\n",
      "Processing part 3, surface c for cylinder-to-cylinder interactions.\n",
      "usedGMatDat [['3', 'c', 'C0', '1', 'c', 'C0']]\n",
      "Found 1 used gap matrices.\n",
      "unusedGMatDat [['3', 'c', 'C2', '1', 'c', 'C1'], ['3', 'c', 'C1', '0', 'c', 'C1'], ['3', 'c', 'C2', '0', 'c', 'C2'], ['3', 'c', 'C1', '1', 'c', 'C2'], ['3', 'c', 'C0', '0', 'c', 'C0']]\n",
      "Found 5 unused gap matrices.\n",
      "Matching used and unused gap matrices: GP3cC0P1cC0 with GP3cC2P1cC1\n",
      "Matching used and unused gap matrices: GP3cC0P1cC0 with GP3cC1P1cC2\n",
      "Generated 32 interaction equations for current matching.\n",
      "Total interaction equations generated: 32\n",
      "Processing part 4, surface d for cylinder-to-cylinder interactions.\n",
      "usedGMatDat [['4', 'd', 'D0', '1', 'd', 'D0']]\n",
      "Found 1 used gap matrices.\n",
      "unusedGMatDat [['4', 'd', 'D1', '0', 'd', 'D1'], ['4', 'd', 'D2', '1', 'd', 'D1'], ['4', 'd', 'D0', '0', 'd', 'D0'], ['4', 'd', 'D1', '1', 'd', 'D2'], ['4', 'd', 'D2', '0', 'd', 'D2']]\n",
      "Found 5 unused gap matrices.\n",
      "Matching used and unused gap matrices: GP4dD0P1dD0 with GP4dD2P1dD1\n",
      "Matching used and unused gap matrices: GP4dD0P1dD0 with GP4dD1P1dD2\n",
      "Generated 32 interaction equations for current matching.\n",
      "Total interaction equations generated: 32\n",
      "Processing part 5, surface e for cylinder-to-cylinder interactions.\n",
      "usedGMatDat [['5', 'e', 'E0', '1', 'e', 'E0']]\n",
      "Found 1 used gap matrices.\n",
      "unusedGMatDat [['5', 'e', 'E0', '0', 'e', 'E0'], ['5', 'e', 'E1', '0', 'e', 'E1'], ['5', 'e', 'E2', '1', 'e', 'E1'], ['5', 'e', 'E1', '1', 'e', 'E2'], ['5', 'e', 'E2', '0', 'e', 'E2']]\n",
      "Found 5 unused gap matrices.\n",
      "Matching used and unused gap matrices: GP5eE0P1eE0 with GP5eE2P1eE1\n",
      "Matching used and unused gap matrices: GP5eE0P1eE0 with GP5eE1P1eE2\n",
      "Generated 32 interaction equations for current matching.\n",
      "Total interaction equations generated: 32\n"
     ]
    }
   ],
   "source": [
    "ILH = otaf.InterfaceLoopHandling(SDA, CLH, circle_resolution=CIRCLE_RESOLUTION)\n",
    "interface_constraints = ILH.get_interface_loop_expressions()"
   ]
  },
  {
   "cell_type": "code",
   "execution_count": 9,
   "id": "31d2f4ba-f4bd-425a-ba0c-50cabc500272",
   "metadata": {},
   "outputs": [
    {
     "name": "stdout",
     "output_type": "stream",
     "text": [
      "32 [v_d_0, w_d_0, beta_d_0, gamma_d_0, v_d_2, w_d_2, beta_d_2, gamma_d_2, v_d_5, w_d_5, beta_d_5, gamma_d_5, v_d_7, w_d_7, beta_d_7, gamma_d_7, v_d_8, w_d_8, beta_d_8, gamma_d_8, v_d_10, w_d_10, beta_d_10, gamma_d_10, v_d_11, w_d_11, beta_d_11, gamma_d_11, v_d_13, w_d_13, beta_d_13, gamma_d_13]\n"
     ]
    }
   ],
   "source": [
    "SOCAM = otaf.SystemOfConstraintsAssemblyModel(\n",
    "    compatibility_expressions, interface_constraints\n",
    ")\n",
    "\n",
    "SOCAM.embedOptimizationVariable()\n",
    "\n",
    "print(len(SOCAM.deviation_symbols), SOCAM.deviation_symbols)"
   ]
  },
  {
   "cell_type": "markdown",
   "id": "e1be834b-fc7d-4fc3-85eb-2d8768c446ed",
   "metadata": {},
   "source": [
    "## Construction of the stochastic model of the defects.\n",
    "\n",
    "These are the max variances. "
   ]
  },
  {
   "cell_type": "code",
   "execution_count": 10,
   "id": "31049a41-8b2a-49c0-8142-2819f94c51ee",
   "metadata": {},
   "outputs": [],
   "source": [
    "tol = 0.1 * np.sqrt(2)\n",
    "Cm = 1  # Process capability\n",
    "\n",
    "# Defining the uncertainties on the position and orientation uncertainties.\n",
    "sigma_e_pos = tol / (6 * Cm)\n",
    "theta_max = tol / hPlate\n",
    "sigma_e_theta = (2 * theta_max) / (6 * Cm)"
   ]
  },
  {
   "cell_type": "code",
   "execution_count": 11,
   "id": "449f3658-2055-4cd6-a9bb-0ef7d520204f",
   "metadata": {},
   "outputs": [],
   "source": [
    "RandDeviationVect = otaf.distribution.get_composed_normal_defect_distribution(\n",
    "    defect_names=SOCAM.deviation_symbols,\n",
    "    sigma_dict = {\"alpha\":sigma_e_theta, \n",
    "                  \"beta\":sigma_e_theta,\n",
    "                  \"gamma\":sigma_e_theta, \n",
    "                  \"u\":sigma_e_pos, \n",
    "                  \"v\":sigma_e_pos, \n",
    "                  \"w\":sigma_e_pos})\n",
    "dim_devs = int(RandDeviationVect.getDimension())"
   ]
  },
  {
   "cell_type": "code",
   "execution_count": 12,
   "id": "640d99d7-56c6-4b9f-a4de-d28268b35398",
   "metadata": {},
   "outputs": [
    {
     "ename": "NameError",
     "evalue": "name 'STOP' is not defined",
     "output_type": "error",
     "traceback": [
      "\u001b[0;31m---------------------------------------------------------------------------\u001b[0m",
      "\u001b[0;31mNameError\u001b[0m                                 Traceback (most recent call last)",
      "Cell \u001b[0;32mIn[12], line 1\u001b[0m\n\u001b[0;32m----> 1\u001b[0m \u001b[43mSTOP\u001b[49m\n",
      "\u001b[0;31mNameError\u001b[0m: name 'STOP' is not defined"
     ]
    }
   ],
   "source": [
    "STOP"
   ]
  },
  {
   "cell_type": "markdown",
   "id": "e58a0a59-111e-461e-b796-afacf7adce72",
   "metadata": {},
   "source": [
    "## Estimating the bounds on the probability of failure of the model.\n",
    "\n",
    "- First by exploring the whle parameter space, by generating a LHS in the (normalized) parameter space and doing a double loop montecarlo\n",
    "- By using the parameter constraint function to guide an optimization algorithm to find the bounds on the probability of failure"
   ]
  },
  {
   "cell_type": "markdown",
   "id": "f55b207f-7a0c-4bdd-96d3-12d235ee3202",
   "metadata": {},
   "source": [
    "## Now lets first to a double loop monte-carlo to explore the full space of the parameters (using the intermediate lambda space) and the stochastic space, to be able to draw the full P-Box of the slack"
   ]
  },
  {
   "cell_type": "markdown",
   "id": "60040ec1-5d78-428e-ba44-6b6adb01de5f",
   "metadata": {},
   "source": [
    "### Explicit constraint function on the 4 degrees of freedom of the cylindrical tolerance zone :\n",
    "\n",
    "$$λu2​+λv2​+λα2​+λβ2​+2(λu​λα​+λv​λβ​)−1=0$$\n",
    "\n",
    "This the constraint on the multipliers of the max standard deviation for each component of the DOFs. The defects are normal, centered and independent"
   ]
  },
  {
   "cell_type": "code",
   "execution_count": null,
   "id": "7cc29a0a-6b65-47e8-9c0d-6ce3ca604abb",
   "metadata": {},
   "outputs": [],
   "source": [
    "lambda_limit_sample = otaf.sampling.generate_imprecise_probabilistic_samples([4]*8, -1, discretization=1)\n",
    "lambda_limit_sample_sub_choice = [next(lambda_limit_sample) for _ in range(60000)]\n",
    "lambda_limit_sample_sub_choice = np.stack(lambda_limit_sample_sub_choice)\n",
    "print(lambda_limit_sample_sub_choice.shape)"
   ]
  },
  {
   "cell_type": "code",
   "execution_count": null,
   "id": "cc7a0477-968f-4b75-8450-316b000245cf",
   "metadata": {},
   "outputs": [],
   "source": [
    "def solve_for_lambda_beta(lambda_u, lambda_v, lambda_alpha):\n",
    "    \"\"\"\n",
    "    Solve the equation for lambda_beta given lambda_u, lambda_v, and lambda_alpha.\n",
    "    \"\"\"\n",
    "    def equation(lambda_beta):\n",
    "        return (lambda_u**2 + lambda_v**2 + lambda_alpha**2 + lambda_beta**2 +\n",
    "                2 * (lambda_u * lambda_alpha + lambda_v * lambda_beta) - 1)\n",
    "    \n",
    "    # Use a root-finding method to solve for lambda_beta\n",
    "    lambda_beta_initial_guess = 0.5\n",
    "    lambda_beta_solution = fsolve(equation, lambda_beta_initial_guess)[0]\n",
    "    \n",
    "    return lambda_beta_solution\n",
    "\n",
    "def generate_points_on_surface(num_points=1000):\n",
    "    \"\"\"\n",
    "    Generate points on the surface by solving for lambda_beta\n",
    "    given random values for lambda_u, lambda_v, and lambda_alpha.\n",
    "    \n",
    "    Returns:\n",
    "    - A numpy array of shape (num_valid_points, 4) where each row is \n",
    "      (lambda_u, lambda_v, lambda_alpha, lambda_beta).\n",
    "    \"\"\"\n",
    "    # Generate random values for lambda_u, lambda_v, lambda_alpha in [0, 1]\n",
    "    lambda_u = np.random.rand(num_points)\n",
    "    lambda_v = np.random.rand(num_points)\n",
    "    lambda_alpha = np.random.rand(num_points)\n",
    "    \n",
    "    # Assume lambda_beta = 0 and check if the inequality is satisfied\n",
    "    inequality_values = lambda_u**2 + lambda_v**2 + lambda_alpha**2 + 2 * (lambda_u * lambda_alpha)\n",
    "\n",
    "    # Filter valid points where inequality holds\n",
    "    valid_mask = inequality_values <= 1\n",
    "    lambda_u_valid = lambda_u[valid_mask]\n",
    "    lambda_v_valid = lambda_v[valid_mask]\n",
    "    lambda_alpha_valid = lambda_alpha[valid_mask]\n",
    "    \n",
    "    # Solve for lambda_beta for valid points\n",
    "    lambda_beta_valid = np.array([solve_for_lambda_beta(u, v, a) \n",
    "                                  for u, v, a in zip(lambda_u_valid, lambda_v_valid, lambda_alpha_valid)])\n",
    "\n",
    "    # Only keep points where the solved lambda_beta is between 0 and 1\n",
    "    final_mask = (lambda_beta_valid >= 0) & (lambda_beta_valid <= 1)\n",
    "    final_points = np.vstack((lambda_u_valid[final_mask],\n",
    "                              lambda_v_valid[final_mask],\n",
    "                              lambda_alpha_valid[final_mask],\n",
    "                              lambda_beta_valid[final_mask])).T\n",
    "    \n",
    "    return final_points\n",
    "\n",
    "# Generate the points on the surface\n",
    "points = generate_points_on_surface(num_points=20000)\n",
    "\n",
    "# Call the pair_plot function (assuming it's already defined)\n",
    "labels = ['lambda_u', 'lambda_v', 'lambda_alpha', 'lambda_beta']\n",
    "#otaf.plotting.pair_plot(points, labels)"
   ]
  },
  {
   "cell_type": "code",
   "execution_count": null,
   "id": "dbec9b31-167f-41ab-a3d2-38000577a48e",
   "metadata": {},
   "outputs": [],
   "source": [
    "random_lambda_sample = [points[np.random.choice(points.shape[0], 200, replace=False)] for _ in range(8)]\n",
    "random_lambda_sample = np.hstack(random_lambda_sample)"
   ]
  },
  {
   "cell_type": "code",
   "execution_count": null,
   "id": "2d2a858d-1a85-48cd-841e-205c10da8e16",
   "metadata": {
    "scrolled": true
   },
   "outputs": [],
   "source": [
    "N_lambda = random_lambda_sample.shape[0]\n",
    "bounds = None\n",
    "SEED_MC_PF = 6436431\n",
    "SIZE_MC_PF = 10000 #int(1e6) #1e4\n",
    "s_values = np.zeros((N_lambda, SIZE_MC_PF)) # For each MC point we have a s value\n",
    "GLD_parameters = [] # We need the parameters of the generalized lambda distribution.\n",
    "failure_probabilities = []\n",
    "# Generalized lambda distribution object for fitting\n",
    "gld = GLD('VSL')\n",
    "\n",
    "start_time = time()  # Record the start time\n",
    "for i in range(N_lambda):\n",
    "    print(f\"Doing iteration {i} of {N_lambda}\")\n",
    "    if i>0:\n",
    "        fp = failure_probabilities\n",
    "        print(f\"Failure probability i-1 : {fp[i-1]}, Min: {min(fp)}, / Max: {max(fp)}\")\n",
    "        print(\"s_mean: \", s_values.mean().round(3), \"s_min: \", np.nanmin(s_values).round(3), \"s_max: \", np.nanmax(s_values).round(3))\n",
    "\n",
    "    ot.RandomGenerator.SetSeed(SEED_MC_PF)\n",
    "    deviation_samples = np.array(RandDeviationVect.getSample(SIZE_MC_PF)) * random_lambda_sample[i]\n",
    "    optimizations = otaf.uncertainty.compute_gap_optimizations_on_sample(\n",
    "            SOCAM,\n",
    "            deviation_samples,\n",
    "            bounds=bounds,\n",
    "            n_cpu=-1,\n",
    "            progress_bar=True,\n",
    "        )\n",
    "    \n",
    "    slack = np.array([opt.fun for opt in optimizations], dtype=float)*-1 #Normally there aren\"t any nans.\n",
    "    s_values[i,:] = slack\n",
    "    GLD_parameters.append(gld.fit_LMM(slack, disp_fit=False, disp_optimizer=False))\n",
    "    failure_probabilities.append(gld.CDF_num(0, GLD_parameters[i]))\n",
    "\n",
    "\n",
    "print(f\"Done {N_lambda} experiments.\")\n",
    "print(f\"Elapsed time: {time() - start_time:.3f} seconds.\")"
   ]
  },
  {
   "cell_type": "code",
   "execution_count": null,
   "id": "48ba797e-b00f-4523-8476-b97e5b4c132e",
   "metadata": {},
   "outputs": [],
   "source": [
    "X = otaf.sampling.find_best_worst_quantile(np.array(random_lambda_sample), np.array(failure_probabilities), 0.1)\n",
    "(best_5p_lambda, best_5p_res), (worst_5p_lambda, worst_5p_res) = X"
   ]
  },
  {
   "cell_type": "code",
   "execution_count": null,
   "id": "ca6d1b15-9131-4741-a4cb-b4217637c2eb",
   "metadata": {},
   "outputs": [],
   "source": [
    "distributions = [ot.UserDefined(ot.Sample(s[:,np.newaxis])) for s in s_values]\n",
    "x_min, x_max = -0.03, 0.11\n",
    "sup_data, inf_data = otaf.distribution.compute_sup_inf_distributions(distributions, x_min, x_max)"
   ]
  },
  {
   "cell_type": "code",
   "execution_count": null,
   "id": "3527d338-2d2b-43c0-9e76-8e03c57d6240",
   "metadata": {
    "scrolled": true
   },
   "outputs": [],
   "source": [
    "%matplotlib inline"
   ]
  },
  {
   "cell_type": "code",
   "execution_count": null,
   "id": "3a3f384b-26ca-4aa0-8ec1-1471f2884d4f",
   "metadata": {},
   "outputs": [],
   "source": [
    "# Initialize colors and legends for each lambda sample\n",
    "colors = [[\"grey\"]] * N_lambda\n",
    "legends = [\"\"] * N_lambda\n",
    "\n",
    "# Plot the combined CDF with additional curves for the envelopes\n",
    "graph_full = otaf.plotting.plot_combined_CDF(distributions, x_min, x_max, colors, legends)\n",
    "graph_full = otaf.plotting.set_graph_legends(\n",
    "    graph_full,\n",
    "    x_title=\"slack\",\n",
    "    y_title=\"$P_{slack}$\",\n",
    "    title=\"Slack P-BOX 32 dimensions\",\n",
    "    legends=legends\n",
    ")\n",
    "\n",
    "# Add the upper and lower envelopes to the graph\n",
    "graph_full.add(ot.Curve(inf_data, \"blue\", \"solid\", 1.5, \"lower envelope\"))\n",
    "graph_full.add(ot.Curve(sup_data, \"red\", \"solid\", 1.5, \"upper envelope\"))\n",
    "view = viewer.View(graph_full, pixelsize=(1100, 750))"
   ]
  },
  {
   "cell_type": "code",
   "execution_count": null,
   "id": "b9723baf-f91d-4ce9-ad5b-7fcfd88c1bc9",
   "metadata": {},
   "outputs": [],
   "source": [
    "#%matplotlib inline\n",
    "fig = plt.figure(dpi=150)\n",
    "\n",
    "ax = fig.add_subplot(1, 1, 1)\n",
    "ax.plot(sup_data[:, 0], sup_data[:, 1], color=\"tab:orange\", label=\"upper envelope\")\n",
    "ax.plot(inf_data[:, 0], inf_data[:, 1], color=\"tab:blue\", label=\"lower envelope\")\n",
    "ax.grid(True)\n",
    "ax.fill_between(\n",
    "    inf_data[:, 0], inf_data[:, 1], sup_data[:, 1], color=\"gray\", alpha=0.3\n",
    ")\n",
    "ax.set_xlabel(\"slack\")\n",
    "ax.set_ylabel(\"$P_{slack}$\")\n",
    "ax.legend()\n",
    "ax.set_title(\"Slack P-Box 3D Assembly 32D\")"
   ]
  },
  {
   "cell_type": "code",
   "execution_count": null,
   "id": "b176e60a-1b48-467c-bbd8-a654452c511c",
   "metadata": {},
   "outputs": [],
   "source": [
    "print(f\"Minimum failure probability: {np.min(failure_probabilities):.5e}, Maximum failure probability: {np.max(failure_probabilities):.5e}\")"
   ]
  },
  {
   "cell_type": "code",
   "execution_count": null,
   "id": "060f9521-d4fd-483e-a4da-bb5617225b15",
   "metadata": {},
   "outputs": [],
   "source": [
    "STOP"
   ]
  },
  {
   "cell_type": "markdown",
   "id": "26ab91c6-d998-41d1-8739-502140b07ef4",
   "metadata": {},
   "source": [
    "## Global optimization basinhopping with GLD"
   ]
  },
  {
   "cell_type": "markdown",
   "id": "73b659ba-59be-4385-a1a4-d2b2aebc6f5f",
   "metadata": {},
   "source": [
    "### First we define the optimization functions $P_f(\\Theta)$"
   ]
  },
  {
   "cell_type": "code",
   "execution_count": 13,
   "id": "b2b3fbdc-2bc3-4e79-a1b3-2dacfa491e45",
   "metadata": {},
   "outputs": [],
   "source": [
    "SIZE_MC_PF = 10000 #int(1e6) #1e4\n",
    "sample_gld = otaf.sampling.generate_and_transform_sequence(RandDeviationVect.getDimension(), SIZE_MC_PF, RandDeviationVect) \n",
    "# np.array(RandDeviationVect.getSample(SIZE_MC_PF))\n",
    "scale_factor = 1.0\n",
    "GLD_parameters = [] # We need the parameters of the generalized lambda distribution.\n",
    "\n",
    "result_list = [] # Will be list of lists, where each sub list is a list of the input vector x and one for the gld paramters\n",
    "\n",
    "# Generalized lambda distribution object for fitting\n",
    "gld = GLD('VSL')\n",
    "\n",
    "def model_base(x, sample=sample_gld):\n",
    "    # Model without surrogate, to get slack\n",
    "    x = sample * np.sqrt(x[np.newaxis, :])\n",
    "    optimization_variables = otaf.uncertainty.compute_gap_optimizations_on_sample_batch(\n",
    "        constraint_matrix_generator=SOCAM,\n",
    "        deviation_array=x,\n",
    "        batch_size=500,\n",
    "        n_cpu=-1,\n",
    "        progress_bar=True,\n",
    "        verbose=0,\n",
    "        dtype=\"float32\",\n",
    "    )\n",
    "    slack_values = optimization_variables[:,-1]\n",
    "    return slack_values\n",
    "\n",
    "@otaf.optimization.scaling(scale_factor)\n",
    "def optimization_function_mini(x, model=model_base):\n",
    "    # Here we search the minimal probability of failure\n",
    "    slack = model(x)\n",
    "    gld_params = gld.fit_LMM(slack, disp_fit=False, disp_optimizer=False)\n",
    "    if np.any(np.isnan(gld_params)):\n",
    "        failure_probability = np.where(slack<0,1,0).mean()\n",
    "    else :\n",
    "        print(\"gld_params:\", gld_params)\n",
    "        failure_probability = gld.CDF_num(0, gld_params)\n",
    "    return failure_probability\n",
    "\n",
    "@otaf.optimization.scaling(scale_factor)\n",
    "def optimization_function_maxi(x, model=model_base):\n",
    "    # Here we search the maximal probability of failure so negative output\n",
    "    slack = model(x)\n",
    "    gld_params = gld.fit_LMM(slack, disp_fit=False, disp_optimizer=False)\n",
    "    if np.any(np.isnan(gld_params)):\n",
    "        failure_probability = np.where(slack<0,1,0).mean()\n",
    "    else :\n",
    "        print(\"gld_params:\", gld_params)\n",
    "        failure_probability = gld.CDF_num(0, gld_params)\n",
    "    return failure_probability*-1"
   ]
  },
  {
   "cell_type": "markdown",
   "id": "c805656b-91b6-4e12-bd5b-a8f2b984eea6",
   "metadata": {},
   "source": [
    "### Variance (std) based parameter constraint function"
   ]
  },
  {
   "cell_type": "code",
   "execution_count": 14,
   "id": "a0c5ac89-cf9f-44bc-a7bb-7628704e4cea",
   "metadata": {},
   "outputs": [],
   "source": [
    "midof_funcs = otaf.tolerances.MiSdofToleranceZones()\n",
    "\n",
    "feature_constraint_list = []\n",
    "\n",
    "# We know that all features are cylindrical, with same values/dimensions\n",
    "for i in range(8):\n",
    "    fconst = otaf.tolerances.FeatureLevelStatisticalConstraint(\n",
    "        midof_funcs.cylindrical_zone,\n",
    "        mif_args = (tol, hPlate),\n",
    "        n_dof = 4,\n",
    "        n_sample = 30000,\n",
    "        target = \"std\", #\"prob\",\n",
    "        target_val = sigma_e_pos*np.sqrt(1-(2/np.pi)), #0.002699, #\n",
    "        isNormal = True,\n",
    "        normalizeOutput = True,\n",
    "    )\n",
    "    feature_constraint_list.append(fconst)\n",
    "\n",
    "# The input of this object would be a list of parameters (their real value)\n",
    "composed_assembly_constraint = otaf.tolerances.ComposedAssemblyLevelStatisticalConstraint(feature_constraint_list)"
   ]
  },
  {
   "cell_type": "code",
   "execution_count": 15,
   "id": "fa8c2424-bc79-4379-bc24-6ca62a8a1e21",
   "metadata": {},
   "outputs": [],
   "source": [
    "param_bounds_one_feature = [[0.0,0.0], [1e-8, sigma_e_pos], #u, mean std\n",
    "                            [0.0,0.0], [1e-8, sigma_e_pos], #v, mean std\n",
    "                            [0.0,0.0], [1e-8, sigma_e_theta], #alpha, mean std\n",
    "                            [0.0,0.0], [1e-8, sigma_e_theta] # beta, mean std\n",
    "                           ]\n",
    "param_bounds = [param_bounds_one_feature] * 8 #We have 8 identical features\n",
    "\n",
    "# The input of this object is a list of normalized parameters (between 0 and 1)\n",
    "normalized_assembly_constraint = otaf.tolerances.NormalizedAssemblyLevelConstraint(\n",
    "    composed_assembly_constraint,\n",
    "    param_val_bounds=param_bounds)"
   ]
  },
  {
   "cell_type": "markdown",
   "id": "5836b5ec-5be9-4f70-a69a-4a8e88ea6714",
   "metadata": {},
   "source": [
    "#### The assembly constraint takes as an input the list of list of paramters for all the features. But as the distriutions (normals) are suppposed to be centered, we only need to have the standard deviations as inputs so we construct a little intermediary class that takes as an input only the standard deviations and not the means, and completes the means with 0 to pass it to the assembly constraint. "
   ]
  },
  {
   "cell_type": "code",
   "execution_count": 16,
   "id": "eb8e9f22-18a2-45b1-8385-bd611fc3b614",
   "metadata": {},
   "outputs": [],
   "source": [
    "def assembly_constraint_no_mean(param_list, scale_out=True):\n",
    "    \"\"\" The functions takes directly the concatenated list of all normalized parameters, and reconstructs the right object.\n",
    "    There should be 32 variables for the standard deviations, we just add the mean values in the vector so the input is correct \n",
    "    for the constraint object\n",
    "    \"\"\"\n",
    "    assert len(param_list)==32, \"problem with input.\"\n",
    "    zer = np.zeros(4) # These are the mean values (all 0)\n",
    "    pl = np.array(param_list)\n",
    "    params_for_assembly = []\n",
    "    for i in range(8):\n",
    "        params = param_list[i*4:i*4+4]\n",
    "        pa = [item for pair in zip(zer, params) for item in pair]\n",
    "        params_for_assembly.append(pa)\n",
    "    res =  normalized_assembly_constraint(params_for_assembly)\n",
    "    if scale_out :\n",
    "        return res * 10\n",
    "    else :\n",
    "        return res"
   ]
  },
  {
   "cell_type": "code",
   "execution_count": 17,
   "id": "23affa0b-94cd-48f7-9c4f-b19222032e53",
   "metadata": {},
   "outputs": [],
   "source": [
    "jac_assembly_constraint_no_mean = lambda x : approx_fprime(x, \n",
    "              assembly_constraint_no_mean,\n",
    "              0.001, \n",
    "              True,)"
   ]
  },
  {
   "cell_type": "markdown",
   "id": "78aa290c-0362-4a63-83cb-d154d98b52f2",
   "metadata": {},
   "source": [
    "#### Now we create the assembly constraint for the optimization (so a non linear constraint)"
   ]
  },
  {
   "cell_type": "code",
   "execution_count": 18,
   "id": "b38aadcb-2449-4f63-848a-8e040c286905",
   "metadata": {},
   "outputs": [],
   "source": [
    "# Define the nonlinear constraint with the updated vector-valued function and Jacobian\n",
    "nonLinearConstraint = NonlinearConstraint(\n",
    "    fun=assembly_constraint_no_mean,\n",
    "    lb = -0.001 * np.ones((8,)), # Maybe could be directly 0\n",
    "    ub = 0.001 * np.ones((8,)),\n",
    "    #jac = jac_assembly_constraint_no_mean, #jac doesn't work for COBYQA\n",
    "    keep_feasible=False,\n",
    ")"
   ]
  },
  {
   "cell_type": "markdown",
   "id": "6ab850de-58dc-409c-9ee7-43f2255455da",
   "metadata": {},
   "source": [
    "#### Optimization to find the maximal probability of failure"
   ]
  },
  {
   "cell_type": "code",
   "execution_count": 19,
   "id": "443b9a4c-a5b7-4f29-add9-b0e2bfaac476",
   "metadata": {
    "scrolled": true
   },
   "outputs": [
    {
     "name": "stdout",
     "output_type": "stream",
     "text": [
      "Starting the optimization procedure.\n",
      "Initial trust-region radius: 8.0.\n",
      "Final trust-region radius: 0.0001.\n",
      "Maximum number of function evaluations: 4000.\n",
      "Maximum number of iterations: 1000.\n",
      "\n"
     ]
    },
    {
     "data": {
      "application/vnd.jupyter.widget-view+json": {
       "model_id": "5506361492e94398a16414933c1236db",
       "version_major": 2,
       "version_minor": 0
      },
      "text/plain": [
       "  0%|          | 0/10000 [00:00<?, ?it/s]"
      ]
     },
     "metadata": {},
     "output_type": "display_data"
    },
    {
     "name": "stdout",
     "output_type": "stream",
     "text": [
      "gld_params: [0.05431317 0.01555498 0.36360562 0.12422729]\n",
      "wrapper([ 5.000e-01  5.000e-01 ...  5.000e-01  5.000e-01]) = -9.881047135480592e-05\n",
      "assembly_constraint_no_mean([ 5.000e-01  5.000e-01 ...  5.000e-01  5.000e-01]) = [-2.326e+00 -2.326e+00 ... -2.326e+00 -2.326e+00]\n"
     ]
    },
    {
     "data": {
      "application/vnd.jupyter.widget-view+json": {
       "model_id": "5d96c637fadf418e9687b269a8bf9b7e",
       "version_major": 2,
       "version_minor": 0
      },
      "text/plain": [
       "  0%|          | 0/10000 [00:00<?, ?it/s]"
      ]
     },
     "metadata": {},
     "output_type": "display_data"
    },
    {
     "name": "stdout",
     "output_type": "stream",
     "text": [
      "gld_params: [0.05396769 0.01552844 0.36718603 0.12450761]\n",
      "wrapper([ 1.000e+00  5.000e-01 ...  5.000e-01  5.000e-01]) = -9.520831025319645e-05\n",
      "assembly_constraint_no_mean([ 1.000e+00  5.000e-01 ...  5.000e-01  5.000e-01]) = [ 5.856e-01 -2.326e+00 ... -2.326e+00 -2.326e+00]\n"
     ]
    },
    {
     "data": {
      "application/vnd.jupyter.widget-view+json": {
       "model_id": "86a3c0d2aaae414282ce75010a6124e6",
       "version_major": 2,
       "version_minor": 0
      },
      "text/plain": [
       "  0%|          | 0/10000 [00:00<?, ?it/s]"
      ]
     },
     "metadata": {},
     "output_type": "display_data"
    },
    {
     "name": "stdout",
     "output_type": "stream",
     "text": [
      "gld_params: [0.05397891 0.01549472 0.36667786 0.12284383]\n",
      "wrapper([ 5.000e-01  1.000e+00 ...  5.000e-01  5.000e-01]) = -0.00010362997544048794\n",
      "assembly_constraint_no_mean([ 5.000e-01  1.000e+00 ...  5.000e-01  5.000e-01]) = [ 5.893e-01 -2.326e+00 ... -2.326e+00 -2.326e+00]\n"
     ]
    },
    {
     "data": {
      "application/vnd.jupyter.widget-view+json": {
       "model_id": "315d19d12715428c83d3334f446162ba",
       "version_major": 2,
       "version_minor": 0
      },
      "text/plain": [
       "  0%|          | 0/10000 [00:00<?, ?it/s]"
      ]
     },
     "metadata": {},
     "output_type": "display_data"
    },
    {
     "name": "stdout",
     "output_type": "stream",
     "text": [
      "gld_params: [0.05348964 0.01605819 0.35070008 0.10891362]\n",
      "wrapper([ 5.000e-01  5.000e-01 ...  5.000e-01  5.000e-01]) = -0.0005460626341353839\n",
      "assembly_constraint_no_mean([ 5.000e-01  5.000e-01 ...  5.000e-01  5.000e-01]) = [ 5.869e-01 -2.326e+00 ... -2.326e+00 -2.326e+00]\n"
     ]
    },
    {
     "data": {
      "application/vnd.jupyter.widget-view+json": {
       "model_id": "5ca2f58f690440778f07cfa23caa10c6",
       "version_major": 2,
       "version_minor": 0
      },
      "text/plain": [
       "  0%|          | 0/10000 [00:00<?, ?it/s]"
      ]
     },
     "metadata": {},
     "output_type": "display_data"
    },
    {
     "name": "stdout",
     "output_type": "stream",
     "text": [
      "gld_params: [0.05351268 0.01605045 0.3504794  0.10898383]\n",
      "wrapper([ 5.000e-01  5.000e-01 ...  5.000e-01  5.000e-01]) = -0.0005406279390429969\n",
      "assembly_constraint_no_mean([ 5.000e-01  5.000e-01 ...  5.000e-01  5.000e-01]) = [ 5.899e-01 -2.326e+00 ... -2.326e+00 -2.326e+00]\n"
     ]
    },
    {
     "data": {
      "application/vnd.jupyter.widget-view+json": {
       "model_id": "2dfd394dfa1048fab7f3f55764fd8ce8",
       "version_major": 2,
       "version_minor": 0
      },
      "text/plain": [
       "  0%|          | 0/10000 [00:00<?, ?it/s]"
      ]
     },
     "metadata": {},
     "output_type": "display_data"
    },
    {
     "name": "stdout",
     "output_type": "stream",
     "text": [
      "gld_params: [0.05401219 0.01554959 0.36579527 0.12568091]\n",
      "wrapper([ 5.000e-01  5.000e-01 ...  5.000e-01  5.000e-01]) = -9.262884049902561e-05\n",
      "assembly_constraint_no_mean([ 5.000e-01  5.000e-01 ...  5.000e-01  5.000e-01]) = [-2.326e+00  5.856e-01 ... -2.326e+00 -2.326e+00]\n"
     ]
    },
    {
     "data": {
      "application/vnd.jupyter.widget-view+json": {
       "model_id": "9db971f5eab94fc18b5b45bfedde0774",
       "version_major": 2,
       "version_minor": 0
      },
      "text/plain": [
       "  0%|          | 0/10000 [00:00<?, ?it/s]"
      ]
     },
     "metadata": {},
     "output_type": "display_data"
    },
    {
     "name": "stdout",
     "output_type": "stream",
     "text": [
      "gld_params: [0.05397442 0.01552338 0.36686899 0.12433345]\n",
      "wrapper([ 5.000e-01  5.000e-01 ...  5.000e-01  5.000e-01]) = -9.692831984882363e-05\n",
      "assembly_constraint_no_mean([ 5.000e-01  5.000e-01 ...  5.000e-01  5.000e-01]) = [-2.326e+00  5.893e-01 ... -2.326e+00 -2.326e+00]\n"
     ]
    },
    {
     "data": {
      "application/vnd.jupyter.widget-view+json": {
       "model_id": "9d7b7e335f1c4a36a65836dd4e709b82",
       "version_major": 2,
       "version_minor": 0
      },
      "text/plain": [
       "  0%|          | 0/10000 [00:00<?, ?it/s]"
      ]
     },
     "metadata": {},
     "output_type": "display_data"
    },
    {
     "name": "stdout",
     "output_type": "stream",
     "text": [
      "gld_params: [0.05351353 0.01601651 0.35005873 0.106925  ]\n",
      "wrapper([ 5.000e-01  5.000e-01 ...  5.000e-01  5.000e-01]) = -0.000573699738651373\n",
      "assembly_constraint_no_mean([ 5.000e-01  5.000e-01 ...  5.000e-01  5.000e-01]) = [-2.326e+00  5.869e-01 ... -2.326e+00 -2.326e+00]\n"
     ]
    },
    {
     "data": {
      "application/vnd.jupyter.widget-view+json": {
       "model_id": "4afdc6fca20a41c88319fa8eb29fcb0e",
       "version_major": 2,
       "version_minor": 0
      },
      "text/plain": [
       "  0%|          | 0/10000 [00:00<?, ?it/s]"
      ]
     },
     "metadata": {},
     "output_type": "display_data"
    },
    {
     "name": "stdout",
     "output_type": "stream",
     "text": [
      "gld_params: [0.05354238 0.01602072 0.34847014 0.10893578]\n",
      "wrapper([ 5.000e-01  5.000e-01 ...  5.000e-01  5.000e-01]) = -0.0005463059783187762\n",
      "assembly_constraint_no_mean([ 5.000e-01  5.000e-01 ...  5.000e-01  5.000e-01]) = [-2.326e+00  5.899e-01 ... -2.326e+00 -2.326e+00]\n"
     ]
    },
    {
     "data": {
      "application/vnd.jupyter.widget-view+json": {
       "model_id": "3887b77e25c2436089063f156ab62537",
       "version_major": 2,
       "version_minor": 0
      },
      "text/plain": [
       "  0%|          | 0/10000 [00:00<?, ?it/s]"
      ]
     },
     "metadata": {},
     "output_type": "display_data"
    },
    {
     "name": "stdout",
     "output_type": "stream",
     "text": [
      "gld_params: [0.05399196 0.01551649 0.36614886 0.12438949]\n",
      "wrapper([ 5.000e-01  5.000e-01 ...  5.000e-01  5.000e-01]) = -9.715784861336135e-05\n",
      "assembly_constraint_no_mean([ 5.000e-01  5.000e-01 ...  5.000e-01  5.000e-01]) = [-2.326e+00 -2.326e+00 ... -2.326e+00 -2.326e+00]\n"
     ]
    },
    {
     "data": {
      "application/vnd.jupyter.widget-view+json": {
       "model_id": "092385fa2d0040409e22dfd6ad9a4e3f",
       "version_major": 2,
       "version_minor": 0
      },
      "text/plain": [
       "  0%|          | 0/10000 [00:00<?, ?it/s]"
      ]
     },
     "metadata": {},
     "output_type": "display_data"
    },
    {
     "name": "stdout",
     "output_type": "stream",
     "text": [
      "gld_params: [0.05397606 0.01550722 0.3667415  0.12403132]\n",
      "wrapper([ 5.000e-01  5.000e-01 ...  5.000e-01  5.000e-01]) = -9.731200691971677e-05\n",
      "assembly_constraint_no_mean([ 5.000e-01  5.000e-01 ...  5.000e-01  5.000e-01]) = [-2.326e+00 -2.326e+00 ... -2.326e+00 -2.326e+00]\n"
     ]
    },
    {
     "data": {
      "application/vnd.jupyter.widget-view+json": {
       "model_id": "2bc353ee7ef04edd9615c19e12a4b5ac",
       "version_major": 2,
       "version_minor": 0
      },
      "text/plain": [
       "  0%|          | 0/10000 [00:00<?, ?it/s]"
      ]
     },
     "metadata": {},
     "output_type": "display_data"
    },
    {
     "name": "stdout",
     "output_type": "stream",
     "text": [
      "gld_params: [0.05354946 0.01601898 0.34751717 0.10901006]\n",
      "wrapper([ 5.000e-01  5.000e-01 ...  5.000e-01  5.000e-01]) = -0.000553067692051939\n",
      "assembly_constraint_no_mean([ 5.000e-01  5.000e-01 ...  5.000e-01  5.000e-01]) = [-2.326e+00 -2.326e+00 ... -2.326e+00 -2.326e+00]\n"
     ]
    },
    {
     "data": {
      "application/vnd.jupyter.widget-view+json": {
       "model_id": "7cb975baa49a4da3ac97d754d8c8583c",
       "version_major": 2,
       "version_minor": 0
      },
      "text/plain": [
       "  0%|          | 0/10000 [00:00<?, ?it/s]"
      ]
     },
     "metadata": {},
     "output_type": "display_data"
    },
    {
     "name": "stdout",
     "output_type": "stream",
     "text": [
      "gld_params: [0.05360037 0.01609447 0.34698752 0.1112718 ]\n",
      "wrapper([ 5.000e-01  5.000e-01 ...  5.000e-01  5.000e-01]) = -0.0005341242508996261\n",
      "assembly_constraint_no_mean([ 5.000e-01  5.000e-01 ...  5.000e-01  5.000e-01]) = [-2.326e+00 -2.326e+00 ... -2.326e+00 -2.326e+00]\n"
     ]
    },
    {
     "data": {
      "application/vnd.jupyter.widget-view+json": {
       "model_id": "71420e96f7754e55bff86c67d303f9ea",
       "version_major": 2,
       "version_minor": 0
      },
      "text/plain": [
       "  0%|          | 0/10000 [00:00<?, ?it/s]"
      ]
     },
     "metadata": {},
     "output_type": "display_data"
    },
    {
     "name": "stdout",
     "output_type": "stream",
     "text": [
      "gld_params: [0.05401284 0.01551329 0.36537827 0.12404793]\n",
      "wrapper([ 5.000e-01  5.000e-01 ...  5.000e-01  5.000e-01]) = -0.00010251591721051291\n",
      "assembly_constraint_no_mean([ 5.000e-01  5.000e-01 ...  5.000e-01  5.000e-01]) = [-2.326e+00 -2.326e+00 ... -2.326e+00 -2.326e+00]\n"
     ]
    },
    {
     "data": {
      "application/vnd.jupyter.widget-view+json": {
       "model_id": "5d4c1a70aae54db1bec3e861b418c72c",
       "version_major": 2,
       "version_minor": 0
      },
      "text/plain": [
       "  0%|          | 0/10000 [00:00<?, ?it/s]"
      ]
     },
     "metadata": {},
     "output_type": "display_data"
    },
    {
     "name": "stdout",
     "output_type": "stream",
     "text": [
      "gld_params: [0.05399118 0.01552538 0.36622686 0.12497179]\n",
      "wrapper([ 5.000e-01  5.000e-01 ...  5.000e-01  5.000e-01]) = -9.397279029993255e-05\n",
      "assembly_constraint_no_mean([ 5.000e-01  5.000e-01 ...  5.000e-01  5.000e-01]) = [-2.326e+00 -2.326e+00 ... -2.326e+00 -2.326e+00]\n"
     ]
    },
    {
     "data": {
      "application/vnd.jupyter.widget-view+json": {
       "model_id": "717005984b8d49f1aa03d5e7623598db",
       "version_major": 2,
       "version_minor": 0
      },
      "text/plain": [
       "  0%|          | 0/10000 [00:00<?, ?it/s]"
      ]
     },
     "metadata": {},
     "output_type": "display_data"
    },
    {
     "name": "stdout",
     "output_type": "stream",
     "text": [
      "gld_params: [0.05350371 0.01608154 0.3498131  0.10999996]\n",
      "wrapper([ 5.000e-01  5.000e-01 ...  5.000e-01  5.000e-01]) = -0.0005394502997526446\n",
      "assembly_constraint_no_mean([ 5.000e-01  5.000e-01 ...  5.000e-01  5.000e-01]) = [-2.326e+00 -2.326e+00 ... -2.326e+00 -2.326e+00]\n"
     ]
    },
    {
     "data": {
      "application/vnd.jupyter.widget-view+json": {
       "model_id": "b5757cea18b94eae88dbd14430d3dffa",
       "version_major": 2,
       "version_minor": 0
      },
      "text/plain": [
       "  0%|          | 0/10000 [00:00<?, ?it/s]"
      ]
     },
     "metadata": {},
     "output_type": "display_data"
    },
    {
     "name": "stdout",
     "output_type": "stream",
     "text": [
      "gld_params: [0.05350809 0.01610698 0.34906749 0.11155387]\n",
      "wrapper([ 5.000e-01  5.000e-01 ...  5.000e-01  5.000e-01]) = -0.0005236039233289998\n",
      "assembly_constraint_no_mean([ 5.000e-01  5.000e-01 ...  5.000e-01  5.000e-01]) = [-2.326e+00 -2.326e+00 ... -2.326e+00 -2.326e+00]\n"
     ]
    },
    {
     "data": {
      "application/vnd.jupyter.widget-view+json": {
       "model_id": "5dc55b30a5f04024a0589b649a98a6c1",
       "version_major": 2,
       "version_minor": 0
      },
      "text/plain": [
       "  0%|          | 0/10000 [00:00<?, ?it/s]"
      ]
     },
     "metadata": {},
     "output_type": "display_data"
    },
    {
     "name": "stdout",
     "output_type": "stream",
     "text": [
      "gld_params: [0.05403013 0.01556646 0.36498413 0.12656257]\n",
      "wrapper([ 5.000e-01  5.000e-01 ...  5.000e-01  5.000e-01]) = -9.048773961867717e-05\n",
      "assembly_constraint_no_mean([ 5.000e-01  5.000e-01 ...  5.000e-01  5.000e-01]) = [-2.326e+00 -2.326e+00 ... -2.326e+00 -2.326e+00]\n"
     ]
    },
    {
     "data": {
      "application/vnd.jupyter.widget-view+json": {
       "model_id": "5cdaa618b3344728a7871897dbf12f4b",
       "version_major": 2,
       "version_minor": 0
      },
      "text/plain": [
       "  0%|          | 0/10000 [00:00<?, ?it/s]"
      ]
     },
     "metadata": {},
     "output_type": "display_data"
    },
    {
     "name": "stdout",
     "output_type": "stream",
     "text": [
      "gld_params: [0.05398752 0.01554078 0.36638593 0.12472181]\n",
      "wrapper([ 5.000e-01  5.000e-01 ...  5.000e-01  5.000e-01]) = -9.719475797302514e-05\n",
      "assembly_constraint_no_mean([ 5.000e-01  5.000e-01 ...  5.000e-01  5.000e-01]) = [-2.326e+00 -2.326e+00 ... -2.326e+00 -2.326e+00]\n"
     ]
    },
    {
     "data": {
      "application/vnd.jupyter.widget-view+json": {
       "model_id": "65c638beec6f4e5ba8bc0e022350c797",
       "version_major": 2,
       "version_minor": 0
      },
      "text/plain": [
       "  0%|          | 0/10000 [00:00<?, ?it/s]"
      ]
     },
     "metadata": {},
     "output_type": "display_data"
    },
    {
     "name": "stdout",
     "output_type": "stream",
     "text": [
      "gld_params: [0.05355815 0.01614803 0.34837203 0.11358062]\n",
      "wrapper([ 5.000e-01  5.000e-01 ...  5.000e-01  5.000e-01]) = -0.0005010862362380569\n",
      "assembly_constraint_no_mean([ 5.000e-01  5.000e-01 ...  5.000e-01  5.000e-01]) = [-2.326e+00 -2.326e+00 ... -2.326e+00 -2.326e+00]\n"
     ]
    },
    {
     "data": {
      "application/vnd.jupyter.widget-view+json": {
       "model_id": "f5d5c0a7a214444f81911deeb9590fcb",
       "version_major": 2,
       "version_minor": 0
      },
      "text/plain": [
       "  0%|          | 0/10000 [00:00<?, ?it/s]"
      ]
     },
     "metadata": {},
     "output_type": "display_data"
    },
    {
     "name": "stdout",
     "output_type": "stream",
     "text": [
      "gld_params: [0.05354272 0.01600734 0.34877503 0.10708645]\n",
      "wrapper([ 5.000e-01  5.000e-01 ...  5.000e-01  5.000e-01]) = -0.0005762894342018199\n",
      "assembly_constraint_no_mean([ 5.000e-01  5.000e-01 ...  5.000e-01  5.000e-01]) = [-2.326e+00 -2.326e+00 ... -2.326e+00 -2.326e+00]\n"
     ]
    },
    {
     "data": {
      "application/vnd.jupyter.widget-view+json": {
       "model_id": "4f7d6f0ee1ba4fd69747cd76cd52a170",
       "version_major": 2,
       "version_minor": 0
      },
      "text/plain": [
       "  0%|          | 0/10000 [00:00<?, ?it/s]"
      ]
     },
     "metadata": {},
     "output_type": "display_data"
    },
    {
     "name": "stdout",
     "output_type": "stream",
     "text": [
      "gld_params: [0.05401627 0.01553205 0.36553352 0.12477575]\n",
      "wrapper([ 5.000e-01  5.000e-01 ...  5.000e-01  5.000e-01]) = -9.72642579408675e-05\n",
      "assembly_constraint_no_mean([ 5.000e-01  5.000e-01 ...  5.000e-01  5.000e-01]) = [-2.326e+00 -2.326e+00 ... -2.326e+00 -2.326e+00]\n"
     ]
    },
    {
     "data": {
      "application/vnd.jupyter.widget-view+json": {
       "model_id": "dea6bc137a264ac2bd8420d40ed0ace6",
       "version_major": 2,
       "version_minor": 0
      },
      "text/plain": [
       "  0%|          | 0/10000 [00:00<?, ?it/s]"
      ]
     },
     "metadata": {},
     "output_type": "display_data"
    },
    {
     "name": "stdout",
     "output_type": "stream",
     "text": [
      "gld_params: [0.05400876 0.01550136 0.36545087 0.12410927]\n",
      "wrapper([ 5.000e-01  5.000e-01 ...  5.000e-01  5.000e-01]) = -9.839722075063033e-05\n",
      "assembly_constraint_no_mean([ 5.000e-01  5.000e-01 ...  5.000e-01  5.000e-01]) = [-2.326e+00 -2.326e+00 ... -2.326e+00 -2.326e+00]\n"
     ]
    },
    {
     "data": {
      "application/vnd.jupyter.widget-view+json": {
       "model_id": "3c0eae308b4e4668b12dcb6b4274715e",
       "version_major": 2,
       "version_minor": 0
      },
      "text/plain": [
       "  0%|          | 0/10000 [00:00<?, ?it/s]"
      ]
     },
     "metadata": {},
     "output_type": "display_data"
    },
    {
     "name": "stdout",
     "output_type": "stream",
     "text": [
      "gld_params: [0.05350088 0.01603766 0.35003625 0.10904935]\n",
      "wrapper([ 5.000e-01  5.000e-01 ...  5.000e-01  5.000e-01]) = -0.0005399052138664023\n",
      "assembly_constraint_no_mean([ 5.000e-01  5.000e-01 ...  5.000e-01  5.000e-01]) = [-2.326e+00 -2.326e+00 ... -2.326e+00 -2.326e+00]\n"
     ]
    },
    {
     "data": {
      "application/vnd.jupyter.widget-view+json": {
       "model_id": "5fed8ab07e934a46804d67a6331d857d",
       "version_major": 2,
       "version_minor": 0
      },
      "text/plain": [
       "  0%|          | 0/10000 [00:00<?, ?it/s]"
      ]
     },
     "metadata": {},
     "output_type": "display_data"
    },
    {
     "name": "stdout",
     "output_type": "stream",
     "text": [
      "gld_params: [0.05357688 0.01627859 0.34810954 0.11880248]\n",
      "wrapper([ 5.000e-01  5.000e-01 ...  5.000e-01  5.000e-01]) = -0.0004497705137308731\n",
      "assembly_constraint_no_mean([ 5.000e-01  5.000e-01 ...  5.000e-01  5.000e-01]) = [-2.326e+00 -2.326e+00 ... -2.326e+00 -2.326e+00]\n"
     ]
    },
    {
     "data": {
      "application/vnd.jupyter.widget-view+json": {
       "model_id": "a51e7876e7bc442dbaa5ea5a1759092e",
       "version_major": 2,
       "version_minor": 0
      },
      "text/plain": [
       "  0%|          | 0/10000 [00:00<?, ?it/s]"
      ]
     },
     "metadata": {},
     "output_type": "display_data"
    },
    {
     "name": "stdout",
     "output_type": "stream",
     "text": [
      "gld_params: [0.05400452 0.01553722 0.36551846 0.12513196]\n",
      "wrapper([ 5.000e-01  5.000e-01 ...  5.000e-01  5.000e-01]) = -9.544935383589011e-05\n",
      "assembly_constraint_no_mean([ 5.000e-01  5.000e-01 ...  5.000e-01  5.000e-01]) = [-2.326e+00 -2.326e+00 ...  5.856e-01 -2.326e+00]\n"
     ]
    },
    {
     "data": {
      "application/vnd.jupyter.widget-view+json": {
       "model_id": "ad64ecbf16084bb692d48b8f92c392a4",
       "version_major": 2,
       "version_minor": 0
      },
      "text/plain": [
       "  0%|          | 0/10000 [00:00<?, ?it/s]"
      ]
     },
     "metadata": {},
     "output_type": "display_data"
    },
    {
     "name": "stdout",
     "output_type": "stream",
     "text": [
      "gld_params: [0.05400291 0.01547822 0.36592514 0.1229371 ]\n",
      "wrapper([ 5.000e-01  5.000e-01 ...  5.000e-01  5.000e-01]) = -0.00010362997544048794\n",
      "assembly_constraint_no_mean([ 5.000e-01  5.000e-01 ...  5.000e-01  5.000e-01]) = [-2.326e+00 -2.326e+00 ...  5.893e-01 -2.326e+00]\n"
     ]
    },
    {
     "data": {
      "application/vnd.jupyter.widget-view+json": {
       "model_id": "f064293828ea470bb284f48362af734e",
       "version_major": 2,
       "version_minor": 0
      },
      "text/plain": [
       "  0%|          | 0/10000 [00:00<?, ?it/s]"
      ]
     },
     "metadata": {},
     "output_type": "display_data"
    },
    {
     "name": "stdout",
     "output_type": "stream",
     "text": [
      "gld_params: [0.05359166 0.01605783 0.34701769 0.10967721]\n",
      "wrapper([ 5.000e-01  5.000e-01 ...  5.000e-01  5.000e-01]) = -0.0005547160849635957\n",
      "assembly_constraint_no_mean([ 5.000e-01  5.000e-01 ...  5.000e-01  5.000e-01]) = [-2.326e+00 -2.326e+00 ...  5.869e-01 -2.326e+00]\n"
     ]
    },
    {
     "data": {
      "application/vnd.jupyter.widget-view+json": {
       "model_id": "1229e605fa97437fb1a4456a5dbceca1",
       "version_major": 2,
       "version_minor": 0
      },
      "text/plain": [
       "  0%|          | 0/10000 [00:00<?, ?it/s]"
      ]
     },
     "metadata": {},
     "output_type": "display_data"
    },
    {
     "name": "stdout",
     "output_type": "stream",
     "text": [
      "gld_params: [0.05363816 0.01621837 0.34575947 0.11683964]\n",
      "wrapper([ 5.000e-01  5.000e-01 ...  5.000e-01  5.000e-01]) = -0.0004772848358882542\n",
      "assembly_constraint_no_mean([ 5.000e-01  5.000e-01 ...  5.000e-01  5.000e-01]) = [-2.326e+00 -2.326e+00 ...  5.899e-01 -2.326e+00]\n"
     ]
    },
    {
     "data": {
      "application/vnd.jupyter.widget-view+json": {
       "model_id": "760af65fb7114b228738d04f0d9532a8",
       "version_major": 2,
       "version_minor": 0
      },
      "text/plain": [
       "  0%|          | 0/10000 [00:00<?, ?it/s]"
      ]
     },
     "metadata": {},
     "output_type": "display_data"
    },
    {
     "name": "stdout",
     "output_type": "stream",
     "text": [
      "gld_params: [0.05400661 0.01556204 0.36632321 0.1259392 ]\n",
      "wrapper([ 5.000e-01  5.000e-01 ...  5.000e-01  5.000e-01]) = -9.112751980436104e-05\n",
      "assembly_constraint_no_mean([ 5.000e-01  5.000e-01 ...  5.000e-01  5.000e-01]) = [-2.326e+00 -2.326e+00 ... -2.326e+00  5.856e-01]\n"
     ]
    },
    {
     "data": {
      "application/vnd.jupyter.widget-view+json": {
       "model_id": "76cd8f2a41c34d359e5e722048f5901f",
       "version_major": 2,
       "version_minor": 0
      },
      "text/plain": [
       "  0%|          | 0/10000 [00:00<?, ?it/s]"
      ]
     },
     "metadata": {},
     "output_type": "display_data"
    },
    {
     "name": "stdout",
     "output_type": "stream",
     "text": [
      "gld_params: [0.05399333 0.01552827 0.36614143 0.12443559]\n",
      "wrapper([ 5.000e-01  5.000e-01 ...  5.000e-01  5.000e-01]) = -9.798178864122365e-05\n",
      "assembly_constraint_no_mean([ 5.000e-01  5.000e-01 ...  5.000e-01  5.000e-01]) = [-2.326e+00 -2.326e+00 ... -2.326e+00  5.893e-01]\n"
     ]
    },
    {
     "data": {
      "application/vnd.jupyter.widget-view+json": {
       "model_id": "20dcbbd5cbc744f1a2e4c112d17792b0",
       "version_major": 2,
       "version_minor": 0
      },
      "text/plain": [
       "  0%|          | 0/10000 [00:00<?, ?it/s]"
      ]
     },
     "metadata": {},
     "output_type": "display_data"
    },
    {
     "name": "stdout",
     "output_type": "stream",
     "text": [
      "gld_params: [0.05343505 0.01593769 0.35158276 0.10544782]\n",
      "wrapper([ 5.000e-01  5.000e-01 ...  1.000e+00  5.000e-01]) = -0.0005693058519600218\n",
      "assembly_constraint_no_mean([ 5.000e-01  5.000e-01 ...  1.000e+00  5.000e-01]) = [-2.326e+00 -2.326e+00 ... -2.326e+00  5.869e-01]\n"
     ]
    },
    {
     "data": {
      "application/vnd.jupyter.widget-view+json": {
       "model_id": "780adf8fb8c64f2cae08eb066e381a90",
       "version_major": 2,
       "version_minor": 0
      },
      "text/plain": [
       "  0%|          | 0/10000 [00:00<?, ?it/s]"
      ]
     },
     "metadata": {},
     "output_type": "display_data"
    },
    {
     "name": "stdout",
     "output_type": "stream",
     "text": [
      "gld_params: [0.05353956 0.01610927 0.34883887 0.1124101 ]\n",
      "wrapper([ 5.000e-01  5.000e-01 ...  5.000e-01  1.000e+00]) = -0.0005080570025247677\n",
      "assembly_constraint_no_mean([ 5.000e-01  5.000e-01 ...  5.000e-01  1.000e+00]) = [-2.326e+00 -2.326e+00 ... -2.326e+00  5.899e-01]\n"
     ]
    },
    {
     "data": {
      "application/vnd.jupyter.widget-view+json": {
       "model_id": "a475d34754fe4df8af3233bfa88446ae",
       "version_major": 2,
       "version_minor": 0
      },
      "text/plain": [
       "  0%|          | 0/10000 [00:00<?, ?it/s]"
      ]
     },
     "metadata": {},
     "output_type": "display_data"
    },
    {
     "name": "stdout",
     "output_type": "stream",
     "text": [
      "gld_params: [0.05466075 0.01562912 0.35971019 0.1248984 ]\n",
      "wrapper([ 0.000e+00  5.000e-01 ...  5.000e-01  5.000e-01]) = -0.00010362997544048794\n",
      "assembly_constraint_no_mean([ 0.000e+00  5.000e-01 ...  5.000e-01  5.000e-01]) = [-3.183e+00 -2.326e+00 ... -2.326e+00 -2.326e+00]\n"
     ]
    },
    {
     "data": {
      "application/vnd.jupyter.widget-view+json": {
       "model_id": "259686b164a94ceda63a8221725ed7b8",
       "version_major": 2,
       "version_minor": 0
      },
      "text/plain": [
       "  0%|          | 0/10000 [00:00<?, ?it/s]"
      ]
     },
     "metadata": {},
     "output_type": "display_data"
    },
    {
     "name": "stdout",
     "output_type": "stream",
     "text": [
      "gld_params: [0.05463662 0.01568357 0.36118167 0.12775089]\n",
      "wrapper([ 5.000e-01  0.000e+00 ...  5.000e-01  5.000e-01]) = -8.645903671724377e-05\n",
      "assembly_constraint_no_mean([ 5.000e-01  0.000e+00 ...  5.000e-01  5.000e-01]) = [-3.183e+00 -2.326e+00 ... -2.326e+00 -2.326e+00]\n"
     ]
    },
    {
     "data": {
      "application/vnd.jupyter.widget-view+json": {
       "model_id": "744eebd52d124982bfb773f0096bd2c2",
       "version_major": 2,
       "version_minor": 0
      },
      "text/plain": [
       "  0%|          | 0/10000 [00:00<?, ?it/s]"
      ]
     },
     "metadata": {},
     "output_type": "display_data"
    },
    {
     "name": "stdout",
     "output_type": "stream",
     "text": [
      "gld_params: [0.05578648 0.01539072 0.35177262 0.12493659]\n",
      "wrapper([ 5.000e-01  5.000e-01 ...  5.000e-01  5.000e-01]) = -6.610696135189609e-05\n",
      "assembly_constraint_no_mean([ 5.000e-01  5.000e-01 ...  5.000e-01  5.000e-01]) = [-3.183e+00 -2.326e+00 ... -2.326e+00 -2.326e+00]\n"
     ]
    },
    {
     "data": {
      "application/vnd.jupyter.widget-view+json": {
       "model_id": "e5b0226aaf92439da9556b37954191c8",
       "version_major": 2,
       "version_minor": 0
      },
      "text/plain": [
       "  0%|          | 0/10000 [00:00<?, ?it/s]"
      ]
     },
     "metadata": {},
     "output_type": "display_data"
    },
    {
     "name": "stdout",
     "output_type": "stream",
     "text": [
      "gld_params: [0.05569254 0.01527228 0.35382763 0.11903668]\n",
      "wrapper([ 5.000e-01  5.000e-01 ...  5.000e-01  5.000e-01]) = -8.660063208078084e-05\n",
      "assembly_constraint_no_mean([ 5.000e-01  5.000e-01 ...  5.000e-01  5.000e-01]) = [-3.183e+00 -2.326e+00 ... -2.326e+00 -2.326e+00]\n"
     ]
    },
    {
     "data": {
      "application/vnd.jupyter.widget-view+json": {
       "model_id": "b3524f5290fc4ac5b9c9032964d35c70",
       "version_major": 2,
       "version_minor": 0
      },
      "text/plain": [
       "  0%|          | 0/10000 [00:00<?, ?it/s]"
      ]
     },
     "metadata": {},
     "output_type": "display_data"
    },
    {
     "name": "stdout",
     "output_type": "stream",
     "text": [
      "gld_params: [0.05458679 0.01559372 0.36217869 0.12324518]\n",
      "wrapper([ 5.000e-01  5.000e-01 ...  5.000e-01  5.000e-01]) = -0.00010696331036034356\n",
      "assembly_constraint_no_mean([ 5.000e-01  5.000e-01 ...  5.000e-01  5.000e-01]) = [-2.326e+00 -3.183e+00 ... -2.326e+00 -2.326e+00]\n"
     ]
    },
    {
     "data": {
      "application/vnd.jupyter.widget-view+json": {
       "model_id": "ead4111adcd143289f75a6e65e7f04a8",
       "version_major": 2,
       "version_minor": 0
      },
      "text/plain": [
       "  0%|          | 0/10000 [00:00<?, ?it/s]"
      ]
     },
     "metadata": {},
     "output_type": "display_data"
    },
    {
     "name": "stdout",
     "output_type": "stream",
     "text": [
      "gld_params: [0.05466189 0.01570294 0.36063443 0.12757267]\n",
      "wrapper([ 5.000e-01  5.000e-01 ...  5.000e-01  5.000e-01]) = -9.071565898275294e-05\n",
      "assembly_constraint_no_mean([ 5.000e-01  5.000e-01 ...  5.000e-01  5.000e-01]) = [-2.326e+00 -3.183e+00 ... -2.326e+00 -2.326e+00]\n"
     ]
    },
    {
     "data": {
      "application/vnd.jupyter.widget-view+json": {
       "model_id": "d6ecf9cfe8874341aab7a29a59446634",
       "version_major": 2,
       "version_minor": 0
      },
      "text/plain": [
       "  0%|          | 0/10000 [00:00<?, ?it/s]"
      ]
     },
     "metadata": {},
     "output_type": "display_data"
    },
    {
     "name": "stdout",
     "output_type": "stream",
     "text": [
      "gld_params: [0.05566444 0.0152597  0.35524509 0.12030608]\n",
      "wrapper([ 5.000e-01  5.000e-01 ...  5.000e-01  5.000e-01]) = -7.483400122127556e-05\n",
      "assembly_constraint_no_mean([ 5.000e-01  5.000e-01 ...  5.000e-01  5.000e-01]) = [-2.326e+00 -3.183e+00 ... -2.326e+00 -2.326e+00]\n"
     ]
    },
    {
     "data": {
      "application/vnd.jupyter.widget-view+json": {
       "model_id": "a9ade5ae68c04497b0a63b3a490579c7",
       "version_major": 2,
       "version_minor": 0
      },
      "text/plain": [
       "  0%|          | 0/10000 [00:00<?, ?it/s]"
      ]
     },
     "metadata": {},
     "output_type": "display_data"
    },
    {
     "name": "stdout",
     "output_type": "stream",
     "text": [
      "gld_params: [0.05566049 0.01524417 0.35520272 0.11783258]\n",
      "wrapper([ 5.000e-01  5.000e-01 ...  5.000e-01  5.000e-01]) = -8.649600411942413e-05\n",
      "assembly_constraint_no_mean([ 5.000e-01  5.000e-01 ...  5.000e-01  5.000e-01]) = [-2.326e+00 -3.183e+00 ... -2.326e+00 -2.326e+00]\n"
     ]
    },
    {
     "data": {
      "application/vnd.jupyter.widget-view+json": {
       "model_id": "6c6141480fee49e388e3c7301ecfbe1c",
       "version_major": 2,
       "version_minor": 0
      },
      "text/plain": [
       "  0%|          | 0/10000 [00:00<?, ?it/s]"
      ]
     },
     "metadata": {},
     "output_type": "display_data"
    },
    {
     "name": "stdout",
     "output_type": "stream",
     "text": [
      "gld_params: [0.05464152 0.01567822 0.36120019 0.12628289]\n",
      "wrapper([ 5.000e-01  5.000e-01 ...  5.000e-01  5.000e-01]) = -9.513119427740877e-05\n",
      "assembly_constraint_no_mean([ 5.000e-01  5.000e-01 ...  5.000e-01  5.000e-01]) = [-2.326e+00 -2.326e+00 ... -2.326e+00 -2.326e+00]\n"
     ]
    },
    {
     "data": {
      "application/vnd.jupyter.widget-view+json": {
       "model_id": "ce5804136496454babbf6b81fe6a6eb1",
       "version_major": 2,
       "version_minor": 0
      },
      "text/plain": [
       "  0%|          | 0/10000 [00:00<?, ?it/s]"
      ]
     },
     "metadata": {},
     "output_type": "display_data"
    },
    {
     "name": "stdout",
     "output_type": "stream",
     "text": [
      "gld_params: [0.05456499 0.01561599 0.36336053 0.12345634]\n",
      "wrapper([ 5.000e-01  5.000e-01 ...  5.000e-01  5.000e-01]) = -0.00010362997544048794\n",
      "assembly_constraint_no_mean([ 5.000e-01  5.000e-01 ...  5.000e-01  5.000e-01]) = [-2.326e+00 -2.326e+00 ... -2.326e+00 -2.326e+00]\n"
     ]
    },
    {
     "data": {
      "application/vnd.jupyter.widget-view+json": {
       "model_id": "049f3a2222234f68a3ed7778c167314f",
       "version_major": 2,
       "version_minor": 0
      },
      "text/plain": [
       "  0%|          | 0/10000 [00:00<?, ?it/s]"
      ]
     },
     "metadata": {},
     "output_type": "display_data"
    },
    {
     "name": "stdout",
     "output_type": "stream",
     "text": [
      "gld_params: [0.05567828 0.01531006 0.35682169 0.11914426]\n",
      "wrapper([ 5.000e-01  5.000e-01 ...  5.000e-01  5.000e-01]) = -8.330948908841061e-05\n",
      "assembly_constraint_no_mean([ 5.000e-01  5.000e-01 ...  5.000e-01  5.000e-01]) = [-2.326e+00 -2.326e+00 ... -2.326e+00 -2.326e+00]\n"
     ]
    },
    {
     "data": {
      "application/vnd.jupyter.widget-view+json": {
       "model_id": "99103d3e22dd4ad5b83effbe83becff0",
       "version_major": 2,
       "version_minor": 0
      },
      "text/plain": [
       "  0%|          | 0/10000 [00:00<?, ?it/s]"
      ]
     },
     "metadata": {},
     "output_type": "display_data"
    },
    {
     "name": "stdout",
     "output_type": "stream",
     "text": [
      "gld_params: [0.05573216 0.01522508 0.35292955 0.11838611]\n",
      "wrapper([ 5.000e-01  5.000e-01 ...  5.000e-01  5.000e-01]) = -8.680688873715461e-05\n",
      "assembly_constraint_no_mean([ 5.000e-01  5.000e-01 ...  5.000e-01  5.000e-01]) = [-2.326e+00 -2.326e+00 ... -2.326e+00 -2.326e+00]\n"
     ]
    },
    {
     "data": {
      "application/vnd.jupyter.widget-view+json": {
       "model_id": "56486d0ae0444af1b551589bbb03318d",
       "version_major": 2,
       "version_minor": 0
      },
      "text/plain": [
       "  0%|          | 0/10000 [00:00<?, ?it/s]"
      ]
     },
     "metadata": {},
     "output_type": "display_data"
    },
    {
     "name": "stdout",
     "output_type": "stream",
     "text": [
      "gld_params: [0.05461108 0.01562034 0.36217515 0.12417937]\n",
      "wrapper([ 5.000e-01  5.000e-01 ...  5.000e-01  5.000e-01]) = -0.00010304903348212175\n",
      "assembly_constraint_no_mean([ 5.000e-01  5.000e-01 ...  5.000e-01  5.000e-01]) = [-2.326e+00 -2.326e+00 ... -2.326e+00 -2.326e+00]\n"
     ]
    },
    {
     "data": {
      "application/vnd.jupyter.widget-view+json": {
       "model_id": "7470b3975acf4645b86e48252f5d433a",
       "version_major": 2,
       "version_minor": 0
      },
      "text/plain": [
       "  0%|          | 0/10000 [00:00<?, ?it/s]"
      ]
     },
     "metadata": {},
     "output_type": "display_data"
    },
    {
     "name": "stdout",
     "output_type": "stream",
     "text": [
      "gld_params: [0.05457574 0.0156335  0.3630071  0.12399692]\n",
      "wrapper([ 5.000e-01  5.000e-01 ...  5.000e-01  5.000e-01]) = -0.00010362997544048794\n",
      "assembly_constraint_no_mean([ 5.000e-01  5.000e-01 ...  5.000e-01  5.000e-01]) = [-2.326e+00 -2.326e+00 ... -2.326e+00 -2.326e+00]\n"
     ]
    },
    {
     "data": {
      "application/vnd.jupyter.widget-view+json": {
       "model_id": "06413da7c82242a3b4e710f0fec2fa8a",
       "version_major": 2,
       "version_minor": 0
      },
      "text/plain": [
       "  0%|          | 0/10000 [00:00<?, ?it/s]"
      ]
     },
     "metadata": {},
     "output_type": "display_data"
    },
    {
     "name": "stdout",
     "output_type": "stream",
     "text": [
      "gld_params: [0.05574805 0.01532251 0.35352636 0.12021107]\n",
      "wrapper([ 5.000e-01  5.000e-01 ...  5.000e-01  5.000e-01]) = -8.501410589630055e-05\n",
      "assembly_constraint_no_mean([ 5.000e-01  5.000e-01 ...  5.000e-01  5.000e-01]) = [-2.326e+00 -2.326e+00 ... -2.326e+00 -2.326e+00]\n"
     ]
    },
    {
     "data": {
      "application/vnd.jupyter.widget-view+json": {
       "model_id": "b0a21997e169492e8615c4e6782443f7",
       "version_major": 2,
       "version_minor": 0
      },
      "text/plain": [
       "  0%|          | 0/10000 [00:00<?, ?it/s]"
      ]
     },
     "metadata": {},
     "output_type": "display_data"
    },
    {
     "name": "stdout",
     "output_type": "stream",
     "text": [
      "gld_params: [0.05579669 0.01540685 0.35353053 0.12445204]\n",
      "wrapper([ 5.000e-01  5.000e-01 ...  5.000e-01  5.000e-01]) = -6.944029566575411e-05\n",
      "assembly_constraint_no_mean([ 5.000e-01  5.000e-01 ...  5.000e-01  5.000e-01]) = [-2.326e+00 -2.326e+00 ... -2.326e+00 -2.326e+00]\n"
     ]
    },
    {
     "data": {
      "application/vnd.jupyter.widget-view+json": {
       "model_id": "67273631e3ab47a98d19a317389482c1",
       "version_major": 2,
       "version_minor": 0
      },
      "text/plain": [
       "  0%|          | 0/10000 [00:00<?, ?it/s]"
      ]
     },
     "metadata": {},
     "output_type": "display_data"
    },
    {
     "name": "stdout",
     "output_type": "stream",
     "text": [
      "gld_params: [0.05458677 0.01556831 0.36262201 0.12183311]\n",
      "wrapper([ 5.000e-01  5.000e-01 ...  5.000e-01  5.000e-01]) = -0.00011210111754366526\n",
      "assembly_constraint_no_mean([ 5.000e-01  5.000e-01 ...  5.000e-01  5.000e-01]) = [-2.326e+00 -2.326e+00 ... -2.326e+00 -2.326e+00]\n"
     ]
    },
    {
     "data": {
      "application/vnd.jupyter.widget-view+json": {
       "model_id": "14b4fdf0131a491aa367e004f8de08f0",
       "version_major": 2,
       "version_minor": 0
      },
      "text/plain": [
       "  0%|          | 0/10000 [00:00<?, ?it/s]"
      ]
     },
     "metadata": {},
     "output_type": "display_data"
    },
    {
     "name": "stdout",
     "output_type": "stream",
     "text": [
      "gld_params: [0.05458737 0.01552521 0.36242604 0.12036612]\n",
      "wrapper([ 5.000e-01  5.000e-01 ...  5.000e-01  5.000e-01]) = -0.00011654273789279756\n",
      "assembly_constraint_no_mean([ 5.000e-01  5.000e-01 ...  5.000e-01  5.000e-01]) = [-2.326e+00 -2.326e+00 ... -2.326e+00 -2.326e+00]\n"
     ]
    },
    {
     "data": {
      "application/vnd.jupyter.widget-view+json": {
       "model_id": "8bb61aae7af146ceabb120b8869d548f",
       "version_major": 2,
       "version_minor": 0
      },
      "text/plain": [
       "  0%|          | 0/10000 [00:00<?, ?it/s]"
      ]
     },
     "metadata": {},
     "output_type": "display_data"
    },
    {
     "name": "stdout",
     "output_type": "stream",
     "text": [
      "gld_params: [0.05554684 0.01526217 0.35966498 0.11954111]\n",
      "wrapper([ 5.000e-01  5.000e-01 ...  5.000e-01  5.000e-01]) = -7.356740209052043e-05\n",
      "assembly_constraint_no_mean([ 5.000e-01  5.000e-01 ...  5.000e-01  5.000e-01]) = [-2.326e+00 -2.326e+00 ... -2.326e+00 -2.326e+00]\n"
     ]
    },
    {
     "data": {
      "application/vnd.jupyter.widget-view+json": {
       "model_id": "0d8de0eb429e485a986820b938bfa7bf",
       "version_major": 2,
       "version_minor": 0
      },
      "text/plain": [
       "  0%|          | 0/10000 [00:00<?, ?it/s]"
      ]
     },
     "metadata": {},
     "output_type": "display_data"
    },
    {
     "name": "stdout",
     "output_type": "stream",
     "text": [
      "gld_params: [0.05576116 0.01537444 0.35353508 0.12323322]\n",
      "wrapper([ 5.000e-01  5.000e-01 ...  5.000e-01  5.000e-01]) = -7.256373821593009e-05\n",
      "assembly_constraint_no_mean([ 5.000e-01  5.000e-01 ...  5.000e-01  5.000e-01]) = [-2.326e+00 -2.326e+00 ... -2.326e+00 -2.326e+00]\n"
     ]
    },
    {
     "data": {
      "application/vnd.jupyter.widget-view+json": {
       "model_id": "ceebe58ece6f42f2a54503b94afcd513",
       "version_major": 2,
       "version_minor": 0
      },
      "text/plain": [
       "  0%|          | 0/10000 [00:00<?, ?it/s]"
      ]
     },
     "metadata": {},
     "output_type": "display_data"
    },
    {
     "name": "stdout",
     "output_type": "stream",
     "text": [
      "gld_params: [0.05462285 0.01561028 0.36130124 0.12394612]\n",
      "wrapper([ 5.000e-01  5.000e-01 ...  5.000e-01  5.000e-01]) = -0.00010362997544048794\n",
      "assembly_constraint_no_mean([ 5.000e-01  5.000e-01 ...  5.000e-01  5.000e-01]) = [-2.326e+00 -2.326e+00 ... -2.326e+00 -2.326e+00]\n"
     ]
    },
    {
     "data": {
      "application/vnd.jupyter.widget-view+json": {
       "model_id": "60bbf002ff524828b2a4c354f9c8d391",
       "version_major": 2,
       "version_minor": 0
      },
      "text/plain": [
       "  0%|          | 0/10000 [00:00<?, ?it/s]"
      ]
     },
     "metadata": {},
     "output_type": "display_data"
    },
    {
     "name": "stdout",
     "output_type": "stream",
     "text": [
      "gld_params: [0.05451221 0.01560411 0.3654229  0.12195743]\n",
      "wrapper([ 5.000e-01  5.000e-01 ...  5.000e-01  5.000e-01]) = -0.00011029664528019918\n",
      "assembly_constraint_no_mean([ 5.000e-01  5.000e-01 ...  5.000e-01  5.000e-01]) = [-2.326e+00 -2.326e+00 ... -2.326e+00 -2.326e+00]\n"
     ]
    },
    {
     "data": {
      "application/vnd.jupyter.widget-view+json": {
       "model_id": "973d610451a34eadb3a48e2196d72169",
       "version_major": 2,
       "version_minor": 0
      },
      "text/plain": [
       "  0%|          | 0/10000 [00:00<?, ?it/s]"
      ]
     },
     "metadata": {},
     "output_type": "display_data"
    },
    {
     "name": "stdout",
     "output_type": "stream",
     "text": [
      "gld_params: [0.05557638 0.01530841 0.35881996 0.12184543]\n",
      "wrapper([ 5.000e-01  5.000e-01 ...  5.000e-01  5.000e-01]) = -6.610696135189609e-05\n",
      "assembly_constraint_no_mean([ 5.000e-01  5.000e-01 ...  5.000e-01  5.000e-01]) = [-2.326e+00 -2.326e+00 ... -2.326e+00 -2.326e+00]\n"
     ]
    },
    {
     "data": {
      "application/vnd.jupyter.widget-view+json": {
       "model_id": "32bf4ec01b8842e9837abcdcc60e3617",
       "version_major": 2,
       "version_minor": 0
      },
      "text/plain": [
       "  0%|          | 0/10000 [00:00<?, ?it/s]"
      ]
     },
     "metadata": {},
     "output_type": "display_data"
    },
    {
     "name": "stdout",
     "output_type": "stream",
     "text": [
      "gld_params: [0.05571307 0.015396   0.35578683 0.12224424]\n",
      "wrapper([ 5.000e-01  5.000e-01 ...  5.000e-01  5.000e-01]) = -7.512112265962631e-05\n",
      "assembly_constraint_no_mean([ 5.000e-01  5.000e-01 ...  5.000e-01  5.000e-01]) = [-2.326e+00 -2.326e+00 ... -2.326e+00 -2.326e+00]\n"
     ]
    },
    {
     "data": {
      "application/vnd.jupyter.widget-view+json": {
       "model_id": "c959f613aad144b1a5e65083f8dd85a7",
       "version_major": 2,
       "version_minor": 0
      },
      "text/plain": [
       "  0%|          | 0/10000 [00:00<?, ?it/s]"
      ]
     },
     "metadata": {},
     "output_type": "display_data"
    },
    {
     "name": "stdout",
     "output_type": "stream",
     "text": [
      "gld_params: [0.05462048 0.01566293 0.36212017 0.12518555]\n",
      "wrapper([ 5.000e-01  5.000e-01 ...  5.000e-01  5.000e-01]) = -9.883381970468033e-05\n",
      "assembly_constraint_no_mean([ 5.000e-01  5.000e-01 ...  5.000e-01  5.000e-01]) = [-2.326e+00 -2.326e+00 ... -3.183e+00 -2.326e+00]\n"
     ]
    },
    {
     "data": {
      "application/vnd.jupyter.widget-view+json": {
       "model_id": "8b55dc6d647841f5aef8f86e872df7bd",
       "version_major": 2,
       "version_minor": 0
      },
      "text/plain": [
       "  0%|          | 0/10000 [00:00<?, ?it/s]"
      ]
     },
     "metadata": {},
     "output_type": "display_data"
    },
    {
     "name": "stdout",
     "output_type": "stream",
     "text": [
      "gld_params: [0.05459219 0.01566152 0.36243929 0.12561637]\n",
      "wrapper([ 5.000e-01  5.000e-01 ...  5.000e-01  5.000e-01]) = -9.568881578793422e-05\n",
      "assembly_constraint_no_mean([ 5.000e-01  5.000e-01 ...  5.000e-01  5.000e-01]) = [-2.326e+00 -2.326e+00 ... -3.183e+00 -2.326e+00]\n"
     ]
    },
    {
     "data": {
      "application/vnd.jupyter.widget-view+json": {
       "model_id": "c02c16c7a75c488ba8df2db614d44140",
       "version_major": 2,
       "version_minor": 0
      },
      "text/plain": [
       "  0%|          | 0/10000 [00:00<?, ?it/s]"
      ]
     },
     "metadata": {},
     "output_type": "display_data"
    },
    {
     "name": "stdout",
     "output_type": "stream",
     "text": [
      "gld_params: [0.05565207 0.01522587 0.35743448 0.11820761]\n",
      "wrapper([ 5.000e-01  5.000e-01 ...  5.000e-01  5.000e-01]) = -8.166098795819532e-05\n",
      "assembly_constraint_no_mean([ 5.000e-01  5.000e-01 ...  5.000e-01  5.000e-01]) = [-2.326e+00 -2.326e+00 ... -3.183e+00 -2.326e+00]\n"
     ]
    },
    {
     "data": {
      "application/vnd.jupyter.widget-view+json": {
       "model_id": "1ca843292a1947b6b23cbc783c6d0d9f",
       "version_major": 2,
       "version_minor": 0
      },
      "text/plain": [
       "  0%|          | 0/10000 [00:00<?, ?it/s]"
      ]
     },
     "metadata": {},
     "output_type": "display_data"
    },
    {
     "name": "stdout",
     "output_type": "stream",
     "text": [
      "gld_params: [0.05575237 0.0152934  0.35251605 0.12107724]\n",
      "wrapper([ 5.000e-01  5.000e-01 ...  5.000e-01  5.000e-01]) = -7.730247398936547e-05\n",
      "assembly_constraint_no_mean([ 5.000e-01  5.000e-01 ...  5.000e-01  5.000e-01]) = [-2.326e+00 -2.326e+00 ... -3.183e+00 -2.326e+00]\n"
     ]
    },
    {
     "data": {
      "application/vnd.jupyter.widget-view+json": {
       "model_id": "df551ec842ab48de92a29625836d9619",
       "version_major": 2,
       "version_minor": 0
      },
      "text/plain": [
       "  0%|          | 0/10000 [00:00<?, ?it/s]"
      ]
     },
     "metadata": {},
     "output_type": "display_data"
    },
    {
     "name": "stdout",
     "output_type": "stream",
     "text": [
      "gld_params: [0.05462602 0.01559668 0.36054627 0.12375613]\n",
      "wrapper([ 5.000e-01  5.000e-01 ...  5.000e-01  5.000e-01]) = -0.00010696331036034356\n",
      "assembly_constraint_no_mean([ 5.000e-01  5.000e-01 ...  5.000e-01  5.000e-01]) = [-2.326e+00 -2.326e+00 ... -2.326e+00 -3.183e+00]\n"
     ]
    },
    {
     "data": {
      "application/vnd.jupyter.widget-view+json": {
       "model_id": "194ca10eb8524080953e1363d2b321f5",
       "version_major": 2,
       "version_minor": 0
      },
      "text/plain": [
       "  0%|          | 0/10000 [00:00<?, ?it/s]"
      ]
     },
     "metadata": {},
     "output_type": "display_data"
    },
    {
     "name": "stdout",
     "output_type": "stream",
     "text": [
      "gld_params: [0.05462287 0.01568963 0.36167616 0.12716537]\n",
      "wrapper([ 5.000e-01  5.000e-01 ...  5.000e-01  5.000e-01]) = -9.032255688578299e-05\n",
      "assembly_constraint_no_mean([ 5.000e-01  5.000e-01 ...  5.000e-01  5.000e-01]) = [-2.326e+00 -2.326e+00 ... -2.326e+00 -3.183e+00]\n"
     ]
    },
    {
     "data": {
      "application/vnd.jupyter.widget-view+json": {
       "model_id": "a05b429475eb42de9091ffc1cc264a2a",
       "version_major": 2,
       "version_minor": 0
      },
      "text/plain": [
       "  0%|          | 0/10000 [00:00<?, ?it/s]"
      ]
     },
     "metadata": {},
     "output_type": "display_data"
    },
    {
     "name": "stdout",
     "output_type": "stream",
     "text": [
      "gld_params: [0.05568656 0.01540855 0.35702488 0.12467484]\n",
      "wrapper([ 5.000e-01  5.000e-01 ...  0.000e+00  5.000e-01]) = -6.277362703803806e-05\n",
      "assembly_constraint_no_mean([ 5.000e-01  5.000e-01 ...  0.000e+00  5.000e-01]) = [-2.326e+00 -2.326e+00 ... -2.326e+00 -3.183e+00]\n"
     ]
    },
    {
     "data": {
      "application/vnd.jupyter.widget-view+json": {
       "model_id": "951bc2f633004650b938f153cb5a0571",
       "version_major": 2,
       "version_minor": 0
      },
      "text/plain": [
       "  0%|          | 0/10000 [00:00<?, ?it/s]"
      ]
     },
     "metadata": {},
     "output_type": "display_data"
    },
    {
     "name": "stdout",
     "output_type": "stream",
     "text": [
      "gld_params: [0.05575661 0.0154287  0.35316983 0.12612898]\n",
      "wrapper([ 5.000e-01  5.000e-01 ...  5.000e-01  0.000e+00]) = -6.277362703803806e-05\n",
      "assembly_constraint_no_mean([ 5.000e-01  5.000e-01 ...  5.000e-01  0.000e+00]) = [-2.326e+00 -2.326e+00 ... -2.326e+00 -3.183e+00]\n"
     ]
    },
    {
     "data": {
      "application/vnd.jupyter.widget-view+json": {
       "model_id": "72cc89c0a349446bb4811430f0293d3f",
       "version_major": 2,
       "version_minor": 0
      },
      "text/plain": [
       "  0%|          | 0/10000 [00:00<?, ?it/s]"
      ]
     },
     "metadata": {},
     "output_type": "display_data"
    },
    {
     "name": "stdout",
     "output_type": "stream",
     "text": [
      "gld_params: [0.04826893 0.01810461 0.35476508 0.11731774]\n",
      "wrapper([ 5.740e-01  5.772e-01 ...  6.627e-01  6.518e-01]) = -0.0034963642067657188\n",
      "assembly_constraint_no_mean([ 5.740e-01  5.772e-01 ...  6.627e-01  6.518e-01]) = [-5.204e-01  3.865e-01 ... -5.635e-01 -5.249e-01]\n"
     ]
    },
    {
     "data": {
      "application/vnd.jupyter.widget-view+json": {
       "model_id": "e0995fa49cd34660a1fb034ccdf5bc61",
       "version_major": 2,
       "version_minor": 0
      },
      "text/plain": [
       "  0%|          | 0/10000 [00:00<?, ?it/s]"
      ]
     },
     "metadata": {},
     "output_type": "display_data"
    },
    {
     "name": "stdout",
     "output_type": "stream",
     "text": [
      "gld_params: [0.04467696 0.02040128 0.34903666 0.12131167]\n",
      "wrapper([ 4.694e-01  4.808e-01 ...  8.384e-01  7.895e-01]) = -0.01310426888112536\n",
      "assembly_constraint_no_mean([ 4.694e-01  4.808e-01 ...  8.384e-01  7.895e-01]) = [ 2.135e-01  4.489e-02 ...  1.898e-01  2.219e-01]\n"
     ]
    },
    {
     "data": {
      "application/vnd.jupyter.widget-view+json": {
       "model_id": "4e941e78753547b3a70462bc9ed7407d",
       "version_major": 2,
       "version_minor": 0
      },
      "text/plain": [
       "  0%|          | 0/10000 [00:00<?, ?it/s]"
      ]
     },
     "metadata": {},
     "output_type": "display_data"
    },
    {
     "name": "stdout",
     "output_type": "stream",
     "text": [
      "gld_params: [0.04247907 0.02288819 0.34901883 0.13112452]\n",
      "wrapper([ 2.622e-01  2.841e-01 ...  9.820e-01  8.832e-01]) = -0.027485304991546968\n",
      "assembly_constraint_no_mean([ 2.622e-01  2.841e-01 ...  9.820e-01  8.832e-01]) = [ 3.925e-01  2.271e-01 ...  4.735e-01  4.941e-01]\n"
     ]
    },
    {
     "data": {
      "application/vnd.jupyter.widget-view+json": {
       "model_id": "8f6a9036a66f4156af6d067eb0bac58a",
       "version_major": 2,
       "version_minor": 0
      },
      "text/plain": [
       "  0%|          | 0/10000 [00:00<?, ?it/s]"
      ]
     },
     "metadata": {},
     "output_type": "display_data"
    },
    {
     "name": "stdout",
     "output_type": "stream",
     "text": [
      "gld_params: [0.0423344  0.02089931 0.35085646 0.12011967]\n",
      "wrapper([ 5.997e-01  6.096e-01 ...  1.000e+00  8.476e-01]) = -0.01968960201900106\n",
      "assembly_constraint_no_mean([ 5.997e-01  6.096e-01 ...  1.000e+00  8.476e-01]) = [ 1.393e+00  7.693e-02 ...  1.278e+00  1.921e+00]\n"
     ]
    },
    {
     "data": {
      "application/vnd.jupyter.widget-view+json": {
       "model_id": "6923453a2031469ca6e34d59f169be88",
       "version_major": 2,
       "version_minor": 0
      },
      "text/plain": [
       "  0%|          | 0/10000 [00:00<?, ?it/s]"
      ]
     },
     "metadata": {},
     "output_type": "display_data"
    },
    {
     "name": "stdout",
     "output_type": "stream",
     "text": [
      "gld_params: [0.04387132 0.02132421 0.34724032 0.12501297]\n",
      "wrapper([ 4.301e-01  4.447e-01 ...  9.637e-01  7.692e-01]) = -0.017904682398086826\n",
      "assembly_constraint_no_mean([ 4.301e-01  4.447e-01 ...  9.637e-01  7.692e-01]) = [ 1.707e-01  3.484e-01 ...  1.815e-01  4.029e-01]\n"
     ]
    },
    {
     "data": {
      "application/vnd.jupyter.widget-view+json": {
       "model_id": "db610fa1766c4a6db66efe97a8de8ca6",
       "version_major": 2,
       "version_minor": 0
      },
      "text/plain": [
       "  0%|          | 0/10000 [00:00<?, ?it/s]"
      ]
     },
     "metadata": {},
     "output_type": "display_data"
    },
    {
     "name": "stdout",
     "output_type": "stream",
     "text": [
      "gld_params: [0.04508676 0.02014782 0.34769834 0.12303909]\n",
      "wrapper([ 5.099e-01  5.208e-01 ...  5.054e-01  6.237e-01]) = -0.011476812905798564\n",
      "assembly_constraint_no_mean([ 5.099e-01  5.208e-01 ...  5.054e-01  6.237e-01]) = [ 4.671e-01 -2.668e-01 ...  1.622e+00 -2.045e+00]\n"
     ]
    },
    {
     "data": {
      "application/vnd.jupyter.widget-view+json": {
       "model_id": "c7d588674d1f436a9b3eb41a2d3a7a7a",
       "version_major": 2,
       "version_minor": 0
      },
      "text/plain": [
       "  0%|          | 0/10000 [00:00<?, ?it/s]"
      ]
     },
     "metadata": {},
     "output_type": "display_data"
    },
    {
     "name": "stdout",
     "output_type": "stream",
     "text": [
      "gld_params: [0.04395188 0.02145138 0.34782912 0.126417  ]\n",
      "wrapper([ 3.563e-01  3.730e-01 ...  8.577e-01  8.341e-01]) = -0.01796052108518045\n",
      "assembly_constraint_no_mean([ 3.563e-01  3.730e-01 ...  8.577e-01  8.341e-01]) = [ 8.814e-02 -3.959e-02 ...  1.494e-01  5.155e-02]\n"
     ]
    },
    {
     "data": {
      "application/vnd.jupyter.widget-view+json": {
       "model_id": "fa01e8b2c7fd49f4be5caa1f1e864ebf",
       "version_major": 2,
       "version_minor": 0
      },
      "text/plain": [
       "  0%|          | 0/10000 [00:00<?, ?it/s]"
      ]
     },
     "metadata": {},
     "output_type": "display_data"
    },
    {
     "name": "stdout",
     "output_type": "stream",
     "text": [
      "gld_params: [0.04294015 0.02305581 0.35059982 0.13389864]\n",
      "wrapper([ 2.043e-01  2.272e-01 ...  9.629e-01  8.979e-01]) = -0.026202429010588262\n",
      "assembly_constraint_no_mean([ 2.043e-01  2.272e-01 ...  9.629e-01  8.979e-01]) = [ 1.517e-01  3.591e-01 ...  1.444e-01  2.821e-01]\n"
     ]
    },
    {
     "data": {
      "application/vnd.jupyter.widget-view+json": {
       "model_id": "3919b193cb874ebdac2f6e273f23e069",
       "version_major": 2,
       "version_minor": 0
      },
      "text/plain": [
       "  0%|          | 0/10000 [00:00<?, ?it/s]"
      ]
     },
     "metadata": {},
     "output_type": "display_data"
    },
    {
     "name": "stdout",
     "output_type": "stream",
     "text": [
      "gld_params: [0.04397942 0.02139071 0.34430448 0.12410464]\n",
      "wrapper([ 3.267e-01  3.416e-01 ...  6.359e-01  9.723e-01]) = -0.018542111038855117\n",
      "assembly_constraint_no_mean([ 3.267e-01  3.416e-01 ...  6.359e-01  9.723e-01]) = [ 7.913e-02  1.759e+00 ... -3.610e-01  2.977e-01]\n"
     ]
    },
    {
     "data": {
      "application/vnd.jupyter.widget-view+json": {
       "model_id": "146817fa05114bbba6da21c1e528d0da",
       "version_major": 2,
       "version_minor": 0
      },
      "text/plain": [
       "  0%|          | 0/10000 [00:00<?, ?it/s]"
      ]
     },
     "metadata": {},
     "output_type": "display_data"
    },
    {
     "name": "stdout",
     "output_type": "stream",
     "text": [
      "gld_params: [0.04333022 0.02246551 0.3483765  0.13132723]\n",
      "wrapper([ 2.664e-01  2.872e-01 ...  9.023e-01  8.384e-01]) = -0.023091538559483864\n",
      "assembly_constraint_no_mean([ 2.664e-01  2.872e-01 ...  9.023e-01  8.384e-01]) = [ 6.959e-02  6.516e-01 ... -5.530e-03  3.625e-02]\n"
     ]
    },
    {
     "data": {
      "application/vnd.jupyter.widget-view+json": {
       "model_id": "fa77a7366fd441dfb0c4ea94bbc234ff",
       "version_major": 2,
       "version_minor": 0
      },
      "text/plain": [
       "  0%|          | 0/10000 [00:00<?, ?it/s]"
      ]
     },
     "metadata": {},
     "output_type": "display_data"
    },
    {
     "name": "stdout",
     "output_type": "stream",
     "text": [
      "gld_params: [0.04441928 0.02139739 0.3417115  0.1237709 ]\n",
      "wrapper([ 3.613e-01  3.792e-01 ...  7.432e-01  7.205e-01]) = -0.018071889362798577\n",
      "assembly_constraint_no_mean([ 3.613e-01  3.792e-01 ...  7.432e-01  7.205e-01]) = [ 8.489e-01  1.601e+00 ...  8.309e-01 -6.270e-01]\n"
     ]
    },
    {
     "data": {
      "application/vnd.jupyter.widget-view+json": {
       "model_id": "77fec5347516419ab940772053be6d55",
       "version_major": 2,
       "version_minor": 0
      },
      "text/plain": [
       "  0%|          | 0/10000 [00:00<?, ?it/s]"
      ]
     },
     "metadata": {},
     "output_type": "display_data"
    },
    {
     "name": "stdout",
     "output_type": "stream",
     "text": [
      "gld_params: [0.04334822 0.02244251 0.347578   0.13112239]\n",
      "wrapper([ 2.422e-01  2.621e-01 ...  8.974e-01  8.365e-01]) = -0.02310863527066377\n",
      "assembly_constraint_no_mean([ 2.422e-01  2.621e-01 ...  8.974e-01  8.365e-01]) = [ 3.153e-01  5.814e-01 ...  1.102e-01  4.031e-02]\n"
     ]
    },
    {
     "data": {
      "application/vnd.jupyter.widget-view+json": {
       "model_id": "2b457c97885e49289a5e26160a5ce23e",
       "version_major": 2,
       "version_minor": 0
      },
      "text/plain": [
       "  0%|          | 0/10000 [00:00<?, ?it/s]"
      ]
     },
     "metadata": {},
     "output_type": "display_data"
    },
    {
     "name": "stdout",
     "output_type": "stream",
     "text": [
      "gld_params: [0.04458878 0.02117183 0.34405985 0.12495626]\n",
      "wrapper([ 3.108e-01  3.253e-01 ...  7.008e-01  7.808e-01]) = -0.016271223065374946\n",
      "assembly_constraint_no_mean([ 3.108e-01  3.253e-01 ...  7.008e-01  7.808e-01]) = [-2.104e+00  1.335e+00 ...  1.626e-01 -4.516e-01]\n"
     ]
    },
    {
     "data": {
      "application/vnd.jupyter.widget-view+json": {
       "model_id": "42d0ed536cc84adebef751ecf810e50b",
       "version_major": 2,
       "version_minor": 0
      },
      "text/plain": [
       "  0%|          | 0/10000 [00:00<?, ?it/s]"
      ]
     },
     "metadata": {},
     "output_type": "display_data"
    },
    {
     "name": "stdout",
     "output_type": "stream",
     "text": [
      "gld_params: [0.04341384 0.02251156 0.34782059 0.13155619]\n",
      "wrapper([ 2.839e-01  3.050e-01 ...  9.247e-01  8.079e-01]) = -0.023156052412276685\n",
      "assembly_constraint_no_mean([ 2.839e-01  3.050e-01 ...  9.247e-01  8.079e-01]) = [ 1.598e-03  2.292e-01 ...  1.807e-01  8.113e-02]\n"
     ]
    },
    {
     "data": {
      "application/vnd.jupyter.widget-view+json": {
       "model_id": "504e27842bd848c093a572148c2603a1",
       "version_major": 2,
       "version_minor": 0
      },
      "text/plain": [
       "  0%|          | 0/10000 [00:00<?, ?it/s]"
      ]
     },
     "metadata": {},
     "output_type": "display_data"
    },
    {
     "name": "stdout",
     "output_type": "stream",
     "text": [
      "gld_params: [0.04448688 0.02131924 0.34499785 0.12486965]\n",
      "wrapper([ 3.708e-01  3.871e-01 ...  6.571e-01  8.172e-01]) = -0.016965628591699033\n",
      "assembly_constraint_no_mean([ 3.708e-01  3.871e-01 ...  6.571e-01  8.172e-01]) = [ 2.523e-01  1.374e+00 ... -3.209e-01 -2.893e-01]\n"
     ]
    },
    {
     "data": {
      "application/vnd.jupyter.widget-view+json": {
       "model_id": "48d69736e8854e9e974e94978943cf61",
       "version_major": 2,
       "version_minor": 0
      },
      "text/plain": [
       "  0%|          | 0/10000 [00:00<?, ?it/s]"
      ]
     },
     "metadata": {},
     "output_type": "display_data"
    },
    {
     "name": "stdout",
     "output_type": "stream",
     "text": [
      "gld_params: [0.04334401 0.02248897 0.34815056 0.13033604]\n",
      "wrapper([ 2.504e-01  2.740e-01 ...  9.300e-01  8.264e-01]) = -0.023400203342429968\n",
      "assembly_constraint_no_mean([ 2.504e-01  2.740e-01 ...  9.300e-01  8.264e-01]) = [ 8.552e-02  2.550e-01 ...  1.283e-01  1.316e-01]\n"
     ]
    },
    {
     "data": {
      "application/vnd.jupyter.widget-view+json": {
       "model_id": "41eaee9eacc54e5dbbcfb81078fc1c61",
       "version_major": 2,
       "version_minor": 0
      },
      "text/plain": [
       "  0%|          | 0/10000 [00:00<?, ?it/s]"
      ]
     },
     "metadata": {},
     "output_type": "display_data"
    },
    {
     "name": "stdout",
     "output_type": "stream",
     "text": [
      "gld_params: [0.04415304 0.02148486 0.34495113 0.12546086]\n",
      "wrapper([ 3.305e-01  3.506e-01 ...  6.782e-01  8.244e-01]) = -0.018257100586738777\n",
      "assembly_constraint_no_mean([ 3.305e-01  3.506e-01 ...  6.782e-01  8.244e-01]) = [ 4.127e-01  1.369e+00 ... -5.047e-02 -2.718e-01]\n"
     ]
    },
    {
     "data": {
      "application/vnd.jupyter.widget-view+json": {
       "model_id": "9e9114490b17499c816db053a39c0908",
       "version_major": 2,
       "version_minor": 0
      },
      "text/plain": [
       "  0%|          | 0/10000 [00:00<?, ?it/s]"
      ]
     },
     "metadata": {},
     "output_type": "display_data"
    },
    {
     "name": "stdout",
     "output_type": "stream",
     "text": [
      "gld_params: [0.04333789 0.02245544 0.34867862 0.1296862 ]\n",
      "wrapper([ 2.783e-01  2.989e-01 ...  9.265e-01  8.561e-01]) = -0.023284777103868882\n",
      "assembly_constraint_no_mean([ 2.783e-01  2.989e-01 ...  9.265e-01  8.561e-01]) = [ 9.237e-02  2.683e-01 ...  9.196e-02  1.260e-01]\n"
     ]
    },
    {
     "data": {
      "application/vnd.jupyter.widget-view+json": {
       "model_id": "7d24dedfe7a74a9dbe6016e5c3b6c380",
       "version_major": 2,
       "version_minor": 0
      },
      "text/plain": [
       "  0%|          | 0/10000 [00:00<?, ?it/s]"
      ]
     },
     "metadata": {},
     "output_type": "display_data"
    },
    {
     "name": "stdout",
     "output_type": "stream",
     "text": [
      "gld_params: [0.04358739 0.02144389 0.3459496  0.12165315]\n",
      "wrapper([ 3.863e-01  4.053e-01 ...  8.149e-01  7.808e-01]) = -0.01982280867999463\n",
      "assembly_constraint_no_mean([ 3.863e-01  4.053e-01 ...  8.149e-01  7.808e-01]) = [ 5.410e-01 -3.030e-01 ...  3.462e-01  4.074e-01]\n"
     ]
    },
    {
     "data": {
      "application/vnd.jupyter.widget-view+json": {
       "model_id": "86c51cec71b94e628c404d8ca2f1d70b",
       "version_major": 2,
       "version_minor": 0
      },
      "text/plain": [
       "  0%|          | 0/10000 [00:00<?, ?it/s]"
      ]
     },
     "metadata": {},
     "output_type": "display_data"
    },
    {
     "name": "stdout",
     "output_type": "stream",
     "text": [
      "gld_params: [0.04330293 0.02241082 0.34925867 0.12951418]\n",
      "wrapper([ 2.396e-01  2.616e-01 ...  9.246e-01  8.609e-01]) = -0.023088467825301284\n",
      "assembly_constraint_no_mean([ 2.396e-01  2.616e-01 ...  9.246e-01  8.609e-01]) = [ 1.474e-01  4.744e-01 ...  4.263e-02  1.265e-01]\n"
     ]
    },
    {
     "data": {
      "application/vnd.jupyter.widget-view+json": {
       "model_id": "f614e59ab587404992232e926605195e",
       "version_major": 2,
       "version_minor": 0
      },
      "text/plain": [
       "  0%|          | 0/10000 [00:00<?, ?it/s]"
      ]
     },
     "metadata": {},
     "output_type": "display_data"
    },
    {
     "name": "stdout",
     "output_type": "stream",
     "text": [
      "gld_params: [0.04340778 0.02162297 0.34795393 0.12542804]\n",
      "wrapper([ 3.275e-01  3.454e-01 ...  9.235e-01  8.816e-01]) = -0.02007118014298336\n",
      "assembly_constraint_no_mean([ 3.275e-01  3.454e-01 ...  9.235e-01  8.816e-01]) = [-1.467e-01  6.833e-01 ...  2.029e-01  9.442e-01]\n"
     ]
    },
    {
     "data": {
      "application/vnd.jupyter.widget-view+json": {
       "model_id": "6e266bcad226432eb9e9cee1868556fd",
       "version_major": 2,
       "version_minor": 0
      },
      "text/plain": [
       "  0%|          | 0/10000 [00:00<?, ?it/s]"
      ]
     },
     "metadata": {},
     "output_type": "display_data"
    },
    {
     "name": "stdout",
     "output_type": "stream",
     "text": [
      "gld_params: [0.04335773 0.02249139 0.3488105  0.1308407 ]\n",
      "wrapper([ 2.413e-01  2.644e-01 ...  9.424e-01  8.274e-01]) = -0.02316720974124035\n",
      "assembly_constraint_no_mean([ 2.413e-01  2.644e-01 ...  9.424e-01  8.274e-01]) = [ 8.614e-02  2.520e-01 ...  8.245e-02  1.238e-01]\n"
     ]
    },
    {
     "data": {
      "application/vnd.jupyter.widget-view+json": {
       "model_id": "51ec547a27944a64a23045ca828c493e",
       "version_major": 2,
       "version_minor": 0
      },
      "text/plain": [
       "  0%|          | 0/10000 [00:00<?, ?it/s]"
      ]
     },
     "metadata": {},
     "output_type": "display_data"
    },
    {
     "name": "stdout",
     "output_type": "stream",
     "text": [
      "gld_params: [0.04339163 0.02165262 0.34821563 0.12598785]\n",
      "wrapper([ 3.337e-01  3.504e-01 ...  9.111e-01  8.961e-01]) = -0.020103781978901756\n",
      "assembly_constraint_no_mean([ 3.337e-01  3.504e-01 ...  9.111e-01  8.961e-01]) = [-9.127e-02  6.816e-01 ...  2.087e-01  9.201e-01]\n"
     ]
    },
    {
     "data": {
      "application/vnd.jupyter.widget-view+json": {
       "model_id": "60deb35e4fa44806b16f75adbbf0a44e",
       "version_major": 2,
       "version_minor": 0
      },
      "text/plain": [
       "  0%|          | 0/10000 [00:00<?, ?it/s]"
      ]
     },
     "metadata": {},
     "output_type": "display_data"
    },
    {
     "name": "stdout",
     "output_type": "stream",
     "text": [
      "gld_params: [0.04328964 0.02254099 0.34921096 0.13269967]\n",
      "wrapper([ 2.337e-01  2.515e-01 ...  8.564e-01  9.134e-01]) = -0.023159120169586652\n",
      "assembly_constraint_no_mean([ 2.337e-01  2.515e-01 ...  8.564e-01  9.134e-01]) = [ 9.402e-02  3.046e-01 ...  6.995e-02  1.484e-01]\n"
     ]
    },
    {
     "data": {
      "application/vnd.jupyter.widget-view+json": {
       "model_id": "b04baaba8ba644d6a6007b4e67f9b3fd",
       "version_major": 2,
       "version_minor": 0
      },
      "text/plain": [
       "  0%|          | 0/10000 [00:00<?, ?it/s]"
      ]
     },
     "metadata": {},
     "output_type": "display_data"
    },
    {
     "name": "stdout",
     "output_type": "stream",
     "text": [
      "gld_params: [0.04374058 0.02153349 0.34697731 0.12454102]\n",
      "wrapper([ 7.674e-01  2.996e-01 ...  7.983e-01  8.664e-01]) = -0.019226042692690824\n",
      "assembly_constraint_no_mean([ 7.674e-01  2.996e-01 ...  7.983e-01  8.664e-01]) = [ 1.342e+00  4.153e-01 ... -3.931e-02  1.758e-01]\n"
     ]
    },
    {
     "data": {
      "application/vnd.jupyter.widget-view+json": {
       "model_id": "b1f45fc5bc7a4034a3ac3910ef6b4b37",
       "version_major": 2,
       "version_minor": 0
      },
      "text/plain": [
       "  0%|          | 0/10000 [00:00<?, ?it/s]"
      ]
     },
     "metadata": {},
     "output_type": "display_data"
    },
    {
     "name": "stdout",
     "output_type": "stream",
     "text": [
      "gld_params: [0.04333526 0.02251535 0.34884495 0.13175143]\n",
      "wrapper([ 3.157e-01  2.075e-01 ...  9.017e-01  8.668e-01]) = -0.023161610726275084\n",
      "assembly_constraint_no_mean([ 3.157e-01  2.075e-01 ...  9.017e-01  8.668e-01]) = [ 1.462e-01  2.785e-01 ...  6.959e-02  7.479e-02]\n"
     ]
    },
    {
     "data": {
      "application/vnd.jupyter.widget-view+json": {
       "model_id": "4e0fe81540df49789639c8cc237cbda2",
       "version_major": 2,
       "version_minor": 0
      },
      "text/plain": [
       "  0%|          | 0/10000 [00:00<?, ?it/s]"
      ]
     },
     "metadata": {},
     "output_type": "display_data"
    },
    {
     "name": "stdout",
     "output_type": "stream",
     "text": [
      "gld_params: [0.04371138 0.02155183 0.34695325 0.12519852]\n",
      "wrapper([ 2.793e-01  3.106e-01 ...  8.108e-01  8.652e-01]) = -0.019260708574489405\n",
      "assembly_constraint_no_mean([ 2.793e-01  3.106e-01 ...  8.108e-01  8.652e-01]) = [ 6.188e-02  3.863e-01 ... -4.293e-02  2.316e-01]\n"
     ]
    },
    {
     "data": {
      "application/vnd.jupyter.widget-view+json": {
       "model_id": "a9195dae4ada4d7f89bdbc2f21b89d19",
       "version_major": 2,
       "version_minor": 0
      },
      "text/plain": [
       "  0%|          | 0/10000 [00:00<?, ?it/s]"
      ]
     },
     "metadata": {},
     "output_type": "display_data"
    },
    {
     "name": "stdout",
     "output_type": "stream",
     "text": [
      "gld_params: [0.04329722 0.02253783 0.34935489 0.13213702]\n",
      "wrapper([ 2.714e-01  2.904e-01 ...  8.710e-01  8.914e-01]) = -0.02320738806249311\n",
      "assembly_constraint_no_mean([ 2.714e-01  2.904e-01 ...  8.710e-01  8.914e-01]) = [ 1.171e-01  2.690e-01 ...  4.065e-02  4.772e-02]\n"
     ]
    },
    {
     "data": {
      "application/vnd.jupyter.widget-view+json": {
       "model_id": "d5b5ad2574df4c75a867f3f235ea999e",
       "version_major": 2,
       "version_minor": 0
      },
      "text/plain": [
       "  0%|          | 0/10000 [00:00<?, ?it/s]"
      ]
     },
     "metadata": {},
     "output_type": "display_data"
    },
    {
     "name": "stdout",
     "output_type": "stream",
     "text": [
      "gld_params: [0.04372664 0.0215053  0.34718538 0.12372761]\n",
      "wrapper([ 2.684e-01  2.935e-01 ...  8.202e-01  8.521e-01]) = -0.019242203986252544\n",
      "assembly_constraint_no_mean([ 2.684e-01  2.935e-01 ...  8.202e-01  8.521e-01]) = [ 1.329e-01  3.843e-01 ... -7.715e-02  2.120e-01]\n"
     ]
    },
    {
     "data": {
      "application/vnd.jupyter.widget-view+json": {
       "model_id": "b7ef5895c25c443bb73e73e90d1074ae",
       "version_major": 2,
       "version_minor": 0
      },
      "text/plain": [
       "  0%|          | 0/10000 [00:00<?, ?it/s]"
      ]
     },
     "metadata": {},
     "output_type": "display_data"
    },
    {
     "name": "stdout",
     "output_type": "stream",
     "text": [
      "gld_params: [0.04333219 0.02254619 0.34921901 0.13206955]\n",
      "wrapper([ 2.325e-01  2.502e-01 ...  8.809e-01  8.736e-01]) = -0.023195441442997528\n",
      "assembly_constraint_no_mean([ 2.325e-01  2.502e-01 ...  8.809e-01  8.736e-01]) = [ 1.119e-01  2.502e-01 ...  5.584e-02  2.003e-02]\n"
     ]
    },
    {
     "data": {
      "application/vnd.jupyter.widget-view+json": {
       "model_id": "cb87ef73a650422fa0faa9a3af96580a",
       "version_major": 2,
       "version_minor": 0
      },
      "text/plain": [
       "  0%|          | 0/10000 [00:00<?, ?it/s]"
      ]
     },
     "metadata": {},
     "output_type": "display_data"
    },
    {
     "name": "stdout",
     "output_type": "stream",
     "text": [
      "gld_params: [0.04366972 0.02154396 0.34726695 0.12406816]\n",
      "wrapper([ 2.881e-01  8.011e-01 ...  8.122e-01  8.492e-01]) = -0.019469113030039\n",
      "assembly_constraint_no_mean([ 2.881e-01  8.011e-01 ...  8.122e-01  8.492e-01]) = [ 1.689e+00  5.530e-01 ... -3.382e-01  1.033e-02]\n"
     ]
    },
    {
     "data": {
      "application/vnd.jupyter.widget-view+json": {
       "model_id": "4fd424089f084dbfacd7afd667a3cfa3",
       "version_major": 2,
       "version_minor": 0
      },
      "text/plain": [
       "  0%|          | 0/10000 [00:00<?, ?it/s]"
      ]
     },
     "metadata": {},
     "output_type": "display_data"
    },
    {
     "name": "stdout",
     "output_type": "stream",
     "text": [
      "gld_params: [0.043316   0.02253636 0.34922143 0.13171407]\n",
      "wrapper([ 2.305e-01  3.017e-01 ...  8.542e-01  8.874e-01]) = -0.023256264840062227\n",
      "assembly_constraint_no_mean([ 2.305e-01  3.017e-01 ...  8.542e-01  8.874e-01]) = [ 1.443e-01  2.816e-01 ...  8.244e-02  8.800e-03]\n"
     ]
    },
    {
     "data": {
      "application/vnd.jupyter.widget-view+json": {
       "model_id": "6d4dc6959dce48fd9f715f8e65034875",
       "version_major": 2,
       "version_minor": 0
      },
      "text/plain": [
       "  0%|          | 0/10000 [00:00<?, ?it/s]"
      ]
     },
     "metadata": {},
     "output_type": "display_data"
    },
    {
     "name": "stdout",
     "output_type": "stream",
     "text": [
      "gld_params: [0.04346226 0.02162895 0.34734451 0.12594879]\n",
      "wrapper([ 3.337e-01  3.491e-01 ...  9.498e-01  8.504e-01]) = -0.019974893232069788\n",
      "assembly_constraint_no_mean([ 3.337e-01  3.491e-01 ...  9.498e-01  8.504e-01]) = [ 1.765e-01  7.697e-01 ... -1.466e-01  7.674e-01]\n"
     ]
    },
    {
     "data": {
      "application/vnd.jupyter.widget-view+json": {
       "model_id": "cc5e40a874a046d59c279855ea0e6f8b",
       "version_major": 2,
       "version_minor": 0
      },
      "text/plain": [
       "  0%|          | 0/10000 [00:00<?, ?it/s]"
      ]
     },
     "metadata": {},
     "output_type": "display_data"
    },
    {
     "name": "stdout",
     "output_type": "stream",
     "text": [
      "gld_params: [0.04329531 0.02256087 0.34899135 0.1326492 ]\n",
      "wrapper([ 2.374e-01  2.823e-01 ...  9.250e-01  8.603e-01]) = -0.023289795280909943\n",
      "assembly_constraint_no_mean([ 2.374e-01  2.823e-01 ...  9.250e-01  8.603e-01]) = [ 1.030e-01  2.914e-01 ...  7.854e-02  1.006e-01]\n"
     ]
    },
    {
     "data": {
      "application/vnd.jupyter.widget-view+json": {
       "model_id": "41f5a168d4c24609a510ed736f2f4b47",
       "version_major": 2,
       "version_minor": 0
      },
      "text/plain": [
       "  0%|          | 0/10000 [00:00<?, ?it/s]"
      ]
     },
     "metadata": {},
     "output_type": "display_data"
    },
    {
     "name": "stdout",
     "output_type": "stream",
     "text": [
      "gld_params: [0.04382309 0.02160415 0.34768129 0.1286665 ]\n",
      "wrapper([ 3.757e-01  3.742e-01 ...  8.362e-01  8.195e-01]) = -0.018534374045478544\n",
      "assembly_constraint_no_mean([ 3.757e-01  3.742e-01 ...  8.362e-01  8.195e-01]) = [ 2.207e-01  4.201e-01 ...  1.493e-01  5.028e-01]\n"
     ]
    },
    {
     "data": {
      "application/vnd.jupyter.widget-view+json": {
       "model_id": "975f440f244446c6966b0711d6e9c018",
       "version_major": 2,
       "version_minor": 0
      },
      "text/plain": [
       "  0%|          | 0/10000 [00:00<?, ?it/s]"
      ]
     },
     "metadata": {},
     "output_type": "display_data"
    },
    {
     "name": "stdout",
     "output_type": "stream",
     "text": [
      "gld_params: [0.04331501 0.02255456 0.3490372  0.1325419 ]\n",
      "wrapper([ 2.389e-01  2.660e-01 ...  9.211e-01  8.606e-01]) = -0.02322103716562782\n",
      "assembly_constraint_no_mean([ 2.389e-01  2.660e-01 ...  9.211e-01  8.606e-01]) = [ 8.090e-02  2.580e-01 ...  6.987e-02  1.039e-01]\n"
     ]
    },
    {
     "data": {
      "application/vnd.jupyter.widget-view+json": {
       "model_id": "6af37d5bc68640aa8b98d83cee4a7b3f",
       "version_major": 2,
       "version_minor": 0
      },
      "text/plain": [
       "  0%|          | 0/10000 [00:00<?, ?it/s]"
      ]
     },
     "metadata": {},
     "output_type": "display_data"
    },
    {
     "name": "stdout",
     "output_type": "stream",
     "text": [
      "gld_params: [0.04424246 0.02147497 0.34625701 0.1264065 ]\n",
      "wrapper([ 3.679e-01  3.330e-01 ...  8.735e-01  7.790e-01]) = -0.017681125421715176\n",
      "assembly_constraint_no_mean([ 3.679e-01  3.330e-01 ...  8.735e-01  7.790e-01]) = [ 2.450e-01  3.635e-01 ...  9.595e-01  2.613e-02]\n"
     ]
    },
    {
     "data": {
      "application/vnd.jupyter.widget-view+json": {
       "model_id": "e1536b84e1614b01a42f9f98be680658",
       "version_major": 2,
       "version_minor": 0
      },
      "text/plain": [
       "  0%|          | 0/10000 [00:00<?, ?it/s]"
      ]
     },
     "metadata": {},
     "output_type": "display_data"
    },
    {
     "name": "stdout",
     "output_type": "stream",
     "text": [
      "gld_params: [0.04331582 0.02255272 0.3489773  0.13269054]\n",
      "wrapper([ 2.378e-01  2.606e-01 ...  9.366e-01  8.459e-01]) = -0.023191795522063928\n",
      "assembly_constraint_no_mean([ 2.378e-01  2.606e-01 ...  9.366e-01  8.459e-01]) = [ 6.414e-02  1.746e-01 ...  1.540e-01  1.333e-01]\n"
     ]
    },
    {
     "data": {
      "application/vnd.jupyter.widget-view+json": {
       "model_id": "e64f977885784e84b451eff9a67dff4f",
       "version_major": 2,
       "version_minor": 0
      },
      "text/plain": [
       "  0%|          | 0/10000 [00:00<?, ?it/s]"
      ]
     },
     "metadata": {},
     "output_type": "display_data"
    },
    {
     "name": "stdout",
     "output_type": "stream",
     "text": [
      "gld_params: [0.04432306 0.02142267 0.348201   0.12831012]\n",
      "wrapper([ 3.996e-01  3.678e-01 ...  7.540e-01  7.624e-01]) = -0.016711341558561837\n",
      "assembly_constraint_no_mean([ 3.996e-01  3.678e-01 ...  7.540e-01  7.624e-01]) = [ 1.131e-01  1.252e-01 ...  4.309e-01 -9.252e-01]\n"
     ]
    },
    {
     "data": {
      "application/vnd.jupyter.widget-view+json": {
       "model_id": "3ceaff7b525b4132b9916b988f8bfc5e",
       "version_major": 2,
       "version_minor": 0
      },
      "text/plain": [
       "  0%|          | 0/10000 [00:00<?, ?it/s]"
      ]
     },
     "metadata": {},
     "output_type": "display_data"
    },
    {
     "name": "stdout",
     "output_type": "stream",
     "text": [
      "gld_params: [0.04330081 0.02256311 0.34910973 0.1325227 ]\n",
      "wrapper([ 2.474e-01  2.773e-01 ...  9.119e-01  8.688e-01]) = -0.023290569142962153\n",
      "assembly_constraint_no_mean([ 2.474e-01  2.773e-01 ...  9.119e-01  8.688e-01]) = [ 9.723e-02  2.577e-01 ...  7.496e-02  7.415e-02]\n"
     ]
    },
    {
     "data": {
      "application/vnd.jupyter.widget-view+json": {
       "model_id": "790342233fa3488f878243fa9a9cc402",
       "version_major": 2,
       "version_minor": 0
      },
      "text/plain": [
       "  0%|          | 0/10000 [00:00<?, ?it/s]"
      ]
     },
     "metadata": {},
     "output_type": "display_data"
    },
    {
     "name": "stdout",
     "output_type": "stream",
     "text": [
      "gld_params: [0.04429973 0.021426   0.34562251 0.12435531]\n",
      "wrapper([ 3.619e-01  0.000e+00 ...  8.781e-01  7.218e-01]) = -0.017790921947256528\n",
      "assembly_constraint_no_mean([ 3.619e-01  0.000e+00 ...  8.781e-01  7.218e-01]) = [ 3.416e-01  1.510e-01 ... -1.251e+00 -2.296e-01]\n"
     ]
    },
    {
     "data": {
      "application/vnd.jupyter.widget-view+json": {
       "model_id": "ef74e0bde1d940b1a07117979558da65",
       "version_major": 2,
       "version_minor": 0
      },
      "text/plain": [
       "  0%|          | 0/10000 [00:00<?, ?it/s]"
      ]
     },
     "metadata": {},
     "output_type": "display_data"
    },
    {
     "name": "stdout",
     "output_type": "stream",
     "text": [
      "gld_params: [0.04325987 0.0225421  0.34896429 0.13201071]\n",
      "wrapper([ 2.421e-01  2.746e-01 ...  9.260e-01  8.410e-01]) = -0.023415633369923812\n",
      "assembly_constraint_no_mean([ 2.421e-01  2.746e-01 ...  9.260e-01  8.410e-01]) = [ 1.725e-01  2.600e-01 ...  6.366e-02  5.643e-02]\n"
     ]
    },
    {
     "data": {
      "application/vnd.jupyter.widget-view+json": {
       "model_id": "ea4183e411be4ece826493725b30c588",
       "version_major": 2,
       "version_minor": 0
      },
      "text/plain": [
       "  0%|          | 0/10000 [00:00<?, ?it/s]"
      ]
     },
     "metadata": {},
     "output_type": "display_data"
    },
    {
     "name": "stdout",
     "output_type": "stream",
     "text": [
      "gld_params: [0.04413666 0.02144927 0.34742221 0.12671688]\n",
      "wrapper([ 3.720e-01  3.911e-01 ...  8.410e-01  8.720e-01]) = -0.01757700932443777\n",
      "assembly_constraint_no_mean([ 3.720e-01  3.911e-01 ...  8.410e-01  8.720e-01]) = [-2.259e-01  1.046e-01 ...  6.948e-01  1.287e-01]\n"
     ]
    },
    {
     "data": {
      "application/vnd.jupyter.widget-view+json": {
       "model_id": "a9b4cc9fe63b4609851d5294c3e9d5c1",
       "version_major": 2,
       "version_minor": 0
      },
      "text/plain": [
       "  0%|          | 0/10000 [00:00<?, ?it/s]"
      ]
     },
     "metadata": {},
     "output_type": "display_data"
    },
    {
     "name": "stdout",
     "output_type": "stream",
     "text": [
      "gld_params: [0.04329294 0.02257315 0.34900668 0.1326527 ]\n",
      "wrapper([ 2.415e-01  2.669e-01 ...  9.248e-01  8.597e-01]) = -0.023352945376039942\n",
      "assembly_constraint_no_mean([ 2.415e-01  2.669e-01 ...  9.248e-01  8.597e-01]) = [ 8.232e-02  2.390e-01 ...  9.902e-02  9.380e-02]\n"
     ]
    },
    {
     "data": {
      "application/vnd.jupyter.widget-view+json": {
       "model_id": "bfc7b7ca3193413ebe54edb4d1c5e451",
       "version_major": 2,
       "version_minor": 0
      },
      "text/plain": [
       "  0%|          | 0/10000 [00:00<?, ?it/s]"
      ]
     },
     "metadata": {},
     "output_type": "display_data"
    },
    {
     "name": "stdout",
     "output_type": "stream",
     "text": [
      "gld_params: [0.04341928 0.02170915 0.34677686 0.12657042]\n",
      "wrapper([ 4.078e-01  4.121e-01 ...  8.343e-01  7.791e-01]) = -0.020419500204002246\n",
      "assembly_constraint_no_mean([ 4.078e-01  4.121e-01 ...  8.343e-01  7.791e-01]) = [ 5.364e-01  1.045e+00 ...  1.093e-01 -9.807e-01]\n"
     ]
    },
    {
     "data": {
      "application/vnd.jupyter.widget-view+json": {
       "model_id": "61359d8005f9423989dc6ad617b25cec",
       "version_major": 2,
       "version_minor": 0
      },
      "text/plain": [
       "  0%|          | 0/10000 [00:00<?, ?it/s]"
      ]
     },
     "metadata": {},
     "output_type": "display_data"
    },
    {
     "name": "stdout",
     "output_type": "stream",
     "text": [
      "gld_params: [0.04328733 0.02257038 0.34891556 0.13251099]\n",
      "wrapper([ 2.439e-01  2.619e-01 ...  9.243e-01  8.616e-01]) = -0.023396641508682144\n",
      "assembly_constraint_no_mean([ 2.439e-01  2.619e-01 ...  9.243e-01  8.616e-01]) = [ 8.591e-02  2.825e-01 ...  7.942e-02  9.527e-02]\n"
     ]
    },
    {
     "data": {
      "application/vnd.jupyter.widget-view+json": {
       "model_id": "7208ed85826944e297c731ce08e504aa",
       "version_major": 2,
       "version_minor": 0
      },
      "text/plain": [
       "  0%|          | 0/10000 [00:00<?, ?it/s]"
      ]
     },
     "metadata": {},
     "output_type": "display_data"
    },
    {
     "name": "stdout",
     "output_type": "stream",
     "text": [
      "gld_params: [0.04402695 0.02150759 0.34631472 0.12512702]\n",
      "wrapper([ 3.891e-01  3.556e-01 ...  8.142e-01  7.444e-01]) = -0.018484089829751537\n",
      "assembly_constraint_no_mean([ 3.891e-01  3.556e-01 ...  8.142e-01  7.444e-01]) = [ 1.080e+00  1.909e-01 ... -5.393e-01 -5.556e-01]\n"
     ]
    },
    {
     "data": {
      "application/vnd.jupyter.widget-view+json": {
       "model_id": "f958553b844a41039846b17b46fdf4bb",
       "version_major": 2,
       "version_minor": 0
      },
      "text/plain": [
       "  0%|          | 0/10000 [00:00<?, ?it/s]"
      ]
     },
     "metadata": {},
     "output_type": "display_data"
    },
    {
     "name": "stdout",
     "output_type": "stream",
     "text": [
      "gld_params: [0.04327553 0.02256265 0.34889391 0.13230158]\n",
      "wrapper([ 2.461e-01  2.615e-01 ...  9.347e-01  8.503e-01]) = -0.023432894577856193\n",
      "assembly_constraint_no_mean([ 2.461e-01  2.615e-01 ...  9.347e-01  8.503e-01]) = [ 9.742e-02  2.696e-01 ...  7.912e-02  1.052e-01]\n"
     ]
    },
    {
     "data": {
      "application/vnd.jupyter.widget-view+json": {
       "model_id": "0a69c575d8cd48909ffab93233a696ef",
       "version_major": 2,
       "version_minor": 0
      },
      "text/plain": [
       "  0%|          | 0/10000 [00:00<?, ?it/s]"
      ]
     },
     "metadata": {},
     "output_type": "display_data"
    },
    {
     "name": "stdout",
     "output_type": "stream",
     "text": [
      "gld_params: [0.0442486  0.02135385 0.34726557 0.12477408]\n",
      "wrapper([ 3.724e-01  3.620e-01 ...  8.042e-01  6.961e-01]) = -0.01729333773699408\n",
      "assembly_constraint_no_mean([ 3.724e-01  3.620e-01 ...  8.042e-01  6.961e-01]) = [-1.145e+00  5.362e-02 ...  7.007e-01 -9.064e-01]\n"
     ]
    },
    {
     "data": {
      "application/vnd.jupyter.widget-view+json": {
       "model_id": "19c2ebe29dd04b93bb547d86bfe7bffa",
       "version_major": 2,
       "version_minor": 0
      },
      "text/plain": [
       "  0%|          | 0/10000 [00:00<?, ?it/s]"
      ]
     },
     "metadata": {},
     "output_type": "display_data"
    },
    {
     "name": "stdout",
     "output_type": "stream",
     "text": [
      "gld_params: [0.04327054 0.02256644 0.34922533 0.13234078]\n",
      "wrapper([ 2.518e-01  2.705e-01 ...  9.365e-01  8.496e-01]) = -0.023399581277031532\n",
      "assembly_constraint_no_mean([ 2.518e-01  2.705e-01 ...  9.365e-01  8.496e-01]) = [ 8.218e-02  2.399e-01 ...  8.750e-02  1.068e-01]\n"
     ]
    },
    {
     "data": {
      "application/vnd.jupyter.widget-view+json": {
       "model_id": "46ed10c72c6348a3abe1f954e9eadad8",
       "version_major": 2,
       "version_minor": 0
      },
      "text/plain": [
       "  0%|          | 0/10000 [00:00<?, ?it/s]"
      ]
     },
     "metadata": {},
     "output_type": "display_data"
    },
    {
     "name": "stdout",
     "output_type": "stream",
     "text": [
      "gld_params: [0.04406672 0.02139454 0.34631068 0.12365321]\n",
      "wrapper([ 3.316e-01  3.668e-01 ...  8.612e-01  6.498e-01]) = -0.01816235619013951\n",
      "assembly_constraint_no_mean([ 3.316e-01  3.668e-01 ...  8.612e-01  6.498e-01]) = [ 2.159e-02 -5.131e-02 ...  1.224e+00 -6.466e-01]\n"
     ]
    },
    {
     "data": {
      "application/vnd.jupyter.widget-view+json": {
       "model_id": "0679b89d5d734be79420f706cd501954",
       "version_major": 2,
       "version_minor": 0
      },
      "text/plain": [
       "  0%|          | 0/10000 [00:00<?, ?it/s]"
      ]
     },
     "metadata": {},
     "output_type": "display_data"
    },
    {
     "name": "stdout",
     "output_type": "stream",
     "text": [
      "gld_params: [0.04326579 0.02256615 0.34913208 0.13221377]\n",
      "wrapper([ 2.524e-01  2.633e-01 ...  9.368e-01  8.441e-01]) = -0.023450883054153326\n",
      "assembly_constraint_no_mean([ 2.524e-01  2.633e-01 ...  9.368e-01  8.441e-01]) = [ 9.098e-02  2.472e-01 ...  8.493e-02  9.998e-02]\n"
     ]
    },
    {
     "data": {
      "application/vnd.jupyter.widget-view+json": {
       "model_id": "c380ab4370ab4ddca7fcda4e804cd74f",
       "version_major": 2,
       "version_minor": 0
      },
      "text/plain": [
       "  0%|          | 0/10000 [00:00<?, ?it/s]"
      ]
     },
     "metadata": {},
     "output_type": "display_data"
    },
    {
     "name": "stdout",
     "output_type": "stream",
     "text": [
      "gld_params: [0.04425801 0.02134164 0.3490482  0.12625182]\n",
      "wrapper([ 4.152e-01  4.401e-01 ...  8.232e-01  8.074e-01]) = -0.01673120662381059\n",
      "assembly_constraint_no_mean([ 4.152e-01  4.401e-01 ...  8.232e-01  8.074e-01]) = [ 1.108e+00 -2.084e-01 ... -2.428e-01 -1.214e-02]\n"
     ]
    },
    {
     "data": {
      "application/vnd.jupyter.widget-view+json": {
       "model_id": "b47d6a6fe3284fe29a2124a62180a833",
       "version_major": 2,
       "version_minor": 0
      },
      "text/plain": [
       "  0%|          | 0/10000 [00:00<?, ?it/s]"
      ]
     },
     "metadata": {},
     "output_type": "display_data"
    },
    {
     "name": "stdout",
     "output_type": "stream",
     "text": [
      "gld_params: [0.04328791 0.02255622 0.34896181 0.13222606]\n",
      "wrapper([ 2.470e-01  2.608e-01 ...  9.397e-01  8.461e-01]) = -0.023372247989017395\n",
      "assembly_constraint_no_mean([ 2.470e-01  2.608e-01 ...  9.397e-01  8.461e-01]) = [ 8.843e-02  2.848e-01 ...  7.716e-02  1.105e-01]\n"
     ]
    },
    {
     "data": {
      "application/vnd.jupyter.widget-view+json": {
       "model_id": "0dc7ddedeb624fb8a6537d5c8af270e6",
       "version_major": 2,
       "version_minor": 0
      },
      "text/plain": [
       "  0%|          | 0/10000 [00:00<?, ?it/s]"
      ]
     },
     "metadata": {},
     "output_type": "display_data"
    },
    {
     "name": "stdout",
     "output_type": "stream",
     "text": [
      "gld_params: [0.04393081 0.0211902  0.34853711 0.12234284]\n",
      "wrapper([ 3.332e-01  3.791e-01 ...  8.603e-01  7.797e-01]) = -0.017480027966138113\n",
      "assembly_constraint_no_mean([ 3.332e-01  3.791e-01 ...  8.603e-01  7.797e-01]) = [ 1.027e-01  4.824e-02 ...  6.035e-01  8.826e-02]\n"
     ]
    },
    {
     "data": {
      "application/vnd.jupyter.widget-view+json": {
       "model_id": "d40cd543cdbc4fcaab69135369cadcac",
       "version_major": 2,
       "version_minor": 0
      },
      "text/plain": [
       "  0%|          | 0/10000 [00:00<?, ?it/s]"
      ]
     },
     "metadata": {},
     "output_type": "display_data"
    },
    {
     "name": "stdout",
     "output_type": "stream",
     "text": [
      "gld_params: [0.04326736 0.02256901 0.34916612 0.13223137]\n",
      "wrapper([ 2.568e-01  2.571e-01 ...  9.336e-01  8.491e-01]) = -0.023451669881787287\n",
      "assembly_constraint_no_mean([ 2.568e-01  2.571e-01 ...  9.336e-01  8.491e-01]) = [ 9.434e-02  2.274e-01 ...  9.070e-02  9.596e-02]\n"
     ]
    },
    {
     "data": {
      "application/vnd.jupyter.widget-view+json": {
       "model_id": "15e3c46cde204a4b8ef8d721f275e582",
       "version_major": 2,
       "version_minor": 0
      },
      "text/plain": [
       "  0%|          | 0/10000 [00:00<?, ?it/s]"
      ]
     },
     "metadata": {},
     "output_type": "display_data"
    },
    {
     "name": "stdout",
     "output_type": "stream",
     "text": [
      "gld_params: [0.04393103 0.02119857 0.34835284 0.12522669]\n",
      "wrapper([ 3.736e-01  4.026e-01 ...  8.044e-01  8.568e-01]) = -0.017059079528364003\n",
      "assembly_constraint_no_mean([ 3.736e-01  4.026e-01 ...  8.044e-01  8.568e-01]) = [ 2.830e-01  1.280e-01 ...  5.990e-01  4.064e-03]\n"
     ]
    },
    {
     "data": {
      "application/vnd.jupyter.widget-view+json": {
       "model_id": "86c07b5951734fb7992801cff50c715d",
       "version_major": 2,
       "version_minor": 0
      },
      "text/plain": [
       "  0%|          | 0/10000 [00:00<?, ?it/s]"
      ]
     },
     "metadata": {},
     "output_type": "display_data"
    },
    {
     "name": "stdout",
     "output_type": "stream",
     "text": [
      "gld_params: [0.04329243 0.02255776 0.34899452 0.13226786]\n",
      "wrapper([ 2.482e-01  2.627e-01 ...  9.402e-01  8.498e-01]) = -0.02335456388306411\n",
      "assembly_constraint_no_mean([ 2.482e-01  2.627e-01 ...  9.402e-01  8.498e-01]) = [ 8.389e-02  2.725e-01 ...  7.239e-02  1.157e-01]\n"
     ]
    },
    {
     "data": {
      "application/vnd.jupyter.widget-view+json": {
       "model_id": "2409619d03c843e9bb4a09bee5991665",
       "version_major": 2,
       "version_minor": 0
      },
      "text/plain": [
       "  0%|          | 0/10000 [00:00<?, ?it/s]"
      ]
     },
     "metadata": {},
     "output_type": "display_data"
    },
    {
     "name": "stdout",
     "output_type": "stream",
     "text": [
      "gld_params: [0.04422272 0.02131038 0.34551182 0.12765174]\n",
      "wrapper([ 3.958e-01  3.951e-01 ...  8.374e-01  6.817e-01]) = -0.01692527552905633\n",
      "assembly_constraint_no_mean([ 3.958e-01  3.951e-01 ...  8.374e-01  6.817e-01]) = [ 1.431e-01 -4.286e-01 ...  2.056e-01 -6.706e-01]\n"
     ]
    },
    {
     "data": {
      "application/vnd.jupyter.widget-view+json": {
       "model_id": "c30fa568ebda431e98149467a8b7d989",
       "version_major": 2,
       "version_minor": 0
      },
      "text/plain": [
       "  0%|          | 0/10000 [00:00<?, ?it/s]"
      ]
     },
     "metadata": {},
     "output_type": "display_data"
    },
    {
     "name": "stdout",
     "output_type": "stream",
     "text": [
      "gld_params: [0.04329945 0.02255627 0.34883885 0.13236199]\n",
      "wrapper([ 2.475e-01  2.620e-01 ...  9.429e-01  8.434e-01]) = -0.02333799165218158\n",
      "assembly_constraint_no_mean([ 2.475e-01  2.620e-01 ...  9.429e-01  8.434e-01]) = [ 8.786e-02  2.738e-01 ...  7.651e-02  1.162e-01]\n"
     ]
    },
    {
     "data": {
      "application/vnd.jupyter.widget-view+json": {
       "model_id": "bb2a878f80c44ef08a61cf2dbc5143bc",
       "version_major": 2,
       "version_minor": 0
      },
      "text/plain": [
       "  0%|          | 0/10000 [00:00<?, ?it/s]"
      ]
     },
     "metadata": {},
     "output_type": "display_data"
    },
    {
     "name": "stdout",
     "output_type": "stream",
     "text": [
      "gld_params: [0.04411005 0.02155136 0.34591927 0.13052848]\n",
      "wrapper([ 3.187e-01  2.761e-01 ...  8.068e-01  9.145e-01]) = -0.017633323402297875\n",
      "assembly_constraint_no_mean([ 3.187e-01  2.761e-01 ...  8.068e-01  9.145e-01]) = [-6.619e-01  6.738e-01 ... -6.325e-02  3.121e-01]\n"
     ]
    },
    {
     "data": {
      "application/vnd.jupyter.widget-view+json": {
       "model_id": "bd89956b75e94c0e90212c63a7800ca5",
       "version_major": 2,
       "version_minor": 0
      },
      "text/plain": [
       "  0%|          | 0/10000 [00:00<?, ?it/s]"
      ]
     },
     "metadata": {},
     "output_type": "display_data"
    },
    {
     "name": "stdout",
     "output_type": "stream",
     "text": [
      "gld_params: [0.0432909  0.02255827 0.34894493 0.13243244]\n",
      "wrapper([ 2.505e-01  2.631e-01 ...  9.392e-01  8.493e-01]) = -0.023337916025009522\n",
      "assembly_constraint_no_mean([ 2.505e-01  2.631e-01 ...  9.392e-01  8.493e-01]) = [ 8.148e-02  2.626e-01 ...  5.966e-02  1.165e-01]\n"
     ]
    },
    {
     "data": {
      "application/vnd.jupyter.widget-view+json": {
       "model_id": "4d04987d4efa4ed480a8316afd886451",
       "version_major": 2,
       "version_minor": 0
      },
      "text/plain": [
       "  0%|          | 0/10000 [00:00<?, ?it/s]"
      ]
     },
     "metadata": {},
     "output_type": "display_data"
    },
    {
     "name": "stdout",
     "output_type": "stream",
     "text": [
      "gld_params: [0.04519853 0.02099813 0.34673064 0.12319982]\n",
      "wrapper([ 3.411e-01  4.308e-01 ...  8.104e-01  8.832e-01]) = -0.014407057778001945\n",
      "assembly_constraint_no_mean([ 3.411e-01  4.308e-01 ...  8.104e-01  8.832e-01]) = [-5.266e-01 -3.747e-01 ... -1.247e+00 -1.145e-01]\n"
     ]
    },
    {
     "data": {
      "application/vnd.jupyter.widget-view+json": {
       "model_id": "07c880ca4a7f417fab60ca56fbf22302",
       "version_major": 2,
       "version_minor": 0
      },
      "text/plain": [
       "  0%|          | 0/10000 [00:00<?, ?it/s]"
      ]
     },
     "metadata": {},
     "output_type": "display_data"
    },
    {
     "name": "stdout",
     "output_type": "stream",
     "text": [
      "gld_params: [0.04328225 0.02256407 0.34898635 0.13244572]\n",
      "wrapper([ 2.509e-01  2.619e-01 ...  9.377e-01  8.490e-01]) = -0.023378964573418315\n",
      "assembly_constraint_no_mean([ 2.509e-01  2.619e-01 ...  9.377e-01  8.490e-01]) = [ 8.323e-02  2.542e-01 ...  6.737e-02  1.114e-01]\n"
     ]
    },
    {
     "data": {
      "application/vnd.jupyter.widget-view+json": {
       "model_id": "0214e285805e43299dc57520fcab3bb4",
       "version_major": 2,
       "version_minor": 0
      },
      "text/plain": [
       "  0%|          | 0/10000 [00:00<?, ?it/s]"
      ]
     },
     "metadata": {},
     "output_type": "display_data"
    },
    {
     "name": "stdout",
     "output_type": "stream",
     "text": [
      "gld_params: [0.04566328 0.0207261  0.34792456 0.12387118]\n",
      "wrapper([ 3.785e-01  3.897e-01 ...  8.463e-01  9.183e-01]) = -0.012419889627427402\n",
      "assembly_constraint_no_mean([ 3.785e-01  3.897e-01 ...  8.463e-01  9.183e-01]) = [-4.580e-01 -2.286e-01 ... -6.494e-01  3.693e-01]\n"
     ]
    },
    {
     "data": {
      "application/vnd.jupyter.widget-view+json": {
       "model_id": "1cb6013931c44dffaaf62b65161ab959",
       "version_major": 2,
       "version_minor": 0
      },
      "text/plain": [
       "  0%|          | 0/10000 [00:00<?, ?it/s]"
      ]
     },
     "metadata": {},
     "output_type": "display_data"
    },
    {
     "name": "stdout",
     "output_type": "stream",
     "text": [
      "gld_params: [0.04328659 0.02256332 0.34899542 0.132431  ]\n",
      "wrapper([ 2.500e-01  2.619e-01 ...  9.382e-01  8.499e-01]) = -0.02336539861273194\n",
      "assembly_constraint_no_mean([ 2.500e-01  2.619e-01 ...  9.382e-01  8.499e-01]) = [ 8.177e-02  2.541e-01 ...  6.779e-02  1.113e-01]\n"
     ]
    },
    {
     "data": {
      "application/vnd.jupyter.widget-view+json": {
       "model_id": "2f9762b13b80431bba43411d360da2ed",
       "version_major": 2,
       "version_minor": 0
      },
      "text/plain": [
       "  0%|          | 0/10000 [00:00<?, ?it/s]"
      ]
     },
     "metadata": {},
     "output_type": "display_data"
    },
    {
     "name": "stdout",
     "output_type": "stream",
     "text": [
      "gld_params: [0.04448325 0.02146194 0.34392801 0.13013438]\n",
      "wrapper([ 4.124e-01  3.034e-01 ...  5.598e-01  1.000e+00]) = -0.016837204759838267\n",
      "assembly_constraint_no_mean([ 4.124e-01  3.034e-01 ...  5.598e-01  1.000e+00]) = [-6.501e-02 -1.180e+00 ...  1.543e+00  1.111e-01]\n"
     ]
    },
    {
     "data": {
      "application/vnd.jupyter.widget-view+json": {
       "model_id": "c2a9f09e13d84b689317b0d3b034a6c1",
       "version_major": 2,
       "version_minor": 0
      },
      "text/plain": [
       "  0%|          | 0/10000 [00:00<?, ?it/s]"
      ]
     },
     "metadata": {},
     "output_type": "display_data"
    },
    {
     "name": "stdout",
     "output_type": "stream",
     "text": [
      "gld_params: [0.04329696 0.02255666 0.3489158  0.13227815]\n",
      "wrapper([ 2.458e-01  2.659e-01 ...  9.438e-01  8.395e-01]) = -0.023349132846091226\n",
      "assembly_constraint_no_mean([ 2.458e-01  2.659e-01 ...  9.438e-01  8.395e-01]) = [ 8.197e-02  2.677e-01 ...  7.053e-02  1.142e-01]\n"
     ]
    },
    {
     "data": {
      "application/vnd.jupyter.widget-view+json": {
       "model_id": "43a4b5f6900b4095861b535d18769e83",
       "version_major": 2,
       "version_minor": 0
      },
      "text/plain": [
       "  0%|          | 0/10000 [00:00<?, ?it/s]"
      ]
     },
     "metadata": {},
     "output_type": "display_data"
    },
    {
     "name": "stdout",
     "output_type": "stream",
     "text": [
      "gld_params: [0.04501357 0.0212876  0.34594803 0.12980108]\n",
      "wrapper([ 3.978e-01  4.068e-01 ...  8.363e-01  8.056e-01]) = -0.014911896241527764\n",
      "assembly_constraint_no_mean([ 3.978e-01  4.068e-01 ...  8.363e-01  8.056e-01]) = [ 1.700e+00 -9.927e-01 ... -1.447e-01 -2.048e-01]\n"
     ]
    },
    {
     "data": {
      "application/vnd.jupyter.widget-view+json": {
       "model_id": "986f96bd590045a89796fd0b69b337a4",
       "version_major": 2,
       "version_minor": 0
      },
      "text/plain": [
       "  0%|          | 0/10000 [00:00<?, ?it/s]"
      ]
     },
     "metadata": {},
     "output_type": "display_data"
    },
    {
     "name": "stdout",
     "output_type": "stream",
     "text": [
      "gld_params: [0.04328916 0.02256422 0.34897312 0.13246459]\n",
      "wrapper([ 2.495e-01  2.633e-01 ...  9.377e-01  8.489e-01]) = -0.023360613899525453\n",
      "assembly_constraint_no_mean([ 2.495e-01  2.633e-01 ...  9.377e-01  8.489e-01]) = [ 9.694e-02  2.636e-01 ...  7.145e-02  1.099e-01]\n"
     ]
    },
    {
     "data": {
      "application/vnd.jupyter.widget-view+json": {
       "model_id": "ecb765b55772452082f170b5a7e24d02",
       "version_major": 2,
       "version_minor": 0
      },
      "text/plain": [
       "  0%|          | 0/10000 [00:00<?, ?it/s]"
      ]
     },
     "metadata": {},
     "output_type": "display_data"
    },
    {
     "name": "stdout",
     "output_type": "stream",
     "text": [
      "gld_params: [0.04502645 0.02105203 0.3459588  0.12480572]\n",
      "wrapper([ 3.747e-01  4.274e-01 ...  8.126e-01  7.781e-01]) = -0.014763385907453441\n",
      "assembly_constraint_no_mean([ 3.747e-01  4.274e-01 ...  8.126e-01  7.781e-01]) = [ 3.268e-01 -3.698e-01 ... -3.052e-01 -5.319e-01]\n"
     ]
    },
    {
     "data": {
      "application/vnd.jupyter.widget-view+json": {
       "model_id": "4a2365bf394a42f59628c426a8ef0408",
       "version_major": 2,
       "version_minor": 0
      },
      "text/plain": [
       "  0%|          | 0/10000 [00:00<?, ?it/s]"
      ]
     },
     "metadata": {},
     "output_type": "display_data"
    },
    {
     "name": "stdout",
     "output_type": "stream",
     "text": [
      "gld_params: [0.04328778 0.02257173 0.34907976 0.13244694]\n",
      "wrapper([ 2.525e-01  2.613e-01 ...  9.364e-01  8.476e-01]) = -0.023386121340131263\n",
      "assembly_constraint_no_mean([ 2.525e-01  2.613e-01 ...  9.364e-01  8.476e-01]) = [ 9.740e-02  2.162e-01 ...  8.068e-02  1.098e-01]\n"
     ]
    },
    {
     "data": {
      "application/vnd.jupyter.widget-view+json": {
       "model_id": "42bb901f669d4d3196e955eab0bf3832",
       "version_major": 2,
       "version_minor": 0
      },
      "text/plain": [
       "  0%|          | 0/10000 [00:00<?, ?it/s]"
      ]
     },
     "metadata": {},
     "output_type": "display_data"
    },
    {
     "name": "stdout",
     "output_type": "stream",
     "text": [
      "gld_params: [0.04468838 0.02123478 0.34397112 0.12358637]\n",
      "wrapper([ 2.616e-01  3.148e-01 ...  8.602e-01  8.699e-01]) = -0.016569639917422677\n",
      "assembly_constraint_no_mean([ 2.616e-01  3.148e-01 ...  8.602e-01  8.699e-01]) = [-2.207e-01 -2.000e-02 ... -1.505e-01  8.627e-02]\n"
     ]
    },
    {
     "data": {
      "application/vnd.jupyter.widget-view+json": {
       "model_id": "9c727934f2c843bfa9abda141ce643d4",
       "version_major": 2,
       "version_minor": 0
      },
      "text/plain": [
       "  0%|          | 0/10000 [00:00<?, ?it/s]"
      ]
     },
     "metadata": {},
     "output_type": "display_data"
    },
    {
     "name": "stdout",
     "output_type": "stream",
     "text": [
      "gld_params: [0.0433118  0.02255481 0.34901563 0.13243276]\n",
      "wrapper([ 2.522e-01  2.658e-01 ...  9.351e-01  8.484e-01]) = -0.023255145067038907\n",
      "assembly_constraint_no_mean([ 2.522e-01  2.658e-01 ...  9.351e-01  8.484e-01]) = [ 7.954e-02  2.608e-01 ...  6.634e-02  9.737e-02]\n"
     ]
    },
    {
     "data": {
      "application/vnd.jupyter.widget-view+json": {
       "model_id": "2dd89e5d28cd4fc79c6f43ef6b037df6",
       "version_major": 2,
       "version_minor": 0
      },
      "text/plain": [
       "  0%|          | 0/10000 [00:00<?, ?it/s]"
      ]
     },
     "metadata": {},
     "output_type": "display_data"
    },
    {
     "name": "stdout",
     "output_type": "stream",
     "text": [
      "gld_params: [0.04520068 0.02124606 0.34469895 0.13015942]\n",
      "wrapper([ 3.294e-01  3.550e-01 ...  8.913e-01  6.703e-01]) = -0.014516167510664008\n",
      "assembly_constraint_no_mean([ 3.294e-01  3.550e-01 ...  8.913e-01  6.703e-01]) = [-2.762e-01 -2.975e-01 ...  3.683e-01 -5.939e-01]\n"
     ]
    },
    {
     "data": {
      "application/vnd.jupyter.widget-view+json": {
       "model_id": "67eb3000a65d4af5b2d46c5f7a11afc9",
       "version_major": 2,
       "version_minor": 0
      },
      "text/plain": [
       "  0%|          | 0/10000 [00:00<?, ?it/s]"
      ]
     },
     "metadata": {},
     "output_type": "display_data"
    },
    {
     "name": "stdout",
     "output_type": "stream",
     "text": [
      "gld_params: [0.0433207  0.02255359 0.34900074 0.13247349]\n",
      "wrapper([ 2.504e-01  2.642e-01 ...  9.313e-01  8.488e-01]) = -0.023221187890687372\n",
      "assembly_constraint_no_mean([ 2.504e-01  2.642e-01 ...  9.313e-01  8.488e-01]) = [ 7.325e-02  2.544e-01 ...  7.358e-02  8.518e-02]\n"
     ]
    },
    {
     "data": {
      "application/vnd.jupyter.widget-view+json": {
       "model_id": "445f19ee2a5c4336941e4a1de428a3d5",
       "version_major": 2,
       "version_minor": 0
      },
      "text/plain": [
       "  0%|          | 0/10000 [00:00<?, ?it/s]"
      ]
     },
     "metadata": {},
     "output_type": "display_data"
    },
    {
     "name": "stdout",
     "output_type": "stream",
     "text": [
      "gld_params: [0.04508382 0.02118193 0.34253996 0.12440395]\n",
      "wrapper([ 2.453e-01  3.075e-01 ...  8.442e-01  8.261e-01]) = -0.015659532080741202\n",
      "assembly_constraint_no_mean([ 2.453e-01  3.075e-01 ...  8.442e-01  8.261e-01]) = [-3.699e-01  4.228e-01 ...  2.852e-01 -1.019e-01]\n"
     ]
    },
    {
     "data": {
      "application/vnd.jupyter.widget-view+json": {
       "model_id": "0ba978794e1840829e3f2a8a1b33bb20",
       "version_major": 2,
       "version_minor": 0
      },
      "text/plain": [
       "  0%|          | 0/10000 [00:00<?, ?it/s]"
      ]
     },
     "metadata": {},
     "output_type": "display_data"
    },
    {
     "name": "stdout",
     "output_type": "stream",
     "text": [
      "gld_params: [0.04332749 0.02255178 0.34896896 0.13251382]\n",
      "wrapper([ 2.468e-01  2.629e-01 ...  9.321e-01  8.513e-01]) = -0.023192696507406692\n",
      "assembly_constraint_no_mean([ 2.468e-01  2.629e-01 ...  9.321e-01  8.513e-01]) = [ 6.079e-02  2.564e-01 ...  7.158e-02  9.096e-02]\n"
     ]
    },
    {
     "data": {
      "application/vnd.jupyter.widget-view+json": {
       "model_id": "faeb19acb13d4c87b5f6d2963fa6f54d",
       "version_major": 2,
       "version_minor": 0
      },
      "text/plain": [
       "  0%|          | 0/10000 [00:00<?, ?it/s]"
      ]
     },
     "metadata": {},
     "output_type": "display_data"
    },
    {
     "name": "stdout",
     "output_type": "stream",
     "text": [
      "gld_params: [0.04596121 0.02056999 0.34669587 0.12182222]\n",
      "wrapper([ 3.695e-01  3.921e-01 ...  7.689e-01  7.676e-01]) = -0.011855710074167978\n",
      "assembly_constraint_no_mean([ 3.695e-01  3.921e-01 ...  7.689e-01  7.676e-01]) = [ 7.645e-01 -1.250e+00 ... -1.263e+00 -9.199e-01]\n"
     ]
    },
    {
     "data": {
      "application/vnd.jupyter.widget-view+json": {
       "model_id": "b9e72194d0e44fabbd9d8513ece56621",
       "version_major": 2,
       "version_minor": 0
      },
      "text/plain": [
       "  0%|          | 0/10000 [00:00<?, ?it/s]"
      ]
     },
     "metadata": {},
     "output_type": "display_data"
    },
    {
     "name": "stdout",
     "output_type": "stream",
     "text": [
      "gld_params: [0.04332874 0.02255057 0.34899193 0.13246882]\n",
      "wrapper([ 2.476e-01  2.645e-01 ...  9.326e-01  8.505e-01]) = -0.02318821598891391\n",
      "assembly_constraint_no_mean([ 2.476e-01  2.645e-01 ...  9.326e-01  8.505e-01]) = [ 6.368e-02  2.517e-01 ...  7.378e-02  9.048e-02]\n"
     ]
    },
    {
     "data": {
      "application/vnd.jupyter.widget-view+json": {
       "model_id": "3cd5fdff32144c62a9a1a5e92ef74b3d",
       "version_major": 2,
       "version_minor": 0
      },
      "text/plain": [
       "  0%|          | 0/10000 [00:00<?, ?it/s]"
      ]
     },
     "metadata": {},
     "output_type": "display_data"
    },
    {
     "name": "stdout",
     "output_type": "stream",
     "text": [
      "gld_params: [0.04566149 0.02079673 0.34505441 0.1245441 ]\n",
      "wrapper([ 3.547e-01  4.184e-01 ...  7.675e-01  8.677e-01]) = -0.012891111697334687\n",
      "assembly_constraint_no_mean([ 3.547e-01  4.184e-01 ...  7.675e-01  8.677e-01]) = [-9.088e-01 -1.455e-01 ... -2.033e+00 -7.626e-02]\n"
     ]
    },
    {
     "data": {
      "application/vnd.jupyter.widget-view+json": {
       "model_id": "1075b8ad13de40b3af9dee94581a3b8e",
       "version_major": 2,
       "version_minor": 0
      },
      "text/plain": [
       "  0%|          | 0/10000 [00:00<?, ?it/s]"
      ]
     },
     "metadata": {},
     "output_type": "display_data"
    },
    {
     "name": "stdout",
     "output_type": "stream",
     "text": [
      "gld_params: [0.04333235 0.02254897 0.34894406 0.13251229]\n",
      "wrapper([ 2.468e-01  2.741e-01 ...  9.322e-01  8.566e-01]) = -0.02317105046905935\n",
      "assembly_constraint_no_mean([ 2.468e-01  2.741e-01 ...  9.322e-01  8.566e-01]) = [ 5.386e-02  2.558e-01 ...  6.373e-02  9.878e-02]\n"
     ]
    },
    {
     "data": {
      "application/vnd.jupyter.widget-view+json": {
       "model_id": "a49d7f814e824d3f8332d46cc08bb000",
       "version_major": 2,
       "version_minor": 0
      },
      "text/plain": [
       "  0%|          | 0/10000 [00:00<?, ?it/s]"
      ]
     },
     "metadata": {},
     "output_type": "display_data"
    },
    {
     "name": "stdout",
     "output_type": "stream",
     "text": [
      "gld_params: [0.04497537 0.02119837 0.34403768 0.13014017]\n",
      "wrapper([ 2.812e-01  3.551e-01 ...  6.846e-01  6.475e-01]) = -0.014824641119826452\n",
      "assembly_constraint_no_mean([ 2.812e-01  3.551e-01 ...  6.846e-01  6.475e-01]) = [-3.265e-01 -1.961e-01 ...  2.734e-01 -1.620e+00]\n"
     ]
    },
    {
     "data": {
      "application/vnd.jupyter.widget-view+json": {
       "model_id": "c4b04edcb42c44e09d54f142565ed7fd",
       "version_major": 2,
       "version_minor": 0
      },
      "text/plain": [
       "  0%|          | 0/10000 [00:00<?, ?it/s]"
      ]
     },
     "metadata": {},
     "output_type": "display_data"
    },
    {
     "name": "stdout",
     "output_type": "stream",
     "text": [
      "gld_params: [0.04333384 0.0225556  0.34891564 0.13265963]\n",
      "wrapper([ 2.453e-01  2.738e-01 ...  9.289e-01  8.599e-01]) = -0.023176433918467777\n",
      "assembly_constraint_no_mean([ 2.453e-01  2.738e-01 ...  9.289e-01  8.599e-01]) = [ 6.078e-02  2.610e-01 ...  6.657e-02  9.383e-02]\n"
     ]
    },
    {
     "data": {
      "application/vnd.jupyter.widget-view+json": {
       "model_id": "2216246051e64a8a9227b3e9ab1c5ccd",
       "version_major": 2,
       "version_minor": 0
      },
      "text/plain": [
       "  0%|          | 0/10000 [00:00<?, ?it/s]"
      ]
     },
     "metadata": {},
     "output_type": "display_data"
    },
    {
     "name": "stdout",
     "output_type": "stream",
     "text": [
      "gld_params: [0.04655163 0.02037246 0.34272459 0.12134568]\n",
      "wrapper([ 3.724e-01  3.213e-01 ...  9.393e-01  8.132e-01]) = -0.010832053258515684\n",
      "assembly_constraint_no_mean([ 3.724e-01  3.213e-01 ...  9.393e-01  8.132e-01]) = [-9.298e-01 -5.911e-01 ...  6.784e-02  4.807e-01]\n"
     ]
    },
    {
     "data": {
      "application/vnd.jupyter.widget-view+json": {
       "model_id": "f22b2f3741b8429a8f5965cfa8813134",
       "version_major": 2,
       "version_minor": 0
      },
      "text/plain": [
       "  0%|          | 0/10000 [00:00<?, ?it/s]"
      ]
     },
     "metadata": {},
     "output_type": "display_data"
    },
    {
     "name": "stdout",
     "output_type": "stream",
     "text": [
      "gld_params: [0.04332645 0.02256401 0.34896765 0.13256495]\n",
      "wrapper([ 2.466e-01  2.675e-01 ...  9.291e-01  8.550e-01]) = -0.02324576557265163\n",
      "assembly_constraint_no_mean([ 2.466e-01  2.675e-01 ...  9.291e-01  8.550e-01]) = [ 6.724e-02  2.206e-01 ...  8.642e-02  8.642e-02]\n",
      "\n",
      "New trust-region radius: 0.05.\n",
      "Number of function evaluations: 151.\n",
      "Number of iterations: 46.\n",
      "Least value of wrapper: -0.02324576557265163.\n",
      "Maximum constraint violation: 0.21957785936898344.\n",
      "Corresponding point: [ 2.466e-01  2.675e-01 ...  9.291e-01  8.550e-01].\n",
      "\n"
     ]
    },
    {
     "data": {
      "application/vnd.jupyter.widget-view+json": {
       "model_id": "e7b6b612ef364773a208c6936d59ce73",
       "version_major": 2,
       "version_minor": 0
      },
      "text/plain": [
       "  0%|          | 0/10000 [00:00<?, ?it/s]"
      ]
     },
     "metadata": {},
     "output_type": "display_data"
    },
    {
     "name": "stdout",
     "output_type": "stream",
     "text": [
      "gld_params: [0.04332355 0.02298706 0.35090171 0.13603888]\n",
      "wrapper([ 1.809e-01  2.191e-01 ...  9.514e-01  8.600e-01]) = -0.024332607168319285\n",
      "assembly_constraint_no_mean([ 1.809e-01  2.191e-01 ...  9.514e-01  8.600e-01]) = [ 3.856e-02  4.695e-02 ...  3.879e-02  4.844e-02]\n"
     ]
    },
    {
     "data": {
      "application/vnd.jupyter.widget-view+json": {
       "model_id": "10d7c393c83d49bb99604de166723591",
       "version_major": 2,
       "version_minor": 0
      },
      "text/plain": [
       "  0%|          | 0/10000 [00:00<?, ?it/s]"
      ]
     },
     "metadata": {},
     "output_type": "display_data"
    },
    {
     "name": "stdout",
     "output_type": "stream",
     "text": [
      "gld_params: [0.04300722 0.02362864 0.35582714 0.13972319]\n",
      "wrapper([ 7.868e-02  1.243e-01 ...  9.670e-01  8.802e-01]) = -0.026810939831376637\n",
      "assembly_constraint_no_mean([ 7.868e-02  1.243e-01 ...  9.670e-01  8.802e-01]) = [ 1.012e-01  6.586e-03 ...  6.575e-02  9.099e-02]\n"
     ]
    },
    {
     "data": {
      "application/vnd.jupyter.widget-view+json": {
       "model_id": "57b7e0f27d07492d8e474ef003db51e1",
       "version_major": 2,
       "version_minor": 0
      },
      "text/plain": [
       "  0%|          | 0/10000 [00:00<?, ?it/s]"
      ]
     },
     "metadata": {},
     "output_type": "display_data"
    },
    {
     "name": "stdout",
     "output_type": "stream",
     "text": [
      "gld_params: [0.04288475 0.02316395 0.35157985 0.13503692]\n",
      "wrapper([ 1.928e-01  2.167e-01 ...  1.000e+00  9.388e-01]) = -0.026505537729927375\n",
      "assembly_constraint_no_mean([ 1.928e-01  2.167e-01 ...  1.000e+00  9.388e-01]) = [ 1.298e-01  8.548e-01 ... -3.827e-01  7.865e-01]\n"
     ]
    },
    {
     "data": {
      "application/vnd.jupyter.widget-view+json": {
       "model_id": "2d80f15e348e46d48720c5d5d41882e2",
       "version_major": 2,
       "version_minor": 0
      },
      "text/plain": [
       "  0%|          | 0/10000 [00:00<?, ?it/s]"
      ]
     },
     "metadata": {},
     "output_type": "display_data"
    },
    {
     "name": "stdout",
     "output_type": "stream",
     "text": [
      "gld_params: [0.04326915 0.02329744 0.35309026 0.13820294]\n",
      "wrapper([ 1.324e-01  1.715e-01 ...  9.553e-01  8.713e-01]) = -0.025210527263089696\n",
      "assembly_constraint_no_mean([ 1.324e-01  1.715e-01 ...  9.553e-01  8.713e-01]) = [ 1.640e-02  3.231e-03 ...  1.666e-02  3.040e-02]\n"
     ]
    },
    {
     "data": {
      "application/vnd.jupyter.widget-view+json": {
       "model_id": "ea92071932794ccbb7f1f0031b9c772b",
       "version_major": 2,
       "version_minor": 0
      },
      "text/plain": [
       "  0%|          | 0/10000 [00:00<?, ?it/s]"
      ]
     },
     "metadata": {},
     "output_type": "display_data"
    },
    {
     "name": "stdout",
     "output_type": "stream",
     "text": [
      "gld_params: [0.04314643 0.02368096 0.35711865 0.14035135]\n",
      "wrapper([ 5.888e-02  1.212e-01 ...  9.436e-01  9.033e-01]) = -0.026309564135505923\n",
      "assembly_constraint_no_mean([ 5.888e-02  1.212e-01 ...  9.436e-01  9.033e-01]) = [ 1.366e-02  1.594e-02 ...  3.582e-02  6.794e-02]\n"
     ]
    },
    {
     "data": {
      "application/vnd.jupyter.widget-view+json": {
       "model_id": "7719bf7282be45fc90433a323a882cbf",
       "version_major": 2,
       "version_minor": 0
      },
      "text/plain": [
       "  0%|          | 0/10000 [00:00<?, ?it/s]"
      ]
     },
     "metadata": {},
     "output_type": "display_data"
    },
    {
     "name": "stdout",
     "output_type": "stream",
     "text": [
      "gld_params: [0.04347753 0.02321787 0.35320593 0.13771315]\n",
      "wrapper([ 1.216e-01  1.703e-01 ...  9.817e-01  8.558e-01]) = -0.024330224786623868\n",
      "assembly_constraint_no_mean([ 1.216e-01  1.703e-01 ...  9.817e-01  8.558e-01]) = [-3.008e-01  1.809e-04 ...  2.082e-01  1.435e-01]\n"
     ]
    },
    {
     "data": {
      "application/vnd.jupyter.widget-view+json": {
       "model_id": "472a92b308ae4197bcc1daa9269be7ba",
       "version_major": 2,
       "version_minor": 0
      },
      "text/plain": [
       "  0%|          | 0/10000 [00:00<?, ?it/s]"
      ]
     },
     "metadata": {},
     "output_type": "display_data"
    },
    {
     "name": "stdout",
     "output_type": "stream",
     "text": [
      "gld_params: [0.04324435 0.02347164 0.35495118 0.139373  ]\n",
      "wrapper([ 9.599e-02  1.398e-01 ...  9.653e-01  8.681e-01]) = -0.025579916785270506\n",
      "assembly_constraint_no_mean([ 9.599e-02  1.398e-01 ...  9.653e-01  8.681e-01]) = [-5.312e-03  3.404e-03 ...  1.825e-02  4.174e-02]\n"
     ]
    },
    {
     "data": {
      "application/vnd.jupyter.widget-view+json": {
       "model_id": "12600d9d36ae4ea4b9fc17b61ab134cf",
       "version_major": 2,
       "version_minor": 0
      },
      "text/plain": [
       "  0%|          | 0/10000 [00:00<?, ?it/s]"
      ]
     },
     "metadata": {},
     "output_type": "display_data"
    },
    {
     "name": "stdout",
     "output_type": "stream",
     "text": [
      "gld_params: [0.04315129 0.02370838 0.35766058 0.14046069]\n",
      "wrapper([ 4.277e-02  7.566e-02 ...  9.599e-01  8.806e-01]) = -0.0263102468786615\n",
      "assembly_constraint_no_mean([ 4.277e-02  7.566e-02 ...  9.599e-01  8.806e-01]) = [ 4.225e-02  2.459e-02 ...  2.111e-02  2.692e-02]\n"
     ]
    },
    {
     "data": {
      "application/vnd.jupyter.widget-view+json": {
       "model_id": "8f573a6a8c324bedba67f8ac76a363c6",
       "version_major": 2,
       "version_minor": 0
      },
      "text/plain": [
       "  0%|          | 0/10000 [00:00<?, ?it/s]"
      ]
     },
     "metadata": {},
     "output_type": "display_data"
    },
    {
     "name": "stdout",
     "output_type": "stream",
     "text": [
      "gld_params: [0.04340515 0.02341908 0.35489294 0.13994453]\n",
      "wrapper([ 1.267e-01  1.387e-01 ...  9.466e-01  8.898e-01]) = -0.024775782289681345\n",
      "assembly_constraint_no_mean([ 1.267e-01  1.387e-01 ...  9.466e-01  8.898e-01]) = [-2.263e-03  5.985e-02 ... -9.237e-02  1.573e-02]\n"
     ]
    },
    {
     "data": {
      "application/vnd.jupyter.widget-view+json": {
       "model_id": "58ee39d46b2b40dcb8d07f9ecf3f500d",
       "version_major": 2,
       "version_minor": 0
      },
      "text/plain": [
       "  0%|          | 0/10000 [00:00<?, ?it/s]"
      ]
     },
     "metadata": {},
     "output_type": "display_data"
    },
    {
     "name": "stdout",
     "output_type": "stream",
     "text": [
      "gld_params: [0.04321491 0.02359487 0.35618702 0.14008701]\n",
      "wrapper([ 8.178e-02  1.212e-01 ...  9.625e-01  8.683e-01]) = -0.02591077716484062\n",
      "assembly_constraint_no_mean([ 8.178e-02  1.212e-01 ...  9.625e-01  8.683e-01]) = [ 1.489e-02  8.875e-03 ...  1.836e-02  2.202e-03]\n"
     ]
    },
    {
     "data": {
      "application/vnd.jupyter.widget-view+json": {
       "model_id": "9270606091814f68968a23ee0280b6cc",
       "version_major": 2,
       "version_minor": 0
      },
      "text/plain": [
       "  0%|          | 0/10000 [00:00<?, ?it/s]"
      ]
     },
     "metadata": {},
     "output_type": "display_data"
    },
    {
     "name": "stdout",
     "output_type": "stream",
     "text": [
      "gld_params: [0.04318689 0.02374704 0.35829248 0.14082511]\n",
      "wrapper([ 5.706e-02  9.805e-02 ...  9.618e-01  8.749e-01]) = -0.02621407707458766\n",
      "assembly_constraint_no_mean([ 5.706e-02  9.805e-02 ...  9.618e-01  8.749e-01]) = [ 1.127e-03  1.232e-03 ...  5.079e-03  8.957e-03]\n"
     ]
    },
    {
     "data": {
      "application/vnd.jupyter.widget-view+json": {
       "model_id": "a74214fe14554c9bbc38240c5f2fc99c",
       "version_major": 2,
       "version_minor": 0
      },
      "text/plain": [
       "  0%|          | 0/10000 [00:00<?, ?it/s]"
      ]
     },
     "metadata": {},
     "output_type": "display_data"
    },
    {
     "name": "stdout",
     "output_type": "stream",
     "text": [
      "gld_params: [0.04313742 0.02388254 0.3609749  0.14119215]\n",
      "wrapper([ 3.316e-02  7.221e-02 ...  9.429e-01  8.969e-01]) = -0.026453770544855662\n",
      "assembly_constraint_no_mean([ 3.316e-02  7.221e-02 ...  9.429e-01  8.969e-01]) = [ 1.090e-02 -2.329e-03 ...  1.770e-02 -6.762e-04]\n"
     ]
    },
    {
     "data": {
      "application/vnd.jupyter.widget-view+json": {
       "model_id": "3f8524d2869c42989f1da7407500d05b",
       "version_major": 2,
       "version_minor": 0
      },
      "text/plain": [
       "  0%|          | 0/10000 [00:00<?, ?it/s]"
      ]
     },
     "metadata": {},
     "output_type": "display_data"
    },
    {
     "name": "stdout",
     "output_type": "stream",
     "text": [
      "gld_params: [0.04331979 0.02368287 0.35852455 0.14010259]\n",
      "wrapper([ 4.838e-02  1.087e-01 ...  9.593e-01  8.503e-01]) = -0.02562195773395036\n",
      "assembly_constraint_no_mean([ 4.838e-02  1.087e-01 ...  9.593e-01  8.503e-01]) = [-1.124e-01  5.681e-02 ...  6.562e-02 -1.234e-01]\n"
     ]
    },
    {
     "data": {
      "application/vnd.jupyter.widget-view+json": {
       "model_id": "2e90b444342c48e2bcad7fa9b1d5578c",
       "version_major": 2,
       "version_minor": 0
      },
      "text/plain": [
       "  0%|          | 0/10000 [00:00<?, ?it/s]"
      ]
     },
     "metadata": {},
     "output_type": "display_data"
    },
    {
     "name": "stdout",
     "output_type": "stream",
     "text": [
      "gld_params: [0.04315446 0.02382924 0.36000922 0.14084741]\n",
      "wrapper([ 4.128e-02  8.789e-02 ...  9.635e-01  8.742e-01]) = -0.026391204827298217\n",
      "assembly_constraint_no_mean([ 4.128e-02  8.789e-02 ...  9.635e-01  8.742e-01]) = [ 1.852e-02  7.676e-03 ...  4.711e-03  1.144e-02]\n"
     ]
    },
    {
     "data": {
      "application/vnd.jupyter.widget-view+json": {
       "model_id": "d56cf6fcba2a47c7ac614e9bbe577726",
       "version_major": 2,
       "version_minor": 0
      },
      "text/plain": [
       "  0%|          | 0/10000 [00:00<?, ?it/s]"
      ]
     },
     "metadata": {},
     "output_type": "display_data"
    },
    {
     "name": "stdout",
     "output_type": "stream",
     "text": [
      "gld_params: [0.04312068 0.02378278 0.3585107  0.14094751]\n",
      "wrapper([ 6.225e-02  8.961e-02 ...  9.611e-01  8.693e-01]) = -0.026515934989739098\n",
      "assembly_constraint_no_mean([ 6.225e-02  8.961e-02 ...  9.611e-01  8.693e-01]) = [ 2.405e-02  9.347e-02 ...  1.851e-02 -2.207e-02]\n"
     ]
    },
    {
     "data": {
      "application/vnd.jupyter.widget-view+json": {
       "model_id": "d7cb5d2e037647c89eaec35f743b49af",
       "version_major": 2,
       "version_minor": 0
      },
      "text/plain": [
       "  0%|          | 0/10000 [00:00<?, ?it/s]"
      ]
     },
     "metadata": {},
     "output_type": "display_data"
    },
    {
     "name": "stdout",
     "output_type": "stream",
     "text": [
      "gld_params: [0.04318106 0.02377798 0.35901324 0.14074528]\n",
      "wrapper([ 4.608e-02  9.945e-02 ...  9.583e-01  8.789e-01]) = -0.026265564798248403\n",
      "assembly_constraint_no_mean([ 4.608e-02  9.945e-02 ...  9.583e-01  8.789e-01]) = [ 1.438e-02  2.910e-03 ...  3.596e-03  2.983e-03]\n"
     ]
    },
    {
     "data": {
      "application/vnd.jupyter.widget-view+json": {
       "model_id": "adbd356eb65441c382d140bf1c3d212c",
       "version_major": 2,
       "version_minor": 0
      },
      "text/plain": [
       "  0%|          | 0/10000 [00:00<?, ?it/s]"
      ]
     },
     "metadata": {},
     "output_type": "display_data"
    },
    {
     "name": "stdout",
     "output_type": "stream",
     "text": [
      "gld_params: [0.04314904 0.02383932 0.36034798 0.14089758]\n",
      "wrapper([ 2.986e-02  8.884e-02 ...  9.595e-01  8.783e-01]) = -0.026382511645546537\n",
      "assembly_constraint_no_mean([ 2.986e-02  8.884e-02 ...  9.595e-01  8.783e-01]) = [ 2.699e-02  7.133e-03 ... -1.690e-03  6.222e-03]\n"
     ]
    },
    {
     "data": {
      "application/vnd.jupyter.widget-view+json": {
       "model_id": "71a488cddd01469d8df7c8b9381c2b7f",
       "version_major": 2,
       "version_minor": 0
      },
      "text/plain": [
       "  0%|          | 0/10000 [00:00<?, ?it/s]"
      ]
     },
     "metadata": {},
     "output_type": "display_data"
    },
    {
     "name": "stdout",
     "output_type": "stream",
     "text": [
      "gld_params: [0.04316717 0.02379942 0.358796   0.14112724]\n",
      "wrapper([ 4.250e-02  9.213e-02 ...  9.702e-01  8.765e-01]) = -0.026380121887112338\n",
      "assembly_constraint_no_mean([ 4.250e-02  9.213e-02 ...  9.702e-01  8.765e-01]) = [ 4.898e-02 -2.777e-02 ...  7.224e-02  6.469e-02]\n"
     ]
    },
    {
     "data": {
      "application/vnd.jupyter.widget-view+json": {
       "model_id": "7dc1e5bbae034b07a90406870b6216ac",
       "version_major": 2,
       "version_minor": 0
      },
      "text/plain": [
       "  0%|          | 0/10000 [00:00<?, ?it/s]"
      ]
     },
     "metadata": {},
     "output_type": "display_data"
    },
    {
     "name": "stdout",
     "output_type": "stream",
     "text": [
      "gld_params: [0.04315762 0.02381084 0.35975621 0.14071305]\n",
      "wrapper([ 3.843e-02  9.311e-02 ...  9.544e-01  8.821e-01]) = -0.02636483766797988\n",
      "assembly_constraint_no_mean([ 3.843e-02  9.311e-02 ...  9.544e-01  8.821e-01]) = [ 4.691e-03  1.756e-03 ...  8.620e-03 -3.949e-03]\n"
     ]
    },
    {
     "data": {
      "application/vnd.jupyter.widget-view+json": {
       "model_id": "c5807d4a510045caa1175e5f4c8f2d03",
       "version_major": 2,
       "version_minor": 0
      },
      "text/plain": [
       "  0%|          | 0/10000 [00:00<?, ?it/s]"
      ]
     },
     "metadata": {},
     "output_type": "display_data"
    },
    {
     "name": "stdout",
     "output_type": "stream",
     "text": [
      "gld_params: [0.04312333 0.02379991 0.35921782 0.14058949]\n",
      "wrapper([ 4.231e-02  8.523e-02 ...  9.684e-01  8.683e-01]) = -0.02653246304728203\n",
      "assembly_constraint_no_mean([ 4.231e-02  8.523e-02 ...  9.684e-01  8.683e-01]) = [ 2.630e-02 -1.448e-03 ... -8.544e-02  1.789e-02]\n"
     ]
    },
    {
     "data": {
      "application/vnd.jupyter.widget-view+json": {
       "model_id": "6b4d06daa9e14ee096fdb2782502249c",
       "version_major": 2,
       "version_minor": 0
      },
      "text/plain": [
       "  0%|          | 0/10000 [00:00<?, ?it/s]"
      ]
     },
     "metadata": {},
     "output_type": "display_data"
    },
    {
     "name": "stdout",
     "output_type": "stream",
     "text": [
      "gld_params: [0.04316256 0.02380518 0.35978738 0.14048576]\n",
      "wrapper([ 3.382e-02  8.635e-02 ...  9.616e-01  8.741e-01]) = -0.026362249644593213\n",
      "assembly_constraint_no_mean([ 3.382e-02  8.635e-02 ...  9.616e-01  8.741e-01]) = [ 1.526e-02 -2.162e-03 ...  1.401e-03  6.533e-04]\n"
     ]
    },
    {
     "data": {
      "application/vnd.jupyter.widget-view+json": {
       "model_id": "59e1340f15714bd6892500f64d4ffa50",
       "version_major": 2,
       "version_minor": 0
      },
      "text/plain": [
       "  0%|          | 0/10000 [00:00<?, ?it/s]"
      ]
     },
     "metadata": {},
     "output_type": "display_data"
    },
    {
     "name": "stdout",
     "output_type": "stream",
     "text": [
      "gld_params: [0.04313531 0.02384372 0.36094127 0.14008846]\n",
      "wrapper([ 1.847e-02  6.632e-02 ...  9.689e-01  8.652e-01]) = -0.026492153319244642\n",
      "assembly_constraint_no_mean([ 1.847e-02  6.632e-02 ...  9.689e-01  8.652e-01]) = [-8.840e-04  1.821e-02 ...  3.515e-03  3.845e-03]\n"
     ]
    },
    {
     "data": {
      "application/vnd.jupyter.widget-view+json": {
       "model_id": "ec152ce3e3b9416a8247e946c1543095",
       "version_major": 2,
       "version_minor": 0
      },
      "text/plain": [
       "  0%|          | 0/10000 [00:00<?, ?it/s]"
      ]
     },
     "metadata": {},
     "output_type": "display_data"
    },
    {
     "name": "stdout",
     "output_type": "stream",
     "text": [
      "gld_params: [0.04299886 0.02385468 0.35980344 0.14002487]\n",
      "wrapper([ 2.769e-02  9.302e-02 ...  9.740e-01  8.894e-01]) = -0.027170571553917007\n",
      "assembly_constraint_no_mean([ 2.769e-02  9.302e-02 ...  9.740e-01  8.894e-01]) = [-9.407e-02  1.023e-01 ...  9.274e-02  1.471e-01]\n"
     ]
    },
    {
     "data": {
      "application/vnd.jupyter.widget-view+json": {
       "model_id": "f4c1864d5d4e4127819bdc449dfea7e1",
       "version_major": 2,
       "version_minor": 0
      },
      "text/plain": [
       "  0%|          | 0/10000 [00:00<?, ?it/s]"
      ]
     },
     "metadata": {},
     "output_type": "display_data"
    },
    {
     "name": "stdout",
     "output_type": "stream",
     "text": [
      "gld_params: [0.04313909 0.0238283  0.36071122 0.14010632]\n",
      "wrapper([ 2.911e-02  8.411e-02 ...  9.659e-01  8.682e-01]) = -0.026444235998806697\n",
      "assembly_constraint_no_mean([ 2.911e-02  8.411e-02 ...  9.659e-01  8.682e-01]) = [ 7.298e-03  1.087e-02 ...  4.864e-03 -9.945e-05]\n"
     ]
    },
    {
     "data": {
      "application/vnd.jupyter.widget-view+json": {
       "model_id": "85cb4b96ed184937ace2ff1908a7f4bf",
       "version_major": 2,
       "version_minor": 0
      },
      "text/plain": [
       "  0%|          | 0/10000 [00:00<?, ?it/s]"
      ]
     },
     "metadata": {},
     "output_type": "display_data"
    },
    {
     "name": "stdout",
     "output_type": "stream",
     "text": [
      "gld_params: [0.04311747 0.02381274 0.35989961 0.14026013]\n",
      "wrapper([ 3.908e-02  6.598e-02 ...  9.613e-01  8.874e-01]) = -0.026549852837327755\n",
      "assembly_constraint_no_mean([ 3.908e-02  6.598e-02 ...  9.613e-01  8.874e-01]) = [-7.365e-02 -2.895e-02 ... -2.342e-02  6.128e-02]\n"
     ]
    },
    {
     "data": {
      "application/vnd.jupyter.widget-view+json": {
       "model_id": "2b5651ab4ef64185b41790c32ca214d3",
       "version_major": 2,
       "version_minor": 0
      },
      "text/plain": [
       "  0%|          | 0/10000 [00:00<?, ?it/s]"
      ]
     },
     "metadata": {},
     "output_type": "display_data"
    },
    {
     "name": "stdout",
     "output_type": "stream",
     "text": [
      "gld_params: [0.04313341 0.02383556 0.36069473 0.1402846 ]\n",
      "wrapper([ 1.399e-02  7.694e-02 ...  9.566e-01  8.821e-01]) = -0.026463985564124486\n",
      "assembly_constraint_no_mean([ 1.399e-02  7.694e-02 ...  9.566e-01  8.821e-01]) = [ 1.386e-03  1.038e-02 ... -1.319e-03  7.780e-03]\n"
     ]
    },
    {
     "data": {
      "application/vnd.jupyter.widget-view+json": {
       "model_id": "5c08dc5b9b0f4511850f898465e217bd",
       "version_major": 2,
       "version_minor": 0
      },
      "text/plain": [
       "  0%|          | 0/10000 [00:00<?, ?it/s]"
      ]
     },
     "metadata": {},
     "output_type": "display_data"
    },
    {
     "name": "stdout",
     "output_type": "stream",
     "text": [
      "gld_params: [0.04314083 0.02382747 0.3595109  0.14058045]\n",
      "wrapper([ 2.434e-02  9.166e-02 ...  9.686e-01  8.660e-01]) = -0.02656883046680908\n",
      "assembly_constraint_no_mean([ 2.434e-02  9.166e-02 ...  9.686e-01  8.660e-01]) = [ 2.835e-02  3.931e-02 ...  2.937e-02  6.367e-03]\n"
     ]
    },
    {
     "data": {
      "application/vnd.jupyter.widget-view+json": {
       "model_id": "c5ab73795c3f44848345a54aa61d4288",
       "version_major": 2,
       "version_minor": 0
      },
      "text/plain": [
       "  0%|          | 0/10000 [00:00<?, ?it/s]"
      ]
     },
     "metadata": {},
     "output_type": "display_data"
    },
    {
     "name": "stdout",
     "output_type": "stream",
     "text": [
      "gld_params: [0.04314511 0.0238327  0.360662   0.1402459 ]\n",
      "wrapper([ 1.335e-02  8.061e-02 ...  9.662e-01  8.678e-01]) = -0.026431020668053504\n",
      "assembly_constraint_no_mean([ 1.335e-02  8.061e-02 ...  9.662e-01  8.678e-01]) = [ 7.475e-03 -1.005e-03 ...  3.244e-03 -1.164e-03]\n"
     ]
    },
    {
     "data": {
      "application/vnd.jupyter.widget-view+json": {
       "model_id": "a282d6194bde4594ab76ee625e1e1b77",
       "version_major": 2,
       "version_minor": 0
      },
      "text/plain": [
       "  0%|          | 0/10000 [00:00<?, ?it/s]"
      ]
     },
     "metadata": {},
     "output_type": "display_data"
    },
    {
     "name": "stdout",
     "output_type": "stream",
     "text": [
      "gld_params: [0.04311894 0.02386865 0.36139648 0.14033067]\n",
      "wrapper([ 5.493e-03  5.192e-02 ...  9.569e-01  8.797e-01]) = -0.02652786128964986\n",
      "assembly_constraint_no_mean([ 5.493e-03  5.192e-02 ...  9.569e-01  8.797e-01]) = [ 1.299e-02  5.563e-03 ...  5.763e-04  1.245e-03]\n"
     ]
    },
    {
     "data": {
      "application/vnd.jupyter.widget-view+json": {
       "model_id": "48caa676aa0c49f6ae044ddae7076edf",
       "version_major": 2,
       "version_minor": 0
      },
      "text/plain": [
       "  0%|          | 0/10000 [00:00<?, ?it/s]"
      ]
     },
     "metadata": {},
     "output_type": "display_data"
    },
    {
     "name": "stdout",
     "output_type": "stream",
     "text": [
      "gld_params: [0.04307877 0.02384811 0.36085076 0.13981258]\n",
      "wrapper([ 2.362e-02  8.336e-02 ...  9.857e-01  8.884e-01]) = -0.026748481634196825\n",
      "assembly_constraint_no_mean([ 2.362e-02  8.336e-02 ...  9.857e-01  8.884e-01]) = [ 1.482e-01 -1.495e-01 ...  5.478e-02  2.140e-01]\n"
     ]
    },
    {
     "data": {
      "application/vnd.jupyter.widget-view+json": {
       "model_id": "affd75287a82499e9bcacb37215d54b8",
       "version_major": 2,
       "version_minor": 0
      },
      "text/plain": [
       "  0%|          | 0/10000 [00:00<?, ?it/s]"
      ]
     },
     "metadata": {},
     "output_type": "display_data"
    },
    {
     "name": "stdout",
     "output_type": "stream",
     "text": [
      "gld_params: [0.04312392 0.02385663 0.36128896 0.14015679]\n",
      "wrapper([ 1.757e-02  6.704e-02 ...  9.558e-01  8.826e-01]) = -0.026509698963828193\n",
      "assembly_constraint_no_mean([ 1.757e-02  6.704e-02 ...  9.558e-01  8.826e-01]) = [-2.793e-03 -3.287e-04 ...  2.625e-03  4.595e-03]\n"
     ]
    },
    {
     "data": {
      "application/vnd.jupyter.widget-view+json": {
       "model_id": "eead2a17f35c46099bdb1845d0457ba6",
       "version_major": 2,
       "version_minor": 0
      },
      "text/plain": [
       "  0%|          | 0/10000 [00:00<?, ?it/s]"
      ]
     },
     "metadata": {},
     "output_type": "display_data"
    },
    {
     "name": "stdout",
     "output_type": "stream",
     "text": [
      "gld_params: [0.04309888 0.0238877  0.36232707 0.13990222]\n",
      "wrapper([ 2.760e-02  3.760e-02 ...  9.478e-01  8.920e-01]) = -0.026587820824350763\n",
      "assembly_constraint_no_mean([ 2.760e-02  3.760e-02 ...  9.478e-01  8.920e-01]) = [ 4.009e-03  1.182e-02 ...  2.659e-03  2.507e-03]\n"
     ]
    },
    {
     "data": {
      "application/vnd.jupyter.widget-view+json": {
       "model_id": "db5ed6ae9fa3405d8644bbbfc46f18c6",
       "version_major": 2,
       "version_minor": 0
      },
      "text/plain": [
       "  0%|          | 0/10000 [00:00<?, ?it/s]"
      ]
     },
     "metadata": {},
     "output_type": "display_data"
    },
    {
     "name": "stdout",
     "output_type": "stream",
     "text": [
      "gld_params: [0.04309271 0.02385363 0.36124122 0.13995397]\n",
      "wrapper([ 1.832e-02  6.397e-02 ...  9.651e-01  8.763e-01]) = -0.026634078063608773\n",
      "assembly_constraint_no_mean([ 1.832e-02  6.397e-02 ...  9.651e-01  8.763e-01]) = [ 1.582e-02 -1.740e-02 ... -7.283e-02  3.092e-02]\n"
     ]
    },
    {
     "data": {
      "application/vnd.jupyter.widget-view+json": {
       "model_id": "2756b2d859c042d3beaab2696c00517d",
       "version_major": 2,
       "version_minor": 0
      },
      "text/plain": [
       "  0%|          | 0/10000 [00:00<?, ?it/s]"
      ]
     },
     "metadata": {},
     "output_type": "display_data"
    },
    {
     "name": "stdout",
     "output_type": "stream",
     "text": [
      "gld_params: [0.04310369 0.02388021 0.36170767 0.14012099]\n",
      "wrapper([ 1.255e-02  6.092e-02 ...  9.477e-01  8.932e-01]) = -0.026614670443820213\n",
      "assembly_constraint_no_mean([ 1.255e-02  6.092e-02 ...  9.477e-01  8.932e-01]) = [ 1.280e-02  1.781e-02 ...  4.371e-03  8.607e-03]\n"
     ]
    },
    {
     "data": {
      "application/vnd.jupyter.widget-view+json": {
       "model_id": "aff4162e78b84f809f8b7407e680b77e",
       "version_major": 2,
       "version_minor": 0
      },
      "text/plain": [
       "  0%|          | 0/10000 [00:00<?, ?it/s]"
      ]
     },
     "metadata": {},
     "output_type": "display_data"
    },
    {
     "name": "stdout",
     "output_type": "stream",
     "text": [
      "gld_params: [0.04325449 0.02379728 0.36128371 0.13978191]\n",
      "wrapper([ 2.022e-02  5.811e-02 ...  9.625e-01  8.842e-01]) = -0.02592031769031492\n",
      "assembly_constraint_no_mean([ 2.022e-02  5.811e-02 ...  9.625e-01  8.842e-01]) = [-2.067e-01 -5.269e-02 ... -3.207e-02  5.457e-02]\n"
     ]
    },
    {
     "data": {
      "application/vnd.jupyter.widget-view+json": {
       "model_id": "87770d725a3a441d9a08fad41585bf0e",
       "version_major": 2,
       "version_minor": 0
      },
      "text/plain": [
       "  0%|          | 0/10000 [00:00<?, ?it/s]"
      ]
     },
     "metadata": {},
     "output_type": "display_data"
    },
    {
     "name": "stdout",
     "output_type": "stream",
     "text": [
      "gld_params: [0.0430828  0.0238845  0.36162574 0.14027676]\n",
      "wrapper([ 9.171e-03  7.158e-02 ...  9.501e-01  8.925e-01]) = -0.026679091954018172\n",
      "assembly_constraint_no_mean([ 9.171e-03  7.158e-02 ...  9.501e-01  8.925e-01]) = [ 2.345e-03  2.702e-02 ...  2.420e-02  1.838e-02]\n"
     ]
    },
    {
     "data": {
      "application/vnd.jupyter.widget-view+json": {
       "model_id": "6293da24643a44ef886d0aadb678d6da",
       "version_major": 2,
       "version_minor": 0
      },
      "text/plain": [
       "  0%|          | 0/10000 [00:00<?, ?it/s]"
      ]
     },
     "metadata": {},
     "output_type": "display_data"
    },
    {
     "name": "stdout",
     "output_type": "stream",
     "text": [
      "gld_params: [0.04313649 0.02385777 0.36118573 0.14025047]\n",
      "wrapper([ 2.424e-02  6.748e-02 ...  9.558e-01  8.867e-01]) = -0.026480501616136028\n",
      "assembly_constraint_no_mean([ 2.424e-02  6.748e-02 ...  9.558e-01  8.867e-01]) = [ 6.306e-02  1.163e-01 ... -1.162e-01  2.453e-02]\n"
     ]
    },
    {
     "data": {
      "application/vnd.jupyter.widget-view+json": {
       "model_id": "95c42c987b364cef817fc16dcd8a4acc",
       "version_major": 2,
       "version_minor": 0
      },
      "text/plain": [
       "  0%|          | 0/10000 [00:00<?, ?it/s]"
      ]
     },
     "metadata": {},
     "output_type": "display_data"
    },
    {
     "name": "stdout",
     "output_type": "stream",
     "text": [
      "gld_params: [0.04310841 0.02387723 0.36176051 0.14003263]\n",
      "wrapper([ 2.697e-02  5.207e-02 ...  9.432e-01  8.979e-01]) = -0.02659073380423948\n",
      "assembly_constraint_no_mean([ 2.697e-02  5.207e-02 ...  9.432e-01  8.979e-01]) = [ 1.401e-03  1.301e-03 ...  3.323e-03  5.063e-03]\n"
     ]
    },
    {
     "data": {
      "application/vnd.jupyter.widget-view+json": {
       "model_id": "1a8dd69bea824b809c622914bbcf46af",
       "version_major": 2,
       "version_minor": 0
      },
      "text/plain": [
       "  0%|          | 0/10000 [00:00<?, ?it/s]"
      ]
     },
     "metadata": {},
     "output_type": "display_data"
    },
    {
     "name": "stdout",
     "output_type": "stream",
     "text": [
      "gld_params: [0.04324233 0.02381427 0.36114942 0.14016104]\n",
      "wrapper([ 1.878e-02  7.358e-02 ...  9.448e-01  8.734e-01]) = -0.025988945373255308\n",
      "assembly_constraint_no_mean([ 1.878e-02  7.358e-02 ...  9.448e-01  8.734e-01]) = [-6.060e-02 -1.956e-01 ... -1.429e-02 -1.064e-01]\n"
     ]
    },
    {
     "data": {
      "application/vnd.jupyter.widget-view+json": {
       "model_id": "3ee3762708b84346b9abd1312260060f",
       "version_major": 2,
       "version_minor": 0
      },
      "text/plain": [
       "  0%|          | 0/10000 [00:00<?, ?it/s]"
      ]
     },
     "metadata": {},
     "output_type": "display_data"
    },
    {
     "name": "stdout",
     "output_type": "stream",
     "text": [
      "gld_params: [0.04310348 0.02387555 0.3616758  0.139894  ]\n",
      "wrapper([ 2.668e-02  5.335e-02 ...  9.456e-01  8.973e-01]) = -0.026643482365870403\n",
      "assembly_constraint_no_mean([ 2.668e-02  5.335e-02 ...  9.456e-01  8.973e-01]) = [-6.610e-04  8.233e-03 ...  6.939e-03  1.724e-02]\n"
     ]
    },
    {
     "data": {
      "application/vnd.jupyter.widget-view+json": {
       "model_id": "94acb0b4128747e7983553d4f0c4ff40",
       "version_major": 2,
       "version_minor": 0
      },
      "text/plain": [
       "  0%|          | 0/10000 [00:00<?, ?it/s]"
      ]
     },
     "metadata": {},
     "output_type": "display_data"
    },
    {
     "name": "stdout",
     "output_type": "stream",
     "text": [
      "gld_params: [0.04292334 0.02394049 0.36143802 0.13995359]\n",
      "wrapper([ 1.517e-02  6.407e-02 ...  9.604e-01  8.874e-01]) = -0.02752614467904621\n",
      "assembly_constraint_no_mean([ 1.517e-02  6.407e-02 ...  9.604e-01  8.874e-01]) = [ 7.588e-02  5.953e-02 ... -6.925e-02  5.589e-02]\n"
     ]
    },
    {
     "data": {
      "application/vnd.jupyter.widget-view+json": {
       "model_id": "e247e5b3bce14e258568b514994d3c55",
       "version_major": 2,
       "version_minor": 0
      },
      "text/plain": [
       "  0%|          | 0/10000 [00:00<?, ?it/s]"
      ]
     },
     "metadata": {},
     "output_type": "display_data"
    },
    {
     "name": "stdout",
     "output_type": "stream",
     "text": [
      "gld_params: [0.04311249 0.02388036 0.3617633  0.14003313]\n",
      "wrapper([ 2.610e-02  5.390e-02 ...  9.433e-01  8.975e-01]) = -0.02659447398137483\n",
      "assembly_constraint_no_mean([ 2.610e-02  5.390e-02 ...  9.433e-01  8.975e-01]) = [ 2.344e-03  7.062e-03 ...  9.552e-04  3.898e-03]\n"
     ]
    },
    {
     "data": {
      "application/vnd.jupyter.widget-view+json": {
       "model_id": "91508b09ebcc44a680c8aa766f940d22",
       "version_major": 2,
       "version_minor": 0
      },
      "text/plain": [
       "  0%|          | 0/10000 [00:00<?, ?it/s]"
      ]
     },
     "metadata": {},
     "output_type": "display_data"
    },
    {
     "name": "stdout",
     "output_type": "stream",
     "text": [
      "gld_params: [0.04309925 0.02390702 0.36264669 0.13971773]\n",
      "wrapper([ 2.813e-02  3.596e-02 ...  9.233e-01  9.203e-01]) = -0.026663297264347137\n",
      "assembly_constraint_no_mean([ 2.813e-02  3.596e-02 ...  9.233e-01  9.203e-01]) = [ 3.678e-03 -2.809e-03 ...  3.028e-03  1.165e-02]\n"
     ]
    },
    {
     "data": {
      "application/vnd.jupyter.widget-view+json": {
       "model_id": "03e7df4d84074c9aa1c3700022b8bbda",
       "version_major": 2,
       "version_minor": 0
      },
      "text/plain": [
       "  0%|          | 0/10000 [00:00<?, ?it/s]"
      ]
     },
     "metadata": {},
     "output_type": "display_data"
    },
    {
     "name": "stdout",
     "output_type": "stream",
     "text": [
      "gld_params: [0.04314476 0.02388848 0.3616898  0.14035674]\n",
      "wrapper([ 3.053e-02  5.258e-02 ...  9.377e-01  8.897e-01]) = -0.02649442925692424\n",
      "assembly_constraint_no_mean([ 3.053e-02  5.258e-02 ...  9.377e-01  8.897e-01]) = [ 6.889e-02  9.055e-02 ...  4.670e-02 -6.893e-02]\n"
     ]
    },
    {
     "data": {
      "application/vnd.jupyter.widget-view+json": {
       "model_id": "342702b46bb445b6bf754bd8f7d60296",
       "version_major": 2,
       "version_minor": 0
      },
      "text/plain": [
       "  0%|          | 0/10000 [00:00<?, ?it/s]"
      ]
     },
     "metadata": {},
     "output_type": "display_data"
    },
    {
     "name": "stdout",
     "output_type": "stream",
     "text": [
      "gld_params: [0.04310563 0.02389855 0.36229444 0.13988424]\n",
      "wrapper([ 3.218e-02  4.138e-02 ...  9.326e-01  9.092e-01]) = -0.02663684489331396\n",
      "assembly_constraint_no_mean([ 3.218e-02  4.138e-02 ...  9.326e-01  9.092e-01]) = [ 2.407e-03  2.204e-03 ... -2.941e-04  3.107e-03]\n"
     ]
    },
    {
     "data": {
      "application/vnd.jupyter.widget-view+json": {
       "model_id": "5ac3c840970449dda2b4a9e58a35755c",
       "version_major": 2,
       "version_minor": 0
      },
      "text/plain": [
       "  0%|          | 0/10000 [00:00<?, ?it/s]"
      ]
     },
     "metadata": {},
     "output_type": "display_data"
    },
    {
     "name": "stdout",
     "output_type": "stream",
     "text": [
      "gld_params: [0.0430969  0.02392316 0.36313177 0.13973657]\n",
      "wrapper([ 3.593e-02  2.039e-02 ...  9.075e-01  9.358e-01]) = -0.02665429316261406\n",
      "assembly_constraint_no_mean([ 3.593e-02  2.039e-02 ...  9.075e-01  9.358e-01]) = [ 5.205e-03  3.947e-04 ...  5.933e-03  1.400e-02]\n"
     ]
    },
    {
     "data": {
      "application/vnd.jupyter.widget-view+json": {
       "model_id": "93c7c14ce9e04ac7ac6110506ea4d18b",
       "version_major": 2,
       "version_minor": 0
      },
      "text/plain": [
       "  0%|          | 0/10000 [00:00<?, ?it/s]"
      ]
     },
     "metadata": {},
     "output_type": "display_data"
    },
    {
     "name": "stdout",
     "output_type": "stream",
     "text": [
      "gld_params: [0.04312109 0.02387636 0.36304988 0.13927624]\n",
      "wrapper([ 2.451e-02  4.509e-02 ...  9.540e-01  9.085e-01]) = -0.026456349799170293\n",
      "assembly_constraint_no_mean([ 2.451e-02  4.509e-02 ...  9.540e-01  9.085e-01]) = [-5.335e-02  4.928e-02 ... -1.143e-01  1.213e-01]\n"
     ]
    },
    {
     "data": {
      "application/vnd.jupyter.widget-view+json": {
       "model_id": "58491e748d12470d8788063918509e9d",
       "version_major": 2,
       "version_minor": 0
      },
      "text/plain": [
       "  0%|          | 0/10000 [00:00<?, ?it/s]"
      ]
     },
     "metadata": {},
     "output_type": "display_data"
    },
    {
     "name": "stdout",
     "output_type": "stream",
     "text": [
      "gld_params: [0.04310201 0.02391619 0.36291712 0.1396861 ]\n",
      "wrapper([ 2.708e-02  3.554e-02 ...  9.226e-01  9.194e-01]) = -0.02665621720442756\n",
      "assembly_constraint_no_mean([ 2.708e-02  3.554e-02 ...  9.226e-01  9.194e-01]) = [ 9.947e-04  1.372e-03 ...  7.372e-03  2.026e-03]\n"
     ]
    },
    {
     "data": {
      "application/vnd.jupyter.widget-view+json": {
       "model_id": "8f89031f410d4f16af0d92fafa8fb29a",
       "version_major": 2,
       "version_minor": 0
      },
      "text/plain": [
       "  0%|          | 0/10000 [00:00<?, ?it/s]"
      ]
     },
     "metadata": {},
     "output_type": "display_data"
    },
    {
     "name": "stdout",
     "output_type": "stream",
     "text": [
      "gld_params: [0.04298974 0.02397168 0.36231553 0.14021519]\n",
      "wrapper([ 2.835e-02  4.130e-02 ...  9.457e-01  9.090e-01]) = -0.0272717707147849\n",
      "assembly_constraint_no_mean([ 2.835e-02  4.130e-02 ...  9.457e-01  9.090e-01]) = [-1.382e-02  8.446e-02 ...  2.115e-01  7.983e-02]\n"
     ]
    },
    {
     "data": {
      "application/vnd.jupyter.widget-view+json": {
       "model_id": "85ec8312fb304eb88e8ed3d2736287b2",
       "version_major": 2,
       "version_minor": 0
      },
      "text/plain": [
       "  0%|          | 0/10000 [00:00<?, ?it/s]"
      ]
     },
     "metadata": {},
     "output_type": "display_data"
    },
    {
     "name": "stdout",
     "output_type": "stream",
     "text": [
      "gld_params: [0.04310315 0.02391612 0.36288686 0.1397031 ]\n",
      "wrapper([ 2.438e-02  3.567e-02 ...  9.262e-01  9.156e-01]) = -0.026655092668905794\n",
      "assembly_constraint_no_mean([ 2.438e-02  3.567e-02 ...  9.262e-01  9.156e-01]) = [ 8.734e-04  1.557e-03 ...  4.392e-03  1.400e-03]\n"
     ]
    },
    {
     "data": {
      "application/vnd.jupyter.widget-view+json": {
       "model_id": "c8a708a056134591bc2854e3123cd41c",
       "version_major": 2,
       "version_minor": 0
      },
      "text/plain": [
       "  0%|          | 0/10000 [00:00<?, ?it/s]"
      ]
     },
     "metadata": {},
     "output_type": "display_data"
    },
    {
     "name": "stdout",
     "output_type": "stream",
     "text": [
      "gld_params: [0.04309997 0.02394013 0.36322812 0.1398799 ]\n",
      "wrapper([ 0.000e+00  0.000e+00 ...  9.228e-01  9.193e-01]) = -0.026683828964264873\n",
      "assembly_constraint_no_mean([ 0.000e+00  0.000e+00 ...  9.228e-01  9.193e-01]) = [ 1.211e-02 -2.689e-04 ... -1.489e-03  3.866e-03]\n"
     ]
    },
    {
     "data": {
      "application/vnd.jupyter.widget-view+json": {
       "model_id": "df1df768e1dd474eb40206eedb29c11d",
       "version_major": 2,
       "version_minor": 0
      },
      "text/plain": [
       "  0%|          | 0/10000 [00:00<?, ?it/s]"
      ]
     },
     "metadata": {},
     "output_type": "display_data"
    },
    {
     "name": "stdout",
     "output_type": "stream",
     "text": [
      "gld_params: [0.04308696 0.02392815 0.36313411 0.13976926]\n",
      "wrapper([ 2.174e-02  4.068e-02 ...  9.347e-01  9.212e-01]) = -0.026700212562055854\n",
      "assembly_constraint_no_mean([ 2.174e-02  4.068e-02 ...  9.347e-01  9.212e-01]) = [-4.186e-02 -3.234e-03 ...  3.749e-02  7.698e-02]\n"
     ]
    },
    {
     "data": {
      "application/vnd.jupyter.widget-view+json": {
       "model_id": "22a87206d1474ce687aaef50792a905a",
       "version_major": 2,
       "version_minor": 0
      },
      "text/plain": [
       "  0%|          | 0/10000 [00:00<?, ?it/s]"
      ]
     },
     "metadata": {},
     "output_type": "display_data"
    },
    {
     "name": "stdout",
     "output_type": "stream",
     "text": [
      "gld_params: [0.0430949  0.0239415  0.36333423 0.13991367]\n",
      "wrapper([ 3.614e-03  1.270e-02 ...  9.216e-01  9.204e-01]) = -0.026677741945050203\n",
      "assembly_constraint_no_mean([ 3.614e-03  1.270e-02 ...  9.216e-01  9.204e-01]) = [ 5.885e-03  1.816e-03 ...  5.827e-04  1.938e-03]\n"
     ]
    },
    {
     "data": {
      "application/vnd.jupyter.widget-view+json": {
       "model_id": "a7ecb95fea0d4b12b81bcb1902115c91",
       "version_major": 2,
       "version_minor": 0
      },
      "text/plain": [
       "  0%|          | 0/10000 [00:00<?, ?it/s]"
      ]
     },
     "metadata": {},
     "output_type": "display_data"
    },
    {
     "name": "stdout",
     "output_type": "stream",
     "text": [
      "gld_params: [0.04315712 0.02390196 0.36323921 0.13965063]\n",
      "wrapper([ 1.316e-02  3.636e-02 ...  9.348e-01  9.186e-01]) = -0.02637355026615943\n",
      "assembly_constraint_no_mean([ 1.316e-02  3.636e-02 ...  9.348e-01  9.186e-01]) = [ 1.188e-01 -2.824e-02 ... -4.053e-02  6.423e-02]\n"
     ]
    },
    {
     "data": {
      "application/vnd.jupyter.widget-view+json": {
       "model_id": "669c857f23d640fda95dd1e53388db2b",
       "version_major": 2,
       "version_minor": 0
      },
      "text/plain": [
       "  0%|          | 0/10000 [00:00<?, ?it/s]"
      ]
     },
     "metadata": {},
     "output_type": "display_data"
    },
    {
     "name": "stdout",
     "output_type": "stream",
     "text": [
      "gld_params: [0.04309039 0.0239445  0.36350512 0.13986087]\n",
      "wrapper([ 0.000e+00  2.050e-02 ...  9.248e-01  9.169e-01]) = -0.02668322626776703\n",
      "assembly_constraint_no_mean([ 0.000e+00  2.050e-02 ...  9.248e-01  9.169e-01]) = [ 7.550e-03  2.240e-03 ...  2.503e-03  6.691e-05]\n"
     ]
    },
    {
     "data": {
      "application/vnd.jupyter.widget-view+json": {
       "model_id": "4addfd0556c04233aefda550c27eda3a",
       "version_major": 2,
       "version_minor": 0
      },
      "text/plain": [
       "  0%|          | 0/10000 [00:00<?, ?it/s]"
      ]
     },
     "metadata": {},
     "output_type": "display_data"
    },
    {
     "name": "stdout",
     "output_type": "stream",
     "text": [
      "gld_params: [0.04299957 0.02397257 0.36289444 0.13998583]\n",
      "wrapper([ 1.465e-02  3.414e-02 ...  9.292e-01  9.071e-01]) = -0.027178467820408968\n",
      "assembly_constraint_no_mean([ 1.465e-02  3.414e-02 ...  9.292e-01  9.071e-01]) = [ 6.809e-02 -6.443e-02 ...  7.916e-02 -2.781e-02]\n"
     ]
    },
    {
     "data": {
      "application/vnd.jupyter.widget-view+json": {
       "model_id": "c143d2d27dc2423db1972e4beb564d37",
       "version_major": 2,
       "version_minor": 0
      },
      "text/plain": [
       "  0%|          | 0/10000 [00:00<?, ?it/s]"
      ]
     },
     "metadata": {},
     "output_type": "display_data"
    },
    {
     "name": "stdout",
     "output_type": "stream",
     "text": [
      "gld_params: [0.04309043 0.02394395 0.36350707 0.13986245]\n",
      "wrapper([ 0.000e+00  9.976e-03 ...  9.261e-01  9.160e-01]) = -0.026679620244751713\n",
      "assembly_constraint_no_mean([ 0.000e+00  9.976e-03 ...  9.261e-01  9.160e-01]) = [ 7.507e-03  1.532e-03 ...  1.617e-03  1.933e-03]\n"
     ]
    },
    {
     "data": {
      "application/vnd.jupyter.widget-view+json": {
       "model_id": "c3e28cd8f0524f02aecccf56c6a120e3",
       "version_major": 2,
       "version_minor": 0
      },
      "text/plain": [
       "  0%|          | 0/10000 [00:00<?, ?it/s]"
      ]
     },
     "metadata": {},
     "output_type": "display_data"
    },
    {
     "name": "stdout",
     "output_type": "stream",
     "text": [
      "gld_params: [0.04304523 0.02395399 0.36313645 0.13992039]\n",
      "wrapper([ 2.399e-02  4.291e-02 ...  9.236e-01  9.284e-01]) = -0.026918738009685562\n",
      "assembly_constraint_no_mean([ 2.399e-02  4.291e-02 ...  9.236e-01  9.284e-01]) = [ 1.180e-01 -8.276e-02 ... -1.051e-02  5.674e-02]\n"
     ]
    },
    {
     "data": {
      "application/vnd.jupyter.widget-view+json": {
       "model_id": "699abdacec70474fbf1f6dbc5d366c48",
       "version_major": 2,
       "version_minor": 0
      },
      "text/plain": [
       "  0%|          | 0/10000 [00:00<?, ?it/s]"
      ]
     },
     "metadata": {},
     "output_type": "display_data"
    },
    {
     "name": "stdout",
     "output_type": "stream",
     "text": [
      "gld_params: [0.04309004 0.02395715 0.36343178 0.14019501]\n",
      "wrapper([ 0.000e+00  3.758e-02 ...  9.164e-01  9.259e-01]) = -0.026694785115022577\n",
      "assembly_constraint_no_mean([ 0.000e+00  3.758e-02 ...  9.164e-01  9.259e-01]) = [ 8.814e-03  1.975e-03 ...  1.778e-03  3.856e-03]\n"
     ]
    },
    {
     "data": {
      "application/vnd.jupyter.widget-view+json": {
       "model_id": "be6525c8e5cc4fcfbb1401323e3b1601",
       "version_major": 2,
       "version_minor": 0
      },
      "text/plain": [
       "  0%|          | 0/10000 [00:00<?, ?it/s]"
      ]
     },
     "metadata": {},
     "output_type": "display_data"
    },
    {
     "name": "stdout",
     "output_type": "stream",
     "text": [
      "gld_params: [0.04309587 0.02390526 0.36296462 0.13945328]\n",
      "wrapper([ 2.523e-02  4.432e-02 ...  9.276e-01  9.281e-01]) = -0.026656028443496835\n",
      "assembly_constraint_no_mean([ 2.523e-02  4.432e-02 ...  9.276e-01  9.281e-01]) = [-4.979e-02  4.098e-02 ...  7.354e-03  7.614e-02]\n"
     ]
    },
    {
     "data": {
      "application/vnd.jupyter.widget-view+json": {
       "model_id": "d2e9c1cf1a614bccab83810fa450b925",
       "version_major": 2,
       "version_minor": 0
      },
      "text/plain": [
       "  0%|          | 0/10000 [00:00<?, ?it/s]"
      ]
     },
     "metadata": {},
     "output_type": "display_data"
    },
    {
     "name": "stdout",
     "output_type": "stream",
     "text": [
      "gld_params: [0.04309025 0.02395695 0.36348553 0.14015237]\n",
      "wrapper([ 0.000e+00  1.972e-02 ...  9.197e-01  9.225e-01]) = -0.026691462317043984\n",
      "assembly_constraint_no_mean([ 0.000e+00  1.972e-02 ...  9.197e-01  9.225e-01]) = [ 8.098e-03  1.754e-03 ...  2.226e-03  2.508e-03]\n"
     ]
    },
    {
     "data": {
      "application/vnd.jupyter.widget-view+json": {
       "model_id": "26a0dc96f1b848acbbf97c8aef064a72",
       "version_major": 2,
       "version_minor": 0
      },
      "text/plain": [
       "  0%|          | 0/10000 [00:00<?, ?it/s]"
      ]
     },
     "metadata": {},
     "output_type": "display_data"
    },
    {
     "name": "stdout",
     "output_type": "stream",
     "text": [
      "gld_params: [0.04303205 0.02392709 0.36275625 0.13929426]\n",
      "wrapper([ 1.815e-02  3.911e-02 ...  9.341e-01  9.241e-01]) = -0.027020571132325963\n",
      "assembly_constraint_no_mean([ 1.815e-02  3.911e-02 ...  9.341e-01  9.241e-01]) = [-1.381e-01  9.712e-02 ... -7.114e-03  8.998e-02]\n"
     ]
    },
    {
     "data": {
      "application/vnd.jupyter.widget-view+json": {
       "model_id": "5efe50b1d95e425eaeca03a8662a9ed2",
       "version_major": 2,
       "version_minor": 0
      },
      "text/plain": [
       "  0%|          | 0/10000 [00:00<?, ?it/s]"
      ]
     },
     "metadata": {},
     "output_type": "display_data"
    },
    {
     "name": "stdout",
     "output_type": "stream",
     "text": [
      "gld_params: [0.04308669 0.02395547 0.36357119 0.1400596 ]\n",
      "wrapper([ 5.118e-03  1.834e-02 ...  9.238e-01  9.178e-01]) = -0.02669611997509064\n",
      "assembly_constraint_no_mean([ 5.118e-03  1.834e-02 ...  9.238e-01  9.178e-01]) = [ 5.813e-03  4.091e-04 ...  1.500e-03 -1.643e-05]\n"
     ]
    },
    {
     "data": {
      "application/vnd.jupyter.widget-view+json": {
       "model_id": "c26b1040a170463d8dfb7d697b63ffee",
       "version_major": 2,
       "version_minor": 0
      },
      "text/plain": [
       "  0%|          | 0/10000 [00:00<?, ?it/s]"
      ]
     },
     "metadata": {},
     "output_type": "display_data"
    },
    {
     "name": "stdout",
     "output_type": "stream",
     "text": [
      "gld_params: [0.04308964 0.02392106 0.36337081 0.13950884]\n",
      "wrapper([ 3.730e-02  3.231e-02 ...  9.277e-01  9.207e-01]) = -0.02666391213845219\n",
      "assembly_constraint_no_mean([ 3.730e-02  3.231e-02 ...  9.277e-01  9.207e-01]) = [-4.775e-02 -2.352e-02 ...  8.573e-03  3.600e-02]\n"
     ]
    },
    {
     "data": {
      "application/vnd.jupyter.widget-view+json": {
       "model_id": "484caca2761046da971eebb5c7034759",
       "version_major": 2,
       "version_minor": 0
      },
      "text/plain": [
       "  0%|          | 0/10000 [00:00<?, ?it/s]"
      ]
     },
     "metadata": {},
     "output_type": "display_data"
    },
    {
     "name": "stdout",
     "output_type": "stream",
     "text": [
      "gld_params: [0.04308403 0.02395705 0.36358136 0.14007386]\n",
      "wrapper([ 1.408e-02  1.951e-02 ...  9.226e-01  9.193e-01]) = -0.026706712652650802\n",
      "assembly_constraint_no_mean([ 1.408e-02  1.951e-02 ...  9.226e-01  9.193e-01]) = [ 4.535e-03  1.364e-03 ...  3.101e-03  1.301e-03]\n"
     ]
    },
    {
     "data": {
      "application/vnd.jupyter.widget-view+json": {
       "model_id": "2c0e717687af410e91fa3c7927502a7e",
       "version_major": 2,
       "version_minor": 0
      },
      "text/plain": [
       "  0%|          | 0/10000 [00:00<?, ?it/s]"
      ]
     },
     "metadata": {},
     "output_type": "display_data"
    },
    {
     "name": "stdout",
     "output_type": "stream",
     "text": [
      "gld_params: [0.04301029 0.0239453  0.3626672  0.13969587]\n",
      "wrapper([ 1.289e-02  3.164e-02 ...  9.200e-01  9.297e-01]) = -0.027111571191351335\n",
      "assembly_constraint_no_mean([ 1.289e-02  3.164e-02 ...  9.200e-01  9.297e-01]) = [ 1.006e-02  1.376e-02 ...  3.807e-02  4.457e-02]\n"
     ]
    },
    {
     "data": {
      "application/vnd.jupyter.widget-view+json": {
       "model_id": "7cd1161ecd844cbb91fbb5b829382ae1",
       "version_major": 2,
       "version_minor": 0
      },
      "text/plain": [
       "  0%|          | 0/10000 [00:00<?, ?it/s]"
      ]
     },
     "metadata": {},
     "output_type": "display_data"
    },
    {
     "name": "stdout",
     "output_type": "stream",
     "text": [
      "gld_params: [0.04308385 0.02395483 0.36358921 0.14001447]\n",
      "wrapper([ 1.296e-02  1.893e-02 ...  9.251e-01  9.167e-01]) = -0.02670647596449082\n",
      "assembly_constraint_no_mean([ 1.296e-02  1.893e-02 ...  9.251e-01  9.167e-01]) = [ 6.566e-03  1.647e-03 ...  2.565e-03  1.037e-03]\n"
     ]
    },
    {
     "data": {
      "application/vnd.jupyter.widget-view+json": {
       "model_id": "98e8586598d4448fae2626109c30f712",
       "version_major": 2,
       "version_minor": 0
      },
      "text/plain": [
       "  0%|          | 0/10000 [00:00<?, ?it/s]"
      ]
     },
     "metadata": {},
     "output_type": "display_data"
    },
    {
     "name": "stdout",
     "output_type": "stream",
     "text": [
      "gld_params: [0.04301081 0.023949   0.36329405 0.13952552]\n",
      "wrapper([ 3.490e-02  3.334e-02 ...  9.352e-01  9.259e-01]) = -0.02704109918814672\n",
      "assembly_constraint_no_mean([ 3.490e-02  3.334e-02 ...  9.352e-01  9.259e-01]) = [ 1.067e-01  1.094e-02 ... -1.420e-01  1.062e-01]\n"
     ]
    },
    {
     "data": {
      "application/vnd.jupyter.widget-view+json": {
       "model_id": "df8541578629412faa11a67243308a1e",
       "version_major": 2,
       "version_minor": 0
      },
      "text/plain": [
       "  0%|          | 0/10000 [00:00<?, ?it/s]"
      ]
     },
     "metadata": {},
     "output_type": "display_data"
    },
    {
     "name": "stdout",
     "output_type": "stream",
     "text": [
      "gld_params: [0.04308654 0.02394975 0.36352306 0.13991692]\n",
      "wrapper([ 1.599e-02  2.055e-02 ...  9.266e-01  9.153e-01]) = -0.026705712197227612\n",
      "assembly_constraint_no_mean([ 1.599e-02  2.055e-02 ...  9.266e-01  9.153e-01]) = [ 9.148e-03  1.915e-03 ...  2.164e-03  1.153e-03]\n"
     ]
    },
    {
     "data": {
      "application/vnd.jupyter.widget-view+json": {
       "model_id": "913415c0d11d4ee7bf6e2c9b3bbebfd1",
       "version_major": 2,
       "version_minor": 0
      },
      "text/plain": [
       "  0%|          | 0/10000 [00:00<?, ?it/s]"
      ]
     },
     "metadata": {},
     "output_type": "display_data"
    },
    {
     "name": "stdout",
     "output_type": "stream",
     "text": [
      "gld_params: [0.04295337 0.02397773 0.3628664  0.13954517]\n",
      "wrapper([ 2.945e-02  3.921e-02 ...  9.357e-01  9.213e-01]) = -0.02743710665640087\n",
      "assembly_constraint_no_mean([ 2.945e-02  3.921e-02 ...  9.357e-01  9.213e-01]) = [ 1.106e-01  2.267e-01 ...  2.244e-02  8.423e-02]\n"
     ]
    },
    {
     "data": {
      "application/vnd.jupyter.widget-view+json": {
       "model_id": "58893cf403674be1a5c7a7b1292e0848",
       "version_major": 2,
       "version_minor": 0
      },
      "text/plain": [
       "  0%|          | 0/10000 [00:00<?, ?it/s]"
      ]
     },
     "metadata": {},
     "output_type": "display_data"
    },
    {
     "name": "stdout",
     "output_type": "stream",
     "text": [
      "gld_params: [0.04308629 0.02394873 0.36351409 0.13990271]\n",
      "wrapper([ 1.996e-02  2.014e-02 ...  9.285e-01  9.131e-01]) = -0.026705889505031135\n",
      "assembly_constraint_no_mean([ 1.996e-02  2.014e-02 ...  9.285e-01  9.131e-01]) = [ 7.019e-03  1.278e-03 ...  2.675e-03  6.072e-04]\n"
     ]
    },
    {
     "data": {
      "application/vnd.jupyter.widget-view+json": {
       "model_id": "b8c0911a97414eab8e12445b767a94ff",
       "version_major": 2,
       "version_minor": 0
      },
      "text/plain": [
       "  0%|          | 0/10000 [00:00<?, ?it/s]"
      ]
     },
     "metadata": {},
     "output_type": "display_data"
    },
    {
     "name": "stdout",
     "output_type": "stream",
     "text": [
      "gld_params: [0.04282588 0.02402887 0.36320933 0.13946496]\n",
      "wrapper([ 1.833e-02  3.239e-02 ...  9.376e-01  9.101e-01]) = -0.028019911193212666\n",
      "assembly_constraint_no_mean([ 1.833e-02  3.239e-02 ...  9.376e-01  9.101e-01]) = [ 1.140e-01  1.393e-01 ...  2.793e-02  3.668e-02]\n"
     ]
    },
    {
     "data": {
      "application/vnd.jupyter.widget-view+json": {
       "model_id": "a6db08fca86f4361bb6c29b1b5476bba",
       "version_major": 2,
       "version_minor": 0
      },
      "text/plain": [
       "  0%|          | 0/10000 [00:00<?, ?it/s]"
      ]
     },
     "metadata": {},
     "output_type": "display_data"
    },
    {
     "name": "stdout",
     "output_type": "stream",
     "text": [
      "gld_params: [0.04308444 0.02394954 0.36358158 0.13987764]\n",
      "wrapper([ 1.894e-02  2.043e-02 ...  9.284e-01  9.134e-01]) = -0.026707173563227174\n",
      "assembly_constraint_no_mean([ 1.894e-02  2.043e-02 ...  9.284e-01  9.134e-01]) = [ 7.024e-03  1.195e-03 ...  2.423e-03  1.011e-03]\n"
     ]
    },
    {
     "data": {
      "application/vnd.jupyter.widget-view+json": {
       "model_id": "ec0e022dc53544d0885a52a47817b76a",
       "version_major": 2,
       "version_minor": 0
      },
      "text/plain": [
       "  0%|          | 0/10000 [00:00<?, ?it/s]"
      ]
     },
     "metadata": {},
     "output_type": "display_data"
    },
    {
     "name": "stdout",
     "output_type": "stream",
     "text": [
      "gld_params: [0.04309023 0.02392119 0.36338386 0.1394718 ]\n",
      "wrapper([ 1.528e-02  2.800e-02 ...  9.442e-01  9.299e-01]) = -0.026667836759833818\n",
      "assembly_constraint_no_mean([ 1.528e-02  2.800e-02 ...  9.442e-01  9.299e-01]) = [-1.191e-01 -2.001e-02 ...  3.149e-02  1.767e-01]\n"
     ]
    },
    {
     "data": {
      "application/vnd.jupyter.widget-view+json": {
       "model_id": "cdc6c216166c4ef58b34eb11f2030522",
       "version_major": 2,
       "version_minor": 0
      },
      "text/plain": [
       "  0%|          | 0/10000 [00:00<?, ?it/s]"
      ]
     },
     "metadata": {},
     "output_type": "display_data"
    },
    {
     "name": "stdout",
     "output_type": "stream",
     "text": [
      "gld_params: [0.04308566 0.02394844 0.36351649 0.13987807]\n",
      "wrapper([ 1.915e-02  2.010e-02 ...  9.286e-01  9.131e-01]) = -0.02671066838920057\n",
      "assembly_constraint_no_mean([ 1.915e-02  2.010e-02 ...  9.286e-01  9.131e-01]) = [ 6.013e-03  8.577e-04 ...  2.650e-03  1.060e-03]\n"
     ]
    },
    {
     "data": {
      "application/vnd.jupyter.widget-view+json": {
       "model_id": "84c02fa27eb74b438938e2d9260651c2",
       "version_major": 2,
       "version_minor": 0
      },
      "text/plain": [
       "  0%|          | 0/10000 [00:00<?, ?it/s]"
      ]
     },
     "metadata": {},
     "output_type": "display_data"
    },
    {
     "name": "stdout",
     "output_type": "stream",
     "text": [
      "gld_params: [0.04313364 0.02389564 0.36306714 0.1393808 ]\n",
      "wrapper([ 6.261e-03  4.302e-02 ...  9.352e-01  9.173e-01]) = -0.026494004843175586\n",
      "assembly_constraint_no_mean([ 6.261e-03  4.302e-02 ...  9.352e-01  9.173e-01]) = [-7.228e-02 -6.407e-02 ... -1.328e-02  6.352e-02]\n"
     ]
    },
    {
     "data": {
      "application/vnd.jupyter.widget-view+json": {
       "model_id": "2b44ec4d2af6478ebe2f116cec075f7c",
       "version_major": 2,
       "version_minor": 0
      },
      "text/plain": [
       "  0%|          | 0/10000 [00:00<?, ?it/s]"
      ]
     },
     "metadata": {},
     "output_type": "display_data"
    },
    {
     "name": "stdout",
     "output_type": "stream",
     "text": [
      "gld_params: [0.04308456 0.02394886 0.36353625 0.13988043]\n",
      "wrapper([ 1.908e-02  2.088e-02 ...  9.285e-01  9.132e-01]) = -0.026711593993544634\n",
      "assembly_constraint_no_mean([ 1.908e-02  2.088e-02 ...  9.285e-01  9.132e-01]) = [ 5.891e-03  1.013e-03 ...  2.889e-03  1.134e-03]\n"
     ]
    },
    {
     "data": {
      "application/vnd.jupyter.widget-view+json": {
       "model_id": "18bf06aa229047f9a410c0e21ae1cc97",
       "version_major": 2,
       "version_minor": 0
      },
      "text/plain": [
       "  0%|          | 0/10000 [00:00<?, ?it/s]"
      ]
     },
     "metadata": {},
     "output_type": "display_data"
    },
    {
     "name": "stdout",
     "output_type": "stream",
     "text": [
      "gld_params: [0.04312719 0.02388846 0.36167893 0.14011998]\n",
      "wrapper([ 2.988e-02  4.930e-02 ...  9.289e-01  9.137e-01]) = -0.02659296159542207\n",
      "assembly_constraint_no_mean([ 2.988e-02  4.930e-02 ...  9.289e-01  9.137e-01]) = [-2.520e-03 -1.028e-02 ...  7.789e-03  7.735e-03]\n"
     ]
    },
    {
     "data": {
      "application/vnd.jupyter.widget-view+json": {
       "model_id": "37334978dc6e4a03804d21745acc504f",
       "version_major": 2,
       "version_minor": 0
      },
      "text/plain": [
       "  0%|          | 0/10000 [00:00<?, ?it/s]"
      ]
     },
     "metadata": {},
     "output_type": "display_data"
    },
    {
     "name": "stdout",
     "output_type": "stream",
     "text": [
      "gld_params: [0.04308473 0.02394942 0.36355218 0.13987989]\n",
      "wrapper([ 1.935e-02  2.043e-02 ...  9.287e-01  9.130e-01]) = -0.026710971119003453\n",
      "assembly_constraint_no_mean([ 1.935e-02  2.043e-02 ...  9.287e-01  9.130e-01]) = [ 6.185e-03  1.008e-03 ...  2.699e-03  1.064e-03]\n"
     ]
    },
    {
     "data": {
      "application/vnd.jupyter.widget-view+json": {
       "model_id": "3b1f0aeb1d7c42c395119736d3484a04",
       "version_major": 2,
       "version_minor": 0
      },
      "text/plain": [
       "  0%|          | 0/10000 [00:00<?, ?it/s]"
      ]
     },
     "metadata": {},
     "output_type": "display_data"
    },
    {
     "name": "stdout",
     "output_type": "stream",
     "text": [
      "gld_params: [0.04302456 0.02395753 0.36260095 0.13977834]\n",
      "wrapper([ 2.270e-02  2.561e-02 ...  9.412e-01  9.140e-01]) = -0.027129692313263714\n",
      "assembly_constraint_no_mean([ 2.270e-02  2.561e-02 ...  9.412e-01  9.140e-01]) = [ 8.105e-02  2.106e-02 ...  2.142e-01  7.682e-02]\n"
     ]
    },
    {
     "data": {
      "application/vnd.jupyter.widget-view+json": {
       "model_id": "195e132435ac4f3cbed49a407326be16",
       "version_major": 2,
       "version_minor": 0
      },
      "text/plain": [
       "  0%|          | 0/10000 [00:00<?, ?it/s]"
      ]
     },
     "metadata": {},
     "output_type": "display_data"
    },
    {
     "name": "stdout",
     "output_type": "stream",
     "text": [
      "gld_params: [0.04308592 0.02394906 0.36351855 0.13989018]\n",
      "wrapper([ 1.916e-02  1.980e-02 ...  9.280e-01  9.138e-01]) = -0.02671021140778728\n",
      "assembly_constraint_no_mean([ 1.916e-02  1.980e-02 ...  9.280e-01  9.138e-01]) = [ 6.547e-03  9.972e-04 ...  2.818e-03  1.135e-03]\n"
     ]
    },
    {
     "data": {
      "application/vnd.jupyter.widget-view+json": {
       "model_id": "6f53e3506662409b952967c306216204",
       "version_major": 2,
       "version_minor": 0
      },
      "text/plain": [
       "  0%|          | 0/10000 [00:00<?, ?it/s]"
      ]
     },
     "metadata": {},
     "output_type": "display_data"
    },
    {
     "name": "stdout",
     "output_type": "stream",
     "text": [
      "gld_params: [0.04301757 0.02395051 0.36256769 0.14010957]\n",
      "wrapper([ 2.816e-02  5.071e-02 ...  9.309e-01  9.190e-01]) = -0.027052382817857896\n",
      "assembly_constraint_no_mean([ 2.816e-02  5.071e-02 ...  9.309e-01  9.190e-01]) = [ 2.758e-02 -2.321e-03 ...  9.531e-02  4.711e-02]\n"
     ]
    },
    {
     "data": {
      "application/vnd.jupyter.widget-view+json": {
       "model_id": "1eefc4c21c5843da94874260a963405d",
       "version_major": 2,
       "version_minor": 0
      },
      "text/plain": [
       "  0%|          | 0/10000 [00:00<?, ?it/s]"
      ]
     },
     "metadata": {},
     "output_type": "display_data"
    },
    {
     "name": "stdout",
     "output_type": "stream",
     "text": [
      "gld_params: [0.04308382 0.02394899 0.36358215 0.1398528 ]\n",
      "wrapper([ 1.738e-02  2.065e-02 ...  9.309e-01  9.107e-01]) = -0.026711024840228786\n",
      "assembly_constraint_no_mean([ 1.738e-02  2.065e-02 ...  9.309e-01  9.107e-01]) = [ 5.982e-03  5.867e-04 ...  3.057e-03  1.169e-03]\n"
     ]
    },
    {
     "data": {
      "application/vnd.jupyter.widget-view+json": {
       "model_id": "bef4cec84bf9487a9ac2804635136f4b",
       "version_major": 2,
       "version_minor": 0
      },
      "text/plain": [
       "  0%|          | 0/10000 [00:00<?, ?it/s]"
      ]
     },
     "metadata": {},
     "output_type": "display_data"
    },
    {
     "name": "stdout",
     "output_type": "stream",
     "text": [
      "gld_params: [0.0430434  0.02392544 0.36259543 0.13937801]\n",
      "wrapper([ 2.256e-02  4.268e-02 ...  9.338e-01  9.288e-01]) = -0.026994094348235822\n",
      "assembly_constraint_no_mean([ 2.256e-02  4.268e-02 ...  9.338e-01  9.288e-01]) = [ 4.235e-02  3.311e-02 ... -2.380e-02  1.141e-01]\n"
     ]
    },
    {
     "data": {
      "application/vnd.jupyter.widget-view+json": {
       "model_id": "e63362513e3a44258f471e8b1518b5dc",
       "version_major": 2,
       "version_minor": 0
      },
      "text/plain": [
       "  0%|          | 0/10000 [00:00<?, ?it/s]"
      ]
     },
     "metadata": {},
     "output_type": "display_data"
    },
    {
     "name": "stdout",
     "output_type": "stream",
     "text": [
      "gld_params: [0.04308555 0.02394751 0.36346779 0.13989153]\n",
      "wrapper([ 1.900e-02  2.024e-02 ...  9.302e-01  9.114e-01]) = -0.026712958360506085\n",
      "assembly_constraint_no_mean([ 1.900e-02  2.024e-02 ...  9.302e-01  9.114e-01]) = [ 5.545e-03  1.241e-03 ...  2.851e-03  1.166e-03]\n"
     ]
    },
    {
     "data": {
      "application/vnd.jupyter.widget-view+json": {
       "model_id": "c6db0fe289d14ddeade529f951b83cc2",
       "version_major": 2,
       "version_minor": 0
      },
      "text/plain": [
       "  0%|          | 0/10000 [00:00<?, ?it/s]"
      ]
     },
     "metadata": {},
     "output_type": "display_data"
    },
    {
     "name": "stdout",
     "output_type": "stream",
     "text": [
      "gld_params: [0.04313073 0.0238971  0.36295978 0.13937308]\n",
      "wrapper([ 1.461e-02  3.327e-02 ...  9.331e-01  8.933e-01]) = -0.02653151170276864\n",
      "assembly_constraint_no_mean([ 1.461e-02  3.327e-02 ...  9.331e-01  8.933e-01]) = [ 4.785e-02 -3.450e-02 ...  3.575e-02 -7.604e-02]\n"
     ]
    },
    {
     "data": {
      "application/vnd.jupyter.widget-view+json": {
       "model_id": "f417681181b54cc2abacc0e6da103d84",
       "version_major": 2,
       "version_minor": 0
      },
      "text/plain": [
       "  0%|          | 0/10000 [00:00<?, ?it/s]"
      ]
     },
     "metadata": {},
     "output_type": "display_data"
    },
    {
     "name": "stdout",
     "output_type": "stream",
     "text": [
      "gld_params: [0.04308536 0.02394791 0.36348887 0.13988167]\n",
      "wrapper([ 1.959e-02  1.966e-02 ...  9.296e-01  9.121e-01]) = -0.026713428733663665\n",
      "assembly_constraint_no_mean([ 1.959e-02  1.966e-02 ...  9.296e-01  9.121e-01]) = [ 6.312e-03  1.344e-03 ...  3.345e-03  1.091e-03]\n"
     ]
    },
    {
     "data": {
      "application/vnd.jupyter.widget-view+json": {
       "model_id": "589fef39a6b04563a571816d2600162f",
       "version_major": 2,
       "version_minor": 0
      },
      "text/plain": [
       "  0%|          | 0/10000 [00:00<?, ?it/s]"
      ]
     },
     "metadata": {},
     "output_type": "display_data"
    },
    {
     "name": "stdout",
     "output_type": "stream",
     "text": [
      "gld_params: [0.04325645 0.02384538 0.36289365 0.1397086 ]\n",
      "wrapper([ 2.024e-02  3.726e-02 ...  9.248e-01  9.089e-01]) = -0.025864594827865274\n",
      "assembly_constraint_no_mean([ 2.024e-02  3.726e-02 ...  9.248e-01  9.089e-01]) = [-2.524e-02  9.290e-02 ... -1.712e-01 -4.178e-02]\n"
     ]
    },
    {
     "data": {
      "application/vnd.jupyter.widget-view+json": {
       "model_id": "0210f3251a7d412c93f5a5d34d34f87a",
       "version_major": 2,
       "version_minor": 0
      },
      "text/plain": [
       "  0%|          | 0/10000 [00:00<?, ?it/s]"
      ]
     },
     "metadata": {},
     "output_type": "display_data"
    },
    {
     "name": "stdout",
     "output_type": "stream",
     "text": [
      "gld_params: [0.04308517 0.02394796 0.36346898 0.13990436]\n",
      "wrapper([ 1.885e-02  1.946e-02 ...  9.294e-01  9.122e-01]) = -0.026713462569295746\n",
      "assembly_constraint_no_mean([ 1.885e-02  1.946e-02 ...  9.294e-01  9.122e-01]) = [ 6.353e-03  1.536e-03 ...  3.725e-03  9.471e-04]\n"
     ]
    },
    {
     "data": {
      "application/vnd.jupyter.widget-view+json": {
       "model_id": "52c4db84e253408cbcf383f07b4a4ba9",
       "version_major": 2,
       "version_minor": 0
      },
      "text/plain": [
       "  0%|          | 0/10000 [00:00<?, ?it/s]"
      ]
     },
     "metadata": {},
     "output_type": "display_data"
    },
    {
     "name": "stdout",
     "output_type": "stream",
     "text": [
      "gld_params: [0.04308884 0.02393344 0.36266536 0.13989403]\n",
      "wrapper([ 2.940e-03  4.304e-02 ...  9.203e-01  9.075e-01]) = -0.026786994856364422\n",
      "assembly_constraint_no_mean([ 2.940e-03  4.304e-02 ...  9.203e-01  9.075e-01]) = [-6.369e-03  1.970e-01 ... -4.213e-02 -7.426e-02]\n"
     ]
    },
    {
     "data": {
      "application/vnd.jupyter.widget-view+json": {
       "model_id": "3541248f984c420f9012f0454e249d2b",
       "version_major": 2,
       "version_minor": 0
      },
      "text/plain": [
       "  0%|          | 0/10000 [00:00<?, ?it/s]"
      ]
     },
     "metadata": {},
     "output_type": "display_data"
    },
    {
     "name": "stdout",
     "output_type": "stream",
     "text": [
      "gld_params: [0.04308566 0.02394645 0.36345742 0.13987154]\n",
      "wrapper([ 2.037e-02  1.931e-02 ...  9.296e-01  9.121e-01]) = -0.026713318797990535\n",
      "assembly_constraint_no_mean([ 2.037e-02  1.931e-02 ...  9.296e-01  9.121e-01]) = [ 8.439e-03  1.300e-03 ...  3.130e-03  1.256e-03]\n"
     ]
    },
    {
     "data": {
      "application/vnd.jupyter.widget-view+json": {
       "model_id": "796911f2ffd64b9aac04365b2ec56b20",
       "version_major": 2,
       "version_minor": 0
      },
      "text/plain": [
       "  0%|          | 0/10000 [00:00<?, ?it/s]"
      ]
     },
     "metadata": {},
     "output_type": "display_data"
    },
    {
     "name": "stdout",
     "output_type": "stream",
     "text": [
      "gld_params: [0.04312202 0.02389314 0.36276798 0.13950618]\n",
      "wrapper([ 2.489e-02  3.875e-02 ...  9.326e-01  9.303e-01]) = -0.026545795342244587\n",
      "assembly_constraint_no_mean([ 2.489e-02  3.875e-02 ...  9.326e-01  9.303e-01]) = [ 3.346e-03 -1.642e-02 ...  4.748e-02  1.148e-01]\n"
     ]
    },
    {
     "data": {
      "application/vnd.jupyter.widget-view+json": {
       "model_id": "77f4ce344da14a279dfc60a1ed455923",
       "version_major": 2,
       "version_minor": 0
      },
      "text/plain": [
       "  0%|          | 0/10000 [00:00<?, ?it/s]"
      ]
     },
     "metadata": {},
     "output_type": "display_data"
    },
    {
     "name": "stdout",
     "output_type": "stream",
     "text": [
      "gld_params: [0.043085   0.02394772 0.36347511 0.13988961]\n",
      "wrapper([ 1.921e-02  1.983e-02 ...  9.286e-01  9.131e-01]) = -0.026714533920512474\n",
      "assembly_constraint_no_mean([ 1.921e-02  1.983e-02 ...  9.286e-01  9.131e-01]) = [ 7.050e-03  1.338e-03 ...  3.320e-03  1.152e-03]\n"
     ]
    },
    {
     "data": {
      "application/vnd.jupyter.widget-view+json": {
       "model_id": "d0c030030bfe4d1b98bca5fe5469a15a",
       "version_major": 2,
       "version_minor": 0
      },
      "text/plain": [
       "  0%|          | 0/10000 [00:00<?, ?it/s]"
      ]
     },
     "metadata": {},
     "output_type": "display_data"
    },
    {
     "name": "stdout",
     "output_type": "stream",
     "text": [
      "gld_params: [0.0430363  0.02395104 0.36266429 0.14004041]\n",
      "wrapper([ 2.978e-02  6.177e-02 ...  9.238e-01  9.082e-01]) = -0.0269968378194662\n",
      "assembly_constraint_no_mean([ 2.978e-02  6.177e-02 ...  9.238e-01  9.082e-01]) = [ 7.474e-02 -4.647e-02 ...  1.330e-01 -5.174e-02]\n"
     ]
    },
    {
     "data": {
      "application/vnd.jupyter.widget-view+json": {
       "model_id": "44bf17c71be2476486d8e77fb09bce6c",
       "version_major": 2,
       "version_minor": 0
      },
      "text/plain": [
       "  0%|          | 0/10000 [00:00<?, ?it/s]"
      ]
     },
     "metadata": {},
     "output_type": "display_data"
    },
    {
     "name": "stdout",
     "output_type": "stream",
     "text": [
      "gld_params: [0.04308595 0.02394728 0.36345254 0.1398899 ]\n",
      "wrapper([ 1.948e-02  1.788e-02 ...  9.272e-01  9.145e-01]) = -0.026713915430200963\n",
      "assembly_constraint_no_mean([ 1.948e-02  1.788e-02 ...  9.272e-01  9.145e-01]) = [ 7.262e-03  1.207e-03 ...  3.163e-03  1.034e-03]\n"
     ]
    },
    {
     "data": {
      "application/vnd.jupyter.widget-view+json": {
       "model_id": "acc101427a2e41bb8643b7f22644ed58",
       "version_major": 2,
       "version_minor": 0
      },
      "text/plain": [
       "  0%|          | 0/10000 [00:00<?, ?it/s]"
      ]
     },
     "metadata": {},
     "output_type": "display_data"
    },
    {
     "name": "stdout",
     "output_type": "stream",
     "text": [
      "gld_params: [0.04309444 0.02392384 0.36274327 0.13968435]\n",
      "wrapper([ 2.015e-02  2.026e-02 ...  9.200e-01  9.189e-01]) = -0.026749728744883353\n",
      "assembly_constraint_no_mean([ 2.015e-02  2.026e-02 ...  9.200e-01  9.189e-01]) = [-8.786e-02  1.248e-01 ...  7.957e-02 -1.448e-02]\n"
     ]
    },
    {
     "data": {
      "application/vnd.jupyter.widget-view+json": {
       "model_id": "037a8edfd8134484940a020439a0b2e7",
       "version_major": 2,
       "version_minor": 0
      },
      "text/plain": [
       "  0%|          | 0/10000 [00:00<?, ?it/s]"
      ]
     },
     "metadata": {},
     "output_type": "display_data"
    },
    {
     "name": "stdout",
     "output_type": "stream",
     "text": [
      "gld_params: [0.04308602 0.0239468  0.3634334  0.13989306]\n",
      "wrapper([ 1.941e-02  1.890e-02 ...  9.271e-01  9.147e-01]) = -0.026714347087317743\n",
      "assembly_constraint_no_mean([ 1.941e-02  1.890e-02 ...  9.271e-01  9.147e-01]) = [ 7.787e-03  1.169e-03 ...  3.424e-03  1.112e-03]\n"
     ]
    },
    {
     "data": {
      "application/vnd.jupyter.widget-view+json": {
       "model_id": "6b824c75a3e94567ba1ac20d03a25aa3",
       "version_major": 2,
       "version_minor": 0
      },
      "text/plain": [
       "  0%|          | 0/10000 [00:00<?, ?it/s]"
      ]
     },
     "metadata": {},
     "output_type": "display_data"
    },
    {
     "name": "stdout",
     "output_type": "stream",
     "text": [
      "gld_params: [0.04306447 0.0239152  0.36271895 0.13930536]\n",
      "wrapper([ 2.984e-02  4.745e-02 ...  9.301e-01  9.189e-01]) = -0.02687242569812056\n",
      "assembly_constraint_no_mean([ 2.984e-02  4.745e-02 ...  9.301e-01  9.189e-01]) = [-2.597e-02 -2.597e-02 ...  1.253e-03  4.217e-02]\n"
     ]
    },
    {
     "data": {
      "application/vnd.jupyter.widget-view+json": {
       "model_id": "683a8b06322742cd860c6b26a9a5eff7",
       "version_major": 2,
       "version_minor": 0
      },
      "text/plain": [
       "  0%|          | 0/10000 [00:00<?, ?it/s]"
      ]
     },
     "metadata": {},
     "output_type": "display_data"
    },
    {
     "name": "stdout",
     "output_type": "stream",
     "text": [
      "gld_params: [0.04308593 0.02394735 0.36345341 0.13989107]\n",
      "wrapper([ 1.934e-02  1.833e-02 ...  9.270e-01  9.147e-01]) = -0.026713928294125257\n",
      "assembly_constraint_no_mean([ 1.934e-02  1.833e-02 ...  9.270e-01  9.147e-01]) = [ 7.750e-03  1.147e-03 ...  3.153e-03  1.084e-03]\n"
     ]
    },
    {
     "data": {
      "application/vnd.jupyter.widget-view+json": {
       "model_id": "af816150ac4b4499b03c3ac0646c0e5f",
       "version_major": 2,
       "version_minor": 0
      },
      "text/plain": [
       "  0%|          | 0/10000 [00:00<?, ?it/s]"
      ]
     },
     "metadata": {},
     "output_type": "display_data"
    },
    {
     "name": "stdout",
     "output_type": "stream",
     "text": [
      "gld_params: [0.04314794 0.02387231 0.36287788 0.1392281 ]\n",
      "wrapper([ 1.382e-02  3.152e-02 ...  9.377e-01  9.297e-01]) = -0.026403975494365323\n",
      "assembly_constraint_no_mean([ 1.382e-02  3.152e-02 ...  9.377e-01  9.297e-01]) = [ 5.744e-02 -7.434e-02 ... -8.463e-02  1.401e-01]\n"
     ]
    },
    {
     "data": {
      "application/vnd.jupyter.widget-view+json": {
       "model_id": "00a57d920b0a4ece80bae007cd97e57f",
       "version_major": 2,
       "version_minor": 0
      },
      "text/plain": [
       "  0%|          | 0/10000 [00:00<?, ?it/s]"
      ]
     },
     "metadata": {},
     "output_type": "display_data"
    },
    {
     "name": "stdout",
     "output_type": "stream",
     "text": [
      "gld_params: [0.04308493 0.02394814 0.36346839 0.13990534]\n",
      "wrapper([ 1.864e-02  1.949e-02 ...  9.281e-01  9.136e-01]) = -0.026714951897882203\n",
      "assembly_constraint_no_mean([ 1.864e-02  1.949e-02 ...  9.281e-01  9.136e-01]) = [ 7.101e-03  1.262e-03 ...  3.551e-03  1.162e-03]\n"
     ]
    },
    {
     "data": {
      "application/vnd.jupyter.widget-view+json": {
       "model_id": "809e2bbbc0ed45a4813fe053826a7312",
       "version_major": 2,
       "version_minor": 0
      },
      "text/plain": [
       "  0%|          | 0/10000 [00:00<?, ?it/s]"
      ]
     },
     "metadata": {},
     "output_type": "display_data"
    },
    {
     "name": "stdout",
     "output_type": "stream",
     "text": [
      "gld_params: [0.04310671 0.02392496 0.36284224 0.14002567]\n",
      "wrapper([ 7.315e-03  3.825e-02 ...  9.212e-01  9.184e-01]) = -0.026633344557737516\n",
      "assembly_constraint_no_mean([ 7.315e-03  3.825e-02 ...  9.212e-01  9.184e-01]) = [ 2.531e-02 -1.869e-01 ...  9.745e-02 -1.120e-02]\n"
     ]
    },
    {
     "data": {
      "application/vnd.jupyter.widget-view+json": {
       "model_id": "35a689f5f04e4984b548a5589b8583f5",
       "version_major": 2,
       "version_minor": 0
      },
      "text/plain": [
       "  0%|          | 0/10000 [00:00<?, ?it/s]"
      ]
     },
     "metadata": {},
     "output_type": "display_data"
    },
    {
     "name": "stdout",
     "output_type": "stream",
     "text": [
      "gld_params: [0.04308504 0.02394819 0.36346436 0.13990918]\n",
      "wrapper([ 1.723e-02  1.934e-02 ...  9.279e-01  9.138e-01]) = -0.026714901243078015\n",
      "assembly_constraint_no_mean([ 1.723e-02  1.934e-02 ...  9.279e-01  9.138e-01]) = [ 7.240e-03  1.307e-03 ...  3.507e-03  1.148e-03]\n"
     ]
    },
    {
     "data": {
      "application/vnd.jupyter.widget-view+json": {
       "model_id": "7bb46ee1670d4c77901d94007b50fb1f",
       "version_major": 2,
       "version_minor": 0
      },
      "text/plain": [
       "  0%|          | 0/10000 [00:00<?, ?it/s]"
      ]
     },
     "metadata": {},
     "output_type": "display_data"
    },
    {
     "name": "stdout",
     "output_type": "stream",
     "text": [
      "gld_params: [0.0430957  0.02391118 0.36274832 0.13953417]\n",
      "wrapper([ 3.356e-02  1.593e-02 ...  9.288e-01  9.136e-01]) = -0.026711624088516846\n",
      "assembly_constraint_no_mean([ 3.356e-02  1.593e-02 ...  9.288e-01  9.136e-01]) = [-5.014e-02 -4.130e-02 ... -3.195e-02  5.561e-03]\n"
     ]
    },
    {
     "data": {
      "application/vnd.jupyter.widget-view+json": {
       "model_id": "c946f24997c1479eb2301f1e0bd97d99",
       "version_major": 2,
       "version_minor": 0
      },
      "text/plain": [
       "  0%|          | 0/10000 [00:00<?, ?it/s]"
      ]
     },
     "metadata": {},
     "output_type": "display_data"
    },
    {
     "name": "stdout",
     "output_type": "stream",
     "text": [
      "gld_params: [0.04308558 0.02394767 0.36343758 0.13991454]\n",
      "wrapper([ 1.816e-02  1.749e-02 ...  9.282e-01  9.135e-01]) = -0.026714880210813485\n",
      "assembly_constraint_no_mean([ 1.816e-02  1.749e-02 ...  9.282e-01  9.135e-01]) = [ 6.951e-03  1.303e-03 ...  3.733e-03  1.164e-03]\n"
     ]
    },
    {
     "data": {
      "application/vnd.jupyter.widget-view+json": {
       "model_id": "de16d91d13c741ffb8f3632047624ae7",
       "version_major": 2,
       "version_minor": 0
      },
      "text/plain": [
       "  0%|          | 0/10000 [00:00<?, ?it/s]"
      ]
     },
     "metadata": {},
     "output_type": "display_data"
    },
    {
     "name": "stdout",
     "output_type": "stream",
     "text": [
      "gld_params: [0.04321094 0.02386482 0.36261616 0.13961291]\n",
      "wrapper([ 4.178e-02  2.948e-02 ...  9.292e-01  9.131e-01]) = -0.026161601559810007\n",
      "assembly_constraint_no_mean([ 4.178e-02  2.948e-02 ...  9.292e-01  9.131e-01]) = [-5.967e-02  8.954e-03 ... -2.289e-02  5.078e-03]\n"
     ]
    },
    {
     "data": {
      "application/vnd.jupyter.widget-view+json": {
       "model_id": "e969176a8bb040a5877e8e9466f0d729",
       "version_major": 2,
       "version_minor": 0
      },
      "text/plain": [
       "  0%|          | 0/10000 [00:00<?, ?it/s]"
      ]
     },
     "metadata": {},
     "output_type": "display_data"
    },
    {
     "name": "stdout",
     "output_type": "stream",
     "text": [
      "gld_params: [0.0430857  0.02394728 0.36345228 0.13989342]\n",
      "wrapper([ 1.775e-02  1.821e-02 ...  9.274e-01  9.143e-01]) = -0.026713958309474536\n",
      "assembly_constraint_no_mean([ 1.775e-02  1.821e-02 ...  9.274e-01  9.143e-01]) = [ 7.662e-03  1.184e-03 ...  3.374e-03  1.160e-03]\n"
     ]
    },
    {
     "data": {
      "application/vnd.jupyter.widget-view+json": {
       "model_id": "5ceba628417c47fd9dbc7134053e73a5",
       "version_major": 2,
       "version_minor": 0
      },
      "text/plain": [
       "  0%|          | 0/10000 [00:00<?, ?it/s]"
      ]
     },
     "metadata": {},
     "output_type": "display_data"
    },
    {
     "name": "stdout",
     "output_type": "stream",
     "text": [
      "gld_params: [0.0432046  0.0238528  0.36276949 0.13927175]\n",
      "wrapper([ 1.558e-02  3.827e-02 ...  9.281e-01  9.073e-01]) = -0.026158100460047413\n",
      "assembly_constraint_no_mean([ 1.558e-02  3.827e-02 ...  9.281e-01  9.073e-01]) = [-2.408e-01 -4.868e-02 ... -2.386e-02 -3.226e-02]\n"
     ]
    },
    {
     "data": {
      "application/vnd.jupyter.widget-view+json": {
       "model_id": "a97e2d07d7c943559c0c0f2c613e3295",
       "version_major": 2,
       "version_minor": 0
      },
      "text/plain": [
       "  0%|          | 0/10000 [00:00<?, ?it/s]"
      ]
     },
     "metadata": {},
     "output_type": "display_data"
    },
    {
     "name": "stdout",
     "output_type": "stream",
     "text": [
      "gld_params: [0.04308681 0.02394609 0.36340204 0.13989363]\n",
      "wrapper([ 1.795e-02  1.853e-02 ...  9.271e-01  9.147e-01]) = -0.026714475752384288\n",
      "assembly_constraint_no_mean([ 1.795e-02  1.853e-02 ...  9.271e-01  9.147e-01]) = [ 8.215e-03  1.192e-03 ...  3.231e-03  1.146e-03]\n"
     ]
    },
    {
     "data": {
      "application/vnd.jupyter.widget-view+json": {
       "model_id": "50af09584db141af9e3d6720cf2f26b8",
       "version_major": 2,
       "version_minor": 0
      },
      "text/plain": [
       "  0%|          | 0/10000 [00:00<?, ?it/s]"
      ]
     },
     "metadata": {},
     "output_type": "display_data"
    },
    {
     "name": "stdout",
     "output_type": "stream",
     "text": [
      "gld_params: [0.04297514 0.02396407 0.36294775 0.13970065]\n",
      "wrapper([ 3.218e-02  2.816e-02 ...  9.309e-01  9.230e-01]) = -0.027255544214412442\n",
      "assembly_constraint_no_mean([ 3.218e-02  2.816e-02 ...  9.309e-01  9.230e-01]) = [ 5.690e-02 -2.554e-02 ... -1.014e-01  6.880e-02]\n"
     ]
    },
    {
     "data": {
      "application/vnd.jupyter.widget-view+json": {
       "model_id": "2396fce1aa114a09b8c616a0b5e17c5e",
       "version_major": 2,
       "version_minor": 0
      },
      "text/plain": [
       "  0%|          | 0/10000 [00:00<?, ?it/s]"
      ]
     },
     "metadata": {},
     "output_type": "display_data"
    },
    {
     "name": "stdout",
     "output_type": "stream",
     "text": [
      "gld_params: [0.04308564 0.02394729 0.36344411 0.13990007]\n",
      "wrapper([ 1.924e-02  1.842e-02 ...  9.276e-01  9.141e-01]) = -0.026714429290988693\n",
      "assembly_constraint_no_mean([ 1.924e-02  1.842e-02 ...  9.276e-01  9.141e-01]) = [ 8.301e-03  1.127e-03 ...  3.606e-03  1.066e-03]\n"
     ]
    },
    {
     "data": {
      "application/vnd.jupyter.widget-view+json": {
       "model_id": "156e1cd395334769bd8419555834b8d1",
       "version_major": 2,
       "version_minor": 0
      },
      "text/plain": [
       "  0%|          | 0/10000 [00:00<?, ?it/s]"
      ]
     },
     "metadata": {},
     "output_type": "display_data"
    },
    {
     "name": "stdout",
     "output_type": "stream",
     "text": [
      "gld_params: [0.04314655 0.02388922 0.36269663 0.1397833 ]\n",
      "wrapper([ 3.587e-02  4.582e-02 ...  9.251e-01  9.142e-01]) = -0.02641596683623124\n",
      "assembly_constraint_no_mean([ 3.587e-02  4.582e-02 ...  9.251e-01  9.142e-01]) = [-5.921e-02  5.974e-02 ... -5.265e-03 -1.308e-02]\n"
     ]
    },
    {
     "data": {
      "application/vnd.jupyter.widget-view+json": {
       "model_id": "d7c3f4bfe76348809b733fb15fc0f02c",
       "version_major": 2,
       "version_minor": 0
      },
      "text/plain": [
       "  0%|          | 0/10000 [00:00<?, ?it/s]"
      ]
     },
     "metadata": {},
     "output_type": "display_data"
    },
    {
     "name": "stdout",
     "output_type": "stream",
     "text": [
      "gld_params: [0.04308553 0.02394728 0.36343949 0.13990597]\n",
      "wrapper([ 1.961e-02  1.860e-02 ...  9.277e-01  9.140e-01]) = -0.02671437306840073\n",
      "assembly_constraint_no_mean([ 1.961e-02  1.860e-02 ...  9.277e-01  9.140e-01]) = [ 8.028e-03  1.101e-03 ...  3.686e-03  1.092e-03]\n"
     ]
    },
    {
     "data": {
      "application/vnd.jupyter.widget-view+json": {
       "model_id": "9baaa2970fbb497db327afac719df0ba",
       "version_major": 2,
       "version_minor": 0
      },
      "text/plain": [
       "  0%|          | 0/10000 [00:00<?, ?it/s]"
      ]
     },
     "metadata": {},
     "output_type": "display_data"
    },
    {
     "name": "stdout",
     "output_type": "stream",
     "text": [
      "gld_params: [0.04308043 0.02391828 0.36272969 0.13967882]\n",
      "wrapper([ 1.912e-02  4.284e-02 ...  9.394e-01  8.975e-01]) = -0.026764714252622036\n",
      "assembly_constraint_no_mean([ 1.912e-02  4.284e-02 ...  9.394e-01  8.975e-01]) = [ 3.741e-02 -6.451e-02 ... -1.401e-02 -1.827e-02]\n"
     ]
    },
    {
     "data": {
      "application/vnd.jupyter.widget-view+json": {
       "model_id": "2a087af40a1044ee87cf2aaddcc1ea19",
       "version_major": 2,
       "version_minor": 0
      },
      "text/plain": [
       "  0%|          | 0/10000 [00:00<?, ?it/s]"
      ]
     },
     "metadata": {},
     "output_type": "display_data"
    },
    {
     "name": "stdout",
     "output_type": "stream",
     "text": [
      "gld_params: [0.04308592 0.02394703 0.3634327  0.13990039]\n",
      "wrapper([ 1.969e-02  1.861e-02 ...  9.271e-01  9.146e-01]) = -0.026714436226420262\n",
      "assembly_constraint_no_mean([ 1.969e-02  1.861e-02 ...  9.271e-01  9.146e-01]) = [ 8.415e-03  1.082e-03 ...  3.549e-03  1.124e-03]\n"
     ]
    },
    {
     "data": {
      "application/vnd.jupyter.widget-view+json": {
       "model_id": "41c4034a579b4237b1f2304ec06818ba",
       "version_major": 2,
       "version_minor": 0
      },
      "text/plain": [
       "  0%|          | 0/10000 [00:00<?, ?it/s]"
      ]
     },
     "metadata": {},
     "output_type": "display_data"
    },
    {
     "name": "stdout",
     "output_type": "stream",
     "text": [
      "gld_params: [0.04324419 0.02386342 0.36277783 0.13983436]\n",
      "wrapper([ 1.892e-02  4.154e-02 ...  9.119e-01  9.114e-01]) = -0.025986335687096445\n",
      "assembly_constraint_no_mean([ 1.892e-02  4.154e-02 ...  9.119e-01  9.114e-01]) = [-1.905e-02 -1.542e-01 ... -8.804e-02 -9.867e-02]\n"
     ]
    },
    {
     "data": {
      "application/vnd.jupyter.widget-view+json": {
       "model_id": "4cee6469ee044365b6d6de747adb370b",
       "version_major": 2,
       "version_minor": 0
      },
      "text/plain": [
       "  0%|          | 0/10000 [00:00<?, ?it/s]"
      ]
     },
     "metadata": {},
     "output_type": "display_data"
    },
    {
     "name": "stdout",
     "output_type": "stream",
     "text": [
      "gld_params: [0.04308561 0.02394734 0.36344025 0.13990269]\n",
      "wrapper([ 1.918e-02  1.908e-02 ...  9.274e-01  9.144e-01]) = -0.026714981079414564\n",
      "assembly_constraint_no_mean([ 1.918e-02  1.908e-02 ...  9.274e-01  9.144e-01]) = [ 8.246e-03  1.118e-03 ...  3.664e-03  1.141e-03]\n"
     ]
    },
    {
     "data": {
      "application/vnd.jupyter.widget-view+json": {
       "model_id": "a2445f979bdb462a9755cd4f59570e1e",
       "version_major": 2,
       "version_minor": 0
      },
      "text/plain": [
       "  0%|          | 0/10000 [00:00<?, ?it/s]"
      ]
     },
     "metadata": {},
     "output_type": "display_data"
    },
    {
     "name": "stdout",
     "output_type": "stream",
     "text": [
      "gld_params: [0.0432142  0.0238696  0.36276031 0.13975938]\n",
      "wrapper([ 2.620e-02  3.048e-02 ...  9.331e-01  9.130e-01]) = -0.026119416665973675\n",
      "assembly_constraint_no_mean([ 2.620e-02  3.048e-02 ...  9.331e-01  9.130e-01]) = [-8.660e-02 -9.973e-02 ...  3.177e-02  2.691e-02]\n"
     ]
    },
    {
     "data": {
      "application/vnd.jupyter.widget-view+json": {
       "model_id": "8586fecece164ccda965d12ade3c55ba",
       "version_major": 2,
       "version_minor": 0
      },
      "text/plain": [
       "  0%|          | 0/10000 [00:00<?, ?it/s]"
      ]
     },
     "metadata": {},
     "output_type": "display_data"
    },
    {
     "name": "stdout",
     "output_type": "stream",
     "text": [
      "gld_params: [0.04308522 0.02394776 0.3634493  0.13990774]\n",
      "wrapper([ 1.868e-02  1.957e-02 ...  9.274e-01  9.144e-01]) = -0.026715397168007835\n",
      "assembly_constraint_no_mean([ 1.868e-02  1.957e-02 ...  9.274e-01  9.144e-01]) = [ 8.074e-03  1.163e-03 ...  3.722e-03  1.148e-03]\n"
     ]
    },
    {
     "data": {
      "application/vnd.jupyter.widget-view+json": {
       "model_id": "3a7e36211fab4ea7bd6df6c74ee39793",
       "version_major": 2,
       "version_minor": 0
      },
      "text/plain": [
       "  0%|          | 0/10000 [00:00<?, ?it/s]"
      ]
     },
     "metadata": {},
     "output_type": "display_data"
    },
    {
     "name": "stdout",
     "output_type": "stream",
     "text": [
      "gld_params: [0.04308417 0.02390307 0.36288931 0.13938869]\n",
      "wrapper([ 1.772e-02  4.834e-02 ...  9.487e-01  9.198e-01]) = -0.02670516959994169\n",
      "assembly_constraint_no_mean([ 1.772e-02  4.834e-02 ...  9.487e-01  9.198e-01]) = [ 1.219e-03  6.279e-03 ... -5.301e-02  1.510e-01]\n"
     ]
    },
    {
     "data": {
      "application/vnd.jupyter.widget-view+json": {
       "model_id": "0dfe3605bdee4422a8a916cb214781f7",
       "version_major": 2,
       "version_minor": 0
      },
      "text/plain": [
       "  0%|          | 0/10000 [00:00<?, ?it/s]"
      ]
     },
     "metadata": {},
     "output_type": "display_data"
    },
    {
     "name": "stdout",
     "output_type": "stream",
     "text": [
      "gld_params: [0.04308546 0.02394741 0.36344502 0.13990259]\n",
      "wrapper([ 1.898e-02  1.931e-02 ...  9.272e-01  9.145e-01]) = -0.026714830743495333\n",
      "assembly_constraint_no_mean([ 1.898e-02  1.931e-02 ...  9.272e-01  9.145e-01]) = [ 8.465e-03  1.082e-03 ...  3.594e-03  9.646e-04]\n"
     ]
    },
    {
     "data": {
      "application/vnd.jupyter.widget-view+json": {
       "model_id": "3624300b77b44ca1b610dc7094feceb0",
       "version_major": 2,
       "version_minor": 0
      },
      "text/plain": [
       "  0%|          | 0/10000 [00:00<?, ?it/s]"
      ]
     },
     "metadata": {},
     "output_type": "display_data"
    },
    {
     "name": "stdout",
     "output_type": "stream",
     "text": [
      "gld_params: [0.04303079 0.0239422  0.3627801  0.13958862]\n",
      "wrapper([ 4.429e-02  3.771e-02 ...  9.345e-01  9.108e-01]) = -0.02703689557935523\n",
      "assembly_constraint_no_mean([ 4.429e-02  3.771e-02 ...  9.345e-01  9.108e-01]) = [ 6.274e-02  5.195e-02 ...  1.523e-02  2.157e-02]\n"
     ]
    },
    {
     "data": {
      "application/vnd.jupyter.widget-view+json": {
       "model_id": "214bf5704886473387d0f6e406c8966f",
       "version_major": 2,
       "version_minor": 0
      },
      "text/plain": [
       "  0%|          | 0/10000 [00:00<?, ?it/s]"
      ]
     },
     "metadata": {},
     "output_type": "display_data"
    },
    {
     "name": "stdout",
     "output_type": "stream",
     "text": [
      "gld_params: [0.04308566 0.02394719 0.36343885 0.13990137]\n",
      "wrapper([ 1.960e-02  1.929e-02 ...  9.273e-01  9.144e-01]) = -0.026714628186424356\n",
      "assembly_constraint_no_mean([ 1.960e-02  1.929e-02 ...  9.273e-01  9.144e-01]) = [ 8.706e-03  1.075e-03 ...  3.498e-03  9.601e-04]\n"
     ]
    },
    {
     "data": {
      "application/vnd.jupyter.widget-view+json": {
       "model_id": "916f50ac5a3942f38ee309eb75c4dbb0",
       "version_major": 2,
       "version_minor": 0
      },
      "text/plain": [
       "  0%|          | 0/10000 [00:00<?, ?it/s]"
      ]
     },
     "metadata": {},
     "output_type": "display_data"
    },
    {
     "name": "stdout",
     "output_type": "stream",
     "text": [
      "gld_params: [0.04313107 0.02390529 0.36276651 0.13965363]\n",
      "wrapper([ 1.155e-02  4.614e-02 ...  9.318e-01  8.887e-01]) = -0.02655236897220722\n",
      "assembly_constraint_no_mean([ 1.155e-02  4.614e-02 ...  9.318e-01  8.887e-01]) = [-8.715e-02  1.112e-01 ... -4.955e-02 -1.070e-01]\n"
     ]
    },
    {
     "data": {
      "application/vnd.jupyter.widget-view+json": {
       "model_id": "9b8c5914e4c248838cb33036df52d4a2",
       "version_major": 2,
       "version_minor": 0
      },
      "text/plain": [
       "  0%|          | 0/10000 [00:00<?, ?it/s]"
      ]
     },
     "metadata": {},
     "output_type": "display_data"
    },
    {
     "name": "stdout",
     "output_type": "stream",
     "text": [
      "gld_params: [0.04308611 0.0239469  0.3634267  0.13990102]\n",
      "wrapper([ 2.008e-02  1.871e-02 ...  9.271e-01  9.146e-01]) = -0.02671432855981518\n",
      "assembly_constraint_no_mean([ 2.008e-02  1.871e-02 ...  9.271e-01  9.146e-01]) = [ 8.695e-03  1.015e-03 ...  3.467e-03  9.425e-04]\n",
      "\n",
      "New trust-region radius: 0.005000000000000001.\n",
      "Number of function evaluations: 276.\n",
      "Number of iterations: 115.\n",
      "Least value of wrapper: -0.026712958360506085.\n",
      "Maximum constraint violation: 0.004545048412792538.\n",
      "Corresponding point: [ 1.900e-02  2.024e-02 ...  9.302e-01  9.114e-01].\n",
      "\n"
     ]
    },
    {
     "data": {
      "application/vnd.jupyter.widget-view+json": {
       "model_id": "173cf38637ec41bab6822767a95e0470",
       "version_major": 2,
       "version_minor": 0
      },
      "text/plain": [
       "  0%|          | 0/10000 [00:00<?, ?it/s]"
      ]
     },
     "metadata": {},
     "output_type": "display_data"
    },
    {
     "name": "stdout",
     "output_type": "stream",
     "text": [
      "gld_params: [0.04308233 0.02395823 0.36374127 0.13993805]\n",
      "wrapper([ 2.035e-02  9.696e-03 ...  9.295e-01  9.122e-01]) = -0.026714002924358052\n",
      "assembly_constraint_no_mean([ 2.035e-02  9.696e-03 ...  9.295e-01  9.122e-01]) = [ 1.924e-03  1.131e-03 ...  1.931e-03  1.227e-03]\n"
     ]
    },
    {
     "data": {
      "application/vnd.jupyter.widget-view+json": {
       "model_id": "261e4b68a8c24a0fb09d55576c9890ac",
       "version_major": 2,
       "version_minor": 0
      },
      "text/plain": [
       "  0%|          | 0/10000 [00:00<?, ?it/s]"
      ]
     },
     "metadata": {},
     "output_type": "display_data"
    },
    {
     "name": "stdout",
     "output_type": "stream",
     "text": [
      "gld_params: [0.04307618 0.02397272 0.36399042 0.14011977]\n",
      "wrapper([ 2.616e-02  3.540e-03 ...  9.286e-01  9.131e-01]) = -0.02671963243571347\n",
      "assembly_constraint_no_mean([ 2.616e-02  3.540e-03 ...  9.286e-01  9.131e-01]) = [ 1.511e-03  1.137e-03 ...  3.958e-03  1.106e-03]\n"
     ]
    },
    {
     "data": {
      "application/vnd.jupyter.widget-view+json": {
       "model_id": "579a1c7b32a8498fbc3d7d858189124a",
       "version_major": 2,
       "version_minor": 0
      },
      "text/plain": [
       "  0%|          | 0/10000 [00:00<?, ?it/s]"
      ]
     },
     "metadata": {},
     "output_type": "display_data"
    },
    {
     "name": "stdout",
     "output_type": "stream",
     "text": [
      "gld_params: [0.04306136 0.02397161 0.36375332 0.14004428]\n",
      "wrapper([ 2.344e-02  8.876e-03 ...  9.219e-01  9.120e-01]) = -0.026817174303594645\n",
      "assembly_constraint_no_mean([ 2.344e-02  8.876e-03 ...  9.219e-01  9.120e-01]) = [ 3.531e-02 -2.705e-02 ... -1.321e-03 -4.208e-02]\n"
     ]
    },
    {
     "data": {
      "application/vnd.jupyter.widget-view+json": {
       "model_id": "a943e15514de4b24852114a8265a6116",
       "version_major": 2,
       "version_minor": 0
      },
      "text/plain": [
       "  0%|          | 0/10000 [00:00<?, ?it/s]"
      ]
     },
     "metadata": {},
     "output_type": "display_data"
    },
    {
     "name": "stdout",
     "output_type": "stream",
     "text": [
      "gld_params: [0.04308342 0.02396315 0.36386759 0.13993375]\n",
      "wrapper([ 2.192e-02  2.378e-03 ...  9.303e-01  9.113e-01]) = -0.02671226235397545\n",
      "assembly_constraint_no_mean([ 2.192e-02  2.378e-03 ...  9.303e-01  9.113e-01]) = [ 1.427e-03  1.111e-03 ...  1.689e-03  9.217e-04]\n"
     ]
    },
    {
     "data": {
      "application/vnd.jupyter.widget-view+json": {
       "model_id": "e8d45c7aefad432c8b0365bc5aaff696",
       "version_major": 2,
       "version_minor": 0
      },
      "text/plain": [
       "  0%|          | 0/10000 [00:00<?, ?it/s]"
      ]
     },
     "metadata": {},
     "output_type": "display_data"
    },
    {
     "name": "stdout",
     "output_type": "stream",
     "text": [
      "gld_params: [0.04307917 0.02395989 0.36407032 0.13973531]\n",
      "wrapper([ 2.326e-02  4.391e-03 ...  9.365e-01  9.051e-01]) = -0.02670860915951542\n",
      "assembly_constraint_no_mean([ 2.326e-02  4.391e-03 ...  9.365e-01  9.051e-01]) = [ 8.785e-04  1.639e-03 ...  1.180e-03  3.091e-03]\n"
     ]
    },
    {
     "data": {
      "application/vnd.jupyter.widget-view+json": {
       "model_id": "0868269dd7aa4a2f89a37652cc507ec1",
       "version_major": 2,
       "version_minor": 0
      },
      "text/plain": [
       "  0%|          | 0/10000 [00:00<?, ?it/s]"
      ]
     },
     "metadata": {},
     "output_type": "display_data"
    },
    {
     "name": "stdout",
     "output_type": "stream",
     "text": [
      "gld_params: [0.04307606 0.02396831 0.36389116 0.13993962]\n",
      "wrapper([ 1.958e-02  3.161e-03 ...  9.310e-01  9.098e-01]) = -0.02675312315020914\n",
      "assembly_constraint_no_mean([ 1.958e-02  3.161e-03 ...  9.310e-01  9.098e-01]) = [ 3.932e-02 -2.113e-02 ... -8.046e-03 -2.432e-03]\n"
     ]
    },
    {
     "data": {
      "application/vnd.jupyter.widget-view+json": {
       "model_id": "c49b1b3a528546e48afd079af7a1bd03",
       "version_major": 2,
       "version_minor": 0
      },
      "text/plain": [
       "  0%|          | 0/10000 [00:00<?, ?it/s]"
      ]
     },
     "metadata": {},
     "output_type": "display_data"
    },
    {
     "name": "stdout",
     "output_type": "stream",
     "text": [
      "gld_params: [0.04308382 0.02396676 0.3638397  0.14005698]\n",
      "wrapper([ 1.953e-02  1.489e-03 ...  9.259e-01  9.158e-01]) = -0.02670987987666085\n",
      "assembly_constraint_no_mean([ 1.953e-02  1.489e-03 ...  9.259e-01  9.158e-01]) = [ 8.523e-04  1.209e-03 ...  1.630e-03  1.215e-03]\n"
     ]
    },
    {
     "data": {
      "application/vnd.jupyter.widget-view+json": {
       "model_id": "8eaa4f57cf234fdebe49ccfd7d392481",
       "version_major": 2,
       "version_minor": 0
      },
      "text/plain": [
       "  0%|          | 0/10000 [00:00<?, ?it/s]"
      ]
     },
     "metadata": {},
     "output_type": "display_data"
    },
    {
     "name": "stdout",
     "output_type": "stream",
     "text": [
      "gld_params: [0.04308145 0.02396429 0.36384886 0.13994281]\n",
      "wrapper([ 2.188e-02  2.559e-03 ...  9.305e-01  9.107e-01]) = -0.026725255907763902\n",
      "assembly_constraint_no_mean([ 2.188e-02  2.559e-03 ...  9.305e-01  9.107e-01]) = [-1.368e-03  7.328e-03 ...  1.024e-03 -5.967e-04]\n"
     ]
    },
    {
     "data": {
      "application/vnd.jupyter.widget-view+json": {
       "model_id": "b414f2dff530454e8880d73a70eccf55",
       "version_major": 2,
       "version_minor": 0
      },
      "text/plain": [
       "  0%|          | 0/10000 [00:00<?, ?it/s]"
      ]
     },
     "metadata": {},
     "output_type": "display_data"
    },
    {
     "name": "stdout",
     "output_type": "stream",
     "text": [
      "gld_params: [0.04308373 0.02396344 0.36388159 0.13993305]\n",
      "wrapper([ 2.241e-02  2.856e-04 ...  9.303e-01  9.112e-01]) = -0.026710301743514547\n",
      "assembly_constraint_no_mean([ 2.241e-02  2.856e-04 ...  9.303e-01  9.112e-01]) = [ 1.026e-03  1.087e-03 ...  9.708e-04  1.049e-03]\n"
     ]
    },
    {
     "data": {
      "application/vnd.jupyter.widget-view+json": {
       "model_id": "d351a88b387d489c87988e0544c75ce1",
       "version_major": 2,
       "version_minor": 0
      },
      "text/plain": [
       "  0%|          | 0/10000 [00:00<?, ?it/s]"
      ]
     },
     "metadata": {},
     "output_type": "display_data"
    },
    {
     "name": "stdout",
     "output_type": "stream",
     "text": [
      "gld_params: [0.04308188 0.02396553 0.36392522 0.13996394]\n",
      "wrapper([ 2.115e-02  2.711e-19 ...  9.304e-01  9.111e-01]) = -0.026711354416342863\n",
      "assembly_constraint_no_mean([ 2.115e-02  2.711e-19 ...  9.304e-01  9.111e-01]) = [ 1.206e-03  1.142e-03 ...  9.739e-04  1.011e-03]\n"
     ]
    },
    {
     "data": {
      "application/vnd.jupyter.widget-view+json": {
       "model_id": "14778305799a4043a15c4b4f1db976f3",
       "version_major": 2,
       "version_minor": 0
      },
      "text/plain": [
       "  0%|          | 0/10000 [00:00<?, ?it/s]"
      ]
     },
     "metadata": {},
     "output_type": "display_data"
    },
    {
     "name": "stdout",
     "output_type": "stream",
     "text": [
      "gld_params: [0.04307795 0.02396722 0.36393751 0.13998325]\n",
      "wrapper([ 2.188e-02  0.000e+00 ...  9.309e-01  9.117e-01]) = -0.026724614164247096\n",
      "assembly_constraint_no_mean([ 2.188e-02  0.000e+00 ...  9.309e-01  9.117e-01]) = [ 7.743e-03 -4.593e-03 ...  1.045e-03  6.642e-03]\n"
     ]
    },
    {
     "data": {
      "application/vnd.jupyter.widget-view+json": {
       "model_id": "93b3c018d13d4baf933f74ac34933352",
       "version_major": 2,
       "version_minor": 0
      },
      "text/plain": [
       "  0%|          | 0/10000 [00:00<?, ?it/s]"
      ]
     },
     "metadata": {},
     "output_type": "display_data"
    },
    {
     "name": "stdout",
     "output_type": "stream",
     "text": [
      "gld_params: [0.04308191 0.02396529 0.36392216 0.13996047]\n",
      "wrapper([ 2.289e-02  6.763e-20 ...  9.303e-01  9.113e-01]) = -0.02671134784192839\n",
      "assembly_constraint_no_mean([ 2.289e-02  6.763e-20 ...  9.303e-01  9.113e-01]) = [ 1.002e-03  1.109e-03 ...  1.070e-03  1.012e-03]\n"
     ]
    },
    {
     "data": {
      "application/vnd.jupyter.widget-view+json": {
       "model_id": "1d01347cca9240249748627560981b43",
       "version_major": 2,
       "version_minor": 0
      },
      "text/plain": [
       "  0%|          | 0/10000 [00:00<?, ?it/s]"
      ]
     },
     "metadata": {},
     "output_type": "display_data"
    },
    {
     "name": "stdout",
     "output_type": "stream",
     "text": [
      "gld_params: [0.04308128 0.02396548 0.3639342  0.13996276]\n",
      "wrapper([ 2.587e-02  7.756e-19 ...  9.305e-01  9.110e-01]) = -0.026711326808307265\n",
      "assembly_constraint_no_mean([ 2.587e-02  7.756e-19 ...  9.305e-01  9.110e-01]) = [ 1.034e-03  1.007e-03 ...  1.072e-03  9.924e-04]\n"
     ]
    },
    {
     "data": {
      "application/vnd.jupyter.widget-view+json": {
       "model_id": "d80a90686d1547c28af2d6767ab1e09b",
       "version_major": 2,
       "version_minor": 0
      },
      "text/plain": [
       "  0%|          | 0/10000 [00:00<?, ?it/s]"
      ]
     },
     "metadata": {},
     "output_type": "display_data"
    },
    {
     "name": "stdout",
     "output_type": "stream",
     "text": [
      "gld_params: [0.04308309 0.02396842 0.36388954 0.14005287]\n",
      "wrapper([ 2.545e-02  2.542e-19 ...  9.269e-01  9.149e-01]) = -0.02671148518224681\n",
      "assembly_constraint_no_mean([ 2.545e-02  2.542e-19 ...  9.269e-01  9.149e-01]) = [ 1.126e-03  1.120e-03 ...  8.780e-04  1.059e-03]\n"
     ]
    },
    {
     "data": {
      "application/vnd.jupyter.widget-view+json": {
       "model_id": "9928968573cf4061a14e9a670f404319",
       "version_major": 2,
       "version_minor": 0
      },
      "text/plain": [
       "  0%|          | 0/10000 [00:00<?, ?it/s]"
      ]
     },
     "metadata": {},
     "output_type": "display_data"
    },
    {
     "name": "stdout",
     "output_type": "stream",
     "text": [
      "gld_params: [0.04307143 0.02397017 0.36389634 0.14000956]\n",
      "wrapper([ 2.680e-02  0.000e+00 ...  9.313e-01  9.109e-01]) = -0.026760402796683368\n",
      "assembly_constraint_no_mean([ 2.680e-02  0.000e+00 ...  9.313e-01  9.109e-01]) = [ 5.877e-03 -2.262e-03 ...  1.358e-02  4.835e-03]\n"
     ]
    },
    {
     "data": {
      "application/vnd.jupyter.widget-view+json": {
       "model_id": "39c69a5bb4e64b65899e06e7d2f76123",
       "version_major": 2,
       "version_minor": 0
      },
      "text/plain": [
       "  0%|          | 0/10000 [00:00<?, ?it/s]"
      ]
     },
     "metadata": {},
     "output_type": "display_data"
    },
    {
     "name": "stdout",
     "output_type": "stream",
     "text": [
      "gld_params: [0.04308052 0.02396515 0.36397067 0.13992221]\n",
      "wrapper([ 2.506e-02  1.818e-20 ...  9.299e-01  9.117e-01]) = -0.026712921194940217\n",
      "assembly_constraint_no_mean([ 2.506e-02  1.818e-20 ...  9.299e-01  9.117e-01]) = [ 1.082e-03  1.032e-03 ...  9.277e-04  9.602e-04]\n"
     ]
    },
    {
     "data": {
      "application/vnd.jupyter.widget-view+json": {
       "model_id": "150114a1450542689a687bd5ca3118f2",
       "version_major": 2,
       "version_minor": 0
      },
      "text/plain": [
       "  0%|          | 0/10000 [00:00<?, ?it/s]"
      ]
     },
     "metadata": {},
     "output_type": "display_data"
    },
    {
     "name": "stdout",
     "output_type": "stream",
     "text": [
      "gld_params: [0.04307951 0.02396477 0.36402768 0.13986071]\n",
      "wrapper([ 2.345e-02  1.550e-19 ...  9.291e-01  9.125e-01]) = -0.026715255263265326\n",
      "assembly_constraint_no_mean([ 2.345e-02  1.550e-19 ...  9.291e-01  9.125e-01]) = [ 1.045e-03  9.866e-04 ...  1.018e-03  1.031e-03]\n"
     ]
    },
    {
     "data": {
      "application/vnd.jupyter.widget-view+json": {
       "model_id": "f25ce0764b1143dd8cec04092533e395",
       "version_major": 2,
       "version_minor": 0
      },
      "text/plain": [
       "  0%|          | 0/10000 [00:00<?, ?it/s]"
      ]
     },
     "metadata": {},
     "output_type": "display_data"
    },
    {
     "name": "stdout",
     "output_type": "stream",
     "text": [
      "gld_params: [0.04307678 0.02396406 0.36414546 0.13975691]\n",
      "wrapper([ 2.055e-02  2.734e-19 ...  9.291e-01  9.125e-01]) = -0.026717474118552062\n",
      "assembly_constraint_no_mean([ 2.055e-02  2.734e-19 ...  9.291e-01  9.125e-01]) = [ 1.051e-03  9.898e-04 ...  1.092e-03  1.013e-03]\n"
     ]
    },
    {
     "data": {
      "application/vnd.jupyter.widget-view+json": {
       "model_id": "af780d008b3446659218093e4e14a9b6",
       "version_major": 2,
       "version_minor": 0
      },
      "text/plain": [
       "  0%|          | 0/10000 [00:00<?, ?it/s]"
      ]
     },
     "metadata": {},
     "output_type": "display_data"
    },
    {
     "name": "stdout",
     "output_type": "stream",
     "text": [
      "gld_params: [0.04307527 0.02396661 0.36423796 0.13974712]\n",
      "wrapper([ 1.943e-02  1.586e-20 ...  9.287e-01  9.129e-01]) = -0.026718738912543897\n",
      "assembly_constraint_no_mean([ 1.943e-02  1.586e-20 ...  9.287e-01  9.129e-01]) = [ 1.152e-03  1.751e-03 ...  1.331e-03  1.080e-03]\n"
     ]
    },
    {
     "data": {
      "application/vnd.jupyter.widget-view+json": {
       "model_id": "80ea80b0696144f2b259fb36ee2fab42",
       "version_major": 2,
       "version_minor": 0
      },
      "text/plain": [
       "  0%|          | 0/10000 [00:00<?, ?it/s]"
      ]
     },
     "metadata": {},
     "output_type": "display_data"
    },
    {
     "name": "stdout",
     "output_type": "stream",
     "text": [
      "gld_params: [0.04306477 0.02396759 0.36415459 0.13974361]\n",
      "wrapper([ 1.956e-02  0.000e+00 ...  9.320e-01  9.145e-01]) = -0.026769952910871843\n",
      "assembly_constraint_no_mean([ 1.956e-02  0.000e+00 ...  9.320e-01  9.145e-01]) = [ 1.317e-02 -1.619e-02 ... -5.647e-03  2.774e-02]\n"
     ]
    },
    {
     "data": {
      "application/vnd.jupyter.widget-view+json": {
       "model_id": "5f431edc8f65490e9cb95fe15cf5133c",
       "version_major": 2,
       "version_minor": 0
      },
      "text/plain": [
       "  0%|          | 0/10000 [00:00<?, ?it/s]"
      ]
     },
     "metadata": {},
     "output_type": "display_data"
    },
    {
     "name": "stdout",
     "output_type": "stream",
     "text": [
      "gld_params: [0.0430772  0.02396531 0.36417976 0.13974591]\n",
      "wrapper([ 1.934e-02  0.000e+00 ...  9.280e-01  9.137e-01]) = -0.02671825833990299\n",
      "assembly_constraint_no_mean([ 1.934e-02  0.000e+00 ...  9.280e-01  9.137e-01]) = [ 9.924e-04  1.161e-03 ...  1.141e-03  9.452e-04]\n"
     ]
    },
    {
     "data": {
      "application/vnd.jupyter.widget-view+json": {
       "model_id": "c598b76cb3904861a03f86fa668bf89f",
       "version_major": 2,
       "version_minor": 0
      },
      "text/plain": [
       "  0%|          | 0/10000 [00:00<?, ?it/s]"
      ]
     },
     "metadata": {},
     "output_type": "display_data"
    },
    {
     "name": "stdout",
     "output_type": "stream",
     "text": [
      "gld_params: [0.04307712 0.02396521 0.36419788 0.13972432]\n",
      "wrapper([ 1.773e-02  0.000e+00 ...  9.264e-01  9.153e-01]) = -0.026718789954482028\n",
      "assembly_constraint_no_mean([ 1.773e-02  0.000e+00 ...  9.264e-01  9.153e-01]) = [ 1.027e-03  1.121e-03 ...  1.053e-03  1.029e-03]\n"
     ]
    },
    {
     "data": {
      "application/vnd.jupyter.widget-view+json": {
       "model_id": "46d11cdc6c5f4a1181791cae5cf335bf",
       "version_major": 2,
       "version_minor": 0
      },
      "text/plain": [
       "  0%|          | 0/10000 [00:00<?, ?it/s]"
      ]
     },
     "metadata": {},
     "output_type": "display_data"
    },
    {
     "name": "stdout",
     "output_type": "stream",
     "text": [
      "gld_params: [0.04309856 0.02395675 0.36417829 0.13976375]\n",
      "wrapper([ 1.944e-02  0.000e+00 ...  9.264e-01  9.129e-01]) = -0.026612152093463317\n",
      "assembly_constraint_no_mean([ 1.944e-02  0.000e+00 ...  9.264e-01  9.129e-01]) = [ 6.114e-03 -1.173e-02 ... -1.448e-03 -1.203e-02]\n"
     ]
    },
    {
     "data": {
      "application/vnd.jupyter.widget-view+json": {
       "model_id": "9a8eb43c2c56434bb54391fbd5ff9149",
       "version_major": 2,
       "version_minor": 0
      },
      "text/plain": [
       "  0%|          | 0/10000 [00:00<?, ?it/s]"
      ]
     },
     "metadata": {},
     "output_type": "display_data"
    },
    {
     "name": "stdout",
     "output_type": "stream",
     "text": [
      "gld_params: [0.04307627 0.02396615 0.36419767 0.13975913]\n",
      "wrapper([ 1.837e-02  4.509e-20 ...  9.286e-01  9.131e-01]) = -0.026718959737427456\n",
      "assembly_constraint_no_mean([ 1.837e-02  4.509e-20 ...  9.286e-01  9.131e-01]) = [ 1.031e-03  1.072e-03 ...  1.102e-03  1.009e-03]\n"
     ]
    },
    {
     "data": {
      "application/vnd.jupyter.widget-view+json": {
       "model_id": "afdf186e24d6473aafdfe5c9706124fa",
       "version_major": 2,
       "version_minor": 0
      },
      "text/plain": [
       "  0%|          | 0/10000 [00:00<?, ?it/s]"
      ]
     },
     "metadata": {},
     "output_type": "display_data"
    },
    {
     "name": "stdout",
     "output_type": "stream",
     "text": [
      "gld_params: [0.04307408 0.02396567 0.36422781 0.139719  ]\n",
      "wrapper([ 1.998e-02  0.000e+00 ...  9.279e-01  9.157e-01]) = -0.026724937813315582\n",
      "assembly_constraint_no_mean([ 1.998e-02  0.000e+00 ...  9.279e-01  9.157e-01]) = [ 9.195e-03 -1.520e-03 ... -1.308e-02  1.072e-02]\n"
     ]
    },
    {
     "data": {
      "application/vnd.jupyter.widget-view+json": {
       "model_id": "23ca336805d3424e937b9cc267d5f101",
       "version_major": 2,
       "version_minor": 0
      },
      "text/plain": [
       "  0%|          | 0/10000 [00:00<?, ?it/s]"
      ]
     },
     "metadata": {},
     "output_type": "display_data"
    },
    {
     "name": "stdout",
     "output_type": "stream",
     "text": [
      "gld_params: [0.04307691 0.02396503 0.36420158 0.1397208 ]\n",
      "wrapper([ 1.970e-02  8.176e-20 ...  9.268e-01  9.150e-01]) = -0.026718508118919685\n",
      "assembly_constraint_no_mean([ 1.970e-02  8.176e-20 ...  9.268e-01  9.150e-01]) = [ 1.019e-03  1.014e-03 ...  1.070e-03  1.045e-03]\n"
     ]
    },
    {
     "data": {
      "application/vnd.jupyter.widget-view+json": {
       "model_id": "10788c583d594d84a224c638a0d844cd",
       "version_major": 2,
       "version_minor": 0
      },
      "text/plain": [
       "  0%|          | 0/10000 [00:00<?, ?it/s]"
      ]
     },
     "metadata": {},
     "output_type": "display_data"
    },
    {
     "name": "stdout",
     "output_type": "stream",
     "text": [
      "gld_params: [0.0430761  0.02396404 0.36422978 0.13967851]\n",
      "wrapper([ 2.080e-02  0.000e+00 ...  9.273e-01  9.145e-01]) = -0.02671881443083975\n",
      "assembly_constraint_no_mean([ 2.080e-02  0.000e+00 ...  9.273e-01  9.145e-01]) = [ 9.897e-04  1.058e-03 ...  9.850e-04  1.103e-03]\n"
     ]
    },
    {
     "data": {
      "application/vnd.jupyter.widget-view+json": {
       "model_id": "5d1809aa363f455083d43b1aab63c559",
       "version_major": 2,
       "version_minor": 0
      },
      "text/plain": [
       "  0%|          | 0/10000 [00:00<?, ?it/s]"
      ]
     },
     "metadata": {},
     "output_type": "display_data"
    },
    {
     "name": "stdout",
     "output_type": "stream",
     "text": [
      "gld_params: [0.0430766  0.02396392 0.36420883 0.13968794]\n",
      "wrapper([ 1.887e-02  3.794e-21 ...  9.278e-01  9.139e-01]) = -0.026718947356594143\n",
      "assembly_constraint_no_mean([ 1.887e-02  3.794e-21 ...  9.278e-01  9.139e-01]) = [ 1.134e-03  1.059e-03 ...  1.041e-03  1.025e-03]\n"
     ]
    },
    {
     "data": {
      "application/vnd.jupyter.widget-view+json": {
       "model_id": "1dd83d0926434b1d9675199c01ee6cce",
       "version_major": 2,
       "version_minor": 0
      },
      "text/plain": [
       "  0%|          | 0/10000 [00:00<?, ?it/s]"
      ]
     },
     "metadata": {},
     "output_type": "display_data"
    },
    {
     "name": "stdout",
     "output_type": "stream",
     "text": [
      "gld_params: [0.04307649 0.02396432 0.36421825 0.13969261]\n",
      "wrapper([ 1.982e-02  1.024e-19 ...  9.275e-01  9.142e-01]) = -0.026718528759702508\n",
      "assembly_constraint_no_mean([ 1.982e-02  1.024e-19 ...  9.275e-01  9.142e-01]) = [ 1.046e-03  1.023e-03 ...  9.725e-04  1.010e-03]\n"
     ]
    },
    {
     "data": {
      "application/vnd.jupyter.widget-view+json": {
       "model_id": "384f60721b8244059ab5cc1d99b0ae1e",
       "version_major": 2,
       "version_minor": 0
      },
      "text/plain": [
       "  0%|          | 0/10000 [00:00<?, ?it/s]"
      ]
     },
     "metadata": {},
     "output_type": "display_data"
    },
    {
     "name": "stdout",
     "output_type": "stream",
     "text": [
      "gld_params: [0.04307686 0.02396459 0.36421719 0.13969668]\n",
      "wrapper([ 2.023e-02  2.530e-19 ...  9.257e-01  9.161e-01]) = -0.026718234690307676\n",
      "assembly_constraint_no_mean([ 2.023e-02  2.530e-19 ...  9.257e-01  9.161e-01]) = [ 9.919e-04  1.023e-03 ...  1.196e-03  1.130e-03]\n"
     ]
    },
    {
     "data": {
      "application/vnd.jupyter.widget-view+json": {
       "model_id": "16a565bd53414ef09a9e9c0551cc8659",
       "version_major": 2,
       "version_minor": 0
      },
      "text/plain": [
       "  0%|          | 0/10000 [00:00<?, ?it/s]"
      ]
     },
     "metadata": {},
     "output_type": "display_data"
    },
    {
     "name": "stdout",
     "output_type": "stream",
     "text": [
      "gld_params: [0.04307603 0.02396643 0.3641294  0.13976496]\n",
      "wrapper([ 1.957e-02  0.000e+00 ...  9.269e-01  9.136e-01]) = -0.02673298001226597\n",
      "assembly_constraint_no_mean([ 1.957e-02  0.000e+00 ...  9.269e-01  9.136e-01]) = [-3.719e-03  5.699e-03 ...  2.476e-04 -5.576e-03]\n"
     ]
    },
    {
     "data": {
      "application/vnd.jupyter.widget-view+json": {
       "model_id": "b2c842ae8ee047929620fb7e83439e54",
       "version_major": 2,
       "version_minor": 0
      },
      "text/plain": [
       "  0%|          | 0/10000 [00:00<?, ?it/s]"
      ]
     },
     "metadata": {},
     "output_type": "display_data"
    },
    {
     "name": "stdout",
     "output_type": "stream",
     "text": [
      "gld_params: [0.04307619 0.02396581 0.36422477 0.13972183]\n",
      "wrapper([ 1.849e-02  6.156e-21 ...  9.267e-01  9.150e-01]) = -0.026719757785458913\n",
      "assembly_constraint_no_mean([ 1.849e-02  6.156e-21 ...  9.267e-01  9.150e-01]) = [ 1.022e-03  1.012e-03 ...  1.145e-03  1.033e-03]\n"
     ]
    },
    {
     "data": {
      "application/vnd.jupyter.widget-view+json": {
       "model_id": "c0a592e4323042458b0b53ec800d87e2",
       "version_major": 2,
       "version_minor": 0
      },
      "text/plain": [
       "  0%|          | 0/10000 [00:00<?, ?it/s]"
      ]
     },
     "metadata": {},
     "output_type": "display_data"
    },
    {
     "name": "stdout",
     "output_type": "stream",
     "text": [
      "gld_params: [0.04307594 0.02396821 0.36424921 0.13976117]\n",
      "wrapper([ 1.703e-02  7.126e-20 ...  9.257e-01  9.161e-01]) = -0.026719915461751495\n",
      "assembly_constraint_no_mean([ 1.703e-02  7.126e-20 ...  9.257e-01  9.161e-01]) = [ 1.010e-03  1.040e-03 ...  1.135e-03  1.050e-03]\n"
     ]
    },
    {
     "data": {
      "application/vnd.jupyter.widget-view+json": {
       "model_id": "93ba1775e15b408b8101e0063335297e",
       "version_major": 2,
       "version_minor": 0
      },
      "text/plain": [
       "  0%|          | 0/10000 [00:00<?, ?it/s]"
      ]
     },
     "metadata": {},
     "output_type": "display_data"
    },
    {
     "name": "stdout",
     "output_type": "stream",
     "text": [
      "gld_params: [0.0430755  0.02396752 0.36423515 0.13976578]\n",
      "wrapper([ 1.683e-02  2.267e-20 ...  9.253e-01  9.165e-01]) = -0.026719429982338526\n",
      "assembly_constraint_no_mean([ 1.683e-02  2.267e-20 ...  9.253e-01  9.165e-01]) = [ 9.511e-04  1.005e-03 ...  9.953e-04  1.026e-03]\n"
     ]
    },
    {
     "data": {
      "application/vnd.jupyter.widget-view+json": {
       "model_id": "053d03c3581946bea963c878a29d9599",
       "version_major": 2,
       "version_minor": 0
      },
      "text/plain": [
       "  0%|          | 0/10000 [00:00<?, ?it/s]"
      ]
     },
     "metadata": {},
     "output_type": "display_data"
    },
    {
     "name": "stdout",
     "output_type": "stream",
     "text": [
      "gld_params: [0.04307035 0.02397143 0.36421457 0.13979023]\n",
      "wrapper([ 1.765e-02  0.000e+00 ...  9.238e-01  9.144e-01]) = -0.026752599304715192\n",
      "assembly_constraint_no_mean([ 1.765e-02  0.000e+00 ...  9.238e-01  9.144e-01]) = [ 4.651e-03 -7.499e-03 ...  7.192e-04 -1.847e-02]\n"
     ]
    },
    {
     "data": {
      "application/vnd.jupyter.widget-view+json": {
       "model_id": "78908b1fa5df4db2ab9e0dfc840fc0f5",
       "version_major": 2,
       "version_minor": 0
      },
      "text/plain": [
       "  0%|          | 0/10000 [00:00<?, ?it/s]"
      ]
     },
     "metadata": {},
     "output_type": "display_data"
    },
    {
     "name": "stdout",
     "output_type": "stream",
     "text": [
      "gld_params: [0.04307509 0.02396802 0.36426925 0.13975057]\n",
      "wrapper([ 1.530e-02  6.280e-21 ...  9.253e-01  9.165e-01]) = -0.026719634919617152\n",
      "assembly_constraint_no_mean([ 1.530e-02  6.280e-21 ...  9.253e-01  9.165e-01]) = [ 1.079e-03  1.049e-03 ...  9.974e-04  9.748e-04]\n"
     ]
    },
    {
     "data": {
      "application/vnd.jupyter.widget-view+json": {
       "model_id": "f23afe671b104824b0ead4204f0729ec",
       "version_major": 2,
       "version_minor": 0
      },
      "text/plain": [
       "  0%|          | 0/10000 [00:00<?, ?it/s]"
      ]
     },
     "metadata": {},
     "output_type": "display_data"
    },
    {
     "name": "stdout",
     "output_type": "stream",
     "text": [
      "gld_params: [0.04307172 0.02397231 0.3642478  0.1398075 ]\n",
      "wrapper([ 1.499e-02  0.000e+00 ...  9.256e-01  9.163e-01]) = -0.026743321845338612\n",
      "assembly_constraint_no_mean([ 1.499e-02  0.000e+00 ...  9.256e-01  9.163e-01]) = [ 1.092e-03 -6.452e-03 ...  2.729e-02  1.686e-03]\n"
     ]
    },
    {
     "data": {
      "application/vnd.jupyter.widget-view+json": {
       "model_id": "e044d671221f48128c50b5d5bd6da5fc",
       "version_major": 2,
       "version_minor": 0
      },
      "text/plain": [
       "  0%|          | 0/10000 [00:00<?, ?it/s]"
      ]
     },
     "metadata": {},
     "output_type": "display_data"
    },
    {
     "name": "stdout",
     "output_type": "stream",
     "text": [
      "gld_params: [0.04307482 0.02396827 0.36426362 0.13976238]\n",
      "wrapper([ 1.548e-02  5.923e-20 ...  9.252e-01  9.166e-01]) = -0.026720332144496046\n",
      "assembly_constraint_no_mean([ 1.548e-02  5.923e-20 ...  9.252e-01  9.166e-01]) = [ 1.001e-03  1.051e-03 ...  1.011e-03  1.026e-03]\n"
     ]
    },
    {
     "data": {
      "application/vnd.jupyter.widget-view+json": {
       "model_id": "d2d9d2700d274b3c9cdf3cd26c8cacec",
       "version_major": 2,
       "version_minor": 0
      },
      "text/plain": [
       "  0%|          | 0/10000 [00:00<?, ?it/s]"
      ]
     },
     "metadata": {},
     "output_type": "display_data"
    },
    {
     "name": "stdout",
     "output_type": "stream",
     "text": [
      "gld_params: [0.04307405 0.02396859 0.3642687  0.13977677]\n",
      "wrapper([ 1.522e-02  5.448e-19 ...  9.242e-01  9.177e-01]) = -0.0267202069940715\n",
      "assembly_constraint_no_mean([ 1.522e-02  5.448e-19 ...  9.242e-01  9.177e-01]) = [ 1.018e-03  1.034e-03 ...  9.437e-04  1.056e-03]\n"
     ]
    },
    {
     "data": {
      "application/vnd.jupyter.widget-view+json": {
       "model_id": "15a04fcd46c2432bb452ad3b49973582",
       "version_major": 2,
       "version_minor": 0
      },
      "text/plain": [
       "  0%|          | 0/10000 [00:00<?, ?it/s]"
      ]
     },
     "metadata": {},
     "output_type": "display_data"
    },
    {
     "name": "stdout",
     "output_type": "stream",
     "text": [
      "gld_params: [0.04305795 0.02397454 0.3642933  0.13973064]\n",
      "wrapper([ 1.614e-02  0.000e+00 ...  9.255e-01  9.169e-01]) = -0.02680029557547004\n",
      "assembly_constraint_no_mean([ 1.614e-02  0.000e+00 ...  9.255e-01  9.169e-01]) = [ 5.761e-04  8.394e-03 ...  1.294e-03  3.916e-03]\n"
     ]
    },
    {
     "data": {
      "application/vnd.jupyter.widget-view+json": {
       "model_id": "8f41f32dbc004de9b9f658be15b1feed",
       "version_major": 2,
       "version_minor": 0
      },
      "text/plain": [
       "  0%|          | 0/10000 [00:00<?, ?it/s]"
      ]
     },
     "metadata": {},
     "output_type": "display_data"
    },
    {
     "name": "stdout",
     "output_type": "stream",
     "text": [
      "gld_params: [0.04307415 0.02396745 0.36426852 0.13974823]\n",
      "wrapper([ 1.539e-02  9.318e-19 ...  9.250e-01  9.168e-01]) = -0.026719971689362115\n",
      "assembly_constraint_no_mean([ 1.539e-02  9.318e-19 ...  9.250e-01  9.168e-01]) = [ 9.895e-04  1.009e-03 ...  1.011e-03  1.009e-03]\n"
     ]
    },
    {
     "data": {
      "application/vnd.jupyter.widget-view+json": {
       "model_id": "90103f95d5554a4f9f39bb37f6e0eb73",
       "version_major": 2,
       "version_minor": 0
      },
      "text/plain": [
       "  0%|          | 0/10000 [00:00<?, ?it/s]"
      ]
     },
     "metadata": {},
     "output_type": "display_data"
    },
    {
     "name": "stdout",
     "output_type": "stream",
     "text": [
      "gld_params: [0.04307536 0.02396921 0.36426814 0.13978389]\n",
      "wrapper([ 1.503e-02  0.000e+00 ...  9.253e-01  9.170e-01]) = -0.026718343704538756\n",
      "assembly_constraint_no_mean([ 1.503e-02  0.000e+00 ...  9.253e-01  9.170e-01]) = [-9.080e-03  3.449e-03 ...  9.019e-03  3.595e-03]\n"
     ]
    },
    {
     "data": {
      "application/vnd.jupyter.widget-view+json": {
       "model_id": "4515a9ceacfc4d868b766e94bc09185e",
       "version_major": 2,
       "version_minor": 0
      },
      "text/plain": [
       "  0%|          | 0/10000 [00:00<?, ?it/s]"
      ]
     },
     "metadata": {},
     "output_type": "display_data"
    },
    {
     "name": "stdout",
     "output_type": "stream",
     "text": [
      "gld_params: [0.04307398 0.02397053 0.36431107 0.13978205]\n",
      "wrapper([ 1.401e-02  0.000e+00 ...  9.253e-01  9.164e-01]) = -0.026720990639154625\n",
      "assembly_constraint_no_mean([ 1.401e-02  0.000e+00 ...  9.253e-01  9.164e-01]) = [ 1.032e-03  9.881e-04 ...  9.902e-04  9.699e-04]\n"
     ]
    },
    {
     "data": {
      "application/vnd.jupyter.widget-view+json": {
       "model_id": "3f1c19c49a2240f4b8431e2a3bf5d279",
       "version_major": 2,
       "version_minor": 0
      },
      "text/plain": [
       "  0%|          | 0/10000 [00:00<?, ?it/s]"
      ]
     },
     "metadata": {},
     "output_type": "display_data"
    },
    {
     "name": "stdout",
     "output_type": "stream",
     "text": [
      "gld_params: [0.04307309 0.02397295 0.36436194 0.13980466]\n",
      "wrapper([ 1.262e-02  1.490e-19 ...  9.251e-01  9.167e-01]) = -0.026721283920280572\n",
      "assembly_constraint_no_mean([ 1.262e-02  1.490e-19 ...  9.251e-01  9.167e-01]) = [ 1.029e-03  1.040e-03 ...  1.055e-03  9.967e-04]\n"
     ]
    },
    {
     "data": {
      "application/vnd.jupyter.widget-view+json": {
       "model_id": "dbdfba2b120741789baf913042bc9f11",
       "version_major": 2,
       "version_minor": 0
      },
      "text/plain": [
       "  0%|          | 0/10000 [00:00<?, ?it/s]"
      ]
     },
     "metadata": {},
     "output_type": "display_data"
    },
    {
     "name": "stdout",
     "output_type": "stream",
     "text": [
      "gld_params: [0.04307329 0.02397274 0.36435317 0.13980883]\n",
      "wrapper([ 1.133e-02  3.214e-20 ...  9.267e-01  9.150e-01]) = -0.026720536997151594\n",
      "assembly_constraint_no_mean([ 1.133e-02  3.214e-20 ...  9.267e-01  9.150e-01]) = [ 1.006e-03  1.034e-03 ...  9.930e-04  1.102e-03]\n"
     ]
    },
    {
     "data": {
      "application/vnd.jupyter.widget-view+json": {
       "model_id": "73444f7430c84f1692f055fd5e9f9c9c",
       "version_major": 2,
       "version_minor": 0
      },
      "text/plain": [
       "  0%|          | 0/10000 [00:00<?, ?it/s]"
      ]
     },
     "metadata": {},
     "output_type": "display_data"
    },
    {
     "name": "stdout",
     "output_type": "stream",
     "text": [
      "gld_params: [0.04308485 0.02396618 0.36437305 0.13977825]\n",
      "wrapper([ 1.301e-02  0.000e+00 ...  9.256e-01  9.169e-01]) = -0.026657471797866053\n",
      "assembly_constraint_no_mean([ 1.301e-02  0.000e+00 ...  9.256e-01  9.169e-01]) = [-2.268e-02 -1.034e-02 ... -1.154e-02  4.697e-03]\n"
     ]
    },
    {
     "data": {
      "application/vnd.jupyter.widget-view+json": {
       "model_id": "07a3be6602b848eba03d4a1fe242a45b",
       "version_major": 2,
       "version_minor": 0
      },
      "text/plain": [
       "  0%|          | 0/10000 [00:00<?, ?it/s]"
      ]
     },
     "metadata": {},
     "output_type": "display_data"
    },
    {
     "name": "stdout",
     "output_type": "stream",
     "text": [
      "gld_params: [0.04307183 0.02397396 0.36441351 0.13979888]\n",
      "wrapper([ 1.324e-02  8.611e-04 ...  9.243e-01  9.176e-01]) = -0.026721106966428904\n",
      "assembly_constraint_no_mean([ 1.324e-02  8.611e-04 ...  9.243e-01  9.176e-01]) = [ 9.985e-04  1.042e-03 ...  1.003e-03  1.019e-03]\n"
     ]
    },
    {
     "data": {
      "application/vnd.jupyter.widget-view+json": {
       "model_id": "39988de3e5aa4f2aaf4db32fc0a022f4",
       "version_major": 2,
       "version_minor": 0
      },
      "text/plain": [
       "  0%|          | 0/10000 [00:00<?, ?it/s]"
      ]
     },
     "metadata": {},
     "output_type": "display_data"
    },
    {
     "name": "stdout",
     "output_type": "stream",
     "text": [
      "gld_params: [0.04308582 0.02396828 0.36438576 0.1398106 ]\n",
      "wrapper([ 1.267e-02  0.000e+00 ...  9.245e-01  9.157e-01]) = -0.026656388237642725\n",
      "assembly_constraint_no_mean([ 1.267e-02  0.000e+00 ...  9.245e-01  9.157e-01]) = [-4.661e-03  5.071e-03 ... -1.131e-02 -7.964e-03]\n"
     ]
    },
    {
     "data": {
      "application/vnd.jupyter.widget-view+json": {
       "model_id": "79ece5fd9b074621b9e5ab4e958a2342",
       "version_major": 2,
       "version_minor": 0
      },
      "text/plain": [
       "  0%|          | 0/10000 [00:00<?, ?it/s]"
      ]
     },
     "metadata": {},
     "output_type": "display_data"
    },
    {
     "name": "stdout",
     "output_type": "stream",
     "text": [
      "gld_params: [0.04307296 0.02397292 0.36438047 0.13978748]\n",
      "wrapper([ 1.147e-02  7.013e-21 ...  9.244e-01  9.175e-01]) = -0.026721382001006957\n",
      "assembly_constraint_no_mean([ 1.147e-02  7.013e-21 ...  9.244e-01  9.175e-01]) = [ 9.687e-04  9.800e-04 ...  1.018e-03  1.043e-03]\n"
     ]
    },
    {
     "data": {
      "application/vnd.jupyter.widget-view+json": {
       "model_id": "bb4f55fa583d43199daf03c0cedf6cbf",
       "version_major": 2,
       "version_minor": 0
      },
      "text/plain": [
       "  0%|          | 0/10000 [00:00<?, ?it/s]"
      ]
     },
     "metadata": {},
     "output_type": "display_data"
    },
    {
     "name": "stdout",
     "output_type": "stream",
     "text": [
      "gld_params: [0.04307298 0.02397384 0.3643857  0.13980449]\n",
      "wrapper([ 8.926e-03  1.446e-19 ...  9.237e-01  9.182e-01]) = -0.026721504750194806\n",
      "assembly_constraint_no_mean([ 8.926e-03  1.446e-19 ...  9.237e-01  9.182e-01]) = [ 1.101e-03  1.071e-03 ...  1.088e-03  1.007e-03]\n"
     ]
    },
    {
     "data": {
      "application/vnd.jupyter.widget-view+json": {
       "model_id": "70e94680bab94914aa719b19f38f8051",
       "version_major": 2,
       "version_minor": 0
      },
      "text/plain": [
       "  0%|          | 0/10000 [00:00<?, ?it/s]"
      ]
     },
     "metadata": {},
     "output_type": "display_data"
    },
    {
     "name": "stdout",
     "output_type": "stream",
     "text": [
      "gld_params: [0.04305966 0.02398029 0.3643794  0.13983385]\n",
      "wrapper([ 1.115e-02  0.000e+00 ...  9.244e-01  9.167e-01]) = -0.02678694931737531\n",
      "assembly_constraint_no_mean([ 1.115e-02  0.000e+00 ...  9.244e-01  9.167e-01]) = [ 1.907e-02  1.318e-02 ...  2.492e-03 -3.217e-03]\n"
     ]
    },
    {
     "data": {
      "application/vnd.jupyter.widget-view+json": {
       "model_id": "94cfc78a26bb4c7d86b0a5d304a4c5bf",
       "version_major": 2,
       "version_minor": 0
      },
      "text/plain": [
       "  0%|          | 0/10000 [00:00<?, ?it/s]"
      ]
     },
     "metadata": {},
     "output_type": "display_data"
    },
    {
     "name": "stdout",
     "output_type": "stream",
     "text": [
      "gld_params: [0.04307143 0.02397271 0.36444967 0.1397356 ]\n",
      "wrapper([ 1.042e-02  1.540e-19 ...  9.245e-01  9.175e-01]) = -0.026721720289622337\n",
      "assembly_constraint_no_mean([ 1.042e-02  1.540e-19 ...  9.245e-01  9.175e-01]) = [ 1.093e-03  1.040e-03 ...  1.035e-03  1.041e-03]\n"
     ]
    },
    {
     "data": {
      "application/vnd.jupyter.widget-view+json": {
       "model_id": "efcf99a8cfe747968c606fc0a16044bf",
       "version_major": 2,
       "version_minor": 0
      },
      "text/plain": [
       "  0%|          | 0/10000 [00:00<?, ?it/s]"
      ]
     },
     "metadata": {},
     "output_type": "display_data"
    },
    {
     "name": "stdout",
     "output_type": "stream",
     "text": [
      "gld_params: [0.04306635 0.02397583 0.36442489 0.1397916 ]\n",
      "wrapper([ 1.166e-02  0.000e+00 ...  9.241e-01  9.177e-01]) = -0.026745165236063094\n",
      "assembly_constraint_no_mean([ 1.166e-02  0.000e+00 ...  9.241e-01  9.177e-01]) = [-1.127e-03  3.046e-03 ...  4.869e-03  3.464e-04]\n"
     ]
    },
    {
     "data": {
      "application/vnd.jupyter.widget-view+json": {
       "model_id": "0a1c340ee1f6487aaf921407559908f4",
       "version_major": 2,
       "version_minor": 0
      },
      "text/plain": [
       "  0%|          | 0/10000 [00:00<?, ?it/s]"
      ]
     },
     "metadata": {},
     "output_type": "display_data"
    },
    {
     "name": "stdout",
     "output_type": "stream",
     "text": [
      "gld_params: [0.04307266 0.02397241 0.36441902 0.13974055]\n",
      "wrapper([ 1.134e-02  3.272e-19 ...  9.241e-01  9.178e-01]) = -0.026721647052613432\n",
      "assembly_constraint_no_mean([ 1.134e-02  3.272e-19 ...  9.241e-01  9.178e-01]) = [ 9.960e-04  1.033e-03 ...  1.023e-03  1.024e-03]\n"
     ]
    },
    {
     "data": {
      "application/vnd.jupyter.widget-view+json": {
       "model_id": "0b79a43be3f34ced934217989ce7fc9e",
       "version_major": 2,
       "version_minor": 0
      },
      "text/plain": [
       "  0%|          | 0/10000 [00:00<?, ?it/s]"
      ]
     },
     "metadata": {},
     "output_type": "display_data"
    },
    {
     "name": "stdout",
     "output_type": "stream",
     "text": [
      "gld_params: [0.0430715  0.02397143 0.36438213 0.13974315]\n",
      "wrapper([ 1.151e-02  0.000e+00 ...  9.261e-01  9.164e-01]) = -0.026726565584724797\n",
      "assembly_constraint_no_mean([ 1.151e-02  0.000e+00 ...  9.261e-01  9.164e-01]) = [ 7.071e-03 -2.085e-04 ...  1.003e-03  4.744e-03]\n"
     ]
    },
    {
     "data": {
      "application/vnd.jupyter.widget-view+json": {
       "model_id": "aded6ff1e820458eae7a65425cf2d359",
       "version_major": 2,
       "version_minor": 0
      },
      "text/plain": [
       "  0%|          | 0/10000 [00:00<?, ?it/s]"
      ]
     },
     "metadata": {},
     "output_type": "display_data"
    },
    {
     "name": "stdout",
     "output_type": "stream",
     "text": [
      "gld_params: [0.04307258 0.02397306 0.36439557 0.13978059]\n",
      "wrapper([ 1.095e-02  0.000e+00 ...  9.244e-01  9.175e-01]) = -0.026721628773061962\n",
      "assembly_constraint_no_mean([ 1.095e-02  0.000e+00 ...  9.244e-01  9.175e-01]) = [ 1.054e-03  9.995e-04 ...  1.013e-03  9.851e-04]\n"
     ]
    },
    {
     "data": {
      "application/vnd.jupyter.widget-view+json": {
       "model_id": "0bb011cd273642c480168d98634acc2e",
       "version_major": 2,
       "version_minor": 0
      },
      "text/plain": [
       "  0%|          | 0/10000 [00:00<?, ?it/s]"
      ]
     },
     "metadata": {},
     "output_type": "display_data"
    },
    {
     "name": "stdout",
     "output_type": "stream",
     "text": [
      "gld_params: [0.04307223 0.02397399 0.3644217  0.1397833 ]\n",
      "wrapper([ 9.996e-03  1.441e-20 ...  9.236e-01  9.183e-01]) = -0.026721699927754198\n",
      "assembly_constraint_no_mean([ 9.996e-03  1.441e-20 ...  9.236e-01  9.183e-01]) = [ 1.005e-03  1.030e-03 ...  1.007e-03  1.033e-03]\n"
     ]
    },
    {
     "data": {
      "application/vnd.jupyter.widget-view+json": {
       "model_id": "cec088d287e04dd68f1635c5a4c6745a",
       "version_major": 2,
       "version_minor": 0
      },
      "text/plain": [
       "  0%|          | 0/10000 [00:00<?, ?it/s]"
      ]
     },
     "metadata": {},
     "output_type": "display_data"
    },
    {
     "name": "stdout",
     "output_type": "stream",
     "text": [
      "gld_params: [0.04308018 0.02396857 0.36433823 0.1397845 ]\n",
      "wrapper([ 1.131e-02  1.878e-03 ...  9.238e-01  9.173e-01]) = -0.026687992483678976\n",
      "assembly_constraint_no_mean([ 1.131e-02  1.878e-03 ...  9.238e-01  9.173e-01]) = [-1.466e-04 -6.034e-03 ... -3.451e-03 -3.563e-03]\n"
     ]
    },
    {
     "data": {
      "application/vnd.jupyter.widget-view+json": {
       "model_id": "b68977ed5aa643abbcb71497fbd18604",
       "version_major": 2,
       "version_minor": 0
      },
      "text/plain": [
       "  0%|          | 0/10000 [00:00<?, ?it/s]"
      ]
     },
     "metadata": {},
     "output_type": "display_data"
    },
    {
     "name": "stdout",
     "output_type": "stream",
     "text": [
      "gld_params: [0.04307096 0.02397233 0.36445224 0.13972907]\n",
      "wrapper([ 9.758e-03  8.618e-21 ...  9.255e-01  9.164e-01]) = -0.026721945615537437\n",
      "assembly_constraint_no_mean([ 9.758e-03  8.618e-21 ...  9.255e-01  9.164e-01]) = [ 1.023e-03  9.968e-04 ...  1.034e-03  9.766e-04]\n"
     ]
    },
    {
     "data": {
      "application/vnd.jupyter.widget-view+json": {
       "model_id": "247a2ee4891c4863b7ceaa7f83505200",
       "version_major": 2,
       "version_minor": 0
      },
      "text/plain": [
       "  0%|          | 0/10000 [00:00<?, ?it/s]"
      ]
     },
     "metadata": {},
     "output_type": "display_data"
    },
    {
     "name": "stdout",
     "output_type": "stream",
     "text": [
      "gld_params: [0.04307206 0.02397251 0.3644501  0.1397207 ]\n",
      "wrapper([ 7.889e-03  2.755e-20 ...  9.224e-01  9.196e-01]) = -0.026721868525159606\n",
      "assembly_constraint_no_mean([ 7.889e-03  2.755e-20 ...  9.224e-01  9.196e-01]) = [ 1.007e-03  1.132e-03 ...  9.687e-04  1.229e-03]\n"
     ]
    },
    {
     "data": {
      "application/vnd.jupyter.widget-view+json": {
       "model_id": "cb673e5a4f054f9984045e882074ce5b",
       "version_major": 2,
       "version_minor": 0
      },
      "text/plain": [
       "  0%|          | 0/10000 [00:00<?, ?it/s]"
      ]
     },
     "metadata": {},
     "output_type": "display_data"
    },
    {
     "name": "stdout",
     "output_type": "stream",
     "text": [
      "gld_params: [0.04308051 0.0239701  0.36443328 0.13976827]\n",
      "wrapper([ 1.021e-02  0.000e+00 ...  9.249e-01  9.160e-01]) = -0.026679756858065288\n",
      "assembly_constraint_no_mean([ 1.021e-02  0.000e+00 ...  9.249e-01  9.160e-01]) = [-1.183e-02 -7.984e-04 ...  6.301e-03 -4.478e-03]\n"
     ]
    },
    {
     "data": {
      "application/vnd.jupyter.widget-view+json": {
       "model_id": "a139bd0e83e84ba6994befb2ceebc063",
       "version_major": 2,
       "version_minor": 0
      },
      "text/plain": [
       "  0%|          | 0/10000 [00:00<?, ?it/s]"
      ]
     },
     "metadata": {},
     "output_type": "display_data"
    },
    {
     "name": "stdout",
     "output_type": "stream",
     "text": [
      "gld_params: [0.04307023 0.02397124 0.36449048 0.13967801]\n",
      "wrapper([ 9.586e-03  8.992e-20 ...  9.271e-01  9.147e-01]) = -0.02672140571560801\n",
      "assembly_constraint_no_mean([ 9.586e-03  8.992e-20 ...  9.271e-01  9.147e-01]) = [ 1.001e-03  1.085e-03 ...  9.939e-04  1.059e-03]\n"
     ]
    },
    {
     "data": {
      "application/vnd.jupyter.widget-view+json": {
       "model_id": "1b9b65758d904784b2d0728dfc4a0b27",
       "version_major": 2,
       "version_minor": 0
      },
      "text/plain": [
       "  0%|          | 0/10000 [00:00<?, ?it/s]"
      ]
     },
     "metadata": {},
     "output_type": "display_data"
    },
    {
     "name": "stdout",
     "output_type": "stream",
     "text": [
      "gld_params: [0.04307005 0.02397398 0.36443287 0.13975337]\n",
      "wrapper([ 1.013e-02  0.000e+00 ...  9.256e-01  9.159e-01]) = -0.026731648076251908\n",
      "assembly_constraint_no_mean([ 1.013e-02  0.000e+00 ...  9.256e-01  9.159e-01]) = [ 8.841e-03 -1.911e-03 ... -3.640e-03 -6.278e-04]\n"
     ]
    },
    {
     "data": {
      "application/vnd.jupyter.widget-view+json": {
       "model_id": "d3f277782f9b42408a82f2453b1f6f59",
       "version_major": 2,
       "version_minor": 0
      },
      "text/plain": [
       "  0%|          | 0/10000 [00:00<?, ?it/s]"
      ]
     },
     "metadata": {},
     "output_type": "display_data"
    },
    {
     "name": "stdout",
     "output_type": "stream",
     "text": [
      "gld_params: [0.04307064 0.02397334 0.36446056 0.13975101]\n",
      "wrapper([ 1.005e-02  5.803e-19 ...  9.235e-01  9.184e-01]) = -0.02672188988412164\n",
      "assembly_constraint_no_mean([ 1.005e-02  5.803e-19 ...  9.235e-01  9.184e-01]) = [ 1.005e-03  1.058e-03 ...  9.989e-04  1.083e-03]\n"
     ]
    },
    {
     "data": {
      "application/vnd.jupyter.widget-view+json": {
       "model_id": "bfbc88343845400db6a658eb882a227d",
       "version_major": 2,
       "version_minor": 0
      },
      "text/plain": [
       "  0%|          | 0/10000 [00:00<?, ?it/s]"
      ]
     },
     "metadata": {},
     "output_type": "display_data"
    },
    {
     "name": "stdout",
     "output_type": "stream",
     "text": [
      "gld_params: [0.04308293 0.02396833 0.36441921 0.13976066]\n",
      "wrapper([ 1.016e-02  0.000e+00 ...  9.248e-01  9.151e-01]) = -0.02666834152366899\n",
      "assembly_constraint_no_mean([ 1.016e-02  0.000e+00 ...  9.248e-01  9.151e-01]) = [ 2.184e-03  6.480e-03 ... -1.741e-02 -9.431e-03]\n"
     ]
    },
    {
     "data": {
      "application/vnd.jupyter.widget-view+json": {
       "model_id": "5fb0af9a83934a5bbc2fdc09da17fa95",
       "version_major": 2,
       "version_minor": 0
      },
      "text/plain": [
       "  0%|          | 0/10000 [00:00<?, ?it/s]"
      ]
     },
     "metadata": {},
     "output_type": "display_data"
    },
    {
     "name": "stdout",
     "output_type": "stream",
     "text": [
      "gld_params: [0.04307101 0.02397234 0.36446099 0.13971974]\n",
      "wrapper([ 9.634e-03  3.119e-20 ...  9.253e-01  9.165e-01]) = -0.026722050710653047\n",
      "assembly_constraint_no_mean([ 9.634e-03  3.119e-20 ...  9.253e-01  9.165e-01]) = [ 1.004e-03  1.051e-03 ...  1.029e-03  1.051e-03]\n"
     ]
    },
    {
     "data": {
      "application/vnd.jupyter.widget-view+json": {
       "model_id": "a6ec80c854cf437595c99dfef4742dcb",
       "version_major": 2,
       "version_minor": 0
      },
      "text/plain": [
       "  0%|          | 0/10000 [00:00<?, ?it/s]"
      ]
     },
     "metadata": {},
     "output_type": "display_data"
    },
    {
     "name": "stdout",
     "output_type": "stream",
     "text": [
      "gld_params: [0.0430744  0.02397093 0.36444209 0.13973306]\n",
      "wrapper([ 1.042e-02  0.000e+00 ...  9.245e-01  9.164e-01]) = -0.02670639655138703\n",
      "assembly_constraint_no_mean([ 1.042e-02  0.000e+00 ...  9.245e-01  9.164e-01]) = [-7.174e-03 -9.729e-03 ... -1.106e-02 -4.714e-03]\n"
     ]
    },
    {
     "data": {
      "application/vnd.jupyter.widget-view+json": {
       "model_id": "ef27807b492a433f8da7ad2b3f037185",
       "version_major": 2,
       "version_minor": 0
      },
      "text/plain": [
       "  0%|          | 0/10000 [00:00<?, ?it/s]"
      ]
     },
     "metadata": {},
     "output_type": "display_data"
    },
    {
     "name": "stdout",
     "output_type": "stream",
     "text": [
      "gld_params: [0.04307074 0.02397279 0.36445243 0.1397437 ]\n",
      "wrapper([ 9.038e-03  1.122e-20 ...  9.251e-01  9.168e-01]) = -0.026721912512141954\n",
      "assembly_constraint_no_mean([ 9.038e-03  1.122e-20 ...  9.251e-01  9.168e-01]) = [ 1.017e-03  1.006e-03 ...  1.020e-03  1.045e-03]\n"
     ]
    },
    {
     "data": {
      "application/vnd.jupyter.widget-view+json": {
       "model_id": "d8b3ada6f7af4ec6a7fcc81dcae33ceb",
       "version_major": 2,
       "version_minor": 0
      },
      "text/plain": [
       "  0%|          | 0/10000 [00:00<?, ?it/s]"
      ]
     },
     "metadata": {},
     "output_type": "display_data"
    },
    {
     "name": "stdout",
     "output_type": "stream",
     "text": [
      "gld_params: [0.04306958 0.023972   0.36449709 0.13969766]\n",
      "wrapper([ 9.605e-03  6.447e-20 ...  9.250e-01  9.169e-01]) = -0.026721835764943205\n",
      "assembly_constraint_no_mean([ 9.605e-03  6.447e-20 ...  9.250e-01  9.169e-01]) = [ 1.004e-03  1.006e-03 ...  1.006e-03  1.048e-03]\n"
     ]
    },
    {
     "data": {
      "application/vnd.jupyter.widget-view+json": {
       "model_id": "0030e4a4c6fd46bba42cfbf104d1c028",
       "version_major": 2,
       "version_minor": 0
      },
      "text/plain": [
       "  0%|          | 0/10000 [00:00<?, ?it/s]"
      ]
     },
     "metadata": {},
     "output_type": "display_data"
    },
    {
     "name": "stdout",
     "output_type": "stream",
     "text": [
      "gld_params: [0.04307469 0.02397341 0.36440507 0.13981494]\n",
      "wrapper([ 8.461e-03  0.000e+00 ...  9.254e-01  9.163e-01]) = -0.026708740121800766\n",
      "assembly_constraint_no_mean([ 8.461e-03  0.000e+00 ...  9.254e-01  9.163e-01]) = [ 3.590e-03 -8.824e-03 ...  8.755e-03  3.222e-05]\n"
     ]
    },
    {
     "data": {
      "application/vnd.jupyter.widget-view+json": {
       "model_id": "2db89e437ab24052a36cfe05296030c4",
       "version_major": 2,
       "version_minor": 0
      },
      "text/plain": [
       "  0%|          | 0/10000 [00:00<?, ?it/s]"
      ]
     },
     "metadata": {},
     "output_type": "display_data"
    },
    {
     "name": "stdout",
     "output_type": "stream",
     "text": [
      "gld_params: [0.04306987 0.02397355 0.3644918  0.13973753]\n",
      "wrapper([ 1.005e-02  0.000e+00 ...  9.249e-01  9.170e-01]) = -0.02672182640839449\n",
      "assembly_constraint_no_mean([ 1.005e-02  0.000e+00 ...  9.249e-01  9.170e-01]) = [ 1.013e-03  9.765e-04 ...  1.030e-03  1.055e-03]\n"
     ]
    },
    {
     "data": {
      "application/vnd.jupyter.widget-view+json": {
       "model_id": "d19a560d67ae465ca5f68e04c1662b87",
       "version_major": 2,
       "version_minor": 0
      },
      "text/plain": [
       "  0%|          | 0/10000 [00:00<?, ?it/s]"
      ]
     },
     "metadata": {},
     "output_type": "display_data"
    },
    {
     "name": "stdout",
     "output_type": "stream",
     "text": [
      "gld_params: [0.04307495 0.02397222 0.36450642 0.13977591]\n",
      "wrapper([ 9.532e-03  0.000e+00 ...  9.258e-01  9.176e-01]) = -0.02669033505692018\n",
      "assembly_constraint_no_mean([ 9.532e-03  0.000e+00 ...  9.258e-01  9.176e-01]) = [ 1.133e-02 -1.968e-02 ... -3.774e-03  9.258e-03]\n"
     ]
    },
    {
     "data": {
      "application/vnd.jupyter.widget-view+json": {
       "model_id": "f8b88250025d44f6bfa10c2589416e0b",
       "version_major": 2,
       "version_minor": 0
      },
      "text/plain": [
       "  0%|          | 0/10000 [00:00<?, ?it/s]"
      ]
     },
     "metadata": {},
     "output_type": "display_data"
    },
    {
     "name": "stdout",
     "output_type": "stream",
     "text": [
      "gld_params: [0.04307124 0.02397167 0.36443961 0.13972047]\n",
      "wrapper([ 9.243e-03  0.000e+00 ...  9.254e-01  9.165e-01]) = -0.026721965882213726\n",
      "assembly_constraint_no_mean([ 9.243e-03  0.000e+00 ...  9.254e-01  9.165e-01]) = [ 1.002e-03  9.889e-04 ...  1.000e-03  1.013e-03]\n"
     ]
    },
    {
     "data": {
      "application/vnd.jupyter.widget-view+json": {
       "model_id": "b24f74db4d944195938c798c6f1879b0",
       "version_major": 2,
       "version_minor": 0
      },
      "text/plain": [
       "  0%|          | 0/10000 [00:00<?, ?it/s]"
      ]
     },
     "metadata": {},
     "output_type": "display_data"
    },
    {
     "name": "stdout",
     "output_type": "stream",
     "text": [
      "gld_params: [0.0430702  0.02397247 0.364423   0.13974978]\n",
      "wrapper([ 1.062e-02  0.000e+00 ...  9.253e-01  9.173e-01]) = -0.026726237444021726\n",
      "assembly_constraint_no_mean([ 1.062e-02  0.000e+00 ...  9.253e-01  9.173e-01]) = [-4.599e-03  1.029e-03 ...  2.550e-03  4.896e-03]\n"
     ]
    },
    {
     "data": {
      "application/vnd.jupyter.widget-view+json": {
       "model_id": "001f2fd667874b62a8f81a28848f713b",
       "version_major": 2,
       "version_minor": 0
      },
      "text/plain": [
       "  0%|          | 0/10000 [00:00<?, ?it/s]"
      ]
     },
     "metadata": {},
     "output_type": "display_data"
    },
    {
     "name": "stdout",
     "output_type": "stream",
     "text": [
      "gld_params: [0.04307119 0.02397151 0.36443913 0.13971779]\n",
      "wrapper([ 9.156e-03  1.443e-19 ...  9.252e-01  9.167e-01]) = -0.02672195899766212\n",
      "assembly_constraint_no_mean([ 9.156e-03  1.443e-19 ...  9.252e-01  9.167e-01]) = [ 1.003e-03  9.975e-04 ...  9.994e-04  1.011e-03]\n"
     ]
    },
    {
     "data": {
      "application/vnd.jupyter.widget-view+json": {
       "model_id": "07d4fd56366f412fb1645d7847fa4f27",
       "version_major": 2,
       "version_minor": 0
      },
      "text/plain": [
       "  0%|          | 0/10000 [00:00<?, ?it/s]"
      ]
     },
     "metadata": {},
     "output_type": "display_data"
    },
    {
     "name": "stdout",
     "output_type": "stream",
     "text": [
      "gld_params: [0.04307615 0.02397078 0.36438804 0.13976378]\n",
      "wrapper([ 1.016e-02  0.000e+00 ...  9.248e-01  9.177e-01]) = -0.02670495680613078\n",
      "assembly_constraint_no_mean([ 1.016e-02  0.000e+00 ...  9.248e-01  9.177e-01]) = [ 1.231e-02 -1.216e-02 ...  4.874e-03  4.165e-03]\n"
     ]
    },
    {
     "data": {
      "application/vnd.jupyter.widget-view+json": {
       "model_id": "beb34f8f633b43fc9cf6d6f5c9795657",
       "version_major": 2,
       "version_minor": 0
      },
      "text/plain": [
       "  0%|          | 0/10000 [00:00<?, ?it/s]"
      ]
     },
     "metadata": {},
     "output_type": "display_data"
    },
    {
     "name": "stdout",
     "output_type": "stream",
     "text": [
      "gld_params: [0.04307133 0.02397147 0.36443293 0.13972066]\n",
      "wrapper([ 9.397e-03  0.000e+00 ...  9.252e-01  9.167e-01]) = -0.026721949750329127\n",
      "assembly_constraint_no_mean([ 9.397e-03  0.000e+00 ...  9.252e-01  9.167e-01]) = [ 1.003e-03  9.985e-04 ...  1.003e-03  1.011e-03]\n"
     ]
    },
    {
     "data": {
      "application/vnd.jupyter.widget-view+json": {
       "model_id": "7341f376cd73474fbd42bec4c7cd6d7a",
       "version_major": 2,
       "version_minor": 0
      },
      "text/plain": [
       "  0%|          | 0/10000 [00:00<?, ?it/s]"
      ]
     },
     "metadata": {},
     "output_type": "display_data"
    },
    {
     "name": "stdout",
     "output_type": "stream",
     "text": [
      "gld_params: [0.04304984 0.02398246 0.36441437 0.13976529]\n",
      "wrapper([ 9.830e-03  0.000e+00 ...  9.270e-01  9.182e-01]) = -0.026833039869611837\n",
      "assembly_constraint_no_mean([ 9.830e-03  0.000e+00 ...  9.270e-01  9.182e-01]) = [-2.732e-03  1.157e-02 ...  1.641e-02  1.965e-02]\n"
     ]
    },
    {
     "data": {
      "application/vnd.jupyter.widget-view+json": {
       "model_id": "a67c4e5629874b858d42a7fe90c8bb1f",
       "version_major": 2,
       "version_minor": 0
      },
      "text/plain": [
       "  0%|          | 0/10000 [00:00<?, ?it/s]"
      ]
     },
     "metadata": {},
     "output_type": "display_data"
    },
    {
     "name": "stdout",
     "output_type": "stream",
     "text": [
      "gld_params: [0.04307042 0.02397253 0.36446811 0.13972669]\n",
      "wrapper([ 9.949e-03  5.310e-04 ...  9.250e-01  9.168e-01]) = -0.026721872081622286\n",
      "assembly_constraint_no_mean([ 9.949e-03  5.310e-04 ...  9.250e-01  9.168e-01]) = [ 1.017e-03  1.001e-03 ...  1.011e-03  9.925e-04]\n"
     ]
    },
    {
     "data": {
      "application/vnd.jupyter.widget-view+json": {
       "model_id": "5b6069be01fb4ec284f213b6e82ab848",
       "version_major": 2,
       "version_minor": 0
      },
      "text/plain": [
       "  0%|          | 0/10000 [00:00<?, ?it/s]"
      ]
     },
     "metadata": {},
     "output_type": "display_data"
    },
    {
     "name": "stdout",
     "output_type": "stream",
     "text": [
      "gld_params: [0.04307831 0.0239716  0.36440984 0.13979963]\n",
      "wrapper([ 8.989e-03  0.000e+00 ...  9.245e-01  9.156e-01]) = -0.026691655234580013\n",
      "assembly_constraint_no_mean([ 8.989e-03  0.000e+00 ...  9.245e-01  9.156e-01]) = [-1.139e-03 -5.777e-03 ...  8.758e-03 -8.590e-03]\n"
     ]
    },
    {
     "data": {
      "application/vnd.jupyter.widget-view+json": {
       "model_id": "5d67daed9bbe402387d31d747bfbdcd4",
       "version_major": 2,
       "version_minor": 0
      },
      "text/plain": [
       "  0%|          | 0/10000 [00:00<?, ?it/s]"
      ]
     },
     "metadata": {},
     "output_type": "display_data"
    },
    {
     "name": "stdout",
     "output_type": "stream",
     "text": [
      "gld_params: [0.04307036 0.02397201 0.36446517 0.13971666]\n",
      "wrapper([ 8.008e-03  4.048e-19 ...  9.251e-01  9.167e-01]) = -0.02672202704642787\n",
      "assembly_constraint_no_mean([ 8.008e-03  4.048e-19 ...  9.251e-01  9.167e-01]) = [ 1.006e-03  1.009e-03 ...  1.002e-03  1.010e-03]\n"
     ]
    },
    {
     "data": {
      "application/vnd.jupyter.widget-view+json": {
       "model_id": "7c8e33fbd685485f9b46f44682e192f3",
       "version_major": 2,
       "version_minor": 0
      },
      "text/plain": [
       "  0%|          | 0/10000 [00:00<?, ?it/s]"
      ]
     },
     "metadata": {},
     "output_type": "display_data"
    },
    {
     "name": "stdout",
     "output_type": "stream",
     "text": [
      "gld_params: [0.04307074 0.02397325 0.36446382 0.13975691]\n",
      "wrapper([ 8.585e-03  0.000e+00 ...  9.263e-01  9.176e-01]) = -0.026719365928537752\n",
      "assembly_constraint_no_mean([ 8.585e-03  0.000e+00 ...  9.263e-01  9.176e-01]) = [-4.899e-04 -3.353e-03 ... -2.496e-03  1.224e-02]\n"
     ]
    },
    {
     "data": {
      "application/vnd.jupyter.widget-view+json": {
       "model_id": "f78fa8a5fe1e40c08df24f5fab4aced1",
       "version_major": 2,
       "version_minor": 0
      },
      "text/plain": [
       "  0%|          | 0/10000 [00:00<?, ?it/s]"
      ]
     },
     "metadata": {},
     "output_type": "display_data"
    },
    {
     "name": "stdout",
     "output_type": "stream",
     "text": [
      "gld_params: [0.04307069 0.02397191 0.36445346 0.13972095]\n",
      "wrapper([ 8.717e-03  9.957e-19 ...  9.250e-01  9.168e-01]) = -0.02672196715085048\n",
      "assembly_constraint_no_mean([ 8.717e-03  9.957e-19 ...  9.250e-01  9.168e-01]) = [ 1.008e-03  1.005e-03 ...  9.997e-04  1.002e-03]\n"
     ]
    },
    {
     "data": {
      "application/vnd.jupyter.widget-view+json": {
       "model_id": "26509fb8df4544ea820235dcb5b6b68c",
       "version_major": 2,
       "version_minor": 0
      },
      "text/plain": [
       "  0%|          | 0/10000 [00:00<?, ?it/s]"
      ]
     },
     "metadata": {},
     "output_type": "display_data"
    },
    {
     "name": "stdout",
     "output_type": "stream",
     "text": [
      "gld_params: [0.04307925 0.02396921 0.36444004 0.13974716]\n",
      "wrapper([ 8.982e-03  0.000e+00 ...  9.255e-01  9.173e-01]) = -0.02668175883804666\n",
      "assembly_constraint_no_mean([ 8.982e-03  0.000e+00 ...  9.255e-01  9.173e-01]) = [ 1.028e-03  1.134e-02 ... -7.894e-03  6.150e-03]\n"
     ]
    },
    {
     "data": {
      "application/vnd.jupyter.widget-view+json": {
       "model_id": "ace1f5320c5b4bd3997db36bf33836ce",
       "version_major": 2,
       "version_minor": 0
      },
      "text/plain": [
       "  0%|          | 0/10000 [00:00<?, ?it/s]"
      ]
     },
     "metadata": {},
     "output_type": "display_data"
    },
    {
     "name": "stdout",
     "output_type": "stream",
     "text": [
      "gld_params: [0.04307039 0.02397185 0.36446589 0.13971221]\n",
      "wrapper([ 8.287e-03  6.077e-21 ...  9.253e-01  9.166e-01]) = -0.0267218545192206\n",
      "assembly_constraint_no_mean([ 8.287e-03  6.077e-21 ...  9.253e-01  9.166e-01]) = [ 1.005e-03  1.005e-03 ...  1.004e-03  1.006e-03]\n"
     ]
    },
    {
     "data": {
      "application/vnd.jupyter.widget-view+json": {
       "model_id": "c05503bc724a4f04be2e9238bbb9223f",
       "version_major": 2,
       "version_minor": 0
      },
      "text/plain": [
       "  0%|          | 0/10000 [00:00<?, ?it/s]"
      ]
     },
     "metadata": {},
     "output_type": "display_data"
    },
    {
     "name": "stdout",
     "output_type": "stream",
     "text": [
      "gld_params: [0.04306427 0.02397746 0.36446758 0.13976704]\n",
      "wrapper([ 8.800e-03  0.000e+00 ...  9.241e-01  9.165e-01]) = -0.02675593215326584\n",
      "assembly_constraint_no_mean([ 8.800e-03  0.000e+00 ...  9.241e-01  9.165e-01]) = [ 1.639e-02  2.892e-03 ...  7.193e-03 -6.004e-03]\n"
     ]
    },
    {
     "data": {
      "application/vnd.jupyter.widget-view+json": {
       "model_id": "717a898499a14188845862b3d76b000a",
       "version_major": 2,
       "version_minor": 0
      },
      "text/plain": [
       "  0%|          | 0/10000 [00:00<?, ?it/s]"
      ]
     },
     "metadata": {},
     "output_type": "display_data"
    },
    {
     "name": "stdout",
     "output_type": "stream",
     "text": [
      "gld_params: [0.04306954 0.02397322 0.36449075 0.13973288]\n",
      "wrapper([ 8.462e-03  0.000e+00 ...  9.247e-01  9.172e-01]) = -0.026722195825396863\n",
      "assembly_constraint_no_mean([ 8.462e-03  0.000e+00 ...  9.247e-01  9.172e-01]) = [ 1.019e-03  9.992e-04 ...  1.034e-03  1.018e-03]\n"
     ]
    },
    {
     "data": {
      "application/vnd.jupyter.widget-view+json": {
       "model_id": "614da575a5c24d1fa305b3d364de26a9",
       "version_major": 2,
       "version_minor": 0
      },
      "text/plain": [
       "  0%|          | 0/10000 [00:00<?, ?it/s]"
      ]
     },
     "metadata": {},
     "output_type": "display_data"
    },
    {
     "name": "stdout",
     "output_type": "stream",
     "text": [
      "gld_params: [0.04306794 0.02397277 0.36454227 0.13969501]\n",
      "wrapper([ 5.847e-03  1.736e-18 ...  9.243e-01  9.176e-01]) = -0.026722112126793866\n",
      "assembly_constraint_no_mean([ 5.847e-03  1.736e-18 ...  9.243e-01  9.176e-01]) = [ 1.023e-03  1.043e-03 ...  9.985e-04  1.025e-03]\n"
     ]
    },
    {
     "data": {
      "application/vnd.jupyter.widget-view+json": {
       "model_id": "6488d383fd02452ea1d5f2c0818a57b2",
       "version_major": 2,
       "version_minor": 0
      },
      "text/plain": [
       "  0%|          | 0/10000 [00:00<?, ?it/s]"
      ]
     },
     "metadata": {},
     "output_type": "display_data"
    },
    {
     "name": "stdout",
     "output_type": "stream",
     "text": [
      "gld_params: [0.04308031 0.02397017 0.36450625 0.1397549 ]\n",
      "wrapper([ 7.662e-03  0.000e+00 ...  9.241e-01  9.167e-01]) = -0.026669280330751402\n",
      "assembly_constraint_no_mean([ 7.662e-03  0.000e+00 ...  9.241e-01  9.167e-01]) = [-1.056e-02  2.218e-03 ...  4.262e-03 -5.033e-03]\n"
     ]
    },
    {
     "data": {
      "application/vnd.jupyter.widget-view+json": {
       "model_id": "dc172ab3eb694075b84ef1be47949dfb",
       "version_major": 2,
       "version_minor": 0
      },
      "text/plain": [
       "  0%|          | 0/10000 [00:00<?, ?it/s]"
      ]
     },
     "metadata": {},
     "output_type": "display_data"
    },
    {
     "name": "stdout",
     "output_type": "stream",
     "text": [
      "gld_params: [0.04306923 0.0239725  0.36448925 0.13972063]\n",
      "wrapper([ 7.760e-03  7.350e-20 ...  9.247e-01  9.172e-01]) = -0.026722190661157875\n",
      "assembly_constraint_no_mean([ 7.760e-03  7.350e-20 ...  9.247e-01  9.172e-01]) = [ 1.016e-03  1.030e-03 ...  1.008e-03  1.007e-03]\n"
     ]
    },
    {
     "data": {
      "application/vnd.jupyter.widget-view+json": {
       "model_id": "8b72e896aa294fecb725b055aa6a6cf8",
       "version_major": 2,
       "version_minor": 0
      },
      "text/plain": [
       "  0%|          | 0/10000 [00:00<?, ?it/s]"
      ]
     },
     "metadata": {},
     "output_type": "display_data"
    },
    {
     "name": "stdout",
     "output_type": "stream",
     "text": [
      "gld_params: [0.04307591 0.02397126 0.36444839 0.13977164]\n",
      "wrapper([ 6.892e-03  0.000e+00 ...  9.241e-01  9.176e-01]) = -0.026694883295320642\n",
      "assembly_constraint_no_mean([ 6.892e-03  0.000e+00 ...  9.241e-01  9.176e-01]) = [-8.288e-03 -1.161e-02 ...  3.578e-03  1.782e-04]\n"
     ]
    },
    {
     "data": {
      "application/vnd.jupyter.widget-view+json": {
       "model_id": "c27c60b5aa5d4d7bb2649c5957510243",
       "version_major": 2,
       "version_minor": 0
      },
      "text/plain": [
       "  0%|          | 0/10000 [00:00<?, ?it/s]"
      ]
     },
     "metadata": {},
     "output_type": "display_data"
    },
    {
     "name": "stdout",
     "output_type": "stream",
     "text": [
      "gld_params: [0.04306876 0.02397468 0.36452761 0.13974497]\n",
      "wrapper([ 8.120e-03  0.000e+00 ...  9.245e-01  9.174e-01]) = -0.02672216276016759\n",
      "assembly_constraint_no_mean([ 8.120e-03  0.000e+00 ...  9.245e-01  9.174e-01]) = [ 1.007e-03  9.933e-04 ...  1.002e-03  1.009e-03]\n"
     ]
    },
    {
     "data": {
      "application/vnd.jupyter.widget-view+json": {
       "model_id": "e47da6975bb440a3898a296e39509515",
       "version_major": 2,
       "version_minor": 0
      },
      "text/plain": [
       "  0%|          | 0/10000 [00:00<?, ?it/s]"
      ]
     },
     "metadata": {},
     "output_type": "display_data"
    },
    {
     "name": "stdout",
     "output_type": "stream",
     "text": [
      "gld_params: [0.04306688 0.02397447 0.36449879 0.13973925]\n",
      "wrapper([ 7.403e-03  0.000e+00 ...  9.270e-01  9.153e-01]) = -0.026733117233211957\n",
      "assembly_constraint_no_mean([ 7.403e-03  0.000e+00 ...  9.270e-01  9.153e-01]) = [ 8.299e-03  1.168e-02 ... -1.755e-04  3.194e-03]\n"
     ]
    },
    {
     "data": {
      "application/vnd.jupyter.widget-view+json": {
       "model_id": "526075aa212348469846d880cba752da",
       "version_major": 2,
       "version_minor": 0
      },
      "text/plain": [
       "  0%|          | 0/10000 [00:00<?, ?it/s]"
      ]
     },
     "metadata": {},
     "output_type": "display_data"
    },
    {
     "name": "stdout",
     "output_type": "stream",
     "text": [
      "gld_params: [0.04306938 0.02397362 0.36452318 0.13971383]\n",
      "wrapper([ 8.125e-03  0.000e+00 ...  9.243e-01  9.176e-01]) = -0.02672225491443435\n",
      "assembly_constraint_no_mean([ 8.125e-03  0.000e+00 ...  9.243e-01  9.176e-01]) = [ 1.015e-03  1.134e-03 ...  1.011e-03  1.015e-03]\n"
     ]
    },
    {
     "data": {
      "application/vnd.jupyter.widget-view+json": {
       "model_id": "84614fc22ccc4f40b23a7ce50e128831",
       "version_major": 2,
       "version_minor": 0
      },
      "text/plain": [
       "  0%|          | 0/10000 [00:00<?, ?it/s]"
      ]
     },
     "metadata": {},
     "output_type": "display_data"
    },
    {
     "name": "stdout",
     "output_type": "stream",
     "text": [
      "gld_params: [0.04307061 0.02397412 0.36445062 0.13977169]\n",
      "wrapper([ 7.676e-03  0.000e+00 ...  9.239e-01  9.173e-01]) = -0.026723671713397595\n",
      "assembly_constraint_no_mean([ 7.676e-03  0.000e+00 ...  9.239e-01  9.173e-01]) = [ 4.623e-03  1.742e-03 ...  3.086e-03 -2.837e-03]\n"
     ]
    },
    {
     "data": {
      "application/vnd.jupyter.widget-view+json": {
       "model_id": "80f2fc78ef6e415e9aee152b87ac816c",
       "version_major": 2,
       "version_minor": 0
      },
      "text/plain": [
       "  0%|          | 0/10000 [00:00<?, ?it/s]"
      ]
     },
     "metadata": {},
     "output_type": "display_data"
    },
    {
     "name": "stdout",
     "output_type": "stream",
     "text": [
      "gld_params: [0.04306965 0.02397323 0.36451209 0.13971138]\n",
      "wrapper([ 8.344e-03  0.000e+00 ...  9.243e-01  9.176e-01]) = -0.026722186467989288\n",
      "assembly_constraint_no_mean([ 8.344e-03  0.000e+00 ...  9.243e-01  9.176e-01]) = [ 1.015e-03  1.121e-03 ...  1.002e-03  1.009e-03]\n"
     ]
    },
    {
     "data": {
      "application/vnd.jupyter.widget-view+json": {
       "model_id": "de97b8296bab4c79898c9764733f5f74",
       "version_major": 2,
       "version_minor": 0
      },
      "text/plain": [
       "  0%|          | 0/10000 [00:00<?, ?it/s]"
      ]
     },
     "metadata": {},
     "output_type": "display_data"
    },
    {
     "name": "stdout",
     "output_type": "stream",
     "text": [
      "gld_params: [0.04305786 0.02397982 0.3644388  0.13978007]\n",
      "wrapper([ 8.218e-03  0.000e+00 ...  9.245e-01  9.181e-01]) = -0.026789040576715224\n",
      "assembly_constraint_no_mean([ 8.218e-03  0.000e+00 ...  9.245e-01  9.181e-01]) = [-4.412e-03  1.349e-02 ...  8.194e-03  5.255e-03]\n"
     ]
    },
    {
     "data": {
      "application/vnd.jupyter.widget-view+json": {
       "model_id": "610b9b652da345cfb6b000ee07e442c2",
       "version_major": 2,
       "version_minor": 0
      },
      "text/plain": [
       "  0%|          | 0/10000 [00:00<?, ?it/s]"
      ]
     },
     "metadata": {},
     "output_type": "display_data"
    },
    {
     "name": "stdout",
     "output_type": "stream",
     "text": [
      "gld_params: [0.04306844 0.02397287 0.36453868 0.13969396]\n",
      "wrapper([ 8.619e-03  9.218e-21 ...  9.236e-01  9.183e-01]) = -0.026722127636684013\n",
      "assembly_constraint_no_mean([ 8.619e-03  9.218e-21 ...  9.236e-01  9.183e-01]) = [ 1.018e-03  1.004e-03 ...  9.977e-04  1.051e-03]\n"
     ]
    },
    {
     "data": {
      "application/vnd.jupyter.widget-view+json": {
       "model_id": "292a820b1a534dc8bba04b63c4d392ac",
       "version_major": 2,
       "version_minor": 0
      },
      "text/plain": [
       "  0%|          | 0/10000 [00:00<?, ?it/s]"
      ]
     },
     "metadata": {},
     "output_type": "display_data"
    },
    {
     "name": "stdout",
     "output_type": "stream",
     "text": [
      "gld_params: [0.04309062 0.02396634 0.36445639 0.13978716]\n",
      "wrapper([ 8.923e-03  0.000e+00 ...  9.233e-01  9.161e-01]) = -0.02662433651835548\n",
      "assembly_constraint_no_mean([ 8.923e-03  0.000e+00 ...  9.233e-01  9.161e-01]) = [-2.743e-03 -4.656e-03 ...  9.537e-03 -1.253e-02]\n"
     ]
    },
    {
     "data": {
      "application/vnd.jupyter.widget-view+json": {
       "model_id": "0f2cdd1529ae42c7bf3de19519bf5e6c",
       "version_major": 2,
       "version_minor": 0
      },
      "text/plain": [
       "  0%|          | 0/10000 [00:00<?, ?it/s]"
      ]
     },
     "metadata": {},
     "output_type": "display_data"
    },
    {
     "name": "stdout",
     "output_type": "stream",
     "text": [
      "gld_params: [0.04306867 0.02397399 0.36452603 0.13973078]\n",
      "wrapper([ 9.124e-03  0.000e+00 ...  9.240e-01  9.179e-01]) = -0.02672212119714732\n",
      "assembly_constraint_no_mean([ 9.124e-03  0.000e+00 ...  9.240e-01  9.179e-01]) = [ 1.003e-03  1.023e-03 ...  1.038e-03  1.023e-03]\n"
     ]
    },
    {
     "data": {
      "application/vnd.jupyter.widget-view+json": {
       "model_id": "3646f198ee0d4ed0b1ff92908bdc74de",
       "version_major": 2,
       "version_minor": 0
      },
      "text/plain": [
       "  0%|          | 0/10000 [00:00<?, ?it/s]"
      ]
     },
     "metadata": {},
     "output_type": "display_data"
    },
    {
     "name": "stdout",
     "output_type": "stream",
     "text": [
      "gld_params: [0.04307069 0.02397001 0.36448178 0.1396808 ]\n",
      "wrapper([ 9.428e-03  0.000e+00 ...  9.254e-01  9.166e-01]) = -0.026715035215430602\n",
      "assembly_constraint_no_mean([ 9.428e-03  0.000e+00 ...  9.254e-01  9.166e-01]) = [-1.519e-02  2.174e-04 ... -2.785e-03  1.846e-03]\n"
     ]
    },
    {
     "data": {
      "application/vnd.jupyter.widget-view+json": {
       "model_id": "bd128f2099144c9e84777c8ccf50ba4d",
       "version_major": 2,
       "version_minor": 0
      },
      "text/plain": [
       "  0%|          | 0/10000 [00:00<?, ?it/s]"
      ]
     },
     "metadata": {},
     "output_type": "display_data"
    },
    {
     "name": "stdout",
     "output_type": "stream",
     "text": [
      "gld_params: [0.04306945 0.02397301 0.36450975 0.13971097]\n",
      "wrapper([ 7.944e-03  3.261e-19 ...  9.242e-01  9.177e-01]) = -0.026722166250987455\n",
      "assembly_constraint_no_mean([ 7.944e-03  3.261e-19 ...  9.242e-01  9.177e-01]) = [ 9.988e-04  1.139e-03 ...  1.024e-03  1.009e-03]\n"
     ]
    },
    {
     "data": {
      "application/vnd.jupyter.widget-view+json": {
       "model_id": "e0fed97bf6684ee581d5ec946b21feaf",
       "version_major": 2,
       "version_minor": 0
      },
      "text/plain": [
       "  0%|          | 0/10000 [00:00<?, ?it/s]"
      ]
     },
     "metadata": {},
     "output_type": "display_data"
    },
    {
     "name": "stdout",
     "output_type": "stream",
     "text": [
      "gld_params: [0.04307352 0.0239695  0.36442554 0.13971538]\n",
      "wrapper([ 1.057e-02  0.000e+00 ...  9.258e-01  9.165e-01]) = -0.0267084046836776\n",
      "assembly_constraint_no_mean([ 1.057e-02  0.000e+00 ...  9.258e-01  9.165e-01]) = [-1.036e-02 -7.130e-03 ...  2.343e-03  3.290e-03]\n"
     ]
    },
    {
     "data": {
      "application/vnd.jupyter.widget-view+json": {
       "model_id": "58d02332927b4c40af26c61108b71ebf",
       "version_major": 2,
       "version_minor": 0
      },
      "text/plain": [
       "  0%|          | 0/10000 [00:00<?, ?it/s]"
      ]
     },
     "metadata": {},
     "output_type": "display_data"
    },
    {
     "name": "stdout",
     "output_type": "stream",
     "text": [
      "gld_params: [0.04306925 0.02397432 0.36453268 0.13972443]\n",
      "wrapper([ 8.060e-03  0.000e+00 ...  9.244e-01  9.175e-01]) = -0.026722161397949612\n",
      "assembly_constraint_no_mean([ 8.060e-03  0.000e+00 ...  9.244e-01  9.175e-01]) = [ 1.006e-03  1.060e-03 ...  1.005e-03  1.010e-03]\n"
     ]
    },
    {
     "data": {
      "application/vnd.jupyter.widget-view+json": {
       "model_id": "1aaab60ac7284d2584462d2d779c69a2",
       "version_major": 2,
       "version_minor": 0
      },
      "text/plain": [
       "  0%|          | 0/10000 [00:00<?, ?it/s]"
      ]
     },
     "metadata": {},
     "output_type": "display_data"
    },
    {
     "name": "stdout",
     "output_type": "stream",
     "text": [
      "gld_params: [0.04305839 0.02397811 0.36445906 0.13977074]\n",
      "wrapper([ 9.602e-03  0.000e+00 ...  9.248e-01  9.172e-01]) = -0.026776753476414183\n",
      "assembly_constraint_no_mean([ 9.602e-03  0.000e+00 ...  9.248e-01  9.172e-01]) = [ 7.569e-03  3.774e-03 ... -1.217e-03  1.350e-03]\n"
     ]
    },
    {
     "data": {
      "application/vnd.jupyter.widget-view+json": {
       "model_id": "41b70ae6be9a4b41b481e4b82cc086f7",
       "version_major": 2,
       "version_minor": 0
      },
      "text/plain": [
       "  0%|          | 0/10000 [00:00<?, ?it/s]"
      ]
     },
     "metadata": {},
     "output_type": "display_data"
    },
    {
     "name": "stdout",
     "output_type": "stream",
     "text": [
      "gld_params: [0.04306933 0.02397377 0.36453138 0.13971084]\n",
      "wrapper([ 8.102e-03  3.967e-20 ...  9.245e-01  9.173e-01]) = -0.026722191071413274\n",
      "assembly_constraint_no_mean([ 8.102e-03  3.967e-20 ...  9.245e-01  9.173e-01]) = [ 1.017e-03  1.116e-03 ...  9.998e-04  1.007e-03]\n"
     ]
    },
    {
     "data": {
      "application/vnd.jupyter.widget-view+json": {
       "model_id": "507f06f392644f70b9773fa97b6afa91",
       "version_major": 2,
       "version_minor": 0
      },
      "text/plain": [
       "  0%|          | 0/10000 [00:00<?, ?it/s]"
      ]
     },
     "metadata": {},
     "output_type": "display_data"
    },
    {
     "name": "stdout",
     "output_type": "stream",
     "text": [
      "gld_params: [0.04307334 0.02397276 0.36450653 0.13974394]\n",
      "wrapper([ 8.971e-03  0.000e+00 ...  9.230e-01  9.166e-01]) = -0.026703976993790245\n",
      "assembly_constraint_no_mean([ 8.971e-03  0.000e+00 ...  9.230e-01  9.166e-01]) = [ 9.498e-03 -9.754e-04 ... -1.318e-02 -1.164e-02]\n"
     ]
    },
    {
     "data": {
      "application/vnd.jupyter.widget-view+json": {
       "model_id": "e39df6ffc5f046919af82a302cb9d868",
       "version_major": 2,
       "version_minor": 0
      },
      "text/plain": [
       "  0%|          | 0/10000 [00:00<?, ?it/s]"
      ]
     },
     "metadata": {},
     "output_type": "display_data"
    },
    {
     "name": "stdout",
     "output_type": "stream",
     "text": [
      "gld_params: [0.04306929 0.02397354 0.36452905 0.13970783]\n",
      "wrapper([ 7.746e-03  0.000e+00 ...  9.244e-01  9.175e-01]) = -0.02672217695636365\n",
      "assembly_constraint_no_mean([ 7.746e-03  0.000e+00 ...  9.244e-01  9.175e-01]) = [ 1.009e-03  1.105e-03 ...  1.003e-03  1.009e-03]\n"
     ]
    },
    {
     "data": {
      "application/vnd.jupyter.widget-view+json": {
       "model_id": "29a03c8689dd4211991b2608c20acff9",
       "version_major": 2,
       "version_minor": 0
      },
      "text/plain": [
       "  0%|          | 0/10000 [00:00<?, ?it/s]"
      ]
     },
     "metadata": {},
     "output_type": "display_data"
    },
    {
     "name": "stdout",
     "output_type": "stream",
     "text": [
      "gld_params: [0.04307184 0.02397342 0.36443707 0.13978464]\n",
      "wrapper([ 1.029e-02  0.000e+00 ...  9.249e-01  9.175e-01]) = -0.02671672369322988\n",
      "assembly_constraint_no_mean([ 1.029e-02  0.000e+00 ...  9.249e-01  9.175e-01]) = [-1.675e-04  4.118e-03 ...  6.951e-03  4.051e-03]\n"
     ]
    },
    {
     "data": {
      "application/vnd.jupyter.widget-view+json": {
       "model_id": "859f32dbfde1460d8c9783952c1a7b7a",
       "version_major": 2,
       "version_minor": 0
      },
      "text/plain": [
       "  0%|          | 0/10000 [00:00<?, ?it/s]"
      ]
     },
     "metadata": {},
     "output_type": "display_data"
    },
    {
     "name": "stdout",
     "output_type": "stream",
     "text": [
      "gld_params: [0.04306948 0.02397451 0.36452349 0.13973466]\n",
      "wrapper([ 1.004e-02  9.248e-20 ...  9.242e-01  9.177e-01]) = -0.026722225828247757\n",
      "assembly_constraint_no_mean([ 1.004e-02  9.248e-20 ...  9.242e-01  9.177e-01]) = [ 1.047e-03  1.038e-03 ...  1.015e-03  1.010e-03]\n"
     ]
    },
    {
     "data": {
      "application/vnd.jupyter.widget-view+json": {
       "model_id": "337b7cacb2c445efb5822d8fea1f1108",
       "version_major": 2,
       "version_minor": 0
      },
      "text/plain": [
       "  0%|          | 0/10000 [00:00<?, ?it/s]"
      ]
     },
     "metadata": {},
     "output_type": "display_data"
    },
    {
     "name": "stdout",
     "output_type": "stream",
     "text": [
      "gld_params: [0.04306845 0.02397253 0.36452347 0.13970791]\n",
      "wrapper([ 9.148e-03  0.000e+00 ...  9.250e-01  9.179e-01]) = -0.02672050529977659\n",
      "assembly_constraint_no_mean([ 9.148e-03  0.000e+00 ...  9.250e-01  9.179e-01]) = [ 5.324e-03 -5.138e-04 ... -9.896e-03  6.289e-03]\n"
     ]
    },
    {
     "data": {
      "application/vnd.jupyter.widget-view+json": {
       "model_id": "6ecdb9dfff35404c961e9a1549fc21b8",
       "version_major": 2,
       "version_minor": 0
      },
      "text/plain": [
       "  0%|          | 0/10000 [00:00<?, ?it/s]"
      ]
     },
     "metadata": {},
     "output_type": "display_data"
    },
    {
     "name": "stdout",
     "output_type": "stream",
     "text": [
      "gld_params: [0.04306949 0.02397411 0.36452137 0.13972661]\n",
      "wrapper([ 8.442e-03  7.864e-20 ...  9.245e-01  9.174e-01]) = -0.02672219370065867\n",
      "assembly_constraint_no_mean([ 8.442e-03  7.864e-20 ...  9.245e-01  9.174e-01]) = [ 1.018e-03  1.105e-03 ...  1.004e-03  1.011e-03]\n"
     ]
    },
    {
     "data": {
      "application/vnd.jupyter.widget-view+json": {
       "model_id": "1b230babfc43487789a2aae6c10d32ee",
       "version_major": 2,
       "version_minor": 0
      },
      "text/plain": [
       "  0%|          | 0/10000 [00:00<?, ?it/s]"
      ]
     },
     "metadata": {},
     "output_type": "display_data"
    },
    {
     "name": "stdout",
     "output_type": "stream",
     "text": [
      "gld_params: [0.04306258 0.02397681 0.36443571 0.13976382]\n",
      "wrapper([ 1.008e-02  0.000e+00 ...  9.234e-01  9.157e-01]) = -0.026764202044810767\n",
      "assembly_constraint_no_mean([ 1.008e-02  0.000e+00 ...  9.234e-01  9.157e-01]) = [ 7.033e-03  8.184e-03 ...  8.105e-03 -1.394e-02]\n"
     ]
    },
    {
     "data": {
      "application/vnd.jupyter.widget-view+json": {
       "model_id": "a50ccb505a4a4476ae507ad45de8240a",
       "version_major": 2,
       "version_minor": 0
      },
      "text/plain": [
       "  0%|          | 0/10000 [00:00<?, ?it/s]"
      ]
     },
     "metadata": {},
     "output_type": "display_data"
    },
    {
     "name": "stdout",
     "output_type": "stream",
     "text": [
      "gld_params: [0.04306989 0.02397395 0.36450973 0.13972842]\n",
      "wrapper([ 8.553e-03  0.000e+00 ...  9.246e-01  9.173e-01]) = -0.02672215013532493\n",
      "assembly_constraint_no_mean([ 8.553e-03  0.000e+00 ...  9.246e-01  9.173e-01]) = [ 1.011e-03  1.119e-03 ...  1.001e-03  1.005e-03]\n"
     ]
    },
    {
     "data": {
      "application/vnd.jupyter.widget-view+json": {
       "model_id": "30b1631d7e4a4d7fbddb96c945a8607f",
       "version_major": 2,
       "version_minor": 0
      },
      "text/plain": [
       "  0%|          | 0/10000 [00:00<?, ?it/s]"
      ]
     },
     "metadata": {},
     "output_type": "display_data"
    },
    {
     "name": "stdout",
     "output_type": "stream",
     "text": [
      "gld_params: [0.04307349 0.02397243 0.36451545 0.13975308]\n",
      "wrapper([ 7.828e-03  0.000e+00 ...  9.240e-01  9.184e-01]) = -0.02669833348667037\n",
      "assembly_constraint_no_mean([ 7.828e-03  0.000e+00 ...  9.240e-01  9.184e-01]) = [-6.761e-03  7.724e-03 ... -3.917e-03  3.466e-03]\n"
     ]
    },
    {
     "data": {
      "application/vnd.jupyter.widget-view+json": {
       "model_id": "a4afd2f038c24fb6827e3bce7687a782",
       "version_major": 2,
       "version_minor": 0
      },
      "text/plain": [
       "  0%|          | 0/10000 [00:00<?, ?it/s]"
      ]
     },
     "metadata": {},
     "output_type": "display_data"
    },
    {
     "name": "stdout",
     "output_type": "stream",
     "text": [
      "gld_params: [0.04306892 0.02397436 0.36451893 0.13974286]\n",
      "wrapper([ 8.599e-03  0.000e+00 ...  9.233e-01  9.186e-01]) = -0.026722218428897198\n",
      "assembly_constraint_no_mean([ 8.599e-03  0.000e+00 ...  9.233e-01  9.186e-01]) = [ 1.002e-03  1.045e-03 ...  1.011e-03  1.034e-03]\n"
     ]
    },
    {
     "data": {
      "application/vnd.jupyter.widget-view+json": {
       "model_id": "064918a6305a4444a429c8215162cc38",
       "version_major": 2,
       "version_minor": 0
      },
      "text/plain": [
       "  0%|          | 0/10000 [00:00<?, ?it/s]"
      ]
     },
     "metadata": {},
     "output_type": "display_data"
    },
    {
     "name": "stdout",
     "output_type": "stream",
     "text": [
      "gld_params: [0.04306835 0.02397523 0.36442545 0.13977548]\n",
      "wrapper([ 9.274e-03  0.000e+00 ...  9.243e-01  9.177e-01]) = -0.02673967795793042\n",
      "assembly_constraint_no_mean([ 9.274e-03  0.000e+00 ...  9.243e-01  9.177e-01]) = [ 7.587e-03  9.397e-03 ...  3.881e-03  1.846e-03]\n"
     ]
    },
    {
     "data": {
      "application/vnd.jupyter.widget-view+json": {
       "model_id": "cd8a1df767ae4192bddbe67e26e3d5fd",
       "version_major": 2,
       "version_minor": 0
      },
      "text/plain": [
       "  0%|          | 0/10000 [00:00<?, ?it/s]"
      ]
     },
     "metadata": {},
     "output_type": "display_data"
    },
    {
     "name": "stdout",
     "output_type": "stream",
     "text": [
      "gld_params: [0.0430698  0.02397344 0.36450942 0.13971673]\n",
      "wrapper([ 8.279e-03  8.901e-20 ...  9.247e-01  9.172e-01]) = -0.026722234833568222\n",
      "assembly_constraint_no_mean([ 8.279e-03  8.901e-20 ...  9.247e-01  9.172e-01]) = [ 1.028e-03  1.114e-03 ...  1.004e-03  1.009e-03]\n"
     ]
    },
    {
     "data": {
      "application/vnd.jupyter.widget-view+json": {
       "model_id": "58476732a4924fb5a3f173443067d25b",
       "version_major": 2,
       "version_minor": 0
      },
      "text/plain": [
       "  0%|          | 0/10000 [00:00<?, ?it/s]"
      ]
     },
     "metadata": {},
     "output_type": "display_data"
    },
    {
     "name": "stdout",
     "output_type": "stream",
     "text": [
      "gld_params: [0.0430725  0.02397273 0.36445807 0.13975811]\n",
      "wrapper([ 8.029e-03  0.000e+00 ...  9.240e-01  9.173e-01]) = -0.026712680390141196\n",
      "assembly_constraint_no_mean([ 8.029e-03  0.000e+00 ...  9.240e-01  9.173e-01]) = [ 5.231e-03  2.067e-03 ... -6.192e-03 -1.707e-03]\n"
     ]
    },
    {
     "data": {
      "application/vnd.jupyter.widget-view+json": {
       "model_id": "991e4540ab324295a8c8b0f804991727",
       "version_major": 2,
       "version_minor": 0
      },
      "text/plain": [
       "  0%|          | 0/10000 [00:00<?, ?it/s]"
      ]
     },
     "metadata": {},
     "output_type": "display_data"
    },
    {
     "name": "stdout",
     "output_type": "stream",
     "text": [
      "gld_params: [0.04306994 0.02397365 0.36450644 0.13972288]\n",
      "wrapper([ 8.291e-03  1.049e-18 ...  9.247e-01  9.172e-01]) = -0.02672223405814931\n",
      "assembly_constraint_no_mean([ 8.291e-03  1.049e-18 ...  9.247e-01  9.172e-01]) = [ 1.021e-03  1.113e-03 ...  1.007e-03  1.010e-03]\n"
     ]
    },
    {
     "data": {
      "application/vnd.jupyter.widget-view+json": {
       "model_id": "abd8273f5b164a51b848ba187ac2be39",
       "version_major": 2,
       "version_minor": 0
      },
      "text/plain": [
       "  0%|          | 0/10000 [00:00<?, ?it/s]"
      ]
     },
     "metadata": {},
     "output_type": "display_data"
    },
    {
     "name": "stdout",
     "output_type": "stream",
     "text": [
      "gld_params: [0.04306748 0.02397559 0.36449469 0.13977593]\n",
      "wrapper([ 8.285e-03  0.000e+00 ...  9.248e-01  9.183e-01]) = -0.026730477119255466\n",
      "assembly_constraint_no_mean([ 8.285e-03  0.000e+00 ...  9.248e-01  9.183e-01]) = [ 1.106e-02  6.526e-03 ... -1.171e-03  7.280e-03]\n"
     ]
    },
    {
     "data": {
      "application/vnd.jupyter.widget-view+json": {
       "model_id": "48755a00b396415eb46953590e989462",
       "version_major": 2,
       "version_minor": 0
      },
      "text/plain": [
       "  0%|          | 0/10000 [00:00<?, ?it/s]"
      ]
     },
     "metadata": {},
     "output_type": "display_data"
    },
    {
     "name": "stdout",
     "output_type": "stream",
     "text": [
      "gld_params: [0.04306979 0.02397387 0.36451041 0.13972659]\n",
      "wrapper([ 8.198e-03  2.495e-20 ...  9.244e-01  9.175e-01]) = -0.026722251258935938\n",
      "assembly_constraint_no_mean([ 8.198e-03  2.495e-20 ...  9.244e-01  9.175e-01]) = [ 1.022e-03  1.106e-03 ...  1.010e-03  1.011e-03]\n"
     ]
    },
    {
     "data": {
      "application/vnd.jupyter.widget-view+json": {
       "model_id": "5d83b0bd40304c28aa061e1e82f53f2d",
       "version_major": 2,
       "version_minor": 0
      },
      "text/plain": [
       "  0%|          | 0/10000 [00:00<?, ?it/s]"
      ]
     },
     "metadata": {},
     "output_type": "display_data"
    },
    {
     "name": "stdout",
     "output_type": "stream",
     "text": [
      "gld_params: [0.04306961 0.02397354 0.36448333 0.13976554]\n",
      "wrapper([ 8.458e-03  0.000e+00 ...  9.239e-01  9.172e-01]) = -0.026718494971681446\n",
      "assembly_constraint_no_mean([ 8.458e-03  0.000e+00 ...  9.239e-01  9.172e-01]) = [-2.548e-04 -3.932e-03 ... -3.493e-03 -3.145e-03]\n"
     ]
    },
    {
     "data": {
      "application/vnd.jupyter.widget-view+json": {
       "model_id": "d7a0f484f49d4c3281f5150a041627ca",
       "version_major": 2,
       "version_minor": 0
      },
      "text/plain": [
       "  0%|          | 0/10000 [00:00<?, ?it/s]"
      ]
     },
     "metadata": {},
     "output_type": "display_data"
    },
    {
     "name": "stdout",
     "output_type": "stream",
     "text": [
      "gld_params: [0.04306957 0.02397385 0.36451266 0.1397269 ]\n",
      "wrapper([ 8.330e-03  6.134e-19 ...  9.245e-01  9.174e-01]) = -0.02672224725142391\n",
      "assembly_constraint_no_mean([ 8.330e-03  6.134e-19 ...  9.245e-01  9.174e-01]) = [ 1.026e-03  1.100e-03 ...  1.015e-03  1.011e-03]\n"
     ]
    },
    {
     "data": {
      "application/vnd.jupyter.widget-view+json": {
       "model_id": "ecb6ac7f49ef4c27b16bd761eddc3624",
       "version_major": 2,
       "version_minor": 0
      },
      "text/plain": [
       "  0%|          | 0/10000 [00:00<?, ?it/s]"
      ]
     },
     "metadata": {},
     "output_type": "display_data"
    },
    {
     "name": "stdout",
     "output_type": "stream",
     "text": [
      "gld_params: [0.04307445 0.02397098 0.36442212 0.1397564 ]\n",
      "wrapper([ 9.829e-03  9.007e-04 ...  9.243e-01  9.172e-01]) = -0.02670569988839758\n",
      "assembly_constraint_no_mean([ 9.829e-03  9.007e-04 ...  9.243e-01  9.172e-01]) = [ 4.508e-04 -2.383e-03 ... -1.137e-03 -1.187e-03]\n"
     ]
    },
    {
     "data": {
      "application/vnd.jupyter.widget-view+json": {
       "model_id": "fbbdf37571ef47f5962e5547771366ae",
       "version_major": 2,
       "version_minor": 0
      },
      "text/plain": [
       "  0%|          | 0/10000 [00:00<?, ?it/s]"
      ]
     },
     "metadata": {},
     "output_type": "display_data"
    },
    {
     "name": "stdout",
     "output_type": "stream",
     "text": [
      "gld_params: [0.04306978 0.02397392 0.36451427 0.13972446]\n",
      "wrapper([ 8.411e-03  0.000e+00 ...  9.246e-01  9.173e-01]) = -0.026722232517378656\n",
      "assembly_constraint_no_mean([ 8.411e-03  0.000e+00 ...  9.246e-01  9.173e-01]) = [ 1.013e-03  1.106e-03 ...  1.013e-03  1.010e-03]\n"
     ]
    },
    {
     "data": {
      "application/vnd.jupyter.widget-view+json": {
       "model_id": "7058b92043c94a2393b90856a54e22d4",
       "version_major": 2,
       "version_minor": 0
      },
      "text/plain": [
       "  0%|          | 0/10000 [00:00<?, ?it/s]"
      ]
     },
     "metadata": {},
     "output_type": "display_data"
    },
    {
     "name": "stdout",
     "output_type": "stream",
     "text": [
      "gld_params: [0.04307288 0.02397222 0.36443796 0.13976336]\n",
      "wrapper([ 8.678e-03  0.000e+00 ...  9.249e-01  9.184e-01]) = -0.026711860723188298\n",
      "assembly_constraint_no_mean([ 8.678e-03  0.000e+00 ...  9.249e-01  9.184e-01]) = [ 3.520e-03 -8.158e-04 ... -4.670e-03  8.773e-03]\n"
     ]
    },
    {
     "data": {
      "application/vnd.jupyter.widget-view+json": {
       "model_id": "bc9949969d884681901175138632d898",
       "version_major": 2,
       "version_minor": 0
      },
      "text/plain": [
       "  0%|          | 0/10000 [00:00<?, ?it/s]"
      ]
     },
     "metadata": {},
     "output_type": "display_data"
    },
    {
     "name": "stdout",
     "output_type": "stream",
     "text": [
      "gld_params: [0.04306971 0.02397379 0.36451579 0.13972065]\n",
      "wrapper([ 8.419e-03  0.000e+00 ...  9.247e-01  9.172e-01]) = -0.026722237055173962\n",
      "assembly_constraint_no_mean([ 8.419e-03  0.000e+00 ...  9.247e-01  9.172e-01]) = [ 1.015e-03  1.115e-03 ...  1.009e-03  1.009e-03]\n",
      "\n",
      "New trust-region radius: 0.0007071067811865476.\n",
      "Number of function evaluations: 404.\n",
      "Number of iterations: 191.\n",
      "Least value of wrapper: -0.026722195825396863.\n",
      "Maximum constraint violation: 3.378339003736949e-05.\n",
      "Corresponding point: [ 8.462e-03  0.000e+00 ...  9.247e-01  9.172e-01].\n",
      "\n"
     ]
    },
    {
     "data": {
      "application/vnd.jupyter.widget-view+json": {
       "model_id": "a30332e87cbb46f9b98d1b0e8a543aa9",
       "version_major": 2,
       "version_minor": 0
      },
      "text/plain": [
       "  0%|          | 0/10000 [00:00<?, ?it/s]"
      ]
     },
     "metadata": {},
     "output_type": "display_data"
    },
    {
     "name": "stdout",
     "output_type": "stream",
     "text": [
      "gld_params: [0.04306947 0.02397368 0.36450869 0.1397286 ]\n",
      "wrapper([ 8.672e-03  3.582e-20 ...  9.242e-01  9.177e-01]) = -0.026722131973820958\n",
      "assembly_constraint_no_mean([ 8.672e-03  3.582e-20 ...  9.242e-01  9.177e-01]) = [ 1.004e-03  1.006e-03 ...  1.005e-03  1.006e-03]\n"
     ]
    },
    {
     "data": {
      "application/vnd.jupyter.widget-view+json": {
       "model_id": "1c4e0a60c9134cf89a852dd3ede3c1f5",
       "version_major": 2,
       "version_minor": 0
      },
      "text/plain": [
       "  0%|          | 0/10000 [00:00<?, ?it/s]"
      ]
     },
     "metadata": {},
     "output_type": "display_data"
    },
    {
     "name": "stdout",
     "output_type": "stream",
     "text": [
      "gld_params: [0.04306907 0.02397397 0.36452076 0.13972992]\n",
      "wrapper([ 8.461e-03  3.902e-21 ...  9.241e-01  9.178e-01]) = -0.02672210352162292\n",
      "assembly_constraint_no_mean([ 8.461e-03  3.902e-21 ...  9.241e-01  9.178e-01]) = [ 9.995e-04  1.003e-03 ...  1.002e-03  9.999e-04]\n"
     ]
    },
    {
     "data": {
      "application/vnd.jupyter.widget-view+json": {
       "model_id": "fccc0565c1e74fdb87c93abbd907465a",
       "version_major": 2,
       "version_minor": 0
      },
      "text/plain": [
       "  0%|          | 0/10000 [00:00<?, ?it/s]"
      ]
     },
     "metadata": {},
     "output_type": "display_data"
    },
    {
     "name": "stdout",
     "output_type": "stream",
     "text": [
      "gld_params: [0.04306885 0.02397416 0.36453144 0.13972769]\n",
      "wrapper([ 8.023e-03  3.916e-19 ...  9.243e-01  9.176e-01]) = -0.026722070757771197\n",
      "assembly_constraint_no_mean([ 8.023e-03  3.916e-19 ...  9.243e-01  9.176e-01]) = [ 1.001e-03  9.979e-04 ...  1.005e-03  9.993e-04]\n"
     ]
    },
    {
     "data": {
      "application/vnd.jupyter.widget-view+json": {
       "model_id": "eb06ad54f4494635bb24decca533d101",
       "version_major": 2,
       "version_minor": 0
      },
      "text/plain": [
       "  0%|          | 0/10000 [00:00<?, ?it/s]"
      ]
     },
     "metadata": {},
     "output_type": "display_data"
    },
    {
     "name": "stdout",
     "output_type": "stream",
     "text": [
      "gld_params: [0.0430683  0.02397403 0.36451626 0.13973187]\n",
      "wrapper([ 8.479e-03  0.000e+00 ...  9.242e-01  9.178e-01]) = -0.026725060061063125\n",
      "assembly_constraint_no_mean([ 8.479e-03  0.000e+00 ...  9.242e-01  9.178e-01]) = [ 2.148e-03  8.277e-04 ...  1.903e-03  1.575e-03]\n"
     ]
    },
    {
     "data": {
      "application/vnd.jupyter.widget-view+json": {
       "model_id": "267fbf52317e456c88a567cbfa395426",
       "version_major": 2,
       "version_minor": 0
      },
      "text/plain": [
       "  0%|          | 0/10000 [00:00<?, ?it/s]"
      ]
     },
     "metadata": {},
     "output_type": "display_data"
    },
    {
     "name": "stdout",
     "output_type": "stream",
     "text": [
      "gld_params: [0.0430684  0.02397458 0.36454048 0.13973592]\n",
      "wrapper([ 8.464e-03  8.238e-04 ...  9.241e-01  9.178e-01]) = -0.026722054669041134\n",
      "assembly_constraint_no_mean([ 8.464e-03  8.238e-04 ...  9.241e-01  9.178e-01]) = [ 1.003e-03  1.001e-03 ...  9.973e-04  9.975e-04]\n"
     ]
    },
    {
     "data": {
      "application/vnd.jupyter.widget-view+json": {
       "model_id": "e535e5df262e47a4b864214cf8efe967",
       "version_major": 2,
       "version_minor": 0
      },
      "text/plain": [
       "  0%|          | 0/10000 [00:00<?, ?it/s]"
      ]
     },
     "metadata": {},
     "output_type": "display_data"
    },
    {
     "name": "stdout",
     "output_type": "stream",
     "text": [
      "gld_params: [0.04306948 0.02397374 0.36452485 0.13972899]\n",
      "wrapper([ 8.728e-03  3.423e-04 ...  9.241e-01  9.178e-01]) = -0.026719198086035987\n",
      "assembly_constraint_no_mean([ 8.728e-03  3.423e-04 ...  9.241e-01  9.178e-01]) = [ 1.373e-03  1.049e-03 ...  7.251e-05  7.779e-04]\n"
     ]
    },
    {
     "data": {
      "application/vnd.jupyter.widget-view+json": {
       "model_id": "f76f36e8b4744829bb77c50179a47bd1",
       "version_major": 2,
       "version_minor": 0
      },
      "text/plain": [
       "  0%|          | 0/10000 [00:00<?, ?it/s]"
      ]
     },
     "metadata": {},
     "output_type": "display_data"
    },
    {
     "name": "stdout",
     "output_type": "stream",
     "text": [
      "gld_params: [0.04306898 0.02397431 0.36452482 0.13973572]\n",
      "wrapper([ 8.319e-03  8.967e-22 ...  9.240e-01  9.179e-01]) = -0.026722111022290076\n",
      "assembly_constraint_no_mean([ 8.319e-03  8.967e-22 ...  9.240e-01  9.179e-01]) = [ 9.999e-04  9.997e-04 ...  1.000e-03  1.000e-03]\n"
     ]
    },
    {
     "data": {
      "application/vnd.jupyter.widget-view+json": {
       "model_id": "959baf8133bb4a63a7bca6671a08cd47",
       "version_major": 2,
       "version_minor": 0
      },
      "text/plain": [
       "  0%|          | 0/10000 [00:00<?, ?it/s]"
      ]
     },
     "metadata": {},
     "output_type": "display_data"
    },
    {
     "name": "stdout",
     "output_type": "stream",
     "text": [
      "gld_params: [0.04306848 0.02397442 0.3645395  0.13973142]\n",
      "wrapper([ 8.274e-03  0.000e+00 ...  9.242e-01  9.177e-01]) = -0.02672210467125556\n",
      "assembly_constraint_no_mean([ 8.274e-03  0.000e+00 ...  9.242e-01  9.177e-01]) = [ 1.001e-03  1.002e-03 ...  1.001e-03  1.001e-03]\n"
     ]
    },
    {
     "data": {
      "application/vnd.jupyter.widget-view+json": {
       "model_id": "51b7364e1c7f4cfcb2762f04f9f463a6",
       "version_major": 2,
       "version_minor": 0
      },
      "text/plain": [
       "  0%|          | 0/10000 [00:00<?, ?it/s]"
      ]
     },
     "metadata": {},
     "output_type": "display_data"
    },
    {
     "name": "stdout",
     "output_type": "stream",
     "text": [
      "gld_params: [0.04306997 0.02397388 0.36452276 0.13973608]\n",
      "wrapper([ 8.393e-03  1.881e-37 ...  9.243e-01  9.176e-01]) = -0.026717506529555672\n",
      "assembly_constraint_no_mean([ 8.393e-03  1.881e-37 ...  9.243e-01  9.176e-01]) = [ 2.397e-04  7.896e-04 ... -2.989e-05  1.113e-03]\n"
     ]
    },
    {
     "data": {
      "application/vnd.jupyter.widget-view+json": {
       "model_id": "2a52cd7a1a2e4f20af3cbde9808dad47",
       "version_major": 2,
       "version_minor": 0
      },
      "text/plain": [
       "  0%|          | 0/10000 [00:00<?, ?it/s]"
      ]
     },
     "metadata": {},
     "output_type": "display_data"
    },
    {
     "name": "stdout",
     "output_type": "stream",
     "text": [
      "gld_params: [0.04306911 0.02397434 0.3645204  0.13973885]\n",
      "wrapper([ 8.207e-03  0.000e+00 ...  9.237e-01  9.182e-01]) = -0.026722107804168865\n",
      "assembly_constraint_no_mean([ 8.207e-03  0.000e+00 ...  9.237e-01  9.182e-01]) = [ 9.996e-04  1.001e-03 ...  1.001e-03  1.003e-03]\n"
     ]
    },
    {
     "data": {
      "application/vnd.jupyter.widget-view+json": {
       "model_id": "1080c17919d34ca88469f47de55db34f",
       "version_major": 2,
       "version_minor": 0
      },
      "text/plain": [
       "  0%|          | 0/10000 [00:00<?, ?it/s]"
      ]
     },
     "metadata": {},
     "output_type": "display_data"
    },
    {
     "name": "stdout",
     "output_type": "stream",
     "text": [
      "gld_params: [0.04306758 0.02397487 0.36452559 0.13973705]\n",
      "wrapper([ 8.286e-03  0.000e+00 ...  9.242e-01  9.179e-01]) = -0.026728462250123156\n",
      "assembly_constraint_no_mean([ 8.286e-03  0.000e+00 ...  9.242e-01  9.179e-01]) = [ 2.070e-03 -1.718e-03 ...  9.490e-04  1.735e-03]\n"
     ]
    },
    {
     "data": {
      "application/vnd.jupyter.widget-view+json": {
       "model_id": "1e2025cd348042f5ac7892eae4bbc524",
       "version_major": 2,
       "version_minor": 0
      },
      "text/plain": [
       "  0%|          | 0/10000 [00:00<?, ?it/s]"
      ]
     },
     "metadata": {},
     "output_type": "display_data"
    },
    {
     "name": "stdout",
     "output_type": "stream",
     "text": [
      "gld_params: [0.0430689  0.02397452 0.36452864 0.13973851]\n",
      "wrapper([ 8.449e-03  1.505e-19 ...  9.238e-01  9.181e-01]) = -0.026722098515016012\n",
      "assembly_constraint_no_mean([ 8.449e-03  1.505e-19 ...  9.238e-01  9.181e-01]) = [ 1.001e-03  9.996e-04 ...  1.001e-03  1.002e-03]\n"
     ]
    },
    {
     "data": {
      "application/vnd.jupyter.widget-view+json": {
       "model_id": "dc248d5250394fd195a04ff6f7f540b7",
       "version_major": 2,
       "version_minor": 0
      },
      "text/plain": [
       "  0%|          | 0/10000 [00:00<?, ?it/s]"
      ]
     },
     "metadata": {},
     "output_type": "display_data"
    },
    {
     "name": "stdout",
     "output_type": "stream",
     "text": [
      "gld_params: [0.04306834 0.02397496 0.3645274  0.13974237]\n",
      "wrapper([ 8.438e-03  3.905e-05 ...  9.242e-01  9.181e-01]) = -0.026725353835113784\n",
      "assembly_constraint_no_mean([ 8.438e-03  3.905e-05 ...  9.242e-01  9.181e-01]) = [ 1.650e-03  3.135e-04 ...  3.087e-03  3.414e-03]\n"
     ]
    },
    {
     "data": {
      "application/vnd.jupyter.widget-view+json": {
       "model_id": "e05a6ffa7f0848339bfea78b995bab92",
       "version_major": 2,
       "version_minor": 0
      },
      "text/plain": [
       "  0%|          | 0/10000 [00:00<?, ?it/s]"
      ]
     },
     "metadata": {},
     "output_type": "display_data"
    },
    {
     "name": "stdout",
     "output_type": "stream",
     "text": [
      "gld_params: [0.04306902 0.02397433 0.3645241  0.13973634]\n",
      "wrapper([ 8.043e-03  2.347e-20 ...  9.241e-01  9.178e-01]) = -0.0267221085836511\n",
      "assembly_constraint_no_mean([ 8.043e-03  2.347e-20 ...  9.241e-01  9.178e-01]) = [ 1.000e-03  1.000e-03 ...  9.994e-04  9.993e-04]\n"
     ]
    },
    {
     "data": {
      "application/vnd.jupyter.widget-view+json": {
       "model_id": "440fcb53c1ab48849127136e06c4b6af",
       "version_major": 2,
       "version_minor": 0
      },
      "text/plain": [
       "  0%|          | 0/10000 [00:00<?, ?it/s]"
      ]
     },
     "metadata": {},
     "output_type": "display_data"
    },
    {
     "name": "stdout",
     "output_type": "stream",
     "text": [
      "gld_params: [0.04306893 0.02397469 0.36452609 0.13974442]\n",
      "wrapper([ 8.194e-03  7.403e-05 ...  9.240e-01  9.177e-01]) = -0.026722142746762406\n",
      "assembly_constraint_no_mean([ 8.194e-03  7.403e-05 ...  9.240e-01  9.177e-01]) = [-1.228e-03  2.136e-03 ...  9.767e-04  1.982e-04]\n"
     ]
    },
    {
     "data": {
      "application/vnd.jupyter.widget-view+json": {
       "model_id": "9420d64b4647440b825c4def0d6168bf",
       "version_major": 2,
       "version_minor": 0
      },
      "text/plain": [
       "  0%|          | 0/10000 [00:00<?, ?it/s]"
      ]
     },
     "metadata": {},
     "output_type": "display_data"
    },
    {
     "name": "stdout",
     "output_type": "stream",
     "text": [
      "gld_params: [0.04306899 0.02397417 0.36452282 0.13973404]\n",
      "wrapper([ 8.579e-03  5.809e-21 ...  9.240e-01  9.179e-01]) = -0.026722103708380688\n",
      "assembly_constraint_no_mean([ 8.579e-03  5.809e-21 ...  9.240e-01  9.179e-01]) = [ 1.000e-03  9.993e-04 ...  1.001e-03  1.001e-03]\n"
     ]
    },
    {
     "data": {
      "application/vnd.jupyter.widget-view+json": {
       "model_id": "c2ca39cb67e540da834981e4edb96f85",
       "version_major": 2,
       "version_minor": 0
      },
      "text/plain": [
       "  0%|          | 0/10000 [00:00<?, ?it/s]"
      ]
     },
     "metadata": {},
     "output_type": "display_data"
    },
    {
     "name": "stdout",
     "output_type": "stream",
     "text": [
      "gld_params: [0.04306983 0.02397433 0.36452275 0.13974684]\n",
      "wrapper([ 8.287e-03  0.000e+00 ...  9.240e-01  9.177e-01]) = -0.02671801553399353\n",
      "assembly_constraint_no_mean([ 8.287e-03  0.000e+00 ...  9.240e-01  9.177e-01]) = [ 1.999e-03  9.087e-04 ... -1.042e-03 -8.526e-05]\n"
     ]
    },
    {
     "data": {
      "application/vnd.jupyter.widget-view+json": {
       "model_id": "22a6b32ddaf44155a9600b8cc44ece6e",
       "version_major": 2,
       "version_minor": 0
      },
      "text/plain": [
       "  0%|          | 0/10000 [00:00<?, ?it/s]"
      ]
     },
     "metadata": {},
     "output_type": "display_data"
    },
    {
     "name": "stdout",
     "output_type": "stream",
     "text": [
      "gld_params: [0.04306886 0.02397448 0.36453108 0.1397358 ]\n",
      "wrapper([ 7.933e-03  5.098e-21 ...  9.238e-01  9.181e-01]) = -0.02672210825140194\n",
      "assembly_constraint_no_mean([ 7.933e-03  5.098e-21 ...  9.238e-01  9.181e-01]) = [ 1.001e-03  1.000e-03 ...  1.001e-03  1.001e-03]\n"
     ]
    },
    {
     "data": {
      "application/vnd.jupyter.widget-view+json": {
       "model_id": "73f37310f9424109901b4b2423336951",
       "version_major": 2,
       "version_minor": 0
      },
      "text/plain": [
       "  0%|          | 0/10000 [00:00<?, ?it/s]"
      ]
     },
     "metadata": {},
     "output_type": "display_data"
    },
    {
     "name": "stdout",
     "output_type": "stream",
     "text": [
      "gld_params: [0.04306868 0.02397483 0.36452172 0.13974477]\n",
      "wrapper([ 8.294e-03  0.000e+00 ...  9.238e-01  9.177e-01]) = -0.02672436863608407\n",
      "assembly_constraint_no_mean([ 8.294e-03  0.000e+00 ...  9.238e-01  9.177e-01]) = [ 1.407e-03 -2.517e-04 ...  3.645e-03 -1.321e-03]\n"
     ]
    },
    {
     "data": {
      "application/vnd.jupyter.widget-view+json": {
       "model_id": "5426500db0d741c0a5cb6d38dd41c0b1",
       "version_major": 2,
       "version_minor": 0
      },
      "text/plain": [
       "  0%|          | 0/10000 [00:00<?, ?it/s]"
      ]
     },
     "metadata": {},
     "output_type": "display_data"
    },
    {
     "name": "stdout",
     "output_type": "stream",
     "text": [
      "gld_params: [0.04306915 0.02397408 0.36452053 0.13973172]\n",
      "wrapper([ 8.332e-03  1.928e-21 ...  9.241e-01  9.178e-01]) = -0.02672211319537194\n",
      "assembly_constraint_no_mean([ 8.332e-03  1.928e-21 ...  9.241e-01  9.178e-01]) = [ 1.000e-03  1.000e-03 ...  9.998e-04  1.000e-03]\n"
     ]
    },
    {
     "data": {
      "application/vnd.jupyter.widget-view+json": {
       "model_id": "53a3bc531d554c1b8e53ae89bfcc2fb7",
       "version_major": 2,
       "version_minor": 0
      },
      "text/plain": [
       "  0%|          | 0/10000 [00:00<?, ?it/s]"
      ]
     },
     "metadata": {},
     "output_type": "display_data"
    },
    {
     "name": "stdout",
     "output_type": "stream",
     "text": [
      "gld_params: [0.04307057 0.02397391 0.36453068 0.1397434 ]\n",
      "wrapper([ 8.411e-03  1.918e-05 ...  9.241e-01  9.179e-01]) = -0.026712951677242566\n",
      "assembly_constraint_no_mean([ 8.411e-03  1.918e-05 ...  9.241e-01  9.179e-01]) = [-2.231e-04 -1.079e-03 ...  4.898e-04  1.738e-03]\n"
     ]
    },
    {
     "data": {
      "application/vnd.jupyter.widget-view+json": {
       "model_id": "6d90b8565aa3489c82057eacfd93fe0c",
       "version_major": 2,
       "version_minor": 0
      },
      "text/plain": [
       "  0%|          | 0/10000 [00:00<?, ?it/s]"
      ]
     },
     "metadata": {},
     "output_type": "display_data"
    },
    {
     "name": "stdout",
     "output_type": "stream",
     "text": [
      "gld_params: [0.04306898 0.02397444 0.36452512 0.13973871]\n",
      "wrapper([ 8.087e-03  1.266e-21 ...  9.240e-01  9.179e-01]) = -0.026722136408064937\n",
      "assembly_constraint_no_mean([ 8.087e-03  1.266e-21 ...  9.240e-01  9.179e-01]) = [ 1.002e-03  1.000e-03 ...  9.998e-04  9.998e-04]\n"
     ]
    },
    {
     "data": {
      "application/vnd.jupyter.widget-view+json": {
       "model_id": "7d7417f415e043b194054f0e1f0f9640",
       "version_major": 2,
       "version_minor": 0
      },
      "text/plain": [
       "  0%|          | 0/10000 [00:00<?, ?it/s]"
      ]
     },
     "metadata": {},
     "output_type": "display_data"
    },
    {
     "name": "stdout",
     "output_type": "stream",
     "text": [
      "gld_params: [0.04306848 0.02397468 0.36451758 0.13974164]\n",
      "wrapper([ 8.484e-03  0.000e+00 ...  9.241e-01  9.181e-01]) = -0.02672558107919407\n",
      "assembly_constraint_no_mean([ 8.484e-03  0.000e+00 ...  9.241e-01  9.181e-01]) = [-9.332e-04  1.873e-03 ...  1.788e-03  2.587e-03]\n"
     ]
    },
    {
     "data": {
      "application/vnd.jupyter.widget-view+json": {
       "model_id": "db53fbcd90ef4851b1a321b2c2cc8108",
       "version_major": 2,
       "version_minor": 0
      },
      "text/plain": [
       "  0%|          | 0/10000 [00:00<?, ?it/s]"
      ]
     },
     "metadata": {},
     "output_type": "display_data"
    },
    {
     "name": "stdout",
     "output_type": "stream",
     "text": [
      "gld_params: [0.04306882 0.02397441 0.3645315  0.13973419]\n",
      "wrapper([ 8.050e-03  7.157e-21 ...  9.241e-01  9.178e-01]) = -0.026722112285467357\n",
      "assembly_constraint_no_mean([ 8.050e-03  7.157e-21 ...  9.241e-01  9.178e-01]) = [ 9.999e-04  1.000e-03 ...  9.998e-04  9.996e-04]\n"
     ]
    },
    {
     "data": {
      "application/vnd.jupyter.widget-view+json": {
       "model_id": "c11a945298344f7a8384c3529a43f0ec",
       "version_major": 2,
       "version_minor": 0
      },
      "text/plain": [
       "  0%|          | 0/10000 [00:00<?, ?it/s]"
      ]
     },
     "metadata": {},
     "output_type": "display_data"
    },
    {
     "name": "stdout",
     "output_type": "stream",
     "text": [
      "gld_params: [0.04306888 0.02397454 0.36452885 0.13973893]\n",
      "wrapper([ 7.819e-03  4.195e-20 ...  9.242e-01  9.177e-01]) = -0.026722132148332755\n",
      "assembly_constraint_no_mean([ 7.819e-03  4.195e-20 ...  9.242e-01  9.177e-01]) = [ 1.001e-03  9.995e-04 ...  1.000e-03  1.000e-03]\n"
     ]
    },
    {
     "data": {
      "application/vnd.jupyter.widget-view+json": {
       "model_id": "5b3156a0cd804b15828000a90479dd67",
       "version_major": 2,
       "version_minor": 0
      },
      "text/plain": [
       "  0%|          | 0/10000 [00:00<?, ?it/s]"
      ]
     },
     "metadata": {},
     "output_type": "display_data"
    },
    {
     "name": "stdout",
     "output_type": "stream",
     "text": [
      "gld_params: [0.04306652 0.0239758  0.36453311 0.13974436]\n",
      "wrapper([ 8.156e-03  1.735e-05 ...  9.242e-01  9.180e-01]) = -0.0267331577569931\n",
      "assembly_constraint_no_mean([ 8.156e-03  1.735e-05 ...  9.242e-01  9.180e-01]) = [ 2.757e-03  3.372e-03 ...  1.609e-03  2.898e-03]\n"
     ]
    },
    {
     "data": {
      "application/vnd.jupyter.widget-view+json": {
       "model_id": "06f7a4060ed34f4f9ce2428ada580a18",
       "version_major": 2,
       "version_minor": 0
      },
      "text/plain": [
       "  0%|          | 0/10000 [00:00<?, ?it/s]"
      ]
     },
     "metadata": {},
     "output_type": "display_data"
    },
    {
     "name": "stdout",
     "output_type": "stream",
     "text": [
      "gld_params: [0.04306884 0.02397444 0.36453238 0.13973365]\n",
      "wrapper([ 7.741e-03  8.447e-21 ...  9.241e-01  9.178e-01]) = -0.026722110513688432\n",
      "assembly_constraint_no_mean([ 7.741e-03  8.447e-21 ...  9.241e-01  9.178e-01]) = [ 1.001e-03  1.000e-03 ...  1.001e-03  9.998e-04]\n"
     ]
    },
    {
     "data": {
      "application/vnd.jupyter.widget-view+json": {
       "model_id": "0f0ddfb006b84d21ab09a4095af378bb",
       "version_major": 2,
       "version_minor": 0
      },
      "text/plain": [
       "  0%|          | 0/10000 [00:00<?, ?it/s]"
      ]
     },
     "metadata": {},
     "output_type": "display_data"
    },
    {
     "name": "stdout",
     "output_type": "stream",
     "text": [
      "gld_params: [0.04306992 0.02397408 0.3645289  0.13973931]\n",
      "wrapper([ 7.898e-03  2.927e-05 ...  9.241e-01  9.179e-01]) = -0.02671682582251314\n",
      "assembly_constraint_no_mean([ 7.898e-03  2.927e-05 ...  9.241e-01  9.179e-01]) = [-6.048e-04  2.586e-04 ...  1.993e-03  1.506e-03]\n"
     ]
    },
    {
     "data": {
      "application/vnd.jupyter.widget-view+json": {
       "model_id": "f2d86bca91f84c3b998044edf6ce2882",
       "version_major": 2,
       "version_minor": 0
      },
      "text/plain": [
       "  0%|          | 0/10000 [00:00<?, ?it/s]"
      ]
     },
     "metadata": {},
     "output_type": "display_data"
    },
    {
     "name": "stdout",
     "output_type": "stream",
     "text": [
      "gld_params: [0.04306878 0.02397463 0.36453569 0.13973613]\n",
      "wrapper([ 8.183e-03  5.224e-21 ...  9.240e-01  9.179e-01]) = -0.026722128590239185\n",
      "assembly_constraint_no_mean([ 8.183e-03  5.224e-21 ...  9.240e-01  9.179e-01]) = [ 1.001e-03  1.001e-03 ...  1.000e-03  1.000e-03]\n"
     ]
    },
    {
     "data": {
      "application/vnd.jupyter.widget-view+json": {
       "model_id": "f833fdec9a6b461590c8416c3eec1fd3",
       "version_major": 2,
       "version_minor": 0
      },
      "text/plain": [
       "  0%|          | 0/10000 [00:00<?, ?it/s]"
      ]
     },
     "metadata": {},
     "output_type": "display_data"
    },
    {
     "name": "stdout",
     "output_type": "stream",
     "text": [
      "gld_params: [0.0430664  0.02397508 0.36453403 0.13972853]\n",
      "wrapper([ 8.092e-03  0.000e+00 ...  9.243e-01  9.180e-01]) = -0.026732885282704434\n",
      "assembly_constraint_no_mean([ 8.092e-03  0.000e+00 ...  9.243e-01  9.180e-01]) = [ 8.382e-05  1.286e-03 ... -2.141e-04  2.928e-03]\n"
     ]
    },
    {
     "data": {
      "application/vnd.jupyter.widget-view+json": {
       "model_id": "78abfba075484ae4a8dfa54adaa78566",
       "version_major": 2,
       "version_minor": 0
      },
      "text/plain": [
       "  0%|          | 0/10000 [00:00<?, ?it/s]"
      ]
     },
     "metadata": {},
     "output_type": "display_data"
    },
    {
     "name": "stdout",
     "output_type": "stream",
     "text": [
      "gld_params: [0.04306889 0.02397457 0.36452689 0.13974162]\n",
      "wrapper([ 8.101e-03  9.973e-21 ...  9.240e-01  9.179e-01]) = -0.026722116940545933\n",
      "assembly_constraint_no_mean([ 8.101e-03  9.973e-21 ...  9.240e-01  9.179e-01]) = [ 1.001e-03  1.000e-03 ...  1.002e-03  1.000e-03]\n"
     ]
    },
    {
     "data": {
      "application/vnd.jupyter.widget-view+json": {
       "model_id": "cae8e32ebd4d4b81a1dfcd3144efeece",
       "version_major": 2,
       "version_minor": 0
      },
      "text/plain": [
       "  0%|          | 0/10000 [00:00<?, ?it/s]"
      ]
     },
     "metadata": {},
     "output_type": "display_data"
    },
    {
     "name": "stdout",
     "output_type": "stream",
     "text": [
      "gld_params: [0.04306886 0.02397456 0.36453754 0.13973714]\n",
      "wrapper([ 8.010e-03  0.000e+00 ...  9.240e-01  9.179e-01]) = -0.02672094816505713\n",
      "assembly_constraint_no_mean([ 8.010e-03  0.000e+00 ...  9.240e-01  9.179e-01]) = [ 2.683e-04  8.044e-04 ... -5.798e-05  1.119e-03]\n"
     ]
    },
    {
     "data": {
      "application/vnd.jupyter.widget-view+json": {
       "model_id": "0311f8e86a99484cbaf852a788e9ed55",
       "version_major": 2,
       "version_minor": 0
      },
      "text/plain": [
       "  0%|          | 0/10000 [00:00<?, ?it/s]"
      ]
     },
     "metadata": {},
     "output_type": "display_data"
    },
    {
     "name": "stdout",
     "output_type": "stream",
     "text": [
      "gld_params: [0.04306899 0.02397438 0.36452796 0.13973432]\n",
      "wrapper([ 7.893e-03  1.381e-20 ...  9.241e-01  9.178e-01]) = -0.02672212050678395\n",
      "assembly_constraint_no_mean([ 7.893e-03  1.381e-20 ...  9.241e-01  9.178e-01]) = [ 1.000e-03  1.000e-03 ...  1.001e-03  1.000e-03]\n"
     ]
    },
    {
     "data": {
      "application/vnd.jupyter.widget-view+json": {
       "model_id": "dbfa153474fe4770a472719b6c03bab6",
       "version_major": 2,
       "version_minor": 0
      },
      "text/plain": [
       "  0%|          | 0/10000 [00:00<?, ?it/s]"
      ]
     },
     "metadata": {},
     "output_type": "display_data"
    },
    {
     "name": "stdout",
     "output_type": "stream",
     "text": [
      "gld_params: [0.04307047 0.02397366 0.36453535 0.13973453]\n",
      "wrapper([ 8.029e-03  2.558e-05 ...  9.242e-01  9.179e-01]) = -0.02671285802105585\n",
      "assembly_constraint_no_mean([ 8.029e-03  2.558e-05 ...  9.242e-01  9.179e-01]) = [ 1.379e-04  3.625e-04 ... -8.584e-04  2.079e-03]\n"
     ]
    },
    {
     "data": {
      "application/vnd.jupyter.widget-view+json": {
       "model_id": "624202a72c534797a766c467df245006",
       "version_major": 2,
       "version_minor": 0
      },
      "text/plain": [
       "  0%|          | 0/10000 [00:00<?, ?it/s]"
      ]
     },
     "metadata": {},
     "output_type": "display_data"
    },
    {
     "name": "stdout",
     "output_type": "stream",
     "text": [
      "gld_params: [0.04306879 0.0239743  0.36453415 0.13972938]\n",
      "wrapper([ 8.110e-03  8.712e-21 ...  9.240e-01  9.179e-01]) = -0.026722098101515577\n",
      "assembly_constraint_no_mean([ 8.110e-03  8.712e-21 ...  9.240e-01  9.179e-01]) = [ 1.000e-03  1.000e-03 ...  1.000e-03  1.000e-03]\n"
     ]
    },
    {
     "data": {
      "application/vnd.jupyter.widget-view+json": {
       "model_id": "66c501f08f5847b886e781ea148a6302",
       "version_major": 2,
       "version_minor": 0
      },
      "text/plain": [
       "  0%|          | 0/10000 [00:00<?, ?it/s]"
      ]
     },
     "metadata": {},
     "output_type": "display_data"
    },
    {
     "name": "stdout",
     "output_type": "stream",
     "text": [
      "gld_params: [0.0430682  0.02397475 0.36453618 0.13973552]\n",
      "wrapper([ 8.098e-03  1.505e-36 ...  9.242e-01  9.177e-01]) = -0.02672439673499686\n",
      "assembly_constraint_no_mean([ 8.098e-03  1.505e-36 ...  9.242e-01  9.177e-01]) = [ 1.459e-03  1.431e-03 ... -1.986e-05  1.075e-03]\n"
     ]
    },
    {
     "data": {
      "application/vnd.jupyter.widget-view+json": {
       "model_id": "fef308d680da4888bdf440b2315d6b10",
       "version_major": 2,
       "version_minor": 0
      },
      "text/plain": [
       "  0%|          | 0/10000 [00:00<?, ?it/s]"
      ]
     },
     "metadata": {},
     "output_type": "display_data"
    },
    {
     "name": "stdout",
     "output_type": "stream",
     "text": [
      "gld_params: [0.04306882 0.02397451 0.36453254 0.13973566]\n",
      "wrapper([ 8.139e-03  0.000e+00 ...  9.242e-01  9.177e-01]) = -0.026722109389902843\n",
      "assembly_constraint_no_mean([ 8.139e-03  0.000e+00 ...  9.242e-01  9.177e-01]) = [ 9.998e-04  9.999e-04 ...  1.000e-03  1.000e-03]\n"
     ]
    },
    {
     "data": {
      "application/vnd.jupyter.widget-view+json": {
       "model_id": "fc8967e1dbc745f994090985bb72a04b",
       "version_major": 2,
       "version_minor": 0
      },
      "text/plain": [
       "  0%|          | 0/10000 [00:00<?, ?it/s]"
      ]
     },
     "metadata": {},
     "output_type": "display_data"
    },
    {
     "name": "stdout",
     "output_type": "stream",
     "text": [
      "gld_params: [0.04306855 0.02397435 0.36453606 0.1397312 ]\n",
      "wrapper([ 7.859e-03  0.000e+00 ...  9.243e-01  9.177e-01]) = -0.02672226822901623\n",
      "assembly_constraint_no_mean([ 7.859e-03  0.000e+00 ...  9.243e-01  9.177e-01]) = [ 3.721e-04  1.325e-03 ...  1.483e-03  1.575e-03]\n"
     ]
    },
    {
     "data": {
      "application/vnd.jupyter.widget-view+json": {
       "model_id": "3a11d349dbcb41b79b06d84f6ec039b2",
       "version_major": 2,
       "version_minor": 0
      },
      "text/plain": [
       "  0%|          | 0/10000 [00:00<?, ?it/s]"
      ]
     },
     "metadata": {},
     "output_type": "display_data"
    },
    {
     "name": "stdout",
     "output_type": "stream",
     "text": [
      "gld_params: [0.04306875 0.02397432 0.36453136 0.13973302]\n",
      "wrapper([ 8.161e-03  7.352e-21 ...  9.242e-01  9.177e-01]) = -0.02672210002149395\n",
      "assembly_constraint_no_mean([ 8.161e-03  7.352e-21 ...  9.242e-01  9.177e-01]) = [ 1.001e-03  1.000e-03 ...  1.000e-03  1.000e-03]\n"
     ]
    },
    {
     "data": {
      "application/vnd.jupyter.widget-view+json": {
       "model_id": "49b055fa32dc4c638e735a1582b0a7ff",
       "version_major": 2,
       "version_minor": 0
      },
      "text/plain": [
       "  0%|          | 0/10000 [00:00<?, ?it/s]"
      ]
     },
     "metadata": {},
     "output_type": "display_data"
    },
    {
     "name": "stdout",
     "output_type": "stream",
     "text": [
      "gld_params: [0.0430701  0.02397417 0.36452882 0.13974268]\n",
      "wrapper([ 8.165e-03  7.207e-06 ...  9.240e-01  9.178e-01]) = -0.02671613196340699\n",
      "assembly_constraint_no_mean([ 8.165e-03  7.207e-06 ...  9.240e-01  9.178e-01]) = [-5.582e-04  1.940e-04 ...  2.567e-03  8.293e-04]\n"
     ]
    },
    {
     "data": {
      "application/vnd.jupyter.widget-view+json": {
       "model_id": "a62757a93d2a425989ccba10420bf255",
       "version_major": 2,
       "version_minor": 0
      },
      "text/plain": [
       "  0%|          | 0/10000 [00:00<?, ?it/s]"
      ]
     },
     "metadata": {},
     "output_type": "display_data"
    },
    {
     "name": "stdout",
     "output_type": "stream",
     "text": [
      "gld_params: [0.04306875 0.02397433 0.3645348  0.13972991]\n",
      "wrapper([ 7.902e-03  4.061e-21 ...  9.242e-01  9.177e-01]) = -0.026722127689023222\n",
      "assembly_constraint_no_mean([ 7.902e-03  4.061e-21 ...  9.242e-01  9.177e-01]) = [ 1.001e-03  1.000e-03 ...  1.000e-03  1.000e-03]\n"
     ]
    },
    {
     "data": {
      "application/vnd.jupyter.widget-view+json": {
       "model_id": "fb696136780d47ad923ad9e6acfe6bc6",
       "version_major": 2,
       "version_minor": 0
      },
      "text/plain": [
       "  0%|          | 0/10000 [00:00<?, ?it/s]"
      ]
     },
     "metadata": {},
     "output_type": "display_data"
    },
    {
     "name": "stdout",
     "output_type": "stream",
     "text": [
      "gld_params: [0.04306819 0.02397465 0.36453332 0.13973262]\n",
      "wrapper([ 7.968e-03  0.000e+00 ...  9.240e-01  9.176e-01]) = -0.02672502042120717\n",
      "assembly_constraint_no_mean([ 7.968e-03  0.000e+00 ...  9.240e-01  9.176e-01]) = [ 4.121e-03  1.777e-03 ... -3.387e-04 -7.696e-04]\n"
     ]
    },
    {
     "data": {
      "application/vnd.jupyter.widget-view+json": {
       "model_id": "6b5677e1d45c428c8611979f66efa4ad",
       "version_major": 2,
       "version_minor": 0
      },
      "text/plain": [
       "  0%|          | 0/10000 [00:00<?, ?it/s]"
      ]
     },
     "metadata": {},
     "output_type": "display_data"
    },
    {
     "name": "stdout",
     "output_type": "stream",
     "text": [
      "gld_params: [0.04306876 0.02397463 0.36453327 0.13973881]\n",
      "wrapper([ 8.019e-03  0.000e+00 ...  9.240e-01  9.179e-01]) = -0.026722107818865925\n",
      "assembly_constraint_no_mean([ 8.019e-03  0.000e+00 ...  9.240e-01  9.179e-01]) = [ 9.996e-04  1.001e-03 ...  1.000e-03  9.999e-04]\n"
     ]
    },
    {
     "data": {
      "application/vnd.jupyter.widget-view+json": {
       "model_id": "425011a51d0d45298afc3f70853e339c",
       "version_major": 2,
       "version_minor": 0
      },
      "text/plain": [
       "  0%|          | 0/10000 [00:00<?, ?it/s]"
      ]
     },
     "metadata": {},
     "output_type": "display_data"
    },
    {
     "name": "stdout",
     "output_type": "stream",
     "text": [
      "gld_params: [0.0430692  0.02397445 0.36453562 0.13973879]\n",
      "wrapper([ 7.849e-03  8.116e-05 ...  9.242e-01  9.179e-01]) = -0.026719496593905864\n",
      "assembly_constraint_no_mean([ 7.849e-03  8.116e-05 ...  9.242e-01  9.179e-01]) = [ 2.133e-03  1.342e-03 ...  4.387e-04  2.216e-03]\n"
     ]
    },
    {
     "data": {
      "application/vnd.jupyter.widget-view+json": {
       "model_id": "e1cc01abecda406fa3f5793e7a30ab20",
       "version_major": 2,
       "version_minor": 0
      },
      "text/plain": [
       "  0%|          | 0/10000 [00:00<?, ?it/s]"
      ]
     },
     "metadata": {},
     "output_type": "display_data"
    },
    {
     "name": "stdout",
     "output_type": "stream",
     "text": [
      "gld_params: [0.04306873 0.0239744  0.36453601 0.13973086]\n",
      "wrapper([ 8.228e-03  2.165e-20 ...  9.242e-01  9.177e-01]) = -0.026722108091778322\n",
      "assembly_constraint_no_mean([ 8.228e-03  2.165e-20 ...  9.242e-01  9.177e-01]) = [ 1.000e-03  1.001e-03 ...  1.000e-03  1.000e-03]\n"
     ]
    },
    {
     "data": {
      "application/vnd.jupyter.widget-view+json": {
       "model_id": "d3ba9c686f534250b28889284843bca1",
       "version_major": 2,
       "version_minor": 0
      },
      "text/plain": [
       "  0%|          | 0/10000 [00:00<?, ?it/s]"
      ]
     },
     "metadata": {},
     "output_type": "display_data"
    },
    {
     "name": "stdout",
     "output_type": "stream",
     "text": [
      "gld_params: [0.0430694  0.02397422 0.36453308 0.13973794]\n",
      "wrapper([ 8.112e-03  0.000e+00 ...  9.241e-01  9.179e-01]) = -0.026718431518409975\n",
      "assembly_constraint_no_mean([ 8.112e-03  0.000e+00 ...  9.241e-01  9.179e-01]) = [-8.637e-04 -9.945e-04 ...  6.715e-04  1.475e-03]\n"
     ]
    },
    {
     "data": {
      "application/vnd.jupyter.widget-view+json": {
       "model_id": "6c7417dc3f7149dcae75adb3699926a4",
       "version_major": 2,
       "version_minor": 0
      },
      "text/plain": [
       "  0%|          | 0/10000 [00:00<?, ?it/s]"
      ]
     },
     "metadata": {},
     "output_type": "display_data"
    },
    {
     "name": "stdout",
     "output_type": "stream",
     "text": [
      "gld_params: [0.04306904 0.02397443 0.36452474 0.13973796]\n",
      "wrapper([ 8.107e-03  6.134e-21 ...  9.242e-01  9.177e-01]) = -0.026722113680896616\n",
      "assembly_constraint_no_mean([ 8.107e-03  6.134e-21 ...  9.242e-01  9.177e-01]) = [ 1.000e-03  1.001e-03 ...  1.000e-03  1.001e-03]\n"
     ]
    },
    {
     "data": {
      "application/vnd.jupyter.widget-view+json": {
       "model_id": "4065cdaeb0704f4ab48e4948b0993dcd",
       "version_major": 2,
       "version_minor": 0
      },
      "text/plain": [
       "  0%|          | 0/10000 [00:00<?, ?it/s]"
      ]
     },
     "metadata": {},
     "output_type": "display_data"
    },
    {
     "name": "stdout",
     "output_type": "stream",
     "text": [
      "gld_params: [0.04306772 0.02397517 0.36453894 0.13974106]\n",
      "wrapper([ 7.931e-03  3.524e-04 ...  9.243e-01  9.179e-01]) = -0.0267261775422436\n",
      "assembly_constraint_no_mean([ 7.931e-03  3.524e-04 ...  9.243e-01  9.179e-01]) = [ 9.521e-04  6.526e-04 ...  1.293e-03  2.648e-03]\n"
     ]
    },
    {
     "data": {
      "application/vnd.jupyter.widget-view+json": {
       "model_id": "1348504833d3423bb2935529c3168ec0",
       "version_major": 2,
       "version_minor": 0
      },
      "text/plain": [
       "  0%|          | 0/10000 [00:00<?, ?it/s]"
      ]
     },
     "metadata": {},
     "output_type": "display_data"
    },
    {
     "name": "stdout",
     "output_type": "stream",
     "text": [
      "gld_params: [0.04306877 0.02397457 0.36453256 0.13973779]\n",
      "wrapper([ 8.001e-03  1.038e-20 ...  9.238e-01  9.181e-01]) = -0.026722123782205755\n",
      "assembly_constraint_no_mean([ 8.001e-03  1.038e-20 ...  9.238e-01  9.181e-01]) = [ 1.000e-03  1.000e-03 ...  1.000e-03  1.001e-03]\n"
     ]
    },
    {
     "data": {
      "application/vnd.jupyter.widget-view+json": {
       "model_id": "8751ef44cd6a43f2a1d01518e808f2b2",
       "version_major": 2,
       "version_minor": 0
      },
      "text/plain": [
       "  0%|          | 0/10000 [00:00<?, ?it/s]"
      ]
     },
     "metadata": {},
     "output_type": "display_data"
    },
    {
     "name": "stdout",
     "output_type": "stream",
     "text": [
      "gld_params: [0.04306794 0.02397455 0.36453823 0.13973114]\n",
      "wrapper([ 7.975e-03  1.019e-04 ...  9.242e-01  9.179e-01]) = -0.02672459064251633\n",
      "assembly_constraint_no_mean([ 7.975e-03  1.019e-04 ...  9.242e-01  9.179e-01]) = [ 6.332e-04  1.485e-03 ...  2.182e-04  1.759e-03]\n"
     ]
    },
    {
     "data": {
      "application/vnd.jupyter.widget-view+json": {
       "model_id": "9d0b10991c7a4f50bb5cb62cd4ed63ee",
       "version_major": 2,
       "version_minor": 0
      },
      "text/plain": [
       "  0%|          | 0/10000 [00:00<?, ?it/s]"
      ]
     },
     "metadata": {},
     "output_type": "display_data"
    },
    {
     "name": "stdout",
     "output_type": "stream",
     "text": [
      "gld_params: [0.0430689  0.02397443 0.36452867 0.13973597]\n",
      "wrapper([ 8.251e-03  5.397e-20 ...  9.240e-01  9.179e-01]) = -0.026722139888937402\n",
      "assembly_constraint_no_mean([ 8.251e-03  5.397e-20 ...  9.240e-01  9.179e-01]) = [ 1.000e-03  1.000e-03 ...  1.001e-03  1.000e-03]\n"
     ]
    },
    {
     "data": {
      "application/vnd.jupyter.widget-view+json": {
       "model_id": "3861778123844fefbd4d7096a128d587",
       "version_major": 2,
       "version_minor": 0
      },
      "text/plain": [
       "  0%|          | 0/10000 [00:00<?, ?it/s]"
      ]
     },
     "metadata": {},
     "output_type": "display_data"
    },
    {
     "name": "stdout",
     "output_type": "stream",
     "text": [
      "gld_params: [0.04306696 0.02397538 0.36452887 0.13973945]\n",
      "wrapper([ 8.033e-03  9.664e-05 ...  9.240e-01  9.178e-01]) = -0.02673161245949534\n",
      "assembly_constraint_no_mean([ 8.033e-03  9.664e-05 ...  9.240e-01  9.178e-01]) = [ 4.143e-04  2.428e-03 ...  1.910e-03  6.633e-04]\n"
     ]
    },
    {
     "data": {
      "application/vnd.jupyter.widget-view+json": {
       "model_id": "5d8456efb9b346deab44f689741f2506",
       "version_major": 2,
       "version_minor": 0
      },
      "text/plain": [
       "  0%|          | 0/10000 [00:00<?, ?it/s]"
      ]
     },
     "metadata": {},
     "output_type": "display_data"
    },
    {
     "name": "stdout",
     "output_type": "stream",
     "text": [
      "gld_params: [0.04306889 0.02397448 0.3645298  0.13973635]\n",
      "wrapper([ 8.153e-03  0.000e+00 ...  9.241e-01  9.178e-01]) = -0.026722146949900216\n",
      "assembly_constraint_no_mean([ 8.153e-03  0.000e+00 ...  9.241e-01  9.178e-01]) = [ 1.000e-03  1.000e-03 ...  1.001e-03  1.000e-03]\n"
     ]
    },
    {
     "data": {
      "application/vnd.jupyter.widget-view+json": {
       "model_id": "c6e14e3885174119822f28568beb236a",
       "version_major": 2,
       "version_minor": 0
      },
      "text/plain": [
       "  0%|          | 0/10000 [00:00<?, ?it/s]"
      ]
     },
     "metadata": {},
     "output_type": "display_data"
    },
    {
     "name": "stdout",
     "output_type": "stream",
     "text": [
      "gld_params: [0.04306805 0.02397507 0.36453632 0.13973958]\n",
      "wrapper([ 8.014e-03  1.505e-36 ...  9.240e-01  9.177e-01]) = -0.026725567703817118\n",
      "assembly_constraint_no_mean([ 8.014e-03  1.505e-36 ...  9.240e-01  9.177e-01]) = [ 6.848e-04  3.632e-03 ...  1.110e-03 -5.213e-05]\n"
     ]
    },
    {
     "data": {
      "application/vnd.jupyter.widget-view+json": {
       "model_id": "838915421db24f90a51b3e0bd0562319",
       "version_major": 2,
       "version_minor": 0
      },
      "text/plain": [
       "  0%|          | 0/10000 [00:00<?, ?it/s]"
      ]
     },
     "metadata": {},
     "output_type": "display_data"
    },
    {
     "name": "stdout",
     "output_type": "stream",
     "text": [
      "gld_params: [0.04306898 0.02397447 0.36452636 0.13973833]\n",
      "wrapper([ 8.123e-03  1.036e-19 ...  9.241e-01  9.178e-01]) = -0.026722120025951097\n",
      "assembly_constraint_no_mean([ 8.123e-03  1.036e-19 ...  9.241e-01  9.178e-01]) = [ 1.000e-03  1.001e-03 ...  1.000e-03  1.000e-03]\n"
     ]
    },
    {
     "data": {
      "application/vnd.jupyter.widget-view+json": {
       "model_id": "b553d31f98a74041817d34ab69f2d7ff",
       "version_major": 2,
       "version_minor": 0
      },
      "text/plain": [
       "  0%|          | 0/10000 [00:00<?, ?it/s]"
      ]
     },
     "metadata": {},
     "output_type": "display_data"
    },
    {
     "name": "stdout",
     "output_type": "stream",
     "text": [
      "gld_params: [0.04307068 0.02397383 0.36453327 0.13973857]\n",
      "wrapper([ 8.140e-03  1.143e-04 ...  9.239e-01  9.178e-01]) = -0.026712716994634043\n",
      "assembly_constraint_no_mean([ 8.140e-03  1.143e-04 ...  9.239e-01  9.178e-01]) = [ 6.114e-04 -5.234e-04 ... -2.372e-04 -4.124e-04]\n"
     ]
    },
    {
     "data": {
      "application/vnd.jupyter.widget-view+json": {
       "model_id": "b706d8ceb21642a497e17ffce3229f45",
       "version_major": 2,
       "version_minor": 0
      },
      "text/plain": [
       "  0%|          | 0/10000 [00:00<?, ?it/s]"
      ]
     },
     "metadata": {},
     "output_type": "display_data"
    },
    {
     "name": "stdout",
     "output_type": "stream",
     "text": [
      "gld_params: [0.0430689  0.0239744  0.3645299  0.13973434]\n",
      "wrapper([ 7.947e-03  4.098e-20 ...  9.240e-01  9.179e-01]) = -0.02672211460914418\n",
      "assembly_constraint_no_mean([ 7.947e-03  4.098e-20 ...  9.240e-01  9.179e-01]) = [ 1.000e-03  1.001e-03 ...  1.001e-03  1.000e-03]\n"
     ]
    },
    {
     "data": {
      "application/vnd.jupyter.widget-view+json": {
       "model_id": "1698a37916ea4e23877b69cf4b800816",
       "version_major": 2,
       "version_minor": 0
      },
      "text/plain": [
       "  0%|          | 0/10000 [00:00<?, ?it/s]"
      ]
     },
     "metadata": {},
     "output_type": "display_data"
    },
    {
     "name": "stdout",
     "output_type": "stream",
     "text": [
      "gld_params: [0.04306924 0.02397467 0.36452924 0.13974372]\n",
      "wrapper([ 7.993e-03  1.505e-36 ...  9.239e-01  9.179e-01]) = -0.026720742472829812\n",
      "assembly_constraint_no_mean([ 7.993e-03  1.505e-36 ...  9.239e-01  9.179e-01]) = [ 1.090e-03  9.177e-04 ...  2.700e-03  2.358e-04]\n"
     ]
    },
    {
     "data": {
      "application/vnd.jupyter.widget-view+json": {
       "model_id": "1bb77299af454740bec38101bf2adaab",
       "version_major": 2,
       "version_minor": 0
      },
      "text/plain": [
       "  0%|          | 0/10000 [00:00<?, ?it/s]"
      ]
     },
     "metadata": {},
     "output_type": "display_data"
    },
    {
     "name": "stdout",
     "output_type": "stream",
     "text": [
      "gld_params: [0.04306879 0.02397456 0.36453348 0.13973643]\n",
      "wrapper([ 8.028e-03  0.000e+00 ...  9.242e-01  9.177e-01]) = -0.026722131300495517\n",
      "assembly_constraint_no_mean([ 8.028e-03  0.000e+00 ...  9.242e-01  9.177e-01]) = [ 1.000e-03  1.000e-03 ...  1.000e-03  1.000e-03]\n"
     ]
    },
    {
     "data": {
      "application/vnd.jupyter.widget-view+json": {
       "model_id": "ceea21b4ac434179b452fbc4b1728af1",
       "version_major": 2,
       "version_minor": 0
      },
      "text/plain": [
       "  0%|          | 0/10000 [00:00<?, ?it/s]"
      ]
     },
     "metadata": {},
     "output_type": "display_data"
    },
    {
     "name": "stdout",
     "output_type": "stream",
     "text": [
      "gld_params: [0.04306833 0.02397452 0.36453773 0.1397317 ]\n",
      "wrapper([ 8.192e-03  6.599e-05 ...  9.241e-01  9.179e-01]) = -0.026723317734984705\n",
      "assembly_constraint_no_mean([ 8.192e-03  6.599e-05 ...  9.241e-01  9.179e-01]) = [ 1.091e-03  1.009e-04 ...  1.447e-03  1.465e-03]\n"
     ]
    },
    {
     "data": {
      "application/vnd.jupyter.widget-view+json": {
       "model_id": "8fd2139237ce437d93f27a3d09f4b1c3",
       "version_major": 2,
       "version_minor": 0
      },
      "text/plain": [
       "  0%|          | 0/10000 [00:00<?, ?it/s]"
      ]
     },
     "metadata": {},
     "output_type": "display_data"
    },
    {
     "name": "stdout",
     "output_type": "stream",
     "text": [
      "gld_params: [0.0430689  0.02397425 0.36452765 0.13973269]\n",
      "wrapper([ 8.271e-03  0.000e+00 ...  9.242e-01  9.177e-01]) = -0.026722117434832278\n",
      "assembly_constraint_no_mean([ 8.271e-03  0.000e+00 ...  9.242e-01  9.177e-01]) = [ 1.001e-03  1.000e-03 ...  1.000e-03  1.001e-03]\n"
     ]
    },
    {
     "data": {
      "application/vnd.jupyter.widget-view+json": {
       "model_id": "8c2841c652af4255b98fb2fc2cde2988",
       "version_major": 2,
       "version_minor": 0
      },
      "text/plain": [
       "  0%|          | 0/10000 [00:00<?, ?it/s]"
      ]
     },
     "metadata": {},
     "output_type": "display_data"
    },
    {
     "name": "stdout",
     "output_type": "stream",
     "text": [
      "gld_params: [0.04306947 0.02397486 0.3645385  0.13975187]\n",
      "wrapper([ 8.113e-03  8.254e-05 ...  9.239e-01  9.177e-01]) = -0.026717642729277312\n",
      "assembly_constraint_no_mean([ 8.113e-03  8.254e-05 ...  9.239e-01  9.177e-01]) = [ 1.634e-03 -2.206e-04 ...  4.863e-04 -5.415e-04]\n"
     ]
    },
    {
     "data": {
      "application/vnd.jupyter.widget-view+json": {
       "model_id": "4e933cef9f8e4e3397aa88f02a34f05a",
       "version_major": 2,
       "version_minor": 0
      },
      "text/plain": [
       "  0%|          | 0/10000 [00:00<?, ?it/s]"
      ]
     },
     "metadata": {},
     "output_type": "display_data"
    },
    {
     "name": "stdout",
     "output_type": "stream",
     "text": [
      "gld_params: [0.04306891 0.02397468 0.36453029 0.13974055]\n",
      "wrapper([ 7.859e-03  7.301e-20 ...  9.239e-01  9.180e-01]) = -0.02672214033097478\n",
      "assembly_constraint_no_mean([ 7.859e-03  7.301e-20 ...  9.239e-01  9.180e-01]) = [ 1.000e-03  1.000e-03 ...  1.001e-03  1.000e-03]\n"
     ]
    },
    {
     "data": {
      "application/vnd.jupyter.widget-view+json": {
       "model_id": "4d9a80da8d4b4869a850f1275a2d684f",
       "version_major": 2,
       "version_minor": 0
      },
      "text/plain": [
       "  0%|          | 0/10000 [00:00<?, ?it/s]"
      ]
     },
     "metadata": {},
     "output_type": "display_data"
    },
    {
     "name": "stdout",
     "output_type": "stream",
     "text": [
      "gld_params: [0.04307026 0.02397388 0.36452646 0.13974022]\n",
      "wrapper([ 8.101e-03  0.000e+00 ...  9.241e-01  9.177e-01]) = -0.026715151922925773\n",
      "assembly_constraint_no_mean([ 8.101e-03  0.000e+00 ...  9.241e-01  9.177e-01]) = [-3.318e-04  3.761e-04 ... -4.079e-05  5.060e-04]\n"
     ]
    },
    {
     "data": {
      "application/vnd.jupyter.widget-view+json": {
       "model_id": "04ed6fba5f8e4c539d97db78e05d9433",
       "version_major": 2,
       "version_minor": 0
      },
      "text/plain": [
       "  0%|          | 0/10000 [00:00<?, ?it/s]"
      ]
     },
     "metadata": {},
     "output_type": "display_data"
    },
    {
     "name": "stdout",
     "output_type": "stream",
     "text": [
      "gld_params: [0.04306899 0.0239746  0.36452908 0.13973875]\n",
      "wrapper([ 7.947e-03  2.312e-20 ...  9.239e-01  9.180e-01]) = -0.026722133986914164\n",
      "assembly_constraint_no_mean([ 7.947e-03  2.312e-20 ...  9.239e-01  9.180e-01]) = [ 1.000e-03  1.000e-03 ...  1.000e-03  1.001e-03]\n"
     ]
    },
    {
     "data": {
      "application/vnd.jupyter.widget-view+json": {
       "model_id": "6134640ca020412bb0356f538f4b8699",
       "version_major": 2,
       "version_minor": 0
      },
      "text/plain": [
       "  0%|          | 0/10000 [00:00<?, ?it/s]"
      ]
     },
     "metadata": {},
     "output_type": "display_data"
    },
    {
     "name": "stdout",
     "output_type": "stream",
     "text": [
      "gld_params: [0.04306797 0.02397484 0.36452779 0.13973698]\n",
      "wrapper([ 8.026e-03  0.000e+00 ...  9.240e-01  9.178e-01]) = -0.026726804433067578\n",
      "assembly_constraint_no_mean([ 8.026e-03  0.000e+00 ...  9.240e-01  9.178e-01]) = [ 1.417e-03  8.434e-04 ...  3.509e-03  7.689e-04]\n"
     ]
    },
    {
     "data": {
      "application/vnd.jupyter.widget-view+json": {
       "model_id": "2240e5b2e7ac41548d3ef10756ed9787",
       "version_major": 2,
       "version_minor": 0
      },
      "text/plain": [
       "  0%|          | 0/10000 [00:00<?, ?it/s]"
      ]
     },
     "metadata": {},
     "output_type": "display_data"
    },
    {
     "name": "stdout",
     "output_type": "stream",
     "text": [
      "gld_params: [0.04306879 0.02397467 0.36453271 0.13973988]\n",
      "wrapper([ 7.873e-03  3.763e-21 ...  9.241e-01  9.178e-01]) = -0.02672212540395031\n",
      "assembly_constraint_no_mean([ 7.873e-03  3.763e-21 ...  9.241e-01  9.178e-01]) = [ 1.000e-03  1.000e-03 ...  1.000e-03  9.999e-04]\n"
     ]
    },
    {
     "data": {
      "application/vnd.jupyter.widget-view+json": {
       "model_id": "01648f154b7b492db5ca2a84468d45aa",
       "version_major": 2,
       "version_minor": 0
      },
      "text/plain": [
       "  0%|          | 0/10000 [00:00<?, ?it/s]"
      ]
     },
     "metadata": {},
     "output_type": "display_data"
    },
    {
     "name": "stdout",
     "output_type": "stream",
     "text": [
      "gld_params: [0.04306812 0.02397473 0.36452489 0.13973818]\n",
      "wrapper([ 7.982e-03  0.000e+00 ...  9.240e-01  9.178e-01]) = -0.026726146485755636\n",
      "assembly_constraint_no_mean([ 7.982e-03  0.000e+00 ...  9.240e-01  9.178e-01]) = [ 1.951e-03 -1.553e-04 ...  1.719e-03  3.413e-04]\n"
     ]
    },
    {
     "data": {
      "application/vnd.jupyter.widget-view+json": {
       "model_id": "adbb00373147443ab9d3a7a69892c8e1",
       "version_major": 2,
       "version_minor": 0
      },
      "text/plain": [
       "  0%|          | 0/10000 [00:00<?, ?it/s]"
      ]
     },
     "metadata": {},
     "output_type": "display_data"
    },
    {
     "name": "stdout",
     "output_type": "stream",
     "text": [
      "gld_params: [0.04306868 0.02397461 0.36453655 0.13973618]\n",
      "wrapper([ 7.916e-03  1.617e-20 ...  9.240e-01  9.179e-01]) = -0.026722130161970694\n",
      "assembly_constraint_no_mean([ 7.916e-03  1.617e-20 ...  9.240e-01  9.179e-01]) = [ 1.000e-03  1.001e-03 ...  1.001e-03  1.000e-03]\n"
     ]
    },
    {
     "data": {
      "application/vnd.jupyter.widget-view+json": {
       "model_id": "4c77242502694ce0a234cee5be51c73b",
       "version_major": 2,
       "version_minor": 0
      },
      "text/plain": [
       "  0%|          | 0/10000 [00:00<?, ?it/s]"
      ]
     },
     "metadata": {},
     "output_type": "display_data"
    },
    {
     "name": "stdout",
     "output_type": "stream",
     "text": [
      "gld_params: [0.04306884 0.02397419 0.36452644 0.13973477]\n",
      "wrapper([ 8.068e-03  0.000e+00 ...  9.241e-01  9.179e-01]) = -0.026721789348691204\n",
      "assembly_constraint_no_mean([ 8.068e-03  0.000e+00 ...  9.241e-01  9.179e-01]) = [ 1.927e-03  1.231e-03 ...  1.116e-03  1.506e-03]\n"
     ]
    },
    {
     "data": {
      "application/vnd.jupyter.widget-view+json": {
       "model_id": "6dbcaff1db984e80a4f31f8af2b8e440",
       "version_major": 2,
       "version_minor": 0
      },
      "text/plain": [
       "  0%|          | 0/10000 [00:00<?, ?it/s]"
      ]
     },
     "metadata": {},
     "output_type": "display_data"
    },
    {
     "name": "stdout",
     "output_type": "stream",
     "text": [
      "gld_params: [0.04306887 0.0239746  0.364531   0.13973845]\n",
      "wrapper([ 8.020e-03  0.000e+00 ...  9.241e-01  9.178e-01]) = -0.026722147447684245\n",
      "assembly_constraint_no_mean([ 8.020e-03  0.000e+00 ...  9.241e-01  9.178e-01]) = [ 1.000e-03  1.000e-03 ...  1.001e-03  1.000e-03]\n",
      "\n",
      "New trust-region radius: 0.0001.\n",
      "Number of function evaluations: 475.\n",
      "Number of iterations: 229.\n",
      "Least value of wrapper: -0.026722147447684245.\n",
      "Maximum constraint violation: 1.1190519097431604e-06.\n",
      "Corresponding point: [ 8.020e-03  0.000e+00 ...  9.241e-01  9.178e-01].\n",
      "\n"
     ]
    },
    {
     "data": {
      "application/vnd.jupyter.widget-view+json": {
       "model_id": "76347c125d2e43d28e585027f343420b",
       "version_major": 2,
       "version_minor": 0
      },
      "text/plain": [
       "  0%|          | 0/10000 [00:00<?, ?it/s]"
      ]
     },
     "metadata": {},
     "output_type": "display_data"
    },
    {
     "name": "stdout",
     "output_type": "stream",
     "text": [
      "gld_params: [0.04306882 0.02397449 0.36453183 0.13973576]\n",
      "wrapper([ 8.104e-03  0.000e+00 ...  9.241e-01  9.179e-01]) = -0.026722125600126614\n",
      "assembly_constraint_no_mean([ 8.104e-03  0.000e+00 ...  9.241e-01  9.179e-01]) = [ 1.000e-03  1.000e-03 ...  1.000e-03  1.000e-03]\n"
     ]
    },
    {
     "data": {
      "application/vnd.jupyter.widget-view+json": {
       "model_id": "2e216e6eae634f0fb56b4d4a9d184bbe",
       "version_major": 2,
       "version_minor": 0
      },
      "text/plain": [
       "  0%|          | 0/10000 [00:00<?, ?it/s]"
      ]
     },
     "metadata": {},
     "output_type": "display_data"
    },
    {
     "name": "stdout",
     "output_type": "stream",
     "text": [
      "gld_params: [0.04306885 0.02397459 0.36453172 0.1397378 ]\n",
      "wrapper([ 7.945e-03  1.679e-21 ...  9.241e-01  9.178e-01]) = -0.026722134537930514\n",
      "assembly_constraint_no_mean([ 7.945e-03  1.679e-21 ...  9.241e-01  9.178e-01]) = [ 1.000e-03  1.000e-03 ...  1.000e-03  1.000e-03]\n"
     ]
    },
    {
     "data": {
      "application/vnd.jupyter.widget-view+json": {
       "model_id": "3826e017f0494a3aaf590e8308616bc4",
       "version_major": 2,
       "version_minor": 0
      },
      "text/plain": [
       "  0%|          | 0/10000 [00:00<?, ?it/s]"
      ]
     },
     "metadata": {},
     "output_type": "display_data"
    },
    {
     "name": "stdout",
     "output_type": "stream",
     "text": [
      "gld_params: [0.04306892 0.02397456 0.36452842 0.13973874]\n",
      "wrapper([ 8.101e-03  0.000e+00 ...  9.240e-01  9.179e-01]) = -0.02672222883479145\n",
      "assembly_constraint_no_mean([ 8.101e-03  0.000e+00 ...  9.240e-01  9.179e-01]) = [ 8.498e-04  1.109e-03 ...  1.005e-03  1.095e-03]\n"
     ]
    },
    {
     "data": {
      "application/vnd.jupyter.widget-view+json": {
       "model_id": "ce443ab314c6469ba072c2cd6ee18823",
       "version_major": 2,
       "version_minor": 0
      },
      "text/plain": [
       "  0%|          | 0/10000 [00:00<?, ?it/s]"
      ]
     },
     "metadata": {},
     "output_type": "display_data"
    },
    {
     "name": "stdout",
     "output_type": "stream",
     "text": [
      "gld_params: [0.04306886 0.02397454 0.36453091 0.13973723]\n",
      "wrapper([ 8.166e-03  1.395e-21 ...  9.241e-01  9.178e-01]) = -0.026722135096429445\n",
      "assembly_constraint_no_mean([ 8.166e-03  1.395e-21 ...  9.241e-01  9.178e-01]) = [ 1.000e-03  1.000e-03 ...  1.000e-03  1.000e-03]\n"
     ]
    },
    {
     "data": {
      "application/vnd.jupyter.widget-view+json": {
       "model_id": "6b229be3c7894b4bb004a15a5a0f2cf4",
       "version_major": 2,
       "version_minor": 0
      },
      "text/plain": [
       "  0%|          | 0/10000 [00:00<?, ?it/s]"
      ]
     },
     "metadata": {},
     "output_type": "display_data"
    },
    {
     "name": "stdout",
     "output_type": "stream",
     "text": [
      "gld_params: [0.04306891 0.02397462 0.36452994 0.13973959]\n",
      "wrapper([ 8.199e-03  4.856e-21 ...  9.241e-01  9.178e-01]) = -0.026722124885912982\n",
      "assembly_constraint_no_mean([ 8.199e-03  4.856e-21 ...  9.241e-01  9.178e-01]) = [ 1.000e-03  1.000e-03 ...  1.001e-03  1.000e-03]\n"
     ]
    },
    {
     "data": {
      "application/vnd.jupyter.widget-view+json": {
       "model_id": "cda1a2b7f16a42c1b50658513d4446b8",
       "version_major": 2,
       "version_minor": 0
      },
      "text/plain": [
       "  0%|          | 0/10000 [00:00<?, ?it/s]"
      ]
     },
     "metadata": {},
     "output_type": "display_data"
    },
    {
     "name": "stdout",
     "output_type": "stream",
     "text": [
      "gld_params: [0.04306891 0.02397464 0.36453612 0.13973806]\n",
      "wrapper([ 8.170e-03  1.713e-04 ...  9.241e-01  9.178e-01]) = -0.026721304050393118\n",
      "assembly_constraint_no_mean([ 8.170e-03  1.713e-04 ...  9.241e-01  9.178e-01]) = [ 9.197e-04  1.134e-03 ...  9.526e-04  8.765e-04]\n"
     ]
    },
    {
     "data": {
      "application/vnd.jupyter.widget-view+json": {
       "model_id": "c0849acec8b44d35ab2afb0377d8aa2c",
       "version_major": 2,
       "version_minor": 0
      },
      "text/plain": [
       "  0%|          | 0/10000 [00:00<?, ?it/s]"
      ]
     },
     "metadata": {},
     "output_type": "display_data"
    },
    {
     "name": "stdout",
     "output_type": "stream",
     "text": [
      "gld_params: [0.04306887 0.02397453 0.36453082 0.13973701]\n",
      "wrapper([ 8.130e-03  1.202e-20 ...  9.241e-01  9.178e-01]) = -0.02672212630015181\n",
      "assembly_constraint_no_mean([ 8.130e-03  1.202e-20 ...  9.241e-01  9.178e-01]) = [ 1.000e-03  1.000e-03 ...  1.000e-03  1.000e-03]\n"
     ]
    },
    {
     "data": {
      "application/vnd.jupyter.widget-view+json": {
       "model_id": "20910cb185194cdf833027f42729ea61",
       "version_major": 2,
       "version_minor": 0
      },
      "text/plain": [
       "  0%|          | 0/10000 [00:00<?, ?it/s]"
      ]
     },
     "metadata": {},
     "output_type": "display_data"
    },
    {
     "name": "stdout",
     "output_type": "stream",
     "text": [
      "gld_params: [0.0430688  0.02397455 0.36453433 0.13973631]\n",
      "wrapper([ 8.177e-03  4.878e-06 ...  9.241e-01  9.179e-01]) = -0.026721910975935174\n",
      "assembly_constraint_no_mean([ 8.177e-03  4.878e-06 ...  9.241e-01  9.179e-01]) = [ 1.178e-03  9.816e-04 ...  6.849e-04  1.196e-03]\n"
     ]
    },
    {
     "data": {
      "application/vnd.jupyter.widget-view+json": {
       "model_id": "eecdf65a88184a07ba3b70ec7fa21d65",
       "version_major": 2,
       "version_minor": 0
      },
      "text/plain": [
       "  0%|          | 0/10000 [00:00<?, ?it/s]"
      ]
     },
     "metadata": {},
     "output_type": "display_data"
    },
    {
     "name": "stdout",
     "output_type": "stream",
     "text": [
      "gld_params: [0.04306885 0.02397455 0.36453112 0.13973746]\n",
      "wrapper([ 8.148e-03  9.854e-24 ...  9.241e-01  9.178e-01]) = -0.026722135607516594\n",
      "assembly_constraint_no_mean([ 8.148e-03  9.854e-24 ...  9.241e-01  9.178e-01]) = [ 1.000e-03  1.000e-03 ...  1.000e-03  1.000e-03]\n"
     ]
    },
    {
     "data": {
      "application/vnd.jupyter.widget-view+json": {
       "model_id": "455d6af47e8844609f315e767a1315fc",
       "version_major": 2,
       "version_minor": 0
      },
      "text/plain": [
       "  0%|          | 0/10000 [00:00<?, ?it/s]"
      ]
     },
     "metadata": {},
     "output_type": "display_data"
    },
    {
     "name": "stdout",
     "output_type": "stream",
     "text": [
      "gld_params: [0.04306847 0.02397472 0.36453313 0.13973698]\n",
      "wrapper([ 8.163e-03  1.582e-05 ...  9.241e-01  9.178e-01]) = -0.026723783585844867\n",
      "assembly_constraint_no_mean([ 8.163e-03  1.582e-05 ...  9.241e-01  9.178e-01]) = [ 1.222e-03  5.766e-04 ...  1.211e-03  1.144e-03]\n"
     ]
    },
    {
     "data": {
      "application/vnd.jupyter.widget-view+json": {
       "model_id": "6b5177a55e974abe841afec4a114b34e",
       "version_major": 2,
       "version_minor": 0
      },
      "text/plain": [
       "  0%|          | 0/10000 [00:00<?, ?it/s]"
      ]
     },
     "metadata": {},
     "output_type": "display_data"
    },
    {
     "name": "stdout",
     "output_type": "stream",
     "text": [
      "gld_params: [0.04306886 0.02397454 0.36453087 0.13973728]\n",
      "wrapper([ 8.154e-03  9.429e-22 ...  9.241e-01  9.178e-01]) = -0.026722131325559603\n",
      "assembly_constraint_no_mean([ 8.154e-03  9.429e-22 ...  9.241e-01  9.178e-01]) = [ 1.000e-03  1.000e-03 ...  1.000e-03  1.000e-03]\n"
     ]
    },
    {
     "data": {
      "application/vnd.jupyter.widget-view+json": {
       "model_id": "2b318865df8a44559e650d717d47a423",
       "version_major": 2,
       "version_minor": 0
      },
      "text/plain": [
       "  0%|          | 0/10000 [00:00<?, ?it/s]"
      ]
     },
     "metadata": {},
     "output_type": "display_data"
    },
    {
     "name": "stdout",
     "output_type": "stream",
     "text": [
      "gld_params: [0.04306881 0.02397451 0.36453238 0.13973654]\n",
      "wrapper([ 8.181e-03  0.000e+00 ...  9.241e-01  9.178e-01]) = -0.026721996972524375\n",
      "assembly_constraint_no_mean([ 8.181e-03  0.000e+00 ...  9.241e-01  9.178e-01]) = [ 5.951e-04  9.926e-04 ...  1.209e-03  1.065e-03]\n"
     ]
    },
    {
     "data": {
      "application/vnd.jupyter.widget-view+json": {
       "model_id": "3f67482c60aa4fbf9b2d0143b8386061",
       "version_major": 2,
       "version_minor": 0
      },
      "text/plain": [
       "  0%|          | 0/10000 [00:00<?, ?it/s]"
      ]
     },
     "metadata": {},
     "output_type": "display_data"
    },
    {
     "name": "stdout",
     "output_type": "stream",
     "text": [
      "gld_params: [0.04306887 0.02397458 0.36453103 0.13973788]\n",
      "wrapper([ 8.163e-03  0.000e+00 ...  9.240e-01  9.179e-01]) = -0.02672213219340801\n",
      "assembly_constraint_no_mean([ 8.163e-03  0.000e+00 ...  9.240e-01  9.179e-01]) = [ 1.000e-03  1.000e-03 ...  1.000e-03  1.000e-03]\n"
     ]
    },
    {
     "data": {
      "application/vnd.jupyter.widget-view+json": {
       "model_id": "cc8aa86105ca4e268aff8a0fe7c1485a",
       "version_major": 2,
       "version_minor": 0
      },
      "text/plain": [
       "  0%|          | 0/10000 [00:00<?, ?it/s]"
      ]
     },
     "metadata": {},
     "output_type": "display_data"
    },
    {
     "name": "stdout",
     "output_type": "stream",
     "text": [
      "gld_params: [0.04306887 0.02397458 0.36453101 0.139738  ]\n",
      "wrapper([ 8.207e-03  0.000e+00 ...  9.240e-01  9.179e-01]) = -0.02672212545070593\n",
      "assembly_constraint_no_mean([ 8.207e-03  0.000e+00 ...  9.240e-01  9.179e-01]) = [ 1.000e-03  1.000e-03 ...  1.000e-03  1.000e-03]\n"
     ]
    },
    {
     "data": {
      "application/vnd.jupyter.widget-view+json": {
       "model_id": "a32c7d3226ad4740b2e78ddfb293a43f",
       "version_major": 2,
       "version_minor": 0
      },
      "text/plain": [
       "  0%|          | 0/10000 [00:00<?, ?it/s]"
      ]
     },
     "metadata": {},
     "output_type": "display_data"
    },
    {
     "name": "stdout",
     "output_type": "stream",
     "text": [
      "gld_params: [0.04306885 0.02397477 0.3645325  0.13974128]\n",
      "wrapper([ 8.164e-03  0.000e+00 ...  9.241e-01  9.179e-01]) = -0.026722214681291528\n",
      "assembly_constraint_no_mean([ 8.164e-03  0.000e+00 ...  9.241e-01  9.179e-01]) = [ 1.065e-03  1.011e-03 ...  1.243e-03  1.442e-03]\n"
     ]
    },
    {
     "data": {
      "application/vnd.jupyter.widget-view+json": {
       "model_id": "acf986add039409b9f4c19bb8fb3a54f",
       "version_major": 2,
       "version_minor": 0
      },
      "text/plain": [
       "  0%|          | 0/10000 [00:00<?, ?it/s]"
      ]
     },
     "metadata": {},
     "output_type": "display_data"
    },
    {
     "name": "stdout",
     "output_type": "stream",
     "text": [
      "gld_params: [0.04306889 0.02397456 0.36453016 0.13973803]\n",
      "wrapper([ 8.156e-03  7.044e-21 ...  9.240e-01  9.179e-01]) = -0.026722130387967162\n",
      "assembly_constraint_no_mean([ 8.156e-03  7.044e-21 ...  9.240e-01  9.179e-01]) = [ 1.000e-03  1.000e-03 ...  1.000e-03  1.000e-03]\n"
     ]
    },
    {
     "data": {
      "application/vnd.jupyter.widget-view+json": {
       "model_id": "a1012ef3cd8343adbfc6a39a5de1d4f5",
       "version_major": 2,
       "version_minor": 0
      },
      "text/plain": [
       "  0%|          | 0/10000 [00:00<?, ?it/s]"
      ]
     },
     "metadata": {},
     "output_type": "display_data"
    },
    {
     "name": "stdout",
     "output_type": "stream",
     "text": [
      "gld_params: [0.04306871 0.02397466 0.36453193 0.13973825]\n",
      "wrapper([ 8.161e-03  0.000e+00 ...  9.240e-01  9.179e-01]) = -0.02672276500334803\n",
      "assembly_constraint_no_mean([ 8.161e-03  0.000e+00 ...  9.240e-01  9.179e-01]) = [ 9.147e-04  1.265e-03 ...  7.834e-04  9.434e-04]\n"
     ]
    },
    {
     "data": {
      "application/vnd.jupyter.widget-view+json": {
       "model_id": "208a69005d1a48f0818ac60cc5e163ac",
       "version_major": 2,
       "version_minor": 0
      },
      "text/plain": [
       "  0%|          | 0/10000 [00:00<?, ?it/s]"
      ]
     },
     "metadata": {},
     "output_type": "display_data"
    },
    {
     "name": "stdout",
     "output_type": "stream",
     "text": [
      "gld_params: [0.04306884 0.02397463 0.36453306 0.1397375 ]\n",
      "wrapper([ 8.167e-03  3.226e-05 ...  9.241e-01  9.178e-01]) = -0.02672216575066967\n",
      "assembly_constraint_no_mean([ 8.167e-03  3.226e-05 ...  9.241e-01  9.178e-01]) = [ 1.000e-03  1.000e-03 ...  1.000e-03  1.000e-03]\n"
     ]
    },
    {
     "data": {
      "application/vnd.jupyter.widget-view+json": {
       "model_id": "c972b3ab8bcc4e7ea912c464c78226ab",
       "version_major": 2,
       "version_minor": 0
      },
      "text/plain": [
       "  0%|          | 0/10000 [00:00<?, ?it/s]"
      ]
     },
     "metadata": {},
     "output_type": "display_data"
    },
    {
     "name": "stdout",
     "output_type": "stream",
     "text": [
      "gld_params: [0.04306881 0.02397464 0.36453443 0.13973689]\n",
      "wrapper([ 8.186e-03  6.077e-05 ...  9.241e-01  9.178e-01]) = -0.02672215736108068\n",
      "assembly_constraint_no_mean([ 8.186e-03  6.077e-05 ...  9.241e-01  9.178e-01]) = [ 1.000e-03  1.000e-03 ...  1.000e-03  1.000e-03]\n"
     ]
    },
    {
     "data": {
      "application/vnd.jupyter.widget-view+json": {
       "model_id": "55b855e9f6d84e06974d5ec23c726e29",
       "version_major": 2,
       "version_minor": 0
      },
      "text/plain": [
       "  0%|          | 0/10000 [00:00<?, ?it/s]"
      ]
     },
     "metadata": {},
     "output_type": "display_data"
    },
    {
     "name": "stdout",
     "output_type": "stream",
     "text": [
      "gld_params: [0.04306884 0.02397459 0.3645325  0.13973725]\n",
      "wrapper([ 8.198e-03  2.506e-05 ...  9.241e-01  9.178e-01]) = -0.026722132786061663\n",
      "assembly_constraint_no_mean([ 8.198e-03  2.506e-05 ...  9.241e-01  9.178e-01]) = [ 1.026e-03  1.033e-03 ...  1.053e-03  1.096e-03]\n"
     ]
    },
    {
     "data": {
      "application/vnd.jupyter.widget-view+json": {
       "model_id": "a4ffa3f72cf74e1d8d0fb72b391546f0",
       "version_major": 2,
       "version_minor": 0
      },
      "text/plain": [
       "  0%|          | 0/10000 [00:00<?, ?it/s]"
      ]
     },
     "metadata": {},
     "output_type": "display_data"
    },
    {
     "name": "stdout",
     "output_type": "stream",
     "text": [
      "gld_params: [0.04306884 0.02397461 0.3645329  0.13973728]\n",
      "wrapper([ 8.183e-03  4.537e-05 ...  9.241e-01  9.178e-01]) = -0.026722155910661512\n",
      "assembly_constraint_no_mean([ 8.183e-03  4.537e-05 ...  9.241e-01  9.178e-01]) = [ 1.000e-03  1.000e-03 ...  1.000e-03  1.000e-03]\n"
     ]
    },
    {
     "data": {
      "application/vnd.jupyter.widget-view+json": {
       "model_id": "ffb0addab4cd4b5685f7aa8a00103046",
       "version_major": 2,
       "version_minor": 0
      },
      "text/plain": [
       "  0%|          | 0/10000 [00:00<?, ?it/s]"
      ]
     },
     "metadata": {},
     "output_type": "display_data"
    },
    {
     "name": "stdout",
     "output_type": "stream",
     "text": [
      "gld_params: [0.04306876 0.02397484 0.3645344  0.13974121]\n",
      "wrapper([ 8.173e-03  3.043e-05 ...  9.240e-01  9.178e-01]) = -0.02672246173036391\n",
      "assembly_constraint_no_mean([ 8.173e-03  3.043e-05 ...  9.240e-01  9.178e-01]) = [ 1.397e-03  1.035e-03 ...  1.276e-03  5.904e-04]\n"
     ]
    },
    {
     "data": {
      "application/vnd.jupyter.widget-view+json": {
       "model_id": "cf820ca0492c46ffb2cbd7b10d6caf82",
       "version_major": 2,
       "version_minor": 0
      },
      "text/plain": [
       "  0%|          | 0/10000 [00:00<?, ?it/s]"
      ]
     },
     "metadata": {},
     "output_type": "display_data"
    },
    {
     "name": "stdout",
     "output_type": "stream",
     "text": [
      "gld_params: [0.04306882 0.02397464 0.36453371 0.13973759]\n",
      "wrapper([ 8.178e-03  5.441e-05 ...  9.241e-01  9.178e-01]) = -0.026722151555924435\n",
      "assembly_constraint_no_mean([ 8.178e-03  5.441e-05 ...  9.241e-01  9.178e-01]) = [ 1.000e-03  1.000e-03 ...  1.000e-03  1.000e-03]\n"
     ]
    },
    {
     "data": {
      "application/vnd.jupyter.widget-view+json": {
       "model_id": "19041a5da24d46c3be51b69605c7aa13",
       "version_major": 2,
       "version_minor": 0
      },
      "text/plain": [
       "  0%|          | 0/10000 [00:00<?, ?it/s]"
      ]
     },
     "metadata": {},
     "output_type": "display_data"
    },
    {
     "name": "stdout",
     "output_type": "stream",
     "text": [
      "gld_params: [0.04306878 0.02397481 0.36453333 0.13974187]\n",
      "wrapper([ 8.173e-03  3.619e-05 ...  9.241e-01  9.178e-01]) = -0.026722303742130107\n",
      "assembly_constraint_no_mean([ 8.173e-03  3.619e-05 ...  9.241e-01  9.178e-01]) = [ 9.937e-04  9.771e-04 ...  7.566e-04  1.042e-03]\n"
     ]
    },
    {
     "data": {
      "application/vnd.jupyter.widget-view+json": {
       "model_id": "baa0736597f9483184fa3b556860be12",
       "version_major": 2,
       "version_minor": 0
      },
      "text/plain": [
       "  0%|          | 0/10000 [00:00<?, ?it/s]"
      ]
     },
     "metadata": {},
     "output_type": "display_data"
    },
    {
     "name": "stdout",
     "output_type": "stream",
     "text": [
      "gld_params: [0.04306882 0.02397463 0.36453405 0.13973699]\n",
      "wrapper([ 8.154e-03  3.272e-05 ...  9.241e-01  9.178e-01]) = -0.02672216623901679\n",
      "assembly_constraint_no_mean([ 8.154e-03  3.272e-05 ...  9.241e-01  9.178e-01]) = [ 1.000e-03  1.000e-03 ...  1.000e-03  1.000e-03]\n"
     ]
    },
    {
     "data": {
      "application/vnd.jupyter.widget-view+json": {
       "model_id": "5b07850585aa4ef59b8ef02fe86ca667",
       "version_major": 2,
       "version_minor": 0
      },
      "text/plain": [
       "  0%|          | 0/10000 [00:00<?, ?it/s]"
      ]
     },
     "metadata": {},
     "output_type": "display_data"
    },
    {
     "name": "stdout",
     "output_type": "stream",
     "text": [
      "gld_params: [0.0430689  0.02397464 0.36453428 0.13973819]\n",
      "wrapper([ 8.145e-03  3.304e-05 ...  9.241e-01  9.178e-01]) = -0.02672167792551946\n",
      "assembly_constraint_no_mean([ 8.145e-03  3.304e-05 ...  9.241e-01  9.178e-01]) = [ 1.007e-03  9.885e-04 ...  9.954e-04  8.639e-04]\n"
     ]
    },
    {
     "data": {
      "application/vnd.jupyter.widget-view+json": {
       "model_id": "708cea2af23941159aa8e6babbd3b1cf",
       "version_major": 2,
       "version_minor": 0
      },
      "text/plain": [
       "  0%|          | 0/10000 [00:00<?, ?it/s]"
      ]
     },
     "metadata": {},
     "output_type": "display_data"
    },
    {
     "name": "stdout",
     "output_type": "stream",
     "text": [
      "gld_params: [0.04306885 0.02397462 0.36453291 0.13973747]\n",
      "wrapper([ 8.176e-03  2.022e-05 ...  9.241e-01  9.178e-01]) = -0.026722146326700898\n",
      "assembly_constraint_no_mean([ 8.176e-03  2.022e-05 ...  9.241e-01  9.178e-01]) = [ 1.000e-03  1.000e-03 ...  1.000e-03  1.000e-03]\n"
     ]
    },
    {
     "data": {
      "application/vnd.jupyter.widget-view+json": {
       "model_id": "ca2604fe6dbf489a9e2f78d28551cd2b",
       "version_major": 2,
       "version_minor": 0
      },
      "text/plain": [
       "  0%|          | 0/10000 [00:00<?, ?it/s]"
      ]
     },
     "metadata": {},
     "output_type": "display_data"
    },
    {
     "name": "stdout",
     "output_type": "stream",
     "text": [
      "gld_params: [0.04306881 0.02397484 0.36453288 0.13974159]\n",
      "wrapper([ 8.168e-03  3.123e-05 ...  9.241e-01  9.178e-01]) = -0.026722531203164417\n",
      "assembly_constraint_no_mean([ 8.168e-03  3.123e-05 ...  9.241e-01  9.178e-01]) = [ 8.636e-04  1.247e-03 ...  1.208e-03  9.216e-04]\n"
     ]
    },
    {
     "data": {
      "application/vnd.jupyter.widget-view+json": {
       "model_id": "90cfeaa0181b4d76b2c70806324dd313",
       "version_major": 2,
       "version_minor": 0
      },
      "text/plain": [
       "  0%|          | 0/10000 [00:00<?, ?it/s]"
      ]
     },
     "metadata": {},
     "output_type": "display_data"
    },
    {
     "name": "stdout",
     "output_type": "stream",
     "text": [
      "gld_params: [0.04306881 0.02397466 0.36453416 0.13973767]\n",
      "wrapper([ 8.143e-03  3.811e-05 ...  9.240e-01  9.179e-01]) = -0.026722159221605875\n",
      "assembly_constraint_no_mean([ 8.143e-03  3.811e-05 ...  9.240e-01  9.179e-01]) = [ 1.000e-03  1.000e-03 ...  1.000e-03  1.000e-03]\n"
     ]
    },
    {
     "data": {
      "application/vnd.jupyter.widget-view+json": {
       "model_id": "71c7c5450c2c4ad3b69a91828125e5d0",
       "version_major": 2,
       "version_minor": 0
      },
      "text/plain": [
       "  0%|          | 0/10000 [00:00<?, ?it/s]"
      ]
     },
     "metadata": {},
     "output_type": "display_data"
    },
    {
     "name": "stdout",
     "output_type": "stream",
     "text": [
      "gld_params: [0.04306875 0.0239747  0.36453449 0.13973801]\n",
      "wrapper([ 8.161e-03  3.511e-05 ...  9.241e-01  9.178e-01]) = -0.026722400140741235\n",
      "assembly_constraint_no_mean([ 8.161e-03  3.511e-05 ...  9.241e-01  9.178e-01]) = [ 1.011e-03  1.001e-03 ...  1.004e-03  9.848e-04]\n"
     ]
    },
    {
     "data": {
      "application/vnd.jupyter.widget-view+json": {
       "model_id": "cb762aefda524cc1a264e2165757ba49",
       "version_major": 2,
       "version_minor": 0
      },
      "text/plain": [
       "  0%|          | 0/10000 [00:00<?, ?it/s]"
      ]
     },
     "metadata": {},
     "output_type": "display_data"
    },
    {
     "name": "stdout",
     "output_type": "stream",
     "text": [
      "gld_params: [0.04306888 0.0239746  0.36453228 0.139737  ]\n",
      "wrapper([ 8.174e-03  3.917e-05 ...  9.241e-01  9.178e-01]) = -0.026722161715410628\n",
      "assembly_constraint_no_mean([ 8.174e-03  3.917e-05 ...  9.241e-01  9.178e-01]) = [ 1.000e-03  1.000e-03 ...  1.000e-03  1.000e-03]\n"
     ]
    },
    {
     "data": {
      "application/vnd.jupyter.widget-view+json": {
       "model_id": "c9b00a4515ee4e4fb96ad7e0c7c87667",
       "version_major": 2,
       "version_minor": 0
      },
      "text/plain": [
       "  0%|          | 0/10000 [00:00<?, ?it/s]"
      ]
     },
     "metadata": {},
     "output_type": "display_data"
    },
    {
     "name": "stdout",
     "output_type": "stream",
     "text": [
      "gld_params: [0.04306855 0.02397476 0.36453631 0.139737  ]\n",
      "wrapper([ 8.150e-03  3.226e-05 ...  9.241e-01  9.178e-01]) = -0.02672311576641634\n",
      "assembly_constraint_no_mean([ 8.150e-03  3.226e-05 ...  9.241e-01  9.178e-01]) = [ 1.132e-03  1.096e-03 ...  8.620e-04  1.191e-03]\n"
     ]
    },
    {
     "data": {
      "application/vnd.jupyter.widget-view+json": {
       "model_id": "56c2eaee6acf4c3db156736281a5ad8a",
       "version_major": 2,
       "version_minor": 0
      },
      "text/plain": [
       "  0%|          | 0/10000 [00:00<?, ?it/s]"
      ]
     },
     "metadata": {},
     "output_type": "display_data"
    },
    {
     "name": "stdout",
     "output_type": "stream",
     "text": [
      "gld_params: [0.04306882 0.02397466 0.36453348 0.13973822]\n",
      "wrapper([ 8.168e-03  5.327e-05 ...  9.241e-01  9.178e-01]) = -0.026722170342163176\n",
      "assembly_constraint_no_mean([ 8.168e-03  5.327e-05 ...  9.241e-01  9.178e-01]) = [ 1.000e-03  1.000e-03 ...  1.000e-03  1.000e-03]\n"
     ]
    },
    {
     "data": {
      "application/vnd.jupyter.widget-view+json": {
       "model_id": "ce74f0da40604ada86b45aa492e0c441",
       "version_major": 2,
       "version_minor": 0
      },
      "text/plain": [
       "  0%|          | 0/10000 [00:00<?, ?it/s]"
      ]
     },
     "metadata": {},
     "output_type": "display_data"
    },
    {
     "name": "stdout",
     "output_type": "stream",
     "text": [
      "gld_params: [0.04306934 0.02397455 0.3645336  0.13974035]\n",
      "wrapper([ 8.166e-03  2.917e-05 ...  9.241e-01  9.178e-01]) = -0.026719687727049066\n",
      "assembly_constraint_no_mean([ 8.166e-03  2.917e-05 ...  9.241e-01  9.178e-01]) = [ 8.179e-04  5.432e-04 ...  7.934e-04  8.650e-04]\n"
     ]
    },
    {
     "data": {
      "application/vnd.jupyter.widget-view+json": {
       "model_id": "12c6d76998b34dc2be64dcc48a417242",
       "version_major": 2,
       "version_minor": 0
      },
      "text/plain": [
       "  0%|          | 0/10000 [00:00<?, ?it/s]"
      ]
     },
     "metadata": {},
     "output_type": "display_data"
    },
    {
     "name": "stdout",
     "output_type": "stream",
     "text": [
      "gld_params: [0.04306882 0.02397461 0.36453351 0.13973701]\n",
      "wrapper([ 8.187e-03  4.379e-05 ...  9.241e-01  9.178e-01]) = -0.026722162829148927\n",
      "assembly_constraint_no_mean([ 8.187e-03  4.379e-05 ...  9.241e-01  9.178e-01]) = [ 1.000e-03  1.000e-03 ...  1.000e-03  1.000e-03]\n"
     ]
    },
    {
     "data": {
      "application/vnd.jupyter.widget-view+json": {
       "model_id": "168d4772d694405093626efd9274f6a5",
       "version_major": 2,
       "version_minor": 0
      },
      "text/plain": [
       "  0%|          | 0/10000 [00:00<?, ?it/s]"
      ]
     },
     "metadata": {},
     "output_type": "display_data"
    },
    {
     "name": "stdout",
     "output_type": "stream",
     "text": [
      "gld_params: [0.04306903 0.02397452 0.36453269 0.13973667]\n",
      "wrapper([ 8.170e-03  2.072e-05 ...  9.241e-01  9.178e-01]) = -0.026721317025018787\n",
      "assembly_constraint_no_mean([ 8.170e-03  2.072e-05 ...  9.241e-01  9.178e-01]) = [ 9.612e-04  9.538e-04 ...  9.603e-04  8.462e-04]\n"
     ]
    },
    {
     "data": {
      "application/vnd.jupyter.widget-view+json": {
       "model_id": "9a848694c19d4510858fb970b9b33451",
       "version_major": 2,
       "version_minor": 0
      },
      "text/plain": [
       "  0%|          | 0/10000 [00:00<?, ?it/s]"
      ]
     },
     "metadata": {},
     "output_type": "display_data"
    },
    {
     "name": "stdout",
     "output_type": "stream",
     "text": [
      "gld_params: [0.04306881 0.02397463 0.36453398 0.13973711]\n",
      "wrapper([ 8.190e-03  4.315e-05 ...  9.241e-01  9.178e-01]) = -0.026722155193774712\n",
      "assembly_constraint_no_mean([ 8.190e-03  4.315e-05 ...  9.241e-01  9.178e-01]) = [ 1.000e-03  1.000e-03 ...  1.000e-03  1.000e-03]\n"
     ]
    },
    {
     "data": {
      "application/vnd.jupyter.widget-view+json": {
       "model_id": "3d9a16789c67467daaf0f336e5bccab6",
       "version_major": 2,
       "version_minor": 0
      },
      "text/plain": [
       "  0%|          | 0/10000 [00:00<?, ?it/s]"
      ]
     },
     "metadata": {},
     "output_type": "display_data"
    },
    {
     "name": "stdout",
     "output_type": "stream",
     "text": [
      "gld_params: [0.04306877 0.02397463 0.36453287 0.13973783]\n",
      "wrapper([ 8.157e-03  2.914e-05 ...  9.241e-01  9.178e-01]) = -0.026722342254179243\n",
      "assembly_constraint_no_mean([ 8.157e-03  2.914e-05 ...  9.241e-01  9.178e-01]) = [ 1.022e-03  1.035e-03 ...  1.009e-03  1.008e-03]\n"
     ]
    },
    {
     "data": {
      "application/vnd.jupyter.widget-view+json": {
       "model_id": "dc8d9402001843aeb95e9a2e2f024b87",
       "version_major": 2,
       "version_minor": 0
      },
      "text/plain": [
       "  0%|          | 0/10000 [00:00<?, ?it/s]"
      ]
     },
     "metadata": {},
     "output_type": "display_data"
    },
    {
     "name": "stdout",
     "output_type": "stream",
     "text": [
      "gld_params: [0.04306882 0.02397464 0.36453378 0.13973749]\n",
      "wrapper([ 8.163e-03  3.481e-05 ...  9.241e-01  9.178e-01]) = -0.026722163194937094\n",
      "assembly_constraint_no_mean([ 8.163e-03  3.481e-05 ...  9.241e-01  9.178e-01]) = [ 1.000e-03  1.000e-03 ...  1.000e-03  1.000e-03]\n"
     ]
    },
    {
     "data": {
      "application/vnd.jupyter.widget-view+json": {
       "model_id": "0e33c193e6ab4aa7be6b9c568bebf36d",
       "version_major": 2,
       "version_minor": 0
      },
      "text/plain": [
       "  0%|          | 0/10000 [00:00<?, ?it/s]"
      ]
     },
     "metadata": {},
     "output_type": "display_data"
    },
    {
     "name": "stdout",
     "output_type": "stream",
     "text": [
      "gld_params: [0.04306886 0.02397448 0.36453258 0.1397358 ]\n",
      "wrapper([ 8.161e-03  3.323e-05 ...  9.241e-01  9.178e-01]) = -0.02672179109876741\n",
      "assembly_constraint_no_mean([ 8.161e-03  3.323e-05 ...  9.241e-01  9.178e-01]) = [ 1.034e-03  1.006e-03 ...  1.091e-03  9.832e-04]\n"
     ]
    },
    {
     "data": {
      "application/vnd.jupyter.widget-view+json": {
       "model_id": "d5ac1d5f7ac3445f80c63e10fe2783b1",
       "version_major": 2,
       "version_minor": 0
      },
      "text/plain": [
       "  0%|          | 0/10000 [00:00<?, ?it/s]"
      ]
     },
     "metadata": {},
     "output_type": "display_data"
    },
    {
     "name": "stdout",
     "output_type": "stream",
     "text": [
      "gld_params: [0.04306886 0.02397465 0.36453243 0.13973853]\n",
      "wrapper([ 8.146e-03  3.158e-05 ...  9.240e-01  9.179e-01]) = -0.026722153251050228\n",
      "assembly_constraint_no_mean([ 8.146e-03  3.158e-05 ...  9.240e-01  9.179e-01]) = [ 1.000e-03  1.000e-03 ...  1.000e-03  1.000e-03]\n"
     ]
    },
    {
     "data": {
      "application/vnd.jupyter.widget-view+json": {
       "model_id": "358d48ad22424f2b9a4f3b549bb35389",
       "version_major": 2,
       "version_minor": 0
      },
      "text/plain": [
       "  0%|          | 0/10000 [00:00<?, ?it/s]"
      ]
     },
     "metadata": {},
     "output_type": "display_data"
    },
    {
     "name": "stdout",
     "output_type": "stream",
     "text": [
      "gld_params: [0.0430688  0.02397467 0.36453293 0.13973827]\n",
      "wrapper([ 8.165e-03  2.681e-05 ...  9.241e-01  9.178e-01]) = -0.026722362892976224\n",
      "assembly_constraint_no_mean([ 8.165e-03  2.681e-05 ...  9.241e-01  9.178e-01]) = [ 1.124e-03  1.064e-03 ...  1.042e-03  9.606e-04]\n"
     ]
    },
    {
     "data": {
      "application/vnd.jupyter.widget-view+json": {
       "model_id": "ae0a98d03f924c1690b91458b3c9dcf7",
       "version_major": 2,
       "version_minor": 0
      },
      "text/plain": [
       "  0%|          | 0/10000 [00:00<?, ?it/s]"
      ]
     },
     "metadata": {},
     "output_type": "display_data"
    },
    {
     "name": "stdout",
     "output_type": "stream",
     "text": [
      "gld_params: [0.04306885 0.02397461 0.36453305 0.13973703]\n",
      "wrapper([ 8.196e-03  3.291e-05 ...  9.241e-01  9.178e-01]) = -0.026722149130848676\n",
      "assembly_constraint_no_mean([ 8.196e-03  3.291e-05 ...  9.241e-01  9.178e-01]) = [ 1.000e-03  1.000e-03 ...  1.000e-03  1.000e-03]\n"
     ]
    },
    {
     "data": {
      "application/vnd.jupyter.widget-view+json": {
       "model_id": "4fb7d0a4a19e43c0a28aa5a41a3a6354",
       "version_major": 2,
       "version_minor": 0
      },
      "text/plain": [
       "  0%|          | 0/10000 [00:00<?, ?it/s]"
      ]
     },
     "metadata": {},
     "output_type": "display_data"
    },
    {
     "name": "stdout",
     "output_type": "stream",
     "text": [
      "gld_params: [0.04306846 0.02397475 0.36453264 0.13973737]\n",
      "wrapper([ 8.192e-03  4.182e-05 ...  9.241e-01  9.178e-01]) = -0.02672396574621995\n",
      "assembly_constraint_no_mean([ 8.192e-03  4.182e-05 ...  9.241e-01  9.178e-01]) = [ 9.186e-04  1.261e-03 ...  1.306e-03  1.039e-03]\n"
     ]
    },
    {
     "data": {
      "application/vnd.jupyter.widget-view+json": {
       "model_id": "781d164b127446ef80df5533c33f4ed8",
       "version_major": 2,
       "version_minor": 0
      },
      "text/plain": [
       "  0%|          | 0/10000 [00:00<?, ?it/s]"
      ]
     },
     "metadata": {},
     "output_type": "display_data"
    },
    {
     "name": "stdout",
     "output_type": "stream",
     "text": [
      "gld_params: [0.04306881 0.02397465 0.3645345  0.13973717]\n",
      "wrapper([ 8.112e-03  5.961e-05 ...  9.241e-01  9.178e-01]) = -0.026722148013490363\n",
      "assembly_constraint_no_mean([ 8.112e-03  5.961e-05 ...  9.241e-01  9.178e-01]) = [ 1.000e-03  1.000e-03 ...  1.000e-03  1.000e-03]\n"
     ]
    },
    {
     "data": {
      "application/vnd.jupyter.widget-view+json": {
       "model_id": "59ecc534a23b4a219592fafeaf35e8c2",
       "version_major": 2,
       "version_minor": 0
      },
      "text/plain": [
       "  0%|          | 0/10000 [00:00<?, ?it/s]"
      ]
     },
     "metadata": {},
     "output_type": "display_data"
    },
    {
     "name": "stdout",
     "output_type": "stream",
     "text": [
      "gld_params: [0.04306867 0.02397466 0.3645332  0.13973677]\n",
      "wrapper([ 8.155e-03  1.437e-05 ...  9.241e-01  9.179e-01]) = -0.026722911560627904\n",
      "assembly_constraint_no_mean([ 8.155e-03  1.437e-05 ...  9.241e-01  9.179e-01]) = [ 1.167e-03  1.055e-03 ...  1.074e-03  1.293e-03]\n"
     ]
    },
    {
     "data": {
      "application/vnd.jupyter.widget-view+json": {
       "model_id": "b1adf9e4a4b547359075429a9c943341",
       "version_major": 2,
       "version_minor": 0
      },
      "text/plain": [
       "  0%|          | 0/10000 [00:00<?, ?it/s]"
      ]
     },
     "metadata": {},
     "output_type": "display_data"
    },
    {
     "name": "stdout",
     "output_type": "stream",
     "text": [
      "gld_params: [0.04306882 0.02397465 0.36453394 0.13973749]\n",
      "wrapper([ 8.212e-03  4.197e-05 ...  9.241e-01  9.178e-01]) = -0.026722160956583967\n",
      "assembly_constraint_no_mean([ 8.212e-03  4.197e-05 ...  9.241e-01  9.178e-01]) = [ 1.000e-03  1.000e-03 ...  1.000e-03  1.000e-03]\n"
     ]
    },
    {
     "data": {
      "application/vnd.jupyter.widget-view+json": {
       "model_id": "c9e9ab97434e469c8bbc33dd0af0c3fd",
       "version_major": 2,
       "version_minor": 0
      },
      "text/plain": [
       "  0%|          | 0/10000 [00:00<?, ?it/s]"
      ]
     },
     "metadata": {},
     "output_type": "display_data"
    },
    {
     "name": "stdout",
     "output_type": "stream",
     "text": [
      "gld_params: [0.04306868 0.02397473 0.36453363 0.13973845]\n",
      "wrapper([ 8.181e-03  3.599e-05 ...  9.241e-01  9.178e-01]) = -0.026722851154283668\n",
      "assembly_constraint_no_mean([ 8.181e-03  3.599e-05 ...  9.241e-01  9.178e-01]) = [ 1.060e-03  9.545e-04 ...  1.052e-03  1.149e-03]\n"
     ]
    },
    {
     "data": {
      "application/vnd.jupyter.widget-view+json": {
       "model_id": "88081ff26abc44e68c4741f4c9835bbe",
       "version_major": 2,
       "version_minor": 0
      },
      "text/plain": [
       "  0%|          | 0/10000 [00:00<?, ?it/s]"
      ]
     },
     "metadata": {},
     "output_type": "display_data"
    },
    {
     "name": "stdout",
     "output_type": "stream",
     "text": [
      "gld_params: [0.04306882 0.02397463 0.36453405 0.139737  ]\n",
      "wrapper([ 8.116e-03  4.115e-05 ...  9.241e-01  9.178e-01]) = -0.026722152012749682\n",
      "assembly_constraint_no_mean([ 8.116e-03  4.115e-05 ...  9.241e-01  9.178e-01]) = [ 1.000e-03  1.000e-03 ...  1.000e-03  1.000e-03]\n"
     ]
    },
    {
     "data": {
      "application/vnd.jupyter.widget-view+json": {
       "model_id": "6b40a39670e94232be57dbd11dff54c0",
       "version_major": 2,
       "version_minor": 0
      },
      "text/plain": [
       "  0%|          | 0/10000 [00:00<?, ?it/s]"
      ]
     },
     "metadata": {},
     "output_type": "display_data"
    },
    {
     "name": "stdout",
     "output_type": "stream",
     "text": [
      "gld_params: [0.04306871 0.02397469 0.36453516 0.13973725]\n",
      "wrapper([ 8.182e-03  6.500e-05 ...  9.241e-01  9.178e-01]) = -0.02672249948321323\n",
      "assembly_constraint_no_mean([ 8.182e-03  6.500e-05 ...  9.241e-01  9.178e-01]) = [ 1.033e-03  1.076e-03 ...  1.016e-03  9.612e-04]\n"
     ]
    },
    {
     "data": {
      "application/vnd.jupyter.widget-view+json": {
       "model_id": "dba34f95142c4ac8b076b9b175e0c337",
       "version_major": 2,
       "version_minor": 0
      },
      "text/plain": [
       "  0%|          | 0/10000 [00:00<?, ?it/s]"
      ]
     },
     "metadata": {},
     "output_type": "display_data"
    },
    {
     "name": "stdout",
     "output_type": "stream",
     "text": [
      "gld_params: [0.04306888 0.02397457 0.36453117 0.13973746]\n",
      "wrapper([ 8.206e-03  6.072e-06 ...  9.241e-01  9.178e-01]) = -0.02672214292828042\n",
      "assembly_constraint_no_mean([ 8.206e-03  6.072e-06 ...  9.241e-01  9.178e-01]) = [ 1.000e-03  1.000e-03 ...  1.000e-03  1.000e-03]\n"
     ]
    },
    {
     "data": {
      "application/vnd.jupyter.widget-view+json": {
       "model_id": "d0de8485525f4258b8f36a1e26ff9bfd",
       "version_major": 2,
       "version_minor": 0
      },
      "text/plain": [
       "  0%|          | 0/10000 [00:00<?, ?it/s]"
      ]
     },
     "metadata": {},
     "output_type": "display_data"
    },
    {
     "name": "stdout",
     "output_type": "stream",
     "text": [
      "gld_params: [0.04306893 0.0239746  0.36453193 0.13973796]\n",
      "wrapper([ 8.171e-03  2.722e-05 ...  9.241e-01  9.178e-01]) = -0.026721919933249575\n",
      "assembly_constraint_no_mean([ 8.171e-03  2.722e-05 ...  9.241e-01  9.178e-01]) = [ 1.144e-03  1.236e-03 ...  8.822e-04  9.883e-04]\n"
     ]
    },
    {
     "data": {
      "application/vnd.jupyter.widget-view+json": {
       "model_id": "a41b8f04190e43e6813fb7155b7d32cf",
       "version_major": 2,
       "version_minor": 0
      },
      "text/plain": [
       "  0%|          | 0/10000 [00:00<?, ?it/s]"
      ]
     },
     "metadata": {},
     "output_type": "display_data"
    },
    {
     "name": "stdout",
     "output_type": "stream",
     "text": [
      "gld_params: [0.04306881 0.02397467 0.36453436 0.1397377 ]\n",
      "wrapper([ 8.139e-03  6.272e-05 ...  9.241e-01  9.179e-01]) = -0.02672215168333938\n",
      "assembly_constraint_no_mean([ 8.139e-03  6.272e-05 ...  9.241e-01  9.179e-01]) = [ 1.000e-03  1.000e-03 ...  1.000e-03  1.000e-03]\n"
     ]
    },
    {
     "data": {
      "application/vnd.jupyter.widget-view+json": {
       "model_id": "264af41c23ab442cbe80bba9dc7c777d",
       "version_major": 2,
       "version_minor": 0
      },
      "text/plain": [
       "  0%|          | 0/10000 [00:00<?, ?it/s]"
      ]
     },
     "metadata": {},
     "output_type": "display_data"
    },
    {
     "name": "stdout",
     "output_type": "stream",
     "text": [
      "gld_params: [0.04306904 0.02397447 0.36453159 0.13973742]\n",
      "wrapper([ 8.169e-03  0.000e+00 ...  9.241e-01  9.178e-01]) = -0.02672112501907212\n",
      "assembly_constraint_no_mean([ 8.169e-03  0.000e+00 ...  9.241e-01  9.178e-01]) = [ 1.199e-03  8.339e-04 ...  8.251e-04  9.873e-04]\n"
     ]
    },
    {
     "data": {
      "application/vnd.jupyter.widget-view+json": {
       "model_id": "8b1285277b5040729f213d7baffba6bf",
       "version_major": 2,
       "version_minor": 0
      },
      "text/plain": [
       "  0%|          | 0/10000 [00:00<?, ?it/s]"
      ]
     },
     "metadata": {},
     "output_type": "display_data"
    },
    {
     "name": "stdout",
     "output_type": "stream",
     "text": [
      "gld_params: [0.04306883 0.02397466 0.36453334 0.13973818]\n",
      "wrapper([ 8.152e-03  5.807e-05 ...  9.241e-01  9.178e-01]) = -0.026722155535315536\n",
      "assembly_constraint_no_mean([ 8.152e-03  5.807e-05 ...  9.241e-01  9.178e-01]) = [ 1.000e-03  1.000e-03 ...  1.000e-03  1.000e-03]\n"
     ]
    },
    {
     "data": {
      "application/vnd.jupyter.widget-view+json": {
       "model_id": "ec7d7616b6fd4f699f2d40ebdff11d97",
       "version_major": 2,
       "version_minor": 0
      },
      "text/plain": [
       "  0%|          | 0/10000 [00:00<?, ?it/s]"
      ]
     },
     "metadata": {},
     "output_type": "display_data"
    },
    {
     "name": "stdout",
     "output_type": "stream",
     "text": [
      "gld_params: [0.04306905 0.02397446 0.36453014 0.13973711]\n",
      "wrapper([ 8.138e-03  1.748e-06 ...  9.241e-01  9.178e-01]) = -0.02672138993101362\n",
      "assembly_constraint_no_mean([ 8.138e-03  1.748e-06 ...  9.241e-01  9.178e-01]) = [ 8.089e-04  1.025e-03 ...  1.062e-03  7.222e-04]\n"
     ]
    },
    {
     "data": {
      "application/vnd.jupyter.widget-view+json": {
       "model_id": "5ff5235aa0bb442cb50f03bd9e4814b5",
       "version_major": 2,
       "version_minor": 0
      },
      "text/plain": [
       "  0%|          | 0/10000 [00:00<?, ?it/s]"
      ]
     },
     "metadata": {},
     "output_type": "display_data"
    },
    {
     "name": "stdout",
     "output_type": "stream",
     "text": [
      "gld_params: [0.0430688  0.02397469 0.36453464 0.13973806]\n",
      "wrapper([ 8.195e-03  8.501e-05 ...  9.240e-01  9.179e-01]) = -0.02672214492950796\n",
      "assembly_constraint_no_mean([ 8.195e-03  8.501e-05 ...  9.240e-01  9.179e-01]) = [ 1.000e-03  1.000e-03 ...  1.000e-03  1.000e-03]\n"
     ]
    },
    {
     "data": {
      "application/vnd.jupyter.widget-view+json": {
       "model_id": "46e1638d4e894868a4e621dd55990aef",
       "version_major": 2,
       "version_minor": 0
      },
      "text/plain": [
       "  0%|          | 0/10000 [00:00<?, ?it/s]"
      ]
     },
     "metadata": {},
     "output_type": "display_data"
    },
    {
     "name": "stdout",
     "output_type": "stream",
     "text": [
      "gld_params: [0.04306874 0.02397469 0.36453468 0.1397375 ]\n",
      "wrapper([ 8.139e-03  5.131e-05 ...  9.241e-01  9.178e-01]) = -0.02672242952286732\n",
      "assembly_constraint_no_mean([ 8.139e-03  5.131e-05 ...  9.241e-01  9.178e-01]) = [ 9.016e-04  9.390e-04 ...  1.227e-03  9.776e-04]\n"
     ]
    },
    {
     "data": {
      "application/vnd.jupyter.widget-view+json": {
       "model_id": "4ac594f3ea9c4c8d81cdd7f6aa3b7142",
       "version_major": 2,
       "version_minor": 0
      },
      "text/plain": [
       "  0%|          | 0/10000 [00:00<?, ?it/s]"
      ]
     },
     "metadata": {},
     "output_type": "display_data"
    },
    {
     "name": "stdout",
     "output_type": "stream",
     "text": [
      "gld_params: [0.04306883 0.02397463 0.36453358 0.13973725]\n",
      "wrapper([ 8.153e-03  2.352e-05 ...  9.241e-01  9.178e-01]) = -0.026722147988142615\n",
      "assembly_constraint_no_mean([ 8.153e-03  2.352e-05 ...  9.241e-01  9.178e-01]) = [ 1.000e-03  1.000e-03 ...  1.000e-03  1.000e-03]\n"
     ]
    },
    {
     "data": {
      "application/vnd.jupyter.widget-view+json": {
       "model_id": "f69bbfc528c849a680d18f7e133d79ac",
       "version_major": 2,
       "version_minor": 0
      },
      "text/plain": [
       "  0%|          | 0/10000 [00:00<?, ?it/s]"
      ]
     },
     "metadata": {},
     "output_type": "display_data"
    },
    {
     "name": "stdout",
     "output_type": "stream",
     "text": [
      "gld_params: [0.04306879 0.02397467 0.36453472 0.13973735]\n",
      "wrapper([ 8.150e-03  3.313e-05 ...  9.240e-01  9.178e-01]) = -0.026722238492606916\n",
      "assembly_constraint_no_mean([ 8.150e-03  3.313e-05 ...  9.240e-01  9.178e-01]) = [ 1.113e-03  1.131e-03 ...  8.591e-04  9.453e-04]\n"
     ]
    },
    {
     "data": {
      "application/vnd.jupyter.widget-view+json": {
       "model_id": "6a17fa71464b4f6782586e78eed02121",
       "version_major": 2,
       "version_minor": 0
      },
      "text/plain": [
       "  0%|          | 0/10000 [00:00<?, ?it/s]"
      ]
     },
     "metadata": {},
     "output_type": "display_data"
    },
    {
     "name": "stdout",
     "output_type": "stream",
     "text": [
      "gld_params: [0.04306882 0.02397464 0.36453386 0.13973732]\n",
      "wrapper([ 8.168e-03  4.140e-05 ...  9.241e-01  9.178e-01]) = -0.02672216492192883\n",
      "assembly_constraint_no_mean([ 8.168e-03  4.140e-05 ...  9.241e-01  9.178e-01]) = [ 1.000e-03  1.000e-03 ...  1.000e-03  1.000e-03]\n"
     ]
    },
    {
     "data": {
      "application/vnd.jupyter.widget-view+json": {
       "model_id": "8e907f48b7c247cb94944cea4fd6b1e5",
       "version_major": 2,
       "version_minor": 0
      },
      "text/plain": [
       "  0%|          | 0/10000 [00:00<?, ?it/s]"
      ]
     },
     "metadata": {},
     "output_type": "display_data"
    },
    {
     "name": "stdout",
     "output_type": "stream",
     "text": [
      "gld_params: [0.04306898 0.02397457 0.36453358 0.13973742]\n",
      "wrapper([ 8.188e-03  2.315e-05 ...  9.241e-01  9.178e-01]) = -0.026721414217117042\n",
      "assembly_constraint_no_mean([ 8.188e-03  2.315e-05 ...  9.241e-01  9.178e-01]) = [ 9.200e-04  9.260e-04 ...  9.172e-04  9.257e-04]\n"
     ]
    },
    {
     "data": {
      "application/vnd.jupyter.widget-view+json": {
       "model_id": "1bc906b255af46f8ba90847e2837ea28",
       "version_major": 2,
       "version_minor": 0
      },
      "text/plain": [
       "  0%|          | 0/10000 [00:00<?, ?it/s]"
      ]
     },
     "metadata": {},
     "output_type": "display_data"
    },
    {
     "name": "stdout",
     "output_type": "stream",
     "text": [
      "gld_params: [0.04306883 0.02397462 0.36453297 0.13973748]\n",
      "wrapper([ 8.177e-03  4.945e-05 ...  9.241e-01  9.178e-01]) = -0.02672216418996492\n",
      "assembly_constraint_no_mean([ 8.177e-03  4.945e-05 ...  9.241e-01  9.178e-01]) = [ 1.000e-03  1.000e-03 ...  1.000e-03  1.000e-03]\n"
     ]
    },
    {
     "data": {
      "application/vnd.jupyter.widget-view+json": {
       "model_id": "48276d9742ad479f8459a0f9ab1200b3",
       "version_major": 2,
       "version_minor": 0
      },
      "text/plain": [
       "  0%|          | 0/10000 [00:00<?, ?it/s]"
      ]
     },
     "metadata": {},
     "output_type": "display_data"
    },
    {
     "name": "stdout",
     "output_type": "stream",
     "text": [
      "gld_params: [0.0430689  0.02397469 0.3645336  0.1397392 ]\n",
      "wrapper([ 8.160e-03  3.646e-05 ...  9.241e-01  9.178e-01]) = -0.02672185895862575\n",
      "assembly_constraint_no_mean([ 8.160e-03  3.646e-05 ...  9.241e-01  9.178e-01]) = [ 7.141e-04  9.594e-04 ...  1.170e-03  1.001e-03]\n"
     ]
    },
    {
     "data": {
      "application/vnd.jupyter.widget-view+json": {
       "model_id": "9fe5d35c21cb4b1a8b975e2dd64f4d26",
       "version_major": 2,
       "version_minor": 0
      },
      "text/plain": [
       "  0%|          | 0/10000 [00:00<?, ?it/s]"
      ]
     },
     "metadata": {},
     "output_type": "display_data"
    },
    {
     "name": "stdout",
     "output_type": "stream",
     "text": [
      "gld_params: [0.04306882 0.02397465 0.36453347 0.13973789]\n",
      "wrapper([ 8.184e-03  4.698e-05 ...  9.241e-01  9.178e-01]) = -0.02672216178731931\n",
      "assembly_constraint_no_mean([ 8.184e-03  4.698e-05 ...  9.241e-01  9.178e-01]) = [ 1.000e-03  1.000e-03 ...  1.000e-03  1.000e-03]\n"
     ]
    },
    {
     "data": {
      "application/vnd.jupyter.widget-view+json": {
       "model_id": "145cf58165cd4975b71b307cccc2321c",
       "version_major": 2,
       "version_minor": 0
      },
      "text/plain": [
       "  0%|          | 0/10000 [00:00<?, ?it/s]"
      ]
     },
     "metadata": {},
     "output_type": "display_data"
    },
    {
     "name": "stdout",
     "output_type": "stream",
     "text": [
      "gld_params: [0.04306886 0.0239746  0.36453267 0.1397373 ]\n",
      "wrapper([ 8.197e-03  2.528e-05 ...  9.240e-01  9.179e-01]) = -0.02672206294665203\n",
      "assembly_constraint_no_mean([ 8.197e-03  2.528e-05 ...  9.240e-01  9.179e-01]) = [ 8.949e-04  1.063e-03 ...  8.990e-04  9.126e-04]\n"
     ]
    },
    {
     "data": {
      "application/vnd.jupyter.widget-view+json": {
       "model_id": "a33a88f4fe4b4f408adf51fa7fe25dc8",
       "version_major": 2,
       "version_minor": 0
      },
      "text/plain": [
       "  0%|          | 0/10000 [00:00<?, ?it/s]"
      ]
     },
     "metadata": {},
     "output_type": "display_data"
    },
    {
     "name": "stdout",
     "output_type": "stream",
     "text": [
      "gld_params: [0.04306883 0.02397465 0.36453357 0.13973781]\n",
      "wrapper([ 8.161e-03  3.863e-05 ...  9.241e-01  9.178e-01]) = -0.026722156288188803\n",
      "assembly_constraint_no_mean([ 8.161e-03  3.863e-05 ...  9.241e-01  9.178e-01]) = [ 1.000e-03  1.000e-03 ...  1.000e-03  1.000e-03]\n"
     ]
    },
    {
     "data": {
      "application/vnd.jupyter.widget-view+json": {
       "model_id": "39b6f88d973147a1ad7e0b77f0fbf433",
       "version_major": 2,
       "version_minor": 0
      },
      "text/plain": [
       "  0%|          | 0/10000 [00:00<?, ?it/s]"
      ]
     },
     "metadata": {},
     "output_type": "display_data"
    },
    {
     "name": "stdout",
     "output_type": "stream",
     "text": [
      "gld_params: [0.04306888 0.02397462 0.36453373 0.13973831]\n",
      "wrapper([ 8.145e-03  0.000e+00 ...  9.241e-01  9.178e-01]) = -0.026721704760860124\n",
      "assembly_constraint_no_mean([ 8.145e-03  0.000e+00 ...  9.241e-01  9.178e-01]) = [ 9.285e-04  1.063e-03 ...  7.536e-04  1.026e-03]\n"
     ]
    },
    {
     "data": {
      "application/vnd.jupyter.widget-view+json": {
       "model_id": "f51c2fec09e243a9a7b83617fee8ca65",
       "version_major": 2,
       "version_minor": 0
      },
      "text/plain": [
       "  0%|          | 0/10000 [00:00<?, ?it/s]"
      ]
     },
     "metadata": {},
     "output_type": "display_data"
    },
    {
     "name": "stdout",
     "output_type": "stream",
     "text": [
      "gld_params: [0.04306881 0.02397463 0.364534   0.13973719]\n",
      "wrapper([ 8.157e-03  5.035e-05 ...  9.241e-01  9.178e-01]) = -0.0267221492700696\n",
      "assembly_constraint_no_mean([ 8.157e-03  5.035e-05 ...  9.241e-01  9.178e-01]) = [ 1.000e-03  1.000e-03 ...  1.000e-03  1.000e-03]\n"
     ]
    },
    {
     "data": {
      "application/vnd.jupyter.widget-view+json": {
       "model_id": "5a0c82f5a17b43ac80ce7cb45fc7df0e",
       "version_major": 2,
       "version_minor": 0
      },
      "text/plain": [
       "  0%|          | 0/10000 [00:00<?, ?it/s]"
      ]
     },
     "metadata": {},
     "output_type": "display_data"
    },
    {
     "name": "stdout",
     "output_type": "stream",
     "text": [
      "gld_params: [0.04306878 0.02397466 0.36453443 0.13973784]\n",
      "wrapper([ 8.166e-03  5.465e-05 ...  9.241e-01  9.179e-01]) = -0.026722175167852854\n",
      "assembly_constraint_no_mean([ 8.166e-03  5.465e-05 ...  9.241e-01  9.179e-01]) = [ 1.011e-03  1.151e-03 ...  8.406e-04  1.119e-03]\n"
     ]
    },
    {
     "data": {
      "application/vnd.jupyter.widget-view+json": {
       "model_id": "6a96d2efd0f34e8ebaa51f80ef8a0ad9",
       "version_major": 2,
       "version_minor": 0
      },
      "text/plain": [
       "  0%|          | 0/10000 [00:00<?, ?it/s]"
      ]
     },
     "metadata": {},
     "output_type": "display_data"
    },
    {
     "name": "stdout",
     "output_type": "stream",
     "text": [
      "gld_params: [0.04306886 0.02397462 0.36453265 0.13973758]\n",
      "wrapper([ 8.163e-03  9.623e-06 ...  9.241e-01  9.178e-01]) = -0.02672214391822685\n",
      "assembly_constraint_no_mean([ 8.163e-03  9.623e-06 ...  9.241e-01  9.178e-01]) = [ 1.000e-03  1.000e-03 ...  1.000e-03  1.000e-03]\n",
      "\n",
      "The lower bound for the trust-region radius has been reached.\n",
      "Number of function evaluations: 546.\n",
      "Number of iterations: 268.\n",
      "Least value of wrapper: -0.026722162829148927.\n",
      "Maximum constraint violation: 1.409923759318997e-07.\n",
      "Corresponding point: [ 8.187e-03  4.379e-05 ...  9.241e-01  9.178e-01].\n",
      "Maximization Result with COBYQA:\n",
      " message: The lower bound for the trust-region radius has been reached\n",
      " success: False\n",
      "  status: 0\n",
      "     fun: -0.026722162829148927\n",
      "       x: [ 8.187e-03  4.379e-05 ...  9.241e-01  9.178e-01]\n",
      "     nit: 268\n",
      "   maxcv: 1.409923759318997e-07\n",
      "    nfev: 546\n"
     ]
    }
   ],
   "source": [
    "# Initial guess\n",
    "x0_maxi = [0.5] * RandDeviationVect.getDimension()  # Initial guess\n",
    "\n",
    "# Perform the local optimization using COBYQA directly\n",
    "res_maxi = minimize(\n",
    "    optimization_function_maxi, \n",
    "    x0_maxi, \n",
    "    method=\"COBYQA\", \n",
    "    jac=None, \n",
    "    bounds=Bounds(0.0, 1.0, keep_feasible=True),\n",
    "    constraints = nonLinearConstraint,\n",
    "    options={\n",
    "        \"f_target\": -0.1, \n",
    "        \"maxiter\": 1000,\n",
    "        \"maxfev\": 4000,\n",
    "        \"feasibility_tol\": 1e-9,\n",
    "        \"initial_tr_radius\": np.sqrt(2*32),\n",
    "        \"final_tr_radius\": 1e-6,\n",
    "        \"disp\": True,\n",
    "        \"scale\": False #True\n",
    "    }\n",
    ")\n",
    "\n",
    "print(\"Maximization Result with COBYQA:\")\n",
    "print(res_maxi)"
   ]
  },
  {
   "cell_type": "markdown",
   "id": "2407fdfa-f80d-46ae-9a47-36c7d99c61df",
   "metadata": {},
   "source": [
    "#### Optimization to find the minimal probability of failure "
   ]
  },
  {
   "cell_type": "code",
   "execution_count": 20,
   "id": "e8bd6dbb-f38e-4034-97f8-1caabfb44a3f",
   "metadata": {
    "scrolled": true
   },
   "outputs": [
    {
     "name": "stdout",
     "output_type": "stream",
     "text": [
      "Starting the optimization procedure.\n",
      "Initial trust-region radius: 8.0.\n",
      "Final trust-region radius: 0.0001.\n",
      "Maximum number of function evaluations: 4000.\n",
      "Maximum number of iterations: 1000.\n",
      "\n"
     ]
    },
    {
     "data": {
      "application/vnd.jupyter.widget-view+json": {
       "model_id": "6a4377ba6481475c9556a50e6da36cd4",
       "version_major": 2,
       "version_minor": 0
      },
      "text/plain": [
       "  0%|          | 0/10000 [00:00<?, ?it/s]"
      ]
     },
     "metadata": {},
     "output_type": "display_data"
    },
    {
     "name": "stdout",
     "output_type": "stream",
     "text": [
      "gld_params: [0.05431317 0.01555498 0.36360562 0.12422729]\n",
      "wrapper([ 5.000e-01  5.000e-01 ...  5.000e-01  5.000e-01]) = 9.881047135480592e-05\n",
      "assembly_constraint_no_mean([ 5.000e-01  5.000e-01 ...  5.000e-01  5.000e-01]) = [-2.326e+00 -2.326e+00 ... -2.326e+00 -2.326e+00]\n"
     ]
    },
    {
     "data": {
      "application/vnd.jupyter.widget-view+json": {
       "model_id": "86db59f8c5ef4af7b6ed7d0a6a0f8a32",
       "version_major": 2,
       "version_minor": 0
      },
      "text/plain": [
       "  0%|          | 0/10000 [00:00<?, ?it/s]"
      ]
     },
     "metadata": {},
     "output_type": "display_data"
    },
    {
     "name": "stdout",
     "output_type": "stream",
     "text": [
      "gld_params: [0.05396769 0.01552844 0.36718603 0.12450761]\n",
      "wrapper([ 1.000e+00  5.000e-01 ...  5.000e-01  5.000e-01]) = 9.520831025319645e-05\n",
      "assembly_constraint_no_mean([ 1.000e+00  5.000e-01 ...  5.000e-01  5.000e-01]) = [ 5.856e-01 -2.326e+00 ... -2.326e+00 -2.326e+00]\n"
     ]
    },
    {
     "data": {
      "application/vnd.jupyter.widget-view+json": {
       "model_id": "208c54f9fa5947dd8db561943436bf7b",
       "version_major": 2,
       "version_minor": 0
      },
      "text/plain": [
       "  0%|          | 0/10000 [00:00<?, ?it/s]"
      ]
     },
     "metadata": {},
     "output_type": "display_data"
    },
    {
     "name": "stdout",
     "output_type": "stream",
     "text": [
      "gld_params: [0.05397891 0.01549472 0.36667786 0.12284383]\n",
      "wrapper([ 5.000e-01  1.000e+00 ...  5.000e-01  5.000e-01]) = 0.00010362997544048794\n",
      "assembly_constraint_no_mean([ 5.000e-01  1.000e+00 ...  5.000e-01  5.000e-01]) = [ 5.893e-01 -2.326e+00 ... -2.326e+00 -2.326e+00]\n"
     ]
    },
    {
     "data": {
      "application/vnd.jupyter.widget-view+json": {
       "model_id": "196532ace0b84afda4b4cac930d2788b",
       "version_major": 2,
       "version_minor": 0
      },
      "text/plain": [
       "  0%|          | 0/10000 [00:00<?, ?it/s]"
      ]
     },
     "metadata": {},
     "output_type": "display_data"
    },
    {
     "name": "stdout",
     "output_type": "stream",
     "text": [
      "gld_params: [0.05348964 0.01605819 0.35070008 0.10891362]\n",
      "wrapper([ 5.000e-01  5.000e-01 ...  5.000e-01  5.000e-01]) = 0.0005460626341353839\n",
      "assembly_constraint_no_mean([ 5.000e-01  5.000e-01 ...  5.000e-01  5.000e-01]) = [ 5.869e-01 -2.326e+00 ... -2.326e+00 -2.326e+00]\n"
     ]
    },
    {
     "data": {
      "application/vnd.jupyter.widget-view+json": {
       "model_id": "0409c574f90640cdbec335bd33f9991a",
       "version_major": 2,
       "version_minor": 0
      },
      "text/plain": [
       "  0%|          | 0/10000 [00:00<?, ?it/s]"
      ]
     },
     "metadata": {},
     "output_type": "display_data"
    },
    {
     "name": "stdout",
     "output_type": "stream",
     "text": [
      "gld_params: [0.05351268 0.01605045 0.3504794  0.10898383]\n",
      "wrapper([ 5.000e-01  5.000e-01 ...  5.000e-01  5.000e-01]) = 0.0005406279390429969\n",
      "assembly_constraint_no_mean([ 5.000e-01  5.000e-01 ...  5.000e-01  5.000e-01]) = [ 5.899e-01 -2.326e+00 ... -2.326e+00 -2.326e+00]\n"
     ]
    },
    {
     "data": {
      "application/vnd.jupyter.widget-view+json": {
       "model_id": "4bb60f803ec644d28f69e38c0079bc89",
       "version_major": 2,
       "version_minor": 0
      },
      "text/plain": [
       "  0%|          | 0/10000 [00:00<?, ?it/s]"
      ]
     },
     "metadata": {},
     "output_type": "display_data"
    },
    {
     "name": "stdout",
     "output_type": "stream",
     "text": [
      "gld_params: [0.05401219 0.01554959 0.36579527 0.12568091]\n",
      "wrapper([ 5.000e-01  5.000e-01 ...  5.000e-01  5.000e-01]) = 9.262884049902561e-05\n",
      "assembly_constraint_no_mean([ 5.000e-01  5.000e-01 ...  5.000e-01  5.000e-01]) = [-2.326e+00  5.856e-01 ... -2.326e+00 -2.326e+00]\n"
     ]
    },
    {
     "data": {
      "application/vnd.jupyter.widget-view+json": {
       "model_id": "f090786b09bc49a1b63935908520cb4f",
       "version_major": 2,
       "version_minor": 0
      },
      "text/plain": [
       "  0%|          | 0/10000 [00:00<?, ?it/s]"
      ]
     },
     "metadata": {},
     "output_type": "display_data"
    },
    {
     "name": "stdout",
     "output_type": "stream",
     "text": [
      "gld_params: [0.05397442 0.01552338 0.36686899 0.12433345]\n",
      "wrapper([ 5.000e-01  5.000e-01 ...  5.000e-01  5.000e-01]) = 9.692831984882363e-05\n",
      "assembly_constraint_no_mean([ 5.000e-01  5.000e-01 ...  5.000e-01  5.000e-01]) = [-2.326e+00  5.893e-01 ... -2.326e+00 -2.326e+00]\n"
     ]
    },
    {
     "data": {
      "application/vnd.jupyter.widget-view+json": {
       "model_id": "9a6fb632dc804d24aad02e72d561d6b6",
       "version_major": 2,
       "version_minor": 0
      },
      "text/plain": [
       "  0%|          | 0/10000 [00:00<?, ?it/s]"
      ]
     },
     "metadata": {},
     "output_type": "display_data"
    },
    {
     "name": "stdout",
     "output_type": "stream",
     "text": [
      "gld_params: [0.05351353 0.01601651 0.35005873 0.106925  ]\n",
      "wrapper([ 5.000e-01  5.000e-01 ...  5.000e-01  5.000e-01]) = 0.000573699738651373\n",
      "assembly_constraint_no_mean([ 5.000e-01  5.000e-01 ...  5.000e-01  5.000e-01]) = [-2.326e+00  5.869e-01 ... -2.326e+00 -2.326e+00]\n"
     ]
    },
    {
     "data": {
      "application/vnd.jupyter.widget-view+json": {
       "model_id": "3dfdccf249d14f7e8ea2427122fefb6f",
       "version_major": 2,
       "version_minor": 0
      },
      "text/plain": [
       "  0%|          | 0/10000 [00:00<?, ?it/s]"
      ]
     },
     "metadata": {},
     "output_type": "display_data"
    },
    {
     "name": "stdout",
     "output_type": "stream",
     "text": [
      "gld_params: [0.05354238 0.01602072 0.34847014 0.10893578]\n",
      "wrapper([ 5.000e-01  5.000e-01 ...  5.000e-01  5.000e-01]) = 0.0005463059783187762\n",
      "assembly_constraint_no_mean([ 5.000e-01  5.000e-01 ...  5.000e-01  5.000e-01]) = [-2.326e+00  5.899e-01 ... -2.326e+00 -2.326e+00]\n"
     ]
    },
    {
     "data": {
      "application/vnd.jupyter.widget-view+json": {
       "model_id": "56ccf8099a534b9ea557edd925b21466",
       "version_major": 2,
       "version_minor": 0
      },
      "text/plain": [
       "  0%|          | 0/10000 [00:00<?, ?it/s]"
      ]
     },
     "metadata": {},
     "output_type": "display_data"
    },
    {
     "name": "stdout",
     "output_type": "stream",
     "text": [
      "gld_params: [0.05399196 0.01551649 0.36614886 0.12438949]\n",
      "wrapper([ 5.000e-01  5.000e-01 ...  5.000e-01  5.000e-01]) = 9.715784861336135e-05\n",
      "assembly_constraint_no_mean([ 5.000e-01  5.000e-01 ...  5.000e-01  5.000e-01]) = [-2.326e+00 -2.326e+00 ... -2.326e+00 -2.326e+00]\n"
     ]
    },
    {
     "data": {
      "application/vnd.jupyter.widget-view+json": {
       "model_id": "46d7a2b89fa44ae280061da0e6a9d7a1",
       "version_major": 2,
       "version_minor": 0
      },
      "text/plain": [
       "  0%|          | 0/10000 [00:00<?, ?it/s]"
      ]
     },
     "metadata": {},
     "output_type": "display_data"
    },
    {
     "name": "stdout",
     "output_type": "stream",
     "text": [
      "gld_params: [0.05397606 0.01550722 0.3667415  0.12403132]\n",
      "wrapper([ 5.000e-01  5.000e-01 ...  5.000e-01  5.000e-01]) = 9.731200691971677e-05\n",
      "assembly_constraint_no_mean([ 5.000e-01  5.000e-01 ...  5.000e-01  5.000e-01]) = [-2.326e+00 -2.326e+00 ... -2.326e+00 -2.326e+00]\n"
     ]
    },
    {
     "data": {
      "application/vnd.jupyter.widget-view+json": {
       "model_id": "3fb954b42ad34b94a0bd605bb4edd206",
       "version_major": 2,
       "version_minor": 0
      },
      "text/plain": [
       "  0%|          | 0/10000 [00:00<?, ?it/s]"
      ]
     },
     "metadata": {},
     "output_type": "display_data"
    },
    {
     "name": "stdout",
     "output_type": "stream",
     "text": [
      "gld_params: [0.05354946 0.01601898 0.34751717 0.10901006]\n",
      "wrapper([ 5.000e-01  5.000e-01 ...  5.000e-01  5.000e-01]) = 0.000553067692051939\n",
      "assembly_constraint_no_mean([ 5.000e-01  5.000e-01 ...  5.000e-01  5.000e-01]) = [-2.326e+00 -2.326e+00 ... -2.326e+00 -2.326e+00]\n"
     ]
    },
    {
     "data": {
      "application/vnd.jupyter.widget-view+json": {
       "model_id": "a9f0f910cddd404097c071863ac597f8",
       "version_major": 2,
       "version_minor": 0
      },
      "text/plain": [
       "  0%|          | 0/10000 [00:00<?, ?it/s]"
      ]
     },
     "metadata": {},
     "output_type": "display_data"
    },
    {
     "name": "stdout",
     "output_type": "stream",
     "text": [
      "gld_params: [0.05360037 0.01609447 0.34698752 0.1112718 ]\n",
      "wrapper([ 5.000e-01  5.000e-01 ...  5.000e-01  5.000e-01]) = 0.0005341242508996261\n",
      "assembly_constraint_no_mean([ 5.000e-01  5.000e-01 ...  5.000e-01  5.000e-01]) = [-2.326e+00 -2.326e+00 ... -2.326e+00 -2.326e+00]\n"
     ]
    },
    {
     "data": {
      "application/vnd.jupyter.widget-view+json": {
       "model_id": "047748fd53494ceda25dc3a1236feb42",
       "version_major": 2,
       "version_minor": 0
      },
      "text/plain": [
       "  0%|          | 0/10000 [00:00<?, ?it/s]"
      ]
     },
     "metadata": {},
     "output_type": "display_data"
    },
    {
     "name": "stdout",
     "output_type": "stream",
     "text": [
      "gld_params: [0.05401284 0.01551329 0.36537827 0.12404793]\n",
      "wrapper([ 5.000e-01  5.000e-01 ...  5.000e-01  5.000e-01]) = 0.00010251591721051291\n",
      "assembly_constraint_no_mean([ 5.000e-01  5.000e-01 ...  5.000e-01  5.000e-01]) = [-2.326e+00 -2.326e+00 ... -2.326e+00 -2.326e+00]\n"
     ]
    },
    {
     "data": {
      "application/vnd.jupyter.widget-view+json": {
       "model_id": "a59f418197f94667910ebf3202496a87",
       "version_major": 2,
       "version_minor": 0
      },
      "text/plain": [
       "  0%|          | 0/10000 [00:00<?, ?it/s]"
      ]
     },
     "metadata": {},
     "output_type": "display_data"
    },
    {
     "name": "stdout",
     "output_type": "stream",
     "text": [
      "gld_params: [0.05399118 0.01552538 0.36622686 0.12497179]\n",
      "wrapper([ 5.000e-01  5.000e-01 ...  5.000e-01  5.000e-01]) = 9.397279029993255e-05\n",
      "assembly_constraint_no_mean([ 5.000e-01  5.000e-01 ...  5.000e-01  5.000e-01]) = [-2.326e+00 -2.326e+00 ... -2.326e+00 -2.326e+00]\n"
     ]
    },
    {
     "data": {
      "application/vnd.jupyter.widget-view+json": {
       "model_id": "4ca1ad4b223843af8126259703962859",
       "version_major": 2,
       "version_minor": 0
      },
      "text/plain": [
       "  0%|          | 0/10000 [00:00<?, ?it/s]"
      ]
     },
     "metadata": {},
     "output_type": "display_data"
    },
    {
     "name": "stdout",
     "output_type": "stream",
     "text": [
      "gld_params: [0.05350371 0.01608154 0.3498131  0.10999996]\n",
      "wrapper([ 5.000e-01  5.000e-01 ...  5.000e-01  5.000e-01]) = 0.0005394502997526446\n",
      "assembly_constraint_no_mean([ 5.000e-01  5.000e-01 ...  5.000e-01  5.000e-01]) = [-2.326e+00 -2.326e+00 ... -2.326e+00 -2.326e+00]\n"
     ]
    },
    {
     "data": {
      "application/vnd.jupyter.widget-view+json": {
       "model_id": "7f4321c74f024aab9a4a10d0d768ca79",
       "version_major": 2,
       "version_minor": 0
      },
      "text/plain": [
       "  0%|          | 0/10000 [00:00<?, ?it/s]"
      ]
     },
     "metadata": {},
     "output_type": "display_data"
    },
    {
     "name": "stdout",
     "output_type": "stream",
     "text": [
      "gld_params: [0.05350809 0.01610698 0.34906749 0.11155387]\n",
      "wrapper([ 5.000e-01  5.000e-01 ...  5.000e-01  5.000e-01]) = 0.0005236039233289998\n",
      "assembly_constraint_no_mean([ 5.000e-01  5.000e-01 ...  5.000e-01  5.000e-01]) = [-2.326e+00 -2.326e+00 ... -2.326e+00 -2.326e+00]\n"
     ]
    },
    {
     "data": {
      "application/vnd.jupyter.widget-view+json": {
       "model_id": "9d6f6ed127c04285b8f63dc296d8dae5",
       "version_major": 2,
       "version_minor": 0
      },
      "text/plain": [
       "  0%|          | 0/10000 [00:00<?, ?it/s]"
      ]
     },
     "metadata": {},
     "output_type": "display_data"
    },
    {
     "name": "stdout",
     "output_type": "stream",
     "text": [
      "gld_params: [0.05403013 0.01556646 0.36498413 0.12656257]\n",
      "wrapper([ 5.000e-01  5.000e-01 ...  5.000e-01  5.000e-01]) = 9.048773961867717e-05\n",
      "assembly_constraint_no_mean([ 5.000e-01  5.000e-01 ...  5.000e-01  5.000e-01]) = [-2.326e+00 -2.326e+00 ... -2.326e+00 -2.326e+00]\n"
     ]
    },
    {
     "data": {
      "application/vnd.jupyter.widget-view+json": {
       "model_id": "5c9dbd4a183245268efca844abd54eae",
       "version_major": 2,
       "version_minor": 0
      },
      "text/plain": [
       "  0%|          | 0/10000 [00:00<?, ?it/s]"
      ]
     },
     "metadata": {},
     "output_type": "display_data"
    },
    {
     "name": "stdout",
     "output_type": "stream",
     "text": [
      "gld_params: [0.05398752 0.01554078 0.36638593 0.12472181]\n",
      "wrapper([ 5.000e-01  5.000e-01 ...  5.000e-01  5.000e-01]) = 9.719475797302514e-05\n",
      "assembly_constraint_no_mean([ 5.000e-01  5.000e-01 ...  5.000e-01  5.000e-01]) = [-2.326e+00 -2.326e+00 ... -2.326e+00 -2.326e+00]\n"
     ]
    },
    {
     "data": {
      "application/vnd.jupyter.widget-view+json": {
       "model_id": "3f636534f26a454596f7add41815b7db",
       "version_major": 2,
       "version_minor": 0
      },
      "text/plain": [
       "  0%|          | 0/10000 [00:00<?, ?it/s]"
      ]
     },
     "metadata": {},
     "output_type": "display_data"
    },
    {
     "name": "stdout",
     "output_type": "stream",
     "text": [
      "gld_params: [0.05355815 0.01614803 0.34837203 0.11358062]\n",
      "wrapper([ 5.000e-01  5.000e-01 ...  5.000e-01  5.000e-01]) = 0.0005010862362380569\n",
      "assembly_constraint_no_mean([ 5.000e-01  5.000e-01 ...  5.000e-01  5.000e-01]) = [-2.326e+00 -2.326e+00 ... -2.326e+00 -2.326e+00]\n"
     ]
    },
    {
     "data": {
      "application/vnd.jupyter.widget-view+json": {
       "model_id": "55dcaeb512864fcfa49c3b92f784f9eb",
       "version_major": 2,
       "version_minor": 0
      },
      "text/plain": [
       "  0%|          | 0/10000 [00:00<?, ?it/s]"
      ]
     },
     "metadata": {},
     "output_type": "display_data"
    },
    {
     "name": "stdout",
     "output_type": "stream",
     "text": [
      "gld_params: [0.05354272 0.01600734 0.34877503 0.10708645]\n",
      "wrapper([ 5.000e-01  5.000e-01 ...  5.000e-01  5.000e-01]) = 0.0005762894342018199\n",
      "assembly_constraint_no_mean([ 5.000e-01  5.000e-01 ...  5.000e-01  5.000e-01]) = [-2.326e+00 -2.326e+00 ... -2.326e+00 -2.326e+00]\n"
     ]
    },
    {
     "data": {
      "application/vnd.jupyter.widget-view+json": {
       "model_id": "0e063192b9234e32b3fff1f0aede2add",
       "version_major": 2,
       "version_minor": 0
      },
      "text/plain": [
       "  0%|          | 0/10000 [00:00<?, ?it/s]"
      ]
     },
     "metadata": {},
     "output_type": "display_data"
    },
    {
     "name": "stdout",
     "output_type": "stream",
     "text": [
      "gld_params: [0.05401627 0.01553205 0.36553352 0.12477575]\n",
      "wrapper([ 5.000e-01  5.000e-01 ...  5.000e-01  5.000e-01]) = 9.72642579408675e-05\n",
      "assembly_constraint_no_mean([ 5.000e-01  5.000e-01 ...  5.000e-01  5.000e-01]) = [-2.326e+00 -2.326e+00 ... -2.326e+00 -2.326e+00]\n"
     ]
    },
    {
     "data": {
      "application/vnd.jupyter.widget-view+json": {
       "model_id": "eb190310886642f6837b903fbbce1768",
       "version_major": 2,
       "version_minor": 0
      },
      "text/plain": [
       "  0%|          | 0/10000 [00:00<?, ?it/s]"
      ]
     },
     "metadata": {},
     "output_type": "display_data"
    },
    {
     "name": "stdout",
     "output_type": "stream",
     "text": [
      "gld_params: [0.05400876 0.01550136 0.36545087 0.12410927]\n",
      "wrapper([ 5.000e-01  5.000e-01 ...  5.000e-01  5.000e-01]) = 9.839722075063033e-05\n",
      "assembly_constraint_no_mean([ 5.000e-01  5.000e-01 ...  5.000e-01  5.000e-01]) = [-2.326e+00 -2.326e+00 ... -2.326e+00 -2.326e+00]\n"
     ]
    },
    {
     "data": {
      "application/vnd.jupyter.widget-view+json": {
       "model_id": "7e944f6f53ef473480778a183fefca6a",
       "version_major": 2,
       "version_minor": 0
      },
      "text/plain": [
       "  0%|          | 0/10000 [00:00<?, ?it/s]"
      ]
     },
     "metadata": {},
     "output_type": "display_data"
    },
    {
     "name": "stdout",
     "output_type": "stream",
     "text": [
      "gld_params: [0.05350088 0.01603766 0.35003625 0.10904935]\n",
      "wrapper([ 5.000e-01  5.000e-01 ...  5.000e-01  5.000e-01]) = 0.0005399052138664023\n",
      "assembly_constraint_no_mean([ 5.000e-01  5.000e-01 ...  5.000e-01  5.000e-01]) = [-2.326e+00 -2.326e+00 ... -2.326e+00 -2.326e+00]\n"
     ]
    },
    {
     "data": {
      "application/vnd.jupyter.widget-view+json": {
       "model_id": "e00fe370ef3548ebb18f538de49a91d6",
       "version_major": 2,
       "version_minor": 0
      },
      "text/plain": [
       "  0%|          | 0/10000 [00:00<?, ?it/s]"
      ]
     },
     "metadata": {},
     "output_type": "display_data"
    },
    {
     "name": "stdout",
     "output_type": "stream",
     "text": [
      "gld_params: [0.05357688 0.01627859 0.34810954 0.11880248]\n",
      "wrapper([ 5.000e-01  5.000e-01 ...  5.000e-01  5.000e-01]) = 0.0004497705137308731\n",
      "assembly_constraint_no_mean([ 5.000e-01  5.000e-01 ...  5.000e-01  5.000e-01]) = [-2.326e+00 -2.326e+00 ... -2.326e+00 -2.326e+00]\n"
     ]
    },
    {
     "data": {
      "application/vnd.jupyter.widget-view+json": {
       "model_id": "455fa9ae01834b94886ed2e41e316182",
       "version_major": 2,
       "version_minor": 0
      },
      "text/plain": [
       "  0%|          | 0/10000 [00:00<?, ?it/s]"
      ]
     },
     "metadata": {},
     "output_type": "display_data"
    },
    {
     "name": "stdout",
     "output_type": "stream",
     "text": [
      "gld_params: [0.05400452 0.01553722 0.36551846 0.12513196]\n",
      "wrapper([ 5.000e-01  5.000e-01 ...  5.000e-01  5.000e-01]) = 9.544935383589011e-05\n",
      "assembly_constraint_no_mean([ 5.000e-01  5.000e-01 ...  5.000e-01  5.000e-01]) = [-2.326e+00 -2.326e+00 ...  5.856e-01 -2.326e+00]\n"
     ]
    },
    {
     "data": {
      "application/vnd.jupyter.widget-view+json": {
       "model_id": "efcbabc602ad4497b086f579398c904c",
       "version_major": 2,
       "version_minor": 0
      },
      "text/plain": [
       "  0%|          | 0/10000 [00:00<?, ?it/s]"
      ]
     },
     "metadata": {},
     "output_type": "display_data"
    },
    {
     "name": "stdout",
     "output_type": "stream",
     "text": [
      "gld_params: [0.05400291 0.01547822 0.36592514 0.1229371 ]\n",
      "wrapper([ 5.000e-01  5.000e-01 ...  5.000e-01  5.000e-01]) = 0.00010362997544048794\n",
      "assembly_constraint_no_mean([ 5.000e-01  5.000e-01 ...  5.000e-01  5.000e-01]) = [-2.326e+00 -2.326e+00 ...  5.893e-01 -2.326e+00]\n"
     ]
    },
    {
     "data": {
      "application/vnd.jupyter.widget-view+json": {
       "model_id": "651d82f3d3e8445291f0489077eddad2",
       "version_major": 2,
       "version_minor": 0
      },
      "text/plain": [
       "  0%|          | 0/10000 [00:00<?, ?it/s]"
      ]
     },
     "metadata": {},
     "output_type": "display_data"
    },
    {
     "name": "stdout",
     "output_type": "stream",
     "text": [
      "gld_params: [0.05359166 0.01605783 0.34701769 0.10967721]\n",
      "wrapper([ 5.000e-01  5.000e-01 ...  5.000e-01  5.000e-01]) = 0.0005547160849635957\n",
      "assembly_constraint_no_mean([ 5.000e-01  5.000e-01 ...  5.000e-01  5.000e-01]) = [-2.326e+00 -2.326e+00 ...  5.869e-01 -2.326e+00]\n"
     ]
    },
    {
     "data": {
      "application/vnd.jupyter.widget-view+json": {
       "model_id": "5e0ec33860224a389b18bd9beaf13790",
       "version_major": 2,
       "version_minor": 0
      },
      "text/plain": [
       "  0%|          | 0/10000 [00:00<?, ?it/s]"
      ]
     },
     "metadata": {},
     "output_type": "display_data"
    },
    {
     "name": "stdout",
     "output_type": "stream",
     "text": [
      "gld_params: [0.05363816 0.01621837 0.34575947 0.11683964]\n",
      "wrapper([ 5.000e-01  5.000e-01 ...  5.000e-01  5.000e-01]) = 0.0004772848358882542\n",
      "assembly_constraint_no_mean([ 5.000e-01  5.000e-01 ...  5.000e-01  5.000e-01]) = [-2.326e+00 -2.326e+00 ...  5.899e-01 -2.326e+00]\n"
     ]
    },
    {
     "data": {
      "application/vnd.jupyter.widget-view+json": {
       "model_id": "1e26392cd1be484f949f6e729ad5135e",
       "version_major": 2,
       "version_minor": 0
      },
      "text/plain": [
       "  0%|          | 0/10000 [00:00<?, ?it/s]"
      ]
     },
     "metadata": {},
     "output_type": "display_data"
    },
    {
     "name": "stdout",
     "output_type": "stream",
     "text": [
      "gld_params: [0.05400661 0.01556204 0.36632321 0.1259392 ]\n",
      "wrapper([ 5.000e-01  5.000e-01 ...  5.000e-01  5.000e-01]) = 9.112751980436104e-05\n",
      "assembly_constraint_no_mean([ 5.000e-01  5.000e-01 ...  5.000e-01  5.000e-01]) = [-2.326e+00 -2.326e+00 ... -2.326e+00  5.856e-01]\n"
     ]
    },
    {
     "data": {
      "application/vnd.jupyter.widget-view+json": {
       "model_id": "c3a57feb5e9545a09acd7d444c673993",
       "version_major": 2,
       "version_minor": 0
      },
      "text/plain": [
       "  0%|          | 0/10000 [00:00<?, ?it/s]"
      ]
     },
     "metadata": {},
     "output_type": "display_data"
    },
    {
     "name": "stdout",
     "output_type": "stream",
     "text": [
      "gld_params: [0.05399333 0.01552827 0.36614143 0.12443559]\n",
      "wrapper([ 5.000e-01  5.000e-01 ...  5.000e-01  5.000e-01]) = 9.798178864122365e-05\n",
      "assembly_constraint_no_mean([ 5.000e-01  5.000e-01 ...  5.000e-01  5.000e-01]) = [-2.326e+00 -2.326e+00 ... -2.326e+00  5.893e-01]\n"
     ]
    },
    {
     "data": {
      "application/vnd.jupyter.widget-view+json": {
       "model_id": "84219f5ba9c14832bdcc882eb95e27cf",
       "version_major": 2,
       "version_minor": 0
      },
      "text/plain": [
       "  0%|          | 0/10000 [00:00<?, ?it/s]"
      ]
     },
     "metadata": {},
     "output_type": "display_data"
    },
    {
     "name": "stdout",
     "output_type": "stream",
     "text": [
      "gld_params: [0.05343505 0.01593769 0.35158276 0.10544782]\n",
      "wrapper([ 5.000e-01  5.000e-01 ...  1.000e+00  5.000e-01]) = 0.0005693058519600218\n",
      "assembly_constraint_no_mean([ 5.000e-01  5.000e-01 ...  1.000e+00  5.000e-01]) = [-2.326e+00 -2.326e+00 ... -2.326e+00  5.869e-01]\n"
     ]
    },
    {
     "data": {
      "application/vnd.jupyter.widget-view+json": {
       "model_id": "f674cc9e44934985b716c55c7c1f1c63",
       "version_major": 2,
       "version_minor": 0
      },
      "text/plain": [
       "  0%|          | 0/10000 [00:00<?, ?it/s]"
      ]
     },
     "metadata": {},
     "output_type": "display_data"
    },
    {
     "name": "stdout",
     "output_type": "stream",
     "text": [
      "gld_params: [0.05353956 0.01610927 0.34883887 0.1124101 ]\n",
      "wrapper([ 5.000e-01  5.000e-01 ...  5.000e-01  1.000e+00]) = 0.0005080570025247677\n",
      "assembly_constraint_no_mean([ 5.000e-01  5.000e-01 ...  5.000e-01  1.000e+00]) = [-2.326e+00 -2.326e+00 ... -2.326e+00  5.899e-01]\n"
     ]
    },
    {
     "data": {
      "application/vnd.jupyter.widget-view+json": {
       "model_id": "04cec0fc13654f02b6a26590b15d7355",
       "version_major": 2,
       "version_minor": 0
      },
      "text/plain": [
       "  0%|          | 0/10000 [00:00<?, ?it/s]"
      ]
     },
     "metadata": {},
     "output_type": "display_data"
    },
    {
     "name": "stdout",
     "output_type": "stream",
     "text": [
      "gld_params: [0.05466075 0.01562912 0.35971019 0.1248984 ]\n",
      "wrapper([ 0.000e+00  5.000e-01 ...  5.000e-01  5.000e-01]) = 0.00010362997544048794\n",
      "assembly_constraint_no_mean([ 0.000e+00  5.000e-01 ...  5.000e-01  5.000e-01]) = [-3.183e+00 -2.326e+00 ... -2.326e+00 -2.326e+00]\n"
     ]
    },
    {
     "data": {
      "application/vnd.jupyter.widget-view+json": {
       "model_id": "32710e9107ed4c8fbb7437f49ef8ccd1",
       "version_major": 2,
       "version_minor": 0
      },
      "text/plain": [
       "  0%|          | 0/10000 [00:00<?, ?it/s]"
      ]
     },
     "metadata": {},
     "output_type": "display_data"
    },
    {
     "name": "stdout",
     "output_type": "stream",
     "text": [
      "gld_params: [0.05463662 0.01568357 0.36118167 0.12775089]\n",
      "wrapper([ 5.000e-01  0.000e+00 ...  5.000e-01  5.000e-01]) = 8.645903671724377e-05\n",
      "assembly_constraint_no_mean([ 5.000e-01  0.000e+00 ...  5.000e-01  5.000e-01]) = [-3.183e+00 -2.326e+00 ... -2.326e+00 -2.326e+00]\n"
     ]
    },
    {
     "data": {
      "application/vnd.jupyter.widget-view+json": {
       "model_id": "2aa252faff5141a693347948679a293b",
       "version_major": 2,
       "version_minor": 0
      },
      "text/plain": [
       "  0%|          | 0/10000 [00:00<?, ?it/s]"
      ]
     },
     "metadata": {},
     "output_type": "display_data"
    },
    {
     "name": "stdout",
     "output_type": "stream",
     "text": [
      "gld_params: [0.05578648 0.01539072 0.35177262 0.12493659]\n",
      "wrapper([ 5.000e-01  5.000e-01 ...  5.000e-01  5.000e-01]) = 6.610696135189609e-05\n",
      "assembly_constraint_no_mean([ 5.000e-01  5.000e-01 ...  5.000e-01  5.000e-01]) = [-3.183e+00 -2.326e+00 ... -2.326e+00 -2.326e+00]\n"
     ]
    },
    {
     "data": {
      "application/vnd.jupyter.widget-view+json": {
       "model_id": "45e70230c3784198a1de9df72c52e5d3",
       "version_major": 2,
       "version_minor": 0
      },
      "text/plain": [
       "  0%|          | 0/10000 [00:00<?, ?it/s]"
      ]
     },
     "metadata": {},
     "output_type": "display_data"
    },
    {
     "name": "stdout",
     "output_type": "stream",
     "text": [
      "gld_params: [0.05569254 0.01527228 0.35382763 0.11903668]\n",
      "wrapper([ 5.000e-01  5.000e-01 ...  5.000e-01  5.000e-01]) = 8.660063208078084e-05\n",
      "assembly_constraint_no_mean([ 5.000e-01  5.000e-01 ...  5.000e-01  5.000e-01]) = [-3.183e+00 -2.326e+00 ... -2.326e+00 -2.326e+00]\n"
     ]
    },
    {
     "data": {
      "application/vnd.jupyter.widget-view+json": {
       "model_id": "22843b1b54404e80bc2150b88f6489b5",
       "version_major": 2,
       "version_minor": 0
      },
      "text/plain": [
       "  0%|          | 0/10000 [00:00<?, ?it/s]"
      ]
     },
     "metadata": {},
     "output_type": "display_data"
    },
    {
     "name": "stdout",
     "output_type": "stream",
     "text": [
      "gld_params: [0.05458679 0.01559372 0.36217869 0.12324518]\n",
      "wrapper([ 5.000e-01  5.000e-01 ...  5.000e-01  5.000e-01]) = 0.00010696331036034356\n",
      "assembly_constraint_no_mean([ 5.000e-01  5.000e-01 ...  5.000e-01  5.000e-01]) = [-2.326e+00 -3.183e+00 ... -2.326e+00 -2.326e+00]\n"
     ]
    },
    {
     "data": {
      "application/vnd.jupyter.widget-view+json": {
       "model_id": "8a49b128e0884b8887b5130f9c3fe487",
       "version_major": 2,
       "version_minor": 0
      },
      "text/plain": [
       "  0%|          | 0/10000 [00:00<?, ?it/s]"
      ]
     },
     "metadata": {},
     "output_type": "display_data"
    },
    {
     "name": "stdout",
     "output_type": "stream",
     "text": [
      "gld_params: [0.05466189 0.01570294 0.36063443 0.12757267]\n",
      "wrapper([ 5.000e-01  5.000e-01 ...  5.000e-01  5.000e-01]) = 9.071565898275294e-05\n",
      "assembly_constraint_no_mean([ 5.000e-01  5.000e-01 ...  5.000e-01  5.000e-01]) = [-2.326e+00 -3.183e+00 ... -2.326e+00 -2.326e+00]\n"
     ]
    },
    {
     "data": {
      "application/vnd.jupyter.widget-view+json": {
       "model_id": "2f588f760fd84eb08447044616c1ccb4",
       "version_major": 2,
       "version_minor": 0
      },
      "text/plain": [
       "  0%|          | 0/10000 [00:00<?, ?it/s]"
      ]
     },
     "metadata": {},
     "output_type": "display_data"
    },
    {
     "name": "stdout",
     "output_type": "stream",
     "text": [
      "gld_params: [0.05566444 0.0152597  0.35524509 0.12030608]\n",
      "wrapper([ 5.000e-01  5.000e-01 ...  5.000e-01  5.000e-01]) = 7.483400122127556e-05\n",
      "assembly_constraint_no_mean([ 5.000e-01  5.000e-01 ...  5.000e-01  5.000e-01]) = [-2.326e+00 -3.183e+00 ... -2.326e+00 -2.326e+00]\n"
     ]
    },
    {
     "data": {
      "application/vnd.jupyter.widget-view+json": {
       "model_id": "7db796cd73054b4891963559632496e8",
       "version_major": 2,
       "version_minor": 0
      },
      "text/plain": [
       "  0%|          | 0/10000 [00:00<?, ?it/s]"
      ]
     },
     "metadata": {},
     "output_type": "display_data"
    },
    {
     "name": "stdout",
     "output_type": "stream",
     "text": [
      "gld_params: [0.05566049 0.01524417 0.35520272 0.11783258]\n",
      "wrapper([ 5.000e-01  5.000e-01 ...  5.000e-01  5.000e-01]) = 8.649600411942413e-05\n",
      "assembly_constraint_no_mean([ 5.000e-01  5.000e-01 ...  5.000e-01  5.000e-01]) = [-2.326e+00 -3.183e+00 ... -2.326e+00 -2.326e+00]\n"
     ]
    },
    {
     "data": {
      "application/vnd.jupyter.widget-view+json": {
       "model_id": "4b172011e7fb4882b671936977942a2c",
       "version_major": 2,
       "version_minor": 0
      },
      "text/plain": [
       "  0%|          | 0/10000 [00:00<?, ?it/s]"
      ]
     },
     "metadata": {},
     "output_type": "display_data"
    },
    {
     "name": "stdout",
     "output_type": "stream",
     "text": [
      "gld_params: [0.05464152 0.01567822 0.36120019 0.12628289]\n",
      "wrapper([ 5.000e-01  5.000e-01 ...  5.000e-01  5.000e-01]) = 9.513119427740877e-05\n",
      "assembly_constraint_no_mean([ 5.000e-01  5.000e-01 ...  5.000e-01  5.000e-01]) = [-2.326e+00 -2.326e+00 ... -2.326e+00 -2.326e+00]\n"
     ]
    },
    {
     "data": {
      "application/vnd.jupyter.widget-view+json": {
       "model_id": "034bcd147cbf4cc9a55d6ab22a8cde2f",
       "version_major": 2,
       "version_minor": 0
      },
      "text/plain": [
       "  0%|          | 0/10000 [00:00<?, ?it/s]"
      ]
     },
     "metadata": {},
     "output_type": "display_data"
    },
    {
     "name": "stdout",
     "output_type": "stream",
     "text": [
      "gld_params: [0.05456499 0.01561599 0.36336053 0.12345634]\n",
      "wrapper([ 5.000e-01  5.000e-01 ...  5.000e-01  5.000e-01]) = 0.00010362997544048794\n",
      "assembly_constraint_no_mean([ 5.000e-01  5.000e-01 ...  5.000e-01  5.000e-01]) = [-2.326e+00 -2.326e+00 ... -2.326e+00 -2.326e+00]\n"
     ]
    },
    {
     "data": {
      "application/vnd.jupyter.widget-view+json": {
       "model_id": "854ca02d35f947df94d929086459fbf1",
       "version_major": 2,
       "version_minor": 0
      },
      "text/plain": [
       "  0%|          | 0/10000 [00:00<?, ?it/s]"
      ]
     },
     "metadata": {},
     "output_type": "display_data"
    },
    {
     "name": "stdout",
     "output_type": "stream",
     "text": [
      "gld_params: [0.05567828 0.01531006 0.35682169 0.11914426]\n",
      "wrapper([ 5.000e-01  5.000e-01 ...  5.000e-01  5.000e-01]) = 8.330948908841061e-05\n",
      "assembly_constraint_no_mean([ 5.000e-01  5.000e-01 ...  5.000e-01  5.000e-01]) = [-2.326e+00 -2.326e+00 ... -2.326e+00 -2.326e+00]\n"
     ]
    },
    {
     "data": {
      "application/vnd.jupyter.widget-view+json": {
       "model_id": "31a3375e16d44918ae63005cf36ba042",
       "version_major": 2,
       "version_minor": 0
      },
      "text/plain": [
       "  0%|          | 0/10000 [00:00<?, ?it/s]"
      ]
     },
     "metadata": {},
     "output_type": "display_data"
    },
    {
     "name": "stdout",
     "output_type": "stream",
     "text": [
      "gld_params: [0.05573216 0.01522508 0.35292955 0.11838611]\n",
      "wrapper([ 5.000e-01  5.000e-01 ...  5.000e-01  5.000e-01]) = 8.680688873715461e-05\n",
      "assembly_constraint_no_mean([ 5.000e-01  5.000e-01 ...  5.000e-01  5.000e-01]) = [-2.326e+00 -2.326e+00 ... -2.326e+00 -2.326e+00]\n"
     ]
    },
    {
     "data": {
      "application/vnd.jupyter.widget-view+json": {
       "model_id": "284b0292fdf94069a897c4973fd7d7cb",
       "version_major": 2,
       "version_minor": 0
      },
      "text/plain": [
       "  0%|          | 0/10000 [00:00<?, ?it/s]"
      ]
     },
     "metadata": {},
     "output_type": "display_data"
    },
    {
     "name": "stdout",
     "output_type": "stream",
     "text": [
      "gld_params: [0.05461108 0.01562034 0.36217515 0.12417937]\n",
      "wrapper([ 5.000e-01  5.000e-01 ...  5.000e-01  5.000e-01]) = 0.00010304903348212175\n",
      "assembly_constraint_no_mean([ 5.000e-01  5.000e-01 ...  5.000e-01  5.000e-01]) = [-2.326e+00 -2.326e+00 ... -2.326e+00 -2.326e+00]\n"
     ]
    },
    {
     "data": {
      "application/vnd.jupyter.widget-view+json": {
       "model_id": "accd7c657c29465e91709ab94e6f9878",
       "version_major": 2,
       "version_minor": 0
      },
      "text/plain": [
       "  0%|          | 0/10000 [00:00<?, ?it/s]"
      ]
     },
     "metadata": {},
     "output_type": "display_data"
    },
    {
     "name": "stdout",
     "output_type": "stream",
     "text": [
      "gld_params: [0.05457574 0.0156335  0.3630071  0.12399692]\n",
      "wrapper([ 5.000e-01  5.000e-01 ...  5.000e-01  5.000e-01]) = 0.00010362997544048794\n",
      "assembly_constraint_no_mean([ 5.000e-01  5.000e-01 ...  5.000e-01  5.000e-01]) = [-2.326e+00 -2.326e+00 ... -2.326e+00 -2.326e+00]\n"
     ]
    },
    {
     "data": {
      "application/vnd.jupyter.widget-view+json": {
       "model_id": "5f6c3c8aefb14f3b9162336677ab0f51",
       "version_major": 2,
       "version_minor": 0
      },
      "text/plain": [
       "  0%|          | 0/10000 [00:00<?, ?it/s]"
      ]
     },
     "metadata": {},
     "output_type": "display_data"
    },
    {
     "name": "stdout",
     "output_type": "stream",
     "text": [
      "gld_params: [0.05574805 0.01532251 0.35352636 0.12021107]\n",
      "wrapper([ 5.000e-01  5.000e-01 ...  5.000e-01  5.000e-01]) = 8.501410589630055e-05\n",
      "assembly_constraint_no_mean([ 5.000e-01  5.000e-01 ...  5.000e-01  5.000e-01]) = [-2.326e+00 -2.326e+00 ... -2.326e+00 -2.326e+00]\n"
     ]
    },
    {
     "data": {
      "application/vnd.jupyter.widget-view+json": {
       "model_id": "a40a674a58e7437c9acfe519880ea1ba",
       "version_major": 2,
       "version_minor": 0
      },
      "text/plain": [
       "  0%|          | 0/10000 [00:00<?, ?it/s]"
      ]
     },
     "metadata": {},
     "output_type": "display_data"
    },
    {
     "name": "stdout",
     "output_type": "stream",
     "text": [
      "gld_params: [0.05579669 0.01540685 0.35353053 0.12445204]\n",
      "wrapper([ 5.000e-01  5.000e-01 ...  5.000e-01  5.000e-01]) = 6.944029566575411e-05\n",
      "assembly_constraint_no_mean([ 5.000e-01  5.000e-01 ...  5.000e-01  5.000e-01]) = [-2.326e+00 -2.326e+00 ... -2.326e+00 -2.326e+00]\n"
     ]
    },
    {
     "data": {
      "application/vnd.jupyter.widget-view+json": {
       "model_id": "4738fa1206514d2796ba1c1086bf571e",
       "version_major": 2,
       "version_minor": 0
      },
      "text/plain": [
       "  0%|          | 0/10000 [00:00<?, ?it/s]"
      ]
     },
     "metadata": {},
     "output_type": "display_data"
    },
    {
     "name": "stdout",
     "output_type": "stream",
     "text": [
      "gld_params: [0.05458677 0.01556831 0.36262201 0.12183311]\n",
      "wrapper([ 5.000e-01  5.000e-01 ...  5.000e-01  5.000e-01]) = 0.00011210111754366526\n",
      "assembly_constraint_no_mean([ 5.000e-01  5.000e-01 ...  5.000e-01  5.000e-01]) = [-2.326e+00 -2.326e+00 ... -2.326e+00 -2.326e+00]\n"
     ]
    },
    {
     "data": {
      "application/vnd.jupyter.widget-view+json": {
       "model_id": "e5725132b59b40eea182cf61f711ce40",
       "version_major": 2,
       "version_minor": 0
      },
      "text/plain": [
       "  0%|          | 0/10000 [00:00<?, ?it/s]"
      ]
     },
     "metadata": {},
     "output_type": "display_data"
    },
    {
     "name": "stdout",
     "output_type": "stream",
     "text": [
      "gld_params: [0.05458737 0.01552521 0.36242604 0.12036612]\n",
      "wrapper([ 5.000e-01  5.000e-01 ...  5.000e-01  5.000e-01]) = 0.00011654273789279756\n",
      "assembly_constraint_no_mean([ 5.000e-01  5.000e-01 ...  5.000e-01  5.000e-01]) = [-2.326e+00 -2.326e+00 ... -2.326e+00 -2.326e+00]\n"
     ]
    },
    {
     "data": {
      "application/vnd.jupyter.widget-view+json": {
       "model_id": "b0ca5baed7254d2a97ac384e8f9deeaa",
       "version_major": 2,
       "version_minor": 0
      },
      "text/plain": [
       "  0%|          | 0/10000 [00:00<?, ?it/s]"
      ]
     },
     "metadata": {},
     "output_type": "display_data"
    },
    {
     "name": "stdout",
     "output_type": "stream",
     "text": [
      "gld_params: [0.05554684 0.01526217 0.35966498 0.11954111]\n",
      "wrapper([ 5.000e-01  5.000e-01 ...  5.000e-01  5.000e-01]) = 7.356740209052043e-05\n",
      "assembly_constraint_no_mean([ 5.000e-01  5.000e-01 ...  5.000e-01  5.000e-01]) = [-2.326e+00 -2.326e+00 ... -2.326e+00 -2.326e+00]\n"
     ]
    },
    {
     "data": {
      "application/vnd.jupyter.widget-view+json": {
       "model_id": "7076933c3c7a4f2e8b28e36ee9f80387",
       "version_major": 2,
       "version_minor": 0
      },
      "text/plain": [
       "  0%|          | 0/10000 [00:00<?, ?it/s]"
      ]
     },
     "metadata": {},
     "output_type": "display_data"
    },
    {
     "name": "stdout",
     "output_type": "stream",
     "text": [
      "gld_params: [0.05576116 0.01537444 0.35353508 0.12323322]\n",
      "wrapper([ 5.000e-01  5.000e-01 ...  5.000e-01  5.000e-01]) = 7.256373821593009e-05\n",
      "assembly_constraint_no_mean([ 5.000e-01  5.000e-01 ...  5.000e-01  5.000e-01]) = [-2.326e+00 -2.326e+00 ... -2.326e+00 -2.326e+00]\n"
     ]
    },
    {
     "data": {
      "application/vnd.jupyter.widget-view+json": {
       "model_id": "aa98636a11024b37920774c2b5d2d742",
       "version_major": 2,
       "version_minor": 0
      },
      "text/plain": [
       "  0%|          | 0/10000 [00:00<?, ?it/s]"
      ]
     },
     "metadata": {},
     "output_type": "display_data"
    },
    {
     "name": "stdout",
     "output_type": "stream",
     "text": [
      "gld_params: [0.05462285 0.01561028 0.36130124 0.12394612]\n",
      "wrapper([ 5.000e-01  5.000e-01 ...  5.000e-01  5.000e-01]) = 0.00010362997544048794\n",
      "assembly_constraint_no_mean([ 5.000e-01  5.000e-01 ...  5.000e-01  5.000e-01]) = [-2.326e+00 -2.326e+00 ... -2.326e+00 -2.326e+00]\n"
     ]
    },
    {
     "data": {
      "application/vnd.jupyter.widget-view+json": {
       "model_id": "ccc058d5e3ee4411a202db9d7b04a188",
       "version_major": 2,
       "version_minor": 0
      },
      "text/plain": [
       "  0%|          | 0/10000 [00:00<?, ?it/s]"
      ]
     },
     "metadata": {},
     "output_type": "display_data"
    },
    {
     "name": "stdout",
     "output_type": "stream",
     "text": [
      "gld_params: [0.05451221 0.01560411 0.3654229  0.12195743]\n",
      "wrapper([ 5.000e-01  5.000e-01 ...  5.000e-01  5.000e-01]) = 0.00011029664528019918\n",
      "assembly_constraint_no_mean([ 5.000e-01  5.000e-01 ...  5.000e-01  5.000e-01]) = [-2.326e+00 -2.326e+00 ... -2.326e+00 -2.326e+00]\n"
     ]
    },
    {
     "data": {
      "application/vnd.jupyter.widget-view+json": {
       "model_id": "348675d486044bcdb767fc66d6e79877",
       "version_major": 2,
       "version_minor": 0
      },
      "text/plain": [
       "  0%|          | 0/10000 [00:00<?, ?it/s]"
      ]
     },
     "metadata": {},
     "output_type": "display_data"
    },
    {
     "name": "stdout",
     "output_type": "stream",
     "text": [
      "gld_params: [0.05557638 0.01530841 0.35881996 0.12184543]\n",
      "wrapper([ 5.000e-01  5.000e-01 ...  5.000e-01  5.000e-01]) = 6.610696135189609e-05\n",
      "assembly_constraint_no_mean([ 5.000e-01  5.000e-01 ...  5.000e-01  5.000e-01]) = [-2.326e+00 -2.326e+00 ... -2.326e+00 -2.326e+00]\n"
     ]
    },
    {
     "data": {
      "application/vnd.jupyter.widget-view+json": {
       "model_id": "ddc9d3219a524fbb956874e7dbf2a9ab",
       "version_major": 2,
       "version_minor": 0
      },
      "text/plain": [
       "  0%|          | 0/10000 [00:00<?, ?it/s]"
      ]
     },
     "metadata": {},
     "output_type": "display_data"
    },
    {
     "name": "stdout",
     "output_type": "stream",
     "text": [
      "gld_params: [0.05571307 0.015396   0.35578683 0.12224424]\n",
      "wrapper([ 5.000e-01  5.000e-01 ...  5.000e-01  5.000e-01]) = 7.512112265962631e-05\n",
      "assembly_constraint_no_mean([ 5.000e-01  5.000e-01 ...  5.000e-01  5.000e-01]) = [-2.326e+00 -2.326e+00 ... -2.326e+00 -2.326e+00]\n"
     ]
    },
    {
     "data": {
      "application/vnd.jupyter.widget-view+json": {
       "model_id": "815245a1a2834ff8bd3b71f22f7bd1bf",
       "version_major": 2,
       "version_minor": 0
      },
      "text/plain": [
       "  0%|          | 0/10000 [00:00<?, ?it/s]"
      ]
     },
     "metadata": {},
     "output_type": "display_data"
    },
    {
     "name": "stdout",
     "output_type": "stream",
     "text": [
      "gld_params: [0.05462048 0.01566293 0.36212017 0.12518555]\n",
      "wrapper([ 5.000e-01  5.000e-01 ...  5.000e-01  5.000e-01]) = 9.883381970468033e-05\n",
      "assembly_constraint_no_mean([ 5.000e-01  5.000e-01 ...  5.000e-01  5.000e-01]) = [-2.326e+00 -2.326e+00 ... -3.183e+00 -2.326e+00]\n"
     ]
    },
    {
     "data": {
      "application/vnd.jupyter.widget-view+json": {
       "model_id": "f094979d769040a580834593a07bed73",
       "version_major": 2,
       "version_minor": 0
      },
      "text/plain": [
       "  0%|          | 0/10000 [00:00<?, ?it/s]"
      ]
     },
     "metadata": {},
     "output_type": "display_data"
    },
    {
     "name": "stdout",
     "output_type": "stream",
     "text": [
      "gld_params: [0.05459219 0.01566152 0.36243929 0.12561637]\n",
      "wrapper([ 5.000e-01  5.000e-01 ...  5.000e-01  5.000e-01]) = 9.568881578793422e-05\n",
      "assembly_constraint_no_mean([ 5.000e-01  5.000e-01 ...  5.000e-01  5.000e-01]) = [-2.326e+00 -2.326e+00 ... -3.183e+00 -2.326e+00]\n"
     ]
    },
    {
     "data": {
      "application/vnd.jupyter.widget-view+json": {
       "model_id": "96ed4f80677c4fbba03be7a8a034231f",
       "version_major": 2,
       "version_minor": 0
      },
      "text/plain": [
       "  0%|          | 0/10000 [00:00<?, ?it/s]"
      ]
     },
     "metadata": {},
     "output_type": "display_data"
    },
    {
     "name": "stdout",
     "output_type": "stream",
     "text": [
      "gld_params: [0.05565207 0.01522587 0.35743448 0.11820761]\n",
      "wrapper([ 5.000e-01  5.000e-01 ...  5.000e-01  5.000e-01]) = 8.166098795819532e-05\n",
      "assembly_constraint_no_mean([ 5.000e-01  5.000e-01 ...  5.000e-01  5.000e-01]) = [-2.326e+00 -2.326e+00 ... -3.183e+00 -2.326e+00]\n"
     ]
    },
    {
     "data": {
      "application/vnd.jupyter.widget-view+json": {
       "model_id": "6229a1d3f2e3459da59bdef3d163dd54",
       "version_major": 2,
       "version_minor": 0
      },
      "text/plain": [
       "  0%|          | 0/10000 [00:00<?, ?it/s]"
      ]
     },
     "metadata": {},
     "output_type": "display_data"
    },
    {
     "name": "stdout",
     "output_type": "stream",
     "text": [
      "gld_params: [0.05575237 0.0152934  0.35251605 0.12107724]\n",
      "wrapper([ 5.000e-01  5.000e-01 ...  5.000e-01  5.000e-01]) = 7.730247398936547e-05\n",
      "assembly_constraint_no_mean([ 5.000e-01  5.000e-01 ...  5.000e-01  5.000e-01]) = [-2.326e+00 -2.326e+00 ... -3.183e+00 -2.326e+00]\n"
     ]
    },
    {
     "data": {
      "application/vnd.jupyter.widget-view+json": {
       "model_id": "028af5e39aa74aa2878d30de68de5b85",
       "version_major": 2,
       "version_minor": 0
      },
      "text/plain": [
       "  0%|          | 0/10000 [00:00<?, ?it/s]"
      ]
     },
     "metadata": {},
     "output_type": "display_data"
    },
    {
     "name": "stdout",
     "output_type": "stream",
     "text": [
      "gld_params: [0.05462602 0.01559668 0.36054627 0.12375613]\n",
      "wrapper([ 5.000e-01  5.000e-01 ...  5.000e-01  5.000e-01]) = 0.00010696331036034356\n",
      "assembly_constraint_no_mean([ 5.000e-01  5.000e-01 ...  5.000e-01  5.000e-01]) = [-2.326e+00 -2.326e+00 ... -2.326e+00 -3.183e+00]\n"
     ]
    },
    {
     "data": {
      "application/vnd.jupyter.widget-view+json": {
       "model_id": "d697aed4a2fa4464920d460c1d5d7a69",
       "version_major": 2,
       "version_minor": 0
      },
      "text/plain": [
       "  0%|          | 0/10000 [00:00<?, ?it/s]"
      ]
     },
     "metadata": {},
     "output_type": "display_data"
    },
    {
     "name": "stdout",
     "output_type": "stream",
     "text": [
      "gld_params: [0.05462287 0.01568963 0.36167616 0.12716537]\n",
      "wrapper([ 5.000e-01  5.000e-01 ...  5.000e-01  5.000e-01]) = 9.032255688578299e-05\n",
      "assembly_constraint_no_mean([ 5.000e-01  5.000e-01 ...  5.000e-01  5.000e-01]) = [-2.326e+00 -2.326e+00 ... -2.326e+00 -3.183e+00]\n"
     ]
    },
    {
     "data": {
      "application/vnd.jupyter.widget-view+json": {
       "model_id": "e54051af9ca1493f934c50927e55e47f",
       "version_major": 2,
       "version_minor": 0
      },
      "text/plain": [
       "  0%|          | 0/10000 [00:00<?, ?it/s]"
      ]
     },
     "metadata": {},
     "output_type": "display_data"
    },
    {
     "name": "stdout",
     "output_type": "stream",
     "text": [
      "gld_params: [0.05568656 0.01540855 0.35702488 0.12467484]\n",
      "wrapper([ 5.000e-01  5.000e-01 ...  0.000e+00  5.000e-01]) = 6.277362703803806e-05\n",
      "assembly_constraint_no_mean([ 5.000e-01  5.000e-01 ...  0.000e+00  5.000e-01]) = [-2.326e+00 -2.326e+00 ... -2.326e+00 -3.183e+00]\n"
     ]
    },
    {
     "data": {
      "application/vnd.jupyter.widget-view+json": {
       "model_id": "9eaa1f3561a240e6be2eeffbfc2b320c",
       "version_major": 2,
       "version_minor": 0
      },
      "text/plain": [
       "  0%|          | 0/10000 [00:00<?, ?it/s]"
      ]
     },
     "metadata": {},
     "output_type": "display_data"
    },
    {
     "name": "stdout",
     "output_type": "stream",
     "text": [
      "gld_params: [0.05575661 0.0154287  0.35316983 0.12612898]\n",
      "wrapper([ 5.000e-01  5.000e-01 ...  5.000e-01  0.000e+00]) = 6.277362703803806e-05\n",
      "assembly_constraint_no_mean([ 5.000e-01  5.000e-01 ...  5.000e-01  0.000e+00]) = [-2.326e+00 -2.326e+00 ... -2.326e+00 -3.183e+00]\n"
     ]
    },
    {
     "data": {
      "application/vnd.jupyter.widget-view+json": {
       "model_id": "52c1009bd8dd42d6b790daaaef75aa52",
       "version_major": 2,
       "version_minor": 0
      },
      "text/plain": [
       "  0%|          | 0/10000 [00:00<?, ?it/s]"
      ]
     },
     "metadata": {},
     "output_type": "display_data"
    },
    {
     "name": "stdout",
     "output_type": "stream",
     "text": [
      "gld_params: [0.05261363 0.01556242 0.37267819 0.12512938]\n",
      "wrapper([ 6.324e-01  6.282e-01 ...  5.123e-01  5.259e-01]) = 0.00012745062573367633\n",
      "assembly_constraint_no_mean([ 6.324e-01  6.282e-01 ...  5.123e-01  5.259e-01]) = [-1.133e+00 -1.129e+00 ... -1.137e+00 -1.131e+00]\n"
     ]
    },
    {
     "data": {
      "application/vnd.jupyter.widget-view+json": {
       "model_id": "843352d88e264929b980b8fb5be70b0d",
       "version_major": 2,
       "version_minor": 0
      },
      "text/plain": [
       "  0%|          | 0/10000 [00:00<?, ?it/s]"
      ]
     },
     "metadata": {},
     "output_type": "display_data"
    },
    {
     "name": "stdout",
     "output_type": "stream",
     "text": [
      "gld_params: [0.05324719 0.01460279 0.38824061 0.12727381]\n",
      "wrapper([ 8.145e-01  8.031e-01 ...  4.405e-01  4.774e-01]) = 1.5605736664998876e-05\n",
      "assembly_constraint_no_mean([ 8.145e-01  8.031e-01 ...  4.405e-01  4.774e-01]) = [ 1.073e-01  1.191e-01 ...  9.172e-02  1.125e-01]\n"
     ]
    },
    {
     "data": {
      "application/vnd.jupyter.widget-view+json": {
       "model_id": "34998a0aacbe47d896b88cdd85d06048",
       "version_major": 2,
       "version_minor": 0
      },
      "text/plain": [
       "  0%|          | 0/10000 [00:00<?, ?it/s]"
      ]
     },
     "metadata": {},
     "output_type": "display_data"
    },
    {
     "name": "stdout",
     "output_type": "stream",
     "text": [
      "gld_params: [0.05540783 0.01368068 0.39603427 0.13191776]\n",
      "wrapper([ 1.000e+00  6.930e-01 ...  3.810e-01  3.866e-01]) = 5.9608609865491405e-06\n",
      "assembly_constraint_no_mean([ 1.000e+00  6.930e-01 ...  3.810e-01  3.866e-01]) = [ 4.638e-01  4.673e-01 ...  4.803e-01  4.573e-01]\n"
     ]
    },
    {
     "data": {
      "application/vnd.jupyter.widget-view+json": {
       "model_id": "522758d88e1b4758a2809d70d9c4c5e0",
       "version_major": 2,
       "version_minor": 0
      },
      "text/plain": [
       "  0%|          | 0/10000 [00:00<?, ?it/s]"
      ]
     },
     "metadata": {},
     "output_type": "display_data"
    },
    {
     "name": "stdout",
     "output_type": "stream",
     "text": [
      "gld_params: [0.0496107  0.01621238 0.37518961 0.12115761]\n",
      "wrapper([ 8.239e-01  8.211e-01 ...  5.682e-01  6.012e-01]) = 0.0005941293034824068\n",
      "assembly_constraint_no_mean([ 8.239e-01  8.211e-01 ...  5.682e-01  6.012e-01]) = [ 9.612e-01  9.926e-01 ...  9.355e-01  1.832e+00]\n"
     ]
    },
    {
     "data": {
      "application/vnd.jupyter.widget-view+json": {
       "model_id": "951dd7ad33094ebf90361ff43a32aab0",
       "version_major": 2,
       "version_minor": 0
      },
      "text/plain": [
       "  0%|          | 0/10000 [00:00<?, ?it/s]"
      ]
     },
     "metadata": {},
     "output_type": "display_data"
    },
    {
     "name": "stdout",
     "output_type": "stream",
     "text": [
      "gld_params: [0.05552494 0.01349955 0.39664338 0.12699859]\n",
      "wrapper([ 7.527e-01  9.345e-01 ...  3.710e-01  3.910e-01]) = 5.9608609865491405e-06\n",
      "assembly_constraint_no_mean([ 7.527e-01  9.345e-01 ...  3.710e-01  3.910e-01]) = [ 2.220e-01  2.880e-01 ...  2.041e-01  1.166e-01]\n"
     ]
    },
    {
     "data": {
      "application/vnd.jupyter.widget-view+json": {
       "model_id": "e6395f14b81e4e28ab1c0171248f6215",
       "version_major": 2,
       "version_minor": 0
      },
      "text/plain": [
       "  0%|          | 0/10000 [00:00<?, ?it/s]"
      ]
     },
     "metadata": {},
     "output_type": "display_data"
    },
    {
     "name": "stdout",
     "output_type": "stream",
     "text": [
      "gld_params: [0.05164952 0.01518441 0.38693653 0.12779889]\n",
      "wrapper([ 1.000e+00  9.419e-01 ...  4.433e-01  5.513e-01]) = 6.277362703803806e-05\n",
      "assembly_constraint_no_mean([ 1.000e+00  9.419e-01 ...  4.433e-01  5.513e-01]) = [ 1.790e+00  9.004e-01 ...  8.647e-01  7.483e-01]\n"
     ]
    },
    {
     "data": {
      "application/vnd.jupyter.widget-view+json": {
       "model_id": "52b63f9895794a628be92dd25ebef8e8",
       "version_major": 2,
       "version_minor": 0
      },
      "text/plain": [
       "  0%|          | 0/10000 [00:00<?, ?it/s]"
      ]
     },
     "metadata": {},
     "output_type": "display_data"
    },
    {
     "name": "stdout",
     "output_type": "stream",
     "text": [
      "gld_params: [0.05475707 0.01404064 0.38822589 0.12727738]\n",
      "wrapper([ 1.000e+00  7.450e-01 ...  3.664e-01  4.520e-01]) = 5.9608609865491405e-06\n",
      "assembly_constraint_no_mean([ 1.000e+00  7.450e-01 ...  3.664e-01  4.520e-01]) = [ 5.290e-01  8.975e-02 ...  4.908e-03 -1.353e-02]\n"
     ]
    },
    {
     "data": {
      "application/vnd.jupyter.widget-view+json": {
       "model_id": "01dfb0ffcbe14a11a475ef7356f87d7e",
       "version_major": 2,
       "version_minor": 0
      },
      "text/plain": [
       "  0%|          | 0/10000 [00:00<?, ?it/s]"
      ]
     },
     "metadata": {},
     "output_type": "display_data"
    },
    {
     "name": "stdout",
     "output_type": "stream",
     "text": [
      "gld_params: [0.05207318 0.01495293 0.38837401 0.12838339]\n",
      "wrapper([ 5.757e-01  8.041e-01 ...  4.692e-01  5.134e-01]) = 3.752301506911656e-05\n",
      "assembly_constraint_no_mean([ 5.757e-01  8.041e-01 ...  4.692e-01  5.134e-01]) = [-8.225e-01  8.500e-01 ...  8.883e-01  1.335e+00]\n"
     ]
    },
    {
     "data": {
      "application/vnd.jupyter.widget-view+json": {
       "model_id": "34126de1f6fa47ceb04a5765a700fe98",
       "version_major": 2,
       "version_minor": 0
      },
      "text/plain": [
       "  0%|          | 0/10000 [00:00<?, ?it/s]"
      ]
     },
     "metadata": {},
     "output_type": "display_data"
    },
    {
     "name": "stdout",
     "output_type": "stream",
     "text": [
      "gld_params: [0.05406195 0.01436177 0.3860585  0.12726609]\n",
      "wrapper([ 6.851e-01  9.662e-01 ...  3.916e-01  4.951e-01]) = 5.9608609865491405e-06\n",
      "assembly_constraint_no_mean([ 6.851e-01  9.662e-01 ...  3.916e-01  4.951e-01]) = [ 2.809e-01  2.979e-01 ... -1.060e-02 -1.110e-01]\n"
     ]
    },
    {
     "data": {
      "application/vnd.jupyter.widget-view+json": {
       "model_id": "3c94897aa7a54b05a19f483daf32548b",
       "version_major": 2,
       "version_minor": 0
      },
      "text/plain": [
       "  0%|          | 0/10000 [00:00<?, ?it/s]"
      ]
     },
     "metadata": {},
     "output_type": "display_data"
    },
    {
     "name": "stdout",
     "output_type": "stream",
     "text": [
      "gld_params: [0.052262   0.01492827 0.38821233 0.12837202]\n",
      "wrapper([ 8.055e-01  1.000e+00 ...  4.365e-01  5.361e-01]) = 3.36187068368919e-05\n",
      "assembly_constraint_no_mean([ 8.055e-01  1.000e+00 ...  4.365e-01  5.361e-01]) = [ 1.254e+00  8.649e-01 ...  8.554e-01  9.860e-01]\n"
     ]
    },
    {
     "data": {
      "application/vnd.jupyter.widget-view+json": {
       "model_id": "3272ba18f02d41e9a303a18476cbad62",
       "version_major": 2,
       "version_minor": 0
      },
      "text/plain": [
       "  0%|          | 0/10000 [00:00<?, ?it/s]"
      ]
     },
     "metadata": {},
     "output_type": "display_data"
    },
    {
     "name": "stdout",
     "output_type": "stream",
     "text": [
      "gld_params: [0.05397053 0.01433606 0.38906357 0.12914759]\n",
      "wrapper([ 6.026e-01  9.733e-01 ...  4.009e-01  4.905e-01]) = 5.9608609865491405e-06\n",
      "assembly_constraint_no_mean([ 6.026e-01  9.733e-01 ...  4.009e-01  4.905e-01]) = [ 3.190e-01  1.545e-02 ...  1.332e-01  2.804e-01]\n"
     ]
    },
    {
     "data": {
      "application/vnd.jupyter.widget-view+json": {
       "model_id": "d7a07f3e775449ff91ca73e6ff6c9ecd",
       "version_major": 2,
       "version_minor": 0
      },
      "text/plain": [
       "  0%|          | 0/10000 [00:00<?, ?it/s]"
      ]
     },
     "metadata": {},
     "output_type": "display_data"
    },
    {
     "name": "stdout",
     "output_type": "stream",
     "text": [
      "gld_params: [0.05226826 0.0148537  0.38952575 0.12721941]\n",
      "wrapper([ 8.627e-01  1.000e+00 ...  4.484e-01  5.222e-01]) = 2.9986971304222894e-05\n",
      "assembly_constraint_no_mean([ 8.627e-01  1.000e+00 ...  4.484e-01  5.222e-01]) = [ 1.478e+00  9.330e-01 ...  1.636e+00  1.012e+00]\n"
     ]
    },
    {
     "data": {
      "application/vnd.jupyter.widget-view+json": {
       "model_id": "820294126dd245568651963a6455dfe8",
       "version_major": 2,
       "version_minor": 0
      },
      "text/plain": [
       "  0%|          | 0/10000 [00:00<?, ?it/s]"
      ]
     },
     "metadata": {},
     "output_type": "display_data"
    },
    {
     "name": "stdout",
     "output_type": "stream",
     "text": [
      "gld_params: [0.05365624 0.01443259 0.39033429 0.12959795]\n",
      "wrapper([ 8.582e-01  7.802e-01 ...  3.932e-01  4.658e-01]) = 5.9608609865491405e-06\n",
      "assembly_constraint_no_mean([ 8.582e-01  7.802e-01 ...  3.932e-01  4.658e-01]) = [ 1.795e-01  9.807e-02 ...  5.310e-01  2.580e-01]\n"
     ]
    },
    {
     "data": {
      "application/vnd.jupyter.widget-view+json": {
       "model_id": "4a7fe7030906458e82bced8fea4b5451",
       "version_major": 2,
       "version_minor": 0
      },
      "text/plain": [
       "  0%|          | 0/10000 [00:00<?, ?it/s]"
      ]
     },
     "metadata": {},
     "output_type": "display_data"
    },
    {
     "name": "stdout",
     "output_type": "stream",
     "text": [
      "gld_params: [0.05342718 0.01449209 0.38889819 0.12833299]\n",
      "wrapper([ 1.000e+00  8.202e-01 ...  4.176e-01  4.483e-01]) = 9.644875678449738e-06\n",
      "assembly_constraint_no_mean([ 1.000e+00  8.202e-01 ...  4.176e-01  4.483e-01]) = [ 1.102e+00  1.094e-01 ... -1.105e+00  4.368e-01]\n"
     ]
    },
    {
     "data": {
      "application/vnd.jupyter.widget-view+json": {
       "model_id": "377f5b000a3844f2bc5cf110705e8f9e",
       "version_major": 2,
       "version_minor": 0
      },
      "text/plain": [
       "  0%|          | 0/10000 [00:00<?, ?it/s]"
      ]
     },
     "metadata": {},
     "output_type": "display_data"
    },
    {
     "name": "stdout",
     "output_type": "stream",
     "text": [
      "gld_params: [0.05401422 0.01426739 0.39118389 0.13013375]\n",
      "wrapper([ 8.672e-01  8.318e-01 ...  4.040e-01  4.713e-01]) = 5.9608609865491405e-06\n",
      "assembly_constraint_no_mean([ 8.672e-01  8.318e-01 ...  4.040e-01  4.713e-01]) = [ 2.009e-01  1.963e-01 ...  1.214e-01  3.802e-01]\n"
     ]
    },
    {
     "data": {
      "application/vnd.jupyter.widget-view+json": {
       "model_id": "0196fd6df04541cbbc13a0a428945fb1",
       "version_major": 2,
       "version_minor": 0
      },
      "text/plain": [
       "  0%|          | 0/10000 [00:00<?, ?it/s]"
      ]
     },
     "metadata": {},
     "output_type": "display_data"
    },
    {
     "name": "stdout",
     "output_type": "stream",
     "text": [
      "gld_params: [0.0528303  0.01483515 0.38958202 0.134321  ]\n",
      "wrapper([ 8.792e-01  8.151e-01 ...  3.992e-01  5.147e-01]) = 9.644875678449738e-06\n",
      "assembly_constraint_no_mean([ 8.792e-01  8.151e-01 ...  3.992e-01  5.147e-01]) = [ 7.345e-01  7.351e-01 ...  5.881e-02  2.197e-01]\n"
     ]
    },
    {
     "data": {
      "application/vnd.jupyter.widget-view+json": {
       "model_id": "496104fa37da4d5c9bd498fbd5d5cea3",
       "version_major": 2,
       "version_minor": 0
      },
      "text/plain": [
       "  0%|          | 0/10000 [00:00<?, ?it/s]"
      ]
     },
     "metadata": {},
     "output_type": "display_data"
    },
    {
     "name": "stdout",
     "output_type": "stream",
     "text": [
      "gld_params: [0.05416854 0.01432887 0.38850491 0.13244823]\n",
      "wrapper([ 8.763e-01  7.698e-01 ...  3.940e-01  4.823e-01]) = 5.9608609865491405e-06\n",
      "assembly_constraint_no_mean([ 8.763e-01  7.698e-01 ...  3.940e-01  4.823e-01]) = [ 3.799e-02  4.114e-01 ...  2.720e-02  7.033e-02]\n"
     ]
    },
    {
     "data": {
      "application/vnd.jupyter.widget-view+json": {
       "model_id": "633295292ea446a69f26e93465450397",
       "version_major": 2,
       "version_minor": 0
      },
      "text/plain": [
       "  0%|          | 0/10000 [00:00<?, ?it/s]"
      ]
     },
     "metadata": {},
     "output_type": "display_data"
    },
    {
     "name": "stdout",
     "output_type": "stream",
     "text": [
      "gld_params: [0.05210463 0.01515402 0.38126484 0.12724183]\n",
      "wrapper([ 8.646e-01  8.360e-01 ...  4.411e-01  4.584e-01]) = 6.610696135189609e-05\n",
      "assembly_constraint_no_mean([ 8.646e-01  8.360e-01 ...  4.411e-01  4.584e-01]) = [ 6.518e-01  8.229e-01 ...  5.524e-01  7.327e-01]\n"
     ]
    },
    {
     "data": {
      "application/vnd.jupyter.widget-view+json": {
       "model_id": "ac3f3ab5d85f45689eaf88d83cb6c564",
       "version_major": 2,
       "version_minor": 0
      },
      "text/plain": [
       "  0%|          | 0/10000 [00:00<?, ?it/s]"
      ]
     },
     "metadata": {},
     "output_type": "display_data"
    },
    {
     "name": "stdout",
     "output_type": "stream",
     "text": [
      "gld_params: [0.05440079 0.01428623 0.38729291 0.13042105]\n",
      "wrapper([ 9.037e-01  7.358e-01 ...  3.827e-01  4.491e-01]) = 5.9608609865491405e-06\n",
      "assembly_constraint_no_mean([ 9.037e-01  7.358e-01 ...  3.827e-01  4.491e-01]) = [ 1.962e-01  3.633e-01 ... -2.253e-03  1.617e-01]\n"
     ]
    },
    {
     "data": {
      "application/vnd.jupyter.widget-view+json": {
       "model_id": "8cc5af06b6504d15ad6582c569ba9e08",
       "version_major": 2,
       "version_minor": 0
      },
      "text/plain": [
       "  0%|          | 0/10000 [00:00<?, ?it/s]"
      ]
     },
     "metadata": {},
     "output_type": "display_data"
    },
    {
     "name": "stdout",
     "output_type": "stream",
     "text": [
      "gld_params: [0.05334952 0.01442054 0.37597429 0.10443062]\n",
      "wrapper([ 8.545e-01  8.287e-01 ...  9.129e-01  4.519e-01]) = 9.559504776219769e-05\n",
      "assembly_constraint_no_mean([ 8.545e-01  8.287e-01 ...  9.129e-01  4.519e-01]) = [ 2.742e-01  1.853e-01 ...  5.801e-02  1.845e+00]\n"
     ]
    },
    {
     "data": {
      "application/vnd.jupyter.widget-view+json": {
       "model_id": "9dbba9e17bce4e8cbdacfde840ce67a9",
       "version_major": 2,
       "version_minor": 0
      },
      "text/plain": [
       "  0%|          | 0/10000 [00:00<?, ?it/s]"
      ]
     },
     "metadata": {},
     "output_type": "display_data"
    },
    {
     "name": "stdout",
     "output_type": "stream",
     "text": [
      "gld_params: [0.05389717 0.01427995 0.38923498 0.12671034]\n",
      "wrapper([ 6.531e-01  9.662e-01 ...  5.455e-01  4.139e-01]) = 5.9608609865491405e-06\n",
      "assembly_constraint_no_mean([ 6.531e-01  9.662e-01 ...  5.455e-01  4.139e-01]) = [ 3.037e-01  4.972e-01 ...  7.334e-02  2.140e-01]\n"
     ]
    },
    {
     "data": {
      "application/vnd.jupyter.widget-view+json": {
       "model_id": "3c05682991a44dceb5ee0143b4145dc6",
       "version_major": 2,
       "version_minor": 0
      },
      "text/plain": [
       "  0%|          | 0/10000 [00:00<?, ?it/s]"
      ]
     },
     "metadata": {},
     "output_type": "display_data"
    },
    {
     "name": "stdout",
     "output_type": "stream",
     "text": [
      "gld_params: [0.05327271 0.01445401 0.38402336 0.11360343]\n",
      "wrapper([ 8.434e-01  8.214e-01 ...  4.356e-01  4.696e-01]) = 4.692628857022837e-05\n",
      "assembly_constraint_no_mean([ 8.434e-01  8.214e-01 ...  4.356e-01  4.696e-01]) = [ 1.188e-01  9.598e-02 ...  1.474e-01  2.208e-02]\n"
     ]
    },
    {
     "data": {
      "application/vnd.jupyter.widget-view+json": {
       "model_id": "15749b62509a4c87b01b6084d3d5267b",
       "version_major": 2,
       "version_minor": 0
      },
      "text/plain": [
       "  0%|          | 0/10000 [00:00<?, ?it/s]"
      ]
     },
     "metadata": {},
     "output_type": "display_data"
    },
    {
     "name": "stdout",
     "output_type": "stream",
     "text": [
      "gld_params: [0.05392392 0.01420277 0.38853958 0.12382459]\n",
      "wrapper([ 8.630e-01  7.705e-01 ...  5.616e-01  3.747e-01]) = 5.9608609865491405e-06\n",
      "assembly_constraint_no_mean([ 8.630e-01  7.705e-01 ...  5.616e-01  3.747e-01]) = [-5.207e-03  3.404e-01 ...  1.367e-01  1.610e-01]\n"
     ]
    },
    {
     "data": {
      "application/vnd.jupyter.widget-view+json": {
       "model_id": "18cf721108884fc8a7dd1b330fe4ad66",
       "version_major": 2,
       "version_minor": 0
      },
      "text/plain": [
       "  0%|          | 0/10000 [00:00<?, ?it/s]"
      ]
     },
     "metadata": {},
     "output_type": "display_data"
    },
    {
     "name": "stdout",
     "output_type": "stream",
     "text": [
      "gld_params: [0.05344733 0.01452305 0.37251371 0.10811219]\n",
      "wrapper([ 8.279e-01  8.294e-01 ...  4.335e-01  4.693e-01]) = 9.058874875441407e-05\n",
      "assembly_constraint_no_mean([ 8.279e-01  8.294e-01 ...  4.335e-01  4.693e-01]) = [ 8.234e-02  2.183e-01 ...  4.476e-01 -1.033e-01]\n"
     ]
    },
    {
     "data": {
      "application/vnd.jupyter.widget-view+json": {
       "model_id": "03f8539809ce453e84576d4482120b7a",
       "version_major": 2,
       "version_minor": 0
      },
      "text/plain": [
       "  0%|          | 0/10000 [00:00<?, ?it/s]"
      ]
     },
     "metadata": {},
     "output_type": "display_data"
    },
    {
     "name": "stdout",
     "output_type": "stream",
     "text": [
      "gld_params: [0.05437422 0.01411417 0.38657886 0.12239467]\n",
      "wrapper([ 9.496e-01  7.158e-01 ...  5.444e-01  4.829e-01]) = 5.9608609865491405e-06\n",
      "assembly_constraint_no_mean([ 9.496e-01  7.158e-01 ...  5.444e-01  4.829e-01]) = [ 2.279e-01  1.645e-01 ...  1.740e-02  4.457e-03]\n"
     ]
    },
    {
     "data": {
      "application/vnd.jupyter.widget-view+json": {
       "model_id": "aada584ba51f4bccb4455fc75256bccb",
       "version_major": 2,
       "version_minor": 0
      },
      "text/plain": [
       "  0%|          | 0/10000 [00:00<?, ?it/s]"
      ]
     },
     "metadata": {},
     "output_type": "display_data"
    },
    {
     "name": "stdout",
     "output_type": "stream",
     "text": [
      "gld_params: [0.05366873 0.01459786 0.36951962 0.11091289]\n",
      "wrapper([ 8.493e-01  8.365e-01 ...  4.297e-01  4.639e-01]) = 8.288458348236997e-05\n",
      "assembly_constraint_no_mean([ 8.493e-01  8.365e-01 ...  4.297e-01  4.639e-01]) = [ 1.287e-01  1.434e-01 ...  4.417e-01  4.754e-02]\n"
     ]
    },
    {
     "data": {
      "application/vnd.jupyter.widget-view+json": {
       "model_id": "2a3bc62b3da44253b2e89010b0bedbf0",
       "version_major": 2,
       "version_minor": 0
      },
      "text/plain": [
       "  0%|          | 0/10000 [00:00<?, ?it/s]"
      ]
     },
     "metadata": {},
     "output_type": "display_data"
    },
    {
     "name": "stdout",
     "output_type": "stream",
     "text": [
      "gld_params: [0.05399243 0.01430344 0.38157998 0.12055792]\n",
      "wrapper([ 7.571e-01  9.380e-01 ...  5.331e-01  4.378e-01]) = 1.5605736664998876e-05\n",
      "assembly_constraint_no_mean([ 7.571e-01  9.380e-01 ...  5.331e-01  4.378e-01]) = [ 1.343e-01  1.190e-01 ...  3.279e-01  9.721e-02]\n"
     ]
    },
    {
     "data": {
      "application/vnd.jupyter.widget-view+json": {
       "model_id": "f6ec454b49944dda9d3d3e6dd53596a9",
       "version_major": 2,
       "version_minor": 0
      },
      "text/plain": [
       "  0%|          | 0/10000 [00:00<?, ?it/s]"
      ]
     },
     "metadata": {},
     "output_type": "display_data"
    },
    {
     "name": "stdout",
     "output_type": "stream",
     "text": [
      "gld_params: [0.05355841 0.01453468 0.37263932 0.10874875]\n",
      "wrapper([ 8.496e-01  8.107e-01 ...  4.292e-01  4.451e-01]) = 8.608672718242746e-05\n",
      "assembly_constraint_no_mean([ 8.496e-01  8.107e-01 ...  4.292e-01  4.451e-01]) = [ 2.042e+00  2.143e-01 ...  4.623e-01 -8.621e-03]\n"
     ]
    },
    {
     "data": {
      "application/vnd.jupyter.widget-view+json": {
       "model_id": "cf2d92cd95fa4c72927b6b45e05fa34c",
       "version_major": 2,
       "version_minor": 0
      },
      "text/plain": [
       "  0%|          | 0/10000 [00:00<?, ?it/s]"
      ]
     },
     "metadata": {},
     "output_type": "display_data"
    },
    {
     "name": "stdout",
     "output_type": "stream",
     "text": [
      "gld_params: [0.05415883 0.01436844 0.38642845 0.12824973]\n",
      "wrapper([ 8.642e-01  7.391e-01 ...  4.987e-01  4.213e-01]) = 5.9608609865491405e-06\n",
      "assembly_constraint_no_mean([ 8.642e-01  7.391e-01 ...  4.987e-01  4.213e-01]) = [ 9.898e-02  8.922e-03 ...  3.144e-01  2.746e-01]\n"
     ]
    },
    {
     "data": {
      "application/vnd.jupyter.widget-view+json": {
       "model_id": "a9ed966caeac4722b57b7101246e0942",
       "version_major": 2,
       "version_minor": 0
      },
      "text/plain": [
       "  0%|          | 0/10000 [00:00<?, ?it/s]"
      ]
     },
     "metadata": {},
     "output_type": "display_data"
    },
    {
     "name": "stdout",
     "output_type": "stream",
     "text": [
      "gld_params: [0.05356147 0.01457747 0.36764975 0.10860976]\n",
      "wrapper([ 8.289e-01  8.201e-01 ...  4.261e-01  4.466e-01]) = 0.00010362997544048794\n",
      "assembly_constraint_no_mean([ 8.289e-01  8.201e-01 ...  4.261e-01  4.466e-01]) = [ 1.220e-01  4.015e-01 ...  6.703e-01 -2.915e-01]\n"
     ]
    },
    {
     "data": {
      "application/vnd.jupyter.widget-view+json": {
       "model_id": "74ca67d18bea4fdebeeb7f7ff2d2fe5b",
       "version_major": 2,
       "version_minor": 0
      },
      "text/plain": [
       "  0%|          | 0/10000 [00:00<?, ?it/s]"
      ]
     },
     "metadata": {},
     "output_type": "display_data"
    },
    {
     "name": "stdout",
     "output_type": "stream",
     "text": [
      "gld_params: [0.05386226 0.01444589 0.38408154 0.12779364]\n",
      "wrapper([ 8.550e-01  7.252e-01 ...  5.249e-01  4.518e-01]) = 9.644875678449738e-06\n",
      "assembly_constraint_no_mean([ 8.550e-01  7.252e-01 ...  5.249e-01  4.518e-01]) = [ 2.957e-02  2.880e-01 ...  1.938e-01  8.799e-02]\n"
     ]
    },
    {
     "data": {
      "application/vnd.jupyter.widget-view+json": {
       "model_id": "986e112cf61d4e11a40c321110e9f4ee",
       "version_major": 2,
       "version_minor": 0
      },
      "text/plain": [
       "  0%|          | 0/10000 [00:00<?, ?it/s]"
      ]
     },
     "metadata": {},
     "output_type": "display_data"
    },
    {
     "name": "stdout",
     "output_type": "stream",
     "text": [
      "gld_params: [0.05444267 0.01438846 0.37863022 0.11625905]\n",
      "wrapper([ 7.964e-01  8.192e-01 ...  4.600e-01  4.834e-01]) = 2.5250612343448612e-05\n",
      "assembly_constraint_no_mean([ 7.964e-01  8.192e-01 ...  4.600e-01  4.834e-01]) = [ 1.118e-01  5.216e-01 ...  4.228e-01  4.589e-01]\n"
     ]
    },
    {
     "data": {
      "application/vnd.jupyter.widget-view+json": {
       "model_id": "b131f4f21f68421892db4a5cfc80ef92",
       "version_major": 2,
       "version_minor": 0
      },
      "text/plain": [
       "  0%|          | 0/10000 [00:00<?, ?it/s]"
      ]
     },
     "metadata": {},
     "output_type": "display_data"
    },
    {
     "name": "stdout",
     "output_type": "stream",
     "text": [
      "gld_params: [0.05380088 0.01434977 0.38952692 0.12864331]\n",
      "wrapper([ 8.143e-01  7.950e-01 ...  4.908e-01  4.269e-01]) = 5.9608609865491405e-06\n",
      "assembly_constraint_no_mean([ 8.143e-01  7.950e-01 ...  4.908e-01  4.269e-01]) = [ 1.021e-01  2.406e-01 ...  2.923e-01  4.341e-02]\n"
     ]
    },
    {
     "data": {
      "application/vnd.jupyter.widget-view+json": {
       "model_id": "6ccffface053427680a06435560efa54",
       "version_major": 2,
       "version_minor": 0
      },
      "text/plain": [
       "  0%|          | 0/10000 [00:00<?, ?it/s]"
      ]
     },
     "metadata": {},
     "output_type": "display_data"
    },
    {
     "name": "stdout",
     "output_type": "stream",
     "text": [
      "gld_params: [0.05352535 0.01489543 0.37207985 0.12021261]\n",
      "wrapper([ 8.101e-01  8.082e-01 ...  4.326e-01  6.166e-01]) = 6.277362703803806e-05\n",
      "assembly_constraint_no_mean([ 8.101e-01  8.082e-01 ...  4.326e-01  6.166e-01]) = [ 2.726e-01  5.515e-01 ...  5.843e-01  2.510e-01]\n"
     ]
    },
    {
     "data": {
      "application/vnd.jupyter.widget-view+json": {
       "model_id": "2abaa96ea7574d5fb229b4aa3a02b45d",
       "version_major": 2,
       "version_minor": 0
      },
      "text/plain": [
       "  0%|          | 0/10000 [00:00<?, ?it/s]"
      ]
     },
     "metadata": {},
     "output_type": "display_data"
    },
    {
     "name": "stdout",
     "output_type": "stream",
     "text": [
      "gld_params: [0.05375048 0.01433549 0.38536461 0.11984415]\n",
      "wrapper([ 7.696e-01  8.612e-01 ...  5.552e-01  5.715e-01]) = 1.893907022980269e-05\n",
      "assembly_constraint_no_mean([ 7.696e-01  8.612e-01 ...  5.552e-01  5.715e-01]) = [ 1.069e-01  3.717e-01 ...  2.776e-01  6.414e-02]\n"
     ]
    },
    {
     "data": {
      "application/vnd.jupyter.widget-view+json": {
       "model_id": "07ec294f58444440b2adf9d23a6915c4",
       "version_major": 2,
       "version_minor": 0
      },
      "text/plain": [
       "  0%|          | 0/10000 [00:00<?, ?it/s]"
      ]
     },
     "metadata": {},
     "output_type": "display_data"
    },
    {
     "name": "stdout",
     "output_type": "stream",
     "text": [
      "gld_params: [0.05331628 0.01450593 0.38783502 0.12453387]\n",
      "wrapper([ 8.491e-01  8.250e-01 ...  4.377e-01  7.027e-01]) = 1.5605736664998876e-05\n",
      "assembly_constraint_no_mean([ 8.491e-01  8.250e-01 ...  4.377e-01  7.027e-01]) = [ 5.796e-01  2.733e-01 ... -8.216e-01  1.061e+00]\n"
     ]
    },
    {
     "data": {
      "application/vnd.jupyter.widget-view+json": {
       "model_id": "4f838aded651432799a736679cf58394",
       "version_major": 2,
       "version_minor": 0
      },
      "text/plain": [
       "  0%|          | 0/10000 [00:00<?, ?it/s]"
      ]
     },
     "metadata": {},
     "output_type": "display_data"
    },
    {
     "name": "stdout",
     "output_type": "stream",
     "text": [
      "gld_params: [0.05381629 0.01412842 0.39261797 0.12171091]\n",
      "wrapper([ 8.829e-01  6.802e-01 ...  4.705e-01  5.734e-01]) = 5.9608609865491405e-06\n",
      "assembly_constraint_no_mean([ 8.829e-01  6.802e-01 ...  4.705e-01  5.734e-01]) = [ 1.761e-01  1.936e-01 ...  1.992e-01  6.449e-01]\n"
     ]
    },
    {
     "data": {
      "application/vnd.jupyter.widget-view+json": {
       "model_id": "ca2eee0d9a164ad7a86fa141fdd5d1ff",
       "version_major": 2,
       "version_minor": 0
      },
      "text/plain": [
       "  0%|          | 0/10000 [00:00<?, ?it/s]"
      ]
     },
     "metadata": {},
     "output_type": "display_data"
    },
    {
     "name": "stdout",
     "output_type": "stream",
     "text": [
      "gld_params: [0.05357486 0.01484307 0.37935957 0.12959475]\n",
      "wrapper([ 8.222e-01  8.233e-01 ...  4.409e-01  8.452e-02]) = 2.191727863558817e-05\n",
      "assembly_constraint_no_mean([ 8.222e-01  8.233e-01 ...  4.409e-01  8.452e-02]) = [ 7.730e-01  7.611e-01 ...  5.431e-02 -7.241e-01]\n"
     ]
    },
    {
     "data": {
      "application/vnd.jupyter.widget-view+json": {
       "model_id": "4a4d776be3a949fcb039b9cb2a2799bc",
       "version_major": 2,
       "version_minor": 0
      },
      "text/plain": [
       "  0%|          | 0/10000 [00:00<?, ?it/s]"
      ]
     },
     "metadata": {},
     "output_type": "display_data"
    },
    {
     "name": "stdout",
     "output_type": "stream",
     "text": [
      "gld_params: [0.05402827 0.0143048  0.38482953 0.12447032]\n",
      "wrapper([ 7.204e-01  9.164e-01 ...  4.310e-01  4.756e-01]) = 9.644875678449738e-06\n",
      "assembly_constraint_no_mean([ 7.204e-01  9.164e-01 ...  4.310e-01  4.756e-01]) = [ 1.196e-01  2.246e-01 ...  3.582e-01  1.450e-01]\n"
     ]
    },
    {
     "data": {
      "application/vnd.jupyter.widget-view+json": {
       "model_id": "48f3150333c14a6db1d6ee78d8005230",
       "version_major": 2,
       "version_minor": 0
      },
      "text/plain": [
       "  0%|          | 0/10000 [00:00<?, ?it/s]"
      ]
     },
     "metadata": {},
     "output_type": "display_data"
    },
    {
     "name": "stdout",
     "output_type": "stream",
     "text": [
      "gld_params: [0.05395919 0.014477   0.37659729 0.11958138]\n",
      "wrapper([ 8.192e-01  7.835e-01 ...  4.405e-01  4.662e-01]) = 2.9098296479694695e-05\n",
      "assembly_constraint_no_mean([ 8.192e-01  7.835e-01 ...  4.405e-01  4.662e-01]) = [ 1.609e-01  7.473e-01 ...  1.157e-01  3.120e-01]\n"
     ]
    },
    {
     "data": {
      "application/vnd.jupyter.widget-view+json": {
       "model_id": "b6cb99dd62104a96bfc272a37babe37b",
       "version_major": 2,
       "version_minor": 0
      },
      "text/plain": [
       "  0%|          | 0/10000 [00:00<?, ?it/s]"
      ]
     },
     "metadata": {},
     "output_type": "display_data"
    },
    {
     "name": "stdout",
     "output_type": "stream",
     "text": [
      "gld_params: [0.05404478 0.01416257 0.38614237 0.11821569]\n",
      "wrapper([ 8.342e-01  7.445e-01 ...  4.636e-01  4.462e-01]) = 1.5605736664998876e-05\n",
      "assembly_constraint_no_mean([ 8.342e-01  7.445e-01 ...  4.636e-01  4.462e-01]) = [ 5.202e-02  3.705e-02 ...  8.770e-02  1.430e-01]\n"
     ]
    },
    {
     "data": {
      "application/vnd.jupyter.widget-view+json": {
       "model_id": "40cd07f130784df884ed5761ea2d6fb8",
       "version_major": 2,
       "version_minor": 0
      },
      "text/plain": [
       "  0%|          | 0/10000 [00:00<?, ?it/s]"
      ]
     },
     "metadata": {},
     "output_type": "display_data"
    },
    {
     "name": "stdout",
     "output_type": "stream",
     "text": [
      "gld_params: [0.05376924 0.01467504 0.37548418 0.11797306]\n",
      "wrapper([ 7.841e-01  7.948e-01 ...  4.455e-01  5.307e-01]) = 4.474932257842462e-05\n",
      "assembly_constraint_no_mean([ 7.841e-01  7.948e-01 ...  4.455e-01  5.307e-01]) = [ 3.501e-01  8.596e-01 ...  3.668e-01  3.007e-01]\n"
     ]
    },
    {
     "data": {
      "application/vnd.jupyter.widget-view+json": {
       "model_id": "3d36a7ac8fed48a1872c870d1e4410c5",
       "version_major": 2,
       "version_minor": 0
      },
      "text/plain": [
       "  0%|          | 0/10000 [00:00<?, ?it/s]"
      ]
     },
     "metadata": {},
     "output_type": "display_data"
    },
    {
     "name": "stdout",
     "output_type": "stream",
     "text": [
      "gld_params: [0.0539147  0.01431312 0.38701154 0.12346487]\n",
      "wrapper([ 6.096e-01  9.323e-01 ...  4.527e-01  4.930e-01]) = 9.644875678449738e-06\n",
      "assembly_constraint_no_mean([ 6.096e-01  9.323e-01 ...  4.527e-01  4.930e-01]) = [ 2.839e-01  1.334e-01 ...  5.014e-02  2.634e-02]\n"
     ]
    },
    {
     "data": {
      "application/vnd.jupyter.widget-view+json": {
       "model_id": "faee0cabfd6a49b28badc91faf87eebf",
       "version_major": 2,
       "version_minor": 0
      },
      "text/plain": [
       "  0%|          | 0/10000 [00:00<?, ?it/s]"
      ]
     },
     "metadata": {},
     "output_type": "display_data"
    },
    {
     "name": "stdout",
     "output_type": "stream",
     "text": [
      "gld_params: [0.05366738 0.01449066 0.38020273 0.11203267]\n",
      "wrapper([ 8.355e-01  8.029e-01 ...  4.486e-01  4.632e-01]) = 5.144393208590491e-05\n",
      "assembly_constraint_no_mean([ 8.355e-01  8.029e-01 ...  4.486e-01  4.632e-01]) = [ 6.085e-01  4.717e-02 ...  1.439e-01  6.310e-01]\n"
     ]
    },
    {
     "data": {
      "application/vnd.jupyter.widget-view+json": {
       "model_id": "f0373a8588d3465c8532f32fd05a5f91",
       "version_major": 2,
       "version_minor": 0
      },
      "text/plain": [
       "  0%|          | 0/10000 [00:00<?, ?it/s]"
      ]
     },
     "metadata": {},
     "output_type": "display_data"
    },
    {
     "name": "stdout",
     "output_type": "stream",
     "text": [
      "gld_params: [0.05418866 0.01415804 0.38794823 0.11914659]\n",
      "wrapper([ 9.018e-01  6.826e-01 ...  4.260e-01  4.025e-01]) = 9.644875678449738e-06\n",
      "assembly_constraint_no_mean([ 9.018e-01  6.826e-01 ...  4.260e-01  4.025e-01]) = [ 2.854e-01  2.524e-01 ...  1.613e-01 -2.013e-02]\n"
     ]
    },
    {
     "data": {
      "application/vnd.jupyter.widget-view+json": {
       "model_id": "7e8295f731ce41b79103014671b4dd34",
       "version_major": 2,
       "version_minor": 0
      },
      "text/plain": [
       "  0%|          | 0/10000 [00:00<?, ?it/s]"
      ]
     },
     "metadata": {},
     "output_type": "display_data"
    },
    {
     "name": "stdout",
     "output_type": "stream",
     "text": [
      "gld_params: [0.05344343 0.01474317 0.38375316 0.1318445 ]\n",
      "wrapper([ 8.097e-01  7.808e-01 ...  4.535e-01  4.627e-01]) = 9.644875678449738e-06\n",
      "assembly_constraint_no_mean([ 8.097e-01  7.808e-01 ...  4.535e-01  4.627e-01]) = [-5.908e-01  1.483e+00 ...  4.277e-01 -4.653e-01]\n"
     ]
    },
    {
     "data": {
      "application/vnd.jupyter.widget-view+json": {
       "model_id": "19e6747441ae4025888415d9c1fb3f6d",
       "version_major": 2,
       "version_minor": 0
      },
      "text/plain": [
       "  0%|          | 0/10000 [00:00<?, ?it/s]"
      ]
     },
     "metadata": {},
     "output_type": "display_data"
    },
    {
     "name": "stdout",
     "output_type": "stream",
     "text": [
      "gld_params: [0.05415347 0.01408392 0.38727165 0.11555787]\n",
      "wrapper([ 7.678e-01  8.776e-01 ...  4.872e-01  4.847e-01]) = 1.5605736664998876e-05\n",
      "assembly_constraint_no_mean([ 7.678e-01  8.776e-01 ...  4.872e-01  4.847e-01]) = [ 5.307e-02  3.215e-01 ...  5.238e-01  9.468e-02]\n"
     ]
    },
    {
     "data": {
      "application/vnd.jupyter.widget-view+json": {
       "model_id": "fc26f71a46ea4a8783b66600df970601",
       "version_major": 2,
       "version_minor": 0
      },
      "text/plain": [
       "  0%|          | 0/10000 [00:00<?, ?it/s]"
      ]
     },
     "metadata": {},
     "output_type": "display_data"
    },
    {
     "name": "stdout",
     "output_type": "stream",
     "text": [
      "gld_params: [0.05397108 0.01449536 0.37935387 0.11619679]\n",
      "wrapper([ 7.682e-01  7.949e-01 ...  4.138e-01  4.448e-01]) = 3.354401070372498e-05\n",
      "assembly_constraint_no_mean([ 7.682e-01  7.949e-01 ...  4.138e-01  4.448e-01]) = [-5.231e-02  2.373e+00 ... -1.045e+00  8.519e-03]\n"
     ]
    },
    {
     "data": {
      "application/vnd.jupyter.widget-view+json": {
       "model_id": "692ea65a87a04fc2aad3216143a548d6",
       "version_major": 2,
       "version_minor": 0
      },
      "text/plain": [
       "  0%|          | 0/10000 [00:00<?, ?it/s]"
      ]
     },
     "metadata": {},
     "output_type": "display_data"
    },
    {
     "name": "stdout",
     "output_type": "stream",
     "text": [
      "gld_params: [0.05388362 0.01432592 0.38628116 0.12111479]\n",
      "wrapper([ 9.774e-01  6.704e-01 ...  4.790e-01  4.951e-01]) = 1.5605736664998876e-05\n",
      "assembly_constraint_no_mean([ 9.774e-01  6.704e-01 ...  4.790e-01  4.951e-01]) = [ 3.551e-01  1.667e-01 ...  8.913e-02  6.066e-03]\n"
     ]
    },
    {
     "data": {
      "application/vnd.jupyter.widget-view+json": {
       "model_id": "ce39c029f82a48a4beae888fc51010ec",
       "version_major": 2,
       "version_minor": 0
      },
      "text/plain": [
       "  0%|          | 0/10000 [00:00<?, ?it/s]"
      ]
     },
     "metadata": {},
     "output_type": "display_data"
    },
    {
     "name": "stdout",
     "output_type": "stream",
     "text": [
      "gld_params: [0.05560413 0.01414532 0.38386442 0.12914053]\n",
      "wrapper([ 7.652e-01  8.866e-01 ...  3.672e-01  4.269e-01]) = 5.9608609865491405e-06\n",
      "assembly_constraint_no_mean([ 7.652e-01  8.866e-01 ...  3.672e-01  4.269e-01]) = [ 2.123e-01 -7.780e-02 ... -7.038e-01 -6.238e-01]\n"
     ]
    },
    {
     "data": {
      "application/vnd.jupyter.widget-view+json": {
       "model_id": "acb888b3274c4280805a9f8ba82efd8f",
       "version_major": 2,
       "version_minor": 0
      },
      "text/plain": [
       "  0%|          | 0/10000 [00:00<?, ?it/s]"
      ]
     },
     "metadata": {},
     "output_type": "display_data"
    },
    {
     "name": "stdout",
     "output_type": "stream",
     "text": [
      "gld_params: [0.05385907 0.01432004 0.390656   0.12608316]\n",
      "wrapper([ 7.415e-01  8.807e-01 ...  4.193e-01  4.151e-01]) = 5.9608609865491405e-06\n",
      "assembly_constraint_no_mean([ 7.415e-01  8.807e-01 ...  4.193e-01  4.151e-01]) = [ 1.539e-01  1.442e-01 ...  1.455e-01  4.651e-01]\n"
     ]
    },
    {
     "data": {
      "application/vnd.jupyter.widget-view+json": {
       "model_id": "998031d026614049b18fc21ad6f5316e",
       "version_major": 2,
       "version_minor": 0
      },
      "text/plain": [
       "  0%|          | 0/10000 [00:00<?, ?it/s]"
      ]
     },
     "metadata": {},
     "output_type": "display_data"
    },
    {
     "name": "stdout",
     "output_type": "stream",
     "text": [
      "gld_params: [0.05439696 0.0144099  0.38386384 0.1255335 ]\n",
      "wrapper([ 6.531e-01  8.149e-01 ...  3.593e-01  4.054e-01]) = 9.644875678449738e-06\n",
      "assembly_constraint_no_mean([ 6.531e-01  8.149e-01 ...  3.593e-01  4.054e-01]) = [-2.833e-01 -1.120e+00 ... -1.517e+00 -1.944e+00]\n"
     ]
    },
    {
     "data": {
      "application/vnd.jupyter.widget-view+json": {
       "model_id": "cc350f52a255442d9ff3edf6a0e6546a",
       "version_major": 2,
       "version_minor": 0
      },
      "text/plain": [
       "  0%|          | 0/10000 [00:00<?, ?it/s]"
      ]
     },
     "metadata": {},
     "output_type": "display_data"
    },
    {
     "name": "stdout",
     "output_type": "stream",
     "text": [
      "gld_params: [0.0540315  0.01418396 0.39104363 0.12409675]\n",
      "wrapper([ 7.535e-01  8.486e-01 ...  4.829e-01  5.126e-01]) = 5.9608609865491405e-06\n",
      "assembly_constraint_no_mean([ 7.535e-01  8.486e-01 ...  4.829e-01  5.126e-01]) = [-2.991e-02  1.383e-01 ... -7.165e-03  6.382e-01]\n"
     ]
    },
    {
     "data": {
      "application/vnd.jupyter.widget-view+json": {
       "model_id": "3be777d2c86044c1bda9cbfe8d5e4f08",
       "version_major": 2,
       "version_minor": 0
      },
      "text/plain": [
       "  0%|          | 0/10000 [00:00<?, ?it/s]"
      ]
     },
     "metadata": {},
     "output_type": "display_data"
    },
    {
     "name": "stdout",
     "output_type": "stream",
     "text": [
      "gld_params: [0.05339688 0.01467894 0.3810094  0.11963025]\n",
      "wrapper([ 7.451e-01  7.491e-01 ...  4.006e-01  4.386e-01]) = 3.752301506911656e-05\n",
      "assembly_constraint_no_mean([ 7.451e-01  7.491e-01 ...  4.006e-01  4.386e-01]) = [-3.608e-01  1.147e-01 ...  2.118e+00 -2.069e+00]\n"
     ]
    },
    {
     "data": {
      "application/vnd.jupyter.widget-view+json": {
       "model_id": "d61cc40e27e44dc594a25b0be7c8c1b2",
       "version_major": 2,
       "version_minor": 0
      },
      "text/plain": [
       "  0%|          | 0/10000 [00:00<?, ?it/s]"
      ]
     },
     "metadata": {},
     "output_type": "display_data"
    },
    {
     "name": "stdout",
     "output_type": "stream",
     "text": [
      "gld_params: [0.0541894  0.0141605  0.39361693 0.12956157]\n",
      "wrapper([ 9.962e-01  6.297e-01 ...  4.391e-01  3.694e-01]) = 5.9608609865491405e-06\n",
      "assembly_constraint_no_mean([ 9.962e-01  6.297e-01 ...  4.391e-01  3.694e-01]) = [ 4.330e-01  9.027e-02 ...  3.184e-01  3.085e-02]\n"
     ]
    },
    {
     "data": {
      "application/vnd.jupyter.widget-view+json": {
       "model_id": "e825b2bbf4984a69bca24c4ebe4239a6",
       "version_major": 2,
       "version_minor": 0
      },
      "text/plain": [
       "  0%|          | 0/10000 [00:00<?, ?it/s]"
      ]
     },
     "metadata": {},
     "output_type": "display_data"
    },
    {
     "name": "stdout",
     "output_type": "stream",
     "text": [
      "gld_params: [0.0539556  0.01447828 0.38352826 0.12409439]\n",
      "wrapper([ 7.783e-01  8.520e-01 ...  4.937e-01  4.666e-01]) = 1.5605736664998876e-05\n",
      "assembly_constraint_no_mean([ 7.783e-01  8.520e-01 ...  4.937e-01  4.666e-01]) = [-1.219e-02 -7.769e-01 ... -1.063e+00 -6.793e-01]\n"
     ]
    },
    {
     "data": {
      "application/vnd.jupyter.widget-view+json": {
       "model_id": "4c20d43ff1194653a5fe6905880e54f1",
       "version_major": 2,
       "version_minor": 0
      },
      "text/plain": [
       "  0%|          | 0/10000 [00:00<?, ?it/s]"
      ]
     },
     "metadata": {},
     "output_type": "display_data"
    },
    {
     "name": "stdout",
     "output_type": "stream",
     "text": [
      "gld_params: [0.05400101 0.01412272 0.39087934 0.12135674]\n",
      "wrapper([ 7.693e-01  8.649e-01 ...  4.720e-01  4.889e-01]) = 5.9608609865491405e-06\n",
      "assembly_constraint_no_mean([ 7.693e-01  8.649e-01 ...  4.720e-01  4.889e-01]) = [ 6.560e-02  5.476e-02 ...  6.859e-02  1.195e-02]\n"
     ]
    },
    {
     "data": {
      "application/vnd.jupyter.widget-view+json": {
       "model_id": "4a19689011154b7393f9a8f7d1fd6e2a",
       "version_major": 2,
       "version_minor": 0
      },
      "text/plain": [
       "  0%|          | 0/10000 [00:00<?, ?it/s]"
      ]
     },
     "metadata": {},
     "output_type": "display_data"
    },
    {
     "name": "stdout",
     "output_type": "stream",
     "text": [
      "gld_params: [0.05394371 0.01454627 0.38554989 0.12960433]\n",
      "wrapper([ 6.973e-01  3.709e-01 ...  4.249e-01  4.807e-01]) = 9.644875678449738e-06\n",
      "assembly_constraint_no_mean([ 6.973e-01  3.709e-01 ...  4.249e-01  4.807e-01]) = [-2.056e+00  2.311e-01 ... -7.874e-01 -2.921e-02]\n"
     ]
    },
    {
     "data": {
      "application/vnd.jupyter.widget-view+json": {
       "model_id": "1d726b997f774cdc8f7189e0cef6c0ee",
       "version_major": 2,
       "version_minor": 0
      },
      "text/plain": [
       "  0%|          | 0/10000 [00:00<?, ?it/s]"
      ]
     },
     "metadata": {},
     "output_type": "display_data"
    },
    {
     "name": "stdout",
     "output_type": "stream",
     "text": [
      "gld_params: [0.05436661 0.01402874 0.39154167 0.12453448]\n",
      "wrapper([ 8.421e-01  7.720e-01 ...  4.609e-01  4.565e-01]) = 5.9608609865491405e-06\n",
      "assembly_constraint_no_mean([ 8.421e-01  7.720e-01 ...  4.609e-01  4.565e-01]) = [-5.403e-02  5.952e-02 ...  1.046e-01  1.701e-01]\n"
     ]
    },
    {
     "data": {
      "application/vnd.jupyter.widget-view+json": {
       "model_id": "ed1103fe6ded4884be3a81bb13522bfa",
       "version_major": 2,
       "version_minor": 0
      },
      "text/plain": [
       "  0%|          | 0/10000 [00:00<?, ?it/s]"
      ]
     },
     "metadata": {},
     "output_type": "display_data"
    },
    {
     "name": "stdout",
     "output_type": "stream",
     "text": [
      "gld_params: [0.05397838 0.01439634 0.38440792 0.12598341]\n",
      "wrapper([ 6.337e-01  7.549e-01 ...  4.614e-01  4.064e-01]) = 9.644875678449738e-06\n",
      "assembly_constraint_no_mean([ 6.337e-01  7.549e-01 ...  4.614e-01  4.064e-01]) = [-1.181e+00 -1.341e+00 ...  9.737e-01  1.342e+00]\n"
     ]
    },
    {
     "data": {
      "application/vnd.jupyter.widget-view+json": {
       "model_id": "01885994fba048a4949d94a646afa3a5",
       "version_major": 2,
       "version_minor": 0
      },
      "text/plain": [
       "  0%|          | 0/10000 [00:00<?, ?it/s]"
      ]
     },
     "metadata": {},
     "output_type": "display_data"
    },
    {
     "name": "stdout",
     "output_type": "stream",
     "text": [
      "gld_params: [0.05444356 0.01407378 0.39082948 0.12783731]\n",
      "wrapper([ 8.511e-01  7.396e-01 ...  3.946e-01  3.993e-01]) = 5.9608609865491405e-06\n",
      "assembly_constraint_no_mean([ 8.511e-01  7.396e-01 ...  3.946e-01  3.993e-01]) = [ 3.266e-03  6.454e-02 ...  3.167e-01  4.073e-01]\n"
     ]
    },
    {
     "data": {
      "application/vnd.jupyter.widget-view+json": {
       "model_id": "b7dbdda3f8dc47aaa8ead1dc92e8110e",
       "version_major": 2,
       "version_minor": 0
      },
      "text/plain": [
       "  0%|          | 0/10000 [00:00<?, ?it/s]"
      ]
     },
     "metadata": {},
     "output_type": "display_data"
    },
    {
     "name": "stdout",
     "output_type": "stream",
     "text": [
      "gld_params: [0.05325515 0.01473587 0.38752671 0.12917296]\n",
      "wrapper([ 8.985e-01  7.805e-01 ...  4.031e-01  4.846e-01]) = 1.5605736664998876e-05\n",
      "assembly_constraint_no_mean([ 8.985e-01  7.805e-01 ...  4.031e-01  4.846e-01]) = [ 6.412e-01  1.201e+00 ...  8.263e-01 -4.434e-01]\n"
     ]
    },
    {
     "data": {
      "application/vnd.jupyter.widget-view+json": {
       "model_id": "e26f8f6e21ad4764b3d0b0440c300614",
       "version_major": 2,
       "version_minor": 0
      },
      "text/plain": [
       "  0%|          | 0/10000 [00:00<?, ?it/s]"
      ]
     },
     "metadata": {},
     "output_type": "display_data"
    },
    {
     "name": "stdout",
     "output_type": "stream",
     "text": [
      "gld_params: [0.05394449 0.01432544 0.38888477 0.12843396]\n",
      "wrapper([ 7.258e-01  8.674e-01 ...  3.885e-01  3.657e-01]) = 5.9608609865491405e-06\n",
      "assembly_constraint_no_mean([ 7.258e-01  8.674e-01 ...  3.885e-01  3.657e-01]) = [ 9.170e-02  6.292e-02 ... -7.113e-02  3.885e-01]\n"
     ]
    },
    {
     "data": {
      "application/vnd.jupyter.widget-view+json": {
       "model_id": "7ddfea55698f42ad98a79c7f2666a40b",
       "version_major": 2,
       "version_minor": 0
      },
      "text/plain": [
       "  0%|          | 0/10000 [00:00<?, ?it/s]"
      ]
     },
     "metadata": {},
     "output_type": "display_data"
    },
    {
     "name": "stdout",
     "output_type": "stream",
     "text": [
      "gld_params: [0.05349412 0.01488463 0.38085675 0.12567389]\n",
      "wrapper([ 8.883e-01  6.825e-01 ...  4.642e-01  4.864e-01]) = 2.896277222151091e-05\n",
      "assembly_constraint_no_mean([ 8.883e-01  6.825e-01 ...  4.642e-01  4.864e-01]) = [ 1.131e-01 -9.311e-01 ... -9.342e-01 -9.317e-01]\n"
     ]
    },
    {
     "data": {
      "application/vnd.jupyter.widget-view+json": {
       "model_id": "015b99910ddf4e048f5162964d12ebf0",
       "version_major": 2,
       "version_minor": 0
      },
      "text/plain": [
       "  0%|          | 0/10000 [00:00<?, ?it/s]"
      ]
     },
     "metadata": {},
     "output_type": "display_data"
    },
    {
     "name": "stdout",
     "output_type": "stream",
     "text": [
      "gld_params: [0.05431059 0.01408465 0.39170449 0.12704643]\n",
      "wrapper([ 1.000e+00  6.745e-01 ...  4.887e-01  4.702e-01]) = 5.9608609865491405e-06\n",
      "assembly_constraint_no_mean([ 1.000e+00  6.745e-01 ...  4.887e-01  4.702e-01]) = [ 3.624e-01  1.249e-01 ...  1.353e-01  6.506e-02]\n",
      "\n",
      "New trust-region radius: 0.05.\n",
      "Number of function evaluations: 130.\n",
      "Number of iterations: 35.\n",
      "Least value of wrapper: 1.5605736664998876e-05.\n",
      "Maximum constraint violation: 0.11814788981211957.\n",
      "Corresponding point: [ 8.145e-01  8.031e-01 ...  4.405e-01  4.774e-01].\n",
      "\n"
     ]
    },
    {
     "data": {
      "application/vnd.jupyter.widget-view+json": {
       "model_id": "89ba4112458d41759f59a1ca8610632e",
       "version_major": 2,
       "version_minor": 0
      },
      "text/plain": [
       "  0%|          | 0/10000 [00:00<?, ?it/s]"
      ]
     },
     "metadata": {},
     "output_type": "display_data"
    },
    {
     "name": "stdout",
     "output_type": "stream",
     "text": [
      "gld_params: [0.05412064 0.01416202 0.39253844 0.12782722]\n",
      "wrapper([ 7.825e-01  8.379e-01 ...  4.333e-01  3.995e-01]) = 5.9608609865491405e-06\n",
      "assembly_constraint_no_mean([ 7.825e-01  8.379e-01 ...  4.333e-01  3.995e-01]) = [-2.210e-02  3.992e-02 ...  1.508e-02 -1.858e-02]\n"
     ]
    },
    {
     "data": {
      "application/vnd.jupyter.widget-view+json": {
       "model_id": "01d385213dce4861ac4adc3355dab640",
       "version_major": 2,
       "version_minor": 0
      },
      "text/plain": [
       "  0%|          | 0/10000 [00:00<?, ?it/s]"
      ]
     },
     "metadata": {},
     "output_type": "display_data"
    },
    {
     "name": "stdout",
     "output_type": "stream",
     "text": [
      "gld_params: [0.0540591  0.01414836 0.39071093 0.12466678]\n",
      "wrapper([ 8.243e-01  7.879e-01 ...  4.739e-01  4.905e-01]) = 5.9608609865491405e-06\n",
      "assembly_constraint_no_mean([ 8.243e-01  7.879e-01 ...  4.739e-01  4.905e-01]) = [-2.131e-02 -7.046e-02 ... -5.152e-02 -2.173e-03]\n"
     ]
    },
    {
     "data": {
      "application/vnd.jupyter.widget-view+json": {
       "model_id": "47e1afdc0ba4471680eca2c8dbbe147f",
       "version_major": 2,
       "version_minor": 0
      },
      "text/plain": [
       "  0%|          | 0/10000 [00:00<?, ?it/s]"
      ]
     },
     "metadata": {},
     "output_type": "display_data"
    },
    {
     "name": "stdout",
     "output_type": "stream",
     "text": [
      "gld_params: [0.05386881 0.0143361  0.38904356 0.12626325]\n",
      "wrapper([ 7.751e-01  8.226e-01 ...  4.538e-01  4.158e-01]) = 5.9608609865491405e-06\n",
      "assembly_constraint_no_mean([ 7.751e-01  8.226e-01 ...  4.538e-01  4.158e-01]) = [-1.049e-01  5.078e-02 ... -1.008e-01  9.903e-02]\n"
     ]
    },
    {
     "data": {
      "application/vnd.jupyter.widget-view+json": {
       "model_id": "801e8550a09b4665b06258c977cad8b0",
       "version_major": 2,
       "version_minor": 0
      },
      "text/plain": [
       "  0%|          | 0/10000 [00:00<?, ?it/s]"
      ]
     },
     "metadata": {},
     "output_type": "display_data"
    },
    {
     "name": "stdout",
     "output_type": "stream",
     "text": [
      "gld_params: [0.05372646 0.01428612 0.39173867 0.12527881]\n",
      "wrapper([ 8.194e-01  8.020e-01 ...  4.695e-01  4.432e-01]) = 5.9608609865491405e-06\n",
      "assembly_constraint_no_mean([ 8.194e-01  8.020e-01 ...  4.695e-01  4.432e-01]) = [ 1.514e-02  1.833e-02 ...  1.234e-02  2.228e-02]\n"
     ]
    },
    {
     "data": {
      "application/vnd.jupyter.widget-view+json": {
       "model_id": "7f36dee70fb4418c8ed9ee1d54fe104b",
       "version_major": 2,
       "version_minor": 0
      },
      "text/plain": [
       "  0%|          | 0/10000 [00:00<?, ?it/s]"
      ]
     },
     "metadata": {},
     "output_type": "display_data"
    },
    {
     "name": "stdout",
     "output_type": "stream",
     "text": [
      "gld_params: [0.05389693 0.01425038 0.39210572 0.12736736]\n",
      "wrapper([ 8.051e-01  7.914e-01 ...  4.400e-01  4.358e-01]) = 5.9608609865491405e-06\n",
      "assembly_constraint_no_mean([ 8.051e-01  7.914e-01 ...  4.400e-01  4.358e-01]) = [ 3.767e-03  1.624e-02 ... -8.490e-03  2.517e-03]\n"
     ]
    },
    {
     "data": {
      "application/vnd.jupyter.widget-view+json": {
       "model_id": "a59ed582456545ebbcd42cc87d870371",
       "version_major": 2,
       "version_minor": 0
      },
      "text/plain": [
       "  0%|          | 0/10000 [00:00<?, ?it/s]"
      ]
     },
     "metadata": {},
     "output_type": "display_data"
    },
    {
     "name": "stdout",
     "output_type": "stream",
     "text": [
      "gld_params: [0.05394591 0.01426641 0.3913309  0.12868764]\n",
      "wrapper([ 8.115e-01  8.196e-01 ...  4.337e-01  4.454e-01]) = 5.9608609865491405e-06\n",
      "assembly_constraint_no_mean([ 8.115e-01  8.196e-01 ...  4.337e-01  4.454e-01]) = [ 1.635e-02  1.496e-02 ...  1.955e-02  4.400e-03]\n"
     ]
    },
    {
     "data": {
      "application/vnd.jupyter.widget-view+json": {
       "model_id": "d9afdc5a02b24dad89949ccd2a307656",
       "version_major": 2,
       "version_minor": 0
      },
      "text/plain": [
       "  0%|          | 0/10000 [00:00<?, ?it/s]"
      ]
     },
     "metadata": {},
     "output_type": "display_data"
    },
    {
     "name": "stdout",
     "output_type": "stream",
     "text": [
      "gld_params: [0.05388123 0.01424946 0.39209913 0.12720173]\n",
      "wrapper([ 8.206e-01  8.013e-01 ...  4.422e-01  4.382e-01]) = 5.9608609865491405e-06\n",
      "assembly_constraint_no_mean([ 8.206e-01  8.013e-01 ...  4.422e-01  4.382e-01]) = [ 1.397e-01 -5.812e-02 ... -1.942e-01 -3.214e-02]\n"
     ]
    },
    {
     "data": {
      "application/vnd.jupyter.widget-view+json": {
       "model_id": "13b88065aaac4721b7686c07250f7cad",
       "version_major": 2,
       "version_minor": 0
      },
      "text/plain": [
       "  0%|          | 0/10000 [00:00<?, ?it/s]"
      ]
     },
     "metadata": {},
     "output_type": "display_data"
    },
    {
     "name": "stdout",
     "output_type": "stream",
     "text": [
      "gld_params: [0.05386095 0.0142513  0.39199704 0.12692798]\n",
      "wrapper([ 8.139e-01  7.884e-01 ...  4.477e-01  4.534e-01]) = 5.9608609865491405e-06\n",
      "assembly_constraint_no_mean([ 8.139e-01  7.884e-01 ...  4.477e-01  4.534e-01]) = [ 1.100e-03 -7.163e-05 ...  3.812e-03  1.152e-03]\n"
     ]
    },
    {
     "data": {
      "application/vnd.jupyter.widget-view+json": {
       "model_id": "c29bd09c57c64e15911dc6c523491770",
       "version_major": 2,
       "version_minor": 0
      },
      "text/plain": [
       "  0%|          | 0/10000 [00:00<?, ?it/s]"
      ]
     },
     "metadata": {},
     "output_type": "display_data"
    },
    {
     "name": "stdout",
     "output_type": "stream",
     "text": [
      "gld_params: [0.0538157  0.01427278 0.39180078 0.1269058 ]\n",
      "wrapper([ 8.199e-01  7.905e-01 ...  4.520e-01  4.487e-01]) = 5.9608609865491405e-06\n",
      "assembly_constraint_no_mean([ 8.199e-01  7.905e-01 ...  4.520e-01  4.487e-01]) = [ 7.498e-03  7.440e-03 ... -5.271e-04 -1.504e-03]\n"
     ]
    },
    {
     "data": {
      "application/vnd.jupyter.widget-view+json": {
       "model_id": "bc1fdc3ba38b481d8bb763cf707fbfb0",
       "version_major": 2,
       "version_minor": 0
      },
      "text/plain": [
       "  0%|          | 0/10000 [00:00<?, ?it/s]"
      ]
     },
     "metadata": {},
     "output_type": "display_data"
    },
    {
     "name": "stdout",
     "output_type": "stream",
     "text": [
      "gld_params: [0.05389504 0.01424352 0.39186827 0.12724655]\n",
      "wrapper([ 8.139e-01  7.857e-01 ...  4.453e-01  4.460e-01]) = 5.9608609865491405e-06\n",
      "assembly_constraint_no_mean([ 8.139e-01  7.857e-01 ...  4.453e-01  4.460e-01]) = [-3.497e-02 -9.882e-03 ...  1.034e-01 -1.209e-01]\n"
     ]
    },
    {
     "data": {
      "application/vnd.jupyter.widget-view+json": {
       "model_id": "884e8acc34d04634b574bdedd96417d1",
       "version_major": 2,
       "version_minor": 0
      },
      "text/plain": [
       "  0%|          | 0/10000 [00:00<?, ?it/s]"
      ]
     },
     "metadata": {},
     "output_type": "display_data"
    },
    {
     "name": "stdout",
     "output_type": "stream",
     "text": [
      "gld_params: [0.05384179 0.01426315 0.39157659 0.12661719]\n",
      "wrapper([ 8.152e-01  7.941e-01 ...  4.563e-01  4.611e-01]) = 5.9608609865491405e-06\n",
      "assembly_constraint_no_mean([ 8.152e-01  7.941e-01 ...  4.563e-01  4.611e-01]) = [ 1.897e-04  2.106e-03 ...  5.539e-03  5.266e-04]\n"
     ]
    },
    {
     "data": {
      "application/vnd.jupyter.widget-view+json": {
       "model_id": "e2f59d11833b461db8485544c22b1711",
       "version_major": 2,
       "version_minor": 0
      },
      "text/plain": [
       "  0%|          | 0/10000 [00:00<?, ?it/s]"
      ]
     },
     "metadata": {},
     "output_type": "display_data"
    },
    {
     "name": "stdout",
     "output_type": "stream",
     "text": [
      "gld_params: [0.05384311 0.01425461 0.39181173 0.12684802]\n",
      "wrapper([ 8.053e-01  7.810e-01 ...  4.440e-01  4.528e-01]) = 5.9608609865491405e-06\n",
      "assembly_constraint_no_mean([ 8.053e-01  7.810e-01 ...  4.440e-01  4.528e-01]) = [-1.441e-01  2.113e-01 ... -2.391e-02 -8.639e-02]\n"
     ]
    },
    {
     "data": {
      "application/vnd.jupyter.widget-view+json": {
       "model_id": "e6f8338dcb5041da8cc3f431d165877a",
       "version_major": 2,
       "version_minor": 0
      },
      "text/plain": [
       "  0%|          | 0/10000 [00:00<?, ?it/s]"
      ]
     },
     "metadata": {},
     "output_type": "display_data"
    },
    {
     "name": "stdout",
     "output_type": "stream",
     "text": [
      "gld_params: [0.05386769 0.01424089 0.3922354  0.12642174]\n",
      "wrapper([ 8.076e-01  7.875e-01 ...  4.466e-01  4.575e-01]) = 5.9608609865491405e-06\n",
      "assembly_constraint_no_mean([ 8.076e-01  7.875e-01 ...  4.466e-01  4.575e-01]) = [ 2.437e-03  6.327e-03 ...  9.606e-03  1.013e-03]\n"
     ]
    },
    {
     "data": {
      "application/vnd.jupyter.widget-view+json": {
       "model_id": "e0ec25e8cdde4bdeb0de46350d506cc9",
       "version_major": 2,
       "version_minor": 0
      },
      "text/plain": [
       "  0%|          | 0/10000 [00:00<?, ?it/s]"
      ]
     },
     "metadata": {},
     "output_type": "display_data"
    },
    {
     "name": "stdout",
     "output_type": "stream",
     "text": [
      "gld_params: [0.05381344 0.01425392 0.39218925 0.12668721]\n",
      "wrapper([ 8.228e-01  7.992e-01 ...  4.508e-01  4.570e-01]) = 5.9608609865491405e-06\n",
      "assembly_constraint_no_mean([ 8.228e-01  7.992e-01 ...  4.508e-01  4.570e-01]) = [ 9.817e-02  4.753e-02 ...  5.651e-02  1.171e-01]\n"
     ]
    },
    {
     "data": {
      "application/vnd.jupyter.widget-view+json": {
       "model_id": "3eb7d9017b1d40ebb2158f6b29e7f18d",
       "version_major": 2,
       "version_minor": 0
      },
      "text/plain": [
       "  0%|          | 0/10000 [00:00<?, ?it/s]"
      ]
     },
     "metadata": {},
     "output_type": "display_data"
    },
    {
     "name": "stdout",
     "output_type": "stream",
     "text": [
      "gld_params: [0.05388321 0.01423889 0.39237082 0.12698896]\n",
      "wrapper([ 7.992e-01  8.028e-01 ...  4.439e-01  4.467e-01]) = 5.9608609865491405e-06\n",
      "assembly_constraint_no_mean([ 7.992e-01  8.028e-01 ...  4.439e-01  4.467e-01]) = [ 5.100e-03  5.277e-03 ...  2.422e-03  8.124e-05]\n"
     ]
    },
    {
     "data": {
      "application/vnd.jupyter.widget-view+json": {
       "model_id": "00dfb05856cf427fa299c2a75f9d8ae5",
       "version_major": 2,
       "version_minor": 0
      },
      "text/plain": [
       "  0%|          | 0/10000 [00:00<?, ?it/s]"
      ]
     },
     "metadata": {},
     "output_type": "display_data"
    },
    {
     "name": "stdout",
     "output_type": "stream",
     "text": [
      "gld_params: [0.05384242 0.01429263 0.39142811 0.12684234]\n",
      "wrapper([ 8.074e-01  7.917e-01 ...  4.458e-01  4.504e-01]) = 5.9608609865491405e-06\n",
      "assembly_constraint_no_mean([ 8.074e-01  7.917e-01 ...  4.458e-01  4.504e-01]) = [ 2.314e-03 -9.048e-02 ... -9.200e-02 -8.983e-02]\n"
     ]
    },
    {
     "data": {
      "application/vnd.jupyter.widget-view+json": {
       "model_id": "c21b8d47cf6644a3a5e31bd797de79b8",
       "version_major": 2,
       "version_minor": 0
      },
      "text/plain": [
       "  0%|          | 0/10000 [00:00<?, ?it/s]"
      ]
     },
     "metadata": {},
     "output_type": "display_data"
    },
    {
     "name": "stdout",
     "output_type": "stream",
     "text": [
      "gld_params: [0.05385776 0.01427046 0.39223679 0.12778145]\n",
      "wrapper([ 7.927e-01  8.114e-01 ...  4.373e-01  4.340e-01]) = 5.9608609865491405e-06\n",
      "assembly_constraint_no_mean([ 7.927e-01  8.114e-01 ...  4.373e-01  4.340e-01]) = [-5.674e-03  3.207e-03 ... -3.986e-04  5.849e-03]\n"
     ]
    },
    {
     "data": {
      "application/vnd.jupyter.widget-view+json": {
       "model_id": "12815f80fe614de888167aae28151173",
       "version_major": 2,
       "version_minor": 0
      },
      "text/plain": [
       "  0%|          | 0/10000 [00:00<?, ?it/s]"
      ]
     },
     "metadata": {},
     "output_type": "display_data"
    },
    {
     "name": "stdout",
     "output_type": "stream",
     "text": [
      "gld_params: [0.05383009 0.01425809 0.39223002 0.12662008]\n",
      "wrapper([ 7.962e-01  8.081e-01 ...  4.408e-01  4.442e-01]) = 5.9608609865491405e-06\n",
      "assembly_constraint_no_mean([ 7.962e-01  8.081e-01 ...  4.408e-01  4.442e-01]) = [ 5.912e-02 -1.566e-02 ...  1.731e-01 -1.925e-01]\n"
     ]
    },
    {
     "data": {
      "application/vnd.jupyter.widget-view+json": {
       "model_id": "5a6eb3a798b24efaa4d85d4c861c0d3a",
       "version_major": 2,
       "version_minor": 0
      },
      "text/plain": [
       "  0%|          | 0/10000 [00:00<?, ?it/s]"
      ]
     },
     "metadata": {},
     "output_type": "display_data"
    },
    {
     "name": "stdout",
     "output_type": "stream",
     "text": [
      "gld_params: [0.0538977  0.0142424  0.39275306 0.12761207]\n",
      "wrapper([ 8.065e-01  7.859e-01 ...  4.352e-01  4.278e-01]) = 5.9608609865491405e-06\n",
      "assembly_constraint_no_mean([ 8.065e-01  7.859e-01 ...  4.352e-01  4.278e-01]) = [ 9.622e-03  4.376e-03 ... -1.168e-03  3.824e-04]\n"
     ]
    },
    {
     "data": {
      "application/vnd.jupyter.widget-view+json": {
       "model_id": "b381fd22ef184837acc52dd233a7dad4",
       "version_major": 2,
       "version_minor": 0
      },
      "text/plain": [
       "  0%|          | 0/10000 [00:00<?, ?it/s]"
      ]
     },
     "metadata": {},
     "output_type": "display_data"
    },
    {
     "name": "stdout",
     "output_type": "stream",
     "text": [
      "gld_params: [0.05387517 0.01425021 0.39242143 0.12719184]\n",
      "wrapper([ 8.227e-01  8.141e-01 ...  4.376e-01  4.428e-01]) = 5.9608609865491405e-06\n",
      "assembly_constraint_no_mean([ 8.227e-01  8.141e-01 ...  4.376e-01  4.428e-01]) = [ 2.006e-01  6.458e-02 ... -1.700e-02 -1.272e-01]\n"
     ]
    },
    {
     "data": {
      "application/vnd.jupyter.widget-view+json": {
       "model_id": "44b87504799f41d1a6c643e837184c41",
       "version_major": 2,
       "version_minor": 0
      },
      "text/plain": [
       "  0%|          | 0/10000 [00:00<?, ?it/s]"
      ]
     },
     "metadata": {},
     "output_type": "display_data"
    },
    {
     "name": "stdout",
     "output_type": "stream",
     "text": [
      "gld_params: [0.05388462 0.01423043 0.39256674 0.12659619]\n",
      "wrapper([ 7.791e-01  8.127e-01 ...  4.440e-01  4.516e-01]) = 5.9608609865491405e-06\n",
      "assembly_constraint_no_mean([ 7.791e-01  8.127e-01 ...  4.440e-01  4.516e-01]) = [-1.358e-03  4.352e-03 ...  3.956e-04  9.292e-04]\n"
     ]
    },
    {
     "data": {
      "application/vnd.jupyter.widget-view+json": {
       "model_id": "cecba299cf8e4bbcb4d1d67782f4618f",
       "version_major": 2,
       "version_minor": 0
      },
      "text/plain": [
       "  0%|          | 0/10000 [00:00<?, ?it/s]"
      ]
     },
     "metadata": {},
     "output_type": "display_data"
    },
    {
     "name": "stdout",
     "output_type": "stream",
     "text": [
      "gld_params: [0.0538946  0.01423177 0.39208604 0.12641154]\n",
      "wrapper([ 7.622e-01  8.317e-01 ...  4.429e-01  4.527e-01]) = 5.9608609865491405e-06\n",
      "assembly_constraint_no_mean([ 7.622e-01  8.317e-01 ...  4.429e-01  4.527e-01]) = [ 7.905e-03  2.883e-03 ...  1.109e-04  7.962e-04]\n"
     ]
    },
    {
     "data": {
      "application/vnd.jupyter.widget-view+json": {
       "model_id": "793cbe3947b34230b3dbd9b7003be58c",
       "version_major": 2,
       "version_minor": 0
      },
      "text/plain": [
       "  0%|          | 0/10000 [00:00<?, ?it/s]"
      ]
     },
     "metadata": {},
     "output_type": "display_data"
    },
    {
     "name": "stdout",
     "output_type": "stream",
     "text": [
      "gld_params: [0.05398514 0.01422    0.39241208 0.12703271]\n",
      "wrapper([ 7.654e-01  7.932e-01 ...  4.418e-01  4.556e-01]) = 5.9608609865491405e-06\n",
      "assembly_constraint_no_mean([ 7.654e-01  7.932e-01 ...  4.418e-01  4.556e-01]) = [-1.551e-01 -4.062e-02 ... -9.325e-02 -6.187e-02]\n"
     ]
    },
    {
     "data": {
      "application/vnd.jupyter.widget-view+json": {
       "model_id": "38be22142f8143cea668e77183503944",
       "version_major": 2,
       "version_minor": 0
      },
      "text/plain": [
       "  0%|          | 0/10000 [00:00<?, ?it/s]"
      ]
     },
     "metadata": {},
     "output_type": "display_data"
    },
    {
     "name": "stdout",
     "output_type": "stream",
     "text": [
      "gld_params: [0.05390316 0.01421669 0.39240088 0.12601108]\n",
      "wrapper([ 7.864e-01  8.126e-01 ...  4.456e-01  4.527e-01]) = 5.9608609865491405e-06\n",
      "assembly_constraint_no_mean([ 7.864e-01  8.126e-01 ...  4.456e-01  4.527e-01]) = [-1.343e-03  1.332e-02 ...  5.116e-03  8.443e-03]\n"
     ]
    },
    {
     "data": {
      "application/vnd.jupyter.widget-view+json": {
       "model_id": "23473ea12edd4018beb91776649360fd",
       "version_major": 2,
       "version_minor": 0
      },
      "text/plain": [
       "  0%|          | 0/10000 [00:00<?, ?it/s]"
      ]
     },
     "metadata": {},
     "output_type": "display_data"
    },
    {
     "name": "stdout",
     "output_type": "stream",
     "text": [
      "gld_params: [0.05363417 0.01432691 0.3921079  0.12654917]\n",
      "wrapper([ 7.736e-01  8.130e-01 ...  4.389e-01  4.583e-01]) = 5.9608609865491405e-06\n",
      "assembly_constraint_no_mean([ 7.736e-01  8.130e-01 ...  4.389e-01  4.583e-01]) = [ 5.652e-02  1.436e-01 ...  1.280e-02  5.419e-02]\n"
     ]
    },
    {
     "data": {
      "application/vnd.jupyter.widget-view+json": {
       "model_id": "a9bf2c14af714a2690aafa92db79fa10",
       "version_major": 2,
       "version_minor": 0
      },
      "text/plain": [
       "  0%|          | 0/10000 [00:00<?, ?it/s]"
      ]
     },
     "metadata": {},
     "output_type": "display_data"
    },
    {
     "name": "stdout",
     "output_type": "stream",
     "text": [
      "gld_params: [0.05395909 0.01420167 0.39249158 0.12643358]\n",
      "wrapper([ 7.935e-01  8.106e-01 ...  4.499e-01  4.453e-01]) = 5.9608609865491405e-06\n",
      "assembly_constraint_no_mean([ 7.935e-01  8.106e-01 ...  4.499e-01  4.453e-01]) = [ 4.779e-03  4.757e-03 ...  7.384e-03  1.514e-03]\n"
     ]
    },
    {
     "data": {
      "application/vnd.jupyter.widget-view+json": {
       "model_id": "8464dd7e4f9d491e8e01757c608c41ec",
       "version_major": 2,
       "version_minor": 0
      },
      "text/plain": [
       "  0%|          | 0/10000 [00:00<?, ?it/s]"
      ]
     },
     "metadata": {},
     "output_type": "display_data"
    },
    {
     "name": "stdout",
     "output_type": "stream",
     "text": [
      "gld_params: [0.05376214 0.01427881 0.39261063 0.12709856]\n",
      "wrapper([ 7.827e-01  8.196e-01 ...  4.556e-01  4.639e-01]) = 5.9608609865491405e-06\n",
      "assembly_constraint_no_mean([ 7.827e-01  8.196e-01 ...  4.556e-01  4.639e-01]) = [ 3.476e-02  6.692e-02 ...  1.483e-01  1.130e-01]\n"
     ]
    },
    {
     "data": {
      "application/vnd.jupyter.widget-view+json": {
       "model_id": "1f14fb8f505c4bc2a056605f5d8ad3ab",
       "version_major": 2,
       "version_minor": 0
      },
      "text/plain": [
       "  0%|          | 0/10000 [00:00<?, ?it/s]"
      ]
     },
     "metadata": {},
     "output_type": "display_data"
    },
    {
     "name": "stdout",
     "output_type": "stream",
     "text": [
      "gld_params: [0.05391632 0.01422734 0.392385   0.12688209]\n",
      "wrapper([ 7.814e-01  8.255e-01 ...  4.352e-01  4.443e-01]) = 5.9608609865491405e-06\n",
      "assembly_constraint_no_mean([ 7.814e-01  8.255e-01 ...  4.352e-01  4.443e-01]) = [ 1.509e-03  8.548e-04 ... -5.964e-03 -1.173e-03]\n"
     ]
    },
    {
     "data": {
      "application/vnd.jupyter.widget-view+json": {
       "model_id": "364a27e0d6aa4eccaeab817b88b7f440",
       "version_major": 2,
       "version_minor": 0
      },
      "text/plain": [
       "  0%|          | 0/10000 [00:00<?, ?it/s]"
      ]
     },
     "metadata": {},
     "output_type": "display_data"
    },
    {
     "name": "stdout",
     "output_type": "stream",
     "text": [
      "gld_params: [0.05385794 0.01425095 0.39175486 0.12630109]\n",
      "wrapper([ 7.705e-01  8.095e-01 ...  4.477e-01  4.571e-01]) = 5.9608609865491405e-06\n",
      "assembly_constraint_no_mean([ 7.705e-01  8.095e-01 ...  4.477e-01  4.571e-01]) = [-7.581e-02 -1.418e-01 ...  1.316e-01  1.260e-01]\n"
     ]
    },
    {
     "data": {
      "application/vnd.jupyter.widget-view+json": {
       "model_id": "cfcab34c607e4f85b7b57c0cd6b4f85d",
       "version_major": 2,
       "version_minor": 0
      },
      "text/plain": [
       "  0%|          | 0/10000 [00:00<?, ?it/s]"
      ]
     },
     "metadata": {},
     "output_type": "display_data"
    },
    {
     "name": "stdout",
     "output_type": "stream",
     "text": [
      "gld_params: [0.05390021 0.0142391  0.39175164 0.12644238]\n",
      "wrapper([ 7.784e-01  8.184e-01 ...  4.468e-01  4.475e-01]) = 5.9608609865491405e-06\n",
      "assembly_constraint_no_mean([ 7.784e-01  8.184e-01 ...  4.468e-01  4.475e-01]) = [ 1.774e-03  6.376e-03 ...  3.258e-03  4.778e-03]\n"
     ]
    },
    {
     "data": {
      "application/vnd.jupyter.widget-view+json": {
       "model_id": "7ed45c02635748f29b354a927bdd98b8",
       "version_major": 2,
       "version_minor": 0
      },
      "text/plain": [
       "  0%|          | 0/10000 [00:00<?, ?it/s]"
      ]
     },
     "metadata": {},
     "output_type": "display_data"
    },
    {
     "name": "stdout",
     "output_type": "stream",
     "text": [
      "gld_params: [0.05386616 0.01424872 0.39202646 0.12668935]\n",
      "wrapper([ 7.750e-01  8.122e-01 ...  4.407e-01  4.567e-01]) = 5.9608609865491405e-06\n",
      "assembly_constraint_no_mean([ 7.750e-01  8.122e-01 ...  4.407e-01  4.567e-01]) = [-8.456e-03  1.203e-01 ... -3.894e-02  3.071e-02]\n"
     ]
    },
    {
     "data": {
      "application/vnd.jupyter.widget-view+json": {
       "model_id": "64c1ca66d3f746a29128fbadb1cb2f1f",
       "version_major": 2,
       "version_minor": 0
      },
      "text/plain": [
       "  0%|          | 0/10000 [00:00<?, ?it/s]"
      ]
     },
     "metadata": {},
     "output_type": "display_data"
    },
    {
     "name": "stdout",
     "output_type": "stream",
     "text": [
      "gld_params: [0.0538754  0.0142554  0.39226958 0.12685493]\n",
      "wrapper([ 7.803e-01  8.148e-01 ...  4.162e-01  4.728e-01]) = 5.9608609865491405e-06\n",
      "assembly_constraint_no_mean([ 7.803e-01  8.148e-01 ...  4.162e-01  4.728e-01]) = [ 6.987e-03  4.919e-03 ...  5.778e-03 -6.757e-03]\n"
     ]
    },
    {
     "data": {
      "application/vnd.jupyter.widget-view+json": {
       "model_id": "49e1f7ddafe14584bfdc35215b8a8a37",
       "version_major": 2,
       "version_minor": 0
      },
      "text/plain": [
       "  0%|          | 0/10000 [00:00<?, ?it/s]"
      ]
     },
     "metadata": {},
     "output_type": "display_data"
    },
    {
     "name": "stdout",
     "output_type": "stream",
     "text": [
      "gld_params: [0.05397947 0.01418911 0.39259087 0.12606221]\n",
      "wrapper([ 7.820e-01  8.241e-01 ...  4.400e-01  4.443e-01]) = 5.9608609865491405e-06\n",
      "assembly_constraint_no_mean([ 7.820e-01  8.241e-01 ...  4.400e-01  4.443e-01]) = [ 6.654e-02  4.612e-02 ...  5.000e-02  3.903e-02]\n"
     ]
    },
    {
     "data": {
      "application/vnd.jupyter.widget-view+json": {
       "model_id": "67186c6f8ef5455c86b7a09135ec3fd7",
       "version_major": 2,
       "version_minor": 0
      },
      "text/plain": [
       "  0%|          | 0/10000 [00:00<?, ?it/s]"
      ]
     },
     "metadata": {},
     "output_type": "display_data"
    },
    {
     "name": "stdout",
     "output_type": "stream",
     "text": [
      "gld_params: [0.05384558 0.01427084 0.39192259 0.12703836]\n",
      "wrapper([ 7.785e-01  8.161e-01 ...  4.476e-01  4.499e-01]) = 5.9608609865491405e-06\n",
      "assembly_constraint_no_mean([ 7.785e-01  8.161e-01 ...  4.476e-01  4.499e-01]) = [ 4.949e-03 -2.096e-03 ...  2.662e-03  4.057e-03]\n"
     ]
    },
    {
     "data": {
      "application/vnd.jupyter.widget-view+json": {
       "model_id": "1bd6e5b8fe584a9a89395bd7ac47f29d",
       "version_major": 2,
       "version_minor": 0
      },
      "text/plain": [
       "  0%|          | 0/10000 [00:00<?, ?it/s]"
      ]
     },
     "metadata": {},
     "output_type": "display_data"
    },
    {
     "name": "stdout",
     "output_type": "stream",
     "text": [
      "gld_params: [0.05387831 0.01422897 0.39278711 0.12657976]\n",
      "wrapper([ 7.651e-01  8.237e-01 ...  4.461e-01  4.413e-01]) = 5.9608609865491405e-06\n",
      "assembly_constraint_no_mean([ 7.651e-01  8.237e-01 ...  4.461e-01  4.413e-01]) = [ 1.719e-02 -7.770e-02 ... -8.300e-02 -1.190e-01]\n"
     ]
    },
    {
     "data": {
      "application/vnd.jupyter.widget-view+json": {
       "model_id": "35ffd5113d6b4be6a13195ff97215146",
       "version_major": 2,
       "version_minor": 0
      },
      "text/plain": [
       "  0%|          | 0/10000 [00:00<?, ?it/s]"
      ]
     },
     "metadata": {},
     "output_type": "display_data"
    },
    {
     "name": "stdout",
     "output_type": "stream",
     "text": [
      "gld_params: [0.05384932 0.01425718 0.39222444 0.12687498]\n",
      "wrapper([ 7.880e-01  8.168e-01 ...  4.383e-01  4.609e-01]) = 5.9608609865491405e-06\n",
      "assembly_constraint_no_mean([ 7.880e-01  8.168e-01 ...  4.383e-01  4.609e-01]) = [ 2.141e-03  6.301e-03 ...  4.779e-03  1.548e-04]\n"
     ]
    },
    {
     "data": {
      "application/vnd.jupyter.widget-view+json": {
       "model_id": "14673d04f4114a0cb10c70aafde1ace3",
       "version_major": 2,
       "version_minor": 0
      },
      "text/plain": [
       "  0%|          | 0/10000 [00:00<?, ?it/s]"
      ]
     },
     "metadata": {},
     "output_type": "display_data"
    },
    {
     "name": "stdout",
     "output_type": "stream",
     "text": [
      "gld_params: [0.05395327 0.01419749 0.39245428 0.12590597]\n",
      "wrapper([ 7.668e-01  8.091e-01 ...  4.557e-01  4.606e-01]) = 5.9608609865491405e-06\n",
      "assembly_constraint_no_mean([ 7.668e-01  8.091e-01 ...  4.557e-01  4.606e-01]) = [-3.149e-02  4.884e-02 ... -2.871e-02  8.978e-02]\n"
     ]
    },
    {
     "data": {
      "application/vnd.jupyter.widget-view+json": {
       "model_id": "8b1d0ad880ad4f0792f1f620cc1246c6",
       "version_major": 2,
       "version_minor": 0
      },
      "text/plain": [
       "  0%|          | 0/10000 [00:00<?, ?it/s]"
      ]
     },
     "metadata": {},
     "output_type": "display_data"
    },
    {
     "name": "stdout",
     "output_type": "stream",
     "text": [
      "gld_params: [0.05386168 0.01425185 0.39188452 0.12622575]\n",
      "wrapper([ 7.680e-01  8.204e-01 ...  4.447e-01  4.644e-01]) = 5.9608609865491405e-06\n",
      "assembly_constraint_no_mean([ 7.680e-01  8.204e-01 ...  4.447e-01  4.644e-01]) = [ 4.156e-03  1.892e-03 ...  5.713e-03  1.657e-03]\n"
     ]
    },
    {
     "data": {
      "application/vnd.jupyter.widget-view+json": {
       "model_id": "c1bd366b396841aa9cdb13ad3533d9ad",
       "version_major": 2,
       "version_minor": 0
      },
      "text/plain": [
       "  0%|          | 0/10000 [00:00<?, ?it/s]"
      ]
     },
     "metadata": {},
     "output_type": "display_data"
    },
    {
     "name": "stdout",
     "output_type": "stream",
     "text": [
      "gld_params: [0.05392089 0.01423002 0.39237335 0.12699598]\n",
      "wrapper([ 7.850e-01  8.092e-01 ...  4.619e-01  4.504e-01]) = 5.9608609865491405e-06\n",
      "assembly_constraint_no_mean([ 7.850e-01  8.092e-01 ...  4.619e-01  4.504e-01]) = [-9.822e-03  5.423e-02 ... -4.773e-02  3.025e-02]\n"
     ]
    },
    {
     "data": {
      "application/vnd.jupyter.widget-view+json": {
       "model_id": "0be913dcabf0465d863e4fd989cdc0ad",
       "version_major": 2,
       "version_minor": 0
      },
      "text/plain": [
       "  0%|          | 0/10000 [00:00<?, ?it/s]"
      ]
     },
     "metadata": {},
     "output_type": "display_data"
    },
    {
     "name": "stdout",
     "output_type": "stream",
     "text": [
      "gld_params: [0.05389078 0.01423168 0.39255557 0.12669679]\n",
      "wrapper([ 7.803e-01  8.150e-01 ...  4.368e-01  4.491e-01]) = 5.9608609865491405e-06\n",
      "assembly_constraint_no_mean([ 7.803e-01  8.150e-01 ...  4.368e-01  4.491e-01]) = [-2.326e-03  4.373e-03 ...  7.619e-03  6.035e-03]\n"
     ]
    },
    {
     "data": {
      "application/vnd.jupyter.widget-view+json": {
       "model_id": "9d6c6be33d1c490eb47d2173f2a4324b",
       "version_major": 2,
       "version_minor": 0
      },
      "text/plain": [
       "  0%|          | 0/10000 [00:00<?, ?it/s]"
      ]
     },
     "metadata": {},
     "output_type": "display_data"
    },
    {
     "name": "stdout",
     "output_type": "stream",
     "text": [
      "gld_params: [0.05371107 0.01430076 0.39165249 0.12585757]\n",
      "wrapper([ 7.745e-01  8.135e-01 ...  4.573e-01  4.423e-01]) = 5.9608609865491405e-06\n",
      "assembly_constraint_no_mean([ 7.745e-01  8.135e-01 ...  4.573e-01  4.423e-01]) = [ 4.591e-03  1.028e-01 ...  5.120e-02 -7.274e-02]\n"
     ]
    },
    {
     "data": {
      "application/vnd.jupyter.widget-view+json": {
       "model_id": "1a356af1a0534d0abfd0bb7fdb4205a0",
       "version_major": 2,
       "version_minor": 0
      },
      "text/plain": [
       "  0%|          | 0/10000 [00:00<?, ?it/s]"
      ]
     },
     "metadata": {},
     "output_type": "display_data"
    },
    {
     "name": "stdout",
     "output_type": "stream",
     "text": [
      "gld_params: [0.05387465 0.01425446 0.39201206 0.12692652]\n",
      "wrapper([ 7.800e-01  8.176e-01 ...  4.429e-01  4.603e-01]) = 5.9608609865491405e-06\n",
      "assembly_constraint_no_mean([ 7.800e-01  8.176e-01 ...  4.429e-01  4.603e-01]) = [ 5.706e-04  2.246e-03 ...  1.361e-03  3.532e-03]\n"
     ]
    },
    {
     "data": {
      "application/vnd.jupyter.widget-view+json": {
       "model_id": "a12e196846614a9ab18c63c987f61ec7",
       "version_major": 2,
       "version_minor": 0
      },
      "text/plain": [
       "  0%|          | 0/10000 [00:00<?, ?it/s]"
      ]
     },
     "metadata": {},
     "output_type": "display_data"
    },
    {
     "name": "stdout",
     "output_type": "stream",
     "text": [
      "gld_params: [0.0538346  0.01423545 0.39238304 0.125988  ]\n",
      "wrapper([ 7.771e-01  8.148e-01 ...  4.661e-01  4.406e-01]) = 5.9608609865491405e-06\n",
      "assembly_constraint_no_mean([ 7.771e-01  8.148e-01 ...  4.661e-01  4.406e-01]) = [ 4.828e-03 -1.131e-01 ... -8.657e-02  8.848e-02]\n"
     ]
    },
    {
     "data": {
      "application/vnd.jupyter.widget-view+json": {
       "model_id": "92f10e4326f04a89bff0e2c220326729",
       "version_major": 2,
       "version_minor": 0
      },
      "text/plain": [
       "  0%|          | 0/10000 [00:00<?, ?it/s]"
      ]
     },
     "metadata": {},
     "output_type": "display_data"
    },
    {
     "name": "stdout",
     "output_type": "stream",
     "text": [
      "gld_params: [0.05383532 0.01425099 0.39256753 0.12656327]\n",
      "wrapper([ 7.797e-01  8.207e-01 ...  4.556e-01  4.439e-01]) = 5.9608609865491405e-06\n",
      "assembly_constraint_no_mean([ 7.797e-01  8.207e-01 ...  4.556e-01  4.439e-01]) = [ 5.771e-03  4.394e-03 ... -1.611e-03  2.616e-03]\n"
     ]
    },
    {
     "data": {
      "application/vnd.jupyter.widget-view+json": {
       "model_id": "a97dff4609a347ee94da9137fe87cb7d",
       "version_major": 2,
       "version_minor": 0
      },
      "text/plain": [
       "  0%|          | 0/10000 [00:00<?, ?it/s]"
      ]
     },
     "metadata": {},
     "output_type": "display_data"
    },
    {
     "name": "stdout",
     "output_type": "stream",
     "text": [
      "gld_params: [0.05392199 0.01421255 0.39268493 0.12647727]\n",
      "wrapper([ 7.896e-01  8.145e-01 ...  4.432e-01  4.357e-01]) = 5.9608609865491405e-06\n",
      "assembly_constraint_no_mean([ 7.896e-01  8.145e-01 ...  4.432e-01  4.357e-01]) = [ 1.489e-01 -3.269e-02 ...  4.061e-02 -9.964e-03]\n"
     ]
    },
    {
     "data": {
      "application/vnd.jupyter.widget-view+json": {
       "model_id": "1c667516b1df4ff5b0bae461facda501",
       "version_major": 2,
       "version_minor": 0
      },
      "text/plain": [
       "  0%|          | 0/10000 [00:00<?, ?it/s]"
      ]
     },
     "metadata": {},
     "output_type": "display_data"
    },
    {
     "name": "stdout",
     "output_type": "stream",
     "text": [
      "gld_params: [0.05391254 0.01421641 0.39248475 0.12645535]\n",
      "wrapper([ 7.784e-01  8.074e-01 ...  4.447e-01  4.405e-01]) = 5.9608609865491405e-06\n",
      "assembly_constraint_no_mean([ 7.784e-01  8.074e-01 ...  4.447e-01  4.405e-01]) = [ 2.023e-03  3.381e-03 ...  7.150e-03  1.975e-03]\n"
     ]
    },
    {
     "data": {
      "application/vnd.jupyter.widget-view+json": {
       "model_id": "84024d175ec244278886a6f7ddf393fb",
       "version_major": 2,
       "version_minor": 0
      },
      "text/plain": [
       "  0%|          | 0/10000 [00:00<?, ?it/s]"
      ]
     },
     "metadata": {},
     "output_type": "display_data"
    },
    {
     "name": "stdout",
     "output_type": "stream",
     "text": [
      "gld_params: [0.0537687  0.01427027 0.39207468 0.12540472]\n",
      "wrapper([ 7.941e-01  8.082e-01 ...  4.535e-01  4.639e-01]) = 5.9608609865491405e-06\n",
      "assembly_constraint_no_mean([ 7.941e-01  8.082e-01 ...  4.535e-01  4.639e-01]) = [ 9.422e-02  2.946e-02 ... -5.257e-02  5.876e-02]\n"
     ]
    },
    {
     "data": {
      "application/vnd.jupyter.widget-view+json": {
       "model_id": "f6c7ecac1e7f4f32a2cc9fa1fb9e844e",
       "version_major": 2,
       "version_minor": 0
      },
      "text/plain": [
       "  0%|          | 0/10000 [00:00<?, ?it/s]"
      ]
     },
     "metadata": {},
     "output_type": "display_data"
    },
    {
     "name": "stdout",
     "output_type": "stream",
     "text": [
      "gld_params: [0.05388454 0.0142325  0.39217557 0.12608527]\n",
      "wrapper([ 7.997e-01  7.895e-01 ...  4.487e-01  4.616e-01]) = 5.9608609865491405e-06\n",
      "assembly_constraint_no_mean([ 7.997e-01  7.895e-01 ...  4.487e-01  4.616e-01]) = [ 5.099e-03  7.951e-03 ...  1.795e-03  2.213e-03]\n"
     ]
    },
    {
     "data": {
      "application/vnd.jupyter.widget-view+json": {
       "model_id": "1b461d09b1e248ce97475848b94c1264",
       "version_major": 2,
       "version_minor": 0
      },
      "text/plain": [
       "  0%|          | 0/10000 [00:00<?, ?it/s]"
      ]
     },
     "metadata": {},
     "output_type": "display_data"
    },
    {
     "name": "stdout",
     "output_type": "stream",
     "text": [
      "gld_params: [0.05393619 0.01422107 0.39256953 0.12711769]\n",
      "wrapper([ 7.889e-01  8.046e-01 ...  4.344e-01  4.463e-01]) = 5.9608609865491405e-06\n",
      "assembly_constraint_no_mean([ 7.889e-01  8.046e-01 ...  4.344e-01  4.463e-01]) = [-4.167e-02  3.867e-02 ... -2.339e-02 -1.933e-02]\n"
     ]
    },
    {
     "data": {
      "application/vnd.jupyter.widget-view+json": {
       "model_id": "b8007bff62b0483da991e0be6bffab8b",
       "version_major": 2,
       "version_minor": 0
      },
      "text/plain": [
       "  0%|          | 0/10000 [00:00<?, ?it/s]"
      ]
     },
     "metadata": {},
     "output_type": "display_data"
    },
    {
     "name": "stdout",
     "output_type": "stream",
     "text": [
      "gld_params: [0.05387128 0.01424166 0.39257058 0.12714424]\n",
      "wrapper([ 7.719e-01  8.277e-01 ...  4.454e-01  4.453e-01]) = 5.9608609865491405e-06\n",
      "assembly_constraint_no_mean([ 7.719e-01  8.277e-01 ...  4.454e-01  4.453e-01]) = [ 6.983e-03  8.481e-03 ... -2.534e-04  1.886e-03]\n"
     ]
    },
    {
     "data": {
      "application/vnd.jupyter.widget-view+json": {
       "model_id": "ccf05bfc9b674e2991ece16d49ff84cc",
       "version_major": 2,
       "version_minor": 0
      },
      "text/plain": [
       "  0%|          | 0/10000 [00:00<?, ?it/s]"
      ]
     },
     "metadata": {},
     "output_type": "display_data"
    },
    {
     "name": "stdout",
     "output_type": "stream",
     "text": [
      "gld_params: [0.05385118 0.01425262 0.39206291 0.12628329]\n",
      "wrapper([ 7.755e-01  8.176e-01 ...  4.514e-01  4.486e-01]) = 5.9608609865491405e-06\n",
      "assembly_constraint_no_mean([ 7.755e-01  8.176e-01 ...  4.514e-01  4.486e-01]) = [ 4.993e-02 -7.005e-02 ...  3.423e-03 -3.321e-02]\n"
     ]
    },
    {
     "data": {
      "application/vnd.jupyter.widget-view+json": {
       "model_id": "4a575fc35e554de48c80ed7954d0fd2f",
       "version_major": 2,
       "version_minor": 0
      },
      "text/plain": [
       "  0%|          | 0/10000 [00:00<?, ?it/s]"
      ]
     },
     "metadata": {},
     "output_type": "display_data"
    },
    {
     "name": "stdout",
     "output_type": "stream",
     "text": [
      "gld_params: [0.05387378 0.0142529  0.39241156 0.12722478]\n",
      "wrapper([ 7.777e-01  8.060e-01 ...  4.480e-01  4.342e-01]) = 5.9608609865491405e-06\n",
      "assembly_constraint_no_mean([ 7.777e-01  8.060e-01 ...  4.480e-01  4.342e-01]) = [ 2.393e-03  3.248e-03 ...  1.117e-03  1.446e-03]\n"
     ]
    },
    {
     "data": {
      "application/vnd.jupyter.widget-view+json": {
       "model_id": "ea00d1c76b3343d6bcc4693daedfa4c3",
       "version_major": 2,
       "version_minor": 0
      },
      "text/plain": [
       "  0%|          | 0/10000 [00:00<?, ?it/s]"
      ]
     },
     "metadata": {},
     "output_type": "display_data"
    },
    {
     "name": "stdout",
     "output_type": "stream",
     "text": [
      "gld_params: [0.05388346 0.01424559 0.39213469 0.12699666]\n",
      "wrapper([ 7.811e-01  8.071e-01 ...  4.578e-01  4.546e-01]) = 5.9608609865491405e-06\n",
      "assembly_constraint_no_mean([ 7.811e-01  8.071e-01 ...  4.578e-01  4.546e-01]) = [ 6.651e-05 -3.768e-04 ...  2.624e-03  3.235e-03]\n"
     ]
    },
    {
     "data": {
      "application/vnd.jupyter.widget-view+json": {
       "model_id": "3e9f5834292e4f5ca345e9db39f9acc0",
       "version_major": 2,
       "version_minor": 0
      },
      "text/plain": [
       "  0%|          | 0/10000 [00:00<?, ?it/s]"
      ]
     },
     "metadata": {},
     "output_type": "display_data"
    },
    {
     "name": "stdout",
     "output_type": "stream",
     "text": [
      "gld_params: [0.05383163 0.0142686  0.39211877 0.12700817]\n",
      "wrapper([ 7.874e-01  8.026e-01 ...  4.429e-01  4.730e-01]) = 5.9608609865491405e-06\n",
      "assembly_constraint_no_mean([ 7.874e-01  8.026e-01 ...  4.429e-01  4.730e-01]) = [ 5.705e-04  2.005e-03 ...  1.129e-03  1.861e-03]\n"
     ]
    },
    {
     "data": {
      "application/vnd.jupyter.widget-view+json": {
       "model_id": "4e7f258875e342999d6de6a7601bb2aa",
       "version_major": 2,
       "version_minor": 0
      },
      "text/plain": [
       "  0%|          | 0/10000 [00:00<?, ?it/s]"
      ]
     },
     "metadata": {},
     "output_type": "display_data"
    },
    {
     "name": "stdout",
     "output_type": "stream",
     "text": [
      "gld_params: [0.05402603 0.0141966  0.39205983 0.12686506]\n",
      "wrapper([ 7.862e-01  8.012e-01 ...  4.470e-01  4.561e-01]) = 5.9608609865491405e-06\n",
      "assembly_constraint_no_mean([ 7.862e-01  8.012e-01 ...  4.470e-01  4.561e-01]) = [ 5.014e-02 -5.483e-02 ...  5.033e-02 -3.425e-02]\n"
     ]
    },
    {
     "data": {
      "application/vnd.jupyter.widget-view+json": {
       "model_id": "2ba53f4ec5a049cc9df7dc90a977f1af",
       "version_major": 2,
       "version_minor": 0
      },
      "text/plain": [
       "  0%|          | 0/10000 [00:00<?, ?it/s]"
      ]
     },
     "metadata": {},
     "output_type": "display_data"
    },
    {
     "name": "stdout",
     "output_type": "stream",
     "text": [
      "gld_params: [0.05390493 0.01425534 0.39200956 0.12753852]\n",
      "wrapper([ 7.840e-01  7.993e-01 ...  4.494e-01  4.455e-01]) = 5.9608609865491405e-06\n",
      "assembly_constraint_no_mean([ 7.840e-01  7.993e-01 ...  4.494e-01  4.455e-01]) = [ 1.236e-03  1.385e-03 ...  7.038e-03  5.547e-03]\n"
     ]
    },
    {
     "data": {
      "application/vnd.jupyter.widget-view+json": {
       "model_id": "dc71d3f59ecd4882bc345c3f0f2fb3c2",
       "version_major": 2,
       "version_minor": 0
      },
      "text/plain": [
       "  0%|          | 0/10000 [00:00<?, ?it/s]"
      ]
     },
     "metadata": {},
     "output_type": "display_data"
    },
    {
     "name": "stdout",
     "output_type": "stream",
     "text": [
      "gld_params: [0.05377201 0.01427343 0.3923034  0.12627919]\n",
      "wrapper([ 7.839e-01  8.123e-01 ...  4.534e-01  4.626e-01]) = 5.9608609865491405e-06\n",
      "assembly_constraint_no_mean([ 7.839e-01  8.123e-01 ...  4.534e-01  4.626e-01]) = [ 3.507e-02 -1.423e-02 ...  1.266e-02  3.519e-02]\n"
     ]
    },
    {
     "data": {
      "application/vnd.jupyter.widget-view+json": {
       "model_id": "d100ab06664d44fe8f318904d43a750c",
       "version_major": 2,
       "version_minor": 0
      },
      "text/plain": [
       "  0%|          | 0/10000 [00:00<?, ?it/s]"
      ]
     },
     "metadata": {},
     "output_type": "display_data"
    },
    {
     "name": "stdout",
     "output_type": "stream",
     "text": [
      "gld_params: [0.05389113 0.01423406 0.3920302  0.12621503]\n",
      "wrapper([ 7.716e-01  8.107e-01 ...  4.575e-01  4.630e-01]) = 5.9608609865491405e-06\n",
      "assembly_constraint_no_mean([ 7.716e-01  8.107e-01 ...  4.575e-01  4.630e-01]) = [ 1.770e-03  2.865e-03 ...  2.423e-03 -7.480e-04]\n"
     ]
    },
    {
     "data": {
      "application/vnd.jupyter.widget-view+json": {
       "model_id": "5dbbf7318dab4fc399c0bb0121ee9410",
       "version_major": 2,
       "version_minor": 0
      },
      "text/plain": [
       "  0%|          | 0/10000 [00:00<?, ?it/s]"
      ]
     },
     "metadata": {},
     "output_type": "display_data"
    },
    {
     "name": "stdout",
     "output_type": "stream",
     "text": [
      "gld_params: [0.05396121 0.01420235 0.39228184 0.1269961 ]\n",
      "wrapper([ 7.815e-01  8.110e-01 ...  4.621e-01  4.442e-01]) = 5.9608609865491405e-06\n",
      "assembly_constraint_no_mean([ 7.815e-01  8.110e-01 ...  4.621e-01  4.442e-01]) = [-3.985e-02 -3.531e-02 ...  6.795e-02  8.737e-03]\n"
     ]
    },
    {
     "data": {
      "application/vnd.jupyter.widget-view+json": {
       "model_id": "68d543cd17374994af68a4aa8873e120",
       "version_major": 2,
       "version_minor": 0
      },
      "text/plain": [
       "  0%|          | 0/10000 [00:00<?, ?it/s]"
      ]
     },
     "metadata": {},
     "output_type": "display_data"
    },
    {
     "name": "stdout",
     "output_type": "stream",
     "text": [
      "gld_params: [0.05393707 0.01421839 0.39206216 0.12670875]\n",
      "wrapper([ 7.933e-01  8.089e-01 ...  4.577e-01  4.499e-01]) = 5.9608609865491405e-06\n",
      "assembly_constraint_no_mean([ 7.933e-01  8.089e-01 ...  4.577e-01  4.499e-01]) = [ 4.430e-03  3.853e-03 ...  2.625e-03 -4.012e-04]\n"
     ]
    },
    {
     "data": {
      "application/vnd.jupyter.widget-view+json": {
       "model_id": "7fa134ad59bb459f94f4b6b75aadbd73",
       "version_major": 2,
       "version_minor": 0
      },
      "text/plain": [
       "  0%|          | 0/10000 [00:00<?, ?it/s]"
      ]
     },
     "metadata": {},
     "output_type": "display_data"
    },
    {
     "name": "stdout",
     "output_type": "stream",
     "text": [
      "gld_params: [0.05391701 0.01423051 0.39238506 0.12730373]\n",
      "wrapper([ 7.781e-01  8.072e-01 ...  4.561e-01  4.521e-01]) = 5.9608609865491405e-06\n",
      "assembly_constraint_no_mean([ 7.781e-01  8.072e-01 ...  4.561e-01  4.521e-01]) = [ 1.115e-02  3.604e-02 ... -3.398e-02 -3.425e-02]\n"
     ]
    },
    {
     "data": {
      "application/vnd.jupyter.widget-view+json": {
       "model_id": "f1115d49a2014c849ba7d1c87229d668",
       "version_major": 2,
       "version_minor": 0
      },
      "text/plain": [
       "  0%|          | 0/10000 [00:00<?, ?it/s]"
      ]
     },
     "metadata": {},
     "output_type": "display_data"
    },
    {
     "name": "stdout",
     "output_type": "stream",
     "text": [
      "gld_params: [0.053911   0.0142325  0.39247583 0.12725923]\n",
      "wrapper([ 7.907e-01  8.049e-01 ...  4.557e-01  4.444e-01]) = 5.9608609865491405e-06\n",
      "assembly_constraint_no_mean([ 7.907e-01  8.049e-01 ...  4.557e-01  4.444e-01]) = [ 2.739e-03  7.438e-03 ...  1.414e-03  3.325e-03]\n"
     ]
    },
    {
     "data": {
      "application/vnd.jupyter.widget-view+json": {
       "model_id": "3a55aa22d04e44b8971005bf5c70b831",
       "version_major": 2,
       "version_minor": 0
      },
      "text/plain": [
       "  0%|          | 0/10000 [00:00<?, ?it/s]"
      ]
     },
     "metadata": {},
     "output_type": "display_data"
    },
    {
     "name": "stdout",
     "output_type": "stream",
     "text": [
      "gld_params: [0.0539598  0.01422078 0.39233459 0.12742471]\n",
      "wrapper([ 8.017e-01  7.994e-01 ...  4.555e-01  4.543e-01]) = 5.9608609865491405e-06\n",
      "assembly_constraint_no_mean([ 8.017e-01  7.994e-01 ...  4.555e-01  4.543e-01]) = [ 5.129e-02 -5.687e-02 ... -1.060e-02  4.080e-03]\n"
     ]
    },
    {
     "data": {
      "application/vnd.jupyter.widget-view+json": {
       "model_id": "648cd36928d54537a6893fc1f1ee024c",
       "version_major": 2,
       "version_minor": 0
      },
      "text/plain": [
       "  0%|          | 0/10000 [00:00<?, ?it/s]"
      ]
     },
     "metadata": {},
     "output_type": "display_data"
    },
    {
     "name": "stdout",
     "output_type": "stream",
     "text": [
      "gld_params: [0.05391145 0.01422228 0.39229148 0.12669787]\n",
      "wrapper([ 7.775e-01  8.082e-01 ...  4.591e-01  4.501e-01]) = 5.9608609865491405e-06\n",
      "assembly_constraint_no_mean([ 7.775e-01  8.082e-01 ...  4.591e-01  4.501e-01]) = [ 9.088e-04  7.255e-03 ...  1.452e-03  1.371e-03]\n"
     ]
    },
    {
     "data": {
      "application/vnd.jupyter.widget-view+json": {
       "model_id": "cebad6cfa0514da3a1ab14bb0802830c",
       "version_major": 2,
       "version_minor": 0
      },
      "text/plain": [
       "  0%|          | 0/10000 [00:00<?, ?it/s]"
      ]
     },
     "metadata": {},
     "output_type": "display_data"
    },
    {
     "name": "stdout",
     "output_type": "stream",
     "text": [
      "gld_params: [0.05387995 0.014222   0.39240753 0.1260251 ]\n",
      "wrapper([ 7.742e-01  8.116e-01 ...  4.629e-01  4.550e-01]) = 5.9608609865491405e-06\n",
      "assembly_constraint_no_mean([ 7.742e-01  8.116e-01 ...  4.629e-01  4.550e-01]) = [-1.476e-02  5.327e-02 ...  7.657e-02 -1.714e-02]\n"
     ]
    },
    {
     "data": {
      "application/vnd.jupyter.widget-view+json": {
       "model_id": "649a1d21b0b840bf806c3ce335945ee7",
       "version_major": 2,
       "version_minor": 0
      },
      "text/plain": [
       "  0%|          | 0/10000 [00:00<?, ?it/s]"
      ]
     },
     "metadata": {},
     "output_type": "display_data"
    },
    {
     "name": "stdout",
     "output_type": "stream",
     "text": [
      "gld_params: [0.05390164 0.01425619 0.39174337 0.12762905]\n",
      "wrapper([ 7.730e-01  8.202e-01 ...  4.592e-01  4.507e-01]) = 5.9608609865491405e-06\n",
      "assembly_constraint_no_mean([ 7.730e-01  8.202e-01 ...  4.592e-01  4.507e-01]) = [ 3.273e-03  5.903e-03 ...  1.684e-03  1.065e-04]\n"
     ]
    },
    {
     "data": {
      "application/vnd.jupyter.widget-view+json": {
       "model_id": "a92c2d5bf6104c58af359e84b9dabfa5",
       "version_major": 2,
       "version_minor": 0
      },
      "text/plain": [
       "  0%|          | 0/10000 [00:00<?, ?it/s]"
      ]
     },
     "metadata": {},
     "output_type": "display_data"
    },
    {
     "name": "stdout",
     "output_type": "stream",
     "text": [
      "gld_params: [0.05365893 0.01437294 0.39066865 0.12728298]\n",
      "wrapper([ 7.875e-01  8.038e-01 ...  4.688e-01  4.681e-01]) = 5.9608609865491405e-06\n",
      "assembly_constraint_no_mean([ 7.875e-01  8.038e-01 ...  4.688e-01  4.681e-01]) = [ 1.867e-03  1.636e-02 ...  6.556e-02  8.516e-02]\n"
     ]
    },
    {
     "data": {
      "application/vnd.jupyter.widget-view+json": {
       "model_id": "85e8339bb7d842e18aea94ed80a1dd48",
       "version_major": 2,
       "version_minor": 0
      },
      "text/plain": [
       "  0%|          | 0/10000 [00:00<?, ?it/s]"
      ]
     },
     "metadata": {},
     "output_type": "display_data"
    },
    {
     "name": "stdout",
     "output_type": "stream",
     "text": [
      "gld_params: [0.05391248 0.01425569 0.39156492 0.12727797]\n",
      "wrapper([ 8.025e-01  8.009e-01 ...  4.524e-01  4.630e-01]) = 5.9608609865491405e-06\n",
      "assembly_constraint_no_mean([ 8.025e-01  8.009e-01 ...  4.524e-01  4.630e-01]) = [ 3.641e-03  7.902e-04 ...  2.529e-03  1.551e-03]\n"
     ]
    },
    {
     "data": {
      "application/vnd.jupyter.widget-view+json": {
       "model_id": "2f104db560b5407791ef348df6d1be41",
       "version_major": 2,
       "version_minor": 0
      },
      "text/plain": [
       "  0%|          | 0/10000 [00:00<?, ?it/s]"
      ]
     },
     "metadata": {},
     "output_type": "display_data"
    },
    {
     "name": "stdout",
     "output_type": "stream",
     "text": [
      "gld_params: [0.05403749 0.01419023 0.39227359 0.12731841]\n",
      "wrapper([ 7.701e-01  8.026e-01 ...  4.470e-01  4.431e-01]) = 5.9608609865491405e-06\n",
      "assembly_constraint_no_mean([ 7.701e-01  8.026e-01 ...  4.470e-01  4.431e-01]) = [-7.379e-02 -6.654e-02 ... -6.712e-02  2.384e-02]\n"
     ]
    },
    {
     "data": {
      "application/vnd.jupyter.widget-view+json": {
       "model_id": "7ee9547ff5354bb187f493c12341e3ee",
       "version_major": 2,
       "version_minor": 0
      },
      "text/plain": [
       "  0%|          | 0/10000 [00:00<?, ?it/s]"
      ]
     },
     "metadata": {},
     "output_type": "display_data"
    },
    {
     "name": "stdout",
     "output_type": "stream",
     "text": [
      "gld_params: [0.05388406 0.01425022 0.39190772 0.12699602]\n",
      "wrapper([ 7.697e-01  8.090e-01 ...  4.600e-01  4.416e-01]) = 5.9608609865491405e-06\n",
      "assembly_constraint_no_mean([ 7.697e-01  8.090e-01 ...  4.600e-01  4.416e-01]) = [ 2.029e-03  2.117e-03 ...  1.644e-03  2.082e-03]\n"
     ]
    },
    {
     "data": {
      "application/vnd.jupyter.widget-view+json": {
       "model_id": "401214c293804f2295289fd927faeaf8",
       "version_major": 2,
       "version_minor": 0
      },
      "text/plain": [
       "  0%|          | 0/10000 [00:00<?, ?it/s]"
      ]
     },
     "metadata": {},
     "output_type": "display_data"
    },
    {
     "name": "stdout",
     "output_type": "stream",
     "text": [
      "gld_params: [0.05391855 0.01425297 0.39169552 0.12741934]\n",
      "wrapper([ 7.690e-01  8.103e-01 ...  4.645e-01  4.337e-01]) = 5.9608609865491405e-06\n",
      "assembly_constraint_no_mean([ 7.690e-01  8.103e-01 ...  4.645e-01  4.337e-01]) = [ 3.850e-03  4.963e-03 ... -5.025e-02  6.020e-02]\n"
     ]
    },
    {
     "data": {
      "application/vnd.jupyter.widget-view+json": {
       "model_id": "090037496a784d1bb0188f4320b1808f",
       "version_major": 2,
       "version_minor": 0
      },
      "text/plain": [
       "  0%|          | 0/10000 [00:00<?, ?it/s]"
      ]
     },
     "metadata": {},
     "output_type": "display_data"
    },
    {
     "name": "stdout",
     "output_type": "stream",
     "text": [
      "gld_params: [0.05388078 0.01425397 0.3921383  0.12713805]\n",
      "wrapper([ 7.501e-01  8.211e-01 ...  4.498e-01  4.377e-01]) = 5.9608609865491405e-06\n",
      "assembly_constraint_no_mean([ 7.501e-01  8.211e-01 ...  4.498e-01  4.377e-01]) = [ 4.540e-03 -1.256e-04 ...  1.951e-03  8.208e-04]\n"
     ]
    },
    {
     "data": {
      "application/vnd.jupyter.widget-view+json": {
       "model_id": "571461de05d84a618e8939e4148279f2",
       "version_major": 2,
       "version_minor": 0
      },
      "text/plain": [
       "  0%|          | 0/10000 [00:00<?, ?it/s]"
      ]
     },
     "metadata": {},
     "output_type": "display_data"
    },
    {
     "name": "stdout",
     "output_type": "stream",
     "text": [
      "gld_params: [0.05386237 0.01425041 0.39175456 0.12613593]\n",
      "wrapper([ 7.639e-01  7.980e-01 ...  4.743e-01  4.450e-01]) = 5.9608609865491405e-06\n",
      "assembly_constraint_no_mean([ 7.639e-01  7.980e-01 ...  4.743e-01  4.450e-01]) = [-5.519e-03  9.436e-03 ... -2.160e-02 -6.634e-03]\n"
     ]
    },
    {
     "data": {
      "application/vnd.jupyter.widget-view+json": {
       "model_id": "0280e42d99cc4132aa98dd0edd997e12",
       "version_major": 2,
       "version_minor": 0
      },
      "text/plain": [
       "  0%|          | 0/10000 [00:00<?, ?it/s]"
      ]
     },
     "metadata": {},
     "output_type": "display_data"
    },
    {
     "name": "stdout",
     "output_type": "stream",
     "text": [
      "gld_params: [0.05391678 0.01421641 0.39209447 0.12643313]\n",
      "wrapper([ 7.786e-01  8.020e-01 ...  4.606e-01  4.316e-01]) = 5.9608609865491405e-06\n",
      "assembly_constraint_no_mean([ 7.786e-01  8.020e-01 ...  4.606e-01  4.316e-01]) = [-3.693e-04 -5.949e-04 ...  1.163e-03  1.343e-03]\n"
     ]
    },
    {
     "data": {
      "application/vnd.jupyter.widget-view+json": {
       "model_id": "6fefb15977a64df98bdf4bc565518e55",
       "version_major": 2,
       "version_minor": 0
      },
      "text/plain": [
       "  0%|          | 0/10000 [00:00<?, ?it/s]"
      ]
     },
     "metadata": {},
     "output_type": "display_data"
    },
    {
     "name": "stdout",
     "output_type": "stream",
     "text": [
      "gld_params: [0.05381631 0.01427392 0.39182219 0.12646226]\n",
      "wrapper([ 7.707e-01  8.176e-01 ...  4.602e-01  4.475e-01]) = 5.9608609865491405e-06\n",
      "assembly_constraint_no_mean([ 7.707e-01  8.176e-01 ...  4.602e-01  4.475e-01]) = [ 7.395e-02 -3.693e-02 ... -6.171e-02 -2.040e-02]\n"
     ]
    },
    {
     "data": {
      "application/vnd.jupyter.widget-view+json": {
       "model_id": "ae6018d3869f4220ab6fa42616918071",
       "version_major": 2,
       "version_minor": 0
      },
      "text/plain": [
       "  0%|          | 0/10000 [00:00<?, ?it/s]"
      ]
     },
     "metadata": {},
     "output_type": "display_data"
    },
    {
     "name": "stdout",
     "output_type": "stream",
     "text": [
      "gld_params: [0.05391091 0.01424496 0.39182255 0.12665877]\n",
      "wrapper([ 7.805e-01  7.925e-01 ...  4.542e-01  4.556e-01]) = 5.9608609865491405e-06\n",
      "assembly_constraint_no_mean([ 7.805e-01  7.925e-01 ...  4.542e-01  4.556e-01]) = [ 2.523e-03  2.401e-04 ...  2.255e-04  4.224e-03]\n"
     ]
    },
    {
     "data": {
      "application/vnd.jupyter.widget-view+json": {
       "model_id": "b7db4b3811564c8c8c9a05ac81208278",
       "version_major": 2,
       "version_minor": 0
      },
      "text/plain": [
       "  0%|          | 0/10000 [00:00<?, ?it/s]"
      ]
     },
     "metadata": {},
     "output_type": "display_data"
    },
    {
     "name": "stdout",
     "output_type": "stream",
     "text": [
      "gld_params: [0.05380333 0.01427783 0.39169737 0.12678154]\n",
      "wrapper([ 7.543e-01  8.067e-01 ...  4.635e-01  4.420e-01]) = 5.9608609865491405e-06\n",
      "assembly_constraint_no_mean([ 7.543e-01  8.067e-01 ...  4.635e-01  4.420e-01]) = [-7.594e-02 -8.708e-02 ...  3.188e-02  6.022e-02]\n"
     ]
    },
    {
     "data": {
      "application/vnd.jupyter.widget-view+json": {
       "model_id": "d791ae25a79249c4aa97bae54b76b033",
       "version_major": 2,
       "version_minor": 0
      },
      "text/plain": [
       "  0%|          | 0/10000 [00:00<?, ?it/s]"
      ]
     },
     "metadata": {},
     "output_type": "display_data"
    },
    {
     "name": "stdout",
     "output_type": "stream",
     "text": [
      "gld_params: [0.05375995 0.01428597 0.3920119  0.12686223]\n",
      "wrapper([ 7.760e-01  8.090e-01 ...  4.743e-01  4.357e-01]) = 5.9608609865491405e-06\n",
      "assembly_constraint_no_mean([ 7.760e-01  8.090e-01 ...  4.743e-01  4.357e-01]) = [ 4.213e-02  3.914e-02 ... -6.855e-02  8.349e-02]\n"
     ]
    },
    {
     "data": {
      "application/vnd.jupyter.widget-view+json": {
       "model_id": "86d77f0c8ff244fb8f7c38ba261a4aaa",
       "version_major": 2,
       "version_minor": 0
      },
      "text/plain": [
       "  0%|          | 0/10000 [00:00<?, ?it/s]"
      ]
     },
     "metadata": {},
     "output_type": "display_data"
    },
    {
     "name": "stdout",
     "output_type": "stream",
     "text": [
      "gld_params: [0.05397786 0.01421534 0.39259181 0.1279671 ]\n",
      "wrapper([ 7.686e-01  8.132e-01 ...  4.549e-01  4.092e-01]) = 5.9608609865491405e-06\n",
      "assembly_constraint_no_mean([ 7.686e-01  8.132e-01 ...  4.549e-01  4.092e-01]) = [ 2.651e-02 -6.772e-02 ...  2.398e-02 -1.235e-01]\n",
      "\n",
      "New trust-region radius: 0.005000000000000001.\n",
      "Number of function evaluations: 209.\n",
      "Number of iterations: 80.\n",
      "Least value of wrapper: 5.9608609865491405e-06.\n",
      "Maximum constraint violation: 0.0013896488946062847.\n",
      "Corresponding point: [ 7.697e-01  8.090e-01 ...  4.600e-01  4.416e-01].\n",
      "\n"
     ]
    },
    {
     "data": {
      "application/vnd.jupyter.widget-view+json": {
       "model_id": "a9857e9d662c4d2ea5e4a0ccb75cc121",
       "version_major": 2,
       "version_minor": 0
      },
      "text/plain": [
       "  0%|          | 0/10000 [00:00<?, ?it/s]"
      ]
     },
     "metadata": {},
     "output_type": "display_data"
    },
    {
     "name": "stdout",
     "output_type": "stream",
     "text": [
      "gld_params: [0.05387601 0.01425345 0.39191095 0.12700881]\n",
      "wrapper([ 7.706e-01  8.113e-01 ...  4.601e-01  4.425e-01]) = 5.9608609865491405e-06\n",
      "assembly_constraint_no_mean([ 7.706e-01  8.113e-01 ...  4.601e-01  4.425e-01]) = [ 2.180e-02  9.748e-04 ...  9.656e-03  1.331e-02]\n"
     ]
    },
    {
     "data": {
      "application/vnd.jupyter.widget-view+json": {
       "model_id": "fbca86dfd2584573b8efa35069238b4b",
       "version_major": 2,
       "version_minor": 0
      },
      "text/plain": [
       "  0%|          | 0/10000 [00:00<?, ?it/s]"
      ]
     },
     "metadata": {},
     "output_type": "display_data"
    },
    {
     "name": "stdout",
     "output_type": "stream",
     "text": [
      "gld_params: [0.05389184 0.01424545 0.3919343  0.12693765]\n",
      "wrapper([ 7.712e-01  8.095e-01 ...  4.598e-01  4.417e-01]) = 5.9608609865491405e-06\n",
      "assembly_constraint_no_mean([ 7.712e-01  8.095e-01 ...  4.598e-01  4.417e-01]) = [ 1.177e-02  4.369e-03 ... -9.473e-03  6.611e-03]\n"
     ]
    },
    {
     "data": {
      "application/vnd.jupyter.widget-view+json": {
       "model_id": "0290cddcceaf436099cd9fd1951764a6",
       "version_major": 2,
       "version_minor": 0
      },
      "text/plain": [
       "  0%|          | 0/10000 [00:00<?, ?it/s]"
      ]
     },
     "metadata": {},
     "output_type": "display_data"
    },
    {
     "name": "stdout",
     "output_type": "stream",
     "text": [
      "gld_params: [0.05388272 0.01424919 0.39190757 0.12695411]\n",
      "wrapper([ 7.691e-01  8.084e-01 ...  4.598e-01  4.407e-01]) = 5.9608609865491405e-06\n",
      "assembly_constraint_no_mean([ 7.691e-01  8.084e-01 ...  4.598e-01  4.407e-01]) = [-6.756e-03  2.124e-02 ...  5.889e-03  9.007e-03]\n",
      "\n",
      "New trust-region radius: 0.0007071067811865476.\n",
      "Number of function evaluations: 212.\n",
      "Number of iterations: 84.\n",
      "Least value of wrapper: 5.9608609865491405e-06.\n",
      "Maximum constraint violation: 0.0013896488946062847.\n",
      "Corresponding point: [ 7.697e-01  8.090e-01 ...  4.600e-01  4.416e-01].\n",
      "\n"
     ]
    },
    {
     "data": {
      "application/vnd.jupyter.widget-view+json": {
       "model_id": "a5dd9ec65d814358b4297269192cf3c7",
       "version_major": 2,
       "version_minor": 0
      },
      "text/plain": [
       "  0%|          | 0/10000 [00:00<?, ?it/s]"
      ]
     },
     "metadata": {},
     "output_type": "display_data"
    },
    {
     "name": "stdout",
     "output_type": "stream",
     "text": [
      "gld_params: [0.05388399 0.0142502  0.39190746 0.12699528]\n",
      "wrapper([ 7.698e-01  8.092e-01 ...  4.598e-01  4.416e-01]) = 5.9608609865491405e-06\n",
      "assembly_constraint_no_mean([ 7.698e-01  8.092e-01 ...  4.598e-01  4.416e-01]) = [ 3.833e-03  1.970e-03 ... -1.709e-04  1.319e-03]\n"
     ]
    },
    {
     "data": {
      "application/vnd.jupyter.widget-view+json": {
       "model_id": "8ead86683e8346628e640a8b8624b9a3",
       "version_major": 2,
       "version_minor": 0
      },
      "text/plain": [
       "  0%|          | 0/10000 [00:00<?, ?it/s]"
      ]
     },
     "metadata": {},
     "output_type": "display_data"
    },
    {
     "name": "stdout",
     "output_type": "stream",
     "text": [
      "gld_params: [0.05388168 0.01425094 0.39190445 0.12699346]\n",
      "wrapper([ 7.699e-01  8.090e-01 ...  4.600e-01  4.415e-01]) = 5.9608609865491405e-06\n",
      "assembly_constraint_no_mean([ 7.699e-01  8.090e-01 ...  4.600e-01  4.415e-01]) = [ 2.898e-03  3.519e-03 ...  3.749e-03  1.068e-03]\n"
     ]
    },
    {
     "data": {
      "application/vnd.jupyter.widget-view+json": {
       "model_id": "0931e6ff54884a09b570e316b803d5b5",
       "version_major": 2,
       "version_minor": 0
      },
      "text/plain": [
       "  0%|          | 0/10000 [00:00<?, ?it/s]"
      ]
     },
     "metadata": {},
     "output_type": "display_data"
    },
    {
     "name": "stdout",
     "output_type": "stream",
     "text": [
      "gld_params: [0.05388487 0.01424957 0.39190587 0.12698086]\n",
      "wrapper([ 7.696e-01  8.090e-01 ...  4.601e-01  4.418e-01]) = 5.9608609865491405e-06\n",
      "assembly_constraint_no_mean([ 7.696e-01  8.090e-01 ...  4.601e-01  4.418e-01]) = [ 1.882e-03  2.776e-03 ...  2.400e-03  3.011e-03]\n"
     ]
    },
    {
     "data": {
      "application/vnd.jupyter.widget-view+json": {
       "model_id": "c3fa5a7ba8f342c88f17edb02c1e751a",
       "version_major": 2,
       "version_minor": 0
      },
      "text/plain": [
       "  0%|          | 0/10000 [00:00<?, ?it/s]"
      ]
     },
     "metadata": {},
     "output_type": "display_data"
    },
    {
     "name": "stdout",
     "output_type": "stream",
     "text": [
      "gld_params: [0.0538836  0.01425037 0.39191422 0.12700802]\n",
      "wrapper([ 7.697e-01  8.089e-01 ...  4.600e-01  4.417e-01]) = 5.9608609865491405e-06\n",
      "assembly_constraint_no_mean([ 7.697e-01  8.089e-01 ...  4.600e-01  4.417e-01]) = [ 1.106e-03  2.193e-03 ...  2.267e-03  3.679e-03]\n"
     ]
    },
    {
     "data": {
      "application/vnd.jupyter.widget-view+json": {
       "model_id": "efbf5fa43b2c448c92223169ae9429ab",
       "version_major": 2,
       "version_minor": 0
      },
      "text/plain": [
       "  0%|          | 0/10000 [00:00<?, ?it/s]"
      ]
     },
     "metadata": {},
     "output_type": "display_data"
    },
    {
     "name": "stdout",
     "output_type": "stream",
     "text": [
      "gld_params: [0.05388472 0.01424982 0.39191584 0.12699899]\n",
      "wrapper([ 7.697e-01  8.090e-01 ...  4.600e-01  4.415e-01]) = 5.9608609865491405e-06\n",
      "assembly_constraint_no_mean([ 7.697e-01  8.090e-01 ...  4.600e-01  4.415e-01]) = [ 2.361e-03  3.593e-03 ...  1.590e-04  7.068e-04]\n",
      "\n",
      "New trust-region radius: 0.0001.\n",
      "Number of function evaluations: 217.\n",
      "Number of iterations: 90.\n",
      "Least value of wrapper: 5.9608609865491405e-06.\n",
      "Maximum constraint violation: 0.0013896488946062847.\n",
      "Corresponding point: [ 7.697e-01  8.090e-01 ...  4.600e-01  4.416e-01].\n",
      "\n"
     ]
    },
    {
     "data": {
      "application/vnd.jupyter.widget-view+json": {
       "model_id": "67cc5148e1e24452af4d85c39c009a22",
       "version_major": 2,
       "version_minor": 0
      },
      "text/plain": [
       "  0%|          | 0/10000 [00:00<?, ?it/s]"
      ]
     },
     "metadata": {},
     "output_type": "display_data"
    },
    {
     "name": "stdout",
     "output_type": "stream",
     "text": [
      "gld_params: [0.05388555 0.01424978 0.39190784 0.12699777]\n",
      "wrapper([ 7.696e-01  8.089e-01 ...  4.600e-01  4.415e-01]) = 5.9608609865491405e-06\n",
      "assembly_constraint_no_mean([ 7.696e-01  8.089e-01 ...  4.600e-01  4.415e-01]) = [ 1.129e-03  1.139e-03 ...  1.074e-03  1.130e-03]\n"
     ]
    },
    {
     "data": {
      "application/vnd.jupyter.widget-view+json": {
       "model_id": "832e7e52b2e9455295ffc18d50d669dd",
       "version_major": 2,
       "version_minor": 0
      },
      "text/plain": [
       "  0%|          | 0/10000 [00:00<?, ?it/s]"
      ]
     },
     "metadata": {},
     "output_type": "display_data"
    },
    {
     "name": "stdout",
     "output_type": "stream",
     "text": [
      "gld_params: [0.05388557 0.0142498  0.39190679 0.12699822]\n",
      "wrapper([ 7.696e-01  8.089e-01 ...  4.600e-01  4.415e-01]) = 5.9608609865491405e-06\n",
      "assembly_constraint_no_mean([ 7.696e-01  8.089e-01 ...  4.600e-01  4.415e-01]) = [ 1.093e-03  1.176e-03 ...  9.239e-04  1.056e-03]\n"
     ]
    },
    {
     "data": {
      "application/vnd.jupyter.widget-view+json": {
       "model_id": "56ddcd13ff63431dbff050bf2480d2f9",
       "version_major": 2,
       "version_minor": 0
      },
      "text/plain": [
       "  0%|          | 0/10000 [00:00<?, ?it/s]"
      ]
     },
     "metadata": {},
     "output_type": "display_data"
    },
    {
     "name": "stdout",
     "output_type": "stream",
     "text": [
      "gld_params: [0.05388539 0.01424986 0.39190765 0.12699799]\n",
      "wrapper([ 7.696e-01  8.089e-01 ...  4.600e-01  4.415e-01]) = 5.9608609865491405e-06\n",
      "assembly_constraint_no_mean([ 7.696e-01  8.089e-01 ...  4.600e-01  4.415e-01]) = [ 1.191e-03  1.140e-03 ...  8.380e-04  1.187e-03]\n"
     ]
    },
    {
     "data": {
      "application/vnd.jupyter.widget-view+json": {
       "model_id": "22b952092deb4069a94466227d015c5c",
       "version_major": 2,
       "version_minor": 0
      },
      "text/plain": [
       "  0%|          | 0/10000 [00:00<?, ?it/s]"
      ]
     },
     "metadata": {},
     "output_type": "display_data"
    },
    {
     "name": "stdout",
     "output_type": "stream",
     "text": [
      "gld_params: [0.05388541 0.01424981 0.39190853 0.12699786]\n",
      "wrapper([ 7.696e-01  8.089e-01 ...  4.600e-01  4.415e-01]) = 5.9608609865491405e-06\n",
      "assembly_constraint_no_mean([ 7.696e-01  8.089e-01 ...  4.600e-01  4.415e-01]) = [ 1.205e-03  1.118e-03 ...  9.390e-04  1.236e-03]\n"
     ]
    },
    {
     "data": {
      "application/vnd.jupyter.widget-view+json": {
       "model_id": "d85648d380ef40e6849be34fe5be1da5",
       "version_major": 2,
       "version_minor": 0
      },
      "text/plain": [
       "  0%|          | 0/10000 [00:00<?, ?it/s]"
      ]
     },
     "metadata": {},
     "output_type": "display_data"
    },
    {
     "name": "stdout",
     "output_type": "stream",
     "text": [
      "gld_params: [0.05388557 0.01424979 0.39190819 0.1269993 ]\n",
      "wrapper([ 7.696e-01  8.089e-01 ...  4.599e-01  4.415e-01]) = 5.9608609865491405e-06\n",
      "assembly_constraint_no_mean([ 7.696e-01  8.089e-01 ...  4.599e-01  4.415e-01]) = [ 1.161e-03  1.209e-03 ...  1.162e-03  8.529e-04]\n"
     ]
    },
    {
     "data": {
      "application/vnd.jupyter.widget-view+json": {
       "model_id": "aff2375742e6458fbf1c25f421b8fc53",
       "version_major": 2,
       "version_minor": 0
      },
      "text/plain": [
       "  0%|          | 0/10000 [00:00<?, ?it/s]"
      ]
     },
     "metadata": {},
     "output_type": "display_data"
    },
    {
     "name": "stdout",
     "output_type": "stream",
     "text": [
      "gld_params: [0.05388563 0.01424974 0.39190849 0.12699835]\n",
      "wrapper([ 7.696e-01  8.089e-01 ...  4.599e-01  4.415e-01]) = 5.9608609865491405e-06\n",
      "assembly_constraint_no_mean([ 7.696e-01  8.089e-01 ...  4.599e-01  4.415e-01]) = [ 1.209e-03  1.047e-03 ...  1.275e-03  1.043e-03]\n",
      "\n",
      "The lower bound for the trust-region radius has been reached.\n",
      "Number of function evaluations: 223.\n",
      "Number of iterations: 97.\n",
      "Least value of wrapper: 5.9608609865491405e-06.\n",
      "Maximum constraint violation: 0.00017744634437685228.\n",
      "Corresponding point: [ 7.696e-01  8.089e-01 ...  4.600e-01  4.415e-01].\n",
      "minimization Result with COBYQA:\n",
      " message: The lower bound for the trust-region radius has been reached\n",
      " success: False\n",
      "  status: 0\n",
      "     fun: 5.9608609865491405e-06\n",
      "       x: [ 7.696e-01  8.089e-01 ...  4.600e-01  4.415e-01]\n",
      "     nit: 97\n",
      "   maxcv: 0.00017744634437685228\n",
      "    nfev: 223\n"
     ]
    }
   ],
   "source": [
    "# Initial guess\n",
    "x0_mini = [0.5] * RandDeviationVect.getDimension()  # Initial guess\n",
    "\n",
    "# Perform the local optimization using COBYQA directly\n",
    "res_mini = minimize(\n",
    "    optimization_function_mini, \n",
    "    x0_mini, \n",
    "    method=\"COBYQA\", \n",
    "    jac=None, \n",
    "    bounds=Bounds(0.0, 1.0, keep_feasible=True),\n",
    "    constraints = nonLinearConstraint,\n",
    "    options={\n",
    "        \"f_target\": -0.01, #Has to be  \n",
    "        \"maxiter\": 1000,\n",
    "        \"maxfev\": 4000,\n",
    "        \"feasibility_tol\": 1e-9,\n",
    "        \"initial_tr_radius\": np.sqrt(2*32),\n",
    "        \"final_tr_radius\": 1e-6,\n",
    "        \"disp\": True,\n",
    "        \"scale\": False #True\n",
    "    }\n",
    ")\n",
    "\n",
    "print(\"minimization Result with COBYQA:\")\n",
    "print(res_mini)"
   ]
  },
  {
   "cell_type": "code",
   "execution_count": null,
   "id": "e5b32bf3-1f8a-4e76-8cf0-e8df3e45090d",
   "metadata": {},
   "outputs": [],
   "source": []
  },
  {
   "cell_type": "code",
   "execution_count": 54,
   "id": "6b0eb93f-1a5a-456a-ad65-b86f0c100471",
   "metadata": {},
   "outputs": [
    {
     "data": {
      "image/png": "[encoded data removed]",
      "text/plain": [
       "<Figure size 960x720 with 1 Axes>"
      ]
     },
     "metadata": {},
     "output_type": "display_data"
    }
   ],
   "source": [
    "otaf.plotting.plot_gld_pbox_cdf(gld,\n",
    "          [0.05388563, 0.01424974, 0.39190849, 0.12699835], \n",
    "          [0.04306886, 0.02397462, 0.36453265, 0.13973758],\n",
    "          np.linspace(-0.025, 0.085, 1000))\n"
   ]
  },
  {
   "cell_type": "code",
   "execution_count": null,
   "id": "34bb5870-0875-4677-9efe-c2bee9e9f7e1",
   "metadata": {
    "scrolled": true
   },
   "outputs": [],
   "source": [
    "# Basinhopping for the maximization function using COBYQA\n",
    "x0_maxi = [0.25] * RandDeviationVect.getDimension()  # Initial guess\n",
    "\n",
    "# Update minimizer_kwargs_maxi to use COBYQA\n",
    "minimizer_kwargs_maxi = {\n",
    "    \"method\": \"COBYQA\",   # Use COBYQA method\n",
    "    \"args\": (model_base,),     # Update args to match COBYQA requirements\n",
    "    \"constraints\": nonLinearConstraint,\n",
    "    \"bounds\": Bounds(lb=0.0,ub=1.0, keep_feasible=True),\n",
    "    \"options\": {\n",
    "        \"f_target\": -0.1, \n",
    "        \"maxiter\": 1000,\n",
    "        \"maxfev\": 4000,\n",
    "        \"feasibility_tol\": 1e-9, # tol on constraint violation\n",
    "        \"initial_tr_radius\": np.sqrt(2*32),\n",
    "        \"final_tr_radius\": 1e-4,\n",
    "        \"disp\": True\n",
    "    }\n",
    "}\n",
    "\n",
    "# Running basinhopping with COBYQA as the local optimizer\n",
    "res_maxi = basinhopping(\n",
    "    optimization_function_maxi, x0_maxi,\n",
    "    niter=5,\n",
    "    T=1,\n",
    "    stepsize=3.0,\n",
    "    niter_success=19,\n",
    "    interval=5,\n",
    "    minimizer_kwargs=minimizer_kwargs_maxi,\n",
    "    disp=True,\n",
    "    #take_step=step_taking,\n",
    "    #accept_test=accept_test,\n",
    "    #callback=callback\n",
    ")\n",
    "\n",
    "print(\"Maximization Result with COBYQA:\")\n",
    "print(res_maxi)"
   ]
  },
  {
   "cell_type": "code",
   "execution_count": null,
   "id": "57e3c1a4-7d8f-441d-a59d-6be0897b7cf8",
   "metadata": {},
   "outputs": [],
   "source": [
    "res_maxi.x.round(3)"
   ]
  },
  {
   "cell_type": "code",
   "execution_count": null,
   "id": "1687ab1e-cb51-4d88-8aac-39655110c711",
   "metadata": {},
   "outputs": [],
   "source": []
  },
  {
   "cell_type": "code",
   "execution_count": null,
   "id": "e6fea5b5-191c-4ee7-be87-e7cc47a123f3",
   "metadata": {},
   "outputs": [],
   "source": [
    "N = ot.Normal()\n",
    "func = ot.SymbolicFunction([\"x\"], [\"abs(x)\"])"
   ]
  },
  {
   "cell_type": "code",
   "execution_count": null,
   "id": "31cd7a4a-8080-492e-bcd3-f818072e212e",
   "metadata": {},
   "outputs": [],
   "source": []
  }
 ],
 "metadata": {
  "kernelspec": {
   "display_name": "Python 3 (ipykernel)",
   "language": "python",
   "name": "python3"
  },
  "language_info": {
   "codemirror_mode": {
    "name": "ipython",
    "version": 3
   },
   "file_extension": ".py",
   "mimetype": "text/x-python",
   "name": "python",
   "nbconvert_exporter": "python",
   "pygments_lexer": "ipython3",
   "version": "3.13.0"
  }
 },
 "nbformat": 4,
 "nbformat_minor": 5
}
