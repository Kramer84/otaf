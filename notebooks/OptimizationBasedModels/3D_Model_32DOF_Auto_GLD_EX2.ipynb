{
 "cells": [
  {
   "cell_type": "code",
   "execution_count": 1,
   "id": "872744ae-a8b8-4796-9eff-ecbae30ae4c4",
   "metadata": {},
   "outputs": [],
   "source": [
    "import os\n",
    "import pickle\n",
    "import re\n",
    "import pprint\n",
    "import numpy as np\n",
    "import sympy as sp\n",
    "import openturns as ot\n",
    "# Display the final graph\n",
    "import openturns.viewer as viewer\n",
    "import matplotlib.pyplot as plt\n",
    "import trimesh as tr\n",
    "from importlib import reload\n",
    "from functools import partial\n",
    "\n",
    "from math import pi\n",
    "from joblib import Parallel, delayed\n",
    "from importlib import reload\n",
    "from IPython.display import display, clear_output\n",
    "from time import time\n",
    "from sympy.printing import latex\n",
    "from trimesh import viewer as trview\n",
    "import sklearn\n",
    "\n",
    "from scipy.optimize import OptimizeResult, minimize, basinhopping, differential_evolution, brute, shgo, check_grad, approx_fprime, fsolve, NonlinearConstraint, Bounds\n",
    "\n",
    "import tqdm\n",
    "import otaf\n",
    "\n",
    "from gldpy import GLD\n",
    "\n",
    "ot.Log.Show(ot.Log.NONE)\n",
    "np.set_printoptions(suppress=True)\n",
    "ar = np.array"
   ]
  },
  {
   "cell_type": "markdown",
   "id": "4817c72a-0818-4d16-a347-bc57ef3cf4d7",
   "metadata": {},
   "source": [
    "# Notebook for the analysis of a system comprised of N + 2 parts, 2 plates with N = N1 x N2 holes, and N pins. "
   ]
  },
  {
   "cell_type": "markdown",
   "id": "dd3f3fc3-09ea-4e9a-bca2-0a532e8398eb",
   "metadata": {},
   "source": [
    "### Defintion on global descriptive parameters"
   ]
  },
  {
   "cell_type": "code",
   "execution_count": 2,
   "id": "91253f14-bf22-495a-b2da-aa89d49d970d",
   "metadata": {},
   "outputs": [],
   "source": [
    "NX = 2 ## Number of holes on x axis\n",
    "NY = 2 ## Number of holes on y axis\n",
    "Dext = 20 ## Diameter of holes in mm\n",
    "Dint = 19.8 ## Diameter of pins in mm\n",
    "EH = 50 ## Distance between the hole axises\n",
    "LB = 25 # Distance between border holes axis and edge.\n",
    "hPlate = 30 #Height of the plates in mm\n",
    "hPin = 60 #Height of the pins in mm\n",
    "\n",
    "CIRCLE_RESOLUTION = 16 # NUmber of points to model the contour of the outer holes"
   ]
  },
  {
   "cell_type": "markdown",
   "id": "57fa6a57-ff00-4438-9487-0304ddcf7cd9",
   "metadata": {},
   "source": [
    "### Defining and constructing the system data dictionary\n",
    "\n",
    "The plates have NX * NY + 1 surfaces. The lower left point has coordinate 0,0,0\n",
    "\n",
    "We only model the surfaces that are touching. "
   ]
  },
  {
   "cell_type": "code",
   "execution_count": 3,
   "id": "9be0ccd7-a39e-4eef-83c8-ff9d759040bd",
   "metadata": {},
   "outputs": [],
   "source": [
    "N_PARTS = NX * NY * 2\n",
    "LX = (NX - 1) * EH + 2*LB\n",
    "LY = (NY - 1) * EH + 2*LB\n",
    "\n",
    "contour_points = ar([[0,0,0],[LX,0,0],[LX,LY,0],[0,LY,0]])\n",
    "\n",
    "R0 = ar([[1, 0, 0], [0, 1, 0], [0, 0, 1]])\n",
    "x_, y_, z_ = R0[0], R0[1], R0[2]\n",
    "\n",
    "Frame1 = ar([z_,y_,-x_])\n",
    "Frame2 = ar([-z_,y_,x_])"
   ]
  },
  {
   "cell_type": "markdown",
   "id": "42692f0e-e845-4efa-9470-805dc0d65b3b",
   "metadata": {},
   "source": [
    "First we define the base part dictionaries for the upper and lower plate, without holes"
   ]
  },
  {
   "cell_type": "code",
   "execution_count": 4,
   "id": "35a1bb46-a7f6-4d9d-82f0-07ceccb9ed9d",
   "metadata": {},
   "outputs": [],
   "source": [
    "system_data = {\n",
    "    \"PARTS\" : {\n",
    "        '0' : {\n",
    "            \"a\" : {\n",
    "                \"FRAME\": Frame1,\n",
    "                \"POINTS\": {'A0' : ar([0,0,0]),\n",
    "                           'A1' : ar([LX,0,0]),\n",
    "                           'A2' : ar([LX,LY,0]),\n",
    "                           'A3' : ar([0,LY,0]),\n",
    "                        },\n",
    "                \"TYPE\": \"plane\",\n",
    "                \"INTERACTIONS\": ['P1a'],\n",
    "                \"CONSTRAINTS_D\": [\"PERFECT\"],\n",
    "                \"CONSTRAINTS_G\": [\"SLIDING\"],            \n",
    "            }\n",
    "        },\n",
    "        '1' : {\n",
    "            \"a\" : {\n",
    "                \"FRAME\": Frame2,\n",
    "                \"POINTS\": {'A0' : ar([0,0,0]),\n",
    "                           'A1' : ar([LX,0,0]),\n",
    "                           'A2' : ar([LX,LY,0]),\n",
    "                           'A3' : ar([0,LY,0]),\n",
    "                        },\n",
    "                \"TYPE\": \"plane\",\n",
    "                \"INTERACTIONS\": ['P0a'],\n",
    "                \"CONSTRAINTS_D\": [\"PERFECT\"],\n",
    "                \"CONSTRAINTS_G\": [\"SLIDING\"],            \n",
    "            }\n",
    "        }  \n",
    "    },\n",
    "    \"LOOPS\": {\n",
    "        \"COMPATIBILITY\": {\n",
    "        },\n",
    "    },\n",
    "    \"GLOBAL_CONSTRAINTS\": \"3D\",\n",
    "}"
   ]
  },
  {
   "cell_type": "markdown",
   "id": "e1e81a47-6214-4774-ab58-8d16bd43ac9b",
   "metadata": {},
   "source": [
    "Then we iterate over the pin dimensions NX and NY, and create the corresponding holes and pins. At the same time there is 1 loop per pin"
   ]
  },
  {
   "cell_type": "code",
   "execution_count": 5,
   "id": "29491ebe-37b5-4879-a740-64db3434d62e",
   "metadata": {},
   "outputs": [],
   "source": [
    "alpha_gen = otaf.common.alphabet_generator()\n",
    "next(alpha_gen) # skipping 'a' as it has already been used above\n",
    "part_id = 2 # Start part index for pins\n",
    "for i in range(NX):\n",
    "    for j in range(NY):\n",
    "        pcor = ar([LB+i*EH, LB+j*EH, 0]) # Point coordinate for hole / pins\n",
    "        slab = next(alpha_gen) # Surface label, same for each mating pin so its easeir to track\n",
    "        # Creating pin\n",
    "        system_data[\"PARTS\"][str(part_id)] = {}\n",
    "        system_data[\"PARTS\"][str(part_id)][slab] = {\n",
    "            \"FRAME\": Frame1, # Frame doesn't really matter, as long as x is aligned on the axis\n",
    "            \"ORIGIN\": pcor, \n",
    "            \"TYPE\": \"cylinder\",\n",
    "            \"RADIUS\": Dint / 2,\n",
    "            \"EXTENT_LOCAL\": {\"x_max\": hPin/2, \"x_min\": -hPin/2},\n",
    "            \"INTERACTIONS\": [f\"P0{slab}\", f\"P1{slab}\"], \n",
    "            \"SURFACE_DIRECTION\": \"centrifugal\",\n",
    "            \"CONSTRAINTS_D\": [\"PERFECT\"], # No defects on the pins\n",
    "            \"BLOCK_ROTATIONS_G\": 'x', # The pins do not rotate around their axis\n",
    "            \"BLOCK_TRANSLATIONS_G\": 'x', # The pins do not slide along their axis\n",
    "        }\n",
    "        # Adding hole to part 0\n",
    "        system_data[\"PARTS\"][\"0\"][slab] = {\n",
    "            \"FRAME\": Frame1,\n",
    "            \"ORIGIN\": pcor, \n",
    "            \"TYPE\": \"cylinder\",\n",
    "            \"RADIUS\": Dext / 2,\n",
    "            \"EXTENT_LOCAL\": {\"x_max\": hPin/2, \"x_min\": -hPin/2},\n",
    "            \"INTERACTIONS\": [f\"P{part_id}{slab}\"], \n",
    "            \"SURFACE_DIRECTION\": \"centripetal\",\n",
    "        }\n",
    "        # Adding hole to part 1\n",
    "        system_data[\"PARTS\"][\"1\"][slab] = {\n",
    "            \"FRAME\": Frame2,\n",
    "            \"ORIGIN\": pcor, \n",
    "            \"TYPE\": \"cylinder\",\n",
    "            \"RADIUS\": Dext / 2,\n",
    "            \"EXTENT_LOCAL\": {\"x_max\": hPin/2, \"x_min\": -hPin/2},\n",
    "            \"INTERACTIONS\": [f\"P{part_id}{slab}\"],\n",
    "            \"SURFACE_DIRECTION\": \"centripetal\",\n",
    "        }\n",
    "        # Construct Compatibility loop\n",
    "        loop_id = f\"L{part_id-1}\"\n",
    "        formater = lambda i,l : f\"P{i}{l}{l.upper()}0\" \n",
    "        system_data[\"LOOPS\"][\"COMPATIBILITY\"][loop_id] = f\"P0aA0 -> {formater(0,slab)} -> {formater(part_id,slab)} -> {formater(1,slab)} -> P1aA0\"\n",
    "        part_id += 1  "
   ]
  },
  {
   "cell_type": "code",
   "execution_count": 6,
   "id": "293f981a-efe3-4b44-b9f3-b7a580cf3829",
   "metadata": {},
   "outputs": [],
   "source": [
    "SDA = otaf.AssemblyDataProcessor(system_data)\n",
    "SDA.generate_expanded_loops()"
   ]
  },
  {
   "cell_type": "code",
   "execution_count": 7,
   "id": "e3e26ae8-3e27-496d-ac65-9f4385d89105",
   "metadata": {},
   "outputs": [],
   "source": [
    "CLH = otaf.CompatibilityLoopHandling(SDA)\n",
    "compatibility_expressions = CLH.get_compatibility_expression_from_FO_matrices()"
   ]
  },
  {
   "cell_type": "code",
   "execution_count": 8,
   "id": "87736588-7cec-4360-b748-2dfc7666461e",
   "metadata": {
    "scrolled": true
   },
   "outputs": [
    {
     "name": "stdout",
     "output_type": "stream",
     "text": [
      "Processing part 0, surface b for cylinder-to-cylinder interactions.\n",
      "usedGMatDat [['0', 'b', 'B0', '2', 'b', 'B0']]\n",
      "Found 1 used gap matrices.\n",
      "unusedGMatDat [['0', 'b', 'B1', '2', 'b', 'B1'], ['0', 'b', 'B2', '2', 'b', 'B2']]\n",
      "Found 2 unused gap matrices.\n",
      "Matching used and unused gap matrices: GP0bB0P2bB0 with GP0bB1P2bB1\n",
      "Matching used and unused gap matrices: GP0bB0P2bB0 with GP0bB2P2bB2\n",
      "Generated 32 interaction equations for current matching.\n",
      "Total interaction equations generated: 32\n",
      "Processing part 0, surface c for cylinder-to-cylinder interactions.\n",
      "usedGMatDat [['0', 'c', 'C0', '3', 'c', 'C0']]\n",
      "Found 1 used gap matrices.\n",
      "unusedGMatDat [['0', 'c', 'C2', '3', 'c', 'C2'], ['0', 'c', 'C1', '3', 'c', 'C1']]\n",
      "Found 2 unused gap matrices.\n",
      "Matching used and unused gap matrices: GP0cC0P3cC0 with GP0cC2P3cC2\n",
      "Matching used and unused gap matrices: GP0cC0P3cC0 with GP0cC1P3cC1\n",
      "Generated 32 interaction equations for current matching.\n",
      "Total interaction equations generated: 32\n",
      "Processing part 0, surface d for cylinder-to-cylinder interactions.\n",
      "usedGMatDat [['0', 'd', 'D0', '4', 'd', 'D0']]\n",
      "Found 1 used gap matrices.\n",
      "unusedGMatDat [['0', 'd', 'D2', '4', 'd', 'D2'], ['0', 'd', 'D1', '4', 'd', 'D1']]\n",
      "Found 2 unused gap matrices.\n",
      "Matching used and unused gap matrices: GP0dD0P4dD0 with GP0dD2P4dD2\n",
      "Matching used and unused gap matrices: GP0dD0P4dD0 with GP0dD1P4dD1\n",
      "Generated 32 interaction equations for current matching.\n",
      "Total interaction equations generated: 32\n",
      "Processing part 0, surface e for cylinder-to-cylinder interactions.\n",
      "usedGMatDat [['0', 'e', 'E0', '5', 'e', 'E0']]\n",
      "Found 1 used gap matrices.\n",
      "unusedGMatDat [['0', 'e', 'E1', '5', 'e', 'E1'], ['0', 'e', 'E2', '5', 'e', 'E2']]\n",
      "Found 2 unused gap matrices.\n",
      "Matching used and unused gap matrices: GP0eE0P5eE0 with GP0eE1P5eE1\n",
      "Matching used and unused gap matrices: GP0eE0P5eE0 with GP0eE2P5eE2\n",
      "Generated 32 interaction equations for current matching.\n",
      "Total interaction equations generated: 32\n",
      "Processing part 1, surface a for plane-to-plane interactions.\n",
      "usedGMatDat [['1', 'a', 'A0', '0', 'a', 'A0']]\n",
      "Found 1 used gap matrices.\n",
      "unusedGMatDat [['1', 'a', 'A1', '0', 'a', 'A1'], ['1', 'a', 'A2', '0', 'a', 'A2'], ['1', 'a', 'A3', '0', 'a', 'A3']]\n",
      "Found 3 unused gap matrices.\n",
      "Generated 3 interaction matrix loops for current matching.\n",
      "Processing part 2, surface b for cylinder-to-cylinder interactions.\n",
      "usedGMatDat [['2', 'b', 'B0', '1', 'b', 'B0']]\n",
      "Found 1 used gap matrices.\n",
      "unusedGMatDat [['2', 'b', 'B0', '0', 'b', 'B0'], ['2', 'b', 'B1', '0', 'b', 'B1'], ['2', 'b', 'B2', '1', 'b', 'B1'], ['2', 'b', 'B2', '0', 'b', 'B2'], ['2', 'b', 'B1', '1', 'b', 'B2']]\n",
      "Found 5 unused gap matrices.\n",
      "Matching used and unused gap matrices: GP2bB0P1bB0 with GP2bB2P1bB1\n",
      "Matching used and unused gap matrices: GP2bB0P1bB0 with GP2bB1P1bB2\n",
      "Generated 32 interaction equations for current matching.\n",
      "Total interaction equations generated: 32\n",
      "Processing part 3, surface c for cylinder-to-cylinder interactions.\n",
      "usedGMatDat [['3', 'c', 'C0', '1', 'c', 'C0']]\n",
      "Found 1 used gap matrices.\n",
      "unusedGMatDat [['3', 'c', 'C2', '1', 'c', 'C1'], ['3', 'c', 'C1', '1', 'c', 'C2'], ['3', 'c', 'C0', '0', 'c', 'C0'], ['3', 'c', 'C2', '0', 'c', 'C2'], ['3', 'c', 'C1', '0', 'c', 'C1']]\n",
      "Found 5 unused gap matrices.\n",
      "Matching used and unused gap matrices: GP3cC0P1cC0 with GP3cC2P1cC1\n",
      "Matching used and unused gap matrices: GP3cC0P1cC0 with GP3cC1P1cC2\n",
      "Generated 32 interaction equations for current matching.\n",
      "Total interaction equations generated: 32\n",
      "Processing part 4, surface d for cylinder-to-cylinder interactions.\n",
      "usedGMatDat [['4', 'd', 'D0', '1', 'd', 'D0']]\n",
      "Found 1 used gap matrices.\n",
      "unusedGMatDat [['4', 'd', 'D2', '0', 'd', 'D2'], ['4', 'd', 'D2', '1', 'd', 'D1'], ['4', 'd', 'D1', '0', 'd', 'D1'], ['4', 'd', 'D1', '1', 'd', 'D2'], ['4', 'd', 'D0', '0', 'd', 'D0']]\n",
      "Found 5 unused gap matrices.\n",
      "Matching used and unused gap matrices: GP4dD0P1dD0 with GP4dD2P1dD1\n",
      "Matching used and unused gap matrices: GP4dD0P1dD0 with GP4dD1P1dD2\n",
      "Generated 32 interaction equations for current matching.\n",
      "Total interaction equations generated: 32\n",
      "Processing part 5, surface e for cylinder-to-cylinder interactions.\n",
      "usedGMatDat [['5', 'e', 'E0', '1', 'e', 'E0']]\n",
      "Found 1 used gap matrices.\n",
      "unusedGMatDat [['5', 'e', 'E2', '0', 'e', 'E2'], ['5', 'e', 'E2', '1', 'e', 'E1'], ['5', 'e', 'E1', '1', 'e', 'E2'], ['5', 'e', 'E0', '0', 'e', 'E0'], ['5', 'e', 'E1', '0', 'e', 'E1']]\n",
      "Found 5 unused gap matrices.\n",
      "Matching used and unused gap matrices: GP5eE0P1eE0 with GP5eE2P1eE1\n",
      "Matching used and unused gap matrices: GP5eE0P1eE0 with GP5eE1P1eE2\n",
      "Generated 32 interaction equations for current matching.\n",
      "Total interaction equations generated: 32\n"
     ]
    }
   ],
   "source": [
    "ILH = otaf.InterfaceLoopHandling(SDA, CLH, circle_resolution=CIRCLE_RESOLUTION)\n",
    "interface_constraints = ILH.get_interface_loop_expressions()"
   ]
  },
  {
   "cell_type": "code",
   "execution_count": 9,
   "id": "31d2f4ba-f4bd-425a-ba0c-50cabc500272",
   "metadata": {},
   "outputs": [
    {
     "name": "stdout",
     "output_type": "stream",
     "text": [
      "32 [v_d_0, w_d_0, beta_d_0, gamma_d_0, v_d_2, w_d_2, beta_d_2, gamma_d_2, v_d_5, w_d_5, beta_d_5, gamma_d_5, v_d_7, w_d_7, beta_d_7, gamma_d_7, v_d_8, w_d_8, beta_d_8, gamma_d_8, v_d_10, w_d_10, beta_d_10, gamma_d_10, v_d_11, w_d_11, beta_d_11, gamma_d_11, v_d_13, w_d_13, beta_d_13, gamma_d_13]\n"
     ]
    }
   ],
   "source": [
    "SOCAM = otaf.SystemOfConstraintsAssemblyModel(\n",
    "    compatibility_expressions, interface_constraints\n",
    ")\n",
    "\n",
    "SOCAM.embedOptimizationVariable()\n",
    "\n",
    "print(len(SOCAM.deviation_symbols), SOCAM.deviation_symbols)"
   ]
  },
  {
   "cell_type": "markdown",
   "id": "e1be834b-fc7d-4fc3-85eb-2d8768c446ed",
   "metadata": {},
   "source": [
    "## Construction of the stochastic model of the defects.\n",
    "\n",
    "These are the max variances. "
   ]
  },
  {
   "cell_type": "code",
   "execution_count": 10,
   "id": "31049a41-8b2a-49c0-8142-2819f94c51ee",
   "metadata": {},
   "outputs": [],
   "source": [
    "tol = 0.1 * np.sqrt(2)\n",
    "Cm = 1  # Process capability\n",
    "\n",
    "# Defining the uncertainties on the position and orientation uncertainties.\n",
    "sigma_e_pos = tol / (6 * Cm)\n",
    "theta_max = tol / hPlate\n",
    "sigma_e_theta = (2 * theta_max) / (6 * Cm)"
   ]
  },
  {
   "cell_type": "code",
   "execution_count": 11,
   "id": "449f3658-2055-4cd6-a9bb-0ef7d520204f",
   "metadata": {},
   "outputs": [],
   "source": [
    "RandDeviationVect = otaf.distribution.get_composed_normal_defect_distribution(\n",
    "    defect_names=SOCAM.deviation_symbols,\n",
    "    sigma_dict = {\"alpha\":sigma_e_theta, \n",
    "                  \"beta\":sigma_e_theta,\n",
    "                  \"gamma\":sigma_e_theta, \n",
    "                  \"u\":sigma_e_pos, \n",
    "                  \"v\":sigma_e_pos, \n",
    "                  \"w\":sigma_e_pos})\n",
    "dim_devs = int(RandDeviationVect.getDimension())"
   ]
  },
  {
   "cell_type": "markdown",
   "id": "e58a0a59-111e-461e-b796-afacf7adce72",
   "metadata": {},
   "source": [
    "## Estimating the bounds on the probability of failure of the model.\n",
    "\n",
    "- First by exploring the whle parameter space, by generating a LHS in the (normalized) parameter space and doing a double loop montecarlo\n",
    "- By using the parameter constraint function to guide an optimization algorithm to find the bounds on the probability of failure"
   ]
  },
  {
   "cell_type": "markdown",
   "id": "f55b207f-7a0c-4bdd-96d3-12d235ee3202",
   "metadata": {},
   "source": [
    "## Now lets first to a double loop monte-carlo to explore the full space of the parameters (using the intermediate lambda space) and the stochastic space, to be able to draw the full P-Box of the slack"
   ]
  },
  {
   "cell_type": "markdown",
   "id": "60040ec1-5d78-428e-ba44-6b6adb01de5f",
   "metadata": {},
   "source": [
    "### Explicit constraint function on the 4 degrees of freedom of the cylindrical tolerance zone :\n",
    "\n",
    "$$λu2​+λv2​+λα2​+λβ2​+2(λu​λα​+λv​λβ​)−1=0$$\n",
    "\n",
    "This the constraint on the multipliers of the max standard deviation for each component of the DOFs. The defects are normal, centered and independent"
   ]
  },
  {
   "cell_type": "code",
   "execution_count": 12,
   "id": "640d99d7-56c6-4b9f-a4de-d28268b35398",
   "metadata": {},
   "outputs": [
    {
     "ename": "NameError",
     "evalue": "name 'STOP' is not defined",
     "output_type": "error",
     "traceback": [
      "\u001b[0;31m---------------------------------------------------------------------------\u001b[0m",
      "\u001b[0;31mNameError\u001b[0m                                 Traceback (most recent call last)",
      "Cell \u001b[0;32mIn[12], line 1\u001b[0m\n\u001b[0;32m----> 1\u001b[0m \u001b[43mSTOP\u001b[49m\n",
      "\u001b[0;31mNameError\u001b[0m: name 'STOP' is not defined"
     ]
    }
   ],
   "source": [
    "STOP"
   ]
  },
  {
   "cell_type": "code",
   "execution_count": null,
   "id": "3a94e1fe-9ae9-4000-96d5-1c1a896f28ab",
   "metadata": {
    "scrolled": true
   },
   "outputs": [],
   "source": [
    "bounds = None\n",
    "SEED_MC_PF = 6436431\n",
    "SIZE_MC_PF = 20000 #int(1e6) #1e4\n",
    "s_values = np.zeros((N_lambda, SIZE_MC_PF)) # For each MC point we have a s value\n",
    "GLD_parameters = [] # We need the parameters of the generalized lambda distribution.\n",
    "failure_probabilities = []\n",
    "# Generalized lambda distribution object for fitting\n",
    "gld = GLD('VSL')\n",
    "\n",
    "start_time = time()  # Record the start time\n",
    "for i in range(N_lambda):\n",
    "    print(f\"Doing iteration {i} of {N_lambda}\")\n",
    "    if i>0:\n",
    "        fp = failure_probabilities\n",
    "        print(f\"Failure probability i-1 : {fp[i-1]}, Min: {min(fp)}, / Max: {max(fp)}\")\n",
    "        print(\"s_mean: \", s_values.mean().round(3), \"s_min: \", np.nanmin(s_values).round(3), \"s_max: \", np.nanmax(s_values).round(3))\n",
    "\n",
    "    ot.RandomGenerator.SetSeed(SEED_MC_PF)\n",
    "    deviation_samples = np.array(RandDeviationVect.getSample(SIZE_MC_PF)) * np.array(\n",
    "        lambda_sample_conditioned[i]\n",
    "    )\n",
    "    optimizations = otaf.uncertainty.compute_gap_optimizations_on_sample(\n",
    "            SOCAM,\n",
    "            deviation_samples,\n",
    "            bounds=bounds,\n",
    "            n_cpu=-1,\n",
    "            progress_bar=True,\n",
    "        )\n",
    "    \n",
    "    slack = np.array([opt.fun for opt in optimizations], dtype=float)*-1 #Normally there aren\"t any nans.\n",
    "    s_values[i,:] = slack\n",
    "    GLD_parameters.append(gld.fit_LMM(slack, disp_fit=False, disp_optimizer=False))\n",
    "    failure_probabilities.append(gld.CDF_num(0, GLD_parameters[i]))\n",
    "\n",
    "\n",
    "print(f\"Done {len (lambda_sample_conditioned)} experiments.\")\n",
    "print(f\"Elapsed time: {time() - start_time:.3f} seconds.\")"
   ]
  },
  {
   "cell_type": "code",
   "execution_count": null,
   "id": "116d7e37-a5a0-4371-983b-aad3fb8ba30f",
   "metadata": {},
   "outputs": [],
   "source": [
    "X = otaf.sampling.find_best_worst_quantile(np.array(lambda_sample_conditioned), np.array(failure_probabilities), 0.1)\n",
    "(best_5p_lambda, best_5p_res), (worst_5p_lambda, worst_5p_res) = X"
   ]
  },
  {
   "cell_type": "code",
   "execution_count": null,
   "id": "4ef201d9-f0c7-4d9a-8431-da3f26fab7e7",
   "metadata": {},
   "outputs": [],
   "source": [
    "distributions = [ot.UserDefined(ot.Sample(s[:,np.newaxis])) for s in s_values]\n",
    "x_min, x_max = -0.03, 0.11\n",
    "sup_data, inf_data = otaf.distribution.compute_sup_inf_distributions(distributions, x_min, x_max)"
   ]
  },
  {
   "cell_type": "code",
   "execution_count": null,
   "id": "42d09b7e-a700-4d30-9e13-4d7cd8c71c34",
   "metadata": {},
   "outputs": [],
   "source": [
    "# Initialize colors and legends for each lambda sample\n",
    "colors = [[\"grey\"]] * lambda_sample_conditioned.getSize()\n",
    "legends = [\"\"] * lambda_sample_conditioned.getSize()\n",
    "\n",
    "# Plot the combined CDF with additional curves for the envelopes\n",
    "graph_full = otaf.plotting.plot_combined_CDF(distributions, x_min, x_max, colors, legends)\n",
    "graph_full = otaf.plotting.set_graph_legends(\n",
    "    graph_full,\n",
    "    x_title=\"j\",\n",
    "    y_title=\"P\",\n",
    "    title=\"Slack P-BOX 32 dimensions\",\n",
    "    legends=legends\n",
    ")\n",
    "\n",
    "# Add the upper and lower envelopes to the graph\n",
    "graph_full.add(ot.Curve(inf_data, \"blue\", \"solid\", 1.5, \"lower envelope\"))\n",
    "graph_full.add(ot.Curve(sup_data, \"red\", \"solid\", 1.5, \"upper envelope\"))\n",
    "view = viewer.View(graph_full, pixelsize=(1100, 750))"
   ]
  },
  {
   "cell_type": "code",
   "execution_count": null,
   "id": "59e9ac3f-503d-4d98-804a-507201a7e55a",
   "metadata": {},
   "outputs": [],
   "source": [
    "min(failure_probabilities)"
   ]
  },
  {
   "cell_type": "markdown",
   "id": "b175ab42-9b8b-4e48-abd4-55fb64a25d79",
   "metadata": {},
   "source": [
    "# Now we'll use the other lambda modelization, a bit more difficutl to sample"
   ]
  },
  {
   "cell_type": "code",
   "execution_count": null,
   "id": "7cc29a0a-6b65-47e8-9c0d-6ce3ca604abb",
   "metadata": {},
   "outputs": [],
   "source": [
    "lambda_limit_sample = otaf.sampling.generate_imprecise_probabilistic_samples([4]*8, -1, discretization=1)\n",
    "lambda_limit_sample_sub_choice = [next(lambda_limit_sample) for _ in range(60000)]\n",
    "lambda_limit_sample_sub_choice = np.stack(lambda_limit_sample_sub_choice)\n",
    "print(lambda_limit_sample_sub_choice.shape)"
   ]
  },
  {
   "cell_type": "code",
   "execution_count": null,
   "id": "cc7a0477-968f-4b75-8450-316b000245cf",
   "metadata": {},
   "outputs": [],
   "source": [
    "def solve_for_lambda_beta(lambda_u, lambda_v, lambda_alpha):\n",
    "    \"\"\"\n",
    "    Solve the equation for lambda_beta given lambda_u, lambda_v, and lambda_alpha.\n",
    "    \"\"\"\n",
    "    def equation(lambda_beta):\n",
    "        return (lambda_u**2 + lambda_v**2 + lambda_alpha**2 + lambda_beta**2 +\n",
    "                2 * (lambda_u * lambda_alpha + lambda_v * lambda_beta) - 1)\n",
    "    \n",
    "    # Use a root-finding method to solve for lambda_beta\n",
    "    lambda_beta_initial_guess = 0.5\n",
    "    lambda_beta_solution = fsolve(equation, lambda_beta_initial_guess)[0]\n",
    "    \n",
    "    return lambda_beta_solution\n",
    "\n",
    "def generate_points_on_surface(num_points=1000):\n",
    "    \"\"\"\n",
    "    Generate points on the surface by solving for lambda_beta\n",
    "    given random values for lambda_u, lambda_v, and lambda_alpha.\n",
    "    \n",
    "    Returns:\n",
    "    - A numpy array of shape (num_valid_points, 4) where each row is \n",
    "      (lambda_u, lambda_v, lambda_alpha, lambda_beta).\n",
    "    \"\"\"\n",
    "    # Generate random values for lambda_u, lambda_v, lambda_alpha in [0, 1]\n",
    "    lambda_u = np.random.rand(num_points)\n",
    "    lambda_v = np.random.rand(num_points)\n",
    "    lambda_alpha = np.random.rand(num_points)\n",
    "    \n",
    "    # Assume lambda_beta = 0 and check if the inequality is satisfied\n",
    "    inequality_values = lambda_u**2 + lambda_v**2 + lambda_alpha**2 + 2 * (lambda_u * lambda_alpha)\n",
    "\n",
    "    # Filter valid points where inequality holds\n",
    "    valid_mask = inequality_values <= 1\n",
    "    lambda_u_valid = lambda_u[valid_mask]\n",
    "    lambda_v_valid = lambda_v[valid_mask]\n",
    "    lambda_alpha_valid = lambda_alpha[valid_mask]\n",
    "    \n",
    "    # Solve for lambda_beta for valid points\n",
    "    lambda_beta_valid = np.array([solve_for_lambda_beta(u, v, a) \n",
    "                                  for u, v, a in zip(lambda_u_valid, lambda_v_valid, lambda_alpha_valid)])\n",
    "\n",
    "    # Only keep points where the solved lambda_beta is between 0 and 1\n",
    "    final_mask = (lambda_beta_valid >= 0) & (lambda_beta_valid <= 1)\n",
    "    final_points = np.vstack((lambda_u_valid[final_mask],\n",
    "                              lambda_v_valid[final_mask],\n",
    "                              lambda_alpha_valid[final_mask],\n",
    "                              lambda_beta_valid[final_mask])).T\n",
    "    \n",
    "    return final_points\n",
    "\n",
    "# Generate the points on the surface\n",
    "points = generate_points_on_surface(num_points=20000)\n",
    "\n",
    "# Call the pair_plot function (assuming it's already defined)\n",
    "labels = ['lambda_u', 'lambda_v', 'lambda_alpha', 'lambda_beta']\n",
    "#otaf.plotting.pair_plot(points, labels)"
   ]
  },
  {
   "cell_type": "code",
   "execution_count": null,
   "id": "dbec9b31-167f-41ab-a3d2-38000577a48e",
   "metadata": {},
   "outputs": [],
   "source": [
    "random_lambda_sample = [points[np.random.choice(points.shape[0], 200, replace=False)] for _ in range(8)]\n",
    "random_lambda_sample = np.hstack(random_lambda_sample)"
   ]
  },
  {
   "cell_type": "code",
   "execution_count": null,
   "id": "2d2a858d-1a85-48cd-841e-205c10da8e16",
   "metadata": {
    "scrolled": true
   },
   "outputs": [],
   "source": [
    "N_lambda = random_lambda_sample.shape[0]\n",
    "bounds = None\n",
    "SEED_MC_PF = 6436431\n",
    "SIZE_MC_PF = 10000 #int(1e6) #1e4\n",
    "s_values = np.zeros((N_lambda, SIZE_MC_PF)) # For each MC point we have a s value\n",
    "GLD_parameters = [] # We need the parameters of the generalized lambda distribution.\n",
    "failure_probabilities = []\n",
    "# Generalized lambda distribution object for fitting\n",
    "gld = GLD('VSL')\n",
    "\n",
    "start_time = time()  # Record the start time\n",
    "for i in range(N_lambda):\n",
    "    print(f\"Doing iteration {i} of {N_lambda}\")\n",
    "    if i>0:\n",
    "        fp = failure_probabilities\n",
    "        print(f\"Failure probability i-1 : {fp[i-1]}, Min: {min(fp)}, / Max: {max(fp)}\")\n",
    "        print(\"s_mean: \", s_values.mean().round(3), \"s_min: \", np.nanmin(s_values).round(3), \"s_max: \", np.nanmax(s_values).round(3))\n",
    "\n",
    "    ot.RandomGenerator.SetSeed(SEED_MC_PF)\n",
    "    deviation_samples = np.array(RandDeviationVect.getSample(SIZE_MC_PF)) * random_lambda_sample[i]\n",
    "    optimizations = otaf.uncertainty.compute_gap_optimizations_on_sample(\n",
    "            SOCAM,\n",
    "            deviation_samples,\n",
    "            bounds=bounds,\n",
    "            n_cpu=-1,\n",
    "            progress_bar=True,\n",
    "        )\n",
    "    \n",
    "    slack = np.array([opt.fun for opt in optimizations], dtype=float)*-1 #Normally there aren\"t any nans.\n",
    "    s_values[i,:] = slack\n",
    "    GLD_parameters.append(gld.fit_LMM(slack, disp_fit=False, disp_optimizer=False))\n",
    "    failure_probabilities.append(gld.CDF_num(0, GLD_parameters[i]))\n",
    "\n",
    "\n",
    "print(f\"Done {N_lambda} experiments.\")\n",
    "print(f\"Elapsed time: {time() - start_time:.3f} seconds.\")"
   ]
  },
  {
   "cell_type": "code",
   "execution_count": null,
   "id": "48ba797e-b00f-4523-8476-b97e5b4c132e",
   "metadata": {},
   "outputs": [],
   "source": [
    "X = otaf.sampling.find_best_worst_quantile(np.array(lambda_sample_conditioned), np.array(failure_probabilities), 0.1)\n",
    "(best_5p_lambda, best_5p_res), (worst_5p_lambda, worst_5p_res) = X"
   ]
  },
  {
   "cell_type": "code",
   "execution_count": null,
   "id": "ca6d1b15-9131-4741-a4cb-b4217637c2eb",
   "metadata": {},
   "outputs": [],
   "source": [
    "distributions = [ot.UserDefined(ot.Sample(s[:,np.newaxis])) for s in s_values]\n",
    "x_min, x_max = -0.03, 0.11\n",
    "sup_data, inf_data = otaf.distribution.compute_sup_inf_distributions(distributions, x_min, x_max)"
   ]
  },
  {
   "cell_type": "code",
   "execution_count": null,
   "id": "3527d338-2d2b-43c0-9e76-8e03c57d6240",
   "metadata": {
    "scrolled": true
   },
   "outputs": [],
   "source": [
    "%matplotlib inline"
   ]
  },
  {
   "cell_type": "code",
   "execution_count": null,
   "id": "3a3f384b-26ca-4aa0-8ec1-1471f2884d4f",
   "metadata": {},
   "outputs": [],
   "source": [
    "# Initialize colors and legends for each lambda sample\n",
    "colors = [[\"grey\"]] * N_lambda\n",
    "legends = [\"\"] * N_lambda\n",
    "\n",
    "# Plot the combined CDF with additional curves for the envelopes\n",
    "graph_full = otaf.plotting.plot_combined_CDF(distributions, x_min, x_max, colors, legends)\n",
    "graph_full = otaf.plotting.set_graph_legends(\n",
    "    graph_full,\n",
    "    x_title=\"slack\",\n",
    "    y_title=\"$P_{slack}$\",\n",
    "    title=\"Slack P-BOX 32 dimensions\",\n",
    "    legends=legends\n",
    ")\n",
    "\n",
    "# Add the upper and lower envelopes to the graph\n",
    "graph_full.add(ot.Curve(inf_data, \"blue\", \"solid\", 1.5, \"lower envelope\"))\n",
    "graph_full.add(ot.Curve(sup_data, \"red\", \"solid\", 1.5, \"upper envelope\"))\n",
    "view = viewer.View(graph_full, pixelsize=(1100, 750))"
   ]
  },
  {
   "cell_type": "code",
   "execution_count": null,
   "id": "b9723baf-f91d-4ce9-ad5b-7fcfd88c1bc9",
   "metadata": {},
   "outputs": [],
   "source": [
    "# %matplotlib qt\n",
    "fig = plt.figure(dpi=150)\n",
    "\n",
    "ax = fig.add_subplot(1, 1, 1)\n",
    "ax.plot(sup_data[:, 0], sup_data[:, 1], color=\"tab:orange\", label=\"upper envelope\")\n",
    "ax.plot(inf_data[:, 0], inf_data[:, 1], color=\"tab:blue\", label=\"lower envelope\")\n",
    "ax.grid(True)\n",
    "ax.fill_between(\n",
    "    inf_data[:, 0], inf_data[:, 1], sup_data[:, 1], color=\"gray\", alpha=0.3\n",
    ")\n",
    "ax.set_xlabel(\"slack\")\n",
    "ax.set_ylabel(\"$P_{slack}$\")\n",
    "ax.legend()\n",
    "ax.set_title(\"Slack P-Box 3D Assembly 32D\")"
   ]
  },
  {
   "cell_type": "code",
   "execution_count": null,
   "id": "b176e60a-1b48-467c-bbd8-a654452c511c",
   "metadata": {},
   "outputs": [],
   "source": [
    "print(f\"Minimum failure probability: {np.min(failure_probabilities):.5e}, Maximum failure probability: {np.max(failure_probabilities):.5e}\")"
   ]
  },
  {
   "cell_type": "code",
   "execution_count": null,
   "id": "060f9521-d4fd-483e-a4da-bb5617225b15",
   "metadata": {},
   "outputs": [],
   "source": [
    "STOP"
   ]
  },
  {
   "cell_type": "markdown",
   "id": "26ab91c6-d998-41d1-8739-502140b07ef4",
   "metadata": {},
   "source": [
    "## Global optimization basinhopping with GLD"
   ]
  },
  {
   "cell_type": "markdown",
   "id": "73b659ba-59be-4385-a1a4-d2b2aebc6f5f",
   "metadata": {},
   "source": [
    "### First we define the optimization functions "
   ]
  },
  {
   "cell_type": "code",
   "execution_count": 13,
   "id": "b2b3fbdc-2bc3-4e79-a1b3-2dacfa491e45",
   "metadata": {},
   "outputs": [],
   "source": [
    "SIZE_MC_PF = 10000 #int(1e6) #1e4\n",
    "sample_gld = np.array(RandDeviationVect.getSample(SIZE_MC_PF))\n",
    "scale_factor = 1.0\n",
    "GLD_parameters = [] # We need the parameters of the generalized lambda distribution.\n",
    "\n",
    "# Generalized lambda distribution object for fitting\n",
    "gld = GLD('VSL')\n",
    "\n",
    "def model_base(x, sample=sample_gld):\n",
    "    # Model without surrogate, to get slack\n",
    "    x = sample * np.sqrt(x[np.newaxis, :])\n",
    "    optimization_variables = otaf.uncertainty.compute_gap_optimizations_on_sample_batch(\n",
    "        constraint_matrix_generator=SOCAM,\n",
    "        deviation_array=x,\n",
    "        batch_size=500,\n",
    "        n_cpu=-1,\n",
    "        progress_bar=True,\n",
    "        verbose=0,\n",
    "        dtype=\"float32\",\n",
    "    )\n",
    "    slack_values = optimization_variables[:,-1]\n",
    "    return slack_values\n",
    "\n",
    "@otaf.optimization.scaling(scale_factor)\n",
    "def optimization_function_mini(x, model=model_base):\n",
    "    # Here we search the minimal probability of failure\n",
    "    slack = model(x)\n",
    "    gld_params = gld.fit_LMM(slack, disp_fit=False, disp_optimizer=False)\n",
    "    if np.any(np.isnan(gld_params)):\n",
    "        failure_probability = np.where(slack<0,1,0).mean()\n",
    "    else :\n",
    "        print(\"gld_params:\", gld_params)\n",
    "        failure_probability = gld.CDF_num(0, gld_params)\n",
    "    return failure_probability\n",
    "\n",
    "@otaf.optimization.scaling(scale_factor)\n",
    "def optimization_function_maxi(x, model=model_base):\n",
    "    # Here we search the maximal probability of failure so negative output\n",
    "    slack = model(x)\n",
    "    gld_params = gld.fit_LMM(slack, disp_fit=False, disp_optimizer=False)\n",
    "    if np.any(np.isnan(gld_params)):\n",
    "        failure_probability = np.where(slack<0,1,0).mean()\n",
    "    else :\n",
    "        print(\"gld_params:\", gld_params)\n",
    "        failure_probability = gld.CDF_num(0, gld_params)\n",
    "    return failure_probability*-1"
   ]
  },
  {
   "cell_type": "markdown",
   "id": "dca4216b-dcef-4762-9bb1-613b46c5f111",
   "metadata": {},
   "source": [
    "### Explicit parameter feature constraints (not ideal)"
   ]
  },
  {
   "cell_type": "code",
   "execution_count": 14,
   "id": "f8f63ca8-0615-4769-bdb3-1ca1c71470d3",
   "metadata": {},
   "outputs": [],
   "source": [
    "def cylinder_feature_constraint(la):\n",
    "    \"\"\"Evaluates the cylinder constraint for a given lambda array.\"\"\"\n",
    "    sum_squares = np.dot(la, la)  # Equivalent to la[0]**2 + la[1]**2 + la[2]**2 + la[3]**2\n",
    "    cross_terms = 2 * (la[0] * la[2] + la[1] * la[3])\n",
    "    return sum_squares + cross_terms - 1\n",
    "\n",
    "def cylinder_feature_constraint_jacobian(la):\n",
    "    \"\"\"Computes the analytical Jacobian of the cylinder feature constraint.\"\"\"\n",
    "    u, v, alpha, beta = la\n",
    "    return np.array([\n",
    "        2 * u + 2 * alpha,  # df/du\n",
    "        2 * v + 2 * beta,   # df/dv\n",
    "        2 * alpha + 2 * u,  # df/dalpha\n",
    "        2 * beta + 2 * v    # df/dbeta\n",
    "    ])\n",
    "\n",
    "def assembly_feature_constraint(la8):\n",
    "    \"\"\"Applies the cylinder constraint to each 4-element slice of the lambda array, returning a vector of constraints.\"\"\"\n",
    "    return np.array([cylinder_feature_constraint(la8[i : i + 4]) for i in range(0, len(la8), 4)])\n",
    "\n",
    "def assembly_feature_constraint_jacobian(la8):\n",
    "    \"\"\"Constructs the Jacobian matrix for the vector of constraints, with each row representing the Jacobian of one cylinder constraint.\"\"\"\n",
    "    # Initialize a list to hold each constraint's Jacobian as a row in the matrix\n",
    "    jacobian = []\n",
    "    # Compute Jacobian for each 4-element segment in the lambda array\n",
    "    for i in range(0, len(la8), 4):\n",
    "        row_jacobian = np.zeros(len(la8))  # Create a zeroed row of the appropriate length\n",
    "        row_jacobian[i:i+4] = cylinder_feature_constraint_jacobian(la8[i:i+4])\n",
    "        jacobian.append(row_jacobian)\n",
    "    return np.array(jacobian)\n",
    "\n",
    "\n",
    "def cylinder_feature_constraint_hessian(la):\n",
    "    \"\"\"Computes the Hessian of the cylinder constraint for a given 4-element lambda array.\"\"\"\n",
    "    # Extract variables for readability\n",
    "    u, v, alpha, beta = la\n",
    "    # The Hessian matrix is symmetric, so we only need to define the unique elements\n",
    "    hessian = np.array([\n",
    "        [2, 0, 2, 0],  # d^2f/du^2, d^2f/du dv, d^2f/du dalpha, d^2f/du dbeta\n",
    "        [0, 2, 0, 2],  # d^2f/dv du, d^2f/dv^2, d^2f/dv dalpha, d^2f/dv dbeta\n",
    "        [2, 0, 2, 0],  # d^2f/dalpha du, d^2f/dalpha dv, d^2f/dalpha^2, d^2f/dalpha dbeta\n",
    "        [0, 2, 0, 2]   # d^2f/dbeta du, d^2f/dbeta dv, d^2f/dbeta dalpha, d^2f/dbeta^2\n",
    "    ])\n",
    "    return hessian\n",
    "\n",
    "def assembly_feature_constraint_hessian(la8):\n",
    "    \"\"\"Constructs the full Hessian matrix for the vector of constraints in the assembly.\"\"\"\n",
    "    n_constraints = len(la8) // 4\n",
    "    hessian_blocks = []\n",
    "    \n",
    "    # Build the Hessian by iterating over each 4-element segment\n",
    "    for i in range(n_constraints):\n",
    "        block_hessian = cylinder_feature_constraint_hessian(la8[i*4:i*4+4])\n",
    "        # Place the block into the full Hessian matrix for the constraint function\n",
    "        block_hessian_expanded = np.zeros((len(la8), len(la8)))\n",
    "        block_hessian_expanded[i*4:i*4+4, i*4:i*4+4] = block_hessian\n",
    "        hessian_blocks.append(block_hessian_expanded)\n",
    "    \n",
    "    # Sum the block Hessians to form the full Hessian matrix\n",
    "    full_hessian = np.sum(hessian_blocks, axis=0)\n",
    "    return full_hessian"
   ]
  },
  {
   "cell_type": "markdown",
   "id": "c805656b-91b6-4e12-bd5b-a8f2b984eea6",
   "metadata": {},
   "source": [
    "### Implicit parameter constrants (new version)"
   ]
  },
  {
   "cell_type": "code",
   "execution_count": 15,
   "id": "a0c5ac89-cf9f-44bc-a7bb-7628704e4cea",
   "metadata": {},
   "outputs": [],
   "source": [
    "midof_funcs = otaf.tolerances.MiSdofToleranceZones()\n",
    "\n",
    "feature_constraint_list = []\n",
    "\n",
    "# We know that all features are cylindrical, with same values/dimensions\n",
    "for i in range(8):\n",
    "    fconst = otaf.tolerances.FeatureLevelStatisticalConstraint(\n",
    "        midof_funcs.cylindrical_zone,\n",
    "        mif_args = (tol, hPlate),\n",
    "        n_dof = 4,\n",
    "        n_sample = 100000,\n",
    "        target = \"std\", #\"prob\",\n",
    "        target_val = sigma_e_pos*np.sqrt(1-(2/np.pi)), #0.002699, #\n",
    "        isNormal = True,\n",
    "        normalizeOutput = True,\n",
    "    )\n",
    "    feature_constraint_list.append(fconst)\n",
    "\n",
    "composed_assembly_constraint = otaf.tolerances.ComposedAssemblyLevelStatisticalConstraint(feature_constraint_list)"
   ]
  },
  {
   "cell_type": "code",
   "execution_count": 16,
   "id": "fa8c2424-bc79-4379-bc24-6ca62a8a1e21",
   "metadata": {},
   "outputs": [],
   "source": [
    "param_bounds_one_feature = [[0.0,0.0], [1e-8, sigma_e_pos], #u, mean std\n",
    "                            [0.0,0.0], [1e-8, sigma_e_pos], #v, mean std\n",
    "                            [0.0,0.0], [1e-8, sigma_e_theta], #alpha, mean std\n",
    "                            [0.0,0.0], [1e-8, sigma_e_theta] # beta, mean std\n",
    "                           ]\n",
    "param_bounds = [param_bounds_one_feature] * 8 #We have 8 identical features\n",
    "\n",
    "normalized_assembly_constraint = otaf.tolerances.NormalizedAssemblyLevelConstraint(\n",
    "    composed_assembly_constraint,\n",
    "    param_val_bounds=param_bounds)"
   ]
  },
  {
   "cell_type": "markdown",
   "id": "5836b5ec-5be9-4f70-a69a-4a8e88ea6714",
   "metadata": {},
   "source": [
    "#### The assembly constraint takes as an input the list of list of paramters for all the features. But as the distriutions (normals) are suppposed to be centered, we only need to have the standard deviations as inputs so we construct a little intermediary class that takes as an input only the standard deviations and not the means, and completes the means with 0 to pass it to the assembly constraint. "
   ]
  },
  {
   "cell_type": "code",
   "execution_count": 17,
   "id": "eb8e9f22-18a2-45b1-8385-bd611fc3b614",
   "metadata": {},
   "outputs": [],
   "source": [
    "def assembly_constraint_no_mean(param_list, scale_out=True):\n",
    "    \"\"\" The functions takes directly the concatenated list of all parameters, and reconstructs the right object.\n",
    "    There should be 32 variables\n",
    "    \"\"\"\n",
    "    assert len(param_list)==32, \"problem with input.\"\n",
    "    zer = np.zeros(4)\n",
    "    pl = np.array(param_list)\n",
    "    params_for_assembly = []\n",
    "    for i in range(8):\n",
    "        params = param_list[i*4:i*4+4]\n",
    "        pa = [item for pair in zip(zer, params) for item in pair]\n",
    "        params_for_assembly.append(pa)\n",
    "    res =  normalized_assembly_constraint(params_for_assembly)\n",
    "    if scale_out :\n",
    "        return res * 10\n",
    "    else :\n",
    "        return res"
   ]
  },
  {
   "cell_type": "code",
   "execution_count": 18,
   "id": "5f288747-0f05-47f2-bab5-7e805d549d74",
   "metadata": {},
   "outputs": [
    {
     "data": {
      "text/plain": [
       "array([-0.03185387, -0.02547737, -0.03925778,  0.04439285,  0.01699116,\n",
       "       -0.00300662,  0.01385772, -0.03288411])"
      ]
     },
     "execution_count": 18,
     "metadata": {},
     "output_type": "execute_result"
    }
   ],
   "source": [
    "assembly_constraint_no_mean([1.0,0.0,0.0,0]*8, True)"
   ]
  },
  {
   "cell_type": "markdown",
   "id": "78aa290c-0362-4a63-83cb-d154d98b52f2",
   "metadata": {},
   "source": [
    "#### Now we create the assembly constraint for the optimization (so a non linear constraint)"
   ]
  },
  {
   "cell_type": "code",
   "execution_count": 19,
   "id": "b38aadcb-2449-4f63-848a-8e040c286905",
   "metadata": {},
   "outputs": [],
   "source": [
    "# Define the nonlinear constraint with the updated vector-valued function and Jacobian\n",
    "nonLinearConstraint = NonlinearConstraint(\n",
    "    fun=assembly_constraint_no_mean,\n",
    "    lb = -0.05 * np.ones((8,)),\n",
    "    ub = 0.05 * np.ones((8,)),\n",
    "    jac = \"3-point\",\n",
    "    keep_feasible=True,\n",
    ")"
   ]
  },
  {
   "cell_type": "code",
   "execution_count": 20,
   "id": "443b9a4c-a5b7-4f29-add9-b0e2bfaac476",
   "metadata": {
    "scrolled": true
   },
   "outputs": [
    {
     "name": "stdout",
     "output_type": "stream",
     "text": [
      "Starting the optimization procedure.\n",
      "Initial trust-region radius: 2.8284271247461903.\n",
      "Final trust-region radius: 0.33.\n",
      "Maximum number of function evaluations: 4000.\n",
      "Maximum number of iterations: 1000.\n",
      "\n"
     ]
    },
    {
     "data": {
      "application/vnd.jupyter.widget-view+json": {
       "model_id": "d6d17f95460c4a18a0dc803cb63a56fb",
       "version_major": 2,
       "version_minor": 0
      },
      "text/plain": [
       "  0%|          | 0/10000 [00:00<?, ?it/s]"
      ]
     },
     "metadata": {},
     "output_type": "display_data"
    },
    {
     "name": "stdout",
     "output_type": "stream",
     "text": [
      "wrapper([ 0.000e+00  0.000e+00 ...  0.000e+00  0.000e+00]) = -0.0\n",
      "assembly_constraint_no_mean([ 0.000e+00  0.000e+00 ...  0.000e+00  0.000e+00]) = [-1.000e+01 -1.000e+01 ... -1.000e+01 -1.000e+01]\n"
     ]
    },
    {
     "name": "stderr",
     "output_type": "stream",
     "text": [
      "/home/ksimady/anaconda3/envs/otaf_test_env/lib/python3.13/site-packages/gldpy/_gld_module.py:1026: RuntimeWarning: invalid value encountered in scalar divide\n",
      "  return l1,l2,l3/l2,l4/l2\n",
      "/home/ksimady/anaconda3/envs/otaf_test_env/lib/python3.13/site-packages/gldpy/_gld_module.py:1026: RuntimeWarning: divide by zero encountered in scalar divide\n",
      "  return l1,l2,l3/l2,l4/l2\n",
      "/home/ksimady/anaconda3/envs/otaf_test_env/lib/python3.13/site-packages/gldpy/_gld_module.py:1095: RuntimeWarning: invalid value encountered in scalar add\n",
      "  if a4**2+98*a4 +1 <0:\n",
      "/home/ksimady/anaconda3/envs/otaf_test_env/lib/python3.13/site-packages/gldpy/_gld_module.py:1097: RuntimeWarning: invalid value encountered in scalar add\n",
      "  p4 = np.array([(3+7*a4 + np.sqrt(a4**2+98*a4 +1))/(2*(1-a4)), (3+7*a4 - np.sqrt(a4**2+98*a4 +1))/(2*(1-a4))])\n"
     ]
    },
    {
     "data": {
      "application/vnd.jupyter.widget-view+json": {
       "model_id": "bdc0208d54bc494585e5c227f500677e",
       "version_major": 2,
       "version_minor": 0
      },
      "text/plain": [
       "  0%|          | 0/10000 [00:00<?, ?it/s]"
      ]
     },
     "metadata": {},
     "output_type": "display_data"
    },
    {
     "name": "stdout",
     "output_type": "stream",
     "text": [
      "gld_params: [0.09929732 0.00381863 0.07525446 0.2375993 ]\n",
      "wrapper([ 5.000e-01  0.000e+00 ...  0.000e+00  0.000e+00]) = -0.0\n",
      "assembly_constraint_no_mean([ 5.000e-01  0.000e+00 ...  0.000e+00  0.000e+00]) = [-5.016e+00 -1.000e+01 ... -1.000e+01 -1.000e+01]\n"
     ]
    },
    {
     "data": {
      "application/vnd.jupyter.widget-view+json": {
       "model_id": "05c3169143634a8b814d08e3ea66d915",
       "version_major": 2,
       "version_minor": 0
      },
      "text/plain": [
       "  0%|          | 0/10000 [00:00<?, ?it/s]"
      ]
     },
     "metadata": {},
     "output_type": "display_data"
    },
    {
     "name": "stdout",
     "output_type": "stream",
     "text": [
      "gld_params: [0.09927496 0.00389404 0.07778242 0.25712576]\n",
      "wrapper([ 0.000e+00  5.000e-01 ...  0.000e+00  0.000e+00]) = -0.0\n",
      "assembly_constraint_no_mean([ 0.000e+00  5.000e-01 ...  0.000e+00  0.000e+00]) = [-5.021e+00 -1.000e+01 ... -1.000e+01 -1.000e+01]\n"
     ]
    },
    {
     "data": {
      "application/vnd.jupyter.widget-view+json": {
       "model_id": "fc71fb945c434b14bd200585ae62b922",
       "version_major": 2,
       "version_minor": 0
      },
      "text/plain": [
       "  0%|          | 0/10000 [00:00<?, ?it/s]"
      ]
     },
     "metadata": {},
     "output_type": "display_data"
    },
    {
     "name": "stdout",
     "output_type": "stream",
     "text": [
      "gld_params: [0.09720028 0.01555786 0.07337423 0.24697373]\n",
      "wrapper([ 0.000e+00  0.000e+00 ...  0.000e+00  0.000e+00]) = -0.0\n",
      "assembly_constraint_no_mean([ 0.000e+00  0.000e+00 ...  0.000e+00  0.000e+00]) = [-5.001e+00 -1.000e+01 ... -1.000e+01 -1.000e+01]\n"
     ]
    },
    {
     "data": {
      "application/vnd.jupyter.widget-view+json": {
       "model_id": "5b230d3eeab34af495b9a24e8fa9d101",
       "version_major": 2,
       "version_minor": 0
      },
      "text/plain": [
       "  0%|          | 0/10000 [00:00<?, ?it/s]"
      ]
     },
     "metadata": {},
     "output_type": "display_data"
    },
    {
     "name": "stdout",
     "output_type": "stream",
     "text": [
      "gld_params: [0.09697353 0.01528969 0.08169807 0.23466592]\n",
      "wrapper([ 0.000e+00  0.000e+00 ...  0.000e+00  0.000e+00]) = -0.0\n",
      "assembly_constraint_no_mean([ 0.000e+00  0.000e+00 ...  0.000e+00  0.000e+00]) = [-4.993e+00 -1.000e+01 ... -1.000e+01 -1.000e+01]\n"
     ]
    },
    {
     "data": {
      "application/vnd.jupyter.widget-view+json": {
       "model_id": "88d61173f4c54d6394d3c428c260186f",
       "version_major": 2,
       "version_minor": 0
      },
      "text/plain": [
       "  0%|          | 0/10000 [00:00<?, ?it/s]"
      ]
     },
     "metadata": {},
     "output_type": "display_data"
    },
    {
     "name": "stdout",
     "output_type": "stream",
     "text": [
      "gld_params: [0.09935849 0.00383695 0.06924095 0.24414719]\n",
      "wrapper([ 0.000e+00  0.000e+00 ...  0.000e+00  0.000e+00]) = -0.0\n",
      "assembly_constraint_no_mean([ 0.000e+00  0.000e+00 ...  0.000e+00  0.000e+00]) = [-1.000e+01 -5.013e+00 ... -1.000e+01 -1.000e+01]\n"
     ]
    },
    {
     "data": {
      "application/vnd.jupyter.widget-view+json": {
       "model_id": "35ccc71afdf24893abf1e716e4d8dc6b",
       "version_major": 2,
       "version_minor": 0
      },
      "text/plain": [
       "  0%|          | 0/10000 [00:00<?, ?it/s]"
      ]
     },
     "metadata": {},
     "output_type": "display_data"
    },
    {
     "name": "stdout",
     "output_type": "stream",
     "text": [
      "gld_params: [0.09929181 0.00384891 0.0771262  0.23726184]\n",
      "wrapper([ 0.000e+00  0.000e+00 ...  0.000e+00  0.000e+00]) = -0.0\n",
      "assembly_constraint_no_mean([ 0.000e+00  0.000e+00 ...  0.000e+00  0.000e+00]) = [-1.000e+01 -4.990e+00 ... -1.000e+01 -1.000e+01]\n"
     ]
    },
    {
     "data": {
      "application/vnd.jupyter.widget-view+json": {
       "model_id": "3819adcd20a149b79806cf305c90e942",
       "version_major": 2,
       "version_minor": 0
      },
      "text/plain": [
       "  0%|          | 0/10000 [00:00<?, ?it/s]"
      ]
     },
     "metadata": {},
     "output_type": "display_data"
    },
    {
     "name": "stdout",
     "output_type": "stream",
     "text": [
      "gld_params: [0.09650112 0.01487485 0.09506154 0.21921928]\n",
      "wrapper([ 0.000e+00  0.000e+00 ...  0.000e+00  0.000e+00]) = -0.0\n",
      "assembly_constraint_no_mean([ 0.000e+00  0.000e+00 ...  0.000e+00  0.000e+00]) = [-1.000e+01 -4.973e+00 ... -1.000e+01 -1.000e+01]\n"
     ]
    },
    {
     "data": {
      "application/vnd.jupyter.widget-view+json": {
       "model_id": "a7e16e58312b4ff1b852f7c3f794e83e",
       "version_major": 2,
       "version_minor": 0
      },
      "text/plain": [
       "  0%|          | 0/10000 [00:00<?, ?it/s]"
      ]
     },
     "metadata": {},
     "output_type": "display_data"
    },
    {
     "name": "stdout",
     "output_type": "stream",
     "text": [
      "gld_params: [0.09647522 0.01471375 0.0941655  0.2178902 ]\n",
      "wrapper([ 0.000e+00  0.000e+00 ...  0.000e+00  0.000e+00]) = -0.0\n",
      "assembly_constraint_no_mean([ 0.000e+00  0.000e+00 ...  0.000e+00  0.000e+00]) = [-1.000e+01 -5.018e+00 ... -1.000e+01 -1.000e+01]\n"
     ]
    },
    {
     "data": {
      "application/vnd.jupyter.widget-view+json": {
       "model_id": "a7e103c634594cc8bb768fd054e85308",
       "version_major": 2,
       "version_minor": 0
      },
      "text/plain": [
       "  0%|          | 0/10000 [00:00<?, ?it/s]"
      ]
     },
     "metadata": {},
     "output_type": "display_data"
    },
    {
     "name": "stdout",
     "output_type": "stream",
     "text": [
      "gld_params: [0.09929389 0.00378835 0.07656367 0.23144076]\n",
      "wrapper([ 0.000e+00  0.000e+00 ...  0.000e+00  0.000e+00]) = -0.0\n",
      "assembly_constraint_no_mean([ 0.000e+00  0.000e+00 ...  0.000e+00  0.000e+00]) = [-1.000e+01 -1.000e+01 ... -1.000e+01 -1.000e+01]\n"
     ]
    },
    {
     "data": {
      "application/vnd.jupyter.widget-view+json": {
       "model_id": "3b9d951401174f2d996c1ff97f3e5fe3",
       "version_major": 2,
       "version_minor": 0
      },
      "text/plain": [
       "  0%|          | 0/10000 [00:00<?, ?it/s]"
      ]
     },
     "metadata": {},
     "output_type": "display_data"
    },
    {
     "name": "stdout",
     "output_type": "stream",
     "text": [
      "gld_params: [0.09926069 0.00378957 0.07702664 0.21796406]\n",
      "wrapper([ 0.000e+00  0.000e+00 ...  0.000e+00  0.000e+00]) = -0.0\n",
      "assembly_constraint_no_mean([ 0.000e+00  0.000e+00 ...  0.000e+00  0.000e+00]) = [-1.000e+01 -1.000e+01 ... -1.000e+01 -1.000e+01]\n"
     ]
    },
    {
     "data": {
      "application/vnd.jupyter.widget-view+json": {
       "model_id": "5141a19ac4e14ab68e8005aa1b6a6636",
       "version_major": 2,
       "version_minor": 0
      },
      "text/plain": [
       "  0%|          | 0/10000 [00:00<?, ?it/s]"
      ]
     },
     "metadata": {},
     "output_type": "display_data"
    },
    {
     "name": "stdout",
     "output_type": "stream",
     "text": [
      "gld_params: [0.09739644 0.01583376 0.07060053 0.25672765]\n",
      "wrapper([ 0.000e+00  0.000e+00 ...  0.000e+00  0.000e+00]) = -0.0\n",
      "assembly_constraint_no_mean([ 0.000e+00  0.000e+00 ...  0.000e+00  0.000e+00]) = [-1.000e+01 -1.000e+01 ... -1.000e+01 -1.000e+01]\n"
     ]
    },
    {
     "data": {
      "application/vnd.jupyter.widget-view+json": {
       "model_id": "ddaf07c8c9514345a51108592c5584cc",
       "version_major": 2,
       "version_minor": 0
      },
      "text/plain": [
       "  0%|          | 0/10000 [00:00<?, ?it/s]"
      ]
     },
     "metadata": {},
     "output_type": "display_data"
    },
    {
     "name": "stdout",
     "output_type": "stream",
     "text": [
      "gld_params: [0.09741274 0.01562419 0.07012692 0.24602406]\n",
      "wrapper([ 0.000e+00  0.000e+00 ...  0.000e+00  0.000e+00]) = -0.0\n",
      "assembly_constraint_no_mean([ 0.000e+00  0.000e+00 ...  0.000e+00  0.000e+00]) = [-1.000e+01 -1.000e+01 ... -1.000e+01 -1.000e+01]\n"
     ]
    },
    {
     "data": {
      "application/vnd.jupyter.widget-view+json": {
       "model_id": "bdf1d9bf65be4a7598d1b5f085ce8f6b",
       "version_major": 2,
       "version_minor": 0
      },
      "text/plain": [
       "  0%|          | 0/10000 [00:00<?, ?it/s]"
      ]
     },
     "metadata": {},
     "output_type": "display_data"
    },
    {
     "name": "stdout",
     "output_type": "stream",
     "text": [
      "gld_params: [0.09921315 0.00372459 0.08357952 0.21912193]\n",
      "wrapper([ 0.000e+00  0.000e+00 ...  0.000e+00  0.000e+00]) = -0.0\n",
      "assembly_constraint_no_mean([ 0.000e+00  0.000e+00 ...  0.000e+00  0.000e+00]) = [-1.000e+01 -1.000e+01 ... -1.000e+01 -1.000e+01]\n"
     ]
    },
    {
     "data": {
      "application/vnd.jupyter.widget-view+json": {
       "model_id": "c3d4e9d9d50249f7b2d41c4117148050",
       "version_major": 2,
       "version_minor": 0
      },
      "text/plain": [
       "  0%|          | 0/10000 [00:00<?, ?it/s]"
      ]
     },
     "metadata": {},
     "output_type": "display_data"
    },
    {
     "name": "stdout",
     "output_type": "stream",
     "text": [
      "gld_params: [0.09936892 0.00375718 0.06765316 0.23024567]\n",
      "wrapper([ 0.000e+00  0.000e+00 ...  0.000e+00  0.000e+00]) = -0.0\n",
      "assembly_constraint_no_mean([ 0.000e+00  0.000e+00 ...  0.000e+00  0.000e+00]) = [-1.000e+01 -1.000e+01 ... -1.000e+01 -1.000e+01]\n"
     ]
    },
    {
     "data": {
      "application/vnd.jupyter.widget-view+json": {
       "model_id": "0df2e5a9b5594c66a37e4b2ecb148515",
       "version_major": 2,
       "version_minor": 0
      },
      "text/plain": [
       "  0%|          | 0/10000 [00:00<?, ?it/s]"
      ]
     },
     "metadata": {},
     "output_type": "display_data"
    },
    {
     "name": "stdout",
     "output_type": "stream",
     "text": [
      "gld_params: [0.09672044 0.01473592 0.08669893 0.21767493]\n",
      "wrapper([ 0.000e+00  0.000e+00 ...  0.000e+00  0.000e+00]) = -0.0\n",
      "assembly_constraint_no_mean([ 0.000e+00  0.000e+00 ...  0.000e+00  0.000e+00]) = [-1.000e+01 -1.000e+01 ... -1.000e+01 -1.000e+01]\n"
     ]
    },
    {
     "data": {
      "application/vnd.jupyter.widget-view+json": {
       "model_id": "3c82cd54ff8e44b997f6f318e3c06670",
       "version_major": 2,
       "version_minor": 0
      },
      "text/plain": [
       "  0%|          | 0/10000 [00:00<?, ?it/s]"
      ]
     },
     "metadata": {},
     "output_type": "display_data"
    },
    {
     "name": "stdout",
     "output_type": "stream",
     "text": [
      "gld_params: [0.09703846 0.01499595 0.08034656 0.23253205]\n",
      "wrapper([ 0.000e+00  0.000e+00 ...  0.000e+00  0.000e+00]) = -0.0\n",
      "assembly_constraint_no_mean([ 0.000e+00  0.000e+00 ...  0.000e+00  0.000e+00]) = [-1.000e+01 -1.000e+01 ... -1.000e+01 -1.000e+01]\n"
     ]
    },
    {
     "data": {
      "application/vnd.jupyter.widget-view+json": {
       "model_id": "0eb4b7c651944dd3bca6cb97afa9ff37",
       "version_major": 2,
       "version_minor": 0
      },
      "text/plain": [
       "  0%|          | 0/10000 [00:00<?, ?it/s]"
      ]
     },
     "metadata": {},
     "output_type": "display_data"
    },
    {
     "name": "stdout",
     "output_type": "stream",
     "text": [
      "gld_params: [0.09921602 0.00375486 0.08414248 0.22134193]\n",
      "wrapper([ 0.000e+00  0.000e+00 ...  0.000e+00  0.000e+00]) = -0.0\n",
      "assembly_constraint_no_mean([ 0.000e+00  0.000e+00 ...  0.000e+00  0.000e+00]) = [-1.000e+01 -1.000e+01 ... -1.000e+01 -1.000e+01]\n"
     ]
    },
    {
     "data": {
      "application/vnd.jupyter.widget-view+json": {
       "model_id": "c2df005684e3466385c5d915455d094b",
       "version_major": 2,
       "version_minor": 0
      },
      "text/plain": [
       "  0%|          | 0/10000 [00:00<?, ?it/s]"
      ]
     },
     "metadata": {},
     "output_type": "display_data"
    },
    {
     "name": "stdout",
     "output_type": "stream",
     "text": [
      "gld_params: [0.09936038 0.003844   0.06982565 0.24538111]\n",
      "wrapper([ 0.000e+00  0.000e+00 ...  0.000e+00  0.000e+00]) = -0.0\n",
      "assembly_constraint_no_mean([ 0.000e+00  0.000e+00 ...  0.000e+00  0.000e+00]) = [-1.000e+01 -1.000e+01 ... -1.000e+01 -1.000e+01]\n"
     ]
    },
    {
     "data": {
      "application/vnd.jupyter.widget-view+json": {
       "model_id": "a8ea96498f0346c39f0b6046b4335018",
       "version_major": 2,
       "version_minor": 0
      },
      "text/plain": [
       "  0%|          | 0/10000 [00:00<?, ?it/s]"
      ]
     },
     "metadata": {},
     "output_type": "display_data"
    },
    {
     "name": "stdout",
     "output_type": "stream",
     "text": [
      "gld_params: [0.09679236 0.01489555 0.08818633 0.22669757]\n",
      "wrapper([ 0.000e+00  0.000e+00 ...  0.000e+00  0.000e+00]) = -0.0\n",
      "assembly_constraint_no_mean([ 0.000e+00  0.000e+00 ...  0.000e+00  0.000e+00]) = [-1.000e+01 -1.000e+01 ... -1.000e+01 -1.000e+01]\n"
     ]
    },
    {
     "data": {
      "application/vnd.jupyter.widget-view+json": {
       "model_id": "e213089cceea4f1ba2eb9cc0bee0deeb",
       "version_major": 2,
       "version_minor": 0
      },
      "text/plain": [
       "  0%|          | 0/10000 [00:00<?, ?it/s]"
      ]
     },
     "metadata": {},
     "output_type": "display_data"
    },
    {
     "name": "stdout",
     "output_type": "stream",
     "text": [
      "gld_params: [0.09716835 0.01525367 0.07888287 0.24666182]\n",
      "wrapper([ 0.000e+00  0.000e+00 ...  0.000e+00  0.000e+00]) = -0.0\n",
      "assembly_constraint_no_mean([ 0.000e+00  0.000e+00 ...  0.000e+00  0.000e+00]) = [-1.000e+01 -1.000e+01 ... -1.000e+01 -1.000e+01]\n"
     ]
    },
    {
     "data": {
      "application/vnd.jupyter.widget-view+json": {
       "model_id": "96dca52a7cef4a48af0c6ee0510b6f90",
       "version_major": 2,
       "version_minor": 0
      },
      "text/plain": [
       "  0%|          | 0/10000 [00:00<?, ?it/s]"
      ]
     },
     "metadata": {},
     "output_type": "display_data"
    },
    {
     "name": "stdout",
     "output_type": "stream",
     "text": [
      "gld_params: [0.09914263 0.00369457 0.0910085  0.21531537]\n",
      "wrapper([ 0.000e+00  0.000e+00 ...  0.000e+00  0.000e+00]) = -0.0\n",
      "assembly_constraint_no_mean([ 0.000e+00  0.000e+00 ...  0.000e+00  0.000e+00]) = [-1.000e+01 -1.000e+01 ... -1.000e+01 -1.000e+01]\n"
     ]
    },
    {
     "data": {
      "application/vnd.jupyter.widget-view+json": {
       "model_id": "d7a2c626287d4b57b55e318a8ce2f15f",
       "version_major": 2,
       "version_minor": 0
      },
      "text/plain": [
       "  0%|          | 0/10000 [00:00<?, ?it/s]"
      ]
     },
     "metadata": {},
     "output_type": "display_data"
    },
    {
     "name": "stdout",
     "output_type": "stream",
     "text": [
      "gld_params: [0.09924432 0.00376564 0.08295892 0.22959111]\n",
      "wrapper([ 0.000e+00  0.000e+00 ...  0.000e+00  0.000e+00]) = -0.0\n",
      "assembly_constraint_no_mean([ 0.000e+00  0.000e+00 ...  0.000e+00  0.000e+00]) = [-1.000e+01 -1.000e+01 ... -1.000e+01 -1.000e+01]\n"
     ]
    },
    {
     "data": {
      "application/vnd.jupyter.widget-view+json": {
       "model_id": "a210c62e2e404f7da4023dcaa1626c4e",
       "version_major": 2,
       "version_minor": 0
      },
      "text/plain": [
       "  0%|          | 0/10000 [00:00<?, ?it/s]"
      ]
     },
     "metadata": {},
     "output_type": "display_data"
    },
    {
     "name": "stdout",
     "output_type": "stream",
     "text": [
      "gld_params: [0.09705926 0.01549311 0.07885252 0.24330829]\n",
      "wrapper([ 0.000e+00  0.000e+00 ...  0.000e+00  0.000e+00]) = -0.0\n",
      "assembly_constraint_no_mean([ 0.000e+00  0.000e+00 ...  0.000e+00  0.000e+00]) = [-1.000e+01 -1.000e+01 ... -1.000e+01 -1.000e+01]\n"
     ]
    },
    {
     "data": {
      "application/vnd.jupyter.widget-view+json": {
       "model_id": "4d02c95dbe384d9684dee64166007055",
       "version_major": 2,
       "version_minor": 0
      },
      "text/plain": [
       "  0%|          | 0/10000 [00:00<?, ?it/s]"
      ]
     },
     "metadata": {},
     "output_type": "display_data"
    },
    {
     "name": "stdout",
     "output_type": "stream",
     "text": [
      "gld_params: [0.09684736 0.01493195 0.08538009 0.22074961]\n",
      "wrapper([ 0.000e+00  0.000e+00 ...  0.000e+00  0.000e+00]) = -0.0\n",
      "assembly_constraint_no_mean([ 0.000e+00  0.000e+00 ...  0.000e+00  0.000e+00]) = [-1.000e+01 -1.000e+01 ... -1.000e+01 -1.000e+01]\n"
     ]
    },
    {
     "data": {
      "application/vnd.jupyter.widget-view+json": {
       "model_id": "2d8f8a49ca85400eb81b24d9b468c2af",
       "version_major": 2,
       "version_minor": 0
      },
      "text/plain": [
       "  0%|          | 0/10000 [00:00<?, ?it/s]"
      ]
     },
     "metadata": {},
     "output_type": "display_data"
    },
    {
     "name": "stdout",
     "output_type": "stream",
     "text": [
      "gld_params: [0.09924265 0.00373734 0.08086979 0.22721385]\n",
      "wrapper([ 0.000e+00  0.000e+00 ...  0.000e+00  0.000e+00]) = -0.0\n",
      "assembly_constraint_no_mean([ 0.000e+00  0.000e+00 ...  0.000e+00  0.000e+00]) = [-1.000e+01 -1.000e+01 ... -4.993e+00 -1.000e+01]\n"
     ]
    },
    {
     "data": {
      "application/vnd.jupyter.widget-view+json": {
       "model_id": "68a0de725376499fa65c91eef4e0a8c2",
       "version_major": 2,
       "version_minor": 0
      },
      "text/plain": [
       "  0%|          | 0/10000 [00:00<?, ?it/s]"
      ]
     },
     "metadata": {},
     "output_type": "display_data"
    },
    {
     "name": "stdout",
     "output_type": "stream",
     "text": [
      "gld_params: [0.09930929 0.00384255 0.07353087 0.25218754]\n",
      "wrapper([ 0.000e+00  0.000e+00 ...  0.000e+00  0.000e+00]) = -0.0\n",
      "assembly_constraint_no_mean([ 0.000e+00  0.000e+00 ...  0.000e+00  0.000e+00]) = [-1.000e+01 -1.000e+01 ... -5.003e+00 -1.000e+01]\n"
     ]
    },
    {
     "data": {
      "application/vnd.jupyter.widget-view+json": {
       "model_id": "d22dfa2c1a0c4c7b8adc22c272331f3b",
       "version_major": 2,
       "version_minor": 0
      },
      "text/plain": [
       "  0%|          | 0/10000 [00:00<?, ?it/s]"
      ]
     },
     "metadata": {},
     "output_type": "display_data"
    },
    {
     "name": "stdout",
     "output_type": "stream",
     "text": [
      "gld_params: [0.09712311 0.01556854 0.0760251  0.24838943]\n",
      "wrapper([ 0.000e+00  0.000e+00 ...  0.000e+00  0.000e+00]) = -0.0\n",
      "assembly_constraint_no_mean([ 0.000e+00  0.000e+00 ...  0.000e+00  0.000e+00]) = [-1.000e+01 -1.000e+01 ... -4.991e+00 -1.000e+01]\n"
     ]
    },
    {
     "data": {
      "application/vnd.jupyter.widget-view+json": {
       "model_id": "d5c4c74c12594b21b81ce01608de82a0",
       "version_major": 2,
       "version_minor": 0
      },
      "text/plain": [
       "  0%|          | 0/10000 [00:00<?, ?it/s]"
      ]
     },
     "metadata": {},
     "output_type": "display_data"
    },
    {
     "name": "stdout",
     "output_type": "stream",
     "text": [
      "gld_params: [0.09747573 0.01560017 0.06934626 0.24915851]\n",
      "wrapper([ 0.000e+00  0.000e+00 ...  0.000e+00  0.000e+00]) = -0.0\n",
      "assembly_constraint_no_mean([ 0.000e+00  0.000e+00 ...  0.000e+00  0.000e+00]) = [-1.000e+01 -1.000e+01 ... -4.990e+00 -1.000e+01]\n"
     ]
    },
    {
     "data": {
      "application/vnd.jupyter.widget-view+json": {
       "model_id": "82265ce6f0fa4809b6ef6904e40e691e",
       "version_major": 2,
       "version_minor": 0
      },
      "text/plain": [
       "  0%|          | 0/10000 [00:00<?, ?it/s]"
      ]
     },
     "metadata": {},
     "output_type": "display_data"
    },
    {
     "name": "stdout",
     "output_type": "stream",
     "text": [
      "gld_params: [0.09916794 0.00379289 0.09066894 0.24372705]\n",
      "wrapper([ 0.000e+00  0.000e+00 ...  0.000e+00  0.000e+00]) = -0.0\n",
      "assembly_constraint_no_mean([ 0.000e+00  0.000e+00 ...  0.000e+00  0.000e+00]) = [-1.000e+01 -1.000e+01 ... -1.000e+01 -5.016e+00]\n"
     ]
    },
    {
     "data": {
      "application/vnd.jupyter.widget-view+json": {
       "model_id": "f2d8c2210c49437886d411a36cb5f441",
       "version_major": 2,
       "version_minor": 0
      },
      "text/plain": [
       "  0%|          | 0/10000 [00:00<?, ?it/s]"
      ]
     },
     "metadata": {},
     "output_type": "display_data"
    },
    {
     "name": "stdout",
     "output_type": "stream",
     "text": [
      "gld_params: [0.09917317 0.00381529 0.0920603  0.25100082]\n",
      "wrapper([ 0.000e+00  0.000e+00 ...  0.000e+00  0.000e+00]) = -0.0\n",
      "assembly_constraint_no_mean([ 0.000e+00  0.000e+00 ...  0.000e+00  0.000e+00]) = [-1.000e+01 -1.000e+01 ... -1.000e+01 -5.004e+00]\n"
     ]
    },
    {
     "data": {
      "application/vnd.jupyter.widget-view+json": {
       "model_id": "469d87f7936d4ac5a1ce42ef9d6566d9",
       "version_major": 2,
       "version_minor": 0
      },
      "text/plain": [
       "  0%|          | 0/10000 [00:00<?, ?it/s]"
      ]
     },
     "metadata": {},
     "output_type": "display_data"
    },
    {
     "name": "stdout",
     "output_type": "stream",
     "text": [
      "gld_params: [0.09725135 0.01552287 0.07376755 0.2457094 ]\n",
      "wrapper([ 0.000e+00  0.000e+00 ...  5.000e-01  0.000e+00]) = -0.0\n",
      "assembly_constraint_no_mean([ 0.000e+00  0.000e+00 ...  5.000e-01  0.000e+00]) = [-1.000e+01 -1.000e+01 ... -1.000e+01 -5.017e+00]\n"
     ]
    },
    {
     "data": {
      "application/vnd.jupyter.widget-view+json": {
       "model_id": "c002d10c70564c3a997fb7964a93c3b2",
       "version_major": 2,
       "version_minor": 0
      },
      "text/plain": [
       "  0%|          | 0/10000 [00:00<?, ?it/s]"
      ]
     },
     "metadata": {},
     "output_type": "display_data"
    },
    {
     "name": "stdout",
     "output_type": "stream",
     "text": [
      "gld_params: [0.09721094 0.01552031 0.07655557 0.25868845]\n",
      "wrapper([ 0.000e+00  0.000e+00 ...  0.000e+00  5.000e-01]) = -0.0\n",
      "assembly_constraint_no_mean([ 0.000e+00  0.000e+00 ...  0.000e+00  5.000e-01]) = [-1.000e+01 -1.000e+01 ... -1.000e+01 -5.010e+00]\n"
     ]
    },
    {
     "data": {
      "application/vnd.jupyter.widget-view+json": {
       "model_id": "b4ac6fc804f64f02bc8ff8358863bacf",
       "version_major": 2,
       "version_minor": 0
      },
      "text/plain": [
       "  0%|          | 0/10000 [00:00<?, ?it/s]"
      ]
     },
     "metadata": {},
     "output_type": "display_data"
    },
    {
     "name": "stdout",
     "output_type": "stream",
     "text": [
      "gld_params: [0.09900626 0.00540036 0.07525451 0.23759925]\n",
      "wrapper([ 1.000e+00  0.000e+00 ...  0.000e+00  0.000e+00]) = -0.0\n",
      "assembly_constraint_no_mean([ 1.000e+00  0.000e+00 ...  0.000e+00  0.000e+00]) = [-3.185e-02 -1.000e+01 ... -1.000e+01 -1.000e+01]\n"
     ]
    },
    {
     "data": {
      "application/vnd.jupyter.widget-view+json": {
       "model_id": "ec956e7cd44c457d8ade5b9668a2d655",
       "version_major": 2,
       "version_minor": 0
      },
      "text/plain": [
       "  0%|          | 0/10000 [00:00<?, ?it/s]"
      ]
     },
     "metadata": {},
     "output_type": "display_data"
    },
    {
     "name": "stdout",
     "output_type": "stream",
     "text": [
      "gld_params: [0.09897465 0.005507   0.07778244 0.25712575]\n",
      "wrapper([ 0.000e+00  1.000e+00 ...  0.000e+00  0.000e+00]) = -0.0\n",
      "assembly_constraint_no_mean([ 0.000e+00  1.000e+00 ...  0.000e+00  0.000e+00]) = [-4.227e-02 -1.000e+01 ... -1.000e+01 -1.000e+01]\n"
     ]
    },
    {
     "data": {
      "application/vnd.jupyter.widget-view+json": {
       "model_id": "7125bd2ba8c5404fb016300d600c1449",
       "version_major": 2,
       "version_minor": 0
      },
      "text/plain": [
       "  0%|          | 0/10000 [00:00<?, ?it/s]"
      ]
     },
     "metadata": {},
     "output_type": "display_data"
    },
    {
     "name": "stdout",
     "output_type": "stream",
     "text": [
      "gld_params: [0.09604062 0.02200213 0.07337423 0.24697374]\n",
      "wrapper([ 0.000e+00  0.000e+00 ...  0.000e+00  0.000e+00]) = -0.0\n",
      "assembly_constraint_no_mean([ 0.000e+00  0.000e+00 ...  0.000e+00  0.000e+00]) = [-2.419e-03 -1.000e+01 ... -1.000e+01 -1.000e+01]\n"
     ]
    },
    {
     "data": {
      "application/vnd.jupyter.widget-view+json": {
       "model_id": "8a67e4647ee74aa79b4ac51d4c869788",
       "version_major": 2,
       "version_minor": 0
      },
      "text/plain": [
       "  0%|          | 0/10000 [00:00<?, ?it/s]"
      ]
     },
     "metadata": {},
     "output_type": "display_data"
    },
    {
     "name": "stdout",
     "output_type": "stream",
     "text": [
      "gld_params: [0.09571993 0.02162288 0.08169805 0.23466593]\n",
      "wrapper([ 0.000e+00  0.000e+00 ...  0.000e+00  0.000e+00]) = -0.0\n",
      "assembly_constraint_no_mean([ 0.000e+00  0.000e+00 ...  0.000e+00  0.000e+00]) = [ 1.460e-02 -1.000e+01 ... -1.000e+01 -1.000e+01]\n"
     ]
    },
    {
     "data": {
      "application/vnd.jupyter.widget-view+json": {
       "model_id": "926edf4cc449447994c82f1c0311d15f",
       "version_major": 2,
       "version_minor": 0
      },
      "text/plain": [
       "  0%|          | 0/10000 [00:00<?, ?it/s]"
      ]
     },
     "metadata": {},
     "output_type": "display_data"
    },
    {
     "name": "stdout",
     "output_type": "stream",
     "text": [
      "gld_params: [0.09909277 0.00542627 0.06924095 0.24414719]\n",
      "wrapper([ 0.000e+00  0.000e+00 ...  0.000e+00  0.000e+00]) = -0.0\n",
      "assembly_constraint_no_mean([ 0.000e+00  0.000e+00 ...  0.000e+00  0.000e+00]) = [-1.000e+01 -2.548e-02 ... -1.000e+01 -1.000e+01]\n"
     ]
    },
    {
     "data": {
      "application/vnd.jupyter.widget-view+json": {
       "model_id": "3f1a46a945c84c71a29f08b2212565cf",
       "version_major": 2,
       "version_minor": 0
      },
      "text/plain": [
       "  0%|          | 0/10000 [00:00<?, ?it/s]"
      ]
     },
     "metadata": {},
     "output_type": "display_data"
    },
    {
     "name": "stdout",
     "output_type": "stream",
     "text": [
      "gld_params: [0.09899847 0.00544319 0.07712616 0.23726181]\n",
      "wrapper([ 0.000e+00  0.000e+00 ...  0.000e+00  0.000e+00]) = -0.0\n",
      "assembly_constraint_no_mean([ 0.000e+00  0.000e+00 ...  0.000e+00  0.000e+00]) = [-1.000e+01  1.967e-02 ... -1.000e+01 -1.000e+01]\n"
     ]
    },
    {
     "data": {
      "application/vnd.jupyter.widget-view+json": {
       "model_id": "71e8c942ed0c4f23b9ca896853ba2822",
       "version_major": 2,
       "version_minor": 0
      },
      "text/plain": [
       "  0%|          | 0/10000 [00:00<?, ?it/s]"
      ]
     },
     "metadata": {},
     "output_type": "display_data"
    },
    {
     "name": "stdout",
     "output_type": "stream",
     "text": [
      "gld_params: [0.09505183 0.02103622 0.09506154 0.21921928]\n",
      "wrapper([ 0.000e+00  0.000e+00 ...  0.000e+00  0.000e+00]) = -0.0\n",
      "assembly_constraint_no_mean([ 0.000e+00  0.000e+00 ...  0.000e+00  0.000e+00]) = [-1.000e+01  5.448e-02 ... -1.000e+01 -1.000e+01]\n"
     ]
    },
    {
     "data": {
      "application/vnd.jupyter.widget-view+json": {
       "model_id": "954283bd0c0a4984bceda6b134ab4ec7",
       "version_major": 2,
       "version_minor": 0
      },
      "text/plain": [
       "  0%|          | 0/10000 [00:00<?, ?it/s]"
      ]
     },
     "metadata": {},
     "output_type": "display_data"
    },
    {
     "name": "stdout",
     "output_type": "stream",
     "text": [
      "gld_params: [0.09501522 0.02080838 0.0941655  0.2178902 ]\n",
      "wrapper([ 0.000e+00  0.000e+00 ...  0.000e+00  0.000e+00]) = -0.0\n",
      "assembly_constraint_no_mean([ 0.000e+00  0.000e+00 ...  0.000e+00  0.000e+00]) = [-1.000e+01 -3.674e-02 ... -1.000e+01 -1.000e+01]\n"
     ]
    },
    {
     "data": {
      "application/vnd.jupyter.widget-view+json": {
       "model_id": "fe01f21ba5f14171bfaceff7ba4b7fd9",
       "version_major": 2,
       "version_minor": 0
      },
      "text/plain": [
       "  0%|          | 0/10000 [00:00<?, ?it/s]"
      ]
     },
     "metadata": {},
     "output_type": "display_data"
    },
    {
     "name": "stdout",
     "output_type": "stream",
     "text": [
      "gld_params: [0.09900142 0.00535753 0.0765637  0.23144075]\n",
      "wrapper([ 0.000e+00  0.000e+00 ...  0.000e+00  0.000e+00]) = -0.0\n",
      "assembly_constraint_no_mean([ 0.000e+00  0.000e+00 ...  0.000e+00  0.000e+00]) = [-1.000e+01 -1.000e+01 ... -1.000e+01 -1.000e+01]\n"
     ]
    },
    {
     "data": {
      "application/vnd.jupyter.widget-view+json": {
       "model_id": "358544958c1d40bfbc9a14b8d1241122",
       "version_major": 2,
       "version_minor": 0
      },
      "text/plain": [
       "  0%|          | 0/10000 [00:00<?, ?it/s]"
      ]
     },
     "metadata": {},
     "output_type": "display_data"
    },
    {
     "name": "stdout",
     "output_type": "stream",
     "text": [
      "gld_params: [0.09895446 0.00535926 0.07702666 0.21796402]\n",
      "wrapper([ 0.000e+00  0.000e+00 ...  0.000e+00  0.000e+00]) = -0.0\n",
      "assembly_constraint_no_mean([ 0.000e+00  0.000e+00 ...  0.000e+00  0.000e+00]) = [-1.000e+01 -1.000e+01 ... -1.000e+01 -1.000e+01]\n"
     ]
    },
    {
     "data": {
      "application/vnd.jupyter.widget-view+json": {
       "model_id": "af4ac0ed065e4116bb0ee00e859beb74",
       "version_major": 2,
       "version_minor": 0
      },
      "text/plain": [
       "  0%|          | 0/10000 [00:00<?, ?it/s]"
      ]
     },
     "metadata": {},
     "output_type": "display_data"
    },
    {
     "name": "stdout",
     "output_type": "stream",
     "text": [
      "gld_params: [0.09631801 0.02239231 0.07060053 0.25672765]\n",
      "wrapper([ 0.000e+00  0.000e+00 ...  0.000e+00  0.000e+00]) = -0.0\n",
      "assembly_constraint_no_mean([ 0.000e+00  0.000e+00 ...  0.000e+00  0.000e+00]) = [-1.000e+01 -1.000e+01 ... -1.000e+01 -1.000e+01]\n"
     ]
    },
    {
     "data": {
      "application/vnd.jupyter.widget-view+json": {
       "model_id": "b259bbf78c60462990d2263e7e636b54",
       "version_major": 2,
       "version_minor": 0
      },
      "text/plain": [
       "  0%|          | 0/10000 [00:00<?, ?it/s]"
      ]
     },
     "metadata": {},
     "output_type": "display_data"
    },
    {
     "name": "stdout",
     "output_type": "stream",
     "text": [
      "gld_params: [0.09634107 0.02209594 0.07012693 0.24602406]\n",
      "wrapper([ 0.000e+00  0.000e+00 ...  0.000e+00  0.000e+00]) = -0.0\n",
      "assembly_constraint_no_mean([ 0.000e+00  0.000e+00 ...  0.000e+00  0.000e+00]) = [-1.000e+01 -1.000e+01 ... -1.000e+01 -1.000e+01]\n"
     ]
    },
    {
     "data": {
      "application/vnd.jupyter.widget-view+json": {
       "model_id": "6ab1d6367f1040fbbe98afc77a2297b7",
       "version_major": 2,
       "version_minor": 0
      },
      "text/plain": [
       "  0%|          | 0/10000 [00:00<?, ?it/s]"
      ]
     },
     "metadata": {},
     "output_type": "display_data"
    },
    {
     "name": "stdout",
     "output_type": "stream",
     "text": [
      "gld_params: [0.09888722 0.00526736 0.08357949 0.21912192]\n",
      "wrapper([ 0.000e+00  0.000e+00 ...  0.000e+00  0.000e+00]) = -0.0\n",
      "assembly_constraint_no_mean([ 0.000e+00  0.000e+00 ...  0.000e+00  0.000e+00]) = [-1.000e+01 -1.000e+01 ... -1.000e+01 -1.000e+01]\n"
     ]
    },
    {
     "data": {
      "application/vnd.jupyter.widget-view+json": {
       "model_id": "21a2c3b180f04696a8740c19c405de32",
       "version_major": 2,
       "version_minor": 0
      },
      "text/plain": [
       "  0%|          | 0/10000 [00:00<?, ?it/s]"
      ]
     },
     "metadata": {},
     "output_type": "display_data"
    },
    {
     "name": "stdout",
     "output_type": "stream",
     "text": [
      "gld_params: [0.09910752 0.00531346 0.06765316 0.23024566]\n",
      "wrapper([ 0.000e+00  0.000e+00 ...  0.000e+00  0.000e+00]) = -0.0\n",
      "assembly_constraint_no_mean([ 0.000e+00  0.000e+00 ...  0.000e+00  0.000e+00]) = [-1.000e+01 -1.000e+01 ... -1.000e+01 -1.000e+01]\n"
     ]
    },
    {
     "data": {
      "application/vnd.jupyter.widget-view+json": {
       "model_id": "e3a547130d844e98b78aa9a643b96b8c",
       "version_major": 2,
       "version_minor": 0
      },
      "text/plain": [
       "  0%|          | 0/10000 [00:00<?, ?it/s]"
      ]
     },
     "metadata": {},
     "output_type": "display_data"
    },
    {
     "name": "stdout",
     "output_type": "stream",
     "text": [
      "gld_params: [0.095362   0.02083974 0.08669892 0.21767494]\n",
      "wrapper([ 0.000e+00  0.000e+00 ...  0.000e+00  0.000e+00]) = -0.0\n",
      "assembly_constraint_no_mean([ 0.000e+00  0.000e+00 ...  0.000e+00  0.000e+00]) = [-1.000e+01 -1.000e+01 ... -1.000e+01 -1.000e+01]\n"
     ]
    },
    {
     "data": {
      "application/vnd.jupyter.widget-view+json": {
       "model_id": "89cb4ed1db4d4052a9c1afad464d8260",
       "version_major": 2,
       "version_minor": 0
      },
      "text/plain": [
       "  0%|          | 0/10000 [00:00<?, ?it/s]"
      ]
     },
     "metadata": {},
     "output_type": "display_data"
    },
    {
     "name": "stdout",
     "output_type": "stream",
     "text": [
      "gld_params: [0.09581176 0.02120747 0.08034655 0.23253206]\n",
      "wrapper([ 0.000e+00  0.000e+00 ...  0.000e+00  0.000e+00]) = -0.0\n",
      "assembly_constraint_no_mean([ 0.000e+00  0.000e+00 ...  0.000e+00  0.000e+00]) = [-1.000e+01 -1.000e+01 ... -1.000e+01 -1.000e+01]\n"
     ]
    },
    {
     "data": {
      "application/vnd.jupyter.widget-view+json": {
       "model_id": "2791732fa6c84596929ab9930c821fdf",
       "version_major": 2,
       "version_minor": 0
      },
      "text/plain": [
       "  0%|          | 0/10000 [00:00<?, ?it/s]"
      ]
     },
     "metadata": {},
     "output_type": "display_data"
    },
    {
     "name": "stdout",
     "output_type": "stream",
     "text": [
      "gld_params: [0.09889129 0.00531017 0.08414249 0.22134192]\n",
      "wrapper([ 0.000e+00  0.000e+00 ...  0.000e+00  0.000e+00]) = -0.0\n",
      "assembly_constraint_no_mean([ 0.000e+00  0.000e+00 ...  0.000e+00  0.000e+00]) = [-1.000e+01 -1.000e+01 ... -1.000e+01 -1.000e+01]\n"
     ]
    },
    {
     "data": {
      "application/vnd.jupyter.widget-view+json": {
       "model_id": "55a9d3ac2fd54c28b326d5663050b480",
       "version_major": 2,
       "version_minor": 0
      },
      "text/plain": [
       "  0%|          | 0/10000 [00:00<?, ?it/s]"
      ]
     },
     "metadata": {},
     "output_type": "display_data"
    },
    {
     "name": "stdout",
     "output_type": "stream",
     "text": [
      "gld_params: [0.09909545 0.00543624 0.06982564 0.24538113]\n",
      "wrapper([ 0.000e+00  0.000e+00 ...  0.000e+00  0.000e+00]) = -0.0\n",
      "assembly_constraint_no_mean([ 0.000e+00  0.000e+00 ...  0.000e+00  0.000e+00]) = [-1.000e+01 -1.000e+01 ... -1.000e+01 -1.000e+01]\n"
     ]
    },
    {
     "data": {
      "application/vnd.jupyter.widget-view+json": {
       "model_id": "52458f4187c54127b5d558762d3c5d57",
       "version_major": 2,
       "version_minor": 0
      },
      "text/plain": [
       "  0%|          | 0/10000 [00:00<?, ?it/s]"
      ]
     },
     "metadata": {},
     "output_type": "display_data"
    },
    {
     "name": "stdout",
     "output_type": "stream",
     "text": [
      "gld_params: [0.09546371 0.02106549 0.08818633 0.22669756]\n",
      "wrapper([ 0.000e+00  0.000e+00 ...  0.000e+00  0.000e+00]) = -0.0\n",
      "assembly_constraint_no_mean([ 0.000e+00  0.000e+00 ...  0.000e+00  0.000e+00]) = [-1.000e+01 -1.000e+01 ... -1.000e+01 -1.000e+01]\n"
     ]
    },
    {
     "data": {
      "application/vnd.jupyter.widget-view+json": {
       "model_id": "23f1e9cfd744400eb1df6074323bca00",
       "version_major": 2,
       "version_minor": 0
      },
      "text/plain": [
       "  0%|          | 0/10000 [00:00<?, ?it/s]"
      ]
     },
     "metadata": {},
     "output_type": "display_data"
    },
    {
     "name": "stdout",
     "output_type": "stream",
     "text": [
      "gld_params: [0.09599543 0.02157195 0.07888288 0.24666182]\n",
      "wrapper([ 0.000e+00  0.000e+00 ...  0.000e+00  0.000e+00]) = -0.0\n",
      "assembly_constraint_no_mean([ 0.000e+00  0.000e+00 ...  0.000e+00  0.000e+00]) = [-1.000e+01 -1.000e+01 ... -1.000e+01 -1.000e+01]\n"
     ]
    },
    {
     "data": {
      "application/vnd.jupyter.widget-view+json": {
       "model_id": "7c6f0415982b457fa4d8044d2ba7697a",
       "version_major": 2,
       "version_minor": 0
      },
      "text/plain": [
       "  0%|          | 0/10000 [00:00<?, ?it/s]"
      ]
     },
     "metadata": {},
     "output_type": "display_data"
    },
    {
     "name": "stdout",
     "output_type": "stream",
     "text": [
      "gld_params: [0.09878751 0.0052249  0.09100854 0.21531531]\n",
      "wrapper([ 0.000e+00  0.000e+00 ...  0.000e+00  0.000e+00]) = -0.0\n",
      "assembly_constraint_no_mean([ 0.000e+00  0.000e+00 ...  0.000e+00  0.000e+00]) = [-1.000e+01 -1.000e+01 ... -1.000e+01 -1.000e+01]\n"
     ]
    },
    {
     "data": {
      "application/vnd.jupyter.widget-view+json": {
       "model_id": "74d65e52e17f48c088f4b6ed81e1cd89",
       "version_major": 2,
       "version_minor": 0
      },
      "text/plain": [
       "  0%|          | 0/10000 [00:00<?, ?it/s]"
      ]
     },
     "metadata": {},
     "output_type": "display_data"
    },
    {
     "name": "stdout",
     "output_type": "stream",
     "text": [
      "gld_params: [0.09893131 0.00532542 0.08295895 0.22959108]\n",
      "wrapper([ 0.000e+00  0.000e+00 ...  0.000e+00  0.000e+00]) = -0.0\n",
      "assembly_constraint_no_mean([ 0.000e+00  0.000e+00 ...  0.000e+00  0.000e+00]) = [-1.000e+01 -1.000e+01 ... -1.000e+01 -1.000e+01]\n"
     ]
    },
    {
     "data": {
      "application/vnd.jupyter.widget-view+json": {
       "model_id": "4ead95594e3e42feb81b86bdd6da620e",
       "version_major": 2,
       "version_minor": 0
      },
      "text/plain": [
       "  0%|          | 0/10000 [00:00<?, ?it/s]"
      ]
     },
     "metadata": {},
     "output_type": "display_data"
    },
    {
     "name": "stdout",
     "output_type": "stream",
     "text": [
      "gld_params: [0.09584117 0.02191057 0.07885252 0.24330829]\n",
      "wrapper([ 0.000e+00  0.000e+00 ...  0.000e+00  0.000e+00]) = -0.0\n",
      "assembly_constraint_no_mean([ 0.000e+00  0.000e+00 ...  0.000e+00  0.000e+00]) = [-1.000e+01 -1.000e+01 ... -1.000e+01 -1.000e+01]\n"
     ]
    },
    {
     "data": {
      "application/vnd.jupyter.widget-view+json": {
       "model_id": "4c6cdb92ac1a47b0a01cf9e9a7a89785",
       "version_major": 2,
       "version_minor": 0
      },
      "text/plain": [
       "  0%|          | 0/10000 [00:00<?, ?it/s]"
      ]
     },
     "metadata": {},
     "output_type": "display_data"
    },
    {
     "name": "stdout",
     "output_type": "stream",
     "text": [
      "gld_params: [0.09554149 0.02111697 0.08538009 0.22074961]\n",
      "wrapper([ 0.000e+00  0.000e+00 ...  0.000e+00  0.000e+00]) = -0.0\n",
      "assembly_constraint_no_mean([ 0.000e+00  0.000e+00 ...  0.000e+00  0.000e+00]) = [-1.000e+01 -1.000e+01 ... -1.000e+01 -1.000e+01]\n"
     ]
    },
    {
     "data": {
      "application/vnd.jupyter.widget-view+json": {
       "model_id": "a39e874755a34dc696a0e43f2e693910",
       "version_major": 2,
       "version_minor": 0
      },
      "text/plain": [
       "  0%|          | 0/10000 [00:00<?, ?it/s]"
      ]
     },
     "metadata": {},
     "output_type": "display_data"
    },
    {
     "name": "stdout",
     "output_type": "stream",
     "text": [
      "gld_params: [0.09892895 0.0052854  0.08086981 0.22721384]\n",
      "wrapper([ 0.000e+00  0.000e+00 ...  0.000e+00  0.000e+00]) = -0.0\n",
      "assembly_constraint_no_mean([ 0.000e+00  0.000e+00 ...  0.000e+00  0.000e+00]) = [-1.000e+01 -1.000e+01 ...  1.386e-02 -1.000e+01]\n"
     ]
    },
    {
     "data": {
      "application/vnd.jupyter.widget-view+json": {
       "model_id": "9c27cc09561d4f539590bcf3ca11209a",
       "version_major": 2,
       "version_minor": 0
      },
      "text/plain": [
       "  0%|          | 0/10000 [00:00<?, ?it/s]"
      ]
     },
     "metadata": {},
     "output_type": "display_data"
    },
    {
     "name": "stdout",
     "output_type": "stream",
     "text": [
      "gld_params: [0.0990232  0.00543418 0.07353091 0.25218751]\n",
      "wrapper([ 0.000e+00  0.000e+00 ...  0.000e+00  0.000e+00]) = -0.0\n",
      "assembly_constraint_no_mean([ 0.000e+00  0.000e+00 ...  0.000e+00  0.000e+00]) = [-1.000e+01 -1.000e+01 ... -5.066e-03 -1.000e+01]\n"
     ]
    },
    {
     "data": {
      "application/vnd.jupyter.widget-view+json": {
       "model_id": "52324a8e3fab41d1b5f0ab633fd6aa9e",
       "version_major": 2,
       "version_minor": 0
      },
      "text/plain": [
       "  0%|          | 0/10000 [00:00<?, ?it/s]"
      ]
     },
     "metadata": {},
     "output_type": "display_data"
    },
    {
     "name": "stdout",
     "output_type": "stream",
     "text": [
      "gld_params: [0.09593147 0.02201725 0.0760251  0.24838943]\n",
      "wrapper([ 0.000e+00  0.000e+00 ...  0.000e+00  0.000e+00]) = -0.0\n",
      "assembly_constraint_no_mean([ 0.000e+00  0.000e+00 ...  0.000e+00  0.000e+00]) = [-1.000e+01 -1.000e+01 ...  1.827e-02 -1.000e+01]\n"
     ]
    },
    {
     "data": {
      "application/vnd.jupyter.widget-view+json": {
       "model_id": "f25d6e309f1c4f1e991ce4636acefd8c",
       "version_major": 2,
       "version_minor": 0
      },
      "text/plain": [
       "  0%|          | 0/10000 [00:00<?, ?it/s]"
      ]
     },
     "metadata": {},
     "output_type": "display_data"
    },
    {
     "name": "stdout",
     "output_type": "stream",
     "text": [
      "gld_params: [0.09643014 0.02206197 0.06934626 0.24915851]\n",
      "wrapper([ 0.000e+00  0.000e+00 ...  0.000e+00  0.000e+00]) = -0.0\n",
      "assembly_constraint_no_mean([ 0.000e+00  0.000e+00 ...  0.000e+00  0.000e+00]) = [-1.000e+01 -1.000e+01 ...  1.961e-02 -1.000e+01]\n"
     ]
    },
    {
     "data": {
      "application/vnd.jupyter.widget-view+json": {
       "model_id": "f0642d21ad9b413dabf8269746787016",
       "version_major": 2,
       "version_minor": 0
      },
      "text/plain": [
       "  0%|          | 0/10000 [00:00<?, ?it/s]"
      ]
     },
     "metadata": {},
     "output_type": "display_data"
    },
    {
     "name": "stdout",
     "output_type": "stream",
     "text": [
      "gld_params: [0.09882329 0.00536395 0.09066894 0.24372708]\n",
      "wrapper([ 0.000e+00  0.000e+00 ...  0.000e+00  0.000e+00]) = -0.0\n",
      "assembly_constraint_no_mean([ 0.000e+00  0.000e+00 ...  0.000e+00  0.000e+00]) = [-1.000e+01 -1.000e+01 ... -1.000e+01 -3.288e-02]\n"
     ]
    },
    {
     "data": {
      "application/vnd.jupyter.widget-view+json": {
       "model_id": "879686fd1cc74d468c846f847b6a0322",
       "version_major": 2,
       "version_minor": 0
      },
      "text/plain": [
       "  0%|          | 0/10000 [00:00<?, ?it/s]"
      ]
     },
     "metadata": {},
     "output_type": "display_data"
    },
    {
     "name": "stdout",
     "output_type": "stream",
     "text": [
      "gld_params: [0.09883068 0.00539564 0.09206029 0.25100085]\n",
      "wrapper([ 0.000e+00  0.000e+00 ...  0.000e+00  0.000e+00]) = -0.0\n",
      "assembly_constraint_no_mean([ 0.000e+00  0.000e+00 ...  0.000e+00  0.000e+00]) = [-1.000e+01 -1.000e+01 ... -1.000e+01 -7.169e-03]\n"
     ]
    },
    {
     "data": {
      "application/vnd.jupyter.widget-view+json": {
       "model_id": "fc0c02538d094df9af74b5a611d15cc4",
       "version_major": 2,
       "version_minor": 0
      },
      "text/plain": [
       "  0%|          | 0/10000 [00:00<?, ?it/s]"
      ]
     },
     "metadata": {},
     "output_type": "display_data"
    },
    {
     "name": "stdout",
     "output_type": "stream",
     "text": [
      "gld_params: [0.09611283 0.02195265 0.07376755 0.24570939]\n",
      "wrapper([ 0.000e+00  0.000e+00 ...  1.000e+00  0.000e+00]) = -0.0\n",
      "assembly_constraint_no_mean([ 0.000e+00  0.000e+00 ...  1.000e+00  0.000e+00]) = [-1.000e+01 -1.000e+01 ... -1.000e+01 -3.367e-02]\n"
     ]
    },
    {
     "data": {
      "application/vnd.jupyter.widget-view+json": {
       "model_id": "99eab8a40f224c8fafaeae3f6b8510c0",
       "version_major": 2,
       "version_minor": 0
      },
      "text/plain": [
       "  0%|          | 0/10000 [00:00<?, ?it/s]"
      ]
     },
     "metadata": {},
     "output_type": "display_data"
    },
    {
     "name": "stdout",
     "output_type": "stream",
     "text": [
      "gld_params: [0.09605566 0.02194903 0.07655558 0.25868844]\n",
      "wrapper([ 0.000e+00  0.000e+00 ...  0.000e+00  1.000e+00]) = -0.0\n",
      "assembly_constraint_no_mean([ 0.000e+00  0.000e+00 ...  0.000e+00  1.000e+00]) = [-1.000e+01 -1.000e+01 ... -1.000e+01 -2.092e-02]\n"
     ]
    },
    {
     "data": {
      "application/vnd.jupyter.widget-view+json": {
       "model_id": "8c693a5de9684c8aa269629288564b40",
       "version_major": 2,
       "version_minor": 0
      },
      "text/plain": [
       "  0%|          | 0/10000 [00:00<?, ?it/s]"
      ]
     },
     "metadata": {},
     "output_type": "display_data"
    },
    {
     "name": "stdout",
     "output_type": "stream",
     "text": [
      "gld_params: [0.09697953 0.00442503 0.17219164 0.14061125]\n",
      "wrapper([ 2.500e-01  0.000e+00 ...  0.000e+00  0.000e+00]) = -0.0\n",
      "assembly_constraint_no_mean([ 2.500e-01  0.000e+00 ...  0.000e+00  0.000e+00]) = [-7.508e+00 -1.000e+01 ... -1.000e+01 -1.000e+01]\n"
     ]
    },
    {
     "data": {
      "application/vnd.jupyter.widget-view+json": {
       "model_id": "39455a3750e94a178e82fc691c8cdfdc",
       "version_major": 2,
       "version_minor": 0
      },
      "text/plain": [
       "  0%|          | 0/10000 [00:00<?, ?it/s]"
      ]
     },
     "metadata": {},
     "output_type": "display_data"
    },
    {
     "name": "stdout",
     "output_type": "stream",
     "text": [
      "gld_params: [0.09583604 0.00530436 0.20159766 0.13752584]\n",
      "wrapper([ 6.308e-01  0.000e+00 ...  0.000e+00  2.970e-16]) = -0.0\n",
      "assembly_constraint_no_mean([ 6.308e-01  0.000e+00 ...  0.000e+00  2.970e-16]) = [-3.712e+00 -1.000e+01 ... -1.000e+01 -1.000e+01]\n"
     ]
    },
    {
     "data": {
      "application/vnd.jupyter.widget-view+json": {
       "model_id": "d36fe834efd948cfac376269063df715",
       "version_major": 2,
       "version_minor": 0
      },
      "text/plain": [
       "  0%|          | 0/10000 [00:00<?, ?it/s]"
      ]
     },
     "metadata": {},
     "output_type": "display_data"
    },
    {
     "name": "stdout",
     "output_type": "stream",
     "text": [
      "gld_params: [0.0809074  0.0066174  0.36430268 0.11775328]\n",
      "wrapper([ 7.093e-01  0.000e+00 ...  0.000e+00  1.580e-01]) = -0.0\n",
      "assembly_constraint_no_mean([ 7.093e-01  0.000e+00 ...  0.000e+00  1.580e-01]) = [-2.930e+00 -7.875e+00 ... -8.276e+00 -7.766e+00]\n"
     ]
    },
    {
     "data": {
      "application/vnd.jupyter.widget-view+json": {
       "model_id": "a6f5ef7907dc49e48f9b5d8e187e34f3",
       "version_major": 2,
       "version_minor": 0
      },
      "text/plain": [
       "  0%|          | 0/10000 [00:00<?, ?it/s]"
      ]
     },
     "metadata": {},
     "output_type": "display_data"
    },
    {
     "name": "stdout",
     "output_type": "stream",
     "text": [
      "gld_params: [0.07123944 0.010146   0.34303403 0.10691131]\n",
      "wrapper([ 7.310e-01  3.270e-17 ...  0.000e+00  2.934e-01]) = -0.0\n",
      "assembly_constraint_no_mean([ 7.310e-01  3.270e-17 ...  0.000e+00  2.934e-01]) = [-2.900e+00 -6.881e+00 ... -6.340e+00 -6.119e+00]\n"
     ]
    },
    {
     "data": {
      "application/vnd.jupyter.widget-view+json": {
       "model_id": "bae2ef7239ee4075946868843578e73f",
       "version_major": 2,
       "version_minor": 0
      },
      "text/plain": [
       "  0%|          | 0/10000 [00:00<?, ?it/s]"
      ]
     },
     "metadata": {},
     "output_type": "display_data"
    },
    {
     "name": "stdout",
     "output_type": "stream",
     "text": [
      "gld_params: [0.0619625  0.01308119 0.33856967 0.10519284]\n",
      "wrapper([ 4.087e-01  2.647e-01 ...  7.134e-17  5.117e-01]) = -5.9608609865491405e-06\n",
      "assembly_constraint_no_mean([ 4.087e-01  2.647e-01 ...  7.134e-17  5.117e-01]) = [-5.387e+00 -4.343e+00 ... -3.470e+00 -3.242e+00]\n"
     ]
    },
    {
     "data": {
      "application/vnd.jupyter.widget-view+json": {
       "model_id": "19e68f2296af4e3ca8b95be929d22607",
       "version_major": 2,
       "version_minor": 0
      },
      "text/plain": [
       "  0%|          | 0/10000 [00:00<?, ?it/s]"
      ]
     },
     "metadata": {},
     "output_type": "display_data"
    },
    {
     "name": "stdout",
     "output_type": "stream",
     "text": [
      "gld_params: [0.04792944 0.01941767 0.33039055 0.12217848]\n",
      "wrapper([ 0.000e+00  1.000e+00 ...  6.571e-01  5.796e-01]) = -0.0074065571758329335\n",
      "assembly_constraint_no_mean([ 0.000e+00  1.000e+00 ...  6.571e-01  5.796e-01]) = [ 1.667e+00  1.069e+00 ...  5.363e-01 -1.460e+00]\n"
     ]
    },
    {
     "data": {
      "application/vnd.jupyter.widget-view+json": {
       "model_id": "2934538153cd4dd4ba7b8c820cfd26a2",
       "version_major": 2,
       "version_minor": 0
      },
      "text/plain": [
       "  0%|          | 0/10000 [00:00<?, ?it/s]"
      ]
     },
     "metadata": {},
     "output_type": "display_data"
    },
    {
     "name": "stdout",
     "output_type": "stream",
     "text": [
      "gld_params: [0.04322484 0.02105749 0.33251925 0.12915426]\n",
      "wrapper([ 5.436e-17  1.000e+00 ...  1.000e+00  1.221e-01]) = -0.019541674335336136\n",
      "assembly_constraint_no_mean([ 5.436e-17  1.000e+00 ...  1.000e+00  1.221e-01]) = [ 3.608e+00  4.315e+00 ...  4.173e+00  3.540e+00]\n"
     ]
    },
    {
     "data": {
      "application/vnd.jupyter.widget-view+json": {
       "model_id": "673430257cb549c1829a473ac6e8d5d2",
       "version_major": 2,
       "version_minor": 0
      },
      "text/plain": [
       "  0%|          | 0/10000 [00:00<?, ?it/s]"
      ]
     },
     "metadata": {},
     "output_type": "display_data"
    },
    {
     "name": "stdout",
     "output_type": "stream",
     "text": [
      "gld_params: [0.0464179  0.01994894 0.32288592 0.10983427]\n",
      "wrapper([ 0.000e+00  1.000e+00 ...  0.000e+00  1.000e+00]) = -0.013233612525816354\n",
      "assembly_constraint_no_mean([ 0.000e+00  1.000e+00 ...  0.000e+00  1.000e+00]) = [ 1.076e+00  1.177e+00 ...  3.172e+00  1.455e+00]\n"
     ]
    },
    {
     "data": {
      "application/vnd.jupyter.widget-view+json": {
       "model_id": "f834602221e7454ca9fff3deb9d93945",
       "version_major": 2,
       "version_minor": 0
      },
      "text/plain": [
       "  0%|          | 0/10000 [00:00<?, ?it/s]"
      ]
     },
     "metadata": {},
     "output_type": "display_data"
    },
    {
     "name": "stdout",
     "output_type": "stream",
     "text": [
      "gld_params: [0.04068181 0.02127743 0.34410262 0.12132298]\n",
      "wrapper([ 3.646e-17  1.000e+00 ...  8.119e-01  1.000e+00]) = -0.026800440466086674\n",
      "assembly_constraint_no_mean([ 3.646e-17  1.000e+00 ...  8.119e-01  1.000e+00]) = [ 3.608e+00  3.833e+00 ...  4.070e+00  3.337e+00]\n"
     ]
    },
    {
     "data": {
      "application/vnd.jupyter.widget-view+json": {
       "model_id": "da5f6980d55e4bd38bb957b726fb1d28",
       "version_major": 2,
       "version_minor": 0
      },
      "text/plain": [
       "  0%|          | 0/10000 [00:00<?, ?it/s]"
      ]
     },
     "metadata": {},
     "output_type": "display_data"
    },
    {
     "name": "stdout",
     "output_type": "stream",
     "text": [
      "gld_params: [0.04765928 0.01935994 0.33046878 0.12454691]\n",
      "wrapper([ 0.000e+00  1.000e+00 ...  6.571e-01  5.796e-01]) = -0.007273766841230987\n",
      "assembly_constraint_no_mean([ 0.000e+00  1.000e+00 ...  6.571e-01  5.796e-01]) = [ 1.667e+00  1.069e+00 ...  5.363e-01 -1.460e+00]\n"
     ]
    },
    {
     "data": {
      "application/vnd.jupyter.widget-view+json": {
       "model_id": "180ea6386cc34deea756d0a90bc4dd64",
       "version_major": 2,
       "version_minor": 0
      },
      "text/plain": [
       "  0%|          | 0/10000 [00:00<?, ?it/s]"
      ]
     },
     "metadata": {},
     "output_type": "display_data"
    },
    {
     "name": "stdout",
     "output_type": "stream",
     "text": [
      "gld_params: [0.0445754  0.02043022 0.33314653 0.11944615]\n",
      "wrapper([ 0.000e+00  1.000e+00 ...  6.049e-01  8.278e-01]) = -0.015573312644329039\n",
      "assembly_constraint_no_mean([ 0.000e+00  1.000e+00 ...  6.049e-01  8.278e-01]) = [ 2.644e+00  2.272e+00 ...  2.084e+00  7.495e-01]\n"
     ]
    },
    {
     "data": {
      "application/vnd.jupyter.widget-view+json": {
       "model_id": "fd31617fa0594368a99e1ebcb9263bd6",
       "version_major": 2,
       "version_minor": 0
      },
      "text/plain": [
       "  0%|          | 0/10000 [00:00<?, ?it/s]"
      ]
     },
     "metadata": {},
     "output_type": "display_data"
    },
    {
     "name": "stdout",
     "output_type": "stream",
     "text": [
      "gld_params: [0.04615412 0.02048702 0.33125991 0.12891155]\n",
      "wrapper([ 0.000e+00  1.000e+00 ...  8.958e-01  5.189e-01]) = -0.011922306185475323\n",
      "assembly_constraint_no_mean([ 0.000e+00  1.000e+00 ...  8.958e-01  5.189e-01]) = [ 1.255e+00  7.939e-01 ...  9.723e-01 -6.357e-01]\n"
     ]
    },
    {
     "data": {
      "application/vnd.jupyter.widget-view+json": {
       "model_id": "388093bbc31e4e938e2a0ea94aade502",
       "version_major": 2,
       "version_minor": 0
      },
      "text/plain": [
       "  0%|          | 0/10000 [00:00<?, ?it/s]"
      ]
     },
     "metadata": {},
     "output_type": "display_data"
    },
    {
     "name": "stdout",
     "output_type": "stream",
     "text": [
      "gld_params: [0.04583029 0.0199472  0.33921849 0.12847047]\n",
      "wrapper([ 1.543e-01  9.410e-01 ...  7.635e-01  6.864e-01]) = -0.009889697172751632\n",
      "assembly_constraint_no_mean([ 1.543e-01  9.410e-01 ...  7.635e-01  6.864e-01]) = [ 8.564e-01  1.121e+00 ...  1.488e+00 -1.350e-01]\n"
     ]
    },
    {
     "data": {
      "application/vnd.jupyter.widget-view+json": {
       "model_id": "cd79a828a96642959fbcd18253bf4ce9",
       "version_major": 2,
       "version_minor": 0
      },
      "text/plain": [
       "  0%|          | 0/10000 [00:00<?, ?it/s]"
      ]
     },
     "metadata": {},
     "output_type": "display_data"
    },
    {
     "name": "stdout",
     "output_type": "stream",
     "text": [
      "gld_params: [0.04813142 0.01925418 0.33060357 0.11953106]\n",
      "wrapper([ 0.000e+00  1.000e+00 ...  7.969e-01  7.045e-01]) = -0.007062677241867775\n",
      "assembly_constraint_no_mean([ 0.000e+00  1.000e+00 ...  7.969e-01  7.045e-01]) = [ 1.271e+00  1.346e+00 ...  2.340e-01  1.048e+00]\n"
     ]
    },
    {
     "data": {
      "application/vnd.jupyter.widget-view+json": {
       "model_id": "a3dc896685854e4a92938627f82d4d43",
       "version_major": 2,
       "version_minor": 0
      },
      "text/plain": [
       "  0%|          | 0/10000 [00:00<?, ?it/s]"
      ]
     },
     "metadata": {},
     "output_type": "display_data"
    },
    {
     "name": "stdout",
     "output_type": "stream",
     "text": [
      "gld_params: [0.04752908 0.01945409 0.33336141 0.121737  ]\n",
      "wrapper([ 9.955e-17  8.427e-01 ...  7.281e-01  6.928e-01]) = -0.007744422556005523\n",
      "assembly_constraint_no_mean([ 9.955e-17  8.427e-01 ...  7.281e-01  6.928e-01]) = [ 7.490e-02  9.009e-01 ...  6.218e-01  2.172e-01]\n"
     ]
    },
    {
     "data": {
      "application/vnd.jupyter.widget-view+json": {
       "model_id": "0c2380d26121472792770e8b34bc194a",
       "version_major": 2,
       "version_minor": 0
      },
      "text/plain": [
       "  0%|          | 0/10000 [00:00<?, ?it/s]"
      ]
     },
     "metadata": {},
     "output_type": "display_data"
    },
    {
     "name": "stdout",
     "output_type": "stream",
     "text": [
      "gld_params: [0.04854908 0.01889916 0.33997332 0.12460667]\n",
      "wrapper([ 5.098e-17  6.550e-01 ...  4.863e-01  5.209e-01]) = -0.004844013533305898\n",
      "assembly_constraint_no_mean([ 5.098e-17  6.550e-01 ...  4.863e-01  5.209e-01]) = [-9.382e-01 -2.924e-01 ...  4.595e-01 -2.002e+00]\n"
     ]
    },
    {
     "data": {
      "application/vnd.jupyter.widget-view+json": {
       "model_id": "d062347c9f47477f99977b7c5e303917",
       "version_major": 2,
       "version_minor": 0
      },
      "text/plain": [
       "  0%|          | 0/10000 [00:00<?, ?it/s]"
      ]
     },
     "metadata": {},
     "output_type": "display_data"
    },
    {
     "name": "stdout",
     "output_type": "stream",
     "text": [
      "gld_params: [0.04807827 0.01943305 0.33267574 0.12436094]\n",
      "wrapper([ 0.000e+00  9.040e-01 ...  6.682e-01  6.364e-01]) = -0.006895553329733297\n",
      "assembly_constraint_no_mean([ 0.000e+00  9.040e-01 ...  6.682e-01  6.364e-01]) = [ 8.997e-01  1.410e-02 ...  1.047e+00  4.912e-03]\n"
     ]
    },
    {
     "data": {
      "application/vnd.jupyter.widget-view+json": {
       "model_id": "ea51e6228a6148a0a7ed5977ae8c77b9",
       "version_major": 2,
       "version_minor": 0
      },
      "text/plain": [
       "  0%|          | 0/10000 [00:00<?, ?it/s]"
      ]
     },
     "metadata": {},
     "output_type": "display_data"
    },
    {
     "name": "stdout",
     "output_type": "stream",
     "text": [
      "gld_params: [0.04976537 0.01830635 0.33700433 0.12164345]\n",
      "wrapper([ 1.802e-17  8.073e-01 ...  3.983e-01  7.437e-01]) = -0.00340904994270788\n",
      "assembly_constraint_no_mean([ 1.802e-17  8.073e-01 ...  3.983e-01  7.437e-01]) = [-1.893e-01 -1.461e-02 ...  7.700e-02 -9.555e-01]\n"
     ]
    },
    {
     "data": {
      "application/vnd.jupyter.widget-view+json": {
       "model_id": "4672952198404d6eacf042bdaf25b4f8",
       "version_major": 2,
       "version_minor": 0
      },
      "text/plain": [
       "  0%|          | 0/10000 [00:00<?, ?it/s]"
      ]
     },
     "metadata": {},
     "output_type": "display_data"
    },
    {
     "name": "stdout",
     "output_type": "stream",
     "text": [
      "gld_params: [0.04990094 0.01863315 0.31998488 0.10434293]\n",
      "wrapper([ 0.000e+00  7.942e-01 ...  1.603e-01  6.214e-01]) = -0.0062397487287084545\n",
      "assembly_constraint_no_mean([ 0.000e+00  7.942e-01 ...  1.603e-01  6.214e-01]) = [ 3.880e-01  9.168e-01 ...  2.800e-01 -8.134e-01]\n"
     ]
    },
    {
     "data": {
      "application/vnd.jupyter.widget-view+json": {
       "model_id": "c08ec4aaa2d8453c9e6f916b09715210",
       "version_major": 2,
       "version_minor": 0
      },
      "text/plain": [
       "  0%|          | 0/10000 [00:00<?, ?it/s]"
      ]
     },
     "metadata": {},
     "output_type": "display_data"
    },
    {
     "name": "stdout",
     "output_type": "stream",
     "text": [
      "gld_params: [0.04933769 0.01825617 0.33987556 0.12166818]\n",
      "wrapper([ 4.697e-01  7.825e-01 ...  4.616e-01  7.479e-01]) = -0.0034490148890219388\n",
      "assembly_constraint_no_mean([ 4.697e-01  7.825e-01 ...  4.616e-01  7.479e-01]) = [ 4.057e-01  1.340e-01 ...  2.501e-01 -8.052e-01]\n"
     ]
    },
    {
     "data": {
      "application/vnd.jupyter.widget-view+json": {
       "model_id": "694506531ff94ea7aa122144a200a9e7",
       "version_major": 2,
       "version_minor": 0
      },
      "text/plain": [
       "  0%|          | 0/10000 [00:00<?, ?it/s]"
      ]
     },
     "metadata": {},
     "output_type": "display_data"
    },
    {
     "name": "stdout",
     "output_type": "stream",
     "text": [
      "gld_params: [0.04860618 0.01904024 0.33215315 0.11697314]\n",
      "wrapper([ 0.000e+00  7.607e-01 ...  5.958e-01  6.951e-01]) = -0.006269711344431565\n",
      "assembly_constraint_no_mean([ 0.000e+00  7.607e-01 ...  5.958e-01  6.951e-01]) = [ 4.932e-01  3.410e-01 ...  6.574e-02 -1.246e+00]\n"
     ]
    },
    {
     "data": {
      "application/vnd.jupyter.widget-view+json": {
       "model_id": "55b8928edd2c44c28f61a5d1661521b1",
       "version_major": 2,
       "version_minor": 0
      },
      "text/plain": [
       "  0%|          | 0/10000 [00:00<?, ?it/s]"
      ]
     },
     "metadata": {},
     "output_type": "display_data"
    },
    {
     "name": "stdout",
     "output_type": "stream",
     "text": [
      "gld_params: [0.04933309 0.01863653 0.32819866 0.11223073]\n",
      "wrapper([ 0.000e+00  8.828e-01 ...  2.444e-01  8.701e-01]) = -0.005480130403533819\n",
      "assembly_constraint_no_mean([ 0.000e+00  8.828e-01 ...  2.444e-01  8.701e-01]) = [ 7.346e-01  1.339e+00 ... -2.310e-01 -7.425e-01]\n"
     ]
    },
    {
     "data": {
      "application/vnd.jupyter.widget-view+json": {
       "model_id": "7e9d9aa51db8470baedb175cb2b4f4aa",
       "version_major": 2,
       "version_minor": 0
      },
      "text/plain": [
       "  0%|          | 0/10000 [00:00<?, ?it/s]"
      ]
     },
     "metadata": {},
     "output_type": "display_data"
    },
    {
     "name": "stdout",
     "output_type": "stream",
     "text": [
      "gld_params: [0.04906008 0.01887804 0.33008328 0.11298404]\n",
      "wrapper([ 9.344e-18  7.682e-01 ...  3.823e-01  7.466e-01]) = -0.00603438385778262\n",
      "assembly_constraint_no_mean([ 9.344e-18  7.682e-01 ...  3.823e-01  7.466e-01]) = [ 5.881e-02  2.392e-01 ... -2.394e-01 -1.019e+00]\n"
     ]
    },
    {
     "data": {
      "application/vnd.jupyter.widget-view+json": {
       "model_id": "2ad8c54d94e748b8b49c813e53c8fc8c",
       "version_major": 2,
       "version_minor": 0
      },
      "text/plain": [
       "  0%|          | 0/10000 [00:00<?, ?it/s]"
      ]
     },
     "metadata": {},
     "output_type": "display_data"
    },
    {
     "name": "stdout",
     "output_type": "stream",
     "text": [
      "gld_params: [0.04759427 0.0194546  0.32476986 0.10072297]\n",
      "wrapper([ 3.276e-17  6.723e-01 ...  2.566e-01  9.271e-01]) = -0.010934655864893617\n",
      "assembly_constraint_no_mean([ 3.276e-17  6.723e-01 ...  2.566e-01  9.271e-01]) = [ 1.287e+00  1.152e+00 ...  6.199e-01  2.328e+00]\n"
     ]
    },
    {
     "data": {
      "application/vnd.jupyter.widget-view+json": {
       "model_id": "aeb6523cabf84aa7bd4eec5ad058e9b4",
       "version_major": 2,
       "version_minor": 0
      },
      "text/plain": [
       "  0%|          | 0/10000 [00:00<?, ?it/s]"
      ]
     },
     "metadata": {},
     "output_type": "display_data"
    },
    {
     "name": "stdout",
     "output_type": "stream",
     "text": [
      "gld_params: [0.04875414 0.01899499 0.33032588 0.11000482]\n",
      "wrapper([ 0.000e+00  7.228e-01 ...  3.729e-01  8.542e-01]) = -0.006853326480574695\n",
      "assembly_constraint_no_mean([ 0.000e+00  7.228e-01 ...  3.729e-01  8.542e-01]) = [-4.640e-01  2.202e+00 ... -5.589e-01 -1.035e+00]\n"
     ]
    },
    {
     "data": {
      "application/vnd.jupyter.widget-view+json": {
       "model_id": "aabc92f4b10d4673ab2161ff11265788",
       "version_major": 2,
       "version_minor": 0
      },
      "text/plain": [
       "  0%|          | 0/10000 [00:00<?, ?it/s]"
      ]
     },
     "metadata": {},
     "output_type": "display_data"
    },
    {
     "name": "stdout",
     "output_type": "stream",
     "text": [
      "gld_params: [0.04690432 0.0198171  0.33110742 0.11215239]\n",
      "wrapper([ 5.007e-18  7.937e-01 ...  6.776e-01  7.835e-01]) = -0.010922369313324848\n",
      "assembly_constraint_no_mean([ 5.007e-18  7.937e-01 ...  6.776e-01  7.835e-01]) = [ 7.847e-01  8.144e-01 ...  2.873e-01  2.646e-01]\n"
     ]
    },
    {
     "data": {
      "application/vnd.jupyter.widget-view+json": {
       "model_id": "9cc1ba3b0f1b47a786ac8e4917138784",
       "version_major": 2,
       "version_minor": 0
      },
      "text/plain": [
       "  0%|          | 0/10000 [00:00<?, ?it/s]"
      ]
     },
     "metadata": {},
     "output_type": "display_data"
    },
    {
     "name": "stdout",
     "output_type": "stream",
     "text": [
      "gld_params: [0.049632   0.0187755  0.32310343 0.10876968]\n",
      "wrapper([ 0.000e+00  7.000e-01 ...  3.528e-01  5.473e-01]) = -0.006164413284013733\n",
      "assembly_constraint_no_mean([ 0.000e+00  7.000e-01 ...  3.528e-01  5.473e-01]) = [-7.708e-01  2.096e+00 ... -7.177e-02 -1.986e+00]\n"
     ]
    },
    {
     "data": {
      "application/vnd.jupyter.widget-view+json": {
       "model_id": "9dfd7092562648559dd7fff4ac1cab63",
       "version_major": 2,
       "version_minor": 0
      },
      "text/plain": [
       "  0%|          | 0/10000 [00:00<?, ?it/s]"
      ]
     },
     "metadata": {},
     "output_type": "display_data"
    },
    {
     "name": "stdout",
     "output_type": "stream",
     "text": [
      "gld_params: [0.04801954 0.01934931 0.33068515 0.10900359]\n",
      "wrapper([ 0.000e+00  7.709e-01 ...  5.344e-01  8.367e-01]) = -0.008588806342596267\n",
      "assembly_constraint_no_mean([ 0.000e+00  7.709e-01 ...  5.344e-01  8.367e-01]) = [ 2.591e-01  3.364e-01 ...  2.946e-02  2.348e-01]\n"
     ]
    },
    {
     "data": {
      "application/vnd.jupyter.widget-view+json": {
       "model_id": "47de30c893ad4f80b3790452188ce24a",
       "version_major": 2,
       "version_minor": 0
      },
      "text/plain": [
       "  0%|          | 0/10000 [00:00<?, ?it/s]"
      ]
     },
     "metadata": {},
     "output_type": "display_data"
    },
    {
     "name": "stdout",
     "output_type": "stream",
     "text": [
      "gld_params: [0.04671406 0.02045581 0.32489956 0.10964015]\n",
      "wrapper([ 5.701e-18  7.159e-01 ...  1.000e+00  7.065e-01]) = -0.01443694534928541\n",
      "assembly_constraint_no_mean([ 5.701e-18  7.159e-01 ...  1.000e+00  7.065e-01]) = [ 6.959e-01  8.893e-01 ...  1.687e-01  1.416e+00]\n"
     ]
    },
    {
     "data": {
      "application/vnd.jupyter.widget-view+json": {
       "model_id": "675a6818b11a41cfbf091bc3ce1834b4",
       "version_major": 2,
       "version_minor": 0
      },
      "text/plain": [
       "  0%|          | 0/10000 [00:00<?, ?it/s]"
      ]
     },
     "metadata": {},
     "output_type": "display_data"
    },
    {
     "name": "stdout",
     "output_type": "stream",
     "text": [
      "gld_params: [0.04851185 0.01889052 0.33280466 0.10726831]\n",
      "wrapper([ 0.000e+00  7.632e-01 ...  5.321e-01  8.603e-01]) = -0.006941674544803518\n",
      "assembly_constraint_no_mean([ 0.000e+00  7.632e-01 ...  5.321e-01  8.603e-01]) = [-3.044e-01  1.914e-01 ... -7.157e-02  1.733e-01]\n"
     ]
    },
    {
     "data": {
      "application/vnd.jupyter.widget-view+json": {
       "model_id": "d8fd383f204649629bd27763d9ced055",
       "version_major": 2,
       "version_minor": 0
      },
      "text/plain": [
       "  0%|          | 0/10000 [00:00<?, ?it/s]"
      ]
     },
     "metadata": {},
     "output_type": "display_data"
    },
    {
     "name": "stdout",
     "output_type": "stream",
     "text": [
      "gld_params: [0.04763364 0.02006911 0.32676825 0.11237122]\n",
      "wrapper([ 3.029e-18  7.149e-01 ...  8.148e-01  6.824e-01]) = -0.011130502541268732\n",
      "assembly_constraint_no_mean([ 3.029e-18  7.149e-01 ...  8.148e-01  6.824e-01]) = [ 3.401e-01  4.266e-01 ... -6.726e-03  2.326e-01]\n"
     ]
    },
    {
     "data": {
      "application/vnd.jupyter.widget-view+json": {
       "model_id": "17bd1fd3f54b4be196a7447766358f86",
       "version_major": 2,
       "version_minor": 0
      },
      "text/plain": [
       "  0%|          | 0/10000 [00:00<?, ?it/s]"
      ]
     },
     "metadata": {},
     "output_type": "display_data"
    },
    {
     "name": "stdout",
     "output_type": "stream",
     "text": [
      "gld_params: [0.04775007 0.0195142  0.3291739  0.10919309]\n",
      "wrapper([ 0.000e+00  9.013e-01 ...  4.991e-01  8.626e-01]) = -0.009466604810932144\n",
      "assembly_constraint_no_mean([ 0.000e+00  9.013e-01 ...  4.991e-01  8.626e-01]) = [ 8.513e-01  3.813e-01 ... -3.318e-01  3.786e-01]\n"
     ]
    },
    {
     "data": {
      "application/vnd.jupyter.widget-view+json": {
       "model_id": "6167cbfef37a478884afa248e6fc78ca",
       "version_major": 2,
       "version_minor": 0
      },
      "text/plain": [
       "  0%|          | 0/10000 [00:00<?, ?it/s]"
      ]
     },
     "metadata": {},
     "output_type": "display_data"
    },
    {
     "name": "stdout",
     "output_type": "stream",
     "text": [
      "gld_params: [0.04791284 0.01981887 0.32759219 0.10911788]\n",
      "wrapper([ 4.204e-18  7.035e-01 ...  8.422e-01  6.815e-01]) = -0.010325745807106912\n",
      "assembly_constraint_no_mean([ 4.204e-18  7.035e-01 ...  8.422e-01  6.815e-01]) = [-2.090e-02  2.823e-01 ...  4.525e-02  3.448e-01]\n"
     ]
    },
    {
     "data": {
      "application/vnd.jupyter.widget-view+json": {
       "model_id": "92a2ad92f25941208fcd65f2ab6480ad",
       "version_major": 2,
       "version_minor": 0
      },
      "text/plain": [
       "  0%|          | 0/10000 [00:00<?, ?it/s]"
      ]
     },
     "metadata": {},
     "output_type": "display_data"
    },
    {
     "name": "stdout",
     "output_type": "stream",
     "text": [
      "gld_params: [0.04810006 0.01963501 0.33097799 0.11713815]\n",
      "wrapper([ 0.000e+00  8.207e-01 ...  5.504e-01  8.324e-01]) = -0.008312906747452442\n",
      "assembly_constraint_no_mean([ 0.000e+00  8.207e-01 ...  5.504e-01  8.324e-01]) = [-1.601e-02  9.472e-02 ...  2.210e+00  6.805e-02]\n"
     ]
    },
    {
     "data": {
      "application/vnd.jupyter.widget-view+json": {
       "model_id": "94815aa8e6024cf382bd7bf9d742a733",
       "version_major": 2,
       "version_minor": 0
      },
      "text/plain": [
       "  0%|          | 0/10000 [00:00<?, ?it/s]"
      ]
     },
     "metadata": {},
     "output_type": "display_data"
    },
    {
     "name": "stdout",
     "output_type": "stream",
     "text": [
      "gld_params: [0.04744626 0.02001144 0.32759418 0.11137891]\n",
      "wrapper([ 0.000e+00  6.924e-01 ...  8.073e-01  7.340e-01]) = -0.011251819930389593\n",
      "assembly_constraint_no_mean([ 0.000e+00  6.924e-01 ...  8.073e-01  7.340e-01]) = [ 4.826e-02  2.318e-01 ...  4.909e-02  3.369e-01]\n"
     ]
    },
    {
     "data": {
      "application/vnd.jupyter.widget-view+json": {
       "model_id": "b8b0bbd9c1d44f7dba780ae0e19119e1",
       "version_major": 2,
       "version_minor": 0
      },
      "text/plain": [
       "  0%|          | 0/10000 [00:00<?, ?it/s]"
      ]
     },
     "metadata": {},
     "output_type": "display_data"
    },
    {
     "name": "stdout",
     "output_type": "stream",
     "text": [
      "gld_params: [0.04758055 0.02067936 0.32321236 0.12112584]\n",
      "wrapper([ 5.956e-18  6.112e-01 ...  1.000e+00  5.704e-01]) = -0.012385016024541982\n",
      "assembly_constraint_no_mean([ 5.956e-18  6.112e-01 ...  1.000e+00  5.704e-01]) = [ 1.617e-01 -2.764e-02 ...  7.951e-01  7.702e-01]\n"
     ]
    },
    {
     "data": {
      "application/vnd.jupyter.widget-view+json": {
       "model_id": "f6ac2089d2254d9ea1a6636b6f0a56ae",
       "version_major": 2,
       "version_minor": 0
      },
      "text/plain": [
       "  0%|          | 0/10000 [00:00<?, ?it/s]"
      ]
     },
     "metadata": {},
     "output_type": "display_data"
    },
    {
     "name": "stdout",
     "output_type": "stream",
     "text": [
      "gld_params: [0.04731419 0.01977434 0.33291129 0.11149434]\n",
      "wrapper([ 0.000e+00  7.174e-01 ...  8.771e-01  7.493e-01]) = -0.010164836701313724\n",
      "assembly_constraint_no_mean([ 0.000e+00  7.174e-01 ...  8.771e-01  7.493e-01]) = [ 6.741e-01 -1.434e+00 ... -5.996e-01  1.885e+00]\n"
     ]
    },
    {
     "data": {
      "application/vnd.jupyter.widget-view+json": {
       "model_id": "22a86a5d5ae04a428fd1c75a4afe10a9",
       "version_major": 2,
       "version_minor": 0
      },
      "text/plain": [
       "  0%|          | 0/10000 [00:00<?, ?it/s]"
      ]
     },
     "metadata": {},
     "output_type": "display_data"
    },
    {
     "name": "stdout",
     "output_type": "stream",
     "text": [
      "gld_params: [0.04683338 0.02088632 0.3264467  0.12200677]\n",
      "wrapper([ 4.097e-18  6.230e-01 ...  1.000e+00  5.940e-01]) = -0.013801173583838885\n",
      "assembly_constraint_no_mean([ 4.097e-18  6.230e-01 ...  1.000e+00  5.940e-01]) = [ 9.171e-02  2.338e-01 ...  1.300e+00  9.386e-01]\n"
     ]
    },
    {
     "data": {
      "application/vnd.jupyter.widget-view+json": {
       "model_id": "0c329eaf874f4c4a8298bd52d1c14349",
       "version_major": 2,
       "version_minor": 0
      },
      "text/plain": [
       "  0%|          | 0/10000 [00:00<?, ?it/s]"
      ]
     },
     "metadata": {},
     "output_type": "display_data"
    },
    {
     "name": "stdout",
     "output_type": "stream",
     "text": [
      "gld_params: [0.04772357 0.01945653 0.32731047 0.10187612]\n",
      "wrapper([ 0.000e+00  9.292e-01 ...  7.652e-01  7.811e-01]) = -0.010394676085902643\n",
      "assembly_constraint_no_mean([ 0.000e+00  9.292e-01 ...  7.652e-01  7.811e-01]) = [ 1.472e+00  4.232e-01 ...  9.678e-01 -1.873e-02]\n"
     ]
    },
    {
     "data": {
      "application/vnd.jupyter.widget-view+json": {
       "model_id": "782a561744ad4e3494b11a34cfec03f4",
       "version_major": 2,
       "version_minor": 0
      },
      "text/plain": [
       "  0%|          | 0/10000 [00:00<?, ?it/s]"
      ]
     },
     "metadata": {},
     "output_type": "display_data"
    },
    {
     "name": "stdout",
     "output_type": "stream",
     "text": [
      "gld_params: [0.04648895 0.0210946  0.32570781 0.12262646]\n",
      "wrapper([ 1.034e-17  5.106e-01 ...  1.000e+00  6.062e-01]) = -0.01516575038205821\n",
      "assembly_constraint_no_mean([ 1.034e-17  5.106e-01 ...  1.000e+00  6.062e-01]) = [ 2.378e-01  9.552e-02 ...  4.425e-01  9.251e-01]\n"
     ]
    },
    {
     "data": {
      "application/vnd.jupyter.widget-view+json": {
       "model_id": "b3b39cf02f0444c489a9a7cbf19d9f04",
       "version_major": 2,
       "version_minor": 0
      },
      "text/plain": [
       "  0%|          | 0/10000 [00:00<?, ?it/s]"
      ]
     },
     "metadata": {},
     "output_type": "display_data"
    },
    {
     "name": "stdout",
     "output_type": "stream",
     "text": [
      "gld_params: [0.04840797 0.01972493 0.32114415 0.10601829]\n",
      "wrapper([ 0.000e+00  7.937e-01 ...  8.260e-01  6.556e-01]) = -0.010388752775662874\n",
      "assembly_constraint_no_mean([ 0.000e+00  7.937e-01 ...  8.260e-01  6.556e-01]) = [ 6.997e-01  3.785e-01 ... -9.380e-01  2.854e-01]\n"
     ]
    },
    {
     "data": {
      "application/vnd.jupyter.widget-view+json": {
       "model_id": "d4f8f74ac9b8415cb42c7d5ea4d1043b",
       "version_major": 2,
       "version_minor": 0
      },
      "text/plain": [
       "  0%|          | 0/10000 [00:00<?, ?it/s]"
      ]
     },
     "metadata": {},
     "output_type": "display_data"
    },
    {
     "name": "stdout",
     "output_type": "stream",
     "text": [
      "gld_params: [0.04659305 0.02100044 0.32628025 0.12212778]\n",
      "wrapper([ 7.697e-18  5.154e-01 ...  1.000e+00  5.895e-01]) = -0.014632475718398928\n",
      "assembly_constraint_no_mean([ 7.697e-18  5.154e-01 ...  1.000e+00  5.895e-01]) = [ 1.092e-01  5.250e-02 ...  2.239e-01  6.625e-01]\n"
     ]
    },
    {
     "data": {
      "application/vnd.jupyter.widget-view+json": {
       "model_id": "f5de8d46e8744103aa389dddfed92b2a",
       "version_major": 2,
       "version_minor": 0
      },
      "text/plain": [
       "  0%|          | 0/10000 [00:00<?, ?it/s]"
      ]
     },
     "metadata": {},
     "output_type": "display_data"
    },
    {
     "name": "stdout",
     "output_type": "stream",
     "text": [
      "gld_params: [0.04688468 0.02031169 0.32983966 0.11517255]\n",
      "wrapper([ 0.000e+00  6.721e-01 ...  7.987e-01  6.907e-01]) = -0.012305973808641651\n",
      "assembly_constraint_no_mean([ 0.000e+00  6.721e-01 ...  7.987e-01  6.907e-01]) = [ 5.534e-01 -1.058e-01 ...  7.545e-01 -3.786e-03]\n"
     ]
    },
    {
     "data": {
      "application/vnd.jupyter.widget-view+json": {
       "model_id": "0cf4cf713ab24fefb7f5d9e75b4e7a85",
       "version_major": 2,
       "version_minor": 0
      },
      "text/plain": [
       "  0%|          | 0/10000 [00:00<?, ?it/s]"
      ]
     },
     "metadata": {},
     "output_type": "display_data"
    },
    {
     "name": "stdout",
     "output_type": "stream",
     "text": [
      "gld_params: [0.04662384 0.02094033 0.325667   0.11995078]\n",
      "wrapper([ 0.000e+00  4.899e-01 ...  9.587e-01  5.724e-01]) = -0.014760057060819502\n",
      "assembly_constraint_no_mean([ 0.000e+00  4.899e-01 ...  9.587e-01  5.724e-01]) = [ 4.248e-01 -3.374e-02 ...  2.119e-01  3.743e-01]\n"
     ]
    },
    {
     "data": {
      "application/vnd.jupyter.widget-view+json": {
       "model_id": "6f43d2ecd0d74ba08b6e8c88109f2484",
       "version_major": 2,
       "version_minor": 0
      },
      "text/plain": [
       "  0%|          | 0/10000 [00:00<?, ?it/s]"
      ]
     },
     "metadata": {},
     "output_type": "display_data"
    },
    {
     "name": "stdout",
     "output_type": "stream",
     "text": [
      "gld_params: [0.04779161 0.02012768 0.32332731 0.11359238]\n",
      "wrapper([ 0.000e+00  6.341e-01 ...  7.837e-01  6.000e-01]) = -0.0112738457272381\n",
      "assembly_constraint_no_mean([ 0.000e+00  6.341e-01 ...  7.837e-01  6.000e-01]) = [-4.632e-01  3.452e-01 ... -7.826e-02 -3.085e-01]\n"
     ]
    },
    {
     "data": {
      "application/vnd.jupyter.widget-view+json": {
       "model_id": "34dba8b13a8a476380defaffc443b058",
       "version_major": 2,
       "version_minor": 0
      },
      "text/plain": [
       "  0%|          | 0/10000 [00:00<?, ?it/s]"
      ]
     },
     "metadata": {},
     "output_type": "display_data"
    },
    {
     "name": "stdout",
     "output_type": "stream",
     "text": [
      "gld_params: [0.04671153 0.02095977 0.32487546 0.12037993]\n",
      "wrapper([ 2.005e-17  4.252e-01 ...  9.410e-01  5.804e-01]) = -0.014712123170986498\n",
      "assembly_constraint_no_mean([ 2.005e-17  4.252e-01 ...  9.410e-01  5.804e-01]) = [ 3.164e-01 -5.292e-03 ...  1.815e-01  3.414e-01]\n"
     ]
    },
    {
     "data": {
      "application/vnd.jupyter.widget-view+json": {
       "model_id": "c79561927b854c9090dc7e37ece93023",
       "version_major": 2,
       "version_minor": 0
      },
      "text/plain": [
       "  0%|          | 0/10000 [00:00<?, ?it/s]"
      ]
     },
     "metadata": {},
     "output_type": "display_data"
    },
    {
     "name": "stdout",
     "output_type": "stream",
     "text": [
      "gld_params: [0.04766021 0.01982745 0.32418099 0.10698197]\n",
      "wrapper([ 0.000e+00  5.316e-01 ...  7.730e-01  6.480e-01]) = -0.011279316609236905\n",
      "assembly_constraint_no_mean([ 0.000e+00  5.316e-01 ...  7.730e-01  6.480e-01]) = [-6.014e-01  8.832e-01 ...  6.175e-01  5.905e-02]\n"
     ]
    },
    {
     "data": {
      "application/vnd.jupyter.widget-view+json": {
       "model_id": "030431c982a3428ab430dbc59b1969f4",
       "version_major": 2,
       "version_minor": 0
      },
      "text/plain": [
       "  0%|          | 0/10000 [00:00<?, ?it/s]"
      ]
     },
     "metadata": {},
     "output_type": "display_data"
    },
    {
     "name": "stdout",
     "output_type": "stream",
     "text": [
      "gld_params: [0.04659976 0.02098459 0.32538087 0.12068316]\n",
      "wrapper([ 2.895e-18  4.924e-01 ...  9.332e-01  5.692e-01]) = -0.014891494288377589\n",
      "assembly_constraint_no_mean([ 2.895e-18  4.924e-01 ...  9.332e-01  5.692e-01]) = [ 4.421e-01  6.391e-02 ...  3.166e-01  2.402e-01]\n"
     ]
    },
    {
     "data": {
      "application/vnd.jupyter.widget-view+json": {
       "model_id": "40e04e6305a24bc49a2d5f03a6c77d5b",
       "version_major": 2,
       "version_minor": 0
      },
      "text/plain": [
       "  0%|          | 0/10000 [00:00<?, ?it/s]"
      ]
     },
     "metadata": {},
     "output_type": "display_data"
    },
    {
     "name": "stdout",
     "output_type": "stream",
     "text": [
      "gld_params: [0.04749313 0.02018273 0.32342124 0.10956122]\n",
      "wrapper([ 0.000e+00  6.491e-01 ...  6.987e-01  7.407e-01]) = -0.012420761474596751\n",
      "assembly_constraint_no_mean([ 0.000e+00  6.491e-01 ...  6.987e-01  7.407e-01]) = [-3.035e-02  7.249e-02 ... -8.405e-01 -5.253e-01]\n"
     ]
    },
    {
     "data": {
      "application/vnd.jupyter.widget-view+json": {
       "model_id": "4b8d7ec1d0214f93bfd4a1b214c0e44e",
       "version_major": 2,
       "version_minor": 0
      },
      "text/plain": [
       "  0%|          | 0/10000 [00:00<?, ?it/s]"
      ]
     },
     "metadata": {},
     "output_type": "display_data"
    },
    {
     "name": "stdout",
     "output_type": "stream",
     "text": [
      "gld_params: [0.04626788 0.0211264  0.32826993 0.12248324]\n",
      "wrapper([ 3.666e-19  5.054e-01 ...  8.611e-01  6.332e-01]) = -0.01538728026418393\n",
      "assembly_constraint_no_mean([ 3.666e-19  5.054e-01 ...  8.611e-01  6.332e-01]) = [ 2.890e-01  1.243e-01 ...  1.834e-01 -6.152e-02]\n"
     ]
    },
    {
     "data": {
      "application/vnd.jupyter.widget-view+json": {
       "model_id": "47405a80e84e46d4990eb66f29a0ef46",
       "version_major": 2,
       "version_minor": 0
      },
      "text/plain": [
       "  0%|          | 0/10000 [00:00<?, ?it/s]"
      ]
     },
     "metadata": {},
     "output_type": "display_data"
    },
    {
     "name": "stdout",
     "output_type": "stream",
     "text": [
      "gld_params: [0.0484479  0.01979237 0.32330711 0.11043055]\n",
      "wrapper([ 0.000e+00  6.601e-01 ...  8.665e-01  6.658e-01]) = -0.009797770863750657\n",
      "assembly_constraint_no_mean([ 0.000e+00  6.601e-01 ...  8.665e-01  6.658e-01]) = [ 4.327e-02 -5.854e-01 ...  1.406e+00  4.328e-01]\n"
     ]
    },
    {
     "data": {
      "application/vnd.jupyter.widget-view+json": {
       "model_id": "afcc376c3dc9495294453988a620003e",
       "version_major": 2,
       "version_minor": 0
      },
      "text/plain": [
       "  0%|          | 0/10000 [00:00<?, ?it/s]"
      ]
     },
     "metadata": {},
     "output_type": "display_data"
    },
    {
     "name": "stdout",
     "output_type": "stream",
     "text": [
      "gld_params: [0.04621145 0.02114318 0.32852799 0.12267469]\n",
      "wrapper([ 3.031e-18  4.996e-01 ...  8.790e-01  6.380e-01]) = -0.015493249593805688\n",
      "assembly_constraint_no_mean([ 3.031e-18  4.996e-01 ...  8.790e-01  6.380e-01]) = [ 2.914e-01  9.005e-02 ...  2.446e-01  1.064e-01]\n"
     ]
    },
    {
     "data": {
      "application/vnd.jupyter.widget-view+json": {
       "model_id": "5e3522b7cdfa415693e8c0dee0934b6e",
       "version_major": 2,
       "version_minor": 0
      },
      "text/plain": [
       "  0%|          | 0/10000 [00:00<?, ?it/s]"
      ]
     },
     "metadata": {},
     "output_type": "display_data"
    },
    {
     "name": "stdout",
     "output_type": "stream",
     "text": [
      "gld_params: [0.04534826 0.02236211 0.32818242 0.13044049]\n",
      "wrapper([ 0.000e+00  2.139e-01 ...  1.000e+00  5.342e-01]) = -0.021196764526710776\n",
      "assembly_constraint_no_mean([ 0.000e+00  2.139e-01 ...  1.000e+00  5.342e-01]) = [ 5.119e-01 -1.322e-01 ...  3.493e-01  5.010e-01]\n"
     ]
    },
    {
     "data": {
      "application/vnd.jupyter.widget-view+json": {
       "model_id": "183e532075f44e5eb187d6d25bce398a",
       "version_major": 2,
       "version_minor": 0
      },
      "text/plain": [
       "  0%|          | 0/10000 [00:00<?, ?it/s]"
      ]
     },
     "metadata": {},
     "output_type": "display_data"
    },
    {
     "name": "stdout",
     "output_type": "stream",
     "text": [
      "gld_params: [0.04813873 0.02029581 0.32678723 0.11923425]\n",
      "wrapper([ 4.362e-02  3.169e-01 ...  6.200e-01  6.206e-01]) = -0.010272106457066214\n",
      "assembly_constraint_no_mean([ 4.362e-02  3.169e-01 ...  6.200e-01  6.206e-01]) = [-5.625e-01 -1.376e+00 ...  1.997e-01 -1.733e+00]\n"
     ]
    },
    {
     "data": {
      "application/vnd.jupyter.widget-view+json": {
       "model_id": "ddd93b075ae0422892bb5a2d8f3e5231",
       "version_major": 2,
       "version_minor": 0
      },
      "text/plain": [
       "  0%|          | 0/10000 [00:00<?, ?it/s]"
      ]
     },
     "metadata": {},
     "output_type": "display_data"
    },
    {
     "name": "stdout",
     "output_type": "stream",
     "text": [
      "gld_params: [0.04568817 0.02199798 0.32836271 0.12905631]\n",
      "wrapper([ 1.658e-17  2.921e-01 ...  9.669e-01  5.561e-01]) = -0.019024892302657772\n",
      "assembly_constraint_no_mean([ 1.658e-17  2.921e-01 ...  9.669e-01  5.561e-01]) = [ 3.889e-01 -3.335e-02 ...  1.749e-01  2.548e-01]\n"
     ]
    },
    {
     "data": {
      "application/vnd.jupyter.widget-view+json": {
       "model_id": "eb32231ab9464b0d95d38be624a3ac1e",
       "version_major": 2,
       "version_minor": 0
      },
      "text/plain": [
       "  0%|          | 0/10000 [00:00<?, ?it/s]"
      ]
     },
     "metadata": {},
     "output_type": "display_data"
    },
    {
     "name": "stdout",
     "output_type": "stream",
     "text": [
      "gld_params: [0.04757365 0.02080114 0.32481968 0.1193405 ]\n",
      "wrapper([ 0.000e+00  6.044e-01 ...  9.436e-01  7.729e-01]) = -0.012901015266342412\n",
      "assembly_constraint_no_mean([ 0.000e+00  6.044e-01 ...  9.436e-01  7.729e-01]) = [ 3.827e-01 -1.902e-01 ... -1.350e+00  1.052e+00]\n"
     ]
    },
    {
     "data": {
      "application/vnd.jupyter.widget-view+json": {
       "model_id": "b2669f01442f4cc2873bdf9d8047260c",
       "version_major": 2,
       "version_minor": 0
      },
      "text/plain": [
       "  0%|          | 0/10000 [00:00<?, ?it/s]"
      ]
     },
     "metadata": {},
     "output_type": "display_data"
    },
    {
     "name": "stdout",
     "output_type": "stream",
     "text": [
      "gld_params: [0.04571517 0.0219225  0.32828118 0.12768276]\n",
      "wrapper([ 2.000e-17  2.834e-01 ...  9.002e-01  5.845e-01]) = -0.0188897331245607\n",
      "assembly_constraint_no_mean([ 2.000e-17  2.834e-01 ...  9.002e-01  5.845e-01]) = [ 3.563e-01  3.383e-02 ...  2.049e-01  3.986e-02]\n"
     ]
    },
    {
     "data": {
      "application/vnd.jupyter.widget-view+json": {
       "model_id": "5ccb9ed3212947888c8aa7733683f19c",
       "version_major": 2,
       "version_minor": 0
      },
      "text/plain": [
       "  0%|          | 0/10000 [00:00<?, ?it/s]"
      ]
     },
     "metadata": {},
     "output_type": "display_data"
    },
    {
     "name": "stdout",
     "output_type": "stream",
     "text": [
      "gld_params: [0.04737756 0.02076681 0.3234888  0.11737558]\n",
      "wrapper([ 0.000e+00  5.134e-01 ...  6.828e-01  4.746e-01]) = -0.013518439743757445\n",
      "assembly_constraint_no_mean([ 0.000e+00  5.134e-01 ...  6.828e-01  4.746e-01]) = [ 1.123e+00 -3.800e-01 ...  6.357e-01 -1.946e+00]\n"
     ]
    },
    {
     "data": {
      "application/vnd.jupyter.widget-view+json": {
       "model_id": "538acf587a45449eb3e662a000c7461e",
       "version_major": 2,
       "version_minor": 0
      },
      "text/plain": [
       "  0%|          | 0/10000 [00:00<?, ?it/s]"
      ]
     },
     "metadata": {},
     "output_type": "display_data"
    },
    {
     "name": "stdout",
     "output_type": "stream",
     "text": [
      "gld_params: [0.04574937 0.02190514 0.3283129  0.12860084]\n",
      "wrapper([ 0.000e+00  3.054e-01 ...  9.364e-01  5.524e-01]) = -0.018578380634717093\n",
      "assembly_constraint_no_mean([ 0.000e+00  3.054e-01 ...  9.364e-01  5.524e-01]) = [ 1.873e-01  1.003e-01 ...  2.622e-01  7.708e-02]\n"
     ]
    },
    {
     "data": {
      "application/vnd.jupyter.widget-view+json": {
       "model_id": "8231ac913305476e9d1c0690f1d8f498",
       "version_major": 2,
       "version_minor": 0
      },
      "text/plain": [
       "  0%|          | 0/10000 [00:00<?, ?it/s]"
      ]
     },
     "metadata": {},
     "output_type": "display_data"
    },
    {
     "name": "stdout",
     "output_type": "stream",
     "text": [
      "gld_params: [0.04444624 0.02176263 0.33336809 0.12584459]\n",
      "wrapper([ 7.327e-02  3.852e-01 ...  8.056e-01  7.182e-01]) = -0.020511718768685953\n",
      "assembly_constraint_no_mean([ 7.327e-02  3.852e-01 ...  8.056e-01  7.182e-01]) = [ 4.461e-01  7.119e-01 ...  1.215e+00 -4.761e-01]\n"
     ]
    },
    {
     "data": {
      "application/vnd.jupyter.widget-view+json": {
       "model_id": "a06c3d9109334ceca90cd1217f010448",
       "version_major": 2,
       "version_minor": 0
      },
      "text/plain": [
       "  0%|          | 0/10000 [00:00<?, ?it/s]"
      ]
     },
     "metadata": {},
     "output_type": "display_data"
    },
    {
     "name": "stdout",
     "output_type": "stream",
     "text": [
      "gld_params: [0.04540012 0.02194204 0.33134282 0.12733718]\n",
      "wrapper([ 8.389e-18  2.985e-01 ...  9.272e-01  6.958e-01]) = -0.0192604885637929\n",
      "assembly_constraint_no_mean([ 8.389e-18  2.985e-01 ...  9.272e-01  6.958e-01]) = [ 3.307e-01 -4.581e-03 ...  3.313e-01  1.922e-01]\n"
     ]
    },
    {
     "data": {
      "application/vnd.jupyter.widget-view+json": {
       "model_id": "72a8c1bd34dd44258604f906bd8d20f1",
       "version_major": 2,
       "version_minor": 0
      },
      "text/plain": [
       "  0%|          | 0/10000 [00:00<?, ?it/s]"
      ]
     },
     "metadata": {},
     "output_type": "display_data"
    },
    {
     "name": "stdout",
     "output_type": "stream",
     "text": [
      "gld_params: [0.04693795 0.02106068 0.32312123 0.11811105]\n",
      "wrapper([ 0.000e+00  4.826e-01 ...  9.221e-01  6.708e-01]) = -0.015272869225837437\n",
      "assembly_constraint_no_mean([ 0.000e+00  4.826e-01 ...  9.221e-01  6.708e-01]) = [ 1.166e+00 -1.981e-01 ...  4.320e-01 -6.455e-02]\n"
     ]
    },
    {
     "data": {
      "application/vnd.jupyter.widget-view+json": {
       "model_id": "2260199b0571423e9ad6fe6033980335",
       "version_major": 2,
       "version_minor": 0
      },
      "text/plain": [
       "  0%|          | 0/10000 [00:00<?, ?it/s]"
      ]
     },
     "metadata": {},
     "output_type": "display_data"
    },
    {
     "name": "stdout",
     "output_type": "stream",
     "text": [
      "gld_params: [0.04533528 0.02199337 0.3314996  0.12778506]\n",
      "wrapper([ 1.880e-18  2.923e-01 ...  9.241e-01  6.535e-01]) = -0.019525176582889395\n",
      "assembly_constraint_no_mean([ 1.880e-18  2.923e-01 ...  9.241e-01  6.535e-01]) = [ 2.465e-01  3.245e-03 ...  1.117e-01  7.876e-02]\n"
     ]
    },
    {
     "data": {
      "application/vnd.jupyter.widget-view+json": {
       "model_id": "57782d2e9097456b82407e40f25fa7bf",
       "version_major": 2,
       "version_minor": 0
      },
      "text/plain": [
       "  0%|          | 0/10000 [00:00<?, ?it/s]"
      ]
     },
     "metadata": {},
     "output_type": "display_data"
    },
    {
     "name": "stdout",
     "output_type": "stream",
     "text": [
      "gld_params: [0.04418754 0.02297154 0.3371833  0.13097797]\n",
      "wrapper([ 3.805e-18  1.070e-01 ...  9.775e-01  6.631e-01]) = -0.02541867721884985\n",
      "assembly_constraint_no_mean([ 3.805e-18  1.070e-01 ...  9.775e-01  6.631e-01]) = [ 2.642e-01  1.771e-01 ...  2.947e-01  1.660e-01]\n"
     ]
    },
    {
     "data": {
      "application/vnd.jupyter.widget-view+json": {
       "model_id": "2aae0537446a4904a28a76e9c1023d00",
       "version_major": 2,
       "version_minor": 0
      },
      "text/plain": [
       "  0%|          | 0/10000 [00:00<?, ?it/s]"
      ]
     },
     "metadata": {},
     "output_type": "display_data"
    },
    {
     "name": "stdout",
     "output_type": "stream",
     "text": [
      "gld_params: [0.04557136 0.02178802 0.33268731 0.12832675]\n",
      "wrapper([ 0.000e+00  4.397e-01 ...  8.895e-01  5.399e-01]) = -0.017869535338176958\n",
      "assembly_constraint_no_mean([ 0.000e+00  4.397e-01 ...  8.895e-01  5.399e-01]) = [ 2.392e-01 -6.545e-01 ...  4.018e-01 -3.802e-01]\n"
     ]
    },
    {
     "data": {
      "application/vnd.jupyter.widget-view+json": {
       "model_id": "76bce45b7b84429a9ebb21a53756e82d",
       "version_major": 2,
       "version_minor": 0
      },
      "text/plain": [
       "  0%|          | 0/10000 [00:00<?, ?it/s]"
      ]
     },
     "metadata": {},
     "output_type": "display_data"
    },
    {
     "name": "stdout",
     "output_type": "stream",
     "text": [
      "gld_params: [0.04466031 0.0227159  0.33583746 0.13141985]\n",
      "wrapper([ 0.000e+00  1.804e-01 ...  9.624e-01  6.343e-01]) = -0.023088921273095097\n",
      "assembly_constraint_no_mean([ 0.000e+00  1.804e-01 ...  9.624e-01  6.343e-01]) = [ 5.243e-02 -4.426e-02 ...  2.737e-01  9.338e-02]\n"
     ]
    },
    {
     "data": {
      "application/vnd.jupyter.widget-view+json": {
       "model_id": "0857467419a744559c1c663b23faa9d2",
       "version_major": 2,
       "version_minor": 0
      },
      "text/plain": [
       "  0%|          | 0/10000 [00:00<?, ?it/s]"
      ]
     },
     "metadata": {},
     "output_type": "display_data"
    },
    {
     "name": "stdout",
     "output_type": "stream",
     "text": [
      "gld_params: [0.04567521 0.02200127 0.32850711 0.13159222]\n",
      "wrapper([ 1.367e-01  2.509e-01 ...  8.565e-01  8.286e-01]) = -0.01860179490837263\n",
      "assembly_constraint_no_mean([ 1.367e-01  2.509e-01 ...  8.565e-01  8.286e-01]) = [-3.474e-01 -4.780e-01 ...  7.559e-01  1.960e-01]\n"
     ]
    },
    {
     "data": {
      "application/vnd.jupyter.widget-view+json": {
       "model_id": "55d0bdfa64114612b3ad585adbcf92d3",
       "version_major": 2,
       "version_minor": 0
      },
      "text/plain": [
       "  0%|          | 0/10000 [00:00<?, ?it/s]"
      ]
     },
     "metadata": {},
     "output_type": "display_data"
    },
    {
     "name": "stdout",
     "output_type": "stream",
     "text": [
      "gld_params: [0.0446338  0.02270902 0.33584932 0.13241778]\n",
      "wrapper([ 3.261e-17  1.709e-01 ...  9.431e-01  6.858e-01]) = -0.02292820339067642\n",
      "assembly_constraint_no_mean([ 3.261e-17  1.709e-01 ...  9.431e-01  6.858e-01]) = [-1.481e-02  9.072e-02 ...  2.598e-01  3.147e-02]\n"
     ]
    },
    {
     "data": {
      "application/vnd.jupyter.widget-view+json": {
       "model_id": "aafbd85b1b174f2bac389188a6fbd023",
       "version_major": 2,
       "version_minor": 0
      },
      "text/plain": [
       "  0%|          | 0/10000 [00:00<?, ?it/s]"
      ]
     },
     "metadata": {},
     "output_type": "display_data"
    },
    {
     "name": "stdout",
     "output_type": "stream",
     "text": [
      "gld_params: [0.04395751 0.0235955  0.34372528 0.13788793]\n",
      "wrapper([ 0.000e+00  0.000e+00 ...  1.000e+00  6.678e-01]) = -0.026652058886222692\n",
      "assembly_constraint_no_mean([ 0.000e+00  0.000e+00 ...  1.000e+00  6.678e-01]) = [ 1.839e-01 -1.002e-03 ...  1.255e-01  1.893e-01]\n"
     ]
    },
    {
     "data": {
      "application/vnd.jupyter.widget-view+json": {
       "model_id": "4a6a9a20193f4d82ad4f55ed0f3d4973",
       "version_major": 2,
       "version_minor": 0
      },
      "text/plain": [
       "  0%|          | 0/10000 [00:00<?, ?it/s]"
      ]
     },
     "metadata": {},
     "output_type": "display_data"
    },
    {
     "name": "stdout",
     "output_type": "stream",
     "text": [
      "gld_params: [0.04514908 0.02262312 0.33277466 0.13256851]\n",
      "wrapper([ 6.209e-03  1.583e-01 ...  9.982e-01  7.227e-01]) = -0.021755914857909137\n",
      "assembly_constraint_no_mean([ 6.209e-03  1.583e-01 ...  9.982e-01  7.227e-01]) = [-1.521e+00  8.715e-01 ...  8.451e-01  2.578e-01]\n"
     ]
    },
    {
     "data": {
      "application/vnd.jupyter.widget-view+json": {
       "model_id": "b175f1062350455aa9f65df5f2a45b9d",
       "version_major": 2,
       "version_minor": 0
      },
      "text/plain": [
       "  0%|          | 0/10000 [00:00<?, ?it/s]"
      ]
     },
     "metadata": {},
     "output_type": "display_data"
    },
    {
     "name": "stdout",
     "output_type": "stream",
     "text": [
      "gld_params: [0.04428526 0.02324334 0.33942819 0.13409296]\n",
      "wrapper([ 2.741e-18  5.107e-02 ...  1.000e+00  7.372e-01]) = -0.02551676892875734\n",
      "assembly_constraint_no_mean([ 2.741e-18  5.107e-02 ...  1.000e+00  7.372e-01]) = [-3.276e-02  4.142e-01 ...  2.099e-01  1.165e-01]\n"
     ]
    },
    {
     "data": {
      "application/vnd.jupyter.widget-view+json": {
       "model_id": "f6fc9eab6e0a4b9d8a6ea215b4f44c98",
       "version_major": 2,
       "version_minor": 0
      },
      "text/plain": [
       "  0%|          | 0/10000 [00:00<?, ?it/s]"
      ]
     },
     "metadata": {},
     "output_type": "display_data"
    },
    {
     "name": "stdout",
     "output_type": "stream",
     "text": [
      "gld_params: [0.04453555 0.02285735 0.33697408 0.13544503]\n",
      "wrapper([ 0.000e+00  1.235e-01 ...  9.218e-01  7.860e-01]) = -0.02312151773732317\n",
      "assembly_constraint_no_mean([ 0.000e+00  1.235e-01 ...  9.218e-01  7.860e-01]) = [-3.772e-01 -5.942e-01 ...  8.228e-01 -4.160e-01]\n"
     ]
    },
    {
     "data": {
      "application/vnd.jupyter.widget-view+json": {
       "model_id": "09a417e9356549458daff00329707814",
       "version_major": 2,
       "version_minor": 0
      },
      "text/plain": [
       "  0%|          | 0/10000 [00:00<?, ?it/s]"
      ]
     },
     "metadata": {},
     "output_type": "display_data"
    },
    {
     "name": "stdout",
     "output_type": "stream",
     "text": [
      "gld_params: [0.04430625 0.02334551 0.34060221 0.13580413]\n",
      "wrapper([ 2.239e-18  4.987e-02 ...  1.000e+00  7.107e-01]) = -0.025424220825181417\n",
      "assembly_constraint_no_mean([ 2.239e-18  4.987e-02 ...  1.000e+00  7.107e-01]) = [-2.942e-02  2.316e-01 ...  2.680e-01  2.199e-01]\n"
     ]
    },
    {
     "data": {
      "application/vnd.jupyter.widget-view+json": {
       "model_id": "4a0da0a1fcab468f922314562c858ea4",
       "version_major": 2,
       "version_minor": 0
      },
      "text/plain": [
       "  0%|          | 0/10000 [00:00<?, ?it/s]"
      ]
     },
     "metadata": {},
     "output_type": "display_data"
    },
    {
     "name": "stdout",
     "output_type": "stream",
     "text": [
      "gld_params: [0.04548933 0.02235296 0.33564233 0.12822115]\n",
      "wrapper([ 0.000e+00  1.253e-01 ...  8.984e-01  8.767e-01]) = -0.02009411733044415\n",
      "assembly_constraint_no_mean([ 0.000e+00  1.253e-01 ...  8.984e-01  8.767e-01]) = [ 3.276e-01 -1.064e+00 ...  2.958e-01  4.618e-01]\n"
     ]
    },
    {
     "data": {
      "application/vnd.jupyter.widget-view+json": {
       "model_id": "1d4142cdae6143368a4f8ffafdd56de4",
       "version_major": 2,
       "version_minor": 0
      },
      "text/plain": [
       "  0%|          | 0/10000 [00:00<?, ?it/s]"
      ]
     },
     "metadata": {},
     "output_type": "display_data"
    },
    {
     "name": "stdout",
     "output_type": "stream",
     "text": [
      "gld_params: [0.04433853 0.02321625 0.34032256 0.13520907]\n",
      "wrapper([ 0.000e+00  2.278e-02 ...  1.000e+00  6.587e-01]) = -0.024858171336538264\n",
      "assembly_constraint_no_mean([ 0.000e+00  2.278e-02 ...  1.000e+00  6.587e-01]) = [ 8.597e-02  6.008e-02 ...  2.414e-01  1.540e-01]\n"
     ]
    },
    {
     "data": {
      "application/vnd.jupyter.widget-view+json": {
       "model_id": "200cb3ccf550421f8be7bd1ac3f66598",
       "version_major": 2,
       "version_minor": 0
      },
      "text/plain": [
       "  0%|          | 0/10000 [00:00<?, ?it/s]"
      ]
     },
     "metadata": {},
     "output_type": "display_data"
    },
    {
     "name": "stdout",
     "output_type": "stream",
     "text": [
      "gld_params: [0.0476872  0.02178927 0.32655197 0.12762356]\n",
      "wrapper([ 0.000e+00  1.193e-01 ...  8.593e-01  5.953e-01]) = -0.014846536035114008\n",
      "assembly_constraint_no_mean([ 0.000e+00  1.193e-01 ...  8.593e-01  5.953e-01]) = [-1.497e+00 -1.643e+00 ... -2.407e-01 -1.192e+00]\n"
     ]
    },
    {
     "data": {
      "application/vnd.jupyter.widget-view+json": {
       "model_id": "936d58719e8e4ffca64a52e71051ed58",
       "version_major": 2,
       "version_minor": 0
      },
      "text/plain": [
       "  0%|          | 0/10000 [00:00<?, ?it/s]"
      ]
     },
     "metadata": {},
     "output_type": "display_data"
    },
    {
     "name": "stdout",
     "output_type": "stream",
     "text": [
      "gld_params: [0.04411875 0.02327453 0.34143688 0.13350137]\n",
      "wrapper([ 3.045e-18  1.138e-01 ...  1.000e+00  7.729e-01]) = -0.0258736152256894\n",
      "assembly_constraint_no_mean([ 3.045e-18  1.138e-01 ...  1.000e+00  7.729e-01]) = [ 5.088e-02  1.351e-01 ...  1.104e-01  1.646e-01]\n"
     ]
    },
    {
     "data": {
      "application/vnd.jupyter.widget-view+json": {
       "model_id": "e515457a944749f2a046b3634367f393",
       "version_major": 2,
       "version_minor": 0
      },
      "text/plain": [
       "  0%|          | 0/10000 [00:00<?, ?it/s]"
      ]
     },
     "metadata": {},
     "output_type": "display_data"
    },
    {
     "name": "stdout",
     "output_type": "stream",
     "text": [
      "gld_params: [0.04427595 0.02285304 0.33663475 0.13436922]\n",
      "wrapper([ 2.911e-01  1.415e-01 ...  1.000e+00  7.108e-01]) = -0.024023360237973232\n",
      "assembly_constraint_no_mean([ 2.911e-01  1.415e-01 ...  1.000e+00  7.108e-01]) = [-1.677e-01  7.311e-01 ...  1.082e-01  6.959e-01]\n"
     ]
    },
    {
     "data": {
      "application/vnd.jupyter.widget-view+json": {
       "model_id": "7dc4820b3e474b6185131502c17eba80",
       "version_major": 2,
       "version_minor": 0
      },
      "text/plain": [
       "  0%|          | 0/10000 [00:00<?, ?it/s]"
      ]
     },
     "metadata": {},
     "output_type": "display_data"
    },
    {
     "name": "stdout",
     "output_type": "stream",
     "text": [
      "gld_params: [0.04416282 0.02331827 0.3401169  0.13556772]\n",
      "wrapper([ 2.067e-01  9.159e-02 ...  1.000e+00  7.784e-01]) = -0.025804582964522028\n",
      "assembly_constraint_no_mean([ 2.067e-01  9.159e-02 ...  1.000e+00  7.784e-01]) = [ 7.062e-02  2.331e-01 ...  2.131e-01  2.108e-01]\n"
     ]
    },
    {
     "data": {
      "application/vnd.jupyter.widget-view+json": {
       "model_id": "a6a981db4c124e9f9e97f22688c39a1c",
       "version_major": 2,
       "version_minor": 0
      },
      "text/plain": [
       "  0%|          | 0/10000 [00:00<?, ?it/s]"
      ]
     },
     "metadata": {},
     "output_type": "display_data"
    },
    {
     "name": "stdout",
     "output_type": "stream",
     "text": [
      "gld_params: [0.04358444 0.0236983  0.34592693 0.13744879]\n",
      "wrapper([ 6.548e-01  0.000e+00 ...  1.000e+00  1.000e+00]) = -0.027908717909569194\n",
      "assembly_constraint_no_mean([ 6.548e-01  0.000e+00 ...  1.000e+00  1.000e+00]) = [ 7.711e-01  1.423e-01 ...  7.666e-02  8.566e-01]\n"
     ]
    },
    {
     "data": {
      "application/vnd.jupyter.widget-view+json": {
       "model_id": "6056b38457224bcc965d27df85985f9e",
       "version_major": 2,
       "version_minor": 0
      },
      "text/plain": [
       "  0%|          | 0/10000 [00:00<?, ?it/s]"
      ]
     },
     "metadata": {},
     "output_type": "display_data"
    },
    {
     "name": "stdout",
     "output_type": "stream",
     "text": [
      "gld_params: [0.04504902 0.02290728 0.34130513 0.13885113]\n",
      "wrapper([ 2.279e-01  9.683e-02 ...  1.000e+00  7.939e-01]) = -0.0207678503869261\n",
      "assembly_constraint_no_mean([ 2.279e-01  9.683e-02 ...  1.000e+00  7.939e-01]) = [-2.757e-01 -2.342e-02 ... -8.018e-02  4.432e-01]\n"
     ]
    },
    {
     "data": {
      "application/vnd.jupyter.widget-view+json": {
       "model_id": "c4d7b29701b94dacbd5426e0b61d41a4",
       "version_major": 2,
       "version_minor": 0
      },
      "text/plain": [
       "  0%|          | 0/10000 [00:00<?, ?it/s]"
      ]
     },
     "metadata": {},
     "output_type": "display_data"
    },
    {
     "name": "stdout",
     "output_type": "stream",
     "text": [
      "gld_params: [0.04398678 0.0235291  0.34498172 0.13283503]\n",
      "wrapper([ 3.581e-01  0.000e+00 ...  1.000e+00  8.869e-01]) = -0.027017029987392457\n",
      "assembly_constraint_no_mean([ 3.581e-01  0.000e+00 ...  1.000e+00  8.869e-01]) = [ 1.579e-01  9.429e-02 ...  2.266e-01  3.188e-01]\n"
     ]
    },
    {
     "data": {
      "application/vnd.jupyter.widget-view+json": {
       "model_id": "45955f4ee6314e0bb11bb0ea2be63b19",
       "version_major": 2,
       "version_minor": 0
      },
      "text/plain": [
       "  0%|          | 0/10000 [00:00<?, ?it/s]"
      ]
     },
     "metadata": {},
     "output_type": "display_data"
    },
    {
     "name": "stdout",
     "output_type": "stream",
     "text": [
      "gld_params: [0.04462313 0.02332827 0.33892642 0.13690906]\n",
      "wrapper([ 7.837e-02  2.366e-01 ...  1.000e+00  7.743e-01]) = -0.024587317452646654\n",
      "assembly_constraint_no_mean([ 7.837e-02  2.366e-01 ...  1.000e+00  7.743e-01]) = [-1.100e-01  4.276e-02 ...  5.220e-01  3.889e-01]\n"
     ]
    },
    {
     "data": {
      "application/vnd.jupyter.widget-view+json": {
       "model_id": "f8a6dedd9b6a44eead489b9621d1c730",
       "version_major": 2,
       "version_minor": 0
      },
      "text/plain": [
       "  0%|          | 0/10000 [00:00<?, ?it/s]"
      ]
     },
     "metadata": {},
     "output_type": "display_data"
    },
    {
     "name": "stdout",
     "output_type": "stream",
     "text": [
      "gld_params: [0.04387806 0.02360779 0.3462573  0.13432898]\n",
      "wrapper([ 1.362e-01  0.000e+00 ...  1.000e+00  8.779e-01]) = -0.027180772143070017\n",
      "assembly_constraint_no_mean([ 1.362e-01  0.000e+00 ...  1.000e+00  8.779e-01]) = [ 1.224e-01  1.260e-01 ...  2.199e-01  3.110e-01]\n"
     ]
    },
    {
     "data": {
      "application/vnd.jupyter.widget-view+json": {
       "model_id": "1ea3806733884d4d84f820712c513742",
       "version_major": 2,
       "version_minor": 0
      },
      "text/plain": [
       "  0%|          | 0/10000 [00:00<?, ?it/s]"
      ]
     },
     "metadata": {},
     "output_type": "display_data"
    },
    {
     "name": "stdout",
     "output_type": "stream",
     "text": [
      "gld_params: [0.04461354 0.02327493 0.33682334 0.13451031]\n",
      "wrapper([ 1.045e-01  0.000e+00 ...  1.000e+00  6.412e-01]) = -0.025194649809719097\n",
      "assembly_constraint_no_mean([ 1.045e-01  0.000e+00 ...  1.000e+00  6.412e-01]) = [ 9.765e-02  9.467e-01 ... -1.859e-01 -8.598e-02]\n"
     ]
    },
    {
     "data": {
      "application/vnd.jupyter.widget-view+json": {
       "model_id": "8f28f093a1eb4946b4aa6847f43712fc",
       "version_major": 2,
       "version_minor": 0
      },
      "text/plain": [
       "  0%|          | 0/10000 [00:00<?, ?it/s]"
      ]
     },
     "metadata": {},
     "output_type": "display_data"
    },
    {
     "name": "stdout",
     "output_type": "stream",
     "text": [
      "gld_params: [0.04416012 0.02352153 0.34312323 0.13639649]\n",
      "wrapper([ 5.023e-01  0.000e+00 ...  1.000e+00  7.320e-01]) = -0.026129977328005486\n",
      "assembly_constraint_no_mean([ 5.023e-01  0.000e+00 ...  1.000e+00  7.320e-01]) = [ 3.864e-01  2.178e-01 ...  6.132e-02  1.182e-02]\n"
     ]
    },
    {
     "data": {
      "application/vnd.jupyter.widget-view+json": {
       "model_id": "0e5d19e4f7814a2399978d9c2c6e98f0",
       "version_major": 2,
       "version_minor": 0
      },
      "text/plain": [
       "  0%|          | 0/10000 [00:00<?, ?it/s]"
      ]
     },
     "metadata": {},
     "output_type": "display_data"
    },
    {
     "name": "stdout",
     "output_type": "stream",
     "text": [
      "gld_params: [0.04471021 0.02310846 0.339553   0.13767939]\n",
      "wrapper([ 1.990e-01  0.000e+00 ...  1.000e+00  9.123e-01]) = -0.023032645258735888\n",
      "assembly_constraint_no_mean([ 1.990e-01  0.000e+00 ...  1.000e+00  9.123e-01]) = [-1.275e+00 -7.427e-02 ...  6.929e-01  8.989e-01]\n"
     ]
    },
    {
     "data": {
      "application/vnd.jupyter.widget-view+json": {
       "model_id": "b80dd59f693e45cf8660bd6d8c3a6cbb",
       "version_major": 2,
       "version_minor": 0
      },
      "text/plain": [
       "  0%|          | 0/10000 [00:00<?, ?it/s]"
      ]
     },
     "metadata": {},
     "output_type": "display_data"
    },
    {
     "name": "stdout",
     "output_type": "stream",
     "text": [
      "gld_params: [0.04387794 0.02371601 0.34709215 0.13648133]\n",
      "wrapper([ 5.889e-02  0.000e+00 ...  1.000e+00  8.632e-01]) = -0.027143497976944955\n",
      "assembly_constraint_no_mean([ 5.889e-02  0.000e+00 ...  1.000e+00  8.632e-01]) = [ 2.665e-01  2.725e-01 ...  1.397e-02  1.800e-01]\n"
     ]
    },
    {
     "data": {
      "application/vnd.jupyter.widget-view+json": {
       "model_id": "4fa4ee95f93c4e33a915217203d1a78a",
       "version_major": 2,
       "version_minor": 0
      },
      "text/plain": [
       "  0%|          | 0/10000 [00:00<?, ?it/s]"
      ]
     },
     "metadata": {},
     "output_type": "display_data"
    },
    {
     "name": "stdout",
     "output_type": "stream",
     "text": [
      "gld_params: [0.04371911 0.02344431 0.33812216 0.13845891]\n",
      "wrapper([ 2.031e-01  2.030e-01 ...  1.000e+00  8.382e-01]) = -0.027472764396614596\n",
      "assembly_constraint_no_mean([ 2.031e-01  2.030e-01 ...  1.000e+00  8.382e-01]) = [ 7.727e-01 -1.512e-01 ...  1.605e-01  4.557e-01]\n"
     ]
    },
    {
     "data": {
      "application/vnd.jupyter.widget-view+json": {
       "model_id": "04aa6e0f60cc432a81613e8414f3495a",
       "version_major": 2,
       "version_minor": 0
      },
      "text/plain": [
       "  0%|          | 0/10000 [00:00<?, ?it/s]"
      ]
     },
     "metadata": {},
     "output_type": "display_data"
    },
    {
     "name": "stdout",
     "output_type": "stream",
     "text": [
      "gld_params: [0.04383543 0.02367566 0.34588724 0.1351785 ]\n",
      "wrapper([ 8.489e-02  1.724e-01 ...  1.000e+00  9.301e-01]) = -0.027550281181991827\n",
      "assembly_constraint_no_mean([ 8.489e-02  1.724e-01 ...  1.000e+00  9.301e-01]) = [ 1.644e-01  2.104e-02 ...  1.016e-01  4.677e-01]\n"
     ]
    },
    {
     "data": {
      "application/vnd.jupyter.widget-view+json": {
       "model_id": "a796c90c4bab42d4ab99e01e3ef10edb",
       "version_major": 2,
       "version_minor": 0
      },
      "text/plain": [
       "  0%|          | 0/10000 [00:00<?, ?it/s]"
      ]
     },
     "metadata": {},
     "output_type": "display_data"
    },
    {
     "name": "stdout",
     "output_type": "stream",
     "text": [
      "gld_params: [0.04384957 0.02340011 0.33885415 0.13878351]\n",
      "wrapper([ 3.048e-01  1.267e-01 ...  1.000e+00  7.242e-01]) = -0.02667006248898893\n",
      "assembly_constraint_no_mean([ 3.048e-01  1.267e-01 ...  1.000e+00  7.242e-01]) = [ 7.107e-01  1.262e-01 ...  1.470e+00 -8.221e-02]\n"
     ]
    },
    {
     "data": {
      "application/vnd.jupyter.widget-view+json": {
       "model_id": "f7afa1e57bb2432fbed0952b000a8f13",
       "version_major": 2,
       "version_minor": 0
      },
      "text/plain": [
       "  0%|          | 0/10000 [00:00<?, ?it/s]"
      ]
     },
     "metadata": {},
     "output_type": "display_data"
    },
    {
     "name": "stdout",
     "output_type": "stream",
     "text": [
      "gld_params: [0.04384169 0.02357414 0.34542682 0.13488299]\n",
      "wrapper([ 2.138e-01  3.975e-02 ...  9.440e-01  1.000e+00]) = -0.02715237108203186\n",
      "assembly_constraint_no_mean([ 2.138e-01  3.975e-02 ...  9.440e-01  1.000e+00]) = [ 1.814e-01  3.251e-02 ...  1.887e-01  5.526e-01]\n"
     ]
    },
    {
     "data": {
      "application/vnd.jupyter.widget-view+json": {
       "model_id": "2d020bc5f8804702a3dbcf7c58b728d3",
       "version_major": 2,
       "version_minor": 0
      },
      "text/plain": [
       "  0%|          | 0/10000 [00:00<?, ?it/s]"
      ]
     },
     "metadata": {},
     "output_type": "display_data"
    },
    {
     "name": "stdout",
     "output_type": "stream",
     "text": [
      "gld_params: [0.04504234 0.02298383 0.3380697  0.13547997]\n",
      "wrapper([ 1.681e-01  1.020e-01 ...  1.000e+00  6.849e-01]) = -0.022295084747350067\n",
      "assembly_constraint_no_mean([ 1.681e-01  1.020e-01 ...  1.000e+00  6.849e-01]) = [-1.664e-01 -7.733e-01 ...  1.529e-01 -6.928e-02]\n"
     ]
    },
    {
     "data": {
      "application/vnd.jupyter.widget-view+json": {
       "model_id": "ac07d564d5fa4443be446e956fb3b81a",
       "version_major": 2,
       "version_minor": 0
      },
      "text/plain": [
       "  0%|          | 0/10000 [00:00<?, ?it/s]"
      ]
     },
     "metadata": {},
     "output_type": "display_data"
    },
    {
     "name": "stdout",
     "output_type": "stream",
     "text": [
      "gld_params: [0.0437704  0.02373997 0.34569945 0.13696205]\n",
      "wrapper([ 2.436e-02  1.750e-01 ...  1.000e+00  9.055e-01]) = -0.0277408175908892\n",
      "assembly_constraint_no_mean([ 2.436e-02  1.750e-01 ...  1.000e+00  9.055e-01]) = [ 3.224e-01 -2.135e-01 ...  1.514e-01  3.608e-01]\n"
     ]
    },
    {
     "data": {
      "application/vnd.jupyter.widget-view+json": {
       "model_id": "bbdfd048f87c461e815a6eaab0601a0a",
       "version_major": 2,
       "version_minor": 0
      },
      "text/plain": [
       "  0%|          | 0/10000 [00:00<?, ?it/s]"
      ]
     },
     "metadata": {},
     "output_type": "display_data"
    },
    {
     "name": "stdout",
     "output_type": "stream",
     "text": [
      "gld_params: [0.04440914 0.02320038 0.34028344 0.13582525]\n",
      "wrapper([ 2.409e-01  0.000e+00 ...  1.000e+00  8.253e-01]) = -0.024480752057831873\n",
      "assembly_constraint_no_mean([ 2.409e-01  0.000e+00 ...  1.000e+00  8.253e-01]) = [ 3.851e-01 -3.611e-01 ... -6.276e-02  4.115e-01]\n"
     ]
    },
    {
     "data": {
      "application/vnd.jupyter.widget-view+json": {
       "model_id": "b5eaf8b08f4c4454811bb674fb6b080a",
       "version_major": 2,
       "version_minor": 0
      },
      "text/plain": [
       "  0%|          | 0/10000 [00:00<?, ?it/s]"
      ]
     },
     "metadata": {},
     "output_type": "display_data"
    },
    {
     "name": "stdout",
     "output_type": "stream",
     "text": [
      "gld_params: [0.04388481 0.02375805 0.34593932 0.13634353]\n",
      "wrapper([ 8.930e-02  9.689e-02 ...  1.000e+00  8.955e-01]) = -0.027591805938465615\n",
      "assembly_constraint_no_mean([ 8.930e-02  9.689e-02 ...  1.000e+00  8.955e-01]) = [ 1.196e-01  9.697e-02 ...  1.108e-01  2.999e-01]\n"
     ]
    },
    {
     "data": {
      "application/vnd.jupyter.widget-view+json": {
       "model_id": "f785923dd1864e2fb1e36bd02b8b9543",
       "version_major": 2,
       "version_minor": 0
      },
      "text/plain": [
       "  0%|          | 0/10000 [00:00<?, ?it/s]"
      ]
     },
     "metadata": {},
     "output_type": "display_data"
    },
    {
     "name": "stdout",
     "output_type": "stream",
     "text": [
      "gld_params: [0.04479523 0.02272808 0.33468249 0.12893167]\n",
      "wrapper([ 3.263e-01  3.650e-01 ...  1.000e+00  7.157e-01]) = -0.023485623403884312\n",
      "assembly_constraint_no_mean([ 3.263e-01  3.650e-01 ...  1.000e+00  7.157e-01]) = [ 6.527e-01  8.860e-01 ... -2.332e-01 -2.110e-03]\n"
     ]
    },
    {
     "data": {
      "application/vnd.jupyter.widget-view+json": {
       "model_id": "73439c272f08417cb5701a46bab8c8db",
       "version_major": 2,
       "version_minor": 0
      },
      "text/plain": [
       "  0%|          | 0/10000 [00:00<?, ?it/s]"
      ]
     },
     "metadata": {},
     "output_type": "display_data"
    },
    {
     "name": "stdout",
     "output_type": "stream",
     "text": [
      "gld_params: [0.04373036 0.02377881 0.34672427 0.13707034]\n",
      "wrapper([ 6.151e-02  1.153e-01 ...  1.000e+00  8.858e-01]) = -0.027838092558495266\n",
      "assembly_constraint_no_mean([ 6.151e-02  1.153e-01 ...  1.000e+00  8.858e-01]) = [ 1.457e-01  9.193e-02 ...  1.609e-01  2.617e-01]\n"
     ]
    },
    {
     "data": {
      "application/vnd.jupyter.widget-view+json": {
       "model_id": "f22fa67cb84f40f7bd713eef49eecc61",
       "version_major": 2,
       "version_minor": 0
      },
      "text/plain": [
       "  0%|          | 0/10000 [00:00<?, ?it/s]"
      ]
     },
     "metadata": {},
     "output_type": "display_data"
    },
    {
     "name": "stdout",
     "output_type": "stream",
     "text": [
      "gld_params: [0.04288856 0.02396242 0.34502866 0.13959494]\n",
      "wrapper([ 2.326e-01  2.091e-03 ...  1.000e+00  7.888e-01]) = -0.031165872474740116\n",
      "assembly_constraint_no_mean([ 2.326e-01  2.091e-03 ...  1.000e+00  7.888e-01]) = [ 9.134e-01  9.013e-01 ...  9.119e-01  3.053e-01]\n"
     ]
    },
    {
     "data": {
      "application/vnd.jupyter.widget-view+json": {
       "model_id": "6f4eb245a07d4a68aa01cc5ad5bdaa1c",
       "version_major": 2,
       "version_minor": 0
      },
      "text/plain": [
       "  0%|          | 0/10000 [00:00<?, ?it/s]"
      ]
     },
     "metadata": {},
     "output_type": "display_data"
    },
    {
     "name": "stdout",
     "output_type": "stream",
     "text": [
      "gld_params: [0.04384241 0.02382663 0.34755653 0.13707845]\n",
      "wrapper([ 1.223e-01  0.000e+00 ...  1.000e+00  9.023e-01]) = -0.027606474292462716\n",
      "assembly_constraint_no_mean([ 1.223e-01  0.000e+00 ...  1.000e+00  9.023e-01]) = [ 1.378e-01  9.792e-02 ...  7.105e-02  3.331e-01]\n"
     ]
    },
    {
     "data": {
      "application/vnd.jupyter.widget-view+json": {
       "model_id": "5f7676e976f648f7b17aa1642cdcf244",
       "version_major": 2,
       "version_minor": 0
      },
      "text/plain": [
       "  0%|          | 0/10000 [00:00<?, ?it/s]"
      ]
     },
     "metadata": {},
     "output_type": "display_data"
    },
    {
     "name": "stdout",
     "output_type": "stream",
     "text": [
      "gld_params: [0.0445569  0.02335727 0.34220222 0.13704803]\n",
      "wrapper([ 8.349e-02  1.945e-01 ...  1.000e+00  8.229e-01]) = -0.024294433320836493\n",
      "assembly_constraint_no_mean([ 8.349e-02  1.945e-01 ...  1.000e+00  8.229e-01]) = [ 3.362e-01  4.136e-01 ...  1.008e+00  3.631e-01]\n"
     ]
    },
    {
     "data": {
      "application/vnd.jupyter.widget-view+json": {
       "model_id": "fa0113f3824a440a9b31abe24f8071b4",
       "version_major": 2,
       "version_minor": 0
      },
      "text/plain": [
       "  0%|          | 0/10000 [00:00<?, ?it/s]"
      ]
     },
     "metadata": {},
     "output_type": "display_data"
    },
    {
     "name": "stdout",
     "output_type": "stream",
     "text": [
      "gld_params: [0.04388367 0.0238447  0.3474682  0.13632689]\n",
      "wrapper([ 9.862e-02  5.351e-02 ...  1.000e+00  8.345e-01]) = -0.02775581462707706\n",
      "assembly_constraint_no_mean([ 9.862e-02  5.351e-02 ...  1.000e+00  8.345e-01]) = [ 6.189e-02  8.003e-02 ...  1.543e-01  7.417e-02]\n"
     ]
    },
    {
     "data": {
      "application/vnd.jupyter.widget-view+json": {
       "model_id": "2763c34d5ab24b71a03aa27c9553dec0",
       "version_major": 2,
       "version_minor": 0
      },
      "text/plain": [
       "  0%|          | 0/10000 [00:00<?, ?it/s]"
      ]
     },
     "metadata": {},
     "output_type": "display_data"
    },
    {
     "name": "stdout",
     "output_type": "stream",
     "text": [
      "gld_params: [0.04398613 0.02381949 0.34896249 0.13503872]\n",
      "wrapper([ 1.388e-17  1.558e-01 ...  1.000e+00  7.993e-01]) = -0.02731582471484966\n",
      "assembly_constraint_no_mean([ 1.388e-17  1.558e-01 ...  1.000e+00  7.993e-01]) = [ 1.697e-01  7.314e-02 ...  4.854e-02 -9.547e-02]\n"
     ]
    },
    {
     "data": {
      "application/vnd.jupyter.widget-view+json": {
       "model_id": "0d48bf2ce6714d84a60abd6956150be6",
       "version_major": 2,
       "version_minor": 0
      },
      "text/plain": [
       "  0%|          | 0/10000 [00:00<?, ?it/s]"
      ]
     },
     "metadata": {},
     "output_type": "display_data"
    },
    {
     "name": "stdout",
     "output_type": "stream",
     "text": [
      "gld_params: [0.04385343 0.02396638 0.35095532 0.13661071]\n",
      "wrapper([ 9.151e-18  1.187e-01 ...  1.000e+00  8.620e-01]) = -0.027739497516089257\n",
      "assembly_constraint_no_mean([ 9.151e-18  1.187e-01 ...  1.000e+00  8.620e-01]) = [ 7.293e-02  6.374e-02 ...  2.632e-01  1.522e-01]\n"
     ]
    },
    {
     "data": {
      "application/vnd.jupyter.widget-view+json": {
       "model_id": "c54a404e57cd40b2b44f9bd3e195d5ab",
       "version_major": 2,
       "version_minor": 0
      },
      "text/plain": [
       "  0%|          | 0/10000 [00:00<?, ?it/s]"
      ]
     },
     "metadata": {},
     "output_type": "display_data"
    },
    {
     "name": "stdout",
     "output_type": "stream",
     "text": [
      "gld_params: [0.04498051 0.02324184 0.34461538 0.12998602]\n",
      "wrapper([ 1.836e-01  2.658e-01 ...  1.000e+00  9.716e-01]) = -0.023615977832640547\n",
      "assembly_constraint_no_mean([ 1.836e-01  2.658e-01 ...  1.000e+00  9.716e-01]) = [ 6.780e-01 -1.380e-01 ... -1.980e+00  7.152e-01]\n"
     ]
    },
    {
     "data": {
      "application/vnd.jupyter.widget-view+json": {
       "model_id": "38563343a654486fae05c88847850098",
       "version_major": 2,
       "version_minor": 0
      },
      "text/plain": [
       "  0%|          | 0/10000 [00:00<?, ?it/s]"
      ]
     },
     "metadata": {},
     "output_type": "display_data"
    },
    {
     "name": "stdout",
     "output_type": "stream",
     "text": [
      "gld_params: [0.04458243 0.02383173 0.34632732 0.13727801]\n",
      "wrapper([ 0.000e+00  3.131e-02 ...  1.000e+00  8.448e-01]) = -0.025789381894533336\n",
      "assembly_constraint_no_mean([ 0.000e+00  3.131e-02 ...  1.000e+00  8.448e-01]) = [-5.092e-01 -5.037e-02 ...  1.276e-01  9.227e-02]\n"
     ]
    },
    {
     "data": {
      "application/vnd.jupyter.widget-view+json": {
       "model_id": "1e1ccf64945d4cc4bfdacf4cfa5793c4",
       "version_major": 2,
       "version_minor": 0
      },
      "text/plain": [
       "  0%|          | 0/10000 [00:00<?, ?it/s]"
      ]
     },
     "metadata": {},
     "output_type": "display_data"
    },
    {
     "name": "stdout",
     "output_type": "stream",
     "text": [
      "gld_params: [0.04394331 0.02389751 0.35006693 0.13600604]\n",
      "wrapper([ 6.206e-19  1.421e-01 ...  1.000e+00  8.463e-01]) = -0.027428424346496186\n",
      "assembly_constraint_no_mean([ 6.206e-19  1.421e-01 ...  1.000e+00  8.463e-01]) = [ 1.236e-01  7.227e-02 ...  6.804e-02  8.665e-02]\n"
     ]
    },
    {
     "data": {
      "application/vnd.jupyter.widget-view+json": {
       "model_id": "5276c45c92e64ccf92b5b89ea20f4ba9",
       "version_major": 2,
       "version_minor": 0
      },
      "text/plain": [
       "  0%|          | 0/10000 [00:00<?, ?it/s]"
      ]
     },
     "metadata": {},
     "output_type": "display_data"
    },
    {
     "name": "stdout",
     "output_type": "stream",
     "text": [
      "gld_params: [0.04307284 0.0242917  0.35082213 0.13763843]\n",
      "wrapper([ 2.899e-03  1.406e-01 ...  1.000e+00  1.000e+00]) = -0.03163333496134384\n",
      "assembly_constraint_no_mean([ 2.899e-03  1.406e-01 ...  1.000e+00  1.000e+00]) = [ 5.883e-01 -5.966e-01 ...  8.180e-01  1.026e+00]\n"
     ]
    },
    {
     "data": {
      "application/vnd.jupyter.widget-view+json": {
       "model_id": "a701a9861f2d42ee937e57a92fa6eb9d",
       "version_major": 2,
       "version_minor": 0
      },
      "text/plain": [
       "  0%|          | 0/10000 [00:00<?, ?it/s]"
      ]
     },
     "metadata": {},
     "output_type": "display_data"
    },
    {
     "name": "stdout",
     "output_type": "stream",
     "text": [
      "gld_params: [0.04518038 0.02338839 0.34257817 0.13075854]\n",
      "wrapper([ 2.896e-02  1.008e-01 ...  1.000e+00  5.759e-01]) = -0.024026378296838655\n",
      "assembly_constraint_no_mean([ 2.896e-02  1.008e-01 ...  1.000e+00  5.759e-01]) = [-3.978e-01 -1.038e-01 ... -5.652e-01 -6.281e-01]\n"
     ]
    },
    {
     "data": {
      "application/vnd.jupyter.widget-view+json": {
       "model_id": "960c38dcf2ea44e7a39d87e324328ee6",
       "version_major": 2,
       "version_minor": 0
      },
      "text/plain": [
       "  0%|          | 0/10000 [00:00<?, ?it/s]"
      ]
     },
     "metadata": {},
     "output_type": "display_data"
    },
    {
     "name": "stdout",
     "output_type": "stream",
     "text": [
      "gld_params: [0.04400639 0.02390779 0.35215127 0.13511596]\n",
      "wrapper([ 1.170e-17  1.288e-01 ...  1.000e+00  7.776e-01]) = -0.027083624076370504\n",
      "assembly_constraint_no_mean([ 1.170e-17  1.288e-01 ...  1.000e+00  7.776e-01]) = [ 4.570e-03 -4.848e-02 ...  7.424e-02 -1.046e-01]\n"
     ]
    },
    {
     "data": {
      "application/vnd.jupyter.widget-view+json": {
       "model_id": "fbdb10602d394df3bb1ed5aadc8f719d",
       "version_major": 2,
       "version_minor": 0
      },
      "text/plain": [
       "  0%|          | 0/10000 [00:00<?, ?it/s]"
      ]
     },
     "metadata": {},
     "output_type": "display_data"
    },
    {
     "name": "stdout",
     "output_type": "stream",
     "text": [
      "gld_params: [0.04413376 0.02359277 0.34309541 0.13352892]\n",
      "wrapper([ 0.000e+00  2.973e-01 ...  1.000e+00  7.207e-01]) = -0.027154150837653258\n",
      "assembly_constraint_no_mean([ 0.000e+00  2.973e-01 ...  1.000e+00  7.207e-01]) = [ 3.971e-01 -4.442e-01 ...  9.729e-02 -3.507e-01]\n"
     ]
    },
    {
     "data": {
      "application/vnd.jupyter.widget-view+json": {
       "model_id": "b41ac8b247ac4c80a57a4b56fefd3133",
       "version_major": 2,
       "version_minor": 0
      },
      "text/plain": [
       "  0%|          | 0/10000 [00:00<?, ?it/s]"
      ]
     },
     "metadata": {},
     "output_type": "display_data"
    },
    {
     "name": "stdout",
     "output_type": "stream",
     "text": [
      "gld_params: [0.04374497 0.02383863 0.34417362 0.13699355]\n",
      "wrapper([ 4.740e-02  9.350e-02 ...  1.000e+00  6.891e-01]) = -0.02862782596509795\n",
      "assembly_constraint_no_mean([ 4.740e-02  9.350e-02 ...  1.000e+00  6.891e-01]) = [ 9.049e-01  1.512e-01 ...  7.928e-02 -4.351e-01]\n"
     ]
    },
    {
     "data": {
      "application/vnd.jupyter.widget-view+json": {
       "model_id": "179ec5b7f0124eaf8cd73a2f4dbaee06",
       "version_major": 2,
       "version_minor": 0
      },
      "text/plain": [
       "  0%|          | 0/10000 [00:00<?, ?it/s]"
      ]
     },
     "metadata": {},
     "output_type": "display_data"
    },
    {
     "name": "stdout",
     "output_type": "stream",
     "text": [
      "gld_params: [0.04380329 0.02398428 0.35382733 0.13699061]\n",
      "wrapper([ 1.233e-17  2.543e-02 ...  1.000e+00  8.235e-01]) = -0.02734066902149971\n",
      "assembly_constraint_no_mean([ 1.233e-17  2.543e-02 ...  1.000e+00  8.235e-01]) = [ 1.145e-01 -1.390e-02 ...  1.104e-01  3.369e-02]\n"
     ]
    },
    {
     "data": {
      "application/vnd.jupyter.widget-view+json": {
       "model_id": "3d392858fc2d4d2a9e5a322d6ccd4e8e",
       "version_major": 2,
       "version_minor": 0
      },
      "text/plain": [
       "  0%|          | 0/10000 [00:00<?, ?it/s]"
      ]
     },
     "metadata": {},
     "output_type": "display_data"
    },
    {
     "name": "stdout",
     "output_type": "stream",
     "text": [
      "gld_params: [0.0438162  0.0237933  0.35077638 0.13414041]\n",
      "wrapper([ 2.758e-18  3.816e-17 ...  1.000e+00  8.630e-01]) = -0.027488951863817335\n",
      "assembly_constraint_no_mean([ 2.758e-18  3.816e-17 ...  1.000e+00  8.630e-01]) = [ 1.967e-01  4.438e-01 ...  8.558e-02  1.565e-01]\n"
     ]
    },
    {
     "data": {
      "application/vnd.jupyter.widget-view+json": {
       "model_id": "d20117c3b8ad4c71924c42289b25422a",
       "version_major": 2,
       "version_minor": 0
      },
      "text/plain": [
       "  0%|          | 0/10000 [00:00<?, ?it/s]"
      ]
     },
     "metadata": {},
     "output_type": "display_data"
    },
    {
     "name": "stdout",
     "output_type": "stream",
     "text": [
      "gld_params: [0.04399185 0.02385204 0.3475936  0.13160767]\n",
      "wrapper([ 0.000e+00  1.191e-01 ...  1.000e+00  8.556e-01]) = -0.02843720589550775\n",
      "assembly_constraint_no_mean([ 0.000e+00  1.191e-01 ...  1.000e+00  8.556e-01]) = [ 8.542e-01  3.279e-01 ... -2.084e+00  1.361e-01]\n"
     ]
    },
    {
     "data": {
      "application/vnd.jupyter.widget-view+json": {
       "model_id": "3726e476aeed409d8c6a05a1824ee0c3",
       "version_major": 2,
       "version_minor": 0
      },
      "text/plain": [
       "  0%|          | 0/10000 [00:00<?, ?it/s]"
      ]
     },
     "metadata": {},
     "output_type": "display_data"
    },
    {
     "name": "stdout",
     "output_type": "stream",
     "text": [
      "gld_params: [0.04388592 0.02380972 0.34979464 0.13531972]\n",
      "wrapper([ 1.364e-17  1.465e-01 ...  1.000e+00  8.804e-01]) = -0.02732874719625386\n",
      "assembly_constraint_no_mean([ 1.364e-17  1.465e-01 ...  1.000e+00  8.804e-01]) = [ 1.362e-01 -8.004e-02 ...  1.128e-02  2.319e-01]\n"
     ]
    },
    {
     "data": {
      "application/vnd.jupyter.widget-view+json": {
       "model_id": "088438734cfd4ff98b5f4371c034b4f4",
       "version_major": 2,
       "version_minor": 0
      },
      "text/plain": [
       "  0%|          | 0/10000 [00:00<?, ?it/s]"
      ]
     },
     "metadata": {},
     "output_type": "display_data"
    },
    {
     "name": "stdout",
     "output_type": "stream",
     "text": [
      "gld_params: [0.04474307 0.02349794 0.34705082 0.13269464]\n",
      "wrapper([ 1.790e-01  0.000e+00 ...  1.000e+00  6.797e-01]) = -0.024498960627458318\n",
      "assembly_constraint_no_mean([ 1.790e-01  0.000e+00 ...  1.000e+00  6.797e-01]) = [ 9.738e-01 -6.601e-01 ... -6.103e-01 -4.413e-01]\n"
     ]
    },
    {
     "data": {
      "application/vnd.jupyter.widget-view+json": {
       "model_id": "c001466227f9448980c737cfa3f53095",
       "version_major": 2,
       "version_minor": 0
      },
      "text/plain": [
       "  0%|          | 0/10000 [00:00<?, ?it/s]"
      ]
     },
     "metadata": {},
     "output_type": "display_data"
    },
    {
     "name": "stdout",
     "output_type": "stream",
     "text": [
      "gld_params: [0.04368834 0.02394045 0.35250841 0.13867825]\n",
      "wrapper([ 2.135e-18  2.062e-01 ...  1.000e+00  7.710e-01]) = -0.027348892258659937\n",
      "assembly_constraint_no_mean([ 2.135e-18  2.062e-01 ...  1.000e+00  7.710e-01]) = [ 3.552e-01  6.932e-02 ...  5.219e-02  2.633e-01]\n"
     ]
    },
    {
     "data": {
      "application/vnd.jupyter.widget-view+json": {
       "model_id": "25348454466047a2b3f5b45e16091900",
       "version_major": 2,
       "version_minor": 0
      },
      "text/plain": [
       "  0%|          | 0/10000 [00:00<?, ?it/s]"
      ]
     },
     "metadata": {},
     "output_type": "display_data"
    },
    {
     "name": "stdout",
     "output_type": "stream",
     "text": [
      "gld_params: [0.04401245 0.02389581 0.35004466 0.13674132]\n",
      "wrapper([ 1.191e-01  1.035e-01 ...  1.000e+00  7.651e-01]) = -0.02707724378520226\n",
      "assembly_constraint_no_mean([ 1.191e-01  1.035e-01 ...  1.000e+00  7.651e-01]) = [-1.400e-02  5.223e-01 ...  9.219e-01 -2.061e-01]\n",
      "\n",
      "New trust-region radius: 0.33.\n",
      "Number of function evaluations: 184.\n",
      "Number of iterations: 74.\n",
      "Least value of wrapper: -0.02734066902149971.\n",
      "Maximum constraint violation: 0.06452042522311961.\n",
      "Corresponding point: [ 1.233e-17  2.543e-02 ...  1.000e+00  8.235e-01].\n",
      "\n"
     ]
    },
    {
     "data": {
      "application/vnd.jupyter.widget-view+json": {
       "model_id": "9d79a2fac7f945b8805c3049fd10539f",
       "version_major": 2,
       "version_minor": 0
      },
      "text/plain": [
       "  0%|          | 0/10000 [00:00<?, ?it/s]"
      ]
     },
     "metadata": {},
     "output_type": "display_data"
    },
    {
     "name": "stdout",
     "output_type": "stream",
     "text": [
      "gld_params: [0.04388097 0.02397029 0.35387717 0.1350346 ]\n",
      "wrapper([ 1.517e-19  0.000e+00 ...  1.000e+00  8.609e-01]) = -0.027441485867090026\n",
      "assembly_constraint_no_mean([ 1.517e-19  0.000e+00 ...  1.000e+00  8.609e-01]) = [ 8.167e-02  3.817e-02 ...  7.080e-02  1.475e-01]\n"
     ]
    },
    {
     "data": {
      "application/vnd.jupyter.widget-view+json": {
       "model_id": "7d66777c96164b64b909256a563a3b42",
       "version_major": 2,
       "version_minor": 0
      },
      "text/plain": [
       "  0%|          | 0/10000 [00:00<?, ?it/s]"
      ]
     },
     "metadata": {},
     "output_type": "display_data"
    },
    {
     "name": "stdout",
     "output_type": "stream",
     "text": [
      "gld_params: [0.04413558 0.02389096 0.3507834  0.13432276]\n",
      "wrapper([ 0.000e+00  0.000e+00 ...  1.000e+00  9.374e-01]) = -0.027062567923528225\n",
      "assembly_constraint_no_mean([ 0.000e+00  0.000e+00 ...  1.000e+00  9.374e-01]) = [ 4.799e-02  5.148e-02 ... -1.296e-01  5.303e-01]\n"
     ]
    },
    {
     "data": {
      "application/vnd.jupyter.widget-view+json": {
       "model_id": "b6bc1a0bcf334344bd9df23a15c038a5",
       "version_major": 2,
       "version_minor": 0
      },
      "text/plain": [
       "  0%|          | 0/10000 [00:00<?, ?it/s]"
      ]
     },
     "metadata": {},
     "output_type": "display_data"
    },
    {
     "name": "stdout",
     "output_type": "stream",
     "text": [
      "gld_params: [0.04381393 0.02389968 0.35211231 0.13551586]\n",
      "wrapper([ 2.404e-17  5.609e-18 ...  9.043e-01  1.000e+00]) = -0.027505901533821566\n",
      "assembly_constraint_no_mean([ 2.404e-17  5.609e-18 ...  9.043e-01  1.000e+00]) = [ 1.319e-02  1.841e-02 ...  1.637e-02  3.427e-01]\n"
     ]
    },
    {
     "data": {
      "application/vnd.jupyter.widget-view+json": {
       "model_id": "c1a1e5355909489885dc96e5e03dc0c9",
       "version_major": 2,
       "version_minor": 0
      },
      "text/plain": [
       "  0%|          | 0/10000 [00:00<?, ?it/s]"
      ]
     },
     "metadata": {},
     "output_type": "display_data"
    },
    {
     "name": "stdout",
     "output_type": "stream",
     "text": [
      "gld_params: [0.04329442 0.02418303 0.35118567 0.13647827]\n",
      "wrapper([ 0.000e+00  0.000e+00 ...  1.000e+00  8.923e-01]) = -0.030520749433633677\n",
      "assembly_constraint_no_mean([ 0.000e+00  0.000e+00 ...  1.000e+00  8.923e-01]) = [-9.097e-02 -1.470e-01 ...  2.749e-01  2.853e-01]\n"
     ]
    },
    {
     "data": {
      "application/vnd.jupyter.widget-view+json": {
       "model_id": "13c63d12d784477d9a1cbaa69cc30d6e",
       "version_major": 2,
       "version_minor": 0
      },
      "text/plain": [
       "  0%|          | 0/10000 [00:00<?, ?it/s]"
      ]
     },
     "metadata": {},
     "output_type": "display_data"
    },
    {
     "name": "stdout",
     "output_type": "stream",
     "text": [
      "gld_params: [0.04430619 0.02394816 0.34873599 0.13642094]\n",
      "wrapper([ 2.496e-02  0.000e+00 ...  1.000e+00  9.282e-01]) = -0.026846648498631748\n",
      "assembly_constraint_no_mean([ 2.496e-02  0.000e+00 ...  1.000e+00  9.282e-01]) = [-4.080e-01 -9.519e-02 ...  1.894e-01  4.534e-01]\n"
     ]
    },
    {
     "data": {
      "application/vnd.jupyter.widget-view+json": {
       "model_id": "69a2d18dc5e34e65b9c1da726805c899",
       "version_major": 2,
       "version_minor": 0
      },
      "text/plain": [
       "  0%|          | 0/10000 [00:00<?, ?it/s]"
      ]
     },
     "metadata": {},
     "output_type": "display_data"
    },
    {
     "name": "stdout",
     "output_type": "stream",
     "text": [
      "gld_params: [0.04424458 0.02374601 0.34755643 0.13268167]\n",
      "wrapper([ 0.000e+00  0.000e+00 ...  1.000e+00  8.488e-01]) = -0.02696764853824353\n",
      "assembly_constraint_no_mean([ 0.000e+00  0.000e+00 ...  1.000e+00  8.488e-01]) = [ 9.852e-02 -1.257e-02 ... -7.121e-03  1.034e-01]\n"
     ]
    },
    {
     "data": {
      "application/vnd.jupyter.widget-view+json": {
       "model_id": "973e755371134276ac74503163e35d05",
       "version_major": 2,
       "version_minor": 0
      },
      "text/plain": [
       "  0%|          | 0/10000 [00:00<?, ?it/s]"
      ]
     },
     "metadata": {},
     "output_type": "display_data"
    },
    {
     "name": "stdout",
     "output_type": "stream",
     "text": [
      "gld_params: [0.04397274 0.02387978 0.35154541 0.13533983]\n",
      "wrapper([ 2.161e-18  1.309e-02 ...  1.000e+00  8.581e-01]) = -0.027104146930390014\n",
      "assembly_constraint_no_mean([ 2.161e-18  1.309e-02 ...  1.000e+00  8.581e-01]) = [ 6.560e-02  4.141e-02 ...  2.623e-02  1.358e-01]\n"
     ]
    },
    {
     "data": {
      "application/vnd.jupyter.widget-view+json": {
       "model_id": "98b10c22900d426d93489e05ea1a1d15",
       "version_major": 2,
       "version_minor": 0
      },
      "text/plain": [
       "  0%|          | 0/10000 [00:00<?, ?it/s]"
      ]
     },
     "metadata": {},
     "output_type": "display_data"
    },
    {
     "name": "stdout",
     "output_type": "stream",
     "text": [
      "gld_params: [0.04342296 0.02416459 0.35117665 0.13800194]\n",
      "wrapper([ 7.513e-02  0.000e+00 ...  1.000e+00  8.423e-01]) = -0.029710148345955336\n",
      "assembly_constraint_no_mean([ 7.513e-02  0.000e+00 ...  1.000e+00  8.423e-01]) = [ 4.396e-01  2.273e-01 ...  1.066e-01  7.031e-02]\n"
     ]
    },
    {
     "data": {
      "application/vnd.jupyter.widget-view+json": {
       "model_id": "eedeef6477b644e29e4cafb0544c0eb7",
       "version_major": 2,
       "version_minor": 0
      },
      "text/plain": [
       "  0%|          | 0/10000 [00:00<?, ?it/s]"
      ]
     },
     "metadata": {},
     "output_type": "display_data"
    },
    {
     "name": "stdout",
     "output_type": "stream",
     "text": [
      "gld_params: [0.04402134 0.02394813 0.3515401  0.13571994]\n",
      "wrapper([ 6.638e-18  9.174e-18 ...  1.000e+00  8.439e-01]) = -0.027245208172631947\n",
      "assembly_constraint_no_mean([ 6.638e-18  9.174e-18 ...  1.000e+00  8.439e-01]) = [ 6.340e-03  1.468e-02 ...  1.081e-01  7.698e-02]\n"
     ]
    },
    {
     "data": {
      "application/vnd.jupyter.widget-view+json": {
       "model_id": "976bf5fb0c9b4e2d853ba61bf7d72bf3",
       "version_major": 2,
       "version_minor": 0
      },
      "text/plain": [
       "  0%|          | 0/10000 [00:00<?, ?it/s]"
      ]
     },
     "metadata": {},
     "output_type": "display_data"
    },
    {
     "name": "stdout",
     "output_type": "stream",
     "text": [
      "gld_params: [0.04404391 0.02382364 0.3519725  0.13363828]\n",
      "wrapper([ 0.000e+00  0.000e+00 ...  1.000e+00  8.363e-01]) = -0.026885122891299663\n",
      "assembly_constraint_no_mean([ 0.000e+00  0.000e+00 ...  1.000e+00  8.363e-01]) = [ 2.508e-01 -2.364e-01 ... -2.151e-03  4.629e-02]\n"
     ]
    },
    {
     "data": {
      "application/vnd.jupyter.widget-view+json": {
       "model_id": "24ed298f1170423487d93838ad89bbd5",
       "version_major": 2,
       "version_minor": 0
      },
      "text/plain": [
       "  0%|          | 0/10000 [00:00<?, ?it/s]"
      ]
     },
     "metadata": {},
     "output_type": "display_data"
    },
    {
     "name": "stdout",
     "output_type": "stream",
     "text": [
      "gld_params: [0.04476816 0.02345725 0.34647043 0.1365006 ]\n",
      "wrapper([ 1.233e-19  1.130e-01 ...  9.895e-01  8.444e-01]) = -0.0235991208054269\n",
      "assembly_constraint_no_mean([ 1.233e-19  1.130e-01 ...  9.895e-01  8.444e-01]) = [-6.940e-02 -4.346e-02 ... -3.940e-01  7.118e-02]\n"
     ]
    },
    {
     "data": {
      "application/vnd.jupyter.widget-view+json": {
       "model_id": "9189c3701fdb42d494507975ef4fb6db",
       "version_major": 2,
       "version_minor": 0
      },
      "text/plain": [
       "  0%|          | 0/10000 [00:00<?, ?it/s]"
      ]
     },
     "metadata": {},
     "output_type": "display_data"
    },
    {
     "name": "stdout",
     "output_type": "stream",
     "text": [
      "gld_params: [0.04385109 0.0239942  0.35253026 0.13661222]\n",
      "wrapper([ 3.047e-19  1.330e-18 ...  1.000e+00  8.502e-01]) = -0.02758335304439833\n",
      "assembly_constraint_no_mean([ 3.047e-19  1.330e-18 ...  1.000e+00  8.502e-01]) = [ 6.014e-02  3.529e-02 ...  2.004e-01  1.030e-01]\n"
     ]
    },
    {
     "data": {
      "application/vnd.jupyter.widget-view+json": {
       "model_id": "063b5ef95f684dc295aa297f468d9986",
       "version_major": 2,
       "version_minor": 0
      },
      "text/plain": [
       "  0%|          | 0/10000 [00:00<?, ?it/s]"
      ]
     },
     "metadata": {},
     "output_type": "display_data"
    },
    {
     "name": "stdout",
     "output_type": "stream",
     "text": [
      "gld_params: [0.04306887 0.02427947 0.35111241 0.13815479]\n",
      "wrapper([ 6.561e-02  0.000e+00 ...  1.000e+00  9.542e-01]) = -0.03140277210145435\n",
      "assembly_constraint_no_mean([ 6.561e-02  0.000e+00 ...  1.000e+00  9.542e-01]) = [-1.263e-01  8.886e-01 ...  3.867e-01  5.822e-01]\n"
     ]
    },
    {
     "data": {
      "application/vnd.jupyter.widget-view+json": {
       "model_id": "77c201a5b5354c57a11497c23829d7b4",
       "version_major": 2,
       "version_minor": 0
      },
      "text/plain": [
       "  0%|          | 0/10000 [00:00<?, ?it/s]"
      ]
     },
     "metadata": {},
     "output_type": "display_data"
    },
    {
     "name": "stdout",
     "output_type": "stream",
     "text": [
      "gld_params: [0.04387239 0.02400161 0.35241898 0.13668658]\n",
      "wrapper([ 0.000e+00  1.025e-19 ...  1.000e+00  8.411e-01]) = -0.02756776639720525\n",
      "assembly_constraint_no_mean([ 0.000e+00  1.025e-19 ...  1.000e+00  8.411e-01]) = [ 8.725e-02  4.313e-02 ...  1.286e-01  6.545e-02]\n"
     ]
    },
    {
     "data": {
      "application/vnd.jupyter.widget-view+json": {
       "model_id": "57439c858536475bbc41f5d4866fcc12",
       "version_major": 2,
       "version_minor": 0
      },
      "text/plain": [
       "  0%|          | 0/10000 [00:00<?, ?it/s]"
      ]
     },
     "metadata": {},
     "output_type": "display_data"
    },
    {
     "name": "stdout",
     "output_type": "stream",
     "text": [
      "gld_params: [0.04369234 0.02398952 0.3531425  0.13595925]\n",
      "wrapper([ 4.416e-18  4.922e-22 ...  1.000e+00  8.274e-01]) = -0.028026051724631282\n",
      "assembly_constraint_no_mean([ 4.416e-18  4.922e-22 ...  1.000e+00  8.274e-01]) = [ 1.154e-01  8.775e-02 ...  1.125e-02  5.285e-02]\n"
     ]
    },
    {
     "data": {
      "application/vnd.jupyter.widget-view+json": {
       "model_id": "36cb737783894f17b3c9046b5177d063",
       "version_major": 2,
       "version_minor": 0
      },
      "text/plain": [
       "  0%|          | 0/10000 [00:00<?, ?it/s]"
      ]
     },
     "metadata": {},
     "output_type": "display_data"
    },
    {
     "name": "stdout",
     "output_type": "stream",
     "text": [
      "gld_params: [0.0447936  0.02370219 0.34696385 0.13468662]\n",
      "wrapper([ 0.000e+00  0.000e+00 ...  1.000e+00  8.118e-01]) = -0.024990492663681047\n",
      "assembly_constraint_no_mean([ 0.000e+00  0.000e+00 ...  1.000e+00  8.118e-01]) = [ 1.599e-01 -1.559e-01 ...  4.846e-01 -4.901e-02]\n",
      "\n",
      "The lower bound for the trust-region radius has been reached.\n",
      "Number of function evaluations: 200.\n",
      "Number of iterations: 86.\n",
      "Least value of wrapper: -0.02756776639720525.\n",
      "Maximum constraint violation: 0.07862402818778157.\n",
      "Corresponding point: [ 0.000e+00  1.025e-19 ...  1.000e+00  8.411e-01].\n",
      "Maximization Result with COBYQA:\n",
      " message: The lower bound for the trust-region radius has been reached\n",
      " success: False\n",
      "  status: 0\n",
      "     fun: -0.02756776639720525\n",
      "       x: [ 0.000e+00  1.025e-19 ...  1.000e+00  8.411e-01]\n",
      "     nit: 86\n",
      "   maxcv: 0.07862402818778157\n",
      "    nfev: 200\n"
     ]
    }
   ],
   "source": [
    "# Initial guess\n",
    "x0_maxi = [0.25] * RandDeviationVect.getDimension()  # Initial guess\n",
    "\n",
    "# Perform the local optimization using COBYQA directly\n",
    "res_maxi = minimize(\n",
    "    optimization_function_maxi, \n",
    "    x0_maxi, \n",
    "    method=\"COBYQA\", \n",
    "    jac=False, \n",
    "    bounds=Bounds(0.0, 1.0, keep_feasible=True),\n",
    "    constraints = nonLinearConstraint,\n",
    "    options={\n",
    "        \"f_target\": -0.2, \n",
    "        \"maxiter\": 1000,\n",
    "        \"maxfev\": 4000,\n",
    "        \"feasibility_tol\": 1e-2,\n",
    "        \"initial_tr_radius\": np.sqrt(32)*0.5,\n",
    "        \"final_tr_radius\": 0.33,\n",
    "        \"disp\": True\n",
    "    }\n",
    ")\n",
    "\n",
    "print(\"Maximization Result with COBYQA:\")\n",
    "print(res_maxi)"
   ]
  },
  {
   "cell_type": "code",
   "execution_count": null,
   "id": "34bb5870-0875-4677-9efe-c2bee9e9f7e1",
   "metadata": {
    "scrolled": true
   },
   "outputs": [],
   "source": [
    "# Basinhopping for the maximization function using COBYQA\n",
    "x0_maxi = [0.25] * RandDeviationVect.getDimension()  # Initial guess\n",
    "\n",
    "# Update minimizer_kwargs_maxi to use COBYQA\n",
    "minimizer_kwargs_maxi = {\n",
    "    \"method\": \"COBYQA\",   # Use COBYQA method\n",
    "    \"jac\": False,         # COBYQA doesn't use Jacobians\n",
    "    \"args\": (model_base,),     # Update args to match COBYQA requirements\n",
    "    \"constraints\": nonLinearConstraint,\n",
    "    \"bounds\": Bounds(lb=0.0,ub=1.0),\n",
    "    \"options\": {\n",
    "        \"f_target\": -0.2, \n",
    "        \"maxiter\": 1000,\n",
    "        \"maxfev\": 4000,\n",
    "        \"feasibility_tol\": 1e-2,\n",
    "        \"initial_tr_radius\": np.sqrt(32)*0.5,\n",
    "        \"final_tr_radius\": 0.33,\n",
    "        \"disp\": True\n",
    "    }\n",
    "}\n",
    "\n",
    "# Running basinhopping with COBYQA as the local optimizer\n",
    "res_maxi = basinhopping(\n",
    "    optimization_function_maxi, x0_maxi,\n",
    "    niter=5,\n",
    "    T=1,\n",
    "    stepsize=3.0,\n",
    "    niter_success=19,\n",
    "    interval=5,\n",
    "    minimizer_kwargs=minimizer_kwargs_maxi,\n",
    "    disp=True,\n",
    "    #take_step=step_taking,\n",
    "    #accept_test=accept_test,\n",
    "    #callback=callback\n",
    ")\n",
    "\n",
    "print(\"Maximization Result with COBYQA:\")\n",
    "print(res_maxi)"
   ]
  },
  {
   "cell_type": "code",
   "execution_count": null,
   "id": "57e3c1a4-7d8f-441d-a59d-6be0897b7cf8",
   "metadata": {},
   "outputs": [],
   "source": [
    "res_maxi.x"
   ]
  },
  {
   "cell_type": "code",
   "execution_count": null,
   "id": "150b8b05-65b6-426c-b60d-bf23b5b19b53",
   "metadata": {},
   "outputs": [],
   "source": [
    "optimization_function_maxi(np.array([0,0,1,0]*8))"
   ]
  },
  {
   "cell_type": "code",
   "execution_count": null,
   "id": "1687ab1e-cb51-4d88-8aac-39655110c711",
   "metadata": {},
   "outputs": [],
   "source": []
  },
  {
   "cell_type": "code",
   "execution_count": null,
   "id": "e6fea5b5-191c-4ee7-be87-e7cc47a123f3",
   "metadata": {},
   "outputs": [],
   "source": [
    "N = ot.Normal()\n",
    "func = ot.SymbolicFunction([\"x\"], [\"abs(x)\"])"
   ]
  },
  {
   "cell_type": "code",
   "execution_count": null,
   "id": "31cd7a4a-8080-492e-bcd3-f818072e212e",
   "metadata": {},
   "outputs": [],
   "source": []
  }
 ],
 "metadata": {
  "kernelspec": {
   "display_name": "Python 3 (ipykernel)",
   "language": "python",
   "name": "python3"
  },
  "language_info": {
   "codemirror_mode": {
    "name": "ipython",
    "version": 3
   },
   "file_extension": ".py",
   "mimetype": "text/x-python",
   "name": "python",
   "nbconvert_exporter": "python",
   "pygments_lexer": "ipython3",
   "version": "3.13.0"
  }
 },
 "nbformat": 4,
 "nbformat_minor": 5
}
