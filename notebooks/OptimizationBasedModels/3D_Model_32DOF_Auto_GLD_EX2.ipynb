{
 "cells": [
  {
   "cell_type": "code",
   "execution_count": 1,
   "id": "872744ae-a8b8-4796-9eff-ecbae30ae4c4",
   "metadata": {},
   "outputs": [],
   "source": [
    "import os\n",
    "import pickle\n",
    "import re\n",
    "import pprint\n",
    "import numpy as np\n",
    "import sympy as sp\n",
    "import openturns as ot\n",
    "# Display the final graph\n",
    "import openturns.viewer as viewer\n",
    "import matplotlib.pyplot as plt\n",
    "import trimesh as tr\n",
    "from importlib import reload\n",
    "from functools import partial\n",
    "\n",
    "from math import pi\n",
    "from joblib import Parallel, delayed\n",
    "from importlib import reload\n",
    "from IPython.display import display, clear_output\n",
    "from time import time\n",
    "from sympy.printing import latex\n",
    "from trimesh import viewer as trview\n",
    "import sklearn\n",
    "\n",
    "from scipy.optimize import OptimizeResult, minimize, basinhopping, \\\n",
    "                           differential_evolution, brute, shgo, check_grad, \\\n",
    "                           approx_fprime, fsolve, NonlinearConstraint, Bounds, approx_fprime\n",
    "\n",
    "import tqdm\n",
    "import otaf\n",
    "\n",
    "from gldpy import GLD\n",
    "\n",
    "ot.Log.Show(ot.Log.NONE)\n",
    "np.set_printoptions(suppress=True)\n",
    "ar = np.array"
   ]
  },
  {
   "cell_type": "markdown",
   "id": "4817c72a-0818-4d16-a347-bc57ef3cf4d7",
   "metadata": {},
   "source": [
    "# Notebook for the analysis of a system comprised of N + 2 parts, 2 plates with N = N1 x N2 holes, and N pins. "
   ]
  },
  {
   "cell_type": "markdown",
   "id": "dd3f3fc3-09ea-4e9a-bca2-0a532e8398eb",
   "metadata": {},
   "source": [
    "### Defintion on global descriptive parameters"
   ]
  },
  {
   "cell_type": "code",
   "execution_count": 2,
   "id": "91253f14-bf22-495a-b2da-aa89d49d970d",
   "metadata": {},
   "outputs": [],
   "source": [
    "NX = 2 ## Number of holes on x axis\n",
    "NY = 2 ## Number of holes on y axis\n",
    "Dext = 20 ## Diameter of holes in mm\n",
    "Dint = 19.8 ## Diameter of pins in mm\n",
    "EH = 50 ## Distance between the hole axises\n",
    "LB = 25 # Distance between border holes axis and edge.\n",
    "hPlate = 30 #Height of the plates in mm\n",
    "hPin = 60 #Height of the pins in mm\n",
    "\n",
    "CIRCLE_RESOLUTION = 16 # NUmber of points to model the contour of the outer holes"
   ]
  },
  {
   "cell_type": "markdown",
   "id": "57fa6a57-ff00-4438-9487-0304ddcf7cd9",
   "metadata": {},
   "source": [
    "### Defining and constructing the system data dictionary\n",
    "\n",
    "The plates have NX * NY + 1 surfaces. The lower left point has coordinate 0,0,0\n",
    "\n",
    "We only model the surfaces that are touching. "
   ]
  },
  {
   "cell_type": "code",
   "execution_count": 3,
   "id": "9be0ccd7-a39e-4eef-83c8-ff9d759040bd",
   "metadata": {},
   "outputs": [],
   "source": [
    "N_PARTS = NX * NY * 2\n",
    "LX = (NX - 1) * EH + 2*LB\n",
    "LY = (NY - 1) * EH + 2*LB\n",
    "\n",
    "contour_points = ar([[0,0,0],[LX,0,0],[LX,LY,0],[0,LY,0]])\n",
    "\n",
    "R0 = ar([[1, 0, 0], [0, 1, 0], [0, 0, 1]])\n",
    "x_, y_, z_ = R0[0], R0[1], R0[2]\n",
    "\n",
    "Frame1 = ar([z_,y_,-x_])\n",
    "Frame2 = ar([-z_,y_,x_])"
   ]
  },
  {
   "cell_type": "markdown",
   "id": "42692f0e-e845-4efa-9470-805dc0d65b3b",
   "metadata": {},
   "source": [
    "First we define the base part dictionaries for the upper and lower plate, without holes"
   ]
  },
  {
   "cell_type": "code",
   "execution_count": 4,
   "id": "35a1bb46-a7f6-4d9d-82f0-07ceccb9ed9d",
   "metadata": {},
   "outputs": [],
   "source": [
    "system_data = {\n",
    "    \"PARTS\" : {\n",
    "        '0' : {\n",
    "            \"a\" : {\n",
    "                \"FRAME\": Frame1,\n",
    "                \"POINTS\": {'A0' : ar([0,0,0]),\n",
    "                           'A1' : ar([LX,0,0]),\n",
    "                           'A2' : ar([LX,LY,0]),\n",
    "                           'A3' : ar([0,LY,0]),\n",
    "                        },\n",
    "                \"TYPE\": \"plane\",\n",
    "                \"INTERACTIONS\": ['P1a'],\n",
    "                \"CONSTRAINTS_D\": [\"PERFECT\"],\n",
    "                \"CONSTRAINTS_G\": [\"SLIDING\"],            \n",
    "            }\n",
    "        },\n",
    "        '1' : {\n",
    "            \"a\" : {\n",
    "                \"FRAME\": Frame2,\n",
    "                \"POINTS\": {'A0' : ar([0,0,0]),\n",
    "                           'A1' : ar([LX,0,0]),\n",
    "                           'A2' : ar([LX,LY,0]),\n",
    "                           'A3' : ar([0,LY,0]),\n",
    "                        },\n",
    "                \"TYPE\": \"plane\",\n",
    "                \"INTERACTIONS\": ['P0a'],\n",
    "                \"CONSTRAINTS_D\": [\"PERFECT\"],\n",
    "                \"CONSTRAINTS_G\": [\"SLIDING\"],            \n",
    "            }\n",
    "        }  \n",
    "    },\n",
    "    \"LOOPS\": {\n",
    "        \"COMPATIBILITY\": {\n",
    "        },\n",
    "    },\n",
    "    \"GLOBAL_CONSTRAINTS\": \"3D\",\n",
    "}"
   ]
  },
  {
   "cell_type": "markdown",
   "id": "e1e81a47-6214-4774-ab58-8d16bd43ac9b",
   "metadata": {},
   "source": [
    "Then we iterate over the pin dimensions NX and NY, and create the corresponding holes and pins. At the same time there is 1 loop per pin"
   ]
  },
  {
   "cell_type": "code",
   "execution_count": 5,
   "id": "29491ebe-37b5-4879-a740-64db3434d62e",
   "metadata": {},
   "outputs": [],
   "source": [
    "alpha_gen = otaf.common.alphabet_generator()\n",
    "next(alpha_gen) # skipping 'a' as it has already been used above\n",
    "part_id = 2 # Start part index for pins\n",
    "for i in range(NX):\n",
    "    for j in range(NY):\n",
    "        pcor = ar([LB+i*EH, LB+j*EH, 0]) # Point coordinate for hole / pins\n",
    "        slab = next(alpha_gen) # Surface label, same for each mating pin so its easeir to track\n",
    "        # Creating pin\n",
    "        system_data[\"PARTS\"][str(part_id)] = {}\n",
    "        system_data[\"PARTS\"][str(part_id)][slab] = {\n",
    "            \"FRAME\": Frame1, # Frame doesn't really matter, as long as x is aligned on the axis\n",
    "            \"ORIGIN\": pcor, \n",
    "            \"TYPE\": \"cylinder\",\n",
    "            \"RADIUS\": Dint / 2,\n",
    "            \"EXTENT_LOCAL\": {\"x_max\": hPin/2, \"x_min\": -hPin/2},\n",
    "            \"INTERACTIONS\": [f\"P0{slab}\", f\"P1{slab}\"], \n",
    "            \"SURFACE_DIRECTION\": \"centrifugal\",\n",
    "            \"CONSTRAINTS_D\": [\"PERFECT\"], # No defects on the pins\n",
    "            \"BLOCK_ROTATIONS_G\": 'x', # The pins do not rotate around their axis\n",
    "            \"BLOCK_TRANSLATIONS_G\": 'x', # The pins do not slide along their axis\n",
    "        }\n",
    "        # Adding hole to part 0\n",
    "        system_data[\"PARTS\"][\"0\"][slab] = {\n",
    "            \"FRAME\": Frame1,\n",
    "            \"ORIGIN\": pcor, \n",
    "            \"TYPE\": \"cylinder\",\n",
    "            \"RADIUS\": Dext / 2,\n",
    "            \"EXTENT_LOCAL\": {\"x_max\": hPin/2, \"x_min\": -hPin/2},\n",
    "            \"INTERACTIONS\": [f\"P{part_id}{slab}\"], \n",
    "            \"SURFACE_DIRECTION\": \"centripetal\",\n",
    "        }\n",
    "        # Adding hole to part 1\n",
    "        system_data[\"PARTS\"][\"1\"][slab] = {\n",
    "            \"FRAME\": Frame2,\n",
    "            \"ORIGIN\": pcor, \n",
    "            \"TYPE\": \"cylinder\",\n",
    "            \"RADIUS\": Dext / 2,\n",
    "            \"EXTENT_LOCAL\": {\"x_max\": hPin/2, \"x_min\": -hPin/2},\n",
    "            \"INTERACTIONS\": [f\"P{part_id}{slab}\"],\n",
    "            \"SURFACE_DIRECTION\": \"centripetal\",\n",
    "        }\n",
    "        # Construct Compatibility loop\n",
    "        loop_id = f\"L{part_id-1}\"\n",
    "        formater = lambda i,l : f\"P{i}{l}{l.upper()}0\" \n",
    "        system_data[\"LOOPS\"][\"COMPATIBILITY\"][loop_id] = f\"P0aA0 -> {formater(0,slab)} -> {formater(part_id,slab)} -> {formater(1,slab)} -> P1aA0\"\n",
    "        part_id += 1  "
   ]
  },
  {
   "cell_type": "code",
   "execution_count": 6,
   "id": "293f981a-efe3-4b44-b9f3-b7a580cf3829",
   "metadata": {},
   "outputs": [],
   "source": [
    "SDA = otaf.AssemblyDataProcessor(system_data)\n",
    "SDA.generate_expanded_loops()"
   ]
  },
  {
   "cell_type": "code",
   "execution_count": 7,
   "id": "e3e26ae8-3e27-496d-ac65-9f4385d89105",
   "metadata": {},
   "outputs": [],
   "source": [
    "CLH = otaf.CompatibilityLoopHandling(SDA)\n",
    "compatibility_expressions = CLH.get_compatibility_expression_from_FO_matrices()"
   ]
  },
  {
   "cell_type": "code",
   "execution_count": 8,
   "id": "87736588-7cec-4360-b748-2dfc7666461e",
   "metadata": {
    "scrolled": true
   },
   "outputs": [
    {
     "name": "stdout",
     "output_type": "stream",
     "text": [
      "Processing part 0, surface b for cylinder-to-cylinder interactions.\n",
      "usedGMatDat [['0', 'b', 'B0', '2', 'b', 'B0']]\n",
      "Found 1 used gap matrices.\n",
      "unusedGMatDat [['0', 'b', 'B1', '2', 'b', 'B1'], ['0', 'b', 'B2', '2', 'b', 'B2']]\n",
      "Found 2 unused gap matrices.\n",
      "Matching used and unused gap matrices: GP0bB0P2bB0 with GP0bB1P2bB1\n",
      "Matching used and unused gap matrices: GP0bB0P2bB0 with GP0bB2P2bB2\n",
      "Generated 32 interaction equations for current matching.\n",
      "Total interaction equations generated: 32\n",
      "Processing part 0, surface c for cylinder-to-cylinder interactions.\n",
      "usedGMatDat [['0', 'c', 'C0', '3', 'c', 'C0']]\n",
      "Found 1 used gap matrices.\n",
      "unusedGMatDat [['0', 'c', 'C1', '3', 'c', 'C1'], ['0', 'c', 'C2', '3', 'c', 'C2']]\n",
      "Found 2 unused gap matrices.\n",
      "Matching used and unused gap matrices: GP0cC0P3cC0 with GP0cC1P3cC1\n",
      "Matching used and unused gap matrices: GP0cC0P3cC0 with GP0cC2P3cC2\n",
      "Generated 32 interaction equations for current matching.\n",
      "Total interaction equations generated: 32\n",
      "Processing part 0, surface d for cylinder-to-cylinder interactions.\n",
      "usedGMatDat [['0', 'd', 'D0', '4', 'd', 'D0']]\n",
      "Found 1 used gap matrices.\n",
      "unusedGMatDat [['0', 'd', 'D1', '4', 'd', 'D1'], ['0', 'd', 'D2', '4', 'd', 'D2']]\n",
      "Found 2 unused gap matrices.\n",
      "Matching used and unused gap matrices: GP0dD0P4dD0 with GP0dD1P4dD1\n",
      "Matching used and unused gap matrices: GP0dD0P4dD0 with GP0dD2P4dD2\n",
      "Generated 32 interaction equations for current matching.\n",
      "Total interaction equations generated: 32\n",
      "Processing part 0, surface e for cylinder-to-cylinder interactions.\n",
      "usedGMatDat [['0', 'e', 'E0', '5', 'e', 'E0']]\n",
      "Found 1 used gap matrices.\n",
      "unusedGMatDat [['0', 'e', 'E1', '5', 'e', 'E1'], ['0', 'e', 'E2', '5', 'e', 'E2']]\n",
      "Found 2 unused gap matrices.\n",
      "Matching used and unused gap matrices: GP0eE0P5eE0 with GP0eE1P5eE1\n",
      "Matching used and unused gap matrices: GP0eE0P5eE0 with GP0eE2P5eE2\n",
      "Generated 32 interaction equations for current matching.\n",
      "Total interaction equations generated: 32\n",
      "Processing part 1, surface a for plane-to-plane interactions.\n",
      "usedGMatDat [['1', 'a', 'A0', '0', 'a', 'A0']]\n",
      "Found 1 used gap matrices.\n",
      "unusedGMatDat [['1', 'a', 'A3', '0', 'a', 'A3'], ['1', 'a', 'A2', '0', 'a', 'A2'], ['1', 'a', 'A1', '0', 'a', 'A1']]\n",
      "Found 3 unused gap matrices.\n",
      "Generated 3 interaction matrix loops for current matching.\n",
      "Processing part 2, surface b for cylinder-to-cylinder interactions.\n",
      "usedGMatDat [['2', 'b', 'B0', '1', 'b', 'B0']]\n",
      "Found 1 used gap matrices.\n",
      "unusedGMatDat [['2', 'b', 'B1', '1', 'b', 'B2'], ['2', 'b', 'B2', '1', 'b', 'B1'], ['2', 'b', 'B2', '0', 'b', 'B2'], ['2', 'b', 'B1', '0', 'b', 'B1'], ['2', 'b', 'B0', '0', 'b', 'B0']]\n",
      "Found 5 unused gap matrices.\n",
      "Matching used and unused gap matrices: GP2bB0P1bB0 with GP2bB1P1bB2\n",
      "Matching used and unused gap matrices: GP2bB0P1bB0 with GP2bB2P1bB1\n",
      "Generated 32 interaction equations for current matching.\n",
      "Total interaction equations generated: 32\n",
      "Processing part 3, surface c for cylinder-to-cylinder interactions.\n",
      "usedGMatDat [['3', 'c', 'C0', '1', 'c', 'C0']]\n",
      "Found 1 used gap matrices.\n",
      "unusedGMatDat [['3', 'c', 'C2', '1', 'c', 'C1'], ['3', 'c', 'C0', '0', 'c', 'C0'], ['3', 'c', 'C1', '1', 'c', 'C2'], ['3', 'c', 'C1', '0', 'c', 'C1'], ['3', 'c', 'C2', '0', 'c', 'C2']]\n",
      "Found 5 unused gap matrices.\n",
      "Matching used and unused gap matrices: GP3cC0P1cC0 with GP3cC2P1cC1\n",
      "Matching used and unused gap matrices: GP3cC0P1cC0 with GP3cC1P1cC2\n",
      "Generated 32 interaction equations for current matching.\n",
      "Total interaction equations generated: 32\n",
      "Processing part 4, surface d for cylinder-to-cylinder interactions.\n",
      "usedGMatDat [['4', 'd', 'D0', '1', 'd', 'D0']]\n",
      "Found 1 used gap matrices.\n",
      "unusedGMatDat [['4', 'd', 'D1', '1', 'd', 'D2'], ['4', 'd', 'D0', '0', 'd', 'D0'], ['4', 'd', 'D1', '0', 'd', 'D1'], ['4', 'd', 'D2', '1', 'd', 'D1'], ['4', 'd', 'D2', '0', 'd', 'D2']]\n",
      "Found 5 unused gap matrices.\n",
      "Matching used and unused gap matrices: GP4dD0P1dD0 with GP4dD1P1dD2\n",
      "Matching used and unused gap matrices: GP4dD0P1dD0 with GP4dD2P1dD1\n",
      "Generated 32 interaction equations for current matching.\n",
      "Total interaction equations generated: 32\n",
      "Processing part 5, surface e for cylinder-to-cylinder interactions.\n",
      "usedGMatDat [['5', 'e', 'E0', '1', 'e', 'E0']]\n",
      "Found 1 used gap matrices.\n",
      "unusedGMatDat [['5', 'e', 'E2', '1', 'e', 'E1'], ['5', 'e', 'E1', '1', 'e', 'E2'], ['5', 'e', 'E1', '0', 'e', 'E1'], ['5', 'e', 'E2', '0', 'e', 'E2'], ['5', 'e', 'E0', '0', 'e', 'E0']]\n",
      "Found 5 unused gap matrices.\n",
      "Matching used and unused gap matrices: GP5eE0P1eE0 with GP5eE2P1eE1\n",
      "Matching used and unused gap matrices: GP5eE0P1eE0 with GP5eE1P1eE2\n",
      "Generated 32 interaction equations for current matching.\n",
      "Total interaction equations generated: 32\n"
     ]
    }
   ],
   "source": [
    "ILH = otaf.InterfaceLoopHandling(SDA, CLH, circle_resolution=CIRCLE_RESOLUTION)\n",
    "interface_constraints = ILH.get_interface_loop_expressions()"
   ]
  },
  {
   "cell_type": "code",
   "execution_count": 9,
   "id": "31d2f4ba-f4bd-425a-ba0c-50cabc500272",
   "metadata": {},
   "outputs": [
    {
     "name": "stdout",
     "output_type": "stream",
     "text": [
      "32 [v_d_0, w_d_0, beta_d_0, gamma_d_0, v_d_2, w_d_2, beta_d_2, gamma_d_2, v_d_5, w_d_5, beta_d_5, gamma_d_5, v_d_7, w_d_7, beta_d_7, gamma_d_7, v_d_8, w_d_8, beta_d_8, gamma_d_8, v_d_10, w_d_10, beta_d_10, gamma_d_10, v_d_11, w_d_11, beta_d_11, gamma_d_11, v_d_13, w_d_13, beta_d_13, gamma_d_13]\n"
     ]
    }
   ],
   "source": [
    "SOCAM = otaf.SystemOfConstraintsAssemblyModel(\n",
    "    compatibility_expressions, interface_constraints\n",
    ")\n",
    "\n",
    "SOCAM.embedOptimizationVariable()\n",
    "\n",
    "print(len(SOCAM.deviation_symbols), SOCAM.deviation_symbols)"
   ]
  },
  {
   "cell_type": "markdown",
   "id": "e1be834b-fc7d-4fc3-85eb-2d8768c446ed",
   "metadata": {},
   "source": [
    "## Construction of the stochastic model of the defects.\n",
    "\n",
    "These are the max variances. "
   ]
  },
  {
   "cell_type": "code",
   "execution_count": 10,
   "id": "31049a41-8b2a-49c0-8142-2819f94c51ee",
   "metadata": {},
   "outputs": [],
   "source": [
    "tol = 0.1 * np.sqrt(2)\n",
    "Cm = 1  # Process capability\n",
    "\n",
    "# Defining the uncertainties on the position and orientation uncertainties.\n",
    "sigma_e_pos = tol / (6 * Cm)\n",
    "theta_max = tol / hPlate\n",
    "sigma_e_theta = (2 * theta_max) / (6 * Cm)"
   ]
  },
  {
   "cell_type": "code",
   "execution_count": 11,
   "id": "449f3658-2055-4cd6-a9bb-0ef7d520204f",
   "metadata": {},
   "outputs": [],
   "source": [
    "RandDeviationVect = otaf.distribution.get_composed_normal_defect_distribution(\n",
    "    defect_names=SOCAM.deviation_symbols,\n",
    "    sigma_dict = {\"alpha\":sigma_e_theta, \n",
    "                  \"beta\":sigma_e_theta,\n",
    "                  \"gamma\":sigma_e_theta, \n",
    "                  \"u\":sigma_e_pos, \n",
    "                  \"v\":sigma_e_pos, \n",
    "                  \"w\":sigma_e_pos})\n",
    "dim_devs = int(RandDeviationVect.getDimension())"
   ]
  },
  {
   "cell_type": "markdown",
   "id": "e58a0a59-111e-461e-b796-afacf7adce72",
   "metadata": {},
   "source": [
    "## Estimating the bounds on the probability of failure of the model.\n",
    "\n",
    "- First by exploring the whle parameter space, by generating a LHS in the (normalized) parameter space and doing a double loop montecarlo\n",
    "- By using the parameter constraint function to guide an optimization algorithm to find the bounds on the probability of failure"
   ]
  },
  {
   "cell_type": "markdown",
   "id": "f55b207f-7a0c-4bdd-96d3-12d235ee3202",
   "metadata": {},
   "source": [
    "## Now lets first to a double loop monte-carlo to explore the full space of the parameters (using the intermediate lambda space) and the stochastic space, to be able to draw the full P-Box of the slack"
   ]
  },
  {
   "cell_type": "markdown",
   "id": "60040ec1-5d78-428e-ba44-6b6adb01de5f",
   "metadata": {},
   "source": [
    "### Explicit constraint function on the 4 degrees of freedom of the cylindrical tolerance zone :\n",
    "\n",
    "$$λu2​+λv2​+λα2​+λβ2​+2(λu​λα​+λv​λβ​)−1=0$$\n",
    "\n",
    "This the constraint on the multipliers of the max standard deviation for each component of the DOFs. The defects are normal, centered and independent"
   ]
  },
  {
   "cell_type": "code",
   "execution_count": 12,
   "id": "640d99d7-56c6-4b9f-a4de-d28268b35398",
   "metadata": {},
   "outputs": [
    {
     "ename": "NameError",
     "evalue": "name 'STOP' is not defined",
     "output_type": "error",
     "traceback": [
      "\u001b[0;31m---------------------------------------------------------------------------\u001b[0m",
      "\u001b[0;31mNameError\u001b[0m                                 Traceback (most recent call last)",
      "Cell \u001b[0;32mIn[12], line 1\u001b[0m\n\u001b[0;32m----> 1\u001b[0m \u001b[43mSTOP\u001b[49m\n",
      "\u001b[0;31mNameError\u001b[0m: name 'STOP' is not defined"
     ]
    }
   ],
   "source": [
    "STOP"
   ]
  },
  {
   "cell_type": "code",
   "execution_count": null,
   "id": "3a94e1fe-9ae9-4000-96d5-1c1a896f28ab",
   "metadata": {
    "scrolled": true
   },
   "outputs": [],
   "source": [
    "bounds = None\n",
    "SEED_MC_PF = 6436431\n",
    "SIZE_MC_PF = 20000 #int(1e6) #1e4\n",
    "s_values = np.zeros((N_lambda, SIZE_MC_PF)) # For each MC point we have a s value\n",
    "GLD_parameters = [] # We need the parameters of the generalized lambda distribution.\n",
    "failure_probabilities = []\n",
    "# Generalized lambda distribution object for fitting\n",
    "gld = GLD('VSL')\n",
    "\n",
    "start_time = time()  # Record the start time\n",
    "for i in range(N_lambda):\n",
    "    print(f\"Doing iteration {i} of {N_lambda}\")\n",
    "    if i>0:\n",
    "        fp = failure_probabilities\n",
    "        print(f\"Failure probability i-1 : {fp[i-1]}, Min: {min(fp)}, / Max: {max(fp)}\")\n",
    "        print(\"s_mean: \", s_values.mean().round(3), \"s_min: \", np.nanmin(s_values).round(3), \"s_max: \", np.nanmax(s_values).round(3))\n",
    "\n",
    "    ot.RandomGenerator.SetSeed(SEED_MC_PF)\n",
    "    deviation_samples = np.array(RandDeviationVect.getSample(SIZE_MC_PF)) * np.array(\n",
    "        lambda_sample_conditioned[i]\n",
    "    )\n",
    "    optimizations = otaf.uncertainty.compute_gap_optimizations_on_sample(\n",
    "            SOCAM,\n",
    "            deviation_samples,\n",
    "            bounds=bounds,\n",
    "            n_cpu=-1,\n",
    "            progress_bar=True,\n",
    "        )\n",
    "    \n",
    "    slack = np.array([opt.fun for opt in optimizations], dtype=float)*-1 #Normally there aren\"t any nans.\n",
    "    s_values[i,:] = slack\n",
    "    GLD_parameters.append(gld.fit_LMM(slack, disp_fit=False, disp_optimizer=False))\n",
    "    failure_probabilities.append(gld.CDF_num(0, GLD_parameters[i]))\n",
    "\n",
    "\n",
    "print(f\"Done {len (lambda_sample_conditioned)} experiments.\")\n",
    "print(f\"Elapsed time: {time() - start_time:.3f} seconds.\")"
   ]
  },
  {
   "cell_type": "code",
   "execution_count": null,
   "id": "116d7e37-a5a0-4371-983b-aad3fb8ba30f",
   "metadata": {},
   "outputs": [],
   "source": [
    "X = otaf.sampling.find_best_worst_quantile(np.array(lambda_sample_conditioned), np.array(failure_probabilities), 0.1)\n",
    "(best_5p_lambda, best_5p_res), (worst_5p_lambda, worst_5p_res) = X"
   ]
  },
  {
   "cell_type": "code",
   "execution_count": null,
   "id": "4ef201d9-f0c7-4d9a-8431-da3f26fab7e7",
   "metadata": {},
   "outputs": [],
   "source": [
    "distributions = [ot.UserDefined(ot.Sample(s[:,np.newaxis])) for s in s_values]\n",
    "x_min, x_max = -0.03, 0.11\n",
    "sup_data, inf_data = otaf.distribution.compute_sup_inf_distributions(distributions, x_min, x_max)"
   ]
  },
  {
   "cell_type": "code",
   "execution_count": null,
   "id": "42d09b7e-a700-4d30-9e13-4d7cd8c71c34",
   "metadata": {},
   "outputs": [],
   "source": [
    "# Initialize colors and legends for each lambda sample\n",
    "colors = [[\"grey\"]] * lambda_sample_conditioned.getSize()\n",
    "legends = [\"\"] * lambda_sample_conditioned.getSize()\n",
    "\n",
    "# Plot the combined CDF with additional curves for the envelopes\n",
    "graph_full = otaf.plotting.plot_combined_CDF(distributions, x_min, x_max, colors, legends)\n",
    "graph_full = otaf.plotting.set_graph_legends(\n",
    "    graph_full,\n",
    "    x_title=\"j\",\n",
    "    y_title=\"P\",\n",
    "    title=\"Slack P-BOX 32 dimensions\",\n",
    "    legends=legends\n",
    ")\n",
    "\n",
    "# Add the upper and lower envelopes to the graph\n",
    "graph_full.add(ot.Curve(inf_data, \"blue\", \"solid\", 1.5, \"lower envelope\"))\n",
    "graph_full.add(ot.Curve(sup_data, \"red\", \"solid\", 1.5, \"upper envelope\"))\n",
    "view = viewer.View(graph_full, pixelsize=(1100, 750))"
   ]
  },
  {
   "cell_type": "code",
   "execution_count": null,
   "id": "59e9ac3f-503d-4d98-804a-507201a7e55a",
   "metadata": {},
   "outputs": [],
   "source": [
    "min(failure_probabilities)"
   ]
  },
  {
   "cell_type": "markdown",
   "id": "b175ab42-9b8b-4e48-abd4-55fb64a25d79",
   "metadata": {},
   "source": [
    "# Now we'll use the other lambda modelization, a bit more difficutl to sample"
   ]
  },
  {
   "cell_type": "code",
   "execution_count": null,
   "id": "7cc29a0a-6b65-47e8-9c0d-6ce3ca604abb",
   "metadata": {},
   "outputs": [],
   "source": [
    "lambda_limit_sample = otaf.sampling.generate_imprecise_probabilistic_samples([4]*8, -1, discretization=1)\n",
    "lambda_limit_sample_sub_choice = [next(lambda_limit_sample) for _ in range(60000)]\n",
    "lambda_limit_sample_sub_choice = np.stack(lambda_limit_sample_sub_choice)\n",
    "print(lambda_limit_sample_sub_choice.shape)"
   ]
  },
  {
   "cell_type": "code",
   "execution_count": null,
   "id": "cc7a0477-968f-4b75-8450-316b000245cf",
   "metadata": {},
   "outputs": [],
   "source": [
    "def solve_for_lambda_beta(lambda_u, lambda_v, lambda_alpha):\n",
    "    \"\"\"\n",
    "    Solve the equation for lambda_beta given lambda_u, lambda_v, and lambda_alpha.\n",
    "    \"\"\"\n",
    "    def equation(lambda_beta):\n",
    "        return (lambda_u**2 + lambda_v**2 + lambda_alpha**2 + lambda_beta**2 +\n",
    "                2 * (lambda_u * lambda_alpha + lambda_v * lambda_beta) - 1)\n",
    "    \n",
    "    # Use a root-finding method to solve for lambda_beta\n",
    "    lambda_beta_initial_guess = 0.5\n",
    "    lambda_beta_solution = fsolve(equation, lambda_beta_initial_guess)[0]\n",
    "    \n",
    "    return lambda_beta_solution\n",
    "\n",
    "def generate_points_on_surface(num_points=1000):\n",
    "    \"\"\"\n",
    "    Generate points on the surface by solving for lambda_beta\n",
    "    given random values for lambda_u, lambda_v, and lambda_alpha.\n",
    "    \n",
    "    Returns:\n",
    "    - A numpy array of shape (num_valid_points, 4) where each row is \n",
    "      (lambda_u, lambda_v, lambda_alpha, lambda_beta).\n",
    "    \"\"\"\n",
    "    # Generate random values for lambda_u, lambda_v, lambda_alpha in [0, 1]\n",
    "    lambda_u = np.random.rand(num_points)\n",
    "    lambda_v = np.random.rand(num_points)\n",
    "    lambda_alpha = np.random.rand(num_points)\n",
    "    \n",
    "    # Assume lambda_beta = 0 and check if the inequality is satisfied\n",
    "    inequality_values = lambda_u**2 + lambda_v**2 + lambda_alpha**2 + 2 * (lambda_u * lambda_alpha)\n",
    "\n",
    "    # Filter valid points where inequality holds\n",
    "    valid_mask = inequality_values <= 1\n",
    "    lambda_u_valid = lambda_u[valid_mask]\n",
    "    lambda_v_valid = lambda_v[valid_mask]\n",
    "    lambda_alpha_valid = lambda_alpha[valid_mask]\n",
    "    \n",
    "    # Solve for lambda_beta for valid points\n",
    "    lambda_beta_valid = np.array([solve_for_lambda_beta(u, v, a) \n",
    "                                  for u, v, a in zip(lambda_u_valid, lambda_v_valid, lambda_alpha_valid)])\n",
    "\n",
    "    # Only keep points where the solved lambda_beta is between 0 and 1\n",
    "    final_mask = (lambda_beta_valid >= 0) & (lambda_beta_valid <= 1)\n",
    "    final_points = np.vstack((lambda_u_valid[final_mask],\n",
    "                              lambda_v_valid[final_mask],\n",
    "                              lambda_alpha_valid[final_mask],\n",
    "                              lambda_beta_valid[final_mask])).T\n",
    "    \n",
    "    return final_points\n",
    "\n",
    "# Generate the points on the surface\n",
    "points = generate_points_on_surface(num_points=20000)\n",
    "\n",
    "# Call the pair_plot function (assuming it's already defined)\n",
    "labels = ['lambda_u', 'lambda_v', 'lambda_alpha', 'lambda_beta']\n",
    "#otaf.plotting.pair_plot(points, labels)"
   ]
  },
  {
   "cell_type": "code",
   "execution_count": null,
   "id": "dbec9b31-167f-41ab-a3d2-38000577a48e",
   "metadata": {},
   "outputs": [],
   "source": [
    "random_lambda_sample = [points[np.random.choice(points.shape[0], 200, replace=False)] for _ in range(8)]\n",
    "random_lambda_sample = np.hstack(random_lambda_sample)"
   ]
  },
  {
   "cell_type": "code",
   "execution_count": null,
   "id": "2d2a858d-1a85-48cd-841e-205c10da8e16",
   "metadata": {
    "scrolled": true
   },
   "outputs": [],
   "source": [
    "N_lambda = random_lambda_sample.shape[0]\n",
    "bounds = None\n",
    "SEED_MC_PF = 6436431\n",
    "SIZE_MC_PF = 10000 #int(1e6) #1e4\n",
    "s_values = np.zeros((N_lambda, SIZE_MC_PF)) # For each MC point we have a s value\n",
    "GLD_parameters = [] # We need the parameters of the generalized lambda distribution.\n",
    "failure_probabilities = []\n",
    "# Generalized lambda distribution object for fitting\n",
    "gld = GLD('VSL')\n",
    "\n",
    "start_time = time()  # Record the start time\n",
    "for i in range(N_lambda):\n",
    "    print(f\"Doing iteration {i} of {N_lambda}\")\n",
    "    if i>0:\n",
    "        fp = failure_probabilities\n",
    "        print(f\"Failure probability i-1 : {fp[i-1]}, Min: {min(fp)}, / Max: {max(fp)}\")\n",
    "        print(\"s_mean: \", s_values.mean().round(3), \"s_min: \", np.nanmin(s_values).round(3), \"s_max: \", np.nanmax(s_values).round(3))\n",
    "\n",
    "    ot.RandomGenerator.SetSeed(SEED_MC_PF)\n",
    "    deviation_samples = np.array(RandDeviationVect.getSample(SIZE_MC_PF)) * random_lambda_sample[i]\n",
    "    optimizations = otaf.uncertainty.compute_gap_optimizations_on_sample(\n",
    "            SOCAM,\n",
    "            deviation_samples,\n",
    "            bounds=bounds,\n",
    "            n_cpu=-1,\n",
    "            progress_bar=True,\n",
    "        )\n",
    "    \n",
    "    slack = np.array([opt.fun for opt in optimizations], dtype=float)*-1 #Normally there aren\"t any nans.\n",
    "    s_values[i,:] = slack\n",
    "    GLD_parameters.append(gld.fit_LMM(slack, disp_fit=False, disp_optimizer=False))\n",
    "    failure_probabilities.append(gld.CDF_num(0, GLD_parameters[i]))\n",
    "\n",
    "\n",
    "print(f\"Done {N_lambda} experiments.\")\n",
    "print(f\"Elapsed time: {time() - start_time:.3f} seconds.\")"
   ]
  },
  {
   "cell_type": "code",
   "execution_count": null,
   "id": "48ba797e-b00f-4523-8476-b97e5b4c132e",
   "metadata": {},
   "outputs": [],
   "source": [
    "X = otaf.sampling.find_best_worst_quantile(np.array(random_lambda_sample), np.array(failure_probabilities), 0.1)\n",
    "(best_5p_lambda, best_5p_res), (worst_5p_lambda, worst_5p_res) = X"
   ]
  },
  {
   "cell_type": "code",
   "execution_count": null,
   "id": "ca6d1b15-9131-4741-a4cb-b4217637c2eb",
   "metadata": {},
   "outputs": [],
   "source": [
    "distributions = [ot.UserDefined(ot.Sample(s[:,np.newaxis])) for s in s_values]\n",
    "x_min, x_max = -0.03, 0.11\n",
    "sup_data, inf_data = otaf.distribution.compute_sup_inf_distributions(distributions, x_min, x_max)"
   ]
  },
  {
   "cell_type": "code",
   "execution_count": null,
   "id": "3527d338-2d2b-43c0-9e76-8e03c57d6240",
   "metadata": {
    "scrolled": true
   },
   "outputs": [],
   "source": [
    "%matplotlib inline"
   ]
  },
  {
   "cell_type": "code",
   "execution_count": null,
   "id": "3a3f384b-26ca-4aa0-8ec1-1471f2884d4f",
   "metadata": {},
   "outputs": [],
   "source": [
    "# Initialize colors and legends for each lambda sample\n",
    "colors = [[\"grey\"]] * N_lambda\n",
    "legends = [\"\"] * N_lambda\n",
    "\n",
    "# Plot the combined CDF with additional curves for the envelopes\n",
    "graph_full = otaf.plotting.plot_combined_CDF(distributions, x_min, x_max, colors, legends)\n",
    "graph_full = otaf.plotting.set_graph_legends(\n",
    "    graph_full,\n",
    "    x_title=\"slack\",\n",
    "    y_title=\"$P_{slack}$\",\n",
    "    title=\"Slack P-BOX 32 dimensions\",\n",
    "    legends=legends\n",
    ")\n",
    "\n",
    "# Add the upper and lower envelopes to the graph\n",
    "graph_full.add(ot.Curve(inf_data, \"blue\", \"solid\", 1.5, \"lower envelope\"))\n",
    "graph_full.add(ot.Curve(sup_data, \"red\", \"solid\", 1.5, \"upper envelope\"))\n",
    "view = viewer.View(graph_full, pixelsize=(1100, 750))"
   ]
  },
  {
   "cell_type": "code",
   "execution_count": null,
   "id": "b9723baf-f91d-4ce9-ad5b-7fcfd88c1bc9",
   "metadata": {},
   "outputs": [],
   "source": [
    "#%matplotlib inline\n",
    "fig = plt.figure(dpi=150)\n",
    "\n",
    "ax = fig.add_subplot(1, 1, 1)\n",
    "ax.plot(sup_data[:, 0], sup_data[:, 1], color=\"tab:orange\", label=\"upper envelope\")\n",
    "ax.plot(inf_data[:, 0], inf_data[:, 1], color=\"tab:blue\", label=\"lower envelope\")\n",
    "ax.grid(True)\n",
    "ax.fill_between(\n",
    "    inf_data[:, 0], inf_data[:, 1], sup_data[:, 1], color=\"gray\", alpha=0.3\n",
    ")\n",
    "ax.set_xlabel(\"slack\")\n",
    "ax.set_ylabel(\"$P_{slack}$\")\n",
    "ax.legend()\n",
    "ax.set_title(\"Slack P-Box 3D Assembly 32D\")"
   ]
  },
  {
   "cell_type": "code",
   "execution_count": null,
   "id": "b176e60a-1b48-467c-bbd8-a654452c511c",
   "metadata": {},
   "outputs": [],
   "source": [
    "print(f\"Minimum failure probability: {np.min(failure_probabilities):.5e}, Maximum failure probability: {np.max(failure_probabilities):.5e}\")"
   ]
  },
  {
   "cell_type": "code",
   "execution_count": null,
   "id": "060f9521-d4fd-483e-a4da-bb5617225b15",
   "metadata": {},
   "outputs": [],
   "source": [
    "STOP"
   ]
  },
  {
   "cell_type": "markdown",
   "id": "26ab91c6-d998-41d1-8739-502140b07ef4",
   "metadata": {},
   "source": [
    "## Global optimization basinhopping with GLD"
   ]
  },
  {
   "cell_type": "markdown",
   "id": "73b659ba-59be-4385-a1a4-d2b2aebc6f5f",
   "metadata": {},
   "source": [
    "### First we define the optimization functions "
   ]
  },
  {
   "cell_type": "code",
   "execution_count": 13,
   "id": "b2b3fbdc-2bc3-4e79-a1b3-2dacfa491e45",
   "metadata": {},
   "outputs": [],
   "source": [
    "SIZE_MC_PF = 10000 #int(1e6) #1e4\n",
    "sample_gld = np.array(RandDeviationVect.getSample(SIZE_MC_PF))\n",
    "scale_factor = 1.0\n",
    "GLD_parameters = [] # We need the parameters of the generalized lambda distribution.\n",
    "\n",
    "# Generalized lambda distribution object for fitting\n",
    "gld = GLD('VSL')\n",
    "\n",
    "def model_base(x, sample=sample_gld):\n",
    "    # Model without surrogate, to get slack\n",
    "    x = sample * np.sqrt(x[np.newaxis, :])\n",
    "    optimization_variables = otaf.uncertainty.compute_gap_optimizations_on_sample_batch(\n",
    "        constraint_matrix_generator=SOCAM,\n",
    "        deviation_array=x,\n",
    "        batch_size=500,\n",
    "        n_cpu=-1,\n",
    "        progress_bar=True,\n",
    "        verbose=0,\n",
    "        dtype=\"float32\",\n",
    "    )\n",
    "    slack_values = optimization_variables[:,-1]\n",
    "    return slack_values\n",
    "\n",
    "@otaf.optimization.scaling(scale_factor)\n",
    "def optimization_function_mini(x, model=model_base):\n",
    "    # Here we search the minimal probability of failure\n",
    "    slack = model(x)\n",
    "    gld_params = gld.fit_LMM(slack, disp_fit=False, disp_optimizer=False)\n",
    "    if np.any(np.isnan(gld_params)):\n",
    "        failure_probability = np.where(slack<0,1,0).mean()\n",
    "    else :\n",
    "        print(\"gld_params:\", gld_params)\n",
    "        failure_probability = gld.CDF_num(0, gld_params)\n",
    "    return failure_probability\n",
    "\n",
    "@otaf.optimization.scaling(scale_factor)\n",
    "def optimization_function_maxi(x, model=model_base):\n",
    "    # Here we search the maximal probability of failure so negative output\n",
    "    slack = model(x)\n",
    "    gld_params = gld.fit_LMM(slack, disp_fit=False, disp_optimizer=False)\n",
    "    if np.any(np.isnan(gld_params)):\n",
    "        failure_probability = np.where(slack<0,1,0).mean()\n",
    "    else :\n",
    "        print(\"gld_params:\", gld_params)\n",
    "        failure_probability = gld.CDF_num(0, gld_params)\n",
    "    return failure_probability*-1"
   ]
  },
  {
   "cell_type": "markdown",
   "id": "dca4216b-dcef-4762-9bb1-613b46c5f111",
   "metadata": {},
   "source": [
    "### Explicit parameter feature constraints (not ideal)"
   ]
  },
  {
   "cell_type": "code",
   "execution_count": 14,
   "id": "f8f63ca8-0615-4769-bdb3-1ca1c71470d3",
   "metadata": {},
   "outputs": [],
   "source": [
    "def cylinder_feature_constraint(la):\n",
    "    \"\"\"Evaluates the cylinder constraint for a given lambda array.\"\"\"\n",
    "    sum_squares = np.dot(la, la)  # Equivalent to la[0]**2 + la[1]**2 + la[2]**2 + la[3]**2\n",
    "    cross_terms = 2 * (la[0] * la[2] + la[1] * la[3])\n",
    "    return sum_squares + cross_terms - 1\n",
    "\n",
    "def cylinder_feature_constraint_jacobian(la):\n",
    "    \"\"\"Computes the analytical Jacobian of the cylinder feature constraint.\"\"\"\n",
    "    u, v, alpha, beta = la\n",
    "    return np.array([\n",
    "        2 * u + 2 * alpha,  # df/du\n",
    "        2 * v + 2 * beta,   # df/dv\n",
    "        2 * alpha + 2 * u,  # df/dalpha\n",
    "        2 * beta + 2 * v    # df/dbeta\n",
    "    ])\n",
    "\n",
    "def assembly_feature_constraint(la8):\n",
    "    \"\"\"Applies the cylinder constraint to each 4-element slice of the lambda array, returning a vector of constraints.\"\"\"\n",
    "    return np.array([cylinder_feature_constraint(la8[i : i + 4]) for i in range(0, len(la8), 4)])\n",
    "\n",
    "def assembly_feature_constraint_jacobian(la8):\n",
    "    \"\"\"Constructs the Jacobian matrix for the vector of constraints, with each row representing the Jacobian of one cylinder constraint.\"\"\"\n",
    "    # Initialize a list to hold each constraint's Jacobian as a row in the matrix\n",
    "    jacobian = []\n",
    "    # Compute Jacobian for each 4-element segment in the lambda array\n",
    "    for i in range(0, len(la8), 4):\n",
    "        row_jacobian = np.zeros(len(la8))  # Create a zeroed row of the appropriate length\n",
    "        row_jacobian[i:i+4] = cylinder_feature_constraint_jacobian(la8[i:i+4])\n",
    "        jacobian.append(row_jacobian)\n",
    "    return np.array(jacobian)\n",
    "\n",
    "\n",
    "def cylinder_feature_constraint_hessian(la):\n",
    "    \"\"\"Computes the Hessian of the cylinder constraint for a given 4-element lambda array.\"\"\"\n",
    "    # Extract variables for readability\n",
    "    u, v, alpha, beta = la\n",
    "    # The Hessian matrix is symmetric, so we only need to define the unique elements\n",
    "    hessian = np.array([\n",
    "        [2, 0, 2, 0],  # d^2f/du^2, d^2f/du dv, d^2f/du dalpha, d^2f/du dbeta\n",
    "        [0, 2, 0, 2],  # d^2f/dv du, d^2f/dv^2, d^2f/dv dalpha, d^2f/dv dbeta\n",
    "        [2, 0, 2, 0],  # d^2f/dalpha du, d^2f/dalpha dv, d^2f/dalpha^2, d^2f/dalpha dbeta\n",
    "        [0, 2, 0, 2]   # d^2f/dbeta du, d^2f/dbeta dv, d^2f/dbeta dalpha, d^2f/dbeta^2\n",
    "    ])\n",
    "    return hessian\n",
    "\n",
    "def assembly_feature_constraint_hessian(la8):\n",
    "    \"\"\"Constructs the full Hessian matrix for the vector of constraints in the assembly.\"\"\"\n",
    "    n_constraints = len(la8) // 4\n",
    "    hessian_blocks = []\n",
    "    \n",
    "    # Build the Hessian by iterating over each 4-element segment\n",
    "    for i in range(n_constraints):\n",
    "        block_hessian = cylinder_feature_constraint_hessian(la8[i*4:i*4+4])\n",
    "        # Place the block into the full Hessian matrix for the constraint function\n",
    "        block_hessian_expanded = np.zeros((len(la8), len(la8)))\n",
    "        block_hessian_expanded[i*4:i*4+4, i*4:i*4+4] = block_hessian\n",
    "        hessian_blocks.append(block_hessian_expanded)\n",
    "    \n",
    "    # Sum the block Hessians to form the full Hessian matrix\n",
    "    full_hessian = np.sum(hessian_blocks, axis=0)\n",
    "    return full_hessian"
   ]
  },
  {
   "cell_type": "markdown",
   "id": "c805656b-91b6-4e12-bd5b-a8f2b984eea6",
   "metadata": {},
   "source": [
    "### Implicit parameter constrants (new version)"
   ]
  },
  {
   "cell_type": "code",
   "execution_count": 15,
   "id": "a0c5ac89-cf9f-44bc-a7bb-7628704e4cea",
   "metadata": {},
   "outputs": [],
   "source": [
    "midof_funcs = otaf.tolerances.MiSdofToleranceZones()\n",
    "\n",
    "feature_constraint_list = []\n",
    "\n",
    "# We know that all features are cylindrical, with same values/dimensions\n",
    "for i in range(8):\n",
    "    fconst = otaf.tolerances.FeatureLevelStatisticalConstraint(\n",
    "        midof_funcs.cylindrical_zone,\n",
    "        mif_args = (tol, hPlate),\n",
    "        n_dof = 4,\n",
    "        n_sample = 30000,\n",
    "        target = \"std\", #\"prob\",\n",
    "        target_val = sigma_e_pos*np.sqrt(1-(2/np.pi)), #0.002699, #\n",
    "        isNormal = True,\n",
    "        normalizeOutput = True,\n",
    "    )\n",
    "    feature_constraint_list.append(fconst)\n",
    "\n",
    "composed_assembly_constraint = otaf.tolerances.ComposedAssemblyLevelStatisticalConstraint(feature_constraint_list)"
   ]
  },
  {
   "cell_type": "code",
   "execution_count": 16,
   "id": "fa8c2424-bc79-4379-bc24-6ca62a8a1e21",
   "metadata": {},
   "outputs": [],
   "source": [
    "param_bounds_one_feature = [[0.0,0.0], [1e-8, sigma_e_pos], #u, mean std\n",
    "                            [0.0,0.0], [1e-8, sigma_e_pos], #v, mean std\n",
    "                            [0.0,0.0], [1e-8, sigma_e_theta], #alpha, mean std\n",
    "                            [0.0,0.0], [1e-8, sigma_e_theta] # beta, mean std\n",
    "                           ]\n",
    "param_bounds = [param_bounds_one_feature] * 8 #We have 8 identical features\n",
    "\n",
    "normalized_assembly_constraint = otaf.tolerances.NormalizedAssemblyLevelConstraint(\n",
    "    composed_assembly_constraint,\n",
    "    param_val_bounds=param_bounds)"
   ]
  },
  {
   "cell_type": "markdown",
   "id": "5836b5ec-5be9-4f70-a69a-4a8e88ea6714",
   "metadata": {},
   "source": [
    "#### The assembly constraint takes as an input the list of list of paramters for all the features. But as the distriutions (normals) are suppposed to be centered, we only need to have the standard deviations as inputs so we construct a little intermediary class that takes as an input only the standard deviations and not the means, and completes the means with 0 to pass it to the assembly constraint. "
   ]
  },
  {
   "cell_type": "code",
   "execution_count": 17,
   "id": "eb8e9f22-18a2-45b1-8385-bd611fc3b614",
   "metadata": {},
   "outputs": [],
   "source": [
    "def assembly_constraint_no_mean(param_list, scale_out=True):\n",
    "    \"\"\" The functions takes directly the concatenated list of all parameters, and reconstructs the right object.\n",
    "    There should be 32 variables\n",
    "    \"\"\"\n",
    "    assert len(param_list)==32, \"problem with input.\"\n",
    "    zer = np.zeros(4) # These are the mean values (all 0)\n",
    "    pl = np.array(param_list)\n",
    "    params_for_assembly = []\n",
    "    for i in range(8):\n",
    "        params = param_list[i*4:i*4+4]\n",
    "        pa = [item for pair in zip(zer, params) for item in pair]\n",
    "        params_for_assembly.append(pa)\n",
    "    res =  normalized_assembly_constraint(params_for_assembly)\n",
    "    if scale_out :\n",
    "        return res * 10\n",
    "    else :\n",
    "        return res"
   ]
  },
  {
   "cell_type": "code",
   "execution_count": 18,
   "id": "23affa0b-94cd-48f7-9c4f-b19222032e53",
   "metadata": {},
   "outputs": [],
   "source": [
    "jac_assembly_constraint_no_mean = lambda x : approx_fprime(x, \n",
    "              assembly_constraint_no_mean,\n",
    "              0.001, \n",
    "              True,)"
   ]
  },
  {
   "cell_type": "markdown",
   "id": "78aa290c-0362-4a63-83cb-d154d98b52f2",
   "metadata": {},
   "source": [
    "#### Now we create the assembly constraint for the optimization (so a non linear constraint)"
   ]
  },
  {
   "cell_type": "code",
   "execution_count": 19,
   "id": "b38aadcb-2449-4f63-848a-8e040c286905",
   "metadata": {},
   "outputs": [],
   "source": [
    "# Define the nonlinear constraint with the updated vector-valued function and Jacobian\n",
    "nonLinearConstraint = NonlinearConstraint(\n",
    "    fun=assembly_constraint_no_mean,\n",
    "    lb = -0.0015 * np.ones((8,)),\n",
    "    ub = 0.0015 * np.ones((8,)),\n",
    "    #jac = jac_assembly_constraint_no_mean, #jac doesn't work for COBYQA\n",
    "    keep_feasible=False,\n",
    ")"
   ]
  },
  {
   "cell_type": "code",
   "execution_count": 20,
   "id": "443b9a4c-a5b7-4f29-add9-b0e2bfaac476",
   "metadata": {
    "scrolled": true
   },
   "outputs": [
    {
     "name": "stdout",
     "output_type": "stream",
     "text": [
      "Starting the optimization procedure.\n",
      "Initial trust-region radius: 5.656854249492381.\n",
      "Final trust-region radius: 0.001.\n",
      "Maximum number of function evaluations: 4000.\n",
      "Maximum number of iterations: 1000.\n",
      "\n"
     ]
    },
    {
     "data": {
      "application/vnd.jupyter.widget-view+json": {
       "model_id": "791794fec00a4338b1929a5793a1ba8e",
       "version_major": 2,
       "version_minor": 0
      },
      "text/plain": [
       "  0%|          | 0/10000 [00:00<?, ?it/s]"
      ]
     },
     "metadata": {},
     "output_type": "display_data"
    },
    {
     "name": "stdout",
     "output_type": "stream",
     "text": [
      "gld_params: [0.05481837 0.01573873 0.35164565 0.12913887]\n",
      "wrapper([ 5.000e-01  5.000e-01 ...  5.000e-01  5.000e-01]) = -0.00010362997544048794\n",
      "assembly_constraint_no_mean([ 5.000e-01  5.000e-01 ...  5.000e-01  5.000e-01]) = [-2.326e+00 -2.326e+00 ... -2.326e+00 -2.326e+00]\n"
     ]
    },
    {
     "data": {
      "application/vnd.jupyter.widget-view+json": {
       "model_id": "1f749b6e12dc4658b4be76051ed2de91",
       "version_major": 2,
       "version_minor": 0
      },
      "text/plain": [
       "  0%|          | 0/10000 [00:00<?, ?it/s]"
      ]
     },
     "metadata": {},
     "output_type": "display_data"
    },
    {
     "name": "stdout",
     "output_type": "stream",
     "text": [
      "gld_params: [0.054515   0.01569114 0.35367967 0.12922188]\n",
      "wrapper([ 1.000e+00  5.000e-01 ...  5.000e-01  5.000e-01]) = -0.00010358797545744223\n",
      "assembly_constraint_no_mean([ 1.000e+00  5.000e-01 ...  5.000e-01  5.000e-01]) = [ 5.856e-01 -2.326e+00 ... -2.326e+00 -2.326e+00]\n"
     ]
    },
    {
     "data": {
      "application/vnd.jupyter.widget-view+json": {
       "model_id": "5303a99664b5401c90ecfefd1b5c4ee5",
       "version_major": 2,
       "version_minor": 0
      },
      "text/plain": [
       "  0%|          | 0/10000 [00:00<?, ?it/s]"
      ]
     },
     "metadata": {},
     "output_type": "display_data"
    },
    {
     "name": "stdout",
     "output_type": "stream",
     "text": [
      "gld_params: [0.05451512 0.01575151 0.3536779  0.13184378]\n",
      "wrapper([ 5.000e-01  1.000e+00 ...  5.000e-01  5.000e-01]) = -9.18032140553351e-05\n",
      "assembly_constraint_no_mean([ 5.000e-01  1.000e+00 ...  5.000e-01  5.000e-01]) = [ 5.893e-01 -2.326e+00 ... -2.326e+00 -2.326e+00]\n"
     ]
    },
    {
     "data": {
      "application/vnd.jupyter.widget-view+json": {
       "model_id": "91fd74a4fe554e69bcc23175fe28bb8e",
       "version_major": 2,
       "version_minor": 0
      },
      "text/plain": [
       "  0%|          | 0/10000 [00:00<?, ?it/s]"
      ]
     },
     "metadata": {},
     "output_type": "display_data"
    },
    {
     "name": "stdout",
     "output_type": "stream",
     "text": [
      "gld_params: [0.05400263 0.01639379 0.33886236 0.12076643]\n",
      "wrapper([ 5.000e-01  5.000e-01 ...  5.000e-01  5.000e-01]) = -0.0004888852530087506\n",
      "assembly_constraint_no_mean([ 5.000e-01  5.000e-01 ...  5.000e-01  5.000e-01]) = [ 5.869e-01 -2.326e+00 ... -2.326e+00 -2.326e+00]\n"
     ]
    },
    {
     "data": {
      "application/vnd.jupyter.widget-view+json": {
       "model_id": "7d6d25e29cfb45e08fa7edc428c25650",
       "version_major": 2,
       "version_minor": 0
      },
      "text/plain": [
       "  0%|          | 0/10000 [00:00<?, ?it/s]"
      ]
     },
     "metadata": {},
     "output_type": "display_data"
    },
    {
     "name": "stdout",
     "output_type": "stream",
     "text": [
      "gld_params: [0.05394509 0.01591579 0.33948106 0.10157751]\n",
      "wrapper([ 5.000e-01  5.000e-01 ...  5.000e-01  5.000e-01]) = -0.0007096412521118038\n",
      "assembly_constraint_no_mean([ 5.000e-01  5.000e-01 ...  5.000e-01  5.000e-01]) = [ 5.899e-01 -2.326e+00 ... -2.326e+00 -2.326e+00]\n"
     ]
    },
    {
     "data": {
      "application/vnd.jupyter.widget-view+json": {
       "model_id": "2ed150dccba04426afcada02b9b63752",
       "version_major": 2,
       "version_minor": 0
      },
      "text/plain": [
       "  0%|          | 0/10000 [00:00<?, ?it/s]"
      ]
     },
     "metadata": {},
     "output_type": "display_data"
    },
    {
     "name": "stdout",
     "output_type": "stream",
     "text": [
      "gld_params: [0.05453623 0.01569579 0.35275609 0.12936734]\n",
      "wrapper([ 5.000e-01  5.000e-01 ...  5.000e-01  5.000e-01]) = -0.00010362997544048794\n",
      "assembly_constraint_no_mean([ 5.000e-01  5.000e-01 ...  5.000e-01  5.000e-01]) = [-2.326e+00  5.856e-01 ... -2.326e+00 -2.326e+00]\n"
     ]
    },
    {
     "data": {
      "application/vnd.jupyter.widget-view+json": {
       "model_id": "a21c64f994ca4ffb9a51f0de836459ee",
       "version_major": 2,
       "version_minor": 0
      },
      "text/plain": [
       "  0%|          | 0/10000 [00:00<?, ?it/s]"
      ]
     },
     "metadata": {},
     "output_type": "display_data"
    },
    {
     "name": "stdout",
     "output_type": "stream",
     "text": [
      "gld_params: [0.05447704 0.01571374 0.35434461 0.12942866]\n",
      "wrapper([ 5.000e-01  5.000e-01 ...  5.000e-01  5.000e-01]) = -0.00010362997544048794\n",
      "assembly_constraint_no_mean([ 5.000e-01  5.000e-01 ...  5.000e-01  5.000e-01]) = [-2.326e+00  5.893e-01 ... -2.326e+00 -2.326e+00]\n"
     ]
    },
    {
     "data": {
      "application/vnd.jupyter.widget-view+json": {
       "model_id": "18c94ef1d8c34e6d83894179316c0e48",
       "version_major": 2,
       "version_minor": 0
      },
      "text/plain": [
       "  0%|          | 0/10000 [00:00<?, ?it/s]"
      ]
     },
     "metadata": {},
     "output_type": "display_data"
    },
    {
     "name": "stdout",
     "output_type": "stream",
     "text": [
      "gld_params: [0.0540906  0.0162229  0.33603339 0.11324644]\n",
      "wrapper([ 5.000e-01  5.000e-01 ...  5.000e-01  5.000e-01]) = -0.0005952553227898746\n",
      "assembly_constraint_no_mean([ 5.000e-01  5.000e-01 ...  5.000e-01  5.000e-01]) = [-2.326e+00  5.869e-01 ... -2.326e+00 -2.326e+00]\n"
     ]
    },
    {
     "data": {
      "application/vnd.jupyter.widget-view+json": {
       "model_id": "ff8ce0b352fc48598a440b283be5dc32",
       "version_major": 2,
       "version_minor": 0
      },
      "text/plain": [
       "  0%|          | 0/10000 [00:00<?, ?it/s]"
      ]
     },
     "metadata": {},
     "output_type": "display_data"
    },
    {
     "name": "stdout",
     "output_type": "stream",
     "text": [
      "gld_params: [0.05389441 0.01598691 0.34243096 0.10643577]\n",
      "wrapper([ 5.000e-01  5.000e-01 ...  5.000e-01  5.000e-01]) = -0.0006032415460302359\n",
      "assembly_constraint_no_mean([ 5.000e-01  5.000e-01 ...  5.000e-01  5.000e-01]) = [-2.326e+00  5.899e-01 ... -2.326e+00 -2.326e+00]\n"
     ]
    },
    {
     "data": {
      "application/vnd.jupyter.widget-view+json": {
       "model_id": "c4bc3e2379034f0da880575bea7d86d6",
       "version_major": 2,
       "version_minor": 0
      },
      "text/plain": [
       "  0%|          | 0/10000 [00:00<?, ?it/s]"
      ]
     },
     "metadata": {},
     "output_type": "display_data"
    },
    {
     "name": "stdout",
     "output_type": "stream",
     "text": [
      "gld_params: [0.05451749 0.01569657 0.35366867 0.12861892]\n",
      "wrapper([ 5.000e-01  5.000e-01 ...  5.000e-01  5.000e-01]) = -0.00010696331036034356\n",
      "assembly_constraint_no_mean([ 5.000e-01  5.000e-01 ...  5.000e-01  5.000e-01]) = [-2.326e+00 -2.326e+00 ... -2.326e+00 -2.326e+00]\n"
     ]
    },
    {
     "data": {
      "application/vnd.jupyter.widget-view+json": {
       "model_id": "8389c8ba51f94fd2b2153a96d000a6f0",
       "version_major": 2,
       "version_minor": 0
      },
      "text/plain": [
       "  0%|          | 0/10000 [00:00<?, ?it/s]"
      ]
     },
     "metadata": {},
     "output_type": "display_data"
    },
    {
     "name": "stdout",
     "output_type": "stream",
     "text": [
      "gld_params: [0.05451807 0.01572933 0.35370276 0.13010949]\n",
      "wrapper([ 5.000e-01  5.000e-01 ...  5.000e-01  5.000e-01]) = -0.00010272613000627947\n",
      "assembly_constraint_no_mean([ 5.000e-01  5.000e-01 ...  5.000e-01  5.000e-01]) = [-2.326e+00 -2.326e+00 ... -2.326e+00 -2.326e+00]\n"
     ]
    },
    {
     "data": {
      "application/vnd.jupyter.widget-view+json": {
       "model_id": "ac5800cb9a1f4883a273d6fcd8ecdd1e",
       "version_major": 2,
       "version_minor": 0
      },
      "text/plain": [
       "  0%|          | 0/10000 [00:00<?, ?it/s]"
      ]
     },
     "metadata": {},
     "output_type": "display_data"
    },
    {
     "name": "stdout",
     "output_type": "stream",
     "text": [
      "gld_params: [0.05398274 0.01631663 0.33842325 0.11789159]\n",
      "wrapper([ 5.000e-01  5.000e-01 ...  5.000e-01  5.000e-01]) = -0.0005223277474157605\n",
      "assembly_constraint_no_mean([ 5.000e-01  5.000e-01 ...  5.000e-01  5.000e-01]) = [-2.326e+00 -2.326e+00 ... -2.326e+00 -2.326e+00]\n"
     ]
    },
    {
     "data": {
      "application/vnd.jupyter.widget-view+json": {
       "model_id": "31be2b5827ce40c29757dbc1b5aec383",
       "version_major": 2,
       "version_minor": 0
      },
      "text/plain": [
       "  0%|          | 0/10000 [00:00<?, ?it/s]"
      ]
     },
     "metadata": {},
     "output_type": "display_data"
    },
    {
     "name": "stdout",
     "output_type": "stream",
     "text": [
      "gld_params: [0.05407903 0.01638198 0.33638704 0.1223798 ]\n",
      "wrapper([ 5.000e-01  5.000e-01 ...  5.000e-01  5.000e-01]) = -0.00046780768966017737\n",
      "assembly_constraint_no_mean([ 5.000e-01  5.000e-01 ...  5.000e-01  5.000e-01]) = [-2.326e+00 -2.326e+00 ... -2.326e+00 -2.326e+00]\n"
     ]
    },
    {
     "data": {
      "application/vnd.jupyter.widget-view+json": {
       "model_id": "f1b378c5ad764cb781527799f50063d3",
       "version_major": 2,
       "version_minor": 0
      },
      "text/plain": [
       "  0%|          | 0/10000 [00:00<?, ?it/s]"
      ]
     },
     "metadata": {},
     "output_type": "display_data"
    },
    {
     "name": "stdout",
     "output_type": "stream",
     "text": [
      "gld_params: [0.05452493 0.01566386 0.35309409 0.12748578]\n",
      "wrapper([ 5.000e-01  5.000e-01 ...  5.000e-01  5.000e-01]) = -0.00011361918839666083\n",
      "assembly_constraint_no_mean([ 5.000e-01  5.000e-01 ...  5.000e-01  5.000e-01]) = [-2.326e+00 -2.326e+00 ... -2.326e+00 -2.326e+00]\n"
     ]
    },
    {
     "data": {
      "application/vnd.jupyter.widget-view+json": {
       "model_id": "86451433a8f7422392464c8286cdc437",
       "version_major": 2,
       "version_minor": 0
      },
      "text/plain": [
       "  0%|          | 0/10000 [00:00<?, ?it/s]"
      ]
     },
     "metadata": {},
     "output_type": "display_data"
    },
    {
     "name": "stdout",
     "output_type": "stream",
     "text": [
      "gld_params: [0.05454111 0.01577387 0.3528264  0.13200268]\n",
      "wrapper([ 5.000e-01  5.000e-01 ...  5.000e-01  5.000e-01]) = -9.458208817384367e-05\n",
      "assembly_constraint_no_mean([ 5.000e-01  5.000e-01 ...  5.000e-01  5.000e-01]) = [-2.326e+00 -2.326e+00 ... -2.326e+00 -2.326e+00]\n"
     ]
    },
    {
     "data": {
      "application/vnd.jupyter.widget-view+json": {
       "model_id": "2cdf5eb4aa114e0083f2b26bf97e940e",
       "version_major": 2,
       "version_minor": 0
      },
      "text/plain": [
       "  0%|          | 0/10000 [00:00<?, ?it/s]"
      ]
     },
     "metadata": {},
     "output_type": "display_data"
    },
    {
     "name": "stdout",
     "output_type": "stream",
     "text": [
      "gld_params: [0.05409646 0.01627335 0.33566778 0.11423004]\n",
      "wrapper([ 5.000e-01  5.000e-01 ...  5.000e-01  5.000e-01]) = -0.0005980528585662243\n",
      "assembly_constraint_no_mean([ 5.000e-01  5.000e-01 ...  5.000e-01  5.000e-01]) = [-2.326e+00 -2.326e+00 ... -2.326e+00 -2.326e+00]\n"
     ]
    },
    {
     "data": {
      "application/vnd.jupyter.widget-view+json": {
       "model_id": "338a744c4c684846a2b19efb398c7a1a",
       "version_major": 2,
       "version_minor": 0
      },
      "text/plain": [
       "  0%|          | 0/10000 [00:00<?, ?it/s]"
      ]
     },
     "metadata": {},
     "output_type": "display_data"
    },
    {
     "name": "stdout",
     "output_type": "stream",
     "text": [
      "gld_params: [0.05414872 0.01640306 0.33579655 0.1223956 ]\n",
      "wrapper([ 5.000e-01  5.000e-01 ...  5.000e-01  5.000e-01]) = -0.0004725134126508844\n",
      "assembly_constraint_no_mean([ 5.000e-01  5.000e-01 ...  5.000e-01  5.000e-01]) = [-2.326e+00 -2.326e+00 ... -2.326e+00 -2.326e+00]\n"
     ]
    },
    {
     "data": {
      "application/vnd.jupyter.widget-view+json": {
       "model_id": "64df92252f5f409aa5dd81ef01a6ae6e",
       "version_major": 2,
       "version_minor": 0
      },
      "text/plain": [
       "  0%|          | 0/10000 [00:00<?, ?it/s]"
      ]
     },
     "metadata": {},
     "output_type": "display_data"
    },
    {
     "name": "stdout",
     "output_type": "stream",
     "text": [
      "gld_params: [0.05453313 0.01569598 0.3527786  0.12896955]\n",
      "wrapper([ 5.000e-01  5.000e-01 ...  5.000e-01  5.000e-01]) = -0.00010696331036034356\n",
      "assembly_constraint_no_mean([ 5.000e-01  5.000e-01 ...  5.000e-01  5.000e-01]) = [-2.326e+00 -2.326e+00 ... -2.326e+00 -2.326e+00]\n"
     ]
    },
    {
     "data": {
      "application/vnd.jupyter.widget-view+json": {
       "model_id": "2a74a8665e7e4005ac313b68922b44e9",
       "version_major": 2,
       "version_minor": 0
      },
      "text/plain": [
       "  0%|          | 0/10000 [00:00<?, ?it/s]"
      ]
     },
     "metadata": {},
     "output_type": "display_data"
    },
    {
     "name": "stdout",
     "output_type": "stream",
     "text": [
      "gld_params: [0.05450849 0.01567005 0.35369938 0.12829319]\n",
      "wrapper([ 5.000e-01  5.000e-01 ...  5.000e-01  5.000e-01]) = -0.00010696331036034356\n",
      "assembly_constraint_no_mean([ 5.000e-01  5.000e-01 ...  5.000e-01  5.000e-01]) = [-2.326e+00 -2.326e+00 ... -2.326e+00 -2.326e+00]\n"
     ]
    },
    {
     "data": {
      "application/vnd.jupyter.widget-view+json": {
       "model_id": "f38c27b5327845659bc6973a37d3ec92",
       "version_major": 2,
       "version_minor": 0
      },
      "text/plain": [
       "  0%|          | 0/10000 [00:00<?, ?it/s]"
      ]
     },
     "metadata": {},
     "output_type": "display_data"
    },
    {
     "name": "stdout",
     "output_type": "stream",
     "text": [
      "gld_params: [0.05412469 0.01610391 0.33483262 0.11236001]\n",
      "wrapper([ 5.000e-01  5.000e-01 ...  5.000e-01  5.000e-01]) = -0.0005714753746605153\n",
      "assembly_constraint_no_mean([ 5.000e-01  5.000e-01 ...  5.000e-01  5.000e-01]) = [-2.326e+00 -2.326e+00 ... -2.326e+00 -2.326e+00]\n"
     ]
    },
    {
     "data": {
      "application/vnd.jupyter.widget-view+json": {
       "model_id": "8567237f599a4b428f67d24d12a98ee2",
       "version_major": 2,
       "version_minor": 0
      },
      "text/plain": [
       "  0%|          | 0/10000 [00:00<?, ?it/s]"
      ]
     },
     "metadata": {},
     "output_type": "display_data"
    },
    {
     "name": "stdout",
     "output_type": "stream",
     "text": [
      "gld_params: [0.05406604 0.01618072 0.33705468 0.11131106]\n",
      "wrapper([ 5.000e-01  5.000e-01 ...  5.000e-01  5.000e-01]) = -0.0006126288453899819\n",
      "assembly_constraint_no_mean([ 5.000e-01  5.000e-01 ...  5.000e-01  5.000e-01]) = [-2.326e+00 -2.326e+00 ... -2.326e+00 -2.326e+00]\n"
     ]
    },
    {
     "data": {
      "application/vnd.jupyter.widget-view+json": {
       "model_id": "0ee575c025ea4479bec041631382ce48",
       "version_major": 2,
       "version_minor": 0
      },
      "text/plain": [
       "  0%|          | 0/10000 [00:00<?, ?it/s]"
      ]
     },
     "metadata": {},
     "output_type": "display_data"
    },
    {
     "name": "stdout",
     "output_type": "stream",
     "text": [
      "gld_params: [0.05453191 0.01570777 0.35286866 0.12963737]\n",
      "wrapper([ 5.000e-01  5.000e-01 ...  5.000e-01  5.000e-01]) = -0.00010362997544048794\n",
      "assembly_constraint_no_mean([ 5.000e-01  5.000e-01 ...  5.000e-01  5.000e-01]) = [-2.326e+00 -2.326e+00 ... -2.326e+00 -2.326e+00]\n"
     ]
    },
    {
     "data": {
      "application/vnd.jupyter.widget-view+json": {
       "model_id": "4491a32c63c341dc99135a2a7543d45e",
       "version_major": 2,
       "version_minor": 0
      },
      "text/plain": [
       "  0%|          | 0/10000 [00:00<?, ?it/s]"
      ]
     },
     "metadata": {},
     "output_type": "display_data"
    },
    {
     "name": "stdout",
     "output_type": "stream",
     "text": [
      "gld_params: [0.0545067  0.01570722 0.35355781 0.12988168]\n",
      "wrapper([ 5.000e-01  5.000e-01 ...  5.000e-01  5.000e-01]) = -0.00010254961525884329\n",
      "assembly_constraint_no_mean([ 5.000e-01  5.000e-01 ...  5.000e-01  5.000e-01]) = [-2.326e+00 -2.326e+00 ... -2.326e+00 -2.326e+00]\n"
     ]
    },
    {
     "data": {
      "application/vnd.jupyter.widget-view+json": {
       "model_id": "9a9e97b38bf14b68bfb0869ff8372158",
       "version_major": 2,
       "version_minor": 0
      },
      "text/plain": [
       "  0%|          | 0/10000 [00:00<?, ?it/s]"
      ]
     },
     "metadata": {},
     "output_type": "display_data"
    },
    {
     "name": "stdout",
     "output_type": "stream",
     "text": [
      "gld_params: [0.05396271 0.01630538 0.33918658 0.11767172]\n",
      "wrapper([ 5.000e-01  5.000e-01 ...  5.000e-01  5.000e-01]) = -0.0005173970486214879\n",
      "assembly_constraint_no_mean([ 5.000e-01  5.000e-01 ...  5.000e-01  5.000e-01]) = [-2.326e+00 -2.326e+00 ... -2.326e+00 -2.326e+00]\n"
     ]
    },
    {
     "data": {
      "application/vnd.jupyter.widget-view+json": {
       "model_id": "461ca127c2b24930a99b082194307dca",
       "version_major": 2,
       "version_minor": 0
      },
      "text/plain": [
       "  0%|          | 0/10000 [00:00<?, ?it/s]"
      ]
     },
     "metadata": {},
     "output_type": "display_data"
    },
    {
     "name": "stdout",
     "output_type": "stream",
     "text": [
      "gld_params: [0.05414066 0.01613448 0.33342729 0.10838146]\n",
      "wrapper([ 5.000e-01  5.000e-01 ...  5.000e-01  5.000e-01]) = -0.00069134598244539\n",
      "assembly_constraint_no_mean([ 5.000e-01  5.000e-01 ...  5.000e-01  5.000e-01]) = [-2.326e+00 -2.326e+00 ... -2.326e+00 -2.326e+00]\n"
     ]
    },
    {
     "data": {
      "application/vnd.jupyter.widget-view+json": {
       "model_id": "510e20badd1f467ebfdee6057ec1be27",
       "version_major": 2,
       "version_minor": 0
      },
      "text/plain": [
       "  0%|          | 0/10000 [00:00<?, ?it/s]"
      ]
     },
     "metadata": {},
     "output_type": "display_data"
    },
    {
     "name": "stdout",
     "output_type": "stream",
     "text": [
      "gld_params: [0.05449012 0.01569982 0.3544256  0.12899549]\n",
      "wrapper([ 5.000e-01  5.000e-01 ...  5.000e-01  5.000e-01]) = -0.00010362997544048794\n",
      "assembly_constraint_no_mean([ 5.000e-01  5.000e-01 ...  5.000e-01  5.000e-01]) = [-2.326e+00 -2.326e+00 ...  5.856e-01 -2.326e+00]\n"
     ]
    },
    {
     "data": {
      "application/vnd.jupyter.widget-view+json": {
       "model_id": "db7bfb5f6cad4f64917f75e28a0d0667",
       "version_major": 2,
       "version_minor": 0
      },
      "text/plain": [
       "  0%|          | 0/10000 [00:00<?, ?it/s]"
      ]
     },
     "metadata": {},
     "output_type": "display_data"
    },
    {
     "name": "stdout",
     "output_type": "stream",
     "text": [
      "gld_params: [0.05444724 0.01566595 0.35588225 0.12757224]\n",
      "wrapper([ 5.000e-01  5.000e-01 ...  5.000e-01  5.000e-01]) = -0.00010696331036034356\n",
      "assembly_constraint_no_mean([ 5.000e-01  5.000e-01 ...  5.000e-01  5.000e-01]) = [-2.326e+00 -2.326e+00 ...  5.893e-01 -2.326e+00]\n"
     ]
    },
    {
     "data": {
      "application/vnd.jupyter.widget-view+json": {
       "model_id": "8e6b5de5101745a98454ee5fa5d90901",
       "version_major": 2,
       "version_minor": 0
      },
      "text/plain": [
       "  0%|          | 0/10000 [00:00<?, ?it/s]"
      ]
     },
     "metadata": {},
     "output_type": "display_data"
    },
    {
     "name": "stdout",
     "output_type": "stream",
     "text": [
      "gld_params: [0.05406484 0.01643817 0.33637023 0.12156314]\n",
      "wrapper([ 5.000e-01  5.000e-01 ...  5.000e-01  5.000e-01]) = -0.0005064092182325177\n",
      "assembly_constraint_no_mean([ 5.000e-01  5.000e-01 ...  5.000e-01  5.000e-01]) = [-2.326e+00 -2.326e+00 ...  5.869e-01 -2.326e+00]\n"
     ]
    },
    {
     "data": {
      "application/vnd.jupyter.widget-view+json": {
       "model_id": "ae1c5f52f3604afab9721959cef5a6e2",
       "version_major": 2,
       "version_minor": 0
      },
      "text/plain": [
       "  0%|          | 0/10000 [00:00<?, ?it/s]"
      ]
     },
     "metadata": {},
     "output_type": "display_data"
    },
    {
     "name": "stdout",
     "output_type": "stream",
     "text": [
      "gld_params: [0.05401705 0.01641523 0.33831945 0.12206953]\n",
      "wrapper([ 5.000e-01  5.000e-01 ...  5.000e-01  5.000e-01]) = -0.0004742940093825377\n",
      "assembly_constraint_no_mean([ 5.000e-01  5.000e-01 ...  5.000e-01  5.000e-01]) = [-2.326e+00 -2.326e+00 ...  5.899e-01 -2.326e+00]\n"
     ]
    },
    {
     "data": {
      "application/vnd.jupyter.widget-view+json": {
       "model_id": "ae05c30157e64f39b0aa274a248138b3",
       "version_major": 2,
       "version_minor": 0
      },
      "text/plain": [
       "  0%|          | 0/10000 [00:00<?, ?it/s]"
      ]
     },
     "metadata": {},
     "output_type": "display_data"
    },
    {
     "name": "stdout",
     "output_type": "stream",
     "text": [
      "gld_params: [0.05451866 0.01569413 0.35360906 0.12852019]\n",
      "wrapper([ 5.000e-01  5.000e-01 ...  5.000e-01  5.000e-01]) = -0.00010696331036034356\n",
      "assembly_constraint_no_mean([ 5.000e-01  5.000e-01 ...  5.000e-01  5.000e-01]) = [-2.326e+00 -2.326e+00 ... -2.326e+00  5.856e-01]\n"
     ]
    },
    {
     "data": {
      "application/vnd.jupyter.widget-view+json": {
       "model_id": "519e0039aff24422b3700974b1c01da8",
       "version_major": 2,
       "version_minor": 0
      },
      "text/plain": [
       "  0%|          | 0/10000 [00:00<?, ?it/s]"
      ]
     },
     "metadata": {},
     "output_type": "display_data"
    },
    {
     "name": "stdout",
     "output_type": "stream",
     "text": [
      "gld_params: [0.05448147 0.01572499 0.35479327 0.13016055]\n",
      "wrapper([ 5.000e-01  5.000e-01 ...  5.000e-01  5.000e-01]) = -9.79437837811465e-05\n",
      "assembly_constraint_no_mean([ 5.000e-01  5.000e-01 ...  5.000e-01  5.000e-01]) = [-2.326e+00 -2.326e+00 ... -2.326e+00  5.893e-01]\n"
     ]
    },
    {
     "data": {
      "application/vnd.jupyter.widget-view+json": {
       "model_id": "b061690fc97f4cc9815314fb8144169a",
       "version_major": 2,
       "version_minor": 0
      },
      "text/plain": [
       "  0%|          | 0/10000 [00:00<?, ?it/s]"
      ]
     },
     "metadata": {},
     "output_type": "display_data"
    },
    {
     "name": "stdout",
     "output_type": "stream",
     "text": [
      "gld_params: [0.05403359 0.01636183 0.33836544 0.11756339]\n",
      "wrapper([ 5.000e-01  5.000e-01 ...  1.000e+00  5.000e-01]) = -0.00054251368637403\n",
      "assembly_constraint_no_mean([ 5.000e-01  5.000e-01 ...  1.000e+00  5.000e-01]) = [-2.326e+00 -2.326e+00 ... -2.326e+00  5.869e-01]\n"
     ]
    },
    {
     "data": {
      "application/vnd.jupyter.widget-view+json": {
       "model_id": "d720b6a1ef034b3daeff8551aac3bc92",
       "version_major": 2,
       "version_minor": 0
      },
      "text/plain": [
       "  0%|          | 0/10000 [00:00<?, ?it/s]"
      ]
     },
     "metadata": {},
     "output_type": "display_data"
    },
    {
     "name": "stdout",
     "output_type": "stream",
     "text": [
      "gld_params: [0.05389492 0.0160798  0.34225369 0.10938213]\n",
      "wrapper([ 5.000e-01  5.000e-01 ...  5.000e-01  1.000e+00]) = -0.0005801213569480381\n",
      "assembly_constraint_no_mean([ 5.000e-01  5.000e-01 ...  5.000e-01  1.000e+00]) = [-2.326e+00 -2.326e+00 ... -2.326e+00  5.899e-01]\n"
     ]
    },
    {
     "data": {
      "application/vnd.jupyter.widget-view+json": {
       "model_id": "c4bfd26db74f43149a94252613a3e17b",
       "version_major": 2,
       "version_minor": 0
      },
      "text/plain": [
       "  0%|          | 0/10000 [00:00<?, ?it/s]"
      ]
     },
     "metadata": {},
     "output_type": "display_data"
    },
    {
     "name": "stdout",
     "output_type": "stream",
     "text": [
      "gld_params: [0.05507402 0.01578622 0.35088484 0.12833678]\n",
      "wrapper([ 0.000e+00  5.000e-01 ...  5.000e-01  5.000e-01]) = -0.00011029664528019918\n",
      "assembly_constraint_no_mean([ 0.000e+00  5.000e-01 ...  5.000e-01  5.000e-01]) = [-3.183e+00 -2.326e+00 ... -2.326e+00 -2.326e+00]\n"
     ]
    },
    {
     "data": {
      "application/vnd.jupyter.widget-view+json": {
       "model_id": "74c9c53aaef1480592d5b8780d12fc25",
       "version_major": 2,
       "version_minor": 0
      },
      "text/plain": [
       "  0%|          | 0/10000 [00:00<?, ?it/s]"
      ]
     },
     "metadata": {},
     "output_type": "display_data"
    },
    {
     "name": "stdout",
     "output_type": "stream",
     "text": [
      "gld_params: [0.05509105 0.01574529 0.35026926 0.12602149]\n",
      "wrapper([ 5.000e-01  0.000e+00 ...  5.000e-01  5.000e-01]) = -0.00012211752346397866\n",
      "assembly_constraint_no_mean([ 5.000e-01  0.000e+00 ...  5.000e-01  5.000e-01]) = [-3.183e+00 -2.326e+00 ... -2.326e+00 -2.326e+00]\n"
     ]
    },
    {
     "data": {
      "application/vnd.jupyter.widget-view+json": {
       "model_id": "6d3a1fce44454e78a47af3c985a0356b",
       "version_major": 2,
       "version_minor": 0
      },
      "text/plain": [
       "  0%|          | 0/10000 [00:00<?, ?it/s]"
      ]
     },
     "metadata": {},
     "output_type": "display_data"
    },
    {
     "name": "stdout",
     "output_type": "stream",
     "text": [
      "gld_params: [0.05625237 0.01537165 0.34079209 0.12074537]\n",
      "wrapper([ 5.000e-01  5.000e-01 ...  5.000e-01  5.000e-01]) = -0.00010332854469023752\n",
      "assembly_constraint_no_mean([ 5.000e-01  5.000e-01 ...  5.000e-01  5.000e-01]) = [-3.183e+00 -2.326e+00 ... -2.326e+00 -2.326e+00]\n"
     ]
    },
    {
     "data": {
      "application/vnd.jupyter.widget-view+json": {
       "model_id": "a54ecea2faec4afca4d9fdf33795f768",
       "version_major": 2,
       "version_minor": 0
      },
      "text/plain": [
       "  0%|          | 0/10000 [00:00<?, ?it/s]"
      ]
     },
     "metadata": {},
     "output_type": "display_data"
    },
    {
     "name": "stdout",
     "output_type": "stream",
     "text": [
      "gld_params: [0.05614426 0.01564286 0.34528253 0.12908523]\n",
      "wrapper([ 5.000e-01  5.000e-01 ...  5.000e-01  5.000e-01]) = -7.305561013735592e-05\n",
      "assembly_constraint_no_mean([ 5.000e-01  5.000e-01 ...  5.000e-01  5.000e-01]) = [-3.183e+00 -2.326e+00 ... -2.326e+00 -2.326e+00]\n"
     ]
    },
    {
     "data": {
      "application/vnd.jupyter.widget-view+json": {
       "model_id": "64fb95e3aa9b468ba19efe1a7c856df8",
       "version_major": 2,
       "version_minor": 0
      },
      "text/plain": [
       "  0%|          | 0/10000 [00:00<?, ?it/s]"
      ]
     },
     "metadata": {},
     "output_type": "display_data"
    },
    {
     "name": "stdout",
     "output_type": "stream",
     "text": [
      "gld_params: [0.05506615 0.01575746 0.35116713 0.12640549]\n",
      "wrapper([ 5.000e-01  5.000e-01 ...  5.000e-01  5.000e-01]) = -0.0001201027869397793\n",
      "assembly_constraint_no_mean([ 5.000e-01  5.000e-01 ...  5.000e-01  5.000e-01]) = [-2.326e+00 -3.183e+00 ... -2.326e+00 -2.326e+00]\n"
     ]
    },
    {
     "data": {
      "application/vnd.jupyter.widget-view+json": {
       "model_id": "8eab49c35dca448186ef66bdb14c1c8c",
       "version_major": 2,
       "version_minor": 0
      },
      "text/plain": [
       "  0%|          | 0/10000 [00:00<?, ?it/s]"
      ]
     },
     "metadata": {},
     "output_type": "display_data"
    },
    {
     "name": "stdout",
     "output_type": "stream",
     "text": [
      "gld_params: [0.05519143 0.01578399 0.34799508 0.12869623]\n",
      "wrapper([ 5.000e-01  5.000e-01 ...  5.000e-01  5.000e-01]) = -0.00011205258625568742\n",
      "assembly_constraint_no_mean([ 5.000e-01  5.000e-01 ...  5.000e-01  5.000e-01]) = [-2.326e+00 -3.183e+00 ... -2.326e+00 -2.326e+00]\n"
     ]
    },
    {
     "data": {
      "application/vnd.jupyter.widget-view+json": {
       "model_id": "787a523756434bd4bd1a3fd2fe0bf401",
       "version_major": 2,
       "version_minor": 0
      },
      "text/plain": [
       "  0%|          | 0/10000 [00:00<?, ?it/s]"
      ]
     },
     "metadata": {},
     "output_type": "display_data"
    },
    {
     "name": "stdout",
     "output_type": "stream",
     "text": [
      "gld_params: [0.0561204  0.01534042 0.34408515 0.11940988]\n",
      "wrapper([ 5.000e-01  5.000e-01 ...  5.000e-01  5.000e-01]) = -0.00010329277416725417\n",
      "assembly_constraint_no_mean([ 5.000e-01  5.000e-01 ...  5.000e-01  5.000e-01]) = [-2.326e+00 -3.183e+00 ... -2.326e+00 -2.326e+00]\n"
     ]
    },
    {
     "data": {
      "application/vnd.jupyter.widget-view+json": {
       "model_id": "0b66eef10b1a49ba8a5e1a92cd2e9932",
       "version_major": 2,
       "version_minor": 0
      },
      "text/plain": [
       "  0%|          | 0/10000 [00:00<?, ?it/s]"
      ]
     },
     "metadata": {},
     "output_type": "display_data"
    },
    {
     "name": "stdout",
     "output_type": "stream",
     "text": [
      "gld_params: [0.05603287 0.01563554 0.34792905 0.1300644 ]\n",
      "wrapper([ 5.000e-01  5.000e-01 ...  5.000e-01  5.000e-01]) = -6.610696135189609e-05\n",
      "assembly_constraint_no_mean([ 5.000e-01  5.000e-01 ...  5.000e-01  5.000e-01]) = [-2.326e+00 -3.183e+00 ... -2.326e+00 -2.326e+00]\n"
     ]
    },
    {
     "data": {
      "application/vnd.jupyter.widget-view+json": {
       "model_id": "6870c3aad9aa44d2a1f6d04f1a31e344",
       "version_major": 2,
       "version_minor": 0
      },
      "text/plain": [
       "  0%|          | 0/10000 [00:00<?, ?it/s]"
      ]
     },
     "metadata": {},
     "output_type": "display_data"
    },
    {
     "name": "stdout",
     "output_type": "stream",
     "text": [
      "gld_params: [0.05509578 0.01579656 0.35041908 0.12901971]\n",
      "wrapper([ 5.000e-01  5.000e-01 ...  5.000e-01  5.000e-01]) = -0.00010696331036034356\n",
      "assembly_constraint_no_mean([ 5.000e-01  5.000e-01 ...  5.000e-01  5.000e-01]) = [-2.326e+00 -2.326e+00 ... -2.326e+00 -2.326e+00]\n"
     ]
    },
    {
     "data": {
      "application/vnd.jupyter.widget-view+json": {
       "model_id": "3efb6d5de13b4b5896cd62914832198d",
       "version_major": 2,
       "version_minor": 0
      },
      "text/plain": [
       "  0%|          | 0/10000 [00:00<?, ?it/s]"
      ]
     },
     "metadata": {},
     "output_type": "display_data"
    },
    {
     "name": "stdout",
     "output_type": "stream",
     "text": [
      "gld_params: [0.05506492 0.01574652 0.35108728 0.12698168]\n",
      "wrapper([ 5.000e-01  5.000e-01 ...  5.000e-01  5.000e-01]) = -0.00011417938470193921\n",
      "assembly_constraint_no_mean([ 5.000e-01  5.000e-01 ...  5.000e-01  5.000e-01]) = [-2.326e+00 -2.326e+00 ... -2.326e+00 -2.326e+00]\n"
     ]
    },
    {
     "data": {
      "application/vnd.jupyter.widget-view+json": {
       "model_id": "f18d60f32a8141189c19d0e956fc922c",
       "version_major": 2,
       "version_minor": 0
      },
      "text/plain": [
       "  0%|          | 0/10000 [00:00<?, ?it/s]"
      ]
     },
     "metadata": {},
     "output_type": "display_data"
    },
    {
     "name": "stdout",
     "output_type": "stream",
     "text": [
      "gld_params: [0.05620804 0.01542102 0.34189226 0.12473541]\n",
      "wrapper([ 5.000e-01  5.000e-01 ...  5.000e-01  5.000e-01]) = -8.123812760600416e-05\n",
      "assembly_constraint_no_mean([ 5.000e-01  5.000e-01 ...  5.000e-01  5.000e-01]) = [-2.326e+00 -2.326e+00 ... -2.326e+00 -2.326e+00]\n"
     ]
    },
    {
     "data": {
      "application/vnd.jupyter.widget-view+json": {
       "model_id": "a35f01ba33104ed981efd27cb99c3aff",
       "version_major": 2,
       "version_minor": 0
      },
      "text/plain": [
       "  0%|          | 0/10000 [00:00<?, ?it/s]"
      ]
     },
     "metadata": {},
     "output_type": "display_data"
    },
    {
     "name": "stdout",
     "output_type": "stream",
     "text": [
      "gld_params: [0.05610915 0.01536321 0.34443202 0.1180845 ]\n",
      "wrapper([ 5.000e-01  5.000e-01 ...  5.000e-01  5.000e-01]) = -0.00011395649542421389\n",
      "assembly_constraint_no_mean([ 5.000e-01  5.000e-01 ...  5.000e-01  5.000e-01]) = [-2.326e+00 -2.326e+00 ... -2.326e+00 -2.326e+00]\n"
     ]
    },
    {
     "data": {
      "application/vnd.jupyter.widget-view+json": {
       "model_id": "67766bbbb0d04ac69b0b8bacb2909352",
       "version_major": 2,
       "version_minor": 0
      },
      "text/plain": [
       "  0%|          | 0/10000 [00:00<?, ?it/s]"
      ]
     },
     "metadata": {},
     "output_type": "display_data"
    },
    {
     "name": "stdout",
     "output_type": "stream",
     "text": [
      "gld_params: [0.05511606 0.01581077 0.34973889 0.12983872]\n",
      "wrapper([ 5.000e-01  5.000e-01 ...  5.000e-01  5.000e-01]) = -0.00010362997544048794\n",
      "assembly_constraint_no_mean([ 5.000e-01  5.000e-01 ...  5.000e-01  5.000e-01]) = [-2.326e+00 -2.326e+00 ... -2.326e+00 -2.326e+00]\n"
     ]
    },
    {
     "data": {
      "application/vnd.jupyter.widget-view+json": {
       "model_id": "859c6766c845459986b3318b6ff65059",
       "version_major": 2,
       "version_minor": 0
      },
      "text/plain": [
       "  0%|          | 0/10000 [00:00<?, ?it/s]"
      ]
     },
     "metadata": {},
     "output_type": "display_data"
    },
    {
     "name": "stdout",
     "output_type": "stream",
     "text": [
      "gld_params: [0.05510291 0.01570588 0.34985413 0.12485013]\n",
      "wrapper([ 5.000e-01  5.000e-01 ...  5.000e-01  5.000e-01]) = -0.00012680167708336383\n",
      "assembly_constraint_no_mean([ 5.000e-01  5.000e-01 ...  5.000e-01  5.000e-01]) = [-2.326e+00 -2.326e+00 ... -2.326e+00 -2.326e+00]\n"
     ]
    },
    {
     "data": {
      "application/vnd.jupyter.widget-view+json": {
       "model_id": "012e404cf3154fb09db717262849879b",
       "version_major": 2,
       "version_minor": 0
      },
      "text/plain": [
       "  0%|          | 0/10000 [00:00<?, ?it/s]"
      ]
     },
     "metadata": {},
     "output_type": "display_data"
    },
    {
     "name": "stdout",
     "output_type": "stream",
     "text": [
      "gld_params: [0.05615573 0.01526159 0.34344104 0.11986675]\n",
      "wrapper([ 5.000e-01  5.000e-01 ...  5.000e-01  5.000e-01]) = -9.101032348038629e-05\n",
      "assembly_constraint_no_mean([ 5.000e-01  5.000e-01 ...  5.000e-01  5.000e-01]) = [-2.326e+00 -2.326e+00 ... -2.326e+00 -2.326e+00]\n"
     ]
    },
    {
     "data": {
      "application/vnd.jupyter.widget-view+json": {
       "model_id": "c2bc7d1f0fce4d839be26ed2dda481ee",
       "version_major": 2,
       "version_minor": 0
      },
      "text/plain": [
       "  0%|          | 0/10000 [00:00<?, ?it/s]"
      ]
     },
     "metadata": {},
     "output_type": "display_data"
    },
    {
     "name": "stdout",
     "output_type": "stream",
     "text": [
      "gld_params: [0.05603366 0.01542754 0.34601286 0.12025941]\n",
      "wrapper([ 5.000e-01  5.000e-01 ...  5.000e-01  5.000e-01]) = -0.00010362997544048794\n",
      "assembly_constraint_no_mean([ 5.000e-01  5.000e-01 ...  5.000e-01  5.000e-01]) = [-2.326e+00 -2.326e+00 ... -2.326e+00 -2.326e+00]\n"
     ]
    },
    {
     "data": {
      "application/vnd.jupyter.widget-view+json": {
       "model_id": "b818ff3350cf42fe815055669b262994",
       "version_major": 2,
       "version_minor": 0
      },
      "text/plain": [
       "  0%|          | 0/10000 [00:00<?, ?it/s]"
      ]
     },
     "metadata": {},
     "output_type": "display_data"
    },
    {
     "name": "stdout",
     "output_type": "stream",
     "text": [
      "gld_params: [0.05507949 0.01576951 0.35141494 0.12830573]\n",
      "wrapper([ 5.000e-01  5.000e-01 ...  5.000e-01  5.000e-01]) = -0.00010696331036034356\n",
      "assembly_constraint_no_mean([ 5.000e-01  5.000e-01 ...  5.000e-01  5.000e-01]) = [-2.326e+00 -2.326e+00 ... -2.326e+00 -2.326e+00]\n"
     ]
    },
    {
     "data": {
      "application/vnd.jupyter.widget-view+json": {
       "model_id": "b69002bef91c41768a3bcc7bbc242d02",
       "version_major": 2,
       "version_minor": 0
      },
      "text/plain": [
       "  0%|          | 0/10000 [00:00<?, ?it/s]"
      ]
     },
     "metadata": {},
     "output_type": "display_data"
    },
    {
     "name": "stdout",
     "output_type": "stream",
     "text": [
      "gld_params: [0.05511848 0.01584204 0.35004325 0.1303306 ]\n",
      "wrapper([ 5.000e-01  5.000e-01 ...  5.000e-01  5.000e-01]) = -0.00010362997544048794\n",
      "assembly_constraint_no_mean([ 5.000e-01  5.000e-01 ...  5.000e-01  5.000e-01]) = [-2.326e+00 -2.326e+00 ... -2.326e+00 -2.326e+00]\n"
     ]
    },
    {
     "data": {
      "application/vnd.jupyter.widget-view+json": {
       "model_id": "c2140a2f582648279e1d4e7cc69e8f24",
       "version_major": 2,
       "version_minor": 0
      },
      "text/plain": [
       "  0%|          | 0/10000 [00:00<?, ?it/s]"
      ]
     },
     "metadata": {},
     "output_type": "display_data"
    },
    {
     "name": "stdout",
     "output_type": "stream",
     "text": [
      "gld_params: [0.05591913 0.01562472 0.3532196  0.12901207]\n",
      "wrapper([ 5.000e-01  5.000e-01 ...  5.000e-01  5.000e-01]) = -6.277362703803806e-05\n",
      "assembly_constraint_no_mean([ 5.000e-01  5.000e-01 ...  5.000e-01  5.000e-01]) = [-2.326e+00 -2.326e+00 ... -2.326e+00 -2.326e+00]\n"
     ]
    },
    {
     "data": {
      "application/vnd.jupyter.widget-view+json": {
       "model_id": "e128113a7d114fbdb0fa0206b72ade04",
       "version_major": 2,
       "version_minor": 0
      },
      "text/plain": [
       "  0%|          | 0/10000 [00:00<?, ?it/s]"
      ]
     },
     "metadata": {},
     "output_type": "display_data"
    },
    {
     "name": "stdout",
     "output_type": "stream",
     "text": [
      "gld_params: [0.05619872 0.01558492 0.34289332 0.13554556]\n",
      "wrapper([ 5.000e-01  5.000e-01 ...  5.000e-01  5.000e-01]) = -4.0856349008447484e-05\n",
      "assembly_constraint_no_mean([ 5.000e-01  5.000e-01 ...  5.000e-01  5.000e-01]) = [-2.326e+00 -2.326e+00 ... -2.326e+00 -2.326e+00]\n"
     ]
    },
    {
     "data": {
      "application/vnd.jupyter.widget-view+json": {
       "model_id": "8d27588b9a80406d9fd7e21c306431f4",
       "version_major": 2,
       "version_minor": 0
      },
      "text/plain": [
       "  0%|          | 0/10000 [00:00<?, ?it/s]"
      ]
     },
     "metadata": {},
     "output_type": "display_data"
    },
    {
     "name": "stdout",
     "output_type": "stream",
     "text": [
      "gld_params: [0.05508204 0.01579172 0.3510727  0.12867951]\n",
      "wrapper([ 5.000e-01  5.000e-01 ...  5.000e-01  5.000e-01]) = -0.00010696331036034356\n",
      "assembly_constraint_no_mean([ 5.000e-01  5.000e-01 ...  5.000e-01  5.000e-01]) = [-2.326e+00 -2.326e+00 ... -2.326e+00 -2.326e+00]\n"
     ]
    },
    {
     "data": {
      "application/vnd.jupyter.widget-view+json": {
       "model_id": "ede5c6c3be8341a382c9b7fe51e28d01",
       "version_major": 2,
       "version_minor": 0
      },
      "text/plain": [
       "  0%|          | 0/10000 [00:00<?, ?it/s]"
      ]
     },
     "metadata": {},
     "output_type": "display_data"
    },
    {
     "name": "stdout",
     "output_type": "stream",
     "text": [
      "gld_params: [0.05512771 0.0158134  0.35049008 0.12870152]\n",
      "wrapper([ 5.000e-01  5.000e-01 ...  5.000e-01  5.000e-01]) = -0.00011029664528019918\n",
      "assembly_constraint_no_mean([ 5.000e-01  5.000e-01 ...  5.000e-01  5.000e-01]) = [-2.326e+00 -2.326e+00 ... -2.326e+00 -2.326e+00]\n"
     ]
    },
    {
     "data": {
      "application/vnd.jupyter.widget-view+json": {
       "model_id": "0137432e59184d94af179e61a231e699",
       "version_major": 2,
       "version_minor": 0
      },
      "text/plain": [
       "  0%|          | 0/10000 [00:00<?, ?it/s]"
      ]
     },
     "metadata": {},
     "output_type": "display_data"
    },
    {
     "name": "stdout",
     "output_type": "stream",
     "text": [
      "gld_params: [0.05610537 0.01551987 0.34735014 0.12506876]\n",
      "wrapper([ 5.000e-01  5.000e-01 ...  5.000e-01  5.000e-01]) = -8.199852646168722e-05\n",
      "assembly_constraint_no_mean([ 5.000e-01  5.000e-01 ...  5.000e-01  5.000e-01]) = [-2.326e+00 -2.326e+00 ... -2.326e+00 -2.326e+00]\n"
     ]
    },
    {
     "data": {
      "application/vnd.jupyter.widget-view+json": {
       "model_id": "3cffc1e9acb5476e86f2d83f906455ab",
       "version_major": 2,
       "version_minor": 0
      },
      "text/plain": [
       "  0%|          | 0/10000 [00:00<?, ?it/s]"
      ]
     },
     "metadata": {},
     "output_type": "display_data"
    },
    {
     "name": "stdout",
     "output_type": "stream",
     "text": [
      "gld_params: [0.05619897 0.0154473  0.34274199 0.12950749]\n",
      "wrapper([ 5.000e-01  5.000e-01 ...  5.000e-01  5.000e-01]) = -5.944029277362137e-05\n",
      "assembly_constraint_no_mean([ 5.000e-01  5.000e-01 ...  5.000e-01  5.000e-01]) = [-2.326e+00 -2.326e+00 ... -2.326e+00 -2.326e+00]\n"
     ]
    },
    {
     "data": {
      "application/vnd.jupyter.widget-view+json": {
       "model_id": "e71bb4466eb347759b159b79e7cb9fb1",
       "version_major": 2,
       "version_minor": 0
      },
      "text/plain": [
       "  0%|          | 0/10000 [00:00<?, ?it/s]"
      ]
     },
     "metadata": {},
     "output_type": "display_data"
    },
    {
     "name": "stdout",
     "output_type": "stream",
     "text": [
      "gld_params: [0.05511831 0.01580071 0.34963624 0.12931775]\n",
      "wrapper([ 5.000e-01  5.000e-01 ...  5.000e-01  5.000e-01]) = -0.00010696331036034356\n",
      "assembly_constraint_no_mean([ 5.000e-01  5.000e-01 ...  5.000e-01  5.000e-01]) = [-2.326e+00 -2.326e+00 ... -3.183e+00 -2.326e+00]\n"
     ]
    },
    {
     "data": {
      "application/vnd.jupyter.widget-view+json": {
       "model_id": "c05ed6ff8bbe4dedb53e747974bd549b",
       "version_major": 2,
       "version_minor": 0
      },
      "text/plain": [
       "  0%|          | 0/10000 [00:00<?, ?it/s]"
      ]
     },
     "metadata": {},
     "output_type": "display_data"
    },
    {
     "name": "stdout",
     "output_type": "stream",
     "text": [
      "gld_params: [0.05524196 0.0158801  0.3457677  0.13225522]\n",
      "wrapper([ 5.000e-01  5.000e-01 ...  5.000e-01  5.000e-01]) = -0.0001030743934184185\n",
      "assembly_constraint_no_mean([ 5.000e-01  5.000e-01 ...  5.000e-01  5.000e-01]) = [-2.326e+00 -2.326e+00 ... -3.183e+00 -2.326e+00]\n"
     ]
    },
    {
     "data": {
      "application/vnd.jupyter.widget-view+json": {
       "model_id": "e645996a37a94326a9eed9f84eaebd69",
       "version_major": 2,
       "version_minor": 0
      },
      "text/plain": [
       "  0%|          | 0/10000 [00:00<?, ?it/s]"
      ]
     },
     "metadata": {},
     "output_type": "display_data"
    },
    {
     "name": "stdout",
     "output_type": "stream",
     "text": [
      "gld_params: [0.05625641 0.01545099 0.34164762 0.12459947]\n",
      "wrapper([ 5.000e-01  5.000e-01 ...  5.000e-01  5.000e-01]) = -8.384332830459604e-05\n",
      "assembly_constraint_no_mean([ 5.000e-01  5.000e-01 ...  5.000e-01  5.000e-01]) = [-2.326e+00 -2.326e+00 ... -3.183e+00 -2.326e+00]\n"
     ]
    },
    {
     "data": {
      "application/vnd.jupyter.widget-view+json": {
       "model_id": "17bd792ea9ee460ab112eabbc33343ec",
       "version_major": 2,
       "version_minor": 0
      },
      "text/plain": [
       "  0%|          | 0/10000 [00:00<?, ?it/s]"
      ]
     },
     "metadata": {},
     "output_type": "display_data"
    },
    {
     "name": "stdout",
     "output_type": "stream",
     "text": [
      "gld_params: [0.05623554 0.01551902 0.34114709 0.12836486]\n",
      "wrapper([ 5.000e-01  5.000e-01 ...  5.000e-01  5.000e-01]) = -7.264461578876743e-05\n",
      "assembly_constraint_no_mean([ 5.000e-01  5.000e-01 ...  5.000e-01  5.000e-01]) = [-2.326e+00 -2.326e+00 ... -3.183e+00 -2.326e+00]\n"
     ]
    },
    {
     "data": {
      "application/vnd.jupyter.widget-view+json": {
       "model_id": "b0acdf4ad603493ca2fb4b54055f2ae4",
       "version_major": 2,
       "version_minor": 0
      },
      "text/plain": [
       "  0%|          | 0/10000 [00:00<?, ?it/s]"
      ]
     },
     "metadata": {},
     "output_type": "display_data"
    },
    {
     "name": "stdout",
     "output_type": "stream",
     "text": [
      "gld_params: [0.05511548 0.01583154 0.34917277 0.13097799]\n",
      "wrapper([ 5.000e-01  5.000e-01 ...  5.000e-01  5.000e-01]) = -0.00010184223627100721\n",
      "assembly_constraint_no_mean([ 5.000e-01  5.000e-01 ...  5.000e-01  5.000e-01]) = [-2.326e+00 -2.326e+00 ... -2.326e+00 -3.183e+00]\n"
     ]
    },
    {
     "data": {
      "application/vnd.jupyter.widget-view+json": {
       "model_id": "845c879fec3c4fabb61a8a300baa3d47",
       "version_major": 2,
       "version_minor": 0
      },
      "text/plain": [
       "  0%|          | 0/10000 [00:00<?, ?it/s]"
      ]
     },
     "metadata": {},
     "output_type": "display_data"
    },
    {
     "name": "stdout",
     "output_type": "stream",
     "text": [
      "gld_params: [0.05516789 0.01576864 0.34785259 0.12808921]\n",
      "wrapper([ 5.000e-01  5.000e-01 ...  5.000e-01  5.000e-01]) = -0.00011486806189995078\n",
      "assembly_constraint_no_mean([ 5.000e-01  5.000e-01 ...  5.000e-01  5.000e-01]) = [-2.326e+00 -2.326e+00 ... -2.326e+00 -3.183e+00]\n"
     ]
    },
    {
     "data": {
      "application/vnd.jupyter.widget-view+json": {
       "model_id": "032f3f907a3045b9998ca1409b8e5a1f",
       "version_major": 2,
       "version_minor": 0
      },
      "text/plain": [
       "  0%|          | 0/10000 [00:00<?, ?it/s]"
      ]
     },
     "metadata": {},
     "output_type": "display_data"
    },
    {
     "name": "stdout",
     "output_type": "stream",
     "text": [
      "gld_params: [0.0563105  0.01532347 0.33793019 0.12171643]\n",
      "wrapper([ 5.000e-01  5.000e-01 ...  0.000e+00  5.000e-01]) = -9.510539548742034e-05\n",
      "assembly_constraint_no_mean([ 5.000e-01  5.000e-01 ...  0.000e+00  5.000e-01]) = [-2.326e+00 -2.326e+00 ... -2.326e+00 -3.183e+00]\n"
     ]
    },
    {
     "data": {
      "application/vnd.jupyter.widget-view+json": {
       "model_id": "2a01852990e6463f9f39a6d59df68edf",
       "version_major": 2,
       "version_minor": 0
      },
      "text/plain": [
       "  0%|          | 0/10000 [00:00<?, ?it/s]"
      ]
     },
     "metadata": {},
     "output_type": "display_data"
    },
    {
     "name": "stdout",
     "output_type": "stream",
     "text": [
      "gld_params: [0.05622354 0.01576356 0.34139936 0.1403256 ]\n",
      "wrapper([ 5.000e-01  5.000e-01 ...  5.000e-01  0.000e+00]) = -3.752301506911656e-05\n",
      "assembly_constraint_no_mean([ 5.000e-01  5.000e-01 ...  5.000e-01  0.000e+00]) = [-2.326e+00 -2.326e+00 ... -2.326e+00 -3.183e+00]\n"
     ]
    },
    {
     "data": {
      "application/vnd.jupyter.widget-view+json": {
       "model_id": "ce8a2111c987495898ffce96f7a53421",
       "version_major": 2,
       "version_minor": 0
      },
      "text/plain": [
       "  0%|          | 0/10000 [00:00<?, ?it/s]"
      ]
     },
     "metadata": {},
     "output_type": "display_data"
    },
    {
     "name": "stdout",
     "output_type": "stream",
     "text": [
      "gld_params: [0.04889472 0.01825899 0.34173045 0.12041967]\n",
      "wrapper([ 5.721e-01  5.691e-01 ...  6.489e-01  6.604e-01]) = -0.003724905612271316\n",
      "assembly_constraint_no_mean([ 5.721e-01  5.691e-01 ...  6.489e-01  6.604e-01]) = [-5.537e-01 -5.112e-01 ... -6.447e-01 -5.456e-01]\n"
     ]
    },
    {
     "data": {
      "application/vnd.jupyter.widget-view+json": {
       "model_id": "62b0115f1f0d4864bd324f36c6fcd0b1",
       "version_major": 2,
       "version_minor": 0
      },
      "text/plain": [
       "  0%|          | 0/10000 [00:00<?, ?it/s]"
      ]
     },
     "metadata": {},
     "output_type": "display_data"
    },
    {
     "name": "stdout",
     "output_type": "stream",
     "text": [
      "gld_params: [0.04543221 0.02043981 0.33609558 0.11960768]\n",
      "wrapper([ 4.646e-01  4.544e-01 ...  7.848e-01  8.294e-01]) = -0.01372171660538273\n",
      "assembly_constraint_no_mean([ 4.646e-01  4.544e-01 ...  7.848e-01  8.294e-01]) = [ 3.648e-01  2.464e-01 ...  1.272e-01  2.083e-01]\n"
     ]
    },
    {
     "data": {
      "application/vnd.jupyter.widget-view+json": {
       "model_id": "b96c60b221e240e4a73775524ae26fba",
       "version_major": 2,
       "version_minor": 0
      },
      "text/plain": [
       "  0%|          | 0/10000 [00:00<?, ?it/s]"
      ]
     },
     "metadata": {},
     "output_type": "display_data"
    },
    {
     "name": "stdout",
     "output_type": "stream",
     "text": [
      "gld_params: [0.04331219 0.02292144 0.3381494  0.13078493]\n",
      "wrapper([ 2.436e-01  2.197e-01 ...  8.834e-01  9.683e-01]) = -0.027415010381187224\n",
      "assembly_constraint_no_mean([ 2.436e-01  2.197e-01 ...  8.834e-01  9.683e-01]) = [ 4.174e-01  5.109e-01 ...  3.768e-01  4.658e-01]\n"
     ]
    },
    {
     "data": {
      "application/vnd.jupyter.widget-view+json": {
       "model_id": "05bee42dd42343f4a346f8a7358bfcb8",
       "version_major": 2,
       "version_minor": 0
      },
      "text/plain": [
       "  0%|          | 0/10000 [00:00<?, ?it/s]"
      ]
     },
     "metadata": {},
     "output_type": "display_data"
    },
    {
     "name": "stdout",
     "output_type": "stream",
     "text": [
      "gld_params: [0.04354647 0.02091124 0.33894765 0.12433229]\n",
      "wrapper([ 5.928e-01  5.811e-01 ...  8.194e-01  8.506e-01]) = -0.018076759200386466\n",
      "assembly_constraint_no_mean([ 5.928e-01  5.811e-01 ...  8.194e-01  8.506e-01]) = [ 1.073e+00  1.093e+00 ...  9.150e-01  1.061e+00]\n"
     ]
    },
    {
     "data": {
      "application/vnd.jupyter.widget-view+json": {
       "model_id": "954b8b3b0d92485c8e2be3acb18c4005",
       "version_major": 2,
       "version_minor": 0
      },
      "text/plain": [
       "  0%|          | 0/10000 [00:00<?, ?it/s]"
      ]
     },
     "metadata": {},
     "output_type": "display_data"
    },
    {
     "name": "stdout",
     "output_type": "stream",
     "text": [
      "gld_params: [0.04443559 0.02157211 0.33721341 0.12797851]\n",
      "wrapper([ 4.022e-01  3.836e-01 ...  8.177e-01  8.712e-01]) = -0.01872046194397547\n",
      "assembly_constraint_no_mean([ 4.022e-01  3.836e-01 ...  8.177e-01  8.712e-01]) = [ 1.887e-01  1.876e-01 ...  1.567e-01  1.797e-01]\n"
     ]
    },
    {
     "data": {
      "application/vnd.jupyter.widget-view+json": {
       "model_id": "c5c3964b705042d1a19d601f2ec0eac0",
       "version_major": 2,
       "version_minor": 0
      },
      "text/plain": [
       "  0%|          | 0/10000 [00:00<?, ?it/s]"
      ]
     },
     "metadata": {},
     "output_type": "display_data"
    },
    {
     "name": "stdout",
     "output_type": "stream",
     "text": [
      "gld_params: [0.0435327  0.02305064 0.34047119 0.13571646]\n",
      "wrapper([ 2.379e-01  2.131e-01 ...  8.777e-01  9.641e-01]) = -0.02604800900915733\n",
      "assembly_constraint_no_mean([ 2.379e-01  2.131e-01 ...  8.777e-01  9.641e-01]) = [ 2.360e-01  3.620e-01 ...  2.215e-01  3.076e-01]\n"
     ]
    },
    {
     "data": {
      "application/vnd.jupyter.widget-view+json": {
       "model_id": "7e08cb390e70424db6696c7913293701",
       "version_major": 2,
       "version_minor": 0
      },
      "text/plain": [
       "  0%|          | 0/10000 [00:00<?, ?it/s]"
      ]
     },
     "metadata": {},
     "output_type": "display_data"
    },
    {
     "name": "stdout",
     "output_type": "stream",
     "text": [
      "gld_params: [0.04433333 0.02150568 0.33411462 0.12480357]\n",
      "wrapper([ 4.638e-01  4.473e-01 ...  8.401e-01  8.928e-01]) = -0.019658626495662697\n",
      "assembly_constraint_no_mean([ 4.638e-01  4.473e-01 ...  8.401e-01  8.928e-01]) = [ 1.203e+00  8.024e-01 ...  6.037e-01  7.211e-01]\n"
     ]
    },
    {
     "data": {
      "application/vnd.jupyter.widget-view+json": {
       "model_id": "45b74bedd05a4a35b935fc99d24a8770",
       "version_major": 2,
       "version_minor": 0
      },
      "text/plain": [
       "  0%|          | 0/10000 [00:00<?, ?it/s]"
      ]
     },
     "metadata": {},
     "output_type": "display_data"
    },
    {
     "name": "stdout",
     "output_type": "stream",
     "text": [
      "gld_params: [0.04414935 0.02241654 0.3380651  0.130696  ]\n",
      "wrapper([ 2.728e-01  2.511e-01 ...  8.421e-01  9.219e-01]) = -0.02266466852769319\n",
      "assembly_constraint_no_mean([ 2.728e-01  2.511e-01 ...  8.421e-01  9.219e-01]) = [ 3.012e-01  1.393e-01 ...  8.468e-02  1.218e-01]\n"
     ]
    },
    {
     "data": {
      "application/vnd.jupyter.widget-view+json": {
       "model_id": "ce3dab3cf8184d118b07f5c7da08657d",
       "version_major": 2,
       "version_minor": 0
      },
      "text/plain": [
       "  0%|          | 0/10000 [00:00<?, ?it/s]"
      ]
     },
     "metadata": {},
     "output_type": "display_data"
    },
    {
     "name": "stdout",
     "output_type": "stream",
     "text": [
      "gld_params: [0.04356638 0.02358692 0.34447882 0.13521238]\n",
      "wrapper([ 1.138e-01  8.481e-02 ...  8.789e-01  9.778e-01]) = -0.028114621362688743\n",
      "assembly_constraint_no_mean([ 1.138e-01  8.481e-02 ...  8.789e-01  9.778e-01]) = [ 1.549e-01  2.641e-01 ...  1.392e-01  2.131e-01]\n"
     ]
    },
    {
     "data": {
      "application/vnd.jupyter.widget-view+json": {
       "model_id": "969cdb89e1484b7f9f9d1bf895aedd99",
       "version_major": 2,
       "version_minor": 0
      },
      "text/plain": [
       "  0%|          | 0/10000 [00:00<?, ?it/s]"
      ]
     },
     "metadata": {},
     "output_type": "display_data"
    },
    {
     "name": "stdout",
     "output_type": "stream",
     "text": [
      "gld_params: [0.04262985 0.0227943  0.33938557 0.12909392]\n",
      "wrapper([ 4.008e-01  3.756e-01 ...  8.811e-01  9.670e-01]) = -0.028805763447443546\n",
      "assembly_constraint_no_mean([ 4.008e-01  3.756e-01 ...  8.811e-01  9.670e-01]) = [ 1.645e+00  6.767e-01 ...  6.095e-01  7.070e-01]\n"
     ]
    },
    {
     "data": {
      "application/vnd.jupyter.widget-view+json": {
       "model_id": "4b5e5af438b9445284e4ab21d36a8340",
       "version_major": 2,
       "version_minor": 0
      },
      "text/plain": [
       "  0%|          | 0/10000 [00:00<?, ?it/s]"
      ]
     },
     "metadata": {},
     "output_type": "display_data"
    },
    {
     "name": "stdout",
     "output_type": "stream",
     "text": [
      "gld_params: [0.04380336 0.02315695 0.34260137 0.13556132]\n",
      "wrapper([ 1.700e-01  1.440e-01 ...  8.532e-01  9.681e-01]) = -0.025499500216553415\n",
      "assembly_constraint_no_mean([ 1.700e-01  1.440e-01 ...  8.532e-01  9.681e-01]) = [ 1.675e-01  1.396e-01 ...  7.089e-02  1.244e-01]\n"
     ]
    },
    {
     "data": {
      "application/vnd.jupyter.widget-view+json": {
       "model_id": "f65acee809b3499fa234a1ce5cdcda8e",
       "version_major": 2,
       "version_minor": 0
      },
      "text/plain": [
       "  0%|          | 0/10000 [00:00<?, ?it/s]"
      ]
     },
     "metadata": {},
     "output_type": "display_data"
    },
    {
     "name": "stdout",
     "output_type": "stream",
     "text": [
      "gld_params: [0.04357187 0.02390874 0.35002708 0.13755576]\n",
      "wrapper([ 4.167e-02  0.000e+00 ...  8.811e-01  9.975e-01]) = -0.028231411126994125\n",
      "assembly_constraint_no_mean([ 4.167e-02  0.000e+00 ...  8.811e-01  9.975e-01]) = [ 6.052e-02  2.391e-01 ...  1.767e-01  2.556e-01]\n"
     ]
    },
    {
     "data": {
      "application/vnd.jupyter.widget-view+json": {
       "model_id": "54b8e32d44bf4881ae5d94584c89ce95",
       "version_major": 2,
       "version_minor": 0
      },
      "text/plain": [
       "  0%|          | 0/10000 [00:00<?, ?it/s]"
      ]
     },
     "metadata": {},
     "output_type": "display_data"
    },
    {
     "name": "stdout",
     "output_type": "stream",
     "text": [
      "gld_params: [0.04508109 0.02250063 0.33727881 0.12537393]\n",
      "wrapper([ 1.783e-01  1.508e-01 ...  8.825e-01  9.879e-01]) = -0.02195753835516301\n",
      "assembly_constraint_no_mean([ 1.783e-01  1.508e-01 ...  8.825e-01  9.879e-01]) = [ 3.924e-01  4.038e-01 ... -1.298e+00  3.863e-01]\n"
     ]
    },
    {
     "data": {
      "application/vnd.jupyter.widget-view+json": {
       "model_id": "a1728d1106974c60907d8cb3f78b0793",
       "version_major": 2,
       "version_minor": 0
      },
      "text/plain": [
       "  0%|          | 0/10000 [00:00<?, ?it/s]"
      ]
     },
     "metadata": {},
     "output_type": "display_data"
    },
    {
     "name": "stdout",
     "output_type": "stream",
     "text": [
      "gld_params: [0.04393832 0.02362379 0.34266308 0.13667085]\n",
      "wrapper([ 6.516e-02  4.861e-02 ...  8.530e-01  9.910e-01]) = -0.027303137587622147\n",
      "assembly_constraint_no_mean([ 6.516e-02  4.861e-02 ...  8.530e-01  9.910e-01]) = [ 7.013e-02  2.624e-01 ...  2.629e-01  1.482e-01]\n"
     ]
    },
    {
     "data": {
      "application/vnd.jupyter.widget-view+json": {
       "model_id": "143da947b7964f379163a303175026c2",
       "version_major": 2,
       "version_minor": 0
      },
      "text/plain": [
       "  0%|          | 0/10000 [00:00<?, ?it/s]"
      ]
     },
     "metadata": {},
     "output_type": "display_data"
    },
    {
     "name": "stdout",
     "output_type": "stream",
     "text": [
      "gld_params: [0.04262201 0.02367234 0.33891964 0.13410662]\n",
      "wrapper([ 1.752e-01  1.376e-01 ...  9.108e-01  1.000e+00]) = -0.03283645913801337\n",
      "assembly_constraint_no_mean([ 1.752e-01  1.376e-01 ...  9.108e-01  1.000e+00]) = [ 9.897e-01  8.121e-01 ... -1.043e+00  5.370e-01]\n"
     ]
    },
    {
     "data": {
      "application/vnd.jupyter.widget-view+json": {
       "model_id": "c010a1a1209c4ca78a2ce4dab1a73181",
       "version_major": 2,
       "version_minor": 0
      },
      "text/plain": [
       "  0%|          | 0/10000 [00:00<?, ?it/s]"
      ]
     },
     "metadata": {},
     "output_type": "display_data"
    },
    {
     "name": "stdout",
     "output_type": "stream",
     "text": [
      "gld_params: [0.04354097 0.02356758 0.34398623 0.13808314]\n",
      "wrapper([ 6.985e-02  2.201e-02 ...  9.208e-01  9.299e-01]) = -0.027586912664208468\n",
      "assembly_constraint_no_mean([ 6.985e-02  2.201e-02 ...  9.208e-01  9.299e-01]) = [ 5.964e-02  1.691e-01 ...  1.713e-01  1.088e-01]\n"
     ]
    },
    {
     "data": {
      "application/vnd.jupyter.widget-view+json": {
       "model_id": "c875004740cf43bebd6b7d7442baa60c",
       "version_major": 2,
       "version_minor": 0
      },
      "text/plain": [
       "  0%|          | 0/10000 [00:00<?, ?it/s]"
      ]
     },
     "metadata": {},
     "output_type": "display_data"
    },
    {
     "name": "stdout",
     "output_type": "stream",
     "text": [
      "gld_params: [0.04277654 0.02352836 0.34177137 0.13670063]\n",
      "wrapper([ 2.282e-01  1.829e-01 ...  9.652e-01  1.000e+00]) = -0.03037328038086451\n",
      "assembly_constraint_no_mean([ 2.282e-01  1.829e-01 ...  9.652e-01  1.000e+00]) = [ 3.846e-01  5.344e-01 ... -2.371e-01  8.680e-01]\n"
     ]
    },
    {
     "data": {
      "application/vnd.jupyter.widget-view+json": {
       "model_id": "52cbf49d14434c1891de1688dba9dfd8",
       "version_major": 2,
       "version_minor": 0
      },
      "text/plain": [
       "  0%|          | 0/10000 [00:00<?, ?it/s]"
      ]
     },
     "metadata": {},
     "output_type": "display_data"
    },
    {
     "name": "stdout",
     "output_type": "stream",
     "text": [
      "gld_params: [0.04370667 0.02344924 0.34536192 0.13503681]\n",
      "wrapper([ 9.370e-02  3.395e-02 ...  9.329e-01  9.395e-01]) = -0.02686176374248406\n",
      "assembly_constraint_no_mean([ 9.370e-02  3.395e-02 ...  9.329e-01  9.395e-01]) = [ 2.744e-01  1.248e-01 ... -2.539e-02  1.983e-01]\n"
     ]
    },
    {
     "data": {
      "application/vnd.jupyter.widget-view+json": {
       "model_id": "78b3f9dd82c845cca829708b9968cc37",
       "version_major": 2,
       "version_minor": 0
      },
      "text/plain": [
       "  0%|          | 0/10000 [00:00<?, ?it/s]"
      ]
     },
     "metadata": {},
     "output_type": "display_data"
    },
    {
     "name": "stdout",
     "output_type": "stream",
     "text": [
      "gld_params: [0.04268211 0.02364579 0.34117122 0.13647137]\n",
      "wrapper([ 1.038e-01  4.761e-02 ...  9.116e-01  9.268e-01]) = -0.031503504153913786\n",
      "assembly_constraint_no_mean([ 1.038e-01  4.761e-02 ...  9.116e-01  9.268e-01]) = [ 8.930e-01  1.906e-01 ...  9.445e-01  8.277e-02]\n"
     ]
    },
    {
     "data": {
      "application/vnd.jupyter.widget-view+json": {
       "model_id": "a46be476c1b640638c812e76ab2a8bfc",
       "version_major": 2,
       "version_minor": 0
      },
      "text/plain": [
       "  0%|          | 0/10000 [00:00<?, ?it/s]"
      ]
     },
     "metadata": {},
     "output_type": "display_data"
    },
    {
     "name": "stdout",
     "output_type": "stream",
     "text": [
      "gld_params: [0.04356458 0.02369235 0.34507234 0.13880935]\n",
      "wrapper([ 1.349e-01  8.868e-02 ...  8.478e-01  9.985e-01]) = -0.027818802345558728\n",
      "assembly_constraint_no_mean([ 1.349e-01  8.868e-02 ...  8.478e-01  9.985e-01]) = [ 2.325e-01  1.396e-01 ...  5.600e-02  1.794e-01]\n"
     ]
    },
    {
     "data": {
      "application/vnd.jupyter.widget-view+json": {
       "model_id": "b914da0c73fd436f98c23b7d537e4db4",
       "version_major": 2,
       "version_minor": 0
      },
      "text/plain": [
       "  0%|          | 0/10000 [00:00<?, ?it/s]"
      ]
     },
     "metadata": {},
     "output_type": "display_data"
    },
    {
     "name": "stdout",
     "output_type": "stream",
     "text": [
      "gld_params: [0.04239324 0.02365035 0.34251144 0.13620946]\n",
      "wrapper([ 2.183e-01  1.616e-01 ...  7.171e-01  1.000e+00]) = -0.0322275289240311\n",
      "assembly_constraint_no_mean([ 2.183e-01  1.616e-01 ...  7.171e-01  1.000e+00]) = [ 4.074e-01  1.115e+00 ...  1.221e+00 -1.270e-01]\n"
     ]
    },
    {
     "data": {
      "application/vnd.jupyter.widget-view+json": {
       "model_id": "fdca7dff585a402bba89b0e98dae04fa",
       "version_major": 2,
       "version_minor": 0
      },
      "text/plain": [
       "  0%|          | 0/10000 [00:00<?, ?it/s]"
      ]
     },
     "metadata": {},
     "output_type": "display_data"
    },
    {
     "name": "stdout",
     "output_type": "stream",
     "text": [
      "gld_params: [0.0436181  0.02372929 0.3470461  0.13843753]\n",
      "wrapper([ 6.962e-02  1.799e-02 ...  8.865e-01  9.518e-01]) = -0.02755397651981306\n",
      "assembly_constraint_no_mean([ 6.962e-02  1.799e-02 ...  8.865e-01  9.518e-01]) = [ 1.823e-01  9.684e-02 ...  2.821e-01  3.448e-02]\n"
     ]
    },
    {
     "data": {
      "application/vnd.jupyter.widget-view+json": {
       "model_id": "32eefc30e9414a2c884fbd783660b982",
       "version_major": 2,
       "version_minor": 0
      },
      "text/plain": [
       "  0%|          | 0/10000 [00:00<?, ?it/s]"
      ]
     },
     "metadata": {},
     "output_type": "display_data"
    },
    {
     "name": "stdout",
     "output_type": "stream",
     "text": [
      "gld_params: [0.04176187 0.02392262 0.34329251 0.13639759]\n",
      "wrapper([ 2.676e-01  2.569e-01 ...  9.803e-01  1.000e+00]) = -0.03574191371533318\n",
      "assembly_constraint_no_mean([ 2.676e-01  2.569e-01 ...  9.803e-01  1.000e+00]) = [ 1.056e+00  1.048e+00 ...  9.659e-01  1.132e+00]\n"
     ]
    },
    {
     "data": {
      "application/vnd.jupyter.widget-view+json": {
       "model_id": "afe9d930cad6402f945d0e634366a49c",
       "version_major": 2,
       "version_minor": 0
      },
      "text/plain": [
       "  0%|          | 0/10000 [00:00<?, ?it/s]"
      ]
     },
     "metadata": {},
     "output_type": "display_data"
    },
    {
     "name": "stdout",
     "output_type": "stream",
     "text": [
      "gld_params: [0.04370261 0.0237537  0.34580292 0.13766318]\n",
      "wrapper([ 7.877e-02  5.099e-02 ...  9.147e-01  9.214e-01]) = -0.027841758102618255\n",
      "assembly_constraint_no_mean([ 7.877e-02  5.099e-02 ...  9.147e-01  9.214e-01]) = [ 6.667e-02  1.636e-01 ...  2.433e-01  1.264e-02]\n"
     ]
    },
    {
     "data": {
      "application/vnd.jupyter.widget-view+json": {
       "model_id": "d2e56f01d66c43498f9977ceba0c9fb6",
       "version_major": 2,
       "version_minor": 0
      },
      "text/plain": [
       "  0%|          | 0/10000 [00:00<?, ?it/s]"
      ]
     },
     "metadata": {},
     "output_type": "display_data"
    },
    {
     "name": "stdout",
     "output_type": "stream",
     "text": [
      "gld_params: [0.04290997 0.02344097 0.34035793 0.13401229]\n",
      "wrapper([ 3.428e-01  0.000e+00 ...  8.333e-01  1.000e+00]) = -0.03033367410558211\n",
      "assembly_constraint_no_mean([ 3.428e-01  0.000e+00 ...  8.333e-01  1.000e+00]) = [ 2.423e-01  1.141e+00 ...  4.035e-02  5.200e-01]\n"
     ]
    },
    {
     "data": {
      "application/vnd.jupyter.widget-view+json": {
       "model_id": "84f3b6325d724fa4a92d99533c65598b",
       "version_major": 2,
       "version_minor": 0
      },
      "text/plain": [
       "  0%|          | 0/10000 [00:00<?, ?it/s]"
      ]
     },
     "metadata": {},
     "output_type": "display_data"
    },
    {
     "name": "stdout",
     "output_type": "stream",
     "text": [
      "gld_params: [0.04363734 0.02366957 0.34688667 0.13744894]\n",
      "wrapper([ 1.876e-01  0.000e+00 ...  8.133e-01  1.000e+00]) = -0.027423819873911785\n",
      "assembly_constraint_no_mean([ 1.876e-01  0.000e+00 ...  8.133e-01  1.000e+00]) = [ 4.356e-02  3.107e-01 ...  2.368e-02  1.428e-01]\n"
     ]
    },
    {
     "data": {
      "application/vnd.jupyter.widget-view+json": {
       "model_id": "9bf3647eb3274559a40d8a3f45fe871a",
       "version_major": 2,
       "version_minor": 0
      },
      "text/plain": [
       "  0%|          | 0/10000 [00:00<?, ?it/s]"
      ]
     },
     "metadata": {},
     "output_type": "display_data"
    },
    {
     "name": "stdout",
     "output_type": "stream",
     "text": [
      "gld_params: [0.04280373 0.02371373 0.34267578 0.14114915]\n",
      "wrapper([ 2.578e-01  1.709e-01 ...  8.939e-01  1.000e+00]) = -0.030191274599701157\n",
      "assembly_constraint_no_mean([ 2.578e-01  1.709e-01 ...  8.939e-01  1.000e+00]) = [ 1.000e+00 -4.278e-01 ...  9.674e-01  7.223e-01]\n"
     ]
    },
    {
     "data": {
      "application/vnd.jupyter.widget-view+json": {
       "model_id": "90d1b839147b4816a41c2fbd992277ba",
       "version_major": 2,
       "version_minor": 0
      },
      "text/plain": [
       "  0%|          | 0/10000 [00:00<?, ?it/s]"
      ]
     },
     "metadata": {},
     "output_type": "display_data"
    },
    {
     "name": "stdout",
     "output_type": "stream",
     "text": [
      "gld_params: [0.04362464 0.02378953 0.34694592 0.14035888]\n",
      "wrapper([ 1.729e-01  0.000e+00 ...  9.862e-01  8.919e-01]) = -0.02747746674548598\n",
      "assembly_constraint_no_mean([ 1.729e-01  0.000e+00 ...  9.862e-01  8.919e-01]) = [ 2.058e-01  1.651e-01 ...  8.667e-02  3.317e-01]\n"
     ]
    },
    {
     "data": {
      "application/vnd.jupyter.widget-view+json": {
       "model_id": "985424895d004559bc12bdf3cf94ab2a",
       "version_major": 2,
       "version_minor": 0
      },
      "text/plain": [
       "  0%|          | 0/10000 [00:00<?, ?it/s]"
      ]
     },
     "metadata": {},
     "output_type": "display_data"
    },
    {
     "name": "stdout",
     "output_type": "stream",
     "text": [
      "gld_params: [0.04319452 0.02326125 0.34328465 0.13140131]\n",
      "wrapper([ 2.641e-01  0.000e+00 ...  9.021e-01  1.000e+00]) = -0.028466812605008954\n",
      "assembly_constraint_no_mean([ 2.641e-01  0.000e+00 ...  9.021e-01  1.000e+00]) = [ 6.491e-01  1.167e-01 ... -2.016e-01  6.030e-01]\n"
     ]
    },
    {
     "data": {
      "application/vnd.jupyter.widget-view+json": {
       "model_id": "6916ffe6050c483da35fc0f01497cf57",
       "version_major": 2,
       "version_minor": 0
      },
      "text/plain": [
       "  0%|          | 0/10000 [00:00<?, ?it/s]"
      ]
     },
     "metadata": {},
     "output_type": "display_data"
    },
    {
     "name": "stdout",
     "output_type": "stream",
     "text": [
      "gld_params: [0.04369459 0.02380941 0.34765463 0.13896005]\n",
      "wrapper([ 1.319e-01  2.776e-17 ...  8.982e-01  9.635e-01]) = -0.027529861805321933\n",
      "assembly_constraint_no_mean([ 1.319e-01  2.776e-17 ...  8.982e-01  9.635e-01]) = [ 1.084e-01  4.871e-02 ...  2.879e-02  1.384e-01]\n"
     ]
    },
    {
     "data": {
      "application/vnd.jupyter.widget-view+json": {
       "model_id": "1ffd41b5a8c548fc953fae8184eff1be",
       "version_major": 2,
       "version_minor": 0
      },
      "text/plain": [
       "  0%|          | 0/10000 [00:00<?, ?it/s]"
      ]
     },
     "metadata": {},
     "output_type": "display_data"
    },
    {
     "name": "stdout",
     "output_type": "stream",
     "text": [
      "gld_params: [0.04411789 0.02362062 0.34596685 0.13492386]\n",
      "wrapper([ 0.000e+00  1.017e-17 ...  8.667e-01  9.683e-01]) = -0.026518119742272903\n",
      "assembly_constraint_no_mean([ 0.000e+00  1.017e-17 ...  8.667e-01  9.683e-01]) = [-5.913e-02  7.117e-02 ... -1.998e-02  6.387e-03]\n"
     ]
    },
    {
     "data": {
      "application/vnd.jupyter.widget-view+json": {
       "model_id": "5eb7f04e99e8427c80c3826e28e19fdc",
       "version_major": 2,
       "version_minor": 0
      },
      "text/plain": [
       "  0%|          | 0/10000 [00:00<?, ?it/s]"
      ]
     },
     "metadata": {},
     "output_type": "display_data"
    },
    {
     "name": "stdout",
     "output_type": "stream",
     "text": [
      "gld_params: [0.0428744  0.02425887 0.34873427 0.14153062]\n",
      "wrapper([ 4.862e-02  0.000e+00 ...  1.000e+00  1.000e+00]) = -0.03167586130692125\n",
      "assembly_constraint_no_mean([ 4.862e-02  0.000e+00 ...  1.000e+00  1.000e+00]) = [-5.329e-01  8.392e-01 ...  1.093e+00  8.590e-01]\n"
     ]
    },
    {
     "data": {
      "application/vnd.jupyter.widget-view+json": {
       "model_id": "c3ab45b0ed7c4f3dbb15d23ab4023fee",
       "version_major": 2,
       "version_minor": 0
      },
      "text/plain": [
       "  0%|          | 0/10000 [00:00<?, ?it/s]"
      ]
     },
     "metadata": {},
     "output_type": "display_data"
    },
    {
     "name": "stdout",
     "output_type": "stream",
     "text": [
      "gld_params: [0.04366849 0.02387662 0.34883474 0.13937245]\n",
      "wrapper([ 0.000e+00  1.106e-18 ...  8.807e-01  9.833e-01]) = -0.02764164322712192\n",
      "assembly_constraint_no_mean([ 0.000e+00  1.106e-18 ...  8.807e-01  9.833e-01]) = [ 1.212e-01  2.049e-01 ...  2.885e-01  1.638e-01]\n"
     ]
    },
    {
     "data": {
      "application/vnd.jupyter.widget-view+json": {
       "model_id": "7d284367df3f498992ead1502b4332fe",
       "version_major": 2,
       "version_minor": 0
      },
      "text/plain": [
       "  0%|          | 0/10000 [00:00<?, ?it/s]"
      ]
     },
     "metadata": {},
     "output_type": "display_data"
    },
    {
     "name": "stdout",
     "output_type": "stream",
     "text": [
      "gld_params: [0.0425491  0.02428929 0.34751715 0.13782836]\n",
      "wrapper([ 2.191e-01  0.000e+00 ...  1.000e+00  1.000e+00]) = -0.033982552963344195\n",
      "assembly_constraint_no_mean([ 2.191e-01  0.000e+00 ...  1.000e+00  1.000e+00]) = [ 9.879e-01  9.582e-01 ...  5.174e-01  1.014e+00]\n"
     ]
    },
    {
     "data": {
      "application/vnd.jupyter.widget-view+json": {
       "model_id": "699237b09e4f4944a43a6544bdf01d56",
       "version_major": 2,
       "version_minor": 0
      },
      "text/plain": [
       "  0%|          | 0/10000 [00:00<?, ?it/s]"
      ]
     },
     "metadata": {},
     "output_type": "display_data"
    },
    {
     "name": "stdout",
     "output_type": "stream",
     "text": [
      "gld_params: [0.04352171 0.02400413 0.35000627 0.13969605]\n",
      "wrapper([ 1.954e-01  7.539e-19 ...  9.260e-01  9.500e-01]) = -0.028439883922769187\n",
      "assembly_constraint_no_mean([ 1.954e-01  7.539e-19 ...  9.260e-01  9.500e-01]) = [ 3.845e-01  1.432e-01 ...  3.353e-01  1.978e-01]\n"
     ]
    },
    {
     "data": {
      "application/vnd.jupyter.widget-view+json": {
       "model_id": "53c51a31d0be4264b872627ff32a9554",
       "version_major": 2,
       "version_minor": 0
      },
      "text/plain": [
       "  0%|          | 0/10000 [00:00<?, ?it/s]"
      ]
     },
     "metadata": {},
     "output_type": "display_data"
    },
    {
     "name": "stdout",
     "output_type": "stream",
     "text": [
      "gld_params: [0.04523964 0.0231458  0.34575443 0.13903112]\n",
      "wrapper([ 8.206e-03  0.000e+00 ...  7.666e-01  9.303e-01]) = -0.020660121528298495\n",
      "assembly_constraint_no_mean([ 8.206e-03  0.000e+00 ...  7.666e-01  9.303e-01]) = [-3.330e-01 -1.312e+00 ... -1.405e+00 -6.527e-01]\n"
     ]
    },
    {
     "data": {
      "application/vnd.jupyter.widget-view+json": {
       "model_id": "4014e85e795649d0a2e9c735fc83d184",
       "version_major": 2,
       "version_minor": 0
      },
      "text/plain": [
       "  0%|          | 0/10000 [00:00<?, ?it/s]"
      ]
     },
     "metadata": {},
     "output_type": "display_data"
    },
    {
     "name": "stdout",
     "output_type": "stream",
     "text": [
      "gld_params: [0.04368641 0.02400237 0.3491861  0.13971504]\n",
      "wrapper([ 0.000e+00  4.533e-21 ...  9.000e-01  9.506e-01]) = -0.028110175711970085\n",
      "assembly_constraint_no_mean([ 0.000e+00  4.533e-21 ...  9.000e-01  9.506e-01]) = [ 2.567e-01  2.953e-01 ...  1.596e-01  1.069e-01]\n"
     ]
    },
    {
     "data": {
      "application/vnd.jupyter.widget-view+json": {
       "model_id": "7d72308d8d9342e6bd7b5c6004479529",
       "version_major": 2,
       "version_minor": 0
      },
      "text/plain": [
       "  0%|          | 0/10000 [00:00<?, ?it/s]"
      ]
     },
     "metadata": {},
     "output_type": "display_data"
    },
    {
     "name": "stdout",
     "output_type": "stream",
     "text": [
      "gld_params: [0.04378554 0.02405723 0.33991964 0.14037251]\n",
      "wrapper([ 2.083e-01  0.000e+00 ...  1.000e+00  1.000e+00]) = -0.02982393316220341\n",
      "assembly_constraint_no_mean([ 2.083e-01  0.000e+00 ...  1.000e+00  1.000e+00]) = [-2.570e+00  8.498e-03 ...  4.669e-01  8.590e-01]\n"
     ]
    },
    {
     "data": {
      "application/vnd.jupyter.widget-view+json": {
       "model_id": "d994e183fa6f4b46bcc80a6b1b08c555",
       "version_major": 2,
       "version_minor": 0
      },
      "text/plain": [
       "  0%|          | 0/10000 [00:00<?, ?it/s]"
      ]
     },
     "metadata": {},
     "output_type": "display_data"
    },
    {
     "name": "stdout",
     "output_type": "stream",
     "text": [
      "gld_params: [0.04387359 0.02374365 0.34423835 0.1389434 ]\n",
      "wrapper([ 5.860e-02  3.187e-18 ...  8.403e-01  9.821e-01]) = -0.02734363960924263\n",
      "assembly_constraint_no_mean([ 5.860e-02  3.187e-18 ...  8.403e-01  9.821e-01]) = [ 2.902e-01  1.573e-01 ...  1.757e-01  3.227e-03]\n"
     ]
    },
    {
     "data": {
      "application/vnd.jupyter.widget-view+json": {
       "model_id": "6fcb7cfc91dc409481e86136f6715628",
       "version_major": 2,
       "version_minor": 0
      },
      "text/plain": [
       "  0%|          | 0/10000 [00:00<?, ?it/s]"
      ]
     },
     "metadata": {},
     "output_type": "display_data"
    },
    {
     "name": "stdout",
     "output_type": "stream",
     "text": [
      "gld_params: [0.04401496 0.02339524 0.34761741 0.13447693]\n",
      "wrapper([ 1.297e-01  0.000e+00 ...  8.441e-01  1.000e+00]) = -0.025439393701163354\n",
      "assembly_constraint_no_mean([ 1.297e-01  0.000e+00 ...  8.441e-01  1.000e+00]) = [ 8.119e-02  4.336e-01 ...  6.969e-01  1.255e-01]\n"
     ]
    },
    {
     "data": {
      "application/vnd.jupyter.widget-view+json": {
       "model_id": "2043f15223cf4769b033815cb2b325c8",
       "version_major": 2,
       "version_minor": 0
      },
      "text/plain": [
       "  0%|          | 0/10000 [00:00<?, ?it/s]"
      ]
     },
     "metadata": {},
     "output_type": "display_data"
    },
    {
     "name": "stdout",
     "output_type": "stream",
     "text": [
      "gld_params: [0.04374113 0.02392642 0.34756767 0.14063749]\n",
      "wrapper([ 7.856e-02  1.627e-17 ...  9.688e-01  8.930e-01]) = -0.027679667136263644\n",
      "assembly_constraint_no_mean([ 7.856e-02  1.627e-17 ...  9.688e-01  8.930e-01]) = [ 2.961e-01  1.476e-01 ...  7.609e-02  1.875e-01]\n"
     ]
    },
    {
     "data": {
      "application/vnd.jupyter.widget-view+json": {
       "model_id": "6f1ebae2bc574d54904f16220f232084",
       "version_major": 2,
       "version_minor": 0
      },
      "text/plain": [
       "  0%|          | 0/10000 [00:00<?, ?it/s]"
      ]
     },
     "metadata": {},
     "output_type": "display_data"
    },
    {
     "name": "stdout",
     "output_type": "stream",
     "text": [
      "gld_params: [0.04481488 0.02326699 0.34465238 0.13962532]\n",
      "wrapper([ 1.694e-01  0.000e+00 ...  9.833e-01  1.000e+00]) = -0.022291685174809443\n",
      "assembly_constraint_no_mean([ 1.694e-01  0.000e+00 ...  9.833e-01  1.000e+00]) = [-3.086e-01 -1.010e+00 ... -8.329e-01  9.558e-01]\n"
     ]
    },
    {
     "data": {
      "application/vnd.jupyter.widget-view+json": {
       "model_id": "7a32aca9c06e4e4ab68cdb6c590e6053",
       "version_major": 2,
       "version_minor": 0
      },
      "text/plain": [
       "  0%|          | 0/10000 [00:00<?, ?it/s]"
      ]
     },
     "metadata": {},
     "output_type": "display_data"
    },
    {
     "name": "stdout",
     "output_type": "stream",
     "text": [
      "gld_params: [0.04381057 0.02394393 0.35069195 0.13961002]\n",
      "wrapper([ 5.298e-02  2.252e-17 ...  8.792e-01  9.632e-01]) = -0.027178899115614906\n",
      "assembly_constraint_no_mean([ 5.298e-02  2.252e-17 ...  8.792e-01  9.632e-01]) = [-2.519e-02  5.226e-02 ...  1.712e-01  4.033e-02]\n"
     ]
    },
    {
     "data": {
      "application/vnd.jupyter.widget-view+json": {
       "model_id": "a035cfc209484a98b7ba9974f654e8c2",
       "version_major": 2,
       "version_minor": 0
      },
      "text/plain": [
       "  0%|          | 0/10000 [00:00<?, ?it/s]"
      ]
     },
     "metadata": {},
     "output_type": "display_data"
    },
    {
     "name": "stdout",
     "output_type": "stream",
     "text": [
      "gld_params: [0.04473062 0.02358509 0.34698983 0.13877349]\n",
      "wrapper([ 2.601e-02  0.000e+00 ...  7.615e-01  6.804e-01]) = -0.023776284465044574\n",
      "assembly_constraint_no_mean([ 2.601e-02  0.000e+00 ...  7.615e-01  6.804e-01]) = [ 2.456e-01  9.194e-01 ...  2.188e-01 -2.120e+00]\n"
     ]
    },
    {
     "data": {
      "application/vnd.jupyter.widget-view+json": {
       "model_id": "5352da2a69da4b4faf709fa7d526a0ab",
       "version_major": 2,
       "version_minor": 0
      },
      "text/plain": [
       "  0%|          | 0/10000 [00:00<?, ?it/s]"
      ]
     },
     "metadata": {},
     "output_type": "display_data"
    },
    {
     "name": "stdout",
     "output_type": "stream",
     "text": [
      "gld_params: [0.04379178 0.02393745 0.34808989 0.14135493]\n",
      "wrapper([ 0.000e+00  1.223e-17 ...  9.422e-01  9.203e-01]) = -0.027345962436456785\n",
      "assembly_constraint_no_mean([ 0.000e+00  1.223e-17 ...  9.422e-01  9.203e-01]) = [ 1.375e-01  1.722e-02 ...  1.700e-01  1.400e-01]\n"
     ]
    },
    {
     "data": {
      "application/vnd.jupyter.widget-view+json": {
       "model_id": "cf90d6873d5347198651d493d6a2daca",
       "version_major": 2,
       "version_minor": 0
      },
      "text/plain": [
       "  0%|          | 0/10000 [00:00<?, ?it/s]"
      ]
     },
     "metadata": {},
     "output_type": "display_data"
    },
    {
     "name": "stdout",
     "output_type": "stream",
     "text": [
      "gld_params: [0.04281541 0.02442917 0.34958506 0.13818745]\n",
      "wrapper([ 0.000e+00  0.000e+00 ...  1.000e+00  1.000e+00]) = -0.03337753899401708\n",
      "assembly_constraint_no_mean([ 0.000e+00  0.000e+00 ...  1.000e+00  1.000e+00]) = [ 8.590e-01  8.590e-01 ...  9.000e-01  9.314e-01]\n"
     ]
    },
    {
     "data": {
      "application/vnd.jupyter.widget-view+json": {
       "model_id": "b65aa1b939fc492798689bd5a2deeb7a",
       "version_major": 2,
       "version_minor": 0
      },
      "text/plain": [
       "  0%|          | 0/10000 [00:00<?, ?it/s]"
      ]
     },
     "metadata": {},
     "output_type": "display_data"
    },
    {
     "name": "stdout",
     "output_type": "stream",
     "text": [
      "gld_params: [0.04377014 0.0239845  0.35100956 0.14030151]\n",
      "wrapper([ 2.082e-17  9.886e-18 ...  9.455e-01  9.119e-01]) = -0.027302023200422552\n",
      "assembly_constraint_no_mean([ 2.082e-17  9.886e-18 ...  9.455e-01  9.119e-01]) = [ 1.374e-01  7.892e-02 ...  2.972e-02  1.419e-01]\n"
     ]
    },
    {
     "data": {
      "application/vnd.jupyter.widget-view+json": {
       "model_id": "987aa478e6514919a29260e3aea3bc08",
       "version_major": 2,
       "version_minor": 0
      },
      "text/plain": [
       "  0%|          | 0/10000 [00:00<?, ?it/s]"
      ]
     },
     "metadata": {},
     "output_type": "display_data"
    },
    {
     "name": "stdout",
     "output_type": "stream",
     "text": [
      "gld_params: [0.04351032 0.02426593 0.35207385 0.14399933]\n",
      "wrapper([ 0.000e+00  0.000e+00 ...  1.000e+00  1.000e+00]) = -0.028544467291033503\n",
      "assembly_constraint_no_mean([ 0.000e+00  0.000e+00 ...  1.000e+00  1.000e+00]) = [ 1.129e-01 -5.934e-02 ...  1.445e-01  8.984e-01]\n"
     ]
    },
    {
     "data": {
      "application/vnd.jupyter.widget-view+json": {
       "model_id": "e3a3d1e4a2784d3eb856d603631ebaad",
       "version_major": 2,
       "version_minor": 0
      },
      "text/plain": [
       "  0%|          | 0/10000 [00:00<?, ?it/s]"
      ]
     },
     "metadata": {},
     "output_type": "display_data"
    },
    {
     "name": "stdout",
     "output_type": "stream",
     "text": [
      "gld_params: [0.04385113 0.0237899  0.3457813  0.13962912]\n",
      "wrapper([ 1.622e-01  3.546e-18 ...  9.365e-01  9.191e-01]) = -0.027210848265329195\n",
      "assembly_constraint_no_mean([ 1.622e-01  3.546e-18 ...  9.365e-01  9.191e-01]) = [ 8.730e-02  5.262e-02 ...  6.603e-02  1.176e-01]\n"
     ]
    },
    {
     "data": {
      "application/vnd.jupyter.widget-view+json": {
       "model_id": "86477744286047159de6e97b1788267f",
       "version_major": 2,
       "version_minor": 0
      },
      "text/plain": [
       "  0%|          | 0/10000 [00:00<?, ?it/s]"
      ]
     },
     "metadata": {},
     "output_type": "display_data"
    },
    {
     "name": "stdout",
     "output_type": "stream",
     "text": [
      "gld_params: [0.04399359 0.0237686  0.3504463  0.13840199]\n",
      "wrapper([ 0.000e+00  0.000e+00 ...  6.489e-01  1.000e+00]) = -0.026068663677471984\n",
      "assembly_constraint_no_mean([ 0.000e+00  0.000e+00 ...  6.489e-01  1.000e+00]) = [ 5.850e-01 -2.268e-01 ...  9.371e-01 -4.863e-01]\n"
     ]
    },
    {
     "data": {
      "application/vnd.jupyter.widget-view+json": {
       "model_id": "0e50d2cddc99472ab25e07e3710d2e92",
       "version_major": 2,
       "version_minor": 0
      },
      "text/plain": [
       "  0%|          | 0/10000 [00:00<?, ?it/s]"
      ]
     },
     "metadata": {},
     "output_type": "display_data"
    },
    {
     "name": "stdout",
     "output_type": "stream",
     "text": [
      "gld_params: [0.04380753 0.02379684 0.34784404 0.14037597]\n",
      "wrapper([ 6.939e-18  0.000e+00 ...  9.213e-01  9.216e-01]) = -0.026819157995059205\n",
      "assembly_constraint_no_mean([ 6.939e-18  0.000e+00 ...  9.213e-01  9.216e-01]) = [ 1.140e-01  8.685e-03 ... -2.343e-03  4.686e-02]\n"
     ]
    },
    {
     "data": {
      "application/vnd.jupyter.widget-view+json": {
       "model_id": "990145c719af4c369a4525ed3ae67ad1",
       "version_major": 2,
       "version_minor": 0
      },
      "text/plain": [
       "  0%|          | 0/10000 [00:00<?, ?it/s]"
      ]
     },
     "metadata": {},
     "output_type": "display_data"
    },
    {
     "name": "stdout",
     "output_type": "stream",
     "text": [
      "gld_params: [0.04229924 0.02447604 0.35410767 0.13878047]\n",
      "wrapper([ 0.000e+00  0.000e+00 ...  1.000e+00  1.000e+00]) = -0.034223550186391755\n",
      "assembly_constraint_no_mean([ 0.000e+00  0.000e+00 ...  1.000e+00  1.000e+00]) = [ 3.675e-01  1.046e+00 ...  7.852e-02  8.590e-01]\n"
     ]
    },
    {
     "data": {
      "application/vnd.jupyter.widget-view+json": {
       "model_id": "94bad144724d4a19b86de2c6998996e5",
       "version_major": 2,
       "version_minor": 0
      },
      "text/plain": [
       "  0%|          | 0/10000 [00:00<?, ?it/s]"
      ]
     },
     "metadata": {},
     "output_type": "display_data"
    },
    {
     "name": "stdout",
     "output_type": "stream",
     "text": [
      "gld_params: [0.04363537 0.0239465  0.34993674 0.14291103]\n",
      "wrapper([ 6.939e-18  1.835e-17 ...  9.254e-01  9.211e-01]) = -0.027156364308182544\n",
      "assembly_constraint_no_mean([ 6.939e-18  1.835e-17 ...  9.254e-01  9.211e-01]) = [ 1.229e-01  7.228e-02 ...  2.301e-02  4.798e-02]\n"
     ]
    },
    {
     "data": {
      "application/vnd.jupyter.widget-view+json": {
       "model_id": "584e5fe959ce40ad85595bd8947fae35",
       "version_major": 2,
       "version_minor": 0
      },
      "text/plain": [
       "  0%|          | 0/10000 [00:00<?, ?it/s]"
      ]
     },
     "metadata": {},
     "output_type": "display_data"
    },
    {
     "name": "stdout",
     "output_type": "stream",
     "text": [
      "gld_params: [0.0446683  0.02372419 0.34635092 0.14169858]\n",
      "wrapper([ 7.971e-03  0.000e+00 ...  1.000e+00  1.000e+00]) = -0.02414937216118705\n",
      "assembly_constraint_no_mean([ 7.971e-03  0.000e+00 ...  1.000e+00  1.000e+00]) = [-6.792e-02 -1.056e+00 ...  3.046e-01  8.590e-01]\n"
     ]
    },
    {
     "data": {
      "application/vnd.jupyter.widget-view+json": {
       "model_id": "f4188888c1684ae29b18ffd64de7ef68",
       "version_major": 2,
       "version_minor": 0
      },
      "text/plain": [
       "  0%|          | 0/10000 [00:00<?, ?it/s]"
      ]
     },
     "metadata": {},
     "output_type": "display_data"
    },
    {
     "name": "stdout",
     "output_type": "stream",
     "text": [
      "gld_params: [0.04372416 0.02382438 0.34818932 0.14021187]\n",
      "wrapper([ 0.000e+00  8.515e-19 ...  9.316e-01  9.183e-01]) = -0.027163401787715855\n",
      "assembly_constraint_no_mean([ 0.000e+00  8.515e-19 ...  9.316e-01  9.183e-01]) = [ 1.304e-01  5.376e-02 ...  5.000e-02  8.550e-02]\n"
     ]
    },
    {
     "data": {
      "application/vnd.jupyter.widget-view+json": {
       "model_id": "f08259804a76431a9f9f109f3aa66d7c",
       "version_major": 2,
       "version_minor": 0
      },
      "text/plain": [
       "  0%|          | 0/10000 [00:00<?, ?it/s]"
      ]
     },
     "metadata": {},
     "output_type": "display_data"
    },
    {
     "name": "stdout",
     "output_type": "stream",
     "text": [
      "gld_params: [0.0456864  0.02329724 0.34489735 0.13433873]\n",
      "wrapper([ 1.277e-01  0.000e+00 ...  9.558e-01  1.000e+00]) = -0.021321136920183354\n",
      "assembly_constraint_no_mean([ 1.277e-01  0.000e+00 ...  9.558e-01  1.000e+00]) = [-1.264e+00  9.770e-01 ...  1.946e-01  6.269e-01]\n"
     ]
    },
    {
     "data": {
      "application/vnd.jupyter.widget-view+json": {
       "model_id": "9a2278f3f924448eb94e19c25f005265",
       "version_major": 2,
       "version_minor": 0
      },
      "text/plain": [
       "  0%|          | 0/10000 [00:00<?, ?it/s]"
      ]
     },
     "metadata": {},
     "output_type": "display_data"
    },
    {
     "name": "stdout",
     "output_type": "stream",
     "text": [
      "gld_params: [0.04388333 0.02381292 0.3467219  0.13934588]\n",
      "wrapper([ 2.776e-17  3.468e-18 ...  9.241e-01  9.240e-01]) = -0.027114759217908794\n",
      "assembly_constraint_no_mean([ 2.776e-17  3.468e-18 ...  9.241e-01  9.240e-01]) = [ 3.302e-02  7.387e-02 ... -3.444e-03  7.219e-02]\n"
     ]
    },
    {
     "data": {
      "application/vnd.jupyter.widget-view+json": {
       "model_id": "7df95bc955af4e17a21f504087223b41",
       "version_major": 2,
       "version_minor": 0
      },
      "text/plain": [
       "  0%|          | 0/10000 [00:00<?, ?it/s]"
      ]
     },
     "metadata": {},
     "output_type": "display_data"
    },
    {
     "name": "stdout",
     "output_type": "stream",
     "text": [
      "gld_params: [0.04276813 0.0242442  0.35136402 0.13823241]\n",
      "wrapper([ 0.000e+00  0.000e+00 ...  9.637e-01  8.932e-01]) = -0.03208714415933288\n",
      "assembly_constraint_no_mean([ 0.000e+00  0.000e+00 ...  9.637e-01  8.932e-01]) = [ 2.637e-01  9.848e-01 ...  7.201e-02  1.026e-01]\n"
     ]
    },
    {
     "data": {
      "application/vnd.jupyter.widget-view+json": {
       "model_id": "290c08215f0b4311bfa15298ec692be3",
       "version_major": 2,
       "version_minor": 0
      },
      "text/plain": [
       "  0%|          | 0/10000 [00:00<?, ?it/s]"
      ]
     },
     "metadata": {},
     "output_type": "display_data"
    },
    {
     "name": "stdout",
     "output_type": "stream",
     "text": [
      "gld_params: [0.04382122 0.02381687 0.34698852 0.1403326 ]\n",
      "wrapper([ 0.000e+00  0.000e+00 ...  9.340e-01  9.098e-01]) = -0.02705663461436492\n",
      "assembly_constraint_no_mean([ 0.000e+00  0.000e+00 ...  9.340e-01  9.098e-01]) = [ 1.552e-01  3.619e-02 ...  4.542e-02  6.901e-02]\n"
     ]
    },
    {
     "data": {
      "application/vnd.jupyter.widget-view+json": {
       "model_id": "cdfa3cdb7ebe4fdaac274eb522fea546",
       "version_major": 2,
       "version_minor": 0
      },
      "text/plain": [
       "  0%|          | 0/10000 [00:00<?, ?it/s]"
      ]
     },
     "metadata": {},
     "output_type": "display_data"
    },
    {
     "name": "stdout",
     "output_type": "stream",
     "text": [
      "gld_params: [0.04394177 0.02385308 0.34614017 0.13603664]\n",
      "wrapper([ 3.559e-02  0.000e+00 ...  9.877e-01  1.000e+00]) = -0.027952185712640278\n",
      "assembly_constraint_no_mean([ 3.559e-02  0.000e+00 ...  9.877e-01  1.000e+00]) = [ 8.620e-01  9.965e-01 ...  1.793e-01  7.927e-01]\n"
     ]
    },
    {
     "data": {
      "application/vnd.jupyter.widget-view+json": {
       "model_id": "86e470fb306f4cd3b121e27eb8a339c1",
       "version_major": 2,
       "version_minor": 0
      },
      "text/plain": [
       "  0%|          | 0/10000 [00:00<?, ?it/s]"
      ]
     },
     "metadata": {},
     "output_type": "display_data"
    },
    {
     "name": "stdout",
     "output_type": "stream",
     "text": [
      "gld_params: [0.04371638 0.02387492 0.34840662 0.14103042]\n",
      "wrapper([ 0.000e+00  1.313e-18 ...  9.091e-01  9.342e-01]) = -0.027240474428736852\n",
      "assembly_constraint_no_mean([ 0.000e+00  1.313e-18 ...  9.091e-01  9.342e-01]) = [ 1.822e-01 -2.693e-03 ... -1.155e-02  3.856e-02]\n"
     ]
    },
    {
     "data": {
      "application/vnd.jupyter.widget-view+json": {
       "model_id": "35f146f4d7fe4e2f83d02ef871211cef",
       "version_major": 2,
       "version_minor": 0
      },
      "text/plain": [
       "  0%|          | 0/10000 [00:00<?, ?it/s]"
      ]
     },
     "metadata": {},
     "output_type": "display_data"
    },
    {
     "name": "stdout",
     "output_type": "stream",
     "text": [
      "gld_params: [0.04412126 0.02395636 0.34844518 0.13947611]\n",
      "wrapper([ 2.626e-01  0.000e+00 ...  1.000e+00  1.000e+00]) = -0.0268323942067869\n",
      "assembly_constraint_no_mean([ 2.626e-01  0.000e+00 ...  1.000e+00  1.000e+00]) = [-1.752e+00  2.067e-01 ...  4.273e-01  8.904e-01]\n"
     ]
    },
    {
     "data": {
      "application/vnd.jupyter.widget-view+json": {
       "model_id": "b370048650754abaa6a2ea59da748790",
       "version_major": 2,
       "version_minor": 0
      },
      "text/plain": [
       "  0%|          | 0/10000 [00:00<?, ?it/s]"
      ]
     },
     "metadata": {},
     "output_type": "display_data"
    },
    {
     "name": "stdout",
     "output_type": "stream",
     "text": [
      "gld_params: [0.04376078 0.0238281  0.34830939 0.14019017]\n",
      "wrapper([ 6.939e-18  5.964e-18 ...  9.137e-01  9.326e-01]) = -0.027060750915997342\n",
      "assembly_constraint_no_mean([ 6.939e-18  5.964e-18 ...  9.137e-01  9.326e-01]) = [ 1.571e-01  1.403e-02 ... -2.931e-03  6.259e-02]\n"
     ]
    },
    {
     "data": {
      "application/vnd.jupyter.widget-view+json": {
       "model_id": "88fa6feed22a47eaae525f05f5823d8a",
       "version_major": 2,
       "version_minor": 0
      },
      "text/plain": [
       "  0%|          | 0/10000 [00:00<?, ?it/s]"
      ]
     },
     "metadata": {},
     "output_type": "display_data"
    },
    {
     "name": "stdout",
     "output_type": "stream",
     "text": [
      "gld_params: [0.04358281 0.02421781 0.34981652 0.13718179]\n",
      "wrapper([ 0.000e+00  0.000e+00 ...  1.000e+00  1.000e+00]) = -0.02996936760428862\n",
      "assembly_constraint_no_mean([ 0.000e+00  0.000e+00 ...  1.000e+00  1.000e+00]) = [-3.043e-01  9.259e-01 ...  8.590e-01  8.953e-01]\n"
     ]
    },
    {
     "data": {
      "application/vnd.jupyter.widget-view+json": {
       "model_id": "22c680447a15401abc1a70501e1ace6d",
       "version_major": 2,
       "version_minor": 0
      },
      "text/plain": [
       "  0%|          | 0/10000 [00:00<?, ?it/s]"
      ]
     },
     "metadata": {},
     "output_type": "display_data"
    },
    {
     "name": "stdout",
     "output_type": "stream",
     "text": [
      "gld_params: [0.04380766 0.02385702 0.34937645 0.14005682]\n",
      "wrapper([ 0.000e+00  4.366e-19 ...  9.177e-01  9.293e-01]) = -0.026900955968118537\n",
      "assembly_constraint_no_mean([ 0.000e+00  4.366e-19 ...  9.177e-01  9.293e-01]) = [ 1.376e-01  1.466e-02 ...  5.349e-03  5.831e-02]\n"
     ]
    },
    {
     "data": {
      "application/vnd.jupyter.widget-view+json": {
       "model_id": "1ffbdc087050456092896e948155c986",
       "version_major": 2,
       "version_minor": 0
      },
      "text/plain": [
       "  0%|          | 0/10000 [00:00<?, ?it/s]"
      ]
     },
     "metadata": {},
     "output_type": "display_data"
    },
    {
     "name": "stdout",
     "output_type": "stream",
     "text": [
      "gld_params: [0.04447014 0.02378789 0.34894654 0.14279353]\n",
      "wrapper([ 7.649e-02  0.000e+00 ...  7.428e-01  6.184e-01]) = -0.024291653953885117\n",
      "assembly_constraint_no_mean([ 7.649e-02  0.000e+00 ...  7.428e-01  6.184e-01]) = [-1.262e+00  2.331e-01 ...  9.437e-01 -2.457e+00]\n"
     ]
    },
    {
     "data": {
      "application/vnd.jupyter.widget-view+json": {
       "model_id": "a1a688babbe34a31bc56ef7abe79f870",
       "version_major": 2,
       "version_minor": 0
      },
      "text/plain": [
       "  0%|          | 0/10000 [00:00<?, ?it/s]"
      ]
     },
     "metadata": {},
     "output_type": "display_data"
    },
    {
     "name": "stdout",
     "output_type": "stream",
     "text": [
      "gld_params: [0.04380423 0.02398587 0.35028068 0.1418458 ]\n",
      "wrapper([ 0.000e+00  2.690e-18 ...  9.068e-01  9.364e-01]) = -0.027033869829876135\n",
      "assembly_constraint_no_mean([ 0.000e+00  2.690e-18 ...  9.068e-01  9.364e-01]) = [ 1.441e-01  4.976e-02 ...  2.384e-02  4.502e-02]\n"
     ]
    },
    {
     "data": {
      "application/vnd.jupyter.widget-view+json": {
       "model_id": "691097fa90fd4e21ba921d98d304cbe7",
       "version_major": 2,
       "version_minor": 0
      },
      "text/plain": [
       "  0%|          | 0/10000 [00:00<?, ?it/s]"
      ]
     },
     "metadata": {},
     "output_type": "display_data"
    },
    {
     "name": "stdout",
     "output_type": "stream",
     "text": [
      "gld_params: [0.04304728 0.02427021 0.3472984  0.13858265]\n",
      "wrapper([ 0.000e+00  0.000e+00 ...  7.757e-01  1.000e+00]) = -0.0321372576472782\n",
      "assembly_constraint_no_mean([ 0.000e+00  0.000e+00 ...  7.757e-01  1.000e+00]) = [ 3.624e-01  3.037e-01 ... -2.636e-01  1.604e-01]\n"
     ]
    },
    {
     "data": {
      "application/vnd.jupyter.widget-view+json": {
       "model_id": "2f1a6bcba51a4b05a3a2e71e81d82b12",
       "version_major": 2,
       "version_minor": 0
      },
      "text/plain": [
       "  0%|          | 0/10000 [00:00<?, ?it/s]"
      ]
     },
     "metadata": {},
     "output_type": "display_data"
    },
    {
     "name": "stdout",
     "output_type": "stream",
     "text": [
      "gld_params: [0.04376768 0.02387107 0.3496629  0.13933377]\n",
      "wrapper([ 3.479e-17  2.944e-17 ...  9.099e-01  9.276e-01]) = -0.027178705099714873\n",
      "assembly_constraint_no_mean([ 3.479e-17  2.944e-17 ...  9.099e-01  9.276e-01]) = [ 1.786e-01  2.590e-02 ...  1.839e-02  5.282e-02]\n"
     ]
    },
    {
     "data": {
      "application/vnd.jupyter.widget-view+json": {
       "model_id": "dd82f2d904dd4de1938c80b7955c3564",
       "version_major": 2,
       "version_minor": 0
      },
      "text/plain": [
       "  0%|          | 0/10000 [00:00<?, ?it/s]"
      ]
     },
     "metadata": {},
     "output_type": "display_data"
    },
    {
     "name": "stdout",
     "output_type": "stream",
     "text": [
      "gld_params: [0.04512204 0.02326193 0.34812581 0.13442996]\n",
      "wrapper([ 0.000e+00  0.000e+00 ...  8.921e-01  9.887e-01]) = -0.021930590885448034\n",
      "assembly_constraint_no_mean([ 0.000e+00  0.000e+00 ...  8.921e-01  9.887e-01]) = [-2.740e-01  9.571e-01 ... -3.047e+00  2.945e-01]\n"
     ]
    },
    {
     "data": {
      "application/vnd.jupyter.widget-view+json": {
       "model_id": "2385fae0b3454d2ba6922a692a6a73ad",
       "version_major": 2,
       "version_minor": 0
      },
      "text/plain": [
       "  0%|          | 0/10000 [00:00<?, ?it/s]"
      ]
     },
     "metadata": {},
     "output_type": "display_data"
    },
    {
     "name": "stdout",
     "output_type": "stream",
     "text": [
      "gld_params: [0.04335054 0.02412363 0.35285253 0.13973019]\n",
      "wrapper([ 0.000e+00  0.000e+00 ...  8.299e-01  1.000e+00]) = -0.029001716166456807\n",
      "assembly_constraint_no_mean([ 0.000e+00  0.000e+00 ...  8.299e-01  1.000e+00]) = [ 1.817e-01  7.187e-01 ...  5.928e-01  6.732e-02]\n"
     ]
    },
    {
     "data": {
      "application/vnd.jupyter.widget-view+json": {
       "model_id": "0f9fa966458d4500aba90294ec621225",
       "version_major": 2,
       "version_minor": 0
      },
      "text/plain": [
       "  0%|          | 0/10000 [00:00<?, ?it/s]"
      ]
     },
     "metadata": {},
     "output_type": "display_data"
    },
    {
     "name": "stdout",
     "output_type": "stream",
     "text": [
      "gld_params: [0.04499645 0.02372038 0.35205168 0.14595587]\n",
      "wrapper([ 0.000e+00  0.000e+00 ...  1.000e+00  7.552e-01]) = -0.021503963280457096\n",
      "assembly_constraint_no_mean([ 0.000e+00  0.000e+00 ...  1.000e+00  7.552e-01]) = [ 2.492e-01 -9.080e-01 ... -2.805e-01 -1.606e-01]\n",
      "\n",
      "New trust-region radius: 0.05.\n",
      "Number of function evaluations: 137.\n",
      "Number of iterations: 44.\n",
      "Least value of wrapper: -0.027178899115614906.\n",
      "Maximum constraint violation: 0.1561921656118303.\n",
      "Corresponding point: [ 5.298e-02  0.000e+00 ...  8.792e-01  9.632e-01].\n",
      "\n"
     ]
    },
    {
     "data": {
      "application/vnd.jupyter.widget-view+json": {
       "model_id": "b5a40cf096a548459b19f4454ead31d9",
       "version_major": 2,
       "version_minor": 0
      },
      "text/plain": [
       "  0%|          | 0/10000 [00:00<?, ?it/s]"
      ]
     },
     "metadata": {},
     "output_type": "display_data"
    },
    {
     "name": "stdout",
     "output_type": "stream",
     "text": [
      "gld_params: [0.04386358 0.02389851 0.35080667 0.13971187]\n",
      "wrapper([ 0.000e+00  1.794e-19 ...  8.924e-01  9.467e-01]) = -0.026754396268537785\n",
      "assembly_constraint_no_mean([ 0.000e+00  1.794e-19 ...  8.924e-01  9.467e-01]) = [-8.559e-03  2.590e-02 ...  2.511e-02  3.591e-02]\n"
     ]
    },
    {
     "data": {
      "application/vnd.jupyter.widget-view+json": {
       "model_id": "2b5748fef11f462bb0cb7c5cce029787",
       "version_major": 2,
       "version_minor": 0
      },
      "text/plain": [
       "  0%|          | 0/10000 [00:00<?, ?it/s]"
      ]
     },
     "metadata": {},
     "output_type": "display_data"
    },
    {
     "name": "stdout",
     "output_type": "stream",
     "text": [
      "gld_params: [0.0438757  0.02390963 0.35030758 0.14085387]\n",
      "wrapper([ 6.347e-19  3.892e-18 ...  8.947e-01  9.415e-01]) = -0.02664132086090892\n",
      "assembly_constraint_no_mean([ 6.347e-19  3.892e-18 ...  8.947e-01  9.415e-01]) = [ 1.261e-01 -5.092e-03 ...  4.135e-02  1.820e-02]\n"
     ]
    },
    {
     "data": {
      "application/vnd.jupyter.widget-view+json": {
       "model_id": "051382c339c340a7825622b124ce86af",
       "version_major": 2,
       "version_minor": 0
      },
      "text/plain": [
       "  0%|          | 0/10000 [00:00<?, ?it/s]"
      ]
     },
     "metadata": {},
     "output_type": "display_data"
    },
    {
     "name": "stdout",
     "output_type": "stream",
     "text": [
      "gld_params: [0.04369876 0.02383976 0.3487937  0.13994703]\n",
      "wrapper([ 4.191e-02  3.358e-02 ...  9.058e-01  9.565e-01]) = -0.027255775083590394\n",
      "assembly_constraint_no_mean([ 4.191e-02  3.358e-02 ...  9.058e-01  9.565e-01]) = [ 2.072e-02  9.951e-02 ... -4.780e-02  1.800e-01]\n"
     ]
    },
    {
     "data": {
      "application/vnd.jupyter.widget-view+json": {
       "model_id": "0c6a1164f87e4d809a446f7c8ef7da4b",
       "version_major": 2,
       "version_minor": 0
      },
      "text/plain": [
       "  0%|          | 0/10000 [00:00<?, ?it/s]"
      ]
     },
     "metadata": {},
     "output_type": "display_data"
    },
    {
     "name": "stdout",
     "output_type": "stream",
     "text": [
      "gld_params: [0.04390595 0.02385524 0.34991156 0.13909998]\n",
      "wrapper([ 2.635e-18  8.387e-19 ...  9.005e-01  9.391e-01]) = -0.02671102353715686\n",
      "assembly_constraint_no_mean([ 2.635e-18  8.387e-19 ...  9.005e-01  9.391e-01]) = [ 8.343e-02  2.752e-02 ...  1.382e-02  2.307e-02]\n"
     ]
    },
    {
     "data": {
      "application/vnd.jupyter.widget-view+json": {
       "model_id": "8350f79a2ecf49d4b761aa323d600508",
       "version_major": 2,
       "version_minor": 0
      },
      "text/plain": [
       "  0%|          | 0/10000 [00:00<?, ?it/s]"
      ]
     },
     "metadata": {},
     "output_type": "display_data"
    },
    {
     "name": "stdout",
     "output_type": "stream",
     "text": [
      "gld_params: [0.04381197 0.02390418 0.35069237 0.13990154]\n",
      "wrapper([ 0.000e+00  0.000e+00 ...  8.655e-01  9.590e-01]) = -0.026910809705690073\n",
      "assembly_constraint_no_mean([ 0.000e+00  0.000e+00 ...  8.655e-01  9.590e-01]) = [ 1.506e-02  8.183e-02 ...  1.649e-01 -8.380e-03]\n"
     ]
    },
    {
     "data": {
      "application/vnd.jupyter.widget-view+json": {
       "model_id": "9abe39577c464d49bae84018c6546bcf",
       "version_major": 2,
       "version_minor": 0
      },
      "text/plain": [
       "  0%|          | 0/10000 [00:00<?, ?it/s]"
      ]
     },
     "metadata": {},
     "output_type": "display_data"
    },
    {
     "name": "stdout",
     "output_type": "stream",
     "text": [
      "gld_params: [0.04382037 0.02388708 0.35092153 0.13999001]\n",
      "wrapper([ 3.944e-18  2.422e-18 ...  8.958e-01  9.443e-01]) = -0.026737980920741748\n",
      "assembly_constraint_no_mean([ 3.944e-18  2.422e-18 ...  8.958e-01  9.443e-01]) = [ 4.535e-02 -1.652e-04 ...  1.856e-02  4.970e-02]\n"
     ]
    },
    {
     "data": {
      "application/vnd.jupyter.widget-view+json": {
       "model_id": "1013c6f19d0c4e5d9e7c28d662d799bb",
       "version_major": 2,
       "version_minor": 0
      },
      "text/plain": [
       "  0%|          | 0/10000 [00:00<?, ?it/s]"
      ]
     },
     "metadata": {},
     "output_type": "display_data"
    },
    {
     "name": "stdout",
     "output_type": "stream",
     "text": [
      "gld_params: [0.04386828 0.02386535 0.35036782 0.13924911]\n",
      "wrapper([ 0.000e+00  0.000e+00 ...  8.873e-01  9.478e-01]) = -0.02674974513394167\n",
      "assembly_constraint_no_mean([ 0.000e+00  0.000e+00 ...  8.873e-01  9.478e-01]) = [-8.424e-02 -1.299e-02 ... -1.608e-02  2.892e-02]\n"
     ]
    },
    {
     "data": {
      "application/vnd.jupyter.widget-view+json": {
       "model_id": "4b028582656f4b2d8b809dbd83ff7635",
       "version_major": 2,
       "version_minor": 0
      },
      "text/plain": [
       "  0%|          | 0/10000 [00:00<?, ?it/s]"
      ]
     },
     "metadata": {},
     "output_type": "display_data"
    },
    {
     "name": "stdout",
     "output_type": "stream",
     "text": [
      "gld_params: [0.04385083 0.02392209 0.3508984  0.14043394]\n",
      "wrapper([ 1.787e-02  2.735e-02 ...  8.989e-01  9.400e-01]) = -0.026745927101848206\n",
      "assembly_constraint_no_mean([ 1.787e-02  2.735e-02 ...  8.989e-01  9.400e-01]) = [ 3.332e-02  1.531e-02 ...  2.082e-02  2.861e-02]\n"
     ]
    },
    {
     "data": {
      "application/vnd.jupyter.widget-view+json": {
       "model_id": "a4118601ef064075bb6b7f55702f8bc1",
       "version_major": 2,
       "version_minor": 0
      },
      "text/plain": [
       "  0%|          | 0/10000 [00:00<?, ?it/s]"
      ]
     },
     "metadata": {},
     "output_type": "display_data"
    },
    {
     "name": "stdout",
     "output_type": "stream",
     "text": [
      "gld_params: [0.04380633 0.02395523 0.35159368 0.1410388 ]\n",
      "wrapper([ 3.177e-02  3.865e-03 ...  9.102e-01  9.302e-01]) = -0.026783155960232806\n",
      "assembly_constraint_no_mean([ 3.177e-02  3.865e-03 ...  9.102e-01  9.302e-01]) = [ 3.272e-02  2.936e-02 ...  2.685e-02  3.145e-02]\n"
     ]
    },
    {
     "data": {
      "application/vnd.jupyter.widget-view+json": {
       "model_id": "2a478f03f4364077b98a9d353c82b658",
       "version_major": 2,
       "version_minor": 0
      },
      "text/plain": [
       "  0%|          | 0/10000 [00:00<?, ?it/s]"
      ]
     },
     "metadata": {},
     "output_type": "display_data"
    },
    {
     "name": "stdout",
     "output_type": "stream",
     "text": [
      "gld_params: [0.04394309 0.02386577 0.35088251 0.14000367]\n",
      "wrapper([ 1.927e-02  2.588e-02 ...  8.905e-01  9.408e-01]) = -0.02629202612708806\n",
      "assembly_constraint_no_mean([ 1.927e-02  2.588e-02 ...  8.905e-01  9.408e-01]) = [-3.340e-02  1.872e-01 ... -3.902e-02 -7.254e-03]\n"
     ]
    },
    {
     "data": {
      "application/vnd.jupyter.widget-view+json": {
       "model_id": "c0388a8b4c8b47b5986ad386f3b8c4bc",
       "version_major": 2,
       "version_minor": 0
      },
      "text/plain": [
       "  0%|          | 0/10000 [00:00<?, ?it/s]"
      ]
     },
     "metadata": {},
     "output_type": "display_data"
    },
    {
     "name": "stdout",
     "output_type": "stream",
     "text": [
      "gld_params: [0.04383429 0.02392876 0.35103124 0.14080434]\n",
      "wrapper([ 1.888e-02  4.314e-02 ...  8.984e-01  9.398e-01]) = -0.02672549938405525\n",
      "assembly_constraint_no_mean([ 1.888e-02  4.314e-02 ...  8.984e-01  9.398e-01]) = [ 1.893e-02  1.812e-02 ...  1.576e-02  1.963e-02]\n"
     ]
    },
    {
     "data": {
      "application/vnd.jupyter.widget-view+json": {
       "model_id": "a710fafae26b4aed9e9997f46834fb54",
       "version_major": 2,
       "version_minor": 0
      },
      "text/plain": [
       "  0%|          | 0/10000 [00:00<?, ?it/s]"
      ]
     },
     "metadata": {},
     "output_type": "display_data"
    },
    {
     "name": "stdout",
     "output_type": "stream",
     "text": [
      "gld_params: [0.04382971 0.02392485 0.35111507 0.14084675]\n",
      "wrapper([ 2.965e-02  4.050e-02 ...  9.024e-01  9.348e-01]) = -0.02669396167146491\n",
      "assembly_constraint_no_mean([ 2.965e-02  4.050e-02 ...  9.024e-01  9.348e-01]) = [ 1.841e-02  1.503e-02 ...  1.445e-02  1.708e-02]\n"
     ]
    },
    {
     "data": {
      "application/vnd.jupyter.widget-view+json": {
       "model_id": "32bb3eadaf064cb59ebaf53cd47d6035",
       "version_major": 2,
       "version_minor": 0
      },
      "text/plain": [
       "  0%|          | 0/10000 [00:00<?, ?it/s]"
      ]
     },
     "metadata": {},
     "output_type": "display_data"
    },
    {
     "name": "stdout",
     "output_type": "stream",
     "text": [
      "gld_params: [0.04383859 0.02393463 0.35119874 0.14083749]\n",
      "wrapper([ 2.320e-02  3.978e-02 ...  8.923e-01  9.435e-01]) = -0.026704895396481354\n",
      "assembly_constraint_no_mean([ 2.320e-02  3.978e-02 ...  8.923e-01  9.435e-01]) = [ 2.528e-02  1.209e-02 ...  1.641e-02  1.467e-02]\n"
     ]
    },
    {
     "data": {
      "application/vnd.jupyter.widget-view+json": {
       "model_id": "ad52c87e0b594cea8b41de94d4794eca",
       "version_major": 2,
       "version_minor": 0
      },
      "text/plain": [
       "  0%|          | 0/10000 [00:00<?, ?it/s]"
      ]
     },
     "metadata": {},
     "output_type": "display_data"
    },
    {
     "name": "stdout",
     "output_type": "stream",
     "text": [
      "gld_params: [0.04385914 0.02391094 0.35101407 0.14076472]\n",
      "wrapper([ 2.664e-02  3.543e-02 ...  8.993e-01  9.296e-01]) = -0.02657484153859683\n",
      "assembly_constraint_no_mean([ 2.664e-02  3.543e-02 ...  8.993e-01  9.296e-01]) = [ 7.773e-02 -1.729e-02 ... -1.083e-01 -2.812e-02]\n"
     ]
    },
    {
     "data": {
      "application/vnd.jupyter.widget-view+json": {
       "model_id": "300179b0788f4c1e87659a49f11c9f3a",
       "version_major": 2,
       "version_minor": 0
      },
      "text/plain": [
       "  0%|          | 0/10000 [00:00<?, ?it/s]"
      ]
     },
     "metadata": {},
     "output_type": "display_data"
    },
    {
     "name": "stdout",
     "output_type": "stream",
     "text": [
      "gld_params: [0.04379342 0.02393681 0.35141076 0.14108909]\n",
      "wrapper([ 2.269e-02  3.717e-02 ...  9.093e-01  9.306e-01]) = -0.026749884428428756\n",
      "assembly_constraint_no_mean([ 2.269e-02  3.717e-02 ...  9.093e-01  9.306e-01]) = [ 1.485e-02  1.441e-02 ...  2.237e-02  1.822e-02]\n"
     ]
    },
    {
     "data": {
      "application/vnd.jupyter.widget-view+json": {
       "model_id": "a5c2e06da2c348bea071dae3867f2e65",
       "version_major": 2,
       "version_minor": 0
      },
      "text/plain": [
       "  0%|          | 0/10000 [00:00<?, ?it/s]"
      ]
     },
     "metadata": {},
     "output_type": "display_data"
    },
    {
     "name": "stdout",
     "output_type": "stream",
     "text": [
      "gld_params: [0.04398468 0.02384188 0.35101271 0.14030835]\n",
      "wrapper([ 3.264e-02  4.243e-02 ...  9.068e-01  9.372e-01]) = -0.025971941813824655\n",
      "assembly_constraint_no_mean([ 3.264e-02  4.243e-02 ...  9.068e-01  9.372e-01]) = [ 3.051e-03 -7.069e-02 ... -1.271e-01  4.843e-02]\n"
     ]
    },
    {
     "data": {
      "application/vnd.jupyter.widget-view+json": {
       "model_id": "89b8d6232e5546b78b5ad7cb8d2d061f",
       "version_major": 2,
       "version_minor": 0
      },
      "text/plain": [
       "  0%|          | 0/10000 [00:00<?, ?it/s]"
      ]
     },
     "metadata": {},
     "output_type": "display_data"
    },
    {
     "name": "stdout",
     "output_type": "stream",
     "text": [
      "gld_params: [0.04380659 0.02392843 0.35145516 0.14071342]\n",
      "wrapper([ 2.501e-02  4.079e-02 ...  9.100e-01  9.308e-01]) = -0.02673842986900494\n",
      "assembly_constraint_no_mean([ 2.501e-02  4.079e-02 ...  9.100e-01  9.308e-01]) = [ 1.674e-02  1.310e-02 ...  1.550e-02  2.172e-02]\n"
     ]
    },
    {
     "data": {
      "application/vnd.jupyter.widget-view+json": {
       "model_id": "799ba690f8154ac58e49ae376ec462e4",
       "version_major": 2,
       "version_minor": 0
      },
      "text/plain": [
       "  0%|          | 0/10000 [00:00<?, ?it/s]"
      ]
     },
     "metadata": {},
     "output_type": "display_data"
    },
    {
     "name": "stdout",
     "output_type": "stream",
     "text": [
      "gld_params: [0.04384905 0.02391355 0.35099774 0.14084192]\n",
      "wrapper([ 1.806e-02  4.095e-02 ...  9.023e-01  9.219e-01]) = -0.02660665216540393\n",
      "assembly_constraint_no_mean([ 1.806e-02  4.095e-02 ...  9.023e-01  9.219e-01]) = [ 8.329e-03 -2.810e-02 ...  7.544e-02 -5.698e-02]\n"
     ]
    },
    {
     "data": {
      "application/vnd.jupyter.widget-view+json": {
       "model_id": "97b90f468e3e4c07b956ee0005bcdda5",
       "version_major": 2,
       "version_minor": 0
      },
      "text/plain": [
       "  0%|          | 0/10000 [00:00<?, ?it/s]"
      ]
     },
     "metadata": {},
     "output_type": "display_data"
    },
    {
     "name": "stdout",
     "output_type": "stream",
     "text": [
      "gld_params: [0.0438123  0.02392755 0.35129455 0.14062559]\n",
      "wrapper([ 2.149e-02  3.893e-02 ...  9.163e-01  9.237e-01]) = -0.026766432984006668\n",
      "assembly_constraint_no_mean([ 2.149e-02  3.893e-02 ...  9.163e-01  9.237e-01]) = [ 1.740e-02  1.829e-02 ...  2.156e-02  1.978e-02]\n"
     ]
    },
    {
     "data": {
      "application/vnd.jupyter.widget-view+json": {
       "model_id": "a9838002f532496cb28d1111b59be286",
       "version_major": 2,
       "version_minor": 0
      },
      "text/plain": [
       "  0%|          | 0/10000 [00:00<?, ?it/s]"
      ]
     },
     "metadata": {},
     "output_type": "display_data"
    },
    {
     "name": "stdout",
     "output_type": "stream",
     "text": [
      "gld_params: [0.04381003 0.02393516 0.35152605 0.1405023 ]\n",
      "wrapper([ 8.230e-04  3.462e-02 ...  9.191e-01  9.224e-01]) = -0.026792508064844213\n",
      "assembly_constraint_no_mean([ 8.230e-04  3.462e-02 ...  9.191e-01  9.224e-01]) = [ 8.506e-03  1.987e-02 ...  2.694e-02  1.711e-02]\n"
     ]
    },
    {
     "data": {
      "application/vnd.jupyter.widget-view+json": {
       "model_id": "86f2a04914c84b2bb0b5653587133a67",
       "version_major": 2,
       "version_minor": 0
      },
      "text/plain": [
       "  0%|          | 0/10000 [00:00<?, ?it/s]"
      ]
     },
     "metadata": {},
     "output_type": "display_data"
    },
    {
     "name": "stdout",
     "output_type": "stream",
     "text": [
      "gld_params: [0.04376087 0.02393299 0.35103303 0.14010194]\n",
      "wrapper([ 1.903e-02  3.316e-02 ...  9.276e-01  9.241e-01]) = -0.02709599042172141\n",
      "assembly_constraint_no_mean([ 1.903e-02  3.316e-02 ...  9.276e-01  9.241e-01]) = [-1.413e-02  4.184e-02 ...  1.244e-02  8.237e-02]\n"
     ]
    },
    {
     "data": {
      "application/vnd.jupyter.widget-view+json": {
       "model_id": "31e2b87dba104686bfcd53cb547dd730",
       "version_major": 2,
       "version_minor": 0
      },
      "text/plain": [
       "  0%|          | 0/10000 [00:00<?, ?it/s]"
      ]
     },
     "metadata": {},
     "output_type": "display_data"
    },
    {
     "name": "stdout",
     "output_type": "stream",
     "text": [
      "gld_params: [0.04379995 0.02393605 0.3516414  0.14061036]\n",
      "wrapper([ 6.460e-04  3.321e-02 ...  9.174e-01  9.233e-01]) = -0.026781080927775217\n",
      "assembly_constraint_no_mean([ 6.460e-04  3.321e-02 ...  9.174e-01  9.233e-01]) = [ 1.870e-02  1.756e-02 ...  1.621e-02  1.497e-02]\n"
     ]
    },
    {
     "data": {
      "application/vnd.jupyter.widget-view+json": {
       "model_id": "8debfa23dfd14b0d9b1a9259891d086a",
       "version_major": 2,
       "version_minor": 0
      },
      "text/plain": [
       "  0%|          | 0/10000 [00:00<?, ?it/s]"
      ]
     },
     "metadata": {},
     "output_type": "display_data"
    },
    {
     "name": "stdout",
     "output_type": "stream",
     "text": [
      "gld_params: [0.04377761 0.02395636 0.35210157 0.14084019]\n",
      "wrapper([ 0.000e+00  2.978e-02 ...  9.224e-01  9.221e-01]) = -0.026812368007081904\n",
      "assembly_constraint_no_mean([ 0.000e+00  2.978e-02 ...  9.224e-01  9.221e-01]) = [ 1.985e-02  1.536e-02 ...  1.067e-02  2.100e-02]\n"
     ]
    },
    {
     "data": {
      "application/vnd.jupyter.widget-view+json": {
       "model_id": "64b0fa5f40754d0cbda9bdf6af642a62",
       "version_major": 2,
       "version_minor": 0
      },
      "text/plain": [
       "  0%|          | 0/10000 [00:00<?, ?it/s]"
      ]
     },
     "metadata": {},
     "output_type": "display_data"
    },
    {
     "name": "stdout",
     "output_type": "stream",
     "text": [
      "gld_params: [0.04383093 0.0239382  0.35112893 0.14098506]\n",
      "wrapper([ 0.000e+00  3.713e-02 ...  9.238e-01  9.233e-01]) = -0.02672757426057757\n",
      "assembly_constraint_no_mean([ 0.000e+00  3.713e-02 ...  9.238e-01  9.233e-01]) = [-2.730e-01  8.440e-02 ...  7.436e-02  5.019e-02]\n"
     ]
    },
    {
     "data": {
      "application/vnd.jupyter.widget-view+json": {
       "model_id": "58cc725899214b47809f2d664d31f27d",
       "version_major": 2,
       "version_minor": 0
      },
      "text/plain": [
       "  0%|          | 0/10000 [00:00<?, ?it/s]"
      ]
     },
     "metadata": {},
     "output_type": "display_data"
    },
    {
     "name": "stdout",
     "output_type": "stream",
     "text": [
      "gld_params: [0.04377442 0.02395188 0.35228374 0.1404883 ]\n",
      "wrapper([ 1.997e-03  2.552e-02 ...  9.151e-01  9.271e-01]) = -0.026835217804694517\n",
      "assembly_constraint_no_mean([ 1.997e-03  2.552e-02 ...  9.151e-01  9.271e-01]) = [ 2.657e-02  1.433e-02 ...  2.045e-02  1.304e-02]\n"
     ]
    },
    {
     "data": {
      "application/vnd.jupyter.widget-view+json": {
       "model_id": "c5f6d04a1aa1404b8f0f50cfa00fd9ba",
       "version_major": 2,
       "version_minor": 0
      },
      "text/plain": [
       "  0%|          | 0/10000 [00:00<?, ?it/s]"
      ]
     },
     "metadata": {},
     "output_type": "display_data"
    },
    {
     "name": "stdout",
     "output_type": "stream",
     "text": [
      "gld_params: [0.04385741 0.02390906 0.35139864 0.14052699]\n",
      "wrapper([ 1.084e-19  3.344e-02 ...  9.212e-01  9.172e-01]) = -0.02654543609531805\n",
      "assembly_constraint_no_mean([ 1.084e-19  3.344e-02 ...  9.212e-01  9.172e-01]) = [ 3.843e-03 -1.290e-02 ...  5.789e-02 -3.201e-03]\n"
     ]
    },
    {
     "data": {
      "application/vnd.jupyter.widget-view+json": {
       "model_id": "b931c5029518447f9466472fe9f9098d",
       "version_major": 2,
       "version_minor": 0
      },
      "text/plain": [
       "  0%|          | 0/10000 [00:00<?, ?it/s]"
      ]
     },
     "metadata": {},
     "output_type": "display_data"
    },
    {
     "name": "stdout",
     "output_type": "stream",
     "text": [
      "gld_params: [0.04378563 0.02394406 0.35192429 0.14054537]\n",
      "wrapper([ 0.000e+00  3.066e-02 ...  9.241e-01  9.202e-01]) = -0.02682118149972932\n",
      "assembly_constraint_no_mean([ 0.000e+00  3.066e-02 ...  9.241e-01  9.202e-01]) = [ 1.266e-02  1.937e-02 ...  1.846e-02  2.247e-02]\n"
     ]
    },
    {
     "data": {
      "application/vnd.jupyter.widget-view+json": {
       "model_id": "0a1d84ec915b4b21b47add80b6f691f3",
       "version_major": 2,
       "version_minor": 0
      },
      "text/plain": [
       "  0%|          | 0/10000 [00:00<?, ?it/s]"
      ]
     },
     "metadata": {},
     "output_type": "display_data"
    },
    {
     "name": "stdout",
     "output_type": "stream",
     "text": [
      "gld_params: [0.04387056 0.02391186 0.35163701 0.14079614]\n",
      "wrapper([ 1.084e-19  2.949e-02 ...  9.313e-01  9.410e-01]) = -0.02642441306691816\n",
      "assembly_constraint_no_mean([ 1.084e-19  2.949e-02 ...  9.313e-01  9.410e-01]) = [-2.335e-02 -4.546e-02 ... -1.918e-03  1.881e-01]\n"
     ]
    },
    {
     "data": {
      "application/vnd.jupyter.widget-view+json": {
       "model_id": "3715d1ee34ce4b749f1ecdf62f2f96af",
       "version_major": 2,
       "version_minor": 0
      },
      "text/plain": [
       "  0%|          | 0/10000 [00:00<?, ?it/s]"
      ]
     },
     "metadata": {},
     "output_type": "display_data"
    },
    {
     "name": "stdout",
     "output_type": "stream",
     "text": [
      "gld_params: [0.04377131 0.0239544  0.35236693 0.14045352]\n",
      "wrapper([ 3.097e-03  1.821e-02 ...  9.047e-01  9.367e-01]) = -0.02684793383788576\n",
      "assembly_constraint_no_mean([ 3.097e-03  1.821e-02 ...  9.047e-01  9.367e-01]) = [ 2.812e-02  1.628e-02 ...  2.050e-02  1.551e-02]\n"
     ]
    },
    {
     "data": {
      "application/vnd.jupyter.widget-view+json": {
       "model_id": "62ea5b9d8c0f4a87b99ba9a4dde3142c",
       "version_major": 2,
       "version_minor": 0
      },
      "text/plain": [
       "  0%|          | 0/10000 [00:00<?, ?it/s]"
      ]
     },
     "metadata": {},
     "output_type": "display_data"
    },
    {
     "name": "stdout",
     "output_type": "stream",
     "text": [
      "gld_params: [0.04395045 0.02388411 0.35166202 0.14111266]\n",
      "wrapper([ 0.000e+00  3.729e-02 ...  9.249e-01  9.212e-01]) = -0.025994038894058474\n",
      "assembly_constraint_no_mean([ 0.000e+00  3.729e-02 ...  9.249e-01  9.212e-01]) = [-2.559e-02 -8.331e-02 ...  1.374e-01  4.461e-02]\n"
     ]
    },
    {
     "data": {
      "application/vnd.jupyter.widget-view+json": {
       "model_id": "859e715d61314e7fb2c4833ea5d8d6fa",
       "version_major": 2,
       "version_minor": 0
      },
      "text/plain": [
       "  0%|          | 0/10000 [00:00<?, ?it/s]"
      ]
     },
     "metadata": {},
     "output_type": "display_data"
    },
    {
     "name": "stdout",
     "output_type": "stream",
     "text": [
      "gld_params: [0.0437672  0.02396003 0.35249272 0.14044401]\n",
      "wrapper([ 0.000e+00  2.509e-02 ...  9.235e-01  9.193e-01]) = -0.02686604950226462\n",
      "assembly_constraint_no_mean([ 0.000e+00  2.509e-02 ...  9.235e-01  9.193e-01]) = [ 1.692e-02  1.457e-02 ...  1.290e-02  1.895e-02]\n"
     ]
    },
    {
     "data": {
      "application/vnd.jupyter.widget-view+json": {
       "model_id": "d5319da71d12430e927cdd40f7541ff3",
       "version_major": 2,
       "version_minor": 0
      },
      "text/plain": [
       "  0%|          | 0/10000 [00:00<?, ?it/s]"
      ]
     },
     "metadata": {},
     "output_type": "display_data"
    },
    {
     "name": "stdout",
     "output_type": "stream",
     "text": [
      "gld_params: [0.04373165 0.02399341 0.35353253 0.1402764 ]\n",
      "wrapper([ 0.000e+00  1.887e-02 ...  9.313e-01  9.112e-01]) = -0.026970799875777635\n",
      "assembly_constraint_no_mean([ 0.000e+00  1.887e-02 ...  9.313e-01  9.112e-01]) = [ 1.925e-02  1.699e-02 ...  3.007e-02  1.603e-02]\n"
     ]
    },
    {
     "data": {
      "application/vnd.jupyter.widget-view+json": {
       "model_id": "993c9c6375f6444189c4c9a34c914442",
       "version_major": 2,
       "version_minor": 0
      },
      "text/plain": [
       "  0%|          | 0/10000 [00:00<?, ?it/s]"
      ]
     },
     "metadata": {},
     "output_type": "display_data"
    },
    {
     "name": "stdout",
     "output_type": "stream",
     "text": [
      "gld_params: [0.04367706 0.02398361 0.35250933 0.14019411]\n",
      "wrapper([ 0.000e+00  2.875e-02 ...  9.310e-01  9.303e-01]) = -0.027292257488362514\n",
      "assembly_constraint_no_mean([ 0.000e+00  2.875e-02 ...  9.310e-01  9.303e-01]) = [ 6.026e-02  1.731e-01 ...  1.246e-02  1.224e-01]\n"
     ]
    },
    {
     "data": {
      "application/vnd.jupyter.widget-view+json": {
       "model_id": "f57360da8e65415cb172af8e98ceabe9",
       "version_major": 2,
       "version_minor": 0
      },
      "text/plain": [
       "  0%|          | 0/10000 [00:00<?, ?it/s]"
      ]
     },
     "metadata": {},
     "output_type": "display_data"
    },
    {
     "name": "stdout",
     "output_type": "stream",
     "text": [
      "gld_params: [0.04374805 0.02398345 0.35327313 0.14022758]\n",
      "wrapper([ 1.538e-19  1.785e-02 ...  9.319e-01  9.107e-01]) = -0.026933692923409358\n",
      "assembly_constraint_no_mean([ 1.538e-19  1.785e-02 ...  9.319e-01  9.107e-01]) = [ 1.186e-02  1.702e-02 ...  1.496e-02  1.681e-02]\n"
     ]
    },
    {
     "data": {
      "application/vnd.jupyter.widget-view+json": {
       "model_id": "e5de2ddb3b0c491aad0f4ff4c0b3a088",
       "version_major": 2,
       "version_minor": 0
      },
      "text/plain": [
       "  0%|          | 0/10000 [00:00<?, ?it/s]"
      ]
     },
     "metadata": {},
     "output_type": "display_data"
    },
    {
     "name": "stdout",
     "output_type": "stream",
     "text": [
      "gld_params: [0.04370945 0.02399999 0.35451149 0.1396462 ]\n",
      "wrapper([ 1.694e-18  2.361e-03 ...  9.424e-01  9.004e-01]) = -0.027006641261242987\n",
      "assembly_constraint_no_mean([ 1.694e-18  2.361e-03 ...  9.424e-01  9.004e-01]) = [ 1.859e-02  1.595e-02 ...  1.334e-02  1.954e-02]\n"
     ]
    },
    {
     "data": {
      "application/vnd.jupyter.widget-view+json": {
       "model_id": "bff685d656d64b06ae82f9ac7000f083",
       "version_major": 2,
       "version_minor": 0
      },
      "text/plain": [
       "  0%|          | 0/10000 [00:00<?, ?it/s]"
      ]
     },
     "metadata": {},
     "output_type": "display_data"
    },
    {
     "name": "stdout",
     "output_type": "stream",
     "text": [
      "gld_params: [0.04394469 0.02389206 0.35288839 0.14015489]\n",
      "wrapper([ 0.000e+00  1.784e-02 ...  9.133e-01  8.950e-01]) = -0.026012126723432845\n",
      "assembly_constraint_no_mean([ 0.000e+00  1.784e-02 ...  9.133e-01  8.950e-01]) = [-6.189e-02  5.989e-03 ... -1.181e-01 -1.714e-01]\n"
     ]
    },
    {
     "data": {
      "application/vnd.jupyter.widget-view+json": {
       "model_id": "0a52dd56e50b4dc0a2157c878f3b7633",
       "version_major": 2,
       "version_minor": 0
      },
      "text/plain": [
       "  0%|          | 0/10000 [00:00<?, ?it/s]"
      ]
     },
     "metadata": {},
     "output_type": "display_data"
    },
    {
     "name": "stdout",
     "output_type": "stream",
     "text": [
      "gld_params: [0.04373742 0.02399999 0.35397055 0.13988559]\n",
      "wrapper([ 2.987e-18  1.608e-02 ...  9.343e-01  9.080e-01]) = -0.026983593921595758\n",
      "assembly_constraint_no_mean([ 2.987e-18  1.608e-02 ...  9.343e-01  9.080e-01]) = [ 1.710e-02  1.923e-02 ...  1.616e-02  1.290e-02]\n"
     ]
    },
    {
     "data": {
      "application/vnd.jupyter.widget-view+json": {
       "model_id": "daa74c1a96094d74ad100268dc04a885",
       "version_major": 2,
       "version_minor": 0
      },
      "text/plain": [
       "  0%|          | 0/10000 [00:00<?, ?it/s]"
      ]
     },
     "metadata": {},
     "output_type": "display_data"
    },
    {
     "name": "stdout",
     "output_type": "stream",
     "text": [
      "gld_params: [0.0437132  0.0240165  0.35462261 0.1398381 ]\n",
      "wrapper([ 0.000e+00  1.546e-02 ...  9.626e-01  8.801e-01]) = -0.02701991458728581\n",
      "assembly_constraint_no_mean([ 0.000e+00  1.546e-02 ...  9.626e-01  8.801e-01]) = [ 1.265e-02  1.522e-02 ...  1.747e-02  3.412e-02]\n"
     ]
    },
    {
     "data": {
      "application/vnd.jupyter.widget-view+json": {
       "model_id": "63504940197248e5a4d0e728a776db52",
       "version_major": 2,
       "version_minor": 0
      },
      "text/plain": [
       "  0%|          | 0/10000 [00:00<?, ?it/s]"
      ]
     },
     "metadata": {},
     "output_type": "display_data"
    },
    {
     "name": "stdout",
     "output_type": "stream",
     "text": [
      "gld_params: [0.04371866 0.02399348 0.35415144 0.13980808]\n",
      "wrapper([ 1.617e-02  1.104e-02 ...  9.247e-01  8.884e-01]) = -0.02698390593699262\n",
      "assembly_constraint_no_mean([ 1.617e-02  1.104e-02 ...  9.247e-01  8.884e-01]) = [ 6.063e-02  6.197e-02 ... -6.833e-02 -1.381e-01]\n"
     ]
    },
    {
     "data": {
      "application/vnd.jupyter.widget-view+json": {
       "model_id": "8e74f982105f4b92bc546b396c7bd52c",
       "version_major": 2,
       "version_minor": 0
      },
      "text/plain": [
       "  0%|          | 0/10000 [00:00<?, ?it/s]"
      ]
     },
     "metadata": {},
     "output_type": "display_data"
    },
    {
     "name": "stdout",
     "output_type": "stream",
     "text": [
      "gld_params: [0.04373578 0.02398802 0.35431596 0.13915117]\n",
      "wrapper([ 2.632e-20  1.204e-02 ...  9.449e-01  8.971e-01]) = -0.027010334581915447\n",
      "assembly_constraint_no_mean([ 2.632e-20  1.204e-02 ...  9.449e-01  8.971e-01]) = [ 1.909e-02  1.652e-02 ...  1.424e-02  2.248e-02]\n"
     ]
    },
    {
     "data": {
      "application/vnd.jupyter.widget-view+json": {
       "model_id": "381b6f8823f249ddb7c73f037a3efe51",
       "version_major": 2,
       "version_minor": 0
      },
      "text/plain": [
       "  0%|          | 0/10000 [00:00<?, ?it/s]"
      ]
     },
     "metadata": {},
     "output_type": "display_data"
    },
    {
     "name": "stdout",
     "output_type": "stream",
     "text": [
      "gld_params: [0.04389624 0.02392032 0.35429818 0.13968987]\n",
      "wrapper([ 0.000e+00  1.643e-02 ...  9.217e-01  9.180e-01]) = -0.02611490861404447\n",
      "assembly_constraint_no_mean([ 0.000e+00  1.643e-02 ...  9.217e-01  9.180e-01]) = [-9.925e-02  8.491e-02 ... -1.444e-01 -6.673e-03]\n"
     ]
    },
    {
     "data": {
      "application/vnd.jupyter.widget-view+json": {
       "model_id": "cd348bc86a244b6ca30f7726acd9c56d",
       "version_major": 2,
       "version_minor": 0
      },
      "text/plain": [
       "  0%|          | 0/10000 [00:00<?, ?it/s]"
      ]
     },
     "metadata": {},
     "output_type": "display_data"
    },
    {
     "name": "stdout",
     "output_type": "stream",
     "text": [
      "gld_params: [0.04372936 0.02400856 0.35433268 0.13989613]\n",
      "wrapper([ 5.453e-19  9.862e-03 ...  9.450e-01  8.965e-01]) = -0.026978024421326206\n",
      "assembly_constraint_no_mean([ 5.453e-19  9.862e-03 ...  9.450e-01  8.965e-01]) = [ 1.634e-02  1.483e-02 ...  1.343e-02  1.762e-02]\n"
     ]
    },
    {
     "data": {
      "application/vnd.jupyter.widget-view+json": {
       "model_id": "f2b78bc395df4944974765f2fcff3aef",
       "version_major": 2,
       "version_minor": 0
      },
      "text/plain": [
       "  0%|          | 0/10000 [00:00<?, ?it/s]"
      ]
     },
     "metadata": {},
     "output_type": "display_data"
    },
    {
     "name": "stdout",
     "output_type": "stream",
     "text": [
      "gld_params: [0.04364985 0.02402548 0.35354743 0.13980086]\n",
      "wrapper([ 7.704e-34  1.933e-02 ...  9.433e-01  9.191e-01]) = -0.02746509830328442\n",
      "assembly_constraint_no_mean([ 7.704e-34  1.933e-02 ...  9.433e-01  9.191e-01]) = [ 9.445e-03 -2.800e-02 ... -5.076e-02  1.236e-01]\n"
     ]
    },
    {
     "data": {
      "application/vnd.jupyter.widget-view+json": {
       "model_id": "b17e18e4153844cb95aa1accd569f3c4",
       "version_major": 2,
       "version_minor": 0
      },
      "text/plain": [
       "  0%|          | 0/10000 [00:00<?, ?it/s]"
      ]
     },
     "metadata": {},
     "output_type": "display_data"
    },
    {
     "name": "stdout",
     "output_type": "stream",
     "text": [
      "gld_params: [0.04370847 0.0240034  0.35444754 0.13980056]\n",
      "wrapper([ 2.429e-18  1.578e-02 ...  9.412e-01  9.009e-01]) = -0.027007709932915482\n",
      "assembly_constraint_no_mean([ 2.429e-18  1.578e-02 ...  9.412e-01  9.009e-01]) = [ 1.490e-02  1.447e-02 ...  1.645e-02  1.520e-02]\n"
     ]
    },
    {
     "data": {
      "application/vnd.jupyter.widget-view+json": {
       "model_id": "be74291bb47549e0be4b1e9db13c41df",
       "version_major": 2,
       "version_minor": 0
      },
      "text/plain": [
       "  0%|          | 0/10000 [00:00<?, ?it/s]"
      ]
     },
     "metadata": {},
     "output_type": "display_data"
    },
    {
     "name": "stdout",
     "output_type": "stream",
     "text": [
      "gld_params: [0.04376709 0.02398527 0.35331292 0.14023933]\n",
      "wrapper([ 2.072e-02  2.055e-02 ...  9.363e-01  9.085e-01]) = -0.026879551660481053\n",
      "assembly_constraint_no_mean([ 2.072e-02  2.055e-02 ...  9.363e-01  9.085e-01]) = [-2.848e-02 -7.001e-03 ...  1.119e-01  2.756e-02]\n"
     ]
    },
    {
     "data": {
      "application/vnd.jupyter.widget-view+json": {
       "model_id": "add35b8ab03746d29830dc48b0218bbf",
       "version_major": 2,
       "version_minor": 0
      },
      "text/plain": [
       "  0%|          | 0/10000 [00:00<?, ?it/s]"
      ]
     },
     "metadata": {},
     "output_type": "display_data"
    },
    {
     "name": "stdout",
     "output_type": "stream",
     "text": [
      "gld_params: [0.04372907 0.02399137 0.35439045 0.13927757]\n",
      "wrapper([ 0.000e+00  1.522e-02 ...  9.451e-01  8.978e-01]) = -0.027006109713885593\n",
      "assembly_constraint_no_mean([ 0.000e+00  1.522e-02 ...  9.451e-01  8.978e-01]) = [ 1.622e-02  1.796e-02 ...  1.341e-02  1.798e-02]\n"
     ]
    },
    {
     "data": {
      "application/vnd.jupyter.widget-view+json": {
       "model_id": "4fd2f49f54dc427592ea23e140d70154",
       "version_major": 2,
       "version_minor": 0
      },
      "text/plain": [
       "  0%|          | 0/10000 [00:00<?, ?it/s]"
      ]
     },
     "metadata": {},
     "output_type": "display_data"
    },
    {
     "name": "stdout",
     "output_type": "stream",
     "text": [
      "gld_params: [0.04372211 0.023992   0.3546343  0.13920245]\n",
      "wrapper([ 1.100e-18  1.732e-02 ...  9.478e-01  8.935e-01]) = -0.026997182227700985\n",
      "assembly_constraint_no_mean([ 1.100e-18  1.732e-02 ...  9.478e-01  8.935e-01]) = [ 1.416e-02  1.399e-02 ...  2.707e-02  1.212e-02]\n"
     ]
    },
    {
     "data": {
      "application/vnd.jupyter.widget-view+json": {
       "model_id": "4375629689f6413fad26a28a2a8acfd4",
       "version_major": 2,
       "version_minor": 0
      },
      "text/plain": [
       "  0%|          | 0/10000 [00:00<?, ?it/s]"
      ]
     },
     "metadata": {},
     "output_type": "display_data"
    },
    {
     "name": "stdout",
     "output_type": "stream",
     "text": [
      "gld_params: [0.04368855 0.02402122 0.35419144 0.13973743]\n",
      "wrapper([ 0.000e+00  1.610e-02 ...  9.292e-01  8.943e-01]) = -0.02722047667184425\n",
      "assembly_constraint_no_mean([ 0.000e+00  1.610e-02 ...  9.292e-01  8.943e-01]) = [ 1.118e-01 -1.978e-02 ...  4.489e-02 -9.150e-02]\n"
     ]
    },
    {
     "data": {
      "application/vnd.jupyter.widget-view+json": {
       "model_id": "82154956bac64327afac39965af9ce6b",
       "version_major": 2,
       "version_minor": 0
      },
      "text/plain": [
       "  0%|          | 0/10000 [00:00<?, ?it/s]"
      ]
     },
     "metadata": {},
     "output_type": "display_data"
    },
    {
     "name": "stdout",
     "output_type": "stream",
     "text": [
      "gld_params: [0.04372396 0.02400621 0.3544857  0.13957139]\n",
      "wrapper([ 0.000e+00  1.977e-02 ...  9.401e-01  9.029e-01]) = -0.027017968914623564\n",
      "assembly_constraint_no_mean([ 0.000e+00  1.977e-02 ...  9.401e-01  9.029e-01]) = [ 1.602e-02  1.386e-02 ...  2.269e-02  1.425e-02]\n"
     ]
    },
    {
     "data": {
      "application/vnd.jupyter.widget-view+json": {
       "model_id": "ae3c0ad9c3424deb8114f2eecd3e9dbe",
       "version_major": 2,
       "version_minor": 0
      },
      "text/plain": [
       "  0%|          | 0/10000 [00:00<?, ?it/s]"
      ]
     },
     "metadata": {},
     "output_type": "display_data"
    },
    {
     "name": "stdout",
     "output_type": "stream",
     "text": [
      "gld_params: [0.04369016 0.02401934 0.35484874 0.13997452]\n",
      "wrapper([ 0.000e+00  2.164e-02 ...  9.257e-01  9.191e-01]) = -0.027027707857579217\n",
      "assembly_constraint_no_mean([ 0.000e+00  2.164e-02 ...  9.257e-01  9.191e-01]) = [ 1.619e-02  2.172e-02 ...  1.535e-02  1.674e-02]\n"
     ]
    },
    {
     "data": {
      "application/vnd.jupyter.widget-view+json": {
       "model_id": "bef41c0e048e4f4da3068760c3b1c0be",
       "version_major": 2,
       "version_minor": 0
      },
      "text/plain": [
       "  0%|          | 0/10000 [00:00<?, ?it/s]"
      ]
     },
     "metadata": {},
     "output_type": "display_data"
    },
    {
     "name": "stdout",
     "output_type": "stream",
     "text": [
      "gld_params: [0.04374461 0.02401901 0.35453557 0.13995695]\n",
      "wrapper([ 0.000e+00  2.230e-02 ...  9.463e-01  9.098e-01]) = -0.02693707675331451\n",
      "assembly_constraint_no_mean([ 0.000e+00  2.230e-02 ...  9.463e-01  9.098e-01]) = [-7.610e-02 -1.622e-02 ...  1.032e-01  8.483e-02]\n"
     ]
    },
    {
     "data": {
      "application/vnd.jupyter.widget-view+json": {
       "model_id": "ce15e21eb5f448eca51e4dde4c106e54",
       "version_major": 2,
       "version_minor": 0
      },
      "text/plain": [
       "  0%|          | 0/10000 [00:00<?, ?it/s]"
      ]
     },
     "metadata": {},
     "output_type": "display_data"
    },
    {
     "name": "stdout",
     "output_type": "stream",
     "text": [
      "gld_params: [0.04373491 0.02402931 0.3545526  0.13993652]\n",
      "wrapper([ 3.256e-18  2.569e-02 ...  9.497e-01  8.932e-01]) = -0.027017854120649012\n",
      "assembly_constraint_no_mean([ 3.256e-18  2.569e-02 ...  9.497e-01  8.932e-01]) = [ 1.667e-02  2.307e-02 ...  1.426e-02  1.939e-02]\n"
     ]
    },
    {
     "data": {
      "application/vnd.jupyter.widget-view+json": {
       "model_id": "32241f4394f2456a8415ddc448ac072a",
       "version_major": 2,
       "version_minor": 0
      },
      "text/plain": [
       "  0%|          | 0/10000 [00:00<?, ?it/s]"
      ]
     },
     "metadata": {},
     "output_type": "display_data"
    },
    {
     "name": "stdout",
     "output_type": "stream",
     "text": [
      "gld_params: [0.04358807 0.02406044 0.35501679 0.13917621]\n",
      "wrapper([ 0.000e+00  1.902e-02 ...  9.445e-01  9.046e-01]) = -0.027660544390618762\n",
      "assembly_constraint_no_mean([ 0.000e+00  1.902e-02 ...  9.445e-01  9.046e-01]) = [ 1.971e-01  2.549e-02 ...  6.002e-02  4.717e-02]\n"
     ]
    },
    {
     "data": {
      "application/vnd.jupyter.widget-view+json": {
       "model_id": "1e557d6cc92e43afba8f47c7686258c3",
       "version_major": 2,
       "version_minor": 0
      },
      "text/plain": [
       "  0%|          | 0/10000 [00:00<?, ?it/s]"
      ]
     },
     "metadata": {},
     "output_type": "display_data"
    },
    {
     "name": "stdout",
     "output_type": "stream",
     "text": [
      "gld_params: [0.04371158 0.02399604 0.35468873 0.13921165]\n",
      "wrapper([ 0.000e+00  2.583e-02 ...  9.377e-01  9.062e-01]) = -0.027035024794740865\n",
      "assembly_constraint_no_mean([ 0.000e+00  2.583e-02 ...  9.377e-01  9.062e-01]) = [ 1.715e-02  3.045e-02 ...  1.681e-02  1.775e-02]\n"
     ]
    },
    {
     "data": {
      "application/vnd.jupyter.widget-view+json": {
       "model_id": "fef54c1a642d482c94af39a7cd38a98d",
       "version_major": 2,
       "version_minor": 0
      },
      "text/plain": [
       "  0%|          | 0/10000 [00:00<?, ?it/s]"
      ]
     },
     "metadata": {},
     "output_type": "display_data"
    },
    {
     "name": "stdout",
     "output_type": "stream",
     "text": [
      "gld_params: [0.04372465 0.02401107 0.35418009 0.13967518]\n",
      "wrapper([ 0.000e+00  2.631e-03 ...  9.349e-01  8.881e-01]) = -0.02707879903873192\n",
      "assembly_constraint_no_mean([ 0.000e+00  2.631e-03 ...  9.349e-01  8.881e-01]) = [-4.707e-02  8.749e-02 ...  6.812e-02 -9.024e-02]\n"
     ]
    },
    {
     "data": {
      "application/vnd.jupyter.widget-view+json": {
       "model_id": "20502683395c4a32931ecd6c56308009",
       "version_major": 2,
       "version_minor": 0
      },
      "text/plain": [
       "  0%|          | 0/10000 [00:00<?, ?it/s]"
      ]
     },
     "metadata": {},
     "output_type": "display_data"
    },
    {
     "name": "stdout",
     "output_type": "stream",
     "text": [
      "gld_params: [0.04370402 0.02402587 0.35510172 0.13966875]\n",
      "wrapper([ 1.297e-18  2.105e-02 ...  9.207e-01  9.238e-01]) = -0.02703567607504991\n",
      "assembly_constraint_no_mean([ 1.297e-18  2.105e-02 ...  9.207e-01  9.238e-01]) = [ 1.576e-02  2.067e-02 ...  1.853e-02  1.679e-02]\n"
     ]
    },
    {
     "data": {
      "application/vnd.jupyter.widget-view+json": {
       "model_id": "8ebbe2e285fc4ec68f8d2b4099cd1f91",
       "version_major": 2,
       "version_minor": 0
      },
      "text/plain": [
       "  0%|          | 0/10000 [00:00<?, ?it/s]"
      ]
     },
     "metadata": {},
     "output_type": "display_data"
    },
    {
     "name": "stdout",
     "output_type": "stream",
     "text": [
      "gld_params: [0.04372517 0.02405127 0.35532017 0.13974906]\n",
      "wrapper([ 3.191e-19  1.697e-02 ...  9.206e-01  9.238e-01]) = -0.02704736116517442\n",
      "assembly_constraint_no_mean([ 3.191e-19  1.697e-02 ...  9.206e-01  9.238e-01]) = [ 1.672e-02  1.720e-02 ...  1.883e-02  1.580e-02]\n"
     ]
    },
    {
     "data": {
      "application/vnd.jupyter.widget-view+json": {
       "model_id": "99759f6831d64fb0af98411bcf607e36",
       "version_major": 2,
       "version_minor": 0
      },
      "text/plain": [
       "  0%|          | 0/10000 [00:00<?, ?it/s]"
      ]
     },
     "metadata": {},
     "output_type": "display_data"
    },
    {
     "name": "stdout",
     "output_type": "stream",
     "text": [
      "gld_params: [0.04357969 0.02407721 0.35524334 0.13958877]\n",
      "wrapper([ 1.689e-02  2.110e-02 ...  9.235e-01  9.282e-01]) = -0.02764178360003555\n",
      "assembly_constraint_no_mean([ 1.689e-02  2.110e-02 ...  9.235e-01  9.282e-01]) = [ 1.414e-01  1.135e-01 ...  1.824e-02  5.503e-02]\n"
     ]
    },
    {
     "data": {
      "application/vnd.jupyter.widget-view+json": {
       "model_id": "5cac748639724ca39ed72b2b0f634c44",
       "version_major": 2,
       "version_minor": 0
      },
      "text/plain": [
       "  0%|          | 0/10000 [00:00<?, ?it/s]"
      ]
     },
     "metadata": {},
     "output_type": "display_data"
    },
    {
     "name": "stdout",
     "output_type": "stream",
     "text": [
      "gld_params: [0.04367782 0.02402525 0.35539417 0.13956512]\n",
      "wrapper([ 2.601e-18  2.616e-02 ...  9.309e-01  9.135e-01]) = -0.02707079715096216\n",
      "assembly_constraint_no_mean([ 2.601e-18  2.616e-02 ...  9.309e-01  9.135e-01]) = [ 1.816e-02  1.240e-02 ...  1.369e-02  1.711e-02]\n"
     ]
    },
    {
     "data": {
      "application/vnd.jupyter.widget-view+json": {
       "model_id": "e040bd7544574702b6e72f3dd721fa6b",
       "version_major": 2,
       "version_minor": 0
      },
      "text/plain": [
       "  0%|          | 0/10000 [00:00<?, ?it/s]"
      ]
     },
     "metadata": {},
     "output_type": "display_data"
    },
    {
     "name": "stdout",
     "output_type": "stream",
     "text": [
      "gld_params: [0.04375891 0.02401108 0.35514211 0.13978161]\n",
      "wrapper([ 0.000e+00  1.836e-02 ...  9.223e-01  9.310e-01]) = -0.026775445046259786\n",
      "assembly_constraint_no_mean([ 0.000e+00  1.836e-02 ...  9.223e-01  9.310e-01]) = [ 1.935e-02 -8.387e-02 ... -9.836e-02  6.377e-02]\n"
     ]
    },
    {
     "data": {
      "application/vnd.jupyter.widget-view+json": {
       "model_id": "1326f53dbe8f40858da221391b7b272c",
       "version_major": 2,
       "version_minor": 0
      },
      "text/plain": [
       "  0%|          | 0/10000 [00:00<?, ?it/s]"
      ]
     },
     "metadata": {},
     "output_type": "display_data"
    },
    {
     "name": "stdout",
     "output_type": "stream",
     "text": [
      "gld_params: [0.0436841  0.02401883 0.35526938 0.13952724]\n",
      "wrapper([ 5.287e-18  2.525e-02 ...  9.296e-01  9.146e-01]) = -0.02705215766371776\n",
      "assembly_constraint_no_mean([ 5.287e-18  2.525e-02 ...  9.296e-01  9.146e-01]) = [ 1.502e-02  1.523e-02 ...  1.474e-02  1.552e-02]\n"
     ]
    },
    {
     "data": {
      "application/vnd.jupyter.widget-view+json": {
       "model_id": "e2fbb22da6754a34a4255b1b73c36f96",
       "version_major": 2,
       "version_minor": 0
      },
      "text/plain": [
       "  0%|          | 0/10000 [00:00<?, ?it/s]"
      ]
     },
     "metadata": {},
     "output_type": "display_data"
    },
    {
     "name": "stdout",
     "output_type": "stream",
     "text": [
      "gld_params: [0.04365471 0.02404063 0.35513974 0.14002004]\n",
      "wrapper([ 0.000e+00  3.247e-02 ...  9.049e-01  9.249e-01]) = -0.027171067634547078\n",
      "assembly_constraint_no_mean([ 0.000e+00  3.247e-02 ...  9.049e-01  9.249e-01]) = [ 7.981e-02  5.531e-02 ...  1.940e-01 -5.922e-02]\n"
     ]
    },
    {
     "data": {
      "application/vnd.jupyter.widget-view+json": {
       "model_id": "dd2e80d116ca4163a4d0c9c582cdcbee",
       "version_major": 2,
       "version_minor": 0
      },
      "text/plain": [
       "  0%|          | 0/10000 [00:00<?, ?it/s]"
      ]
     },
     "metadata": {},
     "output_type": "display_data"
    },
    {
     "name": "stdout",
     "output_type": "stream",
     "text": [
      "gld_params: [0.04368588 0.02402141 0.35529138 0.13954898]\n",
      "wrapper([ 1.920e-19  2.296e-02 ...  9.304e-01  9.139e-01]) = -0.027051675892991154\n",
      "assembly_constraint_no_mean([ 1.920e-19  2.296e-02 ...  9.304e-01  9.139e-01]) = [ 1.573e-02  1.494e-02 ...  1.495e-02  1.641e-02]\n"
     ]
    },
    {
     "data": {
      "application/vnd.jupyter.widget-view+json": {
       "model_id": "a5e50198f0804e65b5bd40b1aeb13546",
       "version_major": 2,
       "version_minor": 0
      },
      "text/plain": [
       "  0%|          | 0/10000 [00:00<?, ?it/s]"
      ]
     },
     "metadata": {},
     "output_type": "display_data"
    },
    {
     "name": "stdout",
     "output_type": "stream",
     "text": [
      "gld_params: [0.04381623 0.02397588 0.35551505 0.13983282]\n",
      "wrapper([ 9.291e-04  2.932e-02 ...  9.042e-01  9.099e-01]) = -0.0263568802861067\n",
      "assembly_constraint_no_mean([ 9.291e-04  2.932e-02 ...  9.042e-01  9.099e-01]) = [ 3.719e-02  3.777e-02 ...  1.957e-02 -1.491e-01]\n"
     ]
    },
    {
     "data": {
      "application/vnd.jupyter.widget-view+json": {
       "model_id": "7a8bb4f7f99e4e299d8903e8b325aed9",
       "version_major": 2,
       "version_minor": 0
      },
      "text/plain": [
       "  0%|          | 0/10000 [00:00<?, ?it/s]"
      ]
     },
     "metadata": {},
     "output_type": "display_data"
    },
    {
     "name": "stdout",
     "output_type": "stream",
     "text": [
      "gld_params: [0.04368552 0.02402161 0.35529425 0.13955409]\n",
      "wrapper([ 1.071e-19  2.366e-02 ...  9.303e-01  9.140e-01]) = -0.027052097152605224\n",
      "assembly_constraint_no_mean([ 1.071e-19  2.366e-02 ...  9.303e-01  9.140e-01]) = [ 1.565e-02  1.508e-02 ...  1.494e-02  1.615e-02]\n"
     ]
    },
    {
     "data": {
      "application/vnd.jupyter.widget-view+json": {
       "model_id": "943da278f6cd4856a47b352f01ea1129",
       "version_major": 2,
       "version_minor": 0
      },
      "text/plain": [
       "  0%|          | 0/10000 [00:00<?, ?it/s]"
      ]
     },
     "metadata": {},
     "output_type": "display_data"
    },
    {
     "name": "stdout",
     "output_type": "stream",
     "text": [
      "gld_params: [0.04362512 0.02408301 0.35511727 0.14017569]\n",
      "wrapper([ 2.576e-02  1.315e-02 ...  9.233e-01  9.308e-01]) = -0.02744877963802901\n",
      "assembly_constraint_no_mean([ 2.576e-02  1.315e-02 ...  9.233e-01  9.308e-01]) = [-1.271e-01  2.673e-02 ...  9.386e-02  6.754e-02]\n"
     ]
    },
    {
     "data": {
      "application/vnd.jupyter.widget-view+json": {
       "model_id": "22146c47e60943fe8e6a236f065559dc",
       "version_major": 2,
       "version_minor": 0
      },
      "text/plain": [
       "  0%|          | 0/10000 [00:00<?, ?it/s]"
      ]
     },
     "metadata": {},
     "output_type": "display_data"
    },
    {
     "name": "stdout",
     "output_type": "stream",
     "text": [
      "gld_params: [0.04368359 0.02402738 0.35554022 0.13946875]\n",
      "wrapper([ 1.478e-18  1.166e-02 ...  9.299e-01  9.144e-01]) = -0.02705689438094533\n",
      "assembly_constraint_no_mean([ 1.478e-18  1.166e-02 ...  9.299e-01  9.144e-01]) = [ 1.571e-02  1.691e-02 ...  1.461e-02  1.549e-02]\n"
     ]
    },
    {
     "data": {
      "application/vnd.jupyter.widget-view+json": {
       "model_id": "7df42b807b6940a9bc444fecf457a8c4",
       "version_major": 2,
       "version_minor": 0
      },
      "text/plain": [
       "  0%|          | 0/10000 [00:00<?, ?it/s]"
      ]
     },
     "metadata": {},
     "output_type": "display_data"
    },
    {
     "name": "stdout",
     "output_type": "stream",
     "text": [
      "gld_params: [0.04367204 0.02404911 0.35528382 0.14021825]\n",
      "wrapper([ 0.000e+00  1.277e-02 ...  9.331e-01  9.376e-01]) = -0.027097054147990296\n",
      "assembly_constraint_no_mean([ 0.000e+00  1.277e-02 ...  9.331e-01  9.376e-01]) = [-4.393e-02  1.873e-03 ... -2.011e-02  1.589e-01]\n"
     ]
    },
    {
     "data": {
      "application/vnd.jupyter.widget-view+json": {
       "model_id": "53df3ac3070d498c9aff8fcdaebb46bb",
       "version_major": 2,
       "version_minor": 0
      },
      "text/plain": [
       "  0%|          | 0/10000 [00:00<?, ?it/s]"
      ]
     },
     "metadata": {},
     "output_type": "display_data"
    },
    {
     "name": "stdout",
     "output_type": "stream",
     "text": [
      "gld_params: [0.04368443 0.02402276 0.35538521 0.13948164]\n",
      "wrapper([ 0.000e+00  1.712e-02 ...  9.292e-01  9.151e-01]) = -0.027058241390395445\n",
      "assembly_constraint_no_mean([ 0.000e+00  1.712e-02 ...  9.292e-01  9.151e-01]) = [ 1.549e-02  1.515e-02 ...  1.479e-02  1.567e-02]\n"
     ]
    },
    {
     "data": {
      "application/vnd.jupyter.widget-view+json": {
       "model_id": "840b9aa7f6464dde9f3eac149cb739b5",
       "version_major": 2,
       "version_minor": 0
      },
      "text/plain": [
       "  0%|          | 0/10000 [00:00<?, ?it/s]"
      ]
     },
     "metadata": {},
     "output_type": "display_data"
    },
    {
     "name": "stdout",
     "output_type": "stream",
     "text": [
      "gld_params: [0.04350379 0.0241223  0.35504355 0.14012564]\n",
      "wrapper([ 1.926e-34  1.696e-02 ...  9.291e-01  9.260e-01]) = -0.02802361732083302\n",
      "assembly_constraint_no_mean([ 1.926e-34  1.696e-02 ...  9.291e-01  9.260e-01]) = [-2.627e-02  1.578e-01 ...  7.440e-02  7.706e-02]\n"
     ]
    },
    {
     "data": {
      "application/vnd.jupyter.widget-view+json": {
       "model_id": "1385c014a6ef44c18b071cc734d477d0",
       "version_major": 2,
       "version_minor": 0
      },
      "text/plain": [
       "  0%|          | 0/10000 [00:00<?, ?it/s]"
      ]
     },
     "metadata": {},
     "output_type": "display_data"
    },
    {
     "name": "stdout",
     "output_type": "stream",
     "text": [
      "gld_params: [0.04368973 0.02402807 0.35534696 0.13958016]\n",
      "wrapper([ 5.786e-03  1.993e-02 ...  9.284e-01  9.161e-01]) = -0.02705773941111288\n",
      "assembly_constraint_no_mean([ 5.786e-03  1.993e-02 ...  9.284e-01  9.161e-01]) = [ 1.620e-02  1.582e-02 ...  1.455e-02  1.587e-02]\n"
     ]
    },
    {
     "data": {
      "application/vnd.jupyter.widget-view+json": {
       "model_id": "3306de239bba481889bee61ada96af9a",
       "version_major": 2,
       "version_minor": 0
      },
      "text/plain": [
       "  0%|          | 0/10000 [00:00<?, ?it/s]"
      ]
     },
     "metadata": {},
     "output_type": "display_data"
    },
    {
     "name": "stdout",
     "output_type": "stream",
     "text": [
      "gld_params: [0.04372547 0.02401574 0.35481413 0.13958253]\n",
      "wrapper([ 0.000e+00  1.144e-02 ...  9.079e-01  9.213e-01]) = -0.026996789322316955\n",
      "assembly_constraint_no_mean([ 0.000e+00  1.144e-02 ...  9.079e-01  9.213e-01]) = [-1.250e-02 -1.565e-01 ...  7.627e-03 -6.465e-02]\n"
     ]
    },
    {
     "data": {
      "application/vnd.jupyter.widget-view+json": {
       "model_id": "9f723d0f1d6d47939fe06fb75650d7dc",
       "version_major": 2,
       "version_minor": 0
      },
      "text/plain": [
       "  0%|          | 0/10000 [00:00<?, ?it/s]"
      ]
     },
     "metadata": {},
     "output_type": "display_data"
    },
    {
     "name": "stdout",
     "output_type": "stream",
     "text": [
      "gld_params: [0.0436866  0.02402427 0.35539445 0.13947653]\n",
      "wrapper([ 7.535e-04  1.704e-02 ...  9.238e-01  9.206e-01]) = -0.027059141175372347\n",
      "assembly_constraint_no_mean([ 7.535e-04  1.704e-02 ...  9.238e-01  9.206e-01]) = [ 1.571e-02  1.561e-02 ...  1.485e-02  1.526e-02]\n"
     ]
    },
    {
     "data": {
      "application/vnd.jupyter.widget-view+json": {
       "model_id": "122b7a7fcc6a4d6f9073759685d8c54a",
       "version_major": 2,
       "version_minor": 0
      },
      "text/plain": [
       "  0%|          | 0/10000 [00:00<?, ?it/s]"
      ]
     },
     "metadata": {},
     "output_type": "display_data"
    },
    {
     "name": "stdout",
     "output_type": "stream",
     "text": [
      "gld_params: [0.04362621 0.02404052 0.3553169  0.13927608]\n",
      "wrapper([ 1.994e-03  1.304e-02 ...  9.256e-01  9.385e-01]) = -0.027372443853328786\n",
      "assembly_constraint_no_mean([ 1.994e-03  1.304e-02 ...  9.256e-01  9.385e-01]) = [ 7.647e-02  4.184e-02 ... -1.593e-02  1.238e-01]\n"
     ]
    },
    {
     "data": {
      "application/vnd.jupyter.widget-view+json": {
       "model_id": "6eb058a721bb48fb8cbafc141b196847",
       "version_major": 2,
       "version_minor": 0
      },
      "text/plain": [
       "  0%|          | 0/10000 [00:00<?, ?it/s]"
      ]
     },
     "metadata": {},
     "output_type": "display_data"
    },
    {
     "name": "stdout",
     "output_type": "stream",
     "text": [
      "gld_params: [0.04368109 0.02401938 0.35541177 0.13939364]\n",
      "wrapper([ 1.959e-22  1.559e-02 ...  9.237e-01  9.207e-01]) = -0.027063177926992543\n",
      "assembly_constraint_no_mean([ 1.959e-22  1.559e-02 ...  9.237e-01  9.207e-01]) = [ 1.564e-02  1.521e-02 ...  1.490e-02  1.560e-02]\n"
     ]
    },
    {
     "data": {
      "application/vnd.jupyter.widget-view+json": {
       "model_id": "975d0e76dffe4b6eabdf583985d76c71",
       "version_major": 2,
       "version_minor": 0
      },
      "text/plain": [
       "  0%|          | 0/10000 [00:00<?, ?it/s]"
      ]
     },
     "metadata": {},
     "output_type": "display_data"
    },
    {
     "name": "stdout",
     "output_type": "stream",
     "text": [
      "gld_params: [0.04372865 0.02403033 0.35464342 0.14015207]\n",
      "wrapper([ 1.635e-02  1.759e-02 ...  9.320e-01  9.206e-01]) = -0.026979042746160965\n",
      "assembly_constraint_no_mean([ 1.635e-02  1.759e-02 ...  9.320e-01  9.206e-01]) = [-3.770e-03 -9.880e-03 ...  1.128e-01  6.407e-02]\n"
     ]
    },
    {
     "data": {
      "application/vnd.jupyter.widget-view+json": {
       "model_id": "64759181487a4ef68cd07a38f8983aa0",
       "version_major": 2,
       "version_minor": 0
      },
      "text/plain": [
       "  0%|          | 0/10000 [00:00<?, ?it/s]"
      ]
     },
     "metadata": {},
     "output_type": "display_data"
    },
    {
     "name": "stdout",
     "output_type": "stream",
     "text": [
      "gld_params: [0.04368019 0.02401948 0.35543429 0.13938981]\n",
      "wrapper([ 1.959e-22  1.562e-02 ...  9.235e-01  9.209e-01]) = -0.02706264419644249\n",
      "assembly_constraint_no_mean([ 1.959e-22  1.562e-02 ...  9.235e-01  9.209e-01]) = [ 1.589e-02  1.533e-02 ...  1.534e-02  1.517e-02]\n"
     ]
    },
    {
     "data": {
      "application/vnd.jupyter.widget-view+json": {
       "model_id": "8a88191e0a674537977accc9eaf1c309",
       "version_major": 2,
       "version_minor": 0
      },
      "text/plain": [
       "  0%|          | 0/10000 [00:00<?, ?it/s]"
      ]
     },
     "metadata": {},
     "output_type": "display_data"
    },
    {
     "name": "stdout",
     "output_type": "stream",
     "text": [
      "gld_params: [0.04373732 0.02402775 0.35494967 0.14003332]\n",
      "wrapper([ 1.178e-02  3.121e-02 ...  9.238e-01  9.205e-01]) = -0.026906640666388735\n",
      "assembly_constraint_no_mean([ 1.178e-02  3.121e-02 ...  9.238e-01  9.205e-01]) = [ 9.659e-02 -5.750e-02 ... -1.243e-02  1.538e-02]\n"
     ]
    },
    {
     "data": {
      "application/vnd.jupyter.widget-view+json": {
       "model_id": "7e4e4f237e7348728aca8f3ac8f4d085",
       "version_major": 2,
       "version_minor": 0
      },
      "text/plain": [
       "  0%|          | 0/10000 [00:00<?, ?it/s]"
      ]
     },
     "metadata": {},
     "output_type": "display_data"
    },
    {
     "name": "stdout",
     "output_type": "stream",
     "text": [
      "gld_params: [0.04368089 0.02401938 0.3554125  0.13939859]\n",
      "wrapper([ 3.399e-19  1.516e-02 ...  9.236e-01  9.207e-01]) = -0.027062577524707292\n",
      "assembly_constraint_no_mean([ 3.399e-19  1.516e-02 ...  9.236e-01  9.207e-01]) = [ 1.585e-02  1.531e-02 ...  1.532e-02  1.502e-02]\n"
     ]
    },
    {
     "data": {
      "application/vnd.jupyter.widget-view+json": {
       "model_id": "592da1c903474897b9176f8c7fac03b3",
       "version_major": 2,
       "version_minor": 0
      },
      "text/plain": [
       "  0%|          | 0/10000 [00:00<?, ?it/s]"
      ]
     },
     "metadata": {},
     "output_type": "display_data"
    },
    {
     "name": "stdout",
     "output_type": "stream",
     "text": [
      "gld_params: [0.04372859 0.02399943 0.35490303 0.13948512]\n",
      "wrapper([ 4.750e-03  1.731e-02 ...  9.143e-01  9.300e-01]) = -0.026907400371801223\n",
      "assembly_constraint_no_mean([ 4.750e-03  1.731e-02 ...  9.143e-01  9.300e-01]) = [ 7.296e-02  7.942e-02 ... -6.020e-02  2.000e-02]\n"
     ]
    },
    {
     "data": {
      "application/vnd.jupyter.widget-view+json": {
       "model_id": "8d8d1d46ddac4c0f9df3b2d3581606ef",
       "version_major": 2,
       "version_minor": 0
      },
      "text/plain": [
       "  0%|          | 0/10000 [00:00<?, ?it/s]"
      ]
     },
     "metadata": {},
     "output_type": "display_data"
    },
    {
     "name": "stdout",
     "output_type": "stream",
     "text": [
      "gld_params: [0.04367812 0.02402404 0.35557195 0.1394044 ]\n",
      "wrapper([ 1.209e-03  1.024e-02 ...  9.243e-01  9.201e-01]) = -0.02706219453042454\n",
      "assembly_constraint_no_mean([ 1.209e-03  1.024e-02 ...  9.243e-01  9.201e-01]) = [ 1.640e-02  1.559e-02 ...  1.527e-02  1.492e-02]\n"
     ]
    },
    {
     "data": {
      "application/vnd.jupyter.widget-view+json": {
       "model_id": "7d958a59959d4d828d35040020d936a2",
       "version_major": 2,
       "version_minor": 0
      },
      "text/plain": [
       "  0%|          | 0/10000 [00:00<?, ?it/s]"
      ]
     },
     "metadata": {},
     "output_type": "display_data"
    },
    {
     "name": "stdout",
     "output_type": "stream",
     "text": [
      "gld_params: [0.04365483 0.0240531  0.35506641 0.13981935]\n",
      "wrapper([ 0.000e+00  1.580e-02 ...  9.236e-01  9.340e-01]) = -0.027293075746112304\n",
      "assembly_constraint_no_mean([ 0.000e+00  1.580e-02 ...  9.236e-01  9.340e-01]) = [-1.624e-04 -8.113e-03 ...  6.889e-02  8.952e-02]\n"
     ]
    },
    {
     "data": {
      "application/vnd.jupyter.widget-view+json": {
       "model_id": "a94919a82e2a4c869e4a85da100a6f51",
       "version_major": 2,
       "version_minor": 0
      },
      "text/plain": [
       "  0%|          | 0/10000 [00:00<?, ?it/s]"
      ]
     },
     "metadata": {},
     "output_type": "display_data"
    },
    {
     "name": "stdout",
     "output_type": "stream",
     "text": [
      "gld_params: [0.04367913 0.02402054 0.35546666 0.13939749]\n",
      "wrapper([ 1.959e-22  1.420e-02 ...  9.240e-01  9.204e-01]) = -0.02706325543191583\n",
      "assembly_constraint_no_mean([ 1.959e-22  1.420e-02 ...  9.240e-01  9.204e-01]) = [ 1.599e-02  1.551e-02 ...  1.519e-02  1.514e-02]\n"
     ]
    },
    {
     "data": {
      "application/vnd.jupyter.widget-view+json": {
       "model_id": "8a7dccd365194a39b1898e72635a65a7",
       "version_major": 2,
       "version_minor": 0
      },
      "text/plain": [
       "  0%|          | 0/10000 [00:00<?, ?it/s]"
      ]
     },
     "metadata": {},
     "output_type": "display_data"
    },
    {
     "name": "stdout",
     "output_type": "stream",
     "text": [
      "gld_params: [0.04372987 0.02404137 0.35454724 0.14048506]\n",
      "wrapper([ 1.926e-34  3.092e-02 ...  9.287e-01  9.231e-01]) = -0.02698260994983358\n",
      "assembly_constraint_no_mean([ 1.926e-34  3.092e-02 ...  9.287e-01  9.231e-01]) = [ 1.293e-02 -4.132e-02 ...  9.970e-02  5.621e-02]\n"
     ]
    },
    {
     "data": {
      "application/vnd.jupyter.widget-view+json": {
       "model_id": "5ef66558832a4b2584c0983e746a4d8b",
       "version_major": 2,
       "version_minor": 0
      },
      "text/plain": [
       "  0%|          | 0/10000 [00:00<?, ?it/s]"
      ]
     },
     "metadata": {},
     "output_type": "display_data"
    },
    {
     "name": "stdout",
     "output_type": "stream",
     "text": [
      "gld_params: [0.04368069 0.0240205  0.35543347 0.13940769]\n",
      "wrapper([ 3.225e-19  1.482e-02 ...  9.246e-01  9.197e-01]) = -0.027062952811149562\n",
      "assembly_constraint_no_mean([ 3.225e-19  1.482e-02 ...  9.246e-01  9.197e-01]) = [ 1.590e-02  1.538e-02 ...  1.531e-02  1.486e-02]\n"
     ]
    },
    {
     "data": {
      "application/vnd.jupyter.widget-view+json": {
       "model_id": "4c0b8404b8d94897a445cac6d7033d6c",
       "version_major": 2,
       "version_minor": 0
      },
      "text/plain": [
       "  0%|          | 0/10000 [00:00<?, ?it/s]"
      ]
     },
     "metadata": {},
     "output_type": "display_data"
    },
    {
     "name": "stdout",
     "output_type": "stream",
     "text": [
      "gld_params: [0.04379801 0.02399347 0.35503023 0.14008207]\n",
      "wrapper([ 1.207e-04  2.896e-02 ...  9.281e-01  9.153e-01]) = -0.026536419045070543\n",
      "assembly_constraint_no_mean([ 1.207e-04  2.896e-02 ...  9.281e-01  9.153e-01]) = [-6.663e-02 -1.308e-01 ...  1.339e-02  9.524e-03]\n"
     ]
    },
    {
     "data": {
      "application/vnd.jupyter.widget-view+json": {
       "model_id": "a26cbb102e6f45f1a4e2d5cdd705cf19",
       "version_major": 2,
       "version_minor": 0
      },
      "text/plain": [
       "  0%|          | 0/10000 [00:00<?, ?it/s]"
      ]
     },
     "metadata": {},
     "output_type": "display_data"
    },
    {
     "name": "stdout",
     "output_type": "stream",
     "text": [
      "gld_params: [0.04368113 0.02402086 0.3554274  0.13941311]\n",
      "wrapper([ 9.815e-19  1.538e-02 ...  9.248e-01  9.196e-01]) = -0.027063645457481352\n",
      "assembly_constraint_no_mean([ 9.815e-19  1.538e-02 ...  9.248e-01  9.196e-01]) = [ 1.580e-02  1.546e-02 ...  1.537e-02  1.507e-02]\n"
     ]
    },
    {
     "data": {
      "application/vnd.jupyter.widget-view+json": {
       "model_id": "bf7914bce2404859b28cc7c92342b093",
       "version_major": 2,
       "version_minor": 0
      },
      "text/plain": [
       "  0%|          | 0/10000 [00:00<?, ?it/s]"
      ]
     },
     "metadata": {},
     "output_type": "display_data"
    },
    {
     "name": "stdout",
     "output_type": "stream",
     "text": [
      "gld_params: [0.04375926 0.02401778 0.35496282 0.14006516]\n",
      "wrapper([ 1.540e-02  0.000e+00 ...  9.245e-01  9.150e-01]) = -0.02678527789053341\n",
      "assembly_constraint_no_mean([ 1.540e-02  0.000e+00 ...  9.245e-01  9.150e-01]) = [ 1.226e-02 -8.856e-02 ...  1.575e-01 -8.792e-03]\n"
     ]
    },
    {
     "data": {
      "application/vnd.jupyter.widget-view+json": {
       "model_id": "1d9c9afcf47a4893bd7640509cfd4b73",
       "version_major": 2,
       "version_minor": 0
      },
      "text/plain": [
       "  0%|          | 0/10000 [00:00<?, ?it/s]"
      ]
     },
     "metadata": {},
     "output_type": "display_data"
    },
    {
     "name": "stdout",
     "output_type": "stream",
     "text": [
      "gld_params: [0.04368036 0.02402105 0.3554559  0.1394005 ]\n",
      "wrapper([ 1.959e-22  1.477e-02 ...  9.249e-01  9.195e-01]) = -0.027063855222214512\n",
      "assembly_constraint_no_mean([ 1.959e-22  1.477e-02 ...  9.249e-01  9.195e-01]) = [ 1.590e-02  1.554e-02 ...  1.522e-02  1.514e-02]\n"
     ]
    },
    {
     "data": {
      "application/vnd.jupyter.widget-view+json": {
       "model_id": "bcb22f26072b4220856c27f70a84f4c2",
       "version_major": 2,
       "version_minor": 0
      },
      "text/plain": [
       "  0%|          | 0/10000 [00:00<?, ?it/s]"
      ]
     },
     "metadata": {},
     "output_type": "display_data"
    },
    {
     "name": "stdout",
     "output_type": "stream",
     "text": [
      "gld_params: [0.04377244 0.02397521 0.35479454 0.13917967]\n",
      "wrapper([ 1.926e-34  3.025e-02 ...  9.267e-01  9.314e-01]) = -0.02674460385738065\n",
      "assembly_constraint_no_mean([ 1.926e-34  3.025e-02 ...  9.267e-01  9.314e-01]) = [-7.417e-02  1.797e-01 ... -8.419e-02  9.031e-02]\n"
     ]
    },
    {
     "data": {
      "application/vnd.jupyter.widget-view+json": {
       "model_id": "a2d1c1e94a914a48a8f3b5a7fef4d6c4",
       "version_major": 2,
       "version_minor": 0
      },
      "text/plain": [
       "  0%|          | 0/10000 [00:00<?, ?it/s]"
      ]
     },
     "metadata": {},
     "output_type": "display_data"
    },
    {
     "name": "stdout",
     "output_type": "stream",
     "text": [
      "gld_params: [0.04367961 0.02402043 0.35545615 0.13938817]\n",
      "wrapper([ 1.959e-22  1.466e-02 ...  9.262e-01  9.182e-01]) = -0.027065230620078724\n",
      "assembly_constraint_no_mean([ 1.959e-22  1.466e-02 ...  9.262e-01  9.182e-01]) = [ 1.602e-02  1.578e-02 ...  1.604e-02  1.529e-02]\n"
     ]
    },
    {
     "data": {
      "application/vnd.jupyter.widget-view+json": {
       "model_id": "b233859c5f9045318da1e1b43b58991e",
       "version_major": 2,
       "version_minor": 0
      },
      "text/plain": [
       "  0%|          | 0/10000 [00:00<?, ?it/s]"
      ]
     },
     "metadata": {},
     "output_type": "display_data"
    },
    {
     "name": "stdout",
     "output_type": "stream",
     "text": [
      "gld_params: [0.04372789 0.02402669 0.35416542 0.14010603]\n",
      "wrapper([ 1.069e-18  1.734e-02 ...  9.251e-01  9.217e-01]) = -0.027064393989000443\n",
      "assembly_constraint_no_mean([ 1.069e-18  1.734e-02 ...  9.251e-01  9.217e-01]) = [ 2.057e-02  2.883e-02 ...  1.693e-02  3.269e-02]\n"
     ]
    },
    {
     "data": {
      "application/vnd.jupyter.widget-view+json": {
       "model_id": "146ff62aaecd4586977c33b3f9113f5a",
       "version_major": 2,
       "version_minor": 0
      },
      "text/plain": [
       "  0%|          | 0/10000 [00:00<?, ?it/s]"
      ]
     },
     "metadata": {},
     "output_type": "display_data"
    },
    {
     "name": "stdout",
     "output_type": "stream",
     "text": [
      "gld_params: [0.04367969 0.02402027 0.35544608 0.13939582]\n",
      "wrapper([ 2.268e-19  1.540e-02 ...  9.253e-01  9.190e-01]) = -0.027064598039190667\n",
      "assembly_constraint_no_mean([ 2.268e-19  1.540e-02 ...  9.253e-01  9.190e-01]) = [ 1.580e-02  1.554e-02 ...  1.542e-02  1.509e-02]\n"
     ]
    },
    {
     "data": {
      "application/vnd.jupyter.widget-view+json": {
       "model_id": "1b4495e65b954b4da9617e3a1bc75abd",
       "version_major": 2,
       "version_minor": 0
      },
      "text/plain": [
       "  0%|          | 0/10000 [00:00<?, ?it/s]"
      ]
     },
     "metadata": {},
     "output_type": "display_data"
    },
    {
     "name": "stdout",
     "output_type": "stream",
     "text": [
      "gld_params: [0.04360231 0.02405525 0.35476056 0.13940036]\n",
      "wrapper([ 0.000e+00  3.122e-02 ...  9.185e-01  9.442e-01]) = -0.027596850394274265\n",
      "assembly_constraint_no_mean([ 0.000e+00  3.122e-02 ...  9.185e-01  9.442e-01]) = [ 7.864e-02  2.374e-02 ...  5.841e-02  1.184e-01]\n"
     ]
    },
    {
     "data": {
      "application/vnd.jupyter.widget-view+json": {
       "model_id": "f70c375e366241b7af08a0e4372648bc",
       "version_major": 2,
       "version_minor": 0
      },
      "text/plain": [
       "  0%|          | 0/10000 [00:00<?, ?it/s]"
      ]
     },
     "metadata": {},
     "output_type": "display_data"
    },
    {
     "name": "stdout",
     "output_type": "stream",
     "text": [
      "gld_params: [0.04368039 0.02402083 0.3554361  0.13940539]\n",
      "wrapper([ 1.959e-22  1.513e-02 ...  9.255e-01  9.189e-01]) = -0.027065491284079767\n",
      "assembly_constraint_no_mean([ 1.959e-22  1.513e-02 ...  9.255e-01  9.189e-01]) = [ 1.578e-02  1.536e-02 ...  1.548e-02  1.523e-02]\n"
     ]
    },
    {
     "data": {
      "application/vnd.jupyter.widget-view+json": {
       "model_id": "414ce8c900e448eca49567801b1b8111",
       "version_major": 2,
       "version_minor": 0
      },
      "text/plain": [
       "  0%|          | 0/10000 [00:00<?, ?it/s]"
      ]
     },
     "metadata": {},
     "output_type": "display_data"
    },
    {
     "name": "stdout",
     "output_type": "stream",
     "text": [
      "gld_params: [0.04387925 0.02394095 0.35487568 0.13965723]\n",
      "wrapper([ 0.000e+00  2.517e-02 ...  9.097e-01  9.332e-01]) = -0.02616271083353206\n",
      "assembly_constraint_no_mean([ 0.000e+00  2.517e-02 ...  9.097e-01  9.332e-01]) = [-3.032e-02 -2.473e-02 ... -4.410e-02  1.024e-02]\n"
     ]
    },
    {
     "data": {
      "application/vnd.jupyter.widget-view+json": {
       "model_id": "38deaf8dd3d74b4780dcbf924429188f",
       "version_major": 2,
       "version_minor": 0
      },
      "text/plain": [
       "  0%|          | 0/10000 [00:00<?, ?it/s]"
      ]
     },
     "metadata": {},
     "output_type": "display_data"
    },
    {
     "name": "stdout",
     "output_type": "stream",
     "text": [
      "gld_params: [0.04368051 0.02402143 0.35543944 0.13941186]\n",
      "wrapper([ 1.494e-18  1.501e-02 ...  9.254e-01  9.190e-01]) = -0.02706624230146532\n",
      "assembly_constraint_no_mean([ 1.494e-18  1.501e-02 ...  9.254e-01  9.190e-01]) = [ 1.567e-02  1.532e-02 ...  1.567e-02  1.542e-02]\n"
     ]
    },
    {
     "data": {
      "application/vnd.jupyter.widget-view+json": {
       "model_id": "50dea7471bbf4bbc8faedfd3d7b7e8ac",
       "version_major": 2,
       "version_minor": 0
      },
      "text/plain": [
       "  0%|          | 0/10000 [00:00<?, ?it/s]"
      ]
     },
     "metadata": {},
     "output_type": "display_data"
    },
    {
     "name": "stdout",
     "output_type": "stream",
     "text": [
      "gld_params: [0.04365506 0.02404438 0.35488675 0.13935615]\n",
      "wrapper([ 0.000e+00  1.608e-02 ...  9.118e-01  9.154e-01]) = -0.027377869725260538\n",
      "assembly_constraint_no_mean([ 0.000e+00  1.608e-02 ...  9.118e-01  9.154e-01]) = [-3.547e-02  2.046e-01 ...  1.112e-02 -7.820e-02]\n"
     ]
    },
    {
     "data": {
      "application/vnd.jupyter.widget-view+json": {
       "model_id": "ec00026c9a104ba7a931da352382cbec",
       "version_major": 2,
       "version_minor": 0
      },
      "text/plain": [
       "  0%|          | 0/10000 [00:00<?, ?it/s]"
      ]
     },
     "metadata": {},
     "output_type": "display_data"
    },
    {
     "name": "stdout",
     "output_type": "stream",
     "text": [
      "gld_params: [0.04368411 0.02402241 0.35541886 0.13939895]\n",
      "wrapper([ 1.959e-22  1.356e-02 ...  9.260e-01  9.184e-01]) = -0.027067726785867597\n",
      "assembly_constraint_no_mean([ 1.959e-22  1.356e-02 ...  9.260e-01  9.184e-01]) = [ 1.581e-02  1.553e-02 ...  1.591e-02  1.575e-02]\n"
     ]
    },
    {
     "data": {
      "application/vnd.jupyter.widget-view+json": {
       "model_id": "22b5b86d6a134e8083c7350e94a20b5a",
       "version_major": 2,
       "version_minor": 0
      },
      "text/plain": [
       "  0%|          | 0/10000 [00:00<?, ?it/s]"
      ]
     },
     "metadata": {},
     "output_type": "display_data"
    },
    {
     "name": "stdout",
     "output_type": "stream",
     "text": [
      "gld_params: [0.04377961 0.02398869 0.35469775 0.13958286]\n",
      "wrapper([ 9.038e-03  2.184e-02 ...  9.237e-01  9.081e-01]) = -0.026729902112317294\n",
      "assembly_constraint_no_mean([ 9.038e-03  2.184e-02 ...  9.237e-01  9.081e-01]) = [ 7.853e-02 -6.607e-02 ... -6.009e-02 -4.955e-02]\n"
     ]
    },
    {
     "data": {
      "application/vnd.jupyter.widget-view+json": {
       "model_id": "6a4b17fa605a4e3da1ad4d4bae0d495a",
       "version_major": 2,
       "version_minor": 0
      },
      "text/plain": [
       "  0%|          | 0/10000 [00:00<?, ?it/s]"
      ]
     },
     "metadata": {},
     "output_type": "display_data"
    },
    {
     "name": "stdout",
     "output_type": "stream",
     "text": [
      "gld_params: [0.04368731 0.0240226  0.35536049 0.13942059]\n",
      "wrapper([ 1.959e-22  1.416e-02 ...  9.284e-01  9.159e-01]) = -0.02706658593424429\n",
      "assembly_constraint_no_mean([ 1.959e-22  1.416e-02 ...  9.284e-01  9.159e-01]) = [ 1.598e-02  1.579e-02 ...  1.582e-02  1.543e-02]\n"
     ]
    },
    {
     "data": {
      "application/vnd.jupyter.widget-view+json": {
       "model_id": "2f369ea210554201acc144291a9be83f",
       "version_major": 2,
       "version_minor": 0
      },
      "text/plain": [
       "  0%|          | 0/10000 [00:00<?, ?it/s]"
      ]
     },
     "metadata": {},
     "output_type": "display_data"
    },
    {
     "name": "stdout",
     "output_type": "stream",
     "text": [
      "gld_params: [0.04366111 0.0240405  0.35485614 0.13977166]\n",
      "wrapper([ 0.000e+00  6.766e-03 ...  9.233e-01  9.248e-01]) = -0.027261163934163647\n",
      "assembly_constraint_no_mean([ 0.000e+00  6.766e-03 ...  9.233e-01  9.248e-01]) = [ 2.498e-02  9.602e-02 ...  6.574e-02  4.019e-02]\n"
     ]
    },
    {
     "data": {
      "application/vnd.jupyter.widget-view+json": {
       "model_id": "82e01f0841b74b92b370a7910765c40d",
       "version_major": 2,
       "version_minor": 0
      },
      "text/plain": [
       "  0%|          | 0/10000 [00:00<?, ?it/s]"
      ]
     },
     "metadata": {},
     "output_type": "display_data"
    },
    {
     "name": "stdout",
     "output_type": "stream",
     "text": [
      "gld_params: [0.04368463 0.02402078 0.35535974 0.13941396]\n",
      "wrapper([ 1.959e-22  1.446e-02 ...  9.256e-01  9.187e-01]) = -0.02706631274908416\n",
      "assembly_constraint_no_mean([ 1.959e-22  1.446e-02 ...  9.256e-01  9.187e-01]) = [ 1.577e-02  1.530e-02 ...  1.575e-02  1.542e-02]\n"
     ]
    },
    {
     "data": {
      "application/vnd.jupyter.widget-view+json": {
       "model_id": "d080cd21dc774fd6b137dd5cceae267b",
       "version_major": 2,
       "version_minor": 0
      },
      "text/plain": [
       "  0%|          | 0/10000 [00:00<?, ?it/s]"
      ]
     },
     "metadata": {},
     "output_type": "display_data"
    },
    {
     "name": "stdout",
     "output_type": "stream",
     "text": [
      "gld_params: [0.04372455 0.02400066 0.35491168 0.13928757]\n",
      "wrapper([ 1.926e-34  1.156e-02 ...  9.296e-01  9.306e-01]) = -0.02696368358264549\n",
      "assembly_constraint_no_mean([ 1.926e-34  1.156e-02 ...  9.296e-01  9.306e-01]) = [ 1.198e-01  7.260e-02 ... -2.188e-02  1.008e-01]\n"
     ]
    },
    {
     "data": {
      "application/vnd.jupyter.widget-view+json": {
       "model_id": "5ea9471d7b69403dac5e033e22ff17aa",
       "version_major": 2,
       "version_minor": 0
      },
      "text/plain": [
       "  0%|          | 0/10000 [00:00<?, ?it/s]"
      ]
     },
     "metadata": {},
     "output_type": "display_data"
    },
    {
     "name": "stdout",
     "output_type": "stream",
     "text": [
      "gld_params: [0.0436851  0.0240192  0.35528919 0.13943489]\n",
      "wrapper([ 1.959e-22  1.490e-02 ...  9.263e-01  9.180e-01]) = -0.027066287937047476\n",
      "assembly_constraint_no_mean([ 1.959e-22  1.490e-02 ...  9.263e-01  9.180e-01]) = [ 1.568e-02  1.512e-02 ...  1.579e-02  1.534e-02]\n"
     ]
    },
    {
     "data": {
      "application/vnd.jupyter.widget-view+json": {
       "model_id": "37bad0d832094cd1bceade93b505fdd6",
       "version_major": 2,
       "version_minor": 0
      },
      "text/plain": [
       "  0%|          | 0/10000 [00:00<?, ?it/s]"
      ]
     },
     "metadata": {},
     "output_type": "display_data"
    },
    {
     "name": "stdout",
     "output_type": "stream",
     "text": [
      "gld_params: [0.04379378 0.02398243 0.35477779 0.13941421]\n",
      "wrapper([ 1.926e-34  1.267e-02 ...  9.115e-01  9.148e-01]) = -0.026678106601903184\n",
      "assembly_constraint_no_mean([ 1.926e-34  1.267e-02 ...  9.115e-01  9.148e-01]) = [-3.242e-03  1.371e-03 ... -6.273e-02 -7.978e-02]\n"
     ]
    },
    {
     "data": {
      "application/vnd.jupyter.widget-view+json": {
       "model_id": "1f0819f5a97c43ebb52f1c6a2700aece",
       "version_major": 2,
       "version_minor": 0
      },
      "text/plain": [
       "  0%|          | 0/10000 [00:00<?, ?it/s]"
      ]
     },
     "metadata": {},
     "output_type": "display_data"
    },
    {
     "name": "stdout",
     "output_type": "stream",
     "text": [
      "gld_params: [0.04368456 0.02402066 0.35531883 0.13944685]\n",
      "wrapper([ 2.564e-19  1.442e-02 ...  9.266e-01  9.177e-01]) = -0.027067094600004515\n",
      "assembly_constraint_no_mean([ 2.564e-19  1.442e-02 ...  9.266e-01  9.177e-01]) = [ 1.572e-02  1.522e-02 ...  1.565e-02  1.535e-02]\n"
     ]
    },
    {
     "data": {
      "application/vnd.jupyter.widget-view+json": {
       "model_id": "e84365aa07c94a399f78a81bb6c1971d",
       "version_major": 2,
       "version_minor": 0
      },
      "text/plain": [
       "  0%|          | 0/10000 [00:00<?, ?it/s]"
      ]
     },
     "metadata": {},
     "output_type": "display_data"
    },
    {
     "name": "stdout",
     "output_type": "stream",
     "text": [
      "gld_params: [0.04363049 0.02404989 0.35490482 0.13938228]\n",
      "wrapper([ 0.000e+00  2.315e-02 ...  9.403e-01  9.249e-01]) = -0.027467365738621734\n",
      "assembly_constraint_no_mean([ 0.000e+00  2.315e-02 ...  9.403e-01  9.249e-01]) = [ 7.412e-03  1.201e-01 ...  8.336e-02  1.288e-01]\n"
     ]
    },
    {
     "data": {
      "application/vnd.jupyter.widget-view+json": {
       "model_id": "a7260d8c7b99492aa96d713d47b6171f",
       "version_major": 2,
       "version_minor": 0
      },
      "text/plain": [
       "  0%|          | 0/10000 [00:00<?, ?it/s]"
      ]
     },
     "metadata": {},
     "output_type": "display_data"
    },
    {
     "name": "stdout",
     "output_type": "stream",
     "text": [
      "gld_params: [0.04368684 0.02402293 0.35537275 0.13941997]\n",
      "wrapper([ 1.493e-19  1.319e-02 ...  9.278e-01  9.167e-01]) = -0.027067321988401172\n",
      "assembly_constraint_no_mean([ 1.493e-19  1.319e-02 ...  9.278e-01  9.167e-01]) = [ 1.621e-02  1.569e-02 ...  1.556e-02  1.571e-02]\n"
     ]
    },
    {
     "data": {
      "application/vnd.jupyter.widget-view+json": {
       "model_id": "00c24cb9bcb54db4a5e1a531c1ac6541",
       "version_major": 2,
       "version_minor": 0
      },
      "text/plain": [
       "  0%|          | 0/10000 [00:00<?, ?it/s]"
      ]
     },
     "metadata": {},
     "output_type": "display_data"
    },
    {
     "name": "stdout",
     "output_type": "stream",
     "text": [
      "gld_params: [0.04375849 0.02400325 0.35489773 0.13971854]\n",
      "wrapper([ 9.365e-04  2.465e-02 ...  9.208e-01  9.341e-01]) = -0.026796604914984094\n",
      "assembly_constraint_no_mean([ 9.365e-04  2.465e-02 ...  9.208e-01  9.341e-01]) = [-1.173e-02  3.252e-02 ...  4.861e-02  7.485e-02]\n"
     ]
    },
    {
     "data": {
      "application/vnd.jupyter.widget-view+json": {
       "model_id": "67795aae68884e1799bbf5ef092fef30",
       "version_major": 2,
       "version_minor": 0
      },
      "text/plain": [
       "  0%|          | 0/10000 [00:00<?, ?it/s]"
      ]
     },
     "metadata": {},
     "output_type": "display_data"
    },
    {
     "name": "stdout",
     "output_type": "stream",
     "text": [
      "gld_params: [0.04368729 0.02402243 0.35537886 0.13939812]\n",
      "wrapper([ 2.060e-18  1.265e-02 ...  9.281e-01  9.163e-01]) = -0.02706682497181108\n",
      "assembly_constraint_no_mean([ 2.060e-18  1.265e-02 ...  9.281e-01  9.163e-01]) = [ 1.612e-02  1.559e-02 ...  1.545e-02  1.557e-02]\n"
     ]
    },
    {
     "data": {
      "application/vnd.jupyter.widget-view+json": {
       "model_id": "bee0a74018e947be9ac303faba75c8e3",
       "version_major": 2,
       "version_minor": 0
      },
      "text/plain": [
       "  0%|          | 0/10000 [00:00<?, ?it/s]"
      ]
     },
     "metadata": {},
     "output_type": "display_data"
    },
    {
     "name": "stdout",
     "output_type": "stream",
     "text": [
      "gld_params: [0.04376302 0.02397282 0.35471861 0.1393    ]\n",
      "wrapper([ 1.708e-02  1.365e-02 ...  9.191e-01  9.206e-01]) = -0.026748700664137634\n",
      "assembly_constraint_no_mean([ 1.708e-02  1.365e-02 ...  9.191e-01  9.206e-01]) = [ 4.154e-02  4.490e-02 ... -1.185e-01 -6.752e-03]\n"
     ]
    },
    {
     "data": {
      "application/vnd.jupyter.widget-view+json": {
       "model_id": "64772577c2884ceb8f77d8c2e58a38fa",
       "version_major": 2,
       "version_minor": 0
      },
      "text/plain": [
       "  0%|          | 0/10000 [00:00<?, ?it/s]"
      ]
     },
     "metadata": {},
     "output_type": "display_data"
    },
    {
     "name": "stdout",
     "output_type": "stream",
     "text": [
      "gld_params: [0.04368796 0.02402286 0.35538016 0.13939445]\n",
      "wrapper([ 4.601e-19  1.196e-02 ...  9.290e-01  9.154e-01]) = -0.027067630090512784\n",
      "assembly_constraint_no_mean([ 4.601e-19  1.196e-02 ...  9.290e-01  9.154e-01]) = [ 1.621e-02  1.575e-02 ...  1.566e-02  1.578e-02]\n"
     ]
    },
    {
     "data": {
      "application/vnd.jupyter.widget-view+json": {
       "model_id": "b84865a6041b4976999e590755b31044",
       "version_major": 2,
       "version_minor": 0
      },
      "text/plain": [
       "  0%|          | 0/10000 [00:00<?, ?it/s]"
      ]
     },
     "metadata": {},
     "output_type": "display_data"
    },
    {
     "name": "stdout",
     "output_type": "stream",
     "text": [
      "gld_params: [0.04357132 0.02408867 0.35495434 0.13986538]\n",
      "wrapper([ 1.721e-03  2.497e-02 ...  9.138e-01  9.421e-01]) = -0.027725013504192063\n",
      "assembly_constraint_no_mean([ 1.721e-03  2.497e-02 ...  9.138e-01  9.421e-01]) = [ 1.367e-01  7.902e-02 ...  2.114e-02  8.109e-02]\n"
     ]
    },
    {
     "data": {
      "application/vnd.jupyter.widget-view+json": {
       "model_id": "8540c6f1d133490f99af267ac265ef36",
       "version_major": 2,
       "version_minor": 0
      },
      "text/plain": [
       "  0%|          | 0/10000 [00:00<?, ?it/s]"
      ]
     },
     "metadata": {},
     "output_type": "display_data"
    },
    {
     "name": "stdout",
     "output_type": "stream",
     "text": [
      "gld_params: [0.04368801 0.02401842 0.35524263 0.13940822]\n",
      "wrapper([ 4.890e-20  1.478e-02 ...  9.283e-01  9.160e-01]) = -0.027068561071409352\n",
      "assembly_constraint_no_mean([ 4.890e-20  1.478e-02 ...  9.283e-01  9.160e-01]) = [ 1.586e-02  1.541e-02 ...  1.554e-02  1.595e-02]\n"
     ]
    },
    {
     "data": {
      "application/vnd.jupyter.widget-view+json": {
       "model_id": "20f7de4de0e1406bba00ffb8989f6c94",
       "version_major": 2,
       "version_minor": 0
      },
      "text/plain": [
       "  0%|          | 0/10000 [00:00<?, ?it/s]"
      ]
     },
     "metadata": {},
     "output_type": "display_data"
    },
    {
     "name": "stdout",
     "output_type": "stream",
     "text": [
      "gld_params: [0.04373948 0.02402349 0.35494286 0.13976351]\n",
      "wrapper([ 2.454e-02  3.109e-02 ...  9.052e-01  9.328e-01]) = -0.026935232570514632\n",
      "assembly_constraint_no_mean([ 2.454e-02  3.109e-02 ...  9.052e-01  9.328e-01]) = [-3.018e-02  5.117e-02 ...  7.826e-02 -1.534e-02]\n"
     ]
    },
    {
     "data": {
      "application/vnd.jupyter.widget-view+json": {
       "model_id": "70c5788eb6c04d1baa8029ae2af062b8",
       "version_major": 2,
       "version_minor": 0
      },
      "text/plain": [
       "  0%|          | 0/10000 [00:00<?, ?it/s]"
      ]
     },
     "metadata": {},
     "output_type": "display_data"
    },
    {
     "name": "stdout",
     "output_type": "stream",
     "text": [
      "gld_params: [0.04368867 0.02401926 0.35528519 0.13937879]\n",
      "wrapper([ 1.959e-22  1.409e-02 ...  9.287e-01  9.157e-01]) = -0.02706881429131925\n",
      "assembly_constraint_no_mean([ 1.959e-22  1.409e-02 ...  9.287e-01  9.157e-01]) = [ 1.589e-02  1.554e-02 ...  1.542e-02  1.596e-02]\n"
     ]
    },
    {
     "data": {
      "application/vnd.jupyter.widget-view+json": {
       "model_id": "8d4b8df228114221b03bd2fd6f103bc9",
       "version_major": 2,
       "version_minor": 0
      },
      "text/plain": [
       "  0%|          | 0/10000 [00:00<?, ?it/s]"
      ]
     },
     "metadata": {},
     "output_type": "display_data"
    },
    {
     "name": "stdout",
     "output_type": "stream",
     "text": [
      "gld_params: [0.04380558 0.02399838 0.3551012  0.14004135]\n",
      "wrapper([ 0.000e+00  1.791e-02 ...  9.244e-01  9.176e-01]) = -0.0265349828870109\n",
      "assembly_constraint_no_mean([ 0.000e+00  1.791e-02 ...  9.244e-01  9.176e-01]) = [ 2.710e-02 -6.051e-02 ...  9.383e-02  5.255e-03]\n"
     ]
    },
    {
     "data": {
      "application/vnd.jupyter.widget-view+json": {
       "model_id": "1a2580a93a1342dda2a6963a97a4cb02",
       "version_major": 2,
       "version_minor": 0
      },
      "text/plain": [
       "  0%|          | 0/10000 [00:00<?, ?it/s]"
      ]
     },
     "metadata": {},
     "output_type": "display_data"
    },
    {
     "name": "stdout",
     "output_type": "stream",
     "text": [
      "gld_params: [0.04368943 0.0240188  0.35529252 0.13934678]\n",
      "wrapper([ 5.552e-19  1.406e-02 ...  9.290e-01  9.153e-01]) = -0.0270694075101745\n",
      "assembly_constraint_no_mean([ 5.552e-19  1.406e-02 ...  9.290e-01  9.153e-01]) = [ 1.603e-02  1.562e-02 ...  1.541e-02  1.607e-02]\n",
      "\n",
      "New trust-region radius: 0.007071067811865475.\n",
      "Number of function evaluations: 256.\n",
      "Number of iterations: 110.\n",
      "Least value of wrapper: -0.027067321988401172.\n",
      "Maximum constraint violation: 0.011865824476215248.\n",
      "Corresponding point: [ 1.493e-19  1.319e-02 ...  9.278e-01  9.167e-01].\n",
      "\n"
     ]
    },
    {
     "data": {
      "application/vnd.jupyter.widget-view+json": {
       "model_id": "fbb615b35b9348a5b66c87a202b86d7a",
       "version_major": 2,
       "version_minor": 0
      },
      "text/plain": [
       "  0%|          | 0/10000 [00:00<?, ?it/s]"
      ]
     },
     "metadata": {},
     "output_type": "display_data"
    },
    {
     "name": "stdout",
     "output_type": "stream",
     "text": [
      "gld_params: [0.04372541 0.02400284 0.3543641  0.13965505]\n",
      "wrapper([ 1.913e-19  1.528e-02 ...  9.312e-01  9.121e-01]) = -0.027003065319084536\n",
      "assembly_constraint_no_mean([ 1.913e-19  1.528e-02 ...  9.312e-01  9.121e-01]) = [ 1.525e-02  1.591e-02 ...  1.622e-02  1.528e-02]\n"
     ]
    },
    {
     "data": {
      "application/vnd.jupyter.widget-view+json": {
       "model_id": "a3215d076de641f382dfb1b92a0545df",
       "version_major": 2,
       "version_minor": 0
      },
      "text/plain": [
       "  0%|          | 0/10000 [00:00<?, ?it/s]"
      ]
     },
     "metadata": {},
     "output_type": "display_data"
    },
    {
     "name": "stdout",
     "output_type": "stream",
     "text": [
      "gld_params: [0.04370551 0.02401267 0.35494174 0.13946304]\n",
      "wrapper([ 0.000e+00  1.266e-02 ...  9.288e-01  9.150e-01]) = -0.027036937899279852\n",
      "assembly_constraint_no_mean([ 0.000e+00  1.266e-02 ...  9.288e-01  9.150e-01]) = [ 1.538e-02  1.612e-02 ...  1.621e-02  1.541e-02]\n"
     ]
    },
    {
     "data": {
      "application/vnd.jupyter.widget-view+json": {
       "model_id": "456fe152f0de4211a538798ad23f809e",
       "version_major": 2,
       "version_minor": 0
      },
      "text/plain": [
       "  0%|          | 0/10000 [00:00<?, ?it/s]"
      ]
     },
     "metadata": {},
     "output_type": "display_data"
    },
    {
     "name": "stdout",
     "output_type": "stream",
     "text": [
      "gld_params: [0.04376637 0.02398395 0.35424399 0.13971468]\n",
      "wrapper([ 3.041e-03  1.407e-02 ...  9.312e-01  9.079e-01]) = -0.02680269177327102\n",
      "assembly_constraint_no_mean([ 3.041e-03  1.407e-02 ...  9.312e-01  9.079e-01]) = [ 1.735e-03  4.506e-03 ... -2.048e-02 -6.765e-03]\n"
     ]
    },
    {
     "data": {
      "application/vnd.jupyter.widget-view+json": {
       "model_id": "1b37e9852d5444818eae2c26a0e63204",
       "version_major": 2,
       "version_minor": 0
      },
      "text/plain": [
       "  0%|          | 0/10000 [00:00<?, ?it/s]"
      ]
     },
     "metadata": {},
     "output_type": "display_data"
    },
    {
     "name": "stdout",
     "output_type": "stream",
     "text": [
      "gld_params: [0.04371564 0.0240058  0.35470135 0.13946936]\n",
      "wrapper([ 1.171e-20  1.461e-02 ...  9.288e-01  9.148e-01]) = -0.027018483865384163\n",
      "assembly_constraint_no_mean([ 1.171e-20  1.461e-02 ...  9.288e-01  9.148e-01]) = [ 1.515e-02  1.519e-02 ...  1.541e-02  1.520e-02]\n"
     ]
    },
    {
     "data": {
      "application/vnd.jupyter.widget-view+json": {
       "model_id": "f0808f2c850d49df8dc675de41a07468",
       "version_major": 2,
       "version_minor": 0
      },
      "text/plain": [
       "  0%|          | 0/10000 [00:00<?, ?it/s]"
      ]
     },
     "metadata": {},
     "output_type": "display_data"
    },
    {
     "name": "stdout",
     "output_type": "stream",
     "text": [
      "gld_params: [0.04370583 0.02401269 0.35506459 0.13932976]\n",
      "wrapper([ 5.052e-19  1.212e-02 ...  9.277e-01  9.162e-01]) = -0.027039592752710555\n",
      "assembly_constraint_no_mean([ 5.052e-19  1.212e-02 ...  9.277e-01  9.162e-01]) = [ 1.542e-02  1.578e-02 ...  1.572e-02  1.493e-02]\n"
     ]
    },
    {
     "data": {
      "application/vnd.jupyter.widget-view+json": {
       "model_id": "99dc39efdc39441ba75b1dcfd0a2a0cc",
       "version_major": 2,
       "version_minor": 0
      },
      "text/plain": [
       "  0%|          | 0/10000 [00:00<?, ?it/s]"
      ]
     },
     "metadata": {},
     "output_type": "display_data"
    },
    {
     "name": "stdout",
     "output_type": "stream",
     "text": [
      "gld_params: [0.04374322 0.02399316 0.35456798 0.13942559]\n",
      "wrapper([ 1.505e-36  1.552e-02 ...  9.279e-01  9.173e-01]) = -0.026911108910508477\n",
      "assembly_constraint_no_mean([ 1.505e-36  1.552e-02 ...  9.279e-01  9.173e-01]) = [-1.977e-03 -1.244e-02 ...  3.033e-02  2.344e-02]\n"
     ]
    },
    {
     "data": {
      "application/vnd.jupyter.widget-view+json": {
       "model_id": "5685c1ecce8a4a7a844101535c36661e",
       "version_major": 2,
       "version_minor": 0
      },
      "text/plain": [
       "  0%|          | 0/10000 [00:00<?, ?it/s]"
      ]
     },
     "metadata": {},
     "output_type": "display_data"
    },
    {
     "name": "stdout",
     "output_type": "stream",
     "text": [
      "gld_params: [0.04371327 0.02400937 0.35483554 0.13941662]\n",
      "wrapper([ 3.778e-20  1.313e-02 ...  9.280e-01  9.157e-01]) = -0.027028226037975115\n",
      "assembly_constraint_no_mean([ 3.778e-20  1.313e-02 ...  9.280e-01  9.157e-01]) = [ 1.506e-02  1.516e-02 ...  1.521e-02  1.500e-02]\n"
     ]
    },
    {
     "data": {
      "application/vnd.jupyter.widget-view+json": {
       "model_id": "d0981db38b524d05a7f701d9572b07fa",
       "version_major": 2,
       "version_minor": 0
      },
      "text/plain": [
       "  0%|          | 0/10000 [00:00<?, ?it/s]"
      ]
     },
     "metadata": {},
     "output_type": "display_data"
    },
    {
     "name": "stdout",
     "output_type": "stream",
     "text": [
      "gld_params: [0.04370811 0.02401397 0.35509017 0.13929536]\n",
      "wrapper([ 1.964e-19  1.058e-02 ...  9.278e-01  9.161e-01]) = -0.027041808757651966\n",
      "assembly_constraint_no_mean([ 1.964e-19  1.058e-02 ...  9.278e-01  9.161e-01]) = [ 1.515e-02  1.541e-02 ...  1.545e-02  1.504e-02]\n"
     ]
    },
    {
     "data": {
      "application/vnd.jupyter.widget-view+json": {
       "model_id": "33f39a338c9e4d37a70c717fef370d98",
       "version_major": 2,
       "version_minor": 0
      },
      "text/plain": [
       "  0%|          | 0/10000 [00:00<?, ?it/s]"
      ]
     },
     "metadata": {},
     "output_type": "display_data"
    },
    {
     "name": "stdout",
     "output_type": "stream",
     "text": [
      "gld_params: [0.04370859 0.02401091 0.35480449 0.13947155]\n",
      "wrapper([ 4.080e-04  1.320e-02 ...  9.263e-01  9.165e-01]) = -0.027044015220417387\n",
      "assembly_constraint_no_mean([ 4.080e-04  1.320e-02 ...  9.263e-01  9.165e-01]) = [ 2.412e-02  2.047e-02 ...  2.447e-02  1.014e-02]\n"
     ]
    },
    {
     "data": {
      "application/vnd.jupyter.widget-view+json": {
       "model_id": "d27256820d514a8f849f5af728acc728",
       "version_major": 2,
       "version_minor": 0
      },
      "text/plain": [
       "  0%|          | 0/10000 [00:00<?, ?it/s]"
      ]
     },
     "metadata": {},
     "output_type": "display_data"
    },
    {
     "name": "stdout",
     "output_type": "stream",
     "text": [
      "gld_params: [0.04371194 0.02401138 0.35494048 0.139363  ]\n",
      "wrapper([ 0.000e+00  1.206e-02 ...  9.284e-01  9.154e-01]) = -0.027032936128963125\n",
      "assembly_constraint_no_mean([ 0.000e+00  1.206e-02 ...  9.284e-01  9.154e-01]) = [ 1.503e-02  1.504e-02 ...  1.508e-02  1.499e-02]\n"
     ]
    },
    {
     "data": {
      "application/vnd.jupyter.widget-view+json": {
       "model_id": "212b959a6c3544b0a6d201fa7ec1078d",
       "version_major": 2,
       "version_minor": 0
      },
      "text/plain": [
       "  0%|          | 0/10000 [00:00<?, ?it/s]"
      ]
     },
     "metadata": {},
     "output_type": "display_data"
    },
    {
     "name": "stdout",
     "output_type": "stream",
     "text": [
      "gld_params: [0.04371035 0.0240145  0.35507459 0.13930226]\n",
      "wrapper([ 3.653e-19  1.055e-02 ...  9.290e-01  9.149e-01]) = -0.027039824695582183\n",
      "assembly_constraint_no_mean([ 3.653e-19  1.055e-02 ...  9.290e-01  9.149e-01]) = [ 1.505e-02  1.512e-02 ...  1.515e-02  1.502e-02]\n"
     ]
    },
    {
     "data": {
      "application/vnd.jupyter.widget-view+json": {
       "model_id": "e5fb9dc0d0014b35af928f3075686f58",
       "version_major": 2,
       "version_minor": 0
      },
      "text/plain": [
       "  0%|          | 0/10000 [00:00<?, ?it/s]"
      ]
     },
     "metadata": {},
     "output_type": "display_data"
    },
    {
     "name": "stdout",
     "output_type": "stream",
     "text": [
      "gld_params: [0.04371855 0.02401062 0.35491468 0.13940927]\n",
      "wrapper([ 0.000e+00  9.560e-03 ...  9.274e-01  9.136e-01]) = -0.027006019776940213\n",
      "assembly_constraint_no_mean([ 0.000e+00  9.560e-03 ...  9.274e-01  9.136e-01]) = [-1.327e-02  1.672e-02 ...  2.814e-02  3.541e-04]\n"
     ]
    },
    {
     "data": {
      "application/vnd.jupyter.widget-view+json": {
       "model_id": "8d8cda78453f43b086fe595ed9dcb9a5",
       "version_major": 2,
       "version_minor": 0
      },
      "text/plain": [
       "  0%|          | 0/10000 [00:00<?, ?it/s]"
      ]
     },
     "metadata": {},
     "output_type": "display_data"
    },
    {
     "name": "stdout",
     "output_type": "stream",
     "text": [
      "gld_params: [0.0437109  0.02401321 0.3550298  0.13931507]\n",
      "wrapper([ 1.087e-19  1.072e-02 ...  9.284e-01  9.155e-01]) = -0.027037735559906982\n",
      "assembly_constraint_no_mean([ 1.087e-19  1.072e-02 ...  9.284e-01  9.155e-01]) = [ 1.500e-02  1.505e-02 ...  1.507e-02  1.501e-02]\n"
     ]
    },
    {
     "data": {
      "application/vnd.jupyter.widget-view+json": {
       "model_id": "1c01ba27e04b4c41aab8a409ea1a4eb1",
       "version_major": 2,
       "version_minor": 0
      },
      "text/plain": [
       "  0%|          | 0/10000 [00:00<?, ?it/s]"
      ]
     },
     "metadata": {},
     "output_type": "display_data"
    },
    {
     "name": "stdout",
     "output_type": "stream",
     "text": [
      "gld_params: [0.04370881 0.02401523 0.35516339 0.13923726]\n",
      "wrapper([ 9.652e-21  9.346e-03 ...  9.288e-01  9.151e-01]) = -0.02704402818383003\n",
      "assembly_constraint_no_mean([ 9.652e-21  9.346e-03 ...  9.288e-01  9.151e-01]) = [ 1.516e-02  1.514e-02 ...  1.509e-02  1.502e-02]\n"
     ]
    },
    {
     "data": {
      "application/vnd.jupyter.widget-view+json": {
       "model_id": "0d7166325b724e26a66c09c4499bc7bf",
       "version_major": 2,
       "version_minor": 0
      },
      "text/plain": [
       "  0%|          | 0/10000 [00:00<?, ?it/s]"
      ]
     },
     "metadata": {},
     "output_type": "display_data"
    },
    {
     "name": "stdout",
     "output_type": "stream",
     "text": [
      "gld_params: [0.0436942  0.0240208  0.3549677  0.13930317]\n",
      "wrapper([ 6.792e-05  1.104e-02 ...  9.302e-01  9.164e-01]) = -0.027138076909015728\n",
      "assembly_constraint_no_mean([ 6.792e-05  1.104e-02 ...  9.302e-01  9.164e-01]) = [ 3.044e-02  8.715e-03 ...  1.562e-02  3.003e-02]\n"
     ]
    },
    {
     "data": {
      "application/vnd.jupyter.widget-view+json": {
       "model_id": "e3b10028d55b43aaab6cbdd461648497",
       "version_major": 2,
       "version_minor": 0
      },
      "text/plain": [
       "  0%|          | 0/10000 [00:00<?, ?it/s]"
      ]
     },
     "metadata": {},
     "output_type": "display_data"
    },
    {
     "name": "stdout",
     "output_type": "stream",
     "text": [
      "gld_params: [0.04370907 0.02401484 0.35513806 0.13925819]\n",
      "wrapper([ 2.959e-21  9.760e-03 ...  9.285e-01  9.154e-01]) = -0.0270419223906517\n",
      "assembly_constraint_no_mean([ 2.959e-21  9.760e-03 ...  9.285e-01  9.154e-01]) = [ 1.503e-02  1.507e-02 ...  1.505e-02  1.499e-02]\n"
     ]
    },
    {
     "data": {
      "application/vnd.jupyter.widget-view+json": {
       "model_id": "1d0000bbdcfb4f738bdff353942804c8",
       "version_major": 2,
       "version_minor": 0
      },
      "text/plain": [
       "  0%|          | 0/10000 [00:00<?, ?it/s]"
      ]
     },
     "metadata": {},
     "output_type": "display_data"
    },
    {
     "name": "stdout",
     "output_type": "stream",
     "text": [
      "gld_params: [0.04370734 0.02401666 0.35525771 0.13918874]\n",
      "wrapper([ 2.691e-19  8.204e-03 ...  9.292e-01  9.147e-01]) = -0.02704715769991081\n",
      "assembly_constraint_no_mean([ 2.691e-19  8.204e-03 ...  9.292e-01  9.147e-01]) = [ 1.508e-02  1.515e-02 ...  1.510e-02  1.503e-02]\n"
     ]
    },
    {
     "data": {
      "application/vnd.jupyter.widget-view+json": {
       "model_id": "4f00934f74e44a9d812f80f34f1959ce",
       "version_major": 2,
       "version_minor": 0
      },
      "text/plain": [
       "  0%|          | 0/10000 [00:00<?, ?it/s]"
      ]
     },
     "metadata": {},
     "output_type": "display_data"
    },
    {
     "name": "stdout",
     "output_type": "stream",
     "text": [
      "gld_params: [0.04370914 0.02401667 0.35507897 0.13932787]\n",
      "wrapper([ 2.976e-03  9.297e-03 ...  9.264e-01  9.153e-01]) = -0.027048249098583072\n",
      "assembly_constraint_no_mean([ 2.976e-03  9.297e-03 ...  9.264e-01  9.153e-01]) = [ 2.688e-02  1.017e-02 ...  7.340e-03  2.700e-03]\n"
     ]
    },
    {
     "data": {
      "application/vnd.jupyter.widget-view+json": {
       "model_id": "4e624009577347578575c6effc0e3b4c",
       "version_major": 2,
       "version_minor": 0
      },
      "text/plain": [
       "  0%|          | 0/10000 [00:00<?, ?it/s]"
      ]
     },
     "metadata": {},
     "output_type": "display_data"
    },
    {
     "name": "stdout",
     "output_type": "stream",
     "text": [
      "gld_params: [0.04370928 0.02401625 0.3552081  0.13920627]\n",
      "wrapper([ 6.698e-21  8.755e-03 ...  9.280e-01  9.159e-01]) = -0.027045595187712473\n",
      "assembly_constraint_no_mean([ 6.698e-21  8.755e-03 ...  9.280e-01  9.159e-01]) = [ 1.512e-02  1.511e-02 ...  1.509e-02  1.503e-02]\n"
     ]
    },
    {
     "data": {
      "application/vnd.jupyter.widget-view+json": {
       "model_id": "ffd3a7f2f3a2478082526d4d01aa68cb",
       "version_major": 2,
       "version_minor": 0
      },
      "text/plain": [
       "  0%|          | 0/10000 [00:00<?, ?it/s]"
      ]
     },
     "metadata": {},
     "output_type": "display_data"
    },
    {
     "name": "stdout",
     "output_type": "stream",
     "text": [
      "gld_params: [0.04371371 0.02401608 0.35511155 0.13932884]\n",
      "wrapper([ 3.762e-37  1.115e-02 ...  9.292e-01  9.154e-01]) = -0.027025896785793622\n",
      "assembly_constraint_no_mean([ 3.762e-37  1.115e-02 ...  9.292e-01  9.154e-01]) = [ 1.395e-02  1.441e-02 ...  9.693e-03  1.805e-02]\n"
     ]
    },
    {
     "data": {
      "application/vnd.jupyter.widget-view+json": {
       "model_id": "98eefa02d1544e8f82a24d257400731b",
       "version_major": 2,
       "version_minor": 0
      },
      "text/plain": [
       "  0%|          | 0/10000 [00:00<?, ?it/s]"
      ]
     },
     "metadata": {},
     "output_type": "display_data"
    },
    {
     "name": "stdout",
     "output_type": "stream",
     "text": [
      "gld_params: [0.04370771 0.02401698 0.35522336 0.13923065]\n",
      "wrapper([ 8.851e-25  9.366e-03 ...  9.289e-01  9.151e-01]) = -0.027045805175544033\n",
      "assembly_constraint_no_mean([ 8.851e-25  9.366e-03 ...  9.289e-01  9.151e-01]) = [ 1.505e-02  1.510e-02 ...  1.504e-02  1.502e-02]\n"
     ]
    },
    {
     "data": {
      "application/vnd.jupyter.widget-view+json": {
       "model_id": "4e28e448c9ba404eb3ccf09fd8c04bfb",
       "version_major": 2,
       "version_minor": 0
      },
      "text/plain": [
       "  0%|          | 0/10000 [00:00<?, ?it/s]"
      ]
     },
     "metadata": {},
     "output_type": "display_data"
    },
    {
     "name": "stdout",
     "output_type": "stream",
     "text": [
      "gld_params: [0.0436966  0.02401958 0.35522537 0.13926432]\n",
      "wrapper([ 0.000e+00  7.287e-03 ...  9.297e-01  9.158e-01]) = -0.027083056638920633\n",
      "assembly_constraint_no_mean([ 0.000e+00  7.287e-03 ...  9.297e-01  9.158e-01]) = [ 1.435e-02  1.597e-02 ...  1.605e-02  2.425e-02]\n"
     ]
    },
    {
     "data": {
      "application/vnd.jupyter.widget-view+json": {
       "model_id": "943cd9f58e614096af5198d435e9f08e",
       "version_major": 2,
       "version_minor": 0
      },
      "text/plain": [
       "  0%|          | 0/10000 [00:00<?, ?it/s]"
      ]
     },
     "metadata": {},
     "output_type": "display_data"
    },
    {
     "name": "stdout",
     "output_type": "stream",
     "text": [
      "gld_params: [0.04370837 0.02401725 0.3552078  0.13924328]\n",
      "wrapper([ 9.699e-20  9.625e-03 ...  9.296e-01  9.144e-01]) = -0.02704575297574744\n",
      "assembly_constraint_no_mean([ 9.699e-20  9.625e-03 ...  9.296e-01  9.144e-01]) = [ 1.503e-02  1.508e-02 ...  1.502e-02  1.501e-02]\n"
     ]
    },
    {
     "data": {
      "application/vnd.jupyter.widget-view+json": {
       "model_id": "699c1b34f34b40e588ca83fd6aaf2804",
       "version_major": 2,
       "version_minor": 0
      },
      "text/plain": [
       "  0%|          | 0/10000 [00:00<?, ?it/s]"
      ]
     },
     "metadata": {},
     "output_type": "display_data"
    },
    {
     "name": "stdout",
     "output_type": "stream",
     "text": [
      "gld_params: [0.04372499 0.02400974 0.3551267  0.13929568]\n",
      "wrapper([ 1.387e-03  1.044e-02 ...  9.297e-01  9.149e-01]) = -0.02696564475693459\n",
      "assembly_constraint_no_mean([ 1.387e-03  1.044e-02 ...  9.297e-01  9.149e-01]) = [ 1.463e-04  8.604e-03 ...  1.211e-02  1.903e-02]\n"
     ]
    },
    {
     "data": {
      "application/vnd.jupyter.widget-view+json": {
       "model_id": "960b25e3b5dc4b04b2a1314e2dcdb2ab",
       "version_major": 2,
       "version_minor": 0
      },
      "text/plain": [
       "  0%|          | 0/10000 [00:00<?, ?it/s]"
      ]
     },
     "metadata": {},
     "output_type": "display_data"
    },
    {
     "name": "stdout",
     "output_type": "stream",
     "text": [
      "gld_params: [0.04370838 0.02401712 0.35520733 0.13923992]\n",
      "wrapper([ 1.431e-20  9.764e-03 ...  9.296e-01  9.143e-01]) = -0.027045855286496383\n",
      "assembly_constraint_no_mean([ 1.431e-20  9.764e-03 ...  9.296e-01  9.143e-01]) = [ 1.504e-02  1.506e-02 ...  1.502e-02  1.503e-02]\n"
     ]
    },
    {
     "data": {
      "application/vnd.jupyter.widget-view+json": {
       "model_id": "70a1ea9b2b5f4688b1838032c9f4c70c",
       "version_major": 2,
       "version_minor": 0
      },
      "text/plain": [
       "  0%|          | 0/10000 [00:00<?, ?it/s]"
      ]
     },
     "metadata": {},
     "output_type": "display_data"
    },
    {
     "name": "stdout",
     "output_type": "stream",
     "text": [
      "gld_params: [0.04370668 0.02401943 0.35531387 0.1391981 ]\n",
      "wrapper([ 8.596e-20  9.740e-03 ...  9.307e-01  9.132e-01]) = -0.027050379720926908\n",
      "assembly_constraint_no_mean([ 8.596e-20  9.740e-03 ...  9.307e-01  9.132e-01]) = [ 1.512e-02  1.512e-02 ...  1.503e-02  1.505e-02]\n"
     ]
    },
    {
     "data": {
      "application/vnd.jupyter.widget-view+json": {
       "model_id": "a3c04d06a2304419807f2c141ebabc76",
       "version_major": 2,
       "version_minor": 0
      },
      "text/plain": [
       "  0%|          | 0/10000 [00:00<?, ?it/s]"
      ]
     },
     "metadata": {},
     "output_type": "display_data"
    },
    {
     "name": "stdout",
     "output_type": "stream",
     "text": [
      "gld_params: [0.04371759 0.02401878 0.35524086 0.13938859]\n",
      "wrapper([ 1.376e-03  1.033e-02 ...  9.283e-01  9.127e-01]) = -0.02699159872542955\n",
      "assembly_constraint_no_mean([ 1.376e-03  1.033e-02 ...  9.283e-01  9.127e-01]) = [ 9.521e-03  1.261e-02 ...  2.358e-02 -9.374e-04]\n"
     ]
    },
    {
     "data": {
      "application/vnd.jupyter.widget-view+json": {
       "model_id": "7bcc7d2910324d92911b3db8c0e73140",
       "version_major": 2,
       "version_minor": 0
      },
      "text/plain": [
       "  0%|          | 0/10000 [00:00<?, ?it/s]"
      ]
     },
     "metadata": {},
     "output_type": "display_data"
    },
    {
     "name": "stdout",
     "output_type": "stream",
     "text": [
      "gld_params: [0.04370712 0.02401837 0.35528973 0.13919566]\n",
      "wrapper([ 1.297e-19  9.263e-03 ...  9.302e-01  9.137e-01]) = -0.027048916363135105\n",
      "assembly_constraint_no_mean([ 1.297e-19  9.263e-03 ...  9.302e-01  9.137e-01]) = [ 1.506e-02  1.506e-02 ...  1.503e-02  1.502e-02]\n"
     ]
    },
    {
     "data": {
      "application/vnd.jupyter.widget-view+json": {
       "model_id": "2bdf9d850883407ca8060b1d502969c9",
       "version_major": 2,
       "version_minor": 0
      },
      "text/plain": [
       "  0%|          | 0/10000 [00:00<?, ?it/s]"
      ]
     },
     "metadata": {},
     "output_type": "display_data"
    },
    {
     "name": "stdout",
     "output_type": "stream",
     "text": [
      "gld_params: [0.04370196 0.02401684 0.35526365 0.13913937]\n",
      "wrapper([ 0.000e+00  1.121e-02 ...  9.291e-01  9.138e-01]) = -0.027072099147993463\n",
      "assembly_constraint_no_mean([ 0.000e+00  1.121e-02 ...  9.291e-01  9.138e-01]) = [-1.749e-03  3.664e-02 ...  3.027e-03  9.673e-03]\n"
     ]
    },
    {
     "data": {
      "application/vnd.jupyter.widget-view+json": {
       "model_id": "1c80fc6283e447c08dbe2928212fec22",
       "version_major": 2,
       "version_minor": 0
      },
      "text/plain": [
       "  0%|          | 0/10000 [00:00<?, ?it/s]"
      ]
     },
     "metadata": {},
     "output_type": "display_data"
    },
    {
     "name": "stdout",
     "output_type": "stream",
     "text": [
      "gld_params: [0.04370732 0.02401929 0.35526922 0.13923529]\n",
      "wrapper([ 9.313e-21  9.865e-03 ...  9.306e-01  9.134e-01]) = -0.0270488947115752\n",
      "assembly_constraint_no_mean([ 9.313e-21  9.865e-03 ...  9.306e-01  9.134e-01]) = [ 1.505e-02  1.506e-02 ...  1.502e-02  1.502e-02]\n"
     ]
    },
    {
     "data": {
      "application/vnd.jupyter.widget-view+json": {
       "model_id": "547366e18b244d46a11e19f98488302e",
       "version_major": 2,
       "version_minor": 0
      },
      "text/plain": [
       "  0%|          | 0/10000 [00:00<?, ?it/s]"
      ]
     },
     "metadata": {},
     "output_type": "display_data"
    },
    {
     "name": "stdout",
     "output_type": "stream",
     "text": [
      "gld_params: [0.0437117  0.02401624 0.35517474 0.13924369]\n",
      "wrapper([ 1.040e-03  1.022e-02 ...  9.299e-01  9.143e-01]) = -0.027037537577215803\n",
      "assembly_constraint_no_mean([ 1.040e-03  1.022e-02 ...  9.299e-01  9.143e-01]) = [ 1.899e-02  2.585e-03 ...  9.253e-03  1.654e-02]\n"
     ]
    },
    {
     "data": {
      "application/vnd.jupyter.widget-view+json": {
       "model_id": "d101ccfb1fe34d08ae71fd765d99e3c1",
       "version_major": 2,
       "version_minor": 0
      },
      "text/plain": [
       "  0%|          | 0/10000 [00:00<?, ?it/s]"
      ]
     },
     "metadata": {},
     "output_type": "display_data"
    },
    {
     "name": "stdout",
     "output_type": "stream",
     "text": [
      "gld_params: [0.0437067  0.0240193  0.35529123 0.13922285]\n",
      "wrapper([ 2.267e-20  9.080e-03 ...  9.304e-01  9.136e-01]) = -0.02704899217675944\n",
      "assembly_constraint_no_mean([ 2.267e-20  9.080e-03 ...  9.304e-01  9.136e-01]) = [ 1.507e-02  1.506e-02 ...  1.502e-02  1.502e-02]\n"
     ]
    },
    {
     "data": {
      "application/vnd.jupyter.widget-view+json": {
       "model_id": "2bec585e046d4a958610d4be92d4feff",
       "version_major": 2,
       "version_minor": 0
      },
      "text/plain": [
       "  0%|          | 0/10000 [00:00<?, ?it/s]"
      ]
     },
     "metadata": {},
     "output_type": "display_data"
    },
    {
     "name": "stdout",
     "output_type": "stream",
     "text": [
      "gld_params: [0.0437049  0.02401993 0.35516964 0.13929085]\n",
      "wrapper([ 0.000e+00  1.043e-02 ...  9.288e-01  9.144e-01]) = -0.027066891215587367\n",
      "assembly_constraint_no_mean([ 0.000e+00  1.043e-02 ...  9.288e-01  9.144e-01]) = [ 6.556e-03  1.261e-02 ...  3.287e-02  1.098e-02]\n"
     ]
    },
    {
     "data": {
      "application/vnd.jupyter.widget-view+json": {
       "model_id": "d2169f913f9e4010a3447f5b9e663655",
       "version_major": 2,
       "version_minor": 0
      },
      "text/plain": [
       "  0%|          | 0/10000 [00:00<?, ?it/s]"
      ]
     },
     "metadata": {},
     "output_type": "display_data"
    },
    {
     "name": "stdout",
     "output_type": "stream",
     "text": [
      "gld_params: [0.04370627 0.02401935 0.35531077 0.13921116]\n",
      "wrapper([ 4.247e-20  9.458e-03 ...  9.305e-01  9.134e-01]) = -0.027049050490582687\n",
      "assembly_constraint_no_mean([ 4.247e-20  9.458e-03 ...  9.305e-01  9.134e-01]) = [ 1.505e-02  1.505e-02 ...  1.504e-02  1.502e-02]\n"
     ]
    },
    {
     "data": {
      "application/vnd.jupyter.widget-view+json": {
       "model_id": "7aaf78b12acd43aeb78a55ff6d9ae4c3",
       "version_major": 2,
       "version_minor": 0
      },
      "text/plain": [
       "  0%|          | 0/10000 [00:00<?, ?it/s]"
      ]
     },
     "metadata": {},
     "output_type": "display_data"
    },
    {
     "name": "stdout",
     "output_type": "stream",
     "text": [
      "gld_params: [0.04370269 0.02402157 0.35546632 0.13914982]\n",
      "wrapper([ 1.757e-20  8.944e-03 ...  9.317e-01  9.122e-01]) = -0.02705292453197842\n",
      "assembly_constraint_no_mean([ 1.757e-20  8.944e-03 ...  9.317e-01  9.122e-01]) = [ 1.508e-02  1.513e-02 ...  1.506e-02  1.503e-02]\n"
     ]
    },
    {
     "data": {
      "application/vnd.jupyter.widget-view+json": {
       "model_id": "eece3bdd00394badbcbfacd99b035941",
       "version_major": 2,
       "version_minor": 0
      },
      "text/plain": [
       "  0%|          | 0/10000 [00:00<?, ?it/s]"
      ]
     },
     "metadata": {},
     "output_type": "display_data"
    },
    {
     "name": "stdout",
     "output_type": "stream",
     "text": [
      "gld_params: [0.04369686 0.02402052 0.35535267 0.13917703]\n",
      "wrapper([ 2.870e-04  1.050e-02 ...  9.297e-01  9.119e-01]) = -0.02708035082083686\n",
      "assembly_constraint_no_mean([ 2.870e-04  1.050e-02 ...  9.297e-01  9.119e-01]) = [ 2.885e-02  2.586e-02 ...  3.073e-02  2.423e-03]\n"
     ]
    },
    {
     "data": {
      "application/vnd.jupyter.widget-view+json": {
       "model_id": "4e7d7349f81a4e458eb11e222a47a2a1",
       "version_major": 2,
       "version_minor": 0
      },
      "text/plain": [
       "  0%|          | 0/10000 [00:00<?, ?it/s]"
      ]
     },
     "metadata": {},
     "output_type": "display_data"
    },
    {
     "name": "stdout",
     "output_type": "stream",
     "text": [
      "gld_params: [0.04370354 0.02402077 0.35542563 0.13916286]\n",
      "wrapper([ 1.947e-20  9.105e-03 ...  9.314e-01  9.126e-01]) = -0.02705163602496253\n",
      "assembly_constraint_no_mean([ 1.947e-20  9.105e-03 ...  9.314e-01  9.126e-01]) = [ 1.504e-02  1.506e-02 ...  1.504e-02  1.502e-02]\n"
     ]
    },
    {
     "data": {
      "application/vnd.jupyter.widget-view+json": {
       "model_id": "158f9ac25dea499f8112741b00aaf95a",
       "version_major": 2,
       "version_minor": 0
      },
      "text/plain": [
       "  0%|          | 0/10000 [00:00<?, ?it/s]"
      ]
     },
     "metadata": {},
     "output_type": "display_data"
    },
    {
     "name": "stdout",
     "output_type": "stream",
     "text": [
      "gld_params: [0.04370174 0.02402301 0.3553133  0.13920032]\n",
      "wrapper([ 5.670e-04  8.459e-03 ...  9.306e-01  9.115e-01]) = -0.02708225147940885\n",
      "assembly_constraint_no_mean([ 5.670e-04  8.459e-03 ...  9.306e-01  9.115e-01]) = [ 2.495e-02  6.819e-03 ...  1.207e-02  5.619e-03]\n"
     ]
    },
    {
     "data": {
      "application/vnd.jupyter.widget-view+json": {
       "model_id": "cc7f843e6c4a4ff3a80c54b77a8e8e43",
       "version_major": 2,
       "version_minor": 0
      },
      "text/plain": [
       "  0%|          | 0/10000 [00:00<?, ?it/s]"
      ]
     },
     "metadata": {},
     "output_type": "display_data"
    },
    {
     "name": "stdout",
     "output_type": "stream",
     "text": [
      "gld_params: [0.04370429 0.02402141 0.35540812 0.1391845 ]\n",
      "wrapper([ 1.906e-20  8.960e-03 ...  9.314e-01  9.125e-01]) = -0.027051766208344027\n",
      "assembly_constraint_no_mean([ 1.906e-20  8.960e-03 ...  9.314e-01  9.125e-01]) = [ 1.503e-02  1.506e-02 ...  1.504e-02  1.502e-02]\n"
     ]
    },
    {
     "data": {
      "application/vnd.jupyter.widget-view+json": {
       "model_id": "732a49b10cc54e7397fd2a2e37d3fded",
       "version_major": 2,
       "version_minor": 0
      },
      "text/plain": [
       "  0%|          | 0/10000 [00:00<?, ?it/s]"
      ]
     },
     "metadata": {},
     "output_type": "display_data"
    },
    {
     "name": "stdout",
     "output_type": "stream",
     "text": [
      "gld_params: [0.04370105 0.02402506 0.35552219 0.1392012 ]\n",
      "wrapper([ 1.018e-19  8.036e-03 ...  9.326e-01  9.112e-01]) = -0.027054046068244835\n",
      "assembly_constraint_no_mean([ 1.018e-19  8.036e-03 ...  9.326e-01  9.112e-01]) = [ 1.504e-02  1.510e-02 ...  1.507e-02  1.502e-02]\n"
     ]
    },
    {
     "data": {
      "application/vnd.jupyter.widget-view+json": {
       "model_id": "fe489ad9455e4b658227acf0dadc9f18",
       "version_major": 2,
       "version_minor": 0
      },
      "text/plain": [
       "  0%|          | 0/10000 [00:00<?, ?it/s]"
      ]
     },
     "metadata": {},
     "output_type": "display_data"
    },
    {
     "name": "stdout",
     "output_type": "stream",
     "text": [
      "gld_params: [0.0436968  0.02402311 0.35552071 0.13916204]\n",
      "wrapper([ 4.467e-04  1.049e-02 ...  9.310e-01  9.140e-01]) = -0.027064305877194657\n",
      "assembly_constraint_no_mean([ 4.467e-04  1.049e-02 ...  9.310e-01  9.140e-01]) = [ 3.854e-02  5.220e-03 ...  6.488e-03  2.074e-02]\n"
     ]
    },
    {
     "data": {
      "application/vnd.jupyter.widget-view+json": {
       "model_id": "55d5524ca3f14e2c837390e24545845f",
       "version_major": 2,
       "version_minor": 0
      },
      "text/plain": [
       "  0%|          | 0/10000 [00:00<?, ?it/s]"
      ]
     },
     "metadata": {},
     "output_type": "display_data"
    },
    {
     "name": "stdout",
     "output_type": "stream",
     "text": [
      "gld_params: [0.04370468 0.02402419 0.35549716 0.13915503]\n",
      "wrapper([ 0.000e+00  7.125e-03 ...  9.324e-01  9.115e-01]) = -0.027053689712873506\n",
      "assembly_constraint_no_mean([ 0.000e+00  7.125e-03 ...  9.324e-01  9.115e-01]) = [ 1.507e-02  1.510e-02 ...  1.502e-02  1.504e-02]\n"
     ]
    },
    {
     "data": {
      "application/vnd.jupyter.widget-view+json": {
       "model_id": "c9da6fda8a184082b1f9761227ee255f",
       "version_major": 2,
       "version_minor": 0
      },
      "text/plain": [
       "  0%|          | 0/10000 [00:00<?, ?it/s]"
      ]
     },
     "metadata": {},
     "output_type": "display_data"
    },
    {
     "name": "stdout",
     "output_type": "stream",
     "text": [
      "gld_params: [0.04370135 0.02402401 0.35536378 0.13924803]\n",
      "wrapper([ 3.620e-03  7.492e-03 ...  9.328e-01  9.135e-01]) = -0.027068917438455083\n",
      "assembly_constraint_no_mean([ 3.620e-03  7.492e-03 ...  9.328e-01  9.135e-01]) = [ 1.131e-02  2.489e-02 ...  1.447e-02  2.817e-02]\n"
     ]
    },
    {
     "data": {
      "application/vnd.jupyter.widget-view+json": {
       "model_id": "439cb54ebcff457baecca633b5dd1b7b",
       "version_major": 2,
       "version_minor": 0
      },
      "text/plain": [
       "  0%|          | 0/10000 [00:00<?, ?it/s]"
      ]
     },
     "metadata": {},
     "output_type": "display_data"
    },
    {
     "name": "stdout",
     "output_type": "stream",
     "text": [
      "gld_params: [0.0437041  0.02402256 0.35548261 0.13913651]\n",
      "wrapper([ 6.887e-20  9.634e-03 ...  9.320e-01  9.119e-01]) = -0.02705357765313222\n",
      "assembly_constraint_no_mean([ 6.887e-20  9.634e-03 ...  9.320e-01  9.119e-01]) = [ 1.502e-02  1.507e-02 ...  1.506e-02  1.503e-02]\n"
     ]
    },
    {
     "data": {
      "application/vnd.jupyter.widget-view+json": {
       "model_id": "ca991a6ff1d24f3682588ce95117d60b",
       "version_major": 2,
       "version_minor": 0
      },
      "text/plain": [
       "  0%|          | 0/10000 [00:00<?, ?it/s]"
      ]
     },
     "metadata": {},
     "output_type": "display_data"
    },
    {
     "name": "stdout",
     "output_type": "stream",
     "text": [
      "gld_params: [0.04368533 0.02403002 0.3554884  0.13920487]\n",
      "wrapper([ 0.000e+00  8.239e-03 ...  9.341e-01  9.134e-01]) = -0.027129481834787667\n",
      "assembly_constraint_no_mean([ 0.000e+00  8.239e-03 ...  9.341e-01  9.134e-01]) = [ 3.630e-03  1.476e-02 ...  3.987e-02  3.477e-02]\n"
     ]
    },
    {
     "data": {
      "application/vnd.jupyter.widget-view+json": {
       "model_id": "614d59b9ba3b4266b357d16e6d74986f",
       "version_major": 2,
       "version_minor": 0
      },
      "text/plain": [
       "  0%|          | 0/10000 [00:00<?, ?it/s]"
      ]
     },
     "metadata": {},
     "output_type": "display_data"
    },
    {
     "name": "stdout",
     "output_type": "stream",
     "text": [
      "gld_params: [0.04370399 0.02402367 0.3554902  0.13916013]\n",
      "wrapper([ 6.953e-20  7.888e-03 ...  9.324e-01  9.115e-01]) = -0.027053259464523728\n",
      "assembly_constraint_no_mean([ 6.953e-20  7.888e-03 ...  9.324e-01  9.115e-01]) = [ 1.500e-02  1.502e-02 ...  1.500e-02  1.500e-02]\n"
     ]
    },
    {
     "data": {
      "application/vnd.jupyter.widget-view+json": {
       "model_id": "038eea7086f74ce884ecff88a44f42e2",
       "version_major": 2,
       "version_minor": 0
      },
      "text/plain": [
       "  0%|          | 0/10000 [00:00<?, ?it/s]"
      ]
     },
     "metadata": {},
     "output_type": "display_data"
    },
    {
     "name": "stdout",
     "output_type": "stream",
     "text": [
      "gld_params: [0.04370069 0.02402459 0.35564414 0.13907179]\n",
      "wrapper([ 3.748e-20  7.795e-03 ...  9.327e-01  9.112e-01]) = -0.02705552530508937\n",
      "assembly_constraint_no_mean([ 3.748e-20  7.795e-03 ...  9.327e-01  9.112e-01]) = [ 1.500e-02  1.505e-02 ...  1.507e-02  1.500e-02]\n"
     ]
    },
    {
     "data": {
      "application/vnd.jupyter.widget-view+json": {
       "model_id": "64a42a0b11ea4a99a2c325184aeb133a",
       "version_major": 2,
       "version_minor": 0
      },
      "text/plain": [
       "  0%|          | 0/10000 [00:00<?, ?it/s]"
      ]
     },
     "metadata": {},
     "output_type": "display_data"
    },
    {
     "name": "stdout",
     "output_type": "stream",
     "text": [
      "gld_params: [0.04370993 0.02401749 0.35544364 0.1390626 ]\n",
      "wrapper([ 0.000e+00  8.555e-03 ...  9.335e-01  9.120e-01]) = -0.027033898603517435\n",
      "assembly_constraint_no_mean([ 0.000e+00  8.555e-03 ...  9.335e-01  9.120e-01]) = [ 1.204e-02  8.721e-03 ...  1.533e-03  2.400e-02]\n"
     ]
    },
    {
     "data": {
      "application/vnd.jupyter.widget-view+json": {
       "model_id": "a379cf0bd5de4af699497cda90a8a694",
       "version_major": 2,
       "version_minor": 0
      },
      "text/plain": [
       "  0%|          | 0/10000 [00:00<?, ?it/s]"
      ]
     },
     "metadata": {},
     "output_type": "display_data"
    },
    {
     "name": "stdout",
     "output_type": "stream",
     "text": [
      "gld_params: [0.04370196 0.02402431 0.35559451 0.13909683]\n",
      "wrapper([ 1.292e-19  8.277e-03 ...  9.330e-01  9.109e-01]) = -0.027055039820671752\n",
      "assembly_constraint_no_mean([ 1.292e-19  8.277e-03 ...  9.330e-01  9.109e-01]) = [ 1.508e-02  1.504e-02 ...  1.506e-02  1.504e-02]\n"
     ]
    },
    {
     "data": {
      "application/vnd.jupyter.widget-view+json": {
       "model_id": "462abf98965a4e72888704ace9528267",
       "version_major": 2,
       "version_minor": 0
      },
      "text/plain": [
       "  0%|          | 0/10000 [00:00<?, ?it/s]"
      ]
     },
     "metadata": {},
     "output_type": "display_data"
    },
    {
     "name": "stdout",
     "output_type": "stream",
     "text": [
      "gld_params: [0.04368669 0.02403467 0.35546449 0.1392678 ]\n",
      "wrapper([ 8.415e-04  8.169e-03 ...  9.323e-01  9.122e-01]) = -0.027141222820846737\n",
      "assembly_constraint_no_mean([ 8.415e-04  8.169e-03 ...  9.323e-01  9.122e-01]) = [ 1.109e-02  3.637e-03 ...  2.037e-02  1.857e-02]\n"
     ]
    },
    {
     "data": {
      "application/vnd.jupyter.widget-view+json": {
       "model_id": "2f49b9aafc2c49f09bc783a2ed9a7500",
       "version_major": 2,
       "version_minor": 0
      },
      "text/plain": [
       "  0%|          | 0/10000 [00:00<?, ?it/s]"
      ]
     },
     "metadata": {},
     "output_type": "display_data"
    },
    {
     "name": "stdout",
     "output_type": "stream",
     "text": [
      "gld_params: [0.04370307 0.02402483 0.35557387 0.13911586]\n",
      "wrapper([ 9.459e-20  7.607e-03 ...  9.329e-01  9.110e-01]) = -0.027054633834660835\n",
      "assembly_constraint_no_mean([ 9.459e-20  7.607e-03 ...  9.329e-01  9.110e-01]) = [ 1.508e-02  1.502e-02 ...  1.506e-02  1.503e-02]\n"
     ]
    },
    {
     "data": {
      "application/vnd.jupyter.widget-view+json": {
       "model_id": "94022e36542e4cc08463af227ebdaaf4",
       "version_major": 2,
       "version_minor": 0
      },
      "text/plain": [
       "  0%|          | 0/10000 [00:00<?, ?it/s]"
      ]
     },
     "metadata": {},
     "output_type": "display_data"
    },
    {
     "name": "stdout",
     "output_type": "stream",
     "text": [
      "gld_params: [0.04368093 0.02402797 0.3555172  0.1389895 ]\n",
      "wrapper([ 1.204e-35  6.777e-03 ...  9.331e-01  9.124e-01]) = -0.02716988465638717\n",
      "assembly_constraint_no_mean([ 1.204e-35  6.777e-03 ...  9.331e-01  9.124e-01]) = [ 3.605e-02  3.757e-02 ...  1.139e-02  2.354e-02]\n"
     ]
    },
    {
     "data": {
      "application/vnd.jupyter.widget-view+json": {
       "model_id": "5ab61cff7f2b4349b9f43e2c92e57467",
       "version_major": 2,
       "version_minor": 0
      },
      "text/plain": [
       "  0%|          | 0/10000 [00:00<?, ?it/s]"
      ]
     },
     "metadata": {},
     "output_type": "display_data"
    },
    {
     "name": "stdout",
     "output_type": "stream",
     "text": [
      "gld_params: [0.04370224 0.0240252  0.35560101 0.1391084 ]\n",
      "wrapper([ 6.401e-19  8.899e-03 ...  9.328e-01  9.112e-01]) = -0.027055147853848306\n",
      "assembly_constraint_no_mean([ 6.401e-19  8.899e-03 ...  9.328e-01  9.112e-01]) = [ 1.500e-02  1.503e-02 ...  1.506e-02  1.503e-02]\n"
     ]
    },
    {
     "data": {
      "application/vnd.jupyter.widget-view+json": {
       "model_id": "40a32ddfe36f40a28cc4a8e9a4f0b6d8",
       "version_major": 2,
       "version_minor": 0
      },
      "text/plain": [
       "  0%|          | 0/10000 [00:00<?, ?it/s]"
      ]
     },
     "metadata": {},
     "output_type": "display_data"
    },
    {
     "name": "stdout",
     "output_type": "stream",
     "text": [
      "gld_params: [0.04371795 0.02401801 0.35553993 0.13918016]\n",
      "wrapper([ 1.204e-35  5.608e-03 ...  9.317e-01  9.112e-01]) = -0.026971433300024834\n",
      "assembly_constraint_no_mean([ 1.204e-35  5.608e-03 ...  9.317e-01  9.112e-01]) = [ 1.050e-02  1.126e-02 ...  1.983e-02  9.756e-03]\n"
     ]
    },
    {
     "data": {
      "application/vnd.jupyter.widget-view+json": {
       "model_id": "b62d13d7d5024d0b80292d3f27ce9c05",
       "version_major": 2,
       "version_minor": 0
      },
      "text/plain": [
       "  0%|          | 0/10000 [00:00<?, ?it/s]"
      ]
     },
     "metadata": {},
     "output_type": "display_data"
    },
    {
     "name": "stdout",
     "output_type": "stream",
     "text": [
      "gld_params: [0.04370238 0.02402504 0.35559172 0.13911075]\n",
      "wrapper([ 4.832e-19  8.320e-03 ...  9.329e-01  9.111e-01]) = -0.02705526529418361\n",
      "assembly_constraint_no_mean([ 4.832e-19  8.320e-03 ...  9.329e-01  9.111e-01]) = [ 1.500e-02  1.503e-02 ...  1.509e-02  1.503e-02]\n"
     ]
    },
    {
     "data": {
      "application/vnd.jupyter.widget-view+json": {
       "model_id": "71d46f87057d48e9a5005eea67dbdf44",
       "version_major": 2,
       "version_minor": 0
      },
      "text/plain": [
       "  0%|          | 0/10000 [00:00<?, ?it/s]"
      ]
     },
     "metadata": {},
     "output_type": "display_data"
    },
    {
     "name": "stdout",
     "output_type": "stream",
     "text": [
      "gld_params: [0.04368259 0.02403502 0.35545229 0.13922056]\n",
      "wrapper([ 1.204e-35  8.423e-03 ...  9.348e-01  9.102e-01]) = -0.027166621410255182\n",
      "assembly_constraint_no_mean([ 1.204e-35  8.423e-03 ...  9.348e-01  9.102e-01]) = [ 3.953e-02  2.122e-02 ...  3.578e-02  2.194e-02]\n"
     ]
    },
    {
     "data": {
      "application/vnd.jupyter.widget-view+json": {
       "model_id": "b9db1d7da70c4c1c9c5dc2bc6b2fb21b",
       "version_major": 2,
       "version_minor": 0
      },
      "text/plain": [
       "  0%|          | 0/10000 [00:00<?, ?it/s]"
      ]
     },
     "metadata": {},
     "output_type": "display_data"
    },
    {
     "name": "stdout",
     "output_type": "stream",
     "text": [
      "gld_params: [0.04370187 0.02402514 0.35561428 0.13909761]\n",
      "wrapper([ 5.790e-26  8.026e-03 ...  9.327e-01  9.112e-01]) = -0.027055513241414045\n",
      "assembly_constraint_no_mean([ 5.790e-26  8.026e-03 ...  9.327e-01  9.112e-01]) = [ 1.503e-02  1.506e-02 ...  1.507e-02  1.503e-02]\n"
     ]
    },
    {
     "data": {
      "application/vnd.jupyter.widget-view+json": {
       "model_id": "7bf9fd9305614d3fac6cf8a959be5ac1",
       "version_major": 2,
       "version_minor": 0
      },
      "text/plain": [
       "  0%|          | 0/10000 [00:00<?, ?it/s]"
      ]
     },
     "metadata": {},
     "output_type": "display_data"
    },
    {
     "name": "stdout",
     "output_type": "stream",
     "text": [
      "gld_params: [0.04368501 0.02403322 0.35548762 0.13923043]\n",
      "wrapper([ 4.607e-04  6.306e-03 ...  9.299e-01  9.125e-01]) = -0.02714172064383712\n",
      "assembly_constraint_no_mean([ 4.607e-04  6.306e-03 ...  9.299e-01  9.125e-01]) = [ 1.862e-02  2.153e-02 ...  1.939e-02  6.028e-03]\n"
     ]
    },
    {
     "data": {
      "application/vnd.jupyter.widget-view+json": {
       "model_id": "0bb8631a900f4184a9ae1dfa9c09a2b7",
       "version_major": 2,
       "version_minor": 0
      },
      "text/plain": [
       "  0%|          | 0/10000 [00:00<?, ?it/s]"
      ]
     },
     "metadata": {},
     "output_type": "display_data"
    },
    {
     "name": "stdout",
     "output_type": "stream",
     "text": [
      "gld_params: [0.04370192 0.02402509 0.35561428 0.13909653]\n",
      "wrapper([ 1.214e-19  8.083e-03 ...  9.328e-01  9.112e-01]) = -0.027055369527394832\n",
      "assembly_constraint_no_mean([ 1.214e-19  8.083e-03 ...  9.328e-01  9.112e-01]) = [ 1.502e-02  1.504e-02 ...  1.507e-02  1.503e-02]\n"
     ]
    },
    {
     "data": {
      "application/vnd.jupyter.widget-view+json": {
       "model_id": "bdc5be120bf8445188f17d2a14b91512",
       "version_major": 2,
       "version_minor": 0
      },
      "text/plain": [
       "  0%|          | 0/10000 [00:00<?, ?it/s]"
      ]
     },
     "metadata": {},
     "output_type": "display_data"
    },
    {
     "name": "stdout",
     "output_type": "stream",
     "text": [
      "gld_params: [0.04371758 0.02401681 0.35547994 0.13916541]\n",
      "wrapper([ 0.000e+00  7.763e-03 ...  9.299e-01  9.087e-01]) = -0.026980976348237196\n",
      "assembly_constraint_no_mean([ 0.000e+00  7.763e-03 ...  9.299e-01  9.087e-01]) = [ 7.300e-03  6.929e-03 ...  1.731e-02 -1.338e-02]\n"
     ]
    },
    {
     "data": {
      "application/vnd.jupyter.widget-view+json": {
       "model_id": "831cb36b879a4cf6a1fd98e2f8b498c1",
       "version_major": 2,
       "version_minor": 0
      },
      "text/plain": [
       "  0%|          | 0/10000 [00:00<?, ?it/s]"
      ]
     },
     "metadata": {},
     "output_type": "display_data"
    },
    {
     "name": "stdout",
     "output_type": "stream",
     "text": [
      "gld_params: [0.04370196 0.02402502 0.35560601 0.13910158]\n",
      "wrapper([ 2.490e-19  7.966e-03 ...  9.327e-01  9.112e-01]) = -0.027055434002824334\n",
      "assembly_constraint_no_mean([ 2.490e-19  7.966e-03 ...  9.327e-01  9.112e-01]) = [ 1.502e-02  1.505e-02 ...  1.507e-02  1.503e-02]\n"
     ]
    },
    {
     "data": {
      "application/vnd.jupyter.widget-view+json": {
       "model_id": "c4b523290dac4cf9994860ebe5c7a918",
       "version_major": 2,
       "version_minor": 0
      },
      "text/plain": [
       "  0%|          | 0/10000 [00:00<?, ?it/s]"
      ]
     },
     "metadata": {},
     "output_type": "display_data"
    },
    {
     "name": "stdout",
     "output_type": "stream",
     "text": [
      "gld_params: [0.04371188 0.02402068 0.35555113 0.13920485]\n",
      "wrapper([ 1.204e-35  8.195e-03 ...  9.307e-01  9.120e-01]) = -0.02699489096022304\n",
      "assembly_constraint_no_mean([ 1.204e-35  8.195e-03 ...  9.307e-01  9.120e-01]) = [ 2.016e-02  1.688e-02 ...  4.812e-03  8.219e-03]\n"
     ]
    },
    {
     "data": {
      "application/vnd.jupyter.widget-view+json": {
       "model_id": "4bc5141e52334dd287afe0198d0f55af",
       "version_major": 2,
       "version_minor": 0
      },
      "text/plain": [
       "  0%|          | 0/10000 [00:00<?, ?it/s]"
      ]
     },
     "metadata": {},
     "output_type": "display_data"
    },
    {
     "name": "stdout",
     "output_type": "stream",
     "text": [
      "gld_params: [0.04370199 0.02402477 0.35560054 0.13910084]\n",
      "wrapper([ 5.790e-26  7.937e-03 ...  9.326e-01  9.113e-01]) = -0.02705528512902408\n",
      "assembly_constraint_no_mean([ 5.790e-26  7.937e-03 ...  9.326e-01  9.113e-01]) = [ 1.503e-02  1.505e-02 ...  1.507e-02  1.502e-02]\n"
     ]
    },
    {
     "data": {
      "application/vnd.jupyter.widget-view+json": {
       "model_id": "43e5eb3ea9d1433cbd4e00c31455bfae",
       "version_major": 2,
       "version_minor": 0
      },
      "text/plain": [
       "  0%|          | 0/10000 [00:00<?, ?it/s]"
      ]
     },
     "metadata": {},
     "output_type": "display_data"
    },
    {
     "name": "stdout",
     "output_type": "stream",
     "text": [
      "gld_params: [0.04370074 0.02402648 0.35545779 0.13918754]\n",
      "wrapper([ 3.248e-03  9.838e-03 ...  9.311e-01  9.130e-01]) = -0.027077471129069247\n",
      "assembly_constraint_no_mean([ 3.248e-03  9.838e-03 ...  9.311e-01  9.130e-01]) = [ 1.975e-02  2.647e-02 ...  1.814e-02  1.508e-02]\n"
     ]
    },
    {
     "data": {
      "application/vnd.jupyter.widget-view+json": {
       "model_id": "95a8548ee7b34a609b0f59786643aac5",
       "version_major": 2,
       "version_minor": 0
      },
      "text/plain": [
       "  0%|          | 0/10000 [00:00<?, ?it/s]"
      ]
     },
     "metadata": {},
     "output_type": "display_data"
    },
    {
     "name": "stdout",
     "output_type": "stream",
     "text": [
      "gld_params: [0.0437021  0.024025   0.35561283 0.13909253]\n",
      "wrapper([ 2.424e-19  8.012e-03 ...  9.331e-01  9.108e-01]) = -0.02705545783949309\n",
      "assembly_constraint_no_mean([ 2.424e-19  8.012e-03 ...  9.331e-01  9.108e-01]) = [ 1.501e-02  1.504e-02 ...  1.506e-02  1.504e-02]\n"
     ]
    },
    {
     "data": {
      "application/vnd.jupyter.widget-view+json": {
       "model_id": "f570951f3ffb4ae4a71238a267c8ae2a",
       "version_major": 2,
       "version_minor": 0
      },
      "text/plain": [
       "  0%|          | 0/10000 [00:00<?, ?it/s]"
      ]
     },
     "metadata": {},
     "output_type": "display_data"
    },
    {
     "name": "stdout",
     "output_type": "stream",
     "text": [
      "gld_params: [0.04368082 0.0240319  0.3555157  0.13912392]\n",
      "wrapper([ 1.204e-35  8.677e-03 ...  9.331e-01  9.120e-01]) = -0.027163073519643487\n",
      "assembly_constraint_no_mean([ 1.204e-35  8.677e-03 ...  9.331e-01  9.120e-01]) = [ 2.242e-02  2.749e-02 ...  2.642e-02  2.194e-02]\n"
     ]
    },
    {
     "data": {
      "application/vnd.jupyter.widget-view+json": {
       "model_id": "2e78a03f27c4453c87d751d3dfb1c321",
       "version_major": 2,
       "version_minor": 0
      },
      "text/plain": [
       "  0%|          | 0/10000 [00:00<?, ?it/s]"
      ]
     },
     "metadata": {},
     "output_type": "display_data"
    },
    {
     "name": "stdout",
     "output_type": "stream",
     "text": [
      "gld_params: [0.04370178 0.02402472 0.35561739 0.13908569]\n",
      "wrapper([ 0.000e+00  7.931e-03 ...  9.331e-01  9.108e-01]) = -0.02705546798550172\n",
      "assembly_constraint_no_mean([ 0.000e+00  7.931e-03 ...  9.331e-01  9.108e-01]) = [ 1.500e-02  1.505e-02 ...  1.506e-02  1.504e-02]\n"
     ]
    },
    {
     "data": {
      "application/vnd.jupyter.widget-view+json": {
       "model_id": "eb7c3591010b4f02946b4447bb0951c2",
       "version_major": 2,
       "version_minor": 0
      },
      "text/plain": [
       "  0%|          | 0/10000 [00:00<?, ?it/s]"
      ]
     },
     "metadata": {},
     "output_type": "display_data"
    },
    {
     "name": "stdout",
     "output_type": "stream",
     "text": [
      "gld_params: [0.04369193 0.02403019 0.35550667 0.13918466]\n",
      "wrapper([ 6.515e-04  5.600e-03 ...  9.313e-01  9.093e-01]) = -0.02711237563193441\n",
      "assembly_constraint_no_mean([ 6.515e-04  5.600e-03 ...  9.313e-01  9.093e-01]) = [ 2.807e-02  1.545e-02 ...  8.063e-03 -2.884e-03]\n"
     ]
    },
    {
     "data": {
      "application/vnd.jupyter.widget-view+json": {
       "model_id": "465387382d514268ba96ed8eb054c343",
       "version_major": 2,
       "version_minor": 0
      },
      "text/plain": [
       "  0%|          | 0/10000 [00:00<?, ?it/s]"
      ]
     },
     "metadata": {},
     "output_type": "display_data"
    },
    {
     "name": "stdout",
     "output_type": "stream",
     "text": [
      "gld_params: [0.04370195 0.02402474 0.3556161  0.13908502]\n",
      "wrapper([ 1.180e-20  7.962e-03 ...  9.331e-01  9.108e-01]) = -0.027055472044971655\n",
      "assembly_constraint_no_mean([ 1.180e-20  7.962e-03 ...  9.331e-01  9.108e-01]) = [ 1.501e-02  1.504e-02 ...  1.506e-02  1.503e-02]\n"
     ]
    },
    {
     "data": {
      "application/vnd.jupyter.widget-view+json": {
       "model_id": "9d2f257ffab44d578c8f126713a0a86c",
       "version_major": 2,
       "version_minor": 0
      },
      "text/plain": [
       "  0%|          | 0/10000 [00:00<?, ?it/s]"
      ]
     },
     "metadata": {},
     "output_type": "display_data"
    },
    {
     "name": "stdout",
     "output_type": "stream",
     "text": [
      "gld_params: [0.04370777 0.02402384 0.35547269 0.13922851]\n",
      "wrapper([ 3.187e-03  7.407e-03 ...  9.336e-01  9.122e-01]) = -0.027032930650390846\n",
      "assembly_constraint_no_mean([ 3.187e-03  7.407e-03 ...  9.336e-01  9.122e-01]) = [ 1.746e-02 -8.017e-03 ...  8.366e-03  2.604e-02]\n"
     ]
    },
    {
     "data": {
      "application/vnd.jupyter.widget-view+json": {
       "model_id": "c57d83832d0641458c03ff31c9566461",
       "version_major": 2,
       "version_minor": 0
      },
      "text/plain": [
       "  0%|          | 0/10000 [00:00<?, ?it/s]"
      ]
     },
     "metadata": {},
     "output_type": "display_data"
    },
    {
     "name": "stdout",
     "output_type": "stream",
     "text": [
      "gld_params: [0.04370285 0.02402466 0.35560387 0.1390823 ]\n",
      "wrapper([ 0.000e+00  8.080e-03 ...  9.328e-01  9.111e-01]) = -0.02705545329495075\n",
      "assembly_constraint_no_mean([ 0.000e+00  8.080e-03 ...  9.328e-01  9.111e-01]) = [ 1.501e-02  1.504e-02 ...  1.507e-02  1.502e-02]\n"
     ]
    },
    {
     "data": {
      "application/vnd.jupyter.widget-view+json": {
       "model_id": "c811901344c44c9a91a0f2637ed4c1f1",
       "version_major": 2,
       "version_minor": 0
      },
      "text/plain": [
       "  0%|          | 0/10000 [00:00<?, ?it/s]"
      ]
     },
     "metadata": {},
     "output_type": "display_data"
    },
    {
     "name": "stdout",
     "output_type": "stream",
     "text": [
      "gld_params: [0.04370408 0.0240228  0.35554328 0.13915758]\n",
      "wrapper([ 0.000e+00  6.534e-03 ...  9.308e-01  9.108e-01]) = -0.027038833733150913\n",
      "assembly_constraint_no_mean([ 0.000e+00  6.534e-03 ...  9.308e-01  9.108e-01]) = [ 2.108e-02  2.461e-02 ...  1.132e-03  2.587e-03]\n"
     ]
    },
    {
     "data": {
      "application/vnd.jupyter.widget-view+json": {
       "model_id": "b12e60f36e66473bae94c53360a2403b",
       "version_major": 2,
       "version_minor": 0
      },
      "text/plain": [
       "  0%|          | 0/10000 [00:00<?, ?it/s]"
      ]
     },
     "metadata": {},
     "output_type": "display_data"
    },
    {
     "name": "stdout",
     "output_type": "stream",
     "text": [
      "gld_params: [0.04370263 0.02402473 0.35560737 0.13908375]\n",
      "wrapper([ 2.000e-20  8.059e-03 ...  9.329e-01  9.110e-01]) = -0.027055479779375138\n",
      "assembly_constraint_no_mean([ 2.000e-20  8.059e-03 ...  9.329e-01  9.110e-01]) = [ 1.501e-02  1.504e-02 ...  1.507e-02  1.503e-02]\n"
     ]
    },
    {
     "data": {
      "application/vnd.jupyter.widget-view+json": {
       "model_id": "685de8d589f94d66a80d1482306538d9",
       "version_major": 2,
       "version_minor": 0
      },
      "text/plain": [
       "  0%|          | 0/10000 [00:00<?, ?it/s]"
      ]
     },
     "metadata": {},
     "output_type": "display_data"
    },
    {
     "name": "stdout",
     "output_type": "stream",
     "text": [
      "gld_params: [0.04370493 0.02402708 0.35542375 0.13923537]\n",
      "wrapper([ 1.673e-03  7.294e-03 ...  9.334e-01  9.105e-01]) = -0.027065547017646383\n",
      "assembly_constraint_no_mean([ 1.673e-03  7.294e-03 ...  9.334e-01  9.105e-01]) = [ 9.269e-03  6.477e-03 ...  3.190e-02  1.530e-02]\n"
     ]
    },
    {
     "data": {
      "application/vnd.jupyter.widget-view+json": {
       "model_id": "0879513268574f3c824cb64b2fa80d37",
       "version_major": 2,
       "version_minor": 0
      },
      "text/plain": [
       "  0%|          | 0/10000 [00:00<?, ?it/s]"
      ]
     },
     "metadata": {},
     "output_type": "display_data"
    },
    {
     "name": "stdout",
     "output_type": "stream",
     "text": [
      "gld_params: [0.04370199 0.02402522 0.35561625 0.1390967 ]\n",
      "wrapper([ 7.344e-19  7.983e-03 ...  9.328e-01  9.111e-01]) = -0.02705541853773705\n",
      "assembly_constraint_no_mean([ 7.344e-19  7.983e-03 ...  9.328e-01  9.111e-01]) = [ 1.500e-02  1.502e-02 ...  1.510e-02  1.502e-02]\n"
     ]
    },
    {
     "data": {
      "application/vnd.jupyter.widget-view+json": {
       "model_id": "f269978a6e9a472393ba13ad0ffb9af5",
       "version_major": 2,
       "version_minor": 0
      },
      "text/plain": [
       "  0%|          | 0/10000 [00:00<?, ?it/s]"
      ]
     },
     "metadata": {},
     "output_type": "display_data"
    },
    {
     "name": "stdout",
     "output_type": "stream",
     "text": [
      "gld_params: [0.04371377 0.0240233  0.35554452 0.13928303]\n",
      "wrapper([ 2.642e-04  6.728e-03 ...  9.308e-01  9.103e-01]) = -0.02698827600174239\n",
      "assembly_constraint_no_mean([ 2.642e-04  6.728e-03 ...  9.308e-01  9.103e-01]) = [-8.343e-04  2.974e-03 ...  3.631e-02 -4.226e-04]\n"
     ]
    },
    {
     "data": {
      "application/vnd.jupyter.widget-view+json": {
       "model_id": "9adbda5bfd1b407f90817b35c3995149",
       "version_major": 2,
       "version_minor": 0
      },
      "text/plain": [
       "  0%|          | 0/10000 [00:00<?, ?it/s]"
      ]
     },
     "metadata": {},
     "output_type": "display_data"
    },
    {
     "name": "stdout",
     "output_type": "stream",
     "text": [
      "gld_params: [0.04370225 0.02402509 0.35560958 0.13909571]\n",
      "wrapper([ 0.000e+00  8.307e-03 ...  9.329e-01  9.110e-01]) = -0.02705547962622217\n",
      "assembly_constraint_no_mean([ 0.000e+00  8.307e-03 ...  9.329e-01  9.110e-01]) = [ 1.500e-02  1.503e-02 ...  1.508e-02  1.503e-02]\n"
     ]
    },
    {
     "data": {
      "application/vnd.jupyter.widget-view+json": {
       "model_id": "cc652a92ad4b4c2886e5b7a5d1084428",
       "version_major": 2,
       "version_minor": 0
      },
      "text/plain": [
       "  0%|          | 0/10000 [00:00<?, ?it/s]"
      ]
     },
     "metadata": {},
     "output_type": "display_data"
    },
    {
     "name": "stdout",
     "output_type": "stream",
     "text": [
      "gld_params: [0.04370054 0.02402568 0.35543969 0.13918348]\n",
      "wrapper([ 4.042e-04  9.611e-03 ...  9.326e-01  9.097e-01]) = -0.027078294981679678\n",
      "assembly_constraint_no_mean([ 4.042e-04  9.611e-03 ...  9.326e-01  9.097e-01]) = [-3.892e-04  3.431e-02 ...  3.832e-03  7.092e-03]\n"
     ]
    },
    {
     "data": {
      "application/vnd.jupyter.widget-view+json": {
       "model_id": "685e9381ae5c4d04810044847dbfd60d",
       "version_major": 2,
       "version_minor": 0
      },
      "text/plain": [
       "  0%|          | 0/10000 [00:00<?, ?it/s]"
      ]
     },
     "metadata": {},
     "output_type": "display_data"
    },
    {
     "name": "stdout",
     "output_type": "stream",
     "text": [
      "gld_params: [0.04370197 0.02402517 0.35561771 0.13909398]\n",
      "wrapper([ 6.806e-19  7.907e-03 ...  9.326e-01  9.113e-01]) = -0.027055452562504186\n",
      "assembly_constraint_no_mean([ 6.806e-19  7.907e-03 ...  9.326e-01  9.113e-01]) = [ 1.500e-02  1.503e-02 ...  1.507e-02  1.503e-02]\n"
     ]
    },
    {
     "data": {
      "application/vnd.jupyter.widget-view+json": {
       "model_id": "5ba0cd92cb6b4569a012b929f8898fe4",
       "version_major": 2,
       "version_minor": 0
      },
      "text/plain": [
       "  0%|          | 0/10000 [00:00<?, ?it/s]"
      ]
     },
     "metadata": {},
     "output_type": "display_data"
    },
    {
     "name": "stdout",
     "output_type": "stream",
     "text": [
      "gld_params: [0.04372433 0.02402176 0.3553829  0.13931759]\n",
      "wrapper([ 3.809e-03  8.420e-03 ...  9.326e-01  9.112e-01]) = -0.026974977119650335\n",
      "assembly_constraint_no_mean([ 3.809e-03  8.420e-03 ...  9.326e-01  9.112e-01]) = [-6.635e-03  1.541e-02 ...  1.293e-02  1.490e-02]\n"
     ]
    },
    {
     "data": {
      "application/vnd.jupyter.widget-view+json": {
       "model_id": "c43a4d1d6e384cc89e500f3d8fe16288",
       "version_major": 2,
       "version_minor": 0
      },
      "text/plain": [
       "  0%|          | 0/10000 [00:00<?, ?it/s]"
      ]
     },
     "metadata": {},
     "output_type": "display_data"
    },
    {
     "name": "stdout",
     "output_type": "stream",
     "text": [
      "gld_params: [0.04370202 0.02402501 0.35561603 0.13909106]\n",
      "wrapper([ 1.029e-18  8.218e-03 ...  9.328e-01  9.111e-01]) = -0.02705544180609673\n",
      "assembly_constraint_no_mean([ 1.029e-18  8.218e-03 ...  9.328e-01  9.111e-01]) = [ 1.501e-02  1.503e-02 ...  1.508e-02  1.502e-02]\n"
     ]
    },
    {
     "data": {
      "application/vnd.jupyter.widget-view+json": {
       "model_id": "b386bc91f2b644e49fc548bd1f96d2e3",
       "version_major": 2,
       "version_minor": 0
      },
      "text/plain": [
       "  0%|          | 0/10000 [00:00<?, ?it/s]"
      ]
     },
     "metadata": {},
     "output_type": "display_data"
    },
    {
     "name": "stdout",
     "output_type": "stream",
     "text": [
      "gld_params: [0.04369896 0.02402612 0.35554045 0.13914686]\n",
      "wrapper([ 1.204e-35  8.057e-03 ...  9.335e-01  9.141e-01]) = -0.027072926281383792\n",
      "assembly_constraint_no_mean([ 1.204e-35  8.057e-03 ...  9.335e-01  9.141e-01]) = [ 1.090e-02  5.237e-03 ...  6.772e-03  3.519e-02]\n"
     ]
    },
    {
     "data": {
      "application/vnd.jupyter.widget-view+json": {
       "model_id": "937c35d446f8442f8c25236bf16f170b",
       "version_major": 2,
       "version_minor": 0
      },
      "text/plain": [
       "  0%|          | 0/10000 [00:00<?, ?it/s]"
      ]
     },
     "metadata": {},
     "output_type": "display_data"
    },
    {
     "name": "stdout",
     "output_type": "stream",
     "text": [
      "gld_params: [0.04370283 0.02402519 0.35558953 0.1391089 ]\n",
      "wrapper([ 6.705e-20  8.170e-03 ...  9.329e-01  9.110e-01]) = -0.027055537996295034\n",
      "assembly_constraint_no_mean([ 6.705e-20  8.170e-03 ...  9.329e-01  9.110e-01]) = [ 1.501e-02  1.503e-02 ...  1.508e-02  1.504e-02]\n"
     ]
    },
    {
     "data": {
      "application/vnd.jupyter.widget-view+json": {
       "model_id": "303a58aa0c324536ba7cb203c1f839a4",
       "version_major": 2,
       "version_minor": 0
      },
      "text/plain": [
       "  0%|          | 0/10000 [00:00<?, ?it/s]"
      ]
     },
     "metadata": {},
     "output_type": "display_data"
    },
    {
     "name": "stdout",
     "output_type": "stream",
     "text": [
      "gld_params: [0.04369395 0.02402916 0.35549245 0.13921853]\n",
      "wrapper([ 9.850e-04  8.896e-03 ...  9.293e-01  9.134e-01]) = -0.027097238139454985\n",
      "assembly_constraint_no_mean([ 9.850e-04  8.896e-03 ...  9.293e-01  9.134e-01]) = [ 1.720e-02  1.942e-02 ...  3.624e-02  7.877e-03]\n"
     ]
    },
    {
     "data": {
      "application/vnd.jupyter.widget-view+json": {
       "model_id": "0bcd5425a07345d2a8b5f1f351f3484d",
       "version_major": 2,
       "version_minor": 0
      },
      "text/plain": [
       "  0%|          | 0/10000 [00:00<?, ?it/s]"
      ]
     },
     "metadata": {},
     "output_type": "display_data"
    },
    {
     "name": "stdout",
     "output_type": "stream",
     "text": [
      "gld_params: [0.04370257 0.02402522 0.35559881 0.13910451]\n",
      "wrapper([ 6.035e-20  8.159e-03 ...  9.329e-01  9.110e-01]) = -0.027055542373791205\n",
      "assembly_constraint_no_mean([ 6.035e-20  8.159e-03 ...  9.329e-01  9.110e-01]) = [ 1.501e-02  1.503e-02 ...  1.508e-02  1.504e-02]\n"
     ]
    },
    {
     "data": {
      "application/vnd.jupyter.widget-view+json": {
       "model_id": "05e91bc1ab5d40e2aa5a56e58c0365ad",
       "version_major": 2,
       "version_minor": 0
      },
      "text/plain": [
       "  0%|          | 0/10000 [00:00<?, ?it/s]"
      ]
     },
     "metadata": {},
     "output_type": "display_data"
    },
    {
     "name": "stdout",
     "output_type": "stream",
     "text": [
      "gld_params: [0.04370081 0.02402649 0.35546461 0.13920283]\n",
      "wrapper([ 0.000e+00  7.743e-03 ...  9.325e-01  9.128e-01]) = -0.027072830041701756\n",
      "assembly_constraint_no_mean([ 0.000e+00  7.743e-03 ...  9.325e-01  9.128e-01]) = [ 1.712e-03  1.241e-02 ...  7.105e-03  2.250e-02]\n"
     ]
    },
    {
     "data": {
      "application/vnd.jupyter.widget-view+json": {
       "model_id": "ae81124f45c44718b2882950d9a928e8",
       "version_major": 2,
       "version_minor": 0
      },
      "text/plain": [
       "  0%|          | 0/10000 [00:00<?, ?it/s]"
      ]
     },
     "metadata": {},
     "output_type": "display_data"
    },
    {
     "name": "stdout",
     "output_type": "stream",
     "text": [
      "gld_params: [0.04370255 0.02402516 0.35559886 0.13910303]\n",
      "wrapper([ 6.084e-20  8.184e-03 ...  9.329e-01  9.110e-01]) = -0.027055565795208153\n",
      "assembly_constraint_no_mean([ 6.084e-20  8.184e-03 ...  9.329e-01  9.110e-01]) = [ 1.501e-02  1.503e-02 ...  1.508e-02  1.504e-02]\n"
     ]
    },
    {
     "data": {
      "application/vnd.jupyter.widget-view+json": {
       "model_id": "e30549fb6db74334ae7976377daaef88",
       "version_major": 2,
       "version_minor": 0
      },
      "text/plain": [
       "  0%|          | 0/10000 [00:00<?, ?it/s]"
      ]
     },
     "metadata": {},
     "output_type": "display_data"
    },
    {
     "name": "stdout",
     "output_type": "stream",
     "text": [
      "gld_params: [0.04369532 0.02402908 0.35547961 0.139202  ]\n",
      "wrapper([ 0.000e+00  7.682e-03 ...  9.311e-01  9.136e-01]) = -0.027098825569689743\n",
      "assembly_constraint_no_mean([ 0.000e+00  7.682e-03 ...  9.311e-01  9.136e-01]) = [ 3.276e-03  1.130e-02 ...  3.037e-02  1.883e-02]\n"
     ]
    },
    {
     "data": {
      "application/vnd.jupyter.widget-view+json": {
       "model_id": "6e976535f2cf4f12872edc6baba3ef83",
       "version_major": 2,
       "version_minor": 0
      },
      "text/plain": [
       "  0%|          | 0/10000 [00:00<?, ?it/s]"
      ]
     },
     "metadata": {},
     "output_type": "display_data"
    },
    {
     "name": "stdout",
     "output_type": "stream",
     "text": [
      "gld_params: [0.04370258 0.02402496 0.35559595 0.13910053]\n",
      "wrapper([ 1.764e-19  8.255e-03 ...  9.328e-01  9.111e-01]) = -0.027055564183279358\n",
      "assembly_constraint_no_mean([ 1.764e-19  8.255e-03 ...  9.328e-01  9.111e-01]) = [ 1.500e-02  1.503e-02 ...  1.508e-02  1.504e-02]\n"
     ]
    },
    {
     "data": {
      "application/vnd.jupyter.widget-view+json": {
       "model_id": "1403031fc3644fb2a10ae503fa33e212",
       "version_major": 2,
       "version_minor": 0
      },
      "text/plain": [
       "  0%|          | 0/10000 [00:00<?, ?it/s]"
      ]
     },
     "metadata": {},
     "output_type": "display_data"
    },
    {
     "name": "stdout",
     "output_type": "stream",
     "text": [
      "gld_params: [0.04370685 0.02402144 0.35546962 0.13917432]\n",
      "wrapper([ 1.204e-35  9.188e-03 ...  9.327e-01  9.130e-01]) = -0.02703489684614702\n",
      "assembly_constraint_no_mean([ 1.204e-35  9.188e-03 ...  9.327e-01  9.130e-01]) = [ 8.912e-03  4.303e-03 ...  1.056e-02  2.483e-02]\n"
     ]
    },
    {
     "data": {
      "application/vnd.jupyter.widget-view+json": {
       "model_id": "72ba56ed524b4f4d9095b4d199bb507e",
       "version_major": 2,
       "version_minor": 0
      },
      "text/plain": [
       "  0%|          | 0/10000 [00:00<?, ?it/s]"
      ]
     },
     "metadata": {},
     "output_type": "display_data"
    },
    {
     "name": "stdout",
     "output_type": "stream",
     "text": [
      "gld_params: [0.0437025  0.02402509 0.35559787 0.13910283]\n",
      "wrapper([ 2.000e-19  8.249e-03 ...  9.328e-01  9.111e-01]) = -0.027055571596684435\n",
      "assembly_constraint_no_mean([ 2.000e-19  8.249e-03 ...  9.328e-01  9.111e-01]) = [ 1.500e-02  1.503e-02 ...  1.508e-02  1.504e-02]\n"
     ]
    },
    {
     "data": {
      "application/vnd.jupyter.widget-view+json": {
       "model_id": "1dccee3af19b4b7a8b3403a71bedb395",
       "version_major": 2,
       "version_minor": 0
      },
      "text/plain": [
       "  0%|          | 0/10000 [00:00<?, ?it/s]"
      ]
     },
     "metadata": {},
     "output_type": "display_data"
    },
    {
     "name": "stdout",
     "output_type": "stream",
     "text": [
      "gld_params: [0.04369756 0.02403016 0.35543608 0.1392379 ]\n",
      "wrapper([ 0.000e+00  8.129e-03 ...  9.353e-01  9.132e-01]) = -0.027099181080749355\n",
      "assembly_constraint_no_mean([ 0.000e+00  8.129e-03 ...  9.353e-01  9.132e-01]) = [ 4.346e-03  4.747e-03 ...  2.815e-02  4.009e-02]\n"
     ]
    },
    {
     "data": {
      "application/vnd.jupyter.widget-view+json": {
       "model_id": "958728faaf954848a0f82266be013ae7",
       "version_major": 2,
       "version_minor": 0
      },
      "text/plain": [
       "  0%|          | 0/10000 [00:00<?, ?it/s]"
      ]
     },
     "metadata": {},
     "output_type": "display_data"
    },
    {
     "name": "stdout",
     "output_type": "stream",
     "text": [
      "gld_params: [0.04370252 0.02402499 0.35559628 0.13910166]\n",
      "wrapper([ 1.369e-19  8.231e-03 ...  9.329e-01  9.111e-01]) = -0.027055573678885877\n",
      "assembly_constraint_no_mean([ 1.369e-19  8.231e-03 ...  9.329e-01  9.111e-01]) = [ 1.501e-02  1.503e-02 ...  1.508e-02  1.504e-02]\n"
     ]
    },
    {
     "data": {
      "application/vnd.jupyter.widget-view+json": {
       "model_id": "44defd76e44348c9b72f64f9de81b983",
       "version_major": 2,
       "version_minor": 0
      },
      "text/plain": [
       "  0%|          | 0/10000 [00:00<?, ?it/s]"
      ]
     },
     "metadata": {},
     "output_type": "display_data"
    },
    {
     "name": "stdout",
     "output_type": "stream",
     "text": [
      "gld_params: [0.04368845 0.02403354 0.35542712 0.13926131]\n",
      "wrapper([ 1.700e-03  6.107e-03 ...  9.324e-01  9.119e-01]) = -0.027139025775959558\n",
      "assembly_constraint_no_mean([ 1.700e-03  6.107e-03 ...  9.324e-01  9.119e-01]) = [ 2.719e-02  2.159e-02 ...  8.076e-03  1.737e-02]\n"
     ]
    },
    {
     "data": {
      "application/vnd.jupyter.widget-view+json": {
       "model_id": "88adcdb2142c4c9b8e01e191dc443019",
       "version_major": 2,
       "version_minor": 0
      },
      "text/plain": [
       "  0%|          | 0/10000 [00:00<?, ?it/s]"
      ]
     },
     "metadata": {},
     "output_type": "display_data"
    },
    {
     "name": "stdout",
     "output_type": "stream",
     "text": [
      "gld_params: [0.04370262 0.024025   0.35559629 0.13910061]\n",
      "wrapper([ 5.787e-20  8.283e-03 ...  9.328e-01  9.111e-01]) = -0.027055569394267922\n",
      "assembly_constraint_no_mean([ 5.787e-20  8.283e-03 ...  9.328e-01  9.111e-01]) = [ 1.501e-02  1.503e-02 ...  1.508e-02  1.504e-02]\n"
     ]
    },
    {
     "data": {
      "application/vnd.jupyter.widget-view+json": {
       "model_id": "9bc4eab96c394a9390667d769623c758",
       "version_major": 2,
       "version_minor": 0
      },
      "text/plain": [
       "  0%|          | 0/10000 [00:00<?, ?it/s]"
      ]
     },
     "metadata": {},
     "output_type": "display_data"
    },
    {
     "name": "stdout",
     "output_type": "stream",
     "text": [
      "gld_params: [0.0437099  0.02402127 0.35548422 0.139143  ]\n",
      "wrapper([ 8.669e-04  9.948e-03 ...  9.313e-01  9.106e-01]) = -0.027029059452289957\n",
      "assembly_constraint_no_mean([ 8.669e-04  9.948e-03 ...  9.313e-01  9.106e-01]) = [ 1.852e-02  8.260e-03 ...  1.183e-02  4.493e-03]\n"
     ]
    },
    {
     "data": {
      "application/vnd.jupyter.widget-view+json": {
       "model_id": "ff3ba04123cd423fbf3d46272186bb86",
       "version_major": 2,
       "version_minor": 0
      },
      "text/plain": [
       "  0%|          | 0/10000 [00:00<?, ?it/s]"
      ]
     },
     "metadata": {},
     "output_type": "display_data"
    },
    {
     "name": "stdout",
     "output_type": "stream",
     "text": [
      "gld_params: [0.04370252 0.02402513 0.3555972  0.1391042 ]\n",
      "wrapper([ 7.015e-20  8.136e-03 ...  9.328e-01  9.111e-01]) = -0.02705557776168461\n",
      "assembly_constraint_no_mean([ 7.015e-20  8.136e-03 ...  9.328e-01  9.111e-01]) = [ 1.500e-02  1.503e-02 ...  1.508e-02  1.504e-02]\n"
     ]
    },
    {
     "data": {
      "application/vnd.jupyter.widget-view+json": {
       "model_id": "91e2eece76cd401a85c464a58e36c6ed",
       "version_major": 2,
       "version_minor": 0
      },
      "text/plain": [
       "  0%|          | 0/10000 [00:00<?, ?it/s]"
      ]
     },
     "metadata": {},
     "output_type": "display_data"
    },
    {
     "name": "stdout",
     "output_type": "stream",
     "text": [
      "gld_params: [0.04370749 0.02402264 0.35545223 0.13920925]\n",
      "wrapper([ 2.071e-03  7.965e-03 ...  9.332e-01  9.096e-01]) = -0.02703546579402821\n",
      "assembly_constraint_no_mean([ 2.071e-03  7.965e-03 ...  9.332e-01  9.096e-01]) = [ 1.102e-02  1.687e-02 ...  1.925e-02  9.975e-03]\n"
     ]
    },
    {
     "data": {
      "application/vnd.jupyter.widget-view+json": {
       "model_id": "762797d757b34df881a1a515679f9d95",
       "version_major": 2,
       "version_minor": 0
      },
      "text/plain": [
       "  0%|          | 0/10000 [00:00<?, ?it/s]"
      ]
     },
     "metadata": {},
     "output_type": "display_data"
    },
    {
     "name": "stdout",
     "output_type": "stream",
     "text": [
      "gld_params: [0.04370263 0.02402526 0.35559253 0.1391105 ]\n",
      "wrapper([ 5.027e-20  8.110e-03 ...  9.326e-01  9.114e-01]) = -0.02705556738511356\n",
      "assembly_constraint_no_mean([ 5.027e-20  8.110e-03 ...  9.326e-01  9.114e-01]) = [ 1.500e-02  1.503e-02 ...  1.508e-02  1.504e-02]\n"
     ]
    },
    {
     "data": {
      "application/vnd.jupyter.widget-view+json": {
       "model_id": "0525cb91db0e425cb485163906431d1b",
       "version_major": 2,
       "version_minor": 0
      },
      "text/plain": [
       "  0%|          | 0/10000 [00:00<?, ?it/s]"
      ]
     },
     "metadata": {},
     "output_type": "display_data"
    },
    {
     "name": "stdout",
     "output_type": "stream",
     "text": [
      "gld_params: [0.04369884 0.02402534 0.35551992 0.13920878]\n",
      "wrapper([ 1.204e-35  9.822e-03 ...  9.327e-01  9.129e-01]) = -0.02706059638726266\n",
      "assembly_constraint_no_mean([ 1.204e-35  9.822e-03 ...  9.327e-01  9.129e-01]) = [ 7.024e-03  2.031e-02 ...  1.653e-02  2.379e-02]\n"
     ]
    },
    {
     "data": {
      "application/vnd.jupyter.widget-view+json": {
       "model_id": "eecab30f79fe4109beb39a537c864fa4",
       "version_major": 2,
       "version_minor": 0
      },
      "text/plain": [
       "  0%|          | 0/10000 [00:00<?, ?it/s]"
      ]
     },
     "metadata": {},
     "output_type": "display_data"
    },
    {
     "name": "stdout",
     "output_type": "stream",
     "text": [
      "gld_params: [0.04370262 0.02402524 0.35559387 0.13910881]\n",
      "wrapper([ 5.099e-20  8.116e-03 ...  9.327e-01  9.112e-01]) = -0.027055579951761537\n",
      "assembly_constraint_no_mean([ 5.099e-20  8.116e-03 ...  9.327e-01  9.112e-01]) = [ 1.500e-02  1.503e-02 ...  1.508e-02  1.504e-02]\n"
     ]
    },
    {
     "data": {
      "application/vnd.jupyter.widget-view+json": {
       "model_id": "a2574cb5036846e1a855731320717c79",
       "version_major": 2,
       "version_minor": 0
      },
      "text/plain": [
       "  0%|          | 0/10000 [00:00<?, ?it/s]"
      ]
     },
     "metadata": {},
     "output_type": "display_data"
    },
    {
     "name": "stdout",
     "output_type": "stream",
     "text": [
      "gld_params: [0.04370259 0.02402533 0.3554435  0.13923026]\n",
      "wrapper([ 1.155e-03  7.105e-03 ...  9.325e-01  9.135e-01]) = -0.027060412762517593\n",
      "assembly_constraint_no_mean([ 1.155e-03  7.105e-03 ...  9.325e-01  9.135e-01]) = [ 1.596e-02  2.299e-02 ...  1.914e-02  2.625e-02]\n"
     ]
    },
    {
     "data": {
      "application/vnd.jupyter.widget-view+json": {
       "model_id": "b941d4854aac41639c4ddda62b8563de",
       "version_major": 2,
       "version_minor": 0
      },
      "text/plain": [
       "  0%|          | 0/10000 [00:00<?, ?it/s]"
      ]
     },
     "metadata": {},
     "output_type": "display_data"
    },
    {
     "name": "stdout",
     "output_type": "stream",
     "text": [
      "gld_params: [0.04370267 0.02402526 0.35559312 0.13910935]\n",
      "wrapper([ 4.947e-20  8.050e-03 ...  9.326e-01  9.113e-01]) = -0.027055566065991094\n",
      "assembly_constraint_no_mean([ 4.947e-20  8.050e-03 ...  9.326e-01  9.113e-01]) = [ 1.500e-02  1.503e-02 ...  1.508e-02  1.504e-02]\n"
     ]
    },
    {
     "data": {
      "application/vnd.jupyter.widget-view+json": {
       "model_id": "a4ba483fd0754680a514d0005b96c745",
       "version_major": 2,
       "version_minor": 0
      },
      "text/plain": [
       "  0%|          | 0/10000 [00:00<?, ?it/s]"
      ]
     },
     "metadata": {},
     "output_type": "display_data"
    },
    {
     "name": "stdout",
     "output_type": "stream",
     "text": [
      "gld_params: [0.04370495 0.02402309 0.35542827 0.13916767]\n",
      "wrapper([ 0.000e+00  9.230e-03 ...  9.309e-01  9.122e-01]) = -0.02705808475830785\n",
      "assembly_constraint_no_mean([ 0.000e+00  9.230e-03 ...  9.309e-01  9.122e-01]) = [ 1.518e-02  1.835e-02 ...  3.007e-02  1.127e-02]\n"
     ]
    },
    {
     "data": {
      "application/vnd.jupyter.widget-view+json": {
       "model_id": "01ab3a458299456f9b2f81c8f7f16b8d",
       "version_major": 2,
       "version_minor": 0
      },
      "text/plain": [
       "  0%|          | 0/10000 [00:00<?, ?it/s]"
      ]
     },
     "metadata": {},
     "output_type": "display_data"
    },
    {
     "name": "stdout",
     "output_type": "stream",
     "text": [
      "gld_params: [0.0437026  0.02402521 0.35559508 0.13910727]\n",
      "wrapper([ 5.619e-20  8.055e-03 ...  9.327e-01  9.112e-01]) = -0.02705558902584546\n",
      "assembly_constraint_no_mean([ 5.619e-20  8.055e-03 ...  9.327e-01  9.112e-01]) = [ 1.500e-02  1.503e-02 ...  1.508e-02  1.504e-02]\n"
     ]
    },
    {
     "data": {
      "application/vnd.jupyter.widget-view+json": {
       "model_id": "af2429bce7464a0abd7395833ea0792d",
       "version_major": 2,
       "version_minor": 0
      },
      "text/plain": [
       "  0%|          | 0/10000 [00:00<?, ?it/s]"
      ]
     },
     "metadata": {},
     "output_type": "display_data"
    },
    {
     "name": "stdout",
     "output_type": "stream",
     "text": [
      "gld_params: [0.04370396 0.02402722 0.35545047 0.13919446]\n",
      "wrapper([ 5.297e-04  8.105e-03 ...  9.306e-01  9.134e-01]) = -0.027072189758592293\n",
      "assembly_constraint_no_mean([ 5.297e-04  8.105e-03 ...  9.306e-01  9.134e-01]) = [ 4.059e-03  1.168e-02 ...  2.195e-02  1.477e-02]\n"
     ]
    },
    {
     "data": {
      "application/vnd.jupyter.widget-view+json": {
       "model_id": "cadb5e38ba6a43c6a231b7ed19464b26",
       "version_major": 2,
       "version_minor": 0
      },
      "text/plain": [
       "  0%|          | 0/10000 [00:00<?, ?it/s]"
      ]
     },
     "metadata": {},
     "output_type": "display_data"
    },
    {
     "name": "stdout",
     "output_type": "stream",
     "text": [
      "gld_params: [0.04370269 0.02402543 0.35558927 0.13911711]\n",
      "wrapper([ 1.291e-19  7.943e-03 ...  9.325e-01  9.114e-01]) = -0.027055564803296232\n",
      "assembly_constraint_no_mean([ 1.291e-19  7.943e-03 ...  9.325e-01  9.114e-01]) = [ 1.500e-02  1.503e-02 ...  1.508e-02  1.504e-02]\n"
     ]
    },
    {
     "data": {
      "application/vnd.jupyter.widget-view+json": {
       "model_id": "b5d917098c1b44469d4a84fa1c37cf61",
       "version_major": 2,
       "version_minor": 0
      },
      "text/plain": [
       "  0%|          | 0/10000 [00:00<?, ?it/s]"
      ]
     },
     "metadata": {},
     "output_type": "display_data"
    },
    {
     "name": "stdout",
     "output_type": "stream",
     "text": [
      "gld_params: [0.04370993 0.02402342 0.35542973 0.13923793]\n",
      "wrapper([ 1.580e-03  6.714e-03 ...  9.314e-01  9.121e-01]) = -0.027031099035294354\n",
      "assembly_constraint_no_mean([ 1.580e-03  6.714e-03 ...  9.314e-01  9.121e-01]) = [ 2.962e-02 -5.725e-03 ...  2.066e-02  1.285e-02]\n"
     ]
    },
    {
     "data": {
      "application/vnd.jupyter.widget-view+json": {
       "model_id": "37af0102f88e41b69eeb855f9a7fa652",
       "version_major": 2,
       "version_minor": 0
      },
      "text/plain": [
       "  0%|          | 0/10000 [00:00<?, ?it/s]"
      ]
     },
     "metadata": {},
     "output_type": "display_data"
    },
    {
     "name": "stdout",
     "output_type": "stream",
     "text": [
      "gld_params: [0.04370252 0.02402529 0.35559501 0.13911052]\n",
      "wrapper([ 6.609e-20  7.988e-03 ...  9.327e-01  9.112e-01]) = -0.027055570659668588\n",
      "assembly_constraint_no_mean([ 6.609e-20  7.988e-03 ...  9.327e-01  9.112e-01]) = [ 1.501e-02  1.504e-02 ...  1.507e-02  1.504e-02]\n"
     ]
    },
    {
     "data": {
      "application/vnd.jupyter.widget-view+json": {
       "model_id": "dbb11babbf74405cb0fe2e9b1fea10dd",
       "version_major": 2,
       "version_minor": 0
      },
      "text/plain": [
       "  0%|          | 0/10000 [00:00<?, ?it/s]"
      ]
     },
     "metadata": {},
     "output_type": "display_data"
    },
    {
     "name": "stdout",
     "output_type": "stream",
     "text": [
      "gld_params: [0.04369832 0.02402514 0.35549951 0.13914952]\n",
      "wrapper([ 1.068e-03  6.345e-03 ...  9.328e-01  9.126e-01]) = -0.027077125272019185\n",
      "assembly_constraint_no_mean([ 1.068e-03  6.345e-03 ...  9.328e-01  9.126e-01]) = [ 8.049e-03  2.970e-02 ...  1.770e-02  2.331e-02]\n"
     ]
    },
    {
     "data": {
      "application/vnd.jupyter.widget-view+json": {
       "model_id": "7af564af0c684e059f9fd239229de586",
       "version_major": 2,
       "version_minor": 0
      },
      "text/plain": [
       "  0%|          | 0/10000 [00:00<?, ?it/s]"
      ]
     },
     "metadata": {},
     "output_type": "display_data"
    },
    {
     "name": "stdout",
     "output_type": "stream",
     "text": [
      "gld_params: [0.04370249 0.0240252  0.35559663 0.1391071 ]\n",
      "wrapper([ 3.802e-19  8.014e-03 ...  9.328e-01  9.112e-01]) = -0.027055568324365092\n",
      "assembly_constraint_no_mean([ 3.802e-19  8.014e-03 ...  9.328e-01  9.112e-01]) = [ 1.501e-02  1.504e-02 ...  1.508e-02  1.503e-02]\n"
     ]
    },
    {
     "data": {
      "application/vnd.jupyter.widget-view+json": {
       "model_id": "aded8771e8ad4f328f73aec5e41b8b7c",
       "version_major": 2,
       "version_minor": 0
      },
      "text/plain": [
       "  0%|          | 0/10000 [00:00<?, ?it/s]"
      ]
     },
     "metadata": {},
     "output_type": "display_data"
    },
    {
     "name": "stdout",
     "output_type": "stream",
     "text": [
      "gld_params: [0.04370378 0.0240268  0.35544415 0.13929166]\n",
      "wrapper([ 3.683e-04  1.023e-02 ...  9.327e-01  9.102e-01]) = -0.027051911840341065\n",
      "assembly_constraint_no_mean([ 3.683e-04  1.023e-02 ...  9.327e-01  9.102e-01]) = [ 2.503e-02  9.846e-03 ...  1.949e-02  9.911e-03]\n"
     ]
    },
    {
     "data": {
      "application/vnd.jupyter.widget-view+json": {
       "model_id": "4a1c22bc152a46ffbecd8e443af31c56",
       "version_major": 2,
       "version_minor": 0
      },
      "text/plain": [
       "  0%|          | 0/10000 [00:00<?, ?it/s]"
      ]
     },
     "metadata": {},
     "output_type": "display_data"
    },
    {
     "name": "stdout",
     "output_type": "stream",
     "text": [
      "gld_params: [0.04370254 0.02402514 0.35559695 0.13910462]\n",
      "wrapper([ 3.627e-19  7.980e-03 ...  9.328e-01  9.112e-01]) = -0.027055589398735556\n",
      "assembly_constraint_no_mean([ 3.627e-19  7.980e-03 ...  9.328e-01  9.112e-01]) = [ 1.501e-02  1.504e-02 ...  1.507e-02  1.504e-02]\n"
     ]
    },
    {
     "data": {
      "application/vnd.jupyter.widget-view+json": {
       "model_id": "13dcd869b4b942fa86df2c38898cf5ac",
       "version_major": 2,
       "version_minor": 0
      },
      "text/plain": [
       "  0%|          | 0/10000 [00:00<?, ?it/s]"
      ]
     },
     "metadata": {},
     "output_type": "display_data"
    },
    {
     "name": "stdout",
     "output_type": "stream",
     "text": [
      "gld_params: [0.04369022 0.02402952 0.35551671 0.13917529]\n",
      "wrapper([ 8.393e-04  8.361e-03 ...  9.330e-01  9.109e-01]) = -0.027113711170838644\n",
      "assembly_constraint_no_mean([ 8.393e-04  8.361e-03 ...  9.330e-01  9.109e-01]) = [ 3.126e-02  2.761e-02 ...  2.615e-02  1.548e-02]\n"
     ]
    },
    {
     "data": {
      "application/vnd.jupyter.widget-view+json": {
       "model_id": "709b85a194b24bc18642c444be1e4a54",
       "version_major": 2,
       "version_minor": 0
      },
      "text/plain": [
       "  0%|          | 0/10000 [00:00<?, ?it/s]"
      ]
     },
     "metadata": {},
     "output_type": "display_data"
    },
    {
     "name": "stdout",
     "output_type": "stream",
     "text": [
      "gld_params: [0.04370255 0.02402518 0.35559583 0.13910644]\n",
      "wrapper([ 5.177e-20  7.952e-03 ...  9.327e-01  9.113e-01]) = -0.027055581269234057\n",
      "assembly_constraint_no_mean([ 5.177e-20  7.952e-03 ...  9.327e-01  9.113e-01]) = [ 1.501e-02  1.504e-02 ...  1.507e-02  1.503e-02]\n"
     ]
    },
    {
     "data": {
      "application/vnd.jupyter.widget-view+json": {
       "model_id": "5601ec67d7f54640bdf6c19ea34341ff",
       "version_major": 2,
       "version_minor": 0
      },
      "text/plain": [
       "  0%|          | 0/10000 [00:00<?, ?it/s]"
      ]
     },
     "metadata": {},
     "output_type": "display_data"
    },
    {
     "name": "stdout",
     "output_type": "stream",
     "text": [
      "gld_params: [0.04369983 0.02402379 0.3555098  0.13911928]\n",
      "wrapper([ 8.498e-04  8.090e-03 ...  9.319e-01  9.111e-01]) = -0.02707013603413312\n",
      "assembly_constraint_no_mean([ 8.498e-04  8.090e-03 ...  9.319e-01  9.111e-01]) = [ 1.426e-02  1.046e-02 ...  1.246e-02  9.939e-03]\n"
     ]
    },
    {
     "data": {
      "application/vnd.jupyter.widget-view+json": {
       "model_id": "ddb74543798146249dfbdd03f793d802",
       "version_major": 2,
       "version_minor": 0
      },
      "text/plain": [
       "  0%|          | 0/10000 [00:00<?, ?it/s]"
      ]
     },
     "metadata": {},
     "output_type": "display_data"
    },
    {
     "name": "stdout",
     "output_type": "stream",
     "text": [
      "gld_params: [0.04370257 0.02402516 0.35559586 0.13910561]\n",
      "wrapper([ 7.382e-20  7.968e-03 ...  9.327e-01  9.112e-01]) = -0.027055587254759022\n",
      "assembly_constraint_no_mean([ 7.382e-20  7.968e-03 ...  9.327e-01  9.112e-01]) = [ 1.501e-02  1.504e-02 ...  1.507e-02  1.504e-02]\n"
     ]
    },
    {
     "data": {
      "application/vnd.jupyter.widget-view+json": {
       "model_id": "dde8d2a003c94f4fafe9d9e66bbaed47",
       "version_major": 2,
       "version_minor": 0
      },
      "text/plain": [
       "  0%|          | 0/10000 [00:00<?, ?it/s]"
      ]
     },
     "metadata": {},
     "output_type": "display_data"
    },
    {
     "name": "stdout",
     "output_type": "stream",
     "text": [
      "gld_params: [0.04370199 0.02402352 0.35550352 0.13912876]\n",
      "wrapper([ 1.204e-35  6.629e-03 ...  9.315e-01  9.120e-01]) = -0.027061972018831093\n",
      "assembly_constraint_no_mean([ 1.204e-35  6.629e-03 ...  9.315e-01  9.120e-01]) = [ 1.158e-02  2.826e-02 ...  1.041e-02  1.267e-02]\n"
     ]
    },
    {
     "data": {
      "application/vnd.jupyter.widget-view+json": {
       "model_id": "44c3d1577a4b43edb3fcc3ccb1e2bed6",
       "version_major": 2,
       "version_minor": 0
      },
      "text/plain": [
       "  0%|          | 0/10000 [00:00<?, ?it/s]"
      ]
     },
     "metadata": {},
     "output_type": "display_data"
    },
    {
     "name": "stdout",
     "output_type": "stream",
     "text": [
      "gld_params: [0.04370243 0.02402514 0.35559752 0.13910569]\n",
      "wrapper([ 4.108e-20  8.062e-03 ...  9.327e-01  9.112e-01]) = -0.027055550982146542\n",
      "assembly_constraint_no_mean([ 4.108e-20  8.062e-03 ...  9.327e-01  9.112e-01]) = [ 1.501e-02  1.504e-02 ...  1.508e-02  1.503e-02]\n",
      "\n",
      "New trust-region radius: 0.001.\n",
      "Number of function evaluations: 375.\n",
      "Number of iterations: 176.\n",
      "Least value of wrapper: -0.027055573678885877.\n",
      "Maximum constraint violation: 7.57270876715916e-05.\n",
      "Corresponding point: [ 1.369e-19  8.231e-03 ...  9.329e-01  9.111e-01].\n",
      "\n"
     ]
    },
    {
     "data": {
      "application/vnd.jupyter.widget-view+json": {
       "model_id": "79d01394e1fc4c87b72caa97383f7742",
       "version_major": 2,
       "version_minor": 0
      },
      "text/plain": [
       "  0%|          | 0/10000 [00:00<?, ?it/s]"
      ]
     },
     "metadata": {},
     "output_type": "display_data"
    },
    {
     "name": "stdout",
     "output_type": "stream",
     "text": [
      "gld_params: [0.0437032  0.02402435 0.35554614 0.13912983]\n",
      "wrapper([ 4.739e-20  7.814e-03 ...  9.326e-01  9.113e-01]) = -0.027054329906440175\n",
      "assembly_constraint_no_mean([ 4.739e-20  7.814e-03 ...  9.326e-01  9.113e-01]) = [ 1.500e-02  1.501e-02 ...  1.502e-02  1.501e-02]\n"
     ]
    },
    {
     "data": {
      "application/vnd.jupyter.widget-view+json": {
       "model_id": "bc0c6be510f8409f98740314b3f01490",
       "version_major": 2,
       "version_minor": 0
      },
      "text/plain": [
       "  0%|          | 0/10000 [00:00<?, ?it/s]"
      ]
     },
     "metadata": {},
     "output_type": "display_data"
    },
    {
     "name": "stdout",
     "output_type": "stream",
     "text": [
      "gld_params: [0.04370239 0.02402546 0.35561978 0.13909199]\n",
      "wrapper([ 0.000e+00  7.964e-03 ...  9.331e-01  9.108e-01]) = -0.027055785995458895\n",
      "assembly_constraint_no_mean([ 0.000e+00  7.964e-03 ...  9.331e-01  9.108e-01]) = [ 1.500e-02  1.502e-02 ...  1.502e-02  1.502e-02]\n"
     ]
    },
    {
     "data": {
      "application/vnd.jupyter.widget-view+json": {
       "model_id": "0aa9ecf346714e97a0065ac1d4bb9e01",
       "version_major": 2,
       "version_minor": 0
      },
      "text/plain": [
       "  0%|          | 0/10000 [00:00<?, ?it/s]"
      ]
     },
     "metadata": {},
     "output_type": "display_data"
    },
    {
     "name": "stdout",
     "output_type": "stream",
     "text": [
      "gld_params: [0.04369661 0.02402735 0.35558971 0.13914822]\n",
      "wrapper([ 1.470e-04  7.540e-03 ...  9.324e-01  9.113e-01]) = -0.027076026237619333\n",
      "assembly_constraint_no_mean([ 1.470e-04  7.540e-03 ...  9.324e-01  9.113e-01]) = [ 1.359e-02  1.610e-02 ...  2.048e-02  1.373e-02]\n"
     ]
    },
    {
     "data": {
      "application/vnd.jupyter.widget-view+json": {
       "model_id": "90a0effb4fee45f8b59aea31dfed6c46",
       "version_major": 2,
       "version_minor": 0
      },
      "text/plain": [
       "  0%|          | 0/10000 [00:00<?, ?it/s]"
      ]
     },
     "metadata": {},
     "output_type": "display_data"
    },
    {
     "name": "stdout",
     "output_type": "stream",
     "text": [
      "gld_params: [0.04370317 0.02402516 0.35557675 0.13911855]\n",
      "wrapper([ 2.438e-20  7.799e-03 ...  9.329e-01  9.110e-01]) = -0.02705497530405235\n",
      "assembly_constraint_no_mean([ 2.438e-20  7.799e-03 ...  9.329e-01  9.110e-01]) = [ 1.500e-02  1.501e-02 ...  1.500e-02  1.500e-02]\n"
     ]
    },
    {
     "data": {
      "application/vnd.jupyter.widget-view+json": {
       "model_id": "0682691f54324c33bb19c9288978275c",
       "version_major": 2,
       "version_minor": 0
      },
      "text/plain": [
       "  0%|          | 0/10000 [00:00<?, ?it/s]"
      ]
     },
     "metadata": {},
     "output_type": "display_data"
    },
    {
     "name": "stdout",
     "output_type": "stream",
     "text": [
      "gld_params: [0.04370249 0.02402584 0.3556312  0.13908839]\n",
      "wrapper([ 4.100e-27  7.944e-03 ...  9.333e-01  9.107e-01]) = -0.027055954178125792\n",
      "assembly_constraint_no_mean([ 4.100e-27  7.944e-03 ...  9.333e-01  9.107e-01]) = [ 1.500e-02  1.501e-02 ...  1.501e-02  1.501e-02]\n"
     ]
    },
    {
     "data": {
      "application/vnd.jupyter.widget-view+json": {
       "model_id": "37b574c58e7b4f43b290794e83251f67",
       "version_major": 2,
       "version_minor": 0
      },
      "text/plain": [
       "  0%|          | 0/10000 [00:00<?, ?it/s]"
      ]
     },
     "metadata": {},
     "output_type": "display_data"
    },
    {
     "name": "stdout",
     "output_type": "stream",
     "text": [
      "gld_params: [0.04370079 0.02402663 0.35557177 0.13912211]\n",
      "wrapper([ 0.000e+00  7.584e-03 ...  9.330e-01  9.115e-01]) = -0.027069402271981666\n",
      "assembly_constraint_no_mean([ 0.000e+00  7.584e-03 ...  9.330e-01  9.115e-01]) = [ 1.229e-02  1.984e-02 ...  1.651e-02  1.796e-02]\n"
     ]
    },
    {
     "data": {
      "application/vnd.jupyter.widget-view+json": {
       "model_id": "be77ef24973d4bc7b9834ad9553287a1",
       "version_major": 2,
       "version_minor": 0
      },
      "text/plain": [
       "  0%|          | 0/10000 [00:00<?, ?it/s]"
      ]
     },
     "metadata": {},
     "output_type": "display_data"
    },
    {
     "name": "stdout",
     "output_type": "stream",
     "text": [
      "gld_params: [0.04370304 0.0240257  0.35560039 0.13910888]\n",
      "wrapper([ 4.100e-27  7.724e-03 ...  9.330e-01  9.110e-01]) = -0.027055448930389987\n",
      "assembly_constraint_no_mean([ 4.100e-27  7.724e-03 ...  9.330e-01  9.110e-01]) = [ 1.500e-02  1.500e-02 ...  1.500e-02  1.500e-02]\n"
     ]
    },
    {
     "data": {
      "application/vnd.jupyter.widget-view+json": {
       "model_id": "66fd8ec77bb0490585802d746e87a4fc",
       "version_major": 2,
       "version_minor": 0
      },
      "text/plain": [
       "  0%|          | 0/10000 [00:00<?, ?it/s]"
      ]
     },
     "metadata": {},
     "output_type": "display_data"
    },
    {
     "name": "stdout",
     "output_type": "stream",
     "text": [
      "gld_params: [0.04370266 0.02402635 0.35563835 0.13909129]\n",
      "wrapper([ 7.325e-21  7.714e-03 ...  9.332e-01  9.108e-01]) = -0.027056114400195598\n",
      "assembly_constraint_no_mean([ 7.325e-21  7.714e-03 ...  9.332e-01  9.108e-01]) = [ 1.500e-02  1.501e-02 ...  1.500e-02  1.501e-02]\n"
     ]
    },
    {
     "data": {
      "application/vnd.jupyter.widget-view+json": {
       "model_id": "4b19d5a2d3eb4bcea36db291f480b5ec",
       "version_major": 2,
       "version_minor": 0
      },
      "text/plain": [
       "  0%|          | 0/10000 [00:00<?, ?it/s]"
      ]
     },
     "metadata": {},
     "output_type": "display_data"
    },
    {
     "name": "stdout",
     "output_type": "stream",
     "text": [
      "gld_params: [0.04370095 0.02402715 0.35561057 0.13913295]\n",
      "wrapper([ 2.931e-04  7.706e-03 ...  9.329e-01  9.108e-01]) = -0.027061876324364107\n",
      "assembly_constraint_no_mean([ 2.931e-04  7.706e-03 ...  9.329e-01  9.108e-01]) = [ 1.503e-02  1.558e-02 ...  1.656e-02  1.372e-02]\n"
     ]
    },
    {
     "data": {
      "application/vnd.jupyter.widget-view+json": {
       "model_id": "4bbe23dd9e3f4a66bf03a1315fb68f96",
       "version_major": 2,
       "version_minor": 0
      },
      "text/plain": [
       "  0%|          | 0/10000 [00:00<?, ?it/s]"
      ]
     },
     "metadata": {},
     "output_type": "display_data"
    },
    {
     "name": "stdout",
     "output_type": "stream",
     "text": [
      "gld_params: [0.04370302 0.02402588 0.35561413 0.13909962]\n",
      "wrapper([ 4.100e-27  7.655e-03 ...  9.331e-01  9.109e-01]) = -0.027055692031730524\n",
      "assembly_constraint_no_mean([ 4.100e-27  7.655e-03 ...  9.331e-01  9.109e-01]) = [ 1.500e-02  1.500e-02 ...  1.500e-02  1.500e-02]\n"
     ]
    },
    {
     "data": {
      "application/vnd.jupyter.widget-view+json": {
       "model_id": "d54e8541cf9041b7a1bb79e6139dbdc4",
       "version_major": 2,
       "version_minor": 0
      },
      "text/plain": [
       "  0%|          | 0/10000 [00:00<?, ?it/s]"
      ]
     },
     "metadata": {},
     "output_type": "display_data"
    },
    {
     "name": "stdout",
     "output_type": "stream",
     "text": [
      "gld_params: [0.04370273 0.02402633 0.35563588 0.13909249]\n",
      "wrapper([ 4.100e-27  7.612e-03 ...  9.332e-01  9.108e-01]) = -0.027056043285256463\n",
      "assembly_constraint_no_mean([ 4.100e-27  7.612e-03 ...  9.332e-01  9.108e-01]) = [ 1.500e-02  1.500e-02 ...  1.500e-02  1.500e-02]\n"
     ]
    },
    {
     "data": {
      "application/vnd.jupyter.widget-view+json": {
       "model_id": "e240fb44b5e242a482138a8e95ba4a45",
       "version_major": 2,
       "version_minor": 0
      },
      "text/plain": [
       "  0%|          | 0/10000 [00:00<?, ?it/s]"
      ]
     },
     "metadata": {},
     "output_type": "display_data"
    },
    {
     "name": "stdout",
     "output_type": "stream",
     "text": [
      "gld_params: [0.04370601 0.02402533 0.35559543 0.13912014]\n",
      "wrapper([ 6.402e-04  7.690e-03 ...  9.328e-01  9.109e-01]) = -0.027043869929136717\n",
      "assembly_constraint_no_mean([ 6.402e-04  7.690e-03 ...  9.328e-01  9.109e-01]) = [ 1.548e-02  1.242e-02 ...  1.449e-02  1.342e-02]\n"
     ]
    },
    {
     "data": {
      "application/vnd.jupyter.widget-view+json": {
       "model_id": "034f46c95e2f4043b90ebc79d622f9d2",
       "version_major": 2,
       "version_minor": 0
      },
      "text/plain": [
       "  0%|          | 0/10000 [00:00<?, ?it/s]"
      ]
     },
     "metadata": {},
     "output_type": "display_data"
    },
    {
     "name": "stdout",
     "output_type": "stream",
     "text": [
      "gld_params: [0.04370293 0.02402615 0.35562842 0.13909287]\n",
      "wrapper([ 4.100e-27  7.642e-03 ...  9.332e-01  9.108e-01]) = -0.027055958786464024\n",
      "assembly_constraint_no_mean([ 4.100e-27  7.642e-03 ...  9.332e-01  9.108e-01]) = [ 1.500e-02  1.500e-02 ...  1.500e-02  1.500e-02]\n"
     ]
    },
    {
     "data": {
      "application/vnd.jupyter.widget-view+json": {
       "model_id": "f8481402cc014292a3615c46ff0fd6b8",
       "version_major": 2,
       "version_minor": 0
      },
      "text/plain": [
       "  0%|          | 0/10000 [00:00<?, ?it/s]"
      ]
     },
     "metadata": {},
     "output_type": "display_data"
    },
    {
     "name": "stdout",
     "output_type": "stream",
     "text": [
      "gld_params: [0.04370292 0.02402668 0.35564534 0.13908855]\n",
      "wrapper([ 9.179e-22  7.621e-03 ...  9.334e-01  9.106e-01]) = -0.0270563008856912\n",
      "assembly_constraint_no_mean([ 9.179e-22  7.621e-03 ...  9.334e-01  9.106e-01]) = [ 1.500e-02  1.500e-02 ...  1.500e-02  1.500e-02]\n"
     ]
    },
    {
     "data": {
      "application/vnd.jupyter.widget-view+json": {
       "model_id": "2bdbd280777948d6a1448e8e3d48c2f0",
       "version_major": 2,
       "version_minor": 0
      },
      "text/plain": [
       "  0%|          | 0/10000 [00:00<?, ?it/s]"
      ]
     },
     "metadata": {},
     "output_type": "display_data"
    },
    {
     "name": "stdout",
     "output_type": "stream",
     "text": [
      "gld_params: [0.04370067 0.02402742 0.35561681 0.13910045]\n",
      "wrapper([ 1.662e-04  7.685e-03 ...  9.336e-01  9.114e-01]) = -0.027069471405806678\n",
      "assembly_constraint_no_mean([ 1.662e-04  7.685e-03 ...  9.336e-01  9.114e-01]) = [ 1.560e-02  1.523e-02 ...  1.351e-02  2.099e-02]\n"
     ]
    },
    {
     "data": {
      "application/vnd.jupyter.widget-view+json": {
       "model_id": "d0b7025de0cd4a32a537b433ca112348",
       "version_major": 2,
       "version_minor": 0
      },
      "text/plain": [
       "  0%|          | 0/10000 [00:00<?, ?it/s]"
      ]
     },
     "metadata": {},
     "output_type": "display_data"
    },
    {
     "name": "stdout",
     "output_type": "stream",
     "text": [
      "gld_params: [0.0437029  0.02402633 0.35564023 0.13908534]\n",
      "wrapper([ 1.441e-21  7.632e-03 ...  9.333e-01  9.106e-01]) = -0.02705619778405663\n",
      "assembly_constraint_no_mean([ 1.441e-21  7.632e-03 ...  9.333e-01  9.106e-01]) = [ 1.500e-02  1.500e-02 ...  1.500e-02  1.500e-02]\n"
     ]
    },
    {
     "data": {
      "application/vnd.jupyter.widget-view+json": {
       "model_id": "50663541b7fa4dd9b7a55afdba178e6d",
       "version_major": 2,
       "version_minor": 0
      },
      "text/plain": [
       "  0%|          | 0/10000 [00:00<?, ?it/s]"
      ]
     },
     "metadata": {},
     "output_type": "display_data"
    },
    {
     "name": "stdout",
     "output_type": "stream",
     "text": [
      "gld_params: [0.04370598 0.02402438 0.35564266 0.13908182]\n",
      "wrapper([ 0.000e+00  7.470e-03 ...  9.331e-01  9.108e-01]) = -0.0270378047353848\n",
      "assembly_constraint_no_mean([ 0.000e+00  7.470e-03 ...  9.331e-01  9.108e-01]) = [ 1.413e-02  1.570e-02 ...  1.274e-02  1.490e-02]\n"
     ]
    },
    {
     "data": {
      "application/vnd.jupyter.widget-view+json": {
       "model_id": "fa942ab0bf2647578aae626fa1529082",
       "version_major": 2,
       "version_minor": 0
      },
      "text/plain": [
       "  0%|          | 0/10000 [00:00<?, ?it/s]"
      ]
     },
     "metadata": {},
     "output_type": "display_data"
    },
    {
     "name": "stdout",
     "output_type": "stream",
     "text": [
      "gld_params: [0.04370287 0.02402634 0.35564091 0.13908547]\n",
      "wrapper([ 5.603e-20  7.656e-03 ...  9.333e-01  9.106e-01]) = -0.02705614462651078\n",
      "assembly_constraint_no_mean([ 5.603e-20  7.656e-03 ...  9.333e-01  9.106e-01]) = [ 1.500e-02  1.500e-02 ...  1.500e-02  1.500e-02]\n"
     ]
    },
    {
     "data": {
      "application/vnd.jupyter.widget-view+json": {
       "model_id": "64f351060a584fc7b676169e6a17a82b",
       "version_major": 2,
       "version_minor": 0
      },
      "text/plain": [
       "  0%|          | 0/10000 [00:00<?, ?it/s]"
      ]
     },
     "metadata": {},
     "output_type": "display_data"
    },
    {
     "name": "stdout",
     "output_type": "stream",
     "text": [
      "gld_params: [0.04370361 0.02402552 0.35562737 0.13908857]\n",
      "wrapper([ 0.000e+00  7.885e-03 ...  9.328e-01  9.108e-01]) = -0.027051854006283987\n",
      "assembly_constraint_no_mean([ 0.000e+00  7.885e-03 ...  9.328e-01  9.108e-01]) = [ 1.586e-02  1.530e-02 ...  1.230e-02  1.311e-02]\n"
     ]
    },
    {
     "data": {
      "application/vnd.jupyter.widget-view+json": {
       "model_id": "c89054b8415c4a9c8d6418eda6e9dbc6",
       "version_major": 2,
       "version_minor": 0
      },
      "text/plain": [
       "  0%|          | 0/10000 [00:00<?, ?it/s]"
      ]
     },
     "metadata": {},
     "output_type": "display_data"
    },
    {
     "name": "stdout",
     "output_type": "stream",
     "text": [
      "gld_params: [0.04370276 0.02402624 0.35564105 0.13908444]\n",
      "wrapper([ 4.557e-21  7.756e-03 ...  9.330e-01  9.110e-01]) = -0.027056150740082233\n",
      "assembly_constraint_no_mean([ 4.557e-21  7.756e-03 ...  9.330e-01  9.110e-01]) = [ 1.500e-02  1.500e-02 ...  1.500e-02  1.500e-02]\n"
     ]
    },
    {
     "data": {
      "application/vnd.jupyter.widget-view+json": {
       "model_id": "bfb6c9c14a664555b31ef62559306409",
       "version_major": 2,
       "version_minor": 0
      },
      "text/plain": [
       "  0%|          | 0/10000 [00:00<?, ?it/s]"
      ]
     },
     "metadata": {},
     "output_type": "display_data"
    },
    {
     "name": "stdout",
     "output_type": "stream",
     "text": [
      "gld_params: [0.04370158 0.02402635 0.35564341 0.13907858]\n",
      "wrapper([ 0.000e+00  7.289e-03 ...  9.333e-01  9.107e-01]) = -0.027060767492288765\n",
      "assembly_constraint_no_mean([ 0.000e+00  7.289e-03 ...  9.333e-01  9.107e-01]) = [ 1.517e-02  1.460e-02 ...  1.382e-02  1.525e-02]\n"
     ]
    },
    {
     "data": {
      "application/vnd.jupyter.widget-view+json": {
       "model_id": "12aacb9190e9470792ff3748176c55db",
       "version_major": 2,
       "version_minor": 0
      },
      "text/plain": [
       "  0%|          | 0/10000 [00:00<?, ?it/s]"
      ]
     },
     "metadata": {},
     "output_type": "display_data"
    },
    {
     "name": "stdout",
     "output_type": "stream",
     "text": [
      "gld_params: [0.04370279 0.02402657 0.35564501 0.13908837]\n",
      "wrapper([ 0.000e+00  7.380e-03 ...  9.332e-01  9.107e-01]) = -0.0270561560556945\n",
      "assembly_constraint_no_mean([ 0.000e+00  7.380e-03 ...  9.332e-01  9.107e-01]) = [ 1.500e-02  1.500e-02 ...  1.500e-02  1.500e-02]\n"
     ]
    },
    {
     "data": {
      "application/vnd.jupyter.widget-view+json": {
       "model_id": "2b25f3f037224754a2c2e1888d684a05",
       "version_major": 2,
       "version_minor": 0
      },
      "text/plain": [
       "  0%|          | 0/10000 [00:00<?, ?it/s]"
      ]
     },
     "metadata": {},
     "output_type": "display_data"
    },
    {
     "name": "stdout",
     "output_type": "stream",
     "text": [
      "gld_params: [0.04370567 0.02402537 0.35562306 0.13909948]\n",
      "wrapper([ 1.078e-04  7.550e-03 ...  9.330e-01  9.107e-01]) = -0.027043933637108483\n",
      "assembly_constraint_no_mean([ 1.078e-04  7.550e-03 ...  9.330e-01  9.107e-01]) = [ 1.088e-02  1.609e-02 ...  1.058e-02  1.366e-02]\n"
     ]
    },
    {
     "data": {
      "application/vnd.jupyter.widget-view+json": {
       "model_id": "b739f66c95fa49d6aa2e5b441923275d",
       "version_major": 2,
       "version_minor": 0
      },
      "text/plain": [
       "  0%|          | 0/10000 [00:00<?, ?it/s]"
      ]
     },
     "metadata": {},
     "output_type": "display_data"
    },
    {
     "name": "stdout",
     "output_type": "stream",
     "text": [
      "gld_params: [0.043703   0.02402639 0.35563484 0.13909058]\n",
      "wrapper([ 3.049e-21  7.669e-03 ...  9.333e-01  9.107e-01]) = -0.027056186194913488\n",
      "assembly_constraint_no_mean([ 3.049e-21  7.669e-03 ...  9.333e-01  9.107e-01]) = [ 1.500e-02  1.500e-02 ...  1.500e-02  1.500e-02]\n"
     ]
    },
    {
     "data": {
      "application/vnd.jupyter.widget-view+json": {
       "model_id": "f8e388d287234d8e972a97a35856af07",
       "version_major": 2,
       "version_minor": 0
      },
      "text/plain": [
       "  0%|          | 0/10000 [00:00<?, ?it/s]"
      ]
     },
     "metadata": {},
     "output_type": "display_data"
    },
    {
     "name": "stdout",
     "output_type": "stream",
     "text": [
      "gld_params: [0.04370182 0.02402744 0.35562361 0.13911964]\n",
      "wrapper([ 1.680e-04  7.546e-03 ...  9.333e-01  9.107e-01]) = -0.02706110694012582\n",
      "assembly_constraint_no_mean([ 1.680e-04  7.546e-03 ...  9.333e-01  9.107e-01]) = [ 1.148e-02  1.461e-02 ...  1.625e-02  1.517e-02]\n"
     ]
    },
    {
     "data": {
      "application/vnd.jupyter.widget-view+json": {
       "model_id": "0e76a542852e442daa9a413c20d86bea",
       "version_major": 2,
       "version_minor": 0
      },
      "text/plain": [
       "  0%|          | 0/10000 [00:00<?, ?it/s]"
      ]
     },
     "metadata": {},
     "output_type": "display_data"
    },
    {
     "name": "stdout",
     "output_type": "stream",
     "text": [
      "gld_params: [0.04370317 0.02402651 0.35563354 0.13909253]\n",
      "wrapper([ 3.165e-21  7.808e-03 ...  9.333e-01  9.107e-01]) = -0.027056203135066674\n",
      "assembly_constraint_no_mean([ 3.165e-21  7.808e-03 ...  9.333e-01  9.107e-01]) = [ 1.500e-02  1.500e-02 ...  1.500e-02  1.500e-02]\n"
     ]
    },
    {
     "data": {
      "application/vnd.jupyter.widget-view+json": {
       "model_id": "d891c30f4ac24f45ab54f1d323715b5e",
       "version_major": 2,
       "version_minor": 0
      },
      "text/plain": [
       "  0%|          | 0/10000 [00:00<?, ?it/s]"
      ]
     },
     "metadata": {},
     "output_type": "display_data"
    },
    {
     "name": "stdout",
     "output_type": "stream",
     "text": [
      "gld_params: [0.04370239 0.02402664 0.35562939 0.13910213]\n",
      "wrapper([ 3.530e-05  7.625e-03 ...  9.331e-01  9.106e-01]) = -0.027057876774223912\n",
      "assembly_constraint_no_mean([ 3.530e-05  7.625e-03 ...  9.331e-01  9.106e-01]) = [ 1.649e-02  1.224e-02 ...  1.468e-02  1.351e-02]\n"
     ]
    },
    {
     "data": {
      "application/vnd.jupyter.widget-view+json": {
       "model_id": "1d8927b81d68467481ea24a99921a055",
       "version_major": 2,
       "version_minor": 0
      },
      "text/plain": [
       "  0%|          | 0/10000 [00:00<?, ?it/s]"
      ]
     },
     "metadata": {},
     "output_type": "display_data"
    },
    {
     "name": "stdout",
     "output_type": "stream",
     "text": [
      "gld_params: [0.04370285 0.02402648 0.35564034 0.13908974]\n",
      "wrapper([ 3.189e-21  7.646e-03 ...  9.333e-01  9.106e-01]) = -0.02705618879972677\n",
      "assembly_constraint_no_mean([ 3.189e-21  7.646e-03 ...  9.333e-01  9.106e-01]) = [ 1.500e-02  1.500e-02 ...  1.500e-02  1.500e-02]\n"
     ]
    },
    {
     "data": {
      "application/vnd.jupyter.widget-view+json": {
       "model_id": "3cd6dd3914b24c26b051d7efef06ec05",
       "version_major": 2,
       "version_minor": 0
      },
      "text/plain": [
       "  0%|          | 0/10000 [00:00<?, ?it/s]"
      ]
     },
     "metadata": {},
     "output_type": "display_data"
    },
    {
     "name": "stdout",
     "output_type": "stream",
     "text": [
      "gld_params: [0.04370356 0.02402556 0.35565122 0.13909097]\n",
      "wrapper([ 7.175e-43  7.782e-03 ...  9.332e-01  9.109e-01]) = -0.027047117383121603\n",
      "assembly_constraint_no_mean([ 7.175e-43  7.782e-03 ...  9.332e-01  9.109e-01]) = [ 1.536e-02  1.319e-02 ...  1.352e-02  1.578e-02]\n"
     ]
    },
    {
     "data": {
      "application/vnd.jupyter.widget-view+json": {
       "model_id": "dbf3544cf4654c97900ff3fa263185ce",
       "version_major": 2,
       "version_minor": 0
      },
      "text/plain": [
       "  0%|          | 0/10000 [00:00<?, ?it/s]"
      ]
     },
     "metadata": {},
     "output_type": "display_data"
    },
    {
     "name": "stdout",
     "output_type": "stream",
     "text": [
      "gld_params: [0.0437029  0.02402657 0.35563633 0.13909498]\n",
      "wrapper([ 6.467e-21  7.619e-03 ...  9.332e-01  9.107e-01]) = -0.027056193209816837\n",
      "assembly_constraint_no_mean([ 6.467e-21  7.619e-03 ...  9.332e-01  9.107e-01]) = [ 1.500e-02  1.500e-02 ...  1.500e-02  1.500e-02]\n"
     ]
    },
    {
     "data": {
      "application/vnd.jupyter.widget-view+json": {
       "model_id": "c8db8e458d5443e39614247ab8a01b7a",
       "version_major": 2,
       "version_minor": 0
      },
      "text/plain": [
       "  0%|          | 0/10000 [00:00<?, ?it/s]"
      ]
     },
     "metadata": {},
     "output_type": "display_data"
    },
    {
     "name": "stdout",
     "output_type": "stream",
     "text": [
      "gld_params: [0.04370305 0.02402711 0.35564606 0.13909587]\n",
      "wrapper([ 2.902e-20  7.670e-03 ...  9.334e-01  9.105e-01]) = -0.02705645817099135\n",
      "assembly_constraint_no_mean([ 2.902e-20  7.670e-03 ...  9.334e-01  9.105e-01]) = [ 1.500e-02  1.500e-02 ...  1.500e-02  1.500e-02]\n"
     ]
    },
    {
     "data": {
      "application/vnd.jupyter.widget-view+json": {
       "model_id": "a7f83d66e99948d580404b280eb7b92c",
       "version_major": 2,
       "version_minor": 0
      },
      "text/plain": [
       "  0%|          | 0/10000 [00:00<?, ?it/s]"
      ]
     },
     "metadata": {},
     "output_type": "display_data"
    },
    {
     "name": "stdout",
     "output_type": "stream",
     "text": [
      "gld_params: [0.04370109 0.02402702 0.35564376 0.13908565]\n",
      "wrapper([ 3.055e-05  7.504e-03 ...  9.333e-01  9.107e-01]) = -0.02706408066721452\n",
      "assembly_constraint_no_mean([ 3.055e-05  7.504e-03 ...  9.333e-01  9.107e-01]) = [ 1.727e-02  1.605e-02 ...  1.473e-02  1.512e-02]\n"
     ]
    },
    {
     "data": {
      "application/vnd.jupyter.widget-view+json": {
       "model_id": "3f73aa488fc14a0caa3eb86c25af767a",
       "version_major": 2,
       "version_minor": 0
      },
      "text/plain": [
       "  0%|          | 0/10000 [00:00<?, ?it/s]"
      ]
     },
     "metadata": {},
     "output_type": "display_data"
    },
    {
     "name": "stdout",
     "output_type": "stream",
     "text": [
      "gld_params: [0.04370306 0.02402684 0.3556408  0.13909435]\n",
      "wrapper([ 1.344e-20  7.789e-03 ...  9.332e-01  9.108e-01]) = -0.027056416324936782\n",
      "assembly_constraint_no_mean([ 1.344e-20  7.789e-03 ...  9.332e-01  9.108e-01]) = [ 1.500e-02  1.500e-02 ...  1.500e-02  1.500e-02]\n"
     ]
    },
    {
     "data": {
      "application/vnd.jupyter.widget-view+json": {
       "model_id": "61ba2e3dad9a462790bddf452930e5f1",
       "version_major": 2,
       "version_minor": 0
      },
      "text/plain": [
       "  0%|          | 0/10000 [00:00<?, ?it/s]"
      ]
     },
     "metadata": {},
     "output_type": "display_data"
    },
    {
     "name": "stdout",
     "output_type": "stream",
     "text": [
      "gld_params: [0.04370282 0.02402701 0.35562597 0.13910411]\n",
      "wrapper([ 2.572e-04  7.951e-03 ...  9.334e-01  9.106e-01]) = -0.027058839257726366\n",
      "assembly_constraint_no_mean([ 2.572e-04  7.951e-03 ...  9.334e-01  9.106e-01]) = [ 1.562e-02  1.452e-02 ...  1.415e-02  1.524e-02]\n"
     ]
    },
    {
     "data": {
      "application/vnd.jupyter.widget-view+json": {
       "model_id": "3fe95f8d7254417f87813c37758b830b",
       "version_major": 2,
       "version_minor": 0
      },
      "text/plain": [
       "  0%|          | 0/10000 [00:00<?, ?it/s]"
      ]
     },
     "metadata": {},
     "output_type": "display_data"
    },
    {
     "name": "stdout",
     "output_type": "stream",
     "text": [
      "gld_params: [0.04370306 0.02402671 0.35564445 0.13908746]\n",
      "wrapper([ 2.794e-20  7.596e-03 ...  9.332e-01  9.107e-01]) = -0.027056428707198328\n",
      "assembly_constraint_no_mean([ 2.794e-20  7.596e-03 ...  9.332e-01  9.107e-01]) = [ 1.500e-02  1.500e-02 ...  1.500e-02  1.500e-02]\n"
     ]
    },
    {
     "data": {
      "application/vnd.jupyter.widget-view+json": {
       "model_id": "a9d8df5fdcc24852aafbb8e3d20aa476",
       "version_major": 2,
       "version_minor": 0
      },
      "text/plain": [
       "  0%|          | 0/10000 [00:00<?, ?it/s]"
      ]
     },
     "metadata": {},
     "output_type": "display_data"
    },
    {
     "name": "stdout",
     "output_type": "stream",
     "text": [
      "gld_params: [0.04370195 0.02402679 0.35563259 0.1390933 ]\n",
      "wrapper([ 0.000e+00  7.544e-03 ...  9.332e-01  9.108e-01]) = -0.02706109524475994\n",
      "assembly_constraint_no_mean([ 0.000e+00  7.544e-03 ...  9.332e-01  9.108e-01]) = [ 1.396e-02  1.802e-02 ...  1.579e-02  1.505e-02]\n"
     ]
    },
    {
     "data": {
      "application/vnd.jupyter.widget-view+json": {
       "model_id": "90a854e80fd94e4da7824960c3dbf524",
       "version_major": 2,
       "version_minor": 0
      },
      "text/plain": [
       "  0%|          | 0/10000 [00:00<?, ?it/s]"
      ]
     },
     "metadata": {},
     "output_type": "display_data"
    },
    {
     "name": "stdout",
     "output_type": "stream",
     "text": [
      "gld_params: [0.04370315 0.0240268  0.35564201 0.13909087]\n",
      "wrapper([ 3.052e-20  7.598e-03 ...  9.332e-01  9.107e-01]) = -0.027056434799870653\n",
      "assembly_constraint_no_mean([ 3.052e-20  7.598e-03 ...  9.332e-01  9.107e-01]) = [ 1.500e-02  1.500e-02 ...  1.500e-02  1.500e-02]\n"
     ]
    },
    {
     "data": {
      "application/vnd.jupyter.widget-view+json": {
       "model_id": "ccfd37f99e7d48a19a6e3dbb76a6eb3e",
       "version_major": 2,
       "version_minor": 0
      },
      "text/plain": [
       "  0%|          | 0/10000 [00:00<?, ?it/s]"
      ]
     },
     "metadata": {},
     "output_type": "display_data"
    },
    {
     "name": "stdout",
     "output_type": "stream",
     "text": [
      "gld_params: [0.04370253 0.02402789 0.35563685 0.13912805]\n",
      "wrapper([ 4.342e-04  7.588e-03 ...  9.335e-01  9.107e-01]) = -0.027057114926175102\n",
      "assembly_constraint_no_mean([ 4.342e-04  7.588e-03 ...  9.335e-01  9.107e-01]) = [ 1.414e-02  1.666e-02 ...  1.568e-02  1.635e-02]\n"
     ]
    },
    {
     "data": {
      "application/vnd.jupyter.widget-view+json": {
       "model_id": "8652f79923ae4e4bb80048f938bcece7",
       "version_major": 2,
       "version_minor": 0
      },
      "text/plain": [
       "  0%|          | 0/10000 [00:00<?, ?it/s]"
      ]
     },
     "metadata": {},
     "output_type": "display_data"
    },
    {
     "name": "stdout",
     "output_type": "stream",
     "text": [
      "gld_params: [0.04370296 0.02402699 0.35564297 0.13909761]\n",
      "wrapper([ 0.000e+00  7.688e-03 ...  9.334e-01  9.106e-01]) = -0.027056390793938515\n",
      "assembly_constraint_no_mean([ 0.000e+00  7.688e-03 ...  9.334e-01  9.106e-01]) = [ 1.500e-02  1.500e-02 ...  1.500e-02  1.500e-02]\n"
     ]
    },
    {
     "data": {
      "application/vnd.jupyter.widget-view+json": {
       "model_id": "8e691e64c80842b8b7bea2055c1c53b4",
       "version_major": 2,
       "version_minor": 0
      },
      "text/plain": [
       "  0%|          | 0/10000 [00:00<?, ?it/s]"
      ]
     },
     "metadata": {},
     "output_type": "display_data"
    },
    {
     "name": "stdout",
     "output_type": "stream",
     "text": [
      "gld_params: [0.04370651 0.02402558 0.35562396 0.13910536]\n",
      "wrapper([ 9.287e-05  7.673e-03 ...  9.331e-01  9.109e-01]) = -0.02704127431963802\n",
      "assembly_constraint_no_mean([ 9.287e-05  7.673e-03 ...  9.331e-01  9.109e-01]) = [ 1.271e-02  1.089e-02 ...  1.496e-02  1.496e-02]\n"
     ]
    },
    {
     "data": {
      "application/vnd.jupyter.widget-view+json": {
       "model_id": "a2303923ee7b49d296c891ed9278fdc2",
       "version_major": 2,
       "version_minor": 0
      },
      "text/plain": [
       "  0%|          | 0/10000 [00:00<?, ?it/s]"
      ]
     },
     "metadata": {},
     "output_type": "display_data"
    },
    {
     "name": "stdout",
     "output_type": "stream",
     "text": [
      "gld_params: [0.04370294 0.02402682 0.35564694 0.13908968]\n",
      "wrapper([ 6.118e-29  7.492e-03 ...  9.332e-01  9.107e-01]) = -0.02705641056173086\n",
      "assembly_constraint_no_mean([ 6.118e-29  7.492e-03 ...  9.332e-01  9.107e-01]) = [ 1.500e-02  1.500e-02 ...  1.500e-02  1.500e-02]\n"
     ]
    },
    {
     "data": {
      "application/vnd.jupyter.widget-view+json": {
       "model_id": "c61fd6594e8d4359bd350da0be03be83",
       "version_major": 2,
       "version_minor": 0
      },
      "text/plain": [
       "  0%|          | 0/10000 [00:00<?, ?it/s]"
      ]
     },
     "metadata": {},
     "output_type": "display_data"
    },
    {
     "name": "stdout",
     "output_type": "stream",
     "text": [
      "gld_params: [0.04370405 0.02402661 0.35562261 0.13911726]\n",
      "wrapper([ 4.185e-04  7.559e-03 ...  9.331e-01  9.106e-01]) = -0.02705126505672457\n",
      "assembly_constraint_no_mean([ 4.185e-04  7.559e-03 ...  9.331e-01  9.106e-01]) = [ 1.527e-02  1.313e-02 ...  1.439e-02  1.375e-02]\n"
     ]
    },
    {
     "data": {
      "application/vnd.jupyter.widget-view+json": {
       "model_id": "7b6db831ba6749d0b636323a2e180d9a",
       "version_major": 2,
       "version_minor": 0
      },
      "text/plain": [
       "  0%|          | 0/10000 [00:00<?, ?it/s]"
      ]
     },
     "metadata": {},
     "output_type": "display_data"
    },
    {
     "name": "stdout",
     "output_type": "stream",
     "text": [
      "gld_params: [0.04370327 0.02402683 0.35563804 0.13909373]\n",
      "wrapper([ 6.118e-29  7.535e-03 ...  9.332e-01  9.108e-01]) = -0.027056424831401492\n",
      "assembly_constraint_no_mean([ 6.118e-29  7.535e-03 ...  9.332e-01  9.108e-01]) = [ 1.500e-02  1.500e-02 ...  1.500e-02  1.500e-02]\n"
     ]
    },
    {
     "data": {
      "application/vnd.jupyter.widget-view+json": {
       "model_id": "828aabca22bf42e69367864e29038f09",
       "version_major": 2,
       "version_minor": 0
      },
      "text/plain": [
       "  0%|          | 0/10000 [00:00<?, ?it/s]"
      ]
     },
     "metadata": {},
     "output_type": "display_data"
    },
    {
     "name": "stdout",
     "output_type": "stream",
     "text": [
      "gld_params: [0.04370384 0.0240272  0.35564314 0.13908892]\n",
      "wrapper([ 4.967e-20  7.519e-03 ...  9.332e-01  9.108e-01]) = -0.027056707534146855\n",
      "assembly_constraint_no_mean([ 4.967e-20  7.519e-03 ...  9.332e-01  9.108e-01]) = [ 1.500e-02  1.500e-02 ...  1.500e-02  1.500e-02]\n"
     ]
    },
    {
     "data": {
      "application/vnd.jupyter.widget-view+json": {
       "model_id": "564ebe5d64ba42308a3670f377aa8af7",
       "version_major": 2,
       "version_minor": 0
      },
      "text/plain": [
       "  0%|          | 0/10000 [00:00<?, ?it/s]"
      ]
     },
     "metadata": {},
     "output_type": "display_data"
    },
    {
     "name": "stdout",
     "output_type": "stream",
     "text": [
      "gld_params: [0.04370377 0.02402641 0.35562926 0.13909153]\n",
      "wrapper([ 1.822e-04  7.679e-03 ...  9.336e-01  9.111e-01]) = -0.027055012408162212\n",
      "assembly_constraint_no_mean([ 1.822e-04  7.679e-03 ...  9.336e-01  9.111e-01]) = [ 1.659e-02  1.584e-02 ...  1.213e-02  1.914e-02]\n"
     ]
    },
    {
     "data": {
      "application/vnd.jupyter.widget-view+json": {
       "model_id": "cdda44319cba465ba36154922c4fd168",
       "version_major": 2,
       "version_minor": 0
      },
      "text/plain": [
       "  0%|          | 0/10000 [00:00<?, ?it/s]"
      ]
     },
     "metadata": {},
     "output_type": "display_data"
    },
    {
     "name": "stdout",
     "output_type": "stream",
     "text": [
      "gld_params: [0.04370343 0.02402698 0.35564376 0.13908883]\n",
      "wrapper([ 3.560e-20  7.379e-03 ...  9.332e-01  9.107e-01]) = -0.027056629115539958\n",
      "assembly_constraint_no_mean([ 3.560e-20  7.379e-03 ...  9.332e-01  9.107e-01]) = [ 1.500e-02  1.500e-02 ...  1.500e-02  1.500e-02]\n"
     ]
    },
    {
     "data": {
      "application/vnd.jupyter.widget-view+json": {
       "model_id": "7431b2afaaa74906830634a31a64ce07",
       "version_major": 2,
       "version_minor": 0
      },
      "text/plain": [
       "  0%|          | 0/10000 [00:00<?, ?it/s]"
      ]
     },
     "metadata": {},
     "output_type": "display_data"
    },
    {
     "name": "stdout",
     "output_type": "stream",
     "text": [
      "gld_params: [0.04370781 0.02402547 0.35562874 0.13911114]\n",
      "wrapper([ 4.430e-04  7.552e-03 ...  9.328e-01  9.106e-01]) = -0.027034917607457763\n",
      "assembly_constraint_no_mean([ 4.430e-04  7.552e-03 ...  9.328e-01  9.106e-01]) = [ 1.313e-02  1.334e-02 ...  1.153e-02  1.170e-02]\n"
     ]
    },
    {
     "data": {
      "application/vnd.jupyter.widget-view+json": {
       "model_id": "3464bbd440b847088cf9b790f170007c",
       "version_major": 2,
       "version_minor": 0
      },
      "text/plain": [
       "  0%|          | 0/10000 [00:00<?, ?it/s]"
      ]
     },
     "metadata": {},
     "output_type": "display_data"
    },
    {
     "name": "stdout",
     "output_type": "stream",
     "text": [
      "gld_params: [0.04370348 0.02402715 0.35564493 0.13909134]\n",
      "wrapper([ 1.418e-20  7.535e-03 ...  9.331e-01  9.109e-01]) = -0.027056643034299725\n",
      "assembly_constraint_no_mean([ 1.418e-20  7.535e-03 ...  9.331e-01  9.109e-01]) = [ 1.500e-02  1.500e-02 ...  1.500e-02  1.500e-02]\n"
     ]
    },
    {
     "data": {
      "application/vnd.jupyter.widget-view+json": {
       "model_id": "38696243d6f44e4eaa0493be0aa8d3ab",
       "version_major": 2,
       "version_minor": 0
      },
      "text/plain": [
       "  0%|          | 0/10000 [00:00<?, ?it/s]"
      ]
     },
     "metadata": {},
     "output_type": "display_data"
    },
    {
     "name": "stdout",
     "output_type": "stream",
     "text": [
      "gld_params: [0.04370478 0.0240263  0.35563326 0.13909288]\n",
      "wrapper([ 0.000e+00  7.490e-03 ...  9.330e-01  9.107e-01]) = -0.027050558244760575\n",
      "assembly_constraint_no_mean([ 0.000e+00  7.490e-03 ...  9.330e-01  9.107e-01]) = [ 1.181e-02  1.546e-02 ...  1.340e-02  1.362e-02]\n"
     ]
    },
    {
     "data": {
      "application/vnd.jupyter.widget-view+json": {
       "model_id": "a3747f89ca6846e0918dda90735919fe",
       "version_major": 2,
       "version_minor": 0
      },
      "text/plain": [
       "  0%|          | 0/10000 [00:00<?, ?it/s]"
      ]
     },
     "metadata": {},
     "output_type": "display_data"
    },
    {
     "name": "stdout",
     "output_type": "stream",
     "text": [
      "gld_params: [0.04370354 0.02402715 0.35564425 0.13909118]\n",
      "wrapper([ 3.029e-21  7.514e-03 ...  9.332e-01  9.108e-01]) = -0.027056641327877003\n",
      "assembly_constraint_no_mean([ 3.029e-21  7.514e-03 ...  9.332e-01  9.108e-01]) = [ 1.500e-02  1.500e-02 ...  1.500e-02  1.500e-02]\n"
     ]
    },
    {
     "data": {
      "application/vnd.jupyter.widget-view+json": {
       "model_id": "5e2c661d240d4c11919f638c47a96a5b",
       "version_major": 2,
       "version_minor": 0
      },
      "text/plain": [
       "  0%|          | 0/10000 [00:00<?, ?it/s]"
      ]
     },
     "metadata": {},
     "output_type": "display_data"
    },
    {
     "name": "stdout",
     "output_type": "stream",
     "text": [
      "gld_params: [0.04370463 0.02402592 0.35565343 0.1390895 ]\n",
      "wrapper([ 0.000e+00  7.428e-03 ...  9.331e-01  9.107e-01]) = -0.027045806408833997\n",
      "assembly_constraint_no_mean([ 0.000e+00  7.428e-03 ...  9.331e-01  9.107e-01]) = [ 1.507e-02  1.513e-02 ...  1.446e-02  1.373e-02]\n"
     ]
    },
    {
     "data": {
      "application/vnd.jupyter.widget-view+json": {
       "model_id": "bc5ee38719674c8bb0bde0a6db6d6045",
       "version_major": 2,
       "version_minor": 0
      },
      "text/plain": [
       "  0%|          | 0/10000 [00:00<?, ?it/s]"
      ]
     },
     "metadata": {},
     "output_type": "display_data"
    },
    {
     "name": "stdout",
     "output_type": "stream",
     "text": [
      "gld_params: [0.04370341 0.02402712 0.35564592 0.13909046]\n",
      "wrapper([ 6.118e-29  7.539e-03 ...  9.332e-01  9.108e-01]) = -0.02705665631830074\n",
      "assembly_constraint_no_mean([ 6.118e-29  7.539e-03 ...  9.332e-01  9.108e-01]) = [ 1.500e-02  1.500e-02 ...  1.500e-02  1.500e-02]\n"
     ]
    },
    {
     "data": {
      "application/vnd.jupyter.widget-view+json": {
       "model_id": "c97ae4609fb34432a1ebcdad04235ec0",
       "version_major": 2,
       "version_minor": 0
      },
      "text/plain": [
       "  0%|          | 0/10000 [00:00<?, ?it/s]"
      ]
     },
     "metadata": {},
     "output_type": "display_data"
    },
    {
     "name": "stdout",
     "output_type": "stream",
     "text": [
      "gld_params: [0.04370446 0.02402624 0.3556434  0.13909487]\n",
      "wrapper([ 1.121e-44  7.444e-03 ...  9.332e-01  9.107e-01]) = -0.02704879714309421\n",
      "assembly_constraint_no_mean([ 1.121e-44  7.444e-03 ...  9.332e-01  9.107e-01]) = [ 1.604e-02  1.681e-02 ...  1.295e-02  1.468e-02]\n"
     ]
    },
    {
     "data": {
      "application/vnd.jupyter.widget-view+json": {
       "model_id": "049f27f4febe41e790d6add2ba62880c",
       "version_major": 2,
       "version_minor": 0
      },
      "text/plain": [
       "  0%|          | 0/10000 [00:00<?, ?it/s]"
      ]
     },
     "metadata": {},
     "output_type": "display_data"
    },
    {
     "name": "stdout",
     "output_type": "stream",
     "text": [
      "gld_params: [0.04370314 0.02402711 0.35564883 0.13909136]\n",
      "wrapper([ 6.118e-29  7.643e-03 ...  9.332e-01  9.108e-01]) = -0.0270566358329815\n",
      "assembly_constraint_no_mean([ 6.118e-29  7.643e-03 ...  9.332e-01  9.108e-01]) = [ 1.500e-02  1.500e-02 ...  1.500e-02  1.500e-02]\n"
     ]
    },
    {
     "data": {
      "application/vnd.jupyter.widget-view+json": {
       "model_id": "8d30a744549245759a777da2ff690210",
       "version_major": 2,
       "version_minor": 0
      },
      "text/plain": [
       "  0%|          | 0/10000 [00:00<?, ?it/s]"
      ]
     },
     "metadata": {},
     "output_type": "display_data"
    },
    {
     "name": "stdout",
     "output_type": "stream",
     "text": [
      "gld_params: [0.04370437 0.02402671 0.3556388  0.13910656]\n",
      "wrapper([ 8.314e-05  7.620e-03 ...  9.330e-01  9.104e-01]) = -0.027049964257730853\n",
      "assembly_constraint_no_mean([ 8.314e-05  7.620e-03 ...  9.330e-01  9.104e-01]) = [ 1.516e-02  1.598e-02 ...  1.859e-02  1.207e-02]\n"
     ]
    },
    {
     "data": {
      "application/vnd.jupyter.widget-view+json": {
       "model_id": "48f2dfb48ffe4c73bc26aade379316eb",
       "version_major": 2,
       "version_minor": 0
      },
      "text/plain": [
       "  0%|          | 0/10000 [00:00<?, ?it/s]"
      ]
     },
     "metadata": {},
     "output_type": "display_data"
    },
    {
     "name": "stdout",
     "output_type": "stream",
     "text": [
      "gld_params: [0.0437034  0.02402727 0.3556459  0.13909464]\n",
      "wrapper([ 2.286e-21  7.414e-03 ...  9.331e-01  9.108e-01]) = -0.027056592030670974\n",
      "assembly_constraint_no_mean([ 2.286e-21  7.414e-03 ...  9.331e-01  9.108e-01]) = [ 1.500e-02  1.500e-02 ...  1.500e-02  1.500e-02]\n"
     ]
    },
    {
     "data": {
      "application/vnd.jupyter.widget-view+json": {
       "model_id": "ee768ddc573d4719bb1c1bdd5ee82204",
       "version_major": 2,
       "version_minor": 0
      },
      "text/plain": [
       "  0%|          | 0/10000 [00:00<?, ?it/s]"
      ]
     },
     "metadata": {},
     "output_type": "display_data"
    },
    {
     "name": "stdout",
     "output_type": "stream",
     "text": [
      "gld_params: [0.04370338 0.02402728 0.35565612 0.13908461]\n",
      "wrapper([ 5.864e-20  7.579e-03 ...  9.331e-01  9.109e-01]) = -0.027056763433756507\n",
      "assembly_constraint_no_mean([ 5.864e-20  7.579e-03 ...  9.331e-01  9.109e-01]) = [ 1.500e-02  1.500e-02 ...  1.500e-02  1.500e-02]\n"
     ]
    },
    {
     "data": {
      "application/vnd.jupyter.widget-view+json": {
       "model_id": "5df14063bd6d4fd6b1c65bc7abf47531",
       "version_major": 2,
       "version_minor": 0
      },
      "text/plain": [
       "  0%|          | 0/10000 [00:00<?, ?it/s]"
      ]
     },
     "metadata": {},
     "output_type": "display_data"
    },
    {
     "name": "stdout",
     "output_type": "stream",
     "text": [
      "gld_params: [0.04370646 0.02402638 0.35564243 0.13910555]\n",
      "wrapper([ 3.762e-37  7.390e-03 ...  9.334e-01  9.111e-01]) = -0.027041903340782252\n",
      "assembly_constraint_no_mean([ 3.762e-37  7.390e-03 ...  9.334e-01  9.111e-01]) = [ 1.046e-02  1.516e-02 ...  1.663e-02  1.778e-02]\n"
     ]
    },
    {
     "data": {
      "application/vnd.jupyter.widget-view+json": {
       "model_id": "17ca9d8912ae4c95910384aa7209827b",
       "version_major": 2,
       "version_minor": 0
      },
      "text/plain": [
       "  0%|          | 0/10000 [00:00<?, ?it/s]"
      ]
     },
     "metadata": {},
     "output_type": "display_data"
    },
    {
     "name": "stdout",
     "output_type": "stream",
     "text": [
      "gld_params: [0.04370326 0.02402747 0.35565252 0.13909454]\n",
      "wrapper([ 4.768e-20  7.368e-03 ...  9.331e-01  9.108e-01]) = -0.02705672586436868\n",
      "assembly_constraint_no_mean([ 4.768e-20  7.368e-03 ...  9.331e-01  9.108e-01]) = [ 1.500e-02  1.500e-02 ...  1.500e-02  1.500e-02]\n"
     ]
    },
    {
     "data": {
      "application/vnd.jupyter.widget-view+json": {
       "model_id": "f049699c045d41c786508e4da374621a",
       "version_major": 2,
       "version_minor": 0
      },
      "text/plain": [
       "  0%|          | 0/10000 [00:00<?, ?it/s]"
      ]
     },
     "metadata": {},
     "output_type": "display_data"
    },
    {
     "name": "stdout",
     "output_type": "stream",
     "text": [
      "gld_params: [0.04370248 0.0240271  0.35565259 0.13908167]\n",
      "wrapper([ 0.000e+00  7.256e-03 ...  9.329e-01  9.109e-01]) = -0.02705968739742664\n",
      "assembly_constraint_no_mean([ 0.000e+00  7.256e-03 ...  9.329e-01  9.109e-01]) = [ 1.771e-02  1.402e-02 ...  1.503e-02  1.428e-02]\n"
     ]
    },
    {
     "data": {
      "application/vnd.jupyter.widget-view+json": {
       "model_id": "badf21d676554bb288ebe08307698ea1",
       "version_major": 2,
       "version_minor": 0
      },
      "text/plain": [
       "  0%|          | 0/10000 [00:00<?, ?it/s]"
      ]
     },
     "metadata": {},
     "output_type": "display_data"
    },
    {
     "name": "stdout",
     "output_type": "stream",
     "text": [
      "gld_params: [0.04370367 0.02402731 0.35565136 0.13908575]\n",
      "wrapper([ 5.934e-20  7.385e-03 ...  9.332e-01  9.108e-01]) = -0.027056798990067216\n",
      "assembly_constraint_no_mean([ 5.934e-20  7.385e-03 ...  9.332e-01  9.108e-01]) = [ 1.500e-02  1.500e-02 ...  1.500e-02  1.500e-02]\n"
     ]
    },
    {
     "data": {
      "application/vnd.jupyter.widget-view+json": {
       "model_id": "83500f21fd104464864fca88b41e3ae1",
       "version_major": 2,
       "version_minor": 0
      },
      "text/plain": [
       "  0%|          | 0/10000 [00:00<?, ?it/s]"
      ]
     },
     "metadata": {},
     "output_type": "display_data"
    },
    {
     "name": "stdout",
     "output_type": "stream",
     "text": [
      "gld_params: [0.04370284 0.02402693 0.35565787 0.13907537]\n",
      "wrapper([ 3.762e-37  7.419e-03 ...  9.331e-01  9.108e-01]) = -0.027058043457307196\n",
      "assembly_constraint_no_mean([ 3.762e-37  7.419e-03 ...  9.331e-01  9.108e-01]) = [ 1.279e-02  1.951e-02 ...  1.314e-02  1.445e-02]\n"
     ]
    },
    {
     "data": {
      "application/vnd.jupyter.widget-view+json": {
       "model_id": "a0cf69692cb143baa91e7127f166b360",
       "version_major": 2,
       "version_minor": 0
      },
      "text/plain": [
       "  0%|          | 0/10000 [00:00<?, ?it/s]"
      ]
     },
     "metadata": {},
     "output_type": "display_data"
    },
    {
     "name": "stdout",
     "output_type": "stream",
     "text": [
      "gld_params: [0.04370365 0.02402739 0.35564924 0.13908996]\n",
      "wrapper([ 3.442e-20  7.490e-03 ...  9.332e-01  9.108e-01]) = -0.02705679858560356\n",
      "assembly_constraint_no_mean([ 3.442e-20  7.490e-03 ...  9.332e-01  9.108e-01]) = [ 1.500e-02  1.500e-02 ...  1.500e-02  1.500e-02]\n"
     ]
    },
    {
     "data": {
      "application/vnd.jupyter.widget-view+json": {
       "model_id": "919bd485b84b4867bad20b561c4a895b",
       "version_major": 2,
       "version_minor": 0
      },
      "text/plain": [
       "  0%|          | 0/10000 [00:00<?, ?it/s]"
      ]
     },
     "metadata": {},
     "output_type": "display_data"
    },
    {
     "name": "stdout",
     "output_type": "stream",
     "text": [
      "gld_params: [0.0437027  0.02402731 0.35566006 0.13909   ]\n",
      "wrapper([ 0.000e+00  7.444e-03 ...  9.333e-01  9.108e-01]) = -0.027056998645408448\n",
      "assembly_constraint_no_mean([ 0.000e+00  7.444e-03 ...  9.333e-01  9.108e-01]) = [ 1.429e-02  1.293e-02 ...  1.602e-02  1.570e-02]\n"
     ]
    },
    {
     "data": {
      "application/vnd.jupyter.widget-view+json": {
       "model_id": "b1e10e1c8d7546d1a47478c02a66893d",
       "version_major": 2,
       "version_minor": 0
      },
      "text/plain": [
       "  0%|          | 0/10000 [00:00<?, ?it/s]"
      ]
     },
     "metadata": {},
     "output_type": "display_data"
    },
    {
     "name": "stdout",
     "output_type": "stream",
     "text": [
      "gld_params: [0.04370359 0.02402745 0.3556518  0.13909009]\n",
      "wrapper([ 5.060e-20  7.401e-03 ...  9.332e-01  9.108e-01]) = -0.02705680073561589\n",
      "assembly_constraint_no_mean([ 5.060e-20  7.401e-03 ...  9.332e-01  9.108e-01]) = [ 1.500e-02  1.500e-02 ...  1.500e-02  1.500e-02]\n"
     ]
    },
    {
     "data": {
      "application/vnd.jupyter.widget-view+json": {
       "model_id": "8b14ea058bf846888490fb051b6562b9",
       "version_major": 2,
       "version_minor": 0
      },
      "text/plain": [
       "  0%|          | 0/10000 [00:00<?, ?it/s]"
      ]
     },
     "metadata": {},
     "output_type": "display_data"
    },
    {
     "name": "stdout",
     "output_type": "stream",
     "text": [
      "gld_params: [0.04370424 0.02402661 0.35565149 0.13908381]\n",
      "wrapper([ 3.762e-37  7.246e-03 ...  9.331e-01  9.109e-01]) = -0.027051988052662557\n",
      "assembly_constraint_no_mean([ 3.762e-37  7.246e-03 ...  9.331e-01  9.109e-01]) = [ 1.357e-02  1.505e-02 ...  1.458e-02  1.484e-02]\n"
     ]
    },
    {
     "data": {
      "application/vnd.jupyter.widget-view+json": {
       "model_id": "a9b407bd78294d18b3df76cbd87c5238",
       "version_major": 2,
       "version_minor": 0
      },
      "text/plain": [
       "  0%|          | 0/10000 [00:00<?, ?it/s]"
      ]
     },
     "metadata": {},
     "output_type": "display_data"
    },
    {
     "name": "stdout",
     "output_type": "stream",
     "text": [
      "gld_params: [0.04370363 0.02402728 0.35565043 0.13908644]\n",
      "wrapper([ 3.292e-27  7.465e-03 ...  9.332e-01  9.108e-01]) = -0.027056801842094948\n",
      "assembly_constraint_no_mean([ 3.292e-27  7.465e-03 ...  9.332e-01  9.108e-01]) = [ 1.500e-02  1.500e-02 ...  1.500e-02  1.500e-02]\n"
     ]
    },
    {
     "data": {
      "application/vnd.jupyter.widget-view+json": {
       "model_id": "b24f1f24075e4f31bcfa086f75c4a676",
       "version_major": 2,
       "version_minor": 0
      },
      "text/plain": [
       "  0%|          | 0/10000 [00:00<?, ?it/s]"
      ]
     },
     "metadata": {},
     "output_type": "display_data"
    },
    {
     "name": "stdout",
     "output_type": "stream",
     "text": [
      "gld_params: [0.04370367 0.02402732 0.35565576 0.13909739]\n",
      "wrapper([ 4.382e-06  7.402e-03 ...  9.333e-01  9.108e-01]) = -0.02705363771662582\n",
      "assembly_constraint_no_mean([ 4.382e-06  7.402e-03 ...  9.333e-01  9.108e-01]) = [ 1.561e-02  1.335e-02 ...  1.484e-02  1.587e-02]\n"
     ]
    },
    {
     "data": {
      "application/vnd.jupyter.widget-view+json": {
       "model_id": "f3c2d89e4794465485cf9bdaac223586",
       "version_major": 2,
       "version_minor": 0
      },
      "text/plain": [
       "  0%|          | 0/10000 [00:00<?, ?it/s]"
      ]
     },
     "metadata": {},
     "output_type": "display_data"
    },
    {
     "name": "stdout",
     "output_type": "stream",
     "text": [
      "gld_params: [0.04370368 0.02402731 0.35564955 0.13908716]\n",
      "wrapper([ 9.127e-20  7.486e-03 ...  9.332e-01  9.108e-01]) = -0.02705681775524497\n",
      "assembly_constraint_no_mean([ 9.127e-20  7.486e-03 ...  9.332e-01  9.108e-01]) = [ 1.500e-02  1.500e-02 ...  1.500e-02  1.500e-02]\n"
     ]
    },
    {
     "data": {
      "application/vnd.jupyter.widget-view+json": {
       "model_id": "830808cd97c34709b0607ed06e61334d",
       "version_major": 2,
       "version_minor": 0
      },
      "text/plain": [
       "  0%|          | 0/10000 [00:00<?, ?it/s]"
      ]
     },
     "metadata": {},
     "output_type": "display_data"
    },
    {
     "name": "stdout",
     "output_type": "stream",
     "text": [
      "gld_params: [0.04370085 0.02402839 0.35565592 0.13909268]\n",
      "wrapper([ 0.000e+00  7.453e-03 ...  9.333e-01  9.110e-01]) = -0.027067936885413684\n",
      "assembly_constraint_no_mean([ 0.000e+00  7.453e-03 ...  9.333e-01  9.110e-01]) = [ 1.314e-02  1.517e-02 ...  1.517e-02  1.655e-02]\n"
     ]
    },
    {
     "data": {
      "application/vnd.jupyter.widget-view+json": {
       "model_id": "bd6d3eb0728348de989707e1d53b5c2c",
       "version_major": 2,
       "version_minor": 0
      },
      "text/plain": [
       "  0%|          | 0/10000 [00:00<?, ?it/s]"
      ]
     },
     "metadata": {},
     "output_type": "display_data"
    },
    {
     "name": "stdout",
     "output_type": "stream",
     "text": [
      "gld_params: [0.0437037  0.02402731 0.35564927 0.13908721]\n",
      "wrapper([ 6.290e-20  7.480e-03 ...  9.332e-01  9.108e-01]) = -0.027056800884878517\n",
      "assembly_constraint_no_mean([ 6.290e-20  7.480e-03 ...  9.332e-01  9.108e-01]) = [ 1.500e-02  1.500e-02 ...  1.500e-02  1.500e-02]\n"
     ]
    },
    {
     "data": {
      "application/vnd.jupyter.widget-view+json": {
       "model_id": "1b55aab3940a407190eaf00aba70171c",
       "version_major": 2,
       "version_minor": 0
      },
      "text/plain": [
       "  0%|          | 0/10000 [00:00<?, ?it/s]"
      ]
     },
     "metadata": {},
     "output_type": "display_data"
    },
    {
     "name": "stdout",
     "output_type": "stream",
     "text": [
      "gld_params: [0.04370445 0.02402673 0.35564702 0.13908903]\n",
      "wrapper([ 2.184e-05  7.490e-03 ...  9.331e-01  9.108e-01]) = -0.027051808646869263\n",
      "assembly_constraint_no_mean([ 2.184e-05  7.490e-03 ...  9.331e-01  9.108e-01]) = [ 1.586e-02  1.483e-02 ...  1.465e-02  1.469e-02]\n"
     ]
    },
    {
     "data": {
      "application/vnd.jupyter.widget-view+json": {
       "model_id": "17923f14511340ac9c4b8a1f6882d617",
       "version_major": 2,
       "version_minor": 0
      },
      "text/plain": [
       "  0%|          | 0/10000 [00:00<?, ?it/s]"
      ]
     },
     "metadata": {},
     "output_type": "display_data"
    },
    {
     "name": "stdout",
     "output_type": "stream",
     "text": [
      "gld_params: [0.04370336 0.02402727 0.35565263 0.13908815]\n",
      "wrapper([ 3.220e-21  7.579e-03 ...  9.330e-01  9.110e-01]) = -0.027056730343991524\n",
      "assembly_constraint_no_mean([ 3.220e-21  7.579e-03 ...  9.330e-01  9.110e-01]) = [ 1.500e-02  1.500e-02 ...  1.500e-02  1.500e-02]\n"
     ]
    },
    {
     "data": {
      "application/vnd.jupyter.widget-view+json": {
       "model_id": "7a3cf7100fe943699135774196eaece8",
       "version_major": 2,
       "version_minor": 0
      },
      "text/plain": [
       "  0%|          | 0/10000 [00:00<?, ?it/s]"
      ]
     },
     "metadata": {},
     "output_type": "display_data"
    },
    {
     "name": "stdout",
     "output_type": "stream",
     "text": [
      "gld_params: [0.0437048  0.0240264  0.35565437 0.139087  ]\n",
      "wrapper([ 0.000e+00  7.233e-03 ...  9.334e-01  9.108e-01]) = -0.027048133316851023\n",
      "assembly_constraint_no_mean([ 0.000e+00  7.233e-03 ...  9.334e-01  9.108e-01]) = [ 1.539e-02  1.431e-02 ...  1.121e-02  1.608e-02]\n"
     ]
    },
    {
     "data": {
      "application/vnd.jupyter.widget-view+json": {
       "model_id": "b6d3d2e8f1514d82a48a42d07c658911",
       "version_major": 2,
       "version_minor": 0
      },
      "text/plain": [
       "  0%|          | 0/10000 [00:00<?, ?it/s]"
      ]
     },
     "metadata": {},
     "output_type": "display_data"
    },
    {
     "name": "stdout",
     "output_type": "stream",
     "text": [
      "gld_params: [0.04370351 0.02402736 0.3556495  0.13909119]\n",
      "wrapper([ 2.325e-20  7.487e-03 ...  9.332e-01  9.107e-01]) = -0.02705675399658154\n",
      "assembly_constraint_no_mean([ 2.325e-20  7.487e-03 ...  9.332e-01  9.107e-01]) = [ 1.500e-02  1.500e-02 ...  1.500e-02  1.500e-02]\n"
     ]
    },
    {
     "data": {
      "application/vnd.jupyter.widget-view+json": {
       "model_id": "9d2be549206e4d969f148dd6189b0c53",
       "version_major": 2,
       "version_minor": 0
      },
      "text/plain": [
       "  0%|          | 0/10000 [00:00<?, ?it/s]"
      ]
     },
     "metadata": {},
     "output_type": "display_data"
    },
    {
     "name": "stdout",
     "output_type": "stream",
     "text": [
      "gld_params: [0.04370053 0.02402835 0.35565817 0.13908969]\n",
      "wrapper([ 0.000e+00  7.267e-03 ...  9.332e-01  9.108e-01]) = -0.027068829098790468\n",
      "assembly_constraint_no_mean([ 0.000e+00  7.267e-03 ...  9.332e-01  9.108e-01]) = [ 1.747e-02  1.877e-02 ...  1.754e-02  1.527e-02]\n"
     ]
    },
    {
     "data": {
      "application/vnd.jupyter.widget-view+json": {
       "model_id": "8e0fc8a8199b484db731c5e2702ed4de",
       "version_major": 2,
       "version_minor": 0
      },
      "text/plain": [
       "  0%|          | 0/10000 [00:00<?, ?it/s]"
      ]
     },
     "metadata": {},
     "output_type": "display_data"
    },
    {
     "name": "stdout",
     "output_type": "stream",
     "text": [
      "gld_params: [0.0437036  0.02402739 0.35565162 0.13908865]\n",
      "wrapper([ 3.292e-27  7.358e-03 ...  9.333e-01  9.107e-01]) = -0.027056778482006584\n",
      "assembly_constraint_no_mean([ 3.292e-27  7.358e-03 ...  9.333e-01  9.107e-01]) = [ 1.500e-02  1.500e-02 ...  1.500e-02  1.500e-02]\n"
     ]
    },
    {
     "data": {
      "application/vnd.jupyter.widget-view+json": {
       "model_id": "0e4262be44b540a8a93eac30ab76c298",
       "version_major": 2,
       "version_minor": 0
      },
      "text/plain": [
       "  0%|          | 0/10000 [00:00<?, ?it/s]"
      ]
     },
     "metadata": {},
     "output_type": "display_data"
    },
    {
     "name": "stdout",
     "output_type": "stream",
     "text": [
      "gld_params: [0.04370134 0.0240292  0.35562322 0.13911784]\n",
      "wrapper([ 3.562e-04  7.400e-03 ...  9.336e-01  9.108e-01]) = -0.027071908626940453\n",
      "assembly_constraint_no_mean([ 3.562e-04  7.400e-03 ...  9.336e-01  9.108e-01]) = [ 1.566e-02  1.501e-02 ...  1.690e-02  1.724e-02]\n"
     ]
    },
    {
     "data": {
      "application/vnd.jupyter.widget-view+json": {
       "model_id": "4b0fb4c1cade4724badc2c70b9749cc6",
       "version_major": 2,
       "version_minor": 0
      },
      "text/plain": [
       "  0%|          | 0/10000 [00:00<?, ?it/s]"
      ]
     },
     "metadata": {},
     "output_type": "display_data"
    },
    {
     "name": "stdout",
     "output_type": "stream",
     "text": [
      "gld_params: [0.04370358 0.02402724 0.35565025 0.13908632]\n",
      "wrapper([ 3.292e-27  7.584e-03 ...  9.332e-01  9.108e-01]) = -0.02705679615021811\n",
      "assembly_constraint_no_mean([ 3.292e-27  7.584e-03 ...  9.332e-01  9.108e-01]) = [ 1.500e-02  1.500e-02 ...  1.500e-02  1.500e-02]\n"
     ]
    },
    {
     "data": {
      "application/vnd.jupyter.widget-view+json": {
       "model_id": "2347e88f74ac4492b3faa25fc1aad487",
       "version_major": 2,
       "version_minor": 0
      },
      "text/plain": [
       "  0%|          | 0/10000 [00:00<?, ?it/s]"
      ]
     },
     "metadata": {},
     "output_type": "display_data"
    },
    {
     "name": "stdout",
     "output_type": "stream",
     "text": [
      "gld_params: [0.04370505 0.02402743 0.35562547 0.13911821]\n",
      "wrapper([ 5.817e-04  7.537e-03 ...  9.330e-01  9.109e-01]) = -0.027051921756596542\n",
      "assembly_constraint_no_mean([ 5.817e-04  7.537e-03 ...  9.330e-01  9.109e-01]) = [ 1.530e-02  1.456e-02 ...  1.358e-02  1.459e-02]\n"
     ]
    },
    {
     "data": {
      "application/vnd.jupyter.widget-view+json": {
       "model_id": "ada9b795efbf43adb4d95f4e8a364783",
       "version_major": 2,
       "version_minor": 0
      },
      "text/plain": [
       "  0%|          | 0/10000 [00:00<?, ?it/s]"
      ]
     },
     "metadata": {},
     "output_type": "display_data"
    },
    {
     "name": "stdout",
     "output_type": "stream",
     "text": [
      "gld_params: [0.04370356 0.02402742 0.35565136 0.13909001]\n",
      "wrapper([ 3.292e-27  7.348e-03 ...  9.332e-01  9.108e-01]) = -0.027056790466149904\n",
      "assembly_constraint_no_mean([ 3.292e-27  7.348e-03 ...  9.332e-01  9.108e-01]) = [ 1.500e-02  1.500e-02 ...  1.500e-02  1.500e-02]\n"
     ]
    },
    {
     "data": {
      "application/vnd.jupyter.widget-view+json": {
       "model_id": "e5d7d20b67c64a8bbac50498f68f4699",
       "version_major": 2,
       "version_minor": 0
      },
      "text/plain": [
       "  0%|          | 0/10000 [00:00<?, ?it/s]"
      ]
     },
     "metadata": {},
     "output_type": "display_data"
    },
    {
     "name": "stdout",
     "output_type": "stream",
     "text": [
      "gld_params: [0.04370475 0.02402676 0.35565134 0.13910441]\n",
      "wrapper([ 2.136e-04  7.334e-03 ...  9.331e-01  9.105e-01]) = -0.02704714026090759\n",
      "assembly_constraint_no_mean([ 2.136e-04  7.334e-03 ...  9.331e-01  9.105e-01]) = [ 1.632e-02  1.638e-02 ...  1.490e-02  1.286e-02]\n"
     ]
    },
    {
     "data": {
      "application/vnd.jupyter.widget-view+json": {
       "model_id": "0fae7398683e426493b0288e1e527e0f",
       "version_major": 2,
       "version_minor": 0
      },
      "text/plain": [
       "  0%|          | 0/10000 [00:00<?, ?it/s]"
      ]
     },
     "metadata": {},
     "output_type": "display_data"
    },
    {
     "name": "stdout",
     "output_type": "stream",
     "text": [
      "gld_params: [0.04370352 0.02402739 0.35565491 0.13908631]\n",
      "wrapper([ 0.000e+00  7.306e-03 ...  9.331e-01  9.108e-01]) = -0.027056820312922922\n",
      "assembly_constraint_no_mean([ 0.000e+00  7.306e-03 ...  9.331e-01  9.108e-01]) = [ 1.500e-02  1.500e-02 ...  1.500e-02  1.500e-02]\n"
     ]
    },
    {
     "data": {
      "application/vnd.jupyter.widget-view+json": {
       "model_id": "484c6ac170c645389586e4f12404184f",
       "version_major": 2,
       "version_minor": 0
      },
      "text/plain": [
       "  0%|          | 0/10000 [00:00<?, ?it/s]"
      ]
     },
     "metadata": {},
     "output_type": "display_data"
    },
    {
     "name": "stdout",
     "output_type": "stream",
     "text": [
      "gld_params: [0.04370214 0.02402799 0.35563179 0.13910215]\n",
      "wrapper([ 8.096e-05  7.534e-03 ...  9.331e-01  9.108e-01]) = -0.027065017857320038\n",
      "assembly_constraint_no_mean([ 8.096e-05  7.534e-03 ...  9.331e-01  9.108e-01]) = [ 1.587e-02  1.675e-02 ...  1.592e-02  1.481e-02]\n"
     ]
    },
    {
     "data": {
      "application/vnd.jupyter.widget-view+json": {
       "model_id": "0b38e2c64d2c477da8c22e1d9fefa393",
       "version_major": 2,
       "version_minor": 0
      },
      "text/plain": [
       "  0%|          | 0/10000 [00:00<?, ?it/s]"
      ]
     },
     "metadata": {},
     "output_type": "display_data"
    },
    {
     "name": "stdout",
     "output_type": "stream",
     "text": [
      "gld_params: [0.04370354 0.02402739 0.35565446 0.13908657]\n",
      "wrapper([ 0.000e+00  7.320e-03 ...  9.331e-01  9.108e-01]) = -0.02705681855313231\n",
      "assembly_constraint_no_mean([ 0.000e+00  7.320e-03 ...  9.331e-01  9.108e-01]) = [ 1.500e-02  1.500e-02 ...  1.500e-02  1.500e-02]\n"
     ]
    },
    {
     "data": {
      "application/vnd.jupyter.widget-view+json": {
       "model_id": "68aede211aa44525897601690d33a552",
       "version_major": 2,
       "version_minor": 0
      },
      "text/plain": [
       "  0%|          | 0/10000 [00:00<?, ?it/s]"
      ]
     },
     "metadata": {},
     "output_type": "display_data"
    },
    {
     "name": "stdout",
     "output_type": "stream",
     "text": [
      "gld_params: [0.04370105 0.02402874 0.3556569  0.13911234]\n",
      "wrapper([ 1.786e-04  7.373e-03 ...  9.332e-01  9.112e-01]) = -0.027064975734220516\n",
      "assembly_constraint_no_mean([ 1.786e-04  7.373e-03 ...  9.332e-01  9.112e-01]) = [ 1.584e-02  1.627e-02 ...  1.395e-02  1.749e-02]\n"
     ]
    },
    {
     "data": {
      "application/vnd.jupyter.widget-view+json": {
       "model_id": "0aa959bf9eeb4b778de0e90331b9d711",
       "version_major": 2,
       "version_minor": 0
      },
      "text/plain": [
       "  0%|          | 0/10000 [00:00<?, ?it/s]"
      ]
     },
     "metadata": {},
     "output_type": "display_data"
    },
    {
     "name": "stdout",
     "output_type": "stream",
     "text": [
      "gld_params: [0.04370361 0.02402735 0.3556525  0.13908641]\n",
      "wrapper([ 3.666e-20  7.383e-03 ...  9.332e-01  9.108e-01]) = -0.027056817017600338\n",
      "assembly_constraint_no_mean([ 3.666e-20  7.383e-03 ...  9.332e-01  9.108e-01]) = [ 1.500e-02  1.500e-02 ...  1.500e-02  1.500e-02]\n"
     ]
    },
    {
     "data": {
      "application/vnd.jupyter.widget-view+json": {
       "model_id": "4c55b5ff5e4a4d8b86f4488a841afb2c",
       "version_major": 2,
       "version_minor": 0
      },
      "text/plain": [
       "  0%|          | 0/10000 [00:00<?, ?it/s]"
      ]
     },
     "metadata": {},
     "output_type": "display_data"
    },
    {
     "name": "stdout",
     "output_type": "stream",
     "text": [
      "gld_params: [0.04370195 0.0240279  0.3556508  0.1390969 ]\n",
      "wrapper([ 0.000e+00  7.388e-03 ...  9.333e-01  9.110e-01]) = -0.027062472890532898\n",
      "assembly_constraint_no_mean([ 0.000e+00  7.388e-03 ...  9.333e-01  9.110e-01]) = [ 1.466e-02  1.326e-02 ...  1.312e-02  1.665e-02]\n"
     ]
    },
    {
     "data": {
      "application/vnd.jupyter.widget-view+json": {
       "model_id": "014bdf003d014a4789b26e93363a3c4a",
       "version_major": 2,
       "version_minor": 0
      },
      "text/plain": [
       "  0%|          | 0/10000 [00:00<?, ?it/s]"
      ]
     },
     "metadata": {},
     "output_type": "display_data"
    },
    {
     "name": "stdout",
     "output_type": "stream",
     "text": [
      "gld_params: [0.04370357 0.02402737 0.35565377 0.13908609]\n",
      "wrapper([ 4.980e-20  7.360e-03 ...  9.332e-01  9.108e-01]) = -0.02705682558648873\n",
      "assembly_constraint_no_mean([ 4.980e-20  7.360e-03 ...  9.332e-01  9.108e-01]) = [ 1.500e-02  1.500e-02 ...  1.500e-02  1.500e-02]\n"
     ]
    },
    {
     "data": {
      "application/vnd.jupyter.widget-view+json": {
       "model_id": "7b5703b5f2df436587f17994868bcbc3",
       "version_major": 2,
       "version_minor": 0
      },
      "text/plain": [
       "  0%|          | 0/10000 [00:00<?, ?it/s]"
      ]
     },
     "metadata": {},
     "output_type": "display_data"
    },
    {
     "name": "stdout",
     "output_type": "stream",
     "text": [
      "gld_params: [0.04370581 0.0240261  0.35563981 0.13908921]\n",
      "wrapper([ 1.368e-04  7.534e-03 ...  9.330e-01  9.106e-01]) = -0.02704612307507916\n",
      "assembly_constraint_no_mean([ 1.368e-04  7.534e-03 ...  9.330e-01  9.106e-01]) = [ 1.388e-02  1.497e-02 ...  1.301e-02  1.274e-02]\n"
     ]
    },
    {
     "data": {
      "application/vnd.jupyter.widget-view+json": {
       "model_id": "33dd9a977fce42e58d403989a25b4fb3",
       "version_major": 2,
       "version_minor": 0
      },
      "text/plain": [
       "  0%|          | 0/10000 [00:00<?, ?it/s]"
      ]
     },
     "metadata": {},
     "output_type": "display_data"
    },
    {
     "name": "stdout",
     "output_type": "stream",
     "text": [
      "gld_params: [0.04370352 0.02402743 0.35565667 0.13908568]\n",
      "wrapper([ 0.000e+00  7.370e-03 ...  9.332e-01  9.108e-01]) = -0.02705681324760703\n",
      "assembly_constraint_no_mean([ 0.000e+00  7.370e-03 ...  9.332e-01  9.108e-01]) = [ 1.500e-02  1.500e-02 ...  1.500e-02  1.500e-02]\n"
     ]
    },
    {
     "data": {
      "application/vnd.jupyter.widget-view+json": {
       "model_id": "aeddc3a013844338bd830531639fa6a5",
       "version_major": 2,
       "version_minor": 0
      },
      "text/plain": [
       "  0%|          | 0/10000 [00:00<?, ?it/s]"
      ]
     },
     "metadata": {},
     "output_type": "display_data"
    },
    {
     "name": "stdout",
     "output_type": "stream",
     "text": [
      "gld_params: [0.04370435 0.0240274  0.35564224 0.13911535]\n",
      "wrapper([ 1.387e-04  7.549e-03 ...  9.331e-01  9.106e-01]) = -0.027051063683645404\n",
      "assembly_constraint_no_mean([ 1.387e-04  7.549e-03 ...  9.331e-01  9.106e-01]) = [ 1.313e-02  1.469e-02 ...  1.682e-02  1.379e-02]\n"
     ]
    },
    {
     "data": {
      "application/vnd.jupyter.widget-view+json": {
       "model_id": "f016508ca3b745fbb7fce0db1a50d489",
       "version_major": 2,
       "version_minor": 0
      },
      "text/plain": [
       "  0%|          | 0/10000 [00:00<?, ?it/s]"
      ]
     },
     "metadata": {},
     "output_type": "display_data"
    },
    {
     "name": "stdout",
     "output_type": "stream",
     "text": [
      "gld_params: [0.04370358 0.02402746 0.35565509 0.13908713]\n",
      "wrapper([ 7.010e-20  7.353e-03 ...  9.332e-01  9.108e-01]) = -0.027056813630615944\n",
      "assembly_constraint_no_mean([ 7.010e-20  7.353e-03 ...  9.332e-01  9.108e-01]) = [ 1.500e-02  1.500e-02 ...  1.500e-02  1.500e-02]\n"
     ]
    },
    {
     "data": {
      "application/vnd.jupyter.widget-view+json": {
       "model_id": "07a89128527440929a50951b27856086",
       "version_major": 2,
       "version_minor": 0
      },
      "text/plain": [
       "  0%|          | 0/10000 [00:00<?, ?it/s]"
      ]
     },
     "metadata": {},
     "output_type": "display_data"
    },
    {
     "name": "stdout",
     "output_type": "stream",
     "text": [
      "gld_params: [0.04370321 0.02402731 0.35565534 0.13910014]\n",
      "wrapper([ 2.250e-06  7.486e-03 ...  9.329e-01  9.110e-01]) = -0.02705437729033856\n",
      "assembly_constraint_no_mean([ 2.250e-06  7.486e-03 ...  9.329e-01  9.110e-01]) = [ 1.613e-02  1.390e-02 ...  1.616e-02  1.443e-02]\n"
     ]
    },
    {
     "data": {
      "application/vnd.jupyter.widget-view+json": {
       "model_id": "9c708465f0c14398a1aff2071238812d",
       "version_major": 2,
       "version_minor": 0
      },
      "text/plain": [
       "  0%|          | 0/10000 [00:00<?, ?it/s]"
      ]
     },
     "metadata": {},
     "output_type": "display_data"
    },
    {
     "name": "stdout",
     "output_type": "stream",
     "text": [
      "gld_params: [0.04370359 0.02402741 0.35565417 0.13908657]\n",
      "wrapper([ 4.529e-21  7.317e-03 ...  9.332e-01  9.108e-01]) = -0.02705681583302137\n",
      "assembly_constraint_no_mean([ 4.529e-21  7.317e-03 ...  9.332e-01  9.108e-01]) = [ 1.500e-02  1.500e-02 ...  1.500e-02  1.500e-02]\n"
     ]
    },
    {
     "data": {
      "application/vnd.jupyter.widget-view+json": {
       "model_id": "133d2cc4434a4701aa00326e8c2d7d32",
       "version_major": 2,
       "version_minor": 0
      },
      "text/plain": [
       "  0%|          | 0/10000 [00:00<?, ?it/s]"
      ]
     },
     "metadata": {},
     "output_type": "display_data"
    },
    {
     "name": "stdout",
     "output_type": "stream",
     "text": [
      "gld_params: [0.04370376 0.0240272  0.35564402 0.13909301]\n",
      "wrapper([ 5.858e-05  7.565e-03 ...  9.333e-01  9.107e-01]) = -0.027055943598972697\n",
      "assembly_constraint_no_mean([ 5.858e-05  7.565e-03 ...  9.333e-01  9.107e-01]) = [ 1.595e-02  1.452e-02 ...  1.440e-02  1.521e-02]\n"
     ]
    },
    {
     "data": {
      "application/vnd.jupyter.widget-view+json": {
       "model_id": "5714447886644abcbab66fb643501265",
       "version_major": 2,
       "version_minor": 0
      },
      "text/plain": [
       "  0%|          | 0/10000 [00:00<?, ?it/s]"
      ]
     },
     "metadata": {},
     "output_type": "display_data"
    },
    {
     "name": "stdout",
     "output_type": "stream",
     "text": [
      "gld_params: [0.04370345 0.02402738 0.35565725 0.13908474]\n",
      "wrapper([ 3.292e-27  7.384e-03 ...  9.332e-01  9.108e-01]) = -0.027056814686533627\n",
      "assembly_constraint_no_mean([ 3.292e-27  7.384e-03 ...  9.332e-01  9.108e-01]) = [ 1.500e-02  1.500e-02 ...  1.500e-02  1.500e-02]\n"
     ]
    },
    {
     "data": {
      "application/vnd.jupyter.widget-view+json": {
       "model_id": "fc6be84b476c479fb974692ef901b56f",
       "version_major": 2,
       "version_minor": 0
      },
      "text/plain": [
       "  0%|          | 0/10000 [00:00<?, ?it/s]"
      ]
     },
     "metadata": {},
     "output_type": "display_data"
    },
    {
     "name": "stdout",
     "output_type": "stream",
     "text": [
      "gld_params: [0.04370276 0.02402761 0.35564872 0.13910469]\n",
      "wrapper([ 0.000e+00  7.363e-03 ...  9.330e-01  9.106e-01]) = -0.02705753987312503\n",
      "assembly_constraint_no_mean([ 0.000e+00  7.363e-03 ...  9.330e-01  9.106e-01]) = [ 1.573e-02  1.525e-02 ...  1.473e-02  1.344e-02]\n"
     ]
    },
    {
     "data": {
      "application/vnd.jupyter.widget-view+json": {
       "model_id": "f624b7e094a84b30b1cdcf8a2d1dd45d",
       "version_major": 2,
       "version_minor": 0
      },
      "text/plain": [
       "  0%|          | 0/10000 [00:00<?, ?it/s]"
      ]
     },
     "metadata": {},
     "output_type": "display_data"
    },
    {
     "name": "stdout",
     "output_type": "stream",
     "text": [
      "gld_params: [0.04370353 0.02402737 0.35565535 0.13908516]\n",
      "wrapper([ 3.292e-27  7.356e-03 ...  9.332e-01  9.108e-01]) = -0.027056824428559157\n",
      "assembly_constraint_no_mean([ 3.292e-27  7.356e-03 ...  9.332e-01  9.108e-01]) = [ 1.500e-02  1.500e-02 ...  1.500e-02  1.500e-02]\n"
     ]
    },
    {
     "data": {
      "application/vnd.jupyter.widget-view+json": {
       "model_id": "698a8c48abd74dbc9d98cb5f25e56155",
       "version_major": 2,
       "version_minor": 0
      },
      "text/plain": [
       "  0%|          | 0/10000 [00:00<?, ?it/s]"
      ]
     },
     "metadata": {},
     "output_type": "display_data"
    },
    {
     "name": "stdout",
     "output_type": "stream",
     "text": [
      "gld_params: [0.04370602 0.02402644 0.35564355 0.13910414]\n",
      "wrapper([ 0.000e+00  7.149e-03 ...  9.331e-01  9.108e-01]) = -0.027043506688509668\n",
      "assembly_constraint_no_mean([ 0.000e+00  7.149e-03 ...  9.331e-01  9.108e-01]) = [ 1.402e-02  1.222e-02 ...  1.682e-02  1.471e-02]\n"
     ]
    },
    {
     "data": {
      "application/vnd.jupyter.widget-view+json": {
       "model_id": "d1677337b0584078a55c1b6b81727ffa",
       "version_major": 2,
       "version_minor": 0
      },
      "text/plain": [
       "  0%|          | 0/10000 [00:00<?, ?it/s]"
      ]
     },
     "metadata": {},
     "output_type": "display_data"
    },
    {
     "name": "stdout",
     "output_type": "stream",
     "text": [
      "gld_params: [0.04370351 0.02402739 0.35565574 0.13908563]\n",
      "wrapper([ 3.292e-27  7.314e-03 ...  9.331e-01  9.108e-01]) = -0.027056831053529462\n",
      "assembly_constraint_no_mean([ 3.292e-27  7.314e-03 ...  9.331e-01  9.108e-01]) = [ 1.500e-02  1.500e-02 ...  1.500e-02  1.500e-02]\n"
     ]
    },
    {
     "data": {
      "application/vnd.jupyter.widget-view+json": {
       "model_id": "2899598293794e75b67ed700c2a52937",
       "version_major": 2,
       "version_minor": 0
      },
      "text/plain": [
       "  0%|          | 0/10000 [00:00<?, ?it/s]"
      ]
     },
     "metadata": {},
     "output_type": "display_data"
    },
    {
     "name": "stdout",
     "output_type": "stream",
     "text": [
      "gld_params: [0.04370221 0.02402921 0.3556327  0.13913604]\n",
      "wrapper([ 7.052e-04  7.268e-03 ...  9.333e-01  9.109e-01]) = -0.02706394376260451\n",
      "assembly_constraint_no_mean([ 7.052e-04  7.268e-03 ...  9.333e-01  9.109e-01]) = [ 1.329e-02  1.603e-02 ...  1.617e-02  1.635e-02]\n"
     ]
    },
    {
     "data": {
      "application/vnd.jupyter.widget-view+json": {
       "model_id": "195253b0bb3841a5bc20a2742b9a6678",
       "version_major": 2,
       "version_minor": 0
      },
      "text/plain": [
       "  0%|          | 0/10000 [00:00<?, ?it/s]"
      ]
     },
     "metadata": {},
     "output_type": "display_data"
    },
    {
     "name": "stdout",
     "output_type": "stream",
     "text": [
      "gld_params: [0.04370334 0.02402734 0.35565915 0.13908374]\n",
      "wrapper([ 0.000e+00  7.157e-03 ...  9.331e-01  9.108e-01]) = -0.027056800116715178\n",
      "assembly_constraint_no_mean([ 0.000e+00  7.157e-03 ...  9.331e-01  9.108e-01]) = [ 1.500e-02  1.500e-02 ...  1.500e-02  1.500e-02]\n"
     ]
    },
    {
     "data": {
      "application/vnd.jupyter.widget-view+json": {
       "model_id": "40f5f69edddb494d84e7f9212ec494f2",
       "version_major": 2,
       "version_minor": 0
      },
      "text/plain": [
       "  0%|          | 0/10000 [00:00<?, ?it/s]"
      ]
     },
     "metadata": {},
     "output_type": "display_data"
    },
    {
     "name": "stdout",
     "output_type": "stream",
     "text": [
      "gld_params: [0.04370079 0.02402796 0.35564486 0.13909061]\n",
      "wrapper([ 0.000e+00  7.278e-03 ...  9.331e-01  9.111e-01]) = -0.02706849468509054\n",
      "assembly_constraint_no_mean([ 0.000e+00  7.278e-03 ...  9.331e-01  9.111e-01]) = [ 1.355e-02  1.861e-02 ...  1.488e-02  1.584e-02]\n"
     ]
    },
    {
     "data": {
      "application/vnd.jupyter.widget-view+json": {
       "model_id": "51e656b6ae3c4da9bcbc754272dfdaff",
       "version_major": 2,
       "version_minor": 0
      },
      "text/plain": [
       "  0%|          | 0/10000 [00:00<?, ?it/s]"
      ]
     },
     "metadata": {},
     "output_type": "display_data"
    },
    {
     "name": "stdout",
     "output_type": "stream",
     "text": [
      "gld_params: [0.04370347 0.02402748 0.355657   0.13908723]\n",
      "wrapper([ 0.000e+00  7.288e-03 ...  9.332e-01  9.108e-01]) = -0.027056815446266553\n",
      "assembly_constraint_no_mean([ 0.000e+00  7.288e-03 ...  9.332e-01  9.108e-01]) = [ 1.500e-02  1.500e-02 ...  1.500e-02  1.500e-02]\n"
     ]
    },
    {
     "data": {
      "application/vnd.jupyter.widget-view+json": {
       "model_id": "bd24229e90324e0abb64db939fbd0f0a",
       "version_major": 2,
       "version_minor": 0
      },
      "text/plain": [
       "  0%|          | 0/10000 [00:00<?, ?it/s]"
      ]
     },
     "metadata": {},
     "output_type": "display_data"
    },
    {
     "name": "stdout",
     "output_type": "stream",
     "text": [
      "gld_params: [0.04370249 0.02402719 0.35566092 0.13908566]\n",
      "wrapper([ 0.000e+00  7.635e-03 ...  9.330e-01  9.113e-01]) = -0.02705769285976663\n",
      "assembly_constraint_no_mean([ 0.000e+00  7.635e-03 ...  9.330e-01  9.113e-01]) = [ 1.457e-02  1.570e-02 ...  1.629e-02  1.610e-02]\n"
     ]
    },
    {
     "data": {
      "application/vnd.jupyter.widget-view+json": {
       "model_id": "cef8f0645af14134ad1f890924c29825",
       "version_major": 2,
       "version_minor": 0
      },
      "text/plain": [
       "  0%|          | 0/10000 [00:00<?, ?it/s]"
      ]
     },
     "metadata": {},
     "output_type": "display_data"
    },
    {
     "name": "stdout",
     "output_type": "stream",
     "text": [
      "gld_params: [0.04370352 0.02402744 0.35565574 0.13908688]\n",
      "wrapper([ 4.785e-20  7.286e-03 ...  9.332e-01  9.108e-01]) = -0.02705682027307259\n",
      "assembly_constraint_no_mean([ 4.785e-20  7.286e-03 ...  9.332e-01  9.108e-01]) = [ 1.500e-02  1.500e-02 ...  1.500e-02  1.500e-02]\n"
     ]
    },
    {
     "data": {
      "application/vnd.jupyter.widget-view+json": {
       "model_id": "46f3143f487a472194c2312f69f94ff2",
       "version_major": 2,
       "version_minor": 0
      },
      "text/plain": [
       "  0%|          | 0/10000 [00:00<?, ?it/s]"
      ]
     },
     "metadata": {},
     "output_type": "display_data"
    },
    {
     "name": "stdout",
     "output_type": "stream",
     "text": [
      "gld_params: [0.04370308 0.02402782 0.35564908 0.13910531]\n",
      "wrapper([ 1.493e-04  6.999e-03 ...  9.330e-01  9.110e-01]) = -0.027057522318307166\n",
      "assembly_constraint_no_mean([ 1.493e-04  6.999e-03 ...  9.330e-01  9.110e-01]) = [ 1.490e-02  1.411e-02 ...  1.574e-02  1.501e-02]\n"
     ]
    },
    {
     "data": {
      "application/vnd.jupyter.widget-view+json": {
       "model_id": "d28cd8d889b04579823dc4a07410362e",
       "version_major": 2,
       "version_minor": 0
      },
      "text/plain": [
       "  0%|          | 0/10000 [00:00<?, ?it/s]"
      ]
     },
     "metadata": {},
     "output_type": "display_data"
    },
    {
     "name": "stdout",
     "output_type": "stream",
     "text": [
      "gld_params: [0.04370351 0.02402745 0.35565614 0.13908691]\n",
      "wrapper([ 9.458e-20  7.290e-03 ...  9.332e-01  9.108e-01]) = -0.02705682447248823\n",
      "assembly_constraint_no_mean([ 9.458e-20  7.290e-03 ...  9.332e-01  9.108e-01]) = [ 1.500e-02  1.500e-02 ...  1.500e-02  1.500e-02]\n",
      "\n",
      "The lower bound for the trust-region radius has been reached.\n",
      "Number of function evaluations: 484.\n",
      "Number of iterations: 236.\n",
      "Least value of wrapper: -0.027056800116715178.\n",
      "Maximum constraint violation: 8.740687070293157e-07.\n",
      "Corresponding point: [ 0.000e+00  7.157e-03 ...  9.331e-01  9.108e-01].\n",
      "Maximization Result with COBYQA:\n",
      " message: The lower bound for the trust-region radius has been reached\n",
      " success: False\n",
      "  status: 0\n",
      "     fun: -0.027056800116715178\n",
      "       x: [ 0.000e+00  7.157e-03 ...  9.331e-01  9.108e-01]\n",
      "     nit: 236\n",
      "   maxcv: 8.740687070293157e-07\n",
      "    nfev: 484\n"
     ]
    }
   ],
   "source": [
    "# Initial guess\n",
    "x0_maxi = [0.5] * RandDeviationVect.getDimension()  # Initial guess\n",
    "\n",
    "# Perform the local optimization using COBYQA directly\n",
    "res_maxi = minimize(\n",
    "    optimization_function_maxi, \n",
    "    x0_maxi, \n",
    "    method=\"COBYQA\", \n",
    "    jac=None, \n",
    "    bounds=Bounds(0.0, 1.0, keep_feasible=True),\n",
    "    constraints = nonLinearConstraint,\n",
    "    options={\n",
    "        \"f_target\": -0.2, \n",
    "        \"maxiter\": 1000,\n",
    "        \"maxfev\": 4000,\n",
    "        \"feasibility_tol\": 1e-12,\n",
    "        \"initial_tr_radius\": np.sqrt(32),\n",
    "        \"final_tr_radius\": 0.001,\n",
    "        \"disp\": True,\n",
    "        \"scale\": False #True\n",
    "    }\n",
    ")\n",
    "\n",
    "print(\"Maximization Result with COBYQA:\")\n",
    "print(res_maxi)"
   ]
  },
  {
   "cell_type": "code",
   "execution_count": null,
   "id": "34bb5870-0875-4677-9efe-c2bee9e9f7e1",
   "metadata": {
    "scrolled": true
   },
   "outputs": [],
   "source": [
    "# Basinhopping for the maximization function using COBYQA\n",
    "x0_maxi = [0.25] * RandDeviationVect.getDimension()  # Initial guess\n",
    "\n",
    "# Update minimizer_kwargs_maxi to use COBYQA\n",
    "minimizer_kwargs_maxi = {\n",
    "    \"method\": \"COBYQA\",   # Use COBYQA method\n",
    "    \"jac\": False,         # COBYQA doesn't use Jacobians\n",
    "    \"args\": (model_base,),     # Update args to match COBYQA requirements\n",
    "    \"constraints\": nonLinearConstraint,\n",
    "    \"bounds\": Bounds(lb=0.0,ub=1.0),\n",
    "    \"options\": {\n",
    "        \"f_target\": -0.2, \n",
    "        \"maxiter\": 1000,\n",
    "        \"maxfev\": 4000,\n",
    "        \"feasibility_tol\": 1e-2,\n",
    "        \"initial_tr_radius\": np.sqrt(32)*0.5,\n",
    "        \"final_tr_radius\": 0.33,\n",
    "        \"disp\": True\n",
    "    }\n",
    "}\n",
    "\n",
    "# Running basinhopping with COBYQA as the local optimizer\n",
    "res_maxi = basinhopping(\n",
    "    optimization_function_maxi, x0_maxi,\n",
    "    niter=5,\n",
    "    T=1,\n",
    "    stepsize=3.0,\n",
    "    niter_success=19,\n",
    "    interval=5,\n",
    "    minimizer_kwargs=minimizer_kwargs_maxi,\n",
    "    disp=True,\n",
    "    #take_step=step_taking,\n",
    "    #accept_test=accept_test,\n",
    "    #callback=callback\n",
    ")\n",
    "\n",
    "print(\"Maximization Result with COBYQA:\")\n",
    "print(res_maxi)"
   ]
  },
  {
   "cell_type": "code",
   "execution_count": null,
   "id": "57e3c1a4-7d8f-441d-a59d-6be0897b7cf8",
   "metadata": {},
   "outputs": [],
   "source": [
    "res_maxi.x"
   ]
  },
  {
   "cell_type": "code",
   "execution_count": null,
   "id": "150b8b05-65b6-426c-b60d-bf23b5b19b53",
   "metadata": {},
   "outputs": [],
   "source": [
    "optimization_function_maxi(np.array([0,0,1,0]*8))"
   ]
  },
  {
   "cell_type": "code",
   "execution_count": null,
   "id": "1687ab1e-cb51-4d88-8aac-39655110c711",
   "metadata": {},
   "outputs": [],
   "source": []
  },
  {
   "cell_type": "code",
   "execution_count": null,
   "id": "e6fea5b5-191c-4ee7-be87-e7cc47a123f3",
   "metadata": {},
   "outputs": [],
   "source": [
    "N = ot.Normal()\n",
    "func = ot.SymbolicFunction([\"x\"], [\"abs(x)\"])"
   ]
  },
  {
   "cell_type": "code",
   "execution_count": null,
   "id": "31cd7a4a-8080-492e-bcd3-f818072e212e",
   "metadata": {},
   "outputs": [],
   "source": []
  }
 ],
 "metadata": {
  "kernelspec": {
   "display_name": "Python 3 (ipykernel)",
   "language": "python",
   "name": "python3"
  },
  "language_info": {
   "codemirror_mode": {
    "name": "ipython",
    "version": 3
   },
   "file_extension": ".py",
   "mimetype": "text/x-python",
   "name": "python",
   "nbconvert_exporter": "python",
   "pygments_lexer": "ipython3",
   "version": "3.12.8"
  }
 },
 "nbformat": 4,
 "nbformat_minor": 5
}
