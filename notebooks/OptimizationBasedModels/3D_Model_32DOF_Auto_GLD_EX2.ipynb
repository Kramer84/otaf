{
 "cells": [
  {
   "cell_type": "code",
   "execution_count": 1,
   "id": "872744ae-a8b8-4796-9eff-ecbae30ae4c4",
   "metadata": {},
   "outputs": [],
   "source": [
    "import os\n",
    "import pickle\n",
    "import re\n",
    "import pprint\n",
    "import numpy as np\n",
    "import sympy as sp\n",
    "import openturns as ot\n",
    "# Display the final graph\n",
    "import openturns.viewer as viewer\n",
    "import matplotlib.pyplot as plt\n",
    "import trimesh as tr\n",
    "from importlib import reload\n",
    "from functools import partial\n",
    "\n",
    "from math import pi\n",
    "from joblib import Parallel, delayed\n",
    "from importlib import reload\n",
    "from IPython.display import display, clear_output\n",
    "from time import time\n",
    "from sympy.printing import latex\n",
    "from trimesh import viewer as trview\n",
    "import sklearn\n",
    "\n",
    "from scipy.optimize import OptimizeResult, minimize, basinhopping, differential_evolution, brute, shgo, check_grad, approx_fprime, fsolve, NonlinearConstraint, Bounds\n",
    "\n",
    "import tqdm\n",
    "import otaf\n",
    "\n",
    "from gldpy import GLD\n",
    "\n",
    "ot.Log.Show(ot.Log.NONE)\n",
    "np.set_printoptions(suppress=True)\n",
    "ar = np.array"
   ]
  },
  {
   "cell_type": "markdown",
   "id": "4817c72a-0818-4d16-a347-bc57ef3cf4d7",
   "metadata": {},
   "source": [
    "# Notebook for the analysis of a system comprised of N + 2 parts, 2 plates with N = N1 x N2 holes, and N pins. "
   ]
  },
  {
   "cell_type": "markdown",
   "id": "dd3f3fc3-09ea-4e9a-bca2-0a532e8398eb",
   "metadata": {},
   "source": [
    "### Defintion on global descriptive parameters"
   ]
  },
  {
   "cell_type": "code",
   "execution_count": 2,
   "id": "91253f14-bf22-495a-b2da-aa89d49d970d",
   "metadata": {},
   "outputs": [],
   "source": [
    "NX = 2 ## Number of holes on x axis\n",
    "NY = 2 ## Number of holes on y axis\n",
    "Dext = 20 ## Diameter of holes in mm\n",
    "Dint = 19.8 ## Diameter of pins in mm\n",
    "EH = 50 ## Distance between the hole axises\n",
    "LB = 25 # Distance between border holes axis and edge.\n",
    "hPlate = 30 #Height of the plates in mm\n",
    "hPin = 60 #Height of the pins in mm\n",
    "\n",
    "CIRCLE_RESOLUTION = 16 # NUmber of points to model the contour of the outer holes"
   ]
  },
  {
   "cell_type": "markdown",
   "id": "57fa6a57-ff00-4438-9487-0304ddcf7cd9",
   "metadata": {},
   "source": [
    "### Defining and constructing the system data dictionary\n",
    "\n",
    "The plates have NX * NY + 1 surfaces. The lower left point has coordinate 0,0,0\n",
    "\n",
    "We only model the surfaces that are touching. "
   ]
  },
  {
   "cell_type": "code",
   "execution_count": 3,
   "id": "9be0ccd7-a39e-4eef-83c8-ff9d759040bd",
   "metadata": {},
   "outputs": [],
   "source": [
    "N_PARTS = NX * NY * 2\n",
    "LX = (NX - 1) * EH + 2*LB\n",
    "LY = (NY - 1) * EH + 2*LB\n",
    "\n",
    "contour_points = ar([[0,0,0],[LX,0,0],[LX,LY,0],[0,LY,0]])\n",
    "\n",
    "R0 = ar([[1, 0, 0], [0, 1, 0], [0, 0, 1]])\n",
    "x_, y_, z_ = R0[0], R0[1], R0[2]\n",
    "\n",
    "Frame1 = ar([z_,y_,-x_])\n",
    "Frame2 = ar([-z_,y_,x_])"
   ]
  },
  {
   "cell_type": "markdown",
   "id": "42692f0e-e845-4efa-9470-805dc0d65b3b",
   "metadata": {},
   "source": [
    "First we define the base part dictionaries for the upper and lower plate, without holes"
   ]
  },
  {
   "cell_type": "code",
   "execution_count": 4,
   "id": "35a1bb46-a7f6-4d9d-82f0-07ceccb9ed9d",
   "metadata": {},
   "outputs": [],
   "source": [
    "system_data = {\n",
    "    \"PARTS\" : {\n",
    "        '0' : {\n",
    "            \"a\" : {\n",
    "                \"FRAME\": Frame1,\n",
    "                \"POINTS\": {'A0' : ar([0,0,0]),\n",
    "                           'A1' : ar([LX,0,0]),\n",
    "                           'A2' : ar([LX,LY,0]),\n",
    "                           'A3' : ar([0,LY,0]),\n",
    "                        },\n",
    "                \"TYPE\": \"plane\",\n",
    "                \"INTERACTIONS\": ['P1a'],\n",
    "                \"CONSTRAINTS_D\": [\"PERFECT\"],\n",
    "                \"CONSTRAINTS_G\": [\"SLIDING\"],            \n",
    "            }\n",
    "        },\n",
    "        '1' : {\n",
    "            \"a\" : {\n",
    "                \"FRAME\": Frame2,\n",
    "                \"POINTS\": {'A0' : ar([0,0,0]),\n",
    "                           'A1' : ar([LX,0,0]),\n",
    "                           'A2' : ar([LX,LY,0]),\n",
    "                           'A3' : ar([0,LY,0]),\n",
    "                        },\n",
    "                \"TYPE\": \"plane\",\n",
    "                \"INTERACTIONS\": ['P0a'],\n",
    "                \"CONSTRAINTS_D\": [\"PERFECT\"],\n",
    "                \"CONSTRAINTS_G\": [\"SLIDING\"],            \n",
    "            }\n",
    "        }  \n",
    "    },\n",
    "    \"LOOPS\": {\n",
    "        \"COMPATIBILITY\": {\n",
    "        },\n",
    "    },\n",
    "    \"GLOBAL_CONSTRAINTS\": \"3D\",\n",
    "}"
   ]
  },
  {
   "cell_type": "markdown",
   "id": "e1e81a47-6214-4774-ab58-8d16bd43ac9b",
   "metadata": {},
   "source": [
    "Then we iterate over the pin dimensions NX and NY, and create the corresponding holes and pins. At the same time there is 1 loop per pin"
   ]
  },
  {
   "cell_type": "code",
   "execution_count": 5,
   "id": "29491ebe-37b5-4879-a740-64db3434d62e",
   "metadata": {},
   "outputs": [],
   "source": [
    "alpha_gen = otaf.common.alphabet_generator()\n",
    "next(alpha_gen) # skipping 'a' as it has already been used above\n",
    "part_id = 2 # Start part index for pins\n",
    "for i in range(NX):\n",
    "    for j in range(NY):\n",
    "        pcor = ar([LB+i*EH, LB+j*EH, 0]) # Point coordinate for hole / pins\n",
    "        slab = next(alpha_gen) # Surface label, same for each mating pin so its easeir to track\n",
    "        # Creating pin\n",
    "        system_data[\"PARTS\"][str(part_id)] = {}\n",
    "        system_data[\"PARTS\"][str(part_id)][slab] = {\n",
    "            \"FRAME\": Frame1, # Frame doesn't really matter, as long as x is aligned on the axis\n",
    "            \"ORIGIN\": pcor, \n",
    "            \"TYPE\": \"cylinder\",\n",
    "            \"RADIUS\": Dint / 2,\n",
    "            \"EXTENT_LOCAL\": {\"x_max\": hPin/2, \"x_min\": -hPin/2},\n",
    "            \"INTERACTIONS\": [f\"P0{slab}\", f\"P1{slab}\"], \n",
    "            \"SURFACE_DIRECTION\": \"centrifugal\",\n",
    "            \"CONSTRAINTS_D\": [\"PERFECT\"], # No defects on the pins\n",
    "            \"BLOCK_ROTATIONS_G\": 'x', # The pins do not rotate around their axis\n",
    "            \"BLOCK_TRANSLATIONS_G\": 'x', # The pins do not slide along their axis\n",
    "        }\n",
    "        # Adding hole to part 0\n",
    "        system_data[\"PARTS\"][\"0\"][slab] = {\n",
    "            \"FRAME\": Frame1,\n",
    "            \"ORIGIN\": pcor, \n",
    "            \"TYPE\": \"cylinder\",\n",
    "            \"RADIUS\": Dext / 2,\n",
    "            \"EXTENT_LOCAL\": {\"x_max\": hPin/2, \"x_min\": -hPin/2},\n",
    "            \"INTERACTIONS\": [f\"P{part_id}{slab}\"], \n",
    "            \"SURFACE_DIRECTION\": \"centripetal\",\n",
    "        }\n",
    "        # Adding hole to part 1\n",
    "        system_data[\"PARTS\"][\"1\"][slab] = {\n",
    "            \"FRAME\": Frame2,\n",
    "            \"ORIGIN\": pcor, \n",
    "            \"TYPE\": \"cylinder\",\n",
    "            \"RADIUS\": Dext / 2,\n",
    "            \"EXTENT_LOCAL\": {\"x_max\": hPin/2, \"x_min\": -hPin/2},\n",
    "            \"INTERACTIONS\": [f\"P{part_id}{slab}\"],\n",
    "            \"SURFACE_DIRECTION\": \"centripetal\",\n",
    "        }\n",
    "        # Construct Compatibility loop\n",
    "        loop_id = f\"L{part_id-1}\"\n",
    "        formater = lambda i,l : f\"P{i}{l}{l.upper()}0\" \n",
    "        system_data[\"LOOPS\"][\"COMPATIBILITY\"][loop_id] = f\"P0aA0 -> {formater(0,slab)} -> {formater(part_id,slab)} -> {formater(1,slab)} -> P1aA0\"\n",
    "        part_id += 1  "
   ]
  },
  {
   "cell_type": "code",
   "execution_count": 6,
   "id": "293f981a-efe3-4b44-b9f3-b7a580cf3829",
   "metadata": {},
   "outputs": [],
   "source": [
    "SDA = otaf.AssemblyDataProcessor(system_data)\n",
    "SDA.generate_expanded_loops()"
   ]
  },
  {
   "cell_type": "code",
   "execution_count": 7,
   "id": "e3e26ae8-3e27-496d-ac65-9f4385d89105",
   "metadata": {},
   "outputs": [],
   "source": [
    "CLH = otaf.CompatibilityLoopHandling(SDA)\n",
    "compatibility_expressions = CLH.get_compatibility_expression_from_FO_matrices()"
   ]
  },
  {
   "cell_type": "code",
   "execution_count": 8,
   "id": "87736588-7cec-4360-b748-2dfc7666461e",
   "metadata": {
    "scrolled": true
   },
   "outputs": [
    {
     "name": "stdout",
     "output_type": "stream",
     "text": [
      "Processing part 0, surface b for cylinder-to-cylinder interactions.\n",
      "usedGMatDat [['0', 'b', 'B0', '2', 'b', 'B0']]\n",
      "Found 1 used gap matrices.\n",
      "unusedGMatDat [['0', 'b', 'B2', '2', 'b', 'B2'], ['0', 'b', 'B1', '2', 'b', 'B1']]\n",
      "Found 2 unused gap matrices.\n",
      "Matching used and unused gap matrices: GP0bB0P2bB0 with GP0bB2P2bB2\n",
      "Matching used and unused gap matrices: GP0bB0P2bB0 with GP0bB1P2bB1\n",
      "Generated 32 interaction equations for current matching.\n",
      "Total interaction equations generated: 32\n",
      "Processing part 0, surface c for cylinder-to-cylinder interactions.\n",
      "usedGMatDat [['0', 'c', 'C0', '3', 'c', 'C0']]\n",
      "Found 1 used gap matrices.\n",
      "unusedGMatDat [['0', 'c', 'C2', '3', 'c', 'C2'], ['0', 'c', 'C1', '3', 'c', 'C1']]\n",
      "Found 2 unused gap matrices.\n",
      "Matching used and unused gap matrices: GP0cC0P3cC0 with GP0cC2P3cC2\n",
      "Matching used and unused gap matrices: GP0cC0P3cC0 with GP0cC1P3cC1\n",
      "Generated 32 interaction equations for current matching.\n",
      "Total interaction equations generated: 32\n",
      "Processing part 0, surface d for cylinder-to-cylinder interactions.\n",
      "usedGMatDat [['0', 'd', 'D0', '4', 'd', 'D0']]\n",
      "Found 1 used gap matrices.\n",
      "unusedGMatDat [['0', 'd', 'D2', '4', 'd', 'D2'], ['0', 'd', 'D1', '4', 'd', 'D1']]\n",
      "Found 2 unused gap matrices.\n",
      "Matching used and unused gap matrices: GP0dD0P4dD0 with GP0dD2P4dD2\n",
      "Matching used and unused gap matrices: GP0dD0P4dD0 with GP0dD1P4dD1\n",
      "Generated 32 interaction equations for current matching.\n",
      "Total interaction equations generated: 32\n",
      "Processing part 0, surface e for cylinder-to-cylinder interactions.\n",
      "usedGMatDat [['0', 'e', 'E0', '5', 'e', 'E0']]\n",
      "Found 1 used gap matrices.\n",
      "unusedGMatDat [['0', 'e', 'E2', '5', 'e', 'E2'], ['0', 'e', 'E1', '5', 'e', 'E1']]\n",
      "Found 2 unused gap matrices.\n",
      "Matching used and unused gap matrices: GP0eE0P5eE0 with GP0eE2P5eE2\n",
      "Matching used and unused gap matrices: GP0eE0P5eE0 with GP0eE1P5eE1\n",
      "Generated 32 interaction equations for current matching.\n",
      "Total interaction equations generated: 32\n",
      "Processing part 1, surface a for plane-to-plane interactions.\n",
      "usedGMatDat [['1', 'a', 'A0', '0', 'a', 'A0']]\n",
      "Found 1 used gap matrices.\n",
      "unusedGMatDat [['1', 'a', 'A2', '0', 'a', 'A2'], ['1', 'a', 'A3', '0', 'a', 'A3'], ['1', 'a', 'A1', '0', 'a', 'A1']]\n",
      "Found 3 unused gap matrices.\n",
      "Generated 3 interaction matrix loops for current matching.\n",
      "Processing part 2, surface b for cylinder-to-cylinder interactions.\n",
      "usedGMatDat [['2', 'b', 'B0', '1', 'b', 'B0']]\n",
      "Found 1 used gap matrices.\n",
      "unusedGMatDat [['2', 'b', 'B2', '0', 'b', 'B2'], ['2', 'b', 'B1', '1', 'b', 'B2'], ['2', 'b', 'B2', '1', 'b', 'B1'], ['2', 'b', 'B0', '0', 'b', 'B0'], ['2', 'b', 'B1', '0', 'b', 'B1']]\n",
      "Found 5 unused gap matrices.\n",
      "Matching used and unused gap matrices: GP2bB0P1bB0 with GP2bB1P1bB2\n",
      "Matching used and unused gap matrices: GP2bB0P1bB0 with GP2bB2P1bB1\n",
      "Generated 32 interaction equations for current matching.\n",
      "Total interaction equations generated: 32\n",
      "Processing part 3, surface c for cylinder-to-cylinder interactions.\n",
      "usedGMatDat [['3', 'c', 'C0', '1', 'c', 'C0']]\n",
      "Found 1 used gap matrices.\n",
      "unusedGMatDat [['3', 'c', 'C2', '0', 'c', 'C2'], ['3', 'c', 'C0', '0', 'c', 'C0'], ['3', 'c', 'C1', '1', 'c', 'C2'], ['3', 'c', 'C2', '1', 'c', 'C1'], ['3', 'c', 'C1', '0', 'c', 'C1']]\n",
      "Found 5 unused gap matrices.\n",
      "Matching used and unused gap matrices: GP3cC0P1cC0 with GP3cC1P1cC2\n",
      "Matching used and unused gap matrices: GP3cC0P1cC0 with GP3cC2P1cC1\n",
      "Generated 32 interaction equations for current matching.\n",
      "Total interaction equations generated: 32\n",
      "Processing part 4, surface d for cylinder-to-cylinder interactions.\n",
      "usedGMatDat [['4', 'd', 'D0', '1', 'd', 'D0']]\n",
      "Found 1 used gap matrices.\n",
      "unusedGMatDat [['4', 'd', 'D1', '0', 'd', 'D1'], ['4', 'd', 'D2', '1', 'd', 'D1'], ['4', 'd', 'D1', '1', 'd', 'D2'], ['4', 'd', 'D2', '0', 'd', 'D2'], ['4', 'd', 'D0', '0', 'd', 'D0']]\n",
      "Found 5 unused gap matrices.\n",
      "Matching used and unused gap matrices: GP4dD0P1dD0 with GP4dD2P1dD1\n",
      "Matching used and unused gap matrices: GP4dD0P1dD0 with GP4dD1P1dD2\n",
      "Generated 32 interaction equations for current matching.\n",
      "Total interaction equations generated: 32\n",
      "Processing part 5, surface e for cylinder-to-cylinder interactions.\n",
      "usedGMatDat [['5', 'e', 'E0', '1', 'e', 'E0']]\n",
      "Found 1 used gap matrices.\n",
      "unusedGMatDat [['5', 'e', 'E1', '1', 'e', 'E2'], ['5', 'e', 'E2', '0', 'e', 'E2'], ['5', 'e', 'E2', '1', 'e', 'E1'], ['5', 'e', 'E0', '0', 'e', 'E0'], ['5', 'e', 'E1', '0', 'e', 'E1']]\n",
      "Found 5 unused gap matrices.\n",
      "Matching used and unused gap matrices: GP5eE0P1eE0 with GP5eE1P1eE2\n",
      "Matching used and unused gap matrices: GP5eE0P1eE0 with GP5eE2P1eE1\n",
      "Generated 32 interaction equations for current matching.\n",
      "Total interaction equations generated: 32\n"
     ]
    }
   ],
   "source": [
    "ILH = otaf.InterfaceLoopHandling(SDA, CLH, circle_resolution=CIRCLE_RESOLUTION)\n",
    "interface_constraints = ILH.get_interface_loop_expressions()"
   ]
  },
  {
   "cell_type": "code",
   "execution_count": 9,
   "id": "31d2f4ba-f4bd-425a-ba0c-50cabc500272",
   "metadata": {},
   "outputs": [
    {
     "name": "stdout",
     "output_type": "stream",
     "text": [
      "32 [v_d_0, w_d_0, beta_d_0, gamma_d_0, v_d_2, w_d_2, beta_d_2, gamma_d_2, v_d_5, w_d_5, beta_d_5, gamma_d_5, v_d_7, w_d_7, beta_d_7, gamma_d_7, v_d_8, w_d_8, beta_d_8, gamma_d_8, v_d_10, w_d_10, beta_d_10, gamma_d_10, v_d_11, w_d_11, beta_d_11, gamma_d_11, v_d_13, w_d_13, beta_d_13, gamma_d_13]\n"
     ]
    }
   ],
   "source": [
    "SOCAM = otaf.SystemOfConstraintsAssemblyModel(\n",
    "    compatibility_expressions, interface_constraints\n",
    ")\n",
    "\n",
    "SOCAM.embedOptimizationVariable()\n",
    "\n",
    "print(len(SOCAM.deviation_symbols), SOCAM.deviation_symbols)"
   ]
  },
  {
   "cell_type": "markdown",
   "id": "e1be834b-fc7d-4fc3-85eb-2d8768c446ed",
   "metadata": {},
   "source": [
    "## Construction of the stochastic model of the defects.\n",
    "\n",
    "These are the max variances. "
   ]
  },
  {
   "cell_type": "code",
   "execution_count": 10,
   "id": "31049a41-8b2a-49c0-8142-2819f94c51ee",
   "metadata": {},
   "outputs": [],
   "source": [
    "tol = 0.1 * np.sqrt(2)\n",
    "Cm = 1  # Process capability\n",
    "\n",
    "# Defining the uncertainties on the position and orientation uncertainties.\n",
    "sigma_e_pos = tol / (6 * Cm)\n",
    "theta_max = tol / hPlate\n",
    "sigma_e_theta = (2 * theta_max) / (6 * Cm)"
   ]
  },
  {
   "cell_type": "code",
   "execution_count": 11,
   "id": "449f3658-2055-4cd6-a9bb-0ef7d520204f",
   "metadata": {},
   "outputs": [],
   "source": [
    "RandDeviationVect = otaf.distribution.get_composed_normal_defect_distribution(\n",
    "    defect_names=SOCAM.deviation_symbols,\n",
    "    sigma_dict = {\"alpha\":sigma_e_theta, \n",
    "                  \"beta\":sigma_e_theta,\n",
    "                  \"gamma\":sigma_e_theta, \n",
    "                  \"u\":sigma_e_pos, \n",
    "                  \"v\":sigma_e_pos, \n",
    "                  \"w\":sigma_e_pos})\n",
    "dim_devs = int(RandDeviationVect.getDimension())"
   ]
  },
  {
   "cell_type": "markdown",
   "id": "e58a0a59-111e-461e-b796-afacf7adce72",
   "metadata": {},
   "source": [
    "## Estimating the bounds on the probability of failure of the model.\n",
    "\n",
    "- First by exploring the whle parameter space, by generating a LHS in the (normalized) parameter space and doing a double loop montecarlo\n",
    "- By using the parameter constraint function to guide an optimization algorithm to find the bounds on the probability of failure"
   ]
  },
  {
   "cell_type": "markdown",
   "id": "f55b207f-7a0c-4bdd-96d3-12d235ee3202",
   "metadata": {},
   "source": [
    "## Now lets first to a double loop monte-carlo to explore the full space of the parameters (using the intermediate lambda space) and the stochastic space, to be able to draw the full P-Box of the slack"
   ]
  },
  {
   "cell_type": "markdown",
   "id": "60040ec1-5d78-428e-ba44-6b6adb01de5f",
   "metadata": {},
   "source": [
    "### Explicit constraint function on the 4 degrees of freedom of the cylindrical tolerance zone :\n",
    "\n",
    "$$λu2​+λv2​+λα2​+λβ2​+2(λu​λα​+λv​λβ​)−1=0$$\n",
    "\n",
    "This the constraint on the multipliers of the max standard deviation for each component of the DOFs. The defects are normal, centered and independent"
   ]
  },
  {
   "cell_type": "code",
   "execution_count": 12,
   "id": "640d99d7-56c6-4b9f-a4de-d28268b35398",
   "metadata": {},
   "outputs": [
    {
     "ename": "NameError",
     "evalue": "name 'STOP' is not defined",
     "output_type": "error",
     "traceback": [
      "\u001b[0;31m---------------------------------------------------------------------------\u001b[0m",
      "\u001b[0;31mNameError\u001b[0m                                 Traceback (most recent call last)",
      "Cell \u001b[0;32mIn[12], line 1\u001b[0m\n\u001b[0;32m----> 1\u001b[0m \u001b[43mSTOP\u001b[49m\n",
      "\u001b[0;31mNameError\u001b[0m: name 'STOP' is not defined"
     ]
    }
   ],
   "source": [
    "STOP"
   ]
  },
  {
   "cell_type": "code",
   "execution_count": null,
   "id": "3a94e1fe-9ae9-4000-96d5-1c1a896f28ab",
   "metadata": {
    "scrolled": true
   },
   "outputs": [],
   "source": [
    "bounds = None\n",
    "SEED_MC_PF = 6436431\n",
    "SIZE_MC_PF = 20000 #int(1e6) #1e4\n",
    "s_values = np.zeros((N_lambda, SIZE_MC_PF)) # For each MC point we have a s value\n",
    "GLD_parameters = [] # We need the parameters of the generalized lambda distribution.\n",
    "failure_probabilities = []\n",
    "# Generalized lambda distribution object for fitting\n",
    "gld = GLD('VSL')\n",
    "\n",
    "start_time = time()  # Record the start time\n",
    "for i in range(N_lambda):\n",
    "    print(f\"Doing iteration {i} of {N_lambda}\")\n",
    "    if i>0:\n",
    "        fp = failure_probabilities\n",
    "        print(f\"Failure probability i-1 : {fp[i-1]}, Min: {min(fp)}, / Max: {max(fp)}\")\n",
    "        print(\"s_mean: \", s_values.mean().round(3), \"s_min: \", np.nanmin(s_values).round(3), \"s_max: \", np.nanmax(s_values).round(3))\n",
    "\n",
    "    ot.RandomGenerator.SetSeed(SEED_MC_PF)\n",
    "    deviation_samples = np.array(RandDeviationVect.getSample(SIZE_MC_PF)) * np.array(\n",
    "        lambda_sample_conditioned[i]\n",
    "    )\n",
    "    optimizations = otaf.uncertainty.compute_gap_optimizations_on_sample(\n",
    "            SOCAM,\n",
    "            deviation_samples,\n",
    "            bounds=bounds,\n",
    "            n_cpu=-1,\n",
    "            progress_bar=True,\n",
    "        )\n",
    "    \n",
    "    slack = np.array([opt.fun for opt in optimizations], dtype=float)*-1 #Normally there aren\"t any nans.\n",
    "    s_values[i,:] = slack\n",
    "    GLD_parameters.append(gld.fit_LMM(slack, disp_fit=False, disp_optimizer=False))\n",
    "    failure_probabilities.append(gld.CDF_num(0, GLD_parameters[i]))\n",
    "\n",
    "\n",
    "print(f\"Done {len (lambda_sample_conditioned)} experiments.\")\n",
    "print(f\"Elapsed time: {time() - start_time:.3f} seconds.\")"
   ]
  },
  {
   "cell_type": "code",
   "execution_count": null,
   "id": "116d7e37-a5a0-4371-983b-aad3fb8ba30f",
   "metadata": {},
   "outputs": [],
   "source": [
    "X = otaf.sampling.find_best_worst_quantile(np.array(lambda_sample_conditioned), np.array(failure_probabilities), 0.1)\n",
    "(best_5p_lambda, best_5p_res), (worst_5p_lambda, worst_5p_res) = X"
   ]
  },
  {
   "cell_type": "code",
   "execution_count": null,
   "id": "4ef201d9-f0c7-4d9a-8431-da3f26fab7e7",
   "metadata": {},
   "outputs": [],
   "source": [
    "distributions = [ot.UserDefined(ot.Sample(s[:,np.newaxis])) for s in s_values]\n",
    "x_min, x_max = -0.03, 0.11\n",
    "sup_data, inf_data = otaf.distribution.compute_sup_inf_distributions(distributions, x_min, x_max)"
   ]
  },
  {
   "cell_type": "code",
   "execution_count": null,
   "id": "42d09b7e-a700-4d30-9e13-4d7cd8c71c34",
   "metadata": {},
   "outputs": [],
   "source": [
    "# Initialize colors and legends for each lambda sample\n",
    "colors = [[\"grey\"]] * lambda_sample_conditioned.getSize()\n",
    "legends = [\"\"] * lambda_sample_conditioned.getSize()\n",
    "\n",
    "# Plot the combined CDF with additional curves for the envelopes\n",
    "graph_full = otaf.plotting.plot_combined_CDF(distributions, x_min, x_max, colors, legends)\n",
    "graph_full = otaf.plotting.set_graph_legends(\n",
    "    graph_full,\n",
    "    x_title=\"j\",\n",
    "    y_title=\"P\",\n",
    "    title=\"Slack P-BOX 32 dimensions\",\n",
    "    legends=legends\n",
    ")\n",
    "\n",
    "# Add the upper and lower envelopes to the graph\n",
    "graph_full.add(ot.Curve(inf_data, \"blue\", \"solid\", 1.5, \"lower envelope\"))\n",
    "graph_full.add(ot.Curve(sup_data, \"red\", \"solid\", 1.5, \"upper envelope\"))\n",
    "view = viewer.View(graph_full, pixelsize=(1100, 750))"
   ]
  },
  {
   "cell_type": "code",
   "execution_count": null,
   "id": "59e9ac3f-503d-4d98-804a-507201a7e55a",
   "metadata": {},
   "outputs": [],
   "source": [
    "min(failure_probabilities)"
   ]
  },
  {
   "cell_type": "markdown",
   "id": "b175ab42-9b8b-4e48-abd4-55fb64a25d79",
   "metadata": {},
   "source": [
    "# Now we'll use the other lambda modelization, a bit more difficutl to sample"
   ]
  },
  {
   "cell_type": "code",
   "execution_count": null,
   "id": "7cc29a0a-6b65-47e8-9c0d-6ce3ca604abb",
   "metadata": {},
   "outputs": [],
   "source": [
    "lambda_limit_sample = otaf.sampling.generate_imprecise_probabilistic_samples([4]*8, -1, discretization=1)\n",
    "lambda_limit_sample_sub_choice = [next(lambda_limit_sample) for _ in range(60000)]\n",
    "lambda_limit_sample_sub_choice = np.stack(lambda_limit_sample_sub_choice)\n",
    "print(lambda_limit_sample_sub_choice.shape)"
   ]
  },
  {
   "cell_type": "code",
   "execution_count": null,
   "id": "cc7a0477-968f-4b75-8450-316b000245cf",
   "metadata": {},
   "outputs": [],
   "source": [
    "def solve_for_lambda_beta(lambda_u, lambda_v, lambda_alpha):\n",
    "    \"\"\"\n",
    "    Solve the equation for lambda_beta given lambda_u, lambda_v, and lambda_alpha.\n",
    "    \"\"\"\n",
    "    def equation(lambda_beta):\n",
    "        return (lambda_u**2 + lambda_v**2 + lambda_alpha**2 + lambda_beta**2 +\n",
    "                2 * (lambda_u * lambda_alpha + lambda_v * lambda_beta) - 1)\n",
    "    \n",
    "    # Use a root-finding method to solve for lambda_beta\n",
    "    lambda_beta_initial_guess = 0.5\n",
    "    lambda_beta_solution = fsolve(equation, lambda_beta_initial_guess)[0]\n",
    "    \n",
    "    return lambda_beta_solution\n",
    "\n",
    "def generate_points_on_surface(num_points=1000):\n",
    "    \"\"\"\n",
    "    Generate points on the surface by solving for lambda_beta\n",
    "    given random values for lambda_u, lambda_v, and lambda_alpha.\n",
    "    \n",
    "    Returns:\n",
    "    - A numpy array of shape (num_valid_points, 4) where each row is \n",
    "      (lambda_u, lambda_v, lambda_alpha, lambda_beta).\n",
    "    \"\"\"\n",
    "    # Generate random values for lambda_u, lambda_v, lambda_alpha in [0, 1]\n",
    "    lambda_u = np.random.rand(num_points)\n",
    "    lambda_v = np.random.rand(num_points)\n",
    "    lambda_alpha = np.random.rand(num_points)\n",
    "    \n",
    "    # Assume lambda_beta = 0 and check if the inequality is satisfied\n",
    "    inequality_values = lambda_u**2 + lambda_v**2 + lambda_alpha**2 + 2 * (lambda_u * lambda_alpha)\n",
    "\n",
    "    # Filter valid points where inequality holds\n",
    "    valid_mask = inequality_values <= 1\n",
    "    lambda_u_valid = lambda_u[valid_mask]\n",
    "    lambda_v_valid = lambda_v[valid_mask]\n",
    "    lambda_alpha_valid = lambda_alpha[valid_mask]\n",
    "    \n",
    "    # Solve for lambda_beta for valid points\n",
    "    lambda_beta_valid = np.array([solve_for_lambda_beta(u, v, a) \n",
    "                                  for u, v, a in zip(lambda_u_valid, lambda_v_valid, lambda_alpha_valid)])\n",
    "\n",
    "    # Only keep points where the solved lambda_beta is between 0 and 1\n",
    "    final_mask = (lambda_beta_valid >= 0) & (lambda_beta_valid <= 1)\n",
    "    final_points = np.vstack((lambda_u_valid[final_mask],\n",
    "                              lambda_v_valid[final_mask],\n",
    "                              lambda_alpha_valid[final_mask],\n",
    "                              lambda_beta_valid[final_mask])).T\n",
    "    \n",
    "    return final_points\n",
    "\n",
    "# Generate the points on the surface\n",
    "points = generate_points_on_surface(num_points=20000)\n",
    "\n",
    "# Call the pair_plot function (assuming it's already defined)\n",
    "labels = ['lambda_u', 'lambda_v', 'lambda_alpha', 'lambda_beta']\n",
    "#otaf.plotting.pair_plot(points, labels)"
   ]
  },
  {
   "cell_type": "code",
   "execution_count": null,
   "id": "dbec9b31-167f-41ab-a3d2-38000577a48e",
   "metadata": {},
   "outputs": [],
   "source": [
    "random_lambda_sample = [points[np.random.choice(points.shape[0], 200, replace=False)] for _ in range(8)]\n",
    "random_lambda_sample = np.hstack(random_lambda_sample)"
   ]
  },
  {
   "cell_type": "code",
   "execution_count": null,
   "id": "2d2a858d-1a85-48cd-841e-205c10da8e16",
   "metadata": {
    "scrolled": true
   },
   "outputs": [],
   "source": [
    "N_lambda = random_lambda_sample.shape[0]\n",
    "bounds = None\n",
    "SEED_MC_PF = 6436431\n",
    "SIZE_MC_PF = 10000 #int(1e6) #1e4\n",
    "s_values = np.zeros((N_lambda, SIZE_MC_PF)) # For each MC point we have a s value\n",
    "GLD_parameters = [] # We need the parameters of the generalized lambda distribution.\n",
    "failure_probabilities = []\n",
    "# Generalized lambda distribution object for fitting\n",
    "gld = GLD('VSL')\n",
    "\n",
    "start_time = time()  # Record the start time\n",
    "for i in range(N_lambda):\n",
    "    print(f\"Doing iteration {i} of {N_lambda}\")\n",
    "    if i>0:\n",
    "        fp = failure_probabilities\n",
    "        print(f\"Failure probability i-1 : {fp[i-1]}, Min: {min(fp)}, / Max: {max(fp)}\")\n",
    "        print(\"s_mean: \", s_values.mean().round(3), \"s_min: \", np.nanmin(s_values).round(3), \"s_max: \", np.nanmax(s_values).round(3))\n",
    "\n",
    "    ot.RandomGenerator.SetSeed(SEED_MC_PF)\n",
    "    deviation_samples = np.array(RandDeviationVect.getSample(SIZE_MC_PF)) * random_lambda_sample[i]\n",
    "    optimizations = otaf.uncertainty.compute_gap_optimizations_on_sample(\n",
    "            SOCAM,\n",
    "            deviation_samples,\n",
    "            bounds=bounds,\n",
    "            n_cpu=-1,\n",
    "            progress_bar=True,\n",
    "        )\n",
    "    \n",
    "    slack = np.array([opt.fun for opt in optimizations], dtype=float)*-1 #Normally there aren\"t any nans.\n",
    "    s_values[i,:] = slack\n",
    "    GLD_parameters.append(gld.fit_LMM(slack, disp_fit=False, disp_optimizer=False))\n",
    "    failure_probabilities.append(gld.CDF_num(0, GLD_parameters[i]))\n",
    "\n",
    "\n",
    "print(f\"Done {N_lambda} experiments.\")\n",
    "print(f\"Elapsed time: {time() - start_time:.3f} seconds.\")"
   ]
  },
  {
   "cell_type": "code",
   "execution_count": null,
   "id": "48ba797e-b00f-4523-8476-b97e5b4c132e",
   "metadata": {},
   "outputs": [],
   "source": [
    "X = otaf.sampling.find_best_worst_quantile(np.array(lambda_sample_conditioned), np.array(failure_probabilities), 0.1)\n",
    "(best_5p_lambda, best_5p_res), (worst_5p_lambda, worst_5p_res) = X"
   ]
  },
  {
   "cell_type": "code",
   "execution_count": null,
   "id": "ca6d1b15-9131-4741-a4cb-b4217637c2eb",
   "metadata": {},
   "outputs": [],
   "source": [
    "distributions = [ot.UserDefined(ot.Sample(s[:,np.newaxis])) for s in s_values]\n",
    "x_min, x_max = -0.03, 0.11\n",
    "sup_data, inf_data = otaf.distribution.compute_sup_inf_distributions(distributions, x_min, x_max)"
   ]
  },
  {
   "cell_type": "code",
   "execution_count": null,
   "id": "3527d338-2d2b-43c0-9e76-8e03c57d6240",
   "metadata": {
    "scrolled": true
   },
   "outputs": [],
   "source": [
    "%matplotlib inline"
   ]
  },
  {
   "cell_type": "code",
   "execution_count": null,
   "id": "3a3f384b-26ca-4aa0-8ec1-1471f2884d4f",
   "metadata": {},
   "outputs": [],
   "source": [
    "# Initialize colors and legends for each lambda sample\n",
    "colors = [[\"grey\"]] * N_lambda\n",
    "legends = [\"\"] * N_lambda\n",
    "\n",
    "# Plot the combined CDF with additional curves for the envelopes\n",
    "graph_full = otaf.plotting.plot_combined_CDF(distributions, x_min, x_max, colors, legends)\n",
    "graph_full = otaf.plotting.set_graph_legends(\n",
    "    graph_full,\n",
    "    x_title=\"slack\",\n",
    "    y_title=\"$P_{slack}$\",\n",
    "    title=\"Slack P-BOX 32 dimensions\",\n",
    "    legends=legends\n",
    ")\n",
    "\n",
    "# Add the upper and lower envelopes to the graph\n",
    "graph_full.add(ot.Curve(inf_data, \"blue\", \"solid\", 1.5, \"lower envelope\"))\n",
    "graph_full.add(ot.Curve(sup_data, \"red\", \"solid\", 1.5, \"upper envelope\"))\n",
    "view = viewer.View(graph_full, pixelsize=(1100, 750))"
   ]
  },
  {
   "cell_type": "code",
   "execution_count": null,
   "id": "b9723baf-f91d-4ce9-ad5b-7fcfd88c1bc9",
   "metadata": {},
   "outputs": [],
   "source": [
    "# %matplotlib qt\n",
    "fig = plt.figure(dpi=150)\n",
    "\n",
    "ax = fig.add_subplot(1, 1, 1)\n",
    "ax.plot(sup_data[:, 0], sup_data[:, 1], color=\"tab:orange\", label=\"upper envelope\")\n",
    "ax.plot(inf_data[:, 0], inf_data[:, 1], color=\"tab:blue\", label=\"lower envelope\")\n",
    "ax.grid(True)\n",
    "ax.fill_between(\n",
    "    inf_data[:, 0], inf_data[:, 1], sup_data[:, 1], color=\"gray\", alpha=0.3\n",
    ")\n",
    "ax.set_xlabel(\"slack\")\n",
    "ax.set_ylabel(\"$P_{slack}$\")\n",
    "ax.legend()\n",
    "ax.set_title(\"Slack P-Box 3D Assembly 32D\")"
   ]
  },
  {
   "cell_type": "code",
   "execution_count": null,
   "id": "b176e60a-1b48-467c-bbd8-a654452c511c",
   "metadata": {},
   "outputs": [],
   "source": [
    "print(f\"Minimum failure probability: {np.min(failure_probabilities):.5e}, Maximum failure probability: {np.max(failure_probabilities):.5e}\")"
   ]
  },
  {
   "cell_type": "code",
   "execution_count": null,
   "id": "060f9521-d4fd-483e-a4da-bb5617225b15",
   "metadata": {},
   "outputs": [],
   "source": [
    "STOP"
   ]
  },
  {
   "cell_type": "markdown",
   "id": "26ab91c6-d998-41d1-8739-502140b07ef4",
   "metadata": {},
   "source": [
    "## Global optimization basinhopping with GLD"
   ]
  },
  {
   "cell_type": "markdown",
   "id": "73b659ba-59be-4385-a1a4-d2b2aebc6f5f",
   "metadata": {},
   "source": [
    "### First we define the optimization functions "
   ]
  },
  {
   "cell_type": "code",
   "execution_count": 13,
   "id": "b2b3fbdc-2bc3-4e79-a1b3-2dacfa491e45",
   "metadata": {},
   "outputs": [],
   "source": [
    "SIZE_MC_PF = 10000 #int(1e6) #1e4\n",
    "sample_gld = np.array(RandDeviationVect.getSample(SIZE_MC_PF))\n",
    "scale_factor = 1.0\n",
    "GLD_parameters = [] # We need the parameters of the generalized lambda distribution.\n",
    "\n",
    "# Generalized lambda distribution object for fitting\n",
    "gld = GLD('VSL')\n",
    "\n",
    "def model_base(x, sample=sample_gld):\n",
    "    # Model without surrogate, to get slack\n",
    "    x = sample * np.sqrt(x[np.newaxis, :])\n",
    "    optimization_variables = otaf.uncertainty.compute_gap_optimizations_on_sample_batch(\n",
    "        constraint_matrix_generator=SOCAM,\n",
    "        deviation_array=x,\n",
    "        batch_size=500,\n",
    "        n_cpu=-1,\n",
    "        progress_bar=True,\n",
    "        verbose=0,\n",
    "        dtype=\"float32\",\n",
    "    )\n",
    "    slack_values = optimization_variables[:,-1]\n",
    "    return slack_values\n",
    "\n",
    "@otaf.optimization.scaling(scale_factor)\n",
    "def optimization_function_mini(x, model=model_base):\n",
    "    # Here we search the minimal probability of failure\n",
    "    slack = model(x)\n",
    "    gld_params = gld.fit_LMM(slack, disp_fit=False, disp_optimizer=False)\n",
    "    if np.any(np.isnan(gld_params)):\n",
    "        failure_probability = np.where(slack<0,1,0).mean()\n",
    "    else :\n",
    "        print(\"gld_params:\", gld_params)\n",
    "        failure_probability = gld.CDF_num(0, gld_params)\n",
    "    return failure_probability\n",
    "\n",
    "@otaf.optimization.scaling(scale_factor)\n",
    "def optimization_function_maxi(x, model=model_base):\n",
    "    # Here we search the maximal probability of failure so negative output\n",
    "    slack = model(x)\n",
    "    gld_params = gld.fit_LMM(slack, disp_fit=False, disp_optimizer=False)\n",
    "    if np.any(np.isnan(gld_params)):\n",
    "        failure_probability = np.where(slack<0,1,0).mean()\n",
    "    else :\n",
    "        print(\"gld_params:\", gld_params)\n",
    "        failure_probability = gld.CDF_num(0, gld_params)\n",
    "    return failure_probability*-1"
   ]
  },
  {
   "cell_type": "markdown",
   "id": "dca4216b-dcef-4762-9bb1-613b46c5f111",
   "metadata": {},
   "source": [
    "### Explicit parameter feature constraints (not ideal)"
   ]
  },
  {
   "cell_type": "code",
   "execution_count": 14,
   "id": "f8f63ca8-0615-4769-bdb3-1ca1c71470d3",
   "metadata": {},
   "outputs": [],
   "source": [
    "def cylinder_feature_constraint(la):\n",
    "    \"\"\"Evaluates the cylinder constraint for a given lambda array.\"\"\"\n",
    "    sum_squares = np.dot(la, la)  # Equivalent to la[0]**2 + la[1]**2 + la[2]**2 + la[3]**2\n",
    "    cross_terms = 2 * (la[0] * la[2] + la[1] * la[3])\n",
    "    return sum_squares + cross_terms - 1\n",
    "\n",
    "def cylinder_feature_constraint_jacobian(la):\n",
    "    \"\"\"Computes the analytical Jacobian of the cylinder feature constraint.\"\"\"\n",
    "    u, v, alpha, beta = la\n",
    "    return np.array([\n",
    "        2 * u + 2 * alpha,  # df/du\n",
    "        2 * v + 2 * beta,   # df/dv\n",
    "        2 * alpha + 2 * u,  # df/dalpha\n",
    "        2 * beta + 2 * v    # df/dbeta\n",
    "    ])\n",
    "\n",
    "def assembly_feature_constraint(la8):\n",
    "    \"\"\"Applies the cylinder constraint to each 4-element slice of the lambda array, returning a vector of constraints.\"\"\"\n",
    "    return np.array([cylinder_feature_constraint(la8[i : i + 4]) for i in range(0, len(la8), 4)])\n",
    "\n",
    "def assembly_feature_constraint_jacobian(la8):\n",
    "    \"\"\"Constructs the Jacobian matrix for the vector of constraints, with each row representing the Jacobian of one cylinder constraint.\"\"\"\n",
    "    # Initialize a list to hold each constraint's Jacobian as a row in the matrix\n",
    "    jacobian = []\n",
    "    # Compute Jacobian for each 4-element segment in the lambda array\n",
    "    for i in range(0, len(la8), 4):\n",
    "        row_jacobian = np.zeros(len(la8))  # Create a zeroed row of the appropriate length\n",
    "        row_jacobian[i:i+4] = cylinder_feature_constraint_jacobian(la8[i:i+4])\n",
    "        jacobian.append(row_jacobian)\n",
    "    return np.array(jacobian)\n",
    "\n",
    "\n",
    "def cylinder_feature_constraint_hessian(la):\n",
    "    \"\"\"Computes the Hessian of the cylinder constraint for a given 4-element lambda array.\"\"\"\n",
    "    # Extract variables for readability\n",
    "    u, v, alpha, beta = la\n",
    "    # The Hessian matrix is symmetric, so we only need to define the unique elements\n",
    "    hessian = np.array([\n",
    "        [2, 0, 2, 0],  # d^2f/du^2, d^2f/du dv, d^2f/du dalpha, d^2f/du dbeta\n",
    "        [0, 2, 0, 2],  # d^2f/dv du, d^2f/dv^2, d^2f/dv dalpha, d^2f/dv dbeta\n",
    "        [2, 0, 2, 0],  # d^2f/dalpha du, d^2f/dalpha dv, d^2f/dalpha^2, d^2f/dalpha dbeta\n",
    "        [0, 2, 0, 2]   # d^2f/dbeta du, d^2f/dbeta dv, d^2f/dbeta dalpha, d^2f/dbeta^2\n",
    "    ])\n",
    "    return hessian\n",
    "\n",
    "def assembly_feature_constraint_hessian(la8):\n",
    "    \"\"\"Constructs the full Hessian matrix for the vector of constraints in the assembly.\"\"\"\n",
    "    n_constraints = len(la8) // 4\n",
    "    hessian_blocks = []\n",
    "    \n",
    "    # Build the Hessian by iterating over each 4-element segment\n",
    "    for i in range(n_constraints):\n",
    "        block_hessian = cylinder_feature_constraint_hessian(la8[i*4:i*4+4])\n",
    "        # Place the block into the full Hessian matrix for the constraint function\n",
    "        block_hessian_expanded = np.zeros((len(la8), len(la8)))\n",
    "        block_hessian_expanded[i*4:i*4+4, i*4:i*4+4] = block_hessian\n",
    "        hessian_blocks.append(block_hessian_expanded)\n",
    "    \n",
    "    # Sum the block Hessians to form the full Hessian matrix\n",
    "    full_hessian = np.sum(hessian_blocks, axis=0)\n",
    "    return full_hessian"
   ]
  },
  {
   "cell_type": "markdown",
   "id": "c805656b-91b6-4e12-bd5b-a8f2b984eea6",
   "metadata": {},
   "source": [
    "### Implicit parameter constrants (new version)"
   ]
  },
  {
   "cell_type": "code",
   "execution_count": 15,
   "id": "a0c5ac89-cf9f-44bc-a7bb-7628704e4cea",
   "metadata": {},
   "outputs": [],
   "source": [
    "midof_funcs = otaf.tolerances.MiSdofToleranceZones()\n",
    "\n",
    "feature_constraint_list = []\n",
    "\n",
    "# We know that all features are cylindrical, with same values/dimensions\n",
    "for i in range(8):\n",
    "    fconst = otaf.tolerances.FeatureLevelStatisticalConstraint(\n",
    "        midof_funcs.cylindrical_zone,\n",
    "        mif_args = (tol, hPlate),\n",
    "        n_dof = 4,\n",
    "        n_sample = 100000,\n",
    "        target = \"std\", #\"prob\",\n",
    "        target_val = sigma_e_pos*np.sqrt(1-(2/np.pi)), #0.002699, #\n",
    "        isNormal = True,\n",
    "        normalizeOutput = True,\n",
    "    )\n",
    "    feature_constraint_list.append(fconst)\n",
    "\n",
    "composed_assembly_constraint = otaf.tolerances.ComposedAssemblyLevelStatisticalConstraint(feature_constraint_list)"
   ]
  },
  {
   "cell_type": "code",
   "execution_count": 16,
   "id": "fa8c2424-bc79-4379-bc24-6ca62a8a1e21",
   "metadata": {},
   "outputs": [],
   "source": [
    "param_bounds_one_feature = [[0.0,0.0], [1e-8, sigma_e_pos], #u, mean std\n",
    "                            [0.0,0.0], [1e-8, sigma_e_pos], #v, mean std\n",
    "                            [0.0,0.0], [1e-8, sigma_e_theta], #alpha, mean std\n",
    "                            [0.0,0.0], [1e-8, sigma_e_theta] # beta, mean std\n",
    "                           ]\n",
    "param_bounds = [param_bounds_one_feature] * 8 #We have 8 identical features\n",
    "\n",
    "normalized_assembly_constraint = otaf.tolerances.NormalizedAssemblyLevelConstraint(\n",
    "    composed_assembly_constraint,\n",
    "    param_val_bounds=param_bounds)"
   ]
  },
  {
   "cell_type": "markdown",
   "id": "5836b5ec-5be9-4f70-a69a-4a8e88ea6714",
   "metadata": {},
   "source": [
    "#### The assembly constraint takes as an input the list of list of paramters for all the features. But as the distriutions (normals) are suppposed to be centered, we only need to have the standard deviations as inputs so we construct a little intermediary class that takes as an input only the standard deviations and not the means, and completes the means with 0 to pass it to the assembly constraint. "
   ]
  },
  {
   "cell_type": "code",
   "execution_count": 17,
   "id": "eb8e9f22-18a2-45b1-8385-bd611fc3b614",
   "metadata": {},
   "outputs": [],
   "source": [
    "def assembly_constraint_no_mean(param_list, scale_out=True):\n",
    "    \"\"\" The functions takes directly the concatenated list of all parameters, and reconstructs the right object.\n",
    "    There should be 32 variables\n",
    "    \"\"\"\n",
    "    assert len(param_list)==32, \"problem with input.\"\n",
    "    zer = np.zeros(4)\n",
    "    pl = np.array(param_list)\n",
    "    params_for_assembly = []\n",
    "    for i in range(8):\n",
    "        params = param_list[i*4:i*4+4]\n",
    "        pa = [item for pair in zip(zer, params) for item in pair]\n",
    "        params_for_assembly.append(pa)\n",
    "    res =  normalized_assembly_constraint(params_for_assembly)\n",
    "    if scale_out :\n",
    "        return res * 10\n",
    "    else :\n",
    "        return res"
   ]
  },
  {
   "cell_type": "code",
   "execution_count": 18,
   "id": "5f288747-0f05-47f2-bab5-7e805d549d74",
   "metadata": {},
   "outputs": [
    {
     "data": {
      "text/plain": [
       "array([ 0.01698524,  0.00586528, -0.05530555,  0.00782178,  0.0067268 ,\n",
       "        0.03238366, -0.02275242,  0.01305323])"
      ]
     },
     "execution_count": 18,
     "metadata": {},
     "output_type": "execute_result"
    }
   ],
   "source": [
    "assembly_constraint_no_mean([1.0,0.0,0.0,0]*8, True)"
   ]
  },
  {
   "cell_type": "markdown",
   "id": "78aa290c-0362-4a63-83cb-d154d98b52f2",
   "metadata": {},
   "source": [
    "#### Now we create the assembly constraint for the optimization (so a non linear constraint)"
   ]
  },
  {
   "cell_type": "code",
   "execution_count": 19,
   "id": "b38aadcb-2449-4f63-848a-8e040c286905",
   "metadata": {},
   "outputs": [],
   "source": [
    "# Define the nonlinear constraint with the updated vector-valued function and Jacobian\n",
    "nonLinearConstraint = NonlinearConstraint(\n",
    "    fun=assembly_constraint_no_mean,\n",
    "    lb = -0.05 * np.ones((8,)),\n",
    "    ub = 0.05 * np.ones((8,)),\n",
    "    jac = \"2-point\",\n",
    "    #hess=assembly_feature_constraint_hessian\n",
    ")"
   ]
  },
  {
   "cell_type": "code",
   "execution_count": null,
   "id": "34bb5870-0875-4677-9efe-c2bee9e9f7e1",
   "metadata": {
    "scrolled": true
   },
   "outputs": [
    {
     "name": "stdout",
     "output_type": "stream",
     "text": [
      "Starting the optimization procedure.\n",
      "Initial trust-region radius: 2.8284271247461903.\n",
      "Final trust-region radius: 0.33.\n",
      "Maximum number of function evaluations: 4000.\n",
      "Maximum number of iterations: 1000.\n",
      "\n"
     ]
    },
    {
     "data": {
      "application/vnd.jupyter.widget-view+json": {
       "model_id": "4e73a377cb0640f4ba1a0bd176e2d808",
       "version_major": 2,
       "version_minor": 0
      },
      "text/plain": [
       "  0%|          | 0/10000 [00:00<?, ?it/s]"
      ]
     },
     "metadata": {},
     "output_type": "display_data"
    },
    {
     "name": "stdout",
     "output_type": "stream",
     "text": [
      "wrapper([ 0.000e+00  0.000e+00 ...  0.000e+00  0.000e+00]) = -0.0\n",
      "assembly_constraint_no_mean([ 0.000e+00  0.000e+00 ...  0.000e+00  0.000e+00]) = [-1.000e+01 -1.000e+01 ... -1.000e+01 -1.000e+01]\n"
     ]
    },
    {
     "name": "stderr",
     "output_type": "stream",
     "text": [
      "/home/kramer84/anaconda3/envs/otaf_env/lib/python3.12/site-packages/gldpy/_gld_module.py:1026: RuntimeWarning: invalid value encountered in scalar divide\n",
      "  return l1,l2,l3/l2,l4/l2\n",
      "/home/kramer84/anaconda3/envs/otaf_env/lib/python3.12/site-packages/gldpy/_gld_module.py:1026: RuntimeWarning: divide by zero encountered in scalar divide\n",
      "  return l1,l2,l3/l2,l4/l2\n",
      "/home/kramer84/anaconda3/envs/otaf_env/lib/python3.12/site-packages/gldpy/_gld_module.py:1095: RuntimeWarning: invalid value encountered in scalar add\n",
      "  if a4**2+98*a4 +1 <0:\n",
      "/home/kramer84/anaconda3/envs/otaf_env/lib/python3.12/site-packages/gldpy/_gld_module.py:1097: RuntimeWarning: invalid value encountered in scalar add\n",
      "  p4 = np.array([(3+7*a4 + np.sqrt(a4**2+98*a4 +1))/(2*(1-a4)), (3+7*a4 - np.sqrt(a4**2+98*a4 +1))/(2*(1-a4))])\n"
     ]
    },
    {
     "data": {
      "application/vnd.jupyter.widget-view+json": {
       "model_id": "b600f49d019d487883cc0cd226ba2730",
       "version_major": 2,
       "version_minor": 0
      },
      "text/plain": [
       "  0%|          | 0/10000 [00:00<?, ?it/s]"
      ]
     },
     "metadata": {},
     "output_type": "display_data"
    },
    {
     "name": "stdout",
     "output_type": "stream",
     "text": [
      "gld_params: [0.09929732 0.00381863 0.07525445 0.23759931]\n",
      "wrapper([ 5.000e-01  0.000e+00 ...  0.000e+00  0.000e+00]) = -0.0\n",
      "assembly_constraint_no_mean([ 5.000e-01  0.000e+00 ...  0.000e+00  0.000e+00]) = [-4.992e+00 -1.000e+01 ... -1.000e+01 -1.000e+01]\n"
     ]
    },
    {
     "data": {
      "application/vnd.jupyter.widget-view+json": {
       "model_id": "e789e6180bdc4f0b972db7024c61676d",
       "version_major": 2,
       "version_minor": 0
      },
      "text/plain": [
       "  0%|          | 0/10000 [00:00<?, ?it/s]"
      ]
     },
     "metadata": {},
     "output_type": "display_data"
    },
    {
     "name": "stdout",
     "output_type": "stream",
     "text": [
      "gld_params: [0.09927496 0.00389404 0.07778244 0.25712574]\n",
      "wrapper([ 0.000e+00  5.000e-01 ...  0.000e+00  0.000e+00]) = -0.0\n",
      "assembly_constraint_no_mean([ 0.000e+00  5.000e-01 ...  0.000e+00  0.000e+00]) = [-4.977e+00 -1.000e+01 ... -1.000e+01 -1.000e+01]\n"
     ]
    },
    {
     "data": {
      "application/vnd.jupyter.widget-view+json": {
       "model_id": "f57fc9706cf9481daadff8272e856614",
       "version_major": 2,
       "version_minor": 0
      },
      "text/plain": [
       "  0%|          | 0/10000 [00:00<?, ?it/s]"
      ]
     },
     "metadata": {},
     "output_type": "display_data"
    },
    {
     "name": "stdout",
     "output_type": "stream",
     "text": [
      "gld_params: [0.09720028 0.01555786 0.07337423 0.24697373]\n",
      "wrapper([ 0.000e+00  0.000e+00 ...  0.000e+00  0.000e+00]) = -0.0\n",
      "assembly_constraint_no_mean([ 0.000e+00  0.000e+00 ...  0.000e+00  0.000e+00]) = [-4.993e+00 -1.000e+01 ... -1.000e+01 -1.000e+01]\n"
     ]
    },
    {
     "data": {
      "application/vnd.jupyter.widget-view+json": {
       "model_id": "cad44073d2ce46858d65fc475fa35007",
       "version_major": 2,
       "version_minor": 0
      },
      "text/plain": [
       "  0%|          | 0/10000 [00:00<?, ?it/s]"
      ]
     },
     "metadata": {},
     "output_type": "display_data"
    },
    {
     "name": "stdout",
     "output_type": "stream",
     "text": [
      "gld_params: [0.09697353 0.01528969 0.08169807 0.23466592]\n",
      "wrapper([ 0.000e+00  0.000e+00 ...  0.000e+00  0.000e+00]) = -0.0\n",
      "assembly_constraint_no_mean([ 0.000e+00  0.000e+00 ...  0.000e+00  0.000e+00]) = [-5.024e+00 -1.000e+01 ... -1.000e+01 -1.000e+01]\n"
     ]
    },
    {
     "data": {
      "application/vnd.jupyter.widget-view+json": {
       "model_id": "67f870e85bfc47b48df7ccbd1fc23ca9",
       "version_major": 2,
       "version_minor": 0
      },
      "text/plain": [
       "  0%|          | 0/10000 [00:00<?, ?it/s]"
      ]
     },
     "metadata": {},
     "output_type": "display_data"
    },
    {
     "name": "stdout",
     "output_type": "stream",
     "text": [
      "gld_params: [0.09935849 0.00383695 0.06924095 0.2441472 ]\n",
      "wrapper([ 0.000e+00  0.000e+00 ...  0.000e+00  0.000e+00]) = -0.0\n",
      "assembly_constraint_no_mean([ 0.000e+00  0.000e+00 ...  0.000e+00  0.000e+00]) = [-1.000e+01 -4.997e+00 ... -1.000e+01 -1.000e+01]\n"
     ]
    },
    {
     "data": {
      "application/vnd.jupyter.widget-view+json": {
       "model_id": "fb0a935714b047a6ad1bcdc35ac7c692",
       "version_major": 2,
       "version_minor": 0
      },
      "text/plain": [
       "  0%|          | 0/10000 [00:00<?, ?it/s]"
      ]
     },
     "metadata": {},
     "output_type": "display_data"
    },
    {
     "name": "stdout",
     "output_type": "stream",
     "text": [
      "gld_params: [0.09929181 0.00384891 0.0771262  0.23726184]\n",
      "wrapper([ 0.000e+00  0.000e+00 ...  0.000e+00  0.000e+00]) = -0.0\n",
      "assembly_constraint_no_mean([ 0.000e+00  0.000e+00 ...  0.000e+00  0.000e+00]) = [-1.000e+01 -5.004e+00 ... -1.000e+01 -1.000e+01]\n"
     ]
    },
    {
     "data": {
      "application/vnd.jupyter.widget-view+json": {
       "model_id": "45e550aa92c24abda1be0225dc2b934b",
       "version_major": 2,
       "version_minor": 0
      },
      "text/plain": [
       "  0%|          | 0/10000 [00:00<?, ?it/s]"
      ]
     },
     "metadata": {},
     "output_type": "display_data"
    },
    {
     "name": "stdout",
     "output_type": "stream",
     "text": [
      "gld_params: [0.09650112 0.01487485 0.09506155 0.21921928]\n",
      "wrapper([ 0.000e+00  0.000e+00 ...  0.000e+00  0.000e+00]) = -0.0\n",
      "assembly_constraint_no_mean([ 0.000e+00  0.000e+00 ...  0.000e+00  0.000e+00]) = [-1.000e+01 -5.017e+00 ... -1.000e+01 -1.000e+01]\n"
     ]
    },
    {
     "data": {
      "application/vnd.jupyter.widget-view+json": {
       "model_id": "1fef43c53e6e447cbc9a57023666c5dc",
       "version_major": 2,
       "version_minor": 0
      },
      "text/plain": [
       "  0%|          | 0/10000 [00:00<?, ?it/s]"
      ]
     },
     "metadata": {},
     "output_type": "display_data"
    },
    {
     "name": "stdout",
     "output_type": "stream",
     "text": [
      "gld_params: [0.09647522 0.01471375 0.0941655  0.2178902 ]\n",
      "wrapper([ 0.000e+00  0.000e+00 ...  0.000e+00  0.000e+00]) = -0.0\n",
      "assembly_constraint_no_mean([ 0.000e+00  0.000e+00 ...  0.000e+00  0.000e+00]) = [-1.000e+01 -5.001e+00 ... -1.000e+01 -1.000e+01]\n"
     ]
    },
    {
     "data": {
      "application/vnd.jupyter.widget-view+json": {
       "model_id": "a2c0a963b69b4b2d869cd93c99060484",
       "version_major": 2,
       "version_minor": 0
      },
      "text/plain": [
       "  0%|          | 0/10000 [00:00<?, ?it/s]"
      ]
     },
     "metadata": {},
     "output_type": "display_data"
    },
    {
     "name": "stdout",
     "output_type": "stream",
     "text": [
      "gld_params: [0.09929389 0.00378835 0.07656362 0.2314408 ]\n",
      "wrapper([ 0.000e+00  0.000e+00 ...  0.000e+00  0.000e+00]) = -0.0\n",
      "assembly_constraint_no_mean([ 0.000e+00  0.000e+00 ...  0.000e+00  0.000e+00]) = [-1.000e+01 -1.000e+01 ... -1.000e+01 -1.000e+01]\n"
     ]
    },
    {
     "data": {
      "application/vnd.jupyter.widget-view+json": {
       "model_id": "deb9670ec2164fbaba3649252bece63f",
       "version_major": 2,
       "version_minor": 0
      },
      "text/plain": [
       "  0%|          | 0/10000 [00:00<?, ?it/s]"
      ]
     },
     "metadata": {},
     "output_type": "display_data"
    },
    {
     "name": "stdout",
     "output_type": "stream",
     "text": [
      "gld_params: [0.09926069 0.00378957 0.07702665 0.21796406]\n",
      "wrapper([ 0.000e+00  0.000e+00 ...  0.000e+00  0.000e+00]) = -0.0\n",
      "assembly_constraint_no_mean([ 0.000e+00  0.000e+00 ...  0.000e+00  0.000e+00]) = [-1.000e+01 -1.000e+01 ... -1.000e+01 -1.000e+01]\n"
     ]
    },
    {
     "data": {
      "application/vnd.jupyter.widget-view+json": {
       "model_id": "642091b494ba47bc8fbee439d0c7f5da",
       "version_major": 2,
       "version_minor": 0
      },
      "text/plain": [
       "  0%|          | 0/10000 [00:00<?, ?it/s]"
      ]
     },
     "metadata": {},
     "output_type": "display_data"
    },
    {
     "name": "stdout",
     "output_type": "stream",
     "text": [
      "gld_params: [0.09739644 0.01583376 0.07060053 0.25672765]\n",
      "wrapper([ 0.000e+00  0.000e+00 ...  0.000e+00  0.000e+00]) = -0.0\n",
      "assembly_constraint_no_mean([ 0.000e+00  0.000e+00 ...  0.000e+00  0.000e+00]) = [-1.000e+01 -1.000e+01 ... -1.000e+01 -1.000e+01]\n"
     ]
    },
    {
     "data": {
      "application/vnd.jupyter.widget-view+json": {
       "model_id": "cadf49ef5aeb42b1ba6e20774a455a3d",
       "version_major": 2,
       "version_minor": 0
      },
      "text/plain": [
       "  0%|          | 0/10000 [00:00<?, ?it/s]"
      ]
     },
     "metadata": {},
     "output_type": "display_data"
    },
    {
     "name": "stdout",
     "output_type": "stream",
     "text": [
      "gld_params: [0.09741274 0.01562419 0.07012692 0.24602406]\n",
      "wrapper([ 0.000e+00  0.000e+00 ...  0.000e+00  0.000e+00]) = -0.0\n",
      "assembly_constraint_no_mean([ 0.000e+00  0.000e+00 ...  0.000e+00  0.000e+00]) = [-1.000e+01 -1.000e+01 ... -1.000e+01 -1.000e+01]\n"
     ]
    },
    {
     "data": {
      "application/vnd.jupyter.widget-view+json": {
       "model_id": "a2c9e3c623b547588e8303035c917b83",
       "version_major": 2,
       "version_minor": 0
      },
      "text/plain": [
       "  0%|          | 0/10000 [00:00<?, ?it/s]"
      ]
     },
     "metadata": {},
     "output_type": "display_data"
    },
    {
     "name": "stdout",
     "output_type": "stream",
     "text": [
      "gld_params: [0.09921315 0.00372459 0.0835795  0.21912195]\n",
      "wrapper([ 0.000e+00  0.000e+00 ...  0.000e+00  0.000e+00]) = -0.0\n",
      "assembly_constraint_no_mean([ 0.000e+00  0.000e+00 ...  0.000e+00  0.000e+00]) = [-1.000e+01 -1.000e+01 ... -1.000e+01 -1.000e+01]\n"
     ]
    },
    {
     "data": {
      "application/vnd.jupyter.widget-view+json": {
       "model_id": "ba9b9878753f4fd08f778d8764d151f6",
       "version_major": 2,
       "version_minor": 0
      },
      "text/plain": [
       "  0%|          | 0/10000 [00:00<?, ?it/s]"
      ]
     },
     "metadata": {},
     "output_type": "display_data"
    },
    {
     "name": "stdout",
     "output_type": "stream",
     "text": [
      "gld_params: [0.09936892 0.00375718 0.06765316 0.23024567]\n",
      "wrapper([ 0.000e+00  0.000e+00 ...  0.000e+00  0.000e+00]) = -0.0\n",
      "assembly_constraint_no_mean([ 0.000e+00  0.000e+00 ...  0.000e+00  0.000e+00]) = [-1.000e+01 -1.000e+01 ... -1.000e+01 -1.000e+01]\n"
     ]
    },
    {
     "data": {
      "application/vnd.jupyter.widget-view+json": {
       "model_id": "f183ef3ebad942d582f3dca9a8f0337e",
       "version_major": 2,
       "version_minor": 0
      },
      "text/plain": [
       "  0%|          | 0/10000 [00:00<?, ?it/s]"
      ]
     },
     "metadata": {},
     "output_type": "display_data"
    },
    {
     "name": "stdout",
     "output_type": "stream",
     "text": [
      "gld_params: [0.09672044 0.01473592 0.08669893 0.21767493]\n",
      "wrapper([ 0.000e+00  0.000e+00 ...  0.000e+00  0.000e+00]) = -0.0\n",
      "assembly_constraint_no_mean([ 0.000e+00  0.000e+00 ...  0.000e+00  0.000e+00]) = [-1.000e+01 -1.000e+01 ... -1.000e+01 -1.000e+01]\n"
     ]
    },
    {
     "data": {
      "application/vnd.jupyter.widget-view+json": {
       "model_id": "ed41a63f314c4d088297bc7bd1a72aa1",
       "version_major": 2,
       "version_minor": 0
      },
      "text/plain": [
       "  0%|          | 0/10000 [00:00<?, ?it/s]"
      ]
     },
     "metadata": {},
     "output_type": "display_data"
    },
    {
     "name": "stdout",
     "output_type": "stream",
     "text": [
      "gld_params: [0.09703846 0.01499595 0.08034656 0.23253205]\n",
      "wrapper([ 0.000e+00  0.000e+00 ...  0.000e+00  0.000e+00]) = -0.0\n",
      "assembly_constraint_no_mean([ 0.000e+00  0.000e+00 ...  0.000e+00  0.000e+00]) = [-1.000e+01 -1.000e+01 ... -1.000e+01 -1.000e+01]\n"
     ]
    },
    {
     "data": {
      "application/vnd.jupyter.widget-view+json": {
       "model_id": "4d3213d4ce8647c897007841cb5f4373",
       "version_major": 2,
       "version_minor": 0
      },
      "text/plain": [
       "  0%|          | 0/10000 [00:00<?, ?it/s]"
      ]
     },
     "metadata": {},
     "output_type": "display_data"
    },
    {
     "name": "stdout",
     "output_type": "stream",
     "text": [
      "gld_params: [0.09921602 0.00375486 0.08414247 0.22134194]\n",
      "wrapper([ 0.000e+00  0.000e+00 ...  0.000e+00  0.000e+00]) = -0.0\n",
      "assembly_constraint_no_mean([ 0.000e+00  0.000e+00 ...  0.000e+00  0.000e+00]) = [-1.000e+01 -1.000e+01 ... -1.000e+01 -1.000e+01]\n"
     ]
    },
    {
     "data": {
      "application/vnd.jupyter.widget-view+json": {
       "model_id": "8be364ee897d4f10b3151d9ef9a127cd",
       "version_major": 2,
       "version_minor": 0
      },
      "text/plain": [
       "  0%|          | 0/10000 [00:00<?, ?it/s]"
      ]
     },
     "metadata": {},
     "output_type": "display_data"
    },
    {
     "name": "stdout",
     "output_type": "stream",
     "text": [
      "gld_params: [0.09936038 0.003844   0.06982565 0.24538111]\n",
      "wrapper([ 0.000e+00  0.000e+00 ...  0.000e+00  0.000e+00]) = -0.0\n",
      "assembly_constraint_no_mean([ 0.000e+00  0.000e+00 ...  0.000e+00  0.000e+00]) = [-1.000e+01 -1.000e+01 ... -1.000e+01 -1.000e+01]\n"
     ]
    },
    {
     "data": {
      "application/vnd.jupyter.widget-view+json": {
       "model_id": "f5987195c78447beb0fdfc6124a95e92",
       "version_major": 2,
       "version_minor": 0
      },
      "text/plain": [
       "  0%|          | 0/10000 [00:00<?, ?it/s]"
      ]
     },
     "metadata": {},
     "output_type": "display_data"
    },
    {
     "name": "stdout",
     "output_type": "stream",
     "text": [
      "gld_params: [0.09679236 0.01489555 0.08818633 0.22669757]\n",
      "wrapper([ 0.000e+00  0.000e+00 ...  0.000e+00  0.000e+00]) = -0.0\n",
      "assembly_constraint_no_mean([ 0.000e+00  0.000e+00 ...  0.000e+00  0.000e+00]) = [-1.000e+01 -1.000e+01 ... -1.000e+01 -1.000e+01]\n"
     ]
    },
    {
     "data": {
      "application/vnd.jupyter.widget-view+json": {
       "model_id": "2c26d5a69b9b43919ced73da79e89929",
       "version_major": 2,
       "version_minor": 0
      },
      "text/plain": [
       "  0%|          | 0/10000 [00:00<?, ?it/s]"
      ]
     },
     "metadata": {},
     "output_type": "display_data"
    },
    {
     "name": "stdout",
     "output_type": "stream",
     "text": [
      "gld_params: [0.09716835 0.01525367 0.07888287 0.24666182]\n",
      "wrapper([ 0.000e+00  0.000e+00 ...  0.000e+00  0.000e+00]) = -0.0\n",
      "assembly_constraint_no_mean([ 0.000e+00  0.000e+00 ...  0.000e+00  0.000e+00]) = [-1.000e+01 -1.000e+01 ... -1.000e+01 -1.000e+01]\n"
     ]
    },
    {
     "data": {
      "application/vnd.jupyter.widget-view+json": {
       "model_id": "3f9969878c434b7f8a5e3dc3046b280e",
       "version_major": 2,
       "version_minor": 0
      },
      "text/plain": [
       "  0%|          | 0/10000 [00:00<?, ?it/s]"
      ]
     },
     "metadata": {},
     "output_type": "display_data"
    },
    {
     "name": "stdout",
     "output_type": "stream",
     "text": [
      "gld_params: [0.09914263 0.00369457 0.09100849 0.21531538]\n",
      "wrapper([ 0.000e+00  0.000e+00 ...  0.000e+00  0.000e+00]) = -0.0\n",
      "assembly_constraint_no_mean([ 0.000e+00  0.000e+00 ...  0.000e+00  0.000e+00]) = [-1.000e+01 -1.000e+01 ... -1.000e+01 -1.000e+01]\n"
     ]
    },
    {
     "data": {
      "application/vnd.jupyter.widget-view+json": {
       "model_id": "878092e53da443b89fac3656a21d245e",
       "version_major": 2,
       "version_minor": 0
      },
      "text/plain": [
       "  0%|          | 0/10000 [00:00<?, ?it/s]"
      ]
     },
     "metadata": {},
     "output_type": "display_data"
    },
    {
     "name": "stdout",
     "output_type": "stream",
     "text": [
      "gld_params: [0.09924432 0.00376564 0.08295892 0.22959111]\n",
      "wrapper([ 0.000e+00  0.000e+00 ...  0.000e+00  0.000e+00]) = -0.0\n",
      "assembly_constraint_no_mean([ 0.000e+00  0.000e+00 ...  0.000e+00  0.000e+00]) = [-1.000e+01 -1.000e+01 ... -1.000e+01 -1.000e+01]\n"
     ]
    },
    {
     "data": {
      "application/vnd.jupyter.widget-view+json": {
       "model_id": "ac5a0f38c60e4019a9b680d7c95a574b",
       "version_major": 2,
       "version_minor": 0
      },
      "text/plain": [
       "  0%|          | 0/10000 [00:00<?, ?it/s]"
      ]
     },
     "metadata": {},
     "output_type": "display_data"
    },
    {
     "name": "stdout",
     "output_type": "stream",
     "text": [
      "gld_params: [0.09705926 0.01549311 0.07885252 0.24330829]\n",
      "wrapper([ 0.000e+00  0.000e+00 ...  0.000e+00  0.000e+00]) = -0.0\n",
      "assembly_constraint_no_mean([ 0.000e+00  0.000e+00 ...  0.000e+00  0.000e+00]) = [-1.000e+01 -1.000e+01 ... -1.000e+01 -1.000e+01]\n"
     ]
    },
    {
     "data": {
      "application/vnd.jupyter.widget-view+json": {
       "model_id": "a8e46774edb243669a0dd7a89745f803",
       "version_major": 2,
       "version_minor": 0
      },
      "text/plain": [
       "  0%|          | 0/10000 [00:00<?, ?it/s]"
      ]
     },
     "metadata": {},
     "output_type": "display_data"
    },
    {
     "name": "stdout",
     "output_type": "stream",
     "text": [
      "gld_params: [0.09684736 0.01493195 0.08538009 0.22074961]\n",
      "wrapper([ 0.000e+00  0.000e+00 ...  0.000e+00  0.000e+00]) = -0.0\n",
      "assembly_constraint_no_mean([ 0.000e+00  0.000e+00 ...  0.000e+00  0.000e+00]) = [-1.000e+01 -1.000e+01 ... -1.000e+01 -1.000e+01]\n"
     ]
    },
    {
     "data": {
      "application/vnd.jupyter.widget-view+json": {
       "model_id": "8e0af16614f74723956611f9658feb7a",
       "version_major": 2,
       "version_minor": 0
      },
      "text/plain": [
       "  0%|          | 0/10000 [00:00<?, ?it/s]"
      ]
     },
     "metadata": {},
     "output_type": "display_data"
    },
    {
     "name": "stdout",
     "output_type": "stream",
     "text": [
      "gld_params: [0.09924265 0.00373734 0.08086978 0.22721386]\n",
      "wrapper([ 0.000e+00  0.000e+00 ...  0.000e+00  0.000e+00]) = -0.0\n",
      "assembly_constraint_no_mean([ 0.000e+00  0.000e+00 ...  0.000e+00  0.000e+00]) = [-1.000e+01 -1.000e+01 ... -5.011e+00 -1.000e+01]\n"
     ]
    },
    {
     "data": {
      "application/vnd.jupyter.widget-view+json": {
       "model_id": "966ffcd2378f4849aaaeaa56cecef4df",
       "version_major": 2,
       "version_minor": 0
      },
      "text/plain": [
       "  0%|          | 0/10000 [00:00<?, ?it/s]"
      ]
     },
     "metadata": {},
     "output_type": "display_data"
    },
    {
     "name": "stdout",
     "output_type": "stream",
     "text": [
      "gld_params: [0.09930929 0.00384255 0.07353087 0.25218754]\n",
      "wrapper([ 0.000e+00  0.000e+00 ...  0.000e+00  0.000e+00]) = -0.0\n",
      "assembly_constraint_no_mean([ 0.000e+00  0.000e+00 ...  0.000e+00  0.000e+00]) = [-1.000e+01 -1.000e+01 ... -5.010e+00 -1.000e+01]\n"
     ]
    },
    {
     "data": {
      "application/vnd.jupyter.widget-view+json": {
       "model_id": "7bdd34de11af40ac994db114f3eb6bda",
       "version_major": 2,
       "version_minor": 0
      },
      "text/plain": [
       "  0%|          | 0/10000 [00:00<?, ?it/s]"
      ]
     },
     "metadata": {},
     "output_type": "display_data"
    },
    {
     "name": "stdout",
     "output_type": "stream",
     "text": [
      "gld_params: [0.09712311 0.01556854 0.0760251  0.24838943]\n",
      "wrapper([ 0.000e+00  0.000e+00 ...  0.000e+00  0.000e+00]) = -0.0\n",
      "assembly_constraint_no_mean([ 0.000e+00  0.000e+00 ...  0.000e+00  0.000e+00]) = [-1.000e+01 -1.000e+01 ... -4.983e+00 -1.000e+01]\n"
     ]
    },
    {
     "data": {
      "application/vnd.jupyter.widget-view+json": {
       "model_id": "491b08f5a8964ec28d0ff0be7ca46237",
       "version_major": 2,
       "version_minor": 0
      },
      "text/plain": [
       "  0%|          | 0/10000 [00:00<?, ?it/s]"
      ]
     },
     "metadata": {},
     "output_type": "display_data"
    },
    {
     "name": "stdout",
     "output_type": "stream",
     "text": [
      "gld_params: [0.09747573 0.01560017 0.06934626 0.24915851]\n",
      "wrapper([ 0.000e+00  0.000e+00 ...  0.000e+00  0.000e+00]) = -0.0\n",
      "assembly_constraint_no_mean([ 0.000e+00  0.000e+00 ...  0.000e+00  0.000e+00]) = [-1.000e+01 -1.000e+01 ... -4.987e+00 -1.000e+01]\n"
     ]
    },
    {
     "data": {
      "application/vnd.jupyter.widget-view+json": {
       "model_id": "e69d7eb24c774f158c39cdfc5849ee4f",
       "version_major": 2,
       "version_minor": 0
      },
      "text/plain": [
       "  0%|          | 0/10000 [00:00<?, ?it/s]"
      ]
     },
     "metadata": {},
     "output_type": "display_data"
    },
    {
     "name": "stdout",
     "output_type": "stream",
     "text": [
      "gld_params: [0.09916794 0.00379289 0.09066893 0.24372705]\n",
      "wrapper([ 0.000e+00  0.000e+00 ...  0.000e+00  0.000e+00]) = -0.0\n",
      "assembly_constraint_no_mean([ 0.000e+00  0.000e+00 ...  0.000e+00  0.000e+00]) = [-1.000e+01 -1.000e+01 ... -1.000e+01 -4.993e+00]\n"
     ]
    },
    {
     "data": {
      "application/vnd.jupyter.widget-view+json": {
       "model_id": "77a3d9dd20544f338f26c08d6a561971",
       "version_major": 2,
       "version_minor": 0
      },
      "text/plain": [
       "  0%|          | 0/10000 [00:00<?, ?it/s]"
      ]
     },
     "metadata": {},
     "output_type": "display_data"
    },
    {
     "name": "stdout",
     "output_type": "stream",
     "text": [
      "gld_params: [0.09917317 0.00381529 0.0920603  0.25100082]\n",
      "wrapper([ 0.000e+00  0.000e+00 ...  0.000e+00  0.000e+00]) = -0.0\n",
      "assembly_constraint_no_mean([ 0.000e+00  0.000e+00 ...  0.000e+00  0.000e+00]) = [-1.000e+01 -1.000e+01 ... -1.000e+01 -4.985e+00]\n"
     ]
    },
    {
     "data": {
      "application/vnd.jupyter.widget-view+json": {
       "model_id": "e407db083f114046bdb8e35ad2a53eaf",
       "version_major": 2,
       "version_minor": 0
      },
      "text/plain": [
       "  0%|          | 0/10000 [00:00<?, ?it/s]"
      ]
     },
     "metadata": {},
     "output_type": "display_data"
    },
    {
     "name": "stdout",
     "output_type": "stream",
     "text": [
      "gld_params: [0.09725135 0.01552287 0.07376755 0.2457094 ]\n",
      "wrapper([ 0.000e+00  0.000e+00 ...  5.000e-01  0.000e+00]) = -0.0\n",
      "assembly_constraint_no_mean([ 0.000e+00  0.000e+00 ...  5.000e-01  0.000e+00]) = [-1.000e+01 -1.000e+01 ... -1.000e+01 -5.006e+00]\n"
     ]
    },
    {
     "data": {
      "application/vnd.jupyter.widget-view+json": {
       "model_id": "9ead2a4f78224b1887dd346816522ea5",
       "version_major": 2,
       "version_minor": 0
      },
      "text/plain": [
       "  0%|          | 0/10000 [00:00<?, ?it/s]"
      ]
     },
     "metadata": {},
     "output_type": "display_data"
    },
    {
     "name": "stdout",
     "output_type": "stream",
     "text": [
      "gld_params: [0.09721094 0.01552031 0.07655557 0.25868845]\n",
      "wrapper([ 0.000e+00  0.000e+00 ...  0.000e+00  5.000e-01]) = -0.0\n",
      "assembly_constraint_no_mean([ 0.000e+00  0.000e+00 ...  0.000e+00  5.000e-01]) = [-1.000e+01 -1.000e+01 ... -1.000e+01 -5.008e+00]\n"
     ]
    },
    {
     "data": {
      "application/vnd.jupyter.widget-view+json": {
       "model_id": "2ac926c8a6ef4c1a9522dd8ecbbb6f53",
       "version_major": 2,
       "version_minor": 0
      },
      "text/plain": [
       "  0%|          | 0/10000 [00:00<?, ?it/s]"
      ]
     },
     "metadata": {},
     "output_type": "display_data"
    },
    {
     "name": "stdout",
     "output_type": "stream",
     "text": [
      "gld_params: [0.09900626 0.00540036 0.0752545  0.23759925]\n",
      "wrapper([ 1.000e+00  0.000e+00 ...  0.000e+00  0.000e+00]) = -0.0\n",
      "assembly_constraint_no_mean([ 1.000e+00  0.000e+00 ...  0.000e+00  0.000e+00]) = [ 1.699e-02 -1.000e+01 ... -1.000e+01 -1.000e+01]\n"
     ]
    },
    {
     "data": {
      "application/vnd.jupyter.widget-view+json": {
       "model_id": "739ac6041be14d2d8ec5ed25cbf2e439",
       "version_major": 2,
       "version_minor": 0
      },
      "text/plain": [
       "  0%|          | 0/10000 [00:00<?, ?it/s]"
      ]
     },
     "metadata": {},
     "output_type": "display_data"
    },
    {
     "name": "stdout",
     "output_type": "stream",
     "text": [
      "gld_params: [0.09897465 0.005507   0.07778245 0.25712574]\n",
      "wrapper([ 0.000e+00  1.000e+00 ...  0.000e+00  0.000e+00]) = -0.0\n",
      "assembly_constraint_no_mean([ 0.000e+00  1.000e+00 ...  0.000e+00  0.000e+00]) = [ 4.530e-02 -1.000e+01 ... -1.000e+01 -1.000e+01]\n"
     ]
    },
    {
     "data": {
      "application/vnd.jupyter.widget-view+json": {
       "model_id": "f47cf25b5b524edbb62a8e1c6235bb0e",
       "version_major": 2,
       "version_minor": 0
      },
      "text/plain": [
       "  0%|          | 0/10000 [00:00<?, ?it/s]"
      ]
     },
     "metadata": {},
     "output_type": "display_data"
    },
    {
     "name": "stdout",
     "output_type": "stream",
     "text": [
      "gld_params: [0.09604062 0.02200213 0.07337423 0.24697374]\n",
      "wrapper([ 0.000e+00  0.000e+00 ...  0.000e+00  0.000e+00]) = -0.0\n",
      "assembly_constraint_no_mean([ 0.000e+00  0.000e+00 ...  0.000e+00  0.000e+00]) = [ 1.309e-02 -1.000e+01 ... -1.000e+01 -1.000e+01]\n"
     ]
    },
    {
     "data": {
      "application/vnd.jupyter.widget-view+json": {
       "model_id": "82fe3e9c6aef44abbb5c48ff133f5d5a",
       "version_major": 2,
       "version_minor": 0
      },
      "text/plain": [
       "  0%|          | 0/10000 [00:00<?, ?it/s]"
      ]
     },
     "metadata": {},
     "output_type": "display_data"
    },
    {
     "name": "stdout",
     "output_type": "stream",
     "text": [
      "gld_params: [0.09571993 0.02162288 0.08169805 0.23466593]\n",
      "wrapper([ 0.000e+00  0.000e+00 ...  0.000e+00  0.000e+00]) = -0.0\n",
      "assembly_constraint_no_mean([ 0.000e+00  0.000e+00 ...  0.000e+00  0.000e+00]) = [-4.755e-02 -1.000e+01 ... -1.000e+01 -1.000e+01]\n"
     ]
    },
    {
     "data": {
      "application/vnd.jupyter.widget-view+json": {
       "model_id": "c88859d2e6f64a52a5e7c497b339a53e",
       "version_major": 2,
       "version_minor": 0
      },
      "text/plain": [
       "  0%|          | 0/10000 [00:00<?, ?it/s]"
      ]
     },
     "metadata": {},
     "output_type": "display_data"
    },
    {
     "name": "stdout",
     "output_type": "stream",
     "text": [
      "gld_params: [0.09909277 0.00542627 0.06924095 0.24414719]\n",
      "wrapper([ 0.000e+00  0.000e+00 ...  0.000e+00  0.000e+00]) = -0.0\n",
      "assembly_constraint_no_mean([ 0.000e+00  0.000e+00 ...  0.000e+00  0.000e+00]) = [-1.000e+01  5.865e-03 ... -1.000e+01 -1.000e+01]\n"
     ]
    },
    {
     "data": {
      "application/vnd.jupyter.widget-view+json": {
       "model_id": "cef873cc5e544a2f82528e58751836e4",
       "version_major": 2,
       "version_minor": 0
      },
      "text/plain": [
       "  0%|          | 0/10000 [00:00<?, ?it/s]"
      ]
     },
     "metadata": {},
     "output_type": "display_data"
    },
    {
     "name": "stdout",
     "output_type": "stream",
     "text": [
      "gld_params: [0.09899847 0.00544319 0.07712616 0.23726181]\n",
      "wrapper([ 0.000e+00  0.000e+00 ...  0.000e+00  0.000e+00]) = -0.0\n",
      "assembly_constraint_no_mean([ 0.000e+00  0.000e+00 ...  0.000e+00  0.000e+00]) = [-1.000e+01 -7.551e-03 ... -1.000e+01 -1.000e+01]\n"
     ]
    },
    {
     "data": {
      "application/vnd.jupyter.widget-view+json": {
       "model_id": "87925cada12f40c48e8ba2c67f409b33",
       "version_major": 2,
       "version_minor": 0
      },
      "text/plain": [
       "  0%|          | 0/10000 [00:00<?, ?it/s]"
      ]
     },
     "metadata": {},
     "output_type": "display_data"
    },
    {
     "name": "stdout",
     "output_type": "stream",
     "text": [
      "gld_params: [0.09505183 0.02103622 0.09506154 0.21921928]\n",
      "wrapper([ 0.000e+00  0.000e+00 ...  0.000e+00  0.000e+00]) = -0.0\n",
      "assembly_constraint_no_mean([ 0.000e+00  0.000e+00 ...  0.000e+00  0.000e+00]) = [-1.000e+01 -3.421e-02 ... -1.000e+01 -1.000e+01]\n"
     ]
    },
    {
     "data": {
      "application/vnd.jupyter.widget-view+json": {
       "model_id": "d099255eff9f4e17936f4f47e33dd780",
       "version_major": 2,
       "version_minor": 0
      },
      "text/plain": [
       "  0%|          | 0/10000 [00:00<?, ?it/s]"
      ]
     },
     "metadata": {},
     "output_type": "display_data"
    },
    {
     "name": "stdout",
     "output_type": "stream",
     "text": [
      "gld_params: [0.09501522 0.02080838 0.0941655  0.2178902 ]\n",
      "wrapper([ 0.000e+00  0.000e+00 ...  0.000e+00  0.000e+00]) = -0.0\n",
      "assembly_constraint_no_mean([ 0.000e+00  0.000e+00 ...  0.000e+00  0.000e+00]) = [-1.000e+01 -1.503e-03 ... -1.000e+01 -1.000e+01]\n"
     ]
    },
    {
     "data": {
      "application/vnd.jupyter.widget-view+json": {
       "model_id": "b6e62da8f98549f9be3fa2e754cb6c2c",
       "version_major": 2,
       "version_minor": 0
      },
      "text/plain": [
       "  0%|          | 0/10000 [00:00<?, ?it/s]"
      ]
     },
     "metadata": {},
     "output_type": "display_data"
    },
    {
     "name": "stdout",
     "output_type": "stream",
     "text": [
      "gld_params: [0.09900142 0.00535753 0.07656369 0.23144076]\n",
      "wrapper([ 0.000e+00  0.000e+00 ...  0.000e+00  0.000e+00]) = -0.0\n",
      "assembly_constraint_no_mean([ 0.000e+00  0.000e+00 ...  0.000e+00  0.000e+00]) = [-1.000e+01 -1.000e+01 ... -1.000e+01 -1.000e+01]\n"
     ]
    },
    {
     "data": {
      "application/vnd.jupyter.widget-view+json": {
       "model_id": "fce30c81445146a8a6d1d67873177559",
       "version_major": 2,
       "version_minor": 0
      },
      "text/plain": [
       "  0%|          | 0/10000 [00:00<?, ?it/s]"
      ]
     },
     "metadata": {},
     "output_type": "display_data"
    },
    {
     "name": "stdout",
     "output_type": "stream",
     "text": [
      "gld_params: [0.09895446 0.00535926 0.07702666 0.21796402]\n",
      "wrapper([ 0.000e+00  0.000e+00 ...  0.000e+00  0.000e+00]) = -0.0\n",
      "assembly_constraint_no_mean([ 0.000e+00  0.000e+00 ...  0.000e+00  0.000e+00]) = [-1.000e+01 -1.000e+01 ... -1.000e+01 -1.000e+01]\n"
     ]
    },
    {
     "data": {
      "application/vnd.jupyter.widget-view+json": {
       "model_id": "05c9fca312a046c4a89a5868d3c976f5",
       "version_major": 2,
       "version_minor": 0
      },
      "text/plain": [
       "  0%|          | 0/10000 [00:00<?, ?it/s]"
      ]
     },
     "metadata": {},
     "output_type": "display_data"
    },
    {
     "name": "stdout",
     "output_type": "stream",
     "text": [
      "gld_params: [0.09631801 0.02239231 0.07060053 0.25672765]\n",
      "wrapper([ 0.000e+00  0.000e+00 ...  0.000e+00  0.000e+00]) = -0.0\n",
      "assembly_constraint_no_mean([ 0.000e+00  0.000e+00 ...  0.000e+00  0.000e+00]) = [-1.000e+01 -1.000e+01 ... -1.000e+01 -1.000e+01]\n"
     ]
    },
    {
     "data": {
      "application/vnd.jupyter.widget-view+json": {
       "model_id": "a1548bba7f3b4097849e98eee1d63626",
       "version_major": 2,
       "version_minor": 0
      },
      "text/plain": [
       "  0%|          | 0/10000 [00:00<?, ?it/s]"
      ]
     },
     "metadata": {},
     "output_type": "display_data"
    },
    {
     "name": "stdout",
     "output_type": "stream",
     "text": [
      "gld_params: [0.09634107 0.02209594 0.07012693 0.24602406]\n",
      "wrapper([ 0.000e+00  0.000e+00 ...  0.000e+00  0.000e+00]) = -0.0\n",
      "assembly_constraint_no_mean([ 0.000e+00  0.000e+00 ...  0.000e+00  0.000e+00]) = [-1.000e+01 -1.000e+01 ... -1.000e+01 -1.000e+01]\n"
     ]
    },
    {
     "data": {
      "application/vnd.jupyter.widget-view+json": {
       "model_id": "1abd7e12c1ee491a97cbe44d6d9d3470",
       "version_major": 2,
       "version_minor": 0
      },
      "text/plain": [
       "  0%|          | 0/10000 [00:00<?, ?it/s]"
      ]
     },
     "metadata": {},
     "output_type": "display_data"
    },
    {
     "name": "stdout",
     "output_type": "stream",
     "text": [
      "gld_params: [0.09888722 0.00526736 0.08357949 0.21912192]\n",
      "wrapper([ 0.000e+00  0.000e+00 ...  0.000e+00  0.000e+00]) = -0.0\n",
      "assembly_constraint_no_mean([ 0.000e+00  0.000e+00 ...  0.000e+00  0.000e+00]) = [-1.000e+01 -1.000e+01 ... -1.000e+01 -1.000e+01]\n"
     ]
    },
    {
     "data": {
      "application/vnd.jupyter.widget-view+json": {
       "model_id": "c2320f20ede0498e9ce30e64658a1eb0",
       "version_major": 2,
       "version_minor": 0
      },
      "text/plain": [
       "  0%|          | 0/10000 [00:00<?, ?it/s]"
      ]
     },
     "metadata": {},
     "output_type": "display_data"
    },
    {
     "name": "stdout",
     "output_type": "stream",
     "text": [
      "gld_params: [0.09910752 0.00531346 0.06765316 0.23024566]\n",
      "wrapper([ 0.000e+00  0.000e+00 ...  0.000e+00  0.000e+00]) = -0.0\n",
      "assembly_constraint_no_mean([ 0.000e+00  0.000e+00 ...  0.000e+00  0.000e+00]) = [-1.000e+01 -1.000e+01 ... -1.000e+01 -1.000e+01]\n"
     ]
    },
    {
     "data": {
      "application/vnd.jupyter.widget-view+json": {
       "model_id": "9226def2876f43d5ae97cb062605436a",
       "version_major": 2,
       "version_minor": 0
      },
      "text/plain": [
       "  0%|          | 0/10000 [00:00<?, ?it/s]"
      ]
     },
     "metadata": {},
     "output_type": "display_data"
    },
    {
     "name": "stdout",
     "output_type": "stream",
     "text": [
      "gld_params: [0.095362   0.02083974 0.08669892 0.21767494]\n",
      "wrapper([ 0.000e+00  0.000e+00 ...  0.000e+00  0.000e+00]) = -0.0\n",
      "assembly_constraint_no_mean([ 0.000e+00  0.000e+00 ...  0.000e+00  0.000e+00]) = [-1.000e+01 -1.000e+01 ... -1.000e+01 -1.000e+01]\n"
     ]
    },
    {
     "data": {
      "application/vnd.jupyter.widget-view+json": {
       "model_id": "3b52c424554d49cd9bff80b93dc432bb",
       "version_major": 2,
       "version_minor": 0
      },
      "text/plain": [
       "  0%|          | 0/10000 [00:00<?, ?it/s]"
      ]
     },
     "metadata": {},
     "output_type": "display_data"
    },
    {
     "name": "stdout",
     "output_type": "stream",
     "text": [
      "gld_params: [0.09581176 0.02120747 0.08034655 0.23253206]\n",
      "wrapper([ 0.000e+00  0.000e+00 ...  0.000e+00  0.000e+00]) = -0.0\n",
      "assembly_constraint_no_mean([ 0.000e+00  0.000e+00 ...  0.000e+00  0.000e+00]) = [-1.000e+01 -1.000e+01 ... -1.000e+01 -1.000e+01]\n"
     ]
    },
    {
     "data": {
      "application/vnd.jupyter.widget-view+json": {
       "model_id": "dab4a79ad80148248a86f27ba8b6cc3d",
       "version_major": 2,
       "version_minor": 0
      },
      "text/plain": [
       "  0%|          | 0/10000 [00:00<?, ?it/s]"
      ]
     },
     "metadata": {},
     "output_type": "display_data"
    },
    {
     "name": "stdout",
     "output_type": "stream",
     "text": [
      "gld_params: [0.09889129 0.00531017 0.08414248 0.22134194]\n",
      "wrapper([ 0.000e+00  0.000e+00 ...  0.000e+00  0.000e+00]) = -0.0\n",
      "assembly_constraint_no_mean([ 0.000e+00  0.000e+00 ...  0.000e+00  0.000e+00]) = [-1.000e+01 -1.000e+01 ... -1.000e+01 -1.000e+01]\n"
     ]
    },
    {
     "data": {
      "application/vnd.jupyter.widget-view+json": {
       "model_id": "4e7dff5858dc4113972c9441bf336ebf",
       "version_major": 2,
       "version_minor": 0
      },
      "text/plain": [
       "  0%|          | 0/10000 [00:00<?, ?it/s]"
      ]
     },
     "metadata": {},
     "output_type": "display_data"
    },
    {
     "name": "stdout",
     "output_type": "stream",
     "text": [
      "gld_params: [0.09909545 0.00543624 0.06982564 0.24538113]\n",
      "wrapper([ 0.000e+00  0.000e+00 ...  0.000e+00  0.000e+00]) = -0.0\n",
      "assembly_constraint_no_mean([ 0.000e+00  0.000e+00 ...  0.000e+00  0.000e+00]) = [-1.000e+01 -1.000e+01 ... -1.000e+01 -1.000e+01]\n"
     ]
    },
    {
     "data": {
      "application/vnd.jupyter.widget-view+json": {
       "model_id": "a1ef8de7fb6443fda4529d94cd25e12f",
       "version_major": 2,
       "version_minor": 0
      },
      "text/plain": [
       "  0%|          | 0/10000 [00:00<?, ?it/s]"
      ]
     },
     "metadata": {},
     "output_type": "display_data"
    },
    {
     "name": "stdout",
     "output_type": "stream",
     "text": [
      "gld_params: [0.09546371 0.02106549 0.08818633 0.22669756]\n",
      "wrapper([ 0.000e+00  0.000e+00 ...  0.000e+00  0.000e+00]) = -0.0\n",
      "assembly_constraint_no_mean([ 0.000e+00  0.000e+00 ...  0.000e+00  0.000e+00]) = [-1.000e+01 -1.000e+01 ... -1.000e+01 -1.000e+01]\n"
     ]
    },
    {
     "data": {
      "application/vnd.jupyter.widget-view+json": {
       "model_id": "85489f9fb31046e382ede5ee3724f6ac",
       "version_major": 2,
       "version_minor": 0
      },
      "text/plain": [
       "  0%|          | 0/10000 [00:00<?, ?it/s]"
      ]
     },
     "metadata": {},
     "output_type": "display_data"
    },
    {
     "name": "stdout",
     "output_type": "stream",
     "text": [
      "gld_params: [0.09599543 0.02157195 0.07888288 0.24666182]\n",
      "wrapper([ 0.000e+00  0.000e+00 ...  0.000e+00  0.000e+00]) = -0.0\n",
      "assembly_constraint_no_mean([ 0.000e+00  0.000e+00 ...  0.000e+00  0.000e+00]) = [-1.000e+01 -1.000e+01 ... -1.000e+01 -1.000e+01]\n"
     ]
    },
    {
     "data": {
      "application/vnd.jupyter.widget-view+json": {
       "model_id": "34f8dc4ce4284db6bdc091f1c39c9496",
       "version_major": 2,
       "version_minor": 0
      },
      "text/plain": [
       "  0%|          | 0/10000 [00:00<?, ?it/s]"
      ]
     },
     "metadata": {},
     "output_type": "display_data"
    },
    {
     "name": "stdout",
     "output_type": "stream",
     "text": [
      "gld_params: [0.09878751 0.0052249  0.09100853 0.21531531]\n",
      "wrapper([ 0.000e+00  0.000e+00 ...  0.000e+00  0.000e+00]) = -0.0\n",
      "assembly_constraint_no_mean([ 0.000e+00  0.000e+00 ...  0.000e+00  0.000e+00]) = [-1.000e+01 -1.000e+01 ... -1.000e+01 -1.000e+01]\n"
     ]
    },
    {
     "data": {
      "application/vnd.jupyter.widget-view+json": {
       "model_id": "86d1274dae014b20a8dbffb393fec3d1",
       "version_major": 2,
       "version_minor": 0
      },
      "text/plain": [
       "  0%|          | 0/10000 [00:00<?, ?it/s]"
      ]
     },
     "metadata": {},
     "output_type": "display_data"
    },
    {
     "name": "stdout",
     "output_type": "stream",
     "text": [
      "gld_params: [0.09893131 0.00532542 0.08295895 0.22959108]\n",
      "wrapper([ 0.000e+00  0.000e+00 ...  0.000e+00  0.000e+00]) = -0.0\n",
      "assembly_constraint_no_mean([ 0.000e+00  0.000e+00 ...  0.000e+00  0.000e+00]) = [-1.000e+01 -1.000e+01 ... -1.000e+01 -1.000e+01]\n"
     ]
    },
    {
     "data": {
      "application/vnd.jupyter.widget-view+json": {
       "model_id": "0f4adcca6d7b4b5caa2ec850cdc89fc0",
       "version_major": 2,
       "version_minor": 0
      },
      "text/plain": [
       "  0%|          | 0/10000 [00:00<?, ?it/s]"
      ]
     },
     "metadata": {},
     "output_type": "display_data"
    },
    {
     "name": "stdout",
     "output_type": "stream",
     "text": [
      "gld_params: [0.09584117 0.02191057 0.07885252 0.24330829]\n",
      "wrapper([ 0.000e+00  0.000e+00 ...  0.000e+00  0.000e+00]) = -0.0\n",
      "assembly_constraint_no_mean([ 0.000e+00  0.000e+00 ...  0.000e+00  0.000e+00]) = [-1.000e+01 -1.000e+01 ... -1.000e+01 -1.000e+01]\n"
     ]
    },
    {
     "data": {
      "application/vnd.jupyter.widget-view+json": {
       "model_id": "023ecd8bae13419e8f4ae72b97ef935c",
       "version_major": 2,
       "version_minor": 0
      },
      "text/plain": [
       "  0%|          | 0/10000 [00:00<?, ?it/s]"
      ]
     },
     "metadata": {},
     "output_type": "display_data"
    },
    {
     "name": "stdout",
     "output_type": "stream",
     "text": [
      "gld_params: [0.09554149 0.02111697 0.08538009 0.22074961]\n",
      "wrapper([ 0.000e+00  0.000e+00 ...  0.000e+00  0.000e+00]) = -0.0\n",
      "assembly_constraint_no_mean([ 0.000e+00  0.000e+00 ...  0.000e+00  0.000e+00]) = [-1.000e+01 -1.000e+01 ... -1.000e+01 -1.000e+01]\n"
     ]
    },
    {
     "data": {
      "application/vnd.jupyter.widget-view+json": {
       "model_id": "ee5db94ab1b344c5a7a369734bce06ae",
       "version_major": 2,
       "version_minor": 0
      },
      "text/plain": [
       "  0%|          | 0/10000 [00:00<?, ?it/s]"
      ]
     },
     "metadata": {},
     "output_type": "display_data"
    },
    {
     "name": "stdout",
     "output_type": "stream",
     "text": [
      "gld_params: [0.09892895 0.0052854  0.0808698  0.22721384]\n",
      "wrapper([ 0.000e+00  0.000e+00 ...  0.000e+00  0.000e+00]) = -0.0\n",
      "assembly_constraint_no_mean([ 0.000e+00  0.000e+00 ...  0.000e+00  0.000e+00]) = [-1.000e+01 -1.000e+01 ... -2.275e-02 -1.000e+01]\n"
     ]
    },
    {
     "data": {
      "application/vnd.jupyter.widget-view+json": {
       "model_id": "15ae3ae2b9cd4e5890609dfb99f63121",
       "version_major": 2,
       "version_minor": 0
      },
      "text/plain": [
       "  0%|          | 0/10000 [00:00<?, ?it/s]"
      ]
     },
     "metadata": {},
     "output_type": "display_data"
    },
    {
     "name": "stdout",
     "output_type": "stream",
     "text": [
      "gld_params: [0.0990232  0.00543418 0.0735309  0.25218752]\n",
      "wrapper([ 0.000e+00  0.000e+00 ...  0.000e+00  0.000e+00]) = -0.0\n",
      "assembly_constraint_no_mean([ 0.000e+00  0.000e+00 ...  0.000e+00  0.000e+00]) = [-1.000e+01 -1.000e+01 ... -2.074e-02 -1.000e+01]\n"
     ]
    },
    {
     "data": {
      "application/vnd.jupyter.widget-view+json": {
       "model_id": "327fb2500c06421eb8549ce8dffbeca1",
       "version_major": 2,
       "version_minor": 0
      },
      "text/plain": [
       "  0%|          | 0/10000 [00:00<?, ?it/s]"
      ]
     },
     "metadata": {},
     "output_type": "display_data"
    },
    {
     "name": "stdout",
     "output_type": "stream",
     "text": [
      "gld_params: [0.09593147 0.02201725 0.0760251  0.24838943]\n",
      "wrapper([ 0.000e+00  0.000e+00 ...  0.000e+00  0.000e+00]) = -0.0\n",
      "assembly_constraint_no_mean([ 0.000e+00  0.000e+00 ...  0.000e+00  0.000e+00]) = [-1.000e+01 -1.000e+01 ...  3.353e-02 -1.000e+01]\n"
     ]
    },
    {
     "data": {
      "application/vnd.jupyter.widget-view+json": {
       "model_id": "1c10dea4304345688f8e45665c85fc4f",
       "version_major": 2,
       "version_minor": 0
      },
      "text/plain": [
       "  0%|          | 0/10000 [00:00<?, ?it/s]"
      ]
     },
     "metadata": {},
     "output_type": "display_data"
    },
    {
     "name": "stdout",
     "output_type": "stream",
     "text": [
      "gld_params: [0.09643014 0.02206197 0.06934626 0.24915851]\n",
      "wrapper([ 0.000e+00  0.000e+00 ...  0.000e+00  0.000e+00]) = -0.0\n",
      "assembly_constraint_no_mean([ 0.000e+00  0.000e+00 ...  0.000e+00  0.000e+00]) = [-1.000e+01 -1.000e+01 ...  2.508e-02 -1.000e+01]\n"
     ]
    },
    {
     "data": {
      "application/vnd.jupyter.widget-view+json": {
       "model_id": "8ba7ac9617a14f2984d6ead3e61eacf3",
       "version_major": 2,
       "version_minor": 0
      },
      "text/plain": [
       "  0%|          | 0/10000 [00:00<?, ?it/s]"
      ]
     },
     "metadata": {},
     "output_type": "display_data"
    },
    {
     "name": "stdout",
     "output_type": "stream",
     "text": [
      "gld_params: [0.09882329 0.00536395 0.09066892 0.24372709]\n",
      "wrapper([ 0.000e+00  0.000e+00 ...  0.000e+00  0.000e+00]) = -0.0\n",
      "assembly_constraint_no_mean([ 0.000e+00  0.000e+00 ...  0.000e+00  0.000e+00]) = [-1.000e+01 -1.000e+01 ... -1.000e+01  1.305e-02]\n"
     ]
    },
    {
     "data": {
      "application/vnd.jupyter.widget-view+json": {
       "model_id": "37c3b89e9da7427dbeb2f0071b4c2679",
       "version_major": 2,
       "version_minor": 0
      },
      "text/plain": [
       "  0%|          | 0/10000 [00:00<?, ?it/s]"
      ]
     },
     "metadata": {},
     "output_type": "display_data"
    },
    {
     "name": "stdout",
     "output_type": "stream",
     "text": [
      "gld_params: [0.09883068 0.00539564 0.09206029 0.25100085]\n",
      "wrapper([ 0.000e+00  0.000e+00 ...  0.000e+00  0.000e+00]) = -0.0\n",
      "assembly_constraint_no_mean([ 0.000e+00  0.000e+00 ...  0.000e+00  0.000e+00]) = [-1.000e+01 -1.000e+01 ... -1.000e+01  3.046e-02]\n"
     ]
    },
    {
     "data": {
      "application/vnd.jupyter.widget-view+json": {
       "model_id": "2441dcfededd4498a6c7d1930aabf8cf",
       "version_major": 2,
       "version_minor": 0
      },
      "text/plain": [
       "  0%|          | 0/10000 [00:00<?, ?it/s]"
      ]
     },
     "metadata": {},
     "output_type": "display_data"
    },
    {
     "name": "stdout",
     "output_type": "stream",
     "text": [
      "gld_params: [0.09611283 0.02195265 0.07376755 0.24570939]\n",
      "wrapper([ 0.000e+00  0.000e+00 ...  1.000e+00  0.000e+00]) = -0.0\n",
      "assembly_constraint_no_mean([ 0.000e+00  0.000e+00 ...  1.000e+00  0.000e+00]) = [-1.000e+01 -1.000e+01 ... -1.000e+01 -1.284e-02]\n"
     ]
    },
    {
     "data": {
      "application/vnd.jupyter.widget-view+json": {
       "model_id": "942171212c0c4b8ab7b47972453a8faa",
       "version_major": 2,
       "version_minor": 0
      },
      "text/plain": [
       "  0%|          | 0/10000 [00:00<?, ?it/s]"
      ]
     },
     "metadata": {},
     "output_type": "display_data"
    },
    {
     "name": "stdout",
     "output_type": "stream",
     "text": [
      "gld_params: [0.09605566 0.02194903 0.07655558 0.25868844]\n",
      "wrapper([ 0.000e+00  0.000e+00 ...  0.000e+00  1.000e+00]) = -0.0\n",
      "assembly_constraint_no_mean([ 0.000e+00  0.000e+00 ...  0.000e+00  1.000e+00]) = [-1.000e+01 -1.000e+01 ... -1.000e+01 -1.598e-02]\n"
     ]
    },
    {
     "data": {
      "application/vnd.jupyter.widget-view+json": {
       "model_id": "d0c286ae6c7c4c69a2ab6c8f2cc72fdf",
       "version_major": 2,
       "version_minor": 0
      },
      "text/plain": [
       "  0%|          | 0/10000 [00:00<?, ?it/s]"
      ]
     },
     "metadata": {},
     "output_type": "display_data"
    },
    {
     "name": "stdout",
     "output_type": "stream",
     "text": [
      "gld_params: [0.09680988 0.00387522 0.21483927 0.14716387]\n",
      "wrapper([ 7.500e-01  2.500e-01 ...  0.000e+00  0.000e+00]) = -0.0\n",
      "assembly_constraint_no_mean([ 7.500e-01  2.500e-01 ...  0.000e+00  0.000e+00]) = [-2.935e+00 -1.000e+01 ... -1.000e+01 -1.000e+01]\n"
     ]
    },
    {
     "data": {
      "application/vnd.jupyter.widget-view+json": {
       "model_id": "b0807f9eb9d74db89fa85d8768aff1c0",
       "version_major": 2,
       "version_minor": 0
      },
      "text/plain": [
       "  0%|          | 0/10000 [00:00<?, ?it/s]"
      ]
     },
     "metadata": {},
     "output_type": "display_data"
    },
    {
     "name": "stdout",
     "output_type": "stream",
     "text": [
      "gld_params: [0.09480152 0.00846935 0.14427297 0.12386864]\n",
      "wrapper([ 7.500e-01  0.000e+00 ...  0.000e+00  0.000e+00]) = -0.0\n",
      "assembly_constraint_no_mean([ 7.500e-01  0.000e+00 ...  0.000e+00  0.000e+00]) = [-2.070e+00 -1.000e+01 ... -1.000e+01 -1.000e+01]\n",
      "\n",
      "New trust-region radius: 0.33.\n",
      "Number of function evaluations: 67.\n",
      "Number of iterations: 4.\n",
      "Least value of wrapper: -0.0.\n",
      "Maximum constraint violation: 9.949930829956068.\n",
      "Corresponding point: [ 1.000e+00  0.000e+00 ...  0.000e+00  0.000e+00].\n",
      "\n"
     ]
    },
    {
     "data": {
      "application/vnd.jupyter.widget-view+json": {
       "model_id": "5f648bf341b24bbc8a12032635514aef",
       "version_major": 2,
       "version_minor": 0
      },
      "text/plain": [
       "  0%|          | 0/10000 [00:00<?, ?it/s]"
      ]
     },
     "metadata": {},
     "output_type": "display_data"
    },
    {
     "name": "stdout",
     "output_type": "stream",
     "text": [
      "gld_params: [0.09373554 0.00832653 0.19530442 0.13514319]\n",
      "wrapper([ 7.667e-01  0.000e+00 ...  0.000e+00  0.000e+00]) = -0.0\n",
      "assembly_constraint_no_mean([ 7.667e-01  0.000e+00 ...  0.000e+00  0.000e+00]) = [-2.751e+00 -1.000e+01 ... -1.000e+01 -1.000e+01]\n"
     ]
    },
    {
     "data": {
      "application/vnd.jupyter.widget-view+json": {
       "model_id": "eda2cb45ef314433b1327e8d494f3534",
       "version_major": 2,
       "version_minor": 0
      },
      "text/plain": [
       "  0%|          | 0/10000 [00:00<?, ?it/s]"
      ]
     },
     "metadata": {},
     "output_type": "display_data"
    },
    {
     "name": "stdout",
     "output_type": "stream",
     "text": [
      "gld_params: [0.0988384  0.00529604 0.09179705 0.23037935]\n",
      "wrapper([ 7.667e-01  0.000e+00 ...  0.000e+00  0.000e+00]) = -0.0\n",
      "assembly_constraint_no_mean([ 7.667e-01  0.000e+00 ...  0.000e+00  0.000e+00]) = [-2.320e+00 -7.665e+00 ... -1.000e+01 -1.000e+01]\n"
     ]
    },
    {
     "data": {
      "application/vnd.jupyter.widget-view+json": {
       "model_id": "e2788e893dc44b2487d8fb2595b1e986",
       "version_major": 2,
       "version_minor": 0
      },
      "text/plain": [
       "  0%|          | 0/10000 [00:00<?, ?it/s]"
      ]
     },
     "metadata": {},
     "output_type": "display_data"
    },
    {
     "name": "stdout",
     "output_type": "stream",
     "text": [
      "gld_params: [0.09868376 0.00610209 0.09045388 0.23089218]\n",
      "wrapper([ 8.420e-01  1.156e-17 ...  3.256e-18  2.070e-18]) = -0.0\n",
      "assembly_constraint_no_mean([ 8.420e-01  1.156e-17 ...  3.256e-18  2.070e-18]) = [-1.566e+00 -5.134e+00 ... -1.000e+01 -1.000e+01]\n"
     ]
    },
    {
     "data": {
      "application/vnd.jupyter.widget-view+json": {
       "model_id": "8f5de2c835e24844a7e5353c3cd5e82b",
       "version_major": 2,
       "version_minor": 0
      },
      "text/plain": [
       "  0%|          | 0/10000 [00:00<?, ?it/s]"
      ]
     },
     "metadata": {},
     "output_type": "display_data"
    },
    {
     "name": "stdout",
     "output_type": "stream",
     "text": [
      "gld_params: [0.0870727  0.00628259 0.28694983 0.09491255]\n",
      "wrapper([ 8.615e-01  3.640e-17 ...  1.075e-01  1.075e-01]) = -0.0\n",
      "assembly_constraint_no_mean([ 8.615e-01  3.640e-17 ...  1.075e-01  1.075e-01]) = [-1.370e+00 -4.664e+00 ... -8.726e+00 -8.833e+00]\n"
     ]
    },
    {
     "data": {
      "application/vnd.jupyter.widget-view+json": {
       "model_id": "53d66e893c7642258645e249829f42b8",
       "version_major": 2,
       "version_minor": 0
      },
      "text/plain": [
       "  0%|          | 0/10000 [00:00<?, ?it/s]"
      ]
     },
     "metadata": {},
     "output_type": "display_data"
    },
    {
     "name": "stdout",
     "output_type": "stream",
     "text": [
      "gld_params: [0.07947692 0.00737161 0.31110323 0.08831071]\n",
      "wrapper([ 8.813e-01  6.211e-17 ...  1.947e-01  1.946e-01]) = -0.0\n",
      "assembly_constraint_no_mean([ 8.813e-01  6.211e-17 ...  1.947e-01  1.946e-01]) = [-1.172e+00 -4.102e+00 ... -7.790e+00 -7.443e+00]\n"
     ]
    },
    {
     "data": {
      "application/vnd.jupyter.widget-view+json": {
       "model_id": "64cfcfc02881458d9689a254e52c590e",
       "version_major": 2,
       "version_minor": 0
      },
      "text/plain": [
       "  0%|          | 0/10000 [00:00<?, ?it/s]"
      ]
     },
     "metadata": {},
     "output_type": "display_data"
    },
    {
     "name": "stdout",
     "output_type": "stream",
     "text": [
      "gld_params: [0.07242353 0.01207058 0.265837   0.10514379]\n",
      "wrapper([ 8.329e-01  1.883e-17 ...  3.831e-01  3.830e-01]) = -5.9608609865491405e-06\n",
      "assembly_constraint_no_mean([ 8.329e-01  1.883e-17 ...  3.831e-01  3.830e-01]) = [-1.655e+00 -4.021e+00 ... -6.076e+00 -5.286e+00]\n"
     ]
    },
    {
     "data": {
      "application/vnd.jupyter.widget-view+json": {
       "model_id": "db793ed38fff42e991728a006334538c",
       "version_major": 2,
       "version_minor": 0
      },
      "text/plain": [
       "  0%|          | 0/10000 [00:00<?, ?it/s]"
      ]
     },
     "metadata": {},
     "output_type": "display_data"
    },
    {
     "name": "stdout",
     "output_type": "stream",
     "text": [
      "gld_params: [0.05880494 0.01991004 0.24276847 0.11971332]\n",
      "wrapper([ 8.965e-01  1.478e-18 ...  8.026e-01  8.023e-01]) = -0.0052051375479436335\n",
      "assembly_constraint_no_mean([ 8.965e-01  1.478e-18 ...  8.026e-01  8.023e-01]) = [-9.890e-01 -3.232e+00 ...  6.532e-01 -4.561e-01]\n"
     ]
    },
    {
     "data": {
      "application/vnd.jupyter.widget-view+json": {
       "model_id": "dd263fde2d0843408521c9d92627ba94",
       "version_major": 2,
       "version_minor": 0
      },
      "text/plain": [
       "  0%|          | 0/10000 [00:00<?, ?it/s]"
      ]
     },
     "metadata": {},
     "output_type": "display_data"
    },
    {
     "name": "stdout",
     "output_type": "stream",
     "text": [
      "gld_params: [0.04689828 0.0211583  0.3057934  0.12505276]\n",
      "wrapper([ 1.000e+00  0.000e+00 ...  1.000e+00  1.000e+00]) = -0.016776573212625115\n",
      "assembly_constraint_no_mean([ 1.000e+00  0.000e+00 ...  1.000e+00  1.000e+00]) = [ 8.792e-01  3.200e+00 ...  3.433e+00  3.774e+00]\n"
     ]
    },
    {
     "data": {
      "application/vnd.jupyter.widget-view+json": {
       "model_id": "19fbcb4f471543d1b12fd6e481b81ca1",
       "version_major": 2,
       "version_minor": 0
      },
      "text/plain": [
       "  0%|          | 0/10000 [00:00<?, ?it/s]"
      ]
     },
     "metadata": {},
     "output_type": "display_data"
    },
    {
     "name": "stdout",
     "output_type": "stream",
     "text": [
      "gld_params: [0.06378662 0.01665322 0.25884272 0.11741548]\n",
      "wrapper([ 6.445e-01  1.063e-18 ...  5.770e-01  5.768e-01]) = -0.00035358004635292246\n",
      "assembly_constraint_no_mean([ 6.445e-01  1.063e-18 ...  5.770e-01  5.768e-01]) = [-3.522e+00 -5.134e+00 ... -2.341e+00 -3.138e+00]\n"
     ]
    },
    {
     "data": {
      "application/vnd.jupyter.widget-view+json": {
       "model_id": "ffd0d73025ed4061a5bd0a4aa423ed12",
       "version_major": 2,
       "version_minor": 0
      },
      "text/plain": [
       "  0%|          | 0/10000 [00:00<?, ?it/s]"
      ]
     },
     "metadata": {},
     "output_type": "display_data"
    },
    {
     "name": "stdout",
     "output_type": "stream",
     "text": [
      "gld_params: [0.05221374 0.0214961  0.26884185 0.12638656]\n",
      "wrapper([ 1.000e+00  7.504e-17 ...  1.000e+00  1.000e+00]) = -0.013341624066686292\n",
      "assembly_constraint_no_mean([ 1.000e+00  7.504e-17 ...  1.000e+00  1.000e+00]) = [ 2.810e-02  2.126e-02 ...  1.672e+00  1.987e+00]\n"
     ]
    },
    {
     "data": {
      "application/vnd.jupyter.widget-view+json": {
       "model_id": "6b280f2e0189419e8b42eac3b429080a",
       "version_major": 2,
       "version_minor": 0
      },
      "text/plain": [
       "  0%|          | 0/10000 [00:00<?, ?it/s]"
      ]
     },
     "metadata": {},
     "output_type": "display_data"
    },
    {
     "name": "stdout",
     "output_type": "stream",
     "text": [
      "gld_params: [0.06042033 0.02092888 0.22734878 0.13110637]\n",
      "wrapper([ 8.259e-01  0.000e+00 ...  8.290e-01  8.290e-01]) = -0.00587386705772627\n",
      "assembly_constraint_no_mean([ 8.259e-01  0.000e+00 ...  8.290e-01  8.290e-01]) = [-1.703e+00 -1.889e+00 ...  8.219e-01 -4.056e-01]\n"
     ]
    },
    {
     "data": {
      "application/vnd.jupyter.widget-view+json": {
       "model_id": "cec24214477b4f50aec130079e5e3b09",
       "version_major": 2,
       "version_minor": 0
      },
      "text/plain": [
       "  0%|          | 0/10000 [00:00<?, ?it/s]"
      ]
     },
     "metadata": {},
     "output_type": "display_data"
    },
    {
     "name": "stdout",
     "output_type": "stream",
     "text": [
      "gld_params: [0.05734041 0.02047241 0.2482619  0.1252528 ]\n",
      "wrapper([ 9.980e-01  1.223e-17 ...  9.295e-01  9.296e-01]) = -0.006586993903854729\n",
      "assembly_constraint_no_mean([ 9.980e-01  1.223e-17 ...  9.295e-01  9.296e-01]) = [ 1.448e-03 -8.686e-02 ...  5.717e-02  8.002e-01]\n"
     ]
    },
    {
     "data": {
      "application/vnd.jupyter.widget-view+json": {
       "model_id": "3d23164913bf4d3585e01e92a9c177a1",
       "version_major": 2,
       "version_minor": 0
      },
      "text/plain": [
       "  0%|          | 0/10000 [00:00<?, ?it/s]"
      ]
     },
     "metadata": {},
     "output_type": "display_data"
    },
    {
     "name": "stdout",
     "output_type": "stream",
     "text": [
      "gld_params: [0.0539162  0.0203165  0.26896473 0.12246203]\n",
      "wrapper([ 1.000e+00  1.308e-17 ...  8.975e-01  8.979e-01]) = -0.008172598593906285\n",
      "assembly_constraint_no_mean([ 1.000e+00  1.308e-17 ...  8.975e-01  8.979e-01]) = [ 1.335e-01  3.355e-01 ...  1.601e+00  1.557e+00]\n"
     ]
    },
    {
     "data": {
      "application/vnd.jupyter.widget-view+json": {
       "model_id": "9eb9a48f7f2c4acb8813fea906d5cf0d",
       "version_major": 2,
       "version_minor": 0
      },
      "text/plain": [
       "  0%|          | 0/10000 [00:00<?, ?it/s]"
      ]
     },
     "metadata": {},
     "output_type": "display_data"
    },
    {
     "name": "stdout",
     "output_type": "stream",
     "text": [
      "gld_params: [0.05725167 0.02017313 0.24859597 0.11925825]\n",
      "wrapper([ 9.989e-01  0.000e+00 ...  9.248e-01  9.251e-01]) = -0.006582841967476863\n",
      "assembly_constraint_no_mean([ 9.989e-01  0.000e+00 ...  9.248e-01  9.251e-01]) = [ 3.576e-02 -1.171e-01 ...  3.008e-02  5.839e-01]\n"
     ]
    },
    {
     "data": {
      "application/vnd.jupyter.widget-view+json": {
       "model_id": "0e886adad72f499ca10d6c3924db4995",
       "version_major": 2,
       "version_minor": 0
      },
      "text/plain": [
       "  0%|          | 0/10000 [00:00<?, ?it/s]"
      ]
     },
     "metadata": {},
     "output_type": "display_data"
    },
    {
     "name": "stdout",
     "output_type": "stream",
     "text": [
      "gld_params: [0.05549676 0.02074215 0.25349774 0.12105573]\n",
      "wrapper([ 1.000e+00  1.214e-17 ...  9.575e-01  9.573e-01]) = -0.009048571445907278\n",
      "assembly_constraint_no_mean([ 1.000e+00  1.214e-17 ...  9.575e-01  9.573e-01]) = [ 1.985e-02  2.409e-01 ...  9.543e-01  1.127e+00]\n"
     ]
    },
    {
     "data": {
      "application/vnd.jupyter.widget-view+json": {
       "model_id": "8a1714e20664496f9d79f56a07cc6e9d",
       "version_major": 2,
       "version_minor": 0
      },
      "text/plain": [
       "  0%|          | 0/10000 [00:00<?, ?it/s]"
      ]
     },
     "metadata": {},
     "output_type": "display_data"
    },
    {
     "name": "stdout",
     "output_type": "stream",
     "text": [
      "gld_params: [0.05715702 0.02028704 0.25251206 0.12648132]\n",
      "wrapper([ 7.632e-01  1.860e-02 ...  9.327e-01  9.331e-01]) = -0.005949612320926664\n",
      "assembly_constraint_no_mean([ 7.632e-01  1.860e-02 ...  9.327e-01  9.331e-01]) = [-2.377e+00 -2.151e-02 ... -3.013e-02  1.070e+00]\n"
     ]
    },
    {
     "data": {
      "application/vnd.jupyter.widget-view+json": {
       "model_id": "b16b2b59eb354700bcc2ac3c7d4be7e8",
       "version_major": 2,
       "version_minor": 0
      },
      "text/plain": [
       "  0%|          | 0/10000 [00:00<?, ?it/s]"
      ]
     },
     "metadata": {},
     "output_type": "display_data"
    },
    {
     "name": "stdout",
     "output_type": "stream",
     "text": [
      "gld_params: [0.05741676 0.02002518 0.25100313 0.12127462]\n",
      "wrapper([ 9.939e-01  8.264e-20 ...  8.740e-01  8.737e-01]) = -0.005801196815696101\n",
      "assembly_constraint_no_mean([ 9.939e-01  8.264e-20 ...  8.740e-01  8.737e-01]) = [-3.742e-02 -8.105e-02 ...  1.615e-01  1.859e-01]\n",
      "Warning: Normalized parameter -1.5980253478820282e-19 for feature 0, parameter 7 is out of bounds. Capping to [0, 1].\n",
      "Warning: Normalized parameter -5.464667449591031e-18 for feature 4, parameter 7 is out of bounds. Capping to [0, 1].\n",
      "Warning: Normalized parameter -1.5980253478820282e-19 for feature 0, parameter 7 is out of bounds. Capping to [0, 1].\n",
      "Warning: Normalized parameter -5.464667449591031e-18 for feature 4, parameter 7 is out of bounds. Capping to [0, 1].\n",
      "Warning: Normalized parameter -1.5980253478820282e-19 for feature 0, parameter 7 is out of bounds. Capping to [0, 1].\n",
      "Warning: Normalized parameter -5.464667449591031e-18 for feature 4, parameter 7 is out of bounds. Capping to [0, 1].\n",
      "Warning: Normalized parameter -1.5980253478820282e-19 for feature 0, parameter 7 is out of bounds. Capping to [0, 1].\n",
      "Warning: Normalized parameter -5.464667449591031e-18 for feature 4, parameter 7 is out of bounds. Capping to [0, 1].\n",
      "Warning: Normalized parameter -1.5980253478820282e-19 for feature 0, parameter 7 is out of bounds. Capping to [0, 1].\n",
      "Warning: Normalized parameter -5.464667449591031e-18 for feature 4, parameter 7 is out of bounds. Capping to [0, 1].\n"
     ]
    },
    {
     "data": {
      "application/vnd.jupyter.widget-view+json": {
       "model_id": "c6e87e25249e42fdb0486912b3bdaeb1",
       "version_major": 2,
       "version_minor": 0
      },
      "text/plain": [
       "  0%|          | 0/10000 [00:00<?, ?it/s]"
      ]
     },
     "metadata": {},
     "output_type": "display_data"
    },
    {
     "name": "stdout",
     "output_type": "stream",
     "text": [
      "gld_params: [0.05721276 0.0195094  0.25888824 0.11333698]\n",
      "wrapper([ 1.000e+00  2.387e-17 ...  8.667e-01  8.668e-01]) = -0.005228887823440103\n",
      "assembly_constraint_no_mean([ 1.000e+00  2.387e-17 ...  8.667e-01  8.668e-01]) = [ 2.949e-02  6.846e-01 ...  7.272e-01  2.329e-01]\n",
      "Warning: Normalized parameter -2.176556175621172e-18 for feature 4, parameter 7 is out of bounds. Capping to [0, 1].\n",
      "Warning: Normalized parameter -1.5980253478820282e-19 for feature 0, parameter 7 is out of bounds. Capping to [0, 1].\n",
      "Warning: Normalized parameter -5.464667449591031e-18 for feature 4, parameter 7 is out of bounds. Capping to [0, 1].\n",
      "Warning: Normalized parameter -2.176556175621172e-18 for feature 4, parameter 7 is out of bounds. Capping to [0, 1].\n",
      "Warning: Normalized parameter -1.5980253478820282e-19 for feature 0, parameter 7 is out of bounds. Capping to [0, 1].\n",
      "Warning: Normalized parameter -5.464667449591031e-18 for feature 4, parameter 7 is out of bounds. Capping to [0, 1].\n",
      "Warning: Normalized parameter -2.176556175621172e-18 for feature 4, parameter 7 is out of bounds. Capping to [0, 1].\n",
      "Warning: Normalized parameter -1.5980253478820282e-19 for feature 0, parameter 7 is out of bounds. Capping to [0, 1].\n",
      "Warning: Normalized parameter -5.464667449591031e-18 for feature 4, parameter 7 is out of bounds. Capping to [0, 1].\n",
      "Warning: Normalized parameter -2.176556175621172e-18 for feature 4, parameter 7 is out of bounds. Capping to [0, 1].\n",
      "Warning: Normalized parameter -1.5980253478820282e-19 for feature 0, parameter 7 is out of bounds. Capping to [0, 1].\n",
      "Warning: Normalized parameter -5.464667449591031e-18 for feature 4, parameter 7 is out of bounds. Capping to [0, 1].\n",
      "Warning: Normalized parameter -2.1765561756211724e-18 for feature 4, parameter 7 is out of bounds. Capping to [0, 1].\n"
     ]
    },
    {
     "data": {
      "application/vnd.jupyter.widget-view+json": {
       "model_id": "2cf02fde75c14a7987c5326f5b34aec6",
       "version_major": 2,
       "version_minor": 0
      },
      "text/plain": [
       "  0%|          | 0/10000 [00:00<?, ?it/s]"
      ]
     },
     "metadata": {},
     "output_type": "display_data"
    },
    {
     "name": "stdout",
     "output_type": "stream",
     "text": [
      "gld_params: [0.0572166  0.0191083  0.25395543 0.10729869]\n",
      "wrapper([ 9.656e-01  0.000e+00 ...  8.572e-01  8.570e-01]) = -0.005234404052581402\n",
      "assembly_constraint_no_mean([ 9.656e-01  0.000e+00 ...  8.572e-01  8.570e-01]) = [-3.170e-01  4.728e-01 ...  3.465e-02 -1.420e-01]\n",
      "Warning: Normalized parameter -1.5980253478820282e-19 for feature 0, parameter 7 is out of bounds. Capping to [0, 1].\n",
      "Warning: Normalized parameter -5.464667449591031e-18 for feature 4, parameter 7 is out of bounds. Capping to [0, 1].\n",
      "Warning: Normalized parameter -1.5980253478820282e-19 for feature 0, parameter 7 is out of bounds. Capping to [0, 1].\n",
      "Warning: Normalized parameter -5.464667449591031e-18 for feature 4, parameter 7 is out of bounds. Capping to [0, 1].\n",
      "Warning: Normalized parameter -2.1765561756211724e-18 for feature 4, parameter 7 is out of bounds. Capping to [0, 1].\n",
      "Warning: Normalized parameter -1.5980253478820282e-19 for feature 0, parameter 7 is out of bounds. Capping to [0, 1].\n",
      "Warning: Normalized parameter -5.464667449591031e-18 for feature 4, parameter 7 is out of bounds. Capping to [0, 1].\n"
     ]
    },
    {
     "data": {
      "application/vnd.jupyter.widget-view+json": {
       "model_id": "ca226209cfbb4f268dec3bfa69415ff3",
       "version_major": 2,
       "version_minor": 0
      },
      "text/plain": [
       "  0%|          | 0/10000 [00:00<?, ?it/s]"
      ]
     },
     "metadata": {},
     "output_type": "display_data"
    },
    {
     "name": "stdout",
     "output_type": "stream",
     "text": [
      "gld_params: [0.05700039 0.02040608 0.25062341 0.1182733 ]\n",
      "wrapper([ 1.000e+00  0.000e+00 ...  9.923e-01  9.922e-01]) = -0.0073012151925688105\n",
      "assembly_constraint_no_mean([ 1.000e+00  0.000e+00 ...  9.923e-01  9.922e-01]) = [ 1.699e-02 -2.871e-02 ...  1.227e-01  9.964e-01]\n",
      "Warning: Normalized parameter -2.268003200020254e-18 for feature 4, parameter 7 is out of bounds. Capping to [0, 1].\n",
      "Warning: Normalized parameter -1.5980253478820282e-19 for feature 0, parameter 7 is out of bounds. Capping to [0, 1].\n",
      "Warning: Normalized parameter -5.464667449591031e-18 for feature 4, parameter 7 is out of bounds. Capping to [0, 1].\n",
      "Warning: Normalized parameter -2.268003200020254e-18 for feature 4, parameter 7 is out of bounds. Capping to [0, 1].\n",
      "Warning: Normalized parameter -1.5980253478820282e-19 for feature 0, parameter 7 is out of bounds. Capping to [0, 1].\n",
      "Warning: Normalized parameter -5.464667449591031e-18 for feature 4, parameter 7 is out of bounds. Capping to [0, 1].\n",
      "Warning: Normalized parameter -2.268003200020254e-18 for feature 4, parameter 7 is out of bounds. Capping to [0, 1].\n",
      "Warning: Normalized parameter -1.5980253478820282e-19 for feature 0, parameter 7 is out of bounds. Capping to [0, 1].\n",
      "Warning: Normalized parameter -5.464667449591031e-18 for feature 4, parameter 7 is out of bounds. Capping to [0, 1].\n",
      "Warning: Normalized parameter -2.268003200020254e-18 for feature 4, parameter 7 is out of bounds. Capping to [0, 1].\n",
      "Warning: Normalized parameter -1.5980253478820282e-19 for feature 0, parameter 7 is out of bounds. Capping to [0, 1].\n",
      "Warning: Normalized parameter -5.464667449591031e-18 for feature 4, parameter 7 is out of bounds. Capping to [0, 1].\n",
      "Warning: Normalized parameter -2.1765561756211724e-18 for feature 4, parameter 7 is out of bounds. Capping to [0, 1].\n",
      "Warning: Normalized parameter -2.2680032000202545e-18 for feature 4, parameter 7 is out of bounds. Capping to [0, 1].\n",
      "Warning: Normalized parameter -1.5980253478820282e-19 for feature 0, parameter 7 is out of bounds. Capping to [0, 1].\n",
      "Warning: Normalized parameter -5.464667449591031e-18 for feature 4, parameter 7 is out of bounds. Capping to [0, 1].\n"
     ]
    },
    {
     "data": {
      "application/vnd.jupyter.widget-view+json": {
       "model_id": "ea71b248d4c24ad9a700e3ecf81f276d",
       "version_major": 2,
       "version_minor": 0
      },
      "text/plain": [
       "  0%|          | 0/10000 [00:00<?, ?it/s]"
      ]
     },
     "metadata": {},
     "output_type": "display_data"
    },
    {
     "name": "stdout",
     "output_type": "stream",
     "text": [
      "gld_params: [0.05771354 0.02008322 0.24728142 0.11778549]\n",
      "wrapper([ 9.945e-01  4.668e-03 ...  9.127e-01  9.125e-01]) = -0.006253869705611751\n",
      "assembly_constraint_no_mean([ 9.945e-01  4.668e-03 ...  9.127e-01  9.125e-01]) = [-1.974e-02 -1.061e-01 ...  2.524e-02  1.088e+00]\n",
      "Warning: Normalized parameter -1.5980253478820282e-19 for feature 0, parameter 7 is out of bounds. Capping to [0, 1].\n",
      "Warning: Normalized parameter -5.464667449591031e-18 for feature 4, parameter 7 is out of bounds. Capping to [0, 1].\n",
      "Warning: Normalized parameter -1.5980253478820282e-19 for feature 0, parameter 7 is out of bounds. Capping to [0, 1].\n",
      "Warning: Normalized parameter -5.464667449591031e-18 for feature 4, parameter 7 is out of bounds. Capping to [0, 1].\n",
      "Warning: Normalized parameter -2.1765561756211724e-18 for feature 4, parameter 7 is out of bounds. Capping to [0, 1].\n",
      "Warning: Normalized parameter -2.2680032000202545e-18 for feature 4, parameter 7 is out of bounds. Capping to [0, 1].\n",
      "Warning: Normalized parameter -1.5980253478820282e-19 for feature 0, parameter 7 is out of bounds. Capping to [0, 1].\n",
      "Warning: Normalized parameter -5.464667449591031e-18 for feature 4, parameter 7 is out of bounds. Capping to [0, 1].\n",
      "Warning: Normalized parameter -1.5980253478820282e-19 for feature 0, parameter 7 is out of bounds. Capping to [0, 1].\n",
      "Warning: Normalized parameter -5.464667449591031e-18 for feature 4, parameter 7 is out of bounds. Capping to [0, 1].\n"
     ]
    },
    {
     "data": {
      "application/vnd.jupyter.widget-view+json": {
       "model_id": "b60df58af5b84fac89da86571515f3f7",
       "version_major": 2,
       "version_minor": 0
      },
      "text/plain": [
       "  0%|          | 0/10000 [00:00<?, ?it/s]"
      ]
     },
     "metadata": {},
     "output_type": "display_data"
    },
    {
     "name": "stdout",
     "output_type": "stream",
     "text": [
      "gld_params: [0.05763732 0.02022026 0.24904481 0.12044463]\n",
      "wrapper([ 1.000e+00  0.000e+00 ...  9.068e-01  9.061e-01]) = -0.006241393493612266\n",
      "assembly_constraint_no_mean([ 1.000e+00  0.000e+00 ...  9.068e-01  9.061e-01]) = [ 1.699e-02  1.191e-01 ... -1.226e-01  2.025e-01]\n",
      "Warning: Normalized parameter -5.464667449591031e-18 for feature 4, parameter 7 is out of bounds. Capping to [0, 1].\n",
      "Warning: Normalized parameter -1.5980253478820282e-19 for feature 0, parameter 7 is out of bounds. Capping to [0, 1].\n",
      "Warning: Normalized parameter -5.464667449591031e-18 for feature 4, parameter 7 is out of bounds. Capping to [0, 1].\n",
      "Warning: Normalized parameter -5.464667449591031e-18 for feature 4, parameter 7 is out of bounds. Capping to [0, 1].\n",
      "Warning: Normalized parameter -1.5980253478820282e-19 for feature 0, parameter 7 is out of bounds. Capping to [0, 1].\n",
      "Warning: Normalized parameter -5.464667449591031e-18 for feature 4, parameter 7 is out of bounds. Capping to [0, 1].\n",
      "Warning: Normalized parameter -5.464667449591031e-18 for feature 4, parameter 7 is out of bounds. Capping to [0, 1].\n",
      "Warning: Normalized parameter -1.5980253478820282e-19 for feature 0, parameter 7 is out of bounds. Capping to [0, 1].\n",
      "Warning: Normalized parameter -5.464667449591031e-18 for feature 4, parameter 7 is out of bounds. Capping to [0, 1].\n",
      "Warning: Normalized parameter -5.464667449591031e-18 for feature 4, parameter 7 is out of bounds. Capping to [0, 1].\n",
      "Warning: Normalized parameter -1.5980253478820282e-19 for feature 0, parameter 7 is out of bounds. Capping to [0, 1].\n",
      "Warning: Normalized parameter -5.464667449591031e-18 for feature 4, parameter 7 is out of bounds. Capping to [0, 1].\n",
      "Warning: Normalized parameter -5.464667449591031e-18 for feature 4, parameter 7 is out of bounds. Capping to [0, 1].\n",
      "Warning: Normalized parameter -2.1765561756211724e-18 for feature 4, parameter 7 is out of bounds. Capping to [0, 1].\n",
      "Warning: Normalized parameter -2.2680032000202545e-18 for feature 4, parameter 7 is out of bounds. Capping to [0, 1].\n",
      "Warning: Normalized parameter -1.5980253478820282e-19 for feature 0, parameter 7 is out of bounds. Capping to [0, 1].\n",
      "Warning: Normalized parameter -5.464667449591031e-18 for feature 4, parameter 7 is out of bounds. Capping to [0, 1].\n",
      "Warning: Normalized parameter -1.5980253478820282e-19 for feature 0, parameter 7 is out of bounds. Capping to [0, 1].\n",
      "Warning: Normalized parameter -5.464667449591031e-18 for feature 4, parameter 7 is out of bounds. Capping to [0, 1].\n"
     ]
    },
    {
     "data": {
      "application/vnd.jupyter.widget-view+json": {
       "model_id": "7b76dd2084304d25bb540d053d843973",
       "version_major": 2,
       "version_minor": 0
      },
      "text/plain": [
       "  0%|          | 0/10000 [00:00<?, ?it/s]"
      ]
     },
     "metadata": {},
     "output_type": "display_data"
    },
    {
     "name": "stdout",
     "output_type": "stream",
     "text": [
      "gld_params: [0.05768327 0.02006433 0.24652377 0.11729576]\n",
      "wrapper([ 9.918e-01  1.249e-02 ...  9.363e-01  9.359e-01]) = -0.006327555662067104\n",
      "assembly_constraint_no_mean([ 9.918e-01  1.249e-02 ...  9.363e-01  9.359e-01]) = [ 2.144e-02 -5.344e-02 ... -1.843e-01  1.249e+00]\n",
      "Warning: Normalized parameter -1.5980253478820282e-19 for feature 0, parameter 7 is out of bounds. Capping to [0, 1].\n",
      "Warning: Normalized parameter -5.464667449591031e-18 for feature 4, parameter 7 is out of bounds. Capping to [0, 1].\n",
      "Warning: Normalized parameter -1.5980253478820282e-19 for feature 0, parameter 7 is out of bounds. Capping to [0, 1].\n",
      "Warning: Normalized parameter -5.464667449591031e-18 for feature 4, parameter 7 is out of bounds. Capping to [0, 1].\n",
      "Warning: Normalized parameter -5.464667449591031e-18 for feature 4, parameter 7 is out of bounds. Capping to [0, 1].\n",
      "Warning: Normalized parameter -2.1765561756211724e-18 for feature 4, parameter 7 is out of bounds. Capping to [0, 1].\n",
      "Warning: Normalized parameter -2.2680032000202545e-18 for feature 4, parameter 7 is out of bounds. Capping to [0, 1].\n",
      "Warning: Normalized parameter -1.5980253478820282e-19 for feature 0, parameter 7 is out of bounds. Capping to [0, 1].\n",
      "Warning: Normalized parameter -5.464667449591031e-18 for feature 4, parameter 7 is out of bounds. Capping to [0, 1].\n",
      "Warning: Normalized parameter -1.5980253478820282e-19 for feature 0, parameter 7 is out of bounds. Capping to [0, 1].\n",
      "Warning: Normalized parameter -5.464667449591031e-18 for feature 4, parameter 7 is out of bounds. Capping to [0, 1].\n",
      "Warning: Normalized parameter -1.5980253478820282e-19 for feature 0, parameter 7 is out of bounds. Capping to [0, 1].\n",
      "Warning: Normalized parameter -5.464667449591031e-18 for feature 4, parameter 7 is out of bounds. Capping to [0, 1].\n"
     ]
    },
    {
     "data": {
      "application/vnd.jupyter.widget-view+json": {
       "model_id": "8c55a08225874a25911e8ac3225fd5f3",
       "version_major": 2,
       "version_minor": 0
      },
      "text/plain": [
       "  0%|          | 0/10000 [00:00<?, ?it/s]"
      ]
     },
     "metadata": {},
     "output_type": "display_data"
    },
    {
     "name": "stdout",
     "output_type": "stream",
     "text": [
      "gld_params: [0.05647725 0.02025199 0.25578732 0.12020029]\n",
      "wrapper([ 1.000e+00  9.500e-19 ...  8.974e-01  8.977e-01]) = -0.006845493227846132\n",
      "assembly_constraint_no_mean([ 1.000e+00  9.500e-19 ...  8.974e-01  8.977e-01]) = [ 1.699e-02 -7.198e-01 ...  4.981e-01  3.673e-01]\n",
      "Warning: Normalized parameter -1.5980253478820282e-19 for feature 0, parameter 7 is out of bounds. Capping to [0, 1].\n",
      "Warning: Normalized parameter -5.464667449591031e-18 for feature 4, parameter 7 is out of bounds. Capping to [0, 1].\n",
      "Warning: Normalized parameter -1.5980253478820282e-19 for feature 0, parameter 7 is out of bounds. Capping to [0, 1].\n",
      "Warning: Normalized parameter -5.464667449591031e-18 for feature 4, parameter 7 is out of bounds. Capping to [0, 1].\n",
      "Warning: Normalized parameter -1.5980253478820282e-19 for feature 0, parameter 7 is out of bounds. Capping to [0, 1].\n",
      "Warning: Normalized parameter -5.464667449591031e-18 for feature 4, parameter 7 is out of bounds. Capping to [0, 1].\n",
      "Warning: Normalized parameter -1.5980253478820282e-19 for feature 0, parameter 7 is out of bounds. Capping to [0, 1].\n",
      "Warning: Normalized parameter -5.464667449591031e-18 for feature 4, parameter 7 is out of bounds. Capping to [0, 1].\n",
      "Warning: Normalized parameter -5.464667449591031e-18 for feature 4, parameter 7 is out of bounds. Capping to [0, 1].\n",
      "Warning: Normalized parameter -2.1765561756211724e-18 for feature 4, parameter 7 is out of bounds. Capping to [0, 1].\n",
      "Warning: Normalized parameter -2.2680032000202545e-18 for feature 4, parameter 7 is out of bounds. Capping to [0, 1].\n",
      "Warning: Normalized parameter -1.5980253478820282e-19 for feature 0, parameter 7 is out of bounds. Capping to [0, 1].\n",
      "Warning: Normalized parameter -5.464667449591031e-18 for feature 4, parameter 7 is out of bounds. Capping to [0, 1].\n",
      "Warning: Normalized parameter -1.5980253478820282e-19 for feature 0, parameter 7 is out of bounds. Capping to [0, 1].\n",
      "Warning: Normalized parameter -5.464667449591031e-18 for feature 4, parameter 7 is out of bounds. Capping to [0, 1].\n",
      "Warning: Normalized parameter -1.5980253478820282e-19 for feature 0, parameter 7 is out of bounds. Capping to [0, 1].\n",
      "Warning: Normalized parameter -5.464667449591031e-18 for feature 4, parameter 7 is out of bounds. Capping to [0, 1].\n"
     ]
    },
    {
     "data": {
      "application/vnd.jupyter.widget-view+json": {
       "model_id": "a2a1f4c65f314704acd3c43942277beb",
       "version_major": 2,
       "version_minor": 0
      },
      "text/plain": [
       "  0%|          | 0/10000 [00:00<?, ?it/s]"
      ]
     },
     "metadata": {},
     "output_type": "display_data"
    },
    {
     "name": "stdout",
     "output_type": "stream",
     "text": [
      "gld_params: [0.05764246 0.0198939  0.24528327 0.11420207]\n",
      "wrapper([ 9.826e-01  2.407e-35 ...  9.139e-01  9.138e-01]) = -0.006369269950019193\n",
      "assembly_constraint_no_mean([ 9.826e-01  2.407e-35 ...  9.139e-01  9.138e-01]) = [-1.462e-01  5.720e-01 ...  2.440e-01  6.111e-01]\n",
      "Warning: Normalized parameter -1.5980253478820282e-19 for feature 0, parameter 7 is out of bounds. Capping to [0, 1].\n",
      "Warning: Normalized parameter -5.464667449591031e-18 for feature 4, parameter 7 is out of bounds. Capping to [0, 1].\n",
      "Warning: Normalized parameter -1.5980253478820282e-19 for feature 0, parameter 7 is out of bounds. Capping to [0, 1].\n",
      "Warning: Normalized parameter -5.464667449591031e-18 for feature 4, parameter 7 is out of bounds. Capping to [0, 1].\n",
      "Warning: Normalized parameter -5.464667449591031e-18 for feature 4, parameter 7 is out of bounds. Capping to [0, 1].\n",
      "Warning: Normalized parameter -2.1765561756211724e-18 for feature 4, parameter 7 is out of bounds. Capping to [0, 1].\n",
      "Warning: Normalized parameter -2.2680032000202545e-18 for feature 4, parameter 7 is out of bounds. Capping to [0, 1].\n",
      "Warning: Normalized parameter -1.5980253478820282e-19 for feature 0, parameter 7 is out of bounds. Capping to [0, 1].\n",
      "Warning: Normalized parameter -5.464667449591031e-18 for feature 4, parameter 7 is out of bounds. Capping to [0, 1].\n",
      "Warning: Normalized parameter -1.5980253478820282e-19 for feature 0, parameter 7 is out of bounds. Capping to [0, 1].\n",
      "Warning: Normalized parameter -5.464667449591031e-18 for feature 4, parameter 7 is out of bounds. Capping to [0, 1].\n",
      "Warning: Normalized parameter -1.5980253478820282e-19 for feature 0, parameter 7 is out of bounds. Capping to [0, 1].\n",
      "Warning: Normalized parameter -5.464667449591031e-18 for feature 4, parameter 7 is out of bounds. Capping to [0, 1].\n",
      "Warning: Normalized parameter -1.5980253478820282e-19 for feature 0, parameter 7 is out of bounds. Capping to [0, 1].\n",
      "Warning: Normalized parameter -5.464667449591031e-18 for feature 4, parameter 7 is out of bounds. Capping to [0, 1].\n"
     ]
    },
    {
     "data": {
      "application/vnd.jupyter.widget-view+json": {
       "model_id": "f20ff484f2cd47f39d8fe83cc4e6f6db",
       "version_major": 2,
       "version_minor": 0
      },
      "text/plain": [
       "  0%|          | 0/10000 [00:00<?, ?it/s]"
      ]
     },
     "metadata": {},
     "output_type": "display_data"
    },
    {
     "name": "stdout",
     "output_type": "stream",
     "text": [
      "gld_params: [0.05695828 0.02045276 0.24972818 0.12020094]\n",
      "wrapper([ 9.916e-01  1.651e-17 ...  9.041e-01  9.029e-01]) = -0.007297276238492222\n",
      "assembly_constraint_no_mean([ 9.916e-01  1.651e-17 ...  9.041e-01  9.029e-01]) = [-6.689e-02 -1.254e-01 ...  3.617e-01  2.845e-01]\n",
      "Warning: Normalized parameter -3.988763012783674e-18 for feature 4, parameter 7 is out of bounds. Capping to [0, 1].\n",
      "Warning: Normalized parameter -1.5980253478820282e-19 for feature 0, parameter 7 is out of bounds. Capping to [0, 1].\n",
      "Warning: Normalized parameter -5.464667449591031e-18 for feature 4, parameter 7 is out of bounds. Capping to [0, 1].\n",
      "Warning: Normalized parameter -3.988763012783674e-18 for feature 4, parameter 7 is out of bounds. Capping to [0, 1].\n",
      "Warning: Normalized parameter -1.5980253478820282e-19 for feature 0, parameter 7 is out of bounds. Capping to [0, 1].\n",
      "Warning: Normalized parameter -5.464667449591031e-18 for feature 4, parameter 7 is out of bounds. Capping to [0, 1].\n",
      "Warning: Normalized parameter -3.988763012783674e-18 for feature 4, parameter 7 is out of bounds. Capping to [0, 1].\n",
      "Warning: Normalized parameter -1.5980253478820282e-19 for feature 0, parameter 7 is out of bounds. Capping to [0, 1].\n",
      "Warning: Normalized parameter -5.464667449591031e-18 for feature 4, parameter 7 is out of bounds. Capping to [0, 1].\n",
      "Warning: Normalized parameter -3.988763012783674e-18 for feature 4, parameter 7 is out of bounds. Capping to [0, 1].\n",
      "Warning: Normalized parameter -1.5980253478820282e-19 for feature 0, parameter 7 is out of bounds. Capping to [0, 1].\n",
      "Warning: Normalized parameter -5.464667449591031e-18 for feature 4, parameter 7 is out of bounds. Capping to [0, 1].\n",
      "Warning: Normalized parameter -5.464667449591031e-18 for feature 4, parameter 7 is out of bounds. Capping to [0, 1].\n",
      "Warning: Normalized parameter -3.988763012783674e-18 for feature 4, parameter 7 is out of bounds. Capping to [0, 1].\n",
      "Warning: Normalized parameter -2.1765561756211724e-18 for feature 4, parameter 7 is out of bounds. Capping to [0, 1].\n",
      "Warning: Normalized parameter -2.2680032000202545e-18 for feature 4, parameter 7 is out of bounds. Capping to [0, 1].\n",
      "Warning: Normalized parameter -1.5980253478820282e-19 for feature 0, parameter 7 is out of bounds. Capping to [0, 1].\n",
      "Warning: Normalized parameter -5.464667449591031e-18 for feature 4, parameter 7 is out of bounds. Capping to [0, 1].\n",
      "Warning: Normalized parameter -1.5980253478820282e-19 for feature 0, parameter 7 is out of bounds. Capping to [0, 1].\n",
      "Warning: Normalized parameter -5.464667449591031e-18 for feature 4, parameter 7 is out of bounds. Capping to [0, 1].\n",
      "Warning: Normalized parameter -1.5980253478820282e-19 for feature 0, parameter 7 is out of bounds. Capping to [0, 1].\n",
      "Warning: Normalized parameter -5.464667449591031e-18 for feature 4, parameter 7 is out of bounds. Capping to [0, 1].\n",
      "Warning: Normalized parameter -1.5980253478820282e-19 for feature 0, parameter 7 is out of bounds. Capping to [0, 1].\n",
      "Warning: Normalized parameter -5.464667449591031e-18 for feature 4, parameter 7 is out of bounds. Capping to [0, 1].\n"
     ]
    },
    {
     "data": {
      "application/vnd.jupyter.widget-view+json": {
       "model_id": "80273edaa9c34781a5a7a4fc33d422b9",
       "version_major": 2,
       "version_minor": 0
      },
      "text/plain": [
       "  0%|          | 0/10000 [00:00<?, ?it/s]"
      ]
     },
     "metadata": {},
     "output_type": "display_data"
    },
    {
     "name": "stdout",
     "output_type": "stream",
     "text": [
      "gld_params: [0.05568335 0.02063789 0.25588801 0.11587309]\n",
      "wrapper([ 1.000e+00  1.039e-17 ...  9.295e-01  9.276e-01]) = -0.009018328288479703\n",
      "assembly_constraint_no_mean([ 1.000e+00  1.039e-17 ...  9.295e-01  9.276e-01]) = [ 1.699e-02 -1.705e-01 ...  5.983e-01  2.558e-01]\n",
      "Warning: Normalized parameter -3.988763012783674e-18 for feature 4, parameter 7 is out of bounds. Capping to [0, 1].\n",
      "Warning: Normalized parameter -3.988763012783674e-18 for feature 4, parameter 7 is out of bounds. Capping to [0, 1].\n",
      "Warning: Normalized parameter -3.988763012783674e-18 for feature 4, parameter 7 is out of bounds. Capping to [0, 1].\n",
      "Warning: Normalized parameter -3.988763012783674e-18 for feature 4, parameter 7 is out of bounds. Capping to [0, 1].\n",
      "Warning: Normalized parameter -1.5980253478820282e-19 for feature 0, parameter 7 is out of bounds. Capping to [0, 1].\n",
      "Warning: Normalized parameter -5.464667449591031e-18 for feature 4, parameter 7 is out of bounds. Capping to [0, 1].\n",
      "Warning: Normalized parameter -5.464667449591031e-18 for feature 4, parameter 7 is out of bounds. Capping to [0, 1].\n",
      "Warning: Normalized parameter -2.1765561756211724e-18 for feature 4, parameter 7 is out of bounds. Capping to [0, 1].\n",
      "Warning: Normalized parameter -2.2680032000202545e-18 for feature 4, parameter 7 is out of bounds. Capping to [0, 1].\n",
      "Warning: Normalized parameter -1.5980253478820282e-19 for feature 0, parameter 7 is out of bounds. Capping to [0, 1].\n",
      "Warning: Normalized parameter -5.464667449591031e-18 for feature 4, parameter 7 is out of bounds. Capping to [0, 1].\n",
      "Warning: Normalized parameter -1.5980253478820282e-19 for feature 0, parameter 7 is out of bounds. Capping to [0, 1].\n",
      "Warning: Normalized parameter -5.464667449591031e-18 for feature 4, parameter 7 is out of bounds. Capping to [0, 1].\n",
      "Warning: Normalized parameter -1.5980253478820282e-19 for feature 0, parameter 7 is out of bounds. Capping to [0, 1].\n",
      "Warning: Normalized parameter -5.464667449591031e-18 for feature 4, parameter 7 is out of bounds. Capping to [0, 1].\n",
      "Warning: Normalized parameter -1.5980253478820282e-19 for feature 0, parameter 7 is out of bounds. Capping to [0, 1].\n",
      "Warning: Normalized parameter -5.464667449591031e-18 for feature 4, parameter 7 is out of bounds. Capping to [0, 1].\n"
     ]
    },
    {
     "data": {
      "application/vnd.jupyter.widget-view+json": {
       "model_id": "dacead60e33643b7998bdc0a2d70e734",
       "version_major": 2,
       "version_minor": 0
      },
      "text/plain": [
       "  0%|          | 0/10000 [00:00<?, ?it/s]"
      ]
     },
     "metadata": {},
     "output_type": "display_data"
    },
    {
     "name": "stdout",
     "output_type": "stream",
     "text": [
      "gld_params: [0.05712071 0.02070429 0.24839342 0.1229922 ]\n",
      "wrapper([ 1.000e+00  6.022e-04 ...  9.060e-01  9.043e-01]) = -0.00754477445076021\n",
      "assembly_constraint_no_mean([ 1.000e+00  6.022e-04 ...  9.060e-01  9.043e-01]) = [ 1.664e-02 -2.155e-01 ...  4.897e-01  1.654e-01]\n",
      "Warning: Normalized parameter -3.988763012783674e-18 for feature 4, parameter 7 is out of bounds. Capping to [0, 1].\n",
      "Warning: Normalized parameter -3.988763012783674e-18 for feature 4, parameter 7 is out of bounds. Capping to [0, 1].\n",
      "Warning: Normalized parameter -1.5980253478820282e-19 for feature 0, parameter 7 is out of bounds. Capping to [0, 1].\n",
      "Warning: Normalized parameter -5.464667449591031e-18 for feature 4, parameter 7 is out of bounds. Capping to [0, 1].\n",
      "Warning: Normalized parameter -5.464667449591031e-18 for feature 4, parameter 7 is out of bounds. Capping to [0, 1].\n",
      "Warning: Normalized parameter -2.1765561756211724e-18 for feature 4, parameter 7 is out of bounds. Capping to [0, 1].\n",
      "Warning: Normalized parameter -2.2680032000202545e-18 for feature 4, parameter 7 is out of bounds. Capping to [0, 1].\n",
      "Warning: Normalized parameter -1.5980253478820282e-19 for feature 0, parameter 7 is out of bounds. Capping to [0, 1].\n",
      "Warning: Normalized parameter -5.464667449591031e-18 for feature 4, parameter 7 is out of bounds. Capping to [0, 1].\n",
      "Warning: Normalized parameter -1.5980253478820282e-19 for feature 0, parameter 7 is out of bounds. Capping to [0, 1].\n",
      "Warning: Normalized parameter -5.464667449591031e-18 for feature 4, parameter 7 is out of bounds. Capping to [0, 1].\n",
      "Warning: Normalized parameter -3.988763012783674e-18 for feature 4, parameter 7 is out of bounds. Capping to [0, 1].\n",
      "Warning: Normalized parameter -1.5980253478820282e-19 for feature 0, parameter 7 is out of bounds. Capping to [0, 1].\n",
      "Warning: Normalized parameter -5.464667449591031e-18 for feature 4, parameter 7 is out of bounds. Capping to [0, 1].\n",
      "Warning: Normalized parameter -1.5980253478820282e-19 for feature 0, parameter 7 is out of bounds. Capping to [0, 1].\n",
      "Warning: Normalized parameter -5.464667449591031e-18 for feature 4, parameter 7 is out of bounds. Capping to [0, 1].\n"
     ]
    },
    {
     "data": {
      "application/vnd.jupyter.widget-view+json": {
       "model_id": "8924161737e24d7f8c76c6247803501a",
       "version_major": 2,
       "version_minor": 0
      },
      "text/plain": [
       "  0%|          | 0/10000 [00:00<?, ?it/s]"
      ]
     },
     "metadata": {},
     "output_type": "display_data"
    },
    {
     "name": "stdout",
     "output_type": "stream",
     "text": [
      "gld_params: [0.05628481 0.02071059 0.2551631  0.12248852]\n",
      "wrapper([ 9.904e-01  2.266e-17 ...  9.053e-01  9.027e-01]) = -0.00790555434155763\n",
      "assembly_constraint_no_mean([ 9.904e-01  2.266e-17 ...  9.053e-01  9.027e-01]) = [-7.870e-02 -1.374e-01 ...  3.640e-01  1.098e-01]\n",
      "Warning: Normalized parameter -1.5606547310342453e-18 for feature 4, parameter 7 is out of bounds. Capping to [0, 1].\n",
      "Warning: Normalized parameter -3.988763012783674e-18 for feature 4, parameter 7 is out of bounds. Capping to [0, 1].\n",
      "Warning: Normalized parameter -1.5606547310342453e-18 for feature 4, parameter 7 is out of bounds. Capping to [0, 1].\n",
      "Warning: Normalized parameter -3.988763012783674e-18 for feature 4, parameter 7 is out of bounds. Capping to [0, 1].\n",
      "Warning: Normalized parameter -1.5606547310342453e-18 for feature 4, parameter 7 is out of bounds. Capping to [0, 1].\n",
      "Warning: Normalized parameter -3.988763012783674e-18 for feature 4, parameter 7 is out of bounds. Capping to [0, 1].\n",
      "Warning: Normalized parameter -1.5606547310342453e-18 for feature 4, parameter 7 is out of bounds. Capping to [0, 1].\n",
      "Warning: Normalized parameter -3.988763012783674e-18 for feature 4, parameter 7 is out of bounds. Capping to [0, 1].\n",
      "Warning: Normalized parameter -1.5980253478820282e-19 for feature 0, parameter 7 is out of bounds. Capping to [0, 1].\n",
      "Warning: Normalized parameter -5.464667449591031e-18 for feature 4, parameter 7 is out of bounds. Capping to [0, 1].\n",
      "Warning: Normalized parameter -5.464667449591031e-18 for feature 4, parameter 7 is out of bounds. Capping to [0, 1].\n",
      "Warning: Normalized parameter -1.5606547310342445e-18 for feature 4, parameter 7 is out of bounds. Capping to [0, 1].\n",
      "Warning: Normalized parameter -2.1765561756211724e-18 for feature 4, parameter 7 is out of bounds. Capping to [0, 1].\n",
      "Warning: Normalized parameter -2.2680032000202545e-18 for feature 4, parameter 7 is out of bounds. Capping to [0, 1].\n",
      "Warning: Normalized parameter -1.5980253478820282e-19 for feature 0, parameter 7 is out of bounds. Capping to [0, 1].\n",
      "Warning: Normalized parameter -5.464667449591031e-18 for feature 4, parameter 7 is out of bounds. Capping to [0, 1].\n",
      "Warning: Normalized parameter -1.5980253478820282e-19 for feature 0, parameter 7 is out of bounds. Capping to [0, 1].\n",
      "Warning: Normalized parameter -5.464667449591031e-18 for feature 4, parameter 7 is out of bounds. Capping to [0, 1].\n",
      "Warning: Normalized parameter -3.988763012783674e-18 for feature 4, parameter 7 is out of bounds. Capping to [0, 1].\n",
      "Warning: Normalized parameter -1.5980253478820282e-19 for feature 0, parameter 7 is out of bounds. Capping to [0, 1].\n",
      "Warning: Normalized parameter -5.464667449591031e-18 for feature 4, parameter 7 is out of bounds. Capping to [0, 1].\n",
      "Warning: Normalized parameter -1.5980253478820282e-19 for feature 0, parameter 7 is out of bounds. Capping to [0, 1].\n",
      "Warning: Normalized parameter -5.464667449591031e-18 for feature 4, parameter 7 is out of bounds. Capping to [0, 1].\n"
     ]
    },
    {
     "data": {
      "application/vnd.jupyter.widget-view+json": {
       "model_id": "f181a8e981a3490894c71f761e2a32a7",
       "version_major": 2,
       "version_minor": 0
      },
      "text/plain": [
       "  0%|          | 0/10000 [00:00<?, ?it/s]"
      ]
     },
     "metadata": {},
     "output_type": "display_data"
    },
    {
     "name": "stdout",
     "output_type": "stream",
     "text": [
      "gld_params: [0.05463943 0.02049077 0.27093272 0.1223331 ]\n",
      "wrapper([ 9.946e-01  1.950e-17 ...  9.029e-01  9.104e-01]) = -0.007795235918133679\n",
      "assembly_constraint_no_mean([ 9.946e-01  1.950e-17 ...  9.029e-01  9.104e-01]) = [-3.723e-02  3.644e-01 ... -1.118e-01  5.944e-02]\n",
      "Warning: Normalized parameter -1.5606547310342445e-18 for feature 4, parameter 7 is out of bounds. Capping to [0, 1].\n",
      "Warning: Normalized parameter -1.5606547310342445e-18 for feature 4, parameter 7 is out of bounds. Capping to [0, 1].\n",
      "Warning: Normalized parameter -1.5606547310342445e-18 for feature 4, parameter 7 is out of bounds. Capping to [0, 1].\n",
      "Warning: Normalized parameter -1.5606547310342445e-18 for feature 4, parameter 7 is out of bounds. Capping to [0, 1].\n",
      "Warning: Normalized parameter -1.5980253478820282e-19 for feature 0, parameter 7 is out of bounds. Capping to [0, 1].\n",
      "Warning: Normalized parameter -5.464667449591031e-18 for feature 4, parameter 7 is out of bounds. Capping to [0, 1].\n",
      "Warning: Normalized parameter -5.464667449591031e-18 for feature 4, parameter 7 is out of bounds. Capping to [0, 1].\n",
      "Warning: Normalized parameter -3.988763012783674e-18 for feature 4, parameter 7 is out of bounds. Capping to [0, 1].\n",
      "Warning: Normalized parameter -2.1765561756211724e-18 for feature 4, parameter 7 is out of bounds. Capping to [0, 1].\n",
      "Warning: Normalized parameter -2.2680032000202545e-18 for feature 4, parameter 7 is out of bounds. Capping to [0, 1].\n",
      "Warning: Normalized parameter -1.5980253478820282e-19 for feature 0, parameter 7 is out of bounds. Capping to [0, 1].\n",
      "Warning: Normalized parameter -5.464667449591031e-18 for feature 4, parameter 7 is out of bounds. Capping to [0, 1].\n",
      "Warning: Normalized parameter -1.5980253478820282e-19 for feature 0, parameter 7 is out of bounds. Capping to [0, 1].\n",
      "Warning: Normalized parameter -5.464667449591031e-18 for feature 4, parameter 7 is out of bounds. Capping to [0, 1].\n",
      "Warning: Normalized parameter -3.988763012783674e-18 for feature 4, parameter 7 is out of bounds. Capping to [0, 1].\n",
      "Warning: Normalized parameter -1.5980253478820282e-19 for feature 0, parameter 7 is out of bounds. Capping to [0, 1].\n",
      "Warning: Normalized parameter -5.464667449591031e-18 for feature 4, parameter 7 is out of bounds. Capping to [0, 1].\n",
      "Warning: Normalized parameter -1.5980253478820282e-19 for feature 0, parameter 7 is out of bounds. Capping to [0, 1].\n",
      "Warning: Normalized parameter -5.464667449591031e-18 for feature 4, parameter 7 is out of bounds. Capping to [0, 1].\n"
     ]
    },
    {
     "data": {
      "application/vnd.jupyter.widget-view+json": {
       "model_id": "289f0309991743b5aa1d6b147fbe9231",
       "version_major": 2,
       "version_minor": 0
      },
      "text/plain": [
       "  0%|          | 0/10000 [00:00<?, ?it/s]"
      ]
     },
     "metadata": {},
     "output_type": "display_data"
    },
    {
     "name": "stdout",
     "output_type": "stream",
     "text": [
      "gld_params: [0.05653729 0.02095766 0.25423769 0.12602947]\n",
      "wrapper([ 1.000e+00  6.163e-33 ...  9.034e-01  9.119e-01]) = -0.007953389026758594\n",
      "assembly_constraint_no_mean([ 1.000e+00  6.163e-33 ...  9.034e-01  9.119e-01]) = [ 1.699e-02 -2.859e-01 ...  4.696e-01  1.228e-02]\n",
      "Warning: Normalized parameter -1.5606547310342445e-18 for feature 4, parameter 7 is out of bounds. Capping to [0, 1].\n",
      "Warning: Normalized parameter -1.5606547310342445e-18 for feature 4, parameter 7 is out of bounds. Capping to [0, 1].\n",
      "Warning: Normalized parameter -1.5980253478820282e-19 for feature 0, parameter 7 is out of bounds. Capping to [0, 1].\n",
      "Warning: Normalized parameter -5.464667449591031e-18 for feature 4, parameter 7 is out of bounds. Capping to [0, 1].\n",
      "Warning: Normalized parameter -5.464667449591031e-18 for feature 4, parameter 7 is out of bounds. Capping to [0, 1].\n",
      "Warning: Normalized parameter -3.988763012783674e-18 for feature 4, parameter 7 is out of bounds. Capping to [0, 1].\n",
      "Warning: Normalized parameter -2.1765561756211724e-18 for feature 4, parameter 7 is out of bounds. Capping to [0, 1].\n",
      "Warning: Normalized parameter -2.2680032000202545e-18 for feature 4, parameter 7 is out of bounds. Capping to [0, 1].\n",
      "Warning: Normalized parameter -1.5980253478820282e-19 for feature 0, parameter 7 is out of bounds. Capping to [0, 1].\n",
      "Warning: Normalized parameter -5.464667449591031e-18 for feature 4, parameter 7 is out of bounds. Capping to [0, 1].\n",
      "Warning: Normalized parameter -1.5980253478820282e-19 for feature 0, parameter 7 is out of bounds. Capping to [0, 1].\n",
      "Warning: Normalized parameter -5.464667449591031e-18 for feature 4, parameter 7 is out of bounds. Capping to [0, 1].\n",
      "Warning: Normalized parameter -3.988763012783674e-18 for feature 4, parameter 7 is out of bounds. Capping to [0, 1].\n",
      "Warning: Normalized parameter -1.5606547310342445e-18 for feature 4, parameter 7 is out of bounds. Capping to [0, 1].\n",
      "Warning: Normalized parameter -1.5980253478820282e-19 for feature 0, parameter 7 is out of bounds. Capping to [0, 1].\n",
      "Warning: Normalized parameter -5.464667449591031e-18 for feature 4, parameter 7 is out of bounds. Capping to [0, 1].\n",
      "Warning: Normalized parameter -1.5980253478820282e-19 for feature 0, parameter 7 is out of bounds. Capping to [0, 1].\n",
      "Warning: Normalized parameter -5.464667449591031e-18 for feature 4, parameter 7 is out of bounds. Capping to [0, 1].\n"
     ]
    },
    {
     "data": {
      "application/vnd.jupyter.widget-view+json": {
       "model_id": "f22404ec0e0e4a6b905efb52425d9bc9",
       "version_major": 2,
       "version_minor": 0
      },
      "text/plain": [
       "  0%|          | 0/10000 [00:00<?, ?it/s]"
      ]
     },
     "metadata": {},
     "output_type": "display_data"
    },
    {
     "name": "stdout",
     "output_type": "stream",
     "text": [
      "gld_params: [0.05593979 0.02082041 0.25820511 0.12339117]\n",
      "wrapper([ 9.944e-01  1.132e-19 ...  9.270e-01  9.220e-01]) = -0.00818817647750066\n",
      "assembly_constraint_no_mean([ 9.944e-01  1.132e-19 ...  9.270e-01  9.220e-01]) = [-3.954e-02 -3.648e-01 ...  2.254e-01  1.492e-01]\n",
      "Warning: Normalized parameter -1.5606547310342445e-18 for feature 4, parameter 7 is out of bounds. Capping to [0, 1].\n",
      "Warning: Normalized parameter -1.5606547310342445e-18 for feature 4, parameter 7 is out of bounds. Capping to [0, 1].\n",
      "Warning: Normalized parameter -1.5606547310342445e-18 for feature 4, parameter 7 is out of bounds. Capping to [0, 1].\n",
      "Warning: Normalized parameter -1.5606547310342445e-18 for feature 4, parameter 7 is out of bounds. Capping to [0, 1].\n",
      "Warning: Normalized parameter -1.5980253478820282e-19 for feature 0, parameter 7 is out of bounds. Capping to [0, 1].\n",
      "Warning: Normalized parameter -5.464667449591031e-18 for feature 4, parameter 7 is out of bounds. Capping to [0, 1].\n",
      "Warning: Normalized parameter -5.464667449591031e-18 for feature 4, parameter 7 is out of bounds. Capping to [0, 1].\n",
      "Warning: Normalized parameter -3.988763012783674e-18 for feature 4, parameter 7 is out of bounds. Capping to [0, 1].\n",
      "Warning: Normalized parameter -2.1765561756211724e-18 for feature 4, parameter 7 is out of bounds. Capping to [0, 1].\n",
      "Warning: Normalized parameter -2.2680032000202545e-18 for feature 4, parameter 7 is out of bounds. Capping to [0, 1].\n",
      "Warning: Normalized parameter -1.5980253478820282e-19 for feature 0, parameter 7 is out of bounds. Capping to [0, 1].\n",
      "Warning: Normalized parameter -5.464667449591031e-18 for feature 4, parameter 7 is out of bounds. Capping to [0, 1].\n",
      "Warning: Normalized parameter -1.5980253478820282e-19 for feature 0, parameter 7 is out of bounds. Capping to [0, 1].\n",
      "Warning: Normalized parameter -5.464667449591031e-18 for feature 4, parameter 7 is out of bounds. Capping to [0, 1].\n",
      "Warning: Normalized parameter -3.988763012783674e-18 for feature 4, parameter 7 is out of bounds. Capping to [0, 1].\n",
      "Warning: Normalized parameter -1.5606547310342445e-18 for feature 4, parameter 7 is out of bounds. Capping to [0, 1].\n",
      "Warning: Normalized parameter -1.5980253478820282e-19 for feature 0, parameter 7 is out of bounds. Capping to [0, 1].\n",
      "Warning: Normalized parameter -5.464667449591031e-18 for feature 4, parameter 7 is out of bounds. Capping to [0, 1].\n",
      "Warning: Normalized parameter -1.5980253478820282e-19 for feature 0, parameter 7 is out of bounds. Capping to [0, 1].\n",
      "Warning: Normalized parameter -5.464667449591031e-18 for feature 4, parameter 7 is out of bounds. Capping to [0, 1].\n"
     ]
    },
    {
     "data": {
      "application/vnd.jupyter.widget-view+json": {
       "model_id": "ab2ceeb255ca4ad6ae9a13baf7afb0bb",
       "version_major": 2,
       "version_minor": 0
      },
      "text/plain": [
       "  0%|          | 0/10000 [00:00<?, ?it/s]"
      ]
     },
     "metadata": {},
     "output_type": "display_data"
    },
    {
     "name": "stdout",
     "output_type": "stream",
     "text": [
      "gld_params: [0.05574415 0.02116682 0.25690444 0.12806551]\n",
      "wrapper([ 1.000e+00  0.000e+00 ...  9.616e-01  9.472e-01]) = -0.008835442324296951\n",
      "assembly_constraint_no_mean([ 1.000e+00  0.000e+00 ...  9.616e-01  9.472e-01]) = [ 1.699e-02 -2.029e-01 ...  2.225e-01  6.899e-01]\n",
      "Warning: Normalized parameter -1.5606547310342445e-18 for feature 4, parameter 7 is out of bounds. Capping to [0, 1].\n",
      "Warning: Normalized parameter -1.5606547310342445e-18 for feature 4, parameter 7 is out of bounds. Capping to [0, 1].\n",
      "Warning: Normalized parameter -1.5980253478820282e-19 for feature 0, parameter 7 is out of bounds. Capping to [0, 1].\n",
      "Warning: Normalized parameter -5.464667449591031e-18 for feature 4, parameter 7 is out of bounds. Capping to [0, 1].\n",
      "Warning: Normalized parameter -5.464667449591031e-18 for feature 4, parameter 7 is out of bounds. Capping to [0, 1].\n",
      "Warning: Normalized parameter -3.988763012783674e-18 for feature 4, parameter 7 is out of bounds. Capping to [0, 1].\n",
      "Warning: Normalized parameter -2.1765561756211724e-18 for feature 4, parameter 7 is out of bounds. Capping to [0, 1].\n",
      "Warning: Normalized parameter -2.2680032000202545e-18 for feature 4, parameter 7 is out of bounds. Capping to [0, 1].\n",
      "Warning: Normalized parameter -1.5980253478820282e-19 for feature 0, parameter 7 is out of bounds. Capping to [0, 1].\n",
      "Warning: Normalized parameter -5.464667449591031e-18 for feature 4, parameter 7 is out of bounds. Capping to [0, 1].\n",
      "Warning: Normalized parameter -1.5980253478820282e-19 for feature 0, parameter 7 is out of bounds. Capping to [0, 1].\n",
      "Warning: Normalized parameter -5.464667449591031e-18 for feature 4, parameter 7 is out of bounds. Capping to [0, 1].\n",
      "Warning: Normalized parameter -3.988763012783674e-18 for feature 4, parameter 7 is out of bounds. Capping to [0, 1].\n",
      "Warning: Normalized parameter -1.5606547310342445e-18 for feature 4, parameter 7 is out of bounds. Capping to [0, 1].\n",
      "Warning: Normalized parameter -1.5606547310342445e-18 for feature 4, parameter 7 is out of bounds. Capping to [0, 1].\n",
      "Warning: Normalized parameter -1.5980253478820282e-19 for feature 0, parameter 7 is out of bounds. Capping to [0, 1].\n",
      "Warning: Normalized parameter -5.464667449591031e-18 for feature 4, parameter 7 is out of bounds. Capping to [0, 1].\n",
      "Warning: Normalized parameter -1.5980253478820282e-19 for feature 0, parameter 7 is out of bounds. Capping to [0, 1].\n",
      "Warning: Normalized parameter -5.464667449591031e-18 for feature 4, parameter 7 is out of bounds. Capping to [0, 1].\n"
     ]
    },
    {
     "data": {
      "application/vnd.jupyter.widget-view+json": {
       "model_id": "c94defc8c1964245ae0e71fdc20de47f",
       "version_major": 2,
       "version_minor": 0
      },
      "text/plain": [
       "  0%|          | 0/10000 [00:00<?, ?it/s]"
      ]
     },
     "metadata": {},
     "output_type": "display_data"
    },
    {
     "name": "stdout",
     "output_type": "stream",
     "text": [
      "gld_params: [0.05558685 0.02031563 0.261447   0.11375973]\n",
      "wrapper([ 1.000e+00  1.139e-17 ...  9.055e-01  8.930e-01]) = -0.00810461359059383\n",
      "assembly_constraint_no_mean([ 1.000e+00  1.139e-17 ...  9.055e-01  8.930e-01]) = [ 1.699e-02  1.795e-01 ...  6.120e-01  1.487e-02]\n",
      "Warning: Normalized parameter -1.5606547310342445e-18 for feature 4, parameter 7 is out of bounds. Capping to [0, 1].\n",
      "Warning: Normalized parameter -1.5606547310342445e-18 for feature 4, parameter 7 is out of bounds. Capping to [0, 1].\n",
      "Warning: Normalized parameter -1.5606547310342445e-18 for feature 4, parameter 7 is out of bounds. Capping to [0, 1].\n",
      "Warning: Normalized parameter -1.5606547310342445e-18 for feature 4, parameter 7 is out of bounds. Capping to [0, 1].\n",
      "Warning: Normalized parameter -1.5980253478820282e-19 for feature 0, parameter 7 is out of bounds. Capping to [0, 1].\n",
      "Warning: Normalized parameter -5.464667449591031e-18 for feature 4, parameter 7 is out of bounds. Capping to [0, 1].\n",
      "Warning: Normalized parameter -5.464667449591031e-18 for feature 4, parameter 7 is out of bounds. Capping to [0, 1].\n",
      "Warning: Normalized parameter -3.988763012783674e-18 for feature 4, parameter 7 is out of bounds. Capping to [0, 1].\n",
      "Warning: Normalized parameter -2.1765561756211724e-18 for feature 4, parameter 7 is out of bounds. Capping to [0, 1].\n",
      "Warning: Normalized parameter -2.2680032000202545e-18 for feature 4, parameter 7 is out of bounds. Capping to [0, 1].\n",
      "Warning: Normalized parameter -1.5980253478820282e-19 for feature 0, parameter 7 is out of bounds. Capping to [0, 1].\n",
      "Warning: Normalized parameter -5.464667449591031e-18 for feature 4, parameter 7 is out of bounds. Capping to [0, 1].\n",
      "Warning: Normalized parameter -1.5980253478820282e-19 for feature 0, parameter 7 is out of bounds. Capping to [0, 1].\n",
      "Warning: Normalized parameter -5.464667449591031e-18 for feature 4, parameter 7 is out of bounds. Capping to [0, 1].\n",
      "Warning: Normalized parameter -3.988763012783674e-18 for feature 4, parameter 7 is out of bounds. Capping to [0, 1].\n",
      "Warning: Normalized parameter -1.5606547310342445e-18 for feature 4, parameter 7 is out of bounds. Capping to [0, 1].\n",
      "Warning: Normalized parameter -1.5606547310342445e-18 for feature 4, parameter 7 is out of bounds. Capping to [0, 1].\n",
      "Warning: Normalized parameter -1.5980253478820282e-19 for feature 0, parameter 7 is out of bounds. Capping to [0, 1].\n",
      "Warning: Normalized parameter -5.464667449591031e-18 for feature 4, parameter 7 is out of bounds. Capping to [0, 1].\n",
      "Warning: Normalized parameter -1.5980253478820282e-19 for feature 0, parameter 7 is out of bounds. Capping to [0, 1].\n",
      "Warning: Normalized parameter -5.464667449591031e-18 for feature 4, parameter 7 is out of bounds. Capping to [0, 1].\n"
     ]
    },
    {
     "data": {
      "application/vnd.jupyter.widget-view+json": {
       "model_id": "ef021a7da5974b409be09d92bc849313",
       "version_major": 2,
       "version_minor": 0
      },
      "text/plain": [
       "  0%|          | 0/10000 [00:00<?, ?it/s]"
      ]
     },
     "metadata": {},
     "output_type": "display_data"
    },
    {
     "name": "stdout",
     "output_type": "stream",
     "text": [
      "gld_params: [0.05637434 0.02041068 0.25561499 0.11899093]\n",
      "wrapper([ 1.000e+00  3.849e-02 ...  9.174e-01  9.388e-01]) = -0.00744654916738975\n",
      "assembly_constraint_no_mean([ 1.000e+00  3.849e-02 ...  9.174e-01  9.388e-01]) = [-6.868e-03  7.942e-02 ... -4.293e-01  3.903e-01]\n",
      "Warning: Normalized parameter -1.5606547310342445e-18 for feature 4, parameter 7 is out of bounds. Capping to [0, 1].\n",
      "Warning: Normalized parameter -1.5606547310342445e-18 for feature 4, parameter 7 is out of bounds. Capping to [0, 1].\n",
      "Warning: Normalized parameter -1.5980253478820282e-19 for feature 0, parameter 7 is out of bounds. Capping to [0, 1].\n",
      "Warning: Normalized parameter -5.464667449591031e-18 for feature 4, parameter 7 is out of bounds. Capping to [0, 1].\n",
      "Warning: Normalized parameter -5.464667449591031e-18 for feature 4, parameter 7 is out of bounds. Capping to [0, 1].\n",
      "Warning: Normalized parameter -3.988763012783674e-18 for feature 4, parameter 7 is out of bounds. Capping to [0, 1].\n",
      "Warning: Normalized parameter -2.1765561756211724e-18 for feature 4, parameter 7 is out of bounds. Capping to [0, 1].\n",
      "Warning: Normalized parameter -2.2680032000202545e-18 for feature 4, parameter 7 is out of bounds. Capping to [0, 1].\n",
      "Warning: Normalized parameter -1.5980253478820282e-19 for feature 0, parameter 7 is out of bounds. Capping to [0, 1].\n",
      "Warning: Normalized parameter -5.464667449591031e-18 for feature 4, parameter 7 is out of bounds. Capping to [0, 1].\n",
      "Warning: Normalized parameter -1.5980253478820282e-19 for feature 0, parameter 7 is out of bounds. Capping to [0, 1].\n",
      "Warning: Normalized parameter -5.464667449591031e-18 for feature 4, parameter 7 is out of bounds. Capping to [0, 1].\n",
      "Warning: Normalized parameter -3.988763012783674e-18 for feature 4, parameter 7 is out of bounds. Capping to [0, 1].\n",
      "Warning: Normalized parameter -1.5606547310342445e-18 for feature 4, parameter 7 is out of bounds. Capping to [0, 1].\n",
      "Warning: Normalized parameter -1.5606547310342445e-18 for feature 4, parameter 7 is out of bounds. Capping to [0, 1].\n",
      "Warning: Normalized parameter -1.5606547310342445e-18 for feature 4, parameter 7 is out of bounds. Capping to [0, 1].\n",
      "Warning: Normalized parameter -1.5980253478820282e-19 for feature 0, parameter 7 is out of bounds. Capping to [0, 1].\n",
      "Warning: Normalized parameter -5.464667449591031e-18 for feature 4, parameter 7 is out of bounds. Capping to [0, 1].\n",
      "Warning: Normalized parameter -1.5980253478820282e-19 for feature 0, parameter 7 is out of bounds. Capping to [0, 1].\n",
      "Warning: Normalized parameter -5.464667449591031e-18 for feature 4, parameter 7 is out of bounds. Capping to [0, 1].\n"
     ]
    },
    {
     "data": {
      "application/vnd.jupyter.widget-view+json": {
       "model_id": "cab6b3d2132e4ce68b9ac8c76681cb40",
       "version_major": 2,
       "version_minor": 0
      },
      "text/plain": [
       "  0%|          | 0/10000 [00:00<?, ?it/s]"
      ]
     },
     "metadata": {},
     "output_type": "display_data"
    },
    {
     "name": "stdout",
     "output_type": "stream",
     "text": [
      "gld_params: [0.05583297 0.02083122 0.25799095 0.12509917]\n",
      "wrapper([ 9.974e-01  1.414e-18 ...  8.168e-01  1.000e+00]) = -0.008136404471737569\n",
      "assembly_constraint_no_mean([ 9.974e-01  1.414e-18 ...  8.168e-01  1.000e+00]) = [-8.602e-03  7.483e-02 ... -4.702e-02  2.083e-01]\n",
      "Warning: Normalized parameter -1.5606547310342445e-18 for feature 4, parameter 7 is out of bounds. Capping to [0, 1].\n",
      "Warning: Normalized parameter -1.5606547310342445e-18 for feature 4, parameter 7 is out of bounds. Capping to [0, 1].\n",
      "Warning: Normalized parameter -1.5606547310342445e-18 for feature 4, parameter 7 is out of bounds. Capping to [0, 1].\n",
      "Warning: Normalized parameter -1.5606547310342445e-18 for feature 4, parameter 7 is out of bounds. Capping to [0, 1].\n",
      "Warning: Normalized parameter -1.5980253478820282e-19 for feature 0, parameter 7 is out of bounds. Capping to [0, 1].\n",
      "Warning: Normalized parameter -5.464667449591031e-18 for feature 4, parameter 7 is out of bounds. Capping to [0, 1].\n",
      "Warning: Normalized parameter -5.464667449591031e-18 for feature 4, parameter 7 is out of bounds. Capping to [0, 1].\n",
      "Warning: Normalized parameter -3.988763012783674e-18 for feature 4, parameter 7 is out of bounds. Capping to [0, 1].\n",
      "Warning: Normalized parameter -2.1765561756211724e-18 for feature 4, parameter 7 is out of bounds. Capping to [0, 1].\n",
      "Warning: Normalized parameter -2.2680032000202545e-18 for feature 4, parameter 7 is out of bounds. Capping to [0, 1].\n",
      "Warning: Normalized parameter -1.5980253478820282e-19 for feature 0, parameter 7 is out of bounds. Capping to [0, 1].\n",
      "Warning: Normalized parameter -5.464667449591031e-18 for feature 4, parameter 7 is out of bounds. Capping to [0, 1].\n",
      "Warning: Normalized parameter -1.5980253478820282e-19 for feature 0, parameter 7 is out of bounds. Capping to [0, 1].\n",
      "Warning: Normalized parameter -5.464667449591031e-18 for feature 4, parameter 7 is out of bounds. Capping to [0, 1].\n",
      "Warning: Normalized parameter -3.988763012783674e-18 for feature 4, parameter 7 is out of bounds. Capping to [0, 1].\n",
      "Warning: Normalized parameter -1.5606547310342445e-18 for feature 4, parameter 7 is out of bounds. Capping to [0, 1].\n",
      "Warning: Normalized parameter -1.5606547310342445e-18 for feature 4, parameter 7 is out of bounds. Capping to [0, 1].\n",
      "Warning: Normalized parameter -1.5606547310342445e-18 for feature 4, parameter 7 is out of bounds. Capping to [0, 1].\n",
      "Warning: Normalized parameter -1.5980253478820282e-19 for feature 0, parameter 7 is out of bounds. Capping to [0, 1].\n",
      "Warning: Normalized parameter -5.464667449591031e-18 for feature 4, parameter 7 is out of bounds. Capping to [0, 1].\n",
      "Warning: Normalized parameter -1.5980253478820282e-19 for feature 0, parameter 7 is out of bounds. Capping to [0, 1].\n",
      "Warning: Normalized parameter -5.464667449591031e-18 for feature 4, parameter 7 is out of bounds. Capping to [0, 1].\n"
     ]
    },
    {
     "data": {
      "application/vnd.jupyter.widget-view+json": {
       "model_id": "23eb57e7fd3546a7b6a488ab149b4d00",
       "version_major": 2,
       "version_minor": 0
      },
      "text/plain": [
       "  0%|          | 0/10000 [00:00<?, ?it/s]"
      ]
     },
     "metadata": {},
     "output_type": "display_data"
    },
    {
     "name": "stdout",
     "output_type": "stream",
     "text": [
      "gld_params: [0.05571043 0.02088326 0.252804   0.12160406]\n",
      "wrapper([ 1.000e+00  6.163e-33 ...  8.838e-01  8.604e-01]) = -0.009202297586587723\n",
      "assembly_constraint_no_mean([ 1.000e+00  6.163e-33 ...  8.838e-01  8.604e-01]) = [ 2.514e-01 -1.066e-01 ...  1.081e+00 -3.043e-01]\n",
      "Warning: Normalized parameter -1.5606547310342445e-18 for feature 4, parameter 7 is out of bounds. Capping to [0, 1].\n",
      "Warning: Normalized parameter -1.5606547310342445e-18 for feature 4, parameter 7 is out of bounds. Capping to [0, 1].\n",
      "Warning: Normalized parameter -1.5606547310342445e-18 for feature 4, parameter 7 is out of bounds. Capping to [0, 1].\n",
      "Warning: Normalized parameter -1.5980253478820282e-19 for feature 0, parameter 7 is out of bounds. Capping to [0, 1].\n",
      "Warning: Normalized parameter -5.464667449591031e-18 for feature 4, parameter 7 is out of bounds. Capping to [0, 1].\n",
      "Warning: Normalized parameter -5.464667449591031e-18 for feature 4, parameter 7 is out of bounds. Capping to [0, 1].\n",
      "Warning: Normalized parameter -3.988763012783674e-18 for feature 4, parameter 7 is out of bounds. Capping to [0, 1].\n",
      "Warning: Normalized parameter -2.1765561756211724e-18 for feature 4, parameter 7 is out of bounds. Capping to [0, 1].\n",
      "Warning: Normalized parameter -2.2680032000202545e-18 for feature 4, parameter 7 is out of bounds. Capping to [0, 1].\n",
      "Warning: Normalized parameter -1.5980253478820282e-19 for feature 0, parameter 7 is out of bounds. Capping to [0, 1].\n",
      "Warning: Normalized parameter -5.464667449591031e-18 for feature 4, parameter 7 is out of bounds. Capping to [0, 1].\n",
      "Warning: Normalized parameter -1.5980253478820282e-19 for feature 0, parameter 7 is out of bounds. Capping to [0, 1].\n",
      "Warning: Normalized parameter -5.464667449591031e-18 for feature 4, parameter 7 is out of bounds. Capping to [0, 1].\n",
      "Warning: Normalized parameter -3.988763012783674e-18 for feature 4, parameter 7 is out of bounds. Capping to [0, 1].\n",
      "Warning: Normalized parameter -1.5606547310342445e-18 for feature 4, parameter 7 is out of bounds. Capping to [0, 1].\n",
      "Warning: Normalized parameter -1.5606547310342445e-18 for feature 4, parameter 7 is out of bounds. Capping to [0, 1].\n",
      "Warning: Normalized parameter -1.5606547310342445e-18 for feature 4, parameter 7 is out of bounds. Capping to [0, 1].\n",
      "Warning: Normalized parameter -1.5980253478820282e-19 for feature 0, parameter 7 is out of bounds. Capping to [0, 1].\n",
      "Warning: Normalized parameter -5.464667449591031e-18 for feature 4, parameter 7 is out of bounds. Capping to [0, 1].\n",
      "Warning: Normalized parameter -1.5980253478820282e-19 for feature 0, parameter 7 is out of bounds. Capping to [0, 1].\n",
      "Warning: Normalized parameter -5.464667449591031e-18 for feature 4, parameter 7 is out of bounds. Capping to [0, 1].\n"
     ]
    },
    {
     "data": {
      "application/vnd.jupyter.widget-view+json": {
       "model_id": "7c7036df05ca4fcb9749feaf8deab3c0",
       "version_major": 2,
       "version_minor": 0
      },
      "text/plain": [
       "  0%|          | 0/10000 [00:00<?, ?it/s]"
      ]
     },
     "metadata": {},
     "output_type": "display_data"
    },
    {
     "name": "stdout",
     "output_type": "stream",
     "text": [
      "gld_params: [0.05561058 0.02080533 0.25763085 0.12388682]\n",
      "wrapper([ 9.804e-01  3.149e-18 ...  8.836e-01  9.716e-01]) = -0.008453840557332995\n",
      "assembly_constraint_no_mean([ 9.804e-01  3.149e-18 ...  8.836e-01  9.716e-01]) = [-1.506e-01 -1.525e-01 ...  1.112e-02  2.632e-01]\n",
      "Warning: Normalized parameter -1.5606547310342445e-18 for feature 4, parameter 7 is out of bounds. Capping to [0, 1].\n",
      "Warning: Normalized parameter -1.5606547310342445e-18 for feature 4, parameter 7 is out of bounds. Capping to [0, 1].\n",
      "Warning: Normalized parameter -1.5606547310342445e-18 for feature 4, parameter 7 is out of bounds. Capping to [0, 1].\n",
      "Warning: Normalized parameter -1.5606547310342445e-18 for feature 4, parameter 7 is out of bounds. Capping to [0, 1].\n",
      "Warning: Normalized parameter -1.5606547310342445e-18 for feature 4, parameter 7 is out of bounds. Capping to [0, 1].\n",
      "Warning: Normalized parameter -1.5980253478820282e-19 for feature 0, parameter 7 is out of bounds. Capping to [0, 1].\n",
      "Warning: Normalized parameter -5.464667449591031e-18 for feature 4, parameter 7 is out of bounds. Capping to [0, 1].\n",
      "Warning: Normalized parameter -5.464667449591031e-18 for feature 4, parameter 7 is out of bounds. Capping to [0, 1].\n",
      "Warning: Normalized parameter -3.988763012783674e-18 for feature 4, parameter 7 is out of bounds. Capping to [0, 1].\n",
      "Warning: Normalized parameter -2.1765561756211724e-18 for feature 4, parameter 7 is out of bounds. Capping to [0, 1].\n",
      "Warning: Normalized parameter -2.2680032000202545e-18 for feature 4, parameter 7 is out of bounds. Capping to [0, 1].\n",
      "Warning: Normalized parameter -1.5980253478820282e-19 for feature 0, parameter 7 is out of bounds. Capping to [0, 1].\n",
      "Warning: Normalized parameter -5.464667449591031e-18 for feature 4, parameter 7 is out of bounds. Capping to [0, 1].\n",
      "Warning: Normalized parameter -1.5980253478820282e-19 for feature 0, parameter 7 is out of bounds. Capping to [0, 1].\n",
      "Warning: Normalized parameter -5.464667449591031e-18 for feature 4, parameter 7 is out of bounds. Capping to [0, 1].\n",
      "Warning: Normalized parameter -3.988763012783674e-18 for feature 4, parameter 7 is out of bounds. Capping to [0, 1].\n",
      "Warning: Normalized parameter -1.5606547310342445e-18 for feature 4, parameter 7 is out of bounds. Capping to [0, 1].\n",
      "Warning: Normalized parameter -1.5606547310342445e-18 for feature 4, parameter 7 is out of bounds. Capping to [0, 1].\n",
      "Warning: Normalized parameter -1.5606547310342445e-18 for feature 4, parameter 7 is out of bounds. Capping to [0, 1].\n",
      "Warning: Normalized parameter -1.5980253478820282e-19 for feature 0, parameter 7 is out of bounds. Capping to [0, 1].\n",
      "Warning: Normalized parameter -5.464667449591031e-18 for feature 4, parameter 7 is out of bounds. Capping to [0, 1].\n",
      "Warning: Normalized parameter -1.5980253478820282e-19 for feature 0, parameter 7 is out of bounds. Capping to [0, 1].\n",
      "Warning: Normalized parameter -5.464667449591031e-18 for feature 4, parameter 7 is out of bounds. Capping to [0, 1].\n"
     ]
    },
    {
     "data": {
      "application/vnd.jupyter.widget-view+json": {
       "model_id": "d3c0fe187999476c83ac41d1c863990b",
       "version_major": 2,
       "version_minor": 0
      },
      "text/plain": [
       "  0%|          | 0/10000 [00:00<?, ?it/s]"
      ]
     },
     "metadata": {},
     "output_type": "display_data"
    },
    {
     "name": "stdout",
     "output_type": "stream",
     "text": [
      "gld_params: [0.05378562 0.02111014 0.27148055 0.1249788 ]\n",
      "wrapper([ 9.552e-01  4.839e-18 ...  1.000e+00  8.902e-01]) = -0.010007994382972351\n",
      "assembly_constraint_no_mean([ 9.552e-01  4.839e-18 ...  1.000e+00  8.902e-01]) = [-1.788e-01 -4.752e-01 ... -9.314e-02  4.131e-01]\n",
      "Warning: Normalized parameter -1.5606547310342445e-18 for feature 4, parameter 7 is out of bounds. Capping to [0, 1].\n",
      "Warning: Normalized parameter -1.5980253478820282e-19 for feature 0, parameter 7 is out of bounds. Capping to [0, 1].\n",
      "Warning: Normalized parameter -5.464667449591031e-18 for feature 4, parameter 7 is out of bounds. Capping to [0, 1].\n",
      "Warning: Normalized parameter -5.464667449591031e-18 for feature 4, parameter 7 is out of bounds. Capping to [0, 1].\n",
      "Warning: Normalized parameter -3.988763012783674e-18 for feature 4, parameter 7 is out of bounds. Capping to [0, 1].\n",
      "Warning: Normalized parameter -1.5606547310342445e-18 for feature 4, parameter 7 is out of bounds. Capping to [0, 1].\n",
      "Warning: Normalized parameter -2.1765561756211724e-18 for feature 4, parameter 7 is out of bounds. Capping to [0, 1].\n",
      "Warning: Normalized parameter -2.2680032000202545e-18 for feature 4, parameter 7 is out of bounds. Capping to [0, 1].\n",
      "Warning: Normalized parameter -1.5980253478820282e-19 for feature 0, parameter 7 is out of bounds. Capping to [0, 1].\n",
      "Warning: Normalized parameter -5.464667449591031e-18 for feature 4, parameter 7 is out of bounds. Capping to [0, 1].\n",
      "Warning: Normalized parameter -1.5980253478820282e-19 for feature 0, parameter 7 is out of bounds. Capping to [0, 1].\n",
      "Warning: Normalized parameter -5.464667449591031e-18 for feature 4, parameter 7 is out of bounds. Capping to [0, 1].\n",
      "Warning: Normalized parameter -3.988763012783674e-18 for feature 4, parameter 7 is out of bounds. Capping to [0, 1].\n",
      "Warning: Normalized parameter -1.5606547310342445e-18 for feature 4, parameter 7 is out of bounds. Capping to [0, 1].\n",
      "Warning: Normalized parameter -1.5606547310342445e-18 for feature 4, parameter 7 is out of bounds. Capping to [0, 1].\n",
      "Warning: Normalized parameter -1.5606547310342445e-18 for feature 4, parameter 7 is out of bounds. Capping to [0, 1].\n",
      "Warning: Normalized parameter -1.5980253478820282e-19 for feature 0, parameter 7 is out of bounds. Capping to [0, 1].\n",
      "Warning: Normalized parameter -5.464667449591031e-18 for feature 4, parameter 7 is out of bounds. Capping to [0, 1].\n",
      "Warning: Normalized parameter -1.5980253478820282e-19 for feature 0, parameter 7 is out of bounds. Capping to [0, 1].\n",
      "Warning: Normalized parameter -5.464667449591031e-18 for feature 4, parameter 7 is out of bounds. Capping to [0, 1].\n"
     ]
    },
    {
     "data": {
      "application/vnd.jupyter.widget-view+json": {
       "model_id": "a9b49094e4f24352ad61ad18a7139c3a",
       "version_major": 2,
       "version_minor": 0
      },
      "text/plain": [
       "  0%|          | 0/10000 [00:00<?, ?it/s]"
      ]
     },
     "metadata": {},
     "output_type": "display_data"
    },
    {
     "name": "stdout",
     "output_type": "stream",
     "text": [
      "gld_params: [0.05518141 0.02062152 0.25958615 0.11998999]\n",
      "wrapper([ 1.000e+00  2.970e-01 ...  8.757e-01  9.677e-01]) = -0.008705497800491308\n",
      "assembly_constraint_no_mean([ 1.000e+00  2.970e-01 ...  8.757e-01  9.677e-01]) = [-5.009e-01  1.904e-01 ...  5.071e-01  1.786e-01]\n",
      "Warning: Normalized parameter -1.5606547310342445e-18 for feature 4, parameter 7 is out of bounds. Capping to [0, 1].\n",
      "Warning: Normalized parameter -1.5980253478820282e-19 for feature 0, parameter 7 is out of bounds. Capping to [0, 1].\n",
      "Warning: Normalized parameter -5.464667449591031e-18 for feature 4, parameter 7 is out of bounds. Capping to [0, 1].\n",
      "Warning: Normalized parameter -5.464667449591031e-18 for feature 4, parameter 7 is out of bounds. Capping to [0, 1].\n",
      "Warning: Normalized parameter -3.988763012783674e-18 for feature 4, parameter 7 is out of bounds. Capping to [0, 1].\n",
      "Warning: Normalized parameter -1.5606547310342445e-18 for feature 4, parameter 7 is out of bounds. Capping to [0, 1].\n",
      "Warning: Normalized parameter -2.1765561756211724e-18 for feature 4, parameter 7 is out of bounds. Capping to [0, 1].\n",
      "Warning: Normalized parameter -2.2680032000202545e-18 for feature 4, parameter 7 is out of bounds. Capping to [0, 1].\n",
      "Warning: Normalized parameter -1.5980253478820282e-19 for feature 0, parameter 7 is out of bounds. Capping to [0, 1].\n",
      "Warning: Normalized parameter -5.464667449591031e-18 for feature 4, parameter 7 is out of bounds. Capping to [0, 1].\n",
      "Warning: Normalized parameter -1.5980253478820282e-19 for feature 0, parameter 7 is out of bounds. Capping to [0, 1].\n",
      "Warning: Normalized parameter -5.464667449591031e-18 for feature 4, parameter 7 is out of bounds. Capping to [0, 1].\n",
      "Warning: Normalized parameter -3.988763012783674e-18 for feature 4, parameter 7 is out of bounds. Capping to [0, 1].\n",
      "Warning: Normalized parameter -1.5606547310342445e-18 for feature 4, parameter 7 is out of bounds. Capping to [0, 1].\n",
      "Warning: Normalized parameter -1.5606547310342445e-18 for feature 4, parameter 7 is out of bounds. Capping to [0, 1].\n",
      "Warning: Normalized parameter -1.5606547310342445e-18 for feature 4, parameter 7 is out of bounds. Capping to [0, 1].\n",
      "Warning: Normalized parameter -1.5980253478820282e-19 for feature 0, parameter 7 is out of bounds. Capping to [0, 1].\n",
      "Warning: Normalized parameter -5.464667449591031e-18 for feature 4, parameter 7 is out of bounds. Capping to [0, 1].\n",
      "Warning: Normalized parameter -1.5980253478820282e-19 for feature 0, parameter 7 is out of bounds. Capping to [0, 1].\n",
      "Warning: Normalized parameter -5.464667449591031e-18 for feature 4, parameter 7 is out of bounds. Capping to [0, 1].\n"
     ]
    },
    {
     "data": {
      "application/vnd.jupyter.widget-view+json": {
       "model_id": "26023b0089ad4004986f1195f868cc79",
       "version_major": 2,
       "version_minor": 0
      },
      "text/plain": [
       "  0%|          | 0/10000 [00:00<?, ?it/s]"
      ]
     },
     "metadata": {},
     "output_type": "display_data"
    },
    {
     "name": "stdout",
     "output_type": "stream",
     "text": [
      "gld_params: [0.05426369 0.02081829 0.26864429 0.12250594]\n",
      "wrapper([ 9.780e-01  1.441e-17 ...  9.068e-01  9.369e-01]) = -0.00918946144989347\n",
      "assembly_constraint_no_mean([ 9.780e-01  1.441e-17 ...  9.068e-01  9.369e-01]) = [ 1.741e-02 -2.177e-01 ...  3.585e-02  1.018e-01]\n",
      "Warning: Normalized parameter -1.5606547310342445e-18 for feature 4, parameter 7 is out of bounds. Capping to [0, 1].\n",
      "Warning: Normalized parameter -1.5980253478820282e-19 for feature 0, parameter 7 is out of bounds. Capping to [0, 1].\n",
      "Warning: Normalized parameter -5.464667449591031e-18 for feature 4, parameter 7 is out of bounds. Capping to [0, 1].\n",
      "Warning: Normalized parameter -5.464667449591031e-18 for feature 4, parameter 7 is out of bounds. Capping to [0, 1].\n",
      "Warning: Normalized parameter -3.988763012783674e-18 for feature 4, parameter 7 is out of bounds. Capping to [0, 1].\n",
      "Warning: Normalized parameter -1.5606547310342445e-18 for feature 4, parameter 7 is out of bounds. Capping to [0, 1].\n",
      "Warning: Normalized parameter -2.1765561756211724e-18 for feature 4, parameter 7 is out of bounds. Capping to [0, 1].\n",
      "Warning: Normalized parameter -2.2680032000202545e-18 for feature 4, parameter 7 is out of bounds. Capping to [0, 1].\n",
      "Warning: Normalized parameter -1.5980253478820282e-19 for feature 0, parameter 7 is out of bounds. Capping to [0, 1].\n",
      "Warning: Normalized parameter -5.464667449591031e-18 for feature 4, parameter 7 is out of bounds. Capping to [0, 1].\n",
      "Warning: Normalized parameter -1.5980253478820282e-19 for feature 0, parameter 7 is out of bounds. Capping to [0, 1].\n",
      "Warning: Normalized parameter -5.464667449591031e-18 for feature 4, parameter 7 is out of bounds. Capping to [0, 1].\n",
      "Warning: Normalized parameter -3.988763012783674e-18 for feature 4, parameter 7 is out of bounds. Capping to [0, 1].\n",
      "Warning: Normalized parameter -1.5606547310342445e-18 for feature 4, parameter 7 is out of bounds. Capping to [0, 1].\n",
      "Warning: Normalized parameter -1.5606547310342445e-18 for feature 4, parameter 7 is out of bounds. Capping to [0, 1].\n",
      "Warning: Normalized parameter -1.5606547310342445e-18 for feature 4, parameter 7 is out of bounds. Capping to [0, 1].\n",
      "Warning: Normalized parameter -1.5980253478820282e-19 for feature 0, parameter 7 is out of bounds. Capping to [0, 1].\n",
      "Warning: Normalized parameter -5.464667449591031e-18 for feature 4, parameter 7 is out of bounds. Capping to [0, 1].\n",
      "Warning: Normalized parameter -1.5980253478820282e-19 for feature 0, parameter 7 is out of bounds. Capping to [0, 1].\n",
      "Warning: Normalized parameter -5.464667449591031e-18 for feature 4, parameter 7 is out of bounds. Capping to [0, 1].\n"
     ]
    },
    {
     "data": {
      "application/vnd.jupyter.widget-view+json": {
       "model_id": "ff5ddce2042f46b2a88c3d80ebeb3dac",
       "version_major": 2,
       "version_minor": 0
      },
      "text/plain": [
       "  0%|          | 0/10000 [00:00<?, ?it/s]"
      ]
     },
     "metadata": {},
     "output_type": "display_data"
    },
    {
     "name": "stdout",
     "output_type": "stream",
     "text": [
      "gld_params: [0.05476265 0.02070573 0.26140647 0.11970064]\n",
      "wrapper([ 1.000e+00  1.384e-03 ...  9.117e-01  9.643e-01]) = -0.009262721668667661\n",
      "assembly_constraint_no_mean([ 1.000e+00  1.384e-03 ...  9.117e-01  9.643e-01]) = [-5.486e-01 -2.115e-02 ...  2.177e-01  3.874e-01]\n",
      "Warning: Normalized parameter -1.5606547310342445e-18 for feature 4, parameter 7 is out of bounds. Capping to [0, 1].\n",
      "Warning: Normalized parameter -1.5980253478820282e-19 for feature 0, parameter 7 is out of bounds. Capping to [0, 1].\n",
      "Warning: Normalized parameter -5.464667449591031e-18 for feature 4, parameter 7 is out of bounds. Capping to [0, 1].\n",
      "Warning: Normalized parameter -5.464667449591031e-18 for feature 4, parameter 7 is out of bounds. Capping to [0, 1].\n",
      "Warning: Normalized parameter -3.988763012783674e-18 for feature 4, parameter 7 is out of bounds. Capping to [0, 1].\n",
      "Warning: Normalized parameter -1.5606547310342445e-18 for feature 4, parameter 7 is out of bounds. Capping to [0, 1].\n",
      "Warning: Normalized parameter -2.1765561756211724e-18 for feature 4, parameter 7 is out of bounds. Capping to [0, 1].\n",
      "Warning: Normalized parameter -2.2680032000202545e-18 for feature 4, parameter 7 is out of bounds. Capping to [0, 1].\n",
      "Warning: Normalized parameter -1.5980253478820282e-19 for feature 0, parameter 7 is out of bounds. Capping to [0, 1].\n",
      "Warning: Normalized parameter -5.464667449591031e-18 for feature 4, parameter 7 is out of bounds. Capping to [0, 1].\n",
      "Warning: Normalized parameter -1.5980253478820282e-19 for feature 0, parameter 7 is out of bounds. Capping to [0, 1].\n",
      "Warning: Normalized parameter -5.464667449591031e-18 for feature 4, parameter 7 is out of bounds. Capping to [0, 1].\n",
      "Warning: Normalized parameter -3.988763012783674e-18 for feature 4, parameter 7 is out of bounds. Capping to [0, 1].\n",
      "Warning: Normalized parameter -1.5606547310342445e-18 for feature 4, parameter 7 is out of bounds. Capping to [0, 1].\n",
      "Warning: Normalized parameter -1.5606547310342445e-18 for feature 4, parameter 7 is out of bounds. Capping to [0, 1].\n",
      "Warning: Normalized parameter -1.5606547310342445e-18 for feature 4, parameter 7 is out of bounds. Capping to [0, 1].\n",
      "Warning: Normalized parameter -1.5980253478820282e-19 for feature 0, parameter 7 is out of bounds. Capping to [0, 1].\n",
      "Warning: Normalized parameter -5.464667449591031e-18 for feature 4, parameter 7 is out of bounds. Capping to [0, 1].\n",
      "Warning: Normalized parameter -1.5980253478820282e-19 for feature 0, parameter 7 is out of bounds. Capping to [0, 1].\n",
      "Warning: Normalized parameter -5.464667449591031e-18 for feature 4, parameter 7 is out of bounds. Capping to [0, 1].\n"
     ]
    },
    {
     "data": {
      "application/vnd.jupyter.widget-view+json": {
       "model_id": "40793cba54bc4535921fbd850fa37ec9",
       "version_major": 2,
       "version_minor": 0
      },
      "text/plain": [
       "  0%|          | 0/10000 [00:00<?, ?it/s]"
      ]
     },
     "metadata": {},
     "output_type": "display_data"
    },
    {
     "name": "stdout",
     "output_type": "stream",
     "text": [
      "gld_params: [0.05439873 0.02080572 0.26797554 0.125775  ]\n",
      "wrapper([ 9.897e-01  2.518e-17 ...  9.089e-01  9.257e-01]) = -0.008669965669237998\n",
      "assembly_constraint_no_mean([ 9.897e-01  2.518e-17 ...  9.089e-01  9.257e-01]) = [-6.889e-04 -1.426e-01 ... -1.327e-01  7.186e-02]\n",
      "Warning: Normalized parameter -1.5606547310342445e-18 for feature 4, parameter 7 is out of bounds. Capping to [0, 1].\n",
      "Warning: Normalized parameter -1.5980253478820282e-19 for feature 0, parameter 7 is out of bounds. Capping to [0, 1].\n",
      "Warning: Normalized parameter -5.464667449591031e-18 for feature 4, parameter 7 is out of bounds. Capping to [0, 1].\n",
      "Warning: Normalized parameter -5.464667449591031e-18 for feature 4, parameter 7 is out of bounds. Capping to [0, 1].\n",
      "Warning: Normalized parameter -3.988763012783674e-18 for feature 4, parameter 7 is out of bounds. Capping to [0, 1].\n",
      "Warning: Normalized parameter -1.5606547310342445e-18 for feature 4, parameter 7 is out of bounds. Capping to [0, 1].\n",
      "Warning: Normalized parameter -2.1765561756211724e-18 for feature 4, parameter 7 is out of bounds. Capping to [0, 1].\n",
      "Warning: Normalized parameter -2.2680032000202545e-18 for feature 4, parameter 7 is out of bounds. Capping to [0, 1].\n",
      "Warning: Normalized parameter -1.5980253478820282e-19 for feature 0, parameter 7 is out of bounds. Capping to [0, 1].\n",
      "Warning: Normalized parameter -5.464667449591031e-18 for feature 4, parameter 7 is out of bounds. Capping to [0, 1].\n",
      "Warning: Normalized parameter -1.5980253478820282e-19 for feature 0, parameter 7 is out of bounds. Capping to [0, 1].\n",
      "Warning: Normalized parameter -5.464667449591031e-18 for feature 4, parameter 7 is out of bounds. Capping to [0, 1].\n",
      "Warning: Normalized parameter -3.988763012783674e-18 for feature 4, parameter 7 is out of bounds. Capping to [0, 1].\n",
      "Warning: Normalized parameter -1.5606547310342445e-18 for feature 4, parameter 7 is out of bounds. Capping to [0, 1].\n",
      "Warning: Normalized parameter -1.5606547310342445e-18 for feature 4, parameter 7 is out of bounds. Capping to [0, 1].\n",
      "Warning: Normalized parameter -1.5606547310342445e-18 for feature 4, parameter 7 is out of bounds. Capping to [0, 1].\n",
      "Warning: Normalized parameter -1.5980253478820282e-19 for feature 0, parameter 7 is out of bounds. Capping to [0, 1].\n",
      "Warning: Normalized parameter -5.464667449591031e-18 for feature 4, parameter 7 is out of bounds. Capping to [0, 1].\n",
      "Warning: Normalized parameter -1.5980253478820282e-19 for feature 0, parameter 7 is out of bounds. Capping to [0, 1].\n",
      "Warning: Normalized parameter -5.464667449591031e-18 for feature 4, parameter 7 is out of bounds. Capping to [0, 1].\n"
     ]
    },
    {
     "data": {
      "application/vnd.jupyter.widget-view+json": {
       "model_id": "c79948a5987242ed9b04185b3228f4ef",
       "version_major": 2,
       "version_minor": 0
      },
      "text/plain": [
       "  0%|          | 0/10000 [00:00<?, ?it/s]"
      ]
     },
     "metadata": {},
     "output_type": "display_data"
    },
    {
     "name": "stdout",
     "output_type": "stream",
     "text": [
      "gld_params: [0.05503092 0.02009249 0.26875797 0.12335764]\n",
      "wrapper([ 9.073e-01  7.480e-03 ...  8.243e-01  9.668e-01]) = -0.0065356450585611426\n",
      "assembly_constraint_no_mean([ 9.073e-01  7.480e-03 ...  8.243e-01  9.668e-01]) = [-8.139e-01 -1.825e-01 ... -6.796e-01 -1.211e-01]\n",
      "Warning: Normalized parameter -1.5606547310342445e-18 for feature 4, parameter 7 is out of bounds. Capping to [0, 1].\n",
      "Warning: Normalized parameter -1.5980253478820282e-19 for feature 0, parameter 7 is out of bounds. Capping to [0, 1].\n",
      "Warning: Normalized parameter -5.464667449591031e-18 for feature 4, parameter 7 is out of bounds. Capping to [0, 1].\n",
      "Warning: Normalized parameter -5.464667449591031e-18 for feature 4, parameter 7 is out of bounds. Capping to [0, 1].\n",
      "Warning: Normalized parameter -3.988763012783674e-18 for feature 4, parameter 7 is out of bounds. Capping to [0, 1].\n",
      "Warning: Normalized parameter -1.5606547310342445e-18 for feature 4, parameter 7 is out of bounds. Capping to [0, 1].\n",
      "Warning: Normalized parameter -2.1765561756211724e-18 for feature 4, parameter 7 is out of bounds. Capping to [0, 1].\n",
      "Warning: Normalized parameter -2.2680032000202545e-18 for feature 4, parameter 7 is out of bounds. Capping to [0, 1].\n",
      "Warning: Normalized parameter -1.5980253478820282e-19 for feature 0, parameter 7 is out of bounds. Capping to [0, 1].\n",
      "Warning: Normalized parameter -5.464667449591031e-18 for feature 4, parameter 7 is out of bounds. Capping to [0, 1].\n",
      "Warning: Normalized parameter -1.5980253478820282e-19 for feature 0, parameter 7 is out of bounds. Capping to [0, 1].\n",
      "Warning: Normalized parameter -5.464667449591031e-18 for feature 4, parameter 7 is out of bounds. Capping to [0, 1].\n",
      "Warning: Normalized parameter -3.988763012783674e-18 for feature 4, parameter 7 is out of bounds. Capping to [0, 1].\n",
      "Warning: Normalized parameter -1.5606547310342445e-18 for feature 4, parameter 7 is out of bounds. Capping to [0, 1].\n",
      "Warning: Normalized parameter -1.5606547310342445e-18 for feature 4, parameter 7 is out of bounds. Capping to [0, 1].\n",
      "Warning: Normalized parameter -1.5606547310342445e-18 for feature 4, parameter 7 is out of bounds. Capping to [0, 1].\n",
      "Warning: Normalized parameter -1.5980253478820282e-19 for feature 0, parameter 7 is out of bounds. Capping to [0, 1].\n",
      "Warning: Normalized parameter -5.464667449591031e-18 for feature 4, parameter 7 is out of bounds. Capping to [0, 1].\n",
      "Warning: Normalized parameter -1.5980253478820282e-19 for feature 0, parameter 7 is out of bounds. Capping to [0, 1].\n",
      "Warning: Normalized parameter -5.464667449591031e-18 for feature 4, parameter 7 is out of bounds. Capping to [0, 1].\n"
     ]
    },
    {
     "data": {
      "application/vnd.jupyter.widget-view+json": {
       "model_id": "5d86d44493ef472d97adc3358ec9776f",
       "version_major": 2,
       "version_minor": 0
      },
      "text/plain": [
       "  0%|          | 0/10000 [00:00<?, ?it/s]"
      ]
     },
     "metadata": {},
     "output_type": "display_data"
    },
    {
     "name": "stdout",
     "output_type": "stream",
     "text": [
      "gld_params: [0.05495838 0.02107284 0.26008755 0.12262177]\n",
      "wrapper([ 9.881e-01  2.061e-17 ...  9.524e-01  9.339e-01]) = -0.009830872387825538\n",
      "assembly_constraint_no_mean([ 9.881e-01  2.061e-17 ...  9.524e-01  9.339e-01]) = [ 4.321e-02 -2.924e-01 ...  4.978e-02  3.103e-01]\n",
      "Warning: Normalized parameter -1.5606547310342445e-18 for feature 4, parameter 7 is out of bounds. Capping to [0, 1].\n",
      "Warning: Normalized parameter -1.5980253478820282e-19 for feature 0, parameter 7 is out of bounds. Capping to [0, 1].\n",
      "Warning: Normalized parameter -5.464667449591031e-18 for feature 4, parameter 7 is out of bounds. Capping to [0, 1].\n",
      "Warning: Normalized parameter -5.464667449591031e-18 for feature 4, parameter 7 is out of bounds. Capping to [0, 1].\n",
      "Warning: Normalized parameter -3.988763012783674e-18 for feature 4, parameter 7 is out of bounds. Capping to [0, 1].\n",
      "Warning: Normalized parameter -1.5606547310342445e-18 for feature 4, parameter 7 is out of bounds. Capping to [0, 1].\n",
      "Warning: Normalized parameter -2.1765561756211724e-18 for feature 4, parameter 7 is out of bounds. Capping to [0, 1].\n",
      "Warning: Normalized parameter -2.2680032000202545e-18 for feature 4, parameter 7 is out of bounds. Capping to [0, 1].\n",
      "Warning: Normalized parameter -1.5980253478820282e-19 for feature 0, parameter 7 is out of bounds. Capping to [0, 1].\n",
      "Warning: Normalized parameter -5.464667449591031e-18 for feature 4, parameter 7 is out of bounds. Capping to [0, 1].\n",
      "Warning: Normalized parameter -1.5980253478820282e-19 for feature 0, parameter 7 is out of bounds. Capping to [0, 1].\n",
      "Warning: Normalized parameter -5.464667449591031e-18 for feature 4, parameter 7 is out of bounds. Capping to [0, 1].\n",
      "Warning: Normalized parameter -3.988763012783674e-18 for feature 4, parameter 7 is out of bounds. Capping to [0, 1].\n",
      "Warning: Normalized parameter -1.5606547310342445e-18 for feature 4, parameter 7 is out of bounds. Capping to [0, 1].\n",
      "Warning: Normalized parameter -1.5606547310342445e-18 for feature 4, parameter 7 is out of bounds. Capping to [0, 1].\n",
      "Warning: Normalized parameter -1.5606547310342445e-18 for feature 4, parameter 7 is out of bounds. Capping to [0, 1].\n",
      "Warning: Normalized parameter -1.5980253478820282e-19 for feature 0, parameter 7 is out of bounds. Capping to [0, 1].\n",
      "Warning: Normalized parameter -5.464667449591031e-18 for feature 4, parameter 7 is out of bounds. Capping to [0, 1].\n",
      "Warning: Normalized parameter -1.5980253478820282e-19 for feature 0, parameter 7 is out of bounds. Capping to [0, 1].\n",
      "Warning: Normalized parameter -5.464667449591031e-18 for feature 4, parameter 7 is out of bounds. Capping to [0, 1].\n"
     ]
    },
    {
     "data": {
      "application/vnd.jupyter.widget-view+json": {
       "model_id": "870998192c10484499591f6785e03272",
       "version_major": 2,
       "version_minor": 0
      },
      "text/plain": [
       "  0%|          | 0/10000 [00:00<?, ?it/s]"
      ]
     },
     "metadata": {},
     "output_type": "display_data"
    },
    {
     "name": "stdout",
     "output_type": "stream",
     "text": [
      "gld_params: [0.05597953 0.01988916 0.26197268 0.11872184]\n",
      "wrapper([ 9.770e-01  0.000e+00 ...  8.397e-01  7.999e-01]) = -0.006207602191859804\n",
      "assembly_constraint_no_mean([ 9.770e-01  0.000e+00 ...  8.397e-01  7.999e-01]) = [-1.810e-01  7.015e-01 ...  7.984e-02 -9.701e-01]\n",
      "Warning: Normalized parameter -1.5606547310342445e-18 for feature 4, parameter 7 is out of bounds. Capping to [0, 1].\n",
      "Warning: Normalized parameter -1.5980253478820282e-19 for feature 0, parameter 7 is out of bounds. Capping to [0, 1].\n",
      "Warning: Normalized parameter -5.464667449591031e-18 for feature 4, parameter 7 is out of bounds. Capping to [0, 1].\n",
      "Warning: Normalized parameter -5.464667449591031e-18 for feature 4, parameter 7 is out of bounds. Capping to [0, 1].\n",
      "Warning: Normalized parameter -3.988763012783674e-18 for feature 4, parameter 7 is out of bounds. Capping to [0, 1].\n",
      "Warning: Normalized parameter -1.5606547310342445e-18 for feature 4, parameter 7 is out of bounds. Capping to [0, 1].\n",
      "Warning: Normalized parameter -2.1765561756211724e-18 for feature 4, parameter 7 is out of bounds. Capping to [0, 1].\n",
      "Warning: Normalized parameter -2.2680032000202545e-18 for feature 4, parameter 7 is out of bounds. Capping to [0, 1].\n",
      "Warning: Normalized parameter -1.5980253478820282e-19 for feature 0, parameter 7 is out of bounds. Capping to [0, 1].\n",
      "Warning: Normalized parameter -5.464667449591031e-18 for feature 4, parameter 7 is out of bounds. Capping to [0, 1].\n",
      "Warning: Normalized parameter -1.5980253478820282e-19 for feature 0, parameter 7 is out of bounds. Capping to [0, 1].\n",
      "Warning: Normalized parameter -5.464667449591031e-18 for feature 4, parameter 7 is out of bounds. Capping to [0, 1].\n",
      "Warning: Normalized parameter -3.988763012783674e-18 for feature 4, parameter 7 is out of bounds. Capping to [0, 1].\n",
      "Warning: Normalized parameter -1.5606547310342445e-18 for feature 4, parameter 7 is out of bounds. Capping to [0, 1].\n",
      "Warning: Normalized parameter -1.5606547310342445e-18 for feature 4, parameter 7 is out of bounds. Capping to [0, 1].\n",
      "Warning: Normalized parameter -1.5606547310342445e-18 for feature 4, parameter 7 is out of bounds. Capping to [0, 1].\n",
      "Warning: Normalized parameter -1.5980253478820282e-19 for feature 0, parameter 7 is out of bounds. Capping to [0, 1].\n",
      "Warning: Normalized parameter -5.464667449591031e-18 for feature 4, parameter 7 is out of bounds. Capping to [0, 1].\n",
      "Warning: Normalized parameter -1.5980253478820282e-19 for feature 0, parameter 7 is out of bounds. Capping to [0, 1].\n",
      "Warning: Normalized parameter -5.464667449591031e-18 for feature 4, parameter 7 is out of bounds. Capping to [0, 1].\n"
     ]
    },
    {
     "data": {
      "application/vnd.jupyter.widget-view+json": {
       "model_id": "bb6b17fb47234072b8c3d6c3a3810a0e",
       "version_major": 2,
       "version_minor": 0
      },
      "text/plain": [
       "  0%|          | 0/10000 [00:00<?, ?it/s]"
      ]
     },
     "metadata": {},
     "output_type": "display_data"
    },
    {
     "name": "stdout",
     "output_type": "stream",
     "text": [
      "gld_params: [0.05520327 0.02089235 0.25880348 0.1220564 ]\n",
      "wrapper([ 9.784e-01  9.646e-18 ...  9.222e-01  9.198e-01]) = -0.009232980428703554\n",
      "assembly_constraint_no_mean([ 9.784e-01  9.646e-18 ...  9.222e-01  9.198e-01]) = [-7.023e-02  9.206e-03 ...  1.190e-01  7.362e-02]\n",
      "Warning: Normalized parameter -1.5606547310342445e-18 for feature 4, parameter 7 is out of bounds. Capping to [0, 1].\n",
      "Warning: Normalized parameter -1.5980253478820282e-19 for feature 0, parameter 7 is out of bounds. Capping to [0, 1].\n",
      "Warning: Normalized parameter -5.464667449591031e-18 for feature 4, parameter 7 is out of bounds. Capping to [0, 1].\n",
      "Warning: Normalized parameter -5.464667449591031e-18 for feature 4, parameter 7 is out of bounds. Capping to [0, 1].\n",
      "Warning: Normalized parameter -3.988763012783674e-18 for feature 4, parameter 7 is out of bounds. Capping to [0, 1].\n",
      "Warning: Normalized parameter -1.5606547310342445e-18 for feature 4, parameter 7 is out of bounds. Capping to [0, 1].\n",
      "Warning: Normalized parameter -2.1765561756211724e-18 for feature 4, parameter 7 is out of bounds. Capping to [0, 1].\n",
      "Warning: Normalized parameter -2.2680032000202545e-18 for feature 4, parameter 7 is out of bounds. Capping to [0, 1].\n",
      "Warning: Normalized parameter -1.5980253478820282e-19 for feature 0, parameter 7 is out of bounds. Capping to [0, 1].\n",
      "Warning: Normalized parameter -5.464667449591031e-18 for feature 4, parameter 7 is out of bounds. Capping to [0, 1].\n",
      "Warning: Normalized parameter -1.5980253478820282e-19 for feature 0, parameter 7 is out of bounds. Capping to [0, 1].\n",
      "Warning: Normalized parameter -5.464667449591031e-18 for feature 4, parameter 7 is out of bounds. Capping to [0, 1].\n",
      "Warning: Normalized parameter -3.988763012783674e-18 for feature 4, parameter 7 is out of bounds. Capping to [0, 1].\n",
      "Warning: Normalized parameter -1.5606547310342445e-18 for feature 4, parameter 7 is out of bounds. Capping to [0, 1].\n",
      "Warning: Normalized parameter -1.5606547310342445e-18 for feature 4, parameter 7 is out of bounds. Capping to [0, 1].\n",
      "Warning: Normalized parameter -1.5606547310342445e-18 for feature 4, parameter 7 is out of bounds. Capping to [0, 1].\n",
      "Warning: Normalized parameter -1.5980253478820282e-19 for feature 0, parameter 7 is out of bounds. Capping to [0, 1].\n",
      "Warning: Normalized parameter -5.464667449591031e-18 for feature 4, parameter 7 is out of bounds. Capping to [0, 1].\n",
      "Warning: Normalized parameter -1.5980253478820282e-19 for feature 0, parameter 7 is out of bounds. Capping to [0, 1].\n",
      "Warning: Normalized parameter -5.464667449591031e-18 for feature 4, parameter 7 is out of bounds. Capping to [0, 1].\n"
     ]
    },
    {
     "data": {
      "application/vnd.jupyter.widget-view+json": {
       "model_id": "2526ef00a86d4399b070cd2539f8155f",
       "version_major": 2,
       "version_minor": 0
      },
      "text/plain": [
       "  0%|          | 0/10000 [00:00<?, ?it/s]"
      ]
     },
     "metadata": {},
     "output_type": "display_data"
    },
    {
     "name": "stdout",
     "output_type": "stream",
     "text": [
      "gld_params: [0.05458493 0.0212021  0.26097396 0.12070741]\n",
      "wrapper([ 9.269e-01  0.000e+00 ...  1.000e+00  8.659e-01]) = -0.010818578891150047\n",
      "assembly_constraint_no_mean([ 9.269e-01  0.000e+00 ...  1.000e+00  8.659e-01]) = [-1.675e-02  1.623e-01 ...  3.271e-01  2.277e-01]\n",
      "Warning: Normalized parameter -1.5606547310342445e-18 for feature 4, parameter 7 is out of bounds. Capping to [0, 1].\n",
      "Warning: Normalized parameter -1.5980253478820282e-19 for feature 0, parameter 7 is out of bounds. Capping to [0, 1].\n",
      "Warning: Normalized parameter -5.464667449591031e-18 for feature 4, parameter 7 is out of bounds. Capping to [0, 1].\n",
      "Warning: Normalized parameter -5.464667449591031e-18 for feature 4, parameter 7 is out of bounds. Capping to [0, 1].\n",
      "Warning: Normalized parameter -3.988763012783674e-18 for feature 4, parameter 7 is out of bounds. Capping to [0, 1].\n",
      "Warning: Normalized parameter -1.5606547310342445e-18 for feature 4, parameter 7 is out of bounds. Capping to [0, 1].\n",
      "Warning: Normalized parameter -2.1765561756211724e-18 for feature 4, parameter 7 is out of bounds. Capping to [0, 1].\n",
      "Warning: Normalized parameter -2.2680032000202545e-18 for feature 4, parameter 7 is out of bounds. Capping to [0, 1].\n",
      "Warning: Normalized parameter -1.5980253478820282e-19 for feature 0, parameter 7 is out of bounds. Capping to [0, 1].\n",
      "Warning: Normalized parameter -5.464667449591031e-18 for feature 4, parameter 7 is out of bounds. Capping to [0, 1].\n",
      "Warning: Normalized parameter -1.5980253478820282e-19 for feature 0, parameter 7 is out of bounds. Capping to [0, 1].\n",
      "Warning: Normalized parameter -5.464667449591031e-18 for feature 4, parameter 7 is out of bounds. Capping to [0, 1].\n",
      "Warning: Normalized parameter -3.988763012783674e-18 for feature 4, parameter 7 is out of bounds. Capping to [0, 1].\n",
      "Warning: Normalized parameter -1.5606547310342445e-18 for feature 4, parameter 7 is out of bounds. Capping to [0, 1].\n",
      "Warning: Normalized parameter -1.5606547310342445e-18 for feature 4, parameter 7 is out of bounds. Capping to [0, 1].\n",
      "Warning: Normalized parameter -1.5606547310342445e-18 for feature 4, parameter 7 is out of bounds. Capping to [0, 1].\n",
      "Warning: Normalized parameter -1.5980253478820282e-19 for feature 0, parameter 7 is out of bounds. Capping to [0, 1].\n",
      "Warning: Normalized parameter -5.464667449591031e-18 for feature 4, parameter 7 is out of bounds. Capping to [0, 1].\n",
      "Warning: Normalized parameter -1.5980253478820282e-19 for feature 0, parameter 7 is out of bounds. Capping to [0, 1].\n",
      "Warning: Normalized parameter -5.464667449591031e-18 for feature 4, parameter 7 is out of bounds. Capping to [0, 1].\n"
     ]
    },
    {
     "data": {
      "application/vnd.jupyter.widget-view+json": {
       "model_id": "b3e3ead7fb21477686ed89a686e339f7",
       "version_major": 2,
       "version_minor": 0
      },
      "text/plain": [
       "  0%|          | 0/10000 [00:00<?, ?it/s]"
      ]
     },
     "metadata": {},
     "output_type": "display_data"
    },
    {
     "name": "stdout",
     "output_type": "stream",
     "text": [
      "gld_params: [0.05640105 0.0205417  0.25633799 0.12416786]\n",
      "wrapper([ 8.410e-01  0.000e+00 ...  8.552e-01  8.962e-01]) = -0.007126730004636032\n",
      "assembly_constraint_no_mean([ 8.410e-01  0.000e+00 ...  8.552e-01  8.962e-01]) = [-1.461e+00 -8.183e-01 ...  2.009e-01 -4.243e-01]\n",
      "Warning: Normalized parameter -1.5606547310342445e-18 for feature 4, parameter 7 is out of bounds. Capping to [0, 1].\n",
      "Warning: Normalized parameter -1.5980253478820282e-19 for feature 0, parameter 7 is out of bounds. Capping to [0, 1].\n",
      "Warning: Normalized parameter -5.464667449591031e-18 for feature 4, parameter 7 is out of bounds. Capping to [0, 1].\n",
      "Warning: Normalized parameter -5.464667449591031e-18 for feature 4, parameter 7 is out of bounds. Capping to [0, 1].\n",
      "Warning: Normalized parameter -3.988763012783674e-18 for feature 4, parameter 7 is out of bounds. Capping to [0, 1].\n",
      "Warning: Normalized parameter -1.5606547310342445e-18 for feature 4, parameter 7 is out of bounds. Capping to [0, 1].\n",
      "Warning: Normalized parameter -2.1765561756211724e-18 for feature 4, parameter 7 is out of bounds. Capping to [0, 1].\n",
      "Warning: Normalized parameter -2.2680032000202545e-18 for feature 4, parameter 7 is out of bounds. Capping to [0, 1].\n",
      "Warning: Normalized parameter -1.5980253478820282e-19 for feature 0, parameter 7 is out of bounds. Capping to [0, 1].\n",
      "Warning: Normalized parameter -5.464667449591031e-18 for feature 4, parameter 7 is out of bounds. Capping to [0, 1].\n",
      "Warning: Normalized parameter -1.5980253478820282e-19 for feature 0, parameter 7 is out of bounds. Capping to [0, 1].\n",
      "Warning: Normalized parameter -5.464667449591031e-18 for feature 4, parameter 7 is out of bounds. Capping to [0, 1].\n",
      "Warning: Normalized parameter -3.988763012783674e-18 for feature 4, parameter 7 is out of bounds. Capping to [0, 1].\n",
      "Warning: Normalized parameter -1.5606547310342445e-18 for feature 4, parameter 7 is out of bounds. Capping to [0, 1].\n",
      "Warning: Normalized parameter -1.5606547310342445e-18 for feature 4, parameter 7 is out of bounds. Capping to [0, 1].\n",
      "Warning: Normalized parameter -1.5606547310342445e-18 for feature 4, parameter 7 is out of bounds. Capping to [0, 1].\n",
      "Warning: Normalized parameter -1.5980253478820282e-19 for feature 0, parameter 7 is out of bounds. Capping to [0, 1].\n",
      "Warning: Normalized parameter -5.464667449591031e-18 for feature 4, parameter 7 is out of bounds. Capping to [0, 1].\n",
      "Warning: Normalized parameter -1.5980253478820282e-19 for feature 0, parameter 7 is out of bounds. Capping to [0, 1].\n",
      "Warning: Normalized parameter -5.464667449591031e-18 for feature 4, parameter 7 is out of bounds. Capping to [0, 1].\n"
     ]
    },
    {
     "data": {
      "application/vnd.jupyter.widget-view+json": {
       "model_id": "0f0b9ebc2c1b46d987a42a3e32534418",
       "version_major": 2,
       "version_minor": 0
      },
      "text/plain": [
       "  0%|          | 0/10000 [00:00<?, ?it/s]"
      ]
     },
     "metadata": {},
     "output_type": "display_data"
    },
    {
     "name": "stdout",
     "output_type": "stream",
     "text": [
      "gld_params: [0.05541352 0.02094572 0.253349   0.11753096]\n",
      "wrapper([ 1.000e+00  7.145e-02 ...  1.000e+00  8.479e-01]) = -0.010165466494922714\n",
      "assembly_constraint_no_mean([ 1.000e+00  7.145e-02 ...  1.000e+00  8.479e-01]) = [ 1.877e-01 -2.113e-01 ...  1.023e-01  1.566e-01]\n",
      "Warning: Normalized parameter -1.5606547310342445e-18 for feature 4, parameter 7 is out of bounds. Capping to [0, 1].\n",
      "Warning: Normalized parameter -1.5980253478820282e-19 for feature 0, parameter 7 is out of bounds. Capping to [0, 1].\n",
      "Warning: Normalized parameter -5.464667449591031e-18 for feature 4, parameter 7 is out of bounds. Capping to [0, 1].\n",
      "Warning: Normalized parameter -5.464667449591031e-18 for feature 4, parameter 7 is out of bounds. Capping to [0, 1].\n",
      "Warning: Normalized parameter -3.988763012783674e-18 for feature 4, parameter 7 is out of bounds. Capping to [0, 1].\n",
      "Warning: Normalized parameter -1.5606547310342445e-18 for feature 4, parameter 7 is out of bounds. Capping to [0, 1].\n",
      "Warning: Normalized parameter -2.1765561756211724e-18 for feature 4, parameter 7 is out of bounds. Capping to [0, 1].\n",
      "Warning: Normalized parameter -2.2680032000202545e-18 for feature 4, parameter 7 is out of bounds. Capping to [0, 1].\n",
      "Warning: Normalized parameter -1.5980253478820282e-19 for feature 0, parameter 7 is out of bounds. Capping to [0, 1].\n",
      "Warning: Normalized parameter -5.464667449591031e-18 for feature 4, parameter 7 is out of bounds. Capping to [0, 1].\n",
      "Warning: Normalized parameter -1.5980253478820282e-19 for feature 0, parameter 7 is out of bounds. Capping to [0, 1].\n",
      "Warning: Normalized parameter -5.464667449591031e-18 for feature 4, parameter 7 is out of bounds. Capping to [0, 1].\n",
      "Warning: Normalized parameter -3.988763012783674e-18 for feature 4, parameter 7 is out of bounds. Capping to [0, 1].\n",
      "Warning: Normalized parameter -1.5606547310342445e-18 for feature 4, parameter 7 is out of bounds. Capping to [0, 1].\n",
      "Warning: Normalized parameter -1.5606547310342445e-18 for feature 4, parameter 7 is out of bounds. Capping to [0, 1].\n",
      "Warning: Normalized parameter -1.5606547310342445e-18 for feature 4, parameter 7 is out of bounds. Capping to [0, 1].\n",
      "Warning: Normalized parameter -1.5980253478820282e-19 for feature 0, parameter 7 is out of bounds. Capping to [0, 1].\n",
      "Warning: Normalized parameter -5.464667449591031e-18 for feature 4, parameter 7 is out of bounds. Capping to [0, 1].\n",
      "Warning: Normalized parameter -1.5980253478820282e-19 for feature 0, parameter 7 is out of bounds. Capping to [0, 1].\n",
      "Warning: Normalized parameter -5.464667449591031e-18 for feature 4, parameter 7 is out of bounds. Capping to [0, 1].\n"
     ]
    },
    {
     "data": {
      "application/vnd.jupyter.widget-view+json": {
       "model_id": "dbce6e55583441728f7b652ea26b1154",
       "version_major": 2,
       "version_minor": 0
      },
      "text/plain": [
       "  0%|          | 0/10000 [00:00<?, ?it/s]"
      ]
     },
     "metadata": {},
     "output_type": "display_data"
    },
    {
     "name": "stdout",
     "output_type": "stream",
     "text": [
      "gld_params: [0.05529894 0.02051339 0.26662594 0.12845643]\n",
      "wrapper([ 9.806e-01  0.000e+00 ...  8.566e-01  8.135e-01]) = -0.006880011089634378\n",
      "assembly_constraint_no_mean([ 9.806e-01  0.000e+00 ...  8.566e-01  8.135e-01]) = [-8.200e-02 -9.326e-02 ... -4.226e-01 -8.327e-01]\n",
      "Warning: Normalized parameter -1.5606547310342445e-18 for feature 4, parameter 7 is out of bounds. Capping to [0, 1].\n",
      "Warning: Normalized parameter -1.5980253478820282e-19 for feature 0, parameter 7 is out of bounds. Capping to [0, 1].\n",
      "Warning: Normalized parameter -5.464667449591031e-18 for feature 4, parameter 7 is out of bounds. Capping to [0, 1].\n",
      "Warning: Normalized parameter -5.464667449591031e-18 for feature 4, parameter 7 is out of bounds. Capping to [0, 1].\n",
      "Warning: Normalized parameter -3.988763012783674e-18 for feature 4, parameter 7 is out of bounds. Capping to [0, 1].\n",
      "Warning: Normalized parameter -1.5606547310342445e-18 for feature 4, parameter 7 is out of bounds. Capping to [0, 1].\n",
      "Warning: Normalized parameter -2.1765561756211724e-18 for feature 4, parameter 7 is out of bounds. Capping to [0, 1].\n",
      "Warning: Normalized parameter -2.2680032000202545e-18 for feature 4, parameter 7 is out of bounds. Capping to [0, 1].\n",
      "Warning: Normalized parameter -1.5980253478820282e-19 for feature 0, parameter 7 is out of bounds. Capping to [0, 1].\n",
      "Warning: Normalized parameter -5.464667449591031e-18 for feature 4, parameter 7 is out of bounds. Capping to [0, 1].\n",
      "Warning: Normalized parameter -1.5980253478820282e-19 for feature 0, parameter 7 is out of bounds. Capping to [0, 1].\n",
      "Warning: Normalized parameter -5.464667449591031e-18 for feature 4, parameter 7 is out of bounds. Capping to [0, 1].\n",
      "Warning: Normalized parameter -3.988763012783674e-18 for feature 4, parameter 7 is out of bounds. Capping to [0, 1].\n",
      "Warning: Normalized parameter -1.5606547310342445e-18 for feature 4, parameter 7 is out of bounds. Capping to [0, 1].\n",
      "Warning: Normalized parameter -1.5606547310342445e-18 for feature 4, parameter 7 is out of bounds. Capping to [0, 1].\n",
      "Warning: Normalized parameter -1.5606547310342445e-18 for feature 4, parameter 7 is out of bounds. Capping to [0, 1].\n",
      "Warning: Normalized parameter -1.5980253478820282e-19 for feature 0, parameter 7 is out of bounds. Capping to [0, 1].\n",
      "Warning: Normalized parameter -5.464667449591031e-18 for feature 4, parameter 7 is out of bounds. Capping to [0, 1].\n",
      "Warning: Normalized parameter -1.5980253478820282e-19 for feature 0, parameter 7 is out of bounds. Capping to [0, 1].\n",
      "Warning: Normalized parameter -5.464667449591031e-18 for feature 4, parameter 7 is out of bounds. Capping to [0, 1].\n"
     ]
    },
    {
     "data": {
      "application/vnd.jupyter.widget-view+json": {
       "model_id": "4cdb7e13fbe449d291ffde5d6aaa7b56",
       "version_major": 2,
       "version_minor": 0
      },
      "text/plain": [
       "  0%|          | 0/10000 [00:00<?, ?it/s]"
      ]
     },
     "metadata": {},
     "output_type": "display_data"
    },
    {
     "name": "stdout",
     "output_type": "stream",
     "text": [
      "gld_params: [0.05481598 0.02120682 0.2572342  0.12253359]\n",
      "wrapper([ 9.921e-01  8.098e-18 ...  1.000e+00  8.518e-01]) = -0.010644608453486158\n",
      "assembly_constraint_no_mean([ 9.921e-01  8.098e-18 ...  1.000e+00  8.518e-01]) = [ 1.201e-01  1.950e-02 ...  8.954e-02  1.762e-01]\n",
      "Warning: Normalized parameter -1.5606547310342445e-18 for feature 4, parameter 7 is out of bounds. Capping to [0, 1].\n",
      "Warning: Normalized parameter -1.5980253478820282e-19 for feature 0, parameter 7 is out of bounds. Capping to [0, 1].\n",
      "Warning: Normalized parameter -5.464667449591031e-18 for feature 4, parameter 7 is out of bounds. Capping to [0, 1].\n",
      "Warning: Normalized parameter -5.464667449591031e-18 for feature 4, parameter 7 is out of bounds. Capping to [0, 1].\n",
      "Warning: Normalized parameter -3.988763012783674e-18 for feature 4, parameter 7 is out of bounds. Capping to [0, 1].\n",
      "Warning: Normalized parameter -1.5606547310342445e-18 for feature 4, parameter 7 is out of bounds. Capping to [0, 1].\n",
      "Warning: Normalized parameter -2.1765561756211724e-18 for feature 4, parameter 7 is out of bounds. Capping to [0, 1].\n",
      "Warning: Normalized parameter -2.2680032000202545e-18 for feature 4, parameter 7 is out of bounds. Capping to [0, 1].\n",
      "Warning: Normalized parameter -1.5980253478820282e-19 for feature 0, parameter 7 is out of bounds. Capping to [0, 1].\n",
      "Warning: Normalized parameter -5.464667449591031e-18 for feature 4, parameter 7 is out of bounds. Capping to [0, 1].\n",
      "Warning: Normalized parameter -1.5980253478820282e-19 for feature 0, parameter 7 is out of bounds. Capping to [0, 1].\n",
      "Warning: Normalized parameter -5.464667449591031e-18 for feature 4, parameter 7 is out of bounds. Capping to [0, 1].\n",
      "Warning: Normalized parameter -3.988763012783674e-18 for feature 4, parameter 7 is out of bounds. Capping to [0, 1].\n",
      "Warning: Normalized parameter -1.5606547310342445e-18 for feature 4, parameter 7 is out of bounds. Capping to [0, 1].\n",
      "Warning: Normalized parameter -1.5606547310342445e-18 for feature 4, parameter 7 is out of bounds. Capping to [0, 1].\n",
      "Warning: Normalized parameter -1.5606547310342445e-18 for feature 4, parameter 7 is out of bounds. Capping to [0, 1].\n",
      "Warning: Normalized parameter -1.5980253478820282e-19 for feature 0, parameter 7 is out of bounds. Capping to [0, 1].\n",
      "Warning: Normalized parameter -5.464667449591031e-18 for feature 4, parameter 7 is out of bounds. Capping to [0, 1].\n",
      "Warning: Normalized parameter -1.5980253478820282e-19 for feature 0, parameter 7 is out of bounds. Capping to [0, 1].\n",
      "Warning: Normalized parameter -5.464667449591031e-18 for feature 4, parameter 7 is out of bounds. Capping to [0, 1].\n"
     ]
    },
    {
     "data": {
      "application/vnd.jupyter.widget-view+json": {
       "model_id": "dace4b7a8e6b42c98fa7ead335dd09c6",
       "version_major": 2,
       "version_minor": 0
      },
      "text/plain": [
       "  0%|          | 0/10000 [00:00<?, ?it/s]"
      ]
     },
     "metadata": {},
     "output_type": "display_data"
    },
    {
     "name": "stdout",
     "output_type": "stream",
     "text": [
      "gld_params: [0.05625229 0.02148227 0.25174111 0.13385704]\n",
      "wrapper([ 9.164e-01  4.920e-02 ...  8.839e-01  7.947e-01]) = -0.008856778154045349\n",
      "assembly_constraint_no_mean([ 9.164e-01  4.920e-02 ...  8.839e-01  7.947e-01]) = [-8.560e-01 -3.248e-01 ... -4.196e-01 -7.856e-01]\n",
      "Warning: Normalized parameter -1.5606547310342445e-18 for feature 4, parameter 7 is out of bounds. Capping to [0, 1].\n",
      "Warning: Normalized parameter -1.5980253478820282e-19 for feature 0, parameter 7 is out of bounds. Capping to [0, 1].\n",
      "Warning: Normalized parameter -5.464667449591031e-18 for feature 4, parameter 7 is out of bounds. Capping to [0, 1].\n",
      "Warning: Normalized parameter -5.464667449591031e-18 for feature 4, parameter 7 is out of bounds. Capping to [0, 1].\n",
      "Warning: Normalized parameter -3.988763012783674e-18 for feature 4, parameter 7 is out of bounds. Capping to [0, 1].\n",
      "Warning: Normalized parameter -1.5606547310342445e-18 for feature 4, parameter 7 is out of bounds. Capping to [0, 1].\n",
      "Warning: Normalized parameter -2.1765561756211724e-18 for feature 4, parameter 7 is out of bounds. Capping to [0, 1].\n",
      "Warning: Normalized parameter -2.2680032000202545e-18 for feature 4, parameter 7 is out of bounds. Capping to [0, 1].\n",
      "Warning: Normalized parameter -1.5980253478820282e-19 for feature 0, parameter 7 is out of bounds. Capping to [0, 1].\n",
      "Warning: Normalized parameter -5.464667449591031e-18 for feature 4, parameter 7 is out of bounds. Capping to [0, 1].\n",
      "Warning: Normalized parameter -1.5980253478820282e-19 for feature 0, parameter 7 is out of bounds. Capping to [0, 1].\n",
      "Warning: Normalized parameter -5.464667449591031e-18 for feature 4, parameter 7 is out of bounds. Capping to [0, 1].\n",
      "Warning: Normalized parameter -3.988763012783674e-18 for feature 4, parameter 7 is out of bounds. Capping to [0, 1].\n",
      "Warning: Normalized parameter -1.5606547310342445e-18 for feature 4, parameter 7 is out of bounds. Capping to [0, 1].\n",
      "Warning: Normalized parameter -1.5606547310342445e-18 for feature 4, parameter 7 is out of bounds. Capping to [0, 1].\n",
      "Warning: Normalized parameter -1.5606547310342445e-18 for feature 4, parameter 7 is out of bounds. Capping to [0, 1].\n",
      "Warning: Normalized parameter -1.5980253478820282e-19 for feature 0, parameter 7 is out of bounds. Capping to [0, 1].\n",
      "Warning: Normalized parameter -5.464667449591031e-18 for feature 4, parameter 7 is out of bounds. Capping to [0, 1].\n",
      "Warning: Normalized parameter -1.5980253478820282e-19 for feature 0, parameter 7 is out of bounds. Capping to [0, 1].\n",
      "Warning: Normalized parameter -5.464667449591031e-18 for feature 4, parameter 7 is out of bounds. Capping to [0, 1].\n"
     ]
    },
    {
     "data": {
      "application/vnd.jupyter.widget-view+json": {
       "model_id": "cdedf6b8006b4c42b85b4009a2b7e191",
       "version_major": 2,
       "version_minor": 0
      },
      "text/plain": [
       "  0%|          | 0/10000 [00:00<?, ?it/s]"
      ]
     },
     "metadata": {},
     "output_type": "display_data"
    },
    {
     "name": "stdout",
     "output_type": "stream",
     "text": [
      "gld_params: [0.05543175 0.02196806 0.25268016 0.13377805]\n",
      "wrapper([ 9.948e-01  5.217e-02 ...  1.000e+00  8.420e-01]) = -0.011122980031727084\n",
      "assembly_constraint_no_mean([ 9.948e-01  5.217e-02 ...  1.000e+00  8.420e-01]) = [-6.146e-02  6.628e-03 ...  1.075e-01  1.371e-01]\n",
      "Warning: Normalized parameter -1.5606547310342445e-18 for feature 4, parameter 7 is out of bounds. Capping to [0, 1].\n",
      "Warning: Normalized parameter -1.5980253478820282e-19 for feature 0, parameter 7 is out of bounds. Capping to [0, 1].\n",
      "Warning: Normalized parameter -5.464667449591031e-18 for feature 4, parameter 7 is out of bounds. Capping to [0, 1].\n",
      "Warning: Normalized parameter -5.464667449591031e-18 for feature 4, parameter 7 is out of bounds. Capping to [0, 1].\n",
      "Warning: Normalized parameter -3.988763012783674e-18 for feature 4, parameter 7 is out of bounds. Capping to [0, 1].\n",
      "Warning: Normalized parameter -1.5606547310342445e-18 for feature 4, parameter 7 is out of bounds. Capping to [0, 1].\n",
      "Warning: Normalized parameter -2.1765561756211724e-18 for feature 4, parameter 7 is out of bounds. Capping to [0, 1].\n",
      "Warning: Normalized parameter -2.2680032000202545e-18 for feature 4, parameter 7 is out of bounds. Capping to [0, 1].\n",
      "Warning: Normalized parameter -1.5980253478820282e-19 for feature 0, parameter 7 is out of bounds. Capping to [0, 1].\n",
      "Warning: Normalized parameter -5.464667449591031e-18 for feature 4, parameter 7 is out of bounds. Capping to [0, 1].\n",
      "Warning: Normalized parameter -1.5980253478820282e-19 for feature 0, parameter 7 is out of bounds. Capping to [0, 1].\n",
      "Warning: Normalized parameter -5.464667449591031e-18 for feature 4, parameter 7 is out of bounds. Capping to [0, 1].\n",
      "Warning: Normalized parameter -3.988763012783674e-18 for feature 4, parameter 7 is out of bounds. Capping to [0, 1].\n",
      "Warning: Normalized parameter -1.5606547310342445e-18 for feature 4, parameter 7 is out of bounds. Capping to [0, 1].\n",
      "Warning: Normalized parameter -1.5606547310342445e-18 for feature 4, parameter 7 is out of bounds. Capping to [0, 1].\n",
      "Warning: Normalized parameter -1.5606547310342445e-18 for feature 4, parameter 7 is out of bounds. Capping to [0, 1].\n",
      "Warning: Normalized parameter -1.5980253478820282e-19 for feature 0, parameter 7 is out of bounds. Capping to [0, 1].\n",
      "Warning: Normalized parameter -5.464667449591031e-18 for feature 4, parameter 7 is out of bounds. Capping to [0, 1].\n",
      "Warning: Normalized parameter -1.5980253478820282e-19 for feature 0, parameter 7 is out of bounds. Capping to [0, 1].\n",
      "Warning: Normalized parameter -5.464667449591031e-18 for feature 4, parameter 7 is out of bounds. Capping to [0, 1].\n"
     ]
    },
    {
     "data": {
      "application/vnd.jupyter.widget-view+json": {
       "model_id": "22a88cd5d0514e8eb7396aa6e13f159e",
       "version_major": 2,
       "version_minor": 0
      },
      "text/plain": [
       "  0%|          | 0/10000 [00:00<?, ?it/s]"
      ]
     },
     "metadata": {},
     "output_type": "display_data"
    },
    {
     "name": "stdout",
     "output_type": "stream",
     "text": [
      "gld_params: [0.05615967 0.02026065 0.25903151 0.11633078]\n",
      "wrapper([ 9.053e-01  0.000e+00 ...  9.310e-01  9.381e-01]) = -0.007335860141198976\n",
      "assembly_constraint_no_mean([ 9.053e-01  0.000e+00 ...  9.310e-01  9.381e-01]) = [-8.050e-01 -2.305e-02 ... -2.316e-02  2.867e-01]\n",
      "Warning: Normalized parameter -1.5606547310342445e-18 for feature 4, parameter 7 is out of bounds. Capping to [0, 1].\n",
      "Warning: Normalized parameter -1.5980253478820282e-19 for feature 0, parameter 7 is out of bounds. Capping to [0, 1].\n",
      "Warning: Normalized parameter -5.464667449591031e-18 for feature 4, parameter 7 is out of bounds. Capping to [0, 1].\n",
      "Warning: Normalized parameter -5.464667449591031e-18 for feature 4, parameter 7 is out of bounds. Capping to [0, 1].\n",
      "Warning: Normalized parameter -3.988763012783674e-18 for feature 4, parameter 7 is out of bounds. Capping to [0, 1].\n",
      "Warning: Normalized parameter -1.5606547310342445e-18 for feature 4, parameter 7 is out of bounds. Capping to [0, 1].\n",
      "Warning: Normalized parameter -2.1765561756211724e-18 for feature 4, parameter 7 is out of bounds. Capping to [0, 1].\n",
      "Warning: Normalized parameter -2.2680032000202545e-18 for feature 4, parameter 7 is out of bounds. Capping to [0, 1].\n",
      "Warning: Normalized parameter -1.5980253478820282e-19 for feature 0, parameter 7 is out of bounds. Capping to [0, 1].\n",
      "Warning: Normalized parameter -5.464667449591031e-18 for feature 4, parameter 7 is out of bounds. Capping to [0, 1].\n",
      "Warning: Normalized parameter -1.5980253478820282e-19 for feature 0, parameter 7 is out of bounds. Capping to [0, 1].\n",
      "Warning: Normalized parameter -5.464667449591031e-18 for feature 4, parameter 7 is out of bounds. Capping to [0, 1].\n",
      "Warning: Normalized parameter -3.988763012783674e-18 for feature 4, parameter 7 is out of bounds. Capping to [0, 1].\n",
      "Warning: Normalized parameter -1.5606547310342445e-18 for feature 4, parameter 7 is out of bounds. Capping to [0, 1].\n",
      "Warning: Normalized parameter -1.5606547310342445e-18 for feature 4, parameter 7 is out of bounds. Capping to [0, 1].\n",
      "Warning: Normalized parameter -1.5606547310342445e-18 for feature 4, parameter 7 is out of bounds. Capping to [0, 1].\n",
      "Warning: Normalized parameter -1.5980253478820282e-19 for feature 0, parameter 7 is out of bounds. Capping to [0, 1].\n",
      "Warning: Normalized parameter -5.464667449591031e-18 for feature 4, parameter 7 is out of bounds. Capping to [0, 1].\n",
      "Warning: Normalized parameter -1.5980253478820282e-19 for feature 0, parameter 7 is out of bounds. Capping to [0, 1].\n",
      "Warning: Normalized parameter -5.464667449591031e-18 for feature 4, parameter 7 is out of bounds. Capping to [0, 1].\n"
     ]
    },
    {
     "data": {
      "application/vnd.jupyter.widget-view+json": {
       "model_id": "796897cbd8f04298ae6f393f51c4e96f",
       "version_major": 2,
       "version_minor": 0
      },
      "text/plain": [
       "  0%|          | 0/10000 [00:00<?, ?it/s]"
      ]
     },
     "metadata": {},
     "output_type": "display_data"
    },
    {
     "name": "stdout",
     "output_type": "stream",
     "text": [
      "gld_params: [0.05555409 0.02187988 0.25238587 0.13278531]\n",
      "wrapper([ 9.987e-01  5.389e-02 ...  1.000e+00  8.389e-01]) = -0.010865742561848591\n",
      "assembly_constraint_no_mean([ 9.987e-01  5.389e-02 ...  1.000e+00  8.389e-01]) = [-2.444e-02 -1.336e-02 ...  7.316e-02  1.225e-01]\n",
      "Warning: Normalized parameter -1.5606547310342445e-18 for feature 4, parameter 7 is out of bounds. Capping to [0, 1].\n",
      "Warning: Normalized parameter -1.5980253478820282e-19 for feature 0, parameter 7 is out of bounds. Capping to [0, 1].\n",
      "Warning: Normalized parameter -5.464667449591031e-18 for feature 4, parameter 7 is out of bounds. Capping to [0, 1].\n",
      "Warning: Normalized parameter -5.464667449591031e-18 for feature 4, parameter 7 is out of bounds. Capping to [0, 1].\n",
      "Warning: Normalized parameter -3.988763012783674e-18 for feature 4, parameter 7 is out of bounds. Capping to [0, 1].\n",
      "Warning: Normalized parameter -1.5606547310342445e-18 for feature 4, parameter 7 is out of bounds. Capping to [0, 1].\n",
      "Warning: Normalized parameter -2.1765561756211724e-18 for feature 4, parameter 7 is out of bounds. Capping to [0, 1].\n",
      "Warning: Normalized parameter -2.2680032000202545e-18 for feature 4, parameter 7 is out of bounds. Capping to [0, 1].\n",
      "Warning: Normalized parameter -1.5980253478820282e-19 for feature 0, parameter 7 is out of bounds. Capping to [0, 1].\n",
      "Warning: Normalized parameter -5.464667449591031e-18 for feature 4, parameter 7 is out of bounds. Capping to [0, 1].\n",
      "Warning: Normalized parameter -1.5980253478820282e-19 for feature 0, parameter 7 is out of bounds. Capping to [0, 1].\n",
      "Warning: Normalized parameter -5.464667449591031e-18 for feature 4, parameter 7 is out of bounds. Capping to [0, 1].\n",
      "Warning: Normalized parameter -3.988763012783674e-18 for feature 4, parameter 7 is out of bounds. Capping to [0, 1].\n",
      "Warning: Normalized parameter -1.5606547310342445e-18 for feature 4, parameter 7 is out of bounds. Capping to [0, 1].\n",
      "Warning: Normalized parameter -1.5606547310342445e-18 for feature 4, parameter 7 is out of bounds. Capping to [0, 1].\n",
      "Warning: Normalized parameter -1.5606547310342445e-18 for feature 4, parameter 7 is out of bounds. Capping to [0, 1].\n",
      "Warning: Normalized parameter -1.5980253478820282e-19 for feature 0, parameter 7 is out of bounds. Capping to [0, 1].\n",
      "Warning: Normalized parameter -5.464667449591031e-18 for feature 4, parameter 7 is out of bounds. Capping to [0, 1].\n",
      "Warning: Normalized parameter -1.5980253478820282e-19 for feature 0, parameter 7 is out of bounds. Capping to [0, 1].\n",
      "Warning: Normalized parameter -5.464667449591031e-18 for feature 4, parameter 7 is out of bounds. Capping to [0, 1].\n"
     ]
    },
    {
     "data": {
      "application/vnd.jupyter.widget-view+json": {
       "model_id": "5f4eab2284264caa94032ce783ed67d1",
       "version_major": 2,
       "version_minor": 0
      },
      "text/plain": [
       "  0%|          | 0/10000 [00:00<?, ?it/s]"
      ]
     },
     "metadata": {},
     "output_type": "display_data"
    },
    {
     "name": "stdout",
     "output_type": "stream",
     "text": [
      "gld_params: [0.0547665  0.02007426 0.27130671 0.11582524]\n",
      "wrapper([ 1.000e+00  1.441e-03 ...  8.878e-01  9.443e-01]) = -0.007348146182610653\n",
      "assembly_constraint_no_mean([ 1.000e+00  1.441e-03 ...  8.878e-01  9.443e-01]) = [ 1.997e-01 -6.440e-02 ... -1.075e+00  9.871e-02]\n",
      "Warning: Normalized parameter -1.5606547310342445e-18 for feature 4, parameter 7 is out of bounds. Capping to [0, 1].\n",
      "Warning: Normalized parameter -1.5980253478820282e-19 for feature 0, parameter 7 is out of bounds. Capping to [0, 1].\n",
      "Warning: Normalized parameter -5.464667449591031e-18 for feature 4, parameter 7 is out of bounds. Capping to [0, 1].\n",
      "Warning: Normalized parameter -5.464667449591031e-18 for feature 4, parameter 7 is out of bounds. Capping to [0, 1].\n",
      "Warning: Normalized parameter -3.988763012783674e-18 for feature 4, parameter 7 is out of bounds. Capping to [0, 1].\n",
      "Warning: Normalized parameter -1.5606547310342445e-18 for feature 4, parameter 7 is out of bounds. Capping to [0, 1].\n",
      "Warning: Normalized parameter -2.1765561756211724e-18 for feature 4, parameter 7 is out of bounds. Capping to [0, 1].\n",
      "Warning: Normalized parameter -2.2680032000202545e-18 for feature 4, parameter 7 is out of bounds. Capping to [0, 1].\n",
      "Warning: Normalized parameter -1.5980253478820282e-19 for feature 0, parameter 7 is out of bounds. Capping to [0, 1].\n",
      "Warning: Normalized parameter -5.464667449591031e-18 for feature 4, parameter 7 is out of bounds. Capping to [0, 1].\n",
      "Warning: Normalized parameter -1.5980253478820282e-19 for feature 0, parameter 7 is out of bounds. Capping to [0, 1].\n",
      "Warning: Normalized parameter -5.464667449591031e-18 for feature 4, parameter 7 is out of bounds. Capping to [0, 1].\n",
      "Warning: Normalized parameter -3.988763012783674e-18 for feature 4, parameter 7 is out of bounds. Capping to [0, 1].\n",
      "Warning: Normalized parameter -1.5606547310342445e-18 for feature 4, parameter 7 is out of bounds. Capping to [0, 1].\n",
      "Warning: Normalized parameter -1.5606547310342445e-18 for feature 4, parameter 7 is out of bounds. Capping to [0, 1].\n",
      "Warning: Normalized parameter -1.5606547310342445e-18 for feature 4, parameter 7 is out of bounds. Capping to [0, 1].\n",
      "Warning: Normalized parameter -1.5980253478820282e-19 for feature 0, parameter 7 is out of bounds. Capping to [0, 1].\n",
      "Warning: Normalized parameter -5.464667449591031e-18 for feature 4, parameter 7 is out of bounds. Capping to [0, 1].\n",
      "Warning: Normalized parameter -1.5980253478820282e-19 for feature 0, parameter 7 is out of bounds. Capping to [0, 1].\n",
      "Warning: Normalized parameter -5.464667449591031e-18 for feature 4, parameter 7 is out of bounds. Capping to [0, 1].\n"
     ]
    },
    {
     "data": {
      "application/vnd.jupyter.widget-view+json": {
       "model_id": "8267734c95e24b378d25f9e436e4aeb9",
       "version_major": 2,
       "version_minor": 0
      },
      "text/plain": [
       "  0%|          | 0/10000 [00:00<?, ?it/s]"
      ]
     },
     "metadata": {},
     "output_type": "display_data"
    },
    {
     "name": "stdout",
     "output_type": "stream",
     "text": [
      "gld_params: [0.05526411 0.02184581 0.25644821 0.13377469]\n",
      "wrapper([ 9.892e-01  1.261e-02 ...  1.000e+00  8.528e-01]) = -0.010612370886305077\n",
      "assembly_constraint_no_mean([ 9.892e-01  1.261e-02 ...  1.000e+00  8.528e-01]) = [-7.186e-02 -5.189e-02 ...  1.006e-01  1.935e-01]\n",
      "Warning: Normalized parameter -1.5606547310342445e-18 for feature 4, parameter 7 is out of bounds. Capping to [0, 1].\n",
      "Warning: Normalized parameter -1.5980253478820282e-19 for feature 0, parameter 7 is out of bounds. Capping to [0, 1].\n",
      "Warning: Normalized parameter -5.464667449591031e-18 for feature 4, parameter 7 is out of bounds. Capping to [0, 1].\n",
      "Warning: Normalized parameter -5.464667449591031e-18 for feature 4, parameter 7 is out of bounds. Capping to [0, 1].\n",
      "Warning: Normalized parameter -3.988763012783674e-18 for feature 4, parameter 7 is out of bounds. Capping to [0, 1].\n",
      "Warning: Normalized parameter -1.5606547310342445e-18 for feature 4, parameter 7 is out of bounds. Capping to [0, 1].\n",
      "Warning: Normalized parameter -2.1765561756211724e-18 for feature 4, parameter 7 is out of bounds. Capping to [0, 1].\n",
      "Warning: Normalized parameter -2.2680032000202545e-18 for feature 4, parameter 7 is out of bounds. Capping to [0, 1].\n",
      "Warning: Normalized parameter -1.5980253478820282e-19 for feature 0, parameter 7 is out of bounds. Capping to [0, 1].\n",
      "Warning: Normalized parameter -5.464667449591031e-18 for feature 4, parameter 7 is out of bounds. Capping to [0, 1].\n",
      "Warning: Normalized parameter -1.5980253478820282e-19 for feature 0, parameter 7 is out of bounds. Capping to [0, 1].\n",
      "Warning: Normalized parameter -5.464667449591031e-18 for feature 4, parameter 7 is out of bounds. Capping to [0, 1].\n",
      "Warning: Normalized parameter -3.988763012783674e-18 for feature 4, parameter 7 is out of bounds. Capping to [0, 1].\n",
      "Warning: Normalized parameter -1.5606547310342445e-18 for feature 4, parameter 7 is out of bounds. Capping to [0, 1].\n",
      "Warning: Normalized parameter -1.5606547310342445e-18 for feature 4, parameter 7 is out of bounds. Capping to [0, 1].\n",
      "Warning: Normalized parameter -1.5606547310342445e-18 for feature 4, parameter 7 is out of bounds. Capping to [0, 1].\n",
      "Warning: Normalized parameter -1.5980253478820282e-19 for feature 0, parameter 7 is out of bounds. Capping to [0, 1].\n",
      "Warning: Normalized parameter -5.464667449591031e-18 for feature 4, parameter 7 is out of bounds. Capping to [0, 1].\n",
      "Warning: Normalized parameter -1.5980253478820282e-19 for feature 0, parameter 7 is out of bounds. Capping to [0, 1].\n",
      "Warning: Normalized parameter -5.464667449591031e-18 for feature 4, parameter 7 is out of bounds. Capping to [0, 1].\n"
     ]
    },
    {
     "data": {
      "application/vnd.jupyter.widget-view+json": {
       "model_id": "4012fdb3fe7940fca2c99b14fd3bea17",
       "version_major": 2,
       "version_minor": 0
      },
      "text/plain": [
       "  0%|          | 0/10000 [00:00<?, ?it/s]"
      ]
     },
     "metadata": {},
     "output_type": "display_data"
    },
    {
     "name": "stdout",
     "output_type": "stream",
     "text": [
      "gld_params: [0.05504669 0.02099308 0.25844178 0.12040606]\n",
      "wrapper([ 8.394e-01  1.315e-02 ...  9.090e-01  9.371e-01]) = -0.009921019897264455\n",
      "assembly_constraint_no_mean([ 8.394e-01  1.315e-02 ...  9.090e-01  9.371e-01]) = [-1.514e+00  5.112e-01 ...  4.075e-01  5.602e-02]\n",
      "Warning: Normalized parameter -1.5606547310342445e-18 for feature 4, parameter 7 is out of bounds. Capping to [0, 1].\n",
      "Warning: Normalized parameter -1.5980253478820282e-19 for feature 0, parameter 7 is out of bounds. Capping to [0, 1].\n",
      "Warning: Normalized parameter -5.464667449591031e-18 for feature 4, parameter 7 is out of bounds. Capping to [0, 1].\n",
      "Warning: Normalized parameter -5.464667449591031e-18 for feature 4, parameter 7 is out of bounds. Capping to [0, 1].\n",
      "Warning: Normalized parameter -3.988763012783674e-18 for feature 4, parameter 7 is out of bounds. Capping to [0, 1].\n",
      "Warning: Normalized parameter -1.5606547310342445e-18 for feature 4, parameter 7 is out of bounds. Capping to [0, 1].\n",
      "Warning: Normalized parameter -2.1765561756211724e-18 for feature 4, parameter 7 is out of bounds. Capping to [0, 1].\n",
      "Warning: Normalized parameter -2.2680032000202545e-18 for feature 4, parameter 7 is out of bounds. Capping to [0, 1].\n",
      "Warning: Normalized parameter -1.5980253478820282e-19 for feature 0, parameter 7 is out of bounds. Capping to [0, 1].\n",
      "Warning: Normalized parameter -5.464667449591031e-18 for feature 4, parameter 7 is out of bounds. Capping to [0, 1].\n",
      "Warning: Normalized parameter -1.5980253478820282e-19 for feature 0, parameter 7 is out of bounds. Capping to [0, 1].\n",
      "Warning: Normalized parameter -5.464667449591031e-18 for feature 4, parameter 7 is out of bounds. Capping to [0, 1].\n",
      "Warning: Normalized parameter -3.988763012783674e-18 for feature 4, parameter 7 is out of bounds. Capping to [0, 1].\n",
      "Warning: Normalized parameter -1.5606547310342445e-18 for feature 4, parameter 7 is out of bounds. Capping to [0, 1].\n",
      "Warning: Normalized parameter -1.5606547310342445e-18 for feature 4, parameter 7 is out of bounds. Capping to [0, 1].\n",
      "Warning: Normalized parameter -1.5606547310342445e-18 for feature 4, parameter 7 is out of bounds. Capping to [0, 1].\n",
      "Warning: Normalized parameter -1.5980253478820282e-19 for feature 0, parameter 7 is out of bounds. Capping to [0, 1].\n",
      "Warning: Normalized parameter -5.464667449591031e-18 for feature 4, parameter 7 is out of bounds. Capping to [0, 1].\n",
      "Warning: Normalized parameter -1.5980253478820282e-19 for feature 0, parameter 7 is out of bounds. Capping to [0, 1].\n",
      "Warning: Normalized parameter -5.464667449591031e-18 for feature 4, parameter 7 is out of bounds. Capping to [0, 1].\n"
     ]
    },
    {
     "data": {
      "application/vnd.jupyter.widget-view+json": {
       "model_id": "30dc8121aa994903af545f921d616da8",
       "version_major": 2,
       "version_minor": 0
      },
      "text/plain": [
       "  0%|          | 0/10000 [00:00<?, ?it/s]"
      ]
     },
     "metadata": {},
     "output_type": "display_data"
    },
    {
     "name": "stdout",
     "output_type": "stream",
     "text": [
      "gld_params: [0.05499969 0.0217967  0.25756117 0.13033691]\n",
      "wrapper([ 9.796e-01  4.982e-17 ...  1.000e+00  8.521e-01]) = -0.01114993353640863\n",
      "assembly_constraint_no_mean([ 9.796e-01  4.982e-17 ...  1.000e+00  8.521e-01]) = [-1.291e-01  2.544e-02 ...  1.624e-01  1.852e-01]\n",
      "Warning: Normalized parameter -1.5606547310342445e-18 for feature 4, parameter 7 is out of bounds. Capping to [0, 1].\n",
      "Warning: Normalized parameter -1.5980253478820282e-19 for feature 0, parameter 7 is out of bounds. Capping to [0, 1].\n",
      "Warning: Normalized parameter -5.464667449591031e-18 for feature 4, parameter 7 is out of bounds. Capping to [0, 1].\n",
      "Warning: Normalized parameter -5.464667449591031e-18 for feature 4, parameter 7 is out of bounds. Capping to [0, 1].\n",
      "Warning: Normalized parameter -3.988763012783674e-18 for feature 4, parameter 7 is out of bounds. Capping to [0, 1].\n",
      "Warning: Normalized parameter -1.5606547310342445e-18 for feature 4, parameter 7 is out of bounds. Capping to [0, 1].\n",
      "Warning: Normalized parameter -2.1765561756211724e-18 for feature 4, parameter 7 is out of bounds. Capping to [0, 1].\n",
      "Warning: Normalized parameter -2.2680032000202545e-18 for feature 4, parameter 7 is out of bounds. Capping to [0, 1].\n",
      "Warning: Normalized parameter -1.5980253478820282e-19 for feature 0, parameter 7 is out of bounds. Capping to [0, 1].\n",
      "Warning: Normalized parameter -5.464667449591031e-18 for feature 4, parameter 7 is out of bounds. Capping to [0, 1].\n",
      "Warning: Normalized parameter -1.5980253478820282e-19 for feature 0, parameter 7 is out of bounds. Capping to [0, 1].\n",
      "Warning: Normalized parameter -5.464667449591031e-18 for feature 4, parameter 7 is out of bounds. Capping to [0, 1].\n",
      "Warning: Normalized parameter -3.988763012783674e-18 for feature 4, parameter 7 is out of bounds. Capping to [0, 1].\n",
      "Warning: Normalized parameter -1.5606547310342445e-18 for feature 4, parameter 7 is out of bounds. Capping to [0, 1].\n",
      "Warning: Normalized parameter -1.5606547310342445e-18 for feature 4, parameter 7 is out of bounds. Capping to [0, 1].\n",
      "Warning: Normalized parameter -1.5606547310342445e-18 for feature 4, parameter 7 is out of bounds. Capping to [0, 1].\n",
      "Warning: Normalized parameter -1.5980253478820282e-19 for feature 0, parameter 7 is out of bounds. Capping to [0, 1].\n",
      "Warning: Normalized parameter -5.464667449591031e-18 for feature 4, parameter 7 is out of bounds. Capping to [0, 1].\n",
      "Warning: Normalized parameter -1.5980253478820282e-19 for feature 0, parameter 7 is out of bounds. Capping to [0, 1].\n",
      "Warning: Normalized parameter -5.464667449591031e-18 for feature 4, parameter 7 is out of bounds. Capping to [0, 1].\n"
     ]
    },
    {
     "data": {
      "application/vnd.jupyter.widget-view+json": {
       "model_id": "b371c7e26ae540c9aa76e436f5f698fe",
       "version_major": 2,
       "version_minor": 0
      },
      "text/plain": [
       "  0%|          | 0/10000 [00:00<?, ?it/s]"
      ]
     },
     "metadata": {},
     "output_type": "display_data"
    },
    {
     "name": "stdout",
     "output_type": "stream",
     "text": [
      "gld_params: [0.05705374 0.01986308 0.25861855 0.12029394]\n",
      "wrapper([ 9.250e-01  0.000e+00 ...  8.906e-01  8.482e-01]) = -0.005407920306667836\n",
      "assembly_constraint_no_mean([ 9.250e-01  0.000e+00 ...  8.906e-01  8.482e-01]) = [-6.849e-01 -3.999e-01 ... -7.677e-01 -5.118e-01]\n",
      "Warning: Normalized parameter -1.5606547310342445e-18 for feature 4, parameter 7 is out of bounds. Capping to [0, 1].\n",
      "Warning: Normalized parameter -1.5980253478820282e-19 for feature 0, parameter 7 is out of bounds. Capping to [0, 1].\n",
      "Warning: Normalized parameter -5.464667449591031e-18 for feature 4, parameter 7 is out of bounds. Capping to [0, 1].\n",
      "Warning: Normalized parameter -5.464667449591031e-18 for feature 4, parameter 7 is out of bounds. Capping to [0, 1].\n",
      "Warning: Normalized parameter -3.988763012783674e-18 for feature 4, parameter 7 is out of bounds. Capping to [0, 1].\n",
      "Warning: Normalized parameter -1.5606547310342445e-18 for feature 4, parameter 7 is out of bounds. Capping to [0, 1].\n",
      "Warning: Normalized parameter -2.1765561756211724e-18 for feature 4, parameter 7 is out of bounds. Capping to [0, 1].\n",
      "Warning: Normalized parameter -2.2680032000202545e-18 for feature 4, parameter 7 is out of bounds. Capping to [0, 1].\n",
      "Warning: Normalized parameter -1.5980253478820282e-19 for feature 0, parameter 7 is out of bounds. Capping to [0, 1].\n",
      "Warning: Normalized parameter -5.464667449591031e-18 for feature 4, parameter 7 is out of bounds. Capping to [0, 1].\n",
      "Warning: Normalized parameter -1.5980253478820282e-19 for feature 0, parameter 7 is out of bounds. Capping to [0, 1].\n",
      "Warning: Normalized parameter -5.464667449591031e-18 for feature 4, parameter 7 is out of bounds. Capping to [0, 1].\n",
      "Warning: Normalized parameter -3.988763012783674e-18 for feature 4, parameter 7 is out of bounds. Capping to [0, 1].\n",
      "Warning: Normalized parameter -1.5606547310342445e-18 for feature 4, parameter 7 is out of bounds. Capping to [0, 1].\n",
      "Warning: Normalized parameter -1.5606547310342445e-18 for feature 4, parameter 7 is out of bounds. Capping to [0, 1].\n",
      "Warning: Normalized parameter -1.5606547310342445e-18 for feature 4, parameter 7 is out of bounds. Capping to [0, 1].\n",
      "Warning: Normalized parameter -1.5980253478820282e-19 for feature 0, parameter 7 is out of bounds. Capping to [0, 1].\n",
      "Warning: Normalized parameter -5.464667449591031e-18 for feature 4, parameter 7 is out of bounds. Capping to [0, 1].\n",
      "Warning: Normalized parameter -1.5980253478820282e-19 for feature 0, parameter 7 is out of bounds. Capping to [0, 1].\n",
      "Warning: Normalized parameter -5.464667449591031e-18 for feature 4, parameter 7 is out of bounds. Capping to [0, 1].\n"
     ]
    },
    {
     "data": {
      "application/vnd.jupyter.widget-view+json": {
       "model_id": "e2aa4649f1584d34a5e5eddd3a58bf15",
       "version_major": 2,
       "version_minor": 0
      },
      "text/plain": [
       "  0%|          | 0/10000 [00:00<?, ?it/s]"
      ]
     },
     "metadata": {},
     "output_type": "display_data"
    },
    {
     "name": "stdout",
     "output_type": "stream",
     "text": [
      "gld_params: [0.05529097 0.02171875 0.25462664 0.13014113]\n",
      "wrapper([ 9.938e-01  6.263e-02 ...  1.000e+00  8.448e-01]) = -0.01084831677812512\n",
      "assembly_constraint_no_mean([ 9.938e-01  6.263e-02 ...  1.000e+00  8.448e-01]) = [-5.195e-02  5.401e-03 ...  9.688e-02  1.535e-01]\n",
      "Warning: Normalized parameter -1.5606547310342445e-18 for feature 4, parameter 7 is out of bounds. Capping to [0, 1].\n",
      "Warning: Normalized parameter -1.5980253478820282e-19 for feature 0, parameter 7 is out of bounds. Capping to [0, 1].\n",
      "Warning: Normalized parameter -5.464667449591031e-18 for feature 4, parameter 7 is out of bounds. Capping to [0, 1].\n",
      "Warning: Normalized parameter -5.464667449591031e-18 for feature 4, parameter 7 is out of bounds. Capping to [0, 1].\n",
      "Warning: Normalized parameter -3.988763012783674e-18 for feature 4, parameter 7 is out of bounds. Capping to [0, 1].\n",
      "Warning: Normalized parameter -1.5606547310342445e-18 for feature 4, parameter 7 is out of bounds. Capping to [0, 1].\n",
      "Warning: Normalized parameter -2.1765561756211724e-18 for feature 4, parameter 7 is out of bounds. Capping to [0, 1].\n",
      "Warning: Normalized parameter -2.2680032000202545e-18 for feature 4, parameter 7 is out of bounds. Capping to [0, 1].\n",
      "Warning: Normalized parameter -1.5980253478820282e-19 for feature 0, parameter 7 is out of bounds. Capping to [0, 1].\n",
      "Warning: Normalized parameter -5.464667449591031e-18 for feature 4, parameter 7 is out of bounds. Capping to [0, 1].\n",
      "Warning: Normalized parameter -1.5980253478820282e-19 for feature 0, parameter 7 is out of bounds. Capping to [0, 1].\n",
      "Warning: Normalized parameter -5.464667449591031e-18 for feature 4, parameter 7 is out of bounds. Capping to [0, 1].\n",
      "Warning: Normalized parameter -3.988763012783674e-18 for feature 4, parameter 7 is out of bounds. Capping to [0, 1].\n",
      "Warning: Normalized parameter -1.5606547310342445e-18 for feature 4, parameter 7 is out of bounds. Capping to [0, 1].\n",
      "Warning: Normalized parameter -1.5606547310342445e-18 for feature 4, parameter 7 is out of bounds. Capping to [0, 1].\n",
      "Warning: Normalized parameter -1.5606547310342445e-18 for feature 4, parameter 7 is out of bounds. Capping to [0, 1].\n",
      "Warning: Normalized parameter -1.5980253478820282e-19 for feature 0, parameter 7 is out of bounds. Capping to [0, 1].\n",
      "Warning: Normalized parameter -5.464667449591031e-18 for feature 4, parameter 7 is out of bounds. Capping to [0, 1].\n",
      "Warning: Normalized parameter -1.5980253478820282e-19 for feature 0, parameter 7 is out of bounds. Capping to [0, 1].\n",
      "Warning: Normalized parameter -5.464667449591031e-18 for feature 4, parameter 7 is out of bounds. Capping to [0, 1].\n"
     ]
    },
    {
     "data": {
      "application/vnd.jupyter.widget-view+json": {
       "model_id": "a2bd031d6f97449b9a608a52133fe034",
       "version_major": 2,
       "version_minor": 0
      },
      "text/plain": [
       "  0%|          | 0/10000 [00:00<?, ?it/s]"
      ]
     },
     "metadata": {},
     "output_type": "display_data"
    },
    {
     "name": "stdout",
     "output_type": "stream",
     "text": [
      "gld_params: [0.05574085 0.02087959 0.25417601 0.12058   ]\n",
      "wrapper([ 9.659e-01  4.517e-02 ...  9.109e-01  9.155e-01]) = -0.009179888919165567\n",
      "assembly_constraint_no_mean([ 9.659e-01  4.517e-02 ...  9.109e-01  9.155e-01]) = [-2.596e-01  4.365e-01 ... -1.400e-02  1.791e-01]\n",
      "Warning: Normalized parameter -1.5606547310342445e-18 for feature 4, parameter 7 is out of bounds. Capping to [0, 1].\n",
      "Warning: Normalized parameter -1.5980253478820282e-19 for feature 0, parameter 7 is out of bounds. Capping to [0, 1].\n",
      "Warning: Normalized parameter -5.464667449591031e-18 for feature 4, parameter 7 is out of bounds. Capping to [0, 1].\n",
      "Warning: Normalized parameter -5.464667449591031e-18 for feature 4, parameter 7 is out of bounds. Capping to [0, 1].\n",
      "Warning: Normalized parameter -3.988763012783674e-18 for feature 4, parameter 7 is out of bounds. Capping to [0, 1].\n",
      "Warning: Normalized parameter -1.5606547310342445e-18 for feature 4, parameter 7 is out of bounds. Capping to [0, 1].\n",
      "Warning: Normalized parameter -2.1765561756211724e-18 for feature 4, parameter 7 is out of bounds. Capping to [0, 1].\n",
      "Warning: Normalized parameter -2.2680032000202545e-18 for feature 4, parameter 7 is out of bounds. Capping to [0, 1].\n",
      "Warning: Normalized parameter -1.5980253478820282e-19 for feature 0, parameter 7 is out of bounds. Capping to [0, 1].\n",
      "Warning: Normalized parameter -5.464667449591031e-18 for feature 4, parameter 7 is out of bounds. Capping to [0, 1].\n",
      "Warning: Normalized parameter -1.5980253478820282e-19 for feature 0, parameter 7 is out of bounds. Capping to [0, 1].\n",
      "Warning: Normalized parameter -5.464667449591031e-18 for feature 4, parameter 7 is out of bounds. Capping to [0, 1].\n",
      "Warning: Normalized parameter -3.988763012783674e-18 for feature 4, parameter 7 is out of bounds. Capping to [0, 1].\n",
      "Warning: Normalized parameter -1.5606547310342445e-18 for feature 4, parameter 7 is out of bounds. Capping to [0, 1].\n",
      "Warning: Normalized parameter -1.5606547310342445e-18 for feature 4, parameter 7 is out of bounds. Capping to [0, 1].\n",
      "Warning: Normalized parameter -1.5606547310342445e-18 for feature 4, parameter 7 is out of bounds. Capping to [0, 1].\n",
      "Warning: Normalized parameter -1.5980253478820282e-19 for feature 0, parameter 7 is out of bounds. Capping to [0, 1].\n",
      "Warning: Normalized parameter -5.464667449591031e-18 for feature 4, parameter 7 is out of bounds. Capping to [0, 1].\n",
      "Warning: Normalized parameter -1.5980253478820282e-19 for feature 0, parameter 7 is out of bounds. Capping to [0, 1].\n",
      "Warning: Normalized parameter -5.464667449591031e-18 for feature 4, parameter 7 is out of bounds. Capping to [0, 1].\n"
     ]
    },
    {
     "data": {
      "application/vnd.jupyter.widget-view+json": {
       "model_id": "eb22cee00ff34825940cdd6097c2909b",
       "version_major": 2,
       "version_minor": 0
      },
      "text/plain": [
       "  0%|          | 0/10000 [00:00<?, ?it/s]"
      ]
     },
     "metadata": {},
     "output_type": "display_data"
    },
    {
     "name": "stdout",
     "output_type": "stream",
     "text": [
      "gld_params: [0.05537552 0.02175398 0.25438871 0.13059247]\n",
      "wrapper([ 1.000e+00  5.191e-02 ...  1.000e+00  8.302e-01]) = -0.010814563986135488\n",
      "assembly_constraint_no_mean([ 1.000e+00  5.191e-02 ...  1.000e+00  8.302e-01]) = [-8.443e-03 -1.719e-03 ...  1.245e-01  1.299e-01]\n",
      "Warning: Normalized parameter -1.5606547310342445e-18 for feature 4, parameter 7 is out of bounds. Capping to [0, 1].\n",
      "Warning: Normalized parameter -1.5980253478820282e-19 for feature 0, parameter 7 is out of bounds. Capping to [0, 1].\n",
      "Warning: Normalized parameter -5.464667449591031e-18 for feature 4, parameter 7 is out of bounds. Capping to [0, 1].\n",
      "Warning: Normalized parameter -5.464667449591031e-18 for feature 4, parameter 7 is out of bounds. Capping to [0, 1].\n",
      "Warning: Normalized parameter -3.988763012783674e-18 for feature 4, parameter 7 is out of bounds. Capping to [0, 1].\n",
      "Warning: Normalized parameter -1.5606547310342445e-18 for feature 4, parameter 7 is out of bounds. Capping to [0, 1].\n",
      "Warning: Normalized parameter -2.1765561756211724e-18 for feature 4, parameter 7 is out of bounds. Capping to [0, 1].\n",
      "Warning: Normalized parameter -2.2680032000202545e-18 for feature 4, parameter 7 is out of bounds. Capping to [0, 1].\n",
      "Warning: Normalized parameter -1.5980253478820282e-19 for feature 0, parameter 7 is out of bounds. Capping to [0, 1].\n",
      "Warning: Normalized parameter -5.464667449591031e-18 for feature 4, parameter 7 is out of bounds. Capping to [0, 1].\n",
      "Warning: Normalized parameter -1.5980253478820282e-19 for feature 0, parameter 7 is out of bounds. Capping to [0, 1].\n",
      "Warning: Normalized parameter -5.464667449591031e-18 for feature 4, parameter 7 is out of bounds. Capping to [0, 1].\n",
      "Warning: Normalized parameter -3.988763012783674e-18 for feature 4, parameter 7 is out of bounds. Capping to [0, 1].\n",
      "Warning: Normalized parameter -1.5606547310342445e-18 for feature 4, parameter 7 is out of bounds. Capping to [0, 1].\n",
      "Warning: Normalized parameter -1.5606547310342445e-18 for feature 4, parameter 7 is out of bounds. Capping to [0, 1].\n",
      "Warning: Normalized parameter -1.5606547310342445e-18 for feature 4, parameter 7 is out of bounds. Capping to [0, 1].\n",
      "Warning: Normalized parameter -1.5980253478820282e-19 for feature 0, parameter 7 is out of bounds. Capping to [0, 1].\n",
      "Warning: Normalized parameter -5.464667449591031e-18 for feature 4, parameter 7 is out of bounds. Capping to [0, 1].\n",
      "Warning: Normalized parameter -1.5980253478820282e-19 for feature 0, parameter 7 is out of bounds. Capping to [0, 1].\n",
      "Warning: Normalized parameter -5.464667449591031e-18 for feature 4, parameter 7 is out of bounds. Capping to [0, 1].\n"
     ]
    },
    {
     "data": {
      "application/vnd.jupyter.widget-view+json": {
       "model_id": "e9aa1db92f0444d3a441573d1e38c182",
       "version_major": 2,
       "version_minor": 0
      },
      "text/plain": [
       "  0%|          | 0/10000 [00:00<?, ?it/s]"
      ]
     },
     "metadata": {},
     "output_type": "display_data"
    },
    {
     "name": "stdout",
     "output_type": "stream",
     "text": [
      "gld_params: [0.05632397 0.02135856 0.25142339 0.12951677]\n",
      "wrapper([ 9.764e-01  0.000e+00 ...  8.983e-01  1.000e+00]) = -0.009004445370746213\n",
      "assembly_constraint_no_mean([ 9.764e-01  0.000e+00 ...  8.983e-01  1.000e+00]) = [-4.823e-02 -5.298e-01 ...  4.339e-03  4.209e-01]\n",
      "Warning: Normalized parameter -1.5606547310342445e-18 for feature 4, parameter 7 is out of bounds. Capping to [0, 1].\n",
      "Warning: Normalized parameter -1.5980253478820282e-19 for feature 0, parameter 7 is out of bounds. Capping to [0, 1].\n",
      "Warning: Normalized parameter -5.464667449591031e-18 for feature 4, parameter 7 is out of bounds. Capping to [0, 1].\n",
      "Warning: Normalized parameter -5.464667449591031e-18 for feature 4, parameter 7 is out of bounds. Capping to [0, 1].\n",
      "Warning: Normalized parameter -3.988763012783674e-18 for feature 4, parameter 7 is out of bounds. Capping to [0, 1].\n",
      "Warning: Normalized parameter -1.5606547310342445e-18 for feature 4, parameter 7 is out of bounds. Capping to [0, 1].\n",
      "Warning: Normalized parameter -2.1765561756211724e-18 for feature 4, parameter 7 is out of bounds. Capping to [0, 1].\n",
      "Warning: Normalized parameter -2.2680032000202545e-18 for feature 4, parameter 7 is out of bounds. Capping to [0, 1].\n",
      "Warning: Normalized parameter -1.5980253478820282e-19 for feature 0, parameter 7 is out of bounds. Capping to [0, 1].\n",
      "Warning: Normalized parameter -5.464667449591031e-18 for feature 4, parameter 7 is out of bounds. Capping to [0, 1].\n",
      "Warning: Normalized parameter -1.5980253478820282e-19 for feature 0, parameter 7 is out of bounds. Capping to [0, 1].\n",
      "Warning: Normalized parameter -5.464667449591031e-18 for feature 4, parameter 7 is out of bounds. Capping to [0, 1].\n",
      "Warning: Normalized parameter -3.988763012783674e-18 for feature 4, parameter 7 is out of bounds. Capping to [0, 1].\n",
      "Warning: Normalized parameter -1.5606547310342445e-18 for feature 4, parameter 7 is out of bounds. Capping to [0, 1].\n",
      "Warning: Normalized parameter -1.5606547310342445e-18 for feature 4, parameter 7 is out of bounds. Capping to [0, 1].\n",
      "Warning: Normalized parameter -1.5606547310342445e-18 for feature 4, parameter 7 is out of bounds. Capping to [0, 1].\n",
      "Warning: Normalized parameter -1.5980253478820282e-19 for feature 0, parameter 7 is out of bounds. Capping to [0, 1].\n",
      "Warning: Normalized parameter -5.464667449591031e-18 for feature 4, parameter 7 is out of bounds. Capping to [0, 1].\n",
      "Warning: Normalized parameter -1.5980253478820282e-19 for feature 0, parameter 7 is out of bounds. Capping to [0, 1].\n",
      "Warning: Normalized parameter -5.464667449591031e-18 for feature 4, parameter 7 is out of bounds. Capping to [0, 1].\n"
     ]
    },
    {
     "data": {
      "application/vnd.jupyter.widget-view+json": {
       "model_id": "0e71ba35843e42d7a09c8f4afa264986",
       "version_major": 2,
       "version_minor": 0
      },
      "text/plain": [
       "  0%|          | 0/10000 [00:00<?, ?it/s]"
      ]
     },
     "metadata": {},
     "output_type": "display_data"
    },
    {
     "name": "stdout",
     "output_type": "stream",
     "text": [
      "gld_params: [0.05555573 0.02186613 0.2520991  0.13105514]\n",
      "wrapper([ 9.838e-01  2.039e-02 ...  1.000e+00  8.519e-01]) = -0.011083985284945778\n",
      "assembly_constraint_no_mean([ 9.838e-01  2.039e-02 ...  1.000e+00  8.519e-01]) = [-4.876e-02  5.402e-03 ...  6.967e-02  1.543e-01]\n",
      "Warning: Normalized parameter -1.5606547310342445e-18 for feature 4, parameter 7 is out of bounds. Capping to [0, 1].\n",
      "Warning: Normalized parameter -1.5980253478820282e-19 for feature 0, parameter 7 is out of bounds. Capping to [0, 1].\n",
      "Warning: Normalized parameter -5.464667449591031e-18 for feature 4, parameter 7 is out of bounds. Capping to [0, 1].\n",
      "Warning: Normalized parameter -5.464667449591031e-18 for feature 4, parameter 7 is out of bounds. Capping to [0, 1].\n",
      "Warning: Normalized parameter -3.988763012783674e-18 for feature 4, parameter 7 is out of bounds. Capping to [0, 1].\n",
      "Warning: Normalized parameter -1.5606547310342445e-18 for feature 4, parameter 7 is out of bounds. Capping to [0, 1].\n",
      "Warning: Normalized parameter -2.1765561756211724e-18 for feature 4, parameter 7 is out of bounds. Capping to [0, 1].\n",
      "Warning: Normalized parameter -2.2680032000202545e-18 for feature 4, parameter 7 is out of bounds. Capping to [0, 1].\n",
      "Warning: Normalized parameter -1.5980253478820282e-19 for feature 0, parameter 7 is out of bounds. Capping to [0, 1].\n",
      "Warning: Normalized parameter -5.464667449591031e-18 for feature 4, parameter 7 is out of bounds. Capping to [0, 1].\n",
      "Warning: Normalized parameter -1.5980253478820282e-19 for feature 0, parameter 7 is out of bounds. Capping to [0, 1].\n",
      "Warning: Normalized parameter -5.464667449591031e-18 for feature 4, parameter 7 is out of bounds. Capping to [0, 1].\n",
      "Warning: Normalized parameter -3.988763012783674e-18 for feature 4, parameter 7 is out of bounds. Capping to [0, 1].\n",
      "Warning: Normalized parameter -1.5606547310342445e-18 for feature 4, parameter 7 is out of bounds. Capping to [0, 1].\n",
      "Warning: Normalized parameter -1.5606547310342445e-18 for feature 4, parameter 7 is out of bounds. Capping to [0, 1].\n",
      "Warning: Normalized parameter -1.5606547310342445e-18 for feature 4, parameter 7 is out of bounds. Capping to [0, 1].\n",
      "Warning: Normalized parameter -1.5980253478820282e-19 for feature 0, parameter 7 is out of bounds. Capping to [0, 1].\n",
      "Warning: Normalized parameter -5.464667449591031e-18 for feature 4, parameter 7 is out of bounds. Capping to [0, 1].\n",
      "Warning: Normalized parameter -1.5980253478820282e-19 for feature 0, parameter 7 is out of bounds. Capping to [0, 1].\n",
      "Warning: Normalized parameter -5.464667449591031e-18 for feature 4, parameter 7 is out of bounds. Capping to [0, 1].\n"
     ]
    },
    {
     "data": {
      "application/vnd.jupyter.widget-view+json": {
       "model_id": "4ebabc29d9c94666ac703be7e85057a4",
       "version_major": 2,
       "version_minor": 0
      },
      "text/plain": [
       "  0%|          | 0/10000 [00:00<?, ?it/s]"
      ]
     },
     "metadata": {},
     "output_type": "display_data"
    },
    {
     "name": "stdout",
     "output_type": "stream",
     "text": [
      "gld_params: [0.05548709 0.02095096 0.2565246  0.1229691 ]\n",
      "wrapper([ 1.000e+00  5.606e-02 ...  7.906e-01  9.347e-01]) = -0.009164441750864175\n",
      "assembly_constraint_no_mean([ 1.000e+00  5.606e-02 ...  7.906e-01  9.347e-01]) = [ 3.091e-02 -2.663e-01 ...  1.678e-02 -5.307e-01]\n",
      "Warning: Normalized parameter -1.5606547310342445e-18 for feature 4, parameter 7 is out of bounds. Capping to [0, 1].\n",
      "Warning: Normalized parameter -1.5980253478820282e-19 for feature 0, parameter 7 is out of bounds. Capping to [0, 1].\n",
      "Warning: Normalized parameter -5.464667449591031e-18 for feature 4, parameter 7 is out of bounds. Capping to [0, 1].\n",
      "Warning: Normalized parameter -5.464667449591031e-18 for feature 4, parameter 7 is out of bounds. Capping to [0, 1].\n",
      "Warning: Normalized parameter -3.988763012783674e-18 for feature 4, parameter 7 is out of bounds. Capping to [0, 1].\n",
      "Warning: Normalized parameter -1.5606547310342445e-18 for feature 4, parameter 7 is out of bounds. Capping to [0, 1].\n",
      "Warning: Normalized parameter -2.1765561756211724e-18 for feature 4, parameter 7 is out of bounds. Capping to [0, 1].\n",
      "Warning: Normalized parameter -2.2680032000202545e-18 for feature 4, parameter 7 is out of bounds. Capping to [0, 1].\n",
      "Warning: Normalized parameter -1.5980253478820282e-19 for feature 0, parameter 7 is out of bounds. Capping to [0, 1].\n",
      "Warning: Normalized parameter -5.464667449591031e-18 for feature 4, parameter 7 is out of bounds. Capping to [0, 1].\n",
      "Warning: Normalized parameter -1.5980253478820282e-19 for feature 0, parameter 7 is out of bounds. Capping to [0, 1].\n",
      "Warning: Normalized parameter -5.464667449591031e-18 for feature 4, parameter 7 is out of bounds. Capping to [0, 1].\n",
      "Warning: Normalized parameter -3.988763012783674e-18 for feature 4, parameter 7 is out of bounds. Capping to [0, 1].\n",
      "Warning: Normalized parameter -1.5606547310342445e-18 for feature 4, parameter 7 is out of bounds. Capping to [0, 1].\n",
      "Warning: Normalized parameter -1.5606547310342445e-18 for feature 4, parameter 7 is out of bounds. Capping to [0, 1].\n",
      "Warning: Normalized parameter -1.5606547310342445e-18 for feature 4, parameter 7 is out of bounds. Capping to [0, 1].\n",
      "Warning: Normalized parameter -1.5980253478820282e-19 for feature 0, parameter 7 is out of bounds. Capping to [0, 1].\n",
      "Warning: Normalized parameter -5.464667449591031e-18 for feature 4, parameter 7 is out of bounds. Capping to [0, 1].\n",
      "Warning: Normalized parameter -1.5980253478820282e-19 for feature 0, parameter 7 is out of bounds. Capping to [0, 1].\n",
      "Warning: Normalized parameter -5.464667449591031e-18 for feature 4, parameter 7 is out of bounds. Capping to [0, 1].\n"
     ]
    },
    {
     "data": {
      "application/vnd.jupyter.widget-view+json": {
       "model_id": "687275263032483f8f3000c2054304df",
       "version_major": 2,
       "version_minor": 0
      },
      "text/plain": [
       "  0%|          | 0/10000 [00:00<?, ?it/s]"
      ]
     },
     "metadata": {},
     "output_type": "display_data"
    },
    {
     "name": "stdout",
     "output_type": "stream",
     "text": [
      "gld_params: [0.05522167 0.02178948 0.25542567 0.13055052]\n",
      "wrapper([ 9.909e-01  2.764e-02 ...  9.593e-01  8.945e-01]) = -0.01102134603206885\n",
      "assembly_constraint_no_mean([ 9.909e-01  2.764e-02 ...  9.593e-01  8.945e-01]) = [-6.735e-03 -1.204e-02 ...  6.390e-02  8.169e-02]\n",
      "Warning: Normalized parameter -1.5606547310342445e-18 for feature 4, parameter 7 is out of bounds. Capping to [0, 1].\n",
      "Warning: Normalized parameter -1.5980253478820282e-19 for feature 0, parameter 7 is out of bounds. Capping to [0, 1].\n",
      "Warning: Normalized parameter -5.464667449591031e-18 for feature 4, parameter 7 is out of bounds. Capping to [0, 1].\n",
      "Warning: Normalized parameter -5.464667449591031e-18 for feature 4, parameter 7 is out of bounds. Capping to [0, 1].\n",
      "Warning: Normalized parameter -3.988763012783674e-18 for feature 4, parameter 7 is out of bounds. Capping to [0, 1].\n",
      "Warning: Normalized parameter -1.5606547310342445e-18 for feature 4, parameter 7 is out of bounds. Capping to [0, 1].\n",
      "Warning: Normalized parameter -2.1765561756211724e-18 for feature 4, parameter 7 is out of bounds. Capping to [0, 1].\n",
      "Warning: Normalized parameter -2.2680032000202545e-18 for feature 4, parameter 7 is out of bounds. Capping to [0, 1].\n",
      "Warning: Normalized parameter -1.5980253478820282e-19 for feature 0, parameter 7 is out of bounds. Capping to [0, 1].\n",
      "Warning: Normalized parameter -5.464667449591031e-18 for feature 4, parameter 7 is out of bounds. Capping to [0, 1].\n",
      "Warning: Normalized parameter -1.5980253478820282e-19 for feature 0, parameter 7 is out of bounds. Capping to [0, 1].\n",
      "Warning: Normalized parameter -5.464667449591031e-18 for feature 4, parameter 7 is out of bounds. Capping to [0, 1].\n",
      "Warning: Normalized parameter -3.988763012783674e-18 for feature 4, parameter 7 is out of bounds. Capping to [0, 1].\n",
      "Warning: Normalized parameter -1.5606547310342445e-18 for feature 4, parameter 7 is out of bounds. Capping to [0, 1].\n",
      "Warning: Normalized parameter -1.5606547310342445e-18 for feature 4, parameter 7 is out of bounds. Capping to [0, 1].\n",
      "Warning: Normalized parameter -1.5606547310342445e-18 for feature 4, parameter 7 is out of bounds. Capping to [0, 1].\n",
      "Warning: Normalized parameter -1.5980253478820282e-19 for feature 0, parameter 7 is out of bounds. Capping to [0, 1].\n",
      "Warning: Normalized parameter -5.464667449591031e-18 for feature 4, parameter 7 is out of bounds. Capping to [0, 1].\n",
      "Warning: Normalized parameter -1.5980253478820282e-19 for feature 0, parameter 7 is out of bounds. Capping to [0, 1].\n",
      "Warning: Normalized parameter -5.464667449591031e-18 for feature 4, parameter 7 is out of bounds. Capping to [0, 1].\n"
     ]
    },
    {
     "data": {
      "application/vnd.jupyter.widget-view+json": {
       "model_id": "5468c716f5464af99e102642f465cf4f",
       "version_major": 2,
       "version_minor": 0
      },
      "text/plain": [
       "  0%|          | 0/10000 [00:00<?, ?it/s]"
      ]
     },
     "metadata": {},
     "output_type": "display_data"
    },
    {
     "name": "stdout",
     "output_type": "stream",
     "text": [
      "gld_params: [0.05577766 0.0200107  0.26186573 0.11226016]\n",
      "wrapper([ 1.000e+00  0.000e+00 ...  9.181e-01  9.265e-01]) = -0.007319064298065685\n",
      "assembly_constraint_no_mean([ 1.000e+00  0.000e+00 ...  9.181e-01  9.265e-01]) = [ 1.444e-01  3.174e-01 ...  4.362e-02  1.957e-01]\n",
      "Warning: Normalized parameter -1.5606547310342445e-18 for feature 4, parameter 7 is out of bounds. Capping to [0, 1].\n",
      "Warning: Normalized parameter -1.5980253478820282e-19 for feature 0, parameter 7 is out of bounds. Capping to [0, 1].\n",
      "Warning: Normalized parameter -5.464667449591031e-18 for feature 4, parameter 7 is out of bounds. Capping to [0, 1].\n",
      "Warning: Normalized parameter -5.464667449591031e-18 for feature 4, parameter 7 is out of bounds. Capping to [0, 1].\n",
      "Warning: Normalized parameter -3.988763012783674e-18 for feature 4, parameter 7 is out of bounds. Capping to [0, 1].\n",
      "Warning: Normalized parameter -1.5606547310342445e-18 for feature 4, parameter 7 is out of bounds. Capping to [0, 1].\n",
      "Warning: Normalized parameter -2.1765561756211724e-18 for feature 4, parameter 7 is out of bounds. Capping to [0, 1].\n",
      "Warning: Normalized parameter -2.2680032000202545e-18 for feature 4, parameter 7 is out of bounds. Capping to [0, 1].\n",
      "Warning: Normalized parameter -1.5980253478820282e-19 for feature 0, parameter 7 is out of bounds. Capping to [0, 1].\n",
      "Warning: Normalized parameter -5.464667449591031e-18 for feature 4, parameter 7 is out of bounds. Capping to [0, 1].\n",
      "Warning: Normalized parameter -1.5980253478820282e-19 for feature 0, parameter 7 is out of bounds. Capping to [0, 1].\n",
      "Warning: Normalized parameter -5.464667449591031e-18 for feature 4, parameter 7 is out of bounds. Capping to [0, 1].\n",
      "Warning: Normalized parameter -3.988763012783674e-18 for feature 4, parameter 7 is out of bounds. Capping to [0, 1].\n",
      "Warning: Normalized parameter -1.5606547310342445e-18 for feature 4, parameter 7 is out of bounds. Capping to [0, 1].\n",
      "Warning: Normalized parameter -1.5606547310342445e-18 for feature 4, parameter 7 is out of bounds. Capping to [0, 1].\n",
      "Warning: Normalized parameter -1.5606547310342445e-18 for feature 4, parameter 7 is out of bounds. Capping to [0, 1].\n",
      "Warning: Normalized parameter -1.5980253478820282e-19 for feature 0, parameter 7 is out of bounds. Capping to [0, 1].\n",
      "Warning: Normalized parameter -5.464667449591031e-18 for feature 4, parameter 7 is out of bounds. Capping to [0, 1].\n",
      "Warning: Normalized parameter -1.5980253478820282e-19 for feature 0, parameter 7 is out of bounds. Capping to [0, 1].\n",
      "Warning: Normalized parameter -5.464667449591031e-18 for feature 4, parameter 7 is out of bounds. Capping to [0, 1].\n"
     ]
    },
    {
     "data": {
      "application/vnd.jupyter.widget-view+json": {
       "model_id": "6a3e5117c0984f63895244214ffd27fa",
       "version_major": 2,
       "version_minor": 0
      },
      "text/plain": [
       "  0%|          | 0/10000 [00:00<?, ?it/s]"
      ]
     },
     "metadata": {},
     "output_type": "display_data"
    },
    {
     "name": "stdout",
     "output_type": "stream",
     "text": [
      "gld_params: [0.05521393 0.02177345 0.2546571  0.1305847 ]\n",
      "wrapper([ 9.906e-01  2.819e-02 ...  9.707e-01  8.867e-01]) = -0.011046241593775468\n",
      "assembly_constraint_no_mean([ 9.906e-01  2.819e-02 ...  9.707e-01  8.867e-01]) = [-9.093e-03  1.836e-03 ...  5.958e-02  1.152e-01]\n",
      "Warning: Normalized parameter -1.5606547310342445e-18 for feature 4, parameter 7 is out of bounds. Capping to [0, 1].\n",
      "Warning: Normalized parameter -5.464667449591031e-18 for feature 4, parameter 7 is out of bounds. Capping to [0, 1].\n",
      "Warning: Normalized parameter -3.988763012783674e-18 for feature 4, parameter 7 is out of bounds. Capping to [0, 1].\n",
      "Warning: Normalized parameter -1.5606547310342445e-18 for feature 4, parameter 7 is out of bounds. Capping to [0, 1].\n",
      "Warning: Normalized parameter -2.1765561756211724e-18 for feature 4, parameter 7 is out of bounds. Capping to [0, 1].\n",
      "Warning: Normalized parameter -2.2680032000202545e-18 for feature 4, parameter 7 is out of bounds. Capping to [0, 1].\n",
      "Warning: Normalized parameter -1.5980253478820282e-19 for feature 0, parameter 7 is out of bounds. Capping to [0, 1].\n",
      "Warning: Normalized parameter -5.464667449591031e-18 for feature 4, parameter 7 is out of bounds. Capping to [0, 1].\n",
      "Warning: Normalized parameter -1.5980253478820282e-19 for feature 0, parameter 7 is out of bounds. Capping to [0, 1].\n",
      "Warning: Normalized parameter -5.464667449591031e-18 for feature 4, parameter 7 is out of bounds. Capping to [0, 1].\n",
      "Warning: Normalized parameter -3.988763012783674e-18 for feature 4, parameter 7 is out of bounds. Capping to [0, 1].\n",
      "Warning: Normalized parameter -1.5606547310342445e-18 for feature 4, parameter 7 is out of bounds. Capping to [0, 1].\n",
      "Warning: Normalized parameter -1.5606547310342445e-18 for feature 4, parameter 7 is out of bounds. Capping to [0, 1].\n",
      "Warning: Normalized parameter -1.5606547310342445e-18 for feature 4, parameter 7 is out of bounds. Capping to [0, 1].\n",
      "Warning: Normalized parameter -1.5980253478820282e-19 for feature 0, parameter 7 is out of bounds. Capping to [0, 1].\n",
      "Warning: Normalized parameter -5.464667449591031e-18 for feature 4, parameter 7 is out of bounds. Capping to [0, 1].\n",
      "Warning: Normalized parameter -1.5980253478820282e-19 for feature 0, parameter 7 is out of bounds. Capping to [0, 1].\n",
      "Warning: Normalized parameter -5.464667449591031e-18 for feature 4, parameter 7 is out of bounds. Capping to [0, 1].\n"
     ]
    },
    {
     "data": {
      "application/vnd.jupyter.widget-view+json": {
       "model_id": "84d1e94ea4cc45c4b11eac93ada65970",
       "version_major": 2,
       "version_minor": 0
      },
      "text/plain": [
       "  0%|          | 0/10000 [00:00<?, ?it/s]"
      ]
     },
     "metadata": {},
     "output_type": "display_data"
    },
    {
     "name": "stdout",
     "output_type": "stream",
     "text": [
      "gld_params: [0.05441343 0.02112555 0.26404616 0.12580861]\n",
      "wrapper([ 8.694e-01  2.970e-02 ...  8.394e-01  8.542e-01]) = -0.009857747259631996\n",
      "assembly_constraint_no_mean([ 8.694e-01  2.970e-02 ...  8.394e-01  8.542e-01]) = [-1.232e+00 -6.824e-01 ...  6.667e-01 -7.230e-01]\n",
      "Warning: Normalized parameter -1.5606547310342445e-18 for feature 4, parameter 7 is out of bounds. Capping to [0, 1].\n",
      "Warning: Normalized parameter -5.464667449591031e-18 for feature 4, parameter 7 is out of bounds. Capping to [0, 1].\n",
      "Warning: Normalized parameter -3.988763012783674e-18 for feature 4, parameter 7 is out of bounds. Capping to [0, 1].\n",
      "Warning: Normalized parameter -1.5606547310342445e-18 for feature 4, parameter 7 is out of bounds. Capping to [0, 1].\n",
      "Warning: Normalized parameter -2.1765561756211724e-18 for feature 4, parameter 7 is out of bounds. Capping to [0, 1].\n",
      "Warning: Normalized parameter -2.2680032000202545e-18 for feature 4, parameter 7 is out of bounds. Capping to [0, 1].\n",
      "Warning: Normalized parameter -1.5980253478820282e-19 for feature 0, parameter 7 is out of bounds. Capping to [0, 1].\n",
      "Warning: Normalized parameter -5.464667449591031e-18 for feature 4, parameter 7 is out of bounds. Capping to [0, 1].\n",
      "Warning: Normalized parameter -1.5980253478820282e-19 for feature 0, parameter 7 is out of bounds. Capping to [0, 1].\n",
      "Warning: Normalized parameter -5.464667449591031e-18 for feature 4, parameter 7 is out of bounds. Capping to [0, 1].\n",
      "Warning: Normalized parameter -3.988763012783674e-18 for feature 4, parameter 7 is out of bounds. Capping to [0, 1].\n",
      "Warning: Normalized parameter -1.5606547310342445e-18 for feature 4, parameter 7 is out of bounds. Capping to [0, 1].\n",
      "Warning: Normalized parameter -1.5606547310342445e-18 for feature 4, parameter 7 is out of bounds. Capping to [0, 1].\n",
      "Warning: Normalized parameter -1.5606547310342445e-18 for feature 4, parameter 7 is out of bounds. Capping to [0, 1].\n",
      "Warning: Normalized parameter -1.5980253478820282e-19 for feature 0, parameter 7 is out of bounds. Capping to [0, 1].\n",
      "Warning: Normalized parameter -5.464667449591031e-18 for feature 4, parameter 7 is out of bounds. Capping to [0, 1].\n",
      "Warning: Normalized parameter -1.5980253478820282e-19 for feature 0, parameter 7 is out of bounds. Capping to [0, 1].\n",
      "Warning: Normalized parameter -5.464667449591031e-18 for feature 4, parameter 7 is out of bounds. Capping to [0, 1].\n"
     ]
    },
    {
     "data": {
      "application/vnd.jupyter.widget-view+json": {
       "model_id": "ec059d87773d4f218e46d94d328d7293",
       "version_major": 2,
       "version_minor": 0
      },
      "text/plain": [
       "  0%|          | 0/10000 [00:00<?, ?it/s]"
      ]
     },
     "metadata": {},
     "output_type": "display_data"
    },
    {
     "name": "stdout",
     "output_type": "stream",
     "text": [
      "gld_params: [0.05535689 0.02184872 0.25326732 0.1320135 ]\n",
      "wrapper([ 9.917e-01  1.327e-02 ...  9.675e-01  8.883e-01]) = -0.011034735657611929\n",
      "assembly_constraint_no_mean([ 9.917e-01  1.327e-02 ...  9.675e-01  8.883e-01]) = [ 2.244e-02  1.317e-02 ...  5.906e-02  1.019e-01]\n",
      "Warning: Normalized parameter -1.5606547310342445e-18 for feature 4, parameter 7 is out of bounds. Capping to [0, 1].\n",
      "Warning: Normalized parameter -5.464667449591031e-18 for feature 4, parameter 7 is out of bounds. Capping to [0, 1].\n",
      "Warning: Normalized parameter -3.988763012783674e-18 for feature 4, parameter 7 is out of bounds. Capping to [0, 1].\n",
      "Warning: Normalized parameter -1.5606547310342445e-18 for feature 4, parameter 7 is out of bounds. Capping to [0, 1].\n",
      "Warning: Normalized parameter -2.1765561756211724e-18 for feature 4, parameter 7 is out of bounds. Capping to [0, 1].\n",
      "Warning: Normalized parameter -2.2680032000202545e-18 for feature 4, parameter 7 is out of bounds. Capping to [0, 1].\n",
      "Warning: Normalized parameter -1.5980253478820282e-19 for feature 0, parameter 7 is out of bounds. Capping to [0, 1].\n",
      "Warning: Normalized parameter -5.464667449591031e-18 for feature 4, parameter 7 is out of bounds. Capping to [0, 1].\n",
      "Warning: Normalized parameter -1.5980253478820282e-19 for feature 0, parameter 7 is out of bounds. Capping to [0, 1].\n",
      "Warning: Normalized parameter -5.464667449591031e-18 for feature 4, parameter 7 is out of bounds. Capping to [0, 1].\n",
      "Warning: Normalized parameter -3.988763012783674e-18 for feature 4, parameter 7 is out of bounds. Capping to [0, 1].\n",
      "Warning: Normalized parameter -1.5606547310342445e-18 for feature 4, parameter 7 is out of bounds. Capping to [0, 1].\n",
      "Warning: Normalized parameter -1.5606547310342445e-18 for feature 4, parameter 7 is out of bounds. Capping to [0, 1].\n",
      "Warning: Normalized parameter -1.5606547310342445e-18 for feature 4, parameter 7 is out of bounds. Capping to [0, 1].\n",
      "Warning: Normalized parameter -1.5980253478820282e-19 for feature 0, parameter 7 is out of bounds. Capping to [0, 1].\n",
      "Warning: Normalized parameter -5.464667449591031e-18 for feature 4, parameter 7 is out of bounds. Capping to [0, 1].\n",
      "Warning: Normalized parameter -1.5980253478820282e-19 for feature 0, parameter 7 is out of bounds. Capping to [0, 1].\n",
      "Warning: Normalized parameter -5.464667449591031e-18 for feature 4, parameter 7 is out of bounds. Capping to [0, 1].\n"
     ]
    },
    {
     "data": {
      "application/vnd.jupyter.widget-view+json": {
       "model_id": "1ce7d45468d0441f9d11793418a6c730",
       "version_major": 2,
       "version_minor": 0
      },
      "text/plain": [
       "  0%|          | 0/10000 [00:00<?, ?it/s]"
      ]
     },
     "metadata": {},
     "output_type": "display_data"
    },
    {
     "name": "stdout",
     "output_type": "stream",
     "text": [
      "gld_params: [0.05482616 0.02058303 0.25798298 0.11655222]\n",
      "wrapper([ 9.370e-01  1.573e-02 ...  9.447e-01  9.583e-01]) = -0.009507841204650973\n",
      "assembly_constraint_no_mean([ 9.370e-01  1.573e-02 ...  9.447e-01  9.583e-01]) = [-5.149e-01 -5.538e-01 ... -1.024e-01  5.348e-01]\n",
      "Warning: Normalized parameter -1.5606547310342445e-18 for feature 4, parameter 7 is out of bounds. Capping to [0, 1].\n",
      "Warning: Normalized parameter -5.464667449591031e-18 for feature 4, parameter 7 is out of bounds. Capping to [0, 1].\n",
      "Warning: Normalized parameter -3.988763012783674e-18 for feature 4, parameter 7 is out of bounds. Capping to [0, 1].\n",
      "Warning: Normalized parameter -1.5606547310342445e-18 for feature 4, parameter 7 is out of bounds. Capping to [0, 1].\n",
      "Warning: Normalized parameter -2.1765561756211724e-18 for feature 4, parameter 7 is out of bounds. Capping to [0, 1].\n",
      "Warning: Normalized parameter -2.2680032000202545e-18 for feature 4, parameter 7 is out of bounds. Capping to [0, 1].\n",
      "Warning: Normalized parameter -1.5980253478820282e-19 for feature 0, parameter 7 is out of bounds. Capping to [0, 1].\n",
      "Warning: Normalized parameter -5.464667449591031e-18 for feature 4, parameter 7 is out of bounds. Capping to [0, 1].\n",
      "Warning: Normalized parameter -1.5980253478820282e-19 for feature 0, parameter 7 is out of bounds. Capping to [0, 1].\n",
      "Warning: Normalized parameter -5.464667449591031e-18 for feature 4, parameter 7 is out of bounds. Capping to [0, 1].\n",
      "Warning: Normalized parameter -3.988763012783674e-18 for feature 4, parameter 7 is out of bounds. Capping to [0, 1].\n",
      "Warning: Normalized parameter -1.5606547310342445e-18 for feature 4, parameter 7 is out of bounds. Capping to [0, 1].\n",
      "Warning: Normalized parameter -1.5606547310342445e-18 for feature 4, parameter 7 is out of bounds. Capping to [0, 1].\n",
      "Warning: Normalized parameter -1.5606547310342445e-18 for feature 4, parameter 7 is out of bounds. Capping to [0, 1].\n",
      "Warning: Normalized parameter -1.5980253478820282e-19 for feature 0, parameter 7 is out of bounds. Capping to [0, 1].\n",
      "Warning: Normalized parameter -5.464667449591031e-18 for feature 4, parameter 7 is out of bounds. Capping to [0, 1].\n",
      "Warning: Normalized parameter -1.5980253478820282e-19 for feature 0, parameter 7 is out of bounds. Capping to [0, 1].\n",
      "Warning: Normalized parameter -5.464667449591031e-18 for feature 4, parameter 7 is out of bounds. Capping to [0, 1].\n"
     ]
    },
    {
     "data": {
      "application/vnd.jupyter.widget-view+json": {
       "model_id": "eef8cc5c1c2c407e8822490f7d295ed5",
       "version_major": 2,
       "version_minor": 0
      },
      "text/plain": [
       "  0%|          | 0/10000 [00:00<?, ?it/s]"
      ]
     },
     "metadata": {},
     "output_type": "display_data"
    },
    {
     "name": "stdout",
     "output_type": "stream",
     "text": [
      "gld_params: [0.05526401 0.02182833 0.25520479 0.13105632]\n",
      "wrapper([ 9.907e-01  2.736e-02 ...  9.750e-01  8.847e-01]) = -0.011040351925959016\n",
      "assembly_constraint_no_mean([ 9.907e-01  2.736e-02 ...  9.750e-01  8.847e-01]) = [-4.353e-03 -1.295e-04 ...  8.143e-02  1.296e-01]\n",
      "Warning: Normalized parameter -1.5606547310342445e-18 for feature 4, parameter 7 is out of bounds. Capping to [0, 1].\n",
      "Warning: Normalized parameter -5.464667449591031e-18 for feature 4, parameter 7 is out of bounds. Capping to [0, 1].\n",
      "Warning: Normalized parameter -3.988763012783674e-18 for feature 4, parameter 7 is out of bounds. Capping to [0, 1].\n",
      "Warning: Normalized parameter -1.5606547310342445e-18 for feature 4, parameter 7 is out of bounds. Capping to [0, 1].\n",
      "Warning: Normalized parameter -2.1765561756211724e-18 for feature 4, parameter 7 is out of bounds. Capping to [0, 1].\n",
      "Warning: Normalized parameter -2.2680032000202545e-18 for feature 4, parameter 7 is out of bounds. Capping to [0, 1].\n",
      "Warning: Normalized parameter -1.5980253478820282e-19 for feature 0, parameter 7 is out of bounds. Capping to [0, 1].\n",
      "Warning: Normalized parameter -5.464667449591031e-18 for feature 4, parameter 7 is out of bounds. Capping to [0, 1].\n",
      "Warning: Normalized parameter -1.5980253478820282e-19 for feature 0, parameter 7 is out of bounds. Capping to [0, 1].\n",
      "Warning: Normalized parameter -5.464667449591031e-18 for feature 4, parameter 7 is out of bounds. Capping to [0, 1].\n",
      "Warning: Normalized parameter -3.988763012783674e-18 for feature 4, parameter 7 is out of bounds. Capping to [0, 1].\n",
      "Warning: Normalized parameter -1.5606547310342445e-18 for feature 4, parameter 7 is out of bounds. Capping to [0, 1].\n",
      "Warning: Normalized parameter -1.5606547310342445e-18 for feature 4, parameter 7 is out of bounds. Capping to [0, 1].\n",
      "Warning: Normalized parameter -1.5606547310342445e-18 for feature 4, parameter 7 is out of bounds. Capping to [0, 1].\n",
      "Warning: Normalized parameter -1.5980253478820282e-19 for feature 0, parameter 7 is out of bounds. Capping to [0, 1].\n",
      "Warning: Normalized parameter -5.464667449591031e-18 for feature 4, parameter 7 is out of bounds. Capping to [0, 1].\n",
      "Warning: Normalized parameter -1.5980253478820282e-19 for feature 0, parameter 7 is out of bounds. Capping to [0, 1].\n",
      "Warning: Normalized parameter -5.464667449591031e-18 for feature 4, parameter 7 is out of bounds. Capping to [0, 1].\n"
     ]
    },
    {
     "data": {
      "application/vnd.jupyter.widget-view+json": {
       "model_id": "b9adc7339cec4d12831a73d7eaecfeaa",
       "version_major": 2,
       "version_minor": 0
      },
      "text/plain": [
       "  0%|          | 0/10000 [00:00<?, ?it/s]"
      ]
     },
     "metadata": {},
     "output_type": "display_data"
    },
    {
     "name": "stdout",
     "output_type": "stream",
     "text": [
      "gld_params: [0.05499108 0.02071517 0.25971324 0.12032433]\n",
      "wrapper([ 8.496e-01  2.511e-02 ...  1.000e+00  9.784e-01]) = -0.00910549556298953\n",
      "assembly_constraint_no_mean([ 8.496e-01  2.511e-02 ...  1.000e+00  9.784e-01]) = [-1.407e+00  7.960e-01 ... -4.806e-01  8.243e-01]\n",
      "Warning: Normalized parameter -1.5606547310342445e-18 for feature 4, parameter 7 is out of bounds. Capping to [0, 1].\n",
      "Warning: Normalized parameter -5.464667449591031e-18 for feature 4, parameter 7 is out of bounds. Capping to [0, 1].\n",
      "Warning: Normalized parameter -3.988763012783674e-18 for feature 4, parameter 7 is out of bounds. Capping to [0, 1].\n",
      "Warning: Normalized parameter -1.5606547310342445e-18 for feature 4, parameter 7 is out of bounds. Capping to [0, 1].\n",
      "Warning: Normalized parameter -2.1765561756211724e-18 for feature 4, parameter 7 is out of bounds. Capping to [0, 1].\n",
      "Warning: Normalized parameter -2.2680032000202545e-18 for feature 4, parameter 7 is out of bounds. Capping to [0, 1].\n",
      "Warning: Normalized parameter -1.5980253478820282e-19 for feature 0, parameter 7 is out of bounds. Capping to [0, 1].\n",
      "Warning: Normalized parameter -5.464667449591031e-18 for feature 4, parameter 7 is out of bounds. Capping to [0, 1].\n",
      "Warning: Normalized parameter -1.5980253478820282e-19 for feature 0, parameter 7 is out of bounds. Capping to [0, 1].\n",
      "Warning: Normalized parameter -5.464667449591031e-18 for feature 4, parameter 7 is out of bounds. Capping to [0, 1].\n",
      "Warning: Normalized parameter -3.988763012783674e-18 for feature 4, parameter 7 is out of bounds. Capping to [0, 1].\n",
      "Warning: Normalized parameter -1.5606547310342445e-18 for feature 4, parameter 7 is out of bounds. Capping to [0, 1].\n",
      "Warning: Normalized parameter -1.5606547310342445e-18 for feature 4, parameter 7 is out of bounds. Capping to [0, 1].\n",
      "Warning: Normalized parameter -1.5606547310342445e-18 for feature 4, parameter 7 is out of bounds. Capping to [0, 1].\n",
      "Warning: Normalized parameter -1.5980253478820282e-19 for feature 0, parameter 7 is out of bounds. Capping to [0, 1].\n",
      "Warning: Normalized parameter -5.464667449591031e-18 for feature 4, parameter 7 is out of bounds. Capping to [0, 1].\n",
      "Warning: Normalized parameter -1.5980253478820282e-19 for feature 0, parameter 7 is out of bounds. Capping to [0, 1].\n",
      "Warning: Normalized parameter -5.464667449591031e-18 for feature 4, parameter 7 is out of bounds. Capping to [0, 1].\n"
     ]
    },
    {
     "data": {
      "application/vnd.jupyter.widget-view+json": {
       "model_id": "8cab41035dd1473e9ffa5ffdfd879418",
       "version_major": 2,
       "version_minor": 0
      },
      "text/plain": [
       "  0%|          | 0/10000 [00:00<?, ?it/s]"
      ]
     },
     "metadata": {},
     "output_type": "display_data"
    },
    {
     "name": "stdout",
     "output_type": "stream",
     "text": [
      "gld_params: [0.05515033 0.02178614 0.25589431 0.13007601]\n",
      "wrapper([ 9.889e-01  2.124e-02 ...  9.671e-01  8.920e-01]) = -0.01112041852538729\n",
      "assembly_constraint_no_mean([ 9.889e-01  2.124e-02 ...  9.671e-01  8.920e-01]) = [-1.517e-02  1.284e-02 ...  7.542e-02  1.211e-01]\n",
      "Warning: Normalized parameter -1.5606547310342445e-18 for feature 4, parameter 7 is out of bounds. Capping to [0, 1].\n",
      "Warning: Normalized parameter -5.464667449591031e-18 for feature 4, parameter 7 is out of bounds. Capping to [0, 1].\n",
      "Warning: Normalized parameter -3.988763012783674e-18 for feature 4, parameter 7 is out of bounds. Capping to [0, 1].\n",
      "Warning: Normalized parameter -1.5606547310342445e-18 for feature 4, parameter 7 is out of bounds. Capping to [0, 1].\n",
      "Warning: Normalized parameter -2.1765561756211724e-18 for feature 4, parameter 7 is out of bounds. Capping to [0, 1].\n",
      "Warning: Normalized parameter -2.2680032000202545e-18 for feature 4, parameter 7 is out of bounds. Capping to [0, 1].\n",
      "Warning: Normalized parameter -1.5980253478820282e-19 for feature 0, parameter 7 is out of bounds. Capping to [0, 1].\n",
      "Warning: Normalized parameter -5.464667449591031e-18 for feature 4, parameter 7 is out of bounds. Capping to [0, 1].\n",
      "Warning: Normalized parameter -1.5980253478820282e-19 for feature 0, parameter 7 is out of bounds. Capping to [0, 1].\n",
      "Warning: Normalized parameter -5.464667449591031e-18 for feature 4, parameter 7 is out of bounds. Capping to [0, 1].\n",
      "Warning: Normalized parameter -3.988763012783674e-18 for feature 4, parameter 7 is out of bounds. Capping to [0, 1].\n",
      "Warning: Normalized parameter -1.5606547310342445e-18 for feature 4, parameter 7 is out of bounds. Capping to [0, 1].\n",
      "Warning: Normalized parameter -1.5606547310342445e-18 for feature 4, parameter 7 is out of bounds. Capping to [0, 1].\n",
      "Warning: Normalized parameter -1.5606547310342445e-18 for feature 4, parameter 7 is out of bounds. Capping to [0, 1].\n",
      "Warning: Normalized parameter -1.5980253478820282e-19 for feature 0, parameter 7 is out of bounds. Capping to [0, 1].\n",
      "Warning: Normalized parameter -5.464667449591031e-18 for feature 4, parameter 7 is out of bounds. Capping to [0, 1].\n",
      "Warning: Normalized parameter -1.5980253478820282e-19 for feature 0, parameter 7 is out of bounds. Capping to [0, 1].\n",
      "Warning: Normalized parameter -5.464667449591031e-18 for feature 4, parameter 7 is out of bounds. Capping to [0, 1].\n"
     ]
    },
    {
     "data": {
      "application/vnd.jupyter.widget-view+json": {
       "model_id": "724f66078094448d93cf9812572496fb",
       "version_major": 2,
       "version_minor": 0
      },
      "text/plain": [
       "  0%|          | 0/10000 [00:00<?, ?it/s]"
      ]
     },
     "metadata": {},
     "output_type": "display_data"
    },
    {
     "name": "stdout",
     "output_type": "stream",
     "text": [
      "gld_params: [0.05377883 0.02139842 0.2633315  0.12126258]\n",
      "wrapper([ 1.000e+00  1.817e-03 ...  1.000e+00  9.922e-01]) = -0.012150232381134926\n",
      "assembly_constraint_no_mean([ 1.000e+00  1.817e-03 ...  1.000e+00  9.922e-01]) = [ 1.971e-01  5.028e-01 ...  5.703e-02  8.888e-01]\n",
      "Warning: Normalized parameter -1.5606547310342445e-18 for feature 4, parameter 7 is out of bounds. Capping to [0, 1].\n",
      "Warning: Normalized parameter -5.464667449591031e-18 for feature 4, parameter 7 is out of bounds. Capping to [0, 1].\n",
      "Warning: Normalized parameter -3.988763012783674e-18 for feature 4, parameter 7 is out of bounds. Capping to [0, 1].\n",
      "Warning: Normalized parameter -1.5606547310342445e-18 for feature 4, parameter 7 is out of bounds. Capping to [0, 1].\n",
      "Warning: Normalized parameter -2.1765561756211724e-18 for feature 4, parameter 7 is out of bounds. Capping to [0, 1].\n",
      "Warning: Normalized parameter -2.2680032000202545e-18 for feature 4, parameter 7 is out of bounds. Capping to [0, 1].\n",
      "Warning: Normalized parameter -1.5980253478820282e-19 for feature 0, parameter 7 is out of bounds. Capping to [0, 1].\n",
      "Warning: Normalized parameter -5.464667449591031e-18 for feature 4, parameter 7 is out of bounds. Capping to [0, 1].\n",
      "Warning: Normalized parameter -1.5980253478820282e-19 for feature 0, parameter 7 is out of bounds. Capping to [0, 1].\n",
      "Warning: Normalized parameter -5.464667449591031e-18 for feature 4, parameter 7 is out of bounds. Capping to [0, 1].\n",
      "Warning: Normalized parameter -3.988763012783674e-18 for feature 4, parameter 7 is out of bounds. Capping to [0, 1].\n",
      "Warning: Normalized parameter -1.5606547310342445e-18 for feature 4, parameter 7 is out of bounds. Capping to [0, 1].\n",
      "Warning: Normalized parameter -1.5606547310342445e-18 for feature 4, parameter 7 is out of bounds. Capping to [0, 1].\n",
      "Warning: Normalized parameter -1.5606547310342445e-18 for feature 4, parameter 7 is out of bounds. Capping to [0, 1].\n",
      "Warning: Normalized parameter -1.5980253478820282e-19 for feature 0, parameter 7 is out of bounds. Capping to [0, 1].\n",
      "Warning: Normalized parameter -5.464667449591031e-18 for feature 4, parameter 7 is out of bounds. Capping to [0, 1].\n",
      "Warning: Normalized parameter -1.5980253478820282e-19 for feature 0, parameter 7 is out of bounds. Capping to [0, 1].\n",
      "Warning: Normalized parameter -5.464667449591031e-18 for feature 4, parameter 7 is out of bounds. Capping to [0, 1].\n"
     ]
    },
    {
     "data": {
      "application/vnd.jupyter.widget-view+json": {
       "model_id": "be0501efe42b4d64880ca9737e994241",
       "version_major": 2,
       "version_minor": 0
      },
      "text/plain": [
       "  0%|          | 0/10000 [00:00<?, ?it/s]"
      ]
     },
     "metadata": {},
     "output_type": "display_data"
    },
    {
     "name": "stdout",
     "output_type": "stream",
     "text": [
      "gld_params: [0.05516558 0.02180964 0.25599372 0.13035535]\n",
      "wrapper([ 9.888e-01  1.990e-02 ...  9.617e-01  8.931e-01]) = -0.011127146782217977\n",
      "assembly_constraint_no_mean([ 9.888e-01  1.990e-02 ...  9.617e-01  8.931e-01]) = [-1.256e-02 -2.148e-02 ...  8.133e-02  9.418e-02]\n",
      "Warning: Normalized parameter -1.5606547310342445e-18 for feature 4, parameter 7 is out of bounds. Capping to [0, 1].\n",
      "Warning: Normalized parameter -5.464667449591031e-18 for feature 4, parameter 7 is out of bounds. Capping to [0, 1].\n",
      "Warning: Normalized parameter -3.988763012783674e-18 for feature 4, parameter 7 is out of bounds. Capping to [0, 1].\n",
      "Warning: Normalized parameter -1.5606547310342445e-18 for feature 4, parameter 7 is out of bounds. Capping to [0, 1].\n",
      "Warning: Normalized parameter -2.1765561756211724e-18 for feature 4, parameter 7 is out of bounds. Capping to [0, 1].\n",
      "Warning: Normalized parameter -2.2680032000202545e-18 for feature 4, parameter 7 is out of bounds. Capping to [0, 1].\n",
      "Warning: Normalized parameter -1.5980253478820282e-19 for feature 0, parameter 7 is out of bounds. Capping to [0, 1].\n",
      "Warning: Normalized parameter -5.464667449591031e-18 for feature 4, parameter 7 is out of bounds. Capping to [0, 1].\n",
      "Warning: Normalized parameter -1.5980253478820282e-19 for feature 0, parameter 7 is out of bounds. Capping to [0, 1].\n",
      "Warning: Normalized parameter -5.464667449591031e-18 for feature 4, parameter 7 is out of bounds. Capping to [0, 1].\n",
      "Warning: Normalized parameter -3.988763012783674e-18 for feature 4, parameter 7 is out of bounds. Capping to [0, 1].\n",
      "Warning: Normalized parameter -1.5606547310342445e-18 for feature 4, parameter 7 is out of bounds. Capping to [0, 1].\n",
      "Warning: Normalized parameter -1.5606547310342445e-18 for feature 4, parameter 7 is out of bounds. Capping to [0, 1].\n",
      "Warning: Normalized parameter -1.5606547310342445e-18 for feature 4, parameter 7 is out of bounds. Capping to [0, 1].\n",
      "Warning: Normalized parameter -1.5980253478820282e-19 for feature 0, parameter 7 is out of bounds. Capping to [0, 1].\n",
      "Warning: Normalized parameter -5.464667449591031e-18 for feature 4, parameter 7 is out of bounds. Capping to [0, 1].\n",
      "Warning: Normalized parameter -1.5980253478820282e-19 for feature 0, parameter 7 is out of bounds. Capping to [0, 1].\n",
      "Warning: Normalized parameter -5.464667449591031e-18 for feature 4, parameter 7 is out of bounds. Capping to [0, 1].\n"
     ]
    },
    {
     "data": {
      "application/vnd.jupyter.widget-view+json": {
       "model_id": "489e15fa980d44539ad8db5a58805597",
       "version_major": 2,
       "version_minor": 0
      },
      "text/plain": [
       "  0%|          | 0/10000 [00:00<?, ?it/s]"
      ]
     },
     "metadata": {},
     "output_type": "display_data"
    },
    {
     "name": "stdout",
     "output_type": "stream",
     "text": [
      "gld_params: [0.05499744 0.02014587 0.26587764 0.11894537]\n",
      "wrapper([ 1.000e+00  4.565e-03 ...  9.194e-01  8.575e-01]) = -0.007341221588602357\n",
      "assembly_constraint_no_mean([ 1.000e+00  4.565e-03 ...  9.194e-01  8.575e-01]) = [ 1.909e-01 -1.751e-01 ... -1.650e-01 -1.968e-01]\n",
      "Warning: Normalized parameter -1.5606547310342445e-18 for feature 4, parameter 7 is out of bounds. Capping to [0, 1].\n",
      "Warning: Normalized parameter -5.464667449591031e-18 for feature 4, parameter 7 is out of bounds. Capping to [0, 1].\n",
      "Warning: Normalized parameter -3.988763012783674e-18 for feature 4, parameter 7 is out of bounds. Capping to [0, 1].\n",
      "Warning: Normalized parameter -1.5606547310342445e-18 for feature 4, parameter 7 is out of bounds. Capping to [0, 1].\n",
      "Warning: Normalized parameter -2.1765561756211724e-18 for feature 4, parameter 7 is out of bounds. Capping to [0, 1].\n",
      "Warning: Normalized parameter -2.2680032000202545e-18 for feature 4, parameter 7 is out of bounds. Capping to [0, 1].\n",
      "Warning: Normalized parameter -1.5980253478820282e-19 for feature 0, parameter 7 is out of bounds. Capping to [0, 1].\n",
      "Warning: Normalized parameter -5.464667449591031e-18 for feature 4, parameter 7 is out of bounds. Capping to [0, 1].\n",
      "Warning: Normalized parameter -1.5980253478820282e-19 for feature 0, parameter 7 is out of bounds. Capping to [0, 1].\n",
      "Warning: Normalized parameter -5.464667449591031e-18 for feature 4, parameter 7 is out of bounds. Capping to [0, 1].\n",
      "Warning: Normalized parameter -3.988763012783674e-18 for feature 4, parameter 7 is out of bounds. Capping to [0, 1].\n",
      "Warning: Normalized parameter -1.5606547310342445e-18 for feature 4, parameter 7 is out of bounds. Capping to [0, 1].\n",
      "Warning: Normalized parameter -1.5606547310342445e-18 for feature 4, parameter 7 is out of bounds. Capping to [0, 1].\n",
      "Warning: Normalized parameter -1.5606547310342445e-18 for feature 4, parameter 7 is out of bounds. Capping to [0, 1].\n",
      "Warning: Normalized parameter -1.5980253478820282e-19 for feature 0, parameter 7 is out of bounds. Capping to [0, 1].\n",
      "Warning: Normalized parameter -5.464667449591031e-18 for feature 4, parameter 7 is out of bounds. Capping to [0, 1].\n",
      "Warning: Normalized parameter -1.5980253478820282e-19 for feature 0, parameter 7 is out of bounds. Capping to [0, 1].\n",
      "Warning: Normalized parameter -5.464667449591031e-18 for feature 4, parameter 7 is out of bounds. Capping to [0, 1].\n"
     ]
    },
    {
     "data": {
      "application/vnd.jupyter.widget-view+json": {
       "model_id": "dc4a3fc278204b96b1fe392f08cefbbb",
       "version_major": 2,
       "version_minor": 0
      },
      "text/plain": [
       "  0%|          | 0/10000 [00:00<?, ?it/s]"
      ]
     },
     "metadata": {},
     "output_type": "display_data"
    },
    {
     "name": "stdout",
     "output_type": "stream",
     "text": [
      "gld_params: [0.05521016 0.02182954 0.255771   0.13039367]\n",
      "wrapper([ 9.884e-01  1.619e-02 ...  9.548e-01  9.013e-01]) = -0.011149242674412207\n",
      "assembly_constraint_no_mean([ 9.884e-01  1.619e-02 ...  9.548e-01  9.013e-01]) = [-1.367e-02 -1.662e-02 ...  1.031e-01  9.517e-02]\n",
      "Warning: Normalized parameter -1.5606547310342445e-18 for feature 4, parameter 7 is out of bounds. Capping to [0, 1].\n",
      "Warning: Normalized parameter -5.464667449591031e-18 for feature 4, parameter 7 is out of bounds. Capping to [0, 1].\n",
      "Warning: Normalized parameter -3.988763012783674e-18 for feature 4, parameter 7 is out of bounds. Capping to [0, 1].\n",
      "Warning: Normalized parameter -1.5606547310342445e-18 for feature 4, parameter 7 is out of bounds. Capping to [0, 1].\n",
      "Warning: Normalized parameter -2.1765561756211724e-18 for feature 4, parameter 7 is out of bounds. Capping to [0, 1].\n",
      "Warning: Normalized parameter -2.2680032000202545e-18 for feature 4, parameter 7 is out of bounds. Capping to [0, 1].\n",
      "Warning: Normalized parameter -1.5980253478820282e-19 for feature 0, parameter 7 is out of bounds. Capping to [0, 1].\n",
      "Warning: Normalized parameter -5.464667449591031e-18 for feature 4, parameter 7 is out of bounds. Capping to [0, 1].\n",
      "Warning: Normalized parameter -1.5980253478820282e-19 for feature 0, parameter 7 is out of bounds. Capping to [0, 1].\n",
      "Warning: Normalized parameter -5.464667449591031e-18 for feature 4, parameter 7 is out of bounds. Capping to [0, 1].\n",
      "Warning: Normalized parameter -3.988763012783674e-18 for feature 4, parameter 7 is out of bounds. Capping to [0, 1].\n",
      "Warning: Normalized parameter -1.5606547310342445e-18 for feature 4, parameter 7 is out of bounds. Capping to [0, 1].\n",
      "Warning: Normalized parameter -1.5606547310342445e-18 for feature 4, parameter 7 is out of bounds. Capping to [0, 1].\n",
      "Warning: Normalized parameter -1.5606547310342445e-18 for feature 4, parameter 7 is out of bounds. Capping to [0, 1].\n",
      "Warning: Normalized parameter -1.5980253478820282e-19 for feature 0, parameter 7 is out of bounds. Capping to [0, 1].\n",
      "Warning: Normalized parameter -5.464667449591031e-18 for feature 4, parameter 7 is out of bounds. Capping to [0, 1].\n",
      "Warning: Normalized parameter -1.5980253478820282e-19 for feature 0, parameter 7 is out of bounds. Capping to [0, 1].\n",
      "Warning: Normalized parameter -5.464667449591031e-18 for feature 4, parameter 7 is out of bounds. Capping to [0, 1].\n"
     ]
    },
    {
     "data": {
      "application/vnd.jupyter.widget-view+json": {
       "model_id": "8e54be3c9ba94f8f8af4dd6eb941c25a",
       "version_major": 2,
       "version_minor": 0
      },
      "text/plain": [
       "  0%|          | 0/10000 [00:00<?, ?it/s]"
      ]
     },
     "metadata": {},
     "output_type": "display_data"
    },
    {
     "name": "stdout",
     "output_type": "stream",
     "text": [
      "gld_params: [0.05422888 0.02133795 0.25991316 0.12363268]\n",
      "wrapper([ 1.000e+00  0.000e+00 ...  9.419e-01  9.852e-01]) = -0.011372125957012362\n",
      "assembly_constraint_no_mean([ 1.000e+00  0.000e+00 ...  9.419e-01  9.852e-01]) = [ 9.431e-02  5.403e-01 ...  6.464e-01  6.971e-01]\n",
      "Warning: Normalized parameter -1.5606547310342445e-18 for feature 4, parameter 7 is out of bounds. Capping to [0, 1].\n",
      "Warning: Normalized parameter -5.464667449591031e-18 for feature 4, parameter 7 is out of bounds. Capping to [0, 1].\n",
      "Warning: Normalized parameter -3.988763012783674e-18 for feature 4, parameter 7 is out of bounds. Capping to [0, 1].\n",
      "Warning: Normalized parameter -1.5606547310342445e-18 for feature 4, parameter 7 is out of bounds. Capping to [0, 1].\n",
      "Warning: Normalized parameter -2.1765561756211724e-18 for feature 4, parameter 7 is out of bounds. Capping to [0, 1].\n",
      "Warning: Normalized parameter -2.2680032000202545e-18 for feature 4, parameter 7 is out of bounds. Capping to [0, 1].\n",
      "Warning: Normalized parameter -1.5980253478820282e-19 for feature 0, parameter 7 is out of bounds. Capping to [0, 1].\n",
      "Warning: Normalized parameter -5.464667449591031e-18 for feature 4, parameter 7 is out of bounds. Capping to [0, 1].\n",
      "Warning: Normalized parameter -1.5980253478820282e-19 for feature 0, parameter 7 is out of bounds. Capping to [0, 1].\n",
      "Warning: Normalized parameter -5.464667449591031e-18 for feature 4, parameter 7 is out of bounds. Capping to [0, 1].\n",
      "Warning: Normalized parameter -3.988763012783674e-18 for feature 4, parameter 7 is out of bounds. Capping to [0, 1].\n",
      "Warning: Normalized parameter -1.5606547310342445e-18 for feature 4, parameter 7 is out of bounds. Capping to [0, 1].\n",
      "Warning: Normalized parameter -1.5606547310342445e-18 for feature 4, parameter 7 is out of bounds. Capping to [0, 1].\n",
      "Warning: Normalized parameter -1.5606547310342445e-18 for feature 4, parameter 7 is out of bounds. Capping to [0, 1].\n",
      "Warning: Normalized parameter -1.5980253478820282e-19 for feature 0, parameter 7 is out of bounds. Capping to [0, 1].\n",
      "Warning: Normalized parameter -5.464667449591031e-18 for feature 4, parameter 7 is out of bounds. Capping to [0, 1].\n",
      "Warning: Normalized parameter -1.5980253478820282e-19 for feature 0, parameter 7 is out of bounds. Capping to [0, 1].\n",
      "Warning: Normalized parameter -5.464667449591031e-18 for feature 4, parameter 7 is out of bounds. Capping to [0, 1].\n"
     ]
    },
    {
     "data": {
      "application/vnd.jupyter.widget-view+json": {
       "model_id": "0b10e6db249a43aba3e23d7557d10867",
       "version_major": 2,
       "version_minor": 0
      },
      "text/plain": [
       "  0%|          | 0/10000 [00:00<?, ?it/s]"
      ]
     },
     "metadata": {},
     "output_type": "display_data"
    },
    {
     "name": "stdout",
     "output_type": "stream",
     "text": [
      "gld_params: [0.05518302 0.02183095 0.25575243 0.13058301]\n",
      "wrapper([ 9.883e-01  1.565e-02 ...  9.513e-01  9.029e-01]) = -0.011162542380641776\n",
      "assembly_constraint_no_mean([ 9.883e-01  1.565e-02 ...  9.513e-01  9.029e-01]) = [-1.274e-02 -2.542e-02 ...  9.297e-02  8.402e-02]\n",
      "Warning: Normalized parameter -1.5606547310342445e-18 for feature 4, parameter 7 is out of bounds. Capping to [0, 1].\n",
      "Warning: Normalized parameter -5.464667449591031e-18 for feature 4, parameter 7 is out of bounds. Capping to [0, 1].\n",
      "Warning: Normalized parameter -3.988763012783674e-18 for feature 4, parameter 7 is out of bounds. Capping to [0, 1].\n",
      "Warning: Normalized parameter -2.1765561756211724e-18 for feature 4, parameter 7 is out of bounds. Capping to [0, 1].\n",
      "Warning: Normalized parameter -2.2680032000202545e-18 for feature 4, parameter 7 is out of bounds. Capping to [0, 1].\n",
      "Warning: Normalized parameter -1.5980253478820282e-19 for feature 0, parameter 7 is out of bounds. Capping to [0, 1].\n",
      "Warning: Normalized parameter -5.464667449591031e-18 for feature 4, parameter 7 is out of bounds. Capping to [0, 1].\n",
      "Warning: Normalized parameter -1.5980253478820282e-19 for feature 0, parameter 7 is out of bounds. Capping to [0, 1].\n",
      "Warning: Normalized parameter -5.464667449591031e-18 for feature 4, parameter 7 is out of bounds. Capping to [0, 1].\n",
      "Warning: Normalized parameter -3.988763012783674e-18 for feature 4, parameter 7 is out of bounds. Capping to [0, 1].\n",
      "Warning: Normalized parameter -1.5606547310342445e-18 for feature 4, parameter 7 is out of bounds. Capping to [0, 1].\n",
      "Warning: Normalized parameter -1.5606547310342445e-18 for feature 4, parameter 7 is out of bounds. Capping to [0, 1].\n",
      "Warning: Normalized parameter -1.5606547310342445e-18 for feature 4, parameter 7 is out of bounds. Capping to [0, 1].\n",
      "Warning: Normalized parameter -1.5980253478820282e-19 for feature 0, parameter 7 is out of bounds. Capping to [0, 1].\n",
      "Warning: Normalized parameter -5.464667449591031e-18 for feature 4, parameter 7 is out of bounds. Capping to [0, 1].\n",
      "Warning: Normalized parameter -1.5980253478820282e-19 for feature 0, parameter 7 is out of bounds. Capping to [0, 1].\n",
      "Warning: Normalized parameter -5.464667449591031e-18 for feature 4, parameter 7 is out of bounds. Capping to [0, 1].\n"
     ]
    },
    {
     "data": {
      "application/vnd.jupyter.widget-view+json": {
       "model_id": "8e9adc832d6a4178acf3311543f9de14",
       "version_major": 2,
       "version_minor": 0
      },
      "text/plain": [
       "  0%|          | 0/10000 [00:00<?, ?it/s]"
      ]
     },
     "metadata": {},
     "output_type": "display_data"
    },
    {
     "name": "stdout",
     "output_type": "stream",
     "text": [
      "gld_params: [0.05494784 0.02117197 0.26355081 0.13040582]\n",
      "wrapper([ 8.622e-01  6.493e-02 ...  8.729e-01  8.855e-01]) = -0.008872252133333662\n",
      "assembly_constraint_no_mean([ 8.622e-01  6.493e-02 ...  8.729e-01  8.855e-01]) = [-1.281e+00  1.471e-01 ... -1.862e-02 -2.678e-01]\n",
      "Warning: Normalized parameter -1.5606547310342445e-18 for feature 4, parameter 7 is out of bounds. Capping to [0, 1].\n",
      "Warning: Normalized parameter -5.464667449591031e-18 for feature 4, parameter 7 is out of bounds. Capping to [0, 1].\n",
      "Warning: Normalized parameter -3.988763012783674e-18 for feature 4, parameter 7 is out of bounds. Capping to [0, 1].\n",
      "Warning: Normalized parameter -2.1765561756211724e-18 for feature 4, parameter 7 is out of bounds. Capping to [0, 1].\n",
      "Warning: Normalized parameter -2.2680032000202545e-18 for feature 4, parameter 7 is out of bounds. Capping to [0, 1].\n",
      "Warning: Normalized parameter -1.5980253478820282e-19 for feature 0, parameter 7 is out of bounds. Capping to [0, 1].\n",
      "Warning: Normalized parameter -5.464667449591031e-18 for feature 4, parameter 7 is out of bounds. Capping to [0, 1].\n",
      "Warning: Normalized parameter -1.5980253478820282e-19 for feature 0, parameter 7 is out of bounds. Capping to [0, 1].\n",
      "Warning: Normalized parameter -5.464667449591031e-18 for feature 4, parameter 7 is out of bounds. Capping to [0, 1].\n",
      "Warning: Normalized parameter -3.988763012783674e-18 for feature 4, parameter 7 is out of bounds. Capping to [0, 1].\n",
      "Warning: Normalized parameter -1.5606547310342445e-18 for feature 4, parameter 7 is out of bounds. Capping to [0, 1].\n",
      "Warning: Normalized parameter -1.5606547310342445e-18 for feature 4, parameter 7 is out of bounds. Capping to [0, 1].\n",
      "Warning: Normalized parameter -1.5606547310342445e-18 for feature 4, parameter 7 is out of bounds. Capping to [0, 1].\n",
      "Warning: Normalized parameter -1.5980253478820282e-19 for feature 0, parameter 7 is out of bounds. Capping to [0, 1].\n",
      "Warning: Normalized parameter -5.464667449591031e-18 for feature 4, parameter 7 is out of bounds. Capping to [0, 1].\n",
      "Warning: Normalized parameter -1.5980253478820282e-19 for feature 0, parameter 7 is out of bounds. Capping to [0, 1].\n",
      "Warning: Normalized parameter -5.464667449591031e-18 for feature 4, parameter 7 is out of bounds. Capping to [0, 1].\n"
     ]
    },
    {
     "data": {
      "application/vnd.jupyter.widget-view+json": {
       "model_id": "1d122ad2fad94cf2935a1bec86cb0a60",
       "version_major": 2,
       "version_minor": 0
      },
      "text/plain": [
       "  0%|          | 0/10000 [00:00<?, ?it/s]"
      ]
     },
     "metadata": {},
     "output_type": "display_data"
    },
    {
     "name": "stdout",
     "output_type": "stream",
     "text": [
      "gld_params: [0.05513712 0.02181844 0.25597792 0.13021535]\n",
      "wrapper([ 9.872e-01  1.439e-02 ...  9.548e-01  8.989e-01]) = -0.011210083270067065\n",
      "assembly_constraint_no_mean([ 9.872e-01  1.439e-02 ...  9.548e-01  8.989e-01]) = [-1.483e-02 -2.387e-02 ...  1.024e-01  8.734e-02]\n",
      "Warning: Normalized parameter -1.5606547310342445e-18 for feature 4, parameter 7 is out of bounds. Capping to [0, 1].\n",
      "Warning: Normalized parameter -5.464667449591031e-18 for feature 4, parameter 7 is out of bounds. Capping to [0, 1].\n",
      "Warning: Normalized parameter -3.988763012783674e-18 for feature 4, parameter 7 is out of bounds. Capping to [0, 1].\n",
      "Warning: Normalized parameter -2.1765561756211724e-18 for feature 4, parameter 7 is out of bounds. Capping to [0, 1].\n",
      "Warning: Normalized parameter -2.2680032000202545e-18 for feature 4, parameter 7 is out of bounds. Capping to [0, 1].\n",
      "Warning: Normalized parameter -1.5980253478820282e-19 for feature 0, parameter 7 is out of bounds. Capping to [0, 1].\n",
      "Warning: Normalized parameter -5.464667449591031e-18 for feature 4, parameter 7 is out of bounds. Capping to [0, 1].\n",
      "Warning: Normalized parameter -1.5980253478820282e-19 for feature 0, parameter 7 is out of bounds. Capping to [0, 1].\n",
      "Warning: Normalized parameter -5.464667449591031e-18 for feature 4, parameter 7 is out of bounds. Capping to [0, 1].\n",
      "Warning: Normalized parameter -3.988763012783674e-18 for feature 4, parameter 7 is out of bounds. Capping to [0, 1].\n",
      "Warning: Normalized parameter -1.5606547310342445e-18 for feature 4, parameter 7 is out of bounds. Capping to [0, 1].\n",
      "Warning: Normalized parameter -1.5606547310342445e-18 for feature 4, parameter 7 is out of bounds. Capping to [0, 1].\n",
      "Warning: Normalized parameter -1.5606547310342445e-18 for feature 4, parameter 7 is out of bounds. Capping to [0, 1].\n",
      "Warning: Normalized parameter -1.5980253478820282e-19 for feature 0, parameter 7 is out of bounds. Capping to [0, 1].\n",
      "Warning: Normalized parameter -5.464667449591031e-18 for feature 4, parameter 7 is out of bounds. Capping to [0, 1].\n",
      "Warning: Normalized parameter -1.5980253478820282e-19 for feature 0, parameter 7 is out of bounds. Capping to [0, 1].\n",
      "Warning: Normalized parameter -5.464667449591031e-18 for feature 4, parameter 7 is out of bounds. Capping to [0, 1].\n"
     ]
    },
    {
     "data": {
      "application/vnd.jupyter.widget-view+json": {
       "model_id": "9607b2a52cc14e98b51673550344b1ed",
       "version_major": 2,
       "version_minor": 0
      },
      "text/plain": [
       "  0%|          | 0/10000 [00:00<?, ?it/s]"
      ]
     },
     "metadata": {},
     "output_type": "display_data"
    },
    {
     "name": "stdout",
     "output_type": "stream",
     "text": [
      "gld_params: [0.05520592 0.02071402 0.26233972 0.12187786]\n",
      "wrapper([ 9.002e-01  3.128e-02 ...  9.950e-01  9.791e-01]) = -0.008500316687828644\n",
      "assembly_constraint_no_mean([ 9.002e-01  3.128e-02 ...  9.950e-01  9.791e-01]) = [-8.762e-01  2.226e-01 ... -6.629e-01  7.875e-01]\n",
      "Warning: Normalized parameter -1.5606547310342445e-18 for feature 4, parameter 7 is out of bounds. Capping to [0, 1].\n",
      "Warning: Normalized parameter -5.464667449591031e-18 for feature 4, parameter 7 is out of bounds. Capping to [0, 1].\n",
      "Warning: Normalized parameter -3.988763012783674e-18 for feature 4, parameter 7 is out of bounds. Capping to [0, 1].\n",
      "Warning: Normalized parameter -2.2680032000202545e-18 for feature 4, parameter 7 is out of bounds. Capping to [0, 1].\n",
      "Warning: Normalized parameter -1.5980253478820282e-19 for feature 0, parameter 7 is out of bounds. Capping to [0, 1].\n",
      "Warning: Normalized parameter -5.464667449591031e-18 for feature 4, parameter 7 is out of bounds. Capping to [0, 1].\n",
      "Warning: Normalized parameter -1.5980253478820282e-19 for feature 0, parameter 7 is out of bounds. Capping to [0, 1].\n",
      "Warning: Normalized parameter -5.464667449591031e-18 for feature 4, parameter 7 is out of bounds. Capping to [0, 1].\n",
      "Warning: Normalized parameter -3.988763012783674e-18 for feature 4, parameter 7 is out of bounds. Capping to [0, 1].\n",
      "Warning: Normalized parameter -1.5606547310342445e-18 for feature 4, parameter 7 is out of bounds. Capping to [0, 1].\n",
      "Warning: Normalized parameter -1.5606547310342445e-18 for feature 4, parameter 7 is out of bounds. Capping to [0, 1].\n",
      "Warning: Normalized parameter -1.5606547310342445e-18 for feature 4, parameter 7 is out of bounds. Capping to [0, 1].\n",
      "Warning: Normalized parameter -1.5980253478820282e-19 for feature 0, parameter 7 is out of bounds. Capping to [0, 1].\n",
      "Warning: Normalized parameter -5.464667449591031e-18 for feature 4, parameter 7 is out of bounds. Capping to [0, 1].\n",
      "Warning: Normalized parameter -1.5980253478820282e-19 for feature 0, parameter 7 is out of bounds. Capping to [0, 1].\n",
      "Warning: Normalized parameter -5.464667449591031e-18 for feature 4, parameter 7 is out of bounds. Capping to [0, 1].\n"
     ]
    },
    {
     "data": {
      "application/vnd.jupyter.widget-view+json": {
       "model_id": "a23daf44c0ea4ca9a1fe5f70a1da76a6",
       "version_major": 2,
       "version_minor": 0
      },
      "text/plain": [
       "  0%|          | 0/10000 [00:00<?, ?it/s]"
      ]
     },
     "metadata": {},
     "output_type": "display_data"
    },
    {
     "name": "stdout",
     "output_type": "stream",
     "text": [
      "gld_params: [0.05514525 0.02181076 0.25589872 0.13013683]\n",
      "wrapper([ 9.862e-01  1.217e-02 ...  9.516e-01  9.018e-01]) = -0.011194247050519687\n",
      "assembly_constraint_no_mean([ 9.862e-01  1.217e-02 ...  9.516e-01  9.018e-01]) = [-2.084e-02 -2.794e-02 ...  9.249e-02  8.500e-02]\n",
      "Warning: Normalized parameter -1.5606547310342445e-18 for feature 4, parameter 7 is out of bounds. Capping to [0, 1].\n",
      "Warning: Normalized parameter -5.464667449591031e-18 for feature 4, parameter 7 is out of bounds. Capping to [0, 1].\n",
      "Warning: Normalized parameter -3.988763012783674e-18 for feature 4, parameter 7 is out of bounds. Capping to [0, 1].\n",
      "Warning: Normalized parameter -2.2680032000202545e-18 for feature 4, parameter 7 is out of bounds. Capping to [0, 1].\n",
      "Warning: Normalized parameter -1.5980253478820282e-19 for feature 0, parameter 7 is out of bounds. Capping to [0, 1].\n",
      "Warning: Normalized parameter -5.464667449591031e-18 for feature 4, parameter 7 is out of bounds. Capping to [0, 1].\n",
      "Warning: Normalized parameter -1.5980253478820282e-19 for feature 0, parameter 7 is out of bounds. Capping to [0, 1].\n",
      "Warning: Normalized parameter -5.464667449591031e-18 for feature 4, parameter 7 is out of bounds. Capping to [0, 1].\n",
      "Warning: Normalized parameter -3.988763012783674e-18 for feature 4, parameter 7 is out of bounds. Capping to [0, 1].\n",
      "Warning: Normalized parameter -1.5606547310342445e-18 for feature 4, parameter 7 is out of bounds. Capping to [0, 1].\n",
      "Warning: Normalized parameter -1.5606547310342445e-18 for feature 4, parameter 7 is out of bounds. Capping to [0, 1].\n",
      "Warning: Normalized parameter -1.5606547310342445e-18 for feature 4, parameter 7 is out of bounds. Capping to [0, 1].\n",
      "Warning: Normalized parameter -1.5980253478820282e-19 for feature 0, parameter 7 is out of bounds. Capping to [0, 1].\n",
      "Warning: Normalized parameter -5.464667449591031e-18 for feature 4, parameter 7 is out of bounds. Capping to [0, 1].\n",
      "Warning: Normalized parameter -1.5980253478820282e-19 for feature 0, parameter 7 is out of bounds. Capping to [0, 1].\n",
      "Warning: Normalized parameter -5.464667449591031e-18 for feature 4, parameter 7 is out of bounds. Capping to [0, 1].\n"
     ]
    },
    {
     "data": {
      "application/vnd.jupyter.widget-view+json": {
       "model_id": "7fd603f934344124a2bd339ddd30a815",
       "version_major": 2,
       "version_minor": 0
      },
      "text/plain": [
       "  0%|          | 0/10000 [00:00<?, ?it/s]"
      ]
     },
     "metadata": {},
     "output_type": "display_data"
    },
    {
     "name": "stdout",
     "output_type": "stream",
     "text": [
      "gld_params: [0.05512405 0.02078099 0.25992588 0.11814752]\n",
      "wrapper([ 8.832e-01  5.600e-02 ...  9.556e-01  9.301e-01]) = -0.009399386809245257\n",
      "assembly_constraint_no_mean([ 8.832e-01  5.600e-02 ...  9.556e-01  9.301e-01]) = [-1.092e+00 -9.337e-01 ...  3.659e-01  3.247e-01]\n",
      "Warning: Normalized parameter -1.5606547310342445e-18 for feature 4, parameter 7 is out of bounds. Capping to [0, 1].\n",
      "Warning: Normalized parameter -5.464667449591031e-18 for feature 4, parameter 7 is out of bounds. Capping to [0, 1].\n",
      "Warning: Normalized parameter -3.988763012783674e-18 for feature 4, parameter 7 is out of bounds. Capping to [0, 1].\n",
      "Warning: Normalized parameter -2.2680032000202545e-18 for feature 4, parameter 7 is out of bounds. Capping to [0, 1].\n",
      "Warning: Normalized parameter -1.5980253478820282e-19 for feature 0, parameter 7 is out of bounds. Capping to [0, 1].\n",
      "Warning: Normalized parameter -5.464667449591031e-18 for feature 4, parameter 7 is out of bounds. Capping to [0, 1].\n",
      "Warning: Normalized parameter -1.5980253478820282e-19 for feature 0, parameter 7 is out of bounds. Capping to [0, 1].\n",
      "Warning: Normalized parameter -5.464667449591031e-18 for feature 4, parameter 7 is out of bounds. Capping to [0, 1].\n",
      "Warning: Normalized parameter -3.988763012783674e-18 for feature 4, parameter 7 is out of bounds. Capping to [0, 1].\n",
      "Warning: Normalized parameter -1.5606547310342445e-18 for feature 4, parameter 7 is out of bounds. Capping to [0, 1].\n",
      "Warning: Normalized parameter -1.5606547310342445e-18 for feature 4, parameter 7 is out of bounds. Capping to [0, 1].\n",
      "Warning: Normalized parameter -1.5606547310342445e-18 for feature 4, parameter 7 is out of bounds. Capping to [0, 1].\n",
      "Warning: Normalized parameter -1.5980253478820282e-19 for feature 0, parameter 7 is out of bounds. Capping to [0, 1].\n",
      "Warning: Normalized parameter -5.464667449591031e-18 for feature 4, parameter 7 is out of bounds. Capping to [0, 1].\n",
      "Warning: Normalized parameter -1.5980253478820282e-19 for feature 0, parameter 7 is out of bounds. Capping to [0, 1].\n",
      "Warning: Normalized parameter -5.464667449591031e-18 for feature 4, parameter 7 is out of bounds. Capping to [0, 1].\n"
     ]
    },
    {
     "data": {
      "application/vnd.jupyter.widget-view+json": {
       "model_id": "1a7b50038b394500a8f97bb6e2eabf55",
       "version_major": 2,
       "version_minor": 0
      },
      "text/plain": [
       "  0%|          | 0/10000 [00:00<?, ?it/s]"
      ]
     },
     "metadata": {},
     "output_type": "display_data"
    },
    {
     "name": "stdout",
     "output_type": "stream",
     "text": [
      "gld_params: [0.05517147 0.02182001 0.25565866 0.13035033]\n",
      "wrapper([ 9.858e-01  9.973e-03 ...  9.495e-01  9.036e-01]) = -0.01118336802412104\n",
      "assembly_constraint_no_mean([ 9.858e-01  9.973e-03 ...  9.495e-01  9.036e-01]) = [-2.458e-02 -2.670e-02 ...  8.746e-02  8.199e-02]\n",
      "Warning: Normalized parameter -1.5606547310342445e-18 for feature 4, parameter 7 is out of bounds. Capping to [0, 1].\n",
      "Warning: Normalized parameter -5.464667449591031e-18 for feature 4, parameter 7 is out of bounds. Capping to [0, 1].\n",
      "Warning: Normalized parameter -3.988763012783674e-18 for feature 4, parameter 7 is out of bounds. Capping to [0, 1].\n",
      "Warning: Normalized parameter -2.2680032000202545e-18 for feature 4, parameter 7 is out of bounds. Capping to [0, 1].\n",
      "Warning: Normalized parameter -1.5980253478820282e-19 for feature 0, parameter 7 is out of bounds. Capping to [0, 1].\n",
      "Warning: Normalized parameter -5.464667449591031e-18 for feature 4, parameter 7 is out of bounds. Capping to [0, 1].\n",
      "Warning: Normalized parameter -1.5980253478820282e-19 for feature 0, parameter 7 is out of bounds. Capping to [0, 1].\n",
      "Warning: Normalized parameter -5.464667449591031e-18 for feature 4, parameter 7 is out of bounds. Capping to [0, 1].\n",
      "Warning: Normalized parameter -3.988763012783674e-18 for feature 4, parameter 7 is out of bounds. Capping to [0, 1].\n",
      "Warning: Normalized parameter -1.5606547310342445e-18 for feature 4, parameter 7 is out of bounds. Capping to [0, 1].\n",
      "Warning: Normalized parameter -1.5606547310342445e-18 for feature 4, parameter 7 is out of bounds. Capping to [0, 1].\n",
      "Warning: Normalized parameter -1.5606547310342445e-18 for feature 4, parameter 7 is out of bounds. Capping to [0, 1].\n",
      "Warning: Normalized parameter -1.5980253478820282e-19 for feature 0, parameter 7 is out of bounds. Capping to [0, 1].\n",
      "Warning: Normalized parameter -5.464667449591031e-18 for feature 4, parameter 7 is out of bounds. Capping to [0, 1].\n",
      "Warning: Normalized parameter -1.5980253478820282e-19 for feature 0, parameter 7 is out of bounds. Capping to [0, 1].\n",
      "Warning: Normalized parameter -5.464667449591031e-18 for feature 4, parameter 7 is out of bounds. Capping to [0, 1].\n"
     ]
    },
    {
     "data": {
      "application/vnd.jupyter.widget-view+json": {
       "model_id": "d4fb02eee3634abca350f93b5384da93",
       "version_major": 2,
       "version_minor": 0
      },
      "text/plain": [
       "  0%|          | 0/10000 [00:00<?, ?it/s]"
      ]
     },
     "metadata": {},
     "output_type": "display_data"
    },
    {
     "name": "stdout",
     "output_type": "stream",
     "text": [
      "gld_params: [0.0553742  0.02015393 0.25974597 0.11424862]\n",
      "wrapper([ 1.000e+00  6.358e-03 ...  9.297e-01  9.185e-01]) = -0.007953356216613106\n",
      "assembly_constraint_no_mean([ 1.000e+00  6.358e-03 ...  9.297e-01  9.185e-01]) = [ 2.210e-01 -1.679e-01 ... -1.297e-01  1.952e-01]\n",
      "Warning: Normalized parameter -1.5606547310342445e-18 for feature 4, parameter 7 is out of bounds. Capping to [0, 1].\n",
      "Warning: Normalized parameter -5.464667449591031e-18 for feature 4, parameter 7 is out of bounds. Capping to [0, 1].\n",
      "Warning: Normalized parameter -3.988763012783674e-18 for feature 4, parameter 7 is out of bounds. Capping to [0, 1].\n",
      "Warning: Normalized parameter -2.2680032000202545e-18 for feature 4, parameter 7 is out of bounds. Capping to [0, 1].\n",
      "Warning: Normalized parameter -1.5980253478820282e-19 for feature 0, parameter 7 is out of bounds. Capping to [0, 1].\n",
      "Warning: Normalized parameter -5.464667449591031e-18 for feature 4, parameter 7 is out of bounds. Capping to [0, 1].\n",
      "Warning: Normalized parameter -1.5980253478820282e-19 for feature 0, parameter 7 is out of bounds. Capping to [0, 1].\n",
      "Warning: Normalized parameter -5.464667449591031e-18 for feature 4, parameter 7 is out of bounds. Capping to [0, 1].\n",
      "Warning: Normalized parameter -3.988763012783674e-18 for feature 4, parameter 7 is out of bounds. Capping to [0, 1].\n",
      "Warning: Normalized parameter -1.5606547310342445e-18 for feature 4, parameter 7 is out of bounds. Capping to [0, 1].\n",
      "Warning: Normalized parameter -1.5606547310342445e-18 for feature 4, parameter 7 is out of bounds. Capping to [0, 1].\n",
      "Warning: Normalized parameter -1.5606547310342445e-18 for feature 4, parameter 7 is out of bounds. Capping to [0, 1].\n",
      "Warning: Normalized parameter -1.5980253478820282e-19 for feature 0, parameter 7 is out of bounds. Capping to [0, 1].\n",
      "Warning: Normalized parameter -5.464667449591031e-18 for feature 4, parameter 7 is out of bounds. Capping to [0, 1].\n",
      "Warning: Normalized parameter -1.5980253478820282e-19 for feature 0, parameter 7 is out of bounds. Capping to [0, 1].\n",
      "Warning: Normalized parameter -5.464667449591031e-18 for feature 4, parameter 7 is out of bounds. Capping to [0, 1].\n"
     ]
    },
    {
     "data": {
      "application/vnd.jupyter.widget-view+json": {
       "model_id": "1997c3f9cff7460f8ed071120a78a0b3",
       "version_major": 2,
       "version_minor": 0
      },
      "text/plain": [
       "  0%|          | 0/10000 [00:00<?, ?it/s]"
      ]
     },
     "metadata": {},
     "output_type": "display_data"
    },
    {
     "name": "stdout",
     "output_type": "stream",
     "text": [
      "gld_params: [0.05516612 0.02182157 0.25571472 0.13034707]\n",
      "wrapper([ 9.867e-01  9.700e-03 ...  9.500e-01  9.025e-01]) = -0.011190094055130223\n",
      "assembly_constraint_no_mean([ 9.867e-01  9.700e-03 ...  9.500e-01  9.025e-01]) = [-1.521e-02 -2.575e-02 ...  8.856e-02  7.877e-02]\n",
      "Warning: Normalized parameter -1.5606547310342445e-18 for feature 4, parameter 7 is out of bounds. Capping to [0, 1].\n",
      "Warning: Normalized parameter -5.464667449591031e-18 for feature 4, parameter 7 is out of bounds. Capping to [0, 1].\n",
      "Warning: Normalized parameter -3.988763012783674e-18 for feature 4, parameter 7 is out of bounds. Capping to [0, 1].\n",
      "Warning: Normalized parameter -2.2680032000202545e-18 for feature 4, parameter 7 is out of bounds. Capping to [0, 1].\n",
      "Warning: Normalized parameter -1.5980253478820282e-19 for feature 0, parameter 7 is out of bounds. Capping to [0, 1].\n",
      "Warning: Normalized parameter -5.464667449591031e-18 for feature 4, parameter 7 is out of bounds. Capping to [0, 1].\n",
      "Warning: Normalized parameter -1.5980253478820282e-19 for feature 0, parameter 7 is out of bounds. Capping to [0, 1].\n",
      "Warning: Normalized parameter -5.464667449591031e-18 for feature 4, parameter 7 is out of bounds. Capping to [0, 1].\n",
      "Warning: Normalized parameter -3.988763012783674e-18 for feature 4, parameter 7 is out of bounds. Capping to [0, 1].\n",
      "Warning: Normalized parameter -1.5606547310342445e-18 for feature 4, parameter 7 is out of bounds. Capping to [0, 1].\n",
      "Warning: Normalized parameter -1.5606547310342445e-18 for feature 4, parameter 7 is out of bounds. Capping to [0, 1].\n",
      "Warning: Normalized parameter -1.5606547310342445e-18 for feature 4, parameter 7 is out of bounds. Capping to [0, 1].\n",
      "Warning: Normalized parameter -1.5980253478820282e-19 for feature 0, parameter 7 is out of bounds. Capping to [0, 1].\n",
      "Warning: Normalized parameter -5.464667449591031e-18 for feature 4, parameter 7 is out of bounds. Capping to [0, 1].\n",
      "Warning: Normalized parameter -1.5980253478820282e-19 for feature 0, parameter 7 is out of bounds. Capping to [0, 1].\n",
      "Warning: Normalized parameter -5.464667449591031e-18 for feature 4, parameter 7 is out of bounds. Capping to [0, 1].\n"
     ]
    },
    {
     "data": {
      "application/vnd.jupyter.widget-view+json": {
       "model_id": "fb5bcddac8f64593848d0f68fee6d0b0",
       "version_major": 2,
       "version_minor": 0
      },
      "text/plain": [
       "  0%|          | 0/10000 [00:00<?, ?it/s]"
      ]
     },
     "metadata": {},
     "output_type": "display_data"
    },
    {
     "name": "stdout",
     "output_type": "stream",
     "text": [
      "gld_params: [0.05522498 0.02051922 0.26131478 0.11924891]\n",
      "wrapper([ 9.768e-01  1.437e-02 ...  8.823e-01  8.630e-01]) = -0.008350693246734466\n",
      "assembly_constraint_no_mean([ 9.768e-01  1.437e-02 ...  8.823e-01  8.630e-01]) = [-9.226e-02  7.007e-01 ...  2.814e-01 -4.917e-01]\n",
      "Warning: Normalized parameter -1.5606547310342445e-18 for feature 4, parameter 7 is out of bounds. Capping to [0, 1].\n",
      "Warning: Normalized parameter -5.464667449591031e-18 for feature 4, parameter 7 is out of bounds. Capping to [0, 1].\n",
      "Warning: Normalized parameter -3.988763012783674e-18 for feature 4, parameter 7 is out of bounds. Capping to [0, 1].\n",
      "Warning: Normalized parameter -2.2680032000202545e-18 for feature 4, parameter 7 is out of bounds. Capping to [0, 1].\n",
      "Warning: Normalized parameter -1.5980253478820282e-19 for feature 0, parameter 7 is out of bounds. Capping to [0, 1].\n",
      "Warning: Normalized parameter -5.464667449591031e-18 for feature 4, parameter 7 is out of bounds. Capping to [0, 1].\n",
      "Warning: Normalized parameter -3.988763012783674e-18 for feature 4, parameter 7 is out of bounds. Capping to [0, 1].\n",
      "Warning: Normalized parameter -1.5606547310342445e-18 for feature 4, parameter 7 is out of bounds. Capping to [0, 1].\n",
      "Warning: Normalized parameter -1.5606547310342445e-18 for feature 4, parameter 7 is out of bounds. Capping to [0, 1].\n",
      "Warning: Normalized parameter -1.5606547310342445e-18 for feature 4, parameter 7 is out of bounds. Capping to [0, 1].\n",
      "Warning: Normalized parameter -1.5980253478820282e-19 for feature 0, parameter 7 is out of bounds. Capping to [0, 1].\n",
      "Warning: Normalized parameter -5.464667449591031e-18 for feature 4, parameter 7 is out of bounds. Capping to [0, 1].\n",
      "Warning: Normalized parameter -1.5980253478820282e-19 for feature 0, parameter 7 is out of bounds. Capping to [0, 1].\n",
      "Warning: Normalized parameter -5.464667449591031e-18 for feature 4, parameter 7 is out of bounds. Capping to [0, 1].\n"
     ]
    },
    {
     "data": {
      "application/vnd.jupyter.widget-view+json": {
       "model_id": "3f4ece52d0f74401bc126b9ac073458a",
       "version_major": 2,
       "version_minor": 0
      },
      "text/plain": [
       "  0%|          | 0/10000 [00:00<?, ?it/s]"
      ]
     },
     "metadata": {},
     "output_type": "display_data"
    },
    {
     "name": "stdout",
     "output_type": "stream",
     "text": [
      "gld_params: [0.05519026 0.02182615 0.25564572 0.1305509 ]\n",
      "wrapper([ 9.876e-01  9.213e-03 ...  9.471e-01  9.058e-01]) = -0.011152954658951776\n",
      "assembly_constraint_no_mean([ 9.876e-01  9.213e-03 ...  9.471e-01  9.058e-01]) = [-8.836e-03 -1.609e-02 ...  9.316e-02  7.607e-02]\n",
      "Warning: Normalized parameter -1.5606547310342445e-18 for feature 4, parameter 7 is out of bounds. Capping to [0, 1].\n",
      "Warning: Normalized parameter -5.464667449591031e-18 for feature 4, parameter 7 is out of bounds. Capping to [0, 1].\n",
      "Warning: Normalized parameter -3.988763012783674e-18 for feature 4, parameter 7 is out of bounds. Capping to [0, 1].\n",
      "Warning: Normalized parameter -2.2680032000202545e-18 for feature 4, parameter 7 is out of bounds. Capping to [0, 1].\n",
      "Warning: Normalized parameter -1.5980253478820282e-19 for feature 0, parameter 7 is out of bounds. Capping to [0, 1].\n",
      "Warning: Normalized parameter -5.464667449591031e-18 for feature 4, parameter 7 is out of bounds. Capping to [0, 1].\n",
      "Warning: Normalized parameter -3.988763012783674e-18 for feature 4, parameter 7 is out of bounds. Capping to [0, 1].\n",
      "Warning: Normalized parameter -1.5606547310342445e-18 for feature 4, parameter 7 is out of bounds. Capping to [0, 1].\n",
      "Warning: Normalized parameter -1.5606547310342445e-18 for feature 4, parameter 7 is out of bounds. Capping to [0, 1].\n",
      "Warning: Normalized parameter -1.5606547310342445e-18 for feature 4, parameter 7 is out of bounds. Capping to [0, 1].\n",
      "Warning: Normalized parameter -1.5980253478820282e-19 for feature 0, parameter 7 is out of bounds. Capping to [0, 1].\n",
      "Warning: Normalized parameter -5.464667449591031e-18 for feature 4, parameter 7 is out of bounds. Capping to [0, 1].\n",
      "Warning: Normalized parameter -1.5980253478820282e-19 for feature 0, parameter 7 is out of bounds. Capping to [0, 1].\n",
      "Warning: Normalized parameter -5.464667449591031e-18 for feature 4, parameter 7 is out of bounds. Capping to [0, 1].\n"
     ]
    },
    {
     "data": {
      "application/vnd.jupyter.widget-view+json": {
       "model_id": "f031fa2190d44f33be40ff6fdf3ae758",
       "version_major": 2,
       "version_minor": 0
      },
      "text/plain": [
       "  0%|          | 0/10000 [00:00<?, ?it/s]"
      ]
     },
     "metadata": {},
     "output_type": "display_data"
    },
    {
     "name": "stdout",
     "output_type": "stream",
     "text": [
      "gld_params: [0.0546606  0.02036099 0.26671079 0.11306932]\n",
      "wrapper([ 9.379e-01  0.000e+00 ...  9.176e-01  8.781e-01]) = -0.00881455202043078\n",
      "assembly_constraint_no_mean([ 9.379e-01  0.000e+00 ...  9.176e-01  8.781e-01]) = [-4.170e-01  3.973e-02 ...  2.531e-01 -4.838e-04]\n",
      "Warning: Normalized parameter -1.5606547310342445e-18 for feature 4, parameter 7 is out of bounds. Capping to [0, 1].\n",
      "Warning: Normalized parameter -5.464667449591031e-18 for feature 4, parameter 7 is out of bounds. Capping to [0, 1].\n",
      "Warning: Normalized parameter -3.988763012783674e-18 for feature 4, parameter 7 is out of bounds. Capping to [0, 1].\n",
      "Warning: Normalized parameter -2.2680032000202545e-18 for feature 4, parameter 7 is out of bounds. Capping to [0, 1].\n",
      "Warning: Normalized parameter -1.5980253478820282e-19 for feature 0, parameter 7 is out of bounds. Capping to [0, 1].\n",
      "Warning: Normalized parameter -5.464667449591031e-18 for feature 4, parameter 7 is out of bounds. Capping to [0, 1].\n",
      "Warning: Normalized parameter -3.988763012783674e-18 for feature 4, parameter 7 is out of bounds. Capping to [0, 1].\n",
      "Warning: Normalized parameter -1.5606547310342445e-18 for feature 4, parameter 7 is out of bounds. Capping to [0, 1].\n",
      "Warning: Normalized parameter -1.5606547310342445e-18 for feature 4, parameter 7 is out of bounds. Capping to [0, 1].\n",
      "Warning: Normalized parameter -1.5606547310342445e-18 for feature 4, parameter 7 is out of bounds. Capping to [0, 1].\n",
      "Warning: Normalized parameter -1.5980253478820282e-19 for feature 0, parameter 7 is out of bounds. Capping to [0, 1].\n",
      "Warning: Normalized parameter -5.464667449591031e-18 for feature 4, parameter 7 is out of bounds. Capping to [0, 1].\n"
     ]
    },
    {
     "data": {
      "application/vnd.jupyter.widget-view+json": {
       "model_id": "0b1aa38666e342e6a878ab277dd7d26d",
       "version_major": 2,
       "version_minor": 0
      },
      "text/plain": [
       "  0%|          | 0/10000 [00:00<?, ?it/s]"
      ]
     },
     "metadata": {},
     "output_type": "display_data"
    },
    {
     "name": "stdout",
     "output_type": "stream",
     "text": [
      "gld_params: [0.05521258 0.02184233 0.2554262  0.13094003]\n",
      "wrapper([ 9.878e-01  9.752e-03 ...  9.464e-01  9.072e-01]) = -0.011142263305606576\n",
      "assembly_constraint_no_mean([ 9.878e-01  9.752e-03 ...  9.464e-01  9.072e-01]) = [-9.934e-03 -1.021e-02 ...  8.189e-02  7.796e-02]\n",
      "Warning: Normalized parameter -1.5606547310342445e-18 for feature 4, parameter 7 is out of bounds. Capping to [0, 1].\n",
      "Warning: Normalized parameter -5.464667449591031e-18 for feature 4, parameter 7 is out of bounds. Capping to [0, 1].\n",
      "Warning: Normalized parameter -3.988763012783674e-18 for feature 4, parameter 7 is out of bounds. Capping to [0, 1].\n",
      "Warning: Normalized parameter -2.2680032000202545e-18 for feature 4, parameter 7 is out of bounds. Capping to [0, 1].\n",
      "Warning: Normalized parameter -1.5980253478820282e-19 for feature 0, parameter 7 is out of bounds. Capping to [0, 1].\n",
      "Warning: Normalized parameter -5.464667449591031e-18 for feature 4, parameter 7 is out of bounds. Capping to [0, 1].\n",
      "Warning: Normalized parameter -3.988763012783674e-18 for feature 4, parameter 7 is out of bounds. Capping to [0, 1].\n",
      "Warning: Normalized parameter -1.5606547310342445e-18 for feature 4, parameter 7 is out of bounds. Capping to [0, 1].\n",
      "Warning: Normalized parameter -1.5606547310342445e-18 for feature 4, parameter 7 is out of bounds. Capping to [0, 1].\n",
      "Warning: Normalized parameter -1.5606547310342445e-18 for feature 4, parameter 7 is out of bounds. Capping to [0, 1].\n",
      "Warning: Normalized parameter -1.5980253478820282e-19 for feature 0, parameter 7 is out of bounds. Capping to [0, 1].\n",
      "Warning: Normalized parameter -5.464667449591031e-18 for feature 4, parameter 7 is out of bounds. Capping to [0, 1].\n"
     ]
    },
    {
     "data": {
      "application/vnd.jupyter.widget-view+json": {
       "model_id": "56345c79f8d84f65bc9cd2a4f3181243",
       "version_major": 2,
       "version_minor": 0
      },
      "text/plain": [
       "  0%|          | 0/10000 [00:00<?, ?it/s]"
      ]
     },
     "metadata": {},
     "output_type": "display_data"
    },
    {
     "name": "stdout",
     "output_type": "stream",
     "text": [
      "gld_params: [0.05441014 0.0206767  0.27060369 0.12425898]\n",
      "wrapper([ 1.000e+00  8.267e-03 ...  8.181e-01  9.103e-01]) = -0.008295464962519919\n",
      "assembly_constraint_no_mean([ 1.000e+00  8.267e-03 ...  8.181e-01  9.103e-01]) = [ 6.148e-02 -1.569e-01 ...  2.353e-01 -4.918e-01]\n",
      "Warning: Normalized parameter -1.5606547310342445e-18 for feature 4, parameter 7 is out of bounds. Capping to [0, 1].\n",
      "Warning: Normalized parameter -5.464667449591031e-18 for feature 4, parameter 7 is out of bounds. Capping to [0, 1].\n",
      "Warning: Normalized parameter -3.988763012783674e-18 for feature 4, parameter 7 is out of bounds. Capping to [0, 1].\n",
      "Warning: Normalized parameter -2.2680032000202545e-18 for feature 4, parameter 7 is out of bounds. Capping to [0, 1].\n",
      "Warning: Normalized parameter -1.5980253478820282e-19 for feature 0, parameter 7 is out of bounds. Capping to [0, 1].\n",
      "Warning: Normalized parameter -5.464667449591031e-18 for feature 4, parameter 7 is out of bounds. Capping to [0, 1].\n",
      "Warning: Normalized parameter -3.988763012783674e-18 for feature 4, parameter 7 is out of bounds. Capping to [0, 1].\n",
      "Warning: Normalized parameter -1.5606547310342445e-18 for feature 4, parameter 7 is out of bounds. Capping to [0, 1].\n",
      "Warning: Normalized parameter -1.5606547310342445e-18 for feature 4, parameter 7 is out of bounds. Capping to [0, 1].\n",
      "Warning: Normalized parameter -1.5606547310342445e-18 for feature 4, parameter 7 is out of bounds. Capping to [0, 1].\n"
     ]
    },
    {
     "data": {
      "application/vnd.jupyter.widget-view+json": {
       "model_id": "58ba26b5e7f74db1af319c80d65bf304",
       "version_major": 2,
       "version_minor": 0
      },
      "text/plain": [
       "  0%|          | 0/10000 [00:00<?, ?it/s]"
      ]
     },
     "metadata": {},
     "output_type": "display_data"
    },
    {
     "name": "stdout",
     "output_type": "stream",
     "text": [
      "gld_params: [0.05520765 0.02183508 0.2555038  0.13030687]\n",
      "wrapper([ 9.860e-01  4.414e-03 ...  9.515e-01  9.012e-01]) = -0.011205856317932875\n",
      "assembly_constraint_no_mean([ 9.860e-01  4.414e-03 ...  9.515e-01  9.012e-01]) = [-2.035e-02 -1.279e-02 ...  9.328e-02  7.808e-02]\n",
      "Warning: Normalized parameter -1.5606547310342445e-18 for feature 4, parameter 7 is out of bounds. Capping to [0, 1].\n",
      "Warning: Normalized parameter -5.464667449591031e-18 for feature 4, parameter 7 is out of bounds. Capping to [0, 1].\n",
      "Warning: Normalized parameter -3.988763012783674e-18 for feature 4, parameter 7 is out of bounds. Capping to [0, 1].\n",
      "Warning: Normalized parameter -2.2680032000202545e-18 for feature 4, parameter 7 is out of bounds. Capping to [0, 1].\n",
      "Warning: Normalized parameter -1.5980253478820282e-19 for feature 0, parameter 7 is out of bounds. Capping to [0, 1].\n",
      "Warning: Normalized parameter -5.464667449591031e-18 for feature 4, parameter 7 is out of bounds. Capping to [0, 1].\n",
      "Warning: Normalized parameter -3.988763012783674e-18 for feature 4, parameter 7 is out of bounds. Capping to [0, 1].\n",
      "Warning: Normalized parameter -1.5606547310342445e-18 for feature 4, parameter 7 is out of bounds. Capping to [0, 1].\n",
      "Warning: Normalized parameter -1.5606547310342445e-18 for feature 4, parameter 7 is out of bounds. Capping to [0, 1].\n",
      "Warning: Normalized parameter -1.5606547310342445e-18 for feature 4, parameter 7 is out of bounds. Capping to [0, 1].\n"
     ]
    },
    {
     "data": {
      "application/vnd.jupyter.widget-view+json": {
       "model_id": "3f5c164738ee4609938e2fab55866c45",
       "version_major": 2,
       "version_minor": 0
      },
      "text/plain": [
       "  0%|          | 0/10000 [00:00<?, ?it/s]"
      ]
     },
     "metadata": {},
     "output_type": "display_data"
    },
    {
     "name": "stdout",
     "output_type": "stream",
     "text": [
      "gld_params: [0.05461924 0.02069353 0.26276701 0.11986702]\n",
      "wrapper([ 9.716e-01  4.300e-03 ...  9.556e-01  9.070e-01]) = -0.009252830820085567\n",
      "assembly_constraint_no_mean([ 9.716e-01  4.300e-03 ...  9.556e-01  9.070e-01]) = [-1.515e-01 -7.572e-01 ... -1.237e-01  2.871e-01]\n",
      "Warning: Normalized parameter -1.5606547310342445e-18 for feature 4, parameter 7 is out of bounds. Capping to [0, 1].\n",
      "Warning: Normalized parameter -5.464667449591031e-18 for feature 4, parameter 7 is out of bounds. Capping to [0, 1].\n",
      "Warning: Normalized parameter -3.988763012783674e-18 for feature 4, parameter 7 is out of bounds. Capping to [0, 1].\n",
      "Warning: Normalized parameter -2.2680032000202545e-18 for feature 4, parameter 7 is out of bounds. Capping to [0, 1].\n",
      "Warning: Normalized parameter -1.5980253478820282e-19 for feature 0, parameter 7 is out of bounds. Capping to [0, 1].\n",
      "Warning: Normalized parameter -5.464667449591031e-18 for feature 4, parameter 7 is out of bounds. Capping to [0, 1].\n",
      "Warning: Normalized parameter -3.988763012783674e-18 for feature 4, parameter 7 is out of bounds. Capping to [0, 1].\n",
      "Warning: Normalized parameter -1.5606547310342445e-18 for feature 4, parameter 7 is out of bounds. Capping to [0, 1].\n",
      "Warning: Normalized parameter -1.5606547310342445e-18 for feature 4, parameter 7 is out of bounds. Capping to [0, 1].\n",
      "Warning: Normalized parameter -1.5606547310342445e-18 for feature 4, parameter 7 is out of bounds. Capping to [0, 1].\n"
     ]
    },
    {
     "data": {
      "application/vnd.jupyter.widget-view+json": {
       "model_id": "965eed998acf49e68e5e50e6578965e0",
       "version_major": 2,
       "version_minor": 0
      },
      "text/plain": [
       "  0%|          | 0/10000 [00:00<?, ?it/s]"
      ]
     },
     "metadata": {},
     "output_type": "display_data"
    },
    {
     "name": "stdout",
     "output_type": "stream",
     "text": [
      "gld_params: [0.05515939 0.02177181 0.25590965 0.12860677]\n",
      "wrapper([ 9.848e-01  0.000e+00 ...  9.522e-01  8.994e-01]) = -0.01126538642820584\n",
      "assembly_constraint_no_mean([ 9.848e-01  0.000e+00 ...  9.522e-01  8.994e-01]) = [-2.672e-02  6.098e-03 ...  9.233e-02  7.654e-02]\n",
      "Warning: Normalized parameter -1.5606547310342445e-18 for feature 4, parameter 7 is out of bounds. Capping to [0, 1].\n",
      "Warning: Normalized parameter -5.464667449591031e-18 for feature 4, parameter 7 is out of bounds. Capping to [0, 1].\n",
      "Warning: Normalized parameter -3.988763012783674e-18 for feature 4, parameter 7 is out of bounds. Capping to [0, 1].\n",
      "Warning: Normalized parameter -2.2680032000202545e-18 for feature 4, parameter 7 is out of bounds. Capping to [0, 1].\n",
      "Warning: Normalized parameter -1.5980253478820282e-19 for feature 0, parameter 7 is out of bounds. Capping to [0, 1].\n",
      "Warning: Normalized parameter -5.464667449591031e-18 for feature 4, parameter 7 is out of bounds. Capping to [0, 1].\n",
      "Warning: Normalized parameter -3.988763012783674e-18 for feature 4, parameter 7 is out of bounds. Capping to [0, 1].\n",
      "Warning: Normalized parameter -1.5606547310342445e-18 for feature 4, parameter 7 is out of bounds. Capping to [0, 1].\n",
      "Warning: Normalized parameter -1.5606547310342445e-18 for feature 4, parameter 7 is out of bounds. Capping to [0, 1].\n",
      "Warning: Normalized parameter -1.5606547310342445e-18 for feature 4, parameter 7 is out of bounds. Capping to [0, 1].\n"
     ]
    },
    {
     "data": {
      "application/vnd.jupyter.widget-view+json": {
       "model_id": "abf8d9d077cf41788de5c62bfa5de6f0",
       "version_major": 2,
       "version_minor": 0
      },
      "text/plain": [
       "  0%|          | 0/10000 [00:00<?, ?it/s]"
      ]
     },
     "metadata": {},
     "output_type": "display_data"
    },
    {
     "name": "stdout",
     "output_type": "stream",
     "text": [
      "gld_params: [0.05438898 0.01987966 0.27474117 0.11576616]\n",
      "wrapper([ 1.000e+00  3.139e-02 ...  8.348e-01  9.619e-01]) = -0.006995364688016804\n",
      "assembly_constraint_no_mean([ 1.000e+00  3.139e-02 ...  8.348e-01  9.619e-01]) = [ 2.769e-01  8.302e-01 ... -5.333e-01 -5.000e-02]\n",
      "Warning: Normalized parameter -1.5606547310342445e-18 for feature 4, parameter 7 is out of bounds. Capping to [0, 1].\n",
      "Warning: Normalized parameter -5.464667449591031e-18 for feature 4, parameter 7 is out of bounds. Capping to [0, 1].\n",
      "Warning: Normalized parameter -3.988763012783674e-18 for feature 4, parameter 7 is out of bounds. Capping to [0, 1].\n",
      "Warning: Normalized parameter -2.2680032000202545e-18 for feature 4, parameter 7 is out of bounds. Capping to [0, 1].\n",
      "Warning: Normalized parameter -3.988763012783674e-18 for feature 4, parameter 7 is out of bounds. Capping to [0, 1].\n",
      "Warning: Normalized parameter -1.5606547310342445e-18 for feature 4, parameter 7 is out of bounds. Capping to [0, 1].\n",
      "Warning: Normalized parameter -1.5606547310342445e-18 for feature 4, parameter 7 is out of bounds. Capping to [0, 1].\n",
      "Warning: Normalized parameter -1.5606547310342445e-18 for feature 4, parameter 7 is out of bounds. Capping to [0, 1].\n"
     ]
    },
    {
     "data": {
      "application/vnd.jupyter.widget-view+json": {
       "model_id": "782fc11e96d348699ba2f386dafd0a46",
       "version_major": 2,
       "version_minor": 0
      },
      "text/plain": [
       "  0%|          | 0/10000 [00:00<?, ?it/s]"
      ]
     },
     "metadata": {},
     "output_type": "display_data"
    },
    {
     "name": "stdout",
     "output_type": "stream",
     "text": [
      "gld_params: [0.05510823 0.02174557 0.25646181 0.12809045]\n",
      "wrapper([ 9.836e-01  0.000e+00 ...  9.554e-01  8.948e-01]) = -0.011267073017479734\n",
      "assembly_constraint_no_mean([ 9.836e-01  0.000e+00 ...  9.554e-01  8.948e-01]) = [-3.426e-02  1.755e-03 ...  9.659e-02  7.497e-02]\n",
      "Warning: Normalized parameter -1.5606547310342445e-18 for feature 4, parameter 7 is out of bounds. Capping to [0, 1].\n",
      "Warning: Normalized parameter -5.464667449591031e-18 for feature 4, parameter 7 is out of bounds. Capping to [0, 1].\n",
      "Warning: Normalized parameter -3.988763012783674e-18 for feature 4, parameter 7 is out of bounds. Capping to [0, 1].\n",
      "Warning: Normalized parameter -2.2680032000202545e-18 for feature 4, parameter 7 is out of bounds. Capping to [0, 1].\n",
      "Warning: Normalized parameter -3.988763012783674e-18 for feature 4, parameter 7 is out of bounds. Capping to [0, 1].\n",
      "Warning: Normalized parameter -1.5606547310342445e-18 for feature 4, parameter 7 is out of bounds. Capping to [0, 1].\n",
      "Warning: Normalized parameter -1.5606547310342445e-18 for feature 4, parameter 7 is out of bounds. Capping to [0, 1].\n",
      "Warning: Normalized parameter -1.5606547310342445e-18 for feature 4, parameter 7 is out of bounds. Capping to [0, 1].\n"
     ]
    },
    {
     "data": {
      "application/vnd.jupyter.widget-view+json": {
       "model_id": "392afa7148304853939c53bc93dd0ca3",
       "version_major": 2,
       "version_minor": 0
      },
      "text/plain": [
       "  0%|          | 0/10000 [00:00<?, ?it/s]"
      ]
     },
     "metadata": {},
     "output_type": "display_data"
    },
    {
     "name": "stdout",
     "output_type": "stream",
     "text": [
      "gld_params: [0.05545291 0.02069856 0.26036851 0.12228818]\n",
      "wrapper([ 9.047e-01  8.343e-03 ...  8.834e-01  8.456e-01]) = -0.00831234412829294\n",
      "assembly_constraint_no_mean([ 9.047e-01  8.343e-03 ...  8.834e-01  8.456e-01]) = [-6.961e-01 -5.252e-02 ...  6.296e-02 -1.837e-01]\n",
      "Warning: Normalized parameter -1.5606547310342445e-18 for feature 4, parameter 7 is out of bounds. Capping to [0, 1].\n",
      "Warning: Normalized parameter -5.464667449591031e-18 for feature 4, parameter 7 is out of bounds. Capping to [0, 1].\n",
      "Warning: Normalized parameter -3.988763012783674e-18 for feature 4, parameter 7 is out of bounds. Capping to [0, 1].\n",
      "Warning: Normalized parameter -3.988763012783674e-18 for feature 4, parameter 7 is out of bounds. Capping to [0, 1].\n",
      "Warning: Normalized parameter -1.5606547310342445e-18 for feature 4, parameter 7 is out of bounds. Capping to [0, 1].\n",
      "Warning: Normalized parameter -1.5606547310342445e-18 for feature 4, parameter 7 is out of bounds. Capping to [0, 1].\n",
      "Warning: Normalized parameter -1.5606547310342445e-18 for feature 4, parameter 7 is out of bounds. Capping to [0, 1].\n"
     ]
    },
    {
     "data": {
      "application/vnd.jupyter.widget-view+json": {
       "model_id": "55711c118ae74f909b0bb77e231742b5",
       "version_major": 2,
       "version_minor": 0
      },
      "text/plain": [
       "  0%|          | 0/10000 [00:00<?, ?it/s]"
      ]
     },
     "metadata": {},
     "output_type": "display_data"
    },
    {
     "name": "stdout",
     "output_type": "stream",
     "text": [
      "gld_params: [0.05510783 0.02174459 0.25647313 0.12807019]\n",
      "wrapper([ 9.836e-01  0.000e+00 ...  9.556e-01  8.952e-01]) = -0.011266287409120515\n",
      "assembly_constraint_no_mean([ 9.836e-01  0.000e+00 ...  9.556e-01  8.952e-01]) = [-3.415e-02  1.296e-03 ...  9.282e-02  7.832e-02]\n",
      "Warning: Normalized parameter -1.5606547310342445e-18 for feature 4, parameter 7 is out of bounds. Capping to [0, 1].\n",
      "Warning: Normalized parameter -5.464667449591031e-18 for feature 4, parameter 7 is out of bounds. Capping to [0, 1].\n",
      "Warning: Normalized parameter -3.988763012783674e-18 for feature 4, parameter 7 is out of bounds. Capping to [0, 1].\n",
      "Warning: Normalized parameter -3.988763012783674e-18 for feature 4, parameter 7 is out of bounds. Capping to [0, 1].\n",
      "Warning: Normalized parameter -1.5606547310342445e-18 for feature 4, parameter 7 is out of bounds. Capping to [0, 1].\n",
      "Warning: Normalized parameter -1.5606547310342445e-18 for feature 4, parameter 7 is out of bounds. Capping to [0, 1].\n",
      "Warning: Normalized parameter -1.5606547310342445e-18 for feature 4, parameter 7 is out of bounds. Capping to [0, 1].\n"
     ]
    },
    {
     "data": {
      "application/vnd.jupyter.widget-view+json": {
       "model_id": "b9e359e63f074698ac6d091c9d56664d",
       "version_major": 2,
       "version_minor": 0
      },
      "text/plain": [
       "  0%|          | 0/10000 [00:00<?, ?it/s]"
      ]
     },
     "metadata": {},
     "output_type": "display_data"
    },
    {
     "name": "stdout",
     "output_type": "stream",
     "text": [
      "gld_params: [0.05560018 0.02065707 0.25934031 0.11965866]\n",
      "wrapper([ 1.000e+00  5.107e-03 ...  8.794e-01  9.155e-01]) = -0.008445737306240644\n",
      "assembly_constraint_no_mean([ 1.000e+00  5.107e-03 ...  8.794e-01  9.155e-01]) = [ 8.751e-02  3.048e-01 ...  3.007e-01 -2.238e-01]\n",
      "Warning: Normalized parameter -1.5606547310342445e-18 for feature 4, parameter 7 is out of bounds. Capping to [0, 1].\n",
      "Warning: Normalized parameter -3.988763012783674e-18 for feature 4, parameter 7 is out of bounds. Capping to [0, 1].\n",
      "Warning: Normalized parameter -3.988763012783674e-18 for feature 4, parameter 7 is out of bounds. Capping to [0, 1].\n",
      "Warning: Normalized parameter -1.5606547310342445e-18 for feature 4, parameter 7 is out of bounds. Capping to [0, 1].\n",
      "Warning: Normalized parameter -1.5606547310342445e-18 for feature 4, parameter 7 is out of bounds. Capping to [0, 1].\n",
      "Warning: Normalized parameter -1.5606547310342445e-18 for feature 4, parameter 7 is out of bounds. Capping to [0, 1].\n"
     ]
    },
    {
     "data": {
      "application/vnd.jupyter.widget-view+json": {
       "model_id": "4d06d1963d754c40b6140fcb0d9027eb",
       "version_major": 2,
       "version_minor": 0
      },
      "text/plain": [
       "  0%|          | 0/10000 [00:00<?, ?it/s]"
      ]
     },
     "metadata": {},
     "output_type": "display_data"
    },
    {
     "name": "stdout",
     "output_type": "stream",
     "text": [
      "gld_params: [0.05510437 0.02173981 0.25656093 0.12797332]\n",
      "wrapper([ 9.838e-01  0.000e+00 ...  9.538e-01  8.969e-01]) = -0.011260931286402731\n",
      "assembly_constraint_no_mean([ 9.838e-01  0.000e+00 ...  9.538e-01  8.969e-01]) = [-3.392e-02  2.404e-03 ...  9.669e-02  7.617e-02]\n",
      "Warning: Normalized parameter -2.168404344971009e-19 for feature 0, parameter 7 is out of bounds. Capping to [0, 1].\n",
      "Warning: Normalized parameter -2.168404344971009e-19 for feature 0, parameter 7 is out of bounds. Capping to [0, 1].\n",
      "Warning: Normalized parameter -2.168404344971009e-19 for feature 0, parameter 7 is out of bounds. Capping to [0, 1].\n",
      "Warning: Normalized parameter -2.168404344971009e-19 for feature 0, parameter 7 is out of bounds. Capping to [0, 1].\n",
      "Warning: Normalized parameter -1.5606547310342445e-18 for feature 4, parameter 7 is out of bounds. Capping to [0, 1].\n",
      "Warning: Normalized parameter -3.988763012783674e-18 for feature 4, parameter 7 is out of bounds. Capping to [0, 1].\n",
      "Warning: Normalized parameter -3.988763012783674e-18 for feature 4, parameter 7 is out of bounds. Capping to [0, 1].\n",
      "Warning: Normalized parameter -1.5606547310342445e-18 for feature 4, parameter 7 is out of bounds. Capping to [0, 1].\n",
      "Warning: Normalized parameter -2.168404344971009e-19 for feature 0, parameter 7 is out of bounds. Capping to [0, 1].\n",
      "Warning: Normalized parameter -1.5606547310342445e-18 for feature 4, parameter 7 is out of bounds. Capping to [0, 1].\n",
      "Warning: Normalized parameter -1.5606547310342445e-18 for feature 4, parameter 7 is out of bounds. Capping to [0, 1].\n"
     ]
    },
    {
     "data": {
      "application/vnd.jupyter.widget-view+json": {
       "model_id": "660ad7cf37264fd9ba03e5a39b6cb183",
       "version_major": 2,
       "version_minor": 0
      },
      "text/plain": [
       "  0%|          | 0/10000 [00:00<?, ?it/s]"
      ]
     },
     "metadata": {},
     "output_type": "display_data"
    },
    {
     "name": "stdout",
     "output_type": "stream",
     "text": [
      "gld_params: [0.05536875 0.02047845 0.25464482 0.11609403]\n",
      "wrapper([ 9.487e-01  1.222e-02 ...  9.614e-01  9.414e-01]) = -0.008967037705570646\n",
      "assembly_constraint_no_mean([ 9.487e-01  1.222e-02 ...  9.614e-01  9.414e-01]) = [-4.584e-01 -1.520e-02 ...  3.450e-01  3.681e-01]\n",
      "Warning: Normalized parameter -1.5606547310342445e-18 for feature 4, parameter 7 is out of bounds. Capping to [0, 1].\n",
      "Warning: Normalized parameter -3.988763012783674e-18 for feature 4, parameter 7 is out of bounds. Capping to [0, 1].\n",
      "Warning: Normalized parameter -1.5606547310342445e-18 for feature 4, parameter 7 is out of bounds. Capping to [0, 1].\n",
      "Warning: Normalized parameter -2.168404344971009e-19 for feature 0, parameter 7 is out of bounds. Capping to [0, 1].\n",
      "Warning: Normalized parameter -1.5606547310342445e-18 for feature 4, parameter 7 is out of bounds. Capping to [0, 1].\n",
      "Warning: Normalized parameter -1.5606547310342445e-18 for feature 4, parameter 7 is out of bounds. Capping to [0, 1].\n"
     ]
    },
    {
     "data": {
      "application/vnd.jupyter.widget-view+json": {
       "model_id": "6780a4352c91468bb965fc32d5d75d85",
       "version_major": 2,
       "version_minor": 0
      },
      "text/plain": [
       "  0%|          | 0/10000 [00:00<?, ?it/s]"
      ]
     },
     "metadata": {},
     "output_type": "display_data"
    },
    {
     "name": "stdout",
     "output_type": "stream",
     "text": [
      "gld_params: [0.05509344 0.02173384 0.25664688 0.12793317]\n",
      "wrapper([ 9.842e-01  0.000e+00 ...  9.527e-01  8.984e-01]) = -0.011253420846921706\n",
      "assembly_constraint_no_mean([ 9.842e-01  0.000e+00 ...  9.527e-01  8.984e-01]) = [-3.001e-02  3.159e-03 ...  9.535e-02  7.677e-02]\n",
      "Warning: Normalized parameter -1.5606547310342445e-18 for feature 4, parameter 7 is out of bounds. Capping to [0, 1].\n",
      "Warning: Normalized parameter -3.988763012783674e-18 for feature 4, parameter 7 is out of bounds. Capping to [0, 1].\n",
      "Warning: Normalized parameter -1.5606547310342445e-18 for feature 4, parameter 7 is out of bounds. Capping to [0, 1].\n",
      "Warning: Normalized parameter -1.5606547310342445e-18 for feature 4, parameter 7 is out of bounds. Capping to [0, 1].\n",
      "Warning: Normalized parameter -1.5606547310342445e-18 for feature 4, parameter 7 is out of bounds. Capping to [0, 1].\n"
     ]
    },
    {
     "data": {
      "application/vnd.jupyter.widget-view+json": {
       "model_id": "b77bd83ee16f43a4a1b2355de375791d",
       "version_major": 2,
       "version_minor": 0
      },
      "text/plain": [
       "  0%|          | 0/10000 [00:00<?, ?it/s]"
      ]
     },
     "metadata": {},
     "output_type": "display_data"
    },
    {
     "name": "stdout",
     "output_type": "stream",
     "text": [
      "gld_params: [0.05478889 0.02087594 0.25960375 0.12098767]\n",
      "wrapper([ 9.326e-01  6.452e-02 ...  9.099e-01  9.870e-01]) = -0.009699732399545217\n",
      "assembly_constraint_no_mean([ 9.326e-01  6.452e-02 ...  9.099e-01  9.870e-01]) = [-6.213e-01  3.361e-01 ... -2.214e-01  3.597e-01]\n",
      "Warning: Normalized parameter -1.5606547310342445e-18 for feature 4, parameter 7 is out of bounds. Capping to [0, 1].\n",
      "Warning: Normalized parameter -1.5606547310342445e-18 for feature 4, parameter 7 is out of bounds. Capping to [0, 1].\n",
      "Warning: Normalized parameter -1.5606547310342445e-18 for feature 4, parameter 7 is out of bounds. Capping to [0, 1].\n",
      "Warning: Normalized parameter -1.5606547310342445e-18 for feature 4, parameter 7 is out of bounds. Capping to [0, 1].\n"
     ]
    },
    {
     "data": {
      "application/vnd.jupyter.widget-view+json": {
       "model_id": "f646e2faf5654a14a93b906225a2748d",
       "version_major": 2,
       "version_minor": 0
      },
      "text/plain": [
       "  0%|          | 0/10000 [00:00<?, ?it/s]"
      ]
     },
     "metadata": {},
     "output_type": "display_data"
    },
    {
     "name": "stdout",
     "output_type": "stream",
     "text": [
      "gld_params: [0.05510598 0.02174685 0.25654121 0.12815853]\n",
      "wrapper([ 9.844e-01  0.000e+00 ...  9.530e-01  8.974e-01]) = -0.011257196172334706\n",
      "assembly_constraint_no_mean([ 9.844e-01  0.000e+00 ...  9.530e-01  8.974e-01]) = [-3.277e-02 -3.433e-04 ...  9.834e-02  7.424e-02]\n",
      "Warning: Normalized parameter -1.5606547310342445e-18 for feature 4, parameter 7 is out of bounds. Capping to [0, 1].\n",
      "Warning: Normalized parameter -1.5606547310342445e-18 for feature 4, parameter 7 is out of bounds. Capping to [0, 1].\n",
      "Warning: Normalized parameter -1.5606547310342445e-18 for feature 4, parameter 7 is out of bounds. Capping to [0, 1].\n",
      "Warning: Normalized parameter -1.5606547310342445e-18 for feature 4, parameter 7 is out of bounds. Capping to [0, 1].\n"
     ]
    },
    {
     "data": {
      "application/vnd.jupyter.widget-view+json": {
       "model_id": "2fd45c5fc50e45aabe28e4c24b70bfe9",
       "version_major": 2,
       "version_minor": 0
      },
      "text/plain": [
       "  0%|          | 0/10000 [00:00<?, ?it/s]"
      ]
     },
     "metadata": {},
     "output_type": "display_data"
    },
    {
     "name": "stdout",
     "output_type": "stream",
     "text": [
      "gld_params: [0.0554038  0.02126192 0.2534554  0.12615978]\n",
      "wrapper([ 9.706e-01  0.000e+00 ...  8.865e-01  1.000e+00]) = -0.009980087775047051\n",
      "assembly_constraint_no_mean([ 9.706e-01  0.000e+00 ...  8.865e-01  1.000e+00]) = [-9.843e-02 -4.869e-01 ...  2.909e-01  3.495e-01]\n",
      "Warning: Normalized parameter -1.5606547310342445e-18 for feature 4, parameter 7 is out of bounds. Capping to [0, 1].\n",
      "Warning: Normalized parameter -1.5606547310342445e-18 for feature 4, parameter 7 is out of bounds. Capping to [0, 1].\n",
      "Warning: Normalized parameter -1.5606547310342445e-18 for feature 4, parameter 7 is out of bounds. Capping to [0, 1].\n"
     ]
    },
    {
     "data": {
      "application/vnd.jupyter.widget-view+json": {
       "model_id": "a0a786542dba4952b66009009f00233b",
       "version_major": 2,
       "version_minor": 0
      },
      "text/plain": [
       "  0%|          | 0/10000 [00:00<?, ?it/s]"
      ]
     },
     "metadata": {},
     "output_type": "display_data"
    },
    {
     "name": "stdout",
     "output_type": "stream",
     "text": [
      "gld_params: [0.05511872 0.0217479  0.25642997 0.128222  ]\n",
      "wrapper([ 9.847e-01  0.000e+00 ...  9.457e-01  9.042e-01]) = -0.01124625595146281\n",
      "assembly_constraint_no_mean([ 9.847e-01  0.000e+00 ...  9.457e-01  9.042e-01]) = [-3.044e-02 -1.028e-03 ...  9.444e-02  6.737e-02]\n",
      "Warning: Normalized parameter -1.5606547310342445e-18 for feature 4, parameter 7 is out of bounds. Capping to [0, 1].\n",
      "Warning: Normalized parameter -1.5606547310342445e-18 for feature 4, parameter 7 is out of bounds. Capping to [0, 1].\n",
      "Warning: Normalized parameter -1.5606547310342445e-18 for feature 4, parameter 7 is out of bounds. Capping to [0, 1].\n",
      "\n",
      "The lower bound for the trust-region radius has been reached.\n",
      "Number of function evaluations: 177.\n",
      "Number of iterations: 66.\n",
      "Least value of wrapper: -0.010814563986135488.\n",
      "Maximum constraint violation: 0.08713072780155683.\n",
      "Corresponding point: [ 1.000e+00  5.191e-02 ...  1.000e+00  8.302e-01].\n",
      "warning: basinhopping: local minimization failure\n",
      "basinhopping step 0: f -0.0108146\n",
      "Starting the optimization procedure.\n",
      "Initial trust-region radius: 2.8284271247461903.\n",
      "Final trust-region radius: 0.33.\n",
      "Maximum number of function evaluations: 4000.\n",
      "Maximum number of iterations: 1000.\n",
      "\n"
     ]
    },
    {
     "data": {
      "application/vnd.jupyter.widget-view+json": {
       "model_id": "2a43c7fe749e4643babcce0607a676d3",
       "version_major": 2,
       "version_minor": 0
      },
      "text/plain": [
       "  0%|          | 0/10000 [00:00<?, ?it/s]"
      ]
     },
     "metadata": {},
     "output_type": "display_data"
    },
    {
     "name": "stdout",
     "output_type": "stream",
     "text": [
      "gld_params: [0.05820263 0.01698177 0.31190491 0.12905778]\n",
      "wrapper([ 0.000e+00  1.000e+00 ...  1.000e+00  5.000e-01]) = -0.00034326351045897263\n",
      "assembly_constraint_no_mean([ 0.000e+00  1.000e+00 ...  1.000e+00  5.000e-01]) = [ 4.173e+00 -7.551e-03 ...  8.574e-01  1.564e+00]\n"
     ]
    },
    {
     "data": {
      "application/vnd.jupyter.widget-view+json": {
       "model_id": "bd2bfb2863134308b9f833873b07ff9c",
       "version_major": 2,
       "version_minor": 0
      },
      "text/plain": [
       "  0%|          | 0/10000 [00:00<?, ?it/s]"
      ]
     },
     "metadata": {},
     "output_type": "display_data"
    },
    {
     "name": "stdout",
     "output_type": "stream",
     "text": [
      "gld_params: [0.05793497 0.01677844 0.31156567 0.12586518]\n",
      "wrapper([ 5.000e-01  1.000e+00 ...  1.000e+00  5.000e-01]) = -0.0003614919559284654\n",
      "assembly_constraint_no_mean([ 5.000e-01  1.000e+00 ...  1.000e+00  5.000e-01]) = [ 3.296e+00 -7.551e-03 ...  8.574e-01  1.564e+00]\n"
     ]
    },
    {
     "data": {
      "application/vnd.jupyter.widget-view+json": {
       "model_id": "8524b4a33532422eb8bc5436bfea550e",
       "version_major": 2,
       "version_minor": 0
      },
      "text/plain": [
       "  0%|          | 0/10000 [00:00<?, ?it/s]"
      ]
     },
     "metadata": {},
     "output_type": "display_data"
    },
    {
     "name": "stdout",
     "output_type": "stream",
     "text": [
      "gld_params: [0.05838921 0.0171058  0.31039013 0.13127448]\n",
      "wrapper([ 0.000e+00  5.000e-01 ...  1.000e+00  5.000e-01]) = -0.0003377551514261821\n",
      "assembly_constraint_no_mean([ 0.000e+00  5.000e-01 ...  1.000e+00  5.000e-01]) = [ 1.163e+00 -7.551e-03 ...  8.574e-01  1.564e+00]\n"
     ]
    },
    {
     "data": {
      "application/vnd.jupyter.widget-view+json": {
       "model_id": "f76d8ed049d9443b86f6dadba5cca836",
       "version_major": 2,
       "version_minor": 0
      },
      "text/plain": [
       "  0%|          | 0/10000 [00:00<?, ?it/s]"
      ]
     },
     "metadata": {},
     "output_type": "display_data"
    },
    {
     "name": "stdout",
     "output_type": "stream",
     "text": [
      "gld_params: [0.05673378 0.0163967  0.31926407 0.12538667]\n",
      "wrapper([ 0.000e+00  1.000e+00 ...  1.000e+00  5.000e-01]) = -0.0003062859596232837\n",
      "assembly_constraint_no_mean([ 0.000e+00  1.000e+00 ...  1.000e+00  5.000e-01]) = [ 3.297e+00 -7.551e-03 ...  8.574e-01  1.564e+00]\n"
     ]
    },
    {
     "data": {
      "application/vnd.jupyter.widget-view+json": {
       "model_id": "8d85a4355a1f47dea92b22988f24fb63",
       "version_major": 2,
       "version_minor": 0
      },
      "text/plain": [
       "  0%|          | 0/10000 [00:00<?, ?it/s]"
      ]
     },
     "metadata": {},
     "output_type": "display_data"
    },
    {
     "name": "stdout",
     "output_type": "stream",
     "text": [
      "gld_params: [0.05946323 0.01685184 0.29923333 0.12138891]\n",
      "wrapper([ 0.000e+00  1.000e+00 ...  1.000e+00  5.000e-01]) = -0.000417347031786408\n",
      "assembly_constraint_no_mean([ 0.000e+00  1.000e+00 ...  1.000e+00  5.000e-01]) = [ 1.227e+00 -7.551e-03 ...  8.574e-01  1.564e+00]\n"
     ]
    },
    {
     "data": {
      "application/vnd.jupyter.widget-view+json": {
       "model_id": "9c0842ba82f4406da2f51e963804dede",
       "version_major": 2,
       "version_minor": 0
      },
      "text/plain": [
       "  0%|          | 0/10000 [00:00<?, ?it/s]"
      ]
     },
     "metadata": {},
     "output_type": "display_data"
    },
    {
     "name": "stdout",
     "output_type": "stream",
     "text": [
      "gld_params: [0.05792643 0.01692778 0.31271073 0.13092857]\n",
      "wrapper([ 0.000e+00  1.000e+00 ...  1.000e+00  5.000e-01]) = -0.00031497445701779913\n",
      "assembly_constraint_no_mean([ 0.000e+00  1.000e+00 ...  1.000e+00  5.000e-01]) = [ 4.173e+00 -6.803e-01 ...  8.574e-01  1.564e+00]\n"
     ]
    },
    {
     "data": {
      "application/vnd.jupyter.widget-view+json": {
       "model_id": "ab0f4697844e48d2b89403e2ead4bc97",
       "version_major": 2,
       "version_minor": 0
      },
      "text/plain": [
       "  0%|          | 0/10000 [00:00<?, ?it/s]"
      ]
     },
     "metadata": {},
     "output_type": "display_data"
    },
    {
     "name": "stdout",
     "output_type": "stream",
     "text": [
      "gld_params: [0.05837553 0.01710312 0.31080758 0.13132877]\n",
      "wrapper([ 0.000e+00  1.000e+00 ...  1.000e+00  5.000e-01]) = -0.0003341566703608344\n",
      "assembly_constraint_no_mean([ 0.000e+00  1.000e+00 ...  1.000e+00  5.000e-01]) = [ 4.173e+00 -5.004e+00 ...  8.574e-01  1.564e+00]\n"
     ]
    },
    {
     "data": {
      "application/vnd.jupyter.widget-view+json": {
       "model_id": "9db5992ef3294de2a6268618ffd6c364",
       "version_major": 2,
       "version_minor": 0
      },
      "text/plain": [
       "  0%|          | 0/10000 [00:00<?, ?it/s]"
      ]
     },
     "metadata": {},
     "output_type": "display_data"
    },
    {
     "name": "stdout",
     "output_type": "stream",
     "text": [
      "gld_params: [0.05683069 0.01632954 0.31693063 0.12081894]\n",
      "wrapper([ 0.000e+00  1.000e+00 ...  1.000e+00  5.000e-01]) = -0.0003662786999844703\n",
      "assembly_constraint_no_mean([ 0.000e+00  1.000e+00 ...  1.000e+00  5.000e-01]) = [ 4.173e+00 -6.758e-01 ...  8.574e-01  1.564e+00]\n"
     ]
    },
    {
     "data": {
      "application/vnd.jupyter.widget-view+json": {
       "model_id": "e519adc90aa24ce9b21286d26b500f8c",
       "version_major": 2,
       "version_minor": 0
      },
      "text/plain": [
       "  0%|          | 0/10000 [00:00<?, ?it/s]"
      ]
     },
     "metadata": {},
     "output_type": "display_data"
    },
    {
     "name": "stdout",
     "output_type": "stream",
     "text": [
      "gld_params: [0.05724916 0.01710032 0.31141259 0.1118842 ]\n",
      "wrapper([ 0.000e+00  1.000e+00 ...  1.000e+00  5.000e-01]) = -0.0008953648301110161\n",
      "assembly_constraint_no_mean([ 0.000e+00  1.000e+00 ...  1.000e+00  5.000e-01]) = [ 4.173e+00  1.201e+00 ...  8.574e-01  1.564e+00]\n"
     ]
    },
    {
     "data": {
      "application/vnd.jupyter.widget-view+json": {
       "model_id": "590833817d524e2ab16b22da8c716e89",
       "version_major": 2,
       "version_minor": 0
      },
      "text/plain": [
       "  0%|          | 0/10000 [00:00<?, ?it/s]"
      ]
     },
     "metadata": {},
     "output_type": "display_data"
    },
    {
     "name": "stdout",
     "output_type": "stream",
     "text": [
      "gld_params: [0.05858904 0.0170829  0.3086182  0.13015856]\n",
      "wrapper([ 0.000e+00  1.000e+00 ...  1.000e+00  5.000e-01]) = -0.00034555724394672027\n",
      "assembly_constraint_no_mean([ 0.000e+00  1.000e+00 ...  1.000e+00  5.000e-01]) = [ 4.173e+00 -7.551e-03 ...  8.574e-01  1.564e+00]\n"
     ]
    },
    {
     "data": {
      "application/vnd.jupyter.widget-view+json": {
       "model_id": "6e1636e2762248af9836ad516d09b829",
       "version_major": 2,
       "version_minor": 0
      },
      "text/plain": [
       "  0%|          | 0/10000 [00:00<?, ?it/s]"
      ]
     },
     "metadata": {},
     "output_type": "display_data"
    },
    {
     "name": "stdout",
     "output_type": "stream",
     "text": [
      "gld_params: [0.05774421 0.01674007 0.31706687 0.12260252]\n",
      "wrapper([ 0.000e+00  1.000e+00 ...  1.000e+00  5.000e-01]) = -0.0003793958680781502\n",
      "assembly_constraint_no_mean([ 0.000e+00  1.000e+00 ...  1.000e+00  5.000e-01]) = [ 4.173e+00 -7.551e-03 ...  8.574e-01  1.564e+00]\n"
     ]
    },
    {
     "data": {
      "application/vnd.jupyter.widget-view+json": {
       "model_id": "9ded9301656d417eaddfc120c288388e",
       "version_major": 2,
       "version_minor": 0
      },
      "text/plain": [
       "  0%|          | 0/10000 [00:00<?, ?it/s]"
      ]
     },
     "metadata": {},
     "output_type": "display_data"
    },
    {
     "name": "stdout",
     "output_type": "stream",
     "text": [
      "gld_params: [0.05997389 0.01637302 0.29634011 0.11151976]\n",
      "wrapper([ 0.000e+00  1.000e+00 ...  1.000e+00  5.000e-01]) = -0.00041414998039887774\n",
      "assembly_constraint_no_mean([ 0.000e+00  1.000e+00 ...  1.000e+00  5.000e-01]) = [ 4.173e+00 -7.551e-03 ...  8.574e-01  1.564e+00]\n"
     ]
    },
    {
     "data": {
      "application/vnd.jupyter.widget-view+json": {
       "model_id": "610b6d71e96d4695968d2a2c9b02073d",
       "version_major": 2,
       "version_minor": 0
      },
      "text/plain": [
       "  0%|          | 0/10000 [00:00<?, ?it/s]"
      ]
     },
     "metadata": {},
     "output_type": "display_data"
    },
    {
     "name": "stdout",
     "output_type": "stream",
     "text": [
      "gld_params: [0.05692831 0.01779616 0.31329789 0.12783082]\n",
      "wrapper([ 0.000e+00  1.000e+00 ...  1.000e+00  5.000e-01]) = -0.0008422785497535751\n",
      "assembly_constraint_no_mean([ 0.000e+00  1.000e+00 ...  1.000e+00  5.000e-01]) = [ 4.173e+00 -7.551e-03 ...  8.574e-01  1.564e+00]\n"
     ]
    },
    {
     "data": {
      "application/vnd.jupyter.widget-view+json": {
       "model_id": "838ff1904e0548adbd871eb500b54670",
       "version_major": 2,
       "version_minor": 0
      },
      "text/plain": [
       "  0%|          | 0/10000 [00:00<?, ?it/s]"
      ]
     },
     "metadata": {},
     "output_type": "display_data"
    },
    {
     "name": "stdout",
     "output_type": "stream",
     "text": [
      "gld_params: [0.0577603  0.01688879 0.3169552  0.12782733]\n",
      "wrapper([ 0.000e+00  1.000e+00 ...  1.000e+00  5.000e-01]) = -0.00033743232986780476\n",
      "assembly_constraint_no_mean([ 0.000e+00  1.000e+00 ...  1.000e+00  5.000e-01]) = [ 4.173e+00 -7.551e-03 ...  8.574e-01  1.564e+00]\n"
     ]
    },
    {
     "data": {
      "application/vnd.jupyter.widget-view+json": {
       "model_id": "1f3507390bf945388b714eb0d7d4aa24",
       "version_major": 2,
       "version_minor": 0
      },
      "text/plain": [
       "  0%|          | 0/10000 [00:00<?, ?it/s]"
      ]
     },
     "metadata": {},
     "output_type": "display_data"
    },
    {
     "name": "stdout",
     "output_type": "stream",
     "text": [
      "gld_params: [0.05851306 0.01694545 0.31015582 0.12517559]\n",
      "wrapper([ 0.000e+00  1.000e+00 ...  1.000e+00  5.000e-01]) = -0.00038207844589742586\n",
      "assembly_constraint_no_mean([ 0.000e+00  1.000e+00 ...  1.000e+00  5.000e-01]) = [ 4.173e+00 -7.551e-03 ...  8.574e-01  1.564e+00]\n"
     ]
    },
    {
     "data": {
      "application/vnd.jupyter.widget-view+json": {
       "model_id": "e17715d193334a72988062651c9fe6e5",
       "version_major": 2,
       "version_minor": 0
      },
      "text/plain": [
       "  0%|          | 0/10000 [00:00<?, ?it/s]"
      ]
     },
     "metadata": {},
     "output_type": "display_data"
    },
    {
     "name": "stdout",
     "output_type": "stream",
     "text": [
      "gld_params: [0.05700462 0.01777093 0.31209019 0.11790638]\n",
      "wrapper([ 0.000e+00  1.000e+00 ...  1.000e+00  5.000e-01]) = -0.0011492817873777535\n",
      "assembly_constraint_no_mean([ 0.000e+00  1.000e+00 ...  1.000e+00  5.000e-01]) = [ 4.173e+00 -7.551e-03 ...  8.574e-01  1.564e+00]\n"
     ]
    },
    {
     "data": {
      "application/vnd.jupyter.widget-view+json": {
       "model_id": "80324ba4c15d4d4daa11c1d0ec24231f",
       "version_major": 2,
       "version_minor": 0
      },
      "text/plain": [
       "  0%|          | 0/10000 [00:00<?, ?it/s]"
      ]
     },
     "metadata": {},
     "output_type": "display_data"
    },
    {
     "name": "stdout",
     "output_type": "stream",
     "text": [
      "gld_params: [0.05982769 0.0164555  0.29831801 0.1163256 ]\n",
      "wrapper([ 0.000e+00  1.000e+00 ...  1.000e+00  5.000e-01]) = -0.0003589590938265021\n",
      "assembly_constraint_no_mean([ 0.000e+00  1.000e+00 ...  1.000e+00  5.000e-01]) = [ 4.173e+00 -7.551e-03 ...  8.574e-01  1.564e+00]\n"
     ]
    },
    {
     "data": {
      "application/vnd.jupyter.widget-view+json": {
       "model_id": "e9126819cdd84c23a2a3484ae903a4f2",
       "version_major": 2,
       "version_minor": 0
      },
      "text/plain": [
       "  0%|          | 0/10000 [00:00<?, ?it/s]"
      ]
     },
     "metadata": {},
     "output_type": "display_data"
    },
    {
     "name": "stdout",
     "output_type": "stream",
     "text": [
      "gld_params: [0.05784784 0.01690908 0.31524943 0.12926272]\n",
      "wrapper([ 0.000e+00  1.000e+00 ...  1.000e+00  5.000e-01]) = -0.00032468518839930756\n",
      "assembly_constraint_no_mean([ 0.000e+00  1.000e+00 ...  1.000e+00  5.000e-01]) = [ 4.173e+00 -7.551e-03 ...  8.574e-01  1.564e+00]\n"
     ]
    },
    {
     "data": {
      "application/vnd.jupyter.widget-view+json": {
       "model_id": "7df9c1e612ef462d9a6eff986ffd730d",
       "version_major": 2,
       "version_minor": 0
      },
      "text/plain": [
       "  0%|          | 0/10000 [00:00<?, ?it/s]"
      ]
     },
     "metadata": {},
     "output_type": "display_data"
    },
    {
     "name": "stdout",
     "output_type": "stream",
     "text": [
      "gld_params: [0.05797186 0.01696615 0.31154026 0.13095471]\n",
      "wrapper([ 0.000e+00  1.000e+00 ...  1.000e+00  5.000e-01]) = -0.00032954386315404635\n",
      "assembly_constraint_no_mean([ 0.000e+00  1.000e+00 ...  1.000e+00  5.000e-01]) = [ 4.173e+00 -7.551e-03 ...  8.574e-01  1.564e+00]\n"
     ]
    },
    {
     "data": {
      "application/vnd.jupyter.widget-view+json": {
       "model_id": "45061d365ca0483b848d92a15e263170",
       "version_major": 2,
       "version_minor": 0
      },
      "text/plain": [
       "  0%|          | 0/10000 [00:00<?, ?it/s]"
      ]
     },
     "metadata": {},
     "output_type": "display_data"
    },
    {
     "name": "stdout",
     "output_type": "stream",
     "text": [
      "gld_params: [0.05696071 0.01751935 0.31430838 0.12750832]\n",
      "wrapper([ 0.000e+00  1.000e+00 ...  1.000e+00  5.000e-01]) = -0.0006923440763948074\n",
      "assembly_constraint_no_mean([ 0.000e+00  1.000e+00 ...  1.000e+00  5.000e-01]) = [ 4.173e+00 -7.551e-03 ...  8.574e-01  1.564e+00]\n"
     ]
    },
    {
     "data": {
      "application/vnd.jupyter.widget-view+json": {
       "model_id": "6e630c1604ba4f03aa01455a0b8f851b",
       "version_major": 2,
       "version_minor": 0
      },
      "text/plain": [
       "  0%|          | 0/10000 [00:00<?, ?it/s]"
      ]
     },
     "metadata": {},
     "output_type": "display_data"
    },
    {
     "name": "stdout",
     "output_type": "stream",
     "text": [
      "gld_params: [0.05663257 0.01735369 0.32352329 0.1370487 ]\n",
      "wrapper([ 0.000e+00  1.000e+00 ...  1.000e+00  5.000e-01]) = -0.00037212809269080365\n",
      "assembly_constraint_no_mean([ 0.000e+00  1.000e+00 ...  1.000e+00  5.000e-01]) = [ 4.173e+00 -7.551e-03 ...  8.574e-01  1.564e+00]\n"
     ]
    },
    {
     "data": {
      "application/vnd.jupyter.widget-view+json": {
       "model_id": "846f950cbc1b4888859212ce4acf431c",
       "version_major": 2,
       "version_minor": 0
      },
      "text/plain": [
       "  0%|          | 0/10000 [00:00<?, ?it/s]"
      ]
     },
     "metadata": {},
     "output_type": "display_data"
    },
    {
     "name": "stdout",
     "output_type": "stream",
     "text": [
      "gld_params: [0.05846633 0.01714517 0.31162875 0.13087024]\n",
      "wrapper([ 0.000e+00  1.000e+00 ...  1.000e+00  5.000e-01]) = -0.0003404291960114677\n",
      "assembly_constraint_no_mean([ 0.000e+00  1.000e+00 ...  1.000e+00  5.000e-01]) = [ 4.173e+00 -7.551e-03 ...  8.574e-01  1.564e+00]\n"
     ]
    },
    {
     "data": {
      "application/vnd.jupyter.widget-view+json": {
       "model_id": "82eddd0364654e78bcece1245f4fc2f8",
       "version_major": 2,
       "version_minor": 0
      },
      "text/plain": [
       "  0%|          | 0/10000 [00:00<?, ?it/s]"
      ]
     },
     "metadata": {},
     "output_type": "display_data"
    },
    {
     "name": "stdout",
     "output_type": "stream",
     "text": [
      "gld_params: [0.05856223 0.01709033 0.30895039 0.13014536]\n",
      "wrapper([ 0.000e+00  1.000e+00 ...  1.000e+00  5.000e-01]) = -0.0003458336876521544\n",
      "assembly_constraint_no_mean([ 0.000e+00  1.000e+00 ...  1.000e+00  5.000e-01]) = [ 4.173e+00 -7.551e-03 ...  8.574e-01  1.564e+00]\n"
     ]
    },
    {
     "data": {
      "application/vnd.jupyter.widget-view+json": {
       "model_id": "c31fd8a3c95b44c68594d73d28521e7f",
       "version_major": 2,
       "version_minor": 0
      },
      "text/plain": [
       "  0%|          | 0/10000 [00:00<?, ?it/s]"
      ]
     },
     "metadata": {},
     "output_type": "display_data"
    },
    {
     "name": "stdout",
     "output_type": "stream",
     "text": [
      "gld_params: [0.05990569 0.01655231 0.2936472  0.11306995]\n",
      "wrapper([ 0.000e+00  1.000e+00 ...  1.000e+00  5.000e-01]) = -0.00047249584674200184\n",
      "assembly_constraint_no_mean([ 0.000e+00  1.000e+00 ...  1.000e+00  5.000e-01]) = [ 4.173e+00 -7.551e-03 ...  8.574e-01  1.564e+00]\n"
     ]
    },
    {
     "data": {
      "application/vnd.jupyter.widget-view+json": {
       "model_id": "18281dbbaedf4267a4fea809b0c83a02",
       "version_major": 2,
       "version_minor": 0
      },
      "text/plain": [
       "  0%|          | 0/10000 [00:00<?, ?it/s]"
      ]
     },
     "metadata": {},
     "output_type": "display_data"
    },
    {
     "name": "stdout",
     "output_type": "stream",
     "text": [
      "gld_params: [0.05655409 0.01726517 0.32619687 0.13375453]\n",
      "wrapper([ 0.000e+00  1.000e+00 ...  1.000e+00  5.000e-01]) = -0.00038801845613789775\n",
      "assembly_constraint_no_mean([ 0.000e+00  1.000e+00 ...  1.000e+00  5.000e-01]) = [ 4.173e+00 -7.551e-03 ...  8.574e-01  1.564e+00]\n"
     ]
    },
    {
     "data": {
      "application/vnd.jupyter.widget-view+json": {
       "model_id": "3a9b6fc778ef489dbcf45d757964e160",
       "version_major": 2,
       "version_minor": 0
      },
      "text/plain": [
       "  0%|          | 0/10000 [00:00<?, ?it/s]"
      ]
     },
     "metadata": {},
     "output_type": "display_data"
    },
    {
     "name": "stdout",
     "output_type": "stream",
     "text": [
      "gld_params: [0.05860726 0.01706513 0.30880045 0.12907521]\n",
      "wrapper([ 0.000e+00  1.000e+00 ...  1.000e+00  5.000e-01]) = -0.00035607594174149736\n",
      "assembly_constraint_no_mean([ 0.000e+00  1.000e+00 ...  1.000e+00  5.000e-01]) = [ 4.173e+00 -7.551e-03 ... -6.577e-01  1.564e+00]\n"
     ]
    },
    {
     "data": {
      "application/vnd.jupyter.widget-view+json": {
       "model_id": "8a384400b49f444c85136af35f389ce4",
       "version_major": 2,
       "version_minor": 0
      },
      "text/plain": [
       "  0%|          | 0/10000 [00:00<?, ?it/s]"
      ]
     },
     "metadata": {},
     "output_type": "display_data"
    },
    {
     "name": "stdout",
     "output_type": "stream",
     "text": [
      "gld_params: [0.05777236 0.01695009 0.3172251  0.12956449]\n",
      "wrapper([ 0.000e+00  1.000e+00 ...  1.000e+00  5.000e-01]) = -0.0003238904318303548\n",
      "assembly_constraint_no_mean([ 0.000e+00  1.000e+00 ...  1.000e+00  5.000e-01]) = [ 4.173e+00 -7.551e-03 ...  1.523e+00  1.564e+00]\n"
     ]
    },
    {
     "data": {
      "application/vnd.jupyter.widget-view+json": {
       "model_id": "e91551e8556e464bb9c8057e9cb474bb",
       "version_major": 2,
       "version_minor": 0
      },
      "text/plain": [
       "  0%|          | 0/10000 [00:00<?, ?it/s]"
      ]
     },
     "metadata": {},
     "output_type": "display_data"
    },
    {
     "name": "stdout",
     "output_type": "stream",
     "text": [
      "gld_params: [0.05711647 0.01775735 0.30225695 0.11531933]\n",
      "wrapper([ 0.000e+00  1.000e+00 ...  1.000e+00  5.000e-01]) = -0.0013887657598830368\n",
      "assembly_constraint_no_mean([ 0.000e+00  1.000e+00 ...  1.000e+00  5.000e-01]) = [ 4.173e+00 -7.551e-03 ...  1.555e+00  1.564e+00]\n"
     ]
    },
    {
     "data": {
      "application/vnd.jupyter.widget-view+json": {
       "model_id": "bc8bff52a7a74c83a48256f6549e542c",
       "version_major": 2,
       "version_minor": 0
      },
      "text/plain": [
       "  0%|          | 0/10000 [00:00<?, ?it/s]"
      ]
     },
     "metadata": {},
     "output_type": "display_data"
    },
    {
     "name": "stdout",
     "output_type": "stream",
     "text": [
      "gld_params: [0.05893123 0.01610031 0.33136775 0.1428764 ]\n",
      "wrapper([ 0.000e+00  1.000e+00 ...  1.000e+00  5.000e-01]) = -2.191727863558817e-05\n",
      "assembly_constraint_no_mean([ 0.000e+00  1.000e+00 ...  1.000e+00  5.000e-01]) = [ 4.173e+00 -7.551e-03 ... -6.946e-01  1.564e+00]\n"
     ]
    },
    {
     "data": {
      "application/vnd.jupyter.widget-view+json": {
       "model_id": "2a14d0f8bc0a4aabba4e7620923e3d48",
       "version_major": 2,
       "version_minor": 0
      },
      "text/plain": [
       "  0%|          | 0/10000 [00:00<?, ?it/s]"
      ]
     },
     "metadata": {},
     "output_type": "display_data"
    },
    {
     "name": "stdout",
     "output_type": "stream",
     "text": [
      "gld_params: [0.05782684 0.01688682 0.31443095 0.12716962]\n",
      "wrapper([ 0.000e+00  1.000e+00 ...  1.000e+00  5.000e-01]) = -0.0003607772950085234\n",
      "assembly_constraint_no_mean([ 0.000e+00  1.000e+00 ...  1.000e+00  5.000e-01]) = [ 4.173e+00 -7.551e-03 ...  8.574e-01  2.139e+00]\n"
     ]
    },
    {
     "data": {
      "application/vnd.jupyter.widget-view+json": {
       "model_id": "722376bddc6c4e07a4de6728955bb9b8",
       "version_major": 2,
       "version_minor": 0
      },
      "text/plain": [
       "  0%|          | 0/10000 [00:00<?, ?it/s]"
      ]
     },
     "metadata": {},
     "output_type": "display_data"
    },
    {
     "name": "stdout",
     "output_type": "stream",
     "text": [
      "gld_params: [0.05857971 0.01705363 0.3087898  0.12903673]\n",
      "wrapper([ 0.000e+00  1.000e+00 ...  1.000e+00  5.000e-01]) = -0.00035572126266830863\n",
      "assembly_constraint_no_mean([ 0.000e+00  1.000e+00 ...  1.000e+00  5.000e-01]) = [ 4.173e+00 -7.551e-03 ...  8.574e-01 -3.488e-01]\n"
     ]
    },
    {
     "data": {
      "application/vnd.jupyter.widget-view+json": {
       "model_id": "b96797868bc44478a3eb3849544099b9",
       "version_major": 2,
       "version_minor": 0
      },
      "text/plain": [
       "  0%|          | 0/10000 [00:00<?, ?it/s]"
      ]
     },
     "metadata": {},
     "output_type": "display_data"
    },
    {
     "name": "stdout",
     "output_type": "stream",
     "text": [
      "gld_params: [0.0596473  0.01632855 0.30940618 0.12409113]\n",
      "wrapper([ 0.000e+00  1.000e+00 ...  5.000e-01  5.000e-01]) = -0.00018332260050432143\n",
      "assembly_constraint_no_mean([ 0.000e+00  1.000e+00 ...  5.000e-01  5.000e-01]) = [ 4.173e+00 -7.551e-03 ...  8.574e-01  4.453e-01]\n"
     ]
    },
    {
     "data": {
      "application/vnd.jupyter.widget-view+json": {
       "model_id": "49f682deb61241069967dfcc79bcb461",
       "version_major": 2,
       "version_minor": 0
      },
      "text/plain": [
       "  0%|          | 0/10000 [00:00<?, ?it/s]"
      ]
     },
     "metadata": {},
     "output_type": "display_data"
    },
    {
     "name": "stdout",
     "output_type": "stream",
     "text": [
      "gld_params: [0.05800289 0.01755269 0.27857899 0.09255331]\n",
      "wrapper([ 0.000e+00  1.000e+00 ...  1.000e+00  1.000e+00]) = -0.0025762983828633563\n",
      "assembly_constraint_no_mean([ 0.000e+00  1.000e+00 ...  1.000e+00  1.000e+00]) = [ 4.173e+00 -7.551e-03 ...  8.574e-01  3.680e+00]\n"
     ]
    },
    {
     "data": {
      "application/vnd.jupyter.widget-view+json": {
       "model_id": "0cf14f006aa24aadb886cad7cf2ca9d7",
       "version_major": 2,
       "version_minor": 0
      },
      "text/plain": [
       "  0%|          | 0/10000 [00:00<?, ?it/s]"
      ]
     },
     "metadata": {},
     "output_type": "display_data"
    },
    {
     "name": "stdout",
     "output_type": "stream",
     "text": [
      "gld_params: [0.05757561 0.01663126 0.31442645 0.12341045]\n",
      "wrapper([ 1.000e+00  1.000e+00 ...  1.000e+00  5.000e-01]) = -0.0003677730673521602\n",
      "assembly_constraint_no_mean([ 1.000e+00  1.000e+00 ...  1.000e+00  5.000e-01]) = [ 3.681e+00 -7.551e-03 ...  8.574e-01  1.564e+00]\n"
     ]
    },
    {
     "data": {
      "application/vnd.jupyter.widget-view+json": {
       "model_id": "d6f96053de484d3082b3240b58791314",
       "version_major": 2,
       "version_minor": 0
      },
      "text/plain": [
       "  0%|          | 0/10000 [00:00<?, ?it/s]"
      ]
     },
     "metadata": {},
     "output_type": "display_data"
    },
    {
     "name": "stdout",
     "output_type": "stream",
     "text": [
      "gld_params: [0.05855197 0.01725502 0.30953301 0.13417044]\n",
      "wrapper([ 0.000e+00  0.000e+00 ...  1.000e+00  5.000e-01]) = -0.000325536517382315\n",
      "assembly_constraint_no_mean([ 0.000e+00  0.000e+00 ...  1.000e+00  5.000e-01]) = [-4.755e-02 -7.551e-03 ...  8.574e-01  1.564e+00]\n"
     ]
    },
    {
     "data": {
      "application/vnd.jupyter.widget-view+json": {
       "model_id": "c4be764a152a423c898806b2120ecfde",
       "version_major": 2,
       "version_minor": 0
      },
      "text/plain": [
       "  0%|          | 0/10000 [00:00<?, ?it/s]"
      ]
     },
     "metadata": {},
     "output_type": "display_data"
    },
    {
     "name": "stdout",
     "output_type": "stream",
     "text": [
      "gld_params: [0.054971   0.01686626 0.33688616 0.13889648]\n",
      "wrapper([ 0.000e+00  1.000e+00 ...  1.000e+00  5.000e-01]) = -0.0002560103938218827\n",
      "assembly_constraint_no_mean([ 0.000e+00  1.000e+00 ...  1.000e+00  5.000e-01]) = [ 3.687e+00 -7.551e-03 ...  8.574e-01  1.564e+00]\n"
     ]
    },
    {
     "data": {
      "application/vnd.jupyter.widget-view+json": {
       "model_id": "271db63c5e1c44648b2f623032ec1788",
       "version_major": 2,
       "version_minor": 0
      },
      "text/plain": [
       "  0%|          | 0/10000 [00:00<?, ?it/s]"
      ]
     },
     "metadata": {},
     "output_type": "display_data"
    },
    {
     "name": "stdout",
     "output_type": "stream",
     "text": [
      "gld_params: [0.05990184 0.01754434 0.30521817 0.13250867]\n",
      "wrapper([ 0.000e+00  1.000e+00 ...  1.000e+00  5.000e-01]) = -0.0003543575680483011\n",
      "assembly_constraint_no_mean([ 0.000e+00  1.000e+00 ...  1.000e+00  5.000e-01]) = [ 4.530e-02 -7.551e-03 ...  8.574e-01  1.564e+00]\n"
     ]
    },
    {
     "data": {
      "application/vnd.jupyter.widget-view+json": {
       "model_id": "6a0fe06fd70c4578bb90b00e52acfd60",
       "version_major": 2,
       "version_minor": 0
      },
      "text/plain": [
       "  0%|          | 0/10000 [00:00<?, ?it/s]"
      ]
     },
     "metadata": {},
     "output_type": "display_data"
    },
    {
     "name": "stdout",
     "output_type": "stream",
     "text": [
      "gld_params: [0.05760814 0.01687554 0.31461067 0.13193443]\n",
      "wrapper([ 0.000e+00  1.000e+00 ...  1.000e+00  5.000e-01]) = -0.0002998798470144741\n",
      "assembly_constraint_no_mean([ 0.000e+00  1.000e+00 ...  1.000e+00  5.000e-01]) = [ 4.173e+00  8.593e-01 ...  8.574e-01  1.564e+00]\n"
     ]
    },
    {
     "data": {
      "application/vnd.jupyter.widget-view+json": {
       "model_id": "2ef027430ebe4b119944dca6df6f21ff",
       "version_major": 2,
       "version_minor": 0
      },
      "text/plain": [
       "  0%|          | 0/10000 [00:00<?, ?it/s]"
      ]
     },
     "metadata": {},
     "output_type": "display_data"
    },
    {
     "name": "stdout",
     "output_type": "stream",
     "text": [
      "gld_params: [0.05854284 0.01725102 0.30976857 0.13457681]\n",
      "wrapper([ 0.000e+00  1.000e+00 ...  1.000e+00  5.000e-01]) = -0.00031714365940449957\n",
      "assembly_constraint_no_mean([ 0.000e+00  1.000e+00 ...  1.000e+00  5.000e-01]) = [ 4.173e+00 -1.000e+01 ...  8.574e-01  1.564e+00]\n"
     ]
    },
    {
     "data": {
      "application/vnd.jupyter.widget-view+json": {
       "model_id": "f990e38845ed4fc59191c5963d4ad371",
       "version_major": 2,
       "version_minor": 0
      },
      "text/plain": [
       "  0%|          | 0/10000 [00:00<?, ?it/s]"
      ]
     },
     "metadata": {},
     "output_type": "display_data"
    },
    {
     "name": "stdout",
     "output_type": "stream",
     "text": [
      "gld_params: [0.05523211 0.01644559 0.32932959 0.11757648]\n",
      "wrapper([ 0.000e+00  1.000e+00 ...  1.000e+00  5.000e-01]) = -0.0005201241960769617\n",
      "assembly_constraint_no_mean([ 0.000e+00  1.000e+00 ...  1.000e+00  5.000e-01]) = [ 4.173e+00  8.509e-01 ...  8.574e-01  1.564e+00]\n"
     ]
    },
    {
     "data": {
      "application/vnd.jupyter.widget-view+json": {
       "model_id": "b91372a7e1ba48888f7398003063f246",
       "version_major": 2,
       "version_minor": 0
      },
      "text/plain": [
       "  0%|          | 0/10000 [00:00<?, ?it/s]"
      ]
     },
     "metadata": {},
     "output_type": "display_data"
    },
    {
     "name": "stdout",
     "output_type": "stream",
     "text": [
      "gld_params: [0.05675729 0.01743678 0.29525491 0.08709784]\n",
      "wrapper([ 0.000e+00  1.000e+00 ...  1.000e+00  5.000e-01]) = -0.002710422241292087\n",
      "assembly_constraint_no_mean([ 0.000e+00  1.000e+00 ...  1.000e+00  5.000e-01]) = [ 4.173e+00  4.175e+00 ...  8.574e-01  1.564e+00]\n"
     ]
    },
    {
     "data": {
      "application/vnd.jupyter.widget-view+json": {
       "model_id": "56fe530f537b4257bb9840a4dd0922d1",
       "version_major": 2,
       "version_minor": 0
      },
      "text/plain": [
       "  0%|          | 0/10000 [00:00<?, ?it/s]"
      ]
     },
     "metadata": {},
     "output_type": "display_data"
    },
    {
     "name": "stdout",
     "output_type": "stream",
     "text": [
      "gld_params: [0.05891446 0.01721453 0.30724322 0.13101615]\n",
      "wrapper([ 0.000e+00  1.000e+00 ...  1.000e+00  5.000e-01]) = -0.0003509785795059286\n",
      "assembly_constraint_no_mean([ 0.000e+00  1.000e+00 ...  1.000e+00  5.000e-01]) = [ 4.173e+00 -7.551e-03 ...  8.574e-01  1.564e+00]\n"
     ]
    },
    {
     "data": {
      "application/vnd.jupyter.widget-view+json": {
       "model_id": "69ae9af77fe44cf39877ac9eb9960d06",
       "version_major": 2,
       "version_minor": 0
      },
      "text/plain": [
       "  0%|          | 0/10000 [00:00<?, ?it/s]"
      ]
     },
     "metadata": {},
     "output_type": "display_data"
    },
    {
     "name": "stdout",
     "output_type": "stream",
     "text": [
      "gld_params: [0.05734585 0.01667657 0.32085113 0.12176121]\n",
      "wrapper([ 0.000e+00  1.000e+00 ...  1.000e+00  5.000e-01]) = -0.00038114929880957057\n",
      "assembly_constraint_no_mean([ 0.000e+00  1.000e+00 ...  1.000e+00  5.000e-01]) = [ 4.173e+00 -7.551e-03 ...  8.574e-01  1.564e+00]\n"
     ]
    },
    {
     "data": {
      "application/vnd.jupyter.widget-view+json": {
       "model_id": "c0481d7d112c4d29853e5d9c3e03c385",
       "version_major": 2,
       "version_minor": 0
      },
      "text/plain": [
       "  0%|          | 0/10000 [00:00<?, ?it/s]"
      ]
     },
     "metadata": {},
     "output_type": "display_data"
    },
    {
     "name": "stdout",
     "output_type": "stream",
     "text": [
      "gld_params: [0.06140073 0.01697697 0.29143593 0.11626281]\n",
      "wrapper([ 0.000e+00  1.000e+00 ...  1.000e+00  5.000e-01]) = -0.0004335696795427216\n",
      "assembly_constraint_no_mean([ 0.000e+00  1.000e+00 ...  1.000e+00  5.000e-01]) = [ 4.173e+00 -7.551e-03 ...  8.574e-01  1.564e+00]\n"
     ]
    },
    {
     "data": {
      "application/vnd.jupyter.widget-view+json": {
       "model_id": "8d16310eedb748cda0572dcd77658dac",
       "version_major": 2,
       "version_minor": 0
      },
      "text/plain": [
       "  0%|          | 0/10000 [00:00<?, ?it/s]"
      ]
     },
     "metadata": {},
     "output_type": "display_data"
    },
    {
     "name": "stdout",
     "output_type": "stream",
     "text": [
      "gld_params: [0.05636467 0.01870136 0.29389621 0.11310474]\n",
      "wrapper([ 0.000e+00  1.000e+00 ...  1.000e+00  5.000e-01]) = -0.0029335061040388524\n",
      "assembly_constraint_no_mean([ 0.000e+00  1.000e+00 ...  1.000e+00  5.000e-01]) = [ 4.173e+00 -7.551e-03 ...  8.574e-01  1.564e+00]\n"
     ]
    },
    {
     "data": {
      "application/vnd.jupyter.widget-view+json": {
       "model_id": "f8beb7798bb94789ab4013ea551a0656",
       "version_major": 2,
       "version_minor": 0
      },
      "text/plain": [
       "  0%|          | 0/10000 [00:00<?, ?it/s]"
      ]
     },
     "metadata": {},
     "output_type": "display_data"
    },
    {
     "name": "stdout",
     "output_type": "stream",
     "text": [
      "gld_params: [0.05735887 0.01686905 0.32097066 0.12819479]\n",
      "wrapper([ 0.000e+00  1.000e+00 ...  1.000e+00  5.000e-01]) = -0.00033089400982714884\n",
      "assembly_constraint_no_mean([ 0.000e+00  1.000e+00 ...  1.000e+00  5.000e-01]) = [ 4.173e+00 -7.551e-03 ...  8.574e-01  1.564e+00]\n"
     ]
    },
    {
     "data": {
      "application/vnd.jupyter.widget-view+json": {
       "model_id": "1545c794595843aa95aeae152f8d0845",
       "version_major": 2,
       "version_minor": 0
      },
      "text/plain": [
       "  0%|          | 0/10000 [00:00<?, ?it/s]"
      ]
     },
     "metadata": {},
     "output_type": "display_data"
    },
    {
     "name": "stdout",
     "output_type": "stream",
     "text": [
      "gld_params: [0.05881901 0.01692561 0.30865477 0.12077832]\n",
      "wrapper([ 0.000e+00  1.000e+00 ...  1.000e+00  5.000e-01]) = -0.00043591485050629666\n",
      "assembly_constraint_no_mean([ 0.000e+00  1.000e+00 ...  1.000e+00  5.000e-01]) = [ 4.173e+00 -7.551e-03 ...  8.574e-01  1.564e+00]\n"
     ]
    },
    {
     "data": {
      "application/vnd.jupyter.widget-view+json": {
       "model_id": "2c05c85edaea40d9b12c0a939c3d94de",
       "version_major": 2,
       "version_minor": 0
      },
      "text/plain": [
       "  0%|          | 0/10000 [00:00<?, ?it/s]"
      ]
     },
     "metadata": {},
     "output_type": "display_data"
    },
    {
     "name": "stdout",
     "output_type": "stream",
     "text": [
      "gld_params: [0.05648395 0.01843288 0.29148379 0.09196079]\n",
      "wrapper([ 0.000e+00  1.000e+00 ...  1.000e+00  5.000e-01]) = -0.004019193500606656\n",
      "assembly_constraint_no_mean([ 0.000e+00  1.000e+00 ...  1.000e+00  5.000e-01]) = [ 4.173e+00 -7.551e-03 ...  8.574e-01  1.564e+00]\n"
     ]
    },
    {
     "data": {
      "application/vnd.jupyter.widget-view+json": {
       "model_id": "dcc4cbdf88fc48d09526c226250e991a",
       "version_major": 2,
       "version_minor": 0
      },
      "text/plain": [
       "  0%|          | 0/10000 [00:00<?, ?it/s]"
      ]
     },
     "metadata": {},
     "output_type": "display_data"
    },
    {
     "name": "stdout",
     "output_type": "stream",
     "text": [
      "gld_params: [0.06112091 0.01694833 0.29343812 0.11971583]\n",
      "wrapper([ 0.000e+00  1.000e+00 ...  1.000e+00  5.000e-01]) = -0.00037519573176969864\n",
      "assembly_constraint_no_mean([ 0.000e+00  1.000e+00 ...  1.000e+00  5.000e-01]) = [ 4.173e+00 -7.551e-03 ...  8.574e-01  1.564e+00]\n"
     ]
    },
    {
     "data": {
      "application/vnd.jupyter.widget-view+json": {
       "model_id": "1f0a6c6b29d04cb185b7680621b14c86",
       "version_major": 2,
       "version_minor": 0
      },
      "text/plain": [
       "  0%|          | 0/10000 [00:00<?, ?it/s]"
      ]
     },
     "metadata": {},
     "output_type": "display_data"
    },
    {
     "name": "stdout",
     "output_type": "stream",
     "text": [
      "gld_params: [0.05749637 0.01682153 0.31824806 0.12853016]\n",
      "wrapper([ 0.000e+00  1.000e+00 ...  1.000e+00  5.000e-01]) = -0.0003198511663488193\n",
      "assembly_constraint_no_mean([ 0.000e+00  1.000e+00 ...  1.000e+00  5.000e-01]) = [ 4.173e+00 -7.551e-03 ...  8.574e-01  1.564e+00]\n"
     ]
    },
    {
     "data": {
      "application/vnd.jupyter.widget-view+json": {
       "model_id": "54524bd36edd461ead2f8aebaf74d41c",
       "version_major": 2,
       "version_minor": 0
      },
      "text/plain": [
       "  0%|          | 0/10000 [00:00<?, ?it/s]"
      ]
     },
     "metadata": {},
     "output_type": "display_data"
    },
    {
     "name": "stdout",
     "output_type": "stream",
     "text": [
      "gld_params: [0.05767477 0.01694545 0.31323988 0.13169948]\n",
      "wrapper([ 0.000e+00  1.000e+00 ...  1.000e+00  5.000e-01]) = -0.00032454162114290065\n",
      "assembly_constraint_no_mean([ 0.000e+00  1.000e+00 ...  1.000e+00  5.000e-01]) = [ 4.173e+00 -7.551e-03 ...  8.574e-01  1.564e+00]\n"
     ]
    },
    {
     "data": {
      "application/vnd.jupyter.widget-view+json": {
       "model_id": "b430b8b8cfc34e12921b5ef8d2507d73",
       "version_major": 2,
       "version_minor": 0
      },
      "text/plain": [
       "  0%|          | 0/10000 [00:00<?, ?it/s]"
      ]
     },
     "metadata": {},
     "output_type": "display_data"
    },
    {
     "name": "stdout",
     "output_type": "stream",
     "text": [
      "gld_params: [0.05627922 0.01800406 0.29981596 0.10382876]\n",
      "wrapper([ 0.000e+00  1.000e+00 ...  1.000e+00  5.000e-01]) = -0.002478514527426446\n",
      "assembly_constraint_no_mean([ 0.000e+00  1.000e+00 ...  1.000e+00  5.000e-01]) = [ 4.173e+00 -7.551e-03 ...  8.574e-01  1.564e+00]\n"
     ]
    },
    {
     "data": {
      "application/vnd.jupyter.widget-view+json": {
       "model_id": "13612bf71ac34263a14ed0daae748fa0",
       "version_major": 2,
       "version_minor": 0
      },
      "text/plain": [
       "  0%|          | 0/10000 [00:00<?, ?it/s]"
      ]
     },
     "metadata": {},
     "output_type": "display_data"
    },
    {
     "name": "stdout",
     "output_type": "stream",
     "text": [
      "gld_params: [0.05562027 0.01788289 0.31704028 0.12721566]\n",
      "wrapper([ 0.000e+00  1.000e+00 ...  1.000e+00  5.000e-01]) = -0.001104099763052667\n",
      "assembly_constraint_no_mean([ 0.000e+00  1.000e+00 ...  1.000e+00  5.000e-01]) = [ 4.173e+00 -7.551e-03 ...  8.574e-01  1.564e+00]\n"
     ]
    },
    {
     "data": {
      "application/vnd.jupyter.widget-view+json": {
       "model_id": "f0697b08add247408977253d7465903e",
       "version_major": 2,
       "version_minor": 0
      },
      "text/plain": [
       "  0%|          | 0/10000 [00:00<?, ?it/s]"
      ]
     },
     "metadata": {},
     "output_type": "display_data"
    },
    {
     "name": "stdout",
     "output_type": "stream",
     "text": [
      "gld_params: [0.05866085 0.0172715  0.31237537 0.13121352]\n",
      "wrapper([ 0.000e+00  1.000e+00 ...  1.000e+00  5.000e-01]) = -0.0003495611726406925\n",
      "assembly_constraint_no_mean([ 0.000e+00  1.000e+00 ...  1.000e+00  5.000e-01]) = [ 4.173e+00 -7.551e-03 ...  8.574e-01  1.564e+00]\n"
     ]
    },
    {
     "data": {
      "application/vnd.jupyter.widget-view+json": {
       "model_id": "ab098932e61a41bd91f6902bf3b7e8a6",
       "version_major": 2,
       "version_minor": 0
      },
      "text/plain": [
       "  0%|          | 0/10000 [00:00<?, ?it/s]"
      ]
     },
     "metadata": {},
     "output_type": "display_data"
    },
    {
     "name": "stdout",
     "output_type": "stream",
     "text": [
      "gld_params: [0.05891847 0.0172511  0.30641597 0.13217114]\n",
      "wrapper([ 0.000e+00  1.000e+00 ...  1.000e+00  5.000e-01]) = -0.00034861720875798986\n",
      "assembly_constraint_no_mean([ 0.000e+00  1.000e+00 ...  1.000e+00  5.000e-01]) = [ 4.173e+00 -7.551e-03 ...  8.574e-01  1.564e+00]\n"
     ]
    },
    {
     "data": {
      "application/vnd.jupyter.widget-view+json": {
       "model_id": "921d84b8453841a5a1b0683256521f20",
       "version_major": 2,
       "version_minor": 0
      },
      "text/plain": [
       "  0%|          | 0/10000 [00:00<?, ?it/s]"
      ]
     },
     "metadata": {},
     "output_type": "display_data"
    },
    {
     "name": "stdout",
     "output_type": "stream",
     "text": [
      "gld_params: [0.06121008 0.01760063 0.28827284 0.13240006]\n",
      "wrapper([ 0.000e+00  1.000e+00 ...  1.000e+00  5.000e-01]) = -0.00038426319690675883\n",
      "assembly_constraint_no_mean([ 0.000e+00  1.000e+00 ...  1.000e+00  5.000e-01]) = [ 4.173e+00 -7.551e-03 ...  8.574e-01  1.564e+00]\n"
     ]
    },
    {
     "data": {
      "application/vnd.jupyter.widget-view+json": {
       "model_id": "fdef7599515c4804a385ce24a13e5c4f",
       "version_major": 2,
       "version_minor": 0
      },
      "text/plain": [
       "  0%|          | 0/10000 [00:00<?, ?it/s]"
      ]
     },
     "metadata": {},
     "output_type": "display_data"
    },
    {
     "name": "stdout",
     "output_type": "stream",
     "text": [
      "gld_params: [0.0594391  0.01766995 0.30801657 0.13903889]\n",
      "wrapper([ 0.000e+00  1.000e+00 ...  1.000e+00  5.000e-01]) = -0.0003023108042169283\n",
      "assembly_constraint_no_mean([ 0.000e+00  1.000e+00 ...  1.000e+00  5.000e-01]) = [ 4.173e+00 -7.551e-03 ...  8.574e-01  1.564e+00]\n"
     ]
    },
    {
     "data": {
      "application/vnd.jupyter.widget-view+json": {
       "model_id": "99cc19d5eb8a4b638aa29cc3ca9559ef",
       "version_major": 2,
       "version_minor": 0
      },
      "text/plain": [
       "  0%|          | 0/10000 [00:00<?, ?it/s]"
      ]
     },
     "metadata": {},
     "output_type": "display_data"
    },
    {
     "name": "stdout",
     "output_type": "stream",
     "text": [
      "gld_params: [0.05895458 0.01710536 0.30734441 0.12667867]\n",
      "wrapper([ 0.000e+00  1.000e+00 ...  1.000e+00  5.000e-01]) = -0.0003872200778431551\n",
      "assembly_constraint_no_mean([ 0.000e+00  1.000e+00 ...  1.000e+00  5.000e-01]) = [ 4.173e+00 -7.551e-03 ...  2.508e-02  1.564e+00]\n"
     ]
    },
    {
     "data": {
      "application/vnd.jupyter.widget-view+json": {
       "model_id": "6af588afb32c4f77b576a32019dd008d",
       "version_major": 2,
       "version_minor": 0
      },
      "text/plain": [
       "  0%|          | 0/10000 [00:00<?, ?it/s]"
      ]
     },
     "metadata": {},
     "output_type": "display_data"
    },
    {
     "name": "stdout",
     "output_type": "stream",
     "text": [
      "gld_params: [0.05738638 0.01693902 0.32085961 0.13038374]\n",
      "wrapper([ 0.000e+00  1.000e+00 ...  1.000e+00  5.000e-01]) = -0.00031461577074358145\n",
      "assembly_constraint_no_mean([ 0.000e+00  1.000e+00 ...  1.000e+00  5.000e-01]) = [ 4.173e+00 -7.551e-03 ...  3.600e+00  1.564e+00]\n"
     ]
    },
    {
     "data": {
      "application/vnd.jupyter.widget-view+json": {
       "model_id": "675478b457004d378d4b7b03051f37f1",
       "version_major": 2,
       "version_minor": 0
      },
      "text/plain": [
       "  0%|          | 0/10000 [00:00<?, ?it/s]"
      ]
     },
     "metadata": {},
     "output_type": "display_data"
    },
    {
     "name": "stdout",
     "output_type": "stream",
     "text": [
      "gld_params: [0.05680251 0.01876802 0.27441805 0.09635651]\n",
      "wrapper([ 0.000e+00  1.000e+00 ...  1.000e+00  5.000e-01]) = -0.004805590274325128\n",
      "assembly_constraint_no_mean([ 0.000e+00  1.000e+00 ...  1.000e+00  5.000e-01]) = [ 4.173e+00 -7.551e-03 ...  3.671e+00  1.564e+00]\n"
     ]
    },
    {
     "data": {
      "application/vnd.jupyter.widget-view+json": {
       "model_id": "3f39c7225bae4ff3ad6a31d16fb43546",
       "version_major": 2,
       "version_minor": 0
      },
      "text/plain": [
       "  0%|          | 0/10000 [00:00<?, ?it/s]"
      ]
     },
     "metadata": {},
     "output_type": "display_data"
    },
    {
     "name": "stdout",
     "output_type": "stream",
     "text": [
      "gld_params: [0.06053083 0.01533755 0.32131    0.13005019]\n",
      "wrapper([ 0.000e+00  1.000e+00 ...  1.000e+00  5.000e-01]) = -1.893907022980269e-05\n",
      "assembly_constraint_no_mean([ 0.000e+00  1.000e+00 ...  1.000e+00  5.000e-01]) = [ 4.173e+00 -7.551e-03 ... -2.275e-02  1.564e+00]\n"
     ]
    },
    {
     "data": {
      "application/vnd.jupyter.widget-view+json": {
       "model_id": "a1a5372f14e3448c9a5b422feef9572a",
       "version_major": 2,
       "version_minor": 0
      },
      "text/plain": [
       "  0%|          | 0/10000 [00:00<?, ?it/s]"
      ]
     },
     "metadata": {},
     "output_type": "display_data"
    },
    {
     "name": "stdout",
     "output_type": "stream",
     "text": [
      "gld_params: [0.05745162 0.01690119 0.31752929 0.12801891]\n",
      "wrapper([ 0.000e+00  1.000e+00 ...  1.000e+00  5.000e-01]) = -0.00036086714084066087\n",
      "assembly_constraint_no_mean([ 0.000e+00  1.000e+00 ...  1.000e+00  5.000e-01]) = [ 4.173e+00 -7.551e-03 ...  8.574e-01  4.018e+00]\n"
     ]
    },
    {
     "data": {
      "application/vnd.jupyter.widget-view+json": {
       "model_id": "981da55f062f469e9cb4f29107b34ce3",
       "version_major": 2,
       "version_minor": 0
      },
      "text/plain": [
       "  0%|          | 0/10000 [00:00<?, ?it/s]"
      ]
     },
     "metadata": {},
     "output_type": "display_data"
    },
    {
     "name": "stdout",
     "output_type": "stream",
     "text": [
      "gld_params: [0.0588973  0.01715648 0.3075247  0.12877552]\n",
      "wrapper([ 0.000e+00  1.000e+00 ...  1.000e+00  5.000e-01]) = -0.0003710353045317441\n",
      "assembly_constraint_no_mean([ 0.000e+00  1.000e+00 ...  1.000e+00  5.000e-01]) = [ 4.173e+00 -7.551e-03 ...  8.574e-01 -6.831e-01]\n"
     ]
    },
    {
     "data": {
      "application/vnd.jupyter.widget-view+json": {
       "model_id": "aecb9cce8fa84e45bb649e30400752ba",
       "version_major": 2,
       "version_minor": 0
      },
      "text/plain": [
       "  0%|          | 0/10000 [00:00<?, ?it/s]"
      ]
     },
     "metadata": {},
     "output_type": "display_data"
    },
    {
     "name": "stdout",
     "output_type": "stream",
     "text": [
      "gld_params: [0.06096693 0.01661913 0.31079584 0.1242591 ]\n",
      "wrapper([ 0.000e+00  1.000e+00 ...  0.000e+00  5.000e-01]) = -0.0001627451061898193\n",
      "assembly_constraint_no_mean([ 0.000e+00  1.000e+00 ...  0.000e+00  5.000e-01]) = [ 4.173e+00 -7.551e-03 ...  8.574e-01  1.213e+00]\n"
     ]
    },
    {
     "data": {
      "application/vnd.jupyter.widget-view+json": {
       "model_id": "ff24fbaed97e4ec083fd27defcaa52bd",
       "version_major": 2,
       "version_minor": 0
      },
      "text/plain": [
       "  0%|          | 0/10000 [00:00<?, ?it/s]"
      ]
     },
     "metadata": {},
     "output_type": "display_data"
    },
    {
     "name": "stdout",
     "output_type": "stream",
     "text": [
      "gld_params: [0.05881589 0.01605749 0.33543244 0.13879571]\n",
      "wrapper([ 0.000e+00  1.000e+00 ...  1.000e+00  0.000e+00]) = -2.8583946051309053e-05\n",
      "assembly_constraint_no_mean([ 0.000e+00  1.000e+00 ...  1.000e+00  0.000e+00]) = [ 4.173e+00 -7.551e-03 ...  8.574e-01  8.657e-01]\n"
     ]
    },
    {
     "data": {
      "application/vnd.jupyter.widget-view+json": {
       "model_id": "503a4df912eb4057974abdfbd7663d36",
       "version_major": 2,
       "version_minor": 0
      },
      "text/plain": [
       "  0%|          | 0/10000 [00:00<?, ?it/s]"
      ]
     },
     "metadata": {},
     "output_type": "display_data"
    },
    {
     "name": "stdout",
     "output_type": "stream",
     "text": [
      "gld_params: [0.05744219 0.01828738 0.2945952  0.10976782]\n",
      "wrapper([ 6.404e-03  1.000e+00 ...  1.000e+00  5.783e-01]) = -0.002211216146422298\n",
      "assembly_constraint_no_mean([ 6.404e-03  1.000e+00 ...  1.000e+00  5.783e-01]) = [ 3.931e+00 -7.551e-03 ...  8.574e-01  1.104e+00]\n"
     ]
    },
    {
     "data": {
      "application/vnd.jupyter.widget-view+json": {
       "model_id": "11fae946f54e4a1284565728d76b4a52",
       "version_major": 2,
       "version_minor": 0
      },
      "text/plain": [
       "  0%|          | 0/10000 [00:00<?, ?it/s]"
      ]
     },
     "metadata": {},
     "output_type": "display_data"
    },
    {
     "name": "stdout",
     "output_type": "stream",
     "text": [
      "gld_params: [0.05832539 0.01768416 0.28319209 0.09214564]\n",
      "wrapper([ 1.026e-01  9.997e-01 ...  8.778e-01  8.710e-01]) = -0.0025079036480737445\n",
      "assembly_constraint_no_mean([ 1.026e-01  9.997e-01 ...  8.778e-01  8.710e-01]) = [ 2.179e+00 -7.551e-03 ...  5.127e-01  9.302e-01]\n"
     ]
    },
    {
     "data": {
      "application/vnd.jupyter.widget-view+json": {
       "model_id": "97c7d95d70614376a9af8ab8114fb738",
       "version_major": 2,
       "version_minor": 0
      },
      "text/plain": [
       "  0%|          | 0/10000 [00:00<?, ?it/s]"
      ]
     },
     "metadata": {},
     "output_type": "display_data"
    },
    {
     "name": "stdout",
     "output_type": "stream",
     "text": [
      "gld_params: [0.0586361  0.01881126 0.26699733 0.0987446 ]\n",
      "wrapper([ 1.452e-01  7.759e-01 ...  6.623e-01  1.000e+00]) = -0.00401516825911919\n",
      "assembly_constraint_no_mean([ 1.452e-01  7.759e-01 ...  6.623e-01  1.000e+00]) = [-3.431e-01 -7.551e-03 ...  2.045e-02  3.926e-01]\n",
      "Warning: Normalized parameter -1.925929944387236e-34 for feature 4, parameter 7 is out of bounds. Capping to [0, 1].\n",
      "Warning: Normalized parameter -1.925929944387236e-34 for feature 4, parameter 7 is out of bounds. Capping to [0, 1].\n",
      "Warning: Normalized parameter -1.925929944387236e-34 for feature 4, parameter 7 is out of bounds. Capping to [0, 1].\n",
      "Warning: Normalized parameter -1.925929944387236e-34 for feature 4, parameter 7 is out of bounds. Capping to [0, 1].\n",
      "Warning: Normalized parameter -1.925929944387236e-34 for feature 4, parameter 7 is out of bounds. Capping to [0, 1].\n"
     ]
    },
    {
     "data": {
      "application/vnd.jupyter.widget-view+json": {
       "model_id": "e5cd2c082ddb400fabd881be4945fedd",
       "version_major": 2,
       "version_minor": 0
      },
      "text/plain": [
       "  0%|          | 0/10000 [00:00<?, ?it/s]"
      ]
     },
     "metadata": {},
     "output_type": "display_data"
    },
    {
     "name": "stdout",
     "output_type": "stream",
     "text": [
      "gld_params: [0.05523662 0.02028158 0.29428312 0.11064616]\n",
      "wrapper([ 0.000e+00  4.721e-01 ...  5.679e-01  1.000e+00]) = -0.006487514355860748\n",
      "assembly_constraint_no_mean([ 0.000e+00  4.721e-01 ...  5.679e-01  1.000e+00]) = [ 1.038e+00 -7.551e-03 ...  1.575e-01 -1.968e-01]\n",
      "Warning: Normalized parameter -1.925929944387236e-34 for feature 4, parameter 7 is out of bounds. Capping to [0, 1].\n",
      "Warning: Normalized parameter -1.925929944387236e-34 for feature 4, parameter 7 is out of bounds. Capping to [0, 1].\n",
      "Warning: Normalized parameter -1.925929944387236e-34 for feature 4, parameter 7 is out of bounds. Capping to [0, 1].\n",
      "Warning: Normalized parameter -1.925929944387236e-34 for feature 4, parameter 7 is out of bounds. Capping to [0, 1].\n"
     ]
    },
    {
     "data": {
      "application/vnd.jupyter.widget-view+json": {
       "model_id": "3c1767c6c9a74758b84dfd759bbf5803",
       "version_major": 2,
       "version_minor": 0
      },
      "text/plain": [
       "  0%|          | 0/10000 [00:00<?, ?it/s]"
      ]
     },
     "metadata": {},
     "output_type": "display_data"
    },
    {
     "name": "stdout",
     "output_type": "stream",
     "text": [
      "gld_params: [0.0557351  0.01844731 0.28210718 0.09978151]\n",
      "wrapper([ 2.159e-01  6.539e-01 ...  6.250e-01  1.000e+00]) = -0.004250554600239155\n",
      "assembly_constraint_no_mean([ 2.159e-01  6.539e-01 ...  6.250e-01  1.000e+00]) = [-5.890e-01 -3.511e-01 ... -1.364e+00  1.366e+00]\n",
      "Warning: Normalized parameter -1.925929944387236e-34 for feature 4, parameter 7 is out of bounds. Capping to [0, 1].\n",
      "Warning: Normalized parameter -1.925929944387236e-34 for feature 4, parameter 7 is out of bounds. Capping to [0, 1].\n",
      "Warning: Normalized parameter -1.925929944387236e-34 for feature 4, parameter 7 is out of bounds. Capping to [0, 1].\n"
     ]
    },
    {
     "data": {
      "application/vnd.jupyter.widget-view+json": {
       "model_id": "9334bc21c48a485a9c1eccbeafa7a972",
       "version_major": 2,
       "version_minor": 0
      },
      "text/plain": [
       "  0%|          | 0/10000 [00:00<?, ?it/s]"
      ]
     },
     "metadata": {},
     "output_type": "display_data"
    },
    {
     "name": "stdout",
     "output_type": "stream",
     "text": [
      "gld_params: [0.0572332  0.01918857 0.27877529 0.09622477]\n",
      "wrapper([ 1.076e-01  7.462e-01 ...  5.960e-01  1.000e+00]) = -0.00510993922605933\n",
      "assembly_constraint_no_mean([ 1.076e-01  7.462e-01 ...  5.960e-01  1.000e+00]) = [ 9.432e-02 -7.551e-03 ...  1.471e-01  8.376e-02]\n",
      "Warning: Normalized parameter -1.925929944387236e-34 for feature 4, parameter 7 is out of bounds. Capping to [0, 1].\n",
      "Warning: Normalized parameter -1.925929944387236e-34 for feature 4, parameter 7 is out of bounds. Capping to [0, 1].\n",
      "Warning: Normalized parameter -1.925929944387236e-34 for feature 4, parameter 7 is out of bounds. Capping to [0, 1].\n",
      "Warning: Normalized parameter -1.925929944387236e-34 for feature 4, parameter 7 is out of bounds. Capping to [0, 1].\n",
      "Warning: Normalized parameter -1.925929944387236e-34 for feature 4, parameter 7 is out of bounds. Capping to [0, 1].\n"
     ]
    },
    {
     "data": {
      "application/vnd.jupyter.widget-view+json": {
       "model_id": "19b123e4b9df4eb6a7d49b49e0f7921e",
       "version_major": 2,
       "version_minor": 0
      },
      "text/plain": [
       "  0%|          | 0/10000 [00:00<?, ?it/s]"
      ]
     },
     "metadata": {},
     "output_type": "display_data"
    },
    {
     "name": "stdout",
     "output_type": "stream",
     "text": [
      "gld_params: [0.05764013 0.01915013 0.28527651 0.10388482]\n",
      "wrapper([ 0.000e+00  5.045e-01 ...  6.000e-01  1.000e+00]) = -0.003921270577523457\n",
      "assembly_constraint_no_mean([ 0.000e+00  5.045e-01 ...  6.000e-01  1.000e+00]) = [ 3.037e-01 -7.551e-03 ...  1.780e-01 -3.990e-02]\n",
      "Warning: Normalized parameter -1.925929944387236e-34 for feature 4, parameter 7 is out of bounds. Capping to [0, 1].\n",
      "Warning: Normalized parameter -1.925929944387236e-34 for feature 4, parameter 7 is out of bounds. Capping to [0, 1].\n"
     ]
    },
    {
     "data": {
      "application/vnd.jupyter.widget-view+json": {
       "model_id": "ce2221a7d0584e938d18559608ff89c6",
       "version_major": 2,
       "version_minor": 0
      },
      "text/plain": [
       "  0%|          | 0/10000 [00:00<?, ?it/s]"
      ]
     },
     "metadata": {},
     "output_type": "display_data"
    },
    {
     "name": "stdout",
     "output_type": "stream",
     "text": [
      "gld_params: [0.05732442 0.01842685 0.29014345 0.09768188]\n",
      "wrapper([ 8.342e-02  8.032e-01 ...  6.867e-01  8.877e-01]) = -0.0032716673378634094\n",
      "assembly_constraint_no_mean([ 8.342e-02  8.032e-01 ...  6.867e-01  8.877e-01]) = [ 1.031e+00 -2.251e+00 ...  2.897e-01 -1.056e-01]\n",
      "Warning: Normalized parameter -1.925929944387236e-34 for feature 4, parameter 7 is out of bounds. Capping to [0, 1].\n",
      "Warning: Normalized parameter -1.925929944387236e-34 for feature 4, parameter 7 is out of bounds. Capping to [0, 1].\n"
     ]
    },
    {
     "data": {
      "application/vnd.jupyter.widget-view+json": {
       "model_id": "132a7d049d0a47b191d10558bc51fc2c",
       "version_major": 2,
       "version_minor": 0
      },
      "text/plain": [
       "  0%|          | 0/10000 [00:00<?, ?it/s]"
      ]
     },
     "metadata": {},
     "output_type": "display_data"
    },
    {
     "name": "stdout",
     "output_type": "stream",
     "text": [
      "gld_params: [0.05725982 0.01970469 0.27277157 0.09963522]\n",
      "wrapper([ 1.619e-01  6.495e-01 ...  5.810e-01  1.000e+00]) = -0.006100401441355774\n",
      "assembly_constraint_no_mean([ 1.619e-01  6.495e-01 ...  5.810e-01  1.000e+00]) = [ 2.498e-01 -7.983e-02 ...  1.193e-01  5.698e-02]\n",
      "Warning: Normalized parameter -8.149203813312898e-20 for feature 4, parameter 1 is out of bounds. Capping to [0, 1].\n",
      "Warning: Normalized parameter -1.6882700606971086e-21 for feature 4, parameter 7 is out of bounds. Capping to [0, 1].\n",
      "Warning: Normalized parameter -1.8526672506586684e-19 for feature 6, parameter 5 is out of bounds. Capping to [0, 1].\n",
      "Warning: Normalized parameter -8.149203813312898e-20 for feature 4, parameter 1 is out of bounds. Capping to [0, 1].\n",
      "Warning: Normalized parameter -1.6882700606971086e-21 for feature 4, parameter 7 is out of bounds. Capping to [0, 1].\n",
      "Warning: Normalized parameter -1.8526672506586684e-19 for feature 6, parameter 5 is out of bounds. Capping to [0, 1].\n",
      "Warning: Normalized parameter -8.149203813312898e-20 for feature 4, parameter 1 is out of bounds. Capping to [0, 1].\n",
      "Warning: Normalized parameter -1.6882700606971086e-21 for feature 4, parameter 7 is out of bounds. Capping to [0, 1].\n",
      "Warning: Normalized parameter -1.8526672506586684e-19 for feature 6, parameter 5 is out of bounds. Capping to [0, 1].\n",
      "Warning: Normalized parameter -8.149203813312898e-20 for feature 4, parameter 1 is out of bounds. Capping to [0, 1].\n",
      "Warning: Normalized parameter -1.6882700606971086e-21 for feature 4, parameter 7 is out of bounds. Capping to [0, 1].\n",
      "Warning: Normalized parameter -1.8526672506586684e-19 for feature 6, parameter 5 is out of bounds. Capping to [0, 1].\n",
      "Warning: Normalized parameter -1.925929944387236e-34 for feature 4, parameter 7 is out of bounds. Capping to [0, 1].\n",
      "Warning: Normalized parameter -8.149203813312898e-20 for feature 4, parameter 1 is out of bounds. Capping to [0, 1].\n",
      "Warning: Normalized parameter -1.6882700606971086e-21 for feature 4, parameter 7 is out of bounds. Capping to [0, 1].\n",
      "Warning: Normalized parameter -1.8526672506586684e-19 for feature 6, parameter 5 is out of bounds. Capping to [0, 1].\n",
      "Warning: Normalized parameter -1.925929944387236e-34 for feature 4, parameter 7 is out of bounds. Capping to [0, 1].\n"
     ]
    },
    {
     "data": {
      "application/vnd.jupyter.widget-view+json": {
       "model_id": "45d3163741f141e49adcb80a3f5500cd",
       "version_major": 2,
       "version_minor": 0
      },
      "text/plain": [
       "  0%|          | 0/10000 [00:00<?, ?it/s]"
      ]
     },
     "metadata": {},
     "output_type": "display_data"
    },
    {
     "name": "stdout",
     "output_type": "stream",
     "text": [
      "gld_params: [0.05618916 0.02057445 0.2715807  0.1041793 ]\n",
      "wrapper([ 1.981e-01  3.960e-01 ...  5.792e-01  1.000e+00]) = -0.008573194321825614\n",
      "assembly_constraint_no_mean([ 1.981e-01  3.960e-01 ...  5.792e-01  1.000e+00]) = [ 3.159e-01 -1.028e-01 ...  2.296e-01 -1.372e-01]\n",
      "Warning: Normalized parameter -8.149203813312898e-20 for feature 4, parameter 1 is out of bounds. Capping to [0, 1].\n",
      "Warning: Normalized parameter -1.6882700606971086e-21 for feature 4, parameter 7 is out of bounds. Capping to [0, 1].\n",
      "Warning: Normalized parameter -1.8526672506586684e-19 for feature 6, parameter 5 is out of bounds. Capping to [0, 1].\n",
      "Warning: Normalized parameter -8.149203813312898e-20 for feature 4, parameter 1 is out of bounds. Capping to [0, 1].\n",
      "Warning: Normalized parameter -1.6882700606971086e-21 for feature 4, parameter 7 is out of bounds. Capping to [0, 1].\n",
      "Warning: Normalized parameter -1.8526672506586684e-19 for feature 6, parameter 5 is out of bounds. Capping to [0, 1].\n",
      "Warning: Normalized parameter -8.149203813312898e-20 for feature 4, parameter 1 is out of bounds. Capping to [0, 1].\n",
      "Warning: Normalized parameter -1.6882700606971086e-21 for feature 4, parameter 7 is out of bounds. Capping to [0, 1].\n",
      "Warning: Normalized parameter -1.8526672506586684e-19 for feature 6, parameter 5 is out of bounds. Capping to [0, 1].\n",
      "Warning: Normalized parameter -8.149203813312898e-20 for feature 4, parameter 1 is out of bounds. Capping to [0, 1].\n",
      "Warning: Normalized parameter -1.6882700606971086e-21 for feature 4, parameter 7 is out of bounds. Capping to [0, 1].\n",
      "Warning: Normalized parameter -1.8526672506586684e-19 for feature 6, parameter 5 is out of bounds. Capping to [0, 1].\n",
      "Warning: Normalized parameter -1.925929944387236e-34 for feature 4, parameter 7 is out of bounds. Capping to [0, 1].\n",
      "Warning: Normalized parameter -1.925929944387236e-34 for feature 4, parameter 7 is out of bounds. Capping to [0, 1].\n"
     ]
    },
    {
     "data": {
      "application/vnd.jupyter.widget-view+json": {
       "model_id": "266416145ced492186d1e15c36091dcd",
       "version_major": 2,
       "version_minor": 0
      },
      "text/plain": [
       "  0%|          | 0/10000 [00:00<?, ?it/s]"
      ]
     },
     "metadata": {},
     "output_type": "display_data"
    },
    {
     "name": "stdout",
     "output_type": "stream",
     "text": [
      "gld_params: [0.05606705 0.01985182 0.28065898 0.10425288]\n",
      "wrapper([ 1.619e-01  6.495e-01 ...  5.810e-01  1.000e+00]) = -0.0063834594533438635\n",
      "assembly_constraint_no_mean([ 1.619e-01  6.495e-01 ...  5.810e-01  1.000e+00]) = [ 2.498e-01  1.137e+00 ...  1.193e-01  5.698e-02]\n",
      "Warning: Normalized parameter -8.149203813312898e-20 for feature 4, parameter 1 is out of bounds. Capping to [0, 1].\n",
      "Warning: Normalized parameter -1.6882700606971086e-21 for feature 4, parameter 7 is out of bounds. Capping to [0, 1].\n",
      "Warning: Normalized parameter -1.8526672506586684e-19 for feature 6, parameter 5 is out of bounds. Capping to [0, 1].\n",
      "Warning: Normalized parameter -8.149203813312898e-20 for feature 4, parameter 1 is out of bounds. Capping to [0, 1].\n",
      "Warning: Normalized parameter -1.6882700606971086e-21 for feature 4, parameter 7 is out of bounds. Capping to [0, 1].\n",
      "Warning: Normalized parameter -1.8526672506586684e-19 for feature 6, parameter 5 is out of bounds. Capping to [0, 1].\n",
      "Warning: Normalized parameter -1.925929944387236e-34 for feature 4, parameter 7 is out of bounds. Capping to [0, 1].\n",
      "Warning: Normalized parameter -1.925929944387236e-34 for feature 4, parameter 7 is out of bounds. Capping to [0, 1].\n",
      "Warning: Normalized parameter -8.149203813312898e-20 for feature 4, parameter 1 is out of bounds. Capping to [0, 1].\n",
      "Warning: Normalized parameter -1.6882700606971086e-21 for feature 4, parameter 7 is out of bounds. Capping to [0, 1].\n",
      "Warning: Normalized parameter -1.8526672506586684e-19 for feature 6, parameter 5 is out of bounds. Capping to [0, 1].\n"
     ]
    },
    {
     "data": {
      "application/vnd.jupyter.widget-view+json": {
       "model_id": "85c08061125b49c1a6cbf7669a6ad7f9",
       "version_major": 2,
       "version_minor": 0
      },
      "text/plain": [
       "  0%|          | 0/10000 [00:00<?, ?it/s]"
      ]
     },
     "metadata": {},
     "output_type": "display_data"
    },
    {
     "name": "stdout",
     "output_type": "stream",
     "text": [
      "gld_params: [0.05686525 0.02023463 0.26863025 0.10260717]\n",
      "wrapper([ 1.995e-01  4.411e-01 ...  6.207e-01  1.000e+00]) = -0.007519084530579093\n",
      "assembly_constraint_no_mean([ 1.995e-01  4.411e-01 ...  6.207e-01  1.000e+00]) = [ 3.302e-01 -5.232e-02 ...  5.913e-02  7.845e-02]\n",
      "Warning: Normalized parameter -1.6352250812405645e-19 for feature 6, parameter 5 is out of bounds. Capping to [0, 1].\n",
      "Warning: Normalized parameter -8.149203813312898e-20 for feature 4, parameter 1 is out of bounds. Capping to [0, 1].\n",
      "Warning: Normalized parameter -1.6882700606971086e-21 for feature 4, parameter 7 is out of bounds. Capping to [0, 1].\n",
      "Warning: Normalized parameter -1.8526672506586684e-19 for feature 6, parameter 5 is out of bounds. Capping to [0, 1].\n",
      "Warning: Normalized parameter -1.6352250812405645e-19 for feature 6, parameter 5 is out of bounds. Capping to [0, 1].\n",
      "Warning: Normalized parameter -8.149203813312898e-20 for feature 4, parameter 1 is out of bounds. Capping to [0, 1].\n",
      "Warning: Normalized parameter -1.6882700606971086e-21 for feature 4, parameter 7 is out of bounds. Capping to [0, 1].\n",
      "Warning: Normalized parameter -1.8526672506586684e-19 for feature 6, parameter 5 is out of bounds. Capping to [0, 1].\n",
      "Warning: Normalized parameter -1.6352250812405645e-19 for feature 6, parameter 5 is out of bounds. Capping to [0, 1].\n",
      "Warning: Normalized parameter -8.149203813312898e-20 for feature 4, parameter 1 is out of bounds. Capping to [0, 1].\n",
      "Warning: Normalized parameter -1.6882700606971086e-21 for feature 4, parameter 7 is out of bounds. Capping to [0, 1].\n",
      "Warning: Normalized parameter -1.8526672506586684e-19 for feature 6, parameter 5 is out of bounds. Capping to [0, 1].\n",
      "Warning: Normalized parameter -1.6352250812405645e-19 for feature 6, parameter 5 is out of bounds. Capping to [0, 1].\n",
      "Warning: Normalized parameter -8.149203813312898e-20 for feature 4, parameter 1 is out of bounds. Capping to [0, 1].\n",
      "Warning: Normalized parameter -1.6882700606971086e-21 for feature 4, parameter 7 is out of bounds. Capping to [0, 1].\n",
      "Warning: Normalized parameter -1.8526672506586684e-19 for feature 6, parameter 5 is out of bounds. Capping to [0, 1].\n",
      "Warning: Normalized parameter -1.925929944387236e-34 for feature 4, parameter 7 is out of bounds. Capping to [0, 1].\n",
      "Warning: Normalized parameter -1.6352250812405645e-19 for feature 6, parameter 5 is out of bounds. Capping to [0, 1].\n",
      "Warning: Normalized parameter -1.925929944387236e-34 for feature 4, parameter 7 is out of bounds. Capping to [0, 1].\n",
      "Warning: Normalized parameter -8.149203813312898e-20 for feature 4, parameter 1 is out of bounds. Capping to [0, 1].\n",
      "Warning: Normalized parameter -1.6882700606971086e-21 for feature 4, parameter 7 is out of bounds. Capping to [0, 1].\n",
      "Warning: Normalized parameter -1.8526672506586684e-19 for feature 6, parameter 5 is out of bounds. Capping to [0, 1].\n"
     ]
    },
    {
     "data": {
      "application/vnd.jupyter.widget-view+json": {
       "model_id": "80859218e46d41cfb1b266e15ff85d09",
       "version_major": 2,
       "version_minor": 0
      },
      "text/plain": [
       "  0%|          | 0/10000 [00:00<?, ?it/s]"
      ]
     },
     "metadata": {},
     "output_type": "display_data"
    },
    {
     "name": "stdout",
     "output_type": "stream",
     "text": [
      "gld_params: [0.05747937 0.02076763 0.26194195 0.10887344]\n",
      "wrapper([ 1.413e-01  2.308e-01 ...  6.106e-01  1.000e+00]) = -0.00803092883016034\n",
      "assembly_constraint_no_mean([ 1.413e-01  2.308e-01 ...  6.106e-01  1.000e+00]) = [-2.473e-02 -6.510e-02 ...  3.935e-01  1.838e-01]\n",
      "Warning: Normalized parameter -1.6352250812405645e-19 for feature 6, parameter 5 is out of bounds. Capping to [0, 1].\n",
      "Warning: Normalized parameter -1.6352250812405645e-19 for feature 6, parameter 5 is out of bounds. Capping to [0, 1].\n",
      "Warning: Normalized parameter -1.6352250812405645e-19 for feature 6, parameter 5 is out of bounds. Capping to [0, 1].\n",
      "Warning: Normalized parameter -1.6352250812405645e-19 for feature 6, parameter 5 is out of bounds. Capping to [0, 1].\n",
      "Warning: Normalized parameter -1.925929944387236e-34 for feature 4, parameter 7 is out of bounds. Capping to [0, 1].\n",
      "Warning: Normalized parameter -8.149203813312898e-20 for feature 4, parameter 1 is out of bounds. Capping to [0, 1].\n",
      "Warning: Normalized parameter -1.6882700606971086e-21 for feature 4, parameter 7 is out of bounds. Capping to [0, 1].\n",
      "Warning: Normalized parameter -1.8526672506586684e-19 for feature 6, parameter 5 is out of bounds. Capping to [0, 1].\n",
      "Warning: Normalized parameter -1.925929944387236e-34 for feature 4, parameter 7 is out of bounds. Capping to [0, 1].\n",
      "Warning: Normalized parameter -8.149203813312898e-20 for feature 4, parameter 1 is out of bounds. Capping to [0, 1].\n",
      "Warning: Normalized parameter -1.6882700606971086e-21 for feature 4, parameter 7 is out of bounds. Capping to [0, 1].\n",
      "Warning: Normalized parameter -1.8526672506586684e-19 for feature 6, parameter 5 is out of bounds. Capping to [0, 1].\n"
     ]
    },
    {
     "data": {
      "application/vnd.jupyter.widget-view+json": {
       "model_id": "59e6f09a71c549cab113b510f0492074",
       "version_major": 2,
       "version_minor": 0
      },
      "text/plain": [
       "  0%|          | 0/10000 [00:00<?, ?it/s]"
      ]
     },
     "metadata": {},
     "output_type": "display_data"
    },
    {
     "name": "stdout",
     "output_type": "stream",
     "text": [
      "gld_params: [0.05618589 0.02072595 0.2722601  0.11503628]\n",
      "wrapper([ 1.993e-01  4.430e-01 ...  6.218e-01  1.000e+00]) = -0.007682794026219882\n",
      "assembly_constraint_no_mean([ 1.993e-01  4.430e-01 ...  6.218e-01  1.000e+00]) = [ 1.948e-01 -9.324e-01 ...  1.183e-02  1.264e-02]\n",
      "Warning: Normalized parameter -1.6352250812405645e-19 for feature 6, parameter 5 is out of bounds. Capping to [0, 1].\n",
      "Warning: Normalized parameter -1.6352250812405645e-19 for feature 6, parameter 5 is out of bounds. Capping to [0, 1].\n",
      "Warning: Normalized parameter -1.925929944387236e-34 for feature 4, parameter 7 is out of bounds. Capping to [0, 1].\n",
      "Warning: Normalized parameter -8.149203813312898e-20 for feature 4, parameter 1 is out of bounds. Capping to [0, 1].\n",
      "Warning: Normalized parameter -1.6882700606971086e-21 for feature 4, parameter 7 is out of bounds. Capping to [0, 1].\n",
      "Warning: Normalized parameter -1.8526672506586684e-19 for feature 6, parameter 5 is out of bounds. Capping to [0, 1].\n",
      "Warning: Normalized parameter -1.925929944387236e-34 for feature 4, parameter 7 is out of bounds. Capping to [0, 1].\n",
      "Warning: Normalized parameter -8.149203813312898e-20 for feature 4, parameter 1 is out of bounds. Capping to [0, 1].\n",
      "Warning: Normalized parameter -1.6882700606971086e-21 for feature 4, parameter 7 is out of bounds. Capping to [0, 1].\n",
      "Warning: Normalized parameter -1.8526672506586684e-19 for feature 6, parameter 5 is out of bounds. Capping to [0, 1].\n",
      "Warning: Normalized parameter -1.6352250812405645e-19 for feature 6, parameter 5 is out of bounds. Capping to [0, 1].\n"
     ]
    },
    {
     "data": {
      "application/vnd.jupyter.widget-view+json": {
       "model_id": "b073b2fa489749fda5f438507bc9b3c9",
       "version_major": 2,
       "version_minor": 0
      },
      "text/plain": [
       "  0%|          | 0/10000 [00:00<?, ?it/s]"
      ]
     },
     "metadata": {},
     "output_type": "display_data"
    },
    {
     "name": "stdout",
     "output_type": "stream",
     "text": [
      "gld_params: [0.05700303 0.02031283 0.26012569 0.10278293]\n",
      "wrapper([ 3.888e-01  4.664e-01 ...  6.802e-01  1.000e+00]) = -0.008137160887429008\n",
      "assembly_constraint_no_mean([ 3.888e-01  4.664e-01 ...  6.802e-01  1.000e+00]) = [ 2.728e-01 -5.342e-02 ...  9.582e-02  3.218e-02]\n",
      "Warning: Normalized parameter -1.6352250812405645e-19 for feature 6, parameter 5 is out of bounds. Capping to [0, 1].\n",
      "Warning: Normalized parameter -1.6352250812405645e-19 for feature 6, parameter 5 is out of bounds. Capping to [0, 1].\n",
      "Warning: Normalized parameter -1.6352250812405645e-19 for feature 6, parameter 5 is out of bounds. Capping to [0, 1].\n",
      "Warning: Normalized parameter -1.6352250812405645e-19 for feature 6, parameter 5 is out of bounds. Capping to [0, 1].\n",
      "Warning: Normalized parameter -1.925929944387236e-34 for feature 4, parameter 7 is out of bounds. Capping to [0, 1].\n",
      "Warning: Normalized parameter -8.149203813312898e-20 for feature 4, parameter 1 is out of bounds. Capping to [0, 1].\n",
      "Warning: Normalized parameter -1.6882700606971086e-21 for feature 4, parameter 7 is out of bounds. Capping to [0, 1].\n",
      "Warning: Normalized parameter -1.8526672506586684e-19 for feature 6, parameter 5 is out of bounds. Capping to [0, 1].\n",
      "Warning: Normalized parameter -1.925929944387236e-34 for feature 4, parameter 7 is out of bounds. Capping to [0, 1].\n",
      "Warning: Normalized parameter -8.149203813312898e-20 for feature 4, parameter 1 is out of bounds. Capping to [0, 1].\n",
      "Warning: Normalized parameter -1.6882700606971086e-21 for feature 4, parameter 7 is out of bounds. Capping to [0, 1].\n",
      "Warning: Normalized parameter -1.8526672506586684e-19 for feature 6, parameter 5 is out of bounds. Capping to [0, 1].\n",
      "Warning: Normalized parameter -1.6352250812405645e-19 for feature 6, parameter 5 is out of bounds. Capping to [0, 1].\n"
     ]
    },
    {
     "data": {
      "application/vnd.jupyter.widget-view+json": {
       "model_id": "01d6c40daec74060b84f98f4651944a5",
       "version_major": 2,
       "version_minor": 0
      },
      "text/plain": [
       "  0%|          | 0/10000 [00:00<?, ?it/s]"
      ]
     },
     "metadata": {},
     "output_type": "display_data"
    },
    {
     "name": "stdout",
     "output_type": "stream",
     "text": [
      "gld_params: [0.05657197 0.01983413 0.26539065 0.09709152]\n",
      "wrapper([ 1.901e-01  4.370e-01 ...  6.216e-01  1.000e+00]) = -0.0076137213869120045\n",
      "assembly_constraint_no_mean([ 1.901e-01  4.370e-01 ...  6.216e-01  1.000e+00]) = [ 2.443e-01 -1.446e+00 ...  5.751e-02  7.048e-04]\n",
      "Warning: Normalized parameter -1.6352250812405645e-19 for feature 6, parameter 5 is out of bounds. Capping to [0, 1].\n",
      "Warning: Normalized parameter -1.6352250812405645e-19 for feature 6, parameter 5 is out of bounds. Capping to [0, 1].\n",
      "Warning: Normalized parameter -1.925929944387236e-34 for feature 4, parameter 7 is out of bounds. Capping to [0, 1].\n",
      "Warning: Normalized parameter -8.149203813312898e-20 for feature 4, parameter 1 is out of bounds. Capping to [0, 1].\n",
      "Warning: Normalized parameter -1.6882700606971086e-21 for feature 4, parameter 7 is out of bounds. Capping to [0, 1].\n",
      "Warning: Normalized parameter -1.8526672506586684e-19 for feature 6, parameter 5 is out of bounds. Capping to [0, 1].\n",
      "Warning: Normalized parameter -1.925929944387236e-34 for feature 4, parameter 7 is out of bounds. Capping to [0, 1].\n",
      "Warning: Normalized parameter -1.6352250812405645e-19 for feature 6, parameter 5 is out of bounds. Capping to [0, 1].\n",
      "Warning: Normalized parameter -8.149203813312898e-20 for feature 4, parameter 1 is out of bounds. Capping to [0, 1].\n",
      "Warning: Normalized parameter -1.6882700606971086e-21 for feature 4, parameter 7 is out of bounds. Capping to [0, 1].\n",
      "Warning: Normalized parameter -1.8526672506586684e-19 for feature 6, parameter 5 is out of bounds. Capping to [0, 1].\n",
      "Warning: Normalized parameter -1.6352250812405645e-19 for feature 6, parameter 5 is out of bounds. Capping to [0, 1].\n"
     ]
    },
    {
     "data": {
      "application/vnd.jupyter.widget-view+json": {
       "model_id": "20da95160cef42f7b5ab40be01d191b8",
       "version_major": 2,
       "version_minor": 0
      },
      "text/plain": [
       "  0%|          | 0/10000 [00:00<?, ?it/s]"
      ]
     },
     "metadata": {},
     "output_type": "display_data"
    },
    {
     "name": "stdout",
     "output_type": "stream",
     "text": [
      "gld_params: [0.05745751 0.0200418  0.27421689 0.10073394]\n",
      "wrapper([ 3.739e-03  2.049e-01 ...  5.924e-01  1.000e+00]) = -0.006469235324906337\n",
      "assembly_constraint_no_mean([ 3.739e-03  2.049e-01 ...  5.924e-01  1.000e+00]) = [ 1.502e-01 -3.371e-02 ...  1.994e-01  2.654e-01]\n",
      "Warning: Normalized parameter -1.6352250812405645e-19 for feature 6, parameter 5 is out of bounds. Capping to [0, 1].\n",
      "Warning: Normalized parameter -1.6352250812405645e-19 for feature 6, parameter 5 is out of bounds. Capping to [0, 1].\n",
      "Warning: Normalized parameter -1.6352250812405645e-19 for feature 6, parameter 5 is out of bounds. Capping to [0, 1].\n",
      "Warning: Normalized parameter -1.6352250812405645e-19 for feature 6, parameter 5 is out of bounds. Capping to [0, 1].\n",
      "Warning: Normalized parameter -1.925929944387236e-34 for feature 4, parameter 7 is out of bounds. Capping to [0, 1].\n",
      "Warning: Normalized parameter -8.149203813312898e-20 for feature 4, parameter 1 is out of bounds. Capping to [0, 1].\n",
      "Warning: Normalized parameter -1.6882700606971086e-21 for feature 4, parameter 7 is out of bounds. Capping to [0, 1].\n",
      "Warning: Normalized parameter -1.8526672506586684e-19 for feature 6, parameter 5 is out of bounds. Capping to [0, 1].\n",
      "Warning: Normalized parameter -1.925929944387236e-34 for feature 4, parameter 7 is out of bounds. Capping to [0, 1].\n",
      "Warning: Normalized parameter -1.6352250812405645e-19 for feature 6, parameter 5 is out of bounds. Capping to [0, 1].\n",
      "Warning: Normalized parameter -8.149203813312898e-20 for feature 4, parameter 1 is out of bounds. Capping to [0, 1].\n",
      "Warning: Normalized parameter -1.6882700606971086e-21 for feature 4, parameter 7 is out of bounds. Capping to [0, 1].\n",
      "Warning: Normalized parameter -1.8526672506586684e-19 for feature 6, parameter 5 is out of bounds. Capping to [0, 1].\n",
      "Warning: Normalized parameter -1.6352250812405645e-19 for feature 6, parameter 5 is out of bounds. Capping to [0, 1].\n"
     ]
    },
    {
     "data": {
      "application/vnd.jupyter.widget-view+json": {
       "model_id": "61a93c17570446f186f51eec5a432952",
       "version_major": 2,
       "version_minor": 0
      },
      "text/plain": [
       "  0%|          | 0/10000 [00:00<?, ?it/s]"
      ]
     },
     "metadata": {},
     "output_type": "display_data"
    },
    {
     "name": "stdout",
     "output_type": "stream",
     "text": [
      "gld_params: [0.05652144 0.02033125 0.27182396 0.10246131]\n",
      "wrapper([ 1.406e-01  4.561e-01 ...  6.162e-01  1.000e+00]) = -0.007843939239496195\n",
      "assembly_constraint_no_mean([ 1.406e-01  4.561e-01 ...  6.162e-01  1.000e+00]) = [ 6.108e-01 -2.152e-01 ...  4.813e-02 -1.354e-01]\n",
      "Warning: Normalized parameter -1.6352250812405645e-19 for feature 6, parameter 5 is out of bounds. Capping to [0, 1].\n",
      "Warning: Normalized parameter -1.6352250812405645e-19 for feature 6, parameter 5 is out of bounds. Capping to [0, 1].\n",
      "Warning: Normalized parameter -1.925929944387236e-34 for feature 4, parameter 7 is out of bounds. Capping to [0, 1].\n",
      "Warning: Normalized parameter -8.149203813312898e-20 for feature 4, parameter 1 is out of bounds. Capping to [0, 1].\n",
      "Warning: Normalized parameter -1.6882700606971086e-21 for feature 4, parameter 7 is out of bounds. Capping to [0, 1].\n",
      "Warning: Normalized parameter -1.8526672506586684e-19 for feature 6, parameter 5 is out of bounds. Capping to [0, 1].\n",
      "Warning: Normalized parameter -1.925929944387236e-34 for feature 4, parameter 7 is out of bounds. Capping to [0, 1].\n",
      "Warning: Normalized parameter -1.6352250812405645e-19 for feature 6, parameter 5 is out of bounds. Capping to [0, 1].\n",
      "Warning: Normalized parameter -8.149203813312898e-20 for feature 4, parameter 1 is out of bounds. Capping to [0, 1].\n",
      "Warning: Normalized parameter -1.6882700606971086e-21 for feature 4, parameter 7 is out of bounds. Capping to [0, 1].\n",
      "Warning: Normalized parameter -1.8526672506586684e-19 for feature 6, parameter 5 is out of bounds. Capping to [0, 1].\n",
      "Warning: Normalized parameter -1.6352250812405645e-19 for feature 6, parameter 5 is out of bounds. Capping to [0, 1].\n",
      "Warning: Normalized parameter -1.6352250812405645e-19 for feature 6, parameter 5 is out of bounds. Capping to [0, 1].\n"
     ]
    },
    {
     "data": {
      "application/vnd.jupyter.widget-view+json": {
       "model_id": "1ae3668c784440c3a005cc57cb33221c",
       "version_major": 2,
       "version_minor": 0
      },
      "text/plain": [
       "  0%|          | 0/10000 [00:00<?, ?it/s]"
      ]
     },
     "metadata": {},
     "output_type": "display_data"
    },
    {
     "name": "stdout",
     "output_type": "stream",
     "text": [
      "gld_params: [0.05671697 0.02010161 0.26241161 0.10326311]\n",
      "wrapper([ 4.846e-01  4.679e-01 ...  7.492e-01  1.000e+00]) = -0.007665043420429617\n",
      "assembly_constraint_no_mean([ 4.846e-01  4.679e-01 ...  7.492e-01  1.000e+00]) = [ 2.754e-01 -4.478e-02 ...  1.871e-01  1.288e-01]\n",
      "Warning: Normalized parameter -1.7140822247012984e-19 for feature 4, parameter 1 is out of bounds. Capping to [0, 1].\n",
      "Warning: Normalized parameter -1.6352250812405645e-19 for feature 6, parameter 5 is out of bounds. Capping to [0, 1].\n",
      "Warning: Normalized parameter -1.7140822247012984e-19 for feature 4, parameter 1 is out of bounds. Capping to [0, 1].\n",
      "Warning: Normalized parameter -1.6352250812405645e-19 for feature 6, parameter 5 is out of bounds. Capping to [0, 1].\n",
      "Warning: Normalized parameter -1.7140822247012984e-19 for feature 4, parameter 1 is out of bounds. Capping to [0, 1].\n",
      "Warning: Normalized parameter -1.6352250812405645e-19 for feature 6, parameter 5 is out of bounds. Capping to [0, 1].\n",
      "Warning: Normalized parameter -1.7140822247012984e-19 for feature 4, parameter 1 is out of bounds. Capping to [0, 1].\n",
      "Warning: Normalized parameter -1.6352250812405645e-19 for feature 6, parameter 5 is out of bounds. Capping to [0, 1].\n",
      "Warning: Normalized parameter -1.925929944387236e-34 for feature 4, parameter 7 is out of bounds. Capping to [0, 1].\n",
      "Warning: Normalized parameter -1.7140822247012984e-19 for feature 4, parameter 1 is out of bounds. Capping to [0, 1].\n",
      "Warning: Normalized parameter -8.149203813312898e-20 for feature 4, parameter 1 is out of bounds. Capping to [0, 1].\n",
      "Warning: Normalized parameter -1.6882700606971086e-21 for feature 4, parameter 7 is out of bounds. Capping to [0, 1].\n",
      "Warning: Normalized parameter -1.8526672506586684e-19 for feature 6, parameter 5 is out of bounds. Capping to [0, 1].\n",
      "Warning: Normalized parameter -1.925929944387236e-34 for feature 4, parameter 7 is out of bounds. Capping to [0, 1].\n",
      "Warning: Normalized parameter -1.6352250812405645e-19 for feature 6, parameter 5 is out of bounds. Capping to [0, 1].\n",
      "Warning: Normalized parameter -8.149203813312898e-20 for feature 4, parameter 1 is out of bounds. Capping to [0, 1].\n",
      "Warning: Normalized parameter -1.6882700606971086e-21 for feature 4, parameter 7 is out of bounds. Capping to [0, 1].\n",
      "Warning: Normalized parameter -1.8526672506586684e-19 for feature 6, parameter 5 is out of bounds. Capping to [0, 1].\n",
      "Warning: Normalized parameter -1.6352250812405645e-19 for feature 6, parameter 5 is out of bounds. Capping to [0, 1].\n",
      "Warning: Normalized parameter -1.6352250812405645e-19 for feature 6, parameter 5 is out of bounds. Capping to [0, 1].\n"
     ]
    },
    {
     "data": {
      "application/vnd.jupyter.widget-view+json": {
       "model_id": "657557dee58a4de98b7ff12d98a3bc01",
       "version_major": 2,
       "version_minor": 0
      },
      "text/plain": [
       "  0%|          | 0/10000 [00:00<?, ?it/s]"
      ]
     },
     "metadata": {},
     "output_type": "display_data"
    },
    {
     "name": "stdout",
     "output_type": "stream",
     "text": [
      "gld_params: [0.05615339 0.02017749 0.26134475 0.10706706]\n",
      "wrapper([ 6.304e-01  4.024e-01 ...  8.098e-01  1.000e+00]) = -0.00799644188499382\n",
      "assembly_constraint_no_mean([ 6.304e-01  4.024e-01 ...  8.098e-01  1.000e+00]) = [ 2.349e-01 -6.877e-02 ...  1.530e+00  1.914e-01]\n",
      "Warning: Normalized parameter -1.7140822247012984e-19 for feature 4, parameter 1 is out of bounds. Capping to [0, 1].\n",
      "Warning: Normalized parameter -1.7140822247012984e-19 for feature 4, parameter 1 is out of bounds. Capping to [0, 1].\n",
      "Warning: Normalized parameter -1.7140822247012984e-19 for feature 4, parameter 1 is out of bounds. Capping to [0, 1].\n",
      "Warning: Normalized parameter -1.7140822247012984e-19 for feature 4, parameter 1 is out of bounds. Capping to [0, 1].\n",
      "Warning: Normalized parameter -1.925929944387236e-34 for feature 4, parameter 7 is out of bounds. Capping to [0, 1].\n",
      "Warning: Normalized parameter -1.6352250812405645e-19 for feature 6, parameter 5 is out of bounds. Capping to [0, 1].\n",
      "Warning: Normalized parameter -8.149203813312898e-20 for feature 4, parameter 1 is out of bounds. Capping to [0, 1].\n",
      "Warning: Normalized parameter -1.6882700606971086e-21 for feature 4, parameter 7 is out of bounds. Capping to [0, 1].\n",
      "Warning: Normalized parameter -1.8526672506586684e-19 for feature 6, parameter 5 is out of bounds. Capping to [0, 1].\n",
      "Warning: Normalized parameter -1.925929944387236e-34 for feature 4, parameter 7 is out of bounds. Capping to [0, 1].\n",
      "Warning: Normalized parameter -1.6352250812405645e-19 for feature 6, parameter 5 is out of bounds. Capping to [0, 1].\n",
      "Warning: Normalized parameter -8.149203813312898e-20 for feature 4, parameter 1 is out of bounds. Capping to [0, 1].\n",
      "Warning: Normalized parameter -1.6882700606971086e-21 for feature 4, parameter 7 is out of bounds. Capping to [0, 1].\n",
      "Warning: Normalized parameter -1.8526672506586684e-19 for feature 6, parameter 5 is out of bounds. Capping to [0, 1].\n",
      "Warning: Normalized parameter -1.6352250812405645e-19 for feature 6, parameter 5 is out of bounds. Capping to [0, 1].\n",
      "Warning: Normalized parameter -1.6352250812405645e-19 for feature 6, parameter 5 is out of bounds. Capping to [0, 1].\n"
     ]
    },
    {
     "data": {
      "application/vnd.jupyter.widget-view+json": {
       "model_id": "a36acf90af07408b90824592bf8a9c1b",
       "version_major": 2,
       "version_minor": 0
      },
      "text/plain": [
       "  0%|          | 0/10000 [00:00<?, ?it/s]"
      ]
     },
     "metadata": {},
     "output_type": "display_data"
    },
    {
     "name": "stdout",
     "output_type": "stream",
     "text": [
      "gld_params: [0.05704033 0.01954247 0.261364   0.09725866]\n",
      "wrapper([ 4.176e-01  7.919e-01 ...  7.257e-01  1.000e+00]) = -0.006799543967501299\n",
      "assembly_constraint_no_mean([ 4.176e-01  7.919e-01 ...  7.257e-01  1.000e+00]) = [ 1.967e+00 -1.538e+00 ...  6.719e-01  2.871e-04]\n",
      "Warning: Normalized parameter -1.7140822247012984e-19 for feature 4, parameter 1 is out of bounds. Capping to [0, 1].\n",
      "Warning: Normalized parameter -1.7140822247012984e-19 for feature 4, parameter 1 is out of bounds. Capping to [0, 1].\n",
      "Warning: Normalized parameter -1.925929944387236e-34 for feature 4, parameter 7 is out of bounds. Capping to [0, 1].\n",
      "Warning: Normalized parameter -1.6352250812405645e-19 for feature 6, parameter 5 is out of bounds. Capping to [0, 1].\n",
      "Warning: Normalized parameter -8.149203813312898e-20 for feature 4, parameter 1 is out of bounds. Capping to [0, 1].\n",
      "Warning: Normalized parameter -1.6882700606971086e-21 for feature 4, parameter 7 is out of bounds. Capping to [0, 1].\n",
      "Warning: Normalized parameter -1.8526672506586684e-19 for feature 6, parameter 5 is out of bounds. Capping to [0, 1].\n",
      "Warning: Normalized parameter -1.7140822247012984e-19 for feature 4, parameter 1 is out of bounds. Capping to [0, 1].\n",
      "Warning: Normalized parameter -1.925929944387236e-34 for feature 4, parameter 7 is out of bounds. Capping to [0, 1].\n",
      "Warning: Normalized parameter -1.6352250812405645e-19 for feature 6, parameter 5 is out of bounds. Capping to [0, 1].\n",
      "Warning: Normalized parameter -8.149203813312898e-20 for feature 4, parameter 1 is out of bounds. Capping to [0, 1].\n",
      "Warning: Normalized parameter -1.6882700606971086e-21 for feature 4, parameter 7 is out of bounds. Capping to [0, 1].\n",
      "Warning: Normalized parameter -1.8526672506586684e-19 for feature 6, parameter 5 is out of bounds. Capping to [0, 1].\n",
      "Warning: Normalized parameter -1.6352250812405645e-19 for feature 6, parameter 5 is out of bounds. Capping to [0, 1].\n",
      "Warning: Normalized parameter -1.6352250812405645e-19 for feature 6, parameter 5 is out of bounds. Capping to [0, 1].\n"
     ]
    },
    {
     "data": {
      "application/vnd.jupyter.widget-view+json": {
       "model_id": "be2890c546cf41f2b021a8af8a2ef349",
       "version_major": 2,
       "version_minor": 0
      },
      "text/plain": [
       "  0%|          | 0/10000 [00:00<?, ?it/s]"
      ]
     },
     "metadata": {},
     "output_type": "display_data"
    },
    {
     "name": "stdout",
     "output_type": "stream",
     "text": [
      "gld_params: [0.05565492 0.02056765 0.27071525 0.10801292]\n",
      "wrapper([ 6.852e-01  3.815e-01 ...  7.488e-01  1.000e+00]) = -0.008681844931734729\n",
      "assembly_constraint_no_mean([ 6.852e-01  3.815e-01 ...  7.488e-01  1.000e+00]) = [ 1.924e-01 -3.332e-02 ...  1.656e-01  2.222e-01]\n",
      "Warning: Normalized parameter -1.1302800904162585e-20 for feature 1, parameter 5 is out of bounds. Capping to [0, 1].\n",
      "Warning: Normalized parameter -1.7140822247012984e-19 for feature 4, parameter 1 is out of bounds. Capping to [0, 1].\n",
      "Warning: Normalized parameter -1.1302800904162585e-20 for feature 1, parameter 5 is out of bounds. Capping to [0, 1].\n",
      "Warning: Normalized parameter -1.7140822247012984e-19 for feature 4, parameter 1 is out of bounds. Capping to [0, 1].\n",
      "Warning: Normalized parameter -1.1302800904162585e-20 for feature 1, parameter 5 is out of bounds. Capping to [0, 1].\n",
      "Warning: Normalized parameter -1.7140822247012984e-19 for feature 4, parameter 1 is out of bounds. Capping to [0, 1].\n",
      "Warning: Normalized parameter -1.1302800904162585e-20 for feature 1, parameter 5 is out of bounds. Capping to [0, 1].\n",
      "Warning: Normalized parameter -1.7140822247012984e-19 for feature 4, parameter 1 is out of bounds. Capping to [0, 1].\n",
      "Warning: Normalized parameter -1.925929944387236e-34 for feature 4, parameter 7 is out of bounds. Capping to [0, 1].\n",
      "Warning: Normalized parameter -1.6352250812405645e-19 for feature 6, parameter 5 is out of bounds. Capping to [0, 1].\n",
      "Warning: Normalized parameter -1.1302800904162585e-20 for feature 1, parameter 5 is out of bounds. Capping to [0, 1].\n",
      "Warning: Normalized parameter -8.149203813312898e-20 for feature 4, parameter 1 is out of bounds. Capping to [0, 1].\n",
      "Warning: Normalized parameter -1.6882700606971086e-21 for feature 4, parameter 7 is out of bounds. Capping to [0, 1].\n",
      "Warning: Normalized parameter -1.8526672506586684e-19 for feature 6, parameter 5 is out of bounds. Capping to [0, 1].\n",
      "Warning: Normalized parameter -1.7140822247012984e-19 for feature 4, parameter 1 is out of bounds. Capping to [0, 1].\n",
      "Warning: Normalized parameter -1.925929944387236e-34 for feature 4, parameter 7 is out of bounds. Capping to [0, 1].\n",
      "Warning: Normalized parameter -1.6352250812405645e-19 for feature 6, parameter 5 is out of bounds. Capping to [0, 1].\n",
      "Warning: Normalized parameter -8.149203813312898e-20 for feature 4, parameter 1 is out of bounds. Capping to [0, 1].\n",
      "Warning: Normalized parameter -1.6882700606971086e-21 for feature 4, parameter 7 is out of bounds. Capping to [0, 1].\n",
      "Warning: Normalized parameter -1.8526672506586684e-19 for feature 6, parameter 5 is out of bounds. Capping to [0, 1].\n",
      "Warning: Normalized parameter -1.6352250812405645e-19 for feature 6, parameter 5 is out of bounds. Capping to [0, 1].\n",
      "Warning: Normalized parameter -1.6352250812405645e-19 for feature 6, parameter 5 is out of bounds. Capping to [0, 1].\n"
     ]
    },
    {
     "data": {
      "application/vnd.jupyter.widget-view+json": {
       "model_id": "32fc749f37a7440e88d31aa304a2595c",
       "version_major": 2,
       "version_minor": 0
      },
      "text/plain": [
       "  0%|          | 0/10000 [00:00<?, ?it/s]"
      ]
     },
     "metadata": {},
     "output_type": "display_data"
    },
    {
     "name": "stdout",
     "output_type": "stream",
     "text": [
      "gld_params: [0.05641819 0.0204326  0.26469853 0.10760416]\n",
      "wrapper([ 4.198e-01  5.081e-01 ...  8.290e-01  1.000e+00]) = -0.008104268249002396\n",
      "assembly_constraint_no_mean([ 4.198e-01  5.081e-01 ...  8.290e-01  1.000e+00]) = [ 4.512e-01 -2.466e+00 ... -2.677e-02  2.842e-01]\n",
      "Warning: Normalized parameter -1.7140822247012984e-19 for feature 4, parameter 1 is out of bounds. Capping to [0, 1].\n",
      "Warning: Normalized parameter -1.7140822247012984e-19 for feature 4, parameter 1 is out of bounds. Capping to [0, 1].\n",
      "Warning: Normalized parameter -1.925929944387236e-34 for feature 4, parameter 7 is out of bounds. Capping to [0, 1].\n",
      "Warning: Normalized parameter -1.6352250812405645e-19 for feature 6, parameter 5 is out of bounds. Capping to [0, 1].\n",
      "Warning: Normalized parameter -1.1302800904162585e-20 for feature 1, parameter 5 is out of bounds. Capping to [0, 1].\n",
      "Warning: Normalized parameter -8.149203813312898e-20 for feature 4, parameter 1 is out of bounds. Capping to [0, 1].\n",
      "Warning: Normalized parameter -1.6882700606971086e-21 for feature 4, parameter 7 is out of bounds. Capping to [0, 1].\n",
      "Warning: Normalized parameter -1.8526672506586684e-19 for feature 6, parameter 5 is out of bounds. Capping to [0, 1].\n",
      "Warning: Normalized parameter -1.7140822247012984e-19 for feature 4, parameter 1 is out of bounds. Capping to [0, 1].\n",
      "Warning: Normalized parameter -1.925929944387236e-34 for feature 4, parameter 7 is out of bounds. Capping to [0, 1].\n",
      "Warning: Normalized parameter -1.6352250812405645e-19 for feature 6, parameter 5 is out of bounds. Capping to [0, 1].\n",
      "Warning: Normalized parameter -8.149203813312898e-20 for feature 4, parameter 1 is out of bounds. Capping to [0, 1].\n",
      "Warning: Normalized parameter -1.6882700606971086e-21 for feature 4, parameter 7 is out of bounds. Capping to [0, 1].\n",
      "Warning: Normalized parameter -1.8526672506586684e-19 for feature 6, parameter 5 is out of bounds. Capping to [0, 1].\n",
      "Warning: Normalized parameter -1.7140822247012984e-19 for feature 4, parameter 1 is out of bounds. Capping to [0, 1].\n",
      "Warning: Normalized parameter -1.6352250812405645e-19 for feature 6, parameter 5 is out of bounds. Capping to [0, 1].\n",
      "Warning: Normalized parameter -1.6352250812405645e-19 for feature 6, parameter 5 is out of bounds. Capping to [0, 1].\n"
     ]
    },
    {
     "data": {
      "application/vnd.jupyter.widget-view+json": {
       "model_id": "f67252ee91e149d1bf709938a6a2cfa0",
       "version_major": 2,
       "version_minor": 0
      },
      "text/plain": [
       "  0%|          | 0/10000 [00:00<?, ?it/s]"
      ]
     },
     "metadata": {},
     "output_type": "display_data"
    },
    {
     "name": "stdout",
     "output_type": "stream",
     "text": [
      "gld_params: [0.05568085 0.02051193 0.26704957 0.10752481]\n",
      "wrapper([ 6.775e-01  3.846e-01 ...  7.754e-01  1.000e+00]) = -0.00883732556871939\n",
      "assembly_constraint_no_mean([ 6.775e-01  3.846e-01 ...  7.754e-01  1.000e+00]) = [ 2.244e-01 -5.278e-02 ...  1.615e-02  1.033e-01]\n",
      "Warning: Normalized parameter -1.7140822247012984e-19 for feature 4, parameter 1 is out of bounds. Capping to [0, 1].\n",
      "Warning: Normalized parameter -1.7140822247012984e-19 for feature 4, parameter 1 is out of bounds. Capping to [0, 1].\n",
      "Warning: Normalized parameter -1.7140822247012984e-19 for feature 4, parameter 1 is out of bounds. Capping to [0, 1].\n",
      "Warning: Normalized parameter -1.7140822247012984e-19 for feature 4, parameter 1 is out of bounds. Capping to [0, 1].\n",
      "Warning: Normalized parameter -1.925929944387236e-34 for feature 4, parameter 7 is out of bounds. Capping to [0, 1].\n",
      "Warning: Normalized parameter -1.6352250812405645e-19 for feature 6, parameter 5 is out of bounds. Capping to [0, 1].\n",
      "Warning: Normalized parameter -1.1302800904162585e-20 for feature 1, parameter 5 is out of bounds. Capping to [0, 1].\n",
      "Warning: Normalized parameter -8.149203813312898e-20 for feature 4, parameter 1 is out of bounds. Capping to [0, 1].\n",
      "Warning: Normalized parameter -1.6882700606971086e-21 for feature 4, parameter 7 is out of bounds. Capping to [0, 1].\n",
      "Warning: Normalized parameter -1.8526672506586684e-19 for feature 6, parameter 5 is out of bounds. Capping to [0, 1].\n",
      "Warning: Normalized parameter -1.7140822247012984e-19 for feature 4, parameter 1 is out of bounds. Capping to [0, 1].\n",
      "Warning: Normalized parameter -1.925929944387236e-34 for feature 4, parameter 7 is out of bounds. Capping to [0, 1].\n",
      "Warning: Normalized parameter -1.6352250812405645e-19 for feature 6, parameter 5 is out of bounds. Capping to [0, 1].\n",
      "Warning: Normalized parameter -8.149203813312898e-20 for feature 4, parameter 1 is out of bounds. Capping to [0, 1].\n",
      "Warning: Normalized parameter -1.6882700606971086e-21 for feature 4, parameter 7 is out of bounds. Capping to [0, 1].\n",
      "Warning: Normalized parameter -1.8526672506586684e-19 for feature 6, parameter 5 is out of bounds. Capping to [0, 1].\n",
      "Warning: Normalized parameter -1.7140822247012984e-19 for feature 4, parameter 1 is out of bounds. Capping to [0, 1].\n",
      "Warning: Normalized parameter -1.6352250812405645e-19 for feature 6, parameter 5 is out of bounds. Capping to [0, 1].\n",
      "Warning: Normalized parameter -1.6352250812405645e-19 for feature 6, parameter 5 is out of bounds. Capping to [0, 1].\n"
     ]
    },
    {
     "data": {
      "application/vnd.jupyter.widget-view+json": {
       "model_id": "13f4ec2875f64eada834284a134771be",
       "version_major": 2,
       "version_minor": 0
      },
      "text/plain": [
       "  0%|          | 0/10000 [00:00<?, ?it/s]"
      ]
     },
     "metadata": {},
     "output_type": "display_data"
    },
    {
     "name": "stdout",
     "output_type": "stream",
     "text": [
      "gld_params: [0.05319653 0.02134201 0.28255811 0.11929624]\n",
      "wrapper([ 8.246e-01  2.470e-01 ...  8.295e-01  1.000e+00]) = -0.01117570311189327\n",
      "assembly_constraint_no_mean([ 8.246e-01  2.470e-01 ...  8.295e-01  1.000e+00]) = [ 3.437e-01 -7.309e-02 ...  3.444e-01  2.832e-01]\n",
      "Warning: Normalized parameter -1.925929944387236e-34 for feature 4, parameter 7 is out of bounds. Capping to [0, 1].\n",
      "Warning: Normalized parameter -1.6352250812405645e-19 for feature 6, parameter 5 is out of bounds. Capping to [0, 1].\n",
      "Warning: Normalized parameter -1.7140822247012984e-19 for feature 4, parameter 1 is out of bounds. Capping to [0, 1].\n",
      "Warning: Normalized parameter -1.1302800904162585e-20 for feature 1, parameter 5 is out of bounds. Capping to [0, 1].\n",
      "Warning: Normalized parameter -8.149203813312898e-20 for feature 4, parameter 1 is out of bounds. Capping to [0, 1].\n",
      "Warning: Normalized parameter -1.6882700606971086e-21 for feature 4, parameter 7 is out of bounds. Capping to [0, 1].\n",
      "Warning: Normalized parameter -1.8526672506586684e-19 for feature 6, parameter 5 is out of bounds. Capping to [0, 1].\n",
      "Warning: Normalized parameter -1.7140822247012984e-19 for feature 4, parameter 1 is out of bounds. Capping to [0, 1].\n",
      "Warning: Normalized parameter -1.925929944387236e-34 for feature 4, parameter 7 is out of bounds. Capping to [0, 1].\n",
      "Warning: Normalized parameter -1.6352250812405645e-19 for feature 6, parameter 5 is out of bounds. Capping to [0, 1].\n",
      "Warning: Normalized parameter -8.149203813312898e-20 for feature 4, parameter 1 is out of bounds. Capping to [0, 1].\n",
      "Warning: Normalized parameter -1.6882700606971086e-21 for feature 4, parameter 7 is out of bounds. Capping to [0, 1].\n",
      "Warning: Normalized parameter -1.8526672506586684e-19 for feature 6, parameter 5 is out of bounds. Capping to [0, 1].\n",
      "Warning: Normalized parameter -1.7140822247012984e-19 for feature 4, parameter 1 is out of bounds. Capping to [0, 1].\n",
      "Warning: Normalized parameter -1.6352250812405645e-19 for feature 6, parameter 5 is out of bounds. Capping to [0, 1].\n",
      "Warning: Normalized parameter -1.6352250812405645e-19 for feature 6, parameter 5 is out of bounds. Capping to [0, 1].\n"
     ]
    },
    {
     "data": {
      "application/vnd.jupyter.widget-view+json": {
       "model_id": "d3aa59ef156c4c2980bd03d4dde4f52d",
       "version_major": 2,
       "version_minor": 0
      },
      "text/plain": [
       "  0%|          | 0/10000 [00:00<?, ?it/s]"
      ]
     },
     "metadata": {},
     "output_type": "display_data"
    },
    {
     "name": "stdout",
     "output_type": "stream",
     "text": [
      "gld_params: [0.0557146  0.0205403  0.26503824 0.10868869]\n",
      "wrapper([ 5.807e-01  4.480e-01 ...  7.387e-01  1.000e+00]) = -0.008892176765900008\n",
      "assembly_constraint_no_mean([ 5.807e-01  4.480e-01 ...  7.387e-01  1.000e+00]) = [ 2.870e-01 -1.188e+00 ...  9.716e-01  4.349e-02]\n",
      "Warning: Normalized parameter -1.925929944387236e-34 for feature 4, parameter 7 is out of bounds. Capping to [0, 1].\n",
      "Warning: Normalized parameter -1.6352250812405645e-19 for feature 6, parameter 5 is out of bounds. Capping to [0, 1].\n",
      "Warning: Normalized parameter -1.7140822247012984e-19 for feature 4, parameter 1 is out of bounds. Capping to [0, 1].\n",
      "Warning: Normalized parameter -1.1302800904162585e-20 for feature 1, parameter 5 is out of bounds. Capping to [0, 1].\n",
      "Warning: Normalized parameter -8.149203813312898e-20 for feature 4, parameter 1 is out of bounds. Capping to [0, 1].\n",
      "Warning: Normalized parameter -1.6882700606971086e-21 for feature 4, parameter 7 is out of bounds. Capping to [0, 1].\n",
      "Warning: Normalized parameter -1.8526672506586684e-19 for feature 6, parameter 5 is out of bounds. Capping to [0, 1].\n",
      "Warning: Normalized parameter -1.7140822247012984e-19 for feature 4, parameter 1 is out of bounds. Capping to [0, 1].\n",
      "Warning: Normalized parameter -1.925929944387236e-34 for feature 4, parameter 7 is out of bounds. Capping to [0, 1].\n",
      "Warning: Normalized parameter -1.6352250812405645e-19 for feature 6, parameter 5 is out of bounds. Capping to [0, 1].\n",
      "Warning: Normalized parameter -8.149203813312898e-20 for feature 4, parameter 1 is out of bounds. Capping to [0, 1].\n",
      "Warning: Normalized parameter -1.6882700606971086e-21 for feature 4, parameter 7 is out of bounds. Capping to [0, 1].\n",
      "Warning: Normalized parameter -1.8526672506586684e-19 for feature 6, parameter 5 is out of bounds. Capping to [0, 1].\n",
      "Warning: Normalized parameter -1.7140822247012984e-19 for feature 4, parameter 1 is out of bounds. Capping to [0, 1].\n",
      "Warning: Normalized parameter -1.6352250812405645e-19 for feature 6, parameter 5 is out of bounds. Capping to [0, 1].\n",
      "Warning: Normalized parameter -1.6352250812405645e-19 for feature 6, parameter 5 is out of bounds. Capping to [0, 1].\n"
     ]
    },
    {
     "data": {
      "application/vnd.jupyter.widget-view+json": {
       "model_id": "bdb78293577e4eb59209739d6a364240",
       "version_major": 2,
       "version_minor": 0
      },
      "text/plain": [
       "  0%|          | 0/10000 [00:00<?, ?it/s]"
      ]
     },
     "metadata": {},
     "output_type": "display_data"
    },
    {
     "name": "stdout",
     "output_type": "stream",
     "text": [
      "gld_params: [0.05437924 0.02101956 0.27543471 0.11547726]\n",
      "wrapper([ 7.723e-01  2.517e-01 ...  7.729e-01  1.000e+00]) = -0.009954145899797123\n",
      "assembly_constraint_no_mean([ 7.723e-01  2.517e-01 ...  7.729e-01  1.000e+00]) = [ 1.938e-01 -5.072e-02 ...  2.893e-03  1.505e-02]\n",
      "Warning: Normalized parameter -1.925929944387236e-34 for feature 4, parameter 7 is out of bounds. Capping to [0, 1].\n",
      "Warning: Normalized parameter -1.6352250812405645e-19 for feature 6, parameter 5 is out of bounds. Capping to [0, 1].\n",
      "Warning: Normalized parameter -1.7140822247012984e-19 for feature 4, parameter 1 is out of bounds. Capping to [0, 1].\n",
      "Warning: Normalized parameter -1.1302800904162585e-20 for feature 1, parameter 5 is out of bounds. Capping to [0, 1].\n",
      "Warning: Normalized parameter -8.149203813312898e-20 for feature 4, parameter 1 is out of bounds. Capping to [0, 1].\n",
      "Warning: Normalized parameter -1.6882700606971086e-21 for feature 4, parameter 7 is out of bounds. Capping to [0, 1].\n",
      "Warning: Normalized parameter -1.8526672506586684e-19 for feature 6, parameter 5 is out of bounds. Capping to [0, 1].\n",
      "Warning: Normalized parameter -1.7140822247012984e-19 for feature 4, parameter 1 is out of bounds. Capping to [0, 1].\n",
      "Warning: Normalized parameter -1.925929944387236e-34 for feature 4, parameter 7 is out of bounds. Capping to [0, 1].\n",
      "Warning: Normalized parameter -1.6352250812405645e-19 for feature 6, parameter 5 is out of bounds. Capping to [0, 1].\n",
      "Warning: Normalized parameter -8.149203813312898e-20 for feature 4, parameter 1 is out of bounds. Capping to [0, 1].\n",
      "Warning: Normalized parameter -1.6882700606971086e-21 for feature 4, parameter 7 is out of bounds. Capping to [0, 1].\n",
      "Warning: Normalized parameter -1.8526672506586684e-19 for feature 6, parameter 5 is out of bounds. Capping to [0, 1].\n",
      "Warning: Normalized parameter -1.7140822247012984e-19 for feature 4, parameter 1 is out of bounds. Capping to [0, 1].\n",
      "Warning: Normalized parameter -1.6352250812405645e-19 for feature 6, parameter 5 is out of bounds. Capping to [0, 1].\n",
      "Warning: Normalized parameter -1.6352250812405645e-19 for feature 6, parameter 5 is out of bounds. Capping to [0, 1].\n"
     ]
    },
    {
     "data": {
      "application/vnd.jupyter.widget-view+json": {
       "model_id": "dfcaa188f126428389b4a315fbc4d7a2",
       "version_major": 2,
       "version_minor": 0
      },
      "text/plain": [
       "  0%|          | 0/10000 [00:00<?, ?it/s]"
      ]
     },
     "metadata": {},
     "output_type": "display_data"
    },
    {
     "name": "stdout",
     "output_type": "stream",
     "text": [
      "gld_params: [0.05438346 0.02131563 0.27721795 0.11980298]\n",
      "wrapper([ 6.889e-01  3.624e-01 ...  8.076e-01  1.000e+00]) = -0.010099088376003379\n",
      "assembly_constraint_no_mean([ 6.889e-01  3.624e-01 ...  8.076e-01  1.000e+00]) = [ 1.497e-01 -6.942e-02 ...  3.730e-01  1.003e-01]\n",
      "Warning: Normalized parameter -1.925929944387236e-34 for feature 4, parameter 7 is out of bounds. Capping to [0, 1].\n",
      "Warning: Normalized parameter -1.6352250812405645e-19 for feature 6, parameter 5 is out of bounds. Capping to [0, 1].\n",
      "Warning: Normalized parameter -1.7140822247012984e-19 for feature 4, parameter 1 is out of bounds. Capping to [0, 1].\n",
      "Warning: Normalized parameter -1.1302800904162585e-20 for feature 1, parameter 5 is out of bounds. Capping to [0, 1].\n",
      "Warning: Normalized parameter -8.149203813312898e-20 for feature 4, parameter 1 is out of bounds. Capping to [0, 1].\n",
      "Warning: Normalized parameter -1.6882700606971086e-21 for feature 4, parameter 7 is out of bounds. Capping to [0, 1].\n",
      "Warning: Normalized parameter -1.8526672506586684e-19 for feature 6, parameter 5 is out of bounds. Capping to [0, 1].\n",
      "Warning: Normalized parameter -1.7140822247012984e-19 for feature 4, parameter 1 is out of bounds. Capping to [0, 1].\n",
      "Warning: Normalized parameter -1.925929944387236e-34 for feature 4, parameter 7 is out of bounds. Capping to [0, 1].\n",
      "Warning: Normalized parameter -1.6352250812405645e-19 for feature 6, parameter 5 is out of bounds. Capping to [0, 1].\n",
      "Warning: Normalized parameter -8.149203813312898e-20 for feature 4, parameter 1 is out of bounds. Capping to [0, 1].\n",
      "Warning: Normalized parameter -1.6882700606971086e-21 for feature 4, parameter 7 is out of bounds. Capping to [0, 1].\n",
      "Warning: Normalized parameter -1.8526672506586684e-19 for feature 6, parameter 5 is out of bounds. Capping to [0, 1].\n",
      "Warning: Normalized parameter -1.7140822247012984e-19 for feature 4, parameter 1 is out of bounds. Capping to [0, 1].\n",
      "Warning: Normalized parameter -1.6352250812405645e-19 for feature 6, parameter 5 is out of bounds. Capping to [0, 1].\n",
      "Warning: Normalized parameter -1.6352250812405645e-19 for feature 6, parameter 5 is out of bounds. Capping to [0, 1].\n"
     ]
    },
    {
     "data": {
      "application/vnd.jupyter.widget-view+json": {
       "model_id": "c07289c353384d3eb5a219190ed1ba93",
       "version_major": 2,
       "version_minor": 0
      },
      "text/plain": [
       "  0%|          | 0/10000 [00:00<?, ?it/s]"
      ]
     },
     "metadata": {},
     "output_type": "display_data"
    },
    {
     "name": "stdout",
     "output_type": "stream",
     "text": [
      "gld_params: [0.05355646 0.02095299 0.284074   0.11176242]\n",
      "wrapper([ 7.407e-01  2.691e-01 ...  7.874e-01  1.000e+00]) = -0.010432903161722473\n",
      "assembly_constraint_no_mean([ 7.407e-01  2.691e-01 ...  7.874e-01  1.000e+00]) = [ 8.049e-02 -5.343e-02 ...  3.730e-01  4.586e-02]\n",
      "Warning: Normalized parameter -1.925929944387236e-34 for feature 4, parameter 7 is out of bounds. Capping to [0, 1].\n",
      "Warning: Normalized parameter -1.6352250812405645e-19 for feature 6, parameter 5 is out of bounds. Capping to [0, 1].\n",
      "Warning: Normalized parameter -1.7140822247012984e-19 for feature 4, parameter 1 is out of bounds. Capping to [0, 1].\n",
      "Warning: Normalized parameter -1.1302800904162585e-20 for feature 1, parameter 5 is out of bounds. Capping to [0, 1].\n",
      "Warning: Normalized parameter -8.149203813312898e-20 for feature 4, parameter 1 is out of bounds. Capping to [0, 1].\n",
      "Warning: Normalized parameter -1.6882700606971086e-21 for feature 4, parameter 7 is out of bounds. Capping to [0, 1].\n",
      "Warning: Normalized parameter -1.8526672506586684e-19 for feature 6, parameter 5 is out of bounds. Capping to [0, 1].\n",
      "Warning: Normalized parameter -1.7140822247012984e-19 for feature 4, parameter 1 is out of bounds. Capping to [0, 1].\n",
      "Warning: Normalized parameter -1.925929944387236e-34 for feature 4, parameter 7 is out of bounds. Capping to [0, 1].\n",
      "Warning: Normalized parameter -1.6352250812405645e-19 for feature 6, parameter 5 is out of bounds. Capping to [0, 1].\n",
      "Warning: Normalized parameter -8.149203813312898e-20 for feature 4, parameter 1 is out of bounds. Capping to [0, 1].\n",
      "Warning: Normalized parameter -1.6882700606971086e-21 for feature 4, parameter 7 is out of bounds. Capping to [0, 1].\n",
      "Warning: Normalized parameter -1.8526672506586684e-19 for feature 6, parameter 5 is out of bounds. Capping to [0, 1].\n",
      "Warning: Normalized parameter -1.7140822247012984e-19 for feature 4, parameter 1 is out of bounds. Capping to [0, 1].\n",
      "Warning: Normalized parameter -1.6352250812405645e-19 for feature 6, parameter 5 is out of bounds. Capping to [0, 1].\n",
      "Warning: Normalized parameter -1.6352250812405645e-19 for feature 6, parameter 5 is out of bounds. Capping to [0, 1].\n"
     ]
    },
    {
     "data": {
      "application/vnd.jupyter.widget-view+json": {
       "model_id": "204a06ad19d84ef1816382b0278e0c32",
       "version_major": 2,
       "version_minor": 0
      },
      "text/plain": [
       "  0%|          | 0/10000 [00:00<?, ?it/s]"
      ]
     },
     "metadata": {},
     "output_type": "display_data"
    },
    {
     "name": "stdout",
     "output_type": "stream",
     "text": [
      "gld_params: [0.05400643 0.01999758 0.27566498 0.10207373]\n",
      "wrapper([ 6.238e-01  2.020e-01 ...  8.027e-01  1.000e+00]) = -0.009115015770843752\n",
      "assembly_constraint_no_mean([ 6.238e-01  2.020e-01 ...  8.027e-01  1.000e+00]) = [ 1.058e-01 -3.823e-02 ...  1.000e+00  4.132e-01]\n",
      "Warning: Normalized parameter -1.925929944387236e-34 for feature 4, parameter 7 is out of bounds. Capping to [0, 1].\n",
      "Warning: Normalized parameter -1.6352250812405645e-19 for feature 6, parameter 5 is out of bounds. Capping to [0, 1].\n",
      "Warning: Normalized parameter -1.7140822247012984e-19 for feature 4, parameter 1 is out of bounds. Capping to [0, 1].\n",
      "Warning: Normalized parameter -1.1302800904162585e-20 for feature 1, parameter 5 is out of bounds. Capping to [0, 1].\n",
      "Warning: Normalized parameter -8.149203813312898e-20 for feature 4, parameter 1 is out of bounds. Capping to [0, 1].\n",
      "Warning: Normalized parameter -1.6882700606971086e-21 for feature 4, parameter 7 is out of bounds. Capping to [0, 1].\n",
      "Warning: Normalized parameter -1.8526672506586684e-19 for feature 6, parameter 5 is out of bounds. Capping to [0, 1].\n",
      "Warning: Normalized parameter -1.7140822247012984e-19 for feature 4, parameter 1 is out of bounds. Capping to [0, 1].\n",
      "Warning: Normalized parameter -1.925929944387236e-34 for feature 4, parameter 7 is out of bounds. Capping to [0, 1].\n",
      "Warning: Normalized parameter -1.6352250812405645e-19 for feature 6, parameter 5 is out of bounds. Capping to [0, 1].\n",
      "Warning: Normalized parameter -8.149203813312898e-20 for feature 4, parameter 1 is out of bounds. Capping to [0, 1].\n",
      "Warning: Normalized parameter -1.6882700606971086e-21 for feature 4, parameter 7 is out of bounds. Capping to [0, 1].\n",
      "Warning: Normalized parameter -1.8526672506586684e-19 for feature 6, parameter 5 is out of bounds. Capping to [0, 1].\n",
      "Warning: Normalized parameter -1.7140822247012984e-19 for feature 4, parameter 1 is out of bounds. Capping to [0, 1].\n",
      "Warning: Normalized parameter -1.6352250812405645e-19 for feature 6, parameter 5 is out of bounds. Capping to [0, 1].\n",
      "Warning: Normalized parameter -1.6352250812405645e-19 for feature 6, parameter 5 is out of bounds. Capping to [0, 1].\n"
     ]
    },
    {
     "data": {
      "application/vnd.jupyter.widget-view+json": {
       "model_id": "0dc993a408944523a9579cb84b591764",
       "version_major": 2,
       "version_minor": 0
      },
      "text/plain": [
       "  0%|          | 0/10000 [00:00<?, ?it/s]"
      ]
     },
     "metadata": {},
     "output_type": "display_data"
    },
    {
     "name": "stdout",
     "output_type": "stream",
     "text": [
      "gld_params: [0.05341481 0.02099736 0.28489755 0.1122572 ]\n",
      "wrapper([ 7.440e-01  2.731e-01 ...  8.076e-01  1.000e+00]) = -0.010591839381582086\n",
      "assembly_constraint_no_mean([ 7.440e-01  2.731e-01 ...  8.076e-01  1.000e+00]) = [ 9.775e-02 -5.584e-02 ...  2.803e-01  1.082e-01]\n",
      "Warning: Normalized parameter -1.925929944387236e-34 for feature 4, parameter 7 is out of bounds. Capping to [0, 1].\n",
      "Warning: Normalized parameter -1.6352250812405645e-19 for feature 6, parameter 5 is out of bounds. Capping to [0, 1].\n",
      "Warning: Normalized parameter -1.7140822247012984e-19 for feature 4, parameter 1 is out of bounds. Capping to [0, 1].\n",
      "Warning: Normalized parameter -1.1302800904162585e-20 for feature 1, parameter 5 is out of bounds. Capping to [0, 1].\n",
      "Warning: Normalized parameter -8.149203813312898e-20 for feature 4, parameter 1 is out of bounds. Capping to [0, 1].\n",
      "Warning: Normalized parameter -1.6882700606971086e-21 for feature 4, parameter 7 is out of bounds. Capping to [0, 1].\n",
      "Warning: Normalized parameter -1.8526672506586684e-19 for feature 6, parameter 5 is out of bounds. Capping to [0, 1].\n",
      "Warning: Normalized parameter -1.7140822247012984e-19 for feature 4, parameter 1 is out of bounds. Capping to [0, 1].\n",
      "Warning: Normalized parameter -1.925929944387236e-34 for feature 4, parameter 7 is out of bounds. Capping to [0, 1].\n",
      "Warning: Normalized parameter -1.6352250812405645e-19 for feature 6, parameter 5 is out of bounds. Capping to [0, 1].\n",
      "Warning: Normalized parameter -8.149203813312898e-20 for feature 4, parameter 1 is out of bounds. Capping to [0, 1].\n",
      "Warning: Normalized parameter -1.6882700606971086e-21 for feature 4, parameter 7 is out of bounds. Capping to [0, 1].\n",
      "Warning: Normalized parameter -1.8526672506586684e-19 for feature 6, parameter 5 is out of bounds. Capping to [0, 1].\n",
      "Warning: Normalized parameter -1.7140822247012984e-19 for feature 4, parameter 1 is out of bounds. Capping to [0, 1].\n",
      "Warning: Normalized parameter -1.6352250812405645e-19 for feature 6, parameter 5 is out of bounds. Capping to [0, 1].\n",
      "Warning: Normalized parameter -1.6352250812405645e-19 for feature 6, parameter 5 is out of bounds. Capping to [0, 1].\n"
     ]
    },
    {
     "data": {
      "application/vnd.jupyter.widget-view+json": {
       "model_id": "95a53aa2c7564bab9d8c1dd8de7cdf2b",
       "version_major": 2,
       "version_minor": 0
      },
      "text/plain": [
       "  0%|          | 0/10000 [00:00<?, ?it/s]"
      ]
     },
     "metadata": {},
     "output_type": "display_data"
    },
    {
     "name": "stdout",
     "output_type": "stream",
     "text": [
      "gld_params: [0.05457171 0.02066813 0.27822281 0.11004704]\n",
      "wrapper([ 7.171e-01  4.350e-01 ...  7.057e-01  1.000e+00]) = -0.009215739575236206\n",
      "assembly_constraint_no_mean([ 7.171e-01  4.350e-01 ...  7.057e-01  1.000e+00]) = [ 3.766e-01 -8.248e-02 ... -4.431e-02  3.741e-01]\n",
      "Warning: Normalized parameter -1.925929944387236e-34 for feature 4, parameter 7 is out of bounds. Capping to [0, 1].\n",
      "Warning: Normalized parameter -1.6352250812405645e-19 for feature 6, parameter 5 is out of bounds. Capping to [0, 1].\n",
      "Warning: Normalized parameter -1.7140822247012984e-19 for feature 4, parameter 1 is out of bounds. Capping to [0, 1].\n",
      "Warning: Normalized parameter -1.1302800904162585e-20 for feature 1, parameter 5 is out of bounds. Capping to [0, 1].\n",
      "Warning: Normalized parameter -8.149203813312898e-20 for feature 4, parameter 1 is out of bounds. Capping to [0, 1].\n",
      "Warning: Normalized parameter -1.6882700606971086e-21 for feature 4, parameter 7 is out of bounds. Capping to [0, 1].\n",
      "Warning: Normalized parameter -1.8526672506586684e-19 for feature 6, parameter 5 is out of bounds. Capping to [0, 1].\n",
      "Warning: Normalized parameter -1.7140822247012984e-19 for feature 4, parameter 1 is out of bounds. Capping to [0, 1].\n",
      "Warning: Normalized parameter -1.925929944387236e-34 for feature 4, parameter 7 is out of bounds. Capping to [0, 1].\n",
      "Warning: Normalized parameter -1.6352250812405645e-19 for feature 6, parameter 5 is out of bounds. Capping to [0, 1].\n",
      "Warning: Normalized parameter -8.149203813312898e-20 for feature 4, parameter 1 is out of bounds. Capping to [0, 1].\n",
      "Warning: Normalized parameter -1.6882700606971086e-21 for feature 4, parameter 7 is out of bounds. Capping to [0, 1].\n",
      "Warning: Normalized parameter -1.8526672506586684e-19 for feature 6, parameter 5 is out of bounds. Capping to [0, 1].\n",
      "Warning: Normalized parameter -1.7140822247012984e-19 for feature 4, parameter 1 is out of bounds. Capping to [0, 1].\n",
      "Warning: Normalized parameter -1.6352250812405645e-19 for feature 6, parameter 5 is out of bounds. Capping to [0, 1].\n",
      "Warning: Normalized parameter -1.6352250812405645e-19 for feature 6, parameter 5 is out of bounds. Capping to [0, 1].\n"
     ]
    },
    {
     "data": {
      "application/vnd.jupyter.widget-view+json": {
       "model_id": "204fe687a38f4cf082997b69da729bc7",
       "version_major": 2,
       "version_minor": 0
      },
      "text/plain": [
       "  0%|          | 0/10000 [00:00<?, ?it/s]"
      ]
     },
     "metadata": {},
     "output_type": "display_data"
    },
    {
     "name": "stdout",
     "output_type": "stream",
     "text": [
      "gld_params: [0.05379303 0.0209716  0.28161314 0.11229531]\n",
      "wrapper([ 7.064e-01  2.718e-01 ...  8.124e-01  1.000e+00]) = -0.010357794542884099\n",
      "assembly_constraint_no_mean([ 7.064e-01  2.718e-01 ...  8.124e-01  1.000e+00]) = [-4.030e-03 -5.439e-02 ...  7.139e-02  4.502e-02]\n",
      "Warning: Normalized parameter -1.925929944387236e-34 for feature 4, parameter 7 is out of bounds. Capping to [0, 1].\n",
      "Warning: Normalized parameter -1.6352250812405645e-19 for feature 6, parameter 5 is out of bounds. Capping to [0, 1].\n",
      "Warning: Normalized parameter -1.7140822247012984e-19 for feature 4, parameter 1 is out of bounds. Capping to [0, 1].\n",
      "Warning: Normalized parameter -1.1302800904162585e-20 for feature 1, parameter 5 is out of bounds. Capping to [0, 1].\n",
      "Warning: Normalized parameter -8.149203813312898e-20 for feature 4, parameter 1 is out of bounds. Capping to [0, 1].\n",
      "Warning: Normalized parameter -1.6882700606971086e-21 for feature 4, parameter 7 is out of bounds. Capping to [0, 1].\n",
      "Warning: Normalized parameter -1.8526672506586684e-19 for feature 6, parameter 5 is out of bounds. Capping to [0, 1].\n",
      "Warning: Normalized parameter -1.7140822247012984e-19 for feature 4, parameter 1 is out of bounds. Capping to [0, 1].\n",
      "Warning: Normalized parameter -1.925929944387236e-34 for feature 4, parameter 7 is out of bounds. Capping to [0, 1].\n",
      "Warning: Normalized parameter -1.6352250812405645e-19 for feature 6, parameter 5 is out of bounds. Capping to [0, 1].\n",
      "Warning: Normalized parameter -8.149203813312898e-20 for feature 4, parameter 1 is out of bounds. Capping to [0, 1].\n",
      "Warning: Normalized parameter -1.6882700606971086e-21 for feature 4, parameter 7 is out of bounds. Capping to [0, 1].\n",
      "Warning: Normalized parameter -1.8526672506586684e-19 for feature 6, parameter 5 is out of bounds. Capping to [0, 1].\n",
      "Warning: Normalized parameter -1.7140822247012984e-19 for feature 4, parameter 1 is out of bounds. Capping to [0, 1].\n",
      "Warning: Normalized parameter -1.6352250812405645e-19 for feature 6, parameter 5 is out of bounds. Capping to [0, 1].\n",
      "Warning: Normalized parameter -1.6352250812405645e-19 for feature 6, parameter 5 is out of bounds. Capping to [0, 1].\n"
     ]
    },
    {
     "data": {
      "application/vnd.jupyter.widget-view+json": {
       "model_id": "d54be79c65304d79894c097b676ab6bf",
       "version_major": 2,
       "version_minor": 0
      },
      "text/plain": [
       "  0%|          | 0/10000 [00:00<?, ?it/s]"
      ]
     },
     "metadata": {},
     "output_type": "display_data"
    },
    {
     "name": "stdout",
     "output_type": "stream",
     "text": [
      "gld_params: [0.0513761  0.02243721 0.29659299 0.13109668]\n",
      "wrapper([ 5.891e-01  3.313e-01 ...  8.015e-01  1.000e+00]) = -0.014193161794128965\n",
      "assembly_constraint_no_mean([ 5.891e-01  3.313e-01 ...  8.015e-01  1.000e+00]) = [-1.068e-01 -8.877e-02 ...  7.800e-01 -1.721e-02]\n",
      "Warning: Normalized parameter -1.925929944387236e-34 for feature 4, parameter 7 is out of bounds. Capping to [0, 1].\n",
      "Warning: Normalized parameter -1.6352250812405645e-19 for feature 6, parameter 5 is out of bounds. Capping to [0, 1].\n",
      "Warning: Normalized parameter -1.7140822247012984e-19 for feature 4, parameter 1 is out of bounds. Capping to [0, 1].\n",
      "Warning: Normalized parameter -1.1302800904162585e-20 for feature 1, parameter 5 is out of bounds. Capping to [0, 1].\n",
      "Warning: Normalized parameter -8.149203813312898e-20 for feature 4, parameter 1 is out of bounds. Capping to [0, 1].\n",
      "Warning: Normalized parameter -1.6882700606971086e-21 for feature 4, parameter 7 is out of bounds. Capping to [0, 1].\n",
      "Warning: Normalized parameter -1.8526672506586684e-19 for feature 6, parameter 5 is out of bounds. Capping to [0, 1].\n",
      "Warning: Normalized parameter -1.7140822247012984e-19 for feature 4, parameter 1 is out of bounds. Capping to [0, 1].\n",
      "Warning: Normalized parameter -1.925929944387236e-34 for feature 4, parameter 7 is out of bounds. Capping to [0, 1].\n",
      "Warning: Normalized parameter -1.6352250812405645e-19 for feature 6, parameter 5 is out of bounds. Capping to [0, 1].\n",
      "Warning: Normalized parameter -8.149203813312898e-20 for feature 4, parameter 1 is out of bounds. Capping to [0, 1].\n",
      "Warning: Normalized parameter -1.6882700606971086e-21 for feature 4, parameter 7 is out of bounds. Capping to [0, 1].\n",
      "Warning: Normalized parameter -1.8526672506586684e-19 for feature 6, parameter 5 is out of bounds. Capping to [0, 1].\n",
      "Warning: Normalized parameter -1.7140822247012984e-19 for feature 4, parameter 1 is out of bounds. Capping to [0, 1].\n",
      "Warning: Normalized parameter -1.6352250812405645e-19 for feature 6, parameter 5 is out of bounds. Capping to [0, 1].\n",
      "Warning: Normalized parameter -1.6352250812405645e-19 for feature 6, parameter 5 is out of bounds. Capping to [0, 1].\n"
     ]
    },
    {
     "data": {
      "application/vnd.jupyter.widget-view+json": {
       "model_id": "3618f888eb8f4a168c33e6e1faa0bf06",
       "version_major": 2,
       "version_minor": 0
      },
      "text/plain": [
       "  0%|          | 0/10000 [00:00<?, ?it/s]"
      ]
     },
     "metadata": {},
     "output_type": "display_data"
    },
    {
     "name": "stdout",
     "output_type": "stream",
     "text": [
      "gld_params: [0.0535419  0.02096404 0.28411538 0.11199529]\n",
      "wrapper([ 7.860e-01  1.847e-01 ...  8.356e-01  1.000e+00]) = -0.010448477591896878\n",
      "assembly_constraint_no_mean([ 7.860e-01  1.847e-01 ...  8.356e-01  1.000e+00]) = [ 1.804e-01 -3.520e+00 ...  2.411e-02  2.764e-01]\n",
      "Warning: Normalized parameter -1.925929944387236e-34 for feature 4, parameter 7 is out of bounds. Capping to [0, 1].\n",
      "Warning: Normalized parameter -1.6352250812405645e-19 for feature 6, parameter 5 is out of bounds. Capping to [0, 1].\n",
      "Warning: Normalized parameter -1.7140822247012984e-19 for feature 4, parameter 1 is out of bounds. Capping to [0, 1].\n",
      "Warning: Normalized parameter -1.1302800904162585e-20 for feature 1, parameter 5 is out of bounds. Capping to [0, 1].\n",
      "Warning: Normalized parameter -8.149203813312898e-20 for feature 4, parameter 1 is out of bounds. Capping to [0, 1].\n",
      "Warning: Normalized parameter -1.6882700606971086e-21 for feature 4, parameter 7 is out of bounds. Capping to [0, 1].\n",
      "Warning: Normalized parameter -1.8526672506586684e-19 for feature 6, parameter 5 is out of bounds. Capping to [0, 1].\n",
      "Warning: Normalized parameter -1.7140822247012984e-19 for feature 4, parameter 1 is out of bounds. Capping to [0, 1].\n",
      "Warning: Normalized parameter -1.925929944387236e-34 for feature 4, parameter 7 is out of bounds. Capping to [0, 1].\n",
      "Warning: Normalized parameter -1.6352250812405645e-19 for feature 6, parameter 5 is out of bounds. Capping to [0, 1].\n",
      "Warning: Normalized parameter -8.149203813312898e-20 for feature 4, parameter 1 is out of bounds. Capping to [0, 1].\n",
      "Warning: Normalized parameter -1.6882700606971086e-21 for feature 4, parameter 7 is out of bounds. Capping to [0, 1].\n",
      "Warning: Normalized parameter -1.8526672506586684e-19 for feature 6, parameter 5 is out of bounds. Capping to [0, 1].\n",
      "Warning: Normalized parameter -1.7140822247012984e-19 for feature 4, parameter 1 is out of bounds. Capping to [0, 1].\n",
      "Warning: Normalized parameter -1.6352250812405645e-19 for feature 6, parameter 5 is out of bounds. Capping to [0, 1].\n",
      "Warning: Normalized parameter -1.6352250812405645e-19 for feature 6, parameter 5 is out of bounds. Capping to [0, 1].\n"
     ]
    },
    {
     "data": {
      "application/vnd.jupyter.widget-view+json": {
       "model_id": "a0b4b5a17cd7497791d624f13dea0824",
       "version_major": 2,
       "version_minor": 0
      },
      "text/plain": [
       "  0%|          | 0/10000 [00:00<?, ?it/s]"
      ]
     },
     "metadata": {},
     "output_type": "display_data"
    },
    {
     "name": "stdout",
     "output_type": "stream",
     "text": [
      "gld_params: [0.05180918 0.02190765 0.29309798 0.12315308]\n",
      "wrapper([ 6.331e-01  3.194e-01 ...  8.267e-01  1.000e+00]) = -0.013280650563028261\n",
      "assembly_constraint_no_mean([ 6.331e-01  3.194e-01 ...  8.267e-01  1.000e+00]) = [-4.835e-02 -2.057e-02 ...  3.108e-01  5.557e-02]\n",
      "Warning: Normalized parameter -1.925929944387236e-34 for feature 4, parameter 7 is out of bounds. Capping to [0, 1].\n",
      "Warning: Normalized parameter -1.6352250812405645e-19 for feature 6, parameter 5 is out of bounds. Capping to [0, 1].\n",
      "Warning: Normalized parameter -1.7140822247012984e-19 for feature 4, parameter 1 is out of bounds. Capping to [0, 1].\n",
      "Warning: Normalized parameter -1.1302800904162585e-20 for feature 1, parameter 5 is out of bounds. Capping to [0, 1].\n",
      "Warning: Normalized parameter -8.149203813312898e-20 for feature 4, parameter 1 is out of bounds. Capping to [0, 1].\n",
      "Warning: Normalized parameter -1.6882700606971086e-21 for feature 4, parameter 7 is out of bounds. Capping to [0, 1].\n",
      "Warning: Normalized parameter -1.8526672506586684e-19 for feature 6, parameter 5 is out of bounds. Capping to [0, 1].\n",
      "Warning: Normalized parameter -1.7140822247012984e-19 for feature 4, parameter 1 is out of bounds. Capping to [0, 1].\n",
      "Warning: Normalized parameter -1.925929944387236e-34 for feature 4, parameter 7 is out of bounds. Capping to [0, 1].\n",
      "Warning: Normalized parameter -1.6352250812405645e-19 for feature 6, parameter 5 is out of bounds. Capping to [0, 1].\n",
      "Warning: Normalized parameter -8.149203813312898e-20 for feature 4, parameter 1 is out of bounds. Capping to [0, 1].\n",
      "Warning: Normalized parameter -1.6882700606971086e-21 for feature 4, parameter 7 is out of bounds. Capping to [0, 1].\n",
      "Warning: Normalized parameter -1.8526672506586684e-19 for feature 6, parameter 5 is out of bounds. Capping to [0, 1].\n",
      "Warning: Normalized parameter -1.7140822247012984e-19 for feature 4, parameter 1 is out of bounds. Capping to [0, 1].\n",
      "Warning: Normalized parameter -1.6352250812405645e-19 for feature 6, parameter 5 is out of bounds. Capping to [0, 1].\n",
      "Warning: Normalized parameter -1.6352250812405645e-19 for feature 6, parameter 5 is out of bounds. Capping to [0, 1].\n"
     ]
    },
    {
     "data": {
      "application/vnd.jupyter.widget-view+json": {
       "model_id": "67cd6245da6640a3bc18032248c5ab14",
       "version_major": 2,
       "version_minor": 0
      },
      "text/plain": [
       "  0%|          | 0/10000 [00:00<?, ?it/s]"
      ]
     },
     "metadata": {},
     "output_type": "display_data"
    },
    {
     "name": "stdout",
     "output_type": "stream",
     "text": [
      "gld_params: [0.05371031 0.02019638 0.27754573 0.10094319]\n",
      "wrapper([ 8.383e-01  4.431e-01 ...  5.368e-01  1.000e+00]) = -0.009968841847493482\n",
      "assembly_constraint_no_mean([ 8.383e-01  4.431e-01 ...  5.368e-01  1.000e+00]) = [ 1.022e+00 -1.113e+00 ... -5.289e-02 -4.319e-01]\n",
      "Warning: Normalized parameter -1.925929944387236e-34 for feature 4, parameter 7 is out of bounds. Capping to [0, 1].\n",
      "Warning: Normalized parameter -1.6352250812405645e-19 for feature 6, parameter 5 is out of bounds. Capping to [0, 1].\n",
      "Warning: Normalized parameter -1.7140822247012984e-19 for feature 4, parameter 1 is out of bounds. Capping to [0, 1].\n",
      "Warning: Normalized parameter -1.1302800904162585e-20 for feature 1, parameter 5 is out of bounds. Capping to [0, 1].\n",
      "Warning: Normalized parameter -8.149203813312898e-20 for feature 4, parameter 1 is out of bounds. Capping to [0, 1].\n",
      "Warning: Normalized parameter -1.6882700606971086e-21 for feature 4, parameter 7 is out of bounds. Capping to [0, 1].\n",
      "Warning: Normalized parameter -1.8526672506586684e-19 for feature 6, parameter 5 is out of bounds. Capping to [0, 1].\n",
      "Warning: Normalized parameter -1.7140822247012984e-19 for feature 4, parameter 1 is out of bounds. Capping to [0, 1].\n",
      "Warning: Normalized parameter -1.925929944387236e-34 for feature 4, parameter 7 is out of bounds. Capping to [0, 1].\n",
      "Warning: Normalized parameter -1.6352250812405645e-19 for feature 6, parameter 5 is out of bounds. Capping to [0, 1].\n",
      "Warning: Normalized parameter -8.149203813312898e-20 for feature 4, parameter 1 is out of bounds. Capping to [0, 1].\n",
      "Warning: Normalized parameter -1.6882700606971086e-21 for feature 4, parameter 7 is out of bounds. Capping to [0, 1].\n",
      "Warning: Normalized parameter -1.8526672506586684e-19 for feature 6, parameter 5 is out of bounds. Capping to [0, 1].\n",
      "Warning: Normalized parameter -1.7140822247012984e-19 for feature 4, parameter 1 is out of bounds. Capping to [0, 1].\n",
      "Warning: Normalized parameter -1.6352250812405645e-19 for feature 6, parameter 5 is out of bounds. Capping to [0, 1].\n",
      "Warning: Normalized parameter -1.6352250812405645e-19 for feature 6, parameter 5 is out of bounds. Capping to [0, 1].\n"
     ]
    },
    {
     "data": {
      "application/vnd.jupyter.widget-view+json": {
       "model_id": "af47eabc027e455e8a2bf2d32e7e2e7f",
       "version_major": 2,
       "version_minor": 0
      },
      "text/plain": [
       "  0%|          | 0/10000 [00:00<?, ?it/s]"
      ]
     },
     "metadata": {},
     "output_type": "display_data"
    },
    {
     "name": "stdout",
     "output_type": "stream",
     "text": [
      "gld_params: [0.05180099 0.02186108 0.29165504 0.12120621]\n",
      "wrapper([ 7.059e-01  2.858e-01 ...  8.249e-01  1.000e+00]) = -0.01357567398261931\n",
      "assembly_constraint_no_mean([ 7.059e-01  2.858e-01 ...  8.249e-01  1.000e+00]) = [ 3.022e-02 -6.334e-02 ...  1.911e-01  6.473e-02]\n",
      "Warning: Normalized parameter -1.925929944387236e-34 for feature 4, parameter 7 is out of bounds. Capping to [0, 1].\n",
      "Warning: Normalized parameter -1.6352250812405645e-19 for feature 6, parameter 5 is out of bounds. Capping to [0, 1].\n",
      "Warning: Normalized parameter -1.7140822247012984e-19 for feature 4, parameter 1 is out of bounds. Capping to [0, 1].\n",
      "Warning: Normalized parameter -1.1302800904162585e-20 for feature 1, parameter 5 is out of bounds. Capping to [0, 1].\n",
      "Warning: Normalized parameter -8.149203813312898e-20 for feature 4, parameter 1 is out of bounds. Capping to [0, 1].\n",
      "Warning: Normalized parameter -1.6882700606971086e-21 for feature 4, parameter 7 is out of bounds. Capping to [0, 1].\n",
      "Warning: Normalized parameter -1.8526672506586684e-19 for feature 6, parameter 5 is out of bounds. Capping to [0, 1].\n",
      "Warning: Normalized parameter -1.7140822247012984e-19 for feature 4, parameter 1 is out of bounds. Capping to [0, 1].\n",
      "Warning: Normalized parameter -1.925929944387236e-34 for feature 4, parameter 7 is out of bounds. Capping to [0, 1].\n",
      "Warning: Normalized parameter -1.6352250812405645e-19 for feature 6, parameter 5 is out of bounds. Capping to [0, 1].\n",
      "Warning: Normalized parameter -8.149203813312898e-20 for feature 4, parameter 1 is out of bounds. Capping to [0, 1].\n",
      "Warning: Normalized parameter -1.6882700606971086e-21 for feature 4, parameter 7 is out of bounds. Capping to [0, 1].\n",
      "Warning: Normalized parameter -1.8526672506586684e-19 for feature 6, parameter 5 is out of bounds. Capping to [0, 1].\n",
      "Warning: Normalized parameter -1.7140822247012984e-19 for feature 4, parameter 1 is out of bounds. Capping to [0, 1].\n",
      "Warning: Normalized parameter -1.6352250812405645e-19 for feature 6, parameter 5 is out of bounds. Capping to [0, 1].\n",
      "Warning: Normalized parameter -1.6352250812405645e-19 for feature 6, parameter 5 is out of bounds. Capping to [0, 1].\n"
     ]
    },
    {
     "data": {
      "application/vnd.jupyter.widget-view+json": {
       "model_id": "3e099f3f054a4b10b32c46e380726341",
       "version_major": 2,
       "version_minor": 0
      },
      "text/plain": [
       "  0%|          | 0/10000 [00:00<?, ?it/s]"
      ]
     },
     "metadata": {},
     "output_type": "display_data"
    },
    {
     "name": "stdout",
     "output_type": "stream",
     "text": [
      "gld_params: [0.05360328 0.02062805 0.27600095 0.10871549]\n",
      "wrapper([ 9.677e-01  2.965e-01 ...  1.000e+00  1.000e+00]) = -0.010502006107931654\n",
      "assembly_constraint_no_mean([ 9.677e-01  2.965e-01 ...  1.000e+00  1.000e+00]) = [ 1.063e+00 -5.682e-01 ...  7.188e-01  8.703e-01]\n",
      "Warning: Normalized parameter -1.925929944387236e-34 for feature 4, parameter 7 is out of bounds. Capping to [0, 1].\n",
      "Warning: Normalized parameter -1.6352250812405645e-19 for feature 6, parameter 5 is out of bounds. Capping to [0, 1].\n",
      "Warning: Normalized parameter -1.7140822247012984e-19 for feature 4, parameter 1 is out of bounds. Capping to [0, 1].\n",
      "Warning: Normalized parameter -1.1302800904162585e-20 for feature 1, parameter 5 is out of bounds. Capping to [0, 1].\n",
      "Warning: Normalized parameter -8.149203813312898e-20 for feature 4, parameter 1 is out of bounds. Capping to [0, 1].\n",
      "Warning: Normalized parameter -1.6882700606971086e-21 for feature 4, parameter 7 is out of bounds. Capping to [0, 1].\n",
      "Warning: Normalized parameter -1.8526672506586684e-19 for feature 6, parameter 5 is out of bounds. Capping to [0, 1].\n",
      "Warning: Normalized parameter -1.7140822247012984e-19 for feature 4, parameter 1 is out of bounds. Capping to [0, 1].\n",
      "Warning: Normalized parameter -1.925929944387236e-34 for feature 4, parameter 7 is out of bounds. Capping to [0, 1].\n",
      "Warning: Normalized parameter -1.6352250812405645e-19 for feature 6, parameter 5 is out of bounds. Capping to [0, 1].\n",
      "Warning: Normalized parameter -8.149203813312898e-20 for feature 4, parameter 1 is out of bounds. Capping to [0, 1].\n",
      "Warning: Normalized parameter -1.6882700606971086e-21 for feature 4, parameter 7 is out of bounds. Capping to [0, 1].\n",
      "Warning: Normalized parameter -1.8526672506586684e-19 for feature 6, parameter 5 is out of bounds. Capping to [0, 1].\n",
      "Warning: Normalized parameter -1.7140822247012984e-19 for feature 4, parameter 1 is out of bounds. Capping to [0, 1].\n",
      "Warning: Normalized parameter -1.6352250812405645e-19 for feature 6, parameter 5 is out of bounds. Capping to [0, 1].\n",
      "Warning: Normalized parameter -1.6352250812405645e-19 for feature 6, parameter 5 is out of bounds. Capping to [0, 1].\n"
     ]
    },
    {
     "data": {
      "application/vnd.jupyter.widget-view+json": {
       "model_id": "459cd1d711fd4dcca257fd89d7252129",
       "version_major": 2,
       "version_minor": 0
      },
      "text/plain": [
       "  0%|          | 0/10000 [00:00<?, ?it/s]"
      ]
     },
     "metadata": {},
     "output_type": "display_data"
    },
    {
     "name": "stdout",
     "output_type": "stream",
     "text": [
      "gld_params: [0.05173388 0.02193769 0.29246333 0.12219194]\n",
      "wrapper([ 7.456e-01  2.635e-01 ...  8.284e-01  1.000e+00]) = -0.013705742831069982\n",
      "assembly_constraint_no_mean([ 7.456e-01  2.635e-01 ...  8.284e-01  1.000e+00]) = [ 9.765e-02 -4.093e-02 ...  2.220e-01  7.564e-02]\n",
      "Warning: Normalized parameter -1.925929944387236e-34 for feature 4, parameter 7 is out of bounds. Capping to [0, 1].\n",
      "Warning: Normalized parameter -1.6352250812405645e-19 for feature 6, parameter 5 is out of bounds. Capping to [0, 1].\n",
      "Warning: Normalized parameter -1.7140822247012984e-19 for feature 4, parameter 1 is out of bounds. Capping to [0, 1].\n",
      "Warning: Normalized parameter -1.1302800904162585e-20 for feature 1, parameter 5 is out of bounds. Capping to [0, 1].\n",
      "Warning: Normalized parameter -8.149203813312898e-20 for feature 4, parameter 1 is out of bounds. Capping to [0, 1].\n",
      "Warning: Normalized parameter -1.6882700606971086e-21 for feature 4, parameter 7 is out of bounds. Capping to [0, 1].\n",
      "Warning: Normalized parameter -1.8526672506586684e-19 for feature 6, parameter 5 is out of bounds. Capping to [0, 1].\n",
      "Warning: Normalized parameter -1.7140822247012984e-19 for feature 4, parameter 1 is out of bounds. Capping to [0, 1].\n",
      "Warning: Normalized parameter -1.925929944387236e-34 for feature 4, parameter 7 is out of bounds. Capping to [0, 1].\n",
      "Warning: Normalized parameter -1.6352250812405645e-19 for feature 6, parameter 5 is out of bounds. Capping to [0, 1].\n",
      "Warning: Normalized parameter -8.149203813312898e-20 for feature 4, parameter 1 is out of bounds. Capping to [0, 1].\n",
      "Warning: Normalized parameter -1.6882700606971086e-21 for feature 4, parameter 7 is out of bounds. Capping to [0, 1].\n",
      "Warning: Normalized parameter -1.8526672506586684e-19 for feature 6, parameter 5 is out of bounds. Capping to [0, 1].\n",
      "Warning: Normalized parameter -1.7140822247012984e-19 for feature 4, parameter 1 is out of bounds. Capping to [0, 1].\n",
      "Warning: Normalized parameter -1.6352250812405645e-19 for feature 6, parameter 5 is out of bounds. Capping to [0, 1].\n",
      "Warning: Normalized parameter -1.6352250812405645e-19 for feature 6, parameter 5 is out of bounds. Capping to [0, 1].\n"
     ]
    },
    {
     "data": {
      "application/vnd.jupyter.widget-view+json": {
       "model_id": "f4969309509a4d02bc62c6506730b3a4",
       "version_major": 2,
       "version_minor": 0
      },
      "text/plain": [
       "  0%|          | 0/10000 [00:00<?, ?it/s]"
      ]
     },
     "metadata": {},
     "output_type": "display_data"
    },
    {
     "name": "stdout",
     "output_type": "stream",
     "text": [
      "gld_params: [0.05238062 0.02073404 0.28770558 0.10815933]\n",
      "wrapper([ 6.933e-01  3.108e-01 ...  1.000e+00  1.000e+00]) = -0.011321022619511721\n",
      "assembly_constraint_no_mean([ 6.933e-01  3.108e-01 ...  1.000e+00  1.000e+00]) = [ 1.761e-01 -4.629e-01 ... -1.878e-01  1.159e+00]\n",
      "Warning: Normalized parameter -1.925929944387236e-34 for feature 4, parameter 7 is out of bounds. Capping to [0, 1].\n",
      "Warning: Normalized parameter -1.6352250812405645e-19 for feature 6, parameter 5 is out of bounds. Capping to [0, 1].\n",
      "Warning: Normalized parameter -1.7140822247012984e-19 for feature 4, parameter 1 is out of bounds. Capping to [0, 1].\n",
      "Warning: Normalized parameter -1.1302800904162585e-20 for feature 1, parameter 5 is out of bounds. Capping to [0, 1].\n",
      "Warning: Normalized parameter -8.149203813312898e-20 for feature 4, parameter 1 is out of bounds. Capping to [0, 1].\n",
      "Warning: Normalized parameter -1.6882700606971086e-21 for feature 4, parameter 7 is out of bounds. Capping to [0, 1].\n",
      "Warning: Normalized parameter -1.8526672506586684e-19 for feature 6, parameter 5 is out of bounds. Capping to [0, 1].\n",
      "Warning: Normalized parameter -1.7140822247012984e-19 for feature 4, parameter 1 is out of bounds. Capping to [0, 1].\n",
      "Warning: Normalized parameter -1.925929944387236e-34 for feature 4, parameter 7 is out of bounds. Capping to [0, 1].\n",
      "Warning: Normalized parameter -1.6352250812405645e-19 for feature 6, parameter 5 is out of bounds. Capping to [0, 1].\n",
      "Warning: Normalized parameter -8.149203813312898e-20 for feature 4, parameter 1 is out of bounds. Capping to [0, 1].\n",
      "Warning: Normalized parameter -1.6882700606971086e-21 for feature 4, parameter 7 is out of bounds. Capping to [0, 1].\n",
      "Warning: Normalized parameter -1.8526672506586684e-19 for feature 6, parameter 5 is out of bounds. Capping to [0, 1].\n",
      "Warning: Normalized parameter -1.7140822247012984e-19 for feature 4, parameter 1 is out of bounds. Capping to [0, 1].\n",
      "Warning: Normalized parameter -1.6352250812405645e-19 for feature 6, parameter 5 is out of bounds. Capping to [0, 1].\n",
      "Warning: Normalized parameter -1.6352250812405645e-19 for feature 6, parameter 5 is out of bounds. Capping to [0, 1].\n"
     ]
    },
    {
     "data": {
      "application/vnd.jupyter.widget-view+json": {
       "model_id": "69b8327c7f824d38a7adbfdded7b64c2",
       "version_major": 2,
       "version_minor": 0
      },
      "text/plain": [
       "  0%|          | 0/10000 [00:00<?, ?it/s]"
      ]
     },
     "metadata": {},
     "output_type": "display_data"
    },
    {
     "name": "stdout",
     "output_type": "stream",
     "text": [
      "gld_params: [0.0516944  0.02187808 0.29190715 0.12105925]\n",
      "wrapper([ 7.234e-01  2.691e-01 ...  8.198e-01  1.000e+00]) = -0.01378629468189178\n",
      "assembly_constraint_no_mean([ 7.234e-01  2.691e-01 ...  8.198e-01  1.000e+00]) = [ 6.774e-02 -4.670e-02 ...  2.140e-01  4.336e-02]\n",
      "Warning: Normalized parameter -1.925929944387236e-34 for feature 4, parameter 7 is out of bounds. Capping to [0, 1].\n",
      "Warning: Normalized parameter -1.6352250812405645e-19 for feature 6, parameter 5 is out of bounds. Capping to [0, 1].\n",
      "Warning: Normalized parameter -1.7140822247012984e-19 for feature 4, parameter 1 is out of bounds. Capping to [0, 1].\n",
      "Warning: Normalized parameter -1.1302800904162585e-20 for feature 1, parameter 5 is out of bounds. Capping to [0, 1].\n",
      "Warning: Normalized parameter -8.149203813312898e-20 for feature 4, parameter 1 is out of bounds. Capping to [0, 1].\n",
      "Warning: Normalized parameter -1.6882700606971086e-21 for feature 4, parameter 7 is out of bounds. Capping to [0, 1].\n",
      "Warning: Normalized parameter -1.8526672506586684e-19 for feature 6, parameter 5 is out of bounds. Capping to [0, 1].\n",
      "Warning: Normalized parameter -1.7140822247012984e-19 for feature 4, parameter 1 is out of bounds. Capping to [0, 1].\n",
      "Warning: Normalized parameter -1.925929944387236e-34 for feature 4, parameter 7 is out of bounds. Capping to [0, 1].\n",
      "Warning: Normalized parameter -1.6352250812405645e-19 for feature 6, parameter 5 is out of bounds. Capping to [0, 1].\n",
      "Warning: Normalized parameter -8.149203813312898e-20 for feature 4, parameter 1 is out of bounds. Capping to [0, 1].\n",
      "Warning: Normalized parameter -1.6882700606971086e-21 for feature 4, parameter 7 is out of bounds. Capping to [0, 1].\n",
      "Warning: Normalized parameter -1.8526672506586684e-19 for feature 6, parameter 5 is out of bounds. Capping to [0, 1].\n",
      "Warning: Normalized parameter -1.7140822247012984e-19 for feature 4, parameter 1 is out of bounds. Capping to [0, 1].\n",
      "Warning: Normalized parameter -1.6352250812405645e-19 for feature 6, parameter 5 is out of bounds. Capping to [0, 1].\n",
      "Warning: Normalized parameter -1.6352250812405645e-19 for feature 6, parameter 5 is out of bounds. Capping to [0, 1].\n"
     ]
    },
    {
     "data": {
      "application/vnd.jupyter.widget-view+json": {
       "model_id": "c9049d5a15c44e9f999f000388741b03",
       "version_major": 2,
       "version_minor": 0
      },
      "text/plain": [
       "  0%|          | 0/10000 [00:00<?, ?it/s]"
      ]
     },
     "metadata": {},
     "output_type": "display_data"
    },
    {
     "name": "stdout",
     "output_type": "stream",
     "text": [
      "gld_params: [0.05344651 0.02057637 0.27976193 0.10743197]\n",
      "wrapper([ 7.123e-01  2.493e-01 ...  6.717e-01  1.000e+00]) = -0.010371004850690447\n",
      "assembly_constraint_no_mean([ 7.123e-01  2.493e-01 ...  6.717e-01  1.000e+00]) = [-5.727e-02 -5.349e-01 ... -1.343e-01 -2.488e-01]\n",
      "Warning: Normalized parameter -1.925929944387236e-34 for feature 4, parameter 7 is out of bounds. Capping to [0, 1].\n",
      "Warning: Normalized parameter -1.6352250812405645e-19 for feature 6, parameter 5 is out of bounds. Capping to [0, 1].\n",
      "Warning: Normalized parameter -1.7140822247012984e-19 for feature 4, parameter 1 is out of bounds. Capping to [0, 1].\n",
      "Warning: Normalized parameter -1.1302800904162585e-20 for feature 1, parameter 5 is out of bounds. Capping to [0, 1].\n",
      "Warning: Normalized parameter -8.149203813312898e-20 for feature 4, parameter 1 is out of bounds. Capping to [0, 1].\n",
      "Warning: Normalized parameter -1.6882700606971086e-21 for feature 4, parameter 7 is out of bounds. Capping to [0, 1].\n",
      "Warning: Normalized parameter -1.8526672506586684e-19 for feature 6, parameter 5 is out of bounds. Capping to [0, 1].\n",
      "Warning: Normalized parameter -1.7140822247012984e-19 for feature 4, parameter 1 is out of bounds. Capping to [0, 1].\n",
      "Warning: Normalized parameter -1.925929944387236e-34 for feature 4, parameter 7 is out of bounds. Capping to [0, 1].\n",
      "Warning: Normalized parameter -1.6352250812405645e-19 for feature 6, parameter 5 is out of bounds. Capping to [0, 1].\n",
      "Warning: Normalized parameter -8.149203813312898e-20 for feature 4, parameter 1 is out of bounds. Capping to [0, 1].\n",
      "Warning: Normalized parameter -1.6882700606971086e-21 for feature 4, parameter 7 is out of bounds. Capping to [0, 1].\n",
      "Warning: Normalized parameter -1.8526672506586684e-19 for feature 6, parameter 5 is out of bounds. Capping to [0, 1].\n",
      "Warning: Normalized parameter -1.7140822247012984e-19 for feature 4, parameter 1 is out of bounds. Capping to [0, 1].\n",
      "Warning: Normalized parameter -1.6352250812405645e-19 for feature 6, parameter 5 is out of bounds. Capping to [0, 1].\n",
      "Warning: Normalized parameter -1.6352250812405645e-19 for feature 6, parameter 5 is out of bounds. Capping to [0, 1].\n"
     ]
    },
    {
     "data": {
      "application/vnd.jupyter.widget-view+json": {
       "model_id": "4f7220da36f142cab87491aabeb92c65",
       "version_major": 2,
       "version_minor": 0
      },
      "text/plain": [
       "  0%|          | 0/10000 [00:00<?, ?it/s]"
      ]
     },
     "metadata": {},
     "output_type": "display_data"
    },
    {
     "name": "stdout",
     "output_type": "stream",
     "text": [
      "gld_params: [0.05176381 0.02181779 0.29186364 0.12036146]\n",
      "wrapper([ 7.511e-01  2.327e-01 ...  8.195e-01  1.000e+00]) = -0.013583410660030366\n",
      "assembly_constraint_no_mean([ 7.511e-01  2.327e-01 ...  8.195e-01  1.000e+00]) = [ 1.180e-01 -2.397e-02 ...  2.156e-01  4.754e-02]\n",
      "Warning: Normalized parameter -1.925929944387236e-34 for feature 4, parameter 7 is out of bounds. Capping to [0, 1].\n",
      "Warning: Normalized parameter -1.6352250812405645e-19 for feature 6, parameter 5 is out of bounds. Capping to [0, 1].\n",
      "Warning: Normalized parameter -1.7140822247012984e-19 for feature 4, parameter 1 is out of bounds. Capping to [0, 1].\n",
      "Warning: Normalized parameter -1.1302800904162585e-20 for feature 1, parameter 5 is out of bounds. Capping to [0, 1].\n",
      "Warning: Normalized parameter -8.149203813312898e-20 for feature 4, parameter 1 is out of bounds. Capping to [0, 1].\n",
      "Warning: Normalized parameter -1.6882700606971086e-21 for feature 4, parameter 7 is out of bounds. Capping to [0, 1].\n",
      "Warning: Normalized parameter -1.8526672506586684e-19 for feature 6, parameter 5 is out of bounds. Capping to [0, 1].\n",
      "Warning: Normalized parameter -1.7140822247012984e-19 for feature 4, parameter 1 is out of bounds. Capping to [0, 1].\n",
      "Warning: Normalized parameter -1.925929944387236e-34 for feature 4, parameter 7 is out of bounds. Capping to [0, 1].\n",
      "Warning: Normalized parameter -1.6352250812405645e-19 for feature 6, parameter 5 is out of bounds. Capping to [0, 1].\n",
      "Warning: Normalized parameter -8.149203813312898e-20 for feature 4, parameter 1 is out of bounds. Capping to [0, 1].\n",
      "Warning: Normalized parameter -1.6882700606971086e-21 for feature 4, parameter 7 is out of bounds. Capping to [0, 1].\n",
      "Warning: Normalized parameter -1.8526672506586684e-19 for feature 6, parameter 5 is out of bounds. Capping to [0, 1].\n",
      "Warning: Normalized parameter -1.7140822247012984e-19 for feature 4, parameter 1 is out of bounds. Capping to [0, 1].\n",
      "Warning: Normalized parameter -1.6352250812405645e-19 for feature 6, parameter 5 is out of bounds. Capping to [0, 1].\n",
      "Warning: Normalized parameter -1.6352250812405645e-19 for feature 6, parameter 5 is out of bounds. Capping to [0, 1].\n"
     ]
    },
    {
     "data": {
      "application/vnd.jupyter.widget-view+json": {
       "model_id": "3c640151927248be960a0a826ee6e0db",
       "version_major": 2,
       "version_minor": 0
      },
      "text/plain": [
       "  0%|          | 0/10000 [00:00<?, ?it/s]"
      ]
     },
     "metadata": {},
     "output_type": "display_data"
    },
    {
     "name": "stdout",
     "output_type": "stream",
     "text": [
      "gld_params: [0.050286   0.0222568  0.29792571 0.12485592]\n",
      "wrapper([ 7.181e-01  1.113e-01 ...  8.393e-01  1.000e+00]) = -0.016132172041367167\n",
      "assembly_constraint_no_mean([ 7.181e-01  1.113e-01 ...  8.393e-01  1.000e+00]) = [ 1.773e-01 -6.418e-02 ...  1.223e-01  1.056e-01]\n",
      "Warning: Normalized parameter -1.925929944387236e-34 for feature 4, parameter 7 is out of bounds. Capping to [0, 1].\n",
      "Warning: Normalized parameter -1.6352250812405645e-19 for feature 6, parameter 5 is out of bounds. Capping to [0, 1].\n",
      "Warning: Normalized parameter -1.7140822247012984e-19 for feature 4, parameter 1 is out of bounds. Capping to [0, 1].\n",
      "Warning: Normalized parameter -1.1302800904162585e-20 for feature 1, parameter 5 is out of bounds. Capping to [0, 1].\n",
      "Warning: Normalized parameter -8.149203813312898e-20 for feature 4, parameter 1 is out of bounds. Capping to [0, 1].\n",
      "Warning: Normalized parameter -1.6882700606971086e-21 for feature 4, parameter 7 is out of bounds. Capping to [0, 1].\n",
      "Warning: Normalized parameter -1.8526672506586684e-19 for feature 6, parameter 5 is out of bounds. Capping to [0, 1].\n",
      "Warning: Normalized parameter -1.7140822247012984e-19 for feature 4, parameter 1 is out of bounds. Capping to [0, 1].\n",
      "Warning: Normalized parameter -1.925929944387236e-34 for feature 4, parameter 7 is out of bounds. Capping to [0, 1].\n",
      "Warning: Normalized parameter -1.6352250812405645e-19 for feature 6, parameter 5 is out of bounds. Capping to [0, 1].\n",
      "Warning: Normalized parameter -8.149203813312898e-20 for feature 4, parameter 1 is out of bounds. Capping to [0, 1].\n",
      "Warning: Normalized parameter -1.6882700606971086e-21 for feature 4, parameter 7 is out of bounds. Capping to [0, 1].\n",
      "Warning: Normalized parameter -1.8526672506586684e-19 for feature 6, parameter 5 is out of bounds. Capping to [0, 1].\n",
      "Warning: Normalized parameter -1.7140822247012984e-19 for feature 4, parameter 1 is out of bounds. Capping to [0, 1].\n",
      "Warning: Normalized parameter -1.6352250812405645e-19 for feature 6, parameter 5 is out of bounds. Capping to [0, 1].\n",
      "Warning: Normalized parameter -1.6352250812405645e-19 for feature 6, parameter 5 is out of bounds. Capping to [0, 1].\n"
     ]
    },
    {
     "data": {
      "application/vnd.jupyter.widget-view+json": {
       "model_id": "700fc02750e54507ad23d4370d515eae",
       "version_major": 2,
       "version_minor": 0
      },
      "text/plain": [
       "  0%|          | 0/10000 [00:00<?, ?it/s]"
      ]
     },
     "metadata": {},
     "output_type": "display_data"
    },
    {
     "name": "stdout",
     "output_type": "stream",
     "text": [
      "gld_params: [0.05125796 0.02126451 0.29315557 0.11287534]\n",
      "wrapper([ 7.062e-01  0.000e+00 ...  8.234e-01  1.000e+00]) = -0.013369759803323267\n",
      "assembly_constraint_no_mean([ 7.062e-01  0.000e+00 ...  8.234e-01  1.000e+00]) = [ 4.417e-02 -3.067e-01 ... -2.596e-01  3.712e-02]\n",
      "Warning: Normalized parameter -1.925929944387236e-34 for feature 4, parameter 7 is out of bounds. Capping to [0, 1].\n",
      "Warning: Normalized parameter -1.6352250812405645e-19 for feature 6, parameter 5 is out of bounds. Capping to [0, 1].\n",
      "Warning: Normalized parameter -1.7140822247012984e-19 for feature 4, parameter 1 is out of bounds. Capping to [0, 1].\n",
      "Warning: Normalized parameter -1.1302800904162585e-20 for feature 1, parameter 5 is out of bounds. Capping to [0, 1].\n",
      "Warning: Normalized parameter -8.149203813312898e-20 for feature 4, parameter 1 is out of bounds. Capping to [0, 1].\n",
      "Warning: Normalized parameter -1.6882700606971086e-21 for feature 4, parameter 7 is out of bounds. Capping to [0, 1].\n",
      "Warning: Normalized parameter -1.8526672506586684e-19 for feature 6, parameter 5 is out of bounds. Capping to [0, 1].\n",
      "Warning: Normalized parameter -1.7140822247012984e-19 for feature 4, parameter 1 is out of bounds. Capping to [0, 1].\n",
      "Warning: Normalized parameter -1.925929944387236e-34 for feature 4, parameter 7 is out of bounds. Capping to [0, 1].\n",
      "Warning: Normalized parameter -1.6352250812405645e-19 for feature 6, parameter 5 is out of bounds. Capping to [0, 1].\n",
      "Warning: Normalized parameter -8.149203813312898e-20 for feature 4, parameter 1 is out of bounds. Capping to [0, 1].\n",
      "Warning: Normalized parameter -1.6882700606971086e-21 for feature 4, parameter 7 is out of bounds. Capping to [0, 1].\n",
      "Warning: Normalized parameter -1.8526672506586684e-19 for feature 6, parameter 5 is out of bounds. Capping to [0, 1].\n",
      "Warning: Normalized parameter -1.7140822247012984e-19 for feature 4, parameter 1 is out of bounds. Capping to [0, 1].\n",
      "Warning: Normalized parameter -1.6352250812405645e-19 for feature 6, parameter 5 is out of bounds. Capping to [0, 1].\n",
      "Warning: Normalized parameter -1.6352250812405645e-19 for feature 6, parameter 5 is out of bounds. Capping to [0, 1].\n"
     ]
    },
    {
     "data": {
      "application/vnd.jupyter.widget-view+json": {
       "model_id": "8ac959b485da4643b3f768404b5804ad",
       "version_major": 2,
       "version_minor": 0
      },
      "text/plain": [
       "  0%|          | 0/10000 [00:00<?, ?it/s]"
      ]
     },
     "metadata": {},
     "output_type": "display_data"
    },
    {
     "name": "stdout",
     "output_type": "stream",
     "text": [
      "gld_params: [0.05211515 0.02210752 0.28387343 0.11941725]\n",
      "wrapper([ 8.362e-01  0.000e+00 ...  8.286e-01  1.000e+00]) = -0.01511896229120003\n",
      "assembly_constraint_no_mean([ 8.362e-01  0.000e+00 ...  8.286e-01  1.000e+00]) = [ 2.219e-01 -2.868e-02 ...  1.441e-01  6.740e-02]\n",
      "Warning: Normalized parameter -1.925929944387236e-34 for feature 4, parameter 7 is out of bounds. Capping to [0, 1].\n",
      "Warning: Normalized parameter -1.6352250812405645e-19 for feature 6, parameter 5 is out of bounds. Capping to [0, 1].\n",
      "Warning: Normalized parameter -1.7140822247012984e-19 for feature 4, parameter 1 is out of bounds. Capping to [0, 1].\n",
      "Warning: Normalized parameter -1.1302800904162585e-20 for feature 1, parameter 5 is out of bounds. Capping to [0, 1].\n",
      "Warning: Normalized parameter -8.149203813312898e-20 for feature 4, parameter 1 is out of bounds. Capping to [0, 1].\n",
      "Warning: Normalized parameter -1.6882700606971086e-21 for feature 4, parameter 7 is out of bounds. Capping to [0, 1].\n",
      "Warning: Normalized parameter -1.8526672506586684e-19 for feature 6, parameter 5 is out of bounds. Capping to [0, 1].\n",
      "Warning: Normalized parameter -1.7140822247012984e-19 for feature 4, parameter 1 is out of bounds. Capping to [0, 1].\n",
      "Warning: Normalized parameter -1.925929944387236e-34 for feature 4, parameter 7 is out of bounds. Capping to [0, 1].\n",
      "Warning: Normalized parameter -1.6352250812405645e-19 for feature 6, parameter 5 is out of bounds. Capping to [0, 1].\n",
      "Warning: Normalized parameter -8.149203813312898e-20 for feature 4, parameter 1 is out of bounds. Capping to [0, 1].\n",
      "Warning: Normalized parameter -1.6882700606971086e-21 for feature 4, parameter 7 is out of bounds. Capping to [0, 1].\n",
      "Warning: Normalized parameter -1.8526672506586684e-19 for feature 6, parameter 5 is out of bounds. Capping to [0, 1].\n",
      "Warning: Normalized parameter -1.7140822247012984e-19 for feature 4, parameter 1 is out of bounds. Capping to [0, 1].\n",
      "Warning: Normalized parameter -1.6352250812405645e-19 for feature 6, parameter 5 is out of bounds. Capping to [0, 1].\n",
      "Warning: Normalized parameter -1.6352250812405645e-19 for feature 6, parameter 5 is out of bounds. Capping to [0, 1].\n"
     ]
    },
    {
     "data": {
      "application/vnd.jupyter.widget-view+json": {
       "model_id": "d0228d5a027148ebbcdde12d54353e78",
       "version_major": 2,
       "version_minor": 0
      },
      "text/plain": [
       "  0%|          | 0/10000 [00:00<?, ?it/s]"
      ]
     },
     "metadata": {},
     "output_type": "display_data"
    },
    {
     "name": "stdout",
     "output_type": "stream",
     "text": [
      "gld_params: [0.05167505 0.02146282 0.2899275  0.11284736]\n",
      "wrapper([ 8.206e-01  2.183e-01 ...  7.723e-01  1.000e+00]) = -0.01379947170691767\n",
      "assembly_constraint_no_mean([ 8.206e-01  2.183e-01 ...  7.723e-01  1.000e+00]) = [ 6.913e-01 -6.093e-01 ...  6.495e-01 -1.451e-01]\n",
      "Warning: Normalized parameter -1.925929944387236e-34 for feature 4, parameter 7 is out of bounds. Capping to [0, 1].\n",
      "Warning: Normalized parameter -1.6352250812405645e-19 for feature 6, parameter 5 is out of bounds. Capping to [0, 1].\n",
      "Warning: Normalized parameter -1.7140822247012984e-19 for feature 4, parameter 1 is out of bounds. Capping to [0, 1].\n",
      "Warning: Normalized parameter -1.1302800904162585e-20 for feature 1, parameter 5 is out of bounds. Capping to [0, 1].\n",
      "Warning: Normalized parameter -8.149203813312898e-20 for feature 4, parameter 1 is out of bounds. Capping to [0, 1].\n",
      "Warning: Normalized parameter -1.6882700606971086e-21 for feature 4, parameter 7 is out of bounds. Capping to [0, 1].\n",
      "Warning: Normalized parameter -1.8526672506586684e-19 for feature 6, parameter 5 is out of bounds. Capping to [0, 1].\n",
      "Warning: Normalized parameter -1.7140822247012984e-19 for feature 4, parameter 1 is out of bounds. Capping to [0, 1].\n",
      "Warning: Normalized parameter -1.925929944387236e-34 for feature 4, parameter 7 is out of bounds. Capping to [0, 1].\n",
      "Warning: Normalized parameter -1.6352250812405645e-19 for feature 6, parameter 5 is out of bounds. Capping to [0, 1].\n",
      "Warning: Normalized parameter -8.149203813312898e-20 for feature 4, parameter 1 is out of bounds. Capping to [0, 1].\n",
      "Warning: Normalized parameter -1.6882700606971086e-21 for feature 4, parameter 7 is out of bounds. Capping to [0, 1].\n",
      "Warning: Normalized parameter -1.8526672506586684e-19 for feature 6, parameter 5 is out of bounds. Capping to [0, 1].\n",
      "Warning: Normalized parameter -1.7140822247012984e-19 for feature 4, parameter 1 is out of bounds. Capping to [0, 1].\n",
      "Warning: Normalized parameter -1.6352250812405645e-19 for feature 6, parameter 5 is out of bounds. Capping to [0, 1].\n",
      "Warning: Normalized parameter -1.6352250812405645e-19 for feature 6, parameter 5 is out of bounds. Capping to [0, 1].\n"
     ]
    },
    {
     "data": {
      "application/vnd.jupyter.widget-view+json": {
       "model_id": "6c233aded9d04f80817776c84067c1b5",
       "version_major": 2,
       "version_minor": 0
      },
      "text/plain": [
       "  0%|          | 0/10000 [00:00<?, ?it/s]"
      ]
     },
     "metadata": {},
     "output_type": "display_data"
    },
    {
     "name": "stdout",
     "output_type": "stream",
     "text": [
      "gld_params: [0.05066531 0.02258856 0.29885224 0.13215438]\n",
      "wrapper([ 6.656e-01  2.392e-01 ...  8.308e-01  1.000e+00]) = -0.01546022529302322\n",
      "assembly_constraint_no_mean([ 6.656e-01  2.392e-01 ...  8.308e-01  1.000e+00]) = [ 7.841e-02 -7.551e-03 ...  5.994e-01  7.070e-02]\n",
      "Warning: Normalized parameter -1.3877787807814457e-17 for feature 4, parameter 1 is out of bounds. Capping to [0, 1].\n",
      "Warning: Normalized parameter -1.3877787807814457e-17 for feature 4, parameter 1 is out of bounds. Capping to [0, 1].\n",
      "Warning: Normalized parameter -1.3877787807814457e-17 for feature 4, parameter 1 is out of bounds. Capping to [0, 1].\n",
      "Warning: Normalized parameter -1.3877787807814457e-17 for feature 4, parameter 1 is out of bounds. Capping to [0, 1].\n",
      "Warning: Normalized parameter -1.925929944387236e-34 for feature 4, parameter 7 is out of bounds. Capping to [0, 1].\n",
      "Warning: Normalized parameter -1.6352250812405645e-19 for feature 6, parameter 5 is out of bounds. Capping to [0, 1].\n",
      "Warning: Normalized parameter -1.7140822247012984e-19 for feature 4, parameter 1 is out of bounds. Capping to [0, 1].\n",
      "Warning: Normalized parameter -1.3877787807814457e-17 for feature 4, parameter 1 is out of bounds. Capping to [0, 1].\n",
      "Warning: Normalized parameter -1.1302800904162585e-20 for feature 1, parameter 5 is out of bounds. Capping to [0, 1].\n",
      "Warning: Normalized parameter -8.149203813312898e-20 for feature 4, parameter 1 is out of bounds. Capping to [0, 1].\n",
      "Warning: Normalized parameter -1.6882700606971086e-21 for feature 4, parameter 7 is out of bounds. Capping to [0, 1].\n",
      "Warning: Normalized parameter -1.8526672506586684e-19 for feature 6, parameter 5 is out of bounds. Capping to [0, 1].\n",
      "Warning: Normalized parameter -1.7140822247012984e-19 for feature 4, parameter 1 is out of bounds. Capping to [0, 1].\n",
      "Warning: Normalized parameter -1.925929944387236e-34 for feature 4, parameter 7 is out of bounds. Capping to [0, 1].\n",
      "Warning: Normalized parameter -1.6352250812405645e-19 for feature 6, parameter 5 is out of bounds. Capping to [0, 1].\n",
      "Warning: Normalized parameter -8.149203813312898e-20 for feature 4, parameter 1 is out of bounds. Capping to [0, 1].\n",
      "Warning: Normalized parameter -1.6882700606971086e-21 for feature 4, parameter 7 is out of bounds. Capping to [0, 1].\n",
      "Warning: Normalized parameter -1.8526672506586684e-19 for feature 6, parameter 5 is out of bounds. Capping to [0, 1].\n",
      "Warning: Normalized parameter -1.7140822247012984e-19 for feature 4, parameter 1 is out of bounds. Capping to [0, 1].\n",
      "Warning: Normalized parameter -1.6352250812405645e-19 for feature 6, parameter 5 is out of bounds. Capping to [0, 1].\n",
      "Warning: Normalized parameter -1.6352250812405645e-19 for feature 6, parameter 5 is out of bounds. Capping to [0, 1].\n"
     ]
    },
    {
     "data": {
      "application/vnd.jupyter.widget-view+json": {
       "model_id": "d4b07550023142cdbf3558b8621925c6",
       "version_major": 2,
       "version_minor": 0
      },
      "text/plain": [
       "  0%|          | 0/10000 [00:00<?, ?it/s]"
      ]
     },
     "metadata": {},
     "output_type": "display_data"
    },
    {
     "name": "stdout",
     "output_type": "stream",
     "text": [
      "gld_params: [0.05190929 0.02187879 0.29119523 0.12363935]\n",
      "wrapper([ 6.909e-01  2.265e-01 ...  8.362e-01  1.000e+00]) = -0.01316944669079203\n",
      "assembly_constraint_no_mean([ 6.909e-01  2.265e-01 ...  8.362e-01  1.000e+00]) = [-8.238e-02 -8.691e-02 ...  1.462e+00  8.536e-02]\n",
      "Warning: Normalized parameter -1.925929944387236e-34 for feature 4, parameter 7 is out of bounds. Capping to [0, 1].\n",
      "Warning: Normalized parameter -1.6352250812405645e-19 for feature 6, parameter 5 is out of bounds. Capping to [0, 1].\n",
      "Warning: Normalized parameter -1.7140822247012984e-19 for feature 4, parameter 1 is out of bounds. Capping to [0, 1].\n",
      "Warning: Normalized parameter -1.3877787807814457e-17 for feature 4, parameter 1 is out of bounds. Capping to [0, 1].\n",
      "Warning: Normalized parameter -1.1302800904162585e-20 for feature 1, parameter 5 is out of bounds. Capping to [0, 1].\n",
      "Warning: Normalized parameter -8.149203813312898e-20 for feature 4, parameter 1 is out of bounds. Capping to [0, 1].\n",
      "Warning: Normalized parameter -1.6882700606971086e-21 for feature 4, parameter 7 is out of bounds. Capping to [0, 1].\n",
      "Warning: Normalized parameter -1.8526672506586684e-19 for feature 6, parameter 5 is out of bounds. Capping to [0, 1].\n",
      "Warning: Normalized parameter -1.7140822247012984e-19 for feature 4, parameter 1 is out of bounds. Capping to [0, 1].\n",
      "Warning: Normalized parameter -1.925929944387236e-34 for feature 4, parameter 7 is out of bounds. Capping to [0, 1].\n",
      "Warning: Normalized parameter -1.6352250812405645e-19 for feature 6, parameter 5 is out of bounds. Capping to [0, 1].\n",
      "Warning: Normalized parameter -8.149203813312898e-20 for feature 4, parameter 1 is out of bounds. Capping to [0, 1].\n",
      "Warning: Normalized parameter -1.6882700606971086e-21 for feature 4, parameter 7 is out of bounds. Capping to [0, 1].\n",
      "Warning: Normalized parameter -1.8526672506586684e-19 for feature 6, parameter 5 is out of bounds. Capping to [0, 1].\n",
      "Warning: Normalized parameter -1.7140822247012984e-19 for feature 4, parameter 1 is out of bounds. Capping to [0, 1].\n",
      "Warning: Normalized parameter -1.6352250812405645e-19 for feature 6, parameter 5 is out of bounds. Capping to [0, 1].\n",
      "Warning: Normalized parameter -1.6352250812405645e-19 for feature 6, parameter 5 is out of bounds. Capping to [0, 1].\n"
     ]
    },
    {
     "data": {
      "application/vnd.jupyter.widget-view+json": {
       "model_id": "393e3b0f7daa461cad94792a727c84e0",
       "version_major": 2,
       "version_minor": 0
      },
      "text/plain": [
       "  0%|          | 0/10000 [00:00<?, ?it/s]"
      ]
     },
     "metadata": {},
     "output_type": "display_data"
    },
    {
     "name": "stdout",
     "output_type": "stream",
     "text": [
      "gld_params: [0.05025352 0.02230416 0.30111771 0.12943674]\n",
      "wrapper([ 6.508e-01  2.502e-01 ...  8.329e-01  1.000e+00]) = -0.015241774557901829\n",
      "assembly_constraint_no_mean([ 6.508e-01  2.502e-01 ...  8.329e-01  1.000e+00]) = [ 1.453e-01 -5.004e-02 ...  4.230e-01  6.519e-02]\n",
      "Warning: Normalized parameter -1.925929944387236e-34 for feature 4, parameter 7 is out of bounds. Capping to [0, 1].\n",
      "Warning: Normalized parameter -1.7140822247012984e-19 for feature 4, parameter 1 is out of bounds. Capping to [0, 1].\n",
      "Warning: Normalized parameter -1.3877787807814457e-17 for feature 4, parameter 1 is out of bounds. Capping to [0, 1].\n",
      "Warning: Normalized parameter -1.1302800904162585e-20 for feature 1, parameter 5 is out of bounds. Capping to [0, 1].\n",
      "Warning: Normalized parameter -8.149203813312898e-20 for feature 4, parameter 1 is out of bounds. Capping to [0, 1].\n",
      "Warning: Normalized parameter -1.6882700606971086e-21 for feature 4, parameter 7 is out of bounds. Capping to [0, 1].\n",
      "Warning: Normalized parameter -1.8526672506586684e-19 for feature 6, parameter 5 is out of bounds. Capping to [0, 1].\n",
      "Warning: Normalized parameter -1.7140822247012984e-19 for feature 4, parameter 1 is out of bounds. Capping to [0, 1].\n",
      "Warning: Normalized parameter -1.925929944387236e-34 for feature 4, parameter 7 is out of bounds. Capping to [0, 1].\n",
      "Warning: Normalized parameter -1.6352250812405645e-19 for feature 6, parameter 5 is out of bounds. Capping to [0, 1].\n",
      "Warning: Normalized parameter -8.149203813312898e-20 for feature 4, parameter 1 is out of bounds. Capping to [0, 1].\n",
      "Warning: Normalized parameter -1.6882700606971086e-21 for feature 4, parameter 7 is out of bounds. Capping to [0, 1].\n",
      "Warning: Normalized parameter -1.8526672506586684e-19 for feature 6, parameter 5 is out of bounds. Capping to [0, 1].\n",
      "Warning: Normalized parameter -1.7140822247012984e-19 for feature 4, parameter 1 is out of bounds. Capping to [0, 1].\n",
      "Warning: Normalized parameter -1.6352250812405645e-19 for feature 6, parameter 5 is out of bounds. Capping to [0, 1].\n",
      "Warning: Normalized parameter -1.6352250812405645e-19 for feature 6, parameter 5 is out of bounds. Capping to [0, 1].\n"
     ]
    },
    {
     "data": {
      "application/vnd.jupyter.widget-view+json": {
       "model_id": "0ead47c476bc4f208db82dc243502db3",
       "version_major": 2,
       "version_minor": 0
      },
      "text/plain": [
       "  0%|          | 0/10000 [00:00<?, ?it/s]"
      ]
     },
     "metadata": {},
     "output_type": "display_data"
    },
    {
     "name": "stdout",
     "output_type": "stream",
     "text": [
      "gld_params: [0.05243619 0.0217954  0.28583077 0.11986305]\n",
      "wrapper([ 7.546e-01  3.823e-01 ...  8.529e-01  1.000e+00]) = -0.013252583159391464\n",
      "assembly_constraint_no_mean([ 7.546e-01  3.823e-01 ...  8.529e-01  1.000e+00]) = [ 4.184e-01 -5.763e-01 ... -3.049e-01  2.082e-01]\n",
      "Warning: Normalized parameter -1.925929944387236e-34 for feature 4, parameter 7 is out of bounds. Capping to [0, 1].\n",
      "Warning: Normalized parameter -1.7140822247012984e-19 for feature 4, parameter 1 is out of bounds. Capping to [0, 1].\n",
      "Warning: Normalized parameter -1.3877787807814457e-17 for feature 4, parameter 1 is out of bounds. Capping to [0, 1].\n",
      "Warning: Normalized parameter -1.1302800904162585e-20 for feature 1, parameter 5 is out of bounds. Capping to [0, 1].\n",
      "Warning: Normalized parameter -8.149203813312898e-20 for feature 4, parameter 1 is out of bounds. Capping to [0, 1].\n",
      "Warning: Normalized parameter -1.6882700606971086e-21 for feature 4, parameter 7 is out of bounds. Capping to [0, 1].\n",
      "Warning: Normalized parameter -1.8526672506586684e-19 for feature 6, parameter 5 is out of bounds. Capping to [0, 1].\n",
      "Warning: Normalized parameter -1.7140822247012984e-19 for feature 4, parameter 1 is out of bounds. Capping to [0, 1].\n",
      "Warning: Normalized parameter -1.925929944387236e-34 for feature 4, parameter 7 is out of bounds. Capping to [0, 1].\n",
      "Warning: Normalized parameter -1.6352250812405645e-19 for feature 6, parameter 5 is out of bounds. Capping to [0, 1].\n",
      "Warning: Normalized parameter -8.149203813312898e-20 for feature 4, parameter 1 is out of bounds. Capping to [0, 1].\n",
      "Warning: Normalized parameter -1.6882700606971086e-21 for feature 4, parameter 7 is out of bounds. Capping to [0, 1].\n",
      "Warning: Normalized parameter -1.8526672506586684e-19 for feature 6, parameter 5 is out of bounds. Capping to [0, 1].\n",
      "Warning: Normalized parameter -1.7140822247012984e-19 for feature 4, parameter 1 is out of bounds. Capping to [0, 1].\n",
      "Warning: Normalized parameter -1.6352250812405645e-19 for feature 6, parameter 5 is out of bounds. Capping to [0, 1].\n",
      "Warning: Normalized parameter -1.6352250812405645e-19 for feature 6, parameter 5 is out of bounds. Capping to [0, 1].\n"
     ]
    },
    {
     "data": {
      "application/vnd.jupyter.widget-view+json": {
       "model_id": "b180fa7e5fd34898b3cc08e5e2438673",
       "version_major": 2,
       "version_minor": 0
      },
      "text/plain": [
       "  0%|          | 0/10000 [00:00<?, ?it/s]"
      ]
     },
     "metadata": {},
     "output_type": "display_data"
    },
    {
     "name": "stdout",
     "output_type": "stream",
     "text": [
      "gld_params: [0.05080821 0.02237475 0.29666296 0.12780091]\n",
      "wrapper([ 6.401e-01  2.525e-01 ...  8.319e-01  1.000e+00]) = -0.01538384743018423\n",
      "assembly_constraint_no_mean([ 6.401e-01  2.525e-01 ...  8.319e-01  1.000e+00]) = [ 1.498e-01 -1.869e-02 ...  4.885e-01  6.958e-02]\n",
      "Warning: Normalized parameter -1.925929944387236e-34 for feature 4, parameter 7 is out of bounds. Capping to [0, 1].\n",
      "Warning: Normalized parameter -1.7140822247012984e-19 for feature 4, parameter 1 is out of bounds. Capping to [0, 1].\n",
      "Warning: Normalized parameter -1.3877787807814457e-17 for feature 4, parameter 1 is out of bounds. Capping to [0, 1].\n",
      "Warning: Normalized parameter -1.1302800904162585e-20 for feature 1, parameter 5 is out of bounds. Capping to [0, 1].\n",
      "Warning: Normalized parameter -8.149203813312898e-20 for feature 4, parameter 1 is out of bounds. Capping to [0, 1].\n",
      "Warning: Normalized parameter -1.6882700606971086e-21 for feature 4, parameter 7 is out of bounds. Capping to [0, 1].\n",
      "Warning: Normalized parameter -1.8526672506586684e-19 for feature 6, parameter 5 is out of bounds. Capping to [0, 1].\n",
      "Warning: Normalized parameter -1.7140822247012984e-19 for feature 4, parameter 1 is out of bounds. Capping to [0, 1].\n",
      "Warning: Normalized parameter -1.925929944387236e-34 for feature 4, parameter 7 is out of bounds. Capping to [0, 1].\n",
      "Warning: Normalized parameter -1.6352250812405645e-19 for feature 6, parameter 5 is out of bounds. Capping to [0, 1].\n",
      "Warning: Normalized parameter -8.149203813312898e-20 for feature 4, parameter 1 is out of bounds. Capping to [0, 1].\n",
      "Warning: Normalized parameter -1.6882700606971086e-21 for feature 4, parameter 7 is out of bounds. Capping to [0, 1].\n",
      "Warning: Normalized parameter -1.8526672506586684e-19 for feature 6, parameter 5 is out of bounds. Capping to [0, 1].\n",
      "Warning: Normalized parameter -1.7140822247012984e-19 for feature 4, parameter 1 is out of bounds. Capping to [0, 1].\n",
      "Warning: Normalized parameter -1.6352250812405645e-19 for feature 6, parameter 5 is out of bounds. Capping to [0, 1].\n",
      "Warning: Normalized parameter -1.6352250812405645e-19 for feature 6, parameter 5 is out of bounds. Capping to [0, 1].\n"
     ]
    },
    {
     "data": {
      "application/vnd.jupyter.widget-view+json": {
       "model_id": "526f150f05a4409bbfff1ab24ef2c845",
       "version_major": 2,
       "version_minor": 0
      },
      "text/plain": [
       "  0%|          | 0/10000 [00:00<?, ?it/s]"
      ]
     },
     "metadata": {},
     "output_type": "display_data"
    },
    {
     "name": "stdout",
     "output_type": "stream",
     "text": [
      "gld_params: [0.05080397 0.02136932 0.29633413 0.1157603 ]\n",
      "wrapper([ 8.656e-01  3.133e-01 ...  9.335e-01  1.000e+00]) = -0.013632191132682466\n",
      "assembly_constraint_no_mean([ 8.656e-01  3.133e-01 ...  9.335e-01  1.000e+00]) = [ 7.662e-01 -1.476e-01 ...  1.506e-01  9.374e-01]\n",
      "Warning: Normalized parameter -1.925929944387236e-34 for feature 4, parameter 7 is out of bounds. Capping to [0, 1].\n",
      "Warning: Normalized parameter -1.7140822247012984e-19 for feature 4, parameter 1 is out of bounds. Capping to [0, 1].\n",
      "Warning: Normalized parameter -1.3877787807814457e-17 for feature 4, parameter 1 is out of bounds. Capping to [0, 1].\n",
      "Warning: Normalized parameter -1.1302800904162585e-20 for feature 1, parameter 5 is out of bounds. Capping to [0, 1].\n",
      "Warning: Normalized parameter -8.149203813312898e-20 for feature 4, parameter 1 is out of bounds. Capping to [0, 1].\n",
      "Warning: Normalized parameter -1.6882700606971086e-21 for feature 4, parameter 7 is out of bounds. Capping to [0, 1].\n",
      "Warning: Normalized parameter -1.8526672506586684e-19 for feature 6, parameter 5 is out of bounds. Capping to [0, 1].\n",
      "Warning: Normalized parameter -1.7140822247012984e-19 for feature 4, parameter 1 is out of bounds. Capping to [0, 1].\n",
      "Warning: Normalized parameter -1.925929944387236e-34 for feature 4, parameter 7 is out of bounds. Capping to [0, 1].\n",
      "Warning: Normalized parameter -1.6352250812405645e-19 for feature 6, parameter 5 is out of bounds. Capping to [0, 1].\n",
      "Warning: Normalized parameter -8.149203813312898e-20 for feature 4, parameter 1 is out of bounds. Capping to [0, 1].\n",
      "Warning: Normalized parameter -1.6882700606971086e-21 for feature 4, parameter 7 is out of bounds. Capping to [0, 1].\n",
      "Warning: Normalized parameter -1.8526672506586684e-19 for feature 6, parameter 5 is out of bounds. Capping to [0, 1].\n",
      "Warning: Normalized parameter -1.7140822247012984e-19 for feature 4, parameter 1 is out of bounds. Capping to [0, 1].\n",
      "Warning: Normalized parameter -1.6352250812405645e-19 for feature 6, parameter 5 is out of bounds. Capping to [0, 1].\n",
      "Warning: Normalized parameter -1.6352250812405645e-19 for feature 6, parameter 5 is out of bounds. Capping to [0, 1].\n"
     ]
    },
    {
     "data": {
      "application/vnd.jupyter.widget-view+json": {
       "model_id": "3c8081965bb341c2824fd8ef0927c6a6",
       "version_major": 2,
       "version_minor": 0
      },
      "text/plain": [
       "  0%|          | 0/10000 [00:00<?, ?it/s]"
      ]
     },
     "metadata": {},
     "output_type": "display_data"
    },
    {
     "name": "stdout",
     "output_type": "stream",
     "text": [
      "gld_params: [0.05089563 0.02242571 0.29646844 0.12879989]\n",
      "wrapper([ 6.594e-01  2.398e-01 ...  8.289e-01  1.000e+00]) = -0.015294289180788394\n",
      "assembly_constraint_no_mean([ 6.594e-01  2.398e-01 ...  8.289e-01  1.000e+00]) = [ 1.426e-01 -1.455e-02 ...  5.069e-01  7.531e-02]\n",
      "Warning: Normalized parameter -1.925929944387236e-34 for feature 4, parameter 7 is out of bounds. Capping to [0, 1].\n",
      "Warning: Normalized parameter -1.7140822247012984e-19 for feature 4, parameter 1 is out of bounds. Capping to [0, 1].\n",
      "Warning: Normalized parameter -1.3877787807814457e-17 for feature 4, parameter 1 is out of bounds. Capping to [0, 1].\n",
      "Warning: Normalized parameter -1.1302800904162585e-20 for feature 1, parameter 5 is out of bounds. Capping to [0, 1].\n",
      "Warning: Normalized parameter -8.149203813312898e-20 for feature 4, parameter 1 is out of bounds. Capping to [0, 1].\n",
      "Warning: Normalized parameter -1.6882700606971086e-21 for feature 4, parameter 7 is out of bounds. Capping to [0, 1].\n",
      "Warning: Normalized parameter -1.8526672506586684e-19 for feature 6, parameter 5 is out of bounds. Capping to [0, 1].\n",
      "Warning: Normalized parameter -1.7140822247012984e-19 for feature 4, parameter 1 is out of bounds. Capping to [0, 1].\n",
      "Warning: Normalized parameter -1.925929944387236e-34 for feature 4, parameter 7 is out of bounds. Capping to [0, 1].\n",
      "Warning: Normalized parameter -1.6352250812405645e-19 for feature 6, parameter 5 is out of bounds. Capping to [0, 1].\n",
      "Warning: Normalized parameter -8.149203813312898e-20 for feature 4, parameter 1 is out of bounds. Capping to [0, 1].\n",
      "Warning: Normalized parameter -1.6882700606971086e-21 for feature 4, parameter 7 is out of bounds. Capping to [0, 1].\n",
      "Warning: Normalized parameter -1.8526672506586684e-19 for feature 6, parameter 5 is out of bounds. Capping to [0, 1].\n",
      "Warning: Normalized parameter -1.7140822247012984e-19 for feature 4, parameter 1 is out of bounds. Capping to [0, 1].\n",
      "Warning: Normalized parameter -1.6352250812405645e-19 for feature 6, parameter 5 is out of bounds. Capping to [0, 1].\n",
      "Warning: Normalized parameter -1.6352250812405645e-19 for feature 6, parameter 5 is out of bounds. Capping to [0, 1].\n"
     ]
    },
    {
     "data": {
      "application/vnd.jupyter.widget-view+json": {
       "model_id": "6c315c8feabe45d2a5b55848049bfb2c",
       "version_major": 2,
       "version_minor": 0
      },
      "text/plain": [
       "  0%|          | 0/10000 [00:00<?, ?it/s]"
      ]
     },
     "metadata": {},
     "output_type": "display_data"
    },
    {
     "name": "stdout",
     "output_type": "stream",
     "text": [
      "gld_params: [0.05261508 0.02080938 0.29612812 0.12093509]\n",
      "wrapper([ 6.251e-01  3.615e-01 ...  8.497e-01  9.161e-01]) = -0.0089228568273242\n",
      "assembly_constraint_no_mean([ 6.251e-01  3.615e-01 ...  8.497e-01  9.161e-01]) = [ 4.655e-02 -1.961e-02 ...  1.475e-01 -2.126e-01]\n",
      "Warning: Normalized parameter -1.925929944387236e-34 for feature 4, parameter 7 is out of bounds. Capping to [0, 1].\n",
      "Warning: Normalized parameter -1.7140822247012984e-19 for feature 4, parameter 1 is out of bounds. Capping to [0, 1].\n",
      "Warning: Normalized parameter -1.3877787807814457e-17 for feature 4, parameter 1 is out of bounds. Capping to [0, 1].\n",
      "Warning: Normalized parameter -1.1302800904162585e-20 for feature 1, parameter 5 is out of bounds. Capping to [0, 1].\n",
      "Warning: Normalized parameter -8.149203813312898e-20 for feature 4, parameter 1 is out of bounds. Capping to [0, 1].\n",
      "Warning: Normalized parameter -1.6882700606971086e-21 for feature 4, parameter 7 is out of bounds. Capping to [0, 1].\n",
      "Warning: Normalized parameter -1.8526672506586684e-19 for feature 6, parameter 5 is out of bounds. Capping to [0, 1].\n",
      "Warning: Normalized parameter -1.7140822247012984e-19 for feature 4, parameter 1 is out of bounds. Capping to [0, 1].\n",
      "Warning: Normalized parameter -1.925929944387236e-34 for feature 4, parameter 7 is out of bounds. Capping to [0, 1].\n",
      "Warning: Normalized parameter -1.6352250812405645e-19 for feature 6, parameter 5 is out of bounds. Capping to [0, 1].\n",
      "Warning: Normalized parameter -8.149203813312898e-20 for feature 4, parameter 1 is out of bounds. Capping to [0, 1].\n",
      "Warning: Normalized parameter -1.6882700606971086e-21 for feature 4, parameter 7 is out of bounds. Capping to [0, 1].\n",
      "Warning: Normalized parameter -1.8526672506586684e-19 for feature 6, parameter 5 is out of bounds. Capping to [0, 1].\n",
      "Warning: Normalized parameter -1.7140822247012984e-19 for feature 4, parameter 1 is out of bounds. Capping to [0, 1].\n",
      "Warning: Normalized parameter -1.6352250812405645e-19 for feature 6, parameter 5 is out of bounds. Capping to [0, 1].\n",
      "Warning: Normalized parameter -1.6352250812405645e-19 for feature 6, parameter 5 is out of bounds. Capping to [0, 1].\n"
     ]
    },
    {
     "data": {
      "application/vnd.jupyter.widget-view+json": {
       "model_id": "205c31c46a8e4f32a0c26a79c9074472",
       "version_major": 2,
       "version_minor": 0
      },
      "text/plain": [
       "  0%|          | 0/10000 [00:00<?, ?it/s]"
      ]
     },
     "metadata": {},
     "output_type": "display_data"
    },
    {
     "name": "stdout",
     "output_type": "stream",
     "text": [
      "gld_params: [0.05098677 0.02253415 0.29562585 0.13078158]\n",
      "wrapper([ 6.682e-01  2.571e-01 ...  8.340e-01  1.000e+00]) = -0.015333195687575237\n",
      "assembly_constraint_no_mean([ 6.682e-01  2.571e-01 ...  8.340e-01  1.000e+00]) = [ 1.116e-01 -1.119e-02 ...  5.140e-01  7.114e-02]\n",
      "Warning: Normalized parameter -1.925929944387236e-34 for feature 4, parameter 7 is out of bounds. Capping to [0, 1].\n",
      "Warning: Normalized parameter -1.7140822247012984e-19 for feature 4, parameter 1 is out of bounds. Capping to [0, 1].\n",
      "Warning: Normalized parameter -1.3877787807814457e-17 for feature 4, parameter 1 is out of bounds. Capping to [0, 1].\n",
      "Warning: Normalized parameter -1.1302800904162585e-20 for feature 1, parameter 5 is out of bounds. Capping to [0, 1].\n",
      "Warning: Normalized parameter -8.149203813312898e-20 for feature 4, parameter 1 is out of bounds. Capping to [0, 1].\n",
      "Warning: Normalized parameter -1.6882700606971086e-21 for feature 4, parameter 7 is out of bounds. Capping to [0, 1].\n",
      "Warning: Normalized parameter -1.8526672506586684e-19 for feature 6, parameter 5 is out of bounds. Capping to [0, 1].\n",
      "Warning: Normalized parameter -1.7140822247012984e-19 for feature 4, parameter 1 is out of bounds. Capping to [0, 1].\n",
      "Warning: Normalized parameter -1.925929944387236e-34 for feature 4, parameter 7 is out of bounds. Capping to [0, 1].\n",
      "Warning: Normalized parameter -1.6352250812405645e-19 for feature 6, parameter 5 is out of bounds. Capping to [0, 1].\n",
      "Warning: Normalized parameter -8.149203813312898e-20 for feature 4, parameter 1 is out of bounds. Capping to [0, 1].\n",
      "Warning: Normalized parameter -1.6882700606971086e-21 for feature 4, parameter 7 is out of bounds. Capping to [0, 1].\n",
      "Warning: Normalized parameter -1.8526672506586684e-19 for feature 6, parameter 5 is out of bounds. Capping to [0, 1].\n",
      "Warning: Normalized parameter -1.7140822247012984e-19 for feature 4, parameter 1 is out of bounds. Capping to [0, 1].\n",
      "Warning: Normalized parameter -1.6352250812405645e-19 for feature 6, parameter 5 is out of bounds. Capping to [0, 1].\n",
      "Warning: Normalized parameter -1.6352250812405645e-19 for feature 6, parameter 5 is out of bounds. Capping to [0, 1].\n"
     ]
    },
    {
     "data": {
      "application/vnd.jupyter.widget-view+json": {
       "model_id": "65904834b512454c9592f9bd82cee281",
       "version_major": 2,
       "version_minor": 0
      },
      "text/plain": [
       "  0%|          | 0/10000 [00:00<?, ?it/s]"
      ]
     },
     "metadata": {},
     "output_type": "display_data"
    },
    {
     "name": "stdout",
     "output_type": "stream",
     "text": [
      "gld_params: [0.05171353 0.02242008 0.29038583 0.12583157]\n",
      "wrapper([ 7.809e-01  1.336e-01 ...  9.361e-01  1.000e+00]) = -0.015140411550250333\n",
      "assembly_constraint_no_mean([ 7.809e-01  1.336e-01 ...  9.361e-01  1.000e+00]) = [ 2.694e-02 -7.551e-03 ...  8.334e-02  9.159e-01]\n",
      "Warning: Normalized parameter -1.925929944387236e-34 for feature 4, parameter 7 is out of bounds. Capping to [0, 1].\n",
      "Warning: Normalized parameter -1.7140822247012984e-19 for feature 4, parameter 1 is out of bounds. Capping to [0, 1].\n",
      "Warning: Normalized parameter -1.3877787807814457e-17 for feature 4, parameter 1 is out of bounds. Capping to [0, 1].\n",
      "Warning: Normalized parameter -1.1302800904162585e-20 for feature 1, parameter 5 is out of bounds. Capping to [0, 1].\n",
      "Warning: Normalized parameter -8.149203813312898e-20 for feature 4, parameter 1 is out of bounds. Capping to [0, 1].\n",
      "Warning: Normalized parameter -1.6882700606971086e-21 for feature 4, parameter 7 is out of bounds. Capping to [0, 1].\n",
      "Warning: Normalized parameter -1.8526672506586684e-19 for feature 6, parameter 5 is out of bounds. Capping to [0, 1].\n",
      "Warning: Normalized parameter -1.7140822247012984e-19 for feature 4, parameter 1 is out of bounds. Capping to [0, 1].\n",
      "Warning: Normalized parameter -1.925929944387236e-34 for feature 4, parameter 7 is out of bounds. Capping to [0, 1].\n",
      "Warning: Normalized parameter -1.6352250812405645e-19 for feature 6, parameter 5 is out of bounds. Capping to [0, 1].\n",
      "Warning: Normalized parameter -8.149203813312898e-20 for feature 4, parameter 1 is out of bounds. Capping to [0, 1].\n",
      "Warning: Normalized parameter -1.6882700606971086e-21 for feature 4, parameter 7 is out of bounds. Capping to [0, 1].\n",
      "Warning: Normalized parameter -1.8526672506586684e-19 for feature 6, parameter 5 is out of bounds. Capping to [0, 1].\n",
      "Warning: Normalized parameter -1.7140822247012984e-19 for feature 4, parameter 1 is out of bounds. Capping to [0, 1].\n",
      "Warning: Normalized parameter -1.6352250812405645e-19 for feature 6, parameter 5 is out of bounds. Capping to [0, 1].\n",
      "Warning: Normalized parameter -1.6352250812405645e-19 for feature 6, parameter 5 is out of bounds. Capping to [0, 1].\n"
     ]
    },
    {
     "data": {
      "application/vnd.jupyter.widget-view+json": {
       "model_id": "c056d5b614f54661a3ba4d097bc6031d",
       "version_major": 2,
       "version_minor": 0
      },
      "text/plain": [
       "  0%|          | 0/10000 [00:00<?, ?it/s]"
      ]
     },
     "metadata": {},
     "output_type": "display_data"
    },
    {
     "name": "stdout",
     "output_type": "stream",
     "text": [
      "gld_params: [0.05090138 0.02227321 0.29608747 0.12757419]\n",
      "wrapper([ 6.886e-01  1.932e-01 ...  8.072e-01  1.000e+00]) = -0.014959039176600228\n",
      "assembly_constraint_no_mean([ 6.886e-01  1.932e-01 ...  8.072e-01  1.000e+00]) = [ 1.287e-01 -1.534e-02 ...  4.857e-01  6.544e-02]\n",
      "Warning: Normalized parameter -1.925929944387236e-34 for feature 4, parameter 7 is out of bounds. Capping to [0, 1].\n",
      "Warning: Normalized parameter -1.7140822247012984e-19 for feature 4, parameter 1 is out of bounds. Capping to [0, 1].\n",
      "Warning: Normalized parameter -1.3877787807814457e-17 for feature 4, parameter 1 is out of bounds. Capping to [0, 1].\n",
      "Warning: Normalized parameter -1.1302800904162585e-20 for feature 1, parameter 5 is out of bounds. Capping to [0, 1].\n",
      "Warning: Normalized parameter -8.149203813312898e-20 for feature 4, parameter 1 is out of bounds. Capping to [0, 1].\n",
      "Warning: Normalized parameter -1.6882700606971086e-21 for feature 4, parameter 7 is out of bounds. Capping to [0, 1].\n",
      "Warning: Normalized parameter -1.8526672506586684e-19 for feature 6, parameter 5 is out of bounds. Capping to [0, 1].\n",
      "Warning: Normalized parameter -1.7140822247012984e-19 for feature 4, parameter 1 is out of bounds. Capping to [0, 1].\n",
      "Warning: Normalized parameter -1.925929944387236e-34 for feature 4, parameter 7 is out of bounds. Capping to [0, 1].\n",
      "Warning: Normalized parameter -1.6352250812405645e-19 for feature 6, parameter 5 is out of bounds. Capping to [0, 1].\n",
      "Warning: Normalized parameter -8.149203813312898e-20 for feature 4, parameter 1 is out of bounds. Capping to [0, 1].\n",
      "Warning: Normalized parameter -1.6882700606971086e-21 for feature 4, parameter 7 is out of bounds. Capping to [0, 1].\n",
      "Warning: Normalized parameter -1.8526672506586684e-19 for feature 6, parameter 5 is out of bounds. Capping to [0, 1].\n",
      "Warning: Normalized parameter -1.7140822247012984e-19 for feature 4, parameter 1 is out of bounds. Capping to [0, 1].\n",
      "Warning: Normalized parameter -1.6352250812405645e-19 for feature 6, parameter 5 is out of bounds. Capping to [0, 1].\n",
      "Warning: Normalized parameter -1.6352250812405645e-19 for feature 6, parameter 5 is out of bounds. Capping to [0, 1].\n"
     ]
    },
    {
     "data": {
      "application/vnd.jupyter.widget-view+json": {
       "model_id": "9b5739241d814e3794dd8f1dbdd3deb9",
       "version_major": 2,
       "version_minor": 0
      },
      "text/plain": [
       "  0%|          | 0/10000 [00:00<?, ?it/s]"
      ]
     },
     "metadata": {},
     "output_type": "display_data"
    },
    {
     "name": "stdout",
     "output_type": "stream",
     "text": [
      "gld_params: [0.05340406 0.02140218 0.28314055 0.11964683]\n",
      "wrapper([ 7.906e-01  2.343e-01 ...  7.312e-01  1.000e+00]) = -0.011004415146699297\n",
      "assembly_constraint_no_mean([ 7.906e-01  2.343e-01 ...  7.312e-01  1.000e+00]) = [ 2.250e-01 -4.077e-02 ...  1.856e-01 -2.544e-01]\n",
      "Warning: Normalized parameter -1.925929944387236e-34 for feature 4, parameter 7 is out of bounds. Capping to [0, 1].\n",
      "Warning: Normalized parameter -1.7140822247012984e-19 for feature 4, parameter 1 is out of bounds. Capping to [0, 1].\n",
      "Warning: Normalized parameter -1.3877787807814457e-17 for feature 4, parameter 1 is out of bounds. Capping to [0, 1].\n",
      "Warning: Normalized parameter -1.1302800904162585e-20 for feature 1, parameter 5 is out of bounds. Capping to [0, 1].\n",
      "Warning: Normalized parameter -8.149203813312898e-20 for feature 4, parameter 1 is out of bounds. Capping to [0, 1].\n",
      "Warning: Normalized parameter -1.6882700606971086e-21 for feature 4, parameter 7 is out of bounds. Capping to [0, 1].\n",
      "Warning: Normalized parameter -1.8526672506586684e-19 for feature 6, parameter 5 is out of bounds. Capping to [0, 1].\n",
      "Warning: Normalized parameter -1.7140822247012984e-19 for feature 4, parameter 1 is out of bounds. Capping to [0, 1].\n",
      "Warning: Normalized parameter -1.925929944387236e-34 for feature 4, parameter 7 is out of bounds. Capping to [0, 1].\n",
      "Warning: Normalized parameter -1.6352250812405645e-19 for feature 6, parameter 5 is out of bounds. Capping to [0, 1].\n",
      "Warning: Normalized parameter -8.149203813312898e-20 for feature 4, parameter 1 is out of bounds. Capping to [0, 1].\n",
      "Warning: Normalized parameter -1.6882700606971086e-21 for feature 4, parameter 7 is out of bounds. Capping to [0, 1].\n",
      "Warning: Normalized parameter -1.8526672506586684e-19 for feature 6, parameter 5 is out of bounds. Capping to [0, 1].\n",
      "Warning: Normalized parameter -1.7140822247012984e-19 for feature 4, parameter 1 is out of bounds. Capping to [0, 1].\n",
      "Warning: Normalized parameter -1.6352250812405645e-19 for feature 6, parameter 5 is out of bounds. Capping to [0, 1].\n",
      "Warning: Normalized parameter -1.6352250812405645e-19 for feature 6, parameter 5 is out of bounds. Capping to [0, 1].\n"
     ]
    },
    {
     "data": {
      "application/vnd.jupyter.widget-view+json": {
       "model_id": "eac70572787b4d34a2aa3cb4691beb84",
       "version_major": 2,
       "version_minor": 0
      },
      "text/plain": [
       "  0%|          | 0/10000 [00:00<?, ?it/s]"
      ]
     },
     "metadata": {},
     "output_type": "display_data"
    },
    {
     "name": "stdout",
     "output_type": "stream",
     "text": [
      "gld_params: [0.05103001 0.02275897 0.2962396  0.13419947]\n",
      "wrapper([ 6.487e-01  2.546e-01 ...  9.025e-01  9.606e-01]) = -0.015478100144608252\n",
      "assembly_constraint_no_mean([ 6.487e-01  2.546e-01 ...  9.025e-01  9.606e-01]) = [ 1.729e-03 -7.551e-03 ...  4.230e-01  1.270e-01]\n",
      "Warning: Normalized parameter -1.7140822247012984e-19 for feature 4, parameter 1 is out of bounds. Capping to [0, 1].\n",
      "Warning: Normalized parameter -1.3877787807814457e-17 for feature 4, parameter 1 is out of bounds. Capping to [0, 1].\n",
      "Warning: Normalized parameter -1.1302800904162585e-20 for feature 1, parameter 5 is out of bounds. Capping to [0, 1].\n",
      "Warning: Normalized parameter -8.149203813312898e-20 for feature 4, parameter 1 is out of bounds. Capping to [0, 1].\n",
      "Warning: Normalized parameter -1.6882700606971086e-21 for feature 4, parameter 7 is out of bounds. Capping to [0, 1].\n",
      "Warning: Normalized parameter -1.8526672506586684e-19 for feature 6, parameter 5 is out of bounds. Capping to [0, 1].\n",
      "Warning: Normalized parameter -1.7140822247012984e-19 for feature 4, parameter 1 is out of bounds. Capping to [0, 1].\n",
      "Warning: Normalized parameter -1.925929944387236e-34 for feature 4, parameter 7 is out of bounds. Capping to [0, 1].\n",
      "Warning: Normalized parameter -1.6352250812405645e-19 for feature 6, parameter 5 is out of bounds. Capping to [0, 1].\n",
      "Warning: Normalized parameter -8.149203813312898e-20 for feature 4, parameter 1 is out of bounds. Capping to [0, 1].\n",
      "Warning: Normalized parameter -1.6882700606971086e-21 for feature 4, parameter 7 is out of bounds. Capping to [0, 1].\n",
      "Warning: Normalized parameter -1.8526672506586684e-19 for feature 6, parameter 5 is out of bounds. Capping to [0, 1].\n",
      "Warning: Normalized parameter -1.7140822247012984e-19 for feature 4, parameter 1 is out of bounds. Capping to [0, 1].\n",
      "Warning: Normalized parameter -1.6352250812405645e-19 for feature 6, parameter 5 is out of bounds. Capping to [0, 1].\n",
      "Warning: Normalized parameter -1.6352250812405645e-19 for feature 6, parameter 5 is out of bounds. Capping to [0, 1].\n"
     ]
    },
    {
     "data": {
      "application/vnd.jupyter.widget-view+json": {
       "model_id": "e86b886b98ea42978be70e11c43bd8e1",
       "version_major": 2,
       "version_minor": 0
      },
      "text/plain": [
       "  0%|          | 0/10000 [00:00<?, ?it/s]"
      ]
     },
     "metadata": {},
     "output_type": "display_data"
    },
    {
     "name": "stdout",
     "output_type": "stream",
     "text": [
      "gld_params: [0.05156341 0.02224735 0.29206168 0.12566703]\n",
      "wrapper([ 6.505e-01  1.773e-01 ...  1.000e+00  1.000e+00]) = -0.014579668492838012\n",
      "assembly_constraint_no_mean([ 6.505e-01  1.773e-01 ...  1.000e+00  1.000e+00]) = [-2.866e-01 -1.018e-01 ...  1.485e-01  9.919e-01]\n",
      "Warning: Normalized parameter -1.7140822247012984e-19 for feature 4, parameter 1 is out of bounds. Capping to [0, 1].\n",
      "Warning: Normalized parameter -1.3877787807814457e-17 for feature 4, parameter 1 is out of bounds. Capping to [0, 1].\n",
      "Warning: Normalized parameter -1.1302800904162585e-20 for feature 1, parameter 5 is out of bounds. Capping to [0, 1].\n",
      "Warning: Normalized parameter -8.149203813312898e-20 for feature 4, parameter 1 is out of bounds. Capping to [0, 1].\n",
      "Warning: Normalized parameter -1.6882700606971086e-21 for feature 4, parameter 7 is out of bounds. Capping to [0, 1].\n",
      "Warning: Normalized parameter -1.8526672506586684e-19 for feature 6, parameter 5 is out of bounds. Capping to [0, 1].\n",
      "Warning: Normalized parameter -1.7140822247012984e-19 for feature 4, parameter 1 is out of bounds. Capping to [0, 1].\n",
      "Warning: Normalized parameter -1.925929944387236e-34 for feature 4, parameter 7 is out of bounds. Capping to [0, 1].\n",
      "Warning: Normalized parameter -1.6352250812405645e-19 for feature 6, parameter 5 is out of bounds. Capping to [0, 1].\n",
      "Warning: Normalized parameter -8.149203813312898e-20 for feature 4, parameter 1 is out of bounds. Capping to [0, 1].\n",
      "Warning: Normalized parameter -1.6882700606971086e-21 for feature 4, parameter 7 is out of bounds. Capping to [0, 1].\n",
      "Warning: Normalized parameter -1.8526672506586684e-19 for feature 6, parameter 5 is out of bounds. Capping to [0, 1].\n",
      "Warning: Normalized parameter -1.7140822247012984e-19 for feature 4, parameter 1 is out of bounds. Capping to [0, 1].\n",
      "Warning: Normalized parameter -1.6352250812405645e-19 for feature 6, parameter 5 is out of bounds. Capping to [0, 1].\n",
      "Warning: Normalized parameter -1.6352250812405645e-19 for feature 6, parameter 5 is out of bounds. Capping to [0, 1].\n"
     ]
    },
    {
     "data": {
      "application/vnd.jupyter.widget-view+json": {
       "model_id": "f0a33f424ed14249821bd6d1c018afe2",
       "version_major": 2,
       "version_minor": 0
      },
      "text/plain": [
       "  0%|          | 0/10000 [00:00<?, ?it/s]"
      ]
     },
     "metadata": {},
     "output_type": "display_data"
    },
    {
     "name": "stdout",
     "output_type": "stream",
     "text": [
      "gld_params: [0.05109163 0.02264227 0.29538038 0.13158756]\n",
      "wrapper([ 6.793e-01  2.500e-01 ...  8.287e-01  1.000e+00]) = -0.015464090222223283\n",
      "assembly_constraint_no_mean([ 6.793e-01  2.500e-01 ...  8.287e-01  1.000e+00]) = [ 7.249e-02 -2.807e-02 ...  4.381e-01  5.254e-02]\n",
      "Warning: Normalized parameter -1.7140822247012984e-19 for feature 4, parameter 1 is out of bounds. Capping to [0, 1].\n",
      "Warning: Normalized parameter -1.3877787807814457e-17 for feature 4, parameter 1 is out of bounds. Capping to [0, 1].\n",
      "Warning: Normalized parameter -1.1302800904162585e-20 for feature 1, parameter 5 is out of bounds. Capping to [0, 1].\n",
      "Warning: Normalized parameter -8.149203813312898e-20 for feature 4, parameter 1 is out of bounds. Capping to [0, 1].\n",
      "Warning: Normalized parameter -1.6882700606971086e-21 for feature 4, parameter 7 is out of bounds. Capping to [0, 1].\n",
      "Warning: Normalized parameter -1.8526672506586684e-19 for feature 6, parameter 5 is out of bounds. Capping to [0, 1].\n",
      "Warning: Normalized parameter -1.7140822247012984e-19 for feature 4, parameter 1 is out of bounds. Capping to [0, 1].\n",
      "Warning: Normalized parameter -1.925929944387236e-34 for feature 4, parameter 7 is out of bounds. Capping to [0, 1].\n",
      "Warning: Normalized parameter -1.6352250812405645e-19 for feature 6, parameter 5 is out of bounds. Capping to [0, 1].\n",
      "Warning: Normalized parameter -8.149203813312898e-20 for feature 4, parameter 1 is out of bounds. Capping to [0, 1].\n",
      "Warning: Normalized parameter -1.6882700606971086e-21 for feature 4, parameter 7 is out of bounds. Capping to [0, 1].\n",
      "Warning: Normalized parameter -1.8526672506586684e-19 for feature 6, parameter 5 is out of bounds. Capping to [0, 1].\n",
      "Warning: Normalized parameter -1.7140822247012984e-19 for feature 4, parameter 1 is out of bounds. Capping to [0, 1].\n",
      "Warning: Normalized parameter -1.6352250812405645e-19 for feature 6, parameter 5 is out of bounds. Capping to [0, 1].\n",
      "Warning: Normalized parameter -1.6352250812405645e-19 for feature 6, parameter 5 is out of bounds. Capping to [0, 1].\n"
     ]
    },
    {
     "data": {
      "application/vnd.jupyter.widget-view+json": {
       "model_id": "e6bf12c6c1ef47f5b81218cda564fa4e",
       "version_major": 2,
       "version_minor": 0
      },
      "text/plain": [
       "  0%|          | 0/10000 [00:00<?, ?it/s]"
      ]
     },
     "metadata": {},
     "output_type": "display_data"
    },
    {
     "name": "stdout",
     "output_type": "stream",
     "text": [
      "gld_params: [0.05007539 0.02281075 0.30184468 0.12929364]\n",
      "wrapper([ 5.253e-01  3.254e-01 ...  9.526e-01  9.091e-01]) = -0.017449020538444222\n",
      "assembly_constraint_no_mean([ 5.253e-01  3.254e-01 ...  9.526e-01  9.091e-01]) = [ 6.591e-01 -1.142e-02 ...  6.069e-01  1.116e-01]\n",
      "Warning: Normalized parameter -1.6765556596701297e-21 for feature 1, parameter 7 is out of bounds. Capping to [0, 1].\n",
      "Warning: Normalized parameter -1.6765556596701297e-21 for feature 1, parameter 7 is out of bounds. Capping to [0, 1].\n",
      "Warning: Normalized parameter -1.6765556596701297e-21 for feature 1, parameter 7 is out of bounds. Capping to [0, 1].\n",
      "Warning: Normalized parameter -1.6765556596701297e-21 for feature 1, parameter 7 is out of bounds. Capping to [0, 1].\n",
      "Warning: Normalized parameter -1.7140822247012984e-19 for feature 4, parameter 1 is out of bounds. Capping to [0, 1].\n",
      "Warning: Normalized parameter -1.3877787807814457e-17 for feature 4, parameter 1 is out of bounds. Capping to [0, 1].\n",
      "Warning: Normalized parameter -1.6765556596701297e-21 for feature 1, parameter 7 is out of bounds. Capping to [0, 1].\n",
      "Warning: Normalized parameter -1.1302800904162585e-20 for feature 1, parameter 5 is out of bounds. Capping to [0, 1].\n",
      "Warning: Normalized parameter -8.149203813312898e-20 for feature 4, parameter 1 is out of bounds. Capping to [0, 1].\n",
      "Warning: Normalized parameter -1.6882700606971086e-21 for feature 4, parameter 7 is out of bounds. Capping to [0, 1].\n",
      "Warning: Normalized parameter -1.8526672506586684e-19 for feature 6, parameter 5 is out of bounds. Capping to [0, 1].\n",
      "Warning: Normalized parameter -1.7140822247012984e-19 for feature 4, parameter 1 is out of bounds. Capping to [0, 1].\n",
      "Warning: Normalized parameter -1.925929944387236e-34 for feature 4, parameter 7 is out of bounds. Capping to [0, 1].\n",
      "Warning: Normalized parameter -1.6352250812405645e-19 for feature 6, parameter 5 is out of bounds. Capping to [0, 1].\n",
      "Warning: Normalized parameter -8.149203813312898e-20 for feature 4, parameter 1 is out of bounds. Capping to [0, 1].\n",
      "Warning: Normalized parameter -1.6882700606971086e-21 for feature 4, parameter 7 is out of bounds. Capping to [0, 1].\n",
      "Warning: Normalized parameter -1.8526672506586684e-19 for feature 6, parameter 5 is out of bounds. Capping to [0, 1].\n",
      "Warning: Normalized parameter -1.7140822247012984e-19 for feature 4, parameter 1 is out of bounds. Capping to [0, 1].\n",
      "Warning: Normalized parameter -1.6352250812405645e-19 for feature 6, parameter 5 is out of bounds. Capping to [0, 1].\n",
      "Warning: Normalized parameter -1.6352250812405645e-19 for feature 6, parameter 5 is out of bounds. Capping to [0, 1].\n"
     ]
    },
    {
     "data": {
      "application/vnd.jupyter.widget-view+json": {
       "model_id": "63ecc39a8b994918a5345032e9ed83f3",
       "version_major": 2,
       "version_minor": 0
      },
      "text/plain": [
       "  0%|          | 0/10000 [00:00<?, ?it/s]"
      ]
     },
     "metadata": {},
     "output_type": "display_data"
    },
    {
     "name": "stdout",
     "output_type": "stream",
     "text": [
      "gld_params: [0.05177419 0.02319098 0.29973576 0.13838001]\n",
      "wrapper([ 5.521e-01  0.000e+00 ...  8.069e-01  1.000e+00]) = -0.01475000889303322\n",
      "assembly_constraint_no_mean([ 5.521e-01  0.000e+00 ...  8.069e-01  1.000e+00]) = [-6.373e-01 -2.481e-01 ...  2.539e-01 -3.566e-02]\n",
      "Warning: Normalized parameter -1.7140822247012984e-19 for feature 4, parameter 1 is out of bounds. Capping to [0, 1].\n",
      "Warning: Normalized parameter -1.3877787807814457e-17 for feature 4, parameter 1 is out of bounds. Capping to [0, 1].\n",
      "Warning: Normalized parameter -1.6765556596701297e-21 for feature 1, parameter 7 is out of bounds. Capping to [0, 1].\n",
      "Warning: Normalized parameter -1.1302800904162585e-20 for feature 1, parameter 5 is out of bounds. Capping to [0, 1].\n",
      "Warning: Normalized parameter -8.149203813312898e-20 for feature 4, parameter 1 is out of bounds. Capping to [0, 1].\n",
      "Warning: Normalized parameter -1.6882700606971086e-21 for feature 4, parameter 7 is out of bounds. Capping to [0, 1].\n",
      "Warning: Normalized parameter -1.8526672506586684e-19 for feature 6, parameter 5 is out of bounds. Capping to [0, 1].\n",
      "Warning: Normalized parameter -1.7140822247012984e-19 for feature 4, parameter 1 is out of bounds. Capping to [0, 1].\n",
      "Warning: Normalized parameter -1.925929944387236e-34 for feature 4, parameter 7 is out of bounds. Capping to [0, 1].\n",
      "Warning: Normalized parameter -1.6352250812405645e-19 for feature 6, parameter 5 is out of bounds. Capping to [0, 1].\n",
      "Warning: Normalized parameter -8.149203813312898e-20 for feature 4, parameter 1 is out of bounds. Capping to [0, 1].\n",
      "Warning: Normalized parameter -1.6882700606971086e-21 for feature 4, parameter 7 is out of bounds. Capping to [0, 1].\n",
      "Warning: Normalized parameter -1.8526672506586684e-19 for feature 6, parameter 5 is out of bounds. Capping to [0, 1].\n",
      "Warning: Normalized parameter -1.7140822247012984e-19 for feature 4, parameter 1 is out of bounds. Capping to [0, 1].\n",
      "Warning: Normalized parameter -1.6352250812405645e-19 for feature 6, parameter 5 is out of bounds. Capping to [0, 1].\n",
      "Warning: Normalized parameter -1.6352250812405645e-19 for feature 6, parameter 5 is out of bounds. Capping to [0, 1].\n"
     ]
    },
    {
     "data": {
      "application/vnd.jupyter.widget-view+json": {
       "model_id": "d404b86eeb26426e8eeb4667cf9e2231",
       "version_major": 2,
       "version_minor": 0
      },
      "text/plain": [
       "  0%|          | 0/10000 [00:00<?, ?it/s]"
      ]
     },
     "metadata": {},
     "output_type": "display_data"
    },
    {
     "name": "stdout",
     "output_type": "stream",
     "text": [
      "gld_params: [0.05053899 0.02288254 0.29805986 0.12939975]\n",
      "wrapper([ 5.821e-01  2.283e-01 ...  9.207e-01  9.370e-01]) = -0.01737410031225021\n",
      "assembly_constraint_no_mean([ 5.821e-01  2.283e-01 ...  9.207e-01  9.370e-01]) = [ 1.494e-01 -2.644e-02 ...  8.869e-02  8.951e-02]\n",
      "Warning: Normalized parameter -1.7140822247012984e-19 for feature 4, parameter 1 is out of bounds. Capping to [0, 1].\n",
      "Warning: Normalized parameter -1.3877787807814457e-17 for feature 4, parameter 1 is out of bounds. Capping to [0, 1].\n",
      "Warning: Normalized parameter -1.6765556596701297e-21 for feature 1, parameter 7 is out of bounds. Capping to [0, 1].\n",
      "Warning: Normalized parameter -1.1302800904162585e-20 for feature 1, parameter 5 is out of bounds. Capping to [0, 1].\n",
      "Warning: Normalized parameter -8.149203813312898e-20 for feature 4, parameter 1 is out of bounds. Capping to [0, 1].\n",
      "Warning: Normalized parameter -1.6882700606971086e-21 for feature 4, parameter 7 is out of bounds. Capping to [0, 1].\n",
      "Warning: Normalized parameter -1.8526672506586684e-19 for feature 6, parameter 5 is out of bounds. Capping to [0, 1].\n",
      "Warning: Normalized parameter -1.7140822247012984e-19 for feature 4, parameter 1 is out of bounds. Capping to [0, 1].\n",
      "Warning: Normalized parameter -1.925929944387236e-34 for feature 4, parameter 7 is out of bounds. Capping to [0, 1].\n",
      "Warning: Normalized parameter -1.6352250812405645e-19 for feature 6, parameter 5 is out of bounds. Capping to [0, 1].\n",
      "Warning: Normalized parameter -8.149203813312898e-20 for feature 4, parameter 1 is out of bounds. Capping to [0, 1].\n",
      "Warning: Normalized parameter -1.6882700606971086e-21 for feature 4, parameter 7 is out of bounds. Capping to [0, 1].\n",
      "Warning: Normalized parameter -1.8526672506586684e-19 for feature 6, parameter 5 is out of bounds. Capping to [0, 1].\n",
      "Warning: Normalized parameter -1.7140822247012984e-19 for feature 4, parameter 1 is out of bounds. Capping to [0, 1].\n",
      "Warning: Normalized parameter -1.6352250812405645e-19 for feature 6, parameter 5 is out of bounds. Capping to [0, 1].\n",
      "Warning: Normalized parameter -1.6352250812405645e-19 for feature 6, parameter 5 is out of bounds. Capping to [0, 1].\n"
     ]
    },
    {
     "data": {
      "application/vnd.jupyter.widget-view+json": {
       "model_id": "2bc3a8f8151b43139f4bc44aa64d868c",
       "version_major": 2,
       "version_minor": 0
      },
      "text/plain": [
       "  0%|          | 0/10000 [00:00<?, ?it/s]"
      ]
     },
     "metadata": {},
     "output_type": "display_data"
    },
    {
     "name": "stdout",
     "output_type": "stream",
     "text": [
      "gld_params: [0.05181805 0.0222135  0.29326375 0.12391921]\n",
      "wrapper([ 5.759e-01  5.443e-01 ...  7.808e-01  1.000e+00]) = -0.014200547738591817\n",
      "assembly_constraint_no_mean([ 5.759e-01  5.443e-01 ...  7.808e-01  1.000e+00]) = [ 7.025e-01 -7.551e-03 ... -3.997e-01 -5.601e-02]\n",
      "Warning: Normalized parameter -1.7140822247012984e-19 for feature 4, parameter 1 is out of bounds. Capping to [0, 1].\n",
      "Warning: Normalized parameter -1.3877787807814457e-17 for feature 4, parameter 1 is out of bounds. Capping to [0, 1].\n",
      "Warning: Normalized parameter -1.6765556596701297e-21 for feature 1, parameter 7 is out of bounds. Capping to [0, 1].\n",
      "Warning: Normalized parameter -1.1302800904162585e-20 for feature 1, parameter 5 is out of bounds. Capping to [0, 1].\n",
      "Warning: Normalized parameter -8.149203813312898e-20 for feature 4, parameter 1 is out of bounds. Capping to [0, 1].\n",
      "Warning: Normalized parameter -1.6882700606971086e-21 for feature 4, parameter 7 is out of bounds. Capping to [0, 1].\n",
      "Warning: Normalized parameter -1.8526672506586684e-19 for feature 6, parameter 5 is out of bounds. Capping to [0, 1].\n",
      "Warning: Normalized parameter -1.7140822247012984e-19 for feature 4, parameter 1 is out of bounds. Capping to [0, 1].\n",
      "Warning: Normalized parameter -1.925929944387236e-34 for feature 4, parameter 7 is out of bounds. Capping to [0, 1].\n",
      "Warning: Normalized parameter -1.6352250812405645e-19 for feature 6, parameter 5 is out of bounds. Capping to [0, 1].\n",
      "Warning: Normalized parameter -8.149203813312898e-20 for feature 4, parameter 1 is out of bounds. Capping to [0, 1].\n",
      "Warning: Normalized parameter -1.6882700606971086e-21 for feature 4, parameter 7 is out of bounds. Capping to [0, 1].\n",
      "Warning: Normalized parameter -1.8526672506586684e-19 for feature 6, parameter 5 is out of bounds. Capping to [0, 1].\n",
      "Warning: Normalized parameter -1.7140822247012984e-19 for feature 4, parameter 1 is out of bounds. Capping to [0, 1].\n",
      "Warning: Normalized parameter -1.6352250812405645e-19 for feature 6, parameter 5 is out of bounds. Capping to [0, 1].\n",
      "Warning: Normalized parameter -1.6352250812405645e-19 for feature 6, parameter 5 is out of bounds. Capping to [0, 1].\n"
     ]
    },
    {
     "data": {
      "application/vnd.jupyter.widget-view+json": {
       "model_id": "0d4ab5bfe65c447396f5140c99606610",
       "version_major": 2,
       "version_minor": 0
      },
      "text/plain": [
       "  0%|          | 0/10000 [00:00<?, ?it/s]"
      ]
     },
     "metadata": {},
     "output_type": "display_data"
    },
    {
     "name": "stdout",
     "output_type": "stream",
     "text": [
      "gld_params: [0.05050571 0.02267664 0.30039202 0.12718621]\n",
      "wrapper([ 5.436e-01  2.370e-01 ...  8.281e-01  1.000e+00]) = -0.01668921913884618\n",
      "assembly_constraint_no_mean([ 5.436e-01  2.370e-01 ...  8.281e-01  1.000e+00]) = [ 2.116e-01 -5.613e-02 ...  1.835e-01  4.852e-02]\n",
      "Warning: Normalized parameter -1.3877787807814457e-17 for feature 4, parameter 1 is out of bounds. Capping to [0, 1].\n",
      "Warning: Normalized parameter -1.6765556596701297e-21 for feature 1, parameter 7 is out of bounds. Capping to [0, 1].\n",
      "Warning: Normalized parameter -1.1302800904162585e-20 for feature 1, parameter 5 is out of bounds. Capping to [0, 1].\n",
      "Warning: Normalized parameter -8.149203813312898e-20 for feature 4, parameter 1 is out of bounds. Capping to [0, 1].\n",
      "Warning: Normalized parameter -1.6882700606971086e-21 for feature 4, parameter 7 is out of bounds. Capping to [0, 1].\n",
      "Warning: Normalized parameter -1.8526672506586684e-19 for feature 6, parameter 5 is out of bounds. Capping to [0, 1].\n",
      "Warning: Normalized parameter -1.7140822247012984e-19 for feature 4, parameter 1 is out of bounds. Capping to [0, 1].\n",
      "Warning: Normalized parameter -1.925929944387236e-34 for feature 4, parameter 7 is out of bounds. Capping to [0, 1].\n",
      "Warning: Normalized parameter -1.6352250812405645e-19 for feature 6, parameter 5 is out of bounds. Capping to [0, 1].\n",
      "Warning: Normalized parameter -8.149203813312898e-20 for feature 4, parameter 1 is out of bounds. Capping to [0, 1].\n",
      "Warning: Normalized parameter -1.6882700606971086e-21 for feature 4, parameter 7 is out of bounds. Capping to [0, 1].\n",
      "Warning: Normalized parameter -1.8526672506586684e-19 for feature 6, parameter 5 is out of bounds. Capping to [0, 1].\n",
      "Warning: Normalized parameter -1.7140822247012984e-19 for feature 4, parameter 1 is out of bounds. Capping to [0, 1].\n",
      "Warning: Normalized parameter -1.6352250812405645e-19 for feature 6, parameter 5 is out of bounds. Capping to [0, 1].\n",
      "Warning: Normalized parameter -1.6352250812405645e-19 for feature 6, parameter 5 is out of bounds. Capping to [0, 1].\n"
     ]
    },
    {
     "data": {
      "application/vnd.jupyter.widget-view+json": {
       "model_id": "b09fda5d9ad54df6af4bd5bad31271e6",
       "version_major": 2,
       "version_minor": 0
      },
      "text/plain": [
       "  0%|          | 0/10000 [00:00<?, ?it/s]"
      ]
     },
     "metadata": {},
     "output_type": "display_data"
    },
    {
     "name": "stdout",
     "output_type": "stream",
     "text": [
      "gld_params: [0.04828477 0.02251299 0.32065525 0.12528023]\n",
      "wrapper([ 4.235e-01  1.146e-01 ...  8.266e-01  1.000e+00]) = -0.01773598641856655\n",
      "assembly_constraint_no_mean([ 4.235e-01  1.146e-01 ...  8.266e-01  1.000e+00]) = [ 1.464e-01  8.176e-01 ...  1.329e-01  4.442e-02]\n",
      "Warning: Normalized parameter -1.3877787807814457e-17 for feature 4, parameter 1 is out of bounds. Capping to [0, 1].\n",
      "Warning: Normalized parameter -1.6765556596701297e-21 for feature 1, parameter 7 is out of bounds. Capping to [0, 1].\n",
      "Warning: Normalized parameter -1.1302800904162585e-20 for feature 1, parameter 5 is out of bounds. Capping to [0, 1].\n",
      "Warning: Normalized parameter -8.149203813312898e-20 for feature 4, parameter 1 is out of bounds. Capping to [0, 1].\n",
      "Warning: Normalized parameter -1.6882700606971086e-21 for feature 4, parameter 7 is out of bounds. Capping to [0, 1].\n",
      "Warning: Normalized parameter -1.8526672506586684e-19 for feature 6, parameter 5 is out of bounds. Capping to [0, 1].\n",
      "Warning: Normalized parameter -1.7140822247012984e-19 for feature 4, parameter 1 is out of bounds. Capping to [0, 1].\n",
      "Warning: Normalized parameter -1.925929944387236e-34 for feature 4, parameter 7 is out of bounds. Capping to [0, 1].\n",
      "Warning: Normalized parameter -1.6352250812405645e-19 for feature 6, parameter 5 is out of bounds. Capping to [0, 1].\n",
      "Warning: Normalized parameter -8.149203813312898e-20 for feature 4, parameter 1 is out of bounds. Capping to [0, 1].\n",
      "Warning: Normalized parameter -1.6882700606971086e-21 for feature 4, parameter 7 is out of bounds. Capping to [0, 1].\n",
      "Warning: Normalized parameter -1.8526672506586684e-19 for feature 6, parameter 5 is out of bounds. Capping to [0, 1].\n",
      "Warning: Normalized parameter -1.7140822247012984e-19 for feature 4, parameter 1 is out of bounds. Capping to [0, 1].\n",
      "Warning: Normalized parameter -1.6352250812405645e-19 for feature 6, parameter 5 is out of bounds. Capping to [0, 1].\n",
      "Warning: Normalized parameter -1.6352250812405645e-19 for feature 6, parameter 5 is out of bounds. Capping to [0, 1].\n"
     ]
    },
    {
     "data": {
      "application/vnd.jupyter.widget-view+json": {
       "model_id": "c4d9bed103194028b1b8eafc2717f7be",
       "version_major": 2,
       "version_minor": 0
      },
      "text/plain": [
       "  0%|          | 0/10000 [00:00<?, ?it/s]"
      ]
     },
     "metadata": {},
     "output_type": "display_data"
    },
    {
     "name": "stdout",
     "output_type": "stream",
     "text": [
      "gld_params: [0.0520321  0.02249619 0.2984085  0.12892923]\n",
      "wrapper([ 3.355e-01  2.558e-01 ...  7.869e-01  1.000e+00]) = -0.013529583254992981\n",
      "assembly_constraint_no_mean([ 3.355e-01  2.558e-01 ...  7.869e-01  1.000e+00]) = [-2.219e-01 -3.694e-03 ...  1.444e-01 -1.084e-01]\n",
      "Warning: Normalized parameter -1.3877787807814457e-17 for feature 4, parameter 1 is out of bounds. Capping to [0, 1].\n",
      "Warning: Normalized parameter -1.6765556596701297e-21 for feature 1, parameter 7 is out of bounds. Capping to [0, 1].\n",
      "Warning: Normalized parameter -1.1302800904162585e-20 for feature 1, parameter 5 is out of bounds. Capping to [0, 1].\n",
      "Warning: Normalized parameter -8.149203813312898e-20 for feature 4, parameter 1 is out of bounds. Capping to [0, 1].\n",
      "Warning: Normalized parameter -1.6882700606971086e-21 for feature 4, parameter 7 is out of bounds. Capping to [0, 1].\n",
      "Warning: Normalized parameter -1.8526672506586684e-19 for feature 6, parameter 5 is out of bounds. Capping to [0, 1].\n",
      "Warning: Normalized parameter -1.7140822247012984e-19 for feature 4, parameter 1 is out of bounds. Capping to [0, 1].\n",
      "Warning: Normalized parameter -1.925929944387236e-34 for feature 4, parameter 7 is out of bounds. Capping to [0, 1].\n",
      "Warning: Normalized parameter -1.6352250812405645e-19 for feature 6, parameter 5 is out of bounds. Capping to [0, 1].\n",
      "Warning: Normalized parameter -8.149203813312898e-20 for feature 4, parameter 1 is out of bounds. Capping to [0, 1].\n",
      "Warning: Normalized parameter -1.6882700606971086e-21 for feature 4, parameter 7 is out of bounds. Capping to [0, 1].\n",
      "Warning: Normalized parameter -1.8526672506586684e-19 for feature 6, parameter 5 is out of bounds. Capping to [0, 1].\n",
      "Warning: Normalized parameter -1.7140822247012984e-19 for feature 4, parameter 1 is out of bounds. Capping to [0, 1].\n",
      "Warning: Normalized parameter -1.6352250812405645e-19 for feature 6, parameter 5 is out of bounds. Capping to [0, 1].\n",
      "Warning: Normalized parameter -1.6352250812405645e-19 for feature 6, parameter 5 is out of bounds. Capping to [0, 1].\n"
     ]
    },
    {
     "data": {
      "application/vnd.jupyter.widget-view+json": {
       "model_id": "ef49c2fe78fb415683b106bc0b850a64",
       "version_major": 2,
       "version_minor": 0
      },
      "text/plain": [
       "  0%|          | 0/10000 [00:00<?, ?it/s]"
      ]
     },
     "metadata": {},
     "output_type": "display_data"
    },
    {
     "name": "stdout",
     "output_type": "stream",
     "text": [
      "gld_params: [0.04943221 0.02270159 0.3103074  0.12644698]\n",
      "wrapper([ 3.810e-01  1.209e-01 ...  1.000e+00  8.900e-01]) = -0.01755072041881527\n",
      "assembly_constraint_no_mean([ 3.810e-01  1.209e-01 ...  1.000e+00  8.900e-01]) = [ 1.590e-01  2.972e-01 ...  2.231e-01  3.063e-01]\n",
      "Warning: Normalized parameter -1.3877787807814457e-17 for feature 4, parameter 1 is out of bounds. Capping to [0, 1].\n",
      "Warning: Normalized parameter -1.6765556596701297e-21 for feature 1, parameter 7 is out of bounds. Capping to [0, 1].\n",
      "Warning: Normalized parameter -1.1302800904162585e-20 for feature 1, parameter 5 is out of bounds. Capping to [0, 1].\n",
      "Warning: Normalized parameter -8.149203813312898e-20 for feature 4, parameter 1 is out of bounds. Capping to [0, 1].\n",
      "Warning: Normalized parameter -1.6882700606971086e-21 for feature 4, parameter 7 is out of bounds. Capping to [0, 1].\n",
      "Warning: Normalized parameter -1.8526672506586684e-19 for feature 6, parameter 5 is out of bounds. Capping to [0, 1].\n",
      "Warning: Normalized parameter -1.7140822247012984e-19 for feature 4, parameter 1 is out of bounds. Capping to [0, 1].\n",
      "Warning: Normalized parameter -1.925929944387236e-34 for feature 4, parameter 7 is out of bounds. Capping to [0, 1].\n",
      "Warning: Normalized parameter -1.6352250812405645e-19 for feature 6, parameter 5 is out of bounds. Capping to [0, 1].\n",
      "Warning: Normalized parameter -8.149203813312898e-20 for feature 4, parameter 1 is out of bounds. Capping to [0, 1].\n",
      "Warning: Normalized parameter -1.6882700606971086e-21 for feature 4, parameter 7 is out of bounds. Capping to [0, 1].\n",
      "Warning: Normalized parameter -1.8526672506586684e-19 for feature 6, parameter 5 is out of bounds. Capping to [0, 1].\n",
      "Warning: Normalized parameter -1.7140822247012984e-19 for feature 4, parameter 1 is out of bounds. Capping to [0, 1].\n",
      "Warning: Normalized parameter -1.6352250812405645e-19 for feature 6, parameter 5 is out of bounds. Capping to [0, 1].\n",
      "Warning: Normalized parameter -1.6352250812405645e-19 for feature 6, parameter 5 is out of bounds. Capping to [0, 1].\n"
     ]
    },
    {
     "data": {
      "application/vnd.jupyter.widget-view+json": {
       "model_id": "d53af807e5f44427ae95725c43f5fd36",
       "version_major": 2,
       "version_minor": 0
      },
      "text/plain": [
       "  0%|          | 0/10000 [00:00<?, ?it/s]"
      ]
     },
     "metadata": {},
     "output_type": "display_data"
    },
    {
     "name": "stdout",
     "output_type": "stream",
     "text": [
      "gld_params: [0.04955432 0.02234799 0.30527587 0.1217226 ]\n",
      "wrapper([ 4.446e-01  3.842e-01 ...  7.140e-01  1.000e+00]) = -0.01736520294971177\n",
      "assembly_constraint_no_mean([ 4.446e-01  3.842e-01 ...  7.140e-01  1.000e+00]) = [ 1.217e-01 -5.876e-01 ...  5.359e-01 -3.384e-01]\n",
      "Warning: Normalized parameter -1.3877787807814457e-17 for feature 4, parameter 1 is out of bounds. Capping to [0, 1].\n",
      "Warning: Normalized parameter -1.6765556596701297e-21 for feature 1, parameter 7 is out of bounds. Capping to [0, 1].\n",
      "Warning: Normalized parameter -1.1302800904162585e-20 for feature 1, parameter 5 is out of bounds. Capping to [0, 1].\n",
      "Warning: Normalized parameter -8.149203813312898e-20 for feature 4, parameter 1 is out of bounds. Capping to [0, 1].\n",
      "Warning: Normalized parameter -1.6882700606971086e-21 for feature 4, parameter 7 is out of bounds. Capping to [0, 1].\n",
      "Warning: Normalized parameter -1.8526672506586684e-19 for feature 6, parameter 5 is out of bounds. Capping to [0, 1].\n",
      "Warning: Normalized parameter -1.7140822247012984e-19 for feature 4, parameter 1 is out of bounds. Capping to [0, 1].\n",
      "Warning: Normalized parameter -1.925929944387236e-34 for feature 4, parameter 7 is out of bounds. Capping to [0, 1].\n",
      "Warning: Normalized parameter -1.6352250812405645e-19 for feature 6, parameter 5 is out of bounds. Capping to [0, 1].\n",
      "Warning: Normalized parameter -8.149203813312898e-20 for feature 4, parameter 1 is out of bounds. Capping to [0, 1].\n",
      "Warning: Normalized parameter -1.6882700606971086e-21 for feature 4, parameter 7 is out of bounds. Capping to [0, 1].\n",
      "Warning: Normalized parameter -1.8526672506586684e-19 for feature 6, parameter 5 is out of bounds. Capping to [0, 1].\n",
      "Warning: Normalized parameter -1.7140822247012984e-19 for feature 4, parameter 1 is out of bounds. Capping to [0, 1].\n",
      "Warning: Normalized parameter -1.6352250812405645e-19 for feature 6, parameter 5 is out of bounds. Capping to [0, 1].\n",
      "Warning: Normalized parameter -1.6352250812405645e-19 for feature 6, parameter 5 is out of bounds. Capping to [0, 1].\n"
     ]
    },
    {
     "data": {
      "application/vnd.jupyter.widget-view+json": {
       "model_id": "f6b4c6bc1b584bc69f65893331fbd227",
       "version_major": 2,
       "version_minor": 0
      },
      "text/plain": [
       "  0%|          | 0/10000 [00:00<?, ?it/s]"
      ]
     },
     "metadata": {},
     "output_type": "display_data"
    },
    {
     "name": "stdout",
     "output_type": "stream",
     "text": [
      "gld_params: [0.04946642 0.02253947 0.31231875 0.12450036]\n",
      "wrapper([ 4.089e-01  2.095e-01 ...  8.235e-01  1.000e+00]) = -0.016905780523189532\n",
      "assembly_constraint_no_mean([ 4.089e-01  2.095e-01 ...  8.235e-01  1.000e+00]) = [ 1.085e-01  3.831e-01 ...  1.196e-01  2.740e-02]\n",
      "Warning: Normalized parameter -1.3877787807814457e-17 for feature 4, parameter 1 is out of bounds. Capping to [0, 1].\n",
      "Warning: Normalized parameter -1.6765556596701297e-21 for feature 1, parameter 7 is out of bounds. Capping to [0, 1].\n",
      "Warning: Normalized parameter -1.1302800904162585e-20 for feature 1, parameter 5 is out of bounds. Capping to [0, 1].\n",
      "Warning: Normalized parameter -8.149203813312898e-20 for feature 4, parameter 1 is out of bounds. Capping to [0, 1].\n",
      "Warning: Normalized parameter -1.6882700606971086e-21 for feature 4, parameter 7 is out of bounds. Capping to [0, 1].\n",
      "Warning: Normalized parameter -1.8526672506586684e-19 for feature 6, parameter 5 is out of bounds. Capping to [0, 1].\n",
      "Warning: Normalized parameter -1.7140822247012984e-19 for feature 4, parameter 1 is out of bounds. Capping to [0, 1].\n",
      "Warning: Normalized parameter -1.925929944387236e-34 for feature 4, parameter 7 is out of bounds. Capping to [0, 1].\n",
      "Warning: Normalized parameter -1.6352250812405645e-19 for feature 6, parameter 5 is out of bounds. Capping to [0, 1].\n",
      "Warning: Normalized parameter -8.149203813312898e-20 for feature 4, parameter 1 is out of bounds. Capping to [0, 1].\n",
      "Warning: Normalized parameter -1.6882700606971086e-21 for feature 4, parameter 7 is out of bounds. Capping to [0, 1].\n",
      "Warning: Normalized parameter -1.8526672506586684e-19 for feature 6, parameter 5 is out of bounds. Capping to [0, 1].\n",
      "Warning: Normalized parameter -1.7140822247012984e-19 for feature 4, parameter 1 is out of bounds. Capping to [0, 1].\n",
      "Warning: Normalized parameter -1.6352250812405645e-19 for feature 6, parameter 5 is out of bounds. Capping to [0, 1].\n",
      "Warning: Normalized parameter -1.6352250812405645e-19 for feature 6, parameter 5 is out of bounds. Capping to [0, 1].\n"
     ]
    },
    {
     "data": {
      "application/vnd.jupyter.widget-view+json": {
       "model_id": "d05f3099b4b24d5c9c8c371d519a90db",
       "version_major": 2,
       "version_minor": 0
      },
      "text/plain": [
       "  0%|          | 0/10000 [00:00<?, ?it/s]"
      ]
     },
     "metadata": {},
     "output_type": "display_data"
    },
    {
     "name": "stdout",
     "output_type": "stream",
     "text": [
      "gld_params: [0.04976454 0.02306108 0.30260523 0.12795123]\n",
      "wrapper([ 4.884e-01  2.386e-01 ...  1.000e+00  1.000e+00]) = -0.01919310842075651\n",
      "assembly_constraint_no_mean([ 4.884e-01  2.386e-01 ...  1.000e+00  1.000e+00]) = [-8.517e-02 -4.980e-02 ... -4.732e-01  8.544e-01]\n",
      "Warning: Normalized parameter -1.3877787807814457e-17 for feature 4, parameter 1 is out of bounds. Capping to [0, 1].\n",
      "Warning: Normalized parameter -1.6765556596701297e-21 for feature 1, parameter 7 is out of bounds. Capping to [0, 1].\n",
      "Warning: Normalized parameter -1.1302800904162585e-20 for feature 1, parameter 5 is out of bounds. Capping to [0, 1].\n",
      "Warning: Normalized parameter -8.149203813312898e-20 for feature 4, parameter 1 is out of bounds. Capping to [0, 1].\n",
      "Warning: Normalized parameter -1.6882700606971086e-21 for feature 4, parameter 7 is out of bounds. Capping to [0, 1].\n",
      "Warning: Normalized parameter -1.8526672506586684e-19 for feature 6, parameter 5 is out of bounds. Capping to [0, 1].\n",
      "Warning: Normalized parameter -1.7140822247012984e-19 for feature 4, parameter 1 is out of bounds. Capping to [0, 1].\n",
      "Warning: Normalized parameter -1.925929944387236e-34 for feature 4, parameter 7 is out of bounds. Capping to [0, 1].\n",
      "Warning: Normalized parameter -1.6352250812405645e-19 for feature 6, parameter 5 is out of bounds. Capping to [0, 1].\n",
      "Warning: Normalized parameter -8.149203813312898e-20 for feature 4, parameter 1 is out of bounds. Capping to [0, 1].\n",
      "Warning: Normalized parameter -1.6882700606971086e-21 for feature 4, parameter 7 is out of bounds. Capping to [0, 1].\n",
      "Warning: Normalized parameter -1.8526672506586684e-19 for feature 6, parameter 5 is out of bounds. Capping to [0, 1].\n",
      "Warning: Normalized parameter -1.7140822247012984e-19 for feature 4, parameter 1 is out of bounds. Capping to [0, 1].\n",
      "Warning: Normalized parameter -1.6352250812405645e-19 for feature 6, parameter 5 is out of bounds. Capping to [0, 1].\n",
      "Warning: Normalized parameter -1.6352250812405645e-19 for feature 6, parameter 5 is out of bounds. Capping to [0, 1].\n"
     ]
    },
    {
     "data": {
      "application/vnd.jupyter.widget-view+json": {
       "model_id": "515ef92d158847188116f252b3ba628a",
       "version_major": 2,
       "version_minor": 0
      },
      "text/plain": [
       "  0%|          | 0/10000 [00:00<?, ?it/s]"
      ]
     },
     "metadata": {},
     "output_type": "display_data"
    },
    {
     "name": "stdout",
     "output_type": "stream",
     "text": [
      "gld_params: [0.04993601 0.02302077 0.30661893 0.13140152]\n",
      "wrapper([ 5.131e-01  2.544e-01 ...  1.000e+00  8.874e-01]) = -0.01755319155318102\n",
      "assembly_constraint_no_mean([ 5.131e-01  2.544e-01 ...  1.000e+00  8.874e-01]) = [-1.218e-02  2.232e-01 ...  4.185e-02  2.942e-01]\n",
      "Warning: Normalized parameter -1.3877787807814457e-17 for feature 4, parameter 1 is out of bounds. Capping to [0, 1].\n",
      "Warning: Normalized parameter -1.6765556596701297e-21 for feature 1, parameter 7 is out of bounds. Capping to [0, 1].\n",
      "Warning: Normalized parameter -1.1302800904162585e-20 for feature 1, parameter 5 is out of bounds. Capping to [0, 1].\n",
      "Warning: Normalized parameter -8.149203813312898e-20 for feature 4, parameter 1 is out of bounds. Capping to [0, 1].\n",
      "Warning: Normalized parameter -1.6882700606971086e-21 for feature 4, parameter 7 is out of bounds. Capping to [0, 1].\n",
      "Warning: Normalized parameter -1.8526672506586684e-19 for feature 6, parameter 5 is out of bounds. Capping to [0, 1].\n",
      "Warning: Normalized parameter -1.7140822247012984e-19 for feature 4, parameter 1 is out of bounds. Capping to [0, 1].\n",
      "Warning: Normalized parameter -1.925929944387236e-34 for feature 4, parameter 7 is out of bounds. Capping to [0, 1].\n",
      "Warning: Normalized parameter -1.6352250812405645e-19 for feature 6, parameter 5 is out of bounds. Capping to [0, 1].\n",
      "Warning: Normalized parameter -8.149203813312898e-20 for feature 4, parameter 1 is out of bounds. Capping to [0, 1].\n",
      "Warning: Normalized parameter -1.6882700606971086e-21 for feature 4, parameter 7 is out of bounds. Capping to [0, 1].\n",
      "Warning: Normalized parameter -1.8526672506586684e-19 for feature 6, parameter 5 is out of bounds. Capping to [0, 1].\n",
      "Warning: Normalized parameter -1.7140822247012984e-19 for feature 4, parameter 1 is out of bounds. Capping to [0, 1].\n",
      "Warning: Normalized parameter -1.6352250812405645e-19 for feature 6, parameter 5 is out of bounds. Capping to [0, 1].\n",
      "Warning: Normalized parameter -1.6352250812405645e-19 for feature 6, parameter 5 is out of bounds. Capping to [0, 1].\n"
     ]
    },
    {
     "data": {
      "application/vnd.jupyter.widget-view+json": {
       "model_id": "c8ed1ce0d50b4e2c8b67824508b9f6b7",
       "version_major": 2,
       "version_minor": 0
      },
      "text/plain": [
       "  0%|          | 0/10000 [00:00<?, ?it/s]"
      ]
     },
     "metadata": {},
     "output_type": "display_data"
    },
    {
     "name": "stdout",
     "output_type": "stream",
     "text": [
      "gld_params: [0.04908758 0.02232581 0.31074136 0.12085296]\n",
      "wrapper([ 6.177e-01  3.505e-01 ...  6.578e-01  1.000e+00]) = -0.017553359609834254\n",
      "assembly_constraint_no_mean([ 6.177e-01  3.505e-01 ...  6.578e-01  1.000e+00]) = [ 7.746e-01  2.262e-01 ...  8.436e-01 -4.709e-01]\n",
      "Warning: Normalized parameter -1.3877787807814457e-17 for feature 4, parameter 1 is out of bounds. Capping to [0, 1].\n",
      "Warning: Normalized parameter -1.6765556596701297e-21 for feature 1, parameter 7 is out of bounds. Capping to [0, 1].\n",
      "Warning: Normalized parameter -1.1302800904162585e-20 for feature 1, parameter 5 is out of bounds. Capping to [0, 1].\n",
      "Warning: Normalized parameter -8.149203813312898e-20 for feature 4, parameter 1 is out of bounds. Capping to [0, 1].\n",
      "Warning: Normalized parameter -1.6882700606971086e-21 for feature 4, parameter 7 is out of bounds. Capping to [0, 1].\n",
      "Warning: Normalized parameter -1.8526672506586684e-19 for feature 6, parameter 5 is out of bounds. Capping to [0, 1].\n",
      "Warning: Normalized parameter -1.7140822247012984e-19 for feature 4, parameter 1 is out of bounds. Capping to [0, 1].\n",
      "Warning: Normalized parameter -1.925929944387236e-34 for feature 4, parameter 7 is out of bounds. Capping to [0, 1].\n",
      "Warning: Normalized parameter -1.6352250812405645e-19 for feature 6, parameter 5 is out of bounds. Capping to [0, 1].\n",
      "Warning: Normalized parameter -8.149203813312898e-20 for feature 4, parameter 1 is out of bounds. Capping to [0, 1].\n",
      "Warning: Normalized parameter -1.6882700606971086e-21 for feature 4, parameter 7 is out of bounds. Capping to [0, 1].\n",
      "Warning: Normalized parameter -1.8526672506586684e-19 for feature 6, parameter 5 is out of bounds. Capping to [0, 1].\n",
      "Warning: Normalized parameter -1.7140822247012984e-19 for feature 4, parameter 1 is out of bounds. Capping to [0, 1].\n",
      "Warning: Normalized parameter -1.6352250812405645e-19 for feature 6, parameter 5 is out of bounds. Capping to [0, 1].\n",
      "Warning: Normalized parameter -1.6352250812405645e-19 for feature 6, parameter 5 is out of bounds. Capping to [0, 1].\n"
     ]
    },
    {
     "data": {
      "application/vnd.jupyter.widget-view+json": {
       "model_id": "80c052f362314a858da986ad7f2e1620",
       "version_major": 2,
       "version_minor": 0
      },
      "text/plain": [
       "  0%|          | 0/10000 [00:00<?, ?it/s]"
      ]
     },
     "metadata": {},
     "output_type": "display_data"
    },
    {
     "name": "stdout",
     "output_type": "stream",
     "text": [
      "gld_params: [0.05009938 0.02306135 0.30651203 0.13081787]\n",
      "wrapper([ 4.423e-01  2.127e-01 ...  1.000e+00  8.807e-01]) = -0.017528237718698145\n",
      "assembly_constraint_no_mean([ 4.423e-01  2.127e-01 ...  1.000e+00  8.807e-01]) = [-2.567e-02 -1.605e-02 ...  1.769e-01  2.645e-01]\n",
      "Warning: Normalized parameter -1.3877787807814457e-17 for feature 4, parameter 1 is out of bounds. Capping to [0, 1].\n",
      "Warning: Normalized parameter -1.6765556596701297e-21 for feature 1, parameter 7 is out of bounds. Capping to [0, 1].\n",
      "Warning: Normalized parameter -8.149203813312898e-20 for feature 4, parameter 1 is out of bounds. Capping to [0, 1].\n",
      "Warning: Normalized parameter -1.6882700606971086e-21 for feature 4, parameter 7 is out of bounds. Capping to [0, 1].\n",
      "Warning: Normalized parameter -1.8526672506586684e-19 for feature 6, parameter 5 is out of bounds. Capping to [0, 1].\n",
      "Warning: Normalized parameter -1.7140822247012984e-19 for feature 4, parameter 1 is out of bounds. Capping to [0, 1].\n",
      "Warning: Normalized parameter -1.925929944387236e-34 for feature 4, parameter 7 is out of bounds. Capping to [0, 1].\n",
      "Warning: Normalized parameter -1.6352250812405645e-19 for feature 6, parameter 5 is out of bounds. Capping to [0, 1].\n",
      "Warning: Normalized parameter -8.149203813312898e-20 for feature 4, parameter 1 is out of bounds. Capping to [0, 1].\n",
      "Warning: Normalized parameter -1.6882700606971086e-21 for feature 4, parameter 7 is out of bounds. Capping to [0, 1].\n",
      "Warning: Normalized parameter -1.8526672506586684e-19 for feature 6, parameter 5 is out of bounds. Capping to [0, 1].\n",
      "Warning: Normalized parameter -1.7140822247012984e-19 for feature 4, parameter 1 is out of bounds. Capping to [0, 1].\n",
      "Warning: Normalized parameter -1.6352250812405645e-19 for feature 6, parameter 5 is out of bounds. Capping to [0, 1].\n",
      "Warning: Normalized parameter -1.6352250812405645e-19 for feature 6, parameter 5 is out of bounds. Capping to [0, 1].\n"
     ]
    },
    {
     "data": {
      "application/vnd.jupyter.widget-view+json": {
       "model_id": "8af719f21932468ca47024ac4c718fa6",
       "version_major": 2,
       "version_minor": 0
      },
      "text/plain": [
       "  0%|          | 0/10000 [00:00<?, ?it/s]"
      ]
     },
     "metadata": {},
     "output_type": "display_data"
    },
    {
     "name": "stdout",
     "output_type": "stream",
     "text": [
      "gld_params: [0.05116192 0.02217796 0.29537855 0.11727357]\n",
      "wrapper([ 5.570e-01  3.847e-01 ...  5.205e-01  1.000e+00]) = -0.01589762255256736\n",
      "assembly_constraint_no_mean([ 5.570e-01  3.847e-01 ...  5.205e-01  1.000e+00]) = [ 5.321e-01 -3.584e-01 ... -3.211e-01 -6.646e-01]\n"
     ]
    }
   ],
   "source": [
    "# Basinhopping for the maximization function using COBYQA\n",
    "x0_maxi = [0.25] * RandDeviationVect.getDimension()  # Initial guess\n",
    "\n",
    "# Update minimizer_kwargs_maxi to use COBYQA\n",
    "minimizer_kwargs_maxi = {\n",
    "    \"method\": \"COBYQA\",   # Use COBYQA method\n",
    "    \"jac\": False,         # COBYQA doesn't use Jacobians\n",
    "    \"args\": (model_base,),     # Update args to match COBYQA requirements\n",
    "    \"constraints\": nonLinearConstraint,\n",
    "    \"bounds\": Bounds(lb=0.0,ub=1.0),\n",
    "    \"options\": {\n",
    "        \"f_target\": -0.2, \n",
    "        \"maxiter\": 1000,\n",
    "        \"maxfev\": 4000,\n",
    "        \"feasibility_tol\": 1e-2,\n",
    "        \"initial_tr_radius\": np.sqrt(32)*0.5,\n",
    "        \"final_tr_radius\": 0.33,\n",
    "        \"disp\": True\n",
    "    }\n",
    "}\n",
    "\n",
    "# Running basinhopping with COBYQA as the local optimizer\n",
    "res_maxi = basinhopping(\n",
    "    optimization_function_maxi, x0_maxi,\n",
    "    niter=5,\n",
    "    T=1,\n",
    "    stepsize=3.0,\n",
    "    niter_success=19,\n",
    "    interval=5,\n",
    "    minimizer_kwargs=minimizer_kwargs_maxi,\n",
    "    disp=True,\n",
    "    #take_step=step_taking,\n",
    "    #accept_test=accept_test,\n",
    "    #callback=callback\n",
    ")\n",
    "\n",
    "print(\"Maximization Result with COBYQA:\")\n",
    "print(res_maxi)"
   ]
  },
  {
   "cell_type": "code",
   "execution_count": null,
   "id": "57e3c1a4-7d8f-441d-a59d-6be0897b7cf8",
   "metadata": {},
   "outputs": [],
   "source": [
    "res_maxi.x"
   ]
  },
  {
   "cell_type": "code",
   "execution_count": null,
   "id": "150b8b05-65b6-426c-b60d-bf23b5b19b53",
   "metadata": {},
   "outputs": [],
   "source": [
    "optimization_function_maxi(np.array([0,0,1,0]*8))"
   ]
  },
  {
   "cell_type": "code",
   "execution_count": null,
   "id": "1687ab1e-cb51-4d88-8aac-39655110c711",
   "metadata": {},
   "outputs": [],
   "source": []
  },
  {
   "cell_type": "code",
   "execution_count": null,
   "id": "e6fea5b5-191c-4ee7-be87-e7cc47a123f3",
   "metadata": {},
   "outputs": [],
   "source": [
    "N = ot.Normal()\n",
    "func = ot.SymbolicFunction([\"x\"], [\"abs(x)\"])"
   ]
  },
  {
   "cell_type": "code",
   "execution_count": null,
   "id": "31cd7a4a-8080-492e-bcd3-f818072e212e",
   "metadata": {},
   "outputs": [],
   "source": []
  }
 ],
 "metadata": {
  "kernelspec": {
   "display_name": "Python 3 (ipykernel)",
   "language": "python",
   "name": "python3"
  },
  "language_info": {
   "codemirror_mode": {
    "name": "ipython",
    "version": 3
   },
   "file_extension": ".py",
   "mimetype": "text/x-python",
   "name": "python",
   "nbconvert_exporter": "python",
   "pygments_lexer": "ipython3",
   "version": "3.12.8"
  }
 },
 "nbformat": 4,
 "nbformat_minor": 5
}
