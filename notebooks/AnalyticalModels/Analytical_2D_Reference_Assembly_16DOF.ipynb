{
 "cells": [
  {
   "cell_type": "markdown",
   "id": "1a38fd8e-a5e6-4dfa-98a2-be93056530e1",
   "metadata": {},
   "source": [
    "#### Defect Equations for the Upper and Lower Points on the Defective Surfaces\n",
    "\n",
    "The equations governing the defect locations are:\n",
    "\n",
    "\n",
    "\\begin{aligned}\n",
    "    X_{ih} &= X_i + u_i - a_i \\cdot \\frac{h}{2}, & X_{ib} &= X_i + u_i + a_i \\cdot \\frac{h}{2}, \\\\ \n",
    "    Y_{ih} &= Y_i + v_i - b_i \\cdot \\frac{h}{2}, & Y_{ib} &= Y_i + v_i + b_i \\cdot \\frac{h}{2}.\n",
    "\\end{aligned}"
   ]
  },
  {
   "cell_type": "markdown",
   "id": "19f8f4a8-a210-43a2-b0eb-6f8bf22eaaa3",
   "metadata": {},
   "source": [
    "### Figures Representing Dimensions and Parametrization\n",
    "\n",
    "The figures below depict the dimensions of the problem and the parametrization. Each dimension has a tolerance of \\(\\pm 0.05\\), resulting in a total tolerance interval of \\(t = 0.1\\).\n",
    "\n",
    "<div style=\"display: flex; justify-content: space-around;\">\n",
    "    <figure>\n",
    "        <img src=\"../Pictures/TCarres2DDims.png\" width=\"300\"/>\n",
    "        <figcaption>Figure 1: Problem Dimensions</figcaption>\n",
    "    </figure>\n",
    "    <figure>\n",
    "        <img src=\"../Pictures/TCarres2DGapPara.png\" width=\"300\"/>\n",
    "        <figcaption>Figure 2: Gap Parametrization</figcaption>\n",
    "    </figure>\n",
    "    <figure>\n",
    "        <img src=\"../Pictures/TCarres2DDimsDefPara.png\" width=\"300\"/>\n",
    "        <figcaption>Figure 3: Defect Dimensions and Parametrization</figcaption>\n",
    "    </figure>\n",
    "</div>"
   ]
  },
  {
   "cell_type": "markdown",
   "id": "00935043-be44-47b6-b6ba-693e8e9aeb19",
   "metadata": {},
   "source": [
    "#### Linear System Construction\n",
    "\n",
    "Using the above equations, the following linear system is constructed:\n",
    "\n",
    "$$\n",
    "\\mathbf{A} \\cdot \\mathbf{J} + \\mathbf{b} = 0,\n",
    "$$\n",
    "\n",
    "where:\n",
    "\n",
    "$$\n",
    "\\begin{array}{ccc}\n",
    "\\mathbf{A} =\n",
    "\\begin{bmatrix}\n",
    "    -1 & 0  & 0 & -1 & 0 & 0 & 0 & 0 \\\\\n",
    "    0  & 1  & 1 & 0  & 0 & 0 & 0 & 0 \\\\\n",
    "    0  & 0  & 0 & 0  & -1 & 0 & 0 & -1 \\\\\n",
    "    0  & 0  & 0 & 0  & 0 & 1 & 1 & 0 \\\\\n",
    "    -1 & 0  & 0 & 0  & 1 & 0 & 0 & 0 \\\\\n",
    "    -1 & -1 & 0 & 0  & 0 & 0 & 0 & 0 \\\\\n",
    "    0  & 0  & 0 & 0  & -1 & -1 & 0 & 0\n",
    "\\end{bmatrix},\n",
    "& \\quad\n",
    "\\mathbf{J} =\n",
    "\\begin{bmatrix}\n",
    "    J_{1b} \\\\\n",
    "    J_{2b} \\\\\n",
    "    J_{3b} \\\\\n",
    "    J_{4b} \\\\\n",
    "    J_{1h} \\\\\n",
    "    J_{2h} \\\\\n",
    "    J_{3h} \\\\\n",
    "    J_{4h}\n",
    "\\end{bmatrix},\n",
    "& \\quad\n",
    "\\mathbf{b} =\n",
    "\\begin{bmatrix}\n",
    "    Y_{1b} - X_{1b} + X_{4b} - Y_{4b} \\\\\n",
    "    Y_{2b} - X_{2b} + X_{3b} - Y_{3b} \\\\\n",
    "    Y_{1h} - X_{1h} + X_{4h} - Y_{4h} \\\\\n",
    "    Y_{2h} - X_{2h} + X_{3h} - Y_{3h} \\\\\n",
    "    Y_{1b} - X_{1b} + X_{1h} - Y_{1h} \\\\\n",
    "    Y_{1b} - X_{1b} + X_{2b} - Y_{2b} \\\\\n",
    "    Y_{1h} - X_{1h} + X_{2h} - Y_{2h}\n",
    "\\end{bmatrix}.\n",
    "\\end{array}\n",
    "$$"
   ]
  },
  {
   "cell_type": "code",
   "execution_count": 1,
   "id": "1ef43f54-b282-4235-89d2-feacb09b2b3a",
   "metadata": {
    "tags": []
   },
   "outputs": [],
   "source": [
    "# Core libraries\n",
    "import numpy as np\n",
    "import pandas as pd\n",
    "import matplotlib.pyplot as plt\n",
    "\n",
    "# Optimization and modeling\n",
    "import openturns as ot\n",
    "from scipy.optimize import milp, Bounds, LinearConstraint # linprog is depreceated and supperseded by milp\n",
    "\n",
    "# Utilities\n",
    "from joblib import Parallel, delayed\n",
    "from functools import partial\n",
    "import itertools\n",
    "from tqdm import trange, tqdm"
   ]
  },
  {
   "cell_type": "markdown",
   "id": "a73db1c8-060e-462f-8ec3-0b089382795b",
   "metadata": {},
   "source": [
    "##### Model Data"
   ]
  },
  {
   "cell_type": "code",
   "execution_count": 2,
   "id": "6dc5a525-4f33-4a5c-8a09-4febdc75e2e3",
   "metadata": {},
   "outputs": [],
   "source": [
    "# Geometric data\n",
    "data = {\n",
    "    \"X1\": 24.9, \"X2\": 35.1, \"X3\": 94.9, \"X4\": 105.1,\n",
    "    \"Y1\": 25,   \"Y2\": 35,   \"Y3\": 95,   \"Y4\": 105,\n",
    "}\n",
    "X1, X2, X3, X4 = data[\"X1\"], data[\"X2\"], data[\"X3\"], data[\"X4\"]\n",
    "Y1, Y2, Y3, Y4 = data[\"Y1\"], data[\"Y2\"], data[\"Y3\"], data[\"Y4\"]\n",
    "\n",
    "# Model parameters\n",
    "h = 10    # Feature height\n",
    "t = 0.1   # Tolerance interval\n",
    "Cm = 0.3  # Process capability index\n",
    "\n",
    "# Linear optimization bounds\n",
    "borne_inf_jeu = 0\n",
    "borne_sup_jeu = 20 * t\n",
    "bounds = [(borne_inf_jeu, borne_sup_jeu)] * 8\n",
    "\n",
    "# Standard deviations for errors\n",
    "sigma_e_pos = t / (6 * Cm)            # Positional error\n",
    "theta_max = t / h                     # Maximum orientation error\n",
    "sigma_e_theta = (2 * theta_max) / (6 * Cm)  # Orientation standard deviation\n"
   ]
  },
  {
   "cell_type": "markdown",
   "id": "b837a56d-fbd3-4ae7-8e27-fd5865174423",
   "metadata": {},
   "source": [
    "##### Linear System Construction"
   ]
  },
  {
   "cell_type": "code",
   "execution_count": 3,
   "id": "61d6bd48-72f9-4b04-8ea3-8230547bcf29",
   "metadata": {},
   "outputs": [],
   "source": [
    "# Equality matrix for linear constraints\n",
    "A_eq = np.array([\n",
    "    [-1,  0,  0, -1,  0,  0,  0,  0],\n",
    "    [ 0,  1,  1,  0,  0,  0,  0,  0],\n",
    "    [ 0,  0,  0,  0, -1,  0,  0, -1],\n",
    "    [ 0,  0,  0,  0,  0,  1,  1,  0],\n",
    "    [-1,  0,  0,  0,  1,  0,  0,  0],\n",
    "    [-1, -1,  0,  0,  0,  0,  0,  0],\n",
    "    [ 0,  0,  0,  0, -1, -1,  0,  0], \n",
    "])"
   ]
  },
  {
   "cell_type": "markdown",
   "id": "4a8b4b16-0aca-4f4d-a735-cd52e8615528",
   "metadata": {},
   "source": [
    "##### Functions"
   ]
  },
  {
   "cell_type": "code",
   "execution_count": 4,
   "id": "0a3c2c3d-3590-4124-bbad-4990dad532af",
   "metadata": {
    "tags": []
   },
   "outputs": [],
   "source": [
    "def compute_positions(H_i, u_i, a_i, inv=False):\n",
    "    \"\"\"\n",
    "    Compute new positions for a given dimension.\n",
    "\n",
    "    Parameters:\n",
    "    -----------\n",
    "    H_i : float\n",
    "        Original position of the feature.\n",
    "    u_i : float\n",
    "        Translational error.\n",
    "    a_i : float\n",
    "        Orientation error.\n",
    "    inv : bool, optional\n",
    "        Inversion flag (default: False).\n",
    "\n",
    "    Returns:\n",
    "    --------\n",
    "    tuple[float, float]\n",
    "        New upper (H_ih) and lower (H_ib) positions.\n",
    "    \"\"\"\n",
    "    if inv:\n",
    "        H_ih = H_i - u_i - (a_i * h / 2)\n",
    "        H_ib = H_i - u_i + (a_i * h / 2)\n",
    "    else:\n",
    "        H_ih = H_i + u_i - (a_i * h / 2)\n",
    "        H_ib = H_i + u_i + (a_i * h / 2)\n",
    "    return H_ih, H_ib\n",
    "\n",
    "\n",
    "def get_b_eq_from_errs(u1, a1, u2, a2, u3, a3, u4, a4, v1, b1, v2, b2, v3, b3, v4, b4):\n",
    "    \"\"\"\n",
    "    Generate the equality constraint vector for linear optimization.\n",
    "\n",
    "    Parameters:\n",
    "    -----------\n",
    "    u1, a1, ..., u4, a4 : float\n",
    "        Translational and rotational errors for X-coordinates.\n",
    "    v1, b1, ..., v4, b4 : float\n",
    "        Translational and rotational errors for Y-coordinates.\n",
    "\n",
    "    Returns:\n",
    "    --------\n",
    "    np.ndarray\n",
    "        Vector of equality constraints (B_eq).\n",
    "    \"\"\"\n",
    "    X1h, X1b = compute_positions(X1, u1, a1)\n",
    "    X2h, X2b = compute_positions(X2, u2, a2, inv=True)\n",
    "    X3h, X3b = compute_positions(X3, u3, a3)\n",
    "    X4h, X4b = compute_positions(X4, u4, a4, inv=True)\n",
    "\n",
    "    Y1h, Y1b = compute_positions(Y1, v1, b1, inv=True)\n",
    "    Y2h, Y2b = compute_positions(Y2, v2, b2)\n",
    "    Y3h, Y3b = compute_positions(Y3, v3, b3, inv=True)\n",
    "    Y4h, Y4b = compute_positions(Y4, v4, b4)\n",
    "\n",
    "    return np.array([\n",
    "        Y1b - X1b + X4b - Y4b,\n",
    "        Y2b - X2b + X3b - Y3b,\n",
    "        Y1h - X1h + X4h - Y4h,\n",
    "        Y2h - X2h + X3h - Y3h,\n",
    "        Y1b - X1b + X1h - Y1h,\n",
    "        Y1b - X1b + X2b - Y2b,\n",
    "        Y1h - X1h + X2h - Y2h,\n",
    "    ])\n"
   ]
  },
  {
   "cell_type": "markdown",
   "id": "9142e698-c8f2-40d9-9b4b-4d786e9ccb66",
   "metadata": {},
   "source": [
    "##### Optimization Configuration"
   ]
  },
  {
   "cell_type": "code",
   "execution_count": 5,
   "id": "ff631c1a-e97f-4feb-a79a-0988fd6d3989",
   "metadata": {
    "tags": []
   },
   "outputs": [],
   "source": [
    "# Method for linear optimization\n",
    "method = \"highs-ds\""
   ]
  },
  {
   "cell_type": "markdown",
   "id": "2df43827-1a2e-4699-909c-ef2938526e77",
   "metadata": {},
   "source": [
    "##### Functions for Probability Distribution and Linear System"
   ]
  },
  {
   "cell_type": "code",
   "execution_count": 7,
   "id": "073d8fa6-8c7d-4048-be51-d82d33de9f3f",
   "metadata": {
    "tags": []
   },
   "outputs": [],
   "source": [
    "def get_composed_distribution_from_lambda(\n",
    "    lambda_X_1, lambda_X_2, lambda_X_3, lambda_X_4,\n",
    "    lambda_Y_1, lambda_Y_2, lambda_Y_3, lambda_Y_4\n",
    "):\n",
    "    \"\"\"\n",
    "    Creates a composed distribution for positional and angular defects.\n",
    "\n",
    "    Parameters:\n",
    "    -----------\n",
    "    lambda_X_i, lambda_Y_i : float\n",
    "        Weighting parameters for positional and orientation errors (0 <= lambda <= 1).\n",
    "\n",
    "    Returns:\n",
    "    --------\n",
    "    openturns.ComposedDistribution\n",
    "        A vector of positional and angular defect distributions.\n",
    "    \"\"\"    \n",
    "    # Define positional and orientation distributions for each feature\n",
    "    e_pos_X_1 = lambda_X_1 * ot.Normal(0, sigma_e_pos)\n",
    "    e_ori_X_1 = (1 - lambda_X_1) * ot.Normal(0, sigma_e_theta)\n",
    "    e_pos_X_2 = lambda_X_2 * ot.Normal(0, sigma_e_pos)\n",
    "    e_ori_X_2 = (1 - lambda_X_2) * ot.Normal(0, sigma_e_theta)\n",
    "    e_pos_X_3 = lambda_X_3 * ot.Normal(0, sigma_e_pos)\n",
    "    e_ori_X_3 = (1 - lambda_X_3) * ot.Normal(0, sigma_e_theta)\n",
    "    e_pos_X_4 = lambda_X_4 * ot.Normal(0, sigma_e_pos)\n",
    "    e_ori_X_4 = (1 - lambda_X_4) * ot.Normal(0, sigma_e_theta)\n",
    "\n",
    "    e_pos_Y_1 = lambda_Y_1 * ot.Normal(0, sigma_e_pos)\n",
    "    e_ori_Y_1 = (1 - lambda_Y_1) * ot.Normal(0, sigma_e_theta)\n",
    "    e_pos_Y_2 = lambda_Y_2 * ot.Normal(0, sigma_e_pos)\n",
    "    e_ori_Y_2 = (1 - lambda_Y_2) * ot.Normal(0, sigma_e_theta)\n",
    "    e_pos_Y_3 = lambda_Y_3 * ot.Normal(0, sigma_e_pos)\n",
    "    e_ori_Y_3 = (1 - lambda_Y_3) * ot.Normal(0, sigma_e_theta)\n",
    "    e_pos_Y_4 = lambda_Y_4 * ot.Normal(0, sigma_e_pos)\n",
    "    e_ori_Y_4 = (1 - lambda_Y_4) * ot.Normal(0, sigma_e_theta)\n",
    "\n",
    "    # Combine all distributions\n",
    "    defect_distributions = ot.ComposedDistribution([\n",
    "        e_pos_X_1, e_ori_X_1,\n",
    "        e_pos_X_2, e_ori_X_2,\n",
    "        e_pos_X_3, e_ori_X_3,\n",
    "        e_pos_X_4, e_ori_X_4,\n",
    "        e_pos_Y_1, e_ori_Y_1,\n",
    "        e_pos_Y_2, e_ori_Y_2,\n",
    "        e_pos_Y_3, e_ori_Y_3,\n",
    "        e_pos_Y_4, e_ori_Y_4,\n",
    "    ])\n",
    "\n",
    "    # Set descriptive labels for distributions\n",
    "    defect_distributions.setDescription([\n",
    "        \"e_pos_X_1\", \"e_ori_X_1\",\n",
    "        \"e_pos_X_2\", \"e_ori_X_2\",\n",
    "        \"e_pos_X_3\", \"e_ori_X_3\",\n",
    "        \"e_pos_X_4\", \"e_ori_X_4\",\n",
    "        \"e_pos_Y_1\", \"e_ori_Y_1\",\n",
    "        \"e_pos_Y_2\", \"e_ori_Y_2\",\n",
    "        \"e_pos_Y_3\", \"e_ori_Y_3\",\n",
    "        \"e_pos_Y_4\", \"e_ori_Y_4\",])\n",
    "    return defect_distributions\n",
    "\n",
    "\n",
    "class SolveLinearSystem(ot.OpenTURNSPythonFunction):\n",
    "    \"\"\"\n",
    "    Solves a linear optimization system for defect evaluation using MILP.\n",
    "\n",
    "    Inputs:\n",
    "    -------\n",
    "    16 positional and angular defects (e_pos_X, e_ori_X, e_pos_Y, e_ori_Y).\n",
    "\n",
    "    Outputs:\n",
    "    --------\n",
    "    SUCCESS : int\n",
    "        Indicates whether the optimization succeeded (1) or failed (0).\n",
    "    \"\"\"\n",
    "    def __init__(self):\n",
    "        super(SolveLinearSystem, self).__init__(16, 1)\n",
    "        self.setInputDescription(\n",
    "            [\n",
    "                \"e_pos_X_1\", \"e_ori_X_1\", \"e_pos_X_2\", \"e_ori_X_2\",\n",
    "                \"e_pos_X_3\", \"e_ori_X_3\", \"e_pos_X_4\", \"e_ori_X_4\",\n",
    "                \"e_pos_Y_1\", \"e_ori_Y_1\", \"e_pos_Y_2\", \"e_ori_Y_2\",\n",
    "                \"e_pos_Y_3\", \"e_ori_Y_3\", \"e_pos_Y_4\", \"e_ori_Y_4\",\n",
    "            ]\n",
    "        )\n",
    "        self.setOutputDescription([\"SUCCESS\"])\n",
    "        self.result = None\n",
    "\n",
    "    def _exec(self, X):\n",
    "        # Unpack input variables\n",
    "        u1, a1, u2, a2, u3, a3, u4, a4, v1, b1, v2, b2, v3, b3, v4, b4 = X\n",
    "        \n",
    "        # Calculate the equality constraints\n",
    "        b_eq = get_b_eq_from_errs(u1, a1, u2, a2, u3, a3, u4, a4, v1, b1, v2, b2, v3, b3, v4, b4)\n",
    "\n",
    "        # Define cost function\n",
    "        c = np.array([-1, 0, 0, 0, 0, 0, 0, 0])  # Minimize first gap\n",
    "\n",
    "        # Define bounds for MILP\n",
    "        bounds = Bounds(\n",
    "            lb=np.full(8, borne_inf_jeu),  # Lower bounds\n",
    "            ub=np.full(8, borne_sup_jeu),  # Upper bounds\n",
    "            keep_feasible=False)\n",
    "\n",
    "        # Define equality constraints\n",
    "        eq_constraints = LinearConstraint(A_eq, -1*b_eq, -1*b_eq)\n",
    "\n",
    "        RES = milp(c=c, bounds=bounds, constraints=[eq_constraints], options={\"disp\": False})\n",
    "        success = int(RES.success)\n",
    "\n",
    "        self.result = RES\n",
    "        return [success]\n",
    "\n",
    "\n",
    "def get_failure_prob_MC(lambdas, defect_sample=None, sizeMC=1e4, seedMC=9999):\n",
    "    \"\"\"\n",
    "    Computes the failure probability using Monte Carlo simulation.\n",
    "\n",
    "    Parameters:\n",
    "    -----------\n",
    "    lambdas : list[float]\n",
    "        Weights for positional and angular defects.\n",
    "    sizeMC : int, optional\n",
    "        Number of Monte Carlo samples (default: 10,000).\n",
    "    seedMC : int, optional\n",
    "        Random seed for reproducibility (default: 9999).\n",
    "\n",
    "    Returns:\n",
    "    --------\n",
    "    float\n",
    "        Failure probability.\n",
    "    \"\"\"\n",
    "    if not defect_sample :\n",
    "        ot.RandomGenerator.SetSeed(seedMC)\n",
    "        defect_distributions = get_composed_distribution_from_lambda(*lambdas)\n",
    "        sampleMC = defect_distributions.getSample(int(sizeMC))\n",
    "    ot_model = SolveLinearSystem()\n",
    "    results = [ot_model(point)[0] for point in sampleMC]\n",
    "    return 1 - sum(results) / len(results)\n",
    "\n",
    "\n",
    "def get_imprecise_failure_probs(lambdaDOE, defect_sample=None, parallel=True):\n",
    "    \"\"\"\n",
    "    Computes failure probabilities for a design of experiments over the imprecise space.\n",
    "\n",
    "    Parameters:\n",
    "    -----------\n",
    "    lambdaDOE : array-like\n",
    "        Design of experiments in the lambda parameter space.\n",
    "    parallel : bool, optional\n",
    "        Enable parallel computation (default: True).\n",
    "\n",
    "    Returns:\n",
    "    --------\n",
    "    list[float]\n",
    "        Failure probabilities for each configuration in the design of experiments.\n",
    "    \"\"\"\n",
    "    if parallel:\n",
    "        return Parallel(n_jobs=-3, verbose=3)(\n",
    "            delayed(get_failure_prob_MC)(lambdas, defect_sample) for lambdas in lambdaDOE\n",
    "        )\n",
    "    return [get_failure_prob_MC(lambdas, defect_sample) for lambdas in tqdm(lambdaDOE)]"
   ]
  },
  {
   "cell_type": "markdown",
   "id": "7dcefd3e-144d-4bdb-9063-79ff6fb9a812",
   "metadata": {},
   "source": [
    "##### Lambda Sampling with LHS"
   ]
  },
  {
   "cell_type": "code",
   "execution_count": 8,
   "id": "9e417abb-5e17-49c0-8003-aa529e2cf0c3",
   "metadata": {
    "tags": []
   },
   "outputs": [],
   "source": [
    "# Define a uniform distribution for each lambda\n",
    "lambda_dist_elementary = ot.Uniform(0, 1)\n",
    "lambdas_dist = ot.ComposedDistribution([lambda_dist_elementary] * 8)\n",
    "\n",
    "# Generate a Latin Hypercube Sample (LHS) of size N\n",
    "N = 200\n",
    "lhs = ot.LHSExperiment(lambdas_dist, N)\n",
    "lhs.setAlwaysShuffle(True)  # Randomized sampling\n",
    "design = lhs.generate()"
   ]
  },
  {
   "cell_type": "markdown",
   "id": "2c7e79f8-94e8-487e-9a9c-1cb93015999f",
   "metadata": {},
   "source": [
    "##### Monte Carlo Simulation for Failure Probabilities"
   ]
  },
  {
   "cell_type": "code",
   "execution_count": 9,
   "id": "0f76527c-5b91-41c2-b6bc-e9e0153c2a21",
   "metadata": {
    "scrolled": true,
    "tags": []
   },
   "outputs": [
    {
     "name": "stderr",
     "output_type": "stream",
     "text": [
      "[Parallel(n_jobs=-3)]: Using backend LokyBackend with 18 concurrent workers.\n",
      "[Parallel(n_jobs=-3)]: Done  92 tasks      | elapsed:   33.9s\n",
      "[Parallel(n_jobs=-3)]: Done 200 out of 200 | elapsed:  1.1min finished\n"
     ]
    }
   ],
   "source": [
    "# Calculate failure probabilities for the design of experiments\n",
    "failure_probs_MC = get_imprecise_failure_probs(design, parallel=True)"
   ]
  },
  {
   "cell_type": "markdown",
   "id": "51bfa14d-854e-48f4-aa46-b86b23c7f586",
   "metadata": {},
   "source": [
    "##### Results Display"
   ]
  },
  {
   "cell_type": "code",
   "execution_count": 10,
   "id": "3b159ffc-9f16-4f1b-9829-7b92204494e5",
   "metadata": {
    "tags": []
   },
   "outputs": [
    {
     "name": "stdout",
     "output_type": "stream",
     "text": [
      "Lower probability of failure: 7.79 %\n",
      "Upper probability of failure: 21.87 %\n"
     ]
    }
   ],
   "source": [
    "# Display the bounds on the failure probabilities\n",
    "print(\"Lower probability of failure:\", round(min(failure_probs_MC) * 100, 4), \"%\")\n",
    "print(\"Upper probability of failure:\", round(max(failure_probs_MC) * 100, 4), \"%\")"
   ]
  },
  {
   "cell_type": "markdown",
   "id": "f96e0744-cc39-4488-8479-8e870f9b48ec",
   "metadata": {},
   "source": [
    "##### Visualization"
   ]
  },
  {
   "cell_type": "code",
   "execution_count": 11,
   "id": "55d4786a-36ec-4744-8dad-0f60d86facb9",
   "metadata": {},
   "outputs": [
    {
     "data": {
      "image/png": "[encoded data removed]",
      "text/plain": [
       "<Figure size 640x480 with 1 Axes>"
      ]
     },
     "metadata": {},
     "output_type": "display_data"
    },
    {
     "data": {
      "image/png": "[encoded data removed]",
      "text/plain": [
       "<Figure size 640x480 with 1 Axes>"
      ]
     },
     "metadata": {},
     "output_type": "display_data"
    }
   ],
   "source": [
    "# Scatter plot of failure probabilities\n",
    "plt.plot(failure_probs_MC, np.zeros_like(failure_probs_MC), \"x\")\n",
    "plt.xlabel(\"Failure Probability\")\n",
    "plt.ylabel(\"Density\")\n",
    "plt.title(\"Scatter Plot of Failure Probabilities\")\n",
    "plt.show()\n",
    "\n",
    "# Histogram of failure probabilities\n",
    "plt.hist(failure_probs_MC, bins=20, alpha=0.75, edgecolor=\"black\")\n",
    "plt.xlabel(\"Failure Probability\")\n",
    "plt.ylabel(\"Frequency\")\n",
    "plt.title(\"Histogram of Failure Probabilities\")\n",
    "plt.show()"
   ]
  },
  {
   "cell_type": "code",
   "execution_count": null,
   "id": "6680e0f1-8fb8-4140-8a71-79cb35037830",
   "metadata": {},
   "outputs": [],
   "source": []
  }
 ],
 "metadata": {
  "kernelspec": {
   "display_name": "Python 3 (ipykernel)",
   "language": "python",
   "name": "python3"
  },
  "language_info": {
   "codemirror_mode": {
    "name": "ipython",
    "version": 3
   },
   "file_extension": ".py",
   "mimetype": "text/x-python",
   "name": "python",
   "nbconvert_exporter": "python",
   "pygments_lexer": "ipython3",
   "version": "3.13.0"
  }
 },
 "nbformat": 4,
 "nbformat_minor": 5
}
