{
 "cells": [
  {
   "cell_type": "code",
   "execution_count": 1,
   "id": "533e3043-5cad-45bd-b9c1-3a9a5e1b710e",
   "metadata": {},
   "outputs": [],
   "source": [
    "import numpy as np\n",
    "import os"
   ]
  },
  {
   "cell_type": "code",
   "execution_count": 2,
   "id": "92a1d5ba-639f-4324-9c73-da0dcff2d6e4",
   "metadata": {},
   "outputs": [
    {
     "data": {
      "text/plain": [
       "'/home/ksimady/ANR_TRIP/NOTEBOOKS'"
      ]
     },
     "execution_count": 2,
     "metadata": {},
     "output_type": "execute_result"
    }
   ],
   "source": [
    "os.path.abspath(\".\")"
   ]
  },
  {
   "cell_type": "code",
   "execution_count": 4,
   "id": "4781fe56-d620-4a93-b7e1-0e4b65bf15b3",
   "metadata": {},
   "outputs": [],
   "source": [
    "data = np.load(\"./OptimizationBasedModels/STORAGE/important_data_with_lambdas.npz\")"
   ]
  },
  {
   "cell_type": "code",
   "execution_count": 8,
   "id": "875f4b2f-0681-4d26-b93b-648dede3d81f",
   "metadata": {},
   "outputs": [
    {
     "data": {
      "text/plain": [
       "['failure_probabilities',\n",
       " 'successes',\n",
       " 's_values',\n",
       " 'statuses',\n",
       " 'failed_optimization_points',\n",
       " 'input_deviation_samples',\n",
       " 'lambda_sample_conditioned']"
      ]
     },
     "execution_count": 8,
     "metadata": {},
     "output_type": "execute_result"
    }
   ],
   "source": [
    "list(data.keys())"
   ]
  },
  {
   "cell_type": "code",
   "execution_count": 11,
   "id": "d0e4f55a-6800-4a08-9535-f1c4c770a41e",
   "metadata": {},
   "outputs": [
    {
     "data": {
      "text/plain": [
       "1000000"
      ]
     },
     "execution_count": 11,
     "metadata": {},
     "output_type": "execute_result"
    }
   ],
   "source": [
    "len(data['s_values'])"
   ]
  },
  {
   "cell_type": "code",
   "execution_count": 12,
   "id": "519a1473-4f24-423e-a8d4-2d49590e394f",
   "metadata": {},
   "outputs": [
    {
     "data": {
      "text/plain": [
       "800"
      ]
     },
     "execution_count": 12,
     "metadata": {},
     "output_type": "execute_result"
    }
   ],
   "source": [
    "len(data['failure_probabilities'])"
   ]
  },
  {
   "cell_type": "code",
   "execution_count": null,
   "id": "15947b06-85d0-418c-aec7-d210e52f8dbb",
   "metadata": {},
   "outputs": [],
   "source": []
  }
 ],
 "metadata": {
  "kernelspec": {
   "display_name": "Python 3 (ipykernel)",
   "language": "python",
   "name": "python3"
  },
  "language_info": {
   "codemirror_mode": {
    "name": "ipython",
    "version": 3
   },
   "file_extension": ".py",
   "mimetype": "text/x-python",
   "name": "python",
   "nbconvert_exporter": "python",
   "pygments_lexer": "ipython3",
   "version": "3.11.9"
  }
 },
 "nbformat": 4,
 "nbformat_minor": 5
}
